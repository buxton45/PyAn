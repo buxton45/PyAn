{
 "cells": [
  {
   "cell_type": "code",
   "execution_count": 1,
   "id": "85c914fa",
   "metadata": {},
   "outputs": [],
   "source": [
    "#!/usr/bin/env python\n",
    "\n",
    "import os\n",
    "import PyPDF2\n",
    "from pathlib import Path"
   ]
  },
  {
   "cell_type": "code",
   "execution_count": 2,
   "id": "3551d90f",
   "metadata": {},
   "outputs": [],
   "source": [
    "def merge_list(\n",
    "    files_to_merge, \n",
    "    output_path\n",
    "):\n",
    "    r\"\"\"\n",
    "    \"\"\"\n",
    "    #-------------------------\n",
    "    merger = PyPDF2.PdfFileMerger()\n",
    "    for pdf in files_to_merge:\n",
    "        try:\n",
    "            merger.append(open(pdf, 'rb'))\n",
    "        except PyPDF2.utils.PdfReadError:\n",
    "            print(\"invalid PDF file\")\n",
    "        else:\n",
    "            pass\n",
    "\n",
    "    if not os.path.exists(Path(output_path).parent):\n",
    "        os.makedirs(Path(output_path).parent)\n",
    "    with open(output_path, 'wb') as fout:\n",
    "        merger.write(fout)  "
   ]
  },
  {
   "cell_type": "code",
   "execution_count": 3,
   "id": "6828eae7",
   "metadata": {},
   "outputs": [],
   "source": [
    "def merge_list_and_rotate_if_needed(\n",
    "    files_to_merge, \n",
    "    output_path, \n",
    "    desired_orientation=0\n",
    "):\n",
    "    r\"\"\"\n",
    "    This should work for merging multi-page pdfs as well...\n",
    "    \"\"\"\n",
    "    #-------------------------\n",
    "    writer = PyPDF2.PdfFileWriter()\n",
    "    for pdf in files_to_merge:\n",
    "        try:\n",
    "            reader = PyPDF2.PdfFileReader(pdf)\n",
    "            n_pages = reader.numPages\n",
    "            for pagenum in range(n_pages):\n",
    "                page = reader.getPage(pagenum)\n",
    "                mb = page.mediaBox\n",
    "                orientation = page.get('/Rotate')\n",
    "                if orientation != desired_orientation:\n",
    "                    page.rotateClockwise(desired_orientation)\n",
    "                writer.addPage(page)\n",
    "        except PyPDF2.utils.PdfReadError:\n",
    "            print(\"invalid PDF file\")\n",
    "        else:\n",
    "            pass\n",
    "\n",
    "    if not os.path.exists(Path(output_path).parent):\n",
    "        os.makedirs(Path(output_path).parent)\n",
    "    with open(output_path, 'wb') as fout:\n",
    "        writer.write(fout)   "
   ]
  },
  {
   "cell_type": "code",
   "execution_count": 4,
   "id": "865b8bc6",
   "metadata": {},
   "outputs": [],
   "source": [
    "dir_to_merge = r'C:\\Users\\BUXTONJ\\Documents\\Analysis\\LocalDataStorage\\VIQ_Tray\\Batch_20200924\\Daifuku\\Projections\\Phantom_14'\n",
    "output_path = r'C:\\Users\\BUXTONJ\\Documents\\Analysis\\LocalDataStorage\\VIQ_Tray\\Batch_20200924\\Daifuku\\Projections\\Phantom_14\\All\\AllProjections.pdf'\n",
    "\n",
    "run_merge_dir = False\n",
    "\n",
    "if run_merge_dir:\n",
    "    files_in_dir = os.listdir(dir_to_merge)\n",
    "    files_in_dir = [os.path.join(dir_to_merge, x) for x in files_in_dir if os.path.splitext(x)[1].lower()=='.pdf']\n",
    "    merge_list(files_in_dir, output_path)"
   ]
  },
  {
   "cell_type": "code",
   "execution_count": 5,
   "id": "eb225c83",
   "metadata": {},
   "outputs": [],
   "source": [
    "dir_to_merge = r'C:\\Users\\BUXTONJ\\Documents\\Analysis\\LocalDataStorage\\VIQ\\Info\\Technical\\VIQ1and2'\n",
    "output_path =  r'C:\\Users\\BUXTONJ\\Documents\\Analysis\\LocalDataStorage\\VIQ\\Info\\Technical\\VIQ1and2\\All\\VIQ1and2.pdf'\n",
    "desired_orientation=270\n",
    "\n",
    "run_merge_list_and_rotate_if_needed = False\n",
    "\n",
    "if run_merge_list_and_rotate_if_needed:\n",
    "    files_in_dir = os.listdir(dir_to_merge)\n",
    "    files_in_dir = [os.path.join(dir_to_merge, x) for x in files_in_dir if os.path.splitext(x)[1].lower()=='.pdf']\n",
    "    merge_list_and_rotate_if_needed(files_in_dir, output_path, desired_orientation)"
   ]
  },
  {
   "cell_type": "code",
   "execution_count": null,
   "id": "54c9b8f3",
   "metadata": {},
   "outputs": [],
   "source": []
  },
  {
   "cell_type": "code",
   "execution_count": null,
   "id": "8d509f6e-4372-4569-8ff2-5010a9f5ac07",
   "metadata": {},
   "outputs": [],
   "source": [
    "def merge_all_pdfs_in_dir(\n",
    "    dir_to_merge, \n",
    "    output_path, \n",
    "    desired_orientation = 0\n",
    "):\n",
    "    r\"\"\"\n",
    "    \"\"\"\n",
    "    #-------------------------\n",
    "    # Find all PDF files in dir_to_merge\n",
    "    files_in_dir = os.listdir(dir_to_merge)\n",
    "    files_in_dir = [os.path.join(dir_to_merge, x) for x in files_in_dir if os.path.splitext(x)[1].lower()=='.pdf']\n",
    "    #-------------------------\n",
    "    if desired_orientation==0:\n",
    "        merge_list(\n",
    "            files_to_merge = files_in_dir, \n",
    "            output_path    = output_path\n",
    "        )\n",
    "    else:\n",
    "        merge_list_and_rotate_if_needed(\n",
    "            files_to_merge      = files_in_dir, \n",
    "            output_path         = output_path, \n",
    "            desired_orientation = desired_orientation\n",
    "        )        "
   ]
  },
  {
   "cell_type": "code",
   "execution_count": null,
   "id": "3889f3ef-0082-46b8-be4a-025a852e1155",
   "metadata": {},
   "outputs": [],
   "source": []
  }
 ],
 "metadata": {
  "kernelspec": {
   "display_name": "Python 3 (ipykernel)",
   "language": "python",
   "name": "python3"
  },
  "language_info": {
   "codemirror_mode": {
    "name": "ipython",
    "version": 3
   },
   "file_extension": ".py",
   "mimetype": "text/x-python",
   "name": "python",
   "nbconvert_exporter": "python",
   "pygments_lexer": "ipython3",
   "version": "3.11.7"
  }
 },
 "nbformat": 4,
 "nbformat_minor": 5
}
