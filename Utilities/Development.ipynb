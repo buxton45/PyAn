{
 "cells": [
  {
   "cell_type": "code",
   "execution_count": 1,
   "id": "d5fa25bb",
   "metadata": {},
   "outputs": [],
   "source": [
    "#!/usr/bin/env python\n",
    "\n",
    "from importlib import reload\n",
    "# e.g. importlib.reload(Utilities) after changes made\n",
    "\n",
    "import os\n",
    "import sys\n",
    "from pathlib import Path\n",
    "import re\n",
    "from difflib import SequenceMatcher\n",
    "import shutil\n",
    "import pandas as pd\n",
    "import time\n",
    "import xml.etree.ElementTree as ET\n",
    "#---------------------------------------------------------------------\n",
    "import MetricNames\n",
    "import Utilities\n",
    "import Utilities_df\n",
    "import Utilities_xml\n",
    "import Plot_Box_sns\n",
    "#---------------------------------------------------------------------"
   ]
  },
  {
   "cell_type": "code",
   "execution_count": 2,
   "id": "7fd751d3",
   "metadata": {},
   "outputs": [],
   "source": [
    "def ChangeAll_NodeAttrib_EDSName_Model(aNistFile, aNewEdsName, aSaveFile=None):\n",
    "    if aSaveFile is None:\n",
    "        aSaveFile=aNistFile\n",
    "\n",
    "    try:\n",
    "        tree = ET.parse(aNistFile)\n",
    "    except (EnvironmentError,\n",
    "           xml.parsers.expat.ExpatError) as err:\n",
    "        print(\"{0}: import error: {1}\".format(\n",
    "        os.path.basename(sys.argv[0]), err))\n",
    "        assert(0)\n",
    "\n",
    "    root = tree.getroot()\n",
    "    nist_result_nodes = root.findall('NISTResult')\n",
    "    for nist_result_node in nist_result_nodes:\n",
    "        nist_result_node.attrib['attribute'] = aNewEdsName\n",
    "        nist_result_node.find('EDSName').text = aNewEdsName\n",
    "        nist_result_node.find('Model').text = aNewEdsName\n",
    "    tree.write(aSaveFile, encoding=\"utf-8\", xml_declaration=True)"
   ]
  },
  {
   "cell_type": "code",
   "execution_count": 3,
   "id": "cada72bc",
   "metadata": {},
   "outputs": [],
   "source": [
    "def change_simple_node(nist_path, node_to_change, new_value, save_path=None):\n",
    "    #e.g. change EDSName, TrnId, etc.\n",
    "    if save_path is None:\n",
    "        save_path=nist_path\n",
    "\n",
    "    try:\n",
    "        tree = ET.parse(nist_path)\n",
    "    except (EnvironmentError,\n",
    "           xml.parsers.expat.ExpatError) as err:\n",
    "        print(\"{0}: import error: {1}\".format(\n",
    "        os.path.basename(sys.argv[0]), err))\n",
    "        assert(0)\n",
    "\n",
    "    root = tree.getroot()\n",
    "    nist_result_nodes = root.findall('NISTResult')\n",
    "    for nist_result_node in nist_result_nodes:\n",
    "        nist_result_node.find(node_to_change).text = new_value\n",
    "    tree.write(save_path, encoding=\"utf-8\", xml_declaration=True)"
   ]
  },
  {
   "cell_type": "code",
   "execution_count": null,
   "id": "adb4709d",
   "metadata": {},
   "outputs": [],
   "source": []
  }
 ],
 "metadata": {
  "kernelspec": {
   "display_name": "Python 3",
   "language": "python",
   "name": "python3"
  },
  "language_info": {
   "codemirror_mode": {
    "name": "ipython",
    "version": 3
   },
   "file_extension": ".py",
   "mimetype": "text/x-python",
   "name": "python",
   "nbconvert_exporter": "python",
   "pygments_lexer": "ipython3",
   "version": "3.8.8"
  }
 },
 "nbformat": 4,
 "nbformat_minor": 5
}
