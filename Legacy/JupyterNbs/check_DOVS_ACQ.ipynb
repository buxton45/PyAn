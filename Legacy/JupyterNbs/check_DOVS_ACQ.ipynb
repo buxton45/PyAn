{
 "cells": [
  {
   "cell_type": "code",
   "execution_count": null,
   "id": "78865c27",
   "metadata": {},
   "outputs": [],
   "source": [
    "%run ./check_DOVS_METHODS.ipynb"
   ]
  },
  {
   "cell_type": "code",
   "execution_count": null,
   "id": "f1d9dc36",
   "metadata": {},
   "outputs": [],
   "source": [
    "from importlib import reload\n",
    "#reload(Utilities)\n",
    "#reload(clm)\n",
    "\n",
    "import sys, os\n",
    "import re\n",
    "\n",
    "import pandas as pd\n",
    "import numpy as np\n",
    "from pandas.api.types import is_numeric_dtype, is_datetime64_dtype, is_timedelta64_dtype\n",
    "from scipy import stats\n",
    "import datetime\n",
    "import time\n",
    "from natsort import natsorted, ns\n",
    "from packaging import version\n",
    "\n",
    "import itertools\n",
    "\n",
    "import pyodbc\n",
    "#---------------------------------------------------------------------\n",
    "sys.path.insert(0, os.path.realpath('..'))\n",
    "import Utilities_config\n",
    "#-----\n",
    "import CommonLearningMethods as clm\n",
    "#-----\n",
    "from MeterPremise import MeterPremise\n",
    "#-----\n",
    "from AMI_SQL import AMI_SQL, DfToSqlMap\n",
    "from AMINonVee_SQL import AMINonVee_SQL\n",
    "from AMIEndEvents_SQL import AMIEndEvents_SQL\n",
    "from AMIUsgInst_SQL import AMIUsgInst_SQL\n",
    "from DOVSOutages_SQL import DOVSOutages_SQL\n",
    "#-----\n",
    "from GenAn import GenAn\n",
    "from AMINonVee import AMINonVee\n",
    "from AMIEndEvents import AMIEndEvents\n",
    "from AMIUsgInst import AMIUsgInst\n",
    "from DOVSOutages import DOVSOutages\n",
    "#---------------------------------------------------------------------\n",
    "import matplotlib as mpl\n",
    "import matplotlib.pyplot as plt\n",
    "import seaborn as sns\n",
    "from matplotlib.backends.backend_pdf import PdfPages\n",
    "import matplotlib.patches as mpatches\n",
    "from matplotlib.lines import Line2D\n",
    "import matplotlib.ticker as ticker\n",
    "from matplotlib import dates\n",
    "#---------------------------------------------------------------------\n",
    "sys.path.insert(0, Utilities_config.get_sql_aids_dir())\n",
    "import Utilities_sql\n",
    "import TableInfos\n",
    "from TableInfos import TableInfo\n",
    "from SQLElement import SQLElement\n",
    "from SQLElementsCollection import SQLElementsCollection\n",
    "from SQLSelect import SQLSelectElement, SQLSelect\n",
    "from SQLFrom import SQLFrom\n",
    "from SQLWhere import SQLWhereElement, SQLWhere\n",
    "from SQLJoin import SQLJoin, SQLJoinCollection\n",
    "from SQLGroupBy import SQLGroupByElement, SQLGroupBy\n",
    "from SQLHaving import SQLHaving\n",
    "from SQLOrderBy import SQLOrderByElement, SQLOrderBy\n",
    "from SQLQuery import SQLQuery\n",
    "from SQLQueryGeneric import SQLQueryGeneric\n",
    "#---------------------------------------------------------------------\n",
    "sys.path.insert(0, Utilities_config.get_utilities_dir())\n",
    "import Utilities\n",
    "import Utilities_df\n",
    "import Utilities_dt\n",
    "from Utilities_df import DFConstructType\n",
    "import Plot_General\n",
    "import Plot_Box_sns\n",
    "import GrubbsTest"
   ]
  },
  {
   "cell_type": "code",
   "execution_count": null,
   "id": "c025651d",
   "metadata": {},
   "outputs": [],
   "source": []
  },
  {
   "cell_type": "code",
   "execution_count": null,
   "id": "f88d0077",
   "metadata": {},
   "outputs": [],
   "source": [
    "# class OPCO:\n",
    "#     r\"\"\"\n",
    "#     A simple class to hold OPCO information\n",
    "#     \"\"\"\n",
    "#     def __init__(\n",
    "#         self, \n",
    "#         opco, \n",
    "#         name,\n",
    "#         ID, \n",
    "#         states\n",
    "#     ):\n",
    "#         self.opco   = opco\n",
    "#         self.name   = name\n",
    "#         self.ID     = ID\n",
    "#         self.states = states\n",
    "        \n",
    "        \n",
    "# OPCO_ap = OPCO(\n",
    "#     opco='ap', \n",
    "#     name='AEP-Appalachian Power', \n",
    "#     ID=1, \n",
    "#     states=['TN', 'VA', 'WV']\n",
    "# )\n",
    "\n",
    "# OPCO_im = OPCO(\n",
    "#     opco='im', \n",
    "#     name='AEP-Indiana Michigan Power', \n",
    "#     ID=4, \n",
    "#     states=['IN', 'MI']\n",
    "# )\n",
    "\n",
    "# OPCO_oh = OPCO(\n",
    "#     opco='oh', \n",
    "#     name='AEP-Ohio', \n",
    "#     ID=3, \n",
    "#     states=['IN', 'OH', 'OK']\n",
    "# )\n",
    "\n",
    "# OPCO_pso = OPCO(\n",
    "#     opco='pso', \n",
    "#     name='AEP-Public Service Co of OK', \n",
    "#     ID=5, \n",
    "#     states=['OK']\n",
    "# )\n",
    "\n",
    "# OPCO_swp = OPCO(\n",
    "#     opco='swp', \n",
    "#     name='AEP-Southwestern Electric Power', \n",
    "#     ID=6, \n",
    "#     states=['AR', 'LA', 'TX']\n",
    "# )\n",
    "\n",
    "# OPCO_tx = OPCO(\n",
    "#     opco='tx', \n",
    "#     name=AEP-Texas, \n",
    "#     ID=7, \n",
    "#     states=['TX']\n",
    "# )"
   ]
  },
  {
   "cell_type": "code",
   "execution_count": null,
   "id": "d5e19d13",
   "metadata": {},
   "outputs": [],
   "source": [
    "opco_to_id = dict(\n",
    "    ap  = 1, \n",
    "    ky  = 2, \n",
    "    oh  = 3, \n",
    "    im  = 4, \n",
    "    pso = 5, \n",
    "    swp = 6, \n",
    "    tx  = 7\n",
    ")"
   ]
  },
  {
   "cell_type": "code",
   "execution_count": null,
   "id": "10704a48",
   "metadata": {},
   "outputs": [],
   "source": [
    "save_dfs=True\n",
    "\n",
    "date_0 = '2024-12-29'\n",
    "date_1 = '2025-01-04'\n",
    "\n",
    "# states=['OH']\n",
    "states=None\n",
    "\n",
    "# opcos='oh'\n",
    "opcos=None\n",
    "\n",
    "# CI_NB_min=15\n",
    "CI_NB_min=None\n",
    "\n",
    "conn_outages = Utilities.get_utldb01p_oracle_connection()\n",
    "#--------------------------------------------------\n",
    "# For this DAQ, I am doing one opco at a time\n",
    "# assert(isinstance(opcos, str))\n",
    "save_dir_base = r'C:\\Users\\s346557\\Documents\\LocalData\\dovs_check'\n",
    "save_subdir = f\"{date_0.replace('-','')}_{date_1.replace('-','')}\"\n",
    "save_dir_base = os.path.join(save_dir_base, save_subdir)\n",
    "if opcos:\n",
    "    save_dir_base = os.path.join(save_dir_base, opcos)\n",
    "else:\n",
    "    save_dir_base = os.path.join(save_dir_base, 'AllOPCOs')\n",
    "if not os.path.exists(save_dir_base):\n",
    "    os.makedirs(save_dir_base)"
   ]
  },
  {
   "cell_type": "code",
   "execution_count": null,
   "id": "6be6f8e0",
   "metadata": {},
   "outputs": [],
   "source": [
    "#--------------------------------------------------\n",
    "sql_outage_full = DOVSOutages_SQL.build_sql_std_outage(\n",
    "    mjr_mnr_cause=None, \n",
    "    include_premise=True, \n",
    "    date_range=[date_0, date_1], \n",
    "    states=states, \n",
    "    opcos=opcos, \n",
    "    CI_NB_min=CI_NB_min\n",
    ").get_sql_statement()\n",
    "#-----\n",
    "print(f'sql_outage_full:\\n{sql_outage_full}\\n\\n')\n",
    "#-----\n",
    "df_outage_OG = pd.read_sql_query(\n",
    "    sql_outage_full, \n",
    "    conn_outages, \n",
    "    dtype={\n",
    "        'CI_NB':np.int32, \n",
    "        'CMI_NB':np.float64, \n",
    "        'OUTG_REC_NB':np.int32\n",
    "    }\n",
    ")\n",
    "#-----\n",
    "print(f\"df_outage_OG.shape = {df_outage_OG.shape}\")\n",
    "print(f\"# OUTG_REC_NBs     = {df_outage_OG['OUTG_REC_NB'].nunique()}\")"
   ]
  },
  {
   "cell_type": "code",
   "execution_count": null,
   "id": "1bf8d9bd",
   "metadata": {},
   "outputs": [],
   "source": []
  },
  {
   "cell_type": "code",
   "execution_count": null,
   "id": "23f58927",
   "metadata": {},
   "outputs": [],
   "source": [
    "# save_dir_base = r'C:\\Users\\s346557\\Documents\\LocalData\\dovs_check\\forAmanda\\SN_882735506'\n",
    "# states=['OH']\n",
    "# opcos='oh'\n",
    "# conn_outages = Utilities.get_utldb01p_oracle_connection()\n",
    "# #--------------------------------------------------\n",
    "# sql_outage_full = DOVSOutages_SQL.build_sql_std_outage(\n",
    "#     mjr_mnr_cause=None, \n",
    "#     include_premise=True, \n",
    "#     outg_rec_nbs=['11145126', '12522511', '13149594', '13169176', '13219189'], \n",
    "#     states=states\n",
    "# ).get_sql_statement()\n",
    "# #-----\n",
    "# print(f'sql_outage_full:\\n{sql_outage_full}\\n\\n')\n",
    "# #-----\n",
    "# df_outage_OG = pd.read_sql_query(\n",
    "#     sql_outage_full, \n",
    "#     conn_outages, \n",
    "#     dtype={\n",
    "#         'CI_NB':np.int32, \n",
    "#         'CMI_NB':np.float64, \n",
    "#         'OUTG_REC_NB':np.int32\n",
    "#     }\n",
    "# )\n",
    "# #-----\n",
    "# print(f\"df_outage_OG.shape = {df_outage_OG.shape}\")\n",
    "# print(f\"# OUTG_REC_NBs     = {df_outage_OG['OUTG_REC_NB'].nunique()}\")"
   ]
  },
  {
   "cell_type": "code",
   "execution_count": null,
   "id": "6e2ba7ce",
   "metadata": {},
   "outputs": [],
   "source": [
    "#-------------------------\n",
    "if save_dfs:\n",
    "    df_outage_OG.to_pickle(os.path.join(save_dir_base, 'df_outage.pkl'))\n",
    "#-------------------------\n",
    "outg_rec_nbs_all = df_outage_OG['OUTG_REC_NB'].unique().tolist()\n",
    "df_outage = df_outage_OG.copy()"
   ]
  },
  {
   "cell_type": "code",
   "execution_count": null,
   "id": "97105550",
   "metadata": {},
   "outputs": [],
   "source": [
    "start=time.time()\n",
    "#-----\n",
    "# df_mp_outg_OG = build_active_MP_for_xfmrs_in_outages_df(\n",
    "#     df_outage=df_outage, \n",
    "#     prem_nb_col='PREMISE_NB', \n",
    "#     is_slim=False, \n",
    "#     addtnl_mp_df_curr_cols=['technology_tx'], \n",
    "#     addtnl_mp_df_hist_cols=['technology_tx']\n",
    "# )\n",
    "# #-----\n",
    "# print(f'Time for build_active_MP_for_xfmrs_in_outages_df: {time.time()-start}')\n",
    "df_mp_outg_OG = build_active_MP_for_outages_df(\n",
    "    df_outage=df_outage, \n",
    "    prem_nb_col='PREMISE_NB', \n",
    "    is_slim=False, \n",
    "    addtnl_mp_df_curr_cols=['technology_tx'], \n",
    "    addtnl_mp_df_hist_cols=['technology_tx'], \n",
    "    assert_all_PNs_found=False\n",
    ")\n",
    "#-----\n",
    "print(f'Time for build_active_MP_for_outages_df: {time.time()-start}')\n",
    "start=time.time()\n",
    "#-----\n",
    "df_mp_outg_OG['inst_ts'] = pd.to_datetime(df_mp_outg_OG['inst_ts'])\n",
    "df_mp_outg_OG['rmvl_ts'] = pd.to_datetime(df_mp_outg_OG['rmvl_ts'])\n",
    "#-------------------------\n",
    "if save_dfs:\n",
    "    df_mp_outg_OG.to_pickle(os.path.join(save_dir_base, 'df_mp_outg_b4_dupl_rmvl.pkl'))\n",
    "#-------------------------\n",
    "df_mp_outg = MeterPremise.drop_approx_mp_duplicates(\n",
    "    mp_df = df_mp_outg_OG.copy(), \n",
    "    fuzziness=pd.Timedelta('1 hour'), \n",
    "    assert_single_overlap=True, \n",
    "    addtnl_groupby_cols=['OUTG_REC_NB', 'technology_tx'], \n",
    "    gpby_dropna=False\n",
    ")\n",
    "#-----\n",
    "print(f'Time for drop_approx_mp_duplicates: {time.time()-start}')\n",
    "#-------------------------\n",
    "if save_dfs:\n",
    "    df_mp_outg.to_pickle(os.path.join(save_dir_base, 'df_mp_outg.pkl'))\n",
    "#-------------------------"
   ]
  },
  {
   "cell_type": "code",
   "execution_count": null,
   "id": "624f6e56",
   "metadata": {},
   "outputs": [],
   "source": [
    "# Some premises are listed in DOVS are simply not found in AMI\n",
    "print(f\"#PNs DOVS: {df_outage['PREMISE_NB'].nunique()}\")\n",
    "print(f\"#PNs AMI:  {df_mp_outg['prem_nb'].nunique()}\")"
   ]
  },
  {
   "cell_type": "code",
   "execution_count": null,
   "id": "d6201ec6",
   "metadata": {},
   "outputs": [],
   "source": [
    "# Really only want one entry per meter (here, meter being a mfr_devc_ser_nbr/prem_nb combination)\n",
    "# ALthough drop_duplicates was used, multiple entries could still exist if, e.g., a meter has two\n",
    "#   non-fuzzy-overlapping intervals\n",
    "assert(all(df_mp_outg[['mfr_devc_ser_nbr', 'prem_nb', 'OUTG_REC_NB']].value_counts()==1))\n",
    "\n",
    "# # Simple-minded (if assertion fails): Let's just keep the one with the most recent install date\n",
    "# df_mp_outg = df_mp_outg.iloc[df_mp_outg.reset_index().groupby(['mfr_devc_ser_nbr', 'prem_nb', 'OUTG_REC_NB'])['inst_ts'].idxmax()]\n",
    "# assert(all(df_mp_outg[['mfr_devc_ser_nbr', 'prem_nb', 'OUTG_REC_NB']].value_counts()==1))"
   ]
  },
  {
   "cell_type": "code",
   "execution_count": null,
   "id": "894be727",
   "metadata": {},
   "outputs": [],
   "source": [
    "# # Keep only trsf_pole_nbs with all meters of type AMI\n",
    "# df_mp_outg_ami = df_mp_outg.groupby(['trsf_pole_nb']).filter(lambda x: all(x['technology_tx']=='AMI'))\n",
    "\n",
    "# Keep only outages with all meters of typr AMI\n",
    "df_mp_outg_ami = df_mp_outg.groupby(['OUTG_REC_NB']).filter(lambda x: all(x['technology_tx']=='AMI'))\n",
    "#-------------------------\n",
    "if save_dfs:\n",
    "    df_mp_outg_ami.to_pickle(os.path.join(save_dir_base, 'df_mp_outg_ami.pkl'))\n",
    "#-------------------------"
   ]
  },
  {
   "cell_type": "code",
   "execution_count": null,
   "id": "d6d45061",
   "metadata": {},
   "outputs": [],
   "source": [
    "print(df_mp_outg.shape)\n",
    "print(df_mp_outg_ami.shape)"
   ]
  },
  {
   "cell_type": "code",
   "execution_count": null,
   "id": "b8d79902",
   "metadata": {},
   "outputs": [],
   "source": [
    "print(df_mp_outg['OUTG_REC_NB'].nunique())\n",
    "print(df_mp_outg_ami['OUTG_REC_NB'].nunique())"
   ]
  },
  {
   "cell_type": "code",
   "execution_count": null,
   "id": "7b4306e7",
   "metadata": {},
   "outputs": [],
   "source": []
  },
  {
   "cell_type": "code",
   "execution_count": null,
   "id": "e4dc01c7",
   "metadata": {},
   "outputs": [],
   "source": [
    "ami_outg_rec_nbs = df_mp_outg_ami['OUTG_REC_NB'].unique().tolist()\n",
    "df_outage_ami = df_outage[df_outage['OUTG_REC_NB'].isin(ami_outg_rec_nbs)]"
   ]
  },
  {
   "cell_type": "markdown",
   "id": "8f839961",
   "metadata": {},
   "source": [
    "# NOTE:\n",
    "- Here, when running batch DAQ, we need to merge DOVS with MP so we can group by trsf_pole_nb later when actually running the DAQ\n",
    "- This is mainly a convenience thing, so that (along with OUTG_REC_NB and operating company info) are ready in the output DAQ files (otherwise, I would have to populate these data at run time, which would be annoying)"
   ]
  },
  {
   "cell_type": "code",
   "execution_count": null,
   "id": "39867577",
   "metadata": {},
   "outputs": [],
   "source": [
    "df_outage_ami_w_mp = DOVSOutages.merge_df_outage_with_mp(\n",
    "    df_outage=df_outage_ami.copy(), \n",
    "    df_mp=df_mp_outg_ami, \n",
    "    merge_on_outg=['OUTG_REC_NB', 'PREMISE_NB'], \n",
    "    merge_on_mp=['OUTG_REC_NB', 'prem_nb'], \n",
    "    cols_to_include_mp=None, \n",
    "    drop_cols = None, \n",
    "    rename_cols=None, \n",
    "    inplace=True\n",
    ")\n",
    "#-------------------------\n",
    "if save_dfs:\n",
    "    df_outage_ami_w_mp.to_pickle(os.path.join(save_dir_base, 'df_outage_ami_w_mp.pkl'))\n",
    "#-------------------------"
   ]
  },
  {
   "cell_type": "code",
   "execution_count": null,
   "id": "7c563733",
   "metadata": {},
   "outputs": [],
   "source": [
    "df_outage_ami_w_mp['OUTG_REC_NB'].nunique()"
   ]
  },
  {
   "cell_type": "code",
   "execution_count": null,
   "id": "d1e12503",
   "metadata": {},
   "outputs": [],
   "source": [
    "df_outage_ami_w_mp_slim = DOVSOutages.consolidate_df_outage(\n",
    "    df_outage_ami_w_mp, \n",
    "    addtnl_grpby_cols=['trsf_pole_nb'], \n",
    "    set_outg_rec_nb_as_index=False, \n",
    "    gpby_dropna=False\n",
    ")"
   ]
  },
  {
   "cell_type": "code",
   "execution_count": null,
   "id": "695f6677",
   "metadata": {},
   "outputs": [],
   "source": [
    "df_outage_ami_w_mp_slim = DOVSOutages.set_search_time_in_outage_df(\n",
    "    df_outage=df_outage_ami_w_mp_slim, \n",
    "    search_time_half_window=pd.Timedelta('24 hours')\n",
    ")\n",
    "#-------------------------\n",
    "if save_dfs:\n",
    "    df_outage_ami_w_mp_slim.to_pickle(os.path.join(save_dir_base, 'df_outage_ami_w_mp_slim.pkl'))\n",
    "#-------------------------"
   ]
  },
  {
   "cell_type": "code",
   "execution_count": null,
   "id": "331fe165",
   "metadata": {},
   "outputs": [],
   "source": [
    "df_outage_ami_w_mp_slim['OUTG_REC_NB'].nunique()"
   ]
  },
  {
   "cell_type": "code",
   "execution_count": null,
   "id": "bab7e472",
   "metadata": {},
   "outputs": [],
   "source": [
    "# The following will find OUTG_REC_NB, trsf_pole_nb groups (since DOVSOutages.consolidate_df_outage was run with \n",
    "#   addtnl_grpby_cols=['trsf_pole_nb']) for which the PNs found by DOVS are not equal to those found in MP\n",
    "# BUT, if they're missing from MP, does this necessarily mean they'll be missing from interval data?!\n",
    "#   SO, I'm not 100% sure whether or not these should be eliminated at this stage.\n",
    "#   Keeping them at this point will just lead to a slightly longer data collection time.\n",
    "#   If they should be left out, the functionality of check_DOVS will eliminate them\n",
    "df_outg_missing_PNs = df_outage_ami_w_mp_slim[df_outage_ami_w_mp_slim.apply(\n",
    "    lambda x: len(set(x['PREMISE_NBS']).symmetric_difference(set(x['prem_nb'])))!=0, \n",
    "    axis=1\n",
    ")]\n",
    "outg_rec_nbs_to_exclude = df_outg_missing_PNs['OUTG_REC_NB'].unique().tolist()\n",
    "#-----\n",
    "df_exclude_missing = df_outage_ami_w_mp_slim[~df_outage_ami_w_mp_slim['OUTG_REC_NB'].isin(outg_rec_nbs_to_exclude)]\n",
    "#-----\n",
    "print('With excluding outages with premises missing from MP')\n",
    "print(f\"# Outages: {df_exclude_missing['OUTG_REC_NB'].nunique()}\")\n",
    "print(f\"#PNs DOVS: {len(set(df_exclude_missing['PREMISE_NBS'].sum()))}\")\n",
    "print(f\"#PNs AMI:  {len(set(df_exclude_missing['prem_nb'].sum()))}\")\n",
    "print()\n",
    "#-----\n",
    "print('Without excluding outages with premises missing from MP')\n",
    "print(f\"# Outages: {df_outage_ami_w_mp_slim['OUTG_REC_NB'].nunique()}\")\n",
    "print(f\"#PNs DOVS: {len(set(df_outage_ami_w_mp_slim['PREMISE_NBS'].sum()))}\")\n",
    "print(f\"#PNs AMI:  {len(set(df_outage_ami_w_mp_slim['prem_nb'].sum()))}\")"
   ]
  },
  {
   "cell_type": "code",
   "execution_count": null,
   "id": "c87a6dd8",
   "metadata": {},
   "outputs": [],
   "source": []
  },
  {
   "cell_type": "markdown",
   "id": "c377ea44",
   "metadata": {},
   "source": [
    "## AMI NonVee"
   ]
  },
  {
   "cell_type": "code",
   "execution_count": null,
   "id": "39c411fd-b566-4092-a910-5e9a4b9a33a4",
   "metadata": {},
   "outputs": [],
   "source": [
    "# df_outage_ami_w_mp_slim = pd.read_pickle(os.path.join(save_dir_base, 'df_outage_ami_w_mp_slim.pkl'))"
   ]
  },
  {
   "cell_type": "code",
   "execution_count": null,
   "id": "49fc8b46",
   "metadata": {},
   "outputs": [],
   "source": [
    "#-------------------------\n",
    "df_construct_type=DFConstructType.kRunSqlQuery\n",
    "contstruct_df_args_ami=None\n",
    "# addtnl_groupby_cols=['OUTG_REC_NB', 'trsf_pole_nb']\n",
    "addtnl_groupby_cols=['OUTG_REC_NB', 'trsf_pole_nb', 'OPERATING_UNIT_ID']\n",
    "\n",
    "cols_of_interest_ami = TableInfos.AMINonVee_TI.std_columns_of_interest\n",
    "# batch_size=100\n",
    "batch_size=25\n",
    "verbose=True\n",
    "n_update=1"
   ]
  },
  {
   "cell_type": "code",
   "execution_count": null,
   "id": "dfae7365-843b-427b-b37b-e5c3cc5bfd61",
   "metadata": {},
   "outputs": [],
   "source": []
  },
  {
   "cell_type": "code",
   "execution_count": null,
   "id": "26732a25",
   "metadata": {},
   "outputs": [],
   "source": [
    "ami_sql_function_kwargs = dict(\n",
    "    cols_of_interest=cols_of_interest_ami, \n",
    "    df_outage=df_outage_ami_w_mp_slim, \n",
    "    join_mp_args=False, \n",
    "    df_args = dict(\n",
    "        addtnl_groupby_cols=addtnl_groupby_cols, \n",
    "        mapping_to_ami=DfToSqlMap(df_col='PREMISE_NBS', kwarg='premise_nbs', sql_col='aep_premise_nb'), \n",
    "        is_df_consolidated=True\n",
    "    ), \n",
    "    field_to_split='df_outage', \n",
    "    field_to_split_location_in_kwargs=['df_outage'], \n",
    "    save_and_dump=True,  \n",
    "    sort_coll_to_split=True,\n",
    "    batch_size=batch_size, verbose=verbose, n_update=n_update\n",
    ")\n",
    "addtnl_ami_sql_function_kwargs = dict(\n",
    "    build_sql_function_kwargs=dict(opco=opcos)\n",
    ")\n",
    "ami_sql_function_kwargs = {**ami_sql_function_kwargs, \n",
    "                           **addtnl_ami_sql_function_kwargs}\n",
    "\n",
    "\n",
    "save_args = dict(\n",
    "    save_to_file=True, \n",
    "    save_dir = os.path.join(save_dir_base, 'AMINonVee'), \n",
    "    save_name=r'ami_nonvee.csv', \n",
    "    index=True\n",
    ")"
   ]
  },
  {
   "cell_type": "code",
   "execution_count": null,
   "id": "8b27aab4",
   "metadata": {
    "scrolled": true
   },
   "outputs": [],
   "source": [
    "# start=time.time()\n",
    "# ami_nonvee = AMINonVee(\n",
    "#     df_construct_type=df_construct_type, \n",
    "#     contstruct_df_args = contstruct_df_args_ami, \n",
    "#     build_sql_function=AMINonVee_SQL.build_sql_usg_for_outages, \n",
    "#     build_sql_function_kwargs=ami_sql_function_kwargs, \n",
    "#     init_df_in_constructor=True, \n",
    "#     save_args=save_args\n",
    "# )\n",
    "# build_time = time.time()-start\n",
    "# print(build_time)"
   ]
  },
  {
   "cell_type": "code",
   "execution_count": null,
   "id": "1e234874",
   "metadata": {
    "scrolled": true
   },
   "outputs": [],
   "source": [
    "# start=time.time()\n",
    "\n",
    "# while True:\n",
    "#     try:\n",
    "#         ami_nonvee = AMINonVee(\n",
    "#             df_construct_type=df_construct_type, \n",
    "#             contstruct_df_args = contstruct_df_args_ami, \n",
    "#             build_sql_function=AMINonVee_SQL.build_sql_usg_for_outages, \n",
    "#             build_sql_function_kwargs=ami_sql_function_kwargs, \n",
    "#             init_df_in_constructor=True, \n",
    "#             save_args=save_args\n",
    "#         )\n",
    "#         break # stop the loop if the function completes sucessfully\n",
    "#     except Exception as e:\n",
    "#         print(\"Function errored out!\", e)\n",
    "#         print(\"Retrying ... \")\n",
    "        \n",
    "# build_time = time.time()-start\n",
    "# print(build_time)"
   ]
  },
  {
   "cell_type": "code",
   "execution_count": null,
   "id": "10041c4f-45ec-4b49-8d28-5a2c28317108",
   "metadata": {},
   "outputs": [],
   "source": [
    "start=time.time()\n",
    "\n",
    "exit_status = Utilities.run_tryexceptwhile_process(\n",
    "    func                = AMINonVee,\n",
    "    func_args_dict      = dict(\n",
    "        df_construct_type         =df_construct_type, \n",
    "        contstruct_df_args        = contstruct_df_args_ami, \n",
    "        build_sql_function        = AMINonVee_SQL.build_sql_usg_for_outages, \n",
    "        build_sql_function_kwargs = ami_sql_function_kwargs, \n",
    "        init_df_in_constructor    = True, \n",
    "        save_args                 = save_args\n",
    "    ), \n",
    "    max_calls_per_min   = 1, \n",
    "    lookback_period_min = 15, \n",
    "    max_calls_absolute  = 1000, \n",
    "    verbose             = True\n",
    ")\n",
    "print(f'exit_status = {exit_status}')\n",
    "\n",
    "build_time = time.time()-start\n",
    "print(build_time)"
   ]
  },
  {
   "cell_type": "code",
   "execution_count": null,
   "id": "4a2c5cbd-3fa2-4456-b864-3b1c9e1e2c2e",
   "metadata": {},
   "outputs": [],
   "source": []
  },
  {
   "cell_type": "code",
   "execution_count": null,
   "id": "536b5489",
   "metadata": {},
   "outputs": [],
   "source": []
  },
  {
   "cell_type": "markdown",
   "id": "e612eebd",
   "metadata": {},
   "source": [
    "# AMI End Events"
   ]
  },
  {
   "cell_type": "code",
   "execution_count": null,
   "id": "f3265220",
   "metadata": {},
   "outputs": [],
   "source": [
    "#-------------------------\n",
    "df_construct_type=DFConstructType.kRunSqlQuery\n",
    "contstruct_df_args_end_events=None\n",
    "# addtnl_groupby_cols=['OUTG_REC_NB', 'trsf_pole_nb']\n",
    "addtnl_groupby_cols=['OUTG_REC_NB', 'trsf_pole_nb', 'OPERATING_UNIT_ID']\n",
    "\n",
    "cols_of_interest_end_dev_event = TableInfos.AMIEndEvents_TI.std_columns_of_interest\n",
    "batch_size=100\n",
    "verbose=True\n",
    "n_update=1"
   ]
  },
  {
   "cell_type": "code",
   "execution_count": null,
   "id": "d97d061f",
   "metadata": {},
   "outputs": [],
   "source": [
    "end_events_sql_function_kwargs = dict(\n",
    "    cols_of_interest=cols_of_interest_end_dev_event, \n",
    "    df_outage=df_outage_ami_w_mp_slim, \n",
    "    join_mp_args=False, \n",
    "    df_args = dict(\n",
    "        addtnl_groupby_cols=addtnl_groupby_cols, \n",
    "        mapping_to_ami=DfToSqlMap(df_col='PREMISE_NBS', kwarg='premise_nbs', sql_col='aep_premise_nb'), \n",
    "        is_df_consolidated=True\n",
    "    ), \n",
    "    field_to_split='df_outage', \n",
    "    field_to_split_location_in_kwargs=['df_outage'], \n",
    "    save_and_dump=True, \n",
    "    sort_coll_to_split=True,\n",
    "    batch_size=batch_size, verbose=verbose, n_update=n_update\n",
    ")\n",
    "addtnl_end_events_sql_function_kwargs = dict(\n",
    "    build_sql_function_kwargs=dict(opco=opcos)\n",
    ")\n",
    "end_events_sql_function_kwargs = {**end_events_sql_function_kwargs, \n",
    "                                  **addtnl_end_events_sql_function_kwargs}\n",
    "\n",
    "end_events_save_args = dict(\n",
    "    save_to_file=True, \n",
    "    save_dir = os.path.join(save_dir_base, 'EndEvents'), \n",
    "    save_name=r'end_events.csv', \n",
    "    index=True\n",
    ")"
   ]
  },
  {
   "cell_type": "code",
   "execution_count": null,
   "id": "6531db36",
   "metadata": {
    "scrolled": true
   },
   "outputs": [],
   "source": [
    "# start=time.time()\n",
    "# end_events = AMIEndEvents(\n",
    "#     df_construct_type=df_construct_type, \n",
    "#     contstruct_df_args = contstruct_df_args_end_events, \n",
    "#     build_sql_function=AMIEndEvents_SQL.build_sql_end_events_for_outages, \n",
    "#     build_sql_function_kwargs=end_events_sql_function_kwargs, \n",
    "#     init_df_in_constructor=True, \n",
    "#     save_args=end_events_save_args\n",
    "# )\n",
    "# end_events_build_time = time.time()-start"
   ]
  },
  {
   "cell_type": "code",
   "execution_count": null,
   "id": "c8c9c9e5",
   "metadata": {},
   "outputs": [],
   "source": [
    "# start=time.time()\n",
    "\n",
    "# while True:\n",
    "#     try:\n",
    "#         end_events = AMIEndEvents(\n",
    "#             df_construct_type=df_construct_type, \n",
    "#             contstruct_df_args = contstruct_df_args_end_events, \n",
    "#             build_sql_function=AMIEndEvents_SQL.build_sql_end_events_for_outages, \n",
    "#             build_sql_function_kwargs=end_events_sql_function_kwargs, \n",
    "#             init_df_in_constructor=True, \n",
    "#             save_args=end_events_save_args\n",
    "#         )\n",
    "#         break # stop the loop if the function completes sucessfully\n",
    "#     except Exception as e:\n",
    "#         print(\"Function errored out!\", e)\n",
    "#         print(\"Retrying ... \")\n",
    "        \n",
    "# end_events_build_time = time.time()-start\n",
    "# print(end_events_build_time)"
   ]
  },
  {
   "cell_type": "code",
   "execution_count": null,
   "id": "9d0be246-76dc-448f-b169-abab83d73851",
   "metadata": {},
   "outputs": [],
   "source": [
    "start=time.time()\n",
    "\n",
    "exit_status = Utilities.run_tryexceptwhile_process(\n",
    "    func                = AMIEndEvents,\n",
    "    func_args_dict      = dict(\n",
    "        df_construct_type         = df_construct_type, \n",
    "        contstruct_df_args        = contstruct_df_args_end_events, \n",
    "        build_sql_function        = AMIEndEvents_SQL.build_sql_end_events_for_outages, \n",
    "        build_sql_function_kwargs = end_events_sql_function_kwargs, \n",
    "        init_df_in_constructor    = True, \n",
    "        save_args                 = end_events_save_args\n",
    "    ), \n",
    "    max_calls_per_min   = 1, \n",
    "    lookback_period_min = 15, \n",
    "    max_calls_absolute  = 1000, \n",
    "    verbose             = True\n",
    ")\n",
    "print(f'exit_status = {exit_status}')\n",
    "\n",
    "build_time = time.time()-start\n",
    "print(build_time)"
   ]
  },
  {
   "cell_type": "code",
   "execution_count": null,
   "id": "f6cd3b85-15e7-4615-8df6-b947f2e5b7b3",
   "metadata": {},
   "outputs": [],
   "source": []
  },
  {
   "cell_type": "code",
   "execution_count": null,
   "id": "73a8d82f-2a20-4640-94d1-d08caeceb544",
   "metadata": {},
   "outputs": [],
   "source": []
  },
  {
   "cell_type": "code",
   "execution_count": null,
   "id": "9e990bc7",
   "metadata": {},
   "outputs": [],
   "source": [
    "assert(0)"
   ]
  },
  {
   "cell_type": "code",
   "execution_count": null,
   "id": "5a1180d3",
   "metadata": {},
   "outputs": [],
   "source": [
    "len(set(df_outage_ami_w_mp_slim[df_outage_ami_w_mp_slim['OUTG_REC_NB']==11145126]['PREMISE_NBS'].sum()))"
   ]
  },
  {
   "cell_type": "code",
   "execution_count": null,
   "id": "849038ca",
   "metadata": {},
   "outputs": [],
   "source": [
    "df_outage_ami_w_mp[df_outage_ami_w_mp['OUTG_REC_NB']==11145126]['PREMISE_NB'].nunique()"
   ]
  },
  {
   "cell_type": "code",
   "execution_count": null,
   "id": "3f889988",
   "metadata": {},
   "outputs": [],
   "source": [
    "pns_old = df_outage_ami_w_mp_slim_OLD[df_outage_ami_w_mp_slim_OLD['OUTG_REC_NB']==11145126]['PREMISE_NBS']"
   ]
  },
  {
   "cell_type": "code",
   "execution_count": null,
   "id": "9f2f9901",
   "metadata": {},
   "outputs": [],
   "source": [
    "len(set(pns_old.values[0]))"
   ]
  },
  {
   "cell_type": "code",
   "execution_count": null,
   "id": "92bb7b07",
   "metadata": {},
   "outputs": [],
   "source": []
  },
  {
   "cell_type": "code",
   "execution_count": null,
   "id": "8152d3c1",
   "metadata": {},
   "outputs": [],
   "source": [
    "PNs = df_outage_ami_w_mp[df_outage_ami_w_mp['OUTG_REC_NB']==11145126]['PREMISE_NB'].unique().tolist()\n",
    "pns = df_outage_ami_w_mp[df_outage_ami_w_mp['OUTG_REC_NB']==11145126]['prem_nb'].unique().tolist()"
   ]
  },
  {
   "cell_type": "code",
   "execution_count": null,
   "id": "f9e62f9d",
   "metadata": {},
   "outputs": [],
   "source": [
    "set(pns).difference(set(PNs))"
   ]
  },
  {
   "cell_type": "code",
   "execution_count": null,
   "id": "2ee24279",
   "metadata": {},
   "outputs": [],
   "source": [
    "set(PNs).difference(set(pns))"
   ]
  },
  {
   "cell_type": "code",
   "execution_count": null,
   "id": "821a3fe5",
   "metadata": {},
   "outputs": [],
   "source": [
    "huh = df_outage_ami_w_mp[df_outage_ami_w_mp['OUTG_REC_NB']==11145126].copy()"
   ]
  },
  {
   "cell_type": "code",
   "execution_count": null,
   "id": "9f64f92d",
   "metadata": {},
   "outputs": [],
   "source": [
    "huh[huh['PREMISE_NB'].isin(list(set(PNs).difference(set(pns))))]"
   ]
  },
  {
   "cell_type": "code",
   "execution_count": null,
   "id": "d9553178",
   "metadata": {},
   "outputs": [],
   "source": []
  },
  {
   "cell_type": "code",
   "execution_count": null,
   "id": "c3e95acb",
   "metadata": {},
   "outputs": [],
   "source": [
    "huh[huh['PREMISE_NB'].isin(list(set(PNs).difference(set(pns))))]['OUTG_REC_NB'].unique()"
   ]
  },
  {
   "cell_type": "code",
   "execution_count": null,
   "id": "e571b5c1",
   "metadata": {},
   "outputs": [],
   "source": [
    "df_mp_outg_OG[df_mp_outg_OG['prem_nb']=='077879337']"
   ]
  },
  {
   "cell_type": "code",
   "execution_count": null,
   "id": "78177711",
   "metadata": {},
   "outputs": [],
   "source": []
  },
  {
   "cell_type": "code",
   "execution_count": null,
   "id": "fb33f3a6",
   "metadata": {},
   "outputs": [],
   "source": []
  },
  {
   "cell_type": "code",
   "execution_count": null,
   "id": "533e45ac",
   "metadata": {},
   "outputs": [],
   "source": [
    "df_outage"
   ]
  },
  {
   "cell_type": "code",
   "execution_count": null,
   "id": "dcbb0ba8",
   "metadata": {},
   "outputs": [],
   "source": []
  },
  {
   "cell_type": "code",
   "execution_count": null,
   "id": "f514787f",
   "metadata": {},
   "outputs": [],
   "source": []
  },
  {
   "cell_type": "code",
   "execution_count": null,
   "id": "78e65479",
   "metadata": {},
   "outputs": [],
   "source": [
    "df_outage_ami_w_mp = pd.read_pickle(r'C:\\Users\\s346557\\Documents\\LocalData\\dovs_check\\Mico2\\AllOPCOs\\df_outage_ami_w_mp.pkl')"
   ]
  },
  {
   "cell_type": "code",
   "execution_count": null,
   "id": "59c16c40",
   "metadata": {},
   "outputs": [],
   "source": [
    "df_outage_ami_w_mp"
   ]
  },
  {
   "cell_type": "code",
   "execution_count": null,
   "id": "e5eab266-c6d1-463b-92ef-ff0a5cbb0b2e",
   "metadata": {},
   "outputs": [],
   "source": []
  }
 ],
 "metadata": {
  "kernelspec": {
   "display_name": "Python 3 (ipykernel)",
   "language": "python",
   "name": "python3"
  },
  "language_info": {
   "codemirror_mode": {
    "name": "ipython",
    "version": 3
   },
   "file_extension": ".py",
   "mimetype": "text/x-python",
   "name": "python",
   "nbconvert_exporter": "python",
   "pygments_lexer": "ipython3",
   "version": "3.11.7"
  }
 },
 "nbformat": 4,
 "nbformat_minor": 5
}
