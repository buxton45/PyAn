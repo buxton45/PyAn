{
 "cells": [
  {
   "cell_type": "markdown",
   "id": "68627217",
   "metadata": {},
   "source": [
    "# SEE 'Directions for running' below!"
   ]
  },
  {
   "cell_type": "code",
   "execution_count": null,
   "id": "e9764e04",
   "metadata": {},
   "outputs": [],
   "source": [
    "from importlib import reload\n",
    "#reload(Utilities)\n",
    "#reload(clm)\n",
    "# NOTE: To reload a class imported as, e.g., \n",
    "# from module import class\n",
    "# One must call:\n",
    "#   1. import module\n",
    "#   2. reload module\n",
    "#   3. from module import class\n",
    "\n",
    "import sys, os\n",
    "import re\n",
    "from pathlib import Path\n",
    "import json\n",
    "import pickle\n",
    "import joblib\n",
    "\n",
    "import pandas as pd\n",
    "import numpy as np\n",
    "from pandas.api.types import is_numeric_dtype, is_datetime64_dtype, is_timedelta64_dtype\n",
    "from scipy import stats\n",
    "import datetime\n",
    "import time\n",
    "from natsort import natsorted, ns, natsort_keygen\n",
    "from packaging import version\n",
    "import copy\n",
    "\n",
    "import itertools\n",
    "\n",
    "import pyodbc\n",
    "#---------------------------------------------------------------------\n",
    "import matplotlib as mpl\n",
    "import matplotlib.pyplot as plt\n",
    "import seaborn as sns\n",
    "from matplotlib.backends.backend_pdf import PdfPages\n",
    "import matplotlib.patches as mpatches\n",
    "from matplotlib.lines import Line2D\n",
    "import matplotlib.ticker as ticker\n",
    "from matplotlib import dates\n",
    "import matplotlib.colors as mcolors\n",
    "import matplotlib.cm as cm #e.g. for cmap=cm.jet\n",
    "#---------------------------------------------------------------------\n",
    "sys.path.insert(0, os.path.realpath('..'))\n",
    "import Utilities_config\n",
    "#-----\n",
    "import CommonLearningMethods as clm\n",
    "#-----\n",
    "from MeterPremise import MeterPremise\n",
    "from EEMSP import EEMSP\n",
    "#-----\n",
    "from AMI_SQL import AMI_SQL\n",
    "from AMINonVee_SQL import AMINonVee_SQL\n",
    "from AMIEndEvents_SQL import AMIEndEvents_SQL\n",
    "from AMIUsgInst_SQL import AMIUsgInst_SQL\n",
    "from DOVSOutages_SQL import DOVSOutages_SQL\n",
    "#-----\n",
    "from GenAn import GenAn\n",
    "from AMINonVee import AMINonVee\n",
    "from AMIEndEvents import AMIEndEvents\n",
    "from MECPODf import MECPODf\n",
    "from MECPOAn import MECPOAn\n",
    "from AMIUsgInst import AMIUsgInst\n",
    "from DOVSOutages import DOVSOutages\n",
    "#---------------------------------------------------------------------\n",
    "sys.path.insert(0, Utilities_config.get_sql_aids_dir())\n",
    "import Utilities_sql\n",
    "import TableInfos\n",
    "from TableInfos import TableInfo\n",
    "from SQLElement import SQLElement\n",
    "from SQLElementsCollection import SQLElementsCollection\n",
    "from SQLSelect import SQLSelectElement, SQLSelect\n",
    "from SQLFrom import SQLFrom\n",
    "from SQLWhere import SQLWhereElement, SQLWhere\n",
    "from SQLJoin import SQLJoin, SQLJoinCollection\n",
    "from SQLGroupBy import SQLGroupByElement, SQLGroupBy\n",
    "from SQLHaving import SQLHaving\n",
    "from SQLOrderBy import SQLOrderByElement, SQLOrderBy\n",
    "from SQLQuery import SQLQuery\n",
    "from SQLQueryGeneric import SQLQueryGeneric\n",
    "#---------------------------------------------------------------------\n",
    "#sys.path.insert(0, os.path.join(os.path.realpath('..'), 'Utilities'))\n",
    "sys.path.insert(0, Utilities_config.get_utilities_dir())\n",
    "import Utilities\n",
    "import Utilities_df\n",
    "from Utilities_df import DFConstructType\n",
    "import Utilities_dt\n",
    "import Plot_General\n",
    "import Plot_Box_sns\n",
    "import Plot_Hist\n",
    "import Plot_Bar\n",
    "import GrubbsTest\n",
    "import DataFrameSubsetSlicer\n",
    "from DataFrameSubsetSlicer import DataFrameSubsetSlicer as DFSlicer"
   ]
  },
  {
   "cell_type": "code",
   "execution_count": null,
   "id": "1132b712",
   "metadata": {},
   "outputs": [],
   "source": []
  },
  {
   "cell_type": "markdown",
   "id": "b1318039",
   "metadata": {},
   "source": [
    "# Directions for running:\n",
    "\n",
    "For the purposes of this demonstration, let's assume your AEP User ID is s123456, and your local Documents directory\n",
    "is located at C:\\Users\\s123456\\Documents\n",
    "\n",
    "1. If not already done, clone the Analysis GitHub repo (https://github.aepsc.com/s346557/Analysis).\n",
    "<br>- I will assume the repo was cloned into the Documents directory, i.e. I assume your local copy of the repo is located at C:\\Users\\s123456\\Documents\\Analysis (and therefore, this Jupyter notebook should be located at C:\\Users\\s123456\\Documents\\Analysis\\JupyterNbs\\IT_Demo.ipynb)\n",
    "<br><br>\n",
    "\n",
    "2. Create a simple text file containing your AEP passwords.\n",
    "- I suggest you use the file pwd_file_template.txt in the Analysis directory (C:\\Users\\s123456\\Documents\\Analysis\\pwd_file_template.txt) to create your own password file.\n",
    "    - DO NOT ALTER the pwd_file_template.txt file, create a new pwd_file.txt file!\n",
    "- I further suggest you name your password file pwd_file.txt and place it in the Analysis directory (C:\\Users\\s123456\\Documents\\Analysis\\pwd_file.txt).\n",
    "    - The Git repo is set up to ignore pwd_file.txt in the Analysis directory, so your information will not be pushed up to the repo if saved in this manner.\n",
    "- NOTE: At one point, my Athena and Oracle passwords were different, which is why there is a 'Main' and 'Oracle' entry in the password file.  Likely you will put the same password for both entries.\n",
    "<br><br>\n",
    "\n",
    "3. IF NOT ALREADY DONE, run the method Utilities_config.generate_initial_config_file to initiate your config.yaml file\n",
    "- I suggest you input arguments for all three parameters (aep_user_id, pwd_file_path, and local_data_dir)\n",
    "    - If no aep_user_id is given, the code will attempt to determine your AEP User ID from the contents of your C:\\Users directory\n",
    "    - If no pwd_file_path is given, it is assumed to exist, be named pwd_file.txt, and be located in the Analysis directory (C:\\Users\\s123456\\Documents\\Analysis\\pwd_file.txt)\n",
    "    - If local_data_dir is not None, it should point to a directory when you plan to store any results (my personal local_data_dir is located at C:\\Users\\s346557\\Documents\\LocalData\\).\n",
    "        - If you are not planning to save or load any files locally, I believe this can be kept as None"
   ]
  },
  {
   "cell_type": "code",
   "execution_count": null,
   "id": "e45fd339",
   "metadata": {},
   "outputs": [],
   "source": []
  },
  {
   "cell_type": "markdown",
   "id": "867f5cb9",
   "metadata": {},
   "source": [
    "# ----------------------------------------------------------------------------------------------------\n",
    "# !!!!!!!!!!!!!!!!!!!!!!!!!!!!!!!!!!!!!!!!!!!!!!!!!!!!!!!!!!!!!!!!!!!!!!!!!!!!!!!!!!!!!!!!!!!!!!!!!!!!\n",
    "# ONLY NEED TO RUN ONCE!\n",
    "So, if you have already run Utilities_config.generate_initial_config_file (and your configuration has not changed since), there is no need to run again"
   ]
  },
  {
   "cell_type": "code",
   "execution_count": null,
   "id": "f97af9bb",
   "metadata": {},
   "outputs": [],
   "source": [
    "run_config=False"
   ]
  },
  {
   "cell_type": "code",
   "execution_count": null,
   "id": "219dc9fd",
   "metadata": {},
   "outputs": [],
   "source": [
    "if run_config:\n",
    "    # REPLACE VALUES BELOW WITH YOUR OWN\n",
    "    aep_user_id = 's123456'\n",
    "    pwd_file_path = r'C:\\Users\\s3123456\\Documents\\Analysis\\pwd_file.txt'\n",
    "    local_data_dir = r'C:\\Users\\s123456\\Documents\\LocalData'\n",
    "\n",
    "    Utilities_config.generate_initial_config_file(\n",
    "        aep_user_id=aep_user_id, \n",
    "        pwd_file_path=pwd_file_path, \n",
    "        local_data_dir=local_data_dir\n",
    "    )"
   ]
  },
  {
   "cell_type": "markdown",
   "id": "0da44278",
   "metadata": {},
   "source": [
    "# !!!!!!!!!!!!!!!!!!!!!!!!!!!!!!!!!!!!!!!!!!!!!!!!!!!!!!!!!!!!!!!!!!!!!!!!!!!!!!!!!!!!!!!!!!!!!!!!!!!!\n",
    "# ----------------------------------------------------------------------------------------------------"
   ]
  },
  {
   "cell_type": "code",
   "execution_count": null,
   "id": "d400cfdc",
   "metadata": {},
   "outputs": [],
   "source": []
  },
  {
   "cell_type": "code",
   "execution_count": null,
   "id": "c7ec8190",
   "metadata": {},
   "outputs": [],
   "source": [
    "cols_of_interest_end_dev_event = TableInfos.AMIEndEvents_TI.std_columns_of_interest\n",
    "cols_of_interest_met_prem      = TableInfos.MeterPremise_TI.std_columns_of_interest\n",
    "\n",
    "patterns_to_replace=[\n",
    "    r'\\:?\\s*([0-9a-zA-Z]{1,2})(\\:[0-9a-zA-Z]{1,2})+', \n",
    "    \n",
    "    (\n",
    "        (\n",
    "            r'(Under Voltage)\\s*'\\\n",
    "            r'([0-9a-zA-Z]*)?\\s*'\\\n",
    "            r'(\\([0-9a-zA-Z\\s]*\\))\\s*'\\\n",
    "            r'([0-9a-zA-Z]*)?\\s?'\\\n",
    "            r'(for meter\\:?\\s*)'\\\n",
    "            r'(?:(?:[0-9a-zA-Z]{1,2})(?:\\:[0-9a-zA-Z]{1,2})+)?[\\s:,.]*'\\\n",
    "            r'(?:Phase\\s{1,2}[ABC](?:(?:\\s*and\\s*[ABC])|(?:,\\s*[ABC])*))?\\s*'\\\n",
    "            r'(Voltage out of tolerance)?'\n",
    "        ), \n",
    "        'AMIEndEvents.under_voltage_match_func'\n",
    "    ), \n",
    "    \n",
    "    (\n",
    "        (\n",
    "            r'(Last Gasp\\s*-\\s*[0-9a-zA-Z\\s]*)[\\s\\:,.]*'\\\n",
    "            r'.*'\\\n",
    "            r'(Fail Reason: .*)$'\n",
    "        ), \n",
    "        'AMIEndEvents.last_gasp_reduce_func'\n",
    "    ), \n",
    "    \n",
    "    (r'(Angle out of tolerance) \\[.*\\]', r'\\1'), \n",
    "    \n",
    "    (r'(NIC Power Restore Trap Received from device).*', r'\\1'), #TODO This has much info, like last gasp\n",
    "    \n",
    "    (\n",
    "        (\n",
    "            r'(Requested operation .* could not be applied to the given device type and firmware version.) '\\\n",
    "            r'Device, DeviceType: .*, Firmware Version: .*$'\n",
    "        ), \n",
    "        r'\\1'\n",
    "    ), \n",
    "    \n",
    "    ('meterN/A', 'meter'),\n",
    "    \n",
    "    (r'(Meter needs explicit time sync.) Drift: -?\\d* s, (Encountered Problems:\\s*.*), Meter_Time', r'\\1 \\2'), \n",
    "    \n",
    "    (r'(Meter Program Seal mismatch for Device) \\[Device ID, MAC Id\\] = .*', r'\\1'), \n",
    "    \n",
    "    (r'Device Time: .* Failed Device Reason: (.*) Reboot Counter: .* Refresh Counter: .*', r'\\1'), \n",
    "    \n",
    "    (r'(Ignoring (?:Interval|Register) Read data for device as it has time in the future) .*', r'\\1'), \n",
    "    \n",
    "    (r'(Secure association operation failed consecutively for 1 times for [0-9a-zA-Z]{4}.) .*', r'\\1'), \n",
    "    \n",
    "    (r'Device, (Last Gasp State: .*), (Detector State: .*), Reboot Count: \\d*', r'\\1, \\2'), \n",
    "    \n",
    "    (r'(Detected end of voltage sag on meter).*', r'\\1'), \n",
    "    \n",
    "    (r'(Detected end of voltage swell on meter).*', r'\\1'), \n",
    "    \n",
    "    r'N/A', \n",
    "    \n",
    "    (r'\\s{2,}', ' ')\n",
    "]"
   ]
  },
  {
   "cell_type": "markdown",
   "id": "bba8884c",
   "metadata": {},
   "source": [
    "# NOTE:\n",
    "This is a somewhat simple-minded example, as I am naively joining the meter_events.end_device_event table with default.meter_premise table.\n",
    "<br>As we have discussed, to correctly join with meter_premise, one must determine which meters were active AT THE TIME IN QUESTION (i.e., on 2022-10-01), not those simply in default.meter_premise.\n",
    "<br>Thus, to be completely correct, one should use methods contained in the MeterPremise class.\n",
    "<br>However, for the purposes here, this simple-minded join is acceptable."
   ]
  },
  {
   "cell_type": "code",
   "execution_count": null,
   "id": "dc25dde3",
   "metadata": {},
   "outputs": [],
   "source": [
    "# Build AMIEndEvents object housing data from the meter_events.end_device_event table.\n",
    "# Events are collected from those meters having aep_opco='oh' on the date '2022-10-01'\n",
    "ami_ede = AMIEndEvents(\n",
    "    df_construct_type=DFConstructType.kRunSqlQuery, \n",
    "    contstruct_df_args=None, \n",
    "    init_df_in_constructor=True, \n",
    "    build_sql_function=None, \n",
    "    build_sql_function_kwargs=dict(\n",
    "        cols_of_interest=cols_of_interest_end_dev_event, \n",
    "        opco='oh', \n",
    "        date_range=['2022-10-01', '2022-10-01'], \n",
    "        join_mp_args=dict(\n",
    "            join_with_CTE=True, \n",
    "            build_mp_kwargs=dict(cols_of_interest=cols_of_interest_met_prem), \n",
    "            join_type='LEFT', \n",
    "            list_of_columns_to_join=[\n",
    "                ['serialnumber', 'mfr_devc_ser_nbr'], \n",
    "                ['aep_premise_nb', 'prem_nb']\n",
    "            ]\n",
    "        )\n",
    "    ), \n",
    "    save_args=False\n",
    ")"
   ]
  },
  {
   "cell_type": "code",
   "execution_count": null,
   "id": "2ac418e1",
   "metadata": {},
   "outputs": [],
   "source": [
    "# The SQL statement run by the above block is printed below\n",
    "print(ami_ede.get_sql_statement())"
   ]
  },
  {
   "cell_type": "code",
   "execution_count": null,
   "id": "79aab249",
   "metadata": {},
   "outputs": [],
   "source": [
    "# Grab the pandas.DataFrame (DF) object from ami_ede\n",
    "end_events_df = ami_ede.df.copy()\n",
    "# Also, grab the full list of reasons found\n",
    "reasons_full = sorted(end_events_df['reason'].unique().tolist())"
   ]
  },
  {
   "cell_type": "code",
   "execution_count": null,
   "id": "b2951625",
   "metadata": {},
   "outputs": [],
   "source": [
    "# Print some basic info about the DF\n",
    "print(f'end_events_df.shape = {end_events_df.shape}')\n",
    "print(f\"Number of unique reasons = {end_events_df['reason'].nunique()}\")\n",
    "end_events_df.head()"
   ]
  },
  {
   "cell_type": "markdown",
   "id": "5f4fe8f8",
   "metadata": {},
   "source": [
    "# -------------------------"
   ]
  },
  {
   "cell_type": "code",
   "execution_count": null,
   "id": "cbfed835",
   "metadata": {},
   "outputs": [],
   "source": [
    "# Below, when running reduce_end_event_reasons_in_df, the default behavior (placement_col=None) is to simply replace\n",
    "#   the entries in the 'reason' column by their reduced versions.\n",
    "# For purposes here, I will keep both the full reason column (renamed to 'reason_full') and the reduced reason column (named 'reason')\n",
    "\n",
    "print(f'end_events_df.shape[0]                          = {end_events_df.shape[0]}')\n",
    "print(f\"end_events_df['serialnumber'].nunique()         = {end_events_df['serialnumber'].nunique()}\")\n",
    "print(f\"end_events_df['enddeviceeventtypeid'].nunique() = {end_events_df['enddeviceeventtypeid'].nunique()}\")\n",
    "print('\\n\\n')\n",
    "\n",
    "end_events_df = end_events_df.rename(columns={'reason':'reason_full'})\n",
    "end_events_df = AMIEndEvents.reduce_end_event_reasons_in_df(\n",
    "    df=end_events_df, \n",
    "    patterns_to_replace=patterns_to_replace, \n",
    "    reason_col='reason_full', \n",
    "    placement_col='reason'\n",
    ")\n",
    "\n",
    "print('BEFORE REASON REDUCTION')\n",
    "print(f\"end_events_df['reason'].nunique()               = {end_events_df['reason_full'].nunique()}\")\n",
    "print('AFTER REASON REDUCTION')\n",
    "print(f\"end_events_df['reason'].nunique()               = {end_events_df['reason'].nunique()}\")"
   ]
  },
  {
   "cell_type": "code",
   "execution_count": null,
   "id": "aebec93b",
   "metadata": {},
   "outputs": [],
   "source": [
    "# Grab the unique reasons after the reduction (rdcd=='reduced')\n",
    "reasons_rdcd_1 = sorted(end_events_df['reason'].unique().tolist())"
   ]
  },
  {
   "cell_type": "code",
   "execution_count": null,
   "id": "b57be7ee",
   "metadata": {},
   "outputs": [],
   "source": [
    "reasons_rdcd_1"
   ]
  },
  {
   "cell_type": "code",
   "execution_count": null,
   "id": "eea59eee",
   "metadata": {},
   "outputs": [],
   "source": []
  },
  {
   "cell_type": "markdown",
   "id": "8fe361e5",
   "metadata": {},
   "source": [
    "# -------------------------"
   ]
  },
  {
   "cell_type": "code",
   "execution_count": null,
   "id": "e4fbfc4a",
   "metadata": {},
   "outputs": [],
   "source": [
    "# Create a mapping of the full reasons captured in each reason\n",
    "reasons_to_full_mapping = end_events_df.groupby('reason')['reason_full'].unique().to_frame()\n",
    "reasons_to_full_mapping['n_full_in_reason'] = reasons_to_full_mapping['reason_full'].apply(lambda x: len(x))\n",
    "reasons_to_full_mapping"
   ]
  },
  {
   "cell_type": "code",
   "execution_count": null,
   "id": "3443bfb5",
   "metadata": {},
   "outputs": [],
   "source": [
    "# e.g., all of the full reasons contained in 'Access Point has lost connectivity with FHSS 900 MHz band'\n",
    "reasons_to_full_mapping.loc['Access Point has lost connectivity with FHSS 900 MHz band', 'reason_full']"
   ]
  },
  {
   "cell_type": "code",
   "execution_count": null,
   "id": "91d067d0",
   "metadata": {},
   "outputs": [],
   "source": []
  },
  {
   "cell_type": "code",
   "execution_count": null,
   "id": "0adb2954",
   "metadata": {},
   "outputs": [],
   "source": []
  },
  {
   "cell_type": "markdown",
   "id": "7baa33d3",
   "metadata": {},
   "source": [
    "# -------------------------"
   ]
  },
  {
   "cell_type": "code",
   "execution_count": null,
   "id": "bc325db5",
   "metadata": {},
   "outputs": [],
   "source": [
    "# Create a mapping of the (reduced) reasons captured in each enddeviceeventtypeid\n",
    "ede_typeid_to_reason_df = AMIEndEvents.build_ede_typeid_to_reason_df(\n",
    "    end_events_df=end_events_df, \n",
    "    reason_col='reason', \n",
    "    ede_typeid_col='enddeviceeventtypeid'\n",
    ")\n",
    "ede_typeid_to_reason_df['n_reasons_in_id'] = ede_typeid_to_reason_df['reason'].apply(lambda x: len(x))\n",
    "ede_typeid_to_reason_df"
   ]
  },
  {
   "cell_type": "code",
   "execution_count": null,
   "id": "86d36797",
   "metadata": {},
   "outputs": [],
   "source": [
    "# e.g., all of the (reduced) reasons contained in enddeviceeventtypeid='3.12.136.85'\n",
    "ede_typeid_to_reason_df.loc['3.12.136.85', 'reason']"
   ]
  },
  {
   "cell_type": "code",
   "execution_count": null,
   "id": "70c02036",
   "metadata": {},
   "outputs": [],
   "source": [
    "# Hmmm, the 'failed consecutively for 1 times for' seems a bit strange, where did it originate?\n",
    "reasons_to_full_mapping.loc['failed consecutively for 1 times for', 'reason_full']"
   ]
  },
  {
   "cell_type": "code",
   "execution_count": null,
   "id": "6859068e",
   "metadata": {},
   "outputs": [],
   "source": [
    "end_events_df.shape"
   ]
  },
  {
   "cell_type": "markdown",
   "id": "2f5d80c2",
   "metadata": {},
   "source": [
    "# -------------------------\n",
    "# NOTE:\n",
    "Below, I am only using the first 1000 entries in end_events_df.\n",
    "<br>Running AMIEndEvents.get_reason_counts_per_group with the full DF takes a significant amount of time, and doesn't really add to the purpose here."
   ]
  },
  {
   "cell_type": "code",
   "execution_count": null,
   "id": "f35599bf",
   "metadata": {},
   "outputs": [],
   "source": []
  },
  {
   "cell_type": "markdown",
   "id": "3ca3a50f",
   "metadata": {},
   "source": [
    "### Build the reason_counts_per_group DF grouped by trsf_pole_nb, rcpo_by_xfmr"
   ]
  },
  {
   "cell_type": "code",
   "execution_count": null,
   "id": "72df1c70",
   "metadata": {},
   "outputs": [],
   "source": [
    "rcpo_by_xfmr = AMIEndEvents.get_reason_counts_per_group(\n",
    "    end_events_df = end_events_df.iloc[:1000], \n",
    "    group_cols=['trsf_pole_nb'], \n",
    "    group_freq=None, \n",
    "    serial_number_col='serialnumber', \n",
    "    reason_col='reason', \n",
    "    include_normalize_by_nSNs=False, \n",
    "    inclue_zero_counts=True,\n",
    "    possible_reasons=None, \n",
    "    include_nSNs=True, \n",
    "    include_SNs=True, \n",
    "    prem_nb_col='aep_premise_nb', \n",
    "    include_nprem_nbs=True,\n",
    "    include_prem_nbs=True,   \n",
    "    return_form = dict(return_multiindex_outg_reason = False, \n",
    "                       return_normalized_separately  = False)\n",
    ")"
   ]
  },
  {
   "cell_type": "code",
   "execution_count": null,
   "id": "23aa2ff1",
   "metadata": {},
   "outputs": [],
   "source": [
    "non_counts_cols = ['_SNs', '_nSNs', '_nprem_nbs', '_prem_nbs']\n",
    "print(f'nXfmrs:                {rcpo_by_xfmr.shape[0]}')\n",
    "print(f'nXfmrs w. n_events==1: {(rcpo_by_xfmr[[x for x in rcpo_by_xfmr.columns.tolist() if x not in non_counts_cols]].sum(axis=1)==1).sum()}' )\n",
    "print(f'nXfmrs w. n_events>1:  {(rcpo_by_xfmr[[x for x in rcpo_by_xfmr.columns.tolist() if x not in non_counts_cols]].sum(axis=1)>1).sum()}' )\n",
    "rcpo_by_xfmr"
   ]
  },
  {
   "cell_type": "code",
   "execution_count": null,
   "id": "4230da71",
   "metadata": {},
   "outputs": [],
   "source": [
    "end_events_df.shape"
   ]
  },
  {
   "cell_type": "markdown",
   "id": "7e87c990",
   "metadata": {},
   "source": [
    "### Build the reason_counts_per_group DF grouped by serial number, rcpo_by_SN"
   ]
  },
  {
   "cell_type": "code",
   "execution_count": null,
   "id": "6b2e4a27",
   "metadata": {},
   "outputs": [],
   "source": [
    "rcpo_by_SN = AMIEndEvents.get_reason_counts_per_group(\n",
    "    end_events_df = end_events_df.iloc[:1000], \n",
    "    group_cols=['serialnumber'], \n",
    "    group_freq=None, \n",
    "    serial_number_col='serialnumber', \n",
    "    reason_col='reason', \n",
    "    include_normalize_by_nSNs=False, \n",
    "    inclue_zero_counts=True,\n",
    "    possible_reasons=None, \n",
    "    include_nSNs=False, \n",
    "    include_SNs=False, \n",
    "    prem_nb_col='aep_premise_nb', \n",
    "    include_nprem_nbs=False,\n",
    "    include_prem_nbs=False,   \n",
    "    return_form = dict(return_multiindex_outg_reason = False, \n",
    "                       return_normalized_separately  = False)\n",
    ")"
   ]
  },
  {
   "cell_type": "code",
   "execution_count": null,
   "id": "1d1c87e0",
   "metadata": {},
   "outputs": [],
   "source": [
    "print(f'nSNs:                {rcpo_by_SN.shape[0]}')\n",
    "print(f'nSNs w. n_events==1: {(rcpo_by_SN.sum(axis=1)==1).sum()}' )\n",
    "print(f'nSNs w. n_events>1:  {(rcpo_by_SN.sum(axis=1)>1).sum()}' )\n",
    "rcpo_by_SN"
   ]
  },
  {
   "cell_type": "code",
   "execution_count": null,
   "id": "153a4699",
   "metadata": {},
   "outputs": [],
   "source": []
  },
  {
   "cell_type": "markdown",
   "id": "c4fcaac8",
   "metadata": {},
   "source": [
    "### Build the reason_counts_per_group DF grouped by serial number, and including the number of serial numbers connected to the transformer\n",
    "### This is a closer mock-up (although still not exactly what we want) of what we're ultimately looking for from IT"
   ]
  },
  {
   "cell_type": "code",
   "execution_count": null,
   "id": "9c8543d1",
   "metadata": {},
   "outputs": [],
   "source": [
    "mp = MeterPremise(\n",
    "    df_construct_type=DFConstructType.kRunSqlQuery, \n",
    "    contstruct_df_args=None, \n",
    "    init_df_in_constructor=True, \n",
    "    build_sql_function=None, \n",
    "    build_sql_function_kwargs=dict(\n",
    "        cols_of_interest=cols_of_interest_met_prem, \n",
    "        trsf_pole_nbs=end_events_df.iloc[:1000]['trsf_pole_nb'].unique().tolist()\n",
    "    ), \n",
    "    save_args=False\n",
    ")"
   ]
  },
  {
   "cell_type": "code",
   "execution_count": null,
   "id": "f52c71f5",
   "metadata": {},
   "outputs": [],
   "source": [
    "mp_df = mp.df.copy()"
   ]
  },
  {
   "cell_type": "code",
   "execution_count": null,
   "id": "a81143df",
   "metadata": {},
   "outputs": [],
   "source": [
    "print(mp_df.shape[0])\n",
    "print(mp_df['mfr_devc_ser_nbr'].nunique())"
   ]
  },
  {
   "cell_type": "code",
   "execution_count": null,
   "id": "93bc6911",
   "metadata": {},
   "outputs": [],
   "source": [
    "end_events_df.iloc[:1000]['mfr_devc_ser_nbr'].nunique()"
   ]
  },
  {
   "cell_type": "code",
   "execution_count": null,
   "id": "0d01c058",
   "metadata": {},
   "outputs": [],
   "source": []
  },
  {
   "cell_type": "code",
   "execution_count": null,
   "id": "0ada0f85",
   "metadata": {},
   "outputs": [],
   "source": [
    "rcpo_final = AMIEndEvents.get_reason_counts_per_group(\n",
    "    end_events_df = end_events_df.iloc[:1000], \n",
    "#     group_cols=['serialnumber'], \n",
    "    group_cols=['serialnumber', 'aep_premise_nb', 'trsf_pole_nb'], \n",
    "    group_freq=None, \n",
    "    gpby_dropna=False, \n",
    "    serial_number_col='serialnumber', \n",
    "    reason_col='reason', \n",
    "    include_normalize_by_nSNs=False, \n",
    "    inclue_zero_counts=True,\n",
    "    possible_reasons=None, \n",
    "    include_nSNs=False, \n",
    "    include_SNs=False, \n",
    "    prem_nb_col='aep_premise_nb', \n",
    "    include_nprem_nbs=False,\n",
    "    include_prem_nbs=False,   \n",
    "    return_form = dict(return_multiindex_outg_reason = False, \n",
    "                       return_normalized_separately  = False)\n",
    ")\n",
    "rcpo_final=rcpo_final.reset_index().set_index('serialnumber')\n",
    "#-------------------------\n",
    "n_SNs_per_xfmr = mp_df.groupby('trsf_pole_nb')['mfr_devc_ser_nbr'].apply(lambda x: len(set(x)))\n",
    "n_SNs_per_xfmr.name = 'n_SNs_on_xfmr'\n",
    "#-------------------------\n",
    "rcpo_final = pd.merge(\n",
    "    rcpo_final, \n",
    "    n_SNs_per_xfmr, \n",
    "    left_on='trsf_pole_nb', \n",
    "    right_index=True, \n",
    "    how='left'\n",
    ")\n",
    "rcpo_final.loc[rcpo_final['n_SNs_on_xfmr'].notna(), 'n_SNs_on_xfmr'] = rcpo_final[rcpo_final['n_SNs_on_xfmr'].notna()]['n_SNs_on_xfmr'].astype(int)\n",
    "rcpo_final=Utilities_df.move_cols_to_front(rcpo_final, ['aep_premise_nb', 'trsf_pole_nb', 'n_SNs_on_xfmr'])\n",
    "rcpo_final['n_events_tot'] = rcpo_final.iloc[:, 3:].sum(axis=1)\n",
    "rcpo_final=Utilities_df.move_cols_to_front(rcpo_final, ['aep_premise_nb', 'trsf_pole_nb', 'n_SNs_on_xfmr', 'n_events_tot'])\n",
    "#-------------------------"
   ]
  },
  {
   "cell_type": "code",
   "execution_count": null,
   "id": "85b1caee",
   "metadata": {},
   "outputs": [],
   "source": [
    "print(f\"nSNs:                {rcpo_final.index.nunique()}\")\n",
    "print(f\"nSNs w. n_events==1: {(rcpo_final['n_events_tot']==1).sum()}\" )\n",
    "print(f\"nSNs w. n_events>1:  {(rcpo_final['n_events_tot']>1).sum()}\" )\n",
    "rcpo_final"
   ]
  },
  {
   "cell_type": "code",
   "execution_count": null,
   "id": "f56a29d8",
   "metadata": {},
   "outputs": [],
   "source": [
    "# rcpo_final = AMIEndEvents.get_reason_counts_per_group(\n",
    "#     end_events_df = end_events_df.iloc[:1000], \n",
    "# #     group_cols=['serialnumber'], \n",
    "#     group_cols=['serialnumber', 'aep_premise_nb', 'trsf_pole_nb'], \n",
    "#     group_freq=None, \n",
    "#     gpby_dropna=False, \n",
    "#     serial_number_col='serialnumber', \n",
    "#     reason_col='reason', \n",
    "#     include_normalize_by_nSNs=False, \n",
    "#     inclue_zero_counts=True,\n",
    "#     possible_reasons=None, \n",
    "#     include_nSNs=False, \n",
    "#     include_SNs=False, \n",
    "#     prem_nb_col='aep_premise_nb', \n",
    "#     include_nprem_nbs=False,\n",
    "#     include_prem_nbs=False,   \n",
    "#     return_form = dict(return_multiindex_outg_reason = False, \n",
    "#                        return_normalized_separately  = False)\n",
    "# )\n",
    "# rcpo_final=rcpo_final.reset_index().set_index('serialnumber')\n",
    "# #-------------------------\n",
    "# n_SNs_per_xfmr = mp_df.groupby('trsf_pole_nb')['mfr_devc_ser_nbr'].apply(lambda x: len(set(x)))\n",
    "# n_SNs_per_xfmr.name = 'n_SNs_on_xfmr'\n",
    "# #-------------------------\n",
    "# rcpo_final = pd.merge(\n",
    "#     rcpo_final, \n",
    "#     n_SNs_per_xfmr, \n",
    "#     left_on='trsf_pole_nb', \n",
    "#     right_index=True, \n",
    "#     how='left'\n",
    "# )\n",
    "# rcpo_final.loc[rcpo_final['n_SNs_on_xfmr'].notna(), 'n_SNs_on_xfmr'] = rcpo_final[rcpo_final['n_SNs_on_xfmr'].notna()]['n_SNs_on_xfmr'].astype(int)\n",
    "# rcpo_final=Utilities_df.move_cols_to_front(rcpo_final, ['aep_premise_nb', 'trsf_pole_nb', 'n_SNs_on_xfmr'])\n",
    "# rcpo_final['n_events_tot'] = rcpo_final.iloc[:, 3:].sum(axis=1)\n",
    "# rcpo_final=Utilities_df.move_cols_to_front(rcpo_final, ['aep_premise_nb', 'trsf_pole_nb', 'n_SNs_on_xfmr', 'n_events_tot'])\n",
    "# #-------------------------"
   ]
  },
  {
   "cell_type": "code",
   "execution_count": null,
   "id": "3ab58683",
   "metadata": {},
   "outputs": [],
   "source": [
    "rcpo_final_xfmr = AMIEndEvents.get_reason_counts_per_group(\n",
    "    end_events_df = end_events_df.iloc[:1000], \n",
    "#     group_cols=['serialnumber'], \n",
    "    group_cols=['trsf_pole_nb'], \n",
    "    group_freq=None, \n",
    "    gpby_dropna=False, \n",
    "    serial_number_col='serialnumber', \n",
    "    reason_col='reason', \n",
    "    include_normalize_by_nSNs=False, \n",
    "    inclue_zero_counts=True,\n",
    "    possible_reasons=None, \n",
    "    include_nSNs=False, \n",
    "    include_SNs=False, \n",
    "    prem_nb_col='aep_premise_nb', \n",
    "    include_nprem_nbs=False,\n",
    "    include_prem_nbs=False,   \n",
    "    return_form = dict(return_multiindex_outg_reason = False, \n",
    "                       return_normalized_separately  = False)\n",
    ")\n",
    "#-------------------------\n",
    "n_SNs_per_xfmr = mp_df.groupby('trsf_pole_nb')['mfr_devc_ser_nbr'].apply(lambda x: len(set(x)))\n",
    "n_SNs_per_xfmr.name = 'n_SNs_on_xfmr'\n",
    "#-------------------------\n",
    "rcpo_final_xfmr = pd.merge(\n",
    "    rcpo_final_xfmr, \n",
    "    n_SNs_per_xfmr, \n",
    "    left_on='trsf_pole_nb', \n",
    "    right_index=True, \n",
    "    how='left'\n",
    ")\n",
    "#-------------------------\n",
    "rcpo_final_xfmr.loc[rcpo_final_xfmr['n_SNs_on_xfmr'].notna(), 'n_SNs_on_xfmr'] = rcpo_final_xfmr[rcpo_final_xfmr['n_SNs_on_xfmr'].notna()]['n_SNs_on_xfmr'].astype(int)\n",
    "rcpo_final_xfmr=Utilities_df.move_cols_to_front(rcpo_final_xfmr, ['n_SNs_on_xfmr'])\n",
    "rcpo_final_xfmr['n_events_tot'] = rcpo_final_xfmr.iloc[:, 1:].sum(axis=1)\n",
    "rcpo_final_xfmr=Utilities_df.move_cols_to_front(rcpo_final_xfmr, ['n_SNs_on_xfmr', 'n_events_tot'])"
   ]
  },
  {
   "cell_type": "code",
   "execution_count": null,
   "id": "7db0ced0",
   "metadata": {},
   "outputs": [],
   "source": [
    "#-------------------------\n",
    "rcpo_final_xfmr=rcpo_final_xfmr.loc[~rcpo_final_xfmr.index.isin(['NETWORK', 'PRIMARY', 'TRANSMISSION'])]\n",
    "rcpo_final_xfmr=rcpo_final_xfmr.loc[rcpo_final_xfmr.index.notna()]"
   ]
  },
  {
   "cell_type": "code",
   "execution_count": null,
   "id": "62e2fd34",
   "metadata": {},
   "outputs": [],
   "source": [
    "rcpo_final_xfmr"
   ]
  },
  {
   "cell_type": "code",
   "execution_count": null,
   "id": "376caa2e",
   "metadata": {},
   "outputs": [],
   "source": []
  },
  {
   "cell_type": "code",
   "execution_count": null,
   "id": "6567944b",
   "metadata": {},
   "outputs": [],
   "source": []
  },
  {
   "cell_type": "code",
   "execution_count": null,
   "id": "a02cadcf",
   "metadata": {},
   "outputs": [],
   "source": []
  },
  {
   "cell_type": "code",
   "execution_count": null,
   "id": "285b1cd1",
   "metadata": {},
   "outputs": [],
   "source": [
    "rcpo_final_xfmr = AMIEndEvents.get_reason_counts_per_group(\n",
    "    end_events_df = end_events_df.iloc[:1000], \n",
    "#     group_cols=['serialnumber'], \n",
    "    group_cols=['trsf_pole_nb'], \n",
    "    group_freq=None, \n",
    "    gpby_dropna=False, \n",
    "    serial_number_col='serialnumber', \n",
    "    reason_col='reason', \n",
    "    include_normalize_by_nSNs=False, \n",
    "    inclue_zero_counts=True,\n",
    "    possible_reasons=None, \n",
    "    include_nSNs=True, \n",
    "    include_SNs=False, \n",
    "    prem_nb_col='aep_premise_nb', \n",
    "    include_nprem_nbs=True,\n",
    "    include_prem_nbs=False,   \n",
    "    return_form = dict(return_multiindex_outg_reason = False, \n",
    "                       return_normalized_separately  = False)\n",
    ")\n",
    "#-------------------------\n",
    "rcpo_final_xfmr=rcpo_final_xfmr.loc[~rcpo_final_xfmr.index.isin(['NETWORK', 'PRIMARY', 'TRANSMISSION'])]\n",
    "rcpo_final_xfmr=rcpo_final_xfmr.loc[rcpo_final_xfmr.index.notna()]\n",
    "#-------------------------\n",
    "n_SNs_per_xfmr = mp_df.groupby('trsf_pole_nb')['mfr_devc_ser_nbr'].apply(lambda x: len(set(x)))\n",
    "n_SNs_per_xfmr.name = 'n_SNs_on_xfmr'\n",
    "#-------------------------\n",
    "n_PNs_per_xfmr = mp_df.groupby('trsf_pole_nb')['prem_nb'].apply(lambda x: len(set(x)))\n",
    "n_PNs_per_xfmr.name = 'n_PNs_on_xfmr'\n",
    "#-------------------------\n",
    "rcpo_final_xfmr = pd.merge(\n",
    "    rcpo_final_xfmr, \n",
    "    n_SNs_per_xfmr, \n",
    "    left_on='trsf_pole_nb', \n",
    "    right_index=True, \n",
    "    how='left'\n",
    ")\n",
    "#-------------------------\n",
    "rcpo_final_xfmr = pd.merge(\n",
    "    rcpo_final_xfmr, \n",
    "    n_PNs_per_xfmr, \n",
    "    left_on='trsf_pole_nb', \n",
    "    right_index=True, \n",
    "    how='left'\n",
    ")\n",
    "#-------------------------\n",
    "rcpo_final_xfmr.loc[rcpo_final_xfmr['n_SNs_on_xfmr'].notna(), 'n_SNs_on_xfmr'] = rcpo_final_xfmr[rcpo_final_xfmr['n_SNs_on_xfmr'].notna()]['n_SNs_on_xfmr'].astype(int)\n",
    "rcpo_final_xfmr.loc[rcpo_final_xfmr['n_PNs_on_xfmr'].notna(), 'n_PNs_on_xfmr'] = rcpo_final_xfmr[rcpo_final_xfmr['n_PNs_on_xfmr'].notna()]['n_PNs_on_xfmr'].astype(int)\n",
    "#-----\n",
    "rcpo_final_xfmr=Utilities_df.move_cols_to_front(rcpo_final_xfmr, ['_nSNs', '_nprem_nbs', 'n_SNs_on_xfmr', 'n_PNs_on_xfmr'])\n",
    "rcpo_final_xfmr['n_events_tot'] = rcpo_final_xfmr.iloc[:, 4:].sum(axis=1)\n",
    "#-----\n",
    "rcpo_final_xfmr=Utilities_df.move_cols_to_front(rcpo_final_xfmr, ['_nSNs', '_nprem_nbs', 'n_SNs_on_xfmr', 'n_PNs_on_xfmr', 'n_events_tot'])\n",
    "#-------------------------\n",
    "rcpo_final_xfmr=rcpo_final_xfmr.rename(columns={\n",
    "    '_nSNs':        'n_SNs*', \n",
    "    '_nprem_nbs':   'n_PNs*', \n",
    "    'n_SNs_on_xfmr':'n_SNs', \n",
    "    'n_PNs_on_xfmr':'n_PNs'\n",
    "})"
   ]
  },
  {
   "cell_type": "code",
   "execution_count": null,
   "id": "fe026212",
   "metadata": {},
   "outputs": [],
   "source": [
    "rcpo_final_xfmr"
   ]
  },
  {
   "cell_type": "code",
   "execution_count": null,
   "id": "53bbc77b",
   "metadata": {},
   "outputs": [],
   "source": []
  },
  {
   "cell_type": "code",
   "execution_count": null,
   "id": "a9beb491",
   "metadata": {},
   "outputs": [],
   "source": [
    "rcpo_final_xfmr_nrm = rcpo_final_xfmr.copy()\n",
    "cols_to_norm = rcpo_final_xfmr_nrm.columns[4:].tolist()\n",
    "norm_col = 'n_SNs'\n",
    "#-----\n",
    "rcpo_final_xfmr_nrm[cols_to_norm] = rcpo_final_xfmr_nrm[cols_to_norm].divide(rcpo_final_xfmr_nrm[norm_col], axis=0)\n",
    "#-----\n",
    "rcpo_final_xfmr_nrm"
   ]
  },
  {
   "cell_type": "code",
   "execution_count": null,
   "id": "4b9ac620",
   "metadata": {},
   "outputs": [],
   "source": []
  },
  {
   "cell_type": "code",
   "execution_count": null,
   "id": "a2909f78",
   "metadata": {},
   "outputs": [],
   "source": []
  },
  {
   "cell_type": "code",
   "execution_count": null,
   "id": "6dbf3b19",
   "metadata": {},
   "outputs": [],
   "source": []
  },
  {
   "cell_type": "code",
   "execution_count": null,
   "id": "daeaee3a",
   "metadata": {},
   "outputs": [],
   "source": []
  }
 ],
 "metadata": {
  "kernelspec": {
   "display_name": "Python 3 (ipykernel)",
   "language": "python",
   "name": "python3"
  },
  "language_info": {
   "codemirror_mode": {
    "name": "ipython",
    "version": 3
   },
   "file_extension": ".py",
   "mimetype": "text/x-python",
   "name": "python",
   "nbconvert_exporter": "python",
   "pygments_lexer": "ipython3",
   "version": "3.11.7"
  }
 },
 "nbformat": 4,
 "nbformat_minor": 5
}
