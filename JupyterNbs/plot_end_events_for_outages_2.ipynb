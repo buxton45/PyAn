{
 "cells": [
  {
   "cell_type": "code",
   "execution_count": null,
   "id": "7a0e4caa",
   "metadata": {},
   "outputs": [],
   "source": [
    "from importlib import reload\n",
    "#reload(Utilities)\n",
    "# NOTE: To reload a class imported as, e.g., \n",
    "# from module import class\n",
    "# One must call:\n",
    "#   1. import module\n",
    "#   2. reload module\n",
    "#   3. from module import class\n",
    "\n",
    "import sys, os\n",
    "import re\n",
    "from pathlib import Path\n",
    "import json\n",
    "import pickle\n",
    "\n",
    "import pandas as pd\n",
    "import numpy as np\n",
    "from pandas.api.types import is_numeric_dtype, is_datetime64_dtype, is_timedelta64_dtype\n",
    "from scipy import stats\n",
    "import datetime\n",
    "import time\n",
    "from natsort import natsorted, ns, natsort_keygen\n",
    "from packaging import version\n",
    "import copy\n",
    "\n",
    "import itertools\n",
    "\n",
    "import pyodbc\n",
    "#---------------------------------------------------------------------\n",
    "import matplotlib as mpl\n",
    "import matplotlib.pyplot as plt\n",
    "import seaborn as sns\n",
    "from matplotlib.backends.backend_pdf import PdfPages\n",
    "import matplotlib.patches as mpatches\n",
    "from matplotlib.lines import Line2D\n",
    "import matplotlib.ticker as ticker\n",
    "from matplotlib import dates\n",
    "import matplotlib.colors as mcolors\n",
    "import matplotlib.cm as cm #e.g. for cmap=cm.jet\n",
    "#---------------------------------------------------------------------\n",
    "sys.path.insert(0, os.path.realpath('..'))\n",
    "import Utilities_config\n",
    "#-----\n",
    "from MeterPremise import MeterPremise\n",
    "#-----\n",
    "from AMI_SQL import AMI_SQL\n",
    "from AMINonVee_SQL import AMINonVee_SQL\n",
    "from AMIEndEvents_SQL import AMIEndEvents_SQL\n",
    "from AMIUsgInst_SQL import AMIUsgInst_SQL\n",
    "from DOVSOutages_SQL import DOVSOutages_SQL\n",
    "#-----\n",
    "from GenAn import GenAn\n",
    "from AMINonVee import AMINonVee\n",
    "from AMIEndEvents import AMIEndEvents\n",
    "from MECPODf import MECPODf\n",
    "from MECPOAn import MECPOAn\n",
    "from AMIUsgInst import AMIUsgInst\n",
    "from DOVSOutages import DOVSOutages\n",
    "#---------------------------------------------------------------------\n",
    "sys.path.insert(0, Utilities_config.get_sql_aids_dir())\n",
    "import Utilities_sql\n",
    "import TableInfos\n",
    "from TableInfos import TableInfo\n",
    "from SQLElement import SQLElement\n",
    "from SQLElementsCollection import SQLElementsCollection\n",
    "from SQLSelect import SQLSelectElement, SQLSelect\n",
    "from SQLFrom import SQLFrom\n",
    "from SQLWhere import SQLWhereElement, SQLWhere\n",
    "from SQLJoin import SQLJoin, SQLJoinCollection\n",
    "from SQLGroupBy import SQLGroupByElement, SQLGroupBy\n",
    "from SQLHaving import SQLHaving\n",
    "from SQLOrderBy import SQLOrderByElement, SQLOrderBy\n",
    "from SQLQuery import SQLQuery\n",
    "from SQLQueryGeneric import SQLQueryGeneric\n",
    "#---------------------------------------------------------------------\n",
    "#sys.path.insert(0, os.path.join(os.path.realpath('..'), 'Utilities'))\n",
    "sys.path.insert(0, Utilities_config.get_utilities_dir())\n",
    "import Utilities\n",
    "import Utilities_df\n",
    "from Utilities_df import DFConstructType\n",
    "import Utilities_dt\n",
    "import Plot_General\n",
    "import Plot_Box_sns\n",
    "import Plot_Hist\n",
    "import Plot_Bar\n",
    "import GrubbsTest\n",
    "import DataFrameSubsetSlicer\n",
    "from DataFrameSubsetSlicer import DataFrameSubsetSlicer as DFSlicer"
   ]
  },
  {
   "cell_type": "code",
   "execution_count": null,
   "id": "66d8ba61",
   "metadata": {},
   "outputs": [],
   "source": [
    "from sklearn.preprocessing import OrdinalEncoder"
   ]
  },
  {
   "cell_type": "code",
   "execution_count": null,
   "id": "02cd2258",
   "metadata": {},
   "outputs": [],
   "source": []
  },
  {
   "cell_type": "code",
   "execution_count": null,
   "id": "efaf9501",
   "metadata": {},
   "outputs": [],
   "source": []
  },
  {
   "cell_type": "code",
   "execution_count": null,
   "id": "99706616",
   "metadata": {},
   "outputs": [],
   "source": [
    "run_testing_data=True\n",
    "fig_num=0\n",
    "\n",
    "dovs_and_end_events_data_dir = r'C:\\Users\\s346557\\Documents\\LocalData\\dovs_and_end_events_data'\n",
    "if run_testing_data:\n",
    "    dovs_and_end_events_data_dir = os.path.join(dovs_and_end_events_data_dir, r'TESTING_DATASETS')\n",
    "\n",
    "files_dir_outg             = os.path.join(dovs_and_end_events_data_dir, r'EndEvents')\n",
    "files_dir_outg_prim_strict = os.path.join(dovs_and_end_events_data_dir, r'EndEvents_prim_strict')\n",
    "files_dir_no_outg = os.path.join(dovs_and_end_events_data_dir, r'EndEvents_NoOutg')\n",
    "\n",
    "file_path_glob = r'end_events_[0-9]*.csv'\n",
    "file_path_regex = None\n",
    "\n",
    "assert_all_cols_equal=False #Seems new EndEvents have curr_acct_cls_cd as well...\n",
    "include_normalize_by_nSNs=True\n",
    "inclue_zero_counts=True\n",
    "return_multiindex_outg_reason=False\n",
    "return_normalized_separately=False\n",
    "\n",
    "days_min_outg_td_window=1\n",
    "days_max_outg_td_window=30\n",
    "\n",
    "if include_normalize_by_nSNs and not return_normalized_separately:\n",
    "    normalize_by_nSNs_included=True\n",
    "else:\n",
    "    normalize_by_nSNs_included=False\n",
    "    \n",
    "xfmr_equip_typ_nms_of_interest = ['TRANSFORMER, OH', 'TRANSFORMER, UG']"
   ]
  },
  {
   "cell_type": "code",
   "execution_count": null,
   "id": "2f514f77",
   "metadata": {},
   "outputs": [],
   "source": [
    "save_dfs_to_pkl = False\n",
    "read_dfs_from_pkl = False\n",
    "save_dir_base_pkls = os.path.join(Utilities.get_local_data_dir(), r'dovs_and_end_events_data', 'rcpo_dfs')\n",
    "\n",
    "assert(save_dfs_to_pkl+read_dfs_from_pkl <=1) # Should never both read and write!"
   ]
  },
  {
   "cell_type": "code",
   "execution_count": null,
   "id": "6f7c9587",
   "metadata": {},
   "outputs": [],
   "source": [
    "#-------------------------\n",
    "outg_save_subdir = f'outg_td_window_{days_min_outg_td_window}_to_{days_max_outg_td_window}_days'\n",
    "save_dir_base_outg_pkls = os.path.join(save_dir_base_pkls, outg_save_subdir)\n",
    "if save_dfs_to_pkl and not os.path.exists(save_dir_base_outg_pkls):\n",
    "    os.makedirs(save_dir_base_outg_pkls)\n",
    "#-------------------------"
   ]
  },
  {
   "cell_type": "code",
   "execution_count": null,
   "id": "eacf9505",
   "metadata": {},
   "outputs": [],
   "source": []
  },
  {
   "cell_type": "markdown",
   "id": "7742b691",
   "metadata": {},
   "source": [
    "# TODO!~\n",
    "Should all : be replaced with \\: (except. e.g., ?:)\n",
    "Also, do all . need to be replaced with \\. when I mean period instead of any character?!"
   ]
  },
  {
   "cell_type": "code",
   "execution_count": null,
   "id": "0d839986",
   "metadata": {},
   "outputs": [],
   "source": [
    "patterns_to_replace=[\n",
    "    r'\\:?\\s*([0-9a-zA-Z]{1,2})(\\:[0-9a-zA-Z]{1,2})+', \n",
    "   (\n",
    "       (\n",
    "           r'(Under Voltage)\\s*'\\\n",
    "           r'([0-9a-zA-Z]*)?\\s*'\\\n",
    "           r'(\\([0-9a-zA-Z\\s]*\\))\\s*'\\\n",
    "           r'([0-9a-zA-Z]*)?\\s?'\\\n",
    "           r'(for meter\\:?\\s*)'\\\n",
    "           r'(?:(?:[0-9a-zA-Z]{1,2})(?:\\:[0-9a-zA-Z]{1,2})+)?[\\s:,.]*'\\\n",
    "           r'(?:Phase\\s{1,2}[ABC](?:(?:\\s*and\\s*[ABC])|(?:,\\s*[ABC])*))?\\s*'\\\n",
    "           r'(Voltage out of tolerance)?'\n",
    "       ), \n",
    "       'AMIEndEvents.under_voltage_match_func'\n",
    "   ), \n",
    "   (\n",
    "       (\n",
    "           r'(Last Gasp\\s*-\\s*[0-9a-zA-Z\\s]*)[\\s\\:,.]*'\\\n",
    "           r'.*'\\\n",
    "           r'(Fail Reason: .*)$'\n",
    "       ), \n",
    "       'AMIEndEvents.last_gasp_reduce_func'\n",
    "   ), \n",
    "    (r'(Angle out of tolerance) \\[.*\\]', r'\\1'), \n",
    "    (r'(NIC Power Restore Trap Received from device).*', r'\\1'), #TODO This has much info, like last gasp\n",
    "    (\n",
    "        (\n",
    "            r'(Requested operation .* could not be applied to the given device type and firmware version.) '\\\n",
    "            r'Device, DeviceType: .*, Firmware Version: .*$'\n",
    "        ), \n",
    "        r'\\1'\n",
    "    ), \n",
    "    ('meterN/A', 'meter'),\n",
    "    (r'(Meter needs explicit time sync.) Drift: -?\\d* s, (Encountered Problems:\\s*.*), Meter_Time', r'\\1 \\2'), \n",
    "    (r'(Meter Program Seal mismatch for Device) \\[Device ID, MAC Id\\] = .*', r'\\1'), \n",
    "    (r'Device Time: .* Failed Device Reason: (.*) Reboot Counter: .* Refresh Counter: .*', r'\\1'), \n",
    "    (r'(Ignoring (?:Interval|Register) Read data for device as it has time in the future) .*', r'\\1'), \n",
    "    (r'(Secure association operation failed consecutively for 1 times for [0-9a-zA-Z]{4}.) .*', r'\\1'), \n",
    "    (r'Device, (Last Gasp State: .*), (Detector State: .*), Reboot Count: \\d*', r'\\1, \\2'), \n",
    "    (r'(Detected end of voltage sag on meter).*', r'\\1'), \n",
    "    (r'(Detected end of voltage swell on meter).*', r'\\1'), \n",
    "    r'N/A', \n",
    "    (r'\\s{2,}', ' ')\n",
    "]"
   ]
  },
  {
   "cell_type": "code",
   "execution_count": null,
   "id": "fdb02a4a",
   "metadata": {},
   "outputs": [],
   "source": []
  },
  {
   "cell_type": "code",
   "execution_count": null,
   "id": "618ffe4a",
   "metadata": {},
   "outputs": [],
   "source": [
    "if not read_dfs_from_pkl:\n",
    "    start = time.time()\n",
    "    rcpo_df_OG, ede_typeid_to_reason_df_OG = OutageMdlrPrep.build_rcpx_df_from_EndEvents_in_csvs(    \n",
    "        files_dir=files_dir_outg, \n",
    "        mp_df=None, \n",
    "        file_path_glob=file_path_glob, \n",
    "        file_path_regex=file_path_regex, \n",
    "        patterns_to_replace=patterns_to_replace, \n",
    "        min_outg_td_window=datetime.timedelta(days=days_min_outg_td_window),\n",
    "        max_outg_td_window=datetime.timedelta(days=days_max_outg_td_window),\n",
    "        build_ede_typeid_to_reason_df=True, \n",
    "        batch_size=1000, \n",
    "        cols_and_types_to_convert_dict=None, \n",
    "        to_numeric_errors='coerce', \n",
    "        assert_all_cols_equal=assert_all_cols_equal, \n",
    "        include_normalize_by_nSNs=include_normalize_by_nSNs, \n",
    "        inclue_zero_counts=inclue_zero_counts, \n",
    "        return_multiindex_outg_reason=return_multiindex_outg_reason, \n",
    "        return_normalized_separately=return_normalized_separately, \n",
    "        verbose=True, \n",
    "        n_update=1, \n",
    "        is_no_outage=False, \n",
    "        include_prem_nbs=True\n",
    "    )\n",
    "    print(time.time()-start)\n",
    "    #-------------------------\n",
    "    if save_dfs_to_pkl:\n",
    "        rcpo_df_OG.to_pickle(os.path.join(save_dir_base_outg_pkls, 'rcpo_df_OG.pkl'))\n",
    "        ede_typeid_to_reason_df_OG.to_pickle(os.path.join(save_dir_base_outg_pkls, 'ede_typeid_to_reason_df_OG.pkl'))        \n",
    "else:\n",
    "    rcpo_df_OG = pd.read_pickle(os.path.join(save_dir_base_outg_pkls, 'rcpo_df_OG.pkl'))\n",
    "    ede_typeid_to_reason_df_OG = pd.read_pickle(os.path.join(save_dir_base_outg_pkls, 'ede_typeid_to_reason_df_OG.pkl'))    "
   ]
  },
  {
   "cell_type": "code",
   "execution_count": null,
   "id": "d2ade15e",
   "metadata": {},
   "outputs": [],
   "source": [
    "print(rcpo_df_OG.shape)"
   ]
  },
  {
   "cell_type": "code",
   "execution_count": null,
   "id": "7ae24e45",
   "metadata": {},
   "outputs": [],
   "source": []
  },
  {
   "cell_type": "code",
   "execution_count": null,
   "id": "84466736",
   "metadata": {},
   "outputs": [],
   "source": [
    "if not read_dfs_from_pkl:\n",
    "    start = time.time() \n",
    "    rcpo_prim_strict_df_OG, ede_typeid_to_reason_prim_strict_df_OG = OutageMdlrPrep.build_rcpx_df_from_EndEvents_in_csvs(    \n",
    "        files_dir=files_dir_outg_prim_strict, \n",
    "        mp_df=None, \n",
    "        file_path_glob=file_path_glob, \n",
    "        file_path_regex=file_path_regex, \n",
    "        patterns_to_replace=patterns_to_replace, \n",
    "        min_outg_td_window=datetime.timedelta(days=days_min_outg_td_window),\n",
    "        max_outg_td_window=datetime.timedelta(days=days_max_outg_td_window),\n",
    "        build_ede_typeid_to_reason_df=True, \n",
    "        batch_size=50, \n",
    "        cols_and_types_to_convert_dict=None, \n",
    "        to_numeric_errors='coerce', \n",
    "        assert_all_cols_equal=assert_all_cols_equal, \n",
    "        include_normalize_by_nSNs=include_normalize_by_nSNs, \n",
    "        inclue_zero_counts=inclue_zero_counts, \n",
    "        return_multiindex_outg_reason=return_multiindex_outg_reason, \n",
    "        return_normalized_separately=return_normalized_separately, \n",
    "        verbose=True, \n",
    "        n_update=1, \n",
    "        is_no_outage=False, \n",
    "        include_prem_nbs=True\n",
    "    )\n",
    "    print(time.time()-start)\n",
    "    #-------------------------\n",
    "    if save_dfs_to_pkl:\n",
    "        rcpo_prim_strict_df_OG.to_pickle(os.path.join(save_dir_base_outg_pkls, 'rcpo_prim_strict_df_OG.pkl'))\n",
    "        ede_typeid_to_reason_prim_strict_df_OG.to_pickle(os.path.join(save_dir_base_outg_pkls, 'ede_typeid_to_reason_prim_strict_df_OG.pkl'))        \n",
    "else:\n",
    "    rcpo_prim_strict_df_OG = pd.read_pickle(os.path.join(save_dir_base_outg_pkls, 'rcpo_prim_strict_df_OG.pkl'))\n",
    "    ede_typeid_to_reason_prim_strict_df_OG = pd.read_pickle(os.path.join(save_dir_base_outg_pkls, 'ede_typeid_to_reason_prim_strict_df_OG.pkl'))    "
   ]
  },
  {
   "cell_type": "code",
   "execution_count": null,
   "id": "bd1e9e1c",
   "metadata": {},
   "outputs": [],
   "source": [
    "print(rcpo_prim_strict_df_OG.shape)"
   ]
  },
  {
   "cell_type": "code",
   "execution_count": null,
   "id": "f5859d4e",
   "metadata": {},
   "outputs": [],
   "source": []
  },
  {
   "cell_type": "code",
   "execution_count": null,
   "id": "31e05f5f",
   "metadata": {},
   "outputs": [],
   "source": [
    "if not read_dfs_from_pkl:\n",
    "    start = time.time()\n",
    "    rcpo_no_outg_df_OG, ede_typeid_to_reason_no_outg_df_OG = OutageMdlrPrep.build_rcpx_df_from_EndEvents_in_csvs(    \n",
    "        files_dir=files_dir_no_outg, \n",
    "        mp_df=None, \n",
    "        file_path_glob=file_path_glob, \n",
    "        file_path_regex=file_path_regex, \n",
    "        patterns_to_replace=patterns_to_replace, \n",
    "        min_outg_td_window=datetime.timedelta(days=days_min_outg_td_window),\n",
    "        max_outg_td_window=datetime.timedelta(days=days_max_outg_td_window),\n",
    "        build_ede_typeid_to_reason_df=True, \n",
    "        batch_size=1000, \n",
    "        cols_and_types_to_convert_dict=None, \n",
    "        to_numeric_errors='coerce', \n",
    "        assert_all_cols_equal=assert_all_cols_equal, \n",
    "        include_normalize_by_nSNs=include_normalize_by_nSNs, \n",
    "        inclue_zero_counts=inclue_zero_counts, \n",
    "        return_multiindex_outg_reason=return_multiindex_outg_reason, \n",
    "        return_normalized_separately=return_normalized_separately, \n",
    "        verbose=True, \n",
    "        n_update=1, \n",
    "        outg_rec_nb_col='trsf_pole_nb', \n",
    "        is_no_outage=True, \n",
    "        include_prem_nbs=True\n",
    "    )\n",
    "    print(time.time()-start)\n",
    "    #-------------------------\n",
    "    if save_dfs_to_pkl:\n",
    "        rcpo_no_outg_df_OG.to_pickle(os.path.join(save_dir_base_outg_pkls, 'rcpo_no_outg_df_OG.pkl'))\n",
    "        ede_typeid_to_reason_no_outg_df_OG.to_pickle(os.path.join(save_dir_base_outg_pkls, 'ede_typeid_to_reason_no_outg_df_OG.pkl'))        \n",
    "else:\n",
    "    rcpo_no_outg_df_OG = pd.read_pickle(os.path.join(save_dir_base_outg_pkls, 'rcpo_no_outg_df_OG.pkl'))\n",
    "    ede_typeid_to_reason_no_outg_df_OG = pd.read_pickle(os.path.join(save_dir_base_outg_pkls, 'ede_typeid_to_reason_no_outg_df_OG.pkl'))    "
   ]
  },
  {
   "cell_type": "code",
   "execution_count": null,
   "id": "c80d1a07",
   "metadata": {},
   "outputs": [],
   "source": [
    "print(rcpo_no_outg_df_OG.shape)"
   ]
  },
  {
   "cell_type": "code",
   "execution_count": null,
   "id": "387ef4ba",
   "metadata": {},
   "outputs": [],
   "source": []
  },
  {
   "cell_type": "code",
   "execution_count": null,
   "id": "ea36e20e",
   "metadata": {},
   "outputs": [],
   "source": []
  },
  {
   "cell_type": "code",
   "execution_count": null,
   "id": "e6666a63",
   "metadata": {},
   "outputs": [],
   "source": [
    "ede_typeid_to_reason_df = AMIEndEvents.combine_two_ede_typeid_to_reason_dfs(\n",
    "    ede_typeid_to_reason_df_OG, \n",
    "    ede_typeid_to_reason_prim_strict_df_OG, \n",
    "    sort=True\n",
    ")\n",
    "ede_typeid_to_reason_df = AMIEndEvents.combine_two_ede_typeid_to_reason_dfs(\n",
    "    ede_typeid_to_reason_df, \n",
    "    ede_typeid_to_reason_no_outg_df_OG, \n",
    "    sort=True\n",
    ")"
   ]
  },
  {
   "cell_type": "code",
   "execution_count": null,
   "id": "026b23f6",
   "metadata": {},
   "outputs": [],
   "source": [
    "print(ede_typeid_to_reason_df_OG.shape)\n",
    "print(ede_typeid_to_reason_prim_strict_df_OG.shape)\n",
    "print(ede_typeid_to_reason_no_outg_df_OG.shape)"
   ]
  },
  {
   "cell_type": "code",
   "execution_count": null,
   "id": "895b24fb",
   "metadata": {},
   "outputs": [],
   "source": [
    "print(len(set(ede_typeid_to_reason_df_OG.index.tolist() + \n",
    "              ede_typeid_to_reason_prim_strict_df_OG.index.tolist() + \n",
    "              ede_typeid_to_reason_no_outg_df_OG.index.tolist())))\n",
    "print(ede_typeid_to_reason_df.shape)"
   ]
  },
  {
   "cell_type": "code",
   "execution_count": null,
   "id": "16453752",
   "metadata": {},
   "outputs": [],
   "source": [
    "reason_to_ede_typeid_df = AMIEndEvents.invert_ede_typeid_to_reason_df(ede_typeid_to_reason_df)"
   ]
  },
  {
   "cell_type": "code",
   "execution_count": null,
   "id": "c71c149d",
   "metadata": {},
   "outputs": [],
   "source": [
    "reason_to_ede_typeid_df"
   ]
  },
  {
   "cell_type": "code",
   "execution_count": null,
   "id": "063954d3",
   "metadata": {},
   "outputs": [],
   "source": []
  },
  {
   "cell_type": "code",
   "execution_count": null,
   "id": "87959d08",
   "metadata": {},
   "outputs": [],
   "source": [
    "# reason_counts_df = AMIEndEvents.get_net_reason_counts_for_outages_from_rcpo_df(\n",
    "#     rcpo_df = rcpo_df, \n",
    "#     reason_col='reason', \n",
    "#     normalize_by_nSNs_included=normalize_by_nSNs_included\n",
    "# )\n",
    "# # reason_counts_df = reason_counts_df.sort_values(by=('counts_norm', 'mean'), ascending=False)\n",
    "# # ax = reason_counts_df.plot.bar(y=('counts_norm', 'mean'), rot=90)"
   ]
  },
  {
   "cell_type": "code",
   "execution_count": null,
   "id": "be1b3210",
   "metadata": {},
   "outputs": [],
   "source": [
    "# reason_counts_prim_strict_df = AMIEndEvents.get_net_reason_counts_for_outages_from_rcpo_df(\n",
    "#     rcpo_df = rcpo_prim_strict_df, \n",
    "#     reason_col='reason', \n",
    "#     normalize_by_nSNs_included=normalize_by_nSNs_included\n",
    "# )\n",
    "# # reason_counts_prim_strict_df = reason_counts_prim_strict_df.sort_values(by=('counts_norm', 'mean'), ascending=False)\n",
    "# # ax = reason_counts_prim_strict_df.plot.bar(y=('counts_norm', 'mean'), rot=90)"
   ]
  },
  {
   "cell_type": "code",
   "execution_count": null,
   "id": "eb28d245",
   "metadata": {},
   "outputs": [],
   "source": []
  },
  {
   "cell_type": "code",
   "execution_count": null,
   "id": "80254a47",
   "metadata": {},
   "outputs": [],
   "source": [
    "rcpo_df = rcpo_df_OG.copy()\n",
    "rcpo_prim_strict_df = rcpo_prim_strict_df_OG.copy()\n",
    "rcpo_no_outg_df = rcpo_no_outg_df_OG.copy()"
   ]
  },
  {
   "cell_type": "code",
   "execution_count": null,
   "id": "1b861127",
   "metadata": {},
   "outputs": [],
   "source": []
  },
  {
   "cell_type": "code",
   "execution_count": null,
   "id": "15b7704c",
   "metadata": {},
   "outputs": [],
   "source": [
    "if not read_dfs_from_pkl:\n",
    "    start=time.time()\n",
    "    #-------------------------\n",
    "    rcpo_df_raw  = MECPODf.project_level_0_columns_from_rcpo_wide(rcpo_df, 'counts', droplevel=True)\n",
    "    #-----\n",
    "    rcpo_df_raw = MECPODf.add_outage_SNs_to_rcpo_df(\n",
    "        rcpo_df=rcpo_df_raw, \n",
    "        set_outage_nSNs=True, \n",
    "        include_outage_premise_nbs=True    \n",
    "    )\n",
    "    #-----\n",
    "    rcpo_df_raw = MECPODf.add_prim_SNs_to_rcpo_df(\n",
    "        rcpo_df=rcpo_df_raw, \n",
    "        direct_SNs_in_outgs_df=None, \n",
    "        outg_rec_nb_col='index', \n",
    "        prim_SNs_col='direct_serial_numbers', \n",
    "        set_prim_nSNs=True, \n",
    "        sort_SNs=True, \n",
    "        build_direct_SNs_in_outgs_df_kwargs={}\n",
    "    )\n",
    "    #-------------------------\n",
    "    rcpo_df_norm = MECPODf.project_level_0_columns_from_rcpo_wide(rcpo_df, 'counts_norm', droplevel=True)\n",
    "    rcpo_df_norm_by_outg_nSNs = MECPODf.build_rcpo_df_norm_by_outg_nSNs(rcpo_df_raw)\n",
    "    rcpo_df_norm_by_prim_nSNs = MECPODf.build_rcpo_df_norm_by_prim_nSNs(\n",
    "        rcpo_df_raw=rcpo_df_raw, \n",
    "        direct_SNs_in_outgs_df=None, \n",
    "        outg_rec_nb_col='index', \n",
    "        prim_nSNs_col='_prim_nSNs', \n",
    "        prim_SNs_col='_prim_SNs', \n",
    "        other_SNs_col_tags_to_ignore=['_SNs', '_nSNs', '_prem_nbs', '_nprem_nbs'], \n",
    "        drop_prim_nSNs_eq_0=True, \n",
    "        new_level_0_val='counts_norm_by_prim_nSNs', \n",
    "        remove_SNs_cols=False, \n",
    "        build_direct_SNs_in_outgs_df_kwargs=dict(equip_typ_nms_of_interest=xfmr_equip_typ_nms_of_interest)\n",
    "    )\n",
    "    #-------------------------\n",
    "    icpo_df_raw = MECPODf.convert_rcpo_to_icpo_df(\n",
    "        rcpo_df=rcpo_df_raw, \n",
    "        reason_to_ede_typeid_df=reason_to_ede_typeid_df, \n",
    "        is_norm=False\n",
    "    )\n",
    "\n",
    "    icpo_df_norm = MECPODf.convert_rcpo_to_icpo_df(\n",
    "        rcpo_df=rcpo_df_norm, \n",
    "        reason_to_ede_typeid_df=reason_to_ede_typeid_df, \n",
    "        is_norm=True, \n",
    "        counts_col='_nSNs'\n",
    "    )\n",
    "\n",
    "    icpo_df_norm_by_outg_nSNs = MECPODf.convert_rcpo_to_icpo_df(\n",
    "        rcpo_df=rcpo_df_norm_by_outg_nSNs, \n",
    "        reason_to_ede_typeid_df=reason_to_ede_typeid_df, \n",
    "        is_norm=True, \n",
    "        counts_col='_outg_nSNs'\n",
    "    )\n",
    "\n",
    "    icpo_df_norm_by_prim_nSNs = MECPODf.convert_rcpo_to_icpo_df(\n",
    "        rcpo_df=rcpo_df_norm_by_prim_nSNs, \n",
    "        reason_to_ede_typeid_df=reason_to_ede_typeid_df, \n",
    "        is_norm=True, \n",
    "        counts_col='_prim_nSNs'\n",
    "    )\n",
    "    #-------------------------\n",
    "    print(time.time()-start)\n",
    "    #-------------------------\n",
    "    if save_dfs_to_pkl:\n",
    "        #-------------------------\n",
    "        rcpo_df_raw.to_pickle(os.path.join(save_dir_base_outg_pkls, 'rcpo_df_raw.pkl'))\n",
    "        rcpo_df_norm.to_pickle(os.path.join(save_dir_base_outg_pkls, 'rcpo_df_norm.pkl'))\n",
    "        rcpo_df_norm_by_outg_nSNs.to_pickle(os.path.join(save_dir_base_outg_pkls, 'rcpo_df_norm_by_outg_nSNs.pkl'))\n",
    "        rcpo_df_norm_by_prim_nSNs.to_pickle(os.path.join(save_dir_base_outg_pkls, 'rcpo_df_norm_by_prim_nSNs.pkl'))\n",
    "        #-----\n",
    "        icpo_df_raw.to_pickle(os.path.join(save_dir_base_outg_pkls, 'icpo_df_raw.pkl'))\n",
    "        icpo_df_norm.to_pickle(os.path.join(save_dir_base_outg_pkls, 'icpo_df_norm.pkl'))\n",
    "        icpo_df_norm_by_outg_nSNs.to_pickle(os.path.join(save_dir_base_outg_pkls, 'icpo_df_norm_by_outg_nSNs.pkl'))\n",
    "        icpo_df_norm_by_prim_nSNs.to_pickle(os.path.join(save_dir_base_outg_pkls, 'icpo_df_norm_by_prim_nSNs.pkl'))\n",
    "        #-------------------------\n",
    "else:\n",
    "    rcpo_df_raw = pd.read_pickle(os.path.join(save_dir_base_outg_pkls, 'rcpo_df_raw.pkl'))\n",
    "    rcpo_df_norm = pd.read_pickle(os.path.join(save_dir_base_outg_pkls, 'rcpo_df_norm.pkl'))\n",
    "    rcpo_df_norm_by_outg_nSNs = pd.read_pickle(os.path.join(save_dir_base_outg_pkls, 'rcpo_df_norm_by_outg_nSNs.pkl'))\n",
    "    rcpo_df_norm_by_prim_nSNs = pd.read_pickle(os.path.join(save_dir_base_outg_pkls, 'rcpo_df_norm_by_prim_nSNs.pkl'))\n",
    "    #-----\n",
    "    icpo_df_raw = pd.read_pickle(os.path.join(save_dir_base_outg_pkls, 'icpo_df_raw.pkl'))\n",
    "    icpo_df_norm = pd.read_pickle(os.path.join(save_dir_base_outg_pkls, 'icpo_df_norm.pkl'))\n",
    "    icpo_df_norm_by_outg_nSNs = pd.read_pickle(os.path.join(save_dir_base_outg_pkls, 'icpo_df_norm_by_outg_nSNs.pkl'))\n",
    "    icpo_df_norm_by_prim_nSNs = pd.read_pickle(os.path.join(save_dir_base_outg_pkls, 'icpo_df_norm_by_prim_nSNs.pkl'))"
   ]
  },
  {
   "cell_type": "code",
   "execution_count": null,
   "id": "b0184087",
   "metadata": {},
   "outputs": [],
   "source": []
  },
  {
   "cell_type": "code",
   "execution_count": null,
   "id": "1fa280af",
   "metadata": {},
   "outputs": [],
   "source": []
  },
  {
   "cell_type": "code",
   "execution_count": null,
   "id": "f68d84e0",
   "metadata": {},
   "outputs": [],
   "source": [
    "if not read_dfs_from_pkl:\n",
    "    start=time.time()\n",
    "    #-------------------------\n",
    "    rcpo_prim_strict_df_raw  = MECPODf.project_level_0_columns_from_rcpo_wide(rcpo_prim_strict_df, 'counts', droplevel=True)\n",
    "    #-----\n",
    "    rcpo_prim_strict_df_raw = MECPODf.add_outage_SNs_to_rcpo_df(\n",
    "        rcpo_df=rcpo_prim_strict_df_raw, \n",
    "        set_outage_nSNs=True, \n",
    "        include_outage_premise_nbs=True    \n",
    "    )\n",
    "    #-----\n",
    "    rcpo_prim_strict_df_raw = MECPODf.add_prim_SNs_to_rcpo_df(\n",
    "        rcpo_df=rcpo_prim_strict_df_raw, \n",
    "        direct_SNs_in_outgs_df=None, \n",
    "        outg_rec_nb_col='index', \n",
    "        prim_SNs_col='direct_serial_numbers', \n",
    "        set_prim_nSNs=True, \n",
    "        sort_SNs=True, \n",
    "        build_direct_SNs_in_outgs_df_kwargs={}\n",
    "    )\n",
    "    #-------------------------\n",
    "    rcpo_prim_strict_df_norm = MECPODf.project_level_0_columns_from_rcpo_wide(rcpo_prim_strict_df, 'counts_norm', droplevel=True)\n",
    "    rcpo_prim_strict_df_norm_by_outg_nSNs = MECPODf.build_rcpo_df_norm_by_outg_nSNs(rcpo_prim_strict_df_raw)\n",
    "    rcpo_prim_strict_df_norm_by_prim_nSNs = MECPODf.build_rcpo_df_norm_by_prim_nSNs(\n",
    "        rcpo_df_raw=rcpo_prim_strict_df_raw, \n",
    "        direct_SNs_in_outgs_df=None, \n",
    "        outg_rec_nb_col='index', \n",
    "        prim_nSNs_col='_prim_nSNs', \n",
    "        prim_SNs_col='_prim_SNs', \n",
    "        other_SNs_col_tags_to_ignore=['_SNs', '_nSNs', '_prem_nbs', '_nprem_nbs'], \n",
    "        drop_prim_nSNs_eq_0=True, \n",
    "        new_level_0_val='counts_norm_by_prim_nSNs', \n",
    "        remove_SNs_cols=False, \n",
    "        build_direct_SNs_in_outgs_df_kwargs=dict(equip_typ_nms_of_interest=xfmr_equip_typ_nms_of_interest)\n",
    "    )\n",
    "    #-------------------------\n",
    "    icpo_prim_strict_df_raw = MECPODf.convert_rcpo_to_icpo_df(\n",
    "        rcpo_df=rcpo_prim_strict_df_raw, \n",
    "        reason_to_ede_typeid_df=reason_to_ede_typeid_df, \n",
    "        is_norm=False\n",
    "    )\n",
    "\n",
    "    icpo_prim_strict_df_norm = MECPODf.convert_rcpo_to_icpo_df(\n",
    "        rcpo_df=rcpo_prim_strict_df_norm, \n",
    "        reason_to_ede_typeid_df=reason_to_ede_typeid_df, \n",
    "        is_norm=True, \n",
    "        counts_col='_nSNs'\n",
    "    )\n",
    "\n",
    "    icpo_prim_strict_df_norm_by_outg_nSNs = MECPODf.convert_rcpo_to_icpo_df(\n",
    "        rcpo_df=rcpo_prim_strict_df_norm_by_outg_nSNs, \n",
    "        reason_to_ede_typeid_df=reason_to_ede_typeid_df, \n",
    "        is_norm=True, \n",
    "        counts_col='_outg_nSNs'\n",
    "    )\n",
    "\n",
    "    icpo_prim_strict_df_norm_by_prim_nSNs = MECPODf.convert_rcpo_to_icpo_df(\n",
    "        rcpo_df=rcpo_prim_strict_df_norm_by_prim_nSNs, \n",
    "        reason_to_ede_typeid_df=reason_to_ede_typeid_df, \n",
    "        is_norm=True, \n",
    "        counts_col='_prim_nSNs'\n",
    "    )\n",
    "    #-------------------------\n",
    "    print(time.time()-start)\n",
    "    #-------------------------\n",
    "    if save_dfs_to_pkl:\n",
    "        #-------------------------\n",
    "        rcpo_prim_strict_df_raw.to_pickle(os.path.join(save_dir_base_outg_pkls, 'rcpo_prim_strict_df_raw.pkl'))\n",
    "        rcpo_prim_strict_df_norm.to_pickle(os.path.join(save_dir_base_outg_pkls, 'rcpo_prim_strict_df_norm.pkl'))\n",
    "        rcpo_prim_strict_df_norm_by_outg_nSNs.to_pickle(os.path.join(save_dir_base_outg_pkls, 'rcpo_prim_strict_df_norm_by_outg_nSNs.pkl'))\n",
    "        rcpo_prim_strict_df_norm_by_prim_nSNs.to_pickle(os.path.join(save_dir_base_outg_pkls, 'rcpo_prim_strict_df_norm_by_prim_nSNs.pkl'))\n",
    "        #-----\n",
    "        icpo_prim_strict_df_raw.to_pickle(os.path.join(save_dir_base_outg_pkls, 'icpo_prim_strict_df_raw.pkl'))\n",
    "        icpo_prim_strict_df_norm.to_pickle(os.path.join(save_dir_base_outg_pkls, 'icpo_prim_strict_df_norm.pkl'))\n",
    "        icpo_prim_strict_df_norm_by_outg_nSNs.to_pickle(os.path.join(save_dir_base_outg_pkls, 'icpo_prim_strict_df_norm_by_outg_nSNs.pkl'))\n",
    "        icpo_prim_strict_df_norm_by_prim_nSNs.to_pickle(os.path.join(save_dir_base_outg_pkls, 'icpo_prim_strict_df_norm_by_prim_nSNs.pkl'))\n",
    "        #-------------------------\n",
    "else:\n",
    "    rcpo_prim_strict_df_raw = pd.read_pickle(os.path.join(save_dir_base_outg_pkls, 'rcpo_prim_strict_df_raw.pkl'))\n",
    "    rcpo_prim_strict_df_norm = pd.read_pickle(os.path.join(save_dir_base_outg_pkls, 'rcpo_prim_strict_df_norm.pkl'))\n",
    "    rcpo_prim_strict_df_norm_by_outg_nSNs = pd.read_pickle(os.path.join(save_dir_base_outg_pkls, 'rcpo_prim_strict_df_norm_by_outg_nSNs.pkl'))\n",
    "    rcpo_prim_strict_df_norm_by_prim_nSNs = pd.read_pickle(os.path.join(save_dir_base_outg_pkls, 'rcpo_prim_strict_df_norm_by_prim_nSNs.pkl'))\n",
    "    #-----\n",
    "    icpo_prim_strict_df_raw = pd.read_pickle(os.path.join(save_dir_base_outg_pkls, 'icpo_prim_strict_df_raw.pkl'))\n",
    "    icpo_prim_strict_df_norm = pd.read_pickle(os.path.join(save_dir_base_outg_pkls, 'icpo_prim_strict_df_norm.pkl'))\n",
    "    icpo_prim_strict_df_norm_by_outg_nSNs = pd.read_pickle(os.path.join(save_dir_base_outg_pkls, 'icpo_prim_strict_df_norm_by_outg_nSNs.pkl'))\n",
    "    icpo_prim_strict_df_norm_by_prim_nSNs = pd.read_pickle(os.path.join(save_dir_base_outg_pkls, 'icpo_prim_strict_df_norm_by_prim_nSNs.pkl'))"
   ]
  },
  {
   "cell_type": "code",
   "execution_count": null,
   "id": "5639f762",
   "metadata": {},
   "outputs": [],
   "source": []
  },
  {
   "cell_type": "code",
   "execution_count": null,
   "id": "30bf83db",
   "metadata": {},
   "outputs": [],
   "source": [
    "if not read_dfs_from_pkl:\n",
    "    start=time.time()\n",
    "    #-------------------------\n",
    "    rcpo_no_outg_df_raw  = MECPODf.project_level_0_columns_from_rcpo_wide(rcpo_no_outg_df, 'counts', droplevel=True)\n",
    "    rcpo_no_outg_df_norm = MECPODf.project_level_0_columns_from_rcpo_wide(rcpo_no_outg_df, 'counts_norm', droplevel=True)\n",
    "    #-----\n",
    "    #-------------------------\n",
    "    icpo_no_outg_df_raw = MECPODf.convert_rcpo_to_icpo_df(\n",
    "        rcpo_df=rcpo_no_outg_df_raw, \n",
    "        reason_to_ede_typeid_df=reason_to_ede_typeid_df, \n",
    "        is_norm=False\n",
    "    )\n",
    "\n",
    "    icpo_no_outg_df_norm = MECPODf.convert_rcpo_to_icpo_df(\n",
    "        rcpo_df=rcpo_no_outg_df_norm, \n",
    "        reason_to_ede_typeid_df=reason_to_ede_typeid_df, \n",
    "        is_norm=True, \n",
    "        counts_col='_nSNs'\n",
    "    )\n",
    "    #-------------------------\n",
    "    print(time.time()-start)\n",
    "    #-------------------------\n",
    "    if save_dfs_to_pkl:\n",
    "        #-------------------------\n",
    "        rcpo_no_outg_df_raw.to_pickle(os.path.join(save_dir_base_outg_pkls, 'rcpo_no_outg_df_raw.pkl'))\n",
    "        rcpo_no_outg_df_norm.to_pickle(os.path.join(save_dir_base_outg_pkls, 'rcpo_no_outg_df_norm.pkl'))\n",
    "        #-----\n",
    "        icpo_no_outg_df_raw.to_pickle(os.path.join(save_dir_base_outg_pkls, 'icpo_no_outg_df_raw.pkl'))\n",
    "        icpo_no_outg_df_norm.to_pickle(os.path.join(save_dir_base_outg_pkls, 'icpo_no_outg_df_norm.pkl'))\n",
    "else:\n",
    "    rcpo_no_outg_df_raw = pd.read_pickle(os.path.join(save_dir_base_outg_pkls, 'rcpo_no_outg_df_raw.pkl'))\n",
    "    rcpo_no_outg_df_norm = pd.read_pickle(os.path.join(save_dir_base_outg_pkls, 'rcpo_no_outg_df_norm.pkl'))\n",
    "    #-----\n",
    "    icpo_no_outg_df_raw = pd.read_pickle(os.path.join(save_dir_base_outg_pkls, 'icpo_no_outg_df_raw.pkl'))\n",
    "    icpo_no_outg_df_norm = pd.read_pickle(os.path.join(save_dir_base_outg_pkls, 'icpo_no_outg_df_norm.pkl'))"
   ]
  },
  {
   "cell_type": "code",
   "execution_count": null,
   "id": "eee18597",
   "metadata": {},
   "outputs": [],
   "source": []
  },
  {
   "cell_type": "code",
   "execution_count": null,
   "id": "2fd2619f",
   "metadata": {},
   "outputs": [],
   "source": [
    "# Remove SNs cols\n",
    "#-------------------------\n",
    "rcpo_df_norm                = MECPODf.remove_SNs_cols_from_rcpo_df(rcpo_df_norm)\n",
    "rcpo_df_norm_by_outg_nSNs   = MECPODf.remove_SNs_cols_from_rcpo_df(rcpo_df_norm_by_outg_nSNs)\n",
    "rcpo_df_norm_by_prim_nSNs   = MECPODf.remove_SNs_cols_from_rcpo_df(rcpo_df_norm_by_prim_nSNs)\n",
    "#-------------------------\n",
    "rcpo_prim_strict_df_norm                = MECPODf.remove_SNs_cols_from_rcpo_df(rcpo_prim_strict_df_norm)\n",
    "rcpo_prim_strict_df_norm_by_outg_nSNs   = MECPODf.remove_SNs_cols_from_rcpo_df(rcpo_prim_strict_df_norm_by_outg_nSNs)\n",
    "rcpo_prim_strict_df_norm_by_prim_nSNs   = MECPODf.remove_SNs_cols_from_rcpo_df(rcpo_prim_strict_df_norm_by_prim_nSNs)\n",
    "#-------------------------\n",
    "rcpo_no_outg_df_norm                = MECPODf.remove_SNs_cols_from_rcpo_df(rcpo_no_outg_df_norm)"
   ]
  },
  {
   "cell_type": "code",
   "execution_count": null,
   "id": "5576246e",
   "metadata": {},
   "outputs": [],
   "source": []
  },
  {
   "cell_type": "code",
   "execution_count": null,
   "id": "0113628e",
   "metadata": {},
   "outputs": [],
   "source": []
  },
  {
   "cell_type": "code",
   "execution_count": null,
   "id": "4265a663",
   "metadata": {},
   "outputs": [],
   "source": [
    "#--------------------------------------------------\n",
    "# Make sure DFs have the same set of reasons, filling in empty entries where needed\n",
    "# DO RAW SEPARATELY, SINCE THOSE HAVE SERIAL NUMBER COLUMNS!\n",
    "#--------------------------------------------------\n",
    "AMIEndEvents.make_reason_counts_per_outg_columns_equal_dfs_list(\n",
    "    rcpo_dfs = [\n",
    "        rcpo_df_raw, \n",
    "        rcpo_prim_strict_df_raw, \n",
    "        rcpo_no_outg_df_raw\n",
    "    ], \n",
    "    same_order=True, \n",
    "    inplace=True\n",
    ")\n",
    "#-----\n",
    "AMIEndEvents.make_reason_counts_per_outg_columns_equal_dfs_list(\n",
    "    rcpo_dfs = [\n",
    "        rcpo_df_norm, \n",
    "        rcpo_df_norm_by_outg_nSNs, \n",
    "        rcpo_df_norm_by_prim_nSNs, \n",
    "\n",
    "        rcpo_prim_strict_df_norm, \n",
    "        rcpo_prim_strict_df_norm_by_outg_nSNs, \n",
    "        rcpo_prim_strict_df_norm_by_prim_nSNs, \n",
    "\n",
    "        rcpo_no_outg_df_norm\n",
    "    ], \n",
    "    same_order=True, \n",
    "    inplace=True\n",
    ")"
   ]
  },
  {
   "cell_type": "code",
   "execution_count": null,
   "id": "e7296520",
   "metadata": {},
   "outputs": [],
   "source": []
  },
  {
   "cell_type": "markdown",
   "id": "ab5bee04",
   "metadata": {},
   "source": [
    "# BEGIN: NEW PLOTTING STUFF"
   ]
  },
  {
   "cell_type": "code",
   "execution_count": null,
   "id": "e8920224",
   "metadata": {},
   "outputs": [],
   "source": [
    "rcpo_df_norm.shape"
   ]
  },
  {
   "cell_type": "code",
   "execution_count": null,
   "id": "5d3d8d91",
   "metadata": {},
   "outputs": [],
   "source": [
    "rcpo_df_norm['Under Voltage (CA000400) cleared for meter'].describe()"
   ]
  },
  {
   "cell_type": "code",
   "execution_count": null,
   "id": "1061bde6",
   "metadata": {},
   "outputs": [],
   "source": [
    "rcpo_df_norm.describe()"
   ]
  },
  {
   "cell_type": "code",
   "execution_count": null,
   "id": "55c86b99",
   "metadata": {},
   "outputs": [],
   "source": [
    "rcpo_df_norm[rcpo_df_norm.mean().sort_values(ascending=False).index.tolist()].describe()"
   ]
  },
  {
   "cell_type": "code",
   "execution_count": null,
   "id": "4c07d8ab",
   "metadata": {},
   "outputs": [],
   "source": [
    "rcpo_df_norm[rcpo_df_norm.mean().sort_values(ascending=False).index.tolist()].describe().T"
   ]
  },
  {
   "cell_type": "code",
   "execution_count": null,
   "id": "5016bd70",
   "metadata": {},
   "outputs": [],
   "source": []
  },
  {
   "cell_type": "code",
   "execution_count": null,
   "id": "45855550",
   "metadata": {},
   "outputs": [],
   "source": [
    "fig, ax0 = plt.subplots(1, 1, num=fig_num, figsize=[14, 6])\n",
    "order=rcpo_df_norm.mean().sort_values(ascending=False).index.tolist()\n",
    "rcpo_df_norm[order].describe().T.drop('count', axis=1).plot(ax=ax0)\n",
    "ax0.set_xticks(range(len(order)))\n",
    "ax0.set_xticklabels(order)\n",
    "ax0.tick_params(axis='x', labelrotation=90, labelsize=7.0)"
   ]
  },
  {
   "cell_type": "code",
   "execution_count": null,
   "id": "719075f2",
   "metadata": {},
   "outputs": [],
   "source": [
    "idk = rcpo_df_norm[rcpo_df_norm.mean().sort_values(ascending=False).index.tolist()].describe().T"
   ]
  },
  {
   "cell_type": "code",
   "execution_count": null,
   "id": "3b46692e",
   "metadata": {},
   "outputs": [],
   "source": [
    "idk"
   ]
  },
  {
   "cell_type": "code",
   "execution_count": null,
   "id": "ff4e0761",
   "metadata": {},
   "outputs": [],
   "source": [
    "idk35 = rcpo_df_norm[rcpo_df_norm.mean().sort_values(ascending=False).index.tolist()].quantile(0.35)"
   ]
  },
  {
   "cell_type": "code",
   "execution_count": null,
   "id": "12bbcf4d",
   "metadata": {},
   "outputs": [],
   "source": [
    "rcpo_df_norm[rcpo_df_norm.mean().sort_values(ascending=False).index.tolist()].quantile(0.35)"
   ]
  },
  {
   "cell_type": "code",
   "execution_count": null,
   "id": "7f21c49b",
   "metadata": {},
   "outputs": [],
   "source": [
    "idk35.name='35%'"
   ]
  },
  {
   "cell_type": "code",
   "execution_count": null,
   "id": "2d7813fd",
   "metadata": {},
   "outputs": [],
   "source": [
    "idk.merge(idk35, left_index=True, right_index=True)"
   ]
  },
  {
   "cell_type": "code",
   "execution_count": null,
   "id": "876f18d7",
   "metadata": {},
   "outputs": [],
   "source": [
    "quantiles = np.arange(0.1,1.0,0.1).tolist()\n",
    "quantiles.extend([0.95,0.975,0.99,0.999])"
   ]
  },
  {
   "cell_type": "code",
   "execution_count": null,
   "id": "fe90ab11",
   "metadata": {},
   "outputs": [],
   "source": []
  },
  {
   "cell_type": "code",
   "execution_count": null,
   "id": "0edae378",
   "metadata": {},
   "outputs": [],
   "source": [
    "rcpo_df_norm.mean()"
   ]
  },
  {
   "cell_type": "code",
   "execution_count": null,
   "id": "bf55ad19",
   "metadata": {},
   "outputs": [],
   "source": [
    "rcpo_df_norm[rcpo_df_norm.mean().sort_values(ascending=False).index.tolist()]"
   ]
  },
  {
   "cell_type": "code",
   "execution_count": null,
   "id": "c588c17f",
   "metadata": {},
   "outputs": [],
   "source": [
    "rcpo_df_norm[rcpo_df_norm.mean().sort_values(ascending=False).index.tolist()].astype(float).quantile(0.90)"
   ]
  },
  {
   "cell_type": "code",
   "execution_count": null,
   "id": "4b1dfe1a",
   "metadata": {},
   "outputs": [],
   "source": [
    "quant_series = []\n",
    "for quant in quantiles:\n",
    "    q_i = rcpo_df_norm[rcpo_df_norm.mean().sort_values(ascending=False).index.tolist()].astype(float).quantile(quant)\n",
    "    q_i.name = f'{round(quant*100,1)}%'\n",
    "    quant_series.append(q_i)"
   ]
  },
  {
   "cell_type": "code",
   "execution_count": null,
   "id": "8a3d8745",
   "metadata": {},
   "outputs": [],
   "source": [
    "quant_df = pd.concat(quant_series, axis=1)"
   ]
  },
  {
   "cell_type": "code",
   "execution_count": null,
   "id": "25dbc273",
   "metadata": {},
   "outputs": [],
   "source": [
    "quant_df"
   ]
  },
  {
   "cell_type": "code",
   "execution_count": null,
   "id": "85f41add",
   "metadata": {},
   "outputs": [],
   "source": []
  },
  {
   "cell_type": "code",
   "execution_count": null,
   "id": "ef374772",
   "metadata": {},
   "outputs": [],
   "source": [
    "fig, ax0 = plt.subplots(1, 1, num=fig_num, figsize=[14, 6])\n",
    "order=rcpo_df_norm.mean().sort_values(ascending=False).index.tolist()\n",
    "quant_df.loc[order].plot(ax=ax0)\n",
    "ax0.set_xticks(range(len(order)))\n",
    "ax0.set_xticklabels(order)\n",
    "ax0.tick_params(axis='x', labelrotation=90, labelsize=7.0)"
   ]
  },
  {
   "cell_type": "code",
   "execution_count": null,
   "id": "027575ea",
   "metadata": {},
   "outputs": [],
   "source": [
    "fig, ax0 = plt.subplots(1, 1, num=fig_num, figsize=[14, 6])\n",
    "order=rcpo_df_norm.mean().sort_values(ascending=False).index.tolist()[:10]\n",
    "quant_df.loc[order].plot(ax=ax0)\n",
    "ax0.set_xticks(range(len(order)))\n",
    "ax0.set_xticklabels(order)\n",
    "ax0.tick_params(axis='x', labelrotation=90, labelsize=7.0)"
   ]
  },
  {
   "cell_type": "code",
   "execution_count": null,
   "id": "e498f579",
   "metadata": {},
   "outputs": [],
   "source": []
  },
  {
   "cell_type": "code",
   "execution_count": null,
   "id": "6e59ce17",
   "metadata": {},
   "outputs": [],
   "source": []
  },
  {
   "cell_type": "code",
   "execution_count": null,
   "id": "f9b51d06",
   "metadata": {},
   "outputs": [],
   "source": []
  },
  {
   "cell_type": "code",
   "execution_count": null,
   "id": "37effc15",
   "metadata": {},
   "outputs": [],
   "source": []
  },
  {
   "cell_type": "code",
   "execution_count": null,
   "id": "a1935924",
   "metadata": {},
   "outputs": [],
   "source": [
    "fig, ax0 = plt.subplots(1, 1, num=fig_num, figsize=[14, 6])\n",
    "sns.boxplot(ax=ax0, x=\"reason\", y=\"value\", data=pd.melt(rcpo_df_norm), \n",
    "            order=rcpo_df_norm.mean().sort_values(ascending=False).index.tolist())\n",
    "ax0.tick_params(axis='x', labelrotation=90, labelsize=7.0)"
   ]
  },
  {
   "cell_type": "code",
   "execution_count": null,
   "id": "88724351",
   "metadata": {},
   "outputs": [],
   "source": [
    "fig, ax0 = plt.subplots(1, 1, num=fig_num, figsize=[14, 6])\n",
    "sns.boxplot(ax=ax0, x=\"reason\", y=\"value\", data=pd.melt(rcpo_df_norm), \n",
    "            order=rcpo_df_norm.mean().sort_values(ascending=False).index.tolist())\n",
    "ax0.tick_params(axis='x', labelrotation=90, labelsize=7.0)\n",
    "ax0.set_yscale('log')"
   ]
  },
  {
   "cell_type": "code",
   "execution_count": null,
   "id": "144211d5",
   "metadata": {},
   "outputs": [],
   "source": []
  },
  {
   "cell_type": "code",
   "execution_count": null,
   "id": "5c82b097",
   "metadata": {},
   "outputs": [],
   "source": [
    "fig, ax0 = plt.subplots(1, 1, num=fig_num, figsize=[14, 6])\n",
    "sns.boxplot(ax=ax0, x=\"reason\", y=\"value\", data=pd.melt(rcpo_df_norm), \n",
    "            order=rcpo_df_norm.mean().sort_values(ascending=False).index.tolist())\n",
    "ax0.tick_params(axis='x', labelrotation=90, labelsize=7.0)\n",
    "ax0.set_ylim(ymin=0.0, ymax=15.0)"
   ]
  },
  {
   "cell_type": "code",
   "execution_count": null,
   "id": "4d62c8a4",
   "metadata": {},
   "outputs": [],
   "source": []
  },
  {
   "cell_type": "code",
   "execution_count": null,
   "id": "0c3f369c",
   "metadata": {},
   "outputs": [],
   "source": [
    "fig, ax0 = plt.subplots(1, 1, num=fig_num, figsize=[14, 6])\n",
    "sns.boxplot(ax=ax0, x=\"reason\", y=\"value\", data=pd.melt(rcpo_df_norm), showfliers=False, \n",
    "            order=rcpo_df_norm.mean().sort_values(ascending=False).index.tolist())\n",
    "ax0.tick_params(axis='x', labelrotation=90, labelsize=7.0)"
   ]
  },
  {
   "cell_type": "code",
   "execution_count": null,
   "id": "085fb972",
   "metadata": {},
   "outputs": [],
   "source": [
    "rcpo_df_norm"
   ]
  },
  {
   "cell_type": "code",
   "execution_count": null,
   "id": "62a4bf83",
   "metadata": {},
   "outputs": [],
   "source": [
    "pd.melt(rcpo_df_norm)"
   ]
  },
  {
   "cell_type": "markdown",
   "id": "3d12a58f",
   "metadata": {},
   "source": [
    "# END: NEW PLOTTING STUFF"
   ]
  },
  {
   "cell_type": "code",
   "execution_count": null,
   "id": "06434728",
   "metadata": {},
   "outputs": [],
   "source": []
  },
  {
   "cell_type": "code",
   "execution_count": null,
   "id": "02a8f186",
   "metadata": {},
   "outputs": [],
   "source": []
  },
  {
   "cell_type": "markdown",
   "id": "f1c90135",
   "metadata": {},
   "source": [
    "# BEGIN: STANDARD PLOTTING STUFF"
   ]
  },
  {
   "cell_type": "code",
   "execution_count": null,
   "id": "d6386548",
   "metadata": {},
   "outputs": [],
   "source": [
    "fig, ax0 = plt.subplots(1, 1, num=fig_num, figsize=[14, 6])\n",
    "sns.barplot(ax=ax0, data=rcpo_df_norm)\n",
    "ax0.tick_params(axis='x', labelrotation=90, labelsize=7.0)"
   ]
  },
  {
   "cell_type": "code",
   "execution_count": null,
   "id": "63f97a10",
   "metadata": {},
   "outputs": [],
   "source": [
    "fig, ax0 = plt.subplots(1, 1, num=fig_num, figsize=[14, 6])\n",
    "sns.barplot(ax=ax0, data=rcpo_df_norm, ci='sd')\n",
    "ax0.tick_params(axis='x', labelrotation=90, labelsize=7.0)"
   ]
  },
  {
   "cell_type": "code",
   "execution_count": null,
   "id": "35650eb3",
   "metadata": {},
   "outputs": [],
   "source": [
    "fig, ax0 = plt.subplots(1, 1, num=fig_num, figsize=[14, 6])\n",
    "sns.barplot(ax=ax0, data=rcpo_df_norm, order=rcpo_df_norm.mean().sort_values(ascending=False).index.tolist())\n",
    "ax0.tick_params(axis='x', labelrotation=90, labelsize=7.0)"
   ]
  },
  {
   "cell_type": "code",
   "execution_count": null,
   "id": "a2f8c43a",
   "metadata": {},
   "outputs": [],
   "source": [
    "fig, ax0 = plt.subplots(1, 1, num=fig_num, figsize=[14, 6])\n",
    "sns.barplot(ax=ax0, data=rcpo_prim_strict_df_norm, order=rcpo_prim_strict_df_norm.mean().sort_values(ascending=False).index.tolist())\n",
    "ax0.tick_params(axis='x', labelrotation=90, labelsize=7.0)"
   ]
  },
  {
   "cell_type": "code",
   "execution_count": null,
   "id": "b0dd40df",
   "metadata": {},
   "outputs": [],
   "source": []
  },
  {
   "cell_type": "code",
   "execution_count": null,
   "id": "2c22e3f5",
   "metadata": {},
   "outputs": [],
   "source": [
    "fig, ax0 = plt.subplots(1, 1, num=fig_num, figsize=[6, 14])\n",
    "sns.barplot(\n",
    "    ax=ax0, \n",
    "    data=rcpo_prim_strict_df_norm, \n",
    "    order=rcpo_prim_strict_df_norm.mean().sort_values(ascending=False).index.tolist(), \n",
    "    orient='h')\n",
    "ax0.tick_params(axis='x', labelrotation=90, labelsize=7.0)\n",
    "print('width ', ax0.patches[0].get_width())\n",
    "print('height ', ax0.patches[0].get_height())\n",
    "print('x ', ax0.patches[0].get_x())\n",
    "print('y ', ax0.patches[0].get_y())\n",
    "print()\n",
    "print('width ', ax0.patches[1].get_width())\n",
    "print('height ', ax0.patches[1].get_height())\n",
    "print('x ', ax0.patches[1].get_x())\n",
    "print('y ', ax0.patches[1].get_y())\n",
    "print()\n",
    "print('width ', ax0.patches[2].get_width())\n",
    "print('height ', ax0.patches[2].get_height())\n",
    "print('x ', ax0.patches[2].get_x())\n",
    "print('y ', ax0.patches[2].get_y())"
   ]
  },
  {
   "cell_type": "code",
   "execution_count": null,
   "id": "8c509f59",
   "metadata": {},
   "outputs": [],
   "source": []
  },
  {
   "cell_type": "code",
   "execution_count": null,
   "id": "3b685524",
   "metadata": {},
   "outputs": [],
   "source": []
  },
  {
   "cell_type": "code",
   "execution_count": null,
   "id": "0bf87ce4",
   "metadata": {},
   "outputs": [],
   "source": []
  },
  {
   "cell_type": "code",
   "execution_count": null,
   "id": "f6936772",
   "metadata": {},
   "outputs": [],
   "source": [
    "fig, ax1 = plt.subplots(1, 1, num=fig_num, figsize=[6, 14])\n",
    "sns.barplot(\n",
    "    ax=ax1, \n",
    "    data=rcpo_prim_strict_df_norm, \n",
    "    order=rcpo_prim_strict_df_norm.mean().sort_values(ascending=False).index.tolist(), \n",
    "    orient='v')\n",
    "ax1.tick_params(axis='x', labelrotation=90, labelsize=7.0)\n",
    "print('width ', ax1.patches[0].get_width())\n",
    "print('height ', ax1.patches[0].get_height())\n",
    "print('x ', ax1.patches[0].get_x())\n",
    "print('y ', ax1.patches[0].get_y())\n",
    "print()\n",
    "print('width ', ax1.patches[1].get_width())\n",
    "print('height ', ax1.patches[1].get_height())\n",
    "print('x ', ax1.patches[1].get_x())\n",
    "print('y ', ax1.patches[1].get_y())\n",
    "print()\n",
    "print('width ', ax1.patches[2].get_width())\n",
    "print('height ', ax1.patches[2].get_height())\n",
    "print('x ', ax1.patches[2].get_x())\n",
    "print('y ', ax1.patches[2].get_y())"
   ]
  },
  {
   "cell_type": "code",
   "execution_count": null,
   "id": "da4e79f6",
   "metadata": {},
   "outputs": [],
   "source": []
  },
  {
   "cell_type": "code",
   "execution_count": null,
   "id": "2ad6d1db",
   "metadata": {},
   "outputs": [],
   "source": []
  },
  {
   "cell_type": "code",
   "execution_count": null,
   "id": "44d1974d",
   "metadata": {},
   "outputs": [],
   "source": []
  },
  {
   "cell_type": "code",
   "execution_count": null,
   "id": "18d8979d",
   "metadata": {},
   "outputs": [],
   "source": []
  },
  {
   "cell_type": "code",
   "execution_count": null,
   "id": "519f02a5",
   "metadata": {},
   "outputs": [],
   "source": []
  },
  {
   "cell_type": "code",
   "execution_count": null,
   "id": "f12e91c1",
   "metadata": {},
   "outputs": [],
   "source": []
  },
  {
   "cell_type": "code",
   "execution_count": null,
   "id": "4854a8d8",
   "metadata": {},
   "outputs": [],
   "source": [
    "fig, ax0 = plt.subplots(1, 1, num=fig_num, figsize=[14, 6])\n",
    "sns.barplot(ax=ax0, data=rcpo_df_norm, order=rcpo_prim_strict_df_norm.mean().sort_values(ascending=False).index.tolist())\n",
    "ax0.tick_params(axis='x', labelrotation=90, labelsize=7.0)"
   ]
  },
  {
   "cell_type": "code",
   "execution_count": null,
   "id": "01bcddf9",
   "metadata": {},
   "outputs": [],
   "source": []
  },
  {
   "cell_type": "code",
   "execution_count": null,
   "id": "14d94e46",
   "metadata": {},
   "outputs": [],
   "source": []
  },
  {
   "cell_type": "code",
   "execution_count": null,
   "id": "05a7b765",
   "metadata": {},
   "outputs": [],
   "source": []
  },
  {
   "cell_type": "code",
   "execution_count": null,
   "id": "91381d90",
   "metadata": {},
   "outputs": [],
   "source": []
  },
  {
   "cell_type": "code",
   "execution_count": null,
   "id": "10c3be50",
   "metadata": {},
   "outputs": [],
   "source": []
  },
  {
   "cell_type": "code",
   "execution_count": null,
   "id": "dbdf1025",
   "metadata": {},
   "outputs": [],
   "source": [
    "fig, ax0 = plt.subplots(1, 1, num=fig_num, figsize=[14, 6])\n",
    "div_drawn_width_by=2\n",
    "#-------------------------\n",
    "n_patches_beg = len(ax0.patches)\n",
    "sns.barplot(\n",
    "    ax=ax0, \n",
    "    data=rcpo_df_norm, \n",
    "    order=rcpo_prim_strict_df_norm.mean().sort_values(ascending=False).index.tolist(), \n",
    "    color='red', \n",
    "    alpha=0.25, \n",
    "    label=\"Outages (All Xfmrs)\"\n",
    ")\n",
    "n_patches_end = len(ax0.patches)\n",
    "relative_position_idx=0\n",
    "ax0 = Plot_Bar.adjust_bar_and_line_positions_and_widths(ax0, div_drawn_width_by, relative_position_idx, \n",
    "                                                        i_patch_beg=n_patches_beg, i_patch_end=n_patches_end)\n",
    "#-------------------------\n",
    "n_patches_beg = len(ax0.patches)\n",
    "sns.barplot(\n",
    "    ax=ax0, \n",
    "    data=rcpo_prim_strict_df_norm, \n",
    "    order=rcpo_prim_strict_df_norm.mean().sort_values(ascending=False).index.tolist(), \n",
    "    color='green', \n",
    "    alpha=0.25, \n",
    "    label=\"Outages (Xfmr tied to Outg. Location ID)\"\n",
    ")\n",
    "n_patches_end = len(ax0.patches)\n",
    "relative_position_idx=1\n",
    "ax0 = Plot_Bar.adjust_bar_and_line_positions_and_widths(ax0, div_drawn_width_by, relative_position_idx, \n",
    "                                                        i_patch_beg=n_patches_beg, i_patch_end=n_patches_end)\n",
    "#-------------------------\n",
    "ax0.tick_params(axis='x', labelrotation=90, labelsize=7.0)\n",
    "ax0.legend()"
   ]
  },
  {
   "cell_type": "code",
   "execution_count": null,
   "id": "417269a5",
   "metadata": {},
   "outputs": [],
   "source": []
  },
  {
   "cell_type": "code",
   "execution_count": null,
   "id": "0778a653",
   "metadata": {},
   "outputs": [],
   "source": [
    "common_barplot_kwargs = dict(alpha=0.25, fill=True, edgecolor='black', hatch='//')\n",
    "fig, ax0 = plt.subplots(1, 1, num=fig_num, figsize=[14, 6])\n",
    "reason_order = rcpo_prim_strict_df_norm.mean().sort_values(ascending=False).index.tolist()\n",
    "n_reason_to_include=15\n",
    "ax0 = Plot_Bar.plot_multiple_barplots(\n",
    "    ax=ax0, \n",
    "    dfs_w_args=[\n",
    "        (rcpo_df_norm,             {**dict(facecolor='red', hatch=None, label=\"Outages (All Xfmrs)\"), **common_barplot_kwargs}), \n",
    "        (rcpo_prim_strict_df_norm, {**dict(facecolor='green', hatch=None, label=\"Outages (Xfmr tied to Outg. Location ID)\"), **common_barplot_kwargs})\n",
    "    ], \n",
    "    order=reason_order, \n",
    "    n_bars_to_include=n_reason_to_include, \n",
    "    keep_edges_opaque=True, \n",
    "    include_hatches=False, \n",
    "    draw_side_by_side=True, \n",
    "    draw_single_idx_full_width=None,     \n",
    "    run_set_general_plotting_args=True, \n",
    "    orient='v',\n",
    "    draw_legend=False, \n",
    "    legend_args=dict(fontsize=15), \n",
    "    title_args=dict(label=f'Title', fontsize=20), \n",
    "    ylabel_args = dict(ylabel=f'y-label', fontsize=20, x=0.0, y=0.8, ha='left', va='bottom'), \n",
    "    xlabel_args = dict(xlabel='x-label', fontsize=20, x=0.9, y=0.0, ha='right', va='top'), \n",
    "    tick_args=[dict(axis='x', labelrotation=90, labelsize=7), \n",
    "              dict(axis='y', labelsize=15)]\n",
    ")"
   ]
  },
  {
   "cell_type": "code",
   "execution_count": null,
   "id": "df3ba1b0",
   "metadata": {},
   "outputs": [],
   "source": [
    "fig, ax0 = plt.subplots(1, 1, num=fig_num, figsize=[14, 6])\n",
    "reason_order = rcpo_prim_strict_df_norm.mean().sort_values(ascending=False).index.tolist()\n",
    "n_reason_to_include=15\n",
    "ax0 = Plot_Bar.plot_multiple_barplots(\n",
    "    ax=ax0, \n",
    "    dfs_w_args=[rcpo_df_norm, rcpo_prim_strict_df_norm, rcpo_prim_strict_df_norm], \n",
    "    order=reason_order, \n",
    "    n_bars_to_include=n_reason_to_include, \n",
    "    keep_edges_opaque=True, \n",
    "    include_hatches=False, \n",
    "    draw_side_by_side=True, \n",
    "    draw_single_idx_full_width=2,     \n",
    "    run_set_general_plotting_args=True, \n",
    "    draw_legend=False, \n",
    "    legend_args=dict(fontsize=15), \n",
    "    title_args=dict(label=f'Title', fontsize=20), \n",
    "    ylabel_args = dict(ylabel=f'y-label', fontsize=20, x=0.0, y=0.8, ha='left', va='bottom'), \n",
    "    xlabel_args = dict(xlabel='x-label', fontsize=20, x=0.9, y=0.0, ha='right', va='top'), \n",
    "    tick_args=[dict(axis='x', labelrotation=90, labelsize=7), \n",
    "              dict(axis='y', labelsize=15)]\n",
    ")"
   ]
  },
  {
   "cell_type": "code",
   "execution_count": null,
   "id": "85d30068",
   "metadata": {},
   "outputs": [],
   "source": []
  },
  {
   "cell_type": "code",
   "execution_count": null,
   "id": "192193c8",
   "metadata": {},
   "outputs": [],
   "source": []
  },
  {
   "cell_type": "code",
   "execution_count": null,
   "id": "29d1a1fa",
   "metadata": {},
   "outputs": [],
   "source": [
    "fig, ax0 = plt.subplots(1, 1, num=fig_num, figsize=[14, 6])\n",
    "reason_order = rcpo_prim_strict_df_norm.mean().sort_values(ascending=False).index.tolist()\n",
    "n_reason_to_include=15\n",
    "ax0 = Plot_Bar.plot_multiple_barplots(\n",
    "    ax=ax0, \n",
    "    dfs_w_args=[\n",
    "        rcpo_df_norm, \n",
    "        rcpo_df_norm_by_outg_nSNs, \n",
    "        rcpo_prim_strict_df_norm, \n",
    "        rcpo_prim_strict_df_norm_by_outg_nSNs, \n",
    "        rcpo_no_outg_df_norm\n",
    "    ], \n",
    "    order=reason_order, \n",
    "    n_bars_to_include=n_reason_to_include, \n",
    "    keep_edges_opaque=True, \n",
    "    include_hatches=False, \n",
    "    draw_side_by_side=True, \n",
    "    draw_single_idx_full_width=None,     \n",
    "    run_set_general_plotting_args=True, \n",
    "    draw_legend=False, \n",
    "    legend_args=dict(fontsize=15), \n",
    "    title_args=dict(label=f'Title', fontsize=20), \n",
    "    ylabel_args = dict(ylabel=f'y-label', fontsize=20, x=0.0, y=0.8, ha='left', va='bottom'), \n",
    "    xlabel_args = dict(xlabel='x-label', fontsize=20, x=0.9, y=0.0, ha='right', va='top'), \n",
    "    tick_args=[dict(axis='x', labelrotation=90, labelsize=7), \n",
    "              dict(axis='y', labelsize=15)]\n",
    ")"
   ]
  },
  {
   "cell_type": "code",
   "execution_count": null,
   "id": "09b707b8",
   "metadata": {},
   "outputs": [],
   "source": []
  },
  {
   "cell_type": "code",
   "execution_count": null,
   "id": "6a6af7eb",
   "metadata": {},
   "outputs": [],
   "source": [
    "common_barplot_kwargs = dict(alpha=0.25, fill=True, edgecolor='black')\n",
    "fig, ax0 = plt.subplots(1, 1, num=fig_num, figsize=[14, 6])\n",
    "reason_order = rcpo_prim_strict_df_norm.mean().sort_values(ascending=False).index.tolist()\n",
    "n_reason_to_include=15\n",
    "ax0 = Plot_Bar.plot_multiple_barplots(\n",
    "    ax=ax0, \n",
    "    dfs_w_args=[\n",
    "        (rcpo_df_norm,              {**dict(facecolor='red', hatch='//', label=\"Outages (All Xfmrs) - EndEvents nSNs Norm\"), **common_barplot_kwargs}), \n",
    "        (rcpo_df_norm_by_outg_nSNs, {**dict(facecolor='red', hatch='-', label=\"Outages (All Xfmrs) - Outage nSNs Norm\"), **common_barplot_kwargs}), \n",
    "        (rcpo_prim_strict_df_norm,              {**dict(facecolor='green', hatch='//', label=\"Outages (Xfmr tied to Outg. Location ID) - EndEvents nSNs Norm\"), **common_barplot_kwargs}), \n",
    "        (rcpo_prim_strict_df_norm_by_outg_nSNs, {**dict(facecolor='green', hatch='-', label=\"Outages (Xfmr tied to Outg. Location ID) - Outage nSNs Norm\"), **common_barplot_kwargs}), \n",
    "        (rcpo_no_outg_df_norm, {**dict(facecolor='orange', hatch=None, label=\"No Outages\"), **common_barplot_kwargs})\n",
    "    ], \n",
    "    order=reason_order, \n",
    "    n_bars_to_include=n_reason_to_include, \n",
    "    keep_edges_opaque=True, \n",
    "    include_hatches=False, \n",
    "    draw_side_by_side=True, \n",
    "    draw_single_idx_full_width=None,     \n",
    "    run_set_general_plotting_args=True, \n",
    "    draw_legend=True, \n",
    "    legend_args=dict(fontsize=15), \n",
    "    title_args=dict(label=f'End Events', fontsize=20), \n",
    "    ylabel_args = dict(ylabel=f'Normalized Counts', fontsize=20, x=0.0, y=0.4, ha='left', va='bottom'), \n",
    "    xlabel_args = dict(xlabel='Reason', fontsize=20, x=0.9, y=0.0, ha='right', va='top'), \n",
    "    tick_args=[dict(axis='x', labelrotation=90, labelsize=15), \n",
    "              dict(axis='y', labelsize=15)]\n",
    ")"
   ]
  },
  {
   "cell_type": "code",
   "execution_count": null,
   "id": "11f90cdc",
   "metadata": {},
   "outputs": [],
   "source": []
  },
  {
   "cell_type": "code",
   "execution_count": null,
   "id": "f082b081",
   "metadata": {},
   "outputs": [],
   "source": [
    "common_barplot_kwargs = dict(alpha=0.25, fill=True, edgecolor='black')\n",
    "fig, ax0 = plt.subplots(1, 1, num=fig_num, figsize=[14, 6])\n",
    "reason_order = rcpo_prim_strict_df_norm.mean().sort_values(ascending=False).index.tolist()\n",
    "n_reason_to_include=15\n",
    "ax0 = Plot_Bar.plot_multiple_barplots(\n",
    "    ax=ax0, \n",
    "    dfs_w_args=[\n",
    "        (rcpo_df_norm,              {**dict(facecolor='red', hatch='//', label=\"Outages (All Xfmrs) - EndEvents nSNs Norm\"), **common_barplot_kwargs}), \n",
    "        (rcpo_df_norm_by_outg_nSNs, {**dict(facecolor='red', hatch='-', label=\"Outages (All Xfmrs) - Outage nSNs Norm\"), **common_barplot_kwargs}), \n",
    "        (rcpo_prim_strict_df_norm,              {**dict(facecolor='green', hatch='//', label=\"Outages (Xfmr tied to Outg. Location ID) - EndEvents nSNs Norm\"), **common_barplot_kwargs}), \n",
    "        (rcpo_prim_strict_df_norm_by_outg_nSNs, {**dict(facecolor='green', hatch='-', label=\"Outages (Xfmr tied to Outg. Location ID) - Outage nSNs Norm\"), **common_barplot_kwargs}), \n",
    "        (rcpo_no_outg_df_norm, {**dict(facecolor='orange', hatch=None, label=\"No Outages\"), **common_barplot_kwargs})\n",
    "    ], \n",
    "    order=reason_order, \n",
    "    n_bars_to_include=n_reason_to_include, \n",
    "    keep_edges_opaque=True, \n",
    "    include_hatches=False, \n",
    "    draw_side_by_side=True, \n",
    "    draw_single_idx_full_width=None,     \n",
    "    run_set_general_plotting_args=True, \n",
    "    draw_legend=True, \n",
    "    legend_args=dict(fontsize=15), \n",
    "    title_args=dict(label=f'End Events', fontsize=20), \n",
    "    ylabel_args = dict(ylabel=f'Normalized Counts', fontsize=20, x=0.0, y=0.4, ha='left', va='bottom'), \n",
    "    xlabel_args = dict(xlabel='Reason', fontsize=20, x=0.9, y=0.0, ha='right', va='top'), \n",
    "    tick_args=[dict(axis='x', labelrotation=90, labelsize=15), \n",
    "              dict(axis='y', labelsize=15)], \n",
    "    orient='h'\n",
    ")"
   ]
  },
  {
   "cell_type": "code",
   "execution_count": null,
   "id": "c696dd99",
   "metadata": {},
   "outputs": [],
   "source": []
  },
  {
   "cell_type": "code",
   "execution_count": null,
   "id": "ab86f9e5",
   "metadata": {},
   "outputs": [],
   "source": []
  },
  {
   "cell_type": "code",
   "execution_count": null,
   "id": "68f9fefa",
   "metadata": {},
   "outputs": [],
   "source": []
  },
  {
   "cell_type": "code",
   "execution_count": null,
   "id": "ed4a6eb1",
   "metadata": {},
   "outputs": [],
   "source": [
    "fig, ax0 = plt.subplots(1, 1, num=fig_num, figsize=[14, 6])\n",
    "ax0 = Plot_Bar.plot_barplot(\n",
    "    ax=ax0, \n",
    "    df = rcpo_no_outg_df_norm, \n",
    "    order=rcpo_no_outg_df_norm.mean().sort_values(ascending=False).index.tolist(), \n",
    "    n_bars_to_include=10, \n",
    "    tick_args =dict(axis='x', labelrotation=90, labelsize=15.0)\n",
    ")"
   ]
  },
  {
   "cell_type": "code",
   "execution_count": null,
   "id": "5670e23c",
   "metadata": {},
   "outputs": [],
   "source": []
  },
  {
   "cell_type": "code",
   "execution_count": null,
   "id": "c1be1a68",
   "metadata": {},
   "outputs": [],
   "source": []
  },
  {
   "cell_type": "code",
   "execution_count": null,
   "id": "3ca5110b",
   "metadata": {},
   "outputs": [],
   "source": []
  },
  {
   "cell_type": "code",
   "execution_count": null,
   "id": "322dc904",
   "metadata": {},
   "outputs": [],
   "source": [
    "#barplot_kwargs = dict(alpha=0.5, fill=True, facecolor='red', edgecolor='black', hatch='//', palette='tab10')\n",
    "barplot_kwargs = dict(alpha=0.5, fill=True, color='red', edgecolor='black', palette='tab10')\n",
    "\n",
    "sns.set_theme(style=\"whitegrid\")\n",
    "tips = sns.load_dataset(\"tips\")\n",
    "fig, ax0 = plt.subplots(1, 1, num=fig_num, figsize=[14, 6])\n",
    "n_patches_beg = len(ax0.patches)\n",
    "sns.barplot(ax=ax0, x=\"day\", y=\"total_bill\", data=tips, **barplot_kwargs)\n",
    "\n",
    "div_drawn_width_by=2\n",
    "n_patches_end = len(ax0.patches)\n",
    "relative_position_idx=1\n",
    "ax0 = Plot_Bar.adjust_bar_and_line_positions_and_widths(ax0, div_drawn_width_by, relative_position_idx, \n",
    "                                                        i_patch_beg=n_patches_beg, i_patch_end=n_patches_end)\n",
    "ax0.grid(True)"
   ]
  },
  {
   "cell_type": "code",
   "execution_count": null,
   "id": "b792ac5f",
   "metadata": {},
   "outputs": [],
   "source": []
  },
  {
   "cell_type": "code",
   "execution_count": null,
   "id": "3c3e5fdf",
   "metadata": {},
   "outputs": [],
   "source": [
    "#barplot_kwargs = dict(alpha=0.5, fill=True, facecolor='red', edgecolor='black', hatch='//', palette='tab10')\n",
    "barplot_kwargs = dict(alpha=0.5, fill=True, color='red', edgecolor='black', palette='tab10')\n",
    "\n",
    "sns.set_theme(style=\"whitegrid\")\n",
    "tips = sns.load_dataset(\"tips\")\n",
    "fig, ax0 = plt.subplots(1, 1, num=fig_num, figsize=[14, 6])\n",
    "n_patches_beg = len(ax0.patches)\n",
    "sns.barplot(ax=ax0, y=\"day\", x=\"total_bill\", data=tips, **barplot_kwargs, orient='h')\n",
    "\n",
    "div_drawn_width_by=2\n",
    "n_patches_end = len(ax0.patches)\n",
    "relative_position_idx=1\n",
    "ax0 = Plot_Bar.adjust_bar_and_line_positions_and_widths(ax0, div_drawn_width_by, relative_position_idx, \n",
    "                                                        i_patch_beg=n_patches_beg, i_patch_end=n_patches_end, orient='h')\n",
    "ax0.grid(True)"
   ]
  },
  {
   "cell_type": "code",
   "execution_count": null,
   "id": "4fbef22c",
   "metadata": {},
   "outputs": [],
   "source": [
    "# assert(Utilities.is_object_one_of_types(grid_args, [bool, dict, list, tuple]))"
   ]
  },
  {
   "cell_type": "code",
   "execution_count": null,
   "id": "8be0be07",
   "metadata": {},
   "outputs": [],
   "source": []
  },
  {
   "cell_type": "code",
   "execution_count": null,
   "id": "f018f2c9",
   "metadata": {},
   "outputs": [],
   "source": []
  },
  {
   "cell_type": "code",
   "execution_count": null,
   "id": "1d9e1a06",
   "metadata": {},
   "outputs": [],
   "source": [
    "common_barplot_kwargs = dict(alpha=0.25, fill=True, edgecolor='black')\n",
    "fig, ax0 = plt.subplots(1, 1, num=fig_num, figsize=[14, 6])\n",
    "reason_order = rcpo_prim_strict_df_norm.mean().sort_values(ascending=False).index.tolist()\n",
    "n_reason_to_include=15\n",
    "ax0 = Plot_Bar.plot_multiple_barplots(\n",
    "    ax=ax0, \n",
    "    dfs_w_args=[\n",
    "        (rcpo_prim_strict_df_norm,              {**dict(facecolor='green', hatch='//', label=\"Outages (Xfmr tied to Outg. Location ID) - EndEvents nSNs Norm\"), **common_barplot_kwargs}), \n",
    "        (rcpo_prim_strict_df_norm_by_outg_nSNs, {**dict(facecolor='green', hatch='-', label=\"Outages (Xfmr tied to Outg. Location ID) - Outage nSNs Norm\"), **common_barplot_kwargs}), \n",
    "        (rcpo_prim_strict_df_norm_by_prim_nSNs, {**dict(facecolor='green', hatch='\\\\\\\\', label=\"Outages (Xfmr tied to Outg. Location ID) - Direct nSNs Norm\"), **common_barplot_kwargs})\n",
    "    ], \n",
    "    order=reason_order, \n",
    "    n_bars_to_include=n_reason_to_include, \n",
    "    keep_edges_opaque=True, \n",
    "    include_hatches=False, \n",
    "    draw_side_by_side=True, \n",
    "    draw_single_idx_full_width=None,     \n",
    "    run_set_general_plotting_args=True, \n",
    "    draw_legend=True, \n",
    "    legend_args=dict(fontsize=15), \n",
    "    title_args=dict(label=f'End Events', fontsize=20), \n",
    "    ylabel_args = dict(ylabel=f'Normalized Counts', fontsize=20, x=0.0, y=0.4, ha='left', va='bottom'), \n",
    "    xlabel_args = dict(xlabel='Reason', fontsize=20, x=0.9, y=0.0, ha='right', va='top'), \n",
    "    tick_args=[dict(axis='x', labelrotation=90, labelsize=15), \n",
    "              dict(axis='y', labelsize=15)]\n",
    ")"
   ]
  },
  {
   "cell_type": "code",
   "execution_count": null,
   "id": "f84f01d7",
   "metadata": {},
   "outputs": [],
   "source": []
  },
  {
   "cell_type": "code",
   "execution_count": null,
   "id": "0ac5e1f8",
   "metadata": {},
   "outputs": [],
   "source": []
  },
  {
   "cell_type": "code",
   "execution_count": null,
   "id": "74b2c9e6",
   "metadata": {},
   "outputs": [],
   "source": []
  },
  {
   "cell_type": "code",
   "execution_count": null,
   "id": "1701d67a",
   "metadata": {},
   "outputs": [],
   "source": []
  },
  {
   "cell_type": "code",
   "execution_count": null,
   "id": "53854268",
   "metadata": {},
   "outputs": [],
   "source": [
    "dfs_w_args = [rcpo_df_norm, rcpo_prim_strict_df_norm]\n",
    "dfs_color_palette=None\n",
    "include_hatches=False"
   ]
  },
  {
   "cell_type": "code",
   "execution_count": null,
   "id": "5efedab1",
   "metadata": {},
   "outputs": [],
   "source": []
  },
  {
   "cell_type": "code",
   "execution_count": null,
   "id": "5d8f8901",
   "metadata": {},
   "outputs": [],
   "source": [
    "colors = Plot_General.get_standard_colors(len(dfs_w_args), palette=dfs_color_palette)\n",
    "hatches = Plot_General.get_standard_hatches(len(dfs_w_args))\n",
    "for i in range(len(dfs_w_args)):\n",
    "    # First, normalize dfs_w_args[i] so it is a tuple whose first first element\n",
    "    # is the pd.DataFrame and second is a dict containing the kwargs\n",
    "    assert(Utilities.is_object_one_of_types(dfs_w_args[i], [pd.DataFrame, list, tuple]))\n",
    "    if isinstance(dfs_w_args[i], pd.DataFrame):\n",
    "        dfs_w_args[i] = (dfs_w_args[i], dict())\n",
    "        \n",
    "    # At this point, dfs_w_args[i] is definitely a list/tuple.  \n",
    "    # Make sure length=2, first item is pd.DataFrame, and second is dict\n",
    "    assert(len(dfs_w_args[i])==2 and \n",
    "           isinstance(dfs_w_args[i][0], pd.DataFrame) and \n",
    "           isinstance(dfs_w_args[i][1], dict))\n",
    "    \n",
    "    # Now, set all default values for plot_kwargs_i\n",
    "    dfs_w_args[i][1]['hatch'] = dfs_w_args[i][1].get('hatch', hatches[i] if include_hatches else None)\n",
    "    dfs_w_args[i][1]['color'] = dfs_w_args[i][1].get('color', colors[i])\n",
    "    #dfs_w_args[i][1]['alpha'] = dfs_w_args[i][1].get('alpha', 1.0/len(dfs_w_args))\n",
    "    dfs_w_args[i][1]['label'] = dfs_w_args[i][1].get('label', f'{i}')"
   ]
  },
  {
   "cell_type": "code",
   "execution_count": null,
   "id": "a9f928c3",
   "metadata": {},
   "outputs": [],
   "source": [
    "type(dfs_w_args[0][0])"
   ]
  },
  {
   "cell_type": "code",
   "execution_count": null,
   "id": "c563e6af",
   "metadata": {},
   "outputs": [],
   "source": [
    "dfs_w_args[0][1]"
   ]
  },
  {
   "cell_type": "code",
   "execution_count": null,
   "id": "30926e6c",
   "metadata": {},
   "outputs": [],
   "source": [
    "dfs_w_args[1][1]"
   ]
  },
  {
   "cell_type": "markdown",
   "id": "85f6fb3c",
   "metadata": {},
   "source": [
    "# END: STANDARD PLOTTING STUFF"
   ]
  },
  {
   "cell_type": "code",
   "execution_count": null,
   "id": "fe9f2d5b",
   "metadata": {},
   "outputs": [],
   "source": []
  },
  {
   "cell_type": "code",
   "execution_count": null,
   "id": "96d9f12f",
   "metadata": {},
   "outputs": [],
   "source": []
  },
  {
   "cell_type": "code",
   "execution_count": null,
   "id": "fa3a18d7",
   "metadata": {},
   "outputs": [],
   "source": []
  },
  {
   "cell_type": "code",
   "execution_count": null,
   "id": "6f9e7355",
   "metadata": {},
   "outputs": [],
   "source": []
  },
  {
   "cell_type": "code",
   "execution_count": null,
   "id": "7c0fa344",
   "metadata": {},
   "outputs": [],
   "source": []
  },
  {
   "cell_type": "code",
   "execution_count": null,
   "id": "c84d97aa",
   "metadata": {},
   "outputs": [],
   "source": []
  },
  {
   "cell_type": "markdown",
   "id": "6c087724",
   "metadata": {},
   "source": [
    "# BEGIN: DEVELOPMENTAL STUFF"
   ]
  },
  {
   "cell_type": "code",
   "execution_count": null,
   "id": "cd9e6cb5",
   "metadata": {},
   "outputs": [],
   "source": [
    "shared = [x for x in rcpo_prim_strict_df_OG.index if x in rcpo_df_OG.index]"
   ]
  },
  {
   "cell_type": "code",
   "execution_count": null,
   "id": "5b564e6c",
   "metadata": {},
   "outputs": [],
   "source": [
    "shared"
   ]
  },
  {
   "cell_type": "code",
   "execution_count": null,
   "id": "45dfb3aa",
   "metadata": {},
   "outputs": [],
   "source": [
    "# rcpo_df_OG.loc[[shared[0]]]"
   ]
  },
  {
   "cell_type": "code",
   "execution_count": null,
   "id": "2e6c6b7e",
   "metadata": {},
   "outputs": [],
   "source": [
    "# rcpo_prim_strict_df_OG.loc[[shared[0]]]"
   ]
  },
  {
   "cell_type": "code",
   "execution_count": null,
   "id": "d24e3cba",
   "metadata": {},
   "outputs": [],
   "source": []
  },
  {
   "cell_type": "code",
   "execution_count": null,
   "id": "ba29ee45",
   "metadata": {},
   "outputs": [],
   "source": []
  },
  {
   "cell_type": "code",
   "execution_count": null,
   "id": "5687be85",
   "metadata": {},
   "outputs": [],
   "source": [
    "# def get_direct_SNs_in_outg()"
   ]
  },
  {
   "cell_type": "code",
   "execution_count": null,
   "id": "7663d744",
   "metadata": {},
   "outputs": [],
   "source": [
    "xfmr_equip_typ_nms_of_interest = ['TRANSFORMER, OH', 'TRANSFORMER, UG']\n",
    "# df_outage_prim_strict = df_outage[(df_outage['LOCATION_ID']==df_outage['trsf_pole_nb']) & \n",
    "#                                   (df_outage['EQUIP_TYP_NM'].isin(xfmr_equip_typ_nms_of_interest))].copy()"
   ]
  },
  {
   "cell_type": "code",
   "execution_count": null,
   "id": "16648918",
   "metadata": {},
   "outputs": [],
   "source": []
  },
  {
   "cell_type": "code",
   "execution_count": null,
   "id": "36e6afc4",
   "metadata": {},
   "outputs": [],
   "source": []
  },
  {
   "cell_type": "code",
   "execution_count": null,
   "id": "0d1b94da",
   "metadata": {},
   "outputs": [],
   "source": []
  },
  {
   "cell_type": "code",
   "execution_count": null,
   "id": "ac06084e",
   "metadata": {},
   "outputs": [],
   "source": [
    "#FUCK"
   ]
  },
  {
   "cell_type": "code",
   "execution_count": null,
   "id": "592c3638",
   "metadata": {},
   "outputs": [],
   "source": []
  },
  {
   "cell_type": "code",
   "execution_count": null,
   "id": "61b03f3b",
   "metadata": {},
   "outputs": [],
   "source": [
    "# outg_rec_nb = [shared[0]]\n",
    "\n",
    "# outg_rec_nb = rcpo_df_OG.index.tolist()\n",
    "# dev_rcpo_df = rcpo_df_OG.copy()\n",
    "\n",
    "outg_rec_nb = rcpo_prim_strict_df_OG.index.tolist()\n",
    "dev_rcpo_df = rcpo_prim_strict_df_OG.copy()\n",
    "\n",
    "dev_rcpo_df = MECPODf.project_level_0_columns_from_rcpo_wide(rcpo_df_wide=dev_rcpo_df, level_0_val='counts', droplevel=True)"
   ]
  },
  {
   "cell_type": "code",
   "execution_count": null,
   "id": "2f7b3cac",
   "metadata": {},
   "outputs": [],
   "source": []
  },
  {
   "cell_type": "markdown",
   "id": "d827ab17",
   "metadata": {},
   "source": [
    "# TODO!!!!!!!!!!!!!!!!!!!!!!!!!!!!!!!!!!!!!!!!!!!!\n",
    "Look into OFF_TM (in premise dimension of outages).\n",
    "In most cases, this should be the same for all premises in an outage.\n",
    "But what if it's not?"
   ]
  },
  {
   "cell_type": "code",
   "execution_count": null,
   "id": "bf5fa35c",
   "metadata": {},
   "outputs": [],
   "source": []
  },
  {
   "cell_type": "code",
   "execution_count": null,
   "id": "13eec14b",
   "metadata": {},
   "outputs": [],
   "source": []
  },
  {
   "cell_type": "code",
   "execution_count": null,
   "id": "bb42b015",
   "metadata": {},
   "outputs": [],
   "source": []
  },
  {
   "cell_type": "code",
   "execution_count": null,
   "id": "5ae6c789",
   "metadata": {},
   "outputs": [],
   "source": []
  },
  {
   "cell_type": "code",
   "execution_count": null,
   "id": "8b37e0bd",
   "metadata": {},
   "outputs": [],
   "source": []
  },
  {
   "cell_type": "code",
   "execution_count": null,
   "id": "7961da4e",
   "metadata": {},
   "outputs": [],
   "source": []
  },
  {
   "cell_type": "code",
   "execution_count": null,
   "id": "6f7e7f8f",
   "metadata": {},
   "outputs": [],
   "source": []
  },
  {
   "cell_type": "code",
   "execution_count": null,
   "id": "654652b0",
   "metadata": {},
   "outputs": [],
   "source": []
  },
  {
   "cell_type": "code",
   "execution_count": null,
   "id": "5da2c5ed",
   "metadata": {},
   "outputs": [],
   "source": [
    "start=time.time()\n",
    "direct_SNs_in_outgs = DOVSOutages.build_direct_SNs_in_outgs_df(outg_rec_nbs=outg_rec_nb, use_exploded_method=True)\n",
    "print(time.time()-start)"
   ]
  },
  {
   "cell_type": "code",
   "execution_count": null,
   "id": "afae30b9",
   "metadata": {},
   "outputs": [],
   "source": [
    "direct_SNs_in_outgs"
   ]
  },
  {
   "cell_type": "code",
   "execution_count": null,
   "id": "881f7cdc",
   "metadata": {},
   "outputs": [],
   "source": []
  },
  {
   "cell_type": "code",
   "execution_count": null,
   "id": "6add445c",
   "metadata": {},
   "outputs": [],
   "source": [
    "# TODO!!!!!!!!!!!!!!!!!!!!!!!!!!!!!!!!!!!!!!!!!!!!!!!!!!!!!!!!!!!!!!!!!!!!!!!\n",
    "# What are TRANSMISSION trsf_pole_nb?\n",
    "direct_SNs_in_outgs[direct_SNs_in_outgs['trsf_pole_nb']=='TRANSMISSION']"
   ]
  },
  {
   "cell_type": "code",
   "execution_count": null,
   "id": "1ae063ca",
   "metadata": {},
   "outputs": [],
   "source": [
    "direct_SNs_in_outgs[direct_SNs_in_outgs['EQUIP_TYP_NM'].isin(xfmr_equip_typ_nms_of_interest)].equals(direct_SNs_in_outgs)"
   ]
  },
  {
   "cell_type": "code",
   "execution_count": null,
   "id": "a63377a3",
   "metadata": {},
   "outputs": [],
   "source": [
    "outgs_w_prims = direct_SNs_in_outgs[direct_SNs_in_outgs['EQUIP_TYP_NM'].isin(xfmr_equip_typ_nms_of_interest)].index"
   ]
  },
  {
   "cell_type": "code",
   "execution_count": null,
   "id": "fca5547c",
   "metadata": {},
   "outputs": [],
   "source": [
    "print(len(outgs_w_prims))\n",
    "print(len(direct_SNs_in_outgs))"
   ]
  },
  {
   "cell_type": "code",
   "execution_count": null,
   "id": "6dd1576a",
   "metadata": {},
   "outputs": [],
   "source": [
    "direct_SNs_in_outgs"
   ]
  },
  {
   "cell_type": "code",
   "execution_count": null,
   "id": "685361cf",
   "metadata": {},
   "outputs": [],
   "source": []
  },
  {
   "cell_type": "code",
   "execution_count": null,
   "id": "7c8d4249",
   "metadata": {},
   "outputs": [],
   "source": []
  },
  {
   "cell_type": "code",
   "execution_count": null,
   "id": "8ccc5f88",
   "metadata": {},
   "outputs": [],
   "source": []
  },
  {
   "cell_type": "code",
   "execution_count": null,
   "id": "a2582b59",
   "metadata": {},
   "outputs": [],
   "source": [
    "dev_rcpo_df"
   ]
  },
  {
   "cell_type": "code",
   "execution_count": null,
   "id": "0be6f27f",
   "metadata": {},
   "outputs": [],
   "source": [
    "# dev_rcpo_df.loc['12048233']['_SNs']"
   ]
  },
  {
   "cell_type": "code",
   "execution_count": null,
   "id": "20f73f8c",
   "metadata": {},
   "outputs": [],
   "source": [
    "# direct_SNs_in_outgs.loc['12048233']['mfr_devc_ser_nbr'].tolist()"
   ]
  },
  {
   "cell_type": "code",
   "execution_count": null,
   "id": "68b52747",
   "metadata": {},
   "outputs": [],
   "source": [
    "# These are basically outages which do not have any \"direct\" serial numbers\n",
    "missing_outg_rec_nbs = list(set(dev_rcpo_df.index).symmetric_difference(set(direct_SNs_in_outgs.index)))\n",
    "print(len(missing_outg_rec_nbs))\n",
    "missing_outg_rec_nbs"
   ]
  },
  {
   "cell_type": "code",
   "execution_count": null,
   "id": "59d7b9b0",
   "metadata": {},
   "outputs": [],
   "source": [
    "dev_rcpo_df.loc[missing_outg_rec_nbs]"
   ]
  },
  {
   "cell_type": "code",
   "execution_count": null,
   "id": "4733669c",
   "metadata": {},
   "outputs": [],
   "source": [
    "dev_rcpo_df = MECPODf.add_outage_SNs_to_rcpo_df(dev_rcpo_df, include_outage_premise_nbs=False)"
   ]
  },
  {
   "cell_type": "code",
   "execution_count": null,
   "id": "5f2f325a",
   "metadata": {},
   "outputs": [],
   "source": []
  },
  {
   "cell_type": "code",
   "execution_count": null,
   "id": "bb04132d",
   "metadata": {},
   "outputs": [],
   "source": [
    "dev_rcpo_df"
   ]
  },
  {
   "cell_type": "code",
   "execution_count": null,
   "id": "a94af5eb",
   "metadata": {},
   "outputs": [],
   "source": []
  },
  {
   "cell_type": "code",
   "execution_count": null,
   "id": "867f9a56",
   "metadata": {},
   "outputs": [],
   "source": [
    "direct_SNs_in_outgs"
   ]
  },
  {
   "cell_type": "code",
   "execution_count": null,
   "id": "03d918ee",
   "metadata": {},
   "outputs": [],
   "source": []
  },
  {
   "cell_type": "code",
   "execution_count": null,
   "id": "a3426e9b",
   "metadata": {},
   "outputs": [],
   "source": []
  },
  {
   "cell_type": "code",
   "execution_count": null,
   "id": "71a7b47e",
   "metadata": {},
   "outputs": [],
   "source": []
  },
  {
   "cell_type": "code",
   "execution_count": null,
   "id": "96e74894",
   "metadata": {},
   "outputs": [],
   "source": [
    "type(('a','b'))"
   ]
  },
  {
   "cell_type": "code",
   "execution_count": null,
   "id": "3315b486",
   "metadata": {},
   "outputs": [],
   "source": []
  },
  {
   "cell_type": "code",
   "execution_count": null,
   "id": "efd03458",
   "metadata": {},
   "outputs": [],
   "source": []
  },
  {
   "cell_type": "code",
   "execution_count": null,
   "id": "d97587e9",
   "metadata": {},
   "outputs": [],
   "source": [
    "start = time.time()\n",
    "dev_rcpo_df=MECPODf.add_prim_SNs_to_rcpo_df(\n",
    "    rcpo_df=dev_rcpo_df, \n",
    "    direct_SNs_in_outgs_df=direct_SNs_in_outgs, \n",
    "    outg_rec_nb_col='index', \n",
    "    prim_SNs_col='direct_serial_numbers', \n",
    "    set_prim_nSNs=True\n",
    ")\n",
    "print(time.time()-start)"
   ]
  },
  {
   "cell_type": "code",
   "execution_count": null,
   "id": "66f21f4c",
   "metadata": {},
   "outputs": [],
   "source": [
    "dev_rcpo_df"
   ]
  },
  {
   "cell_type": "code",
   "execution_count": null,
   "id": "05f8f138",
   "metadata": {},
   "outputs": [],
   "source": []
  },
  {
   "cell_type": "code",
   "execution_count": null,
   "id": "70f8cf21",
   "metadata": {},
   "outputs": [],
   "source": []
  },
  {
   "cell_type": "code",
   "execution_count": null,
   "id": "1a7c0af6",
   "metadata": {},
   "outputs": [],
   "source": []
  },
  {
   "cell_type": "code",
   "execution_count": null,
   "id": "61b11fab",
   "metadata": {},
   "outputs": [],
   "source": [
    "dev_rcpo_df_2a = dev_rcpo_df.drop(columns=['_prim_SNs', '_prim_nSNs']).copy()\n",
    "#dev_rcpo_df_2a = dev_rcpo_df.drop(columns=[('counts', '_prim_SNs'), ('counts', '_prim_nSNs')]).copy()\n",
    "start = time.time()\n",
    "dev_rcpo_df_2a=MECPODf.add_prim_SNs_to_rcpo_df(\n",
    "    rcpo_df=dev_rcpo_df_2a, \n",
    "    direct_SNs_in_outgs_df=None, \n",
    "    outg_rec_nb_col='index', \n",
    "    prim_SNs_col='direct_serial_numbers', \n",
    "    set_prim_nSNs=True\n",
    ")\n",
    "print(time.time()-start)\n",
    "dev_rcpo_df_2a.equals(dev_rcpo_df)"
   ]
  },
  {
   "cell_type": "code",
   "execution_count": null,
   "id": "b6952348",
   "metadata": {},
   "outputs": [],
   "source": []
  },
  {
   "cell_type": "code",
   "execution_count": null,
   "id": "8b266d86",
   "metadata": {},
   "outputs": [],
   "source": [
    "# dev_rcpo_df_2b = dev_rcpo_df.drop(columns=[('counts', '_prim_SNs'), ('counts', '_prim_nSNs')]).copy()\n",
    "# dev_rcpo_df_2b[('counts', 'outg_rec_nb2')] = dev_rcpo_df_2b.index\n",
    "dev_rcpo_df_2b = dev_rcpo_df.drop(columns=['_prim_SNs', '_prim_nSNs']).copy()\n",
    "dev_rcpo_df_2b['outg_rec_nb2'] = dev_rcpo_df_2b.index\n",
    "start = time.time()\n",
    "dev_rcpo_df_2b=MECPODf.add_prim_SNs_to_rcpo_df(\n",
    "    rcpo_df=dev_rcpo_df_2b, \n",
    "    direct_SNs_in_outgs_df=None, \n",
    "    outg_rec_nb_col='outg_rec_nb2', \n",
    "    prim_SNs_col='direct_serial_numbers', \n",
    "    set_prim_nSNs=True\n",
    ")\n",
    "print(time.time()-start)\n",
    "dev_rcpo_df_2b[dev_rcpo_df.columns].equals(dev_rcpo_df)"
   ]
  },
  {
   "cell_type": "code",
   "execution_count": null,
   "id": "43f563fe",
   "metadata": {},
   "outputs": [],
   "source": []
  },
  {
   "cell_type": "code",
   "execution_count": null,
   "id": "79b5f2d9",
   "metadata": {},
   "outputs": [],
   "source": []
  },
  {
   "cell_type": "code",
   "execution_count": null,
   "id": "0144803a",
   "metadata": {},
   "outputs": [],
   "source": []
  },
  {
   "cell_type": "code",
   "execution_count": null,
   "id": "eeece7a4",
   "metadata": {},
   "outputs": [],
   "source": [
    "dev_rcpo_df"
   ]
  },
  {
   "cell_type": "code",
   "execution_count": null,
   "id": "4d9bee9b",
   "metadata": {},
   "outputs": [],
   "source": []
  },
  {
   "cell_type": "code",
   "execution_count": null,
   "id": "be0548e9",
   "metadata": {},
   "outputs": [],
   "source": [
    "dev_rcpo_df[dev_rcpo_df['_outg_nSNs']!=dev_rcpo_df['_prim_nSNs']]"
   ]
  },
  {
   "cell_type": "code",
   "execution_count": null,
   "id": "56abc926",
   "metadata": {},
   "outputs": [],
   "source": []
  },
  {
   "cell_type": "code",
   "execution_count": null,
   "id": "4d058d7f",
   "metadata": {},
   "outputs": [],
   "source": []
  },
  {
   "cell_type": "code",
   "execution_count": null,
   "id": "675f3289",
   "metadata": {},
   "outputs": [],
   "source": [
    "dev_rcpo_df[dev_rcpo_df['_nSNs']!=dev_rcpo_df['_prim_nSNs']]"
   ]
  },
  {
   "cell_type": "code",
   "execution_count": null,
   "id": "d3cf46f9",
   "metadata": {},
   "outputs": [],
   "source": [
    "dev_rcpo_df"
   ]
  },
  {
   "cell_type": "code",
   "execution_count": null,
   "id": "e46df828",
   "metadata": {},
   "outputs": [],
   "source": [
    "dev_rcpo_df[dev_rcpo_df['_outg_nSNs']!=dev_rcpo_df['_prim_nSNs']]"
   ]
  },
  {
   "cell_type": "code",
   "execution_count": null,
   "id": "ce49f099",
   "metadata": {},
   "outputs": [],
   "source": []
  },
  {
   "cell_type": "code",
   "execution_count": null,
   "id": "94831f9d",
   "metadata": {},
   "outputs": [],
   "source": [
    "dev_rcpo_df[dev_rcpo_df['_nSNs']>dev_rcpo_df['_outg_nSNs']]"
   ]
  },
  {
   "cell_type": "code",
   "execution_count": null,
   "id": "e8fcce56",
   "metadata": {},
   "outputs": [],
   "source": []
  },
  {
   "cell_type": "code",
   "execution_count": null,
   "id": "d997fed5",
   "metadata": {},
   "outputs": [],
   "source": []
  },
  {
   "cell_type": "code",
   "execution_count": null,
   "id": "48f26af1",
   "metadata": {},
   "outputs": [],
   "source": []
  },
  {
   "cell_type": "code",
   "execution_count": null,
   "id": "b42f92cd",
   "metadata": {},
   "outputs": [],
   "source": [
    "rcpo_prim_strict_df_norm_by_outg_nSNs.head()"
   ]
  },
  {
   "cell_type": "code",
   "execution_count": null,
   "id": "5204d658",
   "metadata": {},
   "outputs": [],
   "source": [
    "rcpo_prim_strict_df_OG.head()"
   ]
  },
  {
   "cell_type": "code",
   "execution_count": null,
   "id": "397c9c22",
   "metadata": {},
   "outputs": [],
   "source": []
  },
  {
   "cell_type": "code",
   "execution_count": null,
   "id": "263bd0a8",
   "metadata": {},
   "outputs": [],
   "source": []
  },
  {
   "cell_type": "code",
   "execution_count": null,
   "id": "85bde279",
   "metadata": {},
   "outputs": [],
   "source": []
  },
  {
   "cell_type": "code",
   "execution_count": null,
   "id": "a9ed9677",
   "metadata": {},
   "outputs": [],
   "source": []
  },
  {
   "cell_type": "code",
   "execution_count": null,
   "id": "e59ae311",
   "metadata": {},
   "outputs": [],
   "source": [
    "dev_rcpo_df_raw_1 = rcpo_prim_strict_df_OG.copy()\n",
    "dev_rcpo_df_raw_1 = MECPODf.project_level_0_columns_from_rcpo_wide(rcpo_df_wide=dev_rcpo_df_raw_1, level_0_val='counts', droplevel=True)"
   ]
  },
  {
   "cell_type": "code",
   "execution_count": null,
   "id": "842f7c8e",
   "metadata": {},
   "outputs": [],
   "source": [
    "dev_rcpo_df_raw_1[dev_rcpo_df_raw_1['Under Voltage (CA000400) cleared for meter']>0]"
   ]
  },
  {
   "cell_type": "code",
   "execution_count": null,
   "id": "37abf2d2",
   "metadata": {},
   "outputs": [],
   "source": [
    "start=time.time()\n",
    "dev_rcpo_df_raw_1=MECPODf.build_rcpo_df_norm_by_outg_nSNs(dev_rcpo_df_raw_1)\n",
    "print(time.time()-start)"
   ]
  },
  {
   "cell_type": "code",
   "execution_count": null,
   "id": "4eafe4f4",
   "metadata": {},
   "outputs": [],
   "source": [
    "dev_rcpo_df_raw_1[dev_rcpo_df_raw_1['Under Voltage (CA000400) cleared for meter']>0]"
   ]
  },
  {
   "cell_type": "code",
   "execution_count": null,
   "id": "a0139637",
   "metadata": {},
   "outputs": [],
   "source": []
  },
  {
   "cell_type": "code",
   "execution_count": null,
   "id": "53b98ac1",
   "metadata": {},
   "outputs": [],
   "source": [
    "dev_rcpo_df_raw_2 = rcpo_prim_strict_df_OG.copy()\n",
    "dev_rcpo_df_raw_2 = MECPODf.project_level_0_columns_from_rcpo_wide(rcpo_df_wide=dev_rcpo_df_raw_2, level_0_val='counts', droplevel=False)"
   ]
  },
  {
   "cell_type": "code",
   "execution_count": null,
   "id": "0764d1a1",
   "metadata": {},
   "outputs": [],
   "source": [
    "start=time.time()\n",
    "dev_rcpo_df_raw_2=MECPODf.build_rcpo_df_norm_by_outg_nSNs(dev_rcpo_df_raw_2)\n",
    "print(time.time()-start)"
   ]
  },
  {
   "cell_type": "code",
   "execution_count": null,
   "id": "2690573c",
   "metadata": {},
   "outputs": [],
   "source": [
    "dev_rcpo_df_raw_2.droplevel(0, axis=1).equals(dev_rcpo_df_raw_1)"
   ]
  },
  {
   "cell_type": "code",
   "execution_count": null,
   "id": "3b3acef9",
   "metadata": {},
   "outputs": [],
   "source": []
  },
  {
   "cell_type": "code",
   "execution_count": null,
   "id": "50230600",
   "metadata": {},
   "outputs": [],
   "source": []
  },
  {
   "cell_type": "code",
   "execution_count": null,
   "id": "fabd15c5",
   "metadata": {},
   "outputs": [],
   "source": []
  },
  {
   "cell_type": "code",
   "execution_count": null,
   "id": "15dc1504",
   "metadata": {},
   "outputs": [],
   "source": [
    "start=time.time()\n",
    "dev_rcpo_df_raw_1=MECPODf.build_rcpo_df_norm_by_prim_nSNs(dev_rcpo_df_raw_1, direct_SNs_in_outgs_df=direct_SNs_in_outgs)\n",
    "print(time.time()-start)"
   ]
  },
  {
   "cell_type": "code",
   "execution_count": null,
   "id": "c02d0df9",
   "metadata": {},
   "outputs": [],
   "source": [
    "start=time.time()\n",
    "dev_rcpo_df_raw_2=MECPODf.build_rcpo_df_norm_by_prim_nSNs(dev_rcpo_df_raw_2, direct_SNs_in_outgs_df=direct_SNs_in_outgs)\n",
    "print(time.time()-start)"
   ]
  },
  {
   "cell_type": "code",
   "execution_count": null,
   "id": "b4e241ea",
   "metadata": {},
   "outputs": [],
   "source": [
    "dev_rcpo_df_raw_2.droplevel(0, axis=1).equals(dev_rcpo_df_raw_1)"
   ]
  },
  {
   "cell_type": "code",
   "execution_count": null,
   "id": "56542296",
   "metadata": {},
   "outputs": [],
   "source": []
  },
  {
   "cell_type": "code",
   "execution_count": null,
   "id": "bfff83b8",
   "metadata": {},
   "outputs": [],
   "source": [
    "dev_rcpo_df_raw_1"
   ]
  },
  {
   "cell_type": "markdown",
   "id": "257135c0",
   "metadata": {},
   "source": [
    "# END: DEVELOPMENTAL STUFF"
   ]
  },
  {
   "cell_type": "code",
   "execution_count": null,
   "id": "cbd5b67d",
   "metadata": {},
   "outputs": [],
   "source": []
  },
  {
   "cell_type": "code",
   "execution_count": null,
   "id": "52c18bbb",
   "metadata": {},
   "outputs": [],
   "source": []
  },
  {
   "cell_type": "code",
   "execution_count": null,
   "id": "322bebec",
   "metadata": {},
   "outputs": [],
   "source": [
    "subset_dfs_dict = MECPODf.get_rcpo_df_subset_by_std_mjr_mnr_causes(rcpo_df_OG)\n",
    "print(rcpo_df_OG.shape)\n",
    "print(subset_dfs_dict['DL_OL'].shape)\n",
    "print(subset_dfs_dict['DL_EQF'].shape)\n",
    "print(subset_dfs_dict['DL_EQF_XFMR'].shape)"
   ]
  },
  {
   "cell_type": "code",
   "execution_count": null,
   "id": "15eb49e4",
   "metadata": {},
   "outputs": [],
   "source": [
    "common_barplot_kwargs = dict(alpha=0.25, fill=True, edgecolor='black')\n",
    "fig, ax0 = plt.subplots(1, 1, num=fig_num, figsize=[14, 6])\n",
    "reason_order = rcpo_prim_strict_df_norm.mean().sort_values(ascending=False).index.tolist()\n",
    "n_reason_to_include=15\n",
    "ax0 = Plot_Bar.plot_multiple_barplots(\n",
    "    ax=ax0, \n",
    "    dfs_w_args=[\n",
    "        (rcpo_df_norm_by_outg_nSNs, {**dict(facecolor='red', hatch='-', label=\"Outages (All Xfmrs) - Outage nSNs Norm\"), **common_barplot_kwargs}), \n",
    "        (rcpo_prim_strict_df_norm_by_prim_nSNs, {**dict(facecolor='green', hatch='-', label=\"Outages (Xfmr tied to Outg. Location ID) - Direct Outage nSNs Norm\"), **common_barplot_kwargs}), \n",
    "        (rcpo_no_outg_df_norm, {**dict(facecolor='orange', hatch=None, label=\"No Outages\"), **common_barplot_kwargs})\n",
    "    ], \n",
    "    order=reason_order, \n",
    "    n_bars_to_include=n_reason_to_include, \n",
    "    keep_edges_opaque=True, \n",
    "    include_hatches=False, \n",
    "    draw_side_by_side=True, \n",
    "    draw_single_idx_full_width=None,     \n",
    "    run_set_general_plotting_args=True, \n",
    "    draw_legend=True, \n",
    "    legend_args=dict(fontsize=15), \n",
    "    title_args=dict(label=f'End Events', fontsize=20), \n",
    "    ylabel_args = dict(ylabel=f'Normalized Counts', fontsize=20, x=0.0, y=0.4, ha='left', va='bottom'), \n",
    "    xlabel_args = dict(xlabel='Reason', fontsize=20, x=0.9, y=0.0, ha='right', va='top'), \n",
    "    tick_args=[dict(axis='x', labelrotation=90, labelsize=15), \n",
    "              dict(axis='y', labelsize=15)]\n",
    ")"
   ]
  },
  {
   "cell_type": "code",
   "execution_count": null,
   "id": "b671f2ca",
   "metadata": {},
   "outputs": [],
   "source": [
    "subset_rcpo_dfs_dict = MECPODf.get_rcpo_df_subset_by_std_mjr_mnr_causes(rcpo_df_norm_by_outg_nSNs)\n",
    "subset_rcpo_prim_strict_dfs_dict = MECPODf.get_rcpo_df_subset_by_std_mjr_mnr_causes(rcpo_prim_strict_df_norm_by_prim_nSNs)"
   ]
  },
  {
   "cell_type": "code",
   "execution_count": null,
   "id": "e7e92d9e",
   "metadata": {},
   "outputs": [],
   "source": [
    "subset_rcpo_dfs_dict.keys()"
   ]
  },
  {
   "cell_type": "code",
   "execution_count": null,
   "id": "cd9133b5",
   "metadata": {},
   "outputs": [],
   "source": []
  },
  {
   "cell_type": "code",
   "execution_count": null,
   "id": "0e88f9da",
   "metadata": {},
   "outputs": [],
   "source": [
    "common_barplot_kwargs = dict(alpha=0.25, fill=True, edgecolor='black')\n",
    "fig, ax0 = plt.subplots(1, 1, num=fig_num, figsize=[14, 6])\n",
    "reason_order = rcpo_prim_strict_df_norm.mean().sort_values(ascending=False).index.tolist()\n",
    "n_reason_to_include=10\n",
    "ax0 = Plot_Bar.plot_multiple_barplots(\n",
    "    ax=ax0, \n",
    "    dfs_w_args=[\n",
    "        (rcpo_df_norm_by_outg_nSNs, {**dict(facecolor='red', hatch=None, label=\"Outages (All Xfmrs) - Outage nSNs Norm\"), **common_barplot_kwargs}), \n",
    "        (subset_rcpo_dfs_dict['DL_OL'], {**dict(facecolor='red', hatch='//', label=\"DL_OL\"), **common_barplot_kwargs}), \n",
    "        (subset_rcpo_dfs_dict['DL_EQF'], {**dict(facecolor='red', hatch='-', label=\"DL_EQF\"), **common_barplot_kwargs}), \n",
    "        (subset_rcpo_dfs_dict['DL_EQF_XFMR'], {**dict(facecolor='red', hatch='\\\\\\\\', label=\"DL_EQF_XFMR\"), **common_barplot_kwargs}), \n",
    "        (rcpo_prim_strict_df_norm_by_prim_nSNs, {**dict(facecolor='green', hatch=None, label=\"Outages (Xfmr tied to Outg. Location ID) - Direct Outage nSNs Norm\"), **common_barplot_kwargs}),\n",
    "        (subset_rcpo_prim_strict_dfs_dict['DL_OL'], {**dict(facecolor='green', hatch='//', label=\"DL_OL\"), **common_barplot_kwargs}),\n",
    "        (subset_rcpo_prim_strict_dfs_dict['DL_EQF'], {**dict(facecolor='green', hatch='-', label=\"DL_EQF\"), **common_barplot_kwargs}),\n",
    "        (subset_rcpo_prim_strict_dfs_dict['DL_EQF_XFMR'], {**dict(facecolor='green', hatch='\\\\\\\\', label=\"DL_EQF_XFMR\"), **common_barplot_kwargs}),\n",
    "        #(rcpo_no_outg_df_norm, {**dict(facecolor='orange', hatch=None, label=\"No Outages\"), **common_barplot_kwargs})\n",
    "    ], \n",
    "    order=reason_order, \n",
    "    n_bars_to_include=n_reason_to_include, \n",
    "    keep_edges_opaque=True, \n",
    "    include_hatches=False, \n",
    "    draw_side_by_side=True, \n",
    "    draw_single_idx_full_width=None,     \n",
    "    run_set_general_plotting_args=True, \n",
    "    draw_legend=True, \n",
    "    legend_args=dict(fontsize=15), \n",
    "    title_args=dict(label=f'End Events', fontsize=20), \n",
    "    ylabel_args = dict(ylabel=f'Normalized Counts', fontsize=20, x=0.0, y=0.4, ha='left', va='bottom'), \n",
    "    xlabel_args = dict(xlabel='Reason', fontsize=20, x=0.9, y=0.0, ha='right', va='top'), \n",
    "    tick_args=[dict(axis='x', labelrotation=90, labelsize=15), \n",
    "              dict(axis='y', labelsize=15)]\n",
    ")"
   ]
  },
  {
   "cell_type": "code",
   "execution_count": null,
   "id": "47079101",
   "metadata": {},
   "outputs": [],
   "source": []
  },
  {
   "cell_type": "code",
   "execution_count": null,
   "id": "ecd69ea2",
   "metadata": {},
   "outputs": [],
   "source": []
  },
  {
   "cell_type": "code",
   "execution_count": null,
   "id": "e31a1040",
   "metadata": {},
   "outputs": [],
   "source": []
  },
  {
   "cell_type": "code",
   "execution_count": null,
   "id": "a79cdd8d",
   "metadata": {},
   "outputs": [],
   "source": []
  },
  {
   "cell_type": "code",
   "execution_count": null,
   "id": "4bfebcf5",
   "metadata": {},
   "outputs": [],
   "source": []
  },
  {
   "cell_type": "code",
   "execution_count": null,
   "id": "eb3ac748",
   "metadata": {},
   "outputs": [],
   "source": []
  },
  {
   "cell_type": "code",
   "execution_count": null,
   "id": "109f5d3d",
   "metadata": {},
   "outputs": [],
   "source": []
  },
  {
   "cell_type": "markdown",
   "id": "0a9b4e7d",
   "metadata": {},
   "source": [
    "# DEVELOPMENT OF no outage normalization "
   ]
  },
  {
   "cell_type": "code",
   "execution_count": null,
   "id": "502afc56",
   "metadata": {},
   "outputs": [],
   "source": [
    "def build_SNs_w_EDEs_df_from_local_files(\n",
    "    date_0, \n",
    "    date_1, \n",
    "    opco='oh', \n",
    "    files_dir_base=r'C:\\Users\\s346557\\Documents\\LocalData\\dovs_and_end_events_data\\SNs_with_end_events', \n",
    "    allow_duplicate_dates=False, \n",
    "    drop_duplicate_dates=True\n",
    "):\n",
    "    r\"\"\"\n",
    "    drop_duplicate_dates only has effect if allow_duplicate_dates is True, \n",
    "      in which case, any duplicate index entries will be dropped, with the first being kept\n",
    "    Note: Cannot call drop_duplicates on DF because elements are lists\n",
    "    \n",
    "    Currently, FILES EXPECTED TO BE IN DIRECTORY os.path.join(files_dir_base, 'OPCO', opco)\n",
    "    \"\"\"\n",
    "    #-------------------------\n",
    "    files_dir = os.path.join(files_dir_base, 'OPCO', opco)\n",
    "    assert(os.path.isdir(files_dir))\n",
    "    #-------------------------\n",
    "    year_0 = pd.to_datetime(date_0).year\n",
    "    year_1 = pd.to_datetime(date_1).year\n",
    "    years_needed = list(range(year_0,year_1+1))\n",
    "    #-------------------------\n",
    "    SNs_w_EDEs_dfs = []\n",
    "    for year in years_needed:\n",
    "        file_name = f'{year}.pkl'\n",
    "        file_path = os.path.join(files_dir, file_name)\n",
    "        assert(os.path.exists(file_path))\n",
    "        #-----\n",
    "        SNs_w_EDEs_df_i = pd.read_pickle(file_path)\n",
    "        SNs_w_EDEs_dfs.append(SNs_w_EDEs_df_i)\n",
    "    assert(len(SNs_w_EDEs_dfs)>0)\n",
    "    if len(SNs_w_EDEs_dfs)==1:\n",
    "        SNs_w_EDEs_df = SNs_w_EDEs_dfs[0]\n",
    "    else:\n",
    "        # Make sure all have same columns\n",
    "        cols = SNs_w_EDEs_dfs[0].columns\n",
    "        for df in SNs_w_EDEs_dfs:\n",
    "            assert(df.columns==cols)\n",
    "        #-----\n",
    "        SNs_w_EDEs_df = pd.concat(SNs_w_EDEs_dfs)\n",
    "        #-----\n",
    "        if not allow_duplicate_dates:\n",
    "            assert(SNs_w_EDEs_df.index.nunique()==SNs_w_EDEs_df.shape[0])\n",
    "        else:\n",
    "            if drop_duplicate_dates and SNs_w_EDEs_df.index.nunique()!=SNs_w_EDEs_df.shape[0]:\n",
    "                SNs_w_EDEs_df = SNs_w_EDEs_df.groupby(SNs_w_EDEs_df.index).first()\n",
    "                assert(SNs_w_EDEs_df.index.nunique()==SNs_w_EDEs_df.shape[0])\n",
    "            else:\n",
    "                # Not really necessary to check this...\n",
    "                assert(SNs_w_EDEs_df.shape[0]==sum([x.shape[0] for x in SNs_w_EDEs_dfs]))\n",
    "    #-------------------------\n",
    "    # Make sure index is datetime with daily frequency\n",
    "    SNs_w_EDEs_df.index = pd.to_datetime(SNs_w_EDEs_df.index)\n",
    "    assert(pd.infer_freq(SNs_w_EDEs_df.index)=='D')\n",
    "    SNs_w_EDEs_df.index.freq = 'D'\n",
    "\n",
    "    # Make sure the index is sorted\n",
    "    SNs_w_EDEs_df = SNs_w_EDEs_df.sort_index()\n",
    "    #-------------------------\n",
    "    return SNs_w_EDEs_df\n",
    "\n",
    "\n",
    "def get_SNs_with_end_events_from_SNs_w_EDEs_df(\n",
    "    SNs_w_EDEs_df, \n",
    "    date_0, \n",
    "    date_1, \n",
    "    SNs_col=None, \n",
    "    batch_size=None, \n",
    "    verbose=False\n",
    "):\n",
    "    r\"\"\"\n",
    "    SNs_col:\n",
    "      typically 'serialnumbers'\n",
    "      If left as None, SNs_w_EDEs_df must have only a single column (which it typically does), and SNs_col\n",
    "        is taken to be that column\n",
    "    \n",
    "    \"\"\"\n",
    "    #-------------------------\n",
    "    if SNs_col is None:\n",
    "        assert(SNs_w_EDEs_df.shape[1]==1)\n",
    "        SNs_col = SNs_w_EDEs_df.columns[0]\n",
    "    #-------------------------\n",
    "    # Only date portion is considered here, since data taken daily\n",
    "    # i.e., time is thrown away\n",
    "    date_0 = pd.to_datetime(date_0).date()\n",
    "    date_1 = pd.to_datetime(date_1).date()\n",
    "    #-------------------------\n",
    "    # Make sure index is datetime with daily frequency\n",
    "    SNs_w_EDEs_df.index = pd.to_datetime(SNs_w_EDEs_df.index)\n",
    "    assert(pd.infer_freq(SNs_w_EDEs_df.index)=='D')\n",
    "    SNs_w_EDEs_df.index.freq = 'D'\n",
    "\n",
    "    # Make sure the index is sorted\n",
    "    SNs_w_EDEs_df = SNs_w_EDEs_df.sort_index()\n",
    "\n",
    "    # Make sure date_0 and date_1 in bounds\n",
    "    assert(pd.to_datetime(date_0)>=SNs_w_EDEs_df.index[0])\n",
    "    assert(pd.to_datetime(date_1)<=SNs_w_EDEs_df.index[-1])\n",
    "\n",
    "    sub_SNs_w_EDEs_df = SNs_w_EDEs_df[date_0:date_1]\n",
    "    SNs = Utilities_df.consolidate_column_of_lists(\n",
    "        df=sub_SNs_w_EDEs_df, \n",
    "        col=SNs_col, \n",
    "        sort=True, \n",
    "        include_None=False, \n",
    "        batch_size=batch_size, \n",
    "        verbose=verbose\n",
    "    )\n",
    "    #-------------------------\n",
    "    return SNs\n",
    "\n",
    "def get_SNs_with_end_events_from_local_files(\n",
    "    date_0, \n",
    "    date_1, \n",
    "    opco='oh', \n",
    "    files_dir_base=r'C:\\Users\\s346557\\Documents\\LocalData\\dovs_and_end_events_data\\SNs_with_end_events', \n",
    "    batch_size=None, \n",
    "    verbose=False\n",
    "):\n",
    "    r\"\"\"\n",
    "    \"\"\"\n",
    "    #-------------------------\n",
    "    SNs_w_EDEs_df = build_SNs_w_EDEs_df_from_local_files(\n",
    "        date_0=date_0, \n",
    "        date_1=date_1, \n",
    "        opco=opco, \n",
    "        files_dir_base=files_dir_base, \n",
    "        allow_duplicate_dates=False, \n",
    "        drop_duplicate_dates=True\n",
    "    )\n",
    "    #-------------------------\n",
    "    SNs = get_SNs_with_end_events_from_SNs_w_EDEs_df(\n",
    "        SNs_w_EDEs_df=SNs_w_EDEs_df, \n",
    "        date_0=date_0, \n",
    "        date_1=date_1,\n",
    "        SNs_col=None, \n",
    "        batch_size=batch_size, \n",
    "        verbose=verbose\n",
    "    )\n",
    "    #-------------------------\n",
    "    return SNs"
   ]
  },
  {
   "cell_type": "code",
   "execution_count": null,
   "id": "1bf6f477-2ea5-46de-bef4-f017ca6a5a03",
   "metadata": {},
   "outputs": [],
   "source": [
    "def build_mecpo_dict_from_pkls(\n",
    "    pkls_base_dir, \n",
    "    days_min_max_outg_td_window, \n",
    "    normalize_by_time_interval=False\n",
    "):\n",
    "    r\"\"\"\n",
    "    \"\"\"\n",
    "    #-------------------------\n",
    "    mecpo = MECPOAn(\n",
    "        days_min_max_outg_td_window=days_min_max_outg_td_window, \n",
    "        pkls_base_dir=pkls_base_dir, \n",
    "        is_no_outg=False, \n",
    "        normalize_by_time_interval=normalize_by_time_interval,\n",
    "        naming_tag=None, \n",
    "        read_and_load_all_pickles=True\n",
    "    )\n",
    "    mecpo_prim_strict = MECPOAn(\n",
    "        days_min_max_outg_td_window=days_min_max_outg_td_window, \n",
    "        pkls_base_dir=pkls_base_dir, \n",
    "        is_no_outg=False, \n",
    "        normalize_by_time_interval=normalize_by_time_interval,\n",
    "        naming_tag='_prim_strict', \n",
    "        read_and_load_all_pickles=True\n",
    "    )\n",
    "    mecpo_no_outg = MECPOAn(\n",
    "        days_min_max_outg_td_window=days_min_max_outg_td_window, \n",
    "        pkls_base_dir=pkls_base_dir, \n",
    "        is_no_outg=True, \n",
    "        normalize_by_time_interval=normalize_by_time_interval,\n",
    "        naming_tag='_no_outg', \n",
    "        read_and_load_all_pickles=True\n",
    "    )\n",
    "    #-------------------------\n",
    "    return {\n",
    "        'full': mecpo, \n",
    "        'prim_strict': mecpo_prim_strict, \n",
    "        'no_outg': mecpo_no_outg\n",
    "    }"
   ]
  },
  {
   "cell_type": "code",
   "execution_count": null,
   "id": "aee35836-6b38-48b5-9b07-c07bb46b2ee8",
   "metadata": {},
   "outputs": [],
   "source": []
  },
  {
   "cell_type": "code",
   "execution_count": null,
   "id": "7aa6a2ff",
   "metadata": {},
   "outputs": [],
   "source": [
    "mecpo_dict_01_30_1 = build_mecpo_dict_from_pkls(\n",
    "    r'C:\\Users\\s346557\\Documents\\LocalData\\dovs_and_end_events_data\\rcpo_dfs\\NEW_w_prems', \n",
    "    days_min_max_outg_td_window=[1,30], normalize_by_time_interval=True\n",
    ")"
   ]
  },
  {
   "cell_type": "code",
   "execution_count": null,
   "id": "111067c2",
   "metadata": {},
   "outputs": [],
   "source": []
  },
  {
   "cell_type": "code",
   "execution_count": null,
   "id": "668075af",
   "metadata": {},
   "outputs": [],
   "source": [
    "# mecpo_dict_01_30_1 = build_mecpo_dict_from_pkls(\n",
    "#     r'C:\\Users\\s346557\\Documents\\LocalData\\dovs_and_end_events_data\\rcpo_dfs', \n",
    "#     days_min_max_outg_td_window=[1,30], normalize_by_time_interval=normalize_by_time_interval\n",
    "# )\n",
    "\n",
    "# mecpo_dict_01_30_2 = build_mecpo_dict_from_pkls(\n",
    "#     r'C:\\Users\\s346557\\Documents\\LocalData\\dovs_and_end_events_data\\rcpo_dfs\\NEW_w_prems', \n",
    "#     days_min_max_outg_td_window=[1,30], normalize_by_time_interval=normalize_by_time_interval\n",
    "# )"
   ]
  },
  {
   "cell_type": "code",
   "execution_count": null,
   "id": "481faf86",
   "metadata": {},
   "outputs": [],
   "source": [
    "files_dir_outg             = r'C:\\Users\\s346557\\Documents\\LocalData\\dovs_and_end_events_data\\EndEvents'\n",
    "\n",
    "is_no_outg = False\n",
    "paths = Utilities.find_all_paths(base_dir=files_dir_outg, glob_pattern=file_path_glob)\n",
    "# i_beg = 1000\n",
    "# i_end = 2000\n",
    "i_beg = 0\n",
    "i_end = 1000\n",
    "cols_and_types_to_convert_dict=None\n",
    "to_numeric_errors='coerce'\n",
    "assert_all_cols_equal=True\n",
    "outg_rec_nb_col='outg_rec_nb'\n",
    "addtnl_dropna_subset_cols=None\n",
    "\n",
    "days_min_outg_td_window=1\n",
    "days_max_outg_td_window=30\n",
    "\n",
    "min_outg_td_window=datetime.timedelta(days=days_min_outg_td_window)\n",
    "max_outg_td_window=datetime.timedelta(days=days_max_outg_td_window)"
   ]
  },
  {
   "cell_type": "code",
   "execution_count": null,
   "id": "68318490",
   "metadata": {},
   "outputs": [],
   "source": []
  },
  {
   "cell_type": "code",
   "execution_count": null,
   "id": "2be46cad",
   "metadata": {},
   "outputs": [],
   "source": []
  },
  {
   "cell_type": "code",
   "execution_count": null,
   "id": "af5305f4",
   "metadata": {},
   "outputs": [],
   "source": [
    "dev_rcpo_df         = mecpo_dict_01_30_1['full'].cpo_dfs['rcpo_df_raw'].copy()\n",
    "dev_rcpo_no_outg_df = mecpo_dict_01_30_1['no_outg'].cpo_dfs['rcpo_df_raw'].copy()"
   ]
  },
  {
   "cell_type": "code",
   "execution_count": null,
   "id": "f208b751",
   "metadata": {},
   "outputs": [],
   "source": [
    "run_infos_df = MECPOAn.get_bsln_time_interval_infos_df_from_summary_files(\n",
    "    summary_paths=[AMIEndEvents.find_summary_file_from_csv(x) for x in paths], \n",
    "    output_prem_nbs_col='prem_nbs', \n",
    "    output_t_min_col='t_min', \n",
    "    output_t_max_col='DT_OFF_TS_FULL', \n",
    "    make_prem_nbs_idx=True, \n",
    "    include_summary_paths=True\n",
    ")"
   ]
  },
  {
   "cell_type": "code",
   "execution_count": null,
   "id": "fe7d253a",
   "metadata": {},
   "outputs": [],
   "source": [
    "dev_rcpo_no_outg_df"
   ]
  },
  {
   "cell_type": "code",
   "execution_count": null,
   "id": "aa77ddaf",
   "metadata": {},
   "outputs": [],
   "source": []
  },
  {
   "cell_type": "code",
   "execution_count": null,
   "id": "3a9dfa0d",
   "metadata": {},
   "outputs": [],
   "source": [
    "files_dir_no_outg             = r'C:\\Users\\s346557\\Documents\\LocalData\\dovs_and_end_events_data\\EndEvents_NoOutg'\n",
    "paths_no_outg = Utilities.find_all_paths(base_dir=files_dir_no_outg, glob_pattern=file_path_glob)\n",
    "\n",
    "no_outg_time_infos_df = MECPOAn.get_bsln_time_interval_infos_df_from_summary_files(\n",
    "    summary_paths=[AMIEndEvents.find_summary_file_from_csv(x) for x in paths_no_outg], \n",
    "    output_prem_nbs_col='prem_nbs', \n",
    "    output_t_min_col='t_min', \n",
    "    output_t_max_col='DT_OFF_TS_FULL', \n",
    "    make_prem_nbs_idx=True, \n",
    "    include_summary_paths=True\n",
    ")"
   ]
  },
  {
   "cell_type": "code",
   "execution_count": null,
   "id": "c4fe1371",
   "metadata": {},
   "outputs": [],
   "source": [
    "no_outg_time_infos_df['t_min'].unique()"
   ]
  },
  {
   "cell_type": "code",
   "execution_count": null,
   "id": "98c25402",
   "metadata": {},
   "outputs": [],
   "source": [
    "dev_rcpo_df"
   ]
  },
  {
   "cell_type": "code",
   "execution_count": null,
   "id": "4940a7cc",
   "metadata": {},
   "outputs": [],
   "source": [
    "dev_rcpo_no_outg_df"
   ]
  },
  {
   "cell_type": "code",
   "execution_count": null,
   "id": "6001c8af",
   "metadata": {},
   "outputs": [],
   "source": [
    "SNs_for_xfmrs_df = MeterPremise.get_SNs_for_xfmrs(trsf_pole_nbs=dev_rcpo_no_outg_df.index.tolist())"
   ]
  },
  {
   "cell_type": "code",
   "execution_count": null,
   "id": "0e2b52ae",
   "metadata": {},
   "outputs": [],
   "source": [
    "SNs_for_xfmrs_df"
   ]
  },
  {
   "cell_type": "code",
   "execution_count": null,
   "id": "717e7928",
   "metadata": {},
   "outputs": [],
   "source": []
  },
  {
   "cell_type": "code",
   "execution_count": null,
   "id": "56aff441",
   "metadata": {},
   "outputs": [],
   "source": [
    "dev_rcpo_no_outg_df.head()"
   ]
  },
  {
   "cell_type": "code",
   "execution_count": null,
   "id": "b45aef8a",
   "metadata": {},
   "outputs": [],
   "source": [
    "is_datetime=False # Set to True if search should be datetime instead of date (i.e., if hours/minutes should be \n",
    "                  #   included or ignored in search)\n",
    "prem_nbs_col_rcpo = '_prem_nbs'\n",
    "prem_nbs_col_SNs_for_xfmrs = 'prem_nbs'\n",
    "t_min_col = 't_min'\n",
    "t_max_col = 'DT_OFF_TS_FULL'"
   ]
  },
  {
   "cell_type": "code",
   "execution_count": null,
   "id": "e6078d76",
   "metadata": {},
   "outputs": [],
   "source": [
    "print(dev_rcpo_no_outg_df.shape[0])"
   ]
  },
  {
   "cell_type": "code",
   "execution_count": null,
   "id": "fba6f0b5",
   "metadata": {},
   "outputs": [],
   "source": [
    "# start=time.time()\n",
    "# prem_nbs_with_end_events_0 = get_SNs_with_end_events_from_local_files(\n",
    "#     date_0='2017-01-01', \n",
    "#     date_1='2022-06-30', \n",
    "#     files_dir_base=r'C:\\Users\\s346557\\Documents\\LocalData\\dovs_and_end_events_data\\prem_nbs_with_end_events', \n",
    "# )\n",
    "# print(time.time()-start)"
   ]
  },
  {
   "cell_type": "code",
   "execution_count": null,
   "id": "6ea07cd3",
   "metadata": {},
   "outputs": [],
   "source": [
    "start=time.time()\n",
    "prem_nbs_with_end_events = get_SNs_with_end_events_from_local_files(\n",
    "    date_0='2017-01-01', \n",
    "    date_1='2022-06-30', \n",
    "    files_dir_base=r'C:\\Users\\s346557\\Documents\\LocalData\\dovs_and_end_events_data\\prem_nbs_with_end_events', \n",
    "    batch_size=100,\n",
    "    verbose=True\n",
    ")\n",
    "print(time.time()-start)"
   ]
  },
  {
   "cell_type": "code",
   "execution_count": null,
   "id": "05545d6e",
   "metadata": {},
   "outputs": [],
   "source": [
    "# prem_nbs_with_end_events_0==prem_nbs_with_end_events"
   ]
  },
  {
   "cell_type": "code",
   "execution_count": null,
   "id": "aa9fc3cc",
   "metadata": {},
   "outputs": [],
   "source": [
    "# rcpo_i = dev_rcpo_no_outg_df.iloc[4].copy() #pd.Series object\n",
    "# prem_nbs_acquired_i = rcpo_i[prem_nbs_col_rcpo]\n",
    "# #-----\n",
    "# prem_nbs_in_xfmr_i = SNs_for_xfmrs_df.loc[rcpo_i.name][prem_nbs_col_SNs_for_xfmrs]\n",
    "# #-----\n",
    "# time_info_i = no_outg_time_infos_df.loc[prem_nbs_acquired_i]\n",
    "# assert(time_info_i[t_min_col].nunique()==1)\n",
    "# assert(time_info_i[t_max_col].nunique()==1)\n",
    "# t_min_i = time_info_i.iloc[0][t_min_col]\n",
    "# t_max_i = time_info_i.iloc[0][t_max_col]\n",
    "# #-----\n",
    "# # prem_nbs_with_end_events = get_SNs_with_end_events_from_local_files(\n",
    "# #     date_0=t_min_i, \n",
    "# #     date_1=t_max_i, \n",
    "# #     files_dir_base=r'C:\\Users\\s346557\\Documents\\LocalData\\dovs_and_end_events_data\\prem_nbs_with_end_events'\n",
    "# # )\n",
    "# #-----\n",
    "# prem_nbs_w_events_needed_i = [x for x in set(prem_nbs_in_xfmr_i).difference(set(prem_nbs_acquired_i)) if x in prem_nbs_with_end_events]"
   ]
  },
  {
   "cell_type": "code",
   "execution_count": null,
   "id": "2e819542",
   "metadata": {},
   "outputs": [],
   "source": []
  },
  {
   "cell_type": "code",
   "execution_count": null,
   "id": "74ddc6fc",
   "metadata": {},
   "outputs": [],
   "source": [
    "prem_nbs_w_search_times = []\n",
    "for idx in range(dev_rcpo_no_outg_df.shape[0]):\n",
    "    #print(idx)\n",
    "    if idx%50==0:\n",
    "        print(idx)\n",
    "    #TODO WHY AM I COPYING BELOW??! Don't think I need to\n",
    "    rcpo_i = dev_rcpo_no_outg_df.iloc[idx].copy() #pd.Series object\n",
    "    trsf_pole_nb_i = rcpo_i.name\n",
    "    prem_nbs_acquired_i = rcpo_i[prem_nbs_col_rcpo]\n",
    "    #-----\n",
    "    if trsf_pole_nb_i not in SNs_for_xfmrs_df.index:\n",
    "        print(f'trsf_pole_nb_i={trsf_pole_nb_i} not in SNs_for_xfmrs_df!!!!!')\n",
    "        continue\n",
    "    #-----\n",
    "    prem_nbs_in_xfmr_i = SNs_for_xfmrs_df.loc[trsf_pole_nb_i][prem_nbs_col_SNs_for_xfmrs]\n",
    "    #-----\n",
    "    time_info_i = no_outg_time_infos_df.loc[prem_nbs_acquired_i]\n",
    "    assert(time_info_i[t_min_col].nunique()==1)\n",
    "    assert(time_info_i[t_max_col].nunique()==1)\n",
    "    t_min_i = time_info_i.iloc[0][t_min_col]\n",
    "    t_max_i = time_info_i.iloc[0][t_max_col]\n",
    "    #-----\n",
    "#     prem_nbs_with_end_events = get_SNs_with_end_events_from_local_files(\n",
    "#         date_0=t_min_i, \n",
    "#         date_1=t_max_i, \n",
    "#         files_dir_base=r'C:\\Users\\s346557\\Documents\\LocalData\\dovs_and_end_events_data\\prem_nbs_with_end_events'\n",
    "#     )\n",
    "    #-----\n",
    "    # Premise numbers needed are the difference between prem_nbs_in_xfmr_i and prem_nbs_acquired_i, but only if the premise numbers\n",
    "    # have an end event\n",
    "    # NOTE: Using set operations MUCH faster than list comprehension\n",
    "    prem_nbs_w_events_needed_i = list((set(prem_nbs_in_xfmr_i).difference(set(prem_nbs_acquired_i)))\n",
    "                                      .intersection(prem_nbs_with_end_events))\n",
    "    #-----\n",
    "    prem_nbs_w_search_times.append(dict(prem_nbs=prem_nbs_w_events_needed_i, t_min=t_min_i, t_max=t_max_i))"
   ]
  },
  {
   "cell_type": "code",
   "execution_count": null,
   "id": "121066b0",
   "metadata": {},
   "outputs": [],
   "source": [
    "# rcpo_i = dev_rcpo_no_outg_df.iloc[0].copy() #pd.Series object\n",
    "# prem_nbs_acquired_i = rcpo_i[prem_nbs_col_rcpo]\n",
    "# #-----\n",
    "# prem_nbs_in_xfmr_i = SNs_for_xfmrs_df.loc[rcpo_i.name][prem_nbs_col_SNs_for_xfmrs]\n",
    "# #-----\n",
    "# time_info_i = no_outg_time_infos_df.loc[prem_nbs_acquired_i]\n",
    "# assert(time_info_i[t_min_col].nunique()==1)\n",
    "# assert(time_info_i[t_max_col].nunique()==1)\n",
    "# t_min_i = time_info_i.iloc[0][t_min_col]\n",
    "# t_max_i = time_info_i.iloc[0][t_max_col]\n",
    "# #-----\n",
    "# prem_nbs_with_end_events = get_SNs_with_end_events_from_local_files(\n",
    "#     date_0=t_min_i, \n",
    "#     date_1=t_max_i, \n",
    "#     files_dir_base=r'C:\\Users\\s346557\\Documents\\LocalData\\dovs_and_end_events_data\\prem_nbs_with_end_events'\n",
    "# )\n",
    "# #-----\n",
    "# prem_nbs_w_events_needed_i = [x for x in prem_nbs_in_xfmr_i if x in prem_nbs_with_end_events]\n",
    "# #-----\n",
    "# prem_nbs_w_search_times.append(dict(prem_nbs=prem_nbs_w_events_needed_i, t_min=t_min_i, t_max=t_max_i))"
   ]
  },
  {
   "cell_type": "code",
   "execution_count": null,
   "id": "c0e5f054",
   "metadata": {},
   "outputs": [],
   "source": [
    "prem_nbs_w_search_times"
   ]
  },
  {
   "cell_type": "code",
   "execution_count": null,
   "id": "c3b208c3",
   "metadata": {},
   "outputs": [],
   "source": [
    "pd.DataFrame(prem_nbs_w_search_times)['t_min']"
   ]
  },
  {
   "cell_type": "code",
   "execution_count": null,
   "id": "391820ef",
   "metadata": {},
   "outputs": [],
   "source": []
  },
  {
   "cell_type": "code",
   "execution_count": null,
   "id": "fc3678e6",
   "metadata": {},
   "outputs": [],
   "source": []
  },
  {
   "cell_type": "code",
   "execution_count": null,
   "id": "2d99d338",
   "metadata": {},
   "outputs": [],
   "source": []
  },
  {
   "cell_type": "code",
   "execution_count": null,
   "id": "40d345d8",
   "metadata": {},
   "outputs": [],
   "source": [
    "trsf_pole_nb_i"
   ]
  },
  {
   "cell_type": "code",
   "execution_count": null,
   "id": "9595b434",
   "metadata": {},
   "outputs": [],
   "source": [
    "len(prem_nbs_w_search_times)"
   ]
  },
  {
   "cell_type": "code",
   "execution_count": null,
   "id": "cccc19d5",
   "metadata": {},
   "outputs": [],
   "source": [
    "dev_rcpo_no_outg_df.index"
   ]
  },
  {
   "cell_type": "code",
   "execution_count": null,
   "id": "0ee549fc",
   "metadata": {},
   "outputs": [],
   "source": [
    "prem_nbs_w_search_times"
   ]
  },
  {
   "cell_type": "code",
   "execution_count": null,
   "id": "eeb1c116",
   "metadata": {},
   "outputs": [],
   "source": [
    "cols_of_interest_end_dev_event = TableInfos.AMIEndEvents_TI.std_columns_of_interest\n",
    "\n",
    "cols_of_interest_met_prem = TableInfos.MeterPremise_TI.std_columns_of_interest\n",
    "cols_of_interest_met_prem.append('curr_acct_cls_cd')\n",
    "\n",
    "df_construct_type=DFConstructType.kRunSqlQuery\n",
    "contstruct_df_args_end_events=None\n",
    "\n",
    "build_sql_function = AMIEndEvents_SQL.build_sql_end_events"
   ]
  },
  {
   "cell_type": "code",
   "execution_count": null,
   "id": "c5161182",
   "metadata": {},
   "outputs": [],
   "source": []
  },
  {
   "cell_type": "code",
   "execution_count": null,
   "id": "f7144aaf",
   "metadata": {},
   "outputs": [],
   "source": []
  },
  {
   "cell_type": "code",
   "execution_count": null,
   "id": "da0d6830",
   "metadata": {},
   "outputs": [],
   "source": [
    "# entry_i = prem_nbs_w_search_times[0]\n",
    "# prem_nbs_i = entry_i['prem_nbs']\n",
    "# t_min_i = entry_i['t_min']\n",
    "# t_max_i = entry_i['t_max']"
   ]
  },
  {
   "cell_type": "code",
   "execution_count": null,
   "id": "d755aa19",
   "metadata": {},
   "outputs": [],
   "source": [
    "print(len(prem_nbs_w_search_times))\n",
    "for i in range(len(prem_nbs_w_search_times)):\n",
    "    print(i)\n",
    "    entry_i = prem_nbs_w_search_times[i]\n",
    "    prem_nbs_i = entry_i['prem_nbs']\n",
    "    t_min_i = entry_i['t_min']\n",
    "    t_max_i = entry_i['t_max']\n",
    "    #-------------------------\n",
    "    build_sql_function_kwargs = dict(\n",
    "        cols_of_interest=cols_of_interest_end_dev_event, \n",
    "        premise_nbs=prem_nbs_i, \n",
    "        serialnumber_col='serialnumber', \n",
    "        from_table_alias='un_rin', \n",
    "        schema_name='meter_events', \n",
    "        table_name='end_device_event', \n",
    "        datetime_col = 'valuesinterval', \n",
    "        datetime_pattern = r\"([0-9]{4}-[0-9]{2}-[0-9]{2})T([0-9]{2}:[0-9]{2}:[0-9]{2}).*\", \n",
    "        date_col     = 'aep_event_dt', \n",
    "        join_mp_args=dict(join_with_CTE=True, \n",
    "                          build_mp_kwargs=dict(cols_of_interest=cols_of_interest_met_prem), \n",
    "                          join_type='LEFT'), \n",
    "    #     field_to_split='df_mp_no_outg', \n",
    "    #     field_to_split_location_in_kwargs=['df_mp_no_outg'], \n",
    "    #     sort_coll_to_split=False,\n",
    "    #     batch_size=10, verbose=True, n_update=1\n",
    "    )\n",
    "\n",
    "    #TODO!!!!!!!!!!!\n",
    "    # NO OUTAGES use BOTH date and datetime.\n",
    "    # This is WRONG, as it reduces the width of time by 1 day, since\n",
    "    # datetime cuts off last day at 00:00:00, whereas date includes it\n",
    "    # In any case, reproduce here so searching json files is consistent\n",
    "    # with others.\n",
    "    # ALSO, I think json wants t_min/max as string, not timestamp objects, hence\n",
    "    # the conversion\n",
    "\n",
    "    # if is_datetime:\n",
    "    #     build_sql_function_kwargs['datetime_range'] = [t_min_i, t_max_i]\n",
    "    # else:\n",
    "    #     build_sql_function_kwargs['date_range'] = [t_min_i, t_max_i]\n",
    "\n",
    "    build_sql_function_kwargs['datetime_range'] = [str(t_min_i), str(t_max_i)]\n",
    "    build_sql_function_kwargs['date_range'] = [str(t_min_i), str(t_max_i)]\n",
    "\n",
    "    #--------------------------------------------------\n",
    "    save_args = dict(save_to_file=True, \n",
    "                     save_dir = r'C:\\Users\\s346557\\Documents\\LocalData\\dovs_and_end_events_data\\EndEvents_NoOutg', \n",
    "                     save_name=r'end_events.csv', \n",
    "                     index=True)\n",
    "\n",
    "    save_args['offset_int'] = GenAn.get_next_summary_file_tag_int(save_args)\n",
    "    save_args = GenAn.prepare_save_args(save_args, make_save_dir_if_dne=False)\n",
    "    save_args['save_name'] = Utilities.append_to_path(save_args['save_name'], appendix=f'_{save_args[\"offset_int\"]}', \n",
    "                                                        ext_to_find=save_args['save_ext'], append_to_end_if_ext_no_found=True)\n",
    "    save_args = GenAn.prepare_save_args(save_args, make_save_dir_if_dne=False)\n",
    "\n",
    "    end_events = AMIEndEvents(\n",
    "        df_construct_type=df_construct_type, \n",
    "        contstruct_df_args = contstruct_df_args_end_events, \n",
    "        build_sql_function=build_sql_function, \n",
    "        build_sql_function_kwargs=build_sql_function_kwargs, \n",
    "        init_df_in_constructor=True, \n",
    "        save_args=save_args\n",
    "    )"
   ]
  },
  {
   "cell_type": "code",
   "execution_count": null,
   "id": "d54d978d",
   "metadata": {},
   "outputs": [],
   "source": []
  },
  {
   "cell_type": "code",
   "execution_count": null,
   "id": "08e2e1d2",
   "metadata": {},
   "outputs": [],
   "source": []
  },
  {
   "cell_type": "code",
   "execution_count": null,
   "id": "f31e7ebb",
   "metadata": {},
   "outputs": [],
   "source": [
    "no_outg_time_infos_df = MECPOAn.get_bsln_time_interval_infos_df_from_summary_files(\n",
    "    summary_paths=[AMIEndEvents.find_summary_file_from_csv(x) for x in paths[i_beg:i_end]], \n",
    "    output_prem_nbs_col='prem_nbs', \n",
    "    output_t_min_col='t_min', \n",
    "    output_t_max_col='DT_OFF_TS_FULL', \n",
    "    make_prem_nbs_idx=True, \n",
    "    include_summary_paths=True\n",
    ")"
   ]
  },
  {
   "cell_type": "code",
   "execution_count": null,
   "id": "f4c291ba",
   "metadata": {},
   "outputs": [],
   "source": []
  },
  {
   "cell_type": "code",
   "execution_count": null,
   "id": "94104cfb",
   "metadata": {},
   "outputs": [],
   "source": [
    "end_events_df_i = GenAn.read_df_from_csv_batch(\n",
    "    paths=paths[i_beg:i_end], \n",
    "    cols_and_types_to_convert_dict=cols_and_types_to_convert_dict, \n",
    "    to_numeric_errors=to_numeric_errors, \n",
    "    make_all_columns_lowercase=True, \n",
    "    assert_all_cols_equal=assert_all_cols_equal\n",
    ")\n",
    "#-------------------------\n",
    "# if end_events_df_i.shape[0]==0:\n",
    "#     continue\n",
    "#-------------------------\n",
    "if (f'{outg_rec_nb_col}_gpd_for_sql' in end_events_df_i.columns and \n",
    "    outg_rec_nb_col not in end_events_df_i.columns):\n",
    "    end_events_df_i = end_events_df_i.rename(columns={f'{outg_rec_nb_col}_gpd_for_sql':outg_rec_nb_col})\n",
    "assert(outg_rec_nb_col in end_events_df_i.columns)\n",
    "#-------------------------\n",
    "dropna_subset_cols = [outg_rec_nb_col]\n",
    "if addtnl_dropna_subset_cols is not None:\n",
    "    dropna_subset_cols.extend(addtnl_dropna_subset_cols)\n",
    "end_events_df_i = end_events_df_i.dropna(subset=dropna_subset_cols)"
   ]
  },
  {
   "cell_type": "code",
   "execution_count": null,
   "id": "d2536c07",
   "metadata": {},
   "outputs": [],
   "source": []
  },
  {
   "cell_type": "code",
   "execution_count": null,
   "id": "16772b50",
   "metadata": {},
   "outputs": [],
   "source": [
    "no_outg_time_infos_df = MECPOAn.get_bsln_time_interval_infos_df_from_summary_files(\n",
    "    summary_paths=[AMIEndEvents.find_summary_file_from_csv(x) for x in paths[i_beg:i_end]], \n",
    "    output_prem_nbs_col='prem_nbs', \n",
    "    output_t_min_col='t_min', \n",
    "    output_t_max_col='DT_OFF_TS_FULL', \n",
    "    make_prem_nbs_idx=True, \n",
    "    include_summary_paths=True\n",
    ")"
   ]
  },
  {
   "cell_type": "code",
   "execution_count": null,
   "id": "4580d2de",
   "metadata": {},
   "outputs": [],
   "source": [
    "no_outg_time_infos_df"
   ]
  },
  {
   "cell_type": "code",
   "execution_count": null,
   "id": "c2c043b5",
   "metadata": {},
   "outputs": [],
   "source": []
  },
  {
   "cell_type": "code",
   "execution_count": null,
   "id": "58352f44",
   "metadata": {},
   "outputs": [],
   "source": [
    "if not is_no_outg:\n",
    "    # If min_outg_td_window or max_outg_td_window is not None, enforce time restrictions around outages\n",
    "    if min_outg_td_window is not None or max_outg_td_window is not None:\n",
    "        dovs_outgs = DOVSOutages(\n",
    "            df_construct_type=DFConstructType.kRunSqlQuery, \n",
    "            contstruct_df_args=None, \n",
    "            init_df_in_constructor=True, \n",
    "            build_sql_function=DOVSOutages_SQL.build_sql_outage, \n",
    "            build_sql_function_kwargs=dict(\n",
    "                outg_rec_nbs=end_events_df_i[outg_rec_nb_col].unique().tolist(), \n",
    "                from_table_alias='DOV', \n",
    "                datetime_col='DT_OFF_TS_FULL', \n",
    "                cols_of_interest=[\n",
    "                    'OUTG_REC_NB', \n",
    "                    dict(field_desc=f\"DOV.DT_ON_TS - DOV.STEP_DRTN_NB/(60*24)\", \n",
    "                         alias='DT_OFF_TS_FULL', table_alias_prefix=None)\n",
    "                ], \n",
    "                field_to_split='outg_rec_nbs'\n",
    "            ),\n",
    "        )\n",
    "        outg_dt_off_df = dovs_outgs.df\n",
    "        outg_dt_off_df = Utilities_df.convert_col_type(df=outg_dt_off_df, column='OUTG_REC_NB', to_type=str)\n",
    "        outg_dt_off_df=outg_dt_off_df.set_index('OUTG_REC_NB')\n",
    "        outg_dt_off_series = outg_dt_off_df['DT_OFF_TS_FULL']\n",
    "\n",
    "        end_events_df_i=Utilities_dt.strip_tz_info_and_convert_to_dt(\n",
    "            df=end_events_df_i, \n",
    "            time_col='valuesinterval', \n",
    "            placement_col='valuesinterval_local', \n",
    "            run_quick=True, \n",
    "            n_strip=6, \n",
    "            inplace=False\n",
    "        )\n",
    "        end_events_df_i = AMIEndEvents.enforce_end_events_within_interval_of_outage(\n",
    "            end_events_df=end_events_df_i, \n",
    "            outg_times_series=outg_dt_off_series, \n",
    "            min_timedelta=min_outg_td_window, \n",
    "            max_timedelta=max_outg_td_window, \n",
    "            outg_rec_nb_col = outg_rec_nb_col, \n",
    "            datetime_col='valuesinterval_local'\n",
    "        )"
   ]
  },
  {
   "cell_type": "code",
   "execution_count": null,
   "id": "40fb40b2",
   "metadata": {},
   "outputs": [],
   "source": [
    "SNs_in_outgs = DOVSOutages.get_serial_numbers_for_outages(\n",
    "    outg_rec_nbs=outg_dt_off_df.index.unique().tolist(), \n",
    "    return_type=pd.Series, \n",
    "    col_type_outg_rec_nb=str, \n",
    "    col_type_premise_nb=None, \n",
    "    col_type_serial_nb=None, \n",
    "    return_premise_nbs_for_outages=True, \n",
    ")"
   ]
  },
  {
   "cell_type": "code",
   "execution_count": null,
   "id": "9f387866",
   "metadata": {},
   "outputs": [],
   "source": []
  },
  {
   "cell_type": "code",
   "execution_count": null,
   "id": "a4068921",
   "metadata": {},
   "outputs": [],
   "source": [
    "for outg_rec_nb in outg_dt_off_df.index.tolist():\n",
    "    SNs_in_outg_i = SNs_in_outgs.loc[outg_rec_nb]['premise_nbs']\n",
    "\n",
    "    # Actually searched 30 days before and after outage\n",
    "    # (30 days before it began, and 30 days after it ended)\n",
    "    # So, outg_time_i is 30 days after t_min\n",
    "    search_time_window = datetime.timedelta(days=30)\n",
    "    outg_time_i = no_outg_time_infos_df.loc[SNs_in_outg_i]['t_min']+search_time_window\n",
    "    \n",
    "    #NOPE, below not correct.  But good estimate if search_time_window unknown\n",
    "#     outg_time_i = no_outg_time_infos_df.loc[SNs_in_outg_i]['t_min']+0.5*(\n",
    "#         no_outg_time_infos_df.loc[SNs_in_outg_i]['DT_OFF_TS_FULL']-no_outg_time_infos_df.loc[SNs_in_outg_i]['t_min']\n",
    "#     )\n",
    "\n",
    "\n",
    "    # Possible more than one time, if premise suffered multiple outages\n",
    "    outg_time_i=pd.to_datetime(outg_time_i.unique().tolist())\n",
    "\n",
    "    # One, and only one, should be close to the outage time taken from outg_df_off_df\n",
    "#     close_to_real_time = sum(abs(outg_time_i-outg_dt_off_df.loc[outg_rec_nb]['DT_OFF_TS_FULL'])<datetime.timedelta(minutes=10))\n",
    "    close_to_real_time = sum(abs(outg_time_i-outg_dt_off_df.loc[outg_rec_nb]['DT_OFF_TS_FULL'])==datetime.timedelta(minutes=0))\n",
    "    if close_to_real_time!=1:\n",
    "        print(outg_rec_nb)\n",
    "        print(f'close_to_real_time={close_to_real_time}')\n",
    "        print()\n",
    "    #assert(close_to_real_time==1)"
   ]
  },
  {
   "cell_type": "code",
   "execution_count": null,
   "id": "ba0d2f84",
   "metadata": {},
   "outputs": [],
   "source": []
  },
  {
   "cell_type": "code",
   "execution_count": null,
   "id": "5048de3a",
   "metadata": {},
   "outputs": [],
   "source": [
    "print(end_events_df_i['outg_rec_nb'].nunique())\n",
    "outg_rec_nbs_w_meters_wo_events = []\n",
    "for idx, df in end_events_df_i.groupby('outg_rec_nb'):\n",
    "    SNs_in_outgs_i = SNs_in_outgs.loc[df['outg_rec_nb'].unique()]\n",
    "    if len(SNs_in_outgs_i.iloc[0]['serial_numbers'])>df['serialnumber'].nunique():\n",
    "        #print(idx)\n",
    "        outg_rec_nbs_w_meters_wo_events.append(idx)"
   ]
  },
  {
   "cell_type": "code",
   "execution_count": null,
   "id": "1a3746a4",
   "metadata": {},
   "outputs": [],
   "source": [
    "len(outg_rec_nbs_w_meters_wo_events)"
   ]
  },
  {
   "cell_type": "code",
   "execution_count": null,
   "id": "263831c3",
   "metadata": {},
   "outputs": [],
   "source": [
    "SNs_in_outgs.loc[outg_rec_nbs_w_meters_wo_events[0]]"
   ]
  },
  {
   "cell_type": "code",
   "execution_count": null,
   "id": "c1e4f5ba",
   "metadata": {},
   "outputs": [],
   "source": [
    "end_events_df_i[end_events_df_i['outg_rec_nb']==outg_rec_nbs_w_meters_wo_events[0]]"
   ]
  },
  {
   "cell_type": "code",
   "execution_count": null,
   "id": "a528bd21",
   "metadata": {},
   "outputs": [],
   "source": [
    "print(np.min(outg_dt_off_df['DT_OFF_TS_FULL']))\n",
    "print(np.max(outg_dt_off_df['DT_OFF_TS_FULL']))"
   ]
  },
  {
   "cell_type": "code",
   "execution_count": null,
   "id": "0eb59e07",
   "metadata": {},
   "outputs": [],
   "source": []
  },
  {
   "cell_type": "code",
   "execution_count": null,
   "id": "cd70b115",
   "metadata": {},
   "outputs": [],
   "source": [
    "# outg_rec_nb_i = outg_rec_nbs_w_meters_wo_events[100]\n",
    "outg_rec_nb_i = '10413357'"
   ]
  },
  {
   "cell_type": "code",
   "execution_count": null,
   "id": "1e2df9ae",
   "metadata": {},
   "outputs": [],
   "source": [
    "# NOT EXACTLY RIGHT!!!!!\n",
    "t_max = outg_dt_off_df.loc[outg_rec_nb_i]['DT_OFF_TS_FULL']\n",
    "t_min = t_max-datetime.timedelta(days=30)\n",
    "\n",
    "sns_with_end_events = get_SNs_with_end_events_from_local_files(\n",
    "    date_0=t_min, \n",
    "    date_1=t_max\n",
    ")\n",
    "\n",
    "# prem_nbs_with_end_events = get_SNs_with_end_events_from_local_files(\n",
    "#     date_0=t_min, \n",
    "#     date_1=t_max, \n",
    "#     files_dir_base=r'C:\\Users\\s346557\\Documents\\LocalData\\dovs_and_end_events_data\\prem_nbs_with_end_events'\n",
    "# )\n",
    "\n",
    "prem_nbs_with_end_events = AMIEndEvents.get_end_event_distinct_fields(\n",
    "    date_0=t_min, \n",
    "    date_1=t_max, \n",
    "    fields=['aep_premise_nb'], \n",
    "    are_datetime=True, \n",
    "    addtnl_build_sql_function_kwargs = dict(opco='oh')\n",
    ")\n",
    "prem_nbs_with_end_events=prem_nbs_with_end_events['aep_premise_nb'].tolist()"
   ]
  },
  {
   "cell_type": "code",
   "execution_count": null,
   "id": "0ac11057",
   "metadata": {},
   "outputs": [],
   "source": []
  },
  {
   "cell_type": "code",
   "execution_count": null,
   "id": "cc499059",
   "metadata": {},
   "outputs": [],
   "source": []
  },
  {
   "cell_type": "code",
   "execution_count": null,
   "id": "62fe52c2",
   "metadata": {},
   "outputs": [],
   "source": []
  },
  {
   "cell_type": "code",
   "execution_count": null,
   "id": "32f1baca",
   "metadata": {},
   "outputs": [],
   "source": [
    "prems_in_outg_i_from_DOVS = SNs_in_outgs.loc[outg_rec_nb_i]['premise_nbs']\n",
    "prems_in_outg_i_from_end_events = end_events_df_i[end_events_df_i['outg_rec_nb']==outg_rec_nb_i]['aep_premise_nb'].unique().tolist()\n",
    "expect_with_events = [x for x in prems_in_outg_i_from_DOVS\n",
    "                      if x in prems_in_outg_i_from_end_events]\n",
    "\n",
    "expect_no_events = [x for x in prems_in_outg_i_from_DOVS\n",
    "                    if x not in prems_in_outg_i_from_end_events]  \n",
    "\n",
    "print(len(set(prems_in_outg_i_from_end_events).difference(set(prems_in_outg_i_from_DOVS))))"
   ]
  },
  {
   "cell_type": "code",
   "execution_count": null,
   "id": "3ae846f7",
   "metadata": {},
   "outputs": [],
   "source": [
    "# Should be True\n",
    "all_expected_found = all([x in prem_nbs_with_end_events for x in expect_with_events])\n",
    "\n",
    "# Should be False\n",
    "# REASON NOT FALSE: Likely because prem_nbs_with_end_events are only granularized to the date, not datetime\n",
    "#                   Previously, when I was using AMIEndEvents.get_end_event_distinct_fields, this was due to the fact\n",
    "#                     that are_datetime=False by default\n",
    "#                   Currently, due to the fact that I am using get_SNs_with_end_events_from_local_files, which is daily\n",
    "#                     by design.\n",
    "any_unexpected_found = any([x in prem_nbs_with_end_events for x in expect_no_events])"
   ]
  },
  {
   "cell_type": "code",
   "execution_count": null,
   "id": "058b8fcc",
   "metadata": {},
   "outputs": [],
   "source": [
    "print(all_expected_found)\n",
    "print(any_unexpected_found)"
   ]
  },
  {
   "cell_type": "code",
   "execution_count": null,
   "id": "2b0981e5",
   "metadata": {},
   "outputs": [],
   "source": [
    "expect_no_events"
   ]
  },
  {
   "cell_type": "code",
   "execution_count": null,
   "id": "6d154d51",
   "metadata": {
    "scrolled": true
   },
   "outputs": [],
   "source": [
    "[x for x in expect_no_events if x in prem_nbs_with_end_events]"
   ]
  },
  {
   "cell_type": "code",
   "execution_count": null,
   "id": "833d6ba1",
   "metadata": {},
   "outputs": [],
   "source": []
  },
  {
   "cell_type": "code",
   "execution_count": null,
   "id": "5e578676",
   "metadata": {},
   "outputs": [],
   "source": [
    "expect_with_events_2 = [x for x in SNs_in_outgs.loc[outg_rec_nb_i]['premise_nbs'] \n",
    "                        if x in mecpo_dict_01_30_1['full'].cpo_dfs['rcpo_df_OG'].loc[outg_rec_nb_i][('counts', '_prem_nbs')]]\n",
    "\n",
    "expect_no_events_2 = [x for x in SNs_in_outgs.loc[outg_rec_nb_i]['premise_nbs'] \n",
    "                      if x not in mecpo_dict_01_30_1['full'].cpo_dfs['rcpo_df_OG'].loc[outg_rec_nb_i][('counts', '_prem_nbs')]]"
   ]
  },
  {
   "cell_type": "code",
   "execution_count": null,
   "id": "307bfb74",
   "metadata": {},
   "outputs": [],
   "source": [
    "print(len(expect_with_events))\n",
    "print(len(expect_with_events_2))"
   ]
  },
  {
   "cell_type": "code",
   "execution_count": null,
   "id": "219c2e31",
   "metadata": {},
   "outputs": [],
   "source": [
    "print(len(expect_no_events))\n",
    "print(len(expect_no_events_2))"
   ]
  },
  {
   "cell_type": "code",
   "execution_count": null,
   "id": "e4cb28d3",
   "metadata": {},
   "outputs": [],
   "source": [
    "ME = AMIEndEvents(\n",
    "    df_construct_type=DFConstructType.kRunSqlQuery, \n",
    "    contstruct_df_args=None, \n",
    "    init_df_in_constructor=True,\n",
    "    build_sql_function_kwargs = dict(\n",
    "        cols_of_interest=TableInfos.AMIEndEvents_TI.std_columns_of_interest, \n",
    "        premise_nbs = expect_no_events, \n",
    "        datetime_range=[t_min, t_max], \n",
    "        #datetime_pattern = r\"([0-9]{4}-[0-9]{2}-[0-9]{2})T([0-9]{2}:[0-9]{2}:[0-9]{2}).*\"\n",
    "    )\n",
    ")"
   ]
  },
  {
   "cell_type": "code",
   "execution_count": null,
   "id": "5725983d",
   "metadata": {},
   "outputs": [],
   "source": [
    "[x for x in expect_no_events if x in prem_nbs_with_end_events]"
   ]
  },
  {
   "cell_type": "code",
   "execution_count": null,
   "id": "680bb547",
   "metadata": {},
   "outputs": [],
   "source": []
  },
  {
   "cell_type": "code",
   "execution_count": null,
   "id": "42f4ae62",
   "metadata": {},
   "outputs": [],
   "source": [
    "ME.df['aep_premise_nb'].nunique()"
   ]
  },
  {
   "cell_type": "code",
   "execution_count": null,
   "id": "9b475beb",
   "metadata": {},
   "outputs": [],
   "source": [
    "print(f't_min = {t_min}')\n",
    "print(f't_max = {t_max}')"
   ]
  },
  {
   "cell_type": "code",
   "execution_count": null,
   "id": "ba51b5a4",
   "metadata": {},
   "outputs": [],
   "source": [
    "ME.df['valuesinterval'].min()"
   ]
  },
  {
   "cell_type": "code",
   "execution_count": null,
   "id": "20240478",
   "metadata": {},
   "outputs": [],
   "source": [
    "ME.df['valuesinterval'].max()"
   ]
  },
  {
   "cell_type": "code",
   "execution_count": null,
   "id": "9bdffdc3",
   "metadata": {},
   "outputs": [],
   "source": []
  },
  {
   "cell_type": "code",
   "execution_count": null,
   "id": "0a9390fd",
   "metadata": {},
   "outputs": [],
   "source": [
    "[x for x in expect_no_events if x in ME.df['aep_premise_nb'].tolist()]"
   ]
  },
  {
   "cell_type": "code",
   "execution_count": null,
   "id": "52e2de82",
   "metadata": {},
   "outputs": [],
   "source": [
    "[x for x in expect_no_events if x in mecpo_dict_01_30_1['full'].cpo_dfs['rcpo_df_OG'].loc[outg_rec_nb_i][('counts', '_prem_nbs')]]"
   ]
  },
  {
   "cell_type": "code",
   "execution_count": null,
   "id": "efa61e50",
   "metadata": {},
   "outputs": [],
   "source": [
    "ME.df[ME.df['aep_premise_nb'].isin(expect_no_events)]"
   ]
  },
  {
   "cell_type": "code",
   "execution_count": null,
   "id": "220f65ba",
   "metadata": {},
   "outputs": [],
   "source": [
    "#FUCK\n",
    "tmp_df = mecpo_dict_01_30_1['full'].cpo_dfs['rcpo_df_OG'].copy()"
   ]
  },
  {
   "cell_type": "code",
   "execution_count": null,
   "id": "75f97227",
   "metadata": {},
   "outputs": [],
   "source": [
    "tmp_lst = Utilities_df.consolidate_column_of_lists(df=tmp_df, col=('counts', '_prem_nbs'), sort=True, include_None=False)"
   ]
  },
  {
   "cell_type": "code",
   "execution_count": null,
   "id": "a810f6d7",
   "metadata": {},
   "outputs": [],
   "source": [
    "tmp_lst"
   ]
  },
  {
   "cell_type": "code",
   "execution_count": null,
   "id": "b78ec6ec",
   "metadata": {},
   "outputs": [],
   "source": [
    "'076879016' in tmp_lst"
   ]
  },
  {
   "cell_type": "code",
   "execution_count": null,
   "id": "7dddf844",
   "metadata": {},
   "outputs": [],
   "source": []
  },
  {
   "cell_type": "code",
   "execution_count": null,
   "id": "dc27b82f",
   "metadata": {},
   "outputs": [],
   "source": [
    "expect_no_events[0] in no_outg_time_infos_df.index"
   ]
  },
  {
   "cell_type": "code",
   "execution_count": null,
   "id": "ea73aac0",
   "metadata": {},
   "outputs": [],
   "source": [
    "print(f't_min = {t_min}')\n",
    "print(f't_max = {t_max}')"
   ]
  },
  {
   "cell_type": "code",
   "execution_count": null,
   "id": "b56056aa",
   "metadata": {},
   "outputs": [],
   "source": [
    "no_outg_time_infos_df.loc[expect_no_events]['summary_path'].unique()"
   ]
  },
  {
   "cell_type": "code",
   "execution_count": null,
   "id": "dfd1ec8a",
   "metadata": {},
   "outputs": [],
   "source": [
    "# print(\"WITH MP AS (\\n\\tSELECT\\n\\t\\tmfr_devc_ser_nbr,\\n\\t\\tlongitude,\\n\\t\\tlatitude,\\n\\t\\tstate_cd,\\n\\t\\tprem_nb,\\n\\t\\tsrvc_pole_nb,\\n\\t\\ttrsf_pole_nb,\\n\\t\\tlatitude_nb,\\n\\t\\tlongitude_nb,\\n\\t\\tcircuit_nb,\\n\\t\\tcircuit_nm,\\n\\t\\tstation_nb,\\n\\t\\tstation_nm,\\n\\t\\txfmr_nb,\\n\\t\\tannual_kwh,\\n\\t\\tannual_max_dmnd,\\n\\t\\tmtr_stat_cd,\\n\\t\\tmtr_stat_cd_desc,\\n\\t\\tdevc_stat_cd,\\n\\t\\tdevc_stat_cd_desc\\n\\tFROM default.meter_premise\\n\\tWHERE state_cd = 'OH'\\n), \\nUSG_gnrl AS (\\n\\tSELECT\\n\\t\\tun_rin.issuertracking_id,\\n\\t\\tun_rin.serialnumber,\\n\\t\\tun_rin.enddeviceeventtypeid,\\n\\t\\tun_rin.valuesinterval,\\n\\t\\tun_rin.aep_premise_nb,\\n\\t\\tun_rin.reason,\\n\\t\\tun_rin.event_type,\\n\\t\\tun_rin.aep_opco,\\n\\t\\tun_rin.aep_event_dt,\\n\\t\\tMP.*\\n\\tFROM meter_events.end_device_event un_rin\\n\\t\\tINNER JOIN MP ON un_rin.serialnumber=MP.mfr_devc_ser_nbr\\n\\tWHERE un_rin.aep_opco = 'oh'\\n\\tAND   (\\n\\t\\tun_rin.aep_event_dt BETWEEN '2018-03-24' AND '2018-05-23'\\n\\t)\\n), \\nUSG_0 AS (\\n\\tSELECT\\n\\t\\tun_rin.*,\\n\\t\\t'10413189' AS OUTG_REC_NB_GPD_FOR_SQL\\n\\tFROM USG_gnrl un_rin\\n\\tWHERE un_rin.aep_event_dt BETWEEN '2018-03-24' AND '2018-05-23'\\n\\tAND   CAST(regexp_replace(un_rin.valuesinterval, '(\\\\\\\\d{4}-\\\\\\\\d{2}-\\\\\\\\d{2})T(\\\\\\\\d{2}:\\\\\\\\d{2}:\\\\\\\\d{2}).*', '$1 $2') AS TIMESTAMP) BETWEEN '2018-03-24 11:20:00' AND '2018-05-23 15:46:00'\\n\\tAND   un_rin.aep_premise_nb IN ('071015994','071368586','071678586','072958586','073928586','074468586','074838586','074929665','075068586','075128586','075438586','070148586','070828586','073006763','073210519','073558586','075659294','075748586','076038586','076658586','076968586','077083059','077258586','077938586','078099338','078538586','078123652','078168586','078228586','078848586','079070098','079078586','079400346','079645451','079758586')\\n), \\nUSG_1 AS (\\n\\tSELECT\\n\\t\\tun_rin.*,\\n\\t\\t'10413219' AS OUTG_REC_NB_GPD_FOR_SQL\\n\\tFROM USG_gnrl un_rin\\n\\tWHERE un_rin.aep_event_dt BETWEEN '2018-03-24' AND '2018-05-23'\\n\\tAND   CAST(regexp_replace(un_rin.valuesinterval, '(\\\\\\\\d{4}-\\\\\\\\d{2}-\\\\\\\\d{2})T(\\\\\\\\d{2}:\\\\\\\\d{2}:\\\\\\\\d{2}).*', '$1 $2') AS TIMESTAMP) BETWEEN '2018-03-24 11:25:00' AND '2018-05-23 16:00:00'\\n\\tAND   un_rin.aep_premise_nb IN ('070831249','071655307','074755307','077855307')\\n), \\nUSG_2 AS (\\n\\tSELECT\\n\\t\\tun_rin.*,\\n\\t\\t'10413222' AS OUTG_REC_NB_GPD_FOR_SQL\\n\\tFROM USG_gnrl un_rin\\n\\tWHERE un_rin.aep_event_dt BETWEEN '2018-03-24' AND '2018-05-23'\\n\\tAND   CAST(regexp_replace(un_rin.valuesinterval, '(\\\\\\\\d{4}-\\\\\\\\d{2}-\\\\\\\\d{2})T(\\\\\\\\d{2}:\\\\\\\\d{2}:\\\\\\\\d{2}).*', '$1 $2') AS TIMESTAMP) BETWEEN '2018-03-24 14:00:00' AND '2018-05-23 15:55:00'\\n\\tAND   un_rin.aep_premise_nb IN ('078985144','079989129','070689129','078399129')\\n), \\nUSG_3 AS (\\n\\tSELECT\\n\\t\\tun_rin.*,\\n\\t\\t'10413248' AS OUTG_REC_NB_GPD_FOR_SQL\\n\\tFROM USG_gnrl un_rin\\n\\tWHERE un_rin.aep_event_dt BETWEEN '2018-03-24' AND '2018-05-23'\\n\\tAND   CAST(regexp_replace(un_rin.valuesinterval, '(\\\\\\\\d{4}-\\\\\\\\d{2}-\\\\\\\\d{2})T(\\\\\\\\d{2}:\\\\\\\\d{2}:\\\\\\\\d{2}).*', '$1 $2') AS TIMESTAMP) BETWEEN '2018-03-24 13:03:00' AND '2018-05-23 16:00:00'\\n\\tAND   un_rin.aep_premise_nb IN ('100157640','100373202','100108713','103257741','100465443','100527573','100679090','100951631','101065443','101127573','101171546','101539130','104227573','101969000','101991907','102118028','102569000','102717573','102833531','102849220','102879000','102965443','103627573','103668522','104079000','105669000','104304391','104912790','105565939','105817573','105861511','105877580','105949220','105979000','106140599','106417573','106461560','106579000','106665443','106746523','107017573','107153159','107179000','107239318','107265443','108018992','107327573','107811138','107992888','108106919','108175443','108263480','108369011','108473709','108512418','108769000','108792857','108837035','108917573','109217135','109369000','109679000','109929130','109765443','109827573','109837226')\\n), \\nUSG_4 AS (\\n\\tSELECT\\n\\t\\tun_rin.*,\\n\\t\\t'10413295' AS OUTG_REC_NB_GPD_FOR_SQL\\n\\tFROM USG_gnrl un_rin\\n\\tWHERE un_rin.aep_event_dt BETWEEN '2018-03-24' AND '2018-05-23'\\n\\tAND   CAST(regexp_replace(un_rin.valuesinterval, '(\\\\\\\\d{4}-\\\\\\\\d{2}-\\\\\\\\d{2})T(\\\\\\\\d{2}:\\\\\\\\d{2}:\\\\\\\\d{2}).*', '$1 $2') AS TIMESTAMP) BETWEEN '2018-03-24 12:54:00' AND '2018-05-23 16:16:00'\\n\\tAND   un_rin.aep_premise_nb IN ('102313930','102548237','103664597','105933146','108061371')\\n), \\nUSG_5 AS (\\n\\tSELECT\\n\\t\\tun_rin.*,\\n\\t\\t'10413348' AS OUTG_REC_NB_GPD_FOR_SQL\\n\\tFROM USG_gnrl un_rin\\n\\tWHERE un_rin.aep_event_dt BETWEEN '2018-03-24' AND '2018-05-23'\\n\\tAND   CAST(regexp_replace(un_rin.valuesinterval, '(\\\\\\\\d{4}-\\\\\\\\d{2}-\\\\\\\\d{2})T(\\\\\\\\d{2}:\\\\\\\\d{2}:\\\\\\\\d{2}).*', '$1 $2') AS TIMESTAMP) BETWEEN '2018-03-24 14:15:00' AND '2018-05-23 16:30:00'\\n\\tAND   un_rin.aep_premise_nb IN ('076081931','079320700')\\n), \\nUSG_6 AS (\\n\\tSELECT\\n\\t\\tun_rin.*,\\n\\t\\t'10413354' AS OUTG_REC_NB_GPD_FOR_SQL\\n\\tFROM USG_gnrl un_rin\\n\\tWHERE un_rin.aep_event_dt BETWEEN '2018-03-24' AND '2018-05-23'\\n\\tAND   CAST(regexp_replace(un_rin.valuesinterval, '(\\\\\\\\d{4}-\\\\\\\\d{2}-\\\\\\\\d{2})T(\\\\\\\\d{2}:\\\\\\\\d{2}:\\\\\\\\d{2}).*', '$1 $2') AS TIMESTAMP) BETWEEN '2018-03-24 15:33:00' AND '2018-05-23 16:55:00'\\n\\tAND   un_rin.aep_premise_nb IN ('076585374','078068327','073845230','074368327')\\n), \\nUSG_7 AS (\\n\\tSELECT\\n\\t\\tun_rin.*,\\n\\t\\t'10413357' AS OUTG_REC_NB_GPD_FOR_SQL\\n\\tFROM USG_gnrl un_rin\\n\\tWHERE un_rin.aep_event_dt BETWEEN '2018-03-24' AND '2018-05-23'\\n\\tAND   CAST(regexp_replace(un_rin.valuesinterval, '(\\\\\\\\d{4}-\\\\\\\\d{2}-\\\\\\\\d{2})T(\\\\\\\\d{2}:\\\\\\\\d{2}:\\\\\\\\d{2}).*', '$1 $2') AS TIMESTAMP) BETWEEN '2018-03-24 14:39:00' AND '2018-05-23 16:22:00'\\n\\tAND   un_rin.aep_premise_nb IN ('077851675','077898575','077909375','077911675','077958575','077975900','077989575','078029575','078050675','070009575','078110675','078139375','078141675','078188575','078201675','078279575','078298375','078339575','078360675','078391675','078409147','078420675','078449375','078451675','078498575','071870675','073471675','073500675','073529375','073531675','073578575','073622675','073669575','073688375','073690675','073729575','073750675','073781675','073810675','073839375','073841675','073888575','073901675','073948575','073998375','074019575','074029147','074040675','074069375','074071675','072509575','072519147','072530675','072559375','072561675','072619375','072621675','072668575','072685900','072699575','072712675','072759575','072778375','072780675','072819575','072840675','071909575','071930675','071959375','071961675','072001675','072032675','072079575','072098375','072139575','072160675','072191675','072249375','072251675','070569575','070588375','070590675','070629575','070650675','070681675','070710675','070739375','070788575','070801675','070848575','070898375','070939575','070960675','074902675','074949575','074968375','074970675','075008068','075010675','075039375','075041675','075088575','075101675','075136225','075179575','075198375','072298575','072309375','072311675','072358575','072375900','072389575','072402675','072449575','072470675','073469375','075239575','075291675','075309147','075320675','075349375','075351675','073002675','073049575','073070675','073074184','073109575','073119147','073130675','073159375','073161675','073219375','073221675','073268575','073285900','073299575','073312675','073359575','073378375','073380675','073419575','073440675','076678575','076722675','076769575','076788375','076790675','076829575','076850675','076879016','076881675','076892789','076910675','076939375','076941675','076988575','077012675','077059575','077078375','077119575','077129147','077140675','077169375','077171675','075880675','075919575','075940675','076058575','076149575','076170675','076209575','076219147','076230675','076259375','076261675','076319375','076321675','076368575','076385900','076399575','076412675','076459575','076478375','076480675','076519575','076540675','076561059','076571675','076600675','070991675','071000675','071029375','071031675','075398575','075409375','075411675','075458575','075475900','075489575','075502675','075549575','075570675','075574935','075609575','075619147','075630675','075659375','075661675','075719375','075721675','075768575','075785900','075812675','075859575','075878375','075971675','076009375','076011675','074598375','074639575','074660675','074691675','074709147','074720675','071341675','071388575','071401675','071479575','071498375','071539575','071560675','071591675','071609147','071620675','071649375','071651675','071698575','071709375','079559575','079580675','079619575','079640675','079671675','079700675','079729375','079731675','079778575','079822675','079847764','072209147','074100675','074129375','074131675','074178575','074195900','074222675','074259259','074269575','074288375','074290675','074329575','074350675','074381675','074439375','074441675','074488575','074501675','074548575','074579575','072871675','072900675','072929375','074749375','074751675','074809375','074811675','074858575','074875900','074889575','079512675','079516407','079523013','071169575','071188375','071190675','071229575','071250675','071281675','071310675','071339375','079869575','079888375','079890675','079929575','079950675','079981675','071711675','071758575','071771462','071775900','071789575','071802675','071849575','070119375','070121675','070185900','070199575','070212675','070259575','070278375','070280675','070319575','070340675','070371675','070400675','070429375','070431675','071078575','071095900','071122675','079109375','079111675','079158575','079189575','079202675','079238697','079249575','079270675','079309575','079319147','079330675','079359375','079361675','079419375','079421675','079468575','079485900','079499575','078509375','078511675','078558575','078575900','078589575','078602675','078649575','070019147','070030675','070059375','070061675','072940036','072978575','070445659','070478575','070495900','070522675','078670675','078709575','078719147','078730675','078759375','078761675','078819375','078821675','078868575','078885900','078899575','078912675','078959575','078978375','078980675','079011469','079020675','079049375','079051675','079098575','079100530','077739575','077760675','077791675','077809147','077820675','077849375','077200675','077229375','077231675','077278575','077295900','077299488','077322675','077369575','077388375','077390675','077429575','077450675','077481675','077510675','077539375','077541675','077588575','077601675','077648575','077685702','077698375','076629375','076631675')\\n), \\nUSG_8 AS (\\n\\tSELECT\\n\\t\\tun_rin.*,\\n\\t\\t'10413371' AS OUTG_REC_NB_GPD_FOR_SQL\\n\\tFROM USG_gnrl un_rin\\n\\tWHERE un_rin.aep_event_dt BETWEEN '2018-03-24' AND '2018-05-23'\\n\\tAND   CAST(regexp_replace(un_rin.valuesinterval, '(\\\\\\\\d{4}-\\\\\\\\d{2}-\\\\\\\\d{2})T(\\\\\\\\d{2}:\\\\\\\\d{2}:\\\\\\\\d{2}).*', '$1 $2') AS TIMESTAMP) BETWEEN '2018-03-24 14:00:00' AND '2018-05-23 16:10:00'\\n\\tAND   un_rin.aep_premise_nb = '070478794'\\n), \\nUSG_9 AS (\\n\\tSELECT\\n\\t\\tun_rin.*,\\n\\t\\t'10413393' AS OUTG_REC_NB_GPD_FOR_SQL\\n\\tFROM USG_gnrl un_rin\\n\\tWHERE un_rin.aep_event_dt BETWEEN '2018-03-24' AND '2018-05-23'\\n\\tAND   CAST(regexp_replace(un_rin.valuesinterval, '(\\\\\\\\d{4}-\\\\\\\\d{2}-\\\\\\\\d{2})T(\\\\\\\\d{2}:\\\\\\\\d{2}:\\\\\\\\d{2}).*', '$1 $2') AS TIMESTAMP) BETWEEN '2018-03-24 08:45:00' AND '2018-05-23 11:00:00'\\n\\tAND   un_rin.aep_premise_nb = '102474441'\\n)\\n\\nSELECT * FROM USG_0\\nUNION\\nSELECT * FROM USG_1\\nUNION\\nSELECT * FROM USG_2\\nUNION\\nSELECT * FROM USG_3\\nUNION\\nSELECT * FROM USG_4\\nUNION\\nSELECT * FROM USG_5\\nUNION\\nSELECT * FROM USG_6\\nUNION\\nSELECT * FROM USG_7\\nUNION\\nSELECT * FROM USG_8\\nUNION\\nSELECT * FROM USG_9\",)"
   ]
  },
  {
   "cell_type": "code",
   "execution_count": null,
   "id": "c6cd6a48",
   "metadata": {},
   "outputs": [],
   "source": [
    "tmp_sql = \"\"\"\n",
    "WITH MP AS (\n",
    "\tSELECT\n",
    "\t\tmfr_devc_ser_nbr,\n",
    "\t\tlongitude,\n",
    "\t\tlatitude,\n",
    "\t\tstate_cd,\n",
    "\t\tprem_nb,\n",
    "\t\tsrvc_pole_nb,\n",
    "\t\ttrsf_pole_nb,\n",
    "\t\tlatitude_nb,\n",
    "\t\tlongitude_nb,\n",
    "\t\tcircuit_nb,\n",
    "\t\tcircuit_nm,\n",
    "\t\tstation_nb,\n",
    "\t\tstation_nm,\n",
    "\t\txfmr_nb,\n",
    "\t\tannual_kwh,\n",
    "\t\tannual_max_dmnd,\n",
    "\t\tmtr_stat_cd,\n",
    "\t\tmtr_stat_cd_desc,\n",
    "\t\tdevc_stat_cd,\n",
    "\t\tdevc_stat_cd_desc\n",
    "\tFROM default.meter_premise\n",
    "\tWHERE state_cd = 'OH'\n",
    "), \n",
    "USG_gnrl AS (\n",
    "\tSELECT\n",
    "\t\tun_rin.issuertracking_id,\n",
    "\t\tun_rin.serialnumber,\n",
    "\t\tun_rin.enddeviceeventtypeid,\n",
    "\t\tun_rin.valuesinterval,\n",
    "\t\tun_rin.aep_premise_nb,\n",
    "\t\tun_rin.reason,\n",
    "\t\tun_rin.event_type,\n",
    "\t\tun_rin.aep_opco,\n",
    "\t\tun_rin.aep_event_dt,\n",
    "\t\tMP.*\n",
    "\tFROM meter_events.end_device_event un_rin\n",
    "\t\tLEFT JOIN MP ON un_rin.serialnumber=MP.mfr_devc_ser_nbr\n",
    "\tWHERE un_rin.aep_opco = 'oh'\n",
    "\tAND   (\n",
    "\t\tun_rin.aep_event_dt BETWEEN '2018-03-24' AND '2018-05-23'\n",
    "\t)\n",
    "), \n",
    "USG_0 AS (\n",
    "\tSELECT\n",
    "\t\tun_rin.*,\n",
    "\t\t'10413189' AS OUTG_REC_NB_GPD_FOR_SQL\n",
    "\tFROM USG_gnrl un_rin\n",
    "\tWHERE un_rin.aep_event_dt BETWEEN '2018-03-24' AND '2018-05-23'\n",
    "\tAND   CAST(regexp_replace(un_rin.valuesinterval, '([0-9]{4}-[0-9]{2}-[0-9]{2})T([0-9]{2}:[0-9]{2}:[0-9]{2}).*', '$1 $2') AS TIMESTAMP) BETWEEN TIMESTAMP '2018-03-24 11:20:00' AND TIMESTAMP '2018-05-23 15:46:00'\n",
    "\tAND   un_rin.aep_premise_nb IN ('071015994','071368586','071678586','072958586','073928586','074468586','074838586','074929665','075068586','075128586','075438586','070148586','070828586','073006763','073210519','073558586','075659294','075748586','076038586','076658586','076968586','077083059','077258586','077938586','078099338','078538586','078123652','078168586','078228586','078848586','079070098','079078586','079400346','079645451','079758586')\n",
    "), \n",
    "USG_1 AS (\n",
    "\tSELECT\n",
    "\t\tun_rin.*,\n",
    "\t\t'10413219' AS OUTG_REC_NB_GPD_FOR_SQL\n",
    "\tFROM USG_gnrl un_rin\n",
    "\tWHERE un_rin.aep_event_dt BETWEEN '2018-03-24' AND '2018-05-23'\n",
    "\tAND   CAST(regexp_replace(un_rin.valuesinterval, '([0-9]{4}-[0-9]{2}-[0-9]{2})T([0-9]{2}:[0-9]{2}:[0-9]{2}).*', '$1 $2') AS TIMESTAMP) BETWEEN TIMESTAMP '2018-03-24 11:25:00' AND TIMESTAMP '2018-05-23 16:00:00'\n",
    "\tAND   un_rin.aep_premise_nb IN ('070831249','071655307','074755307','077855307')\n",
    "), \n",
    "USG_2 AS (\n",
    "\tSELECT\n",
    "\t\tun_rin.*,\n",
    "\t\t'10413222' AS OUTG_REC_NB_GPD_FOR_SQL\n",
    "\tFROM USG_gnrl un_rin\n",
    "\tWHERE un_rin.aep_event_dt BETWEEN '2018-03-24' AND '2018-05-23'\n",
    "\tAND   CAST(regexp_replace(un_rin.valuesinterval, '([0-9]{4}-[0-9]{2}-[0-9]{2})T([0-9]{2}:[0-9]{2}:[0-9]{2}).*', '$1 $2') AS TIMESTAMP) BETWEEN TIMESTAMP '2018-03-24 14:00:00' AND TIMESTAMP '2018-05-23 15:55:00'\n",
    "\tAND   un_rin.aep_premise_nb IN ('078985144','079989129','070689129','078399129')\n",
    "), \n",
    "USG_3 AS (\n",
    "\tSELECT\n",
    "\t\tun_rin.*,\n",
    "\t\t'10413248' AS OUTG_REC_NB_GPD_FOR_SQL\n",
    "\tFROM USG_gnrl un_rin\n",
    "\tWHERE un_rin.aep_event_dt BETWEEN '2018-03-24' AND '2018-05-23'\n",
    "\tAND   CAST(regexp_replace(un_rin.valuesinterval, '([0-9]{4}-[0-9]{2}-[0-9]{2})T([0-9]{2}:[0-9]{2}:[0-9]{2}).*', '$1 $2') AS TIMESTAMP) BETWEEN TIMESTAMP '2018-03-24 13:03:00' AND TIMESTAMP '2018-05-23 16:00:00'\n",
    "\tAND   un_rin.aep_premise_nb IN ('100157640','100373202','100108713','103257741','100465443','100527573','100679090','100951631','101065443','101127573','101171546','101539130','104227573','101969000','101991907','102118028','102569000','102717573','102833531','102849220','102879000','102965443','103627573','103668522','104079000','105669000','104304391','104912790','105565939','105817573','105861511','105877580','105949220','105979000','106140599','106417573','106461560','106579000','106665443','106746523','107017573','107153159','107179000','107239318','107265443','108018992','107327573','107811138','107992888','108106919','108175443','108263480','108369011','108473709','108512418','108769000','108792857','108837035','108917573','109217135','109369000','109679000','109929130','109765443','109827573','109837226')\n",
    "), \n",
    "USG_4 AS (\n",
    "\tSELECT\n",
    "\t\tun_rin.*,\n",
    "\t\t'10413295' AS OUTG_REC_NB_GPD_FOR_SQL\n",
    "\tFROM USG_gnrl un_rin\n",
    "\tWHERE un_rin.aep_event_dt BETWEEN '2018-03-24' AND '2018-05-23'\n",
    "\tAND   CAST(regexp_replace(un_rin.valuesinterval, '([0-9]{4}-[0-9]{2}-[0-9]{2})T([0-9]{2}:[0-9]{2}:[0-9]{2}).*', '$1 $2') AS TIMESTAMP) BETWEEN TIMESTAMP '2018-03-24 12:54:00' AND TIMESTAMP '2018-05-23 16:16:00'\n",
    "\tAND   un_rin.aep_premise_nb IN ('102313930','102548237','103664597','105933146','108061371')\n",
    "), \n",
    "USG_5 AS (\n",
    "\tSELECT\n",
    "\t\tun_rin.*,\n",
    "\t\t'10413348' AS OUTG_REC_NB_GPD_FOR_SQL\n",
    "\tFROM USG_gnrl un_rin\n",
    "\tWHERE un_rin.aep_event_dt BETWEEN '2018-03-24' AND '2018-05-23'\n",
    "\tAND   CAST(regexp_replace(un_rin.valuesinterval, '([0-9]{4}-[0-9]{2}-[0-9]{2})T([0-9]{2}:[0-9]{2}:[0-9]{2}).*', '$1 $2') AS TIMESTAMP) BETWEEN TIMESTAMP '2018-03-24 14:15:00' AND TIMESTAMP '2018-05-23 16:30:00'\n",
    "\tAND   un_rin.aep_premise_nb IN ('076081931','079320700')\n",
    "), \n",
    "USG_6 AS (\n",
    "\tSELECT\n",
    "\t\tun_rin.*,\n",
    "\t\t'10413354' AS OUTG_REC_NB_GPD_FOR_SQL\n",
    "\tFROM USG_gnrl un_rin\n",
    "\tWHERE un_rin.aep_event_dt BETWEEN '2018-03-24' AND '2018-05-23'\n",
    "\tAND   CAST(regexp_replace(un_rin.valuesinterval, '([0-9]{4}-[0-9]{2}-[0-9]{2})T([0-9]{2}:[0-9]{2}:[0-9]{2}).*', '$1 $2') AS TIMESTAMP) BETWEEN TIMESTAMP '2018-03-24 15:33:00' AND TIMESTAMP '2018-05-23 16:55:00'\n",
    "\tAND   un_rin.aep_premise_nb IN ('076585374','078068327','073845230','074368327')\n",
    "), \n",
    "USG_7 AS (\n",
    "\tSELECT\n",
    "\t\tun_rin.*,\n",
    "\t\t'10413357' AS OUTG_REC_NB_GPD_FOR_SQL\n",
    "\tFROM USG_gnrl un_rin\n",
    "\tWHERE un_rin.aep_event_dt BETWEEN '2018-03-24' AND '2018-05-23'\n",
    "\tAND   CAST(regexp_replace(un_rin.valuesinterval, '([0-9]{4}-[0-9]{2}-[0-9]{2})T([0-9]{2}:[0-9]{2}:[0-9]{2}).*', '$1 $2') AS TIMESTAMP) BETWEEN TIMESTAMP '2018-03-24 14:39:00' AND TIMESTAMP '2018-05-23 16:22:00'\n",
    "\tAND   un_rin.aep_premise_nb IN ('077851675','077898575','077909375','077911675','077958575','077975900','077989575','078029575','078050675','070009575','078110675','078139375','078141675','078188575','078201675','078279575','078298375','078339575','078360675','078391675','078409147','078420675','078449375','078451675','078498575','071870675','073471675','073500675','073529375','073531675','073578575','073622675','073669575','073688375','073690675','073729575','073750675','073781675','073810675','073839375','073841675','073888575','073901675','073948575','073998375','074019575','074029147','074040675','074069375','074071675','072509575','072519147','072530675','072559375','072561675','072619375','072621675','072668575','072685900','072699575','072712675','072759575','072778375','072780675','072819575','072840675','071909575','071930675','071959375','071961675','072001675','072032675','072079575','072098375','072139575','072160675','072191675','072249375','072251675','070569575','070588375','070590675','070629575','070650675','070681675','070710675','070739375','070788575','070801675','070848575','070898375','070939575','070960675','074902675','074949575','074968375','074970675','075008068','075010675','075039375','075041675','075088575','075101675','075136225','075179575','075198375','072298575','072309375','072311675','072358575','072375900','072389575','072402675','072449575','072470675','073469375','075239575','075291675','075309147','075320675','075349375','075351675','073002675','073049575','073070675','073074184','073109575','073119147','073130675','073159375','073161675','073219375','073221675','073268575','073285900','073299575','073312675','073359575','073378375','073380675','073419575','073440675','076678575','076722675','076769575','076788375','076790675','076829575','076850675','076879016','076881675','076892789','076910675','076939375','076941675','076988575','077012675','077059575','077078375','077119575','077129147','077140675','077169375','077171675','075880675','075919575','075940675','076058575','076149575','076170675','076209575','076219147','076230675','076259375','076261675','076319375','076321675','076368575','076385900','076399575','076412675','076459575','076478375','076480675','076519575','076540675','076561059','076571675','076600675','070991675','071000675','071029375','071031675','075398575','075409375','075411675','075458575','075475900','075489575','075502675','075549575','075570675','075574935','075609575','075619147','075630675','075659375','075661675','075719375','075721675','075768575','075785900','075812675','075859575','075878375','075971675','076009375','076011675','074598375','074639575','074660675','074691675','074709147','074720675','071341675','071388575','071401675','071479575','071498375','071539575','071560675','071591675','071609147','071620675','071649375','071651675','071698575','071709375','079559575','079580675','079619575','079640675','079671675','079700675','079729375','079731675','079778575','079822675','079847764','072209147','074100675','074129375','074131675','074178575','074195900','074222675','074259259','074269575','074288375','074290675','074329575','074350675','074381675','074439375','074441675','074488575','074501675','074548575','074579575','072871675','072900675','072929375','074749375','074751675','074809375','074811675','074858575','074875900','074889575','079512675','079516407','079523013','071169575','071188375','071190675','071229575','071250675','071281675','071310675','071339375','079869575','079888375','079890675','079929575','079950675','079981675','071711675','071758575','071771462','071775900','071789575','071802675','071849575','070119375','070121675','070185900','070199575','070212675','070259575','070278375','070280675','070319575','070340675','070371675','070400675','070429375','070431675','071078575','071095900','071122675','079109375','079111675','079158575','079189575','079202675','079238697','079249575','079270675','079309575','079319147','079330675','079359375','079361675','079419375','079421675','079468575','079485900','079499575','078509375','078511675','078558575','078575900','078589575','078602675','078649575','070019147','070030675','070059375','070061675','072940036','072978575','070445659','070478575','070495900','070522675','078670675','078709575','078719147','078730675','078759375','078761675','078819375','078821675','078868575','078885900','078899575','078912675','078959575','078978375','078980675','079011469','079020675','079049375','079051675','079098575','079100530','077739575','077760675','077791675','077809147','077820675','077849375','077200675','077229375','077231675','077278575','077295900','077299488','077322675','077369575','077388375','077390675','077429575','077450675','077481675','077510675','077539375','077541675','077588575','077601675','077648575','077685702','077698375','076629375','076631675')\n",
    "), \n",
    "USG_8 AS (\n",
    "\tSELECT\n",
    "\t\tun_rin.*,\n",
    "\t\t'10413371' AS OUTG_REC_NB_GPD_FOR_SQL\n",
    "\tFROM USG_gnrl un_rin\n",
    "\tWHERE un_rin.aep_event_dt BETWEEN '2018-03-24' AND '2018-05-23'\n",
    "\tAND   CAST(regexp_replace(un_rin.valuesinterval, '([0-9]{4}-[0-9]{2}-[0-9]{2})T([0-9]{2}:[0-9]{2}:[0-9]{2}).*', '$1 $2') AS TIMESTAMP) BETWEEN TIMESTAMP '2018-03-24 14:00:00' AND TIMESTAMP '2018-05-23 16:10:00'\n",
    "\tAND   un_rin.aep_premise_nb = '070478794'\n",
    "), \n",
    "USG_9 AS (\n",
    "\tSELECT\n",
    "\t\tun_rin.*,\n",
    "\t\t'10413393' AS OUTG_REC_NB_GPD_FOR_SQL\n",
    "\tFROM USG_gnrl un_rin\n",
    "\tWHERE un_rin.aep_event_dt BETWEEN '2018-03-24' AND '2018-05-23'\n",
    "\tAND   CAST(regexp_replace(un_rin.valuesinterval, '([0-9]{4}-[0-9]{2}-[0-9]{2})T([0-9]{2}:[0-9]{2}:[0-9]{2}).*', '$1 $2') AS TIMESTAMP) BETWEEN TIMESTAMP '2018-03-24 08:45:00' AND TIMESTAMP '2018-05-23 11:00:00'\n",
    "\tAND   un_rin.aep_premise_nb = '102474441'\n",
    ")\n",
    "\n",
    "SELECT * FROM USG_0\n",
    "UNION\n",
    "SELECT * FROM USG_1\n",
    "UNION\n",
    "SELECT * FROM USG_2\n",
    "UNION\n",
    "SELECT * FROM USG_3\n",
    "UNION\n",
    "SELECT * FROM USG_4\n",
    "UNION\n",
    "SELECT * FROM USG_5\n",
    "UNION\n",
    "SELECT * FROM USG_6\n",
    "UNION\n",
    "SELECT * FROM USG_7\n",
    "UNION\n",
    "SELECT * FROM USG_8\n",
    "UNION\n",
    "SELECT * FROM USG_9\n",
    "\"\"\""
   ]
  },
  {
   "cell_type": "code",
   "execution_count": null,
   "id": "abe7035c",
   "metadata": {},
   "outputs": [],
   "source": [
    "end_events_df_i.columns"
   ]
  },
  {
   "cell_type": "code",
   "execution_count": null,
   "id": "356dff15",
   "metadata": {},
   "outputs": [],
   "source": [
    "tmp_df = pd.read_sql(tmp_sql, Utilities.get_athena_prod_aws_connection())"
   ]
  },
  {
   "cell_type": "code",
   "execution_count": null,
   "id": "feddcd08",
   "metadata": {},
   "outputs": [],
   "source": [
    "tmp_df2 = pd.read_csv(r'C:\\Users\\s346557\\Documents\\LocalData\\dovs_and_end_events_data\\EndEvents\\end_events_1007.csv', dtype=str)"
   ]
  },
  {
   "cell_type": "code",
   "execution_count": null,
   "id": "30e3f190",
   "metadata": {},
   "outputs": [],
   "source": [
    "print(tmp_df.shape)\n",
    "print(tmp_df2.shape)"
   ]
  },
  {
   "cell_type": "code",
   "execution_count": null,
   "id": "0f9fff7c",
   "metadata": {},
   "outputs": [],
   "source": [
    "tmp_df[tmp_df['mfr_devc_ser_nbr']=='676517633']"
   ]
  },
  {
   "cell_type": "code",
   "execution_count": null,
   "id": "b14c41c5",
   "metadata": {},
   "outputs": [],
   "source": [
    "tmp_df[tmp_df['serialnumber']=='876683636']"
   ]
  },
  {
   "cell_type": "code",
   "execution_count": null,
   "id": "142881b6",
   "metadata": {},
   "outputs": [],
   "source": [
    "tmp_df2[tmp_df2['serialnumber']=='876683636']"
   ]
  },
  {
   "cell_type": "code",
   "execution_count": null,
   "id": "91baffe8",
   "metadata": {},
   "outputs": [],
   "source": []
  },
  {
   "cell_type": "code",
   "execution_count": null,
   "id": "12a89397",
   "metadata": {},
   "outputs": [],
   "source": [
    "len(set(tmp_df['mfr_devc_ser_nbr'].unique().tolist()).difference(set(tmp_df2['mfr_devc_ser_nbr'].unique().tolist())))"
   ]
  },
  {
   "cell_type": "code",
   "execution_count": null,
   "id": "479853b2",
   "metadata": {},
   "outputs": [],
   "source": [
    "tmp_df['mfr_devc_ser_nbr'].unique().tolist()[0]"
   ]
  },
  {
   "cell_type": "code",
   "execution_count": null,
   "id": "c2383449",
   "metadata": {},
   "outputs": [],
   "source": [
    "tmp_df2['mfr_devc_ser_nbr'].unique().tolist()[0]"
   ]
  },
  {
   "cell_type": "code",
   "execution_count": null,
   "id": "ff1f59b8",
   "metadata": {},
   "outputs": [],
   "source": [
    "diff_SNs = set(tmp_df['mfr_devc_ser_nbr'].unique()).difference(set(tmp_df2['mfr_devc_ser_nbr'].unique()))"
   ]
  },
  {
   "cell_type": "code",
   "execution_count": null,
   "id": "c71bdad5",
   "metadata": {},
   "outputs": [],
   "source": [
    "tmp_df[tmp_df['mfr_devc_ser_nbr'].isin(diff_SNs)]"
   ]
  },
  {
   "cell_type": "code",
   "execution_count": null,
   "id": "139207dd",
   "metadata": {},
   "outputs": [],
   "source": [
    "tmp_df[tmp_df['serialnumber'].isin(set(tmp_df['serialnumber'].unique()).difference(set(tmp_df2['serialnumber'].unique())))][['serialnumber', 'mfr_devc_ser_nbr']]"
   ]
  },
  {
   "cell_type": "code",
   "execution_count": null,
   "id": "84b0feae",
   "metadata": {},
   "outputs": [],
   "source": [
    "ME.get_sql().print()"
   ]
  },
  {
   "cell_type": "code",
   "execution_count": null,
   "id": "4d701f6b",
   "metadata": {},
   "outputs": [],
   "source": []
  },
  {
   "cell_type": "code",
   "execution_count": null,
   "id": "c41c230b",
   "metadata": {},
   "outputs": [],
   "source": [
    "ME = AMIEndEvents(\n",
    "    df_construct_type=DFConstructType.kRunSqlQuery, \n",
    "    contstruct_df_args=None, \n",
    "    init_df_in_constructor=True,\n",
    "    build_sql_function_kwargs = dict(\n",
    "        cols_of_interest=TableInfos.AMIEndEvents_TI.std_columns_of_interest, \n",
    "        premise_nbs = expect_no_events, \n",
    "        date_range=[t_min, t_max+datetime.timedelta(days=30)], \n",
    "        datetime_range=[t_min, t_max+datetime.timedelta(days=30)], \n",
    "        #datetime_pattern = r\"([0-9]{4}-[0-9]{2}-[0-9]{2})T([0-9]{2}:[0-9]{2}:[0-9]{2}).*\"\n",
    "    )\n",
    ")"
   ]
  },
  {
   "cell_type": "code",
   "execution_count": null,
   "id": "26d1fc1b",
   "metadata": {},
   "outputs": [],
   "source": [
    "[x for x in expect_no_events if x in ME.df['aep_premise_nb'].tolist()]"
   ]
  },
  {
   "cell_type": "code",
   "execution_count": null,
   "id": "622460cf",
   "metadata": {},
   "outputs": [],
   "source": [
    "[x for x in expect_no_events if x in tmp_df['aep_premise_nb'].tolist()]"
   ]
  },
  {
   "cell_type": "code",
   "execution_count": null,
   "id": "9f27a602",
   "metadata": {},
   "outputs": [],
   "source": [
    "[x for x in expect_no_events if x in tmp_df2['aep_premise_nb'].tolist()]"
   ]
  },
  {
   "cell_type": "code",
   "execution_count": null,
   "id": "5f63515c",
   "metadata": {},
   "outputs": [],
   "source": []
  },
  {
   "cell_type": "code",
   "execution_count": null,
   "id": "ca651d8b",
   "metadata": {},
   "outputs": [],
   "source": []
  },
  {
   "cell_type": "code",
   "execution_count": null,
   "id": "00e3008a",
   "metadata": {},
   "outputs": [],
   "source": []
  },
  {
   "cell_type": "code",
   "execution_count": null,
   "id": "033f5d58",
   "metadata": {},
   "outputs": [],
   "source": []
  },
  {
   "cell_type": "code",
   "execution_count": null,
   "id": "cf543bf4",
   "metadata": {},
   "outputs": [],
   "source": [
    "prem_nbs_with_end_events_2 = AMIEndEvents.get_end_event_distinct_fields(\n",
    "    date_0=t_min, \n",
    "    date_1=t_max, \n",
    "    fields=['aep_premise_nb'], \n",
    "    are_datetime=True, \n",
    "    addtnl_build_sql_function_kwargs = dict(opco='oh')\n",
    ")"
   ]
  },
  {
   "cell_type": "code",
   "execution_count": null,
   "id": "b503ae39",
   "metadata": {},
   "outputs": [],
   "source": [
    "prem_nbs_with_end_events_2"
   ]
  },
  {
   "cell_type": "code",
   "execution_count": null,
   "id": "6030b697",
   "metadata": {},
   "outputs": [],
   "source": [
    "[x in prem_nbs_with_end_events_2['aep_premise_nb'].tolist() for x in expect_no_events]"
   ]
  },
  {
   "cell_type": "code",
   "execution_count": null,
   "id": "03c05f9a",
   "metadata": {},
   "outputs": [],
   "source": [
    "[x in prem_nbs_with_end_events_2['aep_premise_nb'].tolist() for x in expect_with_events]"
   ]
  },
  {
   "cell_type": "code",
   "execution_count": null,
   "id": "b2ce9889",
   "metadata": {},
   "outputs": [],
   "source": [
    "t_min"
   ]
  },
  {
   "cell_type": "code",
   "execution_count": null,
   "id": "3d77b13c",
   "metadata": {},
   "outputs": [],
   "source": [
    "t_max"
   ]
  },
  {
   "cell_type": "code",
   "execution_count": null,
   "id": "ef644826",
   "metadata": {},
   "outputs": [],
   "source": [
    "ME_2 = AMIEndEvents(\n",
    "    df_construct_type=DFConstructType.kRunSqlQuery, \n",
    "    contstruct_df_args=None, \n",
    "    init_df_in_constructor=True,\n",
    "    build_sql_function_kwargs = dict(\n",
    "        cols_of_interest=TableInfos.AMIEndEvents_TI.std_columns_of_interest, \n",
    "        #premise_nbs = expect_no_events, \n",
    "        datetime_range=[t_min, t_max], \n",
    "        #datetime_pattern = r\"([0-9]{4}-[0-9]{2}-[0-9]{2})T([0-9]{2}:[0-9]{2}:[0-9]{2}).*\"\n",
    "    )\n",
    ")"
   ]
  },
  {
   "cell_type": "code",
   "execution_count": null,
   "id": "47f8f1a3",
   "metadata": {},
   "outputs": [],
   "source": []
  },
  {
   "cell_type": "code",
   "execution_count": null,
   "id": "f93659e5",
   "metadata": {},
   "outputs": [],
   "source": []
  },
  {
   "cell_type": "code",
   "execution_count": null,
   "id": "92a956a5",
   "metadata": {},
   "outputs": [],
   "source": [
    "ME_2.df[ME_2.df['aep_premise_nb'].isin(expect_no_events)]['valuesinterval'].min()"
   ]
  },
  {
   "cell_type": "code",
   "execution_count": null,
   "id": "d8552b35",
   "metadata": {},
   "outputs": [],
   "source": [
    "ME_2.df[ME_2.df['aep_premise_nb'].isin(expect_no_events)]['valuesinterval'].max()"
   ]
  },
  {
   "cell_type": "code",
   "execution_count": null,
   "id": "1e31e8ec",
   "metadata": {},
   "outputs": [],
   "source": [
    "ME_2.get_sql().print()"
   ]
  },
  {
   "cell_type": "code",
   "execution_count": null,
   "id": "fff98b92",
   "metadata": {},
   "outputs": [],
   "source": []
  },
  {
   "cell_type": "code",
   "execution_count": null,
   "id": "24a52df1",
   "metadata": {},
   "outputs": [],
   "source": []
  },
  {
   "cell_type": "code",
   "execution_count": null,
   "id": "f80acaed",
   "metadata": {},
   "outputs": [],
   "source": []
  },
  {
   "cell_type": "code",
   "execution_count": null,
   "id": "5e3d67f2",
   "metadata": {},
   "outputs": [],
   "source": [
    "assert(all_expected_found)\n",
    "assert(not any_unexpected_found)"
   ]
  },
  {
   "cell_type": "code",
   "execution_count": null,
   "id": "bbbe4cf4",
   "metadata": {},
   "outputs": [],
   "source": []
  },
  {
   "cell_type": "code",
   "execution_count": null,
   "id": "e16de124",
   "metadata": {},
   "outputs": [],
   "source": [
    "#TODO WHY IS THIS NOT EMPTY?!\n",
    "# BECAUSE I USE PREMISE NUMBER NOT SERIAL NUMBER?!\n",
    "# YES! BECAUSE apparently meter_events has some serial numbers that meter_premise does not!!!!!\n",
    "set(SNs_in_end_events_i).difference(set(SNs_in_outg_rec_nb_i))"
   ]
  },
  {
   "cell_type": "code",
   "execution_count": null,
   "id": "e1f2d0b3",
   "metadata": {},
   "outputs": [],
   "source": [
    "# # SIMPLIFIED!!!!!!!!!!!!!!!!!\n",
    "# n_skipped=0\n",
    "# print(len(outg_rec_nbs_w_meters_wo_events))\n",
    "# for i,outg_rec_nb_i in enumerate(outg_rec_nbs_w_meters_wo_events):\n",
    "# # for i,outg_rec_nb_i in enumerate(['10290769']):\n",
    "#     if i%100==0:\n",
    "#         print(i)\n",
    "#     # NOT EXACTLY RIGHT!!!!!\n",
    "#     t_max = outg_dt_off_df.loc[outg_rec_nb_i]['DT_OFF_TS_FULL']\n",
    "#     t_min = t_max-datetime.timedelta(days=30)\n",
    "    \n",
    "#     if t_max.year>2022 or t_min.year<2018:\n",
    "#         n_skipped += 1\n",
    "#         continue\n",
    "        \n",
    "#     sns_with_end_events = get_SNs_with_end_events_from_local_files(\n",
    "#         date_0=t_min, \n",
    "#         date_1=t_max\n",
    "#     )\n",
    "    \n",
    "#     SNs_in_end_events_i = end_events_df_i[end_events_df_i['outg_rec_nb']==outg_rec_nb_i]['serialnumber'].unique().tolist()\n",
    "#     if len(set(SNs_in_end_events_i).difference(set(sns_with_end_events)))>0:\n",
    "#         print(outg_rec_nb_i)\n",
    "        \n",
    "# print(f'n_skipped = {n_skipped}')"
   ]
  },
  {
   "cell_type": "code",
   "execution_count": null,
   "id": "bda09fd4",
   "metadata": {},
   "outputs": [],
   "source": []
  },
  {
   "cell_type": "code",
   "execution_count": null,
   "id": "13f8dfdf",
   "metadata": {},
   "outputs": [],
   "source": [
    "# # SIMPLIFIED!!!!!!!!!!!!!!!!!\n",
    "# n_skipped=0\n",
    "# print(len(outg_rec_nbs_w_meters_wo_events))\n",
    "# for i,outg_rec_nb_i in enumerate(outg_rec_nbs_w_meters_wo_events):\n",
    "# # for i,outg_rec_nb_i in enumerate(['10290769']):\n",
    "#     if i%100==0:\n",
    "#         print(i)\n",
    "#     # NOT EXACTLY RIGHT!!!!!\n",
    "#     t_max = outg_dt_off_df.loc[outg_rec_nb_i]['DT_OFF_TS_FULL']\n",
    "#     t_min = t_max-datetime.timedelta(days=30)\n",
    "    \n",
    "#     if t_max.year>2022 or t_min.year<2018:\n",
    "#         n_skipped += 1\n",
    "#         continue\n",
    "        \n",
    "#     prem_nbs_with_end_events = get_SNs_with_end_events_from_local_files(\n",
    "#         date_0=t_min, \n",
    "#         date_1=t_max, \n",
    "#         files_dir_base=r'C:\\Users\\s346557\\Documents\\LocalData\\dovs_and_end_events_data\\prem_nbs_with_end_events'\n",
    "#     )\n",
    "    \n",
    "#     SNs_in_end_events_i = end_events_df_i[end_events_df_i['outg_rec_nb']==outg_rec_nb_i]['aep_premise_nb'].unique().tolist()\n",
    "#     if len(set(SNs_in_end_events_i).difference(set(prem_nbs_with_end_events)))>0:\n",
    "#         print(outg_rec_nb_i)\n",
    "        \n",
    "# print(f'n_skipped = {n_skipped}')"
   ]
  },
  {
   "cell_type": "code",
   "execution_count": null,
   "id": "b290ded3",
   "metadata": {},
   "outputs": [],
   "source": [
    "len(sns_with_end_events)"
   ]
  },
  {
   "cell_type": "code",
   "execution_count": null,
   "id": "c46ee0b6",
   "metadata": {},
   "outputs": [],
   "source": [
    "len(SNs_in_end_events_i)"
   ]
  },
  {
   "cell_type": "code",
   "execution_count": null,
   "id": "424c503b",
   "metadata": {},
   "outputs": [],
   "source": []
  },
  {
   "cell_type": "code",
   "execution_count": null,
   "id": "63b10f6f",
   "metadata": {},
   "outputs": [],
   "source": [
    "n_skipped=0\n",
    "outg_rec_nbs_w_missing_SNs = []\n",
    "outg_rec_nbs_wo_all_found = []\n",
    "outg_rec_nbs_w_unexpected = []\n",
    "print(len(outg_rec_nbs_w_meters_wo_events))\n",
    "# for i,outg_rec_nb_i in enumerate(outg_rec_nbs_w_meters_wo_events):\n",
    "for i,outg_rec_nb_i in enumerate(['10283904']):\n",
    "    if i%100==0:\n",
    "        print(i)\n",
    "    # NOT EXACTLY RIGHT!!!!!\n",
    "    t_max = outg_dt_off_df.loc[outg_rec_nb_i]['DT_OFF_TS_FULL']\n",
    "    t_min = t_max-datetime.timedelta(days=30)\n",
    "    \n",
    "    if t_max.year>2022 or t_min.year<2018:\n",
    "        n_skipped += 1\n",
    "        continue\n",
    "\n",
    "    sns_with_end_events = AMIEndEvents.get_end_event_distinct_fields(\n",
    "        date_0=t_min, \n",
    "        date_1=t_max, \n",
    "        fields=['serialnumber'], \n",
    "        addtnl_build_sql_function_kwargs = dict(opco='oh')\n",
    "    )\n",
    "\n",
    "\n",
    "    # For each serial number in the outage (from SNs_in_outgs.loc[outg_rec_nb_i]['serial_numbers'])\n",
    "    #   if serial number contained in end_events_df_i[end_events_df_i['outg_rec_nb']==outg_rec_nb_i], it is expected to have an event\n",
    "    #     as determined now by sns_with_end_events\n",
    "    #   Otherwise, not expected to have an event in sns_with_end_events\n",
    "    SNs_in_outg_rec_nb_i = SNs_in_outgs.loc[outg_rec_nb_i]['serial_numbers']\n",
    "    SNs_in_end_events_i = end_events_df_i[end_events_df_i['outg_rec_nb']==outg_rec_nb_i]['serialnumber'].unique().tolist()\n",
    "    expect_with_events = [x for x in SNs_in_outg_rec_nb_i\n",
    "                          if x in SNs_in_end_events_i]\n",
    "\n",
    "    expect_no_events = [x for x in SNs_in_outg_rec_nb_i\n",
    "                        if x not in SNs_in_end_events_i]  \n",
    "    \n",
    "    # Should be True\n",
    "    all_expected_found = all([x in sns_with_end_events['serialnumber'].tolist() for x in expect_with_events])\n",
    "    \n",
    "    # Should be False\n",
    "    any_unexpected_found = any([x in sns_with_end_events['serialnumber'].tolist() for x in expect_no_events])\n",
    "    \n",
    "    if not all_expected_found or any_unexpected_found:\n",
    "        print(outg_rec_nb_i)\n",
    "        outg_rec_nbs_w_missing_SNs.append(outg_rec_nb_i)\n",
    "        if not all_expected_found:\n",
    "            outg_rec_nbs_wo_all_found.append(outg_rec_nb_i)\n",
    "        if any_unexpected_found:\n",
    "            outg_rec_nbs_w_unexpected.append(outg_rec_nb_i)\n",
    "    \n",
    "#     assert(all_expected_found)\n",
    "#     assert(not any_unexpected_found)"
   ]
  },
  {
   "cell_type": "code",
   "execution_count": null,
   "id": "47b0ce82",
   "metadata": {},
   "outputs": [],
   "source": [
    "t_max"
   ]
  },
  {
   "cell_type": "code",
   "execution_count": null,
   "id": "340d2512",
   "metadata": {},
   "outputs": [],
   "source": [
    "any_unexpected_found"
   ]
  },
  {
   "cell_type": "code",
   "execution_count": null,
   "id": "59db990d",
   "metadata": {},
   "outputs": [],
   "source": [
    "[x for x in expect_no_events if x in sns_with_end_events['serialnumber'].tolist()]"
   ]
  },
  {
   "cell_type": "code",
   "execution_count": null,
   "id": "01b1f779",
   "metadata": {},
   "outputs": [],
   "source": []
  },
  {
   "cell_type": "code",
   "execution_count": null,
   "id": "1c547e8e",
   "metadata": {},
   "outputs": [],
   "source": []
  },
  {
   "cell_type": "code",
   "execution_count": null,
   "id": "6cb714f4",
   "metadata": {},
   "outputs": [],
   "source": []
  },
  {
   "cell_type": "code",
   "execution_count": null,
   "id": "3730d55f",
   "metadata": {},
   "outputs": [],
   "source": [
    "n_skipped=0\n",
    "outg_rec_nbs_w_missing_prems = []\n",
    "outg_rec_nbs_wo_all_found = []\n",
    "outg_rec_nbs_w_unexpected = []\n",
    "print(len(outg_rec_nbs_w_meters_wo_events))\n",
    "for i,outg_rec_nb_i in enumerate(outg_rec_nbs_w_meters_wo_events):\n",
    "# for i,outg_rec_nb_i in enumerate(['10413222']):\n",
    "    if i%100==0:\n",
    "        print(i)\n",
    "    # NOT EXACTLY RIGHT!!!!!\n",
    "    t_max = outg_dt_off_df.loc[outg_rec_nb_i]['DT_OFF_TS_FULL']\n",
    "    t_min = t_max-datetime.timedelta(days=30)\n",
    "    \n",
    "    if t_max.year>2022 or t_min.year<2018:\n",
    "        n_skipped += 1\n",
    "        continue\n",
    "\n",
    "    prem_nbs_with_end_events = get_SNs_with_end_events_from_local_files(\n",
    "        date_0=t_min, \n",
    "        date_1=t_max, \n",
    "        files_dir_base=r'C:\\Users\\s346557\\Documents\\LocalData\\dovs_and_end_events_data\\prem_nbs_with_end_events'\n",
    "    )\n",
    "\n",
    "    # For each premise number in the outage (from SNs_in_outgs.loc[outg_rec_nb_i]['premise_nbs'])\n",
    "    #   if premise number contained in end_events_df_i[end_events_df_i['outg_rec_nb']==outg_rec_nb_i], it is expected to have an event\n",
    "    #     as determined now by prem_nbs_with_end_events\n",
    "    #   Otherwise, not expected to have an event in prem_nbs_with_end_events\n",
    "    prems_in_outg_i_from_DOVS = SNs_in_outgs.loc[outg_rec_nb_i]['premise_nbs']\n",
    "    prems_in_outg_i_from_end_events = end_events_df_i[end_events_df_i['outg_rec_nb']==outg_rec_nb_i]['aep_premise_nb'].unique().tolist()\n",
    "    \n",
    "    if len(set(prems_in_outg_i_from_end_events).difference(set(prems_in_outg_i_from_DOVS)))>0:\n",
    "        print('I dont understand')\n",
    "    \n",
    "    expect_with_events = [x for x in prems_in_outg_i_from_DOVS\n",
    "                          if x in prems_in_outg_i_from_end_events]\n",
    "\n",
    "    expect_no_events = [x for x in prems_in_outg_i_from_DOVS\n",
    "                        if x not in prems_in_outg_i_from_end_events]  \n",
    "    \n",
    "    # Should be True\n",
    "    all_expected_found = all([x in prem_nbs_with_end_events for x in expect_with_events])\n",
    "    \n",
    "    # Should be False\n",
    "    any_unexpected_found = any([x in prem_nbs_with_end_events for x in expect_no_events])\n",
    "    \n",
    "    if not all_expected_found:\n",
    "        print(f'not all_expected_found: {outg_rec_nb_i}')\n",
    "        \n",
    "    if any_unexpected_found:\n",
    "        print(f'any_unexpected_found: {outg_rec_nb_i}')\n",
    "        prem_nbs_with_end_events = AMIEndEvents.get_end_event_distinct_fields(\n",
    "            date_0=t_min, \n",
    "            date_1=t_max, \n",
    "            fields=['aep_premise_nb'], \n",
    "            are_datetime=True, \n",
    "            addtnl_build_sql_function_kwargs = dict(opco='oh')\n",
    "        )\n",
    "        prem_nbs_with_end_events=prem_nbs_with_end_events['aep_premise_nb'].tolist()\n",
    "        any_unexpected_found = any([x in prem_nbs_with_end_events for x in expect_no_events])\n",
    "        print(f'Is it really true?: {any_unexpected_found}')\n",
    "    \n",
    "    if not all_expected_found or any_unexpected_found:\n",
    "        #print(outg_rec_nb_i)\n",
    "        outg_rec_nbs_w_missing_prems.append(outg_rec_nb_i)\n",
    "        if not all_expected_found:\n",
    "            outg_rec_nbs_wo_all_found.append(outg_rec_nb_i)\n",
    "        if any_unexpected_found:\n",
    "            outg_rec_nbs_w_unexpected.append(outg_rec_nb_i)\n",
    "    \n",
    "#     assert(all_expected_found)\n",
    "#     assert(not any_unexpected_found)"
   ]
  },
  {
   "cell_type": "code",
   "execution_count": null,
   "id": "82ee8919",
   "metadata": {},
   "outputs": [],
   "source": [
    "print('Hello')"
   ]
  },
  {
   "cell_type": "code",
   "execution_count": null,
   "id": "66ddd037",
   "metadata": {},
   "outputs": [],
   "source": []
  },
  {
   "cell_type": "code",
   "execution_count": null,
   "id": "b7db6cdb",
   "metadata": {},
   "outputs": [],
   "source": []
  },
  {
   "cell_type": "code",
   "execution_count": null,
   "id": "1d749038",
   "metadata": {},
   "outputs": [],
   "source": []
  },
  {
   "cell_type": "code",
   "execution_count": null,
   "id": "d9f51559",
   "metadata": {},
   "outputs": [],
   "source": [
    "any_unexpected_found"
   ]
  },
  {
   "cell_type": "code",
   "execution_count": null,
   "id": "cd4314ce",
   "metadata": {},
   "outputs": [],
   "source": [
    "set(prems_in_outg_i_from_end_events).difference(set(prem_nbs_with_end_events['aep_premise_nb'].tolist()))"
   ]
  },
  {
   "cell_type": "code",
   "execution_count": null,
   "id": "0ea23778",
   "metadata": {},
   "outputs": [],
   "source": []
  },
  {
   "cell_type": "code",
   "execution_count": null,
   "id": "a00b9196",
   "metadata": {},
   "outputs": [],
   "source": [
    "set(prems_in_outg_i_from_DOVS).difference(set(prem_nbs_with_end_events['aep_premise_nb'].tolist()))"
   ]
  },
  {
   "cell_type": "code",
   "execution_count": null,
   "id": "72c09db2",
   "metadata": {},
   "outputs": [],
   "source": [
    "set(prems_in_outg_i_from_DOVS).difference(set(prems_in_outg_i_from_end_events))"
   ]
  },
  {
   "cell_type": "code",
   "execution_count": null,
   "id": "70047cf0",
   "metadata": {},
   "outputs": [],
   "source": [
    "'102398033' in prem_nbs_with_end_events['aep_premise_nb'].tolist()"
   ]
  },
  {
   "cell_type": "code",
   "execution_count": null,
   "id": "fecc1e10",
   "metadata": {},
   "outputs": [],
   "source": [
    "# Case example: prem_nb = '102398033'\n",
    "# Apparently, no events for this premise number were found\n",
    "# HOWEVER, the outage database claims it to have been affected, and the prem_nbs_with_end_events\n",
    "#   claims it has an event!\n",
    "print('102398033' in prems_in_outg_i_from_end_events)\n",
    "print('102398033' in prems_in_outg_i_from_DOVS)\n",
    "print('102398033' in prem_nbs_with_end_events['aep_premise_nb'].tolist())"
   ]
  },
  {
   "cell_type": "code",
   "execution_count": null,
   "id": "42e972dd",
   "metadata": {},
   "outputs": [],
   "source": [
    "end_events_df_i[end_events_df_i['aep_premise_nb']=='102398033']"
   ]
  },
  {
   "cell_type": "code",
   "execution_count": null,
   "id": "68b6daab",
   "metadata": {},
   "outputs": [],
   "source": [
    "ede_i = AMIEndEvents(\n",
    "    df_construct_type=DFConstructType.kRunSqlQuery, \n",
    "    contstruct_df_args=None, \n",
    "    init_df_in_constructor=True, \n",
    "    build_sql_function_kwargs=dict(\n",
    "        cols_of_interest=TableInfos.AMIEndEvents_TI.std_columns_of_interest, \n",
    "        premise_nb='102398033', \n",
    "        date_range=[t_min, t_max]\n",
    "    )\n",
    ")"
   ]
  },
  {
   "cell_type": "code",
   "execution_count": null,
   "id": "3c81f1c3",
   "metadata": {},
   "outputs": [],
   "source": [
    "ede_i.df"
   ]
  },
  {
   "cell_type": "code",
   "execution_count": null,
   "id": "4046eb12",
   "metadata": {},
   "outputs": [],
   "source": [
    "t_min"
   ]
  },
  {
   "cell_type": "code",
   "execution_count": null,
   "id": "f9378cc5",
   "metadata": {},
   "outputs": [],
   "source": [
    "t_max"
   ]
  },
  {
   "cell_type": "code",
   "execution_count": null,
   "id": "25a91fcb",
   "metadata": {},
   "outputs": [],
   "source": [
    "rcpo_df_OG.columns.get_level_values(1)"
   ]
  },
  {
   "cell_type": "code",
   "execution_count": null,
   "id": "7fec54a9",
   "metadata": {},
   "outputs": [],
   "source": []
  },
  {
   "cell_type": "code",
   "execution_count": null,
   "id": "6b9df7dd",
   "metadata": {},
   "outputs": [],
   "source": [
    "rcpo_df_OG.loc['10248878'][('counts', '_SNs')]"
   ]
  },
  {
   "cell_type": "code",
   "execution_count": null,
   "id": "a700fe2c",
   "metadata": {},
   "outputs": [],
   "source": []
  },
  {
   "cell_type": "code",
   "execution_count": null,
   "id": "9d2a2298",
   "metadata": {},
   "outputs": [],
   "source": []
  },
  {
   "cell_type": "code",
   "execution_count": null,
   "id": "b0b2c3fb",
   "metadata": {},
   "outputs": [],
   "source": []
  },
  {
   "cell_type": "code",
   "execution_count": null,
   "id": "f2131b09",
   "metadata": {},
   "outputs": [],
   "source": [
    "outg_rec_nbs_wo_all_found[0]"
   ]
  },
  {
   "cell_type": "code",
   "execution_count": null,
   "id": "2b85bb51",
   "metadata": {},
   "outputs": [],
   "source": [
    "print(len(outg_rec_nbs_w_missing_prems))\n",
    "print(len(outg_rec_nbs_wo_all_found))\n",
    "print(len(outg_rec_nbs_w_unexpected))"
   ]
  },
  {
   "cell_type": "code",
   "execution_count": null,
   "id": "f9624882",
   "metadata": {},
   "outputs": [],
   "source": [
    "# outg_rec_nb_i=outg_rec_nbs_w_unexpected[0]\n",
    "outg_rec_nb_i = '10253808'\n",
    "\n",
    "# NOT EXACTLY RIGHT!!!!!\n",
    "t_max = outg_dt_off_df.loc[outg_rec_nb_i]['DT_OFF_TS_FULL']\n",
    "t_min = t_max-datetime.timedelta(days=30)\n",
    "\n",
    "#     sns_with_end_events = AMIEndEvents.get_end_event_distinct_fields(\n",
    "#         date_0=t_min, \n",
    "#         date_1=t_max, \n",
    "#         fields=['serialnumber'], \n",
    "#         addtnl_build_sql_function_kwargs = dict(opco='oh')\n",
    "#     )\n",
    "\n",
    "prem_nbs_with_end_events = AMIEndEvents.get_end_event_distinct_fields(\n",
    "    date_0=t_min, \n",
    "    date_1=t_max, \n",
    "    fields=['aep_premise_nb'], \n",
    "    addtnl_build_sql_function_kwargs = dict(opco='oh')\n",
    ")\n",
    "\n",
    "\n",
    "prems_in_outg_i_from_DOVS = SNs_in_outgs.loc[outg_rec_nb_i]['premise_nbs']\n",
    "prems_in_outg_i_from_end_events = end_events_df_i[end_events_df_i['outg_rec_nb']==outg_rec_nb_i]['aep_premise_nb'].unique().tolist()\n",
    "\n",
    "if len(set(prems_in_outg_i_from_end_events).difference(set(prems_in_outg_i_from_DOVS)))>0:\n",
    "    print('I dont understand')\n",
    "\n",
    "expect_with_events = [x for x in prems_in_outg_i_from_DOVS\n",
    "                      if x in prems_in_outg_i_from_end_events]\n",
    "\n",
    "expect_with_events2 = prems_in_outg_i_from_end_events\n",
    "\n",
    "expect_no_events = [x for x in prems_in_outg_i_from_DOVS\n",
    "                    if x not in prems_in_outg_i_from_end_events]  \n",
    "\n",
    "expect_no_events2 = set(prems_in_outg_i_from_DOVS).difference(set(prems_in_outg_i_from_end_events))\n",
    "\n",
    "# Should be True\n",
    "all_expected_found = all([x in prem_nbs_with_end_events['aep_premise_nb'].tolist() for x in expect_with_events])\n",
    "all_expected_found2 = [x for x in expect_with_events if x in prem_nbs_with_end_events['aep_premise_nb'].tolist()]\n",
    "\n",
    "# Should be False\n",
    "any_unexpected_found = any([x in prem_nbs_with_end_events['aep_premise_nb'].tolist() for x in expect_no_events])\n",
    "any_unexpected_found2 = [x for x in expect_no_events if x in prem_nbs_with_end_events['aep_premise_nb'].tolist()]"
   ]
  },
  {
   "cell_type": "code",
   "execution_count": null,
   "id": "844a06a2",
   "metadata": {},
   "outputs": [],
   "source": []
  },
  {
   "cell_type": "code",
   "execution_count": null,
   "id": "9a774a4e",
   "metadata": {},
   "outputs": [],
   "source": [
    "print(len(expect_no_events))\n",
    "print(len(expect_no_events2))"
   ]
  },
  {
   "cell_type": "code",
   "execution_count": null,
   "id": "1f8c41c3",
   "metadata": {},
   "outputs": [],
   "source": [
    "len(expect_with_events)"
   ]
  },
  {
   "cell_type": "code",
   "execution_count": null,
   "id": "ba95afcf",
   "metadata": {},
   "outputs": [],
   "source": [
    "expect_with_events[0]"
   ]
  },
  {
   "cell_type": "code",
   "execution_count": null,
   "id": "35e41e67",
   "metadata": {},
   "outputs": [],
   "source": []
  },
  {
   "cell_type": "code",
   "execution_count": null,
   "id": "4dc6c6ab",
   "metadata": {},
   "outputs": [],
   "source": [
    "all_expected_found"
   ]
  },
  {
   "cell_type": "code",
   "execution_count": null,
   "id": "4e881fb1",
   "metadata": {},
   "outputs": [],
   "source": [
    "any_unexpected_found"
   ]
  },
  {
   "cell_type": "code",
   "execution_count": null,
   "id": "996a8775",
   "metadata": {},
   "outputs": [],
   "source": [
    "any_unexpected_found2"
   ]
  },
  {
   "cell_type": "code",
   "execution_count": null,
   "id": "5b881ee1",
   "metadata": {},
   "outputs": [],
   "source": []
  },
  {
   "cell_type": "code",
   "execution_count": null,
   "id": "341bb1ab",
   "metadata": {},
   "outputs": [],
   "source": [
    "outg_rec_nb = '10253808'\n",
    "end_events_df_i[end_events_df_i['outg_rec_nb']==outg_rec_nb]['aep_premise_nb'].tolist()"
   ]
  },
  {
   "cell_type": "code",
   "execution_count": null,
   "id": "7868d58a",
   "metadata": {},
   "outputs": [],
   "source": [
    "all([x in prem_nbs_with_end_events['aep_premise_nb'].tolist() \n",
    " for x in end_events_df_i[end_events_df_i['outg_rec_nb']==outg_rec_nb]['aep_premise_nb'].tolist()])"
   ]
  },
  {
   "cell_type": "code",
   "execution_count": null,
   "id": "ed77e8c5",
   "metadata": {},
   "outputs": [],
   "source": [
    "prem_nbs_with_end_events.sort_values(by=['aep_premise_nb'])"
   ]
  },
  {
   "cell_type": "code",
   "execution_count": null,
   "id": "73bd246d",
   "metadata": {},
   "outputs": [],
   "source": []
  },
  {
   "cell_type": "code",
   "execution_count": null,
   "id": "375a0732",
   "metadata": {},
   "outputs": [],
   "source": [
    "is_no_outg = True\n",
    "paths = Utilities.find_all_paths(base_dir=files_dir_no_outg, glob_pattern=file_path_glob)\n",
    "i_beg = 0\n",
    "i_end = 1000\n",
    "# i_end=len(paths)\n",
    "cols_and_types_to_convert_dict=None\n",
    "to_numeric_errors='coerce'\n",
    "assert_all_cols_equal=True\n",
    "outg_rec_nb_col='trsf_pole_nb'\n",
    "addtnl_dropna_subset_cols=None\n",
    "\n",
    "days_min_outg_td_window=0\n",
    "days_max_outg_td_window=30\n",
    "\n",
    "min_outg_td_window=datetime.timedelta(days=days_min_outg_td_window)\n",
    "max_outg_td_window=datetime.timedelta(days=days_max_outg_td_window)"
   ]
  },
  {
   "cell_type": "code",
   "execution_count": null,
   "id": "a5732b67",
   "metadata": {},
   "outputs": [],
   "source": [
    "if is_no_outg:\n",
    "    # If min_outg_td_window or max_outg_td_window is not None, enforce time restrictions around outages\n",
    "    if min_outg_td_window is not None or max_outg_td_window is not None:\n",
    "        end_events_df_i=Utilities_dt.strip_tz_info_and_convert_to_dt(\n",
    "            df=end_events_df_i, \n",
    "            time_col='valuesinterval', \n",
    "            placement_col='valuesinterval_local', \n",
    "            run_quick=True, \n",
    "            n_strip=6, \n",
    "            inplace=False\n",
    "        )\n",
    "\n",
    "        no_outg_time_infos_df = MECPOAn.get_bsln_time_interval_infos_df_from_summary_files(\n",
    "            summary_paths=[AMIEndEvents.find_summary_file_from_csv(x) for x in paths[i_beg:i_end]], \n",
    "            output_prem_nbs_col='prem_nbs', \n",
    "            output_t_min_col='t_min', \n",
    "            output_t_max_col='DT_OFF_TS_FULL', \n",
    "            make_prem_nbs_idx=True\n",
    "        )\n",
    "        assert(end_events_df_i['aep_premise_nb'].dtype==no_outg_time_infos_df.index.dtype)\n",
    "        no_outg_time_infos_series = no_outg_time_infos_df['DT_OFF_TS_FULL']    \n",
    "\n",
    "        end_events_df_i = AMIEndEvents.enforce_end_events_within_interval_of_outage(\n",
    "            end_events_df=end_events_df_i, \n",
    "            outg_times_series=no_outg_time_infos_series, \n",
    "            min_timedelta=min_outg_td_window, \n",
    "            max_timedelta=max_outg_td_window, \n",
    "            outg_rec_nb_col = 'aep_premise_nb', \n",
    "            datetime_col='valuesinterval_local'\n",
    "        )"
   ]
  },
  {
   "cell_type": "code",
   "execution_count": null,
   "id": "83775ddf",
   "metadata": {},
   "outputs": [],
   "source": []
  },
  {
   "cell_type": "code",
   "execution_count": null,
   "id": "3b24beac",
   "metadata": {},
   "outputs": [],
   "source": [
    "end_events_df_i.shape"
   ]
  },
  {
   "cell_type": "code",
   "execution_count": null,
   "id": "916bec49",
   "metadata": {},
   "outputs": [],
   "source": [
    "end_events_df_i.head()"
   ]
  },
  {
   "cell_type": "code",
   "execution_count": null,
   "id": "0c0c1cc4",
   "metadata": {},
   "outputs": [],
   "source": [
    "print(end_events_df_i['trsf_pole_nb'].nunique())"
   ]
  },
  {
   "cell_type": "code",
   "execution_count": null,
   "id": "3edf2ff0",
   "metadata": {},
   "outputs": [],
   "source": []
  },
  {
   "cell_type": "code",
   "execution_count": null,
   "id": "26514f9c",
   "metadata": {},
   "outputs": [],
   "source": [
    "end_events_df_ij = end_events_df_i[end_events_df_i['outg_rec_nb']==end_events_df_i['outg_rec_nb'].unique()[0]]\n",
    "end_events_df_ij"
   ]
  },
  {
   "cell_type": "code",
   "execution_count": null,
   "id": "a9f11ec9",
   "metadata": {},
   "outputs": [],
   "source": [
    "assert(end_events_df_ij['outg_rec_nb'].nunique()==1)\n",
    "end_events_df_ij['outg_rec_nb'].unique()[0]"
   ]
  },
  {
   "cell_type": "code",
   "execution_count": null,
   "id": "4295cb6f",
   "metadata": {},
   "outputs": [],
   "source": [
    "outg_dt_off_df.loc[end_events_df_ij['outg_rec_nb'].unique()[0]]['DT_OFF_TS_FULL']"
   ]
  },
  {
   "cell_type": "code",
   "execution_count": null,
   "id": "5acf71b2",
   "metadata": {},
   "outputs": [],
   "source": [
    "t_max = outg_dt_off_df.loc[end_events_df_ij['outg_rec_nb'].unique()[0]]['DT_OFF_TS_FULL']\n",
    "t_min = t_max-datetime.timedelta(days=30)"
   ]
  },
  {
   "cell_type": "code",
   "execution_count": null,
   "id": "defef21d",
   "metadata": {},
   "outputs": [],
   "source": []
  },
  {
   "cell_type": "code",
   "execution_count": null,
   "id": "b320ae5f",
   "metadata": {},
   "outputs": [],
   "source": [
    "sns_with_end_events = AMIEndEvents.get_end_event_distinct_fields(\n",
    "    date_0=t_min, \n",
    "    date_1=t_max, \n",
    "    fields=['serialnumber'], \n",
    "    addtnl_build_sql_function_kwargs = dict(opco='oh')\n",
    ")"
   ]
  },
  {
   "cell_type": "code",
   "execution_count": null,
   "id": "7760f234",
   "metadata": {},
   "outputs": [],
   "source": [
    "[x for x in end_events_df_ij['serialnumber'].unique().tolist() if x in sns_with_end_events['serialnumber'].tolist()]"
   ]
  },
  {
   "cell_type": "code",
   "execution_count": null,
   "id": "4041c379",
   "metadata": {},
   "outputs": [],
   "source": []
  },
  {
   "cell_type": "code",
   "execution_count": null,
   "id": "305e82a8",
   "metadata": {},
   "outputs": [],
   "source": []
  },
  {
   "cell_type": "code",
   "execution_count": null,
   "id": "b9d2617a",
   "metadata": {},
   "outputs": [],
   "source": []
  },
  {
   "cell_type": "code",
   "execution_count": null,
   "id": "36cef4af",
   "metadata": {},
   "outputs": [],
   "source": []
  },
  {
   "cell_type": "code",
   "execution_count": null,
   "id": "cad00c4a",
   "metadata": {},
   "outputs": [],
   "source": []
  },
  {
   "cell_type": "code",
   "execution_count": null,
   "id": "5593edcb",
   "metadata": {},
   "outputs": [],
   "source": [
    "no_outg_time_infos_df = MECPOAn.get_bsln_time_interval_infos_df_from_summary_files(\n",
    "#     summary_paths=[AMIEndEvents.find_summary_file_from_csv(x) for x in paths[i_beg:i_end]], \n",
    "    summary_paths=[AMIEndEvents.find_summary_file_from_csv(x) for x in paths], \n",
    "    output_prem_nbs_col='prem_nbs', \n",
    "    output_t_min_col='t_min', \n",
    "    output_t_max_col='DT_OFF_TS_FULL', \n",
    "    make_prem_nbs_idx=True\n",
    ")"
   ]
  },
  {
   "cell_type": "code",
   "execution_count": null,
   "id": "aa84eae9",
   "metadata": {},
   "outputs": [],
   "source": [
    "assert(no_outg_time_infos_df['t_min'].nunique()==1)\n",
    "assert(no_outg_time_infos_df['DT_OFF_TS_FULL'].nunique()==1)"
   ]
  },
  {
   "cell_type": "code",
   "execution_count": null,
   "id": "6c15cd1e",
   "metadata": {},
   "outputs": [],
   "source": [
    "no_outg_time_infos_df.index.nunique()"
   ]
  },
  {
   "cell_type": "code",
   "execution_count": null,
   "id": "debc8109",
   "metadata": {},
   "outputs": [],
   "source": []
  },
  {
   "cell_type": "code",
   "execution_count": null,
   "id": "3166b6f8",
   "metadata": {},
   "outputs": [],
   "source": [
    "no_outg_time_infos_df.iloc[0]"
   ]
  },
  {
   "cell_type": "code",
   "execution_count": null,
   "id": "517a5172",
   "metadata": {},
   "outputs": [],
   "source": [
    "no_outg_time_infos_df"
   ]
  },
  {
   "cell_type": "code",
   "execution_count": null,
   "id": "2cd259a8",
   "metadata": {},
   "outputs": [],
   "source": [
    "mp_xfmr_poles_from_end_events = MeterPremise(\n",
    "    df_construct_type=DFConstructType.kRunSqlQuery, \n",
    "    contstruct_df_args=None, \n",
    "    init_df_in_constructor=True, \n",
    "    build_sql_function_kwargs=dict(\n",
    "        cols_of_interest=TableInfos.MeterPremise_TI.std_columns_of_interest, \n",
    "#         trsf_pole_nbs=end_events_df_i['trsf_pole_nb'].unique().tolist()\n",
    "    )\n",
    ")\n",
    "\n",
    "mp_xfmr_poles_from_end_events_df = mp_xfmr_poles_from_end_events.df.copy()\n",
    "print(mp_xfmr_poles_from_end_events_df.shape)\n",
    "mp_xfmr_poles_from_end_events_df = mp_xfmr_poles_from_end_events_df[mp_xfmr_poles_from_end_events_df['trsf_pole_nb'].isin(end_events_df_i['trsf_pole_nb'].unique().tolist())]\n",
    "print(mp_xfmr_poles_from_end_events_df.shape)"
   ]
  },
  {
   "cell_type": "code",
   "execution_count": null,
   "id": "c065839f",
   "metadata": {},
   "outputs": [],
   "source": [
    "print(mp_xfmr_poles_from_end_events.df.shape)\n",
    "print(no_outg_time_infos_df.shape)"
   ]
  },
  {
   "cell_type": "code",
   "execution_count": null,
   "id": "110b352a",
   "metadata": {},
   "outputs": [],
   "source": [
    "# Need to find all meters on each transformer\n",
    "# Each meter needs to either be in sample of meters without an event, or in collected sample\n",
    "# If not in either, than sample needs to be collected"
   ]
  },
  {
   "cell_type": "code",
   "execution_count": null,
   "id": "a3e022ca",
   "metadata": {},
   "outputs": [],
   "source": []
  },
  {
   "cell_type": "code",
   "execution_count": null,
   "id": "cfefbe29",
   "metadata": {},
   "outputs": [],
   "source": [
    "mp_xfmr_poles_from_end_events_df = mp_xfmr_poles_from_end_events.df.copy()"
   ]
  },
  {
   "cell_type": "code",
   "execution_count": null,
   "id": "70106b0e",
   "metadata": {},
   "outputs": [],
   "source": [
    "mp_xfmr_poles_from_end_events_df"
   ]
  },
  {
   "cell_type": "code",
   "execution_count": null,
   "id": "98457925",
   "metadata": {},
   "outputs": [],
   "source": [
    "print(mp_xfmr_poles_from_end_events_df['mfr_devc_ser_nbr'].nunique())\n",
    "print(mp_xfmr_poles_from_end_events_df['prem_nb'].nunique())"
   ]
  },
  {
   "cell_type": "code",
   "execution_count": null,
   "id": "ea87d080",
   "metadata": {},
   "outputs": [],
   "source": [
    "mp_xfmr_poles_from_end_events_df['prem_nb'].dtype==no_outg_time_infos_df.index.dtype"
   ]
  },
  {
   "cell_type": "code",
   "execution_count": null,
   "id": "a40737fe",
   "metadata": {},
   "outputs": [],
   "source": [
    "should_have_times = [x for x in mp_xfmr_poles_from_end_events_df['prem_nb'].tolist() \n",
    "                     if x in no_outg_time_infos_df.index.tolist()]\n",
    "print(len(should_have_times))"
   ]
  },
  {
   "cell_type": "code",
   "execution_count": null,
   "id": "e2fe4800",
   "metadata": {},
   "outputs": [],
   "source": [
    "should_not_have_times = [x for x in mp_xfmr_poles_from_end_events_df['prem_nb'].tolist() \n",
    "                     if x not in no_outg_time_infos_df.index.tolist()]\n",
    "print(len(should_not_have_times))"
   ]
  },
  {
   "cell_type": "code",
   "execution_count": null,
   "id": "855a0fa1",
   "metadata": {},
   "outputs": [],
   "source": [
    "mp_xfmr_poles_from_end_events_merged_with_no_outg_time_infos_df = pd.merge(\n",
    "    mp_xfmr_poles_from_end_events_df, \n",
    "    no_outg_time_infos_df, left_on='prem_nb', right_index=True, how='left')"
   ]
  },
  {
   "cell_type": "code",
   "execution_count": null,
   "id": "58d2ba05",
   "metadata": {},
   "outputs": [],
   "source": [
    "mp_xfmr_poles_from_end_events_merged_with_no_outg_time_infos_df"
   ]
  },
  {
   "cell_type": "code",
   "execution_count": null,
   "id": "d63a6818",
   "metadata": {},
   "outputs": [],
   "source": [
    "mp_xfmr_poles_from_end_events_merged_with_no_outg_time_infos_df[mp_xfmr_poles_from_end_events_merged_with_no_outg_time_infos_df['t_min'].notna()]"
   ]
  },
  {
   "cell_type": "code",
   "execution_count": null,
   "id": "34723d1c",
   "metadata": {},
   "outputs": [],
   "source": []
  },
  {
   "cell_type": "code",
   "execution_count": null,
   "id": "40fd0f8d",
   "metadata": {},
   "outputs": [],
   "source": [
    "assert(no_outg_time_infos_df['t_min'].nunique()==1)\n",
    "assert(no_outg_time_infos_df['DT_OFF_TS_FULL'].nunique()==1)\n",
    "print(pd.to_datetime(no_outg_time_infos_df['t_min'].unique().tolist()[0]))\n",
    "print(pd.to_datetime(no_outg_time_infos_df['DT_OFF_TS_FULL'].unique().tolist()[0]))"
   ]
  },
  {
   "cell_type": "code",
   "execution_count": null,
   "id": "95a2ab3b",
   "metadata": {},
   "outputs": [],
   "source": [
    "sns_with_end_events = AMIEndEvents.get_end_event_distinct_fields(\n",
    "    date_0=pd.to_datetime(no_outg_time_infos_df['t_min'].unique().tolist()[0]), \n",
    "    date_1=pd.to_datetime(no_outg_time_infos_df['DT_OFF_TS_FULL'].unique().tolist()[0]), \n",
    "    fields=['serialnumber'], \n",
    "    addtnl_build_sql_function_kwargs = dict(opco='oh')\n",
    ")"
   ]
  },
  {
   "cell_type": "code",
   "execution_count": null,
   "id": "20adde4e",
   "metadata": {},
   "outputs": [],
   "source": [
    "sns_with_end_events"
   ]
  },
  {
   "cell_type": "code",
   "execution_count": null,
   "id": "1e67649e",
   "metadata": {},
   "outputs": [],
   "source": [
    "mp_xfmr_poles_from_end_events_df"
   ]
  },
  {
   "cell_type": "code",
   "execution_count": null,
   "id": "6043ba93",
   "metadata": {},
   "outputs": [],
   "source": [
    "idk1 = [x for x in mp_xfmr_poles_from_end_events_df['mfr_devc_ser_nbr'].tolist() \n",
    "        if x in sns_with_end_events['serialnumber'].tolist()]"
   ]
  },
  {
   "cell_type": "code",
   "execution_count": null,
   "id": "ce496041",
   "metadata": {},
   "outputs": [],
   "source": [
    "len(idk1)"
   ]
  },
  {
   "cell_type": "code",
   "execution_count": null,
   "id": "ba68cbe4",
   "metadata": {},
   "outputs": [],
   "source": [
    "idk2 = [x for x in mp_xfmr_poles_from_end_events_df['mfr_devc_ser_nbr'].tolist() \n",
    "        if x not in sns_with_end_events['serialnumber'].tolist()]"
   ]
  },
  {
   "cell_type": "code",
   "execution_count": null,
   "id": "254f97d2",
   "metadata": {},
   "outputs": [],
   "source": [
    "len(idk2)"
   ]
  },
  {
   "cell_type": "code",
   "execution_count": null,
   "id": "f9f170f2",
   "metadata": {},
   "outputs": [],
   "source": [
    "end_events_df_i[end_events_df_i['serialnumber'].isin(idk2)]"
   ]
  },
  {
   "cell_type": "code",
   "execution_count": null,
   "id": "77d825ff",
   "metadata": {},
   "outputs": [],
   "source": []
  },
  {
   "cell_type": "code",
   "execution_count": null,
   "id": "36d19f41",
   "metadata": {},
   "outputs": [],
   "source": []
  },
  {
   "cell_type": "code",
   "execution_count": null,
   "id": "afb7f36b",
   "metadata": {},
   "outputs": [],
   "source": [
    "# These should have no end events\n",
    "should_have_no_events = mp_xfmr_poles_from_end_events_merged_with_no_outg_time_infos_df[\n",
    "    mp_xfmr_poles_from_end_events_merged_with_no_outg_time_infos_df['t_min'].isna()\n",
    "]['mfr_devc_ser_nbr'].tolist()\n",
    "\n",
    "# These should have end events\n",
    "should_have_events = mp_xfmr_poles_from_end_events_merged_with_no_outg_time_infos_df[\n",
    "    mp_xfmr_poles_from_end_events_merged_with_no_outg_time_infos_df['t_min'].notna()\n",
    "]['mfr_devc_ser_nbr'].tolist()"
   ]
  },
  {
   "cell_type": "code",
   "execution_count": null,
   "id": "a07e8aa7",
   "metadata": {},
   "outputs": [],
   "source": [
    "print(mp_xfmr_poles_from_end_events_merged_with_no_outg_time_infos_df.shape)\n",
    "print(len(should_have_no_events))\n",
    "print(len(should_have_events))"
   ]
  },
  {
   "cell_type": "code",
   "execution_count": null,
   "id": "199761db",
   "metadata": {},
   "outputs": [],
   "source": [
    "sum([x in sns_with_end_events['serialnumber'].tolist() for x in should_have_no_events])"
   ]
  },
  {
   "cell_type": "code",
   "execution_count": null,
   "id": "af91042e",
   "metadata": {},
   "outputs": [],
   "source": [
    "sum([x in sns_with_end_events['serialnumber'].tolist() for x in should_have_events])"
   ]
  },
  {
   "cell_type": "code",
   "execution_count": null,
   "id": "63a5b811",
   "metadata": {},
   "outputs": [],
   "source": []
  },
  {
   "cell_type": "code",
   "execution_count": null,
   "id": "421b7339",
   "metadata": {},
   "outputs": [],
   "source": []
  },
  {
   "cell_type": "code",
   "execution_count": 3,
   "id": "2039dedd",
   "metadata": {},
   "outputs": [
    {
     "name": "stdout",
     "output_type": "stream",
     "text": [
      "WITH MP AS (\n",
      "\tSELECT\n",
      "\t\tmfr_devc_ser_nbr,\n",
      "\t\tlongitude,\n",
      "\t\tlatitude,\n",
      "\t\tstate_cd,\n",
      "\t\tprem_nb,\n",
      "\t\tsrvc_pole_nb,\n",
      "\t\ttrsf_pole_nb,\n",
      "\t\tlatitude_nb,\n",
      "\t\tlongitude_nb,\n",
      "\t\tcircuit_nb,\n",
      "\t\tcircuit_nm,\n",
      "\t\tstation_nb,\n",
      "\t\tstation_nm,\n",
      "\t\txfmr_nb,\n",
      "\t\tannual_kwh,\n",
      "\t\tannual_max_dmnd,\n",
      "\t\tmtr_stat_cd,\n",
      "\t\tmtr_stat_cd_desc,\n",
      "\t\tdevc_stat_cd,\n",
      "\t\tdevc_stat_cd_desc,\n",
      "\t\tcurr_acct_cls_cd\n",
      "\tFROM default.meter_premise\n",
      ") \n",
      "SELECT\n",
      "\tun_rin.issuertracking_id,\n",
      "\tun_rin.serialnumber,\n",
      "\tun_rin.enddeviceeventtypeid,\n",
      "\tun_rin.valuesinterval,\n",
      "\tun_rin.aep_premise_nb,\n",
      "\tun_rin.reason,\n",
      "\tun_rin.event_type,\n",
      "\tun_rin.aep_opco,\n",
      "\tun_rin.aep_event_dt,\n",
      "\t'10248878' AS OUTG_REC_NB_GPD_FOR_SQL,\n",
      "\tMP.*\n",
      "FROM meter_events.end_device_event un_rin\n",
      "\tLEFT JOIN MP ON un_rin.serialnumber=MP.mfr_devc_ser_nbr\n",
      "WHERE un_rin.aep_event_dt BETWEEN '2017-12-02' AND '2018-01-31'\n",
      "AND   CAST(regexp_replace(un_rin.valuesinterval, '([0-9]{4}-[0-9]{2}-[0-9]{2})T([0-9]{2}:[0-9]{2}:[0-9]{2}).*', '$1 $2') AS TIMESTAMP) BETWEEN TIMESTAMP '2017-12-02 02:19:00' AND TIMESTAMP '2018-01-31 04:40:00'\n",
      "AND   un_rin.aep_premise_nb IN ('107998033','108288033','108598033','102398033','105709033','105188033','106309033','107378033')\n"
     ]
    }
   ],
   "source": [
    "print(\"WITH MP AS (\\n\\tSELECT\\n\\t\\tmfr_devc_ser_nbr,\\n\\t\\tlongitude,\\n\\t\\tlatitude,\\n\\t\\tstate_cd,\\n\\t\\tprem_nb,\\n\\t\\tsrvc_pole_nb,\\n\\t\\ttrsf_pole_nb,\\n\\t\\tlatitude_nb,\\n\\t\\tlongitude_nb,\\n\\t\\tcircuit_nb,\\n\\t\\tcircuit_nm,\\n\\t\\tstation_nb,\\n\\t\\tstation_nm,\\n\\t\\txfmr_nb,\\n\\t\\tannual_kwh,\\n\\t\\tannual_max_dmnd,\\n\\t\\tmtr_stat_cd,\\n\\t\\tmtr_stat_cd_desc,\\n\\t\\tdevc_stat_cd,\\n\\t\\tdevc_stat_cd_desc,\\n\\t\\tcurr_acct_cls_cd\\n\\tFROM default.meter_premise\\n) \\nSELECT\\n\\tun_rin.issuertracking_id,\\n\\tun_rin.serialnumber,\\n\\tun_rin.enddeviceeventtypeid,\\n\\tun_rin.valuesinterval,\\n\\tun_rin.aep_premise_nb,\\n\\tun_rin.reason,\\n\\tun_rin.event_type,\\n\\tun_rin.aep_opco,\\n\\tun_rin.aep_event_dt,\\n\\t'10248878' AS OUTG_REC_NB_GPD_FOR_SQL,\\n\\tMP.*\\nFROM meter_events.end_device_event un_rin\\n\\tLEFT JOIN MP ON un_rin.serialnumber=MP.mfr_devc_ser_nbr\\nWHERE un_rin.aep_event_dt BETWEEN '2017-12-02' AND '2018-01-31'\\nAND   CAST(regexp_replace(un_rin.valuesinterval, '([0-9]{4}-[0-9]{2}-[0-9]{2})T([0-9]{2}:[0-9]{2}:[0-9]{2}).*', '$1 $2') AS TIMESTAMP) BETWEEN TIMESTAMP '2017-12-02 02:19:00' AND TIMESTAMP '2018-01-31 04:40:00'\\nAND   un_rin.aep_premise_nb IN ('107998033','108288033','108598033','102398033','105709033','105188033','106309033','107378033')\",)"
   ]
  },
  {
   "cell_type": "code",
   "execution_count": null,
   "id": "1f0b1e8e",
   "metadata": {},
   "outputs": [],
   "source": []
  },
  {
   "cell_type": "code",
   "execution_count": null,
   "id": "6b0a00c8",
   "metadata": {},
   "outputs": [],
   "source": []
  },
  {
   "cell_type": "markdown",
   "id": "4fda26bb",
   "metadata": {},
   "source": [
    "# DEV FOR NO OUTAGE NORMALIZATION"
   ]
  },
  {
   "cell_type": "code",
   "execution_count": null,
   "id": "d26d49e7",
   "metadata": {},
   "outputs": [],
   "source": [
    "# rcpo_df_raw = MECPODf.add_outage_SNs_to_rcpo_df(\n",
    "#     rcpo_df=rcpo_df_raw, \n",
    "#     set_outage_nSNs=True, \n",
    "#     include_outage_premise_nbs=True    \n",
    "# )"
   ]
  },
  {
   "cell_type": "code",
   "execution_count": null,
   "id": "1cccc5e2",
   "metadata": {},
   "outputs": [],
   "source": []
  },
  {
   "cell_type": "code",
   "execution_count": null,
   "id": "5a3ffd2f",
   "metadata": {},
   "outputs": [],
   "source": []
  },
  {
   "cell_type": "code",
   "execution_count": null,
   "id": "67343191",
   "metadata": {},
   "outputs": [],
   "source": []
  },
  {
   "cell_type": "code",
   "execution_count": null,
   "id": "fd21b63a",
   "metadata": {},
   "outputs": [],
   "source": [
    "rcpo_no_outg_df_raw"
   ]
  },
  {
   "cell_type": "code",
   "execution_count": null,
   "id": "9566e3c3",
   "metadata": {},
   "outputs": [],
   "source": []
  },
  {
   "cell_type": "code",
   "execution_count": null,
   "id": "485f36d0",
   "metadata": {},
   "outputs": [],
   "source": [
    "trsf_pole_nbs=rcpo_no_outg_df_raw.index.tolist()[:10]\n",
    "SNs_and_PNs_for_xfmrs = MeterPremise.get_SNs_for_xfmrs(\n",
    "    trsf_pole_nbs=trsf_pole_nbs\n",
    ")"
   ]
  },
  {
   "cell_type": "code",
   "execution_count": null,
   "id": "781f3674",
   "metadata": {},
   "outputs": [],
   "source": [
    "SNs_and_PNs_for_xfmrs"
   ]
  },
  {
   "cell_type": "code",
   "execution_count": null,
   "id": "9b10a799",
   "metadata": {},
   "outputs": [],
   "source": []
  },
  {
   "cell_type": "code",
   "execution_count": null,
   "id": "2d2b6fef",
   "metadata": {},
   "outputs": [],
   "source": []
  },
  {
   "cell_type": "code",
   "execution_count": null,
   "id": "bd3fb3d0",
   "metadata": {},
   "outputs": [],
   "source": []
  },
  {
   "cell_type": "code",
   "execution_count": null,
   "id": "09bfc3c3",
   "metadata": {},
   "outputs": [],
   "source": []
  },
  {
   "cell_type": "code",
   "execution_count": null,
   "id": "e95da50b",
   "metadata": {},
   "outputs": [],
   "source": []
  },
  {
   "cell_type": "code",
   "execution_count": null,
   "id": "7f796bff",
   "metadata": {},
   "outputs": [],
   "source": [
    "# # Build no_outg_time_infos_df, which has prem_nbs indices and t_min, t_max (and possible summary_path) columns\n",
    "# # This is where the time information for each premise number comes from\n",
    "# files_dir_no_outg             = r'C:\\Users\\s346557\\Documents\\LocalData\\dovs_and_end_events_data\\EndEvents_NoOutg'\n",
    "# paths_no_outg = Utilities.find_all_paths(base_dir=files_dir_no_outg, glob_pattern=file_path_glob)\n",
    "\n",
    "# no_outg_time_infos_df = MECPOAn.get_bsln_time_interval_infos_df_from_summary_files(\n",
    "#     summary_paths=[AMIEndEvents.find_summary_file_from_csv(x) for x in paths_no_outg], \n",
    "#     output_prem_nbs_col='prem_nbs', \n",
    "#     output_t_min_col='t_min', \n",
    "#     output_t_max_col='t_max', \n",
    "#     make_prem_nbs_idx=True, \n",
    "#     include_summary_paths=True\n",
    "# )"
   ]
  },
  {
   "cell_type": "code",
   "execution_count": null,
   "id": "bd8b354e",
   "metadata": {},
   "outputs": [],
   "source": [
    "# mp_df_curr_hist_no_outgs = build_mp_df_curr_hist_for_xfmrs(trsf_pole_nbs=rcpo_no_outg_df_raw.index.tolist()[:10])"
   ]
  },
  {
   "cell_type": "code",
   "execution_count": null,
   "id": "ec1dde96",
   "metadata": {},
   "outputs": [],
   "source": [
    "df_mp_curr = mp_df_curr_hist_no_outgs['mp_df_curr']\n",
    "df_mp_hist = mp_df_curr_hist_no_outgs['mp_df_hist']"
   ]
  },
  {
   "cell_type": "code",
   "execution_count": null,
   "id": "7235578b",
   "metadata": {},
   "outputs": [],
   "source": []
  },
  {
   "cell_type": "code",
   "execution_count": null,
   "id": "431a4b78",
   "metadata": {},
   "outputs": [],
   "source": [
    "active_SNs_df = get_active_SNs_for_xfmrs_OLD(\n",
    "    trsf_pole_nbs=rcpo_no_outg_df_raw.index.tolist()[:10], \n",
    "    df_mp_curr=df_mp_curr, \n",
    "    df_mp_hist=df_mp_hist,\n",
    "    no_outg_time_infos_df=no_outg_time_infos_df\n",
    ")"
   ]
  },
  {
   "cell_type": "code",
   "execution_count": null,
   "id": "ac716259",
   "metadata": {},
   "outputs": [],
   "source": [
    "active_SNs_df"
   ]
  },
  {
   "cell_type": "code",
   "execution_count": null,
   "id": "662d120e",
   "metadata": {},
   "outputs": [],
   "source": [
    "active_SNs_df"
   ]
  },
  {
   "cell_type": "code",
   "execution_count": null,
   "id": "54898e55",
   "metadata": {},
   "outputs": [],
   "source": []
  },
  {
   "cell_type": "code",
   "execution_count": null,
   "id": "b4b7d5ec",
   "metadata": {},
   "outputs": [],
   "source": [
    "rcpo_no_outg_df_raw"
   ]
  },
  {
   "cell_type": "code",
   "execution_count": null,
   "id": "543fbb00",
   "metadata": {},
   "outputs": [],
   "source": [
    "test_rcpo_df = rcpo_no_outg_df_raw.iloc[:10].copy()"
   ]
  },
  {
   "cell_type": "code",
   "execution_count": null,
   "id": "d60827af",
   "metadata": {},
   "outputs": [],
   "source": [
    "test_rcpo_df = add_xfmr_active_SNs_to_rcpo_df(\n",
    "    rcpo_df=test_rcpo_df, \n",
    "    set_xfmr_nSNs=True, \n",
    "    include_active_xfmr_PNs=True,\n",
    "    df_mp_curr=df_mp_curr,\n",
    "    df_mp_hist=df_mp_hist, \n",
    "    no_outg_time_infos_df=no_outg_time_infos_df\n",
    ")"
   ]
  },
  {
   "cell_type": "code",
   "execution_count": null,
   "id": "915f7fea",
   "metadata": {},
   "outputs": [],
   "source": [
    "test_rcpo_df"
   ]
  },
  {
   "cell_type": "code",
   "execution_count": null,
   "id": "246a2bc6",
   "metadata": {},
   "outputs": [],
   "source": []
  },
  {
   "cell_type": "code",
   "execution_count": null,
   "id": "03576104",
   "metadata": {},
   "outputs": [],
   "source": [
    "\n",
    "assert('_xfmr_nSNs' in test_rcpo_df.columns)\n",
    "assert('_xfmr_SNs' in test_rcpo_df.columns)\n",
    "test_rcpo_df_2 = build_rcpo_df_norm_by_outg_nSNs_NEW(\n",
    "    rcpo_df_raw=test_rcpo_df, \n",
    "    outg_nSNs_col='_xfmr_nSNs', \n",
    "    outg_SNs_col='_xfmr_SNs', \n",
    "    other_SNs_col_tags_to_ignore=['_SNs', '_nSNs', '_prem_nbs', '_nprem_nbs', '_xfmr_PNs', '_xfmr_nPNs'], \n",
    "    drop_outg_nSNs_eq_0=True, \n",
    "    new_level_0_val='counts_norm_by_xfmr_nSNs', \n",
    "    remove_SNs_cols=False, \n",
    "    df_mp_curr=df_mp_curr,\n",
    "    df_mp_hist=df_mp_hist    \n",
    ")"
   ]
  },
  {
   "cell_type": "code",
   "execution_count": null,
   "id": "2deb127e",
   "metadata": {},
   "outputs": [],
   "source": [
    "test_rcpo_df.head()"
   ]
  },
  {
   "cell_type": "code",
   "execution_count": null,
   "id": "3c73b724",
   "metadata": {},
   "outputs": [],
   "source": [
    "test_rcpo_df_2.head()"
   ]
  },
  {
   "cell_type": "code",
   "execution_count": null,
   "id": "8ac250bf",
   "metadata": {},
   "outputs": [],
   "source": []
  },
  {
   "cell_type": "code",
   "execution_count": null,
   "id": "2b2e875e",
   "metadata": {},
   "outputs": [],
   "source": []
  },
  {
   "cell_type": "code",
   "execution_count": null,
   "id": "f6f9ce0d",
   "metadata": {},
   "outputs": [],
   "source": [
    "# def get_existing_full_rcpo_col(\n",
    "#     col_str, \n",
    "#     rcpo_df, \n",
    "#     max_nlevels=2, \n",
    "#     assert_single_unique_value_for_lower_levels=True\n",
    "# ):\n",
    "#     r\"\"\"\n",
    "#     Returns the full column name for col_str.\n",
    "#     If the columns of rcpo_df are normal Index items, then this simply returns col_str.\n",
    "#     If the columns of rcpo_df are MultiIndex objects, this will return (level_0, col_str)\n",
    "    \n",
    "#     Designed for the case where rcpo_df has at most two levels, and level 0 has a single unique value.\n",
    "#     Will work with DFs having higher order column levels, and will work if lower levels have more than\n",
    "#       one unique value per level.\n",
    "#     HOWEVER!!!!!\n",
    "#       If the lower levels have more than one unique value per level, there can ONLY BE ONE INSTANCE of col_str\n",
    "#       in the highest level.  Otherwise, there would be degeneracy, and it would be uncertain which column was desired\n",
    "#         e.g., consider a DF with columns ('counts', 'Reason_1') and ('counts_norm', 'Reason_1').\n",
    "#                 If col_str='Reason_1', there would be no way of knowing which of these to return!\n",
    "#               However, if instead we had a DF with columns ('counts', 'Reason_1') and ('counts_norm', 'Reason_2'), then\n",
    "#                 there is no ambiguity, and there is also no issue with level 0 having more than one unique value!\n",
    "#     \"\"\"\n",
    "#     #-------------------------\n",
    "#     n_levels = rcpo_df.columns.nlevels\n",
    "#     assert(n_levels<=max_nlevels)\n",
    "#     #-------------------------\n",
    "#     # If only one level, simply return col_str (assuming it is found in rcpo_df.columns!)\n",
    "#     if n_levels==1:\n",
    "#         assert(col_str in rcpo_df.columns)\n",
    "#         return col_str\n",
    "#     #-------------------------\n",
    "#     if assert_single_unique_value_for_lower_levels:\n",
    "#         for i_level in range(n_levels-1):\n",
    "#             assert(rcpo_df.columns.get_level_values(i_level).nunique()==1)\n",
    "#     #-------------------------\n",
    "#     highest_level_col_values = rcpo_df.columns.get_level_values(n_levels-1).tolist()\n",
    "#     assert(col_str in highest_level_col_values)\n",
    "#     #-----\n",
    "#     found_idxs = Utilities.find_tagged_idxs_in_list(highest_level_col_values, [col_str+'_EXACTMATCH'])\n",
    "#     # There can only be one found, otherwise there is ambiguity!\n",
    "#     assert(len(found_idxs)==1)\n",
    "#     return_col = rcpo_df.columns[found_idxs[0]]\n",
    "#     #-------------------------\n",
    "#     return return_col\n",
    "\n",
    "# def build_full_rcpo_col(\n",
    "#     col_str, \n",
    "#     rcpo_df, \n",
    "#     max_nlevels=2\n",
    "# ):\n",
    "#     r\"\"\"\n",
    "#     If the columns of rcpo_df are MultiIndex, this will essentially build a tuple containing the lower level column values\n",
    "#       and ending with col_str.\n",
    "#     This is different from get_existing_full_rcpo_col in that col_str does not need to already exist in rcpo_df.\n",
    "#     However, for this to make sense, when the columns of rcpo_df are MultiIndex, all lower level values\n",
    "#       must contain only a single unique value (otherwise, there is ambiguity in which value should be chosen!)\n",
    "#     \"\"\"\n",
    "#     #-------------------------\n",
    "#     n_levels = rcpo_df.columns.nlevels\n",
    "#     assert(n_levels<=max_nlevels)\n",
    "#     #-------------------------\n",
    "#     return_col = []\n",
    "#     for i_level in range(n_levels-1):\n",
    "#         assert(rcpo_df.columns.get_level_values(i_level).nunique()==1)\n",
    "#         return_col.append(rcpo_df.columns.get_level_values(i_level).unique().tolist()[0])\n",
    "#     return_col.append(col_str)\n",
    "#     #-------------------------\n",
    "#     assert(len(return_col)==n_levels)\n",
    "#     return_col = tuple(return_col)\n",
    "#     return return_col"
   ]
  },
  {
   "cell_type": "code",
   "execution_count": null,
   "id": "751b0aa2",
   "metadata": {},
   "outputs": [],
   "source": []
  },
  {
   "cell_type": "code",
   "execution_count": null,
   "id": "e91dce23",
   "metadata": {},
   "outputs": [],
   "source": [
    "# def build_rcpo_df_norm_by_list_counts(\n",
    "#     rcpo_df_raw, \n",
    "#     n_counts_col='_outg_nSNs', \n",
    "#     list_col='_outg_SNs', \n",
    "#     add_list_col_to_rcpo_df_func=None, \n",
    "#     add_list_col_to_rcpo_df_kwargs={}, \n",
    "#     other_col_tags_to_ignore=['_SNs', '_nSNs', '_prem_nbs', '_nprem_nbs'], \n",
    "#     drop_n_counts_eq_0=True, \n",
    "#     new_level_0_val='counts_norm_by_outg_nSNs', \n",
    "#     remove_ignored_cols=False\n",
    "# ):\n",
    "#     r\"\"\"\n",
    "#     Build rcpo_df normalized by the number of elements in list_col (which are stored in n_counts_col).\n",
    "    \n",
    "#     If n_counts_col exists in rcpo_df_raw, the normalized DF is simply formed by dividing the columns to be\n",
    "#       normalized (see notes below on other_col_tags_to_ignore) by n_counts_col.\n",
    "#     If n_counts_col does not exist:\n",
    "#       If list_col exists in rcpo_df_raw, then n_counts_col is built by simply taking the length of each list\n",
    "#         element in list_col.  The normalization then proceeds simply as described above.\n",
    "#       If list_col does not exist, it will be built using the function add_list_col_to_rcpo_df_func together with the\n",
    "#         function arguments rcpo_df=rcpo_df_norm, **add_list_col_to_rcpo_df_kwargs\n",
    "    \n",
    "#     drop_n_counts_eq_0:\n",
    "#       It is possible for the number of counts to be zero.\n",
    "#       Dividing by zero will make all counts for such an entry equal to NaN or inf.\n",
    "#       When drop_n_counts_eq_0 is True, such entries will be removed.\n",
    "\n",
    "#     NOTE: list_col and n_counts_col should both be strings, not tuples.\n",
    "#           If column is MultiIndex, the level_0 value will be handled below.\n",
    "#     \"\"\"\n",
    "#     #-------------------------\n",
    "#     rcpo_df_norm = rcpo_df_raw.copy()\n",
    "#     #-------------------------\n",
    "#     assert(rcpo_df_norm.columns.nlevels<=2)\n",
    "#     if rcpo_df_norm.columns.nlevels==1:\n",
    "#         reason_level_idx=0\n",
    "#         col_tags_to_ignore = other_col_tags_to_ignore + [n_counts_col+'_EXACTMATCH', list_col+'_EXACTMATCH']\n",
    "#     else:\n",
    "#         # Should only be raw df, so if n_col_levels==2, should only be one unique value in level 0\n",
    "#         assert(rcpo_df_norm.columns.get_level_values(0).nunique()==1)\n",
    "#         level_0_val = rcpo_df_norm.columns.get_level_values(0).unique().tolist()[0]\n",
    "#         #-----\n",
    "#         if isinstance(list_col, str):\n",
    "#             list_col = MECPODf.build_full_rcpo_col(col_str=list_col, rcpo_df=rcpo_df_norm, max_nlevels=2)\n",
    "#         assert(isinstance(list_col,tuple) and len(list_col)==2 and list_col[0]==level_0_val)\n",
    "#         #-----\n",
    "#         if isinstance(n_counts_col, str):\n",
    "#             n_counts_col = MECPODf.build_full_rcpo_col(col_str=n_counts_col, rcpo_df=rcpo_df_norm, max_nlevels=2)\n",
    "#         assert(isinstance(n_counts_col,tuple) and len(n_counts_col)==2 and n_counts_col[0]==level_0_val)\n",
    "#         #---------------\n",
    "#         reason_level_idx=1\n",
    "#         col_tags_to_ignore = other_col_tags_to_ignore + [n_counts_col[1]+'_EXACTMATCH', list_col[1]+'_EXACTMATCH']\n",
    "#     #-------------------------\n",
    "#     # If n_counts_col, which will be used to normalize, is not in rcpo_df_norm, build it\n",
    "#     if n_counts_col not in rcpo_df_norm.columns:\n",
    "#         # If for some reason list_col exists (although n_counts_col doesn't), simply call \n",
    "#         # MECPODf.set_nSNs_from_SNs_in_rcpo_df instead of running full-blown add_list_col_to_rcpo_df_func\n",
    "#         if list_col in rcpo_df_norm.columns:\n",
    "#             rcpo_df_norm = MECPODf.set_nSNs_from_SNs_in_rcpo_df(\n",
    "#                 rcpo_df_wide=rcpo_df_norm, \n",
    "#                 SNs_col=list_col, \n",
    "#                 nSNs_col=n_counts_col\n",
    "#             )\n",
    "#         else:\n",
    "#             # More typical case, where both n_counts_col and list_col are absent from rcpo_df_norm\n",
    "#             assert(add_list_col_to_rcpo_df_func is not None)\n",
    "#             rcpo_df_norm = add_list_col_to_rcpo_df_func(\n",
    "#                 rcpo_df=rcpo_df_norm, \n",
    "#                 **add_list_col_to_rcpo_df_kwargs\n",
    "#             )\n",
    "#     #-------------------------\n",
    "#     # Find the columns to normalize as those not in col_tags_to_ignore\n",
    "#     cols_to_norm_idxs = Utilities.find_untagged_idxs_in_list(\n",
    "#         lst=rcpo_df_norm.columns.get_level_values(reason_level_idx).tolist(), \n",
    "#         tags=col_tags_to_ignore)\n",
    "#     cols_to_norm = rcpo_df_norm.columns[cols_to_norm_idxs]\n",
    "#     norm_col = n_counts_col\n",
    "#     #-----\n",
    "#     # Casting columns as np.float64 allows the operation of dividing by zero (should result in NaN (or inf in some instances))\n",
    "#     # This will happen when no SNs are found for an outage \n",
    "#     #   NOTE: premise numbers are always found, but the meter_premise database does not always contain the premise number\n",
    "#     rcpo_df_norm = Utilities_df.convert_col_types(\n",
    "#         df=rcpo_df_norm, \n",
    "#         cols_and_types_dict = {x:np.float64 for x in cols_to_norm.tolist()+[norm_col]}, \n",
    "#         to_numeric_errors='coerce', \n",
    "#         inplace=True\n",
    "#     )\n",
    "#     #-----\n",
    "#     rcpo_df_norm[cols_to_norm] = rcpo_df_norm[cols_to_norm].divide(rcpo_df_norm[norm_col], axis=0)\n",
    "#     #-------------------------\n",
    "#     if drop_n_counts_eq_0:\n",
    "#         rcpo_df_norm = rcpo_df_norm.drop(index=rcpo_df_norm[rcpo_df_norm[n_counts_col]==0].index)\n",
    "#     #-------------------------\n",
    "#     if rcpo_df_norm.columns.nlevels==2:\n",
    "#         rcpo_df_norm.columns = rcpo_df_norm.columns.set_levels([new_level_0_val], level=0)\n",
    "#     #-------------------------\n",
    "#     if remove_ignored_cols:\n",
    "#         rcpo_df_norm = MECPODf.remove_SNs_cols_from_rcpo_df(\n",
    "#             rcpo_df=rcpo_df_norm, \n",
    "#             SNs_tags=col_tags_to_ignore, \n",
    "#             is_long=False\n",
    "#         )\n",
    "#     #-------------------------\n",
    "#     return rcpo_df_norm"
   ]
  },
  {
   "cell_type": "code",
   "execution_count": null,
   "id": "81b89231",
   "metadata": {},
   "outputs": [],
   "source": [
    "# def build_rcpo_df_norm_by_outg_nSNs_2(\n",
    "#     rcpo_df_raw, \n",
    "#     outg_nSNs_col='_outg_nSNs', \n",
    "#     outg_SNs_col='_outg_SNs', \n",
    "#     other_SNs_col_tags_to_ignore=['_SNs', '_nSNs', '_prem_nbs', '_nprem_nbs'], \n",
    "#     drop_outg_nSNs_eq_0=True, \n",
    "#     new_level_0_val='counts_norm_by_outg_nSNs', \n",
    "#     remove_SNs_cols=False\n",
    "# ):\n",
    "#     r\"\"\"\n",
    "#     Build rcpo_df normalized by the number of serial numbers in each outage\n",
    "\n",
    "#     drop_outg_nSNs_eq_0:\n",
    "#       It is possible for the number of serial numbers in an outage to be zero!\n",
    "#       Premise numbers are always found, but the meter_premise database does not always \n",
    "#         contain the premise numbers.\n",
    "#       Dividing by zero will make all counts for such an entry equal to NaN or inf.\n",
    "#       When drop_outg_nSNs_eq_0 is True, such entries will be removed.\n",
    "\n",
    "#     NOTE: outg_SNs_col and outg_nSNs_col should both be strings, not tuples.\n",
    "#           If column is multiindex, the level_0 value will be handled below.\n",
    "#     \"\"\"\n",
    "#     #-------------------------\n",
    "#     n_counts_col = outg_nSNs_col\n",
    "#     list_col = outg_SNs_col\n",
    "#     #-------------------------\n",
    "#     # NOTE: MECPODf.add_outage_SNs_to_rcpo_df expects outg_SNs_col and outg_nSNs_col to be strings, not tuples\n",
    "#     #       as it handles the level 0 values if they exist.  So, if tuples, use only highest level values (i.e., level 1)\n",
    "#     assert(Utilities.is_object_one_of_types(list_col, [str, tuple]))\n",
    "#     assert(Utilities.is_object_one_of_types(n_counts_col, [str, tuple]))\n",
    "#     #-----\n",
    "#     add_list_col_to_rcpo_df_func = MECPODf.add_outage_SNs_to_rcpo_df\n",
    "#     add_list_col_to_rcpo_df_kwargs = dict(\n",
    "#         set_outage_nSNs=True, \n",
    "#         include_outage_premise_nbs=False, \n",
    "#         outg_SNs_col =(outg_SNs_col  if isinstance(outg_SNs_col, str)  else outg_SNs_col[1]), \n",
    "#         outg_nSNs_col=(outg_nSNs_col if isinstance(outg_nSNs_col, str) else outg_nSNs_col[1])\n",
    "#     )\n",
    "#     #-------------------------\n",
    "#     other_col_tags_to_ignore = other_SNs_col_tags_to_ignore\n",
    "#     drop_n_counts_eq_0 = drop_outg_nSNs_eq_0\n",
    "#     new_level_0_val = new_level_0_val\n",
    "#     remove_ignored_cols = remove_SNs_cols\n",
    "#     #-------------------------\n",
    "#     return MECPODf.build_rcpo_df_norm_by_list_counts(\n",
    "#         rcpo_df_raw=rcpo_df_raw, \n",
    "#         n_counts_col=n_counts_col, \n",
    "#         list_col=list_col, \n",
    "#         add_list_col_to_rcpo_df_func=add_list_col_to_rcpo_df_func, \n",
    "#         add_list_col_to_rcpo_df_kwargs=add_list_col_to_rcpo_df_kwargs, \n",
    "#         other_col_tags_to_ignore=other_col_tags_to_ignore, \n",
    "#         drop_n_counts_eq_0=drop_n_counts_eq_0, \n",
    "#         new_level_0_val=new_level_0_val, \n",
    "#         remove_ignored_cols=remove_ignored_cols\n",
    "#     )"
   ]
  },
  {
   "cell_type": "code",
   "execution_count": null,
   "id": "5f3fe403",
   "metadata": {},
   "outputs": [],
   "source": [
    "# def build_rcpo_df_norm_by_outg_active_nSNs(\n",
    "#     rcpo_df_raw, \n",
    "#     outg_nSNs_col='_outg_nSNs', \n",
    "#     outg_SNs_col='_outg_SNs', \n",
    "#     other_SNs_col_tags_to_ignore=['_SNs', '_nSNs', '_prem_nbs', '_nprem_nbs'], \n",
    "#     drop_outg_nSNs_eq_0=True, \n",
    "#     new_level_0_val='counts_norm_by_outg_nSNs', \n",
    "#     remove_SNs_cols=False, \n",
    "#     df_mp_curr=None,\n",
    "#     df_mp_hist=None\n",
    "# ):\n",
    "#     r\"\"\"\n",
    "#     Build rcpo_df normalized by the number of serial numbers in each outage\n",
    "\n",
    "#     drop_outg_nSNs_eq_0:\n",
    "#       It is possible for the number of serial numbers in an outage to be zero!\n",
    "#       Premise numbers are always found, but the meter_premise database does not always \n",
    "#         contain the premise numbers.\n",
    "#       Dividing by zero will make all counts for such an entry equal to NaN or inf.\n",
    "#       When drop_outg_nSNs_eq_0 is True, such entries will be removed.\n",
    "\n",
    "#     NOTE: outg_SNs_col and outg_nSNs_col should both be strings, not tuples.\n",
    "#           If column is multiindex, the level_0 value will be handled below.\n",
    "#     \"\"\"\n",
    "#     #-------------------------\n",
    "#     n_counts_col = outg_nSNs_col\n",
    "#     list_col = outg_SNs_col\n",
    "#     #-------------------------\n",
    "#     # NOTE: MECPODf.add_outage_SNs_to_rcpo_df expects outg_SNs_col and outg_nSNs_col to be strings, not tuples\n",
    "#     #       as it handles the level 0 values if they exist.  So, if tuples, use only highest level values (i.e., level 1)\n",
    "#     assert(Utilities.is_object_one_of_types(list_col, [str, tuple]))\n",
    "#     assert(Utilities.is_object_one_of_types(n_counts_col, [str, tuple]))\n",
    "#     #-----\n",
    "#     add_list_col_to_rcpo_df_func = MECPODf.add_outage_active_SNs_to_rcpo_df\n",
    "#     add_list_col_to_rcpo_df_kwargs = dict(\n",
    "#         set_outage_nSNs=True, \n",
    "#         include_outage_premise_nbs=False, \n",
    "#         outg_SNs_col =(outg_SNs_col  if isinstance(outg_SNs_col, str)  else outg_SNs_col[1]), \n",
    "#         outg_nSNs_col=(outg_nSNs_col if isinstance(outg_nSNs_col, str) else outg_nSNs_col[1]), \n",
    "#         df_mp_curr=df_mp_curr, \n",
    "#         df_mp_hist=df_mp_hist\n",
    "#     )\n",
    "#     #-------------------------\n",
    "#     other_col_tags_to_ignore = other_SNs_col_tags_to_ignore\n",
    "#     drop_n_counts_eq_0 = drop_outg_nSNs_eq_0\n",
    "#     new_level_0_val = new_level_0_val\n",
    "#     remove_ignored_cols = remove_SNs_cols\n",
    "#     #-------------------------\n",
    "#     return MECPODf.build_rcpo_df_norm_by_list_counts(\n",
    "#         rcpo_df_raw=rcpo_df_raw, \n",
    "#         n_counts_col=n_counts_col, \n",
    "#         list_col=list_col, \n",
    "#         add_list_col_to_rcpo_df_func=add_list_col_to_rcpo_df_func, \n",
    "#         add_list_col_to_rcpo_df_kwargs=add_list_col_to_rcpo_df_kwargs, \n",
    "#         other_col_tags_to_ignore=other_col_tags_to_ignore, \n",
    "#         drop_n_counts_eq_0=drop_n_counts_eq_0, \n",
    "#         new_level_0_val=new_level_0_val, \n",
    "#         remove_ignored_cols=remove_ignored_cols\n",
    "#     )"
   ]
  },
  {
   "cell_type": "code",
   "execution_count": null,
   "id": "10427257",
   "metadata": {},
   "outputs": [],
   "source": []
  },
  {
   "cell_type": "code",
   "execution_count": null,
   "id": "ae0fd2b2",
   "metadata": {},
   "outputs": [],
   "source": []
  },
  {
   "cell_type": "code",
   "execution_count": null,
   "id": "3560024f",
   "metadata": {},
   "outputs": [],
   "source": [
    "# def build_rcpo_df_norm_by_prim_nSNs_2(\n",
    "#     rcpo_df_raw, \n",
    "#     direct_SNs_in_outgs_df=None, \n",
    "#     outg_rec_nb_col='index', \n",
    "#     prim_nSNs_col='_prim_nSNs', \n",
    "#     prim_SNs_col='_prim_SNs', \n",
    "#     other_SNs_col_tags_to_ignore=['_SNs', '_nSNs', '_prem_nbs', '_nprem_nbs'], \n",
    "#     drop_prim_nSNs_eq_0=True, \n",
    "#     new_level_0_val='counts_norm_by_prim_nSNs', \n",
    "#     remove_SNs_cols=False, \n",
    "#     build_direct_SNs_in_outgs_df_kwargs={}\n",
    "# ):\n",
    "#     r\"\"\"\n",
    "#     Build rcpo_df normalized by the number of primary serial numbers in each outage\n",
    "\n",
    "#     drop_prim_nSNs_eq_0:\n",
    "#       It is possible for the number of serial numbers in an outage to be zero!\n",
    "#       Premise numbers are always found, but the meter_premise database does not always \n",
    "#         contain the premise numbers.\n",
    "#       Dividing by zero will make all counts for such an entry equal to NaN or inf.\n",
    "#       When drop_prim_nSNs_eq_0 is True, such entries will be removed.\n",
    "\n",
    "#     NOTE: prim_SNs_col and prim_nSNs_col should both be strings, not tuples.\n",
    "#           If column is multiindex, the level_0 value will be handled below.\n",
    "#     \"\"\"\n",
    "#     #-------------------------\n",
    "#     n_counts_col = prim_nSNs_col\n",
    "#     list_col = prim_SNs_col\n",
    "#     #-------------------------\n",
    "#     add_list_col_to_rcpo_df_func = MECPODf.add_prim_SNs_to_rcpo_df\n",
    "#     add_list_col_to_rcpo_df_kwargs = dict(\n",
    "#         direct_SNs_in_outgs_df=direct_SNs_in_outgs_df, \n",
    "#         outg_rec_nb_col=outg_rec_nb_col, \n",
    "#         prim_SNs_col='direct_serial_numbers', \n",
    "#         set_prim_nSNs=True, \n",
    "#         sort_SNs=True, \n",
    "#         build_direct_SNs_in_outgs_df_kwargs=build_direct_SNs_in_outgs_df_kwargs, \n",
    "#         placement_prim_SNs_col=prim_SNs_col, \n",
    "#         placement_prim_nSNs_col=prim_nSNs_col\n",
    "#     )\n",
    "#     #-------------------------\n",
    "#     other_col_tags_to_ignore = other_SNs_col_tags_to_ignore\n",
    "#     drop_n_counts_eq_0 = drop_prim_nSNs_eq_0\n",
    "#     new_level_0_val = new_level_0_val\n",
    "#     remove_ignored_cols = remove_SNs_cols\n",
    "#     #-------------------------\n",
    "#     return MECPODf.build_rcpo_df_norm_by_list_counts(\n",
    "#         rcpo_df_raw=rcpo_df_raw, \n",
    "#         n_counts_col=n_counts_col, \n",
    "#         list_col=list_col, \n",
    "#         add_list_col_to_rcpo_df_func=add_list_col_to_rcpo_df_func, \n",
    "#         add_list_col_to_rcpo_df_kwargs=add_list_col_to_rcpo_df_kwargs, \n",
    "#         other_col_tags_to_ignore=other_col_tags_to_ignore, \n",
    "#         drop_n_counts_eq_0=drop_n_counts_eq_0, \n",
    "#         new_level_0_val=new_level_0_val, \n",
    "#         remove_ignored_cols=remove_ignored_cols\n",
    "#     )"
   ]
  },
  {
   "cell_type": "code",
   "execution_count": null,
   "id": "aeb3e05c",
   "metadata": {},
   "outputs": [],
   "source": [
    "# def build_rcpo_df_norm_by_prim_active_nSNs(\n",
    "#     rcpo_df_raw, \n",
    "#     direct_SNs_in_outgs_df=None, \n",
    "#     outg_rec_nb_col='index', \n",
    "#     prim_nSNs_col='_prim_nSNs', \n",
    "#     prim_SNs_col='_prim_SNs', \n",
    "#     other_SNs_col_tags_to_ignore=['_SNs', '_nSNs', '_prem_nbs', '_nprem_nbs'], \n",
    "#     drop_prim_nSNs_eq_0=True, \n",
    "#     new_level_0_val='counts_norm_by_prim_nSNs', \n",
    "#     remove_SNs_cols=False, \n",
    "#     build_direct_SNs_in_outgs_df_kwargs={}, \n",
    "#     df_mp_curr=None,\n",
    "#     df_mp_hist=None\n",
    "# ):\n",
    "#     r\"\"\"\n",
    "#     Build rcpo_df normalized by the number of primary serial numbers in each outage\n",
    "\n",
    "#     drop_prim_nSNs_eq_0:\n",
    "#       It is possible for the number of serial numbers in an outage to be zero!\n",
    "#       Premise numbers are always found, but the meter_premise database does not always \n",
    "#         contain the premise numbers.\n",
    "#       Dividing by zero will make all counts for such an entry equal to NaN or inf.\n",
    "#       When drop_prim_nSNs_eq_0 is True, such entries will be removed.\n",
    "\n",
    "#     NOTE: prim_SNs_col and prim_nSNs_col should both be strings, not tuples.\n",
    "#           If column is multiindex, the level_0 value will be handled below.\n",
    "#     \"\"\"\n",
    "#     #-------------------------\n",
    "#     n_counts_col = prim_nSNs_col\n",
    "#     list_col = prim_SNs_col\n",
    "#     #-------------------------\n",
    "#     add_list_col_to_rcpo_df_func = MECPODf.add_active_prim_SNs_to_rcpo_df\n",
    "#     add_list_col_to_rcpo_df_kwargs = dict(\n",
    "#         direct_SNs_in_outgs_df=direct_SNs_in_outgs_df, \n",
    "#         outg_rec_nb_col=outg_rec_nb_col, \n",
    "#         prim_SNs_col='direct_serial_numbers', \n",
    "#         set_prim_nSNs=True, \n",
    "#         sort_SNs=True, \n",
    "#         build_direct_SNs_in_outgs_df_kwargs=build_direct_SNs_in_outgs_df_kwargs, \n",
    "#         placement_prim_SNs_col=prim_SNs_col, \n",
    "#         placement_prim_nSNs_col=prim_nSNs_col, \n",
    "#         df_mp_curr=df_mp_curr, \n",
    "#         df_mp_hist=df_mp_hist\n",
    "#     )\n",
    "#     #-------------------------\n",
    "#     other_col_tags_to_ignore = other_SNs_col_tags_to_ignore\n",
    "#     drop_n_counts_eq_0 = drop_prim_nSNs_eq_0\n",
    "#     new_level_0_val = new_level_0_val\n",
    "#     remove_ignored_cols = remove_SNs_cols\n",
    "#     #-------------------------\n",
    "#     return MECPODf.build_rcpo_df_norm_by_list_counts(\n",
    "#         rcpo_df_raw=rcpo_df_raw, \n",
    "#         n_counts_col=n_counts_col, \n",
    "#         list_col=list_col, \n",
    "#         add_list_col_to_rcpo_df_func=add_list_col_to_rcpo_df_func, \n",
    "#         add_list_col_to_rcpo_df_kwargs=add_list_col_to_rcpo_df_kwargs, \n",
    "#         other_col_tags_to_ignore=other_col_tags_to_ignore, \n",
    "#         drop_n_counts_eq_0=drop_n_counts_eq_0, \n",
    "#         new_level_0_val=new_level_0_val, \n",
    "#         remove_ignored_cols=remove_ignored_cols\n",
    "#     )"
   ]
  },
  {
   "cell_type": "code",
   "execution_count": null,
   "id": "73689835",
   "metadata": {},
   "outputs": [],
   "source": []
  },
  {
   "cell_type": "code",
   "execution_count": null,
   "id": "a8267fb2",
   "metadata": {},
   "outputs": [],
   "source": []
  },
  {
   "cell_type": "code",
   "execution_count": null,
   "id": "4a1d8d1c",
   "metadata": {},
   "outputs": [],
   "source": [
    "df = pd.read_pickle(r'C:\\Users\\s346557\\Documents\\LocalData\\dovs_and_end_events_data\\rcpo_dfs_NEW\\outg_td_window_1_to_5_days\\rcpo_df_OG.pkl')"
   ]
  },
  {
   "cell_type": "code",
   "execution_count": null,
   "id": "d6a8b48d",
   "metadata": {},
   "outputs": [],
   "source": [
    "df = df.iloc[:100].copy()"
   ]
  },
  {
   "cell_type": "code",
   "execution_count": null,
   "id": "befdf8a0",
   "metadata": {},
   "outputs": [],
   "source": [
    "rcpo_df_raw_1  = MECPODf.project_level_0_columns_from_rcpo_wide(df, 'counts', droplevel=False)\n",
    "rcpo_df_raw_2  = MECPODf.project_level_0_columns_from_rcpo_wide(df, 'counts', droplevel=True)"
   ]
  },
  {
   "cell_type": "code",
   "execution_count": null,
   "id": "d03fddf9",
   "metadata": {},
   "outputs": [],
   "source": [
    "start = time.time()\n",
    "rcpo_df_raw_1 = MECPODf.build_rcpo_df_norm_by_outg_nSNs(rcpo_df_raw_1)\n",
    "print(time.time()-start)"
   ]
  },
  {
   "cell_type": "code",
   "execution_count": null,
   "id": "cb26459b",
   "metadata": {},
   "outputs": [],
   "source": [
    "start = time.time()\n",
    "rcpo_df_raw_2 = build_rcpo_df_norm_by_outg_nSNs_2(rcpo_df_raw_2)\n",
    "print(time.time()-start)"
   ]
  },
  {
   "cell_type": "code",
   "execution_count": null,
   "id": "7e41084b",
   "metadata": {},
   "outputs": [],
   "source": [
    "rcpo_df_raw_1.droplevel(0, axis=1).equals(rcpo_df_raw_2)"
   ]
  },
  {
   "cell_type": "code",
   "execution_count": null,
   "id": "b28c6a6f",
   "metadata": {},
   "outputs": [],
   "source": [
    "start = time.time()\n",
    "rcpo_df_raw_1 = MECPODf.build_rcpo_df_norm_by_prim_nSNs(rcpo_df_raw_1)\n",
    "print(time.time()-start)"
   ]
  },
  {
   "cell_type": "code",
   "execution_count": null,
   "id": "5ae424cc",
   "metadata": {},
   "outputs": [],
   "source": [
    "start = time.time()\n",
    "rcpo_df_raw_2 = build_rcpo_df_norm_by_prim_nSNs_2(rcpo_df_raw_2)\n",
    "print(time.time()-start)"
   ]
  },
  {
   "cell_type": "code",
   "execution_count": null,
   "id": "f3d1d282",
   "metadata": {},
   "outputs": [],
   "source": [
    "rcpo_df_raw_1.droplevel(0, axis=1).equals(rcpo_df_raw_2)"
   ]
  },
  {
   "cell_type": "code",
   "execution_count": null,
   "id": "fb4a9862",
   "metadata": {},
   "outputs": [],
   "source": []
  },
  {
   "cell_type": "code",
   "execution_count": null,
   "id": "4c12c4f2",
   "metadata": {},
   "outputs": [],
   "source": []
  },
  {
   "cell_type": "code",
   "execution_count": null,
   "id": "49205392",
   "metadata": {},
   "outputs": [],
   "source": []
  }
 ],
 "metadata": {
  "kernelspec": {
   "display_name": "Python 3 (ipykernel)",
   "language": "python",
   "name": "python3"
  },
  "language_info": {
   "codemirror_mode": {
    "name": "ipython",
    "version": 3
   },
   "file_extension": ".py",
   "mimetype": "text/x-python",
   "name": "python",
   "nbconvert_exporter": "python",
   "pygments_lexer": "ipython3",
   "version": "3.11.7"
  }
 },
 "nbformat": 4,
 "nbformat_minor": 5
}
