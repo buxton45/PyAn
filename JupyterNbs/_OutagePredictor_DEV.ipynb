{
 "cells": [
  {
   "cell_type": "markdown",
   "id": "c922b08c-c6d4-4565-a719-55a6090f8134",
   "metadata": {},
   "source": [
    "### %run ./model_end_events_for_outages_METHODS.ipynb"
   ]
  },
  {
   "cell_type": "code",
   "execution_count": 2,
   "id": "e9764e04",
   "metadata": {},
   "outputs": [],
   "source": [
    "from importlib import reload\n",
    "#---------------------------------------------------------------------\n",
    "import sys, os\n",
    "import re\n",
    "from pathlib import Path\n",
    "import json\n",
    "import pickle\n",
    "import joblib\n",
    "\n",
    "import pandas as pd\n",
    "import numpy as np\n",
    "from pandas.api.types import is_numeric_dtype, is_datetime64_dtype, is_timedelta64_dtype\n",
    "from scipy import stats\n",
    "import datetime\n",
    "import time\n",
    "from natsort import natsorted, ns, natsort_keygen\n",
    "from packaging import version\n",
    "from sklearn.metrics import precision_recall_curve\n",
    "\n",
    "import copy\n",
    "import itertools\n",
    "import adjustText\n",
    "\n",
    "import pyodbc\n",
    "#---------------------------------------------------------------------\n",
    "import matplotlib as mpl\n",
    "import matplotlib.pyplot as plt\n",
    "import seaborn as sns\n",
    "from matplotlib.backends.backend_pdf import PdfPages\n",
    "import matplotlib.patches as mpatches\n",
    "from matplotlib.lines import Line2D\n",
    "import matplotlib.ticker as ticker\n",
    "from matplotlib import dates\n",
    "import matplotlib.colors as mcolors\n",
    "import matplotlib.cm as cm #e.g. for cmap=cm.jet\n",
    "#---------------------------------------------------------------------\n",
    "sys.path.insert(0, os.path.realpath('..'))\n",
    "import Utilities_config\n",
    "#-----\n",
    "from MeterPremise import MeterPremise\n",
    "from EEMSP import EEMSP\n",
    "#-----\n",
    "from AMI_SQL import AMI_SQL\n",
    "from AMINonVee_SQL import AMINonVee_SQL\n",
    "from AMIEndEvents_SQL import AMIEndEvents_SQL\n",
    "from AMIUsgInst_SQL import AMIUsgInst_SQL\n",
    "from DOVSOutages_SQL import DOVSOutages_SQL\n",
    "#-----\n",
    "from GenAn import GenAn\n",
    "from AMINonVee import AMINonVee\n",
    "from AMIEndEvents import AMIEndEvents\n",
    "from MECPODf import MECPODf\n",
    "from MECPOAn import MECPOAn\n",
    "from AMIUsgInst import AMIUsgInst\n",
    "from DOVSOutages import DOVSOutages\n",
    "from OutagePredictor import OutagePredictor\n",
    "#---------------------------------------------------------------------\n",
    "sys.path.insert(0, Utilities_config.get_sql_aids_dir())\n",
    "import Utilities_sql\n",
    "import TableInfos\n",
    "from TableInfos import TableInfo\n",
    "from SQLElement import SQLElement\n",
    "from SQLElementsCollection import SQLElementsCollection\n",
    "from SQLSelect import SQLSelectElement, SQLSelect\n",
    "from SQLFrom import SQLFrom\n",
    "from SQLWhere import SQLWhereElement, CombinedSQLWhereElements, SQLWhere\n",
    "from SQLJoin import SQLJoin, SQLJoinCollection\n",
    "from SQLGroupBy import SQLGroupByElement, SQLGroupBy\n",
    "from SQLHaving import SQLHaving\n",
    "from SQLOrderBy import SQLOrderByElement, SQLOrderBy\n",
    "from SQLQuery import SQLQuery\n",
    "from SQLQueryGeneric import SQLQueryGeneric\n",
    "#---------------------------------------------------------------------\n",
    "#sys.path.insert(0, os.path.join(os.path.realpath('..'), 'Utilities'))\n",
    "sys.path.insert(0, Utilities_config.get_utilities_dir())\n",
    "import Utilities\n",
    "import Utilities_df\n",
    "from Utilities_df import DFConstructType\n",
    "import Utilities_dt\n",
    "import Plot_General\n",
    "import Plot_Box_sns\n",
    "import Plot_Hist\n",
    "import Plot_Bar\n",
    "import GrubbsTest\n",
    "import DataFrameSubsetSlicer\n",
    "from DataFrameSubsetSlicer import DataFrameSubsetSlicer as DFSlicer\n",
    "#---------------------------------------------------------------------"
   ]
  },
  {
   "cell_type": "code",
   "execution_count": null,
   "id": "f64f9b5d",
   "metadata": {},
   "outputs": [],
   "source": []
  },
  {
   "cell_type": "code",
   "execution_count": 3,
   "id": "376e767d-545f-47f4-992b-c90699a67282",
   "metadata": {},
   "outputs": [],
   "source": [
    "def plot_pred_probs_for_trsf_i(\n",
    "    fig_num            , \n",
    "    trsf_pole_nb_i     , \n",
    "    y_prob1_by_date_df , \n",
    "    dovs_df            , \n",
    "    trsf_pole_nb_col   = 'trsf_pole_nb', \n",
    "    outg_rec_nb_col    = 'OUTG_REC_NB', \n",
    "    dt_off_ts_full_col = 'DT_OFF_TS_FULL', \n",
    "    plot_maxima        = False, \n",
    "    maxima_colors      = ['green', 'lawngreen']\n",
    "):\n",
    "    r\"\"\"\n",
    "    dovs_df:\n",
    "        Must be merged with MeterPremise so that it contains trsf_pole_nb_col\n",
    "    \"\"\"\n",
    "    #-------------------------\n",
    "    fig,ax = Plot_General.default_subplots(fig_num=fig_num)\n",
    "    #-------------------------\n",
    "    y_prob1_by_date_df.loc[trsf_pole_nb_i].T.plot.line(ax=ax)\n",
    "    ax.axhline(0.5, color='cyan')\n",
    "    #-------------------------\n",
    "    dovs_df_i = dovs_df[dovs_df[trsf_pole_nb_col]==trsf_pole_nb_i][[outg_rec_nb_col, dt_off_ts_full_col]].drop_duplicates()\n",
    "    if dovs_df_i.shape[0]>0:\n",
    "        for idx_ij in range(dovs_df_i.shape[0]):\n",
    "            dt_off_ts_full_ij = dovs_df_i.iloc[idx_ij][dt_off_ts_full_col]\n",
    "            ax.axvline(dt_off_ts_full_ij, color='red', lw=5, alpha=0.5)\n",
    "    ax.set_title(f'trsf_pole_nb = {trsf_pole_nb_i}')\n",
    "    #-------------------------\n",
    "    ax.set_ylim(0,1);\n",
    "    #-------------------------\n",
    "    if plot_maxima:\n",
    "        idx_max_i = y_prob1_by_date_df.loc[trsf_pole_nb_i].idxmax()\n",
    "        ax.axvline(idx_max_i, color=maxima_colors[0])\n",
    "        if(\n",
    "            idx_max_i > dovs_df_i[dt_off_ts_full_col].max() and\n",
    "            y_prob1_by_date_df.loc[trsf_pole_nb_i].index[0] < dovs_df_i[dt_off_ts_full_col].max() #Make sure there are actually data to grab\n",
    "        ):\n",
    "            idx_max_i = y_prob1_by_date_df.loc[trsf_pole_nb_i][:dovs_df_i[dt_off_ts_full_col].max()].idxmax()\n",
    "            ax.axvline(idx_max_i, color=maxima_colors[1])\n",
    "    #-------------------------\n",
    "    if dovs_df_i[dt_off_ts_full_col].min() < y_prob1_by_date_df.loc[trsf_pole_nb_i].index[0]:\n",
    "        ax.set_xlim(left=dovs_df_i[dt_off_ts_full_col].min()-pd.Timedelta('1D'))    \n",
    "    #-------------------------\n",
    "    return fig,ax"
   ]
  },
  {
   "cell_type": "code",
   "execution_count": null,
   "id": "da08bca5-3fd4-45f9-9504-ea998017d153",
   "metadata": {},
   "outputs": [],
   "source": []
  },
  {
   "cell_type": "code",
   "execution_count": 4,
   "id": "1a629540-41c4-46f7-9b2b-76345820b640",
   "metadata": {},
   "outputs": [],
   "source": [
    "def plot_precision_recall_vs_threshold(precisions, recalls, thresholds, x_min=None, x_max=None):\n",
    "    plt.plot(thresholds, precisions[:-1], 'b--', label='Precision')\n",
    "    plt.plot(thresholds, recalls[:-1], 'g-', label='Recall')\n",
    "    plt.xlim(x_min,x_max)\n",
    "    plt.legend()\n",
    "    \n",
    "    \n",
    "def plot_roc_curve(fpr, tpr, label=None):\n",
    "    plt.plot(fpr, tpr, linewidth=2, label=label)\n",
    "    plt.plot([0,1], [0,1], 'k--') # Dashed diagonal"
   ]
  },
  {
   "cell_type": "code",
   "execution_count": null,
   "id": "281e4dbd-cb80-4477-b7fb-f071829faffc",
   "metadata": {},
   "outputs": [],
   "source": []
  },
  {
   "cell_type": "code",
   "execution_count": 5,
   "id": "22b35735-5647-4b29-9aca-fedd882482e5",
   "metadata": {},
   "outputs": [],
   "source": [
    "#----------------------------------------------------------------------------------------------------\n",
    "def find_longest_consec_len_in_bool_srs(\n",
    "    bool_srs\n",
    "):\n",
    "    r\"\"\"\n",
    "    Given a pd.Series, srs, comprised of boolean values, determine the longest streak of consecutive True values.\n",
    "    Assumption is that bool_srs has been sorted to fit needs before being fit into this function.\n",
    "    \"\"\"\n",
    "    #-------------------------\n",
    "    assert(bool_srs.dtype==bool)\n",
    "    #-------------------------\n",
    "    longest = 0\n",
    "    streak = 0\n",
    "    for idx_i, bool_i in bool_srs.items():\n",
    "        if bool_i==True:\n",
    "            streak += 1\n",
    "        else:\n",
    "            longest = max(longest, streak)\n",
    "            streak = 0\n",
    "    # Make sure the last streak isn't ignored if series ends with True\n",
    "    longest = max(longest, streak)\n",
    "    #-------------------------\n",
    "    return longest\n",
    "\n",
    "def find_longest_consec_idxs_in_bool_srs(\n",
    "    bool_srs, \n",
    "    return_ilocs=False, \n",
    "    return_len=False\n",
    "):\n",
    "    r\"\"\"\n",
    "    Given a pd.Series, srs, comprised of boolean values, determine the longest streak of consecutive True values and return the indices.\n",
    "    Returns:\n",
    "        A pair of indices representing the beginning and ending of the True block\n",
    "        The returned indices are INCLUSIVE, meaning bool_srs.loc[return_idxs[0]]==True and bool_srs.loc[return_idxs[1]]==True\n",
    "        \n",
    "    return_ilocs:\n",
    "        If True, instead of returning the values in bool_srs.index, return integers between 0 and bool_srs.shape[0]-1\n",
    "        \n",
    "    return_len:\n",
    "        If True, also return the length of the block, in integer form\n",
    "    \n",
    "    Assumption is that bool_srs has been sorted to fit needs before being fit into this function.\n",
    "    \"\"\"\n",
    "    #-------------------------\n",
    "    assert(bool_srs.dtype==bool)\n",
    "    #-------------------------\n",
    "    longest = 0\n",
    "    streak = 0\n",
    "    #-----\n",
    "    locs = [np.nan, np.nan]\n",
    "    curr_beg_loc = bool_srs.index[0]\n",
    "    #-----\n",
    "    ilocs = [np.nan, np.nan]\n",
    "    curr_beg_iloc = 0\n",
    "    #-------------------------\n",
    "    for i in range(bool_srs.shape[0]):\n",
    "        idx_i  = bool_srs.index[i]\n",
    "        bool_i = bool_srs.iloc[i]\n",
    "        #-----\n",
    "        if bool_i==True:\n",
    "            streak += 1\n",
    "        else:\n",
    "            if streak >= longest:\n",
    "                longest = streak\n",
    "                locs  = [curr_beg_loc,  idx_i]\n",
    "                ilocs = [curr_beg_iloc, i]\n",
    "            #-----\n",
    "            streak = 0\n",
    "            if i < bool_srs.shape[0]-1:\n",
    "                curr_beg_loc  = bool_srs.index[i+1]\n",
    "                curr_beg_iloc = i+1\n",
    "    # Make sure the last streak isn't ignored if series ends with True\n",
    "    if streak >= longest:\n",
    "        longest = streak\n",
    "        locs  = [curr_beg_loc, idx_i]\n",
    "        ilocs = [curr_beg_iloc, bool_srs.shape[0]-1] \n",
    "    #-------------------------\n",
    "    return_idxs = locs\n",
    "    if return_ilocs:\n",
    "        return_idxs = ilocs\n",
    "    #-------------------------\n",
    "    if return_len:\n",
    "        return return_idxs, longest\n",
    "    else:\n",
    "        return return_idxs\n",
    "\n",
    "\n",
    "#----------------------------------------------------------------------------------------------------\n",
    "def get_prob1_i_stats_preceding_date(\n",
    "    y_prob1_i, \n",
    "    date, \n",
    "    pd_len=pd.Timedelta('7D'),\n",
    "    exclude_day_of=True, \n",
    "    threshold=0.5, \n",
    "    return_series=True, \n",
    "    cols_to_drop=None\n",
    "):\n",
    "    r\"\"\"\n",
    "    Return information regarding the probability prediction in the period of length pd_len preceding date\n",
    "    \n",
    "    date:\n",
    "        If not supplied, will be randomly selected from y_prob1_i.index UNLESS pd_len is also not supplied (see NEITHER date/pd_len supplied)\n",
    "        \n",
    "    pd_len:\n",
    "        If not supplied, all available data preceding date will be used UNLESS date is also not supplied (see NEITHER date/pd_len supplied)\n",
    "        \n",
    "    NEITHER date/pd_len supplied:\n",
    "        If neither is supplied, entire series y_prob1_i is evaluated\n",
    "    \"\"\"\n",
    "    #--------------------------------------------------\n",
    "    assert(isinstance(y_prob1_i, pd.Series))\n",
    "    y_prob1_i = copy.deepcopy(y_prob1_i)\n",
    "    if cols_to_drop is not None:\n",
    "        y_prob1_i = y_prob1_i.drop(cols_to_drop)\n",
    "    #--------------------------------------------------\n",
    "    # If date is None and pd_len is None, no slicing done on y_prob1_i (i.e., y_prob1_i=y_prob1_i instead\n",
    "    #   of y_prob1_i = y_prob1_i.loc[pd.Timestamp(date-pd_len) : pd.Timestamp(date)])\n",
    "    # Put differently, slicing is needed if date is not None or pd_len is not None\n",
    "    if(\n",
    "        date   is not None or \n",
    "        pd_len is not None\n",
    "    ):\n",
    "        #-------------------------\n",
    "        if date is None:\n",
    "            date_0 = y_prob1_i.index.min()\n",
    "            date_1 = y_prob1_i.index.max()\n",
    "            if exclude_day_of:\n",
    "                # To ensure date_0 remains within bounds of y_prob1_i\n",
    "                date_0 = date_0+pd.Timedelta('1D')\n",
    "            #-----\n",
    "            date = Utilities_dt.get_random_date_interval_between(\n",
    "                date_0       = date_0, \n",
    "                date_1       = date_1, \n",
    "                window_width = pd_len, \n",
    "                rand_seed    = None\n",
    "            )\n",
    "            date = date[1]\n",
    "        #-------------------------\n",
    "        if pd_len is None:\n",
    "            pd_len = date-y_prob1_i.index.min()\n",
    "            if exclude_day_of:\n",
    "                pd_len = pd_len-pd.Timedelta('1D')\n",
    "        #-------------------------\n",
    "        # Being extra safe, don't want safe changed outside of function\n",
    "        date = copy.deepcopy(date)\n",
    "        #-------------------------\n",
    "        # Ensure date is a date object, and not datetime\n",
    "        assert(Utilities.is_object_one_of_types(date, [pd.Timestamp, datetime.date]))\n",
    "        if isinstance(date, pd.Timestamp):\n",
    "            date = date.date()\n",
    "        assert(isinstance(date, datetime.date))\n",
    "        #-------------------------\n",
    "        if exclude_day_of:\n",
    "            date = date-pd.Timedelta('1D')\n",
    "        #-------------------------\n",
    "        if(\n",
    "            pd.Timestamp(date-pd_len) < y_prob1_i.index.min() or \n",
    "            pd.Timestamp(date) > y_prob1_i.index.max()\n",
    "        ):\n",
    "            return None\n",
    "        #-------------------------\n",
    "        y_prob1_i = y_prob1_i.loc[pd.Timestamp(date-pd_len) : pd.Timestamp(date)]\n",
    "    #--------------------------------------------------\n",
    "    n_nan                          = y_prob1_i.isna().sum()\n",
    "    n_abv_thrsh                    = (y_prob1_i > threshold).sum()\n",
    "    idxs, longest_streak_abv_thrsh = find_longest_consec_idxs_in_bool_srs(\n",
    "        bool_srs     = y_prob1_i>threshold, \n",
    "        return_ilocs = False, \n",
    "        return_len   = True\n",
    "    )\n",
    "    #--------------------------------------------------\n",
    "    if date is None:\n",
    "        longest_streak_beg = y_prob1_i.index.max()-idxs[0]\n",
    "        longest_streak_end = y_prob1_i.index.max()-idxs[1]\n",
    "    else:\n",
    "        longest_streak_beg = pd.Timestamp(date)-idxs[0]\n",
    "        longest_streak_end = pd.Timestamp(date)-idxs[1]\n",
    "    #-----\n",
    "    return_dict = dict(\n",
    "        n_nan                    = n_nan, \n",
    "        n_abv_thrsh              = n_abv_thrsh, \n",
    "        longest_streak_abv_thrsh = longest_streak_abv_thrsh, \n",
    "        longest_streak_beg       = longest_streak_beg, \n",
    "        longest_streak_end       = longest_streak_end\n",
    "    )\n",
    "    #--------------------------------------------------\n",
    "    if return_series:\n",
    "        return pd.Series(return_dict)\n",
    "    else:\n",
    "        return return_dict"
   ]
  },
  {
   "cell_type": "code",
   "execution_count": 6,
   "id": "9ae337f4-c016-4754-9c10-5c35d269a6de",
   "metadata": {},
   "outputs": [],
   "source": [
    "#-------------------------\n",
    "# New meter_events.events_summary_vw table became live on 2023-04-01\n",
    "# Therefore, we can only really assess outages occurring on/after 2023-05-02 (due to 31-day look)"
   ]
  },
  {
   "cell_type": "code",
   "execution_count": 7,
   "id": "52dc1e16-38a1-45f9-9323-26e8165b0524",
   "metadata": {},
   "outputs": [],
   "source": [
    "# !!!!!!!!!!!! SHOULD PROBABLY USE SOME SORT OF DATE LIMITES (AND OPCO ETC) IN get_xfmr_meter_cnt_closest_to_date"
   ]
  },
  {
   "cell_type": "code",
   "execution_count": 8,
   "id": "2f5de75a-8e86-4727-b5d9-d6b6bddb4f96",
   "metadata": {},
   "outputs": [],
   "source": [
    "# !!!!!!!!!!!!!! get_xfmr_meter_cnt_closest_to_date\n",
    "# Should use count distinct on nonvee data"
   ]
  },
  {
   "cell_type": "code",
   "execution_count": null,
   "id": "d32fcb7e-7f60-4866-8291-a66655a2d550",
   "metadata": {},
   "outputs": [],
   "source": []
  },
  {
   "cell_type": "code",
   "execution_count": 9,
   "id": "5aff019e",
   "metadata": {},
   "outputs": [],
   "source": [
    "prediction_date   = pd.to_datetime('2023-07-27')"
   ]
  },
  {
   "cell_type": "code",
   "execution_count": 10,
   "id": "f084f0d5",
   "metadata": {},
   "outputs": [
    {
     "name": "stdout",
     "output_type": "stream",
     "text": [
      "n_trsf_pole_nbs = 1000\n",
      "\n",
      "SQL statement:\n",
      "WITH pis AS (\n",
      "\tSELECT DISTINCT\n",
      "\t\tMP.trsf_pole_nb\n",
      "\tFROM default.meter_premise MP\n",
      "\tWHERE MP.state_cd = 'OH'\n",
      ")\n",
      "SELECT *\n",
      "FROM pis\n",
      "ORDER BY RAND()\n",
      "LIMIT 1000\n",
      "n_coll     = 1000\n",
      "batch_size = 1000\n",
      "n_batches  = 1\n",
      "len(missing_xfmrs) = 0\n",
      "!!!!! WARNING !!!!! NO OPCOs SELECTED!\n"
     ]
    }
   ],
   "source": [
    "single_date_pred = OutagePredictor(prediction_date=prediction_date)\n",
    "#-----\n",
    "single_date_pred.set_model_dir(r'C:\\Users\\s346557\\Documents\\LocalData\\dovs_and_end_events_data\\20231201\\Models\\All_EEMSP_agg_Top10_v4')\n",
    "#-----\n",
    "single_date_pred.set_trsf_pole_nbs_from_sql(\n",
    "    n_trsf_pole_nbs=1000, \n",
    "    states='OH'\n",
    ")\n",
    "print(f\"n_trsf_pole_nbs = {len(single_date_pred.trsf_pole_nbs)}\")\n",
    "print(f\"\\nSQL statement:\\n{single_date_pred.trsf_pole_nbs_sql}\")\n",
    "#-----\n",
    "single_date_pred.initialize_data(\n",
    "    evsSum_sql_fcn=AMIEndEvents_SQL.build_sql_end_events,  \n",
    "    evsSum_sql_kwargs=dict(opco='oh'), \n",
    ")\n",
    "#-----\n",
    "single_date_pred.predict()"
   ]
  },
  {
   "cell_type": "code",
   "execution_count": null,
   "id": "f55f10b8-b067-4913-b04e-c4cb12a9b4ed",
   "metadata": {},
   "outputs": [],
   "source": []
  },
  {
   "cell_type": "code",
   "execution_count": 50,
   "id": "94750f02",
   "metadata": {},
   "outputs": [],
   "source": [
    "# Grab predictions\n",
    "y_pred = single_date_pred.y_pred\n",
    "y_scores = single_date_pred.y_pred_df[['prob_0', 'prob_1']].values\n",
    "precisions, recalls, thresholds = precision_recall_curve(y_pred, y_scores[:,1])"
   ]
  },
  {
   "cell_type": "code",
   "execution_count": null,
   "id": "0621b865-fd1e-4907-b6e6-ec5cf2d484ef",
   "metadata": {},
   "outputs": [],
   "source": []
  },
  {
   "cell_type": "code",
   "execution_count": 53,
   "id": "2e48e3ab-6e81-4684-a9ec-fe6ecc13396c",
   "metadata": {},
   "outputs": [
    {
     "data": {
      "image/png": "[encoded data removed]",
      "text/plain": [
       "<Figure size 640x480 with 1 Axes>"
      ]
     },
     "metadata": {},
     "output_type": "display_data"
    }
   ],
   "source": [
    "plot_precision_recall_vs_threshold(precisions, recalls, thresholds)"
   ]
  },
  {
   "cell_type": "code",
   "execution_count": null,
   "id": "444b86dd-c77c-492a-b7d4-42183c444435",
   "metadata": {},
   "outputs": [],
   "source": [
    "assert(0)"
   ]
  },
  {
   "cell_type": "code",
   "execution_count": null,
   "id": "e3537824-2123-4406-a305-1bf083072f59",
   "metadata": {},
   "outputs": [],
   "source": [
    "natsorted(single_date_pred.evsSum_df['aep_event_dt'].unique())"
   ]
  },
  {
   "cell_type": "code",
   "execution_count": null,
   "id": "046ffc0b-7752-4938-9d4d-30874056464c",
   "metadata": {},
   "outputs": [],
   "source": [
    "single_date_pred.zero_counts_evsSum_df['aep_event_dt'].unique()"
   ]
  },
  {
   "cell_type": "code",
   "execution_count": null,
   "id": "e38c57da-08bc-4910-884e-627a656c43c3",
   "metadata": {},
   "outputs": [],
   "source": [
    "date_range_i = single_date_pred.daq_date_ranges[0]"
   ]
  },
  {
   "cell_type": "code",
   "execution_count": null,
   "id": "798943f9-6548-4315-a32e-59b1544bb386",
   "metadata": {},
   "outputs": [],
   "source": [
    "date_range_i"
   ]
  },
  {
   "cell_type": "code",
   "execution_count": null,
   "id": "fcf5b94f-f153-4463-8c4c-a791183fb2d4",
   "metadata": {},
   "outputs": [],
   "source": [
    "pd.date_range(start=date_range_i[0], end=date_range_i[1])"
   ]
  },
  {
   "cell_type": "code",
   "execution_count": null,
   "id": "5e67c438-2e5d-4ea1-b05a-448e16c9e648",
   "metadata": {},
   "outputs": [],
   "source": [
    "single_date_pred.evsSum_df[single_date_pred.evsSum_df['aep_event_dt']==pd.date_range(start=date_range_i[0], end=date_range_i[1])[5]]"
   ]
  },
  {
   "cell_type": "code",
   "execution_count": null,
   "id": "04c408f2-2661-4f6b-9448-519f5a07f217",
   "metadata": {},
   "outputs": [],
   "source": [
    "evsSum_df = single_date_pred.evsSum_df.copy()\n",
    "date_col = 'aep_event_dt'\n",
    "evsSum_df[date_col] = pd.to_datetime(evsSum_df[date_col])"
   ]
  },
  {
   "cell_type": "code",
   "execution_count": null,
   "id": "5c6832b3-0868-4914-9c2f-16e9bf6d6325",
   "metadata": {},
   "outputs": [],
   "source": [
    "evsSum_df[evsSum_df[date_col]==pd.date_range(start=date_range_i[0], end=date_range_i[1])[0]]"
   ]
  },
  {
   "cell_type": "code",
   "execution_count": null,
   "id": "978c4f91-443a-45aa-9cbd-83140706b3c0",
   "metadata": {},
   "outputs": [],
   "source": []
  },
  {
   "cell_type": "code",
   "execution_count": null,
   "id": "33c99587-7c11-4b4a-bd4a-c79f7a87c03b",
   "metadata": {},
   "outputs": [],
   "source": []
  },
  {
   "cell_type": "code",
   "execution_count": null,
   "id": "b97741de-1225-4b22-a9d1-b54d1b261c5d",
   "metadata": {},
   "outputs": [],
   "source": []
  },
  {
   "cell_type": "code",
   "execution_count": null,
   "id": "378d92c9-7d3a-4528-ae04-47a86ed58ef4",
   "metadata": {},
   "outputs": [],
   "source": [
    "# single_date_pred.zc_xfmrs_by_date"
   ]
  },
  {
   "cell_type": "code",
   "execution_count": null,
   "id": "0d9b70c6-9a08-423a-ab62-15c1ba9d6ef2",
   "metadata": {},
   "outputs": [],
   "source": []
  },
  {
   "cell_type": "code",
   "execution_count": null,
   "id": "fb90cca8-e3d9-4c8c-955e-e0b5f5e3038b",
   "metadata": {},
   "outputs": [],
   "source": []
  },
  {
   "cell_type": "code",
   "execution_count": null,
   "id": "f94e4330-c977-4d62-873d-9b895b802428",
   "metadata": {},
   "outputs": [],
   "source": []
  },
  {
   "cell_type": "code",
   "execution_count": null,
   "id": "6356c111",
   "metadata": {},
   "outputs": [],
   "source": [
    "# Sanity check\n",
    "threshold=0.5\n",
    "y_pred_from_proba = [int(x>threshold) for x in y_scores[:, 1]]\n",
    "assert(all(y_pred_from_proba==y_pred))"
   ]
  },
  {
   "cell_type": "code",
   "execution_count": null,
   "id": "12597658-7aa9-4af2-8080-1ba81b9c3209",
   "metadata": {},
   "outputs": [],
   "source": []
  },
  {
   "cell_type": "code",
   "execution_count": null,
   "id": "8cb097bf-b721-4912-a3f0-e65c6d6c4e16",
   "metadata": {},
   "outputs": [],
   "source": [
    "dovs_df, mp_df = single_date_pred.build_dovs_df(return_mp_df=True)"
   ]
  },
  {
   "cell_type": "code",
   "execution_count": null,
   "id": "8d374ca8-6e40-4493-98d5-2e09e5e5d6ce",
   "metadata": {},
   "outputs": [],
   "source": []
  },
  {
   "cell_type": "code",
   "execution_count": null,
   "id": "e69a835b-4a3f-42ba-9725-8d62fddc8334",
   "metadata": {},
   "outputs": [],
   "source": [
    "# Set predictions column in rcpx_df\n",
    "rcpx_df = single_date_pred.get_merged_rcpx_and_preds()\n",
    "\n",
    "mp_df_pred1   = mp_df[mp_df['trsf_pole_nb'].isin(rcpx_df[rcpx_df[('pred', 'pred')]==1].index.tolist())].copy()\n",
    "dovs_df_pred1 = dovs_df[dovs_df['PREMISE_NB'].isin(mp_df_pred1['prem_nb'].unique().tolist())]\n",
    "#-----\n",
    "mp_df_pred0   = mp_df[mp_df['trsf_pole_nb'].isin(rcpx_df[rcpx_df[('pred', 'pred')]==0].index.tolist())].copy()\n",
    "dovs_df_pred0 = dovs_df[dovs_df['PREMISE_NB'].isin(mp_df_pred0['prem_nb'].unique().tolist())]"
   ]
  },
  {
   "cell_type": "code",
   "execution_count": null,
   "id": "1e33bb5a-0cba-41d6-89e4-760a02d36fa0",
   "metadata": {},
   "outputs": [],
   "source": []
  },
  {
   "cell_type": "code",
   "execution_count": null,
   "id": "c7d7fe4e",
   "metadata": {},
   "outputs": [],
   "source": [
    "# assert(0)"
   ]
  },
  {
   "cell_type": "code",
   "execution_count": null,
   "id": "5441f720-912b-4c2f-89f9-6e7061118071",
   "metadata": {},
   "outputs": [],
   "source": []
  },
  {
   "cell_type": "code",
   "execution_count": null,
   "id": "0a9bba15",
   "metadata": {},
   "outputs": [],
   "source": [
    "# prediction_dates = pd.date_range(\n",
    "#     start = pd.to_datetime('2023-05-02'), \n",
    "#     end   = pd.to_datetime('2023-09-30'), \n",
    "#     freq  = pd.Timedelta('1D')\n",
    "# )\n",
    "\n",
    "prediction_dates = pd.date_range(\n",
    "    start = pd.to_datetime('2023-07-25'), \n",
    "    end   = pd.to_datetime('2023-07-31'), \n",
    "    freq  = pd.Timedelta('1D')\n",
    ")\n",
    "prediction_dates"
   ]
  },
  {
   "cell_type": "code",
   "execution_count": null,
   "id": "9a5cb4b8",
   "metadata": {},
   "outputs": [],
   "source": [
    "outg_prdctr = OutagePredictor(prediction_date=prediction_dates[0])\n",
    "#-----\n",
    "outg_prdctr.set_model_dir(r'C:\\Users\\s346557\\Documents\\LocalData\\dovs_and_end_events_data\\20231201\\Models\\All_EEMSP_agg_Top10_v4')\n",
    "#-----\n",
    "trsf_pole_nbs = single_date_pred.trsf_pole_nbs\n",
    "outg_prdctr.set_trsf_pole_nbs(trsf_pole_nbs)\n",
    "print(f\"n_trsf_pole_nbs = {len(outg_prdctr.trsf_pole_nbs)}\")\n",
    "#-----\n",
    "# outg_prdctr.initialize_data(\n",
    "#     evsSum_sql_fcn=AMIEndEvents_SQL.build_sql_end_events,  \n",
    "#     evsSum_sql_kwargs=dict(opco='oh'), \n",
    "# )\n",
    "\n",
    "outg_prdctr.prep_multiple_prediction_dates(\n",
    "    prediction_dates  = prediction_dates, \n",
    "    predictions_range = None, \n",
    "    evsSum_sql_fcn    = AMIEndEvents_SQL.build_sql_end_events,  \n",
    "    evsSum_sql_kwargs = dict(opco='oh'), \n",
    "    save_args         = False\n",
    ")"
   ]
  },
  {
   "cell_type": "code",
   "execution_count": null,
   "id": "8d450830-91b1-4b0e-a7ef-1568d9b8ef90",
   "metadata": {},
   "outputs": [],
   "source": []
  },
  {
   "cell_type": "code",
   "execution_count": null,
   "id": "07e00ae6",
   "metadata": {},
   "outputs": [],
   "source": [
    "start = time.time()\n",
    "\n",
    "results_dict = dict()\n",
    "for prediction_date_i in prediction_dates:\n",
    "    print(prediction_date_i)\n",
    "    assert(prediction_date_i not in results_dict)\n",
    "    outg_prdctr.change_prediction_date(prediction_date=prediction_date_i)\n",
    "    outg_prdctr.predict()\n",
    "    #-----\n",
    "    y_pred_i   = outg_prdctr.y_pred\n",
    "    y_scores_i = outg_prdctr.y_pred_df[['prob_0', 'prob_1']].values\n",
    "    #-----\n",
    "    assert(outg_prdctr.rcpx_df.shape[0]==len(y_pred_i))\n",
    "    assert(outg_prdctr.rcpx_df.shape[0]==len(y_scores_i))\n",
    "    res_i = pd.DataFrame(\n",
    "        index=outg_prdctr.rcpx_df.index, \n",
    "        data=dict(\n",
    "            pred=y_pred_i, \n",
    "            prob_0=[x[0] for x in y_scores_i], \n",
    "            prob_1=[x[1] for x in y_scores_i]\n",
    "        )\n",
    "    )    \n",
    "    #-----\n",
    "    results_dict[prediction_date_i] = res_i\n",
    "\n",
    "print(time.time()-start)"
   ]
  },
  {
   "cell_type": "code",
   "execution_count": null,
   "id": "ab278a04-ceb4-4977-b328-ce608d5eb4d4",
   "metadata": {},
   "outputs": [],
   "source": []
  },
  {
   "cell_type": "code",
   "execution_count": null,
   "id": "ed0faf6a",
   "metadata": {},
   "outputs": [],
   "source": [
    "return_df = pd.DataFrame()\n",
    "for i, (prediction_date_i, df_i) in enumerate(results_dict.items()):\n",
    "    df_i = Utilities_df.prepend_level_to_MultiIndex(\n",
    "        df=df_i, \n",
    "        level_val=prediction_date_i, \n",
    "        axis=1\n",
    "    )\n",
    "    if i==0:\n",
    "        return_df = df_i.copy()\n",
    "    else:\n",
    "        return_df = pd.merge(\n",
    "            return_df, \n",
    "            df_i, \n",
    "            left_index=True, \n",
    "            right_index=True, \n",
    "            how='outer'\n",
    "        )"
   ]
  },
  {
   "cell_type": "code",
   "execution_count": null,
   "id": "dcf54ac9-4e89-412a-94e9-5f09284ad4ab",
   "metadata": {},
   "outputs": [],
   "source": []
  },
  {
   "cell_type": "code",
   "execution_count": null,
   "id": "c55f7522",
   "metadata": {},
   "outputs": [],
   "source": [
    "y_pred_by_date_df  = return_df.xs('pred', level=1, axis=1)\n",
    "y_prob1_by_date_df = return_df.xs('prob_1', level=1, axis=1)"
   ]
  },
  {
   "cell_type": "code",
   "execution_count": null,
   "id": "24dc9239",
   "metadata": {},
   "outputs": [],
   "source": [
    "fig,ax = Plot_General.default_subplots()\n",
    "y_prob1_by_date_df.T.plot.line(ax=ax)\n",
    "ax.legend().remove()"
   ]
  },
  {
   "cell_type": "code",
   "execution_count": null,
   "id": "349573bd",
   "metadata": {},
   "outputs": [],
   "source": [
    "fig,ax = Plot_General.default_subplots()\n",
    "y_prob1_by_date_df.iloc[:10].T.plot.line(ax=ax)"
   ]
  },
  {
   "cell_type": "code",
   "execution_count": null,
   "id": "59d610e6",
   "metadata": {},
   "outputs": [],
   "source": []
  },
  {
   "cell_type": "code",
   "execution_count": null,
   "id": "93b8f3db",
   "metadata": {},
   "outputs": [],
   "source": [
    "dovs_df, mp_df = single_date_pred.build_dovs_df(return_mp_df=True)"
   ]
  },
  {
   "cell_type": "code",
   "execution_count": null,
   "id": "aac7c698",
   "metadata": {},
   "outputs": [],
   "source": [
    "fig_num = 0\n",
    "assert(y_prob1_by_date_df.index.nunique()==y_prob1_by_date_df.shape[0])"
   ]
  },
  {
   "cell_type": "code",
   "execution_count": null,
   "id": "ddb8bd98",
   "metadata": {
    "scrolled": true
   },
   "outputs": [],
   "source": [
    "for trsf_pole_nb_i in y_prob1_by_date_df.index.tolist()[:20]:\n",
    "    plot_pred_probs_for_trsf_i(\n",
    "        fig_num            = fig_num, \n",
    "        trsf_pole_nb_i     = trsf_pole_nb_i, \n",
    "        y_prob1_by_date_df = y_prob1_by_date_df, \n",
    "        dovs_df            = dovs_df, \n",
    "        trsf_pole_nb_col   = 'trsf_pole_nb', \n",
    "        outg_rec_nb_col    = 'OUTG_REC_NB', \n",
    "        dt_off_ts_full_col = 'DT_OFF_TS_FULL'\n",
    "    )\n",
    "    fig_num+=1"
   ]
  },
  {
   "cell_type": "code",
   "execution_count": null,
   "id": "fa2ffef8",
   "metadata": {},
   "outputs": [],
   "source": [
    "# pdf_path = r'C:\\Users\\s346557\\Documents\\Predictions.pdf'\n",
    "# pdf = PdfPages(pdf_path)\n",
    "\n",
    "# for trsf_pole_nb_i in y_prob1_by_date_df.index.tolist():\n",
    "#     fig, ax = plot_pred_probs_for_trsf_i(\n",
    "#         fig_num            = fig_num, \n",
    "#         trsf_pole_nb_i     = trsf_pole_nb_i, \n",
    "#         y_prob1_by_date_df = y_prob1_by_date_df, \n",
    "#         dovs_df            = dovs_df, \n",
    "#         trsf_pole_nb_col   = 'trsf_pole_nb', \n",
    "#         outg_rec_nb_col    = 'OUTG_REC_NB', \n",
    "#         dt_off_ts_full_col = 'DT_OFF_TS_FULL'\n",
    "#     )\n",
    "#     pdf.savefig(fig, bbox_inches='tight')\n",
    "#     plt.close(fig)\n",
    "#     fig_num+=1\n",
    "# pdf.close()"
   ]
  },
  {
   "cell_type": "code",
   "execution_count": null,
   "id": "af993f28",
   "metadata": {},
   "outputs": [],
   "source": []
  },
  {
   "cell_type": "code",
   "execution_count": null,
   "id": "ba471de9-6022-4b6c-b796-d4484bf10770",
   "metadata": {},
   "outputs": [],
   "source": []
  },
  {
   "cell_type": "code",
   "execution_count": null,
   "id": "33d25c13-e330-43e0-aff8-6abebf0fbcae",
   "metadata": {},
   "outputs": [],
   "source": []
  },
  {
   "cell_type": "code",
   "execution_count": null,
   "id": "a8a364bc-727a-4531-bdea-6653a121857f",
   "metadata": {},
   "outputs": [],
   "source": []
  },
  {
   "cell_type": "code",
   "execution_count": null,
   "id": "af425e4c-bf2b-4208-b7ab-ac6e4cf16e34",
   "metadata": {},
   "outputs": [],
   "source": []
  },
  {
   "cell_type": "code",
   "execution_count": null,
   "id": "79ddc919-09c0-46e4-997c-28335fc03db3",
   "metadata": {},
   "outputs": [],
   "source": []
  },
  {
   "cell_type": "code",
   "execution_count": null,
   "id": "0ae75799-59be-48ae-aaa1-0aeb6e523acc",
   "metadata": {},
   "outputs": [],
   "source": []
  },
  {
   "cell_type": "code",
   "execution_count": null,
   "id": "f7d58c88-2abc-4b49-a9cb-0210236201bc",
   "metadata": {},
   "outputs": [],
   "source": []
  }
 ],
 "metadata": {
  "kernelspec": {
   "display_name": "Python 3 (ipykernel)",
   "language": "python",
   "name": "python3"
  },
  "language_info": {
   "codemirror_mode": {
    "name": "ipython",
    "version": 3
   },
   "file_extension": ".py",
   "mimetype": "text/x-python",
   "name": "python",
   "nbconvert_exporter": "python",
   "pygments_lexer": "ipython3",
   "version": "3.11.7"
  }
 },
 "nbformat": 4,
 "nbformat_minor": 5
}
