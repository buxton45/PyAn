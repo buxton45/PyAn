{
 "cells": [
  {
   "cell_type": "code",
   "execution_count": null,
   "id": "e6a82b39",
   "metadata": {},
   "outputs": [],
   "source": [
    "from importlib import reload\n",
    "#reload(Utilities)\n",
    "#reload(clm)\n",
    "# NOTE: To reload a class imported as, e.g., \n",
    "# from module import class\n",
    "# One must call:\n",
    "#   1. import module\n",
    "#   2. reload module\n",
    "#   3. from module import class\n",
    "\n",
    "import sys, os\n",
    "import re\n",
    "from pathlib import Path\n",
    "import json\n",
    "import pickle\n",
    "import joblib\n",
    "\n",
    "import pandas as pd\n",
    "import numpy as np\n",
    "from pandas.api.types import is_numeric_dtype, is_datetime64_dtype, is_timedelta64_dtype\n",
    "from scipy import stats\n",
    "import datetime\n",
    "import time\n",
    "from natsort import natsorted, ns, natsort_keygen\n",
    "from packaging import version\n",
    "import copy\n",
    "\n",
    "import itertools\n",
    "\n",
    "import pyodbc\n",
    "#---------------------------------------------------------------------\n",
    "import matplotlib as mpl\n",
    "import matplotlib.pyplot as plt\n",
    "import seaborn as sns\n",
    "from matplotlib.backends.backend_pdf import PdfPages\n",
    "import matplotlib.patches as mpatches\n",
    "from matplotlib.lines import Line2D\n",
    "import matplotlib.ticker as ticker\n",
    "from matplotlib import dates\n",
    "import matplotlib.colors as mcolors\n",
    "import matplotlib.cm as cm #e.g. for cmap=cm.jet\n",
    "#---------------------------------------------------------------------\n",
    "sys.path.insert(0, os.path.realpath('..'))\n",
    "import Utilities_config\n",
    "#-----\n",
    "import CommonLearningMethods as clm\n",
    "#-----\n",
    "from MeterPremise import MeterPremise\n",
    "from EEMSP import EEMSP\n",
    "#-----\n",
    "from AMI_SQL import AMI_SQL\n",
    "from AMINonVee_SQL import AMINonVee_SQL\n",
    "from AMIEndEvents_SQL import AMIEndEvents_SQL\n",
    "from AMIUsgInst_SQL import AMIUsgInst_SQL\n",
    "from DOVSOutages_SQL import DOVSOutages_SQL\n",
    "#-----\n",
    "from GenAn import GenAn\n",
    "from AMINonVee import AMINonVee\n",
    "from AMIEndEvents import AMIEndEvents\n",
    "from AMIEDE_DEV import AMIEDE_DEV\n",
    "from MECPODf import MECPODf\n",
    "from MECPOAn import MECPOAn\n",
    "from AMIUsgInst import AMIUsgInst\n",
    "from DOVSOutages import DOVSOutages\n",
    "#---------------------------------------------------------------------\n",
    "sys.path.insert(0, Utilities_config.get_sql_aids_dir())\n",
    "import Utilities_sql\n",
    "import TableInfos\n",
    "from TableInfos import TableInfo\n",
    "from SQLElement import SQLElement\n",
    "from SQLElementsCollection import SQLElementsCollection\n",
    "from SQLSelect import SQLSelectElement, SQLSelect\n",
    "from SQLFrom import SQLFrom\n",
    "from SQLWhere import SQLWhereElement, SQLWhere\n",
    "from SQLJoin import SQLJoin, SQLJoinCollection\n",
    "from SQLGroupBy import SQLGroupByElement, SQLGroupBy\n",
    "from SQLHaving import SQLHaving\n",
    "from SQLOrderBy import SQLOrderByElement, SQLOrderBy\n",
    "from SQLQuery import SQLQuery\n",
    "from SQLQueryGeneric import SQLQueryGeneric\n",
    "#---------------------------------------------------------------------\n",
    "#sys.path.insert(0, os.path.join(os.path.realpath('..'), 'Utilities'))\n",
    "sys.path.insert(0, Utilities_config.get_utilities_dir())\n",
    "import Utilities\n",
    "import Utilities_df\n",
    "from Utilities_df import DFConstructType\n",
    "import Utilities_dt\n",
    "import Plot_General\n",
    "import Plot_Box_sns\n",
    "import Plot_Hist\n",
    "import Plot_Bar\n",
    "import GrubbsTest\n",
    "import DataFrameSubsetSlicer\n",
    "from DataFrameSubsetSlicer import DataFrameSubsetSlicer as DFSlicer"
   ]
  },
  {
   "cell_type": "code",
   "execution_count": null,
   "id": "5f6839f8",
   "metadata": {},
   "outputs": [],
   "source": []
  },
  {
   "cell_type": "code",
   "execution_count": null,
   "id": "5844f98f",
   "metadata": {},
   "outputs": [],
   "source": [
    "# Premise numbers can have leading zeros, which are lost if pandas reads them in as integers instead of strings\n",
    "keith_data_df = pd.read_excel(\n",
    "    r'C:\\Users\\s346557\\Documents\\LocalData\\KeithFieldData\\Meter Interruption Monitoring (MIM).xlsx', \n",
    "    dtype={\n",
    "        'Premise #':str, \n",
    "        'IO 52 Order #':str\n",
    "    }\n",
    ")\n",
    "keith_data_df=keith_data_df.dropna(subset=['Premise #'])"
   ]
  },
  {
   "cell_type": "code",
   "execution_count": null,
   "id": "efd4bc6e",
   "metadata": {},
   "outputs": [],
   "source": [
    "keith_data_df.dtypes"
   ]
  },
  {
   "cell_type": "code",
   "execution_count": null,
   "id": "0bd964c6",
   "metadata": {},
   "outputs": [],
   "source": [
    "keith_data_df"
   ]
  },
  {
   "cell_type": "code",
   "execution_count": null,
   "id": "e5b5bf89",
   "metadata": {},
   "outputs": [],
   "source": [
    "# Probably only want those entries for which the investigation was completed\n",
    "# NOTE: 'Investigation completed' column, when not None, contains date of investigation\n",
    "keith_data_df=keith_data_df[keith_data_df['Investigation completed'].notna()]"
   ]
  },
  {
   "cell_type": "code",
   "execution_count": null,
   "id": "b292e462",
   "metadata": {
    "scrolled": true
   },
   "outputs": [],
   "source": [
    "keith_data_df.columns.tolist()"
   ]
  },
  {
   "cell_type": "code",
   "execution_count": null,
   "id": "92554b66",
   "metadata": {},
   "outputs": [],
   "source": [
    "keith_data_df['Date'].nunique()"
   ]
  },
  {
   "cell_type": "code",
   "execution_count": null,
   "id": "e2b58e25",
   "metadata": {},
   "outputs": [],
   "source": [
    "keith_data_df['30 day monitoring date'].nunique()"
   ]
  },
  {
   "cell_type": "code",
   "execution_count": null,
   "id": "ee15269c",
   "metadata": {},
   "outputs": [],
   "source": [
    "keith_data_df['30 day monitoring date']-keith_data_df['Date']"
   ]
  },
  {
   "cell_type": "code",
   "execution_count": null,
   "id": "ca0df3bf",
   "metadata": {},
   "outputs": [],
   "source": [
    "(keith_data_df['30 day monitoring date']-keith_data_df['Investigation completed']).unique()"
   ]
  },
  {
   "cell_type": "code",
   "execution_count": null,
   "id": "6e1ee6c7",
   "metadata": {},
   "outputs": [],
   "source": [
    "pd.Timedelta('30D')"
   ]
  },
  {
   "cell_type": "code",
   "execution_count": null,
   "id": "143a1646",
   "metadata": {},
   "outputs": [],
   "source": [
    "keith_data_df[keith_data_df['30 day monitoring date']-keith_data_df['Investigation completed']!=pd.Timedelta('30D')]"
   ]
  },
  {
   "cell_type": "code",
   "execution_count": null,
   "id": "54afc2be",
   "metadata": {},
   "outputs": [],
   "source": []
  },
  {
   "cell_type": "code",
   "execution_count": null,
   "id": "be197eeb",
   "metadata": {},
   "outputs": [],
   "source": [
    "keith_data_df[keith_data_df['30 day monitoring date']-keith_data_df['Investigation completed']!=pd.Timedelta('30D')][[\n",
    "    'Date', '30 day monitoring date', 'Investigation completed'\n",
    "]]"
   ]
  },
  {
   "cell_type": "code",
   "execution_count": null,
   "id": "b083b34a",
   "metadata": {},
   "outputs": [],
   "source": []
  },
  {
   "cell_type": "code",
   "execution_count": null,
   "id": "347d88b5",
   "metadata": {},
   "outputs": [],
   "source": []
  },
  {
   "cell_type": "code",
   "execution_count": null,
   "id": "5728342a",
   "metadata": {},
   "outputs": [],
   "source": [
    "# I believe I should grab data for each premise number in a window surrounding 'Investigation completed'\n",
    "search_window_half_width = pd.Timedelta('30D')"
   ]
  },
  {
   "cell_type": "code",
   "execution_count": null,
   "id": "c6f60d74",
   "metadata": {},
   "outputs": [],
   "source": [
    "print(keith_data_df.shape[0])\n",
    "print(keith_data_df['Investigation completed'].nunique())"
   ]
  },
  {
   "cell_type": "code",
   "execution_count": null,
   "id": "c517513e",
   "metadata": {},
   "outputs": [],
   "source": []
  },
  {
   "cell_type": "code",
   "execution_count": null,
   "id": "db9e4d67",
   "metadata": {},
   "outputs": [],
   "source": [
    "assert(keith_data_df['IO 52 Order #'].nunique()==keith_data_df.shape[0])\n",
    "daq_df = keith_data_df[['IO 52 Order #', 'Premise #', 'Investigation completed']].copy()\n",
    "daq_df['t_search_min'] = daq_df['Investigation completed']-search_window_half_width\n",
    "daq_df['t_search_max'] = daq_df['Investigation completed']+search_window_half_width\n",
    "daq_df = daq_df.rename(columns={'IO 52 Order #':'IO_52_Order_Nb'})"
   ]
  },
  {
   "cell_type": "code",
   "execution_count": null,
   "id": "21816878",
   "metadata": {},
   "outputs": [],
   "source": []
  },
  {
   "cell_type": "code",
   "execution_count": null,
   "id": "9d065077",
   "metadata": {},
   "outputs": [],
   "source": [
    "#----------\n",
    "opcos = None\n",
    "# batch_size=200\n",
    "batch_size=10\n",
    "usg_split_to_CTEs=True\n",
    "df_construct_type=DFConstructType.kRunSqlQuery\n",
    "contstruct_df_args=None\n",
    "# addtnl_groupby_cols=None \n",
    "addtnl_groupby_cols=['IO_52_Order_Nb']\n",
    "\n",
    "cols_of_interest_end_dev_event = TableInfos.AMIEndEvents_TI.std_columns_of_interest\n",
    "cols_of_interest_ami = TableInfos.AMINonVee_TI.std_columns_of_interest\n",
    "verbose=True\n",
    "n_update=1"
   ]
  },
  {
   "cell_type": "code",
   "execution_count": null,
   "id": "e5f62e2f",
   "metadata": {},
   "outputs": [],
   "source": [
    "#--------------------------------------------------\n",
    "sql_function_kwargs = dict(\n",
    "    split_to_CTEs=usg_split_to_CTEs, \n",
    "    join_mp_args=False, \n",
    "    df_args = dict(\n",
    "        addtnl_groupby_cols=addtnl_groupby_cols, \n",
    "        t_search_min_col='t_search_min', \n",
    "        t_search_max_col='t_search_max'\n",
    "    ), \n",
    "    field_to_split='df_outage', \n",
    "    field_to_split_location_in_kwargs=['df_outage'], \n",
    "    save_and_dump=True,  \n",
    "    sort_coll_to_split=True,\n",
    "    verbose=verbose, n_update=n_update\n",
    ")\n",
    "#----------\n",
    "if opcos is not None:\n",
    "    addtnl_sql_function_kwargs = dict(\n",
    "        build_sql_function_kwargs=dict(opco=opcos)\n",
    "    )\n",
    "    sql_function_kwargs = {**sql_function_kwargs, \n",
    "                           **addtnl_sql_function_kwargs}\n",
    "#-------------------------\n",
    "sql_function_kwargs = Utilities.supplement_dict_with_default_values(\n",
    "    to_supplmnt_dict=sql_function_kwargs, \n",
    "    default_values_dict=dict(\n",
    "        df_outage=daq_df, \n",
    "        batch_size=batch_size, \n",
    "        df_args=dict(\n",
    "            mapping_to_ami={'Premise #':'premise_nbs'}, \n",
    "            is_df_consolidated=False\n",
    "        )\n",
    "    ), \n",
    "    extend_any_lists=True,\n",
    "    inplace=True\n",
    ")"
   ]
  },
  {
   "cell_type": "code",
   "execution_count": null,
   "id": "c3737cc9",
   "metadata": {},
   "outputs": [],
   "source": [
    "ami_save_args = dict(\n",
    "    save_to_file=True, \n",
    "    save_dir = os.path.join(r'C:\\Users\\s346557\\Documents\\LocalData\\KeithFieldData', 'AMINonVee'), \n",
    "    save_name=r'ami_nonvee.csv', \n",
    "    index=True\n",
    ")\n",
    "\n",
    "\n",
    "end_events_save_args = dict(\n",
    "    save_to_file=True, \n",
    "    save_dir = os.path.join(r'C:\\Users\\s346557\\Documents\\LocalData\\KeithFieldData', 'EndEvents'), \n",
    "    save_name=r'end_events.csv', \n",
    "    index=True\n",
    ")"
   ]
  },
  {
   "cell_type": "code",
   "execution_count": null,
   "id": "51373dbc",
   "metadata": {},
   "outputs": [],
   "source": []
  },
  {
   "cell_type": "markdown",
   "id": "8a7dfea9",
   "metadata": {},
   "source": [
    "# TODO!!!!!!!!!!!!!\n",
    "# date_only in build_sql functions!"
   ]
  },
  {
   "cell_type": "code",
   "execution_count": null,
   "id": "708cc4b9",
   "metadata": {},
   "outputs": [],
   "source": []
  },
  {
   "cell_type": "code",
   "execution_count": null,
   "id": "41d16605",
   "metadata": {},
   "outputs": [],
   "source": [
    "# sql_function_kwargs['cols_of_interest'] = cols_of_interest_ami\n",
    "\n",
    "# start=time.time()\n",
    "# while True:\n",
    "#     try:\n",
    "#         ami_nonvee = AMINonVee(\n",
    "#             df_construct_type=df_construct_type, \n",
    "#             contstruct_df_args = contstruct_df_args, \n",
    "#             build_sql_function=AMINonVee_SQL.build_sql_usg_for_outages, \n",
    "#             build_sql_function_kwargs=sql_function_kwargs, \n",
    "#             init_df_in_constructor=True, \n",
    "#             save_args=ami_save_args\n",
    "#         )\n",
    "\n",
    "#         break # stop the loop if the function completes sucessfully\n",
    "#     except Exception as e:\n",
    "#         print(\"Function errored out!\", e)\n",
    "#         print(\"Retrying ... \")\n",
    "# build_time = time.time()-start\n",
    "# print(build_time)"
   ]
  },
  {
   "cell_type": "code",
   "execution_count": null,
   "id": "72b2fa23-da10-4ffb-b089-ad85a4570514",
   "metadata": {},
   "outputs": [],
   "source": [
    "start=time.time()\n",
    "\n",
    "exit_status = Utilities.run_tryexceptwhile_process(\n",
    "    func                = AMINonVee,\n",
    "    func_args_dict      = dict(\n",
    "        df_construct_type         = df_construct_type, \n",
    "        contstruct_df_args        = contstruct_df_args, \n",
    "        build_sql_function        = AMINonVee_SQL.build_sql_usg_for_outages, \n",
    "        build_sql_function_kwargs = sql_function_kwargs, \n",
    "        init_df_in_constructor    = True, \n",
    "        save_args                 = ami_save_args\n",
    "    ), \n",
    "    max_calls_per_min   = 1, \n",
    "    lookback_period_min = 15, \n",
    "    max_calls_absolute  = 1000, \n",
    "    verbose             = True\n",
    ")\n",
    "print(f'exit_status = {exit_status}')\n",
    "\n",
    "build_time = time.time()-start\n",
    "print(build_time)"
   ]
  },
  {
   "cell_type": "code",
   "execution_count": null,
   "id": "9e67c8b2",
   "metadata": {},
   "outputs": [],
   "source": [
    "# sql_function_kwargs['cols_of_interest'] = cols_of_interest_end_dev_event\n",
    "\n",
    "# start=time.time()\n",
    "# while True:\n",
    "#     try:\n",
    "#         end_events = AMIEndEvents(\n",
    "#             df_construct_type=df_construct_type, \n",
    "#             contstruct_df_args = contstruct_df_args, \n",
    "#             build_sql_function=AMIEndEvents_SQL.build_sql_end_events_for_outages, \n",
    "#             build_sql_function_kwargs=sql_function_kwargs, \n",
    "#             init_df_in_constructor=True, \n",
    "#             save_args=end_events_save_args\n",
    "#         )\n",
    "\n",
    "#         break # stop the loop if the function completes sucessfully\n",
    "#     except Exception as e:\n",
    "#         print(\"Function errored out!\", e)\n",
    "#         print(\"Retrying ... \")\n",
    "# build_time = time.time()-start\n",
    "# print(build_time)"
   ]
  },
  {
   "cell_type": "code",
   "execution_count": null,
   "id": "dcc189f5-464c-497e-8d05-218ec7fed1d5",
   "metadata": {},
   "outputs": [],
   "source": [
    "start=time.time()\n",
    "\n",
    "exit_status = Utilities.run_tryexceptwhile_process(\n",
    "    func                = AMIEndEvents,\n",
    "    func_args_dict      = dict(\n",
    "        df_construct_type         = df_construct_type, \n",
    "        contstruct_df_args        = contstruct_df_args, \n",
    "        build_sql_function        = AMIEndEvents_SQL.build_sql_end_events_for_outages, \n",
    "        build_sql_function_kwargs = sql_function_kwargs, \n",
    "        init_df_in_constructor    = True, \n",
    "        save_args                 = end_events_save_args\n",
    "    ), \n",
    "    max_calls_per_min   = 1, \n",
    "    lookback_period_min = 15, \n",
    "    max_calls_absolute  = 1000, \n",
    "    verbose             = True\n",
    ")\n",
    "print(f'exit_status = {exit_status}')\n",
    "\n",
    "build_time = time.time()-start\n",
    "print(build_time)"
   ]
  },
  {
   "cell_type": "code",
   "execution_count": null,
   "id": "badf3395",
   "metadata": {},
   "outputs": [],
   "source": [
    "assert(0)"
   ]
  },
  {
   "cell_type": "code",
   "execution_count": null,
   "id": "a679803d",
   "metadata": {},
   "outputs": [],
   "source": []
  },
  {
   "cell_type": "code",
   "execution_count": null,
   "id": "83f7bd36",
   "metadata": {},
   "outputs": [],
   "source": []
  },
  {
   "cell_type": "code",
   "execution_count": null,
   "id": "d9c0c000",
   "metadata": {},
   "outputs": [],
   "source": []
  },
  {
   "cell_type": "code",
   "execution_count": null,
   "id": "f5bef389",
   "metadata": {},
   "outputs": [],
   "source": []
  },
  {
   "cell_type": "code",
   "execution_count": null,
   "id": "2978b676",
   "metadata": {},
   "outputs": [],
   "source": []
  },
  {
   "cell_type": "code",
   "execution_count": null,
   "id": "34ebcf16",
   "metadata": {},
   "outputs": [],
   "source": []
  },
  {
   "cell_type": "code",
   "execution_count": null,
   "id": "b509e74d",
   "metadata": {},
   "outputs": [],
   "source": []
  },
  {
   "cell_type": "code",
   "execution_count": null,
   "id": "aefccb04",
   "metadata": {},
   "outputs": [],
   "source": [
    "ami_df = GenAn.read_df_from_csv_dir_batches(\n",
    "    files_dir=ami_save_args['save_dir'], \n",
    "    file_path_glob=r'*.csv', \n",
    "    file_path_regex=None, \n",
    "    cols_and_types_to_convert_dict=None, \n",
    "    to_numeric_errors='coerce', \n",
    "    drop_unnamed0_col=True, \n",
    "    pd_read_csv_kwargs={}, \n",
    "    assert_all_cols_equal=True    \n",
    ")"
   ]
  },
  {
   "cell_type": "code",
   "execution_count": null,
   "id": "e0a64659",
   "metadata": {},
   "outputs": [],
   "source": [
    "ede_df = GenAn.read_df_from_csv_dir_batches(\n",
    "    files_dir=end_events_save_args['save_dir'], \n",
    "    file_path_glob=r'*.csv', \n",
    "    file_path_regex=None, \n",
    "    cols_and_types_to_convert_dict=None, \n",
    "    to_numeric_errors='coerce', \n",
    "    drop_unnamed0_col=True, \n",
    "    pd_read_csv_kwargs={}, \n",
    "    assert_all_cols_equal=True    \n",
    ")"
   ]
  },
  {
   "cell_type": "code",
   "execution_count": null,
   "id": "6d552393",
   "metadata": {},
   "outputs": [],
   "source": []
  },
  {
   "cell_type": "code",
   "execution_count": null,
   "id": "68af0a14",
   "metadata": {},
   "outputs": [],
   "source": [
    "keith_data_df['Premise #'].nunique()"
   ]
  },
  {
   "cell_type": "code",
   "execution_count": null,
   "id": "a24c8fb3",
   "metadata": {},
   "outputs": [],
   "source": [
    "ede_df['aep_premise_nb'].nunique()"
   ]
  },
  {
   "cell_type": "code",
   "execution_count": null,
   "id": "48253d1c",
   "metadata": {},
   "outputs": [],
   "source": [
    "ede_df"
   ]
  },
  {
   "cell_type": "code",
   "execution_count": null,
   "id": "27b8b399",
   "metadata": {},
   "outputs": [],
   "source": []
  },
  {
   "cell_type": "code",
   "execution_count": null,
   "id": "f1a716be",
   "metadata": {},
   "outputs": [],
   "source": []
  },
  {
   "cell_type": "code",
   "execution_count": null,
   "id": "35ef5899",
   "metadata": {},
   "outputs": [],
   "source": []
  },
  {
   "cell_type": "code",
   "execution_count": null,
   "id": "70efc5f5",
   "metadata": {},
   "outputs": [],
   "source": [
    "ami_df = ami_df.rename(columns={'IO_52_Order_Nb_GPD_FOR_SQL':'IO_52_Order_Nb'})\n",
    "#-----\n",
    "ami_df = AMINonVee.perform_std_initiation_and_cleaning(ami_df)\n",
    "#-----\n",
    "# Should the following be added to AMINonVee.perform_std_initiation_and_cleaning?\n",
    "ami_df = Utilities_dt.strip_tz_info_and_convert_to_dt(\n",
    "    df=ami_df, \n",
    "    time_col='starttimeperiod', \n",
    "    placement_col='starttimeperiod_local', \n",
    "    run_quick=True, \n",
    "    n_strip=6, \n",
    "    inplace=False\n",
    ")\n",
    "ami_df = Utilities_dt.strip_tz_info_and_convert_to_dt(\n",
    "    df=ami_df, \n",
    "    time_col='endtimeperiod', \n",
    "    placement_col='endtimeperiod_local', \n",
    "    run_quick=True, \n",
    "    n_strip=6, \n",
    "    inplace=False\n",
    ")"
   ]
  },
  {
   "cell_type": "code",
   "execution_count": null,
   "id": "b7c7ddef",
   "metadata": {},
   "outputs": [],
   "source": [
    "ede_df = ede_df.rename(columns={'IO_52_Order_Nb_GPD_FOR_SQL':'IO_52_Order_Nb'})\n",
    "ede_df = Utilities_dt.strip_tz_info_and_convert_to_dt(\n",
    "    df=ede_df, \n",
    "    time_col='valuesinterval', \n",
    "    placement_col='valuesinterval_local', \n",
    "    run_quick=True, \n",
    "    n_strip=6, \n",
    "    inplace=False\n",
    ")\n",
    "ede_df = AMIEndEvents.reduce_end_event_reasons_in_df(df=ede_df)\n",
    "#-----\n",
    "ede_cols_to_keep = [\n",
    "    'valuesinterval_local', \n",
    "    'reason', \n",
    "    'serialnumber', \n",
    "    'aep_premise_nb', \n",
    "    'enddeviceeventtypeid', \n",
    "    'event_type', \n",
    "    'IO_52_Order_Nb'\n",
    "]\n",
    "ede_df = ede_df[ede_cols_to_keep]"
   ]
  },
  {
   "cell_type": "code",
   "execution_count": null,
   "id": "0f4b9d63",
   "metadata": {},
   "outputs": [],
   "source": [
    "ede_df"
   ]
  },
  {
   "cell_type": "code",
   "execution_count": null,
   "id": "129ef19a",
   "metadata": {},
   "outputs": [],
   "source": []
  },
  {
   "cell_type": "code",
   "execution_count": null,
   "id": "1f747c7c",
   "metadata": {},
   "outputs": [],
   "source": [
    "og_shape0 = ede_df.shape[0]\n",
    "ede_df = pd.merge(\n",
    "    ede_df, \n",
    "    keith_data_df[['Premise #', 'Transformer #', 'Investigation completed', 'IO 52 Order #']].rename(\n",
    "        columns={\n",
    "            'Premise #':'aep_premise_nb', \n",
    "            'IO 52 Order #':'IO_52_Order_Nb'\n",
    "        }\n",
    "    ), \n",
    "    how='left', \n",
    "    left_on=['aep_premise_nb', 'IO_52_Order_Nb'], \n",
    "    right_on=['aep_premise_nb', 'IO_52_Order_Nb']\n",
    ")\n",
    "assert(ede_df.shape[0]==og_shape0)\n",
    "#-----\n",
    "ede_df['valuesinterval_rel'] = ede_df['valuesinterval_local']-ede_df['Investigation completed']"
   ]
  },
  {
   "cell_type": "code",
   "execution_count": null,
   "id": "66007046",
   "metadata": {},
   "outputs": [],
   "source": []
  },
  {
   "cell_type": "code",
   "execution_count": null,
   "id": "27da392a",
   "metadata": {},
   "outputs": [],
   "source": [
    "og_shape0 = ami_df.shape[0]\n",
    "ami_df = pd.merge(\n",
    "    ami_df, \n",
    "    keith_data_df[['Premise #', 'Transformer #', 'Investigation completed', 'IO 52 Order #']].rename(\n",
    "        columns={\n",
    "            'Premise #':'aep_premise_nb', \n",
    "            'IO 52 Order #':'IO_52_Order_Nb'\n",
    "        }\n",
    "    ), \n",
    "    how='left', \n",
    "    left_on=['aep_premise_nb', 'IO_52_Order_Nb'], \n",
    "    right_on=['aep_premise_nb', 'IO_52_Order_Nb']\n",
    ")\n",
    "assert(ami_df.shape[0]==og_shape0)\n",
    "#-----\n",
    "ami_df['starttimeperiod_rel'] = ami_df['starttimeperiod_local']-ami_df['Investigation completed']\n",
    "ami_df['endtimeperiod_rel']   = ami_df['endtimeperiod_local']-ami_df['Investigation completed']"
   ]
  },
  {
   "cell_type": "code",
   "execution_count": null,
   "id": "2044bf56",
   "metadata": {},
   "outputs": [],
   "source": [
    "ami_df[['aep_derived_uom', 'aep_srvc_qlty_idntfr']].value_counts()"
   ]
  },
  {
   "cell_type": "code",
   "execution_count": null,
   "id": "cc90e45e",
   "metadata": {},
   "outputs": [],
   "source": []
  },
  {
   "cell_type": "code",
   "execution_count": null,
   "id": "3345678b",
   "metadata": {},
   "outputs": [],
   "source": [
    "ami_kwh_df = ami_df[\n",
    "    (ami_df['aep_derived_uom']=='KWH') & \n",
    "    (ami_df['aep_srvc_qlty_idntfr']=='TOTAL')\n",
    "]\n",
    "#-----\n",
    "ami_vlt_df = ami_df[\n",
    "    (ami_df['aep_derived_uom']=='VOLT') & \n",
    "    (ami_df['aep_srvc_qlty_idntfr']=='AVG')\n",
    "]"
   ]
  },
  {
   "cell_type": "code",
   "execution_count": null,
   "id": "0e1bbc2b",
   "metadata": {},
   "outputs": [],
   "source": [
    "ami_kwh_df"
   ]
  },
  {
   "cell_type": "code",
   "execution_count": null,
   "id": "1b301507",
   "metadata": {},
   "outputs": [],
   "source": [
    "# fig, ax = Plot_General.default_subplots()\n",
    "# AMINonVee.plot_usage(\n",
    "#     fig=fig, \n",
    "#     ax=ax, \n",
    "#     data=ami_kwh_df, \n",
    "#     x='starttimeperiod_rel', \n",
    "#     y='value', \n",
    "#     hue='serialnumber', \n",
    "#     data_label='', \n",
    "#     title_args=None, \n",
    "#     ax_args=None, \n",
    "#     xlabel_args=None, \n",
    "#     ylabel_args=None, \n",
    "#     df_mean=None, \n",
    "#     df_mean_col=None, \n",
    "#     mean_args=None, \n",
    "#     draw_without_hue_also=False, \n",
    "#     seg_line_freq=None, \n",
    "#     palette='colorblind'\n",
    "# )"
   ]
  },
  {
   "cell_type": "code",
   "execution_count": null,
   "id": "9fc75e30",
   "metadata": {},
   "outputs": [],
   "source": []
  },
  {
   "cell_type": "code",
   "execution_count": null,
   "id": "fa0dead7",
   "metadata": {},
   "outputs": [],
   "source": []
  },
  {
   "cell_type": "code",
   "execution_count": null,
   "id": "7bec58ed",
   "metadata": {},
   "outputs": [],
   "source": [
    "fig, ax = Plot_General.default_subplots()\n",
    "AMINonVee.plot_usage(\n",
    "    fig=fig, \n",
    "    ax=ax, \n",
    "    data=ami_kwh_df[ami_kwh_df['serialnumber'].isin(ami_kwh_df['serialnumber'].unique().tolist()[:10])], \n",
    "    x='starttimeperiod_rel', \n",
    "    y='value', \n",
    "    hue='serialnumber', \n",
    "    data_label='', \n",
    "    title_args=None, \n",
    "    ax_args=None, \n",
    "    xlabel_args=None, \n",
    "    ylabel_args=None, \n",
    "    df_mean=None, \n",
    "    df_mean_col=None, \n",
    "    mean_args=None, \n",
    "    draw_without_hue_also=False, \n",
    "    seg_line_freq=None, \n",
    "    palette='colorblind'\n",
    ")"
   ]
  },
  {
   "cell_type": "code",
   "execution_count": null,
   "id": "504cd998",
   "metadata": {},
   "outputs": [],
   "source": []
  },
  {
   "cell_type": "code",
   "execution_count": null,
   "id": "e1882978",
   "metadata": {},
   "outputs": [],
   "source": [
    "fig, ax = Plot_General.default_subplots()\n",
    "AMINonVee.plot_usage(\n",
    "    fig=fig, \n",
    "    ax=ax, \n",
    "    data=ami_kwh_df[ami_kwh_df['serialnumber'].isin(ami_kwh_df['serialnumber'].unique().tolist()[:2])], \n",
    "    x='starttimeperiod_rel', \n",
    "    y='value', \n",
    "    hue='serialnumber', \n",
    "    data_label='', \n",
    "    title_args=None, \n",
    "    ax_args=None, \n",
    "    xlabel_args=None, \n",
    "    ylabel_args=None, \n",
    "    df_mean=None, \n",
    "    df_mean_col=None, \n",
    "    mean_args=None, \n",
    "    draw_without_hue_also=False, \n",
    "    seg_line_freq=None, \n",
    "    palette='colorblind'\n",
    ")"
   ]
  },
  {
   "cell_type": "code",
   "execution_count": null,
   "id": "7ca08daf",
   "metadata": {},
   "outputs": [],
   "source": [
    "fig, ax = Plot_General.default_subplots()\n",
    "AMINonVee.plot_usage(\n",
    "    fig=fig, \n",
    "    ax=ax, \n",
    "    data=ami_vlt_df[ami_vlt_df['serialnumber'].isin(ami_vlt_df['serialnumber'].unique().tolist()[:2])], \n",
    "    x='starttimeperiod_rel', \n",
    "    y='value', \n",
    "    hue='serialnumber', \n",
    "    data_label='', \n",
    "    title_args=None, \n",
    "    ax_args=None, \n",
    "    xlabel_args=None, \n",
    "    ylabel_args=None, \n",
    "    df_mean=None, \n",
    "    df_mean_col=None, \n",
    "    mean_args=None, \n",
    "    draw_without_hue_also=False, \n",
    "    seg_line_freq=None, \n",
    "    palette='colorblind'\n",
    ")"
   ]
  },
  {
   "cell_type": "code",
   "execution_count": null,
   "id": "20c400c6",
   "metadata": {},
   "outputs": [],
   "source": [
    "fig, ax = Plot_General.default_subplots()\n",
    "AMINonVee.plot_usage(\n",
    "    fig=fig, \n",
    "    ax=ax, \n",
    "    data=ami_vlt_df[ami_vlt_df['serialnumber'].isin(ami_vlt_df['serialnumber'].unique().tolist()[2:4])], \n",
    "    x='starttimeperiod_rel', \n",
    "    y='value', \n",
    "    hue='serialnumber', \n",
    "    data_label='', \n",
    "    title_args=None, \n",
    "    ax_args=None, \n",
    "    xlabel_args=None, \n",
    "    ylabel_args=None, \n",
    "    df_mean=None, \n",
    "    df_mean_col=None, \n",
    "    mean_args=None, \n",
    "    draw_without_hue_also=False, \n",
    "    seg_line_freq=None, \n",
    "    palette='colorblind'\n",
    ")"
   ]
  },
  {
   "cell_type": "code",
   "execution_count": null,
   "id": "fa479fd0",
   "metadata": {
    "scrolled": true
   },
   "outputs": [],
   "source": [
    "fig, ax = Plot_General.default_subplots()\n",
    "AMINonVee.plot_usage(\n",
    "    fig=fig, \n",
    "    ax=ax, \n",
    "    data=ami_vlt_df[ami_vlt_df['serialnumber'].isin(ami_vlt_df['serialnumber'].unique().tolist()[4:6])], \n",
    "    x='starttimeperiod_rel', \n",
    "    y='value', \n",
    "    hue='serialnumber', \n",
    "    data_label='', \n",
    "    title_args=None, \n",
    "    ax_args=None, \n",
    "    xlabel_args=None, \n",
    "    ylabel_args=None, \n",
    "    df_mean=None, \n",
    "    df_mean_col=None, \n",
    "    mean_args=None, \n",
    "    draw_without_hue_also=False, \n",
    "    seg_line_freq=None, \n",
    "    palette='colorblind'\n",
    ")"
   ]
  },
  {
   "cell_type": "code",
   "execution_count": null,
   "id": "c74e9aa8",
   "metadata": {},
   "outputs": [],
   "source": []
  },
  {
   "cell_type": "code",
   "execution_count": null,
   "id": "15b9dd3c",
   "metadata": {},
   "outputs": [],
   "source": []
  },
  {
   "cell_type": "code",
   "execution_count": null,
   "id": "f348b482",
   "metadata": {},
   "outputs": [],
   "source": []
  },
  {
   "cell_type": "code",
   "execution_count": null,
   "id": "b398ce8b",
   "metadata": {},
   "outputs": [],
   "source": [
    "    sql = \"\"\"\n",
    "    Select * from default.meter_premise\n",
    "    WHERE technology_tx='{}'\n",
    "    ORDER BY RAND()\n",
    "    LIMIT {}\n",
    "    \"\"\""
   ]
  },
  {
   "cell_type": "code",
   "execution_count": null,
   "id": "5008fa66",
   "metadata": {},
   "outputs": [],
   "source": []
  },
  {
   "cell_type": "markdown",
   "id": "0d73e0f6",
   "metadata": {},
   "source": [
    "# Unique meter events by meter type (e.g., KV2c)"
   ]
  },
  {
   "cell_type": "code",
   "execution_count": null,
   "id": "1395de4f",
   "metadata": {},
   "outputs": [],
   "source": [
    "def get_distinct_technology_tx(\n",
    "    conn_aws=None, \n",
    "    **kwargs\n",
    "):\n",
    "    r\"\"\"\n",
    "    NOTE: default.meter_premise_hist does not have trsf_pole_nb information.\n",
    "          Therefore, trsf_pole_nbs can only be selected from those currently active.\n",
    "    \"\"\"\n",
    "    #-------------------------\n",
    "    if conn_aws is None:\n",
    "        conn_aws = Utilities.get_athena_prod_aws_connection()\n",
    "    #-------------------------\n",
    "    kwargs = copy.deepcopy(kwargs)\n",
    "    _ = kwargs.pop('addtnl_cols_of_interest', None)\n",
    "    #-------------------------\n",
    "    kwargs['technology_tx_col'] = kwargs.get('technology_tx_col', 'technology_tx')\n",
    "    #-------------------------\n",
    "    sql = MeterPremise.build_sql_meter_premise(\n",
    "        cols_of_interest=[kwargs['technology_tx_col']], \n",
    "        **kwargs\n",
    "    )\n",
    "    sql.sql_select.select_distinct=True\n",
    "    #-------------------------\n",
    "    df = pd.read_sql_query(sql.get_sql_statement(), conn_aws)\n",
    "    #-------------------------\n",
    "    return df"
   ]
  },
  {
   "cell_type": "code",
   "execution_count": null,
   "id": "e0caad95",
   "metadata": {},
   "outputs": [],
   "source": [
    "def get_random_MPs_of_tech_type(\n",
    "    technology_tx_i, \n",
    "    n_PNs, \n",
    "    opcos=None, \n",
    "    conn_aws=None, \n",
    "    return_sql=False, \n",
    "    **kwargs\n",
    "):\n",
    "    r\"\"\"\n",
    "    Randomly grab MeterPremise (MP) entries of technology_tx type\n",
    "    \n",
    "    kwargs:\n",
    "        Can be used to input any sql kwargs for MeterPremise (e.g., state requirements, etc.)\n",
    "    \"\"\"\n",
    "    #-------------------------\n",
    "    if conn_aws is None:\n",
    "        conn_aws = Utilities.get_athena_prod_aws_connection()\n",
    "    #-------------------------\n",
    "    if kwargs:\n",
    "        kwargs['technology_tx']     = technology_tx_i\n",
    "        kwargs['technology_tx_col'] = kwargs.get('technology_tx_col', 'technology_tx')\n",
    "    else:\n",
    "        kwargs = dict(\n",
    "            technology_tx=technology_tx_i, \n",
    "            technology_tx_col='technology_tx'\n",
    "        )\n",
    "    #-----\n",
    "    # kwargs['alias'] = kwargs.get('alias', 'MP')\n",
    "    #-----\n",
    "    # technology_tx needs to be included in cols_of_interest \n",
    "    if 'addtnl_cols_of_interest' in kwargs.keys():\n",
    "        if kwargs['technology_tx_col'] not in kwargs['addtnl_cols_of_interest']:\n",
    "            kwargs['addtnl_cols_of_interest'].append(kwargs['technology_tx_col'])\n",
    "    else:\n",
    "        kwargs['addtnl_cols_of_interest'] = [kwargs['technology_tx_col']]\n",
    "    #-------------------------\n",
    "    sql = MeterPremise.build_sql_meter_premise(**kwargs)\n",
    "    #-------------------------\n",
    "    # Randomize order\n",
    "    sql.set_sql_orderby(SQLOrderBy(field_descs=['RAND()']))\n",
    "    #-------------------------\n",
    "    # Limit number of entries returned\n",
    "    if n_PNs is not None:\n",
    "        sql.set_limit(n_PNs)\n",
    "    #-------------------------\n",
    "    if opcos is not None:\n",
    "        sql_stmnt = MeterPremise.add_opco_nm_to_mp_sql(\n",
    "            mp_sql=sql, \n",
    "            opcos=opcos, \n",
    "            comp_cols=['opco_nm'], \n",
    "            comp_alias='COMP', \n",
    "            join_type='LEFT'\n",
    "        )\n",
    "    else:\n",
    "        sql_stmnt = sql.get_sql_statement()\n",
    "    #-------------------------\n",
    "    df = pd.read_sql_query(sql_stmnt, conn_aws)\n",
    "    if df.shape[0]>0:\n",
    "        assert(\n",
    "            (df[kwargs['technology_tx_col']].nunique()==1) and\n",
    "            (df[kwargs['technology_tx_col']].unique()[0]==technology_tx_i)\n",
    "        )\n",
    "    #-------------------------\n",
    "    if return_sql:\n",
    "        return df, sql_stmnt\n",
    "    else:\n",
    "        return df\n",
    "\n",
    "def get_random_PNs_of_tech_type(\n",
    "    technology_tx_i, \n",
    "    n_PNs, \n",
    "    opcos=None, \n",
    "    conn_aws=None, \n",
    "    return_sql=False, \n",
    "    **kwargs\n",
    "):\n",
    "    r\"\"\"\n",
    "    \"\"\"\n",
    "    #-------------------------\n",
    "    if conn_aws is None:\n",
    "        conn_aws = Utilities.get_athena_prod_aws_connection()\n",
    "    #-------------------------\n",
    "    mp_df, sql_stmnt = get_random_MPs_of_tech_type(\n",
    "        technology_tx_i=technology_tx_i, \n",
    "        n_PNs=n_PNs, \n",
    "        opcos=opcos, \n",
    "        conn_aws=conn_aws, \n",
    "        return_sql=True, \n",
    "        **kwargs\n",
    "    )\n",
    "    #-------------------------\n",
    "    if mp_df.shape[0]==0:\n",
    "        return_PNs = []\n",
    "    else:\n",
    "        return_PNs = mp_df['prem_nb'].unique().tolist()\n",
    "    #-------------------------\n",
    "    if return_sql:\n",
    "        return return_PNs, sql_stmnt\n",
    "    else:\n",
    "        return return_PNs.tolist() "
   ]
  },
  {
   "cell_type": "code",
   "execution_count": null,
   "id": "3c1e331a",
   "metadata": {},
   "outputs": [],
   "source": [
    "def get_random_PNs_for_each_tech_type(\n",
    "    n_PNs, \n",
    "    opcos=None, \n",
    "    conn_aws=None, \n",
    "    return_sql=False, \n",
    "    **kwargs\n",
    "):\n",
    "    r\"\"\"\n",
    "    \"\"\"\n",
    "    #-------------------------\n",
    "    if conn_aws is None:\n",
    "        conn_aws = Utilities.get_athena_prod_aws_connection()\n",
    "    #-------------------------\n",
    "    kwargs['technology_tx_col'] = kwargs.get('technology_tx_col', 'technology_tx')\n",
    "    #-------------------------\n",
    "    distinct_technology_txs = get_distinct_technology_tx(\n",
    "        conn_aws=conn_aws, \n",
    "        **kwargs\n",
    "    )\n",
    "    #-------------------------\n",
    "    return_dict = dict()\n",
    "    return_sql_dict = dict()\n",
    "    for technology_tx_i in distinct_technology_txs[kwargs['technology_tx_col']].tolist():\n",
    "        # Skip if blank/empty\n",
    "        if not technology_tx_i:\n",
    "            continue\n",
    "        #-------------------------\n",
    "        PNs_i, sql_stmnt_i = get_random_PNs_of_tech_type(\n",
    "            technology_tx_i=technology_tx_i, \n",
    "            n_PNs=n_PNs, \n",
    "            opcos=opcos, \n",
    "            conn_aws=conn_aws, \n",
    "            return_sql=True, \n",
    "            **kwargs\n",
    "        )\n",
    "        #-------------------------\n",
    "        assert(technology_tx_i not in return_dict.keys())\n",
    "        assert(technology_tx_i not in return_sql_dict.keys())\n",
    "        return_dict[technology_tx_i]     = PNs_i\n",
    "        return_sql_dict[technology_tx_i] = sql_stmnt_i \n",
    "    #-------------------------\n",
    "    if return_sql:\n",
    "        return return_dict, return_sql_dict\n",
    "    else:\n",
    "        return return_dict"
   ]
  },
  {
   "cell_type": "code",
   "execution_count": null,
   "id": "7fccf3f3",
   "metadata": {},
   "outputs": [],
   "source": [
    "def get_distinct_events_by_meter_type(\n",
    "    n_PNs_to_sample, \n",
    "    date_0, \n",
    "    date_1, \n",
    "    rand_PNs_for_tech_txs_dict=None, \n",
    "    batch_size=10000, \n",
    "    return_full_dfs=False, \n",
    "    opcos=None, \n",
    "    conn_aws=None, \n",
    "    **kwargs\n",
    "):\n",
    "    r\"\"\"\n",
    "    opcos:\n",
    "        Only used if rand_PNs_for_tech_txs_dict is None (i.e., only used when\n",
    "          random PNs are found within this function, not supplied by user)\n",
    "    \"\"\"\n",
    "    #-------------------------\n",
    "    if rand_PNs_for_tech_txs_dict is None:\n",
    "        rand_PNs_for_tech_txs_dict = get_random_PNs_for_each_tech_type(\n",
    "            n_PNs=n_PNs_to_sample, \n",
    "            opcos=opcos, \n",
    "            conn_aws=conn_aws, \n",
    "            return_sql=False, \n",
    "            **kwargs\n",
    "        )\n",
    "    #-------------------------\n",
    "    return_dict = dict()\n",
    "    for tech_tx_i,PNs_i in rand_PNs_for_tech_txs_dict.items():\n",
    "        #----------\n",
    "        if len(PNs_i)==0:\n",
    "            if return_full_dfs:\n",
    "                return_dict[tech_tx_i] = pd.DataFrame()\n",
    "            else:\n",
    "                return_dict[tech_tx_i] = pd.Series()\n",
    "            continue\n",
    "        #----------\n",
    "            \n",
    "        ede_i = AMIEndEvents(\n",
    "            df_construct_type=DFConstructType.kRunSqlQuery, \n",
    "            contstruct_df_args=None, \n",
    "            init_df_in_constructor=True, \n",
    "            build_sql_function=AMIEndEvents_SQL.build_sql_end_events, \n",
    "            build_sql_function_kwargs=dict(\n",
    "                date_range = [date_0, date_1], \n",
    "                premise_nbs = PNs_i, \n",
    "                field_to_split='premise_nbs', \n",
    "                batch_size=batch_size, \n",
    "                verbose=True\n",
    "            ), \n",
    "            save_args=False, \n",
    "            **kwargs\n",
    "        )\n",
    "        #-------------------------\n",
    "        ede_df_i = ede_i.df.copy()\n",
    "        if ede_df_i.shape[0]>0:\n",
    "            ede_df_i = AMIEndEvents.reduce_end_event_reasons_in_df(\n",
    "                df=ede_df_i, \n",
    "                reason_col='reason', \n",
    "                placement_col='reason'\n",
    "            )\n",
    "        #-------------------------\n",
    "        assert(tech_tx_i not in return_dict.keys())\n",
    "        if return_full_dfs:\n",
    "            return_dict[tech_tx_i] = ede_df_i\n",
    "        else:\n",
    "            return_dict[tech_tx_i] = ede_df_i['reason'].value_counts()\n",
    "    #-------------------------\n",
    "    return return_dict"
   ]
  },
  {
   "cell_type": "code",
   "execution_count": null,
   "id": "5696502a",
   "metadata": {},
   "outputs": [],
   "source": [
    "def plot_reasons_by_meter_type(\n",
    "    fig_num, \n",
    "    reasons_by_meter_type_df, \n",
    "    n_per_plot=10, \n",
    "    orient='v'\n",
    "):\n",
    "    r\"\"\"\n",
    "    \"\"\"\n",
    "    #-------------------------\n",
    "    assert(orient=='h' or orient=='v')\n",
    "    if orient=='v':\n",
    "        x='variable' \n",
    "        y='value'\n",
    "    else:\n",
    "        y='variable' \n",
    "        x='value'\n",
    "    #-------------------------\n",
    "    batch_idxs = Utilities.get_batch_idx_pairs(\n",
    "        n_total=reasons_by_meter_type_df.shape[1],\n",
    "        batch_size=n_per_plot,\n",
    "        absorb_last_pair_pct=0.5,\n",
    "    )\n",
    "    #-------------------------\n",
    "    n_plots = len(batch_idxs)\n",
    "    fig_ax_pairs = []\n",
    "    for i_plot, batch_i in enumerate(batch_idxs):\n",
    "        fig_i, ax_i = Plot_General.default_subplots(\n",
    "            fig_num=fig_num, \n",
    "            unit_figsize_width=14,\n",
    "            unit_figsize_height=10,\n",
    "        )\n",
    "        #-----\n",
    "        i_beg = batch_i[0]\n",
    "        i_end = batch_i[1]\n",
    "        order = reasons_by_meter_type_df.columns[i_beg:i_end].tolist()\n",
    "        #-----\n",
    "        sns.barplot(\n",
    "            ax=ax_i, \n",
    "            data=reasons_by_meter_type_df.iloc[:, i_beg:i_end].reset_index().melt(id_vars='meter_type'), \n",
    "            x=x, \n",
    "            y=y, \n",
    "            hue='meter_type', \n",
    "            order=order, \n",
    "            orient=orient\n",
    "        )\n",
    "        #-----\n",
    "        if orient=='v':\n",
    "            xtick_rename_dict = {x_tick_i:i+1 for i,x_tick_i in enumerate(order)}\n",
    "            Plot_General.set_general_plotting_args(\n",
    "                ax=ax_i, \n",
    "                ax_args=dict(xticklabels=list(xtick_rename_dict.values()))\n",
    "            )\n",
    "            subplot_layout_params = Plot_General.get_subplot_layout_params(fig_i)\n",
    "            Plot_General.generate_xtick_labels_legend_textbox(\n",
    "                fig=fig_i, \n",
    "                xtick_rename_dict=xtick_rename_dict, \n",
    "                text_x_pos=1.02*subplot_layout_params['right'], \n",
    "                text_y_pos=subplot_layout_params['top'], \n",
    "                fontsize=12\n",
    "            )\n",
    "        #-----\n",
    "        fig_ax_pairs.append((fig_i, ax_i))\n",
    "        fig_num+=1\n",
    "    return fig_num, fig_ax_pairs"
   ]
  },
  {
   "cell_type": "code",
   "execution_count": null,
   "id": "cf5ecc1f",
   "metadata": {},
   "outputs": [],
   "source": [
    "conn_aws = Utilities.get_athena_prod_aws_connection()"
   ]
  },
  {
   "cell_type": "code",
   "execution_count": null,
   "id": "28884169-3a4b-4345-a861-bbca5d865e90",
   "metadata": {},
   "outputs": [],
   "source": []
  },
  {
   "cell_type": "markdown",
   "id": "98ec668e-ca09-40ee-97c1-21b9182e44b3",
   "metadata": {},
   "source": [
    "# BEG DEL"
   ]
  },
  {
   "cell_type": "code",
   "execution_count": null,
   "id": "434accee-03ea-4b24-ad12-57c6a4a84190",
   "metadata": {},
   "outputs": [],
   "source": [
    "import MeterPremise\n",
    "reload(MeterPremise)\n",
    "from MeterPremise import MeterPremise"
   ]
  },
  {
   "cell_type": "code",
   "execution_count": null,
   "id": "67152ff2-e939-436d-a41a-bd12ef670c09",
   "metadata": {},
   "outputs": [],
   "source": [
    "a,b = get_random_MPs_of_tech_type(\n",
    "    technology_tx_i='AMI', \n",
    "    n_PNs=10, \n",
    "    opcos='oh', \n",
    "    conn_aws=conn_aws, \n",
    "    return_sql=True, \n",
    ")"
   ]
  },
  {
   "cell_type": "code",
   "execution_count": null,
   "id": "fa460900-c99c-405d-92f5-b21f82951d6f",
   "metadata": {},
   "outputs": [],
   "source": [
    "print(b)"
   ]
  },
  {
   "cell_type": "code",
   "execution_count": null,
   "id": "fd0f854f-7094-4ed8-835d-f408c2d9d5cb",
   "metadata": {},
   "outputs": [],
   "source": []
  },
  {
   "cell_type": "code",
   "execution_count": null,
   "id": "ffae92f0-a78e-4d27-aa38-eb571942e2dc",
   "metadata": {},
   "outputs": [],
   "source": []
  },
  {
   "cell_type": "code",
   "execution_count": null,
   "id": "3c2811fb-ee24-42c9-b557-9b218466162a",
   "metadata": {},
   "outputs": [],
   "source": [
    "a,b = get_random_PNs_of_tech_type(\n",
    "    technology_tx_i = 'AMI', \n",
    "    n_PNs=10, \n",
    "    opcos='oh', \n",
    "    conn_aws=conn_aws, \n",
    "    return_sql=True, \n",
    ")"
   ]
  },
  {
   "cell_type": "code",
   "execution_count": null,
   "id": "f7445b34-4554-473a-8b0b-6abd8a078568",
   "metadata": {},
   "outputs": [],
   "source": [
    "print(b)"
   ]
  },
  {
   "cell_type": "code",
   "execution_count": null,
   "id": "b1ae20f3-a5ae-46a8-ab0a-e64125642d3b",
   "metadata": {},
   "outputs": [],
   "source": [
    "a"
   ]
  },
  {
   "cell_type": "code",
   "execution_count": null,
   "id": "af3321bf-695f-4818-aaf1-ae724eff877c",
   "metadata": {},
   "outputs": [],
   "source": []
  },
  {
   "cell_type": "code",
   "execution_count": null,
   "id": "5763f96a-571a-4308-b2a5-a6fce776ac30",
   "metadata": {},
   "outputs": [],
   "source": []
  },
  {
   "cell_type": "markdown",
   "id": "32fba6a8-f2a2-40a7-9311-dc15f9bc19c3",
   "metadata": {},
   "source": [
    "# END DEL"
   ]
  },
  {
   "cell_type": "code",
   "execution_count": null,
   "id": "f1cbcc2f",
   "metadata": {},
   "outputs": [],
   "source": [
    "n_PNs=100000\n",
    "# n_PNs=10\n",
    "conn_aws=None\n",
    "kwargs = dict()\n",
    "# kwargs = dict(technology_tx_col='devc_cd')\n",
    "\n",
    "date_0 = pd.to_datetime('2022-01-01')\n",
    "date_1 = pd.to_datetime('2023-09-01')\n",
    "\n",
    "return_full_dfs=False"
   ]
  },
  {
   "cell_type": "code",
   "execution_count": null,
   "id": "c684d329",
   "metadata": {
    "scrolled": true
   },
   "outputs": [],
   "source": [
    "rand_PNs_for_tech_txs_dict, sqls_dict = get_random_PNs_for_each_tech_type(\n",
    "    n_PNs=n_PNs, \n",
    "    conn_aws=conn_aws, \n",
    "    return_sql=True, \n",
    "    **kwargs\n",
    ")"
   ]
  },
  {
   "cell_type": "code",
   "execution_count": null,
   "id": "0dc70236",
   "metadata": {},
   "outputs": [],
   "source": []
  },
  {
   "cell_type": "code",
   "execution_count": null,
   "id": "34c7b8b6",
   "metadata": {},
   "outputs": [],
   "source": [
    "for k,v in rand_PNs_for_tech_txs_dict.items():\n",
    "    print(k)\n",
    "    print(len(v))\n",
    "    print()"
   ]
  },
  {
   "cell_type": "code",
   "execution_count": null,
   "id": "522ebd26",
   "metadata": {
    "scrolled": true
   },
   "outputs": [],
   "source": [
    "for k,v in sqls_dict.items():\n",
    "    print(k)\n",
    "    print(v)\n",
    "    print()"
   ]
  },
  {
   "cell_type": "code",
   "execution_count": null,
   "id": "81ed4752",
   "metadata": {
    "scrolled": true
   },
   "outputs": [],
   "source": [
    "distinct_events_by_meter_type = get_distinct_events_by_meter_type(\n",
    "    n_PNs_to_sample=n_PNs, \n",
    "    date_0=date_0, \n",
    "    date_1=date_1, \n",
    "    rand_PNs_for_tech_txs_dict=rand_PNs_for_tech_txs_dict, \n",
    "    return_full_dfs=False, \n",
    "    conn_aws=None, \n",
    "    **kwargs\n",
    ")"
   ]
  },
  {
   "cell_type": "code",
   "execution_count": null,
   "id": "45639a2a",
   "metadata": {
    "scrolled": true
   },
   "outputs": [],
   "source": [
    "for tech_tx_i,vcs_i in distinct_events_by_meter_type.items():\n",
    "    print(tech_tx_i)\n",
    "    print(vcs_i)\n",
    "    print('\\n\\n\\n')"
   ]
  },
  {
   "cell_type": "code",
   "execution_count": null,
   "id": "47a2e6c8",
   "metadata": {},
   "outputs": [],
   "source": [
    "with open(os.path.join(r'C:\\Users\\s346557\\Documents\\LocalData\\KeithFieldData', 'distinct_events_by_meter_type.pkl'), 'wb') as handle:\n",
    "    pickle.dump(distinct_events_by_meter_type, handle, protocol=pickle.HIGHEST_PROTOCOL)\n",
    "#-----\n",
    "with open(os.path.join(r'C:\\Users\\s346557\\Documents\\LocalData\\KeithFieldData', 'rand_PNs_for_tech_txs_dict.pkl'), 'wb') as handle:\n",
    "    pickle.dump(rand_PNs_for_tech_txs_dict, handle, protocol=pickle.HIGHEST_PROTOCOL)\n",
    "#-----\n",
    "with open(os.path.join(r'C:\\Users\\s346557\\Documents\\LocalData\\KeithFieldData', 'sqls_dict.pkl'), 'wb') as handle:\n",
    "    pickle.dump(sqls_dict, handle, protocol=pickle.HIGHEST_PROTOCOL)"
   ]
  },
  {
   "cell_type": "code",
   "execution_count": null,
   "id": "380fa480",
   "metadata": {},
   "outputs": [],
   "source": [
    "with open(os.path.join(r'C:\\Users\\s346557\\Documents\\LocalData\\KeithFieldData', 'distinct_events_by_meter_type.pkl'), 'rb') as handle:\n",
    "    distinct_events_by_meter_type = pickle.load(handle)\n",
    "#-----\n",
    "with open(os.path.join(r'C:\\Users\\s346557\\Documents\\LocalData\\KeithFieldData', 'rand_PNs_for_tech_txs_dict.pkl'), 'rb') as handle:\n",
    "    rand_PNs_for_tech_txs_dict = pickle.load(handle)"
   ]
  },
  {
   "cell_type": "code",
   "execution_count": null,
   "id": "2f0b97b2",
   "metadata": {},
   "outputs": [],
   "source": []
  },
  {
   "cell_type": "code",
   "execution_count": null,
   "id": "a8955494",
   "metadata": {},
   "outputs": [],
   "source": []
  },
  {
   "cell_type": "code",
   "execution_count": null,
   "id": "b42deb0f",
   "metadata": {},
   "outputs": [],
   "source": []
  },
  {
   "cell_type": "code",
   "execution_count": null,
   "id": "54e4508b",
   "metadata": {},
   "outputs": [],
   "source": [
    "n_PNs_per_meter_type_dict = {k:len(v) for k,v in rand_PNs_for_tech_txs_dict.items()}\n",
    "n_PNs_per_meter_type = pd.Series(n_PNs_per_meter_type_dict).to_frame(name='n_PNs')\n",
    "n_PNs_per_meter_type=n_PNs_per_meter_type.sort_values(by='n_PNs', ascending=False)"
   ]
  },
  {
   "cell_type": "code",
   "execution_count": null,
   "id": "0a341f4c",
   "metadata": {},
   "outputs": [],
   "source": [
    "n_PNs_per_meter_type"
   ]
  },
  {
   "cell_type": "code",
   "execution_count": null,
   "id": "afe73ad4",
   "metadata": {},
   "outputs": [],
   "source": [
    "fig,ax = Plot_General.default_subplots()\n",
    "n_PNs_per_meter_type.reset_index().plot.scatter(ax=ax, x='index', y='n_PNs')\n",
    "Plot_General.rotate_ticklabels(\n",
    "    ax=ax, \n",
    "    rotation=90, \n",
    "    axis='x'\n",
    ")"
   ]
  },
  {
   "cell_type": "code",
   "execution_count": null,
   "id": "a7a990e8",
   "metadata": {},
   "outputs": [],
   "source": [
    "fig,ax = Plot_General.default_subplots()\n",
    "n_PNs_per_meter_type.reset_index().plot.scatter(ax=ax, x='index', y='n_PNs')\n",
    "Plot_General.rotate_ticklabels(\n",
    "    ax=ax, \n",
    "    rotation=90, \n",
    "    axis='x'\n",
    ")\n",
    "ax.set_yscale('log')"
   ]
  },
  {
   "cell_type": "code",
   "execution_count": null,
   "id": "935352e2",
   "metadata": {},
   "outputs": [],
   "source": []
  },
  {
   "cell_type": "code",
   "execution_count": null,
   "id": "91d160cf",
   "metadata": {},
   "outputs": [],
   "source": []
  },
  {
   "cell_type": "code",
   "execution_count": null,
   "id": "e4eb5516",
   "metadata": {},
   "outputs": [],
   "source": []
  },
  {
   "cell_type": "code",
   "execution_count": null,
   "id": "42e2549d",
   "metadata": {},
   "outputs": [],
   "source": [
    "remove_meter_types_with_no_events=True\n",
    "\n",
    "# Build reasons_by_meter_type_df and reasons_by_meter_type_df_norm\n",
    "#-------------------------\n",
    "# First, find the set of unique reasons from all meter types\n",
    "all_reasons = []\n",
    "for meter_type_i, counts_srs_i in distinct_events_by_meter_type.items():\n",
    "    all_reasons.extend(counts_srs_i.index.tolist())\n",
    "all_reasons = list(set(all_reasons))\n",
    "#-------------------------\n",
    "# Now, essentially convert distinct_events_by_meter_type from a dict to a DataFrame\n",
    "reasons_by_meter_type_df = pd.DataFrame(columns=all_reasons)\n",
    "for meter_type_i, counts_srs_i in distinct_events_by_meter_type.items():\n",
    "    counts_srs_i = counts_srs_i.to_frame().T\n",
    "    counts_srs_i.index = [meter_type_i]\n",
    "    reasons_by_meter_type_df = pd.concat([reasons_by_meter_type_df, counts_srs_i])\n",
    "reasons_by_meter_type_df=reasons_by_meter_type_df.fillna(0)\n",
    "reasons_by_meter_type_df.index.name = 'meter_type'\n",
    "#-------------------------\n",
    "# Let's sort the columns by total number of counts across all meter types\n",
    "cols_order = reasons_by_meter_type_df.sum().sort_values(ascending=False).index.tolist()\n",
    "reasons_by_meter_type_df = reasons_by_meter_type_df[cols_order]\n",
    "#-------------------------\n",
    "# Find the meter types which did not register any events and remove from reasons_by_meter_type_df\n",
    "meter_types_wo_events = reasons_by_meter_type_df.sum(axis=1)[reasons_by_meter_type_df.sum(axis=1)==0].index.tolist()\n",
    "if remove_meter_types_with_no_events:\n",
    "    reasons_by_meter_type_df=reasons_by_meter_type_df.drop(index=meter_types_wo_events)\n",
    "#-------------------------\n",
    "# Normalize to build reasons_by_meter_type_df_norm\n",
    "reasons_by_meter_type_df_norm = reasons_by_meter_type_df.div(reasons_by_meter_type_df.sum(axis=1), axis='rows')\n",
    "if not remove_meter_types_with_no_events:\n",
    "    # In case there were any divisions by 0 above!\n",
    "    reasons_by_meter_type_df_norm=reasons_by_meter_type_df_norm.fillna(0)"
   ]
  },
  {
   "cell_type": "code",
   "execution_count": null,
   "id": "5fc8c751",
   "metadata": {},
   "outputs": [],
   "source": []
  },
  {
   "cell_type": "code",
   "execution_count": null,
   "id": "9aaeab06",
   "metadata": {},
   "outputs": [],
   "source": [
    "reasons_by_meter_type_df_norm"
   ]
  },
  {
   "cell_type": "code",
   "execution_count": null,
   "id": "c81873e2",
   "metadata": {},
   "outputs": [],
   "source": [
    "fig,ax = Plot_General.default_subplots()\n",
    "sns.barplot(\n",
    "    ax=ax, \n",
    "    data=reasons_by_meter_type_df_norm.iloc[:, :10].reset_index().melt(id_vars='meter_type'), \n",
    "    x='variable', \n",
    "    y='value', \n",
    "    hue='meter_type',  \n",
    ")\n",
    "Plot_General.rotate_ticklabels(\n",
    "    ax=ax, \n",
    "    rotation=90, \n",
    "    axis='x'\n",
    ")"
   ]
  },
  {
   "cell_type": "code",
   "execution_count": null,
   "id": "3f78d549",
   "metadata": {},
   "outputs": [],
   "source": []
  },
  {
   "cell_type": "code",
   "execution_count": null,
   "id": "a3274949",
   "metadata": {},
   "outputs": [],
   "source": []
  },
  {
   "cell_type": "code",
   "execution_count": null,
   "id": "8aca4562",
   "metadata": {},
   "outputs": [],
   "source": []
  },
  {
   "cell_type": "code",
   "execution_count": null,
   "id": "4f27e407",
   "metadata": {},
   "outputs": [],
   "source": [
    "fig_num=0\n",
    "n_per_plot = 10"
   ]
  },
  {
   "cell_type": "code",
   "execution_count": null,
   "id": "e48f6b2e",
   "metadata": {},
   "outputs": [],
   "source": [
    "fig_num, fig_ax_pairs = plot_reasons_by_meter_type(\n",
    "    fig_num=fig_num, \n",
    "    reasons_by_meter_type_df=reasons_by_meter_type_df_norm, \n",
    "    n_per_plot=n_per_plot, \n",
    "    orient='v'\n",
    ")"
   ]
  },
  {
   "cell_type": "code",
   "execution_count": null,
   "id": "5230320a",
   "metadata": {},
   "outputs": [],
   "source": [
    "fig_num, fig_ax_pairs = plot_reasons_by_meter_type(\n",
    "    fig_num=fig_num, \n",
    "    reasons_by_meter_type_df=reasons_by_meter_type_df_norm, \n",
    "    n_per_plot=n_per_plot, \n",
    "    orient='h'\n",
    ")"
   ]
  },
  {
   "cell_type": "code",
   "execution_count": null,
   "id": "f521aaaa",
   "metadata": {},
   "outputs": [],
   "source": []
  },
  {
   "cell_type": "code",
   "execution_count": null,
   "id": "ac90cb59",
   "metadata": {},
   "outputs": [],
   "source": []
  },
  {
   "cell_type": "code",
   "execution_count": null,
   "id": "d6af7e52",
   "metadata": {},
   "outputs": [],
   "source": []
  },
  {
   "cell_type": "code",
   "execution_count": null,
   "id": "8c83293a",
   "metadata": {},
   "outputs": [],
   "source": []
  },
  {
   "cell_type": "code",
   "execution_count": null,
   "id": "ef8eb943",
   "metadata": {},
   "outputs": [],
   "source": []
  },
  {
   "cell_type": "markdown",
   "id": "d85fa295",
   "metadata": {},
   "source": [
    "# Run By OPCO"
   ]
  },
  {
   "cell_type": "code",
   "execution_count": null,
   "id": "58f8beee",
   "metadata": {},
   "outputs": [],
   "source": [
    "n_PNs=100000\n",
    "conn_aws=None\n",
    "kwargs = dict()\n",
    "# kwargs = dict(technology_tx_col='devc_cd')\n",
    "\n",
    "date_0 = pd.to_datetime('2022-01-01')\n",
    "date_1 = pd.to_datetime('2023-09-01')\n",
    "\n",
    "return_full_dfs=False\n",
    "\n",
    "opcos = ['ap', 'ky', 'oh', 'im', 'pso', 'swp', 'tx']\n",
    "base_dir = r'C:\\Users\\s346557\\Documents\\LocalData\\KeithFieldData\\_ByOPCO'"
   ]
  },
  {
   "cell_type": "code",
   "execution_count": null,
   "id": "60fb06eb",
   "metadata": {},
   "outputs": [],
   "source": []
  },
  {
   "cell_type": "code",
   "execution_count": null,
   "id": "deee337a",
   "metadata": {},
   "outputs": [],
   "source": [
    "for opco in opcos:\n",
    "    print(opco)\n",
    "    rand_PNs_for_tech_txs_dict_i, sqls_dict_i = get_random_PNs_for_each_tech_type(\n",
    "        n_PNs=n_PNs, \n",
    "        opcos=[opco], \n",
    "        conn_aws=conn_aws, \n",
    "        return_sql=True, \n",
    "        **kwargs\n",
    "    )\n",
    "    #-----\n",
    "    distinct_events_by_meter_type_i = get_distinct_events_by_meter_type(\n",
    "        n_PNs_to_sample=n_PNs, \n",
    "        date_0=date_0, \n",
    "        date_1=date_1, \n",
    "        rand_PNs_for_tech_txs_dict=rand_PNs_for_tech_txs_dict_i, \n",
    "        return_full_dfs=False, \n",
    "        opcos=[opco], \n",
    "        conn_aws=None, \n",
    "        **kwargs\n",
    "    )\n",
    "    #-----\n",
    "    save_dir_i = os.path.join(base_dir, opco)\n",
    "    if not os.path.exists(save_dir_i):\n",
    "        os.makedirs(save_dir_i)\n",
    "    with open(os.path.join(save_dir_i, 'distinct_events_by_meter_type.pkl'), 'wb') as handle:\n",
    "        pickle.dump(distinct_events_by_meter_type_i, handle, protocol=pickle.HIGHEST_PROTOCOL)\n",
    "    #-----\n",
    "    with open(os.path.join(save_dir_i, 'rand_PNs_for_tech_txs_dict.pkl'), 'wb') as handle:\n",
    "        pickle.dump(rand_PNs_for_tech_txs_dict_i, handle, protocol=pickle.HIGHEST_PROTOCOL)\n",
    "    #-----\n",
    "    with open(os.path.join(save_dir_i, 'sqls_dict.pkl'), 'wb') as handle:\n",
    "        pickle.dump(sqls_dict_i, handle, protocol=pickle.HIGHEST_PROTOCOL)"
   ]
  },
  {
   "cell_type": "code",
   "execution_count": null,
   "id": "340ea925",
   "metadata": {},
   "outputs": [],
   "source": []
  },
  {
   "cell_type": "code",
   "execution_count": null,
   "id": "81991529",
   "metadata": {},
   "outputs": [],
   "source": []
  }
 ],
 "metadata": {
  "kernelspec": {
   "display_name": "Python 3 (ipykernel)",
   "language": "python",
   "name": "python3"
  },
  "language_info": {
   "codemirror_mode": {
    "name": "ipython",
    "version": 3
   },
   "file_extension": ".py",
   "mimetype": "text/x-python",
   "name": "python",
   "nbconvert_exporter": "python",
   "pygments_lexer": "ipython3",
   "version": "3.9.18"
  }
 },
 "nbformat": 4,
 "nbformat_minor": 5
}
