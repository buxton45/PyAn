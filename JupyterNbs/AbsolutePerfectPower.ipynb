{
 "cells": [
  {
   "cell_type": "code",
   "execution_count": null,
   "id": "8bf88300-dbe5-4de1-837f-0bb393be2e15",
   "metadata": {},
   "outputs": [],
   "source": [
    "from importlib import reload\n",
    "#reload(Utilities)\n",
    "\n",
    "import sys, os\n",
    "import re\n",
    "import pickle\n",
    "\n",
    "import pandas as pd\n",
    "import numpy as np\n",
    "from pandas.api.types import is_numeric_dtype, is_datetime64_dtype, is_timedelta64_dtype\n",
    "from scipy import stats\n",
    "import datetime\n",
    "import time\n",
    "from natsort import natsorted, ns, natsort_keygen\n",
    "from packaging import version\n",
    "\n",
    "import copy\n",
    "import itertools\n",
    "import adjustText\n",
    "\n",
    "import pyodbc\n",
    "#---------------------------------------------------------------------\n",
    "sys.path.insert(0, os.path.realpath('..'))\n",
    "import Utilities_config\n",
    "#-----\n",
    "from MeterPremise import MeterPremise\n",
    "#-----\n",
    "from AMI_SQL import AMI_SQL\n",
    "from AMINonVee_SQL import AMINonVee_SQL\n",
    "from AMIEndEvents_SQL import AMIEndEvents_SQL\n",
    "from AMIUsgInst_SQL import AMIUsgInst_SQL\n",
    "from DOVSOutages_SQL import DOVSOutages_SQL\n",
    "#-----\n",
    "from GenAn import GenAn\n",
    "from AMINonVee import AMINonVee\n",
    "from AMIEndEvents import AMIEndEvents\n",
    "from AMIUsgInst import AMIUsgInst\n",
    "from DOVSOutages import DOVSOutages\n",
    "from AbsPerfectPower import AbsPerfectPower as appwr \n",
    "#-----\n",
    "from DOVSAudit import DOVSAudit\n",
    "from DABatch import DABatch\n",
    "#---------------------------------------------------------------------\n",
    "import matplotlib as mpl\n",
    "import matplotlib.pyplot as plt\n",
    "import seaborn as sns\n",
    "from matplotlib.backends.backend_pdf import PdfPages\n",
    "import matplotlib.patches as mpatches\n",
    "from matplotlib.lines import Line2D\n",
    "import matplotlib.ticker as ticker\n",
    "from matplotlib import dates\n",
    "#---------------------------------------------------------------------\n",
    "sys.path.insert(0, Utilities_config.get_sql_aids_dir())\n",
    "import Utilities_sql\n",
    "import TableInfos\n",
    "from TableInfos import TableInfo\n",
    "from SQLElement import SQLElement\n",
    "from SQLElementsCollection import SQLElementsCollection\n",
    "from SQLSelect import SQLSelectElement, SQLSelect\n",
    "from SQLFrom import SQLFrom\n",
    "from SQLWhere import SQLWhereElement, SQLWhere\n",
    "from SQLJoin import SQLJoin, SQLJoinCollection\n",
    "from SQLGroupBy import SQLGroupByElement, SQLGroupBy\n",
    "from SQLHaving import SQLHaving\n",
    "from SQLOrderBy import SQLOrderByElement, SQLOrderBy\n",
    "from SQLQuery import SQLQuery\n",
    "from SQLQueryGeneric import SQLQueryGeneric\n",
    "#---------------------------------------------------------------------\n",
    "sys.path.insert(0, Utilities_config.get_utilities_dir())\n",
    "import Utilities\n",
    "import Utilities_df\n",
    "import Utilities_dt\n",
    "from Utilities_df import DFConstructType\n",
    "import Plot_General\n",
    "import Plot_Box_sns\n",
    "import Plot_Hist\n",
    "import GrubbsTest\n",
    "import DataFrameSubsetSlicer\n",
    "from DataFrameSubsetSlicer import DataFrameSubsetSlicer as DFSlicer\n",
    "from DataFrameSubsetSlicer import DataFrameSubsetSingleSlicer as DFSingleSlicer"
   ]
  },
  {
   "cell_type": "code",
   "execution_count": null,
   "id": "a053b3d3-ca80-4ea7-82ed-4cb44efefe0a",
   "metadata": {},
   "outputs": [],
   "source": [
    "# TODO: WHAT TO DO FOR ENTRIES WITH PN = NONE?"
   ]
  },
  {
   "cell_type": "code",
   "execution_count": null,
   "id": "45355fbf-10bc-403c-8e6f-dec8cade02ff",
   "metadata": {},
   "outputs": [],
   "source": [
    "# opcos = ['ap', 'ky', 'oh', 'im', 'pso', 'swp', 'tx']\n",
    "# opcos = ['oh']\n",
    "opcos = ['ap', 'oh', 'im', 'pso', 'swp']"
   ]
  },
  {
   "cell_type": "code",
   "execution_count": null,
   "id": "ea152ea4-461f-43b0-a497-d92cff2e4beb",
   "metadata": {},
   "outputs": [],
   "source": []
  },
  {
   "cell_type": "code",
   "execution_count": null,
   "id": "2f325c6d-b4aa-4c20-b290-46f78a3f442e",
   "metadata": {},
   "outputs": [],
   "source": [
    "save_dir = r'C:\\Users\\s346557\\Documents\\LocalData\\abs_perfect_power'\n",
    "#-----\n",
    "# date_0   = pd.to_datetime('2023-10-01')\n",
    "# date_1   = pd.to_datetime('2024-09-30')\n",
    "# daq_freq = 'W'\n",
    "\n",
    "date_0   = pd.to_datetime('2024-11-11')\n",
    "date_1   = pd.to_datetime('2024-11-17')\n",
    "daq_freq = None\n",
    "#-----\n",
    "n_max = int((date_1-date_0+pd.Timedelta('1day'))/pd.Timedelta('15min'))"
   ]
  },
  {
   "cell_type": "code",
   "execution_count": null,
   "id": "46bfa97a-3667-4c13-b798-a3b566535b6e",
   "metadata": {},
   "outputs": [],
   "source": [
    "run_daq    = True\n",
    "run_plots  = True\n",
    "save_plots = True"
   ]
  },
  {
   "cell_type": "code",
   "execution_count": null,
   "id": "4dc72f75-2e19-48af-b5cd-756006d1fc28",
   "metadata": {},
   "outputs": [],
   "source": []
  },
  {
   "cell_type": "code",
   "execution_count": null,
   "id": "74ce69d8-53ba-4617-bf88-04dab909e6fd",
   "metadata": {
    "scrolled": true
   },
   "outputs": [],
   "source": [
    "#-------------------------\n",
    "if run_daq:\n",
    "    conn_aws  = Utilities.get_athena_prod_aws_connection()\n",
    "    #-----\n",
    "    appwr.run_daq_MB(\n",
    "        save_dir = save_dir, \n",
    "        date_0   = date_0, \n",
    "        date_1   = date_1, \n",
    "        opcos    = opcos, \n",
    "        daq_freq = daq_freq, \n",
    "        conn_aws = conn_aws\n",
    "    )"
   ]
  },
  {
   "cell_type": "code",
   "execution_count": null,
   "id": "42eefff2-0338-496e-9b91-38d2e847c23e",
   "metadata": {},
   "outputs": [],
   "source": [
    "v1_subdir   = r'METHOD_1'\n",
    "save_subdir = os.path.join(f\"{date_0.strftime('%Y%m%d')}_{date_1.strftime('%Y%m%d')}\", v1_subdir)"
   ]
  },
  {
   "cell_type": "code",
   "execution_count": null,
   "id": "42fde687-cdac-4266-a087-bdae7c24574f",
   "metadata": {},
   "outputs": [],
   "source": [
    "#-------------------------\n",
    "if run_daq:\n",
    "    conn_aws  = Utilities.get_athena_prod_aws_connection()\n",
    "    for opco_i in opcos:\n",
    "        #-----\n",
    "        start = time.time()\n",
    "        app_df = appwr.get_all_xNs(\n",
    "            date_0   = '2023-10-01',\n",
    "            date_1   = '2023-10-07',\n",
    "            conn_aws = conn_aws, \n",
    "            opco     = opco_i\n",
    "        )\n",
    "        print(time.time()-start)\n",
    "        app_df.to_pickle(os.path.join(save_dir, opco_i, save_subdir, f\"app_SNs_{opco_i}.pkl\"))"
   ]
  },
  {
   "cell_type": "code",
   "execution_count": null,
   "id": "7f0dfc5d-7d02-491d-8fb5-f26ea7b9ecf1",
   "metadata": {},
   "outputs": [],
   "source": [
    "save_dir"
   ]
  },
  {
   "cell_type": "code",
   "execution_count": null,
   "id": "2e2dae17-48a2-4caf-9f1b-16eead9ace5c",
   "metadata": {},
   "outputs": [],
   "source": [
    "save_subdir"
   ]
  },
  {
   "cell_type": "code",
   "execution_count": null,
   "id": "34618266-5faf-4941-94f3-1c6b287689e2",
   "metadata": {},
   "outputs": [],
   "source": [
    "sql = appwr.get_nzeros_ntotal_sql_v2(\n",
    "    date_0       = date_0, \n",
    "    date_1       = date_1, \n",
    "    measure      = 'n_total', \n",
    "    return_stmnt = True, \n",
    "    opcos        = ['oh']\n",
    ")"
   ]
  },
  {
   "cell_type": "code",
   "execution_count": null,
   "id": "c2c3da8f-d37d-43ee-bc7f-c1ba4235736c",
   "metadata": {},
   "outputs": [],
   "source": [
    "print(sql)"
   ]
  },
  {
   "cell_type": "code",
   "execution_count": null,
   "id": "e39451f6-cb98-448e-ac8a-fb1a3aff9133",
   "metadata": {},
   "outputs": [],
   "source": []
  },
  {
   "cell_type": "code",
   "execution_count": null,
   "id": "6af47105-43b0-4541-9e2c-aea14bad658d",
   "metadata": {
    "scrolled": true
   },
   "outputs": [],
   "source": [
    "if run_plots:\n",
    "    app_dfs = dict()\n",
    "    for opco_i in opcos:\n",
    "        app_df_i = pd.read_pickle(os.path.join(save_dir, opco_i, save_subdir, f\"app_df_agg_{opco_i}.pkl\"))\n",
    "        assert(opco_i not in app_dfs)\n",
    "        app_dfs[opco_i] = app_df_i\n",
    "    #-------------------------\n",
    "    if save_plots:\n",
    "        pdf = PdfPages(os.path.join(save_dir, f\"AbsolutePerfectPower_{date_0.strftime('%Y%m%d')}_{date_1.strftime('%Y%m%d')}.pdf\"))\n",
    "    #-------------------------\n",
    "    fig_num = 0\n",
    "    for i,(opco_i,app_df_i) in enumerate(app_dfs.items()):\n",
    "        if opco_i=='ky':\n",
    "            continue\n",
    "        fig_i,axs_i = appwr.plot_hist_MB_ratios_df(\n",
    "            ratios_df     = app_df_i, \n",
    "            figax         = None, \n",
    "            fig_num       = fig_num, \n",
    "            set_logy      = 'both', \n",
    "            title         = f\"OPCO = {opco_i}\", \n",
    "            include_text  = True\n",
    "        )\n",
    "        #-------------------------\n",
    "        if save_plots:\n",
    "            pdf.savefig(fig_i, bbox_inches='tight')\n",
    "        #-------------------------\n",
    "        fig_num+=1\n",
    "    \n",
    "    if save_plots:\n",
    "        pdf.close()"
   ]
  },
  {
   "cell_type": "code",
   "execution_count": null,
   "id": "0e366767-1794-433b-b4ce-0baa6ad2bded",
   "metadata": {},
   "outputs": [],
   "source": []
  },
  {
   "cell_type": "code",
   "execution_count": null,
   "id": "525d5c24-01cf-4c98-abfa-1ab80b3bce2a",
   "metadata": {},
   "outputs": [],
   "source": []
  },
  {
   "cell_type": "code",
   "execution_count": null,
   "id": "b28ef742-4134-4316-85db-a7d96b6f5f98",
   "metadata": {},
   "outputs": [],
   "source": [
    "app_dfs = dict()\n",
    "for opco_i in opcos:\n",
    "    app_df_i = pd.read_pickle(os.path.join(save_dir, save_subdir, f\"app_df_{opco_i}.pkl\"))\n",
    "    assert(opco_i not in app_dfs)\n",
    "    app_dfs[opco_i] = app_df_i"
   ]
  },
  {
   "cell_type": "code",
   "execution_count": null,
   "id": "ed352cdb-63e5-44f8-b1de-9b5b5045e448",
   "metadata": {},
   "outputs": [],
   "source": []
  },
  {
   "cell_type": "code",
   "execution_count": null,
   "id": "64d88f3e-5f43-44cf-ac66-9578d75acdde",
   "metadata": {},
   "outputs": [],
   "source": [
    "app_df_i = app_dfs['oh'].copy()"
   ]
  },
  {
   "cell_type": "code",
   "execution_count": null,
   "id": "0f1df4d7-fae1-4dce-8186-7fe67d91a4a8",
   "metadata": {},
   "outputs": [],
   "source": [
    "# Found cases where a single serial number corresponds to two different premises.\n",
    "# My guess is that the meter was moved and re-used elsewhere.\n",
    "# In any case, this situation means I cannot simply call, e.g., \n",
    "#   n_perfect = app_df_i[app_df_i['pct_0']==0]['serialnumber'].nunique()\n",
    "# but must instead use\n",
    "#   n_perfect = app_df_i[app_df_i['pct_0']==0].groupby(['aep_premise_nb', 'serialnumber']).ngroups\n",
    "#-----\n",
    "n_SNs = app_df_i.groupby(['aep_premise_nb', 'serialnumber']).ngroups\n",
    "n_perfect = app_df_i[app_df_i['pct_0']==0].groupby(['aep_premise_nb', 'serialnumber']).ngroups\n",
    "n_imprfct = app_df_i[app_df_i['pct_0']!=0].groupby(['aep_premise_nb', 'serialnumber']).ngroups\n",
    "assert(n_perfect+n_imprfct==n_SNs)"
   ]
  },
  {
   "cell_type": "code",
   "execution_count": null,
   "id": "763624ea-31b2-4396-86f0-1377b21ea8c5",
   "metadata": {},
   "outputs": [],
   "source": [
    "app_df_i.head()"
   ]
  },
  {
   "cell_type": "code",
   "execution_count": null,
   "id": "ba428c59-9beb-4079-9155-4406c6be346f",
   "metadata": {},
   "outputs": [],
   "source": [
    "app_df_i['pct_measured'] = 100*app_df_i['n_total']/n_max"
   ]
  },
  {
   "cell_type": "code",
   "execution_count": null,
   "id": "47de30b7-469e-4f36-bd19-09cf79e30fee",
   "metadata": {},
   "outputs": [],
   "source": [
    "app_df_i['pct_measured'].describe()"
   ]
  },
  {
   "cell_type": "code",
   "execution_count": null,
   "id": "a088fba9-fc21-4c17-8ac6-d6980be3e3cf",
   "metadata": {},
   "outputs": [],
   "source": []
  },
  {
   "cell_type": "code",
   "execution_count": null,
   "id": "6152d6a6-e69f-441d-8be9-13c345ba49b7",
   "metadata": {},
   "outputs": [],
   "source": []
  },
  {
   "cell_type": "code",
   "execution_count": null,
   "id": "181b0dc6-444c-48b2-a059-cd33751dc4a9",
   "metadata": {},
   "outputs": [],
   "source": [
    "fig,ax = Plot_General.default_subplots()\n",
    "sns.histplot(\n",
    "    ax=ax, \n",
    "    data=app_df_i, \n",
    "    x='pct_~0', \n",
    "    y='pct_measured', \n",
    "    bins=(bins,bins), \n",
    "    stat='count', \n",
    "    cbar=True, \n",
    "    # cmap='inferno', \n",
    "    # cmap=sns.color_palette(\"magma\", as_cmap=True), \n",
    "    cmap=sns.color_palette(\"coolwarm\", as_cmap=True), \n",
    ");\n",
    "ax.axhline(y=100, linewidth=0.5, color='black', linestyle='--', alpha=0.5)\n",
    "ax.axvline(x=100, linewidth=0.5, color='black', linestyle='--', alpha=0.5)"
   ]
  },
  {
   "cell_type": "code",
   "execution_count": null,
   "id": "9df3c321-85d3-49e0-8a7a-ed819b223301",
   "metadata": {},
   "outputs": [],
   "source": []
  },
  {
   "cell_type": "code",
   "execution_count": null,
   "id": "db004240-5062-43af-a016-ef9f69022380",
   "metadata": {},
   "outputs": [],
   "source": [
    "fig,ax = Plot_General.default_subplots()\n",
    "sns.histplot(\n",
    "    ax=ax, \n",
    "    data=app_df_i, \n",
    "    x='pct_~0', \n",
    "    y='pct_measured', \n",
    "    bins=(bins,bins), \n",
    "    stat='count', \n",
    "    cbar=True, \n",
    "    # cmap='inferno', \n",
    "    # cmap=sns.color_palette(\"magma\", as_cmap=True), \n",
    "    cmap=sns.color_palette(\"coolwarm\", as_cmap=True), \n",
    "    norm=mpl.colors.LogNorm(), \n",
    "    vmin=None, \n",
    "    vmax=None\n",
    ");\n",
    "ax.axhline(y=100, linewidth=0.5, color='black', linestyle='--', alpha=0.5)\n",
    "ax.axvline(x=100, linewidth=0.5, color='black', linestyle='--', alpha=0.5)\n",
    "ax.set_xlabel('% Power', fontsize='xx-large', loc='right')\n",
    "ax.set_ylabel('% Max n_measurements', fontsize='x-large', loc='top')"
   ]
  },
  {
   "cell_type": "code",
   "execution_count": null,
   "id": "8cbc523c-d192-4556-b25d-55319a703a1e",
   "metadata": {},
   "outputs": [],
   "source": []
  },
  {
   "cell_type": "code",
   "execution_count": null,
   "id": "d185ab4b-1e08-4c7d-bba6-bc31a246be21",
   "metadata": {},
   "outputs": [],
   "source": []
  },
  {
   "cell_type": "code",
   "execution_count": null,
   "id": "1fd95f94-a32b-4d5b-86b6-f202f7ce118d",
   "metadata": {},
   "outputs": [],
   "source": []
  },
  {
   "cell_type": "code",
   "execution_count": null,
   "id": "04683621-b463-4660-a6c5-bb4dae027286",
   "metadata": {},
   "outputs": [],
   "source": []
  },
  {
   "cell_type": "code",
   "execution_count": null,
   "id": "142c60d1-2e5d-4bca-9f4d-c0091f1bafb2",
   "metadata": {},
   "outputs": [],
   "source": []
  },
  {
   "cell_type": "code",
   "execution_count": null,
   "id": "0eb02649-4b19-4288-9891-6fc23dc690b1",
   "metadata": {},
   "outputs": [],
   "source": []
  },
  {
   "cell_type": "code",
   "execution_count": null,
   "id": "11ca4f59-afe3-4521-84c8-fd8381f33850",
   "metadata": {},
   "outputs": [],
   "source": []
  },
  {
   "cell_type": "markdown",
   "id": "8b6805f1-3b50-4c50-aeb6-201757e25561",
   "metadata": {},
   "source": [
    "# CI_NB vs Number of Premises"
   ]
  },
  {
   "cell_type": "code",
   "execution_count": null,
   "id": "d3189299-4898-4d3a-8d4c-1c3eba22653a",
   "metadata": {},
   "outputs": [],
   "source": [
    "conn_dovs  = Utilities.get_utldb01p_oracle_connection()"
   ]
  },
  {
   "cell_type": "code",
   "execution_count": null,
   "id": "c91d6a3b-0624-4292-9e2f-7950f50b231a",
   "metadata": {},
   "outputs": [],
   "source": [
    "outages_sql = DOVSOutages_SQL.build_sql_std_outage(\n",
    "    mjr_mnr_cause   = None, \n",
    "    include_premise = True, \n",
    "    date_range      = ['2024-01-01', '2024-09-30'], \n",
    "    states          = None, \n",
    "    opcos           = ['OH'], \n",
    "    CI_NB_min       = None\n",
    ")"
   ]
  },
  {
   "cell_type": "code",
   "execution_count": null,
   "id": "3589b2ed-e01d-40cf-b6be-69abd38f0d25",
   "metadata": {},
   "outputs": [],
   "source": [
    "outages_sql.print()"
   ]
  },
  {
   "cell_type": "code",
   "execution_count": null,
   "id": "7a75f513-19e6-4f87-8cfd-a0ef3cc868b9",
   "metadata": {},
   "outputs": [],
   "source": [
    "outages_sql_stmnt = outages_sql.get_sql_statement()\n",
    "outages_df = pd.read_sql_query(\n",
    "    outages_sql_stmnt, \n",
    "    conn_dovs, \n",
    "    dtype={\n",
    "        'CI_NB'       : np.int32, \n",
    "        'CMI_NB'      : np.float64, \n",
    "        'OUTG_REC_NB' : np.int32\n",
    "    }\n",
    ")"
   ]
  },
  {
   "cell_type": "code",
   "execution_count": null,
   "id": "57688304-247b-4de8-aae6-5893ffe088cd",
   "metadata": {},
   "outputs": [],
   "source": [
    "outages_df"
   ]
  },
  {
   "cell_type": "code",
   "execution_count": null,
   "id": "aede58b4-1bb2-45ba-8f0d-8013ba0603c6",
   "metadata": {},
   "outputs": [],
   "source": [
    "outages_df_slim = DOVSOutages.consolidate_df_outage(\n",
    "    df_outage                = outages_df, \n",
    "    addtnl_grpby_cols        = None, \n",
    "    set_outg_rec_nb_as_index = False, \n",
    "    gpby_dropna              = False\n",
    ")"
   ]
  },
  {
   "cell_type": "code",
   "execution_count": null,
   "id": "f90834e5-b2eb-431c-b2db-32c91ce55d56",
   "metadata": {},
   "outputs": [],
   "source": [
    "outages_df_slim['nPNs'] = outages_df_slim['PREMISE_NBS'].apply(lambda x: len(set(x)))"
   ]
  },
  {
   "cell_type": "code",
   "execution_count": null,
   "id": "5a23605c-4625-4c38-85ae-826c4bd358db",
   "metadata": {},
   "outputs": [],
   "source": [
    "outages_df_slim['delta'] = outages_df_slim['CI_NB'] - outages_df_slim['nPNs']"
   ]
  },
  {
   "cell_type": "code",
   "execution_count": null,
   "id": "432e1b10-f38f-41bd-8f1f-eb68dd0664e5",
   "metadata": {},
   "outputs": [],
   "source": [
    "outages_df_slim"
   ]
  },
  {
   "cell_type": "code",
   "execution_count": null,
   "id": "7f23ae3a-0e93-4d7b-bd36-fe11bb4299be",
   "metadata": {},
   "outputs": [],
   "source": [
    "outages_df_slim['delta'].describe()"
   ]
  },
  {
   "cell_type": "code",
   "execution_count": null,
   "id": "7f0d282e-99df-476d-a325-81a000bb859c",
   "metadata": {},
   "outputs": [],
   "source": [
    "fig,ax = Plot_General.default_subplots()\n",
    "Plot_Hist.plot_hist(\n",
    "    ax=ax, \n",
    "    df=outages_df_slim, \n",
    "    x_col='delta', \n",
    "    min_max_and_bin_size=[-10.5, 10.5, 1], \n",
    "    include_over_underflow=True, \n",
    "    stat='count', \n",
    "    plot_sns=False, \n",
    "    hist_plot_kwargs=None, \n",
    "    keep_edges_opaque=True, \n",
    "    div_drawn_width_by=None, \n",
    "    relative_position_idx=None, \n",
    "    run_set_general_plotting_args=True, \n",
    "    orient='v'\n",
    ")\n",
    "ax.set_xlabel('CI_NB - nPNs')"
   ]
  },
  {
   "cell_type": "code",
   "execution_count": null,
   "id": "eeba4369-8ecb-451f-91ca-43d3a98d5e85",
   "metadata": {},
   "outputs": [],
   "source": [
    "fig,ax = Plot_General.default_subplots()\n",
    "Plot_Hist.plot_hist(\n",
    "    ax=ax, \n",
    "    df=outages_df_slim, \n",
    "    x_col='delta', \n",
    "    min_max_and_bin_size=[-10, 10, 1], \n",
    "    include_over_underflow=True, \n",
    "    stat='count', \n",
    "    plot_sns=False, \n",
    "    hist_plot_kwargs=None, \n",
    "    keep_edges_opaque=True, \n",
    "    div_drawn_width_by=None, \n",
    "    relative_position_idx=None, \n",
    "    run_set_general_plotting_args=True, \n",
    "    orient='v'\n",
    ")\n",
    "ax.set_yscale('log')"
   ]
  },
  {
   "cell_type": "code",
   "execution_count": null,
   "id": "1cbfffa1-5a5a-4c34-9a5a-460d3b88d44a",
   "metadata": {},
   "outputs": [],
   "source": [
    "fig,ax = Plot_General.default_subplots()\n",
    "Plot_Hist.plot_hist(\n",
    "    ax=ax, \n",
    "    df=outages_df_slim, \n",
    "    x_col='delta', \n",
    "    min_max_and_bin_size=[-1000, 1000, 100], \n",
    "    include_over_underflow=True, \n",
    "    stat='count', \n",
    "    plot_sns=False, \n",
    "    hist_plot_kwargs=None, \n",
    "    keep_edges_opaque=True, \n",
    "    div_drawn_width_by=None, \n",
    "    relative_position_idx=None, \n",
    "    run_set_general_plotting_args=True, \n",
    "    orient='v'\n",
    ")\n",
    "ax.set_yscale('log')"
   ]
  },
  {
   "cell_type": "code",
   "execution_count": null,
   "id": "2a41eabf-c9ef-41df-8e31-70e1a460078b",
   "metadata": {},
   "outputs": [],
   "source": [
    "fig,ax = Plot_General.default_subplots()\n",
    "Plot_Hist.plot_hist(\n",
    "    ax=ax, \n",
    "    df=outages_df_slim, \n",
    "    x_col='delta', \n",
    "    min_max_and_bin_size=[-3550, 2050, 100], \n",
    "    include_over_underflow=True, \n",
    "    stat='count', \n",
    "    plot_sns=False, \n",
    "    hist_plot_kwargs=None, \n",
    "    keep_edges_opaque=True, \n",
    "    div_drawn_width_by=None, \n",
    "    relative_position_idx=None, \n",
    "    run_set_general_plotting_args=True, \n",
    "    orient='v'\n",
    ")\n",
    "ax.set_yscale('log')\n",
    "ax.set_xlabel('CI_NB - nPNs')\n",
    "ax.text(0.15, 0.900, f\"Net(CI_NB - nPNs) = {np.round(outages_df_slim['delta'].sum(), decimals=2)}\", ha='left', va='center', transform=ax.transAxes, fontsize='x-large', fontdict={'family':'monospace'})"
   ]
  },
  {
   "cell_type": "code",
   "execution_count": null,
   "id": "1d5b3535-3bfc-4185-9a91-385aa8846fdb",
   "metadata": {},
   "outputs": [],
   "source": [
    "fig,ax = Plot_General.default_subplots()\n",
    "Plot_Hist.plot_hist(\n",
    "    ax=ax, \n",
    "    df=outages_df_slim, \n",
    "    x_col='delta', \n",
    "    min_max_and_bin_size=[-3550, 2050, 100], \n",
    "    include_over_underflow=True, \n",
    "    stat='count', \n",
    "    plot_sns=False, \n",
    "    hist_plot_kwargs=None, \n",
    "    keep_edges_opaque=True, \n",
    "    div_drawn_width_by=None, \n",
    "    relative_position_idx=None, \n",
    "    run_set_general_plotting_args=True, \n",
    "    orient='v'\n",
    ")"
   ]
  },
  {
   "cell_type": "code",
   "execution_count": null,
   "id": "b4a49a41-6642-4c37-85a4-156fcaad7dd0",
   "metadata": {},
   "outputs": [],
   "source": [
    "outages_df_slim['delta'].sum()"
   ]
  },
  {
   "cell_type": "code",
   "execution_count": null,
   "id": "156e95ff-547f-4e00-b3a8-78b0e4e93697",
   "metadata": {},
   "outputs": [],
   "source": []
  },
  {
   "cell_type": "code",
   "execution_count": null,
   "id": "138d96b4-6caf-482d-bab2-af71db0bef20",
   "metadata": {},
   "outputs": [],
   "source": []
  },
  {
   "cell_type": "code",
   "execution_count": null,
   "id": "b7a96208-5617-4e62-a504-04e2fb3edeb3",
   "metadata": {},
   "outputs": [],
   "source": [
    "fig,axs = Plot_General.default_subplots(\n",
    "    n_x = 1, \n",
    "    n_y = 2, \n",
    "    return_flattened_axes=True\n",
    ")\n",
    "\n",
    "Plot_Hist.plot_hist(\n",
    "    ax=axs[0], \n",
    "    df=outages_df_slim, \n",
    "    x_col='delta', \n",
    "    min_max_and_bin_size=[-10.5, 10.5, 1], \n",
    "    include_over_underflow=True, \n",
    "    stat='count', \n",
    "    plot_sns=False, \n",
    "    hist_plot_kwargs=None, \n",
    "    keep_edges_opaque=True, \n",
    "    div_drawn_width_by=None, \n",
    "    relative_position_idx=None, \n",
    "    run_set_general_plotting_args=True, \n",
    "    orient='v'\n",
    ")\n",
    "axs[0].set_xlabel('CI_NB - nPNs', fontsize='xx-large', loc='right')\n",
    "axs[0].text(0.15, 0.900, f\"Net(CI_NB - nPNs) = {np.round(outages_df_slim['delta'].sum(), decimals=2)}\", ha='left', va='center', transform=axs[0].transAxes, fontsize='x-large', fontdict={'family':'monospace'})\n",
    "\n",
    "Plot_Hist.plot_hist(\n",
    "    ax=axs[1], \n",
    "    df=outages_df_slim, \n",
    "    x_col='delta', \n",
    "    min_max_and_bin_size=[-3550, 2050, 100], \n",
    "    include_over_underflow=True, \n",
    "    stat='count', \n",
    "    plot_sns=False, \n",
    "    hist_plot_kwargs=None, \n",
    "    keep_edges_opaque=True, \n",
    "    div_drawn_width_by=None, \n",
    "    relative_position_idx=None, \n",
    "    run_set_general_plotting_args=True, \n",
    "    orient='v'\n",
    ")\n",
    "axs[1].set_yscale('log')\n",
    "axs[1].set_xlabel('CI_NB - nPNs', fontsize='xx-large', loc='right')\n",
    "axs[1].text(0.15, 0.900, f\"Net(CI_NB - nPNs) = {np.round(outages_df_slim['delta'].sum(), decimals=2)}\", ha='left', va='center', transform=axs[1].transAxes, fontsize='x-large', fontdict={'family':'monospace'})\n",
    "\n",
    "Plot_General.save_fig(\n",
    "    fig         = fig,\n",
    "    save_dir    = r'C:\\Users\\s346557\\Documents\\LocalData\\abs_perfect_power',\n",
    "    save_name   = f\"CI_vs_nPNs.pdf\",\n",
    "    bbox_inches = 'tight'\n",
    ")"
   ]
  },
  {
   "cell_type": "code",
   "execution_count": null,
   "id": "0ce6dc8b-ce63-41f9-b79f-48e46f10464c",
   "metadata": {},
   "outputs": [],
   "source": []
  },
  {
   "cell_type": "code",
   "execution_count": null,
   "id": "d6197550-5805-4ca2-842c-971b03fe462d",
   "metadata": {},
   "outputs": [],
   "source": []
  },
  {
   "cell_type": "code",
   "execution_count": null,
   "id": "e22f6f57-9167-4c57-a1ee-a46e488ab18d",
   "metadata": {},
   "outputs": [],
   "source": []
  },
  {
   "cell_type": "code",
   "execution_count": null,
   "id": "7508b588-410f-4629-8a7b-4dc5c6c3d2eb",
   "metadata": {},
   "outputs": [],
   "source": []
  }
 ],
 "metadata": {
  "kernelspec": {
   "display_name": "Python 3 (ipykernel)",
   "language": "python",
   "name": "python3"
  },
  "language_info": {
   "codemirror_mode": {
    "name": "ipython",
    "version": 3
   },
   "file_extension": ".py",
   "mimetype": "text/x-python",
   "name": "python",
   "nbconvert_exporter": "python",
   "pygments_lexer": "ipython3",
   "version": "3.11.7"
  }
 },
 "nbformat": 4,
 "nbformat_minor": 5
}
