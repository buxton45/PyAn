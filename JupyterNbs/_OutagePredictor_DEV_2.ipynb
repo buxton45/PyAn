{
 "cells": [
  {
   "cell_type": "code",
   "execution_count": 1,
   "id": "051005d0",
   "metadata": {},
   "outputs": [],
   "source": [
    "%run ./model_end_events_for_outages_METHODS.ipynb"
   ]
  },
  {
   "cell_type": "code",
   "execution_count": 2,
   "id": "e9764e04",
   "metadata": {},
   "outputs": [],
   "source": [
    "from importlib import reload\n",
    "#reload(Utilities)\n",
    "#reload(clm)\n",
    "# NOTE: To reload a class imported as, e.g., \n",
    "# from module import class\n",
    "# One must call:\n",
    "#   1. import module\n",
    "#   2. reload module\n",
    "#   3. from module import class\n",
    "\n",
    "#---------------------------------------------------------------------\n",
    "import sys, os\n",
    "import re\n",
    "from pathlib import Path\n",
    "import json\n",
    "import pickle\n",
    "import joblib\n",
    "\n",
    "import pandas as pd\n",
    "import numpy as np\n",
    "from pandas.api.types import is_numeric_dtype, is_datetime64_dtype, is_timedelta64_dtype\n",
    "from scipy import stats\n",
    "import datetime\n",
    "import time\n",
    "from natsort import natsorted, ns, natsort_keygen\n",
    "from packaging import version\n",
    "import random\n",
    "\n",
    "import copy\n",
    "import itertools\n",
    "import adjustText\n",
    "\n",
    "import pyodbc\n",
    "#---------------------------------------------------------------------\n",
    "import matplotlib as mpl\n",
    "import matplotlib.pyplot as plt\n",
    "import seaborn as sns\n",
    "from matplotlib.backends.backend_pdf import PdfPages\n",
    "import matplotlib.patches as mpatches\n",
    "from matplotlib.lines import Line2D\n",
    "import matplotlib.ticker as ticker\n",
    "from matplotlib import dates\n",
    "import matplotlib.colors as mcolors\n",
    "import matplotlib.cm as cm #e.g. for cmap=cm.jet\n",
    "#---------------------------------------------------------------------\n",
    "sys.path.insert(0, os.path.realpath('..'))\n",
    "import Utilities_config\n",
    "#-----\n",
    "from MeterPremise import MeterPremise\n",
    "from EEMSP import EEMSP\n",
    "#-----\n",
    "from AMI_SQL import AMI_SQL\n",
    "from AMINonVee_SQL import AMINonVee_SQL\n",
    "from AMIEndEvents_SQL import AMIEndEvents_SQL\n",
    "from AMIUsgInst_SQL import AMIUsgInst_SQL\n",
    "from DOVSOutages_SQL import DOVSOutages_SQL\n",
    "#-----\n",
    "from GenAn import GenAn\n",
    "from AMINonVee import AMINonVee\n",
    "from AMIEndEvents import AMIEndEvents\n",
    "from MECPODf import MECPODf\n",
    "from MECPOAn import MECPOAn\n",
    "from AMIUsgInst import AMIUsgInst\n",
    "from DOVSOutages import DOVSOutages\n",
    "from OutagePredictor import OutagePredictor\n",
    "#---------------------------------------------------------------------\n",
    "sys.path.insert(0, Utilities_config.get_sql_aids_dir())\n",
    "import Utilities_sql\n",
    "import TableInfos\n",
    "from TableInfos import TableInfo\n",
    "from SQLElement import SQLElement\n",
    "from SQLElementsCollection import SQLElementsCollection\n",
    "from SQLSelect import SQLSelectElement, SQLSelect\n",
    "from SQLFrom import SQLFrom\n",
    "from SQLWhere import SQLWhereElement, SQLWhere\n",
    "from SQLJoin import SQLJoin, SQLJoinCollection\n",
    "from SQLGroupBy import SQLGroupByElement, SQLGroupBy\n",
    "from SQLHaving import SQLHaving\n",
    "from SQLOrderBy import SQLOrderByElement, SQLOrderBy\n",
    "from SQLQuery import SQLQuery\n",
    "from SQLQueryGeneric import SQLQueryGeneric\n",
    "#---------------------------------------------------------------------\n",
    "#sys.path.insert(0, os.path.join(os.path.realpath('..'), 'Utilities'))\n",
    "sys.path.insert(0, Utilities_config.get_utilities_dir())\n",
    "import Utilities\n",
    "import Utilities_df\n",
    "from Utilities_df import DFConstructType\n",
    "import Utilities_dt\n",
    "import Plot_General\n",
    "import Plot_Box_sns\n",
    "import Plot_Hist\n",
    "import Plot_Bar\n",
    "import GrubbsTest\n",
    "import DataFrameSubsetSlicer\n",
    "from DataFrameSubsetSlicer import DataFrameSubsetSlicer as DFSlicer\n",
    "#---------------------------------------------------------------------"
   ]
  },
  {
   "cell_type": "code",
   "execution_count": 3,
   "id": "e31ed938-c501-4f4b-9538-09b8d41d5648",
   "metadata": {},
   "outputs": [],
   "source": [
    "cbus_only = True"
   ]
  },
  {
   "cell_type": "code",
   "execution_count": 4,
   "id": "21029439-d866-4c44-bef1-408dec022ae8",
   "metadata": {},
   "outputs": [],
   "source": [
    "if cbus_only:\n",
    "    trsf_pole_df = pd.read_pickle(r'C:\\Users\\s346557\\Documents\\LocalData\\dovs_and_end_events_data\\20240906\\20230401_20240831\\Outages\\trsf_location_info_df.pkl')\n",
    "    trsf_pole_nbs_to_ignore = [' ', 'TRANSMISSION', 'PRIMARY', 'NETWORK']\n",
    "    #-------------------------\n",
    "    cbus_zips = [\n",
    "        43085, \n",
    "        43201, \n",
    "        43202, \n",
    "        43203, \n",
    "        43204, \n",
    "        43205, \n",
    "        43206, \n",
    "        43207, \n",
    "        43209, \n",
    "        43210, \n",
    "        43211, \n",
    "        43212, \n",
    "        43213, \n",
    "        43214, \n",
    "        43215, \n",
    "        43216, \n",
    "        43217, \n",
    "        43218, \n",
    "        43219, \n",
    "        43220, \n",
    "        43221, \n",
    "        43222, \n",
    "        43223, \n",
    "        43224, \n",
    "        43226, \n",
    "        43227, \n",
    "        43228, \n",
    "        43229, \n",
    "        43230, \n",
    "        43231, \n",
    "        43232, \n",
    "        43234, \n",
    "        43235, \n",
    "        43236, \n",
    "        43240\n",
    "    ] \n",
    "    \n",
    "    #----------------------------------------------------------------------------------------------------\n",
    "    trsf_pole_df = trsf_pole_df.drop_duplicates()\n",
    "    trsf_pole_df = trsf_pole_df.reset_index(drop=True)\n",
    "    trsf_pole_df = trsf_pole_df[~trsf_pole_df['trsf_pole_nb'].isin(trsf_pole_nbs_to_ignore)]\n",
    "    #-------------------------\n",
    "    # Want only one entry per zip\n",
    "    # For each trsf_pole_nb, keep only the entry with the largest nPNs value\n",
    "    trsf_pole_df = trsf_pole_df.reset_index(drop=True)\n",
    "    trsf_pole_df = trsf_pole_df.loc[trsf_pole_df.groupby('trsf_pole_nb')['nPNs_xfmri_sa4i'].idxmax()]\n",
    "    trsf_pole_df = trsf_pole_df.reset_index(drop=True)\n",
    "    assert(trsf_pole_df.shape[0]==trsf_pole_df['trsf_pole_nb'].nunique())\n",
    "    #-------------------------\n",
    "    trsf_pole_df['zip'] = trsf_pole_df['zip'].astype(int)\n",
    "    trsf_pole_df_cbus = trsf_pole_df[trsf_pole_df['zip'].isin(cbus_zips)]"
   ]
  },
  {
   "cell_type": "code",
   "execution_count": null,
   "id": "0c103eb3-d0dd-4b52-b71d-9afa08995e6a",
   "metadata": {},
   "outputs": [],
   "source": []
  },
  {
   "cell_type": "code",
   "execution_count": 5,
   "id": "9942f70c-01fa-41f5-9aa1-f76d34e5aa4a",
   "metadata": {},
   "outputs": [],
   "source": [
    "# prediction_date   = pd.to_datetime('2023-07-27')\n",
    "# #-----\n",
    "# model_base_dir = r'C:\\Users\\s346557\\Documents\\LocalData\\dovs_and_end_events_data\\20240906\\Models\\All_EEMSP_agg_Top10'\n",
    "# #-----\n",
    "# tmp_f = open(r'C:\\Users\\s346557\\Documents\\LocalData\\dovs_and_end_events_data\\20240906\\Models\\All_EEMSP_agg_Top10\\Slices\\ledger.json')\n",
    "# ledger = json.load(tmp_f)\n",
    "# tmp_f.close()\n",
    "# trsf_pole_nbs_model = natsorted(ledger.keys())\n",
    "# #-----\n",
    "# random.seed(42)\n",
    "# #-----\n",
    "# n_poles = 100\n",
    "# if cbus_only:\n",
    "#     trsf_pole_nbs_init = list(set(trsf_pole_df_cbus['trsf_pole_nb'].unique()).intersection(set(trsf_pole_nbs_model)))\n",
    "#     trsf_pole_nbs_init = random.sample(trsf_pole_nbs_init,  n_poles)\n",
    "# else:\n",
    "#     trsf_pole_nbs_init = random.sample(trsf_pole_nbs_model, n_poles)"
   ]
  },
  {
   "cell_type": "code",
   "execution_count": null,
   "id": "426c0945-2ad1-43dd-9c92-1e5a35b6acdf",
   "metadata": {},
   "outputs": [],
   "source": []
  },
  {
   "cell_type": "code",
   "execution_count": 6,
   "id": "f64f9b5d",
   "metadata": {},
   "outputs": [],
   "source": [
    "prediction_date   = pd.to_datetime('2023-07-27')\n",
    "#-----\n",
    "model_base_dir = r'C:\\Users\\s346557\\Documents\\LocalData\\dovs_and_end_events_data\\20240906\\Models\\All_EEMSP_agg_Top10_noMonth_20250219'\n",
    "#-----\n",
    "tmp_f = open(r'C:\\Users\\s346557\\Documents\\LocalData\\dovs_and_end_events_data\\20240906\\Models\\All_EEMSP_agg_Top10_noMonth_20250219\\Slices\\ledger.json')\n",
    "ledger = json.load(tmp_f)\n",
    "tmp_f.close()\n",
    "#-----\n",
    "random.seed(42)"
   ]
  },
  {
   "cell_type": "code",
   "execution_count": 7,
   "id": "5aff019e",
   "metadata": {},
   "outputs": [
    {
     "ename": "AssertionError",
     "evalue": "",
     "output_type": "error",
     "traceback": [
      "\u001b[1;31m---------------------------------------------------------------------------\u001b[0m",
      "\u001b[1;31mAssertionError\u001b[0m                            Traceback (most recent call last)",
      "Cell \u001b[1;32mIn[7], line 1\u001b[0m\n\u001b[1;32m----> 1\u001b[0m \u001b[38;5;28;01massert\u001b[39;00m(\u001b[38;5;241m0\u001b[39m)\n",
      "\u001b[1;31mAssertionError\u001b[0m: "
     ]
    }
   ],
   "source": [
    "assert(0)"
   ]
  },
  {
   "cell_type": "code",
   "execution_count": null,
   "id": "bf99e11c-805c-45a9-849a-def5b22d0ab6",
   "metadata": {},
   "outputs": [],
   "source": []
  },
  {
   "cell_type": "code",
   "execution_count": null,
   "id": "6abe817c-8aa8-4b0c-8886-eec2c466e927",
   "metadata": {},
   "outputs": [],
   "source": []
  },
  {
   "cell_type": "code",
   "execution_count": null,
   "id": "0d9ca1e3-dd6a-43ab-bec0-aa20ba8a57cc",
   "metadata": {},
   "outputs": [],
   "source": []
  },
  {
   "cell_type": "code",
   "execution_count": null,
   "id": "b5934fa0-bead-4fed-a604-69ec2c6711c9",
   "metadata": {},
   "outputs": [],
   "source": []
  },
  {
   "cell_type": "code",
   "execution_count": 8,
   "id": "320b0c0c-8460-4bfa-9a60-e57e33773271",
   "metadata": {},
   "outputs": [
    {
     "name": "stdout",
     "output_type": "stream",
     "text": [
      "n_trsf_pole_nbs = 100\n",
      "\n",
      "SQL statement:\n",
      "WITH Ohb AS (\n",
      "\tSELECT DISTINCT\n",
      "\t\tMP.trsf_pole_nb\n",
      "\tFROM default.meter_premise MP\n",
      "\tWHERE MP.state_cd = 'OH'\n",
      "\tAND   MP.serv_city_ad = 'COLUMBUS'\n",
      ")\n",
      "SELECT *\n",
      "FROM Ohb\n",
      "ORDER BY RAND()\n",
      "LIMIT 100\n",
      "n_coll     = 100\n",
      "batch_size = 1000\n",
      "n_batches  = 1\n",
      "trsf_pole_zips_df build time: 0.0162203311920166\n",
      "n_coll     = 100\n",
      "batch_size = 1000\n",
      "n_batches  = 1\n",
      "n_coll     = 100\n",
      "batch_size = 10000\n",
      "n_batches  = 1\n",
      "!!!!! WARNING !!!!! NO OPCOs SELECTED!\n"
     ]
    }
   ],
   "source": [
    "self = OutagePredictor(prediction_date=prediction_date)\n",
    "#-----\n",
    "self.set_model_dir(\n",
    "    model_dir             = model_base_dir, \n",
    "    model_by_zip_clusters = True, \n",
    ")\n",
    "#-----\n",
    "self.set_trsf_pole_nbs_from_sql(\n",
    "    n_trsf_pole_nbs = 100, \n",
    "    states          = 'OH', \n",
    "    city            = 'COLUMBUS'\n",
    ")\n",
    "print(f\"n_trsf_pole_nbs = {len(self.trsf_pole_nbs)}\")\n",
    "print(f\"\\nSQL statement:\\n{self.trsf_pole_nbs_sql}\")\n",
    "#-----\n",
    "self.initialize_data(\n",
    "    evsSum_sql_fcn    = AMIEndEvents_SQL.build_sql_end_events,  \n",
    "    evsSum_sql_kwargs = dict(opco='oh'), \n",
    ")"
   ]
  },
  {
   "cell_type": "code",
   "execution_count": null,
   "id": "e23905b0-e5b3-4a6c-b0aa-63e767cf4a2c",
   "metadata": {},
   "outputs": [],
   "source": []
  },
  {
   "cell_type": "code",
   "execution_count": 13,
   "id": "f57ae5d9-9c2c-477f-8c1e-208c415d411e",
   "metadata": {},
   "outputs": [],
   "source": [
    "self.predict()\n",
    "y_scores_df = self.y_pred_df.copy()"
   ]
  },
  {
   "cell_type": "code",
   "execution_count": 15,
   "id": "46400b79-487a-4f8d-bd92-aea3044cff77",
   "metadata": {},
   "outputs": [
    {
     "data": {
      "text/plain": [
       "3"
      ]
     },
     "execution_count": 15,
     "metadata": {},
     "output_type": "execute_result"
    }
   ],
   "source": [
    "y_scores_df['pred'].sum()"
   ]
  },
  {
   "cell_type": "code",
   "execution_count": 17,
   "id": "85f83d28-c460-475e-a195-fe48bcef22d6",
   "metadata": {},
   "outputs": [],
   "source": [
    "y_scores_df = pd.merge(\n",
    "    y_scores_df, \n",
    "    self.rcpx_df['EEMSP_0'], \n",
    "    how         = 'inner', \n",
    "    left_index  = True, \n",
    "    right_index = True\n",
    ")\n",
    "y_scores_df = y_scores_df.sort_values(by=['prob_1'], ascending=False)"
   ]
  },
  {
   "cell_type": "code",
   "execution_count": null,
   "id": "2464f529-f441-4c97-afa1-38783be2a5b6",
   "metadata": {},
   "outputs": [],
   "source": []
  },
  {
   "cell_type": "code",
   "execution_count": 54,
   "id": "cfb8bd05-d01f-414f-8b93-f660275f6628",
   "metadata": {},
   "outputs": [
    {
     "data": {
      "text/plain": [
       "True"
      ]
     },
     "execution_count": 54,
     "metadata": {},
     "output_type": "execute_result"
    }
   ],
   "source": [
    "self.zip_clstrs_ledger"
   ]
  },
  {
   "cell_type": "code",
   "execution_count": null,
   "id": "229f0d32-6fd7-4061-b7f4-78738f8fbdfd",
   "metadata": {},
   "outputs": [],
   "source": [
    "self.xfmrs_ledger"
   ]
  },
  {
   "cell_type": "code",
   "execution_count": null,
   "id": "aae545be-0cb1-4cfa-b6f1-4623a7c5ca30",
   "metadata": {},
   "outputs": [],
   "source": [
    "assert(0)"
   ]
  },
  {
   "cell_type": "code",
   "execution_count": null,
   "id": "b094d1f0-39e2-4ed1-a00b-4f7f79a3fb7d",
   "metadata": {},
   "outputs": [],
   "source": []
  },
  {
   "cell_type": "code",
   "execution_count": 64,
   "id": "b48f9ed5-2289-4632-ad75-a6ec1390d7cc",
   "metadata": {},
   "outputs": [
    {
     "name": "stdout",
     "output_type": "stream",
     "text": [
      "0\n",
      "n_coll     = 8\n",
      "batch_size = 1000\n",
      "n_batches  = 1\n",
      "n_coll     = 8\n",
      "batch_size = 10000\n",
      "n_batches  = 1\n",
      "!!!!! WARNING !!!!! NO OPCOs SELECTED!\n"
     ]
    }
   ],
   "source": [
    "# model_i = 7\n",
    "model_i = 0\n",
    "trsf_poles_i = self.xfmrs_ledger[model_i]\n",
    "\n",
    "print(model_i)\n",
    "model_i_dir = os.path.join(model_base_dir, 'Slices', str(model_i))\n",
    "assert(os.path.isdir(model_i_dir))\n",
    "#-------------------------\n",
    "# If no model able to be made for group, directory will be empty\n",
    "# if not os.listdir(model_i_dir):\n",
    "#     print('No model compiled.\\nContinuing to next')\n",
    "#     continue\n",
    "#-------------------------\n",
    "predictor_i = OutagePredictor(prediction_date=prediction_date)\n",
    "predictor_i.set_model_dir(model_i_dir)\n",
    "predictor_i.set_trsf_pole_nbs(trsf_poles_i)\n",
    "predictor_i.initialize_data(\n",
    "    evsSum_sql_fcn=AMIEndEvents_SQL.build_sql_end_events,  \n",
    "    evsSum_sql_kwargs=dict(opco='oh'), \n",
    ")\n",
    "#-------------------------\n",
    "# assert(model_i not in predictors.keys())\n",
    "# predictors[model_i] = predictor_i"
   ]
  },
  {
   "cell_type": "code",
   "execution_count": 65,
   "id": "d53291a2-7b96-4ee7-9da7-73a9437158d9",
   "metadata": {},
   "outputs": [
    {
     "data": {
      "text/plain": [
       "0"
      ]
     },
     "execution_count": 65,
     "metadata": {},
     "output_type": "execute_result"
    }
   ],
   "source": [
    "len(list(set(predictor_i.trsf_pole_nbs).difference(set(predictor_i.evsSum_df['trsf_pole_nb'].unique()))))"
   ]
  },
  {
   "cell_type": "code",
   "execution_count": 66,
   "id": "8234db71-2ced-40b5-b235-917143e1d0d9",
   "metadata": {},
   "outputs": [
    {
     "data": {
      "text/plain": [
       "[]"
      ]
     },
     "execution_count": 66,
     "metadata": {},
     "output_type": "execute_result"
    }
   ],
   "source": [
    "list(set(predictor_i.trsf_pole_nbs).difference(set(predictor_i.evsSum_df['trsf_pole_nb'].unique())))"
   ]
  },
  {
   "cell_type": "code",
   "execution_count": null,
   "id": "237cebd0-a361-4ab3-bf3e-76c24ba49a0c",
   "metadata": {},
   "outputs": [],
   "source": []
  },
  {
   "cell_type": "code",
   "execution_count": null,
   "id": "010e5757-47ce-4b5a-80c5-5370478c739b",
   "metadata": {},
   "outputs": [],
   "source": []
  },
  {
   "cell_type": "code",
   "execution_count": null,
   "id": "36b51f99-fb94-4484-993f-61be4e807e4f",
   "metadata": {},
   "outputs": [],
   "source": []
  },
  {
   "cell_type": "code",
   "execution_count": null,
   "id": "3ed79af3-44ae-4998-8d68-d7e1a5392d9a",
   "metadata": {},
   "outputs": [],
   "source": []
  },
  {
   "cell_type": "code",
   "execution_count": 70,
   "id": "55579d67-a5ef-45e4-92d5-ba0214c4f84c",
   "metadata": {},
   "outputs": [
    {
     "name": "stdout",
     "output_type": "stream",
     "text": [
      "n_coll     = 100\n",
      "batch_size = 1000\n",
      "n_batches  = 1\n",
      "n_coll     = 623\n",
      "batch_size = 1000\n",
      "n_batches  = 1\n",
      "n_coll     = 620\n",
      "batch_size = 1000\n",
      "n_batches  = 1\n",
      "!!!!! WARNING !!!!! NO OPCOs SELECTED!\n"
     ]
    }
   ],
   "source": [
    "dovs_df, mp_df = self.build_dovs_df(return_mp_df=True)"
   ]
  },
  {
   "cell_type": "code",
   "execution_count": null,
   "id": "7e7401df-0a08-4d1f-a8e2-8430a350e1a3",
   "metadata": {},
   "outputs": [],
   "source": []
  },
  {
   "cell_type": "code",
   "execution_count": 71,
   "id": "889f063e-4f07-43e0-a55a-7e7170dec225",
   "metadata": {},
   "outputs": [
    {
     "data": {
      "text/plain": [
       "11"
      ]
     },
     "execution_count": 71,
     "metadata": {},
     "output_type": "execute_result"
    }
   ],
   "source": [
    "dovs_df['trsf_pole_nb'].nunique()"
   ]
  },
  {
   "cell_type": "code",
   "execution_count": 72,
   "id": "be671ad8-73e3-49e9-b197-767899c13c98",
   "metadata": {},
   "outputs": [
    {
     "data": {
      "text/plain": [
       "3"
      ]
     },
     "execution_count": 72,
     "metadata": {},
     "output_type": "execute_result"
    }
   ],
   "source": [
    "y_scores_df[y_scores_df['pred']==1].index.nunique()"
   ]
  },
  {
   "cell_type": "code",
   "execution_count": 73,
   "id": "563db591-d230-48dd-8b8a-d9262fb1ed65",
   "metadata": {},
   "outputs": [
    {
     "data": {
      "text/plain": [
       "set()"
      ]
     },
     "execution_count": 73,
     "metadata": {},
     "output_type": "execute_result"
    }
   ],
   "source": [
    "set(dovs_df['trsf_pole_nb'].unique()).intersection(set(y_scores_df[y_scores_df['pred']==1].index.unique()))"
   ]
  },
  {
   "cell_type": "code",
   "execution_count": null,
   "id": "e4ee49b7-6374-4ec3-8f67-b092c2d99f72",
   "metadata": {},
   "outputs": [],
   "source": []
  },
  {
   "cell_type": "code",
   "execution_count": null,
   "id": "bc2abdf4-0afe-4cd9-bef0-83440a3c2206",
   "metadata": {},
   "outputs": [],
   "source": []
  },
  {
   "cell_type": "code",
   "execution_count": 76,
   "id": "9422f5ed-5889-4b6d-871f-e1baa02e7af2",
   "metadata": {},
   "outputs": [],
   "source": []
  },
  {
   "cell_type": "code",
   "execution_count": null,
   "id": "c9167b6e-7916-4630-9c20-df84a1f1f2ab",
   "metadata": {},
   "outputs": [],
   "source": []
  },
  {
   "cell_type": "code",
   "execution_count": null,
   "id": "450f7353-53fb-4a83-8e45-0dbf19b5875d",
   "metadata": {},
   "outputs": [],
   "source": []
  },
  {
   "cell_type": "code",
   "execution_count": 84,
   "id": "210c05d1-f95e-4125-8482-e5827862f404",
   "metadata": {},
   "outputs": [
    {
     "data": {
      "text/plain": [
       "DatetimeIndex(['2023-09-01', '2023-09-02', '2023-09-03'], dtype='datetime64[ns]', freq='D')"
      ]
     },
     "execution_count": 84,
     "metadata": {},
     "output_type": "execute_result"
    }
   ],
   "source": [
    "prediction_dates = pd.date_range(\n",
    "    start = pd.to_datetime('2023-09-01'), \n",
    "    end   = pd.to_datetime('2023-09-03'), \n",
    "    freq  = pd.Timedelta('1D')\n",
    ")\n",
    "prediction_dates"
   ]
  },
  {
   "cell_type": "code",
   "execution_count": 86,
   "id": "ac6c2b46-bbb0-4143-b83e-7dc6733d817d",
   "metadata": {},
   "outputs": [
    {
     "name": "stdout",
     "output_type": "stream",
     "text": [
      "n_coll     = 10\n",
      "batch_size = 1000\n",
      "n_batches  = 1\n"
     ]
    }
   ],
   "source": [
    "outg_prdctr = OutagePredictor(prediction_date=prediction_dates[0])\n",
    "#-----\n",
    "outg_prdctr.set_model_dir(r'C:\\Users\\s346557\\Documents\\LocalData\\dovs_and_end_events_data\\20231201\\Models\\All_EEMSP_agg_Top10_v5')\n",
    "outg_prdctr.set_trsf_pole_nbs(trsf_pole_nbs[:10])\n",
    "\n",
    "outg_prdctr.prep_multiple_prediction_dates(\n",
    "    prediction_dates  = prediction_dates, \n",
    "    predictions_range = None, \n",
    "    evsSum_sql_fcn    = AMIEndEvents_SQL.build_sql_end_events,  \n",
    "    evsSum_sql_kwargs = dict(opco='oh'), \n",
    "    save_args         = False\n",
    ")"
   ]
  },
  {
   "cell_type": "code",
   "execution_count": 87,
   "id": "6d0e5a6d-5860-4503-aee6-875992c3aa65",
   "metadata": {},
   "outputs": [
    {
     "data": {
      "text/plain": [
       "[datetime.date(2023, 8, 1), datetime.date(2023, 8, 31)]"
      ]
     },
     "execution_count": 87,
     "metadata": {},
     "output_type": "execute_result"
    }
   ],
   "source": [
    "outg_prdctr.date_range"
   ]
  },
  {
   "cell_type": "code",
   "execution_count": 88,
   "id": "fab3a85c-c01a-47a0-a5fd-1662af6bb3e8",
   "metadata": {},
   "outputs": [
    {
     "data": {
      "text/plain": [
       "[(datetime.date(2023, 8, 1), datetime.date(2023, 9, 2))]"
      ]
     },
     "execution_count": 88,
     "metadata": {},
     "output_type": "execute_result"
    }
   ],
   "source": [
    "outg_prdctr.daq_date_ranges"
   ]
  },
  {
   "cell_type": "code",
   "execution_count": 89,
   "id": "723905e9-aab4-4b33-acbc-dc30aad4725f",
   "metadata": {},
   "outputs": [
    {
     "data": {
      "text/plain": [
       "9"
      ]
     },
     "execution_count": 89,
     "metadata": {},
     "output_type": "execute_result"
    }
   ],
   "source": [
    "outg_prdctr.evsSum_df['trsf_pole_nb'].nunique()"
   ]
  },
  {
   "cell_type": "code",
   "execution_count": 90,
   "id": "0a938e40-bb25-44a5-ab44-1b4ad0d00bbe",
   "metadata": {},
   "outputs": [
    {
     "data": {
      "text/plain": [
       "100"
      ]
     },
     "execution_count": 90,
     "metadata": {},
     "output_type": "execute_result"
    }
   ],
   "source": [
    "len(trsf_pole_nbs)"
   ]
  },
  {
   "cell_type": "code",
   "execution_count": 91,
   "id": "ebeaf214-f278-478f-9540-803da840e110",
   "metadata": {},
   "outputs": [],
   "source": [
    "date_col='aep_event_dt'\n",
    "trsf_pole_nb_col  = 'trsf_pole_nb'\n",
    "self = outg_prdctr"
   ]
  },
  {
   "cell_type": "code",
   "execution_count": null,
   "id": "41b6398e-659d-4735-9e17-1a0689c517da",
   "metadata": {},
   "outputs": [],
   "source": []
  },
  {
   "cell_type": "code",
   "execution_count": 93,
   "id": "287387fd-afb4-4b95-8725-cac1809dc371",
   "metadata": {},
   "outputs": [
    {
     "ename": "AssertionError",
     "evalue": "",
     "output_type": "error",
     "traceback": [
      "\u001b[1;31m---------------------------------------------------------------------------\u001b[0m",
      "\u001b[1;31mAssertionError\u001b[0m                            Traceback (most recent call last)",
      "Cell \u001b[1;32mIn[93], line 1\u001b[0m\n\u001b[1;32m----> 1\u001b[0m \u001b[38;5;28;01massert\u001b[39;00m(\u001b[38;5;241m0\u001b[39m)\n",
      "\u001b[1;31mAssertionError\u001b[0m: "
     ]
    }
   ],
   "source": [
    "assert(0)"
   ]
  },
  {
   "cell_type": "code",
   "execution_count": null,
   "id": "a006bb93-c05b-42da-9f91-bef95bad308e",
   "metadata": {},
   "outputs": [],
   "source": []
  },
  {
   "cell_type": "code",
   "execution_count": 94,
   "id": "6b452ff7-dba0-4db7-8bcf-4d399db476c0",
   "metadata": {
    "scrolled": true
   },
   "outputs": [
    {
     "name": "stdout",
     "output_type": "stream",
     "text": [
      "0\n",
      "n_coll     = 8\n",
      "batch_size = 1000\n",
      "n_batches  = 1\n",
      "n_coll     = 8\n",
      "batch_size = 10000\n",
      "n_batches  = 1\n",
      "!!!!! WARNING !!!!! NO OPCOs SELECTED!\n",
      "9\n",
      "n_coll     = 1\n",
      "batch_size = 1000\n",
      "n_batches  = 1\n",
      "n_coll     = 1\n",
      "batch_size = 10000\n",
      "n_batches  = 1\n",
      "!!!!! WARNING !!!!! NO OPCOs SELECTED!\n",
      "16\n",
      "n_coll     = 21\n",
      "batch_size = 1000\n",
      "n_batches  = 1\n",
      "n_coll     = 21\n",
      "batch_size = 10000\n",
      "n_batches  = 1\n",
      "!!!!! WARNING !!!!! NO OPCOs SELECTED!\n",
      "19\n",
      "n_coll     = 16\n",
      "batch_size = 1000\n",
      "n_batches  = 1\n",
      "n_coll     = 16\n",
      "batch_size = 10000\n",
      "n_batches  = 1\n",
      "!!!!! WARNING !!!!! NO OPCOs SELECTED!\n",
      "24\n",
      "n_coll     = 6\n",
      "batch_size = 1000\n",
      "n_batches  = 1\n",
      "n_coll     = 6\n",
      "batch_size = 10000\n",
      "n_batches  = 1\n",
      "!!!!! WARNING !!!!! NO OPCOs SELECTED!\n",
      "26\n",
      "n_coll     = 14\n",
      "batch_size = 1000\n",
      "n_batches  = 1\n",
      "n_coll     = 14\n",
      "batch_size = 10000\n",
      "n_batches  = 1\n",
      "!!!!! WARNING !!!!! NO OPCOs SELECTED!\n",
      "33\n",
      "n_coll     = 11\n",
      "batch_size = 1000\n",
      "n_batches  = 1\n",
      "n_coll     = 11\n",
      "batch_size = 10000\n",
      "n_batches  = 1\n",
      "!!!!! WARNING !!!!! NO OPCOs SELECTED!\n",
      "43\n",
      "n_coll     = 27\n",
      "batch_size = 1000\n",
      "n_batches  = 1\n",
      "n_coll     = 27\n",
      "batch_size = 10000\n",
      "n_batches  = 1\n",
      "!!!!! WARNING !!!!! NO OPCOs SELECTED!\n"
     ]
    }
   ],
   "source": [
    "predictors = dict()\n",
    "for model_i, trsf_poles_i in ledger_inv_xfmr.items():\n",
    "    print(model_i)\n",
    "    model_i_dir = os.path.join(model_base_dir, 'Slices', str(model_i))\n",
    "    assert(os.path.isdir(model_i_dir))\n",
    "    #-------------------------\n",
    "    # If no model able to be made for group, directory will be empty\n",
    "    if not os.listdir(model_i_dir):\n",
    "        print('No model compiled.\\nContinuing to next')\n",
    "        continue\n",
    "    #-------------------------\n",
    "    predictor_i = OutagePredictor(prediction_date=prediction_date)\n",
    "    predictor_i.set_model_dir(model_i_dir)\n",
    "    predictor_i.set_trsf_pole_nbs(trsf_poles_i)\n",
    "    predictor_i.initialize_data(\n",
    "        evsSum_sql_fcn=AMIEndEvents_SQL.build_sql_end_events,  \n",
    "        evsSum_sql_kwargs=dict(opco='oh'), \n",
    "    )\n",
    "    #-------------------------\n",
    "    assert(model_i not in predictors.keys())\n",
    "    predictors[model_i] = predictor_i"
   ]
  },
  {
   "cell_type": "code",
   "execution_count": 95,
   "id": "dbb486a9-8d12-416a-b951-b6a1df5a425f",
   "metadata": {},
   "outputs": [
    {
     "name": "stdout",
     "output_type": "stream",
     "text": [
      "0\n",
      "0\n",
      "\n",
      "9\n",
      "0\n",
      "\n",
      "16\n",
      "1\n",
      "\n",
      "19\n",
      "0\n",
      "\n",
      "24\n",
      "0\n",
      "\n",
      "26\n",
      "0\n",
      "\n",
      "33\n",
      "1\n",
      "\n",
      "43\n",
      "3\n",
      "\n"
     ]
    }
   ],
   "source": [
    "for model_i, pred_i in predictors.items():\n",
    "    y_pred_i = pred_i.model_clf.predict(pred_i.X_test)\n",
    "    print(model_i)\n",
    "    print(y_pred_i.sum())\n",
    "    print()"
   ]
  },
  {
   "cell_type": "code",
   "execution_count": null,
   "id": "7afd6747-f09d-4f9b-b39b-b22955bafdd5",
   "metadata": {},
   "outputs": [],
   "source": []
  },
  {
   "cell_type": "code",
   "execution_count": null,
   "id": "e22990a0",
   "metadata": {},
   "outputs": [],
   "source": []
  },
  {
   "cell_type": "code",
   "execution_count": 98,
   "id": "44548860-70cf-4dd8-919e-6e423e652a61",
   "metadata": {},
   "outputs": [],
   "source": [
    "pred_0 = predictors[0]\n",
    "y_pred_0 = pred_0.model_clf.predict(pred_0.X_test)"
   ]
  },
  {
   "cell_type": "code",
   "execution_count": 100,
   "id": "dc4b6fce-fab4-4485-82a8-af5f7875a712",
   "metadata": {},
   "outputs": [
    {
     "data": {
      "text/plain": [
       "0"
      ]
     },
     "execution_count": 100,
     "metadata": {},
     "output_type": "execute_result"
    }
   ],
   "source": [
    "y_pred_0.sum()"
   ]
  },
  {
   "cell_type": "code",
   "execution_count": 102,
   "id": "7f0fbdf7-51fa-4258-8929-b80fe1157149",
   "metadata": {},
   "outputs": [
    {
     "data": {
      "text/plain": [
       "array([0, 0, 0, 0, 0, 0, 0, 0], dtype=int64)"
      ]
     },
     "execution_count": 102,
     "metadata": {},
     "output_type": "execute_result"
    }
   ],
   "source": [
    "y_pred_0"
   ]
  },
  {
   "cell_type": "code",
   "execution_count": 104,
   "id": "a2a18c13-b4ea-4d19-bdda-bcd0e8b32204",
   "metadata": {},
   "outputs": [
    {
     "data": {
      "text/html": [
       "<div>\n",
       "<style scoped>\n",
       "    .dataframe tbody tr th:only-of-type {\n",
       "        vertical-align: middle;\n",
       "    }\n",
       "\n",
       "    .dataframe tbody tr th {\n",
       "        vertical-align: top;\n",
       "    }\n",
       "\n",
       "    .dataframe thead tr th {\n",
       "        text-align: left;\n",
       "    }\n",
       "\n",
       "    .dataframe thead tr:last-of-type th {\n",
       "        text-align: right;\n",
       "    }\n",
       "</style>\n",
       "<table border=\"1\" class=\"dataframe\">\n",
       "  <thead>\n",
       "    <tr>\n",
       "      <th></th>\n",
       "      <th colspan=\"10\" halign=\"left\">01-06 Days</th>\n",
       "      <th>...</th>\n",
       "      <th colspan=\"10\" halign=\"left\">EEMSP_0</th>\n",
       "    </tr>\n",
       "    <tr>\n",
       "      <th></th>\n",
       "      <th>Detected end of voltage sag</th>\n",
       "      <th>Error occurred when attempting to synch meter time with NIC time for device</th>\n",
       "      <th>Primary Power Down</th>\n",
       "      <th>Primary Power Up</th>\n",
       "      <th>Under Voltage</th>\n",
       "      <th>NET_MGMT command failed consecutively</th>\n",
       "      <th>NIC Power Restore Trap Received from device</th>\n",
       "      <th>Detected end of voltage swell</th>\n",
       "      <th>Last Gasp</th>\n",
       "      <th>Over Voltage</th>\n",
       "      <th>...</th>\n",
       "      <th>mfgr_nm</th>\n",
       "      <th>phase_cnt</th>\n",
       "      <th>prim_voltage</th>\n",
       "      <th>protection</th>\n",
       "      <th>pru_number</th>\n",
       "      <th>sec_voltage</th>\n",
       "      <th>special_char</th>\n",
       "      <th>taps</th>\n",
       "      <th>xftype</th>\n",
       "      <th>n_eemsp</th>\n",
       "    </tr>\n",
       "    <tr>\n",
       "      <th>trsf_pole_nb</th>\n",
       "      <th></th>\n",
       "      <th></th>\n",
       "      <th></th>\n",
       "      <th></th>\n",
       "      <th></th>\n",
       "      <th></th>\n",
       "      <th></th>\n",
       "      <th></th>\n",
       "      <th></th>\n",
       "      <th></th>\n",
       "      <th></th>\n",
       "      <th></th>\n",
       "      <th></th>\n",
       "      <th></th>\n",
       "      <th></th>\n",
       "      <th></th>\n",
       "      <th></th>\n",
       "      <th></th>\n",
       "      <th></th>\n",
       "      <th></th>\n",
       "      <th></th>\n",
       "    </tr>\n",
       "  </thead>\n",
       "  <tbody>\n",
       "    <tr>\n",
       "      <th>1814220722502</th>\n",
       "      <td>0.0</td>\n",
       "      <td>0.0</td>\n",
       "      <td>0.4</td>\n",
       "      <td>0.4</td>\n",
       "      <td>0.0</td>\n",
       "      <td>0.000000</td>\n",
       "      <td>0.0</td>\n",
       "      <td>0.0</td>\n",
       "      <td>0.0</td>\n",
       "      <td>0.0</td>\n",
       "      <td>...</td>\n",
       "      <td>RTE</td>\n",
       "      <td>1</td>\n",
       "      <td>7620/13200Y</td>\n",
       "      <td>None</td>\n",
       "      <td>8320</td>\n",
       "      <td>120/240V</td>\n",
       "      <td>None</td>\n",
       "      <td>N</td>\n",
       "      <td>Pole Mtg.</td>\n",
       "      <td>1</td>\n",
       "    </tr>\n",
       "    <tr>\n",
       "      <th>1814452722480</th>\n",
       "      <td>0.0</td>\n",
       "      <td>0.0</td>\n",
       "      <td>0.4</td>\n",
       "      <td>0.4</td>\n",
       "      <td>0.0</td>\n",
       "      <td>0.200000</td>\n",
       "      <td>0.0</td>\n",
       "      <td>0.0</td>\n",
       "      <td>0.0</td>\n",
       "      <td>0.0</td>\n",
       "      <td>...</td>\n",
       "      <td>KUHLMAN ELECTRIC</td>\n",
       "      <td>1</td>\n",
       "      <td>7620/13200Y</td>\n",
       "      <td>None</td>\n",
       "      <td>8320</td>\n",
       "      <td>120/240V</td>\n",
       "      <td>None</td>\n",
       "      <td>Y</td>\n",
       "      <td>Pole Mtg.</td>\n",
       "      <td>1</td>\n",
       "    </tr>\n",
       "    <tr>\n",
       "      <th>1817115711501</th>\n",
       "      <td>0.4</td>\n",
       "      <td>0.0</td>\n",
       "      <td>0.0</td>\n",
       "      <td>0.0</td>\n",
       "      <td>0.0</td>\n",
       "      <td>0.000000</td>\n",
       "      <td>0.0</td>\n",
       "      <td>0.0</td>\n",
       "      <td>0.0</td>\n",
       "      <td>0.0</td>\n",
       "      <td>...</td>\n",
       "      <td>COOPER POWER SYSTEMS</td>\n",
       "      <td>3</td>\n",
       "      <td>13200GRDY/ 7620V</td>\n",
       "      <td>None</td>\n",
       "      <td>8513</td>\n",
       "      <td>208Y/120V</td>\n",
       "      <td>Loop Feed</td>\n",
       "      <td>N</td>\n",
       "      <td>Dead Front</td>\n",
       "      <td>1</td>\n",
       "    </tr>\n",
       "    <tr>\n",
       "      <th>1822111734903</th>\n",
       "      <td>0.4</td>\n",
       "      <td>0.0</td>\n",
       "      <td>0.0</td>\n",
       "      <td>0.0</td>\n",
       "      <td>0.0</td>\n",
       "      <td>0.000000</td>\n",
       "      <td>0.0</td>\n",
       "      <td>0.0</td>\n",
       "      <td>0.0</td>\n",
       "      <td>0.0</td>\n",
       "      <td>...</td>\n",
       "      <td>HOWARD INDUSTRIES</td>\n",
       "      <td>3</td>\n",
       "      <td>13200GRDT/ 7620V</td>\n",
       "      <td>None</td>\n",
       "      <td>8513</td>\n",
       "      <td>480Y/277V</td>\n",
       "      <td>Loop Feed</td>\n",
       "      <td>N</td>\n",
       "      <td>Dead Front</td>\n",
       "      <td>1</td>\n",
       "    </tr>\n",
       "    <tr>\n",
       "      <th>1824912721355</th>\n",
       "      <td>0.0</td>\n",
       "      <td>0.0</td>\n",
       "      <td>0.2</td>\n",
       "      <td>0.2</td>\n",
       "      <td>0.0</td>\n",
       "      <td>0.120000</td>\n",
       "      <td>0.0</td>\n",
       "      <td>0.0</td>\n",
       "      <td>0.0</td>\n",
       "      <td>0.0</td>\n",
       "      <td>...</td>\n",
       "      <td>HOWARD INDUSTRIES</td>\n",
       "      <td>1</td>\n",
       "      <td>7620V</td>\n",
       "      <td>None</td>\n",
       "      <td>8323</td>\n",
       "      <td>240/120V</td>\n",
       "      <td>Loop Feed</td>\n",
       "      <td>N</td>\n",
       "      <td>Dead Front</td>\n",
       "      <td>1</td>\n",
       "    </tr>\n",
       "    <tr>\n",
       "      <th>1825462723107</th>\n",
       "      <td>0.0</td>\n",
       "      <td>0.0</td>\n",
       "      <td>0.2</td>\n",
       "      <td>0.2</td>\n",
       "      <td>0.0</td>\n",
       "      <td>0.000000</td>\n",
       "      <td>0.0</td>\n",
       "      <td>0.0</td>\n",
       "      <td>0.0</td>\n",
       "      <td>0.0</td>\n",
       "      <td>...</td>\n",
       "      <td>COOPER POWER SYSTEMS</td>\n",
       "      <td>1</td>\n",
       "      <td>13200GRDY/ 7620V</td>\n",
       "      <td>None</td>\n",
       "      <td>8320</td>\n",
       "      <td>120/240V</td>\n",
       "      <td>None</td>\n",
       "      <td>N</td>\n",
       "      <td>Pole Mtg.</td>\n",
       "      <td>1</td>\n",
       "    </tr>\n",
       "    <tr>\n",
       "      <th>1832391711296</th>\n",
       "      <td>0.0</td>\n",
       "      <td>0.0</td>\n",
       "      <td>0.2</td>\n",
       "      <td>0.2</td>\n",
       "      <td>0.0</td>\n",
       "      <td>0.014286</td>\n",
       "      <td>0.0</td>\n",
       "      <td>0.0</td>\n",
       "      <td>0.0</td>\n",
       "      <td>0.0</td>\n",
       "      <td>...</td>\n",
       "      <td>KUHLMAN ELECTRIC</td>\n",
       "      <td>1</td>\n",
       "      <td>7620/13200Y</td>\n",
       "      <td>None</td>\n",
       "      <td>8360</td>\n",
       "      <td>120/240V</td>\n",
       "      <td>None</td>\n",
       "      <td>N</td>\n",
       "      <td>Pole Mtg.</td>\n",
       "      <td>1</td>\n",
       "    </tr>\n",
       "    <tr>\n",
       "      <th>1834364723060</th>\n",
       "      <td>0.0</td>\n",
       "      <td>0.0</td>\n",
       "      <td>0.2</td>\n",
       "      <td>0.2</td>\n",
       "      <td>0.0</td>\n",
       "      <td>0.100000</td>\n",
       "      <td>0.0</td>\n",
       "      <td>0.0</td>\n",
       "      <td>0.0</td>\n",
       "      <td>0.0</td>\n",
       "      <td>...</td>\n",
       "      <td>HOWARD INDUSTRIES</td>\n",
       "      <td>1</td>\n",
       "      <td>7620V</td>\n",
       "      <td>None</td>\n",
       "      <td>8323</td>\n",
       "      <td>240/120V</td>\n",
       "      <td>Loop Feed</td>\n",
       "      <td>N</td>\n",
       "      <td>Dead Front</td>\n",
       "      <td>1</td>\n",
       "    </tr>\n",
       "  </tbody>\n",
       "</table>\n",
       "<p>8 rows × 89 columns</p>\n",
       "</div>"
      ],
      "text/plain": [
       "                               01-06 Days  \\\n",
       "              Detected end of voltage sag   \n",
       "trsf_pole_nb                                \n",
       "1814220722502                         0.0   \n",
       "1814452722480                         0.0   \n",
       "1817115711501                         0.4   \n",
       "1822111734903                         0.4   \n",
       "1824912721355                         0.0   \n",
       "1825462723107                         0.0   \n",
       "1832391711296                         0.0   \n",
       "1834364723060                         0.0   \n",
       "\n",
       "                                                                                           \\\n",
       "              Error occurred when attempting to synch meter time with NIC time for device   \n",
       "trsf_pole_nb                                                                                \n",
       "1814220722502                                                0.0                            \n",
       "1814452722480                                                0.0                            \n",
       "1817115711501                                                0.0                            \n",
       "1822111734903                                                0.0                            \n",
       "1824912721355                                                0.0                            \n",
       "1825462723107                                                0.0                            \n",
       "1832391711296                                                0.0                            \n",
       "1834364723060                                                0.0                            \n",
       "\n",
       "                                                                 \\\n",
       "              Primary Power Down Primary Power Up Under Voltage   \n",
       "trsf_pole_nb                                                      \n",
       "1814220722502                0.4              0.4           0.0   \n",
       "1814452722480                0.4              0.4           0.0   \n",
       "1817115711501                0.0              0.0           0.0   \n",
       "1822111734903                0.0              0.0           0.0   \n",
       "1824912721355                0.2              0.2           0.0   \n",
       "1825462723107                0.2              0.2           0.0   \n",
       "1832391711296                0.2              0.2           0.0   \n",
       "1834364723060                0.2              0.2           0.0   \n",
       "\n",
       "                                                     \\\n",
       "              NET_MGMT command failed consecutively   \n",
       "trsf_pole_nb                                          \n",
       "1814220722502                              0.000000   \n",
       "1814452722480                              0.200000   \n",
       "1817115711501                              0.000000   \n",
       "1822111734903                              0.000000   \n",
       "1824912721355                              0.120000   \n",
       "1825462723107                              0.000000   \n",
       "1832391711296                              0.014286   \n",
       "1834364723060                              0.100000   \n",
       "\n",
       "                                                           \\\n",
       "              NIC Power Restore Trap Received from device   \n",
       "trsf_pole_nb                                                \n",
       "1814220722502                                         0.0   \n",
       "1814452722480                                         0.0   \n",
       "1817115711501                                         0.0   \n",
       "1822111734903                                         0.0   \n",
       "1824912721355                                         0.0   \n",
       "1825462723107                                         0.0   \n",
       "1832391711296                                         0.0   \n",
       "1834364723060                                         0.0   \n",
       "\n",
       "                                                                    ...  \\\n",
       "              Detected end of voltage swell Last Gasp Over Voltage  ...   \n",
       "trsf_pole_nb                                                        ...   \n",
       "1814220722502                           0.0       0.0          0.0  ...   \n",
       "1814452722480                           0.0       0.0          0.0  ...   \n",
       "1817115711501                           0.0       0.0          0.0  ...   \n",
       "1822111734903                           0.0       0.0          0.0  ...   \n",
       "1824912721355                           0.0       0.0          0.0  ...   \n",
       "1825462723107                           0.0       0.0          0.0  ...   \n",
       "1832391711296                           0.0       0.0          0.0  ...   \n",
       "1834364723060                           0.0       0.0          0.0  ...   \n",
       "\n",
       "                            EEMSP_0                                         \\\n",
       "                            mfgr_nm phase_cnt      prim_voltage protection   \n",
       "trsf_pole_nb                                                                 \n",
       "1814220722502                   RTE         1       7620/13200Y       None   \n",
       "1814452722480      KUHLMAN ELECTRIC         1       7620/13200Y       None   \n",
       "1817115711501  COOPER POWER SYSTEMS         3  13200GRDY/ 7620V       None   \n",
       "1822111734903     HOWARD INDUSTRIES         3  13200GRDT/ 7620V       None   \n",
       "1824912721355     HOWARD INDUSTRIES         1             7620V       None   \n",
       "1825462723107  COOPER POWER SYSTEMS         1  13200GRDY/ 7620V       None   \n",
       "1832391711296      KUHLMAN ELECTRIC         1       7620/13200Y       None   \n",
       "1834364723060     HOWARD INDUSTRIES         1             7620V       None   \n",
       "\n",
       "                                                                            \n",
       "              pru_number sec_voltage special_char taps      xftype n_eemsp  \n",
       "trsf_pole_nb                                                                \n",
       "1814220722502       8320    120/240V         None    N   Pole Mtg.       1  \n",
       "1814452722480       8320    120/240V         None    Y   Pole Mtg.       1  \n",
       "1817115711501       8513   208Y/120V    Loop Feed    N  Dead Front       1  \n",
       "1822111734903       8513   480Y/277V    Loop Feed    N  Dead Front       1  \n",
       "1824912721355       8323    240/120V    Loop Feed    N  Dead Front       1  \n",
       "1825462723107       8320    120/240V         None    N   Pole Mtg.       1  \n",
       "1832391711296       8360    120/240V         None    N   Pole Mtg.       1  \n",
       "1834364723060       8323    240/120V    Loop Feed    N  Dead Front       1  \n",
       "\n",
       "[8 rows x 89 columns]"
      ]
     },
     "execution_count": 104,
     "metadata": {},
     "output_type": "execute_result"
    }
   ],
   "source": [
    "pred_0.rcpx_df"
   ]
  },
  {
   "cell_type": "code",
   "execution_count": 106,
   "id": "657eb3f8-e63b-4015-8904-6560064193d6",
   "metadata": {},
   "outputs": [],
   "source": [
    "conn_outages = Utilities.get_utldb01p_oracle_connection()"
   ]
  },
  {
   "cell_type": "code",
   "execution_count": 107,
   "id": "7244fac5-3fe0-4c3f-b151-272b57f0b593",
   "metadata": {},
   "outputs": [
    {
     "ename": "NameError",
     "evalue": "name 'dt_0' is not defined",
     "output_type": "error",
     "traceback": [
      "\u001b[1;31m---------------------------------------------------------------------------\u001b[0m",
      "\u001b[1;31mNameError\u001b[0m                                 Traceback (most recent call last)",
      "Cell \u001b[1;32mIn[107], line 4\u001b[0m\n\u001b[0;32m      1\u001b[0m sql_outage_location_ids \u001b[38;5;241m=\u001b[39m DOVSOutages_SQL\u001b[38;5;241m.\u001b[39mbuild_sql_find_outage_xfmrs(\n\u001b[0;32m      2\u001b[0m     mjr_mnr_cause   \u001b[38;5;241m=\u001b[39m \u001b[38;5;28;01mNone\u001b[39;00m, \n\u001b[0;32m      3\u001b[0m     include_premise \u001b[38;5;241m=\u001b[39m \u001b[38;5;28;01mFalse\u001b[39;00m, \n\u001b[1;32m----> 4\u001b[0m     date_range      \u001b[38;5;241m=\u001b[39m [dt_0, dt_1], \n\u001b[0;32m      5\u001b[0m     states          \u001b[38;5;241m=\u001b[39m [\u001b[38;5;124m'\u001b[39m\u001b[38;5;124mOH\u001b[39m\u001b[38;5;124m'\u001b[39m]\n\u001b[0;32m      6\u001b[0m )\n\u001b[0;32m      7\u001b[0m sql_stmnt_outage_location_ids \u001b[38;5;241m=\u001b[39m sql_outage_location_ids\u001b[38;5;241m.\u001b[39mget_sql_statement()\n\u001b[0;32m      8\u001b[0m \u001b[38;5;66;03m#-------------------------\u001b[39;00m\n",
      "\u001b[1;31mNameError\u001b[0m: name 'dt_0' is not defined"
     ]
    }
   ],
   "source": [
    "sql_outage_location_ids = DOVSOutages_SQL.build_sql_find_outage_xfmrs(\n",
    "    mjr_mnr_cause   = None, \n",
    "    include_premise = False, \n",
    "    date_range      = [dt_0, dt_1], \n",
    "    states          = ['OH']\n",
    ")\n",
    "sql_stmnt_outage_location_ids = sql_outage_location_ids.get_sql_statement()\n",
    "#-------------------------\n",
    "df_outage_location_ids = pd.read_sql_query(\n",
    "    sql_stmnt_outage_location_ids, \n",
    "    conn_outages\n",
    ")"
   ]
  },
  {
   "cell_type": "code",
   "execution_count": null,
   "id": "d1a0e617-c4b3-449c-9a3e-22d442f1ea9c",
   "metadata": {},
   "outputs": [],
   "source": [
    "df_outage_location_ids"
   ]
  },
  {
   "cell_type": "code",
   "execution_count": null,
   "id": "e28ea5d0-e0a2-4262-bd30-96e1de6e5eb0",
   "metadata": {},
   "outputs": [],
   "source": []
  },
  {
   "cell_type": "code",
   "execution_count": null,
   "id": "0837f7eb-1e92-42e3-8cbc-3e34c26362d4",
   "metadata": {},
   "outputs": [],
   "source": []
  },
  {
   "cell_type": "code",
   "execution_count": null,
   "id": "5b98bfbc-253b-4c6f-8d76-5f7eb455032d",
   "metadata": {},
   "outputs": [],
   "source": [
    "#FUCK"
   ]
  },
  {
   "cell_type": "code",
   "execution_count": null,
   "id": "29b09b00-9215-497b-bfbe-2aaa68666970",
   "metadata": {},
   "outputs": [],
   "source": [
    "assert(0)"
   ]
  },
  {
   "cell_type": "code",
   "execution_count": null,
   "id": "cb89789d-ec0f-4d2b-be11-0aee7615f20a",
   "metadata": {},
   "outputs": [],
   "source": [
    "trsf_pole_nb_col               = 'trsf_pole_nb'\n",
    "t_min_col                      = 't_min'\n",
    "t_max_col                      = 't_max'\n",
    "trsf_pole_nbs_to_ignore        = [' ', 'TRANSMISSION', 'PRIMARY', 'NETWORK']\n",
    "include_zero_counts            = True\n",
    "build_sql_outage_kwargs        = None\n",
    "assert_all_trsf_pole_nbs_found = False\n",
    "save_args                      = False\n",
    "batch_size                     = 30\n",
    "n_update                       = 1\n",
    "verbose                        = False"
   ]
  },
  {
   "cell_type": "code",
   "execution_count": null,
   "id": "7a010a1c-1cbd-406e-9556-cc4b6f776976",
   "metadata": {},
   "outputs": [],
   "source": []
  },
  {
   "cell_type": "code",
   "execution_count": null,
   "id": "f44d0ba7-c46f-4d6e-9cf0-6e42193779c7",
   "metadata": {},
   "outputs": [],
   "source": [
    "# df          = pd.DataFrame(data=trsf_pole_nbs, columns=['trsf_pole_nb'])\n",
    "# df['t_min'] = date_0\n",
    "# df['t_max'] = date_1\n",
    "\n",
    "prediction_date = pd.to_datetime('2024-07-27')\n",
    "search_times_df = pd.DataFrame(\n",
    "    data    = trsf_pole_df_cbus['trsf_pole_nb'].unique().tolist(), \n",
    "    columns = ['trsf_pole_nb']\n",
    ")\n",
    "search_times_df['t_min'] = prediction_date - pd.Timedelta('365D')\n",
    "search_times_df['t_max'] = prediction_date - pd.Timedelta('1D')"
   ]
  },
  {
   "cell_type": "code",
   "execution_count": null,
   "id": "8a25f241-2031-4853-aaff-22708818a48e",
   "metadata": {},
   "outputs": [],
   "source": [
    "# search_times_df = search_times_df.iloc[:1000]\n",
    "# search_times_df = search_times_df.iloc[:10]"
   ]
  },
  {
   "cell_type": "code",
   "execution_count": null,
   "id": "4ca471c5-8edc-40f8-a7f3-f4deb4c82550",
   "metadata": {},
   "outputs": [],
   "source": [
    "# n_outgs_per_xfmr_v1, n_outgs_per_xfmr_df_v1 = DOVSOutages.get_n_outgs_per_xfmr(\n",
    "#     date_0                  = prediction_date - pd.Timedelta('365D'), \n",
    "#     date_1                  = prediction_date - pd.Timedelta('1D'), \n",
    "#     trsf_pole_nbs           = search_times_df['trsf_pole_nb'].unique().tolist(), \n",
    "#     include_zero_counts     = True, \n",
    "#     build_sql_outage_kwargs = None, \n",
    "#     save_args               = False, \n",
    "#     verbose                 = False, \n",
    "#     return_df               = True\n",
    "# )\n",
    "\n",
    "# n_outgs_per_xfmr_v1.to_pickle(r'C:\\Users\\s346557\\Downloads\\n_outgs_per_xfmr_v1.pkl')\n",
    "# n_outgs_per_xfmr_df_v1.to_pickle(r'C:\\Users\\s346557\\Downloads\\n_outgs_per_xfmr_df_v1.pkl')"
   ]
  },
  {
   "cell_type": "code",
   "execution_count": null,
   "id": "ce95680c-aec5-4efa-a729-e711de0041db",
   "metadata": {},
   "outputs": [],
   "source": []
  },
  {
   "cell_type": "code",
   "execution_count": null,
   "id": "8e81ce20-f740-4670-9e9d-f0d9907c4c9a",
   "metadata": {},
   "outputs": [],
   "source": [
    "# n_outgs_per_xfmr_v3, n_outgs_per_xfmr_df_v3 = DOVSOutages.get_n_outgs_per_xfmr_in_df(\n",
    "#     search_times_df                = search_times_df, \n",
    "#     trsf_pole_nb_col               = trsf_pole_nb_col, \n",
    "#     t_min_col                      = t_min_col, \n",
    "#     t_max_col                      = t_max_col, \n",
    "#     trsf_pole_nbs_to_ignore        = trsf_pole_nbs_to_ignore, \n",
    "#     include_zero_counts            = True, \n",
    "#     build_sql_outage_kwargs        = build_sql_outage_kwargs, \n",
    "#     assert_all_trsf_pole_nbs_found = assert_all_trsf_pole_nbs_found, \n",
    "#     save_args                      = save_args, \n",
    "#     batch_size                     = batch_size, \n",
    "#     n_update                       = n_update, \n",
    "#     verbose                        = verbose, \n",
    "#     return_df                      = True\n",
    "# )\n",
    "\n",
    "# n_outgs_per_xfmr_v3.to_pickle(r'C:\\Users\\s346557\\Downloads\\n_outgs_per_xfmr_v3.pkl')\n",
    "# n_outgs_per_xfmr_df_v3.to_pickle(r'C:\\Users\\s346557\\Downloads\\n_outgs_per_xfmr_df_v3.pkl')"
   ]
  },
  {
   "cell_type": "code",
   "execution_count": null,
   "id": "69a44da2-b4d4-4335-9ed8-4ce0b833a1ff",
   "metadata": {},
   "outputs": [],
   "source": [
    "n_outgs_per_xfmr_v1 = pd.read_pickle(r'C:\\Users\\s346557\\Downloads\\n_outgs_per_xfmr_v1.pkl')\n",
    "n_outgs_per_xfmr_df_v1 = pd.read_pickle(r'C:\\Users\\s346557\\Downloads\\n_outgs_per_xfmr_df_v1.pkl')\n",
    "\n",
    "n_outgs_per_xfmr_v3 = pd.read_pickle(r'C:\\Users\\s346557\\Downloads\\n_outgs_per_xfmr_v3.pkl')\n",
    "n_outgs_per_xfmr_df_v3 = pd.read_pickle(r'C:\\Users\\s346557\\Downloads\\n_outgs_per_xfmr_df_v3.pkl')"
   ]
  },
  {
   "cell_type": "code",
   "execution_count": null,
   "id": "6090d4b7-8f7c-4900-a577-4d3d4377b9b4",
   "metadata": {},
   "outputs": [],
   "source": []
  },
  {
   "cell_type": "code",
   "execution_count": null,
   "id": "1d5a392c-231f-4a47-9d05-5718730294ef",
   "metadata": {},
   "outputs": [],
   "source": [
    "n_outgs_per_xfmr_v3.droplevel(level=['t_min', 't_max']).equals(n_outgs_per_xfmr_v1)"
   ]
  },
  {
   "cell_type": "code",
   "execution_count": null,
   "id": "f39234da-8707-4a0f-bd49-519b4cd5c297",
   "metadata": {},
   "outputs": [],
   "source": [
    "n_outgs_per_xfmr_v1.isna().sum()"
   ]
  },
  {
   "cell_type": "code",
   "execution_count": null,
   "id": "d2309d18-699f-4ecd-ad26-8492a3941d04",
   "metadata": {},
   "outputs": [],
   "source": [
    "(n_outgs_per_xfmr_v1==0).sum()"
   ]
  },
  {
   "cell_type": "code",
   "execution_count": null,
   "id": "a4ef582e-023b-4ef3-b855-2f539ce802c6",
   "metadata": {},
   "outputs": [],
   "source": []
  },
  {
   "cell_type": "code",
   "execution_count": null,
   "id": "01bc7e62-bb94-47b3-b7df-db4ecb0e32c6",
   "metadata": {},
   "outputs": [],
   "source": [
    "# n_outgs_per_xfmr_v1_wo0, n_outgs_per_xfmr_df_v1_wo0 = DOVSOutages.get_n_outgs_per_xfmr(\n",
    "#     date_0                  = prediction_date - pd.Timedelta('365D'), \n",
    "#     date_1                  = prediction_date - pd.Timedelta('1D'), \n",
    "#     trsf_pole_nbs           = search_times_df['trsf_pole_nb'].unique().tolist(), \n",
    "#     include_zero_counts     = False, \n",
    "#     build_sql_outage_kwargs = None, \n",
    "#     save_args               = False, \n",
    "#     verbose                 = False, \n",
    "#     return_df               = True\n",
    "# )\n",
    "\n",
    "# n_outgs_per_xfmr_v1_wo0.to_pickle(r'C:\\Users\\s346557\\Downloads\\n_outgs_per_xfmr_v1_wo0.pkl')\n",
    "# n_outgs_per_xfmr_df_v1_wo0.to_pickle(r'C:\\Users\\s346557\\Downloads\\n_outgs_per_xfmr_df_v1_wo0.pkl')"
   ]
  },
  {
   "cell_type": "code",
   "execution_count": null,
   "id": "9cd10a40-93af-40d4-b551-7cbc15ad9d3f",
   "metadata": {},
   "outputs": [],
   "source": []
  },
  {
   "cell_type": "code",
   "execution_count": null,
   "id": "3698cd7d-261e-47ac-be9d-9cecacda664a",
   "metadata": {},
   "outputs": [],
   "source": [
    "# n_outgs_per_xfmr_v3_wo0, n_outgs_per_xfmr_df_v3_wo0 = DOVSOutages.get_n_outgs_per_xfmr_in_df(\n",
    "#     search_times_df                = search_times_df, \n",
    "#     trsf_pole_nb_col               = trsf_pole_nb_col, \n",
    "#     t_min_col                      = t_min_col, \n",
    "#     t_max_col                      = t_max_col, \n",
    "#     trsf_pole_nbs_to_ignore        = trsf_pole_nbs_to_ignore, \n",
    "#     include_zero_counts            = False, \n",
    "#     build_sql_outage_kwargs        = build_sql_outage_kwargs, \n",
    "#     assert_all_trsf_pole_nbs_found = assert_all_trsf_pole_nbs_found, \n",
    "#     save_args                      = save_args, \n",
    "#     batch_size                     = batch_size, \n",
    "#     n_update                       = n_update, \n",
    "#     verbose                        = verbose, \n",
    "#     return_df                      = True\n",
    "# )\n",
    "\n",
    "# n_outgs_per_xfmr_v3_wo0.to_pickle(r'C:\\Users\\s346557\\Downloads\\n_outgs_per_xfmr_v3_wo0.pkl')\n",
    "# n_outgs_per_xfmr_df_v3_wo0.to_pickle(r'C:\\Users\\s346557\\Downloads\\n_outgs_per_xfmr_df_v3_wo0.pkl')"
   ]
  },
  {
   "cell_type": "code",
   "execution_count": null,
   "id": "507a52c6-c146-4ce1-9df5-66592365266c",
   "metadata": {},
   "outputs": [],
   "source": [
    "n_outgs_per_xfmr_v1_wo0 = pd.read_pickle(r'C:\\Users\\s346557\\Downloads\\n_outgs_per_xfmr_v1_wo0.pkl')\n",
    "n_outgs_per_xfmr_df_v1_wo0 = pd.read_pickle(r'C:\\Users\\s346557\\Downloads\\n_outgs_per_xfmr_df_v1_wo0.pkl')\n",
    "\n",
    "n_outgs_per_xfmr_v3_wo0 = pd.read_pickle(r'C:\\Users\\s346557\\Downloads\\n_outgs_per_xfmr_v3_wo0.pkl')\n",
    "n_outgs_per_xfmr_df_v3_wo0 = pd.read_pickle(r'C:\\Users\\s346557\\Downloads\\n_outgs_per_xfmr_df_v3_wo0.pkl')"
   ]
  },
  {
   "cell_type": "code",
   "execution_count": null,
   "id": "ef383891-5fb2-4962-85fb-6489114cb7d9",
   "metadata": {},
   "outputs": [],
   "source": []
  },
  {
   "cell_type": "code",
   "execution_count": null,
   "id": "fae465f1-5060-49e9-9ae1-7cfea8ca3a32",
   "metadata": {},
   "outputs": [],
   "source": [
    "n_outgs_per_xfmr_v3_wo0.droplevel(level=['t_min', 't_max']).sort_index().equals(n_outgs_per_xfmr_v1_wo0.sort_index())"
   ]
  },
  {
   "cell_type": "code",
   "execution_count": null,
   "id": "4dbf95d1-d092-4c76-97a2-e5c0fc6519fb",
   "metadata": {},
   "outputs": [],
   "source": [
    "n_outgs_per_xfmr_v1_wo0.isna().sum()"
   ]
  },
  {
   "cell_type": "code",
   "execution_count": null,
   "id": "50c554ec-96c7-4ef8-b176-405233485456",
   "metadata": {},
   "outputs": [],
   "source": [
    "(n_outgs_per_xfmr_v1_wo0==0).sum()"
   ]
  },
  {
   "cell_type": "code",
   "execution_count": null,
   "id": "f794f338-5ebe-40ff-8674-ff764bd587c8",
   "metadata": {},
   "outputs": [],
   "source": []
  },
  {
   "cell_type": "code",
   "execution_count": null,
   "id": "3f9781fe-8b37-4407-940d-dffccc6ac684",
   "metadata": {},
   "outputs": [],
   "source": []
  },
  {
   "cell_type": "code",
   "execution_count": null,
   "id": "3055aec8-2e13-42ad-818f-a38bc098f9b2",
   "metadata": {},
   "outputs": [],
   "source": [
    "set(['43002', '43016', '43017', '43064', '43065', '43235']).intersection(set([str(x) for x in cbus_zips]))"
   ]
  },
  {
   "cell_type": "code",
   "execution_count": null,
   "id": "2547282f-c8d7-4d4e-a901-f1b69ce04295",
   "metadata": {},
   "outputs": [],
   "source": []
  }
 ],
 "metadata": {
  "kernelspec": {
   "display_name": "Python 3 (ipykernel)",
   "language": "python",
   "name": "python3"
  },
  "language_info": {
   "codemirror_mode": {
    "name": "ipython",
    "version": 3
   },
   "file_extension": ".py",
   "mimetype": "text/x-python",
   "name": "python",
   "nbconvert_exporter": "python",
   "pygments_lexer": "ipython3",
   "version": "3.11.7"
  }
 },
 "nbformat": 4,
 "nbformat_minor": 5
}
