{
 "cells": [
  {
   "cell_type": "code",
   "execution_count": null,
   "id": "051005d0",
   "metadata": {},
   "outputs": [],
   "source": [
    "%run ./model_end_events_for_outages_METHODS.ipynb"
   ]
  },
  {
   "cell_type": "code",
   "execution_count": null,
   "id": "e9764e04",
   "metadata": {},
   "outputs": [],
   "source": [
    "from importlib import reload\n",
    "#reload(Utilities)\n",
    "#reload(clm)\n",
    "# NOTE: To reload a class imported as, e.g., \n",
    "# from module import class\n",
    "# One must call:\n",
    "#   1. import module\n",
    "#   2. reload module\n",
    "#   3. from module import class\n",
    "\n",
    "#---------------------------------------------------------------------\n",
    "import sys, os\n",
    "import re\n",
    "from pathlib import Path\n",
    "import json\n",
    "import pickle\n",
    "import joblib\n",
    "\n",
    "import pandas as pd\n",
    "import numpy as np\n",
    "from pandas.api.types import is_numeric_dtype, is_datetime64_dtype, is_timedelta64_dtype\n",
    "from scipy import stats\n",
    "import datetime\n",
    "import time\n",
    "from natsort import natsorted, ns, natsort_keygen\n",
    "from packaging import version\n",
    "import random\n",
    "\n",
    "import copy\n",
    "import itertools\n",
    "import adjustText\n",
    "\n",
    "import pyodbc\n",
    "#---------------------------------------------------------------------\n",
    "import matplotlib as mpl\n",
    "import matplotlib.pyplot as plt\n",
    "import seaborn as sns\n",
    "from matplotlib.backends.backend_pdf import PdfPages\n",
    "import matplotlib.patches as mpatches\n",
    "from matplotlib.lines import Line2D\n",
    "import matplotlib.ticker as ticker\n",
    "from matplotlib import dates\n",
    "import matplotlib.colors as mcolors\n",
    "import matplotlib.cm as cm #e.g. for cmap=cm.jet\n",
    "#---------------------------------------------------------------------\n",
    "sys.path.insert(0, os.path.realpath('..'))\n",
    "import Utilities_config\n",
    "#-----\n",
    "from MeterPremise import MeterPremise\n",
    "from EEMSP import EEMSP\n",
    "#-----\n",
    "from AMI_SQL import AMI_SQL\n",
    "from AMINonVee_SQL import AMINonVee_SQL\n",
    "from AMIEndEvents_SQL import AMIEndEvents_SQL\n",
    "from AMIUsgInst_SQL import AMIUsgInst_SQL\n",
    "from DOVSOutages_SQL import DOVSOutages_SQL\n",
    "#-----\n",
    "from GenAn import GenAn\n",
    "from AMINonVee import AMINonVee\n",
    "from AMIEndEvents import AMIEndEvents\n",
    "from MECPODf import MECPODf\n",
    "from MECPOAn import MECPOAn\n",
    "from AMIUsgInst import AMIUsgInst\n",
    "from DOVSOutages import DOVSOutages\n",
    "from OutagePredictor import OutagePredictor\n",
    "#---------------------------------------------------------------------\n",
    "sys.path.insert(0, Utilities_config.get_sql_aids_dir())\n",
    "import Utilities_sql\n",
    "import TableInfos\n",
    "from TableInfos import TableInfo\n",
    "from SQLElement import SQLElement\n",
    "from SQLElementsCollection import SQLElementsCollection\n",
    "from SQLSelect import SQLSelectElement, SQLSelect\n",
    "from SQLFrom import SQLFrom\n",
    "from SQLWhere import SQLWhereElement, SQLWhere\n",
    "from SQLJoin import SQLJoin, SQLJoinCollection\n",
    "from SQLGroupBy import SQLGroupByElement, SQLGroupBy\n",
    "from SQLHaving import SQLHaving\n",
    "from SQLOrderBy import SQLOrderByElement, SQLOrderBy\n",
    "from SQLQuery import SQLQuery\n",
    "from SQLQueryGeneric import SQLQueryGeneric\n",
    "#---------------------------------------------------------------------\n",
    "#sys.path.insert(0, os.path.join(os.path.realpath('..'), 'Utilities'))\n",
    "sys.path.insert(0, Utilities_config.get_utilities_dir())\n",
    "import Utilities\n",
    "import Utilities_df\n",
    "from Utilities_df import DFConstructType\n",
    "import Utilities_dt\n",
    "import Plot_General\n",
    "import Plot_Box_sns\n",
    "import Plot_Hist\n",
    "import Plot_Bar\n",
    "import GrubbsTest\n",
    "import DataFrameSubsetSlicer\n",
    "from DataFrameSubsetSlicer import DataFrameSubsetSlicer as DFSlicer\n",
    "#---------------------------------------------------------------------"
   ]
  },
  {
   "cell_type": "code",
   "execution_count": null,
   "id": "e31ed938-c501-4f4b-9538-09b8d41d5648",
   "metadata": {},
   "outputs": [],
   "source": [
    "cbus_only = True"
   ]
  },
  {
   "cell_type": "code",
   "execution_count": null,
   "id": "21029439-d866-4c44-bef1-408dec022ae8",
   "metadata": {},
   "outputs": [],
   "source": [
    "if cbus_only:\n",
    "    trsf_pole_df = pd.read_pickle(r'C:\\Users\\s346557\\Documents\\LocalData\\dovs_and_end_events_data\\20240906\\20230401_20240831\\Outages\\trsf_location_info_df.pkl')\n",
    "    trsf_pole_nbs_to_ignore = [' ', 'TRANSMISSION', 'PRIMARY', 'NETWORK']\n",
    "    #-------------------------\n",
    "    cbus_zips = [\n",
    "        43085, \n",
    "        43201, \n",
    "        43202, \n",
    "        43203, \n",
    "        43204, \n",
    "        43205, \n",
    "        43206, \n",
    "        43207, \n",
    "        43209, \n",
    "        43210, \n",
    "        43211, \n",
    "        43212, \n",
    "        43213, \n",
    "        43214, \n",
    "        43215, \n",
    "        43216, \n",
    "        43217, \n",
    "        43218, \n",
    "        43219, \n",
    "        43220, \n",
    "        43221, \n",
    "        43222, \n",
    "        43223, \n",
    "        43224, \n",
    "        43226, \n",
    "        43227, \n",
    "        43228, \n",
    "        43229, \n",
    "        43230, \n",
    "        43231, \n",
    "        43232, \n",
    "        43234, \n",
    "        43235, \n",
    "        43236, \n",
    "        43240\n",
    "    ] \n",
    "    \n",
    "    #----------------------------------------------------------------------------------------------------\n",
    "    trsf_pole_df = trsf_pole_df.drop_duplicates()\n",
    "    trsf_pole_df = trsf_pole_df.reset_index(drop=True)\n",
    "    trsf_pole_df = trsf_pole_df[~trsf_pole_df['trsf_pole_nb'].isin(trsf_pole_nbs_to_ignore)]\n",
    "    #-------------------------\n",
    "    # Want only one entry per zip\n",
    "    # For each trsf_pole_nb, keep only the entry with the largest nPNs value\n",
    "    trsf_pole_df = trsf_pole_df.reset_index(drop=True)\n",
    "    trsf_pole_df = trsf_pole_df.loc[trsf_pole_df.groupby('trsf_pole_nb')['nPNs_xfmri_sa4i'].idxmax()]\n",
    "    trsf_pole_df = trsf_pole_df.reset_index(drop=True)\n",
    "    assert(trsf_pole_df.shape[0]==trsf_pole_df['trsf_pole_nb'].nunique())\n",
    "    #-------------------------\n",
    "    trsf_pole_df['zip'] = trsf_pole_df['zip'].astype(int)\n",
    "    trsf_pole_df_cbus = trsf_pole_df[trsf_pole_df['zip'].isin(cbus_zips)]"
   ]
  },
  {
   "cell_type": "code",
   "execution_count": null,
   "id": "0c103eb3-d0dd-4b52-b71d-9afa08995e6a",
   "metadata": {},
   "outputs": [],
   "source": []
  },
  {
   "cell_type": "code",
   "execution_count": null,
   "id": "9942f70c-01fa-41f5-9aa1-f76d34e5aa4a",
   "metadata": {},
   "outputs": [],
   "source": []
  },
  {
   "cell_type": "code",
   "execution_count": null,
   "id": "426c0945-2ad1-43dd-9c92-1e5a35b6acdf",
   "metadata": {},
   "outputs": [],
   "source": []
  },
  {
   "cell_type": "code",
   "execution_count": null,
   "id": "f64f9b5d",
   "metadata": {},
   "outputs": [],
   "source": [
    "model_base_dir = r'C:\\Users\\s346557\\Documents\\LocalData\\dovs_and_end_events_data\\20240906\\Models\\All_EEMSP_agg_Top10'"
   ]
  },
  {
   "cell_type": "code",
   "execution_count": null,
   "id": "5aff019e",
   "metadata": {},
   "outputs": [],
   "source": [
    "prediction_date   = pd.to_datetime('2023-07-27')"
   ]
  },
  {
   "cell_type": "code",
   "execution_count": null,
   "id": "54434f40-2c0c-4da2-9621-dfdeea3d3598",
   "metadata": {},
   "outputs": [],
   "source": []
  },
  {
   "cell_type": "code",
   "execution_count": null,
   "id": "0059c022-0c19-411c-b6a1-8b17a58cc98f",
   "metadata": {},
   "outputs": [],
   "source": [
    "tmp_f = open(r'C:\\Users\\s346557\\Documents\\LocalData\\dovs_and_end_events_data\\20240906\\Models\\All_EEMSP_agg_Top10\\Slices\\ledger.json')\n",
    "ledger = json.load(tmp_f)\n",
    "tmp_f.close()\n",
    "trsf_pole_nbs_model = natsorted(ledger.keys())"
   ]
  },
  {
   "cell_type": "code",
   "execution_count": null,
   "id": "dbb499b0-2080-4417-b6b4-42a007fda209",
   "metadata": {},
   "outputs": [],
   "source": [
    "random.seed(42)"
   ]
  },
  {
   "cell_type": "code",
   "execution_count": null,
   "id": "3e195163-3616-4bdd-8774-3e6f3d5f9d44",
   "metadata": {},
   "outputs": [],
   "source": []
  },
  {
   "cell_type": "code",
   "execution_count": null,
   "id": "dbddf117-b193-4b64-af28-72352006496d",
   "metadata": {},
   "outputs": [],
   "source": [
    "n_poles = 100\n",
    "if cbus_only:\n",
    "    trsf_pole_nbs_init = list(set(trsf_pole_df_cbus['trsf_pole_nb'].unique()).intersection(set(trsf_pole_nbs_model)))\n",
    "    trsf_pole_nbs_init = random.sample(trsf_pole_nbs_init,  n_poles)\n",
    "else:\n",
    "    trsf_pole_nbs_init = random.sample(trsf_pole_nbs_model, n_poles)"
   ]
  },
  {
   "cell_type": "code",
   "execution_count": null,
   "id": "b5934fa0-bead-4fed-a604-69ec2c6711c9",
   "metadata": {},
   "outputs": [],
   "source": []
  },
  {
   "cell_type": "code",
   "execution_count": null,
   "id": "320b0c0c-8460-4bfa-9a60-e57e33773271",
   "metadata": {},
   "outputs": [],
   "source": [
    "self = OutagePredictor(prediction_date=prediction_date)\n",
    "#-----\n",
    "self.set_model_dir(r'C:\\Users\\s346557\\Documents\\LocalData\\dovs_and_end_events_data\\20231201\\Models\\All_EEMSP_agg_Top10_v5')\n",
    "#-----\n",
    "self.set_trsf_pole_nbs(trsf_pole_nbs = trsf_pole_nbs_init)\n",
    "print(f\"n_trsf_pole_nbs = {len(self.trsf_pole_nbs)}\")\n",
    "print(f\"\\nSQL statement:\\n{self.trsf_pole_nbs_sql}\")\n",
    "#-----\n",
    "self.initialize_data(\n",
    "    evsSum_sql_fcn=AMIEndEvents_SQL.build_sql_end_events,  \n",
    "    evsSum_sql_kwargs=dict(opco='oh'), \n",
    ")"
   ]
  },
  {
   "cell_type": "code",
   "execution_count": null,
   "id": "e23905b0-e5b3-4a6c-b0aa-63e767cf4a2c",
   "metadata": {},
   "outputs": [],
   "source": []
  },
  {
   "cell_type": "code",
   "execution_count": null,
   "id": "f57ae5d9-9c2c-477f-8c1e-208c415d411e",
   "metadata": {},
   "outputs": [],
   "source": [
    "self.predict()\n",
    "y_scores_df = self.y_pred_df.copy()"
   ]
  },
  {
   "cell_type": "code",
   "execution_count": null,
   "id": "46400b79-487a-4f8d-bd92-aea3044cff77",
   "metadata": {},
   "outputs": [],
   "source": [
    "y_scores_df['pred'].sum()"
   ]
  },
  {
   "cell_type": "code",
   "execution_count": null,
   "id": "85f83d28-c460-475e-a195-fe48bcef22d6",
   "metadata": {},
   "outputs": [],
   "source": [
    "y_scores_df = pd.merge(\n",
    "    y_scores_df, \n",
    "    self.rcpx_df['EEMSP_0'], \n",
    "    how         = 'inner', \n",
    "    left_index  = True, \n",
    "    right_index = True\n",
    ")\n",
    "y_scores_df = y_scores_df.sort_values(by=[1], ascending=False)"
   ]
  },
  {
   "cell_type": "code",
   "execution_count": null,
   "id": "1a7b8945-c114-42b2-9083-0bf982d3f2a4",
   "metadata": {},
   "outputs": [],
   "source": []
  },
  {
   "cell_type": "code",
   "execution_count": null,
   "id": "2974a05e-2b02-40cf-9002-d83b564bb569",
   "metadata": {},
   "outputs": [],
   "source": [
    "trsf_pole_nbs = self.trsf_pole_nbs"
   ]
  },
  {
   "cell_type": "code",
   "execution_count": null,
   "id": "214e6463-b50d-4400-81d9-7e4e4a224560",
   "metadata": {},
   "outputs": [],
   "source": [
    "ledger_inv_srs = OutagePredictor.group_trsf_pole_nbs_by_model(\n",
    "    trsf_pole_nbs = self.trsf_pole_nbs, \n",
    "    ledger        = ledger\n",
    ")"
   ]
  },
  {
   "cell_type": "code",
   "execution_count": null,
   "id": "890fef8a-fee3-46ed-93b2-8c96606dbac6",
   "metadata": {},
   "outputs": [],
   "source": []
  },
  {
   "cell_type": "code",
   "execution_count": null,
   "id": "88b2cd17-4e5a-4c0d-aac7-b5b42baca725",
   "metadata": {},
   "outputs": [],
   "source": []
  },
  {
   "cell_type": "code",
   "execution_count": null,
   "id": "b48f9ed5-2289-4632-ad75-a6ec1390d7cc",
   "metadata": {},
   "outputs": [],
   "source": [
    "# model_i = 7\n",
    "model_i = 0\n",
    "trsf_poles_i = ledger_inv_srs[model_i]\n",
    "\n",
    "print(model_i)\n",
    "model_i_dir = os.path.join(model_base_dir, 'Slices', str(model_i))\n",
    "assert(os.path.isdir(model_i_dir))\n",
    "#-------------------------\n",
    "# If no model able to be made for group, directory will be empty\n",
    "# if not os.listdir(model_i_dir):\n",
    "#     print('No model compiled.\\nContinuing to next')\n",
    "#     continue\n",
    "#-------------------------\n",
    "predictor_i = OutagePredictor(prediction_date=prediction_date)\n",
    "predictor_i.set_model_dir(model_i_dir)\n",
    "predictor_i.set_trsf_pole_nbs(trsf_poles_i)\n",
    "predictor_i.initialize_data(\n",
    "    evsSum_sql_fcn=AMIEndEvents_SQL.build_sql_end_events,  \n",
    "    evsSum_sql_kwargs=dict(opco='oh'), \n",
    ")\n",
    "#-------------------------\n",
    "# assert(model_i not in predictors.keys())\n",
    "# predictors[model_i] = predictor_i"
   ]
  },
  {
   "cell_type": "code",
   "execution_count": null,
   "id": "d53291a2-7b96-4ee7-9da7-73a9437158d9",
   "metadata": {},
   "outputs": [],
   "source": [
    "len(list(set(predictor_i.trsf_pole_nbs).difference(set(predictor_i.evsSum_df['trsf_pole_nb'].unique()))))"
   ]
  },
  {
   "cell_type": "code",
   "execution_count": null,
   "id": "8234db71-2ced-40b5-b235-917143e1d0d9",
   "metadata": {},
   "outputs": [],
   "source": [
    "list(set(predictor_i.trsf_pole_nbs).difference(set(predictor_i.evsSum_df['trsf_pole_nb'].unique())))"
   ]
  },
  {
   "cell_type": "code",
   "execution_count": null,
   "id": "237cebd0-a361-4ab3-bf3e-76c24ba49a0c",
   "metadata": {},
   "outputs": [],
   "source": []
  },
  {
   "cell_type": "code",
   "execution_count": null,
   "id": "010e5757-47ce-4b5a-80c5-5370478c739b",
   "metadata": {},
   "outputs": [],
   "source": []
  },
  {
   "cell_type": "code",
   "execution_count": null,
   "id": "b9483bbe-22c8-4509-a127-0c0a743cf1d7",
   "metadata": {},
   "outputs": [],
   "source": [
    "dovs_df_new = self.build_dovs_df(\n",
    "    mp_df             = None, \n",
    "    dt_0              = None, \n",
    "    dt_1              = None, \n",
    "    overlap_assertion = 0.95\n",
    ")"
   ]
  },
  {
   "cell_type": "code",
   "execution_count": null,
   "id": "c4aba5c2-7e0a-4926-a097-8b2849c9e96b",
   "metadata": {},
   "outputs": [],
   "source": [
    "mp_df_new = self.build_active_mp_df(\n",
    "    dt_0              = None, \n",
    "    dt_1              = None, \n",
    ")"
   ]
  },
  {
   "cell_type": "code",
   "execution_count": null,
   "id": "0f4b375d-c6dd-40bb-8634-80f0a44a9ee6",
   "metadata": {},
   "outputs": [],
   "source": [
    "dovs_df_new_2 = self.build_dovs_df(\n",
    "    mp_df             = mp_df_new, \n",
    "    dt_0              = None, \n",
    "    dt_1              = None, \n",
    "    overlap_assertion = 0.95\n",
    ")"
   ]
  },
  {
   "cell_type": "code",
   "execution_count": null,
   "id": "2d54f2b2-3c1e-4013-9394-047fb9de7049",
   "metadata": {},
   "outputs": [],
   "source": []
  },
  {
   "cell_type": "code",
   "execution_count": null,
   "id": "36b51f99-fb94-4484-993f-61be4e807e4f",
   "metadata": {},
   "outputs": [],
   "source": []
  },
  {
   "cell_type": "code",
   "execution_count": null,
   "id": "ebc466ca-10cb-42cc-8c71-2537ab901a25",
   "metadata": {},
   "outputs": [],
   "source": [
    "df_mp_install_time_col = 'inst_ts'\n",
    "df_mp_removal_time_col = 'rmvl_ts'\n",
    "# dt_0 = prediction_date\n",
    "# dt_1 = prediction_date\n",
    "dt_0 = self.date_range[0]\n",
    "dt_1 = self.date_range[1]"
   ]
  },
  {
   "cell_type": "code",
   "execution_count": null,
   "id": "b84cb7dc-ec21-4574-8907-748b72b4af4f",
   "metadata": {},
   "outputs": [],
   "source": [
    "mp_df = MeterPremise.build_mp_df_curr_hist_for_xfmrs(\n",
    "    trsf_pole_nbs               = trsf_pole_nbs, \n",
    "    join_curr_hist              = True, \n",
    "    addtnl_mp_df_curr_cols      = None, \n",
    "    addtnl_mp_df_hist_cols      = None, \n",
    "    assume_one_xfmr_per_PN      = True, \n",
    "    drop_approx_duplicates      = True, \n",
    "    drop_approx_duplicates_args = None, \n",
    "    df_mp_serial_number_col     = 'mfr_devc_ser_nbr', \n",
    "    df_mp_prem_nb_col           = 'prem_nb', \n",
    "    df_mp_install_time_col      = 'inst_ts', \n",
    "    df_mp_removal_time_col      = 'rmvl_ts', \n",
    "    df_mp_trsf_pole_nb_col      = 'trsf_pole_nb'\n",
    ")\n",
    "\n",
    "# Only want meters active at the relevant time period\n",
    "mp_df = mp_df[(mp_df[df_mp_install_time_col]<=pd.to_datetime(dt_0)) & \n",
    "              (mp_df[df_mp_removal_time_col].fillna(pd.Timestamp.max)>pd.to_datetime(dt_1))]"
   ]
  },
  {
   "cell_type": "code",
   "execution_count": null,
   "id": "98ce4aa5-0ad7-4cad-b2cf-bdaaacf9f340",
   "metadata": {},
   "outputs": [],
   "source": [
    "set(self.trsf_pole_nbs).difference(set(mp_df['trsf_pole_nb'].unique()))"
   ]
  },
  {
   "cell_type": "code",
   "execution_count": null,
   "id": "37b679d1-fc03-4e05-b9a1-480d43672a07",
   "metadata": {},
   "outputs": [],
   "source": []
  },
  {
   "cell_type": "code",
   "execution_count": null,
   "id": "383eb868-ddd3-4f60-b50b-87248ac221fb",
   "metadata": {},
   "outputs": [],
   "source": [
    "# Build dovs_df\n",
    "dovs = DOVSOutages(\n",
    "    df_construct_type=DFConstructType.kRunSqlQuery, \n",
    "    contstruct_df_args=None, \n",
    "    init_df_in_constructor=True,\n",
    "    build_sql_function=DOVSOutages_SQL.build_sql_std_outage, \n",
    "    build_sql_function_kwargs=dict(\n",
    "        premise_nbs=mp_df['prem_nb'].unique().tolist(), \n",
    "        date_range=[dt_0, dt_1], \n",
    "        field_to_split='premise_nbs', \n",
    "        include_premise=True\n",
    "    ), \n",
    "    build_consolidated=False\n",
    ")\n",
    "dovs_df = dovs.df.copy()"
   ]
  },
  {
   "cell_type": "code",
   "execution_count": null,
   "id": "0f9f02fa-176f-4f94-812e-66f135671a1e",
   "metadata": {},
   "outputs": [],
   "source": []
  },
  {
   "cell_type": "code",
   "execution_count": null,
   "id": "d4fa3bf6-df6a-4f68-b0b2-737ebbcbc58e",
   "metadata": {},
   "outputs": [],
   "source": [
    "dovs_df = pd.merge(\n",
    "    dovs_df, \n",
    "    mp_df[['prem_nb', 'trsf_pole_nb']].drop_duplicates(), \n",
    "    left_on='PREMISE_NB', \n",
    "    right_on='prem_nb', \n",
    "    how='left'\n",
    ")\n",
    "dovs_df"
   ]
  },
  {
   "cell_type": "code",
   "execution_count": null,
   "id": "3ed79af3-44ae-4998-8d68-d7e1a5392d9a",
   "metadata": {},
   "outputs": [],
   "source": []
  },
  {
   "cell_type": "code",
   "execution_count": null,
   "id": "520e8501-638e-419d-a5f5-763a5fe502ce",
   "metadata": {},
   "outputs": [],
   "source": [
    "dovs_df_new.equals(dovs_df)"
   ]
  },
  {
   "cell_type": "code",
   "execution_count": null,
   "id": "a95ee087-01c8-4c39-b981-132e960924f6",
   "metadata": {},
   "outputs": [],
   "source": [
    "print(dovs_df.shape)\n",
    "print(dovs_df_new.shape)"
   ]
  },
  {
   "cell_type": "code",
   "execution_count": null,
   "id": "e458945b-e2e3-46da-a443-c79ca6ee91a0",
   "metadata": {},
   "outputs": [],
   "source": [
    "dovs_df.sort_values(by=['OUTG_REC_NB', 'trsf_pole_nb', 'PREMISE_NB'], ignore_index=True).equals(\n",
    "dovs_df_new.sort_values(by=['OUTG_REC_NB', 'trsf_pole_nb', 'PREMISE_NB'], ignore_index=True)\n",
    ")"
   ]
  },
  {
   "cell_type": "code",
   "execution_count": null,
   "id": "dd5b2236-cafd-431b-97d9-b958bfc94f5a",
   "metadata": {},
   "outputs": [],
   "source": [
    "dovs_df.sort_values(by=['OUTG_REC_NB', 'trsf_pole_nb', 'PREMISE_NB'], ignore_index=True).equals(\n",
    "dovs_df_new_2.sort_values(by=['OUTG_REC_NB', 'trsf_pole_nb', 'PREMISE_NB'], ignore_index=True)\n",
    ")"
   ]
  },
  {
   "cell_type": "code",
   "execution_count": null,
   "id": "7d30d0d4-6de9-417f-8787-68f953d7937c",
   "metadata": {},
   "outputs": [],
   "source": []
  },
  {
   "cell_type": "code",
   "execution_count": null,
   "id": "6308bb76-2097-44bb-ab18-bba170ad7a20",
   "metadata": {},
   "outputs": [],
   "source": []
  },
  {
   "cell_type": "code",
   "execution_count": null,
   "id": "e9c331b7-94cc-4a49-811c-64133f0915e7",
   "metadata": {},
   "outputs": [],
   "source": [
    "print(mp_df.shape)\n",
    "print(mp_df_new.shape)"
   ]
  },
  {
   "cell_type": "code",
   "execution_count": null,
   "id": "8dbc42ad-f75f-4721-b55b-7c6130ad095e",
   "metadata": {},
   "outputs": [],
   "source": [
    "mp_df.sort_values(by=['trsf_pole_nb', 'prem_nb', 'mfr_devc_ser_nbr'], ignore_index=True).equals(\n",
    "mp_df_new.sort_values(by=['trsf_pole_nb', 'prem_nb', 'mfr_devc_ser_nbr'], ignore_index=True)\n",
    ")"
   ]
  },
  {
   "cell_type": "code",
   "execution_count": null,
   "id": "1770d0b8-a41c-4ab6-b70e-03bc2055ce53",
   "metadata": {},
   "outputs": [],
   "source": []
  },
  {
   "cell_type": "code",
   "execution_count": null,
   "id": "7e7401df-0a08-4d1f-a8e2-8430a350e1a3",
   "metadata": {},
   "outputs": [],
   "source": []
  },
  {
   "cell_type": "code",
   "execution_count": null,
   "id": "889f063e-4f07-43e0-a55a-7e7170dec225",
   "metadata": {},
   "outputs": [],
   "source": [
    "dovs_df['trsf_pole_nb'].nunique()"
   ]
  },
  {
   "cell_type": "code",
   "execution_count": null,
   "id": "be671ad8-73e3-49e9-b197-767899c13c98",
   "metadata": {},
   "outputs": [],
   "source": [
    "y_scores_df[y_scores_df['pred']==1].index.nunique()"
   ]
  },
  {
   "cell_type": "code",
   "execution_count": null,
   "id": "563db591-d230-48dd-8b8a-d9262fb1ed65",
   "metadata": {},
   "outputs": [],
   "source": [
    "set(dovs_df['trsf_pole_nb'].unique()).intersection(set(y_scores_df[y_scores_df['pred']==1].index.unique()))"
   ]
  },
  {
   "cell_type": "code",
   "execution_count": null,
   "id": "e4ee49b7-6374-4ec3-8f67-b092c2d99f72",
   "metadata": {},
   "outputs": [],
   "source": []
  },
  {
   "cell_type": "code",
   "execution_count": null,
   "id": "bc2abdf4-0afe-4cd9-bef0-83440a3c2206",
   "metadata": {},
   "outputs": [],
   "source": []
  },
  {
   "cell_type": "code",
   "execution_count": null,
   "id": "9422f5ed-5889-4b6d-871f-e1baa02e7af2",
   "metadata": {},
   "outputs": [],
   "source": [
    "self = predictor_i\n",
    "\n",
    "# date          = '2023-07-26'\n",
    "# date = (self.prediction_date - 0.5*(self.idk_name_1+self.idk_name_2)).date()\n",
    "date = self.prediction_date - self.idk_name_2\n",
    "evsSum_sql_kwargs = dict(opco='oh')\n",
    "date_col='aep_event_dt'"
   ]
  },
  {
   "cell_type": "code",
   "execution_count": null,
   "id": "c9167b6e-7916-4630-9c20-df84a1f1f2ab",
   "metadata": {},
   "outputs": [],
   "source": []
  },
  {
   "cell_type": "code",
   "execution_count": null,
   "id": "450f7353-53fb-4a83-8e45-0dbf19b5875d",
   "metadata": {},
   "outputs": [],
   "source": []
  },
  {
   "cell_type": "code",
   "execution_count": null,
   "id": "210c05d1-f95e-4125-8482-e5827862f404",
   "metadata": {},
   "outputs": [],
   "source": [
    "prediction_dates = pd.date_range(\n",
    "    start = pd.to_datetime('2023-09-01'), \n",
    "    end   = pd.to_datetime('2023-09-03'), \n",
    "    freq  = pd.Timedelta('1D')\n",
    ")\n",
    "prediction_dates"
   ]
  },
  {
   "cell_type": "code",
   "execution_count": null,
   "id": "ac6c2b46-bbb0-4143-b83e-7dc6733d817d",
   "metadata": {},
   "outputs": [],
   "source": [
    "outg_prdctr = OutagePredictor(prediction_date=prediction_dates[0])\n",
    "#-----\n",
    "outg_prdctr.set_model_dir(r'C:\\Users\\s346557\\Documents\\LocalData\\dovs_and_end_events_data\\20231201\\Models\\All_EEMSP_agg_Top10_v5')\n",
    "outg_prdctr.set_trsf_pole_nbs(trsf_pole_nbs[:10])\n",
    "\n",
    "outg_prdctr.prep_multiple_prediction_dates(\n",
    "    prediction_dates  = prediction_dates, \n",
    "    predictions_range = None, \n",
    "    evsSum_sql_fcn    = AMIEndEvents_SQL.build_sql_end_events,  \n",
    "    evsSum_sql_kwargs = dict(opco='oh'), \n",
    "    save_args         = False\n",
    ")"
   ]
  },
  {
   "cell_type": "code",
   "execution_count": null,
   "id": "6d0e5a6d-5860-4503-aee6-875992c3aa65",
   "metadata": {},
   "outputs": [],
   "source": [
    "outg_prdctr.date_range"
   ]
  },
  {
   "cell_type": "code",
   "execution_count": null,
   "id": "fab3a85c-c01a-47a0-a5fd-1662af6bb3e8",
   "metadata": {},
   "outputs": [],
   "source": [
    "outg_prdctr.daq_date_ranges"
   ]
  },
  {
   "cell_type": "code",
   "execution_count": null,
   "id": "723905e9-aab4-4b33-acbc-dc30aad4725f",
   "metadata": {},
   "outputs": [],
   "source": [
    "outg_prdctr.evsSum_df['trsf_pole_nb'].nunique()"
   ]
  },
  {
   "cell_type": "code",
   "execution_count": null,
   "id": "0a938e40-bb25-44a5-ab44-1b4ad0d00bbe",
   "metadata": {},
   "outputs": [],
   "source": [
    "len(trsf_pole_nbs)"
   ]
  },
  {
   "cell_type": "code",
   "execution_count": null,
   "id": "ebeaf214-f278-478f-9540-803da840e110",
   "metadata": {},
   "outputs": [],
   "source": [
    "date_col='aep_event_dt'\n",
    "trsf_pole_nb_col  = 'trsf_pole_nb'\n",
    "self = outg_prdctr"
   ]
  },
  {
   "cell_type": "code",
   "execution_count": null,
   "id": "41b6398e-659d-4735-9e17-1a0689c517da",
   "metadata": {},
   "outputs": [],
   "source": []
  },
  {
   "cell_type": "code",
   "execution_count": null,
   "id": "287387fd-afb4-4b95-8725-cac1809dc371",
   "metadata": {},
   "outputs": [],
   "source": [
    "assert(0)"
   ]
  },
  {
   "cell_type": "code",
   "execution_count": null,
   "id": "a006bb93-c05b-42da-9f91-bef95bad308e",
   "metadata": {},
   "outputs": [],
   "source": []
  },
  {
   "cell_type": "code",
   "execution_count": null,
   "id": "6b452ff7-dba0-4db7-8bcf-4d399db476c0",
   "metadata": {
    "scrolled": true
   },
   "outputs": [],
   "source": [
    "predictors = dict()\n",
    "for model_i, trsf_poles_i in ledger_inv_srs.items():\n",
    "    print(model_i)\n",
    "    model_i_dir = os.path.join(model_base_dir, 'Slices', str(model_i))\n",
    "    assert(os.path.isdir(model_i_dir))\n",
    "    #-------------------------\n",
    "    # If no model able to be made for group, directory will be empty\n",
    "    if not os.listdir(model_i_dir):\n",
    "        print('No model compiled.\\nContinuing to next')\n",
    "        continue\n",
    "    #-------------------------\n",
    "    predictor_i = OutagePredictor(prediction_date=prediction_date)\n",
    "    predictor_i.set_model_dir(model_i_dir)\n",
    "    predictor_i.set_trsf_pole_nbs(trsf_poles_i)\n",
    "    predictor_i.initialize_data(\n",
    "        evsSum_sql_fcn=AMIEndEvents_SQL.build_sql_end_events,  \n",
    "        evsSum_sql_kwargs=dict(opco='oh'), \n",
    "    )\n",
    "    #-------------------------\n",
    "    assert(model_i not in predictors.keys())\n",
    "    predictors[model_i] = predictor_i"
   ]
  },
  {
   "cell_type": "code",
   "execution_count": null,
   "id": "dbb486a9-8d12-416a-b951-b6a1df5a425f",
   "metadata": {},
   "outputs": [],
   "source": [
    "for model_i, pred_i in predictors.items():\n",
    "    y_pred_i = pred_i.model_clf.predict(pred_i.X_test)\n",
    "    print(model_i)\n",
    "    print(y_pred_i.sum())\n",
    "    print()"
   ]
  },
  {
   "cell_type": "code",
   "execution_count": null,
   "id": "7afd6747-f09d-4f9b-b39b-b22955bafdd5",
   "metadata": {},
   "outputs": [],
   "source": []
  },
  {
   "cell_type": "code",
   "execution_count": null,
   "id": "e22990a0",
   "metadata": {},
   "outputs": [],
   "source": []
  },
  {
   "cell_type": "code",
   "execution_count": null,
   "id": "44548860-70cf-4dd8-919e-6e423e652a61",
   "metadata": {},
   "outputs": [],
   "source": [
    "pred_0 = predictors[0]\n",
    "y_pred_0 = pred_0.model_clf.predict(pred_0.X_test)"
   ]
  },
  {
   "cell_type": "code",
   "execution_count": null,
   "id": "dc4b6fce-fab4-4485-82a8-af5f7875a712",
   "metadata": {},
   "outputs": [],
   "source": [
    "y_pred_0.sum()"
   ]
  },
  {
   "cell_type": "code",
   "execution_count": null,
   "id": "7f0fbdf7-51fa-4258-8929-b80fe1157149",
   "metadata": {},
   "outputs": [],
   "source": [
    "y_pred_0"
   ]
  },
  {
   "cell_type": "code",
   "execution_count": null,
   "id": "a2a18c13-b4ea-4d19-bdda-bcd0e8b32204",
   "metadata": {},
   "outputs": [],
   "source": [
    "pred_0.rcpx_df"
   ]
  },
  {
   "cell_type": "code",
   "execution_count": null,
   "id": "657eb3f8-e63b-4015-8904-6560064193d6",
   "metadata": {},
   "outputs": [],
   "source": [
    "conn_outages = Utilities.get_utldb01p_oracle_connection()"
   ]
  },
  {
   "cell_type": "code",
   "execution_count": null,
   "id": "7244fac5-3fe0-4c3f-b151-272b57f0b593",
   "metadata": {},
   "outputs": [],
   "source": [
    "sql_outage_location_ids = DOVSOutages_SQL.build_sql_find_outage_xfmrs(\n",
    "    mjr_mnr_cause   = None, \n",
    "    include_premise = False, \n",
    "    date_range      = [dt_0, dt_1], \n",
    "    states          = ['OH']\n",
    ")\n",
    "sql_stmnt_outage_location_ids = sql_outage_location_ids.get_sql_statement()\n",
    "#-------------------------\n",
    "df_outage_location_ids = pd.read_sql_query(\n",
    "    sql_stmnt_outage_location_ids, \n",
    "    conn_outages\n",
    ")"
   ]
  },
  {
   "cell_type": "code",
   "execution_count": null,
   "id": "d1a0e617-c4b3-449c-9a3e-22d442f1ea9c",
   "metadata": {},
   "outputs": [],
   "source": [
    "df_outage_location_ids"
   ]
  },
  {
   "cell_type": "code",
   "execution_count": null,
   "id": "e28ea5d0-e0a2-4262-bd30-96e1de6e5eb0",
   "metadata": {},
   "outputs": [],
   "source": []
  },
  {
   "cell_type": "code",
   "execution_count": null,
   "id": "0837f7eb-1e92-42e3-8cbc-3e34c26362d4",
   "metadata": {},
   "outputs": [],
   "source": []
  },
  {
   "cell_type": "code",
   "execution_count": null,
   "id": "5b98bfbc-253b-4c6f-8d76-5f7eb455032d",
   "metadata": {},
   "outputs": [],
   "source": [
    "#FUCK"
   ]
  },
  {
   "cell_type": "code",
   "execution_count": null,
   "id": "29b09b00-9215-497b-bfbe-2aaa68666970",
   "metadata": {},
   "outputs": [],
   "source": [
    "assert(0)"
   ]
  },
  {
   "cell_type": "code",
   "execution_count": null,
   "id": "cb89789d-ec0f-4d2b-be11-0aee7615f20a",
   "metadata": {},
   "outputs": [],
   "source": [
    "trsf_pole_nb_col               = 'trsf_pole_nb'\n",
    "t_min_col                      = 't_min'\n",
    "t_max_col                      = 't_max'\n",
    "trsf_pole_nbs_to_ignore        = [' ', 'TRANSMISSION', 'PRIMARY', 'NETWORK']\n",
    "include_zero_counts            = True\n",
    "build_sql_outage_kwargs        = None\n",
    "assert_all_trsf_pole_nbs_found = False\n",
    "save_args                      = False\n",
    "batch_size                     = 30\n",
    "n_update                       = 1\n",
    "verbose                        = False"
   ]
  },
  {
   "cell_type": "code",
   "execution_count": null,
   "id": "7a010a1c-1cbd-406e-9556-cc4b6f776976",
   "metadata": {},
   "outputs": [],
   "source": []
  },
  {
   "cell_type": "code",
   "execution_count": null,
   "id": "f44d0ba7-c46f-4d6e-9cf0-6e42193779c7",
   "metadata": {},
   "outputs": [],
   "source": [
    "# df          = pd.DataFrame(data=trsf_pole_nbs, columns=['trsf_pole_nb'])\n",
    "# df['t_min'] = date_0\n",
    "# df['t_max'] = date_1\n",
    "\n",
    "prediction_date = pd.to_datetime('2024-07-27')\n",
    "search_times_df = pd.DataFrame(\n",
    "    data    = trsf_pole_df_cbus['trsf_pole_nb'].unique().tolist(), \n",
    "    columns = ['trsf_pole_nb']\n",
    ")\n",
    "search_times_df['t_min'] = prediction_date - pd.Timedelta('365D')\n",
    "search_times_df['t_max'] = prediction_date - pd.Timedelta('1D')"
   ]
  },
  {
   "cell_type": "code",
   "execution_count": null,
   "id": "8a25f241-2031-4853-aaff-22708818a48e",
   "metadata": {},
   "outputs": [],
   "source": [
    "# search_times_df = search_times_df.iloc[:1000]\n",
    "# search_times_df = search_times_df.iloc[:10]"
   ]
  },
  {
   "cell_type": "code",
   "execution_count": null,
   "id": "4ca471c5-8edc-40f8-a7f3-f4deb4c82550",
   "metadata": {},
   "outputs": [],
   "source": [
    "# n_outgs_per_xfmr_v1, n_outgs_per_xfmr_df_v1 = DOVSOutages.get_n_outgs_per_xfmr(\n",
    "#     date_0                  = prediction_date - pd.Timedelta('365D'), \n",
    "#     date_1                  = prediction_date - pd.Timedelta('1D'), \n",
    "#     trsf_pole_nbs           = search_times_df['trsf_pole_nb'].unique().tolist(), \n",
    "#     include_zero_counts     = True, \n",
    "#     build_sql_outage_kwargs = None, \n",
    "#     save_args               = False, \n",
    "#     verbose                 = False, \n",
    "#     return_df               = True\n",
    "# )\n",
    "\n",
    "# n_outgs_per_xfmr_v1.to_pickle(r'C:\\Users\\s346557\\Downloads\\n_outgs_per_xfmr_v1.pkl')\n",
    "# n_outgs_per_xfmr_df_v1.to_pickle(r'C:\\Users\\s346557\\Downloads\\n_outgs_per_xfmr_df_v1.pkl')"
   ]
  },
  {
   "cell_type": "code",
   "execution_count": null,
   "id": "ce95680c-aec5-4efa-a729-e711de0041db",
   "metadata": {},
   "outputs": [],
   "source": []
  },
  {
   "cell_type": "code",
   "execution_count": null,
   "id": "8e81ce20-f740-4670-9e9d-f0d9907c4c9a",
   "metadata": {},
   "outputs": [],
   "source": [
    "# n_outgs_per_xfmr_v3, n_outgs_per_xfmr_df_v3 = DOVSOutages.get_n_outgs_per_xfmr_in_df(\n",
    "#     search_times_df                = search_times_df, \n",
    "#     trsf_pole_nb_col               = trsf_pole_nb_col, \n",
    "#     t_min_col                      = t_min_col, \n",
    "#     t_max_col                      = t_max_col, \n",
    "#     trsf_pole_nbs_to_ignore        = trsf_pole_nbs_to_ignore, \n",
    "#     include_zero_counts            = True, \n",
    "#     build_sql_outage_kwargs        = build_sql_outage_kwargs, \n",
    "#     assert_all_trsf_pole_nbs_found = assert_all_trsf_pole_nbs_found, \n",
    "#     save_args                      = save_args, \n",
    "#     batch_size                     = batch_size, \n",
    "#     n_update                       = n_update, \n",
    "#     verbose                        = verbose, \n",
    "#     return_df                      = True\n",
    "# )\n",
    "\n",
    "# n_outgs_per_xfmr_v3.to_pickle(r'C:\\Users\\s346557\\Downloads\\n_outgs_per_xfmr_v3.pkl')\n",
    "# n_outgs_per_xfmr_df_v3.to_pickle(r'C:\\Users\\s346557\\Downloads\\n_outgs_per_xfmr_df_v3.pkl')"
   ]
  },
  {
   "cell_type": "code",
   "execution_count": null,
   "id": "69a44da2-b4d4-4335-9ed8-4ce0b833a1ff",
   "metadata": {},
   "outputs": [],
   "source": [
    "n_outgs_per_xfmr_v1 = pd.read_pickle(r'C:\\Users\\s346557\\Downloads\\n_outgs_per_xfmr_v1.pkl')\n",
    "n_outgs_per_xfmr_df_v1 = pd.read_pickle(r'C:\\Users\\s346557\\Downloads\\n_outgs_per_xfmr_df_v1.pkl')\n",
    "\n",
    "n_outgs_per_xfmr_v3 = pd.read_pickle(r'C:\\Users\\s346557\\Downloads\\n_outgs_per_xfmr_v3.pkl')\n",
    "n_outgs_per_xfmr_df_v3 = pd.read_pickle(r'C:\\Users\\s346557\\Downloads\\n_outgs_per_xfmr_df_v3.pkl')"
   ]
  },
  {
   "cell_type": "code",
   "execution_count": null,
   "id": "6090d4b7-8f7c-4900-a577-4d3d4377b9b4",
   "metadata": {},
   "outputs": [],
   "source": []
  },
  {
   "cell_type": "code",
   "execution_count": null,
   "id": "1d5a392c-231f-4a47-9d05-5718730294ef",
   "metadata": {},
   "outputs": [],
   "source": [
    "n_outgs_per_xfmr_v3.droplevel(level=['t_min', 't_max']).equals(n_outgs_per_xfmr_v1)"
   ]
  },
  {
   "cell_type": "code",
   "execution_count": null,
   "id": "f39234da-8707-4a0f-bd49-519b4cd5c297",
   "metadata": {},
   "outputs": [],
   "source": [
    "n_outgs_per_xfmr_v1.isna().sum()"
   ]
  },
  {
   "cell_type": "code",
   "execution_count": null,
   "id": "d2309d18-699f-4ecd-ad26-8492a3941d04",
   "metadata": {},
   "outputs": [],
   "source": [
    "(n_outgs_per_xfmr_v1==0).sum()"
   ]
  },
  {
   "cell_type": "code",
   "execution_count": null,
   "id": "a4ef582e-023b-4ef3-b855-2f539ce802c6",
   "metadata": {},
   "outputs": [],
   "source": []
  },
  {
   "cell_type": "code",
   "execution_count": null,
   "id": "01bc7e62-bb94-47b3-b7df-db4ecb0e32c6",
   "metadata": {},
   "outputs": [],
   "source": [
    "# n_outgs_per_xfmr_v1_wo0, n_outgs_per_xfmr_df_v1_wo0 = DOVSOutages.get_n_outgs_per_xfmr(\n",
    "#     date_0                  = prediction_date - pd.Timedelta('365D'), \n",
    "#     date_1                  = prediction_date - pd.Timedelta('1D'), \n",
    "#     trsf_pole_nbs           = search_times_df['trsf_pole_nb'].unique().tolist(), \n",
    "#     include_zero_counts     = False, \n",
    "#     build_sql_outage_kwargs = None, \n",
    "#     save_args               = False, \n",
    "#     verbose                 = False, \n",
    "#     return_df               = True\n",
    "# )\n",
    "\n",
    "# n_outgs_per_xfmr_v1_wo0.to_pickle(r'C:\\Users\\s346557\\Downloads\\n_outgs_per_xfmr_v1_wo0.pkl')\n",
    "# n_outgs_per_xfmr_df_v1_wo0.to_pickle(r'C:\\Users\\s346557\\Downloads\\n_outgs_per_xfmr_df_v1_wo0.pkl')"
   ]
  },
  {
   "cell_type": "code",
   "execution_count": null,
   "id": "9cd10a40-93af-40d4-b551-7cbc15ad9d3f",
   "metadata": {},
   "outputs": [],
   "source": []
  },
  {
   "cell_type": "code",
   "execution_count": null,
   "id": "3698cd7d-261e-47ac-be9d-9cecacda664a",
   "metadata": {},
   "outputs": [],
   "source": [
    "# n_outgs_per_xfmr_v3_wo0, n_outgs_per_xfmr_df_v3_wo0 = DOVSOutages.get_n_outgs_per_xfmr_in_df(\n",
    "#     search_times_df                = search_times_df, \n",
    "#     trsf_pole_nb_col               = trsf_pole_nb_col, \n",
    "#     t_min_col                      = t_min_col, \n",
    "#     t_max_col                      = t_max_col, \n",
    "#     trsf_pole_nbs_to_ignore        = trsf_pole_nbs_to_ignore, \n",
    "#     include_zero_counts            = False, \n",
    "#     build_sql_outage_kwargs        = build_sql_outage_kwargs, \n",
    "#     assert_all_trsf_pole_nbs_found = assert_all_trsf_pole_nbs_found, \n",
    "#     save_args                      = save_args, \n",
    "#     batch_size                     = batch_size, \n",
    "#     n_update                       = n_update, \n",
    "#     verbose                        = verbose, \n",
    "#     return_df                      = True\n",
    "# )\n",
    "\n",
    "# n_outgs_per_xfmr_v3_wo0.to_pickle(r'C:\\Users\\s346557\\Downloads\\n_outgs_per_xfmr_v3_wo0.pkl')\n",
    "# n_outgs_per_xfmr_df_v3_wo0.to_pickle(r'C:\\Users\\s346557\\Downloads\\n_outgs_per_xfmr_df_v3_wo0.pkl')"
   ]
  },
  {
   "cell_type": "code",
   "execution_count": null,
   "id": "507a52c6-c146-4ce1-9df5-66592365266c",
   "metadata": {},
   "outputs": [],
   "source": [
    "n_outgs_per_xfmr_v1_wo0 = pd.read_pickle(r'C:\\Users\\s346557\\Downloads\\n_outgs_per_xfmr_v1_wo0.pkl')\n",
    "n_outgs_per_xfmr_df_v1_wo0 = pd.read_pickle(r'C:\\Users\\s346557\\Downloads\\n_outgs_per_xfmr_df_v1_wo0.pkl')\n",
    "\n",
    "n_outgs_per_xfmr_v3_wo0 = pd.read_pickle(r'C:\\Users\\s346557\\Downloads\\n_outgs_per_xfmr_v3_wo0.pkl')\n",
    "n_outgs_per_xfmr_df_v3_wo0 = pd.read_pickle(r'C:\\Users\\s346557\\Downloads\\n_outgs_per_xfmr_df_v3_wo0.pkl')"
   ]
  },
  {
   "cell_type": "code",
   "execution_count": null,
   "id": "ef383891-5fb2-4962-85fb-6489114cb7d9",
   "metadata": {},
   "outputs": [],
   "source": []
  },
  {
   "cell_type": "code",
   "execution_count": null,
   "id": "fae465f1-5060-49e9-9ae1-7cfea8ca3a32",
   "metadata": {},
   "outputs": [],
   "source": [
    "n_outgs_per_xfmr_v3_wo0.droplevel(level=['t_min', 't_max']).sort_index().equals(n_outgs_per_xfmr_v1_wo0.sort_index())"
   ]
  },
  {
   "cell_type": "code",
   "execution_count": null,
   "id": "4dbf95d1-d092-4c76-97a2-e5c0fc6519fb",
   "metadata": {},
   "outputs": [],
   "source": [
    "n_outgs_per_xfmr_v1_wo0.isna().sum()"
   ]
  },
  {
   "cell_type": "code",
   "execution_count": null,
   "id": "50c554ec-96c7-4ef8-b176-405233485456",
   "metadata": {},
   "outputs": [],
   "source": [
    "(n_outgs_per_xfmr_v1_wo0==0).sum()"
   ]
  },
  {
   "cell_type": "code",
   "execution_count": null,
   "id": "f794f338-5ebe-40ff-8674-ff764bd587c8",
   "metadata": {},
   "outputs": [],
   "source": []
  },
  {
   "cell_type": "code",
   "execution_count": null,
   "id": "3f9781fe-8b37-4407-940d-dffccc6ac684",
   "metadata": {},
   "outputs": [],
   "source": []
  },
  {
   "cell_type": "code",
   "execution_count": null,
   "id": "3055aec8-2e13-42ad-818f-a38bc098f9b2",
   "metadata": {},
   "outputs": [],
   "source": []
  },
  {
   "cell_type": "code",
   "execution_count": null,
   "id": "925267d6-7e7b-4bd1-b95e-5aeb8385c900",
   "metadata": {},
   "outputs": [],
   "source": []
  },
  {
   "cell_type": "code",
   "execution_count": null,
   "id": "636d2a0e-31bb-44b4-a862-1e3cdc5315e9",
   "metadata": {},
   "outputs": [],
   "source": []
  },
  {
   "cell_type": "code",
   "execution_count": null,
   "id": "a8ed31c6-8071-4f7d-97a0-438256160a0f",
   "metadata": {},
   "outputs": [],
   "source": []
  }
 ],
 "metadata": {
  "kernelspec": {
   "display_name": "Python 3 (ipykernel)",
   "language": "python",
   "name": "python3"
  },
  "language_info": {
   "codemirror_mode": {
    "name": "ipython",
    "version": 3
   },
   "file_extension": ".py",
   "mimetype": "text/x-python",
   "name": "python",
   "nbconvert_exporter": "python",
   "pygments_lexer": "ipython3",
   "version": "3.11.7"
  }
 },
 "nbformat": 4,
 "nbformat_minor": 5
}
