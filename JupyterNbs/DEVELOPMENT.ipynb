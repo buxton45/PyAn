{
 "cells": [
  {
   "cell_type": "code",
   "execution_count": null,
   "id": "2e60cd9c",
   "metadata": {},
   "outputs": [],
   "source": [
    "from importlib import reload\n",
    "#reload(Utilities)\n",
    "\n",
    "import sys, os\n",
    "import re\n",
    "\n",
    "import pandas as pd\n",
    "import numpy as np\n",
    "from pandas.api.types import is_numeric_dtype\n",
    "from scipy import stats\n",
    "import datetime\n",
    "import time\n",
    "from natsort import natsorted, ns\n",
    "from packaging import version\n",
    "\n",
    "import itertools\n",
    "import natsort\n",
    "\n",
    "import pyodbc\n",
    "#---------------------------------------------------------------------\n",
    "sys.path.insert(0, os.path.realpath('..'))\n",
    "import Utilities_config\n",
    "#-----\n",
    "from MeterPremise import MeterPremise\n",
    "#-----\n",
    "from AMI_SQL import AMI_SQL\n",
    "from AMINonVee_SQL import AMINonVee_SQL\n",
    "from AMIEndEvents_SQL import AMIEndEvents_SQL\n",
    "from AMIUsgInst_SQL import AMIUsgInst_SQL\n",
    "from DOVSOutages_SQL import DOVSOutages_SQL\n",
    "#-----\n",
    "from GenAn import GenAn\n",
    "from AMINonVee import AMINonVee\n",
    "from AMIEndEvents import AMIEndEvents\n",
    "from AMIUsgInst import AMIUsgInst\n",
    "from DOVSOutages import DOVSOutages\n",
    "#---------------------------------------------------------------------\n",
    "import matplotlib as mpl\n",
    "import matplotlib.pyplot as plt\n",
    "import seaborn as sns\n",
    "from matplotlib.backends.backend_pdf import PdfPages\n",
    "import matplotlib.patches as mpatches\n",
    "from matplotlib.lines import Line2D\n",
    "import matplotlib.ticker as ticker\n",
    "from matplotlib import dates\n",
    "import matplotlib.colors as mcolors\n",
    "import matplotlib.cm as cm #e.g. for cmap=cm.jet\n",
    "#---------------------------------------------------------------------\n",
    "sys.path.insert(0, Utilities_config.get_sql_aids_dir())\n",
    "import Utilities_sql\n",
    "from SQLElement import SQLElement\n",
    "from SQLElementsCollection import SQLElementsCollection\n",
    "from SQLSelect import SQLSelectElement, SQLSelect\n",
    "from SQLFrom import SQLFrom\n",
    "from SQLWhere import SQLWhereElement, SQLWhere\n",
    "from SQLJoin import SQLJoin, SQLJoinCollection\n",
    "from SQLGroupBy import SQLGroupByElement, SQLGroupBy\n",
    "from SQLOrderBy import SQLOrderByElement, SQLOrderBy\n",
    "from SQLQuery import SQLQuery\n",
    "#---------------------------------------------------------------------\n",
    "sys.path.insert(0, Utilities_config.get_utilities_dir())\n",
    "import Utilities\n",
    "import Utilities_df\n",
    "import Plot_Box_sns\n",
    "import GrubbsTest"
   ]
  },
  {
   "cell_type": "code",
   "execution_count": null,
   "id": "31216c3d",
   "metadata": {},
   "outputs": [],
   "source": [
    "df1 = pd.DataFrame([['a', 1, 10], ['b', 2, 20]],\n",
    "                   columns=['letter', 'number', 'other_number'])"
   ]
  },
  {
   "cell_type": "code",
   "execution_count": null,
   "id": "8c2c6674",
   "metadata": {},
   "outputs": [],
   "source": [
    "df2 = pd.DataFrame([[3, 'c'], [4, 'd']],\n",
    "                   columns=['number', 'letter'])"
   ]
  },
  {
   "cell_type": "code",
   "execution_count": null,
   "id": "9987fa7f",
   "metadata": {},
   "outputs": [],
   "source": [
    "df1"
   ]
  },
  {
   "cell_type": "code",
   "execution_count": null,
   "id": "06a55f0b",
   "metadata": {},
   "outputs": [],
   "source": [
    "df2"
   ]
  },
  {
   "cell_type": "code",
   "execution_count": null,
   "id": "80aa4cb8",
   "metadata": {},
   "outputs": [],
   "source": [
    "pd.concat([df1, df2]).fillna(0)"
   ]
  },
  {
   "cell_type": "code",
   "execution_count": null,
   "id": "21da0662",
   "metadata": {},
   "outputs": [],
   "source": [
    "df2.info()"
   ]
  },
  {
   "cell_type": "code",
   "execution_count": null,
   "id": "32fd8c81",
   "metadata": {},
   "outputs": [],
   "source": [
    "conn_outages = Utilities.get_utldb01p_oracle_connection()\n",
    "conn_aws = Utilities.get_athena_prod_aws_connection()"
   ]
  },
  {
   "cell_type": "code",
   "execution_count": null,
   "id": "b67cd012",
   "metadata": {},
   "outputs": [],
   "source": []
  },
  {
   "cell_type": "code",
   "execution_count": null,
   "id": "f2f1460e",
   "metadata": {},
   "outputs": [],
   "source": [
    "schema_name = 'DOVSADM'\n",
    "table_name = 'DOVS_OUTAGE_FACT'\n",
    "\n",
    "outages_info_df = Utilities.get_outages_table_info(conn_outages, schema_name, table_name)\n",
    "outages_info_df"
   ]
  },
  {
   "cell_type": "code",
   "execution_count": null,
   "id": "91da3578",
   "metadata": {},
   "outputs": [],
   "source": [
    "# natsort.natsorted(outages_info_df['COLUMN_NAME'].unique().tolist())"
   ]
  },
  {
   "cell_type": "code",
   "execution_count": null,
   "id": "2368a556",
   "metadata": {},
   "outputs": [],
   "source": []
  },
  {
   "cell_type": "code",
   "execution_count": null,
   "id": "5b1b1aa2",
   "metadata": {},
   "outputs": [],
   "source": [
    "schema_name = 'default'\n",
    "table_name = 'meter_premise'\n",
    "\n",
    "mp_info_df = Utilities.get_athena_table_info(conn_aws, schema_name, table_name, run_clean=True)\n",
    "mp_info_df"
   ]
  },
  {
   "cell_type": "code",
   "execution_count": null,
   "id": "a6547fb5",
   "metadata": {},
   "outputs": [],
   "source": []
  },
  {
   "cell_type": "code",
   "execution_count": null,
   "id": "61567f30",
   "metadata": {},
   "outputs": [],
   "source": [
    "schema_name = 'default'\n",
    "table_name = 'meter_premise_hist'\n",
    "\n",
    "mp_hist_info_df = Utilities.get_athena_table_info(conn_aws, schema_name, table_name, run_clean=True)\n",
    "mp_hist_info_df"
   ]
  },
  {
   "cell_type": "code",
   "execution_count": null,
   "id": "f4d54b38",
   "metadata": {},
   "outputs": [],
   "source": [
    "set(mp_info_df['col_name']).difference(set(mp_hist_info_df['col_name']))"
   ]
  },
  {
   "cell_type": "code",
   "execution_count": null,
   "id": "c6e8ecc7",
   "metadata": {},
   "outputs": [],
   "source": [
    "set(mp_hist_info_df['col_name']).difference(set(mp_info_df['col_name']))"
   ]
  },
  {
   "cell_type": "code",
   "execution_count": null,
   "id": "b334d9e2",
   "metadata": {},
   "outputs": [],
   "source": []
  },
  {
   "cell_type": "code",
   "execution_count": null,
   "id": "38969bde",
   "metadata": {},
   "outputs": [],
   "source": []
  },
  {
   "cell_type": "code",
   "execution_count": null,
   "id": "5ea465fb",
   "metadata": {},
   "outputs": [],
   "source": []
  },
  {
   "cell_type": "code",
   "execution_count": null,
   "id": "1849d7c6",
   "metadata": {},
   "outputs": [],
   "source": [
    "schema_name = 'usage_instantaneous'\n",
    "table_name = 'inst_msr_consume'\n",
    "\n",
    "mp_info_df = Utilities.get_aws_table_info(conn_aws, schema_name, table_name, run_clean=True)\n",
    "mp_info_df"
   ]
  },
  {
   "cell_type": "code",
   "execution_count": null,
   "id": "ada22c7d",
   "metadata": {},
   "outputs": [],
   "source": []
  },
  {
   "cell_type": "code",
   "execution_count": null,
   "id": "d1ac0536",
   "metadata": {},
   "outputs": [],
   "source": [
    "# fields for LaTeX document\n",
    "col_names = sorted(mp_info_df['col_name'].unique().tolist())\n",
    "n_rows = int(np.ceil(len(col_names)/3))\n",
    "col_1_start = 0\n",
    "col_2_start = n_rows\n",
    "if len(col_names)%3==0:\n",
    "    col_3_start = col_2_start+n_rows\n",
    "else:\n",
    "    if (len(col_names)-n_rows)%2==0:\n",
    "        col_3_start = col_2_start+n_rows-1\n",
    "    else:\n",
    "        col_3_start = col_2_start+n_rows\n",
    "#-----\n",
    "col_1_entries = col_names[col_1_start:col_2_start]\n",
    "col_2_entries = col_names[col_2_start:col_3_start]\n",
    "col_3_entries = col_names[col_3_start:]\n",
    "while len(col_2_entries)<len(col_1_entries):\n",
    "    col_2_entries.append('')\n",
    "while len(col_3_entries)<len(col_1_entries):\n",
    "    col_3_entries.append('')\n",
    "assert(len(col_1_entries)==len(col_2_entries)==len(col_3_entries))\n",
    "#-----\n",
    "for i_row in range(len(col_1_entries)):\n",
    "    print(f\"  {col_1_entries[i_row]} & {col_2_entries[i_row]} & {col_3_entries[i_row]} \\\\\\\\ \\hline \")"
   ]
  },
  {
   "cell_type": "code",
   "execution_count": null,
   "id": "c16b378d",
   "metadata": {},
   "outputs": [],
   "source": []
  },
  {
   "cell_type": "code",
   "execution_count": null,
   "id": "2e6040d2",
   "metadata": {},
   "outputs": [],
   "source": [
    "schema_name = 'instantaneous'\n",
    "table_name = 'inst_msr_consume'\n",
    "\n",
    "mp_info_df = Utilities.get_aws_table_info(conn_aws, schema_name, table_name, run_clean=True)\n",
    "mp_info_df"
   ]
  },
  {
   "cell_type": "code",
   "execution_count": null,
   "id": "b2bbda51",
   "metadata": {},
   "outputs": [],
   "source": [
    "# fields for LaTeX document\n",
    "col_names = sorted(mp_info_df['col_name'].unique().tolist())\n",
    "n_rows = int(np.ceil(len(col_names)/3))\n",
    "col_1_start = 0\n",
    "col_2_start = n_rows\n",
    "if len(col_names)%3==0:\n",
    "    col_3_start = col_2_start+n_rows\n",
    "else:\n",
    "    if (len(col_names)-n_rows)%2==0:\n",
    "        col_3_start = col_2_start+n_rows-1\n",
    "    else:\n",
    "        col_3_start = col_2_start+n_rows\n",
    "#-----\n",
    "col_1_entries = col_names[col_1_start:col_2_start]\n",
    "col_2_entries = col_names[col_2_start:col_3_start]\n",
    "col_3_entries = col_names[col_3_start:]\n",
    "while len(col_2_entries)<len(col_1_entries):\n",
    "    col_2_entries.append('')\n",
    "while len(col_3_entries)<len(col_1_entries):\n",
    "    col_3_entries.append('')\n",
    "assert(len(col_1_entries)==len(col_2_entries)==len(col_3_entries))\n",
    "#-----\n",
    "for i_row in range(len(col_1_entries)):\n",
    "    print(f\"  {col_1_entries[i_row]} & {col_2_entries[i_row]} & {col_3_entries[i_row]} \\\\\\\\ \\hline \")"
   ]
  },
  {
   "cell_type": "code",
   "execution_count": null,
   "id": "5106582e",
   "metadata": {},
   "outputs": [],
   "source": [
    "schema_name = 'usage_nonvee'\n",
    "table_name = 'reading_ivl_nonvee'\n",
    "\n",
    "mp_info_df = Utilities.get_aws_table_info(conn_aws, schema_name, table_name, run_clean=True)\n",
    "mp_info_df"
   ]
  },
  {
   "cell_type": "code",
   "execution_count": null,
   "id": "d592e395",
   "metadata": {},
   "outputs": [],
   "source": []
  },
  {
   "cell_type": "code",
   "execution_count": null,
   "id": "9f14f89b",
   "metadata": {},
   "outputs": [],
   "source": [
    "# fields for LaTeX document\n",
    "col_names = sorted(mp_info_df['col_name'].unique().tolist())\n",
    "n_rows = int(np.ceil(len(col_names)/3))\n",
    "col_1_start = 0\n",
    "col_2_start = n_rows\n",
    "if len(col_names)%3==0:\n",
    "    col_3_start = col_2_start+n_rows\n",
    "else:\n",
    "    if (len(col_names)-n_rows)%2==0:\n",
    "        col_3_start = col_2_start+n_rows-1\n",
    "    else:\n",
    "        col_3_start = col_2_start+n_rows\n",
    "#-----\n",
    "col_1_entries = col_names[col_1_start:col_2_start]\n",
    "col_2_entries = col_names[col_2_start:col_3_start]\n",
    "col_3_entries = col_names[col_3_start:]\n",
    "while len(col_2_entries)<len(col_1_entries):\n",
    "    col_2_entries.append('')\n",
    "while len(col_3_entries)<len(col_1_entries):\n",
    "    col_3_entries.append('')\n",
    "assert(len(col_1_entries)==len(col_2_entries)==len(col_3_entries))\n",
    "#-----\n",
    "for i_row in range(len(col_1_entries)):\n",
    "    print(f\"  {col_1_entries[i_row]} & {col_2_entries[i_row]} & {col_3_entries[i_row]} \\\\\\\\ \\hline \")"
   ]
  },
  {
   "cell_type": "code",
   "execution_count": null,
   "id": "2d37cb97",
   "metadata": {},
   "outputs": [],
   "source": []
  },
  {
   "cell_type": "code",
   "execution_count": null,
   "id": "199b52c6",
   "metadata": {},
   "outputs": [],
   "source": []
  },
  {
   "cell_type": "code",
   "execution_count": null,
   "id": "604bf78d",
   "metadata": {},
   "outputs": [],
   "source": [
    "schema_name = 'meter_events'\n",
    "table_name = 'end_device_event'\n",
    "\n",
    "mp_info_df = Utilities.get_aws_table_info(conn_aws, schema_name, table_name, run_clean=True)\n",
    "mp_info_df"
   ]
  },
  {
   "cell_type": "code",
   "execution_count": null,
   "id": "9e4649e3",
   "metadata": {},
   "outputs": [],
   "source": [
    "# natsort.natsorted(mp_info_df['col_name'].unique().tolist())"
   ]
  },
  {
   "cell_type": "code",
   "execution_count": null,
   "id": "8e544304",
   "metadata": {},
   "outputs": [],
   "source": []
  },
  {
   "cell_type": "code",
   "execution_count": null,
   "id": "b1ec7bf0",
   "metadata": {},
   "outputs": [],
   "source": []
  },
  {
   "cell_type": "markdown",
   "id": "62a52b9d",
   "metadata": {},
   "source": [
    "# --------------------------------------------------------------------------\n",
    "# --------------------------------------------------------------------------"
   ]
  },
  {
   "cell_type": "code",
   "execution_count": null,
   "id": "f14fb2cd",
   "metadata": {},
   "outputs": [],
   "source": []
  },
  {
   "cell_type": "code",
   "execution_count": null,
   "id": "4c4961e9",
   "metadata": {},
   "outputs": [],
   "source": [
    "def get_sql_outage(date_0, date_1, mjr_mnr_cause):\n",
    "    if mjr_mnr_cause is None:\n",
    "        add_where_statement_1 = ''\n",
    "        add_where_statement_2 = ''\n",
    "    else:\n",
    "        add_where_statement_1 = f\"AND  DOV.MJR_CAUSE_CD = '{mjr_mnr_cause[0]}'\"\n",
    "        add_where_statement_2 = f\"AND  DOV.MNR_CAUSE_CD = '{mjr_mnr_cause[1]}'\"\n",
    "    \n",
    "    sql_outage = (\n",
    "    \"\"\"\n",
    "    SELECT   DOV.CI_NB, DOV.CMI_NB, DOV.OUTG_REC_NB, \n",
    "             DOV.DT_ON_TS, DOV.DT_OFF_TS, \n",
    "             DOV.DT_ON_TS - DOV.STEP_DRTN_NB/(60*24) AS DT_OFF_TS_FULL, DOV.STEP_DRTN_NB,\n",
    "             EXTRACT(YEAR FROM DOV.DT_OFF_TS)  AS START_YEAR,     \n",
    "             DOV.MJR_CAUSE_CD, DOV.MNR_CAUSE_CD, DOV4.EQUIP_TYP_NM, DOV4.SHORT_NM, \n",
    "             DOV.LOCATION_ID, DOV.GIS_CRCT_NB, DOV.STATE_ABBR_TX, \n",
    "             PRIM.PREMISE_NB\n",
    "    FROM     DOVSADM.DOVS_OUTAGE_FACT DOV\n",
    "             LEFT OUTER JOIN DOVSADM.DOVS_MASTER_GEO_DIM DOV1 ON DOV.OPERATING_UNIT_ID=DOV1.OPRTG_UNT_ID AND DOV.STATE_ABBR_TX=DOV1.STATE_ID AND DOV.OPCO_NBR=DOV1.OPCO_ID AND DOV.DISTRICT_NB=DOV1.DISTRICT_ID AND DOV.SRVC_CNTR_NB=DOV1.AREA_ID AND DOV.GIS_CRCT_NB=DOV1.GIS_CIRCUIT_ID\n",
    "             LEFT OUTER JOIN DOVSADM.DOVS_OUTAGE_ATTRIBUTES_DIM DOV2 ON DOV.OUTG_REC_NB=DOV2.OUTG_REC_NB\n",
    "             LEFT OUTER JOIN DOVSADM.DOVS_EQUIPMENT_TYPES_DIM DOV4 ON DOV.EQUIPMENT_CD=DOV4.EQUIPMENT_CD\n",
    "             LEFT OUTER JOIN DOVSADM.DOVS_OUTAGE_CAUSE_TYPES_DIM DOV5 ON DOV.MJR_CAUSE_CD=DOV5.MJR_CAUSE_CD AND DOV.MNR_CAUSE_CD=DOV5.MNR_CAUSE_CD\n",
    "             LEFT OUTER JOIN DOVSADM.DOVS_PREMISE_DIM PRIM ON DOV.OUTG_REC_NB=PRIM.OUTG_REC_NB \n",
    "    WHERE    DOV.DT_OFF_TS BETWEEN {} AND '{}' {}{}\n",
    "    AND  DOV2.INTRPTN_TYP_CD = 'S'\n",
    "    AND  DOV2.CURR_REC_STAT_CD = 'A' \n",
    "    AND  DOV.MJR_CAUSE_CD <> 'NI' \n",
    "    AND  DOV.DEVICE_CD <> 85 \n",
    "    AND  DOV.STATE_ABBR_TX = 'OH'\n",
    "    \"\"\"\n",
    "    ).format(f\"'{date_0}'\", date_1, add_where_statement_1, add_where_statement_2)\n",
    "\n",
    "    return sql_outage"
   ]
  },
  {
   "cell_type": "code",
   "execution_count": null,
   "id": "edb0b167",
   "metadata": {},
   "outputs": [],
   "source": [
    "date_0_outg = '2018-01-01'\n",
    "date_1_outg = '2021-12-31'\n",
    "\n",
    "sql_outage_all = get_sql_outage(date_0_outg, date_1_outg, None)\n",
    "sql_outage_dl_ol = get_sql_outage(date_0_outg, date_1_outg, ('DL', 'OL'))"
   ]
  },
  {
   "cell_type": "code",
   "execution_count": null,
   "id": "62878db9",
   "metadata": {},
   "outputs": [],
   "source": []
  },
  {
   "cell_type": "markdown",
   "id": "7b425c5b",
   "metadata": {},
   "source": [
    "# Try to match past queries (1)"
   ]
  },
  {
   "cell_type": "code",
   "execution_count": null,
   "id": "709b57bc",
   "metadata": {},
   "outputs": [],
   "source": [
    "my_meter_premise_info = pd.read_csv(r'C:\\Users\\s346557\\Documents\\my_meter_premise_info.csv')\n",
    "my_meter_premise_info = Utilities_df.remove_prepend_from_columns_in_df(my_meter_premise_info)\n",
    "my_meter_premise_info_dict = my_meter_premise_info.squeeze().to_dict()"
   ]
  },
  {
   "cell_type": "code",
   "execution_count": null,
   "id": "de9a3ac9",
   "metadata": {},
   "outputs": [],
   "source": [
    "sql_1_old = (\n",
    "\"\"\"\n",
    "SELECT   DOV.CI_NB, DOV.CMI_NB, DOV.OUTG_REC_NB, DOV.OUTAGE_NB, DOV.DT_ON_TS, DOV.DT_OFF_TS, \n",
    "         DOV.DT_ON_TS - DOV.STEP_DRTN_NB/(60*24) AS DT_OFF_TS_FULL, DOV.STEP_DRTN_NB,\n",
    "         EXTRACT(YEAR FROM DOV.DT_OFF_TS) AS START_YEAR, \n",
    "         DOV.OPERATING_UNIT_ID, DOV.STATE_ABBR_TX, \n",
    "         DOV.MJR_CAUSE_CD, DOV.MNR_CAUSE_CD, \n",
    "         DOV.LOCATION_ID, DOV.GIS_CRCT_NB, \n",
    "         DOV1.OPRTG_UNT_NM, \n",
    "         DOV5.MJR_CAUSE_NM, DOV5.MNR_CAUSE_NM, \n",
    "         PRIM.OFF_TM, PRIM.REST_TM, PRIM.PREMISE_NB\n",
    "FROM     DOVSADM.DOVS_OUTAGE_FACT DOV\n",
    "         LEFT OUTER JOIN DOVSADM.DOVS_MASTER_GEO_DIM DOV1 ON DOV.OPERATING_UNIT_ID=DOV1.OPRTG_UNT_ID AND DOV.STATE_ABBR_TX=DOV1.STATE_ID AND DOV.OPCO_NBR=DOV1.OPCO_ID AND DOV.DISTRICT_NB=DOV1.DISTRICT_ID AND DOV.SRVC_CNTR_NB=DOV1.AREA_ID AND DOV.GIS_CRCT_NB=DOV1.GIS_CIRCUIT_ID\n",
    "         LEFT OUTER JOIN DOVSADM.DOVS_OUTAGE_ATTRIBUTES_DIM DOV2 ON DOV.OUTG_REC_NB=DOV2.OUTG_REC_NB\n",
    "         LEFT OUTER JOIN DOVSADM.DOVS_OUTAGE_CAUSE_TYPES_DIM DOV5 ON DOV.MJR_CAUSE_CD=DOV5.MJR_CAUSE_CD AND DOV.MNR_CAUSE_CD=DOV5.MNR_CAUSE_CD\n",
    "         LEFT OUTER JOIN DOVSADM.DOVS_PREMISE_DIM PRIM ON DOV.OUTG_REC_NB=PRIM.OUTG_REC_NB \n",
    "WHERE    PRIM.PREMISE_NB = '{}'\n",
    "AND  DOV2.INTRPTN_TYP_CD = 'S'\n",
    "AND  DOV2.CURR_REC_STAT_CD = 'A' \n",
    "AND  DOV.MJR_CAUSE_CD <> 'NI' \n",
    "AND  DOV.DEVICE_CD <> 85 \n",
    "AND  DOV.STATE_ABBR_TX = 'OH'\n",
    "\"\"\"\n",
    ").format(my_meter_premise_info_dict['prem_nb'])\n",
    "\n",
    "# print(sql_1_old)"
   ]
  },
  {
   "cell_type": "code",
   "execution_count": null,
   "id": "35a88acd",
   "metadata": {},
   "outputs": [],
   "source": [
    "# ****************************************************************\n",
    "# SELECT STATEMENT\n",
    "select_stmnt = SQLSelect(field_descs=['CI_NB', 'CMI_NB', 'OUTG_REC_NB', 'OUTAGE_NB', 'DT_ON_TS', 'DT_OFF_TS', \n",
    "                                      dict(field_desc='DOV.DT_ON_TS - DOV.STEP_DRTN_NB/(60*24)', alias='DT_OFF_TS_FULL', table_alias_prefix=None), \n",
    "                                      'STEP_DRTN_NB', \n",
    "                                      dict(field_desc='EXTRACT(YEAR FROM DOV.DT_OFF_TS)', alias='START_YEAR', table_alias_prefix=None), \n",
    "                                      'OPERATING_UNIT_ID', 'STATE_ABBR_TX', 'MJR_CAUSE_CD', 'MNR_CAUSE_CD', 'LOCATION_ID', 'GIS_CRCT_NB'], \n",
    "                         global_table_alias_prefix='DOV', idxs=None, run_check=True)\n",
    "\n",
    "select_stmnt.add_select_elements(field_descs=['OPRTG_UNT_NM'], \n",
    "                                 global_table_alias_prefix='DOV1', idxs=None, run_check=True)\n",
    "select_stmnt.add_select_elements(field_descs=['MJR_CAUSE_NM', 'MNR_CAUSE_NM'], \n",
    "                                 global_table_alias_prefix='DOV5', idxs=None, run_check=True)\n",
    "select_stmnt.add_select_elements(field_descs=['OFF_TM', 'REST_TM', 'PREMISE_NB'],\n",
    "                                 global_table_alias_prefix='PRIM', idxs=None, run_check=True)\n",
    "select_stmnt = select_stmnt.get_statement_string(include_alias=True, include_table_alias_prefix=True)\n",
    "print(select_stmnt)"
   ]
  },
  {
   "cell_type": "code",
   "execution_count": null,
   "id": "44892020",
   "metadata": {},
   "outputs": [],
   "source": [
    "# ****************************************************************\n",
    "# FROM AND JOIN STATEMENTS\n",
    "sql_from = SQLFrom('DOVSADM', 'DOVS_OUTAGE_FACT', 'DOV')\n",
    "sql_from = DOVSOutages_SQL.add_std_join_DOVS_OUTAGE_FACT_w_DOVS_MASTER_GEO_DIM(add_to_me=sql_from, alias_DOVS_OUTAGE_FACT='DOV', alias_DOVS_MASTER_GEO_DIM='DOV1')\n",
    "sql_from = DOVSOutages_SQL.add_std_join_DOVS_OUTAGE_FACT_w_DOVS_OUTAGE_ATTRIBUTES_DIM(add_to_me=sql_from, alias_DOVS_OUTAGE_FACT='DOV', alias_DOVS_OUTAGE_ATTRIBUTES_DIM='DOV2')\n",
    "sql_from = DOVSOutages_SQL.add_std_join_DOVS_OUTAGE_FACT_w_DOVS_OUTAGE_CAUSE_TYPES_DIM(add_to_me=sql_from, alias_DOVS_OUTAGE_FACT='DOV', alias_DOVS_OUTAGE_CAUSE_TYPES_DIM='DOV5')\n",
    "sql_from = DOVSOutages_SQL.add_std_join_DOVS_OUTAGE_FACT_w_DOVS_PREMISE_DIM(add_to_me=sql_from, alias_DOVS_OUTAGE_FACT='DOV', alias_DOVS_PREMISE_DIM='PRIM')\n",
    "print(sql_from.get_statement_string())"
   ]
  },
  {
   "cell_type": "code",
   "execution_count": null,
   "id": "1e45d536",
   "metadata": {},
   "outputs": [],
   "source": [
    "# ****************************************************************\n",
    "# WHERE STATEMENT\n",
    "sql_where = SQLWhere([dict(field_desc='PREMISE_NB', table_alias_prefix='PRIM', comparison_operator='=', value='{}', needs_quotes=True), \n",
    "                      dict(field_desc='INTRPTN_TYP_CD', table_alias_prefix='DOV2', comparison_operator='=', value='S', needs_quotes=True), \n",
    "                      dict(field_desc='CURR_REC_STAT_CD', table_alias_prefix='DOV2', comparison_operator='=', value='A', needs_quotes=True), \n",
    "                      dict(field_desc='MJR_CAUSE_CD', table_alias_prefix='DOV', comparison_operator='<>', value='NI', needs_quotes=True), \n",
    "                      dict(field_desc='DEVICE_CD', table_alias_prefix='DOV', comparison_operator='<>', value=85, needs_quotes=False), \n",
    "                      dict(field_desc='STATE_ABBR_TX', table_alias_prefix='DOV', comparison_operator='=', value='OH', needs_quotes=True)], \n",
    "                     idxs=None, run_check=True)\n",
    "where_stmnt = sql_where.get_statement_string()\n",
    "print(where_stmnt)"
   ]
  },
  {
   "cell_type": "code",
   "execution_count": null,
   "id": "1e076928",
   "metadata": {},
   "outputs": [],
   "source": []
  },
  {
   "cell_type": "code",
   "execution_count": null,
   "id": "d5e82a29",
   "metadata": {},
   "outputs": [],
   "source": [
    "# ****************************************************************\n",
    "# GROUP BY STATEMENT\n",
    "sql_groupby = SQLGroupBy()\n",
    "groupby_stmnt = sql_groupby.get_statement_string()\n",
    "print(groupby_stmnt)"
   ]
  },
  {
   "cell_type": "code",
   "execution_count": null,
   "id": "32b5e1ff",
   "metadata": {},
   "outputs": [],
   "source": [
    "# ****************************************************************\n",
    "# ORDER BY STATEMENT\n",
    "orderby_statement_coll = SQLOrderBy()\n",
    "orderby_stmnt = orderby_statement_coll.get_statement_string()\n",
    "print(orderby_stmnt)"
   ]
  },
  {
   "cell_type": "code",
   "execution_count": null,
   "id": "20dab35e",
   "metadata": {},
   "outputs": [],
   "source": [
    "# ****************************************************************\n",
    "# FINALIZE\n",
    "from_and_join_stmnts = sql_from.get_statement_string()\n",
    "sql_1_new = SQLQuery.combine_sql_components(select_stmnt, from_and_join_stmnts, where_stmnt, \n",
    "                                            groupby_stmnt, orderby_stmnt)\n",
    "sql_1_new = sql_1_new.format(my_meter_premise_info_dict['prem_nb'])\n",
    "print(sql_1_new)"
   ]
  },
  {
   "cell_type": "code",
   "execution_count": null,
   "id": "f7e53955",
   "metadata": {},
   "outputs": [],
   "source": []
  },
  {
   "cell_type": "code",
   "execution_count": null,
   "id": "d120f114",
   "metadata": {},
   "outputs": [],
   "source": [
    "df_1_old = pd.read_sql(sql_1_old, conn_outages)\n",
    "df_1_new = pd.read_sql(sql_1_new, conn_outages)"
   ]
  },
  {
   "cell_type": "code",
   "execution_count": null,
   "id": "c5063141",
   "metadata": {},
   "outputs": [],
   "source": [
    "print(f'df_1_old.shape = {df_1_old.shape}')\n",
    "print(f'df_1_new.shape = {df_1_new.shape}')\n",
    "print(f'df_1_new==df_1_old?: {df_1_new.equals(df_1_old)}')"
   ]
  },
  {
   "cell_type": "code",
   "execution_count": null,
   "id": "23ac0967",
   "metadata": {},
   "outputs": [],
   "source": [
    "df_1_new = df_1_new.sort_values(by=['OUTG_REC_NB'], ignore_index=True)\n",
    "df_1_old = df_1_old.sort_values(by=['OUTG_REC_NB'], ignore_index=True)\n",
    "print(f'df_1_new==df_1_old?: {df_1_new.equals(df_1_old)}')"
   ]
  },
  {
   "cell_type": "code",
   "execution_count": null,
   "id": "273ab132",
   "metadata": {},
   "outputs": [],
   "source": []
  },
  {
   "cell_type": "markdown",
   "id": "0d8dfe7a",
   "metadata": {},
   "source": [
    "# Try to match past queries (2)"
   ]
  },
  {
   "cell_type": "code",
   "execution_count": null,
   "id": "7c3d6455",
   "metadata": {},
   "outputs": [],
   "source": [
    "sql_2_old = (\n",
    "\"\"\"\n",
    "SELECT   DOV.MJR_CAUSE_CD, DOV.MNR_CAUSE_CD, SUM(DOV.CI_NB) AS SUM_CI_NB, SUM(DOV.CMI_NB) AS SUM_CMI_NB, DOV5.MJR_CAUSE_NM, DOV5.MNR_CAUSE_NM\n",
    "        \n",
    "FROM     DOVSADM.DOVS_OUTAGE_FACT DOV\n",
    "         LEFT OUTER JOIN DOVSADM.DOVS_MASTER_GEO_DIM DOV1 ON DOV.OPERATING_UNIT_ID=DOV1.OPRTG_UNT_ID AND DOV.STATE_ABBR_TX = DOV1.STATE_ID   AND DOV.OPCO_NBR=DOV1.OPCO_ID AND DOV.DISTRICT_NB=DOV1.DISTRICT_ID AND DOV.SRVC_CNTR_NB=DOV1.AREA_ID AND DOV.GIS_CRCT_NB = DOV1.GIS_CIRCUIT_ID\n",
    "         LEFT OUTER JOIN DOVSADM.DOVS_OUTAGE_ATTRIBUTES_DIM DOV2 ON DOV.OUTG_REC_NB=DOV2.OUTG_REC_NB \n",
    "         LEFT OUTER JOIN DOVSADM.DOVS_OUTAGE_CAUSE_TYPES_DIM DOV5 ON DOV.MJR_CAUSE_CD=DOV5.MJR_CAUSE_CD AND DOV.MNR_CAUSE_CD=DOV5.MNR_CAUSE_CD \n",
    "WHERE    DOV2.INTRPTN_TYP_CD = 'S' \n",
    "AND      DOV2.CURR_REC_STAT_CD = 'A'\n",
    "AND      DOV.MJR_CAUSE_CD <> 'NI'\n",
    "AND      DOV.DEVICE_CD <> 85\n",
    "AND      DOV.JMED_FL = 'N'\n",
    "\n",
    "GROUP BY DOV.MJR_CAUSE_CD, DOV.MNR_CAUSE_CD, DOV5.MJR_CAUSE_NM, DOV5.MNR_CAUSE_NM\n",
    "ORDER BY SUM(DOV.CMI_NB) DESC\n",
    "\"\"\"\n",
    ")\n",
    "# print(sql_2_old)"
   ]
  },
  {
   "cell_type": "code",
   "execution_count": null,
   "id": "3a5055fc",
   "metadata": {},
   "outputs": [],
   "source": [
    "# ****************************************************************\n",
    "# SELECT STATEMENT\n",
    "sql_select = SQLSelect(field_descs=['MJR_CAUSE_CD', 'MNR_CAUSE_CD', \n",
    "                                    dict(field_desc='SUM(DOV.CI_NB)', alias='SUM_CI_NB', table_alias_prefix=None), \n",
    "                                    dict(field_desc='SUM(DOV.CMI_NB)', alias='SUM_CMI_NB', table_alias_prefix=None)], \n",
    "                       global_table_alias_prefix='DOV', idxs=None, run_check=True)\n",
    "\n",
    "sql_select.add_select_elements(field_descs=['MJR_CAUSE_NM', 'MNR_CAUSE_NM'], \n",
    "                               global_table_alias_prefix='DOV5', idxs=None, run_check=True)\n",
    "select_stmnt = sql_select.get_statement_string(include_alias=True, include_table_alias_prefix=True)\n",
    "print(select_stmnt)"
   ]
  },
  {
   "cell_type": "code",
   "execution_count": null,
   "id": "c082694c",
   "metadata": {},
   "outputs": [],
   "source": [
    "# ****************************************************************\n",
    "# FROM AND JOIN STATEMENTS\n",
    "sql_from = SQLFrom('DOVSADM', 'DOVS_OUTAGE_FACT', 'DOV')\n",
    "sql_from = DOVSOutages_SQL.add_std_join_DOVS_OUTAGE_FACT_w_DOVS_MASTER_GEO_DIM(add_to_me=sql_from, alias_DOVS_OUTAGE_FACT='DOV', alias_DOVS_MASTER_GEO_DIM='DOV1')\n",
    "sql_from = DOVSOutages_SQL.add_std_join_DOVS_OUTAGE_FACT_w_DOVS_OUTAGE_ATTRIBUTES_DIM(add_to_me=sql_from, alias_DOVS_OUTAGE_FACT='DOV', alias_DOVS_OUTAGE_ATTRIBUTES_DIM='DOV2')\n",
    "sql_from = DOVSOutages_SQL.add_std_join_DOVS_OUTAGE_FACT_w_DOVS_OUTAGE_CAUSE_TYPES_DIM(add_to_me=sql_from, alias_DOVS_OUTAGE_FACT='DOV', alias_DOVS_OUTAGE_CAUSE_TYPES_DIM='DOV5')\n",
    "print(sql_from.get_statement_string())"
   ]
  },
  {
   "cell_type": "code",
   "execution_count": null,
   "id": "898c3aa5",
   "metadata": {},
   "outputs": [],
   "source": [
    "# ****************************************************************\n",
    "# WHERE STATEMENT\n",
    "sql_where = SQLWhere([dict(field_desc='INTRPTN_TYP_CD', table_alias_prefix='DOV2', comparison_operator='=', value='S', needs_quotes=True), \n",
    "                      dict(field_desc='CURR_REC_STAT_CD', table_alias_prefix='DOV2', comparison_operator='=', value='A', needs_quotes=True), \n",
    "                      dict(field_desc='MJR_CAUSE_CD', table_alias_prefix='DOV', comparison_operator='<>', value='NI', needs_quotes=True), \n",
    "                      dict(field_desc='DEVICE_CD', table_alias_prefix='DOV', comparison_operator='<>', value=85, needs_quotes=False), \n",
    "                      dict(field_desc='JMED_FL', table_alias_prefix='DOV', comparison_operator='=', value='N', needs_quotes=True)], \n",
    "                     idxs=None, run_check=True)\n",
    "where_stmnt = sql_where.get_statement_string()\n",
    "print(where_stmnt)"
   ]
  },
  {
   "cell_type": "code",
   "execution_count": null,
   "id": "0d4cecb5",
   "metadata": {},
   "outputs": [],
   "source": []
  },
  {
   "cell_type": "code",
   "execution_count": null,
   "id": "7ea104bd",
   "metadata": {},
   "outputs": [],
   "source": [
    "# ****************************************************************\n",
    "# GROUP BY STATEMENT\n",
    "sql_groupby = SQLGroupBy(field_descs=['MJR_CAUSE_CD', 'MNR_CAUSE_CD'], \n",
    "                         global_table_alias_prefix='DOV', idxs=None, run_check=True)\n",
    "sql_groupby.add_groupby_statements(field_descs=['MJR_CAUSE_NM', 'MNR_CAUSE_NM'], \n",
    "                                              global_table_alias_prefix='DOV5', idxs=None, run_check=True)\n",
    "groupby_stmnt = sql_groupby.get_statement_string()\n",
    "print(groupby_stmnt)"
   ]
  },
  {
   "cell_type": "code",
   "execution_count": null,
   "id": "c818cada",
   "metadata": {},
   "outputs": [],
   "source": []
  },
  {
   "cell_type": "code",
   "execution_count": null,
   "id": "83ca62db",
   "metadata": {},
   "outputs": [],
   "source": [
    "# ****************************************************************\n",
    "# ORDER BY STATEMENT\n",
    "sql_orderby = SQLOrderBy(['SUM(DOV.CMI_NB)'], global_table_alias_prefix=None, idxs=None, run_check=True)\n",
    "orderby_stmnt = sql_orderby.get_statement_string()\n",
    "print(orderby_stmnt)"
   ]
  },
  {
   "cell_type": "code",
   "execution_count": null,
   "id": "14852448",
   "metadata": {},
   "outputs": [],
   "source": []
  },
  {
   "cell_type": "code",
   "execution_count": null,
   "id": "52ee2640",
   "metadata": {},
   "outputs": [],
   "source": [
    "# ****************************************************************\n",
    "# FINALIZE\n",
    "sql_query = SQLQuery(sql_select=sql_select, \n",
    "                     sql_from=sql_from, \n",
    "                     sql_where=sql_where, \n",
    "                     sql_groupby=sql_groupby, \n",
    "                     sql_orderby=sql_orderby)\n",
    "sql_2_new = sql_query.get_sql_statement()\n",
    "#print(sql_2_new)"
   ]
  },
  {
   "cell_type": "code",
   "execution_count": null,
   "id": "9027e01e",
   "metadata": {},
   "outputs": [],
   "source": [
    "df_2_old = pd.read_sql(sql_2_old, conn_outages)\n",
    "df_2_new = pd.read_sql(sql_2_new, conn_outages)\n",
    "\n",
    "print(f'df_2_old.shape = {df_2_old.shape}')\n",
    "print(f'df_2_new.shape = {df_2_new.shape}')\n",
    "print(f'df_2_new==df_2_old?: {df_2_new.equals(df_2_old)}')"
   ]
  },
  {
   "cell_type": "code",
   "execution_count": null,
   "id": "523c3750",
   "metadata": {},
   "outputs": [],
   "source": [
    "df_2_new = df_2_new.sort_values(by=['MJR_CAUSE_CD', 'MNR_CAUSE_CD'], ignore_index=True)\n",
    "df_2_old = df_2_old.sort_values(by=['MJR_CAUSE_CD', 'MNR_CAUSE_CD'], ignore_index=True)\n",
    "print(f'df_2_new==df_2_old?: {df_2_new.equals(df_2_old)}')"
   ]
  },
  {
   "cell_type": "code",
   "execution_count": null,
   "id": "0f1d9568",
   "metadata": {},
   "outputs": [],
   "source": []
  },
  {
   "cell_type": "code",
   "execution_count": null,
   "id": "d1941e55",
   "metadata": {},
   "outputs": [],
   "source": []
  },
  {
   "cell_type": "code",
   "execution_count": null,
   "id": "aa9f694d",
   "metadata": {},
   "outputs": [],
   "source": []
  },
  {
   "cell_type": "code",
   "execution_count": null,
   "id": "c75d13df",
   "metadata": {},
   "outputs": [],
   "source": []
  },
  {
   "cell_type": "code",
   "execution_count": null,
   "id": "f836fb2c",
   "metadata": {},
   "outputs": [],
   "source": []
  },
  {
   "cell_type": "markdown",
   "id": "338cc831",
   "metadata": {},
   "source": [
    "# KEEP SOMEWHERE FOR EXAMPLE"
   ]
  },
  {
   "cell_type": "code",
   "execution_count": null,
   "id": "b4615795",
   "metadata": {},
   "outputs": [],
   "source": [
    "sql_where_1 = SQLWhere([dict(field_desc='aep_opco', comparison_operator='=', value='oh', needs_quotes=True), \n",
    "                      dict(field_desc='aep_usage_dt', comparison_operator='BETWEEN', value=['{}','{}'], needs_quotes=True), \n",
    "                      dict(field_desc='aep_derived_uom', comparison_operator='=', value='VOLT', needs_quotes=True), \n",
    "                      dict(field_desc='aep_srvc_qlty_idntfr', comparison_operator='=', value='AVG', needs_quotes=True), \n",
    "                      dict(field_desc='aep_derived_uom', comparison_operator='=', value='KWH', needs_quotes=True), \n",
    "                      dict(field_desc='aep_srvc_qlty_idntfr', comparison_operator='=', value='TOTAL', needs_quotes=True)], \n",
    "                     idxs=None, run_check=True)\n",
    "\n",
    "sql_where_2 = SQLWhere([dict(field_desc='aep_opco', comparison_operator='=', value='oh', needs_quotes=True), \n",
    "                      dict(field_desc='aep_usage_dt', comparison_operator='BETWEEN', value=['{}','{}'], needs_quotes=True), \n",
    "                      dict(field_desc='aep_derived_uom', comparison_operator='=', value='VOLT', needs_quotes=True), \n",
    "                      dict(field_desc='aep_srvc_qlty_idntfr', comparison_operator='=', value='AVG', needs_quotes=True), \n",
    "                      dict(field_desc='aep_derived_uom', comparison_operator='=', value='KWH', needs_quotes=True), \n",
    "                      dict(field_desc='aep_srvc_qlty_idntfr', comparison_operator='=', value='TOTAL', needs_quotes=True)], \n",
    "                     idxs=None, run_check=True)"
   ]
  },
  {
   "cell_type": "code",
   "execution_count": null,
   "id": "29344f30",
   "metadata": {},
   "outputs": [],
   "source": [
    "sql_where_1.combine_where_elements([2,3], 'AND', close_gaps_in_keys=False)\n",
    "sql_where_1.combine_where_elements([4,5], 'OR', close_gaps_in_keys=False)\n",
    "sql_where_1.combine_where_elements([2,4], 'OR', close_gaps_in_keys=True)\n",
    "print(sql_where_1.get_statement_string())"
   ]
  },
  {
   "cell_type": "code",
   "execution_count": null,
   "id": "e8202801",
   "metadata": {},
   "outputs": [],
   "source": [
    "sql_where_2.combine_where_elements([2,3], 'AND', close_gaps_in_keys=True)\n",
    "sql_where_2.combine_where_elements([3,4], 'OR', close_gaps_in_keys=False)\n",
    "sql_where_2.combine_where_elements([2,3], 'OR', close_gaps_in_keys=True)\n",
    "print(sql_where_2.get_statement_string())"
   ]
  },
  {
   "cell_type": "code",
   "execution_count": null,
   "id": "096093da",
   "metadata": {},
   "outputs": [],
   "source": [
    "sql_where_1.get_statement_string()==sql_where_2.get_statement_string()"
   ]
  },
  {
   "cell_type": "markdown",
   "id": "1b5c868a",
   "metadata": {},
   "source": [
    "# END KEEP SOMEWHERE FOR EXAMPLE"
   ]
  },
  {
   "cell_type": "code",
   "execution_count": null,
   "id": "b42446ec",
   "metadata": {},
   "outputs": [],
   "source": []
  },
  {
   "cell_type": "code",
   "execution_count": null,
   "id": "83779deb",
   "metadata": {},
   "outputs": [],
   "source": []
  },
  {
   "cell_type": "markdown",
   "id": "3e936334",
   "metadata": {},
   "source": [
    "# pySpark"
   ]
  },
  {
   "cell_type": "code",
   "execution_count": null,
   "id": "5c1a6f15",
   "metadata": {},
   "outputs": [],
   "source": [
    "from pyspark.sql import SparkSession"
   ]
  },
  {
   "cell_type": "code",
   "execution_count": null,
   "id": "22978ec5",
   "metadata": {},
   "outputs": [],
   "source": [
    "from pyspark.context import SparkContext, SparkConf\n",
    "from pyspark.sql import HiveContext\n",
    "from pyspark.sql import SparkSession\n",
    "from pyspark.sql import SQLContext\n",
    "from pyspark.sql.types import IntegerType, StringType, DateType, TimestampType\n",
    "from pyspark.sql.types import StructType, StructField\n",
    "from pyspark.sql.functions import col, lit\n",
    "import pyspark.sql.functions as func\n",
    "import sys\n",
    "import subprocess\n",
    "from pyspark.sql.functions import unix_timestamp, date_format\n",
    "from datetime import datetime, timedelta\n",
    "import boto3"
   ]
  },
  {
   "cell_type": "code",
   "execution_count": null,
   "id": "52b7108e",
   "metadata": {},
   "outputs": [],
   "source": [
    "from ctypes import *\n",
    "CDLL(r\"C:\\Users\\s346557\\Anaconda3\\Lib\\site-packages\\confluent_kafka.libs\\librdkafka-5d2e2910.dll\")\n",
    "from confluent_kafka import Consumer, KafkaException, KafkaError"
   ]
  },
  {
   "cell_type": "code",
   "execution_count": null,
   "id": "870d7978",
   "metadata": {},
   "outputs": [],
   "source": []
  },
  {
   "cell_type": "code",
   "execution_count": null,
   "id": "0f849b4b",
   "metadata": {},
   "outputs": [],
   "source": [
    "spark = SparkSession.builder.appName(\"Basics\").getOrCreate()"
   ]
  },
  {
   "cell_type": "code",
   "execution_count": null,
   "id": "3e8fff6b",
   "metadata": {},
   "outputs": [],
   "source": [
    "sc = spark.sparkContext\n",
    "sqlctx = SQLContext(sc)"
   ]
  },
  {
   "cell_type": "code",
   "execution_count": null,
   "id": "5faf34dd",
   "metadata": {},
   "outputs": [],
   "source": [
    "# server = 'server'\n",
    "# db = 'db'\n",
    "# url = 'jdbc:sqlserver//' + server + ';databaseName=' + db\n",
    "# table = 'table'\n",
    "# properties = {'driver' : 'com.microsoft.sqlserver.jdbc.SQLServerDriver'}\n",
    "\n",
    "# df = sqlctx.read.format('jdbc').options(url=url, dbtable=table, driver='{SQL SERVER}').load()"
   ]
  },
  {
   "cell_type": "code",
   "execution_count": null,
   "id": "487de1bc",
   "metadata": {},
   "outputs": [],
   "source": [
    "# df = spark.read \\\n",
    "#        .format(\"jdbc\") \\\n",
    "#        .option(\"url\", \"jdbc:postgresql://localhost:5432/TESTDATABASE\") \\\n",
    "#        .option(\"dbtable\", \"tablename\") \\\n",
    "#        .option(\"user\", \"username\") \\\n",
    "#        .option(\"password\", \"password\") \\\n",
    "#        .option(\"driver\", \"org.postgresql.Driver\") \\\n",
    "#        .option(\"customSchema\", \"CUSTOMER_ID DECIMAL(38, 0), CUSTOMER_NAME STRING\") \\ #If You want to Specify Dataframe column\n",
    "#        .load()\n"
   ]
  },
  {
   "cell_type": "code",
   "execution_count": null,
   "id": "5e21c461",
   "metadata": {},
   "outputs": [],
   "source": [
    "# zsql=\"select * from usage_nonvee.reading_ivl_nonvee_hist where aep_opco='oh' and aep_usage_dt>='2021-01-01' and aep_usage_dt<='2021-01-07' and aep_derived_uom='KWH' and serialnumber = '883024464';\"\n",
    "\n",
    "# mydf=sqlctx.sql(zsql)\n"
   ]
  },
  {
   "cell_type": "code",
   "execution_count": null,
   "id": "dc1b7ecd",
   "metadata": {},
   "outputs": [],
   "source": []
  },
  {
   "cell_type": "code",
   "execution_count": null,
   "id": "431d4019",
   "metadata": {},
   "outputs": [],
   "source": []
  }
 ],
 "metadata": {
  "kernelspec": {
   "display_name": "Python 3 (ipykernel)",
   "language": "python",
   "name": "python3"
  },
  "language_info": {
   "codemirror_mode": {
    "name": "ipython",
    "version": 3
   },
   "file_extension": ".py",
   "mimetype": "text/x-python",
   "name": "python",
   "nbconvert_exporter": "python",
   "pygments_lexer": "ipython3",
   "version": "3.11.7"
  }
 },
 "nbformat": 4,
 "nbformat_minor": 5
}
