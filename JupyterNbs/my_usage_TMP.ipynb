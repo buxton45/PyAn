{
 "cells": [
  {
   "cell_type": "code",
   "execution_count": null,
   "id": "a78a057a",
   "metadata": {},
   "outputs": [],
   "source": [
    "from importlib import reload\n",
    "#reload(Utilities)\n",
    "#reload(clm)\n",
    "\n",
    "import sys, os\n",
    "import re\n",
    "\n",
    "import pandas as pd\n",
    "import numpy as np\n",
    "from pandas.api.types import is_numeric_dtype\n",
    "from scipy import stats\n",
    "import datetime\n",
    "import time\n",
    "from natsort import natsorted, ns\n",
    "from packaging import version\n",
    "\n",
    "import itertools\n",
    "from pmdarima import auto_arima\n",
    "\n",
    "import pyodbc\n",
    "#---------------------------------------------------------------------\n",
    "sys.path.insert(0, os.path.realpath('..'))\n",
    "import Utilities_config\n",
    "#-----\n",
    "import CommonLearningMethods as clm\n",
    "#---------------------------------------------------------------------\n",
    "import matplotlib as mpl\n",
    "import matplotlib.pyplot as plt\n",
    "import seaborn as sns\n",
    "from matplotlib.backends.backend_pdf import PdfPages\n",
    "import matplotlib.patches as mpatches\n",
    "from matplotlib.lines import Line2D\n",
    "import matplotlib.ticker as ticker\n",
    "from matplotlib import dates\n",
    "#---------------------------------------------------------------------\n",
    "sys.path.insert(0, Utilities_config.get_utilities_dir())\n",
    "import Utilities\n",
    "import Utilities_df\n",
    "import Plot_Box_sns\n",
    "import GrubbsTest\n",
    "import DickeyFullerTest as dft"
   ]
  },
  {
   "cell_type": "code",
   "execution_count": null,
   "id": "aca5b3c3",
   "metadata": {},
   "outputs": [],
   "source": [
    "import warnings\n",
    "warnings.filterwarnings('ignore')"
   ]
  },
  {
   "cell_type": "code",
   "execution_count": null,
   "id": "f2ec8311",
   "metadata": {},
   "outputs": [],
   "source": []
  },
  {
   "cell_type": "code",
   "execution_count": null,
   "id": "7c08e592",
   "metadata": {},
   "outputs": [],
   "source": []
  },
  {
   "cell_type": "code",
   "execution_count": null,
   "id": "d62f7965",
   "metadata": {},
   "outputs": [],
   "source": []
  },
  {
   "cell_type": "code",
   "execution_count": null,
   "id": "20390479",
   "metadata": {},
   "outputs": [],
   "source": [
    "df = pd.read_csv(os.path.join(Utilities.get_local_data_dir(), r'my_usage\\my_usage_2018_h1.csv'))"
   ]
  },
  {
   "cell_type": "code",
   "execution_count": null,
   "id": "b07b595c",
   "metadata": {},
   "outputs": [],
   "source": [
    "df.shape"
   ]
  },
  {
   "cell_type": "code",
   "execution_count": null,
   "id": "8fd967a2",
   "metadata": {},
   "outputs": [],
   "source": [
    "df['aep_derived_uom'].value_counts()"
   ]
  },
  {
   "cell_type": "code",
   "execution_count": null,
   "id": "136afc4f",
   "metadata": {},
   "outputs": [],
   "source": [
    "df['aep_srvc_qlty_idntfr'].value_counts()"
   ]
  },
  {
   "cell_type": "code",
   "execution_count": null,
   "id": "b6322cdc",
   "metadata": {},
   "outputs": [],
   "source": []
  },
  {
   "cell_type": "code",
   "execution_count": null,
   "id": "150202a5",
   "metadata": {},
   "outputs": [],
   "source": [
    "df['starttimeperiod'] = pd.to_datetime(df['starttimeperiod'])"
   ]
  },
  {
   "cell_type": "code",
   "execution_count": null,
   "id": "6d365853",
   "metadata": {},
   "outputs": [],
   "source": [
    "df.columns"
   ]
  },
  {
   "cell_type": "code",
   "execution_count": null,
   "id": "f19b36b7",
   "metadata": {},
   "outputs": [],
   "source": []
  },
  {
   "cell_type": "code",
   "execution_count": null,
   "id": "ce910ca2",
   "metadata": {},
   "outputs": [],
   "source": []
  },
  {
   "cell_type": "code",
   "execution_count": null,
   "id": "8cbe4b98",
   "metadata": {},
   "outputs": [],
   "source": [
    "df_vlt = df[df['aep_derived_uom']=='VOLT']\n",
    "df_kwh = df[df['aep_derived_uom']=='KWH']"
   ]
  },
  {
   "cell_type": "code",
   "execution_count": null,
   "id": "c5331a50",
   "metadata": {},
   "outputs": [],
   "source": []
  },
  {
   "cell_type": "code",
   "execution_count": null,
   "id": "36c3fb14",
   "metadata": {},
   "outputs": [],
   "source": [
    "df_vlt['aep_srvc_qlty_idntfr'].value_counts()"
   ]
  },
  {
   "cell_type": "code",
   "execution_count": null,
   "id": "b7b2a091",
   "metadata": {},
   "outputs": [],
   "source": [
    "df_kwh['aep_srvc_qlty_idntfr'].value_counts()"
   ]
  },
  {
   "cell_type": "code",
   "execution_count": null,
   "id": "122043b3",
   "metadata": {},
   "outputs": [],
   "source": []
  },
  {
   "cell_type": "code",
   "execution_count": null,
   "id": "e4ae5bc6",
   "metadata": {},
   "outputs": [],
   "source": [
    "print(f'Before combine_kwh_delivered_and_received_values: {df_kwh.shape}')\n",
    "df_kwh = AMINonVee.combine_kwh_delivered_and_received_values(df_kwh)\n",
    "print(f'After combine_kwh_delivered_and_received_values:  {df_kwh.shape}')"
   ]
  },
  {
   "cell_type": "code",
   "execution_count": null,
   "id": "210c64cd",
   "metadata": {},
   "outputs": [],
   "source": []
  },
  {
   "cell_type": "code",
   "execution_count": null,
   "id": "8a789a40",
   "metadata": {},
   "outputs": [],
   "source": [
    "df"
   ]
  },
  {
   "cell_type": "code",
   "execution_count": null,
   "id": "453fa6af",
   "metadata": {},
   "outputs": [],
   "source": []
  },
  {
   "cell_type": "code",
   "execution_count": null,
   "id": "88363844",
   "metadata": {},
   "outputs": [],
   "source": [
    "print_re_demo = True\n",
    "if print_re_demo:\n",
    "    import reExamples\n",
    "    reExamples.print_sub_demo()"
   ]
  },
  {
   "cell_type": "code",
   "execution_count": null,
   "id": "e5cb4b2a",
   "metadata": {},
   "outputs": [],
   "source": []
  },
  {
   "cell_type": "code",
   "execution_count": null,
   "id": "3c1560c9",
   "metadata": {},
   "outputs": [],
   "source": []
  },
  {
   "cell_type": "code",
   "execution_count": null,
   "id": "d142a33a",
   "metadata": {},
   "outputs": [],
   "source": []
  },
  {
   "cell_type": "code",
   "execution_count": null,
   "id": "b8096c2f",
   "metadata": {},
   "outputs": [],
   "source": []
  },
  {
   "cell_type": "code",
   "execution_count": null,
   "id": "87f48fb9",
   "metadata": {},
   "outputs": [],
   "source": [
    "rename_files = False\n",
    "base_dir_w_files_to_rename = os.path.join(Utilities.get_local_data_dir(), r'sample_outages_full\\outg_rec_nb_11770899')\n",
    "find_file_pattern = r'my_usage_*.csv'\n",
    "repl_pattern = r'(.*)my_usage([^.csv]*)' #This ensures only last occurrence of 'my_usage' before .csv is replaced\n",
    "repl = r'\\1outg_rec_nb_11770899\\2'\n",
    "if rename_files:\n",
    "    file_paths = Utilities.find_all_paths(base_dir=base_dir_w_files_to_rename, glob_pattern=find_file_pattern)\n",
    "    for file_path in file_paths:\n",
    "        new_path = re.sub(repl_pattern, repl, file_path)\n",
    "        print(f'Renaming: {file_path}')\n",
    "        print(f'To:       {new_path}\\n')\n",
    "        os.rename(file_path, new_path)"
   ]
  },
  {
   "cell_type": "code",
   "execution_count": null,
   "id": "19f50a38",
   "metadata": {},
   "outputs": [],
   "source": []
  },
  {
   "cell_type": "code",
   "execution_count": null,
   "id": "7c828ae8",
   "metadata": {},
   "outputs": [],
   "source": []
  },
  {
   "cell_type": "code",
   "execution_count": null,
   "id": "730bd74d",
   "metadata": {},
   "outputs": [],
   "source": []
  },
  {
   "cell_type": "code",
   "execution_count": null,
   "id": "5e85bc18",
   "metadata": {},
   "outputs": [],
   "source": []
  },
  {
   "cell_type": "code",
   "execution_count": null,
   "id": "43895638",
   "metadata": {},
   "outputs": [],
   "source": []
  },
  {
   "cell_type": "code",
   "execution_count": null,
   "id": "3689247d",
   "metadata": {},
   "outputs": [],
   "source": []
  },
  {
   "cell_type": "code",
   "execution_count": null,
   "id": "6f554bb3",
   "metadata": {},
   "outputs": [],
   "source": []
  },
  {
   "cell_type": "code",
   "execution_count": null,
   "id": "f2579feb",
   "metadata": {},
   "outputs": [],
   "source": []
  },
  {
   "cell_type": "code",
   "execution_count": null,
   "id": "f78f93fc",
   "metadata": {},
   "outputs": [],
   "source": []
  },
  {
   "cell_type": "code",
   "execution_count": null,
   "id": "474ac920",
   "metadata": {},
   "outputs": [],
   "source": [
    "my_usage_dir = os.path.join(Utilities.get_local_data_dir(), r'my_usage')"
   ]
  },
  {
   "cell_type": "code",
   "execution_count": null,
   "id": "3083002f",
   "metadata": {},
   "outputs": [],
   "source": [
    "my_usages_csvs = Utilities.find_all_paths(base_dir=my_usage_dir, glob_pattern=r'my_usage_*.csv')"
   ]
  },
  {
   "cell_type": "code",
   "execution_count": null,
   "id": "eeed788e",
   "metadata": {},
   "outputs": [],
   "source": [
    "len(my_usages_csvs)"
   ]
  },
  {
   "cell_type": "code",
   "execution_count": null,
   "id": "fc691c6e",
   "metadata": {},
   "outputs": [],
   "source": [
    "dfs_vlt = []\n",
    "dfs_kwh = []\n",
    "for csv in my_usages_csvs:\n",
    "    df = pd.read_csv(csv)\n",
    "    if df.shape[0]==0:\n",
    "        continue\n",
    "    df['starttimeperiod'] = pd.to_datetime(df['starttimeperiod'])\n",
    "    df_vlt = df[df['aep_derived_uom']=='VOLT']\n",
    "    df_kwh = df[df['aep_derived_uom']=='KWH']\n",
    "    df_kwh = AMINonVee.combine_kwh_delivered_and_received_values(df_kwh)\n",
    "    \n",
    "    dfs_vlt.append(df_vlt)\n",
    "    dfs_kwh.append(df_kwh)"
   ]
  },
  {
   "cell_type": "code",
   "execution_count": null,
   "id": "1767610b",
   "metadata": {},
   "outputs": [],
   "source": [
    "df_vlt = pd.concat(dfs_vlt)\n",
    "df_kwh = pd.concat(dfs_kwh)"
   ]
  },
  {
   "cell_type": "code",
   "execution_count": null,
   "id": "123815b3",
   "metadata": {},
   "outputs": [],
   "source": [
    "df_vlt"
   ]
  },
  {
   "cell_type": "code",
   "execution_count": null,
   "id": "88618989",
   "metadata": {},
   "outputs": [],
   "source": [
    "df_vlt['starttimeperiod_tz_aware'] = pd.to_datetime(df_vlt['starttimeperiod'], utc=True)\n",
    "df_vlt['starttimeperiod_local'] = df_vlt['starttimeperiod_tz_aware'].dt.tz_localize(None)\n",
    "df_vlt['starttimeperiod_utc'] = df_vlt['starttimeperiod_tz_aware'].dt.tz_convert(None)\n",
    "df_vlt = df_vlt.set_index('starttimeperiod_local', drop=False).sort_index()"
   ]
  },
  {
   "cell_type": "code",
   "execution_count": null,
   "id": "65865991",
   "metadata": {},
   "outputs": [],
   "source": [
    "df_kwh['starttimeperiod_tz_aware'] = pd.to_datetime(df_kwh['starttimeperiod'], utc=True)\n",
    "df_kwh['starttimeperiod_local'] = df_kwh['starttimeperiod_tz_aware'].dt.tz_localize(None)\n",
    "df_kwh['starttimeperiod_utc'] = df_kwh['starttimeperiod_tz_aware'].dt.tz_convert(None)\n",
    "df_kwh = df_kwh.set_index('starttimeperiod_local', drop=False).sort_index()"
   ]
  },
  {
   "cell_type": "code",
   "execution_count": null,
   "id": "da192229",
   "metadata": {},
   "outputs": [],
   "source": []
  },
  {
   "cell_type": "code",
   "execution_count": null,
   "id": "b40a3fae",
   "metadata": {},
   "outputs": [],
   "source": [
    "ax = df_vlt['2018-06-26T00:00:00':'2018-06-27T00:00:00']['value'].plot()\n",
    "ax.tick_params(axis='x', labelrotation=45);"
   ]
  },
  {
   "cell_type": "code",
   "execution_count": null,
   "id": "752bb048",
   "metadata": {},
   "outputs": [],
   "source": [
    "ax = df_kwh['2018-06-25T00:00:00':'2018-06-28T00:00:00']['value'].plot()\n",
    "ax.tick_params(axis='x', labelrotation=45);"
   ]
  },
  {
   "cell_type": "code",
   "execution_count": null,
   "id": "500e8dfe",
   "metadata": {},
   "outputs": [],
   "source": [
    "tmp_df = df_kwh.resample('H').mean()"
   ]
  },
  {
   "cell_type": "code",
   "execution_count": null,
   "id": "d99b57ab",
   "metadata": {},
   "outputs": [],
   "source": [
    "ax = tmp_df['2018-06-25T00:00:00':'2018-06-28T00:00:00']['value'].plot()\n",
    "ax.tick_params(axis='x', labelrotation=45);"
   ]
  },
  {
   "cell_type": "code",
   "execution_count": null,
   "id": "8aefeae7",
   "metadata": {},
   "outputs": [],
   "source": [
    "ax = tmp_df['2018-06-23T00:00:00':'2018-06-30T00:00:00']['value'].plot()\n",
    "ax.tick_params(axis='x', labelrotation=45);"
   ]
  },
  {
   "cell_type": "code",
   "execution_count": null,
   "id": "a6db42a8",
   "metadata": {},
   "outputs": [],
   "source": [
    "ax = tmp_df['2018-06-15T00:00:00':'2018-07-15T00:00:00']['value'].plot()\n",
    "ax.tick_params(axis='x', labelrotation=45);"
   ]
  },
  {
   "cell_type": "code",
   "execution_count": null,
   "id": "bad165bd",
   "metadata": {},
   "outputs": [],
   "source": [
    "ax = df_kwh.resample('M').mean()['value'].plot()\n",
    "ax.tick_params(axis='x', labelrotation=45);"
   ]
  },
  {
   "cell_type": "code",
   "execution_count": null,
   "id": "2a7a6f49",
   "metadata": {},
   "outputs": [],
   "source": [
    "ax = df_kwh.resample('W-Mon').mean()['value'].plot()\n",
    "ax.tick_params(axis='x', labelrotation=45);"
   ]
  },
  {
   "cell_type": "code",
   "execution_count": null,
   "id": "89109824",
   "metadata": {},
   "outputs": [],
   "source": [
    "ax = df_kwh.resample('2W-Mon').mean()['value'].plot()\n",
    "ax.tick_params(axis='x', labelrotation=45);"
   ]
  },
  {
   "cell_type": "code",
   "execution_count": null,
   "id": "dd6a3ec7",
   "metadata": {},
   "outputs": [],
   "source": []
  },
  {
   "cell_type": "code",
   "execution_count": null,
   "id": "0294da1d",
   "metadata": {},
   "outputs": [],
   "source": [
    "ax = df_kwh['2019-07-25T00:00:00':'2019-07-27T00:00:00']['value'].plot()\n",
    "ax.tick_params(axis='x', labelrotation=45);"
   ]
  },
  {
   "cell_type": "code",
   "execution_count": null,
   "id": "bc3e2a74",
   "metadata": {},
   "outputs": [],
   "source": [
    "ax = df_kwh['2020-07-25T00:00:00':'2020-07-27T00:00:00']['value'].plot()\n",
    "ax.tick_params(axis='x', labelrotation=45);"
   ]
  },
  {
   "cell_type": "code",
   "execution_count": null,
   "id": "3b15a523",
   "metadata": {},
   "outputs": [],
   "source": []
  },
  {
   "cell_type": "code",
   "execution_count": null,
   "id": "216b6ab1",
   "metadata": {},
   "outputs": [],
   "source": [
    "ax = df_vlt['2018-06-24T00:00:00':'2018-06-29T00:00:00']['value'].plot()\n",
    "ax.tick_params(axis='x', labelrotation=45);"
   ]
  },
  {
   "cell_type": "code",
   "execution_count": null,
   "id": "907dc090",
   "metadata": {},
   "outputs": [],
   "source": []
  },
  {
   "cell_type": "code",
   "execution_count": null,
   "id": "c34e610b",
   "metadata": {},
   "outputs": [],
   "source": [
    "ax = df_kwh['2018-06-24T00:00:00':'2018-06-29T00:00:00']['value'].plot()\n",
    "ax.tick_params(axis='x', labelrotation=45);"
   ]
  },
  {
   "cell_type": "code",
   "execution_count": null,
   "id": "11ab381c",
   "metadata": {},
   "outputs": [],
   "source": [
    "ax = tmp_df['2018-07-15T00:00:00':'2018-07-29T00:00:00']['value'].plot()\n",
    "ax.tick_params(axis='x', labelrotation=45);"
   ]
  },
  {
   "cell_type": "code",
   "execution_count": null,
   "id": "a461f7d4",
   "metadata": {},
   "outputs": [],
   "source": []
  },
  {
   "cell_type": "code",
   "execution_count": null,
   "id": "d7778ae0",
   "metadata": {},
   "outputs": [],
   "source": []
  },
  {
   "cell_type": "code",
   "execution_count": null,
   "id": "cc705c70",
   "metadata": {},
   "outputs": [],
   "source": [
    "import statsmodels.api as sm\n",
    "from statsmodels.tsa.stattools import acovf, acf, pacf, pacf_yw, pacf_ols\n",
    "from pandas.plotting import lag_plot"
   ]
  },
  {
   "cell_type": "code",
   "execution_count": null,
   "id": "d6b9d980",
   "metadata": {},
   "outputs": [],
   "source": [
    "df_kwh_sub = df_kwh['2018-07-01T00:00:00':'2018-07-07T00:00:00'].copy()"
   ]
  },
  {
   "cell_type": "code",
   "execution_count": null,
   "id": "8d146a84",
   "metadata": {},
   "outputs": [],
   "source": []
  },
  {
   "cell_type": "code",
   "execution_count": null,
   "id": "fa68a218",
   "metadata": {},
   "outputs": [],
   "source": [
    "df_kwh_sub['value']"
   ]
  },
  {
   "cell_type": "code",
   "execution_count": null,
   "id": "5df50b40",
   "metadata": {},
   "outputs": [],
   "source": [
    "lag_plot(df_kwh_sub['value'])"
   ]
  },
  {
   "cell_type": "code",
   "execution_count": null,
   "id": "3b3f3391",
   "metadata": {},
   "outputs": [],
   "source": [
    "from statsmodels.graphics.tsaplots import plot_acf, plot_pacf"
   ]
  },
  {
   "cell_type": "code",
   "execution_count": null,
   "id": "a3b34dc3",
   "metadata": {},
   "outputs": [],
   "source": [
    "plot_acf(df_kwh_sub['value'], lags=40);"
   ]
  },
  {
   "cell_type": "code",
   "execution_count": null,
   "id": "1fbd6d8f",
   "metadata": {},
   "outputs": [],
   "source": [
    "plot_acf(df_kwh_sub['value'], lags=200);"
   ]
  },
  {
   "cell_type": "code",
   "execution_count": null,
   "id": "ba50d9e3",
   "metadata": {},
   "outputs": [],
   "source": [
    "plot_pacf(df_kwh_sub['value'], lags=40);"
   ]
  },
  {
   "cell_type": "code",
   "execution_count": null,
   "id": "1cabd870",
   "metadata": {},
   "outputs": [],
   "source": [
    "df_kwh_sub['value'].plot()"
   ]
  },
  {
   "cell_type": "code",
   "execution_count": null,
   "id": "55904641",
   "metadata": {},
   "outputs": [],
   "source": [
    "dft.adf_test(df_kwh_sub['value'])\n",
    "df_kwh_sub['value'].plot()"
   ]
  },
  {
   "cell_type": "code",
   "execution_count": null,
   "id": "bf5fa1d6",
   "metadata": {},
   "outputs": [],
   "source": []
  },
  {
   "cell_type": "code",
   "execution_count": null,
   "id": "2c334985",
   "metadata": {},
   "outputs": [],
   "source": [
    "dft.adf_test(df_kwh.resample('M').mean()['value'])\n",
    "df_kwh.resample('M').mean()['value'].plot()"
   ]
  },
  {
   "cell_type": "code",
   "execution_count": null,
   "id": "53a430ee",
   "metadata": {},
   "outputs": [],
   "source": []
  },
  {
   "cell_type": "code",
   "execution_count": null,
   "id": "68b89b44",
   "metadata": {},
   "outputs": [],
   "source": [
    "from statsmodels.graphics.tsaplots import month_plot, quarter_plot, seasonal_plot"
   ]
  },
  {
   "cell_type": "code",
   "execution_count": null,
   "id": "8bc73c67",
   "metadata": {},
   "outputs": [],
   "source": []
  },
  {
   "cell_type": "code",
   "execution_count": null,
   "id": "9ca0f15d",
   "metadata": {},
   "outputs": [],
   "source": [
    "df_kwh_sub_gpd = df_kwh_sub.groupby(pd.Grouper(freq='H'))"
   ]
  },
  {
   "cell_type": "code",
   "execution_count": null,
   "id": "1e56409e",
   "metadata": {},
   "outputs": [],
   "source": [
    "# seasonal_plot(df_kwh_sub_gpd, df_kwh_sub_gpd.groups.keys())"
   ]
  },
  {
   "cell_type": "code",
   "execution_count": null,
   "id": "75026641",
   "metadata": {},
   "outputs": [],
   "source": []
  },
  {
   "cell_type": "code",
   "execution_count": null,
   "id": "0e7a9796",
   "metadata": {},
   "outputs": [],
   "source": [
    "month_plot(df_kwh.resample('M').mean()['value']);"
   ]
  },
  {
   "cell_type": "code",
   "execution_count": null,
   "id": "2a636412",
   "metadata": {},
   "outputs": [],
   "source": [
    "df_kwh.resample('M').mean()['value'].plot()"
   ]
  },
  {
   "cell_type": "code",
   "execution_count": null,
   "id": "f6b508e0",
   "metadata": {},
   "outputs": [],
   "source": [
    "from pmdarima import auto_arima\n",
    "from statsmodels.tsa.arima_model import ARMA, ARIMA, ARMAResults, ARIMAResults\n",
    "from statsmodels.graphics.tsaplots import plot_acf, plot_pacf\n",
    "from statsmodels.tsa.statespace.sarimax import SARIMAX"
   ]
  },
  {
   "cell_type": "code",
   "execution_count": null,
   "id": "7936288a",
   "metadata": {},
   "outputs": [],
   "source": [
    "#tmp_df = df_kwh_sub.resample('H').mean()\n",
    "tmp_df = df_kwh['2018-07-01T00:00:00':'2018-07-28T00:00:00'].resample('H').mean()\n",
    "tmp_df = tmp_df[tmp_df['value'].notna()]"
   ]
  },
  {
   "cell_type": "code",
   "execution_count": null,
   "id": "f0e9b303",
   "metadata": {},
   "outputs": [],
   "source": [
    "#auto_arima(df_kwh_sub['value']).summary()\n",
    "#auto_arima(df_kwh_sub['value'], seasonal=True, m=96).summary()\n",
    "auto_arima(tmp_df['value'], seasonal=True, m=24).summary()"
   ]
  },
  {
   "cell_type": "code",
   "execution_count": null,
   "id": "48ba7c25",
   "metadata": {},
   "outputs": [],
   "source": []
  },
  {
   "cell_type": "code",
   "execution_count": null,
   "id": "0bbae368",
   "metadata": {},
   "outputs": [],
   "source": [
    "tmp_df['value'].plot()"
   ]
  },
  {
   "cell_type": "code",
   "execution_count": null,
   "id": "93870046",
   "metadata": {},
   "outputs": [],
   "source": []
  },
  {
   "cell_type": "code",
   "execution_count": null,
   "id": "2980250e",
   "metadata": {},
   "outputs": [],
   "source": [
    "train = tmp_df.iloc[:round(0.8*len(tmp_df))]\n",
    "test = tmp_df.iloc[round(0.8*len(tmp_df)):]"
   ]
  },
  {
   "cell_type": "code",
   "execution_count": null,
   "id": "64fe25bc",
   "metadata": {},
   "outputs": [],
   "source": [
    "model = SARIMAX(train['value'], order=(1,0,0), seasonal_order=(2, 0, 1, 24))"
   ]
  },
  {
   "cell_type": "code",
   "execution_count": null,
   "id": "196ed97d",
   "metadata": {},
   "outputs": [],
   "source": [
    "results = model.fit()"
   ]
  },
  {
   "cell_type": "code",
   "execution_count": null,
   "id": "680822fc",
   "metadata": {},
   "outputs": [],
   "source": [
    "results.summary()"
   ]
  },
  {
   "cell_type": "code",
   "execution_count": null,
   "id": "6577828c",
   "metadata": {},
   "outputs": [],
   "source": [
    "predictions = results.predict(len(train), len(tmp_df), typ='levels')"
   ]
  },
  {
   "cell_type": "code",
   "execution_count": null,
   "id": "ff1ce458",
   "metadata": {},
   "outputs": [],
   "source": [
    "tmp_df['value'].plot(figsize=(12,6))\n",
    "predictions.plot()"
   ]
  },
  {
   "cell_type": "code",
   "execution_count": null,
   "id": "5bc2499c",
   "metadata": {},
   "outputs": [],
   "source": [
    "tmp_df.iloc[len(train):len(tmp_df)]['value'].plot(figsize=(12,6))\n",
    "predictions.plot()"
   ]
  },
  {
   "cell_type": "code",
   "execution_count": null,
   "id": "edad06e3",
   "metadata": {},
   "outputs": [],
   "source": [
    "all_predictions = results.predict(0, len(tmp_df), typ='levels')\n",
    "tmp_df['value'].plot(figsize=(12,6))\n",
    "all_predictions.plot()"
   ]
  },
  {
   "cell_type": "code",
   "execution_count": null,
   "id": "582b970a",
   "metadata": {},
   "outputs": [],
   "source": []
  },
  {
   "cell_type": "code",
   "execution_count": null,
   "id": "a591617e",
   "metadata": {},
   "outputs": [],
   "source": []
  },
  {
   "cell_type": "code",
   "execution_count": null,
   "id": "ea6dd28c",
   "metadata": {},
   "outputs": [],
   "source": [
    "tmp_df"
   ]
  },
  {
   "cell_type": "code",
   "execution_count": null,
   "id": "c7271a10",
   "metadata": {},
   "outputs": [],
   "source": [
    "# predictions2 = results.predict(0, 2*len(tmp_df), typ='levels')"
   ]
  },
  {
   "cell_type": "code",
   "execution_count": null,
   "id": "93d429a7",
   "metadata": {},
   "outputs": [],
   "source": [
    "# df_kwh_sub['value'].plot()\n",
    "# predictions2.plot()"
   ]
  },
  {
   "cell_type": "code",
   "execution_count": null,
   "id": "16496c3c",
   "metadata": {},
   "outputs": [],
   "source": []
  },
  {
   "cell_type": "code",
   "execution_count": null,
   "id": "18b00e0e",
   "metadata": {},
   "outputs": [],
   "source": [
    "df_kwh['2018-07-01T00:00:00':'2018-08-01T00:00:00'].resample('D').mean()['value'].plot()"
   ]
  },
  {
   "cell_type": "code",
   "execution_count": null,
   "id": "a6a95a76",
   "metadata": {},
   "outputs": [],
   "source": [
    "df_kwh.resample('MS').mean()['value'].plot()"
   ]
  },
  {
   "cell_type": "code",
   "execution_count": null,
   "id": "8cacb098",
   "metadata": {},
   "outputs": [],
   "source": []
  },
  {
   "cell_type": "code",
   "execution_count": null,
   "id": "dc60c3d9",
   "metadata": {},
   "outputs": [],
   "source": []
  },
  {
   "cell_type": "code",
   "execution_count": null,
   "id": "a6491c93",
   "metadata": {},
   "outputs": [],
   "source": [
    "import keras"
   ]
  },
  {
   "cell_type": "code",
   "execution_count": null,
   "id": "7dbc6e79",
   "metadata": {},
   "outputs": [],
   "source": [
    "from sklearn.preprocessing import MinMaxScaler"
   ]
  },
  {
   "cell_type": "code",
   "execution_count": null,
   "id": "102e02d7",
   "metadata": {},
   "outputs": [],
   "source": [
    "from keras.preprocessing.sequence import TimeseriesGenerator"
   ]
  },
  {
   "cell_type": "code",
   "execution_count": null,
   "id": "57f33fc6",
   "metadata": {},
   "outputs": [],
   "source": [
    "from keras.models import Sequential\n",
    "from keras.layers import Dense\n",
    "from keras.layers import LSTM"
   ]
  },
  {
   "cell_type": "code",
   "execution_count": null,
   "id": "14ed1241",
   "metadata": {},
   "outputs": [],
   "source": [
    "df_kwh.shape"
   ]
  },
  {
   "cell_type": "code",
   "execution_count": null,
   "id": "edbaabb8",
   "metadata": {},
   "outputs": [],
   "source": [
    "df_kwh = df_kwh[df_kwh['value'].notna()]\n",
    "df_kwh.shape"
   ]
  },
  {
   "cell_type": "code",
   "execution_count": null,
   "id": "b1c7390c",
   "metadata": {},
   "outputs": [],
   "source": []
  },
  {
   "cell_type": "code",
   "execution_count": null,
   "id": "83b00198",
   "metadata": {},
   "outputs": [],
   "source": [
    "df_kwh_D = df_kwh.resample('D').mean()\n",
    "print(df_kwh_D.shape)\n",
    "\n",
    "df_kwh_D = df_kwh_D[df_kwh_D['value'].notna()]\n",
    "print(df_kwh_D.shape)"
   ]
  },
  {
   "cell_type": "code",
   "execution_count": null,
   "id": "b3d7581a",
   "metadata": {},
   "outputs": [],
   "source": [
    "df_kwh_H = df_kwh.resample('H').mean()\n",
    "print(df_kwh_H.shape)\n",
    "\n",
    "df_kwh_H = df_kwh_H[df_kwh_H['value'].notna()]\n",
    "print(df_kwh_H.shape)"
   ]
  },
  {
   "cell_type": "code",
   "execution_count": null,
   "id": "f9bc2816",
   "metadata": {},
   "outputs": [],
   "source": []
  },
  {
   "cell_type": "code",
   "execution_count": null,
   "id": "5514c88c",
   "metadata": {},
   "outputs": [],
   "source": [
    "# train = df_kwh.iloc[:round(0.8*len(df_kwh))][['value']]\n",
    "# test = df_kwh.iloc[round(0.8*len(df_kwh)):][['value']]"
   ]
  },
  {
   "cell_type": "code",
   "execution_count": null,
   "id": "93adf536",
   "metadata": {},
   "outputs": [],
   "source": [
    "# train = df_kwh_D.iloc[:round(0.8*len(df_kwh_D))][['value']]\n",
    "# test = df_kwh_D.iloc[round(0.8*len(df_kwh_D)):][['value']]"
   ]
  },
  {
   "cell_type": "code",
   "execution_count": null,
   "id": "14e36563",
   "metadata": {},
   "outputs": [],
   "source": [
    "# train = df_kwh_H.iloc[:round(0.8*len(df_kwh_H))][['value']]\n",
    "# test = df_kwh_H.iloc[round(0.8*len(df_kwh_H)):][['value']]\n",
    "\n",
    "train = df_kwh_H.iloc[:2000][['value']]\n",
    "test = df_kwh_H.iloc[2000:2500][['value']]"
   ]
  },
  {
   "cell_type": "code",
   "execution_count": null,
   "id": "afcb1210",
   "metadata": {},
   "outputs": [],
   "source": [
    "type(train)"
   ]
  },
  {
   "cell_type": "code",
   "execution_count": null,
   "id": "7aa3331f",
   "metadata": {},
   "outputs": [],
   "source": []
  },
  {
   "cell_type": "code",
   "execution_count": null,
   "id": "ecd53776",
   "metadata": {},
   "outputs": [],
   "source": [
    "scaler = MinMaxScaler()\n",
    "scaler.fit(train)\n",
    "\n",
    "scaled_train = scaler.transform(train)\n",
    "scaled_test = scaler.transform(test)"
   ]
  },
  {
   "cell_type": "code",
   "execution_count": null,
   "id": "1027334c",
   "metadata": {},
   "outputs": [],
   "source": []
  },
  {
   "cell_type": "code",
   "execution_count": null,
   "id": "5481ae60",
   "metadata": {},
   "outputs": [],
   "source": [
    "plt.plot(range(len(scaled_train)), scaled_train)"
   ]
  },
  {
   "cell_type": "code",
   "execution_count": null,
   "id": "3d1f2b98",
   "metadata": {},
   "outputs": [],
   "source": [
    "df_kwh.iloc[:48]['value'].plot()"
   ]
  },
  {
   "cell_type": "code",
   "execution_count": null,
   "id": "b2ba89c9",
   "metadata": {},
   "outputs": [],
   "source": []
  },
  {
   "cell_type": "code",
   "execution_count": null,
   "id": "421d60d6",
   "metadata": {},
   "outputs": [],
   "source": [
    "#scaled_train"
   ]
  },
  {
   "cell_type": "code",
   "execution_count": null,
   "id": "6badb75b",
   "metadata": {},
   "outputs": [],
   "source": [
    "# Let's define to get 14 days back and then predict the next day out\n",
    "n_input = 24\n",
    "n_features = 1\n",
    "generator = TimeseriesGenerator(scaled_train, scaled_train, length=n_input, batch_size=1)"
   ]
  },
  {
   "cell_type": "code",
   "execution_count": null,
   "id": "e445c77e",
   "metadata": {},
   "outputs": [],
   "source": [
    "# # define model\n",
    "# model = Sequential()\n",
    "# model.add(LSTM(100, activation='relu', input_shape=(n_input, n_features)))\n",
    "# model.add(Dense(1))\n",
    "# model.compile(optimizer='adam', loss='mse')"
   ]
  },
  {
   "cell_type": "code",
   "execution_count": null,
   "id": "8dde15a6",
   "metadata": {},
   "outputs": [],
   "source": [
    "# define model\n",
    "model = Sequential()\n",
    "model.add(LSTM(100, activation='relu', input_shape=(n_input, n_features), return_sequences=True))\n",
    "model.add(LSTM(100, activation='relu', input_shape=(n_input, n_features), return_sequences=True))\n",
    "model.add(LSTM(100, activation='relu', input_shape=(n_input, n_features)))\n",
    "model.add(Dense(1))\n",
    "model.compile(optimizer='adam', loss='mse')"
   ]
  },
  {
   "cell_type": "code",
   "execution_count": null,
   "id": "930f8b87",
   "metadata": {},
   "outputs": [],
   "source": [
    "model.summary()"
   ]
  },
  {
   "cell_type": "code",
   "execution_count": null,
   "id": "39bf85bd",
   "metadata": {},
   "outputs": [],
   "source": []
  },
  {
   "cell_type": "code",
   "execution_count": null,
   "id": "6d953ae0",
   "metadata": {},
   "outputs": [],
   "source": [
    "# fit model\n",
    "model.fit_generator(generator,epochs=5)"
   ]
  },
  {
   "cell_type": "code",
   "execution_count": null,
   "id": "23e70878",
   "metadata": {},
   "outputs": [],
   "source": [
    "loss_per_epoch = model.history.history['loss']\n",
    "plt.plot(range(len(loss_per_epoch)),loss_per_epoch)"
   ]
  },
  {
   "cell_type": "code",
   "execution_count": null,
   "id": "97b38af8",
   "metadata": {},
   "outputs": [],
   "source": []
  },
  {
   "cell_type": "code",
   "execution_count": null,
   "id": "de472d75",
   "metadata": {},
   "outputs": [],
   "source": []
  },
  {
   "cell_type": "code",
   "execution_count": null,
   "id": "964035db",
   "metadata": {},
   "outputs": [],
   "source": [
    "test_predictions = []\n",
    "\n",
    "first_eval_batch = scaled_train[-n_input:]\n",
    "current_batch = first_eval_batch.reshape((1, n_input, n_features))\n",
    "\n",
    "for i in range(len(test)):\n",
    "    \n",
    "    # get prediction 1 time stamp ahead ([0] is for grabbing just the number instead of [array])\n",
    "    current_pred = model.predict(current_batch)[0]\n",
    "    \n",
    "    # store prediction\n",
    "    test_predictions.append(current_pred) \n",
    "    \n",
    "    # update batch to now include prediction and drop first value\n",
    "    current_batch = np.append(current_batch[:,1:,:],[[current_pred]],axis=1)"
   ]
  },
  {
   "cell_type": "code",
   "execution_count": null,
   "id": "9e9be788",
   "metadata": {},
   "outputs": [],
   "source": []
  },
  {
   "cell_type": "code",
   "execution_count": null,
   "id": "a6f61173",
   "metadata": {},
   "outputs": [],
   "source": [
    "true_predictions = scaler.inverse_transform(test_predictions)"
   ]
  },
  {
   "cell_type": "code",
   "execution_count": null,
   "id": "aa0c027f",
   "metadata": {},
   "outputs": [],
   "source": [
    "# IGNORE WARNINGS\n",
    "test['Predictions'] = true_predictions"
   ]
  },
  {
   "cell_type": "code",
   "execution_count": null,
   "id": "f4879cda",
   "metadata": {},
   "outputs": [],
   "source": [
    "test.plot(figsize=(12,8))"
   ]
  },
  {
   "cell_type": "code",
   "execution_count": null,
   "id": "6830d894",
   "metadata": {},
   "outputs": [],
   "source": []
  },
  {
   "cell_type": "code",
   "execution_count": null,
   "id": "65e1e509",
   "metadata": {},
   "outputs": [],
   "source": []
  },
  {
   "cell_type": "code",
   "execution_count": null,
   "id": "9bb69f4e",
   "metadata": {},
   "outputs": [],
   "source": []
  },
  {
   "cell_type": "code",
   "execution_count": null,
   "id": "619a8fc0",
   "metadata": {},
   "outputs": [],
   "source": []
  },
  {
   "cell_type": "code",
   "execution_count": null,
   "id": "3a875564",
   "metadata": {},
   "outputs": [],
   "source": []
  },
  {
   "cell_type": "code",
   "execution_count": null,
   "id": "9eeb2512",
   "metadata": {},
   "outputs": [],
   "source": [
    "all_predictions=[]\n",
    "\n",
    "first_eval_batch = scaled_train[:n_input]\n",
    "current_batch = first_eval_batch.reshape((1, n_input, n_features))\n",
    "\n",
    "for i in range(n_input,len(scaled_train)):\n",
    "    \n",
    "    # get prediction 1 time stamp ahead ([0] is for grabbing just the number instead of [array])\n",
    "    current_pred = model.predict(current_batch)[0]\n",
    "    \n",
    "    # store prediction\n",
    "    all_predictions.append(current_pred) \n",
    "    \n",
    "    # update batch to now include prediction and drop first value\n",
    "    #current_batch = np.append(current_batch[:,1:,:],[[current_pred]],axis=1)\n",
    "    current_batch = np.append(current_batch[:,1:,:],[[scaled_train[i]]],axis=1)"
   ]
  },
  {
   "cell_type": "code",
   "execution_count": null,
   "id": "e1705ea4",
   "metadata": {},
   "outputs": [],
   "source": [
    "all_true_predictions = scaler.inverse_transform(all_predictions)"
   ]
  },
  {
   "cell_type": "code",
   "execution_count": null,
   "id": "4bb624fa",
   "metadata": {},
   "outputs": [],
   "source": [
    "all_true_predictions_df = pd.DataFrame(data=all_true_predictions, index=train.index[n_input:])"
   ]
  },
  {
   "cell_type": "code",
   "execution_count": null,
   "id": "ee03231b",
   "metadata": {},
   "outputs": [],
   "source": [
    "ax=train.plot(figsize=(12,6))\n",
    "all_true_predictions_df.plot(ax=ax)"
   ]
  },
  {
   "cell_type": "code",
   "execution_count": null,
   "id": "331095c6",
   "metadata": {},
   "outputs": [],
   "source": [
    "plot_pacf(df_kwh_H['value'], lags=40, zero=False);"
   ]
  },
  {
   "cell_type": "code",
   "execution_count": null,
   "id": "ce4af635",
   "metadata": {},
   "outputs": [],
   "source": [
    "plot_acf(df_kwh_H['value'], lags=40);"
   ]
  },
  {
   "cell_type": "code",
   "execution_count": null,
   "id": "40098d84",
   "metadata": {},
   "outputs": [],
   "source": []
  },
  {
   "cell_type": "code",
   "execution_count": null,
   "id": "0311c91d",
   "metadata": {},
   "outputs": [],
   "source": []
  }
 ],
 "metadata": {
  "kernelspec": {
   "display_name": "Python 3 (ipykernel)",
   "language": "python",
   "name": "python3"
  },
  "language_info": {
   "codemirror_mode": {
    "name": "ipython",
    "version": 3
   },
   "file_extension": ".py",
   "mimetype": "text/x-python",
   "name": "python",
   "nbconvert_exporter": "python",
   "pygments_lexer": "ipython3",
   "version": "3.9.7"
  }
 },
 "nbformat": 4,
 "nbformat_minor": 5
}
