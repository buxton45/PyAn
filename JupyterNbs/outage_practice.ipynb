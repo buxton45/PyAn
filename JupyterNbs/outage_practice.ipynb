{
 "cells": [
  {
   "cell_type": "code",
   "execution_count": null,
   "id": "51d97151",
   "metadata": {},
   "outputs": [],
   "source": [
    "%run AMINonVee.ipynb"
   ]
  },
  {
   "cell_type": "code",
   "execution_count": null,
   "id": "772f6a30",
   "metadata": {},
   "outputs": [],
   "source": [
    "from importlib import reload\n",
    "#reload(Utilities)\n",
    "\n",
    "import sys, os\n",
    "import re\n",
    "\n",
    "import pandas as pd\n",
    "import numpy as np\n",
    "from pandas.api.types import is_numeric_dtype\n",
    "from scipy import stats\n",
    "import datetime\n",
    "import time\n",
    "from natsort import natsorted, ns\n",
    "from packaging import version\n",
    "import itertools\n",
    "from dateutil.parser import parse\n",
    "\n",
    "from pmdarima import auto_arima\n",
    "import statsmodels.api as sm\n",
    "from statsmodels.tsa.stattools import acovf, acf, pacf, pacf_yw, pacf_ols\n",
    "from pandas.plotting import lag_plot\n",
    "from statsmodels.graphics.tsaplots import plot_acf, plot_pacf\n",
    "from statsmodels.graphics.tsaplots import month_plot, quarter_plot, seasonal_plot\n",
    "from statsmodels.tsa.arima_model import ARMA, ARIMA, ARMAResults, ARIMAResults\n",
    "from statsmodels.tsa.statespace.sarimax import SARIMAX\n",
    "\n",
    "from arch import arch_model\n",
    "\n",
    "import pyodbc\n",
    "#---------------------------------------------------------------------\n",
    "sys.path.insert(0, os.path.realpath('..'))\n",
    "import Utilities_config\n",
    "#---------------------------------------------------------------------\n",
    "import matplotlib as mpl\n",
    "import matplotlib.pyplot as plt\n",
    "import seaborn as sns\n",
    "from matplotlib.backends.backend_pdf import PdfPages\n",
    "import matplotlib.patches as mpatches\n",
    "from matplotlib.lines import Line2D\n",
    "import matplotlib.ticker as ticker\n",
    "from matplotlib import dates\n",
    "#---------------------------------------------------------------------\n",
    "sys.path.insert(0, Utilities_config.get_utilities_dir())\n",
    "import Utilities\n",
    "import Utilities_df\n",
    "import Utilities_dt\n",
    "import Plot_Box_sns\n",
    "import GrubbsTest\n",
    "import DickeyFullerTest as dft"
   ]
  },
  {
   "cell_type": "code",
   "execution_count": null,
   "id": "d16dd85d",
   "metadata": {},
   "outputs": [],
   "source": []
  },
  {
   "cell_type": "code",
   "execution_count": null,
   "id": "98065514",
   "metadata": {},
   "outputs": [],
   "source": [
    "import warnings\n",
    "warnings.filterwarnings('ignore')"
   ]
  },
  {
   "cell_type": "code",
   "execution_count": null,
   "id": "129210bd",
   "metadata": {},
   "outputs": [],
   "source": [
    "fig_num = 0"
   ]
  },
  {
   "cell_type": "code",
   "execution_count": null,
   "id": "1e715ec4",
   "metadata": {},
   "outputs": [],
   "source": [
    "cols_of_interest = [\n",
    "    'serialnumber',\n",
    "    'prem_nb', \n",
    "    'srvc_pole_nb', \n",
    "    'trsf_pole_nb',\n",
    "    'annual_kwh',\n",
    "    'station_nb',\n",
    "    'xfmr_nb', \n",
    "    'starttimeperiod', \n",
    "    'endtimeperiod', \n",
    "    'aep_endtime_utc', \n",
    "    'timezoneoffset', \n",
    "    'aep_derived_uom',\n",
    "    'aep_srvc_qlty_idntfr', \n",
    "    'value', \n",
    "    'aep_usage_dt'\n",
    "]"
   ]
  },
  {
   "cell_type": "code",
   "execution_count": null,
   "id": "fdeee089",
   "metadata": {},
   "outputs": [],
   "source": [
    "df_outage_dir = os.path.join(Utilities.get_local_data_dir(), r'sample_outages_full_NEW\\outg_rec_nb_11496239')\n",
    "#df_outage_dir = os.path.join(Utilities.get_local_data_dir(), r'sample_outages_full\\outg_rec_nb_11751094')\n",
    "out_t_beg_local = pd.to_datetime('2020-03-05 11:03:00')\n",
    "out_t_end_local = pd.to_datetime('2020-03-05 12:40:00')"
   ]
  },
  {
   "cell_type": "code",
   "execution_count": null,
   "id": "079d047f",
   "metadata": {},
   "outputs": [],
   "source": [
    "# df_outage_dir = os.path.join(Utilities.get_local_data_dir(), r'sample_outages\\outg_rec_nb_11770899')\n",
    "# out_t_beg = pd.to_datetime('2020-07-01 14:18:00')\n",
    "# out_t_end = pd.to_datetime('2020-07-01 18:50:00')"
   ]
  },
  {
   "cell_type": "code",
   "execution_count": null,
   "id": "8cbc2dd5",
   "metadata": {},
   "outputs": [],
   "source": []
  },
  {
   "cell_type": "code",
   "execution_count": null,
   "id": "e118dbe4",
   "metadata": {},
   "outputs": [],
   "source": []
  },
  {
   "cell_type": "code",
   "execution_count": null,
   "id": "dd4e6d33",
   "metadata": {},
   "outputs": [],
   "source": [
    "kwh_vlt_dfs_dict = AMINonVee.assemble_kwh_vlt_dfs_from_saved_csvs(file_dir=df_outage_dir, glob_pattern=r'outg_rec_nb_*.csv', \n",
    "                                                                  cols_of_interest=cols_of_interest, \n",
    "                                                                  verbose=True)\n",
    "df_kwh_15T = kwh_vlt_dfs_dict['kwh']\n",
    "df_vlt_15T = kwh_vlt_dfs_dict['vlt']"
   ]
  },
  {
   "cell_type": "code",
   "execution_count": null,
   "id": "2abae5e7",
   "metadata": {},
   "outputs": [],
   "source": []
  },
  {
   "cell_type": "code",
   "execution_count": null,
   "id": "fc93f7fa",
   "metadata": {},
   "outputs": [],
   "source": [
    "df_vlt_15T.shape"
   ]
  },
  {
   "cell_type": "code",
   "execution_count": null,
   "id": "67b8fe13",
   "metadata": {},
   "outputs": [],
   "source": [
    "df_kwh_15T.shape"
   ]
  },
  {
   "cell_type": "code",
   "execution_count": null,
   "id": "c72a9495",
   "metadata": {},
   "outputs": [],
   "source": []
  },
  {
   "cell_type": "code",
   "execution_count": null,
   "id": "6f0e5668",
   "metadata": {},
   "outputs": [],
   "source": [
    "df_kwh_15T['aep_srvc_qlty_idntfr'].value_counts()"
   ]
  },
  {
   "cell_type": "code",
   "execution_count": null,
   "id": "af70753d",
   "metadata": {},
   "outputs": [],
   "source": [
    "df_vlt_15T['aep_srvc_qlty_idntfr'].value_counts()"
   ]
  },
  {
   "cell_type": "code",
   "execution_count": null,
   "id": "00f4e449",
   "metadata": {},
   "outputs": [],
   "source": []
  },
  {
   "cell_type": "code",
   "execution_count": null,
   "id": "9d835e9b",
   "metadata": {},
   "outputs": [],
   "source": [
    "df_kwh_15T.head()"
   ]
  },
  {
   "cell_type": "code",
   "execution_count": null,
   "id": "d7dc0133",
   "metadata": {},
   "outputs": [],
   "source": []
  },
  {
   "cell_type": "code",
   "execution_count": null,
   "id": "b9f0d128",
   "metadata": {},
   "outputs": [],
   "source": []
  },
  {
   "cell_type": "code",
   "execution_count": null,
   "id": "5cd5a906",
   "metadata": {},
   "outputs": [],
   "source": [
    "df_key = 'df'\n",
    "df_agg_key = 'df_agg'"
   ]
  },
  {
   "cell_type": "code",
   "execution_count": null,
   "id": "d68ba209",
   "metadata": {},
   "outputs": [],
   "source": [
    "freqs=['H', '4H', 'D', 'MS']\n",
    "time_col_for_agg='endtimeperiod_utc'\n",
    "other_grouper_cols=['serialnumber']\n",
    "build_agg_dfs=True\n",
    "other_cols_to_keep = ['prem_nb', 'srvc_pole_nb', 'trsf_pole_nb', 'station_nb', \n",
    "                      'xfmr_nb', 'aep_derived_uom', 'aep_srvc_qlty_idntfr']\n",
    "other_cols_to_keep_agg = ['aep_derived_uom', 'aep_srvc_qlty_idntfr']\n",
    "agg_cols=['value', 'annual_kwh']\n",
    "agg_types=['mean']\n",
    "mix_agg_functions=False\n",
    "\n",
    "#-------------------------------------------------------------------------------------------------\n",
    "resampled_dfs_kwh_dict = AMINonVee.build_time_resampled_dfs(df_kwh_15T, base_freq='15T', freqs=freqs, \n",
    "                                           other_grouper_cols=other_grouper_cols, other_cols_to_keep=other_cols_to_keep, \n",
    "                                           build_agg_dfs=build_agg_dfs, time_col_for_agg=time_col_for_agg, \n",
    "                                           agg_cols=agg_cols, agg_types=agg_types, \n",
    "                                           other_cols_to_keep_agg=other_cols_to_keep_agg, mix_agg_functions=mix_agg_functions, \n",
    "                                           df_key=df_key, df_agg_key=df_agg_key)\n",
    "#-----\n",
    "assert(df_kwh_15T.equals(resampled_dfs_kwh_dict['15T'][df_key]))\n",
    "df_kwh_15T_mean = resampled_dfs_kwh_dict['15T'][df_agg_key]\n",
    "#-----\n",
    "df_kwh_H = resampled_dfs_kwh_dict['H'][df_key]\n",
    "df_kwh_H_mean = resampled_dfs_kwh_dict['H'][df_agg_key]\n",
    "#-----\n",
    "df_kwh_4H = resampled_dfs_kwh_dict['4H'][df_key]\n",
    "df_kwh_4H_mean = resampled_dfs_kwh_dict['4H'][df_agg_key]\n",
    "#-----\n",
    "df_kwh_D = resampled_dfs_kwh_dict['D'][df_key]\n",
    "df_kwh_D_mean = resampled_dfs_kwh_dict['D'][df_agg_key]\n",
    "#-----\n",
    "df_kwh_M = resampled_dfs_kwh_dict['MS'][df_key]\n",
    "df_kwh_M_mean = resampled_dfs_kwh_dict['MS'][df_agg_key]\n",
    "#-------------------------------------------------------------------------------------------------\n",
    "resampled_dfs_vlt_dict = AMINonVee.build_time_resampled_dfs(df_vlt_15T, base_freq='15T', freqs=freqs, \n",
    "                                           other_grouper_cols=other_grouper_cols, other_cols_to_keep=other_cols_to_keep, \n",
    "                                           build_agg_dfs=build_agg_dfs, time_col_for_agg=time_col_for_agg, \n",
    "                                           agg_cols=agg_cols, agg_types=agg_types, \n",
    "                                           other_cols_to_keep_agg=other_cols_to_keep_agg, mix_agg_functions=mix_agg_functions, \n",
    "                                           df_key=df_key, df_agg_key=df_agg_key)\n",
    "#-----\n",
    "assert(df_vlt_15T.equals(resampled_dfs_vlt_dict['15T'][df_key]))\n",
    "df_vlt_15T_mean = resampled_dfs_vlt_dict['15T'][df_agg_key]\n",
    "#-----\n",
    "df_vlt_H = resampled_dfs_vlt_dict['H'][df_key]\n",
    "df_vlt_H_mean = resampled_dfs_vlt_dict['H'][df_agg_key]\n",
    "#-----\n",
    "df_vlt_4H = resampled_dfs_vlt_dict['4H'][df_key]\n",
    "df_vlt_4H_mean = resampled_dfs_vlt_dict['4H'][df_agg_key]\n",
    "#-----\n",
    "df_vlt_D = resampled_dfs_vlt_dict['D'][df_key]\n",
    "df_vlt_D_mean = resampled_dfs_vlt_dict['D'][df_agg_key]\n",
    "#-----\n",
    "df_vlt_M = resampled_dfs_vlt_dict['MS'][df_key]\n",
    "df_vlt_M_mean = resampled_dfs_vlt_dict['MS'][df_agg_key]\n",
    "#-----"
   ]
  },
  {
   "cell_type": "code",
   "execution_count": null,
   "id": "cf314c62",
   "metadata": {},
   "outputs": [],
   "source": []
  },
  {
   "cell_type": "markdown",
   "id": "2c331208",
   "metadata": {},
   "source": [
    "# Convert out_t_beg_local and out_t_end_local to UTC"
   ]
  },
  {
   "cell_type": "code",
   "execution_count": null,
   "id": "6aca4a3f",
   "metadata": {},
   "outputs": [],
   "source": [
    "[out_t_beg, out_t_end] = Utilities_dt.determine_timezone_and_convert_local_to_utc_time([out_t_beg_local, out_t_end_local], \n",
    "                                                                                       pd.to_timedelta(df_kwh_15T['timezoneoffset'].unique()).tolist())"
   ]
  },
  {
   "cell_type": "code",
   "execution_count": null,
   "id": "d12b03b8",
   "metadata": {},
   "outputs": [],
   "source": []
  },
  {
   "cell_type": "markdown",
   "id": "b1fa0255",
   "metadata": {},
   "source": [
    "# 15-minute granularity"
   ]
  },
  {
   "cell_type": "code",
   "execution_count": null,
   "id": "05c85b62",
   "metadata": {},
   "outputs": [],
   "source": []
  },
  {
   "cell_type": "code",
   "execution_count": null,
   "id": "b8145498",
   "metadata": {},
   "outputs": [],
   "source": [
    "expand_time = datetime.timedelta(hours=4)\n",
    "fig, (ax0,ax1) = plt.subplots(2, 1, num=fig_num, figsize=[14, 12])\n",
    "plt.subplots_adjust(hspace=0.3)\n",
    "\n",
    "fig,ax0 = AMINonVee.plot_usage_around_outage(fig, ax0, data=df_kwh_15T, \n",
    "                                  x='endtimeperiod_utc', y='value', hue='serialnumber', \n",
    "                                  out_t_beg=out_t_beg, out_t_end=out_t_end, expand_time=expand_time, \n",
    "                                  title_args=dict(label=f'15-min Consumption (kWh) [expand time = {expand_time}]', fontsize=25), \n",
    "                                  df_mean=df_kwh_15T_mean, df_mean_col='value', mean_args=None, \n",
    "                                  draw_outage_limits=True, \n",
    "                                  ylabel_args = dict(ylabel='kWh', fontsize=20, x=0.0, y=0.8, ha='left', va='bottom'), \n",
    "                                  xlabel_args = dict(xlabel='', fontsize=0, x=0.9, y=0.0, ha='right', va='top'), \n",
    "                                  draw_without_hue_also=True)\n",
    "\n",
    "fig,ax1 = AMINonVee.plot_usage_around_outage(fig, ax1, data=df_vlt_15T, \n",
    "                                  x='endtimeperiod_utc', y='value', hue='serialnumber', \n",
    "                                  out_t_beg=out_t_beg, out_t_end=out_t_end, expand_time=expand_time, \n",
    "                                  title_args=dict(label=f'15-min Voltage (V) [expand time = {expand_time}]', fontsize=25), \n",
    "                                  df_mean=df_vlt_15T_mean, df_mean_col='value', mean_args=None, \n",
    "                                  draw_outage_limits=True, \n",
    "                                  ylabel_args = dict(ylabel='Voltage (V)', fontsize=20, x=0.0, y=0.8, ha='left', va='bottom'), \n",
    "                                  xlabel_args = dict(xlabel='Usage Start Time', fontsize=20, x=0.9, y=0.0, ha='right', va='top'), \n",
    "                                  draw_without_hue_also=True)\n",
    "fig_num +=1"
   ]
  },
  {
   "cell_type": "code",
   "execution_count": null,
   "id": "27048191",
   "metadata": {},
   "outputs": [],
   "source": [
    "df_kwh_15T_mean.columns"
   ]
  },
  {
   "cell_type": "code",
   "execution_count": null,
   "id": "5604c6be",
   "metadata": {},
   "outputs": [],
   "source": []
  },
  {
   "cell_type": "code",
   "execution_count": null,
   "id": "7b781a90",
   "metadata": {},
   "outputs": [],
   "source": [
    "expand_time = datetime.timedelta(hours=4)\n",
    "fig, (ax0,ax1) = plt.subplots(2, 1, num=fig_num, figsize=[14, 12])\n",
    "plt.subplots_adjust(hspace=0.3)\n",
    "\n",
    "fig,ax0 = AMINonVee.plot_usage_around_outage(fig, ax0, data=df_kwh_15T_mean, \n",
    "                                  x='endtimeperiod_utc', y='mean_mtrs value', hue=None, \n",
    "                                  out_t_beg=out_t_beg, out_t_end=out_t_end, expand_time=expand_time, \n",
    "                                  title_args=dict(label=f'15-min Average Consumption (kWh) [expand time = {expand_time}]', fontsize=25), \n",
    "                                  draw_outage_limits=True, \n",
    "                                  ylabel_args = dict(ylabel='kWh', fontsize=20, x=0.0, y=0.8, ha='left', va='bottom'), \n",
    "                                  xlabel_args = dict(xlabel='', fontsize=0, x=0.9, y=0.0, ha='right', va='top'))\n",
    "\n",
    "fig,ax1 = AMINonVee.plot_usage_around_outage(fig, ax1, data=df_vlt_15T_mean, \n",
    "                                  x='endtimeperiod_utc', y='mean_mtrs value', hue=None, \n",
    "                                  out_t_beg=out_t_beg, out_t_end=out_t_end, expand_time=expand_time, \n",
    "                                  title_args=dict(label=f'15-min Average Voltage (V) [expand time = {expand_time}]', fontsize=25), \n",
    "                                  draw_outage_limits=True, \n",
    "                                  ylabel_args = dict(ylabel='Voltage (V)', fontsize=20, x=0.0, y=0.8, ha='left', va='bottom'), \n",
    "                                  xlabel_args = dict(xlabel='Usage Start Time', fontsize=20, x=0.9, y=0.0, ha='right', va='top'))\n",
    "fig_num +=1"
   ]
  },
  {
   "cell_type": "code",
   "execution_count": null,
   "id": "081a6086",
   "metadata": {},
   "outputs": [],
   "source": [
    "expand_time = datetime.timedelta(hours=24)\n",
    "fig, (ax0,ax1) = plt.subplots(2, 1, num=fig_num, figsize=[14, 12])\n",
    "plt.subplots_adjust(hspace=0.3)\n",
    "\n",
    "fig,ax0 = AMINonVee.plot_usage_around_outage(fig, ax0, data=df_kwh_15T, \n",
    "                                  x='endtimeperiod_utc', y='value', hue='serialnumber', \n",
    "                                  out_t_beg=out_t_beg, out_t_end=out_t_end, expand_time=expand_time, \n",
    "                                  title_args=dict(label=f'15-min Consumption (kWh) [expand time = {expand_time}]', fontsize=25), \n",
    "                                  df_mean=df_kwh_15T_mean, df_mean_col='value', mean_args=None, \n",
    "                                  draw_outage_limits=True, \n",
    "                                  ylabel_args = dict(ylabel='kWh', fontsize=20, x=0.0, y=0.8, ha='left', va='bottom'), \n",
    "                                  xlabel_args = dict(xlabel='', fontsize=0, x=0.9, y=0.0, ha='right', va='top'), \n",
    "                                  draw_without_hue_also=True)\n",
    "\n",
    "fig,ax1 = AMINonVee.plot_usage_around_outage(fig, ax1, data=df_vlt_15T, \n",
    "                                  x='endtimeperiod_utc', y='value', hue='serialnumber', \n",
    "                                  out_t_beg=out_t_beg, out_t_end=out_t_end, expand_time=expand_time, \n",
    "                                  title_args=dict(label=f'15-min Voltage (V) [expand time = {expand_time}]', fontsize=25), \n",
    "                                  df_mean=df_vlt_15T_mean, df_mean_col='value', mean_args=None, \n",
    "                                  draw_outage_limits=True, \n",
    "                                  ylabel_args = dict(ylabel='Voltage (V)', fontsize=20, x=0.0, y=0.8, ha='left', va='bottom'), \n",
    "                                  xlabel_args = dict(xlabel='Usage Start Time', fontsize=20, x=0.9, y=0.0, ha='right', va='top'), \n",
    "                                  draw_without_hue_also=True)\n",
    "fig_num +=1"
   ]
  },
  {
   "cell_type": "code",
   "execution_count": null,
   "id": "0d5c08c5",
   "metadata": {},
   "outputs": [],
   "source": [
    "expand_time = datetime.timedelta(days=3)\n",
    "fig, (ax0,ax1) = plt.subplots(2, 1, num=fig_num, figsize=[14, 12])\n",
    "plt.subplots_adjust(hspace=0.3)\n",
    "\n",
    "fig,ax0 = AMINonVee.plot_usage_around_outage(fig, ax0, data=df_kwh_15T, \n",
    "                                  x='endtimeperiod_utc', y='value', hue='serialnumber', \n",
    "                                  out_t_beg=out_t_beg, out_t_end=out_t_end, expand_time=expand_time, \n",
    "                                  title_args=dict(label=f'15-min Consumption (kWh) [expand time = {expand_time}]', fontsize=25), \n",
    "                                  df_mean=df_kwh_15T_mean, df_mean_col='value', mean_args=None, \n",
    "                                  draw_outage_limits=True, \n",
    "                                  ylabel_args = dict(ylabel='kWh', fontsize=20, x=0.0, y=0.8, ha='left', va='bottom'), \n",
    "                                  xlabel_args = dict(xlabel='', fontsize=0, x=0.9, y=0.0, ha='right', va='top'), \n",
    "                                  draw_without_hue_also=True)\n",
    "\n",
    "fig,ax1 = AMINonVee.plot_usage_around_outage(fig, ax1, data=df_vlt_15T, \n",
    "                                  x='endtimeperiod_utc', y='value', hue='serialnumber', \n",
    "                                  out_t_beg=out_t_beg, out_t_end=out_t_end, expand_time=expand_time, \n",
    "                                  title_args=dict(label=f'15-min Voltage (V) [expand time = {expand_time}]', fontsize=25), \n",
    "                                  df_mean=df_vlt_15T_mean, df_mean_col='value', mean_args=None, \n",
    "                                  draw_outage_limits=True, \n",
    "                                  ylabel_args = dict(ylabel='Voltage (V)', fontsize=20, x=0.0, y=0.8, ha='left', va='bottom'), \n",
    "                                  xlabel_args = dict(xlabel='Usage Start Time', fontsize=20, x=0.9, y=0.0, ha='right', va='top'), \n",
    "                                  draw_without_hue_also=True)\n",
    "fig_num +=1"
   ]
  },
  {
   "cell_type": "code",
   "execution_count": null,
   "id": "1711af00",
   "metadata": {},
   "outputs": [],
   "source": [
    "expand_time = datetime.timedelta(days=3)\n",
    "fig, (ax0,ax1) = plt.subplots(2, 1, num=fig_num, figsize=[14, 12])\n",
    "plt.subplots_adjust(hspace=0.3)\n",
    "\n",
    "fig,ax0 = AMINonVee.plot_usage_around_outage(fig, ax0, data=df_kwh_15T_mean, \n",
    "                                  x='endtimeperiod_utc', y='mean_mtrs value', hue=None, \n",
    "                                  out_t_beg=out_t_beg, out_t_end=out_t_end, expand_time=expand_time, \n",
    "                                  title_args=dict(label=f'15-min Average Consumption (kWh) [expand time = {expand_time}]', fontsize=25), \n",
    "                                  draw_outage_limits=True, \n",
    "                                  ylabel_args = dict(ylabel='kWh', fontsize=20, x=0.0, y=0.8, ha='left', va='bottom'), \n",
    "                                  xlabel_args = dict(xlabel='', fontsize=0, x=0.9, y=0.0, ha='right', va='top'))\n",
    "\n",
    "fig,ax1 = AMINonVee.plot_usage_around_outage(fig, ax1, data=df_vlt_15T_mean, \n",
    "                                  x='endtimeperiod_utc', y='mean_mtrs value', hue=None, \n",
    "                                  out_t_beg=out_t_beg, out_t_end=out_t_end, expand_time=expand_time, \n",
    "                                  title_args=dict(label=f'15-min Average Voltage (V) [expand time = {expand_time}]', fontsize=25), \n",
    "                                  draw_outage_limits=True, \n",
    "                                  ylabel_args = dict(ylabel='Voltage (V)', fontsize=20, x=0.0, y=0.8, ha='left', va='bottom'), \n",
    "                                  xlabel_args = dict(xlabel='Usage Start Time', fontsize=20, x=0.9, y=0.0, ha='right', va='top'))\n",
    "fig_num +=1"
   ]
  },
  {
   "cell_type": "code",
   "execution_count": null,
   "id": "0affe7b2",
   "metadata": {},
   "outputs": [],
   "source": []
  },
  {
   "cell_type": "code",
   "execution_count": null,
   "id": "31bcdb6e",
   "metadata": {},
   "outputs": [],
   "source": [
    "expand_time = datetime.timedelta(days=14)\n",
    "fig, (ax0,ax1) = plt.subplots(2, 1, num=fig_num, figsize=[14, 12])\n",
    "plt.subplots_adjust(hspace=0.3)\n",
    "\n",
    "fig,ax0 = AMINonVee.plot_usage_around_outage(fig, ax0, data=df_kwh_15T_mean, \n",
    "                                  x='endtimeperiod_utc', y='mean_mtrs value', hue=None, \n",
    "                                  out_t_beg=out_t_beg, out_t_end=out_t_end, expand_time=expand_time, \n",
    "                                  title_args=dict(label=f'15-min Average Consumption (kWh) [expand time = {expand_time}]', fontsize=25), \n",
    "                                  draw_outage_limits=True, \n",
    "                                  ylabel_args = dict(ylabel='kWh', fontsize=20, x=0.0, y=0.8, ha='left', va='bottom'), \n",
    "                                  xlabel_args = dict(xlabel='', fontsize=0, x=0.9, y=0.0, ha='right', va='top'))\n",
    "\n",
    "fig,ax1 = AMINonVee.plot_usage_around_outage(fig, ax1, data=df_vlt_15T_mean, \n",
    "                                  x='endtimeperiod_utc', y='mean_mtrs value', hue=None, \n",
    "                                  out_t_beg=out_t_beg, out_t_end=out_t_end, expand_time=expand_time, \n",
    "                                  title_args=dict(label=f'15-min Average Voltage (V) [expand time = {expand_time}]', fontsize=25), \n",
    "                                  draw_outage_limits=True, \n",
    "                                  ylabel_args = dict(ylabel='Voltage (V)', fontsize=20, x=0.0, y=0.8, ha='left', va='bottom'), \n",
    "                                  xlabel_args = dict(xlabel='Usage Start Time', fontsize=20, x=0.9, y=0.0, ha='right', va='top'))\n",
    "fig_num +=1"
   ]
  },
  {
   "cell_type": "code",
   "execution_count": null,
   "id": "c9bb0a71",
   "metadata": {},
   "outputs": [],
   "source": []
  },
  {
   "cell_type": "code",
   "execution_count": null,
   "id": "0788a19e",
   "metadata": {},
   "outputs": [],
   "source": []
  },
  {
   "cell_type": "markdown",
   "id": "adfcef70",
   "metadata": {},
   "source": [
    "# Hour granularity"
   ]
  },
  {
   "cell_type": "code",
   "execution_count": null,
   "id": "e2955c88",
   "metadata": {},
   "outputs": [],
   "source": [
    "expand_time = datetime.timedelta(hours=24)\n",
    "fig, (ax0,ax1) = plt.subplots(2, 1, num=fig_num, figsize=[14, 12])\n",
    "plt.subplots_adjust(hspace=0.3)\n",
    "\n",
    "fig,ax0 = AMINonVee.plot_usage_around_outage(fig, ax0, data=df_kwh_H, \n",
    "                                  x='date', y='mean_TRS value', hue='serialnumber', \n",
    "                                  out_t_beg=out_t_beg, out_t_end=out_t_end, expand_time=expand_time, \n",
    "                                  title_args=dict(label=f'Hourly Consumption (kWh) [expand time = {expand_time}]', fontsize=25), \n",
    "                                  df_mean=df_kwh_H_mean, df_mean_col='value', mean_args=None, \n",
    "                                  draw_outage_limits=True, \n",
    "                                  ylabel_args = dict(ylabel='kWh', fontsize=20, x=0.0, y=0.8, ha='left', va='bottom'), \n",
    "                                  xlabel_args = dict(xlabel='', fontsize=0, x=0.9, y=0.0, ha='right', va='top'), \n",
    "                                  draw_without_hue_also=True)\n",
    "\n",
    "fig,ax1 = AMINonVee.plot_usage_around_outage(fig, ax1, data=df_vlt_H, \n",
    "                                  x='date', y='mean_TRS value', hue='serialnumber', \n",
    "                                  out_t_beg=out_t_beg, out_t_end=out_t_end, expand_time=expand_time, \n",
    "                                  title_args=dict(label=f'Hourly Voltage (V) [expand time = {expand_time}]', fontsize=25), \n",
    "                                  df_mean=df_vlt_H_mean, df_mean_col='value', mean_args=None, \n",
    "                                  draw_outage_limits=True, \n",
    "                                  ylabel_args = dict(ylabel='Voltage (V)', fontsize=20, x=0.0, y=0.8, ha='left', va='bottom'), \n",
    "                                  xlabel_args = dict(xlabel='Usage Start Time', fontsize=20, x=0.9, y=0.0, ha='right', va='top'), \n",
    "                                  draw_without_hue_also=True)\n",
    "fig_num +=1"
   ]
  },
  {
   "cell_type": "code",
   "execution_count": null,
   "id": "57f26539",
   "metadata": {},
   "outputs": [],
   "source": [
    "expand_time = datetime.timedelta(days=7)\n",
    "fig, (ax0,ax1) = plt.subplots(2, 1, num=fig_num, figsize=[14, 12])\n",
    "plt.subplots_adjust(hspace=0.3)\n",
    "\n",
    "fig,ax0 = AMINonVee.plot_usage_around_outage(fig, ax0, data=df_kwh_H, \n",
    "                                  x='date', y='mean_TRS value', hue='serialnumber', \n",
    "                                  out_t_beg=out_t_beg, out_t_end=out_t_end, expand_time=expand_time, \n",
    "                                  title_args=dict(label=f'Hourly Consumption (kWh) [expand time = {expand_time}]', fontsize=25), \n",
    "                                  df_mean=df_kwh_H_mean, df_mean_col='value', mean_args=None, \n",
    "                                  draw_outage_limits=True, \n",
    "                                  ylabel_args = dict(ylabel='kWh', fontsize=20, x=0.0, y=0.8, ha='left', va='bottom'), \n",
    "                                  xlabel_args = dict(xlabel='', fontsize=0, x=0.9, y=0.0, ha='right', va='top'), \n",
    "                                  draw_without_hue_also=True)\n",
    "\n",
    "fig,ax1 = AMINonVee.plot_usage_around_outage(fig, ax1, data=df_vlt_H, \n",
    "                                  x='date', y='mean_TRS value', hue='serialnumber', \n",
    "                                  out_t_beg=out_t_beg, out_t_end=out_t_end, expand_time=expand_time, \n",
    "                                  title_args=dict(label=f'Hourly Voltage (V) [expand time = {expand_time}]', fontsize=25), \n",
    "                                  df_mean=df_vlt_H_mean, df_mean_col='value', mean_args=None, \n",
    "                                  draw_outage_limits=True, \n",
    "                                  ylabel_args = dict(ylabel='Voltage (V)', fontsize=20, x=0.0, y=0.8, ha='left', va='bottom'), \n",
    "                                  xlabel_args = dict(xlabel='Usage Start Time', fontsize=20, x=0.9, y=0.0, ha='right', va='top'), \n",
    "                                  draw_without_hue_also=True)\n",
    "fig_num +=1"
   ]
  },
  {
   "cell_type": "code",
   "execution_count": null,
   "id": "a1b24f66",
   "metadata": {},
   "outputs": [],
   "source": [
    "df_kwh_4H.columns"
   ]
  },
  {
   "cell_type": "markdown",
   "id": "926e21d1",
   "metadata": {},
   "source": [
    "# 4-Hour granularity"
   ]
  },
  {
   "cell_type": "code",
   "execution_count": null,
   "id": "a5fa2170",
   "metadata": {},
   "outputs": [],
   "source": [
    "expand_time = datetime.timedelta(days=7)\n",
    "fig, (ax0,ax1) = plt.subplots(2, 1, num=fig_num, figsize=[14, 12])\n",
    "plt.subplots_adjust(hspace=0.3)\n",
    "\n",
    "fig,ax0 = AMINonVee.plot_usage_around_outage(fig, ax0, data=df_kwh_4H, \n",
    "                                  x='date', y='mean_TRS value', hue='serialnumber', \n",
    "                                  out_t_beg=out_t_beg, out_t_end=out_t_end, expand_time=expand_time, \n",
    "                                  title_args=dict(label=f'4-Hour Consumption (kWh) [expand time = {expand_time}]', fontsize=25), \n",
    "                                  df_mean=df_kwh_4H_mean, df_mean_col='value', mean_args=None, \n",
    "                                  draw_outage_limits=True, \n",
    "                                  ylabel_args = dict(ylabel='kWh', fontsize=20, x=0.0, y=0.8, ha='left', va='bottom'), \n",
    "                                  xlabel_args = dict(xlabel='', fontsize=0, x=0.9, y=0.0, ha='right', va='top'), \n",
    "                                  draw_without_hue_also=True)\n",
    "\n",
    "fig,ax1 = AMINonVee.plot_usage_around_outage(fig, ax1, data=df_vlt_4H, \n",
    "                                  x='date', y='mean_TRS value', hue='serialnumber', \n",
    "                                  out_t_beg=out_t_beg, out_t_end=out_t_end, expand_time=expand_time, \n",
    "                                  title_args=dict(label=f'4-Hour Voltage (V) [expand time = {expand_time}]', fontsize=25), \n",
    "                                  df_mean=df_vlt_4H_mean, df_mean_col='value', mean_args=None, \n",
    "                                  draw_outage_limits=True, \n",
    "                                  ylabel_args = dict(ylabel='Voltage (V)', fontsize=20, x=0.0, y=0.8, ha='left', va='bottom'), \n",
    "                                  xlabel_args = dict(xlabel='Usage Start Time', fontsize=20, x=0.9, y=0.0, ha='right', va='top'), \n",
    "                                  draw_without_hue_also=True)\n",
    "fig_num +=1"
   ]
  },
  {
   "cell_type": "code",
   "execution_count": null,
   "id": "817091ef",
   "metadata": {},
   "outputs": [],
   "source": []
  },
  {
   "cell_type": "markdown",
   "id": "20d0c9cc",
   "metadata": {},
   "source": [
    "# Daily granularity"
   ]
  },
  {
   "cell_type": "code",
   "execution_count": null,
   "id": "be4f5e61",
   "metadata": {},
   "outputs": [],
   "source": [
    "expand_time = datetime.timedelta(days=50)\n",
    "fig, (ax0,ax1) = plt.subplots(2, 1, num=fig_num, figsize=[14, 12])\n",
    "plt.subplots_adjust(hspace=0.3)\n",
    "\n",
    "\n",
    "fig,ax0 = AMINonVee.plot_usage_around_outage(fig, ax0, data=df_kwh_D, \n",
    "                                  x='date', y='mean_TRS value', hue='serialnumber', \n",
    "                                  out_t_beg=out_t_beg, out_t_end=out_t_end, expand_time=expand_time, \n",
    "                                  title_args=dict(label=f'Daily Consumption (kWh) [expand time = {expand_time}]', fontsize=25), \n",
    "                                  df_mean=df_kwh_D_mean, df_mean_col='value', mean_args=None, \n",
    "                                  draw_outage_limits=True, \n",
    "                                  ylabel_args = dict(ylabel='kWh', fontsize=20, x=0.0, y=0.8, ha='left', va='bottom'), \n",
    "                                  xlabel_args = dict(xlabel='Usage Start Time', fontsize=0, x=0.9, y=0.0, ha='right', va='top'), \n",
    "                                  draw_without_hue_also=True)\n",
    "\n",
    "fig,ax1 = AMINonVee.plot_usage_around_outage(fig, ax1, data=df_vlt_D, \n",
    "                                  x='date', y='mean_TRS value', hue='serialnumber', \n",
    "                                  out_t_beg=out_t_beg, out_t_end=out_t_end, expand_time=expand_time, \n",
    "                                  title_args=dict(label=f'Daily Voltage (V) [expand time = {expand_time}]', fontsize=25), \n",
    "                                  df_mean=df_vlt_D_mean, df_mean_col='value', mean_args=None, \n",
    "                                  draw_outage_limits=True, \n",
    "                                  ylabel_args = dict(ylabel='Voltage (V)', fontsize=20, x=0.0, y=0.5, ha='left', va='bottom'), \n",
    "                                  xlabel_args = dict(xlabel='Usage Start Time', fontsize=20, x=0.9, y=0.0, ha='right', va='top'), \n",
    "                                  draw_without_hue_also=True)\n",
    "fig_num +=1"
   ]
  },
  {
   "cell_type": "code",
   "execution_count": null,
   "id": "799321f9",
   "metadata": {},
   "outputs": [],
   "source": [
    "expand_time = datetime.timedelta(days=50)\n",
    "fig, (ax0,ax1) = plt.subplots(2, 1, num=fig_num, figsize=[14, 12])\n",
    "plt.subplots_adjust(hspace=0.3)\n",
    "\n",
    "\n",
    "fig,ax0 = AMINonVee.plot_usage_around_outage(fig, ax0, data=df_kwh_D, \n",
    "                                  x='date', y='mean_TRS value', hue=None, \n",
    "                                  out_t_beg=out_t_beg, out_t_end=out_t_end, expand_time=expand_time, \n",
    "                                  title_args=dict(label=f'Daily Average Consumption (kWh) [expand time = {expand_time}]', fontsize=25), \n",
    "                                  df_mean=df_kwh_D_mean, df_mean_col='value', mean_args=None, \n",
    "                                  draw_outage_limits=True, \n",
    "                                  ylabel_args = dict(ylabel='kWh', fontsize=20, x=0.0, y=0.8, ha='left', va='bottom'), \n",
    "                                  xlabel_args = dict(xlabel='Usage Start Time', fontsize=0, x=0.9, y=0.0, ha='right', va='top'), \n",
    "                                  draw_without_hue_also=True)\n",
    "\n",
    "fig,ax1 = AMINonVee.plot_usage_around_outage(fig, ax1, data=df_vlt_D, \n",
    "                                  x='date', y='mean_TRS value', hue=None, \n",
    "                                  out_t_beg=out_t_beg, out_t_end=out_t_end, expand_time=expand_time, \n",
    "                                  title_args=dict(label=f'Daily Average Voltage (V) [expand time = {expand_time}]', fontsize=25), \n",
    "                                  df_mean=df_vlt_D_mean, df_mean_col='value', mean_args=None, \n",
    "                                  draw_outage_limits=True, \n",
    "                                  ylabel_args = dict(ylabel='Voltage (V)', fontsize=20, x=0.0, y=0.5, ha='left', va='bottom'), \n",
    "                                  xlabel_args = dict(xlabel='Usage Start Time', fontsize=20, x=0.9, y=0.0, ha='right', va='top'), \n",
    "                                  draw_without_hue_also=True)\n",
    "fig_num +=1"
   ]
  },
  {
   "cell_type": "code",
   "execution_count": null,
   "id": "f9ba45d5",
   "metadata": {},
   "outputs": [],
   "source": []
  },
  {
   "cell_type": "code",
   "execution_count": null,
   "id": "fc83451d",
   "metadata": {},
   "outputs": [],
   "source": []
  },
  {
   "cell_type": "markdown",
   "id": "e467c51b",
   "metadata": {},
   "source": [
    "# Month granularity"
   ]
  },
  {
   "cell_type": "code",
   "execution_count": null,
   "id": "0ddfbf03",
   "metadata": {},
   "outputs": [],
   "source": [
    "expand_time = datetime.timedelta(days=365*10)\n",
    "fig, (ax0,ax1) = plt.subplots(2, 1, num=fig_num, figsize=[14, 12])\n",
    "plt.subplots_adjust(hspace=0.3)\n",
    "\n",
    "\n",
    "fig,ax0 = AMINonVee.plot_usage_around_outage(fig, ax0, data=df_kwh_M, \n",
    "                                  x='date', y='mean_TRS value', hue='serialnumber', \n",
    "                                  out_t_beg=out_t_beg, out_t_end=out_t_end, expand_time=expand_time, \n",
    "                                  title_args=dict(label=f'Monthly Consumption (kWh) [expand time = {expand_time}]', fontsize=25), \n",
    "                                  df_mean=df_kwh_M_mean, df_mean_col='value', mean_args=None, \n",
    "                                  draw_outage_limits=True, \n",
    "                                  ylabel_args = dict(ylabel='kWh', fontsize=20, x=0.0, y=0.8, ha='left', va='bottom'), \n",
    "                                  xlabel_args = dict(xlabel='Usage Start Time', fontsize=0, x=0.9, y=0.0, ha='right', va='top'), \n",
    "                                  draw_without_hue_also=True)\n",
    "\n",
    "fig,ax1 = AMINonVee.plot_usage_around_outage(fig, ax1, data=df_vlt_M, \n",
    "                                  x='date', y='mean_TRS value', hue='serialnumber', \n",
    "                                  out_t_beg=out_t_beg, out_t_end=out_t_end, expand_time=expand_time, \n",
    "                                  title_args=dict(label=f'Monthly Voltage (V) [expand time = {expand_time}]', fontsize=25), \n",
    "                                  df_mean=df_vlt_M_mean, df_mean_col='value', mean_args=None, \n",
    "                                  draw_outage_limits=True, \n",
    "                                  ylabel_args = dict(ylabel='Voltage (V)', fontsize=20, x=0.0, y=0.5, ha='left', va='bottom'), \n",
    "                                  xlabel_args = dict(xlabel='Usage Start Time', fontsize=20, x=0.9, y=0.0, ha='right', va='top'), \n",
    "                                  draw_without_hue_also=True)\n",
    "fig_num +=1"
   ]
  },
  {
   "cell_type": "code",
   "execution_count": null,
   "id": "8c2a5de4",
   "metadata": {},
   "outputs": [],
   "source": [
    "expand_time = datetime.timedelta(days=365*10)\n",
    "fig, (ax0,ax1) = plt.subplots(2, 1, num=fig_num, figsize=[14, 12])\n",
    "plt.subplots_adjust(hspace=0.3)\n",
    "\n",
    "\n",
    "fig,ax0 = AMINonVee.plot_usage_around_outage(fig, ax0, data=df_kwh_M, \n",
    "                                  x='date', y='mean_TRS value', hue=None, \n",
    "                                  out_t_beg=out_t_beg, out_t_end=out_t_end, expand_time=expand_time, \n",
    "                                  title_args=dict(label=f'Monthly Average Consumption (kWh) [expand time = {expand_time}]', fontsize=25), \n",
    "                                  df_mean=df_kwh_M_mean, df_mean_col='value', mean_args=None, \n",
    "                                  draw_outage_limits=True, \n",
    "                                  ylabel_args = dict(ylabel='kWh', fontsize=20, x=0.0, y=0.8, ha='left', va='bottom'), \n",
    "                                  xlabel_args = dict(xlabel='Usage Start Time', fontsize=0, x=0.9, y=0.0, ha='right', va='top'), \n",
    "                                  draw_without_hue_also=True)\n",
    "\n",
    "fig,ax1 = AMINonVee.plot_usage_around_outage(fig, ax1, data=df_vlt_M, \n",
    "                                  x='date', y='mean_TRS value', hue=None, \n",
    "                                  out_t_beg=out_t_beg, out_t_end=out_t_end, expand_time=expand_time, \n",
    "                                  title_args=dict(label=f'Monthly Average Voltage (V) [expand time = {expand_time}]', fontsize=25), \n",
    "                                  df_mean=df_vlt_M_mean, df_mean_col='value', mean_args=None, \n",
    "                                  draw_outage_limits=True, \n",
    "                                  ylabel_args = dict(ylabel='Voltage (V)', fontsize=20, x=0.0, y=0.5, ha='left', va='bottom'), \n",
    "                                  xlabel_args = dict(xlabel='Usage Start Time', fontsize=20, x=0.9, y=0.0, ha='right', va='top'), \n",
    "                                  draw_without_hue_also=True)\n",
    "fig_num +=1"
   ]
  },
  {
   "cell_type": "code",
   "execution_count": null,
   "id": "5c1bc713",
   "metadata": {},
   "outputs": [],
   "source": []
  },
  {
   "cell_type": "code",
   "execution_count": null,
   "id": "68bc6e66",
   "metadata": {},
   "outputs": [],
   "source": []
  },
  {
   "cell_type": "code",
   "execution_count": null,
   "id": "7541bd2f",
   "metadata": {},
   "outputs": [],
   "source": []
  },
  {
   "cell_type": "code",
   "execution_count": null,
   "id": "dc3c95c8",
   "metadata": {},
   "outputs": [],
   "source": []
  }
 ],
 "metadata": {
  "kernelspec": {
   "display_name": "Python 3 (ipykernel)",
   "language": "python",
   "name": "python3"
  },
  "language_info": {
   "codemirror_mode": {
    "name": "ipython",
    "version": 3
   },
   "file_extension": ".py",
   "mimetype": "text/x-python",
   "name": "python",
   "nbconvert_exporter": "python",
   "pygments_lexer": "ipython3",
   "version": "3.11.7"
  }
 },
 "nbformat": 4,
 "nbformat_minor": 5
}
