{
 "cells": [
  {
   "cell_type": "code",
   "execution_count": 6,
   "id": "5b0bc2ce",
   "metadata": {},
   "outputs": [],
   "source": [
    "import sys, os\n",
    "import re\n",
    "\n",
    "import pandas as pd\n",
    "import numpy as np\n",
    "\n",
    "#---------------------------------------------------------------------\n",
    "import matplotlib as mpl\n",
    "import matplotlib.pyplot as plt\n",
    "import seaborn as sns"
   ]
  },
  {
   "cell_type": "code",
   "execution_count": null,
   "id": "16b2fff0",
   "metadata": {},
   "outputs": [],
   "source": [
    "def get_standard_colors(n_colors, palette=None):\n",
    "    # colorblind has only 10 different colors\n",
    "    # If palette is None:\n",
    "    #   Use colorblind if n_colors < 10\n",
    "    #   Otherwise use husl (maybe should be Spectral?);\n",
    "    # Otherwise:\n",
    "    #   Use palette\n",
    "    if palette is None:\n",
    "        if n_colors <= 10:\n",
    "            colors = sns.color_palette('colorblind', n_colors)\n",
    "        else:\n",
    "            colors = sns.color_palette('husl', n_colors)\n",
    "    else:\n",
    "        colors = sns.color_palette(palette, n_colors)\n",
    "    return colors\n",
    "\n",
    "def get_standard_colors_dict(keys, palette=None):\n",
    "    n_colors = len(keys)\n",
    "    palette_dict = get_standard_colors(n_colors, palette)\n",
    "    palette_dict = {keys[i]:palette_dict[i] for i in range(n_colors)}\n",
    "    return palette_dict"
   ]
  },
  {
   "cell_type": "code",
   "execution_count": null,
   "id": "45e8feb3",
   "metadata": {},
   "outputs": [],
   "source": []
  },
  {
   "cell_type": "code",
   "execution_count": null,
   "id": "32314e37",
   "metadata": {},
   "outputs": [],
   "source": [
    "#Erica's functions\n",
    "def dist_cmi(df, district, percentage):\n",
    "    dist_df=df[df['District']==district]\n",
    "    total_cutouts=dist_df['Total Potential Porcelain Cutouts'].sum()\n",
    "    top_cutouts=round(percentage/100*total_cutouts,0)\n",
    "    threshold=100\n",
    "    new_df=dist_df[dist_df['final_score']==threshold]\n",
    "    while new_df['Total Potential Porcelain Cutouts'].sum()<=top_cutouts:\n",
    "        threshold-=.1\n",
    "        new_df=dist_df[dist_df['final_score']>=threshold]\n",
    "    return new_df\n",
    "def percent_cmi(df, district, percentage):\n",
    "    # Spot the error in the original line below!\n",
    "    #cutout_dist_df=dist_cmi(df, district, percent)\n",
    "    cutout_dist_df=dist_cmi(df, district, percentage)\n",
    "    percentage_cmi=cutout_dist_df['Total Circuit CMI'].sum()\n",
    "    all_dist_df=df[df['District']==district]\n",
    "    all_cmi=all_dist_df['Total Circuit CMI'].sum()\n",
    "    return percentage_cmi/all_cmi*100\n"
   ]
  },
  {
   "cell_type": "code",
   "execution_count": null,
   "id": "40379d67",
   "metadata": {},
   "outputs": [],
   "source": []
  },
  {
   "cell_type": "code",
   "execution_count": null,
   "id": "d34c98c4",
   "metadata": {},
   "outputs": [],
   "source": [
    "def dist_cmi_JB_0(df, district, percentage, district_col='District', ignore_warning=True, **kwargs):\n",
    "    # percentage INTENDED to be between 0 and 1, but using values\n",
    "    # Using values between 0 and 100 should work also (i.e., 20 instead of 0.20)\n",
    "    #   However, to avoid any confusion, it is suggested to stick to values between 0 and 1\n",
    "    # If percentage=1 is input, this will be interpreted as 100%\n",
    "    # To implement a 1% value, one would need to input percentage = 0.01\n",
    "    #------------------\n",
    "    # Unpack kwargs\n",
    "    # This simply makes the function more flexible.  If, in the future, your dataframe has different\n",
    "    #   column names, you can simply input the new names as arguments to the function.\n",
    "    district_col                   = kwargs.get('district_col', 'District')\n",
    "    final_score_col                = kwargs.get('final_score_col', 'final_score')\n",
    "    tot_potential_prcln_cutous_col = kwargs.get('tot_potential_prcln_cutous_col', \n",
    "                                                'Total Potential Porcelain Cutouts')\n",
    "    ignore_warning                 = kwargs.get('ignore_warning', False)\n",
    "    #------------------\n",
    "    if percentage>1:\n",
    "        if not ignore_warning:\n",
    "            print(f'percentage > 1!\\npercentage set equal to {percentage}\\nUsing value {percentage/100}')\n",
    "        percentage/=100\n",
    "    srtd_dist_df = df[df[district_col]==district].sort_values(by=[final_score_col], ascending=False)\n",
    "    srtd_dist_df['cumulative_percentage'] = (srtd_dist_df[tot_potential_prcln_cutous_col].cumsum()/\n",
    "                                             srtd_dist_df[tot_potential_prcln_cutous_col].sum())\n",
    "    return_df = srtd_dist_df[srtd_dist_df['cumulative_percentage']<=percentage] #+.015 with 20% to get Erica's results\n",
    "    return_df = return_df.drop(columns=['cumulative_percentage'])\n",
    "    return return_df\n",
    "\n",
    "\n",
    "def dist_cmi_JB(df, district, percentage, use_first_value_over_percentage=False, **kwargs):\n",
    "    # percentage INTENDED to be between 0 and 1, but using values\n",
    "    # Using values between 0 and 100 should work also (i.e., 20 instead of 0.20)\n",
    "    #   However, to avoid any confusion, it is suggested to stick to values between 0 and 1\n",
    "    # If percentage=1 is input, this will be interpreted as 100%\n",
    "    # To implement a 1% value, one would need to input percentage = 0.01\n",
    "    #\n",
    "    # use_first_value_over_percentage\n",
    "    #   If True, this will return the first value over percentage if there is no value\n",
    "    #     exactly equal to the value\n",
    "    #     I believe this should match the functionality of Erica's original code\n",
    "    #   If False, this will function like dist_cmi_JB_0, where percentage is a hard maximum,\n",
    "    #     and only entries with values less than it will be returned\n",
    "    #------------------\n",
    "    # Unpack kwargs\n",
    "    # This simply makes the function more flexible.  If, in the future, your dataframe has different\n",
    "    #   column names, you can simply input the new names as arguments to the function.\n",
    "    district_col                   = kwargs.get('district_col', 'District')\n",
    "    final_score_col                = kwargs.get('final_score_col', 'final_score')\n",
    "    tot_potential_prcln_cutous_col = kwargs.get('tot_potential_prcln_cutous_col', \n",
    "                                                'Total Potential Porcelain Cutouts')\n",
    "    ignore_warning                 = kwargs.get('ignore_warning', False)\n",
    "    cumu_pct_col                   = kwargs.get('cumu_pct_col', 'cumulative_percentage')\n",
    "    drop_cumu_pct_col              = kwargs.get('drop_cumu_pct_col', True)\n",
    "    #------------------\n",
    "    if percentage>1:\n",
    "        if not ignore_warning:\n",
    "            print(f'percentage > 1!\\npercentage set equal to {percentage}\\nUsing value {percentage/100}')\n",
    "        percentage/=100\n",
    "    srtd_dist_df = df[df[district_col]==district].sort_values(by=[final_score_col], ascending=False)\n",
    "    srtd_dist_df[cumu_pct_col] = (srtd_dist_df[tot_potential_prcln_cutous_col].cumsum()/\n",
    "                                             srtd_dist_df[tot_potential_prcln_cutous_col].sum())\n",
    "    return_df = srtd_dist_df[srtd_dist_df[cumu_pct_col]<=percentage]\n",
    "    #------------------\n",
    "    # Below, cumulative_percentage is monotonically increasing by definition, which is why\n",
    "    #   grabbing the index location is fine\n",
    "    # NOTE!!!! Order matters in or statement below\n",
    "    #          If return_df is empty, return_df.iloc[-1][cumu_pct_col]<percentage will throw an error\n",
    "    #          Therefore, return_df.shape[0]==0 must be evaluated first\n",
    "    if (use_first_value_over_percentage and \n",
    "        (return_df.shape[0]==0 or return_df.iloc[-1][cumu_pct_col]<percentage)):\n",
    "        next_val = srtd_dist_df.iloc[return_df.shape[0]][cumu_pct_col]\n",
    "        # This handles the unlikely case that the next 2 or more entries have the exact same cumulative_percentage\n",
    "        #   This could only occur if the tot_potential_prcln_cutous_col values for these rows equals 0\n",
    "        #   In this case, all sharing the cumulative_percentage value will be appended\n",
    "        #  In probably every case, there will only be one additional row appended\n",
    "        to_append = srtd_dist_df[srtd_dist_df[cumu_pct_col]==next_val]\n",
    "        return_df = return_df.append(to_append)\n",
    "    #------------------\n",
    "    if drop_cumu_pct_col:\n",
    "        return_df = return_df.drop(columns=[cumu_pct_col])\n",
    "    return return_df"
   ]
  },
  {
   "cell_type": "code",
   "execution_count": null,
   "id": "c656e3ca",
   "metadata": {},
   "outputs": [],
   "source": [
    "def percent_cmi_JB(df, district, percentage, use_first_value_over_percentage=False, **kwargs):\n",
    "    #------------------\n",
    "    # Unpack kwargs\n",
    "    district_col                   = kwargs.get('district_col', 'District')\n",
    "    tot_cir_cmi_col                = kwargs.get('tot_cir_cmi_col', 'Total Circuit CMI')\n",
    "    #------------------\n",
    "    dist_df = df[df[district_col]==district]\n",
    "    cmi_tot = dist_df[tot_cir_cmi_col].sum()\n",
    "    # NOTE: dist_df fed into dist_cmi_JB instead of df\n",
    "    #       Can still feed df and get same result, but feeding\n",
    "    #       it dist_df should save memory and time\n",
    "    dist_df_i = dist_cmi_JB(dist_df, district, percentage, use_first_value_over_percentage, **kwargs)\n",
    "    cmi_i = dist_df_i[tot_cir_cmi_col].sum()\n",
    "    if cmi_tot==0:\n",
    "        assert(cmi_i==0)\n",
    "        return 0\n",
    "    else:\n",
    "        return 100.0*cmi_i/cmi_tot"
   ]
  },
  {
   "cell_type": "code",
   "execution_count": null,
   "id": "0ff8f767",
   "metadata": {},
   "outputs": [],
   "source": []
  },
  {
   "cell_type": "code",
   "execution_count": null,
   "id": "a94b6013",
   "metadata": {},
   "outputs": [],
   "source": [
    "erica_df = pd.read_csv(r'C:\\Users\\s346557\\Documents\\erica_df.csv')\n",
    "# NOTE: Is this what you want?\n",
    "erica_df = erica_df.dropna(subset=['final_score'])"
   ]
  },
  {
   "cell_type": "markdown",
   "id": "918fd909",
   "metadata": {},
   "source": [
    "# Compare dist_cmi to dist_cmi_JB"
   ]
  },
  {
   "cell_type": "code",
   "execution_count": null,
   "id": "0c920364",
   "metadata": {},
   "outputs": [],
   "source": [
    "district_col = 'District'\n",
    "final_score_col = 'final_score'\n",
    "tot_potential_prcln_cutous_col = 'Total Potential Porcelain Cutouts'\n",
    "\n",
    "district='Athens'\n",
    "percentage= 10"
   ]
  },
  {
   "cell_type": "code",
   "execution_count": null,
   "id": "01e12f3d",
   "metadata": {},
   "outputs": [],
   "source": [
    "df = erica_df.copy()\n",
    "df_dist_cmi_EP = dist_cmi(df, district, percentage)\n",
    "df_dist_cmi_JB_0 = dist_cmi_JB_0(df, district, percentage)\n",
    "df_dist_cmi_JB_0_v2 = dist_cmi_JB(df, district, percentage)\n",
    "df_dist_cmi_JB = dist_cmi_JB(df, district, percentage, use_first_value_over_percentage=True)"
   ]
  },
  {
   "cell_type": "code",
   "execution_count": null,
   "id": "2fb8fde2",
   "metadata": {},
   "outputs": [],
   "source": [
    "print('df_dist_cmi_EP == df_dist_cmi_JB?')\n",
    "print(df_dist_cmi_EP.sort_values(by=['Circuit'], ignore_index=True).equals(df_dist_cmi_JB.sort_values(by=['Circuit'], ignore_index=True)))"
   ]
  },
  {
   "cell_type": "code",
   "execution_count": null,
   "id": "05122204",
   "metadata": {},
   "outputs": [],
   "source": [
    "print('df_dist_cmi_JB_0 == df_dist_cmi_JB_0_v2?')\n",
    "print(df_dist_cmi_JB_0.sort_values(by=['Circuit'], ignore_index=True).equals(df_dist_cmi_JB_0_v2.sort_values(by=['Circuit'], ignore_index=True)))"
   ]
  },
  {
   "cell_type": "code",
   "execution_count": null,
   "id": "cad6554e",
   "metadata": {},
   "outputs": [],
   "source": [
    "print('Compare methods')\n",
    "for district in erica_df['District'].unique():\n",
    "    print(f'{district}:')\n",
    "    print(f\"\"\"\n",
    "    Erica's method:               {percent_cmi(erica_df, district, percentage)}\n",
    "    JB (use_first_over...=True):  {percent_cmi_JB(erica_df, district, percentage, use_first_value_over_percentage=True, ignore_warning=True)}\n",
    "    JB (use_first_over...=False): {percent_cmi_JB(erica_df, district, percentage, use_first_value_over_percentage=False, ignore_warning=True)}\n",
    "    \"\"\")"
   ]
  },
  {
   "cell_type": "markdown",
   "id": "06ab5672",
   "metadata": {},
   "source": [
    "# Walk through dist_cmi_JB"
   ]
  },
  {
   "cell_type": "code",
   "execution_count": null,
   "id": "b725c3ef",
   "metadata": {},
   "outputs": [],
   "source": [
    "district_col = 'District'\n",
    "final_score_col = 'final_score'\n",
    "tot_potential_prcln_cutous_col = 'Total Potential Porcelain Cutouts'\n",
    "ignore_warning = False\n",
    "use_first_value_over_percentage = False\n",
    "\n",
    "district='Athens'\n",
    "percentage= 10\n",
    "percentage= 0.10\n",
    "\n",
    "\n",
    "if percentage>1:\n",
    "    if not ignore_warning:\n",
    "        print(f'percentage > 1!\\npercentage set equal to {percentage}\\nUsing value {percentage/100}')\n",
    "    percentage/=100\n",
    "srtd_dist_df = df[df[district_col]==district].sort_values(by=[final_score_col], ascending=False)\n",
    "srtd_dist_df['cumulative_percentage'] = (srtd_dist_df[tot_potential_prcln_cutous_col].cumsum()/\n",
    "                                         srtd_dist_df[tot_potential_prcln_cutous_col].sum())\n",
    "return_df = srtd_dist_df[srtd_dist_df['cumulative_percentage']<=percentage]\n",
    "#------------------\n",
    "# Below, cumulative_percentage is monotonically increasing by definition, which is why\n",
    "#   grabbing the index location is fine\n",
    "if use_first_value_over_percentage and return_df.iloc[-1]['cumulative_percentage']<percentage:\n",
    "    next_val = srtd_dist_df.iloc[return_df.shape[0]]['cumulative_percentage']\n",
    "    # This handles the unlikely case that the next 2 or more entries have the exact same cumulative_percentage\n",
    "    #   This could only occur if the tot_potential_prcln_cutous_col values for these rows equals 0\n",
    "    #   In this case, all sharing the cumulative_percentage value will be appended\n",
    "    #  In probably every case, there will only be one additional row appended\n",
    "    to_append = srtd_dist_df[srtd_dist_df['cumulative_percentage']==next_val]\n",
    "    return_df = return_df.append(to_append)\n",
    "#------------------\n",
    "return_df = return_df.drop(columns=['cumulative_percentage'])"
   ]
  },
  {
   "cell_type": "code",
   "execution_count": null,
   "id": "2880f2a2",
   "metadata": {},
   "outputs": [],
   "source": []
  },
  {
   "cell_type": "code",
   "execution_count": null,
   "id": "8dfdb39c",
   "metadata": {},
   "outputs": [],
   "source": []
  },
  {
   "cell_type": "code",
   "execution_count": null,
   "id": "4728e7b5",
   "metadata": {},
   "outputs": [],
   "source": []
  },
  {
   "cell_type": "markdown",
   "id": "3afadf6e",
   "metadata": {},
   "source": [
    "# Build Plotting DataFrame"
   ]
  },
  {
   "cell_type": "markdown",
   "id": "e43f3ed7",
   "metadata": {},
   "source": [
    "### Original idea, new_df below, good for visual inspection by human eye\n",
    "### But, not so great for utilization in barplot/lineplot methods"
   ]
  },
  {
   "cell_type": "code",
   "execution_count": null,
   "id": "c7988c23",
   "metadata": {},
   "outputs": [],
   "source": [
    "fig_num = 0\n",
    "percents = np.linspace(0,1,11)\n",
    "percents = percents[1:]  #Exclude pct=0, which is trivially 0 for all\n",
    "districts = erica_df['District'].unique().tolist()\n",
    "new_df = pd.DataFrame(columns=['cutoff_pct']+districts)\n",
    "print(new_df)\n",
    "print(percents)"
   ]
  },
  {
   "cell_type": "code",
   "execution_count": null,
   "id": "a66fd9aa",
   "metadata": {},
   "outputs": [],
   "source": []
  },
  {
   "cell_type": "code",
   "execution_count": null,
   "id": "e6f2c361",
   "metadata": {},
   "outputs": [],
   "source": [
    "for pct in percents:\n",
    "    col_dict = {'cutoff_pct':pct}\n",
    "    for district in districts:\n",
    "        assert(district not in col_dict)\n",
    "        col_dict[district] = percent_cmi_JB(erica_df, district, pct)\n",
    "    new_df=new_df.append(col_dict, ignore_index=True)\n",
    "new_df"
   ]
  },
  {
   "cell_type": "code",
   "execution_count": null,
   "id": "73fd645c",
   "metadata": {},
   "outputs": [],
   "source": []
  },
  {
   "cell_type": "code",
   "execution_count": null,
   "id": "6ce8762c",
   "metadata": {},
   "outputs": [],
   "source": []
  },
  {
   "cell_type": "markdown",
   "id": "a8ef98b0",
   "metadata": {},
   "source": [
    "### plot_df. below, better suited for plotting"
   ]
  },
  {
   "cell_type": "code",
   "execution_count": null,
   "id": "1e970e15",
   "metadata": {},
   "outputs": [],
   "source": [
    "plot_df = pd.DataFrame(columns=['pct_cutoff', 'district', 'value'])\n",
    "for pct in percents:\n",
    "    for district in districts:\n",
    "        plot_df = plot_df.append({'pct_cutoff':100*pct, \n",
    "                                  'district':district, \n",
    "                                  'value':percent_cmi_JB(erica_df, district, pct)}, \n",
    "                                 ignore_index=True)\n",
    "plot_df['pct_cutoff'] =  plot_df['pct_cutoff'].round(1)\n",
    "#plot_df()"
   ]
  },
  {
   "cell_type": "code",
   "execution_count": null,
   "id": "21512da5",
   "metadata": {},
   "outputs": [],
   "source": []
  },
  {
   "cell_type": "code",
   "execution_count": null,
   "id": "0a7b7de4",
   "metadata": {},
   "outputs": [],
   "source": []
  },
  {
   "cell_type": "code",
   "execution_count": null,
   "id": "2eaf14bf",
   "metadata": {},
   "outputs": [],
   "source": [
    "colors_dict_districts = get_standard_colors_dict(districts)\n",
    "colors_dict_pct_cutoffs = get_standard_colors_dict(plot_df['pct_cutoff'].unique())"
   ]
  },
  {
   "cell_type": "code",
   "execution_count": null,
   "id": "0f9b8364",
   "metadata": {},
   "outputs": [],
   "source": []
  },
  {
   "cell_type": "code",
   "execution_count": null,
   "id": "1040d00b",
   "metadata": {},
   "outputs": [],
   "source": [
    "fig,ax = plt.subplots(1, 1, num=fig_num, figsize=[14, 6])\n",
    "plot_df[plot_df['pct_cutoff']==10.0].plot.bar(ax=ax, x='district', y='value')\n",
    "fig_num += 1"
   ]
  },
  {
   "cell_type": "code",
   "execution_count": null,
   "id": "6c1a0e5c",
   "metadata": {},
   "outputs": [],
   "source": []
  },
  {
   "cell_type": "code",
   "execution_count": null,
   "id": "a6645210",
   "metadata": {},
   "outputs": [],
   "source": [
    "sns.barplot(x='district', y='value', data=plot_df[plot_df['pct_cutoff']==10.0], palette=colors_dict_districts)"
   ]
  },
  {
   "cell_type": "code",
   "execution_count": null,
   "id": "f567c66c",
   "metadata": {},
   "outputs": [],
   "source": []
  },
  {
   "cell_type": "code",
   "execution_count": null,
   "id": "a5f4014e",
   "metadata": {},
   "outputs": [],
   "source": [
    "fig,ax = plt.subplots(1, 1, num=fig_num, figsize=[14, 6])\n",
    "sns.barplot(ax=ax, x='district', y='value', hue='pct_cutoff', data=plot_df)\n",
    "fig_num+=1"
   ]
  },
  {
   "cell_type": "code",
   "execution_count": null,
   "id": "4c20018a",
   "metadata": {},
   "outputs": [],
   "source": []
  },
  {
   "cell_type": "code",
   "execution_count": null,
   "id": "f831ed5d",
   "metadata": {},
   "outputs": [],
   "source": [
    "def handle_and_apply_formattings_args(ax, draw_legend, kwargs):\n",
    "    title_args  = kwargs.get('title_args', None)\n",
    "    ax_args     = kwargs.get('ax_args', None)\n",
    "    xlabel_args = kwargs.get('xlabel_args', None)\n",
    "    ylabel_args = kwargs.get('ylabel_args', None)\n",
    "    legend_args = kwargs.get('legend_args', None)\n",
    "    tick_args = kwargs.get('tick_args', None)\n",
    "    # Note: tick_args can be a dict or a list\n",
    "    #       Making it a list allows operations on both x and y\n",
    "    #       e.g. tick_args =[dict(axis='x', labelrotation=90, labelsize=7.0, direction='in'), \n",
    "    #                        dict(axis='y', labelrotation=0, labelsize=10.0, direction='out')]\n",
    "    #----------------------------\n",
    "    if isinstance(title_args, str):\n",
    "        title_args = dict(label=title_args)\n",
    "    if title_args is not None:\n",
    "        ax.set_title(**title_args)\n",
    "    #----------------------------\n",
    "    if ax_args is not None:\n",
    "        ax.set(**ax_args)\n",
    "    if xlabel_args is not None:\n",
    "        ax.set_xlabel(**xlabel_args)\n",
    "    if ylabel_args is not None:\n",
    "        ax.set_ylabel(**ylabel_args)\n",
    "    if tick_args is not None:\n",
    "        if isinstance(tick_args, dict):\n",
    "            tick_args = [tick_args]\n",
    "        for t_args in tick_args:\n",
    "            ax.tick_params(**t_args)\n",
    "    #---------------------------\n",
    "    if not draw_legend:\n",
    "        if ax.legend_:\n",
    "            ax.legend_.remove()\n",
    "    else:\n",
    "        if legend_args is None:\n",
    "            ax.legend()\n",
    "        else:\n",
    "            ax.legend(**legend_args)\n",
    "    #---------------------------"
   ]
  },
  {
   "cell_type": "code",
   "execution_count": null,
   "id": "ded0ede9",
   "metadata": {},
   "outputs": [],
   "source": []
  },
  {
   "cell_type": "code",
   "execution_count": null,
   "id": "4cbe054b",
   "metadata": {},
   "outputs": [],
   "source": [
    "def build_plot_for_erica(ax, df, x_col, y_col, hue, \n",
    "                         draw_legend=True, barplot_kwargs=None, \n",
    "                         **kwargs):\n",
    "    #---------------------------\n",
    "    if barplot_kwargs is None:\n",
    "        barplot_kwargs = {}\n",
    "    #---------------------------\n",
    "    # These should only be arguments accepted by sns.barplot\n",
    "    barplot_kwargs['palette'] = barplot_kwargs.get('palette', None)\n",
    "    #---------------------------\n",
    "    sns.barplot(ax=ax, x=x_col, y=y_col, hue=hue, data=df, **barplot_kwargs)\n",
    "    #----------------------------\n",
    "    handle_and_apply_formattings_args(ax=ax, draw_legend=draw_legend, kwargs=kwargs)"
   ]
  },
  {
   "cell_type": "code",
   "execution_count": null,
   "id": "53cf2894",
   "metadata": {},
   "outputs": [],
   "source": [
    "fig,ax = plt.subplots(1, 1, num=fig_num, figsize=[14, 6])\n",
    "sns.barplot(ax=ax, x='pct_cutoff', y='value', hue='district', data=plot_df, palette=colors_dict_districts)\n",
    "fig_num+=1"
   ]
  },
  {
   "cell_type": "code",
   "execution_count": null,
   "id": "509095cf",
   "metadata": {},
   "outputs": [],
   "source": []
  },
  {
   "cell_type": "code",
   "execution_count": null,
   "id": "9d91fb61",
   "metadata": {},
   "outputs": [],
   "source": [
    "fig,ax = plt.subplots(1, 1, num=fig_num, figsize=[14, 6])\n",
    "build_plot_for_erica(ax=ax, df=plot_df, x_col='pct_cutoff', y_col='value', hue='district', \n",
    "                     draw_legend=True, legend_args=dict(fontsize=15, title='District', title_fontsize=15), \n",
    "                     barplot_kwargs= dict(palette=colors_dict_districts), \n",
    "                     title_args=dict(label=f'% CMI Avoided After Replacing Cutouts', fontsize=22.5), \n",
    "                     ylabel_args = dict(ylabel=f'% CMI', fontsize=20, x=0.0, y=0.8, ha='left', va='bottom'), \n",
    "                     xlabel_args = dict(xlabel='% Cutouts Replaced', fontsize=20, x=0.9, y=0.0, ha='right', va='top'), \n",
    "                     tick_args=[dict(axis='x', labelrotation=90, labelsize=15), \n",
    "                                dict(axis='y', labelsize=15)])\n",
    "fig_num += 1"
   ]
  },
  {
   "cell_type": "code",
   "execution_count": null,
   "id": "a85c3955",
   "metadata": {},
   "outputs": [],
   "source": []
  },
  {
   "cell_type": "code",
   "execution_count": null,
   "id": "0898173d",
   "metadata": {},
   "outputs": [],
   "source": []
  },
  {
   "cell_type": "code",
   "execution_count": null,
   "id": "b214557e",
   "metadata": {},
   "outputs": [],
   "source": []
  },
  {
   "cell_type": "code",
   "execution_count": null,
   "id": "d59cd064",
   "metadata": {},
   "outputs": [],
   "source": [
    "# Using husl palette instead of dict\n",
    "fig,ax = plt.subplots(1, 1, num=fig_num, figsize=[14, 6])\n",
    "build_plot_for_erica(ax=ax, df=plot_df, x_col='pct_cutoff', y_col='value', hue='district', \n",
    "                     draw_legend=True, legend_args=dict(fontsize=15, title='District', title_fontsize=15), \n",
    "                     barplot_kwargs= dict(palette='husl'), \n",
    "                     title_args=dict(label=f'% CMI Avoided After Replacing Cutouts', fontsize=22.5), \n",
    "                     ylabel_args = dict(ylabel=f'% CMI', fontsize=20, x=0.0, y=0.8, ha='left', va='bottom'), \n",
    "                     xlabel_args = dict(xlabel='% Cutouts Replaced', fontsize=20, x=0.9, y=0.0, ha='right', va='top'), \n",
    "                     tick_args=[dict(axis='x', labelrotation=90, labelsize=15), \n",
    "                                dict(axis='y', labelsize=15)])\n",
    "fig_num += 1"
   ]
  },
  {
   "cell_type": "code",
   "execution_count": null,
   "id": "a99b55f5",
   "metadata": {},
   "outputs": [],
   "source": []
  },
  {
   "cell_type": "code",
   "execution_count": null,
   "id": "fd186cc7",
   "metadata": {},
   "outputs": [],
   "source": []
  },
  {
   "cell_type": "code",
   "execution_count": null,
   "id": "50aa6f30",
   "metadata": {},
   "outputs": [],
   "source": []
  },
  {
   "cell_type": "code",
   "execution_count": null,
   "id": "8c402e25",
   "metadata": {},
   "outputs": [],
   "source": [
    "0.125"
   ]
  },
  {
   "cell_type": "code",
   "execution_count": null,
   "id": "5df1c7d0",
   "metadata": {},
   "outputs": [],
   "source": [
    "fig,ax = plt.subplots(1, 1, num=fig_num, figsize=[14, 6])\n",
    "plt.subplots_adjust(right=0.80, bottom=0.25, left=0.075)\n",
    "build_plot_for_erica(ax=ax, df=plot_df, x_col='district', y_col='value', hue='pct_cutoff', \n",
    "                     draw_legend=True, legend_args=dict(fontsize=15, bbox_to_anchor=(1,1), title='% Cutouts Replaced', title_fontsize=15), \n",
    "                     barplot_kwargs= dict(palette=colors_dict_pct_cutoffs), \n",
    "                     title_args=dict(label=f'% CMI Avoided After Replacing Cutouts', fontsize=22.5), \n",
    "                     ylabel_args = dict(ylabel=f'% CMI', fontsize=20, x=0.0, y=0.8, ha='left', va='bottom'), \n",
    "                     xlabel_args = dict(xlabel='% Cutouts Replaced', fontsize=20, x=0.9, y=0.0, ha='right', va='top'), \n",
    "                     tick_args=[dict(axis='x', labelrotation=90, labelsize=15), \n",
    "                                dict(axis='y', labelsize=15)])\n",
    "fig_num += 1\n",
    "fig.savefig(r'C:\\Users\\s346557\\Downloads\\test.pdf')"
   ]
  },
  {
   "cell_type": "code",
   "execution_count": null,
   "id": "4520549e",
   "metadata": {},
   "outputs": [],
   "source": []
  },
  {
   "cell_type": "code",
   "execution_count": null,
   "id": "defa062a",
   "metadata": {},
   "outputs": [],
   "source": [
    "pct_cutoff = 10.0\n",
    "fig,ax = plt.subplots(1, 1, num=fig_num, figsize=[14, 6])\n",
    "build_plot_for_erica(ax=ax, df=plot_df[plot_df['pct_cutoff']==pct_cutoff], x_col='district', y_col='value', hue=None, \n",
    "                     draw_legend=False, \n",
    "                     barplot_kwargs= dict(palette=colors_dict_districts), \n",
    "                     title_args=dict(label=f'% CMI Avoided After Replacing Cutouts', fontsize=22.5), \n",
    "                     ylabel_args = dict(ylabel=f'% CMI', fontsize=20, x=0.0, y=0.8, ha='left', va='bottom'), \n",
    "                     xlabel_args = dict(xlabel='% Cutouts Replaced', fontsize=20, x=0.9, y=0.0, ha='right', va='top'), \n",
    "                     tick_args=[dict(axis='x', labelrotation=90, labelsize=15), \n",
    "                                dict(axis='y', labelsize=15)])\n",
    "fig_num += 1"
   ]
  },
  {
   "cell_type": "code",
   "execution_count": null,
   "id": "a54135e2",
   "metadata": {},
   "outputs": [],
   "source": []
  },
  {
   "cell_type": "code",
   "execution_count": null,
   "id": "547c6c1b",
   "metadata": {},
   "outputs": [],
   "source": [
    "order = plot_df['district'].unique().tolist()\n",
    "#order = sorted(plot_df['district'].unique().tolist())\n",
    "\n",
    "fig,axs = plt.subplots(5, 2, num=fig_num, figsize=[28, 30], sharex=False, sharey=False) #14,6 for 1x1\n",
    "plt.subplots_adjust(top=0.945, hspace=0.75)\n",
    "axs = axs.flatten()\n",
    "assert(len(axs)==plot_df['pct_cutoff'].nunique())\n",
    "for i,pct_cutoff in enumerate(plot_df['pct_cutoff'].unique()):\n",
    "    build_plot_for_erica(ax=axs[i], df=plot_df[plot_df['pct_cutoff']==pct_cutoff], x_col='district', y_col='value', hue=None, \n",
    "                         draw_legend=False, \n",
    "                         barplot_kwargs= dict(order=order, palette=colors_dict_districts), \n",
    "                         title_args=dict(label=f'{pct_cutoff}% Cutouts Replaced', fontsize=22.5), \n",
    "                         ylabel_args = dict(ylabel=f'% CMI', fontsize=20, x=0.0, y=0.8, ha='left', va='bottom'), \n",
    "                         xlabel_args = dict(xlabel='% Cutouts Replaced', fontsize=20, x=0.9, y=0.0, ha='right', va='top'), \n",
    "                         tick_args=[dict(axis='x', labelrotation=45, labelsize=15), \n",
    "                                    dict(axis='y', labelsize=15)], \n",
    "                         ax_args = dict(ylim=[0,100]))\n",
    "fig.suptitle('% CMI Avoided After Replacing Cutouts', fontsize=25, fontweight='bold');\n",
    "fig_num += 1"
   ]
  },
  {
   "cell_type": "code",
   "execution_count": null,
   "id": "5a85deae",
   "metadata": {},
   "outputs": [],
   "source": []
  },
  {
   "cell_type": "code",
   "execution_count": null,
   "id": "d49f89fe",
   "metadata": {},
   "outputs": [],
   "source": []
  },
  {
   "cell_type": "code",
   "execution_count": null,
   "id": "80d60dca",
   "metadata": {},
   "outputs": [],
   "source": []
  },
  {
   "cell_type": "code",
   "execution_count": null,
   "id": "e81f5537",
   "metadata": {},
   "outputs": [],
   "source": [
    "def build_lineplot_for_erica(ax, df, x_col, y_col, hue=None, \n",
    "                         draw_legend=False, lineplot_kwargs=None, \n",
    "                         **kwargs):\n",
    "    #---------------------------\n",
    "    if lineplot_kwargs is None:\n",
    "        lineplot_kwargs = {}\n",
    "    #---------------------------\n",
    "    # These should only be arguments accepted by sns.barplot\n",
    "    lineplot_kwargs['palette'] = lineplot_kwargs.get('palette', None)\n",
    "    #---------------------------\n",
    "    sns.lineplot(ax=ax, x=x_col, y=y_col, hue=hue, data=df, **lineplot_kwargs)\n",
    "    #----------------------------\n",
    "    handle_and_apply_formattings_args(ax=ax, draw_legend=draw_legend, kwargs=kwargs)    "
   ]
  },
  {
   "cell_type": "code",
   "execution_count": null,
   "id": "69957aed",
   "metadata": {},
   "outputs": [],
   "source": [
    "fig,ax = plt.subplots(1, 1, num=fig_num, figsize=[14, 6])\n",
    "build_lineplot_for_erica(ax=ax, df=plot_df, x_col='pct_cutoff', y_col='value', hue='district', \n",
    "                     draw_legend=True, \n",
    "                     lineplot_kwargs= dict(markers=True, style='district'), \n",
    "                     title_args=dict(label=f'% CMI Avoided After Replacing Cutouts', fontsize=22.5), \n",
    "                     ylabel_args = dict(ylabel=f'% CMI', fontsize=20, x=0.0, y=0.8, ha='left', va='bottom'), \n",
    "                     xlabel_args = dict(xlabel='% Cutouts Replaced', fontsize=20, x=0.9, y=0.0, ha='right', va='top'), \n",
    "                     tick_args=[dict(axis='x', labelrotation=90, labelsize=15), \n",
    "                                dict(axis='y', labelsize=15)])\n",
    "fig_num += 1"
   ]
  },
  {
   "cell_type": "code",
   "execution_count": null,
   "id": "14a42717",
   "metadata": {},
   "outputs": [],
   "source": []
  },
  {
   "cell_type": "code",
   "execution_count": null,
   "id": "b8ecb51d",
   "metadata": {},
   "outputs": [],
   "source": []
  },
  {
   "cell_type": "code",
   "execution_count": null,
   "id": "c0d094cc",
   "metadata": {},
   "outputs": [],
   "source": []
  },
  {
   "cell_type": "code",
   "execution_count": null,
   "id": "7a62a767",
   "metadata": {},
   "outputs": [],
   "source": []
  }
 ],
 "metadata": {
  "kernelspec": {
   "display_name": "Python 3 (ipykernel)",
   "language": "python",
   "name": "python3"
  },
  "language_info": {
   "codemirror_mode": {
    "name": "ipython",
    "version": 3
   },
   "file_extension": ".py",
   "mimetype": "text/x-python",
   "name": "python",
   "nbconvert_exporter": "python",
   "pygments_lexer": "ipython3",
   "version": "3.9.7"
  }
 },
 "nbformat": 4,
 "nbformat_minor": 5
}
