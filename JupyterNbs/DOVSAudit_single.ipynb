{
 "cells": [
  {
   "cell_type": "code",
   "execution_count": null,
   "id": "3672ef77",
   "metadata": {},
   "outputs": [],
   "source": [
    "from importlib import reload\n",
    "#---------------------------------------------------------------------\n",
    "import sys, os\n",
    "import pandas as pd\n",
    "\n",
    "#---------------------------------------------------------------------\n",
    "sys.path.insert(0, os.path.realpath('..'))\n",
    "import Utilities_config\n",
    "#-----\n",
    "from AMINonVee_SQL import AMINonVee_SQL\n",
    "from AMIEndEvents_SQL import AMIEndEvents_SQL\n",
    "#-----\n",
    "from DOVSAudit import DOVSAudit\n",
    "#---------------------------------------------------------------------\n",
    "sys.path.insert(0, Utilities_config.get_sql_aids_dir())\n",
    "#---------------------------------------------------------------------\n",
    "sys.path.insert(0, Utilities_config.get_utilities_dir())"
   ]
  },
  {
   "cell_type": "code",
   "execution_count": null,
   "id": "f070a3ad-f61e-436b-94b4-0ffac5966510",
   "metadata": {},
   "outputs": [],
   "source": [
    "#--------------------------------------------------\n",
    "# NOTE: opco is not absolutely necessary, but highly suggested\n",
    "#       Running data grabs is much more efficient with OPCO, and, if you don't use OPCO frequently\n",
    "#         you will be contacted by Cloud Computing\n",
    "#       If one does not want to use opco, simply set opco = None below\n",
    "#-------------------------\n",
    "# outg_rec_nb = '14318196'\n",
    "# opco        = 'oh'\n",
    "\n",
    "# outg_rec_nb = '14344224'\n",
    "# opco        = 'ap'\n",
    "\n",
    "outg_rec_nb = '14348865'\n",
    "opco        = 'ap'"
   ]
  },
  {
   "cell_type": "code",
   "execution_count": null,
   "id": "138c7362-f568-4254-b68c-2ca12ee6689e",
   "metadata": {},
   "outputs": [],
   "source": [
    "#--------------------------------------------------\n",
    "calculate_by_PN               = True\n",
    "combine_by_PN_likeness_thresh = pd.Timedelta('15 minutes')\n",
    "expand_outg_search_time_tight = pd.Timedelta('1 hours')\n",
    "expand_outg_search_time_loose = pd.Timedelta('12 hours')\n",
    "use_est_outg_times            = False\n",
    "use_full_ede_outgs            = False\n",
    "daq_search_time_window        = pd.Timedelta('24 hours')\n",
    "#-------------------------\n",
    "run_outg_inclusion_assessment = True\n",
    "max_pct_PNs_missing_allowed   = 0\n",
    "#-------------------------\n",
    "n_PNs_w_power_threshold       = 95\n",
    "#-------------------------\n",
    "#-------------------------\n",
    "include_suboutg_endpt_plots   = True"
   ]
  },
  {
   "cell_type": "code",
   "execution_count": null,
   "id": "c9ce79f2-8032-44a2-b61a-d0d8fd10925b",
   "metadata": {},
   "outputs": [],
   "source": []
  },
  {
   "cell_type": "code",
   "execution_count": null,
   "id": "bdeb34e7",
   "metadata": {
    "scrolled": true
   },
   "outputs": [],
   "source": [
    "#--------------------------------------------------\n",
    "audit_i = DOVSAudit(\n",
    "    outg_rec_nb                   = outg_rec_nb, \n",
    "    opco                          = opco, \n",
    "    calculate_by_PN               = calculate_by_PN, \n",
    "    combine_by_PN_likeness_thresh = combine_by_PN_likeness_thresh, \n",
    "    expand_outg_search_time_tight = expand_outg_search_time_tight, \n",
    "    expand_outg_search_time_loose = expand_outg_search_time_loose, \n",
    "    use_est_outg_times            = use_est_outg_times, \n",
    "    use_full_ede_outgs            = use_full_ede_outgs, \n",
    "    daq_search_time_window        = daq_search_time_window, \n",
    ")\n",
    "\n",
    "#-------------------------\n",
    "audit_i.build_basic_data(\n",
    "    slicers_ami                   = None, \n",
    "    build_sql_fncn_ami            = AMINonVee_SQL.build_sql_usg, \n",
    "    addtnl_build_sql_kwargs_ami   = None, \n",
    "    run_std_init_ami              = True, \n",
    "    save_args_ami                 = False, \n",
    "    #-----\n",
    "    build_sql_fncn_ede            = AMIEndEvents_SQL.build_sql_end_events, \n",
    "    addtnl_build_sql_kwargs_ede   = None, \n",
    "    pdpu_only                     = True, \n",
    "    run_std_init_ede              = True, \n",
    "    save_args_ede                 = False, \n",
    "    #-----\n",
    "    dovs_df                       = None, \n",
    "    assert_outg_rec_nb_in_dovs_df = True, \n",
    "    #-----\n",
    "    mp_df                         = None, \n",
    "    mp_df_outg_rec_nb_col         = 'OUTG_REC_NB', \n",
    "    #-----\n",
    "    drop_mp_dups_fuzziness        = pd.Timedelta('1 hour'), \n",
    "    addtnl_mp_df_cols             = ['technology_tx'], \n",
    "    assert_all_PNs_found          = True, \n",
    "    consolidate_PNs_batch_size    = 1000, \n",
    "    early_return                  = False, \n",
    "    \n",
    ")\n",
    "\n",
    "#-------------------------\n",
    "run_result = audit_i.run_audit(\n",
    "    run_outg_inclusion_assessment = run_outg_inclusion_assessment, \n",
    "    max_pct_PNs_missing_allowed   = max_pct_PNs_missing_allowed, \n",
    ")"
   ]
  },
  {
   "cell_type": "code",
   "execution_count": null,
   "id": "482b59d9-b904-4d5a-857d-04915b6dc8b6",
   "metadata": {},
   "outputs": [],
   "source": [
    "run_result"
   ]
  },
  {
   "cell_type": "code",
   "execution_count": null,
   "id": "ee75f888-b494-47ec-bb73-6f73ea4bcdc7",
   "metadata": {},
   "outputs": [],
   "source": [
    "audit_i.best_ests_df"
   ]
  },
  {
   "cell_type": "code",
   "execution_count": null,
   "id": "16020d51-a033-45c6-8693-0e51157b0880",
   "metadata": {},
   "outputs": [],
   "source": [
    "#--------------------------------------------------\n",
    "detailed_summary_df_i, detailed_summary_df_dovs_beg_i = audit_i.get_detailed_summary_df_and_dovs_beg(\n",
    "    delta_t_off_cut = pd.Timedelta('5min'), \n",
    "    delta_t_on_cut  = pd.Timedelta('5min'), \n",
    "    delta_ci_cut    = 3, \n",
    "    delta_cmi_cut   = None, \n",
    "    n_PNs_w_power_threshold = n_PNs_w_power_threshold, \n",
    ")"
   ]
  },
  {
   "cell_type": "code",
   "execution_count": null,
   "id": "c5c45c51-ceff-4ead-86b5-110338c4d106",
   "metadata": {},
   "outputs": [],
   "source": [
    "detailed_summary_df_i"
   ]
  },
  {
   "cell_type": "code",
   "execution_count": null,
   "id": "120dfc23-bc45-45c4-897f-a0ed17d331d6",
   "metadata": {},
   "outputs": [],
   "source": [
    "detailed_summary_df_dovs_beg_i"
   ]
  },
  {
   "cell_type": "code",
   "execution_count": null,
   "id": "0c0782d7-4f72-4e0b-bbf5-35147d268425",
   "metadata": {},
   "outputs": [],
   "source": [
    "ci_cmi_summary_df_i = audit_i.get_ci_cmi_summary(return_type = pd.DataFrame)\n",
    "ci_cmi_summary_df_i"
   ]
  },
  {
   "cell_type": "code",
   "execution_count": null,
   "id": "e8a84eea-3ac9-4f62-b2af-a4bf95812642",
   "metadata": {},
   "outputs": [],
   "source": []
  },
  {
   "cell_type": "code",
   "execution_count": null,
   "id": "cf992e01",
   "metadata": {},
   "outputs": [],
   "source": [
    "fig_num = 0\n",
    "#--------------------------------------------------\n",
    "fig, axs = audit_i.plot_results(\n",
    "    include_dovs_beg_text      = True, \n",
    "    name                       = 'AMI', \n",
    "    expand_time                = pd.Timedelta('1 hour'), \n",
    "    n_PNs_w_power_threshold    = n_PNs_w_power_threshold, \n",
    "    fig_num                    = fig_num\n",
    ")\n",
    "fig_num += 1"
   ]
  },
  {
   "cell_type": "code",
   "execution_count": null,
   "id": "fa3ceeb4-d08b-44d7-9f62-247f33540ec9",
   "metadata": {},
   "outputs": [],
   "source": [
    "fig, axs = audit_i.plot_results_dovs_beg(\n",
    "    include_full_alg_text      = True, \n",
    "    name                       = 'AMI w/ DOVS t_beg', \n",
    "    expand_time                = pd.Timedelta('1 hour'), \n",
    "    n_PNs_w_power_threshold    = n_PNs_w_power_threshold, \n",
    "    fig_num                    = fig_num\n",
    ")\n",
    "fig_num += 1"
   ]
  },
  {
   "cell_type": "code",
   "execution_count": null,
   "id": "dfa88a81-66d1-42dc-944b-ae3eb2d37e8a",
   "metadata": {},
   "outputs": [],
   "source": [
    "if include_suboutg_endpt_plots:\n",
    "    fig_axs = audit_i.plot_zoomed_endpts(\n",
    "        fig_num     = fig_num\n",
    "    )\n",
    "    fig_num += 1"
   ]
  },
  {
   "cell_type": "code",
   "execution_count": null,
   "id": "68adcf90-e59e-4301-9982-665d8d3ca283",
   "metadata": {},
   "outputs": [],
   "source": [
    "audit_i.best_ests_df"
   ]
  },
  {
   "cell_type": "code",
   "execution_count": null,
   "id": "3109511a-884d-4674-a8a6-4ed0f4e69980",
   "metadata": {},
   "outputs": [],
   "source": [
    "audit_i.best_ests_df_w_keep_info"
   ]
  },
  {
   "cell_type": "code",
   "execution_count": null,
   "id": "e477d7de-994c-49a8-ae00-b5cf2bfcdb97",
   "metadata": {},
   "outputs": [],
   "source": [
    "# audit_i.best_ests_df_w_keep_info.to_pickle(r'C:\\Users\\s346557\\Downloads\\we.pkl')"
   ]
  },
  {
   "cell_type": "code",
   "execution_count": null,
   "id": "bd14b30c-24d4-4d63-810e-e46b302c358f",
   "metadata": {},
   "outputs": [],
   "source": []
  },
  {
   "cell_type": "code",
   "execution_count": null,
   "id": "ca13d660-cbd0-4afa-a6a5-b8af34fe2f44",
   "metadata": {},
   "outputs": [],
   "source": [
    "audit_i.best_ests_df.head(1)"
   ]
  },
  {
   "cell_type": "code",
   "execution_count": null,
   "id": "185dd61a-80dd-40e4-be42-c02982bb194e",
   "metadata": {},
   "outputs": [],
   "source": [
    "audit_i.best_ests_df_w_keep_info"
   ]
  },
  {
   "cell_type": "code",
   "execution_count": null,
   "id": "6837fb32-5f38-45b3-903b-14b98af24e56",
   "metadata": {},
   "outputs": [],
   "source": [
    "# audit_i.best_ests_df_w_keep_info['resolved_details'].unique().tolist()"
   ]
  },
  {
   "cell_type": "code",
   "execution_count": null,
   "id": "955b8ea7-0828-400a-8d9a-a9559b8f1a2a",
   "metadata": {},
   "outputs": [],
   "source": []
  },
  {
   "cell_type": "code",
   "execution_count": null,
   "id": "d0651364-5acc-4240-8e36-34a389630e96",
   "metadata": {},
   "outputs": [],
   "source": [
    "print(audit_i.generate_warnings_text())"
   ]
  },
  {
   "cell_type": "code",
   "execution_count": null,
   "id": "f8d9c470-2d6c-4dcf-b3f4-84c2546d7471",
   "metadata": {},
   "outputs": [],
   "source": [
    "audit_i.warnings_dict"
   ]
  },
  {
   "cell_type": "code",
   "execution_count": null,
   "id": "7b05fb34-ea1c-4d0c-bd1b-f2259a8881eb",
   "metadata": {},
   "outputs": [],
   "source": []
  }
 ],
 "metadata": {
  "kernelspec": {
   "display_name": "Python 3 (ipykernel)",
   "language": "python",
   "name": "python3"
  },
  "language_info": {
   "codemirror_mode": {
    "name": "ipython",
    "version": 3
   },
   "file_extension": ".py",
   "mimetype": "text/x-python",
   "name": "python",
   "nbconvert_exporter": "python",
   "pygments_lexer": "ipython3",
   "version": "3.11.7"
  }
 },
 "nbformat": 4,
 "nbformat_minor": 5
}
