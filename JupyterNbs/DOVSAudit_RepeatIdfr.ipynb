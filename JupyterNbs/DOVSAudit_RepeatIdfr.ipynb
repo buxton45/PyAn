{
 "cells": [
  {
   "cell_type": "code",
   "execution_count": null,
   "id": "f1d9dc36",
   "metadata": {},
   "outputs": [],
   "source": [
    "from importlib import reload\n",
    "import sys, os\n",
    "import re\n",
    "from pathlib import Path\n",
    "import pickle\n",
    "\n",
    "import pandas as pd\n",
    "import numpy as np\n",
    "from pandas.api.types import is_numeric_dtype, is_datetime64_dtype, is_timedelta64_dtype\n",
    "from scipy import stats\n",
    "import datetime\n",
    "import time\n",
    "from natsort import natsorted, ns, natsort_keygen\n",
    "from packaging import version\n",
    "\n",
    "import copy\n",
    "import itertools\n",
    "import adjustText\n",
    "\n",
    "import pyodbc\n",
    "\n",
    "import matplotlib.pyplot as plt\n",
    "from matplotlib.backends.backend_pdf import PdfPages\n",
    "import matplotlib.dates as mdates\n",
    "from matplotlib.collections import PolyCollection\n",
    "import matplotlib.patheffects as pe\n",
    "\n",
    "#---------------------------------------------------------------------\n",
    "sys.path.insert(0, os.path.realpath('..'))\n",
    "import Utilities_config\n",
    "#-----\n",
    "from DOVSOutages_SQL import DOVSOutages_SQL\n",
    "from DOVSOutages import DOVSOutages\n",
    "from DOVSRepeatFinder import DOVSRepeatFinder\n",
    "#---------------------------------------------------------------------\n",
    "sys.path.insert(0, Utilities_config.get_sql_aids_dir())\n",
    "import Utilities_sql\n",
    "import TableInfos\n",
    "from TableInfos import TableInfo\n",
    "#---------------------------------------------------------------------\n",
    "sys.path.insert(0, Utilities_config.get_utilities_dir())\n",
    "import Utilities\n",
    "import Utilities_df\n",
    "from Utilities_df import DFConstructType\n",
    "import Plot_General\n",
    "#---------------------------------------------------------------------"
   ]
  },
  {
   "cell_type": "code",
   "execution_count": null,
   "id": "7997d5eb-f6cf-4063-a8d9-06306de71a78",
   "metadata": {},
   "outputs": [],
   "source": [
    "date_0 = '2025-01-05'\n",
    "date_1 = '2025-01-11'\n",
    "#-------------------------\n",
    "states      = None\n",
    "opcos       = None\n",
    "CI_NB_min   = None\n",
    "premise_nbs = None\n",
    "#--------------------------------------------------\n",
    "save_dir_base = r'C:\\Users\\s346557\\Documents\\LocalData\\dovs_check'\n",
    "save_subdir   = f\"{date_0.replace('-','')}_{date_1.replace('-','')}\"\n",
    "#-----\n",
    "save_dir      = os.path.join(save_dir_base, save_subdir, r'AllOPCOs\\DRFResults')\n",
    "if not os.path.exists(save_dir):\n",
    "    os.makedirs(save_dir)"
   ]
  },
  {
   "cell_type": "code",
   "execution_count": null,
   "id": "305ab526-28e8-4f34-9546-6b0e99777d64",
   "metadata": {},
   "outputs": [],
   "source": [
    "#--------------------------------------------------\n",
    "start = time.time()\n",
    "drf = DOVSRepeatFinder(\n",
    "    mjr_mnr_cause   = None, \n",
    "    date_range      = [date_0, date_1], \n",
    "    states          = states, \n",
    "    opcos           = opcos, \n",
    "    CI_NB_min       = CI_NB_min,\n",
    "    premise_nbs     = premise_nbs\n",
    ")\n",
    "print(time.time()-start)"
   ]
  },
  {
   "cell_type": "code",
   "execution_count": null,
   "id": "a5c5209f-5241-43b2-a00c-fe5d40425c1f",
   "metadata": {},
   "outputs": [],
   "source": [
    "figaxs = drf.visualize_outages_general(\n",
    "    max_delta_t          = pd.Timedelta('1days'), \n",
    "    mdates_loc           = None,  \n",
    "    determine_mdates_loc = True, \n",
    "    outg_rec_nb_txt      = True, \n",
    "    y_col                = 'y', \n",
    "    overlap_grp_col      = 'overlap_grp', \n",
    "    t_beg_col            = 'DT_OFF_TS_FULL', \n",
    "    t_end_col            = 'DT_ON_TS', \n",
    "    outg_rec_nb_col      = 'OUTG_REC_NB', \n",
    "    x_tick_rot           = 90, \n",
    "    fig_num              = 0, \n",
    "    max_y_per_plot       = 20, \n",
    "    hard_max_y           = True, \n",
    "    save_path            = None, \n",
    "    close_all_figures    = False\n",
    ")"
   ]
  },
  {
   "cell_type": "code",
   "execution_count": null,
   "id": "7e902df2-a363-4f47-b497-62a238729638",
   "metadata": {},
   "outputs": [],
   "source": [
    "drf.output_results(\n",
    "    save_dir   = save_dir, \n",
    "    append_tag = save_subdir\n",
    ")"
   ]
  },
  {
   "cell_type": "code",
   "execution_count": null,
   "id": "8d98c7df-767f-4eea-8aed-dc6eb8e29aa2",
   "metadata": {},
   "outputs": [],
   "source": [
    "assert(0)"
   ]
  },
  {
   "cell_type": "code",
   "execution_count": null,
   "id": "0d0064f4-7d2f-41fc-8bee-4085d661be8e",
   "metadata": {},
   "outputs": [],
   "source": [
    "# fig_num = 0\n",
    "# for PN_i in drf.dovs_df['PREMISE_NB'].unique().tolist()[20:30]:\n",
    "#     fig,axs = drf.visualize_outages_for_PN(PN=PN_i, fig_num=fig_num)\n",
    "#     fig_num+=1"
   ]
  },
  {
   "cell_type": "code",
   "execution_count": null,
   "id": "a457b89b-c179-42d4-8266-7cf70c3949ea",
   "metadata": {},
   "outputs": [],
   "source": [
    "figaxs = drf.visualize_outages_general(max_y_per_plot=20, save_path=r'C:\\Users\\s346557\\Downloads\\DRF_TEST_1.pdf')"
   ]
  },
  {
   "cell_type": "code",
   "execution_count": null,
   "id": "97e1eec2-3158-4502-8e6c-65e46f728195",
   "metadata": {},
   "outputs": [],
   "source": []
  },
  {
   "cell_type": "code",
   "execution_count": null,
   "id": "a8aa24b5-31ea-4bc2-acf0-9a959c127249",
   "metadata": {},
   "outputs": [],
   "source": []
  },
  {
   "cell_type": "code",
   "execution_count": null,
   "id": "b5b3df6c-bfd9-487a-885c-a1bcbbe7cba2",
   "metadata": {},
   "outputs": [],
   "source": [
    "import bottleneck"
   ]
  },
  {
   "cell_type": "code",
   "execution_count": null,
   "id": "2b8352a0-3f95-467c-aee6-d046f241fe64",
   "metadata": {},
   "outputs": [],
   "source": [
    "np.__version__"
   ]
  },
  {
   "cell_type": "code",
   "execution_count": null,
   "id": "67b3cb97-0224-46e9-9d90-ac27d658470f",
   "metadata": {},
   "outputs": [],
   "source": []
  },
  {
   "cell_type": "code",
   "execution_count": null,
   "id": "cbfe9db8-fbbf-42a6-9921-1ca723730ac2",
   "metadata": {},
   "outputs": [],
   "source": []
  },
  {
   "cell_type": "code",
   "execution_count": null,
   "id": "d688976d-110b-469c-a505-8ef18fc35b8c",
   "metadata": {},
   "outputs": [],
   "source": [
    "states=None\n",
    "opcos=None\n",
    "CI_NB_min=None\n",
    "premise_nbs=['028585286']\n",
    "#--------------------------------------------------\n",
    "start = time.time()\n",
    "drf_2 = DOVSRepeatFinder(\n",
    "    mjr_mnr_cause   = None, \n",
    "    date_range      = None, \n",
    "    states          = states, \n",
    "    opcos           = opcos, \n",
    "    CI_NB_min       = CI_NB_min,\n",
    "    premise_nbs     = premise_nbs\n",
    ")\n",
    "print(time.time()-start)"
   ]
  },
  {
   "cell_type": "code",
   "execution_count": null,
   "id": "284aa3b0-ed66-4e57-9956-19e14897a005",
   "metadata": {},
   "outputs": [],
   "source": [
    "fig,axs = drf_2.visualize_outages_for_PN(PN='028585286', mdates_loc = mdates.YearLocator(), max_delta_t=None)"
   ]
  },
  {
   "cell_type": "code",
   "execution_count": null,
   "id": "bbf38b71-11f5-4410-8908-b5fc5fabf308",
   "metadata": {},
   "outputs": [],
   "source": [
    "fig,axs = drf_2.visualize_outages_for_PN(PN='028585286')"
   ]
  },
  {
   "cell_type": "code",
   "execution_count": null,
   "id": "96617a1b-28d4-47fb-96dd-617ee086381c",
   "metadata": {},
   "outputs": [],
   "source": []
  },
  {
   "cell_type": "code",
   "execution_count": null,
   "id": "7d471309-9f9b-467b-8bd6-9d2dd05f5a76",
   "metadata": {},
   "outputs": [],
   "source": [
    "fig,axs = drf_2.visualize_outages_general()"
   ]
  },
  {
   "cell_type": "code",
   "execution_count": null,
   "id": "859ececc-b6af-4fec-bda2-b516de7f4170",
   "metadata": {},
   "outputs": [],
   "source": [
    "df = drf_2.dovs_gen_df.copy()\n",
    "max_delta_t=max_delta_t\n",
    "pd_beg_col='DT_OFF_TS_FULL'\n",
    "pd_end_col='DT_ON_TS'\n",
    "grp_by_col='overlap_grp'"
   ]
  },
  {
   "cell_type": "code",
   "execution_count": null,
   "id": "489c421d-7600-494a-a744-9fdf6808e94c",
   "metadata": {},
   "outputs": [],
   "source": [
    "idk_0 = DOVSRepeatFinder.get_break_pt_idx_groups(\n",
    "    df=df.copy(), \n",
    "    max_delta_t=max_delta_t, \n",
    "    pd_beg_col=pd_beg_col,\n",
    "    pd_end_col=pd_end_col\n",
    ")"
   ]
  },
  {
   "cell_type": "code",
   "execution_count": null,
   "id": "8c982df5-de2c-42b6-946a-3e6c2a8add63",
   "metadata": {},
   "outputs": [],
   "source": [
    "idk_1 = get_break_pt_idx_groups_NEW(\n",
    "    df=df.copy(), \n",
    "    max_delta_t=max_delta_t, \n",
    "    pd_beg_col=pd_beg_col,\n",
    "    pd_end_col=pd_end_col, \n",
    "    grp_by_col='overlap_grp'\n",
    ")"
   ]
  },
  {
   "cell_type": "code",
   "execution_count": null,
   "id": "b14e9341-9dc6-4b10-8f6d-46d5160e1578",
   "metadata": {},
   "outputs": [],
   "source": [
    "len(idk_0['idx_grps'])"
   ]
  },
  {
   "cell_type": "code",
   "execution_count": null,
   "id": "01ca5bfe-0edc-45ec-9c40-dd360fa97bd2",
   "metadata": {},
   "outputs": [],
   "source": [
    "len(idk_1['idx_grps'])"
   ]
  },
  {
   "cell_type": "code",
   "execution_count": null,
   "id": "488b96ad-c119-40e4-aa01-c8005e5ada88",
   "metadata": {},
   "outputs": [],
   "source": [
    "df"
   ]
  },
  {
   "cell_type": "code",
   "execution_count": null,
   "id": "bfbebe00-efda-4bf4-a9c5-cdccb03a42e2",
   "metadata": {},
   "outputs": [],
   "source": []
  },
  {
   "cell_type": "code",
   "execution_count": null,
   "id": "af0e1ece-4dfc-4b27-b95d-f674c694a224",
   "metadata": {},
   "outputs": [],
   "source": []
  },
  {
   "cell_type": "code",
   "execution_count": null,
   "id": "bf990102-d885-4779-871f-2bd4cc3f8e47",
   "metadata": {},
   "outputs": [],
   "source": [
    "    if grp_by_col is None:\n",
    "        if pd_end_col is None:\n",
    "            break_pt_bool_srs = df.reset_index()[pd_beg_col].diff(periods=1)>max_delta_t\n",
    "        else:\n",
    "            break_pt_bool_srs = (df.reset_index()[pd_beg_col]-df.reset_index().shift(1)[pd_end_col])>max_delta_t\n",
    "        #-----\n",
    "        break_pt_bool_srs.iloc[0]=True\n",
    "    \n",
    "        #-------------------------\n",
    "        # Now, form the groups of indices which will go in each subplot\n",
    "        idx_grps = []\n",
    "        grp_i    = []\n",
    "        for idx_i, bool_i in break_pt_bool_srs.items():\n",
    "            if bool_i==True:\n",
    "                if len(grp_i)>0:\n",
    "                    idx_grps.append(grp_i)\n",
    "                grp_i = []\n",
    "            grp_i.append(idx_i)\n",
    "        # Last group needs to be explicitly added\n",
    "        assert(grp_i not in idx_grps) # Sanity check\n",
    "        idx_grps.append(grp_i)\n",
    "    #--------------------------------------------------\n",
    "    else:\n",
    "        # Create a temporary iloc column to store index location of rows\n",
    "        tmp_iloc_col = Utilities.generate_random_string()\n",
    "        assert(tmp_iloc_col not in df.columns.tolist())\n",
    "        df[tmp_iloc_col] = range(df.shape[0])\n",
    "        #-------------------------\n",
    "        reduced_df = df.groupby([grp_by_col])[df.columns].apply(\n",
    "            lambda x: pd.Series(\n",
    "                data  = [x[pd_beg_col].min(), x[pd_end_col].max(), list(x[tmp_iloc_col])], \n",
    "                index = [pd_beg_col, pd_end_col, 'idxs_in_grp']\n",
    "            )\n",
    "        )\n",
    "        reduced_df = reduced_df.sort_values(by=[pd_beg_col, pd_end_col])\n",
    "        #-------------------------\n",
    "        if pd_end_col is None:\n",
    "            reduced_df['break_pt_bool'] = reduced_df[pd_beg_col].diff(periods=1)>max_delta_t\n",
    "        else:\n",
    "            reduced_df['break_pt_bool'] = (reduced_df[pd_beg_col]-reduced_df.shift(1)[pd_end_col])>max_delta_t\n",
    "        #-----\n",
    "        break_pt_bool_col_idx = Utilities_df.find_idxs_in_highest_order_of_columns(df=reduced_df, col='break_pt_bool', exact_match=True, assert_single=True)\n",
    "        reduced_df.iloc[0, break_pt_bool_col_idx] = True"
   ]
  },
  {
   "cell_type": "code",
   "execution_count": null,
   "id": "802eadf0-b4b1-4822-acef-4730415ff67e",
   "metadata": {},
   "outputs": [],
   "source": [
    "reduced_df"
   ]
  },
  {
   "cell_type": "code",
   "execution_count": null,
   "id": "7bf45bb7-e0e6-4760-8350-8b31f6712652",
   "metadata": {},
   "outputs": [],
   "source": []
  },
  {
   "cell_type": "code",
   "execution_count": null,
   "id": "90adda53-7347-4f51-8520-e32812b81a65",
   "metadata": {},
   "outputs": [],
   "source": []
  },
  {
   "cell_type": "code",
   "execution_count": null,
   "id": "e4bdec98-a3a5-4fd7-8d46-927e2b0b3f83",
   "metadata": {},
   "outputs": [],
   "source": []
  },
  {
   "cell_type": "code",
   "execution_count": null,
   "id": "192c94a3-d998-44f1-bf33-e3715a6ad5bc",
   "metadata": {},
   "outputs": [],
   "source": []
  },
  {
   "cell_type": "code",
   "execution_count": null,
   "id": "a3186b88-ee25-45f7-8de9-953239745fcd",
   "metadata": {},
   "outputs": [],
   "source": [
    "def exist_overlapping_events_for_xN_i(\n",
    "    df_i, \n",
    "    intrvl_beg_col = 'DT_OFF_TS_FULL', \n",
    "    intrvl_end_col = 'DT_ON_TS'\n",
    "):\n",
    "    r\"\"\"\n",
    "    \"\"\"\n",
    "    #--------------------------------------------------\n",
    "    # If only one entry, cannot possibly be ovelaps!\n",
    "    if df_i.shape[0]<=1:\n",
    "        return False\n",
    "    #--------------------------------------------------\n",
    "    outg_intrvls = df_i.apply(lambda x: pd.Interval(x[intrvl_beg_col], x[intrvl_end_col]), axis=1).tolist()\n",
    "    outg_intrvl_pairs = list(itertools.combinations(outg_intrvls, 2))\n",
    "    do_pairs_overlap = [x[0].overlaps(x[1]) for x in outg_intrvl_pairs]\n",
    "    #-----\n",
    "    if any(do_pairs_overlap):\n",
    "        return True\n",
    "    return False"
   ]
  },
  {
   "cell_type": "code",
   "execution_count": null,
   "id": "cc400e41-f906-444e-b28c-9c8484a3e853",
   "metadata": {},
   "outputs": [],
   "source": []
  },
  {
   "cell_type": "code",
   "execution_count": null,
   "id": "a4b4c8c8-d1eb-4ed4-b9fb-2495aeb34dde",
   "metadata": {},
   "outputs": [],
   "source": [
    "start = time.time()\n",
    "we = df_outage_OG.groupby('PREMISE_NB').apply(lambda x: exist_overlapping_events_for_xN_i(x))\n",
    "end = time.time()-start"
   ]
  },
  {
   "cell_type": "code",
   "execution_count": null,
   "id": "9f2b6aeb-7ab7-4c3b-a370-f93a29ba8055",
   "metadata": {},
   "outputs": [],
   "source": [
    "df_i = df_outage_OG[df_outage_OG['PREMISE_NB']=='048178981'].copy()\n",
    "intrvl_beg_col = 'DT_OFF_TS_FULL'\n",
    "intrvl_end_col = 'DT_ON_TS'"
   ]
  },
  {
   "cell_type": "code",
   "execution_count": null,
   "id": "35219fa1-0b91-4a46-9d4b-9aa75551eb45",
   "metadata": {},
   "outputs": [],
   "source": [
    "df_i = DOVSRepeatFinder.append_exists_overlapping_events_for_xN_i(df_i)\n",
    "df_i"
   ]
  },
  {
   "cell_type": "code",
   "execution_count": null,
   "id": "65cdfa25-a487-4a86-a099-cbe1c49409ce",
   "metadata": {},
   "outputs": [],
   "source": []
  },
  {
   "cell_type": "code",
   "execution_count": null,
   "id": "14cd928e-bace-43ca-905f-dcb6ca9f8030",
   "metadata": {},
   "outputs": [],
   "source": [
    "df_b =  df_outage_OG.copy()"
   ]
  },
  {
   "cell_type": "code",
   "execution_count": null,
   "id": "16fc94c2-2a58-47c9-a409-f81202d13f7a",
   "metadata": {},
   "outputs": [],
   "source": [
    "df_b = DOVSRepeatFinder.append_exists_overlapping_events_for_xN_in_df(\n",
    "    df                   = df_b, \n",
    "    return_overlaps_only = True\n",
    ")"
   ]
  },
  {
   "cell_type": "code",
   "execution_count": null,
   "id": "fece3bfb-cc0b-447f-b9db-6c2cfb0bf931",
   "metadata": {},
   "outputs": [],
   "source": [
    "set(df_b['PREMISE_NB'].unique()).symmetric_difference(set(we[we].index.tolist()))"
   ]
  },
  {
   "cell_type": "code",
   "execution_count": null,
   "id": "f88aad35-bc5a-402c-91fe-3d88c70db0ca",
   "metadata": {},
   "outputs": [],
   "source": [
    "df_b = df_b.sort_values(by=['PREMISE_NB', 'OUTG_REC_NB'], ignore_index=True)\n",
    "df_b = Utilities_df.move_cols_to_front(df=df_b, cols_to_move=['PREMISE_NB', 'overlaps', 'overlap_grp'])"
   ]
  },
  {
   "cell_type": "code",
   "execution_count": null,
   "id": "9b01ac63-e1ca-4a13-b484-e3c0c8766a45",
   "metadata": {},
   "outputs": [],
   "source": [
    "df_b"
   ]
  },
  {
   "cell_type": "code",
   "execution_count": null,
   "id": "39cdde6f-6bb6-432d-8c7a-6e00e849d585",
   "metadata": {},
   "outputs": [],
   "source": [
    "df_b['PREMISE_NB'].isna()"
   ]
  },
  {
   "cell_type": "code",
   "execution_count": null,
   "id": "28adc2bd-44e6-4613-b793-23c5436110db",
   "metadata": {},
   "outputs": [],
   "source": [
    "df_b.iloc[-1]['PREMISE_NB']"
   ]
  },
  {
   "cell_type": "code",
   "execution_count": null,
   "id": "645da1fb-f6ac-456f-a4e1-68761b973204",
   "metadata": {},
   "outputs": [],
   "source": []
  },
  {
   "cell_type": "code",
   "execution_count": null,
   "id": "65a39f5a-ddf2-4fd5-bdfc-33b5ce902058",
   "metadata": {},
   "outputs": [],
   "source": []
  },
  {
   "cell_type": "code",
   "execution_count": null,
   "id": "bfb2baff-c2ef-402d-bd84-c00950ed9fd0",
   "metadata": {},
   "outputs": [],
   "source": []
  },
  {
   "cell_type": "code",
   "execution_count": null,
   "id": "7e28de69-e056-4780-a6b7-964b0dd16e8f",
   "metadata": {},
   "outputs": [],
   "source": []
  },
  {
   "cell_type": "code",
   "execution_count": null,
   "id": "428d75a8-9937-4cbf-a4b9-cd6bc8f7b8e7",
   "metadata": {},
   "outputs": [],
   "source": []
  },
  {
   "cell_type": "code",
   "execution_count": null,
   "id": "9e989871-6101-4ace-8d83-06085d56b5df",
   "metadata": {},
   "outputs": [],
   "source": []
  }
 ],
 "metadata": {
  "kernelspec": {
   "display_name": "Python 3 (ipykernel)",
   "language": "python",
   "name": "python3"
  },
  "language_info": {
   "codemirror_mode": {
    "name": "ipython",
    "version": 3
   },
   "file_extension": ".py",
   "mimetype": "text/x-python",
   "name": "python",
   "nbconvert_exporter": "python",
   "pygments_lexer": "ipython3",
   "version": "3.11.7"
  }
 },
 "nbformat": 4,
 "nbformat_minor": 5
}
