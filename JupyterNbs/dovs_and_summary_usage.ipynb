{
 "cells": [
  {
   "cell_type": "code",
   "execution_count": 1,
   "id": "95f6fc13",
   "metadata": {},
   "outputs": [],
   "source": [
    "# TODO address all TODOs in dovs_and_summary_usage_helper_functions.ipynb\n",
    "%run dovs_and_summary_usage_helper_functions.ipynb"
   ]
  },
  {
   "cell_type": "code",
   "execution_count": 2,
   "id": "b5755605",
   "metadata": {},
   "outputs": [],
   "source": [
    "from importlib import reload\n",
    "#reload(Utilities)\n",
    "\n",
    "import sys, os\n",
    "import re\n",
    "\n",
    "import pandas as pd\n",
    "import numpy as np\n",
    "from pandas.api.types import is_numeric_dtype\n",
    "from scipy import stats\n",
    "import datetime\n",
    "import time\n",
    "from natsort import natsorted, ns, natsort_keygen\n",
    "from packaging import version\n",
    "\n",
    "import itertools\n",
    "import copy\n",
    "import pyodbc\n",
    "#---------------------------------------------------------------------\n",
    "sys.path.insert(0, os.path.realpath('..'))\n",
    "import Utilities_config\n",
    "#-----\n",
    "from MeterPremise import MeterPremise\n",
    "from EEMSP import EEMSP\n",
    "#-----\n",
    "from DOVSOutages_SQL import DOVSOutages_SQL\n",
    "#-----\n",
    "from GenAn import GenAn\n",
    "from DOVSOutages import DOVSOutages\n",
    "#---------------------------------------------------------------------\n",
    "import matplotlib as mpl\n",
    "import matplotlib.pyplot as plt\n",
    "import seaborn as sns\n",
    "from matplotlib.backends.backend_pdf import PdfPages\n",
    "import matplotlib.patches as mpatches\n",
    "from matplotlib.lines import Line2D\n",
    "import matplotlib.ticker as ticker\n",
    "from matplotlib import dates\n",
    "import matplotlib.colors as mcolors\n",
    "import matplotlib.cm as cm #e.g. for cmap=cm.jet\n",
    "#---------------------------------------------------------------------\n",
    "sys.path.insert(0, Utilities_config.get_sql_aids_dir())\n",
    "import Utilities_sql\n",
    "from SQLElement import SQLElement\n",
    "from SQLElementsCollection import SQLElementsCollection\n",
    "from SQLSelect import SQLSelectElement, SQLSelect\n",
    "from SQLFrom import SQLFrom\n",
    "from SQLWhere import SQLWhereElement, SQLWhere\n",
    "from SQLJoin import SQLJoin, SQLJoinCollection\n",
    "from SQLGroupBy import SQLGroupByElement, SQLGroupBy\n",
    "from SQLHaving import SQLHaving\n",
    "from SQLOrderBy import SQLOrderByElement, SQLOrderBy\n",
    "from SQLQuery import SQLQuery\n",
    "from SQLQueryGeneric import SQLQueryGeneric\n",
    "#---------------------------------------------------------------------\n",
    "sys.path.insert(0, Utilities_config.get_utilities_dir())\n",
    "import Utilities\n",
    "import Utilities_df\n",
    "from Utilities_df import DFConstructType\n",
    "import Utilities_dt\n",
    "import Plot_Box_sns\n",
    "import GrubbsTest"
   ]
  },
  {
   "cell_type": "code",
   "execution_count": null,
   "id": "1a0dd5fa",
   "metadata": {},
   "outputs": [],
   "source": []
  },
  {
   "cell_type": "markdown",
   "id": "c1d6c99c",
   "metadata": {},
   "source": [
    "# -----------------------------------------------------------------------------------------------\n",
    "# !!!!!!!!!!!!!!!!!!!!!!!!!!!!!!!!!!!!!!!!!!!!!!!!!!!!!!!!!!!!!!!!!!!!!!!!!!!!!!!!!!!!!!!!!!!!!!!\n",
    "# -----------------------------------------------------------------------------------------------"
   ]
  },
  {
   "cell_type": "code",
   "execution_count": 3,
   "id": "130a97ab",
   "metadata": {},
   "outputs": [],
   "source": [
    "# TODO Get rid of inactive meters"
   ]
  },
  {
   "cell_type": "code",
   "execution_count": 4,
   "id": "3ca10060",
   "metadata": {},
   "outputs": [],
   "source": [
    "save_dfs_to_csv = False\n",
    "read_dfs_from_csv = True\n",
    "save_dir_csvs = os.path.join(Utilities.get_local_data_dir(), r'dovs_and_summary_usage_data')\n",
    "\n",
    "save_figs = False\n",
    "#save_dir_base_figs = r'C:\\Users\\s346557\\Documents\\Presentations\\GroupMeetings\\20220120\\Figures'\n",
    "save_dir_base_figs = r'C:\\Users\\s346557\\Documents\\Presentations\\OutagePredictions\\MeetingWithEngineersEtc_20220127\\Figures'\n",
    "\n",
    "assert(save_dfs_to_csv+read_dfs_from_csv <=1) # Should never both read and write!"
   ]
  },
  {
   "cell_type": "code",
   "execution_count": 5,
   "id": "eadaabe0",
   "metadata": {},
   "outputs": [],
   "source": [
    "fig_num = 0"
   ]
  },
  {
   "cell_type": "code",
   "execution_count": 6,
   "id": "f7e5f406",
   "metadata": {},
   "outputs": [],
   "source": [
    "if not read_dfs_from_csv:\n",
    "    conn_outages = Utilities.get_utldb01p_oracle_connection()\n",
    "    conn_aws = Utilities.get_athena_prod_aws_connection()"
   ]
  },
  {
   "cell_type": "code",
   "execution_count": 7,
   "id": "ae0a13a8",
   "metadata": {},
   "outputs": [],
   "source": [
    "date_0_no_outg = '2018-01-01'\n",
    "date_1_no_outg = '2021-12-31'\n",
    "\n",
    "# date_0_no_outg = '2019-01-01'\n",
    "# date_1_no_outg = '2019-06-30'"
   ]
  },
  {
   "cell_type": "code",
   "execution_count": 8,
   "id": "2645c921",
   "metadata": {},
   "outputs": [],
   "source": [
    "date_0_outg = '2018-01-01'\n",
    "date_1_outg = '2021-12-31'\n",
    "\n",
    "# date_0_outg = '2019-01-01'\n",
    "# date_1_outg = '2019-06-30'"
   ]
  },
  {
   "cell_type": "code",
   "execution_count": null,
   "id": "d287dd7d",
   "metadata": {},
   "outputs": [],
   "source": []
  },
  {
   "cell_type": "markdown",
   "id": "0b7f755e",
   "metadata": {},
   "source": [
    "# -----------------------------------------------------------------------------------------------\n",
    "# -----------------------------------------------------------------------------------------------"
   ]
  },
  {
   "cell_type": "markdown",
   "id": "b4fb08b5",
   "metadata": {},
   "source": [
    "# Build no outage collection and df_mp_all\n",
    "where df_mp_all is a DataFrame containing all meter premise data (from OH)"
   ]
  },
  {
   "cell_type": "code",
   "execution_count": 9,
   "id": "78cc7d05",
   "metadata": {},
   "outputs": [],
   "source": [
    "# cols_of_interest_met_prem = [\n",
    "#     'mfr_devc_ser_nbr',\n",
    "#     'longitude',\n",
    "#     'latitude',\n",
    "#     'state_cd', \n",
    "#     'prem_nb',\n",
    "#     'srvc_pole_nb',\n",
    "#     'trsf_pole_nb',\n",
    "#     'latitude_nb',\n",
    "#     'longitude_nb',\n",
    "#     'station_nb', \n",
    "#     'xfmr_nb', \n",
    "#     'annual_kwh',\n",
    "#     'annual_max_dmnd'\n",
    "# ]\n",
    "\n",
    "# cols_of_interest_met_prem = [\n",
    "#     'mfr_devc_ser_nbr',\n",
    "#     'state_cd', \n",
    "#     'prem_nb',\n",
    "#     'trsf_pole_nb',\n",
    "#     'annual_kwh',\n",
    "#     'annual_max_dmnd'\n",
    "# ]\n",
    "\n",
    "cols_of_interest_met_prem = [\n",
    "    'mfr_devc_ser_nbr',\n",
    "    'state_cd', \n",
    "    'prem_nb',\n",
    "    'trsf_pole_nb',\n",
    "    'annual_kwh',\n",
    "    'annual_max_dmnd', \n",
    "    'mtr_stat_cd',\n",
    "    'mtr_stat_cd_desc', \n",
    "    'devc_stat_cd', \n",
    "    'devc_stat_cd_desc'\n",
    "]"
   ]
  },
  {
   "cell_type": "code",
   "execution_count": null,
   "id": "1c685fd3",
   "metadata": {},
   "outputs": [],
   "source": []
  },
  {
   "cell_type": "code",
   "execution_count": null,
   "id": "b9d158ca",
   "metadata": {},
   "outputs": [],
   "source": []
  },
  {
   "cell_type": "markdown",
   "id": "d92537ed",
   "metadata": {},
   "source": [
    "# Find transformers which haven't experienced an outage since date_0_no_outg"
   ]
  },
  {
   "cell_type": "markdown",
   "id": "61ef2f15",
   "metadata": {},
   "source": [
    "### First, find all transformers which HAVE experienced an outage"
   ]
  },
  {
   "cell_type": "code",
   "execution_count": 10,
   "id": "ce4b8710",
   "metadata": {},
   "outputs": [
    {
     "name": "stdout",
     "output_type": "stream",
     "text": [
      "SELECT\n",
      "\tDISTINCT(DOV.LOCATION_ID)\n",
      "FROM DOVSADM.DOVS_OUTAGE_FACT DOV\n",
      "\tLEFT OUTER JOIN DOVSADM.DOVS_MASTER_GEO_DIM DOV1 ON DOV.OPERATING_UNIT_ID=DOV1.OPRTG_UNT_ID AND DOV.STATE_ABBR_TX=DOV1.STATE_ID AND DOV.OPCO_NBR=DOV1.OPCO_ID AND DOV.DISTRICT_NB=DOV1.DISTRICT_ID AND DOV.SRVC_CNTR_NB=DOV1.AREA_ID AND DOV.GIS_CRCT_NB=DOV1.GIS_CIRCUIT_ID\n",
      "\tLEFT OUTER JOIN DOVSADM.DOVS_OUTAGE_ATTRIBUTES_DIM DOV2 ON DOV.OUTG_REC_NB=DOV2.OUTG_REC_NB\n",
      "\tLEFT OUTER JOIN DOVSADM.DOVS_CLEARING_DEVICE_DIM DOV3 ON DOV.DEVICE_CD=DOV3.DEVICE_CD\n",
      "\tLEFT OUTER JOIN DOVSADM.DOVS_EQUIPMENT_TYPES_DIM DOV4 ON DOV.EQUIPMENT_CD=DOV4.EQUIPMENT_CD\n",
      "\tLEFT OUTER JOIN DOVSADM.DOVS_OUTAGE_CAUSE_TYPES_DIM DOV5 ON DOV.MJR_CAUSE_CD=DOV5.MJR_CAUSE_CD AND DOV.MNR_CAUSE_CD=DOV5.MNR_CAUSE_CD\n",
      "WHERE DOV.DT_OFF_TS BETWEEN '2018-01-01' AND '2021-12-31'\n",
      "AND   DOV2.INTRPTN_TYP_CD = 'S'\n",
      "AND   DOV2.CURR_REC_STAT_CD = 'A'\n",
      "AND   DOV.MJR_CAUSE_CD <> 'NI'\n",
      "AND   DOV.DEVICE_CD <> 85\n",
      "AND   DOV.STATE_ABBR_TX = 'OH'\n"
     ]
    }
   ],
   "source": [
    "sql_outage_location_ids = DOVSOutages_SQL.build_sql_find_outage_xfmrs(\n",
    "    mjr_mnr_cause=None, \n",
    "    include_premise=False, \n",
    "    date_range=[date_0_no_outg, date_1_no_outg], \n",
    "    states='OH'\n",
    ")\n",
    "sql_stmnt_outage_location_ids = sql_outage_location_ids.get_sql_statement()\n",
    "print(sql_stmnt_outage_location_ids)"
   ]
  },
  {
   "cell_type": "markdown",
   "id": "cee3b454",
   "metadata": {},
   "source": [
    "## Find all premises which have suffered outage?"
   ]
  },
  {
   "cell_type": "code",
   "execution_count": 11,
   "id": "66f0eb73",
   "metadata": {},
   "outputs": [],
   "source": [
    "find_outage_premises=False\n",
    "if find_outage_premises:\n",
    "    sql_outage_premises = DOVSOutages_SQL.build_sql_distinct_outage_field(\n",
    "        distinct_field=SQLSelectElement(field_desc='PREMISE_NB', \n",
    "                                        table_alias_prefix='PRIM'), \n",
    "        mjr_mnr_cause=None, \n",
    "        include_premise=True, \n",
    "        date_range=[date_0_no_outg, date_1_no_outg], \n",
    "        states='OH'\n",
    "    )\n",
    "    sql_stmnt_outage_premises = sql_outage_premises.get_sql_statement()\n",
    "    sql_outage_premises.print_sql_statement()\n",
    "    \n",
    "    df_outage_premises = pd.read_sql_query(sql_stmnt_outage_premises, conn_outages)\n",
    "    df_outage_premises.head()"
   ]
  },
  {
   "cell_type": "code",
   "execution_count": null,
   "id": "51ce1a57",
   "metadata": {},
   "outputs": [],
   "source": []
  },
  {
   "cell_type": "code",
   "execution_count": 12,
   "id": "910ad026",
   "metadata": {},
   "outputs": [],
   "source": [
    "compare_to_og = False\n",
    "if compare_to_og:\n",
    "    if 'conn_outages' not in locals():\n",
    "        conn_outages = Utilities.get_utldb01p_oracle_connection()  \n",
    "    sql_outage_location_ids_0 = (\n",
    "    \"\"\"\n",
    "    SELECT   DISTINCT(DOV.LOCATION_ID)\n",
    "    FROM     DOVSADM.DOVS_OUTAGE_FACT DOV\n",
    "             LEFT OUTER JOIN DOVSADM.DOVS_MASTER_GEO_DIM DOV1 ON DOV.OPERATING_UNIT_ID=DOV1.OPRTG_UNT_ID AND DOV.STATE_ABBR_TX=DOV1.STATE_ID AND DOV.OPCO_NBR=DOV1.OPCO_ID AND DOV.DISTRICT_NB=DOV1.DISTRICT_ID AND DOV.SRVC_CNTR_NB=DOV1.AREA_ID AND DOV.GIS_CRCT_NB=DOV1.GIS_CIRCUIT_ID\n",
    "             LEFT OUTER JOIN DOVSADM.DOVS_OUTAGE_ATTRIBUTES_DIM DOV2 ON DOV.OUTG_REC_NB=DOV2.OUTG_REC_NB\n",
    "             LEFT OUTER JOIN DOVSADM.DOVS_OUTAGE_CAUSE_TYPES_DIM DOV5 ON DOV.MJR_CAUSE_CD=DOV5.MJR_CAUSE_CD AND DOV.MNR_CAUSE_CD=DOV5.MNR_CAUSE_CD\n",
    "    WHERE    DOV.DT_OFF_TS BETWEEN {} AND '{}'\n",
    "    AND  DOV2.INTRPTN_TYP_CD = 'S'\n",
    "    AND  DOV2.CURR_REC_STAT_CD = 'A' \n",
    "    AND  DOV.MJR_CAUSE_CD <> 'NI' \n",
    "    AND  DOV.DEVICE_CD <> 85 \n",
    "    AND  DOV.STATE_ABBR_TX = 'OH'\n",
    "    \"\"\"\n",
    "    ).format(f\"'{date_0_no_outg}'\", date_1_no_outg)\n",
    "\n",
    "    print(sql_outage_location_ids_0)\n",
    "\n",
    "    df_outage_location_ids_0 = pd.read_sql_query(sql_outage_location_ids_0, conn_outages)\n",
    "    df_outage_location_ids = pd.read_sql_query(sql_stmnt_outage_location_ids, conn_outages)\n",
    "    print(df_outage_location_ids.sort_values(by='LOCATION_ID', ignore_index=True).equals(df_outage_location_ids_0.sort_values(by='LOCATION_ID', ignore_index=True)))"
   ]
  },
  {
   "cell_type": "code",
   "execution_count": null,
   "id": "c0d5efbc",
   "metadata": {},
   "outputs": [],
   "source": []
  },
  {
   "cell_type": "code",
   "execution_count": 13,
   "id": "05b640ea",
   "metadata": {},
   "outputs": [
    {
     "name": "stdout",
     "output_type": "stream",
     "text": [
      "(107899, 1)\n"
     ]
    }
   ],
   "source": [
    "if read_dfs_from_csv:\n",
    "    df_outage_location_ids_OG = pd.read_csv(os.path.join(save_dir_csvs, 'df_outage_location_ids_OG.csv'), dtype=str)\n",
    "else:\n",
    "    df_outage_location_ids_OG = pd.read_sql_query(sql_stmnt_outage_location_ids, conn_outages)\n",
    "print(df_outage_location_ids_OG.shape)\n",
    "df_outage_location_ids = df_outage_location_ids_OG.copy()"
   ]
  },
  {
   "cell_type": "code",
   "execution_count": null,
   "id": "920d1ffb",
   "metadata": {},
   "outputs": [],
   "source": []
  },
  {
   "cell_type": "markdown",
   "id": "0e031d59",
   "metadata": {},
   "source": [
    "### Now, find those which HAVEN'T experienced an outage"
   ]
  },
  {
   "cell_type": "markdown",
   "id": "ebf664be",
   "metadata": {},
   "source": [
    "### When df_outage_location_ids is large\n",
    "i.e., when the date range used to find outages is large\n",
    "<br> It is actually faster to grab ALL meters from default.meter_premise and then filter using pandas\n",
    "<br> as opposed to using NOT IN and filtering with SQL"
   ]
  },
  {
   "cell_type": "code",
   "execution_count": 14,
   "id": "372f4186",
   "metadata": {},
   "outputs": [
    {
     "name": "stdout",
     "output_type": "stream",
     "text": [
      "SELECT\n",
      "\tmfr_devc_ser_nbr,\n",
      "\tstate_cd,\n",
      "\tprem_nb,\n",
      "\ttrsf_pole_nb,\n",
      "\tannual_kwh,\n",
      "\tannual_max_dmnd,\n",
      "\tmtr_stat_cd,\n",
      "\tmtr_stat_cd_desc,\n",
      "\tdevc_stat_cd,\n",
      "\tdevc_stat_cd_desc\n",
      "FROM default.meter_premise\n"
     ]
    }
   ],
   "source": [
    "sql_mp_all = MeterPremise.build_sql_meter_premise(cols_of_interest_met_prem, states=['OH']).get_sql_statement()\n",
    "print(sql_mp_all)"
   ]
  },
  {
   "cell_type": "code",
   "execution_count": 15,
   "id": "4c155e5b",
   "metadata": {},
   "outputs": [],
   "source": [
    "compare_to_og = False\n",
    "if compare_to_og:\n",
    "    if 'conn_aws' not in locals():\n",
    "        conn_aws = Utilities.get_athena_prod_aws_connection()\n",
    "    sql_mp_all_0 = (\n",
    "    \"\"\"\n",
    "    SELECT {}\n",
    "    FROM default.meter_premise\n",
    "    WHERE state_cd IN ('OH')\n",
    "    \"\"\"\n",
    "    ).format(','.join(cols_of_interest_met_prem))\n",
    "    print(sql_mp_all_0)\n",
    "\n",
    "    df_mp_all_0 = pd.read_sql(sql_mp_all_0, conn_aws)\n",
    "    df_mp_all = pd.read_sql(sql_mp_all, conn_aws)\n",
    "    print(df_mp_all.sort_values(by=['mfr_devc_ser_nbr'], ignore_index=True).equals(df_mp_all_0.sort_values(by=['mfr_devc_ser_nbr'], ignore_index=True)))"
   ]
  },
  {
   "cell_type": "code",
   "execution_count": null,
   "id": "3207465e",
   "metadata": {},
   "outputs": [],
   "source": []
  },
  {
   "cell_type": "code",
   "execution_count": 16,
   "id": "d4e8a4fa",
   "metadata": {},
   "outputs": [
    {
     "name": "stdout",
     "output_type": "stream",
     "text": [
      "(1536914, 10)\n"
     ]
    }
   ],
   "source": [
    "if read_dfs_from_csv:\n",
    "    df_mp_all_OG = pd.read_csv(os.path.join(save_dir_csvs, 'df_mp_all_OG.csv'), dtype=str)\n",
    "else:\n",
    "    df_mp_all_OG = pd.read_sql(sql_mp_all, conn_aws) \n",
    "df_mp_all_OG = Utilities_df.remove_prepend_from_columns_in_df(df_mp_all_OG)\n",
    "print(df_mp_all_OG.shape)\n",
    "df_mp_all = df_mp_all_OG.copy()"
   ]
  },
  {
   "cell_type": "code",
   "execution_count": 17,
   "id": "54617d6d",
   "metadata": {},
   "outputs": [],
   "source": [
    "# cols_of_interest_met_prem_2 = [\n",
    "#     'mfr_devc_ser_nbr',\n",
    "#     'state_cd', \n",
    "#     'prem_nb',\n",
    "#     'trsf_pole_nb',\n",
    "#     'annual_kwh',\n",
    "#     'annual_max_dmnd', \n",
    "#     'mtr_stat_cd',\n",
    "#     'mtr_stat_cd_desc', \n",
    "#     'devc_stat_cd', \n",
    "#     'devc_stat_cd_desc'\n",
    "# ]\n",
    "\n",
    "# sql_mp_all_2 = (\n",
    "# \"\"\"\n",
    "# SELECT {}\n",
    "# FROM default.meter_premise\n",
    "# WHERE state_cd IN ('OH')\n",
    "# \"\"\"\n",
    "# ).format(','.join(cols_of_interest_met_prem_2))\n",
    "# #print(sql_mp_all_2)\n",
    "# df_mp_all_2_OG = pd.read_sql(sql_mp_all_2, conn_aws) \n",
    "# df_mp_all_2_OG = Utilities_df.remove_prepend_from_columns_in_df(df_mp_all_2_OG)\n",
    "# print(df_mp_all_2_OG.shape)\n",
    "# df_mp_all_2 = df_mp_all_2_OG.copy()"
   ]
  },
  {
   "cell_type": "code",
   "execution_count": 18,
   "id": "e6026fcc",
   "metadata": {},
   "outputs": [
    {
     "name": "stdout",
     "output_type": "stream",
     "text": [
      "(1172938, 10)\n"
     ]
    }
   ],
   "source": [
    "df_mp_no_outg_OG = df_mp_all[~df_mp_all['trsf_pole_nb'].isin(df_outage_location_ids['LOCATION_ID'].tolist())]\n",
    "print(df_mp_no_outg_OG.shape)\n",
    "df_mp_no_outg = df_mp_no_outg_OG.copy()"
   ]
  },
  {
   "cell_type": "code",
   "execution_count": 19,
   "id": "92ee5caf",
   "metadata": {
    "scrolled": true
   },
   "outputs": [
    {
     "data": {
      "text/html": [
       "<div>\n",
       "<style scoped>\n",
       "    .dataframe tbody tr th:only-of-type {\n",
       "        vertical-align: middle;\n",
       "    }\n",
       "\n",
       "    .dataframe tbody tr th {\n",
       "        vertical-align: top;\n",
       "    }\n",
       "\n",
       "    .dataframe thead th {\n",
       "        text-align: right;\n",
       "    }\n",
       "</style>\n",
       "<table border=\"1\" class=\"dataframe\">\n",
       "  <thead>\n",
       "    <tr style=\"text-align: right;\">\n",
       "      <th></th>\n",
       "      <th>mfr_devc_ser_nbr</th>\n",
       "      <th>state_cd</th>\n",
       "      <th>prem_nb</th>\n",
       "      <th>trsf_pole_nb</th>\n",
       "      <th>annual_kwh</th>\n",
       "      <th>annual_max_dmnd</th>\n",
       "      <th>mtr_stat_cd</th>\n",
       "      <th>mtr_stat_cd_desc</th>\n",
       "      <th>devc_stat_cd</th>\n",
       "      <th>devc_stat_cd_desc</th>\n",
       "    </tr>\n",
       "  </thead>\n",
       "  <tbody>\n",
       "    <tr>\n",
       "      <th>0</th>\n",
       "      <td>99999100</td>\n",
       "      <td>OH</td>\n",
       "      <td>071682817</td>\n",
       "      <td>TRANSMISSION</td>\n",
       "      <td>6102000.000</td>\n",
       "      <td>1472.000</td>\n",
       "      <td>C</td>\n",
       "      <td>CONNECTED</td>\n",
       "      <td>A</td>\n",
       "      <td>ACTIVE</td>\n",
       "    </tr>\n",
       "    <tr>\n",
       "      <th>1</th>\n",
       "      <td>11847204</td>\n",
       "      <td>OH</td>\n",
       "      <td>079403597</td>\n",
       "      <td>41820782D20123</td>\n",
       "      <td>13495.000</td>\n",
       "      <td>0.000</td>\n",
       "      <td>C</td>\n",
       "      <td>CONNECTED</td>\n",
       "      <td>A</td>\n",
       "      <td>ACTIVE</td>\n",
       "    </tr>\n",
       "    <tr>\n",
       "      <th>2</th>\n",
       "      <td>14308968</td>\n",
       "      <td>OH</td>\n",
       "      <td>079195860</td>\n",
       "      <td>41821097C30137</td>\n",
       "      <td>24581.000</td>\n",
       "      <td>0.000</td>\n",
       "      <td>C</td>\n",
       "      <td>CONNECTED</td>\n",
       "      <td>A</td>\n",
       "      <td>ACTIVE</td>\n",
       "    </tr>\n",
       "    <tr>\n",
       "      <th>3</th>\n",
       "      <td>15325985</td>\n",
       "      <td>OH</td>\n",
       "      <td>070473618</td>\n",
       "      <td>41840848000016</td>\n",
       "      <td>4207.000</td>\n",
       "      <td>0.000</td>\n",
       "      <td>C</td>\n",
       "      <td>CONNECTED</td>\n",
       "      <td>A</td>\n",
       "      <td>ACTIVE</td>\n",
       "    </tr>\n",
       "    <tr>\n",
       "      <th>4</th>\n",
       "      <td>15995460</td>\n",
       "      <td>OH</td>\n",
       "      <td>077655454</td>\n",
       "      <td>41810925000130</td>\n",
       "      <td>7863.000</td>\n",
       "      <td>0.000</td>\n",
       "      <td>C</td>\n",
       "      <td>CONNECTED</td>\n",
       "      <td>A</td>\n",
       "      <td>ACTIVE</td>\n",
       "    </tr>\n",
       "    <tr>\n",
       "      <th>...</th>\n",
       "      <td>...</td>\n",
       "      <td>...</td>\n",
       "      <td>...</td>\n",
       "      <td>...</td>\n",
       "      <td>...</td>\n",
       "      <td>...</td>\n",
       "      <td>...</td>\n",
       "      <td>...</td>\n",
       "      <td>...</td>\n",
       "      <td>...</td>\n",
       "    </tr>\n",
       "    <tr>\n",
       "      <th>1536909</th>\n",
       "      <td>LW1312A593</td>\n",
       "      <td>OH</td>\n",
       "      <td>103071757</td>\n",
       "      <td>TRANSMISSION</td>\n",
       "      <td>NaN</td>\n",
       "      <td>NaN</td>\n",
       "      <td>C</td>\n",
       "      <td>CONNECTED</td>\n",
       "      <td>U</td>\n",
       "      <td>COMPANY USE DEVICE</td>\n",
       "    </tr>\n",
       "    <tr>\n",
       "      <th>1536910</th>\n",
       "      <td>LW1312A594</td>\n",
       "      <td>OH</td>\n",
       "      <td>103071757</td>\n",
       "      <td>TRANSMISSION</td>\n",
       "      <td>NaN</td>\n",
       "      <td>NaN</td>\n",
       "      <td>C</td>\n",
       "      <td>CONNECTED</td>\n",
       "      <td>U</td>\n",
       "      <td>COMPANY USE DEVICE</td>\n",
       "    </tr>\n",
       "    <tr>\n",
       "      <th>1536911</th>\n",
       "      <td>LW1312A595</td>\n",
       "      <td>OH</td>\n",
       "      <td>103071757</td>\n",
       "      <td>TRANSMISSION</td>\n",
       "      <td>NaN</td>\n",
       "      <td>NaN</td>\n",
       "      <td>C</td>\n",
       "      <td>CONNECTED</td>\n",
       "      <td>U</td>\n",
       "      <td>COMPANY USE DEVICE</td>\n",
       "    </tr>\n",
       "    <tr>\n",
       "      <th>1536912</th>\n",
       "      <td>LW1312A596</td>\n",
       "      <td>OH</td>\n",
       "      <td>103071757</td>\n",
       "      <td>TRANSMISSION</td>\n",
       "      <td>NaN</td>\n",
       "      <td>NaN</td>\n",
       "      <td>C</td>\n",
       "      <td>CONNECTED</td>\n",
       "      <td>U</td>\n",
       "      <td>COMPANY USE DEVICE</td>\n",
       "    </tr>\n",
       "    <tr>\n",
       "      <th>1536913</th>\n",
       "      <td>STUART</td>\n",
       "      <td>OH</td>\n",
       "      <td>108987804</td>\n",
       "      <td>TRANSMISSION</td>\n",
       "      <td>897000.000</td>\n",
       "      <td>591.000</td>\n",
       "      <td>C</td>\n",
       "      <td>CONNECTED</td>\n",
       "      <td>A</td>\n",
       "      <td>ACTIVE</td>\n",
       "    </tr>\n",
       "  </tbody>\n",
       "</table>\n",
       "<p>1172938 rows × 10 columns</p>\n",
       "</div>"
      ],
      "text/plain": [
       "        mfr_devc_ser_nbr state_cd    prem_nb    trsf_pole_nb   annual_kwh  \\\n",
       "0               99999100       OH  071682817    TRANSMISSION  6102000.000   \n",
       "1               11847204       OH  079403597  41820782D20123    13495.000   \n",
       "2               14308968       OH  079195860  41821097C30137    24581.000   \n",
       "3               15325985       OH  070473618  41840848000016     4207.000   \n",
       "4               15995460       OH  077655454  41810925000130     7863.000   \n",
       "...                  ...      ...        ...             ...          ...   \n",
       "1536909       LW1312A593       OH  103071757    TRANSMISSION          NaN   \n",
       "1536910       LW1312A594       OH  103071757    TRANSMISSION          NaN   \n",
       "1536911       LW1312A595       OH  103071757    TRANSMISSION          NaN   \n",
       "1536912       LW1312A596       OH  103071757    TRANSMISSION          NaN   \n",
       "1536913           STUART       OH  108987804    TRANSMISSION   897000.000   \n",
       "\n",
       "        annual_max_dmnd mtr_stat_cd           mtr_stat_cd_desc devc_stat_cd  \\\n",
       "0              1472.000           C  CONNECTED                            A   \n",
       "1                 0.000           C  CONNECTED                            A   \n",
       "2                 0.000           C  CONNECTED                            A   \n",
       "3                 0.000           C  CONNECTED                            A   \n",
       "4                 0.000           C  CONNECTED                            A   \n",
       "...                 ...         ...                        ...          ...   \n",
       "1536909             NaN           C  CONNECTED                            U   \n",
       "1536910             NaN           C  CONNECTED                            U   \n",
       "1536911             NaN           C  CONNECTED                            U   \n",
       "1536912             NaN           C  CONNECTED                            U   \n",
       "1536913         591.000           C  CONNECTED                            A   \n",
       "\n",
       "            devc_stat_cd_desc  \n",
       "0        ACTIVE                \n",
       "1        ACTIVE                \n",
       "2        ACTIVE                \n",
       "3        ACTIVE                \n",
       "4        ACTIVE                \n",
       "...                       ...  \n",
       "1536909  COMPANY USE DEVICE    \n",
       "1536910  COMPANY USE DEVICE    \n",
       "1536911  COMPANY USE DEVICE    \n",
       "1536912  COMPANY USE DEVICE    \n",
       "1536913  ACTIVE                \n",
       "\n",
       "[1172938 rows x 10 columns]"
      ]
     },
     "execution_count": 19,
     "metadata": {},
     "output_type": "execute_result"
    }
   ],
   "source": [
    "df_mp_no_outg"
   ]
  },
  {
   "cell_type": "code",
   "execution_count": 20,
   "id": "0363f7f2",
   "metadata": {},
   "outputs": [],
   "source": [
    "# Below, TC stands for Time Consuming\n",
    "# Probably don't run unless date_0_no_outg and date_1_no_outg differ by no more than\n",
    "# a day or two\n",
    "run_TC = False\n",
    "if run_TC:\n",
    "    sql_mp_no_outg_TC = (\n",
    "    \"\"\"\n",
    "    SELECT {}\n",
    "    FROM default.meter_premise\n",
    "    WHERE state_cd IN ('OH')\n",
    "    AND trsf_pole_nb NOT IN ({})\n",
    "    \"\"\"\n",
    "    ).format(','.join(cols_of_interest_met_prem), \n",
    "             ','.join([\"'{}'\".format(x) for x in df_outage_location_ids['LOCATION_ID'].tolist()]))\n",
    "    #print(sql_mp_no_outg_TC)\n",
    "    #------------------------\n",
    "    df_mp_no_outg_TC_OG = pd.read_sql(sql_mp_no_outg, conn_aws) \n",
    "    print(df_mp_no_outg_TC_OG.shape)\n",
    "    df_mp_no_outg_TC = df_mp_no_outg_TC_OG.copy()    \n",
    "    #------------------------\n",
    "    df_mp_no_outg_TC=df_mp_no_outg_TC.sort_values(by=['trsf_pole_nb', 'prem_nb', 'mfr_devc_ser_nbr'], ignore_index=True)\n",
    "    df_mp_no_outg=df_mp_no_outg.sort_values(by=['trsf_pole_nb', 'prem_nb', 'mfr_devc_ser_nbr'], ignore_index=True)\n",
    "    print(df_mp_no_outg_TC.equals(df_mp_no_outg))    "
   ]
  },
  {
   "cell_type": "code",
   "execution_count": 21,
   "id": "72402399",
   "metadata": {},
   "outputs": [],
   "source": [
    "df_mp_no_outg = Utilities_df.convert_col_types(\n",
    "    df=df_mp_no_outg, \n",
    "    cols_and_types_dict={'annual_kwh':float, 'annual_max_dmnd':float}, \n",
    "    to_numeric_errors='coerce', \n",
    "    inplace=True\n",
    ")"
   ]
  },
  {
   "cell_type": "code",
   "execution_count": null,
   "id": "d941235d",
   "metadata": {},
   "outputs": [],
   "source": []
  },
  {
   "cell_type": "code",
   "execution_count": null,
   "id": "4043c94e",
   "metadata": {},
   "outputs": [],
   "source": []
  },
  {
   "cell_type": "code",
   "execution_count": null,
   "id": "530378e3",
   "metadata": {},
   "outputs": [],
   "source": []
  },
  {
   "cell_type": "code",
   "execution_count": null,
   "id": "21f9d089",
   "metadata": {},
   "outputs": [],
   "source": []
  },
  {
   "cell_type": "code",
   "execution_count": null,
   "id": "b063505b",
   "metadata": {},
   "outputs": [],
   "source": []
  },
  {
   "cell_type": "markdown",
   "id": "9c543b5a",
   "metadata": {},
   "source": [
    "# ---------------------------------------------------------------\n",
    "# OUTAGES\n",
    "# ---------------------------------------------------------------"
   ]
  },
  {
   "cell_type": "code",
   "execution_count": null,
   "id": "fbfe4a04",
   "metadata": {},
   "outputs": [],
   "source": []
  },
  {
   "cell_type": "code",
   "execution_count": null,
   "id": "d526be38",
   "metadata": {},
   "outputs": [],
   "source": [
    "def get_sql_outage_0(date_0, date_1, mjr_mnr_cause):\n",
    "    if mjr_mnr_cause is None:\n",
    "        add_where_statement_1 = ''\n",
    "        add_where_statement_2 = ''\n",
    "    else:\n",
    "        add_where_statement_1 = f\"AND  DOV.MJR_CAUSE_CD = '{mjr_mnr_cause[0]}'\"\n",
    "        add_where_statement_2 = f\"AND  DOV.MNR_CAUSE_CD = '{mjr_mnr_cause[1]}'\"\n",
    "    \n",
    "    sql_outage = (\n",
    "    \"\"\"\n",
    "    SELECT   DOV.CI_NB, DOV.CMI_NB, DOV.OUTG_REC_NB, \n",
    "             DOV.DT_ON_TS, DOV.DT_OFF_TS, \n",
    "             DOV.DT_ON_TS - DOV.STEP_DRTN_NB/(60*24) AS DT_OFF_TS_FULL, DOV.STEP_DRTN_NB,\n",
    "             EXTRACT(YEAR FROM DOV.DT_OFF_TS)  AS START_YEAR,     \n",
    "             DOV.MJR_CAUSE_CD, DOV.MNR_CAUSE_CD, DOV4.EQUIP_TYP_NM, DOV4.SHORT_NM, \n",
    "             DOV.LOCATION_ID, DOV.GIS_CRCT_NB, DOV.STATE_ABBR_TX, \n",
    "             PRIM.PREMISE_NB\n",
    "    FROM     DOVSADM.DOVS_OUTAGE_FACT DOV\n",
    "             LEFT OUTER JOIN DOVSADM.DOVS_MASTER_GEO_DIM DOV1 ON DOV.OPERATING_UNIT_ID=DOV1.OPRTG_UNT_ID AND DOV.STATE_ABBR_TX=DOV1.STATE_ID AND DOV.OPCO_NBR=DOV1.OPCO_ID AND DOV.DISTRICT_NB=DOV1.DISTRICT_ID AND DOV.SRVC_CNTR_NB=DOV1.AREA_ID AND DOV.GIS_CRCT_NB=DOV1.GIS_CIRCUIT_ID\n",
    "             LEFT OUTER JOIN DOVSADM.DOVS_OUTAGE_ATTRIBUTES_DIM DOV2 ON DOV.OUTG_REC_NB=DOV2.OUTG_REC_NB\n",
    "             LEFT OUTER JOIN DOVSADM.DOVS_EQUIPMENT_TYPES_DIM DOV4 ON DOV.EQUIPMENT_CD=DOV4.EQUIPMENT_CD\n",
    "             LEFT OUTER JOIN DOVSADM.DOVS_OUTAGE_CAUSE_TYPES_DIM DOV5 ON DOV.MJR_CAUSE_CD=DOV5.MJR_CAUSE_CD AND DOV.MNR_CAUSE_CD=DOV5.MNR_CAUSE_CD\n",
    "             LEFT OUTER JOIN DOVSADM.DOVS_PREMISE_DIM PRIM ON DOV.OUTG_REC_NB=PRIM.OUTG_REC_NB \n",
    "    WHERE    DOV.DT_OFF_TS BETWEEN {} AND '{}' {}{}\n",
    "    AND  DOV2.INTRPTN_TYP_CD = 'S'\n",
    "    AND  DOV2.CURR_REC_STAT_CD = 'A' \n",
    "    AND  DOV.MJR_CAUSE_CD <> 'NI' \n",
    "    AND  DOV.DEVICE_CD <> 85 \n",
    "    AND  DOV.STATE_ABBR_TX = 'OH'\n",
    "    \"\"\"\n",
    "    ).format(f\"'{date_0}'\", date_1, add_where_statement_1, add_where_statement_2)\n",
    "\n",
    "    return sql_outage"
   ]
  },
  {
   "cell_type": "code",
   "execution_count": null,
   "id": "25d3d4fe",
   "metadata": {},
   "outputs": [],
   "source": []
  },
  {
   "cell_type": "code",
   "execution_count": null,
   "id": "90763597",
   "metadata": {},
   "outputs": [],
   "source": []
  },
  {
   "cell_type": "code",
   "execution_count": null,
   "id": "bcebfb9a",
   "metadata": {},
   "outputs": [],
   "source": []
  },
  {
   "cell_type": "code",
   "execution_count": null,
   "id": "ecc4611d",
   "metadata": {},
   "outputs": [],
   "source": []
  },
  {
   "cell_type": "code",
   "execution_count": null,
   "id": "d9ac9a15",
   "metadata": {},
   "outputs": [],
   "source": [
    "sql_outage_full = DOVSOutages_SQL.build_sql_std_outage(mjr_mnr_cause=None, \n",
    "                                                       include_premise=True, \n",
    "                                                       date_range=[date_0_outg, date_1_outg], \n",
    "                                                       states='OH').get_sql_statement()\n",
    "sql_outage_dl_eqf = DOVSOutages_SQL.build_sql_std_outage(mjr_mnr_cause=('DL', 'EQF'), \n",
    "                                                         include_premise=True, \n",
    "                                                         date_range=[date_0_outg, date_1_outg], \n",
    "                                                         states='OH').get_sql_statement()\n",
    "sql_outage_dl_ol = DOVSOutages_SQL.build_sql_std_outage(mjr_mnr_cause=('DL', 'OL'), \n",
    "                                                        include_premise=True, \n",
    "                                                        date_range=[date_0_outg, date_1_outg], states='OH').get_sql_statement()\n",
    "print(sql_outage_full)"
   ]
  },
  {
   "cell_type": "code",
   "execution_count": null,
   "id": "bfeff6c8",
   "metadata": {},
   "outputs": [],
   "source": []
  },
  {
   "cell_type": "code",
   "execution_count": null,
   "id": "61b614c8",
   "metadata": {},
   "outputs": [],
   "source": []
  },
  {
   "cell_type": "code",
   "execution_count": null,
   "id": "a4d244d9",
   "metadata": {},
   "outputs": [],
   "source": [
    "compare_to_og = False\n",
    "if compare_to_og:\n",
    "    if 'conn_outages' not in locals():\n",
    "        conn_outages = Utilities.get_utldb01p_oracle_connection()  \n",
    "    #---------------------------\n",
    "    print('dl_ol')\n",
    "    df_outage     = pd.read_sql_query(sql_outage_dl_ol, conn_outages, dtype={'CI_NB':np.int32, 'CMI_NB':np.float, 'OUTG_REC_NB':np.int32})\n",
    "    sql_outage_dl_ol_0  = get_sql_outage_0(date_0_outg, date_1_outg, ('DL', 'OL'))\n",
    "    df_outage_0   = pd.read_sql_query(sql_outage_dl_ol_0, conn_outages, dtype={'CI_NB':np.int32, 'CMI_NB':np.float, 'OUTG_REC_NB':np.int32})\n",
    "    cols_in_new_not_old = [x for x in df_outage.columns if x not in df_outage_0.columns]\n",
    "    print(f'FYI: new columns added:\\n{cols_in_new_not_old}')\n",
    "    print(df_outage[df_outage_0.columns].sort_values(by=['OUTG_REC_NB', 'PREMISE_NB'], ignore_index=True).equals(df_outage_0.sort_values(by=['OUTG_REC_NB', 'PREMISE_NB'], ignore_index=True)))\n",
    "    print()\n",
    "    #---------------------------\n",
    "    print('dl_eqf')\n",
    "    df_outage    = pd.read_sql_query(sql_outage_dl_eqf, conn_outages, dtype={'CI_NB':np.int32, 'CMI_NB':np.float, 'OUTG_REC_NB':np.int32})\n",
    "    sql_outage_dl_eqf_0 = get_sql_outage_0(date_0_outg, date_1_outg, ('DL', 'EQF'))\n",
    "    df_outage_0  = pd.read_sql_query(sql_outage_dl_eqf_0, conn_outages, dtype={'CI_NB':np.int32, 'CMI_NB':np.float, 'OUTG_REC_NB':np.int32})\n",
    "    cols_in_new_not_old = [x for x in df_outage.columns if x not in df_outage_0.columns]\n",
    "    print(f'FYI: new columns added:\\n{cols_in_new_not_old}')\n",
    "    print(df_outage[df_outage_0.columns].sort_values(by=['OUTG_REC_NB', 'PREMISE_NB'], ignore_index=True).equals(df_outage_0.sort_values(by=['OUTG_REC_NB', 'PREMISE_NB'], ignore_index=True)))\n",
    "    print()\n",
    "    #---------------------------\n",
    "    print('full')\n",
    "    df_outage      = pd.read_sql_query(sql_outage_full, conn_outages, dtype={'CI_NB':np.int32, 'CMI_NB':np.float, 'OUTG_REC_NB':np.int32})\n",
    "    sql_outage_full_0   = get_sql_outage_0(date_0_outg, date_1_outg, None)\n",
    "    df_outage_0    = pd.read_sql_query(sql_outage_full_0, conn_outages, dtype={'CI_NB':np.int32, 'CMI_NB':np.float, 'OUTG_REC_NB':np.int32})\n",
    "    cols_in_new_not_old = [x for x in df_outage.columns if x not in df_outage_0.columns]\n",
    "    print(f'FYI: new columns added:\\n{cols_in_new_not_old}')\n",
    "    print(df_outage[df_outage_0.columns].sort_values(by=['OUTG_REC_NB', 'PREMISE_NB'], ignore_index=True).equals(df_outage_0.sort_values(by=['OUTG_REC_NB', 'PREMISE_NB'], ignore_index=True)))\n",
    "    print()"
   ]
  },
  {
   "cell_type": "code",
   "execution_count": null,
   "id": "240578fa",
   "metadata": {},
   "outputs": [],
   "source": []
  },
  {
   "cell_type": "code",
   "execution_count": null,
   "id": "267e0afe",
   "metadata": {},
   "outputs": [],
   "source": [
    "if read_dfs_from_csv:\n",
    "    df_outage_OG = pd.read_csv(os.path.join(save_dir_csvs, 'df_outage_OG.csv'), dtype=str)\n",
    "    csv_cols_and_types_to_convert_dict = {'CI_NB':np.int32, 'CMI_NB':np.float, 'OUTG_REC_NB':[np.float, np.int32]}\n",
    "    df_outage_OG = Utilities_df.convert_col_types(df_outage_OG, csv_cols_and_types_to_convert_dict)\n",
    "else:\n",
    "    df_outage_OG = pd.read_sql_query(sql_outage_full, conn_outages, dtype={'CI_NB':np.int32, \n",
    "                                                                           'CMI_NB':np.float, \n",
    "                                                                           'OUTG_REC_NB':np.int32})"
   ]
  },
  {
   "cell_type": "code",
   "execution_count": null,
   "id": "6fce7b62",
   "metadata": {},
   "outputs": [],
   "source": []
  },
  {
   "cell_type": "markdown",
   "id": "4500e315",
   "metadata": {},
   "source": [
    "# Save CSVs if save_dfs_to_csv = True"
   ]
  },
  {
   "cell_type": "code",
   "execution_count": null,
   "id": "286d73eb",
   "metadata": {},
   "outputs": [],
   "source": [
    "if save_dfs_to_csv:\n",
    "    df_outage_location_ids_OG.to_csv(os.path.join(save_dir_csvs, 'df_outage_location_ids_OG.csv'), index=False)\n",
    "    df_mp_all_OG.to_csv(os.path.join(save_dir_csvs, 'df_mp_all_OG.csv'), index=False)\n",
    "    df_mp_no_outg_OG.to_csv(os.path.join(save_dir_csvs, 'df_mp_no_outg_OG.csv'), index=False)\n",
    "    df_outage_OG.to_csv(os.path.join(save_dir_csvs, 'df_outage_OG.csv'), index=False)"
   ]
  },
  {
   "cell_type": "markdown",
   "id": "65269c89",
   "metadata": {},
   "source": [
    "# Other functions"
   ]
  },
  {
   "cell_type": "code",
   "execution_count": null,
   "id": "4c943ac2",
   "metadata": {},
   "outputs": [],
   "source": []
  },
  {
   "cell_type": "code",
   "execution_count": null,
   "id": "6fb75822",
   "metadata": {},
   "outputs": [],
   "source": []
  },
  {
   "cell_type": "code",
   "execution_count": null,
   "id": "43740b49",
   "metadata": {},
   "outputs": [],
   "source": []
  },
  {
   "cell_type": "code",
   "execution_count": null,
   "id": "d7ac821c",
   "metadata": {},
   "outputs": [],
   "source": []
  },
  {
   "cell_type": "markdown",
   "id": "e4b06319",
   "metadata": {},
   "source": [
    "# Merge df_outage with df_mp_all and build subsets (e.g., df_outage_prim, df_outage_dl_eqf, etc.) "
   ]
  },
  {
   "cell_type": "code",
   "execution_count": null,
   "id": "c0be56ff",
   "metadata": {},
   "outputs": [],
   "source": [
    "# Join df_outage with df_mp_all to append mfr_devc_ser_nbr and trsf_pole_nb data.\n",
    "#-------------------------\n",
    "# Remember, in general a premise can have mutliple meters.  Therefore, one should expect\n",
    "#   the resultant dataframe to be larger than the original.\n",
    "# This default method is:\n",
    "#       df_outage = df_outage.merge(df_mp_all[['mfr_devc_ser_nbr', 'prem_nb', 'trsf_pole_nb']], how='left', \n",
    "#                                   left_on='PREMISE_NB', right_on='prem_nb')\n",
    "#-------------------------\n",
    "# If, instead, one wants the resultant dataframe to be the same size as the original, the\n",
    "#   mfr_devc_ser_nbr data should not be included.\n",
    "#   This can be achieved e.g., by:\n",
    "#         df_outage = df_outage.merge(df_mp_all[['prem_nb', 'trsf_pole_nb']].drop_duplicates(), how='left', \n",
    "#                                     left_on='PREMISE_NB', right_on='prem_nb')\n",
    "#-------------------------\n",
    "# NOTE: Cases where df_outage['PREMISE_NB']!=df_outage['prem_nb'] should only occur when\n",
    "#       df_outage['prem_nb'] is NaN, meaning the premise number from the outage data\n",
    "#       was not found in the meter premise"
   ]
  },
  {
   "cell_type": "code",
   "execution_count": null,
   "id": "d5d72dcd",
   "metadata": {},
   "outputs": [],
   "source": [
    "#TODO why are prem_nb in df_mp_all all integers?  Whereas PREMISE_NB in df_outage\n",
    "# are strings, and can be purely numerical, a alphanumeric, or all letters\n",
    "if read_dfs_from_csv:\n",
    "    df_mp_all['prem_nb'] = df_mp_all['prem_nb'].astype(str)"
   ]
  },
  {
   "cell_type": "code",
   "execution_count": null,
   "id": "f17eae25",
   "metadata": {},
   "outputs": [],
   "source": []
  },
  {
   "cell_type": "code",
   "execution_count": null,
   "id": "10d35561",
   "metadata": {},
   "outputs": [],
   "source": []
  },
  {
   "cell_type": "code",
   "execution_count": null,
   "id": "37043aa8",
   "metadata": {},
   "outputs": [],
   "source": []
  },
  {
   "cell_type": "code",
   "execution_count": null,
   "id": "39baffc4",
   "metadata": {},
   "outputs": [],
   "source": [
    "df_outage = df_outage_OG.copy()\n",
    "df_outage = df_outage.merge(df_mp_all, how='left', \n",
    "                            left_on='PREMISE_NB', right_on='prem_nb')\n",
    "df_outage = Utilities_df.convert_col_types(\n",
    "    df=df_outage, \n",
    "    cols_and_types_dict={'annual_kwh':float, 'annual_max_dmnd':float}, \n",
    "    to_numeric_errors='coerce', \n",
    "    inplace=True\n",
    ")\n",
    "# Below, 'prim' stands for primary, and means the meters are connected directly to a transformer pole causing an outage\n",
    "df_outage_prim = df_outage[df_outage['LOCATION_ID']==df_outage['trsf_pole_nb']].copy()\n",
    "\n",
    "# Below, 'prim_strict' stands for primary strict, and means the  meters are connected directly \n",
    "# to a transformer pole causing an outage, AND the equipment type causing the outage is a transformer\n",
    "# (exact EQUIP_TYP_NMs given in xfmr_equip_typ_nms_of_interest)\n",
    "xfmr_equip_typ_nms_of_interest = ['TRANSFORMER, OH', 'TRANSFORMER, UG']\n",
    "df_outage_prim_strict = df_outage[(df_outage['LOCATION_ID']==df_outage['trsf_pole_nb']) & \n",
    "                                  (df_outage['EQUIP_TYP_NM'].isin(xfmr_equip_typ_nms_of_interest))].copy()"
   ]
  },
  {
   "cell_type": "code",
   "execution_count": null,
   "id": "ceb32671",
   "metadata": {},
   "outputs": [],
   "source": []
  },
  {
   "cell_type": "code",
   "execution_count": null,
   "id": "aba32333",
   "metadata": {},
   "outputs": [],
   "source": [
    "df_outage[df_outage['PREMISE_NB'] != df_outage['prem_nb']]"
   ]
  },
  {
   "cell_type": "code",
   "execution_count": null,
   "id": "76f4dbe3",
   "metadata": {},
   "outputs": [],
   "source": [
    "df_outage.shape"
   ]
  },
  {
   "cell_type": "markdown",
   "id": "f91c822f",
   "metadata": {},
   "source": [
    "# Find top outage causes "
   ]
  },
  {
   "cell_type": "code",
   "execution_count": null,
   "id": "2a0b477a",
   "metadata": {},
   "outputs": [],
   "source": [
    "# Grab top 5 outage causes\n",
    "# Just want one outage per column without repeat\n",
    "# To achieve this, utilize cols_for_drop_duplicates\n",
    "cols_for_drop_duplicates = ['CI_NB', 'CMI_NB', 'OUTG_REC_NB', 'STATE_ABBR_TX', 'MJR_CAUSE_CD', 'MNR_CAUSE_CD', 'LOCATION_ID']\n",
    "top_n=5\n",
    "top_outage_metrics=['cmi', 'ci', 'n_outages']\n",
    "mjr_cause_col='MJR_CAUSE_CD'\n",
    "mnr_cause_col='MNR_CAUSE_CD'\n",
    "cmi_nb_col='CMI_NB'\n",
    "ci_nb_col='CI_NB'\n",
    "\n",
    "top_5_outage_mjr_mnr_causes = DOVSOutages.get_top_n_outage_mjr_mnr_causes(df_outage, cols_for_drop_duplicates, \n",
    "                                                              top_outage_metrics=top_outage_metrics, top_n=top_n, \n",
    "                                                              mjr_cause_col=mjr_cause_col, mnr_cause_col=mnr_cause_col, \n",
    "                                                              cmi_nb_col=cmi_nb_col, ci_nb_col=ci_nb_col)\n",
    "#---------------------------------------\n",
    "top5_mjr_mnr_causes_ci = top_5_outage_mjr_mnr_causes['ci']\n",
    "top5_mjr_mnr_causes_cmi = top_5_outage_mjr_mnr_causes['cmi']\n",
    "top5_mjr_mnr_causes_count = top_5_outage_mjr_mnr_causes['n_outages']\n",
    "#---------------------------------------\n",
    "# Build subset dfs\n",
    "(top5_df_outages_ci, \n",
    " top5_df_outages_by_xfmr_ci) = DOVSOutages.build_top_5_df_outages_subsets(top5_mjr_mnr_causes_ci, df_outage)\n",
    "(top5_df_outages_prim_ci, \n",
    " top5_df_outages_prim_by_xfmr_ci) = DOVSOutages.build_top_5_df_outages_subsets(top5_mjr_mnr_causes_ci, df_outage_prim)\n",
    "(top5_df_outages_prim_strict_ci, \n",
    " top5_df_outages_prim_strict_by_xfmr_ci) = DOVSOutages.build_top_5_df_outages_subsets(top5_mjr_mnr_causes_ci, df_outage_prim_strict)\n",
    "#-----\n",
    "(top5_df_outages_cmi, \n",
    " top5_df_outages_by_xfmr_cmi) = DOVSOutages.build_top_5_df_outages_subsets(top5_mjr_mnr_causes_cmi, df_outage)\n",
    "(top5_df_outages_prim_cmi, \n",
    " top5_df_outages_prim_by_xfmr_cmi) = DOVSOutages.build_top_5_df_outages_subsets(top5_mjr_mnr_causes_cmi, df_outage_prim)\n",
    "(top5_df_outages_prim_strict_cmi, \n",
    " top5_df_outages_prim_strict_by_xfmr_cmi) = DOVSOutages.build_top_5_df_outages_subsets(top5_mjr_mnr_causes_cmi, df_outage_prim_strict)\n",
    "#-----\n",
    "(top5_df_outages_count, \n",
    " top5_df_outages_by_xfmr_count) = DOVSOutages.build_top_5_df_outages_subsets(top5_mjr_mnr_causes_count, df_outage)\n",
    "(top5_df_outages_prim_count, \n",
    " top5_df_outages_prim_by_xfmr_count) = DOVSOutages.build_top_5_df_outages_subsets(top5_mjr_mnr_causes_count, df_outage_prim)\n",
    "(top5_df_outages_prim_strict_count, \n",
    " top5_df_outages_prim_strict_by_xfmr_count) = DOVSOutages.build_top_5_df_outages_subsets(top5_mjr_mnr_causes_count, df_outage_prim_strict)"
   ]
  },
  {
   "cell_type": "code",
   "execution_count": null,
   "id": "558a9820",
   "metadata": {},
   "outputs": [],
   "source": []
  },
  {
   "cell_type": "code",
   "execution_count": null,
   "id": "8fae7bca",
   "metadata": {},
   "outputs": [],
   "source": []
  },
  {
   "cell_type": "code",
   "execution_count": null,
   "id": "bf97d656",
   "metadata": {
    "scrolled": true
   },
   "outputs": [],
   "source": [
    "#TODO NEED TO ADJUST DOVSOutages.consolidate_df_outage now that e.g. mfr_devc_ser_nbr is included in df_outage\n",
    "# df_outage_consolidate = DOVSOutages.consolidate_df_outage(df_outage, cols_to_drop=None)\n",
    "# df_outage_consolidate.head()"
   ]
  },
  {
   "cell_type": "code",
   "execution_count": null,
   "id": "4d669990",
   "metadata": {},
   "outputs": [],
   "source": [
    "#!!!!!!!!!!!!!!!!!!!!!!!!!!!!!!!!!!!!!!!!!!!!!!!!!!!!!!!!!!!!!!!!!!!!!!!!!!!!!!!!!!!!!!!!!!!!!!!!\n",
    "# NOTE: Duplicates need to be removed for plotting\n",
    "#   e.g., df1_outg_and_mp_prem[[x for x in df1_outg_and_mp_prem.columns if x in cols_of_interest_met_prem]].drop_duplicates()\n",
    "#!!!!!!!!!!!!!!!!!!!!!!!!!!!!!!!!!!!!!!!!!!!!!!!!!!!!!!!!!!!!!!!!!!!!!!!!!!!!!!!!!!!!!!!!!!!!!!!!"
   ]
  },
  {
   "cell_type": "markdown",
   "id": "6aa3a813",
   "metadata": {},
   "source": [
    "# Build meter premise DataFrame"
   ]
  },
  {
   "cell_type": "code",
   "execution_count": null,
   "id": "4d52197d",
   "metadata": {},
   "outputs": [],
   "source": []
  },
  {
   "cell_type": "code",
   "execution_count": null,
   "id": "f65b4a85",
   "metadata": {},
   "outputs": [],
   "source": [
    "# !!!!!!!!!!!!!!!!!!!!!!!!!!!!!!!!!!!!!!!!!!!!!!!!!!!!!!!!!!!!!!!!!!!!!!!!!!!!!!!!!!!!!!!!!!!!!!!!!!!!!!!!!\n",
    "# NOTE: If multiple serial number exist for a premise number, it appear (UPON FIRST, LIMITED INSPECTION)\n",
    "# that all values are the same between the two serial number EXCEPT mfr_devc_ser_nbr (obviously)\n",
    "# and possibly longitude,latitude\n",
    "# This means, e.g. annual_kwh and annual_max_dmnd are the same for the two serial numbers\n",
    "#   Which implies there are actually tallied per premise, not per meter\n",
    "# !!!!!!!!!!!!!!!!!!!!!!!!!!!!!!!!!!!!!!!!!!!!!!!!!!!!!!!!!!!!!!!!!!!!!!!!!!!!!!!!!!!!!!!!!!!!!!!!!!!!!!!!!"
   ]
  },
  {
   "cell_type": "markdown",
   "id": "91facb46",
   "metadata": {},
   "source": [
    "I used to run targeted SQL queries.  \n",
    "However, it is actually MUCH quicker to first build df_mp_all (consisting of all the meter premise data for OH),\n",
    "and then select the outage subset from it.\n",
    "Furthermore, df_mp_all is now built above, so it's ready to go.\n",
    "The old, targeted, SQL queries (sql_mp_full_outg and sql_mp) are reproduced below, but no longer used"
   ]
  },
  {
   "cell_type": "code",
   "execution_count": null,
   "id": "3c7abd33",
   "metadata": {},
   "outputs": [],
   "source": [
    "sql_mp_full_outg = (\n",
    "\"\"\"\n",
    "SELECT {}\n",
    "FROM default.meter_premise\n",
    "WHERE state_cd IN ({})\n",
    "AND prem_nb IN ({})\n",
    "\"\"\"\n",
    ").format(','.join(cols_of_interest_met_prem), \n",
    "         ','.join([\"'{}'\".format(x) for x in df_outage['STATE_ABBR_TX'].unique().tolist()]), \n",
    "         ','.join([\"'{}'\".format(x) for x in df_outage['PREMISE_NB'].unique().tolist()]))\n",
    "#print(sql_mp_full_outg)"
   ]
  },
  {
   "cell_type": "code",
   "execution_count": null,
   "id": "cf09f7f1",
   "metadata": {},
   "outputs": [],
   "source": [
    "sql_mp = (\n",
    "\"\"\"\n",
    "SELECT {}\n",
    "FROM default.meter_premise\n",
    "WHERE state_cd IN ({})\n",
    "AND trsf_pole_nb IN ({})\n",
    "\"\"\"\n",
    ").format(','.join(cols_of_interest_met_prem), \n",
    "         ','.join([\"'{}'\".format(x) for x in df_outage['STATE_ABBR_TX'].unique().tolist()]), \n",
    "         ','.join([\"'{}'\".format(x) for x in df_outage['LOCATION_ID'].unique().tolist()]))\n",
    "#print(sql_mp)"
   ]
  },
  {
   "cell_type": "code",
   "execution_count": null,
   "id": "75cbdf6e",
   "metadata": {},
   "outputs": [],
   "source": []
  },
  {
   "cell_type": "code",
   "execution_count": null,
   "id": "778a9ba4",
   "metadata": {},
   "outputs": [],
   "source": []
  },
  {
   "cell_type": "code",
   "execution_count": null,
   "id": "c0de19f5",
   "metadata": {},
   "outputs": [],
   "source": []
  },
  {
   "cell_type": "code",
   "execution_count": null,
   "id": "af6c96a9",
   "metadata": {},
   "outputs": [],
   "source": [
    "df_outage_save = df_outage.copy()\n",
    "df_outage_prim_save = df_outage_prim.copy()\n",
    "df_outage_prim_strict_save = df_outage_prim_strict.copy()"
   ]
  },
  {
   "cell_type": "markdown",
   "id": "39dc44c6",
   "metadata": {},
   "source": [
    "### Keep only entries whose trsf_pole_nb contains at least one numerical digit\n",
    "Eliminates, e.g. ['TRANSMISSION', 'NETWORK', ' ', 'PRIMARY', 'IDONOTKNOWXX','HJKHKJHKJ']"
   ]
  },
  {
   "cell_type": "code",
   "execution_count": null,
   "id": "363b77a8",
   "metadata": {},
   "outputs": [],
   "source": [
    "df_outage = df_outage_save.copy()\n",
    "df_outage_prim = df_outage_prim_save.copy()\n",
    "df_outage_prim_strict = df_outage_prim_strict_save.copy()"
   ]
  },
  {
   "cell_type": "code",
   "execution_count": null,
   "id": "ff068dd6",
   "metadata": {},
   "outputs": [],
   "source": [
    "[df_outage, \n",
    " df_outage_prim, \n",
    " df_outage_prim_strict, \n",
    " df_mp_no_outg] = DOVSOutages.remove_trsf_pole_nb_without_numeric_digit([df_outage, \n",
    "                                                            df_outage_prim, \n",
    "                                                            df_outage_prim_strict, \n",
    "                                                            df_mp_no_outg])\n",
    "#---------------------------------\n",
    "df_outage_dl_eqf = DOVSOutages.get_mjr_mnr_cause_df_outage_subset(df_outage, 'DL', 'EQF', return_copy=True)\n",
    "df_outage_dl_eqf_prim = DOVSOutages.get_mjr_mnr_cause_df_outage_subset(df_outage_prim, 'DL', 'EQF', return_copy=True)\n",
    "df_outage_dl_eqf_prim_strict = DOVSOutages.get_mjr_mnr_cause_df_outage_subset(df_outage_prim_strict, 'DL', 'EQF', return_copy=True)\n",
    "\n",
    "df_outage_dl_ol = DOVSOutages.get_mjr_mnr_cause_df_outage_subset(df_outage, 'DL', 'OL', return_copy=True)\n",
    "df_outage_dl_ol_prim = DOVSOutages.get_mjr_mnr_cause_df_outage_subset(df_outage_prim, 'DL', 'OL', return_copy=True)\n",
    "df_outage_dl_ol_prim_strict = DOVSOutages.get_mjr_mnr_cause_df_outage_subset(df_outage_prim_strict, 'DL', 'OL', return_copy=True)"
   ]
  },
  {
   "cell_type": "code",
   "execution_count": null,
   "id": "a2b180f2",
   "metadata": {},
   "outputs": [],
   "source": [
    "df_outage.shape"
   ]
  },
  {
   "cell_type": "code",
   "execution_count": null,
   "id": "31d03cf4",
   "metadata": {},
   "outputs": [],
   "source": []
  },
  {
   "cell_type": "code",
   "execution_count": null,
   "id": "2365385b",
   "metadata": {},
   "outputs": [],
   "source": [
    "#!!!!!!!!!!!!!!!!!!!!!!!!!!!!!!!!!!!!!!!!!!!!!!!!!!!!!!!!!!!!!!!!!!!!!!!!!!!!!!!!!!!!!!!!!!!!!!!!\n",
    "# NOTE: Duplicates need to be removed for plotting\n",
    "#   e.g., df1_outg_and_mp_prem[[x for x in df1_outg_and_mp_prem.columns if x in cols_of_interest_met_prem]].drop_duplicates()\n",
    "#!!!!!!!!!!!!!!!!!!!!!!!!!!!!!!!!!!!!!!!!!!!!!!!!!!!!!!!!!!!!!!!!!!!!!!!!!!!!!!!!!!!!!!!!!!!!!!!!"
   ]
  },
  {
   "cell_type": "code",
   "execution_count": null,
   "id": "a5e258c2",
   "metadata": {},
   "outputs": [],
   "source": []
  },
  {
   "cell_type": "code",
   "execution_count": null,
   "id": "0fedce05",
   "metadata": {},
   "outputs": [],
   "source": []
  },
  {
   "cell_type": "code",
   "execution_count": null,
   "id": "93338c30",
   "metadata": {},
   "outputs": [],
   "source": []
  },
  {
   "cell_type": "code",
   "execution_count": null,
   "id": "af5e343e",
   "metadata": {},
   "outputs": [],
   "source": []
  },
  {
   "cell_type": "code",
   "execution_count": null,
   "id": "76a5f09b",
   "metadata": {},
   "outputs": [],
   "source": []
  },
  {
   "cell_type": "code",
   "execution_count": null,
   "id": "b6f81d5c",
   "metadata": {},
   "outputs": [],
   "source": []
  },
  {
   "cell_type": "code",
   "execution_count": null,
   "id": "7f3d536d",
   "metadata": {},
   "outputs": [],
   "source": []
  },
  {
   "cell_type": "code",
   "execution_count": null,
   "id": "89064674",
   "metadata": {},
   "outputs": [],
   "source": []
  },
  {
   "cell_type": "code",
   "execution_count": null,
   "id": "a91124eb",
   "metadata": {},
   "outputs": [],
   "source": []
  },
  {
   "cell_type": "code",
   "execution_count": null,
   "id": "f39b1195",
   "metadata": {},
   "outputs": [],
   "source": []
  },
  {
   "cell_type": "code",
   "execution_count": null,
   "id": "0e69220f",
   "metadata": {},
   "outputs": [],
   "source": [
    "# FUCK\n",
    "# TODO develop method which takes in df_outage type dataframe and output\n",
    "# df_outage_by_meter, df_outage_by_xfmr, df_outage_by_outage\n",
    "#\n",
    "# TODO develop method which takes in df_outage type dataframe and outputs\n",
    "# df_outage_prim, df_outage_prim_strict\n",
    "#\n",
    "# TODO combine two methods"
   ]
  },
  {
   "cell_type": "code",
   "execution_count": null,
   "id": "9dd5d71e",
   "metadata": {},
   "outputs": [],
   "source": [
    "# By meter = Aggregate for entire pool of meters.  \n",
    "#            Each meter counted only once, regardless of the number of outages suffered\n",
    "# By transformer = For each transformer in the collection, all connected meters are first aggregated\n",
    "#                  All transformers in the collection are then aggregated\n",
    "#                  Each transformer contributes once, regardless of the number of outages suffered\n",
    "# By outage = Similar to by transformer, but each transformer contributes as many times as outages it suffered\n",
    "#-------------------------\n",
    "# by_mxo = by_meter_xfmr_outage\n",
    "#---------------------------------------------------------\n",
    "cols_for_drop_duplicates = [x for x in df_outage.columns if x in cols_of_interest_met_prem]\n",
    "#-------------------------\n",
    "dfs_outg_dict_by_mxo = DOVSOutages.build_df_outage_by_meter_xfmr_outage(df_outage, cols_for_drop_duplicates)\n",
    "#-------------------------\n",
    "dfs_outg_dict_by_mxo_prim = DOVSOutages.build_df_outage_by_meter_xfmr_outage(df_outage_prim, cols_for_drop_duplicates)\n",
    "#-------------------------\n",
    "dfs_outg_dict_by_mxo_prim_strict = DOVSOutages.build_df_outage_by_meter_xfmr_outage(df_outage_prim_strict, cols_for_drop_duplicates)\n",
    "#-------------------------\n",
    "#---------------------------------------------------------\n",
    "dfs_outg_dict_by_mxo_dl_ol = DOVSOutages.build_df_outage_by_meter_xfmr_outage(DOVSOutages.get_mjr_mnr_cause_df_outage_subset(df_outage, 'DL', 'OL', return_copy=True), \n",
    "                                                                  cols_for_drop_duplicates)\n",
    "#-------------------------\n",
    "dfs_outg_dict_by_mxo_dl_ol_prim = DOVSOutages.build_df_outage_by_meter_xfmr_outage(DOVSOutages.get_mjr_mnr_cause_df_outage_subset(df_outage_prim, 'DL', 'OL', return_copy=True), \n",
    "                                                                  cols_for_drop_duplicates)\n",
    "#-------------------------\n",
    "dfs_outg_dict_by_mxo_dl_ol_prim_strict = DOVSOutages.build_df_outage_by_meter_xfmr_outage(DOVSOutages.get_mjr_mnr_cause_df_outage_subset(df_outage_prim_strict, 'DL', 'OL', return_copy=True), \n",
    "                                                                  cols_for_drop_duplicates)\n",
    "#-------------------------\n",
    "#---------------------------------------------------------\n",
    "dfs_outg_dict_by_mxo_dl_eqf = DOVSOutages.build_df_outage_by_meter_xfmr_outage(DOVSOutages.get_mjr_mnr_cause_df_outage_subset(df_outage, 'DL', 'EQF', return_copy=True), \n",
    "                                                                   cols_for_drop_duplicates)\n",
    "#-------------------------\n",
    "dfs_outg_dict_by_mxo_dl_eqf_prim = DOVSOutages.build_df_outage_by_meter_xfmr_outage(DOVSOutages.get_mjr_mnr_cause_df_outage_subset(df_outage_prim, 'DL', 'EQF', return_copy=True), \n",
    "                                                                        cols_for_drop_duplicates)\n",
    "#-------------------------\n",
    "dfs_outg_dict_by_mxo_dl_eqf_prim_strict = DOVSOutages.build_df_outage_by_meter_xfmr_outage(DOVSOutages.get_mjr_mnr_cause_df_outage_subset(df_outage_prim_strict, 'DL', 'EQF', return_copy=True), \n",
    "                                                                        cols_for_drop_duplicates)\n",
    "#-------------------------\n",
    "#---------------------------------------------------------"
   ]
  },
  {
   "cell_type": "code",
   "execution_count": null,
   "id": "0e2881c3",
   "metadata": {},
   "outputs": [],
   "source": [
    "# df_mp_no_outg\n",
    "# By meter\n",
    "# Not really necessary for df_mp_no_outg, as the call below does nothing\n",
    "df_mp_no_outg_by_meter = df_mp_no_outg[[x for x in df_mp_no_outg.columns if x in cols_of_interest_met_prem]].drop_duplicates().dropna(how='all')\n",
    "assert (df_mp_no_outg.equals(df_mp_no_outg_by_meter))\n",
    "# By transformer\n",
    "df_mp_no_outg_by_xfmr  = df_mp_no_outg_by_meter.groupby('trsf_pole_nb')[['annual_kwh', 'annual_max_dmnd']].sum()\n",
    "\n",
    "# by_mx = by_meter_xfmr\n",
    "dfs_mp_no_outg_dict_by_mx = {'by_meter':df_mp_no_outg_by_meter, \n",
    "                             'by_xfmr':df_mp_no_outg_by_xfmr}"
   ]
  },
  {
   "cell_type": "code",
   "execution_count": null,
   "id": "7022d73a",
   "metadata": {},
   "outputs": [],
   "source": []
  },
  {
   "cell_type": "code",
   "execution_count": null,
   "id": "fc5f4146",
   "metadata": {},
   "outputs": [],
   "source": []
  },
  {
   "cell_type": "code",
   "execution_count": null,
   "id": "7d661b0f",
   "metadata": {},
   "outputs": [],
   "source": []
  },
  {
   "cell_type": "code",
   "execution_count": null,
   "id": "16243b23",
   "metadata": {},
   "outputs": [],
   "source": [
    "print(f\"df_mp_all_OG.shape            = {df_mp_all_OG.shape}\")\n",
    "print(f\"df_mp_all.shape               = {df_mp_all.shape}\")\n",
    "print()\n",
    "print(f\"df_outage_OG.shape            = {df_outage_OG.shape}\")\n",
    "print(f\"df_outage.shape               = {df_outage.shape}\")\n",
    "print()\n",
    "print(f\"dfs_outg_dict_by_mxo_prim['by_meter'].shape = {dfs_outg_dict_by_mxo_prim['by_meter'].shape}\")\n",
    "print(f\"dfs_outg_dict_by_mxo_prim['by_xfmr'].shape  = {dfs_outg_dict_by_mxo_prim['by_xfmr'].shape}\")\n",
    "print()"
   ]
  },
  {
   "cell_type": "code",
   "execution_count": null,
   "id": "7bddab4b",
   "metadata": {},
   "outputs": [],
   "source": [
    "# sns.histplot(data=tips, y=\"size\", color = \"green\")\n",
    "dfs_outg_dict_by_mxo_prim_strict['by_xfmr']['annual_kwh']"
   ]
  },
  {
   "cell_type": "code",
   "execution_count": null,
   "id": "159c3c89",
   "metadata": {},
   "outputs": [],
   "source": []
  },
  {
   "cell_type": "markdown",
   "id": "b1473f18",
   "metadata": {},
   "source": [
    "# By transformer"
   ]
  },
  {
   "cell_type": "code",
   "execution_count": null,
   "id": "cc5e15c1",
   "metadata": {},
   "outputs": [],
   "source": [
    "conn_outages = Utilities.get_utldb01p_oracle_connection()\n",
    "df_outg_cause_dim = pd.read_sql('SELECT * FROM DOVSADM.DOVS_OUTAGE_CAUSE_TYPES_DIM', conn_outages)  "
   ]
  },
  {
   "cell_type": "code",
   "execution_count": null,
   "id": "09d2c220",
   "metadata": {},
   "outputs": [],
   "source": []
  },
  {
   "cell_type": "code",
   "execution_count": null,
   "id": "cab386f1",
   "metadata": {},
   "outputs": [],
   "source": [
    "min_max_and_bin_size=(0.0, 2.5e5, 2.5e4/2.0)\n",
    "stat='density'\n",
    "include_over_underflow=[True, False]\n",
    "keep_edges_opaque=True\n",
    "include_hatches=True\n",
    "draw_side_by_side=True\n",
    "draw_single_idx_full_width=3\n",
    "alpha=0.250\n",
    "#----------------------------------------\n",
    "fig, (ax0,ax1,ax2) = plt.subplots(3, 1, num=fig_num, figsize=[14, 18])\n",
    "subplots_adjust_args = get_subplots_adjust_args_annual_kwh_3x1()\n",
    "plt.subplots_adjust(**subplots_adjust_args)\n",
    "#----------------------------------------\n",
    "dfs_with_args = [(dfs_outg_dict_by_mxo_prim_strict['by_xfmr'], dict(color='goldenrod', alpha=alpha, label=\"Outages (Direct)\")), \n",
    "                 (dfs_outg_dict_by_mxo_prim['by_xfmr'], dict(color='green', alpha=alpha, label=\"Outages (Xfmr tied to Outg. Location ID)\")), \n",
    "                 (dfs_outg_dict_by_mxo['by_xfmr'],      dict(color='red', alpha=alpha, label=\"Outages (All Xfmrs)\")), \n",
    "                 (dfs_mp_no_outg_dict_by_mx['by_xfmr'], dict(color='blue', hatch=None, alpha=alpha/2, label=\"No Outages\", zorder=-1))]\n",
    "ax0 = plot_multiple_annual_kwh_hist(ax0, dfs_w_args = dfs_with_args, \n",
    "                                    min_max_and_bin_size=min_max_and_bin_size, \n",
    "                                    include_over_underflow=include_over_underflow, stat=stat, plot_sns=False, \n",
    "                                    keep_edges_opaque=keep_edges_opaque, include_hatches=include_hatches,\n",
    "                                    draw_side_by_side=draw_side_by_side, draw_single_idx_full_width=draw_single_idx_full_width,\n",
    "                                    draw_legend=True, legend_args=dict(fontsize=15), \n",
    "                                    title_args=dict(label=f'Annual kWh - Transformer Level (All Outage Causes)', fontsize=20), \n",
    "                                    ylabel_args = dict(ylabel=f'{stat.capitalize()}', fontsize=20, x=0.0, y=0.8, ha='left', va='bottom'), \n",
    "                                    xlabel_args = dict(xlabel='Annual kWh', fontsize=20, x=0.9, y=0.0, ha='right', va='top'), \n",
    "                                    tick_args=[dict(axis='x', labelrotation=0, labelsize=15), \n",
    "                                              dict(axis='y', labelsize=15)])\n",
    "#----------------------------------------\n",
    "dfs_with_args = [(dfs_outg_dict_by_mxo_dl_ol_prim_strict['by_xfmr'], dict(color='goldenrod', alpha=alpha, label=\"Outages (Direct)\")), \n",
    "                 (dfs_outg_dict_by_mxo_dl_ol_prim['by_xfmr'], dict(color='green', alpha=alpha, label=\"Outages (Xfmr tied to Outg. Location ID)\")),          \n",
    "                 (dfs_outg_dict_by_mxo_dl_ol['by_xfmr'],      dict(color='red', alpha=alpha, label=\"Outages (All Xfmrs)\")), \n",
    "                 (dfs_mp_no_outg_dict_by_mx['by_xfmr'],       dict(color='blue', hatch=None, alpha=alpha/2.0, label=\"No Outages\"))]\n",
    "title = f\"Annual kWh - Transformer Level ({get_mjr_mnr_nms_from_cds(('DL', 'OL'), df_outg_cause_dim, combine_output=True)})\"\n",
    "ax1 = plot_multiple_annual_kwh_hist(ax1, dfs_w_args = dfs_with_args, \n",
    "                                    min_max_and_bin_size=min_max_and_bin_size, \n",
    "                                    include_over_underflow=include_over_underflow, stat=stat, plot_sns=False, \n",
    "                                    keep_edges_opaque=keep_edges_opaque, include_hatches=include_hatches,\n",
    "                                    draw_side_by_side=draw_side_by_side, draw_single_idx_full_width=draw_single_idx_full_width,\n",
    "                                    draw_legend=True, legend_args=dict(fontsize=15), \n",
    "                                    title_args=dict(label=title, fontsize=20), \n",
    "                                    ylabel_args = dict(ylabel=f'{stat.capitalize()}', fontsize=20, x=0.0, y=0.8, ha='left', va='bottom'), \n",
    "                                    xlabel_args = dict(xlabel='Annual kWh', fontsize=20, x=0.9, y=0.0, ha='right', va='top'), \n",
    "                                    tick_args=[dict(axis='x', labelrotation=0, labelsize=15), \n",
    "                                               dict(axis='y', labelsize=15)])\n",
    "#----------------------------------------\n",
    "dfs_with_args = [(dfs_outg_dict_by_mxo_dl_eqf_prim_strict['by_xfmr'], dict(color='goldenrod', alpha=alpha, label=\"Outages (Direct)\")), \n",
    "                 (dfs_outg_dict_by_mxo_dl_eqf_prim['by_xfmr'], dict(color='green', alpha=alpha, label=\"Outages (Xfmr tied to Outg. Location ID)\")),  \n",
    "                 (dfs_outg_dict_by_mxo_dl_eqf['by_xfmr'],      dict(color='red', alpha=alpha, label=\"Outages (All Xfmrs)\")), \n",
    "                 (dfs_mp_no_outg_dict_by_mx['by_xfmr'],        dict(color='blue', alpha=alpha/2, hatch=None, label=\"No Outages\"))]\n",
    "title = f\"Annual kWh - Transformer Level ({get_mjr_mnr_nms_from_cds(('DL', 'EQF'), df_outg_cause_dim, combine_output=True)})\"\n",
    "ax2 = plot_multiple_annual_kwh_hist(ax2, dfs_w_args = dfs_with_args, \n",
    "                                    min_max_and_bin_size=min_max_and_bin_size, \n",
    "                                    include_over_underflow=include_over_underflow, stat=stat, plot_sns=False, \n",
    "                                    keep_edges_opaque=keep_edges_opaque, include_hatches=include_hatches,\n",
    "                                    draw_side_by_side=draw_side_by_side, draw_single_idx_full_width=draw_single_idx_full_width,\n",
    "                                    draw_legend=True, legend_args=dict(fontsize=15), \n",
    "                                    title_args=dict(label=title, fontsize=20), \n",
    "                                    ylabel_args = dict(ylabel=f'{stat.capitalize()}', fontsize=20, x=0.0, y=0.8, ha='left', va='bottom'), \n",
    "                                    xlabel_args = dict(xlabel='Annual kWh', fontsize=20, x=0.9, y=0.0, ha='right', va='top'), \n",
    "                                    tick_args=[dict(axis='x', labelrotation=0, labelsize=15), \n",
    "                                               dict(axis='y', labelsize=15)])\n",
    "#----------------------------------------\n",
    "# if save_figs:\n",
    "#     save_dir = os.path.join(save_dir_base_figs , 'annual_kwh', 'XfmrLevel', 'PDF')\n",
    "#     save_name = 'annual_kwh_hist_direct_vs_all_3x1_causes.pdf'\n",
    "#     save_fig(fig, save_dir, save_name)\n",
    "#     #-----\n",
    "#     save_dir = os.path.join(save_dir_base_figs , 'annual_kwh', 'XfmrLevel', 'PNG')\n",
    "#     save_name = 'annual_kwh_hist_direct_vs_all_3x1_causes.png'\n",
    "#     save_fig(fig, save_dir, save_name)\n",
    "#----------------------------------------\n",
    "fig_num+=1"
   ]
  },
  {
   "cell_type": "code",
   "execution_count": null,
   "id": "86e29151",
   "metadata": {},
   "outputs": [],
   "source": []
  },
  {
   "cell_type": "code",
   "execution_count": null,
   "id": "a9e9c55b",
   "metadata": {},
   "outputs": [],
   "source": [
    "min_max_and_bin_size=(0.0, 2.5e5, 2.5e4/2.0)\n",
    "stat='density'\n",
    "include_over_underflow=[True, False]\n",
    "keep_edges_opaque=True\n",
    "include_hatches=True\n",
    "draw_side_by_side=True\n",
    "draw_single_idx_full_width=3\n",
    "alpha=0.250\n",
    "#----------------------------------------\n",
    "fig, (ax0,ax1,ax2) = plt.subplots(3, 1, num=fig_num, figsize=[14, 18])\n",
    "subplots_adjust_args = get_subplots_adjust_args_annual_kwh_3x1()\n",
    "plt.subplots_adjust(**subplots_adjust_args)\n",
    "#----------------------------------------\n",
    "dfs_with_args = [(dfs_outg_dict_by_mxo_prim_strict['by_xfmr'], dict(color='goldenrod', alpha=alpha, label=\"Outages (Direct)\")), \n",
    "                 (dfs_outg_dict_by_mxo_prim['by_xfmr'], dict(color='green', alpha=alpha, label=\"Outages (Xfmr tied to Outg. Location ID)\")), \n",
    "                 (dfs_outg_dict_by_mxo['by_xfmr'],      dict(color='red', alpha=alpha, label=\"Outages (All Xfmrs)\")), \n",
    "                 (dfs_mp_no_outg_dict_by_mx['by_xfmr'], dict(color='blue', hatch=None, alpha=alpha/2, label=\"No Outages\", zorder=-1))]\n",
    "ax0 = plot_multiple_annual_kwh_hist(ax0, dfs_w_args = dfs_with_args, \n",
    "                                    min_max_and_bin_size=min_max_and_bin_size, \n",
    "                                    include_over_underflow=include_over_underflow, stat=stat, plot_sns=False, \n",
    "                                    keep_edges_opaque=keep_edges_opaque, include_hatches=include_hatches,\n",
    "                                    draw_side_by_side=draw_side_by_side, draw_single_idx_full_width=draw_single_idx_full_width,\n",
    "                                    orient='h', \n",
    "                                    draw_legend=True, legend_args=dict(fontsize=15), \n",
    "                                    title_args=dict(label=f'Annual kWh - Transformer Level (All Outage Causes)', fontsize=20), \n",
    "                                    ylabel_args = dict(ylabel=f'{stat.capitalize()}', fontsize=20, x=0.0, y=0.8, ha='left', va='bottom'), \n",
    "                                    xlabel_args = dict(xlabel='Annual kWh', fontsize=20, x=0.9, y=0.0, ha='right', va='top'), \n",
    "                                    tick_args=[dict(axis='x', labelrotation=0, labelsize=15), \n",
    "                                              dict(axis='y', labelsize=15)])\n",
    "#----------------------------------------\n",
    "dfs_with_args = [(dfs_outg_dict_by_mxo_dl_ol_prim_strict['by_xfmr'], dict(color='goldenrod', alpha=alpha, label=\"Outages (Direct)\")), \n",
    "                 (dfs_outg_dict_by_mxo_dl_ol_prim['by_xfmr'], dict(color='green', alpha=alpha, label=\"Outages (Xfmr tied to Outg. Location ID)\")),          \n",
    "                 (dfs_outg_dict_by_mxo_dl_ol['by_xfmr'],      dict(color='red', alpha=alpha, label=\"Outages (All Xfmrs)\")), \n",
    "                 (dfs_mp_no_outg_dict_by_mx['by_xfmr'],       dict(color='blue', hatch=None, alpha=alpha/2.0, label=\"No Outages\"))]\n",
    "title = f\"Annual kWh - Transformer Level ({get_mjr_mnr_nms_from_cds(('DL', 'OL'), df_outg_cause_dim, combine_output=True)})\"\n",
    "ax1 = plot_multiple_annual_kwh_hist(ax1, dfs_w_args = dfs_with_args, \n",
    "                                    min_max_and_bin_size=min_max_and_bin_size, \n",
    "                                    include_over_underflow=include_over_underflow, stat=stat, plot_sns=False, \n",
    "                                    keep_edges_opaque=keep_edges_opaque, include_hatches=include_hatches,\n",
    "                                    draw_side_by_side=draw_side_by_side, draw_single_idx_full_width=draw_single_idx_full_width,\n",
    "                                    orient='h', \n",
    "                                    draw_legend=True, legend_args=dict(fontsize=15), \n",
    "                                    title_args=dict(label=title, fontsize=20), \n",
    "                                    ylabel_args = dict(ylabel=f'{stat.capitalize()}', fontsize=20, x=0.0, y=0.8, ha='left', va='bottom'), \n",
    "                                    xlabel_args = dict(xlabel='Annual kWh', fontsize=20, x=0.9, y=0.0, ha='right', va='top'), \n",
    "                                    tick_args=[dict(axis='x', labelrotation=0, labelsize=15), \n",
    "                                               dict(axis='y', labelsize=15)])\n",
    "#----------------------------------------\n",
    "dfs_with_args = [(dfs_outg_dict_by_mxo_dl_eqf_prim_strict['by_xfmr'], dict(color='goldenrod', alpha=alpha, label=\"Outages (Direct)\")), \n",
    "                 (dfs_outg_dict_by_mxo_dl_eqf_prim['by_xfmr'], dict(color='green', alpha=alpha, label=\"Outages (Xfmr tied to Outg. Location ID)\")),  \n",
    "                 (dfs_outg_dict_by_mxo_dl_eqf['by_xfmr'],      dict(color='red', alpha=alpha, label=\"Outages (All Xfmrs)\")), \n",
    "                 (dfs_mp_no_outg_dict_by_mx['by_xfmr'],        dict(color='blue', alpha=alpha/2, hatch=None, label=\"No Outages\"))]\n",
    "title = f\"Annual kWh - Transformer Level ({get_mjr_mnr_nms_from_cds(('DL', 'EQF'), df_outg_cause_dim, combine_output=True)})\"\n",
    "ax2 = plot_multiple_annual_kwh_hist(ax2, dfs_w_args = dfs_with_args, \n",
    "                                    min_max_and_bin_size=min_max_and_bin_size, \n",
    "                                    include_over_underflow=include_over_underflow, stat=stat, plot_sns=False, \n",
    "                                    keep_edges_opaque=keep_edges_opaque, include_hatches=include_hatches,\n",
    "                                    draw_side_by_side=draw_side_by_side, draw_single_idx_full_width=draw_single_idx_full_width,\n",
    "                                    orient='h', \n",
    "                                    draw_legend=True, legend_args=dict(fontsize=15), \n",
    "                                    title_args=dict(label=title, fontsize=20), \n",
    "                                    ylabel_args = dict(ylabel=f'{stat.capitalize()}', fontsize=20, x=0.0, y=0.8, ha='left', va='bottom'), \n",
    "                                    xlabel_args = dict(xlabel='Annual kWh', fontsize=20, x=0.9, y=0.0, ha='right', va='top'), \n",
    "                                    tick_args=[dict(axis='x', labelrotation=0, labelsize=15), \n",
    "                                               dict(axis='y', labelsize=15)])\n",
    "#----------------------------------------\n",
    "# if save_figs:\n",
    "#     save_dir = os.path.join(save_dir_base_figs , 'annual_kwh', 'XfmrLevel', 'PDF')\n",
    "#     save_name = 'annual_kwh_hist_direct_vs_all_3x1_causes.pdf'\n",
    "#     save_fig(fig, save_dir, save_name)\n",
    "#     #-----\n",
    "#     save_dir = os.path.join(save_dir_base_figs , 'annual_kwh', 'XfmrLevel', 'PNG')\n",
    "#     save_name = 'annual_kwh_hist_direct_vs_all_3x1_causes.png'\n",
    "#     save_fig(fig, save_dir, save_name)\n",
    "#----------------------------------------\n",
    "fig_num+=1"
   ]
  },
  {
   "cell_type": "code",
   "execution_count": null,
   "id": "98d4f43d",
   "metadata": {},
   "outputs": [],
   "source": [
    "min_max_and_bin_size=(0.0, 2.5e5, 2.5e4/2.0)\n",
    "stat='density'\n",
    "include_over_underflow=[True, False]\n",
    "keep_edges_opaque=True\n",
    "include_hatches=True\n",
    "draw_side_by_side=True\n",
    "draw_single_idx_full_width=3\n",
    "alpha=0.250\n",
    "#----------------------------------------\n",
    "fig, (ax0,ax1,ax2) = plt.subplots(3, 1, num=fig_num, figsize=[14, 18])\n",
    "subplots_adjust_args = get_subplots_adjust_args_annual_kwh_3x1()\n",
    "plt.subplots_adjust(**subplots_adjust_args)\n",
    "#----------------------------------------\n",
    "dfs_with_args = [(dfs_outg_dict_by_mxo_prim_strict['by_xfmr'], dict(color='goldenrod', alpha=alpha, label=\"Outages (Direct)\")), \n",
    "                 (dfs_outg_dict_by_mxo_prim['by_xfmr'], dict(color='green', alpha=alpha, label=\"Outages (Xfmr tied to Outg. Location ID)\")), \n",
    "                 (dfs_outg_dict_by_mxo['by_xfmr'],      dict(color='red', alpha=alpha, label=\"Outages (All Xfmrs)\")), \n",
    "                 (dfs_mp_no_outg_dict_by_mx['by_xfmr'], dict(color='blue', hatch=None, alpha=alpha/2, label=\"No Outages\", zorder=-1))]\n",
    "ax0 = plot_multiple_annual_kwh_hist(ax0, dfs_w_args = dfs_with_args, \n",
    "                                    min_max_and_bin_size=min_max_and_bin_size, \n",
    "                                    include_over_underflow=include_over_underflow, stat=stat, plot_sns=True, \n",
    "                                    keep_edges_opaque=keep_edges_opaque, include_hatches=include_hatches,\n",
    "                                    draw_side_by_side=draw_side_by_side, draw_single_idx_full_width=draw_single_idx_full_width,\n",
    "                                    orient='h', \n",
    "                                    draw_legend=True, legend_args=dict(fontsize=15), \n",
    "                                    title_args=dict(label=f'Annual kWh - Transformer Level (All Outage Causes)', fontsize=20), \n",
    "                                    ylabel_args = dict(ylabel=f'{stat.capitalize()}', fontsize=20, x=0.0, y=0.8, ha='left', va='bottom'), \n",
    "                                    xlabel_args = dict(xlabel='Annual kWh', fontsize=20, x=0.9, y=0.0, ha='right', va='top'), \n",
    "                                    tick_args=[dict(axis='x', labelrotation=0, labelsize=15), \n",
    "                                              dict(axis='y', labelsize=15)])\n",
    "#----------------------------------------\n",
    "dfs_with_args = [(dfs_outg_dict_by_mxo_dl_ol_prim_strict['by_xfmr'], dict(color='goldenrod', alpha=alpha, label=\"Outages (Direct)\")), \n",
    "                 (dfs_outg_dict_by_mxo_dl_ol_prim['by_xfmr'], dict(color='green', alpha=alpha, label=\"Outages (Xfmr tied to Outg. Location ID)\")),          \n",
    "                 (dfs_outg_dict_by_mxo_dl_ol['by_xfmr'],      dict(color='red', alpha=alpha, label=\"Outages (All Xfmrs)\")), \n",
    "                 (dfs_mp_no_outg_dict_by_mx['by_xfmr'],       dict(color='blue', hatch=None, alpha=alpha/2.0, label=\"No Outages\"))]\n",
    "title = f\"Annual kWh - Transformer Level ({get_mjr_mnr_nms_from_cds(('DL', 'OL'), df_outg_cause_dim, combine_output=True)})\"\n",
    "ax1 = plot_multiple_annual_kwh_hist(ax1, dfs_w_args = dfs_with_args, \n",
    "                                    min_max_and_bin_size=min_max_and_bin_size, \n",
    "                                    include_over_underflow=include_over_underflow, stat=stat, plot_sns=True, \n",
    "                                    keep_edges_opaque=keep_edges_opaque, include_hatches=include_hatches,\n",
    "                                    draw_side_by_side=draw_side_by_side, draw_single_idx_full_width=draw_single_idx_full_width,\n",
    "                                    orient='h', \n",
    "                                    draw_legend=True, legend_args=dict(fontsize=15), \n",
    "                                    title_args=dict(label=title, fontsize=20), \n",
    "                                    ylabel_args = dict(ylabel=f'{stat.capitalize()}', fontsize=20, x=0.0, y=0.8, ha='left', va='bottom'), \n",
    "                                    xlabel_args = dict(xlabel='Annual kWh', fontsize=20, x=0.9, y=0.0, ha='right', va='top'), \n",
    "                                    tick_args=[dict(axis='x', labelrotation=0, labelsize=15), \n",
    "                                               dict(axis='y', labelsize=15)])\n",
    "#----------------------------------------\n",
    "dfs_with_args = [(dfs_outg_dict_by_mxo_dl_eqf_prim_strict['by_xfmr'], dict(color='goldenrod', alpha=alpha, label=\"Outages (Direct)\")), \n",
    "                 (dfs_outg_dict_by_mxo_dl_eqf_prim['by_xfmr'], dict(color='green', alpha=alpha, label=\"Outages (Xfmr tied to Outg. Location ID)\")),  \n",
    "                 (dfs_outg_dict_by_mxo_dl_eqf['by_xfmr'],      dict(color='red', alpha=alpha, label=\"Outages (All Xfmrs)\")), \n",
    "                 (dfs_mp_no_outg_dict_by_mx['by_xfmr'],        dict(color='blue', alpha=alpha/2, hatch=None, label=\"No Outages\"))]\n",
    "title = f\"Annual kWh - Transformer Level ({get_mjr_mnr_nms_from_cds(('DL', 'EQF'), df_outg_cause_dim, combine_output=True)})\"\n",
    "ax2 = plot_multiple_annual_kwh_hist(ax2, dfs_w_args = dfs_with_args, \n",
    "                                    min_max_and_bin_size=min_max_and_bin_size, \n",
    "                                    include_over_underflow=include_over_underflow, stat=stat, plot_sns=True, \n",
    "                                    keep_edges_opaque=keep_edges_opaque, include_hatches=include_hatches,\n",
    "                                    draw_side_by_side=draw_side_by_side, draw_single_idx_full_width=draw_single_idx_full_width,\n",
    "                                    orient='h', \n",
    "                                    draw_legend=True, legend_args=dict(fontsize=15), \n",
    "                                    title_args=dict(label=title, fontsize=20), \n",
    "                                    ylabel_args = dict(ylabel=f'{stat.capitalize()}', fontsize=20, x=0.0, y=0.8, ha='left', va='bottom'), \n",
    "                                    xlabel_args = dict(xlabel='Annual kWh', fontsize=20, x=0.9, y=0.0, ha='right', va='top'), \n",
    "                                    tick_args=[dict(axis='x', labelrotation=0, labelsize=15), \n",
    "                                               dict(axis='y', labelsize=15)])\n",
    "#----------------------------------------\n",
    "# if save_figs:\n",
    "#     save_dir = os.path.join(save_dir_base_figs , 'annual_kwh', 'XfmrLevel', 'PDF')\n",
    "#     save_name = 'annual_kwh_hist_direct_vs_all_3x1_causes.pdf'\n",
    "#     save_fig(fig, save_dir, save_name)\n",
    "#     #-----\n",
    "#     save_dir = os.path.join(save_dir_base_figs , 'annual_kwh', 'XfmrLevel', 'PNG')\n",
    "#     save_name = 'annual_kwh_hist_direct_vs_all_3x1_causes.png'\n",
    "#     save_fig(fig, save_dir, save_name)\n",
    "#----------------------------------------\n",
    "fig_num+=1"
   ]
  },
  {
   "cell_type": "code",
   "execution_count": null,
   "id": "45ba5fc4",
   "metadata": {},
   "outputs": [],
   "source": []
  },
  {
   "cell_type": "code",
   "execution_count": null,
   "id": "e69b2a9b",
   "metadata": {},
   "outputs": [],
   "source": []
  },
  {
   "cell_type": "code",
   "execution_count": null,
   "id": "cebf9ea1",
   "metadata": {},
   "outputs": [],
   "source": []
  },
  {
   "cell_type": "code",
   "execution_count": null,
   "id": "5cf16fd5",
   "metadata": {},
   "outputs": [],
   "source": [
    "dfs_dicts_with_args_test = {'dfs_outg_dict_by_mxo_prim':\n",
    "                       (dfs_outg_dict_by_mxo_prim,        dict(color='green', alpha=alpha, label=\"Outages (Xfmr tied to Outg. Location ID)\")), \n",
    "                       'dfs_outg_dict_by_mxo_prim_strict':\n",
    "                       (dfs_outg_dict_by_mxo_prim_strict, dict(color='goldenrod', alpha=alpha, label=\"Outages (Direct)\")), \n",
    "                       'dfs_outg_dict_by_mxo':\n",
    "                       (dfs_outg_dict_by_mxo,             dict(color='red', alpha=alpha, label=\"Outages (All Xfmrs)\")), \n",
    "                       'dfs_mp_no_outg_dict_by_mx':\n",
    "                       (dfs_mp_no_outg_dict_by_mx,        dict(color='blue', hatch=None, alpha=alpha/2.0, label=\"No Outages\", zorder=-1))}"
   ]
  },
  {
   "cell_type": "code",
   "execution_count": null,
   "id": "acad7401",
   "metadata": {},
   "outputs": [],
   "source": [
    "min_max_and_bin_size=(0.0, 2.5e5, 2.5e4/2.0)\n",
    "stat='density'\n",
    "include_over_underflow=[True, False]\n",
    "keep_edges_opaque=True\n",
    "include_hatches=True\n",
    "draw_side_by_side=True\n",
    "draw_single_idx_full_width=3\n",
    "alpha=0.250\n",
    "#----------------------------------------\n",
    "fig, (ax0,ax1,ax2) = plt.subplots(3, 1, num=fig_num, figsize=[14, 18])\n",
    "subplots_adjust_args = get_subplots_adjust_args_annual_kwh_3x1()\n",
    "plt.subplots_adjust(**subplots_adjust_args)\n",
    "#----------------------------------------\n",
    "dfs_to_include = ['dfs_outg_dict_by_mxo_prim', 'dfs_outg_dict_by_mxo_prim_strict', 'dfs_outg_dict_by_mxo', 'dfs_mp_no_outg_dict_by_mx']\n",
    "dfs_with_args = [(x[0]['by_xfmr'], x[1]) for k,x in dfs_dicts_with_args_test.items() if k in dfs_to_include]\n",
    "ax0 = plot_multiple_annual_kwh_hist(ax0, dfs_w_args = dfs_with_args, \n",
    "                                    min_max_and_bin_size=min_max_and_bin_size, \n",
    "                                    include_over_underflow=include_over_underflow, stat=stat, plot_sns=False, \n",
    "                                    keep_edges_opaque=keep_edges_opaque, include_hatches=include_hatches,\n",
    "                                    draw_side_by_side=draw_side_by_side, draw_single_idx_full_width=draw_single_idx_full_width,\n",
    "                                    draw_legend=True, legend_args=dict(fontsize=15), \n",
    "                                    title_args=dict(label=f'Annual kWh - Transformer Level (All Outage Causes)', fontsize=20), \n",
    "                                    ylabel_args = dict(ylabel=f'{stat.capitalize()}', fontsize=20, x=0.0, y=0.8, ha='left', va='bottom'), \n",
    "                                    xlabel_args = dict(xlabel='Annual kWh', fontsize=20, x=0.9, y=0.0, ha='right', va='top'), \n",
    "                                    tick_args=[dict(axis='x', labelrotation=0, labelsize=15), \n",
    "                                              dict(axis='y', labelsize=15)])\n",
    "#----------------------------------------\n",
    "dfs_with_args = [(dfs_outg_dict_by_mxo_dl_ol_prim['by_xfmr'], dict(color='green', alpha=alpha, label=\"Outages (Xfmr tied to Outg. Location ID)\")), \n",
    "                 (dfs_outg_dict_by_mxo_dl_ol_prim_strict['by_xfmr'], dict(color='goldenrod', alpha=alpha, label=\"Outages (Direct)\")), \n",
    "                 (dfs_outg_dict_by_mxo_dl_ol['by_xfmr'],      dict(color='red', alpha=alpha, label=\"Outages (All Xfmrs)\")), \n",
    "                 (dfs_mp_no_outg_dict_by_mx['by_xfmr'],       dict(color='blue', hatch=None, alpha=alpha/2.0, label=\"No Outages\"))]\n",
    "title = f\"Annual kWh - Transformer Level ({get_mjr_mnr_nms_from_cds(('DL', 'OL'), df_outg_cause_dim, combine_output=True)})\"\n",
    "ax1 = plot_multiple_annual_kwh_hist(ax1, dfs_w_args = dfs_with_args, \n",
    "                                    min_max_and_bin_size=min_max_and_bin_size, \n",
    "                                    include_over_underflow=include_over_underflow, stat=stat, plot_sns=False, \n",
    "                                    keep_edges_opaque=keep_edges_opaque, include_hatches=include_hatches,\n",
    "                                    draw_side_by_side=draw_side_by_side, draw_single_idx_full_width=draw_single_idx_full_width,\n",
    "                                    draw_legend=True, legend_args=dict(fontsize=15), \n",
    "                                    title_args=dict(label=title, fontsize=20), \n",
    "                                    ylabel_args = dict(ylabel=f'{stat.capitalize()}', fontsize=20, x=0.0, y=0.8, ha='left', va='bottom'), \n",
    "                                    xlabel_args = dict(xlabel='Annual kWh', fontsize=20, x=0.9, y=0.0, ha='right', va='top'), \n",
    "                                    tick_args=[dict(axis='x', labelrotation=0, labelsize=15), \n",
    "                                               dict(axis='y', labelsize=15)])\n",
    "#----------------------------------------\n",
    "dfs_with_args = [(dfs_outg_dict_by_mxo_dl_eqf_prim['by_xfmr'], dict(color='green', alpha=alpha, label=\"Outages (Xfmr tied to Outg. Location ID)\")), \n",
    "                 (dfs_outg_dict_by_mxo_dl_eqf_prim_strict['by_xfmr'], dict(color='goldenrod', alpha=alpha, label=\"Outages (Direct)\")), \n",
    "                 (dfs_outg_dict_by_mxo_dl_eqf['by_xfmr'],      dict(color='red', alpha=alpha, label=\"Outages (All Xfmrs)\")), \n",
    "                 (dfs_mp_no_outg_dict_by_mx['by_xfmr'],        dict(color='blue', alpha=alpha/2, hatch=None, label=\"No Outages\"))]\n",
    "title = f\"Annual kWh - Transformer Level ({get_mjr_mnr_nms_from_cds(('DL', 'EQF'), df_outg_cause_dim, combine_output=True)})\"\n",
    "ax2 = plot_multiple_annual_kwh_hist(ax2, dfs_w_args = dfs_with_args, \n",
    "                                    min_max_and_bin_size=min_max_and_bin_size, \n",
    "                                    include_over_underflow=include_over_underflow, stat=stat, plot_sns=False, \n",
    "                                    keep_edges_opaque=keep_edges_opaque, include_hatches=include_hatches,\n",
    "                                    draw_side_by_side=draw_side_by_side, draw_single_idx_full_width=draw_single_idx_full_width,\n",
    "                                    draw_legend=True, legend_args=dict(fontsize=15), \n",
    "                                    title_args=dict(label=title, fontsize=20), \n",
    "                                    ylabel_args = dict(ylabel=f'{stat.capitalize()}', fontsize=20, x=0.0, y=0.8, ha='left', va='bottom'), \n",
    "                                    xlabel_args = dict(xlabel='Annual kWh', fontsize=20, x=0.9, y=0.0, ha='right', va='top'), \n",
    "                                    tick_args=[dict(axis='x', labelrotation=0, labelsize=15), \n",
    "                                               dict(axis='y', labelsize=15)])\n",
    "#----------------------------------------\n",
    "# if save_figs:\n",
    "#     save_dir = os.path.join(save_dir_base_figs , 'annual_kwh', 'XfmrLevel', 'PDF')\n",
    "#     save_name = 'annual_kwh_hist_direct_vs_all_3x1_causes.pdf'\n",
    "#     save_fig(fig, save_dir, save_name)\n",
    "#     #-----\n",
    "#     save_dir = os.path.join(save_dir_base_figs , 'annual_kwh', 'XfmrLevel', 'PNG')\n",
    "#     save_name = 'annual_kwh_hist_direct_vs_all_3x1_causes.png'\n",
    "#     save_fig(fig, save_dir, save_name)\n",
    "#----------------------------------------\n",
    "fig_num+=1"
   ]
  },
  {
   "cell_type": "code",
   "execution_count": null,
   "id": "779a5e83",
   "metadata": {},
   "outputs": [],
   "source": []
  },
  {
   "cell_type": "code",
   "execution_count": null,
   "id": "b427c09f",
   "metadata": {},
   "outputs": [],
   "source": []
  },
  {
   "cell_type": "code",
   "execution_count": null,
   "id": "e4be3ccf",
   "metadata": {},
   "outputs": [],
   "source": []
  },
  {
   "cell_type": "code",
   "execution_count": null,
   "id": "e30b5e35",
   "metadata": {},
   "outputs": [],
   "source": []
  },
  {
   "cell_type": "code",
   "execution_count": null,
   "id": "187e2ff7",
   "metadata": {},
   "outputs": [],
   "source": []
  },
  {
   "cell_type": "code",
   "execution_count": null,
   "id": "d83c9600",
   "metadata": {},
   "outputs": [],
   "source": []
  },
  {
   "cell_type": "code",
   "execution_count": null,
   "id": "8bcee174",
   "metadata": {},
   "outputs": [],
   "source": []
  },
  {
   "cell_type": "code",
   "execution_count": null,
   "id": "4c58c552",
   "metadata": {},
   "outputs": [],
   "source": []
  },
  {
   "cell_type": "code",
   "execution_count": null,
   "id": "534d9a67",
   "metadata": {},
   "outputs": [],
   "source": []
  },
  {
   "cell_type": "code",
   "execution_count": null,
   "id": "6594b117",
   "metadata": {},
   "outputs": [],
   "source": []
  },
  {
   "cell_type": "code",
   "execution_count": null,
   "id": "ddf585c2",
   "metadata": {},
   "outputs": [],
   "source": []
  },
  {
   "cell_type": "code",
   "execution_count": null,
   "id": "9bd6320f",
   "metadata": {},
   "outputs": [],
   "source": []
  },
  {
   "cell_type": "code",
   "execution_count": null,
   "id": "400bd163",
   "metadata": {},
   "outputs": [],
   "source": []
  },
  {
   "cell_type": "code",
   "execution_count": null,
   "id": "8386777a",
   "metadata": {},
   "outputs": [],
   "source": []
  },
  {
   "cell_type": "code",
   "execution_count": null,
   "id": "3f50cf2b",
   "metadata": {},
   "outputs": [],
   "source": []
  },
  {
   "cell_type": "code",
   "execution_count": null,
   "id": "2d3c9985",
   "metadata": {},
   "outputs": [],
   "source": []
  },
  {
   "cell_type": "markdown",
   "id": "3e8463ed",
   "metadata": {},
   "source": [
    "# BEGIN DELETE\n",
    "Why aren't there more counts in by_outage than by_transformer?"
   ]
  },
  {
   "cell_type": "code",
   "execution_count": null,
   "id": "ef9a9b68",
   "metadata": {},
   "outputs": [],
   "source": [
    "#FUCK TODO\n",
    "#LOOKING AT PLOT BELOW, WHERE OUTG HAS HUGE OVERFLOW\n",
    "# ==> Must be a small number of high annual_kwh transformers which \n",
    "#     suffer many outages\n",
    "\n",
    "# TODO: Can I look at number of outages suffered vs annual_kwh\n",
    "# EVEN BETTER: Can I look at heat map of number of outages with annual_kwh"
   ]
  },
  {
   "cell_type": "code",
   "execution_count": null,
   "id": "eff23fff",
   "metadata": {},
   "outputs": [],
   "source": [
    "min_max_and_bin_size=(0.0, 2.5e5, 2.5e4/2.0)\n",
    "stat='density'\n",
    "include_over_underflow=[True, False]\n",
    "keep_edges_opaque=True\n",
    "include_hatches=False\n",
    "draw_side_by_side=True\n",
    "draw_single_idx_full_width=None\n",
    "alpha=1.0\n",
    "#----------------------------------------\n",
    "fig, axs = plt.subplots(2, 2, num=fig_num, figsize=[28, 12], sharex=False)\n",
    "axs = axs.flatten()\n",
    "subplots_adjust_args = {'left':0.075, 'right':0.975, \n",
    "                        'bottom':0.075, 'top':0.90, \n",
    "                        'wspace':0.2, 'hspace':0.35}\n",
    "plt.subplots_adjust(**subplots_adjust_args)\n",
    "#----------------------------------------\n",
    "dfs_with_args = [(dfs_outg_dict_by_mxo_prim['by_xfmr'],        dict(color='green', alpha=alpha, label=\"Outages: All Causes (Xfmr Level)\")), \n",
    "                 (dfs_outg_dict_by_mxo_prim['by_outg'],        dict(color='darkgreen', alpha=alpha, label=\"Outages: All Causes (Outg Level)\"))]\n",
    "axs[0] = plot_multiple_annual_kwh_hist(axs[0], dfs_w_args = dfs_with_args, \n",
    "                                    min_max_and_bin_size=min_max_and_bin_size, \n",
    "                                    include_over_underflow=include_over_underflow, stat=stat, plot_sns=False, \n",
    "                                    keep_edges_opaque=keep_edges_opaque, include_hatches=include_hatches,\n",
    "                                    draw_side_by_side=draw_side_by_side, draw_single_idx_full_width=draw_single_idx_full_width,\n",
    "                                    draw_legend=True, legend_args=dict(fontsize=15), \n",
    "                                    title_args=dict(label=f'Xfmr tied to Outg. Location ID - Density', fontsize=25), \n",
    "                                    ylabel_args = dict(ylabel=f'{stat.capitalize()}', fontsize=20, x=0.0, y=0.8, ha='left', va='bottom'), \n",
    "                                    xlabel_args = dict(xlabel='Annual kWh', fontsize=20, x=0.9, y=0.0, ha='right', va='top'), \n",
    "                                    tick_args=[dict(axis='x', labelrotation=0, labelsize=15), \n",
    "                                               dict(axis='y', labelsize=15)])\n",
    "\n",
    "\n",
    "dfs_with_args = [(dfs_outg_dict_by_mxo['by_xfmr'],        dict(color='green', alpha=alpha, label=\"Outages: All Causes (Xfmr Level)\")), \n",
    "                 (dfs_outg_dict_by_mxo['by_outg'],        dict(color='darkgreen', alpha=alpha, label=\"Outages: All Causes (Outg Level)\"))]\n",
    "axs[2] = plot_multiple_annual_kwh_hist(axs[2], dfs_w_args = dfs_with_args, \n",
    "                                    min_max_and_bin_size=min_max_and_bin_size, \n",
    "                                    include_over_underflow=include_over_underflow, stat=stat, plot_sns=False, \n",
    "                                    keep_edges_opaque=keep_edges_opaque, include_hatches=include_hatches,\n",
    "                                    draw_side_by_side=draw_side_by_side, draw_single_idx_full_width=draw_single_idx_full_width,\n",
    "                                    draw_legend=True, legend_args=dict(fontsize=15), \n",
    "                                    title_args=dict(label=f'All Outage Xfmrs - Density', fontsize=25), \n",
    "                                    ylabel_args = dict(ylabel=f'{stat.capitalize()}', fontsize=20, x=0.0, y=0.8, ha='left', va='bottom'), \n",
    "                                    xlabel_args = dict(xlabel='Annual kWh', fontsize=20, x=0.9, y=0.0, ha='right', va='top'), \n",
    "                                    tick_args=[dict(axis='x', labelrotation=0, labelsize=15), \n",
    "                                               dict(axis='y', labelsize=15)])\n",
    "#----------------------------------------\n",
    "#----------------------------------------\n",
    "stat='count'\n",
    "#--------------\n",
    "dfs_with_args = [(dfs_outg_dict_by_mxo_prim['by_xfmr'],        dict(color='green', alpha=alpha, label=\"Outages: All Causes (Xfmr Level)\")), \n",
    "                 (dfs_outg_dict_by_mxo_prim['by_outg'],        dict(color='darkgreen', alpha=alpha, label=\"Outages: All Causes (Outg Level)\"))]\n",
    "axs[1] = plot_multiple_annual_kwh_hist(axs[1], dfs_w_args = dfs_with_args, \n",
    "                                    min_max_and_bin_size=min_max_and_bin_size, \n",
    "                                    include_over_underflow=include_over_underflow, stat=stat, plot_sns=False, \n",
    "                                    keep_edges_opaque=keep_edges_opaque, include_hatches=include_hatches,\n",
    "                                    draw_side_by_side=draw_side_by_side, draw_single_idx_full_width=draw_single_idx_full_width,\n",
    "                                    draw_legend=True, legend_args=dict(fontsize=15), \n",
    "                                    title_args=dict(label=f'Xfmr tied to Outg. Location ID - Count', fontsize=25), \n",
    "                                    ylabel_args = dict(ylabel=f'{stat.capitalize()}', fontsize=20, x=0.0, y=0.8, ha='left', va='bottom'), \n",
    "                                    xlabel_args = dict(xlabel='Annual kWh', fontsize=20, x=0.9, y=0.0, ha='right', va='top'), \n",
    "                                    tick_args=[dict(axis='x', labelrotation=0, labelsize=15), \n",
    "                                               dict(axis='y', labelsize=15)])\n",
    "\n",
    "\n",
    "dfs_with_args = [(dfs_outg_dict_by_mxo['by_xfmr'],        dict(color='green', alpha=alpha, label=\"Outages: All Causes (Xfmr Level)\")), \n",
    "                 (dfs_outg_dict_by_mxo['by_outg'],        dict(color='darkgreen', alpha=alpha, label=\"Outages: All Causes (Outg Level)\"))]\n",
    "axs[3] = plot_multiple_annual_kwh_hist(axs[3], dfs_w_args = dfs_with_args, \n",
    "                                    min_max_and_bin_size=min_max_and_bin_size, \n",
    "                                    include_over_underflow=include_over_underflow, stat=stat, plot_sns=False, \n",
    "                                    keep_edges_opaque=keep_edges_opaque, include_hatches=include_hatches,\n",
    "                                    draw_side_by_side=draw_side_by_side, draw_single_idx_full_width=draw_single_idx_full_width,\n",
    "                                    draw_legend=True, legend_args=dict(fontsize=15), \n",
    "                                    title_args=dict(label=f'All Outage Xfmrs - Count', fontsize=25), \n",
    "                                    ylabel_args = dict(ylabel=f'{stat.capitalize()}', fontsize=20, x=0.0, y=0.8, ha='left', va='bottom'), \n",
    "                                    xlabel_args = dict(xlabel='Annual kWh', fontsize=20, x=0.9, y=0.0, ha='right', va='top'), \n",
    "                                    tick_args=[dict(axis='x', labelrotation=0, labelsize=15), \n",
    "                                               dict(axis='y', labelsize=15)])\n",
    "#----------------------------------------\n",
    "fig.suptitle('Annual kWh - Transformer vs. Outage Level', fontsize=40, \n",
    "             x=0.5*(subplots_adjust_args['left']+subplots_adjust_args['right']), ha='center')\n",
    "#----------------------------------------\n",
    "if save_figs:\n",
    "    save_dir = os.path.join(save_dir_base_figs , 'annual_kwh', 'XfmrVsOutgLevel', 'PDF')\n",
    "    save_name = 'annual_kwh_hist_all_causes.pdf'\n",
    "    save_fig(fig, save_dir, save_name)\n",
    "    #-----\n",
    "    save_dir = os.path.join(save_dir_base_figs , 'annual_kwh', 'XfmrVsOutgLevel', 'PNG')\n",
    "    save_name = 'annual_kwh_hist_all_causes.png'\n",
    "    save_fig(fig, save_dir, save_name)\n",
    "#----------------------------------------\n",
    "fig_num+=1"
   ]
  },
  {
   "cell_type": "code",
   "execution_count": null,
   "id": "8dbab63f",
   "metadata": {},
   "outputs": [],
   "source": [
    "we1 = df_outage.groupby(['trsf_pole_nb', 'OUTG_REC_NB']).agg({'annual_kwh':'sum', 'annual_max_dmnd':'sum'})\n",
    "we1"
   ]
  },
  {
   "cell_type": "code",
   "execution_count": null,
   "id": "0e61d9da",
   "metadata": {},
   "outputs": [],
   "source": [
    "we2 = df_outage.groupby(['OUTG_REC_NB', 'trsf_pole_nb']).agg({'annual_kwh':'sum', 'annual_max_dmnd':'sum'})\n",
    "we2"
   ]
  },
  {
   "cell_type": "code",
   "execution_count": null,
   "id": "83158afe",
   "metadata": {},
   "outputs": [],
   "source": [
    "we2b = we2.groupby(level=0).agg({'annual_kwh':'mean', 'annual_max_dmnd':'mean'})\n",
    "we2b"
   ]
  },
  {
   "cell_type": "code",
   "execution_count": null,
   "id": "e2280ac9",
   "metadata": {},
   "outputs": [],
   "source": [
    "we1.loc[('1615473439541', 12132222)]"
   ]
  },
  {
   "cell_type": "code",
   "execution_count": null,
   "id": "7510f2fe",
   "metadata": {},
   "outputs": [],
   "source": [
    "we2.loc[(12132222, '1615473439541')]"
   ]
  },
  {
   "cell_type": "code",
   "execution_count": null,
   "id": "fae0a1a3",
   "metadata": {},
   "outputs": [],
   "source": []
  },
  {
   "cell_type": "code",
   "execution_count": null,
   "id": "5b9b9618",
   "metadata": {},
   "outputs": [],
   "source": [
    "cols_for_drop_duplicates = [x for x in df_outage.columns if x in cols_of_interest_met_prem]\n",
    "xfmr_gpby_cols=['trsf_pole_nb']\n",
    "xfmr_gpby_agg_dict={'annual_kwh':'sum', 'annual_max_dmnd':'sum'}\n",
    "outg_gpby_cols=['OUTG_REC_NB']\n",
    "outg_gpby_agg_dict={'annual_kwh':'sum', 'annual_max_dmnd':'sum'}\n",
    "\n",
    "tmp_df_outage_by_meter = df_outage[cols_for_drop_duplicates].drop_duplicates().dropna(how='all')\n",
    "tmp_df_outage_by_xfmr  = tmp_df_outage_by_meter.groupby(xfmr_gpby_cols).agg(xfmr_gpby_agg_dict)\n",
    "tmp_df_outage_by_outg  = df_outage.groupby(outg_gpby_cols).agg(outg_gpby_agg_dict)"
   ]
  },
  {
   "cell_type": "code",
   "execution_count": null,
   "id": "6ad9cdea",
   "metadata": {},
   "outputs": [],
   "source": [
    "tmp_df_outage_by_outg_v2  = df_outage.groupby(xfmr_gpby_cols).agg(outg_gpby_agg_dict)"
   ]
  },
  {
   "cell_type": "code",
   "execution_count": null,
   "id": "d27e412d",
   "metadata": {},
   "outputs": [],
   "source": [
    "print(f'tmp_df_outage_by_meter.shape   = {tmp_df_outage_by_meter.shape}')\n",
    "print(f'tmp_df_outage_by_xfmr.shape    = {tmp_df_outage_by_xfmr.shape}')\n",
    "print(f'tmp_df_outage_by_outg.shape    = {tmp_df_outage_by_outg.shape}')\n",
    "print(f'tmp_df_outage_by_outg_v2.shape = {tmp_df_outage_by_outg_v2.shape}')"
   ]
  },
  {
   "cell_type": "code",
   "execution_count": null,
   "id": "ed512aa3",
   "metadata": {},
   "outputs": [],
   "source": [
    "print(f\"tmp_df_outage_by_meter['annual_kwh'].sum()   = {tmp_df_outage_by_meter['annual_kwh'].sum()}\")\n",
    "print(f\"tmp_df_outage_by_xfmr['annual_kwh'].sum()    = {tmp_df_outage_by_xfmr['annual_kwh'].sum()}\")\n",
    "print(f\"tmp_df_outage_by_outg['annual_kwh'].sum()    = {tmp_df_outage_by_outg['annual_kwh'].sum()}\")\n",
    "print(f\"tmp_df_outage_by_outg_v2['annual_kwh'].sum() = {tmp_df_outage_by_outg_v2['annual_kwh'].sum()}\")"
   ]
  },
  {
   "cell_type": "code",
   "execution_count": null,
   "id": "7cf21fd7",
   "metadata": {},
   "outputs": [],
   "source": []
  },
  {
   "cell_type": "code",
   "execution_count": null,
   "id": "c02da2f0",
   "metadata": {},
   "outputs": [],
   "source": []
  },
  {
   "cell_type": "code",
   "execution_count": null,
   "id": "1fde9f9b",
   "metadata": {},
   "outputs": [],
   "source": [
    "tmp_df_outage_by_outg[tmp_df_outage_by_outg['annual_kwh']<tmp_df_outage_by_outg['annual_kwh']]"
   ]
  },
  {
   "cell_type": "code",
   "execution_count": null,
   "id": "d976ae2a",
   "metadata": {},
   "outputs": [],
   "source": [
    "tmp_df_outage_by_outg[tmp_df_outage_by_outg['annual_kwh']<1e6]['annual_kwh'].hist(figsize=(14,6), color='red')"
   ]
  },
  {
   "cell_type": "code",
   "execution_count": null,
   "id": "6a674daf",
   "metadata": {},
   "outputs": [],
   "source": [
    "tmp_df_outage_by_outg['annual_kwh'].describe()"
   ]
  },
  {
   "cell_type": "code",
   "execution_count": null,
   "id": "90fb92c0",
   "metadata": {},
   "outputs": [],
   "source": [
    "tmp_df_outage_by_xfmr['annual_kwh'].describe()"
   ]
  },
  {
   "cell_type": "code",
   "execution_count": null,
   "id": "b6047a36",
   "metadata": {},
   "outputs": [],
   "source": []
  },
  {
   "cell_type": "code",
   "execution_count": null,
   "id": "1c0d39d5",
   "metadata": {},
   "outputs": [],
   "source": []
  },
  {
   "cell_type": "code",
   "execution_count": null,
   "id": "45f30b59",
   "metadata": {},
   "outputs": [],
   "source": []
  },
  {
   "cell_type": "code",
   "execution_count": null,
   "id": "bf8f0da0",
   "metadata": {},
   "outputs": [],
   "source": [
    "bins_clip_minmax_dict = Plot_Hist.get_bins_clip_minmax((0.0, 2.5e5, 2.5e4/2.0), True, True, True)\n",
    "tmp_df_outage_by_xfmr['annual_kwh'].clip(bins_clip_minmax_dict['clip_min'], bins_clip_minmax_dict['clip_max']).hist(figsize=(14,6), bins=bins_clip_minmax_dict['bins'], color='C0', label='By Xfmr', alpha=0.5)"
   ]
  },
  {
   "cell_type": "code",
   "execution_count": null,
   "id": "20b32c84",
   "metadata": {},
   "outputs": [],
   "source": [
    "bins_clip_minmax_dict = Plot_Hist.get_bins_clip_minmax((0.0, 2.5e5, 2.5e4/2.0), True, True, True)\n",
    "tmp_df_outage_by_outg['annual_kwh'].clip(bins_clip_minmax_dict['clip_min'], bins_clip_minmax_dict['clip_max']).hist(figsize=(14,6), bins=bins_clip_minmax_dict['bins'], color='red', label='By Outg', alpha=0.5)"
   ]
  },
  {
   "cell_type": "code",
   "execution_count": null,
   "id": "4bf09170",
   "metadata": {},
   "outputs": [],
   "source": [
    "bins_clip_minmax_dict = Plot_Hist.get_bins_clip_minmax((0.0, 2.5e5, 2.5e4/2.0), True, True, True)\n",
    "ax = tmp_df_outage_by_outg['annual_kwh'].clip(bins_clip_minmax_dict['clip_min'], bins_clip_minmax_dict['clip_max']).hist(figsize=(14,6), bins=bins_clip_minmax_dict['bins'], color='red', label='By Outg', alpha=0.5)\n",
    "tmp_df_outage_by_xfmr['annual_kwh'].clip(bins_clip_minmax_dict['clip_min'], bins_clip_minmax_dict['clip_max']).hist(ax=ax, bins=bins_clip_minmax_dict['bins'], color='C0', label='By Xfmr', alpha=0.5)\n",
    "ax.legend()"
   ]
  },
  {
   "cell_type": "code",
   "execution_count": null,
   "id": "dbf905c3",
   "metadata": {},
   "outputs": [],
   "source": [
    "bins_clip_minmax_dict = Plot_Hist.get_bins_clip_minmax((0.0, 2.5e5, 2.5e4/2.0), True, True, True)\n",
    "ax = tmp_df_outage_by_outg['annual_kwh'].clip(bins_clip_minmax_dict['clip_min'], bins_clip_minmax_dict['clip_max']).hist(figsize=(14,6), bins=bins_clip_minmax_dict['bins'], color='red', label='By Outg', alpha=0.5)\n",
    "tmp_df_outage_by_outg_v2['annual_kwh'].clip(bins_clip_minmax_dict['clip_min'], bins_clip_minmax_dict['clip_max']).hist(ax=ax, bins=bins_clip_minmax_dict['bins'], color='green', label='By Outg v2', alpha=0.5)\n",
    "tmp_df_outage_by_xfmr['annual_kwh'].clip(bins_clip_minmax_dict['clip_min'], bins_clip_minmax_dict['clip_max']).hist(ax=ax, bins=bins_clip_minmax_dict['bins'], color='C0', label='By Xfmr', alpha=0.5)\n",
    "ax.legend()"
   ]
  },
  {
   "cell_type": "code",
   "execution_count": null,
   "id": "93c7293d",
   "metadata": {},
   "outputs": [],
   "source": [
    "bins_clip_minmax_dict = Plot_Hist.get_bins_clip_minmax((0.0, 2.5e6, 2.5e5/2.0), True, True, True)\n",
    "ax = tmp_df_outage_by_outg['annual_kwh'].clip(bins_clip_minmax_dict['clip_min'], bins_clip_minmax_dict['clip_max']).hist(figsize=(14,6), bins=bins_clip_minmax_dict['bins'], color='red', label='By Outg', alpha=0.5)\n",
    "tmp_df_outage_by_outg_v2['annual_kwh'].clip(bins_clip_minmax_dict['clip_min'], bins_clip_minmax_dict['clip_max']).hist(ax=ax, bins=bins_clip_minmax_dict['bins'], color='green', label='By Outg v2', alpha=0.5)\n",
    "tmp_df_outage_by_xfmr['annual_kwh'].clip(bins_clip_minmax_dict['clip_min'], bins_clip_minmax_dict['clip_max']).hist(ax=ax, bins=bins_clip_minmax_dict['bins'], color='C0', label='By Xfmr', alpha=0.5)\n",
    "ax.legend()"
   ]
  },
  {
   "cell_type": "code",
   "execution_count": null,
   "id": "b72c2d37",
   "metadata": {},
   "outputs": [],
   "source": [
    "bins_clip_minmax_dict = Plot_Hist.get_bins_clip_minmax((0.0, 2.5e5, 2.5e4/2.0), True, True, True)\n",
    "ax = tmp_df_outage_by_outg['annual_kwh'].clip(bins_clip_minmax_dict['clip_min'], bins_clip_minmax_dict['clip_max']).hist(figsize=(14,6), bins=bins_clip_minmax_dict['bins'], color='red', label='By Outg', alpha=0.5)\n",
    "tmp_df_outage_by_outg_v2['annual_kwh'].clip(bins_clip_minmax_dict['clip_min'], bins_clip_minmax_dict['clip_max']).hist(ax=ax, bins=bins_clip_minmax_dict['bins'], color='green', label='By Outg v2', alpha=0.5)\n",
    "we2b['annual_kwh'].clip(bins_clip_minmax_dict['clip_min'], bins_clip_minmax_dict['clip_max']).hist(ax=ax, bins=bins_clip_minmax_dict['bins'], color='purple', label='we2b', alpha=0.5)\n",
    "tmp_df_outage_by_xfmr['annual_kwh'].clip(bins_clip_minmax_dict['clip_min'], bins_clip_minmax_dict['clip_max']).hist(ax=ax, bins=bins_clip_minmax_dict['bins'], color='C0', label='By Xfmr', alpha=0.5)\n",
    "ax.legend()"
   ]
  },
  {
   "cell_type": "code",
   "execution_count": null,
   "id": "3cf1e7a6",
   "metadata": {},
   "outputs": [],
   "source": []
  },
  {
   "cell_type": "code",
   "execution_count": null,
   "id": "0f37aa2b",
   "metadata": {},
   "outputs": [],
   "source": [
    "we2b"
   ]
  },
  {
   "cell_type": "code",
   "execution_count": null,
   "id": "0413ddcf",
   "metadata": {},
   "outputs": [],
   "source": []
  },
  {
   "cell_type": "markdown",
   "id": "0bcf33a4",
   "metadata": {},
   "source": [
    "# END DELETE"
   ]
  },
  {
   "cell_type": "code",
   "execution_count": null,
   "id": "f4c3571a",
   "metadata": {},
   "outputs": [],
   "source": []
  },
  {
   "cell_type": "code",
   "execution_count": null,
   "id": "ffd46541",
   "metadata": {},
   "outputs": [],
   "source": []
  },
  {
   "cell_type": "code",
   "execution_count": null,
   "id": "c7755ddc",
   "metadata": {},
   "outputs": [],
   "source": []
  },
  {
   "cell_type": "code",
   "execution_count": null,
   "id": "28eb0d40",
   "metadata": {},
   "outputs": [],
   "source": []
  },
  {
   "cell_type": "code",
   "execution_count": null,
   "id": "53c8b120",
   "metadata": {},
   "outputs": [],
   "source": [
    "print(dfs_outg_dict_by_mxo_prim['by_xfmr'][dfs_outg_dict_by_mxo_prim['by_xfmr']['annual_max_dmnd']==0].shape[0]/dfs_outg_dict_by_mxo_prim['by_xfmr'].shape[0])\n",
    "print(dfs_outg_dict_by_mxo['by_xfmr'][dfs_outg_dict_by_mxo['by_xfmr']['annual_max_dmnd']==0].shape[0]/dfs_outg_dict_by_mxo['by_xfmr'].shape[0])"
   ]
  },
  {
   "cell_type": "code",
   "execution_count": null,
   "id": "cec88d80",
   "metadata": {},
   "outputs": [],
   "source": []
  },
  {
   "cell_type": "code",
   "execution_count": null,
   "id": "4b978091",
   "metadata": {},
   "outputs": [],
   "source": []
  },
  {
   "cell_type": "markdown",
   "id": "4287e000",
   "metadata": {},
   "source": [
    "# EEMSP\n",
    "\n",
    "### In EEMSP, LOCATION_NB can be used to join with trsf_pole_nb"
   ]
  },
  {
   "cell_type": "code",
   "execution_count": null,
   "id": "27caff63",
   "metadata": {},
   "outputs": [],
   "source": [
    "# import EEMSP\n",
    "# reload(EEMSP)\n",
    "# from EEMSP import EEMSP"
   ]
  },
  {
   "cell_type": "code",
   "execution_count": null,
   "id": "b8be612d",
   "metadata": {},
   "outputs": [],
   "source": [
    "if not read_dfs_from_csv:\n",
    "    df_construct_type=DFConstructType.kRunSqlQuery\n",
    "    conn_eemsp = Utilities.get_eemsp_oracle_connection()\n",
    "else:\n",
    "    df_construct_type=DFConstructType.kReadCsv\n",
    "    # Since I am being lazy and loading up contstruct_df_args with everything needed for csv or sql\n",
    "    # conn_outages must always exist, even if it is simply None\n",
    "    if 'conn_eemsp' not in locals():\n",
    "        conn_eemsp = None\n",
    "#-----\n",
    "if save_dfs_to_csv:\n",
    "    assert(df_construct_type!=DFConstructType.kReadCsv)"
   ]
  },
  {
   "cell_type": "code",
   "execution_count": null,
   "id": "8e435be9",
   "metadata": {},
   "outputs": [],
   "source": [
    "#TODO REPLACE STUFF BELOW WITH SIMILAR TO:\n",
    "# build_sql_function_kwargs = dict(trsf_pole_nbs=df_outage_save['trsf_pole_nb'].unique().tolist()[0:5000])\n",
    "# eemsp = EEMSP(df_construct_type=DFConstructType.kRunSqlQuery, \n",
    "#               build_sql_function_kwargs=build_sql_function_kwargs, init_df_in_constructor=True)\n",
    "# df_eemsp = eemsp.get_df()"
   ]
  },
  {
   "cell_type": "code",
   "execution_count": null,
   "id": "7b9d012a",
   "metadata": {},
   "outputs": [],
   "source": []
  },
  {
   "cell_type": "code",
   "execution_count": null,
   "id": "1e282384",
   "metadata": {},
   "outputs": [],
   "source": [
    "#--------------------------------------------------\n",
    "# Build eemsp, eemsp_prim, eemsp_prim_strict, eemsp_no_outg \n",
    "#   and grab associated dataframes\n",
    "#--------------------------------------------------\n",
    "contstruct_df_args = dict(file_path=os.path.join(save_dir_csvs, 'df_eemsp_OG.csv'), \n",
    "                          conn_eemsp=conn_eemsp)\n",
    "build_sql_function_kwargs = dict(trsf_pole_nbs=df_outage_save['trsf_pole_nb'].unique().tolist())\n",
    "eemsp = EEMSP(\n",
    "    df_construct_type=df_construct_type, \n",
    "    contstruct_df_args=contstruct_df_args, \n",
    "    build_sql_function_kwargs=build_sql_function_kwargs, \n",
    "    init_df_in_constructor=True\n",
    ")\n",
    "df_eemsp_OG = eemsp.get_df()\n",
    "if save_dfs_to_csv:\n",
    "    eemsp.write_df_to_csv(contstruct_df_args['file_path'])\n",
    "#--------------------------------------------------\n",
    "contstruct_df_args_prim = dict(file_path=os.path.join(save_dir_csvs, 'df_eemsp_prim_OG.csv'), \n",
    "                               conn_eemsp=conn_eemsp)\n",
    "build_sql_function_kwargs_prim = dict(trsf_pole_nbs=df_outage_prim_save['trsf_pole_nb'].unique().tolist())\n",
    "eemsp_prim = EEMSP(\n",
    "    df_construct_type=df_construct_type, \n",
    "    contstruct_df_args=contstruct_df_args_prim, \n",
    "    build_sql_function_kwargs=build_sql_function_kwargs_prim, \n",
    "    init_df_in_constructor=True\n",
    ")\n",
    "df_eemsp_prim_OG = eemsp_prim.get_df()\n",
    "if save_dfs_to_csv:\n",
    "    df_eemsp_prim_OG.write_df_to_csv(contstruct_df_args_prim['file_path'])\n",
    "#--------------------------------------------------\n",
    "contstruct_df_args_prim_strict = dict(file_path=os.path.join(save_dir_csvs, 'df_eemsp_prim_strict_OG.csv'), \n",
    "                                      conn_eemsp=conn_eemsp)\n",
    "build_sql_function_kwargs_prim_strict = dict(trsf_pole_nbs=df_outage_prim_strict_save['trsf_pole_nb'].unique().tolist())\n",
    "eemsp_prim_strict = EEMSP(\n",
    "    df_construct_type=df_construct_type, \n",
    "    contstruct_df_args=contstruct_df_args_prim_strict, \n",
    "    build_sql_function_kwargs=build_sql_function_kwargs_prim_strict, \n",
    "    init_df_in_constructor=True\n",
    ")\n",
    "df_eemsp_prim_strict_OG = eemsp_prim_strict.get_df()\n",
    "if save_dfs_to_csv:\n",
    "    df_eemsp_prim_strict_OG.write_df_to_csv(contstruct_df_args_prim_strict['file_path'])\n",
    "#--------------------------------------------------\n",
    "contstruct_df_args_no_outg = dict(file_path=os.path.join(save_dir_csvs, 'df_eemsp_no_outg_OG.csv'), \n",
    "                                  conn_eemsp=conn_eemsp)\n",
    "build_sql_function_kwargs_no_outg = dict(trsf_pole_nbs=df_mp_no_outg_OG['trsf_pole_nb'].unique().tolist())\n",
    "eemsp_no_outg = EEMSP(\n",
    "    df_construct_type=df_construct_type, \n",
    "    contstruct_df_args=contstruct_df_args_no_outg, \n",
    "    build_sql_function_kwargs=build_sql_function_kwargs_no_outg, \n",
    "    init_df_in_constructor=True\n",
    ")\n",
    "df_eemsp_no_outg_OG = eemsp_no_outg.get_df()\n",
    "if save_dfs_to_csv:\n",
    "    df_eemsp_no_outg_OG.write_df_to_csv(contstruct_df_args_no_outg['file_path'])\n",
    "#--------------------------------------------------"
   ]
  },
  {
   "cell_type": "code",
   "execution_count": null,
   "id": "f4c3bb37",
   "metadata": {},
   "outputs": [],
   "source": []
  },
  {
   "cell_type": "code",
   "execution_count": null,
   "id": "2fc4f59b",
   "metadata": {},
   "outputs": [],
   "source": [
    "df_eemsp = df_eemsp_OG.copy()\n",
    "df_eemsp_prim = df_eemsp_prim_OG.copy()\n",
    "df_eemsp_prim_strict = df_eemsp_prim_strict_OG.copy()\n",
    "df_eemsp_no_outg = df_eemsp_no_outg_OG.copy()"
   ]
  },
  {
   "cell_type": "code",
   "execution_count": null,
   "id": "da1b972f",
   "metadata": {},
   "outputs": [],
   "source": [
    "print(df_eemsp.shape)\n",
    "print(df_eemsp.columns)"
   ]
  },
  {
   "cell_type": "code",
   "execution_count": null,
   "id": "b5674818",
   "metadata": {},
   "outputs": [],
   "source": [
    "#TODO Below statements made by looking at df_eemsp\n",
    "#     Expect df_eemsp_no_outg to follow same, but haven't checked\n",
    "#TODO NOTE: There are a few less SERIAL_NB than entries!\n",
    "# Same number entries as: LOCATION_NB, LOCATION_ID, 'EQSEQ_ID', 'EQUIP_ID'\n",
    "#                         TRANSACTION_ID, and possibly/probably more\n",
    "#\n",
    "#\n",
    "# TODO should I check e.g. CIRCUIT_NB/GIS_CIRCUIT_NB etc. when merging?\n",
    "#   and/or use e.g. CIRCUIT_NB/GIS_CIRCUIT_NB etc. in the merge?\n",
    "\n",
    "# NOTE: 'INSTALL_DT_YEAR' was built by me, not in std table\n",
    "cols_of_interest_eemsp = [\n",
    "    'LOCATION_NB', 'INSTALL_DT', 'INSTALL_DT_YEAR', 'REMOVAL_DT', \n",
    "    'LATEST_STATUS', 'MFGR_NM', 'LAST_TRANS_DESC','COOLANT',\n",
    "    'INFO', 'KVA_SIZE', 'PHASE_CNT', 'PRIM_VOLTAGE', 'SEC_VOLTAGE', 'PROTECTION',\n",
    "    'PRU_NUMBER', 'TAPS', 'XFTYPE',\n",
    "]"
   ]
  },
  {
   "cell_type": "code",
   "execution_count": null,
   "id": "38730946",
   "metadata": {},
   "outputs": [],
   "source": []
  },
  {
   "cell_type": "code",
   "execution_count": null,
   "id": "8215c91c",
   "metadata": {},
   "outputs": [],
   "source": [
    "df_eemsp['INSTALL_DT_YEAR'] = df_eemsp[\"INSTALL_DT\"].dt.year\n",
    "df_eemsp_prim['INSTALL_DT_YEAR'] = df_eemsp_prim[\"INSTALL_DT\"].dt.year\n",
    "df_eemsp_prim_strict['INSTALL_DT_YEAR'] = df_eemsp_prim_strict[\"INSTALL_DT\"].dt.year\n",
    "df_eemsp_no_outg['INSTALL_DT_YEAR'] = df_eemsp_no_outg[\"INSTALL_DT\"].dt.year"
   ]
  },
  {
   "cell_type": "code",
   "execution_count": null,
   "id": "9e90bbdb",
   "metadata": {},
   "outputs": [],
   "source": [
    "df_eemsp = df_eemsp[cols_of_interest_eemsp]\n",
    "df_eemsp_prim = df_eemsp_prim[cols_of_interest_eemsp]\n",
    "df_eemsp_prim_strict = df_eemsp_prim_strict[cols_of_interest_eemsp]\n",
    "df_eemsp_no_outg = df_eemsp_no_outg[cols_of_interest_eemsp]"
   ]
  },
  {
   "cell_type": "code",
   "execution_count": null,
   "id": "8792c797",
   "metadata": {},
   "outputs": [],
   "source": []
  },
  {
   "cell_type": "code",
   "execution_count": null,
   "id": "e11fe6fc",
   "metadata": {},
   "outputs": [],
   "source": []
  },
  {
   "cell_type": "code",
   "execution_count": null,
   "id": "429b8867",
   "metadata": {},
   "outputs": [],
   "source": []
  },
  {
   "cell_type": "code",
   "execution_count": null,
   "id": "fb21be93",
   "metadata": {},
   "outputs": [],
   "source": []
  },
  {
   "cell_type": "code",
   "execution_count": null,
   "id": "2ea31281",
   "metadata": {},
   "outputs": [],
   "source": []
  },
  {
   "cell_type": "code",
   "execution_count": null,
   "id": "baa8ee8c",
   "metadata": {},
   "outputs": [],
   "source": []
  },
  {
   "cell_type": "code",
   "execution_count": null,
   "id": "844b98d5",
   "metadata": {},
   "outputs": [],
   "source": []
  },
  {
   "cell_type": "code",
   "execution_count": null,
   "id": "aea6498b",
   "metadata": {},
   "outputs": [],
   "source": []
  },
  {
   "cell_type": "code",
   "execution_count": null,
   "id": "522da1b2",
   "metadata": {},
   "outputs": [],
   "source": [
    "# df_outage_by_xfmr_cp = dfs_outg_dict_by_mxo['by_xfmr'].copy()\n",
    "# df_outage_by_xfmr_cp = df_outage_by_xfmr_cp.reset_index()\n",
    "# df_outage_by_xfmr_cp = df_outage_by_xfmr_cp.merge(df_eemsp, how='left', \n",
    "#                                                   left_on='trsf_pole_nb', right_on='LOCATION_NB', indicator=True)\n",
    "# label_append = 'All Xfmrs'\n",
    "\n",
    "df_outage_by_xfmr_cp = dfs_outg_dict_by_mxo_prim_strict['by_xfmr'].copy()\n",
    "df_outage_by_xfmr_cp = df_outage_by_xfmr_cp.reset_index()\n",
    "df_outage_by_xfmr_cp = df_outage_by_xfmr_cp.merge(df_eemsp_prim_strict, how='left', \n",
    "                                                  left_on='trsf_pole_nb', right_on='LOCATION_NB', indicator=True)\n",
    "label_append = 'Direct Xfmrs'"
   ]
  },
  {
   "cell_type": "code",
   "execution_count": null,
   "id": "574bd5ba",
   "metadata": {},
   "outputs": [],
   "source": [
    "df_mp_no_outg_by_xfmr_cp = dfs_mp_no_outg_dict_by_mx['by_xfmr'].copy()\n",
    "df_mp_no_outg_by_xfmr_cp = df_mp_no_outg_by_xfmr_cp.reset_index()\n",
    "df_mp_no_outg_by_xfmr_cp = df_mp_no_outg_by_xfmr_cp.merge(df_eemsp_no_outg, how='left', \n",
    "                                                          left_on='trsf_pole_nb', right_on='LOCATION_NB', indicator=True)"
   ]
  },
  {
   "cell_type": "code",
   "execution_count": null,
   "id": "eb484408",
   "metadata": {},
   "outputs": [],
   "source": [
    "df_mp_no_outg_by_xfmr_cp"
   ]
  },
  {
   "cell_type": "code",
   "execution_count": null,
   "id": "623c1e7c",
   "metadata": {},
   "outputs": [],
   "source": []
  },
  {
   "cell_type": "code",
   "execution_count": null,
   "id": "20ba8a91",
   "metadata": {},
   "outputs": [],
   "source": []
  },
  {
   "cell_type": "code",
   "execution_count": null,
   "id": "fe7815a7",
   "metadata": {},
   "outputs": [],
   "source": []
  },
  {
   "cell_type": "code",
   "execution_count": null,
   "id": "59938c14",
   "metadata": {},
   "outputs": [],
   "source": [
    "df_mp_no_outg_by_xfmr_cp['_merge'].value_counts()"
   ]
  },
  {
   "cell_type": "code",
   "execution_count": null,
   "id": "2139b0fe",
   "metadata": {},
   "outputs": [],
   "source": [
    "print(dfs_mp_no_outg_dict_by_mx['by_xfmr'].index.nunique())\n",
    "print(df_eemsp_no_outg['LOCATION_NB'].nunique())\n",
    "print(df_mp_no_outg_by_xfmr_cp[df_mp_no_outg_by_xfmr_cp['_merge']=='left_only'].shape[0])"
   ]
  },
  {
   "cell_type": "code",
   "execution_count": null,
   "id": "06b61a68",
   "metadata": {},
   "outputs": [],
   "source": []
  },
  {
   "cell_type": "code",
   "execution_count": null,
   "id": "003bca6a",
   "metadata": {},
   "outputs": [],
   "source": [
    "df_outage_by_xfmr_cp['_merge'].value_counts()"
   ]
  },
  {
   "cell_type": "code",
   "execution_count": null,
   "id": "ce60c56b",
   "metadata": {},
   "outputs": [],
   "source": [
    "print(dfs_outg_dict_by_mxo['by_xfmr'].index.nunique())\n",
    "print(df_eemsp['LOCATION_NB'].nunique())\n",
    "print(df_outage_by_xfmr_cp[df_outage_by_xfmr_cp['_merge']=='left_only'].shape[0])"
   ]
  },
  {
   "cell_type": "code",
   "execution_count": null,
   "id": "d3289f23",
   "metadata": {},
   "outputs": [],
   "source": []
  },
  {
   "cell_type": "code",
   "execution_count": null,
   "id": "889ca0d8",
   "metadata": {},
   "outputs": [],
   "source": [
    "df_outage_by_xfmr_cp = df_outage_by_xfmr_cp[df_outage_by_xfmr_cp['_merge']=='both'].copy()\n",
    "df_mp_no_outg_by_xfmr_cp = df_mp_no_outg_by_xfmr_cp[df_mp_no_outg_by_xfmr_cp['_merge']=='both'].copy()"
   ]
  },
  {
   "cell_type": "code",
   "execution_count": null,
   "id": "e20a05b1",
   "metadata": {},
   "outputs": [],
   "source": []
  },
  {
   "cell_type": "code",
   "execution_count": null,
   "id": "2849ca72",
   "metadata": {},
   "outputs": [],
   "source": []
  },
  {
   "cell_type": "markdown",
   "id": "653126d1",
   "metadata": {},
   "source": [
    "# MFGR_NM"
   ]
  },
  {
   "cell_type": "code",
   "execution_count": null,
   "id": "6716a7e8",
   "metadata": {},
   "outputs": [],
   "source": [
    "mfgr_nm_val_counts_outage = df_outage_by_xfmr_cp['MFGR_NM'].value_counts()\n",
    "mfgr_nm_val_counts_no_outg = df_mp_no_outg_by_xfmr_cp['MFGR_NM'].value_counts()\n",
    "#----\n",
    "mfgr_nm_val_counts_pct_outage = mfgr_nm_val_counts_outage/df_outage_by_xfmr_cp.shape[0]\n",
    "mfgr_nm_val_counts_pct_no_outg = mfgr_nm_val_counts_no_outg/df_mp_no_outg_by_xfmr_cp.shape[0]"
   ]
  },
  {
   "cell_type": "code",
   "execution_count": null,
   "id": "679fb269",
   "metadata": {},
   "outputs": [],
   "source": [
    "shared_mfgrs = [x for x in mfgr_nm_val_counts_no_outg.index \n",
    "                if x in mfgr_nm_val_counts_outage.index]\n",
    "#-----\n",
    "ratio_outage_to_no_outg_mfgr_nm = mfgr_nm_val_counts_outage[shared_mfgrs]/mfgr_nm_val_counts_no_outg[shared_mfgrs]\n",
    "ratio_outage_to_no_outg_mfgr_nm = ratio_outage_to_no_outg_mfgr_nm.sort_values(ascending=False)\n",
    "#-----\n",
    "ratio_pct_outage_to_no_outg_mfgr_nm = mfgr_nm_val_counts_pct_outage[shared_mfgrs]/mfgr_nm_val_counts_pct_no_outg[shared_mfgrs]\n",
    "ratio_pct_outage_to_no_outg_mfgr_nm = ratio_pct_outage_to_no_outg_mfgr_nm.sort_values(ascending=False)"
   ]
  },
  {
   "cell_type": "code",
   "execution_count": null,
   "id": "fa83a5ba",
   "metadata": {},
   "outputs": [],
   "source": []
  },
  {
   "cell_type": "code",
   "execution_count": null,
   "id": "21cca59c",
   "metadata": {},
   "outputs": [],
   "source": []
  },
  {
   "cell_type": "markdown",
   "id": "e3ffc0db",
   "metadata": {},
   "source": [
    "# PRIM_VOLTAGE\n",
    "NOTE: Cannot simply call .hist for these, since binning by category not variable.\n",
    "Even if you make the number of bins equal to the number of categories, it gives somewhat strange results.\n",
    "One could maybe enumerate the categories and then hist?  But the method below is simpler and cleaner"
   ]
  },
  {
   "cell_type": "code",
   "execution_count": null,
   "id": "92235581",
   "metadata": {},
   "outputs": [],
   "source": [
    "prim_vltg_val_counts_outage = df_outage_by_xfmr_cp['PRIM_VOLTAGE'].value_counts()\n",
    "prim_vltg_val_counts_no_outg = df_mp_no_outg_by_xfmr_cp['PRIM_VOLTAGE'].value_counts()\n",
    "#----\n",
    "prim_vltg_val_counts_pct_outage = prim_vltg_val_counts_outage/df_outage_by_xfmr_cp.shape[0]\n",
    "prim_vltg_val_counts_pct_no_outg = prim_vltg_val_counts_no_outg/df_mp_no_outg_by_xfmr_cp.shape[0]"
   ]
  },
  {
   "cell_type": "code",
   "execution_count": null,
   "id": "bf3b2a64",
   "metadata": {},
   "outputs": [],
   "source": [
    "shared_mfgrs = [x for x in prim_vltg_val_counts_no_outg.index \n",
    "                if x in prim_vltg_val_counts_outage.index]\n",
    "#-----\n",
    "ratio_outage_to_no_outg_prim_vltg = prim_vltg_val_counts_outage[shared_mfgrs]/prim_vltg_val_counts_no_outg[shared_mfgrs]\n",
    "ratio_outage_to_no_outg_prim_vltg = ratio_outage_to_no_outg_prim_vltg.sort_values(ascending=False)\n",
    "#-----\n",
    "ratio_pct_outage_to_no_outg_prim_vltg = prim_vltg_val_counts_pct_outage[shared_mfgrs]/prim_vltg_val_counts_pct_no_outg[shared_mfgrs]\n",
    "ratio_pct_outage_to_no_outg_prim_vltg = ratio_pct_outage_to_no_outg_prim_vltg.sort_values(ascending=False)"
   ]
  },
  {
   "cell_type": "code",
   "execution_count": null,
   "id": "73d8b02d",
   "metadata": {},
   "outputs": [],
   "source": []
  },
  {
   "cell_type": "markdown",
   "id": "d0c9b222",
   "metadata": {},
   "source": [
    "# SEC_VOLTAGE"
   ]
  },
  {
   "cell_type": "code",
   "execution_count": null,
   "id": "1e60edb4",
   "metadata": {},
   "outputs": [],
   "source": [
    "sec_vltg_val_counts_outage = df_outage_by_xfmr_cp['SEC_VOLTAGE'].value_counts()\n",
    "sec_vltg_val_counts_no_outg = df_mp_no_outg_by_xfmr_cp['SEC_VOLTAGE'].value_counts()\n",
    "#----\n",
    "sec_vltg_val_counts_pct_outage = sec_vltg_val_counts_outage/df_outage_by_xfmr_cp.shape[0]\n",
    "sec_vltg_val_counts_pct_no_outg = sec_vltg_val_counts_no_outg/df_mp_no_outg_by_xfmr_cp.shape[0]"
   ]
  },
  {
   "cell_type": "code",
   "execution_count": null,
   "id": "cfa8d338",
   "metadata": {},
   "outputs": [],
   "source": [
    "shared_mfgrs = [x for x in sec_vltg_val_counts_no_outg.index \n",
    "                if x in sec_vltg_val_counts_outage.index]\n",
    "#-----\n",
    "ratio_outage_to_no_outg_sec_vltg = sec_vltg_val_counts_outage[shared_mfgrs]/sec_vltg_val_counts_no_outg[shared_mfgrs]\n",
    "ratio_outage_to_no_outg_sec_vltg = ratio_outage_to_no_outg_sec_vltg.sort_values(ascending=False)\n",
    "#-----\n",
    "ratio_pct_outage_to_no_outg_sec_vltg = sec_vltg_val_counts_pct_outage[shared_mfgrs]/sec_vltg_val_counts_pct_no_outg[shared_mfgrs]\n",
    "ratio_pct_outage_to_no_outg_sec_vltg = ratio_pct_outage_to_no_outg_sec_vltg.sort_values(ascending=False)"
   ]
  },
  {
   "cell_type": "code",
   "execution_count": null,
   "id": "7f4c4e54",
   "metadata": {},
   "outputs": [],
   "source": []
  },
  {
   "cell_type": "markdown",
   "id": "b5b32c76",
   "metadata": {},
   "source": [
    "# KVA_SIZE"
   ]
  },
  {
   "cell_type": "code",
   "execution_count": null,
   "id": "ae16461b",
   "metadata": {},
   "outputs": [],
   "source": [
    "df_outage_by_xfmr_cp['KVA_SIZE'] = df_outage_by_xfmr_cp['KVA_SIZE'].astype(np.float64)\n",
    "df_mp_no_outg_by_xfmr_cp['KVA_SIZE'] = df_mp_no_outg_by_xfmr_cp['KVA_SIZE'].astype(np.float64)"
   ]
  },
  {
   "cell_type": "code",
   "execution_count": null,
   "id": "deab50d7",
   "metadata": {},
   "outputs": [],
   "source": []
  },
  {
   "cell_type": "code",
   "execution_count": null,
   "id": "9b57f37f",
   "metadata": {},
   "outputs": [],
   "source": []
  },
  {
   "cell_type": "code",
   "execution_count": null,
   "id": "1d9b55a7",
   "metadata": {},
   "outputs": [],
   "source": []
  },
  {
   "cell_type": "code",
   "execution_count": null,
   "id": "c9fcc7bb",
   "metadata": {},
   "outputs": [],
   "source": []
  },
  {
   "cell_type": "code",
   "execution_count": null,
   "id": "a20458a8",
   "metadata": {},
   "outputs": [],
   "source": []
  },
  {
   "cell_type": "markdown",
   "id": "f2c12c62",
   "metadata": {},
   "source": [
    "# Join outage and eemsp"
   ]
  },
  {
   "cell_type": "code",
   "execution_count": null,
   "id": "0fdcda7d",
   "metadata": {},
   "outputs": [],
   "source": [
    "# Might make sense to join df_eemsp with df_outage without PREMISE_NB information\n",
    "# i.e. after just a single row per outage in df_outage\n",
    "# Could also use a consolidate type routine to build such a df_outage to use\n",
    "df_outage_w_eemsp = df_outage.copy()\n",
    "df_outage_w_eemsp = df_outage_w_eemsp.merge(df_eemsp, how='left', \n",
    "                                            left_on='trsf_pole_nb', right_on='LOCATION_NB', \n",
    "                                            indicator=True)\n",
    "df_outage_w_eemsp['DT_OFF_TS_FULL'] = pd.to_datetime(df_outage_w_eemsp['DT_OFF_TS_FULL'])\n",
    "df_outage_w_eemsp['age_at_outage'] = df_outage_w_eemsp['DT_OFF_TS_FULL']-df_outage_w_eemsp['INSTALL_DT']\n",
    "df_outage_w_eemsp['age_at_outage_days'] = df_outage_w_eemsp['age_at_outage'].dt.round('D').dt.days\n",
    "df_outage_w_eemsp['age_at_outage_years'] = df_outage_w_eemsp['age_at_outage_days'].div(365.25)"
   ]
  },
  {
   "cell_type": "code",
   "execution_count": null,
   "id": "892e288c",
   "metadata": {},
   "outputs": [],
   "source": [
    "df_outage_w_eemsp_prim = df_outage_prim.copy()\n",
    "df_outage_w_eemsp_prim = df_outage_w_eemsp_prim.merge(df_eemsp_prim, how='left', \n",
    "                                            left_on='trsf_pole_nb', right_on='LOCATION_NB', \n",
    "                                            indicator=True)\n",
    "df_outage_w_eemsp_prim['DT_OFF_TS_FULL'] = pd.to_datetime(df_outage_w_eemsp_prim['DT_OFF_TS_FULL'])\n",
    "df_outage_w_eemsp_prim['age_at_outage'] = df_outage_w_eemsp_prim['DT_OFF_TS_FULL']-df_outage_w_eemsp_prim['INSTALL_DT']\n",
    "df_outage_w_eemsp_prim['age_at_outage_days'] = df_outage_w_eemsp_prim['age_at_outage'].dt.round('D').dt.days\n",
    "df_outage_w_eemsp_prim['age_at_outage_years'] = df_outage_w_eemsp_prim['age_at_outage_days'].div(365.25)"
   ]
  },
  {
   "cell_type": "code",
   "execution_count": null,
   "id": "39754be4",
   "metadata": {},
   "outputs": [],
   "source": [
    "df_outage_w_eemsp_prim_strict = df_outage_prim_strict.copy()\n",
    "df_outage_w_eemsp_prim_strict = df_outage_w_eemsp_prim_strict.merge(df_eemsp_prim_strict, how='left', \n",
    "                                            left_on='trsf_pole_nb', right_on='LOCATION_NB', \n",
    "                                            indicator=True)\n",
    "df_outage_w_eemsp_prim_strict['DT_OFF_TS_FULL'] = pd.to_datetime(df_outage_w_eemsp_prim_strict['DT_OFF_TS_FULL'])\n",
    "df_outage_w_eemsp_prim_strict['age_at_outage'] = df_outage_w_eemsp_prim_strict['DT_OFF_TS_FULL']-df_outage_w_eemsp_prim_strict['INSTALL_DT']\n",
    "df_outage_w_eemsp_prim_strict['age_at_outage_days'] = df_outage_w_eemsp_prim_strict['age_at_outage'].dt.round('D').dt.days\n",
    "df_outage_w_eemsp_prim_strict['age_at_outage_years'] = df_outage_w_eemsp_prim_strict['age_at_outage_days'].div(365.25)"
   ]
  },
  {
   "cell_type": "code",
   "execution_count": null,
   "id": "683040cb",
   "metadata": {},
   "outputs": [],
   "source": [
    "df_outage_w_eemsp_prim_strict.head()"
   ]
  },
  {
   "cell_type": "code",
   "execution_count": null,
   "id": "f5e991f0",
   "metadata": {},
   "outputs": [],
   "source": []
  },
  {
   "cell_type": "code",
   "execution_count": null,
   "id": "b29fbd54",
   "metadata": {},
   "outputs": [],
   "source": []
  },
  {
   "cell_type": "code",
   "execution_count": null,
   "id": "7cfc4d40",
   "metadata": {},
   "outputs": [],
   "source": []
  },
  {
   "cell_type": "code",
   "execution_count": null,
   "id": "fa4bac10",
   "metadata": {},
   "outputs": [],
   "source": []
  },
  {
   "cell_type": "code",
   "execution_count": null,
   "id": "11066b87",
   "metadata": {},
   "outputs": [],
   "source": []
  },
  {
   "cell_type": "code",
   "execution_count": null,
   "id": "89616093",
   "metadata": {},
   "outputs": [],
   "source": [
    "df_outage_w_eemsp_prim = df_outage_w_eemsp[df_outage_w_eemsp['LOCATION_ID']==df_outage_w_eemsp['trsf_pole_nb']].copy()\n",
    "\n",
    "df_outage_w_eemsp_by_meter = df_outage_w_eemsp.drop_duplicates(subset=[x for x in df_outage_w_eemsp.columns if x in cols_of_interest_met_prem]).dropna(how='all')\n",
    "df_outage_w_eemsp_by_meter_prim = df_outage_w_eemsp_prim.drop_duplicates(subset=[x for x in df_outage_w_eemsp_prim.columns if x in cols_of_interest_met_prem]).dropna(how='all')\n",
    "#-----\n",
    "xfmr_equip_typ_nms_of_interest = ['TRANSFORMER, OH', 'TRANSFORMER, UG']\n",
    "df_outage_w_eemsp_by_meter_prim_strict = df_outage_w_eemsp_by_meter_prim[df_outage_w_eemsp_by_meter_prim['EQUIP_TYP_NM'].isin(xfmr_equip_typ_nms_of_interest)]\n",
    "#-----\n",
    "df_outage_w_eemsp_by_xfmr = df_outage_w_eemsp_by_meter.groupby('trsf_pole_nb')[['annual_kwh', 'annual_max_dmnd']].sum()\n",
    "df_outage_w_eemsp_by_xfmr_prim = df_outage_w_eemsp_by_meter_prim.groupby('trsf_pole_nb')[['annual_kwh', 'annual_max_dmnd']].sum()\n",
    "df_outage_w_eemsp_by_xfmr_prim_strict = df_outage_w_eemsp_by_meter_prim_strict.groupby('trsf_pole_nb')[['annual_kwh', 'annual_max_dmnd']].sum()"
   ]
  },
  {
   "cell_type": "code",
   "execution_count": null,
   "id": "fd7d78a3",
   "metadata": {},
   "outputs": [],
   "source": []
  },
  {
   "cell_type": "code",
   "execution_count": null,
   "id": "485be047",
   "metadata": {},
   "outputs": [],
   "source": [
    "df_outage_w_eemsp_dl_ol = df_outage_w_eemsp[(df_outage_w_eemsp['MJR_CAUSE_CD']=='DL') & \n",
    "                                            (df_outage_w_eemsp['MNR_CAUSE_CD']=='OL')].copy()\n",
    "df_outage_w_eemsp_dl_ol_prim =  df_outage_w_eemsp_dl_ol[df_outage_w_eemsp_dl_ol['LOCATION_ID']==df_outage_w_eemsp_dl_ol['trsf_pole_nb']].copy()\n",
    "\n",
    "df_outage_w_eemsp_dl_ol_by_meter = df_outage_w_eemsp_dl_ol.drop_duplicates(subset=[x for x in df_outage_w_eemsp.columns if x in cols_of_interest_met_prem]).dropna(how='all')\n",
    "df_outage_w_eemsp_dl_ol_by_meter_prim = df_outage_w_eemsp_dl_ol_prim.drop_duplicates(subset=[x for x in df_outage_w_eemsp.columns if x in cols_of_interest_met_prem]).dropna(how='all')\n",
    "df_outage_w_eemsp_dl_ol_by_meter_prim_strict = df_outage_w_eemsp_dl_ol_by_meter_prim[df_outage_w_eemsp_dl_ol_by_meter_prim['EQUIP_TYP_NM'].isin(xfmr_equip_typ_nms_of_interest)]\n",
    "#-----\n",
    "df_outage_w_eemsp_dl_ol_by_xfmr = df_outage_w_eemsp_dl_ol_by_meter.groupby('trsf_pole_nb')[['annual_kwh', 'annual_max_dmnd']].sum()\n",
    "df_outage_w_eemsp_dl_ol_by_xfmr_prim = df_outage_w_eemsp_dl_ol_by_meter_prim.groupby('trsf_pole_nb')[['annual_kwh', 'annual_max_dmnd']].sum()\n",
    "df_outage_w_eemsp_dl_ol_by_xfmr_prim_strict = df_outage_w_eemsp_dl_ol_by_meter_prim_strict.groupby('trsf_pole_nb')[['annual_kwh', 'annual_max_dmnd']].sum()"
   ]
  },
  {
   "cell_type": "code",
   "execution_count": null,
   "id": "5e110bef",
   "metadata": {},
   "outputs": [],
   "source": [
    "df_outage_w_eemsp_dl_eqf = df_outage_w_eemsp[(df_outage_w_eemsp['MJR_CAUSE_CD']=='DL') & \n",
    "                                            (df_outage_w_eemsp['MNR_CAUSE_CD']=='EQF')].copy()\n",
    "df_outage_w_eemsp_dl_eqf_prim =  df_outage_w_eemsp_dl_eqf[df_outage_w_eemsp_dl_eqf['LOCATION_ID']==df_outage_w_eemsp_dl_eqf['trsf_pole_nb']].copy()\n",
    "\n",
    "df_outage_w_eemsp_dl_eqf_by_meter = df_outage_w_eemsp_dl_eqf.drop_duplicates(subset=[x for x in df_outage_w_eemsp.columns if x in cols_of_interest_met_prem]).dropna(how='all')\n",
    "df_outage_w_eemsp_dl_eqf_by_meter_prim = df_outage_w_eemsp_dl_eqf_prim.drop_duplicates(subset=[x for x in df_outage_w_eemsp.columns if x in cols_of_interest_met_prem]).dropna(how='all')\n",
    "df_outage_w_eemsp_dl_eqf_by_meter_prim_strict = df_outage_w_eemsp_dl_eqf_by_meter_prim[df_outage_w_eemsp_dl_eqf_by_meter_prim['EQUIP_TYP_NM'].isin(xfmr_equip_typ_nms_of_interest)]\n",
    "#-----\n",
    "df_outage_w_eemsp_dl_eqf_by_xfmr = df_outage_w_eemsp_dl_eqf_by_meter.groupby('trsf_pole_nb')[['annual_kwh', 'annual_max_dmnd']].sum()\n",
    "df_outage_w_eemsp_dl_eqf_by_xfmr_prim = df_outage_w_eemsp_dl_eqf_by_meter_prim.groupby('trsf_pole_nb')[['annual_kwh', 'annual_max_dmnd']].sum()\n",
    "df_outage_w_eemsp_dl_eqf_by_xfmr_prim_strict = df_outage_w_eemsp_dl_eqf_by_meter_prim_strict.groupby('trsf_pole_nb')[['annual_kwh', 'annual_max_dmnd']].sum()"
   ]
  },
  {
   "cell_type": "code",
   "execution_count": null,
   "id": "e361534e",
   "metadata": {},
   "outputs": [],
   "source": []
  },
  {
   "cell_type": "code",
   "execution_count": null,
   "id": "a2bf2e59",
   "metadata": {},
   "outputs": [],
   "source": []
  },
  {
   "cell_type": "code",
   "execution_count": null,
   "id": "94d6ace5",
   "metadata": {},
   "outputs": [],
   "source": []
  },
  {
   "cell_type": "code",
   "execution_count": null,
   "id": "7dedc196",
   "metadata": {},
   "outputs": [],
   "source": []
  },
  {
   "cell_type": "code",
   "execution_count": null,
   "id": "fd9672b8",
   "metadata": {},
   "outputs": [],
   "source": []
  },
  {
   "cell_type": "code",
   "execution_count": null,
   "id": "c291573e",
   "metadata": {},
   "outputs": [],
   "source": []
  },
  {
   "cell_type": "code",
   "execution_count": null,
   "id": "ccae94ff",
   "metadata": {},
   "outputs": [],
   "source": []
  },
  {
   "cell_type": "code",
   "execution_count": null,
   "id": "b3519c98",
   "metadata": {},
   "outputs": [],
   "source": []
  },
  {
   "cell_type": "code",
   "execution_count": null,
   "id": "5deeceb3",
   "metadata": {},
   "outputs": [],
   "source": []
  },
  {
   "cell_type": "code",
   "execution_count": null,
   "id": "980a5165",
   "metadata": {},
   "outputs": [],
   "source": []
  },
  {
   "cell_type": "code",
   "execution_count": null,
   "id": "6f971b51",
   "metadata": {},
   "outputs": [],
   "source": []
  },
  {
   "cell_type": "markdown",
   "id": "1c603912",
   "metadata": {},
   "source": [
    "# Misc."
   ]
  },
  {
   "cell_type": "code",
   "execution_count": null,
   "id": "24e4fc7d",
   "metadata": {},
   "outputs": [],
   "source": [
    "# This basically shows the number of outages suffered over the time period collected\n",
    "# The number of outages suffered over some past amount of time may be a good feature for model\n",
    "# NOTE: result should be same whether grouping by LOCATION_ID or trsf_pole_nb\n",
    "n_outages_per_xfmr = df_outage_prim.groupby('LOCATION_ID')['OUTG_REC_NB'].nunique().to_dict()"
   ]
  },
  {
   "cell_type": "code",
   "execution_count": null,
   "id": "8c5abb97",
   "metadata": {},
   "outputs": [],
   "source": [
    "n_outages_per_xfmr"
   ]
  },
  {
   "cell_type": "code",
   "execution_count": null,
   "id": "768fd743",
   "metadata": {},
   "outputs": [],
   "source": [
    "pole_prems_dict = {}\n",
    "for idx, gp in df_mp_all.groupby('trsf_pole_nb'):\n",
    "    assert(idx not in pole_prems_dict)\n",
    "    pole_prems_dict[idx] = gp['prem_nb'].tolist()"
   ]
  },
  {
   "cell_type": "code",
   "execution_count": null,
   "id": "7f00e7e3",
   "metadata": {},
   "outputs": [],
   "source": [
    "pole_prems_dict_rev = {}\n",
    "for trsf_pole_nb, list_of_prems in pole_prems_dict.items():\n",
    "    for prem in list_of_prems:\n",
    "        if prem in pole_prems_dict_rev:\n",
    "            assert(pole_prems_dict_rev[prem]==trsf_pole_nb)\n",
    "            continue\n",
    "        #assert(prem not in pole_prems_dict_rev)\n",
    "        pole_prems_dict_rev[prem] = trsf_pole_nb"
   ]
  },
  {
   "cell_type": "code",
   "execution_count": null,
   "id": "0bd02ffa",
   "metadata": {},
   "outputs": [],
   "source": [
    "pole_prems_dict"
   ]
  },
  {
   "cell_type": "code",
   "execution_count": null,
   "id": "c4d0358c",
   "metadata": {
    "scrolled": true
   },
   "outputs": [],
   "source": [
    "pole_prems_dict_rev"
   ]
  },
  {
   "cell_type": "code",
   "execution_count": null,
   "id": "2e76ac45",
   "metadata": {},
   "outputs": [],
   "source": []
  },
  {
   "cell_type": "code",
   "execution_count": null,
   "id": "92452cac",
   "metadata": {},
   "outputs": [],
   "source": []
  },
  {
   "cell_type": "code",
   "execution_count": null,
   "id": "bd640a64",
   "metadata": {},
   "outputs": [],
   "source": []
  },
  {
   "cell_type": "markdown",
   "id": "b20d26e0",
   "metadata": {},
   "source": [
    "# 2D heatmap"
   ]
  },
  {
   "cell_type": "code",
   "execution_count": null,
   "id": "27ac4e58",
   "metadata": {},
   "outputs": [],
   "source": [
    "def plot_2d_heatmap(ax, df, x_col, y_col, \n",
    "                    min_max_and_bin_size_x, min_max_and_bin_size_y, \n",
    "                    include_over_underflow=False, stat='count', \n",
    "                    discrete_x=False, discrete_y=False, \n",
    "                    draw_legend=False, \n",
    "                    hist_plot_kwargs=None, \n",
    "                    **kwargs):\n",
    "    # If min_max_and_bin_size is None, use default number of bins in pandas.DataFrame.hist, which is 10\n",
    "    # If min_max_and_bin_size is an integer, take that the be the number of bins\n",
    "    # Otherwise, min_max_and_bin_size must be a list/tuple of length 3 containing \n",
    "    #   min_in_plot, max_in_plot, and bin_size\n",
    "    #\n",
    "    # include_over_underflow:\n",
    "    #   This can be a single boolean, or a list/tuple of two booleans\n",
    "    #   If single boolean: include_overflow = include_underflow = include_over_underflow\n",
    "    #   If pair of booleans: include_overflow = include_over_underflow[0], \n",
    "    #                        include_underflow = include_over_underflow[1]\n",
    "    #\n",
    "    #\n",
    "    # Possible values for stat:\n",
    "    #     count: show the number of observations in each bin\n",
    "    #     frequency: show the number of observations divided by the bin width\n",
    "    #     probability: or proportion: normalize such that bar heights sum to 1\n",
    "    #     density: normalize such that the total area of the histogram equals 1\n",
    "    #---------------------------\n",
    "    assert(stat in ['count', 'frequency', 'probability', 'density'])\n",
    "    #---------------------------\n",
    "    assert(isinstance(include_over_underflow, bool) or \n",
    "           isinstance(include_over_underflow, list) or \n",
    "           isinstance(include_over_underflow, tuple))\n",
    "    if isinstance(include_over_underflow, bool):\n",
    "        include_overflow = include_underflow = include_over_underflow\n",
    "    else:\n",
    "        include_overflow = include_over_underflow[0]\n",
    "        include_underflow = include_over_underflow[1]\n",
    "    #---------------------------\n",
    "    title_args  = kwargs.get('title_args', None)\n",
    "    ax_args     = kwargs.get('ax_args', None)\n",
    "    xlabel_args = kwargs.get('xlabel_args', None)\n",
    "    ylabel_args = kwargs.get('ylabel_args', None)\n",
    "    legend_args = kwargs.get('legend_args', None)\n",
    "    tick_args = kwargs.get('tick_args', None)\n",
    "    # Note: tick_args can be a dict or a list\n",
    "    #       Making it a list allows operations on both x and y\n",
    "    #       e.g. tick_args =[dict(axis='x', labelrotation=90, labelsize=7.0, direction='in'), \n",
    "    #                        dict(axis='y', labelrotation=0, labelsize=10.0, direction='out')]\n",
    "    allow_max_to_expand_to_fit_int_n_bins = kwargs.get('allow_max_to_expand_to_fit_int_n_bins', True)\n",
    "    #---------------------------\n",
    "    if hist_plot_kwargs is None:\n",
    "        hist_plot_kwargs = {}\n",
    "    #---------------------------\n",
    "    clip_min_x = -np.inf\n",
    "    clip_max_x = np.inf    \n",
    "    if min_max_and_bin_size_x is None:\n",
    "        bins_x=10 # default value\n",
    "    elif isinstance(min_max_and_bin_size_x, int):\n",
    "        bins_x = min_max_and_bin_size_x\n",
    "    else:\n",
    "        bins_clip_minmax_dict_x = Plot_Hist.get_bins_clip_minmax(min_max_and_bin_size_x, \n",
    "                                                                 include_overflow, include_underflow, \n",
    "                                                                 allow_max_to_expand_to_fit_int_n_bins)\n",
    "        bins_x     = bins_clip_minmax_dict_x['bins']\n",
    "        clip_min_x = bins_clip_minmax_dict_x['clip_min']\n",
    "        clip_max_x = bins_clip_minmax_dict_x['clip_max']\n",
    "    #---------------------------\n",
    "    clip_min_y = -np.inf\n",
    "    clip_max_y = np.inf    \n",
    "    if min_max_and_bin_size_y is None:\n",
    "        bins_y=10 # default value\n",
    "    elif isinstance(min_max_and_bin_size_y, int):\n",
    "        bins_y = min_max_and_bin_size_y\n",
    "    else:\n",
    "        bins_clip_minmax_dict_y = Plot_Hist.get_bins_clip_minmax(min_max_and_bin_size_y, \n",
    "                                                                 include_overflow, include_underflow, \n",
    "                                                                 allow_max_to_expand_to_fit_int_n_bins)\n",
    "        bins_y     = bins_clip_minmax_dict_y['bins']\n",
    "        clip_min_y = bins_clip_minmax_dict_y['clip_min']\n",
    "        clip_max_y = bins_clip_minmax_dict_y['clip_max']          \n",
    "    \n",
    "    #---------------------------    \n",
    "    # TODO DO I need to copy, or no?\n",
    "    df_to_plot = df[[x_col, y_col]].copy()\n",
    "    df_to_plot[x_col] = df_to_plot[x_col].clip(clip_min_x, clip_max_x)\n",
    "    df_to_plot[y_col] = df_to_plot[y_col].clip(clip_min_y, clip_max_y)\n",
    "    #-----\n",
    "    sns.histplot(ax=ax, data=df_to_plot, x=x_col, y=y_col,\n",
    "                 bins=(bins_x, bins_y), stat=stat, discrete=(discrete_x, discrete_y), \n",
    "                 **hist_plot_kwargs)\n",
    "    #----------------------------\n",
    "    if isinstance(title_args, str):\n",
    "        title_args = dict(label=title_args)\n",
    "    if title_args is not None:\n",
    "        ax.set_title(**title_args)\n",
    "    #----------------------------\n",
    "    if ax_args is not None:\n",
    "        ax.set(**ax_args)\n",
    "    if xlabel_args is not None:\n",
    "        ax.set_xlabel(**xlabel_args)\n",
    "    if ylabel_args is not None:\n",
    "        ax.set_ylabel(**ylabel_args)\n",
    "    if tick_args is not None:\n",
    "        if isinstance(tick_args, dict):\n",
    "            tick_args = [tick_args]\n",
    "        for t_args in tick_args:\n",
    "            ax.tick_params(**t_args)\n",
    "    #---------------------------\n",
    "    if draw_legend:\n",
    "        if legend_args is None:\n",
    "            ax.legend()\n",
    "        else:\n",
    "            ax.legend(**legend_args)\n",
    "    #---------------------------\n",
    "    # Draw line to distinguish over- and underflow\n",
    "    if((isinstance(min_max_and_bin_size, list) or isinstance(min_max_and_bin_size, tuple)) and\n",
    "      (include_overflow or include_underflow)):\n",
    "        if include_underflow:\n",
    "            ax.axvline(bins_x[1], color='black', linestyle='dashdot')\n",
    "            ax.axhline(bins_y[1], color='black', linestyle='dashdot')\n",
    "        if include_overflow:\n",
    "            ax.axvline(bins_x[-2], color='black', linestyle='dashdot')\n",
    "            ax.axhline(bins_y[-2], color='black', linestyle='dashdot')\n",
    "    ax.grid(False)\n",
    "    #---------------------------\n",
    "    return ax"
   ]
  },
  {
   "cell_type": "code",
   "execution_count": null,
   "id": "d40aa728",
   "metadata": {},
   "outputs": [],
   "source": []
  },
  {
   "cell_type": "code",
   "execution_count": null,
   "id": "bb4cae78",
   "metadata": {},
   "outputs": [],
   "source": []
  },
  {
   "cell_type": "code",
   "execution_count": null,
   "id": "2bcea226",
   "metadata": {},
   "outputs": [],
   "source": [
    "tmp_df_outage_prim_strict = df_outage_prim_strict.copy()\n",
    "print(tmp_df_outage_prim_strict.shape)\n",
    "tmp_df_outage_prim_strict"
   ]
  },
  {
   "cell_type": "code",
   "execution_count": null,
   "id": "7190d358",
   "metadata": {},
   "outputs": [],
   "source": [
    "tmp_df_outage_prim_strict = tmp_df_outage_prim_strict.drop_duplicates(subset=['OUTG_REC_NB'])\n",
    "print(tmp_df_outage_prim_strict.shape)"
   ]
  },
  {
   "cell_type": "code",
   "execution_count": null,
   "id": "d0a1c476",
   "metadata": {},
   "outputs": [],
   "source": [
    "tmp_df_outage_prim_strict['trsf_pole_nb'].nunique()"
   ]
  },
  {
   "cell_type": "code",
   "execution_count": null,
   "id": "6c1145ea",
   "metadata": {},
   "outputs": [],
   "source": [
    "tmp_df_outage_prim_strict['trsf_pole_nb'].value_counts()>1"
   ]
  },
  {
   "cell_type": "code",
   "execution_count": null,
   "id": "1509521b",
   "metadata": {},
   "outputs": [],
   "source": [
    "tmp_srs = tmp_df_outage_prim_strict['trsf_pole_nb'].value_counts()\n",
    "multiple_outages = tmp_srs[tmp_srs>1].index"
   ]
  },
  {
   "cell_type": "code",
   "execution_count": null,
   "id": "dac716dd",
   "metadata": {},
   "outputs": [],
   "source": [
    "multiple_outages"
   ]
  },
  {
   "cell_type": "code",
   "execution_count": null,
   "id": "2f5a086d",
   "metadata": {},
   "outputs": [],
   "source": [
    "tmp_df_outage_prim_strict[tmp_df_outage_prim_strict['trsf_pole_nb'].isin(multiple_outages)]['annual_kwh'].describe()"
   ]
  },
  {
   "cell_type": "code",
   "execution_count": null,
   "id": "46e66a24",
   "metadata": {},
   "outputs": [],
   "source": [
    "fig, ax0 = plt.subplots(1, 1, num=fig_num, figsize=[14, 6])\n",
    "sns.histplot(ax=ax0, data=tmp_df_outage_prim_strict['trsf_pole_nb'].value_counts(), discrete=True)\n",
    "ax0.set_title('Number of outages per transformer')\n",
    "ax0.set_yscale('log')"
   ]
  },
  {
   "cell_type": "code",
   "execution_count": null,
   "id": "ef55ad0f",
   "metadata": {},
   "outputs": [],
   "source": []
  },
  {
   "cell_type": "code",
   "execution_count": null,
   "id": "b60f7404",
   "metadata": {},
   "outputs": [],
   "source": []
  },
  {
   "cell_type": "code",
   "execution_count": null,
   "id": "8fc44013",
   "metadata": {},
   "outputs": [],
   "source": []
  },
  {
   "cell_type": "code",
   "execution_count": null,
   "id": "77c20315",
   "metadata": {},
   "outputs": [],
   "source": []
  },
  {
   "cell_type": "code",
   "execution_count": null,
   "id": "ce4a55c2",
   "metadata": {},
   "outputs": [],
   "source": []
  },
  {
   "cell_type": "code",
   "execution_count": null,
   "id": "512dd695",
   "metadata": {},
   "outputs": [],
   "source": [
    "tmp_agg = tmp_df_outage_prim_strict.groupby('trsf_pole_nb').agg({'annual_kwh':['sum', 'count'], \n",
    "                                                       'annual_max_dmnd':['sum', 'count'], \n",
    "                                                       'CI_NB':['sum', 'count'], \n",
    "                                                       'CMI_NB':['sum', 'count']})"
   ]
  },
  {
   "cell_type": "code",
   "execution_count": null,
   "id": "c174c5a8",
   "metadata": {},
   "outputs": [],
   "source": []
  },
  {
   "cell_type": "code",
   "execution_count": null,
   "id": "925a22a6",
   "metadata": {},
   "outputs": [],
   "source": [
    "min_max_and_bin_size_x = 30\n",
    "min_max_and_bin_size_y = None \n",
    "include_overflow=False\n",
    "include_underflow=False\n",
    "allow_max_to_expand_to_fit_int_n_bins=True\n",
    "x_col = ('annual_kwh', 'sum')\n",
    "y_col = ('annual_kwh', 'count')\n",
    "stat = 'count'\n",
    "\n",
    "fig, ax0 = plt.subplots(1, 1, num=fig_num, figsize=[14, 6])\n",
    "ax0 = plot_2d_heatmap(ax=ax0, df=tmp_agg, \n",
    "                      x_col=x_col, y_col=y_col, \n",
    "                      min_max_and_bin_size_x=min_max_and_bin_size_x, min_max_and_bin_size_y=min_max_and_bin_size_y, \n",
    "                      include_over_underflow=[include_overflow, include_underflow], stat=stat, \n",
    "                      hist_plot_kwargs = dict(cbar=True, cbar_kws=dict(shrink=.75)), \n",
    "                      title_args=dict(label=f'n_outages vs annual_kwh', fontsize=20), \n",
    "                      ylabel_args = dict(ylabel='n_outages', fontsize=20, x=0.0, y=0.8, ha='left', va='bottom'), \n",
    "                      xlabel_args = dict(xlabel='annual_kwh', fontsize=20, x=0.9, y=0.0, ha='right', va='top'), \n",
    "                      tick_args=[dict(axis='x', labelrotation=0, labelsize=15), \n",
    "                                 dict(axis='y', labelsize=15)],                       \n",
    "                      discrete_y=True)"
   ]
  },
  {
   "cell_type": "code",
   "execution_count": null,
   "id": "e8b790e7",
   "metadata": {},
   "outputs": [],
   "source": []
  },
  {
   "cell_type": "code",
   "execution_count": null,
   "id": "a5e7822e",
   "metadata": {},
   "outputs": [],
   "source": [
    "min_max_and_bin_size_x = (1, 3, 1)\n",
    "min_max_and_bin_size_y = (0, 1000, 200)\n",
    "include_overflow=True\n",
    "include_underflow=False\n",
    "allow_max_to_expand_to_fit_int_n_bins=True\n",
    "x_col = ('CI_NB', 'sum')\n",
    "y_col = ('CMI_NB', 'sum')\n",
    "stat = 'count'\n",
    "\n",
    "fig, ax0 = plt.subplots(1, 1, num=fig_num, figsize=[14, 6])\n",
    "ax0 = plot_2d_heatmap(ax=ax0, df=tmp_agg, x_col=x_col, y_col=y_col, \n",
    "                      min_max_and_bin_size_x=min_max_and_bin_size_x, min_max_and_bin_size_y=min_max_and_bin_size_y, \n",
    "                      include_over_underflow=[include_overflow, include_underflow], stat=stat, \n",
    "                      hist_plot_kwargs = dict(cbar=True, cbar_kws=dict(shrink=.75)), \n",
    "                      title_args=dict(label=f'CMI_NB vs CI_NB', fontsize=20), \n",
    "                      ylabel_args = dict(ylabel='CMI_NB', fontsize=20, x=0.0, y=0.8, ha='left', va='bottom'), \n",
    "                      xlabel_args = dict(xlabel='CI_NB', fontsize=20, x=0.9, y=0.0, ha='right', va='top'), \n",
    "                      tick_args=[dict(axis='x', labelrotation=0, labelsize=15), \n",
    "                                 dict(axis='y', labelsize=15)])"
   ]
  },
  {
   "cell_type": "code",
   "execution_count": null,
   "id": "20a79cc8",
   "metadata": {},
   "outputs": [],
   "source": []
  },
  {
   "cell_type": "code",
   "execution_count": null,
   "id": "919496a3",
   "metadata": {},
   "outputs": [],
   "source": []
  },
  {
   "cell_type": "code",
   "execution_count": null,
   "id": "4b1fb1ef",
   "metadata": {},
   "outputs": [],
   "source": []
  },
  {
   "cell_type": "code",
   "execution_count": null,
   "id": "4d18116e",
   "metadata": {},
   "outputs": [],
   "source": []
  },
  {
   "cell_type": "code",
   "execution_count": null,
   "id": "af409331",
   "metadata": {},
   "outputs": [],
   "source": []
  }
 ],
 "metadata": {
  "kernelspec": {
   "display_name": "Python 3 (ipykernel)",
   "language": "python",
   "name": "python3"
  },
  "language_info": {
   "codemirror_mode": {
    "name": "ipython",
    "version": 3
   },
   "file_extension": ".py",
   "mimetype": "text/x-python",
   "name": "python",
   "nbconvert_exporter": "python",
   "pygments_lexer": "ipython3",
   "version": "3.11.7"
  }
 },
 "nbformat": 4,
 "nbformat_minor": 5
}
