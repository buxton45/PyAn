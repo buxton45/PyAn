{
 "cells": [
  {
   "cell_type": "code",
   "execution_count": null,
   "id": "a7811f56",
   "metadata": {},
   "outputs": [],
   "source": [
    "%run ./model_end_events_for_outages_METHODS.ipynb"
   ]
  },
  {
   "cell_type": "code",
   "execution_count": null,
   "id": "b5755605",
   "metadata": {},
   "outputs": [],
   "source": [
    "from importlib import reload\n",
    "#reload(Utilities)\n",
    "#reload(clm)\n",
    "# NOTE: To reload a class imported as, e.g., \n",
    "# from module import class\n",
    "# One must call:\n",
    "#   1. import module\n",
    "#   2. reload module\n",
    "#   3. from module import class\n",
    "\n",
    "import sys, os\n",
    "import re\n",
    "import string\n",
    "\n",
    "from pathlib import Path\n",
    "import json\n",
    "import pickle\n",
    "\n",
    "import pandas as pd\n",
    "import numpy as np\n",
    "from pandas.api.types import is_numeric_dtype, is_datetime64_dtype, is_timedelta64_dtype\n",
    "from scipy import stats\n",
    "import datetime\n",
    "import time\n",
    "from natsort import natsorted, ns, natsort_keygen\n",
    "from packaging import version\n",
    "import copy\n",
    "from functools import reduce\n",
    "\n",
    "import itertools\n",
    "\n",
    "import pyodbc\n",
    "#---------------------------------------------------------------------\n",
    "import matplotlib as mpl\n",
    "import matplotlib.pyplot as plt\n",
    "import seaborn as sns\n",
    "from matplotlib.backends.backend_pdf import PdfPages\n",
    "import matplotlib.patches as mpatches\n",
    "from matplotlib.lines import Line2D\n",
    "import matplotlib.ticker as ticker\n",
    "from matplotlib import dates\n",
    "import matplotlib.colors as mcolors\n",
    "import matplotlib.cm as cm #e.g. for cmap=cm.jet\n",
    "#---------------------------------------------------------------------\n",
    "sys.path.insert(0, os.path.realpath('..'))\n",
    "import Utilities_config\n",
    "#-----\n",
    "import CommonLearningMethods as clm\n",
    "#-----\n",
    "from MeterPremise import MeterPremise\n",
    "from EEMSP import EEMSP\n",
    "#-----\n",
    "from AMI_SQL import AMI_SQL\n",
    "from AMINonVee_SQL import AMINonVee_SQL\n",
    "from AMIEndEvents_SQL import AMIEndEvents_SQL\n",
    "from AMIUsgInst_SQL import AMIUsgInst_SQL\n",
    "from DOVSOutages_SQL import DOVSOutages_SQL\n",
    "#-----\n",
    "from GenAn import GenAn\n",
    "from AMINonVee import AMINonVee\n",
    "from AMIEndEvents import AMIEndEvents\n",
    "from AMIEDE_DEV import AMIEDE_DEV\n",
    "from MECPODf import MECPODf\n",
    "from MECPOAn import MECPOAn\n",
    "from MECPOCollection import MECPOCollection\n",
    "from AMIUsgInst import AMIUsgInst\n",
    "from DOVSOutages import DOVSOutages\n",
    "#---------------------------------------------------------------------\n",
    "sys.path.insert(0, Utilities_config.get_sql_aids_dir())\n",
    "import Utilities_sql\n",
    "import TableInfos\n",
    "from TableInfos import TableInfo\n",
    "from SQLElement import SQLElement\n",
    "from SQLElementsCollection import SQLElementsCollection\n",
    "from SQLSelect import SQLSelectElement, SQLSelect\n",
    "from SQLFrom import SQLFrom\n",
    "from SQLWhere import SQLWhereElement, SQLWhere\n",
    "from SQLJoin import SQLJoin, SQLJoinCollection\n",
    "from SQLGroupBy import SQLGroupByElement, SQLGroupBy\n",
    "from SQLHaving import SQLHaving\n",
    "from SQLOrderBy import SQLOrderByElement, SQLOrderBy\n",
    "from SQLQuery import SQLQuery\n",
    "from SQLQueryGeneric import SQLQueryGeneric\n",
    "#---------------------------------------------------------------------\n",
    "#sys.path.insert(0, os.path.join(os.path.realpath('..'), 'Utilities'))\n",
    "sys.path.insert(0, Utilities_config.get_utilities_dir())\n",
    "import Utilities\n",
    "import Utilities_df\n",
    "from Utilities_df import DFConstructType\n",
    "import Utilities_dt\n",
    "import Plot_General\n",
    "import Plot_Box_sns\n",
    "import Plot_Hist\n",
    "import Plot_Bar\n",
    "import GrubbsTest\n",
    "import DataFrameSubsetSlicer\n",
    "from DataFrameSubsetSlicer import DataFrameSubsetSlicer as DFSlicer"
   ]
  },
  {
   "cell_type": "code",
   "execution_count": null,
   "id": "66d8ba61",
   "metadata": {},
   "outputs": [],
   "source": [
    "from sklearn.preprocessing import OrdinalEncoder"
   ]
  },
  {
   "cell_type": "code",
   "execution_count": null,
   "id": "68f7b1f1",
   "metadata": {},
   "outputs": [],
   "source": [
    "from sklearn.base import BaseEstimator\n",
    "from sklearn.preprocessing import StandardScaler\n",
    "from sklearn.model_selection import train_test_split, GridSearchCV, RandomizedSearchCV, cross_val_score, cross_val_predict\n",
    "from sklearn import metrics\n",
    "from sklearn.metrics import confusion_matrix, ConfusionMatrixDisplay, accuracy_score, precision_score, recall_score, f1_score, precision_recall_curve, roc_curve\n",
    "\n",
    "from sklearn.linear_model import LogisticRegression, SGDClassifier\n",
    "from sklearn.ensemble import RandomForestClassifier\n",
    "from sklearn.decomposition import PCA\n",
    "from sklearn import preprocessing\n",
    "\n",
    "import tensorflow as tf\n",
    "from tensorflow import keras\n",
    "\n",
    "import scipy\n",
    "\n",
    "from sklearn.ensemble import AdaBoostClassifier\n",
    "from sklearn.tree import DecisionTreeClassifier"
   ]
  },
  {
   "cell_type": "markdown",
   "id": "33459065",
   "metadata": {},
   "source": [
    "# ---------------------------------------------------------------------------------------------------"
   ]
  },
  {
   "cell_type": "code",
   "execution_count": null,
   "id": "6bbaef11",
   "metadata": {},
   "outputs": [],
   "source": []
  },
  {
   "cell_type": "code",
   "execution_count": null,
   "id": "d471c01e",
   "metadata": {},
   "outputs": [],
   "source": []
  },
  {
   "cell_type": "code",
   "execution_count": null,
   "id": "99706616",
   "metadata": {},
   "outputs": [],
   "source": [
    "run_testing_data=False\n",
    "fig_num=0\n",
    "\n",
    "file_path_glob = r'end_events_[0-9]*.csv'\n",
    "file_path_regex = None\n",
    "\n",
    "assert_all_cols_equal=True\n",
    "include_normalize_by_nSNs=True\n",
    "inclue_zero_counts=True\n",
    "return_multiindex_outg_reason=False\n",
    "return_normalized_separately=False\n",
    "\n",
    "if include_normalize_by_nSNs and not return_normalized_separately:\n",
    "    normalize_by_nSNs_included=True\n",
    "else:\n",
    "    normalize_by_nSNs_included=False\n",
    "    \n",
    "xfmr_equip_typ_nms_of_interest = ['TRANSFORMER, OH', 'TRANSFORMER, UG']\n",
    "\n",
    "# save_dir_base_pkls = os.path.join(Utilities.get_local_data_dir(), r'dovs_and_end_events_data', 'rcpo_dfs', 'BEFORE_BACKFILL')\n",
    "# save_dir_base_pkls = os.path.join(Utilities.get_local_data_dir(), r'dovs_and_end_events_data', 'rcpo_dfs_NEW')\n",
    "save_dir_base_pkls = os.path.join(Utilities.get_local_data_dir(), r'dovs_and_end_events_data', 'rcpo_dfs_GRP_BY_OUTG_AND_XFMR')\n",
    "\n",
    "normalize_by_time_interval=True\n",
    "\n",
    "include_power_down_minus_up = False"
   ]
  },
  {
   "cell_type": "code",
   "execution_count": null,
   "id": "f44fa0df",
   "metadata": {},
   "outputs": [],
   "source": []
  },
  {
   "cell_type": "code",
   "execution_count": null,
   "id": "863f6d79",
   "metadata": {},
   "outputs": [],
   "source": [
    "append_only=True"
   ]
  },
  {
   "cell_type": "code",
   "execution_count": null,
   "id": "f3b05124",
   "metadata": {},
   "outputs": [],
   "source": [
    "# run_date = '20221014'\n",
    "run_date = '20221216'\n",
    "grp_by_col = ['outg_rec_nb', 'trsf_pole_nb']\n",
    "save_dir_base_pkls = os.path.join(Utilities.get_local_data_dir(), r'dovs_and_end_events_data', run_date)\n",
    "#-------------------------\n",
    "\n",
    "event_date_ranges = [\n",
    "    ['2020-01-01', '2020-12-31'],\n",
    "    ['2021-01-01', '2021-12-31'], \n",
    "    ['2022-01-01', '2022-09-30'], \n",
    "]\n",
    "\n",
    "# days_min_max_outg_td_windows=[\n",
    "#     [1,5], [6,10], [11,15], [16,20], [21,25], [26,30]\n",
    "# ]\n",
    "days_min_max_outg_td_windows=[\n",
    "    [0,1], [1,2], [2,3], [3,4], [4,5]\n",
    "]\n",
    "#-------------------------\n",
    "save_subdir_pkls = 'rcpo_dfs'\n",
    "if grp_by_col==['outg_rec_nb', 'trsf_pole_nb']:\n",
    "    save_subdir_pkls += '_GRP_BY_OUTG_AND_XFMR'\n",
    "elif grp_by_col=='trsf_pole_nb':\n",
    "    save_subdir_pkls += '_GRP_BY_XFMR'\n",
    "elif grp_by_col=='outg_rec_nb':\n",
    "    save_subdir_pkls += '_GRP_BY_OUTG'\n",
    "else:\n",
    "    assert(0)\n",
    "#-------------------------"
   ]
  },
  {
   "cell_type": "code",
   "execution_count": null,
   "id": "4f8bd694",
   "metadata": {},
   "outputs": [],
   "source": [
    "rcpo_pkl_dirs = {}\n",
    "for date_0, date_1 in event_date_ranges:\n",
    "    date_pd_subdir = f\"{date_0.replace('-','')}_{date_1.replace('-','')}\"\n",
    "    rcpo_pkl_dir_i = os.path.join(save_dir_base_pkls, date_pd_subdir, save_subdir_pkls)\n",
    "    assert(os.path.isdir(rcpo_pkl_dir_i))\n",
    "    assert(date_pd_subdir not in rcpo_pkl_dirs.keys())\n",
    "    rcpo_pkl_dirs[date_pd_subdir] = rcpo_pkl_dir_i"
   ]
  },
  {
   "cell_type": "code",
   "execution_count": null,
   "id": "c083af48",
   "metadata": {},
   "outputs": [],
   "source": [
    "rcpo_pkl_dirs"
   ]
  },
  {
   "cell_type": "code",
   "execution_count": null,
   "id": "256de5e4",
   "metadata": {},
   "outputs": [],
   "source": [
    "# NOTE: One could build all mecpo_coll objects first, and then use combine_mecpo_colls to combine them.\n",
    "#       However, this method saves on memory consumption by building one at a time and combining with\n",
    "#         the growing aggregate.\n",
    "\n",
    "# old_to_new_keys_dict = {\n",
    "#     'outg_td_window_1_to_5_days'  :'01-05 Days',\n",
    "#     'outg_td_window_6_to_10_days' :'06-10 Days',\n",
    "#     'outg_td_window_11_to_15_days':'11-15 Days',\n",
    "#     'outg_td_window_16_to_20_days':'16-20 Days',\n",
    "#     'outg_td_window_21_to_25_days':'21-25 Days',\n",
    "#     'outg_td_window_26_to_30_days':'26-30 Days'\n",
    "# }\n",
    "old_to_new_keys_dict = {\n",
    "    'outg_td_window_0_to_1_days':'00-01 Days',\n",
    "    'outg_td_window_1_to_2_days':'01-02 Days',\n",
    "    'outg_td_window_2_to_3_days':'02-03 Days',\n",
    "    'outg_td_window_3_to_4_days':'03-04 Days',\n",
    "    'outg_td_window_4_to_5_days':'04-05 Days'\n",
    "}\n",
    "\n",
    "mecpo_coll_full = None\n",
    "for i, (date_range_i, rcpo_pkl_dir_i) in enumerate(rcpo_pkl_dirs.items()):\n",
    "    mecpo_coll_full_i = MECPOCollection(\n",
    "        mecpo_coll=None, \n",
    "        coll_label = 'Outages (All Xfmrs)', \n",
    "        barplot_kwargs_shared = dict(facecolor='red'), \n",
    "        read_and_load_all_pickles=True, \n",
    "        pkls_base_dir=rcpo_pkl_dir_i,\n",
    "        days_min_max_outg_td_windows=days_min_max_outg_td_windows, \n",
    "        pkls_sub_dirs=None,\n",
    "        naming_tag=None,\n",
    "        normalize_by_time_interval=normalize_by_time_interval, \n",
    "        are_no_outg=False    \n",
    "    )\n",
    "    mecpo_coll_full_i.change_mecpo_an_keys(old_to_new_keys_dict)\n",
    "    \n",
    "    if i==0:\n",
    "        mecpo_coll_full = copy.deepcopy(mecpo_coll_full_i)\n",
    "    else:\n",
    "        mecpo_coll_full = MECPOCollection.combine_two_mecpo_colls(\n",
    "            mecpo_coll_1=mecpo_coll_full, \n",
    "            mecpo_coll_2=mecpo_coll_full_i, \n",
    "            append_only=append_only\n",
    "        )\n",
    "    del mecpo_coll_full_i\n",
    "    #-------------------------"
   ]
  },
  {
   "cell_type": "code",
   "execution_count": null,
   "id": "8ce72eec",
   "metadata": {},
   "outputs": [],
   "source": []
  },
  {
   "cell_type": "code",
   "execution_count": null,
   "id": "52865110",
   "metadata": {},
   "outputs": [],
   "source": [
    "save_subdir_pkls_no_outg = 'rcpo_dfs_GRP_BY_NO_OUTG_AND_XFMR'\n",
    "rcpo_pkl_dirs_no_outg = {}\n",
    "for date_0, date_1 in event_date_ranges:\n",
    "    date_pd_subdir = f\"{date_0.replace('-','')}_{date_1.replace('-','')}\"\n",
    "    rcpo_pkl_dir_i = os.path.join(save_dir_base_pkls, date_pd_subdir, save_subdir_pkls_no_outg)\n",
    "    assert(os.path.isdir(rcpo_pkl_dir_i))\n",
    "    assert(date_pd_subdir not in rcpo_pkl_dirs_no_outg.keys())\n",
    "    rcpo_pkl_dirs_no_outg[date_pd_subdir] = rcpo_pkl_dir_i"
   ]
  },
  {
   "cell_type": "code",
   "execution_count": null,
   "id": "e2424a23",
   "metadata": {},
   "outputs": [],
   "source": [
    "rcpo_pkl_dirs_no_outg"
   ]
  },
  {
   "cell_type": "code",
   "execution_count": null,
   "id": "5802bd22",
   "metadata": {},
   "outputs": [],
   "source": [
    "# old_to_new_keys_dict = {\n",
    "#     'outg_td_window_1_to_5_days'  :'01-05 Days',\n",
    "#     'outg_td_window_6_to_10_days' :'06-10 Days',\n",
    "#     'outg_td_window_11_to_15_days':'11-15 Days',\n",
    "#     'outg_td_window_16_to_20_days':'16-20 Days',\n",
    "#     'outg_td_window_21_to_25_days':'21-25 Days',\n",
    "#     'outg_td_window_26_to_30_days':'26-30 Days'\n",
    "# }\n",
    "old_to_new_keys_dict = {\n",
    "    'outg_td_window_0_to_1_days':'00-01 Days',\n",
    "    'outg_td_window_1_to_2_days':'01-02 Days',\n",
    "    'outg_td_window_2_to_3_days':'02-03 Days',\n",
    "    'outg_td_window_3_to_4_days':'03-04 Days',\n",
    "    'outg_td_window_4_to_5_days':'04-05 Days'\n",
    "}\n",
    "mecpo_coll_no_outg = None\n",
    "for i, (date_range_i, rcpo_pkl_dir_i) in enumerate(rcpo_pkl_dirs_no_outg.items()):\n",
    "    mecpo_coll_no_outg_i = MECPOCollection(\n",
    "        mecpo_coll=None, \n",
    "        coll_label = 'No Outages', \n",
    "        barplot_kwargs_shared = dict(facecolor='orange'), \n",
    "        read_and_load_all_pickles=True, \n",
    "        pkls_base_dir=rcpo_pkl_dir_i,\n",
    "        days_min_max_outg_td_windows=days_min_max_outg_td_windows, \n",
    "        pkls_sub_dirs=None,\n",
    "        naming_tag='_no_outg',\n",
    "        normalize_by_time_interval=normalize_by_time_interval, \n",
    "        are_no_outg=True    \n",
    "    )\n",
    "    mecpo_coll_no_outg_i.change_mecpo_an_keys(old_to_new_keys_dict)\n",
    "    \n",
    "    if i==0:\n",
    "        mecpo_coll_no_outg = copy.deepcopy(mecpo_coll_no_outg_i)\n",
    "    else:\n",
    "        mecpo_coll_no_outg = MECPOCollection.combine_two_mecpo_colls(\n",
    "            mecpo_coll_1=mecpo_coll_no_outg, \n",
    "            mecpo_coll_2=mecpo_coll_no_outg_i, \n",
    "            append_only=append_only\n",
    "        )\n",
    "    del mecpo_coll_no_outg_i"
   ]
  },
  {
   "cell_type": "code",
   "execution_count": null,
   "id": "f355361f",
   "metadata": {},
   "outputs": [],
   "source": []
  },
  {
   "cell_type": "code",
   "execution_count": null,
   "id": "929385ab",
   "metadata": {},
   "outputs": [],
   "source": [
    "save_dir_base_pkls_no_outg_prstn = r'C:\\Users\\s346557\\Documents\\LocalData\\dovs_and_end_events_data\\20230301'\n",
    "event_date_ranges_prstn = [\n",
    "    ['2020-01-01', '2020-12-31'],\n",
    "    ['2021-01-01', '2021-12-31'], \n",
    "    ['2022-01-01', '2022-12-31'], \n",
    "]\n",
    "\n",
    "save_subdir_pkls_no_outg_prstn = r'NoOutgs_Pristine\\rcpo_dfs_GRP_BY_NO_OUTG_AND_XFMR'\n",
    "rcpo_pkl_dirs_no_outg_prstn = {}\n",
    "for date_0, date_1 in event_date_ranges_prstn:\n",
    "    date_pd_subdir = f\"{date_0.replace('-','')}_{date_1.replace('-','')}\"\n",
    "    rcpo_pkl_dir_i = os.path.join(save_dir_base_pkls_no_outg_prstn, date_pd_subdir, save_subdir_pkls_no_outg_prstn)\n",
    "    assert(os.path.isdir(rcpo_pkl_dir_i))\n",
    "    assert(date_pd_subdir not in rcpo_pkl_dirs_no_outg_prstn.keys())\n",
    "    rcpo_pkl_dirs_no_outg_prstn[date_pd_subdir] = rcpo_pkl_dir_i\n",
    "    \n",
    "#-------------------------\n",
    "# old_to_new_keys_dict = {\n",
    "#     'outg_td_window_1_to_5_days'  :'01-05 Days',\n",
    "#     'outg_td_window_6_to_10_days' :'06-10 Days',\n",
    "#     'outg_td_window_11_to_15_days':'11-15 Days',\n",
    "#     'outg_td_window_16_to_20_days':'16-20 Days',\n",
    "#     'outg_td_window_21_to_25_days':'21-25 Days',\n",
    "#     'outg_td_window_26_to_30_days':'26-30 Days'\n",
    "# }\n",
    "old_to_new_keys_dict = {\n",
    "    'outg_td_window_0_to_1_days':'00-01 Days',\n",
    "    'outg_td_window_1_to_2_days':'01-02 Days',\n",
    "    'outg_td_window_2_to_3_days':'02-03 Days',\n",
    "    'outg_td_window_3_to_4_days':'03-04 Days',\n",
    "    'outg_td_window_4_to_5_days':'04-05 Days'\n",
    "}\n",
    "mecpo_coll_no_outg_prstn = None\n",
    "for i, (date_range_i, rcpo_pkl_dir_i) in enumerate(rcpo_pkl_dirs_no_outg_prstn.items()):\n",
    "    mecpo_coll_no_outg_prstn_i = MECPOCollection(\n",
    "        mecpo_coll=None, \n",
    "        coll_label = 'No Outages', \n",
    "        barplot_kwargs_shared = dict(facecolor='orange'), \n",
    "        read_and_load_all_pickles=True, \n",
    "        pkls_base_dir=rcpo_pkl_dir_i,\n",
    "        days_min_max_outg_td_windows=days_min_max_outg_td_windows, \n",
    "        pkls_sub_dirs=None,\n",
    "        naming_tag='_no_outg_prstn',\n",
    "        normalize_by_time_interval=normalize_by_time_interval, \n",
    "        are_no_outg=True    \n",
    "    )\n",
    "    mecpo_coll_no_outg_prstn_i.change_mecpo_an_keys(old_to_new_keys_dict)\n",
    "    \n",
    "    if i==0:\n",
    "        mecpo_coll_no_outg_prstn = copy.deepcopy(mecpo_coll_no_outg_prstn_i)\n",
    "    else:\n",
    "        mecpo_coll_no_outg_prstn = MECPOCollection.combine_two_mecpo_colls(\n",
    "            mecpo_coll_1=mecpo_coll_no_outg_prstn, \n",
    "            mecpo_coll_2=mecpo_coll_no_outg_prstn_i, \n",
    "            append_only=append_only\n",
    "        )\n",
    "    del mecpo_coll_no_outg_prstn_i"
   ]
  },
  {
   "cell_type": "code",
   "execution_count": null,
   "id": "e13e0a84",
   "metadata": {},
   "outputs": [],
   "source": []
  },
  {
   "cell_type": "code",
   "execution_count": null,
   "id": "20146dce",
   "metadata": {},
   "outputs": [],
   "source": [
    "# print(mecpo_coll_full.get_cpo_df('01-05 Days', 'rcpo_df_norm').shape)\n",
    "# print(mecpo_coll_full.get_cpo_df('06-10 Days', 'rcpo_df_norm').shape)\n",
    "\n",
    "# print(mecpo_coll_full.get_cpo_df('11-15 Days', 'rcpo_df_norm').shape)\n",
    "# print(mecpo_coll_full.get_cpo_df('16-20 Days', 'rcpo_df_norm').shape)\n",
    "\n",
    "# print(mecpo_coll_full.get_cpo_df('21-25 Days', 'rcpo_df_norm').shape)\n",
    "# print(mecpo_coll_full.get_cpo_df('26-30 Days', 'rcpo_df_norm').shape)\n",
    "\n",
    "print(mecpo_coll_full.get_cpo_df('00-01 Days', 'rcpo_df_norm').shape)\n",
    "print(mecpo_coll_full.get_cpo_df('01-02 Days', 'rcpo_df_norm').shape)\n",
    "print(mecpo_coll_full.get_cpo_df('02-03 Days', 'rcpo_df_norm').shape)\n",
    "print(mecpo_coll_full.get_cpo_df('03-04 Days', 'rcpo_df_norm').shape)\n",
    "print(mecpo_coll_full.get_cpo_df('04-05 Days', 'rcpo_df_norm').shape)"
   ]
  },
  {
   "cell_type": "code",
   "execution_count": null,
   "id": "93ec367e",
   "metadata": {},
   "outputs": [],
   "source": [
    "mecpo_coll_full.make_cpo_columns_equal(drop_empty_cpo_dfs=True)\n",
    "mecpo_coll_no_outg.make_cpo_columns_equal(drop_empty_cpo_dfs=True)\n",
    "mecpo_coll_no_outg_prstn.make_cpo_columns_equal(drop_empty_cpo_dfs=True)\n",
    "\n",
    "\n",
    "# If not all same cpo_df names are used between collections, then one should call \n",
    "#   MECPOCollection.make_mixed_cpo_columns_equal_between_mecpo_colls instead.\n",
    "MECPOCollection.make_cpo_columns_equal_between_mecpo_colls(\n",
    "    mecpo_colls = [\n",
    "        mecpo_coll_full, \n",
    "        mecpo_coll_no_outg, \n",
    "        mecpo_coll_no_outg_prstn\n",
    "    ], \n",
    "    drop_empty_cpo_dfs=True\n",
    ")"
   ]
  },
  {
   "cell_type": "code",
   "execution_count": null,
   "id": "c1dc23d4",
   "metadata": {},
   "outputs": [],
   "source": [
    "# print(mecpo_coll_full.get_cpo_df('01-05 Days', 'rcpo_df_norm').shape)\n",
    "# print(mecpo_coll_full.get_cpo_df('06-10 Days', 'rcpo_df_norm').shape)\n",
    "\n",
    "# print(mecpo_coll_full.get_cpo_df('11-15 Days', 'rcpo_df_norm').shape)\n",
    "# print(mecpo_coll_full.get_cpo_df('16-20 Days', 'rcpo_df_norm').shape)\n",
    "\n",
    "# print(mecpo_coll_full.get_cpo_df('21-25 Days', 'rcpo_df_norm').shape)\n",
    "# print(mecpo_coll_full.get_cpo_df('26-30 Days', 'rcpo_df_norm').shape)\n",
    "\n",
    "print(mecpo_coll_full.get_cpo_df('00-01 Days', 'rcpo_df_norm').shape)\n",
    "print(mecpo_coll_full.get_cpo_df('01-02 Days', 'rcpo_df_norm').shape)\n",
    "print(mecpo_coll_full.get_cpo_df('02-03 Days', 'rcpo_df_norm').shape)\n",
    "print(mecpo_coll_full.get_cpo_df('03-04 Days', 'rcpo_df_norm').shape)\n",
    "print(mecpo_coll_full.get_cpo_df('04-05 Days', 'rcpo_df_norm').shape)"
   ]
  },
  {
   "cell_type": "code",
   "execution_count": null,
   "id": "ea1c969b",
   "metadata": {},
   "outputs": [],
   "source": [
    "mecpo_coll_full.get_cpo_df('00-01 Days', 'rcpo_df_norm').columns"
   ]
  },
  {
   "cell_type": "code",
   "execution_count": null,
   "id": "88372950",
   "metadata": {},
   "outputs": [],
   "source": []
  },
  {
   "cell_type": "code",
   "execution_count": null,
   "id": "8f9e74a2",
   "metadata": {},
   "outputs": [],
   "source": []
  },
  {
   "cell_type": "code",
   "execution_count": null,
   "id": "3853160c",
   "metadata": {},
   "outputs": [],
   "source": [
    "start=time.time()\n",
    "#-------------------------\n",
    "# Remove all reasons containing 'cleared'\n",
    "mecpo_coll_full.remove_reasons_from_all_rcpo_dfs(['.*cleared.*', '.*Test Mode.*'])\n",
    "mecpo_coll_no_outg.remove_reasons_from_all_rcpo_dfs(['.*cleared.*', '.*Test Mode.*'])\n",
    "mecpo_coll_no_outg_prstn.remove_reasons_from_all_rcpo_dfs(['.*cleared.*', '.*Test Mode.*'])\n",
    "\n",
    "#-------------------------\n",
    "# Combine reasons using the standard combine (see dflt_patterns_and_replace in MECPODf.combine_cpo_df_reasons\n",
    "#   for the list of default patterns_and_replace)\n",
    "red_to_org_cols_dicts_full    = mecpo_coll_full.combine_reasons_in_all_rcpo_dfs(\n",
    "    initial_strip=True, initial_punctuation_removal=True, return_red_to_org_cols_dict=True\n",
    ")\n",
    "red_to_org_cols_dicts_no_outg = mecpo_coll_no_outg.combine_reasons_in_all_rcpo_dfs(\n",
    "    initial_strip=True, initial_punctuation_removal=True, return_red_to_org_cols_dict=True\n",
    ") \n",
    "red_to_org_cols_dicts_no_outg_prstn = mecpo_coll_no_outg_prstn.combine_reasons_in_all_rcpo_dfs(\n",
    "    initial_strip=True, initial_punctuation_removal=True, return_red_to_org_cols_dict=True\n",
    ") \n",
    "print(time.time()-start)\n",
    "#-------------------------\n",
    "# Build power down minus power up counts\n",
    "if include_power_down_minus_up:\n",
    "    mecpo_coll_full.delta_cpo_df_reasons_in_all_rcpo_dfs(\n",
    "        reasons_1='Primary Power Down',\n",
    "        reasons_2='Primary Power Up',\n",
    "        delta_reason_name='Power Down Minus Up'\n",
    "    )\n",
    "    mecpo_coll_no_outg.delta_cpo_df_reasons_in_all_rcpo_dfs(\n",
    "        reasons_1='Primary Power Down',\n",
    "        reasons_2='Primary Power Up',\n",
    "        delta_reason_name='Power Down Minus Up'\n",
    "    )\n",
    "    mecpo_coll_no_outg_prstn.delta_cpo_df_reasons_in_all_rcpo_dfs(\n",
    "        reasons_1='Primary Power Down',\n",
    "        reasons_2='Primary Power Up',\n",
    "        delta_reason_name='Power Down Minus Up'\n",
    "    )"
   ]
  },
  {
   "cell_type": "code",
   "execution_count": null,
   "id": "c28f1967",
   "metadata": {},
   "outputs": [],
   "source": []
  },
  {
   "cell_type": "code",
   "execution_count": null,
   "id": "930241bb",
   "metadata": {},
   "outputs": [],
   "source": [
    "#-------------------------\n",
    "# Don't want to include SNs or nSNs cols (and similar) in plotting, so remove\n",
    "mecpo_coll_full.remove_SNs_cols_from_all_cpo_dfs()\n",
    "mecpo_coll_no_outg.remove_SNs_cols_from_all_cpo_dfs()\n",
    "mecpo_coll_no_outg_prstn.remove_SNs_cols_from_all_cpo_dfs()"
   ]
  },
  {
   "cell_type": "code",
   "execution_count": null,
   "id": "c0aadcad",
   "metadata": {},
   "outputs": [],
   "source": [
    "# print(mecpo_coll_full.get_cpo_df('01-05 Days', 'rcpo_df_norm').shape)\n",
    "# print(mecpo_coll_full.get_cpo_df('06-10 Days', 'rcpo_df_norm').shape)\n",
    "\n",
    "# print(mecpo_coll_full.get_cpo_df('11-15 Days', 'rcpo_df_norm').shape)\n",
    "# print(mecpo_coll_full.get_cpo_df('16-20 Days', 'rcpo_df_norm').shape)\n",
    "\n",
    "# print(mecpo_coll_full.get_cpo_df('21-25 Days', 'rcpo_df_norm').shape)\n",
    "# print(mecpo_coll_full.get_cpo_df('26-30 Days', 'rcpo_df_norm').shape)\n",
    "\n",
    "print(mecpo_coll_full.get_cpo_df('00-01 Days', 'rcpo_df_norm').shape)\n",
    "print(mecpo_coll_full.get_cpo_df('01-02 Days', 'rcpo_df_norm').shape)\n",
    "print(mecpo_coll_full.get_cpo_df('02-03 Days', 'rcpo_df_norm').shape)\n",
    "print(mecpo_coll_full.get_cpo_df('03-04 Days', 'rcpo_df_norm').shape)\n",
    "print(mecpo_coll_full.get_cpo_df('04-05 Days', 'rcpo_df_norm').shape)"
   ]
  },
  {
   "cell_type": "markdown",
   "id": "f1c90135",
   "metadata": {},
   "source": [
    "# ================================================="
   ]
  },
  {
   "cell_type": "markdown",
   "id": "f081da1b",
   "metadata": {},
   "source": [
    "# Get merged DFs from collections"
   ]
  },
  {
   "cell_type": "code",
   "execution_count": null,
   "id": "cee32e5c",
   "metadata": {},
   "outputs": [],
   "source": [
    "# cpo_df_subset_by_mjr_mnr_cause_args=dict(\n",
    "#     mjr_cause='DL',\n",
    "#     mnr_cause='OL', \n",
    "#     addtnl_slicers=None, \n",
    "# )\n",
    "# cpo_df_subset_by_mjr_mnr_cause_args=dict(\n",
    "#     mjr_cause='DL',\n",
    "#     mnr_cause='EQF', \n",
    "#     addtnl_slicers=None, \n",
    "# )\n",
    "cpo_df_subset_by_mjr_mnr_cause_args=None\n",
    "\n",
    "\n",
    "max_total_counts=None\n",
    "# max_total_counts=150\n",
    "# max_total_counts=100\n",
    "# max_total_counts={\n",
    "#     '01-05 Days':150, \n",
    "#     '06-10 Days':150, \n",
    "#     '11-15 Days':150, \n",
    "#     '16-20 Days':150,\n",
    "#     '21-25 Days':150, \n",
    "#     '26-30 Days':150\n",
    "# }\n",
    "\n",
    "merged_df_full = mecpo_coll_full.get_merged_cpo_dfs(\n",
    "#     'rcpo_df_norm_by_outg_nSNs', \n",
    "#     'rcpo_df_norm_by_xfmr_nSNs', \n",
    "    'rcpo_df_raw', \n",
    "    cpo_df_subset_by_mjr_mnr_cause_args=cpo_df_subset_by_mjr_mnr_cause_args, \n",
    "    max_total_counts=max_total_counts\n",
    ")\n",
    "merged_df_no_outg = mecpo_coll_no_outg.get_merged_cpo_dfs(\n",
    "#     'rcpo_df_norm_by_xfmr_nSNs', \n",
    "    'rcpo_df_raw', \n",
    "    cpo_df_subset_by_mjr_mnr_cause_args=None, \n",
    "    max_total_counts=max_total_counts\n",
    ")\n",
    "merged_df_no_outg_prstn = mecpo_coll_no_outg_prstn.get_merged_cpo_dfs(\n",
    "#     'rcpo_df_norm_by_xfmr_nSNs', \n",
    "    'rcpo_df_raw', \n",
    "    cpo_df_subset_by_mjr_mnr_cause_args=None, \n",
    "    max_total_counts=max_total_counts\n",
    ")\n",
    "\n",
    "\n",
    "# Make sure all SNs columns are removed\n",
    "merged_df_full          = MECPODf.remove_SNs_cols_from_rcpo_df(merged_df_full)\n",
    "merged_df_no_outg       = MECPODf.remove_SNs_cols_from_rcpo_df(merged_df_no_outg)\n",
    "merged_df_no_outg_prstn = MECPODf.remove_SNs_cols_from_rcpo_df(merged_df_no_outg_prstn)"
   ]
  },
  {
   "cell_type": "code",
   "execution_count": null,
   "id": "c336e28a",
   "metadata": {},
   "outputs": [],
   "source": [
    "merged_df_full          = merged_df_full[merged_df_full.columns.sort_values()]\n",
    "merged_df_no_outg       = merged_df_no_outg[merged_df_no_outg.columns.sort_values()]\n",
    "merged_df_no_outg_prstn = merged_df_no_outg_prstn[merged_df_no_outg_prstn.columns.sort_values()]"
   ]
  },
  {
   "cell_type": "code",
   "execution_count": null,
   "id": "afce66b2",
   "metadata": {},
   "outputs": [],
   "source": [
    "print(all(merged_df_no_outg.columns==merged_df_full.columns))\n",
    "print(all(merged_df_no_outg.columns==merged_df_no_outg_prstn.columns))"
   ]
  },
  {
   "cell_type": "code",
   "execution_count": null,
   "id": "0724c9c7",
   "metadata": {},
   "outputs": [],
   "source": []
  },
  {
   "cell_type": "code",
   "execution_count": null,
   "id": "ca62ab75",
   "metadata": {},
   "outputs": [],
   "source": []
  },
  {
   "cell_type": "markdown",
   "id": "edbf9c8b",
   "metadata": {},
   "source": [
    "# !!!!!!!!!!!!!!!!!!!!!!!!!!!!!!!!!!!!!!!!!!!!!!!!!!!!!!!!!!!!!!!!!!!!!!!!!!!!!!"
   ]
  },
  {
   "cell_type": "code",
   "execution_count": null,
   "id": "64544844",
   "metadata": {},
   "outputs": [],
   "source": [
    "# NOTE: Cannot do get_top_reasons_subset_from_merged_cpo_df for each, as they will then in general have unequal columns!"
   ]
  },
  {
   "cell_type": "code",
   "execution_count": null,
   "id": "9ca8a673",
   "metadata": {},
   "outputs": [],
   "source": [
    "combine_others=True"
   ]
  },
  {
   "cell_type": "code",
   "execution_count": null,
   "id": "d6f86c52",
   "metadata": {},
   "outputs": [],
   "source": [
    "# counts_series_full          = mecpo_coll_full.get_counts_series('rcpo_df_norm_by_outg_nSNs', False)\n",
    "counts_series_full          = mecpo_coll_full.get_counts_series('rcpo_df_norm_by_xfmr_nSNs', False)\n",
    "\n",
    "counts_series_no_outg       = mecpo_coll_no_outg.get_counts_series('rcpo_df_norm_by_xfmr_nSNs', False)\n",
    "\n",
    "counts_series_no_outg_prstn = mecpo_coll_no_outg_prstn.get_counts_series('rcpo_df_norm_by_xfmr_nSNs', False)"
   ]
  },
  {
   "cell_type": "code",
   "execution_count": null,
   "id": "a9e4bc93",
   "metadata": {},
   "outputs": [],
   "source": [
    "counts_series_full"
   ]
  },
  {
   "cell_type": "code",
   "execution_count": null,
   "id": "34e52e7a",
   "metadata": {},
   "outputs": [],
   "source": []
  },
  {
   "cell_type": "markdown",
   "id": "16f36d3d",
   "metadata": {},
   "source": [
    "# SAVE OR LOAD"
   ]
  },
  {
   "cell_type": "code",
   "execution_count": null,
   "id": "90d0dbb7",
   "metadata": {},
   "outputs": [],
   "source": [
    "# save_dir_model_base = r'C:\\Users\\s346557\\Documents\\LocalData\\dovs_and_end_events_data\\20221216\\Models_00_05'\n",
    "\n",
    "# merged_df_full.to_pickle(os.path.join(save_dir_model_base, 'merged_df_full.pkl'))\n",
    "# merged_df_no_outg.to_pickle(os.path.join(save_dir_model_base, 'merged_df_no_outg.pkl'))\n",
    "# merged_df_no_outg_prstn.to_pickle(os.path.join(save_dir_model_base, 'merged_df_no_outg_prstn.pkl'))\n",
    "# #-------------------------\n",
    "# with open(os.path.join(save_dir_model_base, 'mecpo_coll_full.pkl'), 'wb') as handle:\n",
    "#     pickle.dump(mecpo_coll_full, handle, protocol=pickle.HIGHEST_PROTOCOL)\n",
    "# with open(os.path.join(save_dir_model_base, 'mecpo_coll_no_outg.pkl'), 'wb') as handle:\n",
    "#     pickle.dump(mecpo_coll_no_outg, handle, protocol=pickle.HIGHEST_PROTOCOL)\n",
    "# with open(os.path.join(save_dir_model_base, 'mecpo_coll_no_outg_prstn.pkl'), 'wb') as handle:\n",
    "#     pickle.dump(mecpo_coll_no_outg_prstn, handle, protocol=pickle.HIGHEST_PROTOCOL)\n",
    "# #-------------------------\n",
    "# with open(os.path.join(save_dir_model_base, 'counts_series_full.pkl'), 'wb') as handle:\n",
    "#     pickle.dump(counts_series_full, handle, protocol=pickle.HIGHEST_PROTOCOL)\n",
    "# with open(os.path.join(save_dir_model_base, 'counts_series_no_outg.pkl'), 'wb') as handle:\n",
    "#     pickle.dump(counts_series_no_outg, handle, protocol=pickle.HIGHEST_PROTOCOL)\n",
    "# with open(os.path.join(save_dir_model_base, 'counts_series_no_outg_prstn.pkl'), 'wb') as handle:\n",
    "#     pickle.dump(counts_series_no_outg_prstn, handle, protocol=pickle.HIGHEST_PROTOCOL)"
   ]
  },
  {
   "cell_type": "code",
   "execution_count": null,
   "id": "92933a2b",
   "metadata": {},
   "outputs": [],
   "source": [
    "combine_others=True\n",
    "# save_dir_model_base = r'C:\\Users\\s346557\\Documents\\LocalData\\dovs_and_end_events_data\\20221216\\Models'\n",
    "save_dir_model_base = r'C:\\Users\\s346557\\Documents\\LocalData\\dovs_and_end_events_data\\20221216\\Models_00_05'\n",
    "# save_dir_model_base = r'C:\\Users\\s346557\\Documents\\LocalData\\dovs_and_end_events_data\\20221216\\Models_00_05_raw'\n",
    "# save_dir_model_base = r'C:\\Users\\s346557\\Documents\\LocalData\\dovs_and_end_events_data\\20221216\\Models_raw'\n",
    "# save_dir_model_base = r'C:\\Users\\s346557\\Documents\\LocalData\\dovs_and_end_events_data\\20221216\\Models - Copy'\n",
    "\n",
    "\n",
    "merged_df_full=pd.read_pickle(os.path.join(save_dir_model_base, 'merged_df_full.pkl'))\n",
    "merged_df_no_outg=pd.read_pickle(os.path.join(save_dir_model_base, 'merged_df_no_outg.pkl'))\n",
    "merged_df_no_outg_prstn=pd.read_pickle(os.path.join(save_dir_model_base, 'merged_df_no_outg_prstn.pkl'))\n",
    "#-------------------------\n",
    "# with open(os.path.join(save_dir_model_base, 'mecpo_coll_full.pkl'), 'rb') as handle:\n",
    "#     mecpo_coll_full = pickle.load(handle)\n",
    "# with open(os.path.join(save_dir_model_base, 'mecpo_coll_no_outg.pkl'), 'rb') as handle:\n",
    "#     mecpo_coll_no_outg = pickle.load(handle)\n",
    "# with open(os.path.join(save_dir_model_base, 'mecpo_coll_no_outg_prstn.pkl'), 'rb') as handle:\n",
    "#     mecpo_coll_no_outg_prstn = pickle.load(handle)\n",
    "#-------------------------\n",
    "with open(os.path.join(save_dir_model_base, 'counts_series_full.pkl'), 'rb') as handle:\n",
    "    counts_series_full = pickle.load(handle)\n",
    "with open(os.path.join(save_dir_model_base, 'counts_series_no_outg.pkl'), 'rb') as handle:\n",
    "    counts_series_no_outg = pickle.load(handle)\n",
    "with open(os.path.join(save_dir_model_base, 'counts_series_no_outg_prstn.pkl'), 'rb') as handle:\n",
    "    counts_series_no_outg_prstn = pickle.load(handle)\n",
    "    \n",
    "#!!!!!!!!!!!!!!!!!!!!!!!!!!!!!!!!!!!!!!!!!!!!!!!!!!!!!!!!!!!!!!!!!!!!!!!!!!!!!!!!!!!!!!!!\n",
    "merged_df_no_outg_prstn.index.names     = ['trsf_pole_nb', 'no_outg_rec_nb']\n",
    "counts_series_no_outg_prstn.index.names = ['trsf_pole_nb', 'no_outg_rec_nb']"
   ]
  },
  {
   "cell_type": "code",
   "execution_count": null,
   "id": "30565e13",
   "metadata": {},
   "outputs": [],
   "source": [
    "print(merged_df_full.shape)\n",
    "print(merged_df_no_outg.shape)\n",
    "print(merged_df_no_outg_prstn.shape)"
   ]
  },
  {
   "cell_type": "markdown",
   "id": "368cb77d",
   "metadata": {},
   "source": [
    "# !!!!!!! No outage data have indices backwards from outages!!!!!\n"
   ]
  },
  {
   "cell_type": "code",
   "execution_count": null,
   "id": "84b21959",
   "metadata": {},
   "outputs": [],
   "source": [
    "merged_df_no_outg = merged_df_no_outg.reset_index().set_index(['no_outg_rec_nb', 'trsf_pole_nb'])\n",
    "counts_series_no_outg = counts_series_no_outg.reset_index().set_index(['no_outg_rec_nb', 'trsf_pole_nb']).squeeze()\n",
    "#-----\n",
    "merged_df_no_outg_prstn = merged_df_no_outg_prstn.reset_index().set_index(['no_outg_rec_nb', 'trsf_pole_nb'])\n",
    "counts_series_no_outg_prstn = counts_series_no_outg_prstn.reset_index().set_index(['no_outg_rec_nb', 'trsf_pole_nb']).squeeze()"
   ]
  },
  {
   "cell_type": "code",
   "execution_count": null,
   "id": "91d90550",
   "metadata": {},
   "outputs": [],
   "source": [
    "merged_df_full.columns.get_level_values(1).unique().tolist()"
   ]
  },
  {
   "cell_type": "code",
   "execution_count": null,
   "id": "25bf77a6",
   "metadata": {},
   "outputs": [],
   "source": []
  },
  {
   "cell_type": "code",
   "execution_count": null,
   "id": "57c08e24",
   "metadata": {},
   "outputs": [],
   "source": [
    "if Path(save_dir_model_base).name=='Models' or Path(save_dir_model_base).name=='Models_00_05':\n",
    "    is_norm=True\n",
    "elif Path(save_dir_model_base).name=='Models_raw' or Path(save_dir_model_base).name=='Models_00_05_raw':\n",
    "    is_norm=False\n",
    "else:\n",
    "    assert(0)\n",
    "\n",
    "merged_df_full, [merged_df_no_outg, merged_df_no_outg_prstn] = MECPOCollection.get_top_reasons_subset_from_merged_cpo_df_and_project_from_others(\n",
    "    merged_cpo_df=merged_df_full,\n",
    "    other_dfs_w_counts_series=[ \n",
    "        [merged_df_no_outg, counts_series_no_outg], \n",
    "        [merged_df_no_outg_prstn, counts_series_no_outg_prstn]\n",
    "    ], \n",
    "    how='per_mecpo_an', \n",
    "    n_reasons_to_include=10,\n",
    "    combine_others=combine_others,\n",
    "    output_combine_others_col='Other Reasons',\n",
    "    SNs_tags=None, \n",
    "    is_norm=is_norm, \n",
    "    counts_series=counts_series_full\n",
    ")"
   ]
  },
  {
   "cell_type": "code",
   "execution_count": null,
   "id": "fe263b8e",
   "metadata": {},
   "outputs": [],
   "source": [
    "print(merged_df_full.shape)\n",
    "print(merged_df_no_outg.shape)\n",
    "print(merged_df_no_outg_prstn.shape)"
   ]
  },
  {
   "cell_type": "code",
   "execution_count": null,
   "id": "6d1e46a7",
   "metadata": {},
   "outputs": [],
   "source": [
    "print(merged_df_full.shape)\n",
    "print(merged_df_no_outg.shape)\n",
    "print(merged_df_no_outg_prstn.shape)"
   ]
  },
  {
   "cell_type": "code",
   "execution_count": null,
   "id": "62249ee6",
   "metadata": {},
   "outputs": [],
   "source": [
    "merged_df_full=MECPOCollection.get_total_event_counts_for_merged_cpo_df(merged_df_full)\n",
    "merged_df_no_outg=MECPOCollection.get_total_event_counts_for_merged_cpo_df(merged_df_no_outg)\n",
    "merged_df_no_outg_prstn=MECPOCollection.get_total_event_counts_for_merged_cpo_df(merged_df_no_outg_prstn)"
   ]
  },
  {
   "cell_type": "code",
   "execution_count": null,
   "id": "83bcf03d",
   "metadata": {},
   "outputs": [],
   "source": [
    "print(merged_df_full.shape)\n",
    "print(merged_df_no_outg.shape)\n",
    "print(merged_df_no_outg_prstn.shape)"
   ]
  },
  {
   "cell_type": "code",
   "execution_count": null,
   "id": "7419689d",
   "metadata": {},
   "outputs": [],
   "source": []
  },
  {
   "cell_type": "code",
   "execution_count": null,
   "id": "211a7da6",
   "metadata": {},
   "outputs": [],
   "source": [
    "assert(len(set(merged_df_full.index).difference(set(counts_series_full.index)))==0)\n",
    "assert(len(set(merged_df_no_outg.index).difference(set(counts_series_no_outg.index)))==0)\n",
    "assert(len(set(merged_df_no_outg_prstn.index).difference(set(counts_series_no_outg_prstn.index)))==0)\n",
    "\n",
    "merged_df_full = pd.merge(\n",
    "    merged_df_full, \n",
    "    counts_series_full.to_frame(name=('nSNs', 'nSNs')), \n",
    "    left_index=True, right_index=True, how='inner')\n",
    "\n",
    "merged_df_no_outg = pd.merge(\n",
    "    merged_df_no_outg, \n",
    "    counts_series_no_outg.to_frame(name=('nSNs', 'nSNs')), \n",
    "    left_index=True, right_index=True, how='inner')\n",
    "\n",
    "merged_df_no_outg_prstn = pd.merge(\n",
    "    merged_df_no_outg_prstn, \n",
    "    counts_series_no_outg_prstn.to_frame(name=('nSNs', 'nSNs')), \n",
    "    left_index=True, right_index=True, how='inner')"
   ]
  },
  {
   "cell_type": "code",
   "execution_count": null,
   "id": "4b826bfa",
   "metadata": {},
   "outputs": [],
   "source": [
    "print(merged_df_full.shape)\n",
    "print(merged_df_no_outg.shape)\n",
    "print(merged_df_no_outg_prstn.shape)"
   ]
  },
  {
   "cell_type": "code",
   "execution_count": null,
   "id": "bb85d0c5",
   "metadata": {},
   "outputs": [],
   "source": [
    "merged_df_full"
   ]
  },
  {
   "cell_type": "code",
   "execution_count": null,
   "id": "fa37214a",
   "metadata": {},
   "outputs": [],
   "source": [
    "print(merged_df_full.shape)\n",
    "print(merged_df_full.index.get_level_values(0).nunique())\n",
    "print(merged_df_full.index.get_level_values(1).nunique())"
   ]
  },
  {
   "cell_type": "code",
   "execution_count": null,
   "id": "268a5542",
   "metadata": {},
   "outputs": [],
   "source": [
    "merged_df_full.index.get_level_values(1).value_counts()"
   ]
  },
  {
   "cell_type": "code",
   "execution_count": null,
   "id": "ddf90da0",
   "metadata": {},
   "outputs": [],
   "source": [
    "# merged_df_full['01-05 Days']\n",
    "merged_df_full['00-01 Days']"
   ]
  },
  {
   "cell_type": "code",
   "execution_count": null,
   "id": "561b091f",
   "metadata": {},
   "outputs": [],
   "source": [
    "merged_df_full"
   ]
  },
  {
   "cell_type": "code",
   "execution_count": null,
   "id": "278bfd59",
   "metadata": {},
   "outputs": [],
   "source": []
  },
  {
   "cell_type": "code",
   "execution_count": null,
   "id": "67754ba7",
   "metadata": {},
   "outputs": [],
   "source": []
  },
  {
   "cell_type": "markdown",
   "id": "a3b7fac1",
   "metadata": {},
   "source": [
    "# =========================================================\n",
    "# ========================================================="
   ]
  },
  {
   "cell_type": "markdown",
   "id": "885c5e72",
   "metadata": {},
   "source": [
    "# EEMSP"
   ]
  },
  {
   "cell_type": "code",
   "execution_count": null,
   "id": "0494532a",
   "metadata": {},
   "outputs": [],
   "source": []
  },
  {
   "cell_type": "code",
   "execution_count": null,
   "id": "e5b93a70",
   "metadata": {},
   "outputs": [],
   "source": [
    "merge_eemsp = False\n",
    "build_eemsp = False"
   ]
  },
  {
   "cell_type": "code",
   "execution_count": null,
   "id": "76036f55",
   "metadata": {},
   "outputs": [],
   "source": [
    "if merge_eemsp:\n",
    "    trsf_pole_nbs = list(set(\n",
    "        merged_df_full.index.get_level_values(1).unique().tolist()+\n",
    "        merged_df_no_outg.index.get_level_values(1).unique().tolist()+\n",
    "        merged_df_no_outg_prstn.index.get_level_values(1).unique().tolist()\n",
    "    ))"
   ]
  },
  {
   "cell_type": "code",
   "execution_count": null,
   "id": "e39e89bc",
   "metadata": {},
   "outputs": [],
   "source": [
    "if merge_eemsp:\n",
    "    if build_eemsp:\n",
    "        conn_eemsp = Utilities.get_eemsp_oracle_connection()\n",
    "        df_eemsp_OG = build_df_eemsp(conn_eemsp, trsf_pole_nbs, batch_size=1000, verbose=True, n_update=10)\n",
    "        df_eemsp_OG.to_pickle(os.path.join(save_dir_model_base, 'df_eemsp_OG.pkl'))\n",
    "    else:\n",
    "        df_eemsp_OG = pd.read_pickle(os.path.join(save_dir_model_base, 'df_eemsp_OG.pkl'))"
   ]
  },
  {
   "cell_type": "code",
   "execution_count": null,
   "id": "60a0b998",
   "metadata": {},
   "outputs": [],
   "source": []
  },
  {
   "cell_type": "code",
   "execution_count": null,
   "id": "dde1f7ce",
   "metadata": {},
   "outputs": [],
   "source": [
    "if merge_eemsp:\n",
    "    df_eemsp = df_eemsp_OG.copy()\n",
    "    print(df_eemsp.shape)\n",
    "    print(df_eemsp.columns)"
   ]
  },
  {
   "cell_type": "code",
   "execution_count": null,
   "id": "5c008112",
   "metadata": {},
   "outputs": [],
   "source": []
  },
  {
   "cell_type": "code",
   "execution_count": null,
   "id": "5f65051b",
   "metadata": {},
   "outputs": [],
   "source": [
    "if merge_eemsp:\n",
    "    # TODO!!!!!!!!!!!!!!!!!!!!!!!!!!!!\n",
    "    # Currently, simply taking the first entry wrt LOCATION_NB\n",
    "    df_eemsp = df_eemsp.sort_values(by=['LOCATION_NB', 'INSTALL_DT'], ignore_index=True)\n",
    "    df_eemsp = df_eemsp.groupby('LOCATION_NB', as_index=False).first()"
   ]
  },
  {
   "cell_type": "code",
   "execution_count": null,
   "id": "b27f6f35",
   "metadata": {},
   "outputs": [],
   "source": []
  },
  {
   "cell_type": "code",
   "execution_count": null,
   "id": "d204b0ca",
   "metadata": {},
   "outputs": [],
   "source": [
    "if merge_eemsp:\n",
    "    cols_of_interest_eemsp = [\n",
    "        'LOCATION_NB', \n",
    "        'MFGR_NM', \n",
    "        'INSTALL_DT', \n",
    "        'LAST_TRANS_DESC', \n",
    "        'EQTYPE_ID', \n",
    "        'COOLANT', \n",
    "        'INFO', \n",
    "        'KVA_SIZE',\n",
    "        'PHASE_CNT', \n",
    "        'PRIM_VOLTAGE', \n",
    "        'PROTECTION', \n",
    "        'PRU_NUMBER', \n",
    "        'SEC_VOLTAGE', \n",
    "        'SPECIAL_CHAR', \n",
    "        'TAPS', \n",
    "        'XFTYPE'\n",
    "    ]\n",
    "    # df_eemsp=df_eemsp[df_eemsp['REMOVAL_DT'].isna()]\n",
    "    df_eemsp=df_eemsp[cols_of_interest_eemsp]"
   ]
  },
  {
   "cell_type": "code",
   "execution_count": null,
   "id": "93861a19",
   "metadata": {},
   "outputs": [],
   "source": [
    "if merge_eemsp:\n",
    "    assert(df_eemsp.shape[0]==df_eemsp['LOCATION_NB'].nunique())\n",
    "    print(f\"df_eemsp.shape[0]                 = {df_eemsp.shape[0]}\")\n",
    "    print(f\"len(trsf_pole_nbs)                = {len(trsf_pole_nbs)}\")\n",
    "    print(f\"Diff                              = {len(trsf_pole_nbs)-df_eemsp.shape[0]}\")"
   ]
  },
  {
   "cell_type": "code",
   "execution_count": null,
   "id": "df05ecb5",
   "metadata": {},
   "outputs": [],
   "source": []
  },
  {
   "cell_type": "code",
   "execution_count": null,
   "id": "36825e0d",
   "metadata": {},
   "outputs": [],
   "source": [
    "if merge_eemsp:\n",
    "    #-------------------------\n",
    "    print(f\"merged_df_full.shape          = {merged_df_full.shape}\")\n",
    "    print(f\"merged_df_no_outg.shape       = {merged_df_no_outg.shape}\")\n",
    "    print(f\"merged_df_no_outg_prstn.shape = {merged_df_no_outg_prstn.shape}\")\n",
    "    #-------------------------\n",
    "    df_eemsp = Utilities_df.prepend_level_to_MultiIndex(df_eemsp, level_val='EEMSP', axis=1)\n",
    "    #-------------------------\n",
    "    merged_df_full = pd.merge(\n",
    "        merged_df_full, \n",
    "        df_eemsp.set_index(('EEMSP', 'LOCATION_NB')), \n",
    "        left_on=merged_df_full.index.get_level_values(1), \n",
    "        right_index=True, \n",
    "        how='inner'\n",
    "    )\n",
    "    #-------------------------\n",
    "    merged_df_no_outg = pd.merge(\n",
    "        merged_df_no_outg, \n",
    "        df_eemsp.set_index(('EEMSP', 'LOCATION_NB')), \n",
    "        left_on=merged_df_no_outg.index.get_level_values(1), \n",
    "        right_index=True, \n",
    "        how='inner'\n",
    "    )\n",
    "    #-------------------------\n",
    "    merged_df_no_outg_prstn = pd.merge(\n",
    "        merged_df_no_outg_prstn, \n",
    "        df_eemsp.set_index(('EEMSP', 'LOCATION_NB')), \n",
    "        left_on=merged_df_no_outg_prstn.index.get_level_values(1), \n",
    "        right_index=True, \n",
    "        how='inner'\n",
    "    )\n",
    "    #-------------------------\n",
    "    print()\n",
    "    print(f\"merged_df_full.shape          = {merged_df_full.shape}\")\n",
    "    print(f\"merged_df_no_outg.shape       = {merged_df_no_outg.shape}\")\n",
    "    print(f\"merged_df_no_outg_prstn.shape = {merged_df_no_outg_prstn.shape}\")"
   ]
  },
  {
   "cell_type": "code",
   "execution_count": null,
   "id": "f8cacba1",
   "metadata": {},
   "outputs": [],
   "source": []
  },
  {
   "cell_type": "code",
   "execution_count": null,
   "id": "3ac6a762",
   "metadata": {},
   "outputs": [],
   "source": [
    "# REMOVING SCHEDULED OUTAGES\n",
    "\n",
    "print(f'merged_df_full.shape = {merged_df_full.shape}')\n",
    "\n",
    "merged_df_full =  MECPODf.get_cpo_df_subset_excluding_mjr_mnr_causes( \n",
    "    cpo_df=merged_df_full, \n",
    "    mjr_mnr_causes_to_exclude=None, \n",
    "    mjr_causes_to_exclude=None,\n",
    "    mnr_causes_to_exclude=['SCO', 'SO'], \n",
    "    outg_rec_nb_col='index'\n",
    ")\n",
    "\n",
    "print(f'merged_df_full.shape = {merged_df_full.shape}')"
   ]
  },
  {
   "cell_type": "code",
   "execution_count": null,
   "id": "9895e91e",
   "metadata": {},
   "outputs": [],
   "source": [
    "merged_df_full.index.get_level_values(0).nunique()"
   ]
  },
  {
   "cell_type": "code",
   "execution_count": null,
   "id": "30cdf985",
   "metadata": {},
   "outputs": [],
   "source": [
    "merged_df_full"
   ]
  },
  {
   "cell_type": "code",
   "execution_count": null,
   "id": "80ee23dd",
   "metadata": {},
   "outputs": [],
   "source": []
  },
  {
   "cell_type": "code",
   "execution_count": null,
   "id": "79991b30",
   "metadata": {},
   "outputs": [],
   "source": []
  },
  {
   "cell_type": "markdown",
   "id": "3e1c2a41",
   "metadata": {},
   "source": [
    "# Add date info"
   ]
  },
  {
   "cell_type": "code",
   "execution_count": null,
   "id": "9984c188",
   "metadata": {},
   "outputs": [],
   "source": [
    "merged_df_full_wd = DOVSOutages.append_outg_dt_off_ts_full_to_df(\n",
    "    df=merged_df_full.copy(), \n",
    "    outg_rec_nb_idfr=('index', 'outg_rec_nb'), \n",
    "    dummy_col_levels_prefix='dummy_lvl_'\n",
    ")"
   ]
  },
  {
   "cell_type": "code",
   "execution_count": null,
   "id": "f04e0f6f",
   "metadata": {},
   "outputs": [],
   "source": []
  },
  {
   "cell_type": "code",
   "execution_count": null,
   "id": "ebcb7be1",
   "metadata": {},
   "outputs": [],
   "source": [
    "build_no_outg_time_infos_dfs=False\n",
    "save_dir_model_base = r'C:\\Users\\s346557\\Documents\\LocalData\\dovs_and_end_events_data\\20221216\\Models'\n",
    "\n",
    "\n",
    "if build_no_outg_time_infos_dfs:\n",
    "    ede_data_dir_no_outg_2020 = r'C:\\Users\\s346557\\Documents\\LocalData\\dovs_and_end_events_data\\20221216\\20200101_20201231\\EndEvents_NoOutg'\n",
    "    ede_data_dir_no_outg_2021 = r'C:\\Users\\s346557\\Documents\\LocalData\\dovs_and_end_events_data\\20221216\\20210101_20211231\\EndEvents_NoOutg'\n",
    "    ede_data_dir_no_outg_2022 = r'C:\\Users\\s346557\\Documents\\LocalData\\dovs_and_end_events_data\\20221216\\20220101_20220930\\EndEvents_NoOutg'\n",
    "    #-------------------------\n",
    "    no_outg_time_infos_df_2020 = AMIEDE_DEV.get_no_outg_time_interval_infos_df_for_data_in_dir(ede_data_dir_no_outg_2020)\n",
    "    no_outg_time_infos_df_2021 = AMIEDE_DEV.get_no_outg_time_interval_infos_df_for_data_in_dir(ede_data_dir_no_outg_2021)\n",
    "    no_outg_time_infos_df_2022 = AMIEDE_DEV.get_no_outg_time_interval_infos_df_for_data_in_dir(ede_data_dir_no_outg_2022)\n",
    "    #-------------------------\n",
    "    no_outg_time_infos_df = pd.concat([no_outg_time_infos_df_2020, no_outg_time_infos_df_2021, no_outg_time_infos_df_2022])\n",
    "    #-------------------------\n",
    "    no_outg_time_infos_df.to_pickle(os.path.join(save_dir_model_base, 'no_outg_time_infos_df.pkl'))\n",
    "else:\n",
    "    no_outg_time_infos_df = pd.read_pickle(os.path.join(save_dir_model_base, 'no_outg_time_infos_df.pkl'))\n",
    "#--------------------------------------------------    \n",
    "#--------------------------------------------------    \n",
    "if build_no_outg_time_infos_dfs:\n",
    "#     ede_data_dir_no_outg_prstn_2020 = r'C:\\Users\\s346557\\Documents\\LocalData\\dovs_and_end_events_data\\20221014\\20200101_20201231\\EndEvents_NoOutg'\n",
    "#     ede_data_dir_no_outg_prstn_2021 = r'C:\\Users\\s346557\\Documents\\LocalData\\dovs_and_end_events_data\\20221014\\20210101_20211231\\EndEvents_NoOutg'\n",
    "#     ede_data_dir_no_outg_prstn_2022 = r'C:\\Users\\s346557\\Documents\\LocalData\\dovs_and_end_events_data\\20221014\\20220101_20220930\\EndEvents_NoOutg'\n",
    "    ede_data_dir_no_outg_prstn_2020 = r'C:\\Users\\s346557\\Documents\\LocalData\\dovs_and_end_events_data\\20230301\\20200101_20201231\\NoOutgs_Pristine\\EndEvents'\n",
    "    ede_data_dir_no_outg_prstn_2021 = r'C:\\Users\\s346557\\Documents\\LocalData\\dovs_and_end_events_data\\20230301\\20210101_20211231\\NoOutgs_Pristine\\EndEvents'\n",
    "    ede_data_dir_no_outg_prstn_2022 = r'C:\\Users\\s346557\\Documents\\LocalData\\dovs_and_end_events_data\\20230301\\20220101_20221231\\NoOutgs_Pristine\\EndEvents'\n",
    "    #-------------------------\n",
    "    no_outg_time_infos_df_prstn_2020 = AMIEDE_DEV.get_no_outg_time_interval_infos_df_for_data_in_dir(ede_data_dir_no_outg_prstn_2020)\n",
    "    no_outg_time_infos_df_prstn_2021 = AMIEDE_DEV.get_no_outg_time_interval_infos_df_for_data_in_dir(ede_data_dir_no_outg_prstn_2021)\n",
    "    no_outg_time_infos_df_prstn_2022 = AMIEDE_DEV.get_no_outg_time_interval_infos_df_for_data_in_dir(ede_data_dir_no_outg_prstn_2022)\n",
    "    #-------------------------\n",
    "    no_outg_time_infos_prstn_df = pd.concat([no_outg_time_infos_df_prstn_2020, no_outg_time_infos_df_prstn_2021, no_outg_time_infos_df_prstn_2022])\n",
    "    #-------------------------\n",
    "    no_outg_time_infos_prstn_df.to_pickle(os.path.join(save_dir_model_base, 'no_outg_time_infos_prstn_df.pkl'))\n",
    "else:\n",
    "    no_outg_time_infos_prstn_df = pd.read_pickle(os.path.join(save_dir_model_base, 'no_outg_time_infos_prstn_df.pkl'))"
   ]
  },
  {
   "cell_type": "code",
   "execution_count": null,
   "id": "29adcb7d",
   "metadata": {},
   "outputs": [],
   "source": [
    "merged_df_no_outg_wd = merge_cpx_df_w_time_infos(\n",
    "    cpx_df=merged_df_no_outg.copy(), \n",
    "    time_infos_df=no_outg_time_infos_df, \n",
    "    time_infos_drop_dupls_subset=['index', 't_min']\n",
    ")"
   ]
  },
  {
   "cell_type": "code",
   "execution_count": null,
   "id": "59a65e34",
   "metadata": {},
   "outputs": [],
   "source": [
    "merged_df_no_outg_prstn_wd = merge_cpx_df_w_time_infos(\n",
    "    cpx_df=merged_df_no_outg_prstn.copy(), \n",
    "    time_infos_df=no_outg_time_infos_prstn_df, \n",
    "    time_infos_drop_dupls_subset=['index', 't_min']\n",
    ")"
   ]
  },
  {
   "cell_type": "code",
   "execution_count": null,
   "id": "dbce26f6",
   "metadata": {},
   "outputs": [],
   "source": []
  },
  {
   "cell_type": "code",
   "execution_count": null,
   "id": "8fd2ecd3",
   "metadata": {},
   "outputs": [],
   "source": [
    "if ('is_outg', 'is_outg') in merged_df_full_wd.columns:\n",
    "    merged_df_full_wd = Utilities_df.move_cols_to_back(merged_df_full_wd, [('is_outg', 'is_outg')])\n",
    "if ('is_outg', 'is_outg') in merged_df_no_outg_wd.columns:\n",
    "    merged_df_no_outg_wd = Utilities_df.move_cols_to_back(merged_df_no_outg_wd, [('is_outg', 'is_outg')])\n",
    "if ('is_outg', 'is_outg') in merged_df_no_outg_prstn_wd.columns:\n",
    "    merged_df_no_outg_prstn_wd = Utilities_df.move_cols_to_back(merged_df_no_outg_prstn_wd, [('is_outg', 'is_outg')])"
   ]
  },
  {
   "cell_type": "code",
   "execution_count": null,
   "id": "073126f4",
   "metadata": {},
   "outputs": [],
   "source": []
  },
  {
   "cell_type": "code",
   "execution_count": null,
   "id": "aaab67c7",
   "metadata": {},
   "outputs": [],
   "source": [
    "# Change outage time to just month of outage\n",
    "merged_df_full_wd[('dummy_lvl_0', 'outg_month')] = merged_df_full_wd[('dummy_lvl_0', 'DT_OFF_TS_FULL')].dt.month\n",
    "\n",
    "merged_df_no_outg_wd[('dummy_lvl_0', 'outg_month')] = merged_df_no_outg_wd[('dummy_lvl_0', 't_min')].dt.month\n",
    "merged_df_no_outg_prstn_wd[('dummy_lvl_0', 'outg_month')] = merged_df_no_outg_prstn_wd[('dummy_lvl_0', 't_min')].dt.month\n",
    "\n",
    "#-------------------------\n",
    "merged_df_full_wd = merged_df_full_wd.drop(columns=[('dummy_lvl_0', 'DT_OFF_TS_FULL')])\n",
    "merged_df_no_outg_wd = merged_df_no_outg_wd.drop(columns=[('dummy_lvl_0', 't_min'), ('dummy_lvl_0', 't_max'), ('dummy_lvl_0', 'prem_nbs')])\n",
    "merged_df_no_outg_prstn_wd = merged_df_no_outg_prstn_wd.drop(columns=[('dummy_lvl_0', 't_min'), ('dummy_lvl_0', 't_max'), ('dummy_lvl_0', 'prem_nbs')])"
   ]
  },
  {
   "cell_type": "code",
   "execution_count": null,
   "id": "4bfcea3e",
   "metadata": {},
   "outputs": [],
   "source": []
  },
  {
   "cell_type": "code",
   "execution_count": null,
   "id": "224d60c8",
   "metadata": {},
   "outputs": [],
   "source": [
    "merged_df_full=merged_df_full_wd.copy()\n",
    "merged_df_no_outg=merged_df_no_outg_wd.copy()\n",
    "merged_df_no_outg_prstn=merged_df_no_outg_prstn_wd.copy()"
   ]
  },
  {
   "cell_type": "code",
   "execution_count": null,
   "id": "7cc7c3f5",
   "metadata": {},
   "outputs": [],
   "source": []
  },
  {
   "cell_type": "markdown",
   "id": "6b9c011c",
   "metadata": {},
   "source": [
    "# !~!~!~!~!~!~!~!~!~!~!~!~!~!~!~!~!~!~!~!~!~!~!~!~!~!~!~"
   ]
  },
  {
   "cell_type": "code",
   "execution_count": null,
   "id": "e33c4e21",
   "metadata": {},
   "outputs": [],
   "source": [
    "# Remove NETWORK and PRIMARY trsf_pole_nbs\n",
    "# merged_df_no_outg=merged_df_no_outg.loc[~merged_df_no_outg.index.get_level_values(0).isin(['NETWORK', 'PRIMARY'])]\n",
    "# merged_df_no_outg_prstn=merged_df_no_outg_prstn.loc[~merged_df_no_outg_prstn.index.get_level_values(0).isin(['NETWORK', 'PRIMARY'])]\n",
    "merged_df_no_outg=merged_df_no_outg.loc[~merged_df_no_outg.index.get_level_values(1).isin(['NETWORK', 'PRIMARY'])]\n",
    "merged_df_no_outg_prstn=merged_df_no_outg_prstn.loc[~merged_df_no_outg_prstn.index.get_level_values(1).isin(['NETWORK', 'PRIMARY'])]\n",
    "#-----\n",
    "merged_df_full=merged_df_full[~merged_df_full.index.get_level_values(1).isin(['NETWORK', 'PRIMARY'])]"
   ]
  },
  {
   "cell_type": "code",
   "execution_count": null,
   "id": "b1f81ee6",
   "metadata": {},
   "outputs": [],
   "source": []
  },
  {
   "cell_type": "code",
   "execution_count": null,
   "id": "cd880459",
   "metadata": {},
   "outputs": [],
   "source": [
    "# Get DOVS info to be used for setting target values\n",
    "merged_df_full_w_DOVS = DOVSOutages.append_outg_info_to_df(\n",
    "    df=merged_df_full.copy(), \n",
    "    outg_rec_nb_idfr=('index', 'outg_rec_nb'), \n",
    "    build_sql_function=DOVSOutages_SQL.build_sql_std_outage, \n",
    ")\n",
    "merged_df_full_w_DOVS=merged_df_full_w_DOVS[['outg_dummy_lvl_0']]\n",
    "merged_df_full_w_DOVS[('is_outg', 'is_outg')]=0"
   ]
  },
  {
   "cell_type": "code",
   "execution_count": null,
   "id": "108122e3",
   "metadata": {},
   "outputs": [],
   "source": []
  },
  {
   "cell_type": "code",
   "execution_count": null,
   "id": "147f92de",
   "metadata": {},
   "outputs": [],
   "source": [
    "# Add 'from_outg' information so I can track how many are in target=1 and target=0 \n",
    "merged_df_full[('from_outg', 'from_outg')]          = 1\n",
    "merged_df_no_outg[('from_outg', 'from_outg')]       = 0\n",
    "merged_df_no_outg_prstn[('from_outg', 'from_outg')] = 0"
   ]
  },
  {
   "cell_type": "code",
   "execution_count": null,
   "id": "49a39550",
   "metadata": {},
   "outputs": [],
   "source": []
  },
  {
   "cell_type": "code",
   "execution_count": null,
   "id": "47ad5546",
   "metadata": {},
   "outputs": [],
   "source": []
  },
  {
   "cell_type": "code",
   "execution_count": null,
   "id": "a4d5ee7a",
   "metadata": {},
   "outputs": [],
   "source": [
    "build_no_outg_time_infos_dfs=False\n",
    "save_dir_model_base = r'C:\\Users\\s346557\\Documents\\LocalData\\dovs_and_end_events_data\\20221216\\Models'\n",
    "\n",
    "\n",
    "if build_no_outg_time_infos_dfs:\n",
    "    ede_data_dir_no_outg_2020 = r'C:\\Users\\s346557\\Documents\\LocalData\\dovs_and_end_events_data\\20221216\\20200101_20201231\\EndEvents_NoOutg'\n",
    "    ede_data_dir_no_outg_2021 = r'C:\\Users\\s346557\\Documents\\LocalData\\dovs_and_end_events_data\\20221216\\20210101_20211231\\EndEvents_NoOutg'\n",
    "    ede_data_dir_no_outg_2022 = r'C:\\Users\\s346557\\Documents\\LocalData\\dovs_and_end_events_data\\20221216\\20220101_20220930\\EndEvents_NoOutg'\n",
    "    #-------------------------\n",
    "    no_outg_time_infos_df_2020 = AMIEDE_DEV.get_no_outg_time_interval_infos_df_for_data_in_dir(ede_data_dir_no_outg_2020)\n",
    "    no_outg_time_infos_df_2021 = AMIEDE_DEV.get_no_outg_time_interval_infos_df_for_data_in_dir(ede_data_dir_no_outg_2021)\n",
    "    no_outg_time_infos_df_2022 = AMIEDE_DEV.get_no_outg_time_interval_infos_df_for_data_in_dir(ede_data_dir_no_outg_2022)\n",
    "    #-------------------------\n",
    "    no_outg_time_infos_df = pd.concat([no_outg_time_infos_df_2020, no_outg_time_infos_df_2021, no_outg_time_infos_df_2022])\n",
    "    #-------------------------\n",
    "    no_outg_time_infos_df.to_pickle(os.path.join(save_dir_model_base, 'no_outg_time_infos_df.pkl'))\n",
    "else:\n",
    "    no_outg_time_infos_df = pd.read_pickle(os.path.join(save_dir_model_base, 'no_outg_time_infos_df.pkl'))\n",
    "#--------------------------------------------------    \n",
    "#--------------------------------------------------    \n",
    "if build_no_outg_time_infos_dfs:\n",
    "#     ede_data_dir_no_outg_prstn_2020 = r'C:\\Users\\s346557\\Documents\\LocalData\\dovs_and_end_events_data\\20221014\\20200101_20201231\\EndEvents_NoOutg'\n",
    "#     ede_data_dir_no_outg_prstn_2021 = r'C:\\Users\\s346557\\Documents\\LocalData\\dovs_and_end_events_data\\20221014\\20210101_20211231\\EndEvents_NoOutg'\n",
    "#     ede_data_dir_no_outg_prstn_2022 = r'C:\\Users\\s346557\\Documents\\LocalData\\dovs_and_end_events_data\\20221014\\20220101_20220930\\EndEvents_NoOutg'\n",
    "    ede_data_dir_no_outg_prstn_2020 = r'C:\\Users\\s346557\\Documents\\LocalData\\dovs_and_end_events_data\\20230301\\20200101_20201231\\NoOutgs_Pristine\\EndEvents'\n",
    "    ede_data_dir_no_outg_prstn_2021 = r'C:\\Users\\s346557\\Documents\\LocalData\\dovs_and_end_events_data\\20230301\\20210101_20211231\\NoOutgs_Pristine\\EndEvents'\n",
    "    ede_data_dir_no_outg_prstn_2022 = r'C:\\Users\\s346557\\Documents\\LocalData\\dovs_and_end_events_data\\20230301\\20220101_20221231\\NoOutgs_Pristine\\EndEvents'\n",
    "    #-------------------------\n",
    "    no_outg_time_infos_df_prstn_2020 = AMIEDE_DEV.get_no_outg_time_interval_infos_df_for_data_in_dir(ede_data_dir_no_outg_prstn_2020)\n",
    "    no_outg_time_infos_df_prstn_2021 = AMIEDE_DEV.get_no_outg_time_interval_infos_df_for_data_in_dir(ede_data_dir_no_outg_prstn_2021)\n",
    "    no_outg_time_infos_df_prstn_2022 = AMIEDE_DEV.get_no_outg_time_interval_infos_df_for_data_in_dir(ede_data_dir_no_outg_prstn_2022)\n",
    "    #-------------------------\n",
    "    no_outg_time_infos_prstn_df = pd.concat([no_outg_time_infos_df_prstn_2020, no_outg_time_infos_df_prstn_2021, no_outg_time_infos_df_prstn_2022])\n",
    "    #-------------------------\n",
    "    no_outg_time_infos_prstn_df.to_pickle(os.path.join(save_dir_model_base, 'no_outg_time_infos_prstn_df.pkl'))\n",
    "else:\n",
    "    no_outg_time_infos_prstn_df = pd.read_pickle(os.path.join(save_dir_model_base, 'no_outg_time_infos_prstn_df.pkl')) \n"
   ]
  },
  {
   "cell_type": "code",
   "execution_count": null,
   "id": "368f508b",
   "metadata": {},
   "outputs": [],
   "source": []
  },
  {
   "cell_type": "markdown",
   "id": "44544757",
   "metadata": {},
   "source": [
    "# Drop any time periods"
   ]
  },
  {
   "cell_type": "code",
   "execution_count": null,
   "id": "0fb42544",
   "metadata": {},
   "outputs": [],
   "source": [
    "# pds_to_drop = None\n",
    "pds_to_drop = ['00-01 Days']"
   ]
  },
  {
   "cell_type": "code",
   "execution_count": null,
   "id": "f1eb5935",
   "metadata": {},
   "outputs": [],
   "source": [
    "if pds_to_drop is not None:\n",
    "    merged_df_full          = merged_df_full.drop(columns=pds_to_drop, level=0)\n",
    "    merged_df_no_outg       = merged_df_no_outg.drop(columns=pds_to_drop, level=0)\n",
    "    merged_df_no_outg_prstn = merged_df_no_outg_prstn.drop(columns=pds_to_drop, level=0)"
   ]
  },
  {
   "cell_type": "code",
   "execution_count": null,
   "id": "6108941b",
   "metadata": {},
   "outputs": [],
   "source": []
  },
  {
   "cell_type": "code",
   "execution_count": null,
   "id": "3ac5096c",
   "metadata": {},
   "outputs": [],
   "source": []
  },
  {
   "cell_type": "code",
   "execution_count": null,
   "id": "ec897dd8",
   "metadata": {},
   "outputs": [],
   "source": [
    "date_0_train   = pd.to_datetime('2021-01-01')\n",
    "date_1_train   = pd.to_datetime('2022-01-01')\n",
    "#-----\n",
    "date_0_test    = pd.to_datetime('2022-01-01')\n",
    "date_1_test    = pd.to_datetime('2022-06-01')\n",
    "#-----\n",
    "date_0_HOLDOUT = pd.to_datetime('2022-06-01')\n",
    "date_1_HOLDOUT = pd.to_datetime('2023-01-01')\n",
    "\n",
    "# date_0_train   = pd.to_datetime('2020-01-01')\n",
    "# date_1_train   = pd.to_datetime('2022-01-01')\n",
    "# #-----\n",
    "# date_0_test    = pd.to_datetime('2022-01-01')\n",
    "# date_1_test    = pd.to_datetime('2022-01-01')\n",
    "# #-----\n",
    "# date_0_HOLDOUT = pd.to_datetime('2022-01-01')\n",
    "# date_1_HOLDOUT = pd.to_datetime('2023-01-01')"
   ]
  },
  {
   "cell_type": "code",
   "execution_count": null,
   "id": "a3a451c4",
   "metadata": {},
   "outputs": [],
   "source": [
    "get_train_test_by_date = True"
   ]
  },
  {
   "cell_type": "code",
   "execution_count": null,
   "id": "2f1f306c",
   "metadata": {},
   "outputs": [],
   "source": [
    "random_state = None\n",
    "if get_train_test_by_date:\n",
    "    merged_df_full_train = get_cpx_outg_df_subset_by_outg_datetime(\n",
    "        cpx_outg_df=merged_df_full.copy(), \n",
    "        date_0 = date_0_train,\n",
    "        date_1 = date_1_train, \n",
    "        outg_rec_nb_idfr='index', \n",
    "        return_notin_also=False\n",
    "    )\n",
    "    merged_df_full_test = get_cpx_outg_df_subset_by_outg_datetime(\n",
    "        cpx_outg_df=merged_df_full.copy(), \n",
    "        date_0 = date_0_test,\n",
    "        date_1 = date_1_test, \n",
    "        outg_rec_nb_idfr='index', \n",
    "        return_notin_also=False\n",
    "    )\n",
    "else:\n",
    "    merged_df_full_train_test = get_cpx_outg_df_subset_by_outg_datetime(\n",
    "        cpx_outg_df=merged_df_full.copy(), \n",
    "        date_0 = date_0_train,\n",
    "        date_1 = date_1_test, \n",
    "        outg_rec_nb_idfr='index', \n",
    "        return_notin_also=False\n",
    "    )\n",
    "    merged_df_full_train, merged_df_full_test = train_test_split(\n",
    "        merged_df_full_train_test, \n",
    "        test_size=0.33, \n",
    "        random_state=random_state\n",
    "    )\n",
    "#-------------------------    \n",
    "merged_df_full_HOLDOUT = get_cpx_outg_df_subset_by_outg_datetime(\n",
    "    cpx_outg_df=merged_df_full.copy(), \n",
    "    date_0 = date_0_HOLDOUT,\n",
    "    date_1 = date_1_HOLDOUT, \n",
    "    outg_rec_nb_idfr='index', \n",
    "    return_notin_also=False\n",
    ")"
   ]
  },
  {
   "cell_type": "code",
   "execution_count": null,
   "id": "02a95c17",
   "metadata": {},
   "outputs": [],
   "source": []
  },
  {
   "cell_type": "code",
   "execution_count": null,
   "id": "1a1ec116",
   "metadata": {},
   "outputs": [],
   "source": []
  },
  {
   "cell_type": "code",
   "execution_count": null,
   "id": "2ddb53e2",
   "metadata": {},
   "outputs": [],
   "source": []
  },
  {
   "cell_type": "code",
   "execution_count": null,
   "id": "80d63d70",
   "metadata": {},
   "outputs": [],
   "source": [
    "if get_train_test_by_date:\n",
    "    merged_df_no_outg_train = get_cpx_baseline_df_subset_by_datetime(\n",
    "        cpx_bsln_df = merged_df_no_outg.copy(), \n",
    "        bsln_time_infos_df = no_outg_time_infos_df.copy(), \n",
    "        date_0 = date_0_train,\n",
    "        date_1 = date_1_train, \n",
    "        bsln_time_infos_time_col='t_min', \n",
    "        return_notin_also=False, \n",
    "        merge_time_info_to_cpx_bsln_df=False\n",
    "    )\n",
    "    merged_df_no_outg_test = get_cpx_baseline_df_subset_by_datetime(\n",
    "        cpx_bsln_df = merged_df_no_outg.copy(), \n",
    "        bsln_time_infos_df = no_outg_time_infos_df.copy(), \n",
    "        date_0 = date_0_test,\n",
    "        date_1 = date_1_test, \n",
    "        bsln_time_infos_time_col='t_min', \n",
    "        return_notin_also=False, \n",
    "        merge_time_info_to_cpx_bsln_df=False\n",
    "    )\n",
    "else:\n",
    "    merged_df_no_outg_train_test = get_cpx_baseline_df_subset_by_datetime(\n",
    "        cpx_bsln_df = merged_df_no_outg.copy(), \n",
    "        bsln_time_infos_df = no_outg_time_infos_df.copy(), \n",
    "        date_0 = date_0_train,\n",
    "        date_1 = date_1_test, \n",
    "        bsln_time_infos_time_col='t_min', \n",
    "        return_notin_also=False, \n",
    "        merge_time_info_to_cpx_bsln_df=False\n",
    "    )\n",
    "    merged_df_no_outg_train, merged_df_no_outg_test = train_test_split(\n",
    "        merged_df_no_outg_train_test, \n",
    "        test_size=0.33, \n",
    "        random_state=random_state\n",
    "    )\n",
    "#-------------------------   \n",
    "merged_df_no_outg_HOLDOUT = get_cpx_baseline_df_subset_by_datetime(\n",
    "    cpx_bsln_df = merged_df_no_outg.copy(), \n",
    "    bsln_time_infos_df = no_outg_time_infos_df.copy(), \n",
    "    date_0 = date_0_HOLDOUT,\n",
    "    date_1 = date_1_HOLDOUT, \n",
    "    bsln_time_infos_time_col='t_min', \n",
    "    return_notin_also=False, \n",
    "    merge_time_info_to_cpx_bsln_df=False\n",
    ")\n",
    "#--------------------------------------------------   \n",
    "if get_train_test_by_date:\n",
    "    merged_df_no_outg_prstn_train = get_cpx_baseline_df_subset_by_datetime(\n",
    "        cpx_bsln_df = merged_df_no_outg_prstn.copy(), \n",
    "        bsln_time_infos_df = no_outg_time_infos_prstn_df.copy(), \n",
    "        date_0 = date_0_train,\n",
    "        date_1 = date_1_train, \n",
    "        bsln_time_infos_time_col='t_min', \n",
    "        return_notin_also=False, \n",
    "        merge_time_info_to_cpx_bsln_df=False\n",
    "    )\n",
    "    merged_df_no_outg_prstn_test = get_cpx_baseline_df_subset_by_datetime(\n",
    "        cpx_bsln_df = merged_df_no_outg_prstn.copy(), \n",
    "        bsln_time_infos_df = no_outg_time_infos_prstn_df.copy(), \n",
    "        date_0 = date_0_test,\n",
    "        date_1 = date_1_test, \n",
    "        bsln_time_infos_time_col='t_min', \n",
    "        return_notin_also=False, \n",
    "        merge_time_info_to_cpx_bsln_df=False\n",
    "    )\n",
    "else:\n",
    "    merged_df_no_outg_prstn_train_test = get_cpx_baseline_df_subset_by_datetime(\n",
    "        cpx_bsln_df = merged_df_no_outg_prstn.copy(), \n",
    "        bsln_time_infos_df = no_outg_time_infos_prstn_df.copy(), \n",
    "        date_0 = date_0_train,\n",
    "        date_1 = date_1_test, \n",
    "        bsln_time_infos_time_col='t_min', \n",
    "        return_notin_also=False, \n",
    "        merge_time_info_to_cpx_bsln_df=False\n",
    "    )\n",
    "    merged_df_no_outg_prstn_train, merged_df_no_outg_prstn_test = train_test_split(\n",
    "        merged_df_no_outg_prstn_train_test, \n",
    "        test_size=0.33, \n",
    "        random_state=random_state\n",
    "    )\n",
    "#-------------------------   \n",
    "merged_df_no_outg_prstn_HOLDOUT = get_cpx_baseline_df_subset_by_datetime(\n",
    "    cpx_bsln_df = merged_df_no_outg_prstn.copy(), \n",
    "    bsln_time_infos_df = no_outg_time_infos_prstn_df.copy(), \n",
    "    date_0 = date_0_HOLDOUT,\n",
    "    date_1 = date_1_HOLDOUT, \n",
    "    bsln_time_infos_time_col='t_min', \n",
    "    return_notin_also=False, \n",
    "    merge_time_info_to_cpx_bsln_df=False\n",
    ")"
   ]
  },
  {
   "cell_type": "code",
   "execution_count": null,
   "id": "a6979b4d",
   "metadata": {},
   "outputs": [],
   "source": []
  },
  {
   "cell_type": "code",
   "execution_count": null,
   "id": "06259f11",
   "metadata": {},
   "outputs": [],
   "source": []
  },
  {
   "cell_type": "code",
   "execution_count": null,
   "id": "d9a8f57f",
   "metadata": {},
   "outputs": [],
   "source": [
    "addtnl_baseline_train = pd.concat([merged_df_no_outg_train, merged_df_no_outg_prstn_train])\n",
    "# addtnl_baseline_train = addtnl_baseline_train.sample(frac=0.10)\n",
    "\n",
    "addtnl_baseline_test = pd.concat([merged_df_no_outg_test, merged_df_no_outg_prstn_test])\n",
    "# addtnl_baseline_test = addtnl_baseline_test.sample(frac=0.10)\n",
    "\n",
    "addtnl_baseline_HOLDOUT = pd.concat([merged_df_no_outg_HOLDOUT, merged_df_no_outg_prstn_HOLDOUT])\n",
    "# addtnl_baseline_HOLDOUT = addtnl_baseline_HOLDOUT.sample(frac=0.10)"
   ]
  },
  {
   "cell_type": "code",
   "execution_count": null,
   "id": "5ff99aae",
   "metadata": {},
   "outputs": [],
   "source": []
  },
  {
   "cell_type": "code",
   "execution_count": null,
   "id": "95afbfda",
   "metadata": {},
   "outputs": [],
   "source": [
    "full_data_df_train   = pd.concat([merged_df_full_train, addtnl_baseline_train])\n",
    "full_data_df_test    = pd.concat([merged_df_full_test, addtnl_baseline_test])\n",
    "full_data_df_HOLDOUT = pd.concat([merged_df_full_HOLDOUT, addtnl_baseline_HOLDOUT])\n",
    "\n",
    "#Shuffle the data\n",
    "full_data_df_train   = full_data_df_train.sample(frac=1)\n",
    "full_data_df_test    = full_data_df_test.sample(frac=1)\n",
    "full_data_df_HOLDOUT = full_data_df_HOLDOUT.sample(frac=1)\n",
    "\n",
    "full_data_df = pd.concat([full_data_df_train, full_data_df_test, full_data_df_HOLDOUT])"
   ]
  },
  {
   "cell_type": "markdown",
   "id": "bf029347",
   "metadata": {},
   "source": [
    "# =========================================================\n",
    "# ========================================================="
   ]
  },
  {
   "cell_type": "code",
   "execution_count": null,
   "id": "0c2ca611",
   "metadata": {},
   "outputs": [],
   "source": [
    "#NOTE!!!!!!!!!!!!!\n",
    "# If using _v2, SHOULD NOT SCALE events_period column!!!!!!!!!!!!\n",
    "\n",
    "create_validation_set = False\n",
    "test_size = 0.33\n",
    "val_size = 0.10 #w.r.t to train size (i.e., w.r.t 1.0-test_size)\n",
    "\n",
    "run_scaler=True\n",
    "\n",
    "run_PCA = False\n",
    "pca_n_components=0.95\n",
    "\n",
    "# random_state = 42\n",
    "random_state = None"
   ]
  },
  {
   "cell_type": "code",
   "execution_count": null,
   "id": "88a9bc77",
   "metadata": {},
   "outputs": [],
   "source": []
  },
  {
   "cell_type": "code",
   "execution_count": null,
   "id": "d59d93df",
   "metadata": {},
   "outputs": [],
   "source": [
    "if merge_eemsp:\n",
    "    full_data_df_train   = full_data_df_train.drop(columns=[('key_0', '')])\n",
    "    full_data_df_test    = full_data_df_test.drop(columns=[('key_0', '')])\n",
    "    full_data_df_HOLDOUT = full_data_df_HOLDOUT.drop(columns=[('key_0', '')])\n",
    "    \n",
    "    le = preprocessing.LabelEncoder()\n",
    "    cols_to_encode = full_data_df['EEMSP'].columns\n",
    "    for col in cols_to_encode:\n",
    "        le.fit(full_data_df[('EEMSP', col)])\n",
    "        #-----\n",
    "        full_data_df_train[('EEMSP', col)]   = le.transform(full_data_df_train[('EEMSP', col)])\n",
    "        full_data_df_test[('EEMSP', col)]    = le.transform(full_data_df_test[('EEMSP', col)])\n",
    "        full_data_df_HOLDOUT[('EEMSP', col)] = le.transform(full_data_df_HOLDOUT[('EEMSP', col)])"
   ]
  },
  {
   "cell_type": "code",
   "execution_count": null,
   "id": "a4ae4643",
   "metadata": {},
   "outputs": [],
   "source": []
  },
  {
   "cell_type": "code",
   "execution_count": null,
   "id": "2688051f",
   "metadata": {},
   "outputs": [],
   "source": []
  },
  {
   "cell_type": "markdown",
   "id": "c83e219c",
   "metadata": {},
   "source": [
    "# Set target values"
   ]
  },
  {
   "cell_type": "code",
   "execution_count": null,
   "id": "38132d66",
   "metadata": {},
   "outputs": [],
   "source": [
    "fig_save_dir_base = r'C:\\Users\\s346557\\Documents\\AnalysisNote\\X_Results\\X_2_OutageMeterEvents\\Figures\\ConfusionMatrices'\n",
    "# fig_save_subdir = 'Target_eq_1_ALL_w_EEMSP'\n",
    "fig_save_subdir = 'Target_eq_1_ALL'\n",
    "# fig_save_subdir = 'trsf_nb_eq_LocID_w_EEMSP'\n",
    "fig_save_dir = os.path.join(fig_save_dir_base, fig_save_subdir)"
   ]
  },
  {
   "cell_type": "code",
   "execution_count": null,
   "id": "961effe9",
   "metadata": {},
   "outputs": [],
   "source": []
  },
  {
   "cell_type": "code",
   "execution_count": null,
   "id": "7ef54235",
   "metadata": {},
   "outputs": [],
   "source": [
    "merged_df_full_w_DOVS"
   ]
  },
  {
   "cell_type": "code",
   "execution_count": null,
   "id": "7e086247",
   "metadata": {},
   "outputs": [],
   "source": [
    "xfmr_equip_typ_nms_of_interest = ['TRANSFORMER, OH', 'TRANSFORMER, UG']\n",
    "#-----\n",
    "# slicer = DFSlicer(\n",
    "#     single_slicers = [\n",
    "#         dict(\n",
    "#             column=('outg_dummy_lvl_0', 'LOCATION_ID'), \n",
    "#             value=merged_df_full_w_DOVS.index.get_level_values(1), \n",
    "#             comparison_operator='=='\n",
    "#         ), \n",
    "#         dict(\n",
    "#             column=('outg_dummy_lvl_0', 'EQUIP_TYP_NM'), \n",
    "#             value=xfmr_equip_typ_nms_of_interest, \n",
    "#             comparison_operator='isin'\n",
    "#         )\n",
    "#     ]\n",
    "# )\n",
    "#-----\n",
    "# slicer = DFSlicer(\n",
    "#     single_slicers = [\n",
    "#         dict(\n",
    "#             column=('outg_dummy_lvl_0', 'LOCATION_ID'), \n",
    "#             value=merged_df_full_w_DOVS.index.get_level_values(1), \n",
    "#             comparison_operator='=='\n",
    "#         )\n",
    "#     ]\n",
    "# )\n",
    "#-----\n",
    "# slicer = DFSlicer(\n",
    "#     single_slicers = [\n",
    "#         dict(\n",
    "#             column=('outg_dummy_lvl_0', 'MNR_CAUSE_NM'), \n",
    "#             value='EQUIPMENT FAILURE', \n",
    "#             comparison_operator='=='\n",
    "#         )\n",
    "#     ]\n",
    "# )\n",
    "#-----\n",
    "slicer = DFSlicer()\n",
    "#-----\n",
    "# slicer = DFSlicer(\n",
    "#     single_slicers = [\n",
    "#         dict(\n",
    "#             column=('outg_dummy_lvl_0', 'EQUIP_TYP_NM'), \n",
    "#             value='CONDUCTOR OVERHEAD', \n",
    "#             comparison_operator='=='\n",
    "#         )\n",
    "#     ]\n",
    "# )"
   ]
  },
  {
   "cell_type": "code",
   "execution_count": null,
   "id": "c468a505",
   "metadata": {},
   "outputs": [],
   "source": []
  },
  {
   "cell_type": "code",
   "execution_count": null,
   "id": "1349566f",
   "metadata": {},
   "outputs": [],
   "source": [
    "merged_df_full_w_DOVS_i = slicer.set_simple_column_value(df=merged_df_full_w_DOVS.copy(), column=('is_outg', 'is_outg'), value=1)\n",
    "full_outg_idxs_i = merged_df_full_w_DOVS_i[merged_df_full_w_DOVS_i[('is_outg', 'is_outg')]==1].index\n",
    "\n",
    "#NOTE: To achieve exclusion equal to that in set_target_val_1_by_idx, one could use:\n",
    "#        full_outg_idxs_exclude_i = merged_df_full_w_DOVS_i[merged_df_full_w_DOVS_i[('is_outg', 'is_outg')]==0].index\n",
    "#      then use .drop(index=list(set(full_data_df_i.index).intersection(set(full_outg_idxs_exclude_i))))\n",
    "#      However, as noted in the function, the methods in set_target_val_1_by_idx are probably safer/more robust"
   ]
  },
  {
   "cell_type": "code",
   "execution_count": null,
   "id": "926a8286",
   "metadata": {},
   "outputs": [],
   "source": []
  },
  {
   "cell_type": "code",
   "execution_count": null,
   "id": "9741d14d",
   "metadata": {},
   "outputs": [],
   "source": [
    "remove_others_from_outages=True\n",
    "#-------------------------\n",
    "full_data_df_i         = full_data_df.copy()\n",
    "full_data_df_train_i   = full_data_df_train.copy()\n",
    "full_data_df_test_i    = full_data_df_test.copy()\n",
    "full_data_df_HOLDOUT_i = full_data_df_HOLDOUT.copy()\n",
    "#-------------------------\n",
    "full_data_df_i = set_target_val_1_by_idx(\n",
    "    df=full_data_df_i,\n",
    "    val_1_idxs=full_outg_idxs_i,\n",
    "    remove_others_from_outages=remove_others_from_outages, \n",
    "    target_col=('is_outg', 'is_outg'), \n",
    "    from_outg_col=('from_outg', 'from_outg')\n",
    ")\n",
    "#-----\n",
    "full_data_df_train_i = set_target_val_1_by_idx(\n",
    "    df=full_data_df_train_i,\n",
    "    val_1_idxs=full_outg_idxs_i,\n",
    "    remove_others_from_outages=remove_others_from_outages, \n",
    "    target_col=('is_outg', 'is_outg'), \n",
    "    from_outg_col=('from_outg', 'from_outg')\n",
    ")\n",
    "#-----\n",
    "full_data_df_test_i = set_target_val_1_by_idx(\n",
    "    df=full_data_df_test_i,\n",
    "    val_1_idxs=full_outg_idxs_i,\n",
    "    remove_others_from_outages=remove_others_from_outages, \n",
    "    target_col=('is_outg', 'is_outg'), \n",
    "    from_outg_col=('from_outg', 'from_outg')\n",
    ")\n",
    "#-----\n",
    "full_data_df_HOLDOUT_i = set_target_val_1_by_idx(\n",
    "    df=full_data_df_HOLDOUT_i,\n",
    "    val_1_idxs=full_outg_idxs_i,\n",
    "    remove_others_from_outages=remove_others_from_outages, \n",
    "    target_col=('is_outg', 'is_outg'), \n",
    "    from_outg_col=('from_outg', 'from_outg')\n",
    ")"
   ]
  },
  {
   "cell_type": "code",
   "execution_count": null,
   "id": "6bea0e14",
   "metadata": {},
   "outputs": [],
   "source": []
  },
  {
   "cell_type": "code",
   "execution_count": null,
   "id": "e632f9e4",
   "metadata": {},
   "outputs": [],
   "source": [
    "#--------------------------------------------------\n",
    "n_outg_target_1_train = full_data_df_train_i[('is_outg', 'is_outg')].sum()\n",
    "n_outg_target_0_train = full_data_df_train_i[\n",
    "    (full_data_df_train_i[('from_outg', 'from_outg')]==1) & \n",
    "    (full_data_df_train_i[('is_outg', 'is_outg')]==0)\n",
    "].shape[0]\n",
    "n_bsln_train = full_data_df_train_i[full_data_df_train_i[('from_outg', 'from_outg')]==0].shape[0]\n",
    "assert(full_data_df_train_i.shape[0]==n_outg_target_1_train+n_outg_target_0_train+n_bsln_train)\n",
    "pct_target_1_train = 100*n_outg_target_1_train/(n_outg_target_1_train+n_outg_target_0_train+n_bsln_train)\n",
    "#-----\n",
    "print('\\n----- TRAIN -----')\n",
    "print(f\"# direct outages (target = 1):      {n_outg_target_1_train}\")\n",
    "print(f\"# indirect outages (target = 0):    {n_outg_target_0_train}\")\n",
    "print(f\"\\t% direct = {100*n_outg_target_1_train/(n_outg_target_1_train+n_outg_target_0_train)}\")\n",
    "print(f\"# additional baseline (target = 0): {n_bsln_train}\")\n",
    "print(f\"%(target==1):                       {pct_target_1_train}%\")\n",
    "\n",
    "#--------------------------------------------------\n",
    "n_outg_target_1_test = full_data_df_test_i[('is_outg', 'is_outg')].sum()\n",
    "n_outg_target_0_test = full_data_df_test_i[\n",
    "    (full_data_df_test_i[('from_outg', 'from_outg')]==1) & \n",
    "    (full_data_df_test_i[('is_outg', 'is_outg')]==0)\n",
    "].shape[0]\n",
    "n_bsln_test = full_data_df_test_i[full_data_df_test_i[('from_outg', 'from_outg')]==0].shape[0]\n",
    "assert(full_data_df_test_i.shape[0]==n_outg_target_1_test+n_outg_target_0_test+n_bsln_test)\n",
    "pct_target_1_test = 100*n_outg_target_1_test/(n_outg_target_1_test+n_outg_target_0_test+n_bsln_test)\n",
    "#-----\n",
    "print('\\n----- TEST -----')\n",
    "print(f\"# direct outages (target = 1):      {n_outg_target_1_test}\")\n",
    "print(f\"# indirect outages (target = 0):    {n_outg_target_0_test}\")\n",
    "print(f\"\\t% direct = {100*n_outg_target_1_test/(n_outg_target_1_test+n_outg_target_0_test)}\")\n",
    "print(f\"# additional baseline (target = 0): {n_bsln_test}\")\n",
    "print(f\"%(target==1):                       {pct_target_1_test}%\")\n",
    "\n",
    "#--------------------------------------------------\n",
    "n_outg_target_1_HOLDOUT = full_data_df_HOLDOUT_i[('is_outg', 'is_outg')].sum()\n",
    "n_outg_target_0_HOLDOUT = full_data_df_HOLDOUT_i[\n",
    "    (full_data_df_HOLDOUT_i[('from_outg', 'from_outg')]==1) & \n",
    "    (full_data_df_HOLDOUT_i[('is_outg', 'is_outg')]==0)\n",
    "].shape[0]\n",
    "n_bsln_HOLDOUT = full_data_df_HOLDOUT_i[full_data_df_HOLDOUT_i[('from_outg', 'from_outg')]==0].shape[0]\n",
    "assert(full_data_df_HOLDOUT_i.shape[0]==n_outg_target_1_HOLDOUT+n_outg_target_0_HOLDOUT+n_bsln_HOLDOUT)\n",
    "pct_target_1_HOLDOUT = 100*n_outg_target_1_HOLDOUT/(n_outg_target_1_HOLDOUT+n_outg_target_0_HOLDOUT+n_bsln_HOLDOUT)\n",
    "#-----\n",
    "print('\\n----- HOLDOUT -----')\n",
    "print(f\"# direct outages (target = 1):      {n_outg_target_1_HOLDOUT}\")\n",
    "print(f\"# indirect outages (target = 0):    {n_outg_target_0_HOLDOUT}\")\n",
    "print(f\"\\t% direct = {100*n_outg_target_1_HOLDOUT/(n_outg_target_1_HOLDOUT+n_outg_target_0_HOLDOUT)}\")\n",
    "print(f\"# additional baseline (target = 0): {n_bsln_HOLDOUT}\")\n",
    "print(f\"%(target==1):                       {pct_target_1_HOLDOUT}%\")"
   ]
  },
  {
   "cell_type": "code",
   "execution_count": null,
   "id": "b6258def",
   "metadata": {},
   "outputs": [],
   "source": [
    "if (\n",
    "    full_data_df_train_i[('is_outg', 'is_outg')].sum()==0 or \n",
    "    full_data_df_test_i[('is_outg', 'is_outg')].sum()==0 or \n",
    "    full_data_df_HOLDOUT_i[('is_outg', 'is_outg')].sum()==0\n",
    "):\n",
    "    print('Not enough target value==1 in train, test, and/or holdout')\n",
    "    print(f\"#target==1 train:   {full_data_df_train_i[('is_outg', 'is_outg')].sum()}\")\n",
    "    print(f\"#target==1 test:    {full_data_df_test_i[('is_outg', 'is_outg')].sum()}\")\n",
    "    print(f\"#target==1 holdout: {full_data_df_HOLDOUT_i[('is_outg', 'is_outg')].sum()}\")"
   ]
  },
  {
   "cell_type": "code",
   "execution_count": null,
   "id": "c343d86a",
   "metadata": {},
   "outputs": [],
   "source": [
    "min_pct_target_1 = 25\n",
    "if min_pct_target_1 is not None:\n",
    "    full_data_df_train_i = ensure_target_val_1_min_pct(\n",
    "        df=full_data_df_train_i,\n",
    "        min_pct=min_pct_target_1,\n",
    "        target_col=('is_outg', 'is_outg'), \n",
    "        random_state=None\n",
    "    )\n",
    "    #-----\n",
    "    full_data_df_test_i = ensure_target_val_1_min_pct(\n",
    "        df=full_data_df_test_i,\n",
    "        min_pct=min_pct_target_1,\n",
    "        target_col=('is_outg', 'is_outg'), \n",
    "        random_state=None\n",
    "    )\n",
    "    #-----\n",
    "    full_data_df_HOLDOUT_i = ensure_target_val_1_min_pct(\n",
    "        df=full_data_df_HOLDOUT_i,\n",
    "        min_pct=min_pct_target_1,\n",
    "        target_col=('is_outg', 'is_outg'), \n",
    "        random_state=None\n",
    "    )\n",
    "    #-----"
   ]
  },
  {
   "cell_type": "code",
   "execution_count": null,
   "id": "b0a57eb7",
   "metadata": {},
   "outputs": [],
   "source": [
    "#--------------------------------------------------\n",
    "n_outg_target_1_train = full_data_df_train_i[('is_outg', 'is_outg')].sum()\n",
    "n_outg_target_0_train = full_data_df_train_i[\n",
    "    (full_data_df_train_i[('from_outg', 'from_outg')]==1) & \n",
    "    (full_data_df_train_i[('is_outg', 'is_outg')]==0)\n",
    "].shape[0]\n",
    "n_bsln_train = full_data_df_train_i[full_data_df_train_i[('from_outg', 'from_outg')]==0].shape[0]\n",
    "assert(full_data_df_train_i.shape[0]==n_outg_target_1_train+n_outg_target_0_train+n_bsln_train)\n",
    "pct_target_1_train = 100*n_outg_target_1_train/(n_outg_target_1_train+n_outg_target_0_train+n_bsln_train)\n",
    "#-----\n",
    "print('\\n----- TRAIN -----')\n",
    "print(f\"# direct outages (target = 1):      {n_outg_target_1_train}\")\n",
    "print(f\"# indirect outages (target = 0):    {n_outg_target_0_train}\")\n",
    "print(f\"\\t% direct = {100*n_outg_target_1_train/(n_outg_target_1_train+n_outg_target_0_train)}\")\n",
    "print(f\"# additional baseline (target = 0): {n_bsln_train}\")\n",
    "print(f\"%(target==1):                       {pct_target_1_train}%\")\n",
    "\n",
    "#--------------------------------------------------\n",
    "n_outg_target_1_test = full_data_df_test_i[('is_outg', 'is_outg')].sum()\n",
    "n_outg_target_0_test = full_data_df_test_i[\n",
    "    (full_data_df_test_i[('from_outg', 'from_outg')]==1) & \n",
    "    (full_data_df_test_i[('is_outg', 'is_outg')]==0)\n",
    "].shape[0]\n",
    "n_bsln_test = full_data_df_test_i[full_data_df_test_i[('from_outg', 'from_outg')]==0].shape[0]\n",
    "assert(full_data_df_test_i.shape[0]==n_outg_target_1_test+n_outg_target_0_test+n_bsln_test)\n",
    "pct_target_1_test = 100*n_outg_target_1_test/(n_outg_target_1_test+n_outg_target_0_test+n_bsln_test)\n",
    "#-----\n",
    "print('\\n----- TEST -----')\n",
    "print(f\"# direct outages (target = 1):      {n_outg_target_1_test}\")\n",
    "print(f\"# indirect outages (target = 0):    {n_outg_target_0_test}\")\n",
    "print(f\"\\t% direct = {100*n_outg_target_1_test/(n_outg_target_1_test+n_outg_target_0_test)}\")\n",
    "print(f\"# additional baseline (target = 0): {n_bsln_test}\")\n",
    "print(f\"%(target==1):                       {pct_target_1_test}%\")\n",
    "\n",
    "#--------------------------------------------------\n",
    "n_outg_target_1_HOLDOUT = full_data_df_HOLDOUT_i[('is_outg', 'is_outg')].sum()\n",
    "n_outg_target_0_HOLDOUT = full_data_df_HOLDOUT_i[\n",
    "    (full_data_df_HOLDOUT_i[('from_outg', 'from_outg')]==1) & \n",
    "    (full_data_df_HOLDOUT_i[('is_outg', 'is_outg')]==0)\n",
    "].shape[0]\n",
    "n_bsln_HOLDOUT = full_data_df_HOLDOUT_i[full_data_df_HOLDOUT_i[('from_outg', 'from_outg')]==0].shape[0]\n",
    "assert(full_data_df_HOLDOUT_i.shape[0]==n_outg_target_1_HOLDOUT+n_outg_target_0_HOLDOUT+n_bsln_HOLDOUT)\n",
    "pct_target_1_HOLDOUT = 100*n_outg_target_1_HOLDOUT/(n_outg_target_1_HOLDOUT+n_outg_target_0_HOLDOUT+n_bsln_HOLDOUT)\n",
    "#-----\n",
    "print('\\n----- HOLDOUT -----')\n",
    "print(f\"# direct outages (target = 1):      {n_outg_target_1_HOLDOUT}\")\n",
    "print(f\"# indirect outages (target = 0):    {n_outg_target_0_HOLDOUT}\")\n",
    "print(f\"\\t% direct = {100*n_outg_target_1_HOLDOUT/(n_outg_target_1_HOLDOUT+n_outg_target_0_HOLDOUT)}\")\n",
    "print(f\"# additional baseline (target = 0): {n_bsln_HOLDOUT}\")\n",
    "print(f\"%(target==1):                       {pct_target_1_HOLDOUT}%\")"
   ]
  },
  {
   "cell_type": "code",
   "execution_count": null,
   "id": "5354137c",
   "metadata": {},
   "outputs": [],
   "source": [
    "if ('from_outg', 'from_outg') in full_data_df_train_i.columns.tolist():\n",
    "    full_data_df_train_i = full_data_df_train_i.drop(columns=[('from_outg', 'from_outg')])\n",
    "if ('from_outg', 'from_outg') in full_data_df_test_i.columns.tolist():\n",
    "    full_data_df_test_i = full_data_df_test_i.drop(columns=[('from_outg', 'from_outg')])\n",
    "if ('from_outg', 'from_outg') in full_data_df_HOLDOUT_i.columns.tolist():\n",
    "    full_data_df_HOLDOUT_i = full_data_df_HOLDOUT_i.drop(columns=[('from_outg', 'from_outg')])"
   ]
  },
  {
   "cell_type": "code",
   "execution_count": null,
   "id": "c7d98635",
   "metadata": {},
   "outputs": [],
   "source": []
  },
  {
   "cell_type": "code",
   "execution_count": null,
   "id": "bd269a07",
   "metadata": {},
   "outputs": [],
   "source": [
    "reduce_train_size = False\n",
    "if reduce_train_size:\n",
    "    full_data_df_train_i, _ = train_test_split(\n",
    "        full_data_df_train_i, \n",
    "        test_size=0.95, \n",
    "        random_state=random_state\n",
    "    )"
   ]
  },
  {
   "cell_type": "markdown",
   "id": "f2fba3de",
   "metadata": {},
   "source": [
    "# Prepare Data"
   ]
  },
  {
   "cell_type": "code",
   "execution_count": null,
   "id": "1b27930d",
   "metadata": {},
   "outputs": [],
   "source": [
    "#-------------------------\n",
    "X_train_OG = full_data_df_train_i.iloc[:, :-1].copy()\n",
    "y_train    = full_data_df_train_i.iloc[:, -1].copy()\n",
    "\n",
    "X_test_OG = full_data_df_test_i.iloc[:, :-1].copy()\n",
    "y_test    = full_data_df_test_i.iloc[:, -1].copy()\n",
    "\n",
    "X_HOLDOUT = full_data_df_HOLDOUT_i.iloc[:, :-1]\n",
    "y_HOLDOUT = full_data_df_HOLDOUT_i.iloc[:, -1]"
   ]
  },
  {
   "cell_type": "code",
   "execution_count": null,
   "id": "855c6b9c",
   "metadata": {},
   "outputs": [],
   "source": [
    "fig, axs = Plot_General.default_subplots(2,2, return_flattened_axes=True)\n",
    "#-------------------------\n",
    "sns.countplot(ax=axs[0], x = ('is_outg', 'is_outg'), data=full_data_df_i)\n",
    "axs[0].set_title('Full Data');\n",
    "axs[0].set_xlabel('Is Outage');\n",
    "axs[0].set_ylim([1.05*x for x in axs[0].get_ylim()])\n",
    "for p in axs[0].patches:\n",
    "    pct = (p.get_height()/full_data_df_i.shape[0]).round(5)\n",
    "    txt = f'{pct}%'\n",
    "    txt_x = p.get_x() \n",
    "    txt_y = 1.025*p.get_height()\n",
    "    axs[0].text(txt_x,txt_y,txt)\n",
    "#-------------------------\n",
    "sns.countplot(ax=axs[1], x = ('is_outg', 'is_outg'), data=y_train.to_frame())\n",
    "axs[1].set_title('Training Data');\n",
    "axs[1].set_xlabel('Is Outage');\n",
    "axs[1].set_ylim([1.05*x for x in axs[1].get_ylim()])\n",
    "for p in axs[1].patches:\n",
    "    pct = (p.get_height()/y_train.shape[0]).round(5)\n",
    "    txt = f'{pct}%'\n",
    "    txt_x = p.get_x() \n",
    "    txt_y = 1.025*p.get_height()\n",
    "    axs[1].text(txt_x,txt_y,txt)\n",
    "#-------------------------\n",
    "sns.countplot(ax=axs[2], x = ('is_outg', 'is_outg'), data=y_test.to_frame())\n",
    "axs[2].set_title('Testing Data');\n",
    "axs[2].set_xlabel('Is Outage');\n",
    "axs[2].set_ylim([1.05*x for x in axs[2].get_ylim()])\n",
    "for p in axs[2].patches:\n",
    "    pct = (p.get_height()/y_test.shape[0]).round(5)\n",
    "    txt = f'{pct}%'\n",
    "    txt_x = p.get_x() \n",
    "    txt_y = 1.025*p.get_height()\n",
    "    axs[2].text(txt_x,txt_y,txt)\n",
    "#-------------------------\n",
    "sns.countplot(ax=axs[3], x = ('is_outg', 'is_outg'), data=y_HOLDOUT.to_frame())\n",
    "axs[3].set_title('Holdout Data');\n",
    "axs[3].set_xlabel('Is Outage');\n",
    "axs[3].set_ylim([1.05*x for x in axs[3].get_ylim()])\n",
    "for p in axs[3].patches:\n",
    "    pct = (p.get_height()/y_HOLDOUT.shape[0]).round(5)\n",
    "    txt = f'{pct}%'\n",
    "    txt_x = p.get_x() \n",
    "    txt_y = 1.025*p.get_height()\n",
    "    axs[3].text(txt_x,txt_y,txt)"
   ]
  },
  {
   "cell_type": "code",
   "execution_count": null,
   "id": "45927394",
   "metadata": {
    "scrolled": true
   },
   "outputs": [],
   "source": [
    "create_validation_set"
   ]
  },
  {
   "cell_type": "code",
   "execution_count": null,
   "id": "4434060c",
   "metadata": {},
   "outputs": [],
   "source": [
    "#-------------------------\n",
    "if create_validation_set:\n",
    "    X_train_OG, X_val_OG, y_train, y_val = train_test_split(X_train_OG, y_train, test_size=val_size, random_state=random_state)\n",
    "#-------------------------\n",
    "if run_scaler:\n",
    "    scaler = StandardScaler()\n",
    "    X_train = scaler.fit_transform(X_train_OG)\n",
    "    #-----\n",
    "    if create_validation_set:\n",
    "        X_val   = scaler.transform(X_val_OG)\n",
    "    X_test  = scaler.transform(X_test_OG)\n",
    "    X_HOLDOUT   = scaler.transform(X_HOLDOUT)\n",
    "else:\n",
    "    X_train = X_train_OG\n",
    "    if create_validation_set:\n",
    "        X_val   = X_val_OG\n",
    "    X_test  = X_test_OG"
   ]
  },
  {
   "cell_type": "code",
   "execution_count": null,
   "id": "312d8f2f",
   "metadata": {},
   "outputs": [],
   "source": [
    "if run_PCA:\n",
    "    # First, generate a PCA plot, showing the explained variance on the y-axis and number of components on x\n",
    "    # This is simply to check that the number of components kept looks correct\n",
    "    pca = PCA()\n",
    "    pca.fit(X_train)\n",
    "    cumsum = np.cumsum(pca.explained_variance_ratio_)\n",
    "    plt.plot(cumsum)\n",
    "    \n",
    "    # Now, run the PCA with pca_n_components and perform transforms\n",
    "    pca=PCA(n_components=pca_n_components)\n",
    "    X_train = pca.fit_transform(X_train)\n",
    "    print(f'PCA n-components       = {pca.n_components_}')\n",
    "    print(f'PCA explained variance = {pca.explained_variance_ratio_.sum()}')\n",
    "    #-----\n",
    "    if create_validation_set:\n",
    "        X_val      = pca.transform(X_val)\n",
    "    X_test     = pca.transform(X_test)\n",
    "    X_HOLDOUT  = pca.transform(X_HOLDOUT)"
   ]
  },
  {
   "cell_type": "code",
   "execution_count": null,
   "id": "e7773388",
   "metadata": {},
   "outputs": [],
   "source": []
  },
  {
   "cell_type": "markdown",
   "id": "806e071f",
   "metadata": {},
   "source": [
    "# Dumb Classifier"
   ]
  },
  {
   "cell_type": "code",
   "execution_count": null,
   "id": "0b2dc107",
   "metadata": {},
   "outputs": [],
   "source": [
    "dumb_clf = DumbClassifier()\n",
    "cross_val_score(dumb_clf, X_train, y_train, cv=3, scoring='accuracy')"
   ]
  },
  {
   "cell_type": "code",
   "execution_count": null,
   "id": "cdd2d1e6",
   "metadata": {},
   "outputs": [],
   "source": [
    "# y_pred = dumb_clf.predict(X_test)\n",
    "# print(\"ACCURACY  OF THE MODEL: \", accuracy_score(y_test, y_pred))\n",
    "# print(\"PRECISION OF THE MODEL: \", precision_score(y_test, y_pred))\n",
    "# print(\"RECALL    OF THE MODEL: \", recall_score(y_test, y_pred))"
   ]
  },
  {
   "cell_type": "code",
   "execution_count": null,
   "id": "ae9092fe",
   "metadata": {},
   "outputs": [],
   "source": [
    "# confusion_matrix(y_test, y_pred)"
   ]
  },
  {
   "cell_type": "code",
   "execution_count": null,
   "id": "a455a1e8",
   "metadata": {},
   "outputs": [],
   "source": []
  },
  {
   "cell_type": "markdown",
   "id": "0202b280",
   "metadata": {},
   "source": [
    "# Random Forest"
   ]
  },
  {
   "cell_type": "code",
   "execution_count": null,
   "id": "40851f4f",
   "metadata": {},
   "outputs": [],
   "source": [
    "# forest_clf = RandomForestClassifier(n_estimators = 100)\n",
    "# forest_clf = RandomForestClassifier(n_estimators = 1000, n_jobs=-1)\n",
    "# forest_clf = RandomForestClassifier(n_estimators = 1000, criterion='entropy', n_jobs=-1)\n",
    "\n",
    "# forest_clf = RandomForestClassifier(n_estimators = 1000, n_jobs=-1)\n",
    "# forest_clf = RandomForestClassifier(n_estimators = 1000, max_depth=25, n_jobs=-1)\n",
    "# forest_clf = RandomForestClassifier(n_estimators = 1000, max_depth=25, n_jobs=None)\n",
    "forest_clf = RandomForestClassifier(n_estimators = 1000, max_depth=None, n_jobs=None)"
   ]
  },
  {
   "cell_type": "code",
   "execution_count": null,
   "id": "d2d8d5d2",
   "metadata": {},
   "outputs": [],
   "source": [
    "start = time.time()\n",
    "forest_clf.fit(X_train, y_train)\n",
    "print(time.time()-start)"
   ]
  },
  {
   "cell_type": "code",
   "execution_count": null,
   "id": "f909ee40",
   "metadata": {},
   "outputs": [],
   "source": [
    "y_pred_train = forest_clf.predict(X_train)\n",
    "print('*****'*5)\n",
    "print('TRAINING DATASET')\n",
    "print('*****'*5)\n",
    "print(f\"#(target==1): {y_train.sum()}\")\n",
    "print(f\"#(target==0): {y_train.shape[0]-y_train.sum()}\")\n",
    "print(f\"%(target==1): {100*(y_train.sum()/(y_train.shape[0]))}\")\n",
    "print('-----'*5)\n",
    "print(\"ACCURACY  OF THE MODEL: \", accuracy_score(y_train, y_pred_train))\n",
    "print(\"PRECISION OF THE MODEL: \", precision_score(y_train, y_pred_train))\n",
    "print(\"RECALL    OF THE MODEL: \", recall_score(y_train, y_pred_train))\n",
    "print()\n",
    "\n",
    "y_pred = forest_clf.predict(X_test)\n",
    "print('*****'*5)\n",
    "print('TESTING DATASET')\n",
    "print('*****'*5)\n",
    "print(f\"#(target==1): {y_test.sum()}\")\n",
    "print(f\"#(target==0): {y_test.shape[0]-y_test.sum()}\")\n",
    "print(f\"%(target==1): {100*(y_test.sum()/(y_test.shape[0]))}\")\n",
    "print('-----'*5)\n",
    "print(\"ACCURACY  OF THE MODEL: \", accuracy_score(y_test, y_pred))\n",
    "print(\"PRECISION OF THE MODEL: \", precision_score(y_test, y_pred))\n",
    "print(\"RECALL    OF THE MODEL: \", recall_score(y_test, y_pred))\n",
    "print()\n",
    "\n",
    "y_pred_HOLDOUT = forest_clf.predict(X_HOLDOUT)\n",
    "print('*****'*5)\n",
    "print('HOLDOOUT DATASET')\n",
    "print('*****'*5)\n",
    "print(f\"#(target==1): {y_HOLDOUT.sum()}\")\n",
    "print(f\"#(target==0): {y_HOLDOUT.shape[0]-y_HOLDOUT.sum()}\")\n",
    "print(f\"%(target==1): {100*(y_HOLDOUT.sum()/(y_HOLDOUT.shape[0]))}\")\n",
    "print('-----'*5)\n",
    "print(\"ACCURACY  OF THE MODEL: \", accuracy_score(y_HOLDOUT, y_pred_HOLDOUT))\n",
    "print(\"PRECISION OF THE MODEL: \", precision_score(y_HOLDOUT, y_pred_HOLDOUT))\n",
    "print(\"RECALL    OF THE MODEL: \", recall_score(y_HOLDOUT, y_pred_HOLDOUT))"
   ]
  },
  {
   "cell_type": "code",
   "execution_count": null,
   "id": "05fafbc1",
   "metadata": {},
   "outputs": [],
   "source": [
    "save_figs = False"
   ]
  },
  {
   "cell_type": "code",
   "execution_count": null,
   "id": "5e8219a1",
   "metadata": {},
   "outputs": [],
   "source": [
    "cmd = ConfusionMatrixDisplay(\n",
    "    confusion_matrix(y_train, y_pred_train, normalize=None), \n",
    "    display_labels=['No Outg.','Outage']\n",
    ")\n",
    "cmd.plot(values_format='.3e')\n",
    "# cmd.plot(values_format='')\n",
    "# cmd.ax_.set(xlabel='Predicted', ylabel='True')\n",
    "cmd.ax_.set_xlabel('Predicted', fontsize=16)\n",
    "cmd.ax_.set_ylabel('True', fontsize=16)\n",
    "cmd.ax_.set_title('Train', fontsize=20, fontweight='semibold')\n",
    "# cmd.figure_.set_size_inches(12, 10)\n",
    "\n",
    "cmd.figure_.text(1.0, 0.9, \"# Entries:    {:.4e}\".format(y_train.shape[0]), fontsize=14)\n",
    "cmd.figure_.text(1.0, 0.8, \"# Outages:  {:.4e}\".format(y_train.sum()), fontsize=14)\n",
    "cmd.figure_.text(1.0, 0.7, \"# Baseline:  {:.4e}\".format(y_train.shape[0]-y_train.sum()), fontsize=14)\n",
    "cmd.figure_.text(1.0, 0.6, \"% Outages:  {:.4f}\".format(100*y_train.sum()/y_train.shape[0]), fontsize=14)\n",
    "\n",
    "\n",
    "cmd.figure_.text(1.0, 0.4, \"ACCURACY:  {:.4f}\".format(accuracy_score(y_train, y_pred_train)), fontsize=14)\n",
    "cmd.figure_.text(1.0, 0.3, \"PRECISION:  {:.4f}\".format(precision_score(y_train, y_pred_train)), fontsize=14)\n",
    "cmd.figure_.text(1.0, 0.2, \"RECALL:       {:.4f}\".format(recall_score(y_train, y_pred_train)), fontsize=14)\n",
    "\n",
    "if save_figs:\n",
    "    if not os.path.exists(fig_save_dir):\n",
    "        os.makedirs(fig_save_dir)\n",
    "    Plot_General.save_fig(\n",
    "        fig=cmd.figure_, \n",
    "        save_dir=fig_save_dir, \n",
    "        save_name='ConfusionMatrix_Train.png', \n",
    "        bbox_inches='tight'\n",
    "    )"
   ]
  },
  {
   "cell_type": "code",
   "execution_count": null,
   "id": "afc7da88",
   "metadata": {},
   "outputs": [],
   "source": []
  },
  {
   "cell_type": "code",
   "execution_count": null,
   "id": "fb6d26d4",
   "metadata": {},
   "outputs": [],
   "source": [
    "cmd = ConfusionMatrixDisplay(\n",
    "    confusion_matrix(y_test, y_pred, normalize=None), \n",
    "    display_labels=['No Outg.','Outage']\n",
    ")\n",
    "cmd.plot(values_format='.3e')\n",
    "# cmd.plot(values_format='')\n",
    "# cmd.ax_.set(xlabel='Predicted', ylabel='True')\n",
    "cmd.ax_.set_xlabel('Predicted', fontsize=16)\n",
    "cmd.ax_.set_ylabel('True', fontsize=16)\n",
    "cmd.ax_.set_title('Test', fontsize=20, fontweight='semibold')\n",
    "# cmd.figure_.set_size_inches(12, 10)\n",
    "\n",
    "cmd.figure_.text(1.0, 0.9, \"# Entries:    {:.4e}\".format(y_test.shape[0]), fontsize=14)\n",
    "cmd.figure_.text(1.0, 0.8, \"# Outages:  {:.4e}\".format(y_test.sum()), fontsize=14)\n",
    "cmd.figure_.text(1.0, 0.7, \"# Baseline:  {:.4e}\".format(y_test.shape[0]-y_test.sum()), fontsize=14)\n",
    "cmd.figure_.text(1.0, 0.6, \"% Outages:  {:.4f}\".format(100*y_test.sum()/y_test.shape[0]), fontsize=14)\n",
    "\n",
    "cmd.figure_.text(1.0, 0.4, \"ACCURACY:  {:.4f}\".format(accuracy_score(y_test, y_pred)), fontsize=14)\n",
    "cmd.figure_.text(1.0, 0.3, \"PRECISION:  {:.4f}\".format(precision_score(y_test, y_pred)), fontsize=14)\n",
    "cmd.figure_.text(1.0, 0.2, \"RECALL:       {:.4f}\".format(recall_score(y_test, y_pred)), fontsize=14)\n",
    "\n",
    "if save_figs:\n",
    "    if not os.path.exists(fig_save_dir):\n",
    "        os.makedirs(fig_save_dir)\n",
    "    Plot_General.save_fig(\n",
    "        fig=cmd.figure_, \n",
    "        save_dir=fig_save_dir, \n",
    "        save_name='ConfusionMatrix_Test.png', \n",
    "        bbox_inches='tight'\n",
    "    )"
   ]
  },
  {
   "cell_type": "code",
   "execution_count": null,
   "id": "3c08fd18",
   "metadata": {},
   "outputs": [],
   "source": []
  },
  {
   "cell_type": "code",
   "execution_count": null,
   "id": "ba6665f9",
   "metadata": {
    "scrolled": true
   },
   "outputs": [],
   "source": [
    "cmd = ConfusionMatrixDisplay(\n",
    "    confusion_matrix(y_HOLDOUT, y_pred_HOLDOUT, normalize=None), \n",
    "    display_labels=['No Outg.','Outage']\n",
    ")\n",
    "cmd.plot(values_format='.3e')\n",
    "# cmd.plot(values_format='')\n",
    "# cmd.ax_.set(xlabel='Predicted', ylabel='True')\n",
    "cmd.ax_.set_xlabel('Predicted', fontsize=16)\n",
    "cmd.ax_.set_ylabel('True', fontsize=16)\n",
    "cmd.ax_.set_title('Holdout', fontsize=20, fontweight='semibold')\n",
    "# cmd.figure_.set_size_inches(12, 10)\n",
    "\n",
    "cmd.figure_.text(1.0, 0.9, \"# Entries:    {:.4e}\".format(y_HOLDOUT.shape[0]), fontsize=14)\n",
    "cmd.figure_.text(1.0, 0.8, \"# Outages:  {:.4e}\".format(y_HOLDOUT.sum()), fontsize=14)\n",
    "cmd.figure_.text(1.0, 0.7, \"# Baseline:  {:.4e}\".format(y_HOLDOUT.shape[0]-y_HOLDOUT.sum()), fontsize=14)\n",
    "cmd.figure_.text(1.0, 0.6, \"% Outages:  {:.4f}\".format(100*y_HOLDOUT.sum()/y_HOLDOUT.shape[0]), fontsize=14)\n",
    "\n",
    "cmd.figure_.text(1.0, 0.4, \"ACCURACY:  {:.4f}\".format(accuracy_score(y_HOLDOUT, y_pred_HOLDOUT)), fontsize=14)\n",
    "cmd.figure_.text(1.0, 0.3, \"PRECISION:  {:.4f}\".format(precision_score(y_HOLDOUT, y_pred_HOLDOUT)), fontsize=14)\n",
    "cmd.figure_.text(1.0, 0.2, \"RECALL:       {:.4f}\".format(recall_score(y_HOLDOUT, y_pred_HOLDOUT)), fontsize=14)\n",
    "\n",
    "if save_figs:\n",
    "    if not os.path.exists(fig_save_dir):\n",
    "        os.makedirs(fig_save_dir)\n",
    "    Plot_General.save_fig(\n",
    "        fig=cmd.figure_, \n",
    "        save_dir=fig_save_dir, \n",
    "        save_name='ConfusionMatrix_Holdout.png', \n",
    "        bbox_inches='tight'\n",
    "    )"
   ]
  },
  {
   "cell_type": "code",
   "execution_count": null,
   "id": "188c225c",
   "metadata": {},
   "outputs": [],
   "source": []
  },
  {
   "cell_type": "code",
   "execution_count": null,
   "id": "10fd9db9",
   "metadata": {},
   "outputs": [],
   "source": []
  },
  {
   "cell_type": "code",
   "execution_count": null,
   "id": "29755903",
   "metadata": {},
   "outputs": [],
   "source": [
    "# y_probs_train = cross_val_predict(forest_clf, X_train, y_train, cv=3, method='predict_proba')\n",
    "# #-----\n",
    "# y_scores_train=y_probs_train[:,1]\n",
    "# #-----\n",
    "# fig, ax = Plot_General.default_subplots(n_x=1, n_y=1, fig_num=1)\n",
    "# fpr_train, tpr_train, threshold_train = roc_curve(y_train, y_scores_train)\n",
    "# plot_roc_curve(fpr_train, tpr_train)\n",
    "# #-----"
   ]
  },
  {
   "cell_type": "code",
   "execution_count": null,
   "id": "d6e5476b",
   "metadata": {},
   "outputs": [],
   "source": []
  },
  {
   "cell_type": "code",
   "execution_count": null,
   "id": "2bfe2819",
   "metadata": {},
   "outputs": [],
   "source": [
    "importances = list(zip(full_data_df.columns, forest_clf.feature_importances_))\n",
    "# importances"
   ]
  },
  {
   "cell_type": "code",
   "execution_count": null,
   "id": "63b1d73f",
   "metadata": {
    "scrolled": true
   },
   "outputs": [],
   "source": [
    "importances_srtd = sorted(importances, key=lambda x: x[1], reverse=True)\n",
    "importances_srtd[:10]"
   ]
  },
  {
   "cell_type": "code",
   "execution_count": null,
   "id": "1a1e3cd1",
   "metadata": {},
   "outputs": [],
   "source": [
    "importances_srtd"
   ]
  },
  {
   "cell_type": "code",
   "execution_count": null,
   "id": "4db6e1cc",
   "metadata": {},
   "outputs": [],
   "source": [
    "pd.DataFrame(importances_srtd)"
   ]
  },
  {
   "cell_type": "code",
   "execution_count": null,
   "id": "c198688b",
   "metadata": {},
   "outputs": [],
   "source": [
    "for reason, importance in importances_srtd:\n",
    "    print(f\"{reason}:\\t{importance}\")"
   ]
  },
  {
   "cell_type": "code",
   "execution_count": null,
   "id": "39d29f61",
   "metadata": {},
   "outputs": [],
   "source": []
  },
  {
   "cell_type": "code",
   "execution_count": null,
   "id": "ca698ec5",
   "metadata": {},
   "outputs": [],
   "source": [
    "def build_latex_rf_importances_table(\n",
    "    importances_srtd, \n",
    "    n_round=10, \n",
    "    periods = [    \n",
    "        '01-05 Days',\n",
    "        '06-10 Days',\n",
    "        '11-15 Days',\n",
    "        '16-20 Days',\n",
    "        '21-25 Days',\n",
    "        '26-30 Days'\n",
    "    ], \n",
    "    save_path=None\n",
    "):\n",
    "    #-------------------------\n",
    "    latex_head = ['Period', 'Reason', 'Importance']\n",
    "    latex = r\"\"\"\n",
    "    \\begin{longtable}{|c|c|c|}\n",
    "      \\hline\n",
    "    \"\"\"\n",
    "    latex += \"  \" + ' & '.join(latex_head) + r'\\\\' + '\\n' + r'  \\hline' + '\\n'\n",
    "    #-------------------------\n",
    "    for col_i, importance_i in importances_srtd:\n",
    "        #----------\n",
    "        if col_i[0] in periods:\n",
    "            period_i=col_i[0]\n",
    "        else:\n",
    "            period_i=''\n",
    "        #----------\n",
    "        reason_i = col_i[1]\n",
    "        #----------\n",
    "        latex += r\"  {period_i} & {reason_i} & {importance_i:.{n_round}e}\\\\\".format(\n",
    "            period_i=period_i, reason_i=reason_i, importance_i=importance_i, n_round=n_round\n",
    "        )\n",
    "        latex += '\\n' + r'  \\hline' + '\\n'\n",
    "    #-------------------------\n",
    "    latex += r\"\\end{longtable}\"\n",
    "    #-------------------------\n",
    "    if save_path:\n",
    "        with open(save_path, 'w') as f:\n",
    "            f.write(latex)\n",
    "    #-------------------------\n",
    "    return latex"
   ]
  },
  {
   "cell_type": "code",
   "execution_count": null,
   "id": "e00df654",
   "metadata": {},
   "outputs": [],
   "source": [
    "latex = build_latex_rf_importances_table(\n",
    "    importances_srtd, \n",
    "    save_path=r'C:\\Users\\s346557\\Downloads\\test_latex.txt'\n",
    ")"
   ]
  },
  {
   "cell_type": "code",
   "execution_count": null,
   "id": "7a5de1ad",
   "metadata": {},
   "outputs": [],
   "source": []
  },
  {
   "cell_type": "code",
   "execution_count": null,
   "id": "5ed9ce86",
   "metadata": {},
   "outputs": [],
   "source": []
  },
  {
   "cell_type": "code",
   "execution_count": null,
   "id": "62f74200",
   "metadata": {},
   "outputs": [],
   "source": [
    "# forest_clf.estimators_\n",
    "est_depths = [estimator.get_depth() for estimator in forest_clf.estimators_]"
   ]
  },
  {
   "cell_type": "code",
   "execution_count": null,
   "id": "da72a6eb",
   "metadata": {},
   "outputs": [],
   "source": [
    "print(sorted(est_depths, reverse=False)[0])\n",
    "print(sorted(est_depths, reverse=True)[0])"
   ]
  },
  {
   "cell_type": "code",
   "execution_count": null,
   "id": "bf2c59d4",
   "metadata": {
    "scrolled": true
   },
   "outputs": [],
   "source": [
    "forest_clf = RandomForestClassifier()\n",
    "\n",
    "# # NOTE: Can be a single dict, or a list of dicts\n",
    "forest_param_grid = { \n",
    "    'n_estimators': [100, 200, 500, 1000, 2000],\n",
    "    'max_features': ['auto', 'sqrt', 'log2'],\n",
    "    'max_depth' : [10, 20, 30, 40, 50],\n",
    "    'criterion' :['gini', 'entropy', 'log_loss'], \n",
    "    'bootstrap':[True,False]\n",
    "}\n",
    "\n",
    "# # forest_param_grid = { \n",
    "# #     'n_estimators': [500, 1000],\n",
    "# #     'max_features': ['auto', 'sqrt', 'log2'],\n",
    "# #     'bootstrap':[True,False]\n",
    "# # }\n",
    "\n",
    "# # forest_grid_search = GridSearchCV(\n",
    "# #     forest_clf, forest_param_grid, cv=3, \n",
    "# #     scoring=None, \n",
    "# #     return_train_score=True\n",
    "# # )\n",
    "\n",
    "forest_grid_search = RandomizedSearchCV(\n",
    "    forest_clf, forest_param_grid, cv=3, \n",
    "    scoring=None, \n",
    "    return_train_score=True, \n",
    "    verbose=2\n",
    ")\n",
    "\n",
    "start = time.time()\n",
    "forest_grid_search.fit(X_train, y_train)\n",
    "print(time.time()-start)\n",
    "\n",
    "print(forest_grid_search.best_params_)\n",
    "print(forest_grid_search.best_estimator_)\n",
    "y_pred = forest_grid_search.best_estimator_.predict(X_test)\n",
    "print(\"ACCURACY  OF THE MODEL: \", accuracy_score(y_test, y_pred))\n",
    "print(\"PRECISION OF THE MODEL: \", precision_score(y_test, y_pred))\n",
    "print(\"RECALL    OF THE MODEL: \", recall_score(y_test, y_pred))"
   ]
  },
  {
   "cell_type": "code",
   "execution_count": null,
   "id": "7bca6552",
   "metadata": {},
   "outputs": [],
   "source": [
    "[int(x) for x in np.linspace(10, 50, num = 5)]"
   ]
  },
  {
   "cell_type": "code",
   "execution_count": null,
   "id": "fa652a64",
   "metadata": {},
   "outputs": [],
   "source": []
  },
  {
   "cell_type": "code",
   "execution_count": null,
   "id": "38c6816a",
   "metadata": {},
   "outputs": [],
   "source": [
    "# # Number of trees in random forest\n",
    "# n_estimators = [int(x) for x in np.linspace(start = 200, stop = 2000, num = 10)]\n",
    "# # Number of features to consider at every split\n",
    "# max_features = ['auto', 'sqrt']\n",
    "# # Maximum number of levels in tree\n",
    "# max_depth = [int(x) for x in np.linspace(10, 110, num = 11)]\n",
    "# max_depth.append(None)\n",
    "# # Minimum number of samples required to split a node\n",
    "# min_samples_split = [2, 5, 10]\n",
    "# # Minimum number of samples required at each leaf node\n",
    "# min_samples_leaf = [1, 2, 4]\n",
    "# # Method of selecting samples for training each tree\n",
    "# bootstrap = [True, False]\n",
    "\n",
    "# #-------------------------\n",
    "# # Create the random grid\n",
    "# forest_param_grid = {\n",
    "#     'n_estimators': n_estimators,\n",
    "#     'max_features': max_features,\n",
    "#     'max_depth': max_depth,\n",
    "#     'min_samples_split': min_samples_split,\n",
    "#     'min_samples_leaf': min_samples_leaf,\n",
    "#     'bootstrap': bootstrap\n",
    "# }\n",
    "\n",
    "# forest_grid_search = RandomizedSearchCV(\n",
    "#     forest_clf, forest_param_grid, cv=3, \n",
    "#     scoring=None, \n",
    "#     return_train_score=True\n",
    "# )\n",
    "# #-------------------------\n",
    "# start = time.time()\n",
    "# forest_grid_search.fit(X_train, y_train)\n",
    "# print(time.time()-start)\n",
    "\n",
    "# print(forest_grid_search.best_params_)\n",
    "# print(forest_grid_search.best_estimator_)\n",
    "# y_pred = forest_grid_search.best_estimator_.predict(X_test)\n",
    "# print(\"ACCURACY  OF THE MODEL: \", accuracy_score(y_test, y_pred))\n",
    "# print(\"PRECISION OF THE MODEL: \", precision_score(y_test, y_pred))\n",
    "# print(\"RECALL    OF THE MODEL: \", recall_score(y_test, y_pred))"
   ]
  },
  {
   "cell_type": "code",
   "execution_count": null,
   "id": "dc4a7428",
   "metadata": {},
   "outputs": [],
   "source": [
    "X_test"
   ]
  },
  {
   "cell_type": "code",
   "execution_count": null,
   "id": "9f362a62",
   "metadata": {},
   "outputs": [],
   "source": [
    "if run_scaler:\n",
    "    assert((scaler.transform(full_data_df_test_i.iloc[:, :-1])==X_test).all())\n",
    "else:\n",
    "    assert(full_data_df_test_i.iloc[:, :-1].equals(X_test))"
   ]
  },
  {
   "cell_type": "code",
   "execution_count": null,
   "id": "27f38453",
   "metadata": {},
   "outputs": [],
   "source": [
    "full_data_df_test_i[('is_outg', 'is_outg')].equals(y_test)"
   ]
  },
  {
   "cell_type": "code",
   "execution_count": null,
   "id": "52c4db8e",
   "metadata": {},
   "outputs": [],
   "source": []
  },
  {
   "cell_type": "code",
   "execution_count": null,
   "id": "6af51aa5",
   "metadata": {},
   "outputs": [],
   "source": [
    "X_by_confusion_result = get_X_entries_by_binary_confusion_matrix_result(X_test, y_test, y_pred)\n",
    "X_by_confusion_result = convert_X_by_confusion_results_to_dfs(\n",
    "    X_by_confusion_result=X_by_confusion_result, \n",
    "    full_data_df=full_data_df, \n",
    "    run_PCA=run_PCA, \n",
    "    run_scaler=run_scaler    \n",
    ")\n",
    "\n",
    "X_tp = X_by_confusion_result['X_tp']\n",
    "X_tn = X_by_confusion_result['X_tn']\n",
    "X_fp = X_by_confusion_result['X_fp']\n",
    "X_fn = X_by_confusion_result['X_fn']"
   ]
  },
  {
   "cell_type": "code",
   "execution_count": null,
   "id": "1dc873f5",
   "metadata": {},
   "outputs": [],
   "source": [
    "X_tp"
   ]
  },
  {
   "cell_type": "code",
   "execution_count": null,
   "id": "12beb3e1",
   "metadata": {},
   "outputs": [],
   "source": [
    "# FUCK "
   ]
  },
  {
   "cell_type": "code",
   "execution_count": null,
   "id": "58e4df7c",
   "metadata": {},
   "outputs": [],
   "source": []
  },
  {
   "cell_type": "code",
   "execution_count": null,
   "id": "4389921e",
   "metadata": {},
   "outputs": [],
   "source": [
    "y_pred"
   ]
  },
  {
   "cell_type": "code",
   "execution_count": null,
   "id": "6ed35b13",
   "metadata": {},
   "outputs": [],
   "source": [
    "full_data_df_test_i[('y_pred', 'y_pred')] = y_pred"
   ]
  },
  {
   "cell_type": "code",
   "execution_count": null,
   "id": "aba017cf",
   "metadata": {},
   "outputs": [],
   "source": [
    "full_data_df_test_i"
   ]
  },
  {
   "cell_type": "code",
   "execution_count": null,
   "id": "ec505a89",
   "metadata": {},
   "outputs": [],
   "source": []
  },
  {
   "cell_type": "code",
   "execution_count": null,
   "id": "2cec7c46",
   "metadata": {},
   "outputs": [],
   "source": [
    "full_data_df_test_tp = full_data_df_test_i[\n",
    "    (full_data_df_test_i[('is_outg', 'is_outg')]==1) & \n",
    "    (full_data_df_test_i[('y_pred', 'y_pred')]==1)\n",
    "]\n",
    "\n",
    "full_data_df_test_tn = full_data_df_test_i[\n",
    "    (full_data_df_test_i[('is_outg', 'is_outg')]==0) & \n",
    "    (full_data_df_test_i[('y_pred', 'y_pred')]==0)\n",
    "]\n",
    "\n",
    "full_data_df_test_fp = full_data_df_test_i[\n",
    "    (full_data_df_test_i[('is_outg', 'is_outg')]==0) & \n",
    "    (full_data_df_test_i[('y_pred', 'y_pred')]==1)\n",
    "]\n",
    "\n",
    "full_data_df_test_fn = full_data_df_test_i[\n",
    "    (full_data_df_test_i[('is_outg', 'is_outg')]==1) & \n",
    "    (full_data_df_test_i[('y_pred', 'y_pred')]==0)\n",
    "]"
   ]
  },
  {
   "cell_type": "code",
   "execution_count": null,
   "id": "ff56e176",
   "metadata": {},
   "outputs": [],
   "source": []
  },
  {
   "cell_type": "code",
   "execution_count": null,
   "id": "4ec86b23",
   "metadata": {},
   "outputs": [],
   "source": []
  },
  {
   "cell_type": "code",
   "execution_count": null,
   "id": "8f6bb1ff",
   "metadata": {},
   "outputs": [],
   "source": [
    "full_data_df_test_tp = DOVSOutages.append_outg_info_to_df(\n",
    "    df=full_data_df_test_tp, \n",
    "    outg_rec_nb_idfr=('index', 'outg_rec_nb'), \n",
    "    build_sql_function=DOVSOutages_SQL.build_sql_std_outage, \n",
    ")"
   ]
  },
  {
   "cell_type": "code",
   "execution_count": null,
   "id": "307c4e73",
   "metadata": {},
   "outputs": [],
   "source": [
    "full_data_df_test_fn = DOVSOutages.append_outg_info_to_df(\n",
    "    df=full_data_df_test_fn, \n",
    "    outg_rec_nb_idfr=('index', 'outg_rec_nb'), \n",
    "    build_sql_function=DOVSOutages_SQL.build_sql_std_outage, \n",
    ")"
   ]
  },
  {
   "cell_type": "code",
   "execution_count": null,
   "id": "06d8d9b8",
   "metadata": {},
   "outputs": [],
   "source": [
    "full_data_df_test_tp"
   ]
  },
  {
   "cell_type": "code",
   "execution_count": null,
   "id": "7302e7ba",
   "metadata": {},
   "outputs": [],
   "source": [
    "# NOTE: Need to drop duplicates so that outages are not weighted by\n",
    "#       the number of transformers in outage\n",
    "#--------------------------------------------------\n",
    "#--------------------------------------------------\n",
    "dovs_df_test_tp = full_data_df_test_tp['outg_dummy_lvl_0'].copy()\n",
    "#-----\n",
    "dovs_df_test_tp=dovs_df_test_tp.reset_index()\n",
    "n_xfmr_per_outg_tp = dovs_df_test_tp[['outg_rec_nb', 'trsf_pole_nb']].groupby('outg_rec_nb').size()\n",
    "n_xfmr_per_outg_tp.name = 'n_xfmrs_in_outg'\n",
    "#-----\n",
    "dovs_df_test_tp=dovs_df_test_tp.drop(columns=['trsf_pole_nb']).drop_duplicates().set_index('outg_rec_nb')\n",
    "assert(dovs_df_test_tp.shape[0]==n_xfmr_per_outg_tp.shape[0])\n",
    "og_len = dovs_df_test_tp.shape[0]\n",
    "dovs_df_test_tp = pd.merge(dovs_df_test_tp, n_xfmr_per_outg_tp, left_index=True, right_index=True, how='inner')\n",
    "assert(dovs_df_test_tp.shape[0]==og_len)\n",
    "#--------------------------------------------------\n",
    "#--------------------------------------------------\n",
    "dovs_df_test_fn = full_data_df_test_fn['outg_dummy_lvl_0'].copy()\n",
    "#-----\n",
    "dovs_df_test_fn=dovs_df_test_fn.reset_index()\n",
    "n_xfmr_per_outg_fn = dovs_df_test_fn[['outg_rec_nb', 'trsf_pole_nb']].groupby('outg_rec_nb').size()\n",
    "n_xfmr_per_outg_fn.name = 'n_xfmrs_in_outg'\n",
    "#-----\n",
    "dovs_df_test_fn=dovs_df_test_fn.drop(columns=['trsf_pole_nb']).drop_duplicates().set_index('outg_rec_nb')\n",
    "assert(dovs_df_test_fn.shape[0]==n_xfmr_per_outg_fn.shape[0])\n",
    "og_len = dovs_df_test_fn.shape[0]\n",
    "dovs_df_test_fn = pd.merge(dovs_df_test_fn, n_xfmr_per_outg_fn, left_index=True, right_index=True, how='inner')\n",
    "assert(dovs_df_test_fn.shape[0]==og_len)"
   ]
  },
  {
   "cell_type": "code",
   "execution_count": null,
   "id": "fb27dc73",
   "metadata": {},
   "outputs": [],
   "source": [
    "dovs_df_test_tp_tmp = dovs_df_test_tp.copy()\n",
    "dovs_df_test_fn_tmp = dovs_df_test_fn.copy()\n",
    "#-----\n",
    "dovs_df_test_tp_tmp['Cnfsn']='TP'\n",
    "dovs_df_test_fn_tmp['Cnfsn']='FN'\n",
    "#-----\n",
    "dovs_df_test_tp_fn = pd.concat([dovs_df_test_tp_tmp, dovs_df_test_fn_tmp])\n",
    "del dovs_df_test_tp_tmp\n",
    "del dovs_df_test_fn_tmp"
   ]
  },
  {
   "cell_type": "code",
   "execution_count": null,
   "id": "b01292f2",
   "metadata": {},
   "outputs": [],
   "source": [
    "dovs_df_test_tp_fn = DOVSOutages.set_mjr_mnr_cause_nm_col(\n",
    "    dovs_df_test_tp_fn, \n",
    "    mjr_mnr_cause_nm_col='MJR_MNR_CAUSE_CD', \n",
    "    mjr_cause_nm_col='MJR_CAUSE_CD', \n",
    "    mnr_cause_nm_col='MNR_CAUSE_CD'\n",
    ")\n",
    "#-----\n",
    "dovs_df_test_tp = DOVSOutages.set_mjr_mnr_cause_nm_col(\n",
    "    dovs_df_test_tp, \n",
    "    mjr_mnr_cause_nm_col='MJR_MNR_CAUSE_CD', \n",
    "    mjr_cause_nm_col='MJR_CAUSE_CD', \n",
    "    mnr_cause_nm_col='MNR_CAUSE_CD'\n",
    ")\n",
    "#-----\n",
    "dovs_df_test_fn = DOVSOutages.set_mjr_mnr_cause_nm_col(\n",
    "    dovs_df_test_fn, \n",
    "    mjr_mnr_cause_nm_col='MJR_MNR_CAUSE_CD', \n",
    "    mjr_cause_nm_col='MJR_CAUSE_CD', \n",
    "    mnr_cause_nm_col='MNR_CAUSE_CD'\n",
    ")"
   ]
  },
  {
   "cell_type": "code",
   "execution_count": null,
   "id": "e0f443c5",
   "metadata": {},
   "outputs": [],
   "source": []
  },
  {
   "cell_type": "code",
   "execution_count": null,
   "id": "8ffadaf7",
   "metadata": {},
   "outputs": [],
   "source": [
    "def draw_dovs_boxplots_with_countplots(\n",
    "    dovs_df,\n",
    "    x_col,\n",
    "    y_col,\n",
    "    hue='Cnfsn', \n",
    "    order='avg_y', \n",
    "    batch_size=40,\n",
    "    batch_absorb_last_pair_pct=0.50, \n",
    "    sharex=True, \n",
    "    fig_num=1, \n",
    "    hue_palette=dict(TP='green', FN='red'), \n",
    "    log_y_box=False,\n",
    "    log_y_counts=False\n",
    "):\n",
    "    r\"\"\"\n",
    "    order \n",
    "        Intent/in general: must be ['avg_y', 'counts_x'] or any in list + a hue value\n",
    "            e.g., hue_vals are usually TP and FN, so one could set order='avg_y TP'\n",
    "        However: User can supply own list of x_col values if, e.g., he wants his own custom ordering\n",
    "            OR if he only wants to plot a subset of the values.\n",
    "    \"\"\"\n",
    "    #--------------------------------------------------\n",
    "    #--------------------------------------------------\n",
    "    hue_vals = dovs_df[hue].unique().tolist()\n",
    "    #-----\n",
    "    assert(Utilities.is_object_one_of_types(order, [str, list]))\n",
    "    if isinstance(order, str):\n",
    "        accptbl_orders = ['avg_y', 'counts_x']\n",
    "        accptbl_orders += [\n",
    "            accptbl_order + f' {hue_val}' \n",
    "            for accptbl_order in accptbl_orders \n",
    "            for hue_val in hue_vals\n",
    "        ]\n",
    "        #-----\n",
    "        assert(order in accptbl_orders)\n",
    "        #-------------------------\n",
    "        order_type_and_hue = re.findall(r\"(avg_y|counts_x)\\s?(.*)\", order, flags=0)\n",
    "        assert(len(order_type_and_hue)==1 and len(order_type_and_hue[0])==2)\n",
    "        order_type, order_hue = order_type_and_hue[0]\n",
    "        #-------------------------\n",
    "        if order_hue:\n",
    "            order_df = dovs_df[dovs_df[hue]==order_hue]\n",
    "        else:\n",
    "            order_df = dovs_df\n",
    "        #-------------------------\n",
    "        # Order by data in order_df, BUT need to ensure all values from dovs_df are included,\n",
    "        #   hence the set operations.\n",
    "        if order_type=='avg_y':\n",
    "            order = order_df[[x_col, y_col]].groupby(x_col).mean().sort_values(by=y_col, ascending=False).index.tolist()\n",
    "            order += list(set(dovs_df[[x_col, y_col]].groupby(x_col).mean().sort_values(by=y_col, ascending=False).index.tolist()).difference(order))\n",
    "        elif order_type=='counts_x':\n",
    "            order = order_df[x_col].value_counts().index.tolist()\n",
    "            order += list(set(dovs_df[x_col].value_counts().index.tolist()).difference(order))\n",
    "        else:\n",
    "            assert(0)\n",
    "        #   AND!!!!! NaN values are not caught by first set operation above, hence the need for the second below\n",
    "        order += list(set(dovs_df[x_col].unique().tolist()).difference(order))\n",
    "        #-------------------------\n",
    "        assert(len(order)==dovs_df[x_col].nunique(dropna=False))\n",
    "    #--------------------------------------------------\n",
    "    #--------------------------------------------------\n",
    "    if batch_size is None or batch_size==0:\n",
    "        batch_idxs = [[0, len(order)]]\n",
    "    else:\n",
    "        batch_idxs = Utilities.get_batch_idx_pairs(\n",
    "            n_total=len(order), \n",
    "            batch_size=batch_size, \n",
    "            absorb_last_pair_pct=batch_absorb_last_pair_pct\n",
    "        )\n",
    "\n",
    "    #----------------------------------------------------------------------------------------------------\n",
    "    #----------------------------------------------------------------------------------------------------\n",
    "    if sharex==True:\n",
    "        sharex='col'\n",
    "    fig, axs = Plot_General.default_subplots(n_x=len(batch_idxs), n_y=2, fig_num=fig_num, return_flattened_axes=False, sharex=sharex)\n",
    "    if axs.ndim==1:\n",
    "        axs = np.expand_dims(axs, 1)\n",
    "    #-------------------------\n",
    "    for i_plot_col, (idx_0, idx_1) in enumerate(batch_idxs):\n",
    "        sns.countplot(\n",
    "            ax=axs[0][i_plot_col], \n",
    "            data=dovs_df,\n",
    "            x=x_col, \n",
    "            hue=hue, \n",
    "            order=order[idx_0:idx_1], \n",
    "            palette=hue_palette\n",
    "        )\n",
    "        Plot_General.set_general_plotting_args(\n",
    "            axs[0][i_plot_col], \n",
    "            draw_legend=True, \n",
    "            legend_args=dict(loc='upper right', fontsize=20), \n",
    "            title_args=dict(label=f'{x_col}s in Outages', fontdict=dict(fontweight='semibold', fontsize=16)), \n",
    "            xlabel_args=dict(xlabel=x_col, loc='right', fontdict=dict(fontsize=16)), \n",
    "            ylabel_args=dict(ylabel='Counts', loc='top', fontdict=dict(fontsize=16)), \n",
    "            tick_args=dict(axis='x', labelrotation=90)\n",
    "        )\n",
    "        if log_y_counts:\n",
    "            axs[0][i_plot_col].set_yscale('log')\n",
    "        #-------------------------\n",
    "        sns.boxplot(\n",
    "            ax=axs[1][i_plot_col], \n",
    "            data=dovs_df,\n",
    "            x=x_col, \n",
    "            y=y_col, \n",
    "            hue=hue, \n",
    "            order=order[idx_0:idx_1], \n",
    "            palette=hue_palette, \n",
    "            flierprops = dict(marker='x', markersize=3), \n",
    "            showmeans=True, \n",
    "            meanprops = dict(marker='o', markerfacecolor='white', markeredgecolor='black', markersize=5)\n",
    "        )\n",
    "        Plot_General.set_general_plotting_args(\n",
    "            axs[1][i_plot_col], \n",
    "            draw_legend=True, \n",
    "            legend_args=dict(loc='upper right', fontsize=20), \n",
    "            title_args=dict(label=f'{y_col} vs. {x_col} in Outages', fontdict=dict(fontweight='semibold', fontsize=16)), \n",
    "            xlabel_args=dict(xlabel=x_col, loc='right', fontdict=dict(fontsize=16)), \n",
    "            ylabel_args=dict(ylabel=y_col, loc='top', fontdict=dict(fontsize=16)), \n",
    "            tick_args=dict(axis='x', labelrotation=90)\n",
    "        )\n",
    "        if log_y_box:\n",
    "            axs[1][i_plot_col].set_yscale('log')\n",
    "    #-------------------------\n",
    "    Plot_General.adjust_subplots_args(fig, dict(hspace=0.3))\n",
    "    #----------------------------------------------------------------------------------------------------\n",
    "    #----------------------------------------------------------------------------------------------------\n",
    "    return fig, axs"
   ]
  },
  {
   "cell_type": "code",
   "execution_count": null,
   "id": "80b8595c",
   "metadata": {},
   "outputs": [],
   "source": [
    "def draw_dovs_cmi_ci_boxplots_with_countplots(\n",
    "    dovs_df,\n",
    "    x_col,\n",
    "    hue='Cnfsn', \n",
    "    order='avg_y', \n",
    "    batch_size=40,\n",
    "    batch_absorb_last_pair_pct=0.50, \n",
    "    sharex=True, \n",
    "    fig_num=1, \n",
    "    hue_palette=dict(TP='green', FN='red'), \n",
    "    log_y_box=False,\n",
    "    log_y_counts=False\n",
    "):\n",
    "    r\"\"\"\n",
    "    order \n",
    "        Intent/in general: must be ['avg_y', 'counts_x'] or any in list + a hue value\n",
    "            e.g., hue_vals are usually TP and FN, so one could set order='avg_y TP'\n",
    "        Order will be taken from CMI_NB (not CI_NB)...can be extended to both functionality later if needed\n",
    "        However: User can supply own list of x_col values if, e.g., he wants his own custom ordering\n",
    "            OR if he only wants to plot a subset of the values.\n",
    "    \"\"\"\n",
    "    #--------------------------------------------------\n",
    "    #--------------------------------------------------\n",
    "    hue_vals = dovs_df[hue].unique().tolist()\n",
    "    #-----\n",
    "    assert(Utilities.is_object_one_of_types(order, [str, list]))\n",
    "    if isinstance(order, str):\n",
    "        accptbl_orders = ['avg_y', 'counts_x']\n",
    "        accptbl_orders += [\n",
    "            accptbl_order + f' {hue_val}' \n",
    "            for accptbl_order in accptbl_orders \n",
    "            for hue_val in hue_vals\n",
    "        ]\n",
    "        #-----\n",
    "        assert(order in accptbl_orders)\n",
    "        #-------------------------\n",
    "        order_type_and_hue = re.findall(r\"(avg_y|counts_x)\\s?(.*)\", order, flags=0)\n",
    "        assert(len(order_type_and_hue)==1 and len(order_type_and_hue[0])==2)\n",
    "        order_type, order_hue = order_type_and_hue[0]\n",
    "        #-------------------------\n",
    "        if order_hue:\n",
    "            order_df = dovs_df[dovs_df[hue]==order_hue]\n",
    "        else:\n",
    "            order_df = dovs_df\n",
    "        #-------------------------\n",
    "        # Order by data in order_df, BUT need to ensure all values from dovs_df are included,\n",
    "        #   hence the set operations.\n",
    "        if order_type=='avg_y':\n",
    "            order = order_df[[x_col, 'CMI_NB']].groupby(x_col).mean().sort_values(by='CMI_NB', ascending=False).index.tolist()\n",
    "            order += list(set(dovs_df[[x_col, 'CMI_NB']].groupby(x_col).mean().sort_values(by='CMI_NB', ascending=False).index.tolist()).difference(order))\n",
    "        elif order_type=='counts_x':\n",
    "            order = order_df[x_col].value_counts().index.tolist()\n",
    "            order += list(set(dovs_df[x_col].value_counts().index.tolist()).difference(order))\n",
    "        else:\n",
    "            assert(0)\n",
    "        #   AND!!!!! NaN values are not caught by first set operation above, hence the need for the second below\n",
    "        order += list(set(dovs_df[x_col].unique().tolist()).difference(order))\n",
    "        #-------------------------\n",
    "        assert(len(order)==dovs_df[x_col].nunique(dropna=False))\n",
    "    #--------------------------------------------------\n",
    "    #--------------------------------------------------\n",
    "    if batch_size is None or batch_size==0:\n",
    "        batch_idxs = [[0, len(order)]]\n",
    "    else:\n",
    "        batch_idxs = Utilities.get_batch_idx_pairs(\n",
    "            n_total=len(order), \n",
    "            batch_size=batch_size, \n",
    "            absorb_last_pair_pct=batch_absorb_last_pair_pct\n",
    "        )\n",
    "\n",
    "    #----------------------------------------------------------------------------------------------------\n",
    "    #----------------------------------------------------------------------------------------------------\n",
    "    if sharex==True:\n",
    "        sharex='col'\n",
    "    fig, axs = Plot_General.default_subplots(n_x=len(batch_idxs), n_y=3, fig_num=fig_num, return_flattened_axes=False, sharex=sharex)\n",
    "    if axs.ndim==1:\n",
    "        axs = np.expand_dims(axs, 1)\n",
    "    #-------------------------\n",
    "    for i_plot_col, (idx_0, idx_1) in enumerate(batch_idxs):\n",
    "        sns.countplot(\n",
    "            ax=axs[0][i_plot_col], \n",
    "            data=dovs_df,\n",
    "            x=x_col, \n",
    "            hue=hue, \n",
    "            order=order[idx_0:idx_1], \n",
    "            palette=hue_palette\n",
    "        )\n",
    "        Plot_General.set_general_plotting_args(\n",
    "            axs[0][i_plot_col], \n",
    "            draw_legend=True, \n",
    "            legend_args=dict(loc='upper right', fontsize=20), \n",
    "            title_args=dict(label=f'{x_col}s in Outages', fontdict=dict(fontweight='semibold', fontsize=16)), \n",
    "            xlabel_args=dict(xlabel=x_col, loc='right', fontdict=dict(fontsize=16)), \n",
    "            ylabel_args=dict(ylabel='Counts', loc='top', fontdict=dict(fontsize=16)), \n",
    "            tick_args=dict(axis='x', labelrotation=90)\n",
    "        )\n",
    "        if log_y_counts:\n",
    "            axs[0][i_plot_col].set_yscale('log')\n",
    "        #-------------------------\n",
    "        sns.boxplot(\n",
    "            ax=axs[1][i_plot_col], \n",
    "            data=dovs_df,\n",
    "            x=x_col, \n",
    "            y='CI_NB', \n",
    "            hue=hue, \n",
    "            order=order[idx_0:idx_1], \n",
    "            palette=hue_palette, \n",
    "            flierprops = dict(marker='x', markersize=3), \n",
    "            showmeans=True, \n",
    "            meanprops = dict(marker='o', markerfacecolor='white', markeredgecolor='black', markersize=5)\n",
    "        )\n",
    "        Plot_General.set_general_plotting_args(\n",
    "            axs[1][i_plot_col], \n",
    "            draw_legend=True, \n",
    "            legend_args=dict(loc='upper right', fontsize=20), \n",
    "            title_args=dict(label=f'CI_NB vs. {x_col} in Outages', fontdict=dict(fontweight='semibold', fontsize=16)), \n",
    "            xlabel_args=dict(xlabel=x_col, loc='right', fontdict=dict(fontsize=16)), \n",
    "            ylabel_args=dict(ylabel='CI_NB', loc='top', fontdict=dict(fontsize=16)), \n",
    "            tick_args=dict(axis='x', labelrotation=90)\n",
    "        )\n",
    "        if log_y_box:\n",
    "            axs[1][i_plot_col].set_yscale('log')\n",
    "        #-------------------------\n",
    "        sns.boxplot(\n",
    "            ax=axs[2][i_plot_col], \n",
    "            data=dovs_df,\n",
    "            x=x_col, \n",
    "            y='CMI_NB', \n",
    "            hue=hue, \n",
    "            order=order[idx_0:idx_1], \n",
    "            palette=hue_palette, \n",
    "            flierprops = dict(marker='x', markersize=3), \n",
    "            showmeans=True, \n",
    "            meanprops = dict(marker='o', markerfacecolor='white', markeredgecolor='black', markersize=5)\n",
    "        )\n",
    "        Plot_General.set_general_plotting_args(\n",
    "            axs[2][i_plot_col], \n",
    "            draw_legend=True, \n",
    "            legend_args=dict(loc='upper right', fontsize=20), \n",
    "            title_args=dict(label=f'CMI_NB vs. {x_col} in Outages', fontdict=dict(fontweight='semibold', fontsize=16)), \n",
    "            xlabel_args=dict(xlabel=x_col, loc='right', fontdict=dict(fontsize=16)), \n",
    "            ylabel_args=dict(ylabel='CMI_NB', loc='top', fontdict=dict(fontsize=16)), \n",
    "            tick_args=dict(axis='x', labelrotation=90)\n",
    "        )\n",
    "        if log_y_box:\n",
    "            axs[2][i_plot_col].set_yscale('log')\n",
    "    #-------------------------\n",
    "    Plot_General.adjust_subplots_args(fig, dict(hspace=0.3))\n",
    "    #----------------------------------------------------------------------------------------------------\n",
    "    #----------------------------------------------------------------------------------------------------\n",
    "    return fig, axs"
   ]
  },
  {
   "cell_type": "code",
   "execution_count": null,
   "id": "5cd375e9",
   "metadata": {},
   "outputs": [],
   "source": []
  },
  {
   "cell_type": "code",
   "execution_count": null,
   "id": "a4353b8d",
   "metadata": {},
   "outputs": [],
   "source": []
  },
  {
   "cell_type": "code",
   "execution_count": null,
   "id": "49a5347f",
   "metadata": {},
   "outputs": [],
   "source": []
  },
  {
   "cell_type": "code",
   "execution_count": null,
   "id": "feb5dd13",
   "metadata": {},
   "outputs": [],
   "source": [
    "x_col = 'MNR_CAUSE_CD'\n",
    "y_col = 'CI_NB'\n",
    "#-----\n",
    "# Order by data in dovs_df_test_tp, BUT need to ensure all values from dovs_df_test_tp_fn are included,\n",
    "#   hence the set operation\n",
    "order = dovs_df_test_tp[[x_col, y_col]].groupby(x_col).mean().sort_values(by=y_col, ascending=False).index.tolist()\n",
    "order += list(set(dovs_df_test_tp_fn[x_col].unique().tolist()).difference(order))\n",
    "\n",
    "fig, axs = Plot_General.default_subplots(n_x=1, n_y=1, fig_num=1)\n",
    "sns.boxplot(\n",
    "    ax=axs, \n",
    "    data=dovs_df_test_tp_fn,\n",
    "    x=x_col, \n",
    "    y=y_col, \n",
    "    hue='Cnfsn', \n",
    "    order=order, \n",
    "    palette=dict(TP='green', FN='red'), \n",
    "    flierprops = dict(marker='x', markersize=3), \n",
    "    showmeans=True, \n",
    "    meanprops = dict(marker='o', markerfacecolor='white', markeredgecolor='black', markersize=5)\n",
    ");\n",
    "Plot_General.set_general_plotting_args(\n",
    "    axs, \n",
    "    draw_legend=True, \n",
    "    legend_args=dict(loc='upper right', fontsize=20), \n",
    "    title_args=dict(label=f'{y_col} vs. {x_col} in Outages', fontdict=dict(fontweight='semibold', fontsize=16)), \n",
    "    xlabel_args=dict(xlabel=x_col, loc='right', fontdict=dict(fontsize=16)), \n",
    "    ylabel_args=dict(ylabel=y_col, loc='top', fontdict=dict(fontsize=16)), \n",
    "    tick_args=dict(axis='x', labelrotation=45)\n",
    ")\n",
    "axs.set_yscale('log')"
   ]
  },
  {
   "cell_type": "code",
   "execution_count": null,
   "id": "5a14e1f2",
   "metadata": {},
   "outputs": [],
   "source": [
    "dovs_df_test_fn[dovs_df_test_fn['MNR_CAUSE_CD']=='FO'].describe()"
   ]
  },
  {
   "cell_type": "code",
   "execution_count": null,
   "id": "1fcfe3a2",
   "metadata": {},
   "outputs": [],
   "source": []
  },
  {
   "cell_type": "code",
   "execution_count": null,
   "id": "006042c1",
   "metadata": {},
   "outputs": [],
   "source": [
    "x_col = 'MNR_CAUSE_CD'\n",
    "y_col = 'CI_NB'\n",
    "#-----\n",
    "# Order by data in dovs_df_test_tp, BUT need to ensure all values from dovs_df_test_tp_fn are included,\n",
    "#   hence the set operation\n",
    "order = dovs_df_test_tp[[x_col, y_col]].groupby(x_col).mean().sort_values(by=y_col, ascending=False).index.tolist()\n",
    "order += list(set(dovs_df_test_tp_fn[x_col].unique().tolist()).difference(order))\n",
    "\n",
    "fig, axs = Plot_General.default_subplots(n_x=1, n_y=1, fig_num=1)\n",
    "sns.pointplot(\n",
    "    ax=axs, \n",
    "    data=dovs_df_test_tp_fn,\n",
    "    x=x_col, \n",
    "    y=y_col, \n",
    "    hue='Cnfsn', \n",
    "    order=order, \n",
    "    palette=dict(TP='green', FN='red'), \n",
    "    dodge=0.5\n",
    ");\n",
    "Plot_General.set_general_plotting_args(\n",
    "    axs, \n",
    "    draw_legend=True, \n",
    "    legend_args=dict(loc='upper right', fontsize=20), \n",
    "    title_args=dict(label=f'{y_col} vs. {x_col} in Outages', fontdict=dict(fontweight='semibold', fontsize=16)), \n",
    "    xlabel_args=dict(xlabel=x_col, loc='right', fontdict=dict(fontsize=16)), \n",
    "    ylabel_args=dict(ylabel=y_col, loc='top', fontdict=dict(fontsize=16)), \n",
    "    tick_args=dict(axis='x', labelrotation=45)\n",
    ")"
   ]
  },
  {
   "cell_type": "code",
   "execution_count": null,
   "id": "0fd43911",
   "metadata": {},
   "outputs": [],
   "source": [
    "x_col = 'MNR_CAUSE_CD'\n",
    "y_col = 'CI_NB'\n",
    "#-----\n",
    "# Order by data in dovs_df_test_tp, BUT need to ensure all values from dovs_df_test_tp_fn are included,\n",
    "#   hence the set operation\n",
    "order = dovs_df_test_tp[[x_col, y_col]].groupby(x_col).mean().sort_values(by=y_col, ascending=False).index.tolist()\n",
    "order += list(set(dovs_df_test_tp_fn[x_col].unique().tolist()).difference(order))\n",
    "\n",
    "fig, axs = Plot_General.default_subplots(n_x=1, n_y=1, fig_num=1)\n",
    "bplot = sns.boxplot(\n",
    "    ax=axs, \n",
    "    data=dovs_df_test_tp_fn,\n",
    "    x=x_col, \n",
    "    y=y_col, \n",
    "    hue='Cnfsn', \n",
    "    order=order, \n",
    "    palette=dict(TP='green', FN='red'), \n",
    "    flierprops = dict(marker='x', markersize=3), \n",
    "    showmeans=True, \n",
    "    meanprops = dict(marker='o', markerfacecolor='white', markeredgecolor='black', markersize=5), \n",
    "    showfliers=False\n",
    ");\n",
    "children = axs.get_children()\n",
    "sns.pointplot(\n",
    "    ax=axs, \n",
    "    data=dovs_df_test_tp_fn,\n",
    "    x=x_col, \n",
    "    y=y_col, \n",
    "    hue='Cnfsn', \n",
    "    order=order, \n",
    "    palette=dict(TP='green', FN='red'), \n",
    "    dodge=0.4, \n",
    "    join=True, \n",
    "    errorbar='ci', \n",
    "    capsize=0.2, \n",
    "    linestyles='dotted'\n",
    ");\n",
    "\n",
    "Plot_General.set_general_plotting_args(\n",
    "    axs, \n",
    "    draw_legend=True, \n",
    "    legend_args=dict(loc='upper right', fontsize=20), \n",
    "    title_args=dict(label=f'{y_col} vs. {x_col} in Outages', fontdict=dict(fontweight='semibold', fontsize=16)), \n",
    "    xlabel_args=dict(xlabel=x_col, loc='right', fontdict=dict(fontsize=16)), \n",
    "    ylabel_args=dict(ylabel=y_col, loc='top', fontdict=dict(fontsize=16)), \n",
    "    tick_args=dict(axis='x', labelrotation=45)\n",
    ")"
   ]
  },
  {
   "cell_type": "code",
   "execution_count": null,
   "id": "9fec1eb3",
   "metadata": {},
   "outputs": [],
   "source": [
    "dovs_df_test_fn[dovs_df_test_fn['MNR_CAUSE_CD']=='FO'].describe()"
   ]
  },
  {
   "cell_type": "code",
   "execution_count": null,
   "id": "850f43cf",
   "metadata": {},
   "outputs": [],
   "source": [
    "bplot.get_children()"
   ]
  },
  {
   "cell_type": "code",
   "execution_count": null,
   "id": "72089af6",
   "metadata": {},
   "outputs": [],
   "source": []
  },
  {
   "cell_type": "code",
   "execution_count": null,
   "id": "86922661",
   "metadata": {},
   "outputs": [],
   "source": [
    "idk = bplot.get_children()[0]"
   ]
  },
  {
   "cell_type": "code",
   "execution_count": null,
   "id": "d3a2cf4d",
   "metadata": {},
   "outputs": [],
   "source": [
    "bplot.get_children()[0].get_offsets()"
   ]
  },
  {
   "cell_type": "code",
   "execution_count": null,
   "id": "7c037bb7",
   "metadata": {},
   "outputs": [],
   "source": [
    "bplot.get_children()[1].get_offsets()"
   ]
  },
  {
   "cell_type": "code",
   "execution_count": null,
   "id": "0bd31b91",
   "metadata": {},
   "outputs": [],
   "source": [
    "idk.get_offsets()"
   ]
  },
  {
   "cell_type": "code",
   "execution_count": null,
   "id": "e6410bd0",
   "metadata": {},
   "outputs": [],
   "source": []
  },
  {
   "cell_type": "code",
   "execution_count": null,
   "id": "8c86e5d3",
   "metadata": {},
   "outputs": [],
   "source": []
  },
  {
   "cell_type": "code",
   "execution_count": null,
   "id": "6f86b6e0",
   "metadata": {},
   "outputs": [],
   "source": [
    "fig, axs = draw_dovs_boxplots_with_countplots(\n",
    "    dovs_df=dovs_df_test_tp_fn,\n",
    "    x_col='MNR_CAUSE_CD',\n",
    "    y_col='CMI_NB', \n",
    "    hue='Cnfsn', \n",
    "    order='avg_y TP', \n",
    "    sharex=True, \n",
    "    batch_size=40\n",
    ")"
   ]
  },
  {
   "cell_type": "code",
   "execution_count": null,
   "id": "589ea471",
   "metadata": {},
   "outputs": [],
   "source": []
  },
  {
   "cell_type": "code",
   "execution_count": null,
   "id": "594de620",
   "metadata": {},
   "outputs": [],
   "source": [
    "fig, axs = draw_dovs_boxplots_with_countplots(\n",
    "    dovs_df=dovs_df_test_tp_fn,\n",
    "    x_col='MJR_CAUSE_CD',\n",
    "    y_col='CMI_NB', \n",
    "    hue='Cnfsn', \n",
    "    order='avg_y TP', \n",
    "    sharex=True, \n",
    "    batch_size=40\n",
    ")"
   ]
  },
  {
   "cell_type": "code",
   "execution_count": null,
   "id": "4cf29c5e",
   "metadata": {},
   "outputs": [],
   "source": []
  },
  {
   "cell_type": "code",
   "execution_count": null,
   "id": "7e50839a",
   "metadata": {},
   "outputs": [],
   "source": [
    "fig, axs = draw_dovs_boxplots_with_countplots(\n",
    "    dovs_df=dovs_df_test_tp_fn,\n",
    "    x_col='MJR_MNR_CAUSE_CD',\n",
    "    y_col='CMI_NB', \n",
    "    hue='Cnfsn', \n",
    "    order='avg_y TP', \n",
    "    sharex=True, \n",
    "    batch_size=None\n",
    ")"
   ]
  },
  {
   "cell_type": "code",
   "execution_count": null,
   "id": "bd11b214",
   "metadata": {},
   "outputs": [],
   "source": []
  },
  {
   "cell_type": "code",
   "execution_count": null,
   "id": "7715eefc",
   "metadata": {},
   "outputs": [],
   "source": []
  },
  {
   "cell_type": "code",
   "execution_count": null,
   "id": "c446abc5",
   "metadata": {},
   "outputs": [],
   "source": []
  },
  {
   "cell_type": "code",
   "execution_count": null,
   "id": "5e4a8958",
   "metadata": {},
   "outputs": [],
   "source": [
    "fig, axs = draw_dovs_boxplots_with_countplots(\n",
    "    dovs_df=dovs_df_test_tp_fn,\n",
    "    x_col='MJR_MNR_CAUSE_CD',\n",
    "    y_col='CMI_NB', \n",
    "    hue='Cnfsn', \n",
    "    order='avg_y TP', \n",
    "    sharex=True, \n",
    "    batch_size=40, \n",
    "    log_y_box=True\n",
    ")"
   ]
  },
  {
   "cell_type": "code",
   "execution_count": null,
   "id": "69a02cdb",
   "metadata": {},
   "outputs": [],
   "source": [
    "fig, axs = draw_dovs_boxplots_with_countplots(\n",
    "    dovs_df=dovs_df_test_tp_fn,\n",
    "    x_col='MJR_MNR_CAUSE_CD',\n",
    "    y_col='CMI_NB', \n",
    "    hue='Cnfsn', \n",
    "    order='avg_y TP', \n",
    "    sharex=True, \n",
    "    batch_size=40, \n",
    "    log_y_box=False\n",
    ")"
   ]
  },
  {
   "cell_type": "code",
   "execution_count": null,
   "id": "05d5ca61",
   "metadata": {},
   "outputs": [],
   "source": []
  },
  {
   "cell_type": "code",
   "execution_count": null,
   "id": "51d0994f",
   "metadata": {},
   "outputs": [],
   "source": [
    "fig, axs = draw_dovs_boxplots_with_countplots(\n",
    "    dovs_df=dovs_df_test_tp_fn,\n",
    "    x_col='MJR_MNR_CAUSE_CD',\n",
    "    y_col='CMI_NB', \n",
    "    hue='Cnfsn', \n",
    "    order='avg_y TP', \n",
    "    sharex=True, \n",
    "    batch_size=None, \n",
    "    log_y_box=False\n",
    ")"
   ]
  },
  {
   "cell_type": "code",
   "execution_count": null,
   "id": "12c408c7",
   "metadata": {},
   "outputs": [],
   "source": []
  },
  {
   "cell_type": "code",
   "execution_count": null,
   "id": "7f08272a",
   "metadata": {},
   "outputs": [],
   "source": [
    "fig, axs = draw_dovs_boxplots_with_countplots(\n",
    "    dovs_df=dovs_df_test_tp_fn,\n",
    "    x_col='MJR_MNR_CAUSE_CD',\n",
    "    y_col='CMI_NB', \n",
    "    hue='Cnfsn', \n",
    "    order='avg_y TP', \n",
    "    sharex=True, \n",
    "    batch_size=20, \n",
    "    log_y_box=False\n",
    ")"
   ]
  },
  {
   "cell_type": "code",
   "execution_count": null,
   "id": "32884aa6",
   "metadata": {},
   "outputs": [],
   "source": [
    "fig, axs = draw_dovs_cmi_ci_boxplots_with_countplots(\n",
    "    dovs_df=dovs_df_test_tp_fn,\n",
    "    x_col='MJR_MNR_CAUSE_CD',\n",
    "    hue='Cnfsn', \n",
    "    order='avg_y TP', \n",
    "    sharex=True, \n",
    "    batch_size=20, \n",
    "    log_y_box=False\n",
    ")"
   ]
  },
  {
   "cell_type": "code",
   "execution_count": null,
   "id": "c04107e1",
   "metadata": {},
   "outputs": [],
   "source": [
    "fig, axs = draw_dovs_cmi_ci_boxplots_with_countplots(\n",
    "    dovs_df=dovs_df_test_tp_fn,\n",
    "    x_col='MJR_MNR_CAUSE_CD',\n",
    "    hue='Cnfsn', \n",
    "    order='counts_x', \n",
    "    sharex=True, \n",
    "    batch_size=40, \n",
    "    log_y_box=True, \n",
    "    log_y_counts=False\n",
    ")"
   ]
  },
  {
   "cell_type": "code",
   "execution_count": null,
   "id": "28ee9b6f",
   "metadata": {},
   "outputs": [],
   "source": []
  },
  {
   "cell_type": "code",
   "execution_count": null,
   "id": "35a61c9a",
   "metadata": {},
   "outputs": [],
   "source": []
  },
  {
   "cell_type": "code",
   "execution_count": null,
   "id": "ca849987",
   "metadata": {},
   "outputs": [],
   "source": [
    "fig, axs = draw_dovs_boxplots_with_countplots(\n",
    "    dovs_df=dovs_df_test_tp_fn,\n",
    "    x_col='MJR_MNR_CAUSE_CD',\n",
    "    y_col='CMI_NB', \n",
    "    hue='Cnfsn', \n",
    "    order='avg_y', \n",
    "    sharex=True, \n",
    "    batch_size=40\n",
    ")"
   ]
  },
  {
   "cell_type": "code",
   "execution_count": null,
   "id": "509c9041",
   "metadata": {},
   "outputs": [],
   "source": [
    "fig, axs = draw_dovs_boxplots_with_countplots(\n",
    "    dovs_df=dovs_df_test_tp_fn,\n",
    "    x_col='MJR_MNR_CAUSE_CD',\n",
    "    y_col='CMI_NB', \n",
    "    hue='Cnfsn', \n",
    "    order='counts_x', \n",
    "    sharex=True, \n",
    "    log_y_box=True\n",
    ")"
   ]
  },
  {
   "cell_type": "code",
   "execution_count": null,
   "id": "726dec11",
   "metadata": {},
   "outputs": [],
   "source": []
  },
  {
   "cell_type": "code",
   "execution_count": null,
   "id": "2dbbf6cf",
   "metadata": {},
   "outputs": [],
   "source": [
    "fig, axs = draw_dovs_boxplots_with_countplots(\n",
    "    dovs_df=dovs_df_test_tp_fn,\n",
    "    x_col='MJR_MNR_CAUSE_CD',\n",
    "    y_col='CMI_NB', \n",
    "    hue='Cnfsn', \n",
    "    order='avg_y TP', \n",
    "    sharex=True, \n",
    "    batch_size=None\n",
    ")"
   ]
  },
  {
   "cell_type": "code",
   "execution_count": null,
   "id": "346ccd9d",
   "metadata": {},
   "outputs": [],
   "source": []
  },
  {
   "cell_type": "code",
   "execution_count": null,
   "id": "f285a11f",
   "metadata": {},
   "outputs": [],
   "source": [
    "save_figs=False\n",
    "\n",
    "fig, axs = draw_dovs_boxplots_with_countplots(\n",
    "    dovs_df=dovs_df_test_tp_fn,\n",
    "    x_col='MJR_MNR_CAUSE_CD',\n",
    "    y_col='CMI_NB', \n",
    "    hue='Cnfsn', \n",
    "    order='counts_x', \n",
    "    sharex=True, \n",
    "    batch_size=40\n",
    ")\n",
    "\n",
    "#-------------------------\n",
    "if save_figs:\n",
    "    if not os.path.exists(fig_save_dir):\n",
    "        os.makedirs(fig_save_dir)\n",
    "    Plot_General.save_fig(\n",
    "        fig=fig, \n",
    "        save_dir=fig_save_dir, \n",
    "        save_name=f'{y_col}_vs_{x_col}.png', \n",
    "        bbox_inches='tight'\n",
    "    )"
   ]
  },
  {
   "cell_type": "code",
   "execution_count": null,
   "id": "e3c56563",
   "metadata": {},
   "outputs": [],
   "source": []
  },
  {
   "cell_type": "code",
   "execution_count": null,
   "id": "6c66c751",
   "metadata": {},
   "outputs": [],
   "source": []
  },
  {
   "cell_type": "code",
   "execution_count": null,
   "id": "f0054159",
   "metadata": {},
   "outputs": [],
   "source": [
    "save_figs=False\n",
    "\n",
    "fig, axs = draw_dovs_boxplots_with_countplots(\n",
    "    dovs_df=dovs_df_test_tp_fn,\n",
    "    x_col='MJR_MNR_CAUSE_CD',\n",
    "    y_col='CI_NB', \n",
    "    hue='Cnfsn', \n",
    "    order='avg_y TP', \n",
    "    sharex=False, \n",
    "    batch_size=40, \n",
    "    log_y_counts=True\n",
    ")\n",
    "\n",
    "#-------------------------\n",
    "if save_figs:\n",
    "    if not os.path.exists(fig_save_dir):\n",
    "        os.makedirs(fig_save_dir)\n",
    "    Plot_General.save_fig(\n",
    "        fig=fig, \n",
    "        save_dir=fig_save_dir, \n",
    "        save_name=f'{y_col}_vs_{x_col}.png', \n",
    "        bbox_inches='tight'\n",
    "    )"
   ]
  },
  {
   "cell_type": "code",
   "execution_count": null,
   "id": "acbee503",
   "metadata": {},
   "outputs": [],
   "source": []
  },
  {
   "cell_type": "code",
   "execution_count": null,
   "id": "4450defc",
   "metadata": {},
   "outputs": [],
   "source": []
  },
  {
   "cell_type": "code",
   "execution_count": null,
   "id": "360e609e",
   "metadata": {},
   "outputs": [],
   "source": [
    "save_figs=False\n",
    "\n",
    "fig, axs = draw_dovs_boxplots_with_countplots(\n",
    "    dovs_df=dovs_df_test_tp_fn,\n",
    "    x_col='DVC_TYP_NM',\n",
    "    y_col='CMI_NB', \n",
    "    hue='Cnfsn', \n",
    "    order='avg_y TP', \n",
    "    sharex=True, \n",
    "    batch_size=40, \n",
    "    log_y_counts=True\n",
    ")\n",
    "\n",
    "#-------------------------\n",
    "if save_figs:\n",
    "    if not os.path.exists(fig_save_dir):\n",
    "        os.makedirs(fig_save_dir)\n",
    "    Plot_General.save_fig(\n",
    "        fig=fig, \n",
    "        save_dir=fig_save_dir, \n",
    "        save_name=f'{y_col}_vs_{x_col}.png', \n",
    "        bbox_inches='tight'\n",
    "    )"
   ]
  },
  {
   "cell_type": "code",
   "execution_count": null,
   "id": "4180fb71",
   "metadata": {},
   "outputs": [],
   "source": []
  },
  {
   "cell_type": "code",
   "execution_count": null,
   "id": "89fb662a",
   "metadata": {},
   "outputs": [],
   "source": []
  },
  {
   "cell_type": "code",
   "execution_count": null,
   "id": "b42f8096",
   "metadata": {},
   "outputs": [],
   "source": [
    "save_figs=False\n",
    "\n",
    "fig, axs = draw_dovs_boxplots_with_countplots(\n",
    "    dovs_df=dovs_df_test_tp_fn,\n",
    "    x_col='DVC_TYP_NM',\n",
    "    y_col='CI_NB', \n",
    "    hue='Cnfsn', \n",
    "    order='avg_y TP', \n",
    "    sharex=True, \n",
    "    batch_size=40, \n",
    "    log_y_counts=True\n",
    ")\n",
    "\n",
    "#-------------------------\n",
    "if save_figs:\n",
    "    if not os.path.exists(fig_save_dir):\n",
    "        os.makedirs(fig_save_dir)\n",
    "    Plot_General.save_fig(\n",
    "        fig=fig, \n",
    "        save_dir=fig_save_dir, \n",
    "        save_name=f'{y_col}_vs_{x_col}.png', \n",
    "        bbox_inches='tight'\n",
    "    )"
   ]
  },
  {
   "cell_type": "code",
   "execution_count": null,
   "id": "3615bf97",
   "metadata": {},
   "outputs": [],
   "source": []
  },
  {
   "cell_type": "code",
   "execution_count": null,
   "id": "c0482adb",
   "metadata": {},
   "outputs": [],
   "source": [
    "save_figs=False\n",
    "\n",
    "fig, axs = draw_dovs_boxplots_with_countplots(\n",
    "    dovs_df=dovs_df_test_tp_fn,\n",
    "    x_col='EQUIP_TYP_NM',\n",
    "    y_col='CMI_NB', \n",
    "    hue='Cnfsn', \n",
    "    order='avg_y TP', \n",
    "    sharex=True, \n",
    "    batch_size=40, \n",
    "    log_y_counts=True\n",
    ")\n",
    "\n",
    "#-------------------------\n",
    "if save_figs:\n",
    "    if not os.path.exists(fig_save_dir):\n",
    "        os.makedirs(fig_save_dir)\n",
    "    Plot_General.save_fig(\n",
    "        fig=fig, \n",
    "        save_dir=fig_save_dir, \n",
    "        save_name=f'{y_col}_vs_{x_col}.png', \n",
    "        bbox_inches='tight'\n",
    "    )"
   ]
  },
  {
   "cell_type": "code",
   "execution_count": null,
   "id": "7b4a7f21",
   "metadata": {},
   "outputs": [],
   "source": []
  },
  {
   "cell_type": "code",
   "execution_count": null,
   "id": "d04932f3",
   "metadata": {},
   "outputs": [],
   "source": [
    "save_figs=False\n",
    "\n",
    "fig, axs = draw_dovs_boxplots_with_countplots(\n",
    "    dovs_df=dovs_df_test_tp_fn,\n",
    "    x_col='EQUIP_TYP_NM',\n",
    "    y_col='CI_NB', \n",
    "    hue='Cnfsn', \n",
    "    order='avg_y TP', \n",
    "    sharex=True, \n",
    "    batch_size=40, \n",
    "    log_y_counts=True\n",
    ")\n",
    "\n",
    "#-------------------------\n",
    "if save_figs:\n",
    "    if not os.path.exists(fig_save_dir):\n",
    "        os.makedirs(fig_save_dir)\n",
    "    Plot_General.save_fig(\n",
    "        fig=fig, \n",
    "        save_dir=fig_save_dir, \n",
    "        save_name=f'{y_col}_vs_{x_col}.png', \n",
    "        bbox_inches='tight'\n",
    "    )"
   ]
  },
  {
   "cell_type": "code",
   "execution_count": null,
   "id": "c2cf4745",
   "metadata": {},
   "outputs": [],
   "source": []
  },
  {
   "cell_type": "code",
   "execution_count": null,
   "id": "402a0c1f",
   "metadata": {},
   "outputs": [],
   "source": [
    "save_figs=False\n",
    "\n",
    "fig, axs = draw_dovs_boxplots_with_countplots(\n",
    "    dovs_df=dovs_df_test_tp_fn,\n",
    "    x_col='MJR_MNR_CAUSE_CD',\n",
    "    y_col='CMI_NB', \n",
    "    hue='Cnfsn', \n",
    "    order='avg_y TP', \n",
    "    sharex=True, \n",
    "    batch_size=None, \n",
    "    log_y_counts=True\n",
    ")\n",
    "\n",
    "#-------------------------\n",
    "if save_figs:\n",
    "    if not os.path.exists(fig_save_dir):\n",
    "        os.makedirs(fig_save_dir)\n",
    "    Plot_General.save_fig(\n",
    "        fig=fig, \n",
    "        save_dir=fig_save_dir, \n",
    "        save_name=f'{y_col}_vs_{x_col}.png', \n",
    "        bbox_inches='tight'\n",
    "    )"
   ]
  },
  {
   "cell_type": "code",
   "execution_count": null,
   "id": "ceec488a",
   "metadata": {},
   "outputs": [],
   "source": []
  },
  {
   "cell_type": "code",
   "execution_count": null,
   "id": "ba81bf1a",
   "metadata": {},
   "outputs": [],
   "source": []
  },
  {
   "cell_type": "code",
   "execution_count": null,
   "id": "efb65c54",
   "metadata": {},
   "outputs": [],
   "source": []
  },
  {
   "cell_type": "code",
   "execution_count": null,
   "id": "f5309ae3",
   "metadata": {
    "scrolled": true
   },
   "outputs": [],
   "source": [
    "dovs_df_test_tp[dovs_df_test_tp['MJR_MNR_CAUSE_CD']=='DL-EQF']['CMI_NB']"
   ]
  },
  {
   "cell_type": "code",
   "execution_count": null,
   "id": "a00bb5e3",
   "metadata": {},
   "outputs": [],
   "source": [
    "dovs_df_test_tp[dovs_df_test_tp['MJR_MNR_CAUSE_CD']=='DL-EQF']['CMI_NB'].describe()"
   ]
  },
  {
   "cell_type": "code",
   "execution_count": null,
   "id": "f0110257",
   "metadata": {},
   "outputs": [],
   "source": []
  },
  {
   "cell_type": "code",
   "execution_count": null,
   "id": "c1b25995",
   "metadata": {},
   "outputs": [],
   "source": [
    "dovs_df_test_tp[dovs_df_test_tp['MJR_MNR_CAUSE_CD']=='DS-WU']['CMI_NB']"
   ]
  },
  {
   "cell_type": "code",
   "execution_count": null,
   "id": "112403d3",
   "metadata": {},
   "outputs": [],
   "source": [
    "dovs_df_test_tp[dovs_df_test_tp['MJR_MNR_CAUSE_CD']=='DS-WU']['CMI_NB'].describe()"
   ]
  },
  {
   "cell_type": "code",
   "execution_count": null,
   "id": "7f0a8f09",
   "metadata": {},
   "outputs": [],
   "source": []
  },
  {
   "cell_type": "code",
   "execution_count": null,
   "id": "8f4d13f6",
   "metadata": {},
   "outputs": [],
   "source": []
  },
  {
   "cell_type": "code",
   "execution_count": null,
   "id": "5e1672b9",
   "metadata": {},
   "outputs": [],
   "source": []
  },
  {
   "cell_type": "code",
   "execution_count": null,
   "id": "a833cbd0",
   "metadata": {},
   "outputs": [],
   "source": []
  },
  {
   "cell_type": "code",
   "execution_count": null,
   "id": "0b6a4086",
   "metadata": {},
   "outputs": [],
   "source": []
  },
  {
   "cell_type": "code",
   "execution_count": null,
   "id": "3f80d6cf",
   "metadata": {},
   "outputs": [],
   "source": [
    "save_figs=False\n",
    "\n",
    "fig, axs = draw_dovs_boxplots_with_countplots(\n",
    "    dovs_df=dovs_df_test_tp_fn,\n",
    "    x_col='EQUIP_TYP_NM',\n",
    "    y_col='CMI_NB', \n",
    "    hue='Cnfsn', \n",
    "    order='avg_y TP', \n",
    "    sharex=True, \n",
    "    batch_size=40, \n",
    "    log_y_counts=True\n",
    ")\n",
    "\n",
    "#-------------------------\n",
    "if save_figs:\n",
    "    if not os.path.exists(fig_save_dir):\n",
    "        os.makedirs(fig_save_dir)\n",
    "    Plot_General.save_fig(\n",
    "        fig=fig, \n",
    "        save_dir=fig_save_dir, \n",
    "        save_name=f'{y_col}_vs_{x_col}.png', \n",
    "        bbox_inches='tight'\n",
    "    )"
   ]
  },
  {
   "cell_type": "code",
   "execution_count": null,
   "id": "e15e6078",
   "metadata": {},
   "outputs": [],
   "source": []
  },
  {
   "cell_type": "code",
   "execution_count": null,
   "id": "b5dd1d0f",
   "metadata": {},
   "outputs": [],
   "source": []
  },
  {
   "cell_type": "code",
   "execution_count": null,
   "id": "e7d64303",
   "metadata": {},
   "outputs": [],
   "source": [
    "save_figs=False\n",
    "\n",
    "fig, axs = Plot_General.default_subplots(n_x=2, n_y=2, fig_num=1, return_flattened_axes=True, row_major=True)\n",
    "#-------------------------\n",
    "Plot_Hist.plot_multiple_hists(\n",
    "    ax=axs[0],\n",
    "    dfs_w_args=[\n",
    "        [dovs_df_test_tp, dict(label='TP', color='green')], \n",
    "        [dovs_df_test_fn, dict(label='FN', color='red')]\n",
    "    ],\n",
    "    x_col='CMI_NB', \n",
    "    min_max_and_bin_size=[0, 4e4, 4e4/25], \n",
    "    include_over_underflow=True, \n",
    "    stat='count',\n",
    "    draw_side_by_side=True, \n",
    "    draw_legend=True, \n",
    "    title_args=dict(label='# CMI_NB in Outage (counts)', fontdict=dict(fontweight='semibold', fontsize=16)), \n",
    "    xlabel_args=dict(xlabel='# CMI_NB', loc='center', fontdict=dict(fontsize=16)), \n",
    "    ylabel_args=dict(ylabel='Counts', loc='top', fontdict=dict(fontsize=16))\n",
    ")\n",
    "#-------------------------\n",
    "Plot_Hist.plot_multiple_hists(\n",
    "    ax=axs[1],\n",
    "    dfs_w_args=[\n",
    "        [dovs_df_test_tp, dict(label='TP', color='green')], \n",
    "        [dovs_df_test_fn, dict(label='FN', color='red')]\n",
    "    ],\n",
    "    x_col='CMI_NB', \n",
    "    min_max_and_bin_size=[0, 2e6, 2e6/25], \n",
    "    include_over_underflow=True, \n",
    "    stat='count',\n",
    "    draw_side_by_side=True, \n",
    "    draw_legend=True, \n",
    "    title_args=dict(label='# CMI_NB in Outage (counts)', fontdict=dict(fontweight='semibold', fontsize=16)), \n",
    "    xlabel_args=dict(xlabel='# CMI_NB', loc='center', fontdict=dict(fontsize=16)), \n",
    "    ylabel_args=dict(ylabel='Counts', loc='top', fontdict=dict(fontsize=16))\n",
    ")\n",
    "axs[1].set_yscale('log')\n",
    "#-------------------------\n",
    "Plot_Hist.plot_multiple_hists(\n",
    "    ax=axs[2],\n",
    "    dfs_w_args=[\n",
    "        [dovs_df_test_tp, dict(label='TP', color='green')], \n",
    "        [dovs_df_test_fn, dict(label='FN', color='red')]\n",
    "    ],\n",
    "    x_col='CMI_NB', \n",
    "    min_max_and_bin_size=[0, 4e4, 4e4/25], \n",
    "    include_over_underflow=True, \n",
    "    stat='density', \n",
    "    draw_side_by_side=True, \n",
    "    title_args=dict(label='# CMI_NB in Outage (density)', fontdict=dict(fontweight='semibold', fontsize=16)), \n",
    "    xlabel_args=dict(xlabel='# CMI_NB', loc='center', fontdict=dict(fontsize=16)), \n",
    "    ylabel_args=dict(ylabel='Density', loc='top', fontdict=dict(fontsize=16))\n",
    ")\n",
    "#-------------------------\n",
    "Plot_Hist.plot_multiple_hists(\n",
    "    ax=axs[3],\n",
    "    dfs_w_args=[\n",
    "        [dovs_df_test_tp, dict(label='TP', color='green')], \n",
    "        [dovs_df_test_fn, dict(label='FN', color='red')]\n",
    "    ],\n",
    "    x_col='CMI_NB', \n",
    "    min_max_and_bin_size=[0, 2e6, 2e6/50], \n",
    "    include_over_underflow=True, \n",
    "    stat='density', \n",
    "    draw_side_by_side=True, \n",
    "    title_args=dict(label='# CMI_NB in Outage (density)', fontdict=dict(fontweight='semibold', fontsize=16)), \n",
    "    xlabel_args=dict(xlabel='# CMI_NB', loc='center', fontdict=dict(fontsize=16)), \n",
    "    ylabel_args=dict(ylabel='Density', loc='top', fontdict=dict(fontsize=16))\n",
    ")\n",
    "axs[3].set_yscale('log')\n",
    "#-------------------------\n",
    "if save_figs:\n",
    "    if not os.path.exists(fig_save_dir):\n",
    "        os.makedirs(fig_save_dir)\n",
    "    Plot_General.save_fig(\n",
    "        fig=fig, \n",
    "        save_dir=fig_save_dir, \n",
    "        save_name=f'CMI_NB_hist.png', \n",
    "        bbox_inches='tight'\n",
    "    )"
   ]
  },
  {
   "cell_type": "code",
   "execution_count": null,
   "id": "c7ff1cd2",
   "metadata": {},
   "outputs": [],
   "source": [
    "fig, axs = Plot_General.default_subplots(n_x=2, n_y=2, fig_num=1, return_flattened_axes=True, row_major=True)\n",
    "#-------------------------\n",
    "Plot_Hist.plot_multiple_hists(\n",
    "    ax=axs[0],\n",
    "    dfs_w_args=[\n",
    "        [dovs_df_test_tp, dict(label='TP', color='green')], \n",
    "        [dovs_df_test_fn, dict(label='FN', color='red')]\n",
    "    ],\n",
    "    x_col='CI_NB', \n",
    "    min_max_and_bin_size=[0, 5e2, 5e2/25],\n",
    "    include_over_underflow=True, \n",
    "    stat='count',\n",
    "    draw_side_by_side=True, \n",
    "    draw_legend=True, \n",
    "    title_args=dict(label='# CI_NB in Outage (counts)', fontdict=dict(fontweight='semibold', fontsize=16)), \n",
    "    xlabel_args=dict(xlabel='# CI_NB', loc='center', fontdict=dict(fontsize=16)), \n",
    "    ylabel_args=dict(ylabel='Counts', loc='top', fontdict=dict(fontsize=16))\n",
    ")\n",
    "#-------------------------\n",
    "Plot_Hist.plot_multiple_hists(\n",
    "    ax=axs[1],\n",
    "    dfs_w_args=[\n",
    "        [dovs_df_test_tp, dict(label='TP', color='green')], \n",
    "        [dovs_df_test_fn, dict(label='FN', color='red')]\n",
    "    ],\n",
    "    x_col='CI_NB', \n",
    "    min_max_and_bin_size=[0, 5e3, 5e3/25], \n",
    "    include_over_underflow=True, \n",
    "    stat='count',\n",
    "    draw_side_by_side=True, \n",
    "    draw_legend=True, \n",
    "    title_args=dict(label='# CI_NB in Outage (counts)', fontdict=dict(fontweight='semibold', fontsize=16)), \n",
    "    xlabel_args=dict(xlabel='# CI_NB', loc='center', fontdict=dict(fontsize=16)), \n",
    "    ylabel_args=dict(ylabel='Counts', loc='top', fontdict=dict(fontsize=16))\n",
    ")\n",
    "axs[1].set_yscale('log')\n",
    "#-------------------------\n",
    "Plot_Hist.plot_multiple_hists(\n",
    "    ax=axs[2],\n",
    "    dfs_w_args=[\n",
    "        [dovs_df_test_tp, dict(label='TP', color='green')], \n",
    "        [dovs_df_test_fn, dict(label='FN', color='red')]\n",
    "    ],\n",
    "    x_col='CI_NB', \n",
    "    min_max_and_bin_size=[0, 5e2, 5e2/25],\n",
    "    include_over_underflow=True, \n",
    "    stat='density', \n",
    "    draw_side_by_side=True, \n",
    "    title_args=dict(label='# CI_NB in Outage (density)', fontdict=dict(fontweight='semibold', fontsize=16)), \n",
    "    xlabel_args=dict(xlabel='# CI_NB', loc='center', fontdict=dict(fontsize=16)), \n",
    "    ylabel_args=dict(ylabel='Density', loc='top', fontdict=dict(fontsize=16))\n",
    ")\n",
    "#-------------------------\n",
    "Plot_Hist.plot_multiple_hists(\n",
    "    ax=axs[3],\n",
    "    dfs_w_args=[\n",
    "        [dovs_df_test_tp, dict(label='TP', color='green')], \n",
    "        [dovs_df_test_fn, dict(label='FN', color='red')]\n",
    "    ],\n",
    "    x_col='CI_NB', \n",
    "    min_max_and_bin_size=[0, 5e3, 5e3/25], \n",
    "    include_over_underflow=True, \n",
    "    stat='density', \n",
    "    draw_side_by_side=True, \n",
    "    title_args=dict(label='# CI_NB in Outage (density)', fontdict=dict(fontweight='semibold', fontsize=16)), \n",
    "    xlabel_args=dict(xlabel='# CI_NB', loc='center', fontdict=dict(fontsize=16)), \n",
    "    ylabel_args=dict(ylabel='Density', loc='top', fontdict=dict(fontsize=16))\n",
    ")\n",
    "axs[3].set_yscale('log')\n",
    "#-------------------------\n",
    "if save_figs:\n",
    "    if not os.path.exists(fig_save_dir):\n",
    "        os.makedirs(fig_save_dir)\n",
    "    Plot_General.save_fig(\n",
    "        fig=fig, \n",
    "        save_dir=fig_save_dir, \n",
    "        save_name=f'CI_NB_hist.png', \n",
    "        bbox_inches='tight'\n",
    "    )"
   ]
  },
  {
   "cell_type": "code",
   "execution_count": null,
   "id": "661c6e84",
   "metadata": {},
   "outputs": [],
   "source": []
  },
  {
   "cell_type": "code",
   "execution_count": null,
   "id": "647107df",
   "metadata": {},
   "outputs": [],
   "source": [
    "fig, axs = Plot_General.default_subplots(n_x=2, n_y=2, fig_num=1, return_flattened_axes=True, row_major=True)\n",
    "#-------------------------\n",
    "Plot_Hist.plot_multiple_hists(\n",
    "    ax=axs[0],\n",
    "    dfs_w_args=[\n",
    "        [dovs_df_test_tp, dict(label='TP', color='green')], \n",
    "        [dovs_df_test_fn, dict(label='FN', color='red')]\n",
    "    ],\n",
    "    x_col='STEP_DRTN_NB', \n",
    "    min_max_and_bin_size=[0, 5e2, 5e2/25],\n",
    "    include_over_underflow=True, \n",
    "    stat='count',\n",
    "    draw_side_by_side=True, \n",
    "    draw_legend=True, \n",
    "    title_args=dict(label='# STEP_DRTN_NB in Outage (counts)', fontdict=dict(fontweight='semibold', fontsize=16)), \n",
    "    xlabel_args=dict(xlabel='# STEP_DRTN_NB', loc='center', fontdict=dict(fontsize=16)), \n",
    "    ylabel_args=dict(ylabel='Counts', loc='top', fontdict=dict(fontsize=16))\n",
    ")\n",
    "#-------------------------\n",
    "Plot_Hist.plot_multiple_hists(\n",
    "    ax=axs[1],\n",
    "    dfs_w_args=[\n",
    "        [dovs_df_test_tp, dict(label='TP', color='green')], \n",
    "        [dovs_df_test_fn, dict(label='FN', color='red')]\n",
    "    ],\n",
    "    x_col='STEP_DRTN_NB', \n",
    "    min_max_and_bin_size=[0, 5e3, 5e3/25], \n",
    "    include_over_underflow=True, \n",
    "    stat='count',\n",
    "    draw_side_by_side=True, \n",
    "    draw_legend=True, \n",
    "    title_args=dict(label='# STEP_DRTN_NB in Outage (counts)', fontdict=dict(fontweight='semibold', fontsize=16)), \n",
    "    xlabel_args=dict(xlabel='# STEP_DRTN_NB', loc='center', fontdict=dict(fontsize=16)), \n",
    "    ylabel_args=dict(ylabel='Counts', loc='top', fontdict=dict(fontsize=16))\n",
    ")\n",
    "axs[1].set_yscale('log')\n",
    "#-------------------------\n",
    "Plot_Hist.plot_multiple_hists(\n",
    "    ax=axs[2],\n",
    "    dfs_w_args=[\n",
    "        [dovs_df_test_tp, dict(label='TP', color='green')], \n",
    "        [dovs_df_test_fn, dict(label='FN', color='red')]\n",
    "    ],\n",
    "    x_col='STEP_DRTN_NB', \n",
    "    min_max_and_bin_size=[0, 5e2, 5e2/25],\n",
    "    include_over_underflow=True, \n",
    "    stat='density', \n",
    "    draw_side_by_side=True, \n",
    "    title_args=dict(label='# STEP_DRTN_NB in Outage (density)', fontdict=dict(fontweight='semibold', fontsize=16)), \n",
    "    xlabel_args=dict(xlabel='# STEP_DRTN_NB', loc='center', fontdict=dict(fontsize=16)), \n",
    "    ylabel_args=dict(ylabel='Density', loc='top', fontdict=dict(fontsize=16))\n",
    ")\n",
    "#-------------------------\n",
    "Plot_Hist.plot_multiple_hists(\n",
    "    ax=axs[3],\n",
    "    dfs_w_args=[\n",
    "        [dovs_df_test_tp, dict(label='TP', color='green')], \n",
    "        [dovs_df_test_fn, dict(label='FN', color='red')]\n",
    "    ],\n",
    "    x_col='STEP_DRTN_NB', \n",
    "    min_max_and_bin_size=[0, 5e3, 5e3/25], \n",
    "    include_over_underflow=True, \n",
    "    stat='density', \n",
    "    draw_side_by_side=True, \n",
    "    title_args=dict(label='# STEP_DRTN_NB in Outage (density)', fontdict=dict(fontweight='semibold', fontsize=16)), \n",
    "    xlabel_args=dict(xlabel='# STEP_DRTN_NB', loc='center', fontdict=dict(fontsize=16)), \n",
    "    ylabel_args=dict(ylabel='Density', loc='top', fontdict=dict(fontsize=16))\n",
    ")\n",
    "axs[3].set_yscale('log')\n",
    "#-------------------------\n",
    "if save_figs:\n",
    "    if not os.path.exists(fig_save_dir):\n",
    "        os.makedirs(fig_save_dir)\n",
    "    Plot_General.save_fig(\n",
    "        fig=fig, \n",
    "        save_dir=fig_save_dir, \n",
    "        save_name=f'STEP_DRTN_NB_hist.png', \n",
    "        bbox_inches='tight'\n",
    "    )"
   ]
  },
  {
   "cell_type": "code",
   "execution_count": null,
   "id": "dd441fe7",
   "metadata": {},
   "outputs": [],
   "source": [
    "fig, axs = Plot_General.default_subplots(n_x=2, n_y=2, fig_num=1, return_flattened_axes=True, row_major=True)\n",
    "#-------------------------\n",
    "Plot_Hist.plot_multiple_hists(\n",
    "    ax=axs[0],\n",
    "    dfs_w_args=[\n",
    "        [dovs_df_test_tp, dict(label='TP', color='green')], \n",
    "        [dovs_df_test_fn, dict(label='FN', color='red')], \n",
    "        [dovs_df_test_tp_fn, dict(label='TP+FN', color='yellow')]\n",
    "    ],\n",
    "    x_col='STEP_DRTN_NB', \n",
    "    min_max_and_bin_size=[0, 5e2, 5e2/25],\n",
    "    include_over_underflow=True, \n",
    "    stat='count',\n",
    "    draw_side_by_side=True, \n",
    "    draw_legend=True, \n",
    "    title_args=dict(label='# STEP_DRTN_NB in Outage (counts)', fontdict=dict(fontweight='semibold', fontsize=16)), \n",
    "    xlabel_args=dict(xlabel='# STEP_DRTN_NB', loc='center', fontdict=dict(fontsize=16)), \n",
    "    ylabel_args=dict(ylabel='Counts', loc='top', fontdict=dict(fontsize=16))\n",
    ")\n",
    "#-------------------------\n",
    "Plot_Hist.plot_multiple_hists(\n",
    "    ax=axs[1],\n",
    "    dfs_w_args=[\n",
    "        [dovs_df_test_tp, dict(label='TP', color='green')], \n",
    "        [dovs_df_test_fn, dict(label='FN', color='red')], \n",
    "        [dovs_df_test_tp_fn, dict(label='TP+FN', color='yellow')]\n",
    "    ],\n",
    "    x_col='STEP_DRTN_NB', \n",
    "    min_max_and_bin_size=[0, 5e3, 5e3/25], \n",
    "    include_over_underflow=True, \n",
    "    stat='count',\n",
    "    draw_side_by_side=True, \n",
    "    draw_legend=True, \n",
    "    title_args=dict(label='# STEP_DRTN_NB in Outage (counts)', fontdict=dict(fontweight='semibold', fontsize=16)), \n",
    "    xlabel_args=dict(xlabel='# STEP_DRTN_NB', loc='center', fontdict=dict(fontsize=16)), \n",
    "    ylabel_args=dict(ylabel='Counts', loc='top', fontdict=dict(fontsize=16))\n",
    ")\n",
    "axs[1].set_yscale('log')\n",
    "#-------------------------\n",
    "Plot_Hist.plot_multiple_hists(\n",
    "    ax=axs[2],\n",
    "    dfs_w_args=[\n",
    "        [dovs_df_test_tp, dict(label='TP', color='green')], \n",
    "        [dovs_df_test_fn, dict(label='FN', color='red')], \n",
    "        [dovs_df_test_tp_fn, dict(label='TP+FN', color='yellow')]\n",
    "    ],\n",
    "    x_col='STEP_DRTN_NB', \n",
    "    min_max_and_bin_size=[0, 5e2, 5e2/25],\n",
    "    include_over_underflow=True, \n",
    "    stat='density', \n",
    "    draw_side_by_side=True, \n",
    "    title_args=dict(label='# STEP_DRTN_NB in Outage (density)', fontdict=dict(fontweight='semibold', fontsize=16)), \n",
    "    xlabel_args=dict(xlabel='# STEP_DRTN_NB', loc='center', fontdict=dict(fontsize=16)), \n",
    "    ylabel_args=dict(ylabel='Density', loc='top', fontdict=dict(fontsize=16))\n",
    ")\n",
    "#-------------------------\n",
    "Plot_Hist.plot_multiple_hists(\n",
    "    ax=axs[3],\n",
    "    dfs_w_args=[\n",
    "        [dovs_df_test_tp, dict(label='TP', color='green')], \n",
    "        [dovs_df_test_fn, dict(label='FN', color='red')], \n",
    "        [dovs_df_test_tp_fn, dict(label='TP+FN', color='yellow')]\n",
    "    ],\n",
    "    x_col='STEP_DRTN_NB', \n",
    "    min_max_and_bin_size=[0, 5e3, 5e3/25], \n",
    "    include_over_underflow=True, \n",
    "    stat='density', \n",
    "    draw_side_by_side=True, \n",
    "    title_args=dict(label='# STEP_DRTN_NB in Outage (density)', fontdict=dict(fontweight='semibold', fontsize=16)), \n",
    "    xlabel_args=dict(xlabel='# STEP_DRTN_NB', loc='center', fontdict=dict(fontsize=16)), \n",
    "    ylabel_args=dict(ylabel='Density', loc='top', fontdict=dict(fontsize=16))\n",
    ")\n",
    "axs[3].set_yscale('log')"
   ]
  },
  {
   "cell_type": "code",
   "execution_count": null,
   "id": "5a51ef9f",
   "metadata": {},
   "outputs": [],
   "source": []
  },
  {
   "cell_type": "code",
   "execution_count": null,
   "id": "a1f2da6a",
   "metadata": {},
   "outputs": [],
   "source": []
  },
  {
   "cell_type": "code",
   "execution_count": null,
   "id": "1ca3c6ab",
   "metadata": {},
   "outputs": [],
   "source": [
    "fig, axs = Plot_General.default_subplots(n_x=1, n_y=1, fig_num=1)\n",
    "Plot_Hist.plot_multiple_hists(\n",
    "    ax=axs,\n",
    "    dfs_w_args=[\n",
    "        [dovs_df_test_tp, dict(label='TP', color='green')], \n",
    "        [dovs_df_test_fn, dict(label='FN', color='red')]\n",
    "    ], \n",
    "    x_col='n_xfmrs_in_outg', \n",
    "    min_max_and_bin_size=[0, 50, 50/10], \n",
    "    include_over_underflow=True, \n",
    "    stat='count',\n",
    "    draw_side_by_side=True, \n",
    "    draw_legend=True, \n",
    "    title_args=dict(label='# Transformers in Outage (counts)', fontdict=dict(fontweight='semibold', fontsize=16)), \n",
    "    xlabel_args=dict(xlabel='# Transformers', loc='right', fontdict=dict(fontsize=16)), \n",
    "    ylabel_args=dict(ylabel='Counts', loc='top', fontdict=dict(fontsize=16))\n",
    ")"
   ]
  },
  {
   "cell_type": "code",
   "execution_count": null,
   "id": "7a294e79",
   "metadata": {},
   "outputs": [],
   "source": [
    "fig, axs = Plot_General.default_subplots(n_x=1, n_y=1, fig_num=1)\n",
    "Plot_Hist.plot_multiple_hists(\n",
    "    ax=axs,\n",
    "    dfs_w_args=[\n",
    "        [dovs_df_test_tp, dict(label='TP', color='green')], \n",
    "        [dovs_df_test_fn, dict(label='FN', color='red')]\n",
    "    ],\n",
    "    x_col='n_xfmrs_in_outg', \n",
    "    min_max_and_bin_size=[0, 50, 50/10], \n",
    "    include_over_underflow=True, \n",
    "    stat='density',\n",
    "    draw_side_by_side=True, \n",
    "    draw_legend=True, \n",
    "    title_args=dict(label='# Transformers in Outage (density)', fontdict=dict(fontweight='semibold', fontsize=16)), \n",
    "    xlabel_args=dict(xlabel='# Transformers', loc='right', fontdict=dict(fontsize=16)), \n",
    "    ylabel_args=dict(ylabel='Density', loc='top', fontdict=dict(fontsize=16))\n",
    ")"
   ]
  },
  {
   "cell_type": "code",
   "execution_count": null,
   "id": "8ebbd05c",
   "metadata": {},
   "outputs": [],
   "source": [
    "fig, axs = Plot_General.default_subplots(n_x=1, n_y=2, fig_num=1, return_flattened_axes=True, row_major=True)\n",
    "#-------------------------\n",
    "Plot_Hist.plot_multiple_hists(\n",
    "    ax=axs[0],\n",
    "    dfs_w_args=[\n",
    "        [dovs_df_test_tp, dict(label='TP', color='green')], \n",
    "        [dovs_df_test_fn, dict(label='FN', color='red')]\n",
    "    ],\n",
    "    x_col='n_xfmrs_in_outg', \n",
    "    min_max_and_bin_size=[0, 50, 50/25], \n",
    "    include_over_underflow=True, \n",
    "    stat='count',\n",
    "    draw_side_by_side=True, \n",
    "    draw_legend=True, \n",
    "    title_args=dict(label='# Transformers in Outage (counts)', fontdict=dict(fontweight='semibold', fontsize=16)), \n",
    "    xlabel_args=dict(xlabel='# Transformers', loc='right', fontdict=dict(fontsize=16)), \n",
    "    ylabel_args=dict(ylabel='Counts', loc='top', fontdict=dict(fontsize=16))\n",
    ")\n",
    "#-------------------------\n",
    "Plot_Hist.plot_multiple_hists(\n",
    "    ax=axs[1],\n",
    "    dfs_w_args=[\n",
    "        [dovs_df_test_tp, dict(label='TP', color='green')], \n",
    "        [dovs_df_test_fn, dict(label='FN', color='red')]\n",
    "    ],\n",
    "    x_col='n_xfmrs_in_outg', \n",
    "    min_max_and_bin_size=[0, 50, 50/25], \n",
    "    include_over_underflow=True, \n",
    "    stat='density',\n",
    "    draw_side_by_side=True, \n",
    "    draw_legend=True, \n",
    "    title_args=dict(label='# Transformers in Outage (density)', fontdict=dict(fontweight='semibold', fontsize=16)), \n",
    "    xlabel_args=dict(xlabel='# Transformers', loc='right', fontdict=dict(fontsize=16)), \n",
    "    ylabel_args=dict(ylabel='Density', loc='top', fontdict=dict(fontsize=16))\n",
    ")\n",
    "#-------------------------\n",
    "if save_figs:\n",
    "    if not os.path.exists(fig_save_dir):\n",
    "        os.makedirs(fig_save_dir)\n",
    "    Plot_General.save_fig(\n",
    "        fig=fig, \n",
    "        save_dir=fig_save_dir, \n",
    "        save_name=f'n_xfmrs_in_outg_hist.png', \n",
    "        bbox_inches='tight'\n",
    "    )"
   ]
  },
  {
   "cell_type": "code",
   "execution_count": null,
   "id": "a0dda4ba",
   "metadata": {},
   "outputs": [],
   "source": []
  },
  {
   "cell_type": "code",
   "execution_count": null,
   "id": "dd0499e2",
   "metadata": {},
   "outputs": [],
   "source": []
  },
  {
   "cell_type": "code",
   "execution_count": null,
   "id": "004c028b",
   "metadata": {},
   "outputs": [],
   "source": []
  },
  {
   "cell_type": "code",
   "execution_count": null,
   "id": "00d5a9ca",
   "metadata": {},
   "outputs": [],
   "source": []
  },
  {
   "cell_type": "code",
   "execution_count": null,
   "id": "27ff069b",
   "metadata": {},
   "outputs": [],
   "source": []
  },
  {
   "cell_type": "markdown",
   "id": "fd7d763b",
   "metadata": {},
   "source": [
    "# EEMSP Plots"
   ]
  },
  {
   "cell_type": "code",
   "execution_count": null,
   "id": "ba34a7df",
   "metadata": {},
   "outputs": [],
   "source": [
    "full_data_df_test.head()"
   ]
  },
  {
   "cell_type": "code",
   "execution_count": null,
   "id": "7a8a0f9e",
   "metadata": {},
   "outputs": [],
   "source": [
    "df_eemsp_OG = pd.read_pickle(os.path.join(save_dir_model_base, 'df_eemsp_OG.pkl'))"
   ]
  },
  {
   "cell_type": "code",
   "execution_count": null,
   "id": "4542cc55",
   "metadata": {},
   "outputs": [],
   "source": [
    "df_eemsp = df_eemsp_OG.copy()\n",
    "print(df_eemsp.shape)\n",
    "print(df_eemsp.columns)"
   ]
  },
  {
   "cell_type": "code",
   "execution_count": null,
   "id": "e4d1234b",
   "metadata": {},
   "outputs": [],
   "source": [
    "# TODO!!!!!!!!!!!!!!!!!!!!!!!!!!!!\n",
    "# Currently, simply taking the first entry wrt LOCATION_NB\n",
    "df_eemsp = df_eemsp.sort_values(by=['LOCATION_NB', 'INSTALL_DT'], ignore_index=True)\n",
    "df_eemsp = df_eemsp.groupby('LOCATION_NB', as_index=False).first()"
   ]
  },
  {
   "cell_type": "code",
   "execution_count": null,
   "id": "a8acee67",
   "metadata": {},
   "outputs": [],
   "source": [
    "cols_of_interest_eemsp = [\n",
    "    'LOCATION_NB', \n",
    "    'MFGR_NM', \n",
    "    'INSTALL_DT', \n",
    "    'LAST_TRANS_DESC', \n",
    "    'EQTYPE_ID', \n",
    "    'COOLANT', \n",
    "    'INFO', \n",
    "    'KVA_SIZE',\n",
    "    'PHASE_CNT', \n",
    "    'PRIM_VOLTAGE', \n",
    "    'PROTECTION', \n",
    "    'PRU_NUMBER', \n",
    "    'SEC_VOLTAGE', \n",
    "    'SPECIAL_CHAR', \n",
    "    'TAPS', \n",
    "    'XFTYPE'\n",
    "]\n",
    "# df_eemsp=df_eemsp[df_eemsp['REMOVAL_DT'].isna()]\n",
    "df_eemsp=df_eemsp[cols_of_interest_eemsp]"
   ]
  },
  {
   "cell_type": "code",
   "execution_count": null,
   "id": "845c2ff4",
   "metadata": {},
   "outputs": [],
   "source": [
    "print(f\"full_data_df_test_i.shape = {full_data_df_test_i.shape}\")\n",
    "#-------------------------\n",
    "df_eemsp = Utilities_df.prepend_level_to_MultiIndex(df_eemsp, level_val='EEMSP', axis=1)\n",
    "#-------------------------\n",
    "full_data_df_test_i = pd.merge(\n",
    "    full_data_df_test_i, \n",
    "    df_eemsp.set_index(('EEMSP', 'LOCATION_NB')), \n",
    "    left_on=full_data_df_test_i.index.get_level_values(1), \n",
    "    right_index=True, \n",
    "    how='inner'\n",
    ")\n",
    "#-------------------------\n",
    "print(f\"full_data_df_test_i.shape = {full_data_df_test_i.shape}\")"
   ]
  },
  {
   "cell_type": "code",
   "execution_count": null,
   "id": "07ed7349",
   "metadata": {},
   "outputs": [],
   "source": [
    "full_data_df_test_i[['is_outg', 'y_pred', 'EEMSP']]"
   ]
  },
  {
   "cell_type": "code",
   "execution_count": null,
   "id": "b7d8e024",
   "metadata": {},
   "outputs": [],
   "source": [
    "eemsp_df_test = full_data_df_test_i[['is_outg', 'y_pred', 'EEMSP']].copy()"
   ]
  },
  {
   "cell_type": "code",
   "execution_count": null,
   "id": "3d9a983d",
   "metadata": {},
   "outputs": [],
   "source": [
    "eemsp_df_test[('res_type', 'res_type')]=''"
   ]
  },
  {
   "cell_type": "code",
   "execution_count": null,
   "id": "878a07f0",
   "metadata": {},
   "outputs": [],
   "source": [
    "eemsp_df_test.loc[\n",
    "    (eemsp_df_test[('is_outg', 'is_outg')]==1) & \n",
    "    (eemsp_df_test[('y_pred', 'y_pred')]==1),\n",
    "    ('res_type', 'res_type')\n",
    "] = 'TP'\n",
    "#-----\n",
    "eemsp_df_test.loc[\n",
    "    (eemsp_df_test[('is_outg', 'is_outg')]==0) & \n",
    "    (eemsp_df_test[('y_pred', 'y_pred')]==0),\n",
    "    ('res_type', 'res_type')\n",
    "] = 'TN'\n",
    "#-----\n",
    "eemsp_df_test.loc[\n",
    "    (eemsp_df_test[('is_outg', 'is_outg')]==0) & \n",
    "    (eemsp_df_test[('y_pred', 'y_pred')]==1),\n",
    "    ('res_type', 'res_type')\n",
    "] = 'FP'\n",
    "#-----\n",
    "eemsp_df_test.loc[\n",
    "    (eemsp_df_test[('is_outg', 'is_outg')]==1) & \n",
    "    (eemsp_df_test[('y_pred', 'y_pred')]==0),\n",
    "    ('res_type', 'res_type')\n",
    "] = 'FN'\n",
    "#-----"
   ]
  },
  {
   "cell_type": "code",
   "execution_count": null,
   "id": "733d3f77",
   "metadata": {},
   "outputs": [],
   "source": [
    "eemsp_df_test = eemsp_df_test[['EEMSP', 'res_type', 'is_outg']].copy()\n",
    "eemsp_df_test.columns = eemsp_df_test.columns.droplevel(0)"
   ]
  },
  {
   "cell_type": "code",
   "execution_count": null,
   "id": "b8e5c274",
   "metadata": {},
   "outputs": [],
   "source": [
    "#!!!!!!!!!!!!!!!!!!!!!!!!!!!!!!!!!!!!!!!!!!!!!!!!!!!!!!!!!!!!!!!!!!!!!!!!!!!\n",
    "# NOTE: In general, there will be duplicate entries for transformers!\n",
    "#       One could remove the duplicates via, e.g., \n",
    "#         dev_eemsp_df_test.reset_index().drop(columns=['outg_rec_nb']).drop_duplicates()\n",
    "#       However, duplicates would still remain due to a trsf_pole_nb having various res_types\n",
    "#         (e.g., TP, FN, TN, FP)"
   ]
  },
  {
   "cell_type": "code",
   "execution_count": null,
   "id": "6766a297",
   "metadata": {},
   "outputs": [],
   "source": []
  },
  {
   "cell_type": "code",
   "execution_count": null,
   "id": "91ca5100",
   "metadata": {},
   "outputs": [],
   "source": [
    "eemsp_df_test"
   ]
  },
  {
   "cell_type": "code",
   "execution_count": null,
   "id": "ee4a4f6e",
   "metadata": {},
   "outputs": [],
   "source": [
    "eemsp_df_test.columns"
   ]
  },
  {
   "cell_type": "code",
   "execution_count": null,
   "id": "e9728109",
   "metadata": {},
   "outputs": [],
   "source": [
    "x_col = 'KVA_SIZE'\n",
    "\n",
    "fig, axs = Plot_General.default_subplots(n_x=1, n_y=1, fig_num=1)\n",
    "#-------------------------\n",
    "sns.countplot(\n",
    "    ax=axs, \n",
    "    data=eemsp_df_test,\n",
    "    x=x_col, \n",
    "    hue='res_type', \n",
    "#     order=order[idx_0:idx_1], \n",
    "#     palette=dict(TP='green', FN='red')\n",
    "    hue_order=['TP', 'FN', 'TN', 'FP']\n",
    ")\n",
    "Plot_General.set_general_plotting_args(\n",
    "    axs, \n",
    "    draw_legend=True, \n",
    "    legend_args=dict(loc='upper right', fontsize=20), \n",
    "    title_args=dict(label=f'{x_col} for Result Types', fontdict=dict(fontweight='semibold', fontsize=16)), \n",
    "    xlabel_args=dict(xlabel=x_col, loc='right', fontdict=dict(fontsize=16)), \n",
    "    ylabel_args=dict(ylabel='Counts', loc='top', fontdict=dict(fontsize=16)), \n",
    "    tick_args=dict(axis='x', labelrotation=90)\n",
    ")"
   ]
  },
  {
   "cell_type": "code",
   "execution_count": null,
   "id": "ae21aea0",
   "metadata": {},
   "outputs": [],
   "source": [
    "x_col = 'KVA_SIZE'\n",
    "\n",
    "fig, axs = Plot_General.default_subplots(n_x=1, n_y=1, fig_num=1)\n",
    "#-------------------------\n",
    "sns.countplot(\n",
    "    ax=axs, \n",
    "    data=eemsp_df_test,\n",
    "    x=x_col, \n",
    "    hue='is_outg', \n",
    "#     order=order[idx_0:idx_1], \n",
    "#     palette=dict(TP='green', FN='red')\n",
    "#     hue_order=['TP', 'FN', 'TN', 'FP']\n",
    ")\n",
    "Plot_General.set_general_plotting_args(\n",
    "    axs, \n",
    "    draw_legend=True, \n",
    "    legend_args=dict(loc='upper right', fontsize=20), \n",
    "    title_args=dict(label=f'{x_col} for Result Types', fontdict=dict(fontweight='semibold', fontsize=16)), \n",
    "    xlabel_args=dict(xlabel=x_col, loc='right', fontdict=dict(fontsize=16)), \n",
    "    ylabel_args=dict(ylabel='Counts', loc='top', fontdict=dict(fontsize=16)), \n",
    "    tick_args=dict(axis='x', labelrotation=90)\n",
    ")"
   ]
  },
  {
   "cell_type": "code",
   "execution_count": null,
   "id": "b0611503",
   "metadata": {},
   "outputs": [],
   "source": []
  },
  {
   "cell_type": "code",
   "execution_count": null,
   "id": "79e7be97",
   "metadata": {},
   "outputs": [],
   "source": []
  },
  {
   "cell_type": "code",
   "execution_count": null,
   "id": "2f79cf2e",
   "metadata": {},
   "outputs": [],
   "source": [
    "fig, axs = Plot_General.default_subplots(n_x=1, n_y=1, fig_num=1)\n",
    "eemsp_df_test.groupby('res_type')['KVA_SIZE'].value_counts(normalize=True).rename('Whatev').reset_index().pipe((sns.barplot,'data'), x='KVA_SIZE',y='Whatev',hue='res_type',hue_order=['TP', 'FN', 'TN', 'FP'], ax=axs)"
   ]
  },
  {
   "cell_type": "code",
   "execution_count": null,
   "id": "ef9e002b",
   "metadata": {},
   "outputs": [],
   "source": [
    "fig, axs = Plot_General.default_subplots(n_x=1, n_y=1, fig_num=1)\n",
    "eemsp_df_test.groupby('res_type')['KVA_SIZE'].value_counts(normalize=False).rename('Whatev').reset_index().pipe((sns.barplot,'data'), x='KVA_SIZE',y='Whatev',hue='res_type',hue_order=['TP', 'FN', 'TN', 'FP'], ax=axs)"
   ]
  },
  {
   "cell_type": "code",
   "execution_count": null,
   "id": "066dcc05",
   "metadata": {},
   "outputs": [],
   "source": []
  },
  {
   "cell_type": "code",
   "execution_count": null,
   "id": "5a241f5b",
   "metadata": {},
   "outputs": [],
   "source": [
    "fig, axs = Plot_General.default_subplots(n_x=1, n_y=1, fig_num=1)\n",
    "eemsp_df_test.groupby('res_type')['MFGR_NM'].value_counts(normalize=True).rename('Whatev').reset_index().pipe((sns.barplot,'data'), x='MFGR_NM',y='Whatev',hue='res_type',hue_order=['TP', 'FN', 'TN', 'FP'], ax=axs)"
   ]
  },
  {
   "cell_type": "code",
   "execution_count": null,
   "id": "016f7de1",
   "metadata": {},
   "outputs": [],
   "source": [
    "fig, axs = Plot_General.default_subplots(n_x=1, n_y=1, fig_num=1)\n",
    "eemsp_df_test.groupby('res_type')['MFGR_NM'].value_counts(normalize=False).rename('Whatev').reset_index().pipe((sns.barplot,'data'), x='MFGR_NM',y='Whatev',hue='res_type',hue_order=['TP', 'FN', 'TN', 'FP'], ax=axs)"
   ]
  },
  {
   "cell_type": "code",
   "execution_count": null,
   "id": "4f570812",
   "metadata": {},
   "outputs": [],
   "source": []
  },
  {
   "cell_type": "code",
   "execution_count": null,
   "id": "9facc242",
   "metadata": {},
   "outputs": [],
   "source": [
    "eemsp_df_test.head()"
   ]
  },
  {
   "cell_type": "code",
   "execution_count": null,
   "id": "a906526a",
   "metadata": {},
   "outputs": [],
   "source": [
    "eemsp_df_test.columns"
   ]
  },
  {
   "cell_type": "code",
   "execution_count": null,
   "id": "ce00b948",
   "metadata": {},
   "outputs": [],
   "source": [
    "# eemsp_df_test['INSTALL_DT'].dt.strftime('%Y-%m')\n",
    "eemsp_df_test['INSTALL_YEAR'] = eemsp_df_test['INSTALL_DT'].dt.year"
   ]
  },
  {
   "cell_type": "code",
   "execution_count": null,
   "id": "313e63d8",
   "metadata": {},
   "outputs": [],
   "source": [
    "x_col = 'MFGR_NM'\n",
    "\n",
    "fig, axs = Plot_General.default_subplots(n_x=1, n_y=1, fig_num=1)\n",
    "#-------------------------\n",
    "sns.countplot(\n",
    "    ax=axs, \n",
    "    data=eemsp_df_test,\n",
    "    x=x_col, \n",
    "    hue='is_outg', \n",
    "#     order=order[idx_0:idx_1], \n",
    "#     palette=dict(TP='green', FN='red')\n",
    "#     hue_order=['TP', 'FN', 'TN', 'FP']\n",
    ")\n",
    "Plot_General.set_general_plotting_args(\n",
    "    axs, \n",
    "    draw_legend=True, \n",
    "    legend_args=dict(loc='upper right', fontsize=20), \n",
    "    title_args=dict(label=f'{x_col} for Result Types', fontdict=dict(fontweight='semibold', fontsize=16)), \n",
    "    xlabel_args=dict(xlabel=x_col, loc='right', fontdict=dict(fontsize=16)), \n",
    "    ylabel_args=dict(ylabel='Counts', loc='top', fontdict=dict(fontsize=16)), \n",
    "    tick_args=dict(axis='x', labelrotation=90)\n",
    ")"
   ]
  },
  {
   "cell_type": "code",
   "execution_count": null,
   "id": "849e48df",
   "metadata": {},
   "outputs": [],
   "source": [
    "# x_col = 'INSTALL_DT'\n",
    "\n",
    "# fig, axs = Plot_General.default_subplots(n_x=1, n_y=1, fig_num=1)\n",
    "# #-------------------------\n",
    "# sns.countplot(\n",
    "#     ax=axs, \n",
    "#     data=eemsp_df_test,\n",
    "#     x=x_col, \n",
    "#     hue='is_outg', \n",
    "# #     order=order[idx_0:idx_1], \n",
    "# #     palette=dict(TP='green', FN='red')\n",
    "# #     hue_order=['TP', 'FN', 'TN', 'FP']\n",
    "# )\n",
    "# Plot_General.set_general_plotting_args(\n",
    "#     axs, \n",
    "#     draw_legend=True, \n",
    "#     legend_args=dict(loc='upper right', fontsize=20), \n",
    "#     title_args=dict(label=f'{x_col} for Result Types', fontdict=dict(fontweight='semibold', fontsize=16)), \n",
    "#     xlabel_args=dict(xlabel=x_col, loc='right', fontdict=dict(fontsize=16)), \n",
    "#     ylabel_args=dict(ylabel='Counts', loc='top', fontdict=dict(fontsize=16)), \n",
    "#     tick_args=dict(axis='x', labelrotation=90)\n",
    "# )"
   ]
  },
  {
   "cell_type": "code",
   "execution_count": null,
   "id": "fdba2a95",
   "metadata": {},
   "outputs": [],
   "source": [
    "x_col = 'INSTALL_YEAR'\n",
    "\n",
    "fig, axs = Plot_General.default_subplots(n_x=1, n_y=1, fig_num=1)\n",
    "#-------------------------\n",
    "sns.countplot(\n",
    "    ax=axs, \n",
    "    data=eemsp_df_test,\n",
    "    x=x_col, \n",
    "    hue='is_outg', \n",
    "#     order=order[idx_0:idx_1], \n",
    "#     palette=dict(TP='green', FN='red')\n",
    "#     hue_order=['TP', 'FN', 'TN', 'FP']\n",
    ")\n",
    "Plot_General.set_general_plotting_args(\n",
    "    axs, \n",
    "    draw_legend=True, \n",
    "    legend_args=dict(loc='upper right', fontsize=20), \n",
    "    title_args=dict(label=f'{x_col} for Result Types', fontdict=dict(fontweight='semibold', fontsize=16)), \n",
    "    xlabel_args=dict(xlabel=x_col, loc='right', fontdict=dict(fontsize=16)), \n",
    "    ylabel_args=dict(ylabel='Counts', loc='top', fontdict=dict(fontsize=16)), \n",
    "    tick_args=dict(axis='x', labelrotation=90)\n",
    ")"
   ]
  },
  {
   "cell_type": "code",
   "execution_count": null,
   "id": "694eb0c2",
   "metadata": {},
   "outputs": [],
   "source": [
    "x_col = 'INSTALL_YEAR'\n",
    "\n",
    "fig, axs = Plot_General.default_subplots(n_x=1, n_y=1, fig_num=1)\n",
    "#-------------------------\n",
    "sns.countplot(\n",
    "    ax=axs, \n",
    "    data=eemsp_df_test,\n",
    "    x=x_col, \n",
    "    hue='is_outg', \n",
    "#     order=order[idx_0:idx_1], \n",
    "#     palette=dict(TP='green', FN='red')\n",
    "#     hue_order=['TP', 'FN', 'TN', 'FP']\n",
    ")\n",
    "Plot_General.set_general_plotting_args(\n",
    "    axs, \n",
    "    draw_legend=True, \n",
    "    legend_args=dict(loc='upper right', fontsize=20), \n",
    "    title_args=dict(label=f'{x_col} for Result Types', fontdict=dict(fontweight='semibold', fontsize=16)), \n",
    "    xlabel_args=dict(xlabel=x_col, loc='right', fontdict=dict(fontsize=16)), \n",
    "    ylabel_args=dict(ylabel='Counts', loc='top', fontdict=dict(fontsize=16)), \n",
    "    tick_args=dict(axis='x', labelrotation=90)\n",
    ")\n",
    "axs.set_yscale('log')"
   ]
  },
  {
   "cell_type": "code",
   "execution_count": null,
   "id": "2b389e60",
   "metadata": {},
   "outputs": [],
   "source": []
  },
  {
   "cell_type": "code",
   "execution_count": null,
   "id": "423c8cfe",
   "metadata": {},
   "outputs": [],
   "source": [
    "# x_col = 'EQTYPE_ID'\n",
    "\n",
    "# fig, axs = Plot_General.default_subplots(n_x=1, n_y=1, fig_num=1)\n",
    "# #-------------------------\n",
    "# sns.countplot(\n",
    "#     ax=axs, \n",
    "#     data=eemsp_df_test,\n",
    "#     x=x_col, \n",
    "#     hue='is_outg', \n",
    "# #     order=order[idx_0:idx_1], \n",
    "# #     palette=dict(TP='green', FN='red')\n",
    "# #     hue_order=['TP', 'FN', 'TN', 'FP']\n",
    "# )\n",
    "# Plot_General.set_general_plotting_args(\n",
    "#     axs, \n",
    "#     draw_legend=True, \n",
    "#     legend_args=dict(loc='upper right', fontsize=20), \n",
    "#     title_args=dict(label=f'{x_col} for Result Types', fontdict=dict(fontweight='semibold', fontsize=16)), \n",
    "#     xlabel_args=dict(xlabel=x_col, loc='right', fontdict=dict(fontsize=16)), \n",
    "#     ylabel_args=dict(ylabel='Counts', loc='top', fontdict=dict(fontsize=16)), \n",
    "#     tick_args=dict(axis='x', labelrotation=90)\n",
    "# )\n",
    "# axs.set_yscale('log')"
   ]
  },
  {
   "cell_type": "code",
   "execution_count": null,
   "id": "2475f6ae",
   "metadata": {},
   "outputs": [],
   "source": [
    "x_col = 'XFTYPE'\n",
    "\n",
    "fig, axs = Plot_General.default_subplots(n_x=1, n_y=1, fig_num=1)\n",
    "#-------------------------\n",
    "sns.countplot(\n",
    "    ax=axs, \n",
    "    data=eemsp_df_test,\n",
    "    x=x_col, \n",
    "    hue='is_outg', \n",
    "#     order=order[idx_0:idx_1], \n",
    "#     palette=dict(TP='green', FN='red')\n",
    "#     hue_order=['TP', 'FN', 'TN', 'FP']\n",
    ")\n",
    "Plot_General.set_general_plotting_args(\n",
    "    axs, \n",
    "    draw_legend=True, \n",
    "    legend_args=dict(loc='upper right', fontsize=20), \n",
    "    title_args=dict(label=f'{x_col} for Result Types', fontdict=dict(fontweight='semibold', fontsize=16)), \n",
    "    xlabel_args=dict(xlabel=x_col, loc='right', fontdict=dict(fontsize=16)), \n",
    "    ylabel_args=dict(ylabel='Counts', loc='top', fontdict=dict(fontsize=16)), \n",
    "    tick_args=dict(axis='x', labelrotation=90)\n",
    ")\n",
    "axs.set_yscale('log')"
   ]
  },
  {
   "cell_type": "code",
   "execution_count": null,
   "id": "c07a98c7",
   "metadata": {},
   "outputs": [],
   "source": [
    "x_col = 'KVA_SIZE'\n",
    "\n",
    "fig, axs = Plot_General.default_subplots(n_x=1, n_y=1, fig_num=1)\n",
    "#-------------------------\n",
    "sns.countplot(\n",
    "    ax=axs, \n",
    "    data=eemsp_df_test,\n",
    "    x=x_col, \n",
    "    hue='is_outg', \n",
    "#     order=order[idx_0:idx_1], \n",
    "#     palette=dict(TP='green', FN='red')\n",
    "#     hue_order=['TP', 'FN', 'TN', 'FP']\n",
    ")\n",
    "Plot_General.set_general_plotting_args(\n",
    "    axs, \n",
    "    draw_legend=True, \n",
    "    legend_args=dict(loc='upper right', fontsize=20), \n",
    "    title_args=dict(label=f'{x_col} for Result Types', fontdict=dict(fontweight='semibold', fontsize=16)), \n",
    "    xlabel_args=dict(xlabel=x_col, loc='right', fontdict=dict(fontsize=16)), \n",
    "    ylabel_args=dict(ylabel='Counts', loc='top', fontdict=dict(fontsize=16)), \n",
    "    tick_args=dict(axis='x', labelrotation=90)\n",
    ")\n",
    "axs.set_yscale('log')"
   ]
  },
  {
   "cell_type": "code",
   "execution_count": null,
   "id": "4902d064",
   "metadata": {},
   "outputs": [],
   "source": [
    "x_col = 'COOLANT'\n",
    "\n",
    "fig, axs = Plot_General.default_subplots(n_x=1, n_y=1, fig_num=1)\n",
    "#-------------------------\n",
    "sns.countplot(\n",
    "    ax=axs, \n",
    "    data=eemsp_df_test,\n",
    "    x=x_col, \n",
    "    hue='is_outg', \n",
    "#     order=order[idx_0:idx_1], \n",
    "#     palette=dict(TP='green', FN='red')\n",
    "#     hue_order=['TP', 'FN', 'TN', 'FP']\n",
    ")\n",
    "Plot_General.set_general_plotting_args(\n",
    "    axs, \n",
    "    draw_legend=True, \n",
    "    legend_args=dict(loc='upper right', fontsize=20), \n",
    "    title_args=dict(label=f'{x_col} for Result Types', fontdict=dict(fontweight='semibold', fontsize=16)), \n",
    "    xlabel_args=dict(xlabel=x_col, loc='right', fontdict=dict(fontsize=16)), \n",
    "    ylabel_args=dict(ylabel='Counts', loc='top', fontdict=dict(fontsize=16)), \n",
    "    tick_args=dict(axis='x', labelrotation=90)\n",
    ")\n",
    "axs.set_yscale('log')"
   ]
  },
  {
   "cell_type": "code",
   "execution_count": null,
   "id": "75db4d56",
   "metadata": {},
   "outputs": [],
   "source": []
  },
  {
   "cell_type": "code",
   "execution_count": null,
   "id": "7f028c38",
   "metadata": {},
   "outputs": [],
   "source": []
  },
  {
   "cell_type": "code",
   "execution_count": null,
   "id": "1574b3c8",
   "metadata": {},
   "outputs": [],
   "source": []
  },
  {
   "cell_type": "code",
   "execution_count": null,
   "id": "a8c5187a",
   "metadata": {},
   "outputs": [],
   "source": []
  },
  {
   "cell_type": "code",
   "execution_count": null,
   "id": "9b751fd8",
   "metadata": {},
   "outputs": [],
   "source": [
    "if run_PCA:\n",
    "    # All Dfs should have same column order already, so don't matter which \n",
    "    #   is used below\n",
    "    reason_order = X_tp.columns.tolist()\n",
    "else:\n",
    "    reason_order = [x[0] for x in importances_srtd]\n",
    "fig, axs = Plot_General.default_subplots(n_x=1, n_y=1, fig_num=1)\n",
    "Plot_Bar.plot_barplot(\n",
    "    axs, \n",
    "    X_fn, \n",
    "    order=reason_order, \n",
    "    n_bars_to_include=10, \n",
    "    replace_xtick_labels_with_ints=True, \n",
    "    add_xtick_labels_legend_textbox=True, \n",
    "    fig=fig, \n",
    "    xtick_labels_legend_textbox_kwargs=dict(fontsize=10), \n",
    "    tick_args=[dict(axis='x', labelrotation=90, labelsize=15), \n",
    "               dict(axis='y', labelsize=15)]\n",
    ")"
   ]
  },
  {
   "cell_type": "code",
   "execution_count": null,
   "id": "3e25d67a",
   "metadata": {},
   "outputs": [],
   "source": []
  },
  {
   "cell_type": "code",
   "execution_count": null,
   "id": "f5505d8e",
   "metadata": {},
   "outputs": [],
   "source": []
  },
  {
   "cell_type": "code",
   "execution_count": null,
   "id": "e050680e",
   "metadata": {},
   "outputs": [],
   "source": []
  },
  {
   "cell_type": "code",
   "execution_count": null,
   "id": "ad495605",
   "metadata": {},
   "outputs": [],
   "source": [
    "if run_PCA:\n",
    "    # All Dfs should have same column order already, so don't matter which \n",
    "    #   is used below\n",
    "    reason_order = X_tp.columns.tolist()\n",
    "else:\n",
    "    reason_order = [x[0] for x in importances_srtd]\n",
    "fig, axs = Plot_General.default_subplots(n_x=1, n_y=1, fig_num=1)\n",
    "Plot_Bar.plot_multiple_barplots(\n",
    "    axs, \n",
    "    [\n",
    "        (X_tp, dict(label='X_tp', color='green')), \n",
    "        (X_fn, dict(label='X_fn', edgecolor='green', fill=False, hatch='//')), \n",
    "        (X_tn, dict(label='X_tn', color='red')), \n",
    "        (X_fp, dict(label='X_fp', edgecolor='red', fill=False, hatch='//'))\n",
    "    ], \n",
    "    order=reason_order, \n",
    "    n_bars_to_include=20, \n",
    "    draw_side_by_side=True, \n",
    "    replace_xtick_labels_with_ints=True, \n",
    "    add_xtick_labels_legend_textbox=True, \n",
    "    fig=fig, \n",
    "    xtick_labels_legend_textbox_kwargs=dict(fontsize=10, n_cols=2), \n",
    "    tick_args=[dict(axis='x', labelrotation=90, labelsize=15), \n",
    "               dict(axis='y', labelsize=15)], \n",
    "    draw_legend=True\n",
    ")"
   ]
  },
  {
   "cell_type": "code",
   "execution_count": null,
   "id": "fc7173e0",
   "metadata": {},
   "outputs": [],
   "source": []
  },
  {
   "cell_type": "code",
   "execution_count": null,
   "id": "e6f39e4f",
   "metadata": {},
   "outputs": [],
   "source": [
    "optimize_n_reasons_per_plot=True\n",
    "n_reasons_per_plot = 20\n",
    "n_reasons_total_to_plot = None # If None, plot all\n",
    "n_x = 2\n",
    "include_xtick_labels_legend = False\n",
    "\n",
    "if run_PCA:\n",
    "    # All Dfs should have same column order already, so don't matter which \n",
    "    #   is used below\n",
    "    reason_order = X_tp.columns.tolist()\n",
    "else:\n",
    "    reason_order = [x[0] for x in importances_srtd]\n",
    "#-----\n",
    "fig,axs = draw_X_by_binary_confusion_result(\n",
    "    fig_num=0, \n",
    "    X_tp_w_args=X_tp, \n",
    "    X_fn_w_args=X_fn, \n",
    "    X_tn_w_args=X_tn, \n",
    "    X_fp_w_args=X_fp, \n",
    "    n_reasons_per_plot=n_reasons_per_plot, \n",
    "    n_reasons_total_to_plot=n_reasons_total_to_plot, \n",
    "    reason_order=reason_order, \n",
    "    n_x=n_x, \n",
    "    include_xtick_labels_legend=include_xtick_labels_legend\n",
    ")"
   ]
  },
  {
   "cell_type": "code",
   "execution_count": null,
   "id": "5bd509a2",
   "metadata": {},
   "outputs": [],
   "source": []
  },
  {
   "cell_type": "code",
   "execution_count": null,
   "id": "a02d634b",
   "metadata": {},
   "outputs": [],
   "source": [
    "optimize_n_reasons_per_plot=True\n",
    "n_reasons_per_plot = 20\n",
    "n_reasons_total_to_plot = None # If None, plot all\n",
    "n_x = 2\n",
    "include_xtick_labels_legend = False\n",
    "\n",
    "if run_PCA:\n",
    "    # All Dfs should have same column order already, so don't matter which \n",
    "    #   is used below\n",
    "    reason_order = X_tp.columns.tolist()\n",
    "else:\n",
    "    reason_order = [x[0] for x in importances_srtd]\n",
    "#-----\n",
    "fig,axs = draw_X_by_binary_confusion_result(\n",
    "    fig_num=0, \n",
    "    X_tp_w_args=X_tp, \n",
    "    X_fn_w_args=X_fn, \n",
    "    X_tn_w_args=None, \n",
    "    X_fp_w_args=None, \n",
    "    n_reasons_per_plot=n_reasons_per_plot, \n",
    "    n_reasons_total_to_plot=n_reasons_total_to_plot, \n",
    "    reason_order=reason_order, \n",
    "    n_x=n_x, \n",
    "    include_xtick_labels_legend=include_xtick_labels_legend\n",
    ")"
   ]
  },
  {
   "cell_type": "code",
   "execution_count": null,
   "id": "8d3bf20f",
   "metadata": {},
   "outputs": [],
   "source": [
    "optimize_n_reasons_per_plot=True\n",
    "n_reasons_per_plot = 20\n",
    "n_reasons_total_to_plot = None # If None, plot all\n",
    "n_x = 2\n",
    "include_xtick_labels_legend = False\n",
    "\n",
    "if run_PCA:\n",
    "    # All Dfs should have same column order already, so don't matter which \n",
    "    #   is used below\n",
    "    reason_order = X_tp.columns.tolist()\n",
    "else:\n",
    "    reason_order = [x[0] for x in importances_srtd]\n",
    "#-----\n",
    "fig,axs = draw_X_by_binary_confusion_result(\n",
    "    fig_num=0, \n",
    "    X_tp_w_args=None, \n",
    "    X_fn_w_args=None, \n",
    "    X_tn_w_args=X_tn, \n",
    "    X_fp_w_args=X_fp, \n",
    "    n_reasons_per_plot=n_reasons_per_plot, \n",
    "    n_reasons_total_to_plot=n_reasons_total_to_plot, \n",
    "    reason_order=reason_order, \n",
    "    n_x=n_x, \n",
    "    include_xtick_labels_legend=include_xtick_labels_legend\n",
    ")"
   ]
  },
  {
   "cell_type": "code",
   "execution_count": null,
   "id": "7197b14e",
   "metadata": {},
   "outputs": [],
   "source": []
  },
  {
   "cell_type": "code",
   "execution_count": null,
   "id": "f6a83393",
   "metadata": {},
   "outputs": [],
   "source": [
    "# ada_clf = AdaBoostClassifier(\n",
    "#     RandomForestClassifier(n_estimators = 1000, n_jobs=-1),\n",
    "#     n_estimators=200,\n",
    "#     algorithm='SAMME.R'\n",
    "#     learning_rate=0.5\n",
    "# )\n",
    "\n",
    "ada_clf = AdaBoostClassifier(\n",
    "    DecisionTreeClassifier(max_depth=3), \n",
    "    n_estimators=100\n",
    ")"
   ]
  },
  {
   "cell_type": "code",
   "execution_count": null,
   "id": "db246dca",
   "metadata": {},
   "outputs": [],
   "source": [
    "start = time.time()\n",
    "ada_clf.fit(X_train, y_train)\n",
    "print(time.time()-start)"
   ]
  },
  {
   "cell_type": "code",
   "execution_count": null,
   "id": "9456872f",
   "metadata": {},
   "outputs": [],
   "source": [
    "y_pred_train = ada_clf.predict(X_train)\n",
    "print('TRAINING DATASET')\n",
    "print(\"ACCURACY  OF THE MODEL: \", accuracy_score(y_train, y_pred_train))\n",
    "print(\"PRECISION OF THE MODEL: \", precision_score(y_train, y_pred_train))\n",
    "print(\"RECALL    OF THE MODEL: \", recall_score(y_train, y_pred_train))"
   ]
  },
  {
   "cell_type": "code",
   "execution_count": null,
   "id": "b28a223e",
   "metadata": {},
   "outputs": [],
   "source": [
    "y_pred = ada_clf.predict(X_test)\n",
    "print('TESTING DATASET')\n",
    "print(\"ACCURACY  OF THE MODEL: \", accuracy_score(y_test, y_pred))\n",
    "print(\"PRECISION OF THE MODEL: \", precision_score(y_test, y_pred))\n",
    "print(\"RECALL    OF THE MODEL: \", recall_score(y_test, y_pred))"
   ]
  },
  {
   "cell_type": "code",
   "execution_count": null,
   "id": "bf7c73ea",
   "metadata": {},
   "outputs": [],
   "source": []
  },
  {
   "cell_type": "code",
   "execution_count": null,
   "id": "99f2872e",
   "metadata": {},
   "outputs": [],
   "source": []
  },
  {
   "cell_type": "code",
   "execution_count": null,
   "id": "727a8f6e",
   "metadata": {},
   "outputs": [],
   "source": []
  },
  {
   "cell_type": "markdown",
   "id": "e5195d85",
   "metadata": {},
   "source": [
    "# Neural Net: Keras Sequential"
   ]
  },
  {
   "cell_type": "code",
   "execution_count": null,
   "id": "ffa364cb",
   "metadata": {},
   "outputs": [],
   "source": [
    "# model = keras.models.Sequential()\n",
    "# model.add(keras.layers.Flatten(input_shape=(X_train.shape[1],)))\n",
    "# model.add(keras.layers.Dense(X_train.shape[1], activation='relu'))\n",
    "# model.add(keras.layers.Dense(16, activation='relu'))\n",
    "# model.add(keras.layers.Dense(4, activation='relu'))\n",
    "# model.add(keras.layers.Dense(1, activation='sigmoid'))\n",
    "\n",
    "# model = keras.models.Sequential()\n",
    "# model.add(keras.layers.Flatten(input_shape=(X_train.shape[1],)))\n",
    "# model.add(keras.layers.Dense(X_train.shape[1], activation='relu'))\n",
    "# model.add(keras.layers.Dense(256, activation='relu'))\n",
    "# model.add(keras.layers.Dense(256, activation='relu'))\n",
    "# model.add(keras.layers.Dense(128, activation='relu'))\n",
    "# model.add(keras.layers.Dense(16, activation='relu'))\n",
    "# model.add(keras.layers.Dense(4, activation='relu'))\n",
    "# model.add(keras.layers.Dense(1, activation='sigmoid'))\n",
    "\n",
    "\n",
    "# model = keras.models.Sequential()\n",
    "# model.add(keras.layers.Flatten(input_shape=(X_train.shape[1],)))\n",
    "# model.add(keras.layers.Dense(X_train.shape[1], activation='relu'))\n",
    "# model.add(keras.layers.Dense(1600, activation='relu'))\n",
    "# model.add(keras.layers.Dense(400, activation='relu'))\n",
    "# model.add(keras.layers.Dense(1, activation='sigmoid'))\n",
    "\n",
    "# model = keras.models.Sequential()\n",
    "# model.add(keras.layers.Flatten(input_shape=(X_train.shape[1],)))\n",
    "# model.add(keras.layers.Dense(X_train.shape[1], activation='relu'))\n",
    "# model.add(keras.layers.Dense(4096, activation='relu'))\n",
    "# model.add(keras.layers.Dense(1024, activation='relu'))\n",
    "# model.add(keras.layers.Dense(256, activation='relu'))\n",
    "# model.add(keras.layers.Dense(128, activation='relu'))\n",
    "# model.add(keras.layers.Dense(16, activation='relu'))\n",
    "# model.add(keras.layers.Dense(4, activation='relu'))\n",
    "# model.add(keras.layers.Dense(1, activation='sigmoid'))\n",
    "\n",
    "\n",
    "\n",
    "model = keras.models.Sequential()\n",
    "model.add(keras.layers.Flatten(input_shape=(X_train.shape[1],)))\n",
    "\n",
    "model.add(keras.layers.Dense(X_train.shape[1], kernel_initializer='he_normal'))\n",
    "model.add(keras.layers.LeakyReLU(alpha=0.05))\n",
    "\n",
    "model.add(keras.layers.Dense(4096, kernel_initializer='he_normal'))\n",
    "model.add(keras.layers.LeakyReLU(alpha=0.05))\n",
    "\n",
    "model.add(keras.layers.Dense(1024, kernel_initializer='he_normal'))\n",
    "model.add(keras.layers.LeakyReLU(alpha=0.05))\n",
    "\n",
    "model.add(keras.layers.Dense(256, kernel_initializer='he_normal'))\n",
    "model.add(keras.layers.LeakyReLU(alpha=0.05))\n",
    "\n",
    "model.add(keras.layers.Dense(128, kernel_initializer='he_normal'))\n",
    "model.add(keras.layers.LeakyReLU(alpha=0.05))\n",
    "\n",
    "model.add(keras.layers.Dense(256, kernel_initializer='he_normal'))\n",
    "model.add(keras.layers.LeakyReLU(alpha=0.05))\n",
    "\n",
    "model.add(keras.layers.Dense(16, kernel_initializer='he_normal'))\n",
    "model.add(keras.layers.LeakyReLU(alpha=0.05))\n",
    "\n",
    "model.add(keras.layers.Dense(4, kernel_initializer='he_normal'))\n",
    "model.add(keras.layers.LeakyReLU(alpha=0.05))\n",
    "\n",
    "model.add(keras.layers.Dense(1, activation='sigmoid'))"
   ]
  },
  {
   "cell_type": "code",
   "execution_count": null,
   "id": "02e75994",
   "metadata": {},
   "outputs": [],
   "source": [
    "# model.compile(\n",
    "#     loss='binary_crossentropy', \n",
    "#     optimizer='sgd', \n",
    "#     metrics=['accuracy']\n",
    "# )\n",
    "\n",
    "opt = keras.optimizers.SGD(learning_rate=0.0001)\n",
    "model.compile(\n",
    "    loss = \"binary_crossentropy\", \n",
    "    optimizer = opt, \n",
    "    metrics=[tf.keras.metrics.Precision()]\n",
    ")\n",
    "\n",
    "# model.compile(\n",
    "#     loss='binary_crossentropy', \n",
    "#     optimizer='adam', \n",
    "#     metrics=['accuracy']\n",
    "# )\n",
    "\n",
    "# model.compile(\n",
    "#     loss='binary_crossentropy', \n",
    "#     optimizer='adam', \n",
    "#     metrics=[tf.keras.metrics.Recall()]\n",
    "# )"
   ]
  },
  {
   "cell_type": "code",
   "execution_count": null,
   "id": "1a29343d",
   "metadata": {},
   "outputs": [],
   "source": []
  },
  {
   "cell_type": "code",
   "execution_count": null,
   "id": "d75a9f0b",
   "metadata": {},
   "outputs": [],
   "source": [
    "history = model.fit(X_train, y_train, epochs=10, validation_data=(X_val, y_val))"
   ]
  },
  {
   "cell_type": "code",
   "execution_count": null,
   "id": "b2dbfae6",
   "metadata": {},
   "outputs": [],
   "source": [
    "pd.DataFrame(history.history).plot(figsize=(8,5))"
   ]
  },
  {
   "cell_type": "code",
   "execution_count": null,
   "id": "cbd81073",
   "metadata": {},
   "outputs": [],
   "source": [
    "test_loss, test_acc = model.evaluate(X_test, y_test)"
   ]
  },
  {
   "cell_type": "code",
   "execution_count": null,
   "id": "3a54c2cd",
   "metadata": {},
   "outputs": [],
   "source": [
    "test_acc"
   ]
  },
  {
   "cell_type": "code",
   "execution_count": null,
   "id": "2f32ea6f",
   "metadata": {},
   "outputs": [],
   "source": [
    "test_loss"
   ]
  },
  {
   "cell_type": "code",
   "execution_count": null,
   "id": "52cb73a8",
   "metadata": {},
   "outputs": [],
   "source": [
    "y_pred_prob_train = model.predict(X_train).flatten()\n",
    "y_pred_train = (y_pred_prob_train>0.5).astype(int)\n",
    "print(\"ACCURACY  OF THE MODEL: \", accuracy_score(y_train, y_pred_train))\n",
    "print(\"PRECISION OF THE MODEL: \", precision_score(y_train, y_pred_train))\n",
    "print(\"RECALL    OF THE MODEL: \", recall_score(y_train, y_pred_train))"
   ]
  },
  {
   "cell_type": "code",
   "execution_count": null,
   "id": "ecb36d64",
   "metadata": {},
   "outputs": [],
   "source": [
    "y_pred_prob = model.predict(X_test).flatten()\n",
    "# y_pred = model.predict_classes(X_test) #'Sequential' object has no attribute 'predict_classes'\n",
    "y_pred = (y_pred_prob>0.5).astype(int)\n",
    "print(\"ACCURACY  OF THE MODEL: \", accuracy_score(y_test, y_pred))\n",
    "print(\"PRECISION OF THE MODEL: \", precision_score(y_test, y_pred))\n",
    "print(\"RECALL    OF THE MODEL: \", recall_score(y_test, y_pred))"
   ]
  },
  {
   "cell_type": "code",
   "execution_count": null,
   "id": "f72255bf",
   "metadata": {},
   "outputs": [],
   "source": [
    "y_pred_prob_HOLDOUT = model.predict(X_HOLDOUT).flatten()\n",
    "y_pred_HOLDOUT = (y_pred_prob_HOLDOUT>0.5).astype(int)\n",
    "print(\"ACCURACY  OF THE MODEL: \", accuracy_score(y_HOLDOUT, y_pred_HOLDOUT))\n",
    "print(\"PRECISION OF THE MODEL: \", precision_score(y_HOLDOUT, y_pred_HOLDOUT))\n",
    "print(\"RECALL    OF THE MODEL: \", recall_score(y_HOLDOUT, y_pred_HOLDOUT))"
   ]
  },
  {
   "cell_type": "code",
   "execution_count": null,
   "id": "dd74451c",
   "metadata": {},
   "outputs": [],
   "source": []
  },
  {
   "cell_type": "code",
   "execution_count": null,
   "id": "3e2c690e",
   "metadata": {},
   "outputs": [],
   "source": []
  },
  {
   "cell_type": "code",
   "execution_count": null,
   "id": "f1192eb7",
   "metadata": {},
   "outputs": [],
   "source": []
  },
  {
   "cell_type": "code",
   "execution_count": null,
   "id": "2443a8a4",
   "metadata": {},
   "outputs": [],
   "source": [
    "confusion_matrix(y_test, y_pred)"
   ]
  },
  {
   "cell_type": "code",
   "execution_count": null,
   "id": "2ecde7d5",
   "metadata": {},
   "outputs": [],
   "source": [
    "confusion_matrix(y_test, y_pred, normalize='true')"
   ]
  },
  {
   "cell_type": "code",
   "execution_count": null,
   "id": "b5b43a2b",
   "metadata": {},
   "outputs": [],
   "source": [
    "confusion_matrix(y_test, y_pred, normalize='pred')"
   ]
  },
  {
   "cell_type": "code",
   "execution_count": null,
   "id": "a44174d3",
   "metadata": {},
   "outputs": [],
   "source": []
  },
  {
   "cell_type": "code",
   "execution_count": null,
   "id": "7f24768c",
   "metadata": {},
   "outputs": [],
   "source": [
    "cmd = ConfusionMatrixDisplay(\n",
    "    confusion_matrix(y_test, y_pred), \n",
    "    display_labels=['No Outg.','Outage']\n",
    ")\n",
    "cmd.plot()\n",
    "# cmd.ax_.set(xlabel='Predicted', ylabel='True')\n",
    "cmd.ax_.set_xlabel('Predicted', fontsize=16)\n",
    "cmd.ax_.set_ylabel('True', fontsize=16)\n",
    "cmd.ax_.set_title('Test', fontsize=16)"
   ]
  },
  {
   "cell_type": "code",
   "execution_count": null,
   "id": "1ded59d5",
   "metadata": {},
   "outputs": [],
   "source": []
  },
  {
   "cell_type": "code",
   "execution_count": null,
   "id": "2ed56c7f",
   "metadata": {},
   "outputs": [],
   "source": []
  },
  {
   "cell_type": "code",
   "execution_count": null,
   "id": "31d5b387",
   "metadata": {},
   "outputs": [],
   "source": []
  },
  {
   "cell_type": "code",
   "execution_count": null,
   "id": "9c728458",
   "metadata": {},
   "outputs": [],
   "source": [
    "X_by_confusion_result = get_X_entries_by_binary_confusion_matrix_result(X_test, y_test, y_pred)\n",
    "X_by_confusion_result = convert_X_by_confusion_results_to_dfs(\n",
    "    X_by_confusion_result=X_by_confusion_result, \n",
    "    full_data_df=full_data_df, \n",
    "    run_PCA=run_PCA, \n",
    "    run_scaler=run_scaler    \n",
    ")\n",
    "\n",
    "X_tp = X_by_confusion_result['X_tp']\n",
    "X_tn = X_by_confusion_result['X_tn']\n",
    "X_fp = X_by_confusion_result['X_fp']\n",
    "X_fn = X_by_confusion_result['X_fn']\n",
    "\n",
    "optimize_n_reasons_per_plot=True\n",
    "n_reasons_per_plot = 20\n",
    "n_reasons_total_to_plot = None # If None, plot all\n",
    "n_x = 2\n",
    "include_xtick_labels_legend = False\n",
    "\n",
    "if run_PCA:\n",
    "    # All Dfs should have same column order already, so don't matter which \n",
    "    #   is used below\n",
    "    reason_order = X_tp.columns.tolist()\n",
    "else:\n",
    "    reason_order = [x[0] for x in importances_srtd]\n",
    "#-----\n",
    "fig,axs = draw_X_by_binary_confusion_result(\n",
    "    fig_num=0, \n",
    "    X_tp_w_args=X_tp, \n",
    "    X_fn_w_args=X_fn, \n",
    "    X_tn_w_args=X_tn, \n",
    "    X_fp_w_args=X_fp, \n",
    "    n_reasons_per_plot=n_reasons_per_plot, \n",
    "    n_reasons_total_to_plot=n_reasons_total_to_plot, \n",
    "    reason_order=reason_order, \n",
    "    n_x=n_x, \n",
    "    include_xtick_labels_legend=include_xtick_labels_legend\n",
    ")"
   ]
  },
  {
   "cell_type": "code",
   "execution_count": null,
   "id": "fb2715c6",
   "metadata": {},
   "outputs": [],
   "source": [
    "fig, ax = Plot_General.default_subplots(n_x=1, n_y=1, fig_num=1)\n",
    "X_fn.T.plot.line(ax=ax, alpha=0.1, color='red', linewidth=1)"
   ]
  },
  {
   "cell_type": "code",
   "execution_count": null,
   "id": "d7ff7f66",
   "metadata": {},
   "outputs": [],
   "source": [
    "fig, ax = Plot_General.default_subplots(n_x=1, n_y=1, fig_num=1)\n",
    "X_tp.T.plot.line(ax=ax, alpha=0.1, color='red', linewidth=1)"
   ]
  },
  {
   "cell_type": "code",
   "execution_count": null,
   "id": "349f7bd4",
   "metadata": {},
   "outputs": [],
   "source": []
  },
  {
   "cell_type": "code",
   "execution_count": null,
   "id": "bce39161",
   "metadata": {},
   "outputs": [],
   "source": []
  },
  {
   "cell_type": "markdown",
   "id": "db6ffdef",
   "metadata": {},
   "source": [
    "# Correlations"
   ]
  },
  {
   "cell_type": "code",
   "execution_count": null,
   "id": "ad93ca3d",
   "metadata": {},
   "outputs": [],
   "source": [
    "dev_df = full_data_df.copy()"
   ]
  },
  {
   "cell_type": "code",
   "execution_count": null,
   "id": "fc7a2e4a",
   "metadata": {},
   "outputs": [],
   "source": [
    "dev_df.describe()"
   ]
  },
  {
   "cell_type": "code",
   "execution_count": null,
   "id": "8927be3a",
   "metadata": {},
   "outputs": [],
   "source": [
    "len(dev_df.columns[dev_df.mean()==0].tolist())"
   ]
  },
  {
   "cell_type": "code",
   "execution_count": null,
   "id": "593c0784",
   "metadata": {},
   "outputs": [],
   "source": [
    "dev_df.columns[dev_df.mean()==0].tolist()"
   ]
  },
  {
   "cell_type": "code",
   "execution_count": null,
   "id": "838d04fd",
   "metadata": {},
   "outputs": [],
   "source": [
    "dev_df = dev_df.drop(columns=dev_df.columns[dev_df.mean()==0])"
   ]
  },
  {
   "cell_type": "code",
   "execution_count": null,
   "id": "9888e5fb",
   "metadata": {},
   "outputs": [],
   "source": []
  },
  {
   "cell_type": "code",
   "execution_count": null,
   "id": "f41ca0b5",
   "metadata": {},
   "outputs": [],
   "source": [
    "corr_df = dev_df.corr()\n",
    "corr_df"
   ]
  },
  {
   "cell_type": "code",
   "execution_count": null,
   "id": "4c29c225",
   "metadata": {},
   "outputs": [],
   "source": [
    "corr_df['01-05 Days'].shape"
   ]
  },
  {
   "cell_type": "code",
   "execution_count": null,
   "id": "65d9b29b",
   "metadata": {},
   "outputs": [],
   "source": [
    "fig, ax = Plot_General.default_subplots(n_x=1, n_y=1, unit_figsize_width=28, unit_figsize_height=12)\n",
    "plt.matshow(corr_df, fignum=fig.number)\n",
    "cb = plt.colorbar()\n",
    "cb.ax.tick_params(labelsize=14)"
   ]
  },
  {
   "cell_type": "code",
   "execution_count": null,
   "id": "ed8d9448",
   "metadata": {},
   "outputs": [],
   "source": [
    "corr_df.describe()"
   ]
  },
  {
   "cell_type": "code",
   "execution_count": null,
   "id": "2bdb5ce8",
   "metadata": {},
   "outputs": [],
   "source": [
    "corr_df[corr_df.columns[0]]>0.5"
   ]
  },
  {
   "cell_type": "code",
   "execution_count": null,
   "id": "a78bc34d",
   "metadata": {},
   "outputs": [],
   "source": [
    "corr_df[corr_df.columns[0]].index[corr_df[corr_df.columns[0]]>0.5].tolist()"
   ]
  },
  {
   "cell_type": "code",
   "execution_count": null,
   "id": "ab461a8c",
   "metadata": {},
   "outputs": [],
   "source": [
    "corr_df.columns[0]"
   ]
  },
  {
   "cell_type": "code",
   "execution_count": null,
   "id": "c03a5be9",
   "metadata": {},
   "outputs": [],
   "source": []
  },
  {
   "cell_type": "code",
   "execution_count": null,
   "id": "b87c8ce1",
   "metadata": {
    "scrolled": true
   },
   "outputs": [],
   "source": [
    "threshold=0.5\n",
    "for reason in corr_df.columns:\n",
    "    correlated = corr_df[reason].index[corr_df[reason]>0.5].tolist()\n",
    "    # Reason always perfectly correlated with itself, obviously.\n",
    "    # So, remove this\n",
    "    correlated.remove(reason)\n",
    "    print(f'reason = {reason}')\n",
    "    print('Correlated:')\n",
    "    print(*correlated, sep='\\n')\n",
    "    print()"
   ]
  },
  {
   "cell_type": "code",
   "execution_count": null,
   "id": "2cf3d846",
   "metadata": {},
   "outputs": [],
   "source": [
    "dev_df"
   ]
  },
  {
   "cell_type": "code",
   "execution_count": null,
   "id": "40c89142",
   "metadata": {},
   "outputs": [],
   "source": []
  },
  {
   "cell_type": "code",
   "execution_count": null,
   "id": "0a4704b8",
   "metadata": {},
   "outputs": [],
   "source": []
  },
  {
   "cell_type": "code",
   "execution_count": null,
   "id": "75aafc54",
   "metadata": {},
   "outputs": [],
   "source": [
    "corr_df_i = dev_df['01-05 Days'].corr()\n",
    "corr_df_i"
   ]
  },
  {
   "cell_type": "code",
   "execution_count": null,
   "id": "170cb83d",
   "metadata": {},
   "outputs": [],
   "source": [
    "fig, ax = Plot_General.default_subplots(n_x=1, n_y=1, unit_figsize_width=28, unit_figsize_height=12)\n",
    "plt.matshow(corr_df_i, fignum=fig.number)\n",
    "cb = plt.colorbar()\n",
    "cb.ax.tick_params(labelsize=14)"
   ]
  },
  {
   "cell_type": "code",
   "execution_count": null,
   "id": "fe2f115e",
   "metadata": {},
   "outputs": [],
   "source": [
    "# Fill diagonal and upper half with NaNs\n",
    "mask = np.zeros_like(corr_df_i, dtype=bool)\n",
    "mask[np.triu_indices_from(mask)] = True\n",
    "corr_df_i[mask] = np.nan\n",
    "fig, ax = Plot_General.default_subplots(n_x=1, n_y=1, unit_figsize_width=28, unit_figsize_height=12)\n",
    "plt.matshow(corr_df_i, fignum=fig.number)\n",
    "cb = plt.colorbar()\n",
    "cb.ax.tick_params(labelsize=14)"
   ]
  },
  {
   "cell_type": "code",
   "execution_count": null,
   "id": "15fb8b0e",
   "metadata": {},
   "outputs": [],
   "source": [
    "corr_df_i.columns[6]"
   ]
  },
  {
   "cell_type": "code",
   "execution_count": null,
   "id": "dbf4c52f",
   "metadata": {},
   "outputs": [],
   "source": [
    "print(corr_df_i.iloc[6,2])\n",
    "print(corr_df_i.columns[6])\n",
    "print(corr_df_i.iloc[6].index[2])"
   ]
  },
  {
   "cell_type": "code",
   "execution_count": null,
   "id": "37d1972c",
   "metadata": {},
   "outputs": [],
   "source": [
    "threshold=0.5\n",
    "for reason in corr_df_i.columns:\n",
    "    correlated = corr_df_i[reason].index[corr_df_i[reason]>0.5].tolist()\n",
    "    # Reason always perfectly correlated with itself, obviously.\n",
    "    # So, remove this\n",
    "    # DIAGONAL NOT INCLUDED HERE!\n",
    "    if reason in correlated:\n",
    "        correlated.remove(reason)\n",
    "    if len(correlated)>0:\n",
    "        print(f'reason = {reason}')\n",
    "        print('Correlated:')\n",
    "        print(*correlated, sep='\\n')\n",
    "        print()"
   ]
  },
  {
   "cell_type": "code",
   "execution_count": null,
   "id": "81247d60",
   "metadata": {},
   "outputs": [],
   "source": []
  },
  {
   "cell_type": "code",
   "execution_count": null,
   "id": "37080f02",
   "metadata": {},
   "outputs": [],
   "source": []
  },
  {
   "cell_type": "code",
   "execution_count": null,
   "id": "cceadca0",
   "metadata": {},
   "outputs": [],
   "source": []
  },
  {
   "cell_type": "code",
   "execution_count": null,
   "id": "c49bead0",
   "metadata": {},
   "outputs": [],
   "source": []
  },
  {
   "cell_type": "code",
   "execution_count": null,
   "id": "f795a99a",
   "metadata": {},
   "outputs": [],
   "source": []
  },
  {
   "cell_type": "code",
   "execution_count": null,
   "id": "391eb3c0",
   "metadata": {},
   "outputs": [],
   "source": []
  },
  {
   "cell_type": "code",
   "execution_count": null,
   "id": "44763a72",
   "metadata": {},
   "outputs": [],
   "source": []
  },
  {
   "cell_type": "code",
   "execution_count": null,
   "id": "4f24525f",
   "metadata": {},
   "outputs": [],
   "source": []
  },
  {
   "cell_type": "markdown",
   "id": "e66128f3",
   "metadata": {},
   "source": [
    "# Other stuff (Impact estimate below this!)"
   ]
  },
  {
   "cell_type": "code",
   "execution_count": null,
   "id": "6f5a4a49",
   "metadata": {},
   "outputs": [],
   "source": [
    "from sklearn.cluster import DBSCAN"
   ]
  },
  {
   "cell_type": "code",
   "execution_count": null,
   "id": "aa504b12",
   "metadata": {},
   "outputs": [],
   "source": [
    "dbscan = DBSCAN(eps=0.05, min_samples=5)\n",
    "# dbscan = DBSCAN(eps=0.05, min_samples=132) # 2*n_features?"
   ]
  },
  {
   "cell_type": "code",
   "execution_count": null,
   "id": "56aea337",
   "metadata": {},
   "outputs": [],
   "source": [
    "dbscan.fit(X_train)"
   ]
  },
  {
   "cell_type": "code",
   "execution_count": null,
   "id": "49f4af01",
   "metadata": {},
   "outputs": [],
   "source": [
    "print(f'DATA SIZE: {len(dbscan.labels_)}')\n",
    "print(f'ANOMALIES: {sum(dbscan.labels_==-1)}')\n",
    "print(f'N_GROUPS:  {max(dbscan.labels_)}')"
   ]
  },
  {
   "cell_type": "code",
   "execution_count": null,
   "id": "e1307367",
   "metadata": {},
   "outputs": [],
   "source": []
  },
  {
   "cell_type": "code",
   "execution_count": null,
   "id": "a1e05b59",
   "metadata": {},
   "outputs": [],
   "source": [
    "y_train_w_db = list(zip(y_train, dbscan.labels_))"
   ]
  },
  {
   "cell_type": "code",
   "execution_count": null,
   "id": "6937e801",
   "metadata": {},
   "outputs": [],
   "source": [
    "anomaly_idxs = [i for i,x in enumerate(y_train_w_db) if x[1]==-1]\n",
    "print(y_train[anomaly_idxs].sum())\n",
    "print(len(anomaly_idxs))"
   ]
  },
  {
   "cell_type": "code",
   "execution_count": null,
   "id": "8d554950",
   "metadata": {},
   "outputs": [],
   "source": [
    "max_pct = 0\n",
    "n_pct_eq_0 = 0\n",
    "idxs_w_pct_eq_0 = []\n",
    "idxs_w_pct_eq_1 = []\n",
    "for i in range(-1, max(dbscan.labels_)):\n",
    "    print(i)\n",
    "    subset = [x for x in y_train_w_db if x[1]==i]\n",
    "    print(f'len(subset) = {len(subset)}')\n",
    "    sum_i = sum([x[0] for x in subset])\n",
    "    print(f'Sum = {sum_i}')\n",
    "    pct_i = sum_i/len(subset)\n",
    "    print(f'Pct = {pct_i}')\n",
    "    max_pct = max_pct if max_pct>pct_i else pct_i\n",
    "    print()\n",
    "    \n",
    "    if pct_i==0:\n",
    "        n_pct_eq_0+=1\n",
    "        idxs_w_pct_eq_0.append(i)\n",
    "        \n",
    "    if pct_i==1:\n",
    "        idxs_w_pct_eq_1.append(i)"
   ]
  },
  {
   "cell_type": "code",
   "execution_count": null,
   "id": "017d275b",
   "metadata": {},
   "outputs": [],
   "source": []
  },
  {
   "cell_type": "code",
   "execution_count": null,
   "id": "cfeda9fd",
   "metadata": {},
   "outputs": [],
   "source": [
    "print(len(idxs_w_pct_eq_0))\n",
    "print(len(idxs_w_pct_eq_1))"
   ]
  },
  {
   "cell_type": "code",
   "execution_count": null,
   "id": "bc7135c6",
   "metadata": {},
   "outputs": [],
   "source": [
    "idxs_w_pct_eq_1"
   ]
  },
  {
   "cell_type": "code",
   "execution_count": null,
   "id": "baef3454",
   "metadata": {},
   "outputs": [],
   "source": [
    "print(n_pct_eq_0)\n",
    "print(max(dbscan.labels_))"
   ]
  },
  {
   "cell_type": "code",
   "execution_count": null,
   "id": "a74745f3",
   "metadata": {},
   "outputs": [],
   "source": [
    "dbscan.components_.shape"
   ]
  },
  {
   "cell_type": "code",
   "execution_count": null,
   "id": "f7df81b2",
   "metadata": {},
   "outputs": [],
   "source": [
    "sum(dbscan.labels_==-1)"
   ]
  },
  {
   "cell_type": "code",
   "execution_count": null,
   "id": "6a58c4d2",
   "metadata": {},
   "outputs": [],
   "source": [
    "dbscan.core_sample_indices_.shape"
   ]
  },
  {
   "cell_type": "code",
   "execution_count": null,
   "id": "34b6a848",
   "metadata": {},
   "outputs": [],
   "source": [
    "len(dbscan.core_sample_indices_)"
   ]
  },
  {
   "cell_type": "code",
   "execution_count": null,
   "id": "59ec4a91",
   "metadata": {},
   "outputs": [],
   "source": [
    "len(dbscan.labels_)"
   ]
  },
  {
   "cell_type": "code",
   "execution_count": null,
   "id": "9e28428c",
   "metadata": {},
   "outputs": [],
   "source": [
    "dbscan.get_params()"
   ]
  },
  {
   "cell_type": "code",
   "execution_count": null,
   "id": "4b59476d",
   "metadata": {},
   "outputs": [],
   "source": [
    "dbscan.components_.shape"
   ]
  },
  {
   "cell_type": "code",
   "execution_count": null,
   "id": "25ede291",
   "metadata": {},
   "outputs": [],
   "source": []
  },
  {
   "cell_type": "code",
   "execution_count": null,
   "id": "3c48fb70",
   "metadata": {},
   "outputs": [],
   "source": []
  },
  {
   "cell_type": "code",
   "execution_count": null,
   "id": "628139d5",
   "metadata": {},
   "outputs": [],
   "source": []
  },
  {
   "cell_type": "code",
   "execution_count": null,
   "id": "bd222644",
   "metadata": {},
   "outputs": [],
   "source": [
    "from sklearn.neighbors import KNeighborsClassifier"
   ]
  },
  {
   "cell_type": "code",
   "execution_count": null,
   "id": "62389caa",
   "metadata": {},
   "outputs": [],
   "source": [
    "knn = KNeighborsClassifier(n_neighbors=50)\n",
    "knn.fit(dbscan.components_, dbscan.labels_[dbscan.core_sample_indices_])"
   ]
  },
  {
   "cell_type": "code",
   "execution_count": null,
   "id": "4fe1f88a",
   "metadata": {},
   "outputs": [],
   "source": [
    "tmp_pred = knn.predict(X_train)\n",
    "tmp_pred"
   ]
  },
  {
   "cell_type": "code",
   "execution_count": null,
   "id": "540e7a9b",
   "metadata": {},
   "outputs": [],
   "source": [
    "tmp_pred_proba = knn.predict_proba(X_train)"
   ]
  },
  {
   "cell_type": "code",
   "execution_count": null,
   "id": "745791f7",
   "metadata": {},
   "outputs": [],
   "source": [
    "tmp_pred_proba[0]"
   ]
  },
  {
   "cell_type": "code",
   "execution_count": null,
   "id": "9f3ba217",
   "metadata": {},
   "outputs": [],
   "source": []
  },
  {
   "cell_type": "code",
   "execution_count": null,
   "id": "367a5e37",
   "metadata": {},
   "outputs": [],
   "source": []
  },
  {
   "cell_type": "code",
   "execution_count": null,
   "id": "e164c6c7",
   "metadata": {},
   "outputs": [],
   "source": [
    "dev_X_test = copy.deepcopy(X_test)\n",
    "dev_y_test = copy.deepcopy(y_test)\n",
    "we=knn.kneighbors(dev_X_test, n_neighbors=1)\n",
    "we = list(zip(we[0].flatten(), we[1].flatten()))"
   ]
  },
  {
   "cell_type": "code",
   "execution_count": null,
   "id": "4957e61c",
   "metadata": {},
   "outputs": [],
   "source": [
    "we"
   ]
  },
  {
   "cell_type": "code",
   "execution_count": null,
   "id": "699ea3b3",
   "metadata": {},
   "outputs": [],
   "source": [
    "y_df = pd.DataFrame(we, columns=['y_dist', 'y_pred'])\n",
    "y_df['y_actl'] = dev_y_test.values"
   ]
  },
  {
   "cell_type": "code",
   "execution_count": null,
   "id": "f9833644",
   "metadata": {},
   "outputs": [],
   "source": [
    "X_df = pd.DataFrame(dev_X_test)"
   ]
  },
  {
   "cell_type": "code",
   "execution_count": null,
   "id": "2f8a9903",
   "metadata": {},
   "outputs": [],
   "source": [
    "X_df"
   ]
  },
  {
   "cell_type": "code",
   "execution_count": null,
   "id": "db7f58b2",
   "metadata": {},
   "outputs": [],
   "source": [
    "y_df"
   ]
  },
  {
   "cell_type": "code",
   "execution_count": null,
   "id": "35a4195a",
   "metadata": {},
   "outputs": [],
   "source": [
    "X_df = pd.merge(X_df, y_df, left_index=True, right_index=True)"
   ]
  },
  {
   "cell_type": "code",
   "execution_count": null,
   "id": "9da41666",
   "metadata": {},
   "outputs": [],
   "source": [
    "X_df"
   ]
  },
  {
   "cell_type": "code",
   "execution_count": null,
   "id": "b82081c3",
   "metadata": {},
   "outputs": [],
   "source": [
    "we_0 = [x for x in we if x[1] in idxs_w_pct_eq_0]\n",
    "we_1 = [x for x in we if x[1] in idxs_w_pct_eq_1]\n",
    "\n",
    "print(len(we_0))\n",
    "print(len(we_1))"
   ]
  },
  {
   "cell_type": "code",
   "execution_count": null,
   "id": "c0100ce7",
   "metadata": {},
   "outputs": [],
   "source": [
    "X_df['y_pred'].isin(idxs_w_pct_eq_0)"
   ]
  },
  {
   "cell_type": "code",
   "execution_count": null,
   "id": "ba583ef7",
   "metadata": {},
   "outputs": [],
   "source": [
    "X_df['eq_0_cand'] = X_df['y_pred'].isin(idxs_w_pct_eq_0)\n",
    "X_df['eq_1_cand'] = X_df['y_pred'].isin(idxs_w_pct_eq_1)"
   ]
  },
  {
   "cell_type": "code",
   "execution_count": null,
   "id": "3858b3f2",
   "metadata": {},
   "outputs": [],
   "source": [
    "X_df"
   ]
  },
  {
   "cell_type": "code",
   "execution_count": null,
   "id": "cfc73091",
   "metadata": {},
   "outputs": [],
   "source": [
    "X_df[(X_df['eq_0_cand']==True) & (X_df['y_actl']==0)]['y_dist'].describe()"
   ]
  },
  {
   "cell_type": "code",
   "execution_count": null,
   "id": "e4028ddc",
   "metadata": {},
   "outputs": [],
   "source": [
    "X_df[(X_df['eq_0_cand']==True) & (X_df['y_actl']!=0)]['y_dist'].describe()"
   ]
  },
  {
   "cell_type": "code",
   "execution_count": null,
   "id": "6d257808",
   "metadata": {},
   "outputs": [],
   "source": []
  },
  {
   "cell_type": "code",
   "execution_count": null,
   "id": "65b73694",
   "metadata": {},
   "outputs": [],
   "source": [
    "X_df[(X_df['eq_1_cand']==True) & (X_df['y_actl']==1)]['y_dist'].describe()"
   ]
  },
  {
   "cell_type": "code",
   "execution_count": null,
   "id": "39cbc9cb",
   "metadata": {},
   "outputs": [],
   "source": [
    "X_df[(X_df['eq_1_cand']==True) & (X_df['y_actl']!=1)]['y_dist'].describe()"
   ]
  },
  {
   "cell_type": "code",
   "execution_count": null,
   "id": "8a7c92f4",
   "metadata": {},
   "outputs": [],
   "source": []
  },
  {
   "cell_type": "code",
   "execution_count": null,
   "id": "57c61ae7",
   "metadata": {},
   "outputs": [],
   "source": [
    "X_df[(X_df['eq_0_cand']==True) & (X_df['y_actl']==0) & (X_df['y_dist']<2.087953)]['y_actl'].sum()"
   ]
  },
  {
   "cell_type": "code",
   "execution_count": null,
   "id": "52b66ad8",
   "metadata": {},
   "outputs": [],
   "source": [
    "X_df_0_subset = X_df[(X_df['eq_0_cand']==True) & (X_df['y_actl']==0) & (X_df['y_dist']<2.087953)]"
   ]
  },
  {
   "cell_type": "code",
   "execution_count": null,
   "id": "6201f880",
   "metadata": {},
   "outputs": [],
   "source": [
    "X_df_0_subset"
   ]
  },
  {
   "cell_type": "code",
   "execution_count": null,
   "id": "1b956ede",
   "metadata": {},
   "outputs": [],
   "source": [
    "y_df_0_subset = y_df.loc[X_df_0_subset.index]"
   ]
  },
  {
   "cell_type": "code",
   "execution_count": null,
   "id": "d13c67c4",
   "metadata": {},
   "outputs": [],
   "source": [
    "# X_df.drop(\n",
    "#     index=X_df_0_subset.index, \n",
    "#     columns=['y_dist', 'y_pred', 'y_actl', 'eq_0_cand', 'eq_1_cand']\n",
    "# )"
   ]
  },
  {
   "cell_type": "code",
   "execution_count": null,
   "id": "da77a5e4",
   "metadata": {},
   "outputs": [],
   "source": []
  },
  {
   "cell_type": "code",
   "execution_count": null,
   "id": "9316eb36",
   "metadata": {},
   "outputs": [],
   "source": [
    "X_df=X_df.drop(index=X_df_0_subset.index)\n",
    "X_df = X_df.drop(columns=['y_dist', 'y_pred', 'y_actl', 'eq_0_cand', 'eq_1_cand'])"
   ]
  },
  {
   "cell_type": "code",
   "execution_count": null,
   "id": "d65d366d",
   "metadata": {},
   "outputs": [],
   "source": [
    "y_df=y_df.drop(index=X_df_0_subset.index)\n",
    "y_df=y_df.drop(columns=['y_dist', 'y_pred'])"
   ]
  },
  {
   "cell_type": "code",
   "execution_count": null,
   "id": "f14f82b1",
   "metadata": {},
   "outputs": [],
   "source": [
    "# y_df.drop(\n",
    "#     index=X_df_0_subset.index, \n",
    "#     columns=['y_dist', 'y_pred']\n",
    "# )"
   ]
  },
  {
   "cell_type": "code",
   "execution_count": null,
   "id": "bf0e17dd",
   "metadata": {},
   "outputs": [],
   "source": []
  },
  {
   "cell_type": "code",
   "execution_count": null,
   "id": "f32554fc",
   "metadata": {},
   "outputs": [],
   "source": [
    "model = keras.models.Sequential()\n",
    "model.add(keras.layers.Flatten(input_shape=(X_train.shape[1],)))\n",
    "model.add(keras.layers.Dense(X_train.shape[1], activation='relu'))\n",
    "# model.add(keras.layers.Dense(4096, activation='relu'))\n",
    "model.add(keras.layers.Dense(1024, activation='relu'))\n",
    "model.add(keras.layers.Dense(256, activation='relu'))\n",
    "model.add(keras.layers.Dense(128, activation='relu'))\n",
    "model.add(keras.layers.Dense(16, activation='relu'))\n",
    "model.add(keras.layers.Dense(4, activation='relu'))\n",
    "model.add(keras.layers.Dense(1, activation='sigmoid'))\n",
    "\n",
    "model.compile(\n",
    "    loss='binary_crossentropy', \n",
    "    optimizer='adam', \n",
    "    metrics=['accuracy']\n",
    ")\n",
    "\n",
    "history = model.fit(X_train, y_train, epochs=10, validation_data=(X_val, y_val))\n",
    "\n",
    "y_pred_prob = model.predict(X_df.values).flatten()\n",
    "\n",
    "# y_pred = model.predict_classes(X_test) #'Sequential' object has no attribute 'predict_classes'\n",
    "y_pred = (y_pred_prob>0.5).astype(int)\n",
    "print(\"ACCURACY  OF THE MODEL: \", accuracy_score(y_df.values, y_pred))\n",
    "print(\"PRECISION OF THE MODEL: \", precision_score(y_df.values, y_pred))\n",
    "print(\"RECALL    OF THE MODEL: \", recall_score(y_df.values, y_pred))"
   ]
  },
  {
   "cell_type": "code",
   "execution_count": null,
   "id": "01a66b79",
   "metadata": {},
   "outputs": [],
   "source": []
  },
  {
   "cell_type": "code",
   "execution_count": null,
   "id": "60707b49",
   "metadata": {},
   "outputs": [],
   "source": []
  },
  {
   "cell_type": "code",
   "execution_count": null,
   "id": "f1dca011",
   "metadata": {},
   "outputs": [],
   "source": []
  },
  {
   "cell_type": "code",
   "execution_count": null,
   "id": "74d2050d",
   "metadata": {},
   "outputs": [],
   "source": []
  },
  {
   "cell_type": "code",
   "execution_count": null,
   "id": "5307bdb6",
   "metadata": {},
   "outputs": [],
   "source": []
  },
  {
   "cell_type": "code",
   "execution_count": null,
   "id": "9efae06f",
   "metadata": {},
   "outputs": [],
   "source": [
    "# y_pred_prob = model.predict(X_df.values).flatten()\n",
    "\n",
    "# # y_pred = model.predict_classes(X_test) #'Sequential' object has no attribute 'predict_classes'\n",
    "# y_pred = (y_pred_prob>0.5).astype(int)\n",
    "# print(\"ACCURACY  OF THE MODEL: \", accuracy_score(y_df.values, y_pred))\n",
    "# print(\"PRECISION OF THE MODEL: \", precision_score(y_df.values, y_pred))\n",
    "# print(\"RECALL    OF THE MODEL: \", recall_score(y_df.values, y_pred))"
   ]
  },
  {
   "cell_type": "code",
   "execution_count": null,
   "id": "c20c8062",
   "metadata": {},
   "outputs": [],
   "source": [
    "X_df_0_subset=X_df_0_subset.drop(columns=['y_dist', 'y_pred', 'y_actl', 'eq_0_cand', 'eq_1_cand'])\n",
    "assert(all(X_df_0_subset.columns==X_df.columns))\n",
    "X_df_final = pd.concat([X_df, X_df_0_subset])"
   ]
  },
  {
   "cell_type": "code",
   "execution_count": null,
   "id": "75cef3e1",
   "metadata": {},
   "outputs": [],
   "source": [
    "y_df_0_subset=y_df_0_subset.drop(columns=['y_dist', 'y_pred'])\n",
    "assert(all(y_df_0_subset.columns==y_df.columns))\n",
    "y_df_final = pd.concat([y_df, y_df_0_subset])"
   ]
  },
  {
   "cell_type": "code",
   "execution_count": null,
   "id": "79fa6c8a",
   "metadata": {},
   "outputs": [],
   "source": [
    "y_pred_final=np.append(y_pred, [0]*len(y_df_0_subset))"
   ]
  },
  {
   "cell_type": "code",
   "execution_count": null,
   "id": "33265922",
   "metadata": {},
   "outputs": [],
   "source": [
    "print(\"ACCURACY  OF THE MODEL: \", accuracy_score(y_df_final.values, y_pred_final))\n",
    "print(\"PRECISION OF THE MODEL: \", precision_score(y_df_final.values, y_pred_final))\n",
    "print(\"RECALL    OF THE MODEL: \", recall_score(y_df_final.values, y_pred_final))"
   ]
  },
  {
   "cell_type": "code",
   "execution_count": null,
   "id": "cc7c4476",
   "metadata": {},
   "outputs": [],
   "source": []
  },
  {
   "cell_type": "code",
   "execution_count": null,
   "id": "b452e132",
   "metadata": {},
   "outputs": [],
   "source": []
  },
  {
   "cell_type": "code",
   "execution_count": null,
   "id": "962c39fd",
   "metadata": {},
   "outputs": [],
   "source": []
  },
  {
   "cell_type": "code",
   "execution_count": null,
   "id": "30462903",
   "metadata": {},
   "outputs": [],
   "source": []
  },
  {
   "cell_type": "code",
   "execution_count": null,
   "id": "9ebcf09a",
   "metadata": {},
   "outputs": [],
   "source": []
  },
  {
   "cell_type": "code",
   "execution_count": null,
   "id": "29201c9d",
   "metadata": {},
   "outputs": [],
   "source": [
    "from sklearn.cluster import KMeans"
   ]
  },
  {
   "cell_type": "code",
   "execution_count": null,
   "id": "a0d87e18",
   "metadata": {},
   "outputs": [],
   "source": [
    "kmeans = KMeans(n_clusters=50)"
   ]
  },
  {
   "cell_type": "code",
   "execution_count": null,
   "id": "d01f4ff6",
   "metadata": {},
   "outputs": [],
   "source": [
    "y_pred = kmeans.fit_predict(X_train)\n",
    "y_train_w_km = list(zip(y_train, y_pred))"
   ]
  },
  {
   "cell_type": "code",
   "execution_count": null,
   "id": "c9a1e738",
   "metadata": {},
   "outputs": [],
   "source": [
    "max_pct = 0\n",
    "n_pct_eq_0 = 0\n",
    "for i in range(max(y_pred)):\n",
    "    print(i)\n",
    "    subset = [x for x in y_train_w_km if x[1]==i]\n",
    "    print(f'len(subset) = {len(subset)}')\n",
    "    sum_i = sum([x[0] for x in subset])\n",
    "    print(f'Sum = {sum_i}')\n",
    "    pct_i = sum_i/len(subset)\n",
    "    print(f'Pct = {pct_i}')\n",
    "    max_pct = max_pct if max_pct>pct_i else pct_i\n",
    "    print()\n",
    "    \n",
    "    \n",
    "    if pct_i==0:\n",
    "        n_pct_eq_0+=1"
   ]
  },
  {
   "cell_type": "code",
   "execution_count": null,
   "id": "98a34340",
   "metadata": {},
   "outputs": [],
   "source": [
    "max_pct"
   ]
  },
  {
   "cell_type": "code",
   "execution_count": null,
   "id": "9898fbc7",
   "metadata": {},
   "outputs": [],
   "source": [
    "print(n_pct_eq_0)\n",
    "print(max(y_pred))"
   ]
  },
  {
   "cell_type": "code",
   "execution_count": null,
   "id": "d9f6b172",
   "metadata": {},
   "outputs": [],
   "source": []
  },
  {
   "cell_type": "code",
   "execution_count": null,
   "id": "d8e37eb3",
   "metadata": {},
   "outputs": [],
   "source": []
  },
  {
   "cell_type": "code",
   "execution_count": null,
   "id": "4c2aed89",
   "metadata": {},
   "outputs": [],
   "source": []
  },
  {
   "cell_type": "code",
   "execution_count": null,
   "id": "121418f6",
   "metadata": {},
   "outputs": [],
   "source": [
    "dev_X_train = copy.deepcopy(X_train)\n",
    "dev_y_train = copy.deepcopy(y_train)"
   ]
  },
  {
   "cell_type": "code",
   "execution_count": null,
   "id": "b96a0a1a",
   "metadata": {},
   "outputs": [],
   "source": [
    "dev_X_train"
   ]
  },
  {
   "cell_type": "code",
   "execution_count": null,
   "id": "0ca807ed",
   "metadata": {},
   "outputs": [],
   "source": [
    "dev_X_train['01-05 Days'].columns"
   ]
  },
  {
   "cell_type": "code",
   "execution_count": null,
   "id": "ccce959a",
   "metadata": {},
   "outputs": [],
   "source": []
  },
  {
   "cell_type": "code",
   "execution_count": null,
   "id": "3a8afdd1",
   "metadata": {},
   "outputs": [],
   "source": [
    "tmp_reasons = [\n",
    "    'Error occurred when attempting to synch meter time with NIC time for device', \n",
    "    'Under Voltage for meter', \n",
    "    'Primary Power Down occurred for meter', \n",
    "    'Primary Power Up occurred for meter', \n",
    "    'Last Gasp - NIC power lost for device'\n",
    "]"
   ]
  },
  {
   "cell_type": "code",
   "execution_count": null,
   "id": "58b19c44",
   "metadata": {},
   "outputs": [],
   "source": [
    "dev_X_train.columns[dev_X_train.columns.get_level_values(1).isin(tmp_reasons)]"
   ]
  },
  {
   "cell_type": "code",
   "execution_count": null,
   "id": "0dff9411",
   "metadata": {},
   "outputs": [],
   "source": [
    "tmp_cols = dev_X_train.columns[dev_X_train.columns.get_level_values(1).isin(tmp_reasons)]"
   ]
  },
  {
   "cell_type": "code",
   "execution_count": null,
   "id": "36e9f7c3",
   "metadata": {},
   "outputs": [],
   "source": [
    "tmp_counts = (dev_X_train[tmp_cols]>0.10).sum(axis=1)"
   ]
  },
  {
   "cell_type": "code",
   "execution_count": null,
   "id": "86d738ed",
   "metadata": {},
   "outputs": [],
   "source": [
    "tmp_idxs = tmp_counts.index[tmp_counts>5]"
   ]
  },
  {
   "cell_type": "code",
   "execution_count": null,
   "id": "c9a05952",
   "metadata": {},
   "outputs": [],
   "source": [
    "dev_y_train.loc[tmp_idxs]"
   ]
  },
  {
   "cell_type": "code",
   "execution_count": null,
   "id": "f5a642f5",
   "metadata": {},
   "outputs": [],
   "source": [
    "print(len(tmp_idxs))\n",
    "print(dev_y_train.loc[tmp_idxs].sum())"
   ]
  },
  {
   "cell_type": "code",
   "execution_count": null,
   "id": "5670f815",
   "metadata": {},
   "outputs": [],
   "source": []
  },
  {
   "cell_type": "code",
   "execution_count": null,
   "id": "a50eac19",
   "metadata": {},
   "outputs": [],
   "source": []
  },
  {
   "cell_type": "code",
   "execution_count": null,
   "id": "33daf3ea",
   "metadata": {},
   "outputs": [],
   "source": []
  },
  {
   "cell_type": "code",
   "execution_count": null,
   "id": "f3206b6e",
   "metadata": {},
   "outputs": [],
   "source": []
  },
  {
   "cell_type": "code",
   "execution_count": null,
   "id": "6d420879",
   "metadata": {},
   "outputs": [],
   "source": []
  },
  {
   "cell_type": "code",
   "execution_count": null,
   "id": "cac1a546",
   "metadata": {},
   "outputs": [],
   "source": []
  },
  {
   "cell_type": "code",
   "execution_count": null,
   "id": "588a1f31",
   "metadata": {},
   "outputs": [],
   "source": [
    "dev_X_train[tmp_cols]"
   ]
  },
  {
   "cell_type": "code",
   "execution_count": null,
   "id": "72937fa6",
   "metadata": {},
   "outputs": [],
   "source": [
    "counts_per_pd_i = (dev_X_train[tmp_cols]['01-05 Days']>0.10).sum(axis=1)\n",
    "counts_per_pd_i.name = '01-05 Days'"
   ]
  },
  {
   "cell_type": "code",
   "execution_count": null,
   "id": "ce1f8447",
   "metadata": {},
   "outputs": [],
   "source": []
  },
  {
   "cell_type": "code",
   "execution_count": null,
   "id": "a39e5f01",
   "metadata": {},
   "outputs": [],
   "source": []
  },
  {
   "cell_type": "code",
   "execution_count": null,
   "id": "0a9a044b",
   "metadata": {},
   "outputs": [],
   "source": [
    "counts_per_pd = []\n",
    "pds = dev_X_train.columns.get_level_values(0).unique().tolist()\n",
    "for pd_i in pds:\n",
    "    counts_per_pd_i = (dev_X_train[tmp_cols][pd_i]>0.10).sum(axis=1)\n",
    "    counts_per_pd_i.name = pd_i  \n",
    "    counts_per_pd.append(counts_per_pd_i)"
   ]
  },
  {
   "cell_type": "code",
   "execution_count": null,
   "id": "0a9def29",
   "metadata": {},
   "outputs": [],
   "source": [
    "counts_per_pd = reduce(lambda left,right: pd.merge(left, right, left_index=True, right_index=True, how='inner'), counts_per_pd)"
   ]
  },
  {
   "cell_type": "code",
   "execution_count": null,
   "id": "665b4f7b",
   "metadata": {},
   "outputs": [],
   "source": [
    "counts_per_pd"
   ]
  },
  {
   "cell_type": "code",
   "execution_count": null,
   "id": "96229193",
   "metadata": {},
   "outputs": [],
   "source": [
    "(counts_per_pd>1)"
   ]
  },
  {
   "cell_type": "code",
   "execution_count": null,
   "id": "cdb8b767",
   "metadata": {},
   "outputs": [],
   "source": [
    "tmp_day_counts = (counts_per_pd>3).sum(axis=1)"
   ]
  },
  {
   "cell_type": "code",
   "execution_count": null,
   "id": "bf67f370",
   "metadata": {},
   "outputs": [],
   "source": [
    "tmp_idxs = tmp_day_counts.index[tmp_day_counts>1]"
   ]
  },
  {
   "cell_type": "code",
   "execution_count": null,
   "id": "92c39965",
   "metadata": {},
   "outputs": [],
   "source": [
    "print(len(tmp_idxs))\n",
    "print(dev_y_train.loc[tmp_idxs].sum())"
   ]
  },
  {
   "cell_type": "code",
   "execution_count": null,
   "id": "3065d728",
   "metadata": {},
   "outputs": [],
   "source": [
    "dev_y_train.sum()"
   ]
  },
  {
   "cell_type": "code",
   "execution_count": null,
   "id": "c59ed48c",
   "metadata": {},
   "outputs": [],
   "source": [
    "counts_per_pd.loc[tmp_idxs]"
   ]
  },
  {
   "cell_type": "code",
   "execution_count": null,
   "id": "2fe226af",
   "metadata": {},
   "outputs": [],
   "source": []
  },
  {
   "cell_type": "code",
   "execution_count": null,
   "id": "9d8df84d",
   "metadata": {},
   "outputs": [],
   "source": []
  },
  {
   "cell_type": "code",
   "execution_count": null,
   "id": "6ef5345a",
   "metadata": {},
   "outputs": [],
   "source": []
  },
  {
   "cell_type": "markdown",
   "id": "33802424",
   "metadata": {},
   "source": [
    "# Impact Estimate"
   ]
  },
  {
   "cell_type": "code",
   "execution_count": null,
   "id": "61545647",
   "metadata": {},
   "outputs": [],
   "source": [
    "print(X_HOLDOUT.shape)\n",
    "print(y_HOLDOUT.shape)\n",
    "print(full_data_df_HOLDOUT.shape)"
   ]
  },
  {
   "cell_type": "code",
   "execution_count": null,
   "id": "6c8de4b6",
   "metadata": {},
   "outputs": [],
   "source": [
    "full_data_df_HOLDOUT"
   ]
  },
  {
   "cell_type": "code",
   "execution_count": null,
   "id": "a525f471",
   "metadata": {},
   "outputs": [],
   "source": [
    "y_HOLDOUT.sum()"
   ]
  },
  {
   "cell_type": "code",
   "execution_count": null,
   "id": "b0054f52",
   "metadata": {},
   "outputs": [],
   "source": [
    "X_by_confusion_result = get_X_entries_by_binary_confusion_matrix_result(X_HOLDOUT, y_HOLDOUT, y_pred_HOLDOUT)\n",
    "X_by_confusion_result = convert_X_by_confusion_results_to_dfs(\n",
    "    X_by_confusion_result=X_by_confusion_result, \n",
    "    full_data_df=full_data_df_HOLDOUT, \n",
    "    run_PCA=run_PCA, \n",
    "    run_scaler=run_scaler    \n",
    ")\n",
    "\n",
    "X_tp = X_by_confusion_result['X_tp']\n",
    "X_tn = X_by_confusion_result['X_tn']\n",
    "X_fp = X_by_confusion_result['X_fp']\n",
    "X_fn = X_by_confusion_result['X_fn']"
   ]
  },
  {
   "cell_type": "code",
   "execution_count": null,
   "id": "e599227d",
   "metadata": {},
   "outputs": [],
   "source": [
    "print('TP', X_tp.shape)\n",
    "print('TN', X_tn.shape)\n",
    "print('FP', X_fp.shape)\n",
    "print('FN', X_fn.shape)"
   ]
  },
  {
   "cell_type": "code",
   "execution_count": null,
   "id": "d2775349",
   "metadata": {},
   "outputs": [],
   "source": []
  },
  {
   "cell_type": "code",
   "execution_count": null,
   "id": "a975ad00",
   "metadata": {},
   "outputs": [],
   "source": [
    "print(X_HOLDOUT.shape)\n",
    "print(y_HOLDOUT.shape)\n",
    "print(full_data_df_HOLDOUT.shape)"
   ]
  },
  {
   "cell_type": "code",
   "execution_count": null,
   "id": "633ca8bf",
   "metadata": {},
   "outputs": [],
   "source": [
    "#-------------------------\n",
    "# Set y_pred column in full_data_df_HOLDOUT\n",
    "assert(X_HOLDOUT.shape[0]==y_HOLDOUT.shape[0]==full_data_df_HOLDOUT.shape[0])\n",
    "assert(X_HOLDOUT.shape[1]+1==full_data_df_HOLDOUT.shape[1])\n",
    "assert(full_data_df_HOLDOUT[('is_outg', 'is_outg')].equals(y_HOLDOUT))\n",
    "full_data_df_HOLDOUT[(('y_pred','y_pred'))]=y_pred_HOLDOUT"
   ]
  },
  {
   "cell_type": "code",
   "execution_count": null,
   "id": "642bbf5b",
   "metadata": {},
   "outputs": [],
   "source": [
    "#-------------------------\n",
    "# Restore MultiIndex index of full_data_df_HOLDOUT which was lost when outages and non-outages were combined.\n",
    "#   Non-outages will have None (I believe converted to NaN) for level 0 index value (i.e., for the outg_rec_nb index)\n",
    "full_data_df_HOLDOUT.index = pd.MultiIndex.from_tuples([x if isinstance(x,tuple) else (None, x) for x in full_data_df_HOLDOUT.index.tolist()])\n",
    "full_data_df_HOLDOUT.index.names=['outg_rec_nb', 'trsf_pole_nb']"
   ]
  },
  {
   "cell_type": "code",
   "execution_count": null,
   "id": "2b9cb183",
   "metadata": {},
   "outputs": [],
   "source": [
    "#-------------------------\n",
    "# Split full_data_df_HOLDOUT into tp, tn, fp, fn\n",
    "#----------\n",
    "full_data_tp = full_data_df_HOLDOUT[\n",
    "    (full_data_df_HOLDOUT[('is_outg', 'is_outg')]==1) & \n",
    "    (full_data_df_HOLDOUT[('y_pred', 'y_pred')]  ==1)\n",
    "].copy()\n",
    "#----------\n",
    "full_data_tn = full_data_df_HOLDOUT[\n",
    "    (full_data_df_HOLDOUT[('is_outg', 'is_outg')]==0) & \n",
    "    (full_data_df_HOLDOUT[('y_pred', 'y_pred')]  ==0)\n",
    "].copy()\n",
    "#----------\n",
    "full_data_fp = full_data_df_HOLDOUT[\n",
    "    (full_data_df_HOLDOUT[('is_outg', 'is_outg')]==0) & \n",
    "    (full_data_df_HOLDOUT[('y_pred', 'y_pred')]  ==1)\n",
    "].copy()\n",
    "#----------\n",
    "full_data_fn = full_data_df_HOLDOUT[\n",
    "    (full_data_df_HOLDOUT[('is_outg', 'is_outg')]==1) & \n",
    "    (full_data_df_HOLDOUT[('y_pred', 'y_pred')]  ==0)\n",
    "].copy()\n",
    "#----------"
   ]
  },
  {
   "cell_type": "code",
   "execution_count": null,
   "id": "7235894a",
   "metadata": {},
   "outputs": [],
   "source": [
    "print(f'full_data_tp.shape[0] = {full_data_tp.shape[0]}')\n",
    "print(f'full_data_tn.shape[0] = {full_data_tn.shape[0]}')\n",
    "print(f'full_data_fp.shape[0] = {full_data_fp.shape[0]}')\n",
    "print(f'full_data_fn.shape[0] = {full_data_fn.shape[0]}')\n",
    "print()\n",
    "print('tp and fn should be true outages, therefore should have index level 0 values (for outg_rec_nb)')\n",
    "print(f'#NaNs TP: {full_data_tp.index.get_level_values(0).isna().sum()}')\n",
    "print(f'#NaNs FN: {full_data_fn.index.get_level_values(0).isna().sum()}')\n",
    "print()\n",
    "print('tn and fp should NOT be outages, therefore should have only NaN index level 0 values (for outg_rec_nb)')\n",
    "print(f'#not-NaNs TN: {full_data_tn.index.get_level_values(0).notna().sum()}')\n",
    "print(f'#not-NaNs FP: {full_data_fp.index.get_level_values(0).notna().sum()}')"
   ]
  },
  {
   "cell_type": "code",
   "execution_count": null,
   "id": "715acb50",
   "metadata": {},
   "outputs": [],
   "source": []
  },
  {
   "cell_type": "code",
   "execution_count": null,
   "id": "f5d4b107",
   "metadata": {
    "scrolled": true
   },
   "outputs": [],
   "source": [
    "dovs_outgs_tp = DOVSOutages(\n",
    "    df_construct_type=DFConstructType.kRunSqlQuery, \n",
    "    contstruct_df_args=None, \n",
    "    init_df_in_constructor=True,\n",
    "    build_sql_function=DOVSOutages_SQL.build_sql_std_outage, \n",
    "    build_sql_function_kwargs=dict(\n",
    "        outg_rec_nbs=full_data_tp.index.get_level_values(0).unique().tolist(), \n",
    "        field_to_split='outg_rec_nbs', \n",
    "        batch_size=1000, \n",
    "        verbose=True,\n",
    "        n_update=1\n",
    "    ), \n",
    "    build_consolidated=True\n",
    ")\n",
    "dovs_outgs_df_tp = dovs_outgs_tp.df.copy()"
   ]
  },
  {
   "cell_type": "code",
   "execution_count": null,
   "id": "77edf6a4",
   "metadata": {},
   "outputs": [],
   "source": [
    "dovs_outgs_fn = DOVSOutages(\n",
    "    df_construct_type=DFConstructType.kRunSqlQuery, \n",
    "    contstruct_df_args=None, \n",
    "    init_df_in_constructor=True,\n",
    "    build_sql_function=DOVSOutages_SQL.build_sql_std_outage, \n",
    "    build_sql_function_kwargs=dict(\n",
    "        outg_rec_nbs=full_data_fn.index.get_level_values(0).unique().tolist(), \n",
    "        field_to_split='outg_rec_nbs', \n",
    "        batch_size=1000, \n",
    "        verbose=True,\n",
    "        n_update=1\n",
    "    ), \n",
    "    build_consolidated=True\n",
    ")\n",
    "dovs_outgs_df_fn = dovs_outgs_fn.df.copy()"
   ]
  },
  {
   "cell_type": "code",
   "execution_count": null,
   "id": "4e3c4d6d",
   "metadata": {},
   "outputs": [],
   "source": [
    "dovs_outgs_df_tp.describe()"
   ]
  },
  {
   "cell_type": "code",
   "execution_count": null,
   "id": "2fbe5773",
   "metadata": {},
   "outputs": [],
   "source": [
    "dovs_outgs_df_fn.describe()"
   ]
  },
  {
   "cell_type": "code",
   "execution_count": null,
   "id": "a58a165f",
   "metadata": {},
   "outputs": [],
   "source": []
  },
  {
   "cell_type": "code",
   "execution_count": null,
   "id": "bd648a60",
   "metadata": {},
   "outputs": [],
   "source": [
    "dovs_outgs_df_tp[['CI_NB', 'CMI_NB']].sum()"
   ]
  },
  {
   "cell_type": "code",
   "execution_count": null,
   "id": "d8fb5574",
   "metadata": {},
   "outputs": [],
   "source": [
    "dovs_outgs_df_fn[['CI_NB', 'CMI_NB']].sum()"
   ]
  },
  {
   "cell_type": "code",
   "execution_count": null,
   "id": "935e22a2",
   "metadata": {},
   "outputs": [],
   "source": [
    "dovs_outgs_df_tp"
   ]
  },
  {
   "cell_type": "code",
   "execution_count": null,
   "id": "7f7d7db2",
   "metadata": {},
   "outputs": [],
   "source": [
    "# len(Utilities_df.consolidate_column_of_lists(dovs_outgs_df_tp, 'premise_nbs'))"
   ]
  },
  {
   "cell_type": "code",
   "execution_count": null,
   "id": "46b5f336",
   "metadata": {},
   "outputs": [],
   "source": []
  },
  {
   "cell_type": "code",
   "execution_count": null,
   "id": "412bb50b",
   "metadata": {},
   "outputs": [],
   "source": [
    "n_xfmr_crct_inspct = full_data_tp.index.get_level_values(1).nunique()\n",
    "print(f'Number of transformers crews correctly sent to:   {n_xfmr_crct_inspct}')\n",
    "#-----\n",
    "n_xfmr_incrct_inspct = full_data_fp.index.get_level_values(1).nunique()\n",
    "print(f'Number of transformers crews incorrectly sent to: {n_xfmr_incrct_inspct}')\n",
    "#-----\n",
    "print()\n",
    "print(f\"Total CI possibly avoided:  {dovs_outgs_df_tp['CI_NB'].sum()}\")\n",
    "print(f\"Total CMI possibly avoided: {dovs_outgs_df_tp['CMI_NB'].sum()}\")\n",
    "#-----\n",
    "print()\n",
    "print(f\"Total CI possibly missed:  {dovs_outgs_df_fn['CI_NB'].sum()}\")\n",
    "print(f\"Total CMI possibly missed: {dovs_outgs_df_fn['CMI_NB'].sum()}\")"
   ]
  },
  {
   "cell_type": "code",
   "execution_count": null,
   "id": "17b9f30f",
   "metadata": {},
   "outputs": [],
   "source": []
  },
  {
   "cell_type": "code",
   "execution_count": null,
   "id": "11e54bd0",
   "metadata": {},
   "outputs": [],
   "source": [
    "outg_rec_nbs_tp = full_data_tp.index.get_level_values(0).unique().tolist()\n",
    "outg_rec_nbs_fn = full_data_fn.index.get_level_values(0).unique().tolist()\n",
    "#-----\n",
    "print(f'len(outg_rec_nbs_tp) = {len(outg_rec_nbs_tp)}')\n",
    "print(f'len(outg_rec_nbs_fn) = {len(outg_rec_nbs_fn)}')\n",
    "print(f'Intersection: {len(set(outg_rec_nbs_tp).intersection(set(outg_rec_nbs_fn)))}')\n",
    "print(f'In TP not FN: {len(set(outg_rec_nbs_tp).difference(set(outg_rec_nbs_fn)))}')\n",
    "print(f'In FN not TP: {len(set(outg_rec_nbs_fn).difference(set(outg_rec_nbs_tp)))}')"
   ]
  },
  {
   "cell_type": "code",
   "execution_count": null,
   "id": "c1bcde16",
   "metadata": {},
   "outputs": [],
   "source": [
    "set(outg_rec_nbs_tp).intersection(set(outg_rec_nbs_fn))"
   ]
  },
  {
   "cell_type": "code",
   "execution_count": null,
   "id": "2600fb2d",
   "metadata": {},
   "outputs": [],
   "source": [
    "fck = dovs_outgs_df_tp.loc[set(outg_rec_nbs_tp).intersection(set(outg_rec_nbs_fn))].copy()\n",
    "fck[fck['EQUIP_TYP_NM'].isin(['TRANSFORMER, OH', 'TRANSFORMER, UG'])]"
   ]
  },
  {
   "cell_type": "code",
   "execution_count": null,
   "id": "56359ee2",
   "metadata": {},
   "outputs": [],
   "source": []
  },
  {
   "cell_type": "code",
   "execution_count": null,
   "id": "bf11b0e7",
   "metadata": {},
   "outputs": [],
   "source": [
    "outg_rec_nb_i = '12818346'"
   ]
  },
  {
   "cell_type": "code",
   "execution_count": null,
   "id": "059ebb16",
   "metadata": {},
   "outputs": [],
   "source": [
    "dovs_outgs_df_tp.loc[outg_rec_nb_i]"
   ]
  },
  {
   "cell_type": "code",
   "execution_count": null,
   "id": "b43a6ab3",
   "metadata": {},
   "outputs": [],
   "source": []
  },
  {
   "cell_type": "code",
   "execution_count": null,
   "id": "d64c1968",
   "metadata": {},
   "outputs": [],
   "source": [
    "full_data_tp.loc[outg_rec_nb_i]"
   ]
  },
  {
   "cell_type": "code",
   "execution_count": null,
   "id": "71a8fecb",
   "metadata": {},
   "outputs": [],
   "source": [
    "# full_data_fn.loc[outg_rec_nb_i]"
   ]
  },
  {
   "cell_type": "code",
   "execution_count": null,
   "id": "88ba8aa9",
   "metadata": {},
   "outputs": [],
   "source": [
    "full_data_df_HOLDOUT.loc[outg_rec_nb_i]"
   ]
  },
  {
   "cell_type": "code",
   "execution_count": null,
   "id": "8b1f5a8b",
   "metadata": {},
   "outputs": [],
   "source": [
    "dovs_outgs_df_tp.loc[outg_rec_nb_i]"
   ]
  },
  {
   "cell_type": "code",
   "execution_count": null,
   "id": "a5f8c2b5",
   "metadata": {},
   "outputs": [],
   "source": [
    "outg_rec_nb_i"
   ]
  },
  {
   "cell_type": "code",
   "execution_count": null,
   "id": "3d2c044d",
   "metadata": {},
   "outputs": [],
   "source": []
  },
  {
   "cell_type": "code",
   "execution_count": null,
   "id": "e7696207",
   "metadata": {},
   "outputs": [],
   "source": []
  },
  {
   "cell_type": "code",
   "execution_count": null,
   "id": "4f2aed57",
   "metadata": {},
   "outputs": [],
   "source": [
    "full_data_df_HOLDOUT_OUTG = full_data_df_HOLDOUT[full_data_df_HOLDOUT[('is_outg', 'is_outg')]==1].copy()\n",
    "#-----\n",
    "full_data_df_HOLDOUT_OUTG = DOVSOutages.append_outg_info_to_df(\n",
    "    df=full_data_df_HOLDOUT_OUTG, \n",
    "    outg_rec_nb_idfr=('index', 'outg_rec_nb'), \n",
    "    build_sql_function=DOVSOutages_SQL.build_sql_std_outage, \n",
    ")"
   ]
  },
  {
   "cell_type": "code",
   "execution_count": null,
   "id": "6756fc7c",
   "metadata": {},
   "outputs": [],
   "source": [
    "full_data_df_HOLDOUT_OUTG.columns"
   ]
  },
  {
   "cell_type": "code",
   "execution_count": null,
   "id": "b381f8e9",
   "metadata": {},
   "outputs": [],
   "source": [
    "full_data_df_HOLDOUT_OUTG"
   ]
  },
  {
   "cell_type": "code",
   "execution_count": null,
   "id": "613695bb",
   "metadata": {},
   "outputs": [],
   "source": [
    "full_data_df_HOLDOUT_OUTG[full_data_df_HOLDOUT_OUTG.index.get_level_values(0).notna()]"
   ]
  },
  {
   "cell_type": "code",
   "execution_count": null,
   "id": "2c615958",
   "metadata": {},
   "outputs": [],
   "source": [
    "full_data_df_HOLDOUT_OUTG[full_data_df_HOLDOUT_OUTG.index.get_level_values(1)==full_data_df_HOLDOUT_OUTG['LOCATION_ID']]"
   ]
  },
  {
   "cell_type": "code",
   "execution_count": null,
   "id": "1e9be5f8",
   "metadata": {},
   "outputs": [],
   "source": [
    "full_data_df_HOLDOUT_OUTG[\n",
    "    (full_data_df_HOLDOUT_OUTG['MJR_CAUSE_CD']=='DL') & \n",
    "    (full_data_df_HOLDOUT_OUTG['MNR_CAUSE_CD']=='EQF') & \n",
    "    (full_data_df_HOLDOUT_OUTG['EQUIP_TYP_NM'].isin(['TRANSFORMER, OH', 'TRANSFORMER, UG']))\n",
    "]"
   ]
  },
  {
   "cell_type": "code",
   "execution_count": null,
   "id": "c11257d3",
   "metadata": {},
   "outputs": [],
   "source": [
    "full_data_df_HOLDOUT_OUTG[\n",
    "    (full_data_df_HOLDOUT_OUTG['MJR_CAUSE_CD']=='DL') & \n",
    "    (full_data_df_HOLDOUT_OUTG['MNR_CAUSE_CD']=='EQF') & \n",
    "    (full_data_df_HOLDOUT_OUTG['EQUIP_TYP_NM'].isin(['TRANSFORMER, OH', 'TRANSFORMER, UG'])) & \n",
    "    (full_data_df_HOLDOUT_OUTG.index.get_level_values(1)==full_data_df_HOLDOUT_OUTG['LOCATION_ID'])\n",
    "]"
   ]
  },
  {
   "cell_type": "code",
   "execution_count": null,
   "id": "57703e1b",
   "metadata": {},
   "outputs": [],
   "source": [
    "full_data_df_HOLDOUT_OUTG[\n",
    "    (full_data_df_HOLDOUT_OUTG['MJR_CAUSE_CD']=='DL') & \n",
    "    (full_data_df_HOLDOUT_OUTG['MNR_CAUSE_CD']=='EQF') & \n",
    "    (full_data_df_HOLDOUT_OUTG['EQUIP_TYP_NM'].isin(['TRANSFORMER, OH', 'TRANSFORMER, UG'])) & \n",
    "    (full_data_df_HOLDOUT_OUTG.index.get_level_values(1)!=full_data_df_HOLDOUT_OUTG['LOCATION_ID'])\n",
    "]"
   ]
  },
  {
   "cell_type": "code",
   "execution_count": null,
   "id": "48dee944",
   "metadata": {},
   "outputs": [],
   "source": []
  },
  {
   "cell_type": "code",
   "execution_count": null,
   "id": "6e7ead0b",
   "metadata": {},
   "outputs": [],
   "source": []
  },
  {
   "cell_type": "code",
   "execution_count": null,
   "id": "6922d6d4",
   "metadata": {},
   "outputs": [],
   "source": []
  },
  {
   "cell_type": "code",
   "execution_count": null,
   "id": "c8eebe7a",
   "metadata": {},
   "outputs": [],
   "source": []
  },
  {
   "cell_type": "code",
   "execution_count": null,
   "id": "56c0c05e",
   "metadata": {},
   "outputs": [],
   "source": [
    "outg_rec_nbs_tp = full_data_tp.index.get_level_values(0).unique().tolist()\n",
    "outg_rec_nbs_fn = full_data_fn.index.get_level_values(0).unique().tolist()\n",
    "#-----\n",
    "print(f'len(outg_rec_nbs_tp) = {len(outg_rec_nbs_tp)}')\n",
    "print(f'len(outg_rec_nbs_fn) = {len(outg_rec_nbs_fn)}')\n",
    "print(f'Intersection: {len(set(outg_rec_nbs_tp).intersection(set(outg_rec_nbs_fn)))}')\n",
    "print(f'In TP not FN: {len(set(outg_rec_nbs_tp).difference(set(outg_rec_nbs_fn)))}')\n",
    "print(f'In FN not TP: {len(set(outg_rec_nbs_fn).difference(set(outg_rec_nbs_tp)))}')"
   ]
  },
  {
   "cell_type": "code",
   "execution_count": null,
   "id": "60dc2ab8",
   "metadata": {},
   "outputs": [],
   "source": []
  },
  {
   "cell_type": "code",
   "execution_count": null,
   "id": "c973ce9e",
   "metadata": {},
   "outputs": [],
   "source": [
    "print(f'Total number of outages in TP & FN: {len(set(outg_rec_nbs_tp+outg_rec_nbs_fn))}')\n",
    "print()\n",
    "print(f'Number of outages in TP:      {len(outg_rec_nbs_tp)}')\n",
    "print(f'Number of outages ONLY in TP: {len(set(outg_rec_nbs_tp).difference(set(outg_rec_nbs_fn)))}')\n",
    "print()\n",
    "print(f'Number of outages in FN:      {len(outg_rec_nbs_fn)}')\n",
    "print(f'Number of outages ONLY in FN: {len(set(outg_rec_nbs_fn).difference(set(outg_rec_nbs_tp)))}')\n",
    "print()\n",
    "print(f'Number of outages in both TP and FN: {len(set(outg_rec_nbs_tp).intersection(set(outg_rec_nbs_fn)))}')"
   ]
  },
  {
   "cell_type": "code",
   "execution_count": null,
   "id": "8092a44b",
   "metadata": {},
   "outputs": [],
   "source": [
    "dovs_outgs_df_tp"
   ]
  },
  {
   "cell_type": "code",
   "execution_count": null,
   "id": "39bbe8df",
   "metadata": {},
   "outputs": [],
   "source": []
  },
  {
   "cell_type": "code",
   "execution_count": null,
   "id": "6215020d",
   "metadata": {},
   "outputs": [],
   "source": [
    "dovs_outgs_tp = DOVSOutages(\n",
    "    df_construct_type=DFConstructType.kRunSqlQuery, \n",
    "    contstruct_df_args=None, \n",
    "    init_df_in_constructor=True,\n",
    "    build_sql_function=DOVSOutages_SQL.build_sql_std_outage, \n",
    "    build_sql_function_kwargs=dict(\n",
    "#         outg_rec_nbs=full_data_tp.index.get_level_values(0).unique().tolist(),\n",
    "        outg_rec_nbs=list(set(outg_rec_nbs_tp).difference(set(outg_rec_nbs_fn))), \n",
    "        field_to_split='outg_rec_nbs'\n",
    "    ), \n",
    "    build_consolidated=True\n",
    ")\n",
    "dovs_outgs_df_tp = dovs_outgs_tp.df.copy()"
   ]
  },
  {
   "cell_type": "code",
   "execution_count": null,
   "id": "6368be25",
   "metadata": {},
   "outputs": [],
   "source": [
    "dovs_outgs_fn = DOVSOutages(\n",
    "    df_construct_type=DFConstructType.kRunSqlQuery, \n",
    "    contstruct_df_args=None, \n",
    "    init_df_in_constructor=True,\n",
    "    build_sql_function=DOVSOutages_SQL.build_sql_std_outage, \n",
    "    build_sql_function_kwargs=dict(\n",
    "#         outg_rec_nbs=full_data_fn.index.get_level_values(0).unique().tolist(), \n",
    "        outg_rec_nbs=list(set(outg_rec_nbs_fn).difference(set(outg_rec_nbs_tp))), \n",
    "        field_to_split='outg_rec_nbs'\n",
    "    ), \n",
    "    build_consolidated=True\n",
    ")\n",
    "dovs_outgs_df_fn = dovs_outgs_fn.df.copy()"
   ]
  },
  {
   "cell_type": "code",
   "execution_count": null,
   "id": "17028457",
   "metadata": {},
   "outputs": [],
   "source": [
    "dovs_outgs_tpfn = DOVSOutages(\n",
    "    df_construct_type=DFConstructType.kRunSqlQuery, \n",
    "    contstruct_df_args=None, \n",
    "    init_df_in_constructor=True,\n",
    "    build_sql_function=DOVSOutages_SQL.build_sql_std_outage, \n",
    "    build_sql_function_kwargs=dict( \n",
    "        outg_rec_nbs=list(set(outg_rec_nbs_tp).intersection(set(outg_rec_nbs_fn))), \n",
    "        field_to_split='outg_rec_nbs'\n",
    "    ), \n",
    "    build_consolidated=True\n",
    ")\n",
    "dovs_outgs_df_tpfn = dovs_outgs_tpfn.df.copy()"
   ]
  },
  {
   "cell_type": "code",
   "execution_count": null,
   "id": "832ea852",
   "metadata": {},
   "outputs": [],
   "source": [
    "# dovs_outgs_fp = DOVSOutages(\n",
    "#     df_construct_type=DFConstructType.kRunSqlQuery, \n",
    "#     contstruct_df_args=None, \n",
    "#     init_df_in_constructor=True,\n",
    "#     build_sql_function=DOVSOutages_SQL.build_sql_std_outage, \n",
    "#     build_sql_function_kwargs=dict(\n",
    "#         outg_rec_nbs=full_data_fp.index.get_level_values(0).unique().tolist(), \n",
    "#         field_to_split='outg_rec_nbs'\n",
    "#     ), \n",
    "#     build_consolidated=True\n",
    "# )\n",
    "# dovs_outgs_df_fp = dovs_outgs_fp.df.copy()"
   ]
  },
  {
   "cell_type": "code",
   "execution_count": null,
   "id": "75274cbd",
   "metadata": {},
   "outputs": [],
   "source": []
  },
  {
   "cell_type": "code",
   "execution_count": null,
   "id": "d8f3f77e",
   "metadata": {},
   "outputs": [],
   "source": [
    "print('-'*50)\n",
    "print('COMPLETELY IDENTIFIED OUTAGES')\n",
    "print('\\tMeaning all meters affected by outage predict the outage')\n",
    "print(f\"Total CI:  {dovs_outgs_df_tp['CI_NB'].sum():,}\")\n",
    "print(f\"Total CMI: {dovs_outgs_df_tp['CMI_NB'].sum():,}\")\n",
    "print()\n",
    "print('-'*50)\n",
    "print('PARTIALLY IDENTIFIED OUTAGES')\n",
    "print('\\tMeaning some (but not all) meters affected by outage predict the outage')\n",
    "print(f\"Total CI:  {dovs_outgs_df_tpfn['CI_NB'].sum():,}\")\n",
    "print(f\"Total CMI: {dovs_outgs_df_tpfn['CMI_NB'].sum():,}\")\n",
    "print()\n",
    "print('-'*50)\n",
    "print('NOT IDENTIFIED OUTAGES')\n",
    "print('\\tMeaning none of the meters affected by outage predict the outage')\n",
    "print(f\"Total CI:  {dovs_outgs_df_fn['CI_NB'].sum():,}\")\n",
    "print(f\"Total CMI: {dovs_outgs_df_fn['CMI_NB'].sum():,}\")\n",
    "print()"
   ]
  },
  {
   "cell_type": "code",
   "execution_count": null,
   "id": "07fb97fe",
   "metadata": {},
   "outputs": [],
   "source": [
    "print('-'*50)\n",
    "print('COMPLETELY IDENTIFIED OUTAGES')\n",
    "print('\\tMeaning all meters affected by outage predict the outage')\n",
    "print(f\"Total CI:  {dovs_outgs_df_tp['CI_NB'].sum():e}\")\n",
    "print(f\"Total CMI: {dovs_outgs_df_tp['CMI_NB'].sum():e}\")\n",
    "print()\n",
    "print('-'*50)\n",
    "print('PARTIALLY IDENTIFIED OUTAGES')\n",
    "print('\\tMeaning some (but not all) meters affected by outage predict the outage')\n",
    "print(f\"Total CI:  {dovs_outgs_df_tpfn['CI_NB'].sum():e}\")\n",
    "print(f\"Total CMI: {dovs_outgs_df_tpfn['CMI_NB'].sum():e}\")\n",
    "print()\n",
    "print('-'*50)\n",
    "print('NOT IDENTIFIED OUTAGES')\n",
    "print('\\tMeaning none of the meters affected by outage predict the outage')\n",
    "print(f\"Total CI:  {dovs_outgs_df_fn['CI_NB'].sum():e}\")\n",
    "print(f\"Total CMI: {dovs_outgs_df_fn['CMI_NB'].sum():e}\")\n",
    "print()"
   ]
  },
  {
   "cell_type": "code",
   "execution_count": null,
   "id": "1bbe5538",
   "metadata": {},
   "outputs": [],
   "source": [
    "n_xfmr_crct_inspct = full_data_tp.index.get_level_values(1).nunique()\n",
    "print(f'Number of transformers crews correctly sent to:   {n_xfmr_crct_inspct}')\n",
    "#-----\n",
    "n_xfmr_incrct_inspct = full_data_fp.index.get_level_values(1).nunique()\n",
    "print(f'Number of transformers crews incorrectly sent to: {n_xfmr_incrct_inspct}')\n",
    "#-----\n",
    "print()\n",
    "print(f\"Total CI possibly avoided:  {dovs_outgs_df_tp['CI_NB'].sum()}\")\n",
    "print(f\"Total CMI possibly avoided: {dovs_outgs_df_tp['CMI_NB'].sum()}\")\n",
    "#-----\n",
    "print()\n",
    "print(f\"Total CI possibly missed:  {dovs_outgs_df_fn['CI_NB'].sum()}\")\n",
    "print(f\"Total CMI possibly missed: {dovs_outgs_df_fn['CMI_NB'].sum()}\")\n",
    "#-----\n",
    "print()\n",
    "print(f\"Total CI possibly missed:  {dovs_outgs_df_tpfn['CI_NB'].sum()}\")\n",
    "print(f\"Total CMI possibly missed: {dovs_outgs_df_tpfn['CMI_NB'].sum()}\")"
   ]
  },
  {
   "cell_type": "code",
   "execution_count": null,
   "id": "e8a6c245",
   "metadata": {},
   "outputs": [],
   "source": []
  },
  {
   "cell_type": "code",
   "execution_count": null,
   "id": "c973ed4c",
   "metadata": {},
   "outputs": [],
   "source": []
  },
  {
   "cell_type": "code",
   "execution_count": null,
   "id": "ed6b8b0f",
   "metadata": {},
   "outputs": [],
   "source": []
  },
  {
   "cell_type": "code",
   "execution_count": null,
   "id": "4197274b",
   "metadata": {},
   "outputs": [],
   "source": []
  },
  {
   "cell_type": "code",
   "execution_count": null,
   "id": "2da68e6c",
   "metadata": {},
   "outputs": [],
   "source": [
    "def set_pct_col(df, col='SUM_CMI_NB', pct_col='pct_cmi_nb'): \n",
    "    df[pct_col] = 100*df[col]/df[col].sum()\n",
    "    return df\n",
    "\n",
    "# def draw_outages_summary_barplot(fig, ax, df, \n",
    "#                                  x_col='MJR_MNR_CAUSE_NM', y_col='pct_cmi_nb', \n",
    "#                                  sort_values=True, y_threshold=None, abbr_leg_str=None, \n",
    "#                                  include_labels='include', \n",
    "#                                  x_tick_new_labels_dict=None, return_x_values_included=False, \n",
    "#                                  **kwargs):\n",
    "#     # Current kwargs keys: 'palette_dict', 'xlabel' 'ylabel', 'x_tick_rotation', 'title', 'title_font_size'\n",
    "#     # y_threshold:\n",
    "#     #     if y_threshold is not None, it should be a dict with keys = ['threshold_col', 'threshold_val']\n",
    "#     #       e.g. y_threshold={'threshold_col':'pct_cmi_nb', 'threshold_val':1.0}\n",
    "#     # include_labels: \n",
    "#     #     can equal 'include', 'exclude', 'passive' (CASE INSENSITIVE)\n",
    "#     include_labels = include_labels.lower()\n",
    "#     possible_include_labels = ['include', 'exclude', 'passive']\n",
    "#     if include_labels not in possible_include_labels:\n",
    "#         possible_include_labels = 'include'\n",
    "#     #---------------\n",
    "#     if y_threshold is not None:\n",
    "#         assert('threshold_col' in y_threshold and 'threshold_val' in y_threshold)\n",
    "#         df_to_plot = df[df[y_threshold['threshold_col']] > y_threshold['threshold_val']].copy()\n",
    "#     else:\n",
    "#         df_to_plot = df.copy()\n",
    "#     #---------------\n",
    "#     if sort_values:\n",
    "#         df_to_plot = df_to_plot.sort_values(by=y_col, ascending=False)\n",
    "#     #---------------\n",
    "#     sns.barplot(ax=ax, x=x_col, y=y_col, data=df_to_plot, \n",
    "#                 palette=kwargs.get('palette_dict', None))\n",
    "#     #---------------\n",
    "#     if include_labels=='include':\n",
    "#         ax.set_ylabel(kwargs.get('ylabel', y_col), fontsize=24, x=0.0, y=0.8, ha='left', va='bottom')\n",
    "#         ax.set_xlabel(kwargs.get('xlabel', x_col), fontsize=24, x=0.9, y=0.0, ha='right', va='top')   \n",
    "#         ax.tick_params(axis='both', labelsize=12)\n",
    "\n",
    "#         x_tick_rotation = kwargs.get('x_tick_rotation', 90)\n",
    "#         ax.tick_params(axis='x', labelrotation=x_tick_rotation, labelsize=12.0, direction='in')\n",
    "#         if x_tick_rotation != 0 and x_tick_rotation != 90:\n",
    "#             #-- Align rotated labels with ticks at end, not center\n",
    "#             for label in ax.xaxis.get_majorticklabels():\n",
    "#                 label.set_horizontalalignment('right')\n",
    "\n",
    "#         if x_tick_new_labels_dict is not None:\n",
    "#             labels = [x.get_text() for x in ax.get_xticklabels()]\n",
    "#             new_labels = [x_tick_new_labels_dict[x] for x in labels]\n",
    "#             ax.set_xticklabels(new_labels)\n",
    "#     elif include_labels=='exclude':\n",
    "#         ax.set(xticklabels=[])\n",
    "#         ax.set(yticklabels=[])\n",
    "#         ax.set(xlabel=None)\n",
    "#         ax.set(ylabel=None)\n",
    "#     else:\n",
    "#         assert(include_labels=='passive')\n",
    "#     #---------------\n",
    "#     if abbr_leg_str is not None:\n",
    "#         ax.text(1.025, 0.9, abbr_leg_str, transform=ax.transAxes, fontsize=20, ha='left', va='top')\n",
    "#     ax.set_title(kwargs.get('title', None), fontsize=kwargs.get('title_font_size', 40))\n",
    "#     if return_x_values_included:\n",
    "#         return fig, ax, df_to_plot[x_col].unique().tolist()\n",
    "#     else:\n",
    "#         return fig,ax\n",
    "\n",
    "\n",
    "\n",
    "def draw_outages_summary_barplot(\n",
    "    fig, \n",
    "    ax, \n",
    "    df, \n",
    "    x_col='MJR_MNR_CAUSE_NM', \n",
    "    y_col='pct_cmi_nb', \n",
    "    sort_values=True, \n",
    "    y_threshold=None, \n",
    "    order=None,\n",
    "    abbr_leg_str=None, \n",
    "    include_labels='include', \n",
    "    x_tick_new_labels_dict=None, \n",
    "    return_x_values_included=False, \n",
    "    div_drawn_width_by=None, \n",
    "    relative_position_idx=None,\n",
    "    **kwargs\n",
    "):\n",
    "    r\"\"\"\n",
    "    Current kwargs keys: \n",
    "        palette_dict\n",
    "        xlabel\n",
    "        ylabel\n",
    "        x_tick_rotation\n",
    "        title\n",
    "        title_font_size\n",
    "        hatch\n",
    "        \n",
    "    y_threshold:\n",
    "        if y_threshold is not None, it should be a dict with keys = ['threshold_col', 'threshold_val']\n",
    "          e.g. y_threshold={'threshold_col':'pct_cmi_nb', 'threshold_val':1.0}\n",
    "    include_labels: \n",
    "        can equal 'include', 'exclude', 'passive' (CASE INSENSITIVE)\n",
    "    \"\"\"\n",
    "    #-------------------------\n",
    "    # If order is given, both y_threshold and sort_values will be ignored\n",
    "    # NOTE: Through order one can also set the number of reasons to be included\n",
    "    if order is not None:\n",
    "        if sort_values:\n",
    "            print('Warning: order is not None, so sort_values will be ignored')\n",
    "            sort_values=False\n",
    "        if y_threshold is not None:\n",
    "            print('Warning: order is not None, so y_threshold will be ignored')\n",
    "            y_threshold = None\n",
    "    #---------------------------\n",
    "    n_patches_beg = len(ax.patches) # Needed in case adjust_bar_and_line_positions_and_widths used\n",
    "    #-------------------------\n",
    "    include_labels = include_labels.lower()\n",
    "    possible_include_labels = ['include', 'exclude', 'passive']\n",
    "    if include_labels not in possible_include_labels:\n",
    "        possible_include_labels = 'include'\n",
    "    #---------------\n",
    "    if y_threshold is not None:\n",
    "        assert('threshold_col' in y_threshold and 'threshold_val' in y_threshold)\n",
    "        df_to_plot = df[df[y_threshold['threshold_col']] > y_threshold['threshold_val']].copy()\n",
    "    else:\n",
    "        df_to_plot = df.copy()\n",
    "    #---------------\n",
    "    if sort_values:\n",
    "        df_to_plot = df_to_plot.sort_values(by=y_col, ascending=False)\n",
    "    #---------------\n",
    "    sns.barplot(\n",
    "        ax=ax, \n",
    "        x=x_col, \n",
    "        y=y_col, \n",
    "        data=df_to_plot, \n",
    "        order=order, \n",
    "        palette=kwargs.get('palette_dict', None), \n",
    "        hatch=kwargs.get('hatch', None))\n",
    "    #---------------------------\n",
    "    n_patches_end = len(ax.patches) # Needed in case properties of over/underflow bins need changed\n",
    "    #---------------------------\n",
    "    if div_drawn_width_by is not None:\n",
    "        if relative_position_idx is None:\n",
    "            relative_position_idx = 0\n",
    "        ax = Plot_Bar.adjust_bar_and_line_positions_and_widths(\n",
    "            ax=ax, \n",
    "            div_width_by=div_drawn_width_by, \n",
    "            position_idx=relative_position_idx, \n",
    "            i_patch_beg=n_patches_beg, \n",
    "            i_patch_end=n_patches_end, \n",
    "            orient='v'\n",
    "        )\n",
    "    #---------------\n",
    "    if include_labels=='include':\n",
    "        ax.set_ylabel(kwargs.get('ylabel', y_col), fontsize=24, x=0.0, y=0.8, ha='left', va='bottom')\n",
    "        ax.set_xlabel(kwargs.get('xlabel', x_col), fontsize=24, x=0.9, y=0.0, ha='right', va='top')   \n",
    "        ax.tick_params(axis='both', labelsize=12)\n",
    "\n",
    "        x_tick_rotation = kwargs.get('x_tick_rotation', 90)\n",
    "        ax.tick_params(axis='x', labelrotation=x_tick_rotation, labelsize=12.0, direction='in')\n",
    "        if x_tick_rotation != 0 and x_tick_rotation != 90:\n",
    "            #-- Align rotated labels with ticks at end, not center\n",
    "            for label in ax.xaxis.get_majorticklabels():\n",
    "                label.set_horizontalalignment('right')\n",
    "\n",
    "        if x_tick_new_labels_dict is not None:\n",
    "            labels = [x.get_text() for x in ax.get_xticklabels()]\n",
    "            new_labels = [x_tick_new_labels_dict[x] for x in labels]\n",
    "            ax.set_xticklabels(new_labels)\n",
    "    elif include_labels=='exclude':\n",
    "        ax.set(xticklabels=[])\n",
    "        ax.set(yticklabels=[])\n",
    "        ax.set(xlabel=None)\n",
    "        ax.set(ylabel=None)\n",
    "    else:\n",
    "        assert(include_labels=='passive')\n",
    "    #---------------\n",
    "    if abbr_leg_str is not None:\n",
    "        ax.text(1.025, 0.9, abbr_leg_str, transform=ax.transAxes, fontsize=20, ha='left', va='top')\n",
    "    ax.set_title(kwargs.get('title', None), fontsize=kwargs.get('title_font_size', 40))\n",
    "    if return_x_values_included:\n",
    "        return fig, ax, df_to_plot[x_col].unique().tolist()\n",
    "    else:\n",
    "        return fig,ax"
   ]
  },
  {
   "cell_type": "code",
   "execution_count": null,
   "id": "7bf4999c",
   "metadata": {},
   "outputs": [],
   "source": [
    "mjr_cause_cd_to_nm_dict = DOVSOutages.get_mjr_cause_cd_to_nm_dict()\n",
    "mjr_cause_nm_abbr_dict = {v:k for k,v in mjr_cause_cd_to_nm_dict.items()}\n",
    "max_len_abbr = len(max(list(mjr_cause_nm_abbr_dict.values()), key = len))\n",
    "abbr_leg_str = ''\n",
    "for mjr_cause in mjr_cause_nm_abbr_dict:\n",
    "    abbr_leg_str += '{}: {}\\n'.format(mjr_cause_nm_abbr_dict[mjr_cause].ljust(max_len_abbr), mjr_cause)"
   ]
  },
  {
   "cell_type": "code",
   "execution_count": null,
   "id": "27eeb6a3",
   "metadata": {},
   "outputs": [],
   "source": [
    "outgs_tp_mjr_mnr = dovs_outgs_df_tp.groupby(['MJR_CAUSE_CD', 'MNR_CAUSE_CD', 'MJR_CAUSE_NM', 'MNR_CAUSE_NM'])[['CI_NB', 'CMI_NB']].apply(sum).reset_index()\n",
    "outgs_tp_mjr_mnr = set_pct_col(outgs_tp_mjr_mnr, col='CMI_NB', pct_col='pct_cmi_nb')\n",
    "outgs_tp_mjr_mnr = set_pct_col(outgs_tp_mjr_mnr, col='CI_NB', pct_col='pct_ci_nb')\n",
    "outgs_tp_mjr_mnr = DOVSOutages.set_mjr_mnr_cause_nm_col(outgs_tp_mjr_mnr, set_null_to_NA=True, mjr_cause_nm_abbr_dict=mjr_cause_nm_abbr_dict)\n",
    "#-------------------------\n",
    "# outgs_tp_eqp_type = dovs_outgs_df_tp[(dovs_outgs_df_tp['MJR_CAUSE_CD']=='DL') & (dovs_outgs_df_tp['MNR_CAUSE_CD']=='EQF')].copy()\n",
    "# outgs_tp_eqp_type = outgs_tp_eqp_type.groupby(['EQUIP_TYP_NM', 'SHORT_NM_EQP_TYP'])[['CI_NB', 'CMI_NB']].apply(sum).reset_index()\n",
    "outgs_tp_eqp_type = dovs_outgs_df_tp.groupby(['EQUIP_TYP_NM', 'SHORT_NM_EQP_TYP'])[['CI_NB', 'CMI_NB']].apply(sum).reset_index()\n",
    "outgs_tp_eqp_type = set_pct_col(outgs_tp_eqp_type, col='CMI_NB', pct_col='pct_cmi_nb')\n",
    "outgs_tp_eqp_type = set_pct_col(outgs_tp_eqp_type, col='CI_NB', pct_col='pct_ci_nb')"
   ]
  },
  {
   "cell_type": "code",
   "execution_count": null,
   "id": "17ffc1e2",
   "metadata": {},
   "outputs": [],
   "source": [
    "outgs_fn_mjr_mnr = dovs_outgs_df_fn.groupby(['MJR_CAUSE_CD', 'MNR_CAUSE_CD', 'MJR_CAUSE_NM', 'MNR_CAUSE_NM'])[['CI_NB', 'CMI_NB']].apply(sum).reset_index()\n",
    "outgs_fn_mjr_mnr = set_pct_col(outgs_fn_mjr_mnr, col='CMI_NB', pct_col='pct_cmi_nb')\n",
    "outgs_fn_mjr_mnr = set_pct_col(outgs_fn_mjr_mnr, col='CI_NB', pct_col='pct_ci_nb')\n",
    "outgs_fn_mjr_mnr = DOVSOutages.set_mjr_mnr_cause_nm_col(outgs_fn_mjr_mnr, set_null_to_NA=True, mjr_cause_nm_abbr_dict=mjr_cause_nm_abbr_dict)\n",
    "#-------------------------\n",
    "# outgs_fn_eqp_type = dovs_outgs_df_fn[(dovs_outgs_df_fn['MJR_CAUSE_CD']=='DL') & (dovs_outgs_df_fn['MNR_CAUSE_CD']=='EQF')].copy()\n",
    "# outgs_fn_eqp_type = outgs_fn_eqp_type.groupby(['EQUIP_TYP_NM', 'SHORT_NM_EQP_TYP'])[['CI_NB', 'CMI_NB']].apply(sum).reset_index()\n",
    "outgs_fn_eqp_type = dovs_outgs_df_fn.groupby(['EQUIP_TYP_NM', 'SHORT_NM_EQP_TYP'])[['CI_NB', 'CMI_NB']].apply(sum).reset_index()\n",
    "outgs_fn_eqp_type = set_pct_col(outgs_fn_eqp_type, col='CMI_NB', pct_col='pct_cmi_nb')\n",
    "outgs_fn_eqp_type = set_pct_col(outgs_fn_eqp_type, col='CI_NB', pct_col='pct_ci_nb')"
   ]
  },
  {
   "cell_type": "code",
   "execution_count": null,
   "id": "9f110476",
   "metadata": {},
   "outputs": [],
   "source": [
    "outgs_tpfn_mjr_mnr = dovs_outgs_df_tpfn.groupby(['MJR_CAUSE_CD', 'MNR_CAUSE_CD', 'MJR_CAUSE_NM', 'MNR_CAUSE_NM'])[['CI_NB', 'CMI_NB']].apply(sum).reset_index()\n",
    "outgs_tpfn_mjr_mnr = set_pct_col(outgs_tpfn_mjr_mnr, col='CMI_NB', pct_col='pct_cmi_nb')\n",
    "outgs_tpfn_mjr_mnr = set_pct_col(outgs_tpfn_mjr_mnr, col='CI_NB', pct_col='pct_ci_nb')\n",
    "outgs_tpfn_mjr_mnr = DOVSOutages.set_mjr_mnr_cause_nm_col(outgs_tpfn_mjr_mnr, set_null_to_NA=True, mjr_cause_nm_abbr_dict=mjr_cause_nm_abbr_dict)\n",
    "#-------------------------\n",
    "# outgs_tpfn_eqp_type = dovs_outgs_df_tpfn[(dovs_outgs_df_tpfn['MJR_CAUSE_CD']=='DL') & (dovs_outgs_df_tpfn['MNR_CAUSE_CD']=='EQF')].copy()\n",
    "# outgs_tpfn_eqp_type = outgs_tpfn_eqp_type.groupby(['EQUIP_TYP_NM', 'SHORT_NM_EQP_TYP'])[['CI_NB', 'CMI_NB']].apply(sum).reset_index()\n",
    "outgs_tpfn_eqp_type = dovs_outgs_df_tpfn.groupby(['EQUIP_TYP_NM', 'SHORT_NM_EQP_TYP'])[['CI_NB', 'CMI_NB']].apply(sum).reset_index()\n",
    "outgs_tpfn_eqp_type = set_pct_col(outgs_tpfn_eqp_type, col='CMI_NB', pct_col='pct_cmi_nb')\n",
    "outgs_tpfn_eqp_type = set_pct_col(outgs_tpfn_eqp_type, col='CI_NB', pct_col='pct_ci_nb')"
   ]
  },
  {
   "cell_type": "code",
   "execution_count": null,
   "id": "058873e5",
   "metadata": {},
   "outputs": [],
   "source": [
    "fig_num=1"
   ]
  },
  {
   "cell_type": "code",
   "execution_count": null,
   "id": "24e175f2",
   "metadata": {},
   "outputs": [],
   "source": [
    "pct_cutoff = 1.0\n",
    "\n",
    "fig, ax = plt.subplots(1, 1, num=fig_num, figsize=[11, 8.5])\n",
    "fig, ax = draw_outages_summary_barplot(fig, ax, outgs_tp_mjr_mnr, \n",
    "                                       x_col='MJR_MNR_CAUSE_NM', y_col='pct_cmi_nb', \n",
    "                                       y_threshold={'threshold_col':'pct_cmi_nb', 'threshold_val':pct_cutoff}, \n",
    "                                       ylabel='% CMI', xlabel='Major-Minor Cause', title='Outage CMI by Cause', \n",
    "                                       x_tick_rotation=90, \n",
    "#                                        palette_dict=palette_dict, order=tmp_reasons\n",
    "                                      )\n",
    "fig_num += 1 "
   ]
  },
  {
   "cell_type": "code",
   "execution_count": null,
   "id": "bb88bc2e",
   "metadata": {},
   "outputs": [],
   "source": [
    "pct_cutoff = 1.0\n",
    "\n",
    "fig, ax = plt.subplots(1, 1, num=fig_num, figsize=[11, 8.5])\n",
    "fig, ax = draw_outages_summary_barplot(fig, ax, outgs_fn_mjr_mnr, \n",
    "                                       x_col='MJR_MNR_CAUSE_NM', y_col='pct_cmi_nb', \n",
    "                                       y_threshold={'threshold_col':'pct_cmi_nb', 'threshold_val':pct_cutoff}, \n",
    "                                       ylabel='% CMI', xlabel='Major-Minor Cause', title='Outage CMI by Cause', \n",
    "                                       x_tick_rotation=90, \n",
    "#                                        palette_dict=palette_dict, order=tmp_reasons\n",
    "                                      )\n",
    "fig_num += 1 "
   ]
  },
  {
   "cell_type": "code",
   "execution_count": null,
   "id": "64b7923a",
   "metadata": {},
   "outputs": [],
   "source": [
    "pct_cutoff = 1.0\n",
    "\n",
    "fig, ax = plt.subplots(1, 1, num=fig_num, figsize=[11, 8.5])\n",
    "fig, ax = draw_outages_summary_barplot(fig, ax, outgs_tpfn_mjr_mnr, \n",
    "                                       x_col='MJR_MNR_CAUSE_NM', y_col='pct_cmi_nb', \n",
    "                                       y_threshold={'threshold_col':'pct_cmi_nb', 'threshold_val':pct_cutoff}, \n",
    "                                       ylabel='% CMI', xlabel='Major-Minor Cause', title='Outage CMI by Cause', \n",
    "                                       x_tick_rotation=90, \n",
    "#                                        palette_dict=palette_dict, order=tmp_reasons\n",
    "                                      )\n",
    "fig_num += 1 "
   ]
  },
  {
   "cell_type": "code",
   "execution_count": null,
   "id": "20ba338c",
   "metadata": {},
   "outputs": [],
   "source": []
  },
  {
   "cell_type": "code",
   "execution_count": null,
   "id": "8305854f",
   "metadata": {},
   "outputs": [],
   "source": [
    "top_causes_tp_cmi = outgs_tp_mjr_mnr[outgs_tp_mjr_mnr['pct_cmi_nb']>pct_cutoff].sort_values(by='pct_cmi_nb', ascending=False)[['MJR_MNR_CAUSE_NM', 'pct_cmi_nb']]\n",
    "top_causes_tp_ci  = outgs_tp_mjr_mnr[outgs_tp_mjr_mnr['pct_ci_nb']>pct_cutoff].sort_values(by='pct_ci_nb', ascending=False)[['MJR_MNR_CAUSE_NM', 'pct_ci_nb']]\n",
    "#-----\n",
    "top_causes_tp_cmi = top_causes_tp_cmi.rename(columns={'pct_cmi_nb':'pct'})\n",
    "top_causes_tp_ci  = top_causes_tp_ci.rename(columns={'pct_ci_nb':'pct'})\n",
    "#-------------------------\n",
    "top_causes_fn_cmi = outgs_fn_mjr_mnr[outgs_fn_mjr_mnr['pct_cmi_nb']>pct_cutoff].sort_values(by='pct_cmi_nb', ascending=False)[['MJR_MNR_CAUSE_NM', 'pct_cmi_nb']]\n",
    "top_causes_fn_ci  = outgs_fn_mjr_mnr[outgs_fn_mjr_mnr['pct_ci_nb']>pct_cutoff].sort_values(by='pct_ci_nb', ascending=False)[['MJR_MNR_CAUSE_NM', 'pct_ci_nb']]\n",
    "#-----\n",
    "top_causes_fn_cmi = top_causes_fn_cmi.rename(columns={'pct_cmi_nb':'pct'})\n",
    "top_causes_fn_ci  = top_causes_fn_ci.rename(columns={'pct_ci_nb':'pct'})\n",
    "#-------------------------\n",
    "top_causes_tpfn_cmi = outgs_tpfn_mjr_mnr[outgs_tpfn_mjr_mnr['pct_cmi_nb']>pct_cutoff].sort_values(by='pct_cmi_nb', ascending=False)[['MJR_MNR_CAUSE_NM', 'pct_cmi_nb']]\n",
    "top_causes_tpfn_ci  = outgs_tpfn_mjr_mnr[outgs_tpfn_mjr_mnr['pct_ci_nb']>pct_cutoff].sort_values(by='pct_ci_nb', ascending=False)[['MJR_MNR_CAUSE_NM', 'pct_ci_nb']]\n",
    "#-----\n",
    "top_causes_tpfn_cmi = top_causes_tpfn_cmi.rename(columns={'pct_cmi_nb':'pct'})\n",
    "top_causes_tpfn_ci  = top_causes_tpfn_ci.rename(columns={'pct_ci_nb':'pct'})\n",
    "#-------------------------\n",
    "top_causes = pd.concat([top_causes_tp_cmi, top_causes_tp_ci, top_causes_fn_cmi, top_causes_fn_ci, top_causes_tpfn_cmi, top_causes_tpfn_ci])\n",
    "top_causes = top_causes.groupby('MJR_MNR_CAUSE_NM')['pct'].apply(max).to_frame().reset_index().sort_values(by='pct', ignore_index=True, ascending=False)\n",
    "palette_dict = Plot_General.get_standard_colors_dict(top_causes['MJR_MNR_CAUSE_NM'].tolist())\n",
    "\n",
    "\n",
    "\n",
    "fig, ax = plt.subplots(1, 1, num=fig_num, figsize=[11, 8.5])\n",
    "legend_elements = []\n",
    "#-------------------------\n",
    "fig, ax, x_values_included = draw_outages_summary_barplot(\n",
    "    fig=fig, \n",
    "    ax=ax, \n",
    "    df=outgs_tp_mjr_mnr, \n",
    "    x_col='MJR_MNR_CAUSE_NM', \n",
    "    y_col='pct_ci_nb', \n",
    "    sort_values=True, \n",
    "    y_threshold={'threshold_col':'pct_ci_nb', 'threshold_val':pct_cutoff}, \n",
    "    order=None, \n",
    "    return_x_values_included=True, \n",
    "    div_drawn_width_by=3, \n",
    "    relative_position_idx=0, \n",
    "    ylabel='% CI', \n",
    "    xlabel='Major-Minor Cause', \n",
    "    title='Outage CI by Cause', \n",
    "    x_tick_rotation=90, \n",
    "    palette_dict={k:'green' for k,v in palette_dict.items()}, \n",
    "    hatch='/'\n",
    ")\n",
    "legend_elements.append(mpatches.Patch(facecolor='green', fill=True, hatch='/', label='TP'))\n",
    "#-------------------------\n",
    "fig, ax = draw_outages_summary_barplot(\n",
    "    fig=fig, \n",
    "    ax=ax, \n",
    "    df=outgs_fn_mjr_mnr, \n",
    "    x_col='MJR_MNR_CAUSE_NM', \n",
    "    y_col='pct_ci_nb', \n",
    "    sort_values=False, \n",
    "    y_threshold=None, \n",
    "    order=x_values_included, \n",
    "    return_x_values_included=False, \n",
    "    div_drawn_width_by=3, \n",
    "    relative_position_idx=1, \n",
    "    ylabel='% CI', \n",
    "    xlabel='Major-Minor Cause', \n",
    "    title='Outage CI by Cause', \n",
    "    x_tick_rotation=90, \n",
    "    palette_dict={k:'red' for k,v in palette_dict.items()}, \n",
    "    hatch='\\\\\\\\'\n",
    ")\n",
    "legend_elements.append(mpatches.Patch(facecolor='red', fill=True, hatch='\\\\\\\\', label='FN'))\n",
    "#-------------------------\n",
    "fig, ax = draw_outages_summary_barplot(\n",
    "    fig=fig, \n",
    "    ax=ax, \n",
    "    df=outgs_tpfn_mjr_mnr, \n",
    "    x_col='MJR_MNR_CAUSE_NM', \n",
    "    y_col='pct_ci_nb', \n",
    "    sort_values=False, \n",
    "    y_threshold=None, \n",
    "    order=x_values_included, \n",
    "    return_x_values_included=False, \n",
    "    div_drawn_width_by=3, \n",
    "    relative_position_idx=2, \n",
    "    ylabel='% CI', \n",
    "    xlabel='Major-Minor Cause', \n",
    "    title='Outage CI by Cause', \n",
    "    x_tick_rotation=90, \n",
    "    palette_dict={k:'orange' for k,v in palette_dict.items()}, \n",
    "    hatch='\\\\\\\\'\n",
    ")\n",
    "legend_elements.append(mpatches.Patch(facecolor='orange', fill=True, hatch='\\\\\\\\', label='TP&FN'))\n",
    "#-------------------------\n",
    "ax.legend(\n",
    "    title=None, \n",
    "    handles=legend_elements, \n",
    "    fontsize=20, \n",
    "    title_fontsize=30, \n",
    "    loc='upper right'\n",
    ")\n",
    "\n",
    "Plot_General.save_fig(fig, r'C:\\Users\\s346557\\Documents\\Presentations\\OutagePredictions\\MeterEvents\\Initial_Impact_Assessment\\Figures\\Full', 'CI_by_cause.png')\n",
    "#-------------------------\n",
    "fig_num += 1 "
   ]
  },
  {
   "cell_type": "code",
   "execution_count": null,
   "id": "2b192cd7",
   "metadata": {},
   "outputs": [],
   "source": []
  },
  {
   "cell_type": "code",
   "execution_count": null,
   "id": "cee5e616",
   "metadata": {},
   "outputs": [],
   "source": [
    "top_causes_tp_cmi = outgs_tp_mjr_mnr[outgs_tp_mjr_mnr['pct_cmi_nb']>pct_cutoff].sort_values(by='pct_cmi_nb', ascending=False)[['MJR_MNR_CAUSE_NM', 'pct_cmi_nb']]\n",
    "top_causes_tp_ci  = outgs_tp_mjr_mnr[outgs_tp_mjr_mnr['pct_ci_nb']>pct_cutoff].sort_values(by='pct_ci_nb', ascending=False)[['MJR_MNR_CAUSE_NM', 'pct_ci_nb']]\n",
    "#-----\n",
    "top_causes_tp_cmi = top_causes_tp_cmi.rename(columns={'pct_cmi_nb':'pct'})\n",
    "top_causes_tp_ci  = top_causes_tp_ci.rename(columns={'pct_ci_nb':'pct'})\n",
    "#-------------------------\n",
    "top_causes_fn_cmi = outgs_fn_mjr_mnr[outgs_fn_mjr_mnr['pct_cmi_nb']>pct_cutoff].sort_values(by='pct_cmi_nb', ascending=False)[['MJR_MNR_CAUSE_NM', 'pct_cmi_nb']]\n",
    "top_causes_fn_ci  = outgs_fn_mjr_mnr[outgs_fn_mjr_mnr['pct_ci_nb']>pct_cutoff].sort_values(by='pct_ci_nb', ascending=False)[['MJR_MNR_CAUSE_NM', 'pct_ci_nb']]\n",
    "#-----\n",
    "top_causes_fn_cmi = top_causes_fn_cmi.rename(columns={'pct_cmi_nb':'pct'})\n",
    "top_causes_fn_ci  = top_causes_fn_ci.rename(columns={'pct_ci_nb':'pct'})\n",
    "#-------------------------\n",
    "top_causes_tpfn_cmi = outgs_tpfn_mjr_mnr[outgs_tpfn_mjr_mnr['pct_cmi_nb']>pct_cutoff].sort_values(by='pct_cmi_nb', ascending=False)[['MJR_MNR_CAUSE_NM', 'pct_cmi_nb']]\n",
    "top_causes_tpfn_ci  = outgs_tpfn_mjr_mnr[outgs_tpfn_mjr_mnr['pct_ci_nb']>pct_cutoff].sort_values(by='pct_ci_nb', ascending=False)[['MJR_MNR_CAUSE_NM', 'pct_ci_nb']]\n",
    "#-----\n",
    "top_causes_tpfn_cmi = top_causes_tpfn_cmi.rename(columns={'pct_cmi_nb':'pct'})\n",
    "top_causes_tpfn_ci  = top_causes_tpfn_ci.rename(columns={'pct_ci_nb':'pct'})\n",
    "#-------------------------\n",
    "top_causes = pd.concat([top_causes_tp_cmi, top_causes_tp_ci, top_causes_fn_cmi, top_causes_fn_ci, top_causes_tpfn_cmi, top_causes_tpfn_ci])\n",
    "top_causes = top_causes.groupby('MJR_MNR_CAUSE_NM')['pct'].apply(max).to_frame().reset_index().sort_values(by='pct', ignore_index=True, ascending=False)\n",
    "palette_dict = Plot_General.get_standard_colors_dict(top_causes['MJR_MNR_CAUSE_NM'].tolist())\n",
    "\n",
    "\n",
    "\n",
    "fig, ax = plt.subplots(1, 1, num=fig_num, figsize=[11, 8.5])\n",
    "legend_elements = []\n",
    "#-------------------------\n",
    "fig, ax, x_values_included = draw_outages_summary_barplot(\n",
    "    fig=fig, \n",
    "    ax=ax, \n",
    "    df=outgs_tp_mjr_mnr, \n",
    "    x_col='MJR_MNR_CAUSE_NM', \n",
    "    y_col='pct_cmi_nb', \n",
    "    sort_values=True, \n",
    "    y_threshold={'threshold_col':'pct_cmi_nb', 'threshold_val':pct_cutoff}, \n",
    "    order=None, \n",
    "    return_x_values_included=True, \n",
    "    div_drawn_width_by=3, \n",
    "    relative_position_idx=0, \n",
    "    ylabel='% CMI', \n",
    "    xlabel='Major-Minor Cause', \n",
    "    title='Outage CMI by Cause', \n",
    "    x_tick_rotation=90, \n",
    "    palette_dict={k:'green' for k,v in palette_dict.items()}, \n",
    "    hatch='/'\n",
    ")\n",
    "legend_elements.append(mpatches.Patch(facecolor='green', fill=True, hatch='/', label='TP'))\n",
    "#-------------------------\n",
    "fig, ax = draw_outages_summary_barplot(\n",
    "    fig=fig, \n",
    "    ax=ax, \n",
    "    df=outgs_fn_mjr_mnr, \n",
    "    x_col='MJR_MNR_CAUSE_NM', \n",
    "    y_col='pct_cmi_nb', \n",
    "    sort_values=False, \n",
    "    y_threshold=None, \n",
    "    order=x_values_included, \n",
    "    return_x_values_included=False, \n",
    "    div_drawn_width_by=3, \n",
    "    relative_position_idx=1, \n",
    "    ylabel='% CMI', \n",
    "    xlabel='Major-Minor Cause', \n",
    "    title='Outage CMI by Cause', \n",
    "    x_tick_rotation=90, \n",
    "    palette_dict={k:'red' for k,v in palette_dict.items()}, \n",
    "    hatch='\\\\\\\\'\n",
    ")\n",
    "legend_elements.append(mpatches.Patch(facecolor='red', fill=True, hatch='\\\\\\\\', label='FN'))\n",
    "#-------------------------\n",
    "fig, ax = draw_outages_summary_barplot(\n",
    "    fig=fig, \n",
    "    ax=ax, \n",
    "    df=outgs_tpfn_mjr_mnr, \n",
    "    x_col='MJR_MNR_CAUSE_NM', \n",
    "    y_col='pct_cmi_nb', \n",
    "    sort_values=False, \n",
    "    y_threshold=None, \n",
    "    order=x_values_included, \n",
    "    return_x_values_included=False, \n",
    "    div_drawn_width_by=3, \n",
    "    relative_position_idx=2, \n",
    "    ylabel='% CMI', \n",
    "    xlabel='Major-Minor Cause', \n",
    "    title='Outage CMI by Cause', \n",
    "    x_tick_rotation=90, \n",
    "    palette_dict={k:'orange' for k,v in palette_dict.items()}, \n",
    "    hatch='\\\\\\\\'\n",
    ")\n",
    "legend_elements.append(mpatches.Patch(facecolor='orange', fill=True, hatch='\\\\\\\\', label='TP&FN'))\n",
    "#-------------------------\n",
    "ax.legend(\n",
    "    title=None, \n",
    "    handles=legend_elements, \n",
    "    fontsize=20, \n",
    "    title_fontsize=30, \n",
    "    loc='upper right'\n",
    ")\n",
    "\n",
    "Plot_General.save_fig(fig, r'C:\\Users\\s346557\\Documents\\Presentations\\OutagePredictions\\MeterEvents\\Initial_Impact_Assessment\\Figures\\Full', 'CMI_by_cause.png')\n",
    "#-------------------------\n",
    "fig_num += 1 "
   ]
  },
  {
   "cell_type": "code",
   "execution_count": null,
   "id": "23f2f992",
   "metadata": {},
   "outputs": [],
   "source": []
  },
  {
   "cell_type": "code",
   "execution_count": null,
   "id": "4ce47631",
   "metadata": {},
   "outputs": [],
   "source": []
  },
  {
   "cell_type": "code",
   "execution_count": null,
   "id": "e9eed93c",
   "metadata": {},
   "outputs": [],
   "source": []
  },
  {
   "cell_type": "code",
   "execution_count": null,
   "id": "b8548dc0",
   "metadata": {},
   "outputs": [],
   "source": []
  },
  {
   "cell_type": "code",
   "execution_count": null,
   "id": "085ee500",
   "metadata": {},
   "outputs": [],
   "source": [
    "pct_cutoff = 1.0\n",
    "\n",
    "fig, ax = plt.subplots(1, 1, num=fig_num, figsize=[11, 8.5])\n",
    "fig, ax = draw_outages_summary_barplot(fig, ax, outgs_tp_eqp_type, \n",
    "                                       x_col='EQUIP_TYP_NM', y_col='pct_cmi_nb', \n",
    "                                       y_threshold={'threshold_col':'pct_cmi_nb', 'threshold_val':pct_cutoff}, \n",
    "                                       ylabel='% CMI', xlabel='Equipment Type', title='Outage CI by Equip. Type)', \n",
    "                                       x_tick_rotation=90, \n",
    "#                                        palette_dict=palette_dict, order=tmp_reasons\n",
    "                                      )\n",
    "fig_num += 1 "
   ]
  },
  {
   "cell_type": "code",
   "execution_count": null,
   "id": "0cf54341",
   "metadata": {},
   "outputs": [],
   "source": [
    "pct_cutoff = 1.0\n",
    "\n",
    "fig, ax = plt.subplots(1, 1, num=fig_num, figsize=[11, 8.5])\n",
    "fig, ax = draw_outages_summary_barplot(fig, ax, outgs_fn_eqp_type, \n",
    "                                       x_col='EQUIP_TYP_NM', y_col='pct_cmi_nb', \n",
    "                                       y_threshold={'threshold_col':'pct_cmi_nb', 'threshold_val':pct_cutoff}, \n",
    "                                       ylabel='% CMI', xlabel='Equipment Type', title='Outage CI by Equip. Type', \n",
    "                                       x_tick_rotation=90, \n",
    "#                                        palette_dict=palette_dict, order=tmp_reasons\n",
    "                                      )\n",
    "fig_num += 1 "
   ]
  },
  {
   "cell_type": "code",
   "execution_count": null,
   "id": "26b78118",
   "metadata": {},
   "outputs": [],
   "source": [
    "pct_cutoff = 1.0\n",
    "\n",
    "fig, ax = plt.subplots(1, 1, num=fig_num, figsize=[11, 8.5])\n",
    "fig, ax = draw_outages_summary_barplot(fig, ax, outgs_tpfn_eqp_type, \n",
    "                                       x_col='EQUIP_TYP_NM', y_col='pct_cmi_nb', \n",
    "                                       y_threshold={'threshold_col':'pct_cmi_nb', 'threshold_val':pct_cutoff}, \n",
    "                                       ylabel='% CMI', xlabel='Equipment Type', title='Outage CI by Equip. Type', \n",
    "                                       x_tick_rotation=90, \n",
    "#                                        palette_dict=palette_dict, order=tmp_reasons\n",
    "                                      )\n",
    "fig_num += 1 "
   ]
  },
  {
   "cell_type": "code",
   "execution_count": null,
   "id": "4cf7c79c",
   "metadata": {},
   "outputs": [],
   "source": [
    "top_equip_types_tp_cmi = outgs_tp_eqp_type[outgs_tp_eqp_type['pct_cmi_nb']>pct_cutoff].sort_values(by='pct_cmi_nb', ascending=False)[['EQUIP_TYP_NM', 'pct_cmi_nb']]\n",
    "top_equip_types_tp_ci  = outgs_tp_eqp_type[outgs_tp_eqp_type['pct_ci_nb']>pct_cutoff].sort_values(by='pct_ci_nb', ascending=False)[['EQUIP_TYP_NM', 'pct_ci_nb']]\n",
    "#-----\n",
    "top_equip_types_tp_cmi = top_equip_types_tp_cmi.rename(columns={'pct_cmi_nb':'pct'})\n",
    "top_equip_types_tp_ci  = top_equip_types_tp_ci.rename(columns={'pct_ci_nb':'pct'})\n",
    "#-------------------------\n",
    "top_equip_types_fn_cmi = outgs_fn_eqp_type[outgs_fn_eqp_type['pct_cmi_nb']>pct_cutoff].sort_values(by='pct_cmi_nb', ascending=False)[['EQUIP_TYP_NM', 'pct_cmi_nb']]\n",
    "top_equip_types_fn_ci  = outgs_fn_eqp_type[outgs_fn_eqp_type['pct_ci_nb']>pct_cutoff].sort_values(by='pct_ci_nb', ascending=False)[['EQUIP_TYP_NM', 'pct_ci_nb']]\n",
    "#-----\n",
    "top_equip_types_fn_cmi = top_equip_types_fn_cmi.rename(columns={'pct_cmi_nb':'pct'})\n",
    "top_equip_types_fn_ci  = top_equip_types_fn_ci.rename(columns={'pct_ci_nb':'pct'})\n",
    "#-------------------------\n",
    "top_equip_types_tpfn_cmi = outgs_tpfn_eqp_type[outgs_tpfn_eqp_type['pct_cmi_nb']>pct_cutoff].sort_values(by='pct_cmi_nb', ascending=False)[['EQUIP_TYP_NM', 'pct_cmi_nb']]\n",
    "top_equip_types_tpfn_ci  = outgs_tpfn_eqp_type[outgs_tpfn_eqp_type['pct_ci_nb']>pct_cutoff].sort_values(by='pct_ci_nb', ascending=False)[['EQUIP_TYP_NM', 'pct_ci_nb']]\n",
    "#-----\n",
    "top_equip_types_tpfn_cmi = top_equip_types_tpfn_cmi.rename(columns={'pct_cmi_nb':'pct'})\n",
    "top_equip_types_tpfn_ci  = top_equip_types_tpfn_ci.rename(columns={'pct_ci_nb':'pct'})\n",
    "#-------------------------\n",
    "top_equip_types = pd.concat([top_equip_types_tp_cmi, top_equip_types_tp_ci, top_equip_types_fn_cmi, top_equip_types_fn_ci, top_equip_types_tpfn_cmi, top_equip_types_tpfn_ci])\n",
    "top_equip_types = top_equip_types.groupby('EQUIP_TYP_NM')['pct'].apply(max).to_frame().reset_index().sort_values(by='pct', ignore_index=True, ascending=False)\n",
    "palette_dict = Plot_General.get_standard_colors_dict(top_equip_types['EQUIP_TYP_NM'].tolist())\n",
    "\n",
    "\n",
    "\n",
    "fig, ax = plt.subplots(1, 1, num=fig_num, figsize=[11, 8.5])\n",
    "legend_elements = []\n",
    "#-------------------------\n",
    "fig, ax, x_values_included = draw_outages_summary_barplot(\n",
    "    fig=fig, \n",
    "    ax=ax, \n",
    "    df=outgs_tp_eqp_type, \n",
    "    x_col='EQUIP_TYP_NM', \n",
    "    y_col='pct_ci_nb', \n",
    "    sort_values=True, \n",
    "    y_threshold={'threshold_col':'pct_ci_nb', 'threshold_val':pct_cutoff}, \n",
    "    order=None, \n",
    "    return_x_values_included=True, \n",
    "    div_drawn_width_by=3, \n",
    "    relative_position_idx=0, \n",
    "    ylabel='% CI', \n",
    "    xlabel='Equipment Type', \n",
    "    title='Outage CI by Equip. Type', \n",
    "    x_tick_rotation=90, \n",
    "    palette_dict={k:'green' for k,v in palette_dict.items()}, \n",
    "    hatch='/'\n",
    ")\n",
    "legend_elements.append(mpatches.Patch(facecolor='green', fill=True, hatch='/', label='TP'))\n",
    "#-------------------------\n",
    "fig, ax = draw_outages_summary_barplot(\n",
    "    fig=fig, \n",
    "    ax=ax, \n",
    "    df=outgs_fn_eqp_type, \n",
    "    x_col='EQUIP_TYP_NM', \n",
    "    y_col='pct_ci_nb', \n",
    "    sort_values=False, \n",
    "    y_threshold=None, \n",
    "    order=x_values_included, \n",
    "    return_x_values_included=False, \n",
    "    div_drawn_width_by=3, \n",
    "    relative_position_idx=1, \n",
    "    ylabel='% CI', \n",
    "    xlabel='Equipment Type', \n",
    "    title='Outage CI by Equip. Type', \n",
    "    x_tick_rotation=90, \n",
    "    palette_dict={k:'red' for k,v in palette_dict.items()}, \n",
    "    hatch='\\\\\\\\'\n",
    ")\n",
    "legend_elements.append(mpatches.Patch(facecolor='red', fill=True, hatch='\\\\\\\\', label='FN'))\n",
    "#-------------------------\n",
    "fig, ax = draw_outages_summary_barplot(\n",
    "    fig=fig, \n",
    "    ax=ax, \n",
    "    df=outgs_tpfn_eqp_type, \n",
    "    x_col='EQUIP_TYP_NM', \n",
    "    y_col='pct_ci_nb', \n",
    "    sort_values=False, \n",
    "    y_threshold=None, \n",
    "    order=x_values_included, \n",
    "    return_x_values_included=False, \n",
    "    div_drawn_width_by=3, \n",
    "    relative_position_idx=2, \n",
    "    ylabel='% CI', \n",
    "    xlabel='Equipment Type', \n",
    "    title='Outage CI by Equip. Type', \n",
    "    x_tick_rotation=90, \n",
    "    palette_dict={k:'orange' for k,v in palette_dict.items()}, \n",
    "    hatch='\\\\\\\\'\n",
    ")\n",
    "legend_elements.append(mpatches.Patch(facecolor='orange', fill=True, hatch='\\\\\\\\', label='TP&FN'))\n",
    "#-------------------------\n",
    "ax.legend(\n",
    "    title=None, \n",
    "    handles=legend_elements, \n",
    "    fontsize=20, \n",
    "    title_fontsize=30, \n",
    "    loc='upper right'\n",
    ")\n",
    "\n",
    "Plot_General.save_fig(fig, r'C:\\Users\\s346557\\Documents\\Presentations\\OutagePredictions\\MeterEvents\\Initial_Impact_Assessment\\Figures\\Full', 'CI_by_eqp_type.png')\n",
    "#-------------------------\n",
    "fig_num += 1 "
   ]
  },
  {
   "cell_type": "code",
   "execution_count": null,
   "id": "71bfc266",
   "metadata": {},
   "outputs": [],
   "source": [
    "top_equip_types_tp_cmi = outgs_tp_eqp_type[outgs_tp_eqp_type['pct_cmi_nb']>pct_cutoff].sort_values(by='pct_cmi_nb', ascending=False)[['EQUIP_TYP_NM', 'pct_cmi_nb']]\n",
    "top_equip_types_tp_ci  = outgs_tp_eqp_type[outgs_tp_eqp_type['pct_ci_nb']>pct_cutoff].sort_values(by='pct_ci_nb', ascending=False)[['EQUIP_TYP_NM', 'pct_ci_nb']]\n",
    "#-----\n",
    "top_equip_types_tp_cmi = top_equip_types_tp_cmi.rename(columns={'pct_cmi_nb':'pct'})\n",
    "top_equip_types_tp_ci  = top_equip_types_tp_ci.rename(columns={'pct_ci_nb':'pct'})\n",
    "#-------------------------\n",
    "top_equip_types_fn_cmi = outgs_fn_eqp_type[outgs_fn_eqp_type['pct_cmi_nb']>pct_cutoff].sort_values(by='pct_cmi_nb', ascending=False)[['EQUIP_TYP_NM', 'pct_cmi_nb']]\n",
    "top_equip_types_fn_ci  = outgs_fn_eqp_type[outgs_fn_eqp_type['pct_ci_nb']>pct_cutoff].sort_values(by='pct_ci_nb', ascending=False)[['EQUIP_TYP_NM', 'pct_ci_nb']]\n",
    "#-----\n",
    "top_equip_types_fn_cmi = top_equip_types_fn_cmi.rename(columns={'pct_cmi_nb':'pct'})\n",
    "top_equip_types_fn_ci  = top_equip_types_fn_ci.rename(columns={'pct_ci_nb':'pct'})\n",
    "#-------------------------\n",
    "top_equip_types_tpfn_cmi = outgs_tpfn_eqp_type[outgs_tpfn_eqp_type['pct_cmi_nb']>pct_cutoff].sort_values(by='pct_cmi_nb', ascending=False)[['EQUIP_TYP_NM', 'pct_cmi_nb']]\n",
    "top_equip_types_tpfn_ci  = outgs_tpfn_eqp_type[outgs_tpfn_eqp_type['pct_ci_nb']>pct_cutoff].sort_values(by='pct_ci_nb', ascending=False)[['EQUIP_TYP_NM', 'pct_ci_nb']]\n",
    "#-----\n",
    "top_equip_types_tpfn_cmi = top_equip_types_tpfn_cmi.rename(columns={'pct_cmi_nb':'pct'})\n",
    "top_equip_types_tpfn_ci  = top_equip_types_tpfn_ci.rename(columns={'pct_ci_nb':'pct'})\n",
    "#-------------------------\n",
    "top_equip_types = pd.concat([top_equip_types_tp_cmi, top_equip_types_tp_ci, top_equip_types_fn_cmi, top_equip_types_fn_ci, top_equip_types_tpfn_cmi, top_equip_types_tpfn_ci])\n",
    "top_equip_types = top_equip_types.groupby('EQUIP_TYP_NM')['pct'].apply(max).to_frame().reset_index().sort_values(by='pct', ignore_index=True, ascending=False)\n",
    "palette_dict = Plot_General.get_standard_colors_dict(top_equip_types['EQUIP_TYP_NM'].tolist())\n",
    "\n",
    "\n",
    "\n",
    "fig, ax = plt.subplots(1, 1, num=fig_num, figsize=[11, 8.5])\n",
    "legend_elements = []\n",
    "#-------------------------\n",
    "fig, ax, x_values_included = draw_outages_summary_barplot(\n",
    "    fig=fig, \n",
    "    ax=ax, \n",
    "    df=outgs_tp_eqp_type, \n",
    "    x_col='EQUIP_TYP_NM', \n",
    "    y_col='pct_cmi_nb', \n",
    "    sort_values=True, \n",
    "    y_threshold={'threshold_col':'pct_cmi_nb', 'threshold_val':pct_cutoff}, \n",
    "    order=None, \n",
    "    return_x_values_included=True, \n",
    "    div_drawn_width_by=3, \n",
    "    relative_position_idx=0, \n",
    "    ylabel='% CMI', \n",
    "    xlabel='Equipment Type', \n",
    "    title='Outage CMI by Equip. Type', \n",
    "    x_tick_rotation=90, \n",
    "    palette_dict={k:'green' for k,v in palette_dict.items()}, \n",
    "    hatch='/'\n",
    ")\n",
    "legend_elements.append(mpatches.Patch(facecolor='green', fill=True, hatch='/', label='TP'))\n",
    "#-------------------------\n",
    "fig, ax = draw_outages_summary_barplot(\n",
    "    fig=fig, \n",
    "    ax=ax, \n",
    "    df=outgs_fn_eqp_type, \n",
    "    x_col='EQUIP_TYP_NM', \n",
    "    y_col='pct_cmi_nb', \n",
    "    sort_values=False, \n",
    "    y_threshold=None, \n",
    "    order=x_values_included, \n",
    "    return_x_values_included=False, \n",
    "    div_drawn_width_by=3, \n",
    "    relative_position_idx=1, \n",
    "    ylabel='% CMI', \n",
    "    xlabel='Equipment Type', \n",
    "    title='Outage CMI by Equip. Type', \n",
    "    x_tick_rotation=90, \n",
    "    palette_dict={k:'red' for k,v in palette_dict.items()}, \n",
    "    hatch='\\\\\\\\'\n",
    ")\n",
    "legend_elements.append(mpatches.Patch(facecolor='red', fill=True, hatch='\\\\\\\\', label='FN'))\n",
    "#-------------------------\n",
    "fig, ax = draw_outages_summary_barplot(\n",
    "    fig=fig, \n",
    "    ax=ax, \n",
    "    df=outgs_tpfn_eqp_type, \n",
    "    x_col='EQUIP_TYP_NM', \n",
    "    y_col='pct_cmi_nb', \n",
    "    sort_values=False, \n",
    "    y_threshold=None, \n",
    "    order=x_values_included, \n",
    "    return_x_values_included=False, \n",
    "    div_drawn_width_by=3, \n",
    "    relative_position_idx=2, \n",
    "    ylabel='% CMI', \n",
    "    xlabel='Equipment Type', \n",
    "    title='Outage CMI by Equip. Type', \n",
    "    x_tick_rotation=90, \n",
    "    palette_dict={k:'orange' for k,v in palette_dict.items()}, \n",
    "    hatch='\\\\\\\\'\n",
    ")\n",
    "legend_elements.append(mpatches.Patch(facecolor='orange', fill=True, hatch='\\\\\\\\', label='TP&FN'))\n",
    "#-------------------------\n",
    "ax.legend(\n",
    "    title=None, \n",
    "    handles=legend_elements, \n",
    "    fontsize=20, \n",
    "    title_fontsize=30, \n",
    "    loc='upper right'\n",
    ")\n",
    "\n",
    "Plot_General.save_fig(fig, r'C:\\Users\\s346557\\Documents\\Presentations\\OutagePredictions\\MeterEvents\\Initial_Impact_Assessment\\Figures\\Full', 'CMI_by_eqp_type.png')\n",
    "#-------------------------\n",
    "fig_num += 1 "
   ]
  },
  {
   "cell_type": "code",
   "execution_count": null,
   "id": "600e69b7",
   "metadata": {},
   "outputs": [],
   "source": []
  },
  {
   "cell_type": "code",
   "execution_count": null,
   "id": "99094238",
   "metadata": {},
   "outputs": [],
   "source": []
  },
  {
   "cell_type": "code",
   "execution_count": null,
   "id": "cde43fa8",
   "metadata": {},
   "outputs": [],
   "source": [
    "top_equip_types_tp_cmi = outgs_tp_eqp_type[outgs_tp_eqp_type['pct_cmi_nb']>pct_cutoff].sort_values(by='pct_cmi_nb', ascending=False)[['EQUIP_TYP_NM', 'pct_cmi_nb']]\n",
    "top_equip_types_tp_ci  = outgs_tp_eqp_type[outgs_tp_eqp_type['pct_ci_nb']>pct_cutoff].sort_values(by='pct_ci_nb', ascending=False)[['EQUIP_TYP_NM', 'pct_ci_nb']]\n",
    "#-----\n",
    "top_equip_types_tp_cmi = top_equip_types_tp_cmi.rename(columns={'pct_cmi_nb':'pct'})\n",
    "top_equip_types_tp_ci  = top_equip_types_tp_ci.rename(columns={'pct_ci_nb':'pct'})\n",
    "#-------------------------\n",
    "top_equip_types_fn_cmi = outgs_fn_eqp_type[outgs_fn_eqp_type['pct_cmi_nb']>pct_cutoff].sort_values(by='pct_cmi_nb', ascending=False)[['EQUIP_TYP_NM', 'pct_cmi_nb']]\n",
    "top_equip_types_fn_ci  = outgs_fn_eqp_type[outgs_fn_eqp_type['pct_ci_nb']>pct_cutoff].sort_values(by='pct_ci_nb', ascending=False)[['EQUIP_TYP_NM', 'pct_ci_nb']]\n",
    "#-----\n",
    "top_equip_types_fn_cmi = top_equip_types_fn_cmi.rename(columns={'pct_cmi_nb':'pct'})\n",
    "top_equip_types_fn_ci  = top_equip_types_fn_ci.rename(columns={'pct_ci_nb':'pct'})\n",
    "#-------------------------\n",
    "top_equip_types_tpfn_cmi = outgs_tpfn_eqp_type[outgs_tpfn_eqp_type['pct_cmi_nb']>pct_cutoff].sort_values(by='pct_cmi_nb', ascending=False)[['EQUIP_TYP_NM', 'pct_cmi_nb']]\n",
    "top_equip_types_tpfn_ci  = outgs_tpfn_eqp_type[outgs_tpfn_eqp_type['pct_ci_nb']>pct_cutoff].sort_values(by='pct_ci_nb', ascending=False)[['EQUIP_TYP_NM', 'pct_ci_nb']]\n",
    "#-----\n",
    "top_equip_types_tpfn_cmi = top_equip_types_tpfn_cmi.rename(columns={'pct_cmi_nb':'pct'})\n",
    "top_equip_types_tpfn_ci  = top_equip_types_tpfn_ci.rename(columns={'pct_ci_nb':'pct'})\n",
    "#-------------------------\n",
    "top_equip_types = pd.concat([top_equip_types_tp_cmi, top_equip_types_tp_ci, top_equip_types_fn_cmi, top_equip_types_fn_ci, top_equip_types_tpfn_cmi, top_equip_types_tpfn_ci])\n",
    "top_equip_types = top_equip_types.groupby('EQUIP_TYP_NM')['pct'].apply(max).to_frame().reset_index().sort_values(by='pct', ignore_index=True, ascending=False)\n",
    "palette_dict = Plot_General.get_standard_colors_dict(top_equip_types['EQUIP_TYP_NM'].tolist())\n",
    "\n",
    "\n",
    "\n",
    "fig, ax = plt.subplots(1, 1, num=fig_num, figsize=[11, 8.5])\n",
    "legend_elements = []\n",
    "#-------------------------\n",
    "fig, ax, x_values_included = draw_outages_summary_barplot(\n",
    "    fig=fig, \n",
    "    ax=ax, \n",
    "    df=outgs_fn_eqp_type, \n",
    "    x_col='EQUIP_TYP_NM', \n",
    "    y_col='pct_ci_nb', \n",
    "    sort_values=True, \n",
    "    y_threshold={'threshold_col':'pct_ci_nb', 'threshold_val':pct_cutoff}, \n",
    "    order=None, \n",
    "    return_x_values_included=True, \n",
    "    div_drawn_width_by=3, \n",
    "    relative_position_idx=0, \n",
    "    ylabel='% CI', \n",
    "    xlabel='Equipment Type', \n",
    "    title='Outage CI by Equip. Type', \n",
    "    x_tick_rotation=90, \n",
    "    palette_dict={k:'red' for k,v in palette_dict.items()}, \n",
    "    hatch='/'\n",
    ")\n",
    "legend_elements.append(mpatches.Patch(facecolor='red', fill=True, hatch='/', label='FN'))\n",
    "#-------------------------\n",
    "fig, ax = draw_outages_summary_barplot(\n",
    "    fig=fig, \n",
    "    ax=ax, \n",
    "    df=outgs_tp_eqp_type, \n",
    "    x_col='EQUIP_TYP_NM', \n",
    "    y_col='pct_ci_nb', \n",
    "    sort_values=False, \n",
    "    y_threshold=None, \n",
    "    order=x_values_included, \n",
    "    return_x_values_included=False, \n",
    "    div_drawn_width_by=3, \n",
    "    relative_position_idx=1, \n",
    "    ylabel='% CI', \n",
    "    xlabel='Equipment Type', \n",
    "    title='Outage CI by Equip. Type', \n",
    "    x_tick_rotation=90, \n",
    "    palette_dict={k:'green' for k,v in palette_dict.items()}, \n",
    "    hatch='\\\\\\\\'\n",
    ")\n",
    "legend_elements.append(mpatches.Patch(facecolor='green', fill=True, hatch='\\\\\\\\', label='TP'))\n",
    "#-------------------------\n",
    "fig, ax = draw_outages_summary_barplot(\n",
    "    fig=fig, \n",
    "    ax=ax, \n",
    "    df=outgs_tpfn_eqp_type, \n",
    "    x_col='EQUIP_TYP_NM', \n",
    "    y_col='pct_ci_nb', \n",
    "    sort_values=False, \n",
    "    y_threshold=None, \n",
    "    order=x_values_included, \n",
    "    return_x_values_included=False, \n",
    "    div_drawn_width_by=3, \n",
    "    relative_position_idx=2, \n",
    "    ylabel='% CI', \n",
    "    xlabel='Equipment Type', \n",
    "    title='Outage CI by Equip. Type', \n",
    "    x_tick_rotation=90, \n",
    "    palette_dict={k:'orange' for k,v in palette_dict.items()}, \n",
    "    hatch='\\\\\\\\'\n",
    ")\n",
    "legend_elements.append(mpatches.Patch(facecolor='orange', fill=True, hatch='\\\\\\\\', label='TP&FN'))\n",
    "#-------------------------\n",
    "ax.legend(\n",
    "    title=None, \n",
    "    handles=legend_elements, \n",
    "    fontsize=20, \n",
    "    title_fontsize=30, \n",
    "    loc='upper right'\n",
    ")\n",
    "\n",
    "\n",
    "#-------------------------\n",
    "fig_num += 1 "
   ]
  },
  {
   "cell_type": "code",
   "execution_count": null,
   "id": "10e21fe6",
   "metadata": {},
   "outputs": [],
   "source": []
  },
  {
   "cell_type": "code",
   "execution_count": null,
   "id": "19282b54",
   "metadata": {},
   "outputs": [],
   "source": [
    "top_equip_types_tp_cmi = outgs_tp_eqp_type[outgs_tp_eqp_type['pct_cmi_nb']>pct_cutoff].sort_values(by='pct_cmi_nb', ascending=False)[['EQUIP_TYP_NM', 'pct_cmi_nb']]\n",
    "top_equip_types_tp_ci  = outgs_tp_eqp_type[outgs_tp_eqp_type['pct_ci_nb']>pct_cutoff].sort_values(by='pct_ci_nb', ascending=False)[['EQUIP_TYP_NM', 'pct_ci_nb']]\n",
    "#-----\n",
    "top_equip_types_tp_cmi = top_equip_types_tp_cmi.rename(columns={'pct_cmi_nb':'pct'})\n",
    "top_equip_types_tp_ci  = top_equip_types_tp_ci.rename(columns={'pct_ci_nb':'pct'})\n",
    "#-------------------------\n",
    "top_equip_types_fn_cmi = outgs_fn_eqp_type[outgs_fn_eqp_type['pct_cmi_nb']>pct_cutoff].sort_values(by='pct_cmi_nb', ascending=False)[['EQUIP_TYP_NM', 'pct_cmi_nb']]\n",
    "top_equip_types_fn_ci  = outgs_fn_eqp_type[outgs_fn_eqp_type['pct_ci_nb']>pct_cutoff].sort_values(by='pct_ci_nb', ascending=False)[['EQUIP_TYP_NM', 'pct_ci_nb']]\n",
    "#-----\n",
    "top_equip_types_fn_cmi = top_equip_types_fn_cmi.rename(columns={'pct_cmi_nb':'pct'})\n",
    "top_equip_types_fn_ci  = top_equip_types_fn_ci.rename(columns={'pct_ci_nb':'pct'})\n",
    "#-------------------------\n",
    "top_equip_types_tpfn_cmi = outgs_tpfn_eqp_type[outgs_tpfn_eqp_type['pct_cmi_nb']>pct_cutoff].sort_values(by='pct_cmi_nb', ascending=False)[['EQUIP_TYP_NM', 'pct_cmi_nb']]\n",
    "top_equip_types_tpfn_ci  = outgs_tpfn_eqp_type[outgs_tpfn_eqp_type['pct_ci_nb']>pct_cutoff].sort_values(by='pct_ci_nb', ascending=False)[['EQUIP_TYP_NM', 'pct_ci_nb']]\n",
    "#-----\n",
    "top_equip_types_tpfn_cmi = top_equip_types_tpfn_cmi.rename(columns={'pct_cmi_nb':'pct'})\n",
    "top_equip_types_tpfn_ci  = top_equip_types_tpfn_ci.rename(columns={'pct_ci_nb':'pct'})\n",
    "#-------------------------\n",
    "top_equip_types = pd.concat([top_equip_types_tp_cmi, top_equip_types_tp_ci, top_equip_types_fn_cmi, top_equip_types_fn_ci, top_equip_types_tpfn_cmi, top_equip_types_tpfn_ci])\n",
    "top_equip_types = top_equip_types.groupby('EQUIP_TYP_NM')['pct'].apply(max).to_frame().reset_index().sort_values(by='pct', ignore_index=True, ascending=False)\n",
    "palette_dict = Plot_General.get_standard_colors_dict(top_equip_types['EQUIP_TYP_NM'].tolist())\n",
    "\n",
    "\n",
    "\n",
    "fig, ax = plt.subplots(1, 1, num=fig_num, figsize=[11, 8.5])\n",
    "legend_elements = []\n",
    "#-------------------------\n",
    "fig, ax, x_values_included = draw_outages_summary_barplot(\n",
    "    fig=fig, \n",
    "    ax=ax, \n",
    "    df=outgs_fn_eqp_type, \n",
    "    x_col='EQUIP_TYP_NM', \n",
    "    y_col='pct_cmi_nb', \n",
    "    sort_values=True, \n",
    "    y_threshold={'threshold_col':'pct_cmi_nb', 'threshold_val':pct_cutoff}, \n",
    "    order=None, \n",
    "    return_x_values_included=True, \n",
    "    div_drawn_width_by=3, \n",
    "    relative_position_idx=0, \n",
    "    ylabel='% CMI', \n",
    "    xlabel='Equipment Type', \n",
    "    title='Outage CMI by Equip. Type', \n",
    "    x_tick_rotation=90, \n",
    "    palette_dict={k:'red' for k,v in palette_dict.items()}, \n",
    "    hatch='/'\n",
    ")\n",
    "legend_elements.append(mpatches.Patch(facecolor='red', fill=True, hatch='/', label='FN'))\n",
    "#-------------------------\n",
    "fig, ax = draw_outages_summary_barplot(\n",
    "    fig=fig, \n",
    "    ax=ax, \n",
    "    df=outgs_tp_eqp_type, \n",
    "    x_col='EQUIP_TYP_NM', \n",
    "    y_col='pct_cmi_nb', \n",
    "    sort_values=False, \n",
    "    y_threshold=None, \n",
    "    order=x_values_included, \n",
    "    return_x_values_included=False, \n",
    "    div_drawn_width_by=3, \n",
    "    relative_position_idx=1, \n",
    "    ylabel='% CMI', \n",
    "    xlabel='Equipment Type', \n",
    "    title='Outage CMI by Equip. Type', \n",
    "    x_tick_rotation=90, \n",
    "    palette_dict={k:'green' for k,v in palette_dict.items()}, \n",
    "    hatch='\\\\\\\\'\n",
    ")\n",
    "legend_elements.append(mpatches.Patch(facecolor='green', fill=True, hatch='\\\\\\\\', label='TP'))\n",
    "#-------------------------\n",
    "fig, ax = draw_outages_summary_barplot(\n",
    "    fig=fig, \n",
    "    ax=ax, \n",
    "    df=outgs_tpfn_eqp_type, \n",
    "    x_col='EQUIP_TYP_NM', \n",
    "    y_col='pct_cmi_nb', \n",
    "    sort_values=False, \n",
    "    y_threshold=None, \n",
    "    order=x_values_included, \n",
    "    return_x_values_included=False, \n",
    "    div_drawn_width_by=3, \n",
    "    relative_position_idx=2, \n",
    "    ylabel='% CMI', \n",
    "    xlabel='Equipment Type', \n",
    "    title='Outage CMI by Equip. Type', \n",
    "    x_tick_rotation=90, \n",
    "    palette_dict={k:'orange' for k,v in palette_dict.items()}, \n",
    "    hatch='\\\\\\\\'\n",
    ")\n",
    "legend_elements.append(mpatches.Patch(facecolor='orange', fill=True, hatch='\\\\\\\\', label='TP&FN'))\n",
    "#-------------------------\n",
    "ax.legend(\n",
    "    title=None, \n",
    "    handles=legend_elements, \n",
    "    fontsize=20, \n",
    "    title_fontsize=30, \n",
    "    loc='upper right'\n",
    ")\n",
    "\n",
    "\n",
    "#-------------------------\n",
    "fig_num += 1 "
   ]
  },
  {
   "cell_type": "code",
   "execution_count": null,
   "id": "09b5de75",
   "metadata": {},
   "outputs": [],
   "source": []
  },
  {
   "cell_type": "code",
   "execution_count": null,
   "id": "e2633898",
   "metadata": {},
   "outputs": [],
   "source": []
  },
  {
   "cell_type": "code",
   "execution_count": null,
   "id": "ff849437",
   "metadata": {},
   "outputs": [],
   "source": []
  },
  {
   "cell_type": "markdown",
   "id": "ff6c69db",
   "metadata": {},
   "source": [
    "# Addressing Jon's Questions"
   ]
  },
  {
   "cell_type": "markdown",
   "id": "d1ff148c",
   "metadata": {},
   "source": [
    "### For every instance in direct outage set, is the device listed as a transformer?"
   ]
  },
  {
   "cell_type": "markdown",
   "id": "a1a760fb",
   "metadata": {},
   "source": [
    "## !!!!!!!!!!!!!!!! NOTE: DVC_TYP_NM and SHORT_NM_CLR_DEV seem to have 1-1 relationship, so no need to use both"
   ]
  },
  {
   "cell_type": "code",
   "execution_count": null,
   "id": "ab35a1ee",
   "metadata": {},
   "outputs": [],
   "source": [
    "def set_duplicated_vals_in_df_col_to_empty_str(df, col):\n",
    "    r\"\"\"\n",
    "    Function developed for use in format_groups_and_counts_df_for_table\n",
    "    \"\"\"\n",
    "    df.loc[df[col].duplicated(), col] = ''\n",
    "    return df\n",
    "\n",
    "def format_groups_and_counts_df_for_table(\n",
    "    df, \n",
    "    grp_by_cols\n",
    "):\n",
    "    r\"\"\"\n",
    "    CAN'T SIMPLY USE set_duplicated_vals_in_df_col_to_empty_str, AS I WAS BASICALLY DOING BEFORE\n",
    "    \n",
    "    The DataFrame which is output is essentially df.groupby(grp_by_cols).size().to_frame().\n",
    "    \n",
    "    Format Multi-index nicer, so instead of one column containing tuples of each Multi-index \n",
    "      (e.g., ('TRANSFORMER, OH', 'LINE FUSE')), I'll have multiple columns.\n",
    "    Also, instead of having a bunch of repeats of, e.g., level 0 values, make it such that each\n",
    "      is only printed once.\n",
    "      e.g., instead of:\n",
    "        'TRANSFORMER, OH' 'LINE FUSE'\n",
    "        'TRANSFORMER, OH' 'PRIMARY OPEN'\n",
    "       output this:\n",
    "        'TRANSFORMER, OH' 'LINE FUSE'\n",
    "                          'PRIMARY OPEN'\n",
    "    \"\"\"\n",
    "    #-------------------------\n",
    "    frmttd_df = df.copy()\n",
    "    grp_by_cols_shrnk = copy.deepcopy(grp_by_cols)\n",
    "    while len(grp_by_cols_shrnk)>1:\n",
    "        frmttd_df=frmttd_df.groupby(grp_by_cols_shrnk[:-1]).apply(\n",
    "            lambda x: set_duplicated_vals_in_df_col_to_empty_str(x, grp_by_cols_shrnk[-2])\n",
    "        )\n",
    "        grp_by_cols_shrnk=grp_by_cols_shrnk[:-1]\n",
    "    #-------------------------\n",
    "    return frmttd_df"
   ]
  },
  {
   "cell_type": "code",
   "execution_count": null,
   "id": "25038a79",
   "metadata": {},
   "outputs": [],
   "source": [
    "def build_groups_and_counts_table_from_df(\n",
    "    df, \n",
    "    grp_by_cols, \n",
    "    include_counts=True, \n",
    "    include_pct_counts=True, \n",
    "    max_rows_per_table=None, \n",
    "    fig_num=0, \n",
    "    title=None, \n",
    "    default_subplots_kwargs=None, \n",
    "    save_fig_kwargs=False\n",
    "):\n",
    "    r\"\"\"\n",
    "    The DataFrame which is output is essentially df.groupby(grp_by_cols).size().to_frame().\n",
    "    \n",
    "    Format Multi-index nicer, so instead of one column containing tuples of each Multi-index \n",
    "      (e.g., ('TRANSFORMER, OH', 'LINE FUSE')), I'll have multiple columns.\n",
    "    Also, instead of having a bunch of repeats of, e.g., level 0 values, make it such that each\n",
    "      is only printed once.\n",
    "      e.g., instead of:\n",
    "        'TRANSFORMER, OH' 'LINE FUSE'\n",
    "        'TRANSFORMER, OH' 'PRIMARY OPEN'\n",
    "       output this:\n",
    "        'TRANSFORMER, OH' 'LINE FUSE'\n",
    "                          'PRIMARY OPEN'\n",
    "                          \n",
    "    max_rows_per_table:\n",
    "        Maximum number of rows per table.  \n",
    "        The inclusion of this functionality makes this method appear more complicated than it actually is.\n",
    "        \n",
    "    save_fig_kwargs:\n",
    "        If False, no saving, obviously.\n",
    "        Otherwise, see Plot_General.save_fig for acceptable kwargs.\n",
    "            Note: The first argument to Plot_General.save_fig, i.e. fig, will be added by the function.\n",
    "                  Otherwise, at a minimum, the user must supply save_dir and save_name\n",
    "        If max_rows_per_table is not None, and subsequently multiple figures are built, their names will be appended\n",
    "          with _0 through _{n_images-1}\n",
    "    \"\"\"\n",
    "    #-------------------------\n",
    "    frmttd_df = df.groupby(grp_by_cols).size().to_frame()\n",
    "    frmttd_df = frmttd_df.reset_index()\n",
    "    #-------------------------\n",
    "    if max_rows_per_table is None:\n",
    "        batch_idxs = [[0, frmttd_df.shape[0]]]\n",
    "    else:\n",
    "        batch_idxs = Utilities.get_batch_idx_pairs(frmttd_df.shape[0], batch_size=max_rows_per_table)\n",
    "    #-------------------------\n",
    "    figs_and_axs = []\n",
    "    for i, batch_i in enumerate(batch_idxs):\n",
    "        i_beg = batch_i[0]\n",
    "        i_end = batch_i[1]\n",
    "        frmttd_df_i = frmttd_df.iloc[i_beg:i_end].copy()\n",
    "        #-----\n",
    "        if len(grp_by_cols)>1:\n",
    "#             for col in grp_by_cols[:-1]:\n",
    "#                 frmttd_df_i.loc[frmttd_df_i[col].duplicated(), col] = ''\n",
    "            frmttd_df_i = format_groups_and_counts_df_for_table(\n",
    "                df=frmttd_df_i, \n",
    "                grp_by_cols=grp_by_cols\n",
    "            )\n",
    "        #-----\n",
    "        frmttd_df_i = frmttd_df_i.rename(columns={frmttd_df_i.columns.tolist()[-1]:'Counts'})\n",
    "        if include_pct_counts:\n",
    "            frmttd_df_i['Counts (%)'] = 100*frmttd_df_i['Counts']/frmttd_df_i['Counts'].sum()\n",
    "            frmttd_df_i['Counts (%)'] = frmttd_df_i['Counts (%)'].round(5)\n",
    "        if not include_counts:\n",
    "            frmttd_df_i = frmttd_df_i.drop(columns=['Counts'])\n",
    "        #-------------------------\n",
    "        if default_subplots_kwargs is not None:\n",
    "            assert(isinstance(default_subplots_kwargs, dict))\n",
    "            default_subplots_kwargs = Utilities.supplement_dict_with_default_values(\n",
    "                to_supplmnt_dict=default_subplots_kwargs, \n",
    "                default_values_dict=dict(n_x=1, n_y=1)\n",
    "            )\n",
    "        else:\n",
    "            default_subplots_kwargs = dict(n_x=1, n_y=1)\n",
    "        default_subplots_kwargs['fig_num']=fig_num #Needs to be here so is updated at each iteration\n",
    "        fig,ax=Plot_General.default_subplots(**default_subplots_kwargs)\n",
    "        #-----\n",
    "        ax.axis('off')\n",
    "        ax.table(cellText=frmttd_df_i.values, colLabels=frmttd_df_i.columns, loc='center');\n",
    "        if title is not None:\n",
    "            ax.set_title(title)\n",
    "        #-------------------------\n",
    "        figs_and_axs.append((fig,ax))\n",
    "        fig_num+=1\n",
    "    #-------------------------\n",
    "    if save_fig_kwargs:\n",
    "        assert(\n",
    "            'save_dir' in save_fig_kwargs.keys() and \n",
    "            'save_name' in save_fig_kwargs.keys()\n",
    "        )\n",
    "        ext = Utilities.find_file_extension(file_path_or_name=save_fig_kwargs['save_name'])\n",
    "        for i, (fig_i, ax_i) in enumerate(figs_and_axs):\n",
    "            save_fig_kwargs_i = copy.deepcopy(save_fig_kwargs)\n",
    "            #----------\n",
    "            if len(figs_and_axs)>1:\n",
    "                save_fig_kwargs_i['save_name'] = Utilities.append_to_path(\n",
    "                    save_path=save_fig_kwargs_i['save_name'], \n",
    "                    appendix=f\"_{i}\",\n",
    "                    ext_to_find=ext, \n",
    "                    append_to_end_if_ext_no_found=False\n",
    "                )\n",
    "            #----------\n",
    "            save_fig_kwargs_i['fig'] = fig_i\n",
    "            Plot_General.save_fig(**save_fig_kwargs_i)\n",
    "    #-------------------------\n",
    "    if len(figs_and_axs)==1:\n",
    "        return figs_and_axs[0]\n",
    "    else:\n",
    "        return figs_and_axs"
   ]
  },
  {
   "cell_type": "code",
   "execution_count": null,
   "id": "d0fc5d9b",
   "metadata": {},
   "outputs": [],
   "source": [
    "def calc_unit_figsize_height_for_groups_and_counts_table(\n",
    "    df, \n",
    "    grp_by_cols, \n",
    "    nbr_rows_per_unit_height, \n",
    "    max_rows_per_table\n",
    "):\n",
    "    n_rows_in_grpd_df = df.groupby(grp_by_cols).size().shape[0]\n",
    "    if max_rows_per_table is None:\n",
    "        unit_figsize_height = n_rows_in_grpd_df/nbr_rows_per_unit_height\n",
    "    else:\n",
    "        if max_rows_per_table>n_rows_in_grpd_df:\n",
    "            unit_figsize_height = n_rows_in_grpd_df/nbr_rows_per_unit_height\n",
    "        else:\n",
    "            unit_figsize_height = max_rows_per_table/nbr_rows_per_unit_height\n",
    "    return unit_figsize_height"
   ]
  },
  {
   "cell_type": "code",
   "execution_count": null,
   "id": "793782e2",
   "metadata": {},
   "outputs": [],
   "source": []
  },
  {
   "cell_type": "code",
   "execution_count": null,
   "id": "8205957c",
   "metadata": {},
   "outputs": [],
   "source": [
    "qa_df = pd.read_pickle(r'C:\\Users\\s346557\\Documents\\LocalData\\dovs_and_end_events_data\\20221216\\20220101_20220930\\rcpo_dfs_GRP_BY_OUTG_AND_XFMR\\outg_td_window_1_to_30_days\\rcpo_df_raw.pkl')\n",
    "# qa_df = merged_df_full.copy()\n",
    "# qa_df=Utilities_df.flatten_multiindex_columns(qa_df)"
   ]
  },
  {
   "cell_type": "code",
   "execution_count": null,
   "id": "414dd492",
   "metadata": {},
   "outputs": [],
   "source": [
    "qa_df = DOVSOutages.append_outg_info_to_df(\n",
    "    df=qa_df, \n",
    "    outg_rec_nb_idfr=('index', 'outg_rec_nb')\n",
    ")\n",
    "#-------------------------\n",
    "xfmr_equip_typ_nms_of_interest = ['TRANSFORMER, OH', 'TRANSFORMER, UG']\n",
    "qa_df_drct = qa_df[\n",
    "    (qa_df.index.get_level_values(1)==qa_df['LOCATION_ID']) &\n",
    "    (qa_df['EQUIP_TYP_NM'].isin(xfmr_equip_typ_nms_of_interest))\n",
    "]\n",
    "#-------------------------\n",
    "qa_df_drct_loose = qa_df[qa_df.index.get_level_values(1)==qa_df['LOCATION_ID']]\n",
    "#-------------------------\n",
    "qa_df_non_trsfs = qa_df[qa_df.index.get_level_values(1)!=qa_df['LOCATION_ID']].copy()\n",
    "#-------------------------"
   ]
  },
  {
   "cell_type": "code",
   "execution_count": null,
   "id": "bafc122d",
   "metadata": {},
   "outputs": [],
   "source": [
    "qa_df_drct.head()['LOCATION_ID']"
   ]
  },
  {
   "cell_type": "code",
   "execution_count": null,
   "id": "49c48e3c",
   "metadata": {},
   "outputs": [],
   "source": [
    "qa_df_non_trsfs.head()['LOCATION_ID']"
   ]
  },
  {
   "cell_type": "code",
   "execution_count": null,
   "id": "e88bd827",
   "metadata": {},
   "outputs": [],
   "source": []
  },
  {
   "cell_type": "code",
   "execution_count": null,
   "id": "8ed4b78b",
   "metadata": {},
   "outputs": [],
   "source": [
    "print(qa_df.groupby(['EQUIP_TYP_NM', 'DVC_TYP_NM']).ngroups)\n",
    "print(qa_df.groupby(['EQUIP_TYP_NM', 'DVC_TYP_NM', 'SHORT_NM_CLR_DEV']).ngroups)\n",
    "print()\n",
    "print(qa_df_drct.groupby(['EQUIP_TYP_NM', 'DVC_TYP_NM']).ngroups)\n",
    "print(qa_df_drct.groupby(['EQUIP_TYP_NM', 'DVC_TYP_NM', 'SHORT_NM_CLR_DEV']).ngroups)\n",
    "print()\n",
    "print(qa_df_drct_loose.groupby(['EQUIP_TYP_NM', 'DVC_TYP_NM']).ngroups)\n",
    "print(qa_df_drct_loose.groupby(['EQUIP_TYP_NM', 'DVC_TYP_NM', 'SHORT_NM_CLR_DEV']).ngroups)\n",
    "print()\n",
    "print(qa_df_non_trsfs.groupby(['EQUIP_TYP_NM', 'DVC_TYP_NM']).ngroups)\n",
    "print(qa_df_non_trsfs.groupby(['EQUIP_TYP_NM', 'DVC_TYP_NM', 'SHORT_NM_CLR_DEV']).ngroups)\n",
    "print()"
   ]
  },
  {
   "cell_type": "code",
   "execution_count": null,
   "id": "e9aa7a68",
   "metadata": {},
   "outputs": [],
   "source": [
    "qa_df_drct.groupby(['EQUIP_TYP_NM', 'DVC_TYP_NM']).size().to_frame()"
   ]
  },
  {
   "cell_type": "code",
   "execution_count": null,
   "id": "f4442c53",
   "metadata": {},
   "outputs": [],
   "source": []
  },
  {
   "cell_type": "code",
   "execution_count": null,
   "id": "47aff0f3",
   "metadata": {},
   "outputs": [],
   "source": [
    "save_figures = False\n",
    "\n",
    "# A good ratio for number of tables lines per unit figure size height is 4.4\n",
    "nbr_rows_per_unit_height = 4.4\n",
    "\n",
    "max_rows_per_table = None\n",
    "# max_rows_per_table = 75"
   ]
  },
  {
   "cell_type": "code",
   "execution_count": null,
   "id": "cab95ea8",
   "metadata": {},
   "outputs": [],
   "source": [
    "if save_figures:\n",
    "    save_fig_kwargs = dict(\n",
    "        save_dir=r'C:\\Users\\s346557\\Documents\\AnalysisNote\\X_Results\\X_2_OutageMeterEvents\\Figures\\EQUIP_and_DVC_TYPS_in_outages', \n",
    "        save_name='Direct_outages_strict.png'\n",
    "    )\n",
    "else:\n",
    "    save_fig_kwargs=False\n",
    "#-----\n",
    "unit_figsize_height = calc_unit_figsize_height_for_groups_and_counts_table(\n",
    "    df=qa_df_drct, \n",
    "    grp_by_cols=['EQUIP_TYP_NM', 'DVC_TYP_NM'], \n",
    "    nbr_rows_per_unit_height=nbr_rows_per_unit_height, \n",
    "    max_rows_per_table=max_rows_per_table\n",
    ")\n",
    "#-----\n",
    "figs_and_axs = build_groups_and_counts_table_from_df(\n",
    "    df=qa_df_drct, \n",
    "    grp_by_cols=['EQUIP_TYP_NM', 'DVC_TYP_NM'], \n",
    "    include_counts=True, \n",
    "    include_pct_counts=True, \n",
    "    max_rows_per_table=max_rows_per_table, \n",
    "    fig_num=0, \n",
    "    title='Direct Outages (strict)', \n",
    "    default_subplots_kwargs = dict(unit_figsize_height=unit_figsize_height), \n",
    "    save_fig_kwargs=save_fig_kwargs\n",
    ")"
   ]
  },
  {
   "cell_type": "code",
   "execution_count": null,
   "id": "45149e6e",
   "metadata": {},
   "outputs": [],
   "source": [
    "if save_figures:\n",
    "    save_fig_kwargs = dict(\n",
    "        save_dir=r'C:\\Users\\s346557\\Documents\\AnalysisNote\\X_Results\\X_2_OutageMeterEvents\\Figures\\EQUIP_and_DVC_TYPS_in_outages', \n",
    "        save_name='All_outages.png'\n",
    "    )\n",
    "else:\n",
    "    save_fig_kwargs=False\n",
    "#-----\n",
    "unit_figsize_height = calc_unit_figsize_height_for_groups_and_counts_table(\n",
    "    df=qa_df, \n",
    "    grp_by_cols=['EQUIP_TYP_NM', 'DVC_TYP_NM'], \n",
    "    nbr_rows_per_unit_height=nbr_rows_per_unit_height, \n",
    "    max_rows_per_table=max_rows_per_table\n",
    ")\n",
    "#-----\n",
    "figs_and_axs = build_groups_and_counts_table_from_df(\n",
    "    df=qa_df, \n",
    "    grp_by_cols=['EQUIP_TYP_NM', 'DVC_TYP_NM'], \n",
    "    include_counts=True, \n",
    "    max_rows_per_table=max_rows_per_table, \n",
    "    fig_num=0, \n",
    "    title='All Outages', \n",
    "    default_subplots_kwargs = dict(unit_figsize_height=unit_figsize_height), \n",
    "    save_fig_kwargs=save_fig_kwargs\n",
    ")"
   ]
  },
  {
   "cell_type": "code",
   "execution_count": null,
   "id": "90a9c91c",
   "metadata": {},
   "outputs": [],
   "source": []
  },
  {
   "cell_type": "code",
   "execution_count": null,
   "id": "b068f8ae",
   "metadata": {},
   "outputs": [],
   "source": [
    "if save_figures:\n",
    "    save_fig_kwargs = dict(\n",
    "        save_dir=r'C:\\Users\\s346557\\Documents\\AnalysisNote\\X_Results\\X_2_OutageMeterEvents\\Figures\\EQUIP_and_DVC_TYPS_in_outages', \n",
    "        save_name='Direct_outages_loose.png'\n",
    "    )\n",
    "else:\n",
    "    save_fig_kwargs=False\n",
    "#-----\n",
    "unit_figsize_height = calc_unit_figsize_height_for_groups_and_counts_table(\n",
    "    df=qa_df_drct_loose, \n",
    "    grp_by_cols=['EQUIP_TYP_NM', 'DVC_TYP_NM'], \n",
    "    nbr_rows_per_unit_height=nbr_rows_per_unit_height, \n",
    "    max_rows_per_table=max_rows_per_table\n",
    ")\n",
    "#-----\n",
    "figs_and_axs = build_groups_and_counts_table_from_df(\n",
    "    df=qa_df_drct_loose, \n",
    "    grp_by_cols=['EQUIP_TYP_NM', 'DVC_TYP_NM'], \n",
    "    include_counts=True, \n",
    "    max_rows_per_table=max_rows_per_table, \n",
    "    fig_num=0, \n",
    "    title='Direct Outages (loose)', \n",
    "    default_subplots_kwargs = dict(unit_figsize_height=unit_figsize_height), \n",
    "    save_fig_kwargs=save_fig_kwargs\n",
    ")"
   ]
  },
  {
   "cell_type": "code",
   "execution_count": null,
   "id": "36d4e738",
   "metadata": {},
   "outputs": [],
   "source": [
    "if save_figures:\n",
    "    save_fig_kwargs = dict(\n",
    "        save_dir=r'C:\\Users\\s346557\\Documents\\AnalysisNote\\X_Results\\X_2_OutageMeterEvents\\Figures\\EQUIP_and_DVC_TYPS_in_outages', \n",
    "        save_name='Non_transformer_outages.png'\n",
    "    )\n",
    "else:\n",
    "    save_fig_kwargs=False\n",
    "#-----\n",
    "unit_figsize_height = calc_unit_figsize_height_for_groups_and_counts_table(\n",
    "    df=qa_df_non_trsfs, \n",
    "    grp_by_cols=['EQUIP_TYP_NM', 'DVC_TYP_NM'], \n",
    "    nbr_rows_per_unit_height=nbr_rows_per_unit_height, \n",
    "    max_rows_per_table=max_rows_per_table\n",
    ")\n",
    "#-----\n",
    "figs_and_axs = build_groups_and_counts_table_from_df(\n",
    "    df=qa_df_non_trsfs, \n",
    "    grp_by_cols=['EQUIP_TYP_NM', 'DVC_TYP_NM'], \n",
    "    include_counts=True, \n",
    "    max_rows_per_table=max_rows_per_table, \n",
    "    fig_num=0, \n",
    "    title='Direct Outages (loose)', \n",
    "    default_subplots_kwargs = dict(unit_figsize_height=unit_figsize_height), \n",
    "    save_fig_kwargs=save_fig_kwargs\n",
    ")"
   ]
  },
  {
   "cell_type": "code",
   "execution_count": null,
   "id": "c6c21267",
   "metadata": {},
   "outputs": [],
   "source": []
  },
  {
   "cell_type": "code",
   "execution_count": null,
   "id": "593ddc4c",
   "metadata": {},
   "outputs": [],
   "source": []
  },
  {
   "cell_type": "code",
   "execution_count": null,
   "id": "571b6a53",
   "metadata": {},
   "outputs": [],
   "source": []
  }
 ],
 "metadata": {
  "kernelspec": {
   "display_name": "Python 3 (ipykernel)",
   "language": "python",
   "name": "python3"
  },
  "language_info": {
   "codemirror_mode": {
    "name": "ipython",
    "version": 3
   },
   "file_extension": ".py",
   "mimetype": "text/x-python",
   "name": "python",
   "nbconvert_exporter": "python",
   "pygments_lexer": "ipython3",
   "version": "3.9.18"
  }
 },
 "nbformat": 4,
 "nbformat_minor": 5
}
