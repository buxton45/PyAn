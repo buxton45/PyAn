{
 "cells": [
  {
   "cell_type": "markdown",
   "id": "612ea3d9",
   "metadata": {},
   "source": [
    "# usage_instantaneous was taking a while to run something, and I wanted to keep developing, which is why this notebooke exists"
   ]
  },
  {
   "cell_type": "code",
   "execution_count": 1,
   "id": "1fc0c8f9",
   "metadata": {
    "scrolled": false
   },
   "outputs": [],
   "source": [
    "%run AMI_SQL.ipynb\n",
    "%run AMIUsgInst_SQL.ipynb\n",
    "%run AMIUsgInst.ipynb\n",
    "%run MeterPremise.ipynb\n",
    "%run DOVSOutages_SQL.ipynb\n",
    "%run DOVSOutages.ipynb"
   ]
  },
  {
   "cell_type": "code",
   "execution_count": 2,
   "id": "9b9a7216",
   "metadata": {},
   "outputs": [],
   "source": [
    "import sys, os\n",
    "import re\n",
    "\n",
    "import pandas as pd\n",
    "import numpy as np\n",
    "from pandas.api.types import is_numeric_dtype\n",
    "from scipy import stats\n",
    "import datetime\n",
    "\n",
    "import pyodbc\n",
    "#---------------------------------------------------------------------\n",
    "sys.path.insert(0, os.path.realpath('..'))\n",
    "import Utilities_config\n",
    "#-----\n",
    "import CommonLearningMethods as clm\n",
    "#---------------------------------------------------------------------\n",
    "import matplotlib.pyplot as plt\n",
    "import seaborn as sns\n",
    "from matplotlib.backends.backend_pdf import PdfPages\n",
    "import matplotlib.patches as mpatches\n",
    "from matplotlib.lines import Line2D\n",
    "import matplotlib.ticker as ticker\n",
    "#---------------------------------------------------------------------\n",
    "sys.path.insert(0, Utilities_config.get_sql_aids_dir())\n",
    "import Utilities_sql\n",
    "import TableInfos\n",
    "from TableInfos import TableInfo\n",
    "from SQLElement import SQLElement\n",
    "from SQLElementsCollection import SQLElementsCollection\n",
    "from SQLSelect import SQLSelectElement, SQLSelect\n",
    "from SQLFrom import SQLFrom\n",
    "from SQLWhere import SQLWhereElement, SQLWhere\n",
    "from SQLJoin import SQLJoin, SQLJoinCollection\n",
    "from SQLGroupBy import SQLGroupByElement, SQLGroupBy\n",
    "from SQLHaving import SQLHaving\n",
    "from SQLOrderBy import SQLOrderByElement, SQLOrderBy\n",
    "from SQLQuery import SQLQuery\n",
    "from SQLQueryGeneric import SQLQueryGeneric\n",
    "#---------------------------------------------------------------------\n",
    "sys.path.insert(0, Utilities_config.get_utilities_dir())\n",
    "import Utilities\n",
    "import Utilities_df\n",
    "from Utilities_df import DFConstructType\n",
    "import Utilities_dt"
   ]
  },
  {
   "cell_type": "code",
   "execution_count": null,
   "id": "f4d43971",
   "metadata": {},
   "outputs": [],
   "source": []
  },
  {
   "cell_type": "code",
   "execution_count": 3,
   "id": "2dc20243",
   "metadata": {},
   "outputs": [],
   "source": [
    "conn_outages = Utilities.get_utldb01p_oracle_connection()\n",
    "conn_aws = Utilities.get_athena_prod_aws_connection()"
   ]
  },
  {
   "cell_type": "code",
   "execution_count": 4,
   "id": "16ba445c",
   "metadata": {},
   "outputs": [],
   "source": [
    "my_meter_premise_info = pd.read_csv(r'C:\\Users\\s346557\\Documents\\my_meter_premise_info.csv')\n",
    "my_meter_premise_info = clm.remove_prepend_from_columns_in_df(my_meter_premise_info)\n",
    "my_meter_premise_info_dict = my_meter_premise_info.squeeze().to_dict()"
   ]
  },
  {
   "cell_type": "markdown",
   "id": "3c6739ef",
   "metadata": {},
   "source": [
    "# ---------------------------------------------------------------\n",
    "# OUTAGES\n",
    "# ---------------------------------------------------------------"
   ]
  },
  {
   "cell_type": "code",
   "execution_count": 5,
   "id": "127d034f",
   "metadata": {
    "scrolled": false
   },
   "outputs": [],
   "source": [
    "dovs_outgs = DOVSOutages(df_construct_type=DFConstructType.kRunSqlQuery, \n",
    "                         build_sql_function_kwargs=dict(\n",
    "                             specific_dates=['2020-10-12','2017-09-16','2020-07-01'], \n",
    "                             outg_rec_nbs=['11947217','11946640','10143524','11770899']\n",
    "                         ), \n",
    "                         init_df_in_constructor=True)\n",
    "df_outage = dovs_outgs.get_df().copy()"
   ]
  },
  {
   "cell_type": "code",
   "execution_count": null,
   "id": "acd43af6",
   "metadata": {},
   "outputs": [],
   "source": []
  },
  {
   "cell_type": "code",
   "execution_count": null,
   "id": "61b7a2a7",
   "metadata": {},
   "outputs": [],
   "source": []
  },
  {
   "cell_type": "code",
   "execution_count": 6,
   "id": "98bf478d",
   "metadata": {},
   "outputs": [],
   "source": [
    "#TODO\n",
    "#search_time_half_window = 60 #minutes\n",
    "search_time_half_window = 60*24*14 #minutes\n",
    "search_time_half_window = datetime.timedelta(minutes=search_time_half_window)\n",
    "\n",
    "# NOTE: search_time_half_window can also be a vector of values...\n",
    "df_outage['search_time_half_window'] = search_time_half_window\n",
    "df_outage['t_search_min'] = df_outage['DT_OFF_TS_FULL'] - df_outage['search_time_half_window']\n",
    "df_outage['t_search_max'] = df_outage['DT_ON_TS'] + df_outage['search_time_half_window']"
   ]
  },
  {
   "cell_type": "code",
   "execution_count": null,
   "id": "e3a4e7ec",
   "metadata": {},
   "outputs": [],
   "source": []
  },
  {
   "cell_type": "markdown",
   "id": "47449332",
   "metadata": {},
   "source": [
    "# Usage Instantaneous"
   ]
  },
  {
   "cell_type": "code",
   "execution_count": 7,
   "id": "3421acba",
   "metadata": {},
   "outputs": [],
   "source": [
    "cols_of_interest_usg_inst = TableInfos.AMIUsgInst_TI.std_columns_of_interest\n",
    "cols_of_interest_met_prem = TableInfos.MeterPremise_TI.std_columns_of_interest"
   ]
  },
  {
   "cell_type": "code",
   "execution_count": null,
   "id": "657fb319",
   "metadata": {},
   "outputs": [],
   "source": []
  },
  {
   "cell_type": "code",
   "execution_count": null,
   "id": "1fc7ef49",
   "metadata": {},
   "outputs": [],
   "source": []
  },
  {
   "cell_type": "code",
   "execution_count": 8,
   "id": "be786309",
   "metadata": {},
   "outputs": [
    {
     "name": "stdout",
     "output_type": "stream",
     "text": [
      "WITH EDE_gnrl AS (\n",
      "\tSELECT\n",
      "\t\tun_rin.read_type,\n",
      "\t\tun_rin.serialnumber,\n",
      "\t\tun_rin.aep_premise_nb,\n",
      "\t\tun_rin.timezoneoffset,\n",
      "\t\tun_rin.aep_readtime,\n",
      "\t\tun_rin.aep_readtime_utc,\n",
      "\t\tun_rin.measurement_type,\n",
      "\t\tun_rin.measurement_value,\n",
      "\t\tun_rin.longitude,\n",
      "\t\tun_rin.latitude,\n",
      "\t\tun_rin.aep_opco,\n",
      "\t\tun_rin.aep_read_dt\n",
      "\tFROM usage_instantaneous.inst_msr_consume un_rin\n",
      "\tWHERE un_rin.aep_opco = 'oh'\n",
      "\tAND   (\n",
      "\t\taep_read_dt BETWEEN '2017-09-02' AND '2017-09-30' OR \n",
      "\t\taep_read_dt BETWEEN '2020-06-17' AND '2020-07-15' OR \n",
      "\t\taep_read_dt BETWEEN '2020-09-28' AND '2020-10-26'\n",
      "\t)\n",
      "), \n",
      "EDE_0 AS (\n",
      "\tSELECT\n",
      "\t\tEDE_gnrl.*,\n",
      "\t\t'10143524' AS OUTG_REC_NB\n",
      "\tFROM EDE_gnrl\n",
      "\tWHERE aep_read_dt BETWEEN '2017-09-02' AND '2017-09-30'\n",
      "\tAND   aep_premise_nb IN ('100420620','100547600','100683783','101020620','101330620','102920620','103520620','103647600','103783783','104120620','104430620','105030620','105293783','105710620','106620620','106747600','106883783','107220620','107483783','108130620','108393783','108810620','109720620','109847600')\n",
      "\tAND   CAST(regexp_replace(aep_readtime, '(\\\\d{4}-\\\\d{2}-\\\\d{2}) (\\\\d{2}:\\\\d{2}:\\\\d{2}).*', '$1 $2') AS TIMESTAMP) BETWEEN '2017-09-02 18:07:00' AND '2017-09-30 19:45:00'\n",
      "), \n",
      "EDE_1 AS (\n",
      "\tSELECT\n",
      "\t\tEDE_gnrl.*,\n",
      "\t\t'11770899' AS OUTG_REC_NB\n",
      "\tFROM EDE_gnrl\n",
      "\tWHERE aep_read_dt BETWEEN '2020-06-17' AND '2020-07-15'\n",
      "\tAND   aep_premise_nb IN ('070508983','071048983','071108983','072018983','073608983','074148983','074208983','075738983','075897983','076708983','077308983','078838983','079808983')\n",
      "\tAND   CAST(regexp_replace(aep_readtime, '(\\\\d{4}-\\\\d{2}-\\\\d{2}) (\\\\d{2}:\\\\d{2}:\\\\d{2}).*', '$1 $2') AS TIMESTAMP) BETWEEN '2020-06-17 14:18:00' AND '2020-07-15 18:50:00'\n",
      "), \n",
      "EDE_2 AS (\n",
      "\tSELECT\n",
      "\t\tEDE_gnrl.*,\n",
      "\t\t'11946640' AS OUTG_REC_NB\n",
      "\tFROM EDE_gnrl\n",
      "\tWHERE aep_read_dt BETWEEN '2020-09-28' AND '2020-10-26'\n",
      "\tAND   aep_premise_nb IN ('101137530','107337530','107726383','109236383')\n",
      "\tAND   CAST(regexp_replace(aep_readtime, '(\\\\d{4}-\\\\d{2}-\\\\d{2}) (\\\\d{2}:\\\\d{2}:\\\\d{2}).*', '$1 $2') AS TIMESTAMP) BETWEEN '2020-09-28 14:58:00' AND '2020-10-26 15:24:00'\n",
      "), \n",
      "EDE_3 AS (\n",
      "\tSELECT\n",
      "\t\tEDE_gnrl.*,\n",
      "\t\t'11947217' AS OUTG_REC_NB\n",
      "\tFROM EDE_gnrl\n",
      "\tWHERE aep_read_dt BETWEEN '2020-09-28' AND '2020-10-26'\n",
      "\tAND   aep_premise_nb IN ('100420620','100547600','100683783','101020620','101330620','103520620','103647600','103783783','104120620','104430620','105030620','105293783','105710620','106620620','106747600','106883783','107220620','107483783','108130620','108393783','108810620','109720620','109847600')\n",
      "\tAND   CAST(regexp_replace(aep_readtime, '(\\\\d{4}-\\\\d{2}-\\\\d{2}) (\\\\d{2}:\\\\d{2}:\\\\d{2}).*', '$1 $2') AS TIMESTAMP) BETWEEN '2020-09-28 19:18:00' AND '2020-10-26 20:45:00'\n",
      ")\n",
      "\n",
      "SELECT * FROM EDE_0\n",
      "UNION\n",
      "SELECT * FROM EDE_1\n",
      "UNION\n",
      "SELECT * FROM EDE_2\n",
      "UNION\n",
      "SELECT * FROM EDE_3\n"
     ]
    }
   ],
   "source": [
    "sql_usg_inst_for_outages = AMIUsgInst_SQL.build_sql_usg_inst_for_outages(\n",
    "    cols_of_interest_usg_inst, \n",
    "    df_outage, \n",
    "    build_sql_function_kwargs=dict(opco='oh')\n",
    ")\n",
    "print(sql_usg_inst_for_outages)"
   ]
  },
  {
   "cell_type": "code",
   "execution_count": 9,
   "id": "edd66488",
   "metadata": {},
   "outputs": [],
   "source": [
    "df_1 = pd.read_sql(sql_usg_inst_for_outages, conn_aws)\n",
    "df_1 = clm.remove_table_aliases(df_1)\n"
   ]
  },
  {
   "cell_type": "code",
   "execution_count": 10,
   "id": "a117c2cc",
   "metadata": {},
   "outputs": [
    {
     "data": {
      "text/html": [
       "<div>\n",
       "<style scoped>\n",
       "    .dataframe tbody tr th:only-of-type {\n",
       "        vertical-align: middle;\n",
       "    }\n",
       "\n",
       "    .dataframe tbody tr th {\n",
       "        vertical-align: top;\n",
       "    }\n",
       "\n",
       "    .dataframe thead th {\n",
       "        text-align: right;\n",
       "    }\n",
       "</style>\n",
       "<table border=\"1\" class=\"dataframe\">\n",
       "  <thead>\n",
       "    <tr style=\"text-align: right;\">\n",
       "      <th></th>\n",
       "      <th>read_type</th>\n",
       "      <th>serialnumber</th>\n",
       "      <th>aep_premise_nb</th>\n",
       "      <th>timezoneoffset</th>\n",
       "      <th>aep_readtime</th>\n",
       "      <th>aep_readtime_utc</th>\n",
       "      <th>measurement_type</th>\n",
       "      <th>measurement_value</th>\n",
       "      <th>longitude</th>\n",
       "      <th>latitude</th>\n",
       "      <th>aep_opco</th>\n",
       "      <th>aep_read_dt</th>\n",
       "      <th>outg_rec_nb</th>\n",
       "    </tr>\n",
       "  </thead>\n",
       "  <tbody>\n",
       "    <tr>\n",
       "      <th>0</th>\n",
       "      <td>mt110_voltage_event</td>\n",
       "      <td>682540032</td>\n",
       "      <td>077308983</td>\n",
       "      <td>-04:00</td>\n",
       "      <td>2020-07-04 14:45:15</td>\n",
       "      <td>1593888315</td>\n",
       "      <td>curr_fndmt_harm1</td>\n",
       "      <td>31.8000</td>\n",
       "      <td>-83.2817183</td>\n",
       "      <td>40.8232183</td>\n",
       "      <td>oh</td>\n",
       "      <td>2020-07-04</td>\n",
       "      <td>11770899</td>\n",
       "    </tr>\n",
       "    <tr>\n",
       "      <th>1</th>\n",
       "      <td>mt110_voltage_event</td>\n",
       "      <td>682540032</td>\n",
       "      <td>077308983</td>\n",
       "      <td>-04:00</td>\n",
       "      <td>2020-07-04 14:45:15</td>\n",
       "      <td>1593888315</td>\n",
       "      <td>curr_fndmt_harm3</td>\n",
       "      <td>36.9000</td>\n",
       "      <td>-83.2817183</td>\n",
       "      <td>40.8232183</td>\n",
       "      <td>oh</td>\n",
       "      <td>2020-07-04</td>\n",
       "      <td>11770899</td>\n",
       "    </tr>\n",
       "    <tr>\n",
       "      <th>2</th>\n",
       "      <td>mt110_voltage_event</td>\n",
       "      <td>682540032</td>\n",
       "      <td>077308983</td>\n",
       "      <td>-04:00</td>\n",
       "      <td>2020-07-04 14:45:15</td>\n",
       "      <td>1593888315</td>\n",
       "      <td>curr_fndmt_only3</td>\n",
       "      <td>36.9000</td>\n",
       "      <td>-83.2817183</td>\n",
       "      <td>40.8232183</td>\n",
       "      <td>oh</td>\n",
       "      <td>2020-07-04</td>\n",
       "      <td>11770899</td>\n",
       "    </tr>\n",
       "    <tr>\n",
       "      <th>3</th>\n",
       "      <td>mt110_voltage_event</td>\n",
       "      <td>682540032</td>\n",
       "      <td>077308983</td>\n",
       "      <td>-04:00</td>\n",
       "      <td>2020-07-04 14:45:15</td>\n",
       "      <td>1593888315</td>\n",
       "      <td>curr_harmonic_distortion1</td>\n",
       "      <td>9.0000</td>\n",
       "      <td>-83.2817183</td>\n",
       "      <td>40.8232183</td>\n",
       "      <td>oh</td>\n",
       "      <td>2020-07-04</td>\n",
       "      <td>11770899</td>\n",
       "    </tr>\n",
       "    <tr>\n",
       "      <th>4</th>\n",
       "      <td>mt110_voltage_event</td>\n",
       "      <td>682540032</td>\n",
       "      <td>077308983</td>\n",
       "      <td>-04:00</td>\n",
       "      <td>2020-07-04 14:45:15</td>\n",
       "      <td>1593888315</td>\n",
       "      <td>curr_harmonic_distortion2</td>\n",
       "      <td>0.0000</td>\n",
       "      <td>-83.2817183</td>\n",
       "      <td>40.8232183</td>\n",
       "      <td>oh</td>\n",
       "      <td>2020-07-04</td>\n",
       "      <td>11770899</td>\n",
       "    </tr>\n",
       "    <tr>\n",
       "      <th>...</th>\n",
       "      <td>...</td>\n",
       "      <td>...</td>\n",
       "      <td>...</td>\n",
       "      <td>...</td>\n",
       "      <td>...</td>\n",
       "      <td>...</td>\n",
       "      <td>...</td>\n",
       "      <td>...</td>\n",
       "      <td>...</td>\n",
       "      <td>...</td>\n",
       "      <td>...</td>\n",
       "      <td>...</td>\n",
       "      <td>...</td>\n",
       "    </tr>\n",
       "    <tr>\n",
       "      <th>7239</th>\n",
       "      <td>st03_fatal_errors</td>\n",
       "      <td>881984523</td>\n",
       "      <td>101330620</td>\n",
       "      <td>-04:00</td>\n",
       "      <td>2020-09-30 18:01:12</td>\n",
       "      <td>1601503272</td>\n",
       "      <td>under_voltage_status</td>\n",
       "      <td></td>\n",
       "      <td>-82.9532280</td>\n",
       "      <td>40.06823800</td>\n",
       "      <td>oh</td>\n",
       "      <td>2020-09-30</td>\n",
       "      <td>11947217</td>\n",
       "    </tr>\n",
       "    <tr>\n",
       "      <th>7240</th>\n",
       "      <td>st03_fatal_errors</td>\n",
       "      <td>882468091</td>\n",
       "      <td>108130620</td>\n",
       "      <td>-04:00</td>\n",
       "      <td>2020-09-30 18:19:37</td>\n",
       "      <td>1601504377</td>\n",
       "      <td>dsp_error_status</td>\n",
       "      <td></td>\n",
       "      <td>-82.9535730</td>\n",
       "      <td>40.06827500</td>\n",
       "      <td>oh</td>\n",
       "      <td>2020-09-30</td>\n",
       "      <td>11947217</td>\n",
       "    </tr>\n",
       "    <tr>\n",
       "      <th>7241</th>\n",
       "      <td>st03_fatal_errors</td>\n",
       "      <td>882468091</td>\n",
       "      <td>108130620</td>\n",
       "      <td>-04:00</td>\n",
       "      <td>2020-09-30 18:19:37</td>\n",
       "      <td>1601504377</td>\n",
       "      <td>nvram_error_status</td>\n",
       "      <td></td>\n",
       "      <td>-82.9535730</td>\n",
       "      <td>40.06827500</td>\n",
       "      <td>oh</td>\n",
       "      <td>2020-09-30</td>\n",
       "      <td>11947217</td>\n",
       "    </tr>\n",
       "    <tr>\n",
       "      <th>7242</th>\n",
       "      <td>st03_fatal_errors</td>\n",
       "      <td>882468091</td>\n",
       "      <td>108130620</td>\n",
       "      <td>-04:00</td>\n",
       "      <td>2020-09-30 18:19:37</td>\n",
       "      <td>1601504377</td>\n",
       "      <td>ram_error_status</td>\n",
       "      <td></td>\n",
       "      <td>-82.9535730</td>\n",
       "      <td>40.06827500</td>\n",
       "      <td>oh</td>\n",
       "      <td>2020-09-30</td>\n",
       "      <td>11947217</td>\n",
       "    </tr>\n",
       "    <tr>\n",
       "      <th>7243</th>\n",
       "      <td>st03_fatal_errors</td>\n",
       "      <td>882468091</td>\n",
       "      <td>108130620</td>\n",
       "      <td>-04:00</td>\n",
       "      <td>2020-09-30 18:19:37</td>\n",
       "      <td>1601504377</td>\n",
       "      <td>reverse_energy_flow_status</td>\n",
       "      <td></td>\n",
       "      <td>-82.9535730</td>\n",
       "      <td>40.06827500</td>\n",
       "      <td>oh</td>\n",
       "      <td>2020-09-30</td>\n",
       "      <td>11947217</td>\n",
       "    </tr>\n",
       "  </tbody>\n",
       "</table>\n",
       "<p>7244 rows × 13 columns</p>\n",
       "</div>"
      ],
      "text/plain": [
       "                read_type serialnumber aep_premise_nb timezoneoffset  \\\n",
       "0     mt110_voltage_event    682540032      077308983         -04:00   \n",
       "1     mt110_voltage_event    682540032      077308983         -04:00   \n",
       "2     mt110_voltage_event    682540032      077308983         -04:00   \n",
       "3     mt110_voltage_event    682540032      077308983         -04:00   \n",
       "4     mt110_voltage_event    682540032      077308983         -04:00   \n",
       "...                   ...          ...            ...            ...   \n",
       "7239    st03_fatal_errors    881984523      101330620         -04:00   \n",
       "7240    st03_fatal_errors    882468091      108130620         -04:00   \n",
       "7241    st03_fatal_errors    882468091      108130620         -04:00   \n",
       "7242    st03_fatal_errors    882468091      108130620         -04:00   \n",
       "7243    st03_fatal_errors    882468091      108130620         -04:00   \n",
       "\n",
       "             aep_readtime  aep_readtime_utc            measurement_type  \\\n",
       "0     2020-07-04 14:45:15        1593888315            curr_fndmt_harm1   \n",
       "1     2020-07-04 14:45:15        1593888315            curr_fndmt_harm3   \n",
       "2     2020-07-04 14:45:15        1593888315            curr_fndmt_only3   \n",
       "3     2020-07-04 14:45:15        1593888315   curr_harmonic_distortion1   \n",
       "4     2020-07-04 14:45:15        1593888315   curr_harmonic_distortion2   \n",
       "...                   ...               ...                         ...   \n",
       "7239  2020-09-30 18:01:12        1601503272        under_voltage_status   \n",
       "7240  2020-09-30 18:19:37        1601504377            dsp_error_status   \n",
       "7241  2020-09-30 18:19:37        1601504377          nvram_error_status   \n",
       "7242  2020-09-30 18:19:37        1601504377            ram_error_status   \n",
       "7243  2020-09-30 18:19:37        1601504377  reverse_energy_flow_status   \n",
       "\n",
       "     measurement_value    longitude     latitude aep_opco aep_read_dt  \\\n",
       "0              31.8000  -83.2817183   40.8232183       oh  2020-07-04   \n",
       "1              36.9000  -83.2817183   40.8232183       oh  2020-07-04   \n",
       "2              36.9000  -83.2817183   40.8232183       oh  2020-07-04   \n",
       "3               9.0000  -83.2817183   40.8232183       oh  2020-07-04   \n",
       "4               0.0000  -83.2817183   40.8232183       oh  2020-07-04   \n",
       "...                ...          ...          ...      ...         ...   \n",
       "7239                    -82.9532280  40.06823800       oh  2020-09-30   \n",
       "7240                    -82.9535730  40.06827500       oh  2020-09-30   \n",
       "7241                    -82.9535730  40.06827500       oh  2020-09-30   \n",
       "7242                    -82.9535730  40.06827500       oh  2020-09-30   \n",
       "7243                    -82.9535730  40.06827500       oh  2020-09-30   \n",
       "\n",
       "     outg_rec_nb  \n",
       "0       11770899  \n",
       "1       11770899  \n",
       "2       11770899  \n",
       "3       11770899  \n",
       "4       11770899  \n",
       "...          ...  \n",
       "7239    11947217  \n",
       "7240    11947217  \n",
       "7241    11947217  \n",
       "7242    11947217  \n",
       "7243    11947217  \n",
       "\n",
       "[7244 rows x 13 columns]"
      ]
     },
     "execution_count": 10,
     "metadata": {},
     "output_type": "execute_result"
    }
   ],
   "source": [
    "df_1"
   ]
  },
  {
   "cell_type": "code",
   "execution_count": null,
   "id": "2a5386c9",
   "metadata": {},
   "outputs": [],
   "source": []
  },
  {
   "cell_type": "code",
   "execution_count": 11,
   "id": "28e37845",
   "metadata": {},
   "outputs": [],
   "source": [
    "# reload(Utilities_df)\n",
    "# %run GenAn.ipynb\n",
    "# %run AMIUsgInst.ipynb"
   ]
  },
  {
   "cell_type": "code",
   "execution_count": null,
   "id": "28ef6f41",
   "metadata": {},
   "outputs": [],
   "source": []
  },
  {
   "cell_type": "code",
   "execution_count": null,
   "id": "d9141188",
   "metadata": {},
   "outputs": [],
   "source": []
  },
  {
   "cell_type": "code",
   "execution_count": 12,
   "id": "23166e8a",
   "metadata": {
    "scrolled": false
   },
   "outputs": [],
   "source": [
    "ami_usg_inst = AMIUsgInst(\n",
    "    df_construct_type=DFConstructType.kRunSqlQuery, \n",
    "    contstruct_df_args=None,\n",
    "    init_df_in_constructor=True, \n",
    "    build_sql_function=AMIUsgInst_SQL.build_sql_usg_inst_for_outages, \n",
    "    build_sql_function_kwargs = dict(\n",
    "        cols_of_interest=cols_of_interest_usg_inst, \n",
    "        df_outage=df_outage, \n",
    "        build_sql_function_kwargs=dict(opco='oh')\n",
    "    )\n",
    ")"
   ]
  },
  {
   "cell_type": "code",
   "execution_count": 13,
   "id": "b09fa1da",
   "metadata": {},
   "outputs": [
    {
     "data": {
      "text/html": [
       "<div>\n",
       "<style scoped>\n",
       "    .dataframe tbody tr th:only-of-type {\n",
       "        vertical-align: middle;\n",
       "    }\n",
       "\n",
       "    .dataframe tbody tr th {\n",
       "        vertical-align: top;\n",
       "    }\n",
       "\n",
       "    .dataframe thead th {\n",
       "        text-align: right;\n",
       "    }\n",
       "</style>\n",
       "<table border=\"1\" class=\"dataframe\">\n",
       "  <thead>\n",
       "    <tr style=\"text-align: right;\">\n",
       "      <th></th>\n",
       "      <th>read_type</th>\n",
       "      <th>serialnumber</th>\n",
       "      <th>aep_premise_nb</th>\n",
       "      <th>timezoneoffset</th>\n",
       "      <th>aep_readtime</th>\n",
       "      <th>aep_readtime_utc</th>\n",
       "      <th>measurement_type</th>\n",
       "      <th>measurement_value</th>\n",
       "      <th>longitude</th>\n",
       "      <th>latitude</th>\n",
       "      <th>aep_opco</th>\n",
       "      <th>aep_read_dt</th>\n",
       "      <th>outg_rec_nb</th>\n",
       "    </tr>\n",
       "  </thead>\n",
       "  <tbody>\n",
       "    <tr>\n",
       "      <th>0</th>\n",
       "      <td>mt110_voltage_event</td>\n",
       "      <td>682540032</td>\n",
       "      <td>077308983</td>\n",
       "      <td>-04:00</td>\n",
       "      <td>2020-07-04 14:45:15</td>\n",
       "      <td>1593888315</td>\n",
       "      <td>curr_fndmt_harm1</td>\n",
       "      <td>31.8</td>\n",
       "      <td>-83.2817183</td>\n",
       "      <td>40.8232183</td>\n",
       "      <td>oh</td>\n",
       "      <td>2020-07-04</td>\n",
       "      <td>11770899</td>\n",
       "    </tr>\n",
       "    <tr>\n",
       "      <th>1</th>\n",
       "      <td>mt110_voltage_event</td>\n",
       "      <td>682540032</td>\n",
       "      <td>077308983</td>\n",
       "      <td>-04:00</td>\n",
       "      <td>2020-07-04 14:45:15</td>\n",
       "      <td>1593888315</td>\n",
       "      <td>curr_fndmt_harm3</td>\n",
       "      <td>36.9</td>\n",
       "      <td>-83.2817183</td>\n",
       "      <td>40.8232183</td>\n",
       "      <td>oh</td>\n",
       "      <td>2020-07-04</td>\n",
       "      <td>11770899</td>\n",
       "    </tr>\n",
       "    <tr>\n",
       "      <th>2</th>\n",
       "      <td>mt110_voltage_event</td>\n",
       "      <td>682540032</td>\n",
       "      <td>077308983</td>\n",
       "      <td>-04:00</td>\n",
       "      <td>2020-07-04 14:45:15</td>\n",
       "      <td>1593888315</td>\n",
       "      <td>curr_fndmt_only3</td>\n",
       "      <td>36.9</td>\n",
       "      <td>-83.2817183</td>\n",
       "      <td>40.8232183</td>\n",
       "      <td>oh</td>\n",
       "      <td>2020-07-04</td>\n",
       "      <td>11770899</td>\n",
       "    </tr>\n",
       "    <tr>\n",
       "      <th>3</th>\n",
       "      <td>mt110_voltage_event</td>\n",
       "      <td>682540032</td>\n",
       "      <td>077308983</td>\n",
       "      <td>-04:00</td>\n",
       "      <td>2020-07-04 14:45:15</td>\n",
       "      <td>1593888315</td>\n",
       "      <td>curr_harmonic_distortion1</td>\n",
       "      <td>9.0</td>\n",
       "      <td>-83.2817183</td>\n",
       "      <td>40.8232183</td>\n",
       "      <td>oh</td>\n",
       "      <td>2020-07-04</td>\n",
       "      <td>11770899</td>\n",
       "    </tr>\n",
       "    <tr>\n",
       "      <th>4</th>\n",
       "      <td>mt110_voltage_event</td>\n",
       "      <td>682540032</td>\n",
       "      <td>077308983</td>\n",
       "      <td>-04:00</td>\n",
       "      <td>2020-07-04 14:45:15</td>\n",
       "      <td>1593888315</td>\n",
       "      <td>curr_harmonic_distortion2</td>\n",
       "      <td>0.0</td>\n",
       "      <td>-83.2817183</td>\n",
       "      <td>40.8232183</td>\n",
       "      <td>oh</td>\n",
       "      <td>2020-07-04</td>\n",
       "      <td>11770899</td>\n",
       "    </tr>\n",
       "    <tr>\n",
       "      <th>...</th>\n",
       "      <td>...</td>\n",
       "      <td>...</td>\n",
       "      <td>...</td>\n",
       "      <td>...</td>\n",
       "      <td>...</td>\n",
       "      <td>...</td>\n",
       "      <td>...</td>\n",
       "      <td>...</td>\n",
       "      <td>...</td>\n",
       "      <td>...</td>\n",
       "      <td>...</td>\n",
       "      <td>...</td>\n",
       "      <td>...</td>\n",
       "    </tr>\n",
       "    <tr>\n",
       "      <th>7239</th>\n",
       "      <td>st03_fatal_errors</td>\n",
       "      <td>881984523</td>\n",
       "      <td>101330620</td>\n",
       "      <td>-04:00</td>\n",
       "      <td>2020-09-30 18:01:12</td>\n",
       "      <td>1601503272</td>\n",
       "      <td>under_voltage_status</td>\n",
       "      <td>NaN</td>\n",
       "      <td>-82.9532280</td>\n",
       "      <td>40.06823800</td>\n",
       "      <td>oh</td>\n",
       "      <td>2020-09-30</td>\n",
       "      <td>11947217</td>\n",
       "    </tr>\n",
       "    <tr>\n",
       "      <th>7240</th>\n",
       "      <td>st03_fatal_errors</td>\n",
       "      <td>882468091</td>\n",
       "      <td>108130620</td>\n",
       "      <td>-04:00</td>\n",
       "      <td>2020-09-30 18:19:37</td>\n",
       "      <td>1601504377</td>\n",
       "      <td>dsp_error_status</td>\n",
       "      <td>NaN</td>\n",
       "      <td>-82.9535730</td>\n",
       "      <td>40.06827500</td>\n",
       "      <td>oh</td>\n",
       "      <td>2020-09-30</td>\n",
       "      <td>11947217</td>\n",
       "    </tr>\n",
       "    <tr>\n",
       "      <th>7241</th>\n",
       "      <td>st03_fatal_errors</td>\n",
       "      <td>882468091</td>\n",
       "      <td>108130620</td>\n",
       "      <td>-04:00</td>\n",
       "      <td>2020-09-30 18:19:37</td>\n",
       "      <td>1601504377</td>\n",
       "      <td>nvram_error_status</td>\n",
       "      <td>NaN</td>\n",
       "      <td>-82.9535730</td>\n",
       "      <td>40.06827500</td>\n",
       "      <td>oh</td>\n",
       "      <td>2020-09-30</td>\n",
       "      <td>11947217</td>\n",
       "    </tr>\n",
       "    <tr>\n",
       "      <th>7242</th>\n",
       "      <td>st03_fatal_errors</td>\n",
       "      <td>882468091</td>\n",
       "      <td>108130620</td>\n",
       "      <td>-04:00</td>\n",
       "      <td>2020-09-30 18:19:37</td>\n",
       "      <td>1601504377</td>\n",
       "      <td>ram_error_status</td>\n",
       "      <td>NaN</td>\n",
       "      <td>-82.9535730</td>\n",
       "      <td>40.06827500</td>\n",
       "      <td>oh</td>\n",
       "      <td>2020-09-30</td>\n",
       "      <td>11947217</td>\n",
       "    </tr>\n",
       "    <tr>\n",
       "      <th>7243</th>\n",
       "      <td>st03_fatal_errors</td>\n",
       "      <td>882468091</td>\n",
       "      <td>108130620</td>\n",
       "      <td>-04:00</td>\n",
       "      <td>2020-09-30 18:19:37</td>\n",
       "      <td>1601504377</td>\n",
       "      <td>reverse_energy_flow_status</td>\n",
       "      <td>NaN</td>\n",
       "      <td>-82.9535730</td>\n",
       "      <td>40.06827500</td>\n",
       "      <td>oh</td>\n",
       "      <td>2020-09-30</td>\n",
       "      <td>11947217</td>\n",
       "    </tr>\n",
       "  </tbody>\n",
       "</table>\n",
       "<p>7244 rows × 13 columns</p>\n",
       "</div>"
      ],
      "text/plain": [
       "                read_type serialnumber aep_premise_nb timezoneoffset  \\\n",
       "0     mt110_voltage_event    682540032      077308983         -04:00   \n",
       "1     mt110_voltage_event    682540032      077308983         -04:00   \n",
       "2     mt110_voltage_event    682540032      077308983         -04:00   \n",
       "3     mt110_voltage_event    682540032      077308983         -04:00   \n",
       "4     mt110_voltage_event    682540032      077308983         -04:00   \n",
       "...                   ...          ...            ...            ...   \n",
       "7239    st03_fatal_errors    881984523      101330620         -04:00   \n",
       "7240    st03_fatal_errors    882468091      108130620         -04:00   \n",
       "7241    st03_fatal_errors    882468091      108130620         -04:00   \n",
       "7242    st03_fatal_errors    882468091      108130620         -04:00   \n",
       "7243    st03_fatal_errors    882468091      108130620         -04:00   \n",
       "\n",
       "            aep_readtime  aep_readtime_utc            measurement_type  \\\n",
       "0    2020-07-04 14:45:15        1593888315            curr_fndmt_harm1   \n",
       "1    2020-07-04 14:45:15        1593888315            curr_fndmt_harm3   \n",
       "2    2020-07-04 14:45:15        1593888315            curr_fndmt_only3   \n",
       "3    2020-07-04 14:45:15        1593888315   curr_harmonic_distortion1   \n",
       "4    2020-07-04 14:45:15        1593888315   curr_harmonic_distortion2   \n",
       "...                  ...               ...                         ...   \n",
       "7239 2020-09-30 18:01:12        1601503272        under_voltage_status   \n",
       "7240 2020-09-30 18:19:37        1601504377            dsp_error_status   \n",
       "7241 2020-09-30 18:19:37        1601504377          nvram_error_status   \n",
       "7242 2020-09-30 18:19:37        1601504377            ram_error_status   \n",
       "7243 2020-09-30 18:19:37        1601504377  reverse_energy_flow_status   \n",
       "\n",
       "      measurement_value    longitude     latitude aep_opco aep_read_dt  \\\n",
       "0                  31.8  -83.2817183   40.8232183       oh  2020-07-04   \n",
       "1                  36.9  -83.2817183   40.8232183       oh  2020-07-04   \n",
       "2                  36.9  -83.2817183   40.8232183       oh  2020-07-04   \n",
       "3                   9.0  -83.2817183   40.8232183       oh  2020-07-04   \n",
       "4                   0.0  -83.2817183   40.8232183       oh  2020-07-04   \n",
       "...                 ...          ...          ...      ...         ...   \n",
       "7239                NaN  -82.9532280  40.06823800       oh  2020-09-30   \n",
       "7240                NaN  -82.9535730  40.06827500       oh  2020-09-30   \n",
       "7241                NaN  -82.9535730  40.06827500       oh  2020-09-30   \n",
       "7242                NaN  -82.9535730  40.06827500       oh  2020-09-30   \n",
       "7243                NaN  -82.9535730  40.06827500       oh  2020-09-30   \n",
       "\n",
       "     outg_rec_nb  \n",
       "0       11770899  \n",
       "1       11770899  \n",
       "2       11770899  \n",
       "3       11770899  \n",
       "4       11770899  \n",
       "...          ...  \n",
       "7239    11947217  \n",
       "7240    11947217  \n",
       "7241    11947217  \n",
       "7242    11947217  \n",
       "7243    11947217  \n",
       "\n",
       "[7244 rows x 13 columns]"
      ]
     },
     "execution_count": 13,
     "metadata": {},
     "output_type": "execute_result"
    }
   ],
   "source": [
    "ami_usg_inst.df"
   ]
  },
  {
   "cell_type": "code",
   "execution_count": null,
   "id": "33e5b6cf",
   "metadata": {},
   "outputs": [],
   "source": []
  },
  {
   "cell_type": "code",
   "execution_count": null,
   "id": "6f855ffc",
   "metadata": {},
   "outputs": [],
   "source": []
  },
  {
   "cell_type": "code",
   "execution_count": null,
   "id": "741b57dd",
   "metadata": {},
   "outputs": [],
   "source": [
    "sql_usg_inst_join_mp_for_outages = AMIUsgInst_SQL.build_sql_usg_inst_for_outages(\n",
    "    cols_of_interest=cols_of_interest_usg_inst, \n",
    "    df_outage=df_outage, \n",
    "    build_sql_function_kwargs=dict(opco='oh', \n",
    "                                   aep_derived_uoms_and_idntfrs=['KWH']), \n",
    "    join_mp_args=dict(\n",
    "        join_with_CTE=True, \n",
    "        build_mp_kwargs=dict(cols_of_interest=cols_of_interest_met_prem)\n",
    "    )\n",
    ")\n",
    "#print(sql_usg_inst_join_mp_for_outages)"
   ]
  },
  {
   "cell_type": "code",
   "execution_count": null,
   "id": "981abcef",
   "metadata": {},
   "outputs": [],
   "source": []
  },
  {
   "cell_type": "code",
   "execution_count": null,
   "id": "db5d188a",
   "metadata": {},
   "outputs": [],
   "source": []
  },
  {
   "cell_type": "code",
   "execution_count": null,
   "id": "29e8e57c",
   "metadata": {
    "scrolled": true
   },
   "outputs": [],
   "source": [
    "test_df = pd.read_sql(sql_usg_inst_join_mp_for_outages, conn_aws)"
   ]
  },
  {
   "cell_type": "code",
   "execution_count": null,
   "id": "9d6b2022",
   "metadata": {},
   "outputs": [],
   "source": [
    "test_df = clm.remove_table_aliases(test_df)"
   ]
  },
  {
   "cell_type": "code",
   "execution_count": null,
   "id": "f284f136",
   "metadata": {},
   "outputs": [],
   "source": [
    "test_df"
   ]
  },
  {
   "cell_type": "code",
   "execution_count": null,
   "id": "0e4cf29e",
   "metadata": {},
   "outputs": [],
   "source": []
  },
  {
   "cell_type": "code",
   "execution_count": null,
   "id": "a039d647",
   "metadata": {},
   "outputs": [],
   "source": []
  },
  {
   "cell_type": "code",
   "execution_count": null,
   "id": "e33b62d8",
   "metadata": {},
   "outputs": [],
   "source": []
  },
  {
   "cell_type": "code",
   "execution_count": null,
   "id": "ad74240d",
   "metadata": {},
   "outputs": [],
   "source": []
  },
  {
   "cell_type": "code",
   "execution_count": null,
   "id": "f6022d78",
   "metadata": {},
   "outputs": [],
   "source": []
  },
  {
   "cell_type": "code",
   "execution_count": null,
   "id": "ab2b4c9f",
   "metadata": {},
   "outputs": [],
   "source": []
  },
  {
   "cell_type": "code",
   "execution_count": null,
   "id": "e92d9c26",
   "metadata": {},
   "outputs": [],
   "source": [
    "start = time.time()\n",
    "new_df = pd.read_sql(sql_usg_inst_for_outages, conn_aws)\n",
    "print(time.time()-start)\n",
    "new_df = clm.remove_table_aliases(new_df)"
   ]
  },
  {
   "cell_type": "code",
   "execution_count": null,
   "id": "a0b0c639",
   "metadata": {},
   "outputs": [],
   "source": []
  },
  {
   "cell_type": "code",
   "execution_count": null,
   "id": "9ec37dcc",
   "metadata": {},
   "outputs": [],
   "source": []
  },
  {
   "cell_type": "code",
   "execution_count": null,
   "id": "c6f255fb",
   "metadata": {},
   "outputs": [],
   "source": []
  },
  {
   "cell_type": "code",
   "execution_count": null,
   "id": "eb1098f1",
   "metadata": {},
   "outputs": [],
   "source": []
  },
  {
   "cell_type": "code",
   "execution_count": null,
   "id": "3c4fca93",
   "metadata": {},
   "outputs": [],
   "source": []
  },
  {
   "cell_type": "code",
   "execution_count": null,
   "id": "3f526647",
   "metadata": {},
   "outputs": [],
   "source": []
  },
  {
   "cell_type": "code",
   "execution_count": null,
   "id": "a655065b",
   "metadata": {},
   "outputs": [],
   "source": []
  },
  {
   "cell_type": "code",
   "execution_count": null,
   "id": "882c264d",
   "metadata": {},
   "outputs": [],
   "source": [
    "sql_usg_inst = AMIUsgInst_SQL.build_sql_usg_inst(\n",
    "    cols_of_interest_usg_inst, \n",
    "    serial_numbers=[my_meter_premise_info_dict['mfr_devc_ser_nbr']], \n",
    "    aep_premise_nbs=[my_meter_premise_info_dict['prem_nb']], \n",
    "    aep_opco='oh', \n",
    "    date_range=date_range\n",
    ")"
   ]
  },
  {
   "cell_type": "code",
   "execution_count": null,
   "id": "59048e3f",
   "metadata": {},
   "outputs": [],
   "source": [
    "sql_usg_inst.print()"
   ]
  },
  {
   "cell_type": "code",
   "execution_count": null,
   "id": "c98dc51d",
   "metadata": {},
   "outputs": [],
   "source": [
    "df_usg_inst_OG = pd.read_sql(sql_usg_inst, conn_aws)\n",
    "df_usg_inst_OG = clm.remove_table_aliases(df_usg_inst_OG)"
   ]
  },
  {
   "cell_type": "code",
   "execution_count": null,
   "id": "40288724",
   "metadata": {},
   "outputs": [],
   "source": [
    "df_usg_inst_OG.head()"
   ]
  },
  {
   "cell_type": "markdown",
   "id": "fcf95eb7",
   "metadata": {},
   "source": [
    "# -----"
   ]
  },
  {
   "cell_type": "code",
   "execution_count": null,
   "id": "66da10cc",
   "metadata": {},
   "outputs": [],
   "source": [
    "df_usg_inst = df_usg_inst_OG.copy()"
   ]
  },
  {
   "cell_type": "code",
   "execution_count": null,
   "id": "e9839ba2",
   "metadata": {
    "scrolled": true
   },
   "outputs": [],
   "source": [
    "print(f'df_usg_inst.shape = {df_usg_inst.shape}')\n",
    "print(\"\\ndf_usg_inst['measurement_type'].unique()\\n\", '-'*25+'\\n', df_usg_inst['measurement_type'].unique())"
   ]
  },
  {
   "cell_type": "code",
   "execution_count": null,
   "id": "fdda27d8",
   "metadata": {},
   "outputs": [],
   "source": [
    "df_usg_inst['aep_readtime'] = pd.to_datetime(df_usg_inst['aep_readtime'])\n",
    "df_usg_inst = Utilities_df.convert_col_types(\n",
    "    df=df_usg_inst, \n",
    "    cols_and_types_dict={'measurement_value':float}, \n",
    "    to_numeric_errors='coerce', \n",
    "    inplace=True\n",
    ")"
   ]
  },
  {
   "cell_type": "code",
   "execution_count": null,
   "id": "b313b365",
   "metadata": {},
   "outputs": [],
   "source": [
    "sort_by = ['aep_readtime', 'measurement_type']\n",
    "df_usg_inst = df_usg_inst.sort_values(by=sort_by, ignore_index=True)"
   ]
  },
  {
   "cell_type": "code",
   "execution_count": null,
   "id": "36238bba",
   "metadata": {},
   "outputs": [],
   "source": [
    "for idx,gp_df in df_usg_inst.groupby('aep_read_dt'):\n",
    "    print(gp_df['aep_readtime'].nunique())"
   ]
  },
  {
   "cell_type": "code",
   "execution_count": null,
   "id": "e095a8b0",
   "metadata": {},
   "outputs": [],
   "source": []
  },
  {
   "cell_type": "markdown",
   "id": "fa553ec9",
   "metadata": {},
   "source": [
    "### Why are there entries which are EXACTLY the same except for read time (read_time, aep_readtime, aep_readtime_utc)"
   ]
  },
  {
   "cell_type": "code",
   "execution_count": null,
   "id": "1dc11bdc",
   "metadata": {},
   "outputs": [],
   "source": [
    "df_usg_inst.iloc[1]==df_usg_inst.iloc[6]"
   ]
  },
  {
   "cell_type": "code",
   "execution_count": null,
   "id": "3ea19633",
   "metadata": {},
   "outputs": [],
   "source": [
    "df_usg_inst[(df_usg_inst['aep_read_dt']=='2021-10-12') & (df_usg_inst['measurement_type']=='instantaneous_kw')]"
   ]
  },
  {
   "cell_type": "code",
   "execution_count": null,
   "id": "1399d545",
   "metadata": {},
   "outputs": [],
   "source": [
    "my_df_usg_inst = df_usg_inst.copy()"
   ]
  },
  {
   "cell_type": "code",
   "execution_count": null,
   "id": "524aca91",
   "metadata": {},
   "outputs": [],
   "source": []
  },
  {
   "cell_type": "code",
   "execution_count": null,
   "id": "2e078479",
   "metadata": {},
   "outputs": [],
   "source": [
    "my_df_usg_inst_dupl = my_df_usg_inst[my_df_usg_inst.duplicated(subset=[x for x in my_df_usg_inst.columns \n",
    "                                                                       if x not in ['aep_readtime', 'aep_readtime_utc']], keep=False)]\n",
    "my_df_usg_inst_dupl_gpd = my_df_usg_inst_dupl.groupby([x for x in my_df_usg_inst.columns \n",
    "                                                       if x not in ['aep_readtime', 'aep_readtime_utc']])"
   ]
  },
  {
   "cell_type": "code",
   "execution_count": null,
   "id": "fddcc4b2",
   "metadata": {},
   "outputs": [],
   "source": [
    "get_group_idx=0\n",
    "my_df_usg_inst_dupl_gpd.get_group(list(my_df_usg_inst_dupl_gpd.groups.keys())[get_group_idx])"
   ]
  },
  {
   "cell_type": "code",
   "execution_count": null,
   "id": "7da465c9",
   "metadata": {},
   "outputs": [],
   "source": [
    "my_df_usg_inst.shape"
   ]
  },
  {
   "cell_type": "code",
   "execution_count": null,
   "id": "633deaa9",
   "metadata": {},
   "outputs": [],
   "source": [
    "my_df_usg_inst.drop_duplicates(subset=[x for x in my_df_usg_inst.columns \n",
    "                                       if x not in ['aep_readtime', 'aep_readtime_utc']]).shape"
   ]
  },
  {
   "cell_type": "code",
   "execution_count": null,
   "id": "a3996e98",
   "metadata": {},
   "outputs": [],
   "source": []
  },
  {
   "cell_type": "markdown",
   "id": "7dd56ee6",
   "metadata": {},
   "source": [
    "# Setup df_usage_inst"
   ]
  },
  {
   "cell_type": "code",
   "execution_count": null,
   "id": "9570322e",
   "metadata": {},
   "outputs": [],
   "source": [
    "conn = Utilities.get_athena_prod_aws_connection()"
   ]
  },
  {
   "cell_type": "code",
   "execution_count": null,
   "id": "91b751f4",
   "metadata": {},
   "outputs": [],
   "source": [
    "#date_range = ['2020-10-12', '2020-10-13']\n",
    "date_range = ['2020-10-12', '2020-11-12']\n",
    "\n",
    "# Randomly selected\n",
    "premise_nbs = [\n",
    "    '072163781',\n",
    "    '100166573',\n",
    "    '101258511',\n",
    "    '105347161',\n",
    "    '109612790',\n",
    "    '075671313',\n",
    "    '106737082',\n",
    "    '102970840',\n",
    "    '103596600',\n",
    "    '107782860'\n",
    "]\n",
    "\n",
    "state_abbr_txs = ['OH']\n",
    "\n",
    "cols_of_interest_usg_inst = [\n",
    "    'read_type',\n",
    "    'serialnumber',\n",
    "    'aep_premise_nb',\n",
    "    'timezoneoffset',\n",
    "    'aep_readtime',\n",
    "    'aep_readtime_utc',\n",
    "    'measurement_type',\n",
    "    'measurement_value',\n",
    "    'longitude',\n",
    "    'latitude',\n",
    "    'aep_opco',\n",
    "    'aep_read_dt'\n",
    "]\n",
    "\n",
    "sql_usage_inst = (\n",
    "\"\"\"\n",
    "SELECT {}\n",
    "FROM usage_instantaneous.inst_msr_consume\n",
    "WHERE aep_opco = 'oh' \n",
    "AND aep_state IN ({})\n",
    "AND aep_premise_nb IN ({})\n",
    "AND aep_read_dt BETWEEN '{}' AND '{}'\n",
    "\"\"\"\n",
    ").format(','.join(cols_of_interest_usg_inst), \n",
    "         ','.join([\"'{}'\".format(x) for x in state_abbr_txs]), \n",
    "         ','.join([\"'{}'\".format(x) for x in premise_nbs]), \n",
    "         date_range[0], \n",
    "         date_range[1])\n",
    "\n",
    "# sql_usage_inst = (\n",
    "# \"\"\"\n",
    "# SELECT {}\n",
    "# FROM usage_instantaneous.inst_msr_consume\n",
    "# WHERE aep_opco = 'oh' \n",
    "# AND aep_state IN ({})\n",
    "# AND aep_read_dt BETWEEN '{}' AND '{}'\n",
    "# LIMIT 100000\n",
    "# \"\"\"\n",
    "# ).format(','.join(cols_of_interest_usg_inst), \n",
    "#          ','.join([\"'{}'\".format(x) for x in state_abbr_txs]), \n",
    "#          date_range[0], \n",
    "#          date_range[1])"
   ]
  },
  {
   "cell_type": "code",
   "execution_count": null,
   "id": "678625b4",
   "metadata": {},
   "outputs": [],
   "source": []
  },
  {
   "cell_type": "code",
   "execution_count": null,
   "id": "dfeefe13",
   "metadata": {},
   "outputs": [],
   "source": [
    "print(sql_usage_inst)"
   ]
  },
  {
   "cell_type": "code",
   "execution_count": null,
   "id": "578e10bd",
   "metadata": {},
   "outputs": [],
   "source": [
    "df_usage_inst_OG = pd.read_sql(sql_usage_inst, conn)\n",
    "df_usage_inst_OG = clm.remove_table_aliases(df_usage_inst_OG)"
   ]
  },
  {
   "cell_type": "code",
   "execution_count": null,
   "id": "6a963950",
   "metadata": {},
   "outputs": [],
   "source": []
  },
  {
   "cell_type": "code",
   "execution_count": null,
   "id": "8110ea5b",
   "metadata": {},
   "outputs": [],
   "source": [
    "df_usage_inst = df_usage_inst_OG.copy()"
   ]
  },
  {
   "cell_type": "code",
   "execution_count": null,
   "id": "9ca66612",
   "metadata": {},
   "outputs": [],
   "source": [
    "print(f'df_usage_inst.shape = {df_usage_inst.shape}')"
   ]
  },
  {
   "cell_type": "code",
   "execution_count": null,
   "id": "3c60564f",
   "metadata": {},
   "outputs": [],
   "source": [
    "df_usage_inst = Utilities_df.convert_col_types(\n",
    "    df=df_usage_inst, \n",
    "    cols_and_types_dict={'measurement_value':float}, \n",
    "    to_numeric_errors='coerce', \n",
    "    inplace=True\n",
    ")"
   ]
  },
  {
   "cell_type": "code",
   "execution_count": null,
   "id": "b72596f8",
   "metadata": {},
   "outputs": [],
   "source": []
  },
  {
   "cell_type": "code",
   "execution_count": null,
   "id": "1fa40357",
   "metadata": {},
   "outputs": [],
   "source": [
    "df_usage_inst"
   ]
  },
  {
   "cell_type": "code",
   "execution_count": null,
   "id": "b8409801",
   "metadata": {},
   "outputs": [],
   "source": [
    "df_usage_inst.dtypes"
   ]
  },
  {
   "cell_type": "code",
   "execution_count": null,
   "id": "976e1aba",
   "metadata": {},
   "outputs": [],
   "source": [
    "df_usage_inst.drop_duplicates(subset=[x for x in df_usage_inst.columns \n",
    "                                      if x not in ['aep_readtime', 'aep_readtime_utc']]).shape"
   ]
  },
  {
   "cell_type": "code",
   "execution_count": null,
   "id": "80a8b664",
   "metadata": {},
   "outputs": [],
   "source": []
  },
  {
   "cell_type": "code",
   "execution_count": null,
   "id": "8e710c55",
   "metadata": {},
   "outputs": [],
   "source": []
  },
  {
   "cell_type": "code",
   "execution_count": null,
   "id": "a4a49e1f",
   "metadata": {},
   "outputs": [],
   "source": [
    "print(df_usage_inst.columns)\n",
    "df_usage_inst.head(10)"
   ]
  },
  {
   "cell_type": "code",
   "execution_count": null,
   "id": "7fd24ec3",
   "metadata": {},
   "outputs": [],
   "source": []
  },
  {
   "cell_type": "code",
   "execution_count": null,
   "id": "30494bdf",
   "metadata": {},
   "outputs": [],
   "source": [
    "df_usage_inst['read_type'].unique()"
   ]
  },
  {
   "cell_type": "code",
   "execution_count": null,
   "id": "6ea1397b",
   "metadata": {},
   "outputs": [],
   "source": [
    "len(df_usage_inst['serialnumber'].unique())"
   ]
  },
  {
   "cell_type": "code",
   "execution_count": null,
   "id": "1c6cca87",
   "metadata": {},
   "outputs": [],
   "source": [
    "df_usage_inst.groupby(['serialnumber', 'aep_read_dt']).ngroups"
   ]
  },
  {
   "cell_type": "code",
   "execution_count": null,
   "id": "c8a93ee5",
   "metadata": {},
   "outputs": [],
   "source": []
  },
  {
   "cell_type": "code",
   "execution_count": null,
   "id": "2ad4bf67",
   "metadata": {},
   "outputs": [],
   "source": [
    "for idx, gp_df in df_usage_inst.groupby(['serialnumber', 'aep_read_dt']):\n",
    "    print(gp_df['aep_readtime'].nunique())"
   ]
  },
  {
   "cell_type": "code",
   "execution_count": null,
   "id": "d11a73ed",
   "metadata": {},
   "outputs": [],
   "source": []
  },
  {
   "cell_type": "code",
   "execution_count": null,
   "id": "d697337b",
   "metadata": {},
   "outputs": [],
   "source": []
  },
  {
   "cell_type": "code",
   "execution_count": null,
   "id": "44ba5fe2",
   "metadata": {},
   "outputs": [],
   "source": []
  },
  {
   "cell_type": "code",
   "execution_count": null,
   "id": "eb9f2dd9",
   "metadata": {},
   "outputs": [],
   "source": []
  },
  {
   "cell_type": "code",
   "execution_count": null,
   "id": "4b03f84b",
   "metadata": {},
   "outputs": [],
   "source": []
  },
  {
   "cell_type": "code",
   "execution_count": null,
   "id": "fdc63ac4",
   "metadata": {},
   "outputs": [],
   "source": [
    "df_usage_inst['read_type'].unique()"
   ]
  },
  {
   "cell_type": "code",
   "execution_count": null,
   "id": "a8285fed",
   "metadata": {},
   "outputs": [],
   "source": [
    "df_usage_inst['measurement_type'].unique()"
   ]
  },
  {
   "cell_type": "code",
   "execution_count": null,
   "id": "216554b1",
   "metadata": {},
   "outputs": [],
   "source": [
    "df_usage_inst.groupby('measurement_type')['measurement_value'].mean()"
   ]
  },
  {
   "cell_type": "code",
   "execution_count": null,
   "id": "044eb20e",
   "metadata": {},
   "outputs": [],
   "source": [
    "fig_num = 0"
   ]
  },
  {
   "cell_type": "code",
   "execution_count": null,
   "id": "92e4d5cb",
   "metadata": {},
   "outputs": [],
   "source": [
    "# tmp_df = df_usage_inst[df_usage_inst['measurement_type']=='power_factor_phase_a']\n",
    "# fig, ax = plt.subplots(1, 1, num=fig_num, figsize=[11, 8.5])\n",
    "# #fig.suptitle('Transformer Voltages By Date', fontsize=25, fontweight='bold')\n",
    "# sns.stripplot(ax=ax, x='serialnumber', y='measurement_value', data=tmp_df, jitter=False)\n",
    "# ax.tick_params(axis='x', labelrotation=90, labelsize=7.0, direction='in');\n",
    "# fig_num +=1\n"
   ]
  },
  {
   "cell_type": "code",
   "execution_count": null,
   "id": "d1b67d0e",
   "metadata": {
    "scrolled": true
   },
   "outputs": [],
   "source": [
    "# measurement_types = df_usage_inst['measurement_type'].unique().tolist()\n",
    "# for measurement_type in measurement_types:\n",
    "#     tmp_df = df_usage_inst[df_usage_inst['measurement_type']==measurement_type]\n",
    "#     fig, ax = plt.subplots(1, 1, num=fig_num, figsize=[11, 8.5])\n",
    "#     fig.suptitle(f'Measurement Type = {measurement_type}', fontsize=25, fontweight='bold')\n",
    "#     sns.stripplot(ax=ax, x='serialnumber', y='measurement_value', data=tmp_df, jitter=False)\n",
    "#     ax.tick_params(axis='x', labelrotation=90, labelsize=7.0, direction='in');\n",
    "#     fig_num +=1"
   ]
  },
  {
   "cell_type": "code",
   "execution_count": null,
   "id": "e75d226a",
   "metadata": {
    "scrolled": true
   },
   "outputs": [],
   "source": [
    "# measurement_types = df_usage_inst['measurement_type'].unique().tolist()\n",
    "# for measurement_type in measurement_types:\n",
    "#     tmp_df = df_usage_inst[df_usage_inst['measurement_type']==measurement_type]\n",
    "#     fig, ax = plt.subplots(1, 1, num=fig_num, figsize=[11, 8.5])\n",
    "#     fig.suptitle(f'Measurement Type = {measurement_type}', fontsize=25, fontweight='bold')\n",
    "#     sns.boxplot(ax=ax, x='read_type', y='measurement_value', data=tmp_df)\n",
    "#     ax.tick_params(axis='x', labelrotation=90, labelsize=7.0, direction='in');\n",
    "#     fig_num +=1"
   ]
  },
  {
   "cell_type": "code",
   "execution_count": null,
   "id": "d4038b7a",
   "metadata": {},
   "outputs": [],
   "source": []
  },
  {
   "cell_type": "code",
   "execution_count": null,
   "id": "4fd059ca",
   "metadata": {},
   "outputs": [],
   "source": []
  },
  {
   "cell_type": "code",
   "execution_count": null,
   "id": "e135777d",
   "metadata": {},
   "outputs": [],
   "source": []
  },
  {
   "cell_type": "code",
   "execution_count": null,
   "id": "327aabf3",
   "metadata": {},
   "outputs": [],
   "source": []
  },
  {
   "cell_type": "code",
   "execution_count": null,
   "id": "b87a226d",
   "metadata": {},
   "outputs": [],
   "source": [
    "state_abbr_txs = ['OH']\n",
    "\n",
    "# limit = 10000\n",
    "# date_range = ['2020-10-12', '2020-10-13']\n",
    "\n",
    "limit = 1000\n",
    "date_range = ['2020-10-12', '2020-11-12']\n",
    "\n",
    "cols_of_interest_usg_inst = [\n",
    "    'read_type',\n",
    "    'serialnumber',\n",
    "    'aep_premise_nb',\n",
    "    'timezoneoffset',\n",
    "    'aep_readtime',\n",
    "    'aep_readtime_utc',\n",
    "    'measurement_type',\n",
    "    'measurement_value',\n",
    "    'longitude',\n",
    "    'latitude',\n",
    "    'aep_opco',\n",
    "    'aep_read_dt'\n",
    "]\n",
    "\n",
    "\n",
    "sql_gen = (\n",
    "\"\"\"\n",
    "SELECT {0}\n",
    "FROM usage_instantaneous.inst_msr_consume\n",
    "WHERE aep_opco = 'oh' \n",
    "AND aep_read_dt BETWEEN '{1}' AND '{2}'\n",
    "AND read_type = {3}\n",
    "LIMIT {4}\n",
    "\"\"\"\n",
    ").format('{}', \n",
    "         date_range[0], date_range[1], \n",
    "         '{}', \n",
    "         limit)\n",
    "\n",
    "sql_1 = sql_gen.format(','.join(cols_of_interest_usg_inst), \"'mt110_voltage_event'\")\n",
    "sql_2 = sql_gen.format(','.join(cols_of_interest_usg_inst), \"'mt113_st28_am_temp_powerquality'\")\n",
    "sql_3 = sql_gen.format(','.join(cols_of_interest_usg_inst), \"'mt115_load_control_status'\")\n",
    "sql_4 = sql_gen.format(','.join(cols_of_interest_usg_inst), \"'mt117_capacitor_voltage'\")\n",
    "sql_5 = sql_gen.format(','.join(cols_of_interest_usg_inst), \"'mt72_kv2c'\")\n",
    "sql_6 = sql_gen.format(','.join(cols_of_interest_usg_inst), \"'mt113_st28_pm_temp_powerquality'\")\n",
    "sql_7 = sql_gen.format(','.join(cols_of_interest_usg_inst), \"'st03_fatal_errors'\")"
   ]
  },
  {
   "cell_type": "code",
   "execution_count": null,
   "id": "e00c9fb4",
   "metadata": {},
   "outputs": [],
   "source": []
  },
  {
   "cell_type": "code",
   "execution_count": null,
   "id": "8549eded",
   "metadata": {},
   "outputs": [],
   "source": [
    "df_1 = pd.read_sql(sql_1, conn)\n",
    "df_2 = pd.read_sql(sql_2, conn)\n",
    "df_3 = pd.read_sql(sql_3, conn)\n",
    "df_4 = pd.read_sql(sql_4, conn)\n",
    "df_5 = pd.read_sql(sql_5, conn)\n",
    "df_6 = pd.read_sql(sql_6, conn)\n",
    "df_7 = pd.read_sql(sql_7, conn)"
   ]
  },
  {
   "cell_type": "code",
   "execution_count": null,
   "id": "7a4ba66c",
   "metadata": {},
   "outputs": [],
   "source": [
    "df_usage_inst_2_OG = pd.concat([df_1, df_2, df_3, df_4, df_5, df_6, df_7])"
   ]
  },
  {
   "cell_type": "code",
   "execution_count": null,
   "id": "67f41c45",
   "metadata": {},
   "outputs": [],
   "source": []
  },
  {
   "cell_type": "code",
   "execution_count": null,
   "id": "dbd96311",
   "metadata": {},
   "outputs": [],
   "source": []
  },
  {
   "cell_type": "code",
   "execution_count": null,
   "id": "20dfc9bc",
   "metadata": {},
   "outputs": [],
   "source": [
    "df_usage_inst_2 = df_usage_inst_2_OG.copy()"
   ]
  },
  {
   "cell_type": "code",
   "execution_count": null,
   "id": "298b834c",
   "metadata": {},
   "outputs": [],
   "source": [
    "df_usage_inst_2 = clm.remove_table_aliases(df_usage_inst_2)\n",
    "\n",
    "df_usage_inst_2 = df_usage_inst_2[df_usage_inst_2['measurement_value'].notna()] # Don't want rows with null measurement values, I guess...\n",
    "df_usage_inst_2 = df_usage_inst_2[df_usage_inst_2['measurement_value']!=' '] # Don't want rows with measurement values = ' ', I guess...\n",
    "df_usage_inst_2 = df_usage_inst_2[df_usage_inst_2['measurement_value']!='FAULT']"
   ]
  },
  {
   "cell_type": "code",
   "execution_count": null,
   "id": "00e01055",
   "metadata": {},
   "outputs": [],
   "source": [
    "df_usage_inst_2['measurement_value'] = df_usage_inst_2['measurement_value'].astype(float)"
   ]
  },
  {
   "cell_type": "code",
   "execution_count": null,
   "id": "47e0ea7a",
   "metadata": {},
   "outputs": [],
   "source": []
  },
  {
   "cell_type": "code",
   "execution_count": null,
   "id": "32a6db34",
   "metadata": {},
   "outputs": [],
   "source": []
  },
  {
   "cell_type": "code",
   "execution_count": null,
   "id": "0f548bba",
   "metadata": {
    "scrolled": true
   },
   "outputs": [],
   "source": [
    "# measurement_types = df_usage_inst_2['measurement_type'].unique().tolist()\n",
    "# for measurement_type in measurement_types:\n",
    "#     tmp_df = df_usage_inst_2[df_usage_inst_2['measurement_type']==measurement_type]\n",
    "#     fig, ax = plt.subplots(1, 1, num=fig_num, figsize=[11, 8.5])\n",
    "#     fig.suptitle(f'Measurement Type = {measurement_type}', fontsize=25, fontweight='bold')\n",
    "#     sns.boxplot(ax=ax, x='read_type', y='measurement_value', data=tmp_df)\n",
    "#     ax.tick_params(axis='x', labelrotation=90, labelsize=7.0, direction='in');\n",
    "#     fig_num +=1"
   ]
  },
  {
   "cell_type": "code",
   "execution_count": null,
   "id": "3a187114",
   "metadata": {},
   "outputs": [],
   "source": [
    "df_usage_inst_2"
   ]
  },
  {
   "cell_type": "code",
   "execution_count": null,
   "id": "3d433e22",
   "metadata": {
    "scrolled": false
   },
   "outputs": [],
   "source": [
    "measurement_types = df_usage_inst_2['measurement_type'].unique().tolist()\n",
    "read_types = df_usage_inst_2['read_type'].unique().tolist()\n",
    "for read_type in read_types:\n",
    "    tmp_df = df_usage_inst_2[df_usage_inst_2['read_type']==read_type]\n",
    "    fig, ax = plt.subplots(1, 1, num=fig_num, figsize=[11, 8.5])\n",
    "    fig.suptitle(f'Read Type = {read_type}', fontsize=25, fontweight='bold')\n",
    "    sns.boxplot(ax=ax, x='measurement_type', y='measurement_value', data=tmp_df)\n",
    "    ax.tick_params(axis='x', labelrotation=90, labelsize=7.0, direction='in');\n",
    "    fig_num +=1"
   ]
  },
  {
   "cell_type": "code",
   "execution_count": null,
   "id": "d899c679",
   "metadata": {
    "scrolled": false
   },
   "outputs": [],
   "source": [
    "measurement_types_in_each_read_type = {}\n",
    "for name, group in df_usage_inst_2.groupby('read_type'):\n",
    "    print('-'*25+'\\n'+f'{name}'+'\\n'+'-'*25)\n",
    "    unique_measurement_types = group['measurement_type'].unique().tolist()\n",
    "    print('Unique measurement types:')\n",
    "    print(*unique_measurement_types, sep='\\n')\n",
    "    print()\n",
    "    assert(name not in measurement_types_in_each_read_type)\n",
    "    measurement_types_in_each_read_type[name] = unique_measurement_types"
   ]
  },
  {
   "cell_type": "code",
   "execution_count": null,
   "id": "ce78e9f2",
   "metadata": {},
   "outputs": [],
   "source": [
    "measurement_types_in_each_read_type"
   ]
  },
  {
   "cell_type": "code",
   "execution_count": null,
   "id": "4d53b334",
   "metadata": {},
   "outputs": [],
   "source": [
    "df_usage_inst_2.head()"
   ]
  },
  {
   "cell_type": "code",
   "execution_count": null,
   "id": "1c5c30ce",
   "metadata": {},
   "outputs": [],
   "source": [
    "unq_msr_types_by_sn = []\n",
    "unq_read_types_by_sn = []\n",
    "for idx, gp in df_usage_inst_2.groupby('serialnumber'):\n",
    "    msr_types_i = gp['measurement_type'].unique().tolist()\n",
    "    read_types_i = gp['read_type'].unique().tolist()\n",
    "    if msr_types_i not in unq_msr_types_by_sn:\n",
    "        unq_msr_types_by_sn.append(msr_types_i)\n",
    "    if read_types_i not in unq_read_types_by_sn:\n",
    "        unq_read_types_by_sn.append(read_types_i)"
   ]
  },
  {
   "cell_type": "code",
   "execution_count": null,
   "id": "6ad607a3",
   "metadata": {},
   "outputs": [],
   "source": [
    "len(unq_msr_types_by_sn)"
   ]
  },
  {
   "cell_type": "code",
   "execution_count": null,
   "id": "6ac72276",
   "metadata": {},
   "outputs": [],
   "source": [
    "len(unq_read_types_by_sn)"
   ]
  },
  {
   "cell_type": "code",
   "execution_count": null,
   "id": "13a443e5",
   "metadata": {},
   "outputs": [],
   "source": [
    "unq_read_types_by_sn"
   ]
  },
  {
   "cell_type": "code",
   "execution_count": null,
   "id": "23545cbf",
   "metadata": {},
   "outputs": [],
   "source": [
    "unq_msr_types_by_sn"
   ]
  },
  {
   "cell_type": "code",
   "execution_count": null,
   "id": "2984d60e",
   "metadata": {},
   "outputs": [],
   "source": [
    "df_usage_inst_2.shape"
   ]
  },
  {
   "cell_type": "code",
   "execution_count": null,
   "id": "8726baa6",
   "metadata": {},
   "outputs": [],
   "source": [
    "df_usage_inst_2.drop_duplicates(subset=[x for x in df_usage_inst_2.columns \n",
    "                                      if x not in ['aep_readtime', 'aep_readtime_utc']]).shape"
   ]
  },
  {
   "cell_type": "code",
   "execution_count": null,
   "id": "03f1e90d",
   "metadata": {},
   "outputs": [],
   "source": [
    "possible_read_type_groupings=[]\n",
    "for idx,gp_df in df_usage_inst_2.groupby('serialnumber'):\n",
    "    if gp_df['read_type'].unique().tolist() not in possible_read_type_groupings:\n",
    "        possible_read_type_groupings.append(gp_df['read_type'].unique().tolist())\n",
    "#     if gp_df['read_type'].nunique()>1:\n",
    "#         print(f'serialnunber = {idx}')\n",
    "#         print(gp_df['read_type'].unique())\n",
    "#         print()"
   ]
  },
  {
   "cell_type": "code",
   "execution_count": null,
   "id": "b8ecae73",
   "metadata": {},
   "outputs": [],
   "source": [
    "possible_read_type_groupings"
   ]
  },
  {
   "cell_type": "code",
   "execution_count": null,
   "id": "d73de029",
   "metadata": {},
   "outputs": [],
   "source": [
    "sorted(df_usage_inst_2['read_type'].unique().tolist())"
   ]
  },
  {
   "cell_type": "code",
   "execution_count": null,
   "id": "dae08243",
   "metadata": {},
   "outputs": [],
   "source": [
    "# mt110_voltage_event by self or with mt72_kv2c\n",
    "# mt72_kv2c by self or with mt110_voltage_event\n",
    "\n",
    "# mt113_st28_am_temp_powerquality by self or with mt113_st28_pm_temp_powerquality or mt115_load_control_status\n",
    "# mt113_st28_pm_temp_powerquality by self or with mt113_st28_am_temp_powerquality or mt115_load_control_status\n",
    "# mt115_load_control_status by self or with mt113_st28_am_temp_powerquality or mt113_st28_pm_temp_powerquality"
   ]
  },
  {
   "cell_type": "code",
   "execution_count": null,
   "id": "32488ddd",
   "metadata": {},
   "outputs": [],
   "source": []
  },
  {
   "cell_type": "code",
   "execution_count": null,
   "id": "2558acfd",
   "metadata": {},
   "outputs": [],
   "source": [
    "# my_df_usg_inst['read_type'].unique()"
   ]
  },
  {
   "cell_type": "code",
   "execution_count": null,
   "id": "512294d9",
   "metadata": {},
   "outputs": [],
   "source": []
  },
  {
   "cell_type": "code",
   "execution_count": null,
   "id": "d0d8e5a4",
   "metadata": {},
   "outputs": [],
   "source": []
  }
 ],
 "metadata": {
  "kernelspec": {
   "display_name": "Python 3 (ipykernel)",
   "language": "python",
   "name": "python3"
  },
  "language_info": {
   "codemirror_mode": {
    "name": "ipython",
    "version": 3
   },
   "file_extension": ".py",
   "mimetype": "text/x-python",
   "name": "python",
   "nbconvert_exporter": "python",
   "pygments_lexer": "ipython3",
   "version": "3.9.7"
  }
 },
 "nbformat": 4,
 "nbformat_minor": 5
}
