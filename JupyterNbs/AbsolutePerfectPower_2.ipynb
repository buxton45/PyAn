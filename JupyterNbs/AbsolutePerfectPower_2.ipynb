{
 "cells": [
  {
   "cell_type": "code",
   "execution_count": null,
   "id": "8bf88300-dbe5-4de1-837f-0bb393be2e15",
   "metadata": {},
   "outputs": [],
   "source": [
    "from importlib import reload\n",
    "#reload(Utilities)\n",
    "#reload(clm)\n",
    "\n",
    "import sys, os\n",
    "import re\n",
    "import pickle\n",
    "\n",
    "import pandas as pd\n",
    "import numpy as np\n",
    "from pandas.api.types import is_numeric_dtype, is_datetime64_dtype, is_timedelta64_dtype\n",
    "from scipy import stats\n",
    "import datetime\n",
    "import time\n",
    "from natsort import natsorted, ns, natsort_keygen\n",
    "from packaging import version\n",
    "\n",
    "import copy\n",
    "import itertools\n",
    "import adjustText\n",
    "\n",
    "import pyodbc\n",
    "#---------------------------------------------------------------------\n",
    "sys.path.insert(0, os.path.realpath('..'))\n",
    "import Utilities_config\n",
    "#-----\n",
    "import CommonLearningMethods as clm\n",
    "#-----\n",
    "from MeterPremise import MeterPremise\n",
    "#-----\n",
    "from AMI_SQL import AMI_SQL\n",
    "from AMINonVee_SQL import AMINonVee_SQL\n",
    "from AMIEndEvents_SQL import AMIEndEvents_SQL\n",
    "from AMIUsgInst_SQL import AMIUsgInst_SQL\n",
    "from DOVSOutages_SQL import DOVSOutages_SQL\n",
    "#-----\n",
    "from GenAn import GenAn\n",
    "from AMINonVee import AMINonVee\n",
    "from AMIEndEvents import AMIEndEvents\n",
    "from AMIUsgInst import AMIUsgInst\n",
    "from DOVSOutages import DOVSOutages\n",
    "from AbsPerfectPower import AbsPerfectPower as appwr \n",
    "#-----\n",
    "from DOVSAudit import DOVSAudit\n",
    "from DABatch import DABatch\n",
    "#---------------------------------------------------------------------\n",
    "import matplotlib as mpl\n",
    "import matplotlib.pyplot as plt\n",
    "import seaborn as sns\n",
    "from matplotlib.backends.backend_pdf import PdfPages\n",
    "import matplotlib.patches as mpatches\n",
    "from matplotlib.lines import Line2D\n",
    "import matplotlib.ticker as ticker\n",
    "from matplotlib import dates\n",
    "#---------------------------------------------------------------------\n",
    "sys.path.insert(0, Utilities_config.get_sql_aids_dir())\n",
    "import Utilities_sql\n",
    "import TableInfos\n",
    "from TableInfos import TableInfo\n",
    "from SQLElement import SQLElement\n",
    "from SQLElementsCollection import SQLElementsCollection\n",
    "from SQLSelect import SQLSelectElement, SQLSelect\n",
    "from SQLFrom import SQLFrom\n",
    "from SQLWhere import SQLWhereElement, SQLWhere\n",
    "from SQLJoin import SQLJoin, SQLJoinCollection\n",
    "from SQLGroupBy import SQLGroupByElement, SQLGroupBy\n",
    "from SQLHaving import SQLHaving\n",
    "from SQLOrderBy import SQLOrderByElement, SQLOrderBy\n",
    "from SQLQuery import SQLQuery\n",
    "from SQLQueryGeneric import SQLQueryGeneric\n",
    "#---------------------------------------------------------------------\n",
    "sys.path.insert(0, Utilities_config.get_utilities_dir())\n",
    "import Utilities\n",
    "import Utilities_df\n",
    "import Utilities_dt\n",
    "from Utilities_df import DFConstructType\n",
    "import Plot_General\n",
    "import Plot_Box_sns\n",
    "import Plot_Hist\n",
    "import GrubbsTest\n",
    "import DataFrameSubsetSlicer\n",
    "from DataFrameSubsetSlicer import DataFrameSubsetSlicer as DFSlicer\n",
    "from DataFrameSubsetSlicer import DataFrameSubsetSingleSlicer as DFSingleSlicer"
   ]
  },
  {
   "cell_type": "code",
   "execution_count": null,
   "id": "1651d5d3-7611-428c-94a9-247ea947409e",
   "metadata": {},
   "outputs": [],
   "source": []
  },
  {
   "cell_type": "code",
   "execution_count": null,
   "id": "a053b3d3-ca80-4ea7-82ed-4cb44efefe0a",
   "metadata": {},
   "outputs": [],
   "source": [
    "# TODO: WHAT TO DO FOR ENTRIES WITH PN = NONE?"
   ]
  },
  {
   "cell_type": "code",
   "execution_count": null,
   "id": "45355fbf-10bc-403c-8e6f-dec8cade02ff",
   "metadata": {},
   "outputs": [],
   "source": [
    "opcos = ['ap', 'ky', 'oh', 'im', 'pso', 'swp', 'tx']"
   ]
  },
  {
   "cell_type": "code",
   "execution_count": null,
   "id": "ea152ea4-461f-43b0-a497-d92cff2e4beb",
   "metadata": {},
   "outputs": [],
   "source": [
    "conn_aws  = Utilities.get_athena_prod_aws_connection()"
   ]
  },
  {
   "cell_type": "code",
   "execution_count": null,
   "id": "2f325c6d-b4aa-4c20-b290-46f78a3f442e",
   "metadata": {},
   "outputs": [],
   "source": [
    "save_dir = r'C:\\Users\\s346557\\Documents\\LocalData\\abs_perfect_power'\n",
    "#-----\n",
    "date_0   = pd.to_datetime('2024-11-11')\n",
    "date_1   = pd.to_datetime('2024-11-17')\n",
    "\n",
    "# date_0 = pd.to_datetime('2024-01-01')\n",
    "# date_1 = pd.to_datetime('2024-09-30')\n",
    "#-----\n",
    "save_subdir = f\"{date_0.strftime('%Y%m%d')}_{date_1.strftime('%Y%m%d')}\"\n",
    "#-----\n",
    "n_max = int((date_1-date_0+pd.Timedelta('1day'))/pd.Timedelta('15min'))"
   ]
  },
  {
   "cell_type": "code",
   "execution_count": null,
   "id": "aa4eb700-7735-484a-a1bc-191f69504ea8",
   "metadata": {},
   "outputs": [],
   "source": []
  },
  {
   "cell_type": "code",
   "execution_count": null,
   "id": "20d50461-36e4-48d8-9773-4615a4fd996e",
   "metadata": {},
   "outputs": [],
   "source": []
  },
  {
   "cell_type": "code",
   "execution_count": null,
   "id": "e2b56e42-309b-4cd7-ad7a-56a30b570091",
   "metadata": {},
   "outputs": [],
   "source": [
    "sql_v1F = appwr.build_zero_times_sql_v1(\n",
    "    date_0           = date_0,\n",
    "    date_1           = date_1,\n",
    "    split_if_missing = False, \n",
    "    opco             = 'oh'\n",
    ")\n",
    "\n",
    "sql_v1T = appwr.build_zero_times_sql_v1(\n",
    "    date_0           = date_0,\n",
    "    date_1           = date_1,\n",
    "    split_if_missing = True, \n",
    "    opco             = 'oh'\n",
    ")\n",
    "\n",
    "sql_v2 = appwr.build_zero_times_sql_v2(\n",
    "    date_0           = date_0,\n",
    "    date_1           = date_1,\n",
    "    opco             = 'oh'\n",
    ")"
   ]
  },
  {
   "cell_type": "code",
   "execution_count": null,
   "id": "c0fc868f-9102-4ec9-8244-0b2c0aba7479",
   "metadata": {},
   "outputs": [],
   "source": []
  },
  {
   "cell_type": "code",
   "execution_count": null,
   "id": "2247248b-238f-4085-9f07-6b4aaa807351",
   "metadata": {},
   "outputs": [],
   "source": [
    "start = time.time()\n",
    "\n",
    "df_v1F = pd.read_sql_query(\n",
    "    sql_v1F, \n",
    "    conn_aws\n",
    ")\n",
    "print(time.time()-start)"
   ]
  },
  {
   "cell_type": "code",
   "execution_count": null,
   "id": "ff366384-1eda-466f-895b-576b017cba2c",
   "metadata": {},
   "outputs": [],
   "source": [
    "start = time.time()\n",
    "\n",
    "df_v1T = pd.read_sql_query(\n",
    "    sql_v1T, \n",
    "    conn_aws\n",
    ")\n",
    "print(time.time()-start)"
   ]
  },
  {
   "cell_type": "code",
   "execution_count": null,
   "id": "ea7fe3e0-a27e-4e8a-8a92-847d8dc9e77c",
   "metadata": {},
   "outputs": [],
   "source": [
    "start = time.time()\n",
    "\n",
    "df_v2 = pd.read_sql_query(\n",
    "    sql_v2, \n",
    "    conn_aws\n",
    ")\n",
    "print(time.time()-start)"
   ]
  },
  {
   "cell_type": "code",
   "execution_count": null,
   "id": "72c4458b-b83c-4873-b384-a721777addd8",
   "metadata": {},
   "outputs": [],
   "source": [
    "df_v1F.head()"
   ]
  },
  {
   "cell_type": "code",
   "execution_count": null,
   "id": "bda64511-6e26-4ed4-8275-43b889d60370",
   "metadata": {},
   "outputs": [],
   "source": [
    "df_v1T.head()"
   ]
  },
  {
   "cell_type": "code",
   "execution_count": null,
   "id": "dba5279b-406a-4c1d-8fe9-aeedc655c431",
   "metadata": {},
   "outputs": [],
   "source": [
    "df_v2.head()"
   ]
  },
  {
   "cell_type": "code",
   "execution_count": null,
   "id": "929ed8c8-78d8-4702-b1d3-48a3a5393657",
   "metadata": {},
   "outputs": [],
   "source": [
    "print(df_v1F.shape)"
   ]
  },
  {
   "cell_type": "code",
   "execution_count": null,
   "id": "67847539-fcaa-496e-b51f-2af2d771fc13",
   "metadata": {},
   "outputs": [],
   "source": [
    "print(df_v1T.shape)\n",
    "print(df_v2.shape)"
   ]
  },
  {
   "cell_type": "code",
   "execution_count": null,
   "id": "207a4529-92c5-483f-b20c-9cf2e19a78e1",
   "metadata": {},
   "outputs": [],
   "source": [
    "cols_to_comp = ['serialnumber', 'island_start_starttimeperiod', 'island_end_starttimeperiod']"
   ]
  },
  {
   "cell_type": "code",
   "execution_count": null,
   "id": "d1ed4954-f9f8-42f3-bf2f-9fa78fc4e1dc",
   "metadata": {},
   "outputs": [],
   "source": [
    "df_v1T[cols_to_comp].sort_values(by=cols_to_comp, ignore_index=True).equals(\n",
    "df_v2[cols_to_comp].sort_values(by=cols_to_comp, ignore_index=True)\n",
    ")"
   ]
  },
  {
   "cell_type": "code",
   "execution_count": null,
   "id": "dcaaf5d5-6614-40ae-8651-e974d7348546",
   "metadata": {},
   "outputs": [],
   "source": []
  },
  {
   "cell_type": "code",
   "execution_count": null,
   "id": "f4cccf52-6d35-4ac1-854d-07e14e979151",
   "metadata": {},
   "outputs": [],
   "source": []
  },
  {
   "cell_type": "code",
   "execution_count": null,
   "id": "aa783220-ebbd-493f-af9f-414844393348",
   "metadata": {},
   "outputs": [],
   "source": [
    "df_v2['serialnumber'].value_counts()"
   ]
  },
  {
   "cell_type": "code",
   "execution_count": null,
   "id": "69dc11fb-f618-4c85-a266-9db4e8d8282c",
   "metadata": {},
   "outputs": [],
   "source": []
  },
  {
   "cell_type": "code",
   "execution_count": null,
   "id": "a8dcc430-5eed-44bd-a73c-6413bf013c8d",
   "metadata": {},
   "outputs": [],
   "source": [
    "vcs_2 = df_v2['serialnumber'].value_counts()\n",
    "vcs_2"
   ]
  },
  {
   "cell_type": "code",
   "execution_count": null,
   "id": "c01b7dd8-39ee-4d79-8c11-8ac8644f1049",
   "metadata": {},
   "outputs": [],
   "source": [
    "fig,ax = Plot_General.default_subplots()\n",
    "sns.histplot(ax=ax, data=vcs_2, bins=10, stat='count')"
   ]
  },
  {
   "cell_type": "code",
   "execution_count": null,
   "id": "ac8a757a-9e43-4c21-bf94-94e6533f2bcf",
   "metadata": {},
   "outputs": [],
   "source": [
    "import AbsPerfectPower\n",
    "reload(AbsPerfectPower)\n",
    "from AbsPerfectPower import AbsPerfectPower as appwr"
   ]
  },
  {
   "cell_type": "code",
   "execution_count": null,
   "id": "578fdb14-3255-491b-863d-f48038c57c28",
   "metadata": {},
   "outputs": [],
   "source": []
  },
  {
   "cell_type": "code",
   "execution_count": null,
   "id": "815bd071-75bd-4db5-8ad2-2d873d940cd4",
   "metadata": {},
   "outputs": [],
   "source": []
  },
  {
   "cell_type": "code",
   "execution_count": null,
   "id": "5537353d-f0ec-4bc2-b8fa-d519666d17b1",
   "metadata": {},
   "outputs": [],
   "source": [
    "fig,ax = Plot_General.default_subplots()\n",
    "sns.histplot(ax=ax, data=vcs_2.clip(upper=25), bins=[0,1,7,13,25,26], stat='count')\n",
    "ax.set_yscale('log')\n",
    "ax.bar_label(ax.containers[0], fmt='%.0f');"
   ]
  },
  {
   "cell_type": "code",
   "execution_count": null,
   "id": "4584b5ed-667c-48b4-bbf6-8fb4aa281fd5",
   "metadata": {},
   "outputs": [],
   "source": []
  },
  {
   "cell_type": "code",
   "execution_count": null,
   "id": "33db39b7-47b9-4e41-9524-00935dead9d7",
   "metadata": {},
   "outputs": [],
   "source": []
  },
  {
   "cell_type": "code",
   "execution_count": null,
   "id": "1d19c1c3-87eb-4b43-b403-928c4db0b5e1",
   "metadata": {},
   "outputs": [],
   "source": []
  },
  {
   "cell_type": "code",
   "execution_count": null,
   "id": "709eebda-ffd0-4245-aa71-512b627ec88a",
   "metadata": {},
   "outputs": [],
   "source": [
    "# import AbsPerfectPower\n",
    "# reload(AbsPerfectPower)\n",
    "# from AbsPerfectPower import AbsPerfectPower as appwr"
   ]
  },
  {
   "cell_type": "code",
   "execution_count": null,
   "id": "e1cbd2e9-f2a6-4dfa-8b34-f41eb0297820",
   "metadata": {},
   "outputs": [],
   "source": []
  },
  {
   "cell_type": "code",
   "execution_count": null,
   "id": "f71a3925-12fa-4515-8a5d-b3d12cd4eb6e",
   "metadata": {},
   "outputs": [],
   "source": [
    "figax =  appwr.histplot_acc_srvc_intrrptns(\n",
    "    zero_times_df = df_v2, \n",
    "    bins                  = None, \n",
    "    supplmntl_data        = None, \n",
    "    stat                  = 'count', \n",
    "    figax                 = None, \n",
    "    fig_num               = 0, \n",
    "    set_logy              = True, \n",
    "    title                 = None, \n",
    "    include_text          = True, \n",
    "    #-----\n",
    "    SN_col                = 'serialnumber', \n",
    ")"
   ]
  },
  {
   "cell_type": "code",
   "execution_count": null,
   "id": "5639be1d-cbce-4acd-a633-198ae9ea288c",
   "metadata": {},
   "outputs": [],
   "source": [
    "figax =  appwr.histplot_acc_srvc_intrrptns(\n",
    "    zero_times_df = df_v2, \n",
    "    bins                  = None, \n",
    "    supplmntl_data        = None, \n",
    "    stat                  = 'probability', \n",
    "    figax                 = None, \n",
    "    fig_num               = 0, \n",
    "    set_logy              = True, \n",
    "    title                 = None, \n",
    "    include_text          = True, \n",
    "    #-----\n",
    "    SN_col                = 'serialnumber', \n",
    ")"
   ]
  },
  {
   "cell_type": "code",
   "execution_count": null,
   "id": "c7dcd418-b20b-4389-bfd8-20f93b0d2050",
   "metadata": {},
   "outputs": [],
   "source": []
  },
  {
   "cell_type": "code",
   "execution_count": null,
   "id": "eec9601d-ae6e-4821-9577-be247f0b23e6",
   "metadata": {},
   "outputs": [],
   "source": []
  },
  {
   "cell_type": "code",
   "execution_count": null,
   "id": "b99c24d9-44f9-4742-bd1e-61d19eb7df69",
   "metadata": {},
   "outputs": [],
   "source": []
  },
  {
   "cell_type": "code",
   "execution_count": null,
   "id": "b464a385-3413-48a3-be44-952d48f532d1",
   "metadata": {},
   "outputs": [],
   "source": []
  },
  {
   "cell_type": "code",
   "execution_count": null,
   "id": "17b71ed1-790d-40e2-a2a6-05a97ebd615b",
   "metadata": {},
   "outputs": [],
   "source": []
  },
  {
   "cell_type": "code",
   "execution_count": null,
   "id": "b9b5a2b8-e0dc-46f4-ba30-2a6cedf61732",
   "metadata": {},
   "outputs": [],
   "source": [
    "save_dir = r'C:\\Users\\s346557\\Documents\\LocalData\\abs_perfect_power\\OPCOs_v1T'\n",
    "#-----\n",
    "date_0   = pd.to_datetime('2023-10-01')\n",
    "date_1   = pd.to_datetime('2024-09-30')\n",
    "daq_freq = 'MS'\n",
    "#-----"
   ]
  },
  {
   "cell_type": "code",
   "execution_count": null,
   "id": "d6197550-5805-4ca2-842c-971b03fe462d",
   "metadata": {},
   "outputs": [],
   "source": [
    "conn_aws  = Utilities.get_athena_prod_aws_connection()"
   ]
  },
  {
   "cell_type": "code",
   "execution_count": null,
   "id": "7508b588-410f-4629-8a7b-4dc5c6c3d2eb",
   "metadata": {},
   "outputs": [],
   "source": [
    "# opcos = ['ap', 'ky', 'oh', 'im', 'pso', 'swp', 'tx']\n",
    "opcos = ['ap', 'oh', 'im', 'pso', 'swp']\n",
    "# opcos = ['oh']"
   ]
  },
  {
   "cell_type": "code",
   "execution_count": null,
   "id": "d6387d31-7adc-48e5-9d1e-caae6b8f95f8",
   "metadata": {},
   "outputs": [],
   "source": [
    "appwr.run_daq(\n",
    "    save_dir         = save_dir, \n",
    "    date_0           = date_0, \n",
    "    date_1           = date_1, \n",
    "    opcos            = opcos, \n",
    "    daq_freq         = daq_freq, \n",
    "    conn_aws         = conn_aws, \n",
    "    allow_null_SNs   = True, \n",
    "    allow_null_PNs   = True, \n",
    "    split_if_missing = True, \n",
    "    method           = 'v2'\n",
    ")"
   ]
  },
  {
   "cell_type": "code",
   "execution_count": null,
   "id": "903dffed-c7aa-4384-bf3d-68f2a58ad079",
   "metadata": {},
   "outputs": [],
   "source": [
    "assert(0)"
   ]
  },
  {
   "cell_type": "code",
   "execution_count": null,
   "id": "b5d9d1d6-0a11-437e-ba07-8b55d91d3c91",
   "metadata": {},
   "outputs": [],
   "source": []
  },
  {
   "cell_type": "code",
   "execution_count": null,
   "id": "0dc4802e-a8f0-49b7-9f5f-9813467d334d",
   "metadata": {},
   "outputs": [],
   "source": []
  },
  {
   "cell_type": "code",
   "execution_count": null,
   "id": "b1a812e1-f6dc-404f-a28f-a93dc0585edc",
   "metadata": {},
   "outputs": [],
   "source": [
    "for opco_i in opcos:\n",
    "    for dates_i in dates:\n",
    "        date_i_0 = dates_i[0].strftime('%Y-%m-%d')\n",
    "        date_i_1 = dates_i[1].strftime('%Y-%m-%d')\n",
    "        #-------------------------\n",
    "        print(f\"opco = {opco_i}\\ndate_0 = {date_i_0}\\ndate_1 = {date_i_1}\\n\")\n",
    "        #-------------------------\n",
    "        save_dir_i = os.path.join(save_dir, opco_i)\n",
    "        if not os.path.exists(save_dir_i):\n",
    "            os.makedirs(save_dir_i)\n",
    "        #-------------------------\n",
    "        sql_i = appwr.build_app_zero_times_sql_v1(\n",
    "            date_0           = date_i_0,\n",
    "            date_1           = date_i_1,\n",
    "            split_if_missing = True, \n",
    "            opco             = opco_i\n",
    "        )\n",
    "        df_i = pd.read_sql_query(\n",
    "            sql_i, \n",
    "            conn_aws\n",
    "        )\n",
    "        #-------------------------\n",
    "        save_name_i = date_i_0.replace('-','') + '_' + date_i_1.replace('-','') + '.pkl'\n",
    "        df_i.to_pickle(os.path.join(save_dir_i, save_name_i))"
   ]
  },
  {
   "cell_type": "code",
   "execution_count": null,
   "id": "85993714-29aa-40b8-b28c-a8e57022c971",
   "metadata": {},
   "outputs": [],
   "source": []
  },
  {
   "cell_type": "code",
   "execution_count": null,
   "id": "aebb46e2-00fe-4412-940a-7fca6876413b",
   "metadata": {},
   "outputs": [],
   "source": []
  },
  {
   "cell_type": "code",
   "execution_count": null,
   "id": "b6ba25ac-88f4-45f3-a870-bf85dd0cb034",
   "metadata": {},
   "outputs": [],
   "source": []
  },
  {
   "cell_type": "code",
   "execution_count": null,
   "id": "1014ea58-2606-47d8-99bd-573a86e0b683",
   "metadata": {},
   "outputs": [],
   "source": []
  },
  {
   "cell_type": "code",
   "execution_count": null,
   "id": "d96a8be5-2f15-4d3f-b529-cb639a1686be",
   "metadata": {},
   "outputs": [],
   "source": []
  },
  {
   "cell_type": "code",
   "execution_count": null,
   "id": "4efc4723-6d9c-4d6c-9d10-a2e253b2032a",
   "metadata": {},
   "outputs": [],
   "source": []
  },
  {
   "cell_type": "code",
   "execution_count": null,
   "id": "2ce86d7f-560e-43d1-8f17-f21698a08d48",
   "metadata": {},
   "outputs": [],
   "source": [
    "# import AbsPerfectPower\n",
    "# reload(AbsPerfectPower)\n",
    "# from AbsPerfectPower import AbsPerfectPower as appwr"
   ]
  },
  {
   "cell_type": "code",
   "execution_count": null,
   "id": "361bbb50-98dd-4f82-a9f3-0fb7bf7e36d7",
   "metadata": {},
   "outputs": [],
   "source": []
  },
  {
   "cell_type": "code",
   "execution_count": null,
   "id": "6057b952-24e5-4cec-82e7-ec77668ca84f",
   "metadata": {},
   "outputs": [],
   "source": []
  },
  {
   "cell_type": "code",
   "execution_count": null,
   "id": "ff89c923-d964-4e77-887f-2812ded81e36",
   "metadata": {},
   "outputs": [],
   "source": []
  },
  {
   "cell_type": "code",
   "execution_count": null,
   "id": "284af75a-d281-4bc3-9a5f-67b1fb25b546",
   "metadata": {},
   "outputs": [],
   "source": []
  },
  {
   "cell_type": "code",
   "execution_count": null,
   "id": "ea213fce-09ba-4ca4-979d-f85081c98724",
   "metadata": {},
   "outputs": [],
   "source": []
  },
  {
   "cell_type": "code",
   "execution_count": null,
   "id": "04f02bc3-9ef6-4fb9-b72f-dc361456cd90",
   "metadata": {},
   "outputs": [],
   "source": []
  },
  {
   "cell_type": "code",
   "execution_count": null,
   "id": "465793df-b6d2-4db5-a16c-19beb940c26f",
   "metadata": {},
   "outputs": [],
   "source": []
  },
  {
   "cell_type": "code",
   "execution_count": null,
   "id": "f5c38091-5495-4a62-a704-29c3364b234d",
   "metadata": {},
   "outputs": [],
   "source": []
  },
  {
   "cell_type": "code",
   "execution_count": null,
   "id": "887279c9-5733-48ea-a2ea-3ff88394d5d7",
   "metadata": {},
   "outputs": [],
   "source": [
    "opco_dfs = {}\n",
    "for opco_i in opcos:\n",
    "    save_dir_i = os.path.join(save_dir, opco_i)\n",
    "    df_i = Utilities_df.concat_dfs_in_dir(\n",
    "        dir_path             = save_dir_i, \n",
    "        regex_pattern        = r'\\d{8}_\\d{8}.*', \n",
    "        ignore_case          = False, \n",
    "        ext                  = '.pkl', \n",
    "        make_col_types_equal = False, \n",
    "        return_paths         = False\n",
    "    )\n",
    "    opco_dfs[opco_i] = df_i\n"
   ]
  },
  {
   "cell_type": "code",
   "execution_count": null,
   "id": "104b7d72-d9ba-4e8b-81ba-59306817bea6",
   "metadata": {},
   "outputs": [],
   "source": []
  },
  {
   "cell_type": "code",
   "execution_count": null,
   "id": "ded49c2b-5311-4781-91b1-7ad105651fd3",
   "metadata": {},
   "outputs": [],
   "source": [
    "opco_dfs['ap']"
   ]
  },
  {
   "cell_type": "code",
   "execution_count": null,
   "id": "ca95005e-a64b-4ec8-9142-f662887e1f32",
   "metadata": {},
   "outputs": [],
   "source": [
    "table_dfs = {}\n",
    "for opco_i in opcos:\n",
    "    table_dfs[opco_i] = appwr.build_acc_srvc_intrrptns_table_df(\n",
    "        zero_times_df = opco_dfs[opco_i], \n",
    "        supplmntl_data        = None\n",
    "    )"
   ]
  },
  {
   "cell_type": "code",
   "execution_count": null,
   "id": "aaf1b54a-9337-4921-add5-054517a0680b",
   "metadata": {},
   "outputs": [],
   "source": [
    "table_dfs['ap']"
   ]
  },
  {
   "cell_type": "code",
   "execution_count": null,
   "id": "2e5815c5-831a-4dfd-85a5-150fa10bc3d5",
   "metadata": {},
   "outputs": [],
   "source": []
  },
  {
   "cell_type": "code",
   "execution_count": null,
   "id": "048c6d7e-deb3-4d24-bade-a926fc87ef5c",
   "metadata": {},
   "outputs": [],
   "source": [
    "app_SNs_oh = pd.read_pickle(r'C:\\Users\\s346557\\Documents\\LocalData\\abs_perfect_power\\20231001_20240930\\app_SNs_oh.pkl')\n",
    "perfect_SNs = list(set(app_SNs_oh['serialnumber'].unique()).difference(set(dev_df_i['serialnumber'].unique())))"
   ]
  },
  {
   "cell_type": "code",
   "execution_count": null,
   "id": "400fede0-a646-461c-a057-2e02b34c03ca",
   "metadata": {},
   "outputs": [],
   "source": [
    "app_SNs_ap  = pd.read_pickle(r'C:\\Users\\s346557\\Documents\\LocalData\\abs_perfect_power\\20231001_20240930\\app_SNs_ap.pkl')\n",
    "app_SNs_im  = pd.read_pickle(r'C:\\Users\\s346557\\Documents\\LocalData\\abs_perfect_power\\20231001_20240930\\app_SNs_im.pkl')\n",
    "app_SNs_oh  = pd.read_pickle(r'C:\\Users\\s346557\\Documents\\LocalData\\abs_perfect_power\\20231001_20240930\\app_SNs_oh.pkl')\n",
    "app_SNs_pso = pd.read_pickle(r'C:\\Users\\s346557\\Documents\\LocalData\\abs_perfect_power\\20231001_20240930\\app_SNs_pso.pkl')\n",
    "app_SNs_swp = pd.read_pickle(r'C:\\Users\\s346557\\Documents\\LocalData\\abs_perfect_power\\20231001_20240930\\app_SNs_swp.pkl')"
   ]
  },
  {
   "cell_type": "code",
   "execution_count": null,
   "id": "1713cb35-71d7-47d5-b598-4a9a05dba4d1",
   "metadata": {},
   "outputs": [],
   "source": [
    "opco_n_perfect_SNs = dict()\n",
    "opco_n_perfect_SNs['ap']  = len(list(set(app_SNs_ap['serialnumber'].unique()).difference(set(opco_dfs['ap']['serialnumber'].unique()))))\n",
    "opco_n_perfect_SNs['im']  = len(list(set(app_SNs_im['serialnumber'].unique()).difference(set(opco_dfs['im']['serialnumber'].unique()))))\n",
    "opco_n_perfect_SNs['oh']  = len(list(set(app_SNs_oh['serialnumber'].unique()).difference(set(opco_dfs['oh']['serialnumber'].unique()))))\n",
    "opco_n_perfect_SNs['pso'] = len(list(set(app_SNs_pso['serialnumber'].unique()).difference(set(opco_dfs['pso']['serialnumber'].unique()))))\n",
    "opco_n_perfect_SNs['swp'] = len(list(set(app_SNs_swp['serialnumber'].unique()).difference(set(opco_dfs['swp']['serialnumber'].unique()))))"
   ]
  },
  {
   "cell_type": "code",
   "execution_count": null,
   "id": "cad1f3bc-f2b4-4cc9-8866-024bc3511170",
   "metadata": {},
   "outputs": [],
   "source": []
  },
  {
   "cell_type": "code",
   "execution_count": null,
   "id": "1e8fd4e1-e488-4f57-9e40-4354a84ccaa0",
   "metadata": {},
   "outputs": [],
   "source": [
    "idk = pd.read_pickle(r'C:\\Users\\s346557\\Documents\\LocalData\\abs_perfect_power\\ap\\20231001_20231031\\METHOD_1\\app_df_agg_ap.pkl')"
   ]
  },
  {
   "cell_type": "code",
   "execution_count": null,
   "id": "52bd658d-7814-48c3-a386-cba5a038c1bf",
   "metadata": {},
   "outputs": [],
   "source": [
    "idk['serialnumber'].nunique()"
   ]
  },
  {
   "cell_type": "code",
   "execution_count": null,
   "id": "d9558d9c-1b0f-400c-983c-749911c65960",
   "metadata": {},
   "outputs": [],
   "source": [
    "app_SNs_ap['serialnumber'].nunique()"
   ]
  },
  {
   "cell_type": "code",
   "execution_count": null,
   "id": "e8b9e2ee-1495-4e31-89d1-d80ef06aefda",
   "metadata": {},
   "outputs": [],
   "source": []
  },
  {
   "cell_type": "code",
   "execution_count": null,
   "id": "5fd4a0ed-d3c5-435d-b3f7-56da20e28e53",
   "metadata": {},
   "outputs": [],
   "source": [
    "acc_srvc_intrrptns_dict = {}\n",
    "for opco_i in opcos:\n",
    "    vcs_srs_i       = opco_dfs[opco_i]['serialnumber'].value_counts()\n",
    "    n_perfect_SNs_i = opco_n_perfect_SNs[opco_i]\n",
    "    acc_srvc_intrrptns_dict[opco_i] = appwr.build_acc_srvc_intrrptns_table_df(\n",
    "        acc_srvc_intrrptns_df = opco_dfs[opco_i], \n",
    "        supplmntl_data        = {0: opco_n_perfect_SNs[opco_i]}\n",
    "    )"
   ]
  },
  {
   "cell_type": "code",
   "execution_count": null,
   "id": "26f4e7cb-fb28-40ad-bba6-626f352a1f75",
   "metadata": {},
   "outputs": [],
   "source": []
  },
  {
   "cell_type": "code",
   "execution_count": null,
   "id": "d33ec986-9add-4232-bb30-93aa8b767d5f",
   "metadata": {},
   "outputs": [],
   "source": [
    "acc_outg_drtn_dict = {}\n",
    "for opco_i in opcos:\n",
    "    df_i = opco_dfs[opco_i].copy()\n",
    "    n_perfect_SNs_i = opco_n_perfect_SNs[opco_i]\n",
    "    #-----\n",
    "    df_i['delta'] = pd.to_datetime(df_i['island_end_starttimeperiod'])-pd.to_datetime(df_i['island_start_starttimeperiod'])+pd.Timedelta('15min')\n",
    "    df_i['n_15T'] = df_i['delta']/pd.Timedelta('15min')\n",
    "    #-----\n",
    "    df_i = df_i.groupby(['serialnumber'])['delta'].sum()\n",
    "    df_i = df_i.div(pd.Timedelta('1 hour'))\n",
    "\n",
    "    df_i = appwr.build_table_df(\n",
    "        n_intr_srs     = df_i.copy(), \n",
    "        bins           = [\n",
    "            (None, 6), \n",
    "            (6,24), \n",
    "            (24,48), \n",
    "            (48,96), \n",
    "            (96, None)\n",
    "        ], \n",
    "        supplmntl_data = {(None, 6): n_perfect_SNs_i}\n",
    "    )\n",
    "    acc_outg_drtn_dict[opco_i] = df_i"
   ]
  },
  {
   "cell_type": "code",
   "execution_count": null,
   "id": "b3ddb36b-2b1f-4e36-abe6-864fdb8c6f2d",
   "metadata": {},
   "outputs": [],
   "source": [
    "acc_srvc_intrrptns_dict['oh']"
   ]
  },
  {
   "cell_type": "code",
   "execution_count": null,
   "id": "4ee75be1-008e-4f2d-8a82-2ad4e8e6a3d4",
   "metadata": {},
   "outputs": [],
   "source": [
    "acc_outg_drtn_dict['oh']"
   ]
  },
  {
   "cell_type": "code",
   "execution_count": null,
   "id": "f5a73de1-2c24-42f6-b38e-6adc9e82a2b4",
   "metadata": {},
   "outputs": [],
   "source": [
    "assert(acc_srvc_intrrptns_dict.keys()==acc_outg_drtn_dict.keys())\n",
    "opcos = list(acc_srvc_intrrptns_dict.keys())"
   ]
  },
  {
   "cell_type": "code",
   "execution_count": null,
   "id": "d219d292-18a4-4aab-8474-ca974cada68e",
   "metadata": {},
   "outputs": [],
   "source": [
    "acc_srvc_intrrptns_dict['oh']"
   ]
  },
  {
   "cell_type": "code",
   "execution_count": null,
   "id": "0e8a4785-90b4-4db8-b29f-65d414c64310",
   "metadata": {},
   "outputs": [],
   "source": [
    "figax =  appwr.histplot_acc_srvc_intrrptns(\n",
    "    acc_srvc_intrrptns_df = acc_srvc_intrrptns_dict['oh'], \n",
    "    bins                  = None, \n",
    "    supplmntl_data        = None, \n",
    "    stat                  = 'probability', \n",
    "    figax                 = None, \n",
    "    fig_num               = 0, \n",
    "    set_logy              = True, \n",
    "    title                 = None, \n",
    "    include_text          = True, \n",
    "    #-----\n",
    "    SN_col                = 'serialnumbers', \n",
    ")"
   ]
  },
  {
   "cell_type": "code",
   "execution_count": null,
   "id": "02b73c7c-a777-4285-8fc8-0e269021459b",
   "metadata": {},
   "outputs": [],
   "source": []
  },
  {
   "cell_type": "code",
   "execution_count": null,
   "id": "4d6ebd0d-3610-4304-bca7-bbc88778cc54",
   "metadata": {},
   "outputs": [],
   "source": []
  },
  {
   "cell_type": "code",
   "execution_count": null,
   "id": "4dae4bf9-abe2-4a4c-86ef-09bd5f8b741d",
   "metadata": {},
   "outputs": [],
   "source": [
    "startcol_0 = 0\n",
    "startcol_1 = 5\n",
    "startrow_i = 0\n",
    "\n",
    "with pd.ExcelWriter(r'C:\\Users\\s346557\\Downloads\\Test.xlsx') as writer:  \n",
    "    for opco_i in opcos:\n",
    "        srvc_intrrptns_i = acc_srvc_intrrptns_dict[opco_i].copy()\n",
    "        outg_drtns_i     = acc_outg_drtn_dict[opco_i].copy()\n",
    "        #-----\n",
    "        srvc_intrrptns_i = Utilities_df.prepend_level_to_MultiIndex(df=srvc_intrrptns_i, level_val=f\"Acc. Service Interruptions: OPCO = {opco_i}\", axis=1)\n",
    "        outg_drtns_i     = Utilities_df.prepend_level_to_MultiIndex(df=outg_drtns_i, level_val=f\"Acc. Outage Duration: OPCO = {opco_i}\", axis=1)\n",
    "        #-----\n",
    "        srvc_intrrptns_i.to_excel(writer, startrow=startrow_i, startcol=startcol_0)\n",
    "        outg_drtns_i.to_excel(     writer, startrow=startrow_i, startcol=startcol_1)\n",
    "        startrow_i += np.max([srvc_intrrptns_i.shape[0], outg_drtns_i.shape[0]])+5"
   ]
  },
  {
   "cell_type": "code",
   "execution_count": null,
   "id": "0118b778-8c7c-42f8-ba6c-0d56a5f13983",
   "metadata": {},
   "outputs": [],
   "source": []
  },
  {
   "cell_type": "code",
   "execution_count": null,
   "id": "bc566c5a-edc4-408a-84b7-6e72742ee22c",
   "metadata": {},
   "outputs": [],
   "source": []
  },
  {
   "cell_type": "code",
   "execution_count": null,
   "id": "c59b66a9-18b3-416a-a4ab-db18bd9c09a7",
   "metadata": {},
   "outputs": [],
   "source": []
  },
  {
   "cell_type": "code",
   "execution_count": null,
   "id": "ab30df48-d894-4f2d-8f74-7487c1ebec08",
   "metadata": {},
   "outputs": [],
   "source": [
    "opco_i='oh'"
   ]
  },
  {
   "cell_type": "code",
   "execution_count": null,
   "id": "1130e2a6-25eb-4ea7-aa0d-507000747040",
   "metadata": {},
   "outputs": [],
   "source": [
    "df_i = opco_dfs[opco_i].copy()\n",
    "n_perfect_SNs_i = opco_n_perfect_SNs[opco_i]\n",
    "#-----\n",
    "df_i['delta'] = pd.to_datetime(df_i['island_end_starttimeperiod'])-pd.to_datetime(df_i['island_start_starttimeperiod'])+pd.Timedelta('15min')\n",
    "df_i['n_15T'] = df_i['delta']/pd.Timedelta('15min')\n",
    "#-----\n",
    "df_i = df_i.groupby(['serialnumber'])['delta'].sum()\n",
    "df_i = df_i.div(pd.Timedelta('1 hour'))"
   ]
  },
  {
   "cell_type": "code",
   "execution_count": null,
   "id": "57fccdc1-85b8-47a8-9cc0-0a2cddd0619d",
   "metadata": {},
   "outputs": [],
   "source": [
    "df_i"
   ]
  },
  {
   "cell_type": "code",
   "execution_count": null,
   "id": "ab7e12e8-e355-4582-b654-55320d7dfc08",
   "metadata": {},
   "outputs": [],
   "source": []
  },
  {
   "cell_type": "code",
   "execution_count": null,
   "id": "1b1babdc-cc6b-4119-946e-c84fdac10ff3",
   "metadata": {},
   "outputs": [],
   "source": []
  },
  {
   "cell_type": "code",
   "execution_count": null,
   "id": "e3b9e7d5-bf8c-487c-b32a-8c9339f16f52",
   "metadata": {},
   "outputs": [],
   "source": []
  },
  {
   "cell_type": "code",
   "execution_count": null,
   "id": "e4072ffa-ba63-4b91-9310-72a5f071615d",
   "metadata": {},
   "outputs": [],
   "source": [
    "dev_df_i = opco_dfs['oh'].copy()\n",
    "dev_df_i"
   ]
  },
  {
   "cell_type": "code",
   "execution_count": null,
   "id": "b5fd96c6-f0d8-45f9-9778-1fe0496549f6",
   "metadata": {},
   "outputs": [],
   "source": [
    "dev_df_i['delta'] = pd.to_datetime(dev_df_i['island_end_starttimeperiod'])-pd.to_datetime(dev_df_i['island_start_starttimeperiod'])+pd.Timedelta('15min')\n",
    "dev_df_i['n_15T'] = dev_df_i['delta']/pd.Timedelta('15min')"
   ]
  },
  {
   "cell_type": "code",
   "execution_count": null,
   "id": "65ad21b7-6cb0-4bce-8abc-c0ff5fe570d0",
   "metadata": {},
   "outputs": [],
   "source": [
    "dev_df_i2 = dev_df_i.groupby(['serialnumber'])['delta'].sum()\n",
    "dev_df_i2 = dev_df_i2.div(pd.Timedelta('1 hour'))\n",
    "dev_df_i2"
   ]
  },
  {
   "cell_type": "code",
   "execution_count": null,
   "id": "031ef8cc-45b9-45ac-9e6e-1e7daf6d7d9b",
   "metadata": {},
   "outputs": [],
   "source": []
  },
  {
   "cell_type": "code",
   "execution_count": null,
   "id": "9b75c8a6-9b7f-4d76-af95-72763f34e399",
   "metadata": {},
   "outputs": [],
   "source": []
  },
  {
   "cell_type": "code",
   "execution_count": null,
   "id": "6f90cad2-c142-4c14-88ba-bf28ba0b59ab",
   "metadata": {},
   "outputs": [],
   "source": [
    "dev_df_i3 = appwr.build_table_df(\n",
    "    n_intr_srs = dev_df_i2.copy(), \n",
    "    bins       = [\n",
    "        (None, 6), \n",
    "        (6,24), \n",
    "        (24,48), \n",
    "        (48,96), \n",
    "        (96, None)\n",
    "    ]\n",
    ")"
   ]
  },
  {
   "cell_type": "code",
   "execution_count": null,
   "id": "fd8003bf-29a9-4e89-a9a6-253f395bf602",
   "metadata": {},
   "outputs": [],
   "source": []
  },
  {
   "cell_type": "code",
   "execution_count": null,
   "id": "346ceae4-5914-444c-b044-539ee8865ef8",
   "metadata": {},
   "outputs": [],
   "source": []
  },
  {
   "cell_type": "code",
   "execution_count": null,
   "id": "81f389e3-a92e-4c72-9a33-ec81d871b5ea",
   "metadata": {},
   "outputs": [],
   "source": [
    "dev_df_i4 = appwr.build_table_df(\n",
    "    n_intr_srs     = dev_df_i2.copy(), \n",
    "    bins           = [\n",
    "        (None, 6), \n",
    "        (6,24), \n",
    "        (24,48), \n",
    "        (48,96), \n",
    "        (96, None)\n",
    "    ], \n",
    "    supplmntl_data = {(None, 6): len(perfect_SNs)}\n",
    ")"
   ]
  },
  {
   "cell_type": "code",
   "execution_count": null,
   "id": "b9040afb-499b-43b5-bea9-b9707d191b4f",
   "metadata": {},
   "outputs": [],
   "source": [
    "dev_df_i3"
   ]
  },
  {
   "cell_type": "code",
   "execution_count": null,
   "id": "b56f5fce-0fca-4f38-818f-e46984764fa7",
   "metadata": {},
   "outputs": [],
   "source": [
    "dev_df_i4"
   ]
  },
  {
   "cell_type": "code",
   "execution_count": null,
   "id": "8b851fdd-7d3d-4957-ba96-bea4b701b7ca",
   "metadata": {},
   "outputs": [],
   "source": []
  },
  {
   "cell_type": "code",
   "execution_count": null,
   "id": "4037e064-297d-456b-9639-1a30f1f5ff6b",
   "metadata": {},
   "outputs": [],
   "source": []
  },
  {
   "cell_type": "code",
   "execution_count": null,
   "id": "1ca156bf-427a-49c6-a65e-1879ef6ead04",
   "metadata": {},
   "outputs": [],
   "source": [
    "n_total_ap = get_nz_nt_ratio_partial_df(\n",
    "    date_0       = '2023-10-01', \n",
    "    date_1       = '2024-09-30', \n",
    "    measure      = 'n_total', \n",
    "    method       = 'v2', \n",
    "    conn_aws     = conn_aws, \n",
    "    opcos        = ['ap']\n",
    ")"
   ]
  },
  {
   "cell_type": "code",
   "execution_count": null,
   "id": "79ac4985-874b-48ca-aad1-dde682ffa21a",
   "metadata": {},
   "outputs": [],
   "source": [
    "n_total_ap"
   ]
  },
  {
   "cell_type": "code",
   "execution_count": null,
   "id": "0e0e765c-0a24-4573-a2e9-d85501320d6d",
   "metadata": {},
   "outputs": [],
   "source": []
  },
  {
   "cell_type": "code",
   "execution_count": null,
   "id": "8ef4b237-80af-49e9-8610-ec0cec7b6238",
   "metadata": {},
   "outputs": [],
   "source": [
    "# df_1 = pd.read_pickle(r'C:\\Users\\s346557\\Documents\\LocalData\\abs_perfect_power\\ap\\20231001_20231031\\METHOD_1\\app_df_agg_ap.pkl')\n",
    "# df_2 = pd.read_pickle(r'C:\\Users\\s346557\\Documents\\LocalData\\abs_perfect_power\\ap\\20231001_20231031\\METHOD_1\\app_SNs_ap.pkl')\n",
    "\n",
    "df_1 = pd.read_pickle(r'C:\\Users\\s346557\\Documents\\LocalData\\abs_perfect_power\\oh\\20231001_20231031\\METHOD_1\\app_df_agg_oh.pkl')\n",
    "df_2 = pd.read_pickle(r'C:\\Users\\s346557\\Documents\\LocalData\\abs_perfect_power\\oh\\20231001_20231031\\METHOD_1\\app_SNs_oh.pkl')"
   ]
  },
  {
   "cell_type": "code",
   "execution_count": null,
   "id": "8a48ccb1-1838-46bf-a7b6-78d49751dac6",
   "metadata": {},
   "outputs": [],
   "source": [
    "print(df_1.shape)\n",
    "print(df_2.shape)"
   ]
  },
  {
   "cell_type": "code",
   "execution_count": null,
   "id": "6324531e-e94e-4e3a-84a8-182dbab4ff8a",
   "metadata": {},
   "outputs": [],
   "source": [
    "df_1.head()"
   ]
  },
  {
   "cell_type": "code",
   "execution_count": null,
   "id": "96af8ae7-7542-45b3-8dd5-4e03e58500f8",
   "metadata": {},
   "outputs": [],
   "source": [
    "df_2.head()"
   ]
  },
  {
   "cell_type": "code",
   "execution_count": null,
   "id": "8b94f741-7e2d-4df1-8a28-c21a4467bb1e",
   "metadata": {},
   "outputs": [],
   "source": [
    "print(df_1['serialnumber'].nunique())\n",
    "print(df_2['serialnumber'].nunique())"
   ]
  },
  {
   "cell_type": "code",
   "execution_count": null,
   "id": "a028379e-ea0c-4009-816f-05bf073e9579",
   "metadata": {},
   "outputs": [],
   "source": [
    "dffs = list(set(df_1['serialnumber'].unique()).symmetric_difference(set(df_2['serialnumber'].unique())))\n",
    "len(dffs)"
   ]
  },
  {
   "cell_type": "code",
   "execution_count": null,
   "id": "a9ff9f71-3d63-46f6-b56c-ceaba2384336",
   "metadata": {},
   "outputs": [],
   "source": [
    "ugh_0 = \"\"\"\n",
    "SELECT\n",
    "\taep_premise_nb,\n",
    "\tserialnumber,\n",
    "\tCOUNT(DISTINCT starttimeperiod)\n",
    "FROM usage_nonvee.reading_ivl_nonvee\n",
    "WHERE aep_opco = 'oh'\n",
    "AND   aep_usage_dt BETWEEN '2023-10-01' AND '2023-10-31'\n",
    "AND   aep_derived_uom = 'VOLT'\n",
    "GROUP BY\n",
    "\taep_premise_nb,\n",
    "\tserialnumber\n",
    "\"\"\""
   ]
  },
  {
   "cell_type": "code",
   "execution_count": null,
   "id": "6adacf78-38e2-4bf7-8098-65a32616fdc2",
   "metadata": {},
   "outputs": [],
   "source": [
    "df_ugh_0 = pd.read_sql_query(\n",
    "    ugh_0, \n",
    "    conn_aws\n",
    ")"
   ]
  },
  {
   "cell_type": "code",
   "execution_count": null,
   "id": "67d17d66-031e-429e-829d-64b9be9e412b",
   "metadata": {},
   "outputs": [],
   "source": [
    "df_ugh['serialnumber'].nunique()"
   ]
  },
  {
   "cell_type": "code",
   "execution_count": null,
   "id": "2e96a0c5-d088-46d0-8b65-95d622710be7",
   "metadata": {},
   "outputs": [],
   "source": []
  },
  {
   "cell_type": "code",
   "execution_count": null,
   "id": "f093d050-6b33-49cd-92cb-8828a1534ed4",
   "metadata": {},
   "outputs": [],
   "source": []
  },
  {
   "cell_type": "code",
   "execution_count": null,
   "id": "6cc04e85-de97-4c2d-bc88-1705320c8bcf",
   "metadata": {},
   "outputs": [],
   "source": [
    "ugh = \"\"\"\n",
    "SELECT\n",
    "\tserialnumber,\n",
    "\tCOUNT(DISTINCT starttimeperiod)\n",
    "FROM usage_nonvee.reading_ivl_nonvee\n",
    "WHERE aep_opco = 'oh'\n",
    "AND   aep_usage_dt BETWEEN '2023-10-01' AND '2023-10-31'\n",
    "AND   aep_derived_uom = 'VOLT'\n",
    "GROUP BY\n",
    "\tserialnumber\n",
    "\"\"\""
   ]
  },
  {
   "cell_type": "code",
   "execution_count": null,
   "id": "9b771333-d750-46df-b4af-2b62a5d88e5b",
   "metadata": {},
   "outputs": [],
   "source": [
    "df_ugh = pd.read_sql_query(\n",
    "    ugh, \n",
    "    conn_aws\n",
    ")"
   ]
  },
  {
   "cell_type": "code",
   "execution_count": null,
   "id": "f6b7a486-4fc9-457c-9a29-69edf85382db",
   "metadata": {},
   "outputs": [],
   "source": [
    "df_ugh['serialnumber'].nunique()"
   ]
  },
  {
   "cell_type": "code",
   "execution_count": null,
   "id": "f3517c45-f948-41e9-8650-9fa8feb6700f",
   "metadata": {},
   "outputs": [],
   "source": [
    "df_ugh"
   ]
  },
  {
   "cell_type": "code",
   "execution_count": null,
   "id": "dc202a17-2061-413e-928c-10621cfff96b",
   "metadata": {},
   "outputs": [],
   "source": []
  },
  {
   "cell_type": "code",
   "execution_count": null,
   "id": "dd996963-ea42-46ac-9c04-7127a4463aea",
   "metadata": {},
   "outputs": [],
   "source": [
    "amanda_PNs_UTL_sql = \"\"\"\n",
    "with prem as (\n",
    "\tselect\n",
    "\t\ta.prem_nb,\n",
    "\t\ta.co_cd_ownr,\n",
    "\t\ttrim(a.serv_city_ad) as serv_city_ad,\n",
    "\t\ta.state_cd,\n",
    "\t\ta.serv_zip_ad,\n",
    "\t\ta.dvsn_cd,\n",
    "\t\ta.area_cd,\n",
    "\t\ta.acct_clas_cd, -- Make sure grab the latest bill account\n",
    "\t\trow_number() over (partition by a.prem_nb order by a.turn_on_dt desc) as rn\n",
    "\tfrom UTLUSER.ods_mcs_indicativ_data a\n",
    "\t where exists (\n",
    "\t\tselect 1\n",
    "\t      from utluser.ods_mds_installed_devc x\n",
    "\t\twhere x.mtr_kind_cd = 'K'\n",
    "\t   and a.acct_type_cd IN ('E', 'EO', 'AC')\n",
    "\t   and ( x.rmvl_ts is null or x.rmvl_ts >= cast('2023-10-27 00:00:00' as timestamp) )\n",
    "\t   and x.prem_nb = a.prem_nb\n",
    "\t)\n",
    ")\n",
    "select *\n",
    "  from prem a\n",
    " where a.rn = 1\n",
    "\"\"\""
   ]
  },
  {
   "cell_type": "code",
   "execution_count": null,
   "id": "b35fdfa4-0d98-4179-b505-a08dd0337f76",
   "metadata": {},
   "outputs": [],
   "source": [
    "conn_utl = Utilities.get_utldb01p_oracle_connection()"
   ]
  },
  {
   "cell_type": "code",
   "execution_count": null,
   "id": "0c473a17-7c22-4798-a60f-db09c9b80ef8",
   "metadata": {},
   "outputs": [],
   "source": [
    "df_amda_PNs = pd.read_sql_query(\n",
    "    amanda_PNs_UTL_sql, \n",
    "    conn_utl\n",
    ")"
   ]
  },
  {
   "cell_type": "code",
   "execution_count": null,
   "id": "7e9c45ba-4dcf-41b7-a336-74f194bf9dfc",
   "metadata": {},
   "outputs": [],
   "source": [
    "df_amda_PNs"
   ]
  },
  {
   "cell_type": "code",
   "execution_count": null,
   "id": "fb163564-5ed8-4df2-8fd9-181ade3f0279",
   "metadata": {},
   "outputs": [],
   "source": [
    "amda_PNs = df_amda_PNs['PREM_NB'].unique().tolist()"
   ]
  },
  {
   "cell_type": "code",
   "execution_count": null,
   "id": "2db4649b-31ce-40fd-857a-b6dd82e3efc8",
   "metadata": {},
   "outputs": [],
   "source": [
    "df_1"
   ]
  },
  {
   "cell_type": "code",
   "execution_count": null,
   "id": "b0ecf3fa-7594-401e-a205-75c09313ecb1",
   "metadata": {},
   "outputs": [],
   "source": [
    "df_1[df_1['aep_premise_nb'].isin(amda_PNs)]"
   ]
  },
  {
   "cell_type": "code",
   "execution_count": null,
   "id": "42f5cbb7-1d5b-4019-b47f-eb1ccfdb1671",
   "metadata": {},
   "outputs": [],
   "source": []
  },
  {
   "cell_type": "code",
   "execution_count": null,
   "id": "50b66675-7aa7-444c-8202-afa8cfbdbe40",
   "metadata": {},
   "outputs": [],
   "source": []
  },
  {
   "cell_type": "code",
   "execution_count": null,
   "id": "32f1f8ae-c5e4-49dc-a830-e3beb40478b3",
   "metadata": {},
   "outputs": [],
   "source": []
  }
 ],
 "metadata": {
  "kernelspec": {
   "display_name": "Python 3 (ipykernel)",
   "language": "python",
   "name": "python3"
  },
  "language_info": {
   "codemirror_mode": {
    "name": "ipython",
    "version": 3
   },
   "file_extension": ".py",
   "mimetype": "text/x-python",
   "name": "python",
   "nbconvert_exporter": "python",
   "pygments_lexer": "ipython3",
   "version": "3.11.7"
  }
 },
 "nbformat": 4,
 "nbformat_minor": 5
}
