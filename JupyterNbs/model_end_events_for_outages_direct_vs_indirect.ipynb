{
 "cells": [
  {
   "cell_type": "code",
   "execution_count": null,
   "id": "0c1374c4",
   "metadata": {},
   "outputs": [],
   "source": [
    "%run ./model_end_events_for_outages_METHODS.ipynb"
   ]
  },
  {
   "cell_type": "code",
   "execution_count": null,
   "id": "b5755605",
   "metadata": {},
   "outputs": [],
   "source": [
    "from importlib import reload\n",
    "#reload(Utilities)\n",
    "#reload(clm)\n",
    "# NOTE: To reload a class imported as, e.g., \n",
    "# from module import class\n",
    "# One must call:\n",
    "#   1. import module\n",
    "#   2. reload module\n",
    "#   3. from module import class\n",
    "\n",
    "import sys, os\n",
    "import re\n",
    "import string\n",
    "\n",
    "from pathlib import Path\n",
    "import json\n",
    "import pickle\n",
    "\n",
    "import pandas as pd\n",
    "import numpy as np\n",
    "from pandas.api.types import is_numeric_dtype, is_datetime64_dtype, is_timedelta64_dtype\n",
    "from scipy import stats\n",
    "import datetime\n",
    "import time\n",
    "from natsort import natsorted, ns, natsort_keygen\n",
    "from packaging import version\n",
    "import copy\n",
    "from functools import reduce\n",
    "\n",
    "import itertools\n",
    "\n",
    "import pyodbc\n",
    "#---------------------------------------------------------------------\n",
    "import matplotlib as mpl\n",
    "import matplotlib.pyplot as plt\n",
    "import seaborn as sns\n",
    "from matplotlib.backends.backend_pdf import PdfPages\n",
    "import matplotlib.patches as mpatches\n",
    "from matplotlib.lines import Line2D\n",
    "import matplotlib.ticker as ticker\n",
    "from matplotlib import dates\n",
    "import matplotlib.colors as mcolors\n",
    "import matplotlib.cm as cm #e.g. for cmap=cm.jet\n",
    "#---------------------------------------------------------------------\n",
    "sys.path.insert(0, os.path.realpath('..'))\n",
    "import Utilities_config\n",
    "#-----\n",
    "import CommonLearningMethods as clm\n",
    "#-----\n",
    "from MeterPremise import MeterPremise\n",
    "from EEMSP import EEMSP\n",
    "#-----\n",
    "from AMI_SQL import AMI_SQL\n",
    "from AMINonVee_SQL import AMINonVee_SQL\n",
    "from AMIEndEvents_SQL import AMIEndEvents_SQL\n",
    "from AMIUsgInst_SQL import AMIUsgInst_SQL\n",
    "from DOVSOutages_SQL import DOVSOutages_SQL\n",
    "#-----\n",
    "from GenAn import GenAn\n",
    "from AMINonVee import AMINonVee\n",
    "from AMIEndEvents import AMIEndEvents\n",
    "from AMIEDE_DEV import AMIEDE_DEV\n",
    "from MECPODf import MECPODf\n",
    "from MECPOAn import MECPOAn\n",
    "from MECPOCollection import MECPOCollection\n",
    "from AMIUsgInst import AMIUsgInst\n",
    "from DOVSOutages import DOVSOutages\n",
    "#---------------------------------------------------------------------\n",
    "sys.path.insert(0, Utilities_config.get_sql_aids_dir())\n",
    "import Utilities_sql\n",
    "import TableInfos\n",
    "from TableInfos import TableInfo\n",
    "from SQLElement import SQLElement\n",
    "from SQLElementsCollection import SQLElementsCollection\n",
    "from SQLSelect import SQLSelectElement, SQLSelect\n",
    "from SQLFrom import SQLFrom\n",
    "from SQLWhere import SQLWhereElement, SQLWhere\n",
    "from SQLJoin import SQLJoin, SQLJoinCollection\n",
    "from SQLGroupBy import SQLGroupByElement, SQLGroupBy\n",
    "from SQLHaving import SQLHaving\n",
    "from SQLOrderBy import SQLOrderByElement, SQLOrderBy\n",
    "from SQLQuery import SQLQuery\n",
    "from SQLQueryGeneric import SQLQueryGeneric\n",
    "#---------------------------------------------------------------------\n",
    "#sys.path.insert(0, os.path.join(os.path.realpath('..'), 'Utilities'))\n",
    "sys.path.insert(0, Utilities_config.get_utilities_dir())\n",
    "import Utilities\n",
    "import Utilities_df\n",
    "from Utilities_df import DFConstructType\n",
    "import Utilities_dt\n",
    "import Plot_General\n",
    "import Plot_Box_sns\n",
    "import Plot_Hist\n",
    "import Plot_Bar\n",
    "import GrubbsTest\n",
    "import DataFrameSubsetSlicer\n",
    "from DataFrameSubsetSlicer import DataFrameSubsetSlicer as DFSlicer"
   ]
  },
  {
   "cell_type": "code",
   "execution_count": null,
   "id": "66d8ba61",
   "metadata": {},
   "outputs": [],
   "source": [
    "from sklearn.preprocessing import OrdinalEncoder"
   ]
  },
  {
   "cell_type": "code",
   "execution_count": null,
   "id": "68f7b1f1",
   "metadata": {},
   "outputs": [],
   "source": [
    "from sklearn.base import BaseEstimator\n",
    "from sklearn.preprocessing import StandardScaler\n",
    "from sklearn.model_selection import train_test_split, GridSearchCV, RandomizedSearchCV, cross_val_score, cross_val_predict\n",
    "from sklearn import metrics\n",
    "from sklearn.metrics import confusion_matrix, ConfusionMatrixDisplay, accuracy_score, precision_score, recall_score, f1_score, precision_recall_curve, roc_curve\n",
    "\n",
    "from sklearn.linear_model import LogisticRegression, SGDClassifier\n",
    "from sklearn.ensemble import RandomForestClassifier\n",
    "from sklearn.decomposition import PCA\n",
    "from sklearn import preprocessing\n",
    "\n",
    "import tensorflow as tf\n",
    "from tensorflow import keras\n",
    "\n",
    "import scipy\n",
    "\n",
    "from sklearn.ensemble import AdaBoostClassifier\n",
    "from sklearn.tree import DecisionTreeClassifier"
   ]
  },
  {
   "cell_type": "markdown",
   "id": "394f2c7f",
   "metadata": {},
   "source": [
    "# ---------------------------------------------------------------------------------------------------"
   ]
  },
  {
   "cell_type": "code",
   "execution_count": null,
   "id": "cca4faa8",
   "metadata": {},
   "outputs": [],
   "source": []
  },
  {
   "cell_type": "code",
   "execution_count": null,
   "id": "99706616",
   "metadata": {},
   "outputs": [],
   "source": [
    "run_testing_data=False\n",
    "fig_num=0\n",
    "\n",
    "dovs_and_end_events_data_dir = r'C:\\Users\\s346557\\Documents\\LocalData\\dovs_and_end_events_data'\n",
    "if run_testing_data:\n",
    "    dovs_and_end_events_data_dir = os.path.join(dovs_and_end_events_data_dir, r'TESTING_DATASETS')\n",
    "\n",
    "files_dir_outg             = os.path.join(dovs_and_end_events_data_dir, r'EndEvents')\n",
    "files_dir_outg_prim_strict = os.path.join(dovs_and_end_events_data_dir, r'EndEvents_prim_strict')\n",
    "files_dir_no_outg = os.path.join(dovs_and_end_events_data_dir, r'EndEvents_NoOutg')\n",
    "\n",
    "file_path_glob = r'end_events_[0-9]*.csv'\n",
    "file_path_regex = None\n",
    "\n",
    "assert_all_cols_equal=True\n",
    "include_normalize_by_nSNs=True\n",
    "inclue_zero_counts=True\n",
    "return_multiindex_outg_reason=False\n",
    "return_normalized_separately=False\n",
    "\n",
    "if include_normalize_by_nSNs and not return_normalized_separately:\n",
    "    normalize_by_nSNs_included=True\n",
    "else:\n",
    "    normalize_by_nSNs_included=False\n",
    "    \n",
    "xfmr_equip_typ_nms_of_interest = ['TRANSFORMER, OH', 'TRANSFORMER, UG']\n",
    "\n",
    "# save_dir_base_pkls = os.path.join(Utilities.get_local_data_dir(), r'dovs_and_end_events_data', 'rcpo_dfs', 'BEFORE_BACKFILL')\n",
    "# save_dir_base_pkls = os.path.join(Utilities.get_local_data_dir(), r'dovs_and_end_events_data', 'rcpo_dfs_NEW')\n",
    "save_dir_base_pkls = os.path.join(Utilities.get_local_data_dir(), r'dovs_and_end_events_data', 'rcpo_dfs_GRP_BY_OUTG_AND_XFMR')\n",
    "\n",
    "normalize_by_time_interval=True\n",
    "\n",
    "include_power_down_minus_up = False"
   ]
  },
  {
   "cell_type": "markdown",
   "id": "16f36d3d",
   "metadata": {},
   "source": [
    "# SAVE OR LOAD"
   ]
  },
  {
   "cell_type": "code",
   "execution_count": null,
   "id": "92933a2b",
   "metadata": {},
   "outputs": [],
   "source": [
    "combine_others=True\n",
    "save_dir_model_base = r'C:\\Users\\s346557\\Documents\\LocalData\\dovs_and_end_events_data\\20221216\\Models'\n",
    "\n",
    "\n",
    "merged_df_full=pd.read_pickle(os.path.join(save_dir_model_base, 'merged_df_full.pkl'))\n",
    "#-------------------------\n",
    "with open(os.path.join(save_dir_model_base, 'counts_series_full.pkl'), 'rb') as handle:\n",
    "    counts_series_full = pickle.load(handle)"
   ]
  },
  {
   "cell_type": "code",
   "execution_count": null,
   "id": "57c08e24",
   "metadata": {},
   "outputs": [],
   "source": [
    "# print(merged_df_full.shape)\n",
    "# #-----\n",
    "# merged_df_full = MECPOCollection.get_top_reasons_subset_from_merged_cpo_df(\n",
    "#     merged_cpo_df=merged_df_full,\n",
    "#     how='per_mecpo_an', \n",
    "#     n_reasons_to_include=10,\n",
    "#     combine_others=combine_others,\n",
    "#     output_combine_others_col='Other Reasons',\n",
    "#     SNs_tags=None, \n",
    "#     is_norm=True, \n",
    "#     counts_series=counts_series_full\n",
    "# )\n",
    "# #-----\n",
    "# print(merged_df_full.shape)"
   ]
  },
  {
   "cell_type": "code",
   "execution_count": null,
   "id": "211a7da6",
   "metadata": {},
   "outputs": [],
   "source": [
    "merged_df_full=MECPOCollection.get_total_event_counts_for_merged_cpo_df(merged_df_full)\n",
    "assert(len(set(merged_df_full.index).difference(set(counts_series_full.index)))==0)\n",
    "merged_df_full = pd.merge(\n",
    "    merged_df_full, \n",
    "    counts_series_full.to_frame(name=('nSNs', 'nSNs')), \n",
    "    left_index=True, right_index=True, how='inner')"
   ]
  },
  {
   "cell_type": "code",
   "execution_count": null,
   "id": "4b826bfa",
   "metadata": {},
   "outputs": [],
   "source": [
    "print(merged_df_full.shape)"
   ]
  },
  {
   "cell_type": "code",
   "execution_count": null,
   "id": "bb85d0c5",
   "metadata": {},
   "outputs": [],
   "source": [
    "merged_df_full"
   ]
  },
  {
   "cell_type": "code",
   "execution_count": null,
   "id": "278bfd59",
   "metadata": {},
   "outputs": [],
   "source": []
  },
  {
   "cell_type": "markdown",
   "id": "b6b78447",
   "metadata": {},
   "source": [
    "# BEG DEV"
   ]
  },
  {
   "cell_type": "code",
   "execution_count": null,
   "id": "b07b8aa7",
   "metadata": {},
   "outputs": [],
   "source": [
    "merged_df_full = DOVSOutages.append_outg_info_to_df(\n",
    "    df=merged_df_full, \n",
    "    outg_rec_nb_idfr=('index', 'outg_rec_nb'), \n",
    "    build_sql_function=DOVSOutages_SQL.build_sql_std_outage, \n",
    ")"
   ]
  },
  {
   "cell_type": "code",
   "execution_count": null,
   "id": "fbe5a823",
   "metadata": {},
   "outputs": [],
   "source": [
    "merged_df_full.drop(columns=['outg_dummy_lvl_0'])"
   ]
  },
  {
   "cell_type": "code",
   "execution_count": null,
   "id": "8a1b5b2a",
   "metadata": {},
   "outputs": [],
   "source": [
    "merged_df_full"
   ]
  },
  {
   "cell_type": "code",
   "execution_count": null,
   "id": "3c9cf7a4",
   "metadata": {},
   "outputs": [],
   "source": [
    "merged_df_full[('is_outg', 'is_outg')] = 0\n",
    "#-----\n",
    "slicer = DFSlicer(\n",
    "    single_slicers = [\n",
    "        dict(\n",
    "            column=('outg_dummy_lvl_0', 'LOCATION_ID'), \n",
    "            value=merged_df_full.index.get_level_values(1), \n",
    "            comparison_operator='=='\n",
    "        ), \n",
    "        dict(\n",
    "            column=('outg_dummy_lvl_0', 'EQUIP_TYP_NM'), \n",
    "            value=xfmr_equip_typ_nms_of_interest, \n",
    "            comparison_operator='isin'\n",
    "        )\n",
    "    ]\n",
    ")\n",
    "#-----"
   ]
  },
  {
   "cell_type": "code",
   "execution_count": null,
   "id": "f84ba317",
   "metadata": {},
   "outputs": [],
   "source": [
    "merged_df_full_prim_strict = slicer.perform_slicing(df=merged_df_full.copy())"
   ]
  },
  {
   "cell_type": "code",
   "execution_count": null,
   "id": "e5e7183d",
   "metadata": {},
   "outputs": [],
   "source": [
    "merged_df_full = slicer.set_simple_column_value(df=merged_df_full, column=('is_outg', 'is_outg'), value=1)"
   ]
  },
  {
   "cell_type": "code",
   "execution_count": null,
   "id": "fb7f9b17",
   "metadata": {},
   "outputs": [],
   "source": [
    "merged_df_full[('is_outg', 'is_outg')].sum()"
   ]
  },
  {
   "cell_type": "code",
   "execution_count": null,
   "id": "0c638d4d",
   "metadata": {},
   "outputs": [],
   "source": [
    "merged_df_full[merged_df_full[('is_outg', 'is_outg')]==1]"
   ]
  },
  {
   "cell_type": "code",
   "execution_count": null,
   "id": "1bb86e38",
   "metadata": {},
   "outputs": [],
   "source": [
    "merged_df_full[('outg_dummy_lvl_0', 'MJR_CAUSE_NM')].unique()"
   ]
  },
  {
   "cell_type": "code",
   "execution_count": null,
   "id": "71a107f8",
   "metadata": {
    "scrolled": true
   },
   "outputs": [],
   "source": [
    "natsorted(merged_df_full[('outg_dummy_lvl_0', 'MNR_CAUSE_NM')].unique().tolist())"
   ]
  },
  {
   "cell_type": "code",
   "execution_count": null,
   "id": "250c3c23",
   "metadata": {},
   "outputs": [],
   "source": [
    "merged_df_full[('outg_dummy_lvl_0', 'MNR_CAUSE_NM')].value_counts()"
   ]
  },
  {
   "cell_type": "code",
   "execution_count": null,
   "id": "1d8d235f",
   "metadata": {},
   "outputs": [],
   "source": [
    "merged_df_full_prim_strict[('outg_dummy_lvl_0', 'MNR_CAUSE_NM')].value_counts()"
   ]
  },
  {
   "cell_type": "code",
   "execution_count": null,
   "id": "61181cd4",
   "metadata": {},
   "outputs": [],
   "source": [
    "natsorted(merged_df_full[('outg_dummy_lvl_0', 'EQUIP_TYP_NM')].unique().tolist())"
   ]
  },
  {
   "cell_type": "code",
   "execution_count": null,
   "id": "d81cf0c7",
   "metadata": {},
   "outputs": [],
   "source": [
    "merged_df_full[('outg_dummy_lvl_0', 'EQUIP_TYP_NM')]"
   ]
  },
  {
   "cell_type": "code",
   "execution_count": null,
   "id": "9c09eafe",
   "metadata": {},
   "outputs": [],
   "source": [
    "pd.merge(merged_df_full['01-05 Days'], merged_df_full[[('outg_dummy_lvl_0', 'EQUIP_TYP_NM')]], left_index=True, right_index=True)"
   ]
  },
  {
   "cell_type": "code",
   "execution_count": null,
   "id": "dcb9415c",
   "metadata": {},
   "outputs": [],
   "source": []
  },
  {
   "cell_type": "code",
   "execution_count": null,
   "id": "564d1314",
   "metadata": {},
   "outputs": [],
   "source": [
    "ax = sns.barplot(\n",
    "    data=pd.merge(merged_df_full['01-05 Days'], merged_df_full[[('outg_dummy_lvl_0', 'EQUIP_TYP_NM')]], left_index=True, right_index=True)\n",
    ")\n",
    "ax.tick_params(axis='x', labelrotation=90)"
   ]
  },
  {
   "cell_type": "code",
   "execution_count": null,
   "id": "c804c4a7",
   "metadata": {},
   "outputs": [],
   "source": [
    "merged_df_full[[('outg_dummy_lvl_0', 'EQUIP_TYP_NM')]]"
   ]
  },
  {
   "cell_type": "code",
   "execution_count": null,
   "id": "3aaa1939",
   "metadata": {},
   "outputs": [],
   "source": [
    "merged_df_full[('outg_dummy_lvl_0', 'EQUIP_TYP_NM')].value_counts()"
   ]
  },
  {
   "cell_type": "code",
   "execution_count": null,
   "id": "4ed67fd1",
   "metadata": {},
   "outputs": [],
   "source": []
  },
  {
   "cell_type": "code",
   "execution_count": null,
   "id": "7c4de221",
   "metadata": {},
   "outputs": [],
   "source": [
    "dfs_w_args = []\n",
    "dfs_w_args.append((merged_df_full['01-05 Days'].drop(columns=['total_counts']), dict(label='All Equip. Types')))\n",
    "for i,equip_typ in enumerate(merged_df_full[('outg_dummy_lvl_0', 'EQUIP_TYP_NM')].value_counts().index.tolist()):\n",
    "    if i>4:\n",
    "        continue\n",
    "    df_i = merged_df_full[merged_df_full[('outg_dummy_lvl_0', 'EQUIP_TYP_NM')]==equip_typ]['01-05 Days'].drop(columns=['total_counts']).copy()\n",
    "    dfs_w_args.append((df_i, dict(label=equip_typ)))"
   ]
  },
  {
   "cell_type": "code",
   "execution_count": null,
   "id": "6978de9d",
   "metadata": {},
   "outputs": [],
   "source": [
    "fig, ax = Plot_General.default_subplots(n_x=1, n_y=1)\n",
    "Plot_Bar.plot_multiple_barplots(\n",
    "    ax=ax, \n",
    "    dfs_w_args=dfs_w_args, \n",
    "    draw_side_by_side=True\n",
    ")\n",
    "ax.tick_params(axis='x', labelrotation=90)\n",
    "plt.legend()"
   ]
  },
  {
   "cell_type": "code",
   "execution_count": null,
   "id": "40b1a0d2",
   "metadata": {},
   "outputs": [],
   "source": []
  },
  {
   "cell_type": "code",
   "execution_count": null,
   "id": "db8172d3",
   "metadata": {},
   "outputs": [],
   "source": []
  },
  {
   "cell_type": "markdown",
   "id": "ac2bc9d9",
   "metadata": {},
   "source": [
    "# END DEV"
   ]
  },
  {
   "cell_type": "code",
   "execution_count": null,
   "id": "95f160ca",
   "metadata": {},
   "outputs": [],
   "source": []
  },
  {
   "cell_type": "code",
   "execution_count": null,
   "id": "3ac6a762",
   "metadata": {},
   "outputs": [],
   "source": [
    "# REMOVING SCHEDULED OUTAGES\n",
    "print(f'merged_df_full.shape = {merged_df_full.shape}')\n",
    "#-----\n",
    "merged_df_full =  MECPODf.get_cpo_df_subset_excluding_mjr_mnr_causes( \n",
    "    cpo_df=merged_df_full, \n",
    "    mjr_mnr_causes_to_exclude=None, \n",
    "    mjr_causes_to_exclude=None,\n",
    "    mnr_causes_to_exclude=['SCO', 'SO'], \n",
    "    outg_rec_nb_col='index'\n",
    ")\n",
    "#-----\n",
    "print(f'merged_df_full.shape = {merged_df_full.shape}')"
   ]
  },
  {
   "cell_type": "code",
   "execution_count": null,
   "id": "e33c4e21",
   "metadata": {},
   "outputs": [],
   "source": [
    "# Remove NETWORK and PRIMARY trsf_pole_nbs\n",
    "merged_df_full=merged_df_full[~merged_df_full.index.get_level_values(1).isin(['NETWORK', 'PRIMARY'])]"
   ]
  },
  {
   "cell_type": "code",
   "execution_count": null,
   "id": "8135421b",
   "metadata": {},
   "outputs": [],
   "source": [
    "# Keep only equipment failures for now\n",
    "merged_df_full = merged_df_full[merged_df_full[('outg_dummy_lvl_0', 'MNR_CAUSE_NM')]=='EQUIPMENT FAILURE']"
   ]
  },
  {
   "cell_type": "code",
   "execution_count": null,
   "id": "3aa8eeba",
   "metadata": {},
   "outputs": [],
   "source": []
  },
  {
   "cell_type": "code",
   "execution_count": null,
   "id": "49482aec",
   "metadata": {},
   "outputs": [],
   "source": [
    "full_data_df = merged_df_full.copy()\n",
    "print(full_data_df.shape)"
   ]
  },
  {
   "cell_type": "markdown",
   "id": "cc6b3eb9",
   "metadata": {},
   "source": [
    "# =========================================================\n",
    "# ========================================================="
   ]
  },
  {
   "cell_type": "markdown",
   "id": "b0c66c19",
   "metadata": {},
   "source": [
    "# EEMSP"
   ]
  },
  {
   "cell_type": "code",
   "execution_count": null,
   "id": "47c6bd2c",
   "metadata": {},
   "outputs": [],
   "source": [
    "from EEMSP import EEMSP\n",
    "def build_df_eemsp(conn_eemsp, trsf_pole_nbs, batch_size=1000, verbose=True, n_update=10):\n",
    "    return_df = pd.DataFrame()\n",
    "    n_batches = int(np.ceil(len(trsf_pole_nbs)/batch_size))\n",
    "    if verbose:\n",
    "        print(f'n_trsf_pole_nbs = {len(trsf_pole_nbs)}')\n",
    "        print(f'batch_size = {batch_size}')\n",
    "        print(f'n_batches = {n_batches}')\n",
    "    for i in range(n_batches):\n",
    "        if verbose and (i+1)%n_update==0:\n",
    "            print(f'{i+1}/{n_batches}')\n",
    "        i_beg = i*batch_size\n",
    "        i_end = (i+1)*batch_size\n",
    "        if i==n_batches-1:\n",
    "            i_end = len(trsf_pole_nbs)\n",
    "        sql_eemsp_i = EEMSP.build_sql_eemsp_oracle(trsf_pole_nbs[i_beg:i_end])\n",
    "        df_eemsp_i = pd.read_sql_query(sql_eemsp_i, conn_eemsp)\n",
    "        #-----\n",
    "        if return_df.shape[0]>0:\n",
    "            assert(all(df_eemsp_i.columns==return_df.columns))\n",
    "        return_df = return_df.append(df_eemsp_i)\n",
    "    return return_df    "
   ]
  },
  {
   "cell_type": "code",
   "execution_count": null,
   "id": "87675af5",
   "metadata": {},
   "outputs": [],
   "source": [
    "merge_eemsp = False"
   ]
  },
  {
   "cell_type": "code",
   "execution_count": null,
   "id": "fedf5b7b",
   "metadata": {},
   "outputs": [],
   "source": [
    "if merge_eemsp:\n",
    "    trsf_pole_nbs = full_data_df.index.get_level_values(1).unique().tolist()"
   ]
  },
  {
   "cell_type": "code",
   "execution_count": null,
   "id": "811eef30",
   "metadata": {},
   "outputs": [],
   "source": [
    "if merge_eemsp:\n",
    "    conn_eemsp = Utilities.get_eemsp_oracle_connection()\n",
    "    df_eemsp_OG = build_df_eemsp(conn_eemsp, trsf_pole_nbs, batch_size=1000, verbose=True, n_update=10)"
   ]
  },
  {
   "cell_type": "code",
   "execution_count": null,
   "id": "7d6b02ac",
   "metadata": {},
   "outputs": [],
   "source": [
    "if merge_eemsp:\n",
    "    df_eemsp = df_eemsp_OG.copy()\n",
    "    print(df_eemsp.shape)\n",
    "    print(df_eemsp.columns)"
   ]
  },
  {
   "cell_type": "code",
   "execution_count": null,
   "id": "c77bd8b6",
   "metadata": {},
   "outputs": [],
   "source": [
    "if merge_eemsp:\n",
    "    df_eemsp.head()"
   ]
  },
  {
   "cell_type": "code",
   "execution_count": null,
   "id": "052113b3",
   "metadata": {},
   "outputs": [],
   "source": [
    "if merge_eemsp:\n",
    "    df_eemsp.nunique()"
   ]
  },
  {
   "cell_type": "code",
   "execution_count": null,
   "id": "90cfc9e0",
   "metadata": {},
   "outputs": [],
   "source": [
    "if merge_eemsp:\n",
    "    df_eemsp['LOCATION_NB'].value_counts()"
   ]
  },
  {
   "cell_type": "code",
   "execution_count": null,
   "id": "28c0cab4",
   "metadata": {},
   "outputs": [],
   "source": [
    "if merge_eemsp:\n",
    "    df_eemsp[df_eemsp['LOCATION_NB']=='40830909C30063']"
   ]
  },
  {
   "cell_type": "code",
   "execution_count": null,
   "id": "7ba17237",
   "metadata": {},
   "outputs": [],
   "source": [
    "if merge_eemsp:\n",
    "    df_eemsp[df_eemsp['LOCATION_NB']=='40830909C30063'].nunique()"
   ]
  },
  {
   "cell_type": "code",
   "execution_count": null,
   "id": "ce45efec",
   "metadata": {},
   "outputs": [],
   "source": [
    "if merge_eemsp:\n",
    "    df_eemsp = df_eemsp.sort_values(by=['LOCATION_NB', 'INSTALL_DT'], ignore_index=True)\n",
    "    df_eemsp = df_eemsp.groupby('LOCATION_NB', as_index=False).first()"
   ]
  },
  {
   "cell_type": "code",
   "execution_count": null,
   "id": "c40c0c7f",
   "metadata": {},
   "outputs": [],
   "source": []
  },
  {
   "cell_type": "code",
   "execution_count": null,
   "id": "aad29b42",
   "metadata": {},
   "outputs": [],
   "source": [
    "if merge_eemsp:\n",
    "    cols_of_interest_eemsp = [\n",
    "        'LOCATION_NB', \n",
    "        'MFGR_NM', \n",
    "        'INSTALL_DT', \n",
    "        'LAST_TRANS_DESC', \n",
    "        'EQTYPE_ID', \n",
    "        'COOLANT', \n",
    "        'INFO', \n",
    "        'KVA_SIZE',\n",
    "        'PHASE_CNT', \n",
    "        'PRIM_VOLTAGE', \n",
    "        'PROTECTION', \n",
    "        'PRU_NUMBER', \n",
    "        'SEC_VOLTAGE', \n",
    "        'SPECIAL_CHAR', \n",
    "        'TAPS', \n",
    "        'XFTYPE'\n",
    "    ]\n",
    "    # df_eemsp=df_eemsp[df_eemsp['REMOVAL_DT'].isna()]\n",
    "    df_eemsp=df_eemsp[cols_of_interest_eemsp]"
   ]
  },
  {
   "cell_type": "code",
   "execution_count": null,
   "id": "15603f61",
   "metadata": {},
   "outputs": [],
   "source": [
    "if merge_eemsp:\n",
    "    print(df_eemsp.shape[0])\n",
    "    print(df_eemsp['LOCATION_NB'].nunique())\n",
    "    print(len(trsf_pole_nbs))"
   ]
  },
  {
   "cell_type": "code",
   "execution_count": null,
   "id": "d52a5ddc",
   "metadata": {},
   "outputs": [],
   "source": [
    "if merge_eemsp:\n",
    "    yesdata = full_data_df[full_data_df.index.get_level_values(1).isin(df_eemsp['LOCATION_NB'].unique())]\n",
    "    nodata = full_data_df[~full_data_df.index.get_level_values(1).isin(df_eemsp['LOCATION_NB'].unique())]"
   ]
  },
  {
   "cell_type": "code",
   "execution_count": null,
   "id": "73d13733",
   "metadata": {},
   "outputs": [],
   "source": [
    "if merge_eemsp:\n",
    "    print((yesdata[('is_outg', 'is_outg')]>0).sum())\n",
    "    print(yesdata.shape[0])"
   ]
  },
  {
   "cell_type": "code",
   "execution_count": null,
   "id": "b1847e2f",
   "metadata": {},
   "outputs": [],
   "source": [
    "if merge_eemsp:\n",
    "    print((nodata[('is_outg', 'is_outg')]>0).sum())\n",
    "    print(nodata.shape[0])"
   ]
  },
  {
   "cell_type": "code",
   "execution_count": null,
   "id": "ee0bfc72",
   "metadata": {},
   "outputs": [],
   "source": [
    "if merge_eemsp:\n",
    "    print((full_data_df[('is_outg', 'is_outg')]>0).sum())\n",
    "    print(full_data_df.shape[0])"
   ]
  },
  {
   "cell_type": "code",
   "execution_count": null,
   "id": "cb689f04",
   "metadata": {},
   "outputs": [],
   "source": [
    "if merge_eemsp:\n",
    "    print(full_data_df.shape)"
   ]
  },
  {
   "cell_type": "code",
   "execution_count": null,
   "id": "37421e69",
   "metadata": {},
   "outputs": [],
   "source": []
  },
  {
   "cell_type": "code",
   "execution_count": null,
   "id": "36e65dd0",
   "metadata": {},
   "outputs": [],
   "source": [
    "if merge_eemsp:\n",
    "    full_data_df = full_data_df[full_data_df.index.get_level_values(1).isin(df_eemsp['LOCATION_NB'].unique())]\n",
    "    #-------------------------\n",
    "    print(full_data_df.shape)\n",
    "    #-------------------------\n",
    "    df_eemsp = Utilities_df.prepend_level_to_MultiIndex(df_eemsp, level_val='EEMSP', axis=1)\n",
    "    #-------------------------\n",
    "    full_data_df = pd.merge(\n",
    "        full_data_df, \n",
    "        df_eemsp.set_index(('EEMSP', 'LOCATION_NB')), \n",
    "        left_on=full_data_df.index.get_level_values(1), \n",
    "        right_index=True, \n",
    "        how='inner'\n",
    "    )\n",
    "    full_data_df = Utilities_df.move_cols_to_back(full_data_df, [('is_outg', 'is_outg')])    "
   ]
  },
  {
   "cell_type": "code",
   "execution_count": null,
   "id": "6a7b3f61",
   "metadata": {},
   "outputs": [],
   "source": []
  },
  {
   "cell_type": "code",
   "execution_count": null,
   "id": "70ac2ff5",
   "metadata": {},
   "outputs": [],
   "source": []
  },
  {
   "cell_type": "code",
   "execution_count": null,
   "id": "abc42ee8",
   "metadata": {},
   "outputs": [],
   "source": []
  },
  {
   "cell_type": "markdown",
   "id": "bf029347",
   "metadata": {},
   "source": [
    "# =========================================================\n",
    "# ========================================================="
   ]
  },
  {
   "cell_type": "code",
   "execution_count": null,
   "id": "0c2ca611",
   "metadata": {},
   "outputs": [],
   "source": [
    "#NOTE!!!!!!!!!!!!!\n",
    "# If using _v2, SHOULD NOT SCALE events_period column!!!!!!!!!!!!\n",
    "\n",
    "create_validation_set = True\n",
    "test_size = 0.33\n",
    "val_size = 0.10 #w.r.t to train size (i.e., w.r.t 1.0-test_size)\n",
    "\n",
    "run_scaler=True\n",
    "\n",
    "run_PCA = False\n",
    "pca_n_components=0.95\n",
    "\n",
    "# random_state = 42\n",
    "random_state = None"
   ]
  },
  {
   "cell_type": "code",
   "execution_count": null,
   "id": "d59d93df",
   "metadata": {},
   "outputs": [],
   "source": [
    "if merge_eemsp:\n",
    "    full_data_df=full_data_df.drop(columns=[('key_0', '')])\n",
    "    \n",
    "    le = preprocessing.LabelEncoder()\n",
    "    cols_to_encode = full_data_df['EEMSP'].columns\n",
    "    for col in cols_to_encode:\n",
    "        full_data_df[('EEMSP', col)] = le.fit_transform(full_data_df[('EEMSP', col)])"
   ]
  },
  {
   "cell_type": "markdown",
   "id": "f2fba3de",
   "metadata": {},
   "source": [
    "# Prepare Data"
   ]
  },
  {
   "cell_type": "code",
   "execution_count": null,
   "id": "17b8fe2c",
   "metadata": {},
   "outputs": [],
   "source": [
    "full_data_df=full_data_df.drop(columns=['outg_dummy_lvl_0'])\n",
    "full_data_df = Utilities_df.move_cols_to_back(full_data_df, [('is_outg', 'is_outg')])"
   ]
  },
  {
   "cell_type": "code",
   "execution_count": null,
   "id": "3150f9c2",
   "metadata": {},
   "outputs": [],
   "source": []
  },
  {
   "cell_type": "code",
   "execution_count": null,
   "id": "ccf9d2ee",
   "metadata": {},
   "outputs": [],
   "source": [
    "# print(full_data_df.shape)\n",
    "# full_data_df = full_data_df.drop(columns=full_data_df.columns[full_data_df.mean()==0])\n",
    "# print(full_data_df.shape)\n",
    "#-------------------------\n",
    "X = full_data_df.iloc[:, :-1]\n",
    "y = full_data_df.iloc[:, -1]\n",
    "#-------------------------\n",
    "pct_outages = y.sum()/y.shape[0]\n",
    "pct_no_outg = 1.0 - pct_outages\n",
    "print(f'pct_outages = {pct_outages}')\n",
    "print(f'pct_no_outg = {pct_no_outg}')\n",
    "#-------------------------\n",
    "X_train_OG, X_test_OG, y_train, y_test = train_test_split(X, y, test_size=test_size, random_state=random_state)\n",
    "#-------------------------\n",
    "print(f'X_train_OG.shape[0]: {X_train_OG.shape[0]}')\n",
    "print(f'X_test_OG.shape[0]:  {X_test_OG.shape[0]}')"
   ]
  },
  {
   "cell_type": "code",
   "execution_count": null,
   "id": "ec1fff5f",
   "metadata": {},
   "outputs": [],
   "source": [
    "fig, axs = Plot_General.default_subplots(2,2, return_flattened_axes=True)\n",
    "#-------------------------\n",
    "sns.countplot(ax=axs[0], x = ('is_outg', 'is_outg'), data=full_data_df)\n",
    "axs[0].set_title('Full Data');\n",
    "axs[0].set_xlabel('Is Outage');\n",
    "axs[0].set_ylim([1.05*x for x in axs[0].get_ylim()])\n",
    "for p in axs[0].patches:\n",
    "    pct = (p.get_height()/full_data_df.shape[0]).round(5)\n",
    "    txt = f'{pct}%'\n",
    "    txt_x = p.get_x() \n",
    "    txt_y = 1.025*p.get_height()\n",
    "    axs[0].text(txt_x,txt_y,txt)\n",
    "#-------------------------\n",
    "sns.countplot(ax=axs[1], x = ('is_outg', 'is_outg'), data=y_train.to_frame())\n",
    "axs[1].set_title('Training Data');\n",
    "axs[1].set_xlabel('Is Outage');\n",
    "axs[1].set_ylim([1.05*x for x in axs[1].get_ylim()])\n",
    "for p in axs[1].patches:\n",
    "    pct = (p.get_height()/y_train.shape[0]).round(5)\n",
    "    txt = f'{pct}%'\n",
    "    txt_x = p.get_x() \n",
    "    txt_y = 1.025*p.get_height()\n",
    "    axs[1].text(txt_x,txt_y,txt)\n",
    "#-------------------------\n",
    "sns.countplot(ax=axs[2], x = ('is_outg', 'is_outg'), data=y_test.to_frame())\n",
    "axs[2].set_title('Testing Data');\n",
    "axs[2].set_xlabel('Is Outage');\n",
    "axs[2].set_ylim([1.05*x for x in axs[2].get_ylim()])\n",
    "for p in axs[2].patches:\n",
    "    pct = (p.get_height()/y_test.shape[0]).round(5)\n",
    "    txt = f'{pct}%'\n",
    "    txt_x = p.get_x() \n",
    "    txt_y = 1.025*p.get_height()\n",
    "    axs[2].text(txt_x,txt_y,txt)"
   ]
  },
  {
   "cell_type": "code",
   "execution_count": null,
   "id": "855c6b9c",
   "metadata": {},
   "outputs": [],
   "source": []
  },
  {
   "cell_type": "code",
   "execution_count": null,
   "id": "45927394",
   "metadata": {},
   "outputs": [],
   "source": []
  },
  {
   "cell_type": "code",
   "execution_count": null,
   "id": "7ef496fe",
   "metadata": {},
   "outputs": [],
   "source": []
  },
  {
   "cell_type": "code",
   "execution_count": null,
   "id": "4434060c",
   "metadata": {},
   "outputs": [],
   "source": [
    "#-------------------------\n",
    "if create_validation_set:\n",
    "    X_train_OG, X_val_OG, y_train, y_val = train_test_split(X_train_OG, y_train, test_size=val_size, random_state=random_state)\n",
    "#-------------------------\n",
    "if run_scaler:\n",
    "    scaler = StandardScaler()\n",
    "    X_train = scaler.fit_transform(X_train_OG)\n",
    "    #-----\n",
    "    X_val   = scaler.transform(X_val_OG)\n",
    "    X_test  = scaler.transform(X_test_OG)\n",
    "#     X_HOLDOUT   = scaler.transform(X_HOLDOUT)\n",
    "else:\n",
    "    X_train = X_train_OG\n",
    "    X_val   = X_val_OG\n",
    "    X_test  = X_test_OG"
   ]
  },
  {
   "cell_type": "code",
   "execution_count": null,
   "id": "312d8f2f",
   "metadata": {},
   "outputs": [],
   "source": [
    "if run_PCA:\n",
    "    # First, generate a PCA plot, showing the explained variance on the y-axis and number of components on x\n",
    "    # This is simply to check that the number of components kept looks correct\n",
    "    pca = PCA()\n",
    "    pca.fit(X_train)\n",
    "    cumsum = np.cumsum(pca.explained_variance_ratio_)\n",
    "    plt.plot(cumsum)\n",
    "    \n",
    "    # Now, run the PCA with pca_n_components and perform transforms\n",
    "    pca=PCA(n_components=pca_n_components)\n",
    "    X_train = pca.fit_transform(X_train)\n",
    "    print(f'PCA n-components       = {pca.n_components_}')\n",
    "    print(f'PCA explained variance = {pca.explained_variance_ratio_.sum()}')\n",
    "    #-----\n",
    "    X_val   = pca.transform(X_val)\n",
    "    X_test  = pca.transform(X_test)"
   ]
  },
  {
   "cell_type": "code",
   "execution_count": null,
   "id": "565343a4",
   "metadata": {},
   "outputs": [],
   "source": []
  },
  {
   "cell_type": "markdown",
   "id": "806e071f",
   "metadata": {},
   "source": [
    "# Dumb Classifier"
   ]
  },
  {
   "cell_type": "code",
   "execution_count": null,
   "id": "0b2dc107",
   "metadata": {},
   "outputs": [],
   "source": [
    "dumb_clf = DumbClassifier()\n",
    "cross_val_score(dumb_clf, X_train, y_train, cv=3, scoring='accuracy')"
   ]
  },
  {
   "cell_type": "code",
   "execution_count": null,
   "id": "cdd2d1e6",
   "metadata": {},
   "outputs": [],
   "source": [
    "# y_pred = dumb_clf.predict(X_test)\n",
    "# print(\"ACCURACY  OF THE MODEL: \", accuracy_score(y_test, y_pred))\n",
    "# print(\"PRECISION OF THE MODEL: \", precision_score(y_test, y_pred))\n",
    "# print(\"RECALL    OF THE MODEL: \", recall_score(y_test, y_pred))"
   ]
  },
  {
   "cell_type": "code",
   "execution_count": null,
   "id": "ae9092fe",
   "metadata": {},
   "outputs": [],
   "source": [
    "# confusion_matrix(y_test, y_pred)"
   ]
  },
  {
   "cell_type": "code",
   "execution_count": null,
   "id": "a455a1e8",
   "metadata": {},
   "outputs": [],
   "source": []
  },
  {
   "cell_type": "markdown",
   "id": "0202b280",
   "metadata": {},
   "source": [
    "# Random Forest"
   ]
  },
  {
   "cell_type": "code",
   "execution_count": null,
   "id": "40851f4f",
   "metadata": {},
   "outputs": [],
   "source": [
    "# forest_clf = RandomForestClassifier(n_estimators = 100)\n",
    "# forest_clf = RandomForestClassifier(n_estimators = 1000, n_jobs=-1)\n",
    "# forest_clf = RandomForestClassifier(n_estimators = 1000, criterion='entropy', n_jobs=-1)\n",
    "\n",
    "# forest_clf = RandomForestClassifier(n_estimators = 1000, n_jobs=-1)\n",
    "# forest_clf = RandomForestClassifier(n_estimators = 1000, max_depth=25, n_jobs=-1)\n",
    "forest_clf = RandomForestClassifier(n_estimators = 1000, max_depth=25, n_jobs=None)"
   ]
  },
  {
   "cell_type": "code",
   "execution_count": null,
   "id": "d2d8d5d2",
   "metadata": {},
   "outputs": [],
   "source": [
    "start = time.time()\n",
    "forest_clf.fit(X_train, y_train)\n",
    "print(time.time()-start)"
   ]
  },
  {
   "cell_type": "code",
   "execution_count": null,
   "id": "6590edd1",
   "metadata": {},
   "outputs": [],
   "source": [
    "y_pred_train = forest_clf.predict(X_train)\n",
    "print('TRAINING DATASET')\n",
    "print(\"ACCURACY  OF THE MODEL: \", accuracy_score(y_train, y_pred_train))\n",
    "print(\"PRECISION OF THE MODEL: \", precision_score(y_train, y_pred_train))\n",
    "print(\"RECALL    OF THE MODEL: \", recall_score(y_train, y_pred_train))"
   ]
  },
  {
   "cell_type": "code",
   "execution_count": null,
   "id": "a78f43a2",
   "metadata": {},
   "outputs": [],
   "source": [
    "y_pred = forest_clf.predict(X_test)\n",
    "print('TESTING DATASET')\n",
    "print(\"ACCURACY  OF THE MODEL: \", accuracy_score(y_test, y_pred))\n",
    "print(\"PRECISION OF THE MODEL: \", precision_score(y_test, y_pred))\n",
    "print(\"RECALL    OF THE MODEL: \", recall_score(y_test, y_pred))"
   ]
  },
  {
   "cell_type": "code",
   "execution_count": null,
   "id": "50ce50f9",
   "metadata": {},
   "outputs": [],
   "source": []
  },
  {
   "cell_type": "code",
   "execution_count": null,
   "id": "f909ee40",
   "metadata": {},
   "outputs": [],
   "source": [
    "y_pred_train = forest_clf.predict(X_train)\n",
    "print('*****'*5)\n",
    "print('TRAINING DATASET')\n",
    "print('*****'*5)\n",
    "print(f\"#(target==1): {y_train.sum()}\")\n",
    "print(f\"#(target==0): {y_train.shape[0]-y_train.sum()}\")\n",
    "print(f\"%(target==1): {100*(y_train.sum()/(y_train.shape[0]))}\")\n",
    "print('-----'*5)\n",
    "print(\"ACCURACY  OF THE MODEL: \", accuracy_score(y_train, y_pred_train))\n",
    "print(\"PRECISION OF THE MODEL: \", precision_score(y_train, y_pred_train))\n",
    "print(\"RECALL    OF THE MODEL: \", recall_score(y_train, y_pred_train))\n",
    "print()\n",
    "\n",
    "y_pred = forest_clf.predict(X_test)\n",
    "print('*****'*5)\n",
    "print('TESTING DATASET')\n",
    "print('*****'*5)\n",
    "print(f\"#(target==1): {y_test.sum()}\")\n",
    "print(f\"#(target==0): {y_test.shape[0]-y_test.sum()}\")\n",
    "print(f\"%(target==1): {100*(y_test.sum()/(y_test.shape[0]))}\")\n",
    "print('-----'*5)\n",
    "print(\"ACCURACY  OF THE MODEL: \", accuracy_score(y_test, y_pred))\n",
    "print(\"PRECISION OF THE MODEL: \", precision_score(y_test, y_pred))\n",
    "print(\"RECALL    OF THE MODEL: \", recall_score(y_test, y_pred))\n",
    "print()"
   ]
  },
  {
   "cell_type": "code",
   "execution_count": null,
   "id": "fb6d26d4",
   "metadata": {},
   "outputs": [],
   "source": [
    "cmd = ConfusionMatrixDisplay(\n",
    "    confusion_matrix(y_test, y_pred), \n",
    "    display_labels=['No Outg.','Outage']\n",
    ")\n",
    "cmd.plot()\n",
    "# cmd.ax_.set(xlabel='Predicted', ylabel='True')\n",
    "cmd.ax_.set_xlabel('Predicted', fontsize=16)\n",
    "cmd.ax_.set_ylabel('True', fontsize=16)\n",
    "cmd.ax_.set_title('Test', fontsize=16)"
   ]
  },
  {
   "cell_type": "code",
   "execution_count": null,
   "id": "188c225c",
   "metadata": {},
   "outputs": [],
   "source": []
  },
  {
   "cell_type": "code",
   "execution_count": null,
   "id": "85aac16b",
   "metadata": {},
   "outputs": [],
   "source": [
    "# assert(0)"
   ]
  },
  {
   "cell_type": "code",
   "execution_count": null,
   "id": "3e5b5cfa",
   "metadata": {},
   "outputs": [],
   "source": [
    "confusion_matrix(y_test, y_pred)"
   ]
  },
  {
   "cell_type": "code",
   "execution_count": null,
   "id": "517bfc64",
   "metadata": {},
   "outputs": [],
   "source": [
    "confusion_matrix(y_test, y_pred, normalize='true')"
   ]
  },
  {
   "cell_type": "code",
   "execution_count": null,
   "id": "0b09af22",
   "metadata": {},
   "outputs": [],
   "source": [
    "confusion_matrix(y_test, y_pred, normalize='pred')"
   ]
  },
  {
   "cell_type": "code",
   "execution_count": null,
   "id": "0cf3e419",
   "metadata": {},
   "outputs": [],
   "source": [
    "confusion_matrix(y_test, y_pred, normalize='all')"
   ]
  },
  {
   "cell_type": "code",
   "execution_count": null,
   "id": "b5fff55e",
   "metadata": {},
   "outputs": [],
   "source": [
    "cmd = ConfusionMatrixDisplay(\n",
    "    confusion_matrix(y_test, y_pred), \n",
    "    display_labels=['No Outg.','Outage']\n",
    ")\n",
    "cmd.plot()\n",
    "# cmd.ax_.set(xlabel='Predicted', ylabel='True')\n",
    "cmd.ax_.set_xlabel('Predicted', fontsize=16)\n",
    "cmd.ax_.set_ylabel('True', fontsize=16)"
   ]
  },
  {
   "cell_type": "code",
   "execution_count": null,
   "id": "44160ccb",
   "metadata": {},
   "outputs": [],
   "source": [
    "cmd = ConfusionMatrixDisplay(\n",
    "    confusion_matrix(y_test, y_pred, normalize='pred'), \n",
    "    display_labels=['No Outg.','Outage']\n",
    ")\n",
    "cmd.plot()\n",
    "cmd.ax_.set(xlabel='Predicted', ylabel='True')"
   ]
  },
  {
   "cell_type": "code",
   "execution_count": null,
   "id": "2bfe2819",
   "metadata": {},
   "outputs": [],
   "source": [
    "importances = list(zip(full_data_df.columns, forest_clf.feature_importances_))\n",
    "# importances"
   ]
  },
  {
   "cell_type": "code",
   "execution_count": null,
   "id": "63b1d73f",
   "metadata": {
    "scrolled": true
   },
   "outputs": [],
   "source": [
    "importances_srtd = sorted(importances, key=lambda x: x[1], reverse=True)\n",
    "importances_srtd[:10]"
   ]
  },
  {
   "cell_type": "code",
   "execution_count": null,
   "id": "1a1e3cd1",
   "metadata": {},
   "outputs": [],
   "source": [
    "importances_srtd"
   ]
  },
  {
   "cell_type": "code",
   "execution_count": null,
   "id": "4db6e1cc",
   "metadata": {},
   "outputs": [],
   "source": [
    "pd.DataFrame(importances_srtd)"
   ]
  },
  {
   "cell_type": "code",
   "execution_count": null,
   "id": "c198688b",
   "metadata": {},
   "outputs": [],
   "source": [
    "for reason, importance in importances_srtd:\n",
    "    print(f\"{reason}:\\t{importance}\")"
   ]
  },
  {
   "cell_type": "code",
   "execution_count": null,
   "id": "39d29f61",
   "metadata": {},
   "outputs": [],
   "source": []
  },
  {
   "cell_type": "code",
   "execution_count": null,
   "id": "ca698ec5",
   "metadata": {},
   "outputs": [],
   "source": [
    "def build_latex_rf_importances_table(\n",
    "    importances_srtd, \n",
    "    n_round=10, \n",
    "    periods = [    \n",
    "        '01-05 Days',\n",
    "        '06-10 Days',\n",
    "        '11-15 Days',\n",
    "        '16-20 Days',\n",
    "        '21-25 Days',\n",
    "        '26-30 Days'\n",
    "    ], \n",
    "    save_path=None\n",
    "):\n",
    "    #-------------------------\n",
    "    latex_head = ['Period', 'Reason', 'Importance']\n",
    "    latex = r\"\"\"\n",
    "    \\begin{longtable}{|c|c|c|}\n",
    "      \\hline\n",
    "    \"\"\"\n",
    "    latex += \"  \" + ' & '.join(latex_head) + r'\\\\' + '\\n' + r'  \\hline' + '\\n'\n",
    "    #-------------------------\n",
    "    for col_i, importance_i in importances_srtd:\n",
    "        #----------\n",
    "        if col_i[0] in periods:\n",
    "            period_i=col_i[0]\n",
    "        else:\n",
    "            period_i=''\n",
    "        #----------\n",
    "        reason_i = col_i[1]\n",
    "        #----------\n",
    "        latex += r\"  {period_i} & {reason_i} & {importance_i:.{n_round}e}\\\\\".format(\n",
    "            period_i=period_i, reason_i=reason_i, importance_i=importance_i, n_round=n_round\n",
    "        )\n",
    "        latex += '\\n' + r'  \\hline' + '\\n'\n",
    "    #-------------------------\n",
    "    latex += r\"\\end{longtable}\"\n",
    "    #-------------------------\n",
    "    if save_path:\n",
    "        with open(save_path, 'w') as f:\n",
    "            f.write(latex)\n",
    "    #-------------------------\n",
    "    return latex"
   ]
  },
  {
   "cell_type": "code",
   "execution_count": null,
   "id": "e00df654",
   "metadata": {},
   "outputs": [],
   "source": [
    "latex = build_latex_rf_importances_table(\n",
    "    importances_srtd, \n",
    "    save_path=r'C:\\Users\\s346557\\Downloads\\test_latex.txt'\n",
    ")"
   ]
  },
  {
   "cell_type": "code",
   "execution_count": null,
   "id": "7a5de1ad",
   "metadata": {},
   "outputs": [],
   "source": []
  },
  {
   "cell_type": "code",
   "execution_count": null,
   "id": "5ed9ce86",
   "metadata": {},
   "outputs": [],
   "source": []
  },
  {
   "cell_type": "code",
   "execution_count": null,
   "id": "62f74200",
   "metadata": {},
   "outputs": [],
   "source": [
    "# forest_clf.estimators_\n",
    "est_depths = [estimator.get_depth() for estimator in forest_clf.estimators_]"
   ]
  },
  {
   "cell_type": "code",
   "execution_count": null,
   "id": "da72a6eb",
   "metadata": {},
   "outputs": [],
   "source": [
    "print(sorted(est_depths, reverse=False)[0])\n",
    "print(sorted(est_depths, reverse=True)[0])"
   ]
  },
  {
   "cell_type": "code",
   "execution_count": null,
   "id": "bf2c59d4",
   "metadata": {
    "scrolled": true
   },
   "outputs": [],
   "source": [
    "# # NOTE: Can be a single dict, or a list of dicts\n",
    "forest_param_grid = { \n",
    "    'n_estimators': [200, 500, 1000],\n",
    "    'max_features': ['auto', 'sqrt', 'log2'],\n",
    "    'max_depth' : [4,5,6,7,8],\n",
    "    'criterion' :['gini', 'entropy', 'log_loss'], \n",
    "    'bootstrap':[True,False]\n",
    "}\n",
    "\n",
    "# # forest_param_grid = { \n",
    "# #     'n_estimators': [500, 1000],\n",
    "# #     'max_features': ['auto', 'sqrt', 'log2'],\n",
    "# #     'bootstrap':[True,False]\n",
    "# # }\n",
    "\n",
    "# # forest_grid_search = GridSearchCV(\n",
    "# #     forest_clf, forest_param_grid, cv=3, \n",
    "# #     scoring=None, \n",
    "# #     return_train_score=True\n",
    "# # )\n",
    "\n",
    "forest_grid_search = RandomizedSearchCV(\n",
    "    forest_clf, forest_param_grid, cv=3, \n",
    "    scoring=None, \n",
    "    return_train_score=True\n",
    ")\n",
    "\n",
    "start = time.time()\n",
    "forest_grid_search.fit(X_train, y_train)\n",
    "print(time.time()-start)\n",
    "\n",
    "print(forest_grid_search.best_params_)\n",
    "print(forest_grid_search.best_estimator_)\n",
    "y_pred = forest_grid_search.best_estimator_.predict(X_test)\n",
    "print(\"ACCURACY  OF THE MODEL: \", accuracy_score(y_test, y_pred))\n",
    "print(\"PRECISION OF THE MODEL: \", precision_score(y_test, y_pred))\n",
    "print(\"RECALL    OF THE MODEL: \", recall_score(y_test, y_pred))"
   ]
  },
  {
   "cell_type": "code",
   "execution_count": null,
   "id": "38c6816a",
   "metadata": {},
   "outputs": [],
   "source": [
    "# # Number of trees in random forest\n",
    "# n_estimators = [int(x) for x in np.linspace(start = 200, stop = 2000, num = 10)]\n",
    "# # Number of features to consider at every split\n",
    "# max_features = ['auto', 'sqrt']\n",
    "# # Maximum number of levels in tree\n",
    "# max_depth = [int(x) for x in np.linspace(10, 110, num = 11)]\n",
    "# max_depth.append(None)\n",
    "# # Minimum number of samples required to split a node\n",
    "# min_samples_split = [2, 5, 10]\n",
    "# # Minimum number of samples required at each leaf node\n",
    "# min_samples_leaf = [1, 2, 4]\n",
    "# # Method of selecting samples for training each tree\n",
    "# bootstrap = [True, False]\n",
    "\n",
    "# #-------------------------\n",
    "# # Create the random grid\n",
    "# forest_param_grid = {\n",
    "#     'n_estimators': n_estimators,\n",
    "#     'max_features': max_features,\n",
    "#     'max_depth': max_depth,\n",
    "#     'min_samples_split': min_samples_split,\n",
    "#     'min_samples_leaf': min_samples_leaf,\n",
    "#     'bootstrap': bootstrap\n",
    "# }\n",
    "\n",
    "# forest_grid_search = RandomizedSearchCV(\n",
    "#     forest_clf, forest_param_grid, cv=3, \n",
    "#     scoring=None, \n",
    "#     return_train_score=True\n",
    "# )\n",
    "# #-------------------------\n",
    "# start = time.time()\n",
    "# forest_grid_search.fit(X_train, y_train)\n",
    "# print(time.time()-start)\n",
    "\n",
    "# print(forest_grid_search.best_params_)\n",
    "# print(forest_grid_search.best_estimator_)\n",
    "# y_pred = forest_grid_search.best_estimator_.predict(X_test)\n",
    "# print(\"ACCURACY  OF THE MODEL: \", accuracy_score(y_test, y_pred))\n",
    "# print(\"PRECISION OF THE MODEL: \", precision_score(y_test, y_pred))\n",
    "# print(\"RECALL    OF THE MODEL: \", recall_score(y_test, y_pred))"
   ]
  },
  {
   "cell_type": "code",
   "execution_count": null,
   "id": "dc4a7428",
   "metadata": {},
   "outputs": [],
   "source": []
  },
  {
   "cell_type": "code",
   "execution_count": null,
   "id": "27f38453",
   "metadata": {},
   "outputs": [],
   "source": []
  },
  {
   "cell_type": "code",
   "execution_count": null,
   "id": "6af51aa5",
   "metadata": {},
   "outputs": [],
   "source": [
    "X_by_confusion_result = get_X_entries_by_binary_confusion_matrix_result(X_test, y_test, y_pred)\n",
    "X_by_confusion_result = convert_X_by_confusion_results_to_dfs(\n",
    "    X_by_confusion_result=X_by_confusion_result, \n",
    "    full_data_df=full_data_df, \n",
    "    run_PCA=run_PCA, \n",
    "    run_scaler=run_scaler    \n",
    ")\n",
    "\n",
    "X_tp = X_by_confusion_result['X_tp']\n",
    "X_tn = X_by_confusion_result['X_tn']\n",
    "X_fp = X_by_confusion_result['X_fp']\n",
    "X_fn = X_by_confusion_result['X_fn']"
   ]
  },
  {
   "cell_type": "code",
   "execution_count": null,
   "id": "1dc873f5",
   "metadata": {},
   "outputs": [],
   "source": []
  },
  {
   "cell_type": "code",
   "execution_count": null,
   "id": "41e1d13e",
   "metadata": {},
   "outputs": [],
   "source": []
  },
  {
   "cell_type": "code",
   "execution_count": null,
   "id": "9b751fd8",
   "metadata": {},
   "outputs": [],
   "source": [
    "if run_PCA:\n",
    "    # All Dfs should have same column order already, so don't matter which \n",
    "    #   is used below\n",
    "    reason_order = X_tp.columns.tolist()\n",
    "else:\n",
    "    reason_order = [x[0] for x in importances_srtd]\n",
    "fig, axs = Plot_General.default_subplots(n_x=1, n_y=1, fig_num=1)\n",
    "Plot_Bar.plot_barplot(\n",
    "    axs, \n",
    "    X_fn, \n",
    "    order=reason_order, \n",
    "    n_bars_to_include=10, \n",
    "    replace_xtick_labels_with_ints=True, \n",
    "    add_xtick_labels_legend_textbox=True, \n",
    "    fig=fig, \n",
    "    xtick_labels_legend_textbox_kwargs=dict(fontsize=10), \n",
    "    tick_args=[dict(axis='x', labelrotation=90, labelsize=15), \n",
    "               dict(axis='y', labelsize=15)]\n",
    ")"
   ]
  },
  {
   "cell_type": "code",
   "execution_count": null,
   "id": "3e25d67a",
   "metadata": {},
   "outputs": [],
   "source": []
  },
  {
   "cell_type": "code",
   "execution_count": null,
   "id": "ad495605",
   "metadata": {},
   "outputs": [],
   "source": [
    "if run_PCA:\n",
    "    # All Dfs should have same column order already, so don't matter which \n",
    "    #   is used below\n",
    "    reason_order = X_tp.columns.tolist()\n",
    "else:\n",
    "    reason_order = [x[0] for x in importances_srtd]\n",
    "fig, axs = Plot_General.default_subplots(n_x=1, n_y=1, fig_num=1)\n",
    "Plot_Bar.plot_multiple_barplots(\n",
    "    axs, \n",
    "    [\n",
    "        (X_tp, dict(label='X_tp', color='green')), \n",
    "        (X_fn, dict(label='X_fn', edgecolor='green', fill=False, hatch='//')), \n",
    "        (X_tn, dict(label='X_tn', color='red')), \n",
    "        (X_fp, dict(label='X_fp', edgecolor='red', fill=False, hatch='//'))\n",
    "    ], \n",
    "    order=reason_order, \n",
    "    n_bars_to_include=20, \n",
    "    draw_side_by_side=True, \n",
    "    replace_xtick_labels_with_ints=True, \n",
    "    add_xtick_labels_legend_textbox=True, \n",
    "    fig=fig, \n",
    "    xtick_labels_legend_textbox_kwargs=dict(fontsize=10, n_cols=2), \n",
    "    tick_args=[dict(axis='x', labelrotation=90, labelsize=15), \n",
    "               dict(axis='y', labelsize=15)], \n",
    "    draw_legend=True\n",
    ")"
   ]
  },
  {
   "cell_type": "code",
   "execution_count": null,
   "id": "fc7173e0",
   "metadata": {},
   "outputs": [],
   "source": []
  },
  {
   "cell_type": "code",
   "execution_count": null,
   "id": "e6f39e4f",
   "metadata": {},
   "outputs": [],
   "source": [
    "optimize_n_reasons_per_plot=True\n",
    "n_reasons_per_plot = 20\n",
    "n_reasons_total_to_plot = None # If None, plot all\n",
    "n_x = 2\n",
    "include_xtick_labels_legend = False\n",
    "\n",
    "if run_PCA:\n",
    "    # All Dfs should have same column order already, so don't matter which \n",
    "    #   is used below\n",
    "    reason_order = X_tp.columns.tolist()\n",
    "else:\n",
    "    reason_order = [x[0] for x in importances_srtd]\n",
    "#-----\n",
    "fig,axs = draw_X_by_binary_confusion_result(\n",
    "    fig_num=0, \n",
    "    X_tp_w_args=X_tp, \n",
    "    X_fn_w_args=X_fn, \n",
    "    X_tn_w_args=X_tn, \n",
    "    X_fp_w_args=X_fp, \n",
    "    n_reasons_per_plot=n_reasons_per_plot, \n",
    "    n_reasons_total_to_plot=n_reasons_total_to_plot, \n",
    "    reason_order=reason_order, \n",
    "    n_x=n_x, \n",
    "    include_xtick_labels_legend=include_xtick_labels_legend\n",
    ")"
   ]
  },
  {
   "cell_type": "code",
   "execution_count": null,
   "id": "5bd509a2",
   "metadata": {},
   "outputs": [],
   "source": []
  },
  {
   "cell_type": "code",
   "execution_count": null,
   "id": "a02d634b",
   "metadata": {},
   "outputs": [],
   "source": [
    "optimize_n_reasons_per_plot=True\n",
    "n_reasons_per_plot = 20\n",
    "n_reasons_total_to_plot = None # If None, plot all\n",
    "n_x = 2\n",
    "include_xtick_labels_legend = False\n",
    "\n",
    "if run_PCA:\n",
    "    # All Dfs should have same column order already, so don't matter which \n",
    "    #   is used below\n",
    "    reason_order = X_tp.columns.tolist()\n",
    "else:\n",
    "    reason_order = [x[0] for x in importances_srtd]\n",
    "#-----\n",
    "fig,axs = draw_X_by_binary_confusion_result(\n",
    "    fig_num=0, \n",
    "    X_tp_w_args=X_tp, \n",
    "    X_fn_w_args=X_fn, \n",
    "    X_tn_w_args=None, \n",
    "    X_fp_w_args=None, \n",
    "    n_reasons_per_plot=n_reasons_per_plot, \n",
    "    n_reasons_total_to_plot=n_reasons_total_to_plot, \n",
    "    reason_order=reason_order, \n",
    "    n_x=n_x, \n",
    "    include_xtick_labels_legend=include_xtick_labels_legend\n",
    ")"
   ]
  },
  {
   "cell_type": "code",
   "execution_count": null,
   "id": "8d3bf20f",
   "metadata": {},
   "outputs": [],
   "source": [
    "optimize_n_reasons_per_plot=True\n",
    "n_reasons_per_plot = 20\n",
    "n_reasons_total_to_plot = None # If None, plot all\n",
    "n_x = 2\n",
    "include_xtick_labels_legend = False\n",
    "\n",
    "if run_PCA:\n",
    "    # All Dfs should have same column order already, so don't matter which \n",
    "    #   is used below\n",
    "    reason_order = X_tp.columns.tolist()\n",
    "else:\n",
    "    reason_order = [x[0] for x in importances_srtd]\n",
    "#-----\n",
    "fig,axs = draw_X_by_binary_confusion_result(\n",
    "    fig_num=0, \n",
    "    X_tp_w_args=None, \n",
    "    X_fn_w_args=None, \n",
    "    X_tn_w_args=X_tn, \n",
    "    X_fp_w_args=X_fp, \n",
    "    n_reasons_per_plot=n_reasons_per_plot, \n",
    "    n_reasons_total_to_plot=n_reasons_total_to_plot, \n",
    "    reason_order=reason_order, \n",
    "    n_x=n_x, \n",
    "    include_xtick_labels_legend=include_xtick_labels_legend\n",
    ")"
   ]
  },
  {
   "cell_type": "code",
   "execution_count": null,
   "id": "7197b14e",
   "metadata": {},
   "outputs": [],
   "source": []
  },
  {
   "cell_type": "code",
   "execution_count": null,
   "id": "f6a83393",
   "metadata": {},
   "outputs": [],
   "source": [
    "# ada_clf = AdaBoostClassifier(\n",
    "#     RandomForestClassifier(n_estimators = 1000, n_jobs=-1),\n",
    "#     n_estimators=200,\n",
    "#     algorithm='SAMME.R'\n",
    "#     learning_rate=0.5\n",
    "# )\n",
    "\n",
    "ada_clf = AdaBoostClassifier(\n",
    "    DecisionTreeClassifier(max_depth=3), \n",
    "    n_estimators=100\n",
    ")"
   ]
  },
  {
   "cell_type": "code",
   "execution_count": null,
   "id": "db246dca",
   "metadata": {},
   "outputs": [],
   "source": [
    "start = time.time()\n",
    "ada_clf.fit(X_train, y_train)\n",
    "print(time.time()-start)"
   ]
  },
  {
   "cell_type": "code",
   "execution_count": null,
   "id": "9456872f",
   "metadata": {},
   "outputs": [],
   "source": [
    "y_pred_train = ada_clf.predict(X_train)\n",
    "print('TRAINING DATASET')\n",
    "print(\"ACCURACY  OF THE MODEL: \", accuracy_score(y_train, y_pred_train))\n",
    "print(\"PRECISION OF THE MODEL: \", precision_score(y_train, y_pred_train))\n",
    "print(\"RECALL    OF THE MODEL: \", recall_score(y_train, y_pred_train))"
   ]
  },
  {
   "cell_type": "code",
   "execution_count": null,
   "id": "b28a223e",
   "metadata": {},
   "outputs": [],
   "source": [
    "y_pred = ada_clf.predict(X_test)\n",
    "print('TESTING DATASET')\n",
    "print(\"ACCURACY  OF THE MODEL: \", accuracy_score(y_test, y_pred))\n",
    "print(\"PRECISION OF THE MODEL: \", precision_score(y_test, y_pred))\n",
    "print(\"RECALL    OF THE MODEL: \", recall_score(y_test, y_pred))"
   ]
  },
  {
   "cell_type": "code",
   "execution_count": null,
   "id": "bf7c73ea",
   "metadata": {},
   "outputs": [],
   "source": []
  },
  {
   "cell_type": "code",
   "execution_count": null,
   "id": "ebad8d2a",
   "metadata": {},
   "outputs": [],
   "source": []
  },
  {
   "cell_type": "code",
   "execution_count": null,
   "id": "99f2872e",
   "metadata": {},
   "outputs": [],
   "source": []
  },
  {
   "cell_type": "code",
   "execution_count": null,
   "id": "727a8f6e",
   "metadata": {},
   "outputs": [],
   "source": []
  },
  {
   "cell_type": "markdown",
   "id": "e5195d85",
   "metadata": {},
   "source": [
    "# Neural Net: Keras Sequential"
   ]
  },
  {
   "cell_type": "code",
   "execution_count": null,
   "id": "ffa364cb",
   "metadata": {},
   "outputs": [],
   "source": [
    "# model = keras.models.Sequential()\n",
    "# model.add(keras.layers.Flatten(input_shape=(X_train.shape[1],)))\n",
    "# model.add(keras.layers.Dense(X_train.shape[1], activation='relu'))\n",
    "# model.add(keras.layers.Dense(16, activation='relu'))\n",
    "# model.add(keras.layers.Dense(4, activation='relu'))\n",
    "# model.add(keras.layers.Dense(1, activation='sigmoid'))\n",
    "\n",
    "# model = keras.models.Sequential()\n",
    "# model.add(keras.layers.Flatten(input_shape=(X_train.shape[1],)))\n",
    "# model.add(keras.layers.Dense(X_train.shape[1], activation='relu'))\n",
    "# model.add(keras.layers.Dense(256, activation='relu'))\n",
    "# model.add(keras.layers.Dense(256, activation='relu'))\n",
    "# model.add(keras.layers.Dense(128, activation='relu'))\n",
    "# model.add(keras.layers.Dense(16, activation='relu'))\n",
    "# model.add(keras.layers.Dense(4, activation='relu'))\n",
    "# model.add(keras.layers.Dense(1, activation='sigmoid'))\n",
    "\n",
    "\n",
    "# model = keras.models.Sequential()\n",
    "# model.add(keras.layers.Flatten(input_shape=(X_train.shape[1],)))\n",
    "# model.add(keras.layers.Dense(X_train.shape[1], activation='relu'))\n",
    "# model.add(keras.layers.Dense(1600, activation='relu'))\n",
    "# model.add(keras.layers.Dense(400, activation='relu'))\n",
    "# model.add(keras.layers.Dense(1, activation='sigmoid'))\n",
    "\n",
    "model = keras.models.Sequential()\n",
    "model.add(keras.layers.Flatten(input_shape=(X_train.shape[1],)))\n",
    "model.add(keras.layers.Dense(X_train.shape[1], activation='relu'))\n",
    "# model.add(keras.layers.Dense(4096, activation='relu'))\n",
    "model.add(keras.layers.Dense(1024, activation='relu'))\n",
    "model.add(keras.layers.Dense(256, activation='relu'))\n",
    "model.add(keras.layers.Dense(128, activation='relu'))\n",
    "model.add(keras.layers.Dense(16, activation='relu'))\n",
    "model.add(keras.layers.Dense(4, activation='relu'))\n",
    "model.add(keras.layers.Dense(1, activation='sigmoid'))\n",
    "\n",
    "\n",
    "\n",
    "# model = keras.models.Sequential()\n",
    "# model.add(keras.layers.Flatten(input_shape=(X_train.shape[1],)))\n",
    "\n",
    "# model.add(keras.layers.Dense(X_train.shape[1], kernel_initializer='he_normal'))\n",
    "# model.add(keras.layers.LeakyReLU(alpha=0.05))\n",
    "\n",
    "# model.add(keras.layers.Dense(1024, kernel_initializer='he_normal'))\n",
    "# model.add(keras.layers.LeakyReLU(alpha=0.05))\n",
    "\n",
    "# model.add(keras.layers.Dense(256, kernel_initializer='he_normal'))\n",
    "# model.add(keras.layers.LeakyReLU(alpha=0.05))\n",
    "\n",
    "# model.add(keras.layers.Dense(128, kernel_initializer='he_normal'))\n",
    "# model.add(keras.layers.LeakyReLU(alpha=0.05))\n",
    "\n",
    "# model.add(keras.layers.Dense(16, kernel_initializer='he_normal'))\n",
    "# model.add(keras.layers.LeakyReLU(alpha=0.05))\n",
    "\n",
    "# model.add(keras.layers.Dense(4, kernel_initializer='he_normal'))\n",
    "# model.add(keras.layers.LeakyReLU(alpha=0.05))\n",
    "\n",
    "# model.add(keras.layers.Dense(1, activation='sigmoid'))"
   ]
  },
  {
   "cell_type": "code",
   "execution_count": null,
   "id": "02e75994",
   "metadata": {},
   "outputs": [],
   "source": [
    "# model.compile(\n",
    "#     loss='binary_crossentropy', \n",
    "#     optimizer='sgd', \n",
    "#     metrics=['accuracy']\n",
    "# )\n",
    "\n",
    "opt = keras.optimizers.SGD(learning_rate=0.0001)\n",
    "model.compile(\n",
    "    loss = \"binary_crossentropy\", \n",
    "    optimizer = opt, \n",
    "    metrics=[tf.keras.metrics.Precision()]\n",
    ")\n",
    "\n",
    "# model.compile(\n",
    "#     loss='binary_crossentropy', \n",
    "#     optimizer='adam', \n",
    "#     metrics=['accuracy']\n",
    "# )\n",
    "\n",
    "# model.compile(\n",
    "#     loss='binary_crossentropy', \n",
    "#     optimizer='adam', \n",
    "#     metrics=[tf.keras.metrics.Recall()]\n",
    "# )"
   ]
  },
  {
   "cell_type": "code",
   "execution_count": null,
   "id": "1a29343d",
   "metadata": {},
   "outputs": [],
   "source": []
  },
  {
   "cell_type": "code",
   "execution_count": null,
   "id": "d75a9f0b",
   "metadata": {},
   "outputs": [],
   "source": [
    "history = model.fit(X_train, y_train, epochs=10, validation_data=(X_val, y_val))"
   ]
  },
  {
   "cell_type": "code",
   "execution_count": null,
   "id": "b2dbfae6",
   "metadata": {},
   "outputs": [],
   "source": [
    "pd.DataFrame(history.history).plot(figsize=(8,5))"
   ]
  },
  {
   "cell_type": "code",
   "execution_count": null,
   "id": "cbd81073",
   "metadata": {},
   "outputs": [],
   "source": [
    "test_loss, test_acc = model.evaluate(X_test, y_test)"
   ]
  },
  {
   "cell_type": "code",
   "execution_count": null,
   "id": "3a54c2cd",
   "metadata": {},
   "outputs": [],
   "source": [
    "test_acc"
   ]
  },
  {
   "cell_type": "code",
   "execution_count": null,
   "id": "2f32ea6f",
   "metadata": {},
   "outputs": [],
   "source": [
    "test_loss"
   ]
  },
  {
   "cell_type": "code",
   "execution_count": null,
   "id": "52cb73a8",
   "metadata": {},
   "outputs": [],
   "source": [
    "y_pred_prob_train = model.predict(X_train).flatten()\n",
    "y_pred_train = (y_pred_prob_train>0.5).astype(int)\n",
    "print(\"ACCURACY  OF THE MODEL: \", accuracy_score(y_train, y_pred_train))\n",
    "print(\"PRECISION OF THE MODEL: \", precision_score(y_train, y_pred_train))\n",
    "print(\"RECALL    OF THE MODEL: \", recall_score(y_train, y_pred_train))"
   ]
  },
  {
   "cell_type": "code",
   "execution_count": null,
   "id": "ecb36d64",
   "metadata": {},
   "outputs": [],
   "source": [
    "y_pred_prob = model.predict(X_test).flatten()\n",
    "# y_pred = model.predict_classes(X_test) #'Sequential' object has no attribute 'predict_classes'\n",
    "y_pred = (y_pred_prob>0.5).astype(int)\n",
    "print(\"ACCURACY  OF THE MODEL: \", accuracy_score(y_test, y_pred))\n",
    "print(\"PRECISION OF THE MODEL: \", precision_score(y_test, y_pred))\n",
    "print(\"RECALL    OF THE MODEL: \", recall_score(y_test, y_pred))"
   ]
  },
  {
   "cell_type": "code",
   "execution_count": null,
   "id": "f72255bf",
   "metadata": {},
   "outputs": [],
   "source": [
    "y_pred_prob_HOLDOUT = model.predict(X_HOLDOUT).flatten()\n",
    "y_pred_HOLDOUT = (y_pred_prob_HOLDOUT>0.5).astype(int)\n",
    "print(\"ACCURACY  OF THE MODEL: \", accuracy_score(y_HOLDOUT, y_pred_HOLDOUT))\n",
    "print(\"PRECISION OF THE MODEL: \", precision_score(y_HOLDOUT, y_pred_HOLDOUT))\n",
    "print(\"RECALL    OF THE MODEL: \", recall_score(y_HOLDOUT, y_pred_HOLDOUT))"
   ]
  },
  {
   "cell_type": "code",
   "execution_count": null,
   "id": "dd74451c",
   "metadata": {},
   "outputs": [],
   "source": []
  },
  {
   "cell_type": "code",
   "execution_count": null,
   "id": "3e2c690e",
   "metadata": {},
   "outputs": [],
   "source": []
  },
  {
   "cell_type": "code",
   "execution_count": null,
   "id": "f1192eb7",
   "metadata": {},
   "outputs": [],
   "source": []
  },
  {
   "cell_type": "code",
   "execution_count": null,
   "id": "2443a8a4",
   "metadata": {},
   "outputs": [],
   "source": [
    "confusion_matrix(y_test, y_pred)"
   ]
  },
  {
   "cell_type": "code",
   "execution_count": null,
   "id": "2ecde7d5",
   "metadata": {},
   "outputs": [],
   "source": [
    "confusion_matrix(y_test, y_pred, normalize='true')"
   ]
  },
  {
   "cell_type": "code",
   "execution_count": null,
   "id": "b5b43a2b",
   "metadata": {},
   "outputs": [],
   "source": [
    "confusion_matrix(y_test, y_pred, normalize='pred')"
   ]
  },
  {
   "cell_type": "code",
   "execution_count": null,
   "id": "a44174d3",
   "metadata": {},
   "outputs": [],
   "source": []
  },
  {
   "cell_type": "code",
   "execution_count": null,
   "id": "9c728458",
   "metadata": {},
   "outputs": [],
   "source": [
    "X_by_confusion_result = get_X_entries_by_binary_confusion_matrix_result(X_test, y_test, y_pred)\n",
    "X_by_confusion_result = convert_X_by_confusion_results_to_dfs(\n",
    "    X_by_confusion_result=X_by_confusion_result, \n",
    "    full_data_df=full_data_df, \n",
    "    run_PCA=run_PCA, \n",
    "    run_scaler=run_scaler    \n",
    ")\n",
    "\n",
    "X_tp = X_by_confusion_result['X_tp']\n",
    "X_tn = X_by_confusion_result['X_tn']\n",
    "X_fp = X_by_confusion_result['X_fp']\n",
    "X_fn = X_by_confusion_result['X_fn']\n",
    "\n",
    "optimize_n_reasons_per_plot=True\n",
    "n_reasons_per_plot = 20\n",
    "n_reasons_total_to_plot = None # If None, plot all\n",
    "n_x = 2\n",
    "include_xtick_labels_legend = False\n",
    "\n",
    "if run_PCA:\n",
    "    # All Dfs should have same column order already, so don't matter which \n",
    "    #   is used below\n",
    "    reason_order = X_tp.columns.tolist()\n",
    "else:\n",
    "    reason_order = [x[0] for x in importances_srtd]\n",
    "#-----\n",
    "fig,axs = draw_X_by_binary_confusion_result(\n",
    "    fig_num=0, \n",
    "    X_tp_w_args=X_tp, \n",
    "    X_fn_w_args=X_fn, \n",
    "    X_tn_w_args=X_tn, \n",
    "    X_fp_w_args=X_fp, \n",
    "    n_reasons_per_plot=n_reasons_per_plot, \n",
    "    n_reasons_total_to_plot=n_reasons_total_to_plot, \n",
    "    reason_order=reason_order, \n",
    "    n_x=n_x, \n",
    "    include_xtick_labels_legend=include_xtick_labels_legend\n",
    ")"
   ]
  },
  {
   "cell_type": "code",
   "execution_count": null,
   "id": "fb2715c6",
   "metadata": {},
   "outputs": [],
   "source": [
    "fig, ax = Plot_General.default_subplots(n_x=1, n_y=1, fig_num=1)\n",
    "X_fn.T.plot.line(ax=ax, alpha=0.1, color='red', linewidth=1)"
   ]
  },
  {
   "cell_type": "code",
   "execution_count": null,
   "id": "d7ff7f66",
   "metadata": {},
   "outputs": [],
   "source": [
    "fig, ax = Plot_General.default_subplots(n_x=1, n_y=1, fig_num=1)\n",
    "X_tp.T.plot.line(ax=ax, alpha=0.1, color='red', linewidth=1)"
   ]
  },
  {
   "cell_type": "code",
   "execution_count": null,
   "id": "349f7bd4",
   "metadata": {},
   "outputs": [],
   "source": []
  },
  {
   "cell_type": "code",
   "execution_count": null,
   "id": "bce39161",
   "metadata": {},
   "outputs": [],
   "source": []
  },
  {
   "cell_type": "markdown",
   "id": "db6ffdef",
   "metadata": {},
   "source": [
    "# Correlations"
   ]
  },
  {
   "cell_type": "code",
   "execution_count": null,
   "id": "ad93ca3d",
   "metadata": {},
   "outputs": [],
   "source": [
    "# dev_df = merged_df_drct.copy()\n",
    "dev_df = full_data_df.copy()"
   ]
  },
  {
   "cell_type": "code",
   "execution_count": null,
   "id": "fc7a2e4a",
   "metadata": {},
   "outputs": [],
   "source": [
    "dev_df.describe()"
   ]
  },
  {
   "cell_type": "code",
   "execution_count": null,
   "id": "8927be3a",
   "metadata": {},
   "outputs": [],
   "source": [
    "len(dev_df.columns[dev_df.mean()==0].tolist())"
   ]
  },
  {
   "cell_type": "code",
   "execution_count": null,
   "id": "593c0784",
   "metadata": {},
   "outputs": [],
   "source": [
    "dev_df.columns[dev_df.mean()==0].tolist()"
   ]
  },
  {
   "cell_type": "code",
   "execution_count": null,
   "id": "838d04fd",
   "metadata": {},
   "outputs": [],
   "source": [
    "dev_df = dev_df.drop(columns=dev_df.columns[dev_df.mean()==0])"
   ]
  },
  {
   "cell_type": "code",
   "execution_count": null,
   "id": "9888e5fb",
   "metadata": {},
   "outputs": [],
   "source": []
  },
  {
   "cell_type": "code",
   "execution_count": null,
   "id": "f41ca0b5",
   "metadata": {},
   "outputs": [],
   "source": [
    "corr_df = dev_df.corr()\n",
    "corr_df"
   ]
  },
  {
   "cell_type": "code",
   "execution_count": null,
   "id": "4c29c225",
   "metadata": {},
   "outputs": [],
   "source": [
    "corr_df['01-05 Days'].shape"
   ]
  },
  {
   "cell_type": "code",
   "execution_count": null,
   "id": "65d9b29b",
   "metadata": {},
   "outputs": [],
   "source": [
    "fig, ax = Plot_General.default_subplots(n_x=1, n_y=1, unit_figsize_width=28, unit_figsize_height=12)\n",
    "plt.matshow(corr_df, fignum=fig.number)\n",
    "cb = plt.colorbar()\n",
    "cb.ax.tick_params(labelsize=14)"
   ]
  },
  {
   "cell_type": "code",
   "execution_count": null,
   "id": "ed8d9448",
   "metadata": {},
   "outputs": [],
   "source": [
    "corr_df.describe()"
   ]
  },
  {
   "cell_type": "code",
   "execution_count": null,
   "id": "2bdb5ce8",
   "metadata": {},
   "outputs": [],
   "source": [
    "corr_df[corr_df.columns[0]]>0.5"
   ]
  },
  {
   "cell_type": "code",
   "execution_count": null,
   "id": "a78bc34d",
   "metadata": {},
   "outputs": [],
   "source": [
    "corr_df[corr_df.columns[0]].index[corr_df[corr_df.columns[0]]>0.5].tolist()"
   ]
  },
  {
   "cell_type": "code",
   "execution_count": null,
   "id": "ab461a8c",
   "metadata": {},
   "outputs": [],
   "source": [
    "corr_df.columns[0]"
   ]
  },
  {
   "cell_type": "code",
   "execution_count": null,
   "id": "c03a5be9",
   "metadata": {},
   "outputs": [],
   "source": []
  },
  {
   "cell_type": "code",
   "execution_count": null,
   "id": "b87c8ce1",
   "metadata": {
    "scrolled": true
   },
   "outputs": [],
   "source": [
    "threshold=0.5\n",
    "for reason in corr_df.columns:\n",
    "    correlated = corr_df[reason].index[corr_df[reason]>0.5].tolist()\n",
    "    # Reason always perfectly correlated with itself, obviously.\n",
    "    # So, remove this\n",
    "    correlated.remove(reason)\n",
    "    print(f'reason = {reason}')\n",
    "    print('Correlated:')\n",
    "    print(*correlated, sep='\\n')\n",
    "    print()"
   ]
  },
  {
   "cell_type": "code",
   "execution_count": null,
   "id": "2cf3d846",
   "metadata": {},
   "outputs": [],
   "source": [
    "dev_df"
   ]
  },
  {
   "cell_type": "code",
   "execution_count": null,
   "id": "40c89142",
   "metadata": {},
   "outputs": [],
   "source": []
  },
  {
   "cell_type": "code",
   "execution_count": null,
   "id": "0a4704b8",
   "metadata": {},
   "outputs": [],
   "source": []
  },
  {
   "cell_type": "code",
   "execution_count": null,
   "id": "75aafc54",
   "metadata": {},
   "outputs": [],
   "source": [
    "corr_df_i = dev_df['01-05 Days'].corr()\n",
    "corr_df_i"
   ]
  },
  {
   "cell_type": "code",
   "execution_count": null,
   "id": "170cb83d",
   "metadata": {},
   "outputs": [],
   "source": [
    "fig, ax = Plot_General.default_subplots(n_x=1, n_y=1, unit_figsize_width=28, unit_figsize_height=12)\n",
    "plt.matshow(corr_df_i, fignum=fig.number)\n",
    "cb = plt.colorbar()\n",
    "cb.ax.tick_params(labelsize=14)"
   ]
  },
  {
   "cell_type": "code",
   "execution_count": null,
   "id": "fe2f115e",
   "metadata": {},
   "outputs": [],
   "source": [
    "# Fill diagonal and upper half with NaNs\n",
    "mask = np.zeros_like(corr_df_i, dtype=bool)\n",
    "mask[np.triu_indices_from(mask)] = True\n",
    "corr_df_i[mask] = np.nan\n",
    "fig, ax = Plot_General.default_subplots(n_x=1, n_y=1, unit_figsize_width=28, unit_figsize_height=12)\n",
    "plt.matshow(corr_df_i, fignum=fig.number)\n",
    "cb = plt.colorbar()\n",
    "cb.ax.tick_params(labelsize=14)"
   ]
  },
  {
   "cell_type": "code",
   "execution_count": null,
   "id": "15fb8b0e",
   "metadata": {},
   "outputs": [],
   "source": [
    "corr_df_i.columns[6]"
   ]
  },
  {
   "cell_type": "code",
   "execution_count": null,
   "id": "dbf4c52f",
   "metadata": {},
   "outputs": [],
   "source": [
    "print(corr_df_i.iloc[6,2])\n",
    "print(corr_df_i.columns[6])\n",
    "print(corr_df_i.iloc[6].index[2])"
   ]
  },
  {
   "cell_type": "code",
   "execution_count": null,
   "id": "37d1972c",
   "metadata": {},
   "outputs": [],
   "source": [
    "threshold=0.5\n",
    "for reason in corr_df_i.columns:\n",
    "    correlated = corr_df_i[reason].index[corr_df_i[reason]>0.5].tolist()\n",
    "    # Reason always perfectly correlated with itself, obviously.\n",
    "    # So, remove this\n",
    "    # DIAGONAL NOT INCLUDED HERE!\n",
    "    if reason in correlated:\n",
    "        correlated.remove(reason)\n",
    "    if len(correlated)>0:\n",
    "        print(f'reason = {reason}')\n",
    "        print('Correlated:')\n",
    "        print(*correlated, sep='\\n')\n",
    "        print()"
   ]
  },
  {
   "cell_type": "code",
   "execution_count": null,
   "id": "81247d60",
   "metadata": {},
   "outputs": [],
   "source": []
  },
  {
   "cell_type": "code",
   "execution_count": null,
   "id": "37080f02",
   "metadata": {},
   "outputs": [],
   "source": []
  },
  {
   "cell_type": "code",
   "execution_count": null,
   "id": "cceadca0",
   "metadata": {},
   "outputs": [],
   "source": []
  },
  {
   "cell_type": "code",
   "execution_count": null,
   "id": "c49bead0",
   "metadata": {},
   "outputs": [],
   "source": []
  },
  {
   "cell_type": "code",
   "execution_count": null,
   "id": "f795a99a",
   "metadata": {},
   "outputs": [],
   "source": []
  },
  {
   "cell_type": "code",
   "execution_count": null,
   "id": "391eb3c0",
   "metadata": {},
   "outputs": [],
   "source": []
  },
  {
   "cell_type": "code",
   "execution_count": null,
   "id": "44763a72",
   "metadata": {},
   "outputs": [],
   "source": []
  },
  {
   "cell_type": "code",
   "execution_count": null,
   "id": "4f24525f",
   "metadata": {},
   "outputs": [],
   "source": []
  },
  {
   "cell_type": "markdown",
   "id": "e66128f3",
   "metadata": {},
   "source": [
    "# Other stuff (Impact estimate below this!)"
   ]
  },
  {
   "cell_type": "code",
   "execution_count": null,
   "id": "6f5a4a49",
   "metadata": {},
   "outputs": [],
   "source": [
    "from sklearn.cluster import DBSCAN"
   ]
  },
  {
   "cell_type": "code",
   "execution_count": null,
   "id": "aa504b12",
   "metadata": {},
   "outputs": [],
   "source": [
    "dbscan = DBSCAN(eps=0.05, min_samples=5)\n",
    "# dbscan = DBSCAN(eps=0.05, min_samples=132) # 2*n_features?"
   ]
  },
  {
   "cell_type": "code",
   "execution_count": null,
   "id": "56aea337",
   "metadata": {},
   "outputs": [],
   "source": [
    "dbscan.fit(X_train)"
   ]
  },
  {
   "cell_type": "code",
   "execution_count": null,
   "id": "49f4af01",
   "metadata": {},
   "outputs": [],
   "source": [
    "print(f'DATA SIZE: {len(dbscan.labels_)}')\n",
    "print(f'ANOMALIES: {sum(dbscan.labels_==-1)}')\n",
    "print(f'N_GROUPS:  {max(dbscan.labels_)}')"
   ]
  },
  {
   "cell_type": "code",
   "execution_count": null,
   "id": "e1307367",
   "metadata": {},
   "outputs": [],
   "source": []
  },
  {
   "cell_type": "code",
   "execution_count": null,
   "id": "a1e05b59",
   "metadata": {},
   "outputs": [],
   "source": [
    "y_train_w_db = list(zip(y_train, dbscan.labels_))"
   ]
  },
  {
   "cell_type": "code",
   "execution_count": null,
   "id": "6937e801",
   "metadata": {},
   "outputs": [],
   "source": [
    "anomaly_idxs = [i for i,x in enumerate(y_train_w_db) if x[1]==-1]\n",
    "print(y_train[anomaly_idxs].sum())\n",
    "print(len(anomaly_idxs))"
   ]
  },
  {
   "cell_type": "code",
   "execution_count": null,
   "id": "8d554950",
   "metadata": {},
   "outputs": [],
   "source": [
    "max_pct = 0\n",
    "n_pct_eq_0 = 0\n",
    "idxs_w_pct_eq_0 = []\n",
    "idxs_w_pct_eq_1 = []\n",
    "for i in range(-1, max(dbscan.labels_)):\n",
    "    print(i)\n",
    "    subset = [x for x in y_train_w_db if x[1]==i]\n",
    "    print(f'len(subset) = {len(subset)}')\n",
    "    sum_i = sum([x[0] for x in subset])\n",
    "    print(f'Sum = {sum_i}')\n",
    "    pct_i = sum_i/len(subset)\n",
    "    print(f'Pct = {pct_i}')\n",
    "    max_pct = max_pct if max_pct>pct_i else pct_i\n",
    "    print()\n",
    "    \n",
    "    if pct_i==0:\n",
    "        n_pct_eq_0+=1\n",
    "        idxs_w_pct_eq_0.append(i)\n",
    "        \n",
    "    if pct_i==1:\n",
    "        idxs_w_pct_eq_1.append(i)"
   ]
  },
  {
   "cell_type": "code",
   "execution_count": null,
   "id": "017d275b",
   "metadata": {},
   "outputs": [],
   "source": []
  },
  {
   "cell_type": "code",
   "execution_count": null,
   "id": "cfeda9fd",
   "metadata": {},
   "outputs": [],
   "source": [
    "print(len(idxs_w_pct_eq_0))\n",
    "print(len(idxs_w_pct_eq_1))"
   ]
  },
  {
   "cell_type": "code",
   "execution_count": null,
   "id": "bc7135c6",
   "metadata": {},
   "outputs": [],
   "source": [
    "idxs_w_pct_eq_1"
   ]
  },
  {
   "cell_type": "code",
   "execution_count": null,
   "id": "baef3454",
   "metadata": {},
   "outputs": [],
   "source": [
    "print(n_pct_eq_0)\n",
    "print(max(dbscan.labels_))"
   ]
  },
  {
   "cell_type": "code",
   "execution_count": null,
   "id": "a74745f3",
   "metadata": {},
   "outputs": [],
   "source": [
    "dbscan.components_.shape"
   ]
  },
  {
   "cell_type": "code",
   "execution_count": null,
   "id": "f7df81b2",
   "metadata": {},
   "outputs": [],
   "source": [
    "sum(dbscan.labels_==-1)"
   ]
  },
  {
   "cell_type": "code",
   "execution_count": null,
   "id": "6a58c4d2",
   "metadata": {},
   "outputs": [],
   "source": [
    "dbscan.core_sample_indices_.shape"
   ]
  },
  {
   "cell_type": "code",
   "execution_count": null,
   "id": "34b6a848",
   "metadata": {},
   "outputs": [],
   "source": [
    "len(dbscan.core_sample_indices_)"
   ]
  },
  {
   "cell_type": "code",
   "execution_count": null,
   "id": "59ec4a91",
   "metadata": {},
   "outputs": [],
   "source": [
    "len(dbscan.labels_)"
   ]
  },
  {
   "cell_type": "code",
   "execution_count": null,
   "id": "9e28428c",
   "metadata": {},
   "outputs": [],
   "source": [
    "dbscan.get_params()"
   ]
  },
  {
   "cell_type": "code",
   "execution_count": null,
   "id": "4b59476d",
   "metadata": {},
   "outputs": [],
   "source": [
    "dbscan.components_.shape"
   ]
  },
  {
   "cell_type": "code",
   "execution_count": null,
   "id": "25ede291",
   "metadata": {},
   "outputs": [],
   "source": []
  },
  {
   "cell_type": "code",
   "execution_count": null,
   "id": "3c48fb70",
   "metadata": {},
   "outputs": [],
   "source": []
  },
  {
   "cell_type": "code",
   "execution_count": null,
   "id": "628139d5",
   "metadata": {},
   "outputs": [],
   "source": []
  },
  {
   "cell_type": "code",
   "execution_count": null,
   "id": "bd222644",
   "metadata": {},
   "outputs": [],
   "source": [
    "from sklearn.neighbors import KNeighborsClassifier"
   ]
  },
  {
   "cell_type": "code",
   "execution_count": null,
   "id": "62389caa",
   "metadata": {},
   "outputs": [],
   "source": [
    "knn = KNeighborsClassifier(n_neighbors=50)\n",
    "knn.fit(dbscan.components_, dbscan.labels_[dbscan.core_sample_indices_])"
   ]
  },
  {
   "cell_type": "code",
   "execution_count": null,
   "id": "4fe1f88a",
   "metadata": {},
   "outputs": [],
   "source": [
    "tmp_pred = knn.predict(X_train)\n",
    "tmp_pred"
   ]
  },
  {
   "cell_type": "code",
   "execution_count": null,
   "id": "540e7a9b",
   "metadata": {},
   "outputs": [],
   "source": [
    "tmp_pred_proba = knn.predict_proba(X_train)"
   ]
  },
  {
   "cell_type": "code",
   "execution_count": null,
   "id": "745791f7",
   "metadata": {},
   "outputs": [],
   "source": [
    "tmp_pred_proba[0]"
   ]
  },
  {
   "cell_type": "code",
   "execution_count": null,
   "id": "9f3ba217",
   "metadata": {},
   "outputs": [],
   "source": []
  },
  {
   "cell_type": "code",
   "execution_count": null,
   "id": "367a5e37",
   "metadata": {},
   "outputs": [],
   "source": []
  },
  {
   "cell_type": "code",
   "execution_count": null,
   "id": "e164c6c7",
   "metadata": {},
   "outputs": [],
   "source": [
    "dev_X_test = copy.deepcopy(X_test)\n",
    "dev_y_test = copy.deepcopy(y_test)\n",
    "we=knn.kneighbors(dev_X_test, n_neighbors=1)\n",
    "we = list(zip(we[0].flatten(), we[1].flatten()))"
   ]
  },
  {
   "cell_type": "code",
   "execution_count": null,
   "id": "4957e61c",
   "metadata": {},
   "outputs": [],
   "source": [
    "we"
   ]
  },
  {
   "cell_type": "code",
   "execution_count": null,
   "id": "699ea3b3",
   "metadata": {},
   "outputs": [],
   "source": [
    "y_df = pd.DataFrame(we, columns=['y_dist', 'y_pred'])\n",
    "y_df['y_actl'] = dev_y_test.values"
   ]
  },
  {
   "cell_type": "code",
   "execution_count": null,
   "id": "f9833644",
   "metadata": {},
   "outputs": [],
   "source": [
    "X_df = pd.DataFrame(dev_X_test)"
   ]
  },
  {
   "cell_type": "code",
   "execution_count": null,
   "id": "2f8a9903",
   "metadata": {},
   "outputs": [],
   "source": [
    "X_df"
   ]
  },
  {
   "cell_type": "code",
   "execution_count": null,
   "id": "db7f58b2",
   "metadata": {},
   "outputs": [],
   "source": [
    "y_df"
   ]
  },
  {
   "cell_type": "code",
   "execution_count": null,
   "id": "35a4195a",
   "metadata": {},
   "outputs": [],
   "source": [
    "X_df = pd.merge(X_df, y_df, left_index=True, right_index=True)"
   ]
  },
  {
   "cell_type": "code",
   "execution_count": null,
   "id": "9da41666",
   "metadata": {},
   "outputs": [],
   "source": [
    "X_df"
   ]
  },
  {
   "cell_type": "code",
   "execution_count": null,
   "id": "b82081c3",
   "metadata": {},
   "outputs": [],
   "source": [
    "we_0 = [x for x in we if x[1] in idxs_w_pct_eq_0]\n",
    "we_1 = [x for x in we if x[1] in idxs_w_pct_eq_1]\n",
    "\n",
    "print(len(we_0))\n",
    "print(len(we_1))"
   ]
  },
  {
   "cell_type": "code",
   "execution_count": null,
   "id": "c0100ce7",
   "metadata": {},
   "outputs": [],
   "source": [
    "X_df['y_pred'].isin(idxs_w_pct_eq_0)"
   ]
  },
  {
   "cell_type": "code",
   "execution_count": null,
   "id": "ba583ef7",
   "metadata": {},
   "outputs": [],
   "source": [
    "X_df['eq_0_cand'] = X_df['y_pred'].isin(idxs_w_pct_eq_0)\n",
    "X_df['eq_1_cand'] = X_df['y_pred'].isin(idxs_w_pct_eq_1)"
   ]
  },
  {
   "cell_type": "code",
   "execution_count": null,
   "id": "3858b3f2",
   "metadata": {},
   "outputs": [],
   "source": [
    "X_df"
   ]
  },
  {
   "cell_type": "code",
   "execution_count": null,
   "id": "cfc73091",
   "metadata": {},
   "outputs": [],
   "source": [
    "X_df[(X_df['eq_0_cand']==True) & (X_df['y_actl']==0)]['y_dist'].describe()"
   ]
  },
  {
   "cell_type": "code",
   "execution_count": null,
   "id": "e4028ddc",
   "metadata": {},
   "outputs": [],
   "source": [
    "X_df[(X_df['eq_0_cand']==True) & (X_df['y_actl']!=0)]['y_dist'].describe()"
   ]
  },
  {
   "cell_type": "code",
   "execution_count": null,
   "id": "6d257808",
   "metadata": {},
   "outputs": [],
   "source": []
  },
  {
   "cell_type": "code",
   "execution_count": null,
   "id": "65b73694",
   "metadata": {},
   "outputs": [],
   "source": [
    "X_df[(X_df['eq_1_cand']==True) & (X_df['y_actl']==1)]['y_dist'].describe()"
   ]
  },
  {
   "cell_type": "code",
   "execution_count": null,
   "id": "39cbc9cb",
   "metadata": {},
   "outputs": [],
   "source": [
    "X_df[(X_df['eq_1_cand']==True) & (X_df['y_actl']!=1)]['y_dist'].describe()"
   ]
  },
  {
   "cell_type": "code",
   "execution_count": null,
   "id": "8a7c92f4",
   "metadata": {},
   "outputs": [],
   "source": []
  },
  {
   "cell_type": "code",
   "execution_count": null,
   "id": "57c61ae7",
   "metadata": {},
   "outputs": [],
   "source": [
    "X_df[(X_df['eq_0_cand']==True) & (X_df['y_actl']==0) & (X_df['y_dist']<2.087953)]['y_actl'].sum()"
   ]
  },
  {
   "cell_type": "code",
   "execution_count": null,
   "id": "52b66ad8",
   "metadata": {},
   "outputs": [],
   "source": [
    "X_df_0_subset = X_df[(X_df['eq_0_cand']==True) & (X_df['y_actl']==0) & (X_df['y_dist']<2.087953)]"
   ]
  },
  {
   "cell_type": "code",
   "execution_count": null,
   "id": "6201f880",
   "metadata": {},
   "outputs": [],
   "source": [
    "X_df_0_subset"
   ]
  },
  {
   "cell_type": "code",
   "execution_count": null,
   "id": "1b956ede",
   "metadata": {},
   "outputs": [],
   "source": [
    "y_df_0_subset = y_df.loc[X_df_0_subset.index]"
   ]
  },
  {
   "cell_type": "code",
   "execution_count": null,
   "id": "d13c67c4",
   "metadata": {},
   "outputs": [],
   "source": [
    "# X_df.drop(\n",
    "#     index=X_df_0_subset.index, \n",
    "#     columns=['y_dist', 'y_pred', 'y_actl', 'eq_0_cand', 'eq_1_cand']\n",
    "# )"
   ]
  },
  {
   "cell_type": "code",
   "execution_count": null,
   "id": "da77a5e4",
   "metadata": {},
   "outputs": [],
   "source": []
  },
  {
   "cell_type": "code",
   "execution_count": null,
   "id": "9316eb36",
   "metadata": {},
   "outputs": [],
   "source": [
    "X_df=X_df.drop(index=X_df_0_subset.index)\n",
    "X_df = X_df.drop(columns=['y_dist', 'y_pred', 'y_actl', 'eq_0_cand', 'eq_1_cand'])"
   ]
  },
  {
   "cell_type": "code",
   "execution_count": null,
   "id": "d65d366d",
   "metadata": {},
   "outputs": [],
   "source": [
    "y_df=y_df.drop(index=X_df_0_subset.index)\n",
    "y_df=y_df.drop(columns=['y_dist', 'y_pred'])"
   ]
  },
  {
   "cell_type": "code",
   "execution_count": null,
   "id": "f14f82b1",
   "metadata": {},
   "outputs": [],
   "source": [
    "# y_df.drop(\n",
    "#     index=X_df_0_subset.index, \n",
    "#     columns=['y_dist', 'y_pred']\n",
    "# )"
   ]
  },
  {
   "cell_type": "code",
   "execution_count": null,
   "id": "bf0e17dd",
   "metadata": {},
   "outputs": [],
   "source": []
  },
  {
   "cell_type": "code",
   "execution_count": null,
   "id": "f32554fc",
   "metadata": {},
   "outputs": [],
   "source": [
    "model = keras.models.Sequential()\n",
    "model.add(keras.layers.Flatten(input_shape=(X_train.shape[1],)))\n",
    "model.add(keras.layers.Dense(X_train.shape[1], activation='relu'))\n",
    "# model.add(keras.layers.Dense(4096, activation='relu'))\n",
    "model.add(keras.layers.Dense(1024, activation='relu'))\n",
    "model.add(keras.layers.Dense(256, activation='relu'))\n",
    "model.add(keras.layers.Dense(128, activation='relu'))\n",
    "model.add(keras.layers.Dense(16, activation='relu'))\n",
    "model.add(keras.layers.Dense(4, activation='relu'))\n",
    "model.add(keras.layers.Dense(1, activation='sigmoid'))\n",
    "\n",
    "model.compile(\n",
    "    loss='binary_crossentropy', \n",
    "    optimizer='adam', \n",
    "    metrics=['accuracy']\n",
    ")\n",
    "\n",
    "history = model.fit(X_train, y_train, epochs=10, validation_data=(X_val, y_val))\n",
    "\n",
    "y_pred_prob = model.predict(X_df.values).flatten()\n",
    "\n",
    "# y_pred = model.predict_classes(X_test) #'Sequential' object has no attribute 'predict_classes'\n",
    "y_pred = (y_pred_prob>0.5).astype(int)\n",
    "print(\"ACCURACY  OF THE MODEL: \", accuracy_score(y_df.values, y_pred))\n",
    "print(\"PRECISION OF THE MODEL: \", precision_score(y_df.values, y_pred))\n",
    "print(\"RECALL    OF THE MODEL: \", recall_score(y_df.values, y_pred))"
   ]
  },
  {
   "cell_type": "code",
   "execution_count": null,
   "id": "01a66b79",
   "metadata": {},
   "outputs": [],
   "source": []
  },
  {
   "cell_type": "code",
   "execution_count": null,
   "id": "60707b49",
   "metadata": {},
   "outputs": [],
   "source": []
  },
  {
   "cell_type": "code",
   "execution_count": null,
   "id": "f1dca011",
   "metadata": {},
   "outputs": [],
   "source": []
  },
  {
   "cell_type": "code",
   "execution_count": null,
   "id": "74d2050d",
   "metadata": {},
   "outputs": [],
   "source": []
  },
  {
   "cell_type": "code",
   "execution_count": null,
   "id": "5307bdb6",
   "metadata": {},
   "outputs": [],
   "source": []
  },
  {
   "cell_type": "code",
   "execution_count": null,
   "id": "9efae06f",
   "metadata": {},
   "outputs": [],
   "source": [
    "# y_pred_prob = model.predict(X_df.values).flatten()\n",
    "\n",
    "# # y_pred = model.predict_classes(X_test) #'Sequential' object has no attribute 'predict_classes'\n",
    "# y_pred = (y_pred_prob>0.5).astype(int)\n",
    "# print(\"ACCURACY  OF THE MODEL: \", accuracy_score(y_df.values, y_pred))\n",
    "# print(\"PRECISION OF THE MODEL: \", precision_score(y_df.values, y_pred))\n",
    "# print(\"RECALL    OF THE MODEL: \", recall_score(y_df.values, y_pred))"
   ]
  },
  {
   "cell_type": "code",
   "execution_count": null,
   "id": "c20c8062",
   "metadata": {},
   "outputs": [],
   "source": [
    "X_df_0_subset=X_df_0_subset.drop(columns=['y_dist', 'y_pred', 'y_actl', 'eq_0_cand', 'eq_1_cand'])\n",
    "assert(all(X_df_0_subset.columns==X_df.columns))\n",
    "X_df_final = pd.concat([X_df, X_df_0_subset])"
   ]
  },
  {
   "cell_type": "code",
   "execution_count": null,
   "id": "75cef3e1",
   "metadata": {},
   "outputs": [],
   "source": [
    "y_df_0_subset=y_df_0_subset.drop(columns=['y_dist', 'y_pred'])\n",
    "assert(all(y_df_0_subset.columns==y_df.columns))\n",
    "y_df_final = pd.concat([y_df, y_df_0_subset])"
   ]
  },
  {
   "cell_type": "code",
   "execution_count": null,
   "id": "79fa6c8a",
   "metadata": {},
   "outputs": [],
   "source": [
    "y_pred_final=np.append(y_pred, [0]*len(y_df_0_subset))"
   ]
  },
  {
   "cell_type": "code",
   "execution_count": null,
   "id": "33265922",
   "metadata": {},
   "outputs": [],
   "source": [
    "print(\"ACCURACY  OF THE MODEL: \", accuracy_score(y_df_final.values, y_pred_final))\n",
    "print(\"PRECISION OF THE MODEL: \", precision_score(y_df_final.values, y_pred_final))\n",
    "print(\"RECALL    OF THE MODEL: \", recall_score(y_df_final.values, y_pred_final))"
   ]
  },
  {
   "cell_type": "code",
   "execution_count": null,
   "id": "cc7c4476",
   "metadata": {},
   "outputs": [],
   "source": []
  },
  {
   "cell_type": "code",
   "execution_count": null,
   "id": "b452e132",
   "metadata": {},
   "outputs": [],
   "source": []
  },
  {
   "cell_type": "code",
   "execution_count": null,
   "id": "962c39fd",
   "metadata": {},
   "outputs": [],
   "source": []
  },
  {
   "cell_type": "code",
   "execution_count": null,
   "id": "30462903",
   "metadata": {},
   "outputs": [],
   "source": []
  },
  {
   "cell_type": "code",
   "execution_count": null,
   "id": "9ebcf09a",
   "metadata": {},
   "outputs": [],
   "source": []
  },
  {
   "cell_type": "code",
   "execution_count": null,
   "id": "29201c9d",
   "metadata": {},
   "outputs": [],
   "source": [
    "from sklearn.cluster import KMeans"
   ]
  },
  {
   "cell_type": "code",
   "execution_count": null,
   "id": "a0d87e18",
   "metadata": {},
   "outputs": [],
   "source": [
    "kmeans = KMeans(n_clusters=50)"
   ]
  },
  {
   "cell_type": "code",
   "execution_count": null,
   "id": "d01f4ff6",
   "metadata": {},
   "outputs": [],
   "source": [
    "y_pred = kmeans.fit_predict(X_train)\n",
    "y_train_w_km = list(zip(y_train, y_pred))"
   ]
  },
  {
   "cell_type": "code",
   "execution_count": null,
   "id": "c9a1e738",
   "metadata": {},
   "outputs": [],
   "source": [
    "max_pct = 0\n",
    "n_pct_eq_0 = 0\n",
    "for i in range(max(y_pred)):\n",
    "    print(i)\n",
    "    subset = [x for x in y_train_w_km if x[1]==i]\n",
    "    print(f'len(subset) = {len(subset)}')\n",
    "    sum_i = sum([x[0] for x in subset])\n",
    "    print(f'Sum = {sum_i}')\n",
    "    pct_i = sum_i/len(subset)\n",
    "    print(f'Pct = {pct_i}')\n",
    "    max_pct = max_pct if max_pct>pct_i else pct_i\n",
    "    print()\n",
    "    \n",
    "    \n",
    "    if pct_i==0:\n",
    "        n_pct_eq_0+=1"
   ]
  },
  {
   "cell_type": "code",
   "execution_count": null,
   "id": "98a34340",
   "metadata": {},
   "outputs": [],
   "source": [
    "max_pct"
   ]
  },
  {
   "cell_type": "code",
   "execution_count": null,
   "id": "9898fbc7",
   "metadata": {},
   "outputs": [],
   "source": [
    "print(n_pct_eq_0)\n",
    "print(max(y_pred))"
   ]
  },
  {
   "cell_type": "code",
   "execution_count": null,
   "id": "d9f6b172",
   "metadata": {},
   "outputs": [],
   "source": []
  },
  {
   "cell_type": "code",
   "execution_count": null,
   "id": "d8e37eb3",
   "metadata": {},
   "outputs": [],
   "source": []
  },
  {
   "cell_type": "code",
   "execution_count": null,
   "id": "4c2aed89",
   "metadata": {},
   "outputs": [],
   "source": []
  },
  {
   "cell_type": "code",
   "execution_count": null,
   "id": "121418f6",
   "metadata": {},
   "outputs": [],
   "source": [
    "dev_X_train = copy.deepcopy(X_train)\n",
    "dev_y_train = copy.deepcopy(y_train)"
   ]
  },
  {
   "cell_type": "code",
   "execution_count": null,
   "id": "b96a0a1a",
   "metadata": {},
   "outputs": [],
   "source": [
    "dev_X_train"
   ]
  },
  {
   "cell_type": "code",
   "execution_count": null,
   "id": "0ca807ed",
   "metadata": {},
   "outputs": [],
   "source": [
    "dev_X_train['01-05 Days'].columns"
   ]
  },
  {
   "cell_type": "code",
   "execution_count": null,
   "id": "ccce959a",
   "metadata": {},
   "outputs": [],
   "source": []
  },
  {
   "cell_type": "code",
   "execution_count": null,
   "id": "3a8afdd1",
   "metadata": {},
   "outputs": [],
   "source": [
    "tmp_reasons = [\n",
    "    'Error occurred when attempting to synch meter time with NIC time for device', \n",
    "    'Under Voltage for meter', \n",
    "    'Primary Power Down occurred for meter', \n",
    "    'Primary Power Up occurred for meter', \n",
    "    'Last Gasp - NIC power lost for device'\n",
    "]"
   ]
  },
  {
   "cell_type": "code",
   "execution_count": null,
   "id": "58b19c44",
   "metadata": {},
   "outputs": [],
   "source": [
    "dev_X_train.columns[dev_X_train.columns.get_level_values(1).isin(tmp_reasons)]"
   ]
  },
  {
   "cell_type": "code",
   "execution_count": null,
   "id": "0dff9411",
   "metadata": {},
   "outputs": [],
   "source": [
    "tmp_cols = dev_X_train.columns[dev_X_train.columns.get_level_values(1).isin(tmp_reasons)]"
   ]
  },
  {
   "cell_type": "code",
   "execution_count": null,
   "id": "36e9f7c3",
   "metadata": {},
   "outputs": [],
   "source": [
    "tmp_counts = (dev_X_train[tmp_cols]>0.10).sum(axis=1)"
   ]
  },
  {
   "cell_type": "code",
   "execution_count": null,
   "id": "86d738ed",
   "metadata": {},
   "outputs": [],
   "source": [
    "tmp_idxs = tmp_counts.index[tmp_counts>5]"
   ]
  },
  {
   "cell_type": "code",
   "execution_count": null,
   "id": "c9a05952",
   "metadata": {},
   "outputs": [],
   "source": [
    "dev_y_train.loc[tmp_idxs]"
   ]
  },
  {
   "cell_type": "code",
   "execution_count": null,
   "id": "f5a642f5",
   "metadata": {},
   "outputs": [],
   "source": [
    "print(len(tmp_idxs))\n",
    "print(dev_y_train.loc[tmp_idxs].sum())"
   ]
  },
  {
   "cell_type": "code",
   "execution_count": null,
   "id": "5670f815",
   "metadata": {},
   "outputs": [],
   "source": []
  },
  {
   "cell_type": "code",
   "execution_count": null,
   "id": "a50eac19",
   "metadata": {},
   "outputs": [],
   "source": []
  },
  {
   "cell_type": "code",
   "execution_count": null,
   "id": "33daf3ea",
   "metadata": {},
   "outputs": [],
   "source": []
  },
  {
   "cell_type": "code",
   "execution_count": null,
   "id": "f3206b6e",
   "metadata": {},
   "outputs": [],
   "source": []
  },
  {
   "cell_type": "code",
   "execution_count": null,
   "id": "6d420879",
   "metadata": {},
   "outputs": [],
   "source": []
  },
  {
   "cell_type": "code",
   "execution_count": null,
   "id": "cac1a546",
   "metadata": {},
   "outputs": [],
   "source": []
  },
  {
   "cell_type": "code",
   "execution_count": null,
   "id": "588a1f31",
   "metadata": {},
   "outputs": [],
   "source": [
    "dev_X_train[tmp_cols]"
   ]
  },
  {
   "cell_type": "code",
   "execution_count": null,
   "id": "72937fa6",
   "metadata": {},
   "outputs": [],
   "source": [
    "counts_per_pd_i = (dev_X_train[tmp_cols]['01-05 Days']>0.10).sum(axis=1)\n",
    "counts_per_pd_i.name = '01-05 Days'"
   ]
  },
  {
   "cell_type": "code",
   "execution_count": null,
   "id": "ce1f8447",
   "metadata": {},
   "outputs": [],
   "source": []
  },
  {
   "cell_type": "code",
   "execution_count": null,
   "id": "a39e5f01",
   "metadata": {},
   "outputs": [],
   "source": []
  },
  {
   "cell_type": "code",
   "execution_count": null,
   "id": "0a9a044b",
   "metadata": {},
   "outputs": [],
   "source": [
    "counts_per_pd = []\n",
    "pds = dev_X_train.columns.get_level_values(0).unique().tolist()\n",
    "for pd_i in pds:\n",
    "    counts_per_pd_i = (dev_X_train[tmp_cols][pd_i]>0.10).sum(axis=1)\n",
    "    counts_per_pd_i.name = pd_i  \n",
    "    counts_per_pd.append(counts_per_pd_i)"
   ]
  },
  {
   "cell_type": "code",
   "execution_count": null,
   "id": "0a9def29",
   "metadata": {},
   "outputs": [],
   "source": [
    "counts_per_pd = reduce(lambda left,right: pd.merge(left, right, left_index=True, right_index=True, how='inner'), counts_per_pd)"
   ]
  },
  {
   "cell_type": "code",
   "execution_count": null,
   "id": "665b4f7b",
   "metadata": {},
   "outputs": [],
   "source": [
    "counts_per_pd"
   ]
  },
  {
   "cell_type": "code",
   "execution_count": null,
   "id": "96229193",
   "metadata": {},
   "outputs": [],
   "source": [
    "(counts_per_pd>1)"
   ]
  },
  {
   "cell_type": "code",
   "execution_count": null,
   "id": "cdb8b767",
   "metadata": {},
   "outputs": [],
   "source": [
    "tmp_day_counts = (counts_per_pd>3).sum(axis=1)"
   ]
  },
  {
   "cell_type": "code",
   "execution_count": null,
   "id": "bf67f370",
   "metadata": {},
   "outputs": [],
   "source": [
    "tmp_idxs = tmp_day_counts.index[tmp_day_counts>1]"
   ]
  },
  {
   "cell_type": "code",
   "execution_count": null,
   "id": "92c39965",
   "metadata": {},
   "outputs": [],
   "source": [
    "print(len(tmp_idxs))\n",
    "print(dev_y_train.loc[tmp_idxs].sum())"
   ]
  },
  {
   "cell_type": "code",
   "execution_count": null,
   "id": "3065d728",
   "metadata": {},
   "outputs": [],
   "source": [
    "dev_y_train.sum()"
   ]
  },
  {
   "cell_type": "code",
   "execution_count": null,
   "id": "c59ed48c",
   "metadata": {},
   "outputs": [],
   "source": [
    "counts_per_pd.loc[tmp_idxs]"
   ]
  },
  {
   "cell_type": "code",
   "execution_count": null,
   "id": "2fe226af",
   "metadata": {},
   "outputs": [],
   "source": []
  },
  {
   "cell_type": "code",
   "execution_count": null,
   "id": "9d8df84d",
   "metadata": {},
   "outputs": [],
   "source": []
  },
  {
   "cell_type": "code",
   "execution_count": null,
   "id": "6ef5345a",
   "metadata": {},
   "outputs": [],
   "source": []
  },
  {
   "cell_type": "markdown",
   "id": "33802424",
   "metadata": {},
   "source": [
    "# Impact Estimate"
   ]
  },
  {
   "cell_type": "code",
   "execution_count": null,
   "id": "61545647",
   "metadata": {},
   "outputs": [],
   "source": [
    "print(X_HOLDOUT.shape)\n",
    "print(y_HOLDOUT.shape)\n",
    "print(full_data_df_HOLDOUT.shape)"
   ]
  },
  {
   "cell_type": "code",
   "execution_count": null,
   "id": "6c8de4b6",
   "metadata": {},
   "outputs": [],
   "source": [
    "full_data_df_HOLDOUT"
   ]
  },
  {
   "cell_type": "code",
   "execution_count": null,
   "id": "a525f471",
   "metadata": {},
   "outputs": [],
   "source": [
    "y_HOLDOUT.sum()"
   ]
  },
  {
   "cell_type": "code",
   "execution_count": null,
   "id": "b0054f52",
   "metadata": {},
   "outputs": [],
   "source": [
    "X_by_confusion_result = get_X_entries_by_binary_confusion_matrix_result(X_HOLDOUT, y_HOLDOUT, y_pred_HOLDOUT)\n",
    "X_by_confusion_result = convert_X_by_confusion_results_to_dfs(\n",
    "    X_by_confusion_result=X_by_confusion_result, \n",
    "    full_data_df=full_data_df_HOLDOUT, \n",
    "    run_PCA=run_PCA, \n",
    "    run_scaler=run_scaler    \n",
    ")\n",
    "\n",
    "X_tp = X_by_confusion_result['X_tp']\n",
    "X_tn = X_by_confusion_result['X_tn']\n",
    "X_fp = X_by_confusion_result['X_fp']\n",
    "X_fn = X_by_confusion_result['X_fn']"
   ]
  },
  {
   "cell_type": "code",
   "execution_count": null,
   "id": "e599227d",
   "metadata": {},
   "outputs": [],
   "source": [
    "print('TP', X_tp.shape)\n",
    "print('TN', X_tn.shape)\n",
    "print('FP', X_fp.shape)\n",
    "print('FN', X_fn.shape)"
   ]
  },
  {
   "cell_type": "code",
   "execution_count": null,
   "id": "d2775349",
   "metadata": {},
   "outputs": [],
   "source": []
  },
  {
   "cell_type": "code",
   "execution_count": null,
   "id": "a975ad00",
   "metadata": {},
   "outputs": [],
   "source": [
    "print(X_HOLDOUT.shape)\n",
    "print(y_HOLDOUT.shape)\n",
    "print(full_data_df_HOLDOUT.shape)"
   ]
  },
  {
   "cell_type": "code",
   "execution_count": null,
   "id": "633ca8bf",
   "metadata": {},
   "outputs": [],
   "source": [
    "#-------------------------\n",
    "# Set y_pred column in full_data_df_HOLDOUT\n",
    "assert(X_HOLDOUT.shape[0]==y_HOLDOUT.shape[0]==full_data_df_HOLDOUT.shape[0])\n",
    "assert(X_HOLDOUT.shape[1]+1==full_data_df_HOLDOUT.shape[1])\n",
    "assert(full_data_df_HOLDOUT[('is_outg', 'is_outg')].equals(y_HOLDOUT))\n",
    "full_data_df_HOLDOUT[(('y_pred','y_pred'))]=y_pred_HOLDOUT"
   ]
  },
  {
   "cell_type": "code",
   "execution_count": null,
   "id": "642bbf5b",
   "metadata": {},
   "outputs": [],
   "source": [
    "#-------------------------\n",
    "# Restore MultiIndex index of full_data_df_HOLDOUT which was lost when outages and non-outages were combined.\n",
    "#   Non-outages will have None (I believe converted to NaN) for level 0 index value (i.e., for the outg_rec_nb index)\n",
    "full_data_df_HOLDOUT.index = pd.MultiIndex.from_tuples([x if isinstance(x,tuple) else (None, x) for x in full_data_df_HOLDOUT.index.tolist()])\n",
    "full_data_df_HOLDOUT.index.names=['outg_rec_nb', 'trsf_pole_nb']"
   ]
  },
  {
   "cell_type": "code",
   "execution_count": null,
   "id": "2b9cb183",
   "metadata": {},
   "outputs": [],
   "source": [
    "#-------------------------\n",
    "# Split full_data_df_HOLDOUT into tp, tn, fp, fn\n",
    "#----------\n",
    "full_data_tp = full_data_df_HOLDOUT[\n",
    "    (full_data_df_HOLDOUT[('is_outg', 'is_outg')]==1) & \n",
    "    (full_data_df_HOLDOUT[('y_pred', 'y_pred')]  ==1)\n",
    "].copy()\n",
    "#----------\n",
    "full_data_tn = full_data_df_HOLDOUT[\n",
    "    (full_data_df_HOLDOUT[('is_outg', 'is_outg')]==0) & \n",
    "    (full_data_df_HOLDOUT[('y_pred', 'y_pred')]  ==0)\n",
    "].copy()\n",
    "#----------\n",
    "full_data_fp = full_data_df_HOLDOUT[\n",
    "    (full_data_df_HOLDOUT[('is_outg', 'is_outg')]==0) & \n",
    "    (full_data_df_HOLDOUT[('y_pred', 'y_pred')]  ==1)\n",
    "].copy()\n",
    "#----------\n",
    "full_data_fn = full_data_df_HOLDOUT[\n",
    "    (full_data_df_HOLDOUT[('is_outg', 'is_outg')]==1) & \n",
    "    (full_data_df_HOLDOUT[('y_pred', 'y_pred')]  ==0)\n",
    "].copy()\n",
    "#----------"
   ]
  },
  {
   "cell_type": "code",
   "execution_count": null,
   "id": "7235894a",
   "metadata": {},
   "outputs": [],
   "source": [
    "print(f'full_data_tp.shape[0] = {full_data_tp.shape[0]}')\n",
    "print(f'full_data_tn.shape[0] = {full_data_tn.shape[0]}')\n",
    "print(f'full_data_fp.shape[0] = {full_data_fp.shape[0]}')\n",
    "print(f'full_data_fn.shape[0] = {full_data_fn.shape[0]}')\n",
    "print()\n",
    "print('tp and fn should be true outages, therefore should have index level 0 values (for outg_rec_nb)')\n",
    "print(f'#NaNs TP: {full_data_tp.index.get_level_values(0).isna().sum()}')\n",
    "print(f'#NaNs FN: {full_data_fn.index.get_level_values(0).isna().sum()}')\n",
    "print()\n",
    "print('tn and fp should NOT be outages, therefore should have only NaN index level 0 values (for outg_rec_nb)')\n",
    "print(f'#not-NaNs TN: {full_data_tn.index.get_level_values(0).notna().sum()}')\n",
    "print(f'#not-NaNs FP: {full_data_fp.index.get_level_values(0).notna().sum()}')"
   ]
  },
  {
   "cell_type": "code",
   "execution_count": null,
   "id": "715acb50",
   "metadata": {},
   "outputs": [],
   "source": []
  },
  {
   "cell_type": "code",
   "execution_count": null,
   "id": "f5d4b107",
   "metadata": {
    "scrolled": true
   },
   "outputs": [],
   "source": [
    "dovs_outgs_tp = DOVSOutages(\n",
    "    df_construct_type=DFConstructType.kRunSqlQuery, \n",
    "    contstruct_df_args=None, \n",
    "    init_df_in_constructor=True,\n",
    "    build_sql_function=DOVSOutages_SQL.build_sql_std_outage, \n",
    "    build_sql_function_kwargs=dict(\n",
    "        outg_rec_nbs=full_data_tp.index.get_level_values(0).unique().tolist(), \n",
    "        field_to_split='outg_rec_nbs', \n",
    "        batch_size=1000, \n",
    "        verbose=True,\n",
    "        n_update=1\n",
    "    ), \n",
    "    build_consolidated=True\n",
    ")\n",
    "dovs_outgs_df_tp = dovs_outgs_tp.df.copy()"
   ]
  },
  {
   "cell_type": "code",
   "execution_count": null,
   "id": "77edf6a4",
   "metadata": {},
   "outputs": [],
   "source": [
    "dovs_outgs_fn = DOVSOutages(\n",
    "    df_construct_type=DFConstructType.kRunSqlQuery, \n",
    "    contstruct_df_args=None, \n",
    "    init_df_in_constructor=True,\n",
    "    build_sql_function=DOVSOutages_SQL.build_sql_std_outage, \n",
    "    build_sql_function_kwargs=dict(\n",
    "        outg_rec_nbs=full_data_fn.index.get_level_values(0).unique().tolist(), \n",
    "        field_to_split='outg_rec_nbs', \n",
    "        batch_size=1000, \n",
    "        verbose=True,\n",
    "        n_update=1\n",
    "    ), \n",
    "    build_consolidated=True\n",
    ")\n",
    "dovs_outgs_df_fn = dovs_outgs_fn.df.copy()"
   ]
  },
  {
   "cell_type": "code",
   "execution_count": null,
   "id": "4e3c4d6d",
   "metadata": {},
   "outputs": [],
   "source": [
    "dovs_outgs_df_tp.describe()"
   ]
  },
  {
   "cell_type": "code",
   "execution_count": null,
   "id": "2fbe5773",
   "metadata": {},
   "outputs": [],
   "source": [
    "dovs_outgs_df_fn.describe()"
   ]
  },
  {
   "cell_type": "code",
   "execution_count": null,
   "id": "a58a165f",
   "metadata": {},
   "outputs": [],
   "source": []
  },
  {
   "cell_type": "code",
   "execution_count": null,
   "id": "bd648a60",
   "metadata": {},
   "outputs": [],
   "source": [
    "dovs_outgs_df_tp[['CI_NB', 'CMI_NB']].sum()"
   ]
  },
  {
   "cell_type": "code",
   "execution_count": null,
   "id": "d8fb5574",
   "metadata": {},
   "outputs": [],
   "source": [
    "dovs_outgs_df_fn[['CI_NB', 'CMI_NB']].sum()"
   ]
  },
  {
   "cell_type": "code",
   "execution_count": null,
   "id": "935e22a2",
   "metadata": {},
   "outputs": [],
   "source": [
    "dovs_outgs_df_tp"
   ]
  },
  {
   "cell_type": "code",
   "execution_count": null,
   "id": "7f7d7db2",
   "metadata": {},
   "outputs": [],
   "source": [
    "# len(Utilities_df.consolidate_column_of_lists(dovs_outgs_df_tp, 'premise_nbs'))"
   ]
  },
  {
   "cell_type": "code",
   "execution_count": null,
   "id": "46b5f336",
   "metadata": {},
   "outputs": [],
   "source": []
  },
  {
   "cell_type": "code",
   "execution_count": null,
   "id": "412bb50b",
   "metadata": {},
   "outputs": [],
   "source": [
    "n_xfmr_crct_inspct = full_data_tp.index.get_level_values(1).nunique()\n",
    "print(f'Number of transformers crews correctly sent to:   {n_xfmr_crct_inspct}')\n",
    "#-----\n",
    "n_xfmr_incrct_inspct = full_data_fp.index.get_level_values(1).nunique()\n",
    "print(f'Number of transformers crews incorrectly sent to: {n_xfmr_incrct_inspct}')\n",
    "#-----\n",
    "print()\n",
    "print(f\"Total CI possibly avoided:  {dovs_outgs_df_tp['CI_NB'].sum()}\")\n",
    "print(f\"Total CMI possibly avoided: {dovs_outgs_df_tp['CMI_NB'].sum()}\")\n",
    "#-----\n",
    "print()\n",
    "print(f\"Total CI possibly missed:  {dovs_outgs_df_fn['CI_NB'].sum()}\")\n",
    "print(f\"Total CMI possibly missed: {dovs_outgs_df_fn['CMI_NB'].sum()}\")"
   ]
  },
  {
   "cell_type": "code",
   "execution_count": null,
   "id": "17b9f30f",
   "metadata": {},
   "outputs": [],
   "source": []
  },
  {
   "cell_type": "code",
   "execution_count": null,
   "id": "11e54bd0",
   "metadata": {},
   "outputs": [],
   "source": [
    "outg_rec_nbs_tp = full_data_tp.index.get_level_values(0).unique().tolist()\n",
    "outg_rec_nbs_fn = full_data_fn.index.get_level_values(0).unique().tolist()\n",
    "#-----\n",
    "print(f'len(outg_rec_nbs_tp) = {len(outg_rec_nbs_tp)}')\n",
    "print(f'len(outg_rec_nbs_fn) = {len(outg_rec_nbs_fn)}')\n",
    "print(f'Intersection: {len(set(outg_rec_nbs_tp).intersection(set(outg_rec_nbs_fn)))}')\n",
    "print(f'In TP not FN: {len(set(outg_rec_nbs_tp).difference(set(outg_rec_nbs_fn)))}')\n",
    "print(f'In FN not TP: {len(set(outg_rec_nbs_fn).difference(set(outg_rec_nbs_tp)))}')"
   ]
  },
  {
   "cell_type": "code",
   "execution_count": null,
   "id": "c1bcde16",
   "metadata": {},
   "outputs": [],
   "source": [
    "set(outg_rec_nbs_tp).intersection(set(outg_rec_nbs_fn))"
   ]
  },
  {
   "cell_type": "code",
   "execution_count": null,
   "id": "2600fb2d",
   "metadata": {},
   "outputs": [],
   "source": [
    "fck = dovs_outgs_df_tp.loc[set(outg_rec_nbs_tp).intersection(set(outg_rec_nbs_fn))].copy()\n",
    "fck[fck['EQUIP_TYP_NM'].isin(['TRANSFORMER, OH', 'TRANSFORMER, UG'])]"
   ]
  },
  {
   "cell_type": "code",
   "execution_count": null,
   "id": "56359ee2",
   "metadata": {},
   "outputs": [],
   "source": []
  },
  {
   "cell_type": "code",
   "execution_count": null,
   "id": "bf11b0e7",
   "metadata": {},
   "outputs": [],
   "source": [
    "outg_rec_nb_i = '12818346'"
   ]
  },
  {
   "cell_type": "code",
   "execution_count": null,
   "id": "059ebb16",
   "metadata": {},
   "outputs": [],
   "source": [
    "dovs_outgs_df_tp.loc[outg_rec_nb_i]"
   ]
  },
  {
   "cell_type": "code",
   "execution_count": null,
   "id": "b43a6ab3",
   "metadata": {},
   "outputs": [],
   "source": []
  },
  {
   "cell_type": "code",
   "execution_count": null,
   "id": "d64c1968",
   "metadata": {},
   "outputs": [],
   "source": [
    "full_data_tp.loc[outg_rec_nb_i]"
   ]
  },
  {
   "cell_type": "code",
   "execution_count": null,
   "id": "71a8fecb",
   "metadata": {},
   "outputs": [],
   "source": [
    "# full_data_fn.loc[outg_rec_nb_i]"
   ]
  },
  {
   "cell_type": "code",
   "execution_count": null,
   "id": "88ba8aa9",
   "metadata": {},
   "outputs": [],
   "source": [
    "full_data_df_HOLDOUT.loc[outg_rec_nb_i]"
   ]
  },
  {
   "cell_type": "code",
   "execution_count": null,
   "id": "8b1f5a8b",
   "metadata": {},
   "outputs": [],
   "source": [
    "dovs_outgs_df_tp.loc[outg_rec_nb_i]"
   ]
  },
  {
   "cell_type": "code",
   "execution_count": null,
   "id": "a5f8c2b5",
   "metadata": {},
   "outputs": [],
   "source": [
    "outg_rec_nb_i"
   ]
  },
  {
   "cell_type": "code",
   "execution_count": null,
   "id": "3d2c044d",
   "metadata": {},
   "outputs": [],
   "source": []
  },
  {
   "cell_type": "code",
   "execution_count": null,
   "id": "e7696207",
   "metadata": {},
   "outputs": [],
   "source": []
  },
  {
   "cell_type": "code",
   "execution_count": null,
   "id": "4f2aed57",
   "metadata": {},
   "outputs": [],
   "source": [
    "full_data_df_HOLDOUT_OUTG = full_data_df_HOLDOUT[full_data_df_HOLDOUT[('is_outg', 'is_outg')]==1].copy()\n",
    "#-----\n",
    "full_data_df_HOLDOUT_OUTG = DOVSOutages.append_outg_info_to_df(\n",
    "    df=full_data_df_HOLDOUT_OUTG, \n",
    "    outg_rec_nb_idfr=('index', 'outg_rec_nb'), \n",
    "    build_sql_function=DOVSOutages_SQL.build_sql_std_outage, \n",
    ")"
   ]
  },
  {
   "cell_type": "code",
   "execution_count": null,
   "id": "6756fc7c",
   "metadata": {},
   "outputs": [],
   "source": [
    "full_data_df_HOLDOUT_OUTG.columns"
   ]
  },
  {
   "cell_type": "code",
   "execution_count": null,
   "id": "b381f8e9",
   "metadata": {},
   "outputs": [],
   "source": [
    "full_data_df_HOLDOUT_OUTG"
   ]
  },
  {
   "cell_type": "code",
   "execution_count": null,
   "id": "613695bb",
   "metadata": {},
   "outputs": [],
   "source": [
    "full_data_df_HOLDOUT_OUTG[full_data_df_HOLDOUT_OUTG.index.get_level_values(0).notna()]"
   ]
  },
  {
   "cell_type": "code",
   "execution_count": null,
   "id": "2c615958",
   "metadata": {},
   "outputs": [],
   "source": [
    "full_data_df_HOLDOUT_OUTG[full_data_df_HOLDOUT_OUTG.index.get_level_values(1)==full_data_df_HOLDOUT_OUTG['LOCATION_ID']]"
   ]
  },
  {
   "cell_type": "code",
   "execution_count": null,
   "id": "1e9be5f8",
   "metadata": {},
   "outputs": [],
   "source": [
    "full_data_df_HOLDOUT_OUTG[\n",
    "    (full_data_df_HOLDOUT_OUTG['MJR_CAUSE_CD']=='DL') & \n",
    "    (full_data_df_HOLDOUT_OUTG['MNR_CAUSE_CD']=='EQF') & \n",
    "    (full_data_df_HOLDOUT_OUTG['EQUIP_TYP_NM'].isin(['TRANSFORMER, OH', 'TRANSFORMER, UG']))\n",
    "]"
   ]
  },
  {
   "cell_type": "code",
   "execution_count": null,
   "id": "c11257d3",
   "metadata": {},
   "outputs": [],
   "source": [
    "full_data_df_HOLDOUT_OUTG[\n",
    "    (full_data_df_HOLDOUT_OUTG['MJR_CAUSE_CD']=='DL') & \n",
    "    (full_data_df_HOLDOUT_OUTG['MNR_CAUSE_CD']=='EQF') & \n",
    "    (full_data_df_HOLDOUT_OUTG['EQUIP_TYP_NM'].isin(['TRANSFORMER, OH', 'TRANSFORMER, UG'])) & \n",
    "    (full_data_df_HOLDOUT_OUTG.index.get_level_values(1)==full_data_df_HOLDOUT_OUTG['LOCATION_ID'])\n",
    "]"
   ]
  },
  {
   "cell_type": "code",
   "execution_count": null,
   "id": "57703e1b",
   "metadata": {},
   "outputs": [],
   "source": [
    "full_data_df_HOLDOUT_OUTG[\n",
    "    (full_data_df_HOLDOUT_OUTG['MJR_CAUSE_CD']=='DL') & \n",
    "    (full_data_df_HOLDOUT_OUTG['MNR_CAUSE_CD']=='EQF') & \n",
    "    (full_data_df_HOLDOUT_OUTG['EQUIP_TYP_NM'].isin(['TRANSFORMER, OH', 'TRANSFORMER, UG'])) & \n",
    "    (full_data_df_HOLDOUT_OUTG.index.get_level_values(1)!=full_data_df_HOLDOUT_OUTG['LOCATION_ID'])\n",
    "]"
   ]
  },
  {
   "cell_type": "code",
   "execution_count": null,
   "id": "48dee944",
   "metadata": {},
   "outputs": [],
   "source": []
  },
  {
   "cell_type": "code",
   "execution_count": null,
   "id": "6e7ead0b",
   "metadata": {},
   "outputs": [],
   "source": []
  },
  {
   "cell_type": "code",
   "execution_count": null,
   "id": "6922d6d4",
   "metadata": {},
   "outputs": [],
   "source": []
  },
  {
   "cell_type": "code",
   "execution_count": null,
   "id": "c8eebe7a",
   "metadata": {},
   "outputs": [],
   "source": []
  },
  {
   "cell_type": "code",
   "execution_count": null,
   "id": "56c0c05e",
   "metadata": {},
   "outputs": [],
   "source": [
    "outg_rec_nbs_tp = full_data_tp.index.get_level_values(0).unique().tolist()\n",
    "outg_rec_nbs_fn = full_data_fn.index.get_level_values(0).unique().tolist()\n",
    "#-----\n",
    "print(f'len(outg_rec_nbs_tp) = {len(outg_rec_nbs_tp)}')\n",
    "print(f'len(outg_rec_nbs_fn) = {len(outg_rec_nbs_fn)}')\n",
    "print(f'Intersection: {len(set(outg_rec_nbs_tp).intersection(set(outg_rec_nbs_fn)))}')\n",
    "print(f'In TP not FN: {len(set(outg_rec_nbs_tp).difference(set(outg_rec_nbs_fn)))}')\n",
    "print(f'In FN not TP: {len(set(outg_rec_nbs_fn).difference(set(outg_rec_nbs_tp)))}')"
   ]
  },
  {
   "cell_type": "code",
   "execution_count": null,
   "id": "60dc2ab8",
   "metadata": {},
   "outputs": [],
   "source": []
  },
  {
   "cell_type": "code",
   "execution_count": null,
   "id": "c973ce9e",
   "metadata": {},
   "outputs": [],
   "source": [
    "print(f'Total number of outages in TP & FN: {len(set(outg_rec_nbs_tp+outg_rec_nbs_fn))}')\n",
    "print()\n",
    "print(f'Number of outages in TP:      {len(outg_rec_nbs_tp)}')\n",
    "print(f'Number of outages ONLY in TP: {len(set(outg_rec_nbs_tp).difference(set(outg_rec_nbs_fn)))}')\n",
    "print()\n",
    "print(f'Number of outages in FN:      {len(outg_rec_nbs_fn)}')\n",
    "print(f'Number of outages ONLY in FN: {len(set(outg_rec_nbs_fn).difference(set(outg_rec_nbs_tp)))}')\n",
    "print()\n",
    "print(f'Number of outages in both TP and FN: {len(set(outg_rec_nbs_tp).intersection(set(outg_rec_nbs_fn)))}')"
   ]
  },
  {
   "cell_type": "code",
   "execution_count": null,
   "id": "8092a44b",
   "metadata": {},
   "outputs": [],
   "source": [
    "dovs_outgs_df_tp"
   ]
  },
  {
   "cell_type": "code",
   "execution_count": null,
   "id": "39bbe8df",
   "metadata": {},
   "outputs": [],
   "source": []
  },
  {
   "cell_type": "code",
   "execution_count": null,
   "id": "6215020d",
   "metadata": {},
   "outputs": [],
   "source": [
    "dovs_outgs_tp = DOVSOutages(\n",
    "    df_construct_type=DFConstructType.kRunSqlQuery, \n",
    "    contstruct_df_args=None, \n",
    "    init_df_in_constructor=True,\n",
    "    build_sql_function=DOVSOutages_SQL.build_sql_std_outage, \n",
    "    build_sql_function_kwargs=dict(\n",
    "#         outg_rec_nbs=full_data_tp.index.get_level_values(0).unique().tolist(),\n",
    "        outg_rec_nbs=list(set(outg_rec_nbs_tp).difference(set(outg_rec_nbs_fn))), \n",
    "        field_to_split='outg_rec_nbs'\n",
    "    ), \n",
    "    build_consolidated=True\n",
    ")\n",
    "dovs_outgs_df_tp = dovs_outgs_tp.df.copy()"
   ]
  },
  {
   "cell_type": "code",
   "execution_count": null,
   "id": "6368be25",
   "metadata": {},
   "outputs": [],
   "source": [
    "dovs_outgs_fn = DOVSOutages(\n",
    "    df_construct_type=DFConstructType.kRunSqlQuery, \n",
    "    contstruct_df_args=None, \n",
    "    init_df_in_constructor=True,\n",
    "    build_sql_function=DOVSOutages_SQL.build_sql_std_outage, \n",
    "    build_sql_function_kwargs=dict(\n",
    "#         outg_rec_nbs=full_data_fn.index.get_level_values(0).unique().tolist(), \n",
    "        outg_rec_nbs=list(set(outg_rec_nbs_fn).difference(set(outg_rec_nbs_tp))), \n",
    "        field_to_split='outg_rec_nbs'\n",
    "    ), \n",
    "    build_consolidated=True\n",
    ")\n",
    "dovs_outgs_df_fn = dovs_outgs_fn.df.copy()"
   ]
  },
  {
   "cell_type": "code",
   "execution_count": null,
   "id": "17028457",
   "metadata": {},
   "outputs": [],
   "source": [
    "dovs_outgs_tpfn = DOVSOutages(\n",
    "    df_construct_type=DFConstructType.kRunSqlQuery, \n",
    "    contstruct_df_args=None, \n",
    "    init_df_in_constructor=True,\n",
    "    build_sql_function=DOVSOutages_SQL.build_sql_std_outage, \n",
    "    build_sql_function_kwargs=dict( \n",
    "        outg_rec_nbs=list(set(outg_rec_nbs_tp).intersection(set(outg_rec_nbs_fn))), \n",
    "        field_to_split='outg_rec_nbs'\n",
    "    ), \n",
    "    build_consolidated=True\n",
    ")\n",
    "dovs_outgs_df_tpfn = dovs_outgs_tpfn.df.copy()"
   ]
  },
  {
   "cell_type": "code",
   "execution_count": null,
   "id": "832ea852",
   "metadata": {},
   "outputs": [],
   "source": [
    "# dovs_outgs_fp = DOVSOutages(\n",
    "#     df_construct_type=DFConstructType.kRunSqlQuery, \n",
    "#     contstruct_df_args=None, \n",
    "#     init_df_in_constructor=True,\n",
    "#     build_sql_function=DOVSOutages_SQL.build_sql_std_outage, \n",
    "#     build_sql_function_kwargs=dict(\n",
    "#         outg_rec_nbs=full_data_fp.index.get_level_values(0).unique().tolist(), \n",
    "#         field_to_split='outg_rec_nbs'\n",
    "#     ), \n",
    "#     build_consolidated=True\n",
    "# )\n",
    "# dovs_outgs_df_fp = dovs_outgs_fp.df.copy()"
   ]
  },
  {
   "cell_type": "code",
   "execution_count": null,
   "id": "75274cbd",
   "metadata": {},
   "outputs": [],
   "source": []
  },
  {
   "cell_type": "code",
   "execution_count": null,
   "id": "d8f3f77e",
   "metadata": {},
   "outputs": [],
   "source": [
    "print('-'*50)\n",
    "print('COMPLETELY IDENTIFIED OUTAGES')\n",
    "print('\\tMeaning all meters affected by outage predict the outage')\n",
    "print(f\"Total CI:  {dovs_outgs_df_tp['CI_NB'].sum():,}\")\n",
    "print(f\"Total CMI: {dovs_outgs_df_tp['CMI_NB'].sum():,}\")\n",
    "print()\n",
    "print('-'*50)\n",
    "print('PARTIALLY IDENTIFIED OUTAGES')\n",
    "print('\\tMeaning some (but not all) meters affected by outage predict the outage')\n",
    "print(f\"Total CI:  {dovs_outgs_df_tpfn['CI_NB'].sum():,}\")\n",
    "print(f\"Total CMI: {dovs_outgs_df_tpfn['CMI_NB'].sum():,}\")\n",
    "print()\n",
    "print('-'*50)\n",
    "print('NOT IDENTIFIED OUTAGES')\n",
    "print('\\tMeaning none of the meters affected by outage predict the outage')\n",
    "print(f\"Total CI:  {dovs_outgs_df_fn['CI_NB'].sum():,}\")\n",
    "print(f\"Total CMI: {dovs_outgs_df_fn['CMI_NB'].sum():,}\")\n",
    "print()"
   ]
  },
  {
   "cell_type": "code",
   "execution_count": null,
   "id": "07fb97fe",
   "metadata": {},
   "outputs": [],
   "source": [
    "print('-'*50)\n",
    "print('COMPLETELY IDENTIFIED OUTAGES')\n",
    "print('\\tMeaning all meters affected by outage predict the outage')\n",
    "print(f\"Total CI:  {dovs_outgs_df_tp['CI_NB'].sum():e}\")\n",
    "print(f\"Total CMI: {dovs_outgs_df_tp['CMI_NB'].sum():e}\")\n",
    "print()\n",
    "print('-'*50)\n",
    "print('PARTIALLY IDENTIFIED OUTAGES')\n",
    "print('\\tMeaning some (but not all) meters affected by outage predict the outage')\n",
    "print(f\"Total CI:  {dovs_outgs_df_tpfn['CI_NB'].sum():e}\")\n",
    "print(f\"Total CMI: {dovs_outgs_df_tpfn['CMI_NB'].sum():e}\")\n",
    "print()\n",
    "print('-'*50)\n",
    "print('NOT IDENTIFIED OUTAGES')\n",
    "print('\\tMeaning none of the meters affected by outage predict the outage')\n",
    "print(f\"Total CI:  {dovs_outgs_df_fn['CI_NB'].sum():e}\")\n",
    "print(f\"Total CMI: {dovs_outgs_df_fn['CMI_NB'].sum():e}\")\n",
    "print()"
   ]
  },
  {
   "cell_type": "code",
   "execution_count": null,
   "id": "1bbe5538",
   "metadata": {},
   "outputs": [],
   "source": [
    "n_xfmr_crct_inspct = full_data_tp.index.get_level_values(1).nunique()\n",
    "print(f'Number of transformers crews correctly sent to:   {n_xfmr_crct_inspct}')\n",
    "#-----\n",
    "n_xfmr_incrct_inspct = full_data_fp.index.get_level_values(1).nunique()\n",
    "print(f'Number of transformers crews incorrectly sent to: {n_xfmr_incrct_inspct}')\n",
    "#-----\n",
    "print()\n",
    "print(f\"Total CI possibly avoided:  {dovs_outgs_df_tp['CI_NB'].sum()}\")\n",
    "print(f\"Total CMI possibly avoided: {dovs_outgs_df_tp['CMI_NB'].sum()}\")\n",
    "#-----\n",
    "print()\n",
    "print(f\"Total CI possibly missed:  {dovs_outgs_df_fn['CI_NB'].sum()}\")\n",
    "print(f\"Total CMI possibly missed: {dovs_outgs_df_fn['CMI_NB'].sum()}\")\n",
    "#-----\n",
    "print()\n",
    "print(f\"Total CI possibly missed:  {dovs_outgs_df_tpfn['CI_NB'].sum()}\")\n",
    "print(f\"Total CMI possibly missed: {dovs_outgs_df_tpfn['CMI_NB'].sum()}\")"
   ]
  },
  {
   "cell_type": "code",
   "execution_count": null,
   "id": "e8a6c245",
   "metadata": {},
   "outputs": [],
   "source": []
  },
  {
   "cell_type": "code",
   "execution_count": null,
   "id": "c973ed4c",
   "metadata": {},
   "outputs": [],
   "source": []
  },
  {
   "cell_type": "code",
   "execution_count": null,
   "id": "ed6b8b0f",
   "metadata": {},
   "outputs": [],
   "source": []
  },
  {
   "cell_type": "code",
   "execution_count": null,
   "id": "4197274b",
   "metadata": {},
   "outputs": [],
   "source": []
  },
  {
   "cell_type": "code",
   "execution_count": null,
   "id": "2da68e6c",
   "metadata": {},
   "outputs": [],
   "source": [
    "def set_pct_col(df, col='SUM_CMI_NB', pct_col='pct_cmi_nb'): \n",
    "    df[pct_col] = 100*df[col]/df[col].sum()\n",
    "    return df\n",
    "\n",
    "\n",
    "# def draw_outages_summary_barplot(fig, ax, df, \n",
    "#                                  x_col='MJR_MNR_CAUSE_NM', y_col='pct_cmi_nb', \n",
    "#                                  sort_values=True, y_threshold=None, abbr_leg_str=None, \n",
    "#                                  include_labels='include', \n",
    "#                                  x_tick_new_labels_dict=None, return_x_values_included=False, \n",
    "#                                  **kwargs):\n",
    "#     # Current kwargs keys: 'palette_dict', 'xlabel' 'ylabel', 'x_tick_rotation', 'title', 'title_font_size'\n",
    "#     # y_threshold:\n",
    "#     #     if y_threshold is not None, it should be a dict with keys = ['threshold_col', 'threshold_val']\n",
    "#     #       e.g. y_threshold={'threshold_col':'pct_cmi_nb', 'threshold_val':1.0}\n",
    "#     # include_labels: \n",
    "#     #     can equal 'include', 'exclude', 'passive' (CASE INSENSITIVE)\n",
    "#     include_labels = include_labels.lower()\n",
    "#     possible_include_labels = ['include', 'exclude', 'passive']\n",
    "#     if include_labels not in possible_include_labels:\n",
    "#         possible_include_labels = 'include'\n",
    "#     #---------------\n",
    "#     if y_threshold is not None:\n",
    "#         assert('threshold_col' in y_threshold and 'threshold_val' in y_threshold)\n",
    "#         df_to_plot = df[df[y_threshold['threshold_col']] > y_threshold['threshold_val']].copy()\n",
    "#     else:\n",
    "#         df_to_plot = df.copy()\n",
    "#     #---------------\n",
    "#     if sort_values:\n",
    "#         df_to_plot = df_to_plot.sort_values(by=y_col, ascending=False)\n",
    "#     #---------------\n",
    "#     sns.barplot(ax=ax, x=x_col, y=y_col, data=df_to_plot, \n",
    "#                 palette=kwargs.get('palette_dict', None))\n",
    "#     #---------------\n",
    "#     if include_labels=='include':\n",
    "#         ax.set_ylabel(kwargs.get('ylabel', y_col), fontsize=24, x=0.0, y=0.8, ha='left', va='bottom')\n",
    "#         ax.set_xlabel(kwargs.get('xlabel', x_col), fontsize=24, x=0.9, y=0.0, ha='right', va='top')   \n",
    "#         ax.tick_params(axis='both', labelsize=12)\n",
    "\n",
    "#         x_tick_rotation = kwargs.get('x_tick_rotation', 90)\n",
    "#         ax.tick_params(axis='x', labelrotation=x_tick_rotation, labelsize=12.0, direction='in')\n",
    "#         if x_tick_rotation != 0 and x_tick_rotation != 90:\n",
    "#             #-- Align rotated labels with ticks at end, not center\n",
    "#             for label in ax.xaxis.get_majorticklabels():\n",
    "#                 label.set_horizontalalignment('right')\n",
    "\n",
    "#         if x_tick_new_labels_dict is not None:\n",
    "#             labels = [x.get_text() for x in ax.get_xticklabels()]\n",
    "#             new_labels = [x_tick_new_labels_dict[x] for x in labels]\n",
    "#             ax.set_xticklabels(new_labels)\n",
    "#     elif include_labels=='exclude':\n",
    "#         ax.set(xticklabels=[])\n",
    "#         ax.set(yticklabels=[])\n",
    "#         ax.set(xlabel=None)\n",
    "#         ax.set(ylabel=None)\n",
    "#     else:\n",
    "#         assert(include_labels=='passive')\n",
    "#     #---------------\n",
    "#     if abbr_leg_str is not None:\n",
    "#         ax.text(1.025, 0.9, abbr_leg_str, transform=ax.transAxes, fontsize=20, ha='left', va='top')\n",
    "#     ax.set_title(kwargs.get('title', None), fontsize=kwargs.get('title_font_size', 40))\n",
    "#     if return_x_values_included:\n",
    "#         return fig, ax, df_to_plot[x_col].unique().tolist()\n",
    "#     else:\n",
    "#         return fig,ax\n",
    "\n",
    "\n",
    "\n",
    "def draw_outages_summary_barplot(\n",
    "    fig, \n",
    "    ax, \n",
    "    df, \n",
    "    x_col='MJR_MNR_CAUSE_NM', \n",
    "    y_col='pct_cmi_nb', \n",
    "    sort_values=True, \n",
    "    y_threshold=None, \n",
    "    order=None,\n",
    "    abbr_leg_str=None, \n",
    "    include_labels='include', \n",
    "    x_tick_new_labels_dict=None, \n",
    "    return_x_values_included=False, \n",
    "    div_drawn_width_by=None, \n",
    "    relative_position_idx=None,\n",
    "    **kwargs\n",
    "):\n",
    "    r\"\"\"\n",
    "    Current kwargs keys: \n",
    "        palette_dict\n",
    "        xlabel\n",
    "        ylabel\n",
    "        x_tick_rotation\n",
    "        title\n",
    "        title_font_size\n",
    "        hatch\n",
    "        \n",
    "    y_threshold:\n",
    "        if y_threshold is not None, it should be a dict with keys = ['threshold_col', 'threshold_val']\n",
    "          e.g. y_threshold={'threshold_col':'pct_cmi_nb', 'threshold_val':1.0}\n",
    "    include_labels: \n",
    "        can equal 'include', 'exclude', 'passive' (CASE INSENSITIVE)\n",
    "    \"\"\"\n",
    "    #-------------------------\n",
    "    # If order is given, both y_threshold and sort_values will be ignored\n",
    "    # NOTE: Through order one can also set the number of reasons to be included\n",
    "    if order is not None:\n",
    "        if sort_values:\n",
    "            print('Warning: order is not None, so sort_values will be ignored')\n",
    "            sort_values=False\n",
    "        if y_threshold is not None:\n",
    "            print('Warning: order is not None, so y_threshold will be ignored')\n",
    "            y_threshold = None\n",
    "    #---------------------------\n",
    "    n_patches_beg = len(ax.patches) # Needed in case adjust_bar_and_line_positions_and_widths used\n",
    "    #-------------------------\n",
    "    include_labels = include_labels.lower()\n",
    "    possible_include_labels = ['include', 'exclude', 'passive']\n",
    "    if include_labels not in possible_include_labels:\n",
    "        possible_include_labels = 'include'\n",
    "    #---------------\n",
    "    if y_threshold is not None:\n",
    "        assert('threshold_col' in y_threshold and 'threshold_val' in y_threshold)\n",
    "        df_to_plot = df[df[y_threshold['threshold_col']] > y_threshold['threshold_val']].copy()\n",
    "    else:\n",
    "        df_to_plot = df.copy()\n",
    "    #---------------\n",
    "    if sort_values:\n",
    "        df_to_plot = df_to_plot.sort_values(by=y_col, ascending=False)\n",
    "    #---------------\n",
    "    sns.barplot(\n",
    "        ax=ax, \n",
    "        x=x_col, \n",
    "        y=y_col, \n",
    "        data=df_to_plot, \n",
    "        order=order, \n",
    "        palette=kwargs.get('palette_dict', None), \n",
    "        hatch=kwargs.get('hatch', None))\n",
    "    #---------------------------\n",
    "    n_patches_end = len(ax.patches) # Needed in case properties of over/underflow bins need changed\n",
    "    #---------------------------\n",
    "    if div_drawn_width_by is not None:\n",
    "        if relative_position_idx is None:\n",
    "            relative_position_idx = 0\n",
    "        ax = Plot_Bar.adjust_bar_and_line_positions_and_widths(\n",
    "            ax=ax, \n",
    "            div_width_by=div_drawn_width_by, \n",
    "            position_idx=relative_position_idx, \n",
    "            i_patch_beg=n_patches_beg, \n",
    "            i_patch_end=n_patches_end, \n",
    "            orient='v'\n",
    "        )\n",
    "    #---------------\n",
    "    if include_labels=='include':\n",
    "        ax.set_ylabel(kwargs.get('ylabel', y_col), fontsize=24, x=0.0, y=0.8, ha='left', va='bottom')\n",
    "        ax.set_xlabel(kwargs.get('xlabel', x_col), fontsize=24, x=0.9, y=0.0, ha='right', va='top')   \n",
    "        ax.tick_params(axis='both', labelsize=12)\n",
    "\n",
    "        x_tick_rotation = kwargs.get('x_tick_rotation', 90)\n",
    "        ax.tick_params(axis='x', labelrotation=x_tick_rotation, labelsize=12.0, direction='in')\n",
    "        if x_tick_rotation != 0 and x_tick_rotation != 90:\n",
    "            #-- Align rotated labels with ticks at end, not center\n",
    "            for label in ax.xaxis.get_majorticklabels():\n",
    "                label.set_horizontalalignment('right')\n",
    "\n",
    "        if x_tick_new_labels_dict is not None:\n",
    "            labels = [x.get_text() for x in ax.get_xticklabels()]\n",
    "            new_labels = [x_tick_new_labels_dict[x] for x in labels]\n",
    "            ax.set_xticklabels(new_labels)\n",
    "    elif include_labels=='exclude':\n",
    "        ax.set(xticklabels=[])\n",
    "        ax.set(yticklabels=[])\n",
    "        ax.set(xlabel=None)\n",
    "        ax.set(ylabel=None)\n",
    "    else:\n",
    "        assert(include_labels=='passive')\n",
    "    #---------------\n",
    "    if abbr_leg_str is not None:\n",
    "        ax.text(1.025, 0.9, abbr_leg_str, transform=ax.transAxes, fontsize=20, ha='left', va='top')\n",
    "    ax.set_title(kwargs.get('title', None), fontsize=kwargs.get('title_font_size', 40))\n",
    "    if return_x_values_included:\n",
    "        return fig, ax, df_to_plot[x_col].unique().tolist()\n",
    "    else:\n",
    "        return fig,ax"
   ]
  },
  {
   "cell_type": "code",
   "execution_count": null,
   "id": "7bf4999c",
   "metadata": {},
   "outputs": [],
   "source": [
    "mjr_cause_cd_to_nm_dict = DOVSOutages.get_mjr_cause_cd_to_nm_dict()\n",
    "mjr_cause_nm_abbr_dict = {v:k for k,v in mjr_cause_cd_to_nm_dict.items()}\n",
    "max_len_abbr = len(max(list(mjr_cause_nm_abbr_dict.values()), key = len))\n",
    "abbr_leg_str = ''\n",
    "for mjr_cause in mjr_cause_nm_abbr_dict:\n",
    "    abbr_leg_str += '{}: {}\\n'.format(mjr_cause_nm_abbr_dict[mjr_cause].ljust(max_len_abbr), mjr_cause)"
   ]
  },
  {
   "cell_type": "code",
   "execution_count": null,
   "id": "27eeb6a3",
   "metadata": {},
   "outputs": [],
   "source": [
    "outgs_tp_mjr_mnr = dovs_outgs_df_tp.groupby(['MJR_CAUSE_CD', 'MNR_CAUSE_CD', 'MJR_CAUSE_NM', 'MNR_CAUSE_NM'])[['CI_NB', 'CMI_NB']].apply(sum).reset_index()\n",
    "outgs_tp_mjr_mnr = set_pct_col(outgs_tp_mjr_mnr, col='CMI_NB', pct_col='pct_cmi_nb')\n",
    "outgs_tp_mjr_mnr = set_pct_col(outgs_tp_mjr_mnr, col='CI_NB', pct_col='pct_ci_nb')\n",
    "outgs_tp_mjr_mnr = DOVSOutages.set_mjr_mnr_cause_nm_col(outgs_tp_mjr_mnr, set_null_to_NA=True, mjr_cause_nm_abbr_dict=mjr_cause_nm_abbr_dict)\n",
    "#-------------------------\n",
    "# outgs_tp_eqp_type = dovs_outgs_df_tp[(dovs_outgs_df_tp['MJR_CAUSE_CD']=='DL') & (dovs_outgs_df_tp['MNR_CAUSE_CD']=='EQF')].copy()\n",
    "# outgs_tp_eqp_type = outgs_tp_eqp_type.groupby(['EQUIP_TYP_NM', 'SHORT_NM_EQP_TYP'])[['CI_NB', 'CMI_NB']].apply(sum).reset_index()\n",
    "outgs_tp_eqp_type = dovs_outgs_df_tp.groupby(['EQUIP_TYP_NM', 'SHORT_NM_EQP_TYP'])[['CI_NB', 'CMI_NB']].apply(sum).reset_index()\n",
    "outgs_tp_eqp_type = set_pct_col(outgs_tp_eqp_type, col='CMI_NB', pct_col='pct_cmi_nb')\n",
    "outgs_tp_eqp_type = set_pct_col(outgs_tp_eqp_type, col='CI_NB', pct_col='pct_ci_nb')"
   ]
  },
  {
   "cell_type": "code",
   "execution_count": null,
   "id": "17ffc1e2",
   "metadata": {},
   "outputs": [],
   "source": [
    "outgs_fn_mjr_mnr = dovs_outgs_df_fn.groupby(['MJR_CAUSE_CD', 'MNR_CAUSE_CD', 'MJR_CAUSE_NM', 'MNR_CAUSE_NM'])[['CI_NB', 'CMI_NB']].apply(sum).reset_index()\n",
    "outgs_fn_mjr_mnr = set_pct_col(outgs_fn_mjr_mnr, col='CMI_NB', pct_col='pct_cmi_nb')\n",
    "outgs_fn_mjr_mnr = set_pct_col(outgs_fn_mjr_mnr, col='CI_NB', pct_col='pct_ci_nb')\n",
    "outgs_fn_mjr_mnr = DOVSOutages.set_mjr_mnr_cause_nm_col(outgs_fn_mjr_mnr, set_null_to_NA=True, mjr_cause_nm_abbr_dict=mjr_cause_nm_abbr_dict)\n",
    "#-------------------------\n",
    "# outgs_fn_eqp_type = dovs_outgs_df_fn[(dovs_outgs_df_fn['MJR_CAUSE_CD']=='DL') & (dovs_outgs_df_fn['MNR_CAUSE_CD']=='EQF')].copy()\n",
    "# outgs_fn_eqp_type = outgs_fn_eqp_type.groupby(['EQUIP_TYP_NM', 'SHORT_NM_EQP_TYP'])[['CI_NB', 'CMI_NB']].apply(sum).reset_index()\n",
    "outgs_fn_eqp_type = dovs_outgs_df_fn.groupby(['EQUIP_TYP_NM', 'SHORT_NM_EQP_TYP'])[['CI_NB', 'CMI_NB']].apply(sum).reset_index()\n",
    "outgs_fn_eqp_type = set_pct_col(outgs_fn_eqp_type, col='CMI_NB', pct_col='pct_cmi_nb')\n",
    "outgs_fn_eqp_type = set_pct_col(outgs_fn_eqp_type, col='CI_NB', pct_col='pct_ci_nb')"
   ]
  },
  {
   "cell_type": "code",
   "execution_count": null,
   "id": "9f110476",
   "metadata": {},
   "outputs": [],
   "source": [
    "outgs_tpfn_mjr_mnr = dovs_outgs_df_tpfn.groupby(['MJR_CAUSE_CD', 'MNR_CAUSE_CD', 'MJR_CAUSE_NM', 'MNR_CAUSE_NM'])[['CI_NB', 'CMI_NB']].apply(sum).reset_index()\n",
    "outgs_tpfn_mjr_mnr = set_pct_col(outgs_tpfn_mjr_mnr, col='CMI_NB', pct_col='pct_cmi_nb')\n",
    "outgs_tpfn_mjr_mnr = set_pct_col(outgs_tpfn_mjr_mnr, col='CI_NB', pct_col='pct_ci_nb')\n",
    "outgs_tpfn_mjr_mnr = DOVSOutages.set_mjr_mnr_cause_nm_col(outgs_tpfn_mjr_mnr, set_null_to_NA=True, mjr_cause_nm_abbr_dict=mjr_cause_nm_abbr_dict)\n",
    "#-------------------------\n",
    "# outgs_tpfn_eqp_type = dovs_outgs_df_tpfn[(dovs_outgs_df_tpfn['MJR_CAUSE_CD']=='DL') & (dovs_outgs_df_tpfn['MNR_CAUSE_CD']=='EQF')].copy()\n",
    "# outgs_tpfn_eqp_type = outgs_tpfn_eqp_type.groupby(['EQUIP_TYP_NM', 'SHORT_NM_EQP_TYP'])[['CI_NB', 'CMI_NB']].apply(sum).reset_index()\n",
    "outgs_tpfn_eqp_type = dovs_outgs_df_tpfn.groupby(['EQUIP_TYP_NM', 'SHORT_NM_EQP_TYP'])[['CI_NB', 'CMI_NB']].apply(sum).reset_index()\n",
    "outgs_tpfn_eqp_type = set_pct_col(outgs_tpfn_eqp_type, col='CMI_NB', pct_col='pct_cmi_nb')\n",
    "outgs_tpfn_eqp_type = set_pct_col(outgs_tpfn_eqp_type, col='CI_NB', pct_col='pct_ci_nb')"
   ]
  },
  {
   "cell_type": "code",
   "execution_count": null,
   "id": "058873e5",
   "metadata": {},
   "outputs": [],
   "source": [
    "fig_num=1"
   ]
  },
  {
   "cell_type": "code",
   "execution_count": null,
   "id": "24e175f2",
   "metadata": {},
   "outputs": [],
   "source": [
    "pct_cutoff = 1.0\n",
    "\n",
    "fig, ax = plt.subplots(1, 1, num=fig_num, figsize=[11, 8.5])\n",
    "fig, ax = draw_outages_summary_barplot(fig, ax, outgs_tp_mjr_mnr, \n",
    "                                       x_col='MJR_MNR_CAUSE_NM', y_col='pct_cmi_nb', \n",
    "                                       y_threshold={'threshold_col':'pct_cmi_nb', 'threshold_val':pct_cutoff}, \n",
    "                                       ylabel='% CMI', xlabel='Major-Minor Cause', title='Outage CMI by Cause', \n",
    "                                       x_tick_rotation=90, \n",
    "#                                        palette_dict=palette_dict, order=tmp_reasons\n",
    "                                      )\n",
    "fig_num += 1 "
   ]
  },
  {
   "cell_type": "code",
   "execution_count": null,
   "id": "bb88bc2e",
   "metadata": {},
   "outputs": [],
   "source": [
    "pct_cutoff = 1.0\n",
    "\n",
    "fig, ax = plt.subplots(1, 1, num=fig_num, figsize=[11, 8.5])\n",
    "fig, ax = draw_outages_summary_barplot(fig, ax, outgs_fn_mjr_mnr, \n",
    "                                       x_col='MJR_MNR_CAUSE_NM', y_col='pct_cmi_nb', \n",
    "                                       y_threshold={'threshold_col':'pct_cmi_nb', 'threshold_val':pct_cutoff}, \n",
    "                                       ylabel='% CMI', xlabel='Major-Minor Cause', title='Outage CMI by Cause', \n",
    "                                       x_tick_rotation=90, \n",
    "#                                        palette_dict=palette_dict, order=tmp_reasons\n",
    "                                      )\n",
    "fig_num += 1 "
   ]
  },
  {
   "cell_type": "code",
   "execution_count": null,
   "id": "64b7923a",
   "metadata": {},
   "outputs": [],
   "source": [
    "pct_cutoff = 1.0\n",
    "\n",
    "fig, ax = plt.subplots(1, 1, num=fig_num, figsize=[11, 8.5])\n",
    "fig, ax = draw_outages_summary_barplot(fig, ax, outgs_tpfn_mjr_mnr, \n",
    "                                       x_col='MJR_MNR_CAUSE_NM', y_col='pct_cmi_nb', \n",
    "                                       y_threshold={'threshold_col':'pct_cmi_nb', 'threshold_val':pct_cutoff}, \n",
    "                                       ylabel='% CMI', xlabel='Major-Minor Cause', title='Outage CMI by Cause', \n",
    "                                       x_tick_rotation=90, \n",
    "#                                        palette_dict=palette_dict, order=tmp_reasons\n",
    "                                      )\n",
    "fig_num += 1 "
   ]
  },
  {
   "cell_type": "code",
   "execution_count": null,
   "id": "20ba338c",
   "metadata": {},
   "outputs": [],
   "source": []
  },
  {
   "cell_type": "code",
   "execution_count": null,
   "id": "8305854f",
   "metadata": {},
   "outputs": [],
   "source": [
    "top_causes_tp_cmi = outgs_tp_mjr_mnr[outgs_tp_mjr_mnr['pct_cmi_nb']>pct_cutoff].sort_values(by='pct_cmi_nb', ascending=False)[['MJR_MNR_CAUSE_NM', 'pct_cmi_nb']]\n",
    "top_causes_tp_ci  = outgs_tp_mjr_mnr[outgs_tp_mjr_mnr['pct_ci_nb']>pct_cutoff].sort_values(by='pct_ci_nb', ascending=False)[['MJR_MNR_CAUSE_NM', 'pct_ci_nb']]\n",
    "#-----\n",
    "top_causes_tp_cmi = top_causes_tp_cmi.rename(columns={'pct_cmi_nb':'pct'})\n",
    "top_causes_tp_ci  = top_causes_tp_ci.rename(columns={'pct_ci_nb':'pct'})\n",
    "#-------------------------\n",
    "top_causes_fn_cmi = outgs_fn_mjr_mnr[outgs_fn_mjr_mnr['pct_cmi_nb']>pct_cutoff].sort_values(by='pct_cmi_nb', ascending=False)[['MJR_MNR_CAUSE_NM', 'pct_cmi_nb']]\n",
    "top_causes_fn_ci  = outgs_fn_mjr_mnr[outgs_fn_mjr_mnr['pct_ci_nb']>pct_cutoff].sort_values(by='pct_ci_nb', ascending=False)[['MJR_MNR_CAUSE_NM', 'pct_ci_nb']]\n",
    "#-----\n",
    "top_causes_fn_cmi = top_causes_fn_cmi.rename(columns={'pct_cmi_nb':'pct'})\n",
    "top_causes_fn_ci  = top_causes_fn_ci.rename(columns={'pct_ci_nb':'pct'})\n",
    "#-------------------------\n",
    "top_causes_tpfn_cmi = outgs_tpfn_mjr_mnr[outgs_tpfn_mjr_mnr['pct_cmi_nb']>pct_cutoff].sort_values(by='pct_cmi_nb', ascending=False)[['MJR_MNR_CAUSE_NM', 'pct_cmi_nb']]\n",
    "top_causes_tpfn_ci  = outgs_tpfn_mjr_mnr[outgs_tpfn_mjr_mnr['pct_ci_nb']>pct_cutoff].sort_values(by='pct_ci_nb', ascending=False)[['MJR_MNR_CAUSE_NM', 'pct_ci_nb']]\n",
    "#-----\n",
    "top_causes_tpfn_cmi = top_causes_tpfn_cmi.rename(columns={'pct_cmi_nb':'pct'})\n",
    "top_causes_tpfn_ci  = top_causes_tpfn_ci.rename(columns={'pct_ci_nb':'pct'})\n",
    "#-------------------------\n",
    "top_causes = pd.concat([top_causes_tp_cmi, top_causes_tp_ci, top_causes_fn_cmi, top_causes_fn_ci, top_causes_tpfn_cmi, top_causes_tpfn_ci])\n",
    "top_causes = top_causes.groupby('MJR_MNR_CAUSE_NM')['pct'].apply(max).to_frame().reset_index().sort_values(by='pct', ignore_index=True, ascending=False)\n",
    "palette_dict = Plot_General.get_standard_colors_dict(top_causes['MJR_MNR_CAUSE_NM'].tolist())\n",
    "\n",
    "\n",
    "\n",
    "fig, ax = plt.subplots(1, 1, num=fig_num, figsize=[11, 8.5])\n",
    "legend_elements = []\n",
    "#-------------------------\n",
    "fig, ax, x_values_included = draw_outages_summary_barplot(\n",
    "    fig=fig, \n",
    "    ax=ax, \n",
    "    df=outgs_tp_mjr_mnr, \n",
    "    x_col='MJR_MNR_CAUSE_NM', \n",
    "    y_col='pct_ci_nb', \n",
    "    sort_values=True, \n",
    "    y_threshold={'threshold_col':'pct_ci_nb', 'threshold_val':pct_cutoff}, \n",
    "    order=None, \n",
    "    return_x_values_included=True, \n",
    "    div_drawn_width_by=3, \n",
    "    relative_position_idx=0, \n",
    "    ylabel='% CI', \n",
    "    xlabel='Major-Minor Cause', \n",
    "    title='Outage CI by Cause', \n",
    "    x_tick_rotation=90, \n",
    "    palette_dict={k:'green' for k,v in palette_dict.items()}, \n",
    "    hatch='/'\n",
    ")\n",
    "legend_elements.append(mpatches.Patch(facecolor='green', fill=True, hatch='/', label='TP'))\n",
    "#-------------------------\n",
    "fig, ax = draw_outages_summary_barplot(\n",
    "    fig=fig, \n",
    "    ax=ax, \n",
    "    df=outgs_fn_mjr_mnr, \n",
    "    x_col='MJR_MNR_CAUSE_NM', \n",
    "    y_col='pct_ci_nb', \n",
    "    sort_values=False, \n",
    "    y_threshold=None, \n",
    "    order=x_values_included, \n",
    "    return_x_values_included=False, \n",
    "    div_drawn_width_by=3, \n",
    "    relative_position_idx=1, \n",
    "    ylabel='% CI', \n",
    "    xlabel='Major-Minor Cause', \n",
    "    title='Outage CI by Cause', \n",
    "    x_tick_rotation=90, \n",
    "    palette_dict={k:'red' for k,v in palette_dict.items()}, \n",
    "    hatch='\\\\\\\\'\n",
    ")\n",
    "legend_elements.append(mpatches.Patch(facecolor='red', fill=True, hatch='\\\\\\\\', label='FN'))\n",
    "#-------------------------\n",
    "fig, ax = draw_outages_summary_barplot(\n",
    "    fig=fig, \n",
    "    ax=ax, \n",
    "    df=outgs_tpfn_mjr_mnr, \n",
    "    x_col='MJR_MNR_CAUSE_NM', \n",
    "    y_col='pct_ci_nb', \n",
    "    sort_values=False, \n",
    "    y_threshold=None, \n",
    "    order=x_values_included, \n",
    "    return_x_values_included=False, \n",
    "    div_drawn_width_by=3, \n",
    "    relative_position_idx=2, \n",
    "    ylabel='% CI', \n",
    "    xlabel='Major-Minor Cause', \n",
    "    title='Outage CI by Cause', \n",
    "    x_tick_rotation=90, \n",
    "    palette_dict={k:'orange' for k,v in palette_dict.items()}, \n",
    "    hatch='\\\\\\\\'\n",
    ")\n",
    "legend_elements.append(mpatches.Patch(facecolor='orange', fill=True, hatch='\\\\\\\\', label='TP&FN'))\n",
    "#-------------------------\n",
    "ax.legend(\n",
    "    title=None, \n",
    "    handles=legend_elements, \n",
    "    fontsize=20, \n",
    "    title_fontsize=30, \n",
    "    loc='upper right'\n",
    ")\n",
    "\n",
    "Plot_General.save_fig(fig, r'C:\\Users\\s346557\\Documents\\Presentations\\OutagePredictions\\MeterEvents\\Initial_Impact_Assessment\\Figures\\Full', 'CI_by_cause.png')\n",
    "#-------------------------\n",
    "fig_num += 1 "
   ]
  },
  {
   "cell_type": "code",
   "execution_count": null,
   "id": "2b192cd7",
   "metadata": {},
   "outputs": [],
   "source": []
  },
  {
   "cell_type": "code",
   "execution_count": null,
   "id": "cee5e616",
   "metadata": {},
   "outputs": [],
   "source": [
    "top_causes_tp_cmi = outgs_tp_mjr_mnr[outgs_tp_mjr_mnr['pct_cmi_nb']>pct_cutoff].sort_values(by='pct_cmi_nb', ascending=False)[['MJR_MNR_CAUSE_NM', 'pct_cmi_nb']]\n",
    "top_causes_tp_ci  = outgs_tp_mjr_mnr[outgs_tp_mjr_mnr['pct_ci_nb']>pct_cutoff].sort_values(by='pct_ci_nb', ascending=False)[['MJR_MNR_CAUSE_NM', 'pct_ci_nb']]\n",
    "#-----\n",
    "top_causes_tp_cmi = top_causes_tp_cmi.rename(columns={'pct_cmi_nb':'pct'})\n",
    "top_causes_tp_ci  = top_causes_tp_ci.rename(columns={'pct_ci_nb':'pct'})\n",
    "#-------------------------\n",
    "top_causes_fn_cmi = outgs_fn_mjr_mnr[outgs_fn_mjr_mnr['pct_cmi_nb']>pct_cutoff].sort_values(by='pct_cmi_nb', ascending=False)[['MJR_MNR_CAUSE_NM', 'pct_cmi_nb']]\n",
    "top_causes_fn_ci  = outgs_fn_mjr_mnr[outgs_fn_mjr_mnr['pct_ci_nb']>pct_cutoff].sort_values(by='pct_ci_nb', ascending=False)[['MJR_MNR_CAUSE_NM', 'pct_ci_nb']]\n",
    "#-----\n",
    "top_causes_fn_cmi = top_causes_fn_cmi.rename(columns={'pct_cmi_nb':'pct'})\n",
    "top_causes_fn_ci  = top_causes_fn_ci.rename(columns={'pct_ci_nb':'pct'})\n",
    "#-------------------------\n",
    "top_causes_tpfn_cmi = outgs_tpfn_mjr_mnr[outgs_tpfn_mjr_mnr['pct_cmi_nb']>pct_cutoff].sort_values(by='pct_cmi_nb', ascending=False)[['MJR_MNR_CAUSE_NM', 'pct_cmi_nb']]\n",
    "top_causes_tpfn_ci  = outgs_tpfn_mjr_mnr[outgs_tpfn_mjr_mnr['pct_ci_nb']>pct_cutoff].sort_values(by='pct_ci_nb', ascending=False)[['MJR_MNR_CAUSE_NM', 'pct_ci_nb']]\n",
    "#-----\n",
    "top_causes_tpfn_cmi = top_causes_tpfn_cmi.rename(columns={'pct_cmi_nb':'pct'})\n",
    "top_causes_tpfn_ci  = top_causes_tpfn_ci.rename(columns={'pct_ci_nb':'pct'})\n",
    "#-------------------------\n",
    "top_causes = pd.concat([top_causes_tp_cmi, top_causes_tp_ci, top_causes_fn_cmi, top_causes_fn_ci, top_causes_tpfn_cmi, top_causes_tpfn_ci])\n",
    "top_causes = top_causes.groupby('MJR_MNR_CAUSE_NM')['pct'].apply(max).to_frame().reset_index().sort_values(by='pct', ignore_index=True, ascending=False)\n",
    "palette_dict = Plot_General.get_standard_colors_dict(top_causes['MJR_MNR_CAUSE_NM'].tolist())\n",
    "\n",
    "\n",
    "\n",
    "fig, ax = plt.subplots(1, 1, num=fig_num, figsize=[11, 8.5])\n",
    "legend_elements = []\n",
    "#-------------------------\n",
    "fig, ax, x_values_included = draw_outages_summary_barplot(\n",
    "    fig=fig, \n",
    "    ax=ax, \n",
    "    df=outgs_tp_mjr_mnr, \n",
    "    x_col='MJR_MNR_CAUSE_NM', \n",
    "    y_col='pct_cmi_nb', \n",
    "    sort_values=True, \n",
    "    y_threshold={'threshold_col':'pct_cmi_nb', 'threshold_val':pct_cutoff}, \n",
    "    order=None, \n",
    "    return_x_values_included=True, \n",
    "    div_drawn_width_by=3, \n",
    "    relative_position_idx=0, \n",
    "    ylabel='% CMI', \n",
    "    xlabel='Major-Minor Cause', \n",
    "    title='Outage CMI by Cause', \n",
    "    x_tick_rotation=90, \n",
    "    palette_dict={k:'green' for k,v in palette_dict.items()}, \n",
    "    hatch='/'\n",
    ")\n",
    "legend_elements.append(mpatches.Patch(facecolor='green', fill=True, hatch='/', label='TP'))\n",
    "#-------------------------\n",
    "fig, ax = draw_outages_summary_barplot(\n",
    "    fig=fig, \n",
    "    ax=ax, \n",
    "    df=outgs_fn_mjr_mnr, \n",
    "    x_col='MJR_MNR_CAUSE_NM', \n",
    "    y_col='pct_cmi_nb', \n",
    "    sort_values=False, \n",
    "    y_threshold=None, \n",
    "    order=x_values_included, \n",
    "    return_x_values_included=False, \n",
    "    div_drawn_width_by=3, \n",
    "    relative_position_idx=1, \n",
    "    ylabel='% CMI', \n",
    "    xlabel='Major-Minor Cause', \n",
    "    title='Outage CMI by Cause', \n",
    "    x_tick_rotation=90, \n",
    "    palette_dict={k:'red' for k,v in palette_dict.items()}, \n",
    "    hatch='\\\\\\\\'\n",
    ")\n",
    "legend_elements.append(mpatches.Patch(facecolor='red', fill=True, hatch='\\\\\\\\', label='FN'))\n",
    "#-------------------------\n",
    "fig, ax = draw_outages_summary_barplot(\n",
    "    fig=fig, \n",
    "    ax=ax, \n",
    "    df=outgs_tpfn_mjr_mnr, \n",
    "    x_col='MJR_MNR_CAUSE_NM', \n",
    "    y_col='pct_cmi_nb', \n",
    "    sort_values=False, \n",
    "    y_threshold=None, \n",
    "    order=x_values_included, \n",
    "    return_x_values_included=False, \n",
    "    div_drawn_width_by=3, \n",
    "    relative_position_idx=2, \n",
    "    ylabel='% CMI', \n",
    "    xlabel='Major-Minor Cause', \n",
    "    title='Outage CMI by Cause', \n",
    "    x_tick_rotation=90, \n",
    "    palette_dict={k:'orange' for k,v in palette_dict.items()}, \n",
    "    hatch='\\\\\\\\'\n",
    ")\n",
    "legend_elements.append(mpatches.Patch(facecolor='orange', fill=True, hatch='\\\\\\\\', label='TP&FN'))\n",
    "#-------------------------\n",
    "ax.legend(\n",
    "    title=None, \n",
    "    handles=legend_elements, \n",
    "    fontsize=20, \n",
    "    title_fontsize=30, \n",
    "    loc='upper right'\n",
    ")\n",
    "\n",
    "Plot_General.save_fig(fig, r'C:\\Users\\s346557\\Documents\\Presentations\\OutagePredictions\\MeterEvents\\Initial_Impact_Assessment\\Figures\\Full', 'CMI_by_cause.png')\n",
    "#-------------------------\n",
    "fig_num += 1 "
   ]
  },
  {
   "cell_type": "code",
   "execution_count": null,
   "id": "23f2f992",
   "metadata": {},
   "outputs": [],
   "source": []
  },
  {
   "cell_type": "code",
   "execution_count": null,
   "id": "4ce47631",
   "metadata": {},
   "outputs": [],
   "source": []
  },
  {
   "cell_type": "code",
   "execution_count": null,
   "id": "e9eed93c",
   "metadata": {},
   "outputs": [],
   "source": []
  },
  {
   "cell_type": "code",
   "execution_count": null,
   "id": "b8548dc0",
   "metadata": {},
   "outputs": [],
   "source": []
  },
  {
   "cell_type": "code",
   "execution_count": null,
   "id": "085ee500",
   "metadata": {},
   "outputs": [],
   "source": [
    "pct_cutoff = 1.0\n",
    "\n",
    "fig, ax = plt.subplots(1, 1, num=fig_num, figsize=[11, 8.5])\n",
    "fig, ax = draw_outages_summary_barplot(fig, ax, outgs_tp_eqp_type, \n",
    "                                       x_col='EQUIP_TYP_NM', y_col='pct_cmi_nb', \n",
    "                                       y_threshold={'threshold_col':'pct_cmi_nb', 'threshold_val':pct_cutoff}, \n",
    "                                       ylabel='% CMI', xlabel='Equipment Type', title='Outage CI by Equip. Type)', \n",
    "                                       x_tick_rotation=90, \n",
    "#                                        palette_dict=palette_dict, order=tmp_reasons\n",
    "                                      )\n",
    "fig_num += 1 "
   ]
  },
  {
   "cell_type": "code",
   "execution_count": null,
   "id": "0cf54341",
   "metadata": {},
   "outputs": [],
   "source": [
    "pct_cutoff = 1.0\n",
    "\n",
    "fig, ax = plt.subplots(1, 1, num=fig_num, figsize=[11, 8.5])\n",
    "fig, ax = draw_outages_summary_barplot(fig, ax, outgs_fn_eqp_type, \n",
    "                                       x_col='EQUIP_TYP_NM', y_col='pct_cmi_nb', \n",
    "                                       y_threshold={'threshold_col':'pct_cmi_nb', 'threshold_val':pct_cutoff}, \n",
    "                                       ylabel='% CMI', xlabel='Equipment Type', title='Outage CI by Equip. Type', \n",
    "                                       x_tick_rotation=90, \n",
    "#                                        palette_dict=palette_dict, order=tmp_reasons\n",
    "                                      )\n",
    "fig_num += 1 "
   ]
  },
  {
   "cell_type": "code",
   "execution_count": null,
   "id": "26b78118",
   "metadata": {},
   "outputs": [],
   "source": [
    "pct_cutoff = 1.0\n",
    "\n",
    "fig, ax = plt.subplots(1, 1, num=fig_num, figsize=[11, 8.5])\n",
    "fig, ax = draw_outages_summary_barplot(fig, ax, outgs_tpfn_eqp_type, \n",
    "                                       x_col='EQUIP_TYP_NM', y_col='pct_cmi_nb', \n",
    "                                       y_threshold={'threshold_col':'pct_cmi_nb', 'threshold_val':pct_cutoff}, \n",
    "                                       ylabel='% CMI', xlabel='Equipment Type', title='Outage CI by Equip. Type', \n",
    "                                       x_tick_rotation=90, \n",
    "#                                        palette_dict=palette_dict, order=tmp_reasons\n",
    "                                      )\n",
    "fig_num += 1 "
   ]
  },
  {
   "cell_type": "code",
   "execution_count": null,
   "id": "4cf7c79c",
   "metadata": {},
   "outputs": [],
   "source": [
    "top_equip_types_tp_cmi = outgs_tp_eqp_type[outgs_tp_eqp_type['pct_cmi_nb']>pct_cutoff].sort_values(by='pct_cmi_nb', ascending=False)[['EQUIP_TYP_NM', 'pct_cmi_nb']]\n",
    "top_equip_types_tp_ci  = outgs_tp_eqp_type[outgs_tp_eqp_type['pct_ci_nb']>pct_cutoff].sort_values(by='pct_ci_nb', ascending=False)[['EQUIP_TYP_NM', 'pct_ci_nb']]\n",
    "#-----\n",
    "top_equip_types_tp_cmi = top_equip_types_tp_cmi.rename(columns={'pct_cmi_nb':'pct'})\n",
    "top_equip_types_tp_ci  = top_equip_types_tp_ci.rename(columns={'pct_ci_nb':'pct'})\n",
    "#-------------------------\n",
    "top_equip_types_fn_cmi = outgs_fn_eqp_type[outgs_fn_eqp_type['pct_cmi_nb']>pct_cutoff].sort_values(by='pct_cmi_nb', ascending=False)[['EQUIP_TYP_NM', 'pct_cmi_nb']]\n",
    "top_equip_types_fn_ci  = outgs_fn_eqp_type[outgs_fn_eqp_type['pct_ci_nb']>pct_cutoff].sort_values(by='pct_ci_nb', ascending=False)[['EQUIP_TYP_NM', 'pct_ci_nb']]\n",
    "#-----\n",
    "top_equip_types_fn_cmi = top_equip_types_fn_cmi.rename(columns={'pct_cmi_nb':'pct'})\n",
    "top_equip_types_fn_ci  = top_equip_types_fn_ci.rename(columns={'pct_ci_nb':'pct'})\n",
    "#-------------------------\n",
    "top_equip_types_tpfn_cmi = outgs_tpfn_eqp_type[outgs_tpfn_eqp_type['pct_cmi_nb']>pct_cutoff].sort_values(by='pct_cmi_nb', ascending=False)[['EQUIP_TYP_NM', 'pct_cmi_nb']]\n",
    "top_equip_types_tpfn_ci  = outgs_tpfn_eqp_type[outgs_tpfn_eqp_type['pct_ci_nb']>pct_cutoff].sort_values(by='pct_ci_nb', ascending=False)[['EQUIP_TYP_NM', 'pct_ci_nb']]\n",
    "#-----\n",
    "top_equip_types_tpfn_cmi = top_equip_types_tpfn_cmi.rename(columns={'pct_cmi_nb':'pct'})\n",
    "top_equip_types_tpfn_ci  = top_equip_types_tpfn_ci.rename(columns={'pct_ci_nb':'pct'})\n",
    "#-------------------------\n",
    "top_equip_types = pd.concat([top_equip_types_tp_cmi, top_equip_types_tp_ci, top_equip_types_fn_cmi, top_equip_types_fn_ci, top_equip_types_tpfn_cmi, top_equip_types_tpfn_ci])\n",
    "top_equip_types = top_equip_types.groupby('EQUIP_TYP_NM')['pct'].apply(max).to_frame().reset_index().sort_values(by='pct', ignore_index=True, ascending=False)\n",
    "palette_dict = Plot_General.get_standard_colors_dict(top_equip_types['EQUIP_TYP_NM'].tolist())\n",
    "\n",
    "\n",
    "\n",
    "fig, ax = plt.subplots(1, 1, num=fig_num, figsize=[11, 8.5])\n",
    "legend_elements = []\n",
    "#-------------------------\n",
    "fig, ax, x_values_included = draw_outages_summary_barplot(\n",
    "    fig=fig, \n",
    "    ax=ax, \n",
    "    df=outgs_tp_eqp_type, \n",
    "    x_col='EQUIP_TYP_NM', \n",
    "    y_col='pct_ci_nb', \n",
    "    sort_values=True, \n",
    "    y_threshold={'threshold_col':'pct_ci_nb', 'threshold_val':pct_cutoff}, \n",
    "    order=None, \n",
    "    return_x_values_included=True, \n",
    "    div_drawn_width_by=3, \n",
    "    relative_position_idx=0, \n",
    "    ylabel='% CI', \n",
    "    xlabel='Equipment Type', \n",
    "    title='Outage CI by Equip. Type', \n",
    "    x_tick_rotation=90, \n",
    "    palette_dict={k:'green' for k,v in palette_dict.items()}, \n",
    "    hatch='/'\n",
    ")\n",
    "legend_elements.append(mpatches.Patch(facecolor='green', fill=True, hatch='/', label='TP'))\n",
    "#-------------------------\n",
    "fig, ax = draw_outages_summary_barplot(\n",
    "    fig=fig, \n",
    "    ax=ax, \n",
    "    df=outgs_fn_eqp_type, \n",
    "    x_col='EQUIP_TYP_NM', \n",
    "    y_col='pct_ci_nb', \n",
    "    sort_values=False, \n",
    "    y_threshold=None, \n",
    "    order=x_values_included, \n",
    "    return_x_values_included=False, \n",
    "    div_drawn_width_by=3, \n",
    "    relative_position_idx=1, \n",
    "    ylabel='% CI', \n",
    "    xlabel='Equipment Type', \n",
    "    title='Outage CI by Equip. Type', \n",
    "    x_tick_rotation=90, \n",
    "    palette_dict={k:'red' for k,v in palette_dict.items()}, \n",
    "    hatch='\\\\\\\\'\n",
    ")\n",
    "legend_elements.append(mpatches.Patch(facecolor='red', fill=True, hatch='\\\\\\\\', label='FN'))\n",
    "#-------------------------\n",
    "fig, ax = draw_outages_summary_barplot(\n",
    "    fig=fig, \n",
    "    ax=ax, \n",
    "    df=outgs_tpfn_eqp_type, \n",
    "    x_col='EQUIP_TYP_NM', \n",
    "    y_col='pct_ci_nb', \n",
    "    sort_values=False, \n",
    "    y_threshold=None, \n",
    "    order=x_values_included, \n",
    "    return_x_values_included=False, \n",
    "    div_drawn_width_by=3, \n",
    "    relative_position_idx=2, \n",
    "    ylabel='% CI', \n",
    "    xlabel='Equipment Type', \n",
    "    title='Outage CI by Equip. Type', \n",
    "    x_tick_rotation=90, \n",
    "    palette_dict={k:'orange' for k,v in palette_dict.items()}, \n",
    "    hatch='\\\\\\\\'\n",
    ")\n",
    "legend_elements.append(mpatches.Patch(facecolor='orange', fill=True, hatch='\\\\\\\\', label='TP&FN'))\n",
    "#-------------------------\n",
    "ax.legend(\n",
    "    title=None, \n",
    "    handles=legend_elements, \n",
    "    fontsize=20, \n",
    "    title_fontsize=30, \n",
    "    loc='upper right'\n",
    ")\n",
    "\n",
    "Plot_General.save_fig(fig, r'C:\\Users\\s346557\\Documents\\Presentations\\OutagePredictions\\MeterEvents\\Initial_Impact_Assessment\\Figures\\Full', 'CI_by_eqp_type.png')\n",
    "#-------------------------\n",
    "fig_num += 1 "
   ]
  },
  {
   "cell_type": "code",
   "execution_count": null,
   "id": "71bfc266",
   "metadata": {},
   "outputs": [],
   "source": [
    "top_equip_types_tp_cmi = outgs_tp_eqp_type[outgs_tp_eqp_type['pct_cmi_nb']>pct_cutoff].sort_values(by='pct_cmi_nb', ascending=False)[['EQUIP_TYP_NM', 'pct_cmi_nb']]\n",
    "top_equip_types_tp_ci  = outgs_tp_eqp_type[outgs_tp_eqp_type['pct_ci_nb']>pct_cutoff].sort_values(by='pct_ci_nb', ascending=False)[['EQUIP_TYP_NM', 'pct_ci_nb']]\n",
    "#-----\n",
    "top_equip_types_tp_cmi = top_equip_types_tp_cmi.rename(columns={'pct_cmi_nb':'pct'})\n",
    "top_equip_types_tp_ci  = top_equip_types_tp_ci.rename(columns={'pct_ci_nb':'pct'})\n",
    "#-------------------------\n",
    "top_equip_types_fn_cmi = outgs_fn_eqp_type[outgs_fn_eqp_type['pct_cmi_nb']>pct_cutoff].sort_values(by='pct_cmi_nb', ascending=False)[['EQUIP_TYP_NM', 'pct_cmi_nb']]\n",
    "top_equip_types_fn_ci  = outgs_fn_eqp_type[outgs_fn_eqp_type['pct_ci_nb']>pct_cutoff].sort_values(by='pct_ci_nb', ascending=False)[['EQUIP_TYP_NM', 'pct_ci_nb']]\n",
    "#-----\n",
    "top_equip_types_fn_cmi = top_equip_types_fn_cmi.rename(columns={'pct_cmi_nb':'pct'})\n",
    "top_equip_types_fn_ci  = top_equip_types_fn_ci.rename(columns={'pct_ci_nb':'pct'})\n",
    "#-------------------------\n",
    "top_equip_types_tpfn_cmi = outgs_tpfn_eqp_type[outgs_tpfn_eqp_type['pct_cmi_nb']>pct_cutoff].sort_values(by='pct_cmi_nb', ascending=False)[['EQUIP_TYP_NM', 'pct_cmi_nb']]\n",
    "top_equip_types_tpfn_ci  = outgs_tpfn_eqp_type[outgs_tpfn_eqp_type['pct_ci_nb']>pct_cutoff].sort_values(by='pct_ci_nb', ascending=False)[['EQUIP_TYP_NM', 'pct_ci_nb']]\n",
    "#-----\n",
    "top_equip_types_tpfn_cmi = top_equip_types_tpfn_cmi.rename(columns={'pct_cmi_nb':'pct'})\n",
    "top_equip_types_tpfn_ci  = top_equip_types_tpfn_ci.rename(columns={'pct_ci_nb':'pct'})\n",
    "#-------------------------\n",
    "top_equip_types = pd.concat([top_equip_types_tp_cmi, top_equip_types_tp_ci, top_equip_types_fn_cmi, top_equip_types_fn_ci, top_equip_types_tpfn_cmi, top_equip_types_tpfn_ci])\n",
    "top_equip_types = top_equip_types.groupby('EQUIP_TYP_NM')['pct'].apply(max).to_frame().reset_index().sort_values(by='pct', ignore_index=True, ascending=False)\n",
    "palette_dict = Plot_General.get_standard_colors_dict(top_equip_types['EQUIP_TYP_NM'].tolist())\n",
    "\n",
    "\n",
    "\n",
    "fig, ax = plt.subplots(1, 1, num=fig_num, figsize=[11, 8.5])\n",
    "legend_elements = []\n",
    "#-------------------------\n",
    "fig, ax, x_values_included = draw_outages_summary_barplot(\n",
    "    fig=fig, \n",
    "    ax=ax, \n",
    "    df=outgs_tp_eqp_type, \n",
    "    x_col='EQUIP_TYP_NM', \n",
    "    y_col='pct_cmi_nb', \n",
    "    sort_values=True, \n",
    "    y_threshold={'threshold_col':'pct_cmi_nb', 'threshold_val':pct_cutoff}, \n",
    "    order=None, \n",
    "    return_x_values_included=True, \n",
    "    div_drawn_width_by=3, \n",
    "    relative_position_idx=0, \n",
    "    ylabel='% CMI', \n",
    "    xlabel='Equipment Type', \n",
    "    title='Outage CMI by Equip. Type', \n",
    "    x_tick_rotation=90, \n",
    "    palette_dict={k:'green' for k,v in palette_dict.items()}, \n",
    "    hatch='/'\n",
    ")\n",
    "legend_elements.append(mpatches.Patch(facecolor='green', fill=True, hatch='/', label='TP'))\n",
    "#-------------------------\n",
    "fig, ax = draw_outages_summary_barplot(\n",
    "    fig=fig, \n",
    "    ax=ax, \n",
    "    df=outgs_fn_eqp_type, \n",
    "    x_col='EQUIP_TYP_NM', \n",
    "    y_col='pct_cmi_nb', \n",
    "    sort_values=False, \n",
    "    y_threshold=None, \n",
    "    order=x_values_included, \n",
    "    return_x_values_included=False, \n",
    "    div_drawn_width_by=3, \n",
    "    relative_position_idx=1, \n",
    "    ylabel='% CMI', \n",
    "    xlabel='Equipment Type', \n",
    "    title='Outage CMI by Equip. Type', \n",
    "    x_tick_rotation=90, \n",
    "    palette_dict={k:'red' for k,v in palette_dict.items()}, \n",
    "    hatch='\\\\\\\\'\n",
    ")\n",
    "legend_elements.append(mpatches.Patch(facecolor='red', fill=True, hatch='\\\\\\\\', label='FN'))\n",
    "#-------------------------\n",
    "fig, ax = draw_outages_summary_barplot(\n",
    "    fig=fig, \n",
    "    ax=ax, \n",
    "    df=outgs_tpfn_eqp_type, \n",
    "    x_col='EQUIP_TYP_NM', \n",
    "    y_col='pct_cmi_nb', \n",
    "    sort_values=False, \n",
    "    y_threshold=None, \n",
    "    order=x_values_included, \n",
    "    return_x_values_included=False, \n",
    "    div_drawn_width_by=3, \n",
    "    relative_position_idx=2, \n",
    "    ylabel='% CMI', \n",
    "    xlabel='Equipment Type', \n",
    "    title='Outage CMI by Equip. Type', \n",
    "    x_tick_rotation=90, \n",
    "    palette_dict={k:'orange' for k,v in palette_dict.items()}, \n",
    "    hatch='\\\\\\\\'\n",
    ")\n",
    "legend_elements.append(mpatches.Patch(facecolor='orange', fill=True, hatch='\\\\\\\\', label='TP&FN'))\n",
    "#-------------------------\n",
    "ax.legend(\n",
    "    title=None, \n",
    "    handles=legend_elements, \n",
    "    fontsize=20, \n",
    "    title_fontsize=30, \n",
    "    loc='upper right'\n",
    ")\n",
    "\n",
    "Plot_General.save_fig(fig, r'C:\\Users\\s346557\\Documents\\Presentations\\OutagePredictions\\MeterEvents\\Initial_Impact_Assessment\\Figures\\Full', 'CMI_by_eqp_type.png')\n",
    "#-------------------------\n",
    "fig_num += 1 "
   ]
  },
  {
   "cell_type": "code",
   "execution_count": null,
   "id": "600e69b7",
   "metadata": {},
   "outputs": [],
   "source": []
  },
  {
   "cell_type": "code",
   "execution_count": null,
   "id": "99094238",
   "metadata": {},
   "outputs": [],
   "source": []
  },
  {
   "cell_type": "code",
   "execution_count": null,
   "id": "cde43fa8",
   "metadata": {},
   "outputs": [],
   "source": [
    "top_equip_types_tp_cmi = outgs_tp_eqp_type[outgs_tp_eqp_type['pct_cmi_nb']>pct_cutoff].sort_values(by='pct_cmi_nb', ascending=False)[['EQUIP_TYP_NM', 'pct_cmi_nb']]\n",
    "top_equip_types_tp_ci  = outgs_tp_eqp_type[outgs_tp_eqp_type['pct_ci_nb']>pct_cutoff].sort_values(by='pct_ci_nb', ascending=False)[['EQUIP_TYP_NM', 'pct_ci_nb']]\n",
    "#-----\n",
    "top_equip_types_tp_cmi = top_equip_types_tp_cmi.rename(columns={'pct_cmi_nb':'pct'})\n",
    "top_equip_types_tp_ci  = top_equip_types_tp_ci.rename(columns={'pct_ci_nb':'pct'})\n",
    "#-------------------------\n",
    "top_equip_types_fn_cmi = outgs_fn_eqp_type[outgs_fn_eqp_type['pct_cmi_nb']>pct_cutoff].sort_values(by='pct_cmi_nb', ascending=False)[['EQUIP_TYP_NM', 'pct_cmi_nb']]\n",
    "top_equip_types_fn_ci  = outgs_fn_eqp_type[outgs_fn_eqp_type['pct_ci_nb']>pct_cutoff].sort_values(by='pct_ci_nb', ascending=False)[['EQUIP_TYP_NM', 'pct_ci_nb']]\n",
    "#-----\n",
    "top_equip_types_fn_cmi = top_equip_types_fn_cmi.rename(columns={'pct_cmi_nb':'pct'})\n",
    "top_equip_types_fn_ci  = top_equip_types_fn_ci.rename(columns={'pct_ci_nb':'pct'})\n",
    "#-------------------------\n",
    "top_equip_types_tpfn_cmi = outgs_tpfn_eqp_type[outgs_tpfn_eqp_type['pct_cmi_nb']>pct_cutoff].sort_values(by='pct_cmi_nb', ascending=False)[['EQUIP_TYP_NM', 'pct_cmi_nb']]\n",
    "top_equip_types_tpfn_ci  = outgs_tpfn_eqp_type[outgs_tpfn_eqp_type['pct_ci_nb']>pct_cutoff].sort_values(by='pct_ci_nb', ascending=False)[['EQUIP_TYP_NM', 'pct_ci_nb']]\n",
    "#-----\n",
    "top_equip_types_tpfn_cmi = top_equip_types_tpfn_cmi.rename(columns={'pct_cmi_nb':'pct'})\n",
    "top_equip_types_tpfn_ci  = top_equip_types_tpfn_ci.rename(columns={'pct_ci_nb':'pct'})\n",
    "#-------------------------\n",
    "top_equip_types = pd.concat([top_equip_types_tp_cmi, top_equip_types_tp_ci, top_equip_types_fn_cmi, top_equip_types_fn_ci, top_equip_types_tpfn_cmi, top_equip_types_tpfn_ci])\n",
    "top_equip_types = top_equip_types.groupby('EQUIP_TYP_NM')['pct'].apply(max).to_frame().reset_index().sort_values(by='pct', ignore_index=True, ascending=False)\n",
    "palette_dict = Plot_General.get_standard_colors_dict(top_equip_types['EQUIP_TYP_NM'].tolist())\n",
    "\n",
    "\n",
    "\n",
    "fig, ax = plt.subplots(1, 1, num=fig_num, figsize=[11, 8.5])\n",
    "legend_elements = []\n",
    "#-------------------------\n",
    "fig, ax, x_values_included = draw_outages_summary_barplot(\n",
    "    fig=fig, \n",
    "    ax=ax, \n",
    "    df=outgs_fn_eqp_type, \n",
    "    x_col='EQUIP_TYP_NM', \n",
    "    y_col='pct_ci_nb', \n",
    "    sort_values=True, \n",
    "    y_threshold={'threshold_col':'pct_ci_nb', 'threshold_val':pct_cutoff}, \n",
    "    order=None, \n",
    "    return_x_values_included=True, \n",
    "    div_drawn_width_by=3, \n",
    "    relative_position_idx=0, \n",
    "    ylabel='% CI', \n",
    "    xlabel='Equipment Type', \n",
    "    title='Outage CI by Equip. Type', \n",
    "    x_tick_rotation=90, \n",
    "    palette_dict={k:'red' for k,v in palette_dict.items()}, \n",
    "    hatch='/'\n",
    ")\n",
    "legend_elements.append(mpatches.Patch(facecolor='red', fill=True, hatch='/', label='FN'))\n",
    "#-------------------------\n",
    "fig, ax = draw_outages_summary_barplot(\n",
    "    fig=fig, \n",
    "    ax=ax, \n",
    "    df=outgs_tp_eqp_type, \n",
    "    x_col='EQUIP_TYP_NM', \n",
    "    y_col='pct_ci_nb', \n",
    "    sort_values=False, \n",
    "    y_threshold=None, \n",
    "    order=x_values_included, \n",
    "    return_x_values_included=False, \n",
    "    div_drawn_width_by=3, \n",
    "    relative_position_idx=1, \n",
    "    ylabel='% CI', \n",
    "    xlabel='Equipment Type', \n",
    "    title='Outage CI by Equip. Type', \n",
    "    x_tick_rotation=90, \n",
    "    palette_dict={k:'green' for k,v in palette_dict.items()}, \n",
    "    hatch='\\\\\\\\'\n",
    ")\n",
    "legend_elements.append(mpatches.Patch(facecolor='green', fill=True, hatch='\\\\\\\\', label='TP'))\n",
    "#-------------------------\n",
    "fig, ax = draw_outages_summary_barplot(\n",
    "    fig=fig, \n",
    "    ax=ax, \n",
    "    df=outgs_tpfn_eqp_type, \n",
    "    x_col='EQUIP_TYP_NM', \n",
    "    y_col='pct_ci_nb', \n",
    "    sort_values=False, \n",
    "    y_threshold=None, \n",
    "    order=x_values_included, \n",
    "    return_x_values_included=False, \n",
    "    div_drawn_width_by=3, \n",
    "    relative_position_idx=2, \n",
    "    ylabel='% CI', \n",
    "    xlabel='Equipment Type', \n",
    "    title='Outage CI by Equip. Type', \n",
    "    x_tick_rotation=90, \n",
    "    palette_dict={k:'orange' for k,v in palette_dict.items()}, \n",
    "    hatch='\\\\\\\\'\n",
    ")\n",
    "legend_elements.append(mpatches.Patch(facecolor='orange', fill=True, hatch='\\\\\\\\', label='TP&FN'))\n",
    "#-------------------------\n",
    "ax.legend(\n",
    "    title=None, \n",
    "    handles=legend_elements, \n",
    "    fontsize=20, \n",
    "    title_fontsize=30, \n",
    "    loc='upper right'\n",
    ")\n",
    "\n",
    "\n",
    "#-------------------------\n",
    "fig_num += 1 "
   ]
  },
  {
   "cell_type": "code",
   "execution_count": null,
   "id": "10e21fe6",
   "metadata": {},
   "outputs": [],
   "source": []
  },
  {
   "cell_type": "code",
   "execution_count": null,
   "id": "19282b54",
   "metadata": {},
   "outputs": [],
   "source": [
    "top_equip_types_tp_cmi = outgs_tp_eqp_type[outgs_tp_eqp_type['pct_cmi_nb']>pct_cutoff].sort_values(by='pct_cmi_nb', ascending=False)[['EQUIP_TYP_NM', 'pct_cmi_nb']]\n",
    "top_equip_types_tp_ci  = outgs_tp_eqp_type[outgs_tp_eqp_type['pct_ci_nb']>pct_cutoff].sort_values(by='pct_ci_nb', ascending=False)[['EQUIP_TYP_NM', 'pct_ci_nb']]\n",
    "#-----\n",
    "top_equip_types_tp_cmi = top_equip_types_tp_cmi.rename(columns={'pct_cmi_nb':'pct'})\n",
    "top_equip_types_tp_ci  = top_equip_types_tp_ci.rename(columns={'pct_ci_nb':'pct'})\n",
    "#-------------------------\n",
    "top_equip_types_fn_cmi = outgs_fn_eqp_type[outgs_fn_eqp_type['pct_cmi_nb']>pct_cutoff].sort_values(by='pct_cmi_nb', ascending=False)[['EQUIP_TYP_NM', 'pct_cmi_nb']]\n",
    "top_equip_types_fn_ci  = outgs_fn_eqp_type[outgs_fn_eqp_type['pct_ci_nb']>pct_cutoff].sort_values(by='pct_ci_nb', ascending=False)[['EQUIP_TYP_NM', 'pct_ci_nb']]\n",
    "#-----\n",
    "top_equip_types_fn_cmi = top_equip_types_fn_cmi.rename(columns={'pct_cmi_nb':'pct'})\n",
    "top_equip_types_fn_ci  = top_equip_types_fn_ci.rename(columns={'pct_ci_nb':'pct'})\n",
    "#-------------------------\n",
    "top_equip_types_tpfn_cmi = outgs_tpfn_eqp_type[outgs_tpfn_eqp_type['pct_cmi_nb']>pct_cutoff].sort_values(by='pct_cmi_nb', ascending=False)[['EQUIP_TYP_NM', 'pct_cmi_nb']]\n",
    "top_equip_types_tpfn_ci  = outgs_tpfn_eqp_type[outgs_tpfn_eqp_type['pct_ci_nb']>pct_cutoff].sort_values(by='pct_ci_nb', ascending=False)[['EQUIP_TYP_NM', 'pct_ci_nb']]\n",
    "#-----\n",
    "top_equip_types_tpfn_cmi = top_equip_types_tpfn_cmi.rename(columns={'pct_cmi_nb':'pct'})\n",
    "top_equip_types_tpfn_ci  = top_equip_types_tpfn_ci.rename(columns={'pct_ci_nb':'pct'})\n",
    "#-------------------------\n",
    "top_equip_types = pd.concat([top_equip_types_tp_cmi, top_equip_types_tp_ci, top_equip_types_fn_cmi, top_equip_types_fn_ci, top_equip_types_tpfn_cmi, top_equip_types_tpfn_ci])\n",
    "top_equip_types = top_equip_types.groupby('EQUIP_TYP_NM')['pct'].apply(max).to_frame().reset_index().sort_values(by='pct', ignore_index=True, ascending=False)\n",
    "palette_dict = Plot_General.get_standard_colors_dict(top_equip_types['EQUIP_TYP_NM'].tolist())\n",
    "\n",
    "\n",
    "\n",
    "fig, ax = plt.subplots(1, 1, num=fig_num, figsize=[11, 8.5])\n",
    "legend_elements = []\n",
    "#-------------------------\n",
    "fig, ax, x_values_included = draw_outages_summary_barplot(\n",
    "    fig=fig, \n",
    "    ax=ax, \n",
    "    df=outgs_fn_eqp_type, \n",
    "    x_col='EQUIP_TYP_NM', \n",
    "    y_col='pct_cmi_nb', \n",
    "    sort_values=True, \n",
    "    y_threshold={'threshold_col':'pct_cmi_nb', 'threshold_val':pct_cutoff}, \n",
    "    order=None, \n",
    "    return_x_values_included=True, \n",
    "    div_drawn_width_by=3, \n",
    "    relative_position_idx=0, \n",
    "    ylabel='% CMI', \n",
    "    xlabel='Equipment Type', \n",
    "    title='Outage CMI by Equip. Type', \n",
    "    x_tick_rotation=90, \n",
    "    palette_dict={k:'red' for k,v in palette_dict.items()}, \n",
    "    hatch='/'\n",
    ")\n",
    "legend_elements.append(mpatches.Patch(facecolor='red', fill=True, hatch='/', label='FN'))\n",
    "#-------------------------\n",
    "fig, ax = draw_outages_summary_barplot(\n",
    "    fig=fig, \n",
    "    ax=ax, \n",
    "    df=outgs_tp_eqp_type, \n",
    "    x_col='EQUIP_TYP_NM', \n",
    "    y_col='pct_cmi_nb', \n",
    "    sort_values=False, \n",
    "    y_threshold=None, \n",
    "    order=x_values_included, \n",
    "    return_x_values_included=False, \n",
    "    div_drawn_width_by=3, \n",
    "    relative_position_idx=1, \n",
    "    ylabel='% CMI', \n",
    "    xlabel='Equipment Type', \n",
    "    title='Outage CMI by Equip. Type', \n",
    "    x_tick_rotation=90, \n",
    "    palette_dict={k:'green' for k,v in palette_dict.items()}, \n",
    "    hatch='\\\\\\\\'\n",
    ")\n",
    "legend_elements.append(mpatches.Patch(facecolor='green', fill=True, hatch='\\\\\\\\', label='TP'))\n",
    "#-------------------------\n",
    "fig, ax = draw_outages_summary_barplot(\n",
    "    fig=fig, \n",
    "    ax=ax, \n",
    "    df=outgs_tpfn_eqp_type, \n",
    "    x_col='EQUIP_TYP_NM', \n",
    "    y_col='pct_cmi_nb', \n",
    "    sort_values=False, \n",
    "    y_threshold=None, \n",
    "    order=x_values_included, \n",
    "    return_x_values_included=False, \n",
    "    div_drawn_width_by=3, \n",
    "    relative_position_idx=2, \n",
    "    ylabel='% CMI', \n",
    "    xlabel='Equipment Type', \n",
    "    title='Outage CMI by Equip. Type', \n",
    "    x_tick_rotation=90, \n",
    "    palette_dict={k:'orange' for k,v in palette_dict.items()}, \n",
    "    hatch='\\\\\\\\'\n",
    ")\n",
    "legend_elements.append(mpatches.Patch(facecolor='orange', fill=True, hatch='\\\\\\\\', label='TP&FN'))\n",
    "#-------------------------\n",
    "ax.legend(\n",
    "    title=None, \n",
    "    handles=legend_elements, \n",
    "    fontsize=20, \n",
    "    title_fontsize=30, \n",
    "    loc='upper right'\n",
    ")\n",
    "\n",
    "\n",
    "#-------------------------\n",
    "fig_num += 1 "
   ]
  },
  {
   "cell_type": "code",
   "execution_count": null,
   "id": "09b5de75",
   "metadata": {},
   "outputs": [],
   "source": []
  },
  {
   "cell_type": "code",
   "execution_count": null,
   "id": "e2633898",
   "metadata": {},
   "outputs": [],
   "source": []
  },
  {
   "cell_type": "code",
   "execution_count": null,
   "id": "ff849437",
   "metadata": {},
   "outputs": [],
   "source": []
  },
  {
   "cell_type": "markdown",
   "id": "ff6c69db",
   "metadata": {},
   "source": [
    "# Addressing Jon's Questions"
   ]
  },
  {
   "cell_type": "markdown",
   "id": "d1ff148c",
   "metadata": {},
   "source": [
    "### For every instance in direct outage set, is the device listed as a transformer?"
   ]
  },
  {
   "cell_type": "markdown",
   "id": "a1a760fb",
   "metadata": {},
   "source": [
    "## !!!!!!!!!!!!!!!! NOTE: DVC_TYP_NM and SHORT_NM_CLR_DEV seem to have 1-1 relationship, so no need to use both"
   ]
  },
  {
   "cell_type": "code",
   "execution_count": null,
   "id": "ab35a1ee",
   "metadata": {},
   "outputs": [],
   "source": [
    "def set_duplicated_vals_in_df_col_to_empty_str(df, col):\n",
    "    r\"\"\"\n",
    "    Function developed for use in format_groups_and_counts_df_for_table\n",
    "    \"\"\"\n",
    "    df.loc[df[col].duplicated(), col] = ''\n",
    "    return df\n",
    "\n",
    "def format_groups_and_counts_df_for_table(\n",
    "    df, \n",
    "    grp_by_cols\n",
    "):\n",
    "    r\"\"\"\n",
    "    CAN'T SIMPLY USE set_duplicated_vals_in_df_col_to_empty_str, AS I WAS BASICALLY DOING BEFORE\n",
    "    \n",
    "    The DataFrame which is output is essentially df.groupby(grp_by_cols).size().to_frame().\n",
    "    \n",
    "    Format Multi-index nicer, so instead of one column containing tuples of each Multi-index \n",
    "      (e.g., ('TRANSFORMER, OH', 'LINE FUSE')), I'll have multiple columns.\n",
    "    Also, instead of having a bunch of repeats of, e.g., level 0 values, make it such that each\n",
    "      is only printed once.\n",
    "      e.g., instead of:\n",
    "        'TRANSFORMER, OH' 'LINE FUSE'\n",
    "        'TRANSFORMER, OH' 'PRIMARY OPEN'\n",
    "       output this:\n",
    "        'TRANSFORMER, OH' 'LINE FUSE'\n",
    "                          'PRIMARY OPEN'\n",
    "    \"\"\"\n",
    "    #-------------------------\n",
    "    frmttd_df = df.copy()\n",
    "    grp_by_cols_shrnk = copy.deepcopy(grp_by_cols)\n",
    "    while len(grp_by_cols_shrnk)>1:\n",
    "        frmttd_df=frmttd_df.groupby(grp_by_cols_shrnk[:-1]).apply(\n",
    "            lambda x: set_duplicated_vals_in_df_col_to_empty_str(x, grp_by_cols_shrnk[-2])\n",
    "        )\n",
    "        grp_by_cols_shrnk=grp_by_cols_shrnk[:-1]\n",
    "    #-------------------------\n",
    "    return frmttd_df"
   ]
  },
  {
   "cell_type": "code",
   "execution_count": null,
   "id": "25038a79",
   "metadata": {},
   "outputs": [],
   "source": [
    "def build_groups_and_counts_table_from_df(\n",
    "    df, \n",
    "    grp_by_cols, \n",
    "    include_counts=True, \n",
    "    include_pct_counts=True, \n",
    "    max_rows_per_table=None, \n",
    "    fig_num=0, \n",
    "    title=None, \n",
    "    default_subplots_kwargs=None, \n",
    "    save_fig_kwargs=False\n",
    "):\n",
    "    r\"\"\"\n",
    "    The DataFrame which is output is essentially df.groupby(grp_by_cols).size().to_frame().\n",
    "    \n",
    "    Format Multi-index nicer, so instead of one column containing tuples of each Multi-index \n",
    "      (e.g., ('TRANSFORMER, OH', 'LINE FUSE')), I'll have multiple columns.\n",
    "    Also, instead of having a bunch of repeats of, e.g., level 0 values, make it such that each\n",
    "      is only printed once.\n",
    "      e.g., instead of:\n",
    "        'TRANSFORMER, OH' 'LINE FUSE'\n",
    "        'TRANSFORMER, OH' 'PRIMARY OPEN'\n",
    "       output this:\n",
    "        'TRANSFORMER, OH' 'LINE FUSE'\n",
    "                          'PRIMARY OPEN'\n",
    "                          \n",
    "    max_rows_per_table:\n",
    "        Maximum number of rows per table.  \n",
    "        The inclusion of this functionality makes this method appear more complicated than it actually is.\n",
    "        \n",
    "    save_fig_kwargs:\n",
    "        If False, no saving, obviously.\n",
    "        Otherwise, see Plot_General.save_fig for acceptable kwargs.\n",
    "            Note: The first argument to Plot_General.save_fig, i.e. fig, will be added by the function.\n",
    "                  Otherwise, at a minimum, the user must supply save_dir and save_name\n",
    "        If max_rows_per_table is not None, and subsequently multiple figures are built, their names will be appended\n",
    "          with _0 through _{n_images-1}\n",
    "    \"\"\"\n",
    "    #-------------------------\n",
    "    frmttd_df = df.groupby(grp_by_cols).size().to_frame()\n",
    "    frmttd_df = frmttd_df.reset_index()\n",
    "    #-------------------------\n",
    "    if max_rows_per_table is None:\n",
    "        batch_idxs = [[0, frmttd_df.shape[0]]]\n",
    "    else:\n",
    "        batch_idxs = Utilities.get_batch_idx_pairs(frmttd_df.shape[0], batch_size=max_rows_per_table)\n",
    "    #-------------------------\n",
    "    figs_and_axs = []\n",
    "    for i, batch_i in enumerate(batch_idxs):\n",
    "        i_beg = batch_i[0]\n",
    "        i_end = batch_i[1]\n",
    "        frmttd_df_i = frmttd_df.iloc[i_beg:i_end].copy()\n",
    "        #-----\n",
    "        if len(grp_by_cols)>1:\n",
    "#             for col in grp_by_cols[:-1]:\n",
    "#                 frmttd_df_i.loc[frmttd_df_i[col].duplicated(), col] = ''\n",
    "            frmttd_df_i = format_groups_and_counts_df_for_table(\n",
    "                df=frmttd_df_i, \n",
    "                grp_by_cols=grp_by_cols\n",
    "            )\n",
    "        #-----\n",
    "        frmttd_df_i = frmttd_df_i.rename(columns={frmttd_df_i.columns.tolist()[-1]:'Counts'})\n",
    "        if include_pct_counts:\n",
    "            frmttd_df_i['Counts (%)'] = 100*frmttd_df_i['Counts']/frmttd_df_i['Counts'].sum()\n",
    "            frmttd_df_i['Counts (%)'] = frmttd_df_i['Counts (%)'].round(5)\n",
    "        if not include_counts:\n",
    "            frmttd_df_i = frmttd_df_i.drop(columns=['Counts'])\n",
    "        #-------------------------\n",
    "        if default_subplots_kwargs is not None:\n",
    "            assert(isinstance(default_subplots_kwargs, dict))\n",
    "            default_subplots_kwargs = Utilities.supplement_dict_with_default_values(\n",
    "                to_supplmnt_dict=default_subplots_kwargs, \n",
    "                default_values_dict=dict(n_x=1, n_y=1)\n",
    "            )\n",
    "        else:\n",
    "            default_subplots_kwargs = dict(n_x=1, n_y=1)\n",
    "        default_subplots_kwargs['fig_num']=fig_num #Needs to be here so is updated at each iteration\n",
    "        fig,ax=Plot_General.default_subplots(**default_subplots_kwargs)\n",
    "        #-----\n",
    "        ax.axis('off')\n",
    "        ax.table(cellText=frmttd_df_i.values, colLabels=frmttd_df_i.columns, loc='center');\n",
    "        if title is not None:\n",
    "            ax.set_title(title)\n",
    "        #-------------------------\n",
    "        figs_and_axs.append((fig,ax))\n",
    "        fig_num+=1\n",
    "    #-------------------------\n",
    "    if save_fig_kwargs:\n",
    "        assert(\n",
    "            'save_dir' in save_fig_kwargs.keys() and \n",
    "            'save_name' in save_fig_kwargs.keys()\n",
    "        )\n",
    "        ext = Utilities.find_file_extension(file_path_or_name=save_fig_kwargs['save_name'])\n",
    "        for i, (fig_i, ax_i) in enumerate(figs_and_axs):\n",
    "            save_fig_kwargs_i = copy.deepcopy(save_fig_kwargs)\n",
    "            #----------\n",
    "            if len(figs_and_axs)>1:\n",
    "                save_fig_kwargs_i['save_name'] = Utilities.append_to_path(\n",
    "                    save_path=save_fig_kwargs_i['save_name'], \n",
    "                    appendix=f\"_{i}\",\n",
    "                    ext_to_find=ext, \n",
    "                    append_to_end_if_ext_no_found=False\n",
    "                )\n",
    "            #----------\n",
    "            save_fig_kwargs_i['fig'] = fig_i\n",
    "            Plot_General.save_fig(**save_fig_kwargs_i)\n",
    "    #-------------------------\n",
    "    if len(figs_and_axs)==1:\n",
    "        return figs_and_axs[0]\n",
    "    else:\n",
    "        return figs_and_axs"
   ]
  },
  {
   "cell_type": "code",
   "execution_count": null,
   "id": "d0fc5d9b",
   "metadata": {},
   "outputs": [],
   "source": [
    "def calc_unit_figsize_height_for_groups_and_counts_table(\n",
    "    df, \n",
    "    grp_by_cols, \n",
    "    nbr_rows_per_unit_height, \n",
    "    max_rows_per_table\n",
    "):\n",
    "    n_rows_in_grpd_df = df.groupby(grp_by_cols).size().shape[0]\n",
    "    if max_rows_per_table is None:\n",
    "        unit_figsize_height = n_rows_in_grpd_df/nbr_rows_per_unit_height\n",
    "    else:\n",
    "        if max_rows_per_table>n_rows_in_grpd_df:\n",
    "            unit_figsize_height = n_rows_in_grpd_df/nbr_rows_per_unit_height\n",
    "        else:\n",
    "            unit_figsize_height = max_rows_per_table/nbr_rows_per_unit_height\n",
    "    return unit_figsize_height"
   ]
  },
  {
   "cell_type": "code",
   "execution_count": null,
   "id": "793782e2",
   "metadata": {},
   "outputs": [],
   "source": []
  },
  {
   "cell_type": "code",
   "execution_count": null,
   "id": "8205957c",
   "metadata": {},
   "outputs": [],
   "source": [
    "qa_df = pd.read_pickle(r'C:\\Users\\s346557\\Documents\\LocalData\\dovs_and_end_events_data\\20221216\\20220101_20220930\\rcpo_dfs_GRP_BY_OUTG_AND_XFMR\\outg_td_window_1_to_30_days\\rcpo_df_raw.pkl')\n",
    "# qa_df = merged_df_full.copy()\n",
    "# qa_df=Utilities_df.flatten_multiindex_columns(qa_df)"
   ]
  },
  {
   "cell_type": "code",
   "execution_count": null,
   "id": "414dd492",
   "metadata": {},
   "outputs": [],
   "source": [
    "qa_df = DOVSOutages.append_outg_info_to_df(\n",
    "    df=qa_df, \n",
    "    outg_rec_nb_idfr=('index', 'outg_rec_nb')\n",
    ")\n",
    "#-------------------------\n",
    "xfmr_equip_typ_nms_of_interest = ['TRANSFORMER, OH', 'TRANSFORMER, UG']\n",
    "qa_df_drct = qa_df[\n",
    "    (qa_df.index.get_level_values(1)==qa_df['LOCATION_ID']) &\n",
    "    (qa_df['EQUIP_TYP_NM'].isin(xfmr_equip_typ_nms_of_interest))\n",
    "]\n",
    "#-------------------------\n",
    "qa_df_drct_loose = qa_df[qa_df.index.get_level_values(1)==qa_df['LOCATION_ID']]\n",
    "#-------------------------\n",
    "qa_df_non_trsfs = qa_df[qa_df.index.get_level_values(1)!=qa_df['LOCATION_ID']].copy()\n",
    "#-------------------------"
   ]
  },
  {
   "cell_type": "code",
   "execution_count": null,
   "id": "bafc122d",
   "metadata": {},
   "outputs": [],
   "source": [
    "qa_df_drct.head()['LOCATION_ID']"
   ]
  },
  {
   "cell_type": "code",
   "execution_count": null,
   "id": "49c48e3c",
   "metadata": {},
   "outputs": [],
   "source": [
    "qa_df_non_trsfs.head()['LOCATION_ID']"
   ]
  },
  {
   "cell_type": "code",
   "execution_count": null,
   "id": "e88bd827",
   "metadata": {},
   "outputs": [],
   "source": []
  },
  {
   "cell_type": "code",
   "execution_count": null,
   "id": "8ed4b78b",
   "metadata": {},
   "outputs": [],
   "source": [
    "print(qa_df.groupby(['EQUIP_TYP_NM', 'DVC_TYP_NM']).ngroups)\n",
    "print(qa_df.groupby(['EQUIP_TYP_NM', 'DVC_TYP_NM', 'SHORT_NM_CLR_DEV']).ngroups)\n",
    "print()\n",
    "print(qa_df_drct.groupby(['EQUIP_TYP_NM', 'DVC_TYP_NM']).ngroups)\n",
    "print(qa_df_drct.groupby(['EQUIP_TYP_NM', 'DVC_TYP_NM', 'SHORT_NM_CLR_DEV']).ngroups)\n",
    "print()\n",
    "print(qa_df_drct_loose.groupby(['EQUIP_TYP_NM', 'DVC_TYP_NM']).ngroups)\n",
    "print(qa_df_drct_loose.groupby(['EQUIP_TYP_NM', 'DVC_TYP_NM', 'SHORT_NM_CLR_DEV']).ngroups)\n",
    "print()\n",
    "print(qa_df_non_trsfs.groupby(['EQUIP_TYP_NM', 'DVC_TYP_NM']).ngroups)\n",
    "print(qa_df_non_trsfs.groupby(['EQUIP_TYP_NM', 'DVC_TYP_NM', 'SHORT_NM_CLR_DEV']).ngroups)\n",
    "print()"
   ]
  },
  {
   "cell_type": "code",
   "execution_count": null,
   "id": "e9aa7a68",
   "metadata": {},
   "outputs": [],
   "source": [
    "qa_df_drct.groupby(['EQUIP_TYP_NM', 'DVC_TYP_NM']).size().to_frame()"
   ]
  },
  {
   "cell_type": "code",
   "execution_count": null,
   "id": "f4442c53",
   "metadata": {},
   "outputs": [],
   "source": []
  },
  {
   "cell_type": "code",
   "execution_count": null,
   "id": "47aff0f3",
   "metadata": {},
   "outputs": [],
   "source": [
    "save_figures = False\n",
    "\n",
    "# A good ratio for number of tables lines per unit figure size height is 4.4\n",
    "nbr_rows_per_unit_height = 4.4\n",
    "\n",
    "max_rows_per_table = None\n",
    "# max_rows_per_table = 75"
   ]
  },
  {
   "cell_type": "code",
   "execution_count": null,
   "id": "cab95ea8",
   "metadata": {},
   "outputs": [],
   "source": [
    "if save_figures:\n",
    "    save_fig_kwargs = dict(\n",
    "        save_dir=r'C:\\Users\\s346557\\Documents\\AnalysisNote\\X_Results\\X_2_OutageMeterEvents\\Figures\\EQUIP_and_DVC_TYPS_in_outages', \n",
    "        save_name='Direct_outages_strict.png'\n",
    "    )\n",
    "else:\n",
    "    save_fig_kwargs=False\n",
    "#-----\n",
    "unit_figsize_height = calc_unit_figsize_height_for_groups_and_counts_table(\n",
    "    df=qa_df_drct, \n",
    "    grp_by_cols=['EQUIP_TYP_NM', 'DVC_TYP_NM'], \n",
    "    nbr_rows_per_unit_height=nbr_rows_per_unit_height, \n",
    "    max_rows_per_table=max_rows_per_table\n",
    ")\n",
    "#-----\n",
    "figs_and_axs = build_groups_and_counts_table_from_df(\n",
    "    df=qa_df_drct, \n",
    "    grp_by_cols=['EQUIP_TYP_NM', 'DVC_TYP_NM'], \n",
    "    include_counts=True, \n",
    "    include_pct_counts=True, \n",
    "    max_rows_per_table=max_rows_per_table, \n",
    "    fig_num=0, \n",
    "    title='Direct Outages (strict)', \n",
    "    default_subplots_kwargs = dict(unit_figsize_height=unit_figsize_height), \n",
    "    save_fig_kwargs=save_fig_kwargs\n",
    ")"
   ]
  },
  {
   "cell_type": "code",
   "execution_count": null,
   "id": "45149e6e",
   "metadata": {},
   "outputs": [],
   "source": [
    "if save_figures:\n",
    "    save_fig_kwargs = dict(\n",
    "        save_dir=r'C:\\Users\\s346557\\Documents\\AnalysisNote\\X_Results\\X_2_OutageMeterEvents\\Figures\\EQUIP_and_DVC_TYPS_in_outages', \n",
    "        save_name='All_outages.png'\n",
    "    )\n",
    "else:\n",
    "    save_fig_kwargs=False\n",
    "#-----\n",
    "unit_figsize_height = calc_unit_figsize_height_for_groups_and_counts_table(\n",
    "    df=qa_df, \n",
    "    grp_by_cols=['EQUIP_TYP_NM', 'DVC_TYP_NM'], \n",
    "    nbr_rows_per_unit_height=nbr_rows_per_unit_height, \n",
    "    max_rows_per_table=max_rows_per_table\n",
    ")\n",
    "#-----\n",
    "figs_and_axs = build_groups_and_counts_table_from_df(\n",
    "    df=qa_df, \n",
    "    grp_by_cols=['EQUIP_TYP_NM', 'DVC_TYP_NM'], \n",
    "    include_counts=True, \n",
    "    max_rows_per_table=max_rows_per_table, \n",
    "    fig_num=0, \n",
    "    title='All Outages', \n",
    "    default_subplots_kwargs = dict(unit_figsize_height=unit_figsize_height), \n",
    "    save_fig_kwargs=save_fig_kwargs\n",
    ")"
   ]
  },
  {
   "cell_type": "code",
   "execution_count": null,
   "id": "90a9c91c",
   "metadata": {},
   "outputs": [],
   "source": []
  },
  {
   "cell_type": "code",
   "execution_count": null,
   "id": "b068f8ae",
   "metadata": {},
   "outputs": [],
   "source": [
    "if save_figures:\n",
    "    save_fig_kwargs = dict(\n",
    "        save_dir=r'C:\\Users\\s346557\\Documents\\AnalysisNote\\X_Results\\X_2_OutageMeterEvents\\Figures\\EQUIP_and_DVC_TYPS_in_outages', \n",
    "        save_name='Direct_outages_loose.png'\n",
    "    )\n",
    "else:\n",
    "    save_fig_kwargs=False\n",
    "#-----\n",
    "unit_figsize_height = calc_unit_figsize_height_for_groups_and_counts_table(\n",
    "    df=qa_df_drct_loose, \n",
    "    grp_by_cols=['EQUIP_TYP_NM', 'DVC_TYP_NM'], \n",
    "    nbr_rows_per_unit_height=nbr_rows_per_unit_height, \n",
    "    max_rows_per_table=max_rows_per_table\n",
    ")\n",
    "#-----\n",
    "figs_and_axs = build_groups_and_counts_table_from_df(\n",
    "    df=qa_df_drct_loose, \n",
    "    grp_by_cols=['EQUIP_TYP_NM', 'DVC_TYP_NM'], \n",
    "    include_counts=True, \n",
    "    max_rows_per_table=max_rows_per_table, \n",
    "    fig_num=0, \n",
    "    title='Direct Outages (loose)', \n",
    "    default_subplots_kwargs = dict(unit_figsize_height=unit_figsize_height), \n",
    "    save_fig_kwargs=save_fig_kwargs\n",
    ")"
   ]
  },
  {
   "cell_type": "code",
   "execution_count": null,
   "id": "36d4e738",
   "metadata": {},
   "outputs": [],
   "source": [
    "if save_figures:\n",
    "    save_fig_kwargs = dict(\n",
    "        save_dir=r'C:\\Users\\s346557\\Documents\\AnalysisNote\\X_Results\\X_2_OutageMeterEvents\\Figures\\EQUIP_and_DVC_TYPS_in_outages', \n",
    "        save_name='Non_transformer_outages.png'\n",
    "    )\n",
    "else:\n",
    "    save_fig_kwargs=False\n",
    "#-----\n",
    "unit_figsize_height = calc_unit_figsize_height_for_groups_and_counts_table(\n",
    "    df=qa_df_non_trsfs, \n",
    "    grp_by_cols=['EQUIP_TYP_NM', 'DVC_TYP_NM'], \n",
    "    nbr_rows_per_unit_height=nbr_rows_per_unit_height, \n",
    "    max_rows_per_table=max_rows_per_table\n",
    ")\n",
    "#-----\n",
    "figs_and_axs = build_groups_and_counts_table_from_df(\n",
    "    df=qa_df_non_trsfs, \n",
    "    grp_by_cols=['EQUIP_TYP_NM', 'DVC_TYP_NM'], \n",
    "    include_counts=True, \n",
    "    max_rows_per_table=max_rows_per_table, \n",
    "    fig_num=0, \n",
    "    title='Direct Outages (loose)', \n",
    "    default_subplots_kwargs = dict(unit_figsize_height=unit_figsize_height), \n",
    "    save_fig_kwargs=save_fig_kwargs\n",
    ")"
   ]
  },
  {
   "cell_type": "code",
   "execution_count": null,
   "id": "c6c21267",
   "metadata": {},
   "outputs": [],
   "source": []
  },
  {
   "cell_type": "code",
   "execution_count": null,
   "id": "593ddc4c",
   "metadata": {},
   "outputs": [],
   "source": [
    "df_1 = pd.read_pickle(r'C:\\Users\\s346557\\Documents\\LocalData\\dovs_and_end_events_data\\20221216\\20220101_20220930\\rcpo_dfs_GRP_BY_OUTG_AND_XFMR\\outg_td_window_1_to_30_days\\rcpo_df_raw.pkl')\n",
    "df_2 = pd.read_pickle(r'C:\\Users\\s346557\\Documents\\LocalData\\dovs_and_end_events_data\\20221216\\20220101_20220930\\rcpo_dfs_GRP_BY_OUTG_AND_XFMR - Copy\\outg_td_window_1_to_30_days\\rcpo_df_raw.pkl')"
   ]
  },
  {
   "cell_type": "code",
   "execution_count": null,
   "id": "571b6a53",
   "metadata": {},
   "outputs": [],
   "source": [
    "print(*sorted(df_1.columns.tolist()), sep='\\n')"
   ]
  },
  {
   "cell_type": "code",
   "execution_count": null,
   "id": "4c7da2c1",
   "metadata": {},
   "outputs": [],
   "source": [
    "print(*sorted(df_2.columns.tolist()), sep='\\n')"
   ]
  },
  {
   "cell_type": "code",
   "execution_count": null,
   "id": "1cae8844",
   "metadata": {},
   "outputs": [],
   "source": [
    "print(df_1.shape)\n",
    "print(df_2.shape)"
   ]
  },
  {
   "cell_type": "code",
   "execution_count": null,
   "id": "a8a98491",
   "metadata": {},
   "outputs": [],
   "source": []
  }
 ],
 "metadata": {
  "kernelspec": {
   "display_name": "Python 3 (ipykernel)",
   "language": "python",
   "name": "python3"
  },
  "language_info": {
   "codemirror_mode": {
    "name": "ipython",
    "version": 3
   },
   "file_extension": ".py",
   "mimetype": "text/x-python",
   "name": "python",
   "nbconvert_exporter": "python",
   "pygments_lexer": "ipython3",
   "version": "3.9.18"
  }
 },
 "nbformat": 4,
 "nbformat_minor": 5
}
