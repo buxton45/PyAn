{
 "cells": [
  {
   "cell_type": "code",
   "execution_count": null,
   "id": "ef4c6072",
   "metadata": {},
   "outputs": [],
   "source": [
    "from importlib import reload\n",
    "#reload(Utilities)\n",
    "#reload(clm)\n",
    "\n",
    "import sys, os\n",
    "import re\n",
    "\n",
    "import pandas as pd\n",
    "import numpy as np\n",
    "from pandas.api.types import is_numeric_dtype\n",
    "from scipy import stats\n",
    "import datetime\n",
    "import time\n",
    "from natsort import natsorted, ns\n",
    "from packaging import version\n",
    "\n",
    "import itertools\n",
    "import copy\n",
    "import pyodbc\n",
    "#---------------------------------------------------------------------\n",
    "sys.path.insert(0, os.path.realpath('..'))\n",
    "import Utilities_config\n",
    "#-----\n",
    "import CommonLearningMethods as clm\n",
    "#-----\n",
    "from MeterPremise import MeterPremise\n",
    "#-----\n",
    "from AMI_SQL import AMI_SQL\n",
    "from AMINonVee_SQL import AMINonVee_SQL\n",
    "from AMIEndEvents_SQL import AMIEndEvents_SQL\n",
    "from AMIUsgInst_SQL import AMIUsgInst_SQL\n",
    "from DOVSOutages_SQL import DOVSOutages_SQL\n",
    "#-----\n",
    "from GenAn import GenAn\n",
    "from AMINonVee import AMINonVee\n",
    "from AMIEndEvents import AMIEndEvents\n",
    "from AMIUsgInst import AMIUsgInst\n",
    "from DOVSOutages import DOVSOutages\n",
    "#---------------------------------------------------------------------\n",
    "import matplotlib as mpl\n",
    "import matplotlib.pyplot as plt\n",
    "import seaborn as sns\n",
    "from matplotlib.backends.backend_pdf import PdfPages\n",
    "import matplotlib.patches as mpatches\n",
    "from matplotlib.lines import Line2D\n",
    "import matplotlib.ticker as ticker\n",
    "from matplotlib import dates\n",
    "import matplotlib.colors as mcolors\n",
    "import matplotlib.cm as cm #e.g. for cmap=cm.jet\n",
    "#---------------------------------------------------------------------\n",
    "sys.path.insert(0, Utilities_config.get_sql_aids_dir())\n",
    "import Utilities_sql\n",
    "import TableInfos\n",
    "from SQLElement import SQLElement\n",
    "from SQLElementsCollection import SQLElementsCollection\n",
    "from SQLSelect import SQLSelectElement, SQLSelect\n",
    "from SQLFrom import SQLFrom\n",
    "from SQLWhere import SQLWhereElement, SQLWhere\n",
    "from SQLJoin import SQLJoin, SQLJoinCollection\n",
    "from SQLGroupBy import SQLGroupByElement, SQLGroupBy\n",
    "from SQLHaving import SQLHaving\n",
    "from SQLOrderBy import SQLOrderByElement, SQLOrderBy\n",
    "from SQLQuery import SQLQuery\n",
    "from SQLQueryGeneric import SQLQueryGeneric\n",
    "#---------------------------------------------------------------------\n",
    "sys.path.insert(0, Utilities_config.get_utilities_dir())\n",
    "import Utilities\n",
    "import Utilities_df\n",
    "from Utilities_df import DFConstructType\n",
    "import Utilities_dt\n",
    "import Plot_Box_sns\n",
    "import GrubbsTest"
   ]
  },
  {
   "cell_type": "code",
   "execution_count": null,
   "id": "c57bc776",
   "metadata": {},
   "outputs": [],
   "source": []
  },
  {
   "cell_type": "code",
   "execution_count": null,
   "id": "79fcf325",
   "metadata": {},
   "outputs": [],
   "source": [
    "#!!!!!!!!!!!!!!!!!!!!!!!!!!!!!!!!!!!!!!!!!!!!!!!!!!!!!!!!!!!!!!!!!!\n",
    "# TODO FOR NOW exclude_null_val_cols is separate from build_sql_usg_args just because it is \n",
    "# an important parameter.  However, it is simply placed in build_sql_usg_args, so it doesn't\n",
    "# need to be explicitly included in the function signature.\n",
    "#!!!!!!!!!!!!!!!!!!!!!!!!!!!!!!!!!!!!!!!!!!!!!!!!!!!!!!!!!!!!!!!!!!\n",
    "def build_annual_kwh_sql_statement(\n",
    "    cols_of_interest_agg, \n",
    "    groupby_cols, \n",
    "    agg_cols_and_types, \n",
    "    aep_derived_uoms_and_idntfrs=None, \n",
    "    build_sql_usg_args={}, \n",
    "    exclude_null_val_cols=['value'], \n",
    "    build_net_kwh_args={}, \n",
    "    include_counts_including_null=True\n",
    "):\n",
    "    #-------------------------\n",
    "    assert(Utilities.is_object_one_of_types(build_net_kwh_args, [bool, dict]))\n",
    "    #-------------------------\n",
    "    if build_sql_usg_args is None:\n",
    "        build_sql_usg_args = {}\n",
    "    build_sql_usg_args['exclude_null_val_cols'] = exclude_null_val_cols\n",
    "    #-------------------------\n",
    "    # If build_net_kwh_args is False or an empty dict, the net kWh will not be calculated\n",
    "    if not build_net_kwh_args:\n",
    "        usg_sql_agg = AMINonVee_SQL.build_sql_usg(\n",
    "            cols_of_interest=cols_of_interest_agg, \n",
    "            aep_derived_uoms_and_idntfrs=aep_derived_uoms_and_idntfrs, \n",
    "            agg_cols_and_types=agg_cols_and_types, \n",
    "            include_counts_including_null=include_counts_including_null, \n",
    "            groupby_cols=groupby_cols, \n",
    "            **build_sql_usg_args\n",
    "        )\n",
    "        return usg_sql_agg.get_sql_statement()\n",
    "    #-------------------------\n",
    "    else:\n",
    "        dflt_build_net_kwh_args = dict(\n",
    "            cols_of_interest=TableInfos.AMINonVee_TI.std_columns_of_interest, \n",
    "            additional_derived_uoms=None, \n",
    "            run_careful=True, \n",
    "            value_col='value', \n",
    "            return_statement=True, \n",
    "            final_table_alias='USG', \n",
    "            insert_n_tabs_to_each_line=0, \n",
    "            prepend_with_to_stmnt=True, \n",
    "            join_mp_args=False, \n",
    "            allow_kwh_in_additional_derived_uoms=False\n",
    "        )\n",
    "        if isinstance(build_net_kwh_args, bool):\n",
    "            build_net_kwh_args = dflt_build_net_kwh_args\n",
    "        elif isinstance(build_net_kwh_args, dict):\n",
    "            build_net_kwh_args = Utilities_sql.supplement_dict_with_default_values(build_net_kwh_args, dflt_build_net_kwh_args)\n",
    "        else:\n",
    "            assert(0)\n",
    "        #-------------------------\n",
    "        if aep_derived_uoms_and_idntfrs is None:\n",
    "            build_net_kwh_args['additional_derived_uoms']='ALL'\n",
    "        else:\n",
    "            build_net_kwh_args['additional_derived_uoms']=aep_derived_uoms_and_idntfrs\n",
    "        usg_sql_stmnt = AMINonVee_SQL.build_net_kwh_usage_sql_statement(\n",
    "            **build_net_kwh_args, \n",
    "            **build_sql_usg_args\n",
    "        )\n",
    "        #-------------------------\n",
    "        usg_sql_agg = AMINonVee_SQL.build_sql_usg(\n",
    "            cols_of_interest=cols_of_interest_agg, \n",
    "            groupby_cols=groupby_cols, \n",
    "            agg_cols_and_types=agg_cols_and_types, \n",
    "            include_counts_including_null=include_counts_including_null, \n",
    "            schema_name=None, \n",
    "            table_name=build_net_kwh_args['final_table_alias']\n",
    "        )\n",
    "        usg_sql_agg_stmnt = usg_sql_agg.get_sql_statement(insert_n_tabs_to_each_line=0, include_alias=False)    \n",
    "        #-------------------------\n",
    "        full_sql_statement = f'{usg_sql_stmnt}\\n\\n{usg_sql_agg_stmnt}'\n",
    "        #-------------------------\n",
    "        return full_sql_statement"
   ]
  },
  {
   "cell_type": "code",
   "execution_count": null,
   "id": "c3560bd3",
   "metadata": {},
   "outputs": [],
   "source": []
  },
  {
   "cell_type": "markdown",
   "id": "c024b638",
   "metadata": {},
   "source": [
    "# ------------------------------------------------------------------------------------------\n",
    "# EXAMPLES\n",
    "# ------------------------------------------------------------------------------------------"
   ]
  },
  {
   "cell_type": "code",
   "execution_count": null,
   "id": "205ed514",
   "metadata": {},
   "outputs": [],
   "source": [
    "run_examples = False"
   ]
  },
  {
   "cell_type": "code",
   "execution_count": null,
   "id": "3fa2a6d4",
   "metadata": {},
   "outputs": [],
   "source": [
    "if run_examples:\n",
    "    cols_of_interest_usage = [\n",
    "        'serialnumber', \n",
    "        'aep_premise_nb', \n",
    "        'starttimeperiod', \n",
    "        'endtimeperiod', \n",
    "        'aep_endtime_utc', \n",
    "        'timezoneoffset', \n",
    "        'aep_derived_uom', \n",
    "        'aep_srvc_qlty_idntfr', \n",
    "        'value', \n",
    "        'aep_opco', \n",
    "        'aep_usage_dt']\n",
    "    #-------------------------\n",
    "    cols_of_interest_usage_agg = [\n",
    "        'serialnumber', \n",
    "        'aep_premise_nb', \n",
    "        'aep_derived_uom ', \n",
    "        'aep_srvc_qlty_idntfr', \n",
    "        'value', \n",
    "        dict(field_desc='YEAR(aep_usage_dt)', alias='aep_usage_year'), \n",
    "        dict(field_desc='MONTH(aep_usage_dt)', alias='aep_usage_month')]\n",
    "    groupby_cols = ['YEAR(aep_usage_dt)', 'MONTH(aep_usage_dt)', 'serialnumber', 'aep_premise_nb', 'aep_derived_uom', 'aep_srvc_qlty_idntfr']\n",
    "\n",
    "    agg_cols_and_types = {'value':['sum', 'sq_sum', 'mean', 'std', 'count', 'max']}\n",
    "    #aep_derived_uoms_and_idntfrs=['KWH']\n",
    "    aep_derived_uoms_and_idntfrs=None\n",
    "    serial_numbers = ['190700285', '190700284', '190706152', '539409516', '190043736',\n",
    "                      '533116153', '532338313', '534956137', '882458469', '882458470']\n",
    "    aep_premise_nbs = None\n",
    "    date_range = ['2021-01-01', '2021-04-01']\n",
    "    aep_opco = 'oh'"
   ]
  },
  {
   "cell_type": "code",
   "execution_count": null,
   "id": "bff908db",
   "metadata": {},
   "outputs": [],
   "source": [
    "if run_examples:\n",
    "    sql = build_annual_kwh_sql_statement(\n",
    "        cols_of_interest_usage_agg, \n",
    "        groupby_cols, \n",
    "        agg_cols_and_types, \n",
    "        aep_derived_uoms_and_idntfrs=aep_derived_uoms_and_idntfrs, \n",
    "        build_sql_usg_args=dict(\n",
    "            serial_numbers=serial_numbers, \n",
    "            date_range=date_range, \n",
    "            aep_opco=aep_opco\n",
    "        ), \n",
    "        exclude_null_val_cols=None, \n",
    "        build_net_kwh_args=False, \n",
    "        include_counts_including_null=True\n",
    "    )\n",
    "    print(sql)"
   ]
  },
  {
   "cell_type": "code",
   "execution_count": null,
   "id": "b9644e2b",
   "metadata": {},
   "outputs": [],
   "source": [
    "if run_examples:\n",
    "    sql_exclude_null = build_annual_kwh_sql_statement(\n",
    "        cols_of_interest_usage_agg, \n",
    "        groupby_cols, \n",
    "        agg_cols_and_types, \n",
    "        aep_derived_uoms_and_idntfrs=aep_derived_uoms_and_idntfrs, \n",
    "        build_sql_usg_args=dict(\n",
    "            serial_numbers=serial_numbers, \n",
    "            date_range=date_range, \n",
    "            aep_opco=aep_opco\n",
    "        ), \n",
    "        exclude_null_val_cols=['value'], \n",
    "        build_net_kwh_args=False, \n",
    "        include_counts_including_null=True\n",
    "    )\n",
    "    print(sql_exclude_null)"
   ]
  },
  {
   "cell_type": "code",
   "execution_count": null,
   "id": "539cfef5",
   "metadata": {
    "scrolled": false
   },
   "outputs": [],
   "source": [
    "if run_examples:\n",
    "    sql_w_net_exclude_null = build_annual_kwh_sql_statement(\n",
    "        cols_of_interest_usage_agg, \n",
    "        groupby_cols, \n",
    "        agg_cols_and_types, \n",
    "        aep_derived_uoms_and_idntfrs=aep_derived_uoms_and_idntfrs, \n",
    "        build_sql_usg_args=dict(\n",
    "            serial_numbers=serial_numbers, \n",
    "            date_range=date_range, \n",
    "            aep_opco=aep_opco\n",
    "        ), \n",
    "        exclude_null_val_cols=['value'], \n",
    "        build_net_kwh_args=dict(\n",
    "            cols_of_interest=cols_of_interest_usage, \n",
    "            allow_kwh_in_additional_derived_uoms=False\n",
    "        ), \n",
    "        include_counts_including_null=True\n",
    "    )\n",
    "    print(sql_w_net_exclude_null)"
   ]
  },
  {
   "cell_type": "code",
   "execution_count": null,
   "id": "5806826d",
   "metadata": {
    "scrolled": false
   },
   "outputs": [],
   "source": [
    "if run_examples:\n",
    "    sql_w_net_exclude_null_allow_kwh = build_annual_kwh_sql_statement(\n",
    "        cols_of_interest_usage_agg, \n",
    "        groupby_cols, \n",
    "        agg_cols_and_types, \n",
    "        aep_derived_uoms_and_idntfrs=aep_derived_uoms_and_idntfrs, \n",
    "        build_sql_usg_args=dict(\n",
    "            serial_numbers=serial_numbers, \n",
    "            date_range=date_range, \n",
    "            aep_opco=aep_opco\n",
    "        ), \n",
    "        build_net_kwh_args=dict(\n",
    "            cols_of_interest=cols_of_interest_usage, \n",
    "            allow_kwh_in_additional_derived_uoms=True\n",
    "        ), \n",
    "        exclude_null_val_cols=['value'], \n",
    "        include_counts_including_null=True\n",
    "    )\n",
    "    print(sql_w_net_exclude_null_allow_kwh)"
   ]
  },
  {
   "cell_type": "code",
   "execution_count": null,
   "id": "13f24e0a",
   "metadata": {},
   "outputs": [],
   "source": [
    "if run_examples:\n",
    "    conn_aws = Utilities.get_athena_prod_aws_connection()\n",
    "    start = time.time()\n",
    "    example_df = GenAn.build_df_general(\n",
    "        conn_db=conn_aws, \n",
    "        build_sql_function=build_annual_kwh_sql_statement, \n",
    "        build_sql_function_kwargs=dict(\n",
    "            cols_of_interest_agg = cols_of_interest_usage_agg, \n",
    "            groupby_cols = groupby_cols, \n",
    "            agg_cols_and_types = agg_cols_and_types, \n",
    "            aep_derived_uoms_and_idntfrs=aep_derived_uoms_and_idntfrs, \n",
    "            build_sql_usg_args=dict(\n",
    "                serial_numbers=serial_numbers, \n",
    "                aep_premise_nbs=aep_premise_nbs, \n",
    "                date_range=date_range, \n",
    "                aep_opco=aep_opco\n",
    "            ), \n",
    "            build_net_kwh_args=False, \n",
    "            exclude_null_val_cols=None, \n",
    "            include_counts_including_null=True, \n",
    "            field_to_split='serial_numbers', \n",
    "            field_to_split_location_in_kwargs=['build_sql_usg_args', 'serial_numbers'], \n",
    "            batch_size=50, verbose=True, n_update=10\n",
    "        )\n",
    "    )\n",
    "    total_time = time.time() - start\n",
    "    print(f'total_time = {total_time}')\n",
    "    example_df"
   ]
  },
  {
   "cell_type": "code",
   "execution_count": null,
   "id": "6bf6d4f7",
   "metadata": {},
   "outputs": [],
   "source": []
  },
  {
   "cell_type": "markdown",
   "id": "3f70e4d6",
   "metadata": {},
   "source": [
    "# ------------------------------------------------------------------------------------------\n",
    "# ------------------------------------------------------------------------------------------"
   ]
  },
  {
   "cell_type": "code",
   "execution_count": null,
   "id": "669d7b19",
   "metadata": {},
   "outputs": [],
   "source": []
  },
  {
   "cell_type": "code",
   "execution_count": null,
   "id": "874a3ce3",
   "metadata": {},
   "outputs": [],
   "source": []
  },
  {
   "cell_type": "markdown",
   "id": "08d57880",
   "metadata": {},
   "source": [
    "# -----------------------------------------------------------------------------------------------\n",
    "# !!!!!!!!!!!!!!!!!!!!!!!!!!!!!!!!!!!!!!!!!!!!!!!!!!!!!!!!!!!!!!!!!!!!!!!!!!!!!!!!!!!!!!!!!!!!!!!\n",
    "# -----------------------------------------------------------------------------------------------"
   ]
  },
  {
   "cell_type": "markdown",
   "id": "b5e5a3d5",
   "metadata": {},
   "source": [
    "# BELOW TAKEN FROM dovs_and_summary_usage.ipynb"
   ]
  },
  {
   "cell_type": "code",
   "execution_count": null,
   "id": "421f56e9",
   "metadata": {},
   "outputs": [],
   "source": [
    "save_dfs_to_csv = False\n",
    "read_dfs_from_csv = True\n",
    "save_dir_csvs = os.path.join(Utilities.get_local_data_dir(), r'dovs_and_summary_usage_data')\n",
    "\n",
    "new_save_dir_csvs = r'W:\\jesse_test\\Data\\dovs_and_summary_usage_data'\n",
    "\n",
    "save_figs = False\n",
    "#save_dir_base_figs = r'C:\\Users\\s346557\\Documents\\Presentations\\GroupMeetings\\20220120\\Figures'\n",
    "save_dir_base_figs = r'C:\\Users\\s346557\\Documents\\Presentations\\OutagePredictions\\MeetingWithEngineersEtc_20220127\\Figures'\n",
    "\n",
    "assert(save_dfs_to_csv+read_dfs_from_csv <=1) # Should never both read and write!"
   ]
  },
  {
   "cell_type": "code",
   "execution_count": null,
   "id": "6efc4df1",
   "metadata": {},
   "outputs": [],
   "source": [
    "fig_num = 0"
   ]
  },
  {
   "cell_type": "code",
   "execution_count": null,
   "id": "fc39e7ca",
   "metadata": {},
   "outputs": [],
   "source": [
    "if not read_dfs_from_csv:\n",
    "    conn_outages = Utilities.get_utldb01p_oracle_connection()\n",
    "    conn_aws = Utilities.get_athena_prod_aws_connection()"
   ]
  },
  {
   "cell_type": "code",
   "execution_count": null,
   "id": "665cad18",
   "metadata": {},
   "outputs": [],
   "source": [
    "date_0_no_outg = '2020-01-01'\n",
    "date_1_no_outg = '2022-03-31'\n",
    "\n",
    "# date_0_no_outg = '2019-01-01'\n",
    "# date_1_no_outg = '2019-06-30'"
   ]
  },
  {
   "cell_type": "code",
   "execution_count": null,
   "id": "3c5dd2da",
   "metadata": {},
   "outputs": [],
   "source": [
    "date_0_outg = '2020-01-01'\n",
    "date_1_outg = '2022-03-31'\n",
    "\n",
    "# date_0_outg = '2019-01-01'\n",
    "# date_1_outg = '2019-06-30'"
   ]
  },
  {
   "cell_type": "markdown",
   "id": "c7782202",
   "metadata": {},
   "source": [
    "# -----------------------------------------------------------------------------------------------\n",
    "# -----------------------------------------------------------------------------------------------"
   ]
  },
  {
   "cell_type": "markdown",
   "id": "44608cbe",
   "metadata": {},
   "source": [
    "# Build no outage collection and df_mp_all\n",
    "where df_mp_all is a DataFrame containing all meter premise data (from OH)"
   ]
  },
  {
   "cell_type": "code",
   "execution_count": null,
   "id": "0470f49f",
   "metadata": {},
   "outputs": [],
   "source": [
    "cols_of_interest_met_prem = [\n",
    "    'mfr_devc_ser_nbr',\n",
    "    'state_cd', \n",
    "    'prem_nb',\n",
    "    'trsf_pole_nb',\n",
    "    'annual_kwh',\n",
    "    'annual_max_dmnd', \n",
    "    'mtr_stat_cd',\n",
    "    'mtr_stat_cd_desc', \n",
    "    'devc_stat_cd', \n",
    "    'devc_stat_cd_desc'\n",
    "]"
   ]
  },
  {
   "cell_type": "code",
   "execution_count": null,
   "id": "d916334c",
   "metadata": {},
   "outputs": [],
   "source": []
  },
  {
   "cell_type": "markdown",
   "id": "b1d87dae",
   "metadata": {},
   "source": [
    "# Find transformers which haven't experienced an outage since date_0_no_outg"
   ]
  },
  {
   "cell_type": "markdown",
   "id": "fa8933b0",
   "metadata": {},
   "source": [
    "### First, find all transformers which HAVE experienced an outage"
   ]
  },
  {
   "cell_type": "code",
   "execution_count": null,
   "id": "2198bc28",
   "metadata": {},
   "outputs": [],
   "source": [
    "sql_outage_location_ids = DOVSOutages_SQL.build_sql_find_outage_xfmrs(\n",
    "    mjr_mnr_cause=None, \n",
    "    include_premise=False, \n",
    "    date_range=[date_0_no_outg, date_1_no_outg], \n",
    "    states='OH'\n",
    ")\n",
    "sql_stmnt_outage_location_ids = sql_outage_location_ids.get_sql_statement()\n",
    "print(sql_stmnt_outage_location_ids)"
   ]
  },
  {
   "cell_type": "code",
   "execution_count": null,
   "id": "77cadd6b",
   "metadata": {},
   "outputs": [],
   "source": [
    "if read_dfs_from_csv:\n",
    "    df_outage_location_ids_OG = pd.read_csv(os.path.join(save_dir_csvs, 'df_outage_location_ids_OG.csv'), dtype=str)\n",
    "else:\n",
    "    df_outage_location_ids_OG = pd.read_sql_query(sql_stmnt_outage_location_ids, conn_outages)\n",
    "print(df_outage_location_ids_OG.shape)\n",
    "df_outage_location_ids = df_outage_location_ids_OG.copy()"
   ]
  },
  {
   "cell_type": "code",
   "execution_count": null,
   "id": "0b54eef0",
   "metadata": {},
   "outputs": [],
   "source": []
  },
  {
   "cell_type": "code",
   "execution_count": null,
   "id": "005ddc4a",
   "metadata": {},
   "outputs": [],
   "source": []
  },
  {
   "cell_type": "markdown",
   "id": "aebde7cd",
   "metadata": {},
   "source": [
    "### Now, find those which HAVEN'T experienced an outage"
   ]
  },
  {
   "cell_type": "markdown",
   "id": "96d03ca2",
   "metadata": {},
   "source": [
    "### When df_outage_location_ids is large\n",
    "i.e., when the date range used to find outages is large\n",
    "<br> It is actually faster to grab ALL meters from default.meter_premise and then filter using pandas\n",
    "<br> as opposed to using NOT IN and filtering with SQL"
   ]
  },
  {
   "cell_type": "code",
   "execution_count": null,
   "id": "681b7c41",
   "metadata": {},
   "outputs": [],
   "source": [
    "sql_mp_all = MeterPremise.build_sql_meter_premise(cols_of_interest_met_prem, states=['OH']).get_sql_statement()\n",
    "print(sql_mp_all)"
   ]
  },
  {
   "cell_type": "code",
   "execution_count": null,
   "id": "2120960f",
   "metadata": {},
   "outputs": [],
   "source": [
    "if read_dfs_from_csv:\n",
    "    df_mp_all_OG = pd.read_csv(os.path.join(save_dir_csvs, 'df_mp_all_OG.csv'), dtype=str)\n",
    "else:\n",
    "    df_mp_all_OG = pd.read_sql(sql_mp_all, conn_aws) \n",
    "df_mp_all_OG = clm.remove_prepend_from_columns_in_df(df_mp_all_OG)\n",
    "print(df_mp_all_OG.shape)\n",
    "df_mp_all = df_mp_all_OG.copy()"
   ]
  },
  {
   "cell_type": "code",
   "execution_count": null,
   "id": "faf27f62",
   "metadata": {},
   "outputs": [],
   "source": [
    "df_mp_no_outg_OG = df_mp_all[~df_mp_all['trsf_pole_nb'].isin(df_outage_location_ids['LOCATION_ID'].tolist())]\n",
    "print(df_mp_no_outg_OG.shape)\n",
    "df_mp_no_outg = df_mp_no_outg_OG.copy()"
   ]
  },
  {
   "cell_type": "code",
   "execution_count": null,
   "id": "0066318d",
   "metadata": {},
   "outputs": [],
   "source": [
    "df_mp_no_outg = Utilities_df.convert_col_types(\n",
    "    df=df_mp_no_outg, \n",
    "    cols_and_types_dict={'annual_kwh':float, 'annual_max_dmnd':float}, \n",
    "    to_numeric_errors='coerce', \n",
    "    inplace=True\n",
    ")"
   ]
  },
  {
   "cell_type": "code",
   "execution_count": null,
   "id": "b698625f",
   "metadata": {},
   "outputs": [],
   "source": []
  },
  {
   "cell_type": "markdown",
   "id": "697ad41a",
   "metadata": {},
   "source": [
    "# ---------------------------------------------------------------\n",
    "# OUTAGES\n",
    "# ---------------------------------------------------------------"
   ]
  },
  {
   "cell_type": "code",
   "execution_count": null,
   "id": "f6fecfb2",
   "metadata": {},
   "outputs": [],
   "source": [
    "sql_outage_full = DOVSOutages_SQL.build_sql_std_outage(\n",
    "    mjr_mnr_cause=None, \n",
    "    include_premise=True, \n",
    "    date_range=[date_0_outg, date_1_outg], \n",
    "    states='OH'\n",
    ").get_sql_statement()\n",
    "print(sql_outage_full)"
   ]
  },
  {
   "cell_type": "code",
   "execution_count": null,
   "id": "1a2e9b55",
   "metadata": {},
   "outputs": [],
   "source": [
    "if read_dfs_from_csv:\n",
    "    df_outage_OG = pd.read_csv(os.path.join(save_dir_csvs, 'df_outage_OG.csv'), dtype=str)\n",
    "    csv_cols_and_types_to_convert_dict = {'CI_NB':np.int32, 'CMI_NB':np.float64, 'OUTG_REC_NB':[np.float64, np.int32]}\n",
    "    df_outage_OG = Utilities_df.convert_col_types(df_outage_OG, csv_cols_and_types_to_convert_dict)\n",
    "else:\n",
    "    df_outage_OG = pd.read_sql_query(sql_outage_full, conn_outages, dtype={'CI_NB':np.int32, \n",
    "                                                                           'CMI_NB':np.float64, \n",
    "                                                                           'OUTG_REC_NB':np.int32})"
   ]
  },
  {
   "cell_type": "code",
   "execution_count": null,
   "id": "b8137a42",
   "metadata": {},
   "outputs": [],
   "source": []
  },
  {
   "cell_type": "code",
   "execution_count": null,
   "id": "b0a14e9d",
   "metadata": {},
   "outputs": [],
   "source": []
  },
  {
   "cell_type": "markdown",
   "id": "6cdb2976",
   "metadata": {},
   "source": [
    "# Merge df_outage with df_mp_all and build subsets (e.g., df_outage_prim, df_outage_dl_eqf, etc.) "
   ]
  },
  {
   "cell_type": "code",
   "execution_count": null,
   "id": "7f54e1f7",
   "metadata": {},
   "outputs": [],
   "source": [
    "#TODO why are prem_nb in df_mp_all all integers?  Whereas PREMISE_NB in df_outage\n",
    "# are strings, and can be purely numerical, a alphanumeric, or all letters\n",
    "if read_dfs_from_csv:\n",
    "    df_mp_all['prem_nb'] = df_mp_all['prem_nb'].astype(str)"
   ]
  },
  {
   "cell_type": "code",
   "execution_count": null,
   "id": "adc43f7f",
   "metadata": {},
   "outputs": [],
   "source": [
    "df_outage = df_outage_OG.copy()\n",
    "df_outage = df_outage.merge(df_mp_all, how='left', \n",
    "                            left_on='PREMISE_NB', right_on='prem_nb')\n",
    "df_outage = Utilities_df.convert_col_types(\n",
    "    df=df_outage, \n",
    "    cols_and_types_dict={'annual_kwh':float, 'annual_max_dmnd':float}, \n",
    "    to_numeric_errors='coerce', \n",
    "    inplace=True\n",
    ")\n",
    "# Below, 'prim' stands for primary, and means the meters are connected directly to a transformer pole causing an outage\n",
    "df_outage_prim = df_outage[df_outage['LOCATION_ID']==df_outage['trsf_pole_nb']].copy()\n",
    "\n",
    "# Below, 'prim_strict' stands for primary strict, and means the  meters are connected directly \n",
    "# to a transformer pole causing an outage, AND the equipment type causing the outage is a transformer\n",
    "# (exact EQUIP_TYP_NMs given in xfmr_equip_typ_nms_of_interest)\n",
    "xfmr_equip_typ_nms_of_interest = ['TRANSFORMER, OH', 'TRANSFORMER, UG']\n",
    "df_outage_prim_strict = df_outage[(df_outage['LOCATION_ID']==df_outage['trsf_pole_nb']) & \n",
    "                                  (df_outage['EQUIP_TYP_NM'].isin(xfmr_equip_typ_nms_of_interest))].copy()"
   ]
  },
  {
   "cell_type": "code",
   "execution_count": null,
   "id": "727ce38d",
   "metadata": {},
   "outputs": [],
   "source": [
    "df_outage_prim_strict['mfr_devc_ser_nbr'].nunique()"
   ]
  },
  {
   "cell_type": "markdown",
   "id": "35bfbcd0",
   "metadata": {},
   "source": [
    "# -----------------------------------------------------------------------------------------------\n",
    "# !!!!!!!!!!!!!!!!!!!!!!!!!!!!!!!!!!!!!!!!!!!!!!!!!!!!!!!!!!!!!!!!!!!!!!!!!!!!!!!!!!!!!!!!!!!!!!!\n",
    "# -----------------------------------------------------------------------------------------------"
   ]
  },
  {
   "cell_type": "code",
   "execution_count": null,
   "id": "06f0fd85",
   "metadata": {},
   "outputs": [],
   "source": [
    "conn_outages = Utilities.get_utldb01p_oracle_connection()\n",
    "conn_aws = Utilities.get_athena_prod_aws_connection()"
   ]
  },
  {
   "cell_type": "code",
   "execution_count": null,
   "id": "b3ea61e5",
   "metadata": {},
   "outputs": [],
   "source": []
  },
  {
   "cell_type": "code",
   "execution_count": null,
   "id": "ff677ee6",
   "metadata": {},
   "outputs": [],
   "source": [
    "#TODO Should I use df_outage...['prem_nb'] too?\n",
    "# If so, should it be OR or AND to serial numbers?\n",
    "sns_outg             = df_outage['mfr_devc_ser_nbr'].unique().tolist()\n",
    "sns_outg_prim        = df_outage_prim['mfr_devc_ser_nbr'].unique().tolist()\n",
    "sns_outg_prim_strict = df_outage_prim_strict['mfr_devc_ser_nbr'].unique().tolist()"
   ]
  },
  {
   "cell_type": "code",
   "execution_count": null,
   "id": "e9e7639a",
   "metadata": {},
   "outputs": [],
   "source": [
    "cols_of_interest_usage = [\n",
    "    'serialnumber', \n",
    "    'aep_premise_nb', \n",
    "    'starttimeperiod', \n",
    "    'endtimeperiod', \n",
    "    'aep_endtime_utc', \n",
    "    'timezoneoffset', \n",
    "    'aep_derived_uom', \n",
    "    'aep_srvc_qlty_idntfr', \n",
    "    'value', \n",
    "    'aep_opco', \n",
    "    'aep_usage_dt']\n",
    "#-------------------------\n",
    "cols_of_interest_usage_agg_dflt = [\n",
    "    'serialnumber', \n",
    "    'aep_premise_nb', \n",
    "    'aep_derived_uom ', \n",
    "    'aep_srvc_qlty_idntfr', \n",
    "    'value', \n",
    "    dict(field_desc='YEAR(aep_usage_dt)', alias='aep_usage_year')]\n",
    "#-------------------------\n",
    "#aep_derived_uoms_and_idntfrs=['KWH']\n",
    "aep_derived_uoms_and_idntfrs=None\n",
    "#-------------------------\n",
    "groupby_cols_dflt = ['YEAR(aep_usage_dt)', 'serialnumber', 'aep_premise_nb', 'aep_derived_uom', 'aep_srvc_qlty_idntfr']\n",
    "agg_cols_and_types = {'value':['sum', 'sq_sum', 'mean', 'std', 'count', 'max']}\n",
    "sort_by_dflt = ['aep_usage_year', 'serialnumber', 'aep_derived_uom', 'aep_srvc_qlty_idntfr']"
   ]
  },
  {
   "cell_type": "code",
   "execution_count": null,
   "id": "14db96f6",
   "metadata": {},
   "outputs": [],
   "source": []
  },
  {
   "cell_type": "code",
   "execution_count": null,
   "id": "6e9ec2f4",
   "metadata": {},
   "outputs": [],
   "source": [
    "#date_range = ['2021-01-01', '2021-04-01']\n",
    "date_range = [date_0_outg, date_1_outg]\n",
    "\n",
    "include_groupby_month = True\n",
    "include_groupby_day = False\n",
    "serial_numbers=['883464195', '883463751', '883464198', '883463775', '883463138', '883463776']\n",
    "aep_premise_nbs = None\n",
    "aep_opco='oh'\n",
    "\n",
    "\n",
    "# include_groupby_month = True\n",
    "# include_groupby_day = False\n",
    "# serial_numbers=None\n",
    "# aep_premise_nbs=['070508983','071048983','071108983','072018983','073608983','074148983','074208983',\n",
    "#                  '075738983','075897983','076708983','077308983','078838983','079808983']\n",
    "# aep_opco='oh'\n",
    "\n",
    "\n",
    "include_groupby_month = True\n",
    "include_groupby_day = False\n",
    "serial_numbers = sns_outg_prim_strict\n",
    "aep_premise_nbs = None\n",
    "aep_opco='oh'"
   ]
  },
  {
   "cell_type": "code",
   "execution_count": null,
   "id": "dabb1552",
   "metadata": {},
   "outputs": [],
   "source": [
    "#batch_size = 50\n",
    "#batch_size = 1000\n",
    "batch_size = 10\n",
    "verbose = True\n",
    "#n_update = 10\n",
    "n_update = 1\n",
    "\n",
    "save_args = dict(save_to_file=True, \n",
    "                 save_dir = os.path.join(Utilities_config.get_local_data_dir(), r'build_annual_kwh'), \n",
    "                 save_name=r'annual_kwh_prim_strict.csv')"
   ]
  },
  {
   "cell_type": "code",
   "execution_count": null,
   "id": "4f9e66fa",
   "metadata": {},
   "outputs": [],
   "source": [
    "cols_of_interest_usage_agg = copy.deepcopy(cols_of_interest_usage_agg_dflt)\n",
    "groupby_cols               = copy.deepcopy(groupby_cols_dflt)\n",
    "sort_by                    = copy.deepcopy(sort_by_dflt)\n",
    "\n",
    "if include_groupby_month:\n",
    "    sort_by.insert(1, 'aep_usage_month')\n",
    "    cols_of_interest_usage_agg.append(dict(field_desc='MONTH(aep_usage_dt)', alias='aep_usage_month'))\n",
    "    groupby_cols.insert(1, 'MONTH(aep_usage_dt)')\n",
    "    \n",
    "if include_groupby_day:\n",
    "    assert(include_groupby_month)\n",
    "    sort_by.insert(2, 'aep_usage_day')\n",
    "    cols_of_interest_usage_agg.append(dict(field_desc='DAY(aep_usage_dt)', alias='aep_usage_day'))\n",
    "    groupby_cols.insert(2, 'DAY(aep_usage_dt)')"
   ]
  },
  {
   "cell_type": "code",
   "execution_count": null,
   "id": "b2829dfa",
   "metadata": {},
   "outputs": [],
   "source": []
  },
  {
   "cell_type": "code",
   "execution_count": null,
   "id": "9a5e8272",
   "metadata": {
    "scrolled": true
   },
   "outputs": [],
   "source": [
    "start = time.time()\n",
    "test_df = GenAn.build_df_general(\n",
    "    conn_db=conn_aws, \n",
    "    build_sql_function=build_annual_kwh_sql_statement, \n",
    "    build_sql_function_kwargs=dict(\n",
    "        cols_of_interest_agg = cols_of_interest_usage_agg, \n",
    "        groupby_cols = groupby_cols, \n",
    "        agg_cols_and_types = agg_cols_and_types, \n",
    "        aep_derived_uoms_and_idntfrs=aep_derived_uoms_and_idntfrs, \n",
    "        build_sql_usg_args=dict(\n",
    "            serial_numbers=serial_numbers, \n",
    "            aep_premise_nbs=aep_premise_nbs, \n",
    "            date_range=date_range, \n",
    "            aep_opco=aep_opco\n",
    "        ), \n",
    "        build_net_kwh_args=dict(\n",
    "            cols_of_interest=cols_of_interest_usage, \n",
    "            allow_kwh_in_additional_derived_uoms=True\n",
    "        ), \n",
    "        exclude_null_val_cols=None, \n",
    "        include_counts_including_null=True, \n",
    "        field_to_split='serial_numbers', \n",
    "        field_to_split_location_in_kwargs=['build_sql_usg_args', 'serial_numbers'], \n",
    "        batch_size=batch_size, verbose=verbose, n_update=n_update\n",
    "    ), \n",
    "    save_args=save_args\n",
    ")\n",
    "total_time = time.time() - start\n",
    "print(f'total_time = {total_time}')"
   ]
  },
  {
   "cell_type": "code",
   "execution_count": null,
   "id": "692aa03c",
   "metadata": {},
   "outputs": [],
   "source": []
  },
  {
   "cell_type": "code",
   "execution_count": null,
   "id": "3d09c560",
   "metadata": {},
   "outputs": [],
   "source": []
  }
 ],
 "metadata": {
  "kernelspec": {
   "display_name": "Python 3 (ipykernel)",
   "language": "python",
   "name": "python3"
  },
  "language_info": {
   "codemirror_mode": {
    "name": "ipython",
    "version": 3
   },
   "file_extension": ".py",
   "mimetype": "text/x-python",
   "name": "python",
   "nbconvert_exporter": "python",
   "pygments_lexer": "ipython3",
   "version": "3.9.7"
  }
 },
 "nbformat": 4,
 "nbformat_minor": 5
}
