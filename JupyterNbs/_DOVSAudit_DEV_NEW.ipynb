{
 "cells": [
  {
   "cell_type": "code",
   "execution_count": null,
   "id": "465047af-0185-4790-b8cc-349736c511bd",
   "metadata": {},
   "outputs": [],
   "source": [
    "from importlib import reload\n",
    "#reload(Utilities)\n",
    "#reload(clm)\n",
    "\n",
    "import sys, os\n",
    "import re\n",
    "import pickle\n",
    "\n",
    "import pandas as pd\n",
    "import numpy as np\n",
    "from pandas.api.types import is_numeric_dtype, is_datetime64_dtype, is_timedelta64_dtype\n",
    "from scipy import stats\n",
    "import datetime\n",
    "import time\n",
    "from natsort import natsorted, ns, natsort_keygen\n",
    "from packaging import version\n",
    "\n",
    "import copy\n",
    "import itertools\n",
    "import adjustText\n",
    "\n",
    "import pyodbc\n",
    "#---------------------------------------------------------------------\n",
    "sys.path.insert(0, os.path.realpath('..'))\n",
    "import Utilities_config\n",
    "#-----\n",
    "import CommonLearningMethods as clm\n",
    "#-----\n",
    "from MeterPremise import MeterPremise\n",
    "#-----\n",
    "from AMI_SQL import AMI_SQL\n",
    "from AMINonVee_SQL import AMINonVee_SQL\n",
    "from AMIEndEvents_SQL import AMIEndEvents_SQL\n",
    "from AMIUsgInst_SQL import AMIUsgInst_SQL\n",
    "from DOVSOutages_SQL import DOVSOutages_SQL\n",
    "#-----\n",
    "from GenAn import GenAn\n",
    "from AMINonVee import AMINonVee\n",
    "from AMIEndEvents import AMIEndEvents\n",
    "from AMIUsgInst import AMIUsgInst\n",
    "from DOVSOutages import DOVSOutages\n",
    "#-----\n",
    "from DOVSAudit import DOVSAudit\n",
    "#---------------------------------------------------------------------\n",
    "import matplotlib as mpl\n",
    "import matplotlib.pyplot as plt\n",
    "import seaborn as sns\n",
    "from matplotlib.backends.backend_pdf import PdfPages\n",
    "import matplotlib.patches as mpatches\n",
    "from matplotlib.lines import Line2D\n",
    "import matplotlib.ticker as ticker\n",
    "from matplotlib import dates\n",
    "#---------------------------------------------------------------------\n",
    "sys.path.insert(0, Utilities_config.get_sql_aids_dir())\n",
    "import Utilities_sql\n",
    "import TableInfos\n",
    "from TableInfos import TableInfo\n",
    "from SQLElement import SQLElement\n",
    "from SQLElementsCollection import SQLElementsCollection\n",
    "from SQLSelect import SQLSelectElement, SQLSelect\n",
    "from SQLFrom import SQLFrom\n",
    "from SQLWhere import SQLWhereElement, SQLWhere\n",
    "from SQLJoin import SQLJoin, SQLJoinCollection\n",
    "from SQLGroupBy import SQLGroupByElement, SQLGroupBy\n",
    "from SQLHaving import SQLHaving\n",
    "from SQLOrderBy import SQLOrderByElement, SQLOrderBy\n",
    "from SQLQuery import SQLQuery\n",
    "from SQLQueryGeneric import SQLQueryGeneric\n",
    "#---------------------------------------------------------------------\n",
    "sys.path.insert(0, Utilities_config.get_utilities_dir())\n",
    "import Utilities\n",
    "import Utilities_df\n",
    "import Utilities_dt\n",
    "from Utilities_df import DFConstructType\n",
    "import Plot_General\n",
    "import Plot_Box_sns\n",
    "import Plot_Hist\n",
    "import GrubbsTest\n",
    "import DataFrameSubsetSlicer\n",
    "from DataFrameSubsetSlicer import DataFrameSubsetSlicer as DFSlicer\n",
    "from DataFrameSubsetSlicer import DataFrameSubsetSingleSlicer as DFSingleSlicer"
   ]
  },
  {
   "cell_type": "code",
   "execution_count": null,
   "id": "1eac3dee-016a-446a-a435-4b7588bce0d7",
   "metadata": {},
   "outputs": [],
   "source": []
  },
  {
   "cell_type": "code",
   "execution_count": null,
   "id": "52d4345a-4a56-45c1-b1c2-4cd825429d44",
   "metadata": {},
   "outputs": [],
   "source": [
    "save_dfs=True\n",
    "\n",
    "date_0 = '2024-02-04'\n",
    "date_1 = '2024-02-10'\n",
    "states=None\n",
    "# opcos='oh'\n",
    "opcos=None\n",
    "CI_NB_min=15\n",
    "# CI_NB_min=None\n",
    "conn_outages = Utilities.get_utldb01p_oracle_connection()"
   ]
  },
  {
   "cell_type": "code",
   "execution_count": null,
   "id": "10ffd000-2b67-4ead-9cdb-d46734917757",
   "metadata": {},
   "outputs": [],
   "source": [
    "#--------------------------------------------------\n",
    "sql_outage_full = DOVSOutages_SQL.build_sql_std_outage(\n",
    "    mjr_mnr_cause=None, \n",
    "    include_premise=True, \n",
    "    date_range=[date_0, date_1], \n",
    "    states=states, \n",
    "    opcos=opcos, \n",
    "    CI_NB_min=CI_NB_min\n",
    ").get_sql_statement()\n",
    "#-----\n",
    "print(f'sql_outage_full:\\n{sql_outage_full}\\n\\n')\n",
    "#-----\n",
    "df_outage_OG = pd.read_sql_query(\n",
    "    sql_outage_full, \n",
    "    conn_outages, \n",
    "    dtype={\n",
    "        'CI_NB':np.int32, \n",
    "        'CMI_NB':np.float64, \n",
    "        'OUTG_REC_NB':np.int32\n",
    "    }\n",
    ")\n",
    "#-----\n",
    "print(f\"df_outage_OG.shape = {df_outage_OG.shape}\")\n",
    "print(f\"# OUTG_REC_NBs     = {df_outage_OG['OUTG_REC_NB'].nunique()}\")"
   ]
  },
  {
   "cell_type": "code",
   "execution_count": null,
   "id": "5793e970-7eb0-4ac9-8cfc-00f3c4ffd635",
   "metadata": {},
   "outputs": [],
   "source": []
  },
  {
   "cell_type": "code",
   "execution_count": null,
   "id": "8303cc14-b6a8-4928-99ad-bac3b662222a",
   "metadata": {},
   "outputs": [],
   "source": []
  },
  {
   "cell_type": "code",
   "execution_count": null,
   "id": "50033eb4-a3ad-4d67-8633-44ee50211e01",
   "metadata": {},
   "outputs": [],
   "source": []
  },
  {
   "cell_type": "code",
   "execution_count": null,
   "id": "9bbf5642-11b0-463b-8b56-33b4cbd859c6",
   "metadata": {},
   "outputs": [],
   "source": []
  },
  {
   "cell_type": "code",
   "execution_count": null,
   "id": "d22487e6-d0cd-4d79-98b7-7847895cad40",
   "metadata": {},
   "outputs": [],
   "source": [
    "#--------------------------------------------------\n",
    "sql_outage_i = DOVSOutages_SQL.build_sql_std_outage(\n",
    "    mjr_mnr_cause=None, \n",
    "    include_premise=True, \n",
    "    premise_nbs = [df_outage_OG['PREMISE_NB'].unique()[0]], \n",
    "    states=states, \n",
    "    opcos=opcos, \n",
    "    CI_NB_min=CI_NB_min\n",
    ").get_sql_statement()\n",
    "#-----\n",
    "print(f'sql_outage_i:\\n{sql_outage_i}\\n\\n')\n",
    "#-----\n",
    "df_outage_i = pd.read_sql_query(\n",
    "    sql_outage_i, \n",
    "    conn_outages, \n",
    "    dtype={\n",
    "        'CI_NB':np.int32, \n",
    "        'CMI_NB':np.float64, \n",
    "        'OUTG_REC_NB':np.int32\n",
    "    }\n",
    ")\n",
    "#-----\n",
    "print(f\"df_outage_OG.shape = {df_outage_i.shape}\")\n",
    "print(f\"# OUTG_REC_NBs     = {df_outage_i['OUTG_REC_NB'].nunique()}\")"
   ]
  },
  {
   "cell_type": "code",
   "execution_count": null,
   "id": "a839a451-d815-45e2-96d4-f7d50b13f607",
   "metadata": {},
   "outputs": [],
   "source": [
    "df_outage_i"
   ]
  },
  {
   "cell_type": "code",
   "execution_count": null,
   "id": "4d3533a4-6cf6-44a1-8af8-dd2237b952f8",
   "metadata": {},
   "outputs": [],
   "source": []
  },
  {
   "cell_type": "code",
   "execution_count": null,
   "id": "9267151d-764d-432d-b2d0-aab111b170f1",
   "metadata": {
    "scrolled": true
   },
   "outputs": [],
   "source": [
    "#--------------------------------------------------\n",
    "sql_outage_i = DOVSOutages_SQL.build_sql_std_outage(\n",
    "    mjr_mnr_cause=None, \n",
    "    include_premise=True, \n",
    "    premise_nbs = df_outage_OG['PREMISE_NB'].unique().tolist(), \n",
    "    states=states, \n",
    "    opcos=opcos, \n",
    "    CI_NB_min=CI_NB_min\n",
    ").get_sql_statement()\n",
    "#-----\n",
    "print(f'sql_outage_i:\\n{sql_outage_i}\\n\\n')\n",
    "#-----\n",
    "df_outage_i = pd.read_sql_query(\n",
    "    sql_outage_i, \n",
    "    conn_outages, \n",
    "    dtype={\n",
    "        'CI_NB':np.int32, \n",
    "        'CMI_NB':np.float64, \n",
    "        'OUTG_REC_NB':np.int32\n",
    "    }\n",
    ")\n",
    "#-----\n",
    "print(f\"df_outage_OG.shape = {df_outage_i.shape}\")\n",
    "print(f\"# OUTG_REC_NBs     = {df_outage_i['OUTG_REC_NB'].nunique()}\")"
   ]
  },
  {
   "cell_type": "code",
   "execution_count": null,
   "id": "ed48827f-a4ca-4277-b9d9-675558ed13a7",
   "metadata": {},
   "outputs": [],
   "source": []
  },
  {
   "cell_type": "code",
   "execution_count": null,
   "id": "9a77a151-568a-4797-8f1d-603988656020",
   "metadata": {},
   "outputs": [],
   "source": [
    "dovs = DOVSOutages(\n",
    "    build_sql_function = DOVSOutages_SQL.build_sql_std_outage, \n",
    "    build_sql_function_kwargs = dict(\n",
    "        mjr_mnr_cause=None, \n",
    "        include_premise=True, \n",
    "        premise_nbs = df_outage_OG['PREMISE_NB'].unique().tolist(), \n",
    "        states=states, \n",
    "        opcos=opcos, \n",
    "        CI_NB_min=CI_NB_min, \n",
    "        field_to_split='premise_nbs', \n",
    "        batch_size=1000, \n",
    "        verbose=True, \n",
    "        n_update=10\n",
    "    )\n",
    ")"
   ]
  },
  {
   "cell_type": "code",
   "execution_count": null,
   "id": "313377e0-8567-4135-bf53-8cf49f64222d",
   "metadata": {},
   "outputs": [],
   "source": [
    "dovs.df"
   ]
  },
  {
   "cell_type": "code",
   "execution_count": null,
   "id": "a012afa7-88da-4063-9594-27faf23052a7",
   "metadata": {},
   "outputs": [],
   "source": [
    "dovs_df = dovs.df"
   ]
  },
  {
   "cell_type": "code",
   "execution_count": null,
   "id": "413a8f53-c651-456b-93fb-96793f47a9f8",
   "metadata": {},
   "outputs": [],
   "source": [
    "dovs_df.set_index('PREMISE_NB')"
   ]
  },
  {
   "cell_type": "code",
   "execution_count": null,
   "id": "6bdf5b79-9d61-4593-9031-95280a331693",
   "metadata": {},
   "outputs": [],
   "source": [
    "dovs_df.groupby('PREMISE_NB')['OUTG_REC_NB']"
   ]
  },
  {
   "cell_type": "code",
   "execution_count": null,
   "id": "120b698b-33ce-4508-a316-2f0c65155c7c",
   "metadata": {},
   "outputs": [],
   "source": [
    "consol_df = Utilities_df.consolidate_df(\n",
    "    df = dovs_df.iloc[:1000][['PREMISE_NB', 'OUTG_REC_NB', 'DT_OFF_TS_FULL', 'DT_ON_TS']], \n",
    "    groupby_cols = ['PREMISE_NB'], \n",
    "    cols_shared_by_group = None, \n",
    "    cols_to_collect_in_lists = None, \n",
    "    as_index=True, \n",
    "    include_groupby_cols_in_output_cols=False, \n",
    "    allow_duplicates_in_lists=False, \n",
    "    allow_NaNs_in_lists=False, \n",
    "    recover_uniqueness_violators=True, \n",
    "    gpby_dropna=True, \n",
    "    rename_cols=None, \n",
    "    custom_aggs_for_list_cols=None, \n",
    "    verbose=True\n",
    ")\n",
    "consol_df"
   ]
  },
  {
   "cell_type": "code",
   "execution_count": null,
   "id": "6df7dce3-e8f2-43b4-891d-d552ce2055ae",
   "metadata": {},
   "outputs": [],
   "source": [
    "def get_outages_timeline(\n",
    "    a\n",
    "):\n",
    "    r\"\"\"\n",
    "    Returns the outages suffered as a function of time\n",
    "    \"\"\""
   ]
  },
  {
   "cell_type": "code",
   "execution_count": null,
   "id": "c56cb72e-2f92-42bb-aa4d-4fd1dc4946d7",
   "metadata": {},
   "outputs": [],
   "source": []
  },
  {
   "cell_type": "code",
   "execution_count": null,
   "id": "b2d4d550-fffb-4df3-a222-0048c60b7b2f",
   "metadata": {},
   "outputs": [],
   "source": []
  }
 ],
 "metadata": {
  "kernelspec": {
   "display_name": "Python 3 (ipykernel)",
   "language": "python",
   "name": "python3"
  },
  "language_info": {
   "codemirror_mode": {
    "name": "ipython",
    "version": 3
   },
   "file_extension": ".py",
   "mimetype": "text/x-python",
   "name": "python",
   "nbconvert_exporter": "python",
   "pygments_lexer": "ipython3",
   "version": "3.9.18"
  }
 },
 "nbformat": 4,
 "nbformat_minor": 5
}
