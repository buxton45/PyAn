{
 "cells": [
  {
   "cell_type": "code",
   "execution_count": null,
   "id": "b5755605",
   "metadata": {},
   "outputs": [],
   "source": [
    "from importlib import reload\n",
    "#reload(Utilities)\n",
    "#reload(clm)\n",
    "\n",
    "import sys, os\n",
    "import re\n",
    "\n",
    "import pandas as pd\n",
    "import numpy as np\n",
    "from pandas.api.types import is_numeric_dtype\n",
    "from scipy import stats\n",
    "import datetime\n",
    "import time\n",
    "from natsort import natsorted, ns\n",
    "from packaging import version\n",
    "\n",
    "import pyodbc\n",
    "#---------------------------------------------------------------------\n",
    "sys.path.insert(0, os.path.realpath('..'))\n",
    "import Utilities_config\n",
    "#-----\n",
    "import CommonLearningMethods as clm\n",
    "#-----\n",
    "from MeterPremise import MeterPremise\n",
    "#-----\n",
    "from AMI_SQL import AMI_SQL\n",
    "from AMINonVee_SQL import AMINonVee_SQL\n",
    "from AMIEndEvents_SQL import AMIEndEvents_SQL\n",
    "from AMIUsgInst_SQL import AMIUsgInst_SQL\n",
    "from DOVSOutages_SQL import DOVSOutages_SQL\n",
    "#-----\n",
    "from GenAn import GenAn\n",
    "from AMINonVee import AMINonVee\n",
    "from AMIEndEvents import AMIEndEvents\n",
    "from AMIUsgInst import AMIUsgInst\n",
    "from DOVSOutages import DOVSOutages\n",
    "#---------------------------------------------------------------------\n",
    "import matplotlib.pyplot as plt\n",
    "import seaborn as sns\n",
    "from matplotlib.backends.backend_pdf import PdfPages\n",
    "import matplotlib.patches as mpatches\n",
    "from matplotlib.lines import Line2D\n",
    "import matplotlib.ticker as ticker\n",
    "#---------------------------------------------------------------------\n",
    "sys.path.insert(0, Utilities_config.get_sql_aids_dir())\n",
    "import Utilities_sql\n",
    "import TableInfos\n",
    "from TableInfos import TableInfo\n",
    "from SQLElement import SQLElement\n",
    "from SQLElementsCollection import SQLElementsCollection\n",
    "from SQLSelect import SQLSelectElement, SQLSelect\n",
    "from SQLFrom import SQLFrom\n",
    "from SQLWhere import SQLWhereElement, SQLWhere\n",
    "from SQLJoin import SQLJoin, SQLJoinCollection\n",
    "from SQLGroupBy import SQLGroupByElement, SQLGroupBy\n",
    "from SQLHaving import SQLHaving\n",
    "from SQLOrderBy import SQLOrderByElement, SQLOrderBy\n",
    "from SQLQuery import SQLQuery\n",
    "from SQLQueryGeneric import SQLQueryGeneric\n",
    "#---------------------------------------------------------------------\n",
    "sys.path.insert(0, Utilities_config.get_utilities_dir())\n",
    "import Utilities\n",
    "import Utilities_df\n",
    "import Utilities_dt\n",
    "from Utilities_df import DFConstructType\n",
    "import Plot_Box_sns\n",
    "import GrubbsTest"
   ]
  },
  {
   "cell_type": "code",
   "execution_count": null,
   "id": "dcbde703",
   "metadata": {},
   "outputs": [],
   "source": []
  },
  {
   "cell_type": "code",
   "execution_count": null,
   "id": "1a0dd5fa",
   "metadata": {},
   "outputs": [],
   "source": [
    "# NOTE: NULL is also possible\n",
    "possible_enddeviceeventtypeids = [\n",
    "    '3.1.3.79',\n",
    "    '3.2.0.28',\n",
    "    '3.2.0.85',\n",
    "    '3.2.22.28',\n",
    "    '3.2.22.150',\n",
    "    '3.7.19.242',\n",
    "    '3.7.19.243',\n",
    "    '3.7.22.4',\n",
    "    '3.7.22.19',\n",
    "    '3.8.0.215',\n",
    "    '3.9.83.159',\n",
    "    '3.11.63.161',\n",
    "    '3.12.0.257',\n",
    "    '3.12.17.257',\n",
    "    '3.12.48.28',\n",
    "    '3.12.48.219',\n",
    "    '3.12.93.28',\n",
    "    '3.12.93.219',\n",
    "    '3.12.136.38',\n",
    "    '3.12.136.85',\n",
    "    '3.18.1.199',\n",
    "    '3.18.1.220',\n",
    "    '3.18.72.28',\n",
    "    '3.18.72.79',\n",
    "    '3.18.72.85',\n",
    "    '3.18.85.28',\n",
    "    '3.18.85.79',\n",
    "    '3.18.85.85',\n",
    "    '3.18.92.28',\n",
    "    '3.18.92.79',\n",
    "    '3.18.92.85',\n",
    "    '3.21.1.79',\n",
    "    '3.21.1.173',\n",
    "    '3.21.3.28',\n",
    "    '3.21.3.79',\n",
    "    '3.21.17.28',\n",
    "    '3.21.18.79',\n",
    "    '3.21.67.28',\n",
    "    '3.21.67.79',\n",
    "    '3.21.82.28',\n",
    "    '3.21.82.79',\n",
    "    '3.22.12.243',\n",
    "    '3.22.19.242',\n",
    "    '3.23.17.79',\n",
    "    '3.23.17.139',\n",
    "    '3.23.136.47',\n",
    "    '3.23.136.85',\n",
    "    '3.25.17.3',\n",
    "    '3.26.0.47',\n",
    "    '3.26.0.216',\n",
    "    '3.26.17.185',\n",
    "    '3.26.17.216',\n",
    "    '3.26.38.27',\n",
    "    '3.26.38.37',\n",
    "    '3.26.38.47',\n",
    "    '3.26.38.73',\n",
    "    '3.26.38.93',\n",
    "    '3.26.38.150',\n",
    "    '3.26.136.47',\n",
    "    '3.26.136.66',\n",
    "    '3.26.136.216',\n",
    "    '3.31.1.143',\n",
    "    '3.33.1.219',\n",
    "    '3.33.1.257',\n",
    "    '3.35.0.28',\n",
    "    '3.35.0.40',\n",
    "    '3.36.0.79',\n",
    "    '3.36.1.29',\n",
    "    '3.36.114.73',\n",
    "    '3.36.114.159',\n",
    "    '3.36.136.73',\n",
    "    '3.36.136.79',\n",
    "    '3.38.1.139'      \n",
    "]"
   ]
  },
  {
   "cell_type": "code",
   "execution_count": null,
   "id": "f7e5f406",
   "metadata": {},
   "outputs": [],
   "source": []
  },
  {
   "cell_type": "code",
   "execution_count": null,
   "id": "f4636595",
   "metadata": {},
   "outputs": [],
   "source": [
    "conn_outages = Utilities.get_utldb01p_oracle_connection()\n",
    "conn_aws = Utilities.get_athena_prod_aws_connection()"
   ]
  },
  {
   "cell_type": "code",
   "execution_count": null,
   "id": "e1ff57e4",
   "metadata": {},
   "outputs": [],
   "source": [
    "fig_num = 0"
   ]
  },
  {
   "cell_type": "code",
   "execution_count": null,
   "id": "c38f97ac",
   "metadata": {},
   "outputs": [],
   "source": []
  },
  {
   "cell_type": "markdown",
   "id": "9c543b5a",
   "metadata": {},
   "source": [
    "# ---------------------------------------------------------------\n",
    "# OUTAGES\n",
    "# ---------------------------------------------------------------"
   ]
  },
  {
   "cell_type": "code",
   "execution_count": null,
   "id": "a748cced",
   "metadata": {},
   "outputs": [],
   "source": [
    "sql_outage = DOVSOutages_SQL.build_sql_std_outage(\n",
    "    specific_dates=['2020-10-12','2017-09-16','2020-07-01'],                                    \n",
    "    outg_rec_nbs=['11947217','11946640','10143524','11770899']\n",
    ")\n",
    "sql_outage.print()"
   ]
  },
  {
   "cell_type": "code",
   "execution_count": null,
   "id": "4ff330c5",
   "metadata": {},
   "outputs": [],
   "source": []
  },
  {
   "cell_type": "code",
   "execution_count": null,
   "id": "f4a90215",
   "metadata": {},
   "outputs": [],
   "source": []
  },
  {
   "cell_type": "markdown",
   "id": "679b7961",
   "metadata": {},
   "source": [
    "# NOTE\n",
    "11946344 is scheduled output.  So, there are apparently no corresponding end events!"
   ]
  },
  {
   "cell_type": "code",
   "execution_count": null,
   "id": "e00a2c59",
   "metadata": {},
   "outputs": [],
   "source": [
    "dovs_outgs = DOVSOutages(df_construct_type=DFConstructType.kRunSqlQuery, \n",
    "                         build_sql_function_kwargs=dict(\n",
    "                             specific_dates=['2020-10-12','2017-09-16','2020-07-01'], \n",
    "                             outg_rec_nbs=['11947217','11946640','10143524','11770899']\n",
    "                         ), \n",
    "                         init_df_in_constructor=True)\n",
    "df_outage = dovs_outgs.get_df().copy()"
   ]
  },
  {
   "cell_type": "code",
   "execution_count": null,
   "id": "c3d2d362",
   "metadata": {},
   "outputs": [],
   "source": [
    "#TODO\n",
    "#search_time_window = 60 #minutes\n",
    "search_time_window = 60*24*14 #minutes\n",
    "search_time_window = datetime.timedelta(minutes=search_time_window)\n",
    "\n",
    "# NOTE: search_time_window can also be a vector of values...\n",
    "df_outage['search_time_window'] = search_time_window\n",
    "df_outage['t_search_min'] = df_outage['DT_OFF_TS_FULL'] - df_outage['search_time_window']\n",
    "df_outage['t_search_max'] = df_outage['DT_ON_TS'] + df_outage['search_time_window']"
   ]
  },
  {
   "cell_type": "code",
   "execution_count": null,
   "id": "7f2252a7",
   "metadata": {},
   "outputs": [],
   "source": []
  },
  {
   "cell_type": "code",
   "execution_count": null,
   "id": "8bdc08ed",
   "metadata": {},
   "outputs": [],
   "source": []
  },
  {
   "cell_type": "markdown",
   "id": "0b50ca69",
   "metadata": {},
   "source": [
    "# ---------------------------------------------------------------\n",
    "# END DEVICE EVENTS\n",
    "# ---------------------------------------------------------------"
   ]
  },
  {
   "cell_type": "markdown",
   "id": "4594e038",
   "metadata": {},
   "source": [
    "How to generalize?\n",
    "I'll need to do something like joining on premise numbers together with the approximate time of the outage.\n",
    "<br> Will probably use +-1 hr from outage to begin?"
   ]
  },
  {
   "cell_type": "code",
   "execution_count": null,
   "id": "223298de",
   "metadata": {},
   "outputs": [],
   "source": [
    "cols_of_interest_end_dev_event = TableInfos.AMIEndEvents_TI.std_columns_of_interest\n",
    "cols_of_interest_met_prem = TableInfos.MeterPremise_TI.std_columns_of_interest"
   ]
  },
  {
   "cell_type": "code",
   "execution_count": null,
   "id": "23a9cbb6",
   "metadata": {},
   "outputs": [],
   "source": []
  },
  {
   "cell_type": "code",
   "execution_count": null,
   "id": "03cdc527",
   "metadata": {},
   "outputs": [],
   "source": [
    "# df_outage.groupby(['DT_ON_TS', 'DT_OFF_TS_FULL']).ngroups"
   ]
  },
  {
   "cell_type": "code",
   "execution_count": null,
   "id": "c59721e8",
   "metadata": {},
   "outputs": [],
   "source": [
    "sql_end_events_join_mp_for_outages = AMIEndEvents_SQL.build_sql_end_events_for_outages(\n",
    "    cols_of_interest=cols_of_interest_end_dev_event, \n",
    "    df_outage=df_outage, \n",
    "    build_sql_function_kwargs=dict(opco='oh', \n",
    "                        aep_derived_uoms_and_idntfrs=['KWH']), \n",
    "    join_mp_args=dict(join_with_CTE=True, \n",
    "                      build_mp_kwargs=dict(cols_of_interest=cols_of_interest_met_prem))\n",
    ")\n",
    "print(sql_end_events_join_mp_for_outages)"
   ]
  },
  {
   "cell_type": "code",
   "execution_count": null,
   "id": "933640fc",
   "metadata": {},
   "outputs": [],
   "source": []
  },
  {
   "cell_type": "code",
   "execution_count": null,
   "id": "3bbaceaf",
   "metadata": {},
   "outputs": [],
   "source": [
    "# sql_end_events_join_mp_for_outages = AMIEndEvents_SQL.build_sql_end_events_for_outages(\n",
    "#     cols_of_interest = cols_of_interest_end_dev_event, \n",
    "#     df_outage=df_outage, \n",
    "#     build_sql_function_kwargs=dict(opco='oh', \n",
    "#                                    aep_derived_uoms_and_idntfrs=['KWH']), \n",
    "#     join_mp_args=dict(join_with_CTE=True, \n",
    "#                       build_mp_kwargs=dict(cols_of_interest=cols_of_interest_met_prem))    \n",
    "# )\n",
    "# print(sql_end_events_join_mp_for_outages)"
   ]
  },
  {
   "cell_type": "code",
   "execution_count": null,
   "id": "8d497660",
   "metadata": {},
   "outputs": [],
   "source": [
    "# test_df = pd.read_sql(sql_end_events_join_mp_for_outages, conn_aws)\n",
    "# test_df = Utilities_df.remove_table_aliases(test_df)"
   ]
  },
  {
   "cell_type": "code",
   "execution_count": null,
   "id": "12fd8897",
   "metadata": {},
   "outputs": [],
   "source": [
    "# test_df"
   ]
  },
  {
   "cell_type": "code",
   "execution_count": null,
   "id": "d3c31092",
   "metadata": {},
   "outputs": [],
   "source": []
  },
  {
   "cell_type": "code",
   "execution_count": null,
   "id": "271bc2e4",
   "metadata": {},
   "outputs": [],
   "source": []
  },
  {
   "cell_type": "code",
   "execution_count": null,
   "id": "899fa5b0",
   "metadata": {},
   "outputs": [],
   "source": [
    "# sql_stmnt_end_dev_event = AMIEndEvents_SQL.build_sql_end_events_for_outages(cols_of_interest_end_dev_event, df_outage)\n",
    "# print(sql_stmnt_end_dev_event)"
   ]
  },
  {
   "cell_type": "code",
   "execution_count": null,
   "id": "7349411c",
   "metadata": {},
   "outputs": [],
   "source": []
  },
  {
   "cell_type": "code",
   "execution_count": null,
   "id": "f9f80435",
   "metadata": {},
   "outputs": [],
   "source": []
  },
  {
   "cell_type": "code",
   "execution_count": null,
   "id": "36bdce1b",
   "metadata": {},
   "outputs": [],
   "source": []
  },
  {
   "cell_type": "code",
   "execution_count": null,
   "id": "f4eec677",
   "metadata": {},
   "outputs": [],
   "source": []
  },
  {
   "cell_type": "code",
   "execution_count": null,
   "id": "5e57f865",
   "metadata": {},
   "outputs": [],
   "source": []
  },
  {
   "cell_type": "code",
   "execution_count": null,
   "id": "261ad1ed",
   "metadata": {},
   "outputs": [],
   "source": []
  },
  {
   "cell_type": "code",
   "execution_count": null,
   "id": "14051f74",
   "metadata": {},
   "outputs": [],
   "source": []
  },
  {
   "cell_type": "code",
   "execution_count": null,
   "id": "746a46e1",
   "metadata": {},
   "outputs": [],
   "source": []
  },
  {
   "cell_type": "code",
   "execution_count": null,
   "id": "2f870a9c",
   "metadata": {},
   "outputs": [],
   "source": []
  },
  {
   "cell_type": "markdown",
   "id": "7e2c9eb7",
   "metadata": {},
   "source": [
    "# BEGIN DELETE ME"
   ]
  },
  {
   "cell_type": "code",
   "execution_count": null,
   "id": "1ed4cda9",
   "metadata": {},
   "outputs": [],
   "source": [
    "# def build_sql_end_events(cols_of_interest_end_dev_event, \n",
    "#                          **kwargs):\n",
    "#     r\"\"\"\n",
    "#     Acceptable kwargs:\n",
    "#       - date_range\n",
    "#         - tuple with two string elements, e.g., ['2021-01-01', '2021-04-01']\n",
    "#       - aep_event_dt_col    \n",
    "      \n",
    "#       - serial_numbers\n",
    "#       - serialnumber_col\n",
    "\n",
    "#       - aep_premise_nbs\n",
    "#       - aep_premise_nb_col\n",
    "\n",
    "#       - aep_opco\n",
    "#       - aep_opco_col\n",
    "      \n",
    "#       - schema_name\n",
    "#       - table_name"
   ]
  },
  {
   "cell_type": "code",
   "execution_count": null,
   "id": "31907f0c",
   "metadata": {},
   "outputs": [],
   "source": [
    "t_search_min = '2020-09-28 19:18:00' \n",
    "t_search_max = '2020-10-26 20:45:00'\n",
    "aep_premise_nbs = ['100420620','100547600','100683783','101020620','101330620','103520620','103647600','103783783',\n",
    "                   '104120620','104430620','105030620','105293783','105710620','106620620','106747600','106883783',\n",
    "                   '107220620','107483783','108130620','108393783','108810620','109720620','109847600']\n",
    "date_range = [pd.to_datetime(t_search_min).date(), pd.to_datetime(t_search_max).date()]"
   ]
  },
  {
   "cell_type": "code",
   "execution_count": null,
   "id": "dc35bb34",
   "metadata": {},
   "outputs": [],
   "source": [
    "import AMI_SQL\n",
    "reload(AMI_SQL)\n",
    "from AMI_SQL import AMI_SQL\n",
    "\n",
    "import AMIEndEvents_SQL\n",
    "reload(AMIEndEvents_SQL)\n",
    "from AMIEndEvents_SQL import AMIEndEvents_SQL"
   ]
  },
  {
   "cell_type": "code",
   "execution_count": null,
   "id": "e88a024d",
   "metadata": {},
   "outputs": [],
   "source": [
    "ede_i = AMIEndEvents_SQL.build_sql_end_events(cols_of_interest_end_dev_event, date_range=date_range, aep_premise_nbs=aep_premise_nbs)\n",
    "ede_i.alias = 'ede_i'"
   ]
  },
  {
   "cell_type": "code",
   "execution_count": null,
   "id": "94b71644",
   "metadata": {},
   "outputs": [],
   "source": [
    "ede_i.print(include_alias=True)"
   ]
  },
  {
   "cell_type": "code",
   "execution_count": null,
   "id": "e0d967db",
   "metadata": {},
   "outputs": [],
   "source": []
  },
  {
   "cell_type": "code",
   "execution_count": null,
   "id": "1eae0756",
   "metadata": {},
   "outputs": [],
   "source": []
  },
  {
   "cell_type": "code",
   "execution_count": null,
   "id": "c9464bbb",
   "metadata": {},
   "outputs": [],
   "source": [
    "ami_end_events = AMIEndEvents(\n",
    "    df_construct_type=DFConstructType.kRunSqlQuery, \n",
    "    build_sql_function=AMIEndEvents_SQL.build_sql_end_events_for_outages, \n",
    "    build_sql_function_kwargs = dict(\n",
    "        cols_of_interest=cols_of_interest_end_dev_event, \n",
    "        df_outage=df_outage\n",
    "    ), \n",
    "    contstruct_df_args=None, \n",
    "    init_df_in_constructor=True\n",
    ")\n",
    "#df_2 = ami_end_events.df()\n",
    "df_2 = ami_end_events.df\n",
    "df_2 = Utilities_df.remove_table_aliases(df_2)"
   ]
  },
  {
   "cell_type": "code",
   "execution_count": null,
   "id": "857744b0",
   "metadata": {},
   "outputs": [],
   "source": [
    "sql_stmnt_end_dev_event = AMIEndEvents_SQL.build_sql_end_events_for_outages(cols_of_interest_end_dev_event, df_outage)\n",
    "start = time.time()\n",
    "df_1 = pd.read_sql(sql_stmnt_end_dev_event, conn_aws)\n",
    "print(time.time()-start)\n",
    "df_1 = Utilities_df.remove_table_aliases(df_1)"
   ]
  },
  {
   "cell_type": "code",
   "execution_count": null,
   "id": "ce14e5d5",
   "metadata": {},
   "outputs": [],
   "source": [
    "df_2.equals(df_1)"
   ]
  },
  {
   "cell_type": "code",
   "execution_count": null,
   "id": "424fe387",
   "metadata": {},
   "outputs": [],
   "source": []
  },
  {
   "cell_type": "code",
   "execution_count": null,
   "id": "a1ffcbfa",
   "metadata": {},
   "outputs": [],
   "source": [
    "sql_end_events_join_mp_for_outages = AMIEndEvents_SQL.build_sql_end_events_for_outages(\n",
    "    cols_of_interest=cols_of_interest_end_dev_event, \n",
    "    df_outage=df_outage, \n",
    "    build_sql_function_kwargs=dict(opco='oh', \n",
    "                        aep_derived_uoms_and_idntfrs=['KWH']), \n",
    "    join_mp_args=dict(join_with_CTE=True, \n",
    "                      build_mp_kwargs=dict(cols_of_interest=cols_of_interest_met_prem))\n",
    ")\n",
    "df_1 = pd.read_sql(sql_end_events_join_mp_for_outages, conn_aws)\n",
    "df_1 = Utilities_df.remove_table_aliases(df_1)"
   ]
  },
  {
   "cell_type": "code",
   "execution_count": null,
   "id": "ebc48ab6",
   "metadata": {},
   "outputs": [],
   "source": [
    "ami_end_events = AMIEndEvents(\n",
    "    df_construct_type=DFConstructType.kRunSqlQuery, \n",
    "    build_sql_function=AMIEndEvents_SQL.build_sql_end_events_for_outages, \n",
    "    build_sql_function_kwargs = dict(\n",
    "        cols_of_interest=cols_of_interest_end_dev_event, \n",
    "        df_outage=df_outage, \n",
    "        build_sql_function_kwargs = dict(\n",
    "            opco='oh',\n",
    "            aep_derived_uoms_and_idntfrs=['KWH']\n",
    "        ), \n",
    "        join_mp_args=dict(join_with_CTE=True, \n",
    "                          build_mp_kwargs=dict(cols_of_interest=cols_of_interest_met_prem))\n",
    "    ), \n",
    "    contstruct_df_args=None, \n",
    "    init_df_in_constructor=True\n",
    ")\n",
    "#df_2 = ami_end_events.df()\n",
    "df_2 = ami_end_events.df\n",
    "df_2 = Utilities_df.remove_table_aliases(df_2)"
   ]
  },
  {
   "cell_type": "code",
   "execution_count": null,
   "id": "485a5845",
   "metadata": {},
   "outputs": [],
   "source": [
    "df_2.equals(df_1)"
   ]
  },
  {
   "cell_type": "code",
   "execution_count": null,
   "id": "e6194149",
   "metadata": {},
   "outputs": [],
   "source": []
  },
  {
   "cell_type": "code",
   "execution_count": null,
   "id": "6fde65e3",
   "metadata": {},
   "outputs": [],
   "source": []
  },
  {
   "cell_type": "code",
   "execution_count": null,
   "id": "7498186b",
   "metadata": {},
   "outputs": [],
   "source": []
  },
  {
   "cell_type": "code",
   "execution_count": null,
   "id": "5778dacf",
   "metadata": {},
   "outputs": [],
   "source": [
    "sql_end_dev_event_old = AMIEndEvents_SQL.build_sql_end_events_for_outages(cols_of_interest_end_dev_event, df_outage, split_to_CTEs=False)\n",
    "sql_stmnt_end_dev_event = AMIEndEvents_SQL.build_sql_end_events_for_outages(cols_of_interest_end_dev_event, df_outage)"
   ]
  },
  {
   "cell_type": "code",
   "execution_count": null,
   "id": "9915e14b",
   "metadata": {},
   "outputs": [],
   "source": [
    "start = time.time()\n",
    "new_df = pd.read_sql(sql_stmnt_end_dev_event, conn_aws)\n",
    "print(time.time()-start)\n",
    "new_df = Utilities_df.remove_table_aliases(new_df)"
   ]
  },
  {
   "cell_type": "code",
   "execution_count": null,
   "id": "e492dd2d",
   "metadata": {},
   "outputs": [],
   "source": [
    "start = time.time()\n",
    "old_df = pd.read_sql(sql_end_dev_event_old, conn_aws)\n",
    "print(time.time()-start)\n",
    "old_df = Utilities_df.remove_table_aliases(old_df)"
   ]
  },
  {
   "cell_type": "code",
   "execution_count": null,
   "id": "89bbbff4",
   "metadata": {},
   "outputs": [],
   "source": [
    "time.sleep(10)"
   ]
  },
  {
   "cell_type": "code",
   "execution_count": null,
   "id": "10e5654f",
   "metadata": {},
   "outputs": [],
   "source": [
    "start = time.time()\n",
    "old_df = pd.read_sql(sql_end_dev_event_old, conn_aws)\n",
    "print(time.time()-start)\n",
    "old_df = Utilities_df.remove_table_aliases(old_df)"
   ]
  },
  {
   "cell_type": "code",
   "execution_count": null,
   "id": "8f084d5e",
   "metadata": {},
   "outputs": [],
   "source": [
    "start = time.time()\n",
    "new_df = pd.read_sql(sql_stmnt_end_dev_event, conn_aws)\n",
    "print(time.time()-start)\n",
    "new_df = Utilities_df.remove_table_aliases(new_df)"
   ]
  },
  {
   "cell_type": "code",
   "execution_count": null,
   "id": "bb2581ea",
   "metadata": {},
   "outputs": [],
   "source": []
  },
  {
   "cell_type": "code",
   "execution_count": null,
   "id": "56fb103a",
   "metadata": {},
   "outputs": [],
   "source": [
    "sort_by = ['issuertracking_id', 'aep_event_dt', 'valuesinterval', 'serialnumber']"
   ]
  },
  {
   "cell_type": "code",
   "execution_count": null,
   "id": "4bd0700d",
   "metadata": {},
   "outputs": [],
   "source": [
    "old_df.sort_values(by=sort_by, ignore_index=True).equals(new_df.drop(columns=['outg_rec_nb']).sort_values(by=sort_by, ignore_index=True))"
   ]
  },
  {
   "cell_type": "code",
   "execution_count": null,
   "id": "39c762ff",
   "metadata": {},
   "outputs": [],
   "source": [
    "print(sql_end_dev_event_old)"
   ]
  },
  {
   "cell_type": "code",
   "execution_count": null,
   "id": "f4c15496",
   "metadata": {},
   "outputs": [],
   "source": [
    "print(sql_stmnt_end_dev_event)"
   ]
  },
  {
   "cell_type": "code",
   "execution_count": null,
   "id": "b810012b",
   "metadata": {},
   "outputs": [],
   "source": []
  },
  {
   "cell_type": "code",
   "execution_count": null,
   "id": "f02b7f42",
   "metadata": {},
   "outputs": [],
   "source": []
  },
  {
   "cell_type": "code",
   "execution_count": null,
   "id": "2bf3d0c5",
   "metadata": {},
   "outputs": [],
   "source": []
  },
  {
   "cell_type": "markdown",
   "id": "15f19b92",
   "metadata": {},
   "source": [
    "### See if matching procedure agrees with new SQL procedure which already includes the outage number"
   ]
  },
  {
   "cell_type": "code",
   "execution_count": null,
   "id": "06de326e",
   "metadata": {},
   "outputs": [],
   "source": [
    "old_df = Utilities_dt.build_utc_time_column(old_df, time_col='valuesinterval')\n",
    "old_df = Utilities_dt.strip_tz_info_and_convert_to_dt(old_df, time_col='valuesinterval', \n",
    "                                                      placement_col='valuesinterval_local', run_quick=True)\n",
    "\n",
    "start = time.time()\n",
    "old_df, n_events_with_mult_matches = clm.match_events_in_df_to_outages(old_df, df_outage, \n",
    "                                                                       return_n_events_with_mult_matches=True)\n",
    "old_df = clm.set_all_outages_info_in_events_df(old_df, df_outage)\n",
    "time_new = time.time() - start\n",
    "print(f'n_events_with_mult_matches = {n_events_with_mult_matches}')"
   ]
  },
  {
   "cell_type": "code",
   "execution_count": null,
   "id": "aa85e902",
   "metadata": {},
   "outputs": [],
   "source": []
  },
  {
   "cell_type": "code",
   "execution_count": null,
   "id": "c392af65",
   "metadata": {},
   "outputs": [],
   "source": [
    "new_df = Utilities_dt.build_utc_time_column(new_df, time_col='valuesinterval')\n",
    "new_df = Utilities_dt.strip_tz_info_and_convert_to_dt(new_df, time_col='valuesinterval', \n",
    "                                                      placement_col='valuesinterval_local', run_quick=True)\n",
    "new_df['outg_rec_nb'] = new_df['outg_rec_nb'].astype(int)"
   ]
  },
  {
   "cell_type": "code",
   "execution_count": null,
   "id": "ebdd6ef1",
   "metadata": {},
   "outputs": [],
   "source": [
    "old_df = old_df.drop(columns=['OUTG_REC_NB_OLD', 'OUTG_REC_NB_ALL', 'n_outages_found',\n",
    "                              'DT_OFF_TS_FULL', 'DT_ON_TS', 'STEP_DRTN_NB',\n",
    "                              'search_time_window'])\n",
    "old_df = old_df.rename(columns={'OUTG_REC_NB':'outg_rec_nb'})\n",
    "old_df = old_df[new_df.columns]\n",
    "old_df['outg_rec_nb'] = old_df['outg_rec_nb'].astype(int)"
   ]
  },
  {
   "cell_type": "code",
   "execution_count": null,
   "id": "d1de6775",
   "metadata": {},
   "outputs": [],
   "source": [
    "old_df.head()"
   ]
  },
  {
   "cell_type": "code",
   "execution_count": null,
   "id": "ad132310",
   "metadata": {},
   "outputs": [],
   "source": [
    "new_df.head()"
   ]
  },
  {
   "cell_type": "code",
   "execution_count": null,
   "id": "dcaad5ab",
   "metadata": {},
   "outputs": [],
   "source": [
    "old_df.sort_values(by=sort_by, ignore_index=True).equals(new_df.sort_values(by=sort_by, ignore_index=True))"
   ]
  },
  {
   "cell_type": "code",
   "execution_count": null,
   "id": "16419ee3",
   "metadata": {},
   "outputs": [],
   "source": []
  },
  {
   "cell_type": "code",
   "execution_count": null,
   "id": "f60e9666",
   "metadata": {},
   "outputs": [],
   "source": []
  },
  {
   "cell_type": "markdown",
   "id": "aab6a68a",
   "metadata": {},
   "source": [
    "# END DELETE ME"
   ]
  },
  {
   "cell_type": "code",
   "execution_count": null,
   "id": "840cc656",
   "metadata": {},
   "outputs": [],
   "source": []
  },
  {
   "cell_type": "code",
   "execution_count": null,
   "id": "5b501ffc",
   "metadata": {},
   "outputs": [],
   "source": [
    "# start = time.time()\n",
    "# df_end_dev_event_OLD = pd.read_sql(sql_end_dev_event_OLD, conn_aws)\n",
    "# time_OLD = time.time() - start\n",
    "# print(f'time_OLD = {time_OLD}')\n",
    "# print(f\"len(df_end_dev_event_OLD['serialnumber'].unique()) = {len(df_end_dev_event_OLD['serialnumber'].unique())}\")\n",
    "\n",
    "start = time.time()\n",
    "df_end_dev_event = pd.read_sql(sql_stmnt_end_dev_event, conn_aws)\n",
    "time_NEW = time.time() - start\n",
    "df_end_dev_event = Utilities_df.remove_table_aliases(df_end_dev_event)\n",
    "print(f'time_NEW = {time_NEW}')\n",
    "print(f\"len(df_end_dev_event['serialnumber'].unique())     = {len(df_end_dev_event['serialnumber'].unique())}\")\n",
    "\n",
    "df_end_dev_event = Utilities_df.remove_prepend_from_columns_in_df(df_end_dev_event)"
   ]
  },
  {
   "cell_type": "code",
   "execution_count": null,
   "id": "56455bca",
   "metadata": {},
   "outputs": [],
   "source": []
  },
  {
   "cell_type": "code",
   "execution_count": null,
   "id": "3d6a4176",
   "metadata": {},
   "outputs": [],
   "source": [
    "# TODO no real point to building valuesinterval_utc, as the outages are in local time\n",
    "# Maybe want to change outages to UTC time instead?  No immediately clear simple method\n",
    "# to achieve this through fields in DOVS tables.\n",
    "df_end_dev_event = Utilities_dt.build_utc_time_column(df_end_dev_event, time_col='valuesinterval')\n",
    "df_end_dev_event = Utilities_dt.strip_tz_info_and_convert_to_dt(df_end_dev_event, time_col='valuesinterval', \n",
    "                                                   placement_col='valuesinterval_local', run_quick=True)"
   ]
  },
  {
   "cell_type": "code",
   "execution_count": null,
   "id": "0df281ce",
   "metadata": {},
   "outputs": [],
   "source": []
  },
  {
   "cell_type": "code",
   "execution_count": null,
   "id": "9c437ee1",
   "metadata": {},
   "outputs": [],
   "source": [
    "df_end_dev_event_cpy = df_end_dev_event.copy()\n",
    "start = time.time()\n",
    "df_end_dev_event_cpy, n_events_with_mult_matches = clm.match_events_in_df_to_outages(df_end_dev_event_cpy, df_outage, \n",
    "                                                                                      return_n_events_with_mult_matches=True)\n",
    "df_end_dev_event_cpy = clm.set_all_outages_info_in_events_df(df_end_dev_event_cpy, df_outage)\n",
    "time_new = time.time() - start\n",
    "print(f'n_events_with_mult_matches = {n_events_with_mult_matches}')"
   ]
  },
  {
   "cell_type": "code",
   "execution_count": null,
   "id": "d975423d",
   "metadata": {},
   "outputs": [],
   "source": []
  },
  {
   "cell_type": "code",
   "execution_count": null,
   "id": "e84bb2a7",
   "metadata": {},
   "outputs": [],
   "source": [
    "# Need to be a little careful with n_events_with_mult_matches below, as values were exploded in match_events_in_df_to_outages\n",
    "# Therefore, naively taking df_end_dev_event_cpy[df_end_dev_event_cpy['n_outages_found'] > 1].shape[0] would overcount.\n",
    "#   e.g., if every event with 'n_outages_found'>1 found two outages, the value returned by the naive method mentioned\n",
    "#         above would be twice the actual value\n",
    "n_events_with_mult_matches = len(df_end_dev_event_cpy[df_end_dev_event_cpy['n_outages_found'] > 1]['issuertracking_id'].unique())\n",
    "n_events_with_no_matches = df_end_dev_event_cpy[df_end_dev_event_cpy['n_outages_found'] < 1].shape[0]\n",
    "print(f'n_events_with_mult_matches = {n_events_with_mult_matches}')\n",
    "print(f'n_events_with_no_matches = {n_events_with_no_matches}')"
   ]
  },
  {
   "cell_type": "code",
   "execution_count": null,
   "id": "6b97d261",
   "metadata": {},
   "outputs": [],
   "source": [
    "outg_rec_nb = df_end_dev_event_cpy['OUTG_REC_NB'].unique().tolist()[0]\n",
    "tmp_df = df_end_dev_event_cpy[df_end_dev_event_cpy['OUTG_REC_NB']==outg_rec_nb]\n",
    "\n",
    "assert(len(tmp_df['DT_OFF_TS_FULL'].unique())==1)\n",
    "assert(len(tmp_df['DT_ON_TS'].unique())==1)\n",
    "out_beg = tmp_df.iloc[0]['DT_OFF_TS_FULL']\n",
    "out_end = tmp_df.iloc[0]['DT_ON_TS']\n",
    "expand_time = datetime.timedelta(days=2)\n",
    "\n",
    "tmp_df = tmp_df.set_index('valuesinterval_local', drop=False).sort_index()\n",
    "tmp_df.index.name='time_idx'\n",
    "tmp_df = tmp_df[out_beg-expand_time:out_end+expand_time]\n",
    "\n",
    "bin_size = '5min'\n",
    "bins = pd.date_range(start = tmp_df['valuesinterval_local'].min().floor(bin_size), \n",
    "                     end = tmp_df['valuesinterval_local'].max().ceil(bin_size), \n",
    "                     freq=bin_size)\n",
    "\n",
    "fig, (ax0, ax1, ax2) = plt.subplots(3, 1, num=fig_num, figsize=[11, 8.5])\n",
    "tmp_df.hist(ax=ax0, column='valuesinterval_local', bins=bins)\n",
    "ax0.axvline(x=out_beg, color='red')\n",
    "ax0.axvline(x=out_end, color='lawngreen')\n",
    "ax0.tick_params(axis='x', labelrotation=0, labelsize=7.0, direction='in')\n",
    "ax0.set_title('Full')\n",
    "\n",
    "\n",
    "tmp_df[tmp_df['valuesinterval_local'] < out_beg].hist(ax=ax1, column='valuesinterval_local', bins=bins)\n",
    "ax1.axvline(x=out_beg, color='red')\n",
    "ax1.tick_params(axis='x', labelrotation=0, labelsize=7.0, direction='in')\n",
    "ax1.set_title('Before Outage')\n",
    "\n",
    "\n",
    "tmp_df[tmp_df['valuesinterval_local'] >= out_end].hist(ax=ax2, column='valuesinterval_local', bins=bins)\n",
    "ax2.axvline(x=out_end, color='lawngreen')\n",
    "ax2.tick_params(axis='x', labelrotation=0, labelsize=7.0, direction='in')\n",
    "ax2.set_title('After Outage')\n",
    "\n",
    "\n",
    "plt.suptitle(f'outg_rec_nb: {outg_rec_nb}', fontsize=25, fontweight='bold')\n",
    "fig_num += 1"
   ]
  },
  {
   "cell_type": "code",
   "execution_count": null,
   "id": "f974df1a",
   "metadata": {},
   "outputs": [],
   "source": [
    "outg_rec_nb = df_end_dev_event_cpy['OUTG_REC_NB'].unique().tolist()[0]\n",
    "tmp_df = df_end_dev_event_cpy[df_end_dev_event_cpy['OUTG_REC_NB']==outg_rec_nb]\n",
    "\n",
    "assert(len(tmp_df['DT_OFF_TS_FULL'].unique())==1)\n",
    "assert(len(tmp_df['DT_ON_TS'].unique())==1)\n",
    "out_beg = tmp_df.iloc[0]['DT_OFF_TS_FULL']\n",
    "out_end = tmp_df.iloc[0]['DT_ON_TS']\n",
    "\n",
    "fig, (ax0, ax1, ax2) = plt.subplots(3, 1, num=fig_num, figsize=[11, 8.5])\n",
    "tmp_df.hist(ax=ax0, column='valuesinterval_local')\n",
    "ax0.axvline(x=out_beg, color='red')\n",
    "ax0.axvline(x=out_end, color='lawngreen')\n",
    "ax0.tick_params(axis='x', labelrotation=0, labelsize=7.0, direction='in')\n",
    "ax0.set_title('Full')\n",
    "\n",
    "\n",
    "tmp_df[tmp_df['valuesinterval_local'] < '2020-10-12 15:00:00'].hist(ax=ax1, column='valuesinterval_local')\n",
    "ax1.axvline(x=out_beg, color='red')\n",
    "ax1.tick_params(axis='x', labelrotation=0, labelsize=7.0, direction='in')\n",
    "ax1.set_title('Before Outage')\n",
    "\n",
    "\n",
    "tmp_df[tmp_df['valuesinterval_local'] >= '2020-10-12 15:00:00'].hist(ax=ax2, column='valuesinterval_local')\n",
    "ax2.axvline(x=out_end, color='lawngreen')\n",
    "ax2.tick_params(axis='x', labelrotation=0, labelsize=7.0, direction='in')\n",
    "ax2.set_title('After Outage')\n",
    "\n",
    "\n",
    "plt.suptitle(f'outg_rec_nb: {outg_rec_nb}', fontsize=25, fontweight='bold')\n",
    "fig_num += 1"
   ]
  },
  {
   "cell_type": "code",
   "execution_count": null,
   "id": "919ec157",
   "metadata": {},
   "outputs": [],
   "source": []
  },
  {
   "cell_type": "code",
   "execution_count": null,
   "id": "33fc9ffc",
   "metadata": {},
   "outputs": [],
   "source": [
    "outg_rec_nbs = df_end_dev_event_cpy['OUTG_REC_NB'].unique().tolist()\n",
    "for outg_rec_nb in outg_rec_nbs:\n",
    "    tmp_df = df_end_dev_event_cpy[df_end_dev_event_cpy['OUTG_REC_NB']==outg_rec_nb]\n",
    "    \n",
    "    assert(len(tmp_df['DT_OFF_TS_FULL'].unique())==1)\n",
    "    assert(len(tmp_df['DT_ON_TS'].unique())==1)\n",
    "    out_beg = tmp_df.iloc[0]['DT_OFF_TS_FULL']\n",
    "    out_end = tmp_df.iloc[0]['DT_ON_TS']\n",
    "    \n",
    "    bin_size = '5min'\n",
    "    bins = pd.date_range(start = tmp_df['valuesinterval_local'].min().floor(bin_size), \n",
    "                         end = tmp_df['valuesinterval_local'].max().ceil(bin_size), \n",
    "                         freq=bin_size)\n",
    "    \n",
    "    fig, (ax0, ax1, ax2) = plt.subplots(3, 1, num=fig_num, figsize=[11, 8.5])\n",
    "    tmp_df.hist(ax=ax0, column='valuesinterval_local', bins=bins)\n",
    "    ax0.axvline(x=out_beg, color='red')\n",
    "    ax0.axvline(x=out_end, color='lawngreen')\n",
    "    ax0.tick_params(axis='x', labelrotation=0, labelsize=7.0, direction='in')\n",
    "    ax0.set_title('Full')\n",
    "\n",
    "\n",
    "    tmp_df[(tmp_df['valuesinterval_local'] < tmp_df['DT_OFF_TS_FULL'] + 0.5*pd.to_timedelta(tmp_df['DT_ON_TS']-tmp_df['DT_OFF_TS_FULL'])) & \n",
    "           (tmp_df['valuesinterval_local'] >= tmp_df['DT_OFF_TS_FULL'] - tmp_df['search_time_window'])].hist(ax=ax1, column='valuesinterval_local', bins=bins)\n",
    "    ax1.axvline(x=out_beg, color='red')\n",
    "    ax1.tick_params(axis='x', labelrotation=0, labelsize=7.0, direction='in')\n",
    "    ax1.set_title('Before Outage')\n",
    "\n",
    "\n",
    "    tmp_df[(tmp_df['valuesinterval_local'] < tmp_df['DT_ON_TS'] + tmp_df['search_time_window']) & \n",
    "           (tmp_df['valuesinterval_local'] >= tmp_df['DT_ON_TS'] - 0.5*pd.to_timedelta(tmp_df['DT_ON_TS']-tmp_df['DT_OFF_TS_FULL']))].hist(ax=ax2, column='valuesinterval_local', bins=bins)\n",
    "    ax2.axvline(x=out_end, color='lawngreen')\n",
    "    ax2.tick_params(axis='x', labelrotation=0, labelsize=7.0, direction='in')\n",
    "    ax2.set_title('After Outage')\n",
    "\n",
    "\n",
    "    plt.suptitle(f'outg_rec_nb: {outg_rec_nb}', fontsize=25, fontweight='bold')\n",
    "    fig_num += 1\n"
   ]
  },
  {
   "cell_type": "code",
   "execution_count": null,
   "id": "d635179a",
   "metadata": {},
   "outputs": [],
   "source": []
  },
  {
   "cell_type": "code",
   "execution_count": null,
   "id": "f25cd6e2",
   "metadata": {},
   "outputs": [],
   "source": []
  },
  {
   "cell_type": "code",
   "execution_count": null,
   "id": "f82af99d",
   "metadata": {},
   "outputs": [],
   "source": []
  },
  {
   "cell_type": "code",
   "execution_count": null,
   "id": "ad839fa1",
   "metadata": {},
   "outputs": [],
   "source": []
  },
  {
   "cell_type": "code",
   "execution_count": null,
   "id": "8f0e4fc0",
   "metadata": {},
   "outputs": [],
   "source": []
  }
 ],
 "metadata": {
  "kernelspec": {
   "display_name": "Python 3 (ipykernel)",
   "language": "python",
   "name": "python3"
  },
  "language_info": {
   "codemirror_mode": {
    "name": "ipython",
    "version": 3
   },
   "file_extension": ".py",
   "mimetype": "text/x-python",
   "name": "python",
   "nbconvert_exporter": "python",
   "pygments_lexer": "ipython3",
   "version": "3.11.7"
  }
 },
 "nbformat": 4,
 "nbformat_minor": 5
}
