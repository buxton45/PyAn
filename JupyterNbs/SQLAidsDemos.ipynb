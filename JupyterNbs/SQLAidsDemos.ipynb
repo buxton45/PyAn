{
 "cells": [
  {
   "cell_type": "code",
   "execution_count": 1,
   "id": "443a5e46",
   "metadata": {},
   "outputs": [],
   "source": [
    "#------------------------\n",
    "# TODO address all TODOs in dovs_and_summary_usage_helper_functions.ipynb\n",
    "%run dovs_and_summary_usage_helper_functions.ipynb"
   ]
  },
  {
   "cell_type": "code",
   "execution_count": 2,
   "id": "c4f56df6",
   "metadata": {},
   "outputs": [],
   "source": [
    "from importlib import reload\n",
    "#reload(Utilities)\n",
    "#reload(clm)\n",
    "\n",
    "import sys, os\n",
    "import re\n",
    "\n",
    "import pandas as pd\n",
    "import numpy as np\n",
    "from pandas.api.types import is_numeric_dtype\n",
    "from scipy import stats\n",
    "import datetime\n",
    "import time\n",
    "from natsort import natsorted, ns\n",
    "from packaging import version\n",
    "\n",
    "import itertools\n",
    "import copy\n",
    "import pyodbc\n",
    "#---------------------------------------------------------------------\n",
    "sys.path.insert(0, os.path.realpath('..'))\n",
    "import Utilities_config\n",
    "#-----\n",
    "import CommonLearningMethods as clm\n",
    "#-----\n",
    "from MeterPremise import MeterPremise\n",
    "#-----\n",
    "from AMI_SQL import AMI_SQL\n",
    "from AMINonVee_SQL import AMINonVee_SQL\n",
    "from DOVSOutages_SQL import DOVSOutages_SQL\n",
    "#-----\n",
    "from GenAn import GenAn\n",
    "from AMINonVee import AMINonVee\n",
    "from DOVSOutages import DOVSOutages\n",
    "#---------------------------------------------------------------------\n",
    "import matplotlib as mpl\n",
    "import matplotlib.pyplot as plt\n",
    "import seaborn as sns\n",
    "from matplotlib.backends.backend_pdf import PdfPages\n",
    "import matplotlib.patches as mpatches\n",
    "from matplotlib.lines import Line2D\n",
    "import matplotlib.ticker as ticker\n",
    "from matplotlib import dates\n",
    "import matplotlib.colors as mcolors\n",
    "import matplotlib.cm as cm #e.g. for cmap=cm.jet\n",
    "#---------------------------------------------------------------------\n",
    "sys.path.insert(0, Utilities_config.get_sql_aids_dir())\n",
    "import Utilities_sql\n",
    "from SQLElement import SQLElement\n",
    "from SQLElementsCollection import SQLElementsCollection\n",
    "from SQLSelect import SQLSelectElement, SQLSelect\n",
    "from SQLFrom import SQLFrom\n",
    "from SQLWhere import SQLWhereElement, SQLWhere\n",
    "from SQLJoin import SQLJoin, SQLJoinCollection\n",
    "from SQLGroupBy import SQLGroupByElement, SQLGroupBy\n",
    "from SQLHaving import SQLHaving\n",
    "from SQLOrderBy import SQLOrderByElement, SQLOrderBy\n",
    "from SQLQuery import SQLQuery\n",
    "from SQLQueryGeneric import SQLQueryGeneric\n",
    "#---------------------------------------------------------------------\n",
    "sys.path.insert(0, Utilities_config.get_utilities_dir())\n",
    "import Utilities\n",
    "import Utilities_df\n",
    "from Utilities_df import DFConstructType\n",
    "import Utilities_dt\n",
    "import Plot_Box_sns\n",
    "import GrubbsTest"
   ]
  },
  {
   "cell_type": "markdown",
   "id": "537826e9",
   "metadata": {},
   "source": [
    "# -------------------------------------------------------------------------------------------\n",
    "# -------------------------------------------------------------------------------------------"
   ]
  },
  {
   "cell_type": "markdown",
   "id": "220e6a57",
   "metadata": {},
   "source": [
    "# Example 1"
   ]
  },
  {
   "cell_type": "markdown",
   "id": "64b52f36",
   "metadata": {},
   "source": [
    "### Select: Super simple"
   ]
  },
  {
   "cell_type": "code",
   "execution_count": 3,
   "id": "4ea86d33",
   "metadata": {},
   "outputs": [
    {
     "name": "stdout",
     "output_type": "stream",
     "text": [
      "SELECT\n",
      "\tCI_NB,\n",
      "\tCMI_NB,\n",
      "\tOUTG_REC_NB,\n",
      "\tOUTAGE_NB,\n",
      "\tDT_ON_TS,\n",
      "\tDT_OFF_TS\n"
     ]
    }
   ],
   "source": [
    "cols_of_interest = ['CI_NB', 'CMI_NB', 'OUTG_REC_NB', 'OUTAGE_NB', 'DT_ON_TS', 'DT_OFF_TS']\n",
    "sql_select = SQLSelect(cols_of_interest)\n",
    "sql_select.print()"
   ]
  },
  {
   "cell_type": "code",
   "execution_count": null,
   "id": "fbf51d22",
   "metadata": {},
   "outputs": [],
   "source": []
  },
  {
   "cell_type": "markdown",
   "id": "a99421ef",
   "metadata": {},
   "source": [
    "### Select: Slightly more involved"
   ]
  },
  {
   "cell_type": "code",
   "execution_count": 4,
   "id": "31fe2a93",
   "metadata": {},
   "outputs": [],
   "source": [
    "# ****************************************************************\n",
    "# SELECT STATEMENT\n",
    "sql_select = SQLSelect(field_descs=['CI_NB', 'CMI_NB', 'OUTG_REC_NB', 'OUTAGE_NB', 'DT_ON_TS', 'DT_OFF_TS', \n",
    "                                      dict(field_desc='DOV.DT_ON_TS - DOV.STEP_DRTN_NB/(60*24)', alias='DT_OFF_TS_FULL', table_alias_prefix=None), \n",
    "                                      'STEP_DRTN_NB', \n",
    "                                      dict(field_desc='EXTRACT(YEAR FROM DOV.DT_OFF_TS)', alias='START_YEAR', table_alias_prefix=None), \n",
    "                                      'OPERATING_UNIT_ID', 'STATE_ABBR_TX', 'MJR_CAUSE_CD', 'MNR_CAUSE_CD', 'LOCATION_ID', 'GIS_CRCT_NB'], \n",
    "                         global_table_alias_prefix='DOV', idxs=None, run_check=True)\n",
    "\n",
    "sql_select.add_select_element(field_desc='OPRTG_UNT_NM', alias=None, \n",
    "                                table_alias_prefix='DOV1', idx=None, run_check=True)\n",
    "sql_select.add_select_elements(field_descs=['MJR_CAUSE_NM', 'MNR_CAUSE_NM'], \n",
    "                                 global_table_alias_prefix='DOV5', idxs=None, run_check=True)\n",
    "sql_select.add_select_elements(field_descs=['OFF_TM', 'REST_TM', 'PREMISE_NB'],\n",
    "                                 global_table_alias_prefix='PRIM', idxs=None, run_check=True)"
   ]
  },
  {
   "cell_type": "code",
   "execution_count": 5,
   "id": "ae01edec",
   "metadata": {},
   "outputs": [
    {
     "name": "stdout",
     "output_type": "stream",
     "text": [
      "SELECT\n",
      "\tDOV.CI_NB,\n",
      "\tDOV.CMI_NB,\n",
      "\tDOV.OUTG_REC_NB,\n",
      "\tDOV.OUTAGE_NB,\n",
      "\tDOV.DT_ON_TS,\n",
      "\tDOV.DT_OFF_TS,\n",
      "\tDOV.DT_ON_TS - DOV.STEP_DRTN_NB/(60*24) AS DT_OFF_TS_FULL,\n",
      "\tDOV.STEP_DRTN_NB,\n",
      "\tEXTRACT(YEAR FROM DOV.DT_OFF_TS) AS START_YEAR,\n",
      "\tDOV.OPERATING_UNIT_ID,\n",
      "\tDOV.STATE_ABBR_TX,\n",
      "\tDOV.MJR_CAUSE_CD,\n",
      "\tDOV.MNR_CAUSE_CD,\n",
      "\tDOV.LOCATION_ID,\n",
      "\tDOV.GIS_CRCT_NB,\n",
      "\tDOV1.OPRTG_UNT_NM,\n",
      "\tDOV5.MJR_CAUSE_NM,\n",
      "\tDOV5.MNR_CAUSE_NM,\n",
      "\tPRIM.OFF_TM,\n",
      "\tPRIM.REST_TM,\n",
      "\tPRIM.PREMISE_NB\n"
     ]
    }
   ],
   "source": [
    "sql_select.print()"
   ]
  },
  {
   "cell_type": "code",
   "execution_count": 6,
   "id": "f6812b96",
   "metadata": {},
   "outputs": [
    {
     "name": "stdout",
     "output_type": "stream",
     "text": [
      "SELECT\n",
      "\tDOV.CI_NB,\n",
      "\tDOV.CMI_NB,\n",
      "\tDOV.OUTG_REC_NB,\n",
      "\tDOV.OUTAGE_NB,\n",
      "\tDOV.DT_ON_TS,\n",
      "\tDOV.DT_OFF_TS,\n",
      "\tDOV.DT_ON_TS - DOV.STEP_DRTN_NB/(60*24),\n",
      "\tDOV.STEP_DRTN_NB,\n",
      "\tEXTRACT(YEAR FROM DOV.DT_OFF_TS),\n",
      "\tDOV.OPERATING_UNIT_ID,\n",
      "\tDOV.STATE_ABBR_TX,\n",
      "\tDOV.MJR_CAUSE_CD,\n",
      "\tDOV.MNR_CAUSE_CD,\n",
      "\tDOV.LOCATION_ID,\n",
      "\tDOV.GIS_CRCT_NB,\n",
      "\tDOV1.OPRTG_UNT_NM,\n",
      "\tDOV5.MJR_CAUSE_NM,\n",
      "\tDOV5.MNR_CAUSE_NM,\n",
      "\tPRIM.OFF_TM,\n",
      "\tPRIM.REST_TM,\n",
      "\tPRIM.PREMISE_NB\n"
     ]
    }
   ],
   "source": [
    "sql_select.print(include_alias=False)"
   ]
  },
  {
   "cell_type": "code",
   "execution_count": 7,
   "id": "a979f984",
   "metadata": {},
   "outputs": [
    {
     "name": "stdout",
     "output_type": "stream",
     "text": [
      "SELECT\n",
      "\tCI_NB,\n",
      "\tCMI_NB,\n",
      "\tOUTG_REC_NB,\n",
      "\tOUTAGE_NB,\n",
      "\tDT_ON_TS,\n",
      "\tDT_OFF_TS,\n",
      "\tDOV.DT_ON_TS - DOV.STEP_DRTN_NB/(60*24),\n",
      "\tSTEP_DRTN_NB,\n",
      "\tEXTRACT(YEAR FROM DOV.DT_OFF_TS),\n",
      "\tOPERATING_UNIT_ID,\n",
      "\tSTATE_ABBR_TX,\n",
      "\tMJR_CAUSE_CD,\n",
      "\tMNR_CAUSE_CD,\n",
      "\tLOCATION_ID,\n",
      "\tGIS_CRCT_NB,\n",
      "\tOPRTG_UNT_NM,\n",
      "\tMJR_CAUSE_NM,\n",
      "\tMNR_CAUSE_NM,\n",
      "\tOFF_TM,\n",
      "\tREST_TM,\n",
      "\tPREMISE_NB\n"
     ]
    }
   ],
   "source": [
    "sql_select.print(include_alias=False, include_table_alias_prefix=False)"
   ]
  },
  {
   "cell_type": "code",
   "execution_count": null,
   "id": "b5f70762",
   "metadata": {},
   "outputs": [],
   "source": []
  },
  {
   "cell_type": "markdown",
   "id": "a6323f54",
   "metadata": {},
   "source": [
    "# From and Join"
   ]
  },
  {
   "cell_type": "code",
   "execution_count": 8,
   "id": "3ca3bfa5",
   "metadata": {},
   "outputs": [
    {
     "name": "stdout",
     "output_type": "stream",
     "text": [
      "FROM DOVSADM.DOVS_OUTAGE_FACT DOV\n"
     ]
    }
   ],
   "source": [
    "# ****************************************************************\n",
    "# FROM AND JOIN STATEMENTS\n",
    "sql_from = SQLFrom(schema_name='DOVSADM', table_name='DOVS_OUTAGE_FACT', alias='DOV')\n",
    "sql_from.print()"
   ]
  },
  {
   "cell_type": "code",
   "execution_count": 9,
   "id": "6c31d978",
   "metadata": {},
   "outputs": [
    {
     "name": "stdout",
     "output_type": "stream",
     "text": [
      "FROM DOVSADM.DOVS_OUTAGE_FACT DOV\n",
      "\tLEFT OUTER JOIN DOVSADM.DOVS_MASTER_GEO_DIM DOV1 ON DOV.OPERATING_UNIT_ID=DOV1.OPRTG_UNT_ID AND DOV.STATE_ABBR_TX=DOV1.STATE_ID AND DOV.OPCO_NBR=DOV1.OPCO_ID AND DOV.DISTRICT_NB=DOV1.DISTRICT_ID AND DOV.SRVC_CNTR_NB=DOV1.AREA_ID AND DOV.GIS_CRCT_NB=DOV1.GIS_CIRCUIT_ID\n"
     ]
    }
   ],
   "source": [
    "join_type = 'LEFT OUTER'\n",
    "join_table = 'DOVSADM.DOVS_MASTER_GEO_DIM'\n",
    "join_table_alias = 'DOV1'\n",
    "orig_table_alias = 'DOV'\n",
    "list_of_columns_to_join = [\n",
    "    ['OPERATING_UNIT_ID', 'OPRTG_UNT_ID'], \n",
    "    ['STATE_ABBR_TX', 'STATE_ID'], \n",
    "    ['OPCO_NBR', 'OPCO_ID'], \n",
    "    ['DISTRICT_NB', 'DISTRICT_ID'], \n",
    "    ['SRVC_CNTR_NB', 'AREA_ID'], \n",
    "    ['GIS_CRCT_NB', 'GIS_CIRCUIT_ID']\n",
    "]\n",
    "sql_join = SQLJoin(join_type=join_type, join_table=join_table, \n",
    "                   join_table_alias=join_table_alias, orig_table_alias=orig_table_alias, \n",
    "                   list_of_columns_to_join=list_of_columns_to_join)\n",
    "sql_from.add_join_to_coll(sql_join, idx=None, run_check=True)\n",
    "sql_from.print()"
   ]
  },
  {
   "cell_type": "code",
   "execution_count": 10,
   "id": "14003a24",
   "metadata": {},
   "outputs": [
    {
     "name": "stdout",
     "output_type": "stream",
     "text": [
      "FROM DOVSADM.DOVS_OUTAGE_FACT DOV\n",
      "\tLEFT OUTER JOIN DOVSADM.DOVS_MASTER_GEO_DIM DOV1 ON DOV.OPERATING_UNIT_ID=DOV1.OPRTG_UNT_ID AND DOV.STATE_ABBR_TX=DOV1.STATE_ID AND DOV.OPCO_NBR=DOV1.OPCO_ID AND DOV.DISTRICT_NB=DOV1.DISTRICT_ID AND DOV.SRVC_CNTR_NB=DOV1.AREA_ID AND DOV.GIS_CRCT_NB=DOV1.GIS_CIRCUIT_ID\n",
      "\tLEFT OUTER JOIN DOVSADM.DOVS_OUTAGE_ATTRIBUTES_DIM DOV2 ON DOV.OUTG_REC_NB=DOV2.OUTG_REC_NB\n"
     ]
    }
   ],
   "source": [
    "sql_from.build_and_add_join_to_coll(join_type = 'LEFT OUTER', \n",
    "                                    join_table = 'DOVSADM.DOVS_OUTAGE_ATTRIBUTES_DIM', \n",
    "                                    join_table_alias = 'DOV2', \n",
    "                                    orig_table_alias = 'DOV', \n",
    "                                    list_of_columns_to_join = ['OUTG_REC_NB'], \n",
    "                                    idx=None, run_check=True)\n",
    "sql_from.print()"
   ]
  },
  {
   "cell_type": "code",
   "execution_count": 11,
   "id": "07986935",
   "metadata": {},
   "outputs": [
    {
     "name": "stdout",
     "output_type": "stream",
     "text": [
      "FROM DOVSADM.DOVS_OUTAGE_FACT DOV\n",
      "\tLEFT OUTER JOIN DOVSADM.DOVS_MASTER_GEO_DIM DOV1 ON DOV.OPERATING_UNIT_ID=DOV1.OPRTG_UNT_ID AND DOV.STATE_ABBR_TX=DOV1.STATE_ID AND DOV.OPCO_NBR=DOV1.OPCO_ID AND DOV.DISTRICT_NB=DOV1.DISTRICT_ID AND DOV.SRVC_CNTR_NB=DOV1.AREA_ID AND DOV.GIS_CRCT_NB=DOV1.GIS_CIRCUIT_ID\n",
      "\tLEFT OUTER JOIN DOVSADM.DOVS_OUTAGE_ATTRIBUTES_DIM DOV2 ON DOV.OUTG_REC_NB=DOV2.OUTG_REC_NB\n",
      "\tLEFT OUTER JOIN DOVSADM.DOVS_OUTAGE_CAUSE_TYPES_DIM DOV5 ON DOV.MJR_CAUSE_CD=DOV5.MJR_CAUSE_CD AND DOV.MNR_CAUSE_CD=DOV5.MNR_CAUSE_CD\n",
      "\tLEFT OUTER JOIN DOVSADM.DOVS_PREMISE_DIM PRIM ON DOV.OUTG_REC_NB=PRIM.OUTG_REC_NB\n"
     ]
    }
   ],
   "source": [
    "sql_from = DOVSOutages_SQL.add_std_join_DOVS_OUTAGE_FACT_w_DOVS_OUTAGE_CAUSE_TYPES_DIM(add_to_me=sql_from, alias_DOVS_OUTAGE_FACT='DOV', alias_DOVS_OUTAGE_CAUSE_TYPES_DIM='DOV5')\n",
    "sql_from = DOVSOutages_SQL.add_std_join_DOVS_OUTAGE_FACT_w_DOVS_PREMISE_DIM(add_to_me=sql_from, alias_DOVS_OUTAGE_FACT='DOV', alias_DOVS_PREMISE_DIM='PRIM')\n",
    "sql_from.print()"
   ]
  },
  {
   "cell_type": "markdown",
   "id": "1eb8ecbc",
   "metadata": {},
   "source": [
    "# Where"
   ]
  },
  {
   "cell_type": "code",
   "execution_count": 12,
   "id": "a7cdda2c",
   "metadata": {},
   "outputs": [],
   "source": [
    "premise_nbs = [1234, 2345, 3456, 4567, 5678]"
   ]
  },
  {
   "cell_type": "code",
   "execution_count": 13,
   "id": "802e5cf8",
   "metadata": {},
   "outputs": [
    {
     "name": "stdout",
     "output_type": "stream",
     "text": [
      "WHERE PRIM.PREMISE_NB = '{}'\n",
      "AND   DOV2.INTRPTN_TYP_CD = 'S'\n",
      "AND   DOV2.CURR_REC_STAT_CD = 'A'\n",
      "AND   DOV.MJR_CAUSE_CD <> 'NI'\n",
      "AND   DOV.DEVICE_CD <> 85\n",
      "AND   DOV.STATE_ABBR_TX = 'OH'\n"
     ]
    }
   ],
   "source": [
    "sql_where = SQLWhere([dict(field_desc='PREMISE_NB', table_alias_prefix='PRIM', comparison_operator='=', value='{}', needs_quotes=True), \n",
    "                      dict(field_desc='INTRPTN_TYP_CD', table_alias_prefix='DOV2', comparison_operator='=', value='S', needs_quotes=True), \n",
    "                      dict(field_desc='CURR_REC_STAT_CD', table_alias_prefix='DOV2', comparison_operator='=', value='A', needs_quotes=True), \n",
    "                      dict(field_desc='MJR_CAUSE_CD', table_alias_prefix='DOV', comparison_operator='<>', value='NI', needs_quotes=True), \n",
    "                      dict(field_desc='DEVICE_CD', table_alias_prefix='DOV', comparison_operator='<>', value=85, needs_quotes=False), \n",
    "                      dict(field_desc='STATE_ABBR_TX', table_alias_prefix='DOV', comparison_operator='=', value='OH', needs_quotes=True)], \n",
    "                     idxs=None, run_check=True)\n",
    "sql_where.print()"
   ]
  },
  {
   "cell_type": "code",
   "execution_count": null,
   "id": "9c76b2ba",
   "metadata": {},
   "outputs": [],
   "source": []
  },
  {
   "cell_type": "code",
   "execution_count": 14,
   "id": "1ffb9f3a",
   "metadata": {},
   "outputs": [
    {
     "name": "stdout",
     "output_type": "stream",
     "text": [
      "WHERE PRIM.PREMISE_NB = ('1234','2345','3456','4567','5678')\n",
      "AND   DOV2.INTRPTN_TYP_CD = 'S'\n",
      "AND   DOV2.CURR_REC_STAT_CD = 'A'\n",
      "AND   DOV.MJR_CAUSE_CD <> 'NI'\n",
      "AND   DOV.DEVICE_CD <> 85\n",
      "AND   DOV.STATE_ABBR_TX = 'OH'\n"
     ]
    }
   ],
   "source": [
    "sql_where = SQLWhere([dict(field_desc='PREMISE_NB', table_alias_prefix='PRIM', comparison_operator='=', \n",
    "                           value=f'({Utilities_sql.join_list_w_quotes(premise_nbs)})', needs_quotes=False), \n",
    "                      dict(field_desc='INTRPTN_TYP_CD', table_alias_prefix='DOV2', comparison_operator='=', value='S', needs_quotes=True), \n",
    "                      dict(field_desc='CURR_REC_STAT_CD', table_alias_prefix='DOV2', comparison_operator='=', value='A', needs_quotes=True), \n",
    "                      dict(field_desc='MJR_CAUSE_CD', table_alias_prefix='DOV', comparison_operator='<>', value='NI', needs_quotes=True), \n",
    "                      dict(field_desc='DEVICE_CD', table_alias_prefix='DOV', comparison_operator='<>', value=85, needs_quotes=False), \n",
    "                      dict(field_desc='STATE_ABBR_TX', table_alias_prefix='DOV', comparison_operator='=', value='OH', needs_quotes=True)], \n",
    "                     idxs=None, run_check=True)\n",
    "sql_where.print()"
   ]
  },
  {
   "cell_type": "code",
   "execution_count": null,
   "id": "795a5c39",
   "metadata": {},
   "outputs": [],
   "source": []
  },
  {
   "cell_type": "code",
   "execution_count": null,
   "id": "f2a3f6b9",
   "metadata": {},
   "outputs": [],
   "source": []
  },
  {
   "cell_type": "markdown",
   "id": "a1a8e19f",
   "metadata": {},
   "source": [
    "# SQLQuery"
   ]
  },
  {
   "cell_type": "code",
   "execution_count": 15,
   "id": "e5107b28",
   "metadata": {},
   "outputs": [
    {
     "name": "stdout",
     "output_type": "stream",
     "text": [
      "SELECT\n",
      "\tDOV.CI_NB,\n",
      "\tDOV.CMI_NB,\n",
      "\tDOV.OUTG_REC_NB,\n",
      "\tDOV.OUTAGE_NB,\n",
      "\tDOV.DT_ON_TS,\n",
      "\tDOV.DT_OFF_TS,\n",
      "\tDOV.DT_ON_TS - DOV.STEP_DRTN_NB/(60*24) AS DT_OFF_TS_FULL,\n",
      "\tDOV.STEP_DRTN_NB,\n",
      "\tEXTRACT(YEAR FROM DOV.DT_OFF_TS) AS START_YEAR,\n",
      "\tDOV.OPERATING_UNIT_ID,\n",
      "\tDOV.STATE_ABBR_TX,\n",
      "\tDOV.MJR_CAUSE_CD,\n",
      "\tDOV.MNR_CAUSE_CD,\n",
      "\tDOV.LOCATION_ID,\n",
      "\tDOV.GIS_CRCT_NB,\n",
      "\tDOV1.OPRTG_UNT_NM,\n",
      "\tDOV5.MJR_CAUSE_NM,\n",
      "\tDOV5.MNR_CAUSE_NM,\n",
      "\tPRIM.OFF_TM,\n",
      "\tPRIM.REST_TM,\n",
      "\tPRIM.PREMISE_NB\n",
      "FROM DOVSADM.DOVS_OUTAGE_FACT DOV\n",
      "\tLEFT OUTER JOIN DOVSADM.DOVS_MASTER_GEO_DIM DOV1 ON DOV.OPERATING_UNIT_ID=DOV1.OPRTG_UNT_ID AND DOV.STATE_ABBR_TX=DOV1.STATE_ID AND DOV.OPCO_NBR=DOV1.OPCO_ID AND DOV.DISTRICT_NB=DOV1.DISTRICT_ID AND DOV.SRVC_CNTR_NB=DOV1.AREA_ID AND DOV.GIS_CRCT_NB=DOV1.GIS_CIRCUIT_ID\n",
      "\tLEFT OUTER JOIN DOVSADM.DOVS_OUTAGE_ATTRIBUTES_DIM DOV2 ON DOV.OUTG_REC_NB=DOV2.OUTG_REC_NB\n",
      "\tLEFT OUTER JOIN DOVSADM.DOVS_OUTAGE_CAUSE_TYPES_DIM DOV5 ON DOV.MJR_CAUSE_CD=DOV5.MJR_CAUSE_CD AND DOV.MNR_CAUSE_CD=DOV5.MNR_CAUSE_CD\n",
      "\tLEFT OUTER JOIN DOVSADM.DOVS_PREMISE_DIM PRIM ON DOV.OUTG_REC_NB=PRIM.OUTG_REC_NB\n",
      "WHERE PRIM.PREMISE_NB = ('1234','2345','3456','4567','5678')\n",
      "AND   DOV2.INTRPTN_TYP_CD = 'S'\n",
      "AND   DOV2.CURR_REC_STAT_CD = 'A'\n",
      "AND   DOV.MJR_CAUSE_CD <> 'NI'\n",
      "AND   DOV.DEVICE_CD <> 85\n",
      "AND   DOV.STATE_ABBR_TX = 'OH'\n"
     ]
    }
   ],
   "source": [
    "sql_query = SQLQuery(sql_select=sql_select, \n",
    "                     sql_from=sql_from, \n",
    "                     sql_where=sql_where)\n",
    "sql_query.print()"
   ]
  },
  {
   "cell_type": "code",
   "execution_count": null,
   "id": "0121dfbc",
   "metadata": {},
   "outputs": [],
   "source": []
  },
  {
   "cell_type": "markdown",
   "id": "ce94a11d",
   "metadata": {},
   "source": [
    "# -------------------------------------------------------------------------------------------\n",
    "# -------------------------------------------------------------------------------------------"
   ]
  },
  {
   "cell_type": "markdown",
   "id": "6ffc6912",
   "metadata": {},
   "source": [
    "# Example 2: With GroupBy and aggregate metrics"
   ]
  },
  {
   "cell_type": "code",
   "execution_count": 16,
   "id": "825b04c6",
   "metadata": {},
   "outputs": [],
   "source": [
    "cols_of_interest_usage_agg = ['starttimeperiod', 'endtimeperiod', 'aep_endtime_utc', 'timezoneoffset', \n",
    "                              'aep_derived_uom', 'aep_srvc_qlty_idntfr', 'value', 'aep_usage_dt']\n",
    "\n",
    "serial_numbers = [884390632, 880682782, 880320285, 880076534, 880320207, 889926007, 884390655, 880076535]\n",
    "date_range = ['2021-01-01', '2021-01-02']\n",
    "agg_cols_and_types = {'value':['sum', 'sq_sum', 'mean', 'std', 'count']}\n",
    "groupby_cols = ['starttimeperiod', 'endtimeperiod', 'aep_endtime_utc', 'timezoneoffset', \n",
    "                'aep_derived_uom', 'aep_srvc_qlty_idntfr', 'aep_usage_dt']"
   ]
  },
  {
   "cell_type": "code",
   "execution_count": 17,
   "id": "b9a4492a",
   "metadata": {},
   "outputs": [
    {
     "name": "stdout",
     "output_type": "stream",
     "text": [
      "SELECT\n",
      "\tstarttimeperiod,\n",
      "\tendtimeperiod,\n",
      "\taep_endtime_utc,\n",
      "\ttimezoneoffset,\n",
      "\taep_derived_uom,\n",
      "\taep_srvc_qlty_idntfr,\n",
      "\tvalue,\n",
      "\taep_usage_dt\n"
     ]
    }
   ],
   "source": [
    "sql_select = SQLSelect(cols_of_interest_usage_agg)\n",
    "sql_select.print()"
   ]
  },
  {
   "cell_type": "code",
   "execution_count": 18,
   "id": "2a8b66aa",
   "metadata": {},
   "outputs": [
    {
     "name": "stdout",
     "output_type": "stream",
     "text": [
      "FROM usage_nonvee.reading_ivl_nonvee\n"
     ]
    }
   ],
   "source": [
    "sql_from = SQLFrom(schema_name='usage_nonvee', table_name='reading_ivl_nonvee', alias=None)\n",
    "sql_from.print()"
   ]
  },
  {
   "cell_type": "code",
   "execution_count": 19,
   "id": "fdf24b91",
   "metadata": {},
   "outputs": [
    {
     "name": "stdout",
     "output_type": "stream",
     "text": [
      "WHERE aep_opco = 'oh'\n",
      "AND   aep_usage_dt BETWEEN '2021-01-01' AND '2021-01-02'\n",
      "AND   serialnumber IN ('884390632','880682782','880320285','880076534','880320207','889926007','884390655','880076535')\n"
     ]
    }
   ],
   "source": [
    "sql_where = SQLWhere([dict(field_desc='aep_opco', comparison_operator='=', value='oh', needs_quotes=True), \n",
    "                      dict(field_desc='aep_usage_dt', comparison_operator='BETWEEN', \n",
    "                           value=[f'{date_range[0]}', f'{date_range[1]}'], needs_quotes=True), \n",
    "                      dict(field_desc='serialnumber', comparison_operator='IN', \n",
    "                           value=f'({Utilities_sql.join_list_w_quotes(serial_numbers)})', needs_quotes=False)], \n",
    "                     idxs=None, run_check=True)\n",
    "sql_where.print()"
   ]
  },
  {
   "cell_type": "code",
   "execution_count": 20,
   "id": "7075a4c1",
   "metadata": {},
   "outputs": [
    {
     "name": "stdout",
     "output_type": "stream",
     "text": [
      "SELECT\n",
      "\tstarttimeperiod,\n",
      "\tendtimeperiod,\n",
      "\taep_endtime_utc,\n",
      "\ttimezoneoffset,\n",
      "\taep_derived_uom,\n",
      "\taep_srvc_qlty_idntfr,\n",
      "\tvalue,\n",
      "\taep_usage_dt\n"
     ]
    }
   ],
   "source": [
    "sql_select.print()"
   ]
  },
  {
   "cell_type": "code",
   "execution_count": 21,
   "id": "bd70cae6",
   "metadata": {},
   "outputs": [
    {
     "name": "stdout",
     "output_type": "stream",
     "text": [
      "SELECT\n",
      "\tstarttimeperiod,\n",
      "\tendtimeperiod,\n",
      "\taep_endtime_utc,\n",
      "\ttimezoneoffset,\n",
      "\taep_derived_uom,\n",
      "\taep_srvc_qlty_idntfr,\n",
      "\taep_usage_dt,\n",
      "\tSUM(value) AS sum_value,\n",
      "\tSUM(POWER(value, 2)) AS sq_sum_value,\n",
      "\tAVG(value) AS mean_value,\n",
      "\tSTDDEV_SAMP(value) AS std_value,\n",
      "\tCOUNT(value) AS count_value,\n",
      "\tCOUNT(*) AS counts_including_null\n"
     ]
    }
   ],
   "source": [
    "sql_select.add_aggregate_elements(agg_cols_and_types=agg_cols_and_types, \n",
    "                                  include_counts_including_null=True)\n",
    "sql_select.print()"
   ]
  },
  {
   "cell_type": "markdown",
   "id": "015eb13a",
   "metadata": {},
   "source": [
    "### Note: add_aggregate_elements removed the 'normal' value field"
   ]
  },
  {
   "cell_type": "code",
   "execution_count": 22,
   "id": "6fc54755",
   "metadata": {},
   "outputs": [
    {
     "name": "stdout",
     "output_type": "stream",
     "text": [
      "GROUP BY\n",
      "\tstarttimeperiod,\n",
      "\tendtimeperiod,\n",
      "\taep_endtime_utc,\n",
      "\ttimezoneoffset,\n",
      "\taep_derived_uom,\n",
      "\taep_srvc_qlty_idntfr,\n",
      "\taep_usage_dt\n"
     ]
    }
   ],
   "source": [
    "sql_groupby = SQLGroupBy(field_descs=groupby_cols, \n",
    "                         global_table_alias_prefix=None, \n",
    "                         idxs=None, run_check=True)\n",
    "sql_groupby.print()"
   ]
  },
  {
   "cell_type": "code",
   "execution_count": 23,
   "id": "b3e11fd1",
   "metadata": {},
   "outputs": [
    {
     "name": "stdout",
     "output_type": "stream",
     "text": [
      "SELECT\n",
      "\tstarttimeperiod,\n",
      "\tendtimeperiod,\n",
      "\taep_endtime_utc,\n",
      "\ttimezoneoffset,\n",
      "\taep_derived_uom,\n",
      "\taep_srvc_qlty_idntfr,\n",
      "\taep_usage_dt,\n",
      "\tSUM(value) AS sum_value,\n",
      "\tSUM(POWER(value, 2)) AS sq_sum_value,\n",
      "\tAVG(value) AS mean_value,\n",
      "\tSTDDEV_SAMP(value) AS std_value,\n",
      "\tCOUNT(value) AS count_value,\n",
      "\tCOUNT(*) AS counts_including_null\n",
      "FROM usage_nonvee.reading_ivl_nonvee\n",
      "WHERE aep_opco = 'oh'\n",
      "AND   aep_usage_dt BETWEEN '2021-01-01' AND '2021-01-02'\n",
      "AND   serialnumber IN ('884390632','880682782','880320285','880076534','880320207','889926007','884390655','880076535')\n",
      "GROUP BY\n",
      "\tstarttimeperiod,\n",
      "\tendtimeperiod,\n",
      "\taep_endtime_utc,\n",
      "\ttimezoneoffset,\n",
      "\taep_derived_uom,\n",
      "\taep_srvc_qlty_idntfr,\n",
      "\taep_usage_dt\n"
     ]
    }
   ],
   "source": [
    "sql_query = SQLQuery(sql_select = sql_select, \n",
    "                     sql_from = sql_from, \n",
    "                     sql_where = sql_where, \n",
    "                     sql_groupby = sql_groupby\n",
    "                    )\n",
    "sql_query.print()"
   ]
  },
  {
   "cell_type": "code",
   "execution_count": null,
   "id": "8120cfc0",
   "metadata": {},
   "outputs": [],
   "source": []
  },
  {
   "cell_type": "markdown",
   "id": "a13ecf2f",
   "metadata": {},
   "source": [
    "# -------------------------------------------------------------------------------------------\n",
    "# -------------------------------------------------------------------------------------------"
   ]
  },
  {
   "cell_type": "markdown",
   "id": "c8e6da00",
   "metadata": {},
   "source": [
    "# At this point, you're probably thinking...\n",
    "'Cool, but this doesn't seem any easier than simply writing out the SQL statement by hand.\"\n",
    "<br> You're exactly right!  In fact, at this level of implementation, this is possibly more difficult than writing out by hand.\n",
    "<br> HOWEVER, the point is that this can be used as a base from which to build more powerful tools!\n",
    "- these simple building blocks can construct complex structures"
   ]
  },
  {
   "cell_type": "markdown",
   "id": "4d61ba87",
   "metadata": {},
   "source": [
    "# -------------------------------------------------------------------------------------------\n",
    "# -------------------------------------------------------------------------------------------"
   ]
  },
  {
   "cell_type": "markdown",
   "id": "823c6a1d",
   "metadata": {},
   "source": [
    "# Example 3: Using AMINonVee_SQL.build_sql_usg"
   ]
  },
  {
   "cell_type": "code",
   "execution_count": 24,
   "id": "c1a809d6",
   "metadata": {},
   "outputs": [],
   "source": [
    "cols_of_interest_usage_agg = ['starttimeperiod', 'endtimeperiod', 'aep_endtime_utc', 'timezoneoffset', \n",
    "                              'aep_derived_uom', 'aep_srvc_qlty_idntfr', 'value', 'aep_usage_dt']\n",
    "\n",
    "serial_numbers = [884390632, 880682782, 880320285, 880076534, 880320207, 889926007, 884390655, 880076535]\n",
    "date_range = ['2021-01-01', '2021-01-02']\n",
    "agg_cols_and_types = {'value':['sum', 'sq_sum', 'mean', 'std', 'count']}\n",
    "groupby_cols = ['starttimeperiod', 'endtimeperiod', 'aep_endtime_utc', 'timezoneoffset', \n",
    "                'aep_derived_uom', 'aep_srvc_qlty_idntfr', 'aep_usage_dt']"
   ]
  },
  {
   "cell_type": "code",
   "execution_count": 25,
   "id": "bb13ac26",
   "metadata": {},
   "outputs": [
    {
     "name": "stdout",
     "output_type": "stream",
     "text": [
      "SELECT\n",
      "\tstarttimeperiod,\n",
      "\tendtimeperiod,\n",
      "\taep_endtime_utc,\n",
      "\ttimezoneoffset,\n",
      "\taep_derived_uom,\n",
      "\taep_srvc_qlty_idntfr,\n",
      "\taep_usage_dt,\n",
      "\tSUM(value) AS sum_value,\n",
      "\tSUM(POWER(value, 2)) AS sq_sum_value,\n",
      "\tAVG(value) AS mean_value,\n",
      "\tSTDDEV_SAMP(value) AS std_value,\n",
      "\tCOUNT(value) AS count_value,\n",
      "\tCOUNT(*) AS counts_including_null\n",
      "FROM usage_nonvee.reading_ivl_nonvee\n",
      "WHERE aep_opco = 'oh'\n",
      "AND   aep_usage_dt BETWEEN '2021-01-01' AND '2021-01-02'\n",
      "AND   serialnumber IN ('884390632','880682782','880320285','880076534','880320207','889926007','884390655','880076535')\n",
      "GROUP BY\n",
      "\tstarttimeperiod,\n",
      "\tendtimeperiod,\n",
      "\taep_endtime_utc,\n",
      "\ttimezoneoffset,\n",
      "\taep_derived_uom,\n",
      "\taep_srvc_qlty_idntfr,\n",
      "\taep_usage_dt\n"
     ]
    }
   ],
   "source": [
    "sql_query = AMINonVee_SQL.build_sql_usg(\n",
    "    cols_of_interest=cols_of_interest_usage_agg, \n",
    "    aep_derived_uoms_and_idntfrs=None, \n",
    "    kwh_and_vlt_only=False, \n",
    "    aep_opco='oh', \n",
    "    serial_numbers=serial_numbers, \n",
    "    date_range=date_range, \n",
    "    agg_cols_and_types=agg_cols_and_types, \n",
    "    groupby_cols=groupby_cols\n",
    ")\n",
    "sql_query.print()"
   ]
  },
  {
   "cell_type": "code",
   "execution_count": null,
   "id": "a438645b",
   "metadata": {},
   "outputs": [],
   "source": []
  },
  {
   "cell_type": "code",
   "execution_count": null,
   "id": "b4d216cc",
   "metadata": {},
   "outputs": [],
   "source": []
  },
  {
   "cell_type": "code",
   "execution_count": null,
   "id": "00f523fb",
   "metadata": {},
   "outputs": [],
   "source": []
  },
  {
   "cell_type": "markdown",
   "id": "a6de862e",
   "metadata": {},
   "source": [
    "# -------------------------------------------------------------------------------------------\n",
    "# -------------------------------------------------------------------------------------------"
   ]
  },
  {
   "cell_type": "markdown",
   "id": "72a8d217",
   "metadata": {},
   "source": [
    "# Other Examples"
   ]
  },
  {
   "cell_type": "code",
   "execution_count": 26,
   "id": "6bf1eb87",
   "metadata": {},
   "outputs": [],
   "source": [
    "cols_of_interest_usage = ['serialnumber', 'starttimeperiod', 'endtimeperiod', 'aep_endtime_utc', 'timezoneoffset',\n",
    "                          'aep_derived_uom', 'aep_srvc_qlty_idntfr', 'value', 'aep_usage_dt']\n",
    "serial_numbers = [884390632, 880682782, 880320285, 880076534, 880320207, 889926007, 884390655, 880076535]\n",
    "date_range = ['2021-01-01', '2021-01-02']\n",
    "agg_cols_and_types = {'value':['sum', 'sq_sum', 'mean', 'std', 'count']}\n",
    "groupby_cols = ['starttimeperiod', 'endtimeperiod', 'aep_endtime_utc', 'timezoneoffset', \n",
    "                'aep_derived_uom', 'aep_srvc_qlty_idntfr', 'aep_usage_dt']\n",
    "try_to_split_col_strs = True    \n",
    "#-------------------------------------------------------------"
   ]
  },
  {
   "cell_type": "code",
   "execution_count": 27,
   "id": "702abf50",
   "metadata": {},
   "outputs": [
    {
     "name": "stdout",
     "output_type": "stream",
     "text": [
      "SELECT\n",
      "\tserialnumber,\n",
      "\tstarttimeperiod,\n",
      "\tendtimeperiod,\n",
      "\taep_endtime_utc,\n",
      "\ttimezoneoffset,\n",
      "\taep_derived_uom,\n",
      "\taep_srvc_qlty_idntfr,\n",
      "\tvalue,\n",
      "\taep_usage_dt\n",
      "FROM usage_nonvee.reading_ivl_nonvee\n",
      "WHERE aep_usage_dt BETWEEN '2021-01-01' AND '2021-01-02'\n",
      "AND   serialnumber IN ('884390632','880682782','880320285','880076534','880320207','889926007','884390655','880076535')\n",
      "AND   aep_premise_nb IN ('1','2','3')\n"
     ]
    }
   ],
   "source": [
    "sql_query = AMINonVee_SQL.build_sql_usg(\n",
    "    cols_of_interest_usage, \n",
    "    aep_derived_uoms_and_idntfrs=None, \n",
    "    kwh_and_vlt_only=False, \n",
    "    return_statement=True, \n",
    "    date_range=date_range, \n",
    "    aep_premise_nbs =[1,2,3],\n",
    "    serial_numbers=serial_numbers\n",
    ")\n",
    "sql_query.print()"
   ]
  },
  {
   "cell_type": "code",
   "execution_count": 28,
   "id": "6ffe50dc",
   "metadata": {},
   "outputs": [
    {
     "name": "stdout",
     "output_type": "stream",
     "text": [
      "SELECT\n",
      "\tserialnumber,\n",
      "\tstarttimeperiod,\n",
      "\tendtimeperiod,\n",
      "\taep_endtime_utc,\n",
      "\ttimezoneoffset,\n",
      "\taep_derived_uom,\n",
      "\taep_srvc_qlty_idntfr,\n",
      "\tvalue,\n",
      "\taep_usage_dt\n",
      "FROM usage_nonvee.reading_ivl_nonvee\n",
      "WHERE aep_usage_dt BETWEEN '2021-01-01' AND '2021-01-02'\n",
      "AND   serialnumber IN ('884390632','880682782','880320285','880076534','880320207','889926007','884390655','880076535')\n",
      "AND   (\n",
      "\taep_derived_uom = 'KWH' OR \n",
      "\t(\n",
      "\t\taep_derived_uom = 'VOLT' AND \n",
      "\t\taep_srvc_qlty_idntfr = 'AVG'\n",
      "\t) OR \n",
      "\taep_derived_uom = 'KVARH'\n",
      ")\n"
     ]
    }
   ],
   "source": [
    "AMINonVee_SQL.build_sql_usg(\n",
    "    cols_of_interest_usage, \n",
    "    aep_derived_uoms_and_idntfrs=['KWH', ['VOLT', 'AVG'], 'KVARH'], \n",
    "    kwh_and_vlt_only=False, \n",
    "    return_statement=True, \n",
    "    date_range=date_range, \n",
    "    serial_numbers=serial_numbers\n",
    ").print()"
   ]
  },
  {
   "cell_type": "code",
   "execution_count": 29,
   "id": "84d43df8",
   "metadata": {},
   "outputs": [
    {
     "name": "stdout",
     "output_type": "stream",
     "text": [
      "SELECT\n",
      "\tserialnumber,\n",
      "\tstarttimeperiod,\n",
      "\tendtimeperiod,\n",
      "\taep_endtime_utc,\n",
      "\ttimezoneoffset,\n",
      "\taep_derived_uom,\n",
      "\taep_srvc_qlty_idntfr,\n",
      "\taep_usage_dt,\n",
      "\tSUM(value) AS sum_value,\n",
      "\tSUM(POWER(value, 2)) AS sq_sum_value,\n",
      "\tAVG(value) AS mean_value,\n",
      "\tSTDDEV_SAMP(value) AS std_value,\n",
      "\tCOUNT(value) AS count_value,\n",
      "\tCOUNT(*) AS counts_including_null\n",
      "FROM usage_nonvee.reading_ivl_nonvee\n",
      "WHERE aep_usage_dt BETWEEN '2021-01-01' AND '2021-01-02'\n",
      "AND   serialnumber IN ('884390632','880682782','880320285','880076534','880320207','889926007','884390655','880076535')\n",
      "AND   (\n",
      "\taep_derived_uom = 'KWH' OR \n",
      "\t(\n",
      "\t\taep_derived_uom = 'VOLT' AND \n",
      "\t\taep_srvc_qlty_idntfr = 'AVG'\n",
      "\t) OR \n",
      "\taep_derived_uom = 'KVARH'\n",
      ")\n",
      "GROUP BY\n",
      "\tstarttimeperiod,\n",
      "\tendtimeperiod,\n",
      "\taep_endtime_utc,\n",
      "\ttimezoneoffset,\n",
      "\taep_derived_uom,\n",
      "\taep_srvc_qlty_idntfr,\n",
      "\taep_usage_dt\n"
     ]
    }
   ],
   "source": [
    "AMINonVee_SQL.build_sql_usg(\n",
    "    cols_of_interest_usage, \n",
    "    aep_derived_uoms_and_idntfrs=['KWH', ['VOLT', 'AVG'], 'KVARH'], \n",
    "    kwh_and_vlt_only=False, \n",
    "    return_statement=True, \n",
    "    date_range=date_range, \n",
    "    serial_numbers=serial_numbers, \n",
    "    groupby_cols=groupby_cols, \n",
    "    agg_cols_and_types=agg_cols_and_types\n",
    ").print()"
   ]
  },
  {
   "cell_type": "code",
   "execution_count": 30,
   "id": "dc104cbe",
   "metadata": {
    "scrolled": false
   },
   "outputs": [
    {
     "name": "stdout",
     "output_type": "stream",
     "text": [
      "KWH_USG_DELREC_W_SIGNED_VAL AS (\n",
      "\tSELECT\n",
      "\t\tUSG_i.serialnumber,\n",
      "\t\tUSG_i.starttimeperiod,\n",
      "\t\tUSG_i.endtimeperiod,\n",
      "\t\tUSG_i.aep_endtime_utc,\n",
      "\t\tUSG_i.timezoneoffset,\n",
      "\t\tUSG_i.aep_derived_uom,\n",
      "\t\tUSG_i.aep_srvc_qlty_idntfr,\n",
      "\t\tUSG_i.value,\n",
      "\t\tUSG_i.aep_usage_dt,\n",
      "\t\tIF(aep_srvc_qlty_idntfr='RECEIVED', -1*value, value) AS signed_value\n",
      "\tFROM usage_nonvee.reading_ivl_nonvee USG_i\n",
      "\tWHERE USG_i.aep_usage_dt BETWEEN '2021-01-01' AND '2021-01-02'\n",
      "\tAND   USG_i.serialnumber IN ('884390632','880682782','880320285','880076534','880320207','889926007','884390655','880076535')\n",
      "\tAND   (\n",
      "\t\t(\n",
      "\t\t\taep_derived_uom = 'KWH' AND \n",
      "\t\t\taep_srvc_qlty_idntfr = 'RECEIVED'\n",
      "\t\t) OR \n",
      "\t\t(\n",
      "\t\t\taep_derived_uom = 'KWH' AND \n",
      "\t\t\taep_srvc_qlty_idntfr = 'DELIVERED'\n",
      "\t\t)\n",
      "\t)\n",
      "), \n",
      "\n",
      "KWH_USG_DELREC_NET AS (\n",
      "\tSELECT\n",
      "\t\tserialnumber,\n",
      "\t\tstarttimeperiod,\n",
      "\t\tendtimeperiod,\n",
      "\t\taep_endtime_utc,\n",
      "\t\ttimezoneoffset,\n",
      "\t\taep_derived_uom,\n",
      "\t\t'DEL_MINUS_REC' AS aep_srvc_qlty_idntfr,\n",
      "\t\tSUM(signed_value) AS value,\n",
      "\t\taep_usage_dt\n",
      "\tFROM KWH_USG_DELREC_W_SIGNED_VAL\n",
      "\tGROUP BY\n",
      "\t\tserialnumber,\n",
      "\t\tstarttimeperiod,\n",
      "\t\tendtimeperiod,\n",
      "\t\taep_endtime_utc,\n",
      "\t\ttimezoneoffset,\n",
      "\t\taep_derived_uom,\n",
      "\t\taep_usage_dt\n",
      "\tHAVING COUNT(signed_value) = 2\n",
      "), \n",
      "\n",
      "KWH_USG_TOTAL_VAL AS (\n",
      "\tSELECT\n",
      "\t\tUSG_i.serialnumber,\n",
      "\t\tUSG_i.starttimeperiod,\n",
      "\t\tUSG_i.endtimeperiod,\n",
      "\t\tUSG_i.aep_endtime_utc,\n",
      "\t\tUSG_i.timezoneoffset,\n",
      "\t\tUSG_i.aep_derived_uom,\n",
      "\t\tUSG_i.aep_srvc_qlty_idntfr,\n",
      "\t\tUSG_i.value,\n",
      "\t\tUSG_i.aep_usage_dt\n",
      "\tFROM usage_nonvee.reading_ivl_nonvee USG_i\n",
      "\tWHERE USG_i.aep_usage_dt BETWEEN '2021-01-01' AND '2021-01-02'\n",
      "\tAND   USG_i.serialnumber IN ('884390632','880682782','880320285','880076534','880320207','889926007','884390655','880076535')\n",
      "\tAND   (\n",
      "\t\taep_derived_uom = 'KWH' AND \n",
      "\t\taep_srvc_qlty_idntfr = 'TOTAL'\n",
      "\t)\n",
      "), \n",
      "\n",
      "KWH_USG_DELREC_NET_UNION_TOTAL_0 AS (\n",
      "\t(\n",
      "\tSELECT\n",
      "\t\tserialnumber,\n",
      "\t\tstarttimeperiod,\n",
      "\t\tendtimeperiod,\n",
      "\t\taep_endtime_utc,\n",
      "\t\ttimezoneoffset,\n",
      "\t\taep_derived_uom,\n",
      "\t\taep_srvc_qlty_idntfr,\n",
      "\t\tvalue,\n",
      "\t\taep_usage_dt\n",
      "\tFROM KWH_USG_DELREC_NET\n",
      "\t)\n",
      "\tUNION\n",
      "\t(\n",
      "\tSELECT\n",
      "\t\tserialnumber,\n",
      "\t\tstarttimeperiod,\n",
      "\t\tendtimeperiod,\n",
      "\t\taep_endtime_utc,\n",
      "\t\ttimezoneoffset,\n",
      "\t\taep_derived_uom,\n",
      "\t\taep_srvc_qlty_idntfr,\n",
      "\t\tvalue,\n",
      "\t\taep_usage_dt\n",
      "\tFROM KWH_USG_TOTAL_VAL\n",
      "\t)\n",
      "), \n",
      "\n",
      "USG_KWH AS (\n",
      "SELECT\n",
      "\tserialnumber,\n",
      "\tstarttimeperiod,\n",
      "\tendtimeperiod,\n",
      "\taep_endtime_utc,\n",
      "\ttimezoneoffset,\n",
      "\taep_derived_uom,\n",
      "\t'CALCULATED_NET' AS aep_srvc_qlty_idntfr,\n",
      "\tSUM(value) AS value,\n",
      "\taep_usage_dt\n",
      "FROM KWH_USG_DELREC_NET_UNION_TOTAL_0\n",
      "GROUP BY\n",
      "\tserialnumber,\n",
      "\tstarttimeperiod,\n",
      "\tendtimeperiod,\n",
      "\taep_endtime_utc,\n",
      "\ttimezoneoffset,\n",
      "\taep_derived_uom,\n",
      "\taep_usage_dt\n",
      "HAVING COUNT(value) = 1\n",
      ")\n"
     ]
    }
   ],
   "source": [
    "print(AMINonVee_SQL.build_net_kwh_usage_sql_statement(cols_of_interest_usage, \n",
    "                                                      additional_derived_uoms=None, \n",
    "                                                      run_careful=True, \n",
    "                                                      return_statement=True, \n",
    "                                                      date_range=date_range, \n",
    "                                                      serial_numbers=serial_numbers))"
   ]
  },
  {
   "cell_type": "code",
   "execution_count": 31,
   "id": "dcc3e2e8",
   "metadata": {
    "scrolled": false
   },
   "outputs": [
    {
     "name": "stdout",
     "output_type": "stream",
     "text": [
      "KWH_USG_DELREC_W_SIGNED_VAL AS (\n",
      "\tSELECT\n",
      "\t\tUSG_i.serialnumber,\n",
      "\t\tUSG_i.starttimeperiod,\n",
      "\t\tUSG_i.endtimeperiod,\n",
      "\t\tUSG_i.aep_endtime_utc,\n",
      "\t\tUSG_i.timezoneoffset,\n",
      "\t\tUSG_i.aep_derived_uom,\n",
      "\t\tUSG_i.aep_srvc_qlty_idntfr,\n",
      "\t\tUSG_i.value,\n",
      "\t\tUSG_i.aep_usage_dt,\n",
      "\t\tIF(aep_srvc_qlty_idntfr='RECEIVED', -1*value, value) AS signed_value\n",
      "\tFROM usage_nonvee.reading_ivl_nonvee USG_i\n",
      "\tWHERE USG_i.aep_usage_dt BETWEEN '2021-01-01' AND '2021-01-02'\n",
      "\tAND   USG_i.serialnumber IN ('884390632','880682782','880320285','880076534','880320207','889926007','884390655','880076535')\n",
      "\tAND   (\n",
      "\t\t(\n",
      "\t\t\taep_derived_uom = 'KWH' AND \n",
      "\t\t\taep_srvc_qlty_idntfr = 'RECEIVED'\n",
      "\t\t) OR \n",
      "\t\t(\n",
      "\t\t\taep_derived_uom = 'KWH' AND \n",
      "\t\t\taep_srvc_qlty_idntfr = 'DELIVERED'\n",
      "\t\t)\n",
      "\t)\n",
      "), \n",
      "\n",
      "KWH_USG_DELREC_NET AS (\n",
      "\tSELECT\n",
      "\t\tserialnumber,\n",
      "\t\tstarttimeperiod,\n",
      "\t\tendtimeperiod,\n",
      "\t\taep_endtime_utc,\n",
      "\t\ttimezoneoffset,\n",
      "\t\taep_derived_uom,\n",
      "\t\t'DEL_MINUS_REC' AS aep_srvc_qlty_idntfr,\n",
      "\t\tSUM(signed_value) AS value,\n",
      "\t\taep_usage_dt\n",
      "\tFROM KWH_USG_DELREC_W_SIGNED_VAL\n",
      "\tGROUP BY\n",
      "\t\tserialnumber,\n",
      "\t\tstarttimeperiod,\n",
      "\t\tendtimeperiod,\n",
      "\t\taep_endtime_utc,\n",
      "\t\ttimezoneoffset,\n",
      "\t\taep_derived_uom,\n",
      "\t\taep_usage_dt\n",
      "\tHAVING COUNT(signed_value) = 2\n",
      "), \n",
      "\n",
      "KWH_USG_TOTAL_VAL AS (\n",
      "\tSELECT\n",
      "\t\tUSG_i.serialnumber,\n",
      "\t\tUSG_i.starttimeperiod,\n",
      "\t\tUSG_i.endtimeperiod,\n",
      "\t\tUSG_i.aep_endtime_utc,\n",
      "\t\tUSG_i.timezoneoffset,\n",
      "\t\tUSG_i.aep_derived_uom,\n",
      "\t\tUSG_i.aep_srvc_qlty_idntfr,\n",
      "\t\tUSG_i.value,\n",
      "\t\tUSG_i.aep_usage_dt\n",
      "\tFROM usage_nonvee.reading_ivl_nonvee USG_i\n",
      "\tWHERE USG_i.aep_usage_dt BETWEEN '2021-01-01' AND '2021-01-02'\n",
      "\tAND   USG_i.serialnumber IN ('884390632','880682782','880320285','880076534','880320207','889926007','884390655','880076535')\n",
      "\tAND   (\n",
      "\t\taep_derived_uom = 'KWH' AND \n",
      "\t\taep_srvc_qlty_idntfr = 'TOTAL'\n",
      "\t)\n",
      "), \n",
      "\n",
      "KWH_USG_DELREC_NET_UNION_TOTAL_0 AS (\n",
      "\t(\n",
      "\tSELECT\n",
      "\t\tserialnumber,\n",
      "\t\tstarttimeperiod,\n",
      "\t\tendtimeperiod,\n",
      "\t\taep_endtime_utc,\n",
      "\t\ttimezoneoffset,\n",
      "\t\taep_derived_uom,\n",
      "\t\taep_srvc_qlty_idntfr,\n",
      "\t\tvalue,\n",
      "\t\taep_usage_dt\n",
      "\tFROM KWH_USG_DELREC_NET\n",
      "\t)\n",
      "\tUNION\n",
      "\t(\n",
      "\tSELECT\n",
      "\t\tserialnumber,\n",
      "\t\tstarttimeperiod,\n",
      "\t\tendtimeperiod,\n",
      "\t\taep_endtime_utc,\n",
      "\t\ttimezoneoffset,\n",
      "\t\taep_derived_uom,\n",
      "\t\taep_srvc_qlty_idntfr,\n",
      "\t\tvalue,\n",
      "\t\taep_usage_dt\n",
      "\tFROM KWH_USG_TOTAL_VAL\n",
      "\t)\n",
      "), \n",
      "\n",
      "KWH_USG_DELREC_NET_UNION_TOTAL AS (\n",
      "\tSELECT\n",
      "\t\tserialnumber,\n",
      "\t\tstarttimeperiod,\n",
      "\t\tendtimeperiod,\n",
      "\t\taep_endtime_utc,\n",
      "\t\ttimezoneoffset,\n",
      "\t\taep_derived_uom,\n",
      "\t\t'CALCULATED_NET' AS aep_srvc_qlty_idntfr,\n",
      "\t\tvalue,\n",
      "\t\taep_usage_dt\n",
      "\tFROM KWH_USG_DELREC_NET_UNION_TOTAL_0\n",
      "), \n",
      "\n",
      "USG_KWH AS (\n",
      "\t(\n",
      "\tSELECT\n",
      "\t\t*\n",
      "\tFROM KWH_USG_DELREC_NET_UNION_TOTAL\n",
      "\t)\n",
      "\tUNION\n",
      "\t(\n",
      "\tSELECT\n",
      "\t\tUSG_i.serialnumber,\n",
      "\t\tUSG_i.starttimeperiod,\n",
      "\t\tUSG_i.endtimeperiod,\n",
      "\t\tUSG_i.aep_endtime_utc,\n",
      "\t\tUSG_i.timezoneoffset,\n",
      "\t\tUSG_i.aep_derived_uom,\n",
      "\t\tUSG_i.aep_srvc_qlty_idntfr,\n",
      "\t\tUSG_i.value,\n",
      "\t\tUSG_i.aep_usage_dt\n",
      "\tFROM usage_nonvee.reading_ivl_nonvee USG_i\n",
      "\tWHERE USG_i.aep_usage_dt BETWEEN '2021-01-01' AND '2021-01-02'\n",
      "\tAND   USG_i.serialnumber IN ('884390632','880682782','880320285','880076534','880320207','889926007','884390655','880076535')\n",
      "\tAND   aep_derived_uom <> 'KWH'\n",
      "\t)\n",
      ")\n"
     ]
    }
   ],
   "source": [
    "print(AMINonVee_SQL.build_net_kwh_usage_sql_statement(cols_of_interest_usage, \n",
    "                                                      additional_derived_uoms='ALL', \n",
    "                                                      run_careful=False, \n",
    "                                                      return_statement=True, \n",
    "                                                      date_range=date_range, \n",
    "                                                      serial_numbers=serial_numbers))"
   ]
  },
  {
   "cell_type": "code",
   "execution_count": 32,
   "id": "a0d4b3ce",
   "metadata": {
    "scrolled": false
   },
   "outputs": [
    {
     "name": "stdout",
     "output_type": "stream",
     "text": [
      "KWH_USG_DELREC_W_SIGNED_VAL AS (\n",
      "\tSELECT\n",
      "\t\tUSG_i.serialnumber,\n",
      "\t\tUSG_i.starttimeperiod,\n",
      "\t\tUSG_i.endtimeperiod,\n",
      "\t\tUSG_i.aep_endtime_utc,\n",
      "\t\tUSG_i.timezoneoffset,\n",
      "\t\tUSG_i.aep_derived_uom,\n",
      "\t\tUSG_i.aep_srvc_qlty_idntfr,\n",
      "\t\tUSG_i.value,\n",
      "\t\tUSG_i.aep_usage_dt,\n",
      "\t\tIF(aep_srvc_qlty_idntfr='RECEIVED', -1*value, value) AS signed_value\n",
      "\tFROM usage_nonvee.reading_ivl_nonvee USG_i\n",
      "\tWHERE USG_i.aep_usage_dt BETWEEN '2021-01-01' AND '2021-01-02'\n",
      "\tAND   USG_i.serialnumber IN ('884390632','880682782','880320285','880076534','880320207','889926007','884390655','880076535')\n",
      "\tAND   (\n",
      "\t\t(\n",
      "\t\t\taep_derived_uom = 'KWH' AND \n",
      "\t\t\taep_srvc_qlty_idntfr = 'RECEIVED'\n",
      "\t\t) OR \n",
      "\t\t(\n",
      "\t\t\taep_derived_uom = 'KWH' AND \n",
      "\t\t\taep_srvc_qlty_idntfr = 'DELIVERED'\n",
      "\t\t)\n",
      "\t)\n",
      "), \n",
      "\n",
      "KWH_USG_DELREC_NET AS (\n",
      "\tSELECT\n",
      "\t\tserialnumber,\n",
      "\t\tstarttimeperiod,\n",
      "\t\tendtimeperiod,\n",
      "\t\taep_endtime_utc,\n",
      "\t\ttimezoneoffset,\n",
      "\t\taep_derived_uom,\n",
      "\t\t'DEL_MINUS_REC' AS aep_srvc_qlty_idntfr,\n",
      "\t\tSUM(signed_value) AS value,\n",
      "\t\taep_usage_dt\n",
      "\tFROM KWH_USG_DELREC_W_SIGNED_VAL\n",
      "\tGROUP BY\n",
      "\t\tserialnumber,\n",
      "\t\tstarttimeperiod,\n",
      "\t\tendtimeperiod,\n",
      "\t\taep_endtime_utc,\n",
      "\t\ttimezoneoffset,\n",
      "\t\taep_derived_uom,\n",
      "\t\taep_usage_dt\n",
      "\tHAVING COUNT(signed_value) = 2\n",
      "), \n",
      "\n",
      "KWH_USG_TOTAL_VAL AS (\n",
      "\tSELECT\n",
      "\t\tUSG_i.serialnumber,\n",
      "\t\tUSG_i.starttimeperiod,\n",
      "\t\tUSG_i.endtimeperiod,\n",
      "\t\tUSG_i.aep_endtime_utc,\n",
      "\t\tUSG_i.timezoneoffset,\n",
      "\t\tUSG_i.aep_derived_uom,\n",
      "\t\tUSG_i.aep_srvc_qlty_idntfr,\n",
      "\t\tUSG_i.value,\n",
      "\t\tUSG_i.aep_usage_dt\n",
      "\tFROM usage_nonvee.reading_ivl_nonvee USG_i\n",
      "\tWHERE USG_i.aep_usage_dt BETWEEN '2021-01-01' AND '2021-01-02'\n",
      "\tAND   USG_i.serialnumber IN ('884390632','880682782','880320285','880076534','880320207','889926007','884390655','880076535')\n",
      "\tAND   (\n",
      "\t\taep_derived_uom = 'KWH' AND \n",
      "\t\taep_srvc_qlty_idntfr = 'TOTAL'\n",
      "\t)\n",
      "), \n",
      "\n",
      "KWH_USG_DELREC_NET_UNION_TOTAL_0 AS (\n",
      "\t(\n",
      "\tSELECT\n",
      "\t\tserialnumber,\n",
      "\t\tstarttimeperiod,\n",
      "\t\tendtimeperiod,\n",
      "\t\taep_endtime_utc,\n",
      "\t\ttimezoneoffset,\n",
      "\t\taep_derived_uom,\n",
      "\t\taep_srvc_qlty_idntfr,\n",
      "\t\tvalue,\n",
      "\t\taep_usage_dt\n",
      "\tFROM KWH_USG_DELREC_NET\n",
      "\t)\n",
      "\tUNION\n",
      "\t(\n",
      "\tSELECT\n",
      "\t\tserialnumber,\n",
      "\t\tstarttimeperiod,\n",
      "\t\tendtimeperiod,\n",
      "\t\taep_endtime_utc,\n",
      "\t\ttimezoneoffset,\n",
      "\t\taep_derived_uom,\n",
      "\t\taep_srvc_qlty_idntfr,\n",
      "\t\tvalue,\n",
      "\t\taep_usage_dt\n",
      "\tFROM KWH_USG_TOTAL_VAL\n",
      "\t)\n",
      "), \n",
      "\n",
      "KWH_USG_DELREC_NET_UNION_TOTAL AS (\n",
      "\tSELECT\n",
      "\t\tserialnumber,\n",
      "\t\tstarttimeperiod,\n",
      "\t\tendtimeperiod,\n",
      "\t\taep_endtime_utc,\n",
      "\t\ttimezoneoffset,\n",
      "\t\taep_derived_uom,\n",
      "\t\t'CALCULATED_NET' AS aep_srvc_qlty_idntfr,\n",
      "\t\tvalue,\n",
      "\t\taep_usage_dt\n",
      "\tFROM KWH_USG_DELREC_NET_UNION_TOTAL_0\n",
      "), \n",
      "\n",
      "USG_KWH AS (\n",
      "\t(\n",
      "\tSELECT\n",
      "\t\t*\n",
      "\tFROM KWH_USG_DELREC_NET_UNION_TOTAL\n",
      "\t)\n",
      "\tUNION\n",
      "\t(\n",
      "\tSELECT\n",
      "\t\tUSG_i.serialnumber,\n",
      "\t\tUSG_i.starttimeperiod,\n",
      "\t\tUSG_i.endtimeperiod,\n",
      "\t\tUSG_i.aep_endtime_utc,\n",
      "\t\tUSG_i.timezoneoffset,\n",
      "\t\tUSG_i.aep_derived_uom,\n",
      "\t\tUSG_i.aep_srvc_qlty_idntfr,\n",
      "\t\tUSG_i.value,\n",
      "\t\tUSG_i.aep_usage_dt\n",
      "\tFROM usage_nonvee.reading_ivl_nonvee USG_i\n",
      "\tWHERE USG_i.aep_usage_dt BETWEEN '2021-01-01' AND '2021-01-02'\n",
      "\tAND   USG_i.serialnumber IN ('884390632','880682782','880320285','880076534','880320207','889926007','884390655','880076535')\n",
      "\tAND   aep_derived_uom <> 'KWH'\n",
      "\t)\n",
      ")\n"
     ]
    }
   ],
   "source": [
    "print(AMINonVee_SQL.build_net_kwh_usage_sql_statement(cols_of_interest_usage, \n",
    "                                                      additional_derived_uoms='ALL', \n",
    "                                                      run_careful=False, \n",
    "                                                      return_statement=True, \n",
    "                                                      date_range=date_range, \n",
    "                                                      serial_numbers=serial_numbers))"
   ]
  },
  {
   "cell_type": "code",
   "execution_count": null,
   "id": "85aab304",
   "metadata": {},
   "outputs": [],
   "source": []
  },
  {
   "cell_type": "code",
   "execution_count": null,
   "id": "baeb3d29",
   "metadata": {},
   "outputs": [],
   "source": []
  },
  {
   "cell_type": "code",
   "execution_count": null,
   "id": "cf8e1f64",
   "metadata": {},
   "outputs": [],
   "source": []
  },
  {
   "cell_type": "code",
   "execution_count": null,
   "id": "5bdc5b25",
   "metadata": {},
   "outputs": [],
   "source": []
  }
 ],
 "metadata": {
  "kernelspec": {
   "display_name": "Python 3 (ipykernel)",
   "language": "python",
   "name": "python3"
  },
  "language_info": {
   "codemirror_mode": {
    "name": "ipython",
    "version": 3
   },
   "file_extension": ".py",
   "mimetype": "text/x-python",
   "name": "python",
   "nbconvert_exporter": "python",
   "pygments_lexer": "ipython3",
   "version": "3.9.7"
  }
 },
 "nbformat": 4,
 "nbformat_minor": 5
}
