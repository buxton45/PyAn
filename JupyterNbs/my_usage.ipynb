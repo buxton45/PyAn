{
 "cells": [
  {
   "cell_type": "code",
   "execution_count": null,
   "id": "78b1ea8c",
   "metadata": {},
   "outputs": [],
   "source": [
    "# %run DOVSOutages.ipynb"
   ]
  },
  {
   "cell_type": "code",
   "execution_count": null,
   "id": "ae24304e",
   "metadata": {},
   "outputs": [],
   "source": [
    "from importlib import reload\n",
    "#reload(Utilities)\n",
    "\n",
    "import sys, os\n",
    "import re\n",
    "\n",
    "import pandas as pd\n",
    "import numpy as np\n",
    "from pandas.api.types import is_numeric_dtype\n",
    "from scipy import stats\n",
    "import datetime\n",
    "import time\n",
    "from natsort import natsorted, ns\n",
    "from packaging import version\n",
    "\n",
    "import itertools\n",
    "\n",
    "import pyodbc\n",
    "#---------------------------------------------------------------------\n",
    "sys.path.insert(0, os.path.realpath('..'))\n",
    "import Utilities_config\n",
    "#---------------------------------------------------------------------\n",
    "import matplotlib as mpl\n",
    "import matplotlib.pyplot as plt\n",
    "import seaborn as sns\n",
    "from matplotlib.backends.backend_pdf import PdfPages\n",
    "import matplotlib.patches as mpatches\n",
    "from matplotlib.lines import Line2D\n",
    "import matplotlib.ticker as ticker\n",
    "from matplotlib import dates\n",
    "#---------------------------------------------------------------------\n",
    "sys.path.insert(0, Utilities_config.get_sql_aids_dir())\n",
    "import Utilities_sql\n",
    "from SQLElement import SQLElement\n",
    "from SQLElementsCollection import SQLElementsCollection\n",
    "from SQLSelect import SQLSelectElement, SQLSelect\n",
    "from SQLFrom import SQLFrom\n",
    "from SQLWhere import SQLWhereElement, SQLWhere\n",
    "from SQLJoin import SQLJoin, SQLJoinCollection\n",
    "from SQLGroupBy import SQLGroupByElement, SQLGroupBy\n",
    "from SQLOrderBy import SQLOrderByElement, SQLOrderBy\n",
    "from SQLQuery import SQLQuery\n",
    "#---------------------------------------------------------------------\n",
    "sys.path.insert(0, Utilities_config.get_utilities_dir())\n",
    "import Utilities\n",
    "import Utilities_df\n",
    "import Plot_Box_sns\n",
    "import GrubbsTest"
   ]
  },
  {
   "cell_type": "code",
   "execution_count": null,
   "id": "b40981b0-9831-413d-a0aa-d7a960955359",
   "metadata": {},
   "outputs": [],
   "source": []
  },
  {
   "cell_type": "code",
   "execution_count": null,
   "id": "9cffb92d-341b-41cd-996a-795924705ac5",
   "metadata": {},
   "outputs": [],
   "source": [
    "df = pd.read_pickle(r'C:\\Users\\s346557\\Documents\\LocalData\\dovs_check\\20240407_20240413\\AllOPCOs\\DRFResults\\DOVSRepeats_detailed.pkl')"
   ]
  },
  {
   "cell_type": "code",
   "execution_count": null,
   "id": "1fa4b03e-ee2e-43bd-8eee-7a413ccc1123",
   "metadata": {},
   "outputs": [],
   "source": [
    "df.index.get_level_values(1).value_counts()"
   ]
  },
  {
   "cell_type": "code",
   "execution_count": null,
   "id": "f9087957-7732-416d-8eab-8ac942a061dc",
   "metadata": {},
   "outputs": [],
   "source": [
    "df[df.index.get_level_values(0)=='960038955']"
   ]
  },
  {
   "cell_type": "code",
   "execution_count": null,
   "id": "f2e02512-1e13-4857-9627-84541f13ebdd",
   "metadata": {},
   "outputs": [],
   "source": [
    "df[df.index.get_level_values(1).str.contains('_1')]"
   ]
  },
  {
   "cell_type": "code",
   "execution_count": null,
   "id": "d33ccb6e-0e20-4b61-a164-fe5b27a9c8b0",
   "metadata": {},
   "outputs": [],
   "source": []
  },
  {
   "cell_type": "code",
   "execution_count": null,
   "id": "180cc1f2",
   "metadata": {},
   "outputs": [],
   "source": []
  },
  {
   "cell_type": "code",
   "execution_count": null,
   "id": "c89db160",
   "metadata": {},
   "outputs": [],
   "source": [
    "conn_outages = Utilities.get_utldb01p_oracle_connection()\n",
    "conn_aws = Utilities.get_athena_prod_aws_connection()"
   ]
  },
  {
   "cell_type": "code",
   "execution_count": null,
   "id": "7b3fad51",
   "metadata": {},
   "outputs": [],
   "source": []
  },
  {
   "cell_type": "code",
   "execution_count": null,
   "id": "de42fc4e",
   "metadata": {},
   "outputs": [],
   "source": [
    "my_meter_premise_info = pd.read_csv(r'C:\\Users\\s346557\\Documents\\my_meter_premise_info.csv')\n",
    "my_meter_premise_info = Utilities_df.remove_prepend_from_columns_in_df(my_meter_premise_info)\n",
    "my_meter_premise_info_dict = my_meter_premise_info.squeeze().to_dict()"
   ]
  },
  {
   "cell_type": "code",
   "execution_count": null,
   "id": "e87cf85d",
   "metadata": {},
   "outputs": [],
   "source": [
    "# mp_where_str = ''\n",
    "# for i, (col_name,val) in enumerate(my_meter_premise_info_dict.items()):\n",
    "#     str_to_append = f\" AND {col_name}='{val}'\"\n",
    "#     if i==0:\n",
    "#         str_to_append = str_to_append[5:]\n",
    "#     mp_where_str += str_to_append\n",
    "    \n",
    "mp_where_str = \"aep_premise_nb = '{}' AND serialnumber = '{}'\".format(\n",
    "    my_meter_premise_info_dict['prem_nb'], \n",
    "    my_meter_premise_info_dict['mfr_devc_ser_nbr'])"
   ]
  },
  {
   "cell_type": "code",
   "execution_count": null,
   "id": "f49b398f",
   "metadata": {},
   "outputs": [],
   "source": [
    "#my_meter_premise_info_dict['prem_nb']"
   ]
  },
  {
   "cell_type": "code",
   "execution_count": null,
   "id": "8726f94b",
   "metadata": {},
   "outputs": [],
   "source": []
  },
  {
   "cell_type": "code",
   "execution_count": null,
   "id": "64c7ef47",
   "metadata": {},
   "outputs": [],
   "source": []
  },
  {
   "cell_type": "code",
   "execution_count": null,
   "id": "eb079a55",
   "metadata": {},
   "outputs": [],
   "source": []
  },
  {
   "cell_type": "code",
   "execution_count": null,
   "id": "f3371f7b",
   "metadata": {},
   "outputs": [],
   "source": []
  },
  {
   "cell_type": "markdown",
   "id": "b9da1627",
   "metadata": {},
   "source": [
    "# -----------------------------------------------------\n",
    "# Outages\n",
    "# -----------------------------------------------------"
   ]
  },
  {
   "cell_type": "code",
   "execution_count": null,
   "id": "2400305c",
   "metadata": {},
   "outputs": [],
   "source": []
  },
  {
   "cell_type": "code",
   "execution_count": null,
   "id": "a8105f50",
   "metadata": {},
   "outputs": [],
   "source": []
  },
  {
   "cell_type": "markdown",
   "id": "71c1ece4",
   "metadata": {},
   "source": [
    "# -----------------------------------------------------\n",
    "# Usage\n",
    "# -----------------------------------------------------"
   ]
  },
  {
   "cell_type": "code",
   "execution_count": null,
   "id": "5fb41ce5",
   "metadata": {},
   "outputs": [],
   "source": [
    "cols_of_interest_met_prem = [\n",
    "    'mfr_devc_ser_nbr',\n",
    "    'mtr_stat_cd_desc',\n",
    "    'first_in_srvc_dt',\n",
    "    'phys_inst_dt',\n",
    "    'inst_tod_cd',\n",
    "    'inst_ts',\n",
    "    'last_fld_test_date',\n",
    "    'longitude',\n",
    "    'latitude',\n",
    "    'state_cd', \n",
    "    'prem_nb',\n",
    "    'prem_stat_cd',\n",
    "    'frst_turn_on_dt',\n",
    "    'hsng_ctgy_cd',\n",
    "    'srvc_pole_nb',\n",
    "    'trsf_pole_nb',\n",
    "    'curr_bill_acct_id',\n",
    "    'curr_bill_acct_nb',\n",
    "    'annual_kwh',\n",
    "    'annual_max_dmnd',\n",
    "    'latitude_nb',\n",
    "    'longitude_nb',\n",
    "    'station_nb', \n",
    "    'xfmr_nb'\n",
    "]\n",
    "\n",
    "cols_of_interest_usage = [\n",
    "    'serialnumber', \n",
    "    'starttimeperiod', \n",
    "    'endtimeperiod', \n",
    "    'aep_endtime_utc', \n",
    "    'timezoneoffset', \n",
    "    'aep_derived_uom', \n",
    "    'aep_srvc_qlty_idntfr', \n",
    "    'value', \n",
    "    'aep_opco', \n",
    "    'aep_usage_dt']"
   ]
  },
  {
   "cell_type": "code",
   "execution_count": null,
   "id": "f4bcb632",
   "metadata": {},
   "outputs": [],
   "source": [
    "date_range = ['2020-01-01', '2020-02-01']"
   ]
  },
  {
   "cell_type": "code",
   "execution_count": null,
   "id": "73a04905",
   "metadata": {},
   "outputs": [],
   "source": []
  },
  {
   "cell_type": "code",
   "execution_count": null,
   "id": "9fe8b7d2",
   "metadata": {},
   "outputs": [],
   "source": []
  },
  {
   "cell_type": "code",
   "execution_count": null,
   "id": "a35d9618",
   "metadata": {},
   "outputs": [],
   "source": []
  },
  {
   "cell_type": "code",
   "execution_count": null,
   "id": "ad0277a2",
   "metadata": {},
   "outputs": [],
   "source": []
  },
  {
   "cell_type": "code",
   "execution_count": null,
   "id": "47cf11ae",
   "metadata": {},
   "outputs": [],
   "source": []
  },
  {
   "cell_type": "code",
   "execution_count": null,
   "id": "9f7b5206",
   "metadata": {},
   "outputs": [],
   "source": []
  },
  {
   "cell_type": "code",
   "execution_count": null,
   "id": "5a56ed4b",
   "metadata": {},
   "outputs": [],
   "source": []
  },
  {
   "cell_type": "code",
   "execution_count": null,
   "id": "15009dae",
   "metadata": {},
   "outputs": [],
   "source": []
  },
  {
   "cell_type": "code",
   "execution_count": null,
   "id": "8a62babb",
   "metadata": {},
   "outputs": [],
   "source": []
  },
  {
   "cell_type": "code",
   "execution_count": null,
   "id": "a7dff5a0",
   "metadata": {},
   "outputs": [],
   "source": []
  },
  {
   "cell_type": "code",
   "execution_count": null,
   "id": "354f2576",
   "metadata": {},
   "outputs": [],
   "source": []
  },
  {
   "cell_type": "code",
   "execution_count": null,
   "id": "369913d4",
   "metadata": {},
   "outputs": [],
   "source": []
  },
  {
   "cell_type": "code",
   "execution_count": null,
   "id": "00a315c1",
   "metadata": {},
   "outputs": [],
   "source": [
    "mp_sql = SQLQuery(sql_select = SQLSelect(cols_of_interest_met_prem), \n",
    "                  sql_from = SQLFrom('default', 'meter_premise'), \n",
    "                  sql_where = SQLWhere([dict(field_desc='prem_nb ', comparison_operator='=', value='{}', needs_quotes=True), \n",
    "                                        dict(field_desc='mfr_devc_ser_nbr  ', comparison_operator='=', value='{}', needs_quotes=True)], \n",
    "                                       idxs=None, run_check=True) \n",
    "                 )\n",
    "#-------------------------------------\n",
    "usg_sql_where = SQLWhere([dict(field_desc='aep_opco', comparison_operator='=', value='oh', needs_quotes=True), \n",
    "                          dict(field_desc='aep_usage_dt', comparison_operator='BETWEEN', value=['{}','{}'], needs_quotes=True), \n",
    "                          dict(field_desc='aep_derived_uom', comparison_operator='=', value='VOLT', needs_quotes=True), \n",
    "                          dict(field_desc='aep_srvc_qlty_idntfr', comparison_operator='=', value='AVG', needs_quotes=True), \n",
    "                          dict(field_desc='aep_derived_uom', comparison_operator='=', value='KWH', needs_quotes=True)], \n",
    "                         idxs=None, run_check=True)\n",
    "usg_sql_where.combine_where_elements([2,3], 'AND', close_gaps_in_keys=False)\n",
    "usg_sql_where.combine_where_elements([2,4], 'OR', close_gaps_in_keys=True)\n",
    "\n",
    "usg_sql = SQLQuery(sql_select = SQLSelect(cols_of_interest_usage), \n",
    "                   sql_from = SQLFrom('usage_nonvee', 'reading_ivl_nonvee'), \n",
    "                   sql_where = usg_sql_where\n",
    "                 )\n",
    "#-------------------------------------\n",
    "sql_select = SQLSelect(cols_of_interest_met_prem, global_table_alias_prefix='MP', idxs=None, run_check=True)\n",
    "sql_select.add_select_elements(cols_of_interest_usage, global_table_alias_prefix='U', idxs=None, run_check=True)\n",
    "\n",
    "sql_join = SQLJoin(join_type='INNER', join_table='', \n",
    "                        join_table_alias='U', orig_table_alias='MP', list_of_columns_to_join=[['mfr_devc_ser_nbr', 'serialnumber']])\n",
    "\n",
    "sql_partial = SQLQuery(sql_select = sql_select, \n",
    "                            sql_from = SQLFrom('MP'), \n",
    "                            sql_where = None, \n",
    "                            sql_join_coll = sql_join)\n",
    "\n",
    "sql_partial_stmnt = sql_partial.get_sql_statement()\n",
    "#-------------------------------------\n",
    "mp_sql_stmnt = mp_sql.get_sql_statement(insert_n_tabs_to_each_line=1).format(my_meter_premise_info_dict['prem_nb'], \n",
    "                                                                             my_meter_premise_info_dict['mfr_devc_ser_nbr'])\n",
    "usg_sql_stmnt = usg_sql.get_sql_statement(insert_n_tabs_to_each_line=1).format(date_range[0], date_range[1])\n",
    "\n",
    "sql_full_stmnt = f\"\"\"\n",
    "WITH MP\n",
    "AS (\n",
    "{mp_sql_stmnt}\n",
    "), \n",
    "U AS (\n",
    "{usg_sql_stmnt}\n",
    ")\n",
    "\n",
    "{sql_partial_stmnt}\n",
    "\"\"\"\n",
    "print(sql_full_stmnt)"
   ]
  },
  {
   "cell_type": "code",
   "execution_count": null,
   "id": "596d5b55",
   "metadata": {},
   "outputs": [],
   "source": []
  },
  {
   "cell_type": "code",
   "execution_count": null,
   "id": "9911cae8",
   "metadata": {},
   "outputs": [],
   "source": []
  },
  {
   "cell_type": "code",
   "execution_count": null,
   "id": "48ad22dd",
   "metadata": {},
   "outputs": [],
   "source": []
  },
  {
   "cell_type": "code",
   "execution_count": null,
   "id": "3198aef7",
   "metadata": {},
   "outputs": [],
   "source": []
  },
  {
   "cell_type": "code",
   "execution_count": null,
   "id": "dd1dc1bc",
   "metadata": {},
   "outputs": [],
   "source": []
  },
  {
   "cell_type": "code",
   "execution_count": null,
   "id": "ee45b827",
   "metadata": {},
   "outputs": [],
   "source": [
    "df = pd.read_sql(sql_full_stmnt, conn_aws)\n",
    "df = Utilities_df.remove_table_aliases(df)\n",
    "#-----\n",
    "df_vlt = df[df['aep_derived_uom']=='VOLT'].copy()\n",
    "df_kwh = df[df['aep_derived_uom']=='KWH'].copy()"
   ]
  },
  {
   "cell_type": "code",
   "execution_count": null,
   "id": "84c7fb1b",
   "metadata": {},
   "outputs": [],
   "source": [
    "df_vlt['starttimeperiod_tz_aware'] = pd.to_datetime(df_vlt['starttimeperiod'])\n",
    "df_vlt['starttimeperiod_local'] = df_vlt['starttimeperiod_tz_aware'].dt.tz_localize(None)\n",
    "df_vlt['starttimeperiod_utc'] = df_vlt['starttimeperiod_tz_aware'].dt.tz_convert(None)\n",
    "df_vlt = df_vlt.set_index('starttimeperiod_local', drop=False).sort_index()\n",
    "\n",
    "# df_vlt = df_vlt.set_index('starttimeperiod', drop=False)\n",
    "# df_vlt.index = pd.to_datetime(df_vlt.index)\n",
    "# df_vlt = df_vlt.sort_index()"
   ]
  },
  {
   "cell_type": "code",
   "execution_count": null,
   "id": "a17b8211",
   "metadata": {},
   "outputs": [],
   "source": [
    "df_kwh['starttimeperiod_tz_aware'] = pd.to_datetime(df_kwh['starttimeperiod'])\n",
    "df_kwh['starttimeperiod_local'] = df_kwh['starttimeperiod_tz_aware'].dt.tz_localize(None)\n",
    "df_kwh['starttimeperiod_utc'] = df_kwh['starttimeperiod_tz_aware'].dt.tz_convert(None)\n",
    "df_kwh = df_kwh.set_index('starttimeperiod_local', drop=False).sort_index()"
   ]
  },
  {
   "cell_type": "code",
   "execution_count": null,
   "id": "0235ceee",
   "metadata": {},
   "outputs": [],
   "source": [
    "df_vlt['value'].plot()"
   ]
  },
  {
   "cell_type": "code",
   "execution_count": null,
   "id": "8a822a14",
   "metadata": {},
   "outputs": [],
   "source": [
    "ax = df_vlt['2020-01-01T00:00:00':'2020-01-02T00:00:00']['value'].plot()\n",
    "ax.tick_params(axis='x', labelrotation=45);"
   ]
  },
  {
   "cell_type": "code",
   "execution_count": null,
   "id": "631c389e",
   "metadata": {},
   "outputs": [],
   "source": [
    "ax = df_vlt['2020-01-01T00:00:00':'2020-01-08T00:00:00']['value'].plot()\n",
    "ax.tick_params(axis='x', labelrotation=45);"
   ]
  },
  {
   "cell_type": "code",
   "execution_count": null,
   "id": "d86e5ad2",
   "metadata": {},
   "outputs": [],
   "source": [
    "ax = df_vlt['2020-01-01T00:00:00':'2020-01-08T00:00:00']['value'].plot()\n",
    "\n",
    "ax.xaxis.set_major_locator(dates.HourLocator(interval=4))\n",
    "ax.xaxis.set_major_formatter(dates.DateFormatter('%H'))\n",
    "\n",
    "# ax.xaxis.set_minor_locator(dates.DayLocator())\n",
    "# ax.xaxis.set_minor_formatter(dates.DateFormatter('\\n\\n%d %b'))\n",
    "# ax.tick_params(which='minor', length=0)\n"
   ]
  },
  {
   "cell_type": "code",
   "execution_count": null,
   "id": "dfcd31ab",
   "metadata": {},
   "outputs": [],
   "source": []
  },
  {
   "cell_type": "code",
   "execution_count": null,
   "id": "f64b5cc0",
   "metadata": {},
   "outputs": [],
   "source": [
    "df_vlt.resample('H').mean()"
   ]
  },
  {
   "cell_type": "code",
   "execution_count": null,
   "id": "8d706b78",
   "metadata": {},
   "outputs": [],
   "source": [
    "df_vlt.resample('H').mean().plot()"
   ]
  },
  {
   "cell_type": "code",
   "execution_count": null,
   "id": "5fa50de8",
   "metadata": {},
   "outputs": [],
   "source": [
    "df_vlt.resample('4H').mean().plot()"
   ]
  },
  {
   "cell_type": "code",
   "execution_count": null,
   "id": "b5cbdfcf",
   "metadata": {},
   "outputs": [],
   "source": [
    "tmp_df = df_vlt['2020-01-01T00:00:00':'2020-01-08T00:00:00'].copy()\n",
    "\n",
    "print(pd.infer_freq(tmp_df.index))\n",
    "tmp_df.index.freq = '15T'\n",
    "\n",
    "ax = tmp_df['value'].plot(figsize=(12,5))\n",
    "tmp_df.rolling(window=4).mean()['value'].plot()"
   ]
  },
  {
   "cell_type": "code",
   "execution_count": null,
   "id": "5db13a74",
   "metadata": {},
   "outputs": [],
   "source": [
    "from statsmodels.tsa.seasonal import seasonal_decompose\n",
    "from statsmodels.tsa.holtwinters import SimpleExpSmoothing"
   ]
  },
  {
   "cell_type": "code",
   "execution_count": null,
   "id": "adca3319",
   "metadata": {},
   "outputs": [],
   "source": []
  },
  {
   "cell_type": "code",
   "execution_count": null,
   "id": "514960d6",
   "metadata": {},
   "outputs": [],
   "source": [
    "tmp_df"
   ]
  },
  {
   "cell_type": "code",
   "execution_count": null,
   "id": "ae06e84b",
   "metadata": {},
   "outputs": [],
   "source": [
    "ax = tmp_df['value'].plot(figsize=(12,5))\n",
    "result = seasonal_decompose(tmp_df['value'], model='additive', period=96)  # model='mul' also works \n",
    "result.plot();"
   ]
  },
  {
   "cell_type": "code",
   "execution_count": null,
   "id": "84f2d5ce",
   "metadata": {},
   "outputs": [],
   "source": [
    "span = 7\n",
    "alpha = 2/(span+1)\n",
    "\n",
    "tmp_df['SES12'] = SimpleExpSmoothing(tmp_df['value']).fit(smoothing_level=alpha,optimized=False).fittedvalues.shift(-1)"
   ]
  },
  {
   "cell_type": "code",
   "execution_count": null,
   "id": "0b14f461",
   "metadata": {},
   "outputs": [],
   "source": [
    "tmp_df[['value', 'SES12']].plot(figsize=(12,5))"
   ]
  },
  {
   "cell_type": "code",
   "execution_count": null,
   "id": "fcf68e61",
   "metadata": {},
   "outputs": [],
   "source": []
  },
  {
   "cell_type": "code",
   "execution_count": null,
   "id": "bf2824c6",
   "metadata": {},
   "outputs": [],
   "source": [
    "df_vlt"
   ]
  },
  {
   "cell_type": "code",
   "execution_count": null,
   "id": "ac2be23f",
   "metadata": {},
   "outputs": [],
   "source": [
    "n_train = round(0.8*df_vlt.shape[0])\n",
    "n_test = df_vlt.shape[0]-n_train\n",
    "\n",
    "train_data = df_vlt[:n_train]\n",
    "test_data = df_vlt[n_train:]"
   ]
  },
  {
   "cell_type": "code",
   "execution_count": null,
   "id": "c780b5c7",
   "metadata": {},
   "outputs": [],
   "source": [
    "from statsmodels.tsa.holtwinters import ExponentialSmoothing"
   ]
  },
  {
   "cell_type": "code",
   "execution_count": null,
   "id": "e59776ac",
   "metadata": {},
   "outputs": [],
   "source": [
    "fitted_model = ExponentialSmoothing(train_data['value'],trend='add',seasonal='add',seasonal_periods=7*24*4).fit()"
   ]
  },
  {
   "cell_type": "code",
   "execution_count": null,
   "id": "c5113bd7",
   "metadata": {},
   "outputs": [],
   "source": [
    "test_predictions = fitted_model.forecast(test_data.shape[0])"
   ]
  },
  {
   "cell_type": "code",
   "execution_count": null,
   "id": "1f5a4ad1",
   "metadata": {},
   "outputs": [],
   "source": []
  },
  {
   "cell_type": "code",
   "execution_count": null,
   "id": "5b0a3b82",
   "metadata": {},
   "outputs": [],
   "source": [
    "train_data['value'].plot(legend=True,label='TRAIN')\n",
    "test_data['value'].plot(legend=True,label='TEST',figsize=(12,8))\n",
    "test_predictions.plot(legend=True,label='PREDICTION')"
   ]
  },
  {
   "cell_type": "code",
   "execution_count": null,
   "id": "a11186c2",
   "metadata": {},
   "outputs": [],
   "source": [
    "train_data['value'].plot(legend=True,label='TRAIN')\n",
    "test_data['value'].plot(legend=True,label='TEST',figsize=(12,8))\n",
    "test_predictions.plot(legend=True,label='PREDICTION', xlim=['2020-01-26 14:30:00', '2020-02-01 23:45:00\t'])"
   ]
  },
  {
   "cell_type": "code",
   "execution_count": null,
   "id": "58254d74",
   "metadata": {},
   "outputs": [],
   "source": []
  },
  {
   "cell_type": "code",
   "execution_count": null,
   "id": "5799ff73",
   "metadata": {},
   "outputs": [],
   "source": []
  }
 ],
 "metadata": {
  "kernelspec": {
   "display_name": "Python 3 (ipykernel)",
   "language": "python",
   "name": "python3"
  },
  "language_info": {
   "codemirror_mode": {
    "name": "ipython",
    "version": 3
   },
   "file_extension": ".py",
   "mimetype": "text/x-python",
   "name": "python",
   "nbconvert_exporter": "python",
   "pygments_lexer": "ipython3",
   "version": "3.11.7"
  }
 },
 "nbformat": 4,
 "nbformat_minor": 5
}
