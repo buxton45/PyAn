{
 "cells": [
  {
   "cell_type": "code",
   "execution_count": null,
   "id": "dd2eb9da",
   "metadata": {},
   "outputs": [],
   "source": [
    "%run ./check_DOVS_METHODS.ipynb"
   ]
  },
  {
   "cell_type": "code",
   "execution_count": null,
   "id": "f1d9dc36",
   "metadata": {},
   "outputs": [],
   "source": [
    "from importlib import reload\n",
    "#reload(Utilities)\n",
    "#reload(clm)\n",
    "\n",
    "import sys, os\n",
    "import re\n",
    "\n",
    "import pandas as pd\n",
    "import numpy as np\n",
    "from pandas.api.types import is_numeric_dtype, is_datetime64_dtype, is_timedelta64_dtype\n",
    "from scipy import stats\n",
    "import datetime\n",
    "import time\n",
    "from natsort import natsorted, ns\n",
    "from packaging import version\n",
    "\n",
    "import copy\n",
    "\n",
    "import itertools\n",
    "\n",
    "import pyodbc\n",
    "#---------------------------------------------------------------------\n",
    "sys.path.insert(0, os.path.realpath('..'))\n",
    "import Utilities_config\n",
    "#-----\n",
    "import CommonLearningMethods as clm\n",
    "#-----\n",
    "from MeterPremise import MeterPremise\n",
    "#-----\n",
    "from AMI_SQL import AMI_SQL\n",
    "from AMINonVee_SQL import AMINonVee_SQL\n",
    "from AMIEndEvents_SQL import AMIEndEvents_SQL\n",
    "from AMIUsgInst_SQL import AMIUsgInst_SQL\n",
    "from DOVSOutages_SQL import DOVSOutages_SQL\n",
    "#-----\n",
    "from GenAn import GenAn\n",
    "from AMINonVee import AMINonVee\n",
    "from AMIEndEvents import AMIEndEvents\n",
    "from AMIUsgInst import AMIUsgInst\n",
    "from DOVSOutages import DOVSOutages\n",
    "#---------------------------------------------------------------------\n",
    "import matplotlib as mpl\n",
    "import matplotlib.pyplot as plt\n",
    "import seaborn as sns\n",
    "from matplotlib.backends.backend_pdf import PdfPages\n",
    "import matplotlib.patches as mpatches\n",
    "from matplotlib.lines import Line2D\n",
    "import matplotlib.ticker as ticker\n",
    "from matplotlib import dates\n",
    "#---------------------------------------------------------------------\n",
    "sys.path.insert(0, Utilities_config.get_sql_aids_dir())\n",
    "import Utilities_sql\n",
    "import TableInfos\n",
    "from TableInfos import TableInfo\n",
    "from SQLElement import SQLElement\n",
    "from SQLElementsCollection import SQLElementsCollection\n",
    "from SQLSelect import SQLSelectElement, SQLSelect\n",
    "from SQLFrom import SQLFrom\n",
    "from SQLWhere import SQLWhereElement, SQLWhere\n",
    "from SQLJoin import SQLJoin, SQLJoinCollection\n",
    "from SQLGroupBy import SQLGroupByElement, SQLGroupBy\n",
    "from SQLHaving import SQLHaving\n",
    "from SQLOrderBy import SQLOrderByElement, SQLOrderBy\n",
    "from SQLQuery import SQLQuery\n",
    "from SQLQueryGeneric import SQLQueryGeneric\n",
    "#---------------------------------------------------------------------\n",
    "sys.path.insert(0, Utilities_config.get_utilities_dir())\n",
    "import Utilities\n",
    "import Utilities_df\n",
    "import Utilities_dt\n",
    "from Utilities_df import DFConstructType\n",
    "import Plot_General\n",
    "import Plot_Box_sns\n",
    "import GrubbsTest\n",
    "import DataFrameSubsetSlicer\n",
    "from DataFrameSubsetSlicer import DataFrameSubsetSlicer as DFSlicer"
   ]
  },
  {
   "cell_type": "code",
   "execution_count": null,
   "id": "c025651d",
   "metadata": {},
   "outputs": [],
   "source": []
  },
  {
   "cell_type": "code",
   "execution_count": null,
   "id": "309565d0",
   "metadata": {},
   "outputs": [],
   "source": []
  },
  {
   "cell_type": "code",
   "execution_count": null,
   "id": "d5e19d13",
   "metadata": {},
   "outputs": [],
   "source": [
    "# date_0 = '2023-01-01'\n",
    "# date_1 = '2023-01-31'\n",
    "# states=['OH']\n",
    "# opcos='oh'\n",
    "\n",
    "outg_rec_nbs = [\n",
    "    '13330651', \n",
    "    '13325577', \n",
    "    '13329763', \n",
    "    '13278397', \n",
    "    '13183482', \n",
    "    '13183481'\n",
    "]\n",
    "\n",
    "conn_outages = Utilities.get_utldb01p_oracle_connection()"
   ]
  },
  {
   "cell_type": "code",
   "execution_count": null,
   "id": "83699c1c",
   "metadata": {},
   "outputs": [],
   "source": [
    "sql_outage_full = DOVSOutages_SQL.build_sql_std_outage(\n",
    "    mjr_mnr_cause=None, \n",
    "    include_premise=True, \n",
    "    outg_rec_nbs=outg_rec_nbs, \n",
    "#     date_range=[date_0, date_1], \n",
    "#     states=states, \n",
    "    MJR_CAUSE_CD=None, \n",
    "    DEVICE_CD=None, \n",
    "    INTRPTN_TYP_CD=None, \n",
    "    CURR_REC_STAT_CD=None\n",
    ").get_sql_statement()\n",
    "#-----\n",
    "print(f'sql_outage_full:\\n{sql_outage_full}\\n\\n')\n",
    "#-----\n",
    "df_outage_OG = pd.read_sql_query(\n",
    "    sql_outage_full, \n",
    "    conn_outages, \n",
    "    dtype={\n",
    "        'CI_NB':np.int32, \n",
    "        'CMI_NB':np.float64, \n",
    "        'OUTG_REC_NB':np.int32\n",
    "    }\n",
    ")\n",
    "#-----\n",
    "print(f\"df_outage_OG.shape = {df_outage_OG.shape}\")\n",
    "print(f\"# OUTG_REC_NBs     = {df_outage_OG['OUTG_REC_NB'].nunique()}\")"
   ]
  },
  {
   "cell_type": "code",
   "execution_count": null,
   "id": "e3cabe8a",
   "metadata": {},
   "outputs": [],
   "source": [
    "outg_rec_nbs_all = df_outage_OG['OUTG_REC_NB'].unique().tolist()\n",
    "df_outage = df_outage_OG.copy()"
   ]
  },
  {
   "cell_type": "code",
   "execution_count": null,
   "id": "3428320c",
   "metadata": {},
   "outputs": [],
   "source": [
    "df_outage.drop(columns=['OFF_TM', 'REST_TM', 'PREMISE_NB']).drop_duplicates()"
   ]
  },
  {
   "cell_type": "code",
   "execution_count": null,
   "id": "be5a1719",
   "metadata": {},
   "outputs": [],
   "source": [
    "df_outage.columns.tolist()"
   ]
  },
  {
   "cell_type": "code",
   "execution_count": null,
   "id": "37909288",
   "metadata": {},
   "outputs": [],
   "source": [
    "df_outage.drop(columns=['OFF_TM', 'REST_TM', 'PREMISE_NB']).drop_duplicates()[['OUTG_REC_NB', 'STATE_ABBR_TX']]"
   ]
  },
  {
   "cell_type": "code",
   "execution_count": null,
   "id": "26563fa1",
   "metadata": {},
   "outputs": [],
   "source": []
  },
  {
   "cell_type": "code",
   "execution_count": null,
   "id": "740aa4d2",
   "metadata": {},
   "outputs": [],
   "source": []
  },
  {
   "cell_type": "code",
   "execution_count": null,
   "id": "0fac5fea",
   "metadata": {},
   "outputs": [],
   "source": [
    "outg_rec_nbs_all"
   ]
  },
  {
   "cell_type": "code",
   "execution_count": null,
   "id": "83c44c5b",
   "metadata": {},
   "outputs": [],
   "source": [
    "start=time.time()\n",
    "#-----\n",
    "df_mp_outg_OG = build_active_MP_for_xfmrs_in_outages_df(\n",
    "    df_outage=df_outage, \n",
    "    prem_nb_col='PREMISE_NB', \n",
    "    is_slim=False, \n",
    "    addtnl_mp_df_curr_cols=['technology_tx', 'state_cd'], \n",
    "    addtnl_mp_df_hist_cols=['technology_tx', 'state_cd']\n",
    ")\n",
    "#-----\n",
    "print(f'Time for build_active_MP_for_xfmrs_in_outages_df: {time.time()-start}')\n",
    "start=time.time()\n",
    "#-----\n",
    "df_mp_outg_OG['inst_ts'] = pd.to_datetime(df_mp_outg_OG['inst_ts'])\n",
    "df_mp_outg_OG['rmvl_ts'] = pd.to_datetime(df_mp_outg_OG['rmvl_ts'])\n",
    "#-------------------------\n",
    "df_mp_outg = MeterPremise.drop_approx_mp_duplicates(\n",
    "    mp_df = df_mp_outg_OG.copy(), \n",
    "    fuzziness=pd.Timedelta('1 hour'), \n",
    "    assert_single_overlap=True, \n",
    "    addtnl_groupby_cols=['OUTG_REC_NB', 'technology_tx', 'state_cd'], \n",
    "    gpby_dropna=False\n",
    ")\n",
    "#-----\n",
    "print(f'Time for drop_approx_mp_duplicates: {time.time()-start}')"
   ]
  },
  {
   "cell_type": "code",
   "execution_count": null,
   "id": "acd9cee2",
   "metadata": {},
   "outputs": [],
   "source": [
    "# Some premises are listed in DOVS are simply not found in AMI\n",
    "print(f\"#PNs DOVS:            {df_outage['PREMISE_NB'].nunique()}\")\n",
    "print(f\"#PNs AMI using xfmrs: {df_mp_outg['prem_nb'].nunique()}\")"
   ]
  },
  {
   "cell_type": "code",
   "execution_count": null,
   "id": "5a6c8a36",
   "metadata": {},
   "outputs": [],
   "source": [
    "set(df_mp_outg['prem_nb'].unique().tolist()).difference(set(df_outage['PREMISE_NB'].unique().tolist()))"
   ]
  },
  {
   "cell_type": "code",
   "execution_count": null,
   "id": "40309074",
   "metadata": {},
   "outputs": [],
   "source": [
    "set(df_outage['PREMISE_NB'].unique().tolist()).difference(set(df_mp_outg['prem_nb'].unique().tolist()))"
   ]
  },
  {
   "cell_type": "code",
   "execution_count": null,
   "id": "64a07592",
   "metadata": {},
   "outputs": [],
   "source": []
  },
  {
   "cell_type": "code",
   "execution_count": null,
   "id": "1d0dfe1f",
   "metadata": {},
   "outputs": [],
   "source": [
    "# Really only want one entry per meter (here, meter being a mfr_devc_ser_nbr/prem_nb combination)\n",
    "# ALthough drop_duplicates was used, multiple entries could still exist if, e.g., a meter has two\n",
    "#   non-fuzzy-overlapping intervals\n",
    "assert(all(df_mp_outg[['mfr_devc_ser_nbr', 'prem_nb', 'OUTG_REC_NB']].value_counts()==1))\n",
    "\n",
    "# # Simple-minded (if assertion fails): Let's just keep the one with the most recent install date\n",
    "# df_mp_outg = df_mp_outg.iloc[df_mp_outg.reset_index().groupby(['mfr_devc_ser_nbr', 'prem_nb', 'OUTG_REC_NB'])['inst_ts'].idxmax()]\n",
    "# assert(all(df_mp_outg[['mfr_devc_ser_nbr', 'prem_nb', 'OUTG_REC_NB']].value_counts()==1))"
   ]
  },
  {
   "cell_type": "code",
   "execution_count": null,
   "id": "fc3de7aa",
   "metadata": {},
   "outputs": [],
   "source": [
    "df_mp_outg.groupby(['OUTG_REC_NB']).apply(lambda x: 100*(x[x['technology_tx']=='AMI'].shape[0]/x.shape[0]))"
   ]
  },
  {
   "cell_type": "code",
   "execution_count": null,
   "id": "0f7a1713",
   "metadata": {},
   "outputs": [],
   "source": [
    "df_mp_outg"
   ]
  },
  {
   "cell_type": "code",
   "execution_count": null,
   "id": "a53936be",
   "metadata": {},
   "outputs": [],
   "source": []
  },
  {
   "cell_type": "code",
   "execution_count": null,
   "id": "33c1b8cb",
   "metadata": {},
   "outputs": [],
   "source": []
  },
  {
   "cell_type": "code",
   "execution_count": null,
   "id": "ae139945",
   "metadata": {},
   "outputs": [],
   "source": [
    "check_df = DOVSOutages.merge_df_outage_with_mp(\n",
    "    df_outage=df_outage.copy(), \n",
    "    df_mp=df_mp_outg.copy(), \n",
    "    merge_on_outg=['OUTG_REC_NB', 'PREMISE_NB'], \n",
    "    merge_on_mp=['OUTG_REC_NB', 'prem_nb'], \n",
    "    cols_to_include_mp=None, \n",
    "    drop_cols = None, \n",
    "    rename_cols=None, \n",
    "    inplace=True\n",
    ")"
   ]
  },
  {
   "cell_type": "code",
   "execution_count": null,
   "id": "30c869b1",
   "metadata": {},
   "outputs": [],
   "source": [
    "check_df.columns.tolist()"
   ]
  },
  {
   "cell_type": "code",
   "execution_count": null,
   "id": "610f33ed",
   "metadata": {},
   "outputs": [],
   "source": [
    "check_df[['STATE_ABBR_TX', 'state_cd']]"
   ]
  },
  {
   "cell_type": "code",
   "execution_count": null,
   "id": "ebb3611c",
   "metadata": {},
   "outputs": [],
   "source": [
    "check_df['STATE_ABBR_TX'].equals(check_df['state_cd'])"
   ]
  },
  {
   "cell_type": "code",
   "execution_count": null,
   "id": "6bc13758",
   "metadata": {},
   "outputs": [],
   "source": [
    "check_df['STATE_ABBR_TX']==check_df['state_cd']"
   ]
  },
  {
   "cell_type": "code",
   "execution_count": null,
   "id": "c7bea6e0",
   "metadata": {},
   "outputs": [],
   "source": [
    "check_df[check_df['STATE_ABBR_TX']!=check_df['state_cd']][['STATE_ABBR_TX', 'state_cd']]"
   ]
  },
  {
   "cell_type": "code",
   "execution_count": null,
   "id": "0f5f8101",
   "metadata": {},
   "outputs": [],
   "source": []
  },
  {
   "cell_type": "code",
   "execution_count": null,
   "id": "3be79e6a",
   "metadata": {},
   "outputs": [],
   "source": []
  },
  {
   "cell_type": "code",
   "execution_count": null,
   "id": "7c19500a",
   "metadata": {},
   "outputs": [],
   "source": []
  },
  {
   "cell_type": "code",
   "execution_count": null,
   "id": "a846a9cb",
   "metadata": {},
   "outputs": [],
   "source": []
  },
  {
   "cell_type": "code",
   "execution_count": null,
   "id": "3c353154",
   "metadata": {},
   "outputs": [],
   "source": [
    "mico_outage_nbs = [\n",
    "    1455461, \n",
    "    1431681, \n",
    "    1475011, \n",
    "    2322101, \n",
    "    2188221, \n",
    "    2188221\n",
    "]\n",
    "\n",
    "mico_outg_rec_nbs = [\n",
    "    13330651, \n",
    "    13325577, \n",
    "    13329763, \n",
    "    13278397, \n",
    "    13183482, \n",
    "    13183481\n",
    "]"
   ]
  },
  {
   "cell_type": "code",
   "execution_count": null,
   "id": "8d342a61",
   "metadata": {},
   "outputs": [],
   "source": [
    "mico_outage_outg_map = dict(zip(mico_outg_rec_nbs, mico_outage_nbs))"
   ]
  },
  {
   "cell_type": "code",
   "execution_count": null,
   "id": "f1f9352a",
   "metadata": {},
   "outputs": [],
   "source": [
    "df_mp_outg['OUTAGE_NB'] = df_mp_outg['OUTG_REC_NB'].map(mico_outage_outg_map)"
   ]
  },
  {
   "cell_type": "code",
   "execution_count": null,
   "id": "faf21a47",
   "metadata": {},
   "outputs": [],
   "source": [
    "df1 = df_mp_outg.groupby(['OUTG_REC_NB', 'OUTAGE_NB']).apply(lambda x: 100*(x[x['technology_tx']=='AMI'].shape[0]/x.shape[0])).to_frame(name='%AMI')\n",
    "df1"
   ]
  },
  {
   "cell_type": "code",
   "execution_count": null,
   "id": "888b42c8",
   "metadata": {},
   "outputs": [],
   "source": [
    "# Some premises are listed in DOVS are simply not found in AMI\n",
    "print(f\"#PNs DOVS:            {df_outage['PREMISE_NB'].nunique()}\")\n",
    "print(f\"#PNs AMI using xfmrs: {df_mp_outg['prem_nb'].nunique()}\")"
   ]
  },
  {
   "cell_type": "code",
   "execution_count": null,
   "id": "eb32d530",
   "metadata": {},
   "outputs": [],
   "source": [
    "df_mp_outg.groupby(['OUTG_REC_NB', 'OUTAGE_NB']).apply(lambda x: print(x.name[0]))"
   ]
  },
  {
   "cell_type": "code",
   "execution_count": null,
   "id": "6a029d53",
   "metadata": {},
   "outputs": [],
   "source": [
    "df2 = df_mp_outg.groupby(['OUTG_REC_NB', 'OUTAGE_NB']).apply(\n",
    "    lambda x: len(set(df_outage[df_outage['OUTG_REC_NB']==x.name[0]]['PREMISE_NB'].unique().tolist()).difference(set(x['prem_nb'].unique().tolist())))\n",
    ").to_frame(name='# PNs missing')\n",
    "df2"
   ]
  },
  {
   "cell_type": "code",
   "execution_count": null,
   "id": "5e8fe0e1",
   "metadata": {},
   "outputs": [],
   "source": [
    "df3 = df_mp_outg.groupby(['OUTG_REC_NB', 'OUTAGE_NB']).apply(\n",
    "    lambda x: df_outage[df_outage['OUTG_REC_NB']==x.name[0]]['PREMISE_NB'].nunique()\n",
    ").to_frame(name='# PNs total')\n",
    "df3"
   ]
  },
  {
   "cell_type": "code",
   "execution_count": null,
   "id": "0f3346d6",
   "metadata": {},
   "outputs": [],
   "source": [
    "df12 = pd.merge(df1, df2, how='inner', left_index=True, right_index=True)\n",
    "df12"
   ]
  },
  {
   "cell_type": "code",
   "execution_count": null,
   "id": "f9afa588",
   "metadata": {},
   "outputs": [],
   "source": [
    "df123 = pd.merge(df12, df3, how='inner', left_index=True, right_index=True)\n",
    "df123"
   ]
  },
  {
   "cell_type": "code",
   "execution_count": null,
   "id": "2738364e",
   "metadata": {},
   "outputs": [],
   "source": []
  },
  {
   "cell_type": "code",
   "execution_count": null,
   "id": "dd1f8442",
   "metadata": {},
   "outputs": [],
   "source": [
    "# ami_outg_rec_nbs"
   ]
  },
  {
   "cell_type": "code",
   "execution_count": null,
   "id": "29d7c48f",
   "metadata": {},
   "outputs": [],
   "source": []
  },
  {
   "cell_type": "code",
   "execution_count": null,
   "id": "222f5dfc",
   "metadata": {},
   "outputs": [],
   "source": [
    "len(set(df_outage['PREMISE_NB'].unique().tolist()).difference(set(df_mp_outg['prem_nb'].unique().tolist())))"
   ]
  },
  {
   "cell_type": "code",
   "execution_count": null,
   "id": "69904cc8",
   "metadata": {},
   "outputs": [],
   "source": [
    "df_outage[df_outage['OUTG_REC_NB']==13183481]"
   ]
  },
  {
   "cell_type": "code",
   "execution_count": null,
   "id": "096777d6",
   "metadata": {},
   "outputs": [],
   "source": []
  },
  {
   "cell_type": "code",
   "execution_count": null,
   "id": "b9e80084",
   "metadata": {},
   "outputs": [],
   "source": [
    "# # Keep only trsf_pole_nbs with all meters of type AMI\n",
    "# df_mp_outg_ami = df_mp_outg.groupby(['trsf_pole_nb']).filter(lambda x: all(x['technology_tx']=='AMI'))\n",
    "\n",
    "# Keep on outages with all meters of typr AMI\n",
    "df_mp_outg_ami = df_mp_outg.groupby(['OUTG_REC_NB']).filter(lambda x: all(x['technology_tx']=='AMI'))"
   ]
  },
  {
   "cell_type": "code",
   "execution_count": null,
   "id": "ce34d6e7",
   "metadata": {},
   "outputs": [],
   "source": [
    "print(df_mp_outg.shape)\n",
    "print(df_mp_outg_ami.shape)"
   ]
  },
  {
   "cell_type": "code",
   "execution_count": null,
   "id": "57cbbd15",
   "metadata": {},
   "outputs": [],
   "source": [
    "ami_outg_rec_nbs"
   ]
  },
  {
   "cell_type": "code",
   "execution_count": null,
   "id": "9d895a93",
   "metadata": {},
   "outputs": [],
   "source": [
    "ami_outg_rec_nbs = df_mp_outg_ami['OUTG_REC_NB'].unique().tolist()\n",
    "df_outage_ami = df_outage[df_outage['OUTG_REC_NB'].isin(ami_outg_rec_nbs)]"
   ]
  },
  {
   "cell_type": "code",
   "execution_count": null,
   "id": "2272cfbd",
   "metadata": {},
   "outputs": [],
   "source": [
    "df_outage_ami_w_mp = DOVSOutages.merge_df_outage_with_mp(\n",
    "    df_outage=df_outage_ami.copy(), \n",
    "    df_mp=df_mp_outg_ami, \n",
    "    merge_on_outg=['OUTG_REC_NB', 'PREMISE_NB'], \n",
    "    merge_on_mp=['OUTG_REC_NB', 'prem_nb'], \n",
    "    cols_to_include_mp=None, \n",
    "    drop_cols = None, \n",
    "    rename_cols=None, \n",
    "    inplace=True\n",
    ")"
   ]
  },
  {
   "cell_type": "code",
   "execution_count": null,
   "id": "a2344a10",
   "metadata": {},
   "outputs": [],
   "source": [
    "df_outage_w_mp = DOVSOutages.merge_df_outage_with_mp(\n",
    "    df_outage=df_outage.copy(), \n",
    "    df_mp=df_mp_outg, \n",
    "    merge_on_outg=['OUTG_REC_NB', 'PREMISE_NB'], \n",
    "    merge_on_mp=['OUTG_REC_NB', 'prem_nb'], \n",
    "    cols_to_include_mp=None, \n",
    "    drop_cols = None, \n",
    "    rename_cols=None, \n",
    "    inplace=True\n",
    ")"
   ]
  },
  {
   "cell_type": "code",
   "execution_count": null,
   "id": "b05c9533",
   "metadata": {},
   "outputs": [],
   "source": [
    "df_outage_ami_w_mp=df_outage_w_mp"
   ]
  },
  {
   "cell_type": "code",
   "execution_count": null,
   "id": "e7abe362",
   "metadata": {},
   "outputs": [],
   "source": [
    "df_outage_ami_w_mp['OUTG_REC_NB'].nunique()"
   ]
  },
  {
   "cell_type": "code",
   "execution_count": null,
   "id": "c1a8e739",
   "metadata": {},
   "outputs": [],
   "source": [
    "df_outage_ami_w_mp"
   ]
  },
  {
   "cell_type": "code",
   "execution_count": null,
   "id": "e16d8520",
   "metadata": {},
   "outputs": [],
   "source": []
  },
  {
   "cell_type": "code",
   "execution_count": null,
   "id": "9192e183",
   "metadata": {},
   "outputs": [],
   "source": [
    "df_outage_ami_w_mp_slim = DOVSOutages.consolidate_df_outage(df_outage_ami_w_mp)"
   ]
  },
  {
   "cell_type": "code",
   "execution_count": null,
   "id": "47f47e9c",
   "metadata": {},
   "outputs": [],
   "source": [
    "df_outage_ami_w_mp_slim"
   ]
  },
  {
   "cell_type": "code",
   "execution_count": null,
   "id": "acdad16b",
   "metadata": {},
   "outputs": [],
   "source": []
  },
  {
   "cell_type": "code",
   "execution_count": null,
   "id": "bb11cf03",
   "metadata": {},
   "outputs": [],
   "source": [
    "df_outage_ami_w_mp_slim = DOVSOutages.set_search_time_in_outage_df(\n",
    "    df_outage=df_outage_ami_w_mp_slim, \n",
    "    search_time_half_window=pd.Timedelta('24 hours')\n",
    ")"
   ]
  },
  {
   "cell_type": "code",
   "execution_count": null,
   "id": "0d557855",
   "metadata": {},
   "outputs": [],
   "source": [
    "df_outage_ami_w_mp_slim"
   ]
  },
  {
   "cell_type": "code",
   "execution_count": null,
   "id": "3fbe5017",
   "metadata": {},
   "outputs": [],
   "source": []
  },
  {
   "cell_type": "code",
   "execution_count": null,
   "id": "17e909bc",
   "metadata": {},
   "outputs": [],
   "source": [
    "df_outage_ami_w_mp_slim['OUTG_REC_NB'].nunique()"
   ]
  },
  {
   "cell_type": "markdown",
   "id": "0dc1e2bf",
   "metadata": {},
   "source": [
    "## AMI NonVee"
   ]
  },
  {
   "cell_type": "code",
   "execution_count": null,
   "id": "fd290f55",
   "metadata": {},
   "outputs": [],
   "source": [
    "#-------------------------\n",
    "usg_split_to_CTEs=True\n",
    "df_construct_type=DFConstructType.kRunSqlQuery\n",
    "contstruct_df_args_ami=None\n",
    "addtnl_groupby_cols=['OUTG_REC_NB', 'trsf_pole_nb']\n",
    "\n",
    "cols_of_interest_ami = TableInfos.AMINonVee_TI.std_columns_of_interest\n",
    "batch_size=10\n",
    "verbose=True\n",
    "n_update=1"
   ]
  },
  {
   "cell_type": "code",
   "execution_count": null,
   "id": "7cb8446a",
   "metadata": {},
   "outputs": [],
   "source": [
    "# ami_sql_function_kwargs = dict(\n",
    "#     cols_of_interest=cols_of_interest_ami, \n",
    "#     df_outage=df_outage_ami_w_mp_slim, \n",
    "#     split_to_CTEs=usg_split_to_CTEs, \n",
    "#     join_mp_args=False, \n",
    "#     df_args = dict(\n",
    "#         addtnl_groupby_cols=addtnl_groupby_cols, \n",
    "#         mapping_to_ami={'PREMISE_NBS':'premise_nbs'}, \n",
    "#         is_df_consolidated=True\n",
    "#     ), \n",
    "#     field_to_split='df_outage', \n",
    "#     field_to_split_location_in_kwargs=['df_outage'], \n",
    "# #     save_and_dump=True, \n",
    "#     save_and_dump=False, \n",
    "#     sort_coll_to_split=True,\n",
    "#     batch_size=batch_size, verbose=verbose, n_update=n_update\n",
    "# )\n",
    "# # addtnl_ami_sql_function_kwargs = dict(\n",
    "# #     build_sql_function_kwargs=dict(opco=opcos)\n",
    "# # )\n",
    "# # ami_sql_function_kwargs = {**ami_sql_function_kwargs, \n",
    "# #                            **addtnl_ami_sql_function_kwargs}"
   ]
  },
  {
   "cell_type": "code",
   "execution_count": null,
   "id": "b51d06ca",
   "metadata": {},
   "outputs": [],
   "source": [
    "# start=time.time()\n",
    "# ami_nonvee = AMINonVee(\n",
    "#     df_construct_type=df_construct_type, \n",
    "#     contstruct_df_args = contstruct_df_args_ami, \n",
    "#     build_sql_function=AMINonVee_SQL.build_sql_usg_for_outages, \n",
    "#     build_sql_function_kwargs=ami_sql_function_kwargs, \n",
    "#     init_df_in_constructor=True, \n",
    "#     save_args=False\n",
    "# )\n",
    "# build_time = time.time()-start\n",
    "# print(build_time)"
   ]
  },
  {
   "cell_type": "code",
   "execution_count": null,
   "id": "e2e2509e",
   "metadata": {},
   "outputs": [],
   "source": []
  },
  {
   "cell_type": "code",
   "execution_count": null,
   "id": "267377c8",
   "metadata": {},
   "outputs": [],
   "source": [
    "ami_sql_function_kwargs = dict(\n",
    "    cols_of_interest=cols_of_interest_ami, \n",
    "    df_outage=df_outage_ami_w_mp_slim, \n",
    "    split_to_CTEs=usg_split_to_CTEs, \n",
    "    join_mp_args=False, \n",
    "    df_args = dict(\n",
    "        addtnl_groupby_cols=addtnl_groupby_cols, \n",
    "        mapping_to_ami={'PREMISE_NBS':'premise_nbs'}, \n",
    "        is_df_consolidated=True\n",
    "    ), \n",
    "    field_to_split='df_outage', \n",
    "    field_to_split_location_in_kwargs=['df_outage'], \n",
    "    save_and_dump=True,  \n",
    "    sort_coll_to_split=True,\n",
    "    batch_size=batch_size, verbose=verbose, n_update=n_update\n",
    ")\n",
    "# addtnl_ami_sql_function_kwargs = dict(\n",
    "#     build_sql_function_kwargs=dict(opco=opcos)\n",
    "# )\n",
    "# ami_sql_function_kwargs = {**ami_sql_function_kwargs, \n",
    "#                            **addtnl_ami_sql_function_kwargs}\n",
    "\n",
    "\n",
    "save_args = dict(\n",
    "    save_to_file=True, \n",
    "    save_dir = r'C:\\Users\\s346557\\Documents\\LocalData\\dovs_check\\forMico\\AMINonVee', \n",
    "    save_name=r'ami_nonvee.csv', \n",
    "    index=True\n",
    ")"
   ]
  },
  {
   "cell_type": "code",
   "execution_count": null,
   "id": "11ae67a3",
   "metadata": {},
   "outputs": [],
   "source": [
    "start=time.time()\n",
    "ami_nonvee = AMINonVee(\n",
    "    df_construct_type=df_construct_type, \n",
    "    contstruct_df_args = contstruct_df_args_ami, \n",
    "    build_sql_function=AMINonVee_SQL.build_sql_usg_for_outages, \n",
    "    build_sql_function_kwargs=ami_sql_function_kwargs, \n",
    "    init_df_in_constructor=True, \n",
    "    save_args=save_args\n",
    ")\n",
    "build_time = time.time()-start\n",
    "print(build_time)"
   ]
  },
  {
   "cell_type": "code",
   "execution_count": null,
   "id": "edf28c73",
   "metadata": {},
   "outputs": [],
   "source": []
  },
  {
   "cell_type": "markdown",
   "id": "1784e320",
   "metadata": {},
   "source": [
    "# AMI End Events"
   ]
  },
  {
   "cell_type": "code",
   "execution_count": null,
   "id": "3f997866",
   "metadata": {},
   "outputs": [],
   "source": [
    "#-------------------------\n",
    "usg_split_to_CTEs=True\n",
    "df_construct_type=DFConstructType.kRunSqlQuery\n",
    "contstruct_df_args_end_events=None\n",
    "addtnl_groupby_cols=['OUTG_REC_NB', 'trsf_pole_nb']\n",
    "\n",
    "cols_of_interest_end_dev_event = TableInfos.AMIEndEvents_TI.std_columns_of_interest\n",
    "batch_size=10\n",
    "verbose=True\n",
    "n_update=1"
   ]
  },
  {
   "cell_type": "code",
   "execution_count": null,
   "id": "4703c4d9",
   "metadata": {},
   "outputs": [],
   "source": [
    "end_events_sql_function_kwargs = dict(\n",
    "    cols_of_interest=cols_of_interest_end_dev_event, \n",
    "    df_outage=df_outage_ami_w_mp_slim, \n",
    "    split_to_CTEs=usg_split_to_CTEs, \n",
    "    join_mp_args=False, \n",
    "    df_args = dict(\n",
    "        addtnl_groupby_cols=addtnl_groupby_cols, \n",
    "        mapping_to_ami={'PREMISE_NBS':'premise_nbs'}, \n",
    "        is_df_consolidated=True\n",
    "    ), \n",
    "    field_to_split='df_outage', \n",
    "    field_to_split_location_in_kwargs=['df_outage'], \n",
    "    save_and_dump=True, \n",
    "    sort_coll_to_split=True,\n",
    "    batch_size=batch_size, verbose=verbose, n_update=n_update\n",
    ")\n",
    "# addtnl_end_events_sql_function_kwargs = dict(\n",
    "#     build_sql_function_kwargs=dict(opco=opcos)\n",
    "# )\n",
    "# end_events_sql_function_kwargs = {**end_events_sql_function_kwargs, \n",
    "#                                   **addtnl_end_events_sql_function_kwargs}\n",
    "\n",
    "end_events_save_args = dict(\n",
    "    save_to_file=True, \n",
    "    save_dir = r'C:\\Users\\s346557\\Documents\\LocalData\\dovs_check\\forMico\\EndEvents', \n",
    "    save_name=r'end_events.csv', \n",
    "    index=True\n",
    ")"
   ]
  },
  {
   "cell_type": "code",
   "execution_count": null,
   "id": "29de3edd",
   "metadata": {},
   "outputs": [],
   "source": [
    "start=time.time()\n",
    "end_events = AMIEndEvents(\n",
    "    df_construct_type=df_construct_type, \n",
    "    contstruct_df_args = contstruct_df_args_end_events, \n",
    "    build_sql_function=AMIEndEvents_SQL.build_sql_end_events_for_outages, \n",
    "    build_sql_function_kwargs=end_events_sql_function_kwargs, \n",
    "    init_df_in_constructor=True, \n",
    "    save_args=end_events_save_args\n",
    ")\n",
    "end_events_build_time = time.time()-start"
   ]
  },
  {
   "cell_type": "code",
   "execution_count": null,
   "id": "24979c0d",
   "metadata": {},
   "outputs": [],
   "source": []
  },
  {
   "cell_type": "code",
   "execution_count": null,
   "id": "9d188e30",
   "metadata": {},
   "outputs": [],
   "source": []
  },
  {
   "cell_type": "code",
   "execution_count": null,
   "id": "6b0f26ca",
   "metadata": {},
   "outputs": [],
   "source": []
  },
  {
   "cell_type": "code",
   "execution_count": null,
   "id": "1d8e4802",
   "metadata": {},
   "outputs": [],
   "source": []
  },
  {
   "cell_type": "code",
   "execution_count": null,
   "id": "400323f9",
   "metadata": {},
   "outputs": [],
   "source": []
  },
  {
   "cell_type": "code",
   "execution_count": null,
   "id": "07c6ba4d",
   "metadata": {},
   "outputs": [],
   "source": []
  }
 ],
 "metadata": {
  "kernelspec": {
   "display_name": "Python 3 (ipykernel)",
   "language": "python",
   "name": "python3"
  },
  "language_info": {
   "codemirror_mode": {
    "name": "ipython",
    "version": 3
   },
   "file_extension": ".py",
   "mimetype": "text/x-python",
   "name": "python",
   "nbconvert_exporter": "python",
   "pygments_lexer": "ipython3",
   "version": "3.9.18"
  }
 },
 "nbformat": 4,
 "nbformat_minor": 5
}
