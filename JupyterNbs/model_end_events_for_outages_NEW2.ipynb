{
 "cells": [
  {
   "cell_type": "code",
   "execution_count": null,
   "id": "fb520489",
   "metadata": {},
   "outputs": [],
   "source": [
    "# %run ./model_end_events_for_outages_METHODS.ipynb"
   ]
  },
  {
   "cell_type": "code",
   "execution_count": null,
   "id": "b5755605",
   "metadata": {},
   "outputs": [],
   "source": [
    "from importlib import reload\n",
    "#reload(Utilities)\n",
    "# NOTE: To reload a class imported as, e.g., \n",
    "# from module import class\n",
    "# One must call:\n",
    "#   1. import module\n",
    "#   2. reload module\n",
    "#   3. from module import class\n",
    "\n",
    "import sys, os\n",
    "import re\n",
    "import string\n",
    "from pathlib import Path\n",
    "import json\n",
    "import pickle\n",
    "import joblib\n",
    "\n",
    "import pandas as pd\n",
    "import numpy as np\n",
    "from pandas.api.types import is_numeric_dtype, is_datetime64_dtype, is_timedelta64_dtype\n",
    "from scipy import stats\n",
    "import datetime\n",
    "import time\n",
    "from natsort import natsorted, ns, natsort_keygen\n",
    "from packaging import version\n",
    "import copy\n",
    "from functools import reduce\n",
    "\n",
    "import itertools\n",
    "\n",
    "import pyodbc\n",
    "#---------------------------------------------------------------------\n",
    "import matplotlib as mpl\n",
    "import matplotlib.pyplot as plt\n",
    "import seaborn as sns\n",
    "from matplotlib.backends.backend_pdf import PdfPages\n",
    "import matplotlib.patches as mpatches\n",
    "from matplotlib.lines import Line2D\n",
    "import matplotlib.ticker as ticker\n",
    "from matplotlib import dates\n",
    "import matplotlib.colors as mcolors\n",
    "import matplotlib.cm as cm #e.g. for cmap=cm.jet\n",
    "#---------------------------------------------------------------------\n",
    "sys.path.insert(0, os.path.realpath('..'))\n",
    "import Utilities_config\n",
    "#-----\n",
    "from MeterPremise import MeterPremise\n",
    "from EEMSP import EEMSP\n",
    "#-----\n",
    "from AMI_SQL import AMI_SQL\n",
    "from AMINonVee_SQL import AMINonVee_SQL\n",
    "from AMIEndEvents_SQL import AMIEndEvents_SQL\n",
    "from AMIUsgInst_SQL import AMIUsgInst_SQL\n",
    "from DOVSOutages_SQL import DOVSOutages_SQL\n",
    "#-----\n",
    "from GenAn import GenAn\n",
    "from AMINonVee import AMINonVee\n",
    "from AMIEndEvents import AMIEndEvents\n",
    "from MECPODf import MECPODf\n",
    "from MECPOAn import MECPOAn\n",
    "from MECPOCollection import MECPOCollection\n",
    "from AMIUsgInst import AMIUsgInst\n",
    "from DOVSOutages import DOVSOutages\n",
    "from OutageModeler import OutageModeler\n",
    "#---------------------------------------------------------------------\n",
    "sys.path.insert(0, Utilities_config.get_sql_aids_dir())\n",
    "import Utilities_sql\n",
    "import TableInfos\n",
    "from TableInfos import TableInfo\n",
    "from SQLElement import SQLElement\n",
    "from SQLElementsCollection import SQLElementsCollection\n",
    "from SQLSelect import SQLSelectElement, SQLSelect\n",
    "from SQLFrom import SQLFrom\n",
    "from SQLWhere import SQLWhereElement, SQLWhere\n",
    "from SQLJoin import SQLJoin, SQLJoinCollection\n",
    "from SQLGroupBy import SQLGroupByElement, SQLGroupBy\n",
    "from SQLHaving import SQLHaving\n",
    "from SQLOrderBy import SQLOrderByElement, SQLOrderBy\n",
    "from SQLQuery import SQLQuery\n",
    "from SQLQueryGeneric import SQLQueryGeneric\n",
    "#---------------------------------------------------------------------\n",
    "#sys.path.insert(0, os.path.join(os.path.realpath('..'), 'Utilities'))\n",
    "sys.path.insert(0, Utilities_config.get_utilities_dir())\n",
    "import Utilities\n",
    "import Utilities_df\n",
    "from Utilities_df import DFConstructType\n",
    "import Utilities_dt\n",
    "import Plot_General\n",
    "import Plot_Box_sns\n",
    "import Plot_Hist\n",
    "import Plot_Bar\n",
    "import GrubbsTest\n",
    "import DataFrameSubsetSlicer\n",
    "from DataFrameSubsetSlicer import DataFrameSubsetSlicer as DFSlicer\n",
    "from DataFrameSubsetSlicer import DataFrameSubsetSingleSlicer as DFSingleSlicer\n",
    "from CustomJSON import CustomEncoder, CustomWriter"
   ]
  },
  {
   "cell_type": "code",
   "execution_count": null,
   "id": "66d8ba61",
   "metadata": {},
   "outputs": [],
   "source": [
    "from sklearn.preprocessing import OrdinalEncoder"
   ]
  },
  {
   "cell_type": "code",
   "execution_count": null,
   "id": "68f7b1f1",
   "metadata": {},
   "outputs": [],
   "source": [
    "from sklearn.base import BaseEstimator\n",
    "from sklearn.preprocessing import StandardScaler\n",
    "from sklearn.model_selection import train_test_split, GroupShuffleSplit, GridSearchCV, RandomizedSearchCV, cross_val_score, cross_val_predict\n",
    "from sklearn import metrics\n",
    "from sklearn.metrics import confusion_matrix, ConfusionMatrixDisplay, accuracy_score, precision_score, recall_score, f1_score, precision_recall_curve, roc_curve\n",
    "\n",
    "from sklearn.linear_model import LogisticRegression, SGDClassifier\n",
    "from sklearn.ensemble import RandomForestClassifier\n",
    "from sklearn.decomposition import PCA\n",
    "from sklearn import preprocessing\n",
    "\n",
    "import tensorflow as tf\n",
    "from tensorflow import keras\n",
    "\n",
    "import scipy\n",
    "\n",
    "from sklearn.ensemble import AdaBoostClassifier\n",
    "from sklearn.tree import DecisionTreeClassifier"
   ]
  },
  {
   "cell_type": "code",
   "execution_count": null,
   "id": "e9b54d8f-f4d5-4f39-87b4-ee153ef9348d",
   "metadata": {},
   "outputs": [],
   "source": [
    "from KMeansWeightedConstrained import KMeansWeightedConstrained"
   ]
  },
  {
   "cell_type": "code",
   "execution_count": null,
   "id": "ebb0c078-119e-4f5c-a352-fdf6e1a6af5f",
   "metadata": {},
   "outputs": [],
   "source": [
    "from shapely.geometry import Point\n",
    "import geopandas as gpd\n",
    "from geopandas import GeoDataFrame"
   ]
  },
  {
   "cell_type": "markdown",
   "id": "33459065",
   "metadata": {},
   "source": [
    "# ---------------------------------------------------------------------------------------------------"
   ]
  },
  {
   "cell_type": "code",
   "execution_count": null,
   "id": "54c7c164-2c10-4a7d-8c66-588a77d0d28a",
   "metadata": {},
   "outputs": [],
   "source": [
    "trsf_pole_df_outg = pd.read_pickle(r'C:\\Users\\s346557\\Documents\\LocalData\\dovs_and_end_events_data\\20231201\\20230401_20230930\\Outages\\trsf_location_info_df.pkl')\n",
    "trsf_pole_df_otbl = pd.read_pickle(r'C:\\Users\\s346557\\Documents\\LocalData\\dovs_and_end_events_data\\20231201\\20230401_20230930\\OutgXfmrBaseline\\trsf_location_info_df.pkl')\n",
    "trsf_pole_df_prbl = pd.read_pickle(r'C:\\Users\\s346557\\Documents\\LocalData\\dovs_and_end_events_data\\20231201\\20230401_20230930\\PristineBaseline\\trsf_location_info_df.pkl')\n",
    "#-------------------------\n",
    "# trsf_pole_df = pd.concat([trsf_pole_df_outg, trsf_pole_df_otbl, trsf_pole_df_prbl])\n",
    "trsf_pole_df = trsf_pole_df_outg\n",
    "trsf_pole_df = trsf_pole_df.drop_duplicates()"
   ]
  },
  {
   "cell_type": "code",
   "execution_count": null,
   "id": "0dfcce14-484e-43ff-aff0-b93973bca17a",
   "metadata": {},
   "outputs": [],
   "source": [
    "trsf_pole_df"
   ]
  },
  {
   "cell_type": "code",
   "execution_count": null,
   "id": "55784996-72f8-49c5-b0ce-20487a58ce19",
   "metadata": {},
   "outputs": [],
   "source": [
    "zip_pop_df = pd.read_csv(r'C:\\Users\\s346557\\Downloads\\DECENNIALDHC2020.P1_2024-04-01T151417\\DECENNIALDHC2020.P1-Data.csv')\n",
    "zip_pop_df = zip_pop_df.iloc[1:][['NAME', 'P1_001N']].copy()\n",
    "zip_pop_df['zip'] = zip_pop_df['NAME'].apply(lambda x: Utilities.find_and_replace_in_string(x, '.* (\\d*)', r'\\1'))\n",
    "zip_pop_df = zip_pop_df.rename(columns={'P1_001N':'population'}).drop(columns=['NAME'])\n",
    "zip_pop_df = Utilities_df.convert_col_type(df=zip_pop_df, column='population', to_type='int')\n",
    "zip_pop_df['zip_as_int'] = zip_pop_df['zip'].copy()\n",
    "zip_pop_df = Utilities_df.convert_col_type(df=zip_pop_df, column='zip_as_int', to_type='int')\n",
    "#-------------------------\n",
    "zip_loc_df = pd.read_pickle(r'C:\\Users\\s346557\\Downloads\\2023_Gaz_zcta_national\\zip_lat_long_df.pkl')\n",
    "#-------------------------\n",
    "zip_pop_df = pd.merge(\n",
    "    zip_pop_df, \n",
    "    zip_loc_df, \n",
    "    how='left', \n",
    "    left_on=['zip'], \n",
    "    right_on=['zip']\n",
    ")"
   ]
  },
  {
   "cell_type": "code",
   "execution_count": null,
   "id": "86b1381d-6426-4d76-b276-3989b6a2cb61",
   "metadata": {},
   "outputs": [],
   "source": [
    "zips_not_found = list(set(trsf_pole_df['zip']).difference(set(zip_pop_df['zip'])))\n",
    "print(f'#zips in trsf_pole_df not found: {len(zips_not_found)}')"
   ]
  },
  {
   "cell_type": "code",
   "execution_count": null,
   "id": "201b1c97-f70c-4891-8824-9eed2f792d66",
   "metadata": {},
   "outputs": [],
   "source": [
    "zips_not_found"
   ]
  },
  {
   "cell_type": "code",
   "execution_count": null,
   "id": "d8468a88-d7ce-431a-8f59-3ba0bebbdd7e",
   "metadata": {},
   "outputs": [],
   "source": []
  },
  {
   "cell_type": "code",
   "execution_count": null,
   "id": "7b247936-1e8e-4d01-88a5-c1de00afb964",
   "metadata": {},
   "outputs": [],
   "source": []
  },
  {
   "cell_type": "code",
   "execution_count": null,
   "id": "67b29d2d-d444-4d48-9f9b-001465f9c081",
   "metadata": {},
   "outputs": [],
   "source": []
  },
  {
   "cell_type": "markdown",
   "id": "d21fad56-7db5-4e5f-97e3-faf9596acac7",
   "metadata": {},
   "source": [
    "# I want them combined with (in order or importance)\n",
    "1. other zips of approximately equal size\n",
    "2. other zips nearby (simply judged by having similar zip code numbers)"
   ]
  },
  {
   "cell_type": "code",
   "execution_count": null,
   "id": "03136209-96c7-42cb-8439-241c5d3e4deb",
   "metadata": {},
   "outputs": [],
   "source": []
  },
  {
   "cell_type": "code",
   "execution_count": null,
   "id": "7fb9e92e-53ec-415d-b172-02016f2caf4e",
   "metadata": {},
   "outputs": [],
   "source": []
  },
  {
   "cell_type": "code",
   "execution_count": null,
   "id": "0abe19cb-7d79-420e-8b4d-edd9e0a4e87a",
   "metadata": {},
   "outputs": [],
   "source": [
    "print(zip_pop_df['zip'].nunique())\n",
    "print(trsf_pole_df['zip'].nunique())"
   ]
  },
  {
   "cell_type": "code",
   "execution_count": null,
   "id": "e06b9671-50e5-4f0d-91ad-d6db6496345e",
   "metadata": {},
   "outputs": [],
   "source": [
    "# zip_pop_df = zip_pop_df[zip_pop_df['zip'].isin(trsf_pole_df['zip'].unique())].copy()\n",
    "zip_pop_df = zip_pop_df[zip_pop_df['zip'].isin(trsf_pole_df_outg['zip'].unique())].copy()"
   ]
  },
  {
   "cell_type": "code",
   "execution_count": null,
   "id": "363525ea-0ae8-4ff3-82ef-68b227f2d713",
   "metadata": {},
   "outputs": [],
   "source": [
    "zip_pop_df"
   ]
  },
  {
   "cell_type": "code",
   "execution_count": null,
   "id": "aed0e558-ab95-4cf6-903d-6d6b473fa23d",
   "metadata": {},
   "outputs": [],
   "source": []
  },
  {
   "cell_type": "code",
   "execution_count": null,
   "id": "e2ae57cf-3c3c-4fd0-9c60-61b3e2a01b67",
   "metadata": {},
   "outputs": [],
   "source": []
  },
  {
   "cell_type": "code",
   "execution_count": null,
   "id": "6a675b4e-58ef-4df4-b3cc-0211e117146d",
   "metadata": {},
   "outputs": [],
   "source": [
    "clf_4 = KMeansWeightedConstrained(\n",
    "    n_clusters=50,\n",
    "    size_min=50000,\n",
    "    size_max=200000,\n",
    "    random_state=0\n",
    ")\n",
    "labels_4 = clf_4.fit_predict(zip_pop_df[['zip_as_int', 'lat', 'long']].to_numpy(), zip_pop_df['population'].to_numpy())\n",
    "#-------------------------\n",
    "assert(zip_pop_df.shape[0]==len(labels_4))\n",
    "zip_pop_df['cluster_4'] = labels_4\n",
    "cluster_pops_4 = zip_pop_df.groupby(['cluster_4'])['population'].sum()"
   ]
  },
  {
   "cell_type": "code",
   "execution_count": null,
   "id": "149120ae-c744-4b13-837e-390f3096d742",
   "metadata": {},
   "outputs": [],
   "source": [
    "cluster_pops_4"
   ]
  },
  {
   "cell_type": "code",
   "execution_count": null,
   "id": "ec8cbdaa-68cd-4ed3-95f3-f99e0cbd90aa",
   "metadata": {},
   "outputs": [],
   "source": [
    "print(cluster_pops_4.min())\n",
    "print(cluster_pops_4.max())\n",
    "print()"
   ]
  },
  {
   "cell_type": "code",
   "execution_count": null,
   "id": "3513c558-f265-4a01-b53c-918cd2aca2ef",
   "metadata": {},
   "outputs": [],
   "source": []
  },
  {
   "cell_type": "code",
   "execution_count": null,
   "id": "ff7d0b3d-8c8c-4e18-bc0c-cbd41e3a46c4",
   "metadata": {},
   "outputs": [],
   "source": [
    "clf_5 = KMeansWeightedConstrained(\n",
    "    n_clusters=50,\n",
    "    size_min=50000,\n",
    "    size_max=200000,\n",
    "    random_state=0\n",
    ")\n",
    "labels_5 = clf_5.fit_predict(zip_pop_df[['lat', 'long']].to_numpy(), zip_pop_df['population'].to_numpy())\n",
    "#-------------------------\n",
    "assert(zip_pop_df.shape[0]==len(labels_5))\n",
    "zip_pop_df['cluster_5'] = labels_5\n",
    "cluster_pops_5= zip_pop_df.groupby(['cluster_5'])['population'].sum()"
   ]
  },
  {
   "cell_type": "code",
   "execution_count": null,
   "id": "356a44e2-9a3d-4f22-88a9-615ec1c95d11",
   "metadata": {},
   "outputs": [],
   "source": [
    "cluster_pops_5"
   ]
  },
  {
   "cell_type": "code",
   "execution_count": null,
   "id": "d7432a2a-c829-48db-a507-a0eb5afe2fb1",
   "metadata": {},
   "outputs": [],
   "source": [
    "print(cluster_pops_4.min())\n",
    "print(cluster_pops_4.max())\n",
    "print()\n",
    "print(cluster_pops_5.min())\n",
    "print(cluster_pops_5.max())\n",
    "print()"
   ]
  },
  {
   "cell_type": "code",
   "execution_count": null,
   "id": "c637d76f-d681-4c40-b5ea-7fdd6b08256c",
   "metadata": {},
   "outputs": [],
   "source": []
  },
  {
   "cell_type": "code",
   "execution_count": null,
   "id": "a5fdcd20-ac52-4a8e-aeb1-c89e79902d34",
   "metadata": {},
   "outputs": [],
   "source": []
  },
  {
   "cell_type": "code",
   "execution_count": null,
   "id": "862d056c-cf94-4d8d-a133-cc18b88f3d03",
   "metadata": {},
   "outputs": [],
   "source": [
    "us_shp_path = r'C:\\Users\\s346557\\Downloads\\tl_2023_us_state\\tl_2023_us_state.shp'\n",
    "us_df = gpd.read_file(us_shp_path)\n",
    "us_df = us_df.to_crs(\"EPSG:4326\")\n",
    "#-----\n",
    "non_continental = ['HI','VI','MP','GU','AK','AS','PR']\n",
    "us49 = us_df[~us_df['STUSPS'].isin(non_continental)].copy()\n",
    "us49.plot()"
   ]
  },
  {
   "cell_type": "code",
   "execution_count": null,
   "id": "fa026b84-28fc-45d8-ae6f-ae73caee71c0",
   "metadata": {},
   "outputs": [],
   "source": [
    "us_zcta_path = r'C:\\Users\\s346557\\Downloads\\tl_2023_us_zcta520\\tl_2023_us_zcta520.shp'\n",
    "us_zcta_df = gpd.read_file(us_zcta_path)\n",
    "us_zcta_df = us_zcta_df.to_crs(\"EPSG:4326\")\n",
    "#-----\n",
    "us_zcta_df = Utilities_df.convert_col_type(df=us_zcta_df, column='INTPTLAT20', to_type=float)\n",
    "us_zcta_df = Utilities_df.convert_col_type(df=us_zcta_df, column='INTPTLON20', to_type=float)\n"
   ]
  },
  {
   "cell_type": "code",
   "execution_count": null,
   "id": "3d6200fb-a1b4-4427-8b5b-06904a638a12",
   "metadata": {},
   "outputs": [],
   "source": []
  },
  {
   "cell_type": "markdown",
   "id": "473f790d-88d1-478f-b0c6-3cfe8d867a41",
   "metadata": {},
   "source": [
    "# Below, need to \n",
    "Include more assertion restrictions regarding zip_pop_df, us_zcta_df, and states_shp_df\n",
    "I need a better understanding of us_zcta_df, and states_shp_df before this is possible"
   ]
  },
  {
   "cell_type": "code",
   "execution_count": null,
   "id": "2b8fdd8a-8005-42d5-8d48-ed9180bbb100",
   "metadata": {},
   "outputs": [],
   "source": [
    "import random\n",
    "import geopandas as gpd\n",
    "def draw_zip_groups(\n",
    "    zip_pop_df, \n",
    "    us_zcta_df, \n",
    "    states_shp_df, \n",
    "    n_colors           = 25, \n",
    "    draw_hatches       = True, \n",
    "    dense_only_hatches = True, \n",
    "    zip_col            = 'zip', \n",
    "    cluster_col        = 'cluster_5', \n",
    "    geoid20_col        = 'GEOID20'\n",
    "):\n",
    "    r\"\"\"\n",
    "    states_shp_df:\n",
    "        Should be a GeoPandas DF take from shape file (I'm super new to GeoPandas, so I don't have a great grasp on vernacular).\n",
    "        e.g., from development, I used (the tl_2023_us_state.shp was downloaded from US Census Bureau or whoever)\n",
    "            us_shp_path = r'C:\\Users\\s346557\\Downloads\\tl_2023_us_state\\tl_2023_us_state.shp'\n",
    "            us_df = gpd.read_file(us_shp_path)\n",
    "            us_df = us_df.to_crs(\"EPSG:4326\")\n",
    "            states_shp_df = us_df[us_df['STUSPS']=='OH']\n",
    "\n",
    "    draw_hatches:\n",
    "        Toss up whether True or False should be default.\n",
    "        False is simpler in appearance, but colors most likely repeat, so, without the hatches it is\n",
    "          sometimes difficult to differentiate groups (although, groups are usually clustered in space, so, \n",
    "          although group colors may be repeated, the two clusters should typically be distinguishable in space)\n",
    "        True is a little more complicated in appearance, but groups should be more distinguishable as two groups sharing\n",
    "          the same color/hatch combo is much more unlikely than two groups sharing the same color\n",
    "    \"\"\"\n",
    "    #-------------------------\n",
    "    colors  = Plot_General.get_standard_colors( n_colors   = n_colors)\n",
    "    hatches = Plot_General.get_standard_hatches(dense_only = dense_only_hatches)\n",
    "    #-----\n",
    "    if zip_pop_df[cluster_col].nunique() > len(colors):\n",
    "        colors  = random.choices(colors,  k=zip_pop_df[cluster_col].nunique())\n",
    "    hatches = random.choices(hatches, k=zip_pop_df[cluster_col].nunique())\n",
    "    #-------------------------\n",
    "    fig, ax = Plot_General.default_subplots()\n",
    "    states_shp_df.boundary.plot(ax=ax)\n",
    "    #-----\n",
    "    for i,clstr_i in enumerate(natsorted(zip_pop_df[cluster_col].unique())):\n",
    "        zips_i = zip_pop_df[zip_pop_df[cluster_col]==clstr_i][zip_col].unique()\n",
    "        df_i   = us_zcta_df[us_zcta_df[geoid20_col].isin(zips_i)]\n",
    "        color_i = colors[i]\n",
    "        hatch_i = hatches[i]\n",
    "        if draw_hatches:\n",
    "            # When hatches are included for this plot, I find it best to have the hatches in white and boundaries in black.\n",
    "            # This separation requires the use of df_i.plot and df_i.boundary.plot\n",
    "            df_i.plot(ax=ax, color=color_i, hatch=hatch_i, edgecolor='white', linewidth=0.5)\n",
    "            df_i.boundary.plot(ax=ax, color='black', linewidth=0.5)\n",
    "        else:\n",
    "            df_i.plot(ax=ax, color=color_i, hatch=None, edgecolor='white', linewidth=0.5)\n",
    "    #-------------------------\n",
    "    return fig, ax"
   ]
  },
  {
   "cell_type": "code",
   "execution_count": null,
   "id": "b07968cf-f494-4edc-8bc4-68ea17cb4adb",
   "metadata": {},
   "outputs": [],
   "source": [
    "fig, ax = draw_zip_groups(\n",
    "    zip_pop_df, \n",
    "    us_zcta_df, \n",
    "    states_shp_df      = us_df[us_df['STUSPS']=='OH'], \n",
    "    draw_hatches       = True, \n",
    ")"
   ]
  },
  {
   "cell_type": "code",
   "execution_count": null,
   "id": "4889552b-7155-42d5-8d87-d34b31a97a74",
   "metadata": {},
   "outputs": [],
   "source": [
    "fig, ax = draw_zip_groups(\n",
    "    zip_pop_df, \n",
    "    us_zcta_df, \n",
    "    states_shp_df      = us_df[us_df['STUSPS']=='OH'], \n",
    "    draw_hatches       = False, \n",
    ")"
   ]
  },
  {
   "cell_type": "code",
   "execution_count": null,
   "id": "0d7f770e-be75-4259-9f95-b9d62e175815",
   "metadata": {},
   "outputs": [],
   "source": [
    "zip_pop_df"
   ]
  },
  {
   "cell_type": "code",
   "execution_count": null,
   "id": "73bf7d2f-7411-4f62-9221-467c0d438727",
   "metadata": {},
   "outputs": [],
   "source": []
  },
  {
   "cell_type": "code",
   "execution_count": null,
   "id": "d21b80aa-c88c-4ec2-979a-3ecaeebf6410",
   "metadata": {},
   "outputs": [],
   "source": []
  },
  {
   "cell_type": "code",
   "execution_count": null,
   "id": "1671c9f7-bcce-470a-b226-6e159f010cc0",
   "metadata": {},
   "outputs": [],
   "source": [
    "zip_pop_df.groupby(['cluster_5']).size()"
   ]
  },
  {
   "cell_type": "code",
   "execution_count": null,
   "id": "2441bc9a-faed-45b8-beb2-fbbdfd284190",
   "metadata": {},
   "outputs": [],
   "source": [
    "zip_pop_df.groupby(['cluster_5'])['zip'].agg(list)"
   ]
  },
  {
   "cell_type": "code",
   "execution_count": null,
   "id": "7b84acdc-78ab-40b7-9be1-69655226e634",
   "metadata": {},
   "outputs": [],
   "source": [
    "zip_pop_df.groupby(['cluster_5'])['population'].sum()"
   ]
  },
  {
   "cell_type": "code",
   "execution_count": null,
   "id": "f7f29b83-e81e-404c-9af8-6d4eeb418e68",
   "metadata": {},
   "outputs": [],
   "source": [
    "zip_pop_df.groupby(['cluster_5'])['zip'].agg(list)[2]"
   ]
  },
  {
   "cell_type": "code",
   "execution_count": null,
   "id": "750c0170-c715-4920-8155-7b9aeb855ef2",
   "metadata": {},
   "outputs": [],
   "source": []
  },
  {
   "cell_type": "code",
   "execution_count": null,
   "id": "3fd62ae9-7c0e-4f2e-b0f8-0aa7b04a85a8",
   "metadata": {},
   "outputs": [],
   "source": [
    "# zip_pop_df.to_pickle(r'C:\\Users\\s346557\\Downloads\\zip_pop_df.pkl')"
   ]
  },
  {
   "cell_type": "code",
   "execution_count": null,
   "id": "6d237a73-3a4c-40c1-bc54-ed2c5454b9e0",
   "metadata": {},
   "outputs": [],
   "source": []
  },
  {
   "cell_type": "code",
   "execution_count": null,
   "id": "1644ed0b-bbfe-4604-89cc-04e2b6ce239a",
   "metadata": {},
   "outputs": [],
   "source": []
  }
 ],
 "metadata": {
  "kernelspec": {
   "display_name": "Python 3 (ipykernel)",
   "language": "python",
   "name": "python3"
  },
  "language_info": {
   "codemirror_mode": {
    "name": "ipython",
    "version": 3
   },
   "file_extension": ".py",
   "mimetype": "text/x-python",
   "name": "python",
   "nbconvert_exporter": "python",
   "pygments_lexer": "ipython3",
   "version": "3.11.7"
  }
 },
 "nbformat": 4,
 "nbformat_minor": 5
}
