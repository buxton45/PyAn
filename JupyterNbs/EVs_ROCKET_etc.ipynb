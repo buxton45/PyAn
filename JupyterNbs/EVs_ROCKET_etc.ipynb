{
 "cells": [
  {
   "cell_type": "code",
   "execution_count": 1,
   "id": "444718d9",
   "metadata": {},
   "outputs": [],
   "source": [
    "from importlib import reload\n",
    "#reload(Utilities)\n",
    "#reload(clm)\n",
    "\n",
    "import sys, os\n",
    "import re\n",
    "\n",
    "import pandas as pd\n",
    "import numpy as np\n",
    "from pandas.api.types import is_numeric_dtype, is_datetime64_dtype, is_timedelta64_dtype\n",
    "from scipy import stats\n",
    "import datetime\n",
    "import time\n",
    "from natsort import natsorted, ns\n",
    "from packaging import version\n",
    "\n",
    "import itertools\n",
    "\n",
    "import pyodbc\n",
    "#---------------------------------------------------------------------\n",
    "sys.path.insert(0, os.path.realpath('..'))\n",
    "import Utilities_config\n",
    "#-----\n",
    "import CommonLearningMethods as clm\n",
    "#-----\n",
    "from MeterPremise import MeterPremise\n",
    "#-----\n",
    "from AMI_SQL import AMI_SQL\n",
    "from AMINonVee_SQL import AMINonVee_SQL\n",
    "from AMIEndEvents_SQL import AMIEndEvents_SQL\n",
    "from AMIUsgInst_SQL import AMIUsgInst_SQL\n",
    "from DOVSOutages_SQL import DOVSOutages_SQL\n",
    "#-----\n",
    "from GenAn import GenAn\n",
    "from AMINonVee import AMINonVee\n",
    "from AMIEndEvents import AMIEndEvents\n",
    "from AMIUsgInst import AMIUsgInst\n",
    "from DOVSOutages import DOVSOutages\n",
    "#---------------------------------------------------------------------\n",
    "import matplotlib as mpl\n",
    "import matplotlib.pyplot as plt\n",
    "import seaborn as sns\n",
    "from matplotlib.backends.backend_pdf import PdfPages\n",
    "import matplotlib.patches as mpatches\n",
    "from matplotlib.lines import Line2D\n",
    "import matplotlib.ticker as ticker\n",
    "from matplotlib import dates\n",
    "#---------------------------------------------------------------------\n",
    "sys.path.insert(0, Utilities_config.get_sql_aids_dir())\n",
    "import Utilities_sql\n",
    "import TableInfos\n",
    "from TableInfos import TableInfo\n",
    "from SQLElement import SQLElement\n",
    "from SQLElementsCollection import SQLElementsCollection\n",
    "from SQLSelect import SQLSelectElement, SQLSelect\n",
    "from SQLFrom import SQLFrom\n",
    "from SQLWhere import SQLWhereElement, SQLWhere\n",
    "from SQLJoin import SQLJoin, SQLJoinCollection\n",
    "from SQLGroupBy import SQLGroupByElement, SQLGroupBy\n",
    "from SQLHaving import SQLHaving\n",
    "from SQLOrderBy import SQLOrderByElement, SQLOrderBy\n",
    "from SQLQuery import SQLQuery\n",
    "from SQLQueryGeneric import SQLQueryGeneric\n",
    "#---------------------------------------------------------------------\n",
    "sys.path.insert(0, Utilities_config.get_utilities_dir())\n",
    "import Utilities\n",
    "import Utilities_df\n",
    "import Utilities_dt\n",
    "from Utilities_df import DFConstructType\n",
    "import Plot_General\n",
    "import Plot_Box_sns\n",
    "import GrubbsTest"
   ]
  },
  {
   "cell_type": "code",
   "execution_count": null,
   "id": "8c7f1876",
   "metadata": {},
   "outputs": [],
   "source": []
  },
  {
   "cell_type": "code",
   "execution_count": null,
   "id": "8b7d9969",
   "metadata": {},
   "outputs": [],
   "source": [
    "from sktime.datatypes._panel._convert import from_2d_array_to_nested\n",
    "from sklearn.metrics import classification_report,accuracy_score,precision_score,recall_score,confusion_matrix, ConfusionMatrixDisplay\n",
    "import warnings\n",
    "warnings.filterwarnings('ignore')"
   ]
  },
  {
   "cell_type": "code",
   "execution_count": null,
   "id": "4b45c107",
   "metadata": {},
   "outputs": [],
   "source": [
    "train = pd.read_csv(r'C:\\Users\\s346557\\Downloads\\exoTrain.csv')\n",
    "test = pd.read_csv(r'C:\\Users\\s346557\\Downloads\\exoTest.csv')"
   ]
  },
  {
   "cell_type": "code",
   "execution_count": null,
   "id": "9f4c21b1",
   "metadata": {},
   "outputs": [],
   "source": [
    "train.head()"
   ]
  },
  {
   "cell_type": "code",
   "execution_count": null,
   "id": "d9b4553a",
   "metadata": {},
   "outputs": [],
   "source": [
    "test.head()"
   ]
  },
  {
   "cell_type": "code",
   "execution_count": null,
   "id": "c4ed98ed",
   "metadata": {},
   "outputs": [],
   "source": []
  },
  {
   "cell_type": "code",
   "execution_count": null,
   "id": "e89185be",
   "metadata": {},
   "outputs": [],
   "source": [
    "ax = sns.countplot(x='LABEL',data=train)\n",
    "plt.title('Distribution')\n",
    "plt.xlabel('Planets')\n",
    "plt.ylabel('Frequency')\n",
    "for p in ax.patches:\n",
    "        ax.annotate('{:}'.format(p.get_height()), (p.get_x()+0.375, p.get_height()+10))"
   ]
  },
  {
   "cell_type": "code",
   "execution_count": null,
   "id": "4c78de0b",
   "metadata": {},
   "outputs": [],
   "source": [
    "X_train = train.drop(['LABEL'],axis=1)\n",
    "y_train = train['LABEL']"
   ]
  },
  {
   "cell_type": "code",
   "execution_count": null,
   "id": "0a77e4c0",
   "metadata": {},
   "outputs": [],
   "source": [
    "X_test = test.drop(['LABEL'],axis=1)\n",
    "y_test = test['LABEL']"
   ]
  },
  {
   "cell_type": "code",
   "execution_count": null,
   "id": "14210f9c",
   "metadata": {},
   "outputs": [],
   "source": [
    "X_train.loc[y_train==2][:5].T.plot(subplots=True, figsize=(10,12))"
   ]
  },
  {
   "cell_type": "code",
   "execution_count": null,
   "id": "cc3608d4",
   "metadata": {},
   "outputs": [],
   "source": [
    "X_train.loc[y_train==1][:5].T.plot(subplots=True, figsize=(10,12))"
   ]
  },
  {
   "cell_type": "code",
   "execution_count": null,
   "id": "c296f20d",
   "metadata": {},
   "outputs": [],
   "source": [
    "X_test = from_2d_array_to_nested(X_test)"
   ]
  },
  {
   "cell_type": "code",
   "execution_count": null,
   "id": "ab08e057",
   "metadata": {},
   "outputs": [],
   "source": [
    "X_test"
   ]
  },
  {
   "cell_type": "code",
   "execution_count": null,
   "id": "77b3ba37",
   "metadata": {},
   "outputs": [],
   "source": [
    "from sklearn.linear_model import RidgeClassifierCV\n",
    "from sktime.transformations.panel.rocket import Rocket\n",
    "from imblearn.over_sampling import SMOTE"
   ]
  },
  {
   "cell_type": "code",
   "execution_count": null,
   "id": "d55af253",
   "metadata": {
    "scrolled": false
   },
   "outputs": [],
   "source": [
    "smote = SMOTE(sampling_strategy='minority')\n",
    "X_sm,y_sm = smote.fit_resample(X_train,y_train)"
   ]
  },
  {
   "cell_type": "code",
   "execution_count": null,
   "id": "7245fe84",
   "metadata": {},
   "outputs": [],
   "source": []
  },
  {
   "cell_type": "code",
   "execution_count": null,
   "id": "e0c2746d",
   "metadata": {},
   "outputs": [],
   "source": []
  },
  {
   "cell_type": "code",
   "execution_count": null,
   "id": "2198c0c4",
   "metadata": {},
   "outputs": [],
   "source": []
  },
  {
   "cell_type": "code",
   "execution_count": null,
   "id": "506bce26",
   "metadata": {},
   "outputs": [],
   "source": []
  },
  {
   "cell_type": "code",
   "execution_count": null,
   "id": "a1df5db1",
   "metadata": {},
   "outputs": [],
   "source": []
  },
  {
   "cell_type": "code",
   "execution_count": 2,
   "id": "359ce975",
   "metadata": {},
   "outputs": [],
   "source": [
    "from tensorflow import keras\n",
    "import numpy as np\n",
    "import matplotlib.pyplot as plt"
   ]
  },
  {
   "cell_type": "code",
   "execution_count": 3,
   "id": "298df208",
   "metadata": {},
   "outputs": [],
   "source": [
    "def readucr(filename):\n",
    "    data = np.loadtxt(filename, delimiter=\"\\t\")\n",
    "    y = data[:, 0]\n",
    "    x = data[:, 1:]\n",
    "    return x, y.astype(int)\n",
    "\n"
   ]
  },
  {
   "cell_type": "code",
   "execution_count": 4,
   "id": "9dd78274",
   "metadata": {},
   "outputs": [],
   "source": [
    "root_url = \"https://raw.githubusercontent.com/hfawaz/cd-diagram/master/FordA/\"\n",
    "\n",
    "x_train, y_train = readucr(root_url + \"FordA_TRAIN.tsv\")\n",
    "x_test, y_test = readucr(root_url + \"FordA_TEST.tsv\")"
   ]
  },
  {
   "cell_type": "code",
   "execution_count": 5,
   "id": "ffdaa1c8",
   "metadata": {},
   "outputs": [
    {
     "data": {
      "image/png": "[encoded data removed]",
      "text/plain": [
       "<Figure size 432x288 with 1 Axes>"
      ]
     },
     "metadata": {
      "needs_background": "light"
     },
     "output_type": "display_data"
    }
   ],
   "source": [
    "classes = np.unique(np.concatenate((y_train, y_test), axis=0))\n",
    "\n",
    "plt.figure()\n",
    "for c in classes:\n",
    "    c_x_train = x_train[y_train == c]\n",
    "    plt.plot(c_x_train[0], label=\"class \" + str(c))\n",
    "plt.legend(loc=\"best\")\n",
    "plt.show()\n",
    "plt.close()"
   ]
  },
  {
   "cell_type": "code",
   "execution_count": 6,
   "id": "3ff4f87f",
   "metadata": {},
   "outputs": [
    {
     "data": {
      "text/plain": [
       "(3601, 500)"
      ]
     },
     "execution_count": 6,
     "metadata": {},
     "output_type": "execute_result"
    }
   ],
   "source": [
    "x_train.shape"
   ]
  },
  {
   "cell_type": "code",
   "execution_count": 7,
   "id": "06810ab4",
   "metadata": {},
   "outputs": [
    {
     "data": {
      "text/plain": [
       "array([[-0.79717168, -0.66439208, -0.37301463, ..., -0.66439208,\n",
       "        -1.0737958 , -1.5643427 ],\n",
       "       [ 0.80485472,  0.63462859,  0.37347448, ..., -0.71488505,\n",
       "        -0.56044294, -0.31908642],\n",
       "       [ 0.7279851 ,  0.11128392, -0.49912439, ...,  0.39446303,\n",
       "         0.33940042,  0.25539062],\n",
       "       ...,\n",
       "       [-0.57005428, -0.33316523, -0.29351853, ..., -1.3937145 ,\n",
       "        -0.94273327, -0.27072168],\n",
       "       [ 2.0067321 ,  2.0791499 ,  2.0220362 , ..., -0.43214504,\n",
       "        -0.44123126, -0.28070891],\n",
       "       [-0.12524091, -0.32536268, -0.48823697, ...,  0.55576053,\n",
       "         0.57445102,  0.57311598]])"
      ]
     },
     "execution_count": 7,
     "metadata": {},
     "output_type": "execute_result"
    }
   ],
   "source": [
    "x_train"
   ]
  },
  {
   "cell_type": "code",
   "execution_count": 8,
   "id": "e5a5400f",
   "metadata": {},
   "outputs": [],
   "source": [
    "x_train = x_train.reshape((x_train.shape[0], x_train.shape[1], 1))\n",
    "x_test = x_test.reshape((x_test.shape[0], x_test.shape[1], 1))"
   ]
  },
  {
   "cell_type": "code",
   "execution_count": 9,
   "id": "1eab05a3",
   "metadata": {},
   "outputs": [
    {
     "data": {
      "text/plain": [
       "(3601, 500, 1)"
      ]
     },
     "execution_count": 9,
     "metadata": {},
     "output_type": "execute_result"
    }
   ],
   "source": [
    "x_train.shape"
   ]
  },
  {
   "cell_type": "code",
   "execution_count": 21,
   "id": "dd1b16ab",
   "metadata": {},
   "outputs": [
    {
     "data": {
      "text/plain": [
       "array([[[ 1.9986305e+00],\n",
       "        [ 1.6221449e+00],\n",
       "        [ 1.1157049e+00],\n",
       "        ...,\n",
       "        [-5.9854666e-01],\n",
       "        [-8.6609986e-01],\n",
       "        [-1.1183643e+00]],\n",
       "\n",
       "       [[ 7.7712781e-01],\n",
       "        [ 7.3207383e-01],\n",
       "        [ 5.8478338e-01],\n",
       "        ...,\n",
       "        [-1.7199460e+00],\n",
       "        [-1.6167999e+00],\n",
       "        [-1.4279302e+00]],\n",
       "\n",
       "       [[-8.3948867e-01],\n",
       "        [-9.3765310e-01],\n",
       "        [-8.5505132e-01],\n",
       "        ...,\n",
       "        [-3.4627230e-01],\n",
       "        [-2.3134810e-01],\n",
       "        [-1.9064577e-01]],\n",
       "\n",
       "       ...,\n",
       "\n",
       "       [[-5.7009463e-01],\n",
       "        [-6.3208804e-01],\n",
       "        [-6.7205549e-01],\n",
       "        ...,\n",
       "        [-1.1204462e+00],\n",
       "        [-8.1820945e-01],\n",
       "        [-4.5831734e-01]],\n",
       "\n",
       "       [[-5.4027205e-01],\n",
       "        [-5.0549648e-01],\n",
       "        [-4.3304737e-01],\n",
       "        ...,\n",
       "        [ 1.8447525e+00],\n",
       "        [ 1.4332416e+00],\n",
       "        [ 9.3768970e-01]],\n",
       "\n",
       "       [[ 9.3560961e-01],\n",
       "        [ 1.3782512e+00],\n",
       "        [ 1.8118593e+00],\n",
       "        ...,\n",
       "        [-1.3576369e-01],\n",
       "        [ 1.9068746e-03],\n",
       "        [ 1.6414857e-01]]])"
      ]
     },
     "execution_count": 21,
     "metadata": {},
     "output_type": "execute_result"
    }
   ],
   "source": [
    "x_train"
   ]
  },
  {
   "cell_type": "code",
   "execution_count": 11,
   "id": "49e438cd",
   "metadata": {},
   "outputs": [],
   "source": [
    "num_classes = len(np.unique(y_train))"
   ]
  },
  {
   "cell_type": "code",
   "execution_count": 12,
   "id": "dc70c035",
   "metadata": {},
   "outputs": [
    {
     "data": {
      "text/plain": [
       "2"
      ]
     },
     "execution_count": 12,
     "metadata": {},
     "output_type": "execute_result"
    }
   ],
   "source": [
    "num_classes"
   ]
  },
  {
   "cell_type": "code",
   "execution_count": 13,
   "id": "a09b8df3",
   "metadata": {},
   "outputs": [],
   "source": [
    "idx = np.random.permutation(len(x_train))\n",
    "x_train = x_train[idx]\n",
    "y_train = y_train[idx]"
   ]
  },
  {
   "cell_type": "code",
   "execution_count": 14,
   "id": "a33838ae",
   "metadata": {},
   "outputs": [],
   "source": [
    "y_train[y_train == -1] = 0\n",
    "y_test[y_test == -1] = 0"
   ]
  },
  {
   "cell_type": "code",
   "execution_count": 15,
   "id": "71bbaa41",
   "metadata": {},
   "outputs": [],
   "source": [
    "def make_model(input_shape):\n",
    "    input_layer = keras.layers.Input(input_shape)\n",
    "\n",
    "    conv1 = keras.layers.Conv1D(filters=64, kernel_size=3, padding=\"same\")(input_layer)\n",
    "    conv1 = keras.layers.BatchNormalization()(conv1)\n",
    "    conv1 = keras.layers.ReLU()(conv1)\n",
    "\n",
    "    conv2 = keras.layers.Conv1D(filters=64, kernel_size=3, padding=\"same\")(conv1)\n",
    "    conv2 = keras.layers.BatchNormalization()(conv2)\n",
    "    conv2 = keras.layers.ReLU()(conv2)\n",
    "\n",
    "    conv3 = keras.layers.Conv1D(filters=64, kernel_size=3, padding=\"same\")(conv2)\n",
    "    conv3 = keras.layers.BatchNormalization()(conv3)\n",
    "    conv3 = keras.layers.ReLU()(conv3)\n",
    "\n",
    "    gap = keras.layers.GlobalAveragePooling1D()(conv3)\n",
    "\n",
    "    output_layer = keras.layers.Dense(num_classes, activation=\"softmax\")(gap)\n",
    "\n",
    "    return keras.models.Model(inputs=input_layer, outputs=output_layer)"
   ]
  },
  {
   "cell_type": "code",
   "execution_count": null,
   "id": "7501aa0f",
   "metadata": {},
   "outputs": [],
   "source": []
  },
  {
   "cell_type": "code",
   "execution_count": 16,
   "id": "dec1b8d5",
   "metadata": {},
   "outputs": [
    {
     "name": "stdout",
     "output_type": "stream",
     "text": [
      "You must install pydot (`pip install pydot`) and install graphviz (see instructions at https://graphviz.gitlab.io/download/) for plot_model to work.\n"
     ]
    }
   ],
   "source": [
    "model = make_model(input_shape=x_train.shape[1:])\n",
    "keras.utils.plot_model(model, show_shapes=True)"
   ]
  },
  {
   "cell_type": "code",
   "execution_count": 17,
   "id": "a1a3dd32",
   "metadata": {},
   "outputs": [
    {
     "name": "stdout",
     "output_type": "stream",
     "text": [
      "Epoch 1/500\n",
      "90/90 [==============================] - 10s 93ms/step - loss: 0.5355 - sparse_categorical_accuracy: 0.7160 - val_loss: 0.8491 - val_sparse_categorical_accuracy: 0.4938 - lr: 0.0010\n",
      "Epoch 2/500\n",
      "90/90 [==============================] - 8s 89ms/step - loss: 0.4450 - sparse_categorical_accuracy: 0.7778 - val_loss: 0.7728 - val_sparse_categorical_accuracy: 0.4938 - lr: 0.0010\n",
      "Epoch 3/500\n",
      "90/90 [==============================] - 8s 85ms/step - loss: 0.4323 - sparse_categorical_accuracy: 0.7851 - val_loss: 0.7115 - val_sparse_categorical_accuracy: 0.5007 - lr: 0.0010\n",
      "Epoch 4/500\n",
      "90/90 [==============================] - 7s 78ms/step - loss: 0.4082 - sparse_categorical_accuracy: 0.7931 - val_loss: 0.6824 - val_sparse_categorical_accuracy: 0.5673 - lr: 0.0010\n",
      "Epoch 5/500\n",
      "90/90 [==============================] - 7s 78ms/step - loss: 0.4151 - sparse_categorical_accuracy: 0.7979 - val_loss: 0.5912 - val_sparse_categorical_accuracy: 0.7184 - lr: 0.0010\n",
      "Epoch 6/500\n",
      "90/90 [==============================] - 7s 79ms/step - loss: 0.4008 - sparse_categorical_accuracy: 0.7965 - val_loss: 0.6332 - val_sparse_categorical_accuracy: 0.5867 - lr: 0.0010\n",
      "Epoch 7/500\n",
      "90/90 [==============================] - 7s 82ms/step - loss: 0.3973 - sparse_categorical_accuracy: 0.8010 - val_loss: 0.7738 - val_sparse_categorical_accuracy: 0.5340 - lr: 0.0010\n",
      "Epoch 8/500\n",
      "90/90 [==============================] - 7s 81ms/step - loss: 0.3822 - sparse_categorical_accuracy: 0.8087 - val_loss: 1.5464 - val_sparse_categorical_accuracy: 0.5104 - lr: 0.0010\n",
      "Epoch 9/500\n",
      "90/90 [==============================] - 7s 79ms/step - loss: 0.3742 - sparse_categorical_accuracy: 0.8181 - val_loss: 0.9959 - val_sparse_categorical_accuracy: 0.6366 - lr: 0.0010\n",
      "Epoch 10/500\n",
      "90/90 [==============================] - 7s 82ms/step - loss: 0.3587 - sparse_categorical_accuracy: 0.8319 - val_loss: 1.9143 - val_sparse_categorical_accuracy: 0.5062 - lr: 0.0010\n",
      "Epoch 11/500\n",
      "90/90 [==============================] - 7s 81ms/step - loss: 0.3665 - sparse_categorical_accuracy: 0.8292 - val_loss: 0.3698 - val_sparse_categorical_accuracy: 0.8141 - lr: 0.0010\n",
      "Epoch 12/500\n",
      "90/90 [==============================] - 7s 82ms/step - loss: 0.3386 - sparse_categorical_accuracy: 0.8424 - val_loss: 0.4014 - val_sparse_categorical_accuracy: 0.7989 - lr: 0.0010\n",
      "Epoch 13/500\n",
      "90/90 [==============================] - 7s 81ms/step - loss: 0.3238 - sparse_categorical_accuracy: 0.8615 - val_loss: 0.9204 - val_sparse_categorical_accuracy: 0.6893 - lr: 0.0010\n",
      "Epoch 14/500\n",
      "90/90 [==============================] - 7s 80ms/step - loss: 0.3105 - sparse_categorical_accuracy: 0.8687 - val_loss: 1.5661 - val_sparse_categorical_accuracy: 0.5423 - lr: 0.0010\n",
      "Epoch 15/500\n",
      "90/90 [==============================] - 7s 83ms/step - loss: 0.3222 - sparse_categorical_accuracy: 0.8639 - val_loss: 0.3898 - val_sparse_categorical_accuracy: 0.8086 - lr: 0.0010\n",
      "Epoch 16/500\n",
      "90/90 [==============================] - 7s 80ms/step - loss: 0.3105 - sparse_categorical_accuracy: 0.8705 - val_loss: 3.2054 - val_sparse_categorical_accuracy: 0.5146 - lr: 0.0010\n",
      "Epoch 17/500\n",
      "90/90 [==============================] - 7s 81ms/step - loss: 0.3001 - sparse_categorical_accuracy: 0.8722 - val_loss: 1.0490 - val_sparse_categorical_accuracy: 0.6061 - lr: 0.0010\n",
      "Epoch 18/500\n",
      "90/90 [==============================] - 7s 80ms/step - loss: 0.2952 - sparse_categorical_accuracy: 0.8809 - val_loss: 3.3127 - val_sparse_categorical_accuracy: 0.5062 - lr: 0.0010\n",
      "Epoch 19/500\n",
      "90/90 [==============================] - 7s 77ms/step - loss: 0.3100 - sparse_categorical_accuracy: 0.8708 - val_loss: 0.3046 - val_sparse_categorical_accuracy: 0.8752 - lr: 0.0010\n",
      "Epoch 20/500\n",
      "90/90 [==============================] - 7s 82ms/step - loss: 0.2899 - sparse_categorical_accuracy: 0.8774 - val_loss: 0.5686 - val_sparse_categorical_accuracy: 0.6865 - lr: 0.0010\n",
      "Epoch 21/500\n",
      "90/90 [==============================] - 7s 75ms/step - loss: 0.2750 - sparse_categorical_accuracy: 0.8896 - val_loss: 0.4574 - val_sparse_categorical_accuracy: 0.7545 - lr: 0.0010\n",
      "Epoch 22/500\n",
      "90/90 [==============================] - 7s 77ms/step - loss: 0.2791 - sparse_categorical_accuracy: 0.8792 - val_loss: 0.3277 - val_sparse_categorical_accuracy: 0.8447 - lr: 0.0010\n",
      "Epoch 23/500\n",
      "90/90 [==============================] - 7s 79ms/step - loss: 0.2740 - sparse_categorical_accuracy: 0.8823 - val_loss: 4.7251 - val_sparse_categorical_accuracy: 0.5007 - lr: 0.0010\n",
      "Epoch 24/500\n",
      "90/90 [==============================] - 7s 80ms/step - loss: 0.2596 - sparse_categorical_accuracy: 0.8906 - val_loss: 1.7217 - val_sparse_categorical_accuracy: 0.6865 - lr: 0.0010\n",
      "Epoch 25/500\n",
      "90/90 [==============================] - 7s 77ms/step - loss: 0.2806 - sparse_categorical_accuracy: 0.8851 - val_loss: 1.8437 - val_sparse_categorical_accuracy: 0.7074 - lr: 0.0010\n",
      "Epoch 26/500\n",
      "90/90 [==============================] - 7s 77ms/step - loss: 0.2757 - sparse_categorical_accuracy: 0.8861 - val_loss: 0.3581 - val_sparse_categorical_accuracy: 0.8031 - lr: 0.0010\n",
      "Epoch 27/500\n",
      "90/90 [==============================] - 7s 79ms/step - loss: 0.2569 - sparse_categorical_accuracy: 0.8972 - val_loss: 0.5108 - val_sparse_categorical_accuracy: 0.7614 - lr: 0.0010\n",
      "Epoch 28/500\n",
      "90/90 [==============================] - 7s 79ms/step - loss: 0.2462 - sparse_categorical_accuracy: 0.9003 - val_loss: 0.6140 - val_sparse_categorical_accuracy: 0.7254 - lr: 0.0010\n",
      "Epoch 29/500\n",
      "90/90 [==============================] - 7s 78ms/step - loss: 0.2815 - sparse_categorical_accuracy: 0.8806 - val_loss: 1.2772 - val_sparse_categorical_accuracy: 0.6796 - lr: 0.0010\n",
      "Epoch 30/500\n",
      "90/90 [==============================] - 7s 78ms/step - loss: 0.2647 - sparse_categorical_accuracy: 0.8889 - val_loss: 3.7706 - val_sparse_categorical_accuracy: 0.5451 - lr: 0.0010\n",
      "Epoch 31/500\n",
      "90/90 [==============================] - 8s 85ms/step - loss: 0.2521 - sparse_categorical_accuracy: 0.8944 - val_loss: 2.5073 - val_sparse_categorical_accuracy: 0.6186 - lr: 0.0010\n",
      "Epoch 32/500\n",
      "90/90 [==============================] - 7s 77ms/step - loss: 0.2485 - sparse_categorical_accuracy: 0.9017 - val_loss: 4.6126 - val_sparse_categorical_accuracy: 0.4938 - lr: 0.0010\n",
      "Epoch 33/500\n",
      "90/90 [==============================] - 7s 75ms/step - loss: 0.2554 - sparse_categorical_accuracy: 0.8934 - val_loss: 3.8643 - val_sparse_categorical_accuracy: 0.5007 - lr: 0.0010\n",
      "Epoch 34/500\n",
      "90/90 [==============================] - 7s 76ms/step - loss: 0.2559 - sparse_categorical_accuracy: 0.8962 - val_loss: 3.2766 - val_sparse_categorical_accuracy: 0.5215 - lr: 0.0010\n",
      "Epoch 35/500\n",
      "90/90 [==============================] - 7s 82ms/step - loss: 0.2572 - sparse_categorical_accuracy: 0.8924 - val_loss: 4.6765 - val_sparse_categorical_accuracy: 0.5076 - lr: 0.0010\n",
      "Epoch 36/500\n",
      "90/90 [==============================] - 7s 78ms/step - loss: 0.2431 - sparse_categorical_accuracy: 0.8951 - val_loss: 2.5005 - val_sparse_categorical_accuracy: 0.5381 - lr: 0.0010\n",
      "Epoch 37/500\n",
      "90/90 [==============================] - 7s 81ms/step - loss: 0.2434 - sparse_categorical_accuracy: 0.8972 - val_loss: 0.9653 - val_sparse_categorical_accuracy: 0.7171 - lr: 0.0010\n",
      "Epoch 38/500\n",
      "90/90 [==============================] - 7s 76ms/step - loss: 0.2661 - sparse_categorical_accuracy: 0.8899 - val_loss: 0.3856 - val_sparse_categorical_accuracy: 0.7753 - lr: 0.0010\n",
      "Epoch 39/500\n",
      "90/90 [==============================] - 7s 76ms/step - loss: 0.2477 - sparse_categorical_accuracy: 0.8997 - val_loss: 1.6384 - val_sparse_categorical_accuracy: 0.6241 - lr: 0.0010\n",
      "Epoch 40/500\n",
      "90/90 [==============================] - 7s 77ms/step - loss: 0.2433 - sparse_categorical_accuracy: 0.8990 - val_loss: 0.2334 - val_sparse_categorical_accuracy: 0.9098 - lr: 5.0000e-04\n",
      "Epoch 41/500\n",
      "90/90 [==============================] - 7s 78ms/step - loss: 0.2287 - sparse_categorical_accuracy: 0.9090 - val_loss: 0.2795 - val_sparse_categorical_accuracy: 0.8613 - lr: 5.0000e-04\n",
      "Epoch 42/500\n",
      "90/90 [==============================] - 7s 75ms/step - loss: 0.2228 - sparse_categorical_accuracy: 0.9052 - val_loss: 0.4987 - val_sparse_categorical_accuracy: 0.7254 - lr: 5.0000e-04\n",
      "Epoch 43/500\n",
      "90/90 [==============================] - 7s 74ms/step - loss: 0.2305 - sparse_categorical_accuracy: 0.9094 - val_loss: 0.3106 - val_sparse_categorical_accuracy: 0.8613 - lr: 5.0000e-04\n",
      "Epoch 44/500\n",
      "90/90 [==============================] - 7s 77ms/step - loss: 0.2295 - sparse_categorical_accuracy: 0.9056 - val_loss: 0.5416 - val_sparse_categorical_accuracy: 0.7337 - lr: 5.0000e-04\n",
      "Epoch 45/500\n",
      "90/90 [==============================] - 7s 79ms/step - loss: 0.2247 - sparse_categorical_accuracy: 0.9083 - val_loss: 1.4863 - val_sparse_categorical_accuracy: 0.5465 - lr: 5.0000e-04\n",
      "Epoch 46/500\n",
      "90/90 [==============================] - 7s 78ms/step - loss: 0.2285 - sparse_categorical_accuracy: 0.9073 - val_loss: 0.3074 - val_sparse_categorical_accuracy: 0.8530 - lr: 5.0000e-04\n",
      "Epoch 47/500\n",
      "90/90 [==============================] - 7s 78ms/step - loss: 0.2215 - sparse_categorical_accuracy: 0.9069 - val_loss: 1.1510 - val_sparse_categorical_accuracy: 0.6144 - lr: 5.0000e-04\n",
      "Epoch 48/500\n",
      "90/90 [==============================] - 7s 75ms/step - loss: 0.2203 - sparse_categorical_accuracy: 0.9108 - val_loss: 1.9184 - val_sparse_categorical_accuracy: 0.5687 - lr: 5.0000e-04\n",
      "Epoch 49/500\n",
      "90/90 [==============================] - 7s 75ms/step - loss: 0.2256 - sparse_categorical_accuracy: 0.9028 - val_loss: 0.5814 - val_sparse_categorical_accuracy: 0.7101 - lr: 5.0000e-04\n",
      "Epoch 50/500\n",
      "90/90 [==============================] - 7s 77ms/step - loss: 0.2206 - sparse_categorical_accuracy: 0.9090 - val_loss: 0.2013 - val_sparse_categorical_accuracy: 0.9237 - lr: 5.0000e-04\n",
      "Epoch 51/500\n",
      "90/90 [==============================] - 7s 76ms/step - loss: 0.2147 - sparse_categorical_accuracy: 0.9125 - val_loss: 0.3578 - val_sparse_categorical_accuracy: 0.7975 - lr: 5.0000e-04\n",
      "Epoch 52/500\n",
      "90/90 [==============================] - 7s 76ms/step - loss: 0.2141 - sparse_categorical_accuracy: 0.9139 - val_loss: 0.3500 - val_sparse_categorical_accuracy: 0.8003 - lr: 5.0000e-04\n",
      "Epoch 53/500\n",
      "90/90 [==============================] - 7s 77ms/step - loss: 0.2169 - sparse_categorical_accuracy: 0.9062 - val_loss: 0.2261 - val_sparse_categorical_accuracy: 0.9043 - lr: 5.0000e-04\n",
      "Epoch 54/500\n",
      "90/90 [==============================] - 7s 79ms/step - loss: 0.2062 - sparse_categorical_accuracy: 0.9184 - val_loss: 0.3188 - val_sparse_categorical_accuracy: 0.8169 - lr: 5.0000e-04\n",
      "Epoch 55/500\n",
      "90/90 [==============================] - 7s 74ms/step - loss: 0.2058 - sparse_categorical_accuracy: 0.9170 - val_loss: 1.1999 - val_sparse_categorical_accuracy: 0.6311 - lr: 5.0000e-04\n",
      "Epoch 56/500\n",
      "90/90 [==============================] - 7s 78ms/step - loss: 0.2108 - sparse_categorical_accuracy: 0.9153 - val_loss: 0.2939 - val_sparse_categorical_accuracy: 0.8363 - lr: 5.0000e-04\n",
      "Epoch 57/500\n",
      "90/90 [==============================] - 7s 78ms/step - loss: 0.1936 - sparse_categorical_accuracy: 0.9278 - val_loss: 1.1164 - val_sparse_categorical_accuracy: 0.6186 - lr: 5.0000e-04\n",
      "Epoch 58/500\n",
      "90/90 [==============================] - 7s 80ms/step - loss: 0.1827 - sparse_categorical_accuracy: 0.9309 - val_loss: 0.5070 - val_sparse_categorical_accuracy: 0.7545 - lr: 5.0000e-04\n",
      "Epoch 59/500\n",
      "90/90 [==============================] - 7s 77ms/step - loss: 0.1770 - sparse_categorical_accuracy: 0.9326 - val_loss: 2.4343 - val_sparse_categorical_accuracy: 0.5548 - lr: 5.0000e-04\n",
      "Epoch 60/500\n",
      "90/90 [==============================] - 7s 77ms/step - loss: 0.1863 - sparse_categorical_accuracy: 0.9271 - val_loss: 3.6186 - val_sparse_categorical_accuracy: 0.5506 - lr: 5.0000e-04\n",
      "Epoch 61/500\n",
      "90/90 [==============================] - 7s 76ms/step - loss: 0.1703 - sparse_categorical_accuracy: 0.9365 - val_loss: 0.3945 - val_sparse_categorical_accuracy: 0.7850 - lr: 5.0000e-04\n",
      "Epoch 62/500\n",
      "90/90 [==============================] - 7s 79ms/step - loss: 0.1578 - sparse_categorical_accuracy: 0.9455 - val_loss: 0.5625 - val_sparse_categorical_accuracy: 0.7226 - lr: 5.0000e-04\n",
      "Epoch 63/500\n",
      "90/90 [==============================] - 7s 82ms/step - loss: 0.1527 - sparse_categorical_accuracy: 0.9503 - val_loss: 0.2523 - val_sparse_categorical_accuracy: 0.8724 - lr: 5.0000e-04\n",
      "Epoch 64/500\n",
      "90/90 [==============================] - 7s 76ms/step - loss: 0.1450 - sparse_categorical_accuracy: 0.9521 - val_loss: 0.4347 - val_sparse_categorical_accuracy: 0.7822 - lr: 5.0000e-04\n",
      "Epoch 65/500\n",
      "90/90 [==============================] - 7s 76ms/step - loss: 0.1440 - sparse_categorical_accuracy: 0.9521 - val_loss: 0.1606 - val_sparse_categorical_accuracy: 0.9515 - lr: 5.0000e-04\n",
      "Epoch 66/500\n",
      "90/90 [==============================] - 7s 77ms/step - loss: 0.1443 - sparse_categorical_accuracy: 0.9531 - val_loss: 0.1749 - val_sparse_categorical_accuracy: 0.9417 - lr: 5.0000e-04\n",
      "Epoch 67/500\n",
      "90/90 [==============================] - 7s 76ms/step - loss: 0.1302 - sparse_categorical_accuracy: 0.9576 - val_loss: 0.7582 - val_sparse_categorical_accuracy: 0.7004 - lr: 5.0000e-04\n",
      "Epoch 68/500\n",
      "90/90 [==============================] - 7s 75ms/step - loss: 0.1238 - sparse_categorical_accuracy: 0.9573 - val_loss: 0.6451 - val_sparse_categorical_accuracy: 0.7060 - lr: 5.0000e-04\n",
      "Epoch 69/500\n",
      "90/90 [==============================] - 7s 75ms/step - loss: 0.1216 - sparse_categorical_accuracy: 0.9604 - val_loss: 0.1807 - val_sparse_categorical_accuracy: 0.9334 - lr: 5.0000e-04\n",
      "Epoch 70/500\n",
      "90/90 [==============================] - 7s 76ms/step - loss: 0.1389 - sparse_categorical_accuracy: 0.9538 - val_loss: 0.3181 - val_sparse_categorical_accuracy: 0.8488 - lr: 5.0000e-04\n",
      "Epoch 71/500\n",
      "90/90 [==============================] - 7s 75ms/step - loss: 0.1232 - sparse_categorical_accuracy: 0.9583 - val_loss: 0.4415 - val_sparse_categorical_accuracy: 0.7850 - lr: 5.0000e-04\n",
      "Epoch 72/500\n",
      "90/90 [==============================] - 7s 78ms/step - loss: 0.1185 - sparse_categorical_accuracy: 0.9587 - val_loss: 0.1415 - val_sparse_categorical_accuracy: 0.9556 - lr: 5.0000e-04\n",
      "Epoch 73/500\n",
      "90/90 [==============================] - 7s 76ms/step - loss: 0.1246 - sparse_categorical_accuracy: 0.9566 - val_loss: 0.3963 - val_sparse_categorical_accuracy: 0.7961 - lr: 5.0000e-04\n",
      "Epoch 74/500\n",
      "90/90 [==============================] - 7s 78ms/step - loss: 0.1166 - sparse_categorical_accuracy: 0.9608 - val_loss: 0.1366 - val_sparse_categorical_accuracy: 0.9542 - lr: 5.0000e-04\n",
      "Epoch 75/500\n",
      "90/90 [==============================] - 7s 79ms/step - loss: 0.1139 - sparse_categorical_accuracy: 0.9628 - val_loss: 0.1448 - val_sparse_categorical_accuracy: 0.9542 - lr: 5.0000e-04\n",
      "Epoch 76/500\n",
      "90/90 [==============================] - 7s 79ms/step - loss: 0.1108 - sparse_categorical_accuracy: 0.9656 - val_loss: 0.2470 - val_sparse_categorical_accuracy: 0.9112 - lr: 5.0000e-04\n",
      "Epoch 77/500\n",
      "90/90 [==============================] - 7s 77ms/step - loss: 0.1088 - sparse_categorical_accuracy: 0.9632 - val_loss: 0.1491 - val_sparse_categorical_accuracy: 0.9487 - lr: 5.0000e-04\n",
      "Epoch 78/500\n",
      "90/90 [==============================] - 7s 75ms/step - loss: 0.1104 - sparse_categorical_accuracy: 0.9622 - val_loss: 0.1491 - val_sparse_categorical_accuracy: 0.9515 - lr: 5.0000e-04\n",
      "Epoch 79/500\n",
      "90/90 [==============================] - 7s 76ms/step - loss: 0.1220 - sparse_categorical_accuracy: 0.9563 - val_loss: 0.5272 - val_sparse_categorical_accuracy: 0.7795 - lr: 5.0000e-04\n",
      "Epoch 80/500\n",
      "90/90 [==============================] - 7s 77ms/step - loss: 0.1146 - sparse_categorical_accuracy: 0.9573 - val_loss: 0.2088 - val_sparse_categorical_accuracy: 0.9001 - lr: 5.0000e-04\n",
      "Epoch 81/500\n",
      "90/90 [==============================] - 7s 77ms/step - loss: 0.1076 - sparse_categorical_accuracy: 0.9628 - val_loss: 0.2501 - val_sparse_categorical_accuracy: 0.8766 - lr: 5.0000e-04\n",
      "Epoch 82/500\n",
      "90/90 [==============================] - 7s 76ms/step - loss: 0.1173 - sparse_categorical_accuracy: 0.9590 - val_loss: 1.5802 - val_sparse_categorical_accuracy: 0.5714 - lr: 5.0000e-04\n",
      "Epoch 83/500\n",
      "90/90 [==============================] - 7s 77ms/step - loss: 0.1041 - sparse_categorical_accuracy: 0.9649 - val_loss: 0.4431 - val_sparse_categorical_accuracy: 0.8017 - lr: 5.0000e-04\n",
      "Epoch 84/500\n"
     ]
    },
    {
     "name": "stdout",
     "output_type": "stream",
     "text": [
      "90/90 [==============================] - 7s 75ms/step - loss: 0.1094 - sparse_categorical_accuracy: 0.9653 - val_loss: 0.4944 - val_sparse_categorical_accuracy: 0.7642 - lr: 5.0000e-04\n",
      "Epoch 85/500\n",
      "90/90 [==============================] - 7s 75ms/step - loss: 0.1220 - sparse_categorical_accuracy: 0.9521 - val_loss: 0.2471 - val_sparse_categorical_accuracy: 0.8890 - lr: 5.0000e-04\n",
      "Epoch 86/500\n",
      "90/90 [==============================] - 7s 81ms/step - loss: 0.1055 - sparse_categorical_accuracy: 0.9625 - val_loss: 0.1494 - val_sparse_categorical_accuracy: 0.9348 - lr: 5.0000e-04\n",
      "Epoch 87/500\n",
      "90/90 [==============================] - 7s 77ms/step - loss: 0.1040 - sparse_categorical_accuracy: 0.9628 - val_loss: 0.4439 - val_sparse_categorical_accuracy: 0.7920 - lr: 5.0000e-04\n",
      "Epoch 88/500\n",
      "90/90 [==============================] - 7s 77ms/step - loss: 0.1043 - sparse_categorical_accuracy: 0.9622 - val_loss: 0.1538 - val_sparse_categorical_accuracy: 0.9459 - lr: 5.0000e-04\n",
      "Epoch 89/500\n",
      "90/90 [==============================] - 7s 79ms/step - loss: 0.1000 - sparse_categorical_accuracy: 0.9628 - val_loss: 0.1242 - val_sparse_categorical_accuracy: 0.9626 - lr: 5.0000e-04\n",
      "Epoch 90/500\n",
      "90/90 [==============================] - 7s 75ms/step - loss: 0.1108 - sparse_categorical_accuracy: 0.9608 - val_loss: 0.6020 - val_sparse_categorical_accuracy: 0.7101 - lr: 5.0000e-04\n",
      "Epoch 91/500\n",
      "90/90 [==============================] - 7s 76ms/step - loss: 0.1124 - sparse_categorical_accuracy: 0.9587 - val_loss: 0.5324 - val_sparse_categorical_accuracy: 0.7503 - lr: 5.0000e-04\n",
      "Epoch 92/500\n",
      "90/90 [==============================] - 7s 78ms/step - loss: 0.1110 - sparse_categorical_accuracy: 0.9583 - val_loss: 0.4304 - val_sparse_categorical_accuracy: 0.8072 - lr: 5.0000e-04\n",
      "Epoch 93/500\n",
      "90/90 [==============================] - 7s 79ms/step - loss: 0.0982 - sparse_categorical_accuracy: 0.9663 - val_loss: 0.3030 - val_sparse_categorical_accuracy: 0.8571 - lr: 5.0000e-04\n",
      "Epoch 94/500\n",
      "90/90 [==============================] - 7s 77ms/step - loss: 0.0916 - sparse_categorical_accuracy: 0.9663 - val_loss: 0.2198 - val_sparse_categorical_accuracy: 0.8988 - lr: 5.0000e-04\n",
      "Epoch 95/500\n",
      "90/90 [==============================] - 7s 76ms/step - loss: 0.1020 - sparse_categorical_accuracy: 0.9670 - val_loss: 0.6095 - val_sparse_categorical_accuracy: 0.7531 - lr: 5.0000e-04\n",
      "Epoch 96/500\n",
      "90/90 [==============================] - 7s 76ms/step - loss: 0.1044 - sparse_categorical_accuracy: 0.9587 - val_loss: 0.8886 - val_sparse_categorical_accuracy: 0.6463 - lr: 5.0000e-04\n",
      "Epoch 97/500\n",
      "90/90 [==============================] - 7s 75ms/step - loss: 0.1093 - sparse_categorical_accuracy: 0.9635 - val_loss: 0.1974 - val_sparse_categorical_accuracy: 0.9057 - lr: 5.0000e-04\n",
      "Epoch 98/500\n",
      "90/90 [==============================] - 7s 78ms/step - loss: 0.1030 - sparse_categorical_accuracy: 0.9656 - val_loss: 0.2720 - val_sparse_categorical_accuracy: 0.8669 - lr: 5.0000e-04\n",
      "Epoch 99/500\n",
      "90/90 [==============================] - 7s 75ms/step - loss: 0.0984 - sparse_categorical_accuracy: 0.9667 - val_loss: 0.2356 - val_sparse_categorical_accuracy: 0.9043 - lr: 5.0000e-04\n",
      "Epoch 100/500\n",
      "90/90 [==============================] - 7s 76ms/step - loss: 0.0988 - sparse_categorical_accuracy: 0.9667 - val_loss: 0.2031 - val_sparse_categorical_accuracy: 0.9307 - lr: 5.0000e-04\n",
      "Epoch 101/500\n",
      "90/90 [==============================] - 7s 75ms/step - loss: 0.0916 - sparse_categorical_accuracy: 0.9677 - val_loss: 0.2472 - val_sparse_categorical_accuracy: 0.9029 - lr: 5.0000e-04\n",
      "Epoch 102/500\n",
      "90/90 [==============================] - 7s 77ms/step - loss: 0.0935 - sparse_categorical_accuracy: 0.9670 - val_loss: 0.2373 - val_sparse_categorical_accuracy: 0.8988 - lr: 5.0000e-04\n",
      "Epoch 103/500\n",
      "90/90 [==============================] - 7s 78ms/step - loss: 0.0931 - sparse_categorical_accuracy: 0.9684 - val_loss: 0.1267 - val_sparse_categorical_accuracy: 0.9653 - lr: 5.0000e-04\n",
      "Epoch 104/500\n",
      "90/90 [==============================] - 7s 79ms/step - loss: 0.0981 - sparse_categorical_accuracy: 0.9639 - val_loss: 0.5958 - val_sparse_categorical_accuracy: 0.7323 - lr: 5.0000e-04\n",
      "Epoch 105/500\n",
      "90/90 [==============================] - 7s 78ms/step - loss: 0.0980 - sparse_categorical_accuracy: 0.9663 - val_loss: 1.6662 - val_sparse_categorical_accuracy: 0.5617 - lr: 5.0000e-04\n",
      "Epoch 106/500\n",
      "90/90 [==============================] - 7s 80ms/step - loss: 0.0960 - sparse_categorical_accuracy: 0.9674 - val_loss: 0.2180 - val_sparse_categorical_accuracy: 0.9168 - lr: 5.0000e-04\n",
      "Epoch 107/500\n",
      "90/90 [==============================] - 7s 75ms/step - loss: 0.1014 - sparse_categorical_accuracy: 0.9622 - val_loss: 0.3228 - val_sparse_categorical_accuracy: 0.8488 - lr: 5.0000e-04\n",
      "Epoch 108/500\n",
      "90/90 [==============================] - 7s 75ms/step - loss: 0.0949 - sparse_categorical_accuracy: 0.9726 - val_loss: 0.2965 - val_sparse_categorical_accuracy: 0.8474 - lr: 5.0000e-04\n",
      "Epoch 109/500\n",
      "90/90 [==============================] - 7s 76ms/step - loss: 0.0933 - sparse_categorical_accuracy: 0.9688 - val_loss: 0.1519 - val_sparse_categorical_accuracy: 0.9390 - lr: 5.0000e-04\n",
      "Epoch 110/500\n",
      "90/90 [==============================] - 7s 76ms/step - loss: 0.0894 - sparse_categorical_accuracy: 0.9705 - val_loss: 0.1382 - val_sparse_categorical_accuracy: 0.9570 - lr: 2.5000e-04\n",
      "Epoch 111/500\n",
      "90/90 [==============================] - 7s 77ms/step - loss: 0.0877 - sparse_categorical_accuracy: 0.9674 - val_loss: 0.1061 - val_sparse_categorical_accuracy: 0.9681 - lr: 2.5000e-04\n",
      "Epoch 112/500\n",
      "90/90 [==============================] - 7s 77ms/step - loss: 0.0808 - sparse_categorical_accuracy: 0.9747 - val_loss: 0.3446 - val_sparse_categorical_accuracy: 0.8474 - lr: 2.5000e-04\n",
      "Epoch 113/500\n",
      "90/90 [==============================] - 7s 74ms/step - loss: 0.0804 - sparse_categorical_accuracy: 0.9726 - val_loss: 0.1459 - val_sparse_categorical_accuracy: 0.9417 - lr: 2.5000e-04\n",
      "Epoch 114/500\n",
      "90/90 [==============================] - 7s 76ms/step - loss: 0.0895 - sparse_categorical_accuracy: 0.9688 - val_loss: 0.0985 - val_sparse_categorical_accuracy: 0.9709 - lr: 2.5000e-04\n",
      "Epoch 115/500\n",
      "90/90 [==============================] - 7s 78ms/step - loss: 0.0861 - sparse_categorical_accuracy: 0.9691 - val_loss: 0.1097 - val_sparse_categorical_accuracy: 0.9570 - lr: 2.5000e-04\n",
      "Epoch 116/500\n",
      "90/90 [==============================] - 7s 77ms/step - loss: 0.0854 - sparse_categorical_accuracy: 0.9691 - val_loss: 0.2734 - val_sparse_categorical_accuracy: 0.8779 - lr: 2.5000e-04\n",
      "Epoch 117/500\n",
      "90/90 [==============================] - 7s 74ms/step - loss: 0.0861 - sparse_categorical_accuracy: 0.9712 - val_loss: 0.1515 - val_sparse_categorical_accuracy: 0.9417 - lr: 2.5000e-04\n",
      "Epoch 118/500\n",
      "90/90 [==============================] - 7s 75ms/step - loss: 0.0884 - sparse_categorical_accuracy: 0.9715 - val_loss: 0.1922 - val_sparse_categorical_accuracy: 0.9196 - lr: 2.5000e-04\n",
      "Epoch 119/500\n",
      "90/90 [==============================] - 7s 75ms/step - loss: 0.0837 - sparse_categorical_accuracy: 0.9712 - val_loss: 0.1371 - val_sparse_categorical_accuracy: 0.9528 - lr: 2.5000e-04\n",
      "Epoch 120/500\n",
      "90/90 [==============================] - 7s 75ms/step - loss: 0.0842 - sparse_categorical_accuracy: 0.9701 - val_loss: 0.1273 - val_sparse_categorical_accuracy: 0.9542 - lr: 2.5000e-04\n",
      "Epoch 121/500\n",
      "90/90 [==============================] - 7s 76ms/step - loss: 0.0860 - sparse_categorical_accuracy: 0.9705 - val_loss: 0.1307 - val_sparse_categorical_accuracy: 0.9584 - lr: 2.5000e-04\n",
      "Epoch 122/500\n",
      "90/90 [==============================] - 8s 86ms/step - loss: 0.0865 - sparse_categorical_accuracy: 0.9701 - val_loss: 0.1081 - val_sparse_categorical_accuracy: 0.9639 - lr: 2.5000e-04\n",
      "Epoch 123/500\n",
      "90/90 [==============================] - 7s 76ms/step - loss: 0.0830 - sparse_categorical_accuracy: 0.9757 - val_loss: 0.1087 - val_sparse_categorical_accuracy: 0.9598 - lr: 2.5000e-04\n",
      "Epoch 124/500\n",
      "90/90 [==============================] - 7s 79ms/step - loss: 0.0883 - sparse_categorical_accuracy: 0.9712 - val_loss: 0.1307 - val_sparse_categorical_accuracy: 0.9626 - lr: 2.5000e-04\n",
      "Epoch 125/500\n",
      "90/90 [==============================] - 7s 75ms/step - loss: 0.0847 - sparse_categorical_accuracy: 0.9712 - val_loss: 0.2991 - val_sparse_categorical_accuracy: 0.8710 - lr: 2.5000e-04\n",
      "Epoch 126/500\n",
      "90/90 [==============================] - 7s 75ms/step - loss: 0.0831 - sparse_categorical_accuracy: 0.9701 - val_loss: 0.2535 - val_sparse_categorical_accuracy: 0.8849 - lr: 2.5000e-04\n",
      "Epoch 127/500\n",
      "90/90 [==============================] - 7s 79ms/step - loss: 0.0866 - sparse_categorical_accuracy: 0.9677 - val_loss: 0.2289 - val_sparse_categorical_accuracy: 0.9085 - lr: 2.5000e-04\n",
      "Epoch 128/500\n",
      "90/90 [==============================] - 7s 78ms/step - loss: 0.0789 - sparse_categorical_accuracy: 0.9736 - val_loss: 0.1111 - val_sparse_categorical_accuracy: 0.9598 - lr: 2.5000e-04\n",
      "Epoch 129/500\n",
      "90/90 [==============================] - 7s 77ms/step - loss: 0.0829 - sparse_categorical_accuracy: 0.9722 - val_loss: 0.1430 - val_sparse_categorical_accuracy: 0.9445 - lr: 2.5000e-04\n",
      "Epoch 130/500\n",
      "90/90 [==============================] - 7s 77ms/step - loss: 0.0817 - sparse_categorical_accuracy: 0.9708 - val_loss: 0.5394 - val_sparse_categorical_accuracy: 0.7906 - lr: 2.5000e-04\n",
      "Epoch 131/500\n",
      "90/90 [==============================] - 7s 77ms/step - loss: 0.0858 - sparse_categorical_accuracy: 0.9726 - val_loss: 0.1462 - val_sparse_categorical_accuracy: 0.9417 - lr: 2.5000e-04\n",
      "Epoch 132/500\n",
      "90/90 [==============================] - 7s 77ms/step - loss: 0.0788 - sparse_categorical_accuracy: 0.9708 - val_loss: 0.1353 - val_sparse_categorical_accuracy: 0.9473 - lr: 2.5000e-04\n",
      "Epoch 133/500\n",
      "90/90 [==============================] - 7s 77ms/step - loss: 0.0801 - sparse_categorical_accuracy: 0.9747 - val_loss: 0.1080 - val_sparse_categorical_accuracy: 0.9639 - lr: 2.5000e-04\n",
      "Epoch 134/500\n",
      "90/90 [==============================] - 7s 75ms/step - loss: 0.0822 - sparse_categorical_accuracy: 0.9712 - val_loss: 0.1165 - val_sparse_categorical_accuracy: 0.9653 - lr: 2.5000e-04\n",
      "Epoch 135/500\n",
      "90/90 [==============================] - 7s 77ms/step - loss: 0.0780 - sparse_categorical_accuracy: 0.9760 - val_loss: 0.1069 - val_sparse_categorical_accuracy: 0.9723 - lr: 1.2500e-04\n",
      "Epoch 136/500\n",
      "90/90 [==============================] - 7s 76ms/step - loss: 0.0816 - sparse_categorical_accuracy: 0.9712 - val_loss: 0.1003 - val_sparse_categorical_accuracy: 0.9709 - lr: 1.2500e-04\n",
      "Epoch 137/500\n",
      "90/90 [==============================] - 7s 75ms/step - loss: 0.0782 - sparse_categorical_accuracy: 0.9729 - val_loss: 0.1721 - val_sparse_categorical_accuracy: 0.9404 - lr: 1.2500e-04\n",
      "Epoch 138/500\n",
      "90/90 [==============================] - 7s 77ms/step - loss: 0.0799 - sparse_categorical_accuracy: 0.9708 - val_loss: 0.1026 - val_sparse_categorical_accuracy: 0.9667 - lr: 1.2500e-04\n",
      "Epoch 139/500\n",
      "90/90 [==============================] - 7s 80ms/step - loss: 0.0804 - sparse_categorical_accuracy: 0.9715 - val_loss: 0.1206 - val_sparse_categorical_accuracy: 0.9639 - lr: 1.2500e-04\n",
      "Epoch 140/500\n",
      "90/90 [==============================] - 7s 78ms/step - loss: 0.0794 - sparse_categorical_accuracy: 0.9715 - val_loss: 0.1150 - val_sparse_categorical_accuracy: 0.9598 - lr: 1.2500e-04\n",
      "Epoch 141/500\n",
      "90/90 [==============================] - 7s 80ms/step - loss: 0.0812 - sparse_categorical_accuracy: 0.9715 - val_loss: 0.1332 - val_sparse_categorical_accuracy: 0.9445 - lr: 1.2500e-04\n",
      "Epoch 142/500\n",
      "90/90 [==============================] - 7s 77ms/step - loss: 0.0754 - sparse_categorical_accuracy: 0.9760 - val_loss: 0.0976 - val_sparse_categorical_accuracy: 0.9736 - lr: 1.2500e-04\n",
      "Epoch 143/500\n",
      "90/90 [==============================] - 7s 76ms/step - loss: 0.0751 - sparse_categorical_accuracy: 0.9747 - val_loss: 0.0973 - val_sparse_categorical_accuracy: 0.9709 - lr: 1.2500e-04\n",
      "Epoch 144/500\n",
      "90/90 [==============================] - 7s 77ms/step - loss: 0.0783 - sparse_categorical_accuracy: 0.9740 - val_loss: 0.1113 - val_sparse_categorical_accuracy: 0.9612 - lr: 1.2500e-04\n",
      "Epoch 145/500\n",
      "90/90 [==============================] - 7s 76ms/step - loss: 0.0770 - sparse_categorical_accuracy: 0.9753 - val_loss: 0.2065 - val_sparse_categorical_accuracy: 0.9154 - lr: 1.2500e-04\n",
      "Epoch 146/500\n",
      "90/90 [==============================] - 7s 76ms/step - loss: 0.0809 - sparse_categorical_accuracy: 0.9729 - val_loss: 0.1140 - val_sparse_categorical_accuracy: 0.9598 - lr: 1.2500e-04\n",
      "Epoch 147/500\n",
      "90/90 [==============================] - 7s 76ms/step - loss: 0.0819 - sparse_categorical_accuracy: 0.9719 - val_loss: 0.1036 - val_sparse_categorical_accuracy: 0.9653 - lr: 1.2500e-04\n",
      "Epoch 148/500\n",
      "90/90 [==============================] - 7s 78ms/step - loss: 0.0751 - sparse_categorical_accuracy: 0.9747 - val_loss: 0.1126 - val_sparse_categorical_accuracy: 0.9639 - lr: 1.2500e-04\n",
      "Epoch 149/500\n",
      "90/90 [==============================] - 7s 77ms/step - loss: 0.0753 - sparse_categorical_accuracy: 0.9753 - val_loss: 0.2368 - val_sparse_categorical_accuracy: 0.8988 - lr: 1.2500e-04\n",
      "Epoch 150/500\n",
      "90/90 [==============================] - 7s 81ms/step - loss: 0.0758 - sparse_categorical_accuracy: 0.9747 - val_loss: 0.0968 - val_sparse_categorical_accuracy: 0.9709 - lr: 1.2500e-04\n",
      "Epoch 151/500\n",
      "90/90 [==============================] - 7s 76ms/step - loss: 0.0742 - sparse_categorical_accuracy: 0.9733 - val_loss: 0.1203 - val_sparse_categorical_accuracy: 0.9626 - lr: 1.2500e-04\n",
      "Epoch 152/500\n",
      "90/90 [==============================] - 7s 76ms/step - loss: 0.0799 - sparse_categorical_accuracy: 0.9715 - val_loss: 0.1194 - val_sparse_categorical_accuracy: 0.9626 - lr: 1.2500e-04\n",
      "Epoch 153/500\n",
      "90/90 [==============================] - 7s 75ms/step - loss: 0.0768 - sparse_categorical_accuracy: 0.9705 - val_loss: 0.1843 - val_sparse_categorical_accuracy: 0.9376 - lr: 1.2500e-04\n",
      "Epoch 154/500\n",
      "90/90 [==============================] - 7s 76ms/step - loss: 0.0790 - sparse_categorical_accuracy: 0.9726 - val_loss: 0.1271 - val_sparse_categorical_accuracy: 0.9556 - lr: 1.2500e-04\n",
      "Epoch 155/500\n",
      "90/90 [==============================] - 7s 76ms/step - loss: 0.0790 - sparse_categorical_accuracy: 0.9753 - val_loss: 0.1431 - val_sparse_categorical_accuracy: 0.9473 - lr: 1.2500e-04\n",
      "Epoch 156/500\n",
      "90/90 [==============================] - 7s 76ms/step - loss: 0.0747 - sparse_categorical_accuracy: 0.9747 - val_loss: 0.1218 - val_sparse_categorical_accuracy: 0.9612 - lr: 1.2500e-04\n",
      "Epoch 157/500\n",
      "90/90 [==============================] - 7s 75ms/step - loss: 0.0822 - sparse_categorical_accuracy: 0.9740 - val_loss: 0.1004 - val_sparse_categorical_accuracy: 0.9709 - lr: 1.2500e-04\n",
      "Epoch 158/500\n",
      "90/90 [==============================] - 7s 80ms/step - loss: 0.0782 - sparse_categorical_accuracy: 0.9726 - val_loss: 0.1893 - val_sparse_categorical_accuracy: 0.9237 - lr: 1.2500e-04\n",
      "Epoch 159/500\n",
      "90/90 [==============================] - 7s 80ms/step - loss: 0.0768 - sparse_categorical_accuracy: 0.9760 - val_loss: 0.1032 - val_sparse_categorical_accuracy: 0.9723 - lr: 1.2500e-04\n",
      "Epoch 160/500\n",
      "90/90 [==============================] - 7s 75ms/step - loss: 0.0713 - sparse_categorical_accuracy: 0.9764 - val_loss: 0.1217 - val_sparse_categorical_accuracy: 0.9515 - lr: 1.2500e-04\n",
      "Epoch 161/500\n",
      "90/90 [==============================] - 7s 77ms/step - loss: 0.0724 - sparse_categorical_accuracy: 0.9757 - val_loss: 0.0991 - val_sparse_categorical_accuracy: 0.9709 - lr: 1.2500e-04\n",
      "Epoch 162/500\n",
      "90/90 [==============================] - 7s 79ms/step - loss: 0.0705 - sparse_categorical_accuracy: 0.9740 - val_loss: 0.1209 - val_sparse_categorical_accuracy: 0.9598 - lr: 1.2500e-04\n",
      "Epoch 163/500\n",
      "90/90 [==============================] - 7s 78ms/step - loss: 0.0728 - sparse_categorical_accuracy: 0.9750 - val_loss: 0.2105 - val_sparse_categorical_accuracy: 0.9182 - lr: 1.2500e-04\n",
      "Epoch 164/500\n",
      "90/90 [==============================] - 7s 76ms/step - loss: 0.0739 - sparse_categorical_accuracy: 0.9750 - val_loss: 0.1001 - val_sparse_categorical_accuracy: 0.9681 - lr: 1.2500e-04\n",
      "Epoch 165/500\n",
      "90/90 [==============================] - 7s 76ms/step - loss: 0.0800 - sparse_categorical_accuracy: 0.9729 - val_loss: 0.1004 - val_sparse_categorical_accuracy: 0.9681 - lr: 1.2500e-04\n",
      "Epoch 166/500\n"
     ]
    },
    {
     "name": "stdout",
     "output_type": "stream",
     "text": [
      "90/90 [==============================] - 7s 76ms/step - loss: 0.0707 - sparse_categorical_accuracy: 0.9760 - val_loss: 0.1096 - val_sparse_categorical_accuracy: 0.9695 - lr: 1.2500e-04\n",
      "Epoch 167/500\n",
      "90/90 [==============================] - 7s 77ms/step - loss: 0.0696 - sparse_categorical_accuracy: 0.9767 - val_loss: 0.1008 - val_sparse_categorical_accuracy: 0.9681 - lr: 1.2500e-04\n",
      "Epoch 168/500\n",
      "90/90 [==============================] - 7s 76ms/step - loss: 0.0757 - sparse_categorical_accuracy: 0.9712 - val_loss: 0.1099 - val_sparse_categorical_accuracy: 0.9681 - lr: 1.2500e-04\n",
      "Epoch 169/500\n",
      "90/90 [==============================] - 7s 75ms/step - loss: 0.0812 - sparse_categorical_accuracy: 0.9705 - val_loss: 0.1163 - val_sparse_categorical_accuracy: 0.9681 - lr: 1.2500e-04\n",
      "Epoch 170/500\n",
      "90/90 [==============================] - 7s 76ms/step - loss: 0.0727 - sparse_categorical_accuracy: 0.9767 - val_loss: 0.1606 - val_sparse_categorical_accuracy: 0.9445 - lr: 1.2500e-04\n",
      "Epoch 171/500\n",
      "90/90 [==============================] - 7s 74ms/step - loss: 0.0751 - sparse_categorical_accuracy: 0.9736 - val_loss: 0.0979 - val_sparse_categorical_accuracy: 0.9709 - lr: 1.0000e-04\n",
      "Epoch 172/500\n",
      "90/90 [==============================] - 7s 76ms/step - loss: 0.0754 - sparse_categorical_accuracy: 0.9740 - val_loss: 0.1095 - val_sparse_categorical_accuracy: 0.9695 - lr: 1.0000e-04\n",
      "Epoch 173/500\n",
      "90/90 [==============================] - 7s 75ms/step - loss: 0.0706 - sparse_categorical_accuracy: 0.9781 - val_loss: 0.1896 - val_sparse_categorical_accuracy: 0.9348 - lr: 1.0000e-04\n",
      "Epoch 174/500\n",
      "90/90 [==============================] - 7s 78ms/step - loss: 0.0690 - sparse_categorical_accuracy: 0.9767 - val_loss: 0.1051 - val_sparse_categorical_accuracy: 0.9695 - lr: 1.0000e-04\n",
      "Epoch 175/500\n",
      "90/90 [==============================] - 7s 81ms/step - loss: 0.0732 - sparse_categorical_accuracy: 0.9767 - val_loss: 0.0978 - val_sparse_categorical_accuracy: 0.9695 - lr: 1.0000e-04\n",
      "Epoch 176/500\n",
      "90/90 [==============================] - 7s 82ms/step - loss: 0.0765 - sparse_categorical_accuracy: 0.9733 - val_loss: 0.1010 - val_sparse_categorical_accuracy: 0.9695 - lr: 1.0000e-04\n",
      "Epoch 177/500\n",
      "90/90 [==============================] - 7s 80ms/step - loss: 0.0793 - sparse_categorical_accuracy: 0.9719 - val_loss: 0.0959 - val_sparse_categorical_accuracy: 0.9764 - lr: 1.0000e-04\n",
      "Epoch 178/500\n",
      "90/90 [==============================] - 7s 80ms/step - loss: 0.0719 - sparse_categorical_accuracy: 0.9750 - val_loss: 0.1022 - val_sparse_categorical_accuracy: 0.9681 - lr: 1.0000e-04\n",
      "Epoch 179/500\n",
      "90/90 [==============================] - 8s 86ms/step - loss: 0.0729 - sparse_categorical_accuracy: 0.9726 - val_loss: 0.1170 - val_sparse_categorical_accuracy: 0.9584 - lr: 1.0000e-04\n",
      "Epoch 180/500\n",
      "90/90 [==============================] - 8s 86ms/step - loss: 0.0739 - sparse_categorical_accuracy: 0.9736 - val_loss: 0.1347 - val_sparse_categorical_accuracy: 0.9570 - lr: 1.0000e-04\n",
      "Epoch 181/500\n",
      "90/90 [==============================] - 7s 82ms/step - loss: 0.0717 - sparse_categorical_accuracy: 0.9736 - val_loss: 0.1274 - val_sparse_categorical_accuracy: 0.9584 - lr: 1.0000e-04\n",
      "Epoch 182/500\n",
      "90/90 [==============================] - 7s 78ms/step - loss: 0.0738 - sparse_categorical_accuracy: 0.9753 - val_loss: 0.1810 - val_sparse_categorical_accuracy: 0.9209 - lr: 1.0000e-04\n",
      "Epoch 183/500\n",
      "90/90 [==============================] - 7s 82ms/step - loss: 0.0761 - sparse_categorical_accuracy: 0.9743 - val_loss: 0.0948 - val_sparse_categorical_accuracy: 0.9736 - lr: 1.0000e-04\n",
      "Epoch 184/500\n",
      "90/90 [==============================] - 8s 86ms/step - loss: 0.0714 - sparse_categorical_accuracy: 0.9785 - val_loss: 0.1090 - val_sparse_categorical_accuracy: 0.9570 - lr: 1.0000e-04\n",
      "Epoch 185/500\n",
      "90/90 [==============================] - 7s 82ms/step - loss: 0.0764 - sparse_categorical_accuracy: 0.9733 - val_loss: 0.1644 - val_sparse_categorical_accuracy: 0.9348 - lr: 1.0000e-04\n",
      "Epoch 186/500\n",
      "90/90 [==============================] - 7s 82ms/step - loss: 0.0742 - sparse_categorical_accuracy: 0.9753 - val_loss: 0.1291 - val_sparse_categorical_accuracy: 0.9487 - lr: 1.0000e-04\n",
      "Epoch 187/500\n",
      "90/90 [==============================] - 7s 83ms/step - loss: 0.0682 - sparse_categorical_accuracy: 0.9757 - val_loss: 0.1044 - val_sparse_categorical_accuracy: 0.9639 - lr: 1.0000e-04\n",
      "Epoch 188/500\n",
      "90/90 [==============================] - 8s 86ms/step - loss: 0.0733 - sparse_categorical_accuracy: 0.9743 - val_loss: 0.1013 - val_sparse_categorical_accuracy: 0.9681 - lr: 1.0000e-04\n",
      "Epoch 189/500\n",
      "90/90 [==============================] - 7s 83ms/step - loss: 0.0676 - sparse_categorical_accuracy: 0.9792 - val_loss: 0.1084 - val_sparse_categorical_accuracy: 0.9612 - lr: 1.0000e-04\n",
      "Epoch 190/500\n",
      "90/90 [==============================] - 7s 80ms/step - loss: 0.0697 - sparse_categorical_accuracy: 0.9750 - val_loss: 0.1484 - val_sparse_categorical_accuracy: 0.9390 - lr: 1.0000e-04\n",
      "Epoch 191/500\n",
      "90/90 [==============================] - 7s 79ms/step - loss: 0.0727 - sparse_categorical_accuracy: 0.9729 - val_loss: 0.1104 - val_sparse_categorical_accuracy: 0.9695 - lr: 1.0000e-04\n",
      "Epoch 192/500\n",
      "90/90 [==============================] - 7s 83ms/step - loss: 0.0693 - sparse_categorical_accuracy: 0.9764 - val_loss: 0.1394 - val_sparse_categorical_accuracy: 0.9459 - lr: 1.0000e-04\n",
      "Epoch 193/500\n",
      "90/90 [==============================] - 7s 81ms/step - loss: 0.0755 - sparse_categorical_accuracy: 0.9743 - val_loss: 0.0978 - val_sparse_categorical_accuracy: 0.9681 - lr: 1.0000e-04\n",
      "Epoch 194/500\n",
      "90/90 [==============================] - 7s 80ms/step - loss: 0.0701 - sparse_categorical_accuracy: 0.9736 - val_loss: 0.1044 - val_sparse_categorical_accuracy: 0.9695 - lr: 1.0000e-04\n",
      "Epoch 195/500\n",
      "90/90 [==============================] - 7s 83ms/step - loss: 0.0749 - sparse_categorical_accuracy: 0.9757 - val_loss: 0.1153 - val_sparse_categorical_accuracy: 0.9598 - lr: 1.0000e-04\n",
      "Epoch 196/500\n",
      "90/90 [==============================] - 7s 81ms/step - loss: 0.0662 - sparse_categorical_accuracy: 0.9771 - val_loss: 0.1991 - val_sparse_categorical_accuracy: 0.9168 - lr: 1.0000e-04\n",
      "Epoch 197/500\n",
      "90/90 [==============================] - 7s 82ms/step - loss: 0.0679 - sparse_categorical_accuracy: 0.9781 - val_loss: 0.1075 - val_sparse_categorical_accuracy: 0.9695 - lr: 1.0000e-04\n",
      "Epoch 198/500\n",
      "90/90 [==============================] - 7s 79ms/step - loss: 0.0780 - sparse_categorical_accuracy: 0.9705 - val_loss: 0.0955 - val_sparse_categorical_accuracy: 0.9736 - lr: 1.0000e-04\n",
      "Epoch 199/500\n",
      "90/90 [==============================] - 7s 79ms/step - loss: 0.0668 - sparse_categorical_accuracy: 0.9795 - val_loss: 0.1042 - val_sparse_categorical_accuracy: 0.9681 - lr: 1.0000e-04\n",
      "Epoch 200/500\n",
      "90/90 [==============================] - 7s 80ms/step - loss: 0.0688 - sparse_categorical_accuracy: 0.9760 - val_loss: 0.1171 - val_sparse_categorical_accuracy: 0.9626 - lr: 1.0000e-04\n",
      "Epoch 201/500\n",
      "90/90 [==============================] - 7s 81ms/step - loss: 0.0676 - sparse_categorical_accuracy: 0.9799 - val_loss: 0.1098 - val_sparse_categorical_accuracy: 0.9667 - lr: 1.0000e-04\n",
      "Epoch 202/500\n",
      "90/90 [==============================] - 7s 79ms/step - loss: 0.0712 - sparse_categorical_accuracy: 0.9767 - val_loss: 0.0969 - val_sparse_categorical_accuracy: 0.9750 - lr: 1.0000e-04\n",
      "Epoch 203/500\n",
      "90/90 [==============================] - 7s 79ms/step - loss: 0.0773 - sparse_categorical_accuracy: 0.9733 - val_loss: 0.1080 - val_sparse_categorical_accuracy: 0.9667 - lr: 1.0000e-04\n",
      "Epoch 204/500\n",
      "90/90 [==============================] - 7s 78ms/step - loss: 0.0731 - sparse_categorical_accuracy: 0.9740 - val_loss: 0.1086 - val_sparse_categorical_accuracy: 0.9612 - lr: 1.0000e-04\n",
      "Epoch 205/500\n",
      "90/90 [==============================] - 7s 79ms/step - loss: 0.0703 - sparse_categorical_accuracy: 0.9743 - val_loss: 0.0998 - val_sparse_categorical_accuracy: 0.9695 - lr: 1.0000e-04\n",
      "Epoch 206/500\n",
      "90/90 [==============================] - 7s 79ms/step - loss: 0.0746 - sparse_categorical_accuracy: 0.9747 - val_loss: 0.1027 - val_sparse_categorical_accuracy: 0.9709 - lr: 1.0000e-04\n",
      "Epoch 207/500\n",
      "90/90 [==============================] - 7s 79ms/step - loss: 0.0714 - sparse_categorical_accuracy: 0.9753 - val_loss: 0.1074 - val_sparse_categorical_accuracy: 0.9626 - lr: 1.0000e-04\n",
      "Epoch 208/500\n",
      "90/90 [==============================] - 7s 78ms/step - loss: 0.0714 - sparse_categorical_accuracy: 0.9774 - val_loss: 0.1091 - val_sparse_categorical_accuracy: 0.9653 - lr: 1.0000e-04\n",
      "Epoch 209/500\n",
      "90/90 [==============================] - 7s 79ms/step - loss: 0.0700 - sparse_categorical_accuracy: 0.9764 - val_loss: 0.1414 - val_sparse_categorical_accuracy: 0.9515 - lr: 1.0000e-04\n",
      "Epoch 210/500\n",
      "90/90 [==============================] - 7s 80ms/step - loss: 0.0707 - sparse_categorical_accuracy: 0.9764 - val_loss: 0.1181 - val_sparse_categorical_accuracy: 0.9570 - lr: 1.0000e-04\n",
      "Epoch 211/500\n",
      "90/90 [==============================] - 8s 83ms/step - loss: 0.0762 - sparse_categorical_accuracy: 0.9733 - val_loss: 0.1135 - val_sparse_categorical_accuracy: 0.9639 - lr: 1.0000e-04\n",
      "Epoch 212/500\n",
      "90/90 [==============================] - 7s 81ms/step - loss: 0.0709 - sparse_categorical_accuracy: 0.9774 - val_loss: 0.1053 - val_sparse_categorical_accuracy: 0.9612 - lr: 1.0000e-04\n",
      "Epoch 213/500\n",
      "90/90 [==============================] - 7s 82ms/step - loss: 0.0684 - sparse_categorical_accuracy: 0.9757 - val_loss: 0.1650 - val_sparse_categorical_accuracy: 0.9431 - lr: 1.0000e-04\n",
      "Epoch 214/500\n",
      "90/90 [==============================] - 8s 85ms/step - loss: 0.0707 - sparse_categorical_accuracy: 0.9767 - val_loss: 0.1012 - val_sparse_categorical_accuracy: 0.9667 - lr: 1.0000e-04\n",
      "Epoch 215/500\n",
      "90/90 [==============================] - 7s 83ms/step - loss: 0.0698 - sparse_categorical_accuracy: 0.9753 - val_loss: 0.1222 - val_sparse_categorical_accuracy: 0.9515 - lr: 1.0000e-04\n",
      "Epoch 216/500\n",
      "90/90 [==============================] - 7s 79ms/step - loss: 0.0694 - sparse_categorical_accuracy: 0.9781 - val_loss: 0.1142 - val_sparse_categorical_accuracy: 0.9681 - lr: 1.0000e-04\n",
      "Epoch 217/500\n",
      "90/90 [==============================] - 7s 81ms/step - loss: 0.0672 - sparse_categorical_accuracy: 0.9795 - val_loss: 0.1025 - val_sparse_categorical_accuracy: 0.9709 - lr: 1.0000e-04\n",
      "Epoch 218/500\n",
      "90/90 [==============================] - 7s 80ms/step - loss: 0.0658 - sparse_categorical_accuracy: 0.9792 - val_loss: 0.1288 - val_sparse_categorical_accuracy: 0.9501 - lr: 1.0000e-04\n",
      "Epoch 219/500\n",
      "90/90 [==============================] - 7s 79ms/step - loss: 0.0658 - sparse_categorical_accuracy: 0.9760 - val_loss: 0.1417 - val_sparse_categorical_accuracy: 0.9445 - lr: 1.0000e-04\n",
      "Epoch 220/500\n",
      "90/90 [==============================] - 7s 78ms/step - loss: 0.0694 - sparse_categorical_accuracy: 0.9767 - val_loss: 0.1252 - val_sparse_categorical_accuracy: 0.9515 - lr: 1.0000e-04\n",
      "Epoch 221/500\n",
      "90/90 [==============================] - 7s 78ms/step - loss: 0.0665 - sparse_categorical_accuracy: 0.9792 - val_loss: 0.1004 - val_sparse_categorical_accuracy: 0.9723 - lr: 1.0000e-04\n",
      "Epoch 222/500\n",
      "90/90 [==============================] - 7s 77ms/step - loss: 0.0724 - sparse_categorical_accuracy: 0.9750 - val_loss: 0.1024 - val_sparse_categorical_accuracy: 0.9681 - lr: 1.0000e-04\n",
      "Epoch 223/500\n",
      "90/90 [==============================] - 7s 77ms/step - loss: 0.0669 - sparse_categorical_accuracy: 0.9753 - val_loss: 0.1235 - val_sparse_categorical_accuracy: 0.9584 - lr: 1.0000e-04\n",
      "Epoch 224/500\n",
      "90/90 [==============================] - 7s 77ms/step - loss: 0.0704 - sparse_categorical_accuracy: 0.9767 - val_loss: 0.1205 - val_sparse_categorical_accuracy: 0.9570 - lr: 1.0000e-04\n",
      "Epoch 225/500\n",
      "90/90 [==============================] - 7s 80ms/step - loss: 0.0663 - sparse_categorical_accuracy: 0.9778 - val_loss: 0.0995 - val_sparse_categorical_accuracy: 0.9681 - lr: 1.0000e-04\n",
      "Epoch 226/500\n",
      "90/90 [==============================] - 7s 78ms/step - loss: 0.0747 - sparse_categorical_accuracy: 0.9750 - val_loss: 0.1207 - val_sparse_categorical_accuracy: 0.9528 - lr: 1.0000e-04\n",
      "Epoch 227/500\n",
      "90/90 [==============================] - 7s 79ms/step - loss: 0.0703 - sparse_categorical_accuracy: 0.9767 - val_loss: 0.1009 - val_sparse_categorical_accuracy: 0.9667 - lr: 1.0000e-04\n",
      "Epoch 228/500\n",
      "90/90 [==============================] - 7s 82ms/step - loss: 0.0714 - sparse_categorical_accuracy: 0.9750 - val_loss: 0.1155 - val_sparse_categorical_accuracy: 0.9584 - lr: 1.0000e-04\n",
      "Epoch 229/500\n",
      "90/90 [==============================] - 8s 94ms/step - loss: 0.0667 - sparse_categorical_accuracy: 0.9792 - val_loss: 0.0974 - val_sparse_categorical_accuracy: 0.9723 - lr: 1.0000e-04\n",
      "Epoch 230/500\n",
      "90/90 [==============================] - 8s 85ms/step - loss: 0.0717 - sparse_categorical_accuracy: 0.9757 - val_loss: 0.0971 - val_sparse_categorical_accuracy: 0.9723 - lr: 1.0000e-04\n",
      "Epoch 231/500\n",
      "90/90 [==============================] - 7s 76ms/step - loss: 0.0649 - sparse_categorical_accuracy: 0.9778 - val_loss: 0.1163 - val_sparse_categorical_accuracy: 0.9612 - lr: 1.0000e-04\n",
      "Epoch 232/500\n",
      "90/90 [==============================] - 7s 75ms/step - loss: 0.0751 - sparse_categorical_accuracy: 0.9753 - val_loss: 0.1046 - val_sparse_categorical_accuracy: 0.9695 - lr: 1.0000e-04\n",
      "Epoch 233/500\n",
      "90/90 [==============================] - 7s 75ms/step - loss: 0.0676 - sparse_categorical_accuracy: 0.9771 - val_loss: 0.0983 - val_sparse_categorical_accuracy: 0.9695 - lr: 1.0000e-04\n",
      "Epoch 233: early stopping\n"
     ]
    }
   ],
   "source": [
    "epochs = 500\n",
    "batch_size = 32\n",
    "\n",
    "callbacks = [\n",
    "    keras.callbacks.ModelCheckpoint(\n",
    "        \"best_model.h5\", save_best_only=True, monitor=\"val_loss\"\n",
    "    ),\n",
    "    keras.callbacks.ReduceLROnPlateau(\n",
    "        monitor=\"val_loss\", factor=0.5, patience=20, min_lr=0.0001\n",
    "    ),\n",
    "    keras.callbacks.EarlyStopping(monitor=\"val_loss\", patience=50, verbose=1),\n",
    "]\n",
    "model.compile(\n",
    "    optimizer=\"adam\",\n",
    "    loss=\"sparse_categorical_crossentropy\",\n",
    "    metrics=[\"sparse_categorical_accuracy\"],\n",
    ")\n",
    "history = model.fit(\n",
    "    x_train,\n",
    "    y_train,\n",
    "    batch_size=batch_size,\n",
    "    epochs=epochs,\n",
    "    callbacks=callbacks,\n",
    "    validation_split=0.2,\n",
    "    verbose=1,\n",
    ")"
   ]
  },
  {
   "cell_type": "code",
   "execution_count": null,
   "id": "e9502f15",
   "metadata": {},
   "outputs": [],
   "source": []
  },
  {
   "cell_type": "code",
   "execution_count": 18,
   "id": "378de932",
   "metadata": {},
   "outputs": [
    {
     "name": "stdout",
     "output_type": "stream",
     "text": [
      "42/42 [==============================] - 1s 10ms/step - loss: 0.0931 - sparse_categorical_accuracy: 0.9705\n",
      "Test accuracy 0.9704545736312866\n",
      "Test loss 0.09310950338840485\n"
     ]
    }
   ],
   "source": [
    "model = keras.models.load_model(\"best_model.h5\")\n",
    "\n",
    "test_loss, test_acc = model.evaluate(x_test, y_test)\n",
    "\n",
    "print(\"Test accuracy\", test_acc)\n",
    "print(\"Test loss\", test_loss)"
   ]
  },
  {
   "cell_type": "code",
   "execution_count": null,
   "id": "bb31c5e7",
   "metadata": {},
   "outputs": [],
   "source": []
  },
  {
   "cell_type": "code",
   "execution_count": 19,
   "id": "7a483816",
   "metadata": {},
   "outputs": [
    {
     "data": {
      "image/png": "[encoded data removed]",
      "text/plain": [
       "<Figure size 432x288 with 1 Axes>"
      ]
     },
     "metadata": {
      "needs_background": "light"
     },
     "output_type": "display_data"
    }
   ],
   "source": [
    "metric = \"sparse_categorical_accuracy\"\n",
    "plt.figure()\n",
    "plt.plot(history.history[metric])\n",
    "plt.plot(history.history[\"val_\" + metric])\n",
    "plt.title(\"model \" + metric)\n",
    "plt.ylabel(metric, fontsize=\"large\")\n",
    "plt.xlabel(\"epoch\", fontsize=\"large\")\n",
    "plt.legend([\"train\", \"val\"], loc=\"best\")\n",
    "plt.show()\n",
    "plt.close()"
   ]
  },
  {
   "cell_type": "code",
   "execution_count": null,
   "id": "d3d48a7a",
   "metadata": {},
   "outputs": [],
   "source": []
  },
  {
   "cell_type": "code",
   "execution_count": null,
   "id": "c68fdcb1",
   "metadata": {},
   "outputs": [],
   "source": []
  },
  {
   "cell_type": "code",
   "execution_count": null,
   "id": "529467ad",
   "metadata": {},
   "outputs": [],
   "source": []
  }
 ],
 "metadata": {
  "kernelspec": {
   "display_name": "Python 3 (ipykernel)",
   "language": "python",
   "name": "python3"
  },
  "language_info": {
   "codemirror_mode": {
    "name": "ipython",
    "version": 3
   },
   "file_extension": ".py",
   "mimetype": "text/x-python",
   "name": "python",
   "nbconvert_exporter": "python",
   "pygments_lexer": "ipython3",
   "version": "3.8.13"
  }
 },
 "nbformat": 4,
 "nbformat_minor": 5
}
