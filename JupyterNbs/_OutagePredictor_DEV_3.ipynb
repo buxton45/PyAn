{
 "cells": [
  {
   "cell_type": "markdown",
   "id": "0556a65b",
   "metadata": {},
   "source": [
    "# Originally adapted from IT_DEMO_MODEL_DEV"
   ]
  },
  {
   "cell_type": "code",
   "execution_count": 1,
   "id": "051005d0",
   "metadata": {},
   "outputs": [
    {
     "name": "stdout",
     "output_type": "stream",
     "text": [
      "WARNING:tensorflow:From C:\\Users\\s346557\\Anaconda3\\lib\\site-packages\\keras\\src\\losses.py:2976: The name tf.losses.sparse_softmax_cross_entropy is deprecated. Please use tf.compat.v1.losses.sparse_softmax_cross_entropy instead.\n",
      "\n"
     ]
    }
   ],
   "source": [
    "%run ./model_end_events_for_outages_METHODS.ipynb"
   ]
  },
  {
   "cell_type": "code",
   "execution_count": 2,
   "id": "e9764e04",
   "metadata": {},
   "outputs": [],
   "source": [
    "from importlib import reload\n",
    "#reload(Utilities)\n",
    "#reload(clm)\n",
    "# NOTE: To reload a class imported as, e.g., \n",
    "# from module import class\n",
    "# One must call:\n",
    "#   1. import module\n",
    "#   2. reload module\n",
    "#   3. from module import class\n",
    "\n",
    "#---------------------------------------------------------------------\n",
    "import sys, os\n",
    "import re\n",
    "from pathlib import Path\n",
    "import json\n",
    "import pickle\n",
    "import joblib\n",
    "\n",
    "import pandas as pd\n",
    "import numpy as np\n",
    "from pandas.api.types import is_numeric_dtype, is_datetime64_dtype, is_timedelta64_dtype\n",
    "from scipy import stats\n",
    "import datetime\n",
    "import time\n",
    "from natsort import natsorted, ns, natsort_keygen\n",
    "from packaging import version\n",
    "import random\n",
    "\n",
    "import copy\n",
    "import itertools\n",
    "import adjustText\n",
    "\n",
    "import pyodbc\n",
    "#---------------------------------------------------------------------\n",
    "import matplotlib as mpl\n",
    "import matplotlib.pyplot as plt\n",
    "import seaborn as sns\n",
    "from matplotlib.backends.backend_pdf import PdfPages\n",
    "import matplotlib.patches as mpatches\n",
    "from matplotlib.lines import Line2D\n",
    "import matplotlib.ticker as ticker\n",
    "from matplotlib import dates\n",
    "import matplotlib.colors as mcolors\n",
    "import matplotlib.cm as cm #e.g. for cmap=cm.jet\n",
    "#---------------------------------------------------------------------\n",
    "sys.path.insert(0, os.path.realpath('..'))\n",
    "import Utilities_config\n",
    "#-----\n",
    "from MeterPremise import MeterPremise\n",
    "from EEMSP import EEMSP\n",
    "#-----\n",
    "from AMI_SQL import AMI_SQL\n",
    "from AMINonVee_SQL import AMINonVee_SQL\n",
    "from AMIEndEvents_SQL import AMIEndEvents_SQL\n",
    "from AMIUsgInst_SQL import AMIUsgInst_SQL\n",
    "from DOVSOutages_SQL import DOVSOutages_SQL\n",
    "#-----\n",
    "from GenAn import GenAn\n",
    "from AMINonVee import AMINonVee\n",
    "from AMIEndEvents import AMIEndEvents\n",
    "from AMIEDE_DEV import AMIEDE_DEV\n",
    "from MECPODf import MECPODf\n",
    "from MECPOAn import MECPOAn\n",
    "from AMIUsgInst import AMIUsgInst\n",
    "from DOVSOutages import DOVSOutages\n",
    "from OutagePredictor import OutagePredictor\n",
    "#---------------------------------------------------------------------\n",
    "sys.path.insert(0, Utilities_config.get_sql_aids_dir())\n",
    "import Utilities_sql\n",
    "import TableInfos\n",
    "from TableInfos import TableInfo\n",
    "from SQLElement import SQLElement\n",
    "from SQLElementsCollection import SQLElementsCollection\n",
    "from SQLSelect import SQLSelectElement, SQLSelect\n",
    "from SQLFrom import SQLFrom\n",
    "from SQLWhere import SQLWhereElement, SQLWhere\n",
    "from SQLJoin import SQLJoin, SQLJoinCollection\n",
    "from SQLGroupBy import SQLGroupByElement, SQLGroupBy\n",
    "from SQLHaving import SQLHaving\n",
    "from SQLOrderBy import SQLOrderByElement, SQLOrderBy\n",
    "from SQLQuery import SQLQuery\n",
    "from SQLQueryGeneric import SQLQueryGeneric\n",
    "#---------------------------------------------------------------------\n",
    "#sys.path.insert(0, os.path.join(os.path.realpath('..'), 'Utilities'))\n",
    "sys.path.insert(0, Utilities_config.get_utilities_dir())\n",
    "import Utilities\n",
    "import Utilities_df\n",
    "from Utilities_df import DFConstructType\n",
    "import Utilities_dt\n",
    "import Plot_General\n",
    "import Plot_Box_sns\n",
    "import Plot_Hist\n",
    "import Plot_Bar\n",
    "import GrubbsTest\n",
    "import DataFrameSubsetSlicer\n",
    "from DataFrameSubsetSlicer import DataFrameSubsetSlicer as DFSlicer\n",
    "#---------------------------------------------------------------------"
   ]
  },
  {
   "cell_type": "code",
   "execution_count": 3,
   "id": "f64f9b5d",
   "metadata": {},
   "outputs": [],
   "source": [
    "model_base_dir = r'C:\\Users\\s346557\\Documents\\LocalData\\dovs_and_end_events_data\\20231201\\Models\\All_EEMSP_agg_Top10_v4'"
   ]
  },
  {
   "cell_type": "code",
   "execution_count": 4,
   "id": "5aff019e",
   "metadata": {},
   "outputs": [],
   "source": [
    "prediction_date   = pd.to_datetime('2023-07-27')"
   ]
  },
  {
   "cell_type": "code",
   "execution_count": null,
   "id": "54434f40-2c0c-4da2-9621-dfdeea3d3598",
   "metadata": {},
   "outputs": [],
   "source": []
  },
  {
   "cell_type": "code",
   "execution_count": 5,
   "id": "0059c022-0c19-411c-b6a1-8b17a58cc98f",
   "metadata": {},
   "outputs": [],
   "source": [
    "tmp_f = open(r'C:\\Users\\s346557\\Documents\\LocalData\\dovs_and_end_events_data\\20231201\\Models\\All_EEMSP_agg_Top10_v4\\Slices\\ledger.json')\n",
    "ledger = json.load(tmp_f)\n",
    "tmp_f.close()\n",
    "trsf_pole_nbs_model = natsorted(ledger.keys())"
   ]
  },
  {
   "cell_type": "code",
   "execution_count": 6,
   "id": "dbb499b0-2080-4417-b6b4-42a007fda209",
   "metadata": {},
   "outputs": [],
   "source": [
    "random.seed(42)"
   ]
  },
  {
   "cell_type": "code",
   "execution_count": 7,
   "id": "320b0c0c-8460-4bfa-9a60-e57e33773271",
   "metadata": {},
   "outputs": [
    {
     "name": "stdout",
     "output_type": "stream",
     "text": [
      "n_trsf_pole_nbs = 1000\n",
      "\n",
      "SQL statement:\n",
      "\n"
     ]
    },
    {
     "ename": "OperationalError",
     "evalue": "('08S01', '[08S01] [Simba][DriverIAMSupport] (8600) Connection Error: Authentication failed on the Azure server. Please check the IdP Tenant, User, Password, Client Secret and Client ID. Response code: 400 (8600) (SQLDriverConnect)')",
     "output_type": "error",
     "traceback": [
      "\u001b[1;31m---------------------------------------------------------------------------\u001b[0m",
      "\u001b[1;31mOperationalError\u001b[0m                          Traceback (most recent call last)",
      "Cell \u001b[1;32mIn[7], line 9\u001b[0m\n\u001b[0;32m      7\u001b[0m \u001b[38;5;28mprint\u001b[39m(\u001b[38;5;124mf\u001b[39m\u001b[38;5;124m\"\u001b[39m\u001b[38;5;130;01m\\n\u001b[39;00m\u001b[38;5;124mSQL statement:\u001b[39m\u001b[38;5;130;01m\\n\u001b[39;00m\u001b[38;5;132;01m{\u001b[39;00m\u001b[38;5;28mself\u001b[39m\u001b[38;5;241m.\u001b[39mtrsf_pole_nbs_sql\u001b[38;5;132;01m}\u001b[39;00m\u001b[38;5;124m\"\u001b[39m)\n\u001b[0;32m      8\u001b[0m \u001b[38;5;66;03m#-----\u001b[39;00m\n\u001b[1;32m----> 9\u001b[0m \u001b[38;5;28;43mself\u001b[39;49m\u001b[38;5;241;43m.\u001b[39;49m\u001b[43minitialize_data\u001b[49m\u001b[43m(\u001b[49m\n\u001b[0;32m     10\u001b[0m \u001b[43m    \u001b[49m\u001b[43mevsSum_sql_fcn\u001b[49m\u001b[38;5;241;43m=\u001b[39;49m\u001b[43mAMIEndEvents_SQL\u001b[49m\u001b[38;5;241;43m.\u001b[39;49m\u001b[43mbuild_sql_end_events\u001b[49m\u001b[43m,\u001b[49m\u001b[43m  \u001b[49m\n\u001b[0;32m     11\u001b[0m \u001b[43m    \u001b[49m\u001b[43mevsSum_sql_kwargs\u001b[49m\u001b[38;5;241;43m=\u001b[39;49m\u001b[38;5;28;43mdict\u001b[39;49m\u001b[43m(\u001b[49m\u001b[43mopco\u001b[49m\u001b[38;5;241;43m=\u001b[39;49m\u001b[38;5;124;43m'\u001b[39;49m\u001b[38;5;124;43moh\u001b[39;49m\u001b[38;5;124;43m'\u001b[39;49m\u001b[43m)\u001b[49m\u001b[43m,\u001b[49m\u001b[43m \u001b[49m\n\u001b[0;32m     12\u001b[0m \u001b[43m)\u001b[49m\n",
      "File \u001b[1;32m~\\Documents\\Analysis\\OutagePredictor.py:2115\u001b[0m, in \u001b[0;36mOutagePredictor.initialize_data\u001b[1;34m(self, evsSum_sql_fcn, evsSum_sql_kwargs, freq, group_cols, date_col, normalize_by_SNs, include_power_down_minus_up, regex_patterns_to_remove, combine_cpo_df_reasons, include_n_eemsp)\u001b[0m\n\u001b[0;32m   2111\u001b[0m \u001b[38;5;28;01massert\u001b[39;00m(\u001b[38;5;28mself\u001b[39m\u001b[38;5;241m.\u001b[39mmodel_dir \u001b[38;5;129;01mis\u001b[39;00m \u001b[38;5;129;01mnot\u001b[39;00m \u001b[38;5;28;01mNone\u001b[39;00m \u001b[38;5;129;01mand\u001b[39;00m os\u001b[38;5;241m.\u001b[39mpath\u001b[38;5;241m.\u001b[39mexists(\u001b[38;5;28mself\u001b[39m\u001b[38;5;241m.\u001b[39mmodel_dir))\n\u001b[0;32m   2113\u001b[0m \u001b[38;5;66;03m#-------------------------\u001b[39;00m\n\u001b[0;32m   2114\u001b[0m \u001b[38;5;66;03m# 2. Build events summary (self.__evsSum_df)\u001b[39;00m\n\u001b[1;32m-> 2115\u001b[0m \u001b[38;5;28;43mself\u001b[39;49m\u001b[38;5;241;43m.\u001b[39;49m\u001b[43mbuild_events_summary\u001b[49m\u001b[43m(\u001b[49m\n\u001b[0;32m   2116\u001b[0m \u001b[43m        \u001b[49m\u001b[43mevsSum_sql_fcn\u001b[49m\u001b[38;5;241;43m=\u001b[39;49m\u001b[43mevsSum_sql_fcn\u001b[49m\u001b[43m,\u001b[49m\u001b[43m  \u001b[49m\n\u001b[0;32m   2117\u001b[0m \u001b[43m        \u001b[49m\u001b[43mevsSum_sql_kwargs\u001b[49m\u001b[38;5;241;43m=\u001b[39;49m\u001b[43mevsSum_sql_kwargs\u001b[49m\u001b[43m,\u001b[49m\u001b[43m \u001b[49m\n\u001b[0;32m   2118\u001b[0m \u001b[43m        \u001b[49m\u001b[43msave_args\u001b[49m\u001b[38;5;241;43m=\u001b[39;49m\u001b[38;5;28;43;01mFalse\u001b[39;49;00m\n\u001b[0;32m   2119\u001b[0m \u001b[43m    \u001b[49m\u001b[43m)\u001b[49m\n\u001b[0;32m   2121\u001b[0m \u001b[38;5;66;03m#-------------------------\u001b[39;00m\n\u001b[0;32m   2122\u001b[0m \u001b[38;5;66;03m# 3. Build reason counts per x df (self.rcpx_df)\u001b[39;00m\n\u001b[0;32m   2123\u001b[0m \u001b[38;5;28mself\u001b[39m\u001b[38;5;241m.\u001b[39mrcpx_df \u001b[38;5;241m=\u001b[39m OutagePredictor\u001b[38;5;241m.\u001b[39mbuild_rcpx_from_evsSum_df(\n\u001b[0;32m   2124\u001b[0m     evsSum_df                   \u001b[38;5;241m=\u001b[39m \u001b[38;5;28mself\u001b[39m\u001b[38;5;241m.\u001b[39mevsSum_df,  \n\u001b[0;32m   2125\u001b[0m     data_structure_df           \u001b[38;5;241m=\u001b[39m \u001b[38;5;28mself\u001b[39m\u001b[38;5;241m.\u001b[39mdata_structure_df, \n\u001b[1;32m   (...)\u001b[0m\n\u001b[0;32m   2143\u001b[0m     nSNs_col                    \u001b[38;5;241m=\u001b[39m \u001b[38;5;124m'\u001b[39m\u001b[38;5;124mnSNs\u001b[39m\u001b[38;5;124m'\u001b[39m\n\u001b[0;32m   2144\u001b[0m )\n",
      "File \u001b[1;32m~\\Documents\\Analysis\\OutagePredictor.py:699\u001b[0m, in \u001b[0;36mOutagePredictor.build_events_summary\u001b[1;34m(self, evsSum_sql_fcn, evsSum_sql_kwargs, save_args)\u001b[0m\n\u001b[0;32m    692\u001b[0m \u001b[38;5;250m\u001b[39m\u001b[38;5;124mr\u001b[39m\u001b[38;5;124;03m\"\"\"\u001b[39;00m\n\u001b[0;32m    693\u001b[0m \u001b[38;5;124;03mIf user supplies any evsSum_sql_kwargs, user SHOULD NOT include:\u001b[39;00m\n\u001b[0;32m    694\u001b[0m \u001b[38;5;124;03m    - date_range\u001b[39;00m\n\u001b[0;32m    695\u001b[0m \u001b[38;5;124;03m    - trsf_pole_nbs\u001b[39;00m\n\u001b[0;32m    696\u001b[0m \u001b[38;5;124;03mas these will be supplied from self\u001b[39;00m\n\u001b[0;32m    697\u001b[0m \u001b[38;5;124;03m\"\"\"\u001b[39;00m\n\u001b[0;32m    698\u001b[0m \u001b[38;5;66;03m#-------------------------\u001b[39;00m\n\u001b[1;32m--> 699\u001b[0m \u001b[38;5;28;43mself\u001b[39;49m\u001b[38;5;241;43m.\u001b[39;49m\u001b[43mbuild_events_summary_general\u001b[49m\u001b[43m(\u001b[49m\u001b[43m \u001b[49m\n\u001b[0;32m    700\u001b[0m \u001b[43m    \u001b[49m\u001b[43mdate_ranges\u001b[49m\u001b[43m       \u001b[49m\u001b[38;5;241;43m=\u001b[39;49m\u001b[43m \u001b[49m\u001b[43m[\u001b[49m\u001b[38;5;28;43mself\u001b[39;49m\u001b[38;5;241;43m.\u001b[39;49m\u001b[43mdate_range\u001b[49m\u001b[43m]\u001b[49m\u001b[43m,\u001b[49m\u001b[43m \u001b[49m\n\u001b[0;32m    701\u001b[0m \u001b[43m    \u001b[49m\u001b[43mevsSum_sql_fcn\u001b[49m\u001b[43m    \u001b[49m\u001b[38;5;241;43m=\u001b[39;49m\u001b[43m \u001b[49m\u001b[43mevsSum_sql_fcn\u001b[49m\u001b[43m,\u001b[49m\u001b[43m  \u001b[49m\n\u001b[0;32m    702\u001b[0m \u001b[43m    \u001b[49m\u001b[43mevsSum_sql_kwargs\u001b[49m\u001b[43m \u001b[49m\u001b[38;5;241;43m=\u001b[39;49m\u001b[43m \u001b[49m\u001b[43mevsSum_sql_kwargs\u001b[49m\u001b[43m,\u001b[49m\u001b[43m \u001b[49m\n\u001b[0;32m    703\u001b[0m \u001b[43m    \u001b[49m\u001b[43msave_args\u001b[49m\u001b[43m         \u001b[49m\u001b[38;5;241;43m=\u001b[39;49m\u001b[43m \u001b[49m\u001b[43msave_args\u001b[49m\n\u001b[0;32m    704\u001b[0m \u001b[43m\u001b[49m\u001b[43m)\u001b[49m\n",
      "File \u001b[1;32m~\\Documents\\Analysis\\OutagePredictor.py:661\u001b[0m, in \u001b[0;36mOutagePredictor.build_events_summary_general\u001b[1;34m(self, date_ranges, evsSum_sql_fcn, evsSum_sql_kwargs, save_args)\u001b[0m\n\u001b[0;32m    657\u001b[0m \u001b[38;5;28mself\u001b[39m\u001b[38;5;241m.\u001b[39m__evsSum_sql_kwargs \u001b[38;5;241m=\u001b[39m copy\u001b[38;5;241m.\u001b[39mdeepcopy(evsSum_sql_kwargs)\n\u001b[0;32m    658\u001b[0m \u001b[38;5;66;03m#-------------------------\u001b[39;00m\n\u001b[0;32m    659\u001b[0m evsSum \u001b[38;5;241m=\u001b[39m AMIEndEvents(\n\u001b[0;32m    660\u001b[0m     df_construct_type         \u001b[38;5;241m=\u001b[39m DFConstructType\u001b[38;5;241m.\u001b[39mkRunSqlQuery, \n\u001b[1;32m--> 661\u001b[0m     contstruct_df_args        \u001b[38;5;241m=\u001b[39m \u001b[38;5;28mdict\u001b[39m(conn_db\u001b[38;5;241m=\u001b[39m\u001b[38;5;28;43mself\u001b[39;49m\u001b[38;5;241;43m.\u001b[39;49m\u001b[43mconn_aws\u001b[49m), \n\u001b[0;32m    662\u001b[0m     build_sql_function        \u001b[38;5;241m=\u001b[39m \u001b[38;5;28mself\u001b[39m\u001b[38;5;241m.\u001b[39mevsSum_sql_fcn, \n\u001b[0;32m    663\u001b[0m     build_sql_function_kwargs \u001b[38;5;241m=\u001b[39m \u001b[38;5;28mself\u001b[39m\u001b[38;5;241m.\u001b[39mevsSum_sql_kwargs, \n\u001b[0;32m    664\u001b[0m     init_df_in_constructor    \u001b[38;5;241m=\u001b[39m \u001b[38;5;28;01mTrue\u001b[39;00m, \n\u001b[0;32m    665\u001b[0m     save_args                 \u001b[38;5;241m=\u001b[39m save_args\n\u001b[0;32m    666\u001b[0m )\n\u001b[0;32m    667\u001b[0m \u001b[38;5;66;03m#-------------------------\u001b[39;00m\n\u001b[0;32m    668\u001b[0m \u001b[38;5;28;01mif\u001b[39;00m \u001b[38;5;28mself\u001b[39m\u001b[38;5;241m.\u001b[39m__evsSum_df \u001b[38;5;129;01mis\u001b[39;00m \u001b[38;5;28;01mNone\u001b[39;00m \u001b[38;5;129;01mor\u001b[39;00m \u001b[38;5;28mself\u001b[39m\u001b[38;5;241m.\u001b[39m__evsSum_df\u001b[38;5;241m.\u001b[39mshape[\u001b[38;5;241m0\u001b[39m]\u001b[38;5;241m==\u001b[39m\u001b[38;5;241m0\u001b[39m:\n",
      "File \u001b[1;32m~\\Documents\\Analysis\\OutagePredictor.py:184\u001b[0m, in \u001b[0;36mOutagePredictor.conn_aws\u001b[1;34m(self)\u001b[0m\n\u001b[0;32m    181\u001b[0m \u001b[38;5;129m@property\u001b[39m\n\u001b[0;32m    182\u001b[0m \u001b[38;5;28;01mdef\u001b[39;00m \u001b[38;5;21mconn_aws\u001b[39m(\u001b[38;5;28mself\u001b[39m):\n\u001b[0;32m    183\u001b[0m     \u001b[38;5;28;01mif\u001b[39;00m \u001b[38;5;28mself\u001b[39m\u001b[38;5;241m.\u001b[39m__conn_aws \u001b[38;5;129;01mis\u001b[39;00m \u001b[38;5;28;01mNone\u001b[39;00m:\n\u001b[1;32m--> 184\u001b[0m         \u001b[38;5;28mself\u001b[39m\u001b[38;5;241m.\u001b[39m__conn_aws  \u001b[38;5;241m=\u001b[39m \u001b[43mUtilities\u001b[49m\u001b[38;5;241;43m.\u001b[39;49m\u001b[43mget_athena_prod_aws_connection\u001b[49m\u001b[43m(\u001b[49m\u001b[43m)\u001b[49m\n\u001b[0;32m    185\u001b[0m     \u001b[38;5;28;01mreturn\u001b[39;00m \u001b[38;5;28mself\u001b[39m\u001b[38;5;241m.\u001b[39m__conn_aws\n",
      "File \u001b[1;32m~\\Documents\\Analysis\\Utilities\\Utilities.py:116\u001b[0m, in \u001b[0;36mget_athena_prod_aws_connection\u001b[1;34m(aep_user_id)\u001b[0m\n\u001b[0;32m    114\u001b[0m pwd_aws \u001b[38;5;241m=\u001b[39m get_pwd()\n\u001b[0;32m    115\u001b[0m conn_str \u001b[38;5;241m=\u001b[39m \u001b[38;5;124m'\u001b[39m\u001b[38;5;124mDSN=\u001b[39m\u001b[38;5;124m'\u001b[39m \u001b[38;5;241m+\u001b[39m dsn \u001b[38;5;241m+\u001b[39m \u001b[38;5;124m'\u001b[39m\u001b[38;5;124m;Uid=\u001b[39m\u001b[38;5;124m'\u001b[39m \u001b[38;5;241m+\u001b[39m db_user \u001b[38;5;241m+\u001b[39m \u001b[38;5;124m'\u001b[39m\u001b[38;5;124m;PWD=\u001b[39m\u001b[38;5;124m'\u001b[39m \u001b[38;5;241m+\u001b[39m pwd_aws \u001b[38;5;241m+\u001b[39m \u001b[38;5;124m'\u001b[39m\u001b[38;5;124m;\u001b[39m\u001b[38;5;124m'\u001b[39m\n\u001b[1;32m--> 116\u001b[0m conn_aws \u001b[38;5;241m=\u001b[39m \u001b[43mpyodbc\u001b[49m\u001b[38;5;241;43m.\u001b[39;49m\u001b[43mconnect\u001b[49m\u001b[43m(\u001b[49m\u001b[43mconn_str\u001b[49m\u001b[43m,\u001b[49m\u001b[43m \u001b[49m\u001b[43mautocommit\u001b[49m\u001b[38;5;241;43m=\u001b[39;49m\u001b[38;5;28;43;01mTrue\u001b[39;49;00m\u001b[43m)\u001b[49m\n\u001b[0;32m    117\u001b[0m \u001b[38;5;28;01mreturn\u001b[39;00m conn_aws\n",
      "\u001b[1;31mOperationalError\u001b[0m: ('08S01', '[08S01] [Simba][DriverIAMSupport] (8600) Connection Error: Authentication failed on the Azure server. Please check the IdP Tenant, User, Password, Client Secret and Client ID. Response code: 400 (8600) (SQLDriverConnect)')"
     ]
    }
   ],
   "source": [
    "self = OutagePredictor(prediction_date=prediction_date)\n",
    "#-----\n",
    "self.set_model_dir(r'C:\\Users\\s346557\\Documents\\LocalData\\dovs_and_end_events_data\\20231201\\Models\\All_EEMSP_agg_Top10_v4')\n",
    "#-----\n",
    "self.set_trsf_pole_nbs(trsf_pole_nbs = random.sample(trsf_pole_nbs_model, 1000))\n",
    "print(f\"n_trsf_pole_nbs = {len(self.trsf_pole_nbs)}\")\n",
    "print(f\"\\nSQL statement:\\n{self.trsf_pole_nbs_sql}\")\n",
    "#-----\n",
    "self.initialize_data(\n",
    "    evsSum_sql_fcn=AMIEndEvents_SQL.build_sql_end_events,  \n",
    "    evsSum_sql_kwargs=dict(opco='oh'), \n",
    ")"
   ]
  },
  {
   "cell_type": "code",
   "execution_count": null,
   "id": "2f82eef5-72cc-4145-b420-69dd96f771ce",
   "metadata": {},
   "outputs": [],
   "source": []
  },
  {
   "cell_type": "code",
   "execution_count": null,
   "id": "94750f02",
   "metadata": {},
   "outputs": [],
   "source": [
    "# Make predictions\n",
    "y_pred = self.model_clf.predict(self.X_test)"
   ]
  },
  {
   "cell_type": "code",
   "execution_count": null,
   "id": "bd717c29",
   "metadata": {},
   "outputs": [],
   "source": [
    "y_scores = self.model_clf.predict_proba(self.X_test)"
   ]
  },
  {
   "cell_type": "code",
   "execution_count": 8,
   "id": "6356c111",
   "metadata": {},
   "outputs": [
    {
     "ename": "NameError",
     "evalue": "name 'y_scores' is not defined",
     "output_type": "error",
     "traceback": [
      "\u001b[1;31m---------------------------------------------------------------------------\u001b[0m",
      "\u001b[1;31mNameError\u001b[0m                                 Traceback (most recent call last)",
      "Cell \u001b[1;32mIn[8], line 3\u001b[0m\n\u001b[0;32m      1\u001b[0m \u001b[38;5;66;03m# Sanity check\u001b[39;00m\n\u001b[0;32m      2\u001b[0m threshold\u001b[38;5;241m=\u001b[39m\u001b[38;5;241m0.5\u001b[39m\n\u001b[1;32m----> 3\u001b[0m y_pred_from_proba \u001b[38;5;241m=\u001b[39m [\u001b[38;5;28mint\u001b[39m(x\u001b[38;5;241m>\u001b[39mthreshold) \u001b[38;5;28;01mfor\u001b[39;00m x \u001b[38;5;129;01min\u001b[39;00m \u001b[43my_scores\u001b[49m[:, \u001b[38;5;241m1\u001b[39m]]\n\u001b[0;32m      4\u001b[0m \u001b[38;5;28;01massert\u001b[39;00m(\u001b[38;5;28mall\u001b[39m(y_pred_from_proba\u001b[38;5;241m==\u001b[39my_pred))\n",
      "\u001b[1;31mNameError\u001b[0m: name 'y_scores' is not defined"
     ]
    }
   ],
   "source": [
    "# Sanity check\n",
    "threshold=0.5\n",
    "y_pred_from_proba = [int(x>threshold) for x in y_scores[:, 1]]\n",
    "assert(all(y_pred_from_proba==y_pred))"
   ]
  },
  {
   "cell_type": "code",
   "execution_count": null,
   "id": "96ec653a",
   "metadata": {},
   "outputs": [],
   "source": [
    "[x for x in y_scores[:, 1]]==[x[1] for x in y_scores]"
   ]
  },
  {
   "cell_type": "code",
   "execution_count": null,
   "id": "f80725b3",
   "metadata": {},
   "outputs": [],
   "source": [
    "y_pred.sum()"
   ]
  },
  {
   "cell_type": "code",
   "execution_count": null,
   "id": "5db32bc0",
   "metadata": {},
   "outputs": [],
   "source": []
  },
  {
   "cell_type": "code",
   "execution_count": null,
   "id": "1a7b8945-c114-42b2-9083-0bf982d3f2a4",
   "metadata": {},
   "outputs": [],
   "source": []
  },
  {
   "cell_type": "code",
   "execution_count": null,
   "id": "2974a05e-2b02-40cf-9002-d83b564bb569",
   "metadata": {},
   "outputs": [],
   "source": [
    "trsf_pole_nbs = self.trsf_pole_nbs"
   ]
  },
  {
   "cell_type": "code",
   "execution_count": null,
   "id": "77a98998-0ab4-48e7-9485-48e8d5c731f7",
   "metadata": {},
   "outputs": [],
   "source": [
    "# trsf_pole_nbs"
   ]
  },
  {
   "cell_type": "code",
   "execution_count": null,
   "id": "49ea1541-4197-475b-8d17-daec01ae82ea",
   "metadata": {},
   "outputs": [],
   "source": [
    "def build_ledger_inv(\n",
    "    ledger, \n",
    "    return_type = pd.Series, \n",
    "    trsf_pole_nbs = None\n",
    "):\n",
    "    r\"\"\"\n",
    "    Input:\n",
    "        keys   = trsf_pole_nbs\n",
    "        values = model identifiers\n",
    "\n",
    "    Output:\n",
    "        return_type == pd.Series\n",
    "            a pd.Series object with index equal to model identifier and values equal to lists of trsf_pole_nbs\n",
    "        return_type == dict\n",
    "            keys   = model identifiers\n",
    "            values = lists of trsf_pole_nbs covered by model\n",
    "\n",
    "    trsf_pole_nbs:\n",
    "        If None, simply inver ledger\n",
    "        If supplied, ensure they are contained in ledger, and then return inverted version of ledger only containing the \n",
    "          poles contained in trsf_pole_nbs\n",
    "    \"\"\"\n",
    "    #-------------------------\n",
    "    assert(return_type in [pd.Series, dict])\n",
    "    #-------------------------\n",
    "    ledger_srs = pd.Series(ledger)\n",
    "    #-------------------------\n",
    "    if trsf_pole_nbs is not None:\n",
    "        assert(set(trsf_pole_nbs).difference(set(ledger.keys()))==set())\n",
    "        ledger_srs = ledger_srs.loc[trsf_pole_nbs]\n",
    "    #-------------------------\n",
    "    # Invert the series, so indices are model ids and values are trsf_pole_nbs\n",
    "    # AND group by model id and collect trsf_pole_nbs in lists\n",
    "    ledger_inv = pd.Series(ledger_srs.index.values, index=ledger_srs).groupby(level=0).apply(list)\n",
    "    #-------------------------\n",
    "    if return_type==dict:\n",
    "        ledger_inv = ledger_inv.to_dict()\n",
    "    #-------------------------\n",
    "    return ledger_inv\n",
    "\n",
    "\n",
    "def group_trsf_pole_nbs_by_model(\n",
    "    trsf_pole_nbs, \n",
    "    ledger\n",
    "):\n",
    "    r\"\"\"\n",
    "    Returns a pd.Series object with index equal to model identifier and values equal to lists of trsf_pole_nbs\n",
    "    \"\"\"\n",
    "    #-------------------------\n",
    "    ledger_inv = build_ledger_inv(\n",
    "        ledger        = ledger, \n",
    "        return_type   = pd.Series, \n",
    "        trsf_pole_nbs = trsf_pole_nbs        \n",
    "    )\n",
    "    #-------------------------\n",
    "    return ledger_inv"
   ]
  },
  {
   "cell_type": "code",
   "execution_count": null,
   "id": "cca8a574-d3dd-46d9-894e-838f4493aa17",
   "metadata": {},
   "outputs": [],
   "source": []
  },
  {
   "cell_type": "code",
   "execution_count": null,
   "id": "3479462e-78a4-4dd0-ae91-17922e3801f9",
   "metadata": {},
   "outputs": [],
   "source": []
  },
  {
   "cell_type": "code",
   "execution_count": null,
   "id": "214e6463-b50d-4400-81d9-7e4e4a224560",
   "metadata": {},
   "outputs": [],
   "source": [
    "ledger_inv_srs = group_trsf_pole_nbs_by_model(\n",
    "    trsf_pole_nbs = trsf_pole_nbs, \n",
    "    ledger        = ledger\n",
    ")"
   ]
  },
  {
   "cell_type": "code",
   "execution_count": null,
   "id": "7813f8b2-45cc-4d81-aa0b-aaca1f070c94",
   "metadata": {},
   "outputs": [],
   "source": [
    "ledger_inv_srs"
   ]
  },
  {
   "cell_type": "code",
   "execution_count": null,
   "id": "b48f9ed5-2289-4632-ad75-a6ec1390d7cc",
   "metadata": {},
   "outputs": [],
   "source": [
    "model_i = 7\n",
    "trsf_poles_i = ledger_inv_srs[model_i]\n",
    "\n",
    "print(model_i)\n",
    "model_i_dir = os.path.join(model_base_dir, 'Slices', str(model_i))\n",
    "assert(os.path.isdir(model_i_dir))\n",
    "#-------------------------\n",
    "# If no model able to be made for group, directory will be empty\n",
    "# if not os.listdir(model_i_dir):\n",
    "#     print('No model compiled.\\nContinuing to next')\n",
    "#     continue\n",
    "#-------------------------\n",
    "predictor_i = OutagePredictor(prediction_date=prediction_date)\n",
    "predictor_i.set_model_dir(model_i_dir)\n",
    "predictor_i.set_trsf_pole_nbs(trsf_poles_i)\n",
    "predictor_i.initialize_data(\n",
    "    evsSum_sql_fcn=AMIEndEvents_SQL.build_sql_end_events,  \n",
    "    evsSum_sql_kwargs=dict(opco='oh'), \n",
    ")\n",
    "#-------------------------\n",
    "# assert(model_i not in predictors.keys())\n",
    "# predictors[model_i] = predictor_i"
   ]
  },
  {
   "cell_type": "code",
   "execution_count": null,
   "id": "7e47bd93-05fe-42be-829c-bd6d46631278",
   "metadata": {},
   "outputs": [],
   "source": [
    "predictor_i.evsSum_df.shape[0]"
   ]
  },
  {
   "cell_type": "code",
   "execution_count": null,
   "id": "d53291a2-7b96-4ee7-9da7-73a9437158d9",
   "metadata": {},
   "outputs": [],
   "source": [
    "len(list(set(predictor_i.trsf_pole_nbs).difference(set(predictor_i.evsSum_df['trsf_pole_nb'].unique()))))"
   ]
  },
  {
   "cell_type": "code",
   "execution_count": null,
   "id": "8234db71-2ced-40b5-b235-917143e1d0d9",
   "metadata": {},
   "outputs": [],
   "source": [
    "list(set(predictor_i.trsf_pole_nbs).difference(set(predictor_i.evsSum_df['trsf_pole_nb'].unique())))"
   ]
  },
  {
   "cell_type": "code",
   "execution_count": null,
   "id": "726e7b18-5832-476f-9f2a-3ce9817869a3",
   "metadata": {},
   "outputs": [],
   "source": []
  },
  {
   "cell_type": "code",
   "execution_count": null,
   "id": "c0c9e8a2-8741-4705-9a75-2c0ee95f3efd",
   "metadata": {},
   "outputs": [],
   "source": []
  },
  {
   "cell_type": "code",
   "execution_count": null,
   "id": "9422f5ed-5889-4b6d-871f-e1baa02e7af2",
   "metadata": {},
   "outputs": [],
   "source": [
    "self = predictor_i\n",
    "\n",
    "# date          = '2023-07-26'\n",
    "# date = (self.prediction_date - 0.5*(self.idk_name_1+self.idk_name_2)).date()\n",
    "date = self.prediction_date - self.idk_name_2\n",
    "evsSum_sql_kwargs = dict(opco='oh')\n",
    "date_col='aep_event_dt'"
   ]
  },
  {
   "cell_type": "code",
   "execution_count": null,
   "id": "82ff5d95-6b55-4016-9686-b72b046be335",
   "metadata": {},
   "outputs": [],
   "source": []
  },
  {
   "cell_type": "code",
   "execution_count": null,
   "id": "c9167b6e-7916-4630-9c20-df84a1f1f2ab",
   "metadata": {},
   "outputs": [],
   "source": []
  },
  {
   "cell_type": "code",
   "execution_count": null,
   "id": "09d2e9fe-938a-4e14-836a-8f7cae9d97fe",
   "metadata": {},
   "outputs": [],
   "source": [
    "def build_zero_counts_evsSum_df_OLD(\n",
    "    self, \n",
    "    date_col          = 'aep_event_dt', \n",
    "    verbose           = True\n",
    "):\n",
    "    r\"\"\"\n",
    "    Any transformer whose meters did not register events will not be retrieved by the query.\n",
    "        Therefore, they must be added by hand.\n",
    "        That is the purpose of this function.\n",
    "\n",
    "    To avoid any more confusion than necessary, self.__evsSum_df will contain only meters registering events\n",
    "        This is natural, as the SQL query will only return such elements.\n",
    "        Therefore, the zero_counts_df built here will not be appended to self.__evsSum_df.\n",
    "\n",
    "    This function will produce a pd.DataFrame object of the same form as self.__evsSum_df for the transformers whose meters\n",
    "      did not register an event.\n",
    "    Only one single date is needed for each transformer, the function OutagePredictor.build_rcpx_from_evsSum_df will handle the rest, as usual.\n",
    "    IMPORTANT NOTE: It doesn't really matter what this single date is, AS LONG AS IT FALLS WITHIN THE WINDOW OF INTEREST.\n",
    "                      i.e., the date must be between start=prediction_date-td_max and end=prediction_date-td_min.\n",
    "                    However, it does slightly matter, as the function OutagePredictor.get_xfmr_meter_cnt_closest_to_date will be used to find the meter counts for\n",
    "                      the transformers, and therefore using the date closest to the prediction date is likely to best choice (although, the meter count\n",
    "                      is likely stable during the window of interest, which is why it doesn't really matter much)\n",
    "    \"\"\"\n",
    "    #--------------------------------------------------\n",
    "    zero_counts_xfmrs = list(set(self.trsf_pole_nbs).difference(set(self.evsSum_df['trsf_pole_nb'].unique())))\n",
    "    #-------------------------\n",
    "    if len(zero_counts_xfmrs)==0:\n",
    "        # return pd.DataFrame()\n",
    "        return None\n",
    "    #-------------------------\n",
    "    date              = self.prediction_date - self.idk_name_2\n",
    "    evsSum_sql_kwargs = self.evsSum_sql_kwargs\n",
    "    #-----\n",
    "    # Let trsf_pole_nbs, cols_of_interest, and date (and, therefore, date_range) be handled by OutagePredictor.get_xfmr_meter_cnt_closest_to_date\n",
    "    keys_to_ignore = ['trsf_pole_nbs', 'trsf_pole_nb', 'cols_of_interest', 'date', 'date_range', 'datetime_range']\n",
    "    evsSum_sql_kwargs = {k:v for k,v in evsSum_sql_kwargs.items() if k not in keys_to_ignore}\n",
    "    #----------\n",
    "    zero_counts_df = OutagePredictor.get_xfmr_meter_cnt_closest_to_date(\n",
    "        trsf_pole_nbs      = zero_counts_xfmrs, \n",
    "        date               = date, \n",
    "        evsSum_sql_kwargs  = evsSum_sql_kwargs, \n",
    "        include_meter_cols = True, \n",
    "        batch_size         = 1000, \n",
    "        verbose            = verbose, \n",
    "        n_update           = 10, \n",
    "        conn_aws           = self.conn_aws, \n",
    "        return_sql         = False,\n",
    "        keep_extra_cols    = False\n",
    "    )\n",
    "    #-------------------------\n",
    "    tmp_idx_col = Utilities.generate_random_string()\n",
    "    zero_counts_df[tmp_idx_col] = list(range(self.evsSum_df.shape[0], self.evsSum_df.shape[0]+zero_counts_df.shape[0]))\n",
    "    zero_counts_df = zero_counts_df.set_index(tmp_idx_col, drop=True)\n",
    "    zero_counts_df.index.name = None\n",
    "    #--------------------------------------------------\n",
    "    addtln_zero_counts_df_cols = pd.DataFrame(\n",
    "        data    = 0, \n",
    "        index   = list(range(self.evsSum_df.shape[0], self.evsSum_df.shape[0]+zero_counts_df.shape[0])), \n",
    "        columns = list(set(self.evsSum_df.columns).difference(set(zero_counts_df.columns)))\n",
    "    )\n",
    "    assert(all(zero_counts_df.index==addtln_zero_counts_df_cols.index))\n",
    "    zero_counts_df = pd.concat([zero_counts_df, addtln_zero_counts_df_cols], axis=1, ignore_index=False)\n",
    "    #-------------------------\n",
    "    # As described above, only need each trsf_pole_nb to have a single entry within the window of interest, the fuction\n",
    "    # OutagePredictor.project_time_pd_from_rcpx_0_and_prepare will handle zeroing everything else out\n",
    "    zero_counts_df[date_col] = date\n",
    "    #-----\n",
    "    assert(set(self.evsSum_df.columns).symmetric_difference(set(zero_counts_df.columns))==set())\n",
    "    zero_counts_df = zero_counts_df[self.evsSum_df.columns]\n",
    "    #--------------------------------------------------\n",
    "    return zero_counts_df"
   ]
  },
  {
   "cell_type": "code",
   "execution_count": null,
   "id": "01bf14a7-be7d-4ccd-8ec3-fe76e2fb306f",
   "metadata": {},
   "outputs": [],
   "source": [
    "# def build_zero_counts_evsSum_df(\n",
    "#     trsf_pole_nbs, \n",
    "#     evsSum_df, \n",
    "#     date, \n",
    "#     evsSum_sql_kwargs = None, \n",
    "#     date_col          = 'aep_event_dt',\n",
    "#     trsf_pole_nb_col  = 'trsf_pole_nb', \n",
    "#     conn_aws          = None, \n",
    "#     verbose           = True\n",
    "# ):\n",
    "#     r\"\"\"\n",
    "#     Any transformer whose meters did not register events will not be retrieved by the query.\n",
    "#         Therefore, they must be added by hand.\n",
    "#         That is the purpose of this function.\n",
    "\n",
    "#     Find any trsf_pole_nbs missing from evsSum_df, grab their meter counts info from events_summary_vw, and then populate\n",
    "#       a pd.DataFrame of same structure as evsSum_df with all zeros for counts on date input  (intended to be self.prediction_date - self.idk_name_2).\n",
    "#     NOTE: This originally was not a static function, hence the somewhat strange structure and documentation.\n",
    "#     NOTE: keys_to_ignore (defined below) will be ignored if input in evsSum_sql_kwargs\n",
    "\n",
    "#     To avoid any more confusion than necessary, self.__evsSum_df will contain only meters registering events\n",
    "#         This is natural, as the SQL query will only return such elements.\n",
    "#         Therefore, the zero_counts_df built here will not be appended to self.__evsSum_df.\n",
    "\n",
    "#     This function will produce a pd.DataFrame object of the same form as self.__evsSum_df for the transformers whose meters\n",
    "#       did not register an event.\n",
    "#     Only one single date is needed for each transformer, the function OutagePredictor.build_rcpx_from_evsSum_df will handle the rest, as usual.\n",
    "#     IMPORTANT NOTE: It doesn't really matter what this single date is, AS LONG AS IT FALLS WITHIN THE WINDOW OF INTEREST.\n",
    "#                       i.e., the date must be between start=prediction_date-td_max and end=prediction_date-td_min.\n",
    "#                     However, it does slightly matter, as the function OutagePredictor.get_xfmr_meter_cnt_closest_to_date will be used to find the meter counts for\n",
    "#                       the transformers, and therefore using the date closest to the prediction date is likely to best choice (although, the meter count\n",
    "#                       is likely stable during the window of interest, which is why it doesn't really matter much)\n",
    "#     \"\"\"\n",
    "#     #--------------------------------------------------\n",
    "#     zero_counts_xfmrs = list(set(trsf_pole_nbs).difference(set(evsSum_df[trsf_pole_nb_col].unique())))\n",
    "#     #-------------------------\n",
    "#     if len(zero_counts_xfmrs)==0:\n",
    "#         # return pd.DataFrame()\n",
    "#         return None\n",
    "#     #-------------------------\n",
    "#     if evsSum_sql_kwargs is None:\n",
    "#         evsSum_sql_kwargs = dict()\n",
    "#     assert(isinstance(evsSum_sql_kwargs, dict))\n",
    "#     #-----\n",
    "#     # Let trsf_pole_nbs, cols_of_interest, and date (and, therefore, date_range) be handled by OutagePredictor.get_xfmr_meter_cnt_closest_to_date\n",
    "#     keys_to_ignore = ['trsf_pole_nbs', 'trsf_pole_nb', 'cols_of_interest', 'date', 'date_range', 'datetime_range']\n",
    "#     evsSum_sql_kwargs = {k:v for k,v in evsSum_sql_kwargs.items() if k not in keys_to_ignore}\n",
    "#     #----------\n",
    "#     zero_counts_df = OutagePredictor.get_xfmr_meter_cnt_closest_to_date(\n",
    "#         trsf_pole_nbs      = zero_counts_xfmrs, \n",
    "#         date               = date, \n",
    "#         evsSum_sql_kwargs  = evsSum_sql_kwargs, \n",
    "#         include_meter_cols = True, \n",
    "#         batch_size         = 1000, \n",
    "#         verbose            = verbose, \n",
    "#         n_update           = 10, \n",
    "#         conn_aws           = conn_aws, \n",
    "#         return_sql         = False,\n",
    "#         keep_extra_cols    = False\n",
    "#     )\n",
    "#     #-------------------------\n",
    "#     tmp_idx_col = Utilities.generate_random_string()\n",
    "#     zero_counts_df[tmp_idx_col] = list(range(evsSum_df.shape[0], evsSum_df.shape[0]+zero_counts_df.shape[0]))\n",
    "#     zero_counts_df = zero_counts_df.set_index(tmp_idx_col, drop=True)\n",
    "#     zero_counts_df.index.name = None\n",
    "#     #--------------------------------------------------\n",
    "#     addtln_zero_counts_df_cols = pd.DataFrame(\n",
    "#         data    = 0, \n",
    "#         index   = list(range(evsSum_df.shape[0], evsSum_df.shape[0]+zero_counts_df.shape[0])), \n",
    "#         columns = list(set(evsSum_df.columns).difference(set(zero_counts_df.columns)))\n",
    "#     )\n",
    "#     assert(all(zero_counts_df.index==addtln_zero_counts_df_cols.index))\n",
    "#     zero_counts_df = pd.concat([zero_counts_df, addtln_zero_counts_df_cols], axis=1, ignore_index=False)\n",
    "#     #-------------------------\n",
    "#     # As described above, only need each trsf_pole_nb to have a single entry within the window of interest, the fuction\n",
    "#     # OutagePredictor.project_time_pd_from_rcpx_0_and_prepare will handle zeroing everything else out\n",
    "#     zero_counts_df[date_col] = date\n",
    "#     #-----\n",
    "#     assert(set(evsSum_df.columns).symmetric_difference(set(zero_counts_df.columns))==set())\n",
    "#     zero_counts_df = zero_counts_df[evsSum_df.columns]\n",
    "#     #--------------------------------------------------\n",
    "#     return zero_counts_df"
   ]
  },
  {
   "cell_type": "code",
   "execution_count": null,
   "id": "7751a0d6-8734-4124-be63-a4af3eb56d63",
   "metadata": {},
   "outputs": [],
   "source": []
  },
  {
   "cell_type": "code",
   "execution_count": null,
   "id": "cc863204-e676-4c91-8aa4-623c6d1b4d97",
   "metadata": {},
   "outputs": [],
   "source": []
  },
  {
   "cell_type": "code",
   "execution_count": null,
   "id": "7196db58-f8d9-42c5-ad61-0d4b39fbe443",
   "metadata": {},
   "outputs": [],
   "source": []
  },
  {
   "cell_type": "code",
   "execution_count": null,
   "id": "a0d26c7a-aa7d-4e33-a78c-a869695e8117",
   "metadata": {},
   "outputs": [],
   "source": [
    "#-------------------------\n",
    "# 2b. Any transformer whose meters did not register events will not be retrieved by the query\n",
    "#       Therefore, they must be added by hand\n",
    "#     To avoid any more confusion than necessary, self.__evsSum_df will contain only meters registering events\n",
    "#       This is natural, as the SQL query will only return such elements.\n",
    "#     However, if a \n",
    "\n",
    "zero_counts_xfmrs = list(set(self.trsf_pole_nbs).difference(set(self.evsSum_df['trsf_pole_nb'].unique())))\n",
    "zero_counts_df = OutagePredictor.get_xfmr_meter_cnt_closest_to_date(\n",
    "    trsf_pole_nbs      = zero_counts_xfmrs, \n",
    "    date               = date, \n",
    "    evsSum_sql_kwargs  = evsSum_sql_kwargs, \n",
    "    include_meter_cols = True, \n",
    "    batch_size         = 1000, \n",
    "    verbose            = True, \n",
    "    n_update           = 10, \n",
    "    conn_aws           = self.conn_aws, \n",
    "    return_sql         = False,\n",
    "    keep_extra_cols    = False\n",
    ")\n",
    "#-------------------------\n",
    "tmp_idx_col = Utilities.generate_random_string()\n",
    "zero_counts_df[tmp_idx_col] = list(range(self.evsSum_df.shape[0], self.evsSum_df.shape[0]+zero_counts_df.shape[0]))\n",
    "zero_counts_df = zero_counts_df.set_index(tmp_idx_col, drop=True)\n",
    "zero_counts_df.index.name = None\n",
    "#--------------------------------------------------\n",
    "addtln_zero_counts_df_cols = pd.DataFrame(\n",
    "    data    = 0, \n",
    "    index   = list(range(self.evsSum_df.shape[0], self.evsSum_df.shape[0]+zero_counts_df.shape[0])), \n",
    "    columns = list(set(self.evsSum_df.columns).difference(set(zero_counts_df.columns)))\n",
    ")\n",
    "assert(all(zero_counts_df.index==addtln_zero_counts_df_cols.index))\n",
    "zero_counts_df = pd.concat([zero_counts_df, addtln_zero_counts_df_cols], axis=1, ignore_index=False)\n",
    "#-------------------------\n",
    "# As described above, only need each trsf_pole_nb to have a single entry within the window of interest, the fuction\n",
    "# OutagePredictor.project_time_pd_from_rcpx_0_and_prepare will handle zeroing everything else out\n",
    "zero_counts_df[date_col] = date\n",
    "#-----\n",
    "assert(set(self.evsSum_df.columns).symmetric_difference(set(zero_counts_df.columns))==set())\n",
    "zero_counts_df = zero_counts_df[self.evsSum_df.columns]"
   ]
  },
  {
   "cell_type": "code",
   "execution_count": null,
   "id": "c179e450-3ee0-4c21-80f9-29bd81251d36",
   "metadata": {},
   "outputs": [],
   "source": []
  },
  {
   "cell_type": "code",
   "execution_count": null,
   "id": "499fbd06-8da0-4ed3-9ec0-eddd8e05176e",
   "metadata": {},
   "outputs": [],
   "source": [
    "zero_counts_df_NEW_OLD = build_zero_counts_evsSum_df_OLD(\n",
    "    self              = self, \n",
    "    date_col          = 'aep_event_dt', \n",
    "    verbose           = True\n",
    ")"
   ]
  },
  {
   "cell_type": "code",
   "execution_count": null,
   "id": "58473047-3d0f-4dec-b467-69cd6336e330",
   "metadata": {},
   "outputs": [],
   "source": [
    "zero_counts_df_NEW = OutagePredictor.build_zero_counts_evsSum_df(\n",
    "    trsf_pole_nbs     = self.trsf_pole_nbs, \n",
    "    evsSum_df         = self.evsSum_df, \n",
    "    date              = self.prediction_date - self.idk_name_2, \n",
    "    evsSum_sql_kwargs = self.evsSum_sql_kwargs, \n",
    "    date_col          = 'aep_event_dt',\n",
    "    trsf_pole_nb_col  = 'trsf_pole_nb', \n",
    "    conn_aws          = self.conn_aws, \n",
    "    verbose           = True\n",
    ")"
   ]
  },
  {
   "cell_type": "code",
   "execution_count": null,
   "id": "408539d4-1362-4418-a901-7fdce006e5c6",
   "metadata": {},
   "outputs": [],
   "source": []
  },
  {
   "cell_type": "code",
   "execution_count": null,
   "id": "5ae5847e-76ed-45fb-8049-4d89f8d1c9b7",
   "metadata": {},
   "outputs": [],
   "source": [
    "zero_counts_df"
   ]
  },
  {
   "cell_type": "code",
   "execution_count": null,
   "id": "f1a49fcd-080f-49dc-b84e-ad91a109e316",
   "metadata": {},
   "outputs": [],
   "source": [
    "zero_counts_df_NEW_OLD"
   ]
  },
  {
   "cell_type": "code",
   "execution_count": null,
   "id": "41da8240-280d-4449-9e14-2a734f600ee3",
   "metadata": {},
   "outputs": [],
   "source": [
    "zero_counts_df_NEW"
   ]
  },
  {
   "cell_type": "code",
   "execution_count": null,
   "id": "2eb642d9-7932-45ee-8150-c56e8995d7fa",
   "metadata": {},
   "outputs": [],
   "source": []
  },
  {
   "cell_type": "code",
   "execution_count": null,
   "id": "eeb81eea-5ddd-4854-9727-6a7d2e8affcc",
   "metadata": {},
   "outputs": [],
   "source": [
    "zero_counts_df.equals(zero_counts_df_NEW)"
   ]
  },
  {
   "cell_type": "code",
   "execution_count": null,
   "id": "1d3d29f7-0758-48c0-93aa-983dc1aa03c4",
   "metadata": {},
   "outputs": [],
   "source": [
    "zero_counts_df.sort_values(by='trsf_pole_nb', ignore_index=True).drop(columns=['serialnumber', 'aep_premise_nb']).equals(zero_counts_df_NEW.sort_values(by='trsf_pole_nb', ignore_index=True).drop(columns=['serialnumber', 'aep_premise_nb']))"
   ]
  },
  {
   "cell_type": "code",
   "execution_count": null,
   "id": "cab686b4-1dc0-4b23-aedd-29d0274b372a",
   "metadata": {},
   "outputs": [],
   "source": []
  },
  {
   "cell_type": "code",
   "execution_count": null,
   "id": "0992c968-f296-442f-a542-3c1949ced414",
   "metadata": {},
   "outputs": [],
   "source": [
    "prediction_dates = pd.date_range(\n",
    "    start = pd.to_datetime('2023-05-02'), \n",
    "    end   = pd.to_datetime('2023-09-30'), \n",
    "    freq  = pd.Timedelta('1D')\n",
    ")\n",
    "prediction_dates"
   ]
  },
  {
   "cell_type": "code",
   "execution_count": null,
   "id": "c0badb6e-30c8-4438-8e93-09065d44341f",
   "metadata": {},
   "outputs": [],
   "source": [
    "date_ranges = OutagePredictor.get_date_ranges_for_predictions(\n",
    "    prediction_dates  = prediction_dates, \n",
    "    predictions_range = None, \n",
    "    idk_name_1 = self.idk_name_1, \n",
    "    idk_name_2 = self.idk_name_2\n",
    ")"
   ]
  },
  {
   "cell_type": "code",
   "execution_count": null,
   "id": "299567ab-d2a2-4866-806e-69e996f7731e",
   "metadata": {},
   "outputs": [],
   "source": [
    "date_ranges"
   ]
  },
  {
   "cell_type": "code",
   "execution_count": null,
   "id": "a2179671-dd41-4fdc-9fe0-8828e8517468",
   "metadata": {},
   "outputs": [],
   "source": []
  },
  {
   "cell_type": "code",
   "execution_count": null,
   "id": "ef1e5a9f-0b9a-4bb7-bb14-d4d549616cc4",
   "metadata": {},
   "outputs": [],
   "source": [
    "v0 = OutagePredictor.build_rcpx_from_evsSum_df(\n",
    "            evsSum_df                   = self.evsSum_df, \n",
    "            data_structure_df           = self.data_structure_df, \n",
    "            prediction_date             = self.prediction_date, \n",
    "            td_min                      = self.idk_name_2, \n",
    "            td_max                      = self.idk_name_1, \n",
    "            cr_trans_dict               = self.cr_trans_dict, \n",
    "            freq                        = '5D', \n",
    "            group_cols                  = ['trsf_pole_nb'], \n",
    "            date_col                    = 'aep_event_dt', \n",
    "            normalize_by_SNs            = True, \n",
    "            normalize_by_time           = True, \n",
    "            include_power_down_minus_up = False, \n",
    "            regex_patterns_to_remove    = ['.*cleared.*', '.*Test Mode.*'], \n",
    "            combine_cpo_df_reasons      = True, \n",
    "            xf_meter_cnt_col            = 'xf_meter_cnt', \n",
    "            events_tot_col              = 'events_tot', \n",
    "            trsf_pole_nb_col            = 'trsf_pole_nb', \n",
    "            other_reasons_col           = 'Other Reasons', \n",
    "            total_counts_col            = 'total_counts', \n",
    "            nSNs_col                    = 'nSNs'\n",
    "        )"
   ]
  },
  {
   "cell_type": "code",
   "execution_count": null,
   "id": "78cd3fe7-0e87-4466-85e1-0889018f3ffc",
   "metadata": {},
   "outputs": [],
   "source": [
    "v0"
   ]
  },
  {
   "cell_type": "code",
   "execution_count": null,
   "id": "2dd24589-6d90-4035-8084-4c599f691eda",
   "metadata": {},
   "outputs": [],
   "source": [
    "supplmnt = OutagePredictor.build_rcpx_from_evsSum_df(\n",
    "            evsSum_df                   = zero_counts_df, \n",
    "            data_structure_df           = self.data_structure_df, \n",
    "            prediction_date             = self.prediction_date, \n",
    "            td_min                      = self.idk_name_2, \n",
    "            td_max                      = self.idk_name_1, \n",
    "            cr_trans_dict               = self.cr_trans_dict, \n",
    "            freq                        = '5D', \n",
    "            group_cols                  = ['trsf_pole_nb'], \n",
    "            date_col                    = 'aep_event_dt', \n",
    "            normalize_by_SNs            = True, \n",
    "            normalize_by_time           = True, \n",
    "            include_power_down_minus_up = False, \n",
    "            regex_patterns_to_remove    = ['.*cleared.*', '.*Test Mode.*'], \n",
    "            combine_cpo_df_reasons      = True, \n",
    "            xf_meter_cnt_col            = 'xf_meter_cnt', \n",
    "            events_tot_col              = 'events_tot', \n",
    "            trsf_pole_nb_col            = 'trsf_pole_nb', \n",
    "            other_reasons_col           = 'Other Reasons', \n",
    "            total_counts_col            = 'total_counts', \n",
    "            nSNs_col                    = 'nSNs'\n",
    "        )"
   ]
  },
  {
   "cell_type": "code",
   "execution_count": null,
   "id": "81eb7f84-447c-4710-a657-57696c13c8cd",
   "metadata": {},
   "outputs": [],
   "source": [
    "supplmnt"
   ]
  },
  {
   "cell_type": "code",
   "execution_count": null,
   "id": "fc5e9629-1aa1-4700-a0cc-d77d5591c3a1",
   "metadata": {},
   "outputs": [],
   "source": [
    "v0.columns.tolist()==supplmnt.columns.tolist()"
   ]
  },
  {
   "cell_type": "code",
   "execution_count": null,
   "id": "d1a642d3-9ae5-49bc-a173-6f10000506be",
   "metadata": {},
   "outputs": [],
   "source": [
    "if self.evsSum_df.shape[0]>0:\n",
    "    assert(all(zero_counts_df.columns==self.evsSum_df.columns))\n",
    "self.evsSum_df = pd.concat([self.evsSum_df, zero_counts_df], axis=0, ignore_index=False)"
   ]
  },
  {
   "cell_type": "code",
   "execution_count": null,
   "id": "3b0da70a-cab6-4649-a390-54a29a1b5c3d",
   "metadata": {},
   "outputs": [],
   "source": [
    "assert(all(zero_counts_df.columns==self.evsSum_df.columns))"
   ]
  },
  {
   "cell_type": "code",
   "execution_count": null,
   "id": "1cb2ad2e-018f-4b71-8aa8-18b3317d1a3d",
   "metadata": {},
   "outputs": [],
   "source": [
    "# self.evsSum_df = pd.concat([self.evsSum_df, zero_counts_df], axis=0, ignore_index=False)\n",
    "evsSum_df = pd.concat([self.evsSum_df, zero_counts_df], axis=0, ignore_index=False)"
   ]
  },
  {
   "cell_type": "code",
   "execution_count": null,
   "id": "b55bc0ed-5291-4841-adff-2ae7ebd457a1",
   "metadata": {},
   "outputs": [],
   "source": [
    "v1 = OutagePredictor.build_rcpx_from_evsSum_df(\n",
    "            evsSum_df                   = evsSum_df, \n",
    "            data_structure_df           = self.data_structure_df, \n",
    "            prediction_date             = self.prediction_date, \n",
    "            td_min                      = self.idk_name_2, \n",
    "            td_max                      = self.idk_name_1, \n",
    "            cr_trans_dict               = self.cr_trans_dict, \n",
    "            freq                        = '5D', \n",
    "            group_cols                  = ['trsf_pole_nb'], \n",
    "            date_col                    = 'aep_event_dt', \n",
    "            normalize_by_SNs            = True, \n",
    "            normalize_by_time           = True, \n",
    "            include_power_down_minus_up = False, \n",
    "            regex_patterns_to_remove    = ['.*cleared.*', '.*Test Mode.*'], \n",
    "            combine_cpo_df_reasons      = True, \n",
    "            xf_meter_cnt_col            = 'xf_meter_cnt', \n",
    "            events_tot_col              = 'events_tot', \n",
    "            trsf_pole_nb_col            = 'trsf_pole_nb', \n",
    "            other_reasons_col           = 'Other Reasons', \n",
    "            total_counts_col            = 'total_counts', \n",
    "            nSNs_col                    = 'nSNs'\n",
    "        )"
   ]
  },
  {
   "cell_type": "code",
   "execution_count": null,
   "id": "5edfed80-b49e-431e-85bf-81af0abe5fc7",
   "metadata": {},
   "outputs": [],
   "source": [
    "v0"
   ]
  },
  {
   "cell_type": "code",
   "execution_count": null,
   "id": "3edd8227-d6a6-420d-9433-58fc0f2320ff",
   "metadata": {},
   "outputs": [],
   "source": [
    "v1"
   ]
  },
  {
   "cell_type": "code",
   "execution_count": null,
   "id": "210c05d1-f95e-4125-8482-e5827862f404",
   "metadata": {},
   "outputs": [],
   "source": [
    "prediction_dates = pd.date_range(\n",
    "    start = pd.to_datetime('2023-09-01'), \n",
    "    end   = pd.to_datetime('2023-09-30'), \n",
    "    freq  = pd.Timedelta('1D')\n",
    ")\n",
    "prediction_dates"
   ]
  },
  {
   "cell_type": "code",
   "execution_count": null,
   "id": "ac6c2b46-bbb0-4143-b83e-7dc6733d817d",
   "metadata": {},
   "outputs": [],
   "source": [
    "outg_prdctr = OutagePredictor(prediction_date=prediction_dates[0])\n",
    "#-----\n",
    "outg_prdctr.set_model_dir(r'C:\\Users\\s346557\\Documents\\LocalData\\dovs_and_end_events_data\\20231201\\Models\\All_EEMSP_agg_Top10_v4')\n",
    "outg_prdctr.set_trsf_pole_nbs(trsf_pole_nbs)\n",
    "\n",
    "outg_prdctr.prep_multiple_prediction_dates(\n",
    "    prediction_dates  = prediction_dates, \n",
    "    predictions_range = None, \n",
    "    evsSum_sql_fcn    = AMIEndEvents_SQL.build_sql_end_events,  \n",
    "    evsSum_sql_kwargs = dict(opco='oh'), \n",
    "    save_args         = False\n",
    ")"
   ]
  },
  {
   "cell_type": "code",
   "execution_count": null,
   "id": "723905e9-aab4-4b33-acbc-dc30aad4725f",
   "metadata": {},
   "outputs": [],
   "source": [
    "outg_prdctr.evsSum_df['trsf_pole_nb'].nunique()"
   ]
  },
  {
   "cell_type": "code",
   "execution_count": null,
   "id": "0a938e40-bb25-44a5-ab44-1b4ad0d00bbe",
   "metadata": {},
   "outputs": [],
   "source": [
    "len(trsf_pole_nbs)"
   ]
  },
  {
   "cell_type": "code",
   "execution_count": null,
   "id": "286f3f4b-406a-46cd-9244-d5de9e89d580",
   "metadata": {},
   "outputs": [],
   "source": [
    "# Basically, each prediction range must include all trsf_pole_nbs"
   ]
  },
  {
   "cell_type": "code",
   "execution_count": null,
   "id": "ebeaf214-f278-478f-9540-803da840e110",
   "metadata": {},
   "outputs": [],
   "source": [
    "date_col='aep_event_dt'\n",
    "self = outg_prdctr"
   ]
  },
  {
   "cell_type": "code",
   "execution_count": null,
   "id": "9553aec7-d9eb-408a-b78e-ddd855c09f3b",
   "metadata": {},
   "outputs": [],
   "source": [
    "def build_zero_counts_evsSum_df_multiple_pred_dates(\n",
    "    trsf_pole_nbs, \n",
    "    evsSum_df, \n",
    "    prediction_dates, \n",
    "    td_min, \n",
    "    evsSum_sql_kwargs = None, \n",
    "    date_col          = 'aep_event_dt',\n",
    "    trsf_pole_nb_col  = 'trsf_pole_nb', \n",
    "    conn_aws          = None, \n",
    "    verbose           = True    \n",
    "):\n",
    "    r\"\"\"\n",
    "    \"\"\"\n",
    "    #--------------------------------------------------\n",
    "    # Make sure date_col is datetime object\n",
    "    evsSum_df[date_col] = pd.to_datetime(evsSum_df[date_col])\n",
    "    \n",
    "    zc_xfmrs_by_date = dict()\n",
    "    for pred_date_i in prediction_dates:\n",
    "        evsSum_df_i = evsSum_df[\n",
    "            (evsSum_df[date_col] >= pred_date_i-self.idk_name_1) & \n",
    "            (evsSum_df[date_col] <= pred_date_i-self.idk_name_2)\n",
    "        ]\n",
    "        zero_counts_xfmrs_i = list(set(trsf_pole_nbs).difference(set(evsSum_df_i[trsf_pole_nb_col].unique())))\n",
    "        if len(zero_counts_xfmrs_i)>0:\n",
    "            assert(pred_date_i not in zc_xfmrs_by_date.keys())\n",
    "            zc_xfmrs_by_date[pred_date_i] = zero_counts_xfmrs_i"
   ]
  },
  {
   "cell_type": "code",
   "execution_count": null,
   "id": "4876e481-806b-4576-a89d-fc938c18eba6",
   "metadata": {},
   "outputs": [],
   "source": [
    "evsSum_df = self.evsSum_df\n",
    "\n",
    "# Make sure date_col is datetime object\n",
    "evsSum_df[date_col] = pd.to_datetime(evsSum_df[date_col])\n",
    "\n",
    "zc_xfmrs_by_date = dict()\n",
    "for pred_date_i in prediction_dates:\n",
    "    evsSum_df_i = evsSum_df[\n",
    "        (evsSum_df[date_col] >= pred_date_i-self.idk_name_1) & \n",
    "        (evsSum_df[date_col] <= pred_date_i-self.idk_name_2)\n",
    "    ]\n",
    "    zero_counts_xfmrs_i = list(set(trsf_pole_nbs).difference(set(evsSum_df_i['trsf_pole_nb'].unique())))\n",
    "    if len(zero_counts_xfmrs_i)>0:\n",
    "        assert(pred_date_i not in zc_xfmrs_by_date.keys())\n",
    "        zc_xfmrs_by_date[pred_date_i] = zero_counts_xfmrs_i"
   ]
  },
  {
   "cell_type": "code",
   "execution_count": null,
   "id": "d1c676fa-fab7-4b23-a962-bda8a8d7f5b1",
   "metadata": {},
   "outputs": [],
   "source": [
    "len(zc_xfmrs_by_date)"
   ]
  },
  {
   "cell_type": "code",
   "execution_count": null,
   "id": "746ffdb3-cf37-4543-92e7-741e6a374c1c",
   "metadata": {},
   "outputs": [],
   "source": [
    "list(zc_xfmrs_by_date.keys())[0]"
   ]
  },
  {
   "cell_type": "code",
   "execution_count": null,
   "id": "9caccbdb-c3f8-4ddb-aeb4-9bf4965ad2fc",
   "metadata": {},
   "outputs": [],
   "source": [
    "pred_date_i = pd.Timestamp('2023-09-01 00:00:00')\n",
    "zero_counts_xfmrs_i = zc_xfmrs_by_date[pred_date_i]\n",
    "evsSum_df_i = evsSum_df[\n",
    "    (evsSum_df[date_col] >= pred_date_i-self.idk_name_1) & \n",
    "    (evsSum_df[date_col] <= pred_date_i-self.idk_name_2)\n",
    "]"
   ]
  },
  {
   "cell_type": "code",
   "execution_count": null,
   "id": "76034043-8efe-4b15-8d58-48692c26b0e4",
   "metadata": {},
   "outputs": [],
   "source": [
    "zero_counts_df_i = OutagePredictor.build_zero_counts_evsSum_df(\n",
    "    trsf_pole_nbs     = zero_counts_xfmrs_i, \n",
    "    evsSum_df         = evsSum_df_i, \n",
    "    date              = pred_date_i - self.idk_name_2, \n",
    "    evsSum_sql_kwargs = self.evsSum_sql_kwargs, \n",
    "    date_col          = 'aep_event_dt',\n",
    "    trsf_pole_nb_col  = 'trsf_pole_nb', \n",
    "    conn_aws          = self.conn_aws, \n",
    "    verbose           = True\n",
    ")"
   ]
  },
  {
   "cell_type": "code",
   "execution_count": null,
   "id": "ea7fed13-5e60-4205-95a6-a53c8e0a0f4a",
   "metadata": {},
   "outputs": [],
   "source": [
    "evsSum_df = self.evsSum_df\n",
    "\n",
    "# Make sure date_col is datetime object\n",
    "evsSum_df[date_col] = pd.to_datetime(evsSum_df[date_col])\n",
    "\n",
    "zero_counts_df = pd.DataFrame()\n",
    "for pred_date_i in prediction_dates:\n",
    "    evsSum_df_i = evsSum_df[\n",
    "        (evsSum_df[date_col] >= pred_date_i-self.idk_name_1) & \n",
    "        (evsSum_df[date_col] <= pred_date_i-self.idk_name_2)\n",
    "    ]\n",
    "    zero_counts_xfmrs_i = list(set(trsf_pole_nbs).difference(set(evsSum_df_i['trsf_pole_nb'].unique())))\n",
    "    if len(zero_counts_xfmrs_i)>0:\n",
    "        zero_counts_df_i = OutagePredictor.build_zero_counts_evsSum_df(\n",
    "            trsf_pole_nbs     = zero_counts_xfmrs_i, \n",
    "            evsSum_df         = evsSum_df_i, \n",
    "            date              = pred_date_i - self.idk_name_2, \n",
    "            evsSum_sql_kwargs = self.evsSum_sql_kwargs, \n",
    "            date_col          = 'aep_event_dt',\n",
    "            trsf_pole_nb_col  = 'trsf_pole_nb', \n",
    "            conn_aws          = self.conn_aws, \n",
    "            verbose           = True\n",
    "        )\n",
    "        #-------------------------\n",
    "        zero_counts_df = OutagePredictor.append_to_evsSum_df(\n",
    "            evsSum_df        = zero_counts_df, \n",
    "            addtnl_evsSum_df = zero_counts_df_i, \n",
    "            sort_by          = None\n",
    "        )"
   ]
  },
  {
   "cell_type": "code",
   "execution_count": null,
   "id": "dc3842f5-cb47-473e-9e68-163fed5a8551",
   "metadata": {},
   "outputs": [],
   "source": [
    "zero_counts_df"
   ]
  },
  {
   "cell_type": "code",
   "execution_count": null,
   "id": "8b4e7007-3424-47aa-8cbf-7b45f80aabd0",
   "metadata": {},
   "outputs": [],
   "source": [
    "evsSum_df"
   ]
  },
  {
   "cell_type": "code",
   "execution_count": null,
   "id": "b59ca166-6745-40d3-aaf2-4c0b35283452",
   "metadata": {},
   "outputs": [],
   "source": [
    "aww_yeahhh = OutagePredictor.append_to_evsSum_df(\n",
    "    evsSum_df        = evsSum_df, \n",
    "    addtnl_evsSum_df = zero_counts_df, \n",
    "    sort_by          = None\n",
    ")"
   ]
  },
  {
   "cell_type": "code",
   "execution_count": null,
   "id": "3c072817-caf5-46bb-a211-cc44bfa0db50",
   "metadata": {},
   "outputs": [],
   "source": [
    "aww_yeahhh"
   ]
  },
  {
   "cell_type": "code",
   "execution_count": null,
   "id": "56142501-8e75-4e24-a557-0b64c3f8e285",
   "metadata": {},
   "outputs": [],
   "source": [
    "cr_cols = Utilities.find_in_list_with_regex(\n",
    "    lst=aww_yeahhh.columns.tolist(), \n",
    "    regex_pattern=r'cr\\d*', \n",
    "    ignore_case=False\n",
    ")"
   ]
  },
  {
   "cell_type": "code",
   "execution_count": null,
   "id": "d88e66c4-edc1-4e32-b8f2-c1e3847182a0",
   "metadata": {},
   "outputs": [],
   "source": [
    "aww_yeahhh[aww_yeahhh[cr_cols].sum(axis=1)==0]"
   ]
  },
  {
   "cell_type": "code",
   "execution_count": null,
   "id": "e48749fc-7515-45f9-b527-d1e658c085b4",
   "metadata": {},
   "outputs": [],
   "source": [
    "np.sum([len(v) for v in zc_xfmrs_by_date.values()])"
   ]
  },
  {
   "cell_type": "code",
   "execution_count": null,
   "id": "d7a2acb3-456d-4e8e-a50d-961047862403",
   "metadata": {},
   "outputs": [],
   "source": [
    "zc_xfmrs_by_date"
   ]
  },
  {
   "cell_type": "code",
   "execution_count": null,
   "id": "4eec6e92-326e-4189-854f-efcec27a1dbe",
   "metadata": {},
   "outputs": [],
   "source": []
  },
  {
   "cell_type": "code",
   "execution_count": null,
   "id": "105bfec0-c6ad-4caa-877d-0295e9e709ce",
   "metadata": {},
   "outputs": [],
   "source": [
    "# predictors = dict()\n",
    "# for model_i, trsf_poles_i in ledger_inv_srs.items():\n",
    "#     # if model_i!=2:\n",
    "#     #     continue\n",
    "#     print(model_i)\n",
    "#     model_i_dir = os.path.join(model_base_dir, 'Slices', str(model_i))\n",
    "#     assert(os.path.isdir(model_i_dir))\n",
    "#     #-------------------------\n",
    "#     # If no model able to be made for group, directory will be empty\n",
    "#     if not os.listdir(model_i_dir):\n",
    "#         print('No model compiled.\\nContinuing to next')\n",
    "#         continue\n",
    "#     #-------------------------\n",
    "#     predictor_i = OutagePredictor(prediction_date=prediction_date)\n",
    "#     predictor_i.set_model_dir(model_i_dir)\n",
    "#     predictor_i.set_trsf_pole_nbs(trsf_poles_i)\n",
    "#     predictor_i.initialize_data(\n",
    "#         evsSum_sql_fcn=AMIEndEvents_SQL.build_sql_end_events,  \n",
    "#         evsSum_sql_kwargs=dict(opco='oh'), \n",
    "#     )\n",
    "#     #-------------------------\n",
    "#     assert(model_i not in predictors.keys())\n",
    "#     predictors[model_i] = predictor_i\n",
    "#     #-------------------------\n",
    "#     zero_counts_xfmrs = list(set(predictor_i.trsf_pole_nbs).difference(set(predictor_i.evsSum_df['trsf_pole_nb'].unique())))\n",
    "#     zero_counts_df = OutagePredictor.get_xfmr_meter_cnt_closest_to_date(\n",
    "#         trsf_pole_nbs      = zero_counts_xfmrs, \n",
    "#         date               = date, \n",
    "#         evsSum_sql_kwargs  = evsSum_sql_kwargs, \n",
    "#         include_meter_cols = True, \n",
    "#         batch_size         = 1000, \n",
    "#         verbose            = True, \n",
    "#         n_update           = 10, \n",
    "#         conn_aws           = None, \n",
    "#         return_sql         = False,\n",
    "#         keep_extra_cols    = False\n",
    "#     )\n",
    "#     #-------------------------\n",
    "#     zero_counts_df['idx'] = list(range(predictor_i.evsSum_df.shape[0], predictor_i.evsSum_df.shape[0]+zero_counts_df.shape[0]))\n",
    "#     zero_counts_df = zero_counts_df.set_index('idx', drop=True)\n",
    "#     zero_counts_df.index.name = None\n",
    "#     #-------------------------\n",
    "#     if(\n",
    "#         predictor_i.evsSum_df.shape[0]>0 and \n",
    "#         len(list(set(predictor_i.trsf_pole_nbs).difference(set(predictor_i.evsSum_df['trsf_pole_nb'].unique())))) >0 and\n",
    "#         zero_counts_df.shape[0]>0\n",
    "#     ):\n",
    "#         print(f\"{model_i}!!!!!!!!!!!!!!!!\")"
   ]
  },
  {
   "cell_type": "code",
   "execution_count": null,
   "id": "287387fd-afb4-4b95-8725-cac1809dc371",
   "metadata": {},
   "outputs": [],
   "source": [
    "assert(0)"
   ]
  },
  {
   "cell_type": "code",
   "execution_count": null,
   "id": "a006bb93-c05b-42da-9f91-bef95bad308e",
   "metadata": {},
   "outputs": [],
   "source": []
  },
  {
   "cell_type": "code",
   "execution_count": null,
   "id": "6b452ff7-dba0-4db7-8bcf-4d399db476c0",
   "metadata": {
    "scrolled": true
   },
   "outputs": [],
   "source": [
    "predictors = dict()\n",
    "for model_i, trsf_poles_i in ledger_inv_srs.items():\n",
    "    print(model_i)\n",
    "    model_i_dir = os.path.join(model_base_dir, 'Slices', str(model_i))\n",
    "    assert(os.path.isdir(model_i_dir))\n",
    "    #-------------------------\n",
    "    # If no model able to be made for group, directory will be empty\n",
    "    if not os.listdir(model_i_dir):\n",
    "        print('No model compiled.\\nContinuing to next')\n",
    "        continue\n",
    "    #-------------------------\n",
    "    predictor_i = OutagePredictor(prediction_date=prediction_date)\n",
    "    predictor_i.set_model_dir(model_i_dir)\n",
    "    predictor_i.set_trsf_pole_nbs(trsf_poles_i)\n",
    "    predictor_i.initialize_data(\n",
    "        evsSum_sql_fcn=AMIEndEvents_SQL.build_sql_end_events,  \n",
    "        evsSum_sql_kwargs=dict(opco='oh'), \n",
    "    )\n",
    "    #-------------------------\n",
    "    assert(model_i not in predictors.keys())\n",
    "    predictors[model_i] = predictor_i"
   ]
  },
  {
   "cell_type": "code",
   "execution_count": null,
   "id": "e22990a0",
   "metadata": {},
   "outputs": [],
   "source": []
  },
  {
   "cell_type": "code",
   "execution_count": null,
   "id": "f51a962f",
   "metadata": {},
   "outputs": [],
   "source": []
  }
 ],
 "metadata": {
  "kernelspec": {
   "display_name": "Python 3 (ipykernel)",
   "language": "python",
   "name": "python3"
  },
  "language_info": {
   "codemirror_mode": {
    "name": "ipython",
    "version": 3
   },
   "file_extension": ".py",
   "mimetype": "text/x-python",
   "name": "python",
   "nbconvert_exporter": "python",
   "pygments_lexer": "ipython3",
   "version": "3.9.18"
  }
 },
 "nbformat": 4,
 "nbformat_minor": 5
}
