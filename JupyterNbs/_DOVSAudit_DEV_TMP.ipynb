{
 "cells": [
  {
   "cell_type": "code",
   "execution_count": 1,
   "id": "eaddd241",
   "metadata": {},
   "outputs": [
    {
     "data": {
      "text/html": [
       "<style>.container { width:100% !important; }</style>"
      ],
      "text/plain": [
       "<IPython.core.display.HTML object>"
      ]
     },
     "metadata": {},
     "output_type": "display_data"
    },
    {
     "data": {
      "text/html": [
       "<style>.output_result { max-width:100% !important; }</style>"
      ],
      "text/plain": [
       "<IPython.core.display.HTML object>"
      ]
     },
     "metadata": {},
     "output_type": "display_data"
    },
    {
     "data": {
      "text/html": [
       "<style>.container { width:100% !important; }</style>"
      ],
      "text/plain": [
       "<IPython.core.display.HTML object>"
      ]
     },
     "metadata": {},
     "output_type": "display_data"
    },
    {
     "data": {
      "text/html": [
       "<style>.output_result { max-width:100% !important; }</style>"
      ],
      "text/plain": [
       "<IPython.core.display.HTML object>"
      ]
     },
     "metadata": {},
     "output_type": "display_data"
    }
   ],
   "source": [
    "from IPython.display import display, HTML\n",
    "display(HTML(\"<style>.container { width:100% !important; }</style>\"))\n",
    "display(HTML(\"<style>.output_result { max-width:100% !important; }</style>\"))"
   ]
  },
  {
   "cell_type": "code",
   "execution_count": 2,
   "id": "01dba818",
   "metadata": {},
   "outputs": [],
   "source": [
    "# %run ./check_DOVS_METHODS.ipynb"
   ]
  },
  {
   "cell_type": "code",
   "execution_count": 3,
   "id": "3672ef77",
   "metadata": {},
   "outputs": [],
   "source": [
    "from importlib import reload\n",
    "#reload(Utilities)\n",
    "#reload(clm)\n",
    "\n",
    "import sys, os\n",
    "import re\n",
    "import pickle\n",
    "\n",
    "import pandas as pd\n",
    "import numpy as np\n",
    "from pandas.api.types import is_numeric_dtype, is_datetime64_dtype, is_timedelta64_dtype\n",
    "from scipy import stats\n",
    "import datetime\n",
    "import time\n",
    "from natsort import natsorted, ns\n",
    "from packaging import version\n",
    "\n",
    "import copy\n",
    "import itertools\n",
    "import adjustText\n",
    "\n",
    "import pyodbc\n",
    "#---------------------------------------------------------------------\n",
    "sys.path.insert(0, os.path.realpath('..'))\n",
    "import Utilities_config\n",
    "#-----\n",
    "import CommonLearningMethods as clm\n",
    "#-----\n",
    "from MeterPremise import MeterPremise\n",
    "#-----\n",
    "from AMI_SQL import AMI_SQL\n",
    "from AMINonVee_SQL import AMINonVee_SQL\n",
    "from AMIEndEvents_SQL import AMIEndEvents_SQL\n",
    "from AMIUsgInst_SQL import AMIUsgInst_SQL\n",
    "from DOVSOutages_SQL import DOVSOutages_SQL\n",
    "#-----\n",
    "from GenAn import GenAn\n",
    "from AMINonVee import AMINonVee\n",
    "from AMIEndEvents import AMIEndEvents\n",
    "from AMIUsgInst import AMIUsgInst\n",
    "from DOVSOutages import DOVSOutages\n",
    "#-----\n",
    "from DOVSAudit import DOVSAudit\n",
    "#---------------------------------------------------------------------\n",
    "import matplotlib as mpl\n",
    "import matplotlib.pyplot as plt\n",
    "import seaborn as sns\n",
    "from matplotlib.backends.backend_pdf import PdfPages\n",
    "import matplotlib.patches as mpatches\n",
    "from matplotlib.lines import Line2D\n",
    "import matplotlib.ticker as ticker\n",
    "from matplotlib import dates\n",
    "#---------------------------------------------------------------------\n",
    "sys.path.insert(0, Utilities_config.get_sql_aids_dir())\n",
    "import Utilities_sql\n",
    "import TableInfos\n",
    "from TableInfos import TableInfo\n",
    "from SQLElement import SQLElement\n",
    "from SQLElementsCollection import SQLElementsCollection\n",
    "from SQLSelect import SQLSelectElement, SQLSelect\n",
    "from SQLFrom import SQLFrom\n",
    "from SQLWhere import SQLWhereElement, SQLWhere\n",
    "from SQLJoin import SQLJoin, SQLJoinCollection\n",
    "from SQLGroupBy import SQLGroupByElement, SQLGroupBy\n",
    "from SQLHaving import SQLHaving\n",
    "from SQLOrderBy import SQLOrderByElement, SQLOrderBy\n",
    "from SQLQuery import SQLQuery\n",
    "from SQLQueryGeneric import SQLQueryGeneric\n",
    "#---------------------------------------------------------------------\n",
    "sys.path.insert(0, Utilities_config.get_utilities_dir())\n",
    "import Utilities\n",
    "import Utilities_df\n",
    "import Utilities_dt\n",
    "from Utilities_df import DFConstructType\n",
    "import Plot_General\n",
    "import Plot_Box_sns\n",
    "import Plot_Hist\n",
    "import GrubbsTest\n",
    "import DataFrameSubsetSlicer\n",
    "from DataFrameSubsetSlicer import DataFrameSubsetSlicer as DFSlicer"
   ]
  },
  {
   "cell_type": "code",
   "execution_count": null,
   "id": "f5ddf6a1",
   "metadata": {},
   "outputs": [],
   "source": []
  },
  {
   "cell_type": "code",
   "execution_count": null,
   "id": "c73c9bf1",
   "metadata": {},
   "outputs": [],
   "source": [
    "base_dir = r'C:\\Users\\s346557\\Documents\\LocalData\\dovs_check\\Mico2\\AllOPCOs'\n",
    "base_dir_ami = os.path.join(base_dir, r'AMINonVee')\n",
    "base_dir_ede = os.path.join(base_dir, r'EndEvents')\n",
    "assert(os.path.exists(base_dir_ami))\n",
    "assert(os.path.exists(base_dir_ede))"
   ]
  },
  {
   "cell_type": "code",
   "execution_count": null,
   "id": "96a83b8d",
   "metadata": {},
   "outputs": [],
   "source": []
  },
  {
   "cell_type": "code",
   "execution_count": null,
   "id": "520cf0c3",
   "metadata": {},
   "outputs": [],
   "source": [
    "#-------------------------\n",
    "outg_rec_nb_to_files_dict_path_ami = os.path.join(base_dir, 'outg_rec_nb_to_files_dict.pkl')\n",
    "outg_rec_nb_to_files_dict_path_ede = os.path.join(base_dir, 'outg_rec_nb_to_files_ede_dict.pkl')\n",
    "#-----\n",
    "if os.path.exists(outg_rec_nb_to_files_dict_path_ami):\n",
    "    with open(outg_rec_nb_to_files_dict_path_ami, 'rb') as handle:\n",
    "        outg_rec_nb_to_files_dict = pickle.load(handle)\n",
    "else:\n",
    "    outg_rec_nb_to_files_dict = DOVSAudit.build_outg_rec_nb_to_files_dict(\n",
    "        base_dir        = base_dir_ami, \n",
    "        glob_pattern    = r'ami_nonvee_[0-9]*.csv', \n",
    "        regex_pattern   = None,\n",
    "        outg_rec_nb_col = 'OUTG_REC_NB_GPD_FOR_SQL', \n",
    "        save_path       = outg_rec_nb_to_files_dict_path_ami\n",
    "    )\n",
    "#-----\n",
    "if os.path.exists(outg_rec_nb_to_files_dict_path_ede):\n",
    "    with open(outg_rec_nb_to_files_dict_path_ede, 'rb') as handle:\n",
    "        outg_rec_nb_to_files_ede_dict = pickle.load(handle)\n",
    "else:\n",
    "    outg_rec_nb_to_files_ede_dict = DOVSAudit.build_outg_rec_nb_to_files_dict(\n",
    "        base_dir        = base_dir_ede, \n",
    "        glob_pattern    = r'end_events_[0-9]*.csv', \n",
    "        regex_pattern   = None,\n",
    "        outg_rec_nb_col = 'OUTG_REC_NB_GPD_FOR_SQL', \n",
    "        save_path       = outg_rec_nb_to_files_dict_path_ede\n",
    "    )"
   ]
  },
  {
   "cell_type": "code",
   "execution_count": null,
   "id": "c38b1530",
   "metadata": {},
   "outputs": [],
   "source": [
    "# #-------------------------\n",
    "# # Build dovs_df for all, if you want\n",
    "# dovs = DOVSOutages(\n",
    "#     df_construct_type=DFConstructType.kRunSqlQuery, \n",
    "#     contstruct_df_args=None, \n",
    "#     init_df_in_constructor=True,\n",
    "#     build_sql_function=DOVSOutages_SQL.build_sql_std_outage, \n",
    "#     build_sql_function_kwargs=dict(\n",
    "#         outg_rec_nbs=outg_rec_nbs, \n",
    "#         field_to_split='outg_rec_nbs', \n",
    "#         include_premise=True\n",
    "#     ), \n",
    "#     build_consolidated=True\n",
    "# )\n",
    "# dovs_df = dovs.df.copy()"
   ]
  },
  {
   "cell_type": "code",
   "execution_count": null,
   "id": "0388b4f0",
   "metadata": {},
   "outputs": [],
   "source": [
    "outg_rec_nb = '13551139'\n",
    "# outg_rec_nb = '13579980'"
   ]
  },
  {
   "cell_type": "code",
   "execution_count": null,
   "id": "c577c648",
   "metadata": {},
   "outputs": [],
   "source": [
    "audit_i = DOVSAudit(\n",
    "    outg_rec_nb=outg_rec_nb\n",
    ")"
   ]
  },
  {
   "cell_type": "code",
   "execution_count": null,
   "id": "9e6ba3be",
   "metadata": {},
   "outputs": [],
   "source": [
    "audit_i.load_dovs(\n",
    "    dovs_df           = None, \n",
    "    dovs_df_info_dict = None\n",
    ")"
   ]
  },
  {
   "cell_type": "code",
   "execution_count": null,
   "id": "7364c129",
   "metadata": {},
   "outputs": [],
   "source": [
    "audit_i.load_ami_from_csvs(\n",
    "    paths                          = outg_rec_nb_to_files_dict[outg_rec_nb], \n",
    "    slicers                        = None, \n",
    "    ami_df_info_dict               = None, \n",
    "    run_std_init                   = True, \n",
    "    cols_and_types_to_convert_dict = None, \n",
    "    to_numeric_errors              = 'coerce', \n",
    "    drop_na_rows_when_exception    = True, \n",
    "    drop_unnamed0_col              = True, \n",
    "    pd_read_csv_kwargs             = None, \n",
    "    make_all_columns_lowercase     = False, \n",
    "    assert_all_cols_equal          = True, \n",
    "    min_fsize_MB                   = None\n",
    ")"
   ]
  },
  {
   "cell_type": "code",
   "execution_count": null,
   "id": "b97c595e",
   "metadata": {},
   "outputs": [],
   "source": [
    "if outg_rec_nb in outg_rec_nb_to_files_ede_dict.keys():\n",
    "    audit_i.load_ede_from_csvs(\n",
    "        paths                          = outg_rec_nb_to_files_ede_dict[outg_rec_nb], \n",
    "        slicers                        = None, \n",
    "        ede_df_info_dict               = None, \n",
    "        run_std_init                   = True, \n",
    "        cols_and_types_to_convert_dict = None, \n",
    "        to_numeric_errors              = 'coerce', \n",
    "        drop_na_rows_when_exception    = True, \n",
    "        drop_unnamed0_col              = True, \n",
    "        pd_read_csv_kwargs             = None, \n",
    "        make_all_columns_lowercase     = False, \n",
    "        assert_all_cols_equal          = True, \n",
    "        min_fsize_MB                   = None\n",
    "    )"
   ]
  },
  {
   "cell_type": "code",
   "execution_count": null,
   "id": "75c8154a",
   "metadata": {},
   "outputs": [],
   "source": [
    "audit_i.build_best_ests_df()\n",
    "audit_i.best_ests_df"
   ]
  },
  {
   "cell_type": "code",
   "execution_count": null,
   "id": "8bf3411e",
   "metadata": {},
   "outputs": [],
   "source": []
  },
  {
   "cell_type": "code",
   "execution_count": null,
   "id": "024315b8",
   "metadata": {},
   "outputs": [],
   "source": [
    "audit_i.identify_overlaps(overlaps_dovs_sql_fcn=DOVSOutages_SQL.build_sql_outage)"
   ]
  },
  {
   "cell_type": "code",
   "execution_count": null,
   "id": "9f711506",
   "metadata": {},
   "outputs": [],
   "source": [
    "audit_i.best_ests_df_w_keep_info"
   ]
  },
  {
   "cell_type": "code",
   "execution_count": null,
   "id": "4a478d31",
   "metadata": {},
   "outputs": [],
   "source": [
    "audit_i.best_ests_df"
   ]
  },
  {
   "cell_type": "markdown",
   "id": "019f8e12",
   "metadata": {},
   "source": [
    "# IF ANY has keep==False, then further analysis is needed\n",
    "Probably want to output/notify user"
   ]
  },
  {
   "cell_type": "code",
   "execution_count": null,
   "id": "f64e5843",
   "metadata": {},
   "outputs": [],
   "source": [
    "(audit_i.best_ests_df_w_keep_info['keep']==False).sum()"
   ]
  },
  {
   "cell_type": "code",
   "execution_count": null,
   "id": "7c776b96",
   "metadata": {},
   "outputs": [],
   "source": [
    "overlap_outg_rec_nbs = list(set(audit_i.best_ests_df_w_keep_info['overlap_DOVS'].sum()))\n",
    "overlap_outg_rec_nbs"
   ]
  },
  {
   "cell_type": "code",
   "execution_count": null,
   "id": "d9436c42",
   "metadata": {},
   "outputs": [],
   "source": [
    "audit_i.outg_rec_nb"
   ]
  },
  {
   "cell_type": "markdown",
   "id": "7852c11c",
   "metadata": {},
   "source": [
    "# Option to either:\n",
    "1. Build ovrlp_audit_a using ami_df_i from audit_i\n",
    "    - less safe method, but checks can be put in place to switch to method 2 if criteria not met\n",
    "    - should run quicker\n",
    "    - currently, ovrlp_audit_a below\n",
    "\n",
    "2. Build ovrlp_audit_a from scratch\n",
    "    - safer method\n",
    "    - almost certainly takes longer\n",
    "    - - currently, ovrlp_audit_a2 below\n",
    "    \n",
    "For 13551139, both options give same result!"
   ]
  },
  {
   "cell_type": "code",
   "execution_count": null,
   "id": "74100120",
   "metadata": {},
   "outputs": [],
   "source": [
    "# OPTION 1 (as described above)\n",
    "#-------------------------\n",
    "j=0\n",
    "#-------------------------\n",
    "ovrlp_audit_a = DOVSAudit(\n",
    "    outg_rec_nb=overlap_outg_rec_nbs[j]\n",
    ")\n",
    "#-------------------------\n",
    "ovrlp_audit_a.load_dovs(\n",
    "    dovs_df           = None, \n",
    "    dovs_df_info_dict = None\n",
    ")\n",
    "#-------------------------\n",
    "PNs_a = ovrlp_audit_a.PNs_dovs\n",
    "#-----\n",
    "ami_df_a = audit_i.ami_df_i.drop(columns=['removed_due_to_overlap']).copy()\n",
    "ami_df_a = ami_df_a[ami_df_a[audit_i.ami_df_info_dict['PN_col']].isin(PNs_a)]\n",
    "#-----\n",
    "ede_df_a = audit_i.ede_df_i.copy()\n",
    "ede_df_a = ede_df_a[ede_df_a[audit_i.ede_df_info_dict['PN_col']].isin(PNs_a)]\n",
    "#-------------------------\n",
    "ovrlp_audit_a.load_ami_from_df(\n",
    "    ami_df_i         = ami_df_a, \n",
    "    ami_df_info_dict = audit_i.ami_df_info_dict, \n",
    "    run_std_init     = False, \n",
    "    slicers          = None\n",
    ")\n",
    "#-----\n",
    "ovrlp_audit_a.load_dovs(\n",
    "    dovs_df           = None, \n",
    "    dovs_df_info_dict = None\n",
    ")\n",
    "#-----\n",
    "ovrlp_audit_a.load_ede_from_df(\n",
    "    ede_df_i         = ede_df_a, \n",
    "    ede_df_info_dict = audit_i.ede_df_info_dict, \n",
    "    run_std_init     = False\n",
    ")\n",
    "#-------------------------\n",
    "ovrlp_audit_a.build_best_ests_df()\n",
    "#-------------------------\n",
    "ovrlp_audit_a.identify_overlaps(\n",
    "    overlaps_dovs_sql_fcn=DOVSOutages_SQL.build_sql_outage\n",
    ")"
   ]
  },
  {
   "cell_type": "code",
   "execution_count": null,
   "id": "dac80417",
   "metadata": {
    "scrolled": true
   },
   "outputs": [],
   "source": [
    "ovrlp_audit_a.best_ests_df_w_keep_info"
   ]
  },
  {
   "cell_type": "code",
   "execution_count": null,
   "id": "885e8bb5",
   "metadata": {},
   "outputs": [],
   "source": []
  },
  {
   "cell_type": "code",
   "execution_count": null,
   "id": "1d5d3e33",
   "metadata": {},
   "outputs": [],
   "source": [
    "# OPTION 2 (as described above)\n",
    "#-------------------------\n",
    "search_time_half_window=pd.Timedelta('24 hours')\n",
    "#-------------------------\n",
    "j=0\n",
    "#-------------------------\n",
    "ovrlp_audit_a2 = DOVSAudit(\n",
    "    outg_rec_nb=overlap_outg_rec_nbs[j]\n",
    ")\n",
    "#-------------------------\n",
    "ovrlp_audit_a2.load_dovs(\n",
    "    dovs_df           = None, \n",
    "    dovs_df_info_dict = None\n",
    ")\n",
    "#-------------------------\n",
    "ovrlp_audit_a2.build_mp_df(\n",
    "    drop_mp_dups_fuzziness=pd.Timedelta('1 hour')\n",
    ")\n",
    "#-------------------------\n",
    "ovrlp_audit_a2.run_ami_and_ede_daq(\n",
    "    search_time_half_window=search_time_half_window\n",
    ")\n",
    "#-------------------------\n",
    "ovrlp_audit_a2.build_best_ests_df()\n",
    "#-------------------------\n",
    "ovrlp_audit_a2.identify_overlaps(\n",
    "    overlaps_dovs_sql_fcn=DOVSOutages_SQL.build_sql_outage\n",
    ")"
   ]
  },
  {
   "cell_type": "code",
   "execution_count": null,
   "id": "161a27a3",
   "metadata": {},
   "outputs": [],
   "source": [
    "ovrlp_audit_a2.best_ests_df"
   ]
  },
  {
   "cell_type": "code",
   "execution_count": null,
   "id": "d33a3483",
   "metadata": {},
   "outputs": [],
   "source": [
    "ovrlp_audit_a2.best_ests_df_w_keep_info"
   ]
  },
  {
   "cell_type": "code",
   "execution_count": null,
   "id": "c7a3b508",
   "metadata": {},
   "outputs": [],
   "source": [
    "print(ovrlp_audit_a.best_ests_df_w_keep_info.equals(ovrlp_audit_a2.best_ests_df_w_keep_info))\n",
    "print(ovrlp_audit_a.best_ests_df.equals(ovrlp_audit_a2.best_ests_df))"
   ]
  },
  {
   "cell_type": "code",
   "execution_count": null,
   "id": "48bd1785",
   "metadata": {},
   "outputs": [],
   "source": []
  },
  {
   "cell_type": "code",
   "execution_count": null,
   "id": "745fe014",
   "metadata": {},
   "outputs": [],
   "source": [
    "# Columns whose values can be used to uniquely identify an entry in best_ests_df_w_keep_info\n",
    "unq_idfr_cols = ['PN', 'i_outg']"
   ]
  },
  {
   "cell_type": "code",
   "execution_count": null,
   "id": "fa74e3df",
   "metadata": {},
   "outputs": [],
   "source": [
    "(audit_i.best_ests_df_w_keep_info['keep']==False).sum()"
   ]
  },
  {
   "cell_type": "code",
   "execution_count": null,
   "id": "14e1bdcf",
   "metadata": {},
   "outputs": [],
   "source": [
    "be_df_wki_i       = audit_i.best_ests_df_w_keep_info.copy()\n",
    "ovrlp_be_df_wki_a = ovrlp_audit_a.best_ests_df_w_keep_info.copy()\n",
    "# #-------------------------\n",
    "# # Sanity check: Make sure audit_i.outg_rec_nb found somewhere in ovrlp_be_df_wki_a\n",
    "# assert((ovrlp_be_df_wki_a['overlap_DOVS'].apply(lambda x: audit_i.outg_rec_nb in x)).any())\n",
    "# #-----\n",
    "# # Only interested in entires in ovrlp_be_df_wki_a which overlap with audit_i.outg_rec_nb\n",
    "# ovrlp_be_df_wki_a=ovrlp_be_df_wki_a[\n",
    "#     ovrlp_be_df_wki_a['overlap_DOVS'].apply(lambda x: audit_i.outg_rec_nb in x)\n",
    "# ]\n",
    "# #-------------------------\n",
    "# # Sanity check: Make sure ovrlp_audit_a.outg_rec_nb found somewhere in be_df_wki_i\n",
    "# assert((be_df_wki_i['overlap_DOVS'].apply(lambda x: ovrlp_audit_a.outg_rec_nb in x)).any())\n",
    "# #-----\n",
    "# # Only interested in entires in be_df_wki_i which overlap with ovrlp_audit_a.outg_rec_nb\n",
    "# be_df_wki_i=be_df_wki_i[\n",
    "#     be_df_wki_i['overlap_DOVS'].apply(lambda x: ovrlp_audit_a.outg_rec_nb in x)\n",
    "# ]"
   ]
  },
  {
   "cell_type": "code",
   "execution_count": null,
   "id": "d000b9c2",
   "metadata": {},
   "outputs": [],
   "source": []
  },
  {
   "cell_type": "markdown",
   "id": "a933f54b",
   "metadata": {},
   "source": [
    "# Resolve overlaps"
   ]
  },
  {
   "cell_type": "code",
   "execution_count": null,
   "id": "30512aa6",
   "metadata": {},
   "outputs": [],
   "source": []
  },
  {
   "cell_type": "code",
   "execution_count": null,
   "id": "fce9c761",
   "metadata": {},
   "outputs": [],
   "source": [
    "audit_a = copy.deepcopy(audit_i)\n",
    "audit_b = copy.deepcopy(ovrlp_audit_a)\n",
    "unq_idfr_cols = ['PN', 'i_outg']\n",
    "PN_col='PN'\n",
    "t_min_col='winner_min'\n",
    "t_max_col='winner_max'\n",
    "keep_col='keep'\n",
    "overlap_DOVS_col='overlap_DOVS'\n",
    "open_beg_col = 'open_beg'\n",
    "open_end_col = 'open_end'"
   ]
  },
  {
   "cell_type": "code",
   "execution_count": null,
   "id": "db9b863b",
   "metadata": {},
   "outputs": [],
   "source": [
    "audit_a1 = copy.deepcopy(audit_i)\n",
    "audit_a2 = copy.deepcopy(audit_i)\n",
    "audit_a3 = copy.deepcopy(audit_i)\n",
    "audit_a4 = copy.deepcopy(audit_i)\n",
    "\n",
    "audit_b1 = copy.deepcopy(ovrlp_audit_a)\n",
    "audit_b2 = copy.deepcopy(ovrlp_audit_a)\n",
    "audit_b3 = copy.deepcopy(ovrlp_audit_a)\n",
    "audit_b4 = copy.deepcopy(ovrlp_audit_a)"
   ]
  },
  {
   "cell_type": "code",
   "execution_count": null,
   "id": "5cae7f03",
   "metadata": {},
   "outputs": [],
   "source": [
    "PNs_to_resolve_A = audit_a.best_ests_df_w_keep_info[audit_a.best_ests_df_w_keep_info['keep']==False]['PN'].unique().tolist()\n",
    "# PNs_to_resolve_B = audit_a.best_ests_df_w_keep_info['PN'].unique().tolist()\n",
    "PNs_to_resolve_B = None"
   ]
  },
  {
   "cell_type": "code",
   "execution_count": null,
   "id": "b5113033",
   "metadata": {},
   "outputs": [],
   "source": [
    "adjustment_dicts_1 = DOVSAudit.resolve_overlapping_audits(\n",
    "    audit_a          = audit_a1, \n",
    "    audit_b          = audit_b1, \n",
    "    PNs_to_resolve   = PNs_to_resolve_A, \n",
    "    unq_idfr_cols    = unq_idfr_cols, \n",
    "    PN_col           = PN_col, \n",
    "    t_min_col        = t_min_col, \n",
    "    t_max_col        = t_max_col, \n",
    "    keep_col         = keep_col, \n",
    "    overlap_DOVS_col = overlap_DOVS_col, \n",
    "    open_beg_col     = open_beg_col, \n",
    "    open_end_col     = open_end_col\n",
    ")"
   ]
  },
  {
   "cell_type": "code",
   "execution_count": null,
   "id": "fb0f1328",
   "metadata": {},
   "outputs": [],
   "source": [
    "adjustment_dicts_2 = DOVSAudit.resolve_overlapping_audits_v2(\n",
    "    audit_a          = audit_a2, \n",
    "    audit_b          = audit_b2, \n",
    "    PNs_to_resolve   = PNs_to_resolve_A, \n",
    "    unq_idfr_cols    = unq_idfr_cols, \n",
    "    PN_col           = PN_col, \n",
    "    t_min_col        = t_min_col, \n",
    "    t_max_col        = t_max_col, \n",
    "    keep_col         = keep_col, \n",
    "    overlap_DOVS_col = overlap_DOVS_col, \n",
    "    open_beg_col     = open_beg_col, \n",
    "    open_end_col     = open_end_col\n",
    ")"
   ]
  },
  {
   "cell_type": "code",
   "execution_count": null,
   "id": "5582b552",
   "metadata": {},
   "outputs": [],
   "source": [
    "adjustment_dicts_3 = DOVSAudit.resolve_overlapping_audits(\n",
    "    audit_a          = audit_a3, \n",
    "    audit_b          = audit_b3, \n",
    "    PNs_to_resolve   = PNs_to_resolve_B, \n",
    "    unq_idfr_cols    = unq_idfr_cols, \n",
    "    PN_col           = PN_col, \n",
    "    t_min_col        = t_min_col, \n",
    "    t_max_col        = t_max_col, \n",
    "    keep_col         = keep_col, \n",
    "    overlap_DOVS_col = overlap_DOVS_col, \n",
    "    open_beg_col     = open_beg_col, \n",
    "    open_end_col     = open_end_col\n",
    ")"
   ]
  },
  {
   "cell_type": "code",
   "execution_count": null,
   "id": "216dc371",
   "metadata": {},
   "outputs": [],
   "source": [
    "adjustment_dicts_4 = DOVSAudit.resolve_overlapping_audits_v2(\n",
    "    audit_a          = audit_a4, \n",
    "    audit_b          = audit_b4, \n",
    "    PNs_to_resolve   = PNs_to_resolve_B, \n",
    "    unq_idfr_cols    = unq_idfr_cols, \n",
    "    PN_col           = PN_col, \n",
    "    t_min_col        = t_min_col, \n",
    "    t_max_col        = t_max_col, \n",
    "    keep_col         = keep_col, \n",
    "    overlap_DOVS_col = overlap_DOVS_col, \n",
    "    open_beg_col     = open_beg_col, \n",
    "    open_end_col     = open_end_col\n",
    ")"
   ]
  },
  {
   "cell_type": "code",
   "execution_count": null,
   "id": "9af75fd5",
   "metadata": {},
   "outputs": [],
   "source": [
    "# Expect True\n",
    "print(audit_a1.best_ests_df_w_keep_info.equals(audit_a2.best_ests_df_w_keep_info))\n",
    "print(audit_a1.best_ests_df_w_keep_info.equals(audit_a3.best_ests_df_w_keep_info))\n",
    "print(audit_a1.best_ests_df_w_keep_info.equals(audit_a4.best_ests_df_w_keep_info))\n",
    "\n",
    "print(audit_b1.best_ests_df_w_keep_info.equals(audit_b2.best_ests_df_w_keep_info))\n",
    "print(audit_b1.best_ests_df_w_keep_info.equals(audit_b3.best_ests_df_w_keep_info))\n",
    "print(audit_b1.best_ests_df_w_keep_info.equals(audit_b4.best_ests_df_w_keep_info))"
   ]
  },
  {
   "cell_type": "code",
   "execution_count": null,
   "id": "7897bf2c",
   "metadata": {},
   "outputs": [],
   "source": [
    "audit_a1.best_ests_df"
   ]
  },
  {
   "cell_type": "code",
   "execution_count": null,
   "id": "9310fe8a",
   "metadata": {},
   "outputs": [],
   "source": [
    "audit_a1.best_ests_df = audit_a1.best_ests_df_w_keep_info[audit_a1.best_ests_df_w_keep_info['keep']==True].drop(columns=['overlap_DOVS', 'overlap_times', 'keep'])"
   ]
  },
  {
   "cell_type": "code",
   "execution_count": null,
   "id": "31dfbdc6",
   "metadata": {},
   "outputs": [],
   "source": []
  },
  {
   "cell_type": "code",
   "execution_count": null,
   "id": "35bc035c",
   "metadata": {},
   "outputs": [],
   "source": [
    "%run ./check_DOVS_METHODS.ipynb"
   ]
  },
  {
   "cell_type": "code",
   "execution_count": null,
   "id": "8125e765",
   "metadata": {},
   "outputs": [],
   "source": [
    "best_ests_df = audit_a1.best_ests_df.copy()\n",
    "ami_df_i = audit_a1.ami_df_i.copy()\n",
    "#-----\n",
    "dovs_outg_t_beg_end = audit_a1.dovs_outg_t_beg_end\n",
    "dovs_outg_t_beg = dovs_outg_t_beg_end[0]\n",
    "dovs_outg_t_end = dovs_outg_t_beg_end[1]\n",
    "#-----\n",
    "outage_nb  = audit_a1.outage_nb\n",
    "n_PNs_dovs = audit_a1.n_PNs_dovs\n",
    "ci_dovs    = audit_a1.ci_cmi_dovs[0]\n",
    "cmi_dovs   = audit_a1.ci_cmi_dovs[1]\n",
    "ci_ami     = best_ests_df['PN'].nunique() \n",
    "cmi_ami    = (best_ests_df['winner_max']-best_ests_df['winner_min']).sum().total_seconds()/60\n",
    "threshold=95\n",
    "#-------------------------\n",
    "outg_SNs = best_ests_df['PN'].unique().tolist()\n",
    "ami_df_i_out      = ami_df_i[ami_df_i['aep_premise_nb'].isin(outg_SNs)]\n",
    "ami_df_i_not_out  = ami_df_i[~ami_df_i['aep_premise_nb'].isin(outg_SNs)]\n",
    "#-------------------------\n",
    "means_df, best_ests_df_w_db_lbl = DOVSAudit.get_mean_times_w_dbscan(\n",
    "    best_ests_df, \n",
    "    eps_min=5, \n",
    "    min_samples=2, \n",
    "    ests_to_include_in_clustering=['winner_min', 'winner_max'],\n",
    "    ests_to_include_in_output=[\n",
    "        'winner_min', 'winner_max', \n",
    "        'conservative_min', 'conservative_max', \n",
    "        'zero_times_min', 'zero_times_max'\n",
    "    ], \n",
    "    return_labelled_best_ests_df=True\n",
    ")\n",
    "#-------------------------\n",
    "n_PNs_w_power_srs = DOVSAudit.build_n_PNs_w_power_srs(\n",
    "    best_ests_df, \n",
    "    ami_df_i, \n",
    "    return_pct=True, \n",
    "    PN_col='PN', \n",
    "    t_min_col='winner_min', \n",
    "    t_max_col='winner_max', \n",
    "    i_outg_col='i_outg', \n",
    "    PN_col_ami_df='aep_premise_nb'\n",
    ")"
   ]
  },
  {
   "cell_type": "code",
   "execution_count": null,
   "id": "b316f356",
   "metadata": {},
   "outputs": [],
   "source": [
    "fig_num=0\n",
    "fig, axs = plot_all_out_not_NEW(\n",
    "    fig_num              = fig_num, \n",
    "    ami_df_i             = ami_df_i, \n",
    "    ami_df_i_out         = ami_df_i_out, \n",
    "    ami_df_i_not_out     = ami_df_i_not_out, \n",
    "    dovs_outg_t_beg      = dovs_outg_t_beg, \n",
    "    dovs_outg_t_end      = dovs_outg_t_end, \n",
    "    cnsrvtv_out_t_beg    = best_ests_df['conservative_min'].min(), \n",
    "    cnsrvtv_out_t_end    = best_ests_df['conservative_max'].max(), \n",
    "    means_df             = means_df, \n",
    "    outg_rec_nb          = outg_rec_nb, \n",
    "    outage_nb            = outage_nb, \n",
    "    n_PNs_dovs           = n_PNs_dovs, \n",
    "    ci_dovs              = ci_dovs, \n",
    "    cmi_dovs             = cmi_dovs, \n",
    "    ci_ami               = ci_ami, \n",
    "    cmi_ami              = cmi_ami, \n",
    "    name                 = 'AMI', \n",
    "    results_2_dict       = None, \n",
    "    expand_time          = pd.Timedelta('1 hour'), \n",
    "    mean_keys_to_include = ['winner', 'conservative', 'zero_times'], \n",
    "    removed_due_to_overlap_col='removed_due_to_overlap', \n",
    "    default_subplots_args=dict(n_x=2, n_y=2, row_major=True, sharex=True), \n",
    "    leg_i_plot=1, \n",
    "    leg_kwargs=dict(ncols=1, fontsize=15, bbox_to_anchor=(1, 1.2)), \n",
    "    ci_info_fontsize=16, \n",
    "    left_text_x=0.915\n",
    "    \n",
    ")\n",
    "\n",
    "fig,axs[3] = DOVSAudit.plot_n_PNs_w_power_srs(\n",
    "    n_PNs_w_power_srs, \n",
    "    simp_freq='1T', \n",
    "    threshold=threshold, \n",
    "    fig_num=fig_num, \n",
    "    fig_ax=(fig, axs[3]), \n",
    "    threshold_color='magenta'\n",
    ")\n",
    "\n",
    "fig_num += 1"
   ]
  },
  {
   "cell_type": "code",
   "execution_count": null,
   "id": "565f3a5c",
   "metadata": {},
   "outputs": [],
   "source": []
  },
  {
   "cell_type": "code",
   "execution_count": null,
   "id": "0537cf0f",
   "metadata": {},
   "outputs": [],
   "source": []
  },
  {
   "cell_type": "code",
   "execution_count": null,
   "id": "87d51d98",
   "metadata": {},
   "outputs": [],
   "source": []
  },
  {
   "cell_type": "code",
   "execution_count": null,
   "id": "c0f8be79",
   "metadata": {},
   "outputs": [],
   "source": []
  },
  {
   "cell_type": "code",
   "execution_count": null,
   "id": "e589c21c",
   "metadata": {},
   "outputs": [],
   "source": []
  },
  {
   "cell_type": "code",
   "execution_count": null,
   "id": "771af8a9",
   "metadata": {},
   "outputs": [],
   "source": []
  },
  {
   "cell_type": "code",
   "execution_count": null,
   "id": "90c694d2",
   "metadata": {},
   "outputs": [],
   "source": []
  },
  {
   "cell_type": "code",
   "execution_count": null,
   "id": "0c043baf",
   "metadata": {},
   "outputs": [],
   "source": [
    "def remove_overlap_from_interval_w_split(\n",
    "    interval, \n",
    "    overlap, \n",
    "    split_interval=False\n",
    "):\n",
    "    r\"\"\"\n",
    "    Not really used anywhere.\n",
    "    This is how remove_overlap_from_interval was originally written, but I reduced the functionality to\n",
    "      simplify things.\n",
    "    So, this exists in case I desire the functionality later.\n",
    "    \n",
    "    Given an input interval and possible overlap interval, remove overlap from the interval.\n",
    "    Both interval and overlap should be lists/tuples of length 2 whose elements represent the beginning and\n",
    "      ending of the interval.\n",
    "    \n",
    "    By default, this will not split the input interval.\n",
    "        If the overlap does split the interval, the portion of interval occurring prior to the overlap will be returned.\n",
    "        The intent of this function is to remove any DOVS events overlapping with the algorithm outage times.\n",
    "        Therefore, in such a split situation, we would not want anything after the first overlap.\n",
    "    --------------------------------------------------\n",
    "    There are basically 4 distinct situations\n",
    "      1. overlap completely encompasses interval \n",
    "           ==> returned interval should be empty\n",
    "      2. interval completely encompasses overlap\n",
    "           - if split_interval==True: \n",
    "                 return the two sub-intervals on either side of overlap\n",
    "           - if split_interval==False: \n",
    "                 return the first sub-interval which occurs prior to overlap\n",
    "      3. overlap begins BEFORE interval begins and ends BEFORE interval ends\n",
    "           ==> return portion of interval occurring after overlap ends\n",
    "      4. overlap begins AFTER interval begins and ends AFTER interval ends\n",
    "           ==> return portion of interval occurring before overlap begins\n",
    "    \"\"\"\n",
    "    #--------------------------------------------------\n",
    "    assert(Utilities.is_object_one_of_types(interval, [list, tuple]))\n",
    "    assert(Utilities.is_object_one_of_types(overlap, [list, tuple]))\n",
    "    #-----\n",
    "    if len(interval)==0:\n",
    "        return interval\n",
    "    #-----\n",
    "    assert(len(interval)==2)\n",
    "    assert(len(overlap)==2)\n",
    "    #-----\n",
    "    assert(interval[1] > interval[0])\n",
    "    assert(overlap[1]  > overlap[0])\n",
    "    #-------------------------\n",
    "    # If the two do not overlap, simply return interval\n",
    "    if not pd.Interval(interval[0], interval[1]).overlaps(pd.Interval(overlap[0], overlap[1])):\n",
    "        return interval\n",
    "    #--------------------------------------------------\n",
    "    # 4 distinct situations described in function documentation\n",
    "    #-------------------------\n",
    "    # 1. overlap completely encompasses interval \n",
    "    if (overlap[0] <= interval[0]) and (overlap[1] >= interval[1]):\n",
    "        return []\n",
    "    #-------------------------\n",
    "    # 2. interval completely encompasses overlap\n",
    "    if (interval[0] <= overlap[0]) and (interval[1] >= overlap[1]):\n",
    "        intrvl_1 = [interval[0], overlap[0]]\n",
    "        intrvl_2 = [overlap[1],  interval[1]]\n",
    "        if split_interval:\n",
    "            return intrvl_1, intrvl_2\n",
    "        else:\n",
    "            return intrvl_1\n",
    "        \n",
    "    #-------------------------\n",
    "    # 3. overlap begins BEFORE interval begins and ends BEFORE interval ends\n",
    "    #     ==> return portion of interval occurring after overlap ends\n",
    "    if overlap[0] < interval[0]:\n",
    "        assert(overlap[1] < interval[1])\n",
    "        return [overlap[1], interval[1]]\n",
    "    \n",
    "    #-------------------------\n",
    "    # 4. overlap begins AFTER interval begins and ends AFTER interval ends\n",
    "    #     ==> return portion of interval occurring before overlap begins\n",
    "    if overlap[0] > interval[0]:\n",
    "        assert(overlap[1] > interval[1])\n",
    "        return [interval[0], overlap[0]]\n",
    "    \n",
    "    #-------------------------\n",
    "    # SHOULD NEVER REACH THIS POINT!\n",
    "    print('In remove_overlap_from_interval: None of 4 distinct situations caught current!\\nCRASH IMMINENT!')\n",
    "    print(f'interval = {interval}')\n",
    "    print(f'overlap  = {overlap}')\n",
    "    assert(0)"
   ]
  },
  {
   "cell_type": "code",
   "execution_count": null,
   "id": "3ecb2a95",
   "metadata": {},
   "outputs": [],
   "source": [
    "def remove_overlap_from_interval(\n",
    "    interval, \n",
    "    overlap, \n",
    "    return_removed=False\n",
    "):\n",
    "    r\"\"\"\n",
    "    Given an input interval and possible overlap interval, remove overlap from the interval.\n",
    "    Both interval and overlap should be lists/tuples of length 2 whose elements represent the beginning and\n",
    "      ending of the interval.\n",
    "    \n",
    "    This will NOT split the input interval.\n",
    "        If the overlap does split the interval, the portion of interval occurring prior to the overlap will be returned.\n",
    "        The intent of this function is to remove any DOVS events overlapping with the algorithm outage times.\n",
    "        Therefore, in such a split situation, we would not want anything after the first overlap.\n",
    "    --------------------------------------------------\n",
    "    There are basically 4 distinct situations\n",
    "      1. overlap completely encompasses interval \n",
    "           ==> returned interval should be empty\n",
    "      2. interval completely encompasses overlap\n",
    "           ==> return the first sub-interval which occurs prior to overlap\n",
    "      3. overlap begins BEFORE interval begins and ends BEFORE interval ends\n",
    "           ==> return portion of interval occurring after overlap ends\n",
    "      4. overlap begins AFTER interval begins and ends AFTER interval ends\n",
    "           ==> return portion of interval occurring before overlap begins\n",
    "    \"\"\"\n",
    "    #--------------------------------------------------\n",
    "    assert(Utilities.is_object_one_of_types(interval, [list, tuple]))\n",
    "    assert(Utilities.is_object_one_of_types(overlap, [list, tuple]))\n",
    "    #-----\n",
    "    if len(interval)==0:\n",
    "        if return_removed:\n",
    "            return interval, []\n",
    "        return interval\n",
    "    #-----\n",
    "    assert(len(interval)==2)\n",
    "    assert(len(overlap)==2)\n",
    "    #-----\n",
    "    assert(interval[1] > interval[0])\n",
    "    assert(overlap[1]  > overlap[0])\n",
    "    #-------------------------\n",
    "    # If the two do not overlap, simply return interval\n",
    "    if not pd.Interval(interval[0], interval[1]).overlaps(pd.Interval(overlap[0], overlap[1])):\n",
    "        rtrn_intrvl = []\n",
    "        rmvd_intrvl = []\n",
    "        if return_removed:\n",
    "            return rtrn_intrvl, rmvd_intrvl\n",
    "        return rtrn_intrvl\n",
    "    #--------------------------------------------------\n",
    "    # 4 distinct situations described in function documentation\n",
    "    #-------------------------\n",
    "    # 1. overlap completely encompasses interval \n",
    "    if (overlap[0] <= interval[0]) and (overlap[1] >= interval[1]):\n",
    "        rtrn_intrvl = []\n",
    "        rmvd_intrvl = [overlap[0], overlap[1]]\n",
    "        if return_removed:\n",
    "            return rtrn_intrvl, rmvd_intrvl\n",
    "        return rtrn_intrvl\n",
    "    #-------------------------\n",
    "    # 2. interval completely encompasses overlap\n",
    "    if (interval[0] <= overlap[0]) and (interval[1] >= overlap[1]):\n",
    "        rtrn_intrvl = [interval[0], overlap[0]]\n",
    "        rmvd_intrvl = [overlap[0], interval[1]]\n",
    "        if return_removed:\n",
    "            return rtrn_intrvl, rmvd_intrvl\n",
    "        return rtrn_intrvl\n",
    "        \n",
    "    #-------------------------\n",
    "    # 3. overlap begins BEFORE interval begins and ends BEFORE interval ends\n",
    "    #     ==> return portion of interval occurring after overlap ends\n",
    "    if overlap[0] < interval[0]:\n",
    "        assert(overlap[1] < interval[1])\n",
    "        rtrn_intrvl = [overlap[1], interval[1]]\n",
    "        rmvd_intrvl = [overlap[0], overlap[1]]\n",
    "        if return_removed:\n",
    "            return rtrn_intrvl, rmvd_intrvl\n",
    "        return rtrn_intrvl\n",
    "    \n",
    "    #-------------------------\n",
    "    # 4. overlap begins AFTER interval begins and ends AFTER interval ends\n",
    "    #     ==> return portion of interval occurring before overlap begins\n",
    "    if overlap[0] > interval[0]:\n",
    "        assert(overlap[1] > interval[1])\n",
    "        rtrn_intrvl = [interval[0], overlap[0]]\n",
    "        rmvd_intrvl = [overlap[0], overlap[1]]\n",
    "        if return_removed:\n",
    "            return rtrn_intrvl, rmvd_intrvl\n",
    "        return rtrn_intrvl\n",
    "    \n",
    "    #-------------------------\n",
    "    # SHOULD NEVER REACH THIS POINT!\n",
    "    print('In remove_overlap_from_interval: None of 4 distinct situations caught current!\\nCRASH IMMINENT!')\n",
    "    print(f'interval = {interval}')\n",
    "    print(f'overlap  = {overlap}')\n",
    "    assert(0)"
   ]
  },
  {
   "cell_type": "code",
   "execution_count": null,
   "id": "b9ccab05",
   "metadata": {},
   "outputs": [],
   "source": [
    "def remove_overlaps_from_interval(\n",
    "    interval, \n",
    "    overlaps, \n",
    "    return_removed=False\n",
    "):\n",
    "    r\"\"\"\n",
    "    Remove multiple possible overlaps from interval\n",
    "    \"\"\"\n",
    "    #-------------------------\n",
    "    assert(isinstance(overlaps, list))\n",
    "    assert(Utilities.are_all_list_elements_one_of_types(lst=overlaps, types=[list, tuple]))\n",
    "    assert(Utilities.are_list_elements_lengths_homogeneous(lst=overlaps, length=2))\n",
    "    #-------------------------\n",
    "    return_int = copy.deepcopy(interval)\n",
    "    removed_intrvls = []\n",
    "    for overlap_i in overlaps:\n",
    "        if len(return_int)==0:\n",
    "            break\n",
    "        return_int, rmvd_intrvl_i = remove_overlap_from_interval(\n",
    "            interval       = return_int, \n",
    "            overlap        = overlap_i, \n",
    "            return_removed = True\n",
    "        )\n",
    "        removed_intrvls.append(rmvd_intrvl_i)\n",
    "    #-------------------------\n",
    "    if return_removed:\n",
    "        return return_int, removed_intrvls\n",
    "    return return_int"
   ]
  },
  {
   "cell_type": "code",
   "execution_count": null,
   "id": "e1818aa5",
   "metadata": {},
   "outputs": [],
   "source": [
    "best_ests_df_w_keep_info = audit_i.best_ests_df_w_keep_info.copy()"
   ]
  },
  {
   "cell_type": "code",
   "execution_count": null,
   "id": "5b0767e4",
   "metadata": {},
   "outputs": [],
   "source": [
    "best_ests_df_w_keep_info"
   ]
  },
  {
   "cell_type": "code",
   "execution_count": null,
   "id": "a7ebc169",
   "metadata": {},
   "outputs": [],
   "source": [
    "# winner_min    = best_ests_df_w_keep_info[best_ests_df_w_keep_info['keep']==False].iloc[0]['winner_min']\n",
    "# winner_max    = best_ests_df_w_keep_info[best_ests_df_w_keep_info['keep']==False].iloc[0]['winner_max']\n",
    "# overlap_times = best_ests_df_w_keep_info[best_ests_df_w_keep_info['keep']==False].iloc[0]['overlap_times']\n",
    "\n",
    "winner_min    = best_ests_df_w_keep_info.iloc[3]['winner_min']\n",
    "winner_max    = best_ests_df_w_keep_info.iloc[3]['winner_max']\n",
    "overlap_times = best_ests_df_w_keep_info.iloc[3]['overlap_times']\n",
    "\n",
    "print(winner_min)\n",
    "print(winner_max)\n",
    "print(overlap_times)"
   ]
  },
  {
   "cell_type": "code",
   "execution_count": null,
   "id": "01891f58",
   "metadata": {},
   "outputs": [],
   "source": [
    "# remove_overlap_from_interval(\n",
    "#     interval = [winner_min, winner_max], \n",
    "#     overlap = overlap_times[0], \n",
    "#     return_removed=False\n",
    "# )"
   ]
  },
  {
   "cell_type": "code",
   "execution_count": null,
   "id": "7f69bc01",
   "metadata": {},
   "outputs": [],
   "source": [
    "# remove_overlap_from_interval(\n",
    "#     interval = [winner_min, winner_max], \n",
    "#     overlap = overlap_times[0], \n",
    "#     return_removed=True\n",
    "# )"
   ]
  },
  {
   "cell_type": "code",
   "execution_count": null,
   "id": "16975886",
   "metadata": {},
   "outputs": [],
   "source": [
    "# r1,r2 = remove_overlaps_from_interval(\n",
    "#     interval = [winner_min, winner_max], \n",
    "#     overlaps = overlap_times, \n",
    "#     return_removed=True\n",
    "# )\n",
    "# print(r1)\n",
    "# print(r2)"
   ]
  },
  {
   "cell_type": "code",
   "execution_count": null,
   "id": "cc862ad1",
   "metadata": {},
   "outputs": [],
   "source": []
  },
  {
   "cell_type": "code",
   "execution_count": null,
   "id": "42dbabed",
   "metadata": {},
   "outputs": [],
   "source": [
    "ovrlp_audit_j.best_ests_df_w_keep_info"
   ]
  },
  {
   "cell_type": "code",
   "execution_count": null,
   "id": "781b03cc",
   "metadata": {},
   "outputs": [],
   "source": [
    "# Easiest situation:\n",
    "#   outg_rec_nb_a finds      two sub-outages, with sub_a_1 marked keep=True  and sub_a_2 marked keep=False\n",
    "#   outg_rec_nb_b finds same two sub-outages, with sub_a_1 marked keep=False and sub_a_2 marked keep=True"
   ]
  },
  {
   "cell_type": "code",
   "execution_count": null,
   "id": "1db17e43",
   "metadata": {},
   "outputs": [],
   "source": [
    "# Can't get around doing this PN-by-PN"
   ]
  },
  {
   "cell_type": "code",
   "execution_count": null,
   "id": "8510d3a0",
   "metadata": {},
   "outputs": [],
   "source": [
    "best_ests_df_w_keep_info = audit_i.best_ests_df_w_keep_info.copy()"
   ]
  },
  {
   "cell_type": "code",
   "execution_count": null,
   "id": "6cd42e2e",
   "metadata": {},
   "outputs": [],
   "source": []
  },
  {
   "cell_type": "code",
   "execution_count": null,
   "id": "f9a6ac15",
   "metadata": {},
   "outputs": [],
   "source": [
    "def remove_overlaps_for_PN_i(\n",
    "    best_ests_df_i, \n",
    "    ovrlp_be_df, \n",
    "    t_min_col_idx, \n",
    "    t_max_col_idx, \n",
    "    rmvd_times_col_idx, \n",
    "    PN_col='PN', \n",
    "    keep_col='keep'\n",
    "):\n",
    "    r\"\"\"\n",
    "    HELPER FUNCTION! Not designed to be used on its own\n",
    "        \n",
    "    In reality, best_ests_df_i should be best_ests_df_w_keep_info_i, but I didn't feel like carrying such a heavy\n",
    "      name around the entire function\n",
    "    \"\"\"\n",
    "    #-------------------------\n",
    "    assert(best_ests_df_i[PN_col].nunique()==1)\n",
    "    best_ests_df_i = best_ests_df_i.copy()\n",
    "    #-------------------------\n",
    "    PN_i = best_ests_df_i[PN_col].unique().tolist()[0]\n",
    "    ovrlp_be_df_i = ovrlp_be_df[ovrlp_be_df[PN_col]==PN_i]\n",
    "    if ovrlp_be_df_i.shape[0]==0:\n",
    "        return best_ests_df_i\n",
    "    #-------------------------\n",
    "    t_min_col = best_ests_df_i.columns.tolist()[t_min_col_idx]\n",
    "    t_max_col = best_ests_df_i.columns.tolist()[t_max_col_idx]\n",
    "    #-------------------------\n",
    "    # Annoying, but ovrlp_intervals_i needs to be a list of 2-d lists holding timestamp objects.\n",
    "    #   Calling .values.tolist() converts the timestamps to ints, which is the annoying part.\n",
    "    #   Therefore, I have to use pd.to_datetime() to convert back\n",
    "    ovrlp_intervals_i = ovrlp_be_df_i[[t_min_col, t_max_col]].values\n",
    "    ovrlp_intervals_i = [[pd.to_datetime(intrvl[0]), pd.to_datetime(intrvl[1])] for intrvl in ovrlp_intervals_i.tolist()]\n",
    "    # Can't get around doing this row-by-row\n",
    "    for idx_j in range(best_ests_df_i.shape[0]):\n",
    "        #-------------------------\n",
    "        if best_ests_df_i.iloc[idx_j][keep_col]==True:\n",
    "            continue\n",
    "        #-------------------------\n",
    "        t_min_j = best_ests_df_i.iloc[idx_j][t_min_col]\n",
    "        t_max_j = best_ests_df_i.iloc[idx_j][t_max_col]\n",
    "        #-----\n",
    "        interval_j, removed_j = remove_overlaps_from_interval(\n",
    "            interval = [t_min_j, t_max_j], \n",
    "            overlaps = ovrlp_intervals_i, \n",
    "            return_removed=True\n",
    "        )\n",
    "        #-----\n",
    "        if len(interval_j)==0:\n",
    "            best_ests_df_i.iloc[idx_j, t_min_col_idx] = None\n",
    "            best_ests_df_i.iloc[idx_j, t_max_col_idx] = None\n",
    "        else:\n",
    "            best_ests_df_i.iloc[idx_j, t_min_col_idx] = interval_j[0]\n",
    "            best_ests_df_i.iloc[idx_j, t_max_col_idx] = interval_j[1]\n",
    "        #-----\n",
    "        # NOTE: Using iat instead of iloc.\n",
    "        #       Using iloc gives \"ValueError: Must have equal len keys and value when setting with an ndarray\"\n",
    "        #         because pandas thinks I am interacting with multiple rows\n",
    "        #       Using iat resolves the confusion by letting pandas know I am dealing with a single element\n",
    "        best_ests_df_i.iat[idx_j, rmvd_times_col_idx] = removed_j\n",
    "    #-------------------------\n",
    "    return best_ests_df_i"
   ]
  },
  {
   "cell_type": "code",
   "execution_count": null,
   "id": "cfb73333",
   "metadata": {},
   "outputs": [],
   "source": []
  },
  {
   "cell_type": "code",
   "execution_count": null,
   "id": "c56bdf71",
   "metadata": {},
   "outputs": [],
   "source": []
  },
  {
   "cell_type": "code",
   "execution_count": null,
   "id": "54256dc6",
   "metadata": {},
   "outputs": [],
   "source": [
    "# def remove_overlaps_from_best_ests(\n",
    "#     best_ests_df, \n",
    "#     ovrlp_be_df, \n",
    "#     PN_col='PN', \n",
    "#     t_min_col='winner_min', \n",
    "#     t_max_col='winner_max', \n",
    "#     keep_col='keep'\n",
    "# ):\n",
    "#     r\"\"\"\n",
    "#     In reality, best_ests_df should be best_ests_df_w_keep_info, but I didn't feel like carrying such a heavy\n",
    "#       name around the entire function\n",
    "#     \"\"\"\n",
    "#     #-------------------------"
   ]
  },
  {
   "cell_type": "markdown",
   "id": "500d6b6f",
   "metadata": {},
   "source": [
    "# TODO\n",
    " - Need to develop method for creating ovrlp_be_df from multiple ovrlp_audit_j\n",
    " - See note: !!!!!!!!!! May want ot save status of return_df right now to some class member in case need to examine later\n",
    " - CI_NB/CMI_NB > 0 as default"
   ]
  },
  {
   "cell_type": "code",
   "execution_count": null,
   "id": "660e3359",
   "metadata": {},
   "outputs": [],
   "source": [
    "best_ests_df = best_ests_df_w_keep_info.copy()\n",
    "ovrlp_be_df = ovrlp_audit_j.best_ests_df_w_keep_info.copy()\n",
    "PN_col='PN'\n",
    "t_min_col='winner_min'\n",
    "t_max_col='winner_max'\n",
    "keep_col='keep'"
   ]
  },
  {
   "cell_type": "code",
   "execution_count": null,
   "id": "ece48ac0",
   "metadata": {},
   "outputs": [],
   "source": [
    "#--------------------------------------------------\n",
    "t_min_OG_col = t_min_col+'_OG'\n",
    "if t_min_OG_col in best_ests_df.columns.tolist():\n",
    "    t_min_OG_col = t_min_OG_col+'_'+Utilities.generate_random_string(str_len=4)\n",
    "#-----\n",
    "t_max_OG_col = t_max_col+'_OG'\n",
    "if t_max_OG_col in best_ests_df.columns.tolist():\n",
    "    t_max_OG_col = t_max_OG_col+'_'+Utilities.generate_random_string(str_len=4)\n",
    "#-----\n",
    "removed_times_col = 'removed_times'\n",
    "if removed_times_col in best_ests_df.columns.tolist():\n",
    "    removed_times_col = removed_times_col+'_'+Utilities.generate_random_string(str_len=4)\n",
    "#-----\n",
    "assert(t_min_OG_col not in best_ests_df.columns.tolist())\n",
    "assert(t_max_OG_col not in best_ests_df.columns.tolist())\n",
    "assert(removed_times_col not in best_ests_df.columns.tolist())\n",
    "#-------------------------\n",
    "best_ests_df[t_min_OG_col]      = best_ests_df[t_min_col]\n",
    "best_ests_df[t_max_OG_col]      = best_ests_df[t_max_col]\n",
    "best_ests_df[removed_times_col] = [[] for _ in range(best_ests_df.shape[0])]\n",
    "#--------------------------------------------------\n",
    "t_min_col_idx = Utilities_df.find_idxs_in_highest_order_of_columns(\n",
    "    df = best_ests_df, \n",
    "    col = 'winner_min', \n",
    "    exact_match=True, \n",
    "    assert_single=True\n",
    ")\n",
    "t_max_col_idx = Utilities_df.find_idxs_in_highest_order_of_columns(\n",
    "    df = best_ests_df, \n",
    "    col = 'winner_max', \n",
    "    exact_match=True, \n",
    "    assert_single=True\n",
    ")\n",
    "rmvd_times_col_idx = Utilities_df.find_idxs_in_highest_order_of_columns(\n",
    "    df = best_ests_df, \n",
    "    col = 'removed_times', \n",
    "    exact_match=True, \n",
    "    assert_single=True\n",
    ")\n",
    "#--------------------------------------------------\n",
    "return_df = best_ests_df.groupby(PN_col, as_index=False, group_keys=False).apply(\n",
    "    lambda x: remove_overlaps_for_PN_i(\n",
    "        best_ests_df_i     = x, \n",
    "        ovrlp_be_df        = ovrlp_be_df, \n",
    "        t_min_col_idx      = t_min_col_idx, \n",
    "        t_max_col_idx      = t_max_col_idx, \n",
    "        rmvd_times_col_idx = rmvd_times_col_idx, \n",
    "        PN_col             = PN_col, \n",
    "        keep_col           = keep_col\n",
    "    )\n",
    ")\n",
    "#!!!!!!!!!! May want ot save status of return_df right now to some class member in case need to examine later\n",
    "#--------------------------------------------------\n",
    "# First, call dropna with how='all'\n",
    "#   This should handle all cases, but I would like to be notified if a sub-outage has a value for t_min_col\n",
    "#     but not for t_max_col (or vice-versa)\n",
    "return_df = return_df.dropna(subset=[t_min_col, t_max_col], how='all')\n",
    "# NOTE: If one wanted to identify the rows for which one member is NA, one could use\n",
    "#         return_df[[t_min_col, t_max_col]].isna().sum(axis=1)>0\n",
    "assert(return_df[[t_min_col, t_max_col]].isna().sum().sum()==0)\n",
    "#--------------------------------------------------\n",
    "return_df = DOVSAudit.set_i_outg_in_best_ests_df(\n",
    "    best_ests_df = return_df, \n",
    "    groupby_cols = [PN_col], \n",
    "    sort_cols    = [t_min_col, t_min_col], \n",
    "    i_outg_col   = 'i_outg'\n",
    ")"
   ]
  },
  {
   "cell_type": "code",
   "execution_count": null,
   "id": "30022199",
   "metadata": {},
   "outputs": [],
   "source": []
  },
  {
   "cell_type": "code",
   "execution_count": null,
   "id": "07b794b1",
   "metadata": {},
   "outputs": [],
   "source": []
  },
  {
   "cell_type": "code",
   "execution_count": null,
   "id": "7b92f0a9",
   "metadata": {},
   "outputs": [],
   "source": [
    "# First, call dropna with how='all'\n",
    "#   This should handle all cases, but I would like to be notified if a sub-outage has a value for t_min_col\n",
    "#     but not for t_max_col (or vice-versa)\n",
    "return_df = return_df.dropna(subset=[t_min_col, t_max_col], how='all')\n",
    "# NOTE: If one wanted to identify the rows for which one member is NA, one could use\n",
    "#         return_df[[t_min_col, t_max_col]].isna().sum(axis=1)>0\n",
    "assert(return_df[[t_min_col, t_max_col]].isna().sum().sum()==0)"
   ]
  },
  {
   "cell_type": "code",
   "execution_count": null,
   "id": "52d8805c",
   "metadata": {},
   "outputs": [],
   "source": [
    "return_df = DOVSAudit.set_i_outg_in_best_ests_df(\n",
    "    best_ests_df = return_df, \n",
    "    groupby_cols = [PN_col], \n",
    "    sort_cols    = [t_min_col, t_min_col], \n",
    "    i_outg_col   = 'i_outg'\n",
    ")"
   ]
  },
  {
   "cell_type": "code",
   "execution_count": null,
   "id": "3582b924",
   "metadata": {},
   "outputs": [],
   "source": [
    "return_df"
   ]
  },
  {
   "cell_type": "code",
   "execution_count": null,
   "id": "d05e214b",
   "metadata": {},
   "outputs": [],
   "source": [
    "best_ests_df"
   ]
  },
  {
   "cell_type": "code",
   "execution_count": null,
   "id": "4ab44c06",
   "metadata": {},
   "outputs": [],
   "source": []
  },
  {
   "cell_type": "code",
   "execution_count": null,
   "id": "2580ccb3",
   "metadata": {},
   "outputs": [],
   "source": []
  },
  {
   "cell_type": "code",
   "execution_count": null,
   "id": "c0d3c756",
   "metadata": {},
   "outputs": [],
   "source": []
  },
  {
   "cell_type": "code",
   "execution_count": null,
   "id": "ad48dade",
   "metadata": {},
   "outputs": [],
   "source": [
    "# def is_PN_suboutg_split_across_DOVS()"
   ]
  },
  {
   "cell_type": "code",
   "execution_count": null,
   "id": "a4e5af3b",
   "metadata": {},
   "outputs": [],
   "source": [
    "audit_i.best_ests_df_w_keep_info"
   ]
  },
  {
   "cell_type": "code",
   "execution_count": null,
   "id": "6fd469bd",
   "metadata": {
    "scrolled": true
   },
   "outputs": [],
   "source": [
    "ovrlp_audit_j.best_ests_df_w_keep_info"
   ]
  },
  {
   "cell_type": "code",
   "execution_count": null,
   "id": "9d89d9a2",
   "metadata": {},
   "outputs": [],
   "source": [
    "ovrlp_audit_j.dovs_df_i.iloc[0]['premise_nbs']"
   ]
  },
  {
   "cell_type": "code",
   "execution_count": null,
   "id": "044679eb",
   "metadata": {},
   "outputs": [],
   "source": [
    "PN_j = '040587963'\n",
    "be_df_j = audit_i.best_ests_df_w_keep_info[audit_i.best_ests_df_w_keep_info[PN_col]==PN_i]\n",
    "ovrlp_be_df_j = ovrlp_audit_j.best_ests_df_w_keep_info[ovrlp_audit_j.best_ests_df_w_keep_info[PN_col]==PN_i]"
   ]
  },
  {
   "cell_type": "code",
   "execution_count": null,
   "id": "1fdeaf9f",
   "metadata": {},
   "outputs": [],
   "source": [
    "be_df_i"
   ]
  },
  {
   "cell_type": "code",
   "execution_count": null,
   "id": "be1d161c",
   "metadata": {},
   "outputs": [],
   "source": [
    "ovrlp_be_df_j"
   ]
  },
  {
   "cell_type": "code",
   "execution_count": null,
   "id": "94d71e0b",
   "metadata": {},
   "outputs": [],
   "source": []
  },
  {
   "cell_type": "code",
   "execution_count": null,
   "id": "28864114",
   "metadata": {},
   "outputs": [],
   "source": [
    "be_df_j[['winner_min', 'winner_max', 'keep']].value_counts().index.tolist()"
   ]
  },
  {
   "cell_type": "code",
   "execution_count": null,
   "id": "cf38faa1",
   "metadata": {},
   "outputs": [],
   "source": [
    "be_df_j.groupby(['winner_min', 'winner_max', 'keep']).groups.keys()"
   ]
  },
  {
   "cell_type": "code",
   "execution_count": null,
   "id": "c1c02838",
   "metadata": {},
   "outputs": [],
   "source": []
  },
  {
   "cell_type": "code",
   "execution_count": null,
   "id": "82a57df8",
   "metadata": {},
   "outputs": [],
   "source": [
    "gps       = be_df_j[['winner_min', 'winner_max', 'keep']].value_counts().index.tolist()\n",
    "ovrlp_gps = ovrlp_be_df_j[['winner_min', 'winner_max', 'keep']].value_counts().index.tolist()"
   ]
  },
  {
   "cell_type": "code",
   "execution_count": null,
   "id": "2a4804ae",
   "metadata": {},
   "outputs": [],
   "source": [
    "set(gps).symmetric_difference(ovrlp_gps)"
   ]
  },
  {
   "cell_type": "code",
   "execution_count": null,
   "id": "fbf95ccf",
   "metadata": {},
   "outputs": [],
   "source": [
    "if set(gps).symmetric_difference(ovrlp_gps)==set():\n",
    "    # I want to be notified when there are multiple sub-outages\n",
    "    # Currently coded for single\n",
    "    assert(len(gps)==len(ovrlp_gps)==1)"
   ]
  },
  {
   "cell_type": "code",
   "execution_count": null,
   "id": "18add917",
   "metadata": {},
   "outputs": [],
   "source": [
    "# Look at AMI data and see if power ever lost between two "
   ]
  },
  {
   "cell_type": "code",
   "execution_count": null,
   "id": "3a4346b0",
   "metadata": {},
   "outputs": [],
   "source": [
    "tmp_df = audit_i.ami_df_i[audit_i.ami_df_i['aep_premise_nb']==PN_j].copy()\n",
    "tmp_df = tmp_df[\n",
    "    (tmp_df['starttimeperiod_local'] >= be_df_i['winner_min'].min()) & \n",
    "    (tmp_df['endtimeperiod_local']   <= be_df_i['winner_max'].max())\n",
    "].copy()"
   ]
  },
  {
   "cell_type": "code",
   "execution_count": null,
   "id": "3f936208",
   "metadata": {},
   "outputs": [],
   "source": [
    "(tmp_df['value']!=0).any()"
   ]
  },
  {
   "cell_type": "code",
   "execution_count": null,
   "id": "bcb9a725",
   "metadata": {},
   "outputs": [],
   "source": []
  },
  {
   "cell_type": "code",
   "execution_count": null,
   "id": "4a2ed791",
   "metadata": {},
   "outputs": [],
   "source": []
  },
  {
   "cell_type": "code",
   "execution_count": null,
   "id": "9ef9ead4",
   "metadata": {},
   "outputs": [],
   "source": []
  },
  {
   "cell_type": "code",
   "execution_count": null,
   "id": "5bf6195c",
   "metadata": {},
   "outputs": [],
   "source": []
  },
  {
   "cell_type": "code",
   "execution_count": null,
   "id": "ce8cc4d1",
   "metadata": {},
   "outputs": [],
   "source": []
  },
  {
   "cell_type": "code",
   "execution_count": null,
   "id": "befe445b",
   "metadata": {},
   "outputs": [],
   "source": []
  },
  {
   "cell_type": "code",
   "execution_count": null,
   "id": "6cd323b3",
   "metadata": {},
   "outputs": [],
   "source": []
  },
  {
   "cell_type": "code",
   "execution_count": null,
   "id": "81e2c9c5",
   "metadata": {},
   "outputs": [],
   "source": []
  },
  {
   "cell_type": "code",
   "execution_count": null,
   "id": "c5ac537e",
   "metadata": {},
   "outputs": [],
   "source": []
  },
  {
   "cell_type": "markdown",
   "id": "bb663489",
   "metadata": {},
   "source": [
    "# FOR Peggy slide"
   ]
  },
  {
   "cell_type": "code",
   "execution_count": null,
   "id": "76cdf6c3",
   "metadata": {},
   "outputs": [],
   "source": [
    "%run ./check_DOVS_METHODS.ipynb"
   ]
  },
  {
   "cell_type": "code",
   "execution_count": null,
   "id": "36fe2da5",
   "metadata": {},
   "outputs": [],
   "source": [
    "# outg_rec_nb = '13551139'\n",
    "# outg_rec_nb = '13530407'\n",
    "outg_rec_nb = '13591325'"
   ]
  },
  {
   "cell_type": "code",
   "execution_count": null,
   "id": "76ee1536",
   "metadata": {},
   "outputs": [],
   "source": [
    "search_time_half_window=pd.Timedelta('24 hours')\n",
    "#-------------------------\n",
    "audit_i = DOVSAudit(\n",
    "    outg_rec_nb=outg_rec_nb\n",
    ")\n",
    "#-------------------------\n",
    "audit_i.load_dovs(\n",
    "    dovs_df           = None, \n",
    "    dovs_df_info_dict = None\n",
    ")\n",
    "#-------------------------\n",
    "audit_i.build_mp_df(\n",
    "    drop_mp_dups_fuzziness=pd.Timedelta('1 hour')\n",
    ")\n",
    "#-------------------------\n",
    "audit_i.run_ami_and_ede_daq(\n",
    "    search_time_half_window=search_time_half_window\n",
    ")"
   ]
  },
  {
   "cell_type": "code",
   "execution_count": null,
   "id": "ebb26484",
   "metadata": {},
   "outputs": [],
   "source": []
  },
  {
   "cell_type": "code",
   "execution_count": null,
   "id": "a350f4d9",
   "metadata": {},
   "outputs": [],
   "source": [
    "audit_i.build_best_ests_df()\n",
    "audit_i.best_ests_df"
   ]
  },
  {
   "cell_type": "code",
   "execution_count": null,
   "id": "7741453f",
   "metadata": {},
   "outputs": [],
   "source": []
  },
  {
   "cell_type": "code",
   "execution_count": null,
   "id": "ef2c6691",
   "metadata": {},
   "outputs": [],
   "source": [
    "audit_i.identify_overlaps(overlaps_dovs_sql_fcn=DOVSOutages_SQL.build_sql_outage)"
   ]
  },
  {
   "cell_type": "code",
   "execution_count": null,
   "id": "39cbb377",
   "metadata": {},
   "outputs": [],
   "source": [
    "audit_i.best_ests_df_w_keep_info"
   ]
  },
  {
   "cell_type": "code",
   "execution_count": null,
   "id": "39262fca",
   "metadata": {},
   "outputs": [],
   "source": [
    "fig_num=0"
   ]
  },
  {
   "cell_type": "code",
   "execution_count": null,
   "id": "c214c43b",
   "metadata": {},
   "outputs": [],
   "source": []
  },
  {
   "cell_type": "code",
   "execution_count": null,
   "id": "721fffcf",
   "metadata": {},
   "outputs": [],
   "source": [
    "best_ests_df = audit_i.best_ests_df.copy()\n",
    "ami_df_i = audit_i.ami_df_i.copy()\n",
    "#-----\n",
    "dovs_outg_t_beg_end = audit_i.dovs_outg_t_beg_end\n",
    "dovs_outg_t_beg = dovs_outg_t_beg_end[0]\n",
    "dovs_outg_t_end = dovs_outg_t_beg_end[1]\n",
    "#-----\n",
    "outage_nb  = audit_i.outage_nb\n",
    "n_PNs_dovs = audit_i.n_PNs_dovs\n",
    "ci_dovs    = audit_i.ci_cmi_dovs[0]\n",
    "cmi_dovs   = audit_i.ci_cmi_dovs[1]\n",
    "ci_ami     = best_ests_df['PN'].nunique() \n",
    "cmi_ami    = (best_ests_df['winner_max']-best_ests_df['winner_min']).sum().total_seconds()/60\n",
    "threshold=95\n",
    "#-------------------------\n",
    "outg_SNs = best_ests_df['PN'].unique().tolist()\n",
    "ami_df_i_out      = ami_df_i[ami_df_i['aep_premise_nb'].isin(outg_SNs)]\n",
    "ami_df_i_not_out  = ami_df_i[~ami_df_i['aep_premise_nb'].isin(outg_SNs)]\n",
    "#-------------------------\n",
    "means_df, best_ests_df_w_db_lbl = DOVSAudit.get_mean_times_w_dbscan(\n",
    "    best_ests_df, \n",
    "    eps_min=5, \n",
    "    min_samples=2, \n",
    "    ests_to_include_in_clustering=['winner_min', 'winner_max'],\n",
    "    ests_to_include_in_output=[\n",
    "        'winner_min', 'winner_max', \n",
    "        'conservative_min', 'conservative_max', \n",
    "        'zero_times_min', 'zero_times_max'\n",
    "    ], \n",
    "    return_labelled_best_ests_df=True\n",
    ")\n",
    "#-------------------------\n",
    "n_PNs_w_power_srs = DOVSAudit.build_n_PNs_w_power_srs(\n",
    "    best_ests_df, \n",
    "    ami_df_i, \n",
    "    return_pct=True, \n",
    "    PN_col='PN', \n",
    "    t_min_col='winner_min', \n",
    "    t_max_col='winner_max', \n",
    "    i_outg_col='i_outg', \n",
    "    PN_col_ami_df='aep_premise_nb'\n",
    ")"
   ]
  },
  {
   "cell_type": "code",
   "execution_count": null,
   "id": "887cf80c",
   "metadata": {},
   "outputs": [],
   "source": [
    "fig, axs = plot_all_out_not_NEW(\n",
    "    fig_num              = fig_num, \n",
    "    ami_df_i             = ami_df_i, \n",
    "    ami_df_i_out         = ami_df_i_out, \n",
    "    ami_df_i_not_out     = ami_df_i_not_out, \n",
    "    dovs_outg_t_beg      = dovs_outg_t_beg, \n",
    "    dovs_outg_t_end      = dovs_outg_t_end, \n",
    "    cnsrvtv_out_t_beg    = best_ests_df['conservative_min'].min(), \n",
    "    cnsrvtv_out_t_end    = best_ests_df['conservative_max'].max(), \n",
    "    means_df             = means_df, \n",
    "    outg_rec_nb          = outg_rec_nb, \n",
    "    outage_nb            = outage_nb, \n",
    "    n_PNs_dovs           = n_PNs_dovs, \n",
    "    ci_dovs              = ci_dovs, \n",
    "    cmi_dovs             = cmi_dovs, \n",
    "    ci_ami               = ci_ami, \n",
    "    cmi_ami              = cmi_ami, \n",
    "    name                 = 'AMI', \n",
    "    results_2_dict       = None, \n",
    "    expand_time          = pd.Timedelta('1 hour'), \n",
    "    mean_keys_to_include = ['winner', 'conservative', 'zero_times'], \n",
    "    removed_due_to_overlap_col='removed_due_to_overlap', \n",
    "    default_subplots_args=dict(n_x=2, n_y=2, row_major=True), \n",
    "    leg_i_plot=1, \n",
    "    leg_kwargs=dict(ncols=1, fontsize=15, bbox_to_anchor=(1, 1.2)), \n",
    "    ci_info_fontsize=16, \n",
    "    left_text_x=0.915\n",
    "    \n",
    ")\n",
    "\n",
    "fig,axs[3] = DOVSAudit.plot_n_PNs_w_power_srs(\n",
    "    n_PNs_w_power_srs, \n",
    "    simp_freq='1T', \n",
    "    threshold=threshold, \n",
    "    fig_num=fig_num, \n",
    "    fig_ax=(fig, axs[3]), \n",
    "    threshold_color='magenta'\n",
    ")\n",
    "\n",
    "fig_num += 1"
   ]
  },
  {
   "cell_type": "code",
   "execution_count": null,
   "id": "74adb1c4",
   "metadata": {},
   "outputs": [],
   "source": [
    "expand_time=pd.Timedelta('1 hour')\n",
    "cnsrvtv_out_t_beg    = best_ests_df['conservative_min'].min()\n",
    "cnsrvtv_out_t_end    = best_ests_df['conservative_max'].max()\n",
    "#-------------------------\n",
    "fig, axs = Plot_General.default_subplots(fig_num=fig_num, n_x=1, n_y=2, sharex=True)\n",
    "Plot_General.adjust_subplots_args(fig, dict(hspace=0.30))\n",
    "#-------------------------\n",
    "palette = Plot_General.get_standard_colors_dict(\n",
    "    keys=ami_df_i['serialnumber'].unique().tolist(), \n",
    "    palette='colorblind'\n",
    ")\n",
    "#-------------------------\n",
    "shared_plot_kwargs = dict(\n",
    "    x                          = 'starttimeperiod_local', \n",
    "    y                          = 'value', \n",
    "    hue                        = 'serialnumber', \n",
    "    out_t_beg                  = dovs_outg_t_beg, \n",
    "    out_t_end                  = dovs_outg_t_end, \n",
    "    expand_time                = expand_time, \n",
    "    plot_time_beg_end          = [cnsrvtv_out_t_beg, cnsrvtv_out_t_end], \n",
    "    only_connect_continuous    = False, \n",
    "    data_freq                  = None,     \n",
    "    data_label                 = '', \n",
    "    ax_args                    = None, \n",
    "    xlabel_args                = None, \n",
    "    ylabel_args                = None, \n",
    "    df_mean                    = None, \n",
    "    df_mean_col                = None, \n",
    "    mean_args                  = None, \n",
    "    draw_outage_limits         = True, \n",
    "    draw_outage_limits_kwargs  = dict(alpha=1.0, linewidth=5.0, ymax=0.1), \n",
    "    include_outage_limits_text = dict(\n",
    "        out_t_beg_text  = 'DOVS Beg.', \n",
    "        out_t_beg_ypos  = (0.12, 'ax_coord'), \n",
    "        out_t_beg_va    = 'bottom', \n",
    "        out_t_beg_ha    = 'center', \n",
    "        out_t_beg_color = 'red', \n",
    "        #-----\n",
    "        out_t_end_text  = 'DOVS End', \n",
    "        out_t_end_ypos  = (0.12, 'ax_coord'), \n",
    "        out_t_end_va    = 'bottom', \n",
    "        out_t_end_ha    = 'center', \n",
    "        out_t_end_color = 'green', \n",
    "    ), \n",
    "    draw_without_hue_also      = False, \n",
    "    seg_line_freq              = None, \n",
    "    palette                    = palette\n",
    ")\n",
    "#-----\n",
    "i_subplot=0\n",
    "fig, axs[i_subplot] = AMINonVee.plot_usage_around_outage(\n",
    "    fig=fig, \n",
    "    ax=axs[i_subplot], \n",
    "    data=ami_df_i, \n",
    "    title_args=dict(label=f\"#SNs = {ami_df_i['serialnumber'].nunique()}\", fontdict=dict(fontsize=24)), \n",
    "    **shared_plot_kwargs\n",
    ")\n",
    "#-----\n",
    "add_all_best_ests_to_axis(\n",
    "    axs[i_subplot], \n",
    "    means_df, \n",
    "    line_kwargs_by_est_key=dict(\n",
    "        conservative=dict(alpha=0.25, linewidth=5.0, ymax=0.6), \n",
    "        zero_times=dict(alpha=0.25, linewidth=5.0, ymax=0.4) \n",
    "    ), \n",
    "    keys_to_include=['winner', 'conservative', 'zero_times']\n",
    ")\n",
    "#-----\n",
    "axs[i_subplot].legend().set_visible(False)\n",
    "Plot_General.set_general_plotting_args(\n",
    "    ax=axs[i_subplot], \n",
    "    tick_args =[\n",
    "        dict(axis='x', labelrotation=0, labelsize=14.0, direction='out'), \n",
    "        dict(axis='y', labelrotation=0, labelsize=14.0, direction='out')\n",
    "    ], \n",
    "    xlabel_args=dict(xlabel='15T Interval Start Time', fontsize=16), \n",
    "    ylabel_args=dict(ylabel='Voltage (V)', fontsize=16)\n",
    ")\n",
    "#-------------------------\n",
    "i_subplot=1\n",
    "fig,axs[i_subplot] = DOVSAudit.plot_n_PNs_w_power_srs(\n",
    "    n_PNs_w_power_srs, \n",
    "    simp_freq='1T', \n",
    "    threshold=threshold, \n",
    "    fig_num=fig_num, \n",
    "    fig_ax=(fig, axs[i_subplot]), \n",
    "    threshold_color='magenta'\n",
    ")\n",
    "#-----\n",
    "Plot_General.set_general_plotting_args(\n",
    "    ax=axs[i_subplot], \n",
    "    tick_args =[\n",
    "        dict(axis='x', labelrotation=0, labelsize=14.0, direction='out'), \n",
    "        dict(axis='y', labelrotation=0, labelsize=14.0, direction='out')\n",
    "    ], \n",
    "    xlabel_args=dict(xlabel='15T Interval Start Time', fontsize=16), \n",
    "    ylabel_args=dict(ylabel='%PNs with Power', fontsize=16)\n",
    ")\n",
    "#-------------------------\n",
    "fig_num += 1\n",
    "\n",
    "#-------------------------\n",
    "Plot_General.save_fig(\n",
    "    fig=fig, \n",
    "    save_dir=r'C:\\Users\\s346557\\Documents\\Presentations\\ForPeggy_Nov2023', \n",
    "    save_name='Figs_ab_2.png'\n",
    ")"
   ]
  },
  {
   "cell_type": "code",
   "execution_count": null,
   "id": "1fe91bea",
   "metadata": {},
   "outputs": [],
   "source": [
    "expand_time=pd.Timedelta('1 hour')\n",
    "cnsrvtv_out_t_beg    = best_ests_df['conservative_min'].min()\n",
    "cnsrvtv_out_t_end    = best_ests_df['conservative_max'].max()\n",
    "#-------------------------\n",
    "fig, axs = Plot_General.default_subplots(fig_num=fig_num, n_x=1, n_y=1, sharex=True)\n",
    "axs=[axs]\n",
    "Plot_General.adjust_subplots_args(fig, dict(hspace=0.30))\n",
    "#-------------------------\n",
    "palette = Plot_General.get_standard_colors_dict(\n",
    "    keys=ami_df_i['serialnumber'].unique().tolist(), \n",
    "    palette='colorblind'\n",
    ")\n",
    "#-------------------------\n",
    "shared_plot_kwargs = dict(\n",
    "    x                          = 'starttimeperiod_local', \n",
    "    y                          = 'value', \n",
    "    hue                        = 'serialnumber', \n",
    "    out_t_beg                  = dovs_outg_t_beg, \n",
    "    out_t_end                  = dovs_outg_t_end, \n",
    "    expand_time                = expand_time, \n",
    "    plot_time_beg_end          = [cnsrvtv_out_t_beg, cnsrvtv_out_t_end], \n",
    "    only_connect_continuous    = False, \n",
    "    data_freq                  = None,     \n",
    "    data_label                 = '', \n",
    "    ax_args                    = None, \n",
    "    xlabel_args                = None, \n",
    "    ylabel_args                = None, \n",
    "    df_mean                    = None, \n",
    "    df_mean_col                = None, \n",
    "    mean_args                  = None, \n",
    "    draw_outage_limits         = True, \n",
    "    draw_outage_limits_kwargs  = dict(alpha=1.0, linewidth=5.0, ymax=0.1), \n",
    "    include_outage_limits_text = dict(\n",
    "        out_t_beg_text  = 'DOVS Beg.', \n",
    "        out_t_beg_ypos  = (0.12, 'ax_coord'), \n",
    "        out_t_beg_va    = 'bottom', \n",
    "        out_t_beg_ha    = 'center', \n",
    "        out_t_beg_color = 'red', \n",
    "        #-----\n",
    "        out_t_end_text  = 'DOVS End', \n",
    "        out_t_end_ypos  = (0.12, 'ax_coord'), \n",
    "        out_t_end_va    = 'bottom', \n",
    "        out_t_end_ha    = 'center', \n",
    "        out_t_end_color = 'green', \n",
    "    ), \n",
    "    draw_without_hue_also      = False, \n",
    "    seg_line_freq              = None, \n",
    "    palette                    = palette\n",
    ")\n",
    "#-----\n",
    "i_subplot=0\n",
    "fig, axs[i_subplot] = AMINonVee.plot_usage_around_outage(\n",
    "    fig=fig, \n",
    "    ax=axs[i_subplot], \n",
    "    data=ami_df_i, \n",
    "    title_args=dict(label=f\"#SNs = {ami_df_i['serialnumber'].nunique()}\", fontdict=dict(fontsize=24)), \n",
    "    **shared_plot_kwargs\n",
    ")\n",
    "#-----\n",
    "add_all_best_ests_to_axis(\n",
    "    axs[i_subplot], \n",
    "    means_df, \n",
    "    line_kwargs_by_est_key=dict(\n",
    "        conservative=dict(alpha=0.25, linewidth=5.0, ymax=0.6), \n",
    "        zero_times=dict(alpha=0.25, linewidth=5.0, ymax=0.4) \n",
    "    ), \n",
    "    keys_to_include=['winner', 'conservative', 'zero_times']\n",
    ")\n",
    "#-----\n",
    "axs[i_subplot].legend().set_visible(False)\n",
    "Plot_General.set_general_plotting_args(\n",
    "    ax=axs[i_subplot], \n",
    "    tick_args =[\n",
    "        dict(axis='x', labelrotation=0, labelsize=14.0, direction='out'), \n",
    "        dict(axis='y', labelrotation=0, labelsize=14.0, direction='out')\n",
    "    ], \n",
    "    xlabel_args=dict(xlabel='15T Interval Start Time', fontsize=16), \n",
    "    ylabel_args=dict(ylabel='Voltage (V)', fontsize=16)\n",
    ")\n",
    "#-------------------------\n",
    "fig_num += 1\n",
    "\n",
    "#-------------------------\n",
    "Plot_General.save_fig(\n",
    "    fig=fig, \n",
    "    save_dir=r'C:\\Users\\s346557\\Documents\\Presentations\\ForPeggy_Nov2023', \n",
    "    save_name='Fig_a_2.png'\n",
    ")"
   ]
  },
  {
   "cell_type": "code",
   "execution_count": null,
   "id": "6283a71d",
   "metadata": {},
   "outputs": [],
   "source": [
    "means_df"
   ]
  },
  {
   "cell_type": "code",
   "execution_count": null,
   "id": "f214bd12",
   "metadata": {},
   "outputs": [],
   "source": [
    "dovs_outg_t_beg"
   ]
  },
  {
   "cell_type": "code",
   "execution_count": null,
   "id": "cc0a2179",
   "metadata": {},
   "outputs": [],
   "source": [
    "dovs_outg_t_end"
   ]
  },
  {
   "cell_type": "code",
   "execution_count": null,
   "id": "6b5cf884",
   "metadata": {},
   "outputs": [],
   "source": [
    "pd.to_datetime('2023-09-11 14:08:00')-(pd.Timedelta('13T')+pd.Timedelta('27s'))"
   ]
  },
  {
   "cell_type": "code",
   "execution_count": null,
   "id": "108ebe45",
   "metadata": {},
   "outputs": [],
   "source": []
  },
  {
   "cell_type": "markdown",
   "id": "361f1ed0",
   "metadata": {},
   "source": [
    "# DEV"
   ]
  },
  {
   "cell_type": "code",
   "execution_count": null,
   "id": "0837453b",
   "metadata": {},
   "outputs": [],
   "source": []
  },
  {
   "cell_type": "code",
   "execution_count": 4,
   "id": "5c9f6529",
   "metadata": {},
   "outputs": [],
   "source": [
    "outg_rec_nb = '13294714'"
   ]
  },
  {
   "cell_type": "code",
   "execution_count": 5,
   "id": "8e26c500",
   "metadata": {},
   "outputs": [
    {
     "name": "stderr",
     "output_type": "stream",
     "text": [
      "C:\\Users\\s346557\\Documents\\Analysis\\GenAn.py:637: UserWarning: pandas only supports SQLAlchemy connectable (engine/connection) or database string URI or sqlite3 DBAPI2 connection. Other DBAPI2 objects are not tested. Please consider using SQLAlchemy.\n",
      "  df = pd.read_sql_query(sql, conn_db, **read_sql_args)\n",
      "C:\\Users\\s346557\\Documents\\Analysis\\GenAn.py:637: UserWarning: pandas only supports SQLAlchemy connectable (engine/connection) or database string URI or sqlite3 DBAPI2 connection. Other DBAPI2 objects are not tested. Please consider using SQLAlchemy.\n",
      "  df = pd.read_sql_query(sql, conn_db, **read_sql_args)\n",
      "C:\\Users\\s346557\\Documents\\Analysis\\GenAn.py:637: UserWarning: pandas only supports SQLAlchemy connectable (engine/connection) or database string URI or sqlite3 DBAPI2 connection. Other DBAPI2 objects are not tested. Please consider using SQLAlchemy.\n",
      "  df = pd.read_sql_query(sql, conn_db, **read_sql_args)\n",
      "C:\\Users\\s346557\\Documents\\Analysis\\GenAn.py:637: UserWarning: pandas only supports SQLAlchemy connectable (engine/connection) or database string URI or sqlite3 DBAPI2 connection. Other DBAPI2 objects are not tested. Please consider using SQLAlchemy.\n",
      "  df = pd.read_sql_query(sql, conn_db, **read_sql_args)\n"
     ]
    },
    {
     "name": "stdout",
     "output_type": "stream",
     "text": [
      "n_coll = 2\n",
      "batch_size = 10000\n",
      "n_batches = 1\n"
     ]
    },
    {
     "name": "stderr",
     "output_type": "stream",
     "text": [
      "C:\\Users\\s346557\\Documents\\Analysis\\GenAn.py:637: UserWarning: pandas only supports SQLAlchemy connectable (engine/connection) or database string URI or sqlite3 DBAPI2 connection. Other DBAPI2 objects are not tested. Please consider using SQLAlchemy.\n",
      "  df = pd.read_sql_query(sql, conn_db, **read_sql_args)\n"
     ]
    },
    {
     "name": "stdout",
     "output_type": "stream",
     "text": [
      "n_coll = 2\n",
      "batch_size = 10000\n",
      "n_batches = 1\n"
     ]
    },
    {
     "name": "stderr",
     "output_type": "stream",
     "text": [
      "C:\\Users\\s346557\\Documents\\Analysis\\GenAn.py:637: UserWarning: pandas only supports SQLAlchemy connectable (engine/connection) or database string URI or sqlite3 DBAPI2 connection. Other DBAPI2 objects are not tested. Please consider using SQLAlchemy.\n",
      "  df = pd.read_sql_query(sql, conn_db, **read_sql_args)\n"
     ]
    },
    {
     "name": "stdout",
     "output_type": "stream",
     "text": [
      "n_coll = 2\n",
      "batch_size = 10000\n",
      "n_batches = 1\n"
     ]
    },
    {
     "name": "stderr",
     "output_type": "stream",
     "text": [
      "C:\\Users\\s346557\\Documents\\Analysis\\GenAn.py:637: UserWarning: pandas only supports SQLAlchemy connectable (engine/connection) or database string URI or sqlite3 DBAPI2 connection. Other DBAPI2 objects are not tested. Please consider using SQLAlchemy.\n",
      "  df = pd.read_sql_query(sql, conn_db, **read_sql_args)\n"
     ]
    },
    {
     "name": "stdout",
     "output_type": "stream",
     "text": [
      "n_coll = 2\n",
      "batch_size = 10000\n",
      "n_batches = 1\n"
     ]
    },
    {
     "name": "stderr",
     "output_type": "stream",
     "text": [
      "C:\\Users\\s346557\\Documents\\Analysis\\GenAn.py:637: UserWarning: pandas only supports SQLAlchemy connectable (engine/connection) or database string URI or sqlite3 DBAPI2 connection. Other DBAPI2 objects are not tested. Please consider using SQLAlchemy.\n",
      "  df = pd.read_sql_query(sql, conn_db, **read_sql_args)\n"
     ]
    },
    {
     "name": "stdout",
     "output_type": "stream",
     "text": [
      "n_coll = 2\n",
      "batch_size = 1000\n",
      "n_batches = 1\n"
     ]
    },
    {
     "name": "stderr",
     "output_type": "stream",
     "text": [
      "C:\\Users\\s346557\\Documents\\Analysis\\GenAn.py:637: UserWarning: pandas only supports SQLAlchemy connectable (engine/connection) or database string URI or sqlite3 DBAPI2 connection. Other DBAPI2 objects are not tested. Please consider using SQLAlchemy.\n",
      "  df = pd.read_sql_query(sql, conn_db, **read_sql_args)\n"
     ]
    },
    {
     "name": "stdout",
     "output_type": "stream",
     "text": [
      "n_coll = 2\n",
      "batch_size = 1000\n",
      "n_batches = 1\n"
     ]
    },
    {
     "name": "stderr",
     "output_type": "stream",
     "text": [
      "C:\\Users\\s346557\\Documents\\Analysis\\GenAn.py:637: UserWarning: pandas only supports SQLAlchemy connectable (engine/connection) or database string URI or sqlite3 DBAPI2 connection. Other DBAPI2 objects are not tested. Please consider using SQLAlchemy.\n",
      "  df = pd.read_sql_query(sql, conn_db, **read_sql_args)\n"
     ]
    },
    {
     "name": "stdout",
     "output_type": "stream",
     "text": [
      "n_coll = 2\n",
      "batch_size = 1000\n",
      "n_batches = 1\n"
     ]
    },
    {
     "name": "stderr",
     "output_type": "stream",
     "text": [
      "C:\\Users\\s346557\\Documents\\Analysis\\GenAn.py:637: UserWarning: pandas only supports SQLAlchemy connectable (engine/connection) or database string URI or sqlite3 DBAPI2 connection. Other DBAPI2 objects are not tested. Please consider using SQLAlchemy.\n",
      "  df = pd.read_sql_query(sql, conn_db, **read_sql_args)\n"
     ]
    },
    {
     "name": "stdout",
     "output_type": "stream",
     "text": [
      "n_coll = 2\n",
      "batch_size = 1000\n",
      "n_batches = 1\n"
     ]
    },
    {
     "name": "stderr",
     "output_type": "stream",
     "text": [
      "C:\\Users\\s346557\\Documents\\Analysis\\GenAn.py:637: UserWarning: pandas only supports SQLAlchemy connectable (engine/connection) or database string URI or sqlite3 DBAPI2 connection. Other DBAPI2 objects are not tested. Please consider using SQLAlchemy.\n",
      "  df = pd.read_sql_query(sql, conn_db, **read_sql_args)\n"
     ]
    },
    {
     "name": "stdout",
     "output_type": "stream",
     "text": [
      "\n",
      "\n",
      "WARNING: could not find beginning of first outage!\n",
      "Search window expanded to include minimum time of full df_i\n",
      "SN = 997687387\n",
      "\tOrg = 2023-04-07 21:43:00\n",
      "\tNew = 2023-04-07 09:45:00\n",
      "\n",
      "\n",
      "WARNING: could not find beginning of first outage!\n",
      "Search window expanded to include minimum time of full df_i\n",
      "SN = 997687388\n",
      "\tOrg = 2023-04-07 21:43:00\n",
      "\tNew = 2023-04-07 09:45:00\n",
      "\n",
      "\n",
      "WARNING: could not find beginning of first outage!\n",
      "Search window expanded to include minimum time of full df_i\n",
      "SN = 997687387\n",
      "\tOrg = 2023-04-07 21:43:00\n",
      "\tNew = 2023-04-07 09:45:00\n",
      "\n",
      "\n",
      "WARNING: could not find beginning of first outage!\n",
      "Search window expanded to include minimum time of full df_i\n",
      "SN = 997687388\n",
      "\tOrg = 2023-04-07 21:43:00\n",
      "\tNew = 2023-04-07 09:45:00\n",
      "n_coll = 2\n",
      "batch_size = 1000\n",
      "n_batches = 1\n"
     ]
    },
    {
     "name": "stderr",
     "output_type": "stream",
     "text": [
      "C:\\Users\\s346557\\Documents\\Analysis\\GenAn.py:637: UserWarning: pandas only supports SQLAlchemy connectable (engine/connection) or database string URI or sqlite3 DBAPI2 connection. Other DBAPI2 objects are not tested. Please consider using SQLAlchemy.\n",
      "  df = pd.read_sql_query(sql, conn_db, **read_sql_args)\n"
     ]
    },
    {
     "name": "stdout",
     "output_type": "stream",
     "text": [
      "n_coll = 2\n",
      "batch_size = 1000\n",
      "n_batches = 1\n"
     ]
    },
    {
     "name": "stderr",
     "output_type": "stream",
     "text": [
      "C:\\Users\\s346557\\Documents\\Analysis\\GenAn.py:637: UserWarning: pandas only supports SQLAlchemy connectable (engine/connection) or database string URI or sqlite3 DBAPI2 connection. Other DBAPI2 objects are not tested. Please consider using SQLAlchemy.\n",
      "  df = pd.read_sql_query(sql, conn_db, **read_sql_args)\n"
     ]
    }
   ],
   "source": [
    "search_time_half_window=pd.Timedelta('24 hours')\n",
    "#-------------------------\n",
    "audit_i = DOVSAudit(\n",
    "    outg_rec_nb=outg_rec_nb\n",
    ")\n",
    "#-------------------------\n",
    "audit_i.load_dovs(\n",
    "    dovs_df           = None, \n",
    "    dovs_df_info_dict = None\n",
    ")\n",
    "#-------------------------\n",
    "audit_i.build_mp_df(\n",
    "    drop_mp_dups_fuzziness=pd.Timedelta('1 hour')\n",
    ")\n",
    "#-------------------------\n",
    "audit_i.run_ami_and_ede_daq(\n",
    "    search_time_half_window=search_time_half_window\n",
    ")\n",
    "#-------------------------\n",
    "audit_i.build_best_ests_df()\n",
    "#-------------------------\n",
    "audit_i.identify_overlaps(overlaps_dovs_sql_fcn=DOVSOutages_SQL.build_sql_outage)"
   ]
  },
  {
   "cell_type": "code",
   "execution_count": null,
   "id": "fa31309a",
   "metadata": {},
   "outputs": [],
   "source": []
  },
  {
   "cell_type": "code",
   "execution_count": null,
   "id": "a6821442",
   "metadata": {},
   "outputs": [],
   "source": []
  },
  {
   "cell_type": "code",
   "execution_count": 6,
   "id": "b9643d17",
   "metadata": {},
   "outputs": [],
   "source": [
    "%run ./check_DOVS_METHODS.ipynb\n",
    "fig_num=0"
   ]
  },
  {
   "cell_type": "code",
   "execution_count": 7,
   "id": "73cbacf5",
   "metadata": {},
   "outputs": [],
   "source": [
    "best_ests_df = audit_i.best_ests_df.copy()\n",
    "ami_df_i = audit_i.ami_df_i.copy()\n",
    "#-----\n",
    "dovs_outg_t_beg_end = audit_i.dovs_outg_t_beg_end\n",
    "dovs_outg_t_beg = dovs_outg_t_beg_end[0]\n",
    "dovs_outg_t_end = dovs_outg_t_beg_end[1]\n",
    "#-----\n",
    "outage_nb  = audit_i.outage_nb\n",
    "n_PNs_dovs = audit_i.n_PNs_dovs\n",
    "ci_dovs    = audit_i.ci_cmi_dovs[0]\n",
    "cmi_dovs   = audit_i.ci_cmi_dovs[1]\n",
    "ci_ami     = best_ests_df['PN'].nunique() \n",
    "cmi_ami    = (best_ests_df['winner_max']-best_ests_df['winner_min']).sum().total_seconds()/60\n",
    "threshold=95\n",
    "#-------------------------\n",
    "outg_SNs = best_ests_df['PN'].unique().tolist()\n",
    "ami_df_i_out      = ami_df_i[ami_df_i['aep_premise_nb'].isin(outg_SNs)]\n",
    "ami_df_i_not_out  = ami_df_i[~ami_df_i['aep_premise_nb'].isin(outg_SNs)]\n",
    "#-------------------------\n",
    "means_df, best_ests_df_w_db_lbl = DOVSAudit.get_mean_times_w_dbscan(\n",
    "    best_ests_df, \n",
    "    eps_min=5, \n",
    "    min_samples=2, \n",
    "    ests_to_include_in_clustering=['winner_min', 'winner_max'],\n",
    "    ests_to_include_in_output=[\n",
    "        'winner_min', 'winner_max', \n",
    "        'conservative_min', 'conservative_max', \n",
    "        'zero_times_min', 'zero_times_max'\n",
    "    ], \n",
    "    return_labelled_best_ests_df=True\n",
    ")\n",
    "#-------------------------\n",
    "n_PNs_w_power_srs = DOVSAudit.build_n_PNs_w_power_srs(\n",
    "    best_ests_df, \n",
    "    ami_df_i, \n",
    "    return_pct=True, \n",
    "    PN_col='PN', \n",
    "    t_min_col='winner_min', \n",
    "    t_max_col='winner_max', \n",
    "    i_outg_col='i_outg', \n",
    "    PN_col_ami_df='aep_premise_nb'\n",
    ")"
   ]
  },
  {
   "cell_type": "code",
   "execution_count": 8,
   "id": "7f018e22",
   "metadata": {},
   "outputs": [
    {
     "data": {
      "image/png": "[encoded data removed]",
      "text/plain": [
       "<Figure size 2016x864 with 4 Axes>"
      ]
     },
     "metadata": {
      "needs_background": "light"
     },
     "output_type": "display_data"
    },
    {
     "data": {
      "image/png": "[encoded data removed]",
      "text/plain": [
       "<Figure size 2016x864 with 4 Axes>"
      ]
     },
     "metadata": {
      "needs_background": "light"
     },
     "output_type": "display_data"
    }
   ],
   "source": [
    "fig, axs = plot_all_out_not_NEW(\n",
    "    fig_num              = fig_num, \n",
    "    ami_df_i             = ami_df_i, \n",
    "    ami_df_i_out         = ami_df_i_out, \n",
    "    ami_df_i_not_out     = ami_df_i_not_out, \n",
    "    dovs_outg_t_beg      = dovs_outg_t_beg, \n",
    "    dovs_outg_t_end      = dovs_outg_t_end, \n",
    "    cnsrvtv_out_t_beg    = best_ests_df['conservative_min'].min(), \n",
    "    cnsrvtv_out_t_end    = best_ests_df['conservative_max'].max(), \n",
    "    means_df             = means_df, \n",
    "    outg_rec_nb          = outg_rec_nb, \n",
    "    outage_nb            = outage_nb, \n",
    "    n_PNs_dovs           = n_PNs_dovs, \n",
    "    ci_dovs              = ci_dovs, \n",
    "    cmi_dovs             = cmi_dovs, \n",
    "    ci_ami               = ci_ami, \n",
    "    cmi_ami              = cmi_ami, \n",
    "    name                 = 'AMI', \n",
    "    results_2_dict       = None, \n",
    "    expand_time          = pd.Timedelta('1 hour'), \n",
    "    mean_keys_to_include = ['winner', 'conservative', 'zero_times'], \n",
    "    removed_due_to_overlap_col=None, \n",
    "    default_subplots_args=dict(n_x=2, n_y=2, row_major=True), \n",
    "    leg_i_plot=1, \n",
    "    leg_kwargs=dict(ncols=1, fontsize=15, bbox_to_anchor=(1, 1.2)), \n",
    "    ci_info_fontsize=16, \n",
    "    left_text_x=0.915\n",
    "    \n",
    ")\n",
    "\n",
    "fig,axs[3] = DOVSAudit.plot_n_PNs_w_power_srs(\n",
    "    n_PNs_w_power_srs, \n",
    "    simp_freq='1T', \n",
    "    threshold=threshold, \n",
    "    fig_num=fig_num, \n",
    "    fig_ax=(fig, axs[3]), \n",
    "    threshold_color='magenta'\n",
    ")\n",
    "\n",
    "fig_num += 1"
   ]
  },
  {
   "cell_type": "code",
   "execution_count": null,
   "id": "0791fc04",
   "metadata": {},
   "outputs": [],
   "source": []
  },
  {
   "cell_type": "code",
   "execution_count": null,
   "id": "faca9d62",
   "metadata": {},
   "outputs": [],
   "source": []
  },
  {
   "cell_type": "code",
   "execution_count": null,
   "id": "55c5ae94",
   "metadata": {},
   "outputs": [],
   "source": []
  },
  {
   "cell_type": "code",
   "execution_count": null,
   "id": "cd03447d",
   "metadata": {},
   "outputs": [],
   "source": []
  },
  {
   "cell_type": "code",
   "execution_count": null,
   "id": "78a8b247",
   "metadata": {},
   "outputs": [],
   "source": [
    "df = pd.read_pickle(r'C:\\Users\\s346557\\Documents\\LocalData\\dovs_and_end_events_data\\20231201\\20230401_20230930\\Outgs_Full\\df_outage.pkl')"
   ]
  },
  {
   "cell_type": "code",
   "execution_count": null,
   "id": "e87f7c76",
   "metadata": {},
   "outputs": [],
   "source": [
    "df"
   ]
  },
  {
   "cell_type": "code",
   "execution_count": null,
   "id": "0c5c1baa",
   "metadata": {},
   "outputs": [],
   "source": [
    "            mp_curr = MeterPremise(\n",
    "                df_construct_type=DFConstructType.kRunSqlQuery, \n",
    "                init_df_in_constructor=True, \n",
    "                build_sql_function=MeterPremise.build_sql_meter_premise, \n",
    "                build_sql_function_kwargs=dict(\n",
    "                    cols_of_interest=cols_of_interest_curr, \n",
    "                    premise_nbs=PNs, \n",
    "                    table_name='meter_premise'\n",
    "                )\n",
    "            )\n",
    "            mp_df_curr = mp_curr.df"
   ]
  },
  {
   "cell_type": "code",
   "execution_count": null,
   "id": "8f9d5f11",
   "metadata": {},
   "outputs": [],
   "source": []
  }
 ],
 "metadata": {
  "kernelspec": {
   "display_name": "Python 3 (ipykernel)",
   "language": "python",
   "name": "python3"
  },
  "language_info": {
   "codemirror_mode": {
    "name": "ipython",
    "version": 3
   },
   "file_extension": ".py",
   "mimetype": "text/x-python",
   "name": "python",
   "nbconvert_exporter": "python",
   "pygments_lexer": "ipython3",
   "version": "3.9.7"
  }
 },
 "nbformat": 4,
 "nbformat_minor": 5
}
