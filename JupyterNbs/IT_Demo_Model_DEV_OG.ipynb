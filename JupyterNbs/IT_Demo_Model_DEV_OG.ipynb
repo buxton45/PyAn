{
 "cells": [
  {
   "cell_type": "markdown",
   "id": "68627217",
   "metadata": {},
   "source": [
    "# SEE 'Directions for running' below!"
   ]
  },
  {
   "cell_type": "code",
   "execution_count": null,
   "id": "051005d0",
   "metadata": {},
   "outputs": [],
   "source": [
    "%run ./model_end_events_for_outages_METHODS.ipynb"
   ]
  },
  {
   "cell_type": "code",
   "execution_count": null,
   "id": "e9764e04",
   "metadata": {},
   "outputs": [],
   "source": [
    "from importlib import reload\n",
    "#reload(Utilities)\n",
    "#reload(clm)\n",
    "# NOTE: To reload a class imported as, e.g., \n",
    "# from module import class\n",
    "# One must call:\n",
    "#   1. import module\n",
    "#   2. reload module\n",
    "#   3. from module import class\n",
    "\n",
    "import sys, os\n",
    "import re\n",
    "from pathlib import Path\n",
    "import json\n",
    "import pickle\n",
    "\n",
    "import pandas as pd\n",
    "import numpy as np\n",
    "from pandas.api.types import is_numeric_dtype, is_datetime64_dtype, is_timedelta64_dtype\n",
    "from scipy import stats\n",
    "import datetime\n",
    "import time\n",
    "from natsort import natsorted, ns, natsort_keygen\n",
    "from packaging import version\n",
    "import copy\n",
    "\n",
    "import itertools\n",
    "\n",
    "import pyodbc\n",
    "#---------------------------------------------------------------------\n",
    "import matplotlib as mpl\n",
    "import matplotlib.pyplot as plt\n",
    "import seaborn as sns\n",
    "from matplotlib.backends.backend_pdf import PdfPages\n",
    "import matplotlib.patches as mpatches\n",
    "from matplotlib.lines import Line2D\n",
    "import matplotlib.ticker as ticker\n",
    "from matplotlib import dates\n",
    "import matplotlib.colors as mcolors\n",
    "import matplotlib.cm as cm #e.g. for cmap=cm.jet\n",
    "#---------------------------------------------------------------------\n",
    "sys.path.insert(0, os.path.realpath('..'))\n",
    "import Utilities_config\n",
    "#-----\n",
    "import CommonLearningMethods as clm\n",
    "#-----\n",
    "from MeterPremise import MeterPremise\n",
    "from EEMSP import EEMSP\n",
    "#-----\n",
    "from AMI_SQL import AMI_SQL\n",
    "from AMINonVee_SQL import AMINonVee_SQL\n",
    "from AMIEndEvents_SQL import AMIEndEvents_SQL\n",
    "from AMIUsgInst_SQL import AMIUsgInst_SQL\n",
    "from DOVSOutages_SQL import DOVSOutages_SQL\n",
    "#-----\n",
    "from GenAn import GenAn\n",
    "from AMINonVee import AMINonVee\n",
    "from AMIEndEvents import AMIEndEvents\n",
    "from AMIEDE_DEV import AMIEDE_DEV\n",
    "from MECPODf import MECPODf\n",
    "from MECPOAn import MECPOAn\n",
    "from AMIUsgInst import AMIUsgInst\n",
    "from DOVSOutages import DOVSOutages\n",
    "#---------------------------------------------------------------------\n",
    "sys.path.insert(0, Utilities_config.get_sql_aids_dir())\n",
    "import Utilities_sql\n",
    "import TableInfos\n",
    "from TableInfos import TableInfo\n",
    "from SQLElement import SQLElement\n",
    "from SQLElementsCollection import SQLElementsCollection\n",
    "from SQLSelect import SQLSelectElement, SQLSelect\n",
    "from SQLFrom import SQLFrom\n",
    "from SQLWhere import SQLWhereElement, SQLWhere\n",
    "from SQLJoin import SQLJoin, SQLJoinCollection\n",
    "from SQLGroupBy import SQLGroupByElement, SQLGroupBy\n",
    "from SQLHaving import SQLHaving\n",
    "from SQLOrderBy import SQLOrderByElement, SQLOrderBy\n",
    "from SQLQuery import SQLQuery\n",
    "from SQLQueryGeneric import SQLQueryGeneric\n",
    "#---------------------------------------------------------------------\n",
    "#sys.path.insert(0, os.path.join(os.path.realpath('..'), 'Utilities'))\n",
    "sys.path.insert(0, Utilities_config.get_utilities_dir())\n",
    "import Utilities\n",
    "import Utilities_df\n",
    "from Utilities_df import DFConstructType\n",
    "import Utilities_dt\n",
    "import Plot_General\n",
    "import Plot_Box_sns\n",
    "import Plot_Hist\n",
    "import Plot_Bar\n",
    "import GrubbsTest\n",
    "import DataFrameSubsetSlicer\n",
    "from DataFrameSubsetSlicer import DataFrameSubsetSlicer as DFSlicer"
   ]
  },
  {
   "cell_type": "code",
   "execution_count": null,
   "id": "1132b712",
   "metadata": {},
   "outputs": [],
   "source": []
  },
  {
   "cell_type": "markdown",
   "id": "b1318039",
   "metadata": {},
   "source": [
    "# Directions for running:\n",
    "\n",
    "For the purposes of this demonstration, let's assume your AEP User ID is s123456, and your local Documents directory\n",
    "is located at C:\\Users\\s123456\\Documents\n",
    "\n",
    "1. If not already done, clone the Analysis GitHub repo (https://github.aepsc.com/s346557/Analysis).\n",
    "<br>- I will assume the repo was cloned into the Documents directory, i.e. I assume your local copy of the repo is located at C:\\Users\\s123456\\Documents\\Analysis (and therefore, this Jupyter notebook should be located at C:\\Users\\s123456\\Documents\\Analysis\\JupyterNbs\\IT_Demo.ipynb)\n",
    "<br><br>\n",
    "\n",
    "2. Create a simple text file containing your AEP passwords.\n",
    "- I suggest you use the file pwd_file_template.txt in the Analysis directory (C:\\Users\\s123456\\Documents\\Analysis\\pwd_file_template.txt) to create your own password file.\n",
    "    - DO NOT ALTER the pwd_file_template.txt file, create a new pwd_file.txt file!\n",
    "- I further suggest you name your password file pwd_file.txt and place it in the Analysis directory (C:\\Users\\s123456\\Documents\\Analysis\\pwd_file.txt).\n",
    "    - The Git repo is set up to ignore pwd_file.txt in the Analysis directory, so your information will not be pushed up to the repo if saved in this manner.\n",
    "- NOTE: At one point, my Athena and Oracle passwords were different, which is why there is a 'Main' and 'Oracle' entry in the password file.  Likely you will put the same password for both entries.\n",
    "<br><br>\n",
    "\n",
    "3. IF NOT ALREADY DONE, run the method Utilities_config.generate_initial_config_file to initiate your config.yaml file\n",
    "- I suggest you input arguments for all three parameters (aep_user_id, pwd_file_path, and local_data_dir)\n",
    "    - If no aep_user_id is given, the code will attempt to determine your AEP User ID from the contents of your C:\\Users directory\n",
    "    - If no pwd_file_path is given, it is assumed to exist, be named pwd_file.txt, and be located in the Analysis directory (C:\\Users\\s123456\\Documents\\Analysis\\pwd_file.txt)\n",
    "    - If local_data_dir is not None, it should point to a directory when you plan to store any results (my personal local_data_dir is located at C:\\Users\\s346557\\Documents\\LocalData\\).\n",
    "        - If you are not planning to save or load any files locally, I believe this can be kept as None"
   ]
  },
  {
   "cell_type": "code",
   "execution_count": null,
   "id": "e45fd339",
   "metadata": {},
   "outputs": [],
   "source": []
  },
  {
   "cell_type": "markdown",
   "id": "867f5cb9",
   "metadata": {},
   "source": [
    "# ----------------------------------------------------------------------------------------------------\n",
    "# !!!!!!!!!!!!!!!!!!!!!!!!!!!!!!!!!!!!!!!!!!!!!!!!!!!!!!!!!!!!!!!!!!!!!!!!!!!!!!!!!!!!!!!!!!!!!!!!!!!!\n",
    "# ONLY NEED TO RUN ONCE!\n",
    "So, if you have already run Utilities_config.generate_initial_config_file (and your configuration has not changed since), there is no need to run again"
   ]
  },
  {
   "cell_type": "code",
   "execution_count": null,
   "id": "f97af9bb",
   "metadata": {},
   "outputs": [],
   "source": [
    "run_config=False"
   ]
  },
  {
   "cell_type": "code",
   "execution_count": null,
   "id": "219dc9fd",
   "metadata": {},
   "outputs": [],
   "source": [
    "if run_config:\n",
    "    # REPLACE VALUES BELOW WITH YOUR OWN\n",
    "    aep_user_id = 's123456'\n",
    "    pwd_file_path = r'C:\\Users\\s3123456\\Documents\\Analysis\\pwd_file.txt'\n",
    "    local_data_dir = r'C:\\Users\\s123456\\Documents\\LocalData'\n",
    "\n",
    "    Utilities_config.generate_initial_config_file(\n",
    "        aep_user_id=aep_user_id, \n",
    "        pwd_file_path=pwd_file_path, \n",
    "        local_data_dir=local_data_dir\n",
    "    )"
   ]
  },
  {
   "cell_type": "markdown",
   "id": "0da44278",
   "metadata": {},
   "source": [
    "# !!!!!!!!!!!!!!!!!!!!!!!!!!!!!!!!!!!!!!!!!!!!!!!!!!!!!!!!!!!!!!!!!!!!!!!!!!!!!!!!!!!!!!!!!!!!!!!!!!!!\n",
    "# ----------------------------------------------------------------------------------------------------"
   ]
  },
  {
   "cell_type": "code",
   "execution_count": null,
   "id": "d400cfdc",
   "metadata": {},
   "outputs": [],
   "source": []
  },
  {
   "cell_type": "code",
   "execution_count": null,
   "id": "6dd54006",
   "metadata": {},
   "outputs": [],
   "source": [
    "# Randomly grabbed trsf_pole_nbs to use for our purposes\n",
    "trsf_pole_nbs = [\n",
    "    '1881678764270',\n",
    "    '1783411710022',\n",
    "    '41830153D30129',\n",
    "    '1872247711298',\n",
    "    '1820228711653',\n",
    "    '1924989734074',\n",
    "    '1834492774877',\n",
    "    '1853148757927',\n",
    "    '1840493692059',\n",
    "    '41810769C10088',\n",
    "    '1882624786848',\n",
    "    '1867392684831',\n",
    "    '1951078726448',\n",
    "    '40820458D10181',\n",
    "    '41840501D30023',\n",
    "    '41810982D20079',\n",
    "    '1899769749646',\n",
    "    '41830806B20022',\n",
    "    '40820458A40051',\n",
    "    '1894765679964',\n",
    "    '1914519715083',\n",
    "    '2295283520733',\n",
    "    '1865162714841',\n",
    "    '1819362730022',\n",
    "    '39830853B40009',\n",
    "    '1842568672564',\n",
    "    '41840982B20038',\n",
    "    '1827991743027',\n",
    "    '1864172691901',\n",
    "    '1839189769213',\n",
    "    '1872465763559',\n",
    "    '1878400683201',\n",
    "    '41810796A20156',\n",
    "    '1905880759206',\n",
    "    '1839712741136',\n",
    "    '41810748B40188',\n",
    "    '41810958D40169',\n",
    "    '1829134693468',\n",
    "    '40820506D10218',\n",
    "    '1887542761309',\n",
    "    '1871334715206',\n",
    "    '1904835767206',\n",
    "    '1902838697810',\n",
    "    '40820507A10072',\n",
    "    '41810819C40139',\n",
    "    '1865431765527',\n",
    "    '1891170737034',\n",
    "    '40820707C20002',\n",
    "    '1836231721573',\n",
    "    '1912124700405',\n",
    "    '1842330805220',\n",
    "    '1866130766088',\n",
    "    '40820588D30084',\n",
    "    '41840898A10069',\n",
    "    '1871696719469',\n",
    "    '41810794A40161',\n",
    "    '41811008A20198',\n",
    "    '1875598765170',\n",
    "    '1861922686377',\n",
    "    '1948667782803',\n",
    "    '40820506D40238',\n",
    "    '41840898C20057',\n",
    "    '1833284756491',\n",
    "    '39830855D10027',\n",
    "    '40820507B20057',\n",
    "    '1856743480538',\n",
    "    '1914662698440',\n",
    "    '1832714711800',\n",
    "    '40820660D10199',\n",
    "    '40820507C10103',\n",
    "    '41830440D40074',\n",
    "    '41810796A40071',\n",
    "    '1859120778206',\n",
    "    '1866200767783',\n",
    "    '41830750A30052',\n",
    "    '1919909700535',\n",
    "    '1868442737650',\n",
    "    '1879608712393',\n",
    "    '40820507A40022',\n",
    "    '1823173736584',\n",
    "    '1885575704441',\n",
    "    '1853216748770',\n",
    "    '40810165C10068',\n",
    "    '1829736736745',\n",
    "    '41840874B30085',\n",
    "    '1867971718645',\n",
    "    '40820482B20025',\n",
    "    '41810748D20072',\n",
    "    '1877687713638',\n",
    "    '1835644777440',\n",
    "    '1870217709319',\n",
    "    '41840874B30044',\n",
    "    '40810190A10166',\n",
    "    '1796307716407',\n",
    "    '1875834764859',\n",
    "    '40810002A10009',\n",
    "    '1881341721010',\n",
    "    '40820506D10055',\n",
    "    '1898393738979',\n",
    "    '40820507C30093'\n",
    "]"
   ]
  },
  {
   "cell_type": "code",
   "execution_count": null,
   "id": "1dfd25ac",
   "metadata": {},
   "outputs": [],
   "source": [
    "prediction_date = pd.to_datetime('2023-05-01')\n",
    "date_range = [\n",
    "    prediction_date-pd.Timedelta('31D'), \n",
    "    prediction_date-pd.Timedelta('1D')\n",
    "]"
   ]
  },
  {
   "cell_type": "code",
   "execution_count": null,
   "id": "36e2d175",
   "metadata": {},
   "outputs": [],
   "source": []
  },
  {
   "cell_type": "markdown",
   "id": "7a976730",
   "metadata": {},
   "source": [
    "# For this example...\n",
    "Since we are grabbing data for specific transformers, and since "
   ]
  },
  {
   "cell_type": "code",
   "execution_count": null,
   "id": "167ad91b",
   "metadata": {
    "scrolled": true
   },
   "outputs": [],
   "source": [
    "mp = MeterPremise(\n",
    "    df_construct_type=DFConstructType.kRunSqlQuery, \n",
    "    contstruct_df_args=None, \n",
    "    init_df_in_constructor=True, \n",
    "    build_sql_function=None, \n",
    "    build_sql_function_kwargs=dict(\n",
    "        trsf_pole_nbs=trsf_pole_nbs, \n",
    "        field_to_split='trsf_pole_nbs'\n",
    "    ), \n",
    "    save_args=False\n",
    ")\n",
    "mp_df = mp.df.copy()"
   ]
  },
  {
   "cell_type": "code",
   "execution_count": null,
   "id": "8ded881f",
   "metadata": {},
   "outputs": [],
   "source": []
  },
  {
   "cell_type": "markdown",
   "id": "bba8884c",
   "metadata": {},
   "source": [
    "# NOTE:\n",
    "This is a somewhat simple-minded example, as I am naively joining the meter_events.end_device_event table with default.meter_premise table.\n",
    "<br>As we have discussed, to correctly join with meter_premise, one must determine which meters were active AT THE TIME IN QUESTION (i.e., on 2022-10-01), not those simply in default.meter_premise.\n",
    "<br>Thus, to be completely correct, one should use methods contained in the MeterPremise class.\n",
    "<br>However, for the purposes here, this simple-minded join is acceptable."
   ]
  },
  {
   "cell_type": "code",
   "execution_count": null,
   "id": "dc25dde3",
   "metadata": {},
   "outputs": [],
   "source": [
    "# Build AMIEndEvents object housing data from the meter_events.end_device_event table.\n",
    "# Events are collected from those meters having aep_opco='oh' on the date '2022-10-01'\n",
    "ami_ede = AMIEndEvents(\n",
    "    df_construct_type=DFConstructType.kRunSqlQuery, \n",
    "    contstruct_df_args=None, \n",
    "    init_df_in_constructor=True, \n",
    "    build_sql_function=None, \n",
    "    build_sql_function_kwargs=dict(\n",
    "        opco='oh', \n",
    "        date_range=date_range, \n",
    "        premise_nbs=mp_df['prem_nb'].unique().tolist(), \n",
    "        field_to_split='premise_nbs', \n",
    "        join_mp_args=dict(\n",
    "            join_with_CTE=True, \n",
    "            build_mp_kwargs=dict(cols_of_interest=TableInfos.MeterPremise_TI.std_columns_of_interest), \n",
    "            join_type='LEFT', \n",
    "            list_of_columns_to_join=[\n",
    "                ['serialnumber', 'mfr_devc_ser_nbr'], \n",
    "                ['aep_premise_nb', 'prem_nb']\n",
    "            ]\n",
    "        )\n",
    "    ), \n",
    "    save_args=False\n",
    ")"
   ]
  },
  {
   "cell_type": "code",
   "execution_count": null,
   "id": "2ac418e1",
   "metadata": {},
   "outputs": [],
   "source": [
    "# The SQL statement run by the above block is printed below\n",
    "print(ami_ede.get_sql_statement())"
   ]
  },
  {
   "cell_type": "code",
   "execution_count": null,
   "id": "79aab249",
   "metadata": {},
   "outputs": [],
   "source": [
    "# Grab the pandas.DataFrame (DF) object from ami_ede\n",
    "end_events_df = ami_ede.df.copy()\n",
    "# Also, grab the full list of reasons found\n",
    "reasons_full = sorted(end_events_df['reason'].unique().tolist())"
   ]
  },
  {
   "cell_type": "code",
   "execution_count": null,
   "id": "b2951625",
   "metadata": {},
   "outputs": [],
   "source": [
    "# Print some basic info about the DF\n",
    "print(f'end_events_df.shape = {end_events_df.shape}')\n",
    "print(f\"Number of unique reasons = {end_events_df['reason'].nunique()}\")\n",
    "end_events_df.head()"
   ]
  },
  {
   "cell_type": "markdown",
   "id": "5f4fe8f8",
   "metadata": {},
   "source": [
    "# -------------------------"
   ]
  },
  {
   "cell_type": "code",
   "execution_count": null,
   "id": "cbfed835",
   "metadata": {},
   "outputs": [],
   "source": [
    "# Below, when running reduce_end_event_reasons_in_df, the default behavior (placement_col=None) is to simply replace\n",
    "#   the entries in the 'reason' column by their reduced versions.\n",
    "# For purposes here, I will keep both the full reason column (renamed to 'reason_full') and the reduced reason column (named 'reason')\n",
    "\n",
    "print(f'end_events_df.shape[0]                          = {end_events_df.shape[0]}')\n",
    "print(f\"end_events_df['serialnumber'].nunique()         = {end_events_df['serialnumber'].nunique()}\")\n",
    "print(f\"end_events_df['enddeviceeventtypeid'].nunique() = {end_events_df['enddeviceeventtypeid'].nunique()}\")\n",
    "print('\\n\\n')\n",
    "\n",
    "end_events_df = end_events_df.rename(columns={'reason':'reason_full'})\n",
    "end_events_df = AMIEndEvents.reduce_end_event_reasons_in_df(\n",
    "    df=end_events_df, \n",
    "    reason_col='reason_full', \n",
    "    placement_col='reason'\n",
    ")\n",
    "\n",
    "print('BEFORE REASON REDUCTION')\n",
    "print(f\"end_events_df['reason'].nunique()               = {end_events_df['reason_full'].nunique()}\")\n",
    "print('AFTER REASON REDUCTION')\n",
    "print(f\"end_events_df['reason'].nunique()               = {end_events_df['reason'].nunique()}\")"
   ]
  },
  {
   "cell_type": "code",
   "execution_count": null,
   "id": "eea59eee",
   "metadata": {},
   "outputs": [],
   "source": []
  },
  {
   "cell_type": "markdown",
   "id": "c4fcaac8",
   "metadata": {},
   "source": [
    "### Build the reason_counts_per_group DF grouped by serial number, and including the number of serial numbers connected to the transformer\n",
    "### This is a closer mock-up (although still not exactly what we want) of what we're ultimately looking for from IT"
   ]
  },
  {
   "cell_type": "code",
   "execution_count": null,
   "id": "285b1cd1",
   "metadata": {},
   "outputs": [],
   "source": [
    "start=time.time()\n",
    "rcpo_final_xfmr_v0 = AMIEndEvents.get_reason_counts_per_group(\n",
    "    end_events_df = end_events_df, \n",
    "    group_cols=['trsf_pole_nb'], \n",
    "    group_freq=None, \n",
    "    gpby_dropna=False, \n",
    "    serial_number_col='serialnumber', \n",
    "    reason_col='reason', \n",
    "    include_normalize_by_nSNs=False, \n",
    "    inclue_zero_counts=True,\n",
    "    possible_reasons=None, \n",
    "    include_nSNs=True, \n",
    "    include_SNs=False, \n",
    "    prem_nb_col='aep_premise_nb', \n",
    "    include_nprem_nbs=True,\n",
    "    include_prem_nbs=False,   \n",
    "    return_form = dict(return_multiindex_outg_reason = False, \n",
    "                       return_normalized_separately  = False)\n",
    ")\n",
    "print(time.time()-start)\n",
    "#-------------------------\n",
    "rcpo_final_xfmr_v0=rcpo_final_xfmr_v0.loc[~rcpo_final_xfmr_v0.index.isin(['NETWORK', 'PRIMARY', 'TRANSMISSION'])]\n",
    "rcpo_final_xfmr_v0=rcpo_final_xfmr_v0.loc[rcpo_final_xfmr_v0.index.notna()]\n",
    "#-------------------------\n",
    "n_SNs_per_xfmr = mp_df.groupby('trsf_pole_nb')['mfr_devc_ser_nbr'].apply(lambda x: len(set(x)))\n",
    "n_SNs_per_xfmr.name = 'n_SNs_on_xfmr'\n",
    "#-------------------------\n",
    "n_PNs_per_xfmr = mp_df.groupby('trsf_pole_nb')['prem_nb'].apply(lambda x: len(set(x)))\n",
    "n_PNs_per_xfmr.name = 'n_PNs_on_xfmr'\n",
    "#-------------------------\n",
    "rcpo_final_xfmr_v0 = pd.merge(\n",
    "    rcpo_final_xfmr_v0, \n",
    "    n_SNs_per_xfmr, \n",
    "    left_on='trsf_pole_nb', \n",
    "    right_index=True, \n",
    "    how='left'\n",
    ")\n",
    "#-------------------------\n",
    "rcpo_final_xfmr_v0 = pd.merge(\n",
    "    rcpo_final_xfmr_v0, \n",
    "    n_PNs_per_xfmr, \n",
    "    left_on='trsf_pole_nb', \n",
    "    right_index=True, \n",
    "    how='left'\n",
    ")\n",
    "#-------------------------\n",
    "rcpo_final_xfmr_v0.loc[rcpo_final_xfmr_v0['n_SNs_on_xfmr'].notna(), 'n_SNs_on_xfmr'] = rcpo_final_xfmr_v0[rcpo_final_xfmr_v0['n_SNs_on_xfmr'].notna()]['n_SNs_on_xfmr'].astype(int)\n",
    "rcpo_final_xfmr_v0.loc[rcpo_final_xfmr_v0['n_PNs_on_xfmr'].notna(), 'n_PNs_on_xfmr'] = rcpo_final_xfmr_v0[rcpo_final_xfmr_v0['n_PNs_on_xfmr'].notna()]['n_PNs_on_xfmr'].astype(int)\n",
    "#-----\n",
    "rcpo_final_xfmr_v0=Utilities_df.move_cols_to_front(rcpo_final_xfmr_v0, ['_nSNs', '_nprem_nbs', 'n_SNs_on_xfmr', 'n_PNs_on_xfmr'])\n",
    "rcpo_final_xfmr_v0['n_events_tot'] = rcpo_final_xfmr_v0.iloc[:, 4:].sum(axis=1)\n",
    "#-----\n",
    "rcpo_final_xfmr_v0=Utilities_df.move_cols_to_front(rcpo_final_xfmr_v0, ['_nSNs', '_nprem_nbs', 'n_SNs_on_xfmr', 'n_PNs_on_xfmr', 'n_events_tot'])\n",
    "#-------------------------\n",
    "rcpo_final_xfmr_v0=rcpo_final_xfmr_v0.rename(columns={\n",
    "    '_nSNs':        'n_SNs*', \n",
    "    '_nprem_nbs':   'n_PNs*', \n",
    "    'n_SNs_on_xfmr':'n_SNs', \n",
    "    'n_PNs_on_xfmr':'n_PNs'\n",
    "})"
   ]
  },
  {
   "cell_type": "code",
   "execution_count": null,
   "id": "baba6214",
   "metadata": {},
   "outputs": [],
   "source": [
    "start=time.time()\n",
    "rcpo_final_xfmr = AMIEndEvents.get_reason_counts_per_group_QUICK(\n",
    "    end_events_df=end_events_df, \n",
    "    group_cols=['trsf_pole_nb'], \n",
    "    group_freq=None, \n",
    "    gpby_dropna=False, \n",
    "    reason_col='reason'\n",
    ")\n",
    "print(time.time()-start)\n",
    "#-------------------------\n",
    "rcpo_final_xfmr=rcpo_final_xfmr.loc[~rcpo_final_xfmr.index.isin(['NETWORK', 'PRIMARY', 'TRANSMISSION'])]\n",
    "rcpo_final_xfmr=rcpo_final_xfmr.loc[rcpo_final_xfmr.index.notna()]\n",
    "#-------------------------\n",
    "n_SNs_per_xfmr = mp_df.groupby('trsf_pole_nb')['mfr_devc_ser_nbr'].apply(lambda x: len(set(x)))\n",
    "n_SNs_per_xfmr.name = 'n_SNs_on_xfmr'\n",
    "#-------------------------\n",
    "n_PNs_per_xfmr = mp_df.groupby('trsf_pole_nb')['prem_nb'].apply(lambda x: len(set(x)))\n",
    "n_PNs_per_xfmr.name = 'n_PNs_on_xfmr'\n",
    "#-------------------------\n",
    "rcpo_final_xfmr = pd.merge(\n",
    "    rcpo_final_xfmr, \n",
    "    n_SNs_per_xfmr, \n",
    "    left_on='trsf_pole_nb', \n",
    "    right_index=True, \n",
    "    how='left'\n",
    ")\n",
    "#-------------------------\n",
    "rcpo_final_xfmr = pd.merge(\n",
    "    rcpo_final_xfmr, \n",
    "    n_PNs_per_xfmr, \n",
    "    left_on='trsf_pole_nb', \n",
    "    right_index=True, \n",
    "    how='left'\n",
    ")\n",
    "#-------------------------\n",
    "rcpo_final_xfmr.loc[rcpo_final_xfmr['n_SNs_on_xfmr'].notna(), 'n_SNs_on_xfmr'] = rcpo_final_xfmr[rcpo_final_xfmr['n_SNs_on_xfmr'].notna()]['n_SNs_on_xfmr'].astype(int)\n",
    "rcpo_final_xfmr.loc[rcpo_final_xfmr['n_PNs_on_xfmr'].notna(), 'n_PNs_on_xfmr'] = rcpo_final_xfmr[rcpo_final_xfmr['n_PNs_on_xfmr'].notna()]['n_PNs_on_xfmr'].astype(int)\n",
    "#-----\n",
    "rcpo_final_xfmr=Utilities_df.move_cols_to_front(rcpo_final_xfmr, ['n_SNs_on_xfmr', 'n_PNs_on_xfmr'])\n",
    "rcpo_final_xfmr['n_events_tot'] = rcpo_final_xfmr.iloc[:, 2:].sum(axis=1)\n",
    "#-----\n",
    "rcpo_final_xfmr=Utilities_df.move_cols_to_front(rcpo_final_xfmr, ['n_SNs_on_xfmr', 'n_PNs_on_xfmr', 'n_events_tot'])\n",
    "#-------------------------\n",
    "rcpo_final_xfmr=rcpo_final_xfmr.rename(columns={\n",
    "    'n_SNs_on_xfmr':'n_SNs', \n",
    "    'n_PNs_on_xfmr':'n_PNs'\n",
    "})"
   ]
  },
  {
   "cell_type": "code",
   "execution_count": null,
   "id": "fb93bdd2",
   "metadata": {},
   "outputs": [],
   "source": [
    "rcpo_final_xfmr_v0[rcpo_final_xfmr.columns].equals(rcpo_final_xfmr)"
   ]
  },
  {
   "cell_type": "code",
   "execution_count": null,
   "id": "f8a27f45",
   "metadata": {},
   "outputs": [],
   "source": []
  },
  {
   "cell_type": "code",
   "execution_count": null,
   "id": "9bb0b8ed",
   "metadata": {},
   "outputs": [],
   "source": []
  },
  {
   "cell_type": "code",
   "execution_count": null,
   "id": "b0523e9a",
   "metadata": {},
   "outputs": [],
   "source": []
  },
  {
   "cell_type": "code",
   "execution_count": null,
   "id": "d52dd49f",
   "metadata": {},
   "outputs": [],
   "source": [
    "conn_aws = Utilities.get_athena_qa_aws_connection()"
   ]
  },
  {
   "cell_type": "code",
   "execution_count": null,
   "id": "e662bfc3",
   "metadata": {},
   "outputs": [],
   "source": [
    "end_events_sql_function_kwargs=dict(\n",
    "    schema_name='meter_events', \n",
    "    table_name='events_summary_vw', \n",
    "    cols_of_interest=['*'], \n",
    "    date_range=date_range, \n",
    "    trsf_pole_nbs=trsf_pole_nbs, \n",
    "    opco='oh'\n",
    ")\n",
    "#-----\n",
    "end_events = AMIEndEvents(\n",
    "    df_construct_type=DFConstructType.kRunSqlQuery, \n",
    "    contstruct_df_args = dict(conn_db=conn_aws), \n",
    "    build_sql_function=AMIEndEvents_SQL.build_sql_end_events, \n",
    "    build_sql_function_kwargs=end_events_sql_function_kwargs, \n",
    "    init_df_in_constructor=True, \n",
    "    save_args=False\n",
    ")"
   ]
  },
  {
   "cell_type": "code",
   "execution_count": null,
   "id": "e245002f",
   "metadata": {},
   "outputs": [],
   "source": [
    "end_events.df"
   ]
  },
  {
   "cell_type": "code",
   "execution_count": null,
   "id": "a8f5e7cb",
   "metadata": {},
   "outputs": [],
   "source": [
    "dev_df = end_events.df.copy()"
   ]
  },
  {
   "cell_type": "code",
   "execution_count": null,
   "id": "1d802bf4",
   "metadata": {},
   "outputs": [],
   "source": [
    "dev_df.drop(columns=['serialnumber', 'aep_premise_nb'])"
   ]
  },
  {
   "cell_type": "code",
   "execution_count": null,
   "id": "04cc4a62",
   "metadata": {},
   "outputs": [],
   "source": [
    "# For full functionality, won't want to drop aep_event_dt (and maybe not aep_opco)\n",
    "cols_to_drop = ['serialnumber', 'aep_premise_nb', 'aep_opco', 'aep_event_dt']"
   ]
  },
  {
   "cell_type": "code",
   "execution_count": null,
   "id": "af36177c",
   "metadata": {},
   "outputs": [],
   "source": [
    "dev_df.drop(columns=cols_to_drop).groupby(['trsf_pole_nb']).agg(np.sum)"
   ]
  },
  {
   "cell_type": "code",
   "execution_count": null,
   "id": "bb07cea0",
   "metadata": {},
   "outputs": [],
   "source": [
    "dev_df.drop(columns=cols_to_drop).columns.tolist()"
   ]
  },
  {
   "cell_type": "code",
   "execution_count": null,
   "id": "dd073ef0",
   "metadata": {},
   "outputs": [],
   "source": [
    "agg_dict = {col:np.sum for col in dev_df.drop(columns=cols_to_drop+['trsf_pole_nb']).columns.tolist()}\n",
    "agg_dict['xf_meter_cnt'] = np.max"
   ]
  },
  {
   "cell_type": "code",
   "execution_count": null,
   "id": "11eda7af",
   "metadata": {},
   "outputs": [],
   "source": [
    "dev_df.drop(columns=cols_to_drop).groupby(['trsf_pole_nb']).agg(agg_dict)"
   ]
  },
  {
   "cell_type": "code",
   "execution_count": null,
   "id": "9d83a070",
   "metadata": {},
   "outputs": [],
   "source": []
  },
  {
   "cell_type": "code",
   "execution_count": null,
   "id": "5b1919c7",
   "metadata": {},
   "outputs": [],
   "source": [
    "dev_df['trsf_pole_nb'].nunique()"
   ]
  },
  {
   "cell_type": "code",
   "execution_count": null,
   "id": "900493e9",
   "metadata": {},
   "outputs": [],
   "source": [
    "rcpo_final_xfmr_new = dev_df.drop(columns=cols_to_drop).groupby(['trsf_pole_nb']).agg(agg_dict)"
   ]
  },
  {
   "cell_type": "code",
   "execution_count": null,
   "id": "f869a0f3",
   "metadata": {},
   "outputs": [],
   "source": [
    "rcpo_final_xfmr"
   ]
  },
  {
   "cell_type": "code",
   "execution_count": null,
   "id": "2b748b33",
   "metadata": {},
   "outputs": [],
   "source": [
    "rcpo_final_xfmr_new"
   ]
  },
  {
   "cell_type": "code",
   "execution_count": null,
   "id": "715b3848",
   "metadata": {},
   "outputs": [],
   "source": []
  },
  {
   "cell_type": "code",
   "execution_count": null,
   "id": "c9aca932",
   "metadata": {},
   "outputs": [],
   "source": [
    "sql = \"\"\"\n",
    "SELECT * FROM meter_events.event_summ_regex_setup\n",
    "\"\"\"\n",
    "regex_setup_df = pd.read_sql(sql, conn_aws, dtype=str)\n",
    "rename_cols_dict = {x[0]:x[1] for x in regex_setup_df[['pivot_id', 'regex_report_title']].values.tolist()}"
   ]
  },
  {
   "cell_type": "code",
   "execution_count": null,
   "id": "6473f8fd",
   "metadata": {},
   "outputs": [],
   "source": [
    "rcpo_final_xfmr_new=rcpo_final_xfmr_new.rename(columns=rename_cols_dict)\n",
    "rcpo_final_xfmr_new = rcpo_final_xfmr_new.rename(columns={\n",
    "    'xf_meter_cnt':'n_SNs', \n",
    "    'events_tot':'n_events_tot'\n",
    "})"
   ]
  },
  {
   "cell_type": "code",
   "execution_count": null,
   "id": "ef63e645",
   "metadata": {},
   "outputs": [],
   "source": [
    "rcpo_final_xfmr"
   ]
  },
  {
   "cell_type": "code",
   "execution_count": null,
   "id": "eec81976",
   "metadata": {},
   "outputs": [],
   "source": [
    "rcpo_final_xfmr_new"
   ]
  },
  {
   "cell_type": "code",
   "execution_count": null,
   "id": "74af212a",
   "metadata": {},
   "outputs": [],
   "source": [
    "cols_only_in_old = list(set(rcpo_final_xfmr.columns).difference(set(rcpo_final_xfmr_new.columns)))\n",
    "cols_only_in_old"
   ]
  },
  {
   "cell_type": "code",
   "execution_count": null,
   "id": "d4504a99",
   "metadata": {},
   "outputs": [],
   "source": [
    "cols_only_in_new = list(set(rcpo_final_xfmr_new.columns).difference(set(rcpo_final_xfmr.columns)))\n",
    "assert(rcpo_final_xfmr_new[cols_only_in_new].sum().sum()==0)"
   ]
  },
  {
   "cell_type": "code",
   "execution_count": null,
   "id": "f2620f5a",
   "metadata": {},
   "outputs": [],
   "source": [
    "overlap_cols = list(set(rcpo_final_xfmr.columns).intersection(set(rcpo_final_xfmr_new.columns)))\n",
    "overlap_idxs = list(set(rcpo_final_xfmr.index).intersection(set(rcpo_final_xfmr_new.index)))"
   ]
  },
  {
   "cell_type": "code",
   "execution_count": null,
   "id": "97a6aa3f",
   "metadata": {},
   "outputs": [],
   "source": [
    "print(len(overlap_idxs))\n",
    "print(rcpo_final_xfmr.shape[0])\n",
    "print(rcpo_final_xfmr_new.shape[0])"
   ]
  },
  {
   "cell_type": "code",
   "execution_count": null,
   "id": "6beb7a6d",
   "metadata": {},
   "outputs": [],
   "source": [
    "df_old = rcpo_final_xfmr.loc[overlap_idxs][overlap_cols].copy()\n",
    "df_new = rcpo_final_xfmr_new.loc[overlap_idxs][overlap_cols].copy()"
   ]
  },
  {
   "cell_type": "code",
   "execution_count": null,
   "id": "ca371ac5",
   "metadata": {},
   "outputs": [],
   "source": [
    "df_old.equals(df_new)"
   ]
  },
  {
   "cell_type": "code",
   "execution_count": null,
   "id": "807ab91b",
   "metadata": {},
   "outputs": [],
   "source": [
    "df_old"
   ]
  },
  {
   "cell_type": "code",
   "execution_count": null,
   "id": "c0824ee0",
   "metadata": {},
   "outputs": [],
   "source": [
    "df_new"
   ]
  },
  {
   "cell_type": "code",
   "execution_count": null,
   "id": "e9cb6bd2",
   "metadata": {},
   "outputs": [],
   "source": [
    "diffs = Utilities_df.get_dfs_diff(df_old, df_new)"
   ]
  },
  {
   "cell_type": "code",
   "execution_count": null,
   "id": "a15146a6",
   "metadata": {},
   "outputs": [],
   "source": [
    "diffs"
   ]
  },
  {
   "cell_type": "code",
   "execution_count": null,
   "id": "0fbc71a2",
   "metadata": {},
   "outputs": [],
   "source": []
  },
  {
   "cell_type": "code",
   "execution_count": null,
   "id": "6e4e488f",
   "metadata": {},
   "outputs": [],
   "source": []
  },
  {
   "cell_type": "code",
   "execution_count": null,
   "id": "dcb60843",
   "metadata": {},
   "outputs": [],
   "source": [
    "dev_df_2 = end_events.df.copy()"
   ]
  },
  {
   "cell_type": "code",
   "execution_count": null,
   "id": "d04f0eb1",
   "metadata": {},
   "outputs": [],
   "source": [
    "dev_df_2['aep_event_dt'] = pd.to_datetime(dev_df_2['aep_event_dt'])\n",
    "\n",
    "# For full functionality, won't want to drop aep_event_dt (and maybe not aep_opco)\n",
    "cols_to_drop = ['serialnumber', 'aep_premise_nb', 'aep_opco']\n",
    "\n",
    "agg_dict = {col:np.sum for col in dev_df_2.drop(columns=cols_to_drop+['trsf_pole_nb', 'aep_event_dt']).columns.tolist()}\n",
    "agg_dict['xf_meter_cnt'] = np.max\n",
    "\n",
    "# rcpo_final_xfmr_new = dev_df_2.drop(columns=cols_to_drop).groupby(['trsf_pole_nb']).agg(agg_dict)"
   ]
  },
  {
   "cell_type": "code",
   "execution_count": null,
   "id": "b4eb09c0",
   "metadata": {},
   "outputs": [],
   "source": [
    "freq='D'\n",
    "group_cols=['trsf_pole_nb']\n",
    "group_freq=pd.Grouper(freq=freq, key='aep_event_dt')\n",
    "dev_df_2.drop(columns=cols_to_drop).groupby(group_cols+[group_freq]).agg(agg_dict)"
   ]
  },
  {
   "cell_type": "code",
   "execution_count": null,
   "id": "814d01f2",
   "metadata": {
    "scrolled": true
   },
   "outputs": [],
   "source": [
    "dev_df_2.drop(columns=cols_to_drop).groupby(group_cols+[group_freq]).agg(agg_dict)"
   ]
  },
  {
   "cell_type": "code",
   "execution_count": null,
   "id": "7cda8e58",
   "metadata": {},
   "outputs": [],
   "source": []
  },
  {
   "cell_type": "code",
   "execution_count": null,
   "id": "8e22704b",
   "metadata": {},
   "outputs": [],
   "source": [
    "freq='5D'\n",
    "group_cols=['trsf_pole_nb']\n",
    "group_freq=pd.Grouper(freq=freq, key='aep_event_dt')\n",
    "dev_df_2.drop(columns=cols_to_drop).groupby(group_cols+[group_freq]).agg(agg_dict)"
   ]
  },
  {
   "cell_type": "code",
   "execution_count": null,
   "id": "60d8f6b9",
   "metadata": {},
   "outputs": [],
   "source": []
  },
  {
   "cell_type": "code",
   "execution_count": null,
   "id": "eae4b0d1",
   "metadata": {},
   "outputs": [],
   "source": [
    "dev_rcpx = dev_df_2.drop(columns=cols_to_drop).groupby(group_cols+[group_freq]).agg(agg_dict)\n",
    "dev_rcpx"
   ]
  },
  {
   "cell_type": "code",
   "execution_count": null,
   "id": "78a4f3fc",
   "metadata": {},
   "outputs": [],
   "source": [
    "dev_rcpx.index.get_level_values(1).unique()"
   ]
  },
  {
   "cell_type": "code",
   "execution_count": null,
   "id": "b9e66dea",
   "metadata": {},
   "outputs": [],
   "source": [
    "dev_rcpx.index.get_level_values(0).nunique()"
   ]
  },
  {
   "cell_type": "code",
   "execution_count": null,
   "id": "73ed4329",
   "metadata": {},
   "outputs": [],
   "source": [
    "xf_meter_cnt_srs = dev_rcpx.droplevel(1, axis=0)['xf_meter_cnt'].reset_index().drop_duplicates().set_index('trsf_pole_nb').squeeze()\n",
    "assert(xf_meter_cnt_srs.shape[0]==xf_meter_cnt_srs.index.nunique())\n",
    "all_trsf_pole_nbs = dev_rcpx.index.get_level_values(0).unique().tolist()\n",
    "xf_meter_cnt_srs.name='nSNs'\n",
    "xf_meter_cnt_srs"
   ]
  },
  {
   "cell_type": "code",
   "execution_count": null,
   "id": "5f809d62",
   "metadata": {},
   "outputs": [],
   "source": [
    "sql = \"\"\"\n",
    "SELECT * FROM meter_events.event_summ_regex_setup\n",
    "\"\"\"\n",
    "regex_setup_df = pd.read_sql(sql, conn_aws, dtype=str)\n",
    "rename_cols_dict = {x[0]:x[1] for x in regex_setup_df[['pivot_id', 'regex_report_title']].values.tolist()}"
   ]
  },
  {
   "cell_type": "code",
   "execution_count": null,
   "id": "55d22f42",
   "metadata": {},
   "outputs": [],
   "source": [
    "date_pd1 = pd.to_datetime('2023-04-01')\n",
    "assert(date_pd1 in dev_rcpx.index.get_level_values(1).unique())"
   ]
  },
  {
   "cell_type": "code",
   "execution_count": null,
   "id": "b7b35679",
   "metadata": {},
   "outputs": [],
   "source": [
    "dev_rcpx_pd1 = dev_rcpx[dev_rcpx.index.get_level_values(1)==date_pd1].copy()\n",
    "dev_rcpx_pd1 = dev_rcpx_pd1.droplevel(1, axis=0)\n",
    "#-------------------------\n",
    "no_events_pd1 = list(set(all_trsf_pole_nbs).difference(set(dev_rcpx_pd1.index.get_level_values(0).unique())))\n",
    "no_events_pd1_df = pd.DataFrame(\n",
    "    columns=dev_rcpx.columns, \n",
    "    index=no_events_pd1, \n",
    "    data=np.zeros((len(no_events_pd1), dev_rcpx.shape[1]))\n",
    ")\n",
    "#-----\n",
    "no_events_pd1_df = no_events_pd1_df.drop(columns=['xf_meter_cnt']).merge(\n",
    "    xf_meter_cnt_srs, \n",
    "    left_index=True, \n",
    "    right_index=True, \n",
    "    how='left'\n",
    ")\n",
    "assert(no_events_pd1_df['nSNs'].notna().all())\n",
    "#-----\n",
    "no_events_pd1_df = Utilities_df.move_cols_to_front(df=no_events_pd1_df, cols_to_move=['nSNs'])\n",
    "#-------------------------\n",
    "dev_rcpx_pd1 = pd.concat([dev_rcpx_pd1, no_events_pd1_df])\n",
    "#-----\n",
    "dev_rcpx_pd1=dev_rcpx_pd1.rename(columns=rename_cols_dict)\n",
    "#-----\n",
    "dev_rcpx_pd1 = Utilities_df.prepend_level_to_MultiIndex(\n",
    "    df=dev_rcpx_pd1, \n",
    "    level_val=date_pd1, \n",
    "    level_name=None, \n",
    "    axis=1\n",
    ")"
   ]
  },
  {
   "cell_type": "code",
   "execution_count": null,
   "id": "dba4a36f",
   "metadata": {},
   "outputs": [],
   "source": []
  },
  {
   "cell_type": "code",
   "execution_count": null,
   "id": "d2292d51",
   "metadata": {},
   "outputs": [],
   "source": [
    "dev_rcpx_pd1"
   ]
  },
  {
   "cell_type": "code",
   "execution_count": null,
   "id": "765ad0c6",
   "metadata": {},
   "outputs": [],
   "source": []
  },
  {
   "cell_type": "code",
   "execution_count": null,
   "id": "969474c5",
   "metadata": {},
   "outputs": [],
   "source": [
    "pd_dfs = []\n",
    "for date_pd_i in natsorted(dev_rcpx.index.get_level_values(1).unique()):\n",
    "    dev_rcpx_pd_i = dev_rcpx[dev_rcpx.index.get_level_values(1)==date_pd_i].copy()\n",
    "    dev_rcpx_pd_i = dev_rcpx_pd_i.droplevel(1, axis=0)\n",
    "    #-------------------------\n",
    "    no_events_pd_i = list(set(all_trsf_pole_nbs).difference(set(dev_rcpx_pd_i.index.get_level_values(0).unique())))\n",
    "    no_events_pd_i_df = pd.DataFrame(\n",
    "        columns=dev_rcpx.columns, \n",
    "        index=no_events_pd_i, \n",
    "        data=np.zeros((len(no_events_pd_i), dev_rcpx.shape[1]))\n",
    "    )\n",
    "    #-----\n",
    "    no_events_pd_i_df = no_events_pd_i_df.drop(columns=['xf_meter_cnt']).merge(\n",
    "        xf_meter_cnt_srs, \n",
    "        left_index=True, \n",
    "        right_index=True, \n",
    "        how='left'\n",
    "    )\n",
    "    assert(no_events_pd_i_df['nSNs'].notna().all())\n",
    "    #-----\n",
    "    no_events_pd_i_df = Utilities_df.move_cols_to_front(df=no_events_pd_i_df, cols_to_move=['nSNs'])\n",
    "    #-------------------------\n",
    "    dev_rcpx_pd_i = pd.concat([dev_rcpx_pd_i, no_events_pd_i_df])\n",
    "    #-----\n",
    "    dev_rcpx_pd_i=dev_rcpx_pd_i.rename(columns=rename_cols_dict)\n",
    "    #-----\n",
    "    dev_rcpx_pd_i = Utilities_df.prepend_level_to_MultiIndex(\n",
    "        df=dev_rcpx_pd_i, \n",
    "        level_val=date_pd_i, \n",
    "        level_name=None, \n",
    "        axis=1\n",
    "    )\n",
    "    #-------------------------\n",
    "    pd_dfs.append(dev_rcpx_pd_i)"
   ]
  },
  {
   "cell_type": "code",
   "execution_count": null,
   "id": "8a3aa5d0",
   "metadata": {},
   "outputs": [],
   "source": [
    "final_df = pd.concat(pd_dfs, axis=1)\n",
    "final_df"
   ]
  },
  {
   "cell_type": "code",
   "execution_count": null,
   "id": "23b950e5",
   "metadata": {},
   "outputs": [],
   "source": [
    "final_df.isna().sum().sum()"
   ]
  },
  {
   "cell_type": "code",
   "execution_count": null,
   "id": "292760e8",
   "metadata": {},
   "outputs": [],
   "source": [
    "final_df.columns.get_level_values(0).unique()"
   ]
  },
  {
   "cell_type": "code",
   "execution_count": null,
   "id": "1baf2f79",
   "metadata": {},
   "outputs": [],
   "source": []
  },
  {
   "cell_type": "code",
   "execution_count": null,
   "id": "a8c6a8d2",
   "metadata": {},
   "outputs": [],
   "source": [
    "prediction_date"
   ]
  },
  {
   "cell_type": "code",
   "execution_count": null,
   "id": "0f444794",
   "metadata": {},
   "outputs": [],
   "source": [
    "natsorted(dev_df_2['aep_event_dt'].unique())"
   ]
  },
  {
   "cell_type": "code",
   "execution_count": null,
   "id": "60037afe",
   "metadata": {},
   "outputs": [],
   "source": []
  },
  {
   "cell_type": "code",
   "execution_count": null,
   "id": "35c7bc0b",
   "metadata": {},
   "outputs": [],
   "source": [
    "final_df"
   ]
  },
  {
   "cell_type": "code",
   "execution_count": null,
   "id": "84081f61",
   "metadata": {},
   "outputs": [],
   "source": []
  },
  {
   "cell_type": "markdown",
   "id": "d5ce45b8",
   "metadata": {},
   "source": [
    "# TODO: Make sure full set of reasons match"
   ]
  },
  {
   "cell_type": "code",
   "execution_count": null,
   "id": "6d38e444",
   "metadata": {},
   "outputs": [],
   "source": [
    "expected_reasons_full = [\n",
    "    'Access Point has lost connectivity with FHSS 900 MHz band.',\n",
    "    'Cleared: Meter cleared tamper detection (C1219 Table 3)',\n",
    "    'Cleared: detected a high temperature condition. (C1219 Table 3)',\n",
    "    'Demand Reset',\n",
    "    'Detected end of voltage sag',\n",
    "    'Detected end of voltage swell',\n",
    "    'Device Failed: Reason: Security public key mismatch',\n",
    "    'Device Failed: Reason: unknown (0x4)',\n",
    "    'Device Failed: Reason: unknown (0x6)',\n",
    "    'Device exceeded the max allowable trap threshold',\n",
    "    'Diag1 Condition cleared',\n",
    "    'Diag1: Polarity, Cross Phase, Reverse Energy Flow: Angle out of tolerance.',\n",
    "    'Diag6 Condition cleared',\n",
    "    'Diag6: Under Voltage, Element A',\n",
    "    'Diag7 Condition cleared',\n",
    "    'Diag7: Over Voltage, Element A ',\n",
    "    'Error occurred when attempting to synch meter time with NIC time for device',\n",
    "    'Ignoring Interval Read data for device as it has time in the future',\n",
    "    'Ignoring Register Read data for device as it has time in the future',\n",
    "    'Last Gasp - NIC power lost for device, Fail Reason: [0x00]',\n",
    "    'Last Gasp - NIC power lost for device, Fail Reason: [0x01]',\n",
    "    'Last Gasp - NIC power lost for device, Fail Reason: [0x04]',\n",
    "    'Last Gasp - NIC power lost for device, Fail Reason: [0x10] LG_PF_DETECTOR',\n",
    "    'Last Gasp - NIC power lost for device, Fail Reason: [0x18] LG_ZERO_X_DETECTOR ,LG_PF_DETECTOR',\n",
    "    'Last Gasp - NIC power lost for device, Fail Reason: [0x40] LG_DIRECT_NOTIFICATION',\n",
    "    'Last Gasp - NIC power lost for device, Fail Reason: [0x41] LG_DIRECT_NOTIFICATION',\n",
    "    'Last Gasp - NIC power lost for device, Fail Reason: [0x42] LG_FLAG_FLASH_ERR ,LG_DIRECT_NOTIFICATION',\n",
    "    'Last Gasp - NIC power lost for device, Fail Reason: [0x43] LG_FLAG_FLASH_ERR ,LG_DIRECT_NOTIFICATION',\n",
    "    'Last Gasp - NIC power lost for device, Fail Reason: [0x48] LG_ZERO_X_DETECTOR ,LG_DIRECT_NOTIFICATION',\n",
    "    'Last Gasp - NIC power lost for device, Fail Reason: [0x49] LG_ZERO_X_DETECTOR ,LG_DIRECT_NOTIFICATION',\n",
    "    'Last Gasp - NIC power lost for device, Fail Reason: [0x4A] LG_FLAG_FLASH_ERR ,LG_ZERO_X_DETECTOR ,LG_DIRECT_NOTIFICATION',\n",
    "    'Last Gasp - NIC power lost for device, Fail Reason: [0x50] LG_PF_DETECTOR ,LG_DIRECT_NOTIFICATION',\n",
    "    'Last Gasp - NIC power lost for device, Fail Reason: [0x51] LG_PF_DETECTOR ,LG_DIRECT_NOTIFICATION',\n",
    "    'Last Gasp - NIC power lost for device, Fail Reason: [0x58] LG_ZERO_X_DETECTOR ,LG_PF_DETECTOR ,LG_DIRECT_NOTIFICATION',\n",
    "    'Last Gasp - NIC power lost for device, Fail Reason: [0x59] LG_ZERO_X_DETECTOR ,LG_PF_DETECTOR ,LG_DIRECT_NOTIFICATION',\n",
    "    'Last Gasp State: EL_EVENT_POWER_FAIL_DETECT_LG_DISABLED, Detector State: EL_EVENT_POWER_FAIL_DETECT_METER_PF_DISABLED',\n",
    "    'Last Gasp State: EL_EVENT_POWER_FAIL_DETECT_LG_DISABLED, Detector State: EL_EVENT_POWER_FAIL_DETECT_NIC_ZX_DISABLED',\n",
    "    'Low Battery (C1219 Table 3)',\n",
    "    'Low Potential (C1219 Table 3)',\n",
    "    'Low Potential cleared',\n",
    "    'Measurement Error (C1219 Table 3) ',\n",
    "    'Measurement Error cleared',\n",
    "    'Meter Program Seal mismatch for Device',\n",
    "    'Meter detected a high temperature condition (C1219 Table 3)',\n",
    "    'Meter detected loss of time (C1219 Table 3)',\n",
    "    'Meter detected tampering (C1219 Table 3)',\n",
    "    'Meter needs explicit time sync. Encountered Problems:  TS_ERR_LP_BX, TS_ERR_BIG_DRIFT [0x44]',\n",
    "    'Meter needs explicit time sync. Encountered Problems:  TS_ERR_LP_BX, TS_ERR_BIG_DRIFT, TS_ERR_DAY_BX [0x4C]',\n",
    "    'Meter needs explicit time sync. Encountered Problems:  TS_ERR_LP_BX, TS_ERR_BIG_DRIFT, TS_ERR_DAY_BX, TS_ERR_DST_BX [0x6C]',\n",
    "    'Meter needs explicit time sync. Encountered Problems:  TS_ERR_LP_BX, TS_ERR_BIG_DRIFT, TS_ERR_DAY_BX, TS_ERR_NEAR_DST_BND [0x5C]',\n",
    "    'Meter needs explicit time sync. Encountered Problems:  TS_ERR_LP_BX, TS_ERR_BIG_DRIFT, TS_ERR_DST_BX [0x64]',\n",
    "    'Meter needs explicit time sync. Encountered Problems:  TS_ERR_LP_BX, TS_ERR_BIG_DRIFT, TS_ERR_NEAR_DST_BND [0x54]',\n",
    "    'Meter needs explicit time sync. Encountered Problems:  TS_ERR_NEAR_DAY_BND, TS_ERR_LP_BX, TS_ERR_BIG_DRIFT [0x45]',\n",
    "    'Meter needs explicit time sync. Encountered Problems:  TS_ERR_NEAR_DAY_BND, TS_ERR_LP_BX, TS_ERR_BIG_DRIFT, TS_ERR_DAY_BX [0x4D]',\n",
    "    'Meter needs explicit time sync. Encountered Problems:  TS_ERR_NEAR_DAY_BND, TS_ERR_LP_BX, TS_ERR_BIG_DRIFT, TS_ERR_DST_BX [0x65]',\n",
    "    'Meter needs explicit time sync. Encountered Problems:  TS_ERR_NEAR_DAY_BND, TS_ERR_LP_BX, TS_ERR_BIG_DRIFT, TS_ERR_NEAR_DST_BND [0x55]',\n",
    "    'Meter needs explicit time sync. Encountered Problems:  TS_ERR_NEAR_DAY_BND, TS_ERR_NEAR_LP_BND, TS_ERR_BIG_DRIFT [0x43]',\n",
    "    'Meter needs explicit time sync. Encountered Problems:  TS_ERR_NEAR_DAY_BND, TS_ERR_NEAR_LP_BND, TS_ERR_LP_BX, TS_ERR_BIG_DRIFT [0x47]',\n",
    "    'Meter needs explicit time sync. Encountered Problems:  TS_ERR_NEAR_DAY_BND, TS_ERR_NEAR_LP_BND, TS_ERR_LP_BX, TS_ERR_BIG_DRIFT, TS_ERR_DAY_BX [0x4F]',\n",
    "    'Meter needs explicit time sync. Encountered Problems:  TS_ERR_NEAR_DAY_BND, TS_ERR_NEAR_LP_BND, TS_ERR_LP_BX, TS_ERR_BIG_DRIFT, TS_ERR_DAY_BX, TS_ERR_DST_BX [0x6F]',\n",
    "    'Meter needs explicit time sync. Encountered Problems:  TS_ERR_NEAR_LP_BND, TS_ERR_BIG_DRIFT [0x42]',\n",
    "    'Meter needs explicit time sync. Encountered Problems:  TS_ERR_NEAR_LP_BND, TS_ERR_LP_BX, TS_ERR_BIG_DRIFT [0x46]',\n",
    "    'Meter needs explicit time sync. Encountered Problems:  TS_ERR_NEAR_LP_BND, TS_ERR_LP_BX, TS_ERR_BIG_DRIFT, TS_ERR_DAY_BX [0x4E]',\n",
    "    'Meter needs explicit time sync. Encountered Problems:  TS_ERR_NEAR_LP_BND, TS_ERR_LP_BX, TS_ERR_BIG_DRIFT, TS_ERR_DAY_BX, TS_ERR_DST_BX [0x6E]',\n",
    "    'Meter needs explicit time sync. Encountered Problems:  TS_ERR_NEAR_LP_BND, TS_ERR_LP_BX, TS_ERR_BIG_DRIFT, TS_ERR_DAY_BX, TS_ERR_NEAR_DST_BND [0x5E]',\n",
    "    'Meter needs explicit time sync. Encountered Problems:  TS_ERR_NEAR_LP_BND, TS_ERR_LP_BX, TS_ERR_BIG_DRIFT, TS_ERR_DST_BX [0x66]',\n",
    "    'Meter needs explicit time sync. Encountered Problems:  TS_ERR_NEAR_LP_BND, TS_ERR_LP_BX, TS_ERR_BIG_DRIFT, TS_ERR_NEAR_DST_BND [0x56]',\n",
    "    'Meter needs explicit time sync. Encountered Problems:  TS_ERR_NEAR_LP_BND, TS_ERR_NEAR_DST_BND, TS_ERR_BIG_DRIFT [0x52]',\n",
    "    'N/A failed consecutively for 1 or more times',\n",
    "    'NET_MGMT command failed consecutively for 1 or more times',\n",
    "    'NET_MGMT command was sent with a key that has insufficient privileges: READ SUBID: 65535 ASSOC_ID: 20036',\n",
    "    'NET_MGMT command was sent with a key that has insufficient privileges: WRITE SUBID: 65535 ASSOC_ID: 45182',\n",
    "    'NET_MGMT command was sent with a key that has insufficient privileges: WRITE SUBID: 65535 ASSOC_ID: 768',\n",
    "    'NIC Link Layer Handshake Failed: Rejection Cause: invalid birth certificate',\n",
    "    'NIC Link Layer Handshake Failed: Rejection Cause: invalid eblob signature',\n",
    "    'NIC Link Layer Handshake Failed: Rejection Cause: invalid mfg cert',\n",
    "    'NIC Power Restore Trap Received from device',\n",
    "    'NVRAM Error (C1219 Table 3) ',\n",
    "    'NVRAM Error cleared',\n",
    "    'Over Voltage (Diagnostic 7) : Phase A.',\n",
    "    'Over Voltage (Diagnostic 7) cleared',\n",
    "    'Primary Power Down',\n",
    "    'Primary Power Up',\n",
    "    'Requested operation could not be applied: JOB_OP_LP_READ ',\n",
    "    'Requested operation could not be applied: JOB_OP_NEW_DATA_READ ',\n",
    "    'Requested operation could not be applied: JOB_OP_PROVISION_CONNECT ',\n",
    "    'Requested operation could not be applied: JOB_OP_PROVISION_DISCONNECT ',\n",
    "    'Requested operation could not be applied: JOB_OP_PROVISION_GET_STATUS ',\n",
    "    'Requested operation could not be applied: JOB_OP_REGISTER_CURR_READ ',\n",
    "    'Requested operation could not be applied: JOB_OP_TYPE_ARB_METER_COMMAND ',\n",
    "    'Requested operation could not be applied: JOB_OP_TYPE_DEMAND_RESET ',\n",
    "    'Secure association operation failed consecutively for 1 or more times',\n",
    "    'System Error (C1219 Table 3: Er000020)',\n",
    "    'Tamper (Meter Inversion) detected',\n",
    "    'Test Mode Started',\n",
    "    'Test Mode Stopped',\n",
    "    'Under Voltage (CA000400)  Phase  A Voltage out of tolerance.',\n",
    "    'Under Voltage (CA000400)  Phase  A, B Voltage out of tolerance.',\n",
    "    'Under Voltage (CA000400)  Phase  A, B, C Voltage out of tolerance.',\n",
    "    'Under Voltage (CA000400)  Phase  A, C Voltage out of tolerance.',\n",
    "    'Under Voltage (CA000400)  Phase  B Voltage out of tolerance.',\n",
    "    'Under Voltage (CA000400)  Phase  B, C Voltage out of tolerance.',\n",
    "    'Under Voltage (CA000400)  Phase  C Voltage out of tolerance.',\n",
    "    'Under Voltage (CA000400)  Phase A and C.',\n",
    "    'Under Voltage (CA000400)  Phase A.',\n",
    "    'Under Voltage (CA000400)  Phase C.',\n",
    "    'Under Voltage (CA000400) cleared',\n",
    "    'Under Voltage (Diagnostic 6)  Phase A.',\n",
    "    'Under Voltage (Diagnostic 6) cleared'\n",
    "]"
   ]
  },
  {
   "cell_type": "code",
   "execution_count": null,
   "id": "ebd7ed29",
   "metadata": {},
   "outputs": [],
   "source": [
    "len(expected_reasons_full)"
   ]
  },
  {
   "cell_type": "code",
   "execution_count": null,
   "id": "14b85947",
   "metadata": {},
   "outputs": [],
   "source": [
    "tmp_df = final_df[pd.to_datetime('2023-04-01 00:00:00')].copy()"
   ]
  },
  {
   "cell_type": "code",
   "execution_count": null,
   "id": "3d1852f2",
   "metadata": {},
   "outputs": [],
   "source": [
    "tmp_df.columns.tolist()"
   ]
  },
  {
   "cell_type": "code",
   "execution_count": null,
   "id": "bb5f1612",
   "metadata": {},
   "outputs": [],
   "source": [
    "assert(tmp_df[''].sum().sum()==0)\n",
    "tmp_df=tmp_df.drop(columns=[''])"
   ]
  },
  {
   "cell_type": "code",
   "execution_count": null,
   "id": "211a222f",
   "metadata": {},
   "outputs": [],
   "source": [
    "# tmp_df = MECPODf.remove_reasons_from_rcpo_df(\n",
    "#     rcpo_df=tmp_df, \n",
    "#     regex_patterns_to_remove=['.*cleared.*', '.*Test Mode.*'], \n",
    "#     ignore_case=True\n",
    "# )\n",
    "# tmp_df.shape"
   ]
  },
  {
   "cell_type": "code",
   "execution_count": null,
   "id": "48aab4f7",
   "metadata": {},
   "outputs": [],
   "source": [
    "tmp_df.columns.tolist()"
   ]
  },
  {
   "cell_type": "code",
   "execution_count": null,
   "id": "7fe3337a",
   "metadata": {},
   "outputs": [],
   "source": [
    "set(tmp_df.columns).difference(set(expected_reasons_full))"
   ]
  },
  {
   "cell_type": "code",
   "execution_count": null,
   "id": "9740df38",
   "metadata": {},
   "outputs": [],
   "source": [
    "set(expected_reasons_full).difference(set(tmp_df.columns))"
   ]
  },
  {
   "cell_type": "code",
   "execution_count": null,
   "id": "8ca14071",
   "metadata": {},
   "outputs": [],
   "source": [
    "natsorted(tmp_df.columns.tolist())"
   ]
  },
  {
   "cell_type": "code",
   "execution_count": null,
   "id": "e2a175cb",
   "metadata": {},
   "outputs": [],
   "source": [
    "natsorted(tmp_df.columns.tolist())[1]"
   ]
  },
  {
   "cell_type": "code",
   "execution_count": null,
   "id": "84c01b57",
   "metadata": {},
   "outputs": [],
   "source": [
    "expected_reasons_full[1]"
   ]
  },
  {
   "cell_type": "code",
   "execution_count": null,
   "id": "352444c8",
   "metadata": {},
   "outputs": [],
   "source": [
    "natsorted(tmp_df.columns.tolist())[1]==expected_reasons_full[1]"
   ]
  },
  {
   "cell_type": "code",
   "execution_count": null,
   "id": "bdad11df",
   "metadata": {},
   "outputs": [],
   "source": []
  },
  {
   "cell_type": "code",
   "execution_count": null,
   "id": "9e4885ef",
   "metadata": {},
   "outputs": [],
   "source": []
  },
  {
   "cell_type": "code",
   "execution_count": null,
   "id": "54cac9ab",
   "metadata": {},
   "outputs": [],
   "source": []
  },
  {
   "cell_type": "code",
   "execution_count": null,
   "id": "07597dea",
   "metadata": {},
   "outputs": [],
   "source": []
  },
  {
   "cell_type": "code",
   "execution_count": null,
   "id": "58ed70d5",
   "metadata": {},
   "outputs": [],
   "source": [
    "dev_df = final_df['2023-04-01'].copy()"
   ]
  },
  {
   "cell_type": "code",
   "execution_count": null,
   "id": "dc7b3fd4",
   "metadata": {},
   "outputs": [],
   "source": [
    "dev_df.shape"
   ]
  },
  {
   "cell_type": "code",
   "execution_count": null,
   "id": "48befb14",
   "metadata": {},
   "outputs": [],
   "source": [
    "assert(dev_df[''].sum().sum()==0)\n",
    "dev_df=dev_df.drop(columns=[''])"
   ]
  },
  {
   "cell_type": "code",
   "execution_count": null,
   "id": "b1c0b340",
   "metadata": {},
   "outputs": [],
   "source": []
  },
  {
   "cell_type": "code",
   "execution_count": null,
   "id": "50130011",
   "metadata": {},
   "outputs": [],
   "source": [
    "dev_df = MECPODf.remove_reasons_from_rcpo_df(\n",
    "    rcpo_df=dev_df, \n",
    "    regex_patterns_to_remove=['.*cleared.*', '.*Test Mode.*'], \n",
    "    ignore_case=True\n",
    ")\n",
    "dev_df.shape"
   ]
  },
  {
   "cell_type": "code",
   "execution_count": null,
   "id": "8a296ef4",
   "metadata": {},
   "outputs": [],
   "source": [
    "dev_df"
   ]
  },
  {
   "cell_type": "code",
   "execution_count": null,
   "id": "eef50ab4",
   "metadata": {},
   "outputs": [],
   "source": [
    "# Since irrelevant cleared and test columns removed, need to recalculate events_tot\n",
    "non_reason_cols = ['xf_meter_cnt', 'events_tot']\n",
    "total_counts_col = 'events_tot'\n",
    "assert(total_counts_col in non_reason_cols)\n",
    "dev_df[total_counts_col] = dev_df.drop(columns=non_reason_cols).sum(axis=1)"
   ]
  },
  {
   "cell_type": "code",
   "execution_count": null,
   "id": "b2f2a458",
   "metadata": {},
   "outputs": [],
   "source": [
    "dev_df = MECPODf.combine_cpo_df_reasons(rcpo_df=dev_df)\n",
    "dev_df.shape"
   ]
  },
  {
   "cell_type": "code",
   "execution_count": null,
   "id": "ad93a113",
   "metadata": {},
   "outputs": [],
   "source": [
    "include_power_down_minus_up=False\n",
    "if include_power_down_minus_up:\n",
    "    dev_df = MECPODf.delta_cpo_df_reasons(\n",
    "        rcpo_df=dev_df, \n",
    "        reasons_1='Primary Power Down',\n",
    "        reasons_2='Primary Power Up',\n",
    "        delta_reason_name='Power Down Minus Up'\n",
    "    )"
   ]
  },
  {
   "cell_type": "code",
   "execution_count": null,
   "id": "f950141f",
   "metadata": {},
   "outputs": [],
   "source": []
  },
  {
   "cell_type": "code",
   "execution_count": null,
   "id": "5750ee25",
   "metadata": {},
   "outputs": [],
   "source": [
    "final_reason_cols = [\n",
    "    'NET_MGMT command failed consecutively',\n",
    "    'Primary Power Down',\n",
    "    'Primary Power Up',\n",
    "    'Error occurred when attempting to synch meter time with NIC time for device',\n",
    "    'NIC Power Restore Trap Received from device',\n",
    "    'Under Voltage',\n",
    "    'Meter needs explicit time sync',\n",
    "    'Last Gasp',\n",
    "    'Over Voltage',\n",
    "    'Detected end of voltage sag',\n",
    "#     'Other Reasons',\n",
    "#     'total_counts'\n",
    "]"
   ]
  },
  {
   "cell_type": "code",
   "execution_count": null,
   "id": "bfad300f",
   "metadata": {},
   "outputs": [],
   "source": [
    "len(final_reason_cols)"
   ]
  },
  {
   "cell_type": "code",
   "execution_count": null,
   "id": "aaeec577",
   "metadata": {},
   "outputs": [],
   "source": [
    "set(final_reason_cols).difference(set(dev_df.columns.tolist()))"
   ]
  },
  {
   "cell_type": "code",
   "execution_count": null,
   "id": "737d4b6a",
   "metadata": {},
   "outputs": [],
   "source": [
    "assert(len(set(final_reason_cols).difference(set(dev_df.columns.tolist())))==0)\n",
    "dev_df = MECPODf.get_reasons_subset_from_cpo_df(\n",
    "    cpo_df=dev_df, \n",
    "    reasons_to_include=final_reason_cols, \n",
    "    combine_others=True, \n",
    "    output_combine_others_col='Other Reasons', \n",
    "    SNs_tags=None, \n",
    "    is_norm=False, \n",
    "    counts_col='xf_meter_cnt', \n",
    "    normalize_by_nSNs_included=False, \n",
    "    level_0_raw_col = 'counts', \n",
    "    level_0_nrm_col = 'counts_norm', \n",
    "    cols_to_ignore = ['events_tot']\n",
    ")"
   ]
  },
  {
   "cell_type": "code",
   "execution_count": null,
   "id": "1ad01a24",
   "metadata": {},
   "outputs": [],
   "source": [
    "dev_df"
   ]
  },
  {
   "cell_type": "code",
   "execution_count": null,
   "id": "37c78db4",
   "metadata": {},
   "outputs": [],
   "source": [
    "dev_df.iloc[:, :-1].sum(axis=1).equals(dev_df.iloc[:, -1])"
   ]
  },
  {
   "cell_type": "code",
   "execution_count": null,
   "id": "0725de76",
   "metadata": {},
   "outputs": [],
   "source": [
    "natsorted(dev_rcpx.index.get_level_values(1).unique())"
   ]
  },
  {
   "cell_type": "code",
   "execution_count": null,
   "id": "40cf463a",
   "metadata": {},
   "outputs": [],
   "source": []
  },
  {
   "cell_type": "code",
   "execution_count": null,
   "id": "cc0ad9de",
   "metadata": {},
   "outputs": [],
   "source": [
    "full_data_df = pd.read_pickle(r'C:\\Users\\s346557\\Documents\\LocalData\\dovs_and_end_events_data\\20230615\\Models\\All_EEMSP_agg_Top10_v2\\full_data_df.pkl')"
   ]
  },
  {
   "cell_type": "code",
   "execution_count": null,
   "id": "96b85ae9",
   "metadata": {},
   "outputs": [],
   "source": [
    "final_time_pds = [\n",
    "    '01-06 Days',\n",
    "    '06-11 Days',\n",
    "    '11-16 Days',\n",
    "    '16-21 Days',\n",
    "    '21-26 Days',\n",
    "    '26-31 Days',\n",
    "]\n",
    "time_pds_rename = dict(zip(\n",
    "    natsorted(dev_rcpx.index.get_level_values(1).unique()), \n",
    "    final_time_pds\n",
    "))"
   ]
  },
  {
   "cell_type": "code",
   "execution_count": null,
   "id": "2269d304",
   "metadata": {},
   "outputs": [],
   "source": []
  },
  {
   "cell_type": "code",
   "execution_count": null,
   "id": "0703c5eb",
   "metadata": {},
   "outputs": [],
   "source": [
    "rename_cols = {\n",
    "    'events_tot':'total_counts', \n",
    "    'xf_meter_cnt':'nSNs'\n",
    "}\n",
    "\n",
    "total_counts_col = 'total_counts'\n",
    "nSNs_col         = 'nSNs'\n",
    "non_reason_cols = [nSNs_col, total_counts_col]\n",
    "\n",
    "include_power_down_minus_up=False\n",
    "#-------------------------\n",
    "dev_rcpx=dev_rcpx.rename(columns=rename_cols)\n",
    "#-------------------------\n",
    "pd_dfs = []\n",
    "for date_pd_i in natsorted(dev_rcpx.index.get_level_values(1).unique()):\n",
    "    final_time_pd_i = time_pds_rename[date_pd_i]\n",
    "    #-----\n",
    "    final_reason_cols_i = full_data_df[final_time_pd_i].columns.tolist()\n",
    "    final_reason_cols_i = [x for x in final_reason_cols_i if x not in non_reason_cols+['Other Reasons']]\n",
    "    #-------------------------\n",
    "    dev_rcpx_pd_i = dev_rcpx[dev_rcpx.index.get_level_values(1)==date_pd_i].copy()\n",
    "    dev_rcpx_pd_i = dev_rcpx_pd_i.droplevel(1, axis=0)\n",
    "    #-------------------------\n",
    "    no_events_pd_i = list(set(all_trsf_pole_nbs).difference(set(dev_rcpx_pd_i.index.get_level_values(0).unique())))\n",
    "    no_events_pd_i_df = pd.DataFrame(\n",
    "        columns=dev_rcpx.columns, \n",
    "        index=no_events_pd_i, \n",
    "        data=np.zeros((len(no_events_pd_i), dev_rcpx.shape[1]))\n",
    "    )\n",
    "    #-----\n",
    "    no_events_pd_i_df = no_events_pd_i_df.drop(columns=['nSNs']).merge(\n",
    "        xf_meter_cnt_srs, \n",
    "        left_index=True, \n",
    "        right_index=True, \n",
    "        how='left'\n",
    "    )\n",
    "    assert(no_events_pd_i_df['nSNs'].notna().all())\n",
    "    #-----\n",
    "    no_events_pd_i_df = Utilities_df.move_cols_to_front(df=no_events_pd_i_df, cols_to_move=['nSNs'])\n",
    "    #-------------------------\n",
    "    dev_rcpx_pd_i = pd.concat([dev_rcpx_pd_i, no_events_pd_i_df])\n",
    "    #-------------------------\n",
    "    dev_rcpx_pd_i=dev_rcpx_pd_i.rename(columns=rename_cols_dict)\n",
    "    #--------------------------------------------------\n",
    "    assert(dev_rcpx_pd_i[''].sum().sum()==0)\n",
    "    dev_rcpx_pd_i=dev_rcpx_pd_i.drop(columns=[''])\n",
    "    #-------------------------\n",
    "    dev_rcpx_pd_i = MECPODf.remove_reasons_from_rcpo_df(\n",
    "        rcpo_df=dev_rcpx_pd_i, \n",
    "        regex_patterns_to_remove=['.*cleared.*', '.*Test Mode.*'], \n",
    "        ignore_case=True\n",
    "    )\n",
    "    #-----\n",
    "    # Since irrelevant cleared and test columns removed, need to recalculate events_tot\n",
    "    assert(total_counts_col in non_reason_cols)\n",
    "    dev_rcpx_pd_i[total_counts_col] = dev_rcpx_pd_i.drop(columns=non_reason_cols).sum(axis=1)\n",
    "    #-------------------------\n",
    "    dev_rcpx_pd_i = MECPODf.combine_cpo_df_reasons(rcpo_df=dev_rcpx_pd_i)\n",
    "    #-------------------------\n",
    "    if include_power_down_minus_up:\n",
    "        dev_rcpx_pd_i = MECPODf.delta_cpo_df_reasons(\n",
    "            rcpo_df=dev_rcpx_pd_i, \n",
    "            reasons_1='Primary Power Down',\n",
    "            reasons_2='Primary Power Up',\n",
    "            delta_reason_name='Power Down Minus Up'\n",
    "        )\n",
    "    #-------------------------\n",
    "    assert(len(set(final_reason_cols_i).difference(set(dev_rcpx_pd_i.columns.tolist())))==0)\n",
    "    dev_rcpx_pd_i = MECPODf.get_reasons_subset_from_cpo_df(\n",
    "        cpo_df=dev_rcpx_pd_i, \n",
    "        reasons_to_include=final_reason_cols_i, \n",
    "        combine_others=True, \n",
    "        output_combine_others_col='Other Reasons', \n",
    "        SNs_tags=None, \n",
    "        is_norm=False, \n",
    "        counts_col='nSNs', \n",
    "        normalize_by_nSNs_included=False, \n",
    "        level_0_raw_col = 'counts', \n",
    "        level_0_nrm_col = 'counts_norm', \n",
    "        cols_to_ignore = ['total_counts'], \n",
    "        include_counts_col_in_output=True\n",
    "    )    \n",
    "    #--------------------------------------------------\n",
    "    dev_rcpx_pd_i = dev_rcpx_pd_i.rename(columns=rename_cols)\n",
    "    #-------------------------\n",
    "    # Don't want nSNs in each pd individually\n",
    "    dev_rcpx_pd_i = dev_rcpx_pd_i.drop(columns=[nSNs_col])\n",
    "    #-------------------------\n",
    "    dev_rcpx_pd_i = Utilities_df.prepend_level_to_MultiIndex(\n",
    "        df=dev_rcpx_pd_i, \n",
    "        level_val=final_time_pd_i, \n",
    "        level_name=None, \n",
    "        axis=1\n",
    "    )\n",
    "    #-------------------------\n",
    "    pd_dfs.append(dev_rcpx_pd_i)"
   ]
  },
  {
   "cell_type": "code",
   "execution_count": null,
   "id": "951dd2aa",
   "metadata": {},
   "outputs": [],
   "source": [
    "final_df = pd.concat(pd_dfs, axis=1)\n",
    "final_df"
   ]
  },
  {
   "cell_type": "code",
   "execution_count": null,
   "id": "39f0abd5",
   "metadata": {},
   "outputs": [],
   "source": []
  },
  {
   "cell_type": "code",
   "execution_count": null,
   "id": "cb27377f",
   "metadata": {},
   "outputs": [],
   "source": []
  },
  {
   "cell_type": "code",
   "execution_count": null,
   "id": "5972afd3",
   "metadata": {},
   "outputs": [],
   "source": [
    "final_df=final_df.merge(\n",
    "    xf_meter_cnt_srs.to_frame(name=('nSNs', 'nSNs')), \n",
    "    left_index=True, \n",
    "    right_index=True, \n",
    "    how='left'\n",
    ")\n",
    "assert(final_df['nSNs'].notna().all().all())"
   ]
  },
  {
   "cell_type": "code",
   "execution_count": null,
   "id": "401148db",
   "metadata": {},
   "outputs": [],
   "source": [
    "final_df"
   ]
  },
  {
   "cell_type": "code",
   "execution_count": null,
   "id": "87798d7a",
   "metadata": {},
   "outputs": [],
   "source": []
  },
  {
   "cell_type": "markdown",
   "id": "b2246ee7",
   "metadata": {},
   "source": [
    "# EEMSP"
   ]
  },
  {
   "cell_type": "code",
   "execution_count": null,
   "id": "79315f51",
   "metadata": {},
   "outputs": [],
   "source": [
    "conn_aws = Utilities.get_athena_prod_aws_connection()"
   ]
  },
  {
   "cell_type": "code",
   "execution_count": null,
   "id": "682519d0",
   "metadata": {},
   "outputs": [],
   "source": [
    "merge_eemsp = True\n",
    "mult_strategy='agg'\n",
    "#-----\n",
    "cols_of_interest_eemsp = [\n",
    "    'location_nb', \n",
    "    'mfgr_nm', \n",
    "    'install_dt', \n",
    "    'last_trans_desc', \n",
    "    'eqtype_id', \n",
    "    'coolant', \n",
    "    'info', \n",
    "    'kva_size',\n",
    "    'phase_cnt', \n",
    "    'prim_voltage', \n",
    "    'protection', \n",
    "    'pru_number', \n",
    "    'sec_voltage', \n",
    "    'special_char', \n",
    "    'taps', \n",
    "    'xftype'\n",
    "]\n",
    "cols_of_interest_eemsp_full = cols_of_interest_eemsp + ['latest_status', 'removal_dt', 'serial_nb']"
   ]
  },
  {
   "cell_type": "code",
   "execution_count": null,
   "id": "2a8ad49f",
   "metadata": {},
   "outputs": [],
   "source": [
    "sql_EEMSP = \"\"\"\n",
    "SELECT {} \n",
    "FROM meter_events.eems_transformer_nameplate\n",
    "WHERE location_nb IN ({})\n",
    "AND install_dt <= '{}'\n",
    "AND (removal_dt IS NULL OR removal_dt > '{}')\n",
    "\"\"\".format(\n",
    "    Utilities_sql.join_list(cols_of_interest_eemsp_full, quotes_needed=False), \n",
    "    Utilities_sql.join_list(trsf_pole_nbs, quotes_needed=True), \n",
    "    date_range[0], \n",
    "    date_range[1]\n",
    ")"
   ]
  },
  {
   "cell_type": "code",
   "execution_count": null,
   "id": "f0a143af",
   "metadata": {},
   "outputs": [],
   "source": [
    "print(sql_EEMSP)"
   ]
  },
  {
   "cell_type": "code",
   "execution_count": null,
   "id": "fc6125ec",
   "metadata": {},
   "outputs": [],
   "source": []
  },
  {
   "cell_type": "code",
   "execution_count": null,
   "id": "13e2a775",
   "metadata": {},
   "outputs": [],
   "source": [
    "df_eemsp = pd.read_sql_query(sql_EEMSP, conn_aws)"
   ]
  },
  {
   "cell_type": "code",
   "execution_count": null,
   "id": "59494711",
   "metadata": {},
   "outputs": [],
   "source": []
  },
  {
   "cell_type": "code",
   "execution_count": null,
   "id": "12d6e19e",
   "metadata": {},
   "outputs": [],
   "source": [
    "df_eemsp"
   ]
  },
  {
   "cell_type": "code",
   "execution_count": null,
   "id": "5f7f4c95",
   "metadata": {},
   "outputs": [],
   "source": []
  },
  {
   "cell_type": "code",
   "execution_count": null,
   "id": "60797c7b",
   "metadata": {},
   "outputs": [],
   "source": [
    "# No need to run reduce1_eemsp_for_outg_trsf for this case, as all share the same date restrictions\n",
    "#   which were already imposed in sql_EEMSP\n",
    "#-----\n",
    "# reduce2_eemsp_for_outg_trsf was designed to be used with outg_rec_nb/no_outg_rec_nb\n",
    "# This is not necessary here, but we need a temporary column anyway to make the function happy\n",
    "df_eemsp['outg_rec_nb'] = df_eemsp['location_nb']"
   ]
  },
  {
   "cell_type": "code",
   "execution_count": null,
   "id": "1a488918",
   "metadata": {
    "scrolled": true
   },
   "outputs": [],
   "source": [
    "df_eemsp"
   ]
  },
  {
   "cell_type": "code",
   "execution_count": null,
   "id": "f07237fb",
   "metadata": {},
   "outputs": [],
   "source": [
    "df_eemsp_reduce2 = reduce2_eemsp_for_outg_trsf(\n",
    "    df_eemsp=df_eemsp, \n",
    "    mult_strategy='agg', \n",
    "    include_n_eemsp=True, \n",
    "    outg_rec_nb_col='outg_rec_nb', \n",
    "    location_nb_col='location_nb', \n",
    "    numeric_cols = ['kva_size'], \n",
    "    dt_cols = ['install_dt', 'removal_dt'], \n",
    "    ignore_cols = ['serial_nb'], \n",
    "    cat_cols_as_strings=True\n",
    ")"
   ]
  },
  {
   "cell_type": "code",
   "execution_count": null,
   "id": "d5eafdde",
   "metadata": {},
   "outputs": [],
   "source": [
    "df_eemsp['location_nb'].value_counts()"
   ]
  },
  {
   "cell_type": "code",
   "execution_count": null,
   "id": "8d3f6075",
   "metadata": {},
   "outputs": [],
   "source": [
    "df_eemsp_reduce2.columns.tolist()"
   ]
  },
  {
   "cell_type": "code",
   "execution_count": null,
   "id": "d43d72d6",
   "metadata": {},
   "outputs": [],
   "source": [
    "#-------------------------\n",
    "# No matter of the mult_strategy used, at this point df_eemsp_reduce2 should only have a single\n",
    "#   entry for each outg_rec_nb, location_nb pair\n",
    "assert(all(df_eemsp_reduce2[['outg_rec_nb', 'location_nb']].value_counts()==1))\n",
    "\n",
    "#----------------------------------------------------------------------------------------------------\n",
    "# Clean up df_eemsp_reduce2 and merge with merged_df_full, merged_df_no_outg, and merged_df_no_outg_prstn\n",
    "#--------------------------------------------------\n",
    "# Can't simply take df_eemsp_reduce2[cols_of_interest_eemsp] because we need also the new column\n",
    "#   OUTG_REC_NB_TO_MERGE (and ant others which may be added in the future)\n",
    "cols_to_drop = list(set(cols_of_interest_eemsp_full).difference(set(cols_of_interest_eemsp)))\n",
    "cols_to_drop = [x for x in cols_to_drop if x in df_eemsp_reduce2.columns]\n",
    "if len(cols_to_drop)>0:\n",
    "    df_eemsp_reduce2 = df_eemsp_reduce2.drop(columns=cols_to_drop)"
   ]
  },
  {
   "cell_type": "code",
   "execution_count": null,
   "id": "1569c079",
   "metadata": {},
   "outputs": [],
   "source": [
    "    #-------------------------\n",
    "    assert(df_eemsp_reduce2.shape[0]==df_eemsp_reduce2.groupby(['outg_rec_nb', 'location_nb']).ngroups)\n",
    "    print(f\"df_eemsp_reduce2['location_nb'].nunique() = {df_eemsp_reduce2['location_nb'].nunique()}\")\n",
    "    print(f\"len(trsf_pole_nbs)                        = {len(trsf_pole_nbs)}\")\n",
    "    print(f\"Diff                                      = {len(trsf_pole_nbs)-df_eemsp_reduce2['location_nb'].nunique()}\")\n",
    "    print()\n",
    "    #-------------------------\n",
    "#     print(\"\\nShapes BEFORE merging\")\n",
    "#     print(f\"merged_df_full.shape          = {merged_df_full.shape}\")\n",
    "#     #-------------------------\n",
    "#     merged_df_full = merge_rcpx_with_eemsp(\n",
    "#         df_rcpx=merged_df_full, \n",
    "#         df_eemsp=df_eemsp_reduce2, \n",
    "#         outg_rec_nb_idfr_rcpx ='index_0', \n",
    "#         trsf_pole_nb_idfr_rcpx='index_1', \n",
    "#         outg_rec_nb_idfr_eemsp='OUTG_REC_NB_TO_MERGE', \n",
    "#         location_nb_idfr_eemsp='LOCATION_NB', \n",
    "#         set_index=True\n",
    "#     )\n",
    "#     #-------------------------\n",
    "#     print(\"\\nShapes AFTER merging\")\n",
    "#     print(f\"merged_df_full.shape          = {merged_df_full.shape}\")"
   ]
  },
  {
   "cell_type": "code",
   "execution_count": null,
   "id": "31ee0218",
   "metadata": {},
   "outputs": [],
   "source": []
  },
  {
   "cell_type": "code",
   "execution_count": null,
   "id": "b85940bb",
   "metadata": {},
   "outputs": [],
   "source": [
    "df_eemsp_reduce2 = Utilities_df.make_all_column_names_uppercase(df_eemsp_reduce2, cols_to_exclude=['n_eemsp'])"
   ]
  },
  {
   "cell_type": "code",
   "execution_count": null,
   "id": "ce66d96d",
   "metadata": {},
   "outputs": [],
   "source": [
    "final_df = final_df.set_index([final_df.index, final_df.index])"
   ]
  },
  {
   "cell_type": "code",
   "execution_count": null,
   "id": "36cf9a88",
   "metadata": {},
   "outputs": [],
   "source": [
    "print(\"\\nShapes BEFORE merging\")\n",
    "print(f\"final_df.shape          = {final_df.shape}\")\n",
    "#-------------------------\n",
    "final_df = merge_rcpx_with_eemsp(\n",
    "    df_rcpx=final_df, \n",
    "    df_eemsp=df_eemsp_reduce2, \n",
    "    outg_rec_nb_idfr_rcpx ='index_0', \n",
    "    trsf_pole_nb_idfr_rcpx='index_1', \n",
    "    outg_rec_nb_idfr_eemsp='OUTG_REC_NB', \n",
    "    location_nb_idfr_eemsp='LOCATION_NB', \n",
    "    set_index=True\n",
    ")\n",
    "#-------------------------\n",
    "print(\"\\nShapes AFTER merging\")\n",
    "print(f\"final_df.shape          = {final_df.shape}\")"
   ]
  },
  {
   "cell_type": "code",
   "execution_count": null,
   "id": "f021cd4e",
   "metadata": {},
   "outputs": [],
   "source": [
    "final_df"
   ]
  },
  {
   "cell_type": "code",
   "execution_count": null,
   "id": "7273af3f",
   "metadata": {},
   "outputs": [],
   "source": [
    "final_df=final_df.droplevel(0, axis=0)\n",
    "final_df[('EEMSP_0', 'INSTALL_DT')] = (prediction_date-final_df[('EEMSP_0', 'INSTALL_DT')]).dt.total_seconds()/(60*60*24*365)"
   ]
  },
  {
   "cell_type": "code",
   "execution_count": null,
   "id": "28ef87ae",
   "metadata": {},
   "outputs": [],
   "source": [
    "final_df"
   ]
  },
  {
   "cell_type": "code",
   "execution_count": null,
   "id": "32e3b08b",
   "metadata": {},
   "outputs": [],
   "source": []
  },
  {
   "cell_type": "code",
   "execution_count": null,
   "id": "9892a645",
   "metadata": {},
   "outputs": [],
   "source": [
    "final_df"
   ]
  },
  {
   "cell_type": "code",
   "execution_count": null,
   "id": "316568f6",
   "metadata": {},
   "outputs": [],
   "source": []
  },
  {
   "cell_type": "code",
   "execution_count": null,
   "id": "edfe9f8f",
   "metadata": {},
   "outputs": [],
   "source": [
    "final_df"
   ]
  },
  {
   "cell_type": "code",
   "execution_count": null,
   "id": "6f741acd",
   "metadata": {},
   "outputs": [],
   "source": []
  },
  {
   "cell_type": "code",
   "execution_count": null,
   "id": "f9a1f0aa",
   "metadata": {},
   "outputs": [],
   "source": []
  },
  {
   "cell_type": "code",
   "execution_count": null,
   "id": "bfa4b4c9",
   "metadata": {},
   "outputs": [],
   "source": [
    "import joblib\n",
    "forest_clf = joblib.load(r'C:\\Users\\s346557\\Documents\\LocalData\\dovs_and_end_events_data\\20230615\\Models\\All_EEMSP_agg_Top10_v2\\forest_clf.joblib')\n",
    "scaler = joblib.load(r'C:\\Users\\s346557\\Documents\\LocalData\\dovs_and_end_events_data\\20230615\\Models\\All_EEMSP_agg_Top10_v2\\scaler.joblib')"
   ]
  },
  {
   "cell_type": "code",
   "execution_count": null,
   "id": "a3f31f16",
   "metadata": {},
   "outputs": [],
   "source": [
    "full_data_df = pd.read_pickle(r'C:\\Users\\s346557\\Documents\\LocalData\\dovs_and_end_events_data\\20230615\\Models\\All_EEMSP_agg_Top10_v2\\full_data_df.pkl')"
   ]
  },
  {
   "cell_type": "code",
   "execution_count": null,
   "id": "80d8940e",
   "metadata": {},
   "outputs": [],
   "source": [
    "set(full_data_df.columns.tolist()).difference(set(final_df.columns.tolist()))"
   ]
  },
  {
   "cell_type": "code",
   "execution_count": null,
   "id": "cc44fef5",
   "metadata": {},
   "outputs": [],
   "source": [
    "set(final_df.columns.tolist()).difference(set(full_data_df.columns.tolist()))"
   ]
  },
  {
   "cell_type": "code",
   "execution_count": null,
   "id": "73d829b5",
   "metadata": {},
   "outputs": [],
   "source": [
    "full_data_df.columns.get_level_values(1).unique()"
   ]
  },
  {
   "cell_type": "code",
   "execution_count": null,
   "id": "e9a6aa0a",
   "metadata": {},
   "outputs": [],
   "source": [
    "full_data_df.columns.get_level_values(1).nunique()"
   ]
  },
  {
   "cell_type": "code",
   "execution_count": null,
   "id": "5ea86deb",
   "metadata": {},
   "outputs": [],
   "source": [
    "prediction_date.month"
   ]
  },
  {
   "cell_type": "code",
   "execution_count": null,
   "id": "056c81d1",
   "metadata": {},
   "outputs": [],
   "source": [
    "final_df[('dummy_lvl_0', 'outg_month')] = prediction_date.month"
   ]
  },
  {
   "cell_type": "code",
   "execution_count": null,
   "id": "5a2b26f9",
   "metadata": {},
   "outputs": [],
   "source": [
    "set(full_data_df.columns.tolist()).difference(set(final_df.columns.tolist()))"
   ]
  },
  {
   "cell_type": "code",
   "execution_count": null,
   "id": "80455c06",
   "metadata": {},
   "outputs": [],
   "source": []
  },
  {
   "cell_type": "code",
   "execution_count": null,
   "id": "c57ce386",
   "metadata": {},
   "outputs": [],
   "source": [
    "X_test = final_df[full_data_df.drop(columns=[('from_outg','from_outg')]).columns].copy()"
   ]
  },
  {
   "cell_type": "code",
   "execution_count": null,
   "id": "3d85b4c3",
   "metadata": {},
   "outputs": [],
   "source": [
    "le = preprocessing.LabelEncoder()\n",
    "cols_to_encode = full_data_df['EEMSP_0'].columns\n",
    "numeric_cols = ['KVA_SIZE', 'INSTALL_DT']\n",
    "cols_to_encode = [x for x in cols_to_encode if x not in numeric_cols]\n",
    "for col in cols_to_encode:\n",
    "    full_data_df[('EEMSP_0', col)] = full_data_df[('EEMSP_0', col)].astype(str)\n",
    "    X_test[('EEMSP_0', col)]       = X_test[('EEMSP_0', col)].astype(str)\n",
    "    #-----\n",
    "    le.fit(full_data_df[('EEMSP_0', col)])\n",
    "    #-----\n",
    "    X_test[('EEMSP_0', col)]   = le.transform(X_test[('EEMSP_0', col)])"
   ]
  },
  {
   "cell_type": "code",
   "execution_count": null,
   "id": "c3a449e1",
   "metadata": {},
   "outputs": [],
   "source": [
    "X_test"
   ]
  },
  {
   "cell_type": "code",
   "execution_count": null,
   "id": "ae6b4bb9",
   "metadata": {},
   "outputs": [],
   "source": []
  },
  {
   "cell_type": "code",
   "execution_count": null,
   "id": "42f021f5",
   "metadata": {},
   "outputs": [],
   "source": [
    "X_test = scaler.transform(X_test)"
   ]
  },
  {
   "cell_type": "code",
   "execution_count": null,
   "id": "94b06895",
   "metadata": {},
   "outputs": [],
   "source": [
    "y_pred = forest_clf.predict(X_test)"
   ]
  },
  {
   "cell_type": "code",
   "execution_count": null,
   "id": "4f5dbffd",
   "metadata": {},
   "outputs": [],
   "source": [
    "print(y_pred.sum())\n",
    "print(y_pred.shape[0])\n",
    "print(100*y_pred.sum()/y_pred.shape[0])"
   ]
  },
  {
   "cell_type": "code",
   "execution_count": null,
   "id": "27e282d8",
   "metadata": {},
   "outputs": [],
   "source": [
    "y_pred.sum()"
   ]
  },
  {
   "cell_type": "code",
   "execution_count": null,
   "id": "84dfda6f",
   "metadata": {},
   "outputs": [],
   "source": []
  }
 ],
 "metadata": {
  "kernelspec": {
   "display_name": "Python 3 (ipykernel)",
   "language": "python",
   "name": "python3"
  },
  "language_info": {
   "codemirror_mode": {
    "name": "ipython",
    "version": 3
   },
   "file_extension": ".py",
   "mimetype": "text/x-python",
   "name": "python",
   "nbconvert_exporter": "python",
   "pygments_lexer": "ipython3",
   "version": "3.9.7"
  }
 },
 "nbformat": 4,
 "nbformat_minor": 5
}
