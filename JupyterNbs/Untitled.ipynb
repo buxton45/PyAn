{
 "cells": [
  {
   "cell_type": "code",
   "execution_count": 1,
   "id": "343c0479",
   "metadata": {},
   "outputs": [],
   "source": [
    "%run AMINonVee.ipynb"
   ]
  },
  {
   "cell_type": "code",
   "execution_count": 2,
   "id": "185d54be",
   "metadata": {},
   "outputs": [],
   "source": [
    "from importlib import reload\n",
    "#reload(Utilities)\n",
    "\n",
    "import sys, os\n",
    "import re\n",
    "\n",
    "import pandas as pd\n",
    "import numpy as np\n",
    "from pandas.api.types import is_numeric_dtype\n",
    "from pandas.api.types import is_timedelta64_dtype\n",
    "from scipy import stats\n",
    "import datetime\n",
    "import time\n",
    "from natsort import natsorted, ns\n",
    "from packaging import version\n",
    "import itertools\n",
    "from dateutil.parser import parse\n",
    "from operator import itemgetter\n",
    "\n",
    "from pmdarima import auto_arima\n",
    "import statsmodels.api as sm\n",
    "from statsmodels.tsa.stattools import acovf, acf, pacf, pacf_yw, pacf_ols\n",
    "from pandas.plotting import lag_plot\n",
    "from statsmodels.graphics.tsaplots import plot_acf, plot_pacf\n",
    "from statsmodels.graphics.tsaplots import month_plot, quarter_plot, seasonal_plot\n",
    "from statsmodels.tsa.arima_model import ARMA, ARIMA, ARMAResults, ARIMAResults\n",
    "from statsmodels.tsa.statespace.sarimax import SARIMAX\n",
    "\n",
    "from arch import arch_model\n",
    "\n",
    "from scipy.stats.mstats import trim\n",
    "\n",
    "#---------------------------------------------------------------------\n",
    "import pyodbc\n",
    "#---------------------------------------------------------------------\n",
    "sys.path.insert(0, os.path.realpath('..'))\n",
    "import Utilities_config\n",
    "#---------------------------------------------------------------------\n",
    "import matplotlib as mpl\n",
    "import matplotlib.pyplot as plt\n",
    "import seaborn as sns\n",
    "from matplotlib.backends.backend_pdf import PdfPages\n",
    "import matplotlib.patches as mpatches\n",
    "from matplotlib.lines import Line2D\n",
    "import matplotlib.ticker as ticker\n",
    "from matplotlib import dates\n",
    "# import constants for the days of the week\n",
    "from matplotlib.dates import MO, TU, WE, TH, FR, SA, SU\n",
    "#---------------------------------------------------------------------\n",
    "sys.path.insert(0, Utilities_config.get_utilities_dir())\n",
    "import Utilities\n",
    "import Utilities_df\n",
    "import Plot_Box_sns\n",
    "import GrubbsTest\n",
    "import DickeyFullerTest as dft"
   ]
  },
  {
   "cell_type": "code",
   "execution_count": null,
   "id": "c4ba466b",
   "metadata": {},
   "outputs": [],
   "source": [
    "import warnings\n",
    "warnings.filterwarnings('ignore')"
   ]
  },
  {
   "cell_type": "code",
   "execution_count": null,
   "id": "fe48f8c5",
   "metadata": {},
   "outputs": [],
   "source": []
  },
  {
   "cell_type": "code",
   "execution_count": null,
   "id": "3f055978",
   "metadata": {},
   "outputs": [],
   "source": [
    "def build_mean_from_sum_and_counts(df, sum_x_col, n_counts_col, placement_col):\n",
    "    df[placement_col] = df[sum_x_col]/df[n_counts_col]\n",
    "    return df\n",
    "\n",
    "def build_std_from_mossom(df, sum_x_col, sum_x2_col, n_counts_col, placement_col, sample_std=True):\n",
    "    # mossom = Mean Of Sqaures minus Square Of Means\n",
    "    #   variance = std**2 ~ bar{x**2}-(bar{x})**2\n",
    "    # However, here I will actually be using sum(x**2) and sum(x) instead\n",
    "    #   ==> std**2 ~ (1/n)*sum(x**2) - (1/n**2)*sum(x)\n",
    "    # Default to sample std (std_s w/ n-1 in denominator), \n",
    "    #    not population std (std_p w/ n in denominator)\n",
    "    # \n",
    "    # std_p**2 = bar{x**2}-(bar{x})**2\n",
    "    #          = (1/n)*sum(x**2) - (1/n**2)*sum(x)\n",
    "    # std_s**2 = (n/(n-1))*std_p**2 = (n/(n-1))*(bar{x**2}-(bar{x})**2)\n",
    "    #          = (n/(n-1))*((1/n)*sum(x**2) - (1/n**2)*sum(x))\n",
    "    df[placement_col] = np.sqrt(\n",
    "        (df[sum_x2_col]/df[n_counts_col] - df[sum_x_col]*df[sum_x_col]/(df[n_counts_col]*df[n_counts_col]))\n",
    "    )\n",
    "    if sample_std:\n",
    "        df[placement_col] = df[placement_col]*np.sqrt((df[n_counts_col]/(df[n_counts_col]-1)))\n",
    "    return df\n",
    "\n",
    "def build_mean_and_std_from_sum_x_x2_and_counts(df, sum_x_col, sum_x2_col, n_counts_col, \n",
    "                                                placement_col_mean, placement_col_std, \n",
    "                                                sample_std=True):\n",
    "    df = build_mean_from_sum_and_counts(df, sum_x_col, n_counts_col, placement_col_mean)\n",
    "    df = build_std_from_mossom(df, sum_x_col, sum_x2_col, n_counts_col, placement_col_std)\n",
    "    return df"
   ]
  },
  {
   "cell_type": "code",
   "execution_count": null,
   "id": "cf1750ab",
   "metadata": {},
   "outputs": [],
   "source": [
    "# df_agg_cir: aggregate of all meters on circuit ==> one entry per time stamp for circuit\n",
    "# df_agg_xfmr: aggregate by xfmr on circuit ==> one entry per xfmr per time stamp for circuit\n",
    "# df_agg2_xfmr_cir: aggregate of all transformers on circuit\n",
    "#                   i.e., aggregate by xfmr followed by aggregate of circuit \n",
    "#                   ==> one entry per time stamp for circuit"
   ]
  },
  {
   "cell_type": "code",
   "execution_count": null,
   "id": "d8a654a8",
   "metadata": {},
   "outputs": [],
   "source": [
    "path_agg_cir = os.path.join(Utilities.get_local_data_dir(), r'sample_circuits\\NewMethod\\outg_rec_nb_11751094\\outg_rec_nb_11751094_2020_q4.csv')\n",
    "path_agg_xfmr = os.path.join(Utilities.get_local_data_dir(), r'sample_circuits\\NewMethod\\GroupByXfmr\\outg_rec_nb_11751094\\outg_rec_nb_11751094_2020_q4.csv')\n",
    "#path_agg2_xfmr_cir = os.path.join(Utilities.get_local_data_dir(), r'sample_circuits\\NewMethod\\GroupByXfmr_v2\\outg_rec_nb_11751094\\outg_rec_nb_11751094_2020_q4.csv')\n",
    "path_agg2_xfmr_cir = os.path.join(Utilities.get_local_data_dir(), r'sample_circuits\\NewMethod\\GroupByXfmr_v3_NET\\outg_rec_nb_11751094\\outg_rec_nb_11751094_2020_q4.csv')"
   ]
  },
  {
   "cell_type": "code",
   "execution_count": null,
   "id": "04db2a93",
   "metadata": {},
   "outputs": [],
   "source": [
    "df_agg_cir = pd.read_csv(path_agg_cir)\n",
    "df_agg_cir = Utilities_df.remove_prepend_from_columns_in_df(df_agg_cir)\n",
    "\n",
    "df_agg_xfmr = pd.read_csv(path_agg_xfmr)\n",
    "df_agg2_xfmr_cir = pd.read_csv(path_agg2_xfmr_cir)"
   ]
  },
  {
   "cell_type": "code",
   "execution_count": null,
   "id": "cd8999c5",
   "metadata": {},
   "outputs": [],
   "source": [
    "# keep = ['sum_value_sum', 'sum_value_sq_sum', 'mean_value_mean', 'mean_value_std', 'sum_counts', 'sum_counts_including_null']\n",
    "# drop = ['mean_value_sum', 'mean_value_sq_sum', 'sum_value_mean', 'sum_value_std', 'mean_counts', 'mean_counts_including_null']\n",
    "# df_agg2_xfmr_cir = df_agg2_xfmr_cir.drop(columns=drop)"
   ]
  },
  {
   "cell_type": "code",
   "execution_count": null,
   "id": "6c268a11",
   "metadata": {},
   "outputs": [],
   "source": [
    "print(f'df_agg_cir.shape       = {df_agg_cir.shape}')\n",
    "print(f'df_agg2_xfmr_cir.shape = {df_agg2_xfmr_cir.shape}')\n",
    "print(f'df_agg_xfmr.shape      = {df_agg_xfmr.shape}')"
   ]
  },
  {
   "cell_type": "code",
   "execution_count": null,
   "id": "3805788c",
   "metadata": {},
   "outputs": [],
   "source": [
    "gpby_cols = ['starttimeperiod', 'endtimeperiod', 'aep_endtime_utc', 'timezoneoffset', \n",
    "             'aep_derived_uom', 'aep_srvc_qlty_idntfr', 'aep_usage_dt']\n",
    "agg_dict = {'value_sum':['sum'], \n",
    "            'value_sq_sum':['sum'], \n",
    "            'value_mean':['mean'], \n",
    "            'value_std':['mean'], \n",
    "            'counts':['sum'], \n",
    "            'counts_including_null':['sum']}\n",
    "df_agg2_xfmr_cir_v2 = df_agg_xfmr.groupby(gpby_cols).agg(agg_dict)\n",
    "df_agg2_xfmr_cir_v2 = df_agg2_xfmr_cir_v2.reset_index()\n",
    "\n",
    "df_agg2_xfmr_cir_v2.columns = df_agg2_xfmr_cir_v2.columns.to_flat_index()\n",
    "rename_dict = {x:f'{x[1]}_{x[0]}' if x[1] else x[0] for x in df_agg2_xfmr_cir_v2.columns.tolist()}\n",
    "df_agg2_xfmr_cir_v2 = df_agg2_xfmr_cir_v2.rename(columns=rename_dict)"
   ]
  },
  {
   "cell_type": "code",
   "execution_count": null,
   "id": "3fe91742",
   "metadata": {},
   "outputs": [],
   "source": []
  },
  {
   "cell_type": "code",
   "execution_count": null,
   "id": "d2f201ad",
   "metadata": {},
   "outputs": [],
   "source": [
    "sum_x2_col = 'sum_value_sq_sum'\n",
    "sum_x_col = 'sum_value_sum'\n",
    "n_counts_col = 'sum_counts'\n",
    "placement_col_mean = 'value_mean_pool'\n",
    "placement_col_std = 'value_std_pool'\n",
    "\n",
    "df_agg2_xfmr_cir = build_mean_and_std_from_sum_x_x2_and_counts(df_agg2_xfmr_cir, sum_x_col, sum_x2_col, n_counts_col, \n",
    "                                                               placement_col_mean, placement_col_std)\n",
    "\n",
    "df_agg2_xfmr_cir_v2 = build_mean_and_std_from_sum_x_x2_and_counts(df_agg2_xfmr_cir_v2, sum_x_col, sum_x2_col, n_counts_col, \n",
    "                                                                  placement_col_mean, placement_col_std)"
   ]
  },
  {
   "cell_type": "code",
   "execution_count": null,
   "id": "85f22fe5",
   "metadata": {},
   "outputs": [],
   "source": [
    "sort_by=['aep_endtime_utc', 'aep_derived_uom', 'aep_srvc_qlty_idntfr']\n",
    "cols_to_compare = ['aep_endtime_utc', 'sum_value_sum', 'sum_value_sq_sum', 'mean_value_mean', \n",
    "                   'mean_value_std', 'sum_counts', 'sum_counts_including_null', 'value_mean_pool', 'value_std_pool']"
   ]
  },
  {
   "cell_type": "code",
   "execution_count": null,
   "id": "dcfdfffe",
   "metadata": {},
   "outputs": [],
   "source": [
    "approx_diffs = Utilities_df.get_dfs_diff_approx_ok(df_agg2_xfmr_cir, df_agg2_xfmr_cir_v2, sort_by=sort_by)\n",
    "if len(approx_diffs)==0:\n",
    "    print('EQUAL: df_agg2_xfmr_cir == df_agg2_xfmr_cir_v2')\n",
    "else:\n",
    "    print('NOT EQUAL: df_agg2_xfmr_cir != df_agg2_xfmr_cir_v2')"
   ]
  },
  {
   "cell_type": "code",
   "execution_count": null,
   "id": "81080976",
   "metadata": {},
   "outputs": [],
   "source": [
    "\n",
    "df_agg_cir = df_agg_cir.sort_values(by=sort_by, ignore_index=True)\n",
    "df_agg2_xfmr_cir = df_agg2_xfmr_cir.sort_values(by=sort_by, ignore_index=True)\n",
    "df_agg2_xfmr_cir_v2 = df_agg2_xfmr_cir_v2.sort_values(by=sort_by, ignore_index=True)"
   ]
  },
  {
   "cell_type": "code",
   "execution_count": null,
   "id": "03987396",
   "metadata": {},
   "outputs": [],
   "source": [
    "# Between df_agg_cir and others, the following columns should be equal\n",
    "matching_cols_dict = {\n",
    "    'value_sum':'sum_value_sum', \n",
    "    'value_sq_sum':'sum_value_sq_sum', \n",
    "    'value_mean':'value_mean_pool', \n",
    "    'value_std':'value_std_pool', \n",
    "    'counts':'sum_counts', \n",
    "    'counts_including_null':'sum_counts_including_null'\n",
    "}"
   ]
  },
  {
   "cell_type": "code",
   "execution_count": null,
   "id": "ffddccfa",
   "metadata": {},
   "outputs": [],
   "source": [
    "approx_diffs = Utilities_df.get_dfs_diff_approx_ok(df_agg_cir[matching_cols_dict.keys()].rename(columns=matching_cols_dict), \n",
    "                                                   df_agg2_xfmr_cir[matching_cols_dict.values()])\n",
    "if len(approx_diffs)==0:\n",
    "    print('EQUAL: df_agg_cir == df_agg2_xfmr_cir in expected columns')\n",
    "else:\n",
    "    print('NOT EQUAL: df_agg_cir != df_agg2_xfmr_cir in expected columns')"
   ]
  },
  {
   "cell_type": "code",
   "execution_count": null,
   "id": "06faf69b",
   "metadata": {},
   "outputs": [],
   "source": [
    "approx_diffs = Utilities_df.get_dfs_diff_approx_ok(df_agg_cir[matching_cols_dict.keys()].rename(columns=matching_cols_dict), \n",
    "                                                   df_agg2_xfmr_cir_v2[matching_cols_dict.values()])\n",
    "if len(approx_diffs)==0:\n",
    "    print('df_agg_cir EQUALS df_agg2_xfmr_cir_v2 in expected columns')\n",
    "else:\n",
    "    print('df_agg_cir DOES NOT EQUAL df_agg2_xfmr_cir_v2 in expected columns')"
   ]
  },
  {
   "cell_type": "code",
   "execution_count": null,
   "id": "f7c321ba",
   "metadata": {},
   "outputs": [],
   "source": []
  },
  {
   "cell_type": "code",
   "execution_count": null,
   "id": "78de921f",
   "metadata": {},
   "outputs": [],
   "source": []
  },
  {
   "cell_type": "code",
   "execution_count": null,
   "id": "5fbd101f",
   "metadata": {},
   "outputs": [],
   "source": [
    "df_agg_cir.head()"
   ]
  },
  {
   "cell_type": "code",
   "execution_count": null,
   "id": "6045ad45",
   "metadata": {},
   "outputs": [],
   "source": [
    "df_agg2_xfmr_cir.head()"
   ]
  },
  {
   "cell_type": "code",
   "execution_count": null,
   "id": "2acdbe16",
   "metadata": {},
   "outputs": [],
   "source": [
    "df_agg2_xfmr_cir_v2.head()"
   ]
  },
  {
   "cell_type": "code",
   "execution_count": null,
   "id": "a5a1cfb0",
   "metadata": {},
   "outputs": [],
   "source": []
  },
  {
   "cell_type": "code",
   "execution_count": null,
   "id": "b830a2eb",
   "metadata": {},
   "outputs": [],
   "source": [
    "tmp = pd.read_csv(os.path.join(Utilities.get_local_data_dir(), r'sample_circuits\\NewMethod\\GroupByXfmr_v2\\outg_rec_nb_11751094\\outg_rec_nb_11751094_2020_q4.csv'))"
   ]
  },
  {
   "cell_type": "code",
   "execution_count": null,
   "id": "9528dcea",
   "metadata": {},
   "outputs": [],
   "source": [
    "tmp.columns"
   ]
  },
  {
   "cell_type": "code",
   "execution_count": null,
   "id": "9047bbe6",
   "metadata": {},
   "outputs": [],
   "source": [
    "tmp.head()"
   ]
  },
  {
   "cell_type": "code",
   "execution_count": null,
   "id": "0506d98e",
   "metadata": {},
   "outputs": [],
   "source": []
  },
  {
   "cell_type": "code",
   "execution_count": null,
   "id": "88814aed",
   "metadata": {},
   "outputs": [],
   "source": [
    "file_dir = os.path.join(Utilities.get_local_data_dir(), r'sample_circuits\\NewMethod\\GroupByXfmr_v2\\outg_rec_nb_11751094')\n",
    "glob_pattern=r'outg_rec_nb_*q[0-9].csv'\n",
    "value_cols = ['sum_value_sum', 'mean_value_sum', 'sum_value_sq_sum',\n",
    "              'mean_value_sq_sum', 'sum_value_mean', 'mean_value_mean',\n",
    "              'sum_value_std', 'mean_value_std', 'sum_counts', 'mean_counts',\n",
    "              'sum_counts_including_null', 'mean_counts_including_null']\n",
    "cols_of_interest = ['starttimeperiod', 'endtimeperiod', 'aep_endtime_utc', 'timezoneoffset',\n",
    "                    'aep_derived_uom', 'aep_srvc_qlty_idntfr', 'aep_usage_dt',\n",
    "                    'sum_value_sum', 'mean_value_sum', 'sum_value_sq_sum',\n",
    "                    'mean_value_sq_sum', 'sum_value_mean', 'mean_value_mean',\n",
    "                    'sum_value_std', 'mean_value_std', 'sum_counts', 'mean_counts',\n",
    "                    'sum_counts_including_null', 'mean_counts_including_null']\n",
    "combine_kwh_delivered_and_received=False\n",
    "merge_and_groupby_cols=['aep_endtime_utc']\n",
    "verbose=True"
   ]
  },
  {
   "cell_type": "code",
   "execution_count": null,
   "id": "1c111ab5",
   "metadata": {},
   "outputs": [],
   "source": [
    "# # keep = ['sum_value_sum', 'sum_value_sq_sum', 'mean_value_mean', 'mean_value_std', 'sum_counts', 'sum_counts_including_null']\n",
    "# # drop = ['mean_value_sum', 'mean_value_sq_sum', 'sum_value_mean', 'sum_value_std', 'mean_counts', 'mean_counts_including_null']\n",
    "\n",
    "# file_dir = os.path.join(Utilities.get_local_data_dir(), r'sample_circuits\\NewMethod\\GroupByXfmr_v2\\outg_rec_nb_11751094')\n",
    "# glob_pattern=r'outg_rec_nb_*q[0-9].csv'\n",
    "# value_cols = ['sum_value_sum', 'sum_value_sq_sum', 'mean_value_mean', 'mean_value_std', \n",
    "#               'sum_counts', 'sum_counts_including_null']\n",
    "# cols_of_interest = ['starttimeperiod', 'endtimeperiod', 'aep_endtime_utc', 'timezoneoffset',\n",
    "#                     'aep_derived_uom', 'aep_srvc_qlty_idntfr', 'aep_usage_dt',\n",
    "#                     'sum_value_sum', 'sum_value_sq_sum', 'mean_value_mean', 'mean_value_std', \n",
    "#                     'sum_counts', 'sum_counts_including_null']\n",
    "# combine_kwh_delivered_and_received=False\n",
    "# merge_and_groupby_cols=['aep_endtime_utc']\n",
    "# verbose=True"
   ]
  },
  {
   "cell_type": "code",
   "execution_count": null,
   "id": "f68bfbcb",
   "metadata": {},
   "outputs": [],
   "source": [
    "kwh_vlt_dfs_xfmr_cir_dict = AMINonVee.assemble_kwh_vlt_dfs_from_saved_csvs(file_dir=file_dir, glob_pattern=glob_pattern, \n",
    "                                                                 value_cols=value_cols, \n",
    "                                                                 cols_of_interest=cols_of_interest, \n",
    "                                                                 combine_kwh_delivered_and_received=combine_kwh_delivered_and_received, \n",
    "                                                                 merge_and_groupby_cols=merge_and_groupby_cols, \n",
    "                                                                 verbose=verbose)"
   ]
  },
  {
   "cell_type": "code",
   "execution_count": null,
   "id": "9b34e983",
   "metadata": {},
   "outputs": [],
   "source": [
    "kwh_vlt_dfs_xfmr_cir_dict.keys()"
   ]
  },
  {
   "cell_type": "code",
   "execution_count": null,
   "id": "4fd8a77d",
   "metadata": {},
   "outputs": [],
   "source": []
  },
  {
   "cell_type": "code",
   "execution_count": null,
   "id": "3f486761",
   "metadata": {},
   "outputs": [],
   "source": [
    "df_xfmr_cir_kwh_15T = kwh_vlt_dfs_xfmr_cir_dict['kwh']\n",
    "df_xfmr_cir_vlt_15T = kwh_vlt_dfs_xfmr_cir_dict['vlt']"
   ]
  },
  {
   "cell_type": "code",
   "execution_count": null,
   "id": "723228d7",
   "metadata": {},
   "outputs": [],
   "source": []
  },
  {
   "cell_type": "code",
   "execution_count": null,
   "id": "378dfd8d",
   "metadata": {},
   "outputs": [],
   "source": [
    "df_xfmr_cir_kwh_15T[['aep_derived_uom', 'aep_srvc_qlty_idntfr', 'sum_value_sum', 'mean_value_sum', 'sum_value_sq_sum',\n",
    "       'mean_value_sq_sum', 'sum_value_mean', 'mean_value_mean',\n",
    "       'sum_value_std', 'mean_value_std', 'sum_counts', 'mean_counts',\n",
    "       'sum_counts_including_null', 'mean_counts_including_null']]"
   ]
  },
  {
   "cell_type": "code",
   "execution_count": null,
   "id": "26dbbe25",
   "metadata": {},
   "outputs": [],
   "source": []
  },
  {
   "cell_type": "code",
   "execution_count": null,
   "id": "e03aa054",
   "metadata": {},
   "outputs": [],
   "source": [
    "sum_x2_col = 'sum_value_sq_sum'\n",
    "sum_x_col = 'sum_value_sum'\n",
    "n_counts_col = 'sum_counts'\n",
    "placement_col_mean = 'value_mean_pool'\n",
    "placement_col_std = 'value_std_pool'\n",
    "\n",
    "df_xfmr_cir_kwh_15T = build_mean_and_std_from_sum_x_x2_and_counts(df_xfmr_cir_kwh_15T, sum_x_col, sum_x2_col, n_counts_col, \n",
    "                                                                  placement_col_mean, placement_col_std)\n"
   ]
  },
  {
   "cell_type": "code",
   "execution_count": null,
   "id": "f80199f7",
   "metadata": {},
   "outputs": [],
   "source": [
    "# keep = ['sum_value_sum', 'sum_value_sq_sum', 'mean_value_mean', 'mean_value_std', 'sum_counts', 'sum_counts_including_null']\n",
    "# drop = ['mean_value_sum', 'mean_value_sq_sum', 'sum_value_mean', 'sum_value_std', 'mean_counts', 'mean_counts_including_null']\n",
    "# df_xfmr_cir_kwh_15T = df_xfmr_cir_kwh_15T.drop(columns=drop)"
   ]
  },
  {
   "cell_type": "code",
   "execution_count": null,
   "id": "7021a8e7",
   "metadata": {},
   "outputs": [],
   "source": [
    "df_xfmr_cir_kwh_15T.head()"
   ]
  },
  {
   "cell_type": "code",
   "execution_count": null,
   "id": "111ff8b9",
   "metadata": {},
   "outputs": [],
   "source": []
  },
  {
   "cell_type": "code",
   "execution_count": null,
   "id": "b9f5b521",
   "metadata": {},
   "outputs": [],
   "source": []
  },
  {
   "cell_type": "code",
   "execution_count": null,
   "id": "0f680fa7",
   "metadata": {},
   "outputs": [],
   "source": []
  },
  {
   "cell_type": "code",
   "execution_count": null,
   "id": "574aa996",
   "metadata": {},
   "outputs": [],
   "source": [
    "def build_circuit_non_vals(df, non_val_cols, \n",
    "                           aep_srvc_qlty_idntfr_col='aep_srvc_qlty_idntfr', \n",
    "                           aep_srvc_qlty_idntfr_vals={'rec':'RECEIVED', 'del':'DELIVERED', 'tot':'TOTAL'}):\n",
    "    # Typically, df_rec, df_del, and df_tot will not all contain to entire set of\n",
    "    # dates.  To simplify the merge, first grab the total set of non_vals_df.\n",
    "    # This is achieved using the combine_first method, which will keep the first non-null\n",
    "    # element between the two datasets.\n",
    "    # Then, merges can be done using just the value_cols and time_idx.\n",
    "    # The non_vals_df will be combined with the vals_df in the end\n",
    "    #------------------------\n",
    "    df_rec = df[df[aep_srvc_qlty_idntfr_col]==aep_srvc_qlty_idntfr_vals['rec']]\n",
    "    df_del = df[df[aep_srvc_qlty_idntfr_col]==aep_srvc_qlty_idntfr_vals['del']]\n",
    "    df_tot = df[df[aep_srvc_qlty_idntfr_col]==aep_srvc_qlty_idntfr_vals['tot']]\n",
    "    #------------------------\n",
    "    non_vals_df = df_del[non_val_cols].combine_first(df_rec[non_val_cols])\n",
    "    non_vals_df = non_vals_df.combine_first(df_tot[non_val_cols])\n",
    "    assert(non_vals_df.isna().sum().sum()==0) #TODO should this assert remain?\n",
    "    return non_vals_df"
   ]
  },
  {
   "cell_type": "code",
   "execution_count": null,
   "id": "21606949",
   "metadata": {},
   "outputs": [],
   "source": [
    "def get_ciruit_total_vals_method2(df, non_val_cols, \n",
    "                                  value_cols_dict = {'value_sum_cir_col':'value_sum_cir', \n",
    "                                                     'counts_cir_col':'counts_cir', \n",
    "                                                     'value_mean_cir_col':'value_mean_cir'}, \n",
    "                                  remove_intermediate_cols=True, \n",
    "                                  aep_srvc_qlty_idntfr_col='aep_srvc_qlty_idntfr', \n",
    "                                  aep_srvc_qlty_idntfr_vals={'rec':'RECEIVED', 'del':'DELIVERED', 'tot':'TOTAL'}, \n",
    "                                  maintain_original_col_order=True):\n",
    "    # TODO How to enforce assert(len(aep_srvc_qlty_idntfrs)<=3)\n",
    "    #---------------------------------------------------\n",
    "    expected_keys = ['counts_cir_col', 'value_mean_cir_col', 'value_sum_cir_col']\n",
    "    assert(len(set(value_cols_dict.keys()).intersection(set(expected_keys)))==3)    \n",
    "    value_cols = list(value_cols_dict.values())\n",
    "    #---------------------------------------------------\n",
    "    df_rec = df[df[aep_srvc_qlty_idntfr_col]==aep_srvc_qlty_idntfr_vals['rec']]\n",
    "    df_del = df[df[aep_srvc_qlty_idntfr_col]==aep_srvc_qlty_idntfr_vals['del']]\n",
    "    df_tot = df[df[aep_srvc_qlty_idntfr_col]==aep_srvc_qlty_idntfr_vals['tot']]\n",
    "    #---------------------------------------------------    \n",
    "    # This essentially enforces assert(len(aep_srvc_qlty_idntfrs)<=3)\n",
    "    assert(df_rec.shape[0]==df_rec.index.nunique())\n",
    "    assert(df_del.shape[0]==df_del.index.nunique())\n",
    "    assert(df_tot.shape[0]==df_tot.index.nunique())\n",
    "    #---------------------------------------------------\n",
    "    return_df = df_del[value_cols].merge(df_rec[value_cols], \n",
    "                                         left_index=True, right_index=True, \n",
    "                                         how='outer', suffixes=('_del', '_rec')) \n",
    "    # Note: Suffix argument will do nothing here, as df_tot contains value_cols, whereas\n",
    "    #       return_df currently contains [f'x_{del}' for x in value_cols] and [f'x_{rec}' for x in value_cols]\n",
    "    #       Therefore, there are no overlapping column names.  As such, we must rename using .rename\n",
    "    return_df = return_df.merge(df_tot[value_cols], left_index=True, right_index=True, how='outer')\n",
    "    return_df = return_df.rename(columns = {x:f'{x}_tot' for x in value_cols})\n",
    "    # I used an outer merge so there will always been an entry for delivered, received, and total in return_df\n",
    "    # However, if one of these did not exist in the original, the outer merge will leave a NaN value in the cell\n",
    "    # Therefore, I call return_df.fillna(0) to replace any of these NaNs with 0\n",
    "    return_df = return_df.fillna(0)\n",
    "    #---------------------------------------------------\n",
    "    value_sum_cir_col = value_cols_dict['value_sum_cir_col']\n",
    "    counts_cir_col = value_cols_dict['counts_cir_col']\n",
    "    value_mean_cir_col = value_cols_dict['value_mean_cir_col']\n",
    "    #---------------------------------------------------\n",
    "    # Made a list of newly created columns, which will be need if remove_intermediate_cols==True\n",
    "    new_col_tags = ['_del', '_rec', '_tot']\n",
    "    new_cols = [value_col+tag for value_col in value_cols for tag in new_col_tags]\n",
    "    new_cols.append(f\"{counts_cir_col}_del_plus_tot\")\n",
    "    #---------------------------------------------------\n",
    "    return_df[f\"{counts_cir_col}_del_plus_tot\"] = (return_df[f\"{counts_cir_col}_del\"] +\n",
    "                                                   return_df[f\"{counts_cir_col}_tot\"])\n",
    "    return_df[counts_cir_col] = return_df[[f\"{counts_cir_col}_rec\", \n",
    "                                           f\"{counts_cir_col}_del_plus_tot\"]].max(axis=1)\n",
    "    return_df[value_sum_cir_col] = (return_df[f\"{value_sum_cir_col}_tot\"] +\n",
    "                                    return_df[f\"{value_sum_cir_col}_del\"] -\n",
    "                                    return_df[f\"{value_sum_cir_col}_rec\"])\n",
    "    return_df[value_mean_cir_col] = return_df[value_sum_cir_col]/return_df[value_cols_dict['counts_cir_col']]\n",
    "    return_df[counts_cir_col]=return_df[counts_cir_col].astype('int64')\n",
    "    #---------------------------------------------------\n",
    "    if remove_intermediate_cols:\n",
    "        return_df = return_df.drop(columns=new_cols)\n",
    "    #---------------------------------------------------\n",
    "    non_vals_df = build_circuit_non_vals(df, non_val_cols, \n",
    "                                         aep_srvc_qlty_idntfr_col=aep_srvc_qlty_idntfr_col, \n",
    "                                         aep_srvc_qlty_idntfr_vals=aep_srvc_qlty_idntfr_vals)\n",
    "    assert(non_vals_df.shape[0]==return_df.shape[0])\n",
    "    return_df = return_df.merge(non_vals_df, how='inner', left_index=True, right_index=True)\n",
    "    return_df[aep_srvc_qlty_idntfr_col] = 'TOTAL'\n",
    "    if maintain_original_col_order:\n",
    "        cols_from_og = [x for x in df.columns if x in return_df.columns]\n",
    "        return_df = Utilities_df.move_cols_to_front(return_df, cols_from_og)\n",
    "    return return_df"
   ]
  },
  {
   "cell_type": "code",
   "execution_count": null,
   "id": "17c40b43",
   "metadata": {},
   "outputs": [],
   "source": [
    "df_xfmr_cir_kwh_15T.columns"
   ]
  },
  {
   "cell_type": "code",
   "execution_count": null,
   "id": "5722cbbd",
   "metadata": {},
   "outputs": [],
   "source": [
    "#TODO why 'aep_srvc_qlty_idntfr' not in non_val_cols?\n",
    "non_val_cols = ['starttimeperiod', 'endtimeperiod', 'aep_endtime_utc', 'timezoneoffset',\n",
    "                'aep_derived_uom', 'aep_usage_dt', 'aep_endtime_utc_from_timestamp', \n",
    "                'starttimeperiod_utc', 'endtimeperiod_utc']\n",
    "value_cols_dict = {'value_sum_cir_col':'sum_value_sum', \n",
    "                   'counts_cir_col':'sum_counts', \n",
    "                   'value_mean_cir_col':'mean_value_sum'}"
   ]
  },
  {
   "cell_type": "code",
   "execution_count": null,
   "id": "0b615d89",
   "metadata": {},
   "outputs": [],
   "source": [
    "df_xfmr_cir_kwh_15T_2 = get_ciruit_total_vals_method2(df_xfmr_cir_kwh_15T, non_val_cols, \n",
    "                                                      value_cols_dict=value_cols_dict, remove_intermediate_cols=True)"
   ]
  },
  {
   "cell_type": "code",
   "execution_count": null,
   "id": "5d7be6c2",
   "metadata": {},
   "outputs": [],
   "source": [
    "df_xfmr_cir_kwh_15T_2.head()"
   ]
  },
  {
   "cell_type": "code",
   "execution_count": null,
   "id": "61468a5b",
   "metadata": {},
   "outputs": [],
   "source": []
  },
  {
   "cell_type": "code",
   "execution_count": null,
   "id": "6c0c0b0d",
   "metadata": {},
   "outputs": [],
   "source": [
    "def build_net_counts_for_del_rec_tot(merged_df, col_name_base, \n",
    "           col_tags = {'rec':'_rec', 'del':'_del', 'tot':'_tot'}, \n",
    "           remove_intermediate_cols=True):\n",
    "    col_rec = col_name_base+col_tags['rec']\n",
    "    col_del = col_name_base+col_tags['del']\n",
    "    col_tot = col_name_base+col_tags['tot']\n",
    "    #---------------------------------------------------    \n",
    "    merged_df[f\"{col_name_base}_del_plus_tot\"] = merged_df[col_del] + merged_df[col_tot]\n",
    "    merged_df[col_name_base] = merged_df[[col_rec, f\"{col_name_base}_del_plus_tot\"]].max(axis=1)\n",
    "    merged_df[col_name_base]=merged_df[col_name_base].astype('int64')\n",
    "    #---------------------------------------------------\n",
    "    if remove_intermediate_cols:\n",
    "        merged_df = merged_df.drop(columns=[col_rec, col_del, col_tot, f\"{col_name_base}_del_plus_tot\"])\n",
    "    return merged_df\n",
    "\n",
    "def build_net_value_for_del_rec_tot(merged_df, col_name_base, \n",
    "                                    col_tags = {'rec':'_rec', 'del':'_del', 'tot':'_tot'}, \n",
    "                                    remove_intermediate_cols=True):\n",
    "    col_rec = col_name_base+col_tags['rec']\n",
    "    col_del = col_name_base+col_tags['del']\n",
    "    col_tot = col_name_base+col_tags['tot']\n",
    "    #--------------------------------------------------- \n",
    "    merged_df[col_name_base] = (merged_df[col_tot] +\n",
    "                                merged_df[col_del] -\n",
    "                                merged_df[col_rec])\n",
    "    #--------------------------------------------------- \n",
    "    if remove_intermediate_cols:\n",
    "        merged_df = merged_df.drop(columns=[col_rec, col_del, col_tot])\n",
    "    return merged_df\n",
    "\n",
    "\n",
    "def get_ciruit_total_vals(df, non_val_cols, \n",
    "                          value_cols_dict_list = [\n",
    "                              {'value_col':'sum_value_sum', 'counts_col':'sum_counts', 'mean_col':'mean_value_sum'}, \n",
    "                              {'value_col':'sum_value_sq_sum', 'counts_col':'sum_counts', 'mean_col':'mean_value_sq_sum'}, \n",
    "                              {'value_col':'sum_value_mean', 'counts_col':'sum_counts', 'mean_col':'mean_value_mean'},\n",
    "                              {'value_col':'sum_value_std', 'counts_col':'sum_counts', 'mean_col':'mean_value_std'}\n",
    "                          ], \n",
    "                          remove_intermediate_cols=True, \n",
    "                          aep_srvc_qlty_idntfr_col='aep_srvc_qlty_idntfr', \n",
    "                          aep_srvc_qlty_idntfr_vals={'rec':'RECEIVED', 'del':'DELIVERED', 'tot':'TOTAL'}, \n",
    "                          maintain_original_col_order=True):\n",
    "    #--------------------------------------------------- \n",
    "    value_cols = [x['value_col'] for x in value_cols_dict_list]\n",
    "    counts_cols = list(set(x['counts_col'] for x in value_cols_dict_list))\n",
    "    merge_cols = value_cols + counts_cols\n",
    "    #---------------------------------------------------\n",
    "    df_rec = df[df[aep_srvc_qlty_idntfr_col]==aep_srvc_qlty_idntfr_vals['rec']]\n",
    "    df_del = df[df[aep_srvc_qlty_idntfr_col]==aep_srvc_qlty_idntfr_vals['del']]\n",
    "    df_tot = df[df[aep_srvc_qlty_idntfr_col]==aep_srvc_qlty_idntfr_vals['tot']]\n",
    "    #---------------------------------------------------    \n",
    "    # This essentially enforces assert(len(aep_srvc_qlty_idntfrs)<=3)\n",
    "    # -- each line ensures that every date in df has exactly one entry\n",
    "    assert(df_rec.shape[0]==df_rec.index.nunique())\n",
    "    assert(df_del.shape[0]==df_del.index.nunique())\n",
    "    assert(df_tot.shape[0]==df_tot.index.nunique())\n",
    "    #---------------------------------------------------\n",
    "    return_df = df_del[merge_cols].merge(df_rec[merge_cols], \n",
    "                                         left_index=True, right_index=True, \n",
    "                                         how='outer', suffixes=('_del', '_rec')) \n",
    "    # Note: Suffix argument will do nothing here, as df_tot contains merge_cols, whereas\n",
    "    #       return_df currently contains [f'x_{del}' for x in merge_cols] and [f'x_{rec}' for x in merge_cols]\n",
    "    #       Therefore, there are no overlapping column names.  As such, we must rename using .rename\n",
    "    return_df = return_df.merge(df_tot[merge_cols], left_index=True, right_index=True, how='outer')\n",
    "    return_df = return_df.rename(columns = {x:f'{x}_tot' for x in merge_cols})\n",
    "    # I used an outer merge so there will always been an entry for delivered, received, and total in return_df\n",
    "    # However, if one of these did not exist in the original, the outer merge will leave a NaN value in the cell\n",
    "    # Therefore, I call return_df.fillna(0) to replace any of these NaNs with 0\n",
    "    return_df = return_df.fillna(0)\n",
    "    #---------------------------------------------------\n",
    "    for counts_col in counts_cols:\n",
    "        return_df = build_net_counts_for_del_rec_tot(return_df, col_name_base=counts_col, \n",
    "                                                     col_tags = {'rec':'_rec', 'del':'_del', 'tot':'_tot'}, \n",
    "                                                     remove_intermediate_cols=remove_intermediate_cols)\n",
    "    for value_col in value_cols:\n",
    "        return_df = build_net_value_for_del_rec_tot(return_df, col_name_base=value_col, \n",
    "                                                    col_tags = {'rec':'_rec', 'del':'_del', 'tot':'_tot'}, \n",
    "                                                    remove_intermediate_cols=remove_intermediate_cols)\n",
    "    for cols_dict in value_cols_dict_list:\n",
    "        if (cols_dict.get('mean_col', None) is None or \n",
    "            cols_dict.get('counts_col', None) is None):\n",
    "            continue\n",
    "        return_df = build_mean_from_sum_and_counts(return_df, cols_dict['value_col'], cols_dict['counts_col'], cols_dict['mean_col'])\n",
    "    #---------------------------------------------------\n",
    "    non_vals_df = build_circuit_non_vals(df, non_val_cols, \n",
    "                                         aep_srvc_qlty_idntfr_col=aep_srvc_qlty_idntfr_col, \n",
    "                                         aep_srvc_qlty_idntfr_vals=aep_srvc_qlty_idntfr_vals)\n",
    "    assert(non_vals_df.shape[0]==return_df.shape[0])\n",
    "    return_df = return_df.merge(non_vals_df, how='inner', left_index=True, right_index=True)\n",
    "    return_df[aep_srvc_qlty_idntfr_col] = 'TOTAL'\n",
    "    if maintain_original_col_order:\n",
    "        cols_from_og = [x for x in df.columns if x in return_df.columns]\n",
    "        return_df = Utilities_df.move_cols_to_front(return_df, cols_from_og)\n",
    "    return return_df"
   ]
  },
  {
   "cell_type": "code",
   "execution_count": null,
   "id": "943cfc44",
   "metadata": {},
   "outputs": [],
   "source": []
  },
  {
   "cell_type": "code",
   "execution_count": null,
   "id": "ecc79ee4",
   "metadata": {},
   "outputs": [],
   "source": [
    "df = df_xfmr_cir_kwh_15T.copy()\n",
    "\n",
    "#TODO why 'aep_srvc_qlty_idntfr' not in non_val_cols?\n",
    "non_val_cols = ['starttimeperiod', 'endtimeperiod', 'aep_endtime_utc', 'timezoneoffset',\n",
    "                'aep_derived_uom', 'aep_usage_dt', 'aep_endtime_utc_from_timestamp', \n",
    "                'starttimeperiod_utc', 'endtimeperiod_utc']\n",
    "value_cols_dict = {'value_sum_cir_col':'sum_value_sum', \n",
    "                   'counts_cir_col':'sum_counts', \n",
    "                   'value_mean_cir_col':'sum_value_mean'}\n",
    "remove_intermediate_cols=True\n",
    "aep_srvc_qlty_idntfr_col='aep_srvc_qlty_idntfr'\n",
    "aep_srvc_qlty_idntfr_vals={'rec':'RECEIVED', 'del':'DELIVERED', 'tot':'TOTAL'}\n",
    "maintain_original_col_order=True\n",
    "\n",
    "df_rec = df_xfmr_cir_kwh_15T[df_xfmr_cir_kwh_15T['aep_srvc_qlty_idntfr']=='RECEIVED']\n",
    "df_del = df_xfmr_cir_kwh_15T[df_xfmr_cir_kwh_15T['aep_srvc_qlty_idntfr']=='DELIVERED']\n",
    "df_tot = df_xfmr_cir_kwh_15T[df_xfmr_cir_kwh_15T['aep_srvc_qlty_idntfr']=='TOTAL']\n",
    "#---------------------------------------------------    \n",
    "# This essentially enforces assert(len(aep_srvc_qlty_idntfrs)<=3)\n",
    "# -- each line ensures that every date in df has exactly one entry\n",
    "assert(df_rec.shape[0]==df_rec.index.nunique())\n",
    "assert(df_del.shape[0]==df_del.index.nunique())\n",
    "assert(df_tot.shape[0]==df_tot.index.nunique())"
   ]
  },
  {
   "cell_type": "code",
   "execution_count": null,
   "id": "bbb328f8",
   "metadata": {},
   "outputs": [],
   "source": []
  },
  {
   "cell_type": "code",
   "execution_count": null,
   "id": "37e7ef0c",
   "metadata": {},
   "outputs": [],
   "source": []
  },
  {
   "cell_type": "code",
   "execution_count": null,
   "id": "c6b9c562",
   "metadata": {},
   "outputs": [],
   "source": []
  },
  {
   "cell_type": "code",
   "execution_count": null,
   "id": "62bd20d6",
   "metadata": {},
   "outputs": [],
   "source": [
    "df_xfmr_cir_kwh_15T.columns"
   ]
  },
  {
   "cell_type": "code",
   "execution_count": null,
   "id": "19707552",
   "metadata": {},
   "outputs": [],
   "source": []
  },
  {
   "cell_type": "code",
   "execution_count": null,
   "id": "ce3680d7",
   "metadata": {},
   "outputs": [],
   "source": [
    "df_xfmr_cir_kwh_15T.columns"
   ]
  },
  {
   "cell_type": "code",
   "execution_count": null,
   "id": "ec6ed308",
   "metadata": {},
   "outputs": [],
   "source": []
  },
  {
   "cell_type": "code",
   "execution_count": null,
   "id": "cf434a60",
   "metadata": {},
   "outputs": [],
   "source": [
    "df_xfmr_cir_kwh_15T.columns"
   ]
  },
  {
   "cell_type": "code",
   "execution_count": null,
   "id": "f254125a",
   "metadata": {},
   "outputs": [],
   "source": [
    "we = ['sum_value_sum', 'mean_value_sum', \n",
    "      'sum_value_sq_sum', 'mean_value_sq_sum', \n",
    "      'sum_value_mean', 'mean_value_mean',\n",
    "      'sum_value_std', 'mean_value_std', \n",
    "      'sum_counts', 'mean_counts',\n",
    "      'sum_counts_including_null', 'mean_counts_including_null']"
   ]
  },
  {
   "cell_type": "code",
   "execution_count": null,
   "id": "6d464b71",
   "metadata": {},
   "outputs": [],
   "source": [
    "# def build_mean_from_sum_and_counts(df, sum_x_col, n_counts_col, placement_col):\n",
    "#     df[placement_col] = df[sum_x_col]/df[n_counts_col]\n",
    "#     return df"
   ]
  },
  {
   "cell_type": "code",
   "execution_count": null,
   "id": "f4903231",
   "metadata": {},
   "outputs": [],
   "source": [
    "# def get_ciruit_total_vals(df, non_val_cols, \n",
    "#                                  value_cols_dict = {'value_sum_cir_col':'value_sum_cir', \n",
    "#                                                     'counts_cir_col':'counts_cir', \n",
    "#                                                     'value_mean_cir_col':'value_mean_cir'}, \n",
    "#                                  remove_intermediate_cols=True, \n",
    "#                                  aep_srvc_qlty_idntfr_col='aep_srvc_qlty_idntfr', \n",
    "#                                  aep_srvc_qlty_idntfr_vals={'rec':'RECEIVED', 'del':'DELIVERED', 'tot':'TOTAL'}, \n",
    "#                                  maintain_original_col_order=True):"
   ]
  },
  {
   "cell_type": "code",
   "execution_count": null,
   "id": "7a19ba4c",
   "metadata": {},
   "outputs": [],
   "source": [
    "# value_cols = [\n",
    "#     'sum_value_sum', 'sum_counts', 'mean_value_sum', \n",
    "#     'sum_value_sq_sum', 'sum_counts', 'mean_value_sq_sum', \n",
    "#     'sum_value_mean', 'sum_counts', 'mean_value_mean',\n",
    "#     'sum_value_std', 'sum_counts', 'mean_value_std', \n",
    "#     'sum_counts', 'sum_counts', 'mean_counts',\n",
    "#     'sum_counts_including_null', 'sum_counts', 'mean_counts_including_null'\n",
    "# ]"
   ]
  },
  {
   "cell_type": "code",
   "execution_count": null,
   "id": "fb5293b3",
   "metadata": {},
   "outputs": [],
   "source": [
    "# value_cols = [\n",
    "#     'sum_value_sum', 'sum_counts', 'mean_value_sum', \n",
    "#     'sum_value_sq_sum', 'sum_counts', 'mean_value_sq_sum', \n",
    "#     'sum_value_mean', 'sum_counts', 'mean_value_mean',\n",
    "#     'sum_value_std', 'sum_counts', 'mean_value_std'\n",
    "# ]"
   ]
  },
  {
   "cell_type": "code",
   "execution_count": null,
   "id": "641f427c",
   "metadata": {},
   "outputs": [],
   "source": [
    "# value_cols = [\n",
    "#     ['sum_value_sum', 'sum_counts', 'mean_value_sum'], \n",
    "#     ['sum_value_sq_sum', 'sum_counts', 'mean_value_sq_sum'], \n",
    "#     ['sum_value_mean', 'sum_counts', 'mean_value_mean'],\n",
    "#     ['sum_value_std', 'sum_counts', 'mean_value_std']\n",
    "# ]"
   ]
  },
  {
   "cell_type": "code",
   "execution_count": null,
   "id": "e62300e8",
   "metadata": {},
   "outputs": [],
   "source": [
    "df_xfmr_cir_kwh_15T.loc['2020-01-01 05:15:00']"
   ]
  },
  {
   "cell_type": "code",
   "execution_count": null,
   "id": "43f58dc8",
   "metadata": {},
   "outputs": [],
   "source": []
  },
  {
   "cell_type": "code",
   "execution_count": null,
   "id": "482b54e6",
   "metadata": {},
   "outputs": [],
   "source": [
    "df_xfmr_cir_kwh_15T.columns"
   ]
  },
  {
   "cell_type": "code",
   "execution_count": null,
   "id": "4bc5ab78",
   "metadata": {},
   "outputs": [],
   "source": [
    "'sum_value_sum'\n",
    "'sum_xfmr sum_cir value'"
   ]
  },
  {
   "cell_type": "code",
   "execution_count": null,
   "id": "e91660f8",
   "metadata": {},
   "outputs": [],
   "source": [
    "# value_cols_dict_list = [\n",
    "#     {'value_col':'sum_value_sum', 'counts_col':'sum_counts', 'mean_col':'mean_value_sum'}, \n",
    "#     {'value_col':'sum_value_sq_sum', 'counts_col':'sum_counts', 'mean_col':'mean_value_sq_sum'}, \n",
    "#     {'value_col':'sum_value_mean', 'counts_col':'sum_counts', 'mean_col':'mean_value_mean'},\n",
    "#     {'value_col':'sum_value_std', 'counts_col':'sum_counts', 'mean_col':'mean_value_std'}\n",
    "# ]\n",
    "\n",
    "value_cols_dict_list = [\n",
    "    {'value_col':'sum_value_sum', 'counts_col':'sum_counts', 'mean_col':'mean_value_sum'}\n",
    "]"
   ]
  },
  {
   "cell_type": "code",
   "execution_count": null,
   "id": "d955e15f",
   "metadata": {},
   "outputs": [],
   "source": [
    "df_xfmr_cir_kwh_15T = get_ciruit_total_vals(df_xfmr_cir_kwh_15T, non_val_cols, \n",
    "                                            value_cols_dict_list=value_cols_dict_list, \n",
    "                                            remove_intermediate_cols=True)"
   ]
  },
  {
   "cell_type": "code",
   "execution_count": null,
   "id": "47422740",
   "metadata": {},
   "outputs": [],
   "source": [
    "df_xfmr_cir_kwh_15T.columns"
   ]
  },
  {
   "cell_type": "code",
   "execution_count": null,
   "id": "b0ec883d",
   "metadata": {},
   "outputs": [],
   "source": [
    "df_xfmr_cir_kwh_15T_2.columns"
   ]
  },
  {
   "cell_type": "code",
   "execution_count": null,
   "id": "0cd447e7",
   "metadata": {},
   "outputs": [],
   "source": [
    "df_xfmr_cir_kwh_15T.equals(df_xfmr_cir_kwh_15T_2)"
   ]
  },
  {
   "cell_type": "code",
   "execution_count": null,
   "id": "701f0686",
   "metadata": {},
   "outputs": [],
   "source": [
    "# freqs=['H', '4H', 'D', 'MS']\n",
    "# other_grouper_cols = []\n",
    "# build_agg_dfs = True\n",
    "# time_col_for_agg = 'endtimeperiod_utc'\n",
    "# agg_cols =\n",
    "# df_key = 'df'\n",
    "# df_agg_key = 'df_agg'\n",
    "\n",
    "# df_xfmr_cir_kwh_dict = get_resampled_dfs"
   ]
  },
  {
   "cell_type": "code",
   "execution_count": null,
   "id": "05ea2ef7",
   "metadata": {},
   "outputs": [],
   "source": []
  },
  {
   "cell_type": "code",
   "execution_count": null,
   "id": "57af90b4",
   "metadata": {},
   "outputs": [],
   "source": []
  },
  {
   "cell_type": "code",
   "execution_count": null,
   "id": "634d47d6",
   "metadata": {},
   "outputs": [],
   "source": [
    "df.columns"
   ]
  },
  {
   "cell_type": "code",
   "execution_count": null,
   "id": "bc45809f",
   "metadata": {},
   "outputs": [],
   "source": []
  },
  {
   "cell_type": "code",
   "execution_count": null,
   "id": "9b157b8f",
   "metadata": {},
   "outputs": [],
   "source": [
    "df"
   ]
  },
  {
   "cell_type": "code",
   "execution_count": null,
   "id": "f3c1902c",
   "metadata": {},
   "outputs": [],
   "source": []
  },
  {
   "cell_type": "code",
   "execution_count": null,
   "id": "f1addaf3",
   "metadata": {},
   "outputs": [],
   "source": []
  },
  {
   "cell_type": "code",
   "execution_count": null,
   "id": "3576f384",
   "metadata": {},
   "outputs": [],
   "source": []
  }
 ],
 "metadata": {
  "kernelspec": {
   "display_name": "Python 3 (ipykernel)",
   "language": "python",
   "name": "python3"
  },
  "language_info": {
   "codemirror_mode": {
    "name": "ipython",
    "version": 3
   },
   "file_extension": ".py",
   "mimetype": "text/x-python",
   "name": "python",
   "nbconvert_exporter": "python",
   "pygments_lexer": "ipython3",
   "version": "3.11.7"
  }
 },
 "nbformat": 4,
 "nbformat_minor": 5
}
