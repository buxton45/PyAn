{
 "cells": [
  {
   "cell_type": "code",
   "execution_count": null,
   "id": "9a8311e2",
   "metadata": {},
   "outputs": [],
   "source": [
    "from importlib import reload\n",
    "#reload(Utilities)\n",
    "#reload(clm)\n",
    "\n",
    "import sys, os\n",
    "import re\n",
    "\n",
    "import pandas as pd\n",
    "import numpy as np\n",
    "\n",
    "sys.path.insert(0, os.path.realpath('..'))\n",
    "import Utilities_config\n",
    "\n",
    "#---------------------------------------------------------------------\n",
    "import matplotlib.pyplot as plt\n",
    "from matplotlib import dates\n",
    "#---------------------------------------------------------------------"
   ]
  },
  {
   "cell_type": "code",
   "execution_count": null,
   "id": "c2567cf7",
   "metadata": {},
   "outputs": [],
   "source": [
    "data_dir = r'C:\\Users\\s346557\\Documents\\Learning\\Udemy\\PythonForTimeSeriesDataAnalysis\\UDEMY_TSA_FINAL\\UDEMY_TSA_FINAL\\Data'"
   ]
  },
  {
   "cell_type": "markdown",
   "id": "67edb4b2",
   "metadata": {},
   "source": [
    "# Time Resampling"
   ]
  },
  {
   "cell_type": "code",
   "execution_count": null,
   "id": "01bad39b",
   "metadata": {},
   "outputs": [],
   "source": [
    "df = pd.read_csv(os.path.join(data_dir, 'starbucks.csv'), index_col='Date', parse_dates=True)"
   ]
  },
  {
   "cell_type": "code",
   "execution_count": null,
   "id": "41ea068e",
   "metadata": {},
   "outputs": [],
   "source": [
    "df.describe()"
   ]
  },
  {
   "cell_type": "code",
   "execution_count": null,
   "id": "a0d97394",
   "metadata": {},
   "outputs": [],
   "source": [
    "df.head()"
   ]
  },
  {
   "cell_type": "code",
   "execution_count": null,
   "id": "0f8a4bf2",
   "metadata": {},
   "outputs": [],
   "source": [
    "df.index"
   ]
  },
  {
   "cell_type": "code",
   "execution_count": null,
   "id": "7acf3a4f",
   "metadata": {},
   "outputs": [],
   "source": [
    "# rule='A': year and frequency\n",
    "# daily ---> yearly\n",
    "df.resample(rule='A').mean() #mean, max, sum, std, etc."
   ]
  },
  {
   "cell_type": "code",
   "execution_count": null,
   "id": "9c94cb84",
   "metadata": {},
   "outputs": [],
   "source": []
  },
  {
   "cell_type": "code",
   "execution_count": null,
   "id": "52421f26",
   "metadata": {},
   "outputs": [],
   "source": [
    "# Custom re-sampling functions\n",
    "def first_day(entry):\n",
    "    #if len(entry) != 0:\n",
    "    if len(entry):\n",
    "        return entry[0]\n",
    "    \n",
    "# Below will return close and volume for first day of each year\n",
    "df.resample(rule='A').apply(first_day)"
   ]
  },
  {
   "cell_type": "code",
   "execution_count": null,
   "id": "cb4c1049",
   "metadata": {},
   "outputs": [],
   "source": [
    "df['Close'].resample('A').mean().plot.bar()"
   ]
  },
  {
   "cell_type": "code",
   "execution_count": null,
   "id": "143c5e2f",
   "metadata": {},
   "outputs": [],
   "source": [
    "title = 'Monthly Max Closing Price for Starbucks'\n",
    "df['Close'].resample('M').mean().plot.bar(figsize=(16,6), title=title, color='blue')"
   ]
  },
  {
   "cell_type": "code",
   "execution_count": null,
   "id": "392a3195",
   "metadata": {},
   "outputs": [],
   "source": []
  },
  {
   "cell_type": "markdown",
   "id": "a9d8420a",
   "metadata": {},
   "source": [
    "# Time Shifting"
   ]
  },
  {
   "cell_type": "code",
   "execution_count": null,
   "id": "45eda56b",
   "metadata": {},
   "outputs": [],
   "source": [
    "df"
   ]
  },
  {
   "cell_type": "code",
   "execution_count": null,
   "id": "2bd2da59",
   "metadata": {},
   "outputs": [],
   "source": [
    "df.shift(1)"
   ]
  },
  {
   "cell_type": "code",
   "execution_count": null,
   "id": "d4bd96c6",
   "metadata": {},
   "outputs": [],
   "source": [
    "df.shift(-1)"
   ]
  },
  {
   "cell_type": "code",
   "execution_count": null,
   "id": "fa63a70d",
   "metadata": {},
   "outputs": [],
   "source": [
    "df"
   ]
  },
  {
   "cell_type": "code",
   "execution_count": null,
   "id": "f01bb677",
   "metadata": {},
   "outputs": [],
   "source": [
    "df.shift(periods=1, freq='M')"
   ]
  },
  {
   "cell_type": "code",
   "execution_count": null,
   "id": "a48b5c56",
   "metadata": {},
   "outputs": [],
   "source": []
  },
  {
   "cell_type": "markdown",
   "id": "c28ead07",
   "metadata": {},
   "source": [
    "# Rolling and Expanding"
   ]
  },
  {
   "cell_type": "code",
   "execution_count": null,
   "id": "a74ed1c7",
   "metadata": {},
   "outputs": [],
   "source": [
    "df.head()"
   ]
  },
  {
   "cell_type": "code",
   "execution_count": null,
   "id": "78b8d2a2",
   "metadata": {},
   "outputs": [],
   "source": [
    "df['Close'].plot(figsize=(12,5))"
   ]
  },
  {
   "cell_type": "code",
   "execution_count": null,
   "id": "dcf1a0c1",
   "metadata": {},
   "outputs": [],
   "source": [
    "df.rolling(window=7).mean()"
   ]
  },
  {
   "cell_type": "code",
   "execution_count": null,
   "id": "dd80130d",
   "metadata": {},
   "outputs": [],
   "source": [
    "df.rolling(window=7, center=True).mean()"
   ]
  },
  {
   "cell_type": "code",
   "execution_count": null,
   "id": "00861b2b",
   "metadata": {},
   "outputs": [],
   "source": [
    "df['Close'].plot(figsize=(12,5))\n",
    "df.rolling(window=30).mean()['Close'].plot()"
   ]
  },
  {
   "cell_type": "code",
   "execution_count": null,
   "id": "e14b3d25",
   "metadata": {},
   "outputs": [],
   "source": [
    "df['Close: 30 Day mean'] = df['Close'].rolling(window=30).mean()"
   ]
  },
  {
   "cell_type": "code",
   "execution_count": null,
   "id": "8c1a7253",
   "metadata": {},
   "outputs": [],
   "source": [
    "df[['Close', 'Close: 30 Day mean']].plot(figsize=(12,5))"
   ]
  },
  {
   "cell_type": "code",
   "execution_count": null,
   "id": "ab27b9e7",
   "metadata": {},
   "outputs": [],
   "source": []
  },
  {
   "cell_type": "code",
   "execution_count": null,
   "id": "4eef4309",
   "metadata": {},
   "outputs": [],
   "source": [
    "df['Close'].expanding().mean().plot(figsize=(12,5))"
   ]
  },
  {
   "cell_type": "code",
   "execution_count": null,
   "id": "1ed493b8",
   "metadata": {},
   "outputs": [],
   "source": []
  },
  {
   "cell_type": "markdown",
   "id": "09379a20",
   "metadata": {},
   "source": [
    "# Visualizing Time Series Data"
   ]
  },
  {
   "cell_type": "code",
   "execution_count": null,
   "id": "3eeb9223",
   "metadata": {},
   "outputs": [],
   "source": [
    "df = pd.read_csv(os.path.join(data_dir, 'starbucks.csv'), index_col='Date', parse_dates=True)"
   ]
  },
  {
   "cell_type": "code",
   "execution_count": null,
   "id": "8d511cb5",
   "metadata": {},
   "outputs": [],
   "source": [
    "df.plot()"
   ]
  },
  {
   "cell_type": "code",
   "execution_count": null,
   "id": "0b1fff25",
   "metadata": {},
   "outputs": [],
   "source": [
    "df['Close'].plot()"
   ]
  },
  {
   "cell_type": "code",
   "execution_count": null,
   "id": "167b95f3",
   "metadata": {},
   "outputs": [],
   "source": [
    "df['Volume'].plot()"
   ]
  },
  {
   "cell_type": "code",
   "execution_count": null,
   "id": "1233b1b9",
   "metadata": {},
   "outputs": [],
   "source": [
    "title = 'TITLE'\n",
    "xlabel = 'X LABEL'\n",
    "ylabel = 'Y LABEL'\n",
    "\n",
    "ax = df['Close'].plot(figsize=(12,6), title=title)\n",
    "ax.autoscale(axis='both', tight=True)\n",
    "ax.set(xlabel=xlabel, ylabel=ylabel)"
   ]
  },
  {
   "cell_type": "code",
   "execution_count": null,
   "id": "1f72a023",
   "metadata": {},
   "outputs": [],
   "source": [
    "ax = df['Close']['2017-01-01':'2017-12-31'].plot(figsize=(12,4))"
   ]
  },
  {
   "cell_type": "code",
   "execution_count": null,
   "id": "8d5b8860",
   "metadata": {},
   "outputs": [],
   "source": [
    "ax = df['Close'].plot(figsize=(12,6), xlim=['2017-01-01','2017-12-31'])"
   ]
  },
  {
   "cell_type": "code",
   "execution_count": null,
   "id": "751cdc3a",
   "metadata": {},
   "outputs": [],
   "source": []
  },
  {
   "cell_type": "code",
   "execution_count": null,
   "id": "dbc7e56d",
   "metadata": {},
   "outputs": [],
   "source": [
    "df['Close'].plot(xlim=['2017-01-01', '2017-03-01'], ylim=[50,60], figsize=(12,5))"
   ]
  },
  {
   "cell_type": "code",
   "execution_count": null,
   "id": "898c6646",
   "metadata": {},
   "outputs": [],
   "source": [
    "ax = df['Close'].plot(xlim=['2017-01-01', '2017-03-01'], ylim=[50,60], figsize=(12,5))\n",
    "ax.set(xlabel='')\n",
    "ax.xaxis.set_major_locator(dates.WeekdayLocator(byweekday=0))"
   ]
  },
  {
   "cell_type": "code",
   "execution_count": null,
   "id": "c132b1e5",
   "metadata": {},
   "outputs": [],
   "source": [
    "ax = df['Close'].plot(xlim=['2017-01-01', '2017-03-01'], ylim=[50,60], figsize=(12,5))\n",
    "ax.set(xlabel='')\n",
    "ax.xaxis.set_major_locator(dates.WeekdayLocator(byweekday=0))\n",
    "ax.xaxis.set_major_formatter(dates.DateFormatter('%a-%B-%d'))"
   ]
  },
  {
   "cell_type": "code",
   "execution_count": null,
   "id": "3f0ca732",
   "metadata": {},
   "outputs": [],
   "source": [
    "ax = df['Close'].plot(xlim=['2017-01-01', '2017-03-01'], ylim=[50,60], figsize=(12,5))\n",
    "ax.set(xlabel='')\n",
    "\n",
    "ax.xaxis.set_major_locator(dates.WeekdayLocator(byweekday=0))\n",
    "ax.xaxis.set_major_formatter(dates.DateFormatter('%d'))\n",
    "\n",
    "ax.xaxis.set_minor_locator(dates.MonthLocator())\n",
    "ax.xaxis.set_minor_formatter(dates.DateFormatter('\\n\\n%b'))\n",
    "ax.tick_params(which='minor', length=0)\n",
    "\n",
    "ax.yaxis.grid(True)\n",
    "ax.xaxis.grid(True)"
   ]
  },
  {
   "cell_type": "code",
   "execution_count": null,
   "id": "73365f44",
   "metadata": {},
   "outputs": [],
   "source": []
  },
  {
   "cell_type": "code",
   "execution_count": null,
   "id": "c51dfe3a",
   "metadata": {},
   "outputs": [],
   "source": []
  },
  {
   "cell_type": "code",
   "execution_count": null,
   "id": "1a4df79b",
   "metadata": {},
   "outputs": [],
   "source": []
  },
  {
   "cell_type": "code",
   "execution_count": null,
   "id": "a095c217",
   "metadata": {},
   "outputs": [],
   "source": []
  },
  {
   "cell_type": "code",
   "execution_count": null,
   "id": "9e14e6a0",
   "metadata": {},
   "outputs": [],
   "source": []
  }
 ],
 "metadata": {
  "kernelspec": {
   "display_name": "Python 3 (ipykernel)",
   "language": "python",
   "name": "python3"
  },
  "language_info": {
   "codemirror_mode": {
    "name": "ipython",
    "version": 3
   },
   "file_extension": ".py",
   "mimetype": "text/x-python",
   "name": "python",
   "nbconvert_exporter": "python",
   "pygments_lexer": "ipython3",
   "version": "3.9.7"
  }
 },
 "nbformat": 4,
 "nbformat_minor": 5
}
