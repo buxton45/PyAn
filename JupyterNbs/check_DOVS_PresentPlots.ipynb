{
 "cells": [
  {
   "cell_type": "code",
   "execution_count": 1,
   "id": "20abd8c5",
   "metadata": {},
   "outputs": [],
   "source": [
    "%run ./check_DOVS_METHODS.ipynb"
   ]
  },
  {
   "cell_type": "code",
   "execution_count": 2,
   "id": "ba529ce7",
   "metadata": {},
   "outputs": [],
   "source": [
    "from importlib import reload\n",
    "#reload(Utilities)\n",
    "#reload(clm)\n",
    "\n",
    "import sys, os\n",
    "import re\n",
    "\n",
    "import pandas as pd\n",
    "import numpy as np\n",
    "from pandas.api.types import is_numeric_dtype, is_datetime64_dtype, is_timedelta64_dtype\n",
    "from scipy import stats\n",
    "import datetime\n",
    "import time\n",
    "from natsort import natsorted, ns\n",
    "from packaging import version\n",
    "\n",
    "import copy\n",
    "\n",
    "import itertools\n",
    "\n",
    "import pyodbc\n",
    "#---------------------------------------------------------------------\n",
    "sys.path.insert(0, os.path.realpath('..'))\n",
    "import Utilities_config\n",
    "#-----\n",
    "import CommonLearningMethods as clm\n",
    "#-----\n",
    "from MeterPremise import MeterPremise\n",
    "#-----\n",
    "from AMI_SQL import AMI_SQL\n",
    "from AMINonVee_SQL import AMINonVee_SQL\n",
    "from AMIEndEvents_SQL import AMIEndEvents_SQL\n",
    "from AMIUsgInst_SQL import AMIUsgInst_SQL\n",
    "from DOVSOutages_SQL import DOVSOutages_SQL\n",
    "#-----\n",
    "from GenAn import GenAn\n",
    "from AMINonVee import AMINonVee\n",
    "from AMIEndEvents import AMIEndEvents\n",
    "from AMIUsgInst import AMIUsgInst\n",
    "from DOVSOutages import DOVSOutages\n",
    "#---------------------------------------------------------------------\n",
    "import matplotlib as mpl\n",
    "import matplotlib.pyplot as plt\n",
    "import seaborn as sns\n",
    "from matplotlib.backends.backend_pdf import PdfPages\n",
    "import matplotlib.patches as mpatches\n",
    "from matplotlib.lines import Line2D\n",
    "import matplotlib.ticker as ticker\n",
    "from matplotlib import dates\n",
    "#---------------------------------------------------------------------\n",
    "sys.path.insert(0, Utilities_config.get_sql_aids_dir())\n",
    "import Utilities_sql\n",
    "import TableInfos\n",
    "from TableInfos import TableInfo\n",
    "from SQLElement import SQLElement\n",
    "from SQLElementsCollection import SQLElementsCollection\n",
    "from SQLSelect import SQLSelectElement, SQLSelect\n",
    "from SQLFrom import SQLFrom\n",
    "from SQLWhere import SQLWhereElement, SQLWhere\n",
    "from SQLJoin import SQLJoin, SQLJoinCollection\n",
    "from SQLGroupBy import SQLGroupByElement, SQLGroupBy\n",
    "from SQLHaving import SQLHaving\n",
    "from SQLOrderBy import SQLOrderByElement, SQLOrderBy\n",
    "from SQLQuery import SQLQuery\n",
    "from SQLQueryGeneric import SQLQueryGeneric\n",
    "#---------------------------------------------------------------------\n",
    "sys.path.insert(0, Utilities_config.get_utilities_dir())\n",
    "import Utilities\n",
    "import Utilities_df\n",
    "import Utilities_dt\n",
    "from Utilities_df import DFConstructType\n",
    "import Plot_General\n",
    "import Plot_Box_sns\n",
    "import GrubbsTest\n",
    "import DataFrameSubsetSlicer\n",
    "from DataFrameSubsetSlicer import DataFrameSubsetSlicer as DFSlicer"
   ]
  },
  {
   "cell_type": "code",
   "execution_count": 29,
   "id": "a6df9c0c",
   "metadata": {},
   "outputs": [],
   "source": [
    "fig_num=0"
   ]
  },
  {
   "cell_type": "code",
   "execution_count": 67,
   "id": "7278ba37",
   "metadata": {},
   "outputs": [],
   "source": [
    "save_dir = r'C:\\Users\\s346557\\Documents\\Presentations\\DOVS_check\\_DemoFigs'\n",
    "save_figs = True"
   ]
  },
  {
   "cell_type": "code",
   "execution_count": 30,
   "id": "1507bfd4",
   "metadata": {},
   "outputs": [],
   "source": [
    "starttimeperiod_local = pd.date_range(\n",
    "    start = '2023-01-01 13:00:00', \n",
    "    end   = '2023-01-01 17:00:00', \n",
    "    freq  = '15T'\n",
    ")\n",
    "zeros_t_beg = pd.to_datetime('2023-01-01 14:00:00')\n",
    "zeros_t_end = pd.to_datetime('2023-01-01 16:00:00')\n",
    "#-------------------------\n",
    "value = [245]*len(starttimeperiod_local)\n",
    "serialnumber = ['SN']*len(starttimeperiod_local)\n",
    "#-------------------------\n",
    "ami_df = pd.DataFrame(\n",
    "    data={\n",
    "        'starttimeperiod_local':starttimeperiod_local, \n",
    "        'value':value, \n",
    "        'serialnumber':serialnumber\n",
    "    }\n",
    ")\n",
    "#-----\n",
    "ami_df.loc[\n",
    "    (ami_df['starttimeperiod_local']>=zeros_t_beg) & \n",
    "    (ami_df['starttimeperiod_local']<=zeros_t_end), \n",
    "    'value'\n",
    "]=0"
   ]
  },
  {
   "cell_type": "code",
   "execution_count": 45,
   "id": "c0055d99",
   "metadata": {},
   "outputs": [
    {
     "data": {
      "text/html": [
       "<div>\n",
       "<style scoped>\n",
       "    .dataframe tbody tr th:only-of-type {\n",
       "        vertical-align: middle;\n",
       "    }\n",
       "\n",
       "    .dataframe tbody tr th {\n",
       "        vertical-align: top;\n",
       "    }\n",
       "\n",
       "    .dataframe thead th {\n",
       "        text-align: right;\n",
       "    }\n",
       "</style>\n",
       "<table border=\"1\" class=\"dataframe\">\n",
       "  <thead>\n",
       "    <tr style=\"text-align: right;\">\n",
       "      <th></th>\n",
       "      <th>conservative_min</th>\n",
       "      <th>zero_times_min</th>\n",
       "      <th>zero_times_max</th>\n",
       "      <th>conservative_max</th>\n",
       "    </tr>\n",
       "  </thead>\n",
       "  <tbody>\n",
       "    <tr>\n",
       "      <th>0</th>\n",
       "      <td>2023-01-01 13:45:00</td>\n",
       "      <td>2023-01-01 14:00:00</td>\n",
       "      <td>2023-01-01 16:15:00</td>\n",
       "      <td>2023-01-01 16:30:00</td>\n",
       "    </tr>\n",
       "  </tbody>\n",
       "</table>\n",
       "</div>"
      ],
      "text/plain": [
       "     conservative_min      zero_times_min      zero_times_max  \\\n",
       "0 2023-01-01 13:45:00 2023-01-01 14:00:00 2023-01-01 16:15:00   \n",
       "\n",
       "     conservative_max  \n",
       "0 2023-01-01 16:30:00  "
      ]
     },
     "execution_count": 45,
     "metadata": {},
     "output_type": "execute_result"
    }
   ],
   "source": [
    "best_ests_df = pd.DataFrame(data=dict(\n",
    "    conservative_min = [pd.to_datetime('2023-01-01 13:45:00')], \n",
    "    zero_times_min   = [pd.to_datetime('2023-01-01 14:00:00')], \n",
    "    zero_times_max   = [pd.to_datetime('2023-01-01 16:15:00')], \n",
    "    conservative_max = [pd.to_datetime('2023-01-01 16:30:00')]\n",
    "))\n",
    "best_ests_df"
   ]
  },
  {
   "cell_type": "code",
   "execution_count": null,
   "id": "1ba6f04d",
   "metadata": {},
   "outputs": [],
   "source": []
  },
  {
   "cell_type": "code",
   "execution_count": null,
   "id": "3a35debd",
   "metadata": {},
   "outputs": [],
   "source": []
  },
  {
   "cell_type": "code",
   "execution_count": 91,
   "id": "6ea4033f",
   "metadata": {},
   "outputs": [
    {
     "data": {
      "image/png": "[encoded data removed]",
      "text/plain": [
       "<Figure size 1008x432 with 1 Axes>"
      ]
     },
     "metadata": {
      "needs_background": "light"
     },
     "output_type": "display_data"
    }
   ],
   "source": [
    "fig, ax = Plot_General.default_subplots(fig_num=fig_num)\n",
    "\n",
    "fig, ax = AMINonVee.plot_usage(\n",
    "    fig=fig, \n",
    "    ax=ax, \n",
    "    data=ami_df, \n",
    "    x='starttimeperiod_local', \n",
    "    y='value', \n",
    "    hue='serialnumber', \n",
    ")\n",
    "ax.legend().set_visible(False)\n",
    "ax.set_xlim(ami_df.iloc[0]['starttimeperiod_local'], ami_df.iloc[-1]['starttimeperiod_local'])\n",
    "ax.xaxis.set_major_locator(dates.MinuteLocator(interval=15))\n",
    "ax.xaxis.set_major_formatter(dates.DateFormatter('%H:%M')) \n",
    "ax.grid(axis='x', which='both')\n",
    "add_all_best_ests_to_axis(\n",
    "    ax, \n",
    "    best_ests_df, \n",
    "    line_kwargs_by_est_key=dict(\n",
    "        conservative=dict(alpha=0.25, linewidth=5.0, ymax=0.6), \n",
    "        zero_times=dict(alpha=0.25, linewidth=5.0, ymax=0.4) \n",
    "    ), \n",
    "    keys_to_include=['conservative', 'zero_times']\n",
    ")\n",
    "#-----\n",
    "Plot_General.set_general_plotting_args(\n",
    "    ax=ax, \n",
    "    tick_args =[\n",
    "        dict(axis='x', labelrotation=0, labelsize=12.0, direction='out'), \n",
    "        dict(axis='y', labelrotation=0, labelsize=12.0, direction='out')\n",
    "    ], \n",
    "    xlabel_args=dict(xlabel=ax.get_xlabel(), fontsize=16, loc='center'), \n",
    "    ylabel_args=dict(ylabel=ax.get_ylabel(), fontsize=16, loc='top')\n",
    ")\n",
    "#-----\n",
    "if save_figs:\n",
    "    Plot_General.save_fig(\n",
    "        fig=fig, \n",
    "        save_dir=save_dir, \n",
    "        save_name='UncertaintyIntervals.png'\n",
    "    )\n",
    "#-----\n",
    "fig_num+=1"
   ]
  },
  {
   "cell_type": "code",
   "execution_count": null,
   "id": "abd3bb16",
   "metadata": {},
   "outputs": [],
   "source": []
  },
  {
   "cell_type": "code",
   "execution_count": null,
   "id": "e3481453",
   "metadata": {},
   "outputs": [],
   "source": []
  },
  {
   "cell_type": "code",
   "execution_count": null,
   "id": "c1a822b9",
   "metadata": {},
   "outputs": [],
   "source": []
  },
  {
   "cell_type": "code",
   "execution_count": 103,
   "id": "2da8029f",
   "metadata": {},
   "outputs": [
    {
     "data": {
      "image/png": "[encoded data removed]",
      "text/plain": [
       "<Figure size 1008x432 with 1 Axes>"
      ]
     },
     "metadata": {
      "needs_background": "light"
     },
     "output_type": "display_data"
    }
   ],
   "source": [
    "fig, ax = Plot_General.default_subplots(fig_num=fig_num)\n",
    "#-------------------------\n",
    "fig, ax = AMINonVee.plot_usage_around_outage(\n",
    "    fig=fig, \n",
    "    ax=ax, \n",
    "    data=ami_df, \n",
    "    x='starttimeperiod_local', \n",
    "    y='value', \n",
    "    hue='serialnumber', \n",
    "    out_t_beg=pd.to_datetime('2023-01-01 13:30:00'), \n",
    "    out_t_end=pd.to_datetime('2023-01-01 16:45:00'), \n",
    "    expand_time=pd.Timedelta('120 hours'), \n",
    ")\n",
    "ax.legend().set_visible(False)\n",
    "ax.set_xlim(ami_df.iloc[0]['starttimeperiod_local'], ami_df.iloc[-1]['starttimeperiod_local'])\n",
    "ax.xaxis.set_major_locator(dates.MinuteLocator(interval=15))\n",
    "ax.xaxis.set_major_formatter(dates.DateFormatter('%H:%M')) \n",
    "ax.grid(axis='x', which='both')\n",
    "add_all_best_ests_to_axis(\n",
    "    ax, \n",
    "    best_ests_df, \n",
    "    line_kwargs_by_est_key=dict(\n",
    "        conservative=dict(alpha=0.25, linewidth=5.0, ymax=0.6), \n",
    "        zero_times=dict(alpha=0.25, linewidth=5.0, ymax=0.4) \n",
    "    ), \n",
    "    keys_to_include=['conservative', 'zero_times']\n",
    ")\n",
    "#-----\n",
    "Plot_General.set_general_plotting_args(\n",
    "    ax=ax, \n",
    "    tick_args =[\n",
    "        dict(axis='x', labelrotation=0, labelsize=12.0, direction='out'), \n",
    "        dict(axis='y', labelrotation=0, labelsize=12.0, direction='out')\n",
    "    ], \n",
    "    xlabel_args=dict(xlabel=ax.get_xlabel(), fontsize=16, loc='center'), \n",
    "    ylabel_args=dict(ylabel=ax.get_ylabel(), fontsize=16, loc='top')\n",
    ")\n",
    "#-----\n",
    "if save_figs:\n",
    "    Plot_General.save_fig(\n",
    "        fig=fig, \n",
    "        save_dir=save_dir, \n",
    "        save_name='Audit_1.png'\n",
    "    )\n",
    "#-----\n",
    "fig_num+=1"
   ]
  },
  {
   "cell_type": "code",
   "execution_count": 104,
   "id": "ea5cb023",
   "metadata": {},
   "outputs": [
    {
     "data": {
      "image/png": "[encoded data removed]",
      "text/plain": [
       "<Figure size 1008x432 with 1 Axes>"
      ]
     },
     "metadata": {
      "needs_background": "light"
     },
     "output_type": "display_data"
    }
   ],
   "source": [
    "fig, ax = Plot_General.default_subplots(fig_num=fig_num)\n",
    "#-------------------------\n",
    "fig, ax = AMINonVee.plot_usage_around_outage(\n",
    "    fig=fig, \n",
    "    ax=ax, \n",
    "    data=ami_df, \n",
    "    x='starttimeperiod_local', \n",
    "    y='value', \n",
    "    hue='serialnumber', \n",
    "    out_t_beg=pd.to_datetime('2023-01-01 14:15:00'), \n",
    "    out_t_end=pd.to_datetime('2023-01-01 15:45:00'), \n",
    "    expand_time=pd.Timedelta('120 hours'), \n",
    ")\n",
    "ax.legend().set_visible(False)\n",
    "ax.set_xlim(ami_df.iloc[0]['starttimeperiod_local'], ami_df.iloc[-1]['starttimeperiod_local'])\n",
    "ax.xaxis.set_major_locator(dates.MinuteLocator(interval=15))\n",
    "ax.xaxis.set_major_formatter(dates.DateFormatter('%H:%M')) \n",
    "ax.grid(axis='x', which='both')\n",
    "add_all_best_ests_to_axis(\n",
    "    ax, \n",
    "    best_ests_df, \n",
    "    line_kwargs_by_est_key=dict(\n",
    "        conservative=dict(alpha=0.25, linewidth=5.0, ymax=0.6), \n",
    "        zero_times=dict(alpha=0.25, linewidth=5.0, ymax=0.4) \n",
    "    ), \n",
    "    keys_to_include=['conservative', 'zero_times']\n",
    ")\n",
    "#-----\n",
    "Plot_General.set_general_plotting_args(\n",
    "    ax=ax, \n",
    "    tick_args =[\n",
    "        dict(axis='x', labelrotation=0, labelsize=12.0, direction='out'), \n",
    "        dict(axis='y', labelrotation=0, labelsize=12.0, direction='out')\n",
    "    ], \n",
    "    xlabel_args=dict(xlabel=ax.get_xlabel(), fontsize=16, loc='center'), \n",
    "    ylabel_args=dict(ylabel=ax.get_ylabel(), fontsize=16, loc='top')\n",
    ")\n",
    "#-----\n",
    "if save_figs:\n",
    "    Plot_General.save_fig(\n",
    "        fig=fig, \n",
    "        save_dir=save_dir, \n",
    "        save_name='Audit_2.png'\n",
    "    )\n",
    "#-----\n",
    "fig_num+=1"
   ]
  },
  {
   "cell_type": "code",
   "execution_count": 105,
   "id": "7d80a4e1",
   "metadata": {},
   "outputs": [
    {
     "data": {
      "image/png": "[encoded data removed]",
      "text/plain": [
       "<Figure size 1008x432 with 1 Axes>"
      ]
     },
     "metadata": {
      "needs_background": "light"
     },
     "output_type": "display_data"
    }
   ],
   "source": [
    "fig, ax = Plot_General.default_subplots(fig_num=fig_num)\n",
    "#-------------------------\n",
    "fig, ax = AMINonVee.plot_usage_around_outage(\n",
    "    fig=fig, \n",
    "    ax=ax, \n",
    "    data=ami_df, \n",
    "    x='starttimeperiod_local', \n",
    "    y='value', \n",
    "    hue='serialnumber', \n",
    "    out_t_beg=pd.to_datetime('2023-01-01 13:55:00'), \n",
    "    out_t_end=pd.to_datetime('2023-01-01 16:45:00'), \n",
    "    expand_time=pd.Timedelta('120 hours'), \n",
    ")\n",
    "ax.legend().set_visible(False)\n",
    "ax.set_xlim(ami_df.iloc[0]['starttimeperiod_local'], ami_df.iloc[-1]['starttimeperiod_local'])\n",
    "ax.xaxis.set_major_locator(dates.MinuteLocator(interval=15))\n",
    "ax.xaxis.set_major_formatter(dates.DateFormatter('%H:%M')) \n",
    "ax.grid(axis='x', which='both')\n",
    "add_all_best_ests_to_axis(\n",
    "    ax, \n",
    "    best_ests_df, \n",
    "    line_kwargs_by_est_key=dict(\n",
    "        conservative=dict(alpha=0.25, linewidth=5.0, ymax=0.6), \n",
    "        zero_times=dict(alpha=0.25, linewidth=5.0, ymax=0.4) \n",
    "    ), \n",
    "    keys_to_include=['conservative', 'zero_times']\n",
    ")\n",
    "#-----\n",
    "Plot_General.set_general_plotting_args(\n",
    "    ax=ax, \n",
    "    tick_args =[\n",
    "        dict(axis='x', labelrotation=0, labelsize=12.0, direction='out'), \n",
    "        dict(axis='y', labelrotation=0, labelsize=12.0, direction='out')\n",
    "    ], \n",
    "    xlabel_args=dict(xlabel=ax.get_xlabel(), fontsize=16, loc='center'), \n",
    "    ylabel_args=dict(ylabel=ax.get_ylabel(), fontsize=16, loc='top')\n",
    ")\n",
    "#-----\n",
    "if save_figs:\n",
    "    Plot_General.save_fig(\n",
    "        fig=fig, \n",
    "        save_dir=save_dir, \n",
    "        save_name='Audit_3.png'\n",
    "    )\n",
    "#-----\n",
    "fig_num+=1"
   ]
  },
  {
   "cell_type": "code",
   "execution_count": null,
   "id": "794f24bc",
   "metadata": {},
   "outputs": [],
   "source": []
  },
  {
   "cell_type": "code",
   "execution_count": 106,
   "id": "b9d650d7",
   "metadata": {},
   "outputs": [
    {
     "data": {
      "image/png": "[encoded data removed]",
      "text/plain": [
       "<Figure size 1008x432 with 1 Axes>"
      ]
     },
     "metadata": {
      "needs_background": "light"
     },
     "output_type": "display_data"
    }
   ],
   "source": [
    "fig, ax = Plot_General.default_subplots(fig_num=fig_num)\n",
    "#-------------------------\n",
    "fig, ax = AMINonVee.plot_usage_around_outage(\n",
    "    fig=fig, \n",
    "    ax=ax, \n",
    "    data=ami_df, \n",
    "    x='starttimeperiod_local', \n",
    "    y='value', \n",
    "    hue='serialnumber', \n",
    "    out_t_beg=pd.to_datetime('2023-01-01 13:55:00'), \n",
    "    out_t_end=pd.to_datetime('2023-01-01 16:20:00'), \n",
    "    expand_time=pd.Timedelta('120 hours'), \n",
    ")\n",
    "ax.legend().set_visible(False)\n",
    "ax.set_xlim(ami_df.iloc[0]['starttimeperiod_local'], ami_df.iloc[-1]['starttimeperiod_local'])\n",
    "ax.xaxis.set_major_locator(dates.MinuteLocator(interval=15))\n",
    "ax.xaxis.set_major_formatter(dates.DateFormatter('%H:%M')) \n",
    "ax.grid(axis='x', which='both')\n",
    "add_all_best_ests_to_axis(\n",
    "    ax, \n",
    "    best_ests_df, \n",
    "    line_kwargs_by_est_key=dict(\n",
    "        conservative=dict(alpha=0.25, linewidth=5.0, ymax=0.6), \n",
    "        zero_times=dict(alpha=0.25, linewidth=5.0, ymax=0.4) \n",
    "    ), \n",
    "    keys_to_include=['conservative', 'zero_times']\n",
    ")\n",
    "#-----\n",
    "Plot_General.set_general_plotting_args(\n",
    "    ax=ax, \n",
    "    tick_args =[\n",
    "        dict(axis='x', labelrotation=0, labelsize=12.0, direction='out'), \n",
    "        dict(axis='y', labelrotation=0, labelsize=12.0, direction='out')\n",
    "    ], \n",
    "    xlabel_args=dict(xlabel=ax.get_xlabel(), fontsize=16, loc='center'), \n",
    "    ylabel_args=dict(ylabel=ax.get_ylabel(), fontsize=16, loc='top')\n",
    ")\n",
    "#-----\n",
    "if save_figs:\n",
    "    Plot_General.save_fig(\n",
    "        fig=fig, \n",
    "        save_dir=save_dir, \n",
    "        save_name='Audit_4.png'\n",
    "    )\n",
    "#-----\n",
    "fig_num+=1"
   ]
  },
  {
   "cell_type": "code",
   "execution_count": null,
   "id": "5482bf47",
   "metadata": {},
   "outputs": [],
   "source": []
  },
  {
   "cell_type": "code",
   "execution_count": null,
   "id": "1aaf1dd5",
   "metadata": {},
   "outputs": [],
   "source": []
  },
  {
   "cell_type": "code",
   "execution_count": null,
   "id": "294fa85e",
   "metadata": {},
   "outputs": [],
   "source": []
  },
  {
   "cell_type": "code",
   "execution_count": null,
   "id": "72fceb88",
   "metadata": {},
   "outputs": [],
   "source": []
  },
  {
   "cell_type": "code",
   "execution_count": null,
   "id": "af783f89",
   "metadata": {},
   "outputs": [],
   "source": []
  },
  {
   "cell_type": "code",
   "execution_count": 112,
   "id": "c68770ab",
   "metadata": {},
   "outputs": [],
   "source": [
    "starttimeperiod_local = pd.date_range(\n",
    "    start = '2023-01-01 13:00:00', \n",
    "    end   = '2023-01-01 17:00:00', \n",
    "    freq  = '15T'\n",
    ")\n",
    "zeros_t_beg = pd.to_datetime('2023-01-01 14:00:00')\n",
    "zeros_t_end = pd.to_datetime('2023-01-01 16:00:00')\n",
    "#-------------------------\n",
    "value = [245]*len(starttimeperiod_local)\n",
    "serialnumber = ['SN']*len(starttimeperiod_local)\n",
    "#-------------------------\n",
    "ami_df_2 = pd.DataFrame(\n",
    "    data={\n",
    "        'starttimeperiod_local':starttimeperiod_local, \n",
    "        'value':value, \n",
    "        'serialnumber':serialnumber\n",
    "    }\n",
    ")\n",
    "#-----\n",
    "ami_df_2.loc[\n",
    "    (ami_df_2['starttimeperiod_local']>=zeros_t_beg) & \n",
    "    (ami_df_2['starttimeperiod_local']<=zeros_t_end), \n",
    "    'value'\n",
    "]=0\n",
    "ami_df_2.loc[ami_df_2['starttimeperiod_local']==pd.to_datetime('2023-01-01 15:00:00'), 'value']=245"
   ]
  },
  {
   "cell_type": "code",
   "execution_count": 129,
   "id": "04a5246c",
   "metadata": {},
   "outputs": [
    {
     "data": {
      "text/html": [
       "<div>\n",
       "<style scoped>\n",
       "    .dataframe tbody tr th:only-of-type {\n",
       "        vertical-align: middle;\n",
       "    }\n",
       "\n",
       "    .dataframe tbody tr th {\n",
       "        vertical-align: top;\n",
       "    }\n",
       "\n",
       "    .dataframe thead th {\n",
       "        text-align: right;\n",
       "    }\n",
       "</style>\n",
       "<table border=\"1\" class=\"dataframe\">\n",
       "  <thead>\n",
       "    <tr style=\"text-align: right;\">\n",
       "      <th></th>\n",
       "      <th>conservative_min</th>\n",
       "      <th>zero_times_min</th>\n",
       "      <th>zero_times_max</th>\n",
       "      <th>conservative_max</th>\n",
       "    </tr>\n",
       "  </thead>\n",
       "  <tbody>\n",
       "    <tr>\n",
       "      <th>0</th>\n",
       "      <td>2023-01-01 13:45:00</td>\n",
       "      <td>2023-01-01 14:00:00</td>\n",
       "      <td>2023-01-01 14:59:00</td>\n",
       "      <td>2023-01-01 15:14:00</td>\n",
       "    </tr>\n",
       "    <tr>\n",
       "      <th>1</th>\n",
       "      <td>2023-01-01 15:01:00</td>\n",
       "      <td>2023-01-01 15:16:00</td>\n",
       "      <td>2023-01-01 16:15:00</td>\n",
       "      <td>2023-01-01 16:30:00</td>\n",
       "    </tr>\n",
       "  </tbody>\n",
       "</table>\n",
       "</div>"
      ],
      "text/plain": [
       "     conservative_min      zero_times_min      zero_times_max  \\\n",
       "0 2023-01-01 13:45:00 2023-01-01 14:00:00 2023-01-01 14:59:00   \n",
       "1 2023-01-01 15:01:00 2023-01-01 15:16:00 2023-01-01 16:15:00   \n",
       "\n",
       "     conservative_max  \n",
       "0 2023-01-01 15:14:00  \n",
       "1 2023-01-01 16:30:00  "
      ]
     },
     "execution_count": 129,
     "metadata": {},
     "output_type": "execute_result"
    }
   ],
   "source": [
    "best_ests_df_2 = pd.DataFrame(data=dict(\n",
    "    conservative_min = [pd.to_datetime('2023-01-01 13:45:00'), pd.to_datetime('2023-01-01 15:01:00')], \n",
    "    zero_times_min   = [pd.to_datetime('2023-01-01 14:00:00'), pd.to_datetime('2023-01-01 15:16:00')], \n",
    "    zero_times_max   = [pd.to_datetime('2023-01-01 14:59:00'), pd.to_datetime('2023-01-01 16:15:00')], \n",
    "    conservative_max = [pd.to_datetime('2023-01-01 15:14:00'), pd.to_datetime('2023-01-01 16:30:00')]\n",
    "))\n",
    "best_ests_df_2"
   ]
  },
  {
   "cell_type": "code",
   "execution_count": 130,
   "id": "2865057e",
   "metadata": {},
   "outputs": [
    {
     "data": {
      "image/png": "[encoded data removed]",
      "text/plain": [
       "<Figure size 1008x432 with 1 Axes>"
      ]
     },
     "metadata": {
      "needs_background": "light"
     },
     "output_type": "display_data"
    }
   ],
   "source": [
    "fig, ax = Plot_General.default_subplots(fig_num=fig_num)\n",
    "\n",
    "fig, ax = AMINonVee.plot_usage(\n",
    "    fig=fig, \n",
    "    ax=ax, \n",
    "    data=ami_df_2, \n",
    "    x='starttimeperiod_local', \n",
    "    y='value', \n",
    "    hue='serialnumber', \n",
    ")\n",
    "ax.legend().set_visible(False)\n",
    "ax.set_xlim(ami_df_2.iloc[0]['starttimeperiod_local'], ami_df_2.iloc[-1]['starttimeperiod_local'])\n",
    "ax.xaxis.set_major_locator(dates.MinuteLocator(interval=15))\n",
    "ax.xaxis.set_major_formatter(dates.DateFormatter('%H:%M')) \n",
    "ax.grid(axis='x', which='both')\n",
    "add_all_best_ests_to_axis(\n",
    "    ax, \n",
    "    best_ests_df_2, \n",
    "    line_kwargs_by_est_key=dict(\n",
    "        conservative=dict(alpha=0.25, linewidth=5.0, ymax=0.6), \n",
    "        zero_times=dict(alpha=0.25, linewidth=5.0, ymax=0.4) \n",
    "    ), \n",
    "    keys_to_include=['conservative', 'zero_times']\n",
    ")\n",
    "#-----\n",
    "Plot_General.set_general_plotting_args(\n",
    "    ax=ax, \n",
    "    tick_args =[\n",
    "        dict(axis='x', labelrotation=0, labelsize=12.0, direction='out'), \n",
    "        dict(axis='y', labelrotation=0, labelsize=12.0, direction='out')\n",
    "    ], \n",
    "    xlabel_args=dict(xlabel=ax.get_xlabel(), fontsize=16, loc='center'), \n",
    "    ylabel_args=dict(ylabel=ax.get_ylabel(), fontsize=16, loc='top')\n",
    ")\n",
    "#-----\n",
    "# if save_figs:\n",
    "#     Plot_General.save_fig(\n",
    "#         fig=fig, \n",
    "#         save_dir=save_dir, \n",
    "#         save_name='UncertaintyIntervals.png'\n",
    "#     )\n",
    "#-----\n",
    "fig_num+=1"
   ]
  },
  {
   "cell_type": "code",
   "execution_count": null,
   "id": "dd08fa58",
   "metadata": {},
   "outputs": [],
   "source": []
  },
  {
   "cell_type": "code",
   "execution_count": null,
   "id": "ca1c988c",
   "metadata": {},
   "outputs": [],
   "source": []
  },
  {
   "cell_type": "code",
   "execution_count": null,
   "id": "151ad520",
   "metadata": {},
   "outputs": [],
   "source": []
  },
  {
   "cell_type": "code",
   "execution_count": 136,
   "id": "ad338cc0",
   "metadata": {},
   "outputs": [],
   "source": [
    "starttimeperiod_local = pd.date_range(\n",
    "    start = '2023-01-01 13:15:00', \n",
    "    end   = '2023-01-01 14:45:00', \n",
    "    freq  = '15T'\n",
    ")\n",
    "zeros_t_beg = pd.to_datetime('2023-01-01 14:00:00')\n",
    "zeros_t_end = pd.to_datetime('2023-01-01 14:00:00')\n",
    "#-------------------------\n",
    "value = [245]*len(starttimeperiod_local)\n",
    "serialnumber = ['SN']*len(starttimeperiod_local)\n",
    "#-------------------------\n",
    "ami_df_3 = pd.DataFrame(\n",
    "    data={\n",
    "        'starttimeperiod_local':starttimeperiod_local, \n",
    "        'value':value, \n",
    "        'serialnumber':serialnumber\n",
    "    }\n",
    ")\n",
    "#-----\n",
    "ami_df_3.loc[\n",
    "    (ami_df_3['starttimeperiod_local']>=zeros_t_beg) & \n",
    "    (ami_df_3['starttimeperiod_local']<=zeros_t_end), \n",
    "    'value'\n",
    "]=0\n",
    "ami_df_3.loc[ami_df_3['starttimeperiod_local']==pd.to_datetime('2023-01-01 15:00:00'), 'value']=245"
   ]
  },
  {
   "cell_type": "code",
   "execution_count": 138,
   "id": "b2a9b99c",
   "metadata": {},
   "outputs": [
    {
     "data": {
      "text/html": [
       "<div>\n",
       "<style scoped>\n",
       "    .dataframe tbody tr th:only-of-type {\n",
       "        vertical-align: middle;\n",
       "    }\n",
       "\n",
       "    .dataframe tbody tr th {\n",
       "        vertical-align: top;\n",
       "    }\n",
       "\n",
       "    .dataframe thead th {\n",
       "        text-align: right;\n",
       "    }\n",
       "</style>\n",
       "<table border=\"1\" class=\"dataframe\">\n",
       "  <thead>\n",
       "    <tr style=\"text-align: right;\">\n",
       "      <th></th>\n",
       "      <th>conservative_min</th>\n",
       "      <th>zero_times_min</th>\n",
       "      <th>zero_times_max</th>\n",
       "      <th>conservative_max</th>\n",
       "    </tr>\n",
       "  </thead>\n",
       "  <tbody>\n",
       "    <tr>\n",
       "      <th>0</th>\n",
       "      <td>2023-01-01 13:45:00</td>\n",
       "      <td>2023-01-01 14:00:00</td>\n",
       "      <td>2023-01-01 14:15:00</td>\n",
       "      <td>2023-01-01 14:30:00</td>\n",
       "    </tr>\n",
       "  </tbody>\n",
       "</table>\n",
       "</div>"
      ],
      "text/plain": [
       "     conservative_min      zero_times_min      zero_times_max  \\\n",
       "0 2023-01-01 13:45:00 2023-01-01 14:00:00 2023-01-01 14:15:00   \n",
       "\n",
       "     conservative_max  \n",
       "0 2023-01-01 14:30:00  "
      ]
     },
     "execution_count": 138,
     "metadata": {},
     "output_type": "execute_result"
    }
   ],
   "source": [
    "best_ests_df_3 = pd.DataFrame(data=dict(\n",
    "    conservative_min = [pd.to_datetime('2023-01-01 13:45:00')], \n",
    "    zero_times_min   = [pd.to_datetime('2023-01-01 14:00:00')], \n",
    "    zero_times_max   = [pd.to_datetime('2023-01-01 14:15:00')], \n",
    "    conservative_max = [pd.to_datetime('2023-01-01 14:30:00')]\n",
    "))\n",
    "best_ests_df_3"
   ]
  },
  {
   "cell_type": "code",
   "execution_count": 140,
   "id": "faddbea4",
   "metadata": {},
   "outputs": [
    {
     "data": {
      "image/png": "[encoded data removed]",
      "text/plain": [
       "<Figure size 1008x432 with 1 Axes>"
      ]
     },
     "metadata": {
      "needs_background": "light"
     },
     "output_type": "display_data"
    }
   ],
   "source": [
    "fig, ax = Plot_General.default_subplots(fig_num=fig_num)\n",
    "\n",
    "fig, ax = AMINonVee.plot_usage(\n",
    "    fig=fig, \n",
    "    ax=ax, \n",
    "    data=ami_df_3, \n",
    "    x='starttimeperiod_local', \n",
    "    y='value', \n",
    "    hue='serialnumber', \n",
    ")\n",
    "ax.legend().set_visible(False)\n",
    "ax.set_xlim(ami_df_3.iloc[0]['starttimeperiod_local'], ami_df_3.iloc[-1]['starttimeperiod_local'])\n",
    "ax.xaxis.set_major_locator(dates.MinuteLocator(interval=15))\n",
    "ax.xaxis.set_major_formatter(dates.DateFormatter('%H:%M')) \n",
    "ax.grid(axis='x', which='both')\n",
    "add_all_best_ests_to_axis(\n",
    "    ax, \n",
    "    best_ests_df_3, \n",
    "    line_kwargs_by_est_key=dict(\n",
    "        conservative=dict(alpha=0.25, linewidth=5.0, ymax=0.6), \n",
    "        zero_times=dict(alpha=0.25, linewidth=5.0, ymax=0.4) \n",
    "    ), \n",
    "    keys_to_include=['conservative', 'zero_times']\n",
    ")\n",
    "#-----\n",
    "Plot_General.set_general_plotting_args(\n",
    "    ax=ax, \n",
    "    tick_args =[\n",
    "        dict(axis='x', labelrotation=0, labelsize=12.0, direction='out'), \n",
    "        dict(axis='y', labelrotation=0, labelsize=12.0, direction='out')\n",
    "    ], \n",
    "    xlabel_args=dict(xlabel=ax.get_xlabel(), fontsize=16, loc='center'), \n",
    "    ylabel_args=dict(ylabel=ax.get_ylabel(), fontsize=16, loc='top')\n",
    ")\n",
    "#-----\n",
    "# if save_figs:\n",
    "#     Plot_General.save_fig(\n",
    "#         fig=fig, \n",
    "#         save_dir=save_dir, \n",
    "#         save_name='UncertaintyIntervals.png'\n",
    "#     )\n",
    "#-----\n",
    "fig_num+=1"
   ]
  },
  {
   "cell_type": "code",
   "execution_count": null,
   "id": "d5b47745",
   "metadata": {},
   "outputs": [],
   "source": []
  },
  {
   "cell_type": "code",
   "execution_count": null,
   "id": "6a56262f",
   "metadata": {},
   "outputs": [],
   "source": []
  }
 ],
 "metadata": {
  "kernelspec": {
   "display_name": "Python 3 (ipykernel)",
   "language": "python",
   "name": "python3"
  },
  "language_info": {
   "codemirror_mode": {
    "name": "ipython",
    "version": 3
   },
   "file_extension": ".py",
   "mimetype": "text/x-python",
   "name": "python",
   "nbconvert_exporter": "python",
   "pygments_lexer": "ipython3",
   "version": "3.9.7"
  }
 },
 "nbformat": 4,
 "nbformat_minor": 5
}
