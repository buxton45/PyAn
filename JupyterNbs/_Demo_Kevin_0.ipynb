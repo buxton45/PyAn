{
 "cells": [
  {
   "cell_type": "code",
   "execution_count": null,
   "id": "2449b354",
   "metadata": {},
   "outputs": [],
   "source": [
    "import pandas as pd\n",
    "pd.__version__"
   ]
  },
  {
   "cell_type": "markdown",
   "id": "ee99a620",
   "metadata": {},
   "source": [
    "# Directions for running:\n",
    "\n",
    "For the purposes of this demonstration, let's assume your AEP User ID is s123456, and your local Documents directory\n",
    "is located at C:\\Users\\s123456\\Documents\n",
    "\n",
    "1. If not already done, clone the Analysis GitHub repo (https://github.aepsc.com/s346557/Analysis).\n",
    "<br>- I will assume the repo was cloned into the Documents directory, i.e. I assume your local copy of the repo is located at C:\\Users\\s123456\\Documents\\Analysis (and therefore, this Jupyter notebook should be located at C:\\Users\\s123456\\Documents\\Analysis\\JupyterNbs\\IT_Demo.ipynb)\n",
    "<br><br>\n",
    "\n",
    "2. Create a simple text file containing your AEP passwords.\n",
    "- I suggest you use the file pwd_file_template.txt in the Analysis directory (C:\\Users\\s123456\\Documents\\Analysis\\pwd_file_template.txt) to create your own password file.\n",
    "    - DO NOT ALTER the pwd_file_template.txt file, create a new pwd_file.txt file!\n",
    "- I further suggest you name your password file pwd_file.txt and place it in the Analysis directory (C:\\Users\\s123456\\Documents\\Analysis\\pwd_file.txt).\n",
    "    - The Git repo is set up to ignore pwd_file.txt in the Analysis directory, so your information will not be pushed up to the repo if saved in this manner.\n",
    "- NOTE: At one point, my Athena and Oracle passwords were different, which is why there is a 'Main' and 'Oracle' entry in the password file.  Likely you will put the same password for both entries.\n",
    "<br><br>\n",
    "\n",
    "3. IF NOT ALREADY DONE, run the method Utilities_config.generate_initial_config_file to initiate your config.yaml file\n",
    "- I suggest you input arguments for all three parameters (aep_user_id, pwd_file_path, and local_data_dir)\n",
    "    - If no aep_user_id is given, the code will attempt to determine your AEP User ID from the contents of your C:\\Users directory\n",
    "    - If no pwd_file_path is given, it is assumed to exist, be named pwd_file.txt, and be located in the Analysis directory (C:\\Users\\s123456\\Documents\\Analysis\\pwd_file.txt)\n",
    "    - If local_data_dir is not None, it should point to a directory when you plan to store any results (my personal local_data_dir is located at C:\\Users\\s346557\\Documents\\LocalData\\).\n",
    "        - If you are not planning to save or load any files locally, I believe this can be kept as None"
   ]
  },
  {
   "cell_type": "code",
   "execution_count": null,
   "id": "61adf612",
   "metadata": {},
   "outputs": [],
   "source": [
    "from importlib import reload\n",
    "\n",
    "import sys, os\n",
    "import re\n",
    "from pathlib import Path\n",
    "import pickle\n",
    "\n",
    "import pandas as pd\n",
    "import numpy as np\n",
    "from pandas.api.types import is_numeric_dtype, is_datetime64_dtype, is_timedelta64_dtype\n",
    "from scipy import stats\n",
    "import datetime\n",
    "import time\n",
    "from natsort import natsorted, ns, natsort_keygen\n",
    "from packaging import version\n",
    "\n",
    "import copy\n",
    "import itertools\n",
    "import adjustText\n",
    "\n",
    "import pyodbc\n",
    "#---------------------------------------------------------------------\n",
    "import matplotlib as mpl\n",
    "import matplotlib.pyplot as plt\n",
    "import seaborn as sns\n",
    "from matplotlib.backends.backend_pdf import PdfPages\n",
    "import matplotlib.patches as mpatches\n",
    "from matplotlib.lines import Line2D\n",
    "import matplotlib.ticker as ticker\n",
    "from matplotlib import dates\n",
    "import matplotlib.colors as mcolors\n",
    "import matplotlib.cm as cm #e.g. for cmap=cm.jet\n",
    "#---------------------------------------------------------------------\n",
    "sys.path.insert(0, os.path.realpath('..'))\n",
    "import Utilities_config"
   ]
  },
  {
   "cell_type": "markdown",
   "id": "5e58abb8",
   "metadata": {},
   "source": [
    "# ----------------------------------------------------------------------------------------------------\n",
    "# !!!!!!!!!!!!!!!!!!!!!!!!!!!!!!!!!!!!!!!!!!!!!!!!!!!!!!!!!!!!!!!!!!!!!!!!!!!!!!!!!!!!!!!!!!!!!!!!!!!!\n",
    "# ONLY NEED TO RUN ONCE!\n",
    "So, if you have already run Utilities_config.generate_initial_config_file (and your configuration has not changed since), there is no need to run again"
   ]
  },
  {
   "cell_type": "code",
   "execution_count": null,
   "id": "864e9e80",
   "metadata": {},
   "outputs": [],
   "source": [
    "run_config=False\n",
    "\n",
    "# REPLACE VALUES BELOW WITH YOUR OWN!!!!!!!!!!!!!!!!!!!!!!!!!\n",
    "aep_user_id = 's123456'\n",
    "pwd_file_path = r'C:\\Users\\s3123456\\Documents\\Analysis\\pwd_file.txt'\n",
    "local_data_dir = r'C:\\Users\\s123456\\Documents\\LocalData'\n",
    "#-----\n",
    "# Names below should equal those you chose for the databases in AQT.\n",
    "# If you don't have permissions for one, simply leave the default value.\n",
    "# At the time of writing (Feb. 2024), to use the software, one typically needs connections to Athena Prod, \n",
    "#   UTLDB01P, and possibly EEMSP\n",
    "athena_prod_dsn = 'Athena Prod'\n",
    "athena_dev_dsn  = 'Athena Dev'\n",
    "athena_qa_dsn   = 'Athena QA'\n",
    "utldb01p_dsn    = 'UTLDB01P'\n",
    "eemsp_dsn       = 'EEMSP'\n",
    "\n",
    "# !!!!!!!!!!!!!!!!!!!!!!!!!!!!!!!!!!!!!!!!!!!!!!!!!!!!!!!!!!!\n",
    "if run_config:\n",
    "    Utilities_config.generate_initial_config_file(\n",
    "        aep_user_id                  = aep_user_id, \n",
    "        pwd_file_path                = pwd_file_path, \n",
    "        local_data_dir               = local_data_dir, \n",
    "        create_local_data_dir_if_dne = True, \n",
    "        athena_prod_dsn              = athena_prod_dsn, \n",
    "        athena_dev_dsn               = athena_dev_dsn, \n",
    "        athena_qa_dsn                = athena_qa_dsn, \n",
    "        utldb01p_dsn                 = utldb01p_dsn, \n",
    "        eemsp_dsn                    = eemsp_dsn, \n",
    "    )"
   ]
  },
  {
   "cell_type": "markdown",
   "id": "89da2d29",
   "metadata": {},
   "source": [
    "# !!!!!!!!!!!!!!!!!!!!!!!!!!!!!!!!!!!!!!!!!!!!!!!!!!!!!!!!!!!!!!!!!!!!!!!!!!!!!!!!!!!!!!!!!!!!!!!!!!!!\n",
    "# ----------------------------------------------------------------------------------------------------"
   ]
  },
  {
   "cell_type": "code",
   "execution_count": null,
   "id": "e9764e04",
   "metadata": {},
   "outputs": [],
   "source": [
    "#---------------------------------------------------------------------\n",
    "import CommonLearningMethods as clm\n",
    "#-----\n",
    "from MeterPremise import MeterPremise\n",
    "from EEMSP import EEMSP\n",
    "#-----\n",
    "from AMI_SQL import AMI_SQL\n",
    "from AMINonVee_SQL import AMINonVee_SQL\n",
    "from AMIEndEvents_SQL import AMIEndEvents_SQL\n",
    "from AMIUsgInst_SQL import AMIUsgInst_SQL\n",
    "from DOVSOutages_SQL import DOVSOutages_SQL\n",
    "#-----\n",
    "from GenAn import GenAn\n",
    "from AMINonVee import AMINonVee\n",
    "from AMIEndEvents import AMIEndEvents\n",
    "from MECPODf import MECPODf\n",
    "from MECPOAn import MECPOAn\n",
    "from AMIUsgInst import AMIUsgInst\n",
    "from DOVSOutages import DOVSOutages\n",
    "from DOVSAudit import DOVSAudit\n",
    "#---------------------------------------------------------------------\n",
    "sys.path.insert(0, Utilities_config.get_sql_aids_dir())\n",
    "import Utilities_sql\n",
    "import TableInfos\n",
    "from TableInfos import TableInfo\n",
    "from SQLElement import SQLElement\n",
    "from SQLElementsCollection import SQLElementsCollection\n",
    "from SQLSelect import SQLSelectElement, SQLSelect\n",
    "from SQLFrom import SQLFrom\n",
    "from SQLWhere import SQLWhereElement, SQLWhere\n",
    "from SQLJoin import SQLJoin, SQLJoinCollection\n",
    "from SQLGroupBy import SQLGroupByElement, SQLGroupBy\n",
    "from SQLHaving import SQLHaving\n",
    "from SQLOrderBy import SQLOrderByElement, SQLOrderBy\n",
    "from SQLQuery import SQLQuery\n",
    "from SQLQueryGeneric import SQLQueryGeneric\n",
    "#---------------------------------------------------------------------\n",
    "sys.path.insert(0, Utilities_config.get_utilities_dir())\n",
    "import Utilities\n",
    "import Utilities_df\n",
    "from Utilities_df import DFConstructType\n",
    "import Utilities_dt\n",
    "import Plot_General\n",
    "import DataFrameSubsetSlicer\n",
    "from DataFrameSubsetSlicer import DataFrameSubsetSlicer as DFSlicer\n",
    "from DataFrameSubsetSlicer import DataFrameSubsetSingleSlicer as DFSingleSlicer\n",
    "#---------------------------------------------------------------------"
   ]
  },
  {
   "cell_type": "markdown",
   "id": "d5771496",
   "metadata": {},
   "source": [
    "# ----------------------------------------------------------------------------------------------------\n",
    "# GENERAL STUFF\n",
    "# ----------------------------------------------------------------------------------------------------"
   ]
  },
  {
   "cell_type": "markdown",
   "id": "1abba891",
   "metadata": {},
   "source": [
    "### MeterPremise class"
   ]
  },
  {
   "cell_type": "code",
   "execution_count": null,
   "id": "5f3a0784",
   "metadata": {},
   "outputs": [],
   "source": [
    "mp = MeterPremise(\n",
    "    init_df_in_constructor    = False, \n",
    "    build_sql_function        = MeterPremise.build_sql_meter_premise, \n",
    "    build_sql_function_kwargs = dict(\n",
    "        curr_cust_nm = 'HENNESSEY KEVIN', \n",
    "        state        = 'oh'\n",
    "    ), \n",
    ")"
   ]
  },
  {
   "cell_type": "code",
   "execution_count": null,
   "id": "3195e039",
   "metadata": {},
   "outputs": [],
   "source": [
    "print(mp.get_sql_statement())"
   ]
  },
  {
   "cell_type": "code",
   "execution_count": null,
   "id": "b9a7a844",
   "metadata": {},
   "outputs": [],
   "source": [
    "mp = MeterPremise(\n",
    "    init_df_in_constructor    = True, \n",
    "    build_sql_function        = MeterPremise.build_sql_meter_premise, \n",
    "    build_sql_function_kwargs = dict(\n",
    "        curr_cust_nm = 'HENNESSEY KEVIN', \n",
    "        state        = 'OH'\n",
    "    ), \n",
    ")"
   ]
  },
  {
   "cell_type": "code",
   "execution_count": null,
   "id": "59251a70",
   "metadata": {},
   "outputs": [],
   "source": [
    "mp.df"
   ]
  },
  {
   "cell_type": "code",
   "execution_count": null,
   "id": "74e93849",
   "metadata": {},
   "outputs": [],
   "source": []
  },
  {
   "cell_type": "markdown",
   "id": "7a119f5f",
   "metadata": {},
   "source": [
    "### AMINonVee"
   ]
  },
  {
   "cell_type": "code",
   "execution_count": null,
   "id": "93589418",
   "metadata": {},
   "outputs": [],
   "source": [
    "ami = AMINonVee(\n",
    "    init_df_in_constructor    = True, \n",
    "    build_sql_function        = AMINonVee_SQL.build_sql_usg, \n",
    "    build_sql_function_kwargs = dict(\n",
    "        premise_nbs = mp.df['prem_nb'].unique().tolist(), \n",
    "        date_range  = ['2024-01-01', '2024-01-07']\n",
    "    ), \n",
    ")"
   ]
  },
  {
   "cell_type": "code",
   "execution_count": null,
   "id": "1378e3d5",
   "metadata": {},
   "outputs": [],
   "source": [
    "ami.df"
   ]
  },
  {
   "cell_type": "code",
   "execution_count": null,
   "id": "3181959d",
   "metadata": {},
   "outputs": [],
   "source": [
    "print(ami.get_sql_statement())"
   ]
  },
  {
   "cell_type": "code",
   "execution_count": null,
   "id": "5d3c52df",
   "metadata": {},
   "outputs": [],
   "source": []
  },
  {
   "cell_type": "markdown",
   "id": "42c26f25",
   "metadata": {},
   "source": [
    "### AMIEndEvents"
   ]
  },
  {
   "cell_type": "code",
   "execution_count": null,
   "id": "54f23643",
   "metadata": {},
   "outputs": [],
   "source": [
    "ami_ede = AMIEndEvents(\n",
    "    init_df_in_constructor    = True, \n",
    "    build_sql_function        = AMIEndEvents_SQL.build_sql_end_events, \n",
    "    build_sql_function_kwargs = dict(\n",
    "        premise_nbs = mp.df['prem_nb'].unique().tolist(), \n",
    "        date_range  = ['2023-01-01', '2023-12-31']\n",
    "    ), \n",
    ")"
   ]
  },
  {
   "cell_type": "code",
   "execution_count": null,
   "id": "5bf2947e",
   "metadata": {},
   "outputs": [],
   "source": [
    "ami_ede.df"
   ]
  },
  {
   "cell_type": "code",
   "execution_count": null,
   "id": "93dfb73e",
   "metadata": {},
   "outputs": [],
   "source": []
  },
  {
   "cell_type": "markdown",
   "id": "11ec3129",
   "metadata": {},
   "source": [
    "### DOVS"
   ]
  },
  {
   "cell_type": "code",
   "execution_count": null,
   "id": "9c8a0520",
   "metadata": {},
   "outputs": [],
   "source": [
    "dovs = DOVSOutages(\n",
    "    init_df_in_constructor    = True, \n",
    "    build_sql_function        = DOVSOutages_SQL.build_sql_std_outage, \n",
    "    build_sql_function_kwargs = dict(\n",
    "        premise_nbs = mp.df['prem_nb'].unique().tolist(), \n",
    "        date_range  = ['2023-01-01', '2023-12-31']\n",
    "    ), \n",
    "    build_consolidated        = True\n",
    ")"
   ]
  },
  {
   "cell_type": "code",
   "execution_count": null,
   "id": "eac6e3de",
   "metadata": {},
   "outputs": [],
   "source": [
    "dovs.df"
   ]
  },
  {
   "cell_type": "code",
   "execution_count": null,
   "id": "8f9ca1cf",
   "metadata": {},
   "outputs": [],
   "source": []
  },
  {
   "cell_type": "markdown",
   "id": "dc4aebad",
   "metadata": {},
   "source": [
    "# ----------------------------------------------------------------------------------------------------\n",
    "# RUNNING THE ALGORITHM\n",
    "# ----------------------------------------------------------------------------------------------------"
   ]
  },
  {
   "cell_type": "markdown",
   "id": "1f6f5d01",
   "metadata": {},
   "source": [
    "## No local data, everything on-the-fly"
   ]
  },
  {
   "cell_type": "code",
   "execution_count": null,
   "id": "2cd73e5f",
   "metadata": {},
   "outputs": [],
   "source": [
    "# outg_rec_nb = '13464549'\n",
    "outg_rec_nb = dovs.df.index[0]\n",
    "search_time_half_window=pd.Timedelta('24 hours')"
   ]
  },
  {
   "cell_type": "code",
   "execution_count": null,
   "id": "3f15faac",
   "metadata": {},
   "outputs": [],
   "source": [
    "#-------------------------\n",
    "audit_i = DOVSAudit(\n",
    "    outg_rec_nb=outg_rec_nb\n",
    ")\n",
    "#-------------------------\n",
    "audit_i.load_dovs(\n",
    "    dovs_df           = None, \n",
    "    dovs_df_info_dict = None\n",
    ")\n",
    "#-------------------------\n",
    "audit_i.build_mp_df(\n",
    "    drop_mp_dups_fuzziness=pd.Timedelta('1 hour')\n",
    ")\n",
    "#-------------------------\n",
    "audit_i.run_ami_and_ede_daq(\n",
    "    search_time_half_window=search_time_half_window\n",
    ")"
   ]
  },
  {
   "cell_type": "code",
   "execution_count": null,
   "id": "5a3eba11",
   "metadata": {},
   "outputs": [],
   "source": [
    "audit_i.build_best_ests_df()\n",
    "audit_i.best_ests_df"
   ]
  },
  {
   "cell_type": "code",
   "execution_count": null,
   "id": "393a8f7c",
   "metadata": {},
   "outputs": [],
   "source": [
    "audit_i.identify_overlaps(overlaps_dovs_sql_fcn=DOVSOutages_SQL.build_sql_outage)"
   ]
  },
  {
   "cell_type": "code",
   "execution_count": null,
   "id": "b473bed0",
   "metadata": {},
   "outputs": [],
   "source": [
    "audit_i.best_ests_df_w_keep_info"
   ]
  },
  {
   "cell_type": "code",
   "execution_count": null,
   "id": "3be3aae5",
   "metadata": {},
   "outputs": [],
   "source": [
    "audit_i.best_ests_df"
   ]
  },
  {
   "cell_type": "code",
   "execution_count": null,
   "id": "6d70e8cf",
   "metadata": {},
   "outputs": [],
   "source": [
    "audit_i.resolve_overlapping_audits()"
   ]
  },
  {
   "cell_type": "code",
   "execution_count": null,
   "id": "2d1fb7b1",
   "metadata": {},
   "outputs": [],
   "source": [
    "fig, ax = audit_i.plot_ami_around_outage(\n",
    "    expand_time=pd.Timedelta('1H'), \n",
    "    slicer=None, \n",
    "    draw_legend=False, \n",
    "    fig_num=0, \n",
    "    x='starttimeperiod_local', \n",
    "    y='value', \n",
    "    hue='aep_premise_nb', \n",
    ")"
   ]
  },
  {
   "cell_type": "code",
   "execution_count": null,
   "id": "e0162fe3",
   "metadata": {},
   "outputs": [],
   "source": [
    "fig, ax = audit_i.plot_ami_around_outage(\n",
    "    expand_time=pd.Timedelta('1H'), \n",
    "    slicer=DFSingleSlicer(\n",
    "        column = 'aep_premise_nb', \n",
    "        value  = audit_i.ami_df_i['aep_premise_nb'].unique().tolist()[:4], \n",
    "        comparison_operator = 'isin'\n",
    "    ), \n",
    "    draw_legend=True, \n",
    "    fig_num=0, \n",
    "    x='starttimeperiod_local', \n",
    "    y='value', \n",
    "    hue='aep_premise_nb', \n",
    ")"
   ]
  },
  {
   "cell_type": "code",
   "execution_count": null,
   "id": "f9eb6585",
   "metadata": {},
   "outputs": [],
   "source": []
  },
  {
   "cell_type": "code",
   "execution_count": null,
   "id": "c2836a16",
   "metadata": {},
   "outputs": [],
   "source": []
  },
  {
   "cell_type": "code",
   "execution_count": null,
   "id": "a2909f78",
   "metadata": {},
   "outputs": [],
   "source": []
  },
  {
   "cell_type": "markdown",
   "id": "29bb89d7",
   "metadata": {},
   "source": [
    "### More interesting results..."
   ]
  },
  {
   "cell_type": "code",
   "execution_count": null,
   "id": "e15d6516",
   "metadata": {},
   "outputs": [],
   "source": [
    "outg_rec_nb = '13582178'\n",
    "search_time_half_window=pd.Timedelta('24 hours')"
   ]
  },
  {
   "cell_type": "code",
   "execution_count": null,
   "id": "d049d8bd",
   "metadata": {},
   "outputs": [],
   "source": [
    "#-------------------------\n",
    "audit_i = DOVSAudit(\n",
    "    outg_rec_nb=outg_rec_nb\n",
    ")\n",
    "#-------------------------\n",
    "audit_i.load_dovs(\n",
    "    dovs_df           = None, \n",
    "    dovs_df_info_dict = None\n",
    ")\n",
    "#-------------------------\n",
    "audit_i.build_mp_df(\n",
    "    drop_mp_dups_fuzziness=pd.Timedelta('1 hour')\n",
    ")\n",
    "#-------------------------\n",
    "audit_i.run_ami_and_ede_daq(\n",
    "    search_time_half_window=search_time_half_window\n",
    ")\n",
    "#-------------------------\n",
    "audit_i.build_best_ests_df()\n",
    "#-------------------------\n",
    "audit_i.identify_overlaps(overlaps_dovs_sql_fcn=DOVSOutages_SQL.build_sql_outage)\n",
    "#-------------------------\n",
    "audit_i.resolve_overlapping_audits()\n",
    "#-------------------------"
   ]
  },
  {
   "cell_type": "code",
   "execution_count": null,
   "id": "6dbf3b19",
   "metadata": {},
   "outputs": [],
   "source": [
    "means_df, best_ests_df_w_db_lbl = DOVSAudit.get_mean_times_w_dbscan(\n",
    "    best_ests_df                  = audit_i.best_ests_df, \n",
    "    eps_min                       = 5, \n",
    "    min_samples                   = 2, \n",
    "    ests_to_include_in_clustering = ['winner_min', 'winner_max'],\n",
    "    ests_to_include_in_output     = [\n",
    "        'winner_min', 'winner_max', \n",
    "        'conservative_min', 'conservative_max', \n",
    "        'zero_times_min', 'zero_times_max'\n",
    "    ], \n",
    "    return_labelled_best_ests_df  = True\n",
    ")\n",
    "#-------------------------\n",
    "n_PNs_w_power_srs = DOVSAudit.build_n_PNs_w_power_srs(\n",
    "    best_ests_df  = audit_i.best_ests_df, \n",
    "    ami_df_i      = audit_i.ami_df_i, \n",
    "    return_pct    = True, \n",
    "    PN_col        = 'PN', \n",
    "    t_min_col     = 'winner_min', \n",
    "    t_max_col     = 'winner_max', \n",
    "    i_outg_col    = 'i_outg', \n",
    "    PN_col_ami_df = 'aep_premise_nb'\n",
    ")   "
   ]
  },
  {
   "cell_type": "code",
   "execution_count": null,
   "id": "daeaee3a",
   "metadata": {},
   "outputs": [],
   "source": [
    "#-------------------------\n",
    "ami_df_i = audit_i.ami_df_i.copy()\n",
    "#--------------------------------------------------\n",
    "# Instead of using get_full_part_not_outage_subset_dfs, simply grab the PNs which suffered\n",
    "#   outages from best_ests_df\n",
    "if audit_i.best_ests_df.shape[0]>0:\n",
    "    outg_SNs = audit_i.best_ests_df['PN'].unique().tolist()\n",
    "    removed_due_to_overlap_col = 'removed_due_to_overlap'\n",
    "else:\n",
    "    outg_SNs = []\n",
    "    removed_due_to_overlap_col = None\n",
    "#-----\n",
    "ami_df_i_out      = ami_df_i[ami_df_i['aep_premise_nb'].isin(outg_SNs)]\n",
    "ami_df_i_not_out  = ami_df_i[~ami_df_i['aep_premise_nb'].isin(outg_SNs)]  "
   ]
  },
  {
   "cell_type": "code",
   "execution_count": null,
   "id": "f140929f",
   "metadata": {},
   "outputs": [],
   "source": [
    "#--------------------------------------------------\n",
    "if audit_i.best_ests_df_w_keep_info is not None and audit_i.best_ests_df_w_keep_info.shape[0]>0:\n",
    "    ptntl_ovrlp_outg_rec_nbs = list(set(audit_i.best_ests_df_w_keep_info['overlap_DOVS'].sum()))\n",
    "    if len(ptntl_ovrlp_outg_rec_nbs)>0:\n",
    "        ovrlp_dovs = DOVSOutages(\n",
    "            df_construct_type=DFConstructType.kRunSqlQuery, \n",
    "            contstruct_df_args=None, \n",
    "            init_df_in_constructor=True,\n",
    "            build_sql_function=DOVSOutages_SQL.build_sql_outage, \n",
    "            build_sql_function_kwargs=dict(\n",
    "                outg_rec_nbs=ptntl_ovrlp_outg_rec_nbs, \n",
    "                include_premise=True\n",
    "            ), \n",
    "            build_consolidated=True\n",
    "        )\n",
    "        other_dovs_events_df = ovrlp_dovs.df.reset_index().copy()\n",
    "    else:\n",
    "        other_dovs_events_df = None\n",
    "else:\n",
    "    other_dovs_events_df = None"
   ]
  },
  {
   "cell_type": "code",
   "execution_count": null,
   "id": "4570b263",
   "metadata": {},
   "outputs": [],
   "source": [
    "%run ./check_DOVS_METHODS.ipynb"
   ]
  },
  {
   "cell_type": "code",
   "execution_count": null,
   "id": "910feba6",
   "metadata": {},
   "outputs": [],
   "source": [
    "removed_due_to_overlap_col =None\n",
    "n_PNs_w_power_threshold = 0.95\n",
    "#----------------------------------------------------------------------------------------------------\n",
    "fig, axs = plot_all_out_not_NEW(\n",
    "    fig_num                    = 0, \n",
    "    ami_df_i                   = ami_df_i, \n",
    "    ami_df_i_out               = ami_df_i_out, \n",
    "    ami_df_i_not_out           = ami_df_i_not_out, \n",
    "    dovs_outg_t_beg            = audit_i.dovs_outg_t_beg_end[0], \n",
    "    dovs_outg_t_end            = audit_i.dovs_outg_t_beg_end[1], \n",
    "    cnsrvtv_out_t_beg          = audit_i.dovs_outg_t_beg_end[0], \n",
    "    cnsrvtv_out_t_end          = audit_i.dovs_outg_t_beg_end[1], \n",
    "    means_df                   = means_df, \n",
    "    outg_rec_nb                = audit_i.outg_rec_nb, \n",
    "    outage_nb                  = audit_i.outage_nb, \n",
    "    n_PNs_dovs                 = audit_i.n_PNs_dovs, \n",
    "    ci_dovs                    = audit_i.ci_cmi_dovs[0], \n",
    "    cmi_dovs                   = audit_i.ci_cmi_dovs[1], \n",
    "    ci_ami                     = audit_i.ci, \n",
    "    cmi_ami                    = audit_i.cmi, \n",
    "    name                       = 'AMI', \n",
    "    results_2_dict             = None, \n",
    "    expand_time                = pd.Timedelta('1 hour'), \n",
    "    removed_due_to_overlap_col = removed_due_to_overlap_col, \n",
    "    mean_keys_to_include       = ['winner', 'conservative', 'zero_times'], \n",
    "    default_subplots_args      = dict(n_x=2, n_y=2, row_major=True, sharex=True), \n",
    "    other_dovs_events_df       = other_dovs_events_df, \n",
    "    leg_i_plot                 = 1, \n",
    "    leg_kwargs                 = dict(ncols=1, fontsize=15, bbox_to_anchor=(1, 1.2)), \n",
    "    ci_info_fontsize           = 16, \n",
    "    left_text_x                = 0.915  \n",
    ")\n",
    "\n",
    "if n_PNs_w_power_srs is not None:\n",
    "    fig, axs[3] = DOVSAudit.static_plot_n_PNs_w_power_srs(\n",
    "        n_PNs_w_power_srs = n_PNs_w_power_srs, \n",
    "        simp_freq         = '1T', \n",
    "        threshold         = n_PNs_w_power_threshold, \n",
    "        fig_num           = 0, \n",
    "        fig_ax            = (fig, axs[3]), \n",
    "        threshold_color   = 'magenta'\n",
    "    )\n",
    "\n",
    "for ax_i in axs:\n",
    "    ax_i.xaxis.set_tick_params(labelbottom=True)"
   ]
  },
  {
   "cell_type": "code",
   "execution_count": null,
   "id": "deca1512-f908-4959-8a5c-c675b99e8d60",
   "metadata": {},
   "outputs": [],
   "source": []
  },
  {
   "cell_type": "code",
   "execution_count": null,
   "id": "76a44909-1bec-4ec7-8770-6358a5a239b8",
   "metadata": {},
   "outputs": [],
   "source": []
  }
 ],
 "metadata": {
  "kernelspec": {
   "display_name": "Python 3 (ipykernel)",
   "language": "python",
   "name": "python3"
  },
  "language_info": {
   "codemirror_mode": {
    "name": "ipython",
    "version": 3
   },
   "file_extension": ".py",
   "mimetype": "text/x-python",
   "name": "python",
   "nbconvert_exporter": "python",
   "pygments_lexer": "ipython3",
   "version": "3.11.7"
  }
 },
 "nbformat": 4,
 "nbformat_minor": 5
}
