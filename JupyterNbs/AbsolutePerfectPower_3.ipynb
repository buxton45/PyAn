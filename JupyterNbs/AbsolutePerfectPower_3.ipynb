{
 "cells": [
  {
   "cell_type": "code",
   "execution_count": null,
   "id": "8bf88300-dbe5-4de1-837f-0bb393be2e15",
   "metadata": {},
   "outputs": [],
   "source": [
    "from importlib import reload\n",
    "#reload(Utilities)\n",
    "#reload(clm)\n",
    "\n",
    "import sys, os\n",
    "import re\n",
    "import pickle\n",
    "\n",
    "import pandas as pd\n",
    "import numpy as np\n",
    "from pandas.api.types import is_numeric_dtype, is_datetime64_dtype, is_timedelta64_dtype\n",
    "from scipy import stats\n",
    "import datetime\n",
    "import time\n",
    "from natsort import natsorted, ns, natsort_keygen\n",
    "from packaging import version\n",
    "\n",
    "import copy\n",
    "import itertools\n",
    "import adjustText\n",
    "\n",
    "import pyodbc\n",
    "#---------------------------------------------------------------------\n",
    "sys.path.insert(0, os.path.realpath('..'))\n",
    "import Utilities_config\n",
    "#-----\n",
    "import CommonLearningMethods as clm\n",
    "#-----\n",
    "from MeterPremise import MeterPremise\n",
    "#-----\n",
    "from AMI_SQL import AMI_SQL\n",
    "from AMINonVee_SQL import AMINonVee_SQL\n",
    "from AMIEndEvents_SQL import AMIEndEvents_SQL\n",
    "from AMIUsgInst_SQL import AMIUsgInst_SQL\n",
    "from DOVSOutages_SQL import DOVSOutages_SQL\n",
    "#-----\n",
    "from GenAn import GenAn\n",
    "from AMINonVee import AMINonVee\n",
    "from AMIEndEvents import AMIEndEvents\n",
    "from AMIUsgInst import AMIUsgInst\n",
    "from DOVSOutages import DOVSOutages\n",
    "from AbsPerfectPower import AbsPerfectPower as appwr \n",
    "#-----\n",
    "from DOVSAudit import DOVSAudit\n",
    "from DABatch import DABatch\n",
    "#---------------------------------------------------------------------\n",
    "import matplotlib as mpl\n",
    "import matplotlib.pyplot as plt\n",
    "import seaborn as sns\n",
    "from matplotlib.backends.backend_pdf import PdfPages\n",
    "import matplotlib.patches as mpatches\n",
    "from matplotlib.lines import Line2D\n",
    "import matplotlib.ticker as ticker\n",
    "from matplotlib import dates\n",
    "#---------------------------------------------------------------------\n",
    "sys.path.insert(0, Utilities_config.get_sql_aids_dir())\n",
    "import Utilities_sql\n",
    "import TableInfos\n",
    "from TableInfos import TableInfo\n",
    "from SQLElement import SQLElement\n",
    "from SQLElementsCollection import SQLElementsCollection\n",
    "from SQLSelect import SQLSelectElement, SQLSelect\n",
    "from SQLFrom import SQLFrom\n",
    "from SQLWhere import SQLWhereElement, SQLWhere\n",
    "from SQLJoin import SQLJoin, SQLJoinCollection\n",
    "from SQLGroupBy import SQLGroupByElement, SQLGroupBy\n",
    "from SQLHaving import SQLHaving\n",
    "from SQLOrderBy import SQLOrderByElement, SQLOrderBy\n",
    "from SQLQuery import SQLQuery\n",
    "from SQLQueryGeneric import SQLQueryGeneric\n",
    "#---------------------------------------------------------------------\n",
    "sys.path.insert(0, Utilities_config.get_utilities_dir())\n",
    "import Utilities\n",
    "import Utilities_df\n",
    "import Utilities_dt\n",
    "from Utilities_df import DFConstructType\n",
    "import Plot_General\n",
    "import Plot_Box_sns\n",
    "import Plot_Hist\n",
    "import GrubbsTest\n",
    "import DataFrameSubsetSlicer\n",
    "from DataFrameSubsetSlicer import DataFrameSubsetSlicer as DFSlicer\n",
    "from DataFrameSubsetSlicer import DataFrameSubsetSingleSlicer as DFSingleSlicer"
   ]
  },
  {
   "cell_type": "code",
   "execution_count": null,
   "id": "51d1ec69-f123-4ca5-a480-6cabf4b875c0",
   "metadata": {},
   "outputs": [],
   "source": []
  },
  {
   "cell_type": "code",
   "execution_count": null,
   "id": "1651d5d3-7611-428c-94a9-247ea947409e",
   "metadata": {},
   "outputs": [],
   "source": [
    "lom1 = pd.read_pickle(r'C:\\Users\\s346557\\Documents\\LocalData\\abs_perfect_power\\OPCOs_OLD\\ap\\20231001_20240930\\METHOD_2\\partials\\20231001_20231031.pkl')\n",
    "lom2 = pd.read_pickle(r'C:\\Users\\s346557\\Documents\\LocalData\\abs_perfect_power\\OPCOs_NEWFF\\ap\\20231001_20240930\\METHOD_2\\partials\\20231001_20231031.pkl')\n",
    "lom3 = pd.read_pickle(r'C:\\Users\\s346557\\Documents\\LocalData\\abs_perfect_power\\OPCOs_NEWFT\\ap\\20231001_20240930\\METHOD_2\\partials\\20231001_20231031.pkl')\n",
    "lom4 = pd.read_pickle(r'C:\\Users\\s346557\\Documents\\LocalData\\abs_perfect_power\\OPCOs_NEWTT\\ap\\20231001_20240930\\METHOD_2\\partials\\20231001_20231031.pkl')"
   ]
  },
  {
   "cell_type": "code",
   "execution_count": null,
   "id": "d8568038-8e2c-43e6-a2b2-040531da9392",
   "metadata": {},
   "outputs": [],
   "source": [
    "print(lom1.shape)\n",
    "print(lom2.shape)\n",
    "print(lom3.shape)\n",
    "print(lom4.shape)"
   ]
  },
  {
   "cell_type": "code",
   "execution_count": null,
   "id": "14a09795-da82-45d9-97ad-3aea37cdb75c",
   "metadata": {},
   "outputs": [],
   "source": []
  },
  {
   "cell_type": "code",
   "execution_count": null,
   "id": "d101512f-b271-431c-88d3-ee644e53dc30",
   "metadata": {},
   "outputs": [],
   "source": [
    "dev_df = lom3.copy()"
   ]
  },
  {
   "cell_type": "code",
   "execution_count": null,
   "id": "84862552-8e82-4d24-a096-a62bba851450",
   "metadata": {},
   "outputs": [],
   "source": [
    "# dev_df.dropna(subset=['aep_premise_nb'])"
   ]
  },
  {
   "cell_type": "code",
   "execution_count": null,
   "id": "11140ad3-34f5-49f2-97aa-bdc95e663dab",
   "metadata": {},
   "outputs": [],
   "source": [
    "# dev_df = dev_df.iloc[:10000].copy()\n",
    "# dev_df = pd.concat([dev_df.iloc[:10000], dev_df.iloc[-10000:]])\n",
    "# dev_df = dev_df.sort_values(by=['serialnumber', 'island_start_starttimeperiod'], ignore_index=True).iloc[:100000]"
   ]
  },
  {
   "cell_type": "code",
   "execution_count": null,
   "id": "deb961fa-3467-476e-bb70-092507d11887",
   "metadata": {},
   "outputs": [],
   "source": [
    "dev_df"
   ]
  },
  {
   "cell_type": "code",
   "execution_count": null,
   "id": "6b0b1e2b-f4d8-4cec-aa69-fedce64401c2",
   "metadata": {},
   "outputs": [],
   "source": [
    "start = time.time()\n",
    "yeet1 = appwr.combine_zero_times_by_PN(\n",
    "    zero_times_df = dev_df, \n",
    "    t_min_col     = 'island_start_starttimeperiod', \n",
    "    t_max_col     = 'island_end_starttimeperiod', \n",
    "    PN_col        = 'aep_premise_nb',    \n",
    ")\n",
    "print(time.time()-start)"
   ]
  },
  {
   "cell_type": "code",
   "execution_count": null,
   "id": "064f89b2-8438-406c-8c4f-6edce5dff4e7",
   "metadata": {},
   "outputs": [],
   "source": [
    "yeet1"
   ]
  },
  {
   "cell_type": "code",
   "execution_count": null,
   "id": "7c91b471-6151-4147-8778-a764aefcf21d",
   "metadata": {},
   "outputs": [],
   "source": []
  },
  {
   "cell_type": "code",
   "execution_count": null,
   "id": "fa7e8afc-e0e1-43c5-a3fb-566595066236",
   "metadata": {},
   "outputs": [],
   "source": [
    "appwr.build_acc_srvc_intrrptns_table_df(\n",
    "    zero_times_df = dev_df, \n",
    "    SN_col        = 'serialnumber'\n",
    ")"
   ]
  },
  {
   "cell_type": "code",
   "execution_count": null,
   "id": "c22e6e0d-eb3a-4e60-9607-f68f065dd868",
   "metadata": {},
   "outputs": [],
   "source": [
    "appwr.build_acc_srvc_intrrptns_table_df(\n",
    "    zero_times_df = yeet1, \n",
    "    SN_col        = 'aep_premise_nb'\n",
    ")"
   ]
  },
  {
   "cell_type": "code",
   "execution_count": null,
   "id": "9f9fab4c-61ee-4732-9605-db7263b8a9c8",
   "metadata": {},
   "outputs": [],
   "source": []
  },
  {
   "cell_type": "code",
   "execution_count": null,
   "id": "4b3380be-a6f3-4cb0-a2d3-589dcc3682e0",
   "metadata": {},
   "outputs": [],
   "source": []
  },
  {
   "cell_type": "code",
   "execution_count": null,
   "id": "b3b8ccdf-2c7d-4e5d-add8-b0c644c93f7c",
   "metadata": {},
   "outputs": [],
   "source": []
  },
  {
   "cell_type": "code",
   "execution_count": null,
   "id": "8af4c4a8-ab96-47d8-b711-ea6f8e5218e1",
   "metadata": {},
   "outputs": [],
   "source": []
  },
  {
   "cell_type": "code",
   "execution_count": null,
   "id": "a1bc6eb6-082f-471e-9091-1254aabece86",
   "metadata": {},
   "outputs": [],
   "source": [
    "lom3.head()"
   ]
  },
  {
   "cell_type": "code",
   "execution_count": null,
   "id": "3e737083-eeed-4a92-a99c-a4c972656b3f",
   "metadata": {},
   "outputs": [],
   "source": [
    "print(lom1['serialnumber'].nunique())\n",
    "print(lom2['serialnumber'].nunique())\n",
    "print(lom3['serialnumber'].nunique())\n",
    "print(lom4['serialnumber'].nunique())"
   ]
  },
  {
   "cell_type": "code",
   "execution_count": null,
   "id": "281eca2e-2432-4ecf-ad11-438197d800f9",
   "metadata": {},
   "outputs": [],
   "source": [
    "lom3.sort_values(by=['serialnumber', 'island_start_starttimeperiod'], ignore_index=True).equals(\n",
    "lom4.sort_values(by=['serialnumber', 'island_start_starttimeperiod'], ignore_index=True)\n",
    ")"
   ]
  },
  {
   "cell_type": "code",
   "execution_count": null,
   "id": "a482415a-72f9-41a9-9138-a3fcfe5706fc",
   "metadata": {},
   "outputs": [],
   "source": []
  },
  {
   "cell_type": "code",
   "execution_count": null,
   "id": "d1dc67ee-47e0-449e-9ac0-33ed2cedae14",
   "metadata": {},
   "outputs": [],
   "source": [
    "vcs_1 = lom1['serialnumber'].value_counts()\n",
    "vcs_1"
   ]
  },
  {
   "cell_type": "code",
   "execution_count": null,
   "id": "0cddaa96-6bde-4f1b-bd13-98ed9c24bc2a",
   "metadata": {},
   "outputs": [],
   "source": [
    "vcs_3 = lom3['serialnumber'].value_counts()\n",
    "vcs_3"
   ]
  },
  {
   "cell_type": "code",
   "execution_count": null,
   "id": "d2ee8807-7f6b-420d-9a77-349e6edba377",
   "metadata": {},
   "outputs": [],
   "source": [
    "vcs_1.equals(vcs_3)"
   ]
  },
  {
   "cell_type": "code",
   "execution_count": null,
   "id": "f92b6874-343c-400a-80e6-8db5666c28c3",
   "metadata": {},
   "outputs": [],
   "source": [
    "vcs_1_df = vcs_1.to_frame().sort_index().reset_index()\n",
    "vcs_3_df = vcs_3.to_frame().sort_index().reset_index()"
   ]
  },
  {
   "cell_type": "code",
   "execution_count": null,
   "id": "e0949189-bd5b-41dd-935a-19db8bd14b2c",
   "metadata": {},
   "outputs": [],
   "source": [
    "dffs = Utilities_df.get_dfs_diff(\n",
    "    vcs_1_df, \n",
    "    vcs_3_df\n",
    ")"
   ]
  },
  {
   "cell_type": "code",
   "execution_count": null,
   "id": "51c35d48-62ec-418b-9493-36d29a1ab55b",
   "metadata": {},
   "outputs": [],
   "source": [
    "dffs.head(20)"
   ]
  },
  {
   "cell_type": "code",
   "execution_count": null,
   "id": "d161df44-8ab9-43a8-9c0d-60403f896e2e",
   "metadata": {},
   "outputs": [],
   "source": [
    "vcs_1_df.iloc[725]"
   ]
  },
  {
   "cell_type": "code",
   "execution_count": null,
   "id": "b3821ff1-161d-4cbd-aee7-89cf8611d819",
   "metadata": {},
   "outputs": [],
   "source": [
    "lom1[lom1['serialnumber']=='578988259']"
   ]
  },
  {
   "cell_type": "code",
   "execution_count": null,
   "id": "d51a53ad-ee8d-4fcf-ad38-bdbe993dc805",
   "metadata": {},
   "outputs": [],
   "source": [
    "lom3[lom3['serialnumber']=='578988259']"
   ]
  },
  {
   "cell_type": "code",
   "execution_count": null,
   "id": "aa5d5f15-8956-4db7-94ad-f271e4d1949e",
   "metadata": {},
   "outputs": [],
   "source": []
  },
  {
   "cell_type": "code",
   "execution_count": null,
   "id": "e53403dd-be10-4380-be9c-7d81b3ad9715",
   "metadata": {},
   "outputs": [],
   "source": []
  },
  {
   "cell_type": "code",
   "execution_count": null,
   "id": "4138d082-d7a9-449b-800d-294c3662b8ef",
   "metadata": {},
   "outputs": [],
   "source": []
  },
  {
   "cell_type": "code",
   "execution_count": null,
   "id": "3ae9dbd0-2f52-4697-aa57-4a7e4f46e8d0",
   "metadata": {},
   "outputs": [],
   "source": []
  },
  {
   "cell_type": "code",
   "execution_count": null,
   "id": "c64db33d-49bd-4da6-904c-1c73c42929d2",
   "metadata": {},
   "outputs": [],
   "source": []
  },
  {
   "cell_type": "code",
   "execution_count": null,
   "id": "6ef6acc6-8f1e-4598-a5d9-4155ffc326ce",
   "metadata": {},
   "outputs": [],
   "source": []
  },
  {
   "cell_type": "code",
   "execution_count": null,
   "id": "d2074024-7e8f-4c30-bca5-c2a061c0c539",
   "metadata": {},
   "outputs": [],
   "source": []
  },
  {
   "cell_type": "code",
   "execution_count": null,
   "id": "66e1ebce-2902-44ea-88fb-16cb24d62b50",
   "metadata": {},
   "outputs": [],
   "source": []
  },
  {
   "cell_type": "code",
   "execution_count": null,
   "id": "d6197550-5805-4ca2-842c-971b03fe462d",
   "metadata": {},
   "outputs": [],
   "source": [
    "conn_aws  = Utilities.get_athena_prod_aws_connection()"
   ]
  },
  {
   "cell_type": "code",
   "execution_count": null,
   "id": "e22f6f57-9167-4c57-a1ee-a46e488ab18d",
   "metadata": {},
   "outputs": [],
   "source": [
    "save_dir = r'C:\\Users\\s346557\\Documents\\LocalData\\abs_perfect_power\\OPCOs_v1T'"
   ]
  },
  {
   "cell_type": "code",
   "execution_count": null,
   "id": "7508b588-410f-4629-8a7b-4dc5c6c3d2eb",
   "metadata": {},
   "outputs": [],
   "source": [
    "# opcos = ['ap', 'ky', 'oh', 'im', 'pso', 'swp', 'tx']\n",
    "opcos = ['ap', 'oh', 'im', 'pso', 'swp']\n",
    "# opcos = ['oh']"
   ]
  },
  {
   "cell_type": "code",
   "execution_count": null,
   "id": "b9063e19-d5f2-4c43-a986-091b332a6840",
   "metadata": {},
   "outputs": [],
   "source": []
  },
  {
   "cell_type": "code",
   "execution_count": null,
   "id": "440aaa44-79a3-44f6-80f5-e9ce6f437534",
   "metadata": {},
   "outputs": [],
   "source": [
    "opco_zt_dfs = {}\n",
    "for opco_i in opcos:\n",
    "    save_dir_i = os.path.join(save_dir, opco_i)\n",
    "    df_i = appwr.concat_zero_times_dfs_in_dir(\n",
    "        dir_path             = save_dir_i, \n",
    "        regex_pattern        = r'\\d{8}_\\d{8}.*', \n",
    "        ignore_case          = False, \n",
    "        ext                  = '.pkl', \n",
    "        make_col_types_equal = False, \n",
    "        cols_to_drop         = [\n",
    "            'island_number', \n",
    "            'island_start_location', \n",
    "            'island_end_location'\n",
    "        ], \n",
    "        return_paths         = False\n",
    "    )\n",
    "    opco_zt_dfs[opco_i] = df_i\n"
   ]
  },
  {
   "cell_type": "code",
   "execution_count": null,
   "id": "234d9400-ab04-44fd-800e-b2d45f66c4cf",
   "metadata": {},
   "outputs": [],
   "source": []
  },
  {
   "cell_type": "code",
   "execution_count": null,
   "id": "2e5815c5-831a-4dfd-85a5-150fa10bc3d5",
   "metadata": {},
   "outputs": [],
   "source": []
  },
  {
   "cell_type": "code",
   "execution_count": null,
   "id": "400fede0-a646-461c-a057-2e02b34c03ca",
   "metadata": {},
   "outputs": [],
   "source": [
    "app_SNs_ap  = pd.read_pickle(r'C:\\Users\\s346557\\Documents\\LocalData\\abs_perfect_power\\20231001_20240930\\app_SNs_ap.pkl')\n",
    "app_SNs_im  = pd.read_pickle(r'C:\\Users\\s346557\\Documents\\LocalData\\abs_perfect_power\\20231001_20240930\\app_SNs_im.pkl')\n",
    "app_SNs_oh  = pd.read_pickle(r'C:\\Users\\s346557\\Documents\\LocalData\\abs_perfect_power\\20231001_20240930\\app_SNs_oh.pkl')\n",
    "app_SNs_pso = pd.read_pickle(r'C:\\Users\\s346557\\Documents\\LocalData\\abs_perfect_power\\20231001_20240930\\app_SNs_pso.pkl')\n",
    "app_SNs_swp = pd.read_pickle(r'C:\\Users\\s346557\\Documents\\LocalData\\abs_perfect_power\\20231001_20240930\\app_SNs_swp.pkl')"
   ]
  },
  {
   "cell_type": "code",
   "execution_count": null,
   "id": "1713cb35-71d7-47d5-b598-4a9a05dba4d1",
   "metadata": {},
   "outputs": [],
   "source": [
    "opco_n_perfect_SNs = dict()\n",
    "opco_n_perfect_SNs['ap']  = len(list(set(app_SNs_ap['serialnumber'].unique()).difference(set(opco_zt_dfs['ap']['serialnumber'].unique()))))\n",
    "opco_n_perfect_SNs['im']  = len(list(set(app_SNs_im['serialnumber'].unique()).difference(set(opco_zt_dfs['im']['serialnumber'].unique()))))\n",
    "opco_n_perfect_SNs['oh']  = len(list(set(app_SNs_oh['serialnumber'].unique()).difference(set(opco_zt_dfs['oh']['serialnumber'].unique()))))\n",
    "opco_n_perfect_SNs['pso'] = len(list(set(app_SNs_pso['serialnumber'].unique()).difference(set(opco_zt_dfs['pso']['serialnumber'].unique()))))\n",
    "opco_n_perfect_SNs['swp'] = len(list(set(app_SNs_swp['serialnumber'].unique()).difference(set(opco_zt_dfs['swp']['serialnumber'].unique()))))"
   ]
  },
  {
   "cell_type": "code",
   "execution_count": null,
   "id": "e8b9e2ee-1495-4e31-89d1-d80ef06aefda",
   "metadata": {},
   "outputs": [],
   "source": []
  },
  {
   "cell_type": "code",
   "execution_count": null,
   "id": "9ddf68c9-112b-44a2-9fdd-52632b902f54",
   "metadata": {},
   "outputs": [],
   "source": [
    "acc_srvc_intrrptns_dict = {}\n",
    "for opco_i in opcos:\n",
    "    n_perfect_SNs_i = opco_n_perfect_SNs[opco_i]\n",
    "    acc_srvc_intrrptns_dict[opco_i] = appwr.build_acc_srvc_intrrptns_table_df(\n",
    "        zero_times_df  = opco_zt_dfs[opco_i], \n",
    "        supplmntl_data = {0: opco_n_perfect_SNs[opco_i]}\n",
    "    )"
   ]
  },
  {
   "cell_type": "code",
   "execution_count": null,
   "id": "336a4d91-bdee-4368-b934-39fe8e7f964a",
   "metadata": {},
   "outputs": [],
   "source": []
  },
  {
   "cell_type": "code",
   "execution_count": null,
   "id": "60507d34-b8e0-4269-9ff4-e52a61eaf275",
   "metadata": {},
   "outputs": [],
   "source": [
    "acc_outg_drtn_dict = {}\n",
    "for opco_i in opcos:\n",
    "    n_perfect_SNs_i = opco_n_perfect_SNs[opco_i]\n",
    "    #-----\n",
    "    df_i = appwr.build_acc_outg_drtn_table_df(\n",
    "        zero_times_df  = opco_zt_dfs[opco_i], \n",
    "        bins           = None, \n",
    "        supplmntl_data = {(None, 6): n_perfect_SNs_i}, \n",
    "        #-----\n",
    "        SN_col         = 'serialnumber', \n",
    "        island_beg_col = 'island_start_starttimeperiod', \n",
    "        island_end_col = 'island_end_starttimeperiod', \n",
    "        data_freq      = pd.Timedelta('15 min')\n",
    "    )\n",
    "    acc_outg_drtn_dict[opco_i] = df_i"
   ]
  },
  {
   "cell_type": "code",
   "execution_count": null,
   "id": "27472102-9489-4d8c-ae42-f4dfe00800a8",
   "metadata": {},
   "outputs": [],
   "source": [
    "acc_srvc_intrrptns_dict['oh']"
   ]
  },
  {
   "cell_type": "code",
   "execution_count": null,
   "id": "0f6b6a7c-0c51-4d28-9b2f-f86a3bf092d0",
   "metadata": {},
   "outputs": [],
   "source": [
    "opco_n_perfect_SNs['oh']"
   ]
  },
  {
   "cell_type": "code",
   "execution_count": null,
   "id": "e26485d6-b4fc-446e-bb8b-139dd5a6ea95",
   "metadata": {},
   "outputs": [],
   "source": [
    "opco_zt_dfs['oh']"
   ]
  },
  {
   "cell_type": "code",
   "execution_count": null,
   "id": "4b72452a-feb7-4c3d-8d70-a47362d8d0fd",
   "metadata": {},
   "outputs": [],
   "source": []
  },
  {
   "cell_type": "code",
   "execution_count": null,
   "id": "4f6ee5b6-3ed4-4b79-afca-078a29443089",
   "metadata": {},
   "outputs": [],
   "source": [
    "# import AbsPerfectPower\n",
    "# reload(AbsPerfectPower)\n",
    "# from AbsPerfectPower import AbsPerfectPower as appwr"
   ]
  },
  {
   "cell_type": "code",
   "execution_count": null,
   "id": "c150cdd2-ed7d-46ed-925c-542b8414e89f",
   "metadata": {},
   "outputs": [],
   "source": [
    "figax =  appwr.histplot_acc_srvc_intrrptns(\n",
    "    zero_times_df  = opco_zt_dfs['oh'], \n",
    "    bins           = None, \n",
    "    supplmntl_data = {0: opco_n_perfect_SNs['oh']}, \n",
    "    stat           = 'probability', \n",
    "    figax          = None, \n",
    "    fig_num        = 0, \n",
    "    set_logy       = False, \n",
    "    title          = None, \n",
    "    include_text   = True, \n",
    "    #-----\n",
    "    SN_col         = 'serialnumber', \n",
    ")"
   ]
  },
  {
   "cell_type": "code",
   "execution_count": null,
   "id": "8f3676bd-d4bc-4704-95ce-a987236191f2",
   "metadata": {},
   "outputs": [],
   "source": []
  },
  {
   "cell_type": "code",
   "execution_count": null,
   "id": "4dae4bf9-abe2-4a4c-86ef-09bd5f8b741d",
   "metadata": {},
   "outputs": [],
   "source": [
    "# startcol_0 = 0\n",
    "# startcol_1 = 5\n",
    "# startrow_i = 0\n",
    "\n",
    "# with pd.ExcelWriter(r'C:\\Users\\s346557\\Downloads\\Test.xlsx') as writer:  \n",
    "#     for opco_i in opcos:\n",
    "#         srvc_intrrptns_i = acc_srvc_intrrptns_dict[opco_i].copy()\n",
    "#         outg_drtns_i     = acc_outg_drtn_dict[opco_i].copy()\n",
    "#         #-----\n",
    "#         srvc_intrrptns_i = Utilities_df.prepend_level_to_MultiIndex(df=srvc_intrrptns_i, level_val=f\"Acc. Service Interruptions: OPCO = {opco_i}\", axis=1)\n",
    "#         outg_drtns_i     = Utilities_df.prepend_level_to_MultiIndex(df=outg_drtns_i, level_val=f\"Acc. Outage Duration: OPCO = {opco_i}\", axis=1)\n",
    "#         #-----\n",
    "#         srvc_intrrptns_i.to_excel(writer, startrow=startrow_i, startcol=startcol_0)\n",
    "#         outg_drtns_i.to_excel(     writer, startrow=startrow_i, startcol=startcol_1)\n",
    "#         startrow_i += np.max([srvc_intrrptns_i.shape[0], outg_drtns_i.shape[0]])+5"
   ]
  },
  {
   "cell_type": "code",
   "execution_count": null,
   "id": "0118b778-8c7c-42f8-ba6c-0d56a5f13983",
   "metadata": {},
   "outputs": [],
   "source": []
  },
  {
   "cell_type": "code",
   "execution_count": null,
   "id": "bc566c5a-edc4-408a-84b7-6e72742ee22c",
   "metadata": {},
   "outputs": [],
   "source": [
    "amanda_df = pd.read_csv(r'C:\\Users\\s346557\\Documents\\LocalData\\abs_perfect_power\\fromAmanda\\Perfect_Power Week ending Nov 17, 2024.csv')"
   ]
  },
  {
   "cell_type": "code",
   "execution_count": null,
   "id": "c59b66a9-18b3-416a-a4ab-db18bd9c09a7",
   "metadata": {},
   "outputs": [],
   "source": [
    "amanda_df[amanda_df['State']=='OH']"
   ]
  },
  {
   "cell_type": "code",
   "execution_count": null,
   "id": "0e0e765c-0a24-4573-a2e9-d85501320d6d",
   "metadata": {},
   "outputs": [],
   "source": [
    "yeet1[yeet1['aep_premise_nb']=='73635839']"
   ]
  },
  {
   "cell_type": "code",
   "execution_count": null,
   "id": "ede81300-2e76-4f77-a890-8da0778d5fbb",
   "metadata": {},
   "outputs": [],
   "source": [
    "set(yeet1['aep_premise_nb'].unique()).intersection(set(amanda_df['Premise'].unique()))"
   ]
  },
  {
   "cell_type": "code",
   "execution_count": null,
   "id": "a5f5e4d0-ba2e-4051-a94a-74ffc8a59bb6",
   "metadata": {},
   "outputs": [],
   "source": []
  }
 ],
 "metadata": {
  "kernelspec": {
   "display_name": "Python 3 (ipykernel)",
   "language": "python",
   "name": "python3"
  },
  "language_info": {
   "codemirror_mode": {
    "name": "ipython",
    "version": 3
   },
   "file_extension": ".py",
   "mimetype": "text/x-python",
   "name": "python",
   "nbconvert_exporter": "python",
   "pygments_lexer": "ipython3",
   "version": "3.11.7"
  }
 },
 "nbformat": 4,
 "nbformat_minor": 5
}
