{
 "cells": [
  {
   "cell_type": "code",
   "execution_count": null,
   "id": "3672ef77",
   "metadata": {},
   "outputs": [],
   "source": [
    "from importlib import reload\n",
    "#---------------------------------------------------------------------\n",
    "import sys, os\n",
    "import pandas as pd\n",
    "#---------------------------------------------------------------------\n",
    "sys.path.insert(0, os.path.realpath('..'))\n",
    "import Utilities_config\n",
    "#-----\n",
    "from DOVSOutages import DOVSOutages\n",
    "from DABatch import DABatchOPCO, DABatch\n",
    "#---------------------------------------------------------------------\n",
    "sys.path.insert(0, Utilities_config.get_sql_aids_dir())\n",
    "#---------------------------------------------------------------------\n",
    "sys.path.insert(0, Utilities_config.get_utilities_dir())\n",
    "import Utilities"
   ]
  },
  {
   "cell_type": "code",
   "execution_count": null,
   "id": "2b220536-5c2b-4f6f-b823-616cb2ffb950",
   "metadata": {},
   "outputs": [],
   "source": []
  },
  {
   "cell_type": "code",
   "execution_count": null,
   "id": "abf81d9e-0cdd-46da-87dd-3115b5376b27",
   "metadata": {},
   "outputs": [],
   "source": [
    "#--------------------------------------------------\n",
    "# In general, only date_0 and date_1 will need to be changed!\n",
    "#--------------------------------------------------\n",
    "date_0 = '2025-02-16'\n",
    "date_1 = '2025-02-22'\n",
    "#-------------------------\n",
    "# NOTE: Typically 'ky' and 'tx' are excluded due to lack of data.\n",
    "#       For 'ky' this is likely due to a lack of AMI meters I suppose.\n",
    "#       For 'tx' this is likely due to the funny way they handle their data\n",
    "#       This can and should be reassessed later\n",
    "opcos = ['ap', 'im', 'oh', 'pso', 'swp']\n",
    "# If one wants to select specific states from opcos, do something similar to the following, which\n",
    "#   will select only states ['TN', 'VA'] from opco 'ap', only state 'OH' from opco 'oh', and \n",
    "#   all states included in opcos 'im', 'pso', and 'swp'\n",
    "# opcos = dict(ap=['TN', 'VA'], im=None, oh='OH', pso=None, swp=None)\n",
    "#-------------------------\n",
    "# If save_dir_base is None, os.path.join(Utilities.get_local_data_dir(), 'dovs_check') will be used\n",
    "#     For me, this is r'C:\\Users\\s346557\\Documents\\LocalData\\dovs_check'\n",
    "#-----\n",
    "# If, e.g., date_0='2025-01-12', date_1='2025-01-18', dates_subdir_appndx=None the results for opco='ap' will be found in\n",
    "#     r'C:\\Users\\s346557\\Documents\\LocalData\\dovs_check\\20250112_20250118\\ap\\'\n",
    "# If, e.g., dates_subdir_appndx = '_blah', this will be altered to \n",
    "#     r'C:\\Users\\s346557\\Documents\\LocalData\\dovs_check\\20250112_20250118_blah\\ap\\'\n",
    "#-----\n",
    "save_dir_base                 = None\n",
    "dates_subdir_appndx           = '_NEW'\n",
    "#-------------------------\n",
    "CI_NB_min                     = None # 15 was old cut, now opened flood gates and accept all\n",
    "mjr_mnr_cause                 = None\n",
    "daq_search_time_window        = pd.Timedelta('24 hours')\n",
    "outg_rec_nbs                  = None\n",
    "#-------------------------\n",
    "# DOVSAudit arguments\n",
    "dovs_audit_args               = dict(\n",
    "    calculate_by_PN                   = True, \n",
    "    combine_by_PN_likeness_thresh     = pd.Timedelta('15 minutes'), \n",
    "    expand_outg_search_time_tight     = pd.Timedelta('1 hours'), \n",
    "    expand_outg_search_time_loose     = pd.Timedelta('12 hours'), \n",
    "    use_est_outg_times                = False, \n",
    "    use_full_ede_outgs                = False, \n",
    ")\n",
    "#-------------------------\n",
    "load_prereqs_if_exist         = True\n",
    "reanalyze_preex_results       = False\n",
    "perform_plotting              = True\n",
    "build_summary_dfs             = True\n",
    "#-------------------------\n",
    "merge_outputs                 = True\n",
    "output_subdir                 = 'AllOPCOs'\n",
    "#-------------------------\n",
    "run_outg_inclusion_assessment = True\n",
    "max_pct_PNs_missing_allowed   = 0\n",
    "n_PNs_w_power_threshold       = 95\n",
    "include_suboutg_endpt_plots   = True\n",
    "#-------------------------\n",
    "debug                         = False\n",
    "verbose                       = True"
   ]
  },
  {
   "cell_type": "code",
   "execution_count": null,
   "id": "daee6139-38b5-4ffa-bcaa-50ab10c47f65",
   "metadata": {},
   "outputs": [],
   "source": []
  },
  {
   "cell_type": "code",
   "execution_count": null,
   "id": "138c7362-f568-4254-b68c-2ca12ee6689e",
   "metadata": {},
   "outputs": [],
   "source": []
  },
  {
   "cell_type": "code",
   "execution_count": null,
   "id": "b955762a-f561-438d-a518-841f00428c70",
   "metadata": {
    "scrolled": true
   },
   "outputs": [],
   "source": [
    "#-------------------------\n",
    "da_batch = DABatch(\n",
    "    date_0                      = date_0, \n",
    "    date_1                      = date_1, \n",
    "    opcos                       = opcos, \n",
    "    save_dir_base               = save_dir_base, \n",
    "    dates_subdir_appndx         = dates_subdir_appndx, \n",
    "    CI_NB_min                   = CI_NB_min, \n",
    "    mjr_mnr_cause               = mjr_mnr_cause, \n",
    "    daq_search_time_window      = daq_search_time_window, \n",
    "    outg_rec_nbs                = outg_rec_nbs, \n",
    "    dovs_audit_args             = dovs_audit_args\n",
    ")\n",
    "#-------------------------\n",
    "results = da_batch.analyze_audits_for_opcos(\n",
    "    load_prereqs_if_exist              = load_prereqs_if_exist, \n",
    "    reanalyze_preex_results            = reanalyze_preex_results, \n",
    "    perform_plotting                   = perform_plotting, \n",
    "    build_summary_dfs                  = build_summary_dfs, \n",
    "    #-----\n",
    "    merge_outputs                      = merge_outputs, \n",
    "    output_subdir                      = output_subdir, \n",
    "    #-----\n",
    "    run_outg_inclusion_assessment      = run_outg_inclusion_assessment, \n",
    "    max_pct_PNs_missing_allowed        = run_outg_inclusion_assessment, \n",
    "    n_PNs_w_power_threshold            = n_PNs_w_power_threshold, \n",
    "    include_suboutg_endpt_plots        = include_suboutg_endpt_plots, \n",
    "    fig_num                            = 0, \n",
    "    #-----\n",
    "    debug                              = debug, \n",
    "    verbose                            = verbose, \n",
    ")"
   ]
  },
  {
   "cell_type": "code",
   "execution_count": null,
   "id": "1be5a88b-6563-4ae4-be47-775e46d668be",
   "metadata": {},
   "outputs": [],
   "source": [
    "results"
   ]
  },
  {
   "cell_type": "code",
   "execution_count": null,
   "id": "95c2c684-c216-4510-9d57-8bf32353e353",
   "metadata": {},
   "outputs": [],
   "source": []
  },
  {
   "cell_type": "code",
   "execution_count": null,
   "id": "b6748c0f-cf65-4351-8107-0d13b0e48161",
   "metadata": {},
   "outputs": [],
   "source": []
  }
 ],
 "metadata": {
  "kernelspec": {
   "display_name": "Python 3 (ipykernel)",
   "language": "python",
   "name": "python3"
  },
  "language_info": {
   "codemirror_mode": {
    "name": "ipython",
    "version": 3
   },
   "file_extension": ".py",
   "mimetype": "text/x-python",
   "name": "python",
   "nbconvert_exporter": "python",
   "pygments_lexer": "ipython3",
   "version": "3.11.7"
  }
 },
 "nbformat": 4,
 "nbformat_minor": 5
}
