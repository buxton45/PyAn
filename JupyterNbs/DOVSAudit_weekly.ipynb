{
 "cells": [
  {
   "cell_type": "code",
   "execution_count": 1,
   "id": "3672ef77",
   "metadata": {},
   "outputs": [],
   "source": [
    "from importlib import reload\n",
    "#reload(Utilities)\n",
    "#reload(clm)\n",
    "\n",
    "import sys, os\n",
    "import re\n",
    "import pickle\n",
    "\n",
    "import pandas as pd\n",
    "import numpy as np\n",
    "from pandas.api.types import is_numeric_dtype, is_datetime64_dtype, is_timedelta64_dtype\n",
    "from scipy import stats\n",
    "import datetime\n",
    "import time\n",
    "from natsort import natsorted, ns, natsort_keygen\n",
    "from packaging import version\n",
    "\n",
    "import copy\n",
    "import itertools\n",
    "import adjustText\n",
    "\n",
    "import pyodbc\n",
    "#---------------------------------------------------------------------\n",
    "sys.path.insert(0, os.path.realpath('..'))\n",
    "import Utilities_config\n",
    "#-----\n",
    "import CommonLearningMethods as clm\n",
    "#-----\n",
    "from MeterPremise import MeterPremise\n",
    "#-----\n",
    "from AMI_SQL import DfToSqlMap, AMI_SQL\n",
    "from AMINonVee_SQL import AMINonVee_SQL\n",
    "from AMIEndEvents_SQL import AMIEndEvents_SQL\n",
    "from AMIUsgInst_SQL import AMIUsgInst_SQL\n",
    "from DOVSOutages_SQL import DOVSOutages_SQL\n",
    "#-----\n",
    "from GenAn import GenAn\n",
    "from AMINonVee import AMINonVee\n",
    "from AMIEndEvents import AMIEndEvents\n",
    "from AMIUsgInst import AMIUsgInst\n",
    "from DOVSOutages import DOVSOutages\n",
    "#-----\n",
    "from DOVSAudit import DOVSAudit\n",
    "from DABatch import DABatch\n",
    "#---------------------------------------------------------------------\n",
    "import matplotlib as mpl\n",
    "import matplotlib.pyplot as plt\n",
    "import seaborn as sns\n",
    "from matplotlib.backends.backend_pdf import PdfPages\n",
    "import matplotlib.patches as mpatches\n",
    "from matplotlib.lines import Line2D\n",
    "import matplotlib.ticker as ticker\n",
    "from matplotlib import dates\n",
    "#---------------------------------------------------------------------\n",
    "sys.path.insert(0, Utilities_config.get_sql_aids_dir())\n",
    "import Utilities_sql\n",
    "import TableInfos\n",
    "from TableInfos import TableInfo\n",
    "from SQLElement import SQLElement\n",
    "from SQLElementsCollection import SQLElementsCollection\n",
    "from SQLSelect import SQLSelectElement, SQLSelect\n",
    "from SQLFrom import SQLFrom\n",
    "from SQLWhere import SQLWhereElement, CombinedSQLWhereElements, SQLWhere\n",
    "from SQLJoin import SQLJoin, SQLJoinCollection\n",
    "from SQLGroupBy import SQLGroupByElement, SQLGroupBy\n",
    "from SQLHaving import SQLHaving\n",
    "from SQLOrderBy import SQLOrderByElement, SQLOrderBy\n",
    "from SQLQuery import SQLQuery\n",
    "from SQLQueryGeneric import SQLQueryGeneric\n",
    "#---------------------------------------------------------------------\n",
    "sys.path.insert(0, Utilities_config.get_utilities_dir())\n",
    "import Utilities\n",
    "import Utilities_df\n",
    "import Utilities_dt\n",
    "from Utilities_df import DFConstructType\n",
    "import Plot_General\n",
    "import Plot_Box_sns\n",
    "import Plot_Hist\n",
    "import GrubbsTest\n",
    "import DataFrameSubsetSlicer\n",
    "from DataFrameSubsetSlicer import DataFrameSubsetSlicer as DFSlicer\n",
    "from DataFrameSubsetSlicer import DataFrameSubsetSingleSlicer as DFSingleSlicer"
   ]
  },
  {
   "cell_type": "code",
   "execution_count": null,
   "id": "f070a3ad-f61e-436b-94b4-0ffac5966510",
   "metadata": {},
   "outputs": [],
   "source": []
  },
  {
   "cell_type": "code",
   "execution_count": 2,
   "id": "522a65d4-e3e1-4b44-b8ed-03a57881923b",
   "metadata": {},
   "outputs": [],
   "source": [
    "save_dfs=True\n",
    "\n",
    "date_0 = '2025-01-19'\n",
    "date_1 = '2025-01-25'\n",
    "\n",
    "# states=['OH']\n",
    "states=None\n",
    "\n",
    "# opcos = ['ap', 'ky', 'oh', 'im', 'pso', 'swp', 'tx']\n",
    "opcos = ['ap', 'oh', 'im', 'pso', 'swp']\n",
    "\n",
    "# CI_NB_min=15\n",
    "CI_NB_min=None"
   ]
  },
  {
   "cell_type": "code",
   "execution_count": null,
   "id": "d3c65426-7acc-48c9-b48b-1214317892d6",
   "metadata": {
    "scrolled": true
   },
   "outputs": [
    {
     "name": "stdout",
     "output_type": "stream",
     "text": [
      "\n",
      "DOVSOutages_SQL: Found opco in kwargs\n",
      "Converting to OPERATING_UNIT_ID\n",
      "\n",
      "Input opcos = ['ap']\n",
      "OPERATING_UNIT_IDs used = [1]\n"
     ]
    },
    {
     "name": "stderr",
     "output_type": "stream",
     "text": [
      "C:\\Users\\s346557\\Documents\\Analysis\\DABatch.py:264: UserWarning: pandas only supports SQLAlchemy connectable (engine/connection) or database string URI or sqlite3 DBAPI2 connection. Other DBAPI2 objects are not tested. Please consider using SQLAlchemy.\n",
      "  outages_df = pd.read_sql_query(\n"
     ]
    },
    {
     "name": "stdout",
     "output_type": "stream",
     "text": [
      "outages_sql_stmnt:\n",
      "SELECT\n",
      "\tDOV.CI_NB,\n",
      "\tDOV.CMI_NB,\n",
      "\tDOV.OUTG_REC_NB,\n",
      "\tDOV.OUTAGE_NB,\n",
      "\tDOV.DT_ON_TS,\n",
      "\tDOV.DT_OFF_TS,\n",
      "\tDOV.DT_ON_TS - DOV.STEP_DRTN_NB/(60*24) AS DT_OFF_TS_FULL,\n",
      "\tDOV.STEP_DRTN_NB,\n",
      "\tEXTRACT(YEAR FROM DOV.DT_OFF_TS) AS START_YEAR,\n",
      "\tDOV.OPERATING_UNIT_ID,\n",
      "\tDOV.STATE_ABBR_TX,\n",
      "\tDOV.MJR_CAUSE_CD,\n",
      "\tDOV.MNR_CAUSE_CD,\n",
      "\tDOV.LOCATION_ID,\n",
      "\tDOV.GIS_CRCT_NB,\n",
      "\tDOV1.OPRTG_UNT_NM,\n",
      "\tDOV3.DVC_TYP_NM,\n",
      "\tDOV3.SHORT_NM AS SHORT_NM_CLR_DEV,\n",
      "\tDOV4.EQUIP_TYP_NM,\n",
      "\tDOV4.SHORT_NM AS SHORT_NM_EQP_TYP,\n",
      "\tDOV5.MJR_CAUSE_NM,\n",
      "\tDOV5.MNR_CAUSE_NM,\n",
      "\tPRIM.REST_TM,\n",
      "\tPRIM.OFF_TM,\n",
      "\tPRIM.PREMISE_NB\n",
      "FROM DOVSADM.DOVS_OUTAGE_FACT DOV\n",
      "\tLEFT OUTER JOIN DOVSADM.DOVS_MASTER_GEO_DIM DOV1 ON DOV.OPERATING_UNIT_ID=DOV1.OPRTG_UNT_ID AND DOV.STATE_ABBR_TX=DOV1.STATE_ID AND DOV.OPCO_NBR=DOV1.OPCO_ID AND DOV.DISTRICT_NB=DOV1.DISTRICT_ID AND DOV.SRVC_CNTR_NB=DOV1.AREA_ID AND DOV.GIS_CRCT_NB=DOV1.GIS_CIRCUIT_ID\n",
      "\tLEFT OUTER JOIN DOVSADM.DOVS_OUTAGE_ATTRIBUTES_DIM DOV2 ON DOV.OUTG_REC_NB=DOV2.OUTG_REC_NB\n",
      "\tLEFT OUTER JOIN DOVSADM.DOVS_CLEARING_DEVICE_DIM DOV3 ON DOV.DEVICE_CD=DOV3.DEVICE_CD\n",
      "\tLEFT OUTER JOIN DOVSADM.DOVS_EQUIPMENT_TYPES_DIM DOV4 ON DOV.EQUIPMENT_CD=DOV4.EQUIPMENT_CD\n",
      "\tLEFT OUTER JOIN DOVSADM.DOVS_OUTAGE_CAUSE_TYPES_DIM DOV5 ON DOV.MJR_CAUSE_CD=DOV5.MJR_CAUSE_CD AND DOV.MNR_CAUSE_CD=DOV5.MNR_CAUSE_CD\n",
      "\tLEFT OUTER JOIN DOVSADM.DOVS_PREMISE_DIM PRIM ON DOV.OUTG_REC_NB=PRIM.OUTG_REC_NB\n",
      "WHERE DOV.DT_OFF_TS BETWEEN '2025-01-19' AND '2025-01-25'\n",
      "AND   DOV.OPERATING_UNIT_ID = 1\n",
      "AND   DOV.MJR_CAUSE_CD <> 'NI'\n",
      "AND   DOV.DEVICE_CD <> 85\n",
      "AND   DOV2.INTRPTN_TYP_CD = 'S'\n",
      "AND   DOV2.CURR_REC_STAT_CD = 'A'\n",
      "\n",
      "\n",
      "outages_df.shape = (20200, 25)\n",
      "# OUTG_REC_NBs   = 615\n",
      "n_coll     = 17041\n",
      "batch_size = 10000\n",
      "n_batches  = 2\n"
     ]
    },
    {
     "name": "stderr",
     "output_type": "stream",
     "text": [
      "C:\\Users\\s346557\\Documents\\Analysis\\GenAn.py:662: UserWarning: pandas only supports SQLAlchemy connectable (engine/connection) or database string URI or sqlite3 DBAPI2 connection. Other DBAPI2 objects are not tested. Please consider using SQLAlchemy.\n",
      "  df = pd.read_sql_query(sql, conn_db, **read_sql_args)\n"
     ]
    },
    {
     "name": "stdout",
     "output_type": "stream",
     "text": [
      "n_coll     = 17041\n",
      "batch_size = 10000\n",
      "n_batches  = 2\n"
     ]
    },
    {
     "name": "stderr",
     "output_type": "stream",
     "text": [
      "C:\\Users\\s346557\\Documents\\Analysis\\GenAn.py:662: UserWarning: pandas only supports SQLAlchemy connectable (engine/connection) or database string URI or sqlite3 DBAPI2 connection. Other DBAPI2 objects are not tested. Please consider using SQLAlchemy.\n",
      "  df = pd.read_sql_query(sql, conn_db, **read_sql_args)\n"
     ]
    },
    {
     "name": "stdout",
     "output_type": "stream",
     "text": [
      "Time for DOVSOutages.build_active_MP_for_outages_df: 90.69985055923462\n",
      "Time for drop_approx_mp_duplicates: 0.8713974952697754\n",
      "\n",
      "WARNING (I guess, more like a fact of life...): \n",
      " Some premises listed in DOVS are simply not found in AMI\n",
      "For the current data:\n",
      " #PNs DOVS: 17041\n",
      " #PNs AMI:  17025\n",
      "\n",
      "# Outages in outages_mp_df:     611\n",
      "# Outages in outages_mp_df_ami: 579\n",
      "# Outages Final Candidates (before consolidation): 579\n",
      "groups_violating_uniqueness = []\n",
      "# Outages Final Candidates (after consolidation):  579\n",
      "With excluding outages with premises missing from MP\n",
      "# Outages: 567\n",
      "#PNs DOVS: 7720\n",
      "#PNs AMI:  7720\n",
      "\n",
      "Without excluding outages with premises missing from MP\n",
      "# Outages: 579\n",
      "#PNs DOVS: 8747\n",
      "#PNs AMI:  8735\n",
      "counter = 0\n",
      "\twait_time_i=0\n",
      "\n",
      "\n",
      "BEFORE EXCLUDE PREVIOUSLY RECORDED: n_coll = 3098\n",
      "n_coll     = 3098\n",
      "batch_size = 25\n",
      "n_batches  = 124\n",
      "1/124\n"
     ]
    },
    {
     "name": "stderr",
     "output_type": "stream",
     "text": [
      "C:\\Users\\s346557\\Documents\\Analysis\\GenAn.py:662: UserWarning: pandas only supports SQLAlchemy connectable (engine/connection) or database string URI or sqlite3 DBAPI2 connection. Other DBAPI2 objects are not tested. Please consider using SQLAlchemy.\n",
      "  df = pd.read_sql_query(sql, conn_db, **read_sql_args)\n"
     ]
    },
    {
     "name": "stdout",
     "output_type": "stream",
     "text": [
      "2/124\n"
     ]
    },
    {
     "name": "stderr",
     "output_type": "stream",
     "text": [
      "C:\\Users\\s346557\\Documents\\Analysis\\GenAn.py:662: UserWarning: pandas only supports SQLAlchemy connectable (engine/connection) or database string URI or sqlite3 DBAPI2 connection. Other DBAPI2 objects are not tested. Please consider using SQLAlchemy.\n",
      "  df = pd.read_sql_query(sql, conn_db, **read_sql_args)\n"
     ]
    },
    {
     "name": "stdout",
     "output_type": "stream",
     "text": [
      "3/124\n"
     ]
    },
    {
     "name": "stderr",
     "output_type": "stream",
     "text": [
      "C:\\Users\\s346557\\Documents\\Analysis\\GenAn.py:662: UserWarning: pandas only supports SQLAlchemy connectable (engine/connection) or database string URI or sqlite3 DBAPI2 connection. Other DBAPI2 objects are not tested. Please consider using SQLAlchemy.\n",
      "  df = pd.read_sql_query(sql, conn_db, **read_sql_args)\n"
     ]
    },
    {
     "name": "stdout",
     "output_type": "stream",
     "text": [
      "4/124\n"
     ]
    },
    {
     "name": "stderr",
     "output_type": "stream",
     "text": [
      "C:\\Users\\s346557\\Documents\\Analysis\\GenAn.py:662: UserWarning: pandas only supports SQLAlchemy connectable (engine/connection) or database string URI or sqlite3 DBAPI2 connection. Other DBAPI2 objects are not tested. Please consider using SQLAlchemy.\n",
      "  df = pd.read_sql_query(sql, conn_db, **read_sql_args)\n"
     ]
    },
    {
     "name": "stdout",
     "output_type": "stream",
     "text": [
      "5/124\n"
     ]
    },
    {
     "name": "stderr",
     "output_type": "stream",
     "text": [
      "C:\\Users\\s346557\\Documents\\Analysis\\GenAn.py:662: UserWarning: pandas only supports SQLAlchemy connectable (engine/connection) or database string URI or sqlite3 DBAPI2 connection. Other DBAPI2 objects are not tested. Please consider using SQLAlchemy.\n",
      "  df = pd.read_sql_query(sql, conn_db, **read_sql_args)\n"
     ]
    },
    {
     "name": "stdout",
     "output_type": "stream",
     "text": [
      "6/124\n"
     ]
    },
    {
     "name": "stderr",
     "output_type": "stream",
     "text": [
      "C:\\Users\\s346557\\Documents\\Analysis\\GenAn.py:662: UserWarning: pandas only supports SQLAlchemy connectable (engine/connection) or database string URI or sqlite3 DBAPI2 connection. Other DBAPI2 objects are not tested. Please consider using SQLAlchemy.\n",
      "  df = pd.read_sql_query(sql, conn_db, **read_sql_args)\n"
     ]
    },
    {
     "name": "stdout",
     "output_type": "stream",
     "text": [
      "7/124\n"
     ]
    },
    {
     "name": "stderr",
     "output_type": "stream",
     "text": [
      "C:\\Users\\s346557\\Documents\\Analysis\\GenAn.py:662: UserWarning: pandas only supports SQLAlchemy connectable (engine/connection) or database string URI or sqlite3 DBAPI2 connection. Other DBAPI2 objects are not tested. Please consider using SQLAlchemy.\n",
      "  df = pd.read_sql_query(sql, conn_db, **read_sql_args)\n"
     ]
    },
    {
     "name": "stdout",
     "output_type": "stream",
     "text": [
      "8/124\n"
     ]
    },
    {
     "name": "stderr",
     "output_type": "stream",
     "text": [
      "C:\\Users\\s346557\\Documents\\Analysis\\GenAn.py:662: UserWarning: pandas only supports SQLAlchemy connectable (engine/connection) or database string URI or sqlite3 DBAPI2 connection. Other DBAPI2 objects are not tested. Please consider using SQLAlchemy.\n",
      "  df = pd.read_sql_query(sql, conn_db, **read_sql_args)\n"
     ]
    },
    {
     "name": "stdout",
     "output_type": "stream",
     "text": [
      "9/124\n"
     ]
    },
    {
     "name": "stderr",
     "output_type": "stream",
     "text": [
      "C:\\Users\\s346557\\Documents\\Analysis\\GenAn.py:662: UserWarning: pandas only supports SQLAlchemy connectable (engine/connection) or database string URI or sqlite3 DBAPI2 connection. Other DBAPI2 objects are not tested. Please consider using SQLAlchemy.\n",
      "  df = pd.read_sql_query(sql, conn_db, **read_sql_args)\n"
     ]
    },
    {
     "name": "stdout",
     "output_type": "stream",
     "text": [
      "10/124\n"
     ]
    },
    {
     "name": "stderr",
     "output_type": "stream",
     "text": [
      "C:\\Users\\s346557\\Documents\\Analysis\\GenAn.py:662: UserWarning: pandas only supports SQLAlchemy connectable (engine/connection) or database string URI or sqlite3 DBAPI2 connection. Other DBAPI2 objects are not tested. Please consider using SQLAlchemy.\n",
      "  df = pd.read_sql_query(sql, conn_db, **read_sql_args)\n"
     ]
    },
    {
     "name": "stdout",
     "output_type": "stream",
     "text": [
      "11/124\n"
     ]
    },
    {
     "name": "stderr",
     "output_type": "stream",
     "text": [
      "C:\\Users\\s346557\\Documents\\Analysis\\GenAn.py:662: UserWarning: pandas only supports SQLAlchemy connectable (engine/connection) or database string URI or sqlite3 DBAPI2 connection. Other DBAPI2 objects are not tested. Please consider using SQLAlchemy.\n",
      "  df = pd.read_sql_query(sql, conn_db, **read_sql_args)\n"
     ]
    },
    {
     "name": "stdout",
     "output_type": "stream",
     "text": [
      "12/124\n"
     ]
    },
    {
     "name": "stderr",
     "output_type": "stream",
     "text": [
      "C:\\Users\\s346557\\Documents\\Analysis\\GenAn.py:662: UserWarning: pandas only supports SQLAlchemy connectable (engine/connection) or database string URI or sqlite3 DBAPI2 connection. Other DBAPI2 objects are not tested. Please consider using SQLAlchemy.\n",
      "  df = pd.read_sql_query(sql, conn_db, **read_sql_args)\n"
     ]
    },
    {
     "name": "stdout",
     "output_type": "stream",
     "text": [
      "13/124\n"
     ]
    },
    {
     "name": "stderr",
     "output_type": "stream",
     "text": [
      "C:\\Users\\s346557\\Documents\\Analysis\\GenAn.py:662: UserWarning: pandas only supports SQLAlchemy connectable (engine/connection) or database string URI or sqlite3 DBAPI2 connection. Other DBAPI2 objects are not tested. Please consider using SQLAlchemy.\n",
      "  df = pd.read_sql_query(sql, conn_db, **read_sql_args)\n"
     ]
    },
    {
     "name": "stdout",
     "output_type": "stream",
     "text": [
      "14/124\n"
     ]
    },
    {
     "name": "stderr",
     "output_type": "stream",
     "text": [
      "C:\\Users\\s346557\\Documents\\Analysis\\GenAn.py:662: UserWarning: pandas only supports SQLAlchemy connectable (engine/connection) or database string URI or sqlite3 DBAPI2 connection. Other DBAPI2 objects are not tested. Please consider using SQLAlchemy.\n",
      "  df = pd.read_sql_query(sql, conn_db, **read_sql_args)\n"
     ]
    },
    {
     "name": "stdout",
     "output_type": "stream",
     "text": [
      "15/124\n"
     ]
    },
    {
     "name": "stderr",
     "output_type": "stream",
     "text": [
      "C:\\Users\\s346557\\Documents\\Analysis\\GenAn.py:662: UserWarning: pandas only supports SQLAlchemy connectable (engine/connection) or database string URI or sqlite3 DBAPI2 connection. Other DBAPI2 objects are not tested. Please consider using SQLAlchemy.\n",
      "  df = pd.read_sql_query(sql, conn_db, **read_sql_args)\n"
     ]
    },
    {
     "name": "stdout",
     "output_type": "stream",
     "text": [
      "16/124\n"
     ]
    },
    {
     "name": "stderr",
     "output_type": "stream",
     "text": [
      "C:\\Users\\s346557\\Documents\\Analysis\\GenAn.py:662: UserWarning: pandas only supports SQLAlchemy connectable (engine/connection) or database string URI or sqlite3 DBAPI2 connection. Other DBAPI2 objects are not tested. Please consider using SQLAlchemy.\n",
      "  df = pd.read_sql_query(sql, conn_db, **read_sql_args)\n"
     ]
    },
    {
     "name": "stdout",
     "output_type": "stream",
     "text": [
      "17/124\n"
     ]
    },
    {
     "name": "stderr",
     "output_type": "stream",
     "text": [
      "C:\\Users\\s346557\\Documents\\Analysis\\GenAn.py:662: UserWarning: pandas only supports SQLAlchemy connectable (engine/connection) or database string URI or sqlite3 DBAPI2 connection. Other DBAPI2 objects are not tested. Please consider using SQLAlchemy.\n",
      "  df = pd.read_sql_query(sql, conn_db, **read_sql_args)\n"
     ]
    },
    {
     "name": "stdout",
     "output_type": "stream",
     "text": [
      "18/124\n"
     ]
    },
    {
     "name": "stderr",
     "output_type": "stream",
     "text": [
      "C:\\Users\\s346557\\Documents\\Analysis\\GenAn.py:662: UserWarning: pandas only supports SQLAlchemy connectable (engine/connection) or database string URI or sqlite3 DBAPI2 connection. Other DBAPI2 objects are not tested. Please consider using SQLAlchemy.\n",
      "  df = pd.read_sql_query(sql, conn_db, **read_sql_args)\n"
     ]
    },
    {
     "name": "stdout",
     "output_type": "stream",
     "text": [
      "19/124\n"
     ]
    },
    {
     "name": "stderr",
     "output_type": "stream",
     "text": [
      "C:\\Users\\s346557\\Documents\\Analysis\\GenAn.py:662: UserWarning: pandas only supports SQLAlchemy connectable (engine/connection) or database string URI or sqlite3 DBAPI2 connection. Other DBAPI2 objects are not tested. Please consider using SQLAlchemy.\n",
      "  df = pd.read_sql_query(sql, conn_db, **read_sql_args)\n"
     ]
    },
    {
     "name": "stdout",
     "output_type": "stream",
     "text": [
      "20/124\n"
     ]
    },
    {
     "name": "stderr",
     "output_type": "stream",
     "text": [
      "C:\\Users\\s346557\\Documents\\Analysis\\GenAn.py:662: UserWarning: pandas only supports SQLAlchemy connectable (engine/connection) or database string URI or sqlite3 DBAPI2 connection. Other DBAPI2 objects are not tested. Please consider using SQLAlchemy.\n",
      "  df = pd.read_sql_query(sql, conn_db, **read_sql_args)\n"
     ]
    },
    {
     "name": "stdout",
     "output_type": "stream",
     "text": [
      "21/124\n"
     ]
    },
    {
     "name": "stderr",
     "output_type": "stream",
     "text": [
      "C:\\Users\\s346557\\Documents\\Analysis\\GenAn.py:662: UserWarning: pandas only supports SQLAlchemy connectable (engine/connection) or database string URI or sqlite3 DBAPI2 connection. Other DBAPI2 objects are not tested. Please consider using SQLAlchemy.\n",
      "  df = pd.read_sql_query(sql, conn_db, **read_sql_args)\n"
     ]
    },
    {
     "name": "stdout",
     "output_type": "stream",
     "text": [
      "22/124\n"
     ]
    },
    {
     "name": "stderr",
     "output_type": "stream",
     "text": [
      "C:\\Users\\s346557\\Documents\\Analysis\\GenAn.py:662: UserWarning: pandas only supports SQLAlchemy connectable (engine/connection) or database string URI or sqlite3 DBAPI2 connection. Other DBAPI2 objects are not tested. Please consider using SQLAlchemy.\n",
      "  df = pd.read_sql_query(sql, conn_db, **read_sql_args)\n"
     ]
    },
    {
     "name": "stdout",
     "output_type": "stream",
     "text": [
      "23/124\n"
     ]
    },
    {
     "name": "stderr",
     "output_type": "stream",
     "text": [
      "C:\\Users\\s346557\\Documents\\Analysis\\GenAn.py:662: UserWarning: pandas only supports SQLAlchemy connectable (engine/connection) or database string URI or sqlite3 DBAPI2 connection. Other DBAPI2 objects are not tested. Please consider using SQLAlchemy.\n",
      "  df = pd.read_sql_query(sql, conn_db, **read_sql_args)\n"
     ]
    },
    {
     "name": "stdout",
     "output_type": "stream",
     "text": [
      "24/124\n"
     ]
    },
    {
     "name": "stderr",
     "output_type": "stream",
     "text": [
      "C:\\Users\\s346557\\Documents\\Analysis\\GenAn.py:662: UserWarning: pandas only supports SQLAlchemy connectable (engine/connection) or database string URI or sqlite3 DBAPI2 connection. Other DBAPI2 objects are not tested. Please consider using SQLAlchemy.\n",
      "  df = pd.read_sql_query(sql, conn_db, **read_sql_args)\n"
     ]
    },
    {
     "name": "stdout",
     "output_type": "stream",
     "text": [
      "25/124\n"
     ]
    },
    {
     "name": "stderr",
     "output_type": "stream",
     "text": [
      "C:\\Users\\s346557\\Documents\\Analysis\\GenAn.py:662: UserWarning: pandas only supports SQLAlchemy connectable (engine/connection) or database string URI or sqlite3 DBAPI2 connection. Other DBAPI2 objects are not tested. Please consider using SQLAlchemy.\n",
      "  df = pd.read_sql_query(sql, conn_db, **read_sql_args)\n"
     ]
    },
    {
     "name": "stdout",
     "output_type": "stream",
     "text": [
      "26/124\n"
     ]
    },
    {
     "name": "stderr",
     "output_type": "stream",
     "text": [
      "C:\\Users\\s346557\\Documents\\Analysis\\GenAn.py:662: UserWarning: pandas only supports SQLAlchemy connectable (engine/connection) or database string URI or sqlite3 DBAPI2 connection. Other DBAPI2 objects are not tested. Please consider using SQLAlchemy.\n",
      "  df = pd.read_sql_query(sql, conn_db, **read_sql_args)\n"
     ]
    },
    {
     "name": "stdout",
     "output_type": "stream",
     "text": [
      "27/124\n"
     ]
    },
    {
     "name": "stderr",
     "output_type": "stream",
     "text": [
      "C:\\Users\\s346557\\Documents\\Analysis\\GenAn.py:662: UserWarning: pandas only supports SQLAlchemy connectable (engine/connection) or database string URI or sqlite3 DBAPI2 connection. Other DBAPI2 objects are not tested. Please consider using SQLAlchemy.\n",
      "  df = pd.read_sql_query(sql, conn_db, **read_sql_args)\n"
     ]
    },
    {
     "name": "stdout",
     "output_type": "stream",
     "text": [
      "28/124\n"
     ]
    },
    {
     "name": "stderr",
     "output_type": "stream",
     "text": [
      "C:\\Users\\s346557\\Documents\\Analysis\\GenAn.py:662: UserWarning: pandas only supports SQLAlchemy connectable (engine/connection) or database string URI or sqlite3 DBAPI2 connection. Other DBAPI2 objects are not tested. Please consider using SQLAlchemy.\n",
      "  df = pd.read_sql_query(sql, conn_db, **read_sql_args)\n"
     ]
    },
    {
     "name": "stdout",
     "output_type": "stream",
     "text": [
      "29/124\n"
     ]
    },
    {
     "name": "stderr",
     "output_type": "stream",
     "text": [
      "C:\\Users\\s346557\\Documents\\Analysis\\GenAn.py:662: UserWarning: pandas only supports SQLAlchemy connectable (engine/connection) or database string URI or sqlite3 DBAPI2 connection. Other DBAPI2 objects are not tested. Please consider using SQLAlchemy.\n",
      "  df = pd.read_sql_query(sql, conn_db, **read_sql_args)\n"
     ]
    },
    {
     "name": "stdout",
     "output_type": "stream",
     "text": [
      "30/124\n"
     ]
    },
    {
     "name": "stderr",
     "output_type": "stream",
     "text": [
      "C:\\Users\\s346557\\Documents\\Analysis\\GenAn.py:662: UserWarning: pandas only supports SQLAlchemy connectable (engine/connection) or database string URI or sqlite3 DBAPI2 connection. Other DBAPI2 objects are not tested. Please consider using SQLAlchemy.\n",
      "  df = pd.read_sql_query(sql, conn_db, **read_sql_args)\n"
     ]
    },
    {
     "name": "stdout",
     "output_type": "stream",
     "text": [
      "31/124\n"
     ]
    },
    {
     "name": "stderr",
     "output_type": "stream",
     "text": [
      "C:\\Users\\s346557\\Documents\\Analysis\\GenAn.py:662: UserWarning: pandas only supports SQLAlchemy connectable (engine/connection) or database string URI or sqlite3 DBAPI2 connection. Other DBAPI2 objects are not tested. Please consider using SQLAlchemy.\n",
      "  df = pd.read_sql_query(sql, conn_db, **read_sql_args)\n"
     ]
    },
    {
     "name": "stdout",
     "output_type": "stream",
     "text": [
      "32/124\n"
     ]
    },
    {
     "name": "stderr",
     "output_type": "stream",
     "text": [
      "C:\\Users\\s346557\\Documents\\Analysis\\GenAn.py:662: UserWarning: pandas only supports SQLAlchemy connectable (engine/connection) or database string URI or sqlite3 DBAPI2 connection. Other DBAPI2 objects are not tested. Please consider using SQLAlchemy.\n",
      "  df = pd.read_sql_query(sql, conn_db, **read_sql_args)\n"
     ]
    },
    {
     "name": "stdout",
     "output_type": "stream",
     "text": [
      "33/124\n"
     ]
    },
    {
     "name": "stderr",
     "output_type": "stream",
     "text": [
      "C:\\Users\\s346557\\Documents\\Analysis\\GenAn.py:662: UserWarning: pandas only supports SQLAlchemy connectable (engine/connection) or database string URI or sqlite3 DBAPI2 connection. Other DBAPI2 objects are not tested. Please consider using SQLAlchemy.\n",
      "  df = pd.read_sql_query(sql, conn_db, **read_sql_args)\n"
     ]
    },
    {
     "name": "stdout",
     "output_type": "stream",
     "text": [
      "34/124\n"
     ]
    },
    {
     "name": "stderr",
     "output_type": "stream",
     "text": [
      "C:\\Users\\s346557\\Documents\\Analysis\\GenAn.py:662: UserWarning: pandas only supports SQLAlchemy connectable (engine/connection) or database string URI or sqlite3 DBAPI2 connection. Other DBAPI2 objects are not tested. Please consider using SQLAlchemy.\n",
      "  df = pd.read_sql_query(sql, conn_db, **read_sql_args)\n"
     ]
    },
    {
     "name": "stdout",
     "output_type": "stream",
     "text": [
      "35/124\n"
     ]
    },
    {
     "name": "stderr",
     "output_type": "stream",
     "text": [
      "C:\\Users\\s346557\\Documents\\Analysis\\GenAn.py:662: UserWarning: pandas only supports SQLAlchemy connectable (engine/connection) or database string URI or sqlite3 DBAPI2 connection. Other DBAPI2 objects are not tested. Please consider using SQLAlchemy.\n",
      "  df = pd.read_sql_query(sql, conn_db, **read_sql_args)\n"
     ]
    },
    {
     "name": "stdout",
     "output_type": "stream",
     "text": [
      "36/124\n"
     ]
    },
    {
     "name": "stderr",
     "output_type": "stream",
     "text": [
      "C:\\Users\\s346557\\Documents\\Analysis\\GenAn.py:662: UserWarning: pandas only supports SQLAlchemy connectable (engine/connection) or database string URI or sqlite3 DBAPI2 connection. Other DBAPI2 objects are not tested. Please consider using SQLAlchemy.\n",
      "  df = pd.read_sql_query(sql, conn_db, **read_sql_args)\n"
     ]
    },
    {
     "name": "stdout",
     "output_type": "stream",
     "text": [
      "37/124\n"
     ]
    },
    {
     "name": "stderr",
     "output_type": "stream",
     "text": [
      "C:\\Users\\s346557\\Documents\\Analysis\\GenAn.py:662: UserWarning: pandas only supports SQLAlchemy connectable (engine/connection) or database string URI or sqlite3 DBAPI2 connection. Other DBAPI2 objects are not tested. Please consider using SQLAlchemy.\n",
      "  df = pd.read_sql_query(sql, conn_db, **read_sql_args)\n"
     ]
    },
    {
     "name": "stdout",
     "output_type": "stream",
     "text": [
      "38/124\n"
     ]
    },
    {
     "name": "stderr",
     "output_type": "stream",
     "text": [
      "C:\\Users\\s346557\\Documents\\Analysis\\GenAn.py:662: UserWarning: pandas only supports SQLAlchemy connectable (engine/connection) or database string URI or sqlite3 DBAPI2 connection. Other DBAPI2 objects are not tested. Please consider using SQLAlchemy.\n",
      "  df = pd.read_sql_query(sql, conn_db, **read_sql_args)\n"
     ]
    },
    {
     "name": "stdout",
     "output_type": "stream",
     "text": [
      "39/124\n"
     ]
    },
    {
     "name": "stderr",
     "output_type": "stream",
     "text": [
      "C:\\Users\\s346557\\Documents\\Analysis\\GenAn.py:662: UserWarning: pandas only supports SQLAlchemy connectable (engine/connection) or database string URI or sqlite3 DBAPI2 connection. Other DBAPI2 objects are not tested. Please consider using SQLAlchemy.\n",
      "  df = pd.read_sql_query(sql, conn_db, **read_sql_args)\n"
     ]
    },
    {
     "name": "stdout",
     "output_type": "stream",
     "text": [
      "40/124\n"
     ]
    },
    {
     "name": "stderr",
     "output_type": "stream",
     "text": [
      "C:\\Users\\s346557\\Documents\\Analysis\\GenAn.py:662: UserWarning: pandas only supports SQLAlchemy connectable (engine/connection) or database string URI or sqlite3 DBAPI2 connection. Other DBAPI2 objects are not tested. Please consider using SQLAlchemy.\n",
      "  df = pd.read_sql_query(sql, conn_db, **read_sql_args)\n"
     ]
    },
    {
     "name": "stdout",
     "output_type": "stream",
     "text": [
      "41/124\n"
     ]
    },
    {
     "name": "stderr",
     "output_type": "stream",
     "text": [
      "C:\\Users\\s346557\\Documents\\Analysis\\GenAn.py:662: UserWarning: pandas only supports SQLAlchemy connectable (engine/connection) or database string URI or sqlite3 DBAPI2 connection. Other DBAPI2 objects are not tested. Please consider using SQLAlchemy.\n",
      "  df = pd.read_sql_query(sql, conn_db, **read_sql_args)\n"
     ]
    },
    {
     "name": "stdout",
     "output_type": "stream",
     "text": [
      "42/124\n"
     ]
    },
    {
     "name": "stderr",
     "output_type": "stream",
     "text": [
      "C:\\Users\\s346557\\Documents\\Analysis\\GenAn.py:662: UserWarning: pandas only supports SQLAlchemy connectable (engine/connection) or database string URI or sqlite3 DBAPI2 connection. Other DBAPI2 objects are not tested. Please consider using SQLAlchemy.\n",
      "  df = pd.read_sql_query(sql, conn_db, **read_sql_args)\n"
     ]
    },
    {
     "name": "stdout",
     "output_type": "stream",
     "text": [
      "43/124\n"
     ]
    },
    {
     "name": "stderr",
     "output_type": "stream",
     "text": [
      "C:\\Users\\s346557\\Documents\\Analysis\\GenAn.py:662: UserWarning: pandas only supports SQLAlchemy connectable (engine/connection) or database string URI or sqlite3 DBAPI2 connection. Other DBAPI2 objects are not tested. Please consider using SQLAlchemy.\n",
      "  df = pd.read_sql_query(sql, conn_db, **read_sql_args)\n"
     ]
    },
    {
     "name": "stdout",
     "output_type": "stream",
     "text": [
      "44/124\n"
     ]
    },
    {
     "name": "stderr",
     "output_type": "stream",
     "text": [
      "C:\\Users\\s346557\\Documents\\Analysis\\GenAn.py:662: UserWarning: pandas only supports SQLAlchemy connectable (engine/connection) or database string URI or sqlite3 DBAPI2 connection. Other DBAPI2 objects are not tested. Please consider using SQLAlchemy.\n",
      "  df = pd.read_sql_query(sql, conn_db, **read_sql_args)\n"
     ]
    },
    {
     "name": "stdout",
     "output_type": "stream",
     "text": [
      "45/124\n"
     ]
    },
    {
     "name": "stderr",
     "output_type": "stream",
     "text": [
      "C:\\Users\\s346557\\Documents\\Analysis\\GenAn.py:662: UserWarning: pandas only supports SQLAlchemy connectable (engine/connection) or database string URI or sqlite3 DBAPI2 connection. Other DBAPI2 objects are not tested. Please consider using SQLAlchemy.\n",
      "  df = pd.read_sql_query(sql, conn_db, **read_sql_args)\n"
     ]
    },
    {
     "name": "stdout",
     "output_type": "stream",
     "text": [
      "46/124\n"
     ]
    },
    {
     "name": "stderr",
     "output_type": "stream",
     "text": [
      "C:\\Users\\s346557\\Documents\\Analysis\\GenAn.py:662: UserWarning: pandas only supports SQLAlchemy connectable (engine/connection) or database string URI or sqlite3 DBAPI2 connection. Other DBAPI2 objects are not tested. Please consider using SQLAlchemy.\n",
      "  df = pd.read_sql_query(sql, conn_db, **read_sql_args)\n"
     ]
    },
    {
     "name": "stdout",
     "output_type": "stream",
     "text": [
      "47/124\n"
     ]
    },
    {
     "name": "stderr",
     "output_type": "stream",
     "text": [
      "C:\\Users\\s346557\\Documents\\Analysis\\GenAn.py:662: UserWarning: pandas only supports SQLAlchemy connectable (engine/connection) or database string URI or sqlite3 DBAPI2 connection. Other DBAPI2 objects are not tested. Please consider using SQLAlchemy.\n",
      "  df = pd.read_sql_query(sql, conn_db, **read_sql_args)\n"
     ]
    }
   ],
   "source": [
    "for opco_i in opcos:\n",
    "    #--------------------------------------------------\n",
    "    # For this DAQ, I am doing one opco at a time\n",
    "    # assert(isinstance(opco_i, str))\n",
    "    save_dir_base = r'C:\\Users\\s346557\\Documents\\LocalData\\dovs_check'\n",
    "    save_subdir = f\"{date_0.replace('-','')}_{date_1.replace('-','')}\"\n",
    "    save_dir_base = os.path.join(save_dir_base, save_subdir)\n",
    "    if opco_i:\n",
    "        save_dir_base = os.path.join(save_dir_base, opco_i)\n",
    "    else:\n",
    "        save_dir_base = os.path.join(save_dir_base, 'AllOPCOs')\n",
    "    if not os.path.exists(save_dir_base):\n",
    "        os.makedirs(save_dir_base)\n",
    "    \n",
    "    #--------------------------------------------------\n",
    "    da_batch = DABatch(\n",
    "        date_0        = date_0, \n",
    "        date_1        = date_1, \n",
    "        states        = states, \n",
    "        opcos         = opco_i, \n",
    "        CI_NB_min     = CI_NB_min, \n",
    "        mjr_mnr_cause = None, \n",
    "    )\n",
    "    #-----\n",
    "    da_batch.build_outages_df(save_dir_base = save_dir_base)\n",
    "    da_batch.build_outages_mp_df(save_dir_base = save_dir_base)\n",
    "    da_batch.build_outages_mp_df_ami(save_dir_base = save_dir_base)\n",
    "    da_batch.finalize_audit_candidates(save_dir_base = save_dir_base)\n",
    "    da_batch.run_ami_nonvee_daq(save_dir_base = save_dir_base)\n",
    "    da_batch.run_ami_ede_daq(\n",
    "        save_dir_base = save_dir_base, \n",
    "        pdpu_only     = True\n",
    "    )"
   ]
  },
  {
   "cell_type": "code",
   "execution_count": null,
   "id": "1c22302b-796d-4833-aa90-38480afe4cbf",
   "metadata": {},
   "outputs": [],
   "source": [
    "assert(0)"
   ]
  },
  {
   "cell_type": "code",
   "execution_count": null,
   "id": "d87ce969-733c-4834-aa5b-0ab75019a5bc",
   "metadata": {},
   "outputs": [],
   "source": [
    "# #----------------------------------------------------------------------------------------------------\n",
    "# def load_daq_prereqs(\n",
    "#     self     , \n",
    "#     base_dir , \n",
    "#     how      = 'min', \n",
    "#     verbose  = True\n",
    "# ):\n",
    "#     r\"\"\"\n",
    "#     Load all of the required attributes needed for batch data acquistion.\n",
    "#     The purpose here is to allow one to easily re-start a DAQ run that may have failed part way through.\n",
    "\n",
    "#     how:\n",
    "#         Should be either 'min' or 'full'\n",
    "#         For DAQ, (aside from any kwargs, e.g., opco) the only data really needed is audit_candidates_df.\n",
    "#         When 'min' is selected, only audit_candidates_df is loaded\n",
    "#     \"\"\"\n",
    "#     #--------------------------------------------------\n",
    "#     assert(os.path.isdir(base_dir))\n",
    "#     assert(how in ['min', 'full'])\n",
    "#     #-------------------------\n",
    "#     # In all cases, audit_candidates_df must be loaded\n",
    "#     assert(os.path.exists(os.path.join(base_dir, 'audit_candidates_df.pkl')))\n",
    "#     ac_df = pd.read_pickle(os.path.join(base_dir, 'audit_candidates_df.pkl'))\n",
    "#     self.set_audit_candidates_df(audit_candidates_df = ac_df)\n",
    "#     #-------------------------\n",
    "#     if how == 'min':\n",
    "#         if verbose:\n",
    "#             print(f\"Loaded minimum DAQ prereqs from base_dir = {base_dir}\")\n",
    "#         return\n",
    "#     #-------------------------\n",
    "#     other_dfs = {\n",
    "#         'outages_df'        : 'outages_df', \n",
    "#         'outages_mp_df_OG'  : 'outages_mp_df_b4_dupl_rmvl', \n",
    "#         'outages_mp_df'     : 'outages_mp_df', \n",
    "#         'outages_mp_df_ami' : 'outages_mp_df_ami'\n",
    "#     }\n",
    "#     success = {audit_candidates_df, 'True'}\n",
    "#     #-----\n",
    "#     for attr_name_i, file_name_i in other_dfs.items():\n",
    "#         path_i = os.path.join(base_dir, f'{file_name_i}.pkl')\n",
    "#         if os.path.exists(path_i):\n",
    "#             try:\n",
    "#                 df_i = pd.read_pickle(path_i)\n",
    "#                 self.setattr(self, attr_name_i, df_i)\n",
    "#                 success[attr_name_i] = 'True'\n",
    "#             except:\n",
    "#                 success[attr_name_i] = 'False'\n",
    "#         else:\n",
    "#             success[attr_name_i] = 'False'\n",
    "#     #-------------------------\n",
    "#     if verbose:\n",
    "#         print(f\"Loaded full DAQ prereqs from base_dir = {base_dir}\")\n",
    "#         for k,v in success:\n",
    "#             print(f\"{k} : {v}\")"
   ]
  },
  {
   "cell_type": "code",
   "execution_count": null,
   "id": "ce812055-a286-4e47-a4ca-9d1fee7e4b8b",
   "metadata": {},
   "outputs": [],
   "source": []
  },
  {
   "cell_type": "code",
   "execution_count": null,
   "id": "bd8321cc-0485-4aef-a696-cdf425fabc97",
   "metadata": {},
   "outputs": [],
   "source": []
  },
  {
   "cell_type": "code",
   "execution_count": null,
   "id": "548de397-9365-46af-9b47-0e42c74a1884",
   "metadata": {},
   "outputs": [],
   "source": []
  },
  {
   "cell_type": "code",
   "execution_count": null,
   "id": "8ee5eff2-07d8-4b22-bfbf-6394f8cbeeb4",
   "metadata": {},
   "outputs": [],
   "source": [
    "opco_i = 'ap'"
   ]
  },
  {
   "cell_type": "code",
   "execution_count": null,
   "id": "76cad960-9c1b-4203-ab99-949d6b312643",
   "metadata": {},
   "outputs": [],
   "source": [
    "save_dir_base = r'C:\\Users\\s346557\\Documents\\LocalData\\dovs_check'\n",
    "save_subdir = f\"{date_0.replace('-','')}_{date_1.replace('-','')}\"\n",
    "save_dir_base = os.path.join(save_dir_base, save_subdir)\n",
    "if opco_i:\n",
    "    save_dir_base = os.path.join(save_dir_base, opco_i)\n",
    "else:\n",
    "    save_dir_base = os.path.join(save_dir_base, 'AllOPCOs')"
   ]
  },
  {
   "cell_type": "code",
   "execution_count": null,
   "id": "f72c048e-f946-4493-93a4-b95f6e04b020",
   "metadata": {},
   "outputs": [],
   "source": [
    "da_batch = DABatch(\n",
    "    date_0        = date_0, \n",
    "    date_1        = date_1, \n",
    "    states        = states, \n",
    "    opcos         = opco_i, \n",
    "    CI_NB_min     = CI_NB_min, \n",
    "    mjr_mnr_cause = None, \n",
    ")"
   ]
  },
  {
   "cell_type": "code",
   "execution_count": null,
   "id": "c6f1b286-85ac-4300-92c1-7a6f8541cb49",
   "metadata": {},
   "outputs": [],
   "source": [
    "da_batch.load_daq_prereqs(\n",
    "    base_dir = save_dir_base, \n",
    "    how      = 'full', \n",
    "    verbose  = True\n",
    ")"
   ]
  },
  {
   "cell_type": "code",
   "execution_count": null,
   "id": "e9082888-c25c-4468-bb0c-952a5cd03f76",
   "metadata": {},
   "outputs": [],
   "source": [
    "da_batch.outages_df"
   ]
  },
  {
   "cell_type": "code",
   "execution_count": null,
   "id": "b3cb0718-eb2d-43c9-b00a-6f807fa5cdff",
   "metadata": {},
   "outputs": [],
   "source": []
  },
  {
   "cell_type": "code",
   "execution_count": null,
   "id": "6e12a0e1-6edd-4f55-8218-5cf911ee7c5b",
   "metadata": {},
   "outputs": [],
   "source": []
  },
  {
   "cell_type": "code",
   "execution_count": null,
   "id": "861cad17-4b8e-4335-9b6d-938441869fe7",
   "metadata": {},
   "outputs": [],
   "source": [
    "base_dir = save_dir_base"
   ]
  },
  {
   "cell_type": "code",
   "execution_count": null,
   "id": "b82ac566-1627-42ea-940a-ae4101b1d45a",
   "metadata": {},
   "outputs": [],
   "source": [
    "os.path.exists(os.path.join(base_dir, 'audit_candidates_df.pkl'))"
   ]
  },
  {
   "cell_type": "code",
   "execution_count": null,
   "id": "eb748eb2-159b-4d20-a5e4-6665dc492feb",
   "metadata": {},
   "outputs": [],
   "source": [
    "os.path.join(base_dir, 'audit_candidates_df.pkl')"
   ]
  },
  {
   "cell_type": "code",
   "execution_count": null,
   "id": "e4e94032-0cbb-4a30-8647-daf7fb9e6e47",
   "metadata": {},
   "outputs": [],
   "source": [
    "os.path.join(base_dir, 'audit_candidates_df', '.pkl')"
   ]
  },
  {
   "cell_type": "code",
   "execution_count": null,
   "id": "69f0a696-31bc-4128-acba-920413f06a98",
   "metadata": {},
   "outputs": [],
   "source": []
  },
  {
   "cell_type": "code",
   "execution_count": null,
   "id": "f0d63cc5-690b-4108-84d5-f36e12eee8db",
   "metadata": {},
   "outputs": [],
   "source": []
  },
  {
   "cell_type": "code",
   "execution_count": null,
   "id": "a6f04d5b-12d8-4009-9031-a9f619dfe489",
   "metadata": {},
   "outputs": [],
   "source": [
    "df1 = pd.read_pickle(r'C:\\Users\\s346557\\Documents\\LocalData\\dovs_check\\20240825_20240826\\oh\\audit_candidates_df.pkl')\n",
    "df2 = pd.read_pickle(r'C:\\Users\\s346557\\Documents\\LocalData\\dovs_check\\20240825_20240826_OLDMETHODS\\oh\\df_outage_ami_w_mp_slim.pkl')\n",
    "#-------------------------\n",
    "df1 = df1[df2.columns].sort_values(by=['OUTG_REC_NB', 'trsf_pole_nb'], ignore_index=True)\n",
    "df2 = df2.sort_values(by=['OUTG_REC_NB', 'trsf_pole_nb'], ignore_index=True)\n",
    "#-------------------------\n",
    "df1['mfr_devc_ser_nbr'] = df1['mfr_devc_ser_nbr'].apply(sorted)\n",
    "df1['prem_nb']          = df1['prem_nb'].apply(sorted)\n",
    "df1['inst_ts']          = df1['inst_ts'].apply(sorted)\n",
    "df1['rmvl_ts']          = df1['rmvl_ts'].apply(sorted)\n",
    "#-----\n",
    "df2['mfr_devc_ser_nbr'] = df2['mfr_devc_ser_nbr'].apply(sorted)\n",
    "df2['prem_nb']          = df2['prem_nb'].apply(sorted)\n",
    "df2['inst_ts']          = df2['inst_ts'].apply(sorted)\n",
    "df2['rmvl_ts']          = df2['rmvl_ts'].apply(sorted)\n",
    "#-------------------------\n",
    "df1.equals(df2)"
   ]
  },
  {
   "cell_type": "code",
   "execution_count": null,
   "id": "0acfc8f9-1d6c-4c39-a4f6-96b3e3ed37b9",
   "metadata": {},
   "outputs": [],
   "source": []
  },
  {
   "cell_type": "code",
   "execution_count": null,
   "id": "4eff9477-bb44-42fa-a72d-aa601ac6f068",
   "metadata": {},
   "outputs": [],
   "source": [
    "df1 = pd.read_pickle(r'C:\\Users\\s346557\\Documents\\LocalData\\dovs_check\\20240825_20240826\\oh\\outages_df.pkl')\n",
    "df2 = pd.read_pickle(r'C:\\Users\\s346557\\Documents\\LocalData\\dovs_check\\20240825_20240826_OLDMETHODS\\oh\\df_outage.pkl')\n",
    "#-------------------------\n",
    "df1 = df1[df2.columns].sort_values(by=['OUTG_REC_NB', 'PREMISE_NB'], ignore_index=True)\n",
    "df2 = df2.sort_values(by=['OUTG_REC_NB', 'PREMISE_NB'], ignore_index=True)\n",
    "#-------------------------\n",
    "df1.equals(df2)"
   ]
  },
  {
   "cell_type": "code",
   "execution_count": null,
   "id": "1dbac4ac-2875-4a15-99e0-4e1dd981cdf7",
   "metadata": {},
   "outputs": [],
   "source": []
  },
  {
   "cell_type": "code",
   "execution_count": null,
   "id": "298d6e1c-403e-4d09-9d1b-d8d5236a838f",
   "metadata": {},
   "outputs": [],
   "source": [
    "df1 = pd.read_pickle(r'C:\\Users\\s346557\\Documents\\LocalData\\dovs_check\\20240825_20240826\\oh\\outages_mp_df.pkl')\n",
    "df2 = pd.read_pickle(r'C:\\Users\\s346557\\Documents\\LocalData\\dovs_check\\20240825_20240826_OLDMETHODS\\oh\\df_mp_outg.pkl')\n",
    "#-------------------------\n",
    "df1 = df1[df2.columns].sort_values(by=['OUTG_REC_NB', 'mfr_devc_ser_nbr', 'prem_nb'], ignore_index=True)\n",
    "df2 = df2.sort_values(by=['OUTG_REC_NB', 'mfr_devc_ser_nbr', 'prem_nb'], ignore_index=True)\n",
    "#-------------------------\n",
    "df1.equals(df2)"
   ]
  },
  {
   "cell_type": "code",
   "execution_count": null,
   "id": "995e94ed-8ea2-454d-89fc-99a0e0b35b80",
   "metadata": {},
   "outputs": [],
   "source": []
  },
  {
   "cell_type": "code",
   "execution_count": null,
   "id": "a6eadafb-c617-48ee-b4d6-4b78de9a8c5c",
   "metadata": {},
   "outputs": [],
   "source": [
    "df1 = pd.read_pickle(r'C:\\Users\\s346557\\Documents\\LocalData\\dovs_check\\20240825_20240826\\oh\\outages_mp_df_ami.pkl')\n",
    "df2 = pd.read_pickle(r'C:\\Users\\s346557\\Documents\\LocalData\\dovs_check\\20240825_20240826_OLDMETHODS\\oh\\df_mp_outg_ami.pkl')\n",
    "#-------------------------\n",
    "df1 = df1[df2.columns].sort_values(by=['OUTG_REC_NB', 'mfr_devc_ser_nbr', 'prem_nb'], ignore_index=True)\n",
    "df2 = df2.sort_values(by=['OUTG_REC_NB', 'mfr_devc_ser_nbr', 'prem_nb'], ignore_index=True)\n",
    "#-------------------------\n",
    "df1.equals(df2)"
   ]
  },
  {
   "cell_type": "code",
   "execution_count": null,
   "id": "fd89ca39-c4fa-40f7-af89-b450903ecfbe",
   "metadata": {},
   "outputs": [],
   "source": []
  },
  {
   "cell_type": "code",
   "execution_count": null,
   "id": "ddfbff10-c8d1-4851-8c8e-c5d38ed2e6fe",
   "metadata": {},
   "outputs": [],
   "source": [
    "df1 = pd.read_pickle(r'C:\\Users\\s346557\\Documents\\LocalData\\dovs_check\\20240825_20240826\\oh\\outages_mp_df_b4_dupl_rmvl.pkl')\n",
    "df2 = pd.read_pickle(r'C:\\Users\\s346557\\Documents\\LocalData\\dovs_check\\20240825_20240826_OLDMETHODS\\oh\\df_mp_outg_b4_dupl_rmvl.pkl')\n",
    "#-------------------------\n",
    "df1 = df1[df2.columns].sort_values(by=['OUTG_REC_NB', 'mfr_devc_ser_nbr', 'prem_nb'], ignore_index=True)\n",
    "df2 = df2.sort_values(by=['OUTG_REC_NB', 'mfr_devc_ser_nbr', 'prem_nb'], ignore_index=True)\n",
    "#-------------------------\n",
    "df1.equals(df2)"
   ]
  },
  {
   "cell_type": "code",
   "execution_count": null,
   "id": "9bb0eadd-f348-4a71-8385-3a8aef727c9f",
   "metadata": {},
   "outputs": [],
   "source": [
    "assert(0)"
   ]
  },
  {
   "cell_type": "code",
   "execution_count": null,
   "id": "27dcc870-c054-4c09-a3dc-1d9680771520",
   "metadata": {},
   "outputs": [],
   "source": [
    "df1 = pd.read_pickle(r'C:\\Users\\s346557\\Documents\\LocalData\\dovs_check\\20240825_20240826_OLDMETHODS\\oh\\Results\\ci_cmi_summary.pkl')\n",
    "df2 = pd.read_pickle(r'C:\\Users\\s346557\\Documents\\LocalData\\dovs_check\\20240825_20240826_NEWV0\\oh\\Results\\ci_cmi_summary.pkl')\n",
    "df3 = pd.read_pickle(r'C:\\Users\\s346557\\Documents\\LocalData\\dovs_check\\20240825_20240826_NEWV1F\\oh\\Results\\ci_cmi_summary.pkl')\n",
    "df4 = pd.read_pickle(r'C:\\Users\\s346557\\Documents\\LocalData\\dovs_check\\20240825_20240826_NEWV1T\\oh\\Results\\ci_cmi_summary.pkl')\n",
    "#-------------------------\n",
    "df1 = df1.sort_values(by=['outg_rec_nb'], ignore_index=True).drop(columns=['outg_rec_int'])\n",
    "df2 = df2.sort_values(by=['outg_rec_nb'], ignore_index=True).drop(columns=['outg_rec_int'])\n",
    "df3 = df3.sort_values(by=['outg_rec_nb'], ignore_index=True).drop(columns=['outg_rec_int'])\n",
    "df4 = df4.sort_values(by=['outg_rec_nb'], ignore_index=True).drop(columns=['outg_rec_int'])\n",
    "#-------------------------\n",
    "print(df1.equals(df2))\n",
    "print(df1.equals(df3))\n",
    "print(df1.equals(df4))\n",
    "#-----\n",
    "print(df2.equals(df3))\n",
    "print(df2.equals(df4))\n",
    "#-----\n",
    "print(df3.equals(df4))"
   ]
  },
  {
   "cell_type": "code",
   "execution_count": null,
   "id": "d6a81a10-cdbc-4512-a166-cc64b25c765a",
   "metadata": {},
   "outputs": [],
   "source": []
  },
  {
   "cell_type": "code",
   "execution_count": null,
   "id": "abb19f25-98ad-469b-bbb5-bdfe4019f1ac",
   "metadata": {},
   "outputs": [],
   "source": [
    "df1 = pd.read_pickle(r'C:\\Users\\s346557\\Documents\\LocalData\\dovs_check\\20240825_20240826_OLDMETHODS\\oh\\Results\\detailed_summary.pkl')\n",
    "df2 = pd.read_pickle(r'C:\\Users\\s346557\\Documents\\LocalData\\dovs_check\\20240825_20240826_NEWV0\\oh\\Results\\detailed_summary.pkl')\n",
    "df3 = pd.read_pickle(r'C:\\Users\\s346557\\Documents\\LocalData\\dovs_check\\20240825_20240826_NEWV1F\\oh\\Results\\detailed_summary.pkl')\n",
    "df4 = pd.read_pickle(r'C:\\Users\\s346557\\Documents\\LocalData\\dovs_check\\20240825_20240826_NEWV1T\\oh\\Results\\detailed_summary.pkl')\n",
    "#-------------------------\n",
    "df1 = df1.sort_index()\n",
    "df2 = df2.sort_index()\n",
    "df3 = df3.sort_index()\n",
    "df4 = df4.sort_index()\n",
    "#-------------------------\n",
    "print(df1.equals(df2))\n",
    "print(df1.equals(df3))\n",
    "print(df1.equals(df4))\n",
    "#-----\n",
    "print(df2.equals(df3))\n",
    "print(df2.equals(df4))\n",
    "#-----\n",
    "print(df3.equals(df4))"
   ]
  },
  {
   "cell_type": "code",
   "execution_count": null,
   "id": "67a1a25e-4339-4000-8b8a-02f0a2453db8",
   "metadata": {},
   "outputs": [],
   "source": []
  },
  {
   "cell_type": "code",
   "execution_count": null,
   "id": "33d3eac5-eb2d-4157-bb0b-046782a7a9b3",
   "metadata": {},
   "outputs": [],
   "source": [
    "df1 = pd.read_pickle(r'C:\\Users\\s346557\\Documents\\LocalData\\dovs_check\\20240825_20240826_OLDMETHODS\\oh\\Results\\detailed_summary_dovs_beg.pkl')\n",
    "df2 = pd.read_pickle(r'C:\\Users\\s346557\\Documents\\LocalData\\dovs_check\\20240825_20240826_NEWV0\\oh\\Results\\detailed_summary_dovs_beg.pkl')\n",
    "df3 = pd.read_pickle(r'C:\\Users\\s346557\\Documents\\LocalData\\dovs_check\\20240825_20240826_NEWV1F\\oh\\Results\\detailed_summary_dovs_beg.pkl')\n",
    "df4 = pd.read_pickle(r'C:\\Users\\s346557\\Documents\\LocalData\\dovs_check\\20240825_20240826_NEWV1T\\oh\\Results\\detailed_summary_dovs_beg.pkl')\n",
    "#-------------------------\n",
    "df1 = df1.sort_index()\n",
    "df2 = df2.sort_index()\n",
    "df3 = df3.sort_index()\n",
    "df4 = df4.sort_index()\n",
    "#-------------------------\n",
    "print(df1.equals(df2))\n",
    "print(df1.equals(df3))\n",
    "print(df1.equals(df4))\n",
    "#-----\n",
    "print(df2.equals(df3))\n",
    "print(df2.equals(df4))\n",
    "#-----\n",
    "print(df3.equals(df4))"
   ]
  },
  {
   "cell_type": "code",
   "execution_count": null,
   "id": "199873d4-fc0e-4d45-8b97-d02d9031ea79",
   "metadata": {},
   "outputs": [],
   "source": [
    "assert(0)"
   ]
  },
  {
   "cell_type": "code",
   "execution_count": null,
   "id": "d1188f92-d3f2-49b0-ab2b-dc1b65fc3518",
   "metadata": {},
   "outputs": [],
   "source": []
  },
  {
   "cell_type": "code",
   "execution_count": null,
   "id": "57d235d3-7e52-4c3f-9fae-a01edd1aaeb4",
   "metadata": {},
   "outputs": [],
   "source": []
  },
  {
   "cell_type": "code",
   "execution_count": null,
   "id": "33d6422f-e27d-44c8-8bc1-29eb47732579",
   "metadata": {},
   "outputs": [],
   "source": []
  },
  {
   "cell_type": "code",
   "execution_count": null,
   "id": "cb7b510c-e3a2-4e8e-9d99-349002bb0081",
   "metadata": {},
   "outputs": [],
   "source": []
  },
  {
   "cell_type": "code",
   "execution_count": null,
   "id": "abf81d9e-0cdd-46da-87dd-3115b5376b27",
   "metadata": {},
   "outputs": [],
   "source": [
    "# IS THERE ANY REASON TO build_mp_df\n",
    "# DOESNT DA BATCH HAVE SOMETHING I CAN USE?"
   ]
  },
  {
   "cell_type": "code",
   "execution_count": null,
   "id": "0388b4f0",
   "metadata": {},
   "outputs": [],
   "source": [
    "outg_rec_nb = '14103171'"
   ]
  },
  {
   "cell_type": "code",
   "execution_count": null,
   "id": "bdeb34e7",
   "metadata": {
    "scrolled": true
   },
   "outputs": [],
   "source": [
    "search_time_half_window=pd.Timedelta('24 hours')\n",
    "#-------------------------\n",
    "audit_i = DOVSAudit(\n",
    "    outg_rec_nb=outg_rec_nb\n",
    ")\n",
    "#-------------------------\n",
    "audit_i.load_dovs(\n",
    "    dovs_df           = None, \n",
    "    dovs_df_info_dict = None\n",
    ")\n",
    "#-------------------------\n",
    "audit_i.build_mp_df(\n",
    "    drop_mp_dups_fuzziness=pd.Timedelta('1 hour')\n",
    ")\n",
    "#-------------------------\n",
    "audit_i.run_ami_and_ede_daq(\n",
    "    search_time_half_window=search_time_half_window\n",
    ")"
   ]
  },
  {
   "cell_type": "code",
   "execution_count": null,
   "id": "635b1bed-e29a-408a-8e5b-024895d00118",
   "metadata": {},
   "outputs": [],
   "source": [
    "df_1 = audit_i.mp_df_i.copy()\n",
    "df_2 = da_batch.outages_mp_df[da_batch.outages_mp_df['OUTG_REC_NB']==14103171].copy()"
   ]
  },
  {
   "cell_type": "code",
   "execution_count": null,
   "id": "17f6f72a-8cac-4a9a-8675-033196cf713f",
   "metadata": {},
   "outputs": [],
   "source": [
    "df_1 = df_1.sort_values(by=['mfr_devc_ser_nbr'], ignore_index=True)\n",
    "df_2 = df_2.sort_values(by=['mfr_devc_ser_nbr'], ignore_index=True)"
   ]
  },
  {
   "cell_type": "code",
   "execution_count": null,
   "id": "883dbbc4-cd36-484e-b2fd-ced1401726c9",
   "metadata": {},
   "outputs": [],
   "source": [
    "df_2['OUTG_REC_NB'] = df_2['OUTG_REC_NB'].astype(str)"
   ]
  },
  {
   "cell_type": "code",
   "execution_count": null,
   "id": "92313f09-586a-4b51-bdef-c03c3b1623ad",
   "metadata": {},
   "outputs": [],
   "source": [
    "print(df_1.shape)\n",
    "print(df_2.shape)"
   ]
  },
  {
   "cell_type": "code",
   "execution_count": null,
   "id": "72895485-638f-4290-b6aa-efe3ecffa364",
   "metadata": {},
   "outputs": [],
   "source": [
    "df_1.equals(df_2)"
   ]
  },
  {
   "cell_type": "code",
   "execution_count": null,
   "id": "bbd15a10-10c2-4e2f-8aae-7cc166cb3e2c",
   "metadata": {},
   "outputs": [],
   "source": [
    "# dffs = Utilities_df.get_dfs_diff(df_1,df_2)\n",
    "# dffs"
   ]
  },
  {
   "cell_type": "code",
   "execution_count": null,
   "id": "6ed236c0-d47d-4ea8-852a-875ea559f087",
   "metadata": {},
   "outputs": [],
   "source": []
  },
  {
   "cell_type": "code",
   "execution_count": null,
   "id": "f1c6e9b7-3fb8-4679-9426-eb033fd680c1",
   "metadata": {},
   "outputs": [],
   "source": []
  },
  {
   "cell_type": "code",
   "execution_count": null,
   "id": "f22700c5-c2ef-425e-b30c-75bdf4fa008e",
   "metadata": {},
   "outputs": [],
   "source": []
  },
  {
   "cell_type": "code",
   "execution_count": null,
   "id": "14c8ccb5-c965-4187-bd90-dc5c9117ad0b",
   "metadata": {},
   "outputs": [],
   "source": []
  },
  {
   "cell_type": "code",
   "execution_count": null,
   "id": "75c8154a",
   "metadata": {
    "scrolled": true
   },
   "outputs": [],
   "source": [
    "audit_i.build_best_ests_df()"
   ]
  },
  {
   "cell_type": "code",
   "execution_count": null,
   "id": "024315b8",
   "metadata": {},
   "outputs": [],
   "source": [
    "audit_i.identify_overlaps(overlaps_dovs_sql_fcn=DOVSOutages_SQL.build_sql_outage)"
   ]
  },
  {
   "cell_type": "code",
   "execution_count": null,
   "id": "5f9eb66e",
   "metadata": {},
   "outputs": [],
   "source": [
    "audit_i.resolve_overlapping_audits()"
   ]
  },
  {
   "cell_type": "code",
   "execution_count": null,
   "id": "fcc9977e",
   "metadata": {},
   "outputs": [],
   "source": [
    "means_df, best_ests_df_w_db_lbl = DOVSAudit.get_mean_times_w_dbscan(\n",
    "    best_ests_df                  = audit_i.best_ests_df, \n",
    "    eps_min                       = 5, \n",
    "    min_samples                   = 2, \n",
    "    ests_to_include_in_clustering = ['winner_min', 'winner_max'],\n",
    "    ests_to_include_in_output     = [\n",
    "        'winner_min', 'winner_max', \n",
    "        'conservative_min', 'conservative_max', \n",
    "        'zero_times_min', 'zero_times_max'\n",
    "    ], \n",
    "    return_labelled_best_ests_df  = True\n",
    ")"
   ]
  },
  {
   "cell_type": "code",
   "execution_count": null,
   "id": "14174457-0ff0-4b9c-89a0-c86bab062ef3",
   "metadata": {},
   "outputs": [],
   "source": [
    "audit_i.dovs_df_info_dict"
   ]
  },
  {
   "cell_type": "code",
   "execution_count": null,
   "id": "1acb0ba3-e882-486a-b3cf-c20b8f86b959",
   "metadata": {},
   "outputs": [],
   "source": []
  },
  {
   "cell_type": "code",
   "execution_count": null,
   "id": "767e9850-82b3-4515-805f-2246d7b8e8e5",
   "metadata": {},
   "outputs": [],
   "source": [
    "n_PNs_w_power_srs = DOVSAudit.build_n_PNs_w_power_srs(\n",
    "    best_ests_df = audit_i.best_ests_df, \n",
    "    ami_df_i     = audit_i.ami_df_i, \n",
    "    return_pct=True, \n",
    "    PN_col='PN', \n",
    "    t_min_col='winner_min', \n",
    "    t_max_col='winner_max', \n",
    "    i_outg_col='i_outg', \n",
    "    PN_col_ami_df='aep_premise_nb'\n",
    ")"
   ]
  },
  {
   "cell_type": "code",
   "execution_count": null,
   "id": "4ec5551d-9d0c-46e0-aebf-4cc013cd050b",
   "metadata": {},
   "outputs": [],
   "source": []
  },
  {
   "cell_type": "code",
   "execution_count": null,
   "id": "cb525cef",
   "metadata": {},
   "outputs": [],
   "source": [
    "calculate_by_PN=True\n",
    "detailed_summary_df_i = DOVSAudit.build_detailed_summary_df(\n",
    "    means_df              = means_df, \n",
    "    best_ests_df_w_db_lbl = best_ests_df_w_db_lbl,\n",
    "    n_PNs_w_power_srs     = n_PNs_w_power_srs, \n",
    "    CI_tot                = audit_i.ci, \n",
    "    CMI_tot               = audit_i.cmi, \n",
    "    n_PNs_ami             = audit_i.ami_df_i['aep_premise_nb'].nunique(),\n",
    "    outg_rec_nb           = audit_i.outg_rec_nb, \n",
    "    dovs_df_i             = audit_i.dovs_df_i, \n",
    "    warnings_flag         = audit_i.warnings_flag, \n",
    "    db_label_col          = 'db_label', \n",
    "    winner_min_col        = 'winner_min', \n",
    "    winner_max_col        = 'winner_max', \n",
    "    PN_col                = 'PN' if calculate_by_PN else 'SN', \n",
    "    i_outg_col            = 'i_outg'\n",
    ")"
   ]
  },
  {
   "cell_type": "code",
   "execution_count": null,
   "id": "5de60a4e",
   "metadata": {},
   "outputs": [],
   "source": [
    "detailed_summary_df_i"
   ]
  },
  {
   "cell_type": "code",
   "execution_count": null,
   "id": "2ebaa5e0-0db0-4616-b1fa-469826bce838",
   "metadata": {},
   "outputs": [],
   "source": []
  },
  {
   "cell_type": "code",
   "execution_count": null,
   "id": "88f5b318-f4de-4e3a-930b-d4840a42ed26",
   "metadata": {},
   "outputs": [],
   "source": [
    "fig_num=0\n",
    "fig, axs = DOVSAudit.plot_all_out_not(\n",
    "    fig_num              = fig_num, \n",
    "    ami_df_i             = audit_i.ami_df_i, \n",
    "    ami_df_i_out         = audit_i.ami_df_i_out, \n",
    "    ami_df_i_not_out     = audit_i.ami_df_i_not_out, \n",
    "    dovs_outg_t_beg      = audit_i.dovs_outg_t_beg_end[0], \n",
    "    dovs_outg_t_end      = audit_i.dovs_outg_t_beg_end[1], \n",
    "    cnsrvtv_out_t_beg    = audit_i.best_ests_df['conservative_min'].min(), \n",
    "    cnsrvtv_out_t_end    = audit_i.best_ests_df['conservative_max'].max(), \n",
    "    means_df             = means_df, \n",
    "    outg_rec_nb          = audit_i.outg_rec_nb, \n",
    "    outage_nb            = audit_i.outage_nb, \n",
    "    n_PNs_dovs           = audit_i.n_PNs_dovs, \n",
    "    ci_dovs              = audit_i.ci_dovs, \n",
    "    cmi_dovs             = audit_i.cmi_dovs, \n",
    "    ci_ami               = audit_i.ci, \n",
    "    cmi_ami              = audit_i.cmi, \n",
    "    name                 = 'AMI', \n",
    "    results_2_dict       = None, \n",
    "    expand_time          = pd.Timedelta('1 hour'), \n",
    "    mean_keys_to_include = ['winner', 'conservative', 'zero_times'], \n",
    "    removed_due_to_overlap_col=None, \n",
    "    default_subplots_args=dict(n_x=2, n_y=2, row_major=True, sharex=True), \n",
    "    leg_i_plot=1, \n",
    "    leg_kwargs=dict(ncols=1, fontsize=15, bbox_to_anchor=(1, 1.2)), \n",
    "    ci_info_fontsize=16, \n",
    "    left_text_x=0.915\n",
    "    \n",
    ")\n",
    "\n",
    "n_PNs_w_power_threshold = 95\n",
    "fig,axs[3] = DOVSAudit.static_plot_n_PNs_w_power_srs(\n",
    "    n_PNs_w_power_srs, \n",
    "    simp_freq='1T', \n",
    "    threshold=n_PNs_w_power_threshold, \n",
    "    fig_num=fig_num, \n",
    "    fig_ax=(fig, axs[3]), \n",
    "    threshold_color='magenta'\n",
    ")\n",
    "\n",
    "fig_num += 1"
   ]
  },
  {
   "cell_type": "code",
   "execution_count": null,
   "id": "cf992e01",
   "metadata": {},
   "outputs": [],
   "source": []
  },
  {
   "cell_type": "code",
   "execution_count": null,
   "id": "d000b9c2",
   "metadata": {},
   "outputs": [],
   "source": []
  },
  {
   "cell_type": "code",
   "execution_count": null,
   "id": "fce9c761",
   "metadata": {},
   "outputs": [],
   "source": [
    "audit_a = copy.deepcopy(audit_i)\n",
    "audit_b = copy.deepcopy(ovrlp_audit_a)\n",
    "unq_idfr_cols = ['PN', 'i_outg']\n",
    "PN_col='PN'\n",
    "t_min_col='winner_min'\n",
    "t_max_col='winner_max'\n",
    "keep_col='keep'\n",
    "overlap_DOVS_col='overlap_DOVS'\n",
    "open_beg_col = 'open_beg'\n",
    "open_end_col = 'open_end'"
   ]
  },
  {
   "cell_type": "code",
   "execution_count": null,
   "id": "db9b863b",
   "metadata": {},
   "outputs": [],
   "source": [
    "audit_a1 = copy.deepcopy(audit_i)\n",
    "audit_a2 = copy.deepcopy(audit_i)\n",
    "audit_a3 = copy.deepcopy(audit_i)\n",
    "audit_a4 = copy.deepcopy(audit_i)\n",
    "\n",
    "audit_b1 = copy.deepcopy(ovrlp_audit_a)\n",
    "audit_b2 = copy.deepcopy(ovrlp_audit_a)\n",
    "audit_b3 = copy.deepcopy(ovrlp_audit_a)\n",
    "audit_b4 = copy.deepcopy(ovrlp_audit_a)"
   ]
  },
  {
   "cell_type": "code",
   "execution_count": null,
   "id": "269a8b8f",
   "metadata": {},
   "outputs": [],
   "source": [
    "audit_a1.best_ests_df[audit_a1.best_ests_df['PN']=='960256588']"
   ]
  },
  {
   "cell_type": "code",
   "execution_count": null,
   "id": "ba6e3018",
   "metadata": {},
   "outputs": [],
   "source": [
    "audit_a1.best_ests_df_w_keep_info[audit_a1.best_ests_df_w_keep_info['PN']=='960256588']"
   ]
  },
  {
   "cell_type": "code",
   "execution_count": null,
   "id": "79615694",
   "metadata": {},
   "outputs": [],
   "source": []
  },
  {
   "cell_type": "code",
   "execution_count": null,
   "id": "5cae7f03",
   "metadata": {},
   "outputs": [],
   "source": [
    "PNs_to_resolve_A = audit_a.best_ests_df_w_keep_info[audit_a.best_ests_df_w_keep_info['keep']==False]['PN'].unique().tolist()\n",
    "# PNs_to_resolve_B = audit_a.best_ests_df_w_keep_info['PN'].unique().tolist()\n",
    "PNs_to_resolve_B = None"
   ]
  },
  {
   "cell_type": "code",
   "execution_count": null,
   "id": "b5113033",
   "metadata": {},
   "outputs": [],
   "source": [
    "adjustment_dicts_1 = DOVSAudit.resolve_overlapping_audits(\n",
    "    audit_a          = audit_a1, \n",
    "    audit_b          = audit_b1, \n",
    "    PNs_to_resolve   = PNs_to_resolve_A, \n",
    "    unq_idfr_cols    = unq_idfr_cols, \n",
    "    PN_col           = PN_col, \n",
    "    t_min_col        = t_min_col, \n",
    "    t_max_col        = t_max_col, \n",
    "    keep_col         = keep_col, \n",
    "    overlap_DOVS_col = overlap_DOVS_col, \n",
    "    open_beg_col     = open_beg_col, \n",
    "    open_end_col     = open_end_col\n",
    ")"
   ]
  },
  {
   "cell_type": "code",
   "execution_count": null,
   "id": "fb0f1328",
   "metadata": {},
   "outputs": [],
   "source": [
    "adjustment_dicts_2 = DOVSAudit.resolve_overlapping_audits_v2(\n",
    "    audit_a          = audit_a2, \n",
    "    audit_b          = audit_b2, \n",
    "    PNs_to_resolve   = PNs_to_resolve_A, \n",
    "    unq_idfr_cols    = unq_idfr_cols, \n",
    "    PN_col           = PN_col, \n",
    "    t_min_col        = t_min_col, \n",
    "    t_max_col        = t_max_col, \n",
    "    keep_col         = keep_col, \n",
    "    overlap_DOVS_col = overlap_DOVS_col, \n",
    "    open_beg_col     = open_beg_col, \n",
    "    open_end_col     = open_end_col\n",
    ")"
   ]
  },
  {
   "cell_type": "code",
   "execution_count": null,
   "id": "5582b552",
   "metadata": {},
   "outputs": [],
   "source": [
    "adjustment_dicts_3 = DOVSAudit.resolve_overlapping_audits(\n",
    "    audit_a          = audit_a3, \n",
    "    audit_b          = audit_b3, \n",
    "    PNs_to_resolve   = PNs_to_resolve_B, \n",
    "    unq_idfr_cols    = unq_idfr_cols, \n",
    "    PN_col           = PN_col, \n",
    "    t_min_col        = t_min_col, \n",
    "    t_max_col        = t_max_col, \n",
    "    keep_col         = keep_col, \n",
    "    overlap_DOVS_col = overlap_DOVS_col, \n",
    "    open_beg_col     = open_beg_col, \n",
    "    open_end_col     = open_end_col\n",
    ")"
   ]
  },
  {
   "cell_type": "code",
   "execution_count": null,
   "id": "216dc371",
   "metadata": {},
   "outputs": [],
   "source": [
    "adjustment_dicts_4 = DOVSAudit.resolve_overlapping_audits_v2(\n",
    "    audit_a          = audit_a4, \n",
    "    audit_b          = audit_b4, \n",
    "    PNs_to_resolve   = PNs_to_resolve_B, \n",
    "    unq_idfr_cols    = unq_idfr_cols, \n",
    "    PN_col           = PN_col, \n",
    "    t_min_col        = t_min_col, \n",
    "    t_max_col        = t_max_col, \n",
    "    keep_col         = keep_col, \n",
    "    overlap_DOVS_col = overlap_DOVS_col, \n",
    "    open_beg_col     = open_beg_col, \n",
    "    open_end_col     = open_end_col\n",
    ")"
   ]
  },
  {
   "cell_type": "code",
   "execution_count": null,
   "id": "9af75fd5",
   "metadata": {},
   "outputs": [],
   "source": [
    "# Expect True\n",
    "print(audit_a1.best_ests_df_w_keep_info.equals(audit_a2.best_ests_df_w_keep_info))\n",
    "print(audit_a1.best_ests_df_w_keep_info.equals(audit_a3.best_ests_df_w_keep_info))\n",
    "print(audit_a1.best_ests_df_w_keep_info.equals(audit_a4.best_ests_df_w_keep_info))\n",
    "\n",
    "print(audit_b1.best_ests_df_w_keep_info.equals(audit_b2.best_ests_df_w_keep_info))\n",
    "print(audit_b1.best_ests_df_w_keep_info.equals(audit_b3.best_ests_df_w_keep_info))\n",
    "print(audit_b1.best_ests_df_w_keep_info.equals(audit_b4.best_ests_df_w_keep_info))"
   ]
  },
  {
   "cell_type": "code",
   "execution_count": null,
   "id": "c96b164c",
   "metadata": {},
   "outputs": [],
   "source": [
    "audit_i.best_ests_df_w_keep_info[audit_i.best_ests_df_w_keep_info['keep']==True]"
   ]
  },
  {
   "cell_type": "code",
   "execution_count": null,
   "id": "392af6ef",
   "metadata": {},
   "outputs": [],
   "source": []
  },
  {
   "cell_type": "code",
   "execution_count": null,
   "id": "302d09ad",
   "metadata": {},
   "outputs": [],
   "source": []
  },
  {
   "cell_type": "code",
   "execution_count": null,
   "id": "c9ff0208",
   "metadata": {},
   "outputs": [],
   "source": [
    "audit_a1.best_ests_df_w_keep_info"
   ]
  },
  {
   "cell_type": "code",
   "execution_count": null,
   "id": "7897bf2c",
   "metadata": {},
   "outputs": [],
   "source": [
    "audit_a1.best_ests_df"
   ]
  },
  {
   "cell_type": "code",
   "execution_count": null,
   "id": "9310fe8a",
   "metadata": {},
   "outputs": [],
   "source": [
    "audit_a1.best_ests_df = audit_a1.best_ests_df_w_keep_info[audit_a1.best_ests_df_w_keep_info['keep']==True].drop(columns=['overlap_DOVS', 'overlap_times', 'keep'])"
   ]
  },
  {
   "cell_type": "code",
   "execution_count": null,
   "id": "c9fd6eb4",
   "metadata": {},
   "outputs": [],
   "source": []
  },
  {
   "cell_type": "code",
   "execution_count": null,
   "id": "5df9b52b",
   "metadata": {},
   "outputs": [],
   "source": [
    "audit_a1.best_ests_df_w_keep_info"
   ]
  },
  {
   "cell_type": "code",
   "execution_count": null,
   "id": "50777888",
   "metadata": {},
   "outputs": [],
   "source": [
    "audit_a1.best_ests_df_w_keep_info[audit_a1.best_ests_df_w_keep_info['resolved']==True]"
   ]
  },
  {
   "cell_type": "code",
   "execution_count": null,
   "id": "8b135fb5",
   "metadata": {},
   "outputs": [],
   "source": [
    "audit_a1.best_ests_df_w_keep_info[audit_a1.best_ests_df_w_keep_info['resolved_details']!='']"
   ]
  },
  {
   "cell_type": "code",
   "execution_count": null,
   "id": "d37873e9",
   "metadata": {},
   "outputs": [],
   "source": []
  },
  {
   "cell_type": "code",
   "execution_count": null,
   "id": "2955bbc5",
   "metadata": {},
   "outputs": [],
   "source": [
    "audit_a1.best_ests_df_w_keep_info[audit_a1.best_ests_df_w_keep_info['PN']=='960256588']"
   ]
  },
  {
   "cell_type": "code",
   "execution_count": null,
   "id": "96fbe3c7",
   "metadata": {},
   "outputs": [],
   "source": [
    "adjustment_dicts_1['960256588']"
   ]
  },
  {
   "cell_type": "code",
   "execution_count": null,
   "id": "9935a7b2",
   "metadata": {},
   "outputs": [],
   "source": [
    "adjustment_dicts_1['960256588']['to_adjust_a']"
   ]
  },
  {
   "cell_type": "code",
   "execution_count": null,
   "id": "f5e86138",
   "metadata": {},
   "outputs": [],
   "source": [
    "adjustment_dicts_1['960256588']['to_adjust_b']"
   ]
  },
  {
   "cell_type": "code",
   "execution_count": null,
   "id": "58fec195",
   "metadata": {},
   "outputs": [],
   "source": [
    "audit_a1.best_ests_df_w_keep_info['resolved_details'].value_counts()"
   ]
  },
  {
   "cell_type": "code",
   "execution_count": null,
   "id": "4fe702a3",
   "metadata": {},
   "outputs": [],
   "source": [
    "audit_a1.best_ests_df_w_keep_info[\n",
    "    (audit_a1.best_ests_df_w_keep_info['keep']==True) |\n",
    "    (audit_a1.best_ests_df_w_keep_info['resolved']==True)\n",
    "]"
   ]
  },
  {
   "cell_type": "code",
   "execution_count": null,
   "id": "32600381",
   "metadata": {},
   "outputs": [],
   "source": [
    "audit_a1.best_ests_df_w_keep_info[\n",
    "    (audit_a1.best_ests_df_w_keep_info['keep']==True)\n",
    "]"
   ]
  },
  {
   "cell_type": "code",
   "execution_count": null,
   "id": "ff054b66",
   "metadata": {},
   "outputs": [],
   "source": []
  },
  {
   "cell_type": "code",
   "execution_count": null,
   "id": "6b9956b0",
   "metadata": {},
   "outputs": [],
   "source": [
    "FUCK"
   ]
  },
  {
   "cell_type": "code",
   "execution_count": null,
   "id": "956e930e",
   "metadata": {},
   "outputs": [],
   "source": [
    "# audit_a1.best_ests_df = audit_a1.best_ests_df_w_keep_info[\n",
    "#     (audit_a1.best_ests_df_w_keep_info['keep']==True) |\n",
    "#     (audit_a1.best_ests_df_w_keep_info['resolved']==True)\n",
    "# ].drop(columns=['overlap_DOVS', 'overlap_times', 'keep'])\n",
    "\n",
    "# audit_a1.best_ests_df = audit_a1.best_ests_df_w_keep_info[\n",
    "#     (audit_a1.best_ests_df_w_keep_info['keep']==True)\n",
    "# ].drop(columns=['overlap_DOVS', 'overlap_times', 'keep'])\n",
    "\n",
    "audit_a1.best_ests_df = audit_a1.best_ests_df_w_keep_info[\n",
    "    (audit_a1.best_ests_df_w_keep_info['keep']==True) |\n",
    "    (audit_a1.best_ests_df_w_keep_info['resolved_details']=='Unresolved by current methods')\n",
    "].drop(columns=['overlap_DOVS', 'overlap_times', 'keep'])"
   ]
  },
  {
   "cell_type": "code",
   "execution_count": null,
   "id": "35bc035c",
   "metadata": {},
   "outputs": [],
   "source": [
    "%run ./check_DOVS_METHODS.ipynb"
   ]
  },
  {
   "cell_type": "code",
   "execution_count": null,
   "id": "7cfb0b2a",
   "metadata": {},
   "outputs": [],
   "source": [
    "best_ests_df = audit_i.best_ests_df.copy()\n",
    "ami_df_i = audit_i.ami_df_i.copy()\n",
    "#-----\n",
    "dovs_outg_t_beg_end = audit_i.dovs_outg_t_beg_end\n",
    "dovs_outg_t_beg = dovs_outg_t_beg_end[0]\n",
    "dovs_outg_t_end = dovs_outg_t_beg_end[1]\n",
    "#-----\n",
    "outage_nb  = audit_i.outage_nb\n",
    "n_PNs_dovs = audit_i.n_PNs_dovs\n",
    "ci_dovs    = audit_i.ci_cmi_dovs[0]\n",
    "cmi_dovs   = audit_i.ci_cmi_dovs[1]\n",
    "ci_ami     = best_ests_df['PN'].nunique() \n",
    "cmi_ami    = (best_ests_df['winner_max']-best_ests_df['winner_min']).sum().total_seconds()/60\n",
    "threshold=95\n",
    "#-------------------------\n",
    "outg_SNs = best_ests_df['PN'].unique().tolist()\n",
    "ami_df_i_out      = ami_df_i[ami_df_i['aep_premise_nb'].isin(outg_SNs)]\n",
    "ami_df_i_not_out  = ami_df_i[~ami_df_i['aep_premise_nb'].isin(outg_SNs)]\n",
    "#-------------------------\n",
    "means_df, best_ests_df_w_db_lbl = DOVSAudit.get_mean_times_w_dbscan(\n",
    "    best_ests_df, \n",
    "    eps_min=5, \n",
    "    min_samples=2, \n",
    "    ests_to_include_in_clustering=['winner_min', 'winner_max'],\n",
    "    ests_to_include_in_output=[\n",
    "        'winner_min', 'winner_max', \n",
    "        'conservative_min', 'conservative_max', \n",
    "        'zero_times_min', 'zero_times_max'\n",
    "    ], \n",
    "    return_labelled_best_ests_df=True\n",
    ")\n",
    "#-------------------------\n",
    "n_PNs_w_power_srs = DOVSAudit.build_n_PNs_w_power_srs(\n",
    "    best_ests_df, \n",
    "    ami_df_i, \n",
    "    return_pct=True, \n",
    "    PN_col='PN', \n",
    "    t_min_col='winner_min', \n",
    "    t_max_col='winner_max', \n",
    "    i_outg_col='i_outg', \n",
    "    PN_col_ami_df='aep_premise_nb'\n",
    ")"
   ]
  },
  {
   "cell_type": "code",
   "execution_count": null,
   "id": "096b8fc7",
   "metadata": {},
   "outputs": [],
   "source": [
    "fig_num=0\n",
    "fig, axs = plot_all_out_not_NEW(\n",
    "    fig_num              = fig_num, \n",
    "    ami_df_i             = ami_df_i, \n",
    "    ami_df_i_out         = ami_df_i_out, \n",
    "    ami_df_i_not_out     = ami_df_i_not_out, \n",
    "    dovs_outg_t_beg      = dovs_outg_t_beg, \n",
    "    dovs_outg_t_end      = dovs_outg_t_end, \n",
    "    cnsrvtv_out_t_beg    = best_ests_df['conservative_min'].min(), \n",
    "    cnsrvtv_out_t_end    = best_ests_df['conservative_max'].max(), \n",
    "    means_df             = means_df, \n",
    "    outg_rec_nb          = outg_rec_nb, \n",
    "    outage_nb            = outage_nb, \n",
    "    n_PNs_dovs           = n_PNs_dovs, \n",
    "    ci_dovs              = ci_dovs, \n",
    "    cmi_dovs             = cmi_dovs, \n",
    "    ci_ami               = ci_ami, \n",
    "    cmi_ami              = cmi_ami, \n",
    "    name                 = 'AMI', \n",
    "    results_2_dict       = None, \n",
    "    expand_time          = pd.Timedelta('1 hour'), \n",
    "    mean_keys_to_include = ['winner', 'conservative', 'zero_times'], \n",
    "    removed_due_to_overlap_col=None, \n",
    "    default_subplots_args=dict(n_x=2, n_y=2, row_major=True, sharex=True), \n",
    "    leg_i_plot=1, \n",
    "    leg_kwargs=dict(ncols=1, fontsize=15, bbox_to_anchor=(1, 1.2)), \n",
    "    ci_info_fontsize=16, \n",
    "    left_text_x=0.915\n",
    "    \n",
    ")\n",
    "\n",
    "fig,axs[3] = DOVSAudit.static_plot_n_PNs_w_power_srs(\n",
    "    n_PNs_w_power_srs, \n",
    "    simp_freq='1T', \n",
    "    threshold=threshold, \n",
    "    fig_num=fig_num, \n",
    "    fig_ax=(fig, axs[3]), \n",
    "    threshold_color='magenta'\n",
    ")\n",
    "\n",
    "fig_num += 1"
   ]
  },
  {
   "cell_type": "code",
   "execution_count": null,
   "id": "ceb6e677",
   "metadata": {},
   "outputs": [],
   "source": []
  },
  {
   "cell_type": "code",
   "execution_count": null,
   "id": "8125e765",
   "metadata": {},
   "outputs": [],
   "source": [
    "best_ests_df = audit_b.best_ests_df_w_keep_info.copy()\n",
    "ami_df_i = audit_b.ami_df_i.copy()\n",
    "#-----\n",
    "dovs_outg_t_beg_end = audit_b.dovs_outg_t_beg_end\n",
    "dovs_outg_t_beg = dovs_outg_t_beg_end[0]\n",
    "dovs_outg_t_end = dovs_outg_t_beg_end[1]\n",
    "#-----\n",
    "outage_nb  = audit_b.outage_nb\n",
    "n_PNs_dovs = audit_b.n_PNs_dovs\n",
    "ci_dovs    = audit_b.ci_cmi_dovs[0]\n",
    "cmi_dovs   = audit_b.ci_cmi_dovs[1]\n",
    "ci_ami     = best_ests_df['PN'].nunique() \n",
    "cmi_ami    = (best_ests_df['winner_max']-best_ests_df['winner_min']).sum().total_seconds()/60\n",
    "threshold=95\n",
    "#-------------------------\n",
    "outg_SNs = best_ests_df['PN'].unique().tolist()\n",
    "ami_df_i_out      = ami_df_i[ami_df_i['aep_premise_nb'].isin(outg_SNs)]\n",
    "ami_df_i_not_out  = ami_df_i[~ami_df_i['aep_premise_nb'].isin(outg_SNs)]\n",
    "#-------------------------\n",
    "means_df, best_ests_df_w_db_lbl = DOVSAudit.get_mean_times_w_dbscan(\n",
    "    best_ests_df, \n",
    "    eps_min=5, \n",
    "    min_samples=2, \n",
    "    ests_to_include_in_clustering=['winner_min', 'winner_max'],\n",
    "    ests_to_include_in_output=[\n",
    "        'winner_min', 'winner_max', \n",
    "        'conservative_min', 'conservative_max', \n",
    "        'zero_times_min', 'zero_times_max'\n",
    "    ], \n",
    "    return_labelled_best_ests_df=True\n",
    ")\n",
    "#-------------------------\n",
    "n_PNs_w_power_srs = DOVSAudit.build_n_PNs_w_power_srs(\n",
    "    best_ests_df, \n",
    "    ami_df_i, \n",
    "    return_pct=True, \n",
    "    PN_col='PN', \n",
    "    t_min_col='winner_min', \n",
    "    t_max_col='winner_max', \n",
    "    i_outg_col='i_outg', \n",
    "    PN_col_ami_df='aep_premise_nb'\n",
    ")"
   ]
  },
  {
   "cell_type": "code",
   "execution_count": null,
   "id": "b316f356",
   "metadata": {},
   "outputs": [],
   "source": [
    "fig_num=0\n",
    "fig, axs = plot_all_out_not_NEW(\n",
    "    fig_num              = fig_num, \n",
    "    ami_df_i             = ami_df_i, \n",
    "    ami_df_i_out         = ami_df_i_out, \n",
    "    ami_df_i_not_out     = ami_df_i_not_out, \n",
    "    dovs_outg_t_beg      = dovs_outg_t_beg, \n",
    "    dovs_outg_t_end      = dovs_outg_t_end, \n",
    "    cnsrvtv_out_t_beg    = best_ests_df['conservative_min'].min(), \n",
    "    cnsrvtv_out_t_end    = best_ests_df['conservative_max'].max(), \n",
    "    means_df             = means_df, \n",
    "    outg_rec_nb          = outg_rec_nb, \n",
    "    outage_nb            = outage_nb, \n",
    "    n_PNs_dovs           = n_PNs_dovs, \n",
    "    ci_dovs              = ci_dovs, \n",
    "    cmi_dovs             = cmi_dovs, \n",
    "    ci_ami               = ci_ami, \n",
    "    cmi_ami              = cmi_ami, \n",
    "    name                 = 'AMI', \n",
    "    results_2_dict       = None, \n",
    "    expand_time          = pd.Timedelta('1 hour'), \n",
    "    mean_keys_to_include = ['winner', 'conservative', 'zero_times'], \n",
    "    removed_due_to_overlap_col=None, \n",
    "    default_subplots_args=dict(n_x=2, n_y=2, row_major=True, sharex=True), \n",
    "    leg_i_plot=1, \n",
    "    leg_kwargs=dict(ncols=1, fontsize=15, bbox_to_anchor=(1, 1.2)), \n",
    "    ci_info_fontsize=16, \n",
    "    left_text_x=0.915\n",
    "    \n",
    ")\n",
    "\n",
    "fig,axs[3] = DOVSAudit.static_plot_n_PNs_w_power_srs(\n",
    "    n_PNs_w_power_srs, \n",
    "    simp_freq='1T', \n",
    "    threshold=threshold, \n",
    "    fig_num=fig_num, \n",
    "    fig_ax=(fig, axs[3]), \n",
    "    threshold_color='magenta'\n",
    ")\n",
    "\n",
    "fig_num += 1"
   ]
  },
  {
   "cell_type": "code",
   "execution_count": null,
   "id": "7be70da0",
   "metadata": {},
   "outputs": [],
   "source": [
    "adjustment_dicts_1['960256588']"
   ]
  },
  {
   "cell_type": "code",
   "execution_count": null,
   "id": "3ab8e5e3",
   "metadata": {},
   "outputs": [],
   "source": [
    "adjustment_dicts_1['960256588']['to_adjust_a']"
   ]
  },
  {
   "cell_type": "code",
   "execution_count": null,
   "id": "68e3db4c",
   "metadata": {},
   "outputs": [],
   "source": [
    "adjustment_dicts_1['960256588']['to_adjust_b']"
   ]
  },
  {
   "cell_type": "code",
   "execution_count": null,
   "id": "16d31c42",
   "metadata": {},
   "outputs": [],
   "source": []
  },
  {
   "cell_type": "code",
   "execution_count": null,
   "id": "a4847eb6",
   "metadata": {},
   "outputs": [],
   "source": [
    "fig, ax = Plot_General.default_subplots(fig_num=0)\n",
    "fig,ax = AMINonVee.plot_usage(\n",
    "    fig=fig, \n",
    "    ax=ax, \n",
    "    data=ami_df_i, \n",
    "    x='starttimeperiod_local', \n",
    "    y='value', \n",
    "    hue='aep_premise_nb'\n",
    ")\n",
    "ax.legend().set_visible(False)\n",
    "#-----\n",
    "ax.axvline(pd.to_datetime('2023-07-03 15:34:00'), color='lightblue', ls='--')\n",
    "ax.axvline(pd.to_datetime('2023-07-03 16:09:00'), color='lightblue', ls='--')\n",
    "#-----\n",
    "ax.axvline(pd.to_datetime('2023-07-03 16:09:00'), color='blue', ls='--')\n",
    "ax.axvline(pd.to_datetime('2023-07-03 19:07:00'), color='blue', ls='--')\n",
    "#-----\n",
    "ax.axvline(pd.to_datetime('2023-07-03 19:50:00'), color='green', ls='--')\n",
    "ax.axvline(pd.to_datetime('2023-07-03 21:11:00'), color='green', ls='--')\n",
    "#-----\n",
    "ax.axvline(pd.to_datetime('2023-07-04 04:04:00'), color='red', ls='--')\n",
    "ax.axvline(pd.to_datetime('2023-07-04 07:00:00'), color='red', ls='--')\n",
    "#-----\n",
    "ax.axvline(pd.to_datetime('2023-07-04 09:07:00'), color='orange', ls='--')\n",
    "ax.axvline(pd.to_datetime('2023-07-04 11:30:00'), color='orange', ls='--')"
   ]
  },
  {
   "cell_type": "code",
   "execution_count": null,
   "id": "e7fdf775",
   "metadata": {},
   "outputs": [],
   "source": []
  },
  {
   "cell_type": "code",
   "execution_count": null,
   "id": "2b636385",
   "metadata": {},
   "outputs": [],
   "source": []
  },
  {
   "cell_type": "code",
   "execution_count": null,
   "id": "92b033c9",
   "metadata": {},
   "outputs": [],
   "source": []
  },
  {
   "cell_type": "code",
   "execution_count": null,
   "id": "ca6ff3fe",
   "metadata": {},
   "outputs": [],
   "source": [
    "fig, ax = Plot_General.default_subplots(fig_num=0)\n",
    "fig,ax = AMINonVee.plot_usage(\n",
    "    fig=fig, \n",
    "    ax=ax, \n",
    "    data=ami_df_i[ami_df_i['aep_premise_nb']=='960376596'], \n",
    "    x='starttimeperiod_local', \n",
    "    y='value', \n",
    "    hue='aep_premise_nb'\n",
    ")\n",
    "ax.legend().set_visible(False)\n",
    "#-----\n",
    "ax.axvline(pd.to_datetime('2023-07-03 15:34:00'), color='lightblue', ls='--')\n",
    "ax.axvline(pd.to_datetime('2023-07-03 16:09:00'), color='lightblue', ls='--')\n",
    "#-----\n",
    "ax.axvline(pd.to_datetime('2023-07-03 16:09:00'), color='blue', ls='--')\n",
    "ax.axvline(pd.to_datetime('2023-07-03 19:07:00'), color='blue', ls='--')\n",
    "#-----\n",
    "ax.axvline(pd.to_datetime('2023-07-03 19:50:00'), color='green', ls='--')\n",
    "ax.axvline(pd.to_datetime('2023-07-03 21:11:00'), color='green', ls='--')\n",
    "#-----\n",
    "ax.axvline(pd.to_datetime('2023-07-04 04:04:00'), color='red', ls='--')\n",
    "ax.axvline(pd.to_datetime('2023-07-04 07:00:00'), color='red', ls='--')\n",
    "#-----\n",
    "ax.axvline(pd.to_datetime('2023-07-04 09:07:00'), color='orange', ls='--')\n",
    "ax.axvline(pd.to_datetime('2023-07-04 11:30:00'), color='orange', ls='--')"
   ]
  },
  {
   "cell_type": "code",
   "execution_count": null,
   "id": "70bb031c",
   "metadata": {},
   "outputs": [],
   "source": [
    "fig, ax = Plot_General.default_subplots(fig_num=0)\n",
    "fig,ax = AMINonVee.plot_usage(\n",
    "    fig=fig, \n",
    "    ax=ax, \n",
    "    data=ami_df_i[ami_df_i['aep_premise_nb']=='960256588'], \n",
    "    x='starttimeperiod_local', \n",
    "    y='value', \n",
    "    hue='aep_premise_nb'\n",
    ")\n",
    "ax.legend().set_visible(False)\n",
    "#-----\n",
    "ax.axvline(pd.to_datetime('2023-07-03 15:34:00'), color='lightblue', ls='--')\n",
    "ax.axvline(pd.to_datetime('2023-07-03 16:09:00'), color='lightblue', ls='--')\n",
    "#-----\n",
    "ax.axvline(pd.to_datetime('2023-07-03 16:09:00'), color='blue', ls='--')\n",
    "ax.axvline(pd.to_datetime('2023-07-03 19:07:00'), color='blue', ls='--')\n",
    "#-----\n",
    "ax.axvline(pd.to_datetime('2023-07-03 19:50:00'), color='green', ls='--')\n",
    "ax.axvline(pd.to_datetime('2023-07-03 21:11:00'), color='green', ls='--')\n",
    "#-----\n",
    "ax.axvline(pd.to_datetime('2023-07-04 04:04:00'), color='red', ls='--')\n",
    "ax.axvline(pd.to_datetime('2023-07-04 07:00:00'), color='red', ls='--')\n",
    "#-----\n",
    "ax.axvline(pd.to_datetime('2023-07-04 09:07:00'), color='orange', ls='--')\n",
    "ax.axvline(pd.to_datetime('2023-07-04 11:30:00'), color='orange', ls='--')"
   ]
  },
  {
   "cell_type": "code",
   "execution_count": null,
   "id": "41256ad5",
   "metadata": {},
   "outputs": [],
   "source": []
  },
  {
   "cell_type": "code",
   "execution_count": null,
   "id": "7dd4dc58",
   "metadata": {},
   "outputs": [],
   "source": [
    "audit_a = copy.deepcopy(audit_i)\n",
    "audit_b = copy.deepcopy(ovrlp_audit_a)\n",
    "PN_i = '960376596'\n",
    "\n",
    "implement_resolutions=False\n",
    "unq_idfr_cols = ['PN', 'i_outg']\n",
    "PN_col='PN'\n",
    "t_min_col='winner_min'\n",
    "t_max_col='winner_max'\n",
    "keep_col='keep'\n",
    "overlap_DOVS_col='overlap_DOVS'\n",
    "open_beg_col='open_beg'\n",
    "open_end_col='open_end'"
   ]
  },
  {
   "cell_type": "code",
   "execution_count": null,
   "id": "19634cd1",
   "metadata": {},
   "outputs": [],
   "source": [
    "# Make sure best_ests_df_w_keep_info exists for each\n",
    "#  Below will fail if object is None or empty DF\n",
    "assert(audit_a.best_ests_df_w_keep_info.shape[0]>0)\n",
    "assert(audit_b.best_ests_df_w_keep_info.shape[0]>0)\n",
    "#-------------------------\n",
    "be_df_cols = unq_idfr_cols + list(set([t_min_col, t_max_col, open_beg_col, open_end_col]).difference(set(unq_idfr_cols)))\n",
    "assert(set(be_df_cols).difference(set(audit_a.best_ests_df_w_keep_info.columns.tolist()))==set())\n",
    "assert(set(be_df_cols).difference(set(audit_b.best_ests_df_w_keep_info.columns.tolist()))==set())\n",
    "#-----\n",
    "return_cols = be_df_cols + ['adjustment', 'resolved', 'resolved_details']\n",
    "#----------------------------------------------------------------------------------------------------\n",
    "outg_rec_nb_a         = audit_a.outg_rec_nb\n",
    "dovs_outg_t_beg_end_a = audit_a.dovs_outg_t_beg_end\n",
    "#-----\n",
    "outg_rec_nb_b         = audit_b.outg_rec_nb\n",
    "dovs_outg_t_beg_end_b = audit_b.dovs_outg_t_beg_end\n",
    "#--------------------------------------------------        \n",
    "# Grab the best_ests_df_w_keep_info object from each audit\n",
    "be_df_a = audit_a.best_ests_df_w_keep_info[audit_a.best_ests_df_w_keep_info[PN_col]==PN_i].copy()\n",
    "be_df_b = audit_b.best_ests_df_w_keep_info[audit_b.best_ests_df_w_keep_info[PN_col]==PN_i].copy()\n",
    "#--------------------------------------------------\n",
    "resolved_i = False\n",
    "resolved_i_details = ''\n",
    "#-----\n",
    "to_adjust_a = DOVSAudit.set_initial_to_adjust_df(\n",
    "    be_df       = be_df_a, \n",
    "    be_df_cols  = be_df_cols, \n",
    "    addtnl_cols = [keep_col]\n",
    ")\n",
    "to_adjust_b = DOVSAudit.set_initial_to_adjust_df(\n",
    "    be_df       = be_df_b, \n",
    "    be_df_cols  = be_df_cols, \n",
    "    addtnl_cols = [keep_col]\n",
    ")\n"
   ]
  },
  {
   "cell_type": "code",
   "execution_count": null,
   "id": "b1ecb536",
   "metadata": {},
   "outputs": [],
   "source": [
    "fig, ax = Plot_General.default_subplots(fig_num=0)\n",
    "fig,ax = AMINonVee.plot_usage(\n",
    "    fig=fig, \n",
    "    ax=ax, \n",
    "    data=ami_df_i[ami_df_i['aep_premise_nb']=='960376596'], \n",
    "    x='starttimeperiod_local', \n",
    "    y='value', \n",
    "    hue='aep_premise_nb'\n",
    ")\n",
    "ax.legend().set_visible(False)\n",
    "#-----\n",
    "ax.axvline(pd.to_datetime('2023-07-03 15:34:00'), color='lightblue', ls='--')\n",
    "ax.axvline(pd.to_datetime('2023-07-03 16:09:00'), color='lightblue', ls='--')\n",
    "#-----\n",
    "ax.axvline(pd.to_datetime('2023-07-03 16:09:00'), color='blue', ls='--')\n",
    "ax.axvline(pd.to_datetime('2023-07-03 19:07:00'), color='blue', ls='--')\n",
    "#-----\n",
    "ax.axvline(pd.to_datetime('2023-07-03 19:50:00'), color='green', ls='--')\n",
    "ax.axvline(pd.to_datetime('2023-07-03 21:11:00'), color='green', ls='--')\n",
    "#-----\n",
    "ax.axvline(pd.to_datetime('2023-07-04 04:04:00'), color='red', ls='--')\n",
    "ax.axvline(pd.to_datetime('2023-07-04 07:00:00'), color='red', ls='--')\n",
    "#-----\n",
    "ax.axvline(pd.to_datetime('2023-07-04 09:07:00'), color='orange', ls='--')\n",
    "ax.axvline(pd.to_datetime('2023-07-04 11:30:00'), color='orange', ls='--')"
   ]
  },
  {
   "cell_type": "code",
   "execution_count": null,
   "id": "0d93ba2a",
   "metadata": {},
   "outputs": [],
   "source": []
  },
  {
   "cell_type": "code",
   "execution_count": null,
   "id": "ad05d569",
   "metadata": {},
   "outputs": [],
   "source": []
  },
  {
   "cell_type": "code",
   "execution_count": null,
   "id": "c06e7b9a",
   "metadata": {},
   "outputs": [],
   "source": []
  },
  {
   "cell_type": "code",
   "execution_count": null,
   "id": "5644d18c",
   "metadata": {},
   "outputs": [],
   "source": []
  },
  {
   "cell_type": "code",
   "execution_count": null,
   "id": "875af293",
   "metadata": {},
   "outputs": [],
   "source": [
    "audit_1."
   ]
  },
  {
   "cell_type": "code",
   "execution_count": null,
   "id": "67029325",
   "metadata": {},
   "outputs": [],
   "source": [
    "audit_1.ci_cmi_dovs"
   ]
  },
  {
   "cell_type": "code",
   "execution_count": null,
   "id": "ed32e324",
   "metadata": {},
   "outputs": [],
   "source": [
    "FUCK"
   ]
  },
  {
   "cell_type": "code",
   "execution_count": null,
   "id": "9d7feb51",
   "metadata": {
    "scrolled": true
   },
   "outputs": [],
   "source": [
    "search_time_half_window=pd.Timedelta('24 hours')\n",
    "#-------------------------\n",
    "audit_1 = DOVSAudit(\n",
    "#     outg_rec_nb='13464904'\n",
    "    \n",
    "#     outg_rec_nb='13582178'\n",
    "    outg_rec_nb='13582332'\n",
    "    \n",
    "#     outg_rec_nb='13615597'\n",
    "#     outg_rec_nb='13686253'\n",
    "#     outg_rec_nb='13686882'\n",
    "#     outg_rec_nb='13691684'\n",
    "#     outg_rec_nb='13683659'\n",
    "#     outg_rec_nb='13699234'\n",
    "    \n",
    "#     outg_rec_nb='13602414'\n",
    "#     outg_rec_nb='13602659'\n",
    "    \n",
    "#     outg_rec_nb='13575999'\n",
    "#     outg_rec_nb='13576413'\n",
    "    \n",
    "#     outg_rec_nb='13551139'\n",
    "#     outg_rec_nb='13551140'\n",
    "    \n",
    "#     outg_rec_nb='13581052'\n",
    "#     outg_rec_nb='13581346'\n",
    "    \n",
    "#     outg_rec_nb='13593009'\n",
    "#     outg_rec_nb='13593297'\n",
    "    \n",
    "#     outg_rec_nb='13615597'\n",
    "#     outg_rec_nb='13615810'\n",
    ")\n",
    "#-------------------------\n",
    "audit_1.load_dovs(\n",
    "    dovs_df           = None, \n",
    "    dovs_df_info_dict = None\n",
    ")\n",
    "#-------------------------\n",
    "audit_1.build_mp_df(\n",
    "    drop_mp_dups_fuzziness=pd.Timedelta('1 hour')\n",
    ")\n",
    "#-------------------------\n",
    "audit_1.run_ami_and_ede_daq(\n",
    "    search_time_half_window=search_time_half_window\n",
    ")\n",
    "#-------------------------\n",
    "audit_1.build_best_ests_df()\n",
    "#-------------------------\n"
   ]
  },
  {
   "cell_type": "code",
   "execution_count": null,
   "id": "81517716",
   "metadata": {},
   "outputs": [],
   "source": [
    "audit_1.calculate_by_PN"
   ]
  },
  {
   "cell_type": "code",
   "execution_count": null,
   "id": "1f8aff7c",
   "metadata": {},
   "outputs": [],
   "source": [
    "audit_1.best_ests_df"
   ]
  },
  {
   "cell_type": "code",
   "execution_count": null,
   "id": "855fd369",
   "metadata": {},
   "outputs": [],
   "source": [
    "audit_1.best_ests_df[audit_1.best_ests_df['PN']=='023368334']"
   ]
  },
  {
   "cell_type": "code",
   "execution_count": null,
   "id": "8214dfa4",
   "metadata": {},
   "outputs": [],
   "source": [
    "fig, ax = Plot_General.default_subplots()\n",
    "AMINonVee.plot_usage_around_outage(\n",
    "    fig=fig,\n",
    "    ax=ax,\n",
    "    data=audit_1.ami_df_i,\n",
    "    x='starttimeperiod_local',\n",
    "    y='value',\n",
    "    hue='serialnumber',\n",
    "    out_t_beg=audit_1.dovs_outg_t_beg_end[0],\n",
    "    out_t_end=audit_1.dovs_outg_t_beg_end[1],\n",
    "    expand_time=pd.Timedelta('1h'),\n",
    ")\n",
    "ax.legend().set_visible(False)"
   ]
  },
  {
   "cell_type": "code",
   "execution_count": null,
   "id": "d32a77fc",
   "metadata": {},
   "outputs": [],
   "source": [
    "fig, ax = Plot_General.default_subplots()\n",
    "AMINonVee.plot_usage_around_outage(\n",
    "    fig=fig,\n",
    "    ax=ax,\n",
    "    data=audit_1.ami_df_i,\n",
    "    x='starttimeperiod_local',\n",
    "    y='value',\n",
    "    hue='serialnumber',\n",
    "    out_t_beg=audit_1.dovs_outg_t_beg_end[0],\n",
    "    out_t_end=audit_1.dovs_outg_t_beg_end[1],\n",
    "    expand_time=pd.Timedelta('1h'),\n",
    ")\n",
    "ax.legend().set_visible(False)\n",
    "#-----\n",
    "ax = AMINonVee.draw_outage_limits_on_ax(\n",
    "    ax                         = ax, \n",
    "    out_t_beg                  = audit_1.dovs_outg_t_beg_end[0], \n",
    "    out_t_end                  = audit_1.dovs_outg_t_beg_end[1], \n",
    "    plot_t_beg                 = None, \n",
    "    plot_t_end                 = None, \n",
    "    draw_outage_limits_kwargs  = dict(alpha=1.0, linewidth=5.0, ymin=0.95), \n",
    "    include_outage_limits_text = dict(\n",
    "        out_t_beg_text = 'OUTG_REC_NB_i', \n",
    "        out_t_beg_ypos=(1.0-0.06, 'ax_coord'), \n",
    "        out_t_beg_va='top', \n",
    "        out_t_beg_ha='center', \n",
    "        out_t_beg_color='red', \n",
    "        #-----\n",
    "        out_t_end_text = 'OUTG_REC_NB_i', \n",
    "        out_t_end_ypos=(1.0-0.06, 'ax_coord'), \n",
    "        out_t_end_va='top', \n",
    "        out_t_end_ha='center', \n",
    "        out_t_end_color='green', \n",
    "    ), \n",
    "    out_t_beg_line_color       = 'red', \n",
    "    out_t_end_line_color       = 'green',\n",
    "    text_only                  = False\n",
    ")"
   ]
  },
  {
   "cell_type": "code",
   "execution_count": null,
   "id": "c7dd0966",
   "metadata": {},
   "outputs": [],
   "source": []
  },
  {
   "cell_type": "code",
   "execution_count": null,
   "id": "f2bd8c75",
   "metadata": {},
   "outputs": [],
   "source": []
  },
  {
   "cell_type": "code",
   "execution_count": null,
   "id": "102c35fa",
   "metadata": {},
   "outputs": [],
   "source": [
    "audit_1.identify_overlaps(overlaps_dovs_sql_fcn=DOVSOutages_SQL.build_sql_outage)"
   ]
  },
  {
   "cell_type": "code",
   "execution_count": null,
   "id": "33a4e5c4",
   "metadata": {},
   "outputs": [],
   "source": [
    "audit_1.resolve_overlapping_audits()"
   ]
  },
  {
   "cell_type": "code",
   "execution_count": null,
   "id": "682d979a",
   "metadata": {},
   "outputs": [],
   "source": [
    "audit_1.best_ests_df_w_keep_info"
   ]
  },
  {
   "cell_type": "code",
   "execution_count": null,
   "id": "d48fd9db",
   "metadata": {},
   "outputs": [],
   "source": []
  },
  {
   "cell_type": "code",
   "execution_count": null,
   "id": "456a7e7e",
   "metadata": {},
   "outputs": [],
   "source": [
    "audit_i=copy.deepcopy(audit_1)"
   ]
  },
  {
   "cell_type": "code",
   "execution_count": null,
   "id": "5203898a",
   "metadata": {},
   "outputs": [],
   "source": [
    "best_ests_df = audit_i.best_ests_df.copy()\n",
    "ami_df_i = audit_i.ami_df_i.copy()\n",
    "#-----\n",
    "dovs_outg_t_beg_end = audit_i.dovs_outg_t_beg_end\n",
    "dovs_outg_t_beg = dovs_outg_t_beg_end[0]\n",
    "dovs_outg_t_end = dovs_outg_t_beg_end[1]\n",
    "#-----\n",
    "outage_nb  = audit_i.outage_nb\n",
    "n_PNs_dovs = audit_i.n_PNs_dovs\n",
    "ci_dovs    = audit_i.ci_cmi_dovs[0]\n",
    "cmi_dovs   = audit_i.ci_cmi_dovs[1]\n",
    "ci_ami     = best_ests_df['PN'].nunique() \n",
    "cmi_ami    = (best_ests_df['winner_max']-best_ests_df['winner_min']).sum().total_seconds()/60\n",
    "threshold=95\n",
    "#-------------------------\n",
    "outg_SNs = best_ests_df['PN'].unique().tolist()\n",
    "ami_df_i_out      = ami_df_i[ami_df_i['aep_premise_nb'].isin(outg_SNs)]\n",
    "ami_df_i_not_out  = ami_df_i[~ami_df_i['aep_premise_nb'].isin(outg_SNs)]\n",
    "#-------------------------\n",
    "means_df, best_ests_df_w_db_lbl = DOVSAudit.get_mean_times_w_dbscan(\n",
    "    best_ests_df, \n",
    "    eps_min=5, \n",
    "    min_samples=2, \n",
    "    ests_to_include_in_clustering=['winner_min', 'winner_max'],\n",
    "    ests_to_include_in_output=[\n",
    "        'winner_min', 'winner_max', \n",
    "        'conservative_min', 'conservative_max', \n",
    "        'zero_times_min', 'zero_times_max'\n",
    "    ], \n",
    "    return_labelled_best_ests_df=True\n",
    ")\n",
    "#-------------------------\n",
    "n_PNs_w_power_srs = DOVSAudit.build_n_PNs_w_power_srs(\n",
    "    best_ests_df, \n",
    "    ami_df_i, \n",
    "    return_pct=True, \n",
    "    PN_col='PN', \n",
    "    t_min_col='winner_min', \n",
    "    t_max_col='winner_max', \n",
    "    i_outg_col='i_outg', \n",
    "    PN_col_ami_df='aep_premise_nb'\n",
    ")"
   ]
  },
  {
   "cell_type": "code",
   "execution_count": null,
   "id": "9d06c8c4",
   "metadata": {},
   "outputs": [],
   "source": [
    "%run ./check_DOVS_METHODS.ipynb"
   ]
  },
  {
   "cell_type": "code",
   "execution_count": null,
   "id": "d3ac9bd9",
   "metadata": {},
   "outputs": [],
   "source": [
    "list(set(audit_i.best_ests_df_w_keep_info['overlap_DOVS'].sum()))"
   ]
  },
  {
   "cell_type": "code",
   "execution_count": null,
   "id": "6d4089e4",
   "metadata": {},
   "outputs": [],
   "source": [
    "ovrlp_dovs = DOVSOutages(\n",
    "    df_construct_type=DFConstructType.kRunSqlQuery, \n",
    "    contstruct_df_args=None, \n",
    "    init_df_in_constructor=True,\n",
    "    build_sql_function=DOVSOutages_SQL.build_sql_outage, \n",
    "    build_sql_function_kwargs=dict(\n",
    "        outg_rec_nbs=list(set(audit_i.best_ests_df_w_keep_info['overlap_DOVS'].sum())), \n",
    "        include_premise=True\n",
    "    ), \n",
    "    build_consolidated=True\n",
    ")\n",
    "other_dovs_events_df = ovrlp_dovs.df.reset_index().copy()"
   ]
  },
  {
   "cell_type": "code",
   "execution_count": null,
   "id": "8e9a569d",
   "metadata": {},
   "outputs": [],
   "source": [
    "audit_i.best_ests_df_w_keep_info"
   ]
  },
  {
   "cell_type": "code",
   "execution_count": null,
   "id": "f71eb93c",
   "metadata": {},
   "outputs": [],
   "source": [
    "fig_num=0\n",
    "fig, axs = plot_all_out_not_NEW(\n",
    "    fig_num              = fig_num, \n",
    "    ami_df_i             = ami_df_i, \n",
    "    ami_df_i_out         = ami_df_i_out, \n",
    "    ami_df_i_not_out     = ami_df_i_not_out, \n",
    "    dovs_outg_t_beg      = dovs_outg_t_beg, \n",
    "    dovs_outg_t_end      = dovs_outg_t_end, \n",
    "    cnsrvtv_out_t_beg    = best_ests_df['conservative_min'].min(), \n",
    "    cnsrvtv_out_t_end    = best_ests_df['conservative_max'].max(), \n",
    "    means_df             = means_df, \n",
    "    outg_rec_nb          = audit_i.outg_rec_nb, \n",
    "    outage_nb            = audit_i.outage_nb, \n",
    "    n_PNs_dovs           = audit_i.n_PNs_dovs, \n",
    "    ci_dovs              = audit_i.ci_cmi_dovs[0], \n",
    "    cmi_dovs             = audit_i.ci_cmi_dovs[0], \n",
    "    ci_ami               = audit_i.ci, \n",
    "    cmi_ami              = audit_i.cmi, \n",
    "    name                 = 'AMI', \n",
    "    results_2_dict       = None, \n",
    "    expand_time          = pd.Timedelta('1 hour'), \n",
    "    mean_keys_to_include = ['winner', 'conservative', 'zero_times'], \n",
    "    removed_due_to_overlap_col=None, \n",
    "    default_subplots_args=dict(n_x=2, n_y=2, row_major=True, sharex=True), \n",
    "    other_dovs_events_df = other_dovs_events_df, \n",
    "    leg_i_plot=1, \n",
    "    leg_kwargs=dict(ncols=1, fontsize=15, bbox_to_anchor=(1, 1.2)), \n",
    "    ci_info_fontsize=16, \n",
    "    left_text_x=0.915\n",
    "    \n",
    ")\n",
    "\n",
    "fig,axs[3] = DOVSAudit.static_plot_n_PNs_w_power_srs(\n",
    "    n_PNs_w_power_srs, \n",
    "    simp_freq='1T', \n",
    "    threshold=threshold, \n",
    "    fig_num=fig_num, \n",
    "    fig_ax=(fig, axs[3]), \n",
    "    threshold_color='magenta'\n",
    ")\n",
    "\n",
    "for ax_i in axs:\n",
    "    ax_i.xaxis.set_tick_params(labelbottom=True)\n",
    "\n",
    "fig_num += 1"
   ]
  },
  {
   "cell_type": "code",
   "execution_count": null,
   "id": "8ea6f62a",
   "metadata": {},
   "outputs": [],
   "source": []
  },
  {
   "cell_type": "code",
   "execution_count": null,
   "id": "b688470a",
   "metadata": {},
   "outputs": [],
   "source": [
    "means_df"
   ]
  },
  {
   "cell_type": "code",
   "execution_count": null,
   "id": "3ea6b6ce",
   "metadata": {},
   "outputs": [],
   "source": [
    "best_ests_df_w_db_lbl"
   ]
  },
  {
   "cell_type": "code",
   "execution_count": null,
   "id": "b0d42f89",
   "metadata": {},
   "outputs": [],
   "source": [
    "ests_to_include_in_output=[\n",
    "            'winner_min', 'winner_max', \n",
    "            'conservative_min', 'conservative_max', \n",
    "            'zero_times_min', 'zero_times_max'\n",
    "        ]"
   ]
  },
  {
   "cell_type": "code",
   "execution_count": null,
   "id": "069e78f7",
   "metadata": {},
   "outputs": [],
   "source": [
    "best_ests_df_w_db_lbl.groupby(['db_label'], as_index=True)[ests_to_include_in_output].mean()"
   ]
  },
  {
   "cell_type": "code",
   "execution_count": null,
   "id": "f109d79a",
   "metadata": {},
   "outputs": [],
   "source": [
    "best_ests_df_w_db_lbl.groupby(['db_label'], as_index=True).size()"
   ]
  },
  {
   "cell_type": "code",
   "execution_count": null,
   "id": "b19e0c1c",
   "metadata": {},
   "outputs": [],
   "source": [
    "best_ests_df_w_db_lbl.groupby(['db_label'], as_index=True).count()"
   ]
  },
  {
   "cell_type": "code",
   "execution_count": null,
   "id": "6df00c63",
   "metadata": {},
   "outputs": [],
   "source": [
    "counts_srs = best_ests_df_w_db_lbl.groupby(['db_label'], as_index=True).size()"
   ]
  },
  {
   "cell_type": "code",
   "execution_count": null,
   "id": "7fb4f981",
   "metadata": {},
   "outputs": [],
   "source": [
    "counts_srs.name = 'counts'"
   ]
  },
  {
   "cell_type": "code",
   "execution_count": null,
   "id": "8f454ab3",
   "metadata": {},
   "outputs": [],
   "source": [
    "means_df = pd.merge(\n",
    "    means_df, \n",
    "    counts_srs, \n",
    "    left_index=True, \n",
    "    right_index=True, \n",
    "    how='left'\n",
    ")"
   ]
  },
  {
   "cell_type": "code",
   "execution_count": null,
   "id": "85c433fa",
   "metadata": {},
   "outputs": [],
   "source": []
  },
  {
   "cell_type": "code",
   "execution_count": null,
   "id": "10c97551",
   "metadata": {},
   "outputs": [],
   "source": [
    "n_PNs_w_power_srs"
   ]
  },
  {
   "cell_type": "code",
   "execution_count": null,
   "id": "30918085",
   "metadata": {},
   "outputs": [],
   "source": [
    "audit_1.best_ests_df_w_keep_info"
   ]
  },
  {
   "cell_type": "code",
   "execution_count": null,
   "id": "79218309",
   "metadata": {},
   "outputs": [],
   "source": [
    "# def draw_outage_limits_on_ax(\n",
    "#     ax, \n",
    "#     out_t_beg, \n",
    "#     out_t_end, \n",
    "#     plot_t_beg=None, \n",
    "#     plot_t_end=None, \n",
    "#     draw_outage_limits_kwargs=None, \n",
    "#     include_outage_limits_text=False, \n",
    "#     out_t_beg_line_color='red', \n",
    "#     out_t_end_line_color='green', \n",
    "# ):\n",
    "#     r\"\"\"\n",
    "#     plot_t_beg/plot_t_end:\n",
    "#         If supplied, out_t_beg and out_t_end will only be drawn if within plot_t_beg/plot_t_end interval\n",
    "#     \"\"\"\n",
    "#     #----------------------------------------------------------------------------------------------------\n",
    "#     if draw_outage_limits_kwargs is None:\n",
    "#         draw_outage_limits_kwargs = {}    \n",
    "#     #--------------------------------------------------\n",
    "#     if plot_t_beg is None:\n",
    "#         plot_t_beg = pd.Timestamp.min\n",
    "#     if plot_t_end is None:\n",
    "#         plot_t_end = pd.Timestamp.max\n",
    "#     #--------------------------------------------------\n",
    "#     # Draw the lines\n",
    "#     if out_t_beg>=plot_t_beg and out_t_beg<=plot_t_end:\n",
    "#         ax.axvline(out_t_beg, color=out_t_beg_line_color, **draw_outage_limits_kwargs)\n",
    "#     if out_t_end>=plot_t_beg and out_t_end<=plot_t_end:\n",
    "#         ax.axvline(out_t_end, color=out_t_end_line_color, **draw_outage_limits_kwargs)\n",
    "#     #----------------------------------------------------------------------------------------------------\n",
    "#     dflt_include_outage_limits_text_dict = dict(\n",
    "#         include_out_t_beg_text = True, \n",
    "#         out_t_beg_text         = 'Outage Begin', \n",
    "#         out_t_beg_ypos         = ax.get_ylim()[0], \n",
    "#         out_t_beg_rot          = 90, \n",
    "#         out_t_beg_va           = 'bottom', \n",
    "#         out_t_beg_ha           = 'right', \n",
    "#         out_t_beg_color        = 'black', \n",
    "#         #----------\n",
    "#         include_out_t_end_text = True, \n",
    "#         out_t_end_text         = 'Outage End', \n",
    "#         out_t_end_ypos         = ax.get_ylim()[0], \n",
    "#         out_t_end_rot          = 90, \n",
    "#         out_t_end_va           = 'bottom', \n",
    "#         out_t_end_ha           = 'left', \n",
    "#         out_t_end_color        = 'black', \n",
    "#     )\n",
    "#     #-------------------------\n",
    "#     if include_outage_limits_text:\n",
    "#         if isinstance(include_outage_limits_text, dict):\n",
    "#             include_outage_limits_text = Utilities.supplement_dict_with_default_values(\n",
    "#                 to_supplmnt_dict    = include_outage_limits_text,\n",
    "#                 default_values_dict = dflt_include_outage_limits_text_dict,\n",
    "#                 extend_any_lists    = False,\n",
    "#                 inplace             = False,\n",
    "#             )\n",
    "#         else:\n",
    "#             include_outage_limits_text = dflt_include_outage_limits_text_dict\n",
    "#         #-------------------------\n",
    "#         include_out_t_beg_text = include_outage_limits_text['include_out_t_beg_text']\n",
    "#         out_t_beg_text  = include_outage_limits_text['out_t_beg_text']\n",
    "#         out_t_beg_ypos  = include_outage_limits_text['out_t_beg_ypos']\n",
    "#         out_t_beg_rot   = include_outage_limits_text['out_t_beg_rot']\n",
    "#         out_t_beg_va    = include_outage_limits_text['out_t_beg_va']\n",
    "#         out_t_beg_ha    = include_outage_limits_text['out_t_beg_ha']\n",
    "#         out_t_beg_color = include_outage_limits_text['out_t_beg_color']\n",
    "#         #----------\n",
    "#         include_out_t_end_text = include_outage_limits_text['include_out_t_end_text']\n",
    "#         out_t_end_text  = include_outage_limits_text['out_t_end_text']\n",
    "#         out_t_end_ypos  = include_outage_limits_text['out_t_end_ypos']\n",
    "#         out_t_end_rot   = include_outage_limits_text['out_t_end_rot']\n",
    "#         out_t_end_va    = include_outage_limits_text['out_t_end_va']\n",
    "#         out_t_end_ha    = include_outage_limits_text['out_t_end_ha']\n",
    "#         out_t_end_color = include_outage_limits_text['out_t_end_color']\n",
    "#         #-------------------------\n",
    "#         # If out_t_beg/out_t_end outside of plot_t_beg/plot_t_end, do not include the text, regardless\n",
    "#         #   of the values of include_out_t_beg_text/include_out_t_end_text\n",
    "#         if out_t_beg<plot_t_beg or out_t_beg>plot_t_end:\n",
    "#             include_out_t_beg_text=False\n",
    "#         if out_t_end<plot_t_beg or out_t_end>plot_t_end:\n",
    "#             include_out_t_end_text=False\n",
    "#         #-------------------------\n",
    "#         if Utilities.is_object_one_of_types(out_t_beg_ypos, [list, tuple]) and len(out_t_beg_ypos)==2:\n",
    "#             assert(out_t_beg_ypos[1] in ['eval_at_rt', 'ax_coord'])\n",
    "#             if out_t_beg_ypos[1]=='eval_at_rt':\n",
    "#                 out_t_beg_ypos = eval(out_t_beg_ypos[0])\n",
    "#             else:\n",
    "#                 out_t_beg_ypos = ax.transLimits.inverted().transform((0,out_t_beg_ypos[0]))[1]\n",
    "#         #-----\n",
    "#         if Utilities.is_object_one_of_types(out_t_end_ypos, [list, tuple]) and len(out_t_end_ypos)==2:\n",
    "#             assert(out_t_end_ypos[1] in ['eval_at_rt', 'ax_coord'])\n",
    "#             if out_t_end_ypos[1]=='eval_at_rt':\n",
    "#                 out_t_end_ypos = eval(out_t_end_ypos[0])\n",
    "#             else:\n",
    "#                 out_t_end_ypos = ax.transLimits.inverted().transform((0,out_t_end_ypos[0]))[1]            \n",
    "#         #-------------------------\n",
    "#         if include_out_t_beg_text:\n",
    "#             ax.text(\n",
    "#                 x                   = out_t_beg, \n",
    "#                 y                   = out_t_beg_ypos, \n",
    "#                 s                   = out_t_beg_text, \n",
    "#                 rotation            = out_t_beg_rot, \n",
    "#                 verticalalignment   = out_t_beg_va, \n",
    "#                 horizontalalignment = out_t_beg_ha, \n",
    "#                 color               = out_t_beg_color\n",
    "#             )\n",
    "#         if include_out_t_end_text:\n",
    "#             ax.text(\n",
    "#                 x                   = out_t_end, \n",
    "#                 y                   = out_t_end_ypos, \n",
    "#                 s                   = out_t_end_text, \n",
    "#                 rotation            = out_t_end_rot, \n",
    "#                 verticalalignment   = out_t_end_va, \n",
    "#                 horizontalalignment = out_t_end_ha, \n",
    "#                 color               = out_t_end_color\n",
    "#             )\n",
    "#     #-------------------------\n",
    "#     return ax"
   ]
  },
  {
   "cell_type": "code",
   "execution_count": null,
   "id": "bff717cf",
   "metadata": {},
   "outputs": [],
   "source": [
    "Utilities.supplement_dict_with_default_values?"
   ]
  },
  {
   "cell_type": "code",
   "execution_count": null,
   "id": "f8c9b6a3",
   "metadata": {},
   "outputs": [],
   "source": [
    "ax = axs[3]"
   ]
  },
  {
   "cell_type": "code",
   "execution_count": null,
   "id": "38bce092",
   "metadata": {},
   "outputs": [],
   "source": [
    "ax.get_xlim()"
   ]
  },
  {
   "cell_type": "code",
   "execution_count": null,
   "id": "dfb076d2",
   "metadata": {},
   "outputs": [],
   "source": [
    "pd.Timestamp.min"
   ]
  },
  {
   "cell_type": "code",
   "execution_count": null,
   "id": "0d5bffbd",
   "metadata": {},
   "outputs": [],
   "source": []
  },
  {
   "cell_type": "code",
   "execution_count": null,
   "id": "db5c2458",
   "metadata": {},
   "outputs": [],
   "source": [
    "fig_num=0\n",
    "fig, axs = plot_all_out_not_NEW(\n",
    "    fig_num              = fig_num, \n",
    "    ami_df_i             = ami_df_i, \n",
    "    ami_df_i_out         = ami_df_i_out, \n",
    "    ami_df_i_not_out     = ami_df_i_not_out, \n",
    "    dovs_outg_t_beg      = dovs_outg_t_beg, \n",
    "    dovs_outg_t_end      = dovs_outg_t_end, \n",
    "    cnsrvtv_out_t_beg    = best_ests_df['conservative_min'].min(), \n",
    "    cnsrvtv_out_t_end    = best_ests_df['conservative_max'].max(), \n",
    "    means_df             = means_df, \n",
    "    outg_rec_nb          = audit_i.outg_rec_nb, \n",
    "    outage_nb            = audit_i.outage_nb, \n",
    "    n_PNs_dovs           = audit_i.n_PNs_dovs, \n",
    "    ci_dovs              = audit_i.ci_cmi_dovs[0], \n",
    "    cmi_dovs             = audit_i.ci_cmi_dovs[0], \n",
    "    ci_ami               = audit_i.ci, \n",
    "    cmi_ami              = audit_i.cmi, \n",
    "    name                 = 'AMI', \n",
    "    results_2_dict       = None, \n",
    "    expand_time          = pd.Timedelta('1 hour'), \n",
    "    mean_keys_to_include = ['winner', 'conservative', 'zero_times'], \n",
    "    removed_due_to_overlap_col=None, \n",
    "    default_subplots_args=dict(n_x=2, n_y=2, row_major=True, sharex=True), \n",
    "    leg_i_plot=1, \n",
    "    leg_kwargs=dict(ncols=1, fontsize=15, bbox_to_anchor=(1, 1.2)), \n",
    "    ci_info_fontsize=16, \n",
    "    left_text_x=0.915\n",
    "    \n",
    ")\n",
    "\n",
    "# fig,axs[3] = DOVSAudit.static_plot_n_PNs_w_power_srs(\n",
    "#     n_PNs_w_power_srs, \n",
    "#     simp_freq='1T', \n",
    "#     threshold=threshold, \n",
    "#     fig_num=fig_num, \n",
    "#     fig_ax=(fig, axs[3]), \n",
    "#     threshold_color='magenta'\n",
    "# )\n",
    "\n",
    "for ax_i in axs:\n",
    "    ax_i.xaxis.set_tick_params(labelbottom=True)\n",
    "\n",
    "fig_num += 1"
   ]
  },
  {
   "cell_type": "code",
   "execution_count": null,
   "id": "620ca021",
   "metadata": {},
   "outputs": [],
   "source": []
  },
  {
   "cell_type": "code",
   "execution_count": null,
   "id": "810341de",
   "metadata": {},
   "outputs": [],
   "source": [
    "    fig_num              = fig_num\n",
    "    ami_df_i             = ami_df_i\n",
    "    ami_df_i_out         = ami_df_i_out\n",
    "    ami_df_i_not_out     = ami_df_i_not_out\n",
    "    dovs_outg_t_beg      = dovs_outg_t_beg\n",
    "    dovs_outg_t_end      = dovs_outg_t_end\n",
    "    cnsrvtv_out_t_beg    = best_ests_df['conservative_min'].min()\n",
    "    cnsrvtv_out_t_end    = best_ests_df['conservative_max'].max()\n",
    "    means_df             = None\n",
    "    outg_rec_nb          = audit_i.outg_rec_nb\n",
    "    outage_nb            = audit_i.outage_nb\n",
    "    n_PNs_dovs           = audit_i.n_PNs_dovs\n",
    "    ci_dovs              = audit_i.ci_cmi_dovs[0]\n",
    "    cmi_dovs             = audit_i.ci_cmi_dovs[0]\n",
    "    ci_ami               = audit_i.ci\n",
    "    cmi_ami              = audit_i.cmi\n",
    "    name                 = 'AMI'\n",
    "    results_2_dict       = None\n",
    "    expand_time          = pd.Timedelta('1 hour')\n",
    "    mean_keys_to_include = ['winner', 'conservative', 'zero_times']\n",
    "    removed_due_to_overlap_col=None\n",
    "    default_subplots_args=dict(n_x=2, n_y=2, row_major=True, sharex=True) \n",
    "    leg_i_plot=1\n",
    "    leg_kwargs=dict(ncols=1, fontsize=15, bbox_to_anchor=(1, 1.2))\n",
    "    ci_info_fontsize=16\n",
    "    left_text_x=0.915"
   ]
  },
  {
   "cell_type": "code",
   "execution_count": null,
   "id": "ce6395f1",
   "metadata": {},
   "outputs": [],
   "source": [
    "only_connect_continuous=True\n",
    "data_freq=pd.Timedelta('15T')"
   ]
  },
  {
   "cell_type": "code",
   "execution_count": null,
   "id": "a2981b59",
   "metadata": {},
   "outputs": [],
   "source": [
    "if removed_due_to_overlap_col is not None:\n",
    "    assert(removed_due_to_overlap_col in ami_df_i.columns.tolist())\n",
    "    assert(removed_due_to_overlap_col in ami_df_i_out.columns.tolist())\n",
    "    assert(removed_due_to_overlap_col in ami_df_i_not_out.columns.tolist())\n",
    "#-------------------------\n",
    "dflt_default_subplots_args = dict(\n",
    "    n_x=1,\n",
    "    n_y=3,\n",
    "    fig_num=fig_num,\n",
    "    sharex=False,\n",
    "    sharey=False,\n",
    "    unit_figsize_width=14,\n",
    "    unit_figsize_height=6, \n",
    "    return_flattened_axes=True,\n",
    "    row_major=True\n",
    ")\n",
    "if default_subplots_args is None:\n",
    "    default_subplots_args = dflt_default_subplots_args\n",
    "else:\n",
    "    assert(isinstance(default_subplots_args, dict))\n",
    "    default_subplots_args = Utilities.supplement_dict_with_default_values(\n",
    "        to_supplmnt_dict=default_subplots_args, \n",
    "        default_values_dict=dflt_default_subplots_args, \n",
    "        extend_any_lists=False, \n",
    "        inplace=False\n",
    "    )\n",
    "fig, axs = Plot_General.default_subplots(**default_subplots_args)\n",
    "Plot_General.adjust_subplots_args(fig, dict(hspace=0.30))\n",
    "\n",
    "palette = Plot_General.get_standard_colors_dict(\n",
    "    keys=ami_df_i['serialnumber'].unique().tolist(), \n",
    "    palette='colorblind'\n",
    ")\n",
    "\n",
    "#-------------------------\n",
    "# The subplots share many common arguments.  \n",
    "# Let's collect them all first to avoid repeating code\n",
    "shared_plot_kwargs = dict(\n",
    "    x                          = 'starttimeperiod_local', \n",
    "    y                          = 'value', \n",
    "    hue                        = 'serialnumber', \n",
    "    out_t_beg                  = dovs_outg_t_beg, \n",
    "    out_t_end                  = dovs_outg_t_end, \n",
    "    expand_time                = expand_time, \n",
    "    plot_time_beg_end          = [cnsrvtv_out_t_beg, cnsrvtv_out_t_end], \n",
    "    only_connect_continuous    = only_connect_continuous, \n",
    "    data_freq                  = data_freq,     \n",
    "    data_label                 = '', \n",
    "    ax_args                    = None, \n",
    "    xlabel_args                = None, \n",
    "    ylabel_args                = None, \n",
    "    df_mean                    = None, \n",
    "    df_mean_col                = None, \n",
    "    mean_args                  = None, \n",
    "    draw_outage_limits         = True, \n",
    "    draw_outage_limits_kwargs  = dict(alpha=1.0, linewidth=5.0, ymax=0.1), \n",
    "    include_outage_limits_text = dict(\n",
    "        out_t_beg_text  = 'DOVS Beg.', \n",
    "        out_t_beg_ypos  = (0.12, 'ax_coord'), \n",
    "        out_t_beg_va    = 'bottom', \n",
    "        out_t_beg_ha    = 'center', \n",
    "        out_t_beg_color = 'red', \n",
    "        #-----\n",
    "        out_t_end_text  = 'DOVS End', \n",
    "        out_t_end_ypos  = (0.12, 'ax_coord'), \n",
    "        out_t_end_va    = 'bottom', \n",
    "        out_t_end_ha    = 'center', \n",
    "        out_t_end_color = 'green', \n",
    "    ), \n",
    "    draw_without_hue_also      = False, \n",
    "    seg_line_freq              = None, \n",
    "    palette                    = palette\n",
    ")\n",
    "\n",
    "\n",
    "i_subplot=0\n",
    "# fig, axs[i_subplot] = AMINonVee.plot_usage_around_outage(\n",
    "#     fig=fig, \n",
    "#     ax=axs[i_subplot], \n",
    "#     data=ami_df_i, \n",
    "#     title_args=dict(label=f\"All (#SNs = {ami_df_i['serialnumber'].nunique()})\", fontdict=dict(fontsize=24)), \n",
    "#     **shared_plot_kwargs\n",
    "# )\n",
    "\n",
    "\n",
    "# AMINonVee.plot_usage(\n",
    "#     fig=fig, \n",
    "#     ax=axs[i_subplot], \n",
    "#     data=ami_df_i, \n",
    "#     x='starttimeperiod_local', \n",
    "#     y='value', \n",
    "#     hue='serialnumber'\n",
    "# )\n",
    "\n",
    "# AMINonVee.plot_usage_around_outage(\n",
    "#     fig=fig, \n",
    "#     ax=axs[i_subplot], \n",
    "#     data=ami_df_i, \n",
    "#     x='starttimeperiod_local', \n",
    "#     y='value', \n",
    "#     hue='serialnumber', \n",
    "#     out_t_beg                  = dovs_outg_t_beg, \n",
    "#     out_t_end                  = dovs_outg_t_end, \n",
    "#     expand_time                = expand_time, \n",
    "# )\n",
    "\n",
    "# AMINonVee.plot_usage_around_outage(\n",
    "#     fig=fig, \n",
    "#     ax=axs[i_subplot], \n",
    "#     data=ami_df_i, \n",
    "#     x='starttimeperiod_local', \n",
    "#     y='value', \n",
    "#     hue='serialnumber', \n",
    "#     out_t_beg                  = dovs_outg_t_beg, \n",
    "#     out_t_end                  = dovs_outg_t_end, \n",
    "#     expand_time                = expand_time, \n",
    "# )\n",
    "\n",
    "\n",
    "fig, axs[i_subplot] = AMINonVee.plot_usage_around_outage(\n",
    "    fig=fig, \n",
    "    ax=axs[i_subplot], \n",
    "    data=ami_df_i, \n",
    "    title_args=dict(label=f\"All (#SNs = {ami_df_i['serialnumber'].nunique()})\", fontdict=dict(fontsize=24)), \n",
    "    **shared_plot_kwargs\n",
    ")"
   ]
  },
  {
   "cell_type": "code",
   "execution_count": null,
   "id": "a5fc71af",
   "metadata": {},
   "outputs": [],
   "source": [
    "cnsrvtv_out_t_beg"
   ]
  },
  {
   "cell_type": "code",
   "execution_count": null,
   "id": "69370261",
   "metadata": {},
   "outputs": [],
   "source": [
    "cnsrvtv_out_t_end"
   ]
  },
  {
   "cell_type": "code",
   "execution_count": null,
   "id": "decdd638",
   "metadata": {},
   "outputs": [],
   "source": []
  },
  {
   "cell_type": "code",
   "execution_count": null,
   "id": "deb890a4",
   "metadata": {},
   "outputs": [],
   "source": []
  },
  {
   "cell_type": "code",
   "execution_count": null,
   "id": "7dfa6f8f",
   "metadata": {},
   "outputs": [],
   "source": [
    "ami_df_i"
   ]
  },
  {
   "cell_type": "code",
   "execution_count": null,
   "id": "ccff183a",
   "metadata": {},
   "outputs": [],
   "source": []
  },
  {
   "cell_type": "code",
   "execution_count": null,
   "id": "5b129530",
   "metadata": {},
   "outputs": [],
   "source": []
  },
  {
   "cell_type": "code",
   "execution_count": null,
   "id": "6d80aab6",
   "metadata": {},
   "outputs": [],
   "source": [
    "fig,ax = Plot_General.default_subplots()\n",
    "AMINonVee.plot_usage(\n",
    "    fig=fig, \n",
    "    ax=ax, \n",
    "    data=ami_df_i, \n",
    "    x='starttimeperiod_local', \n",
    "    y='value', \n",
    "    hue='serialnumber'\n",
    ")"
   ]
  },
  {
   "cell_type": "code",
   "execution_count": null,
   "id": "6520d7d6",
   "metadata": {},
   "outputs": [],
   "source": [
    "ami_df_i"
   ]
  },
  {
   "cell_type": "code",
   "execution_count": null,
   "id": "47f85556",
   "metadata": {},
   "outputs": [],
   "source": []
  },
  {
   "cell_type": "code",
   "execution_count": null,
   "id": "3816eee5",
   "metadata": {},
   "outputs": [],
   "source": []
  },
  {
   "cell_type": "code",
   "execution_count": null,
   "id": "d57cc228",
   "metadata": {},
   "outputs": [],
   "source": []
  },
  {
   "cell_type": "code",
   "execution_count": null,
   "id": "0bb2b54c",
   "metadata": {},
   "outputs": [],
   "source": [
    "audit_i=copy.deepcopy(audit_1)"
   ]
  },
  {
   "cell_type": "code",
   "execution_count": null,
   "id": "b0c27ce8",
   "metadata": {},
   "outputs": [],
   "source": [
    "ami_df_i = audit_i.ami_df_i.copy()\n",
    "# In ami_df_i, mark any entries which were essentially removed via the identify_dovs_overlaps_from_best_ests\n",
    "#   and removal procedure above\n",
    "ami_df_i = DOVSAudit.set_removed_due_to_overlap_in_ami_df_i(\n",
    "    ami_df_i                   = ami_df_i, \n",
    "    best_ests_df               = audit_i.best_ests_df_w_keep_info.copy(), \n",
    "    PN_col                     = 'aep_premise_nb', \n",
    "    time_idfr                  = 'starttimeperiod_local', \n",
    "    PN_col_be                  = 'PN', \n",
    "    keep_col_be                = 'keep', \n",
    "    overlap_times_col_be       = 'overlap_times', \n",
    "    removed_due_to_overlap_col = 'removed_due_to_overlap'\n",
    ")"
   ]
  },
  {
   "cell_type": "code",
   "execution_count": null,
   "id": "f5219161",
   "metadata": {},
   "outputs": [],
   "source": [
    "best_ests_df = audit_i.best_ests_df_w_keep_info.copy()\n",
    "ami_df_i = audit_i.ami_df_i.copy()\n",
    "PN_col='aep_premise_nb'\n",
    "time_idfr='starttimeperiod_local'\n",
    "PN_col_be='PN'\n",
    "t_min_col_be='winner_min'\n",
    "t_max_col_be='winner_max'\n",
    "keep_col_be='keep'\n",
    "overlap_times_col_be='overlap_times'\n",
    "removed_due_to_overlap_col='removed_due_to_overlap'\n",
    "expand_removed_times=True"
   ]
  },
  {
   "cell_type": "code",
   "execution_count": null,
   "id": "eeed2d5e",
   "metadata": {},
   "outputs": [],
   "source": [
    "assert(set([PN_col_be, keep_col_be, overlap_times_col_be]).difference(set(best_ests_df.columns.tolist()))==set())\n",
    "removed_srs = best_ests_df[best_ests_df[keep_col_be]==False].copy()\n",
    "removed_srs = removed_srs.groupby(PN_col_be)[overlap_times_col_be].sum()"
   ]
  },
  {
   "cell_type": "code",
   "execution_count": null,
   "id": "10baa914",
   "metadata": {},
   "outputs": [],
   "source": [
    "removed_srs"
   ]
  },
  {
   "cell_type": "code",
   "execution_count": null,
   "id": "42a000d9",
   "metadata": {},
   "outputs": [],
   "source": [
    "best_ests_df[best_ests_df['PN']=='070171942']"
   ]
  },
  {
   "cell_type": "code",
   "execution_count": null,
   "id": "bd5446e9",
   "metadata": {},
   "outputs": [],
   "source": [
    "best_ests_df.iloc[:10]"
   ]
  },
  {
   "cell_type": "code",
   "execution_count": null,
   "id": "884e6a8e",
   "metadata": {},
   "outputs": [],
   "source": []
  },
  {
   "cell_type": "code",
   "execution_count": null,
   "id": "1463e0c1",
   "metadata": {},
   "outputs": [],
   "source": []
  },
  {
   "cell_type": "code",
   "execution_count": null,
   "id": "8d1b539e",
   "metadata": {},
   "outputs": [],
   "source": [
    "audit_1.best_ests_df_w_keep_info['ovrlp_disagree_typeA'].notna().any()"
   ]
  },
  {
   "cell_type": "code",
   "execution_count": null,
   "id": "a7b7cbe3",
   "metadata": {},
   "outputs": [],
   "source": [
    "update_df = audit_1.best_ests_df_w_keep_info.copy()\n",
    "overlap_disagree_cols=['ovrlp_disagree_typeA', 'ovrlp_disagree_typeB']\n",
    "unq_idfr_cols = ['PN', 'i_outg']"
   ]
  },
  {
   "cell_type": "code",
   "execution_count": null,
   "id": "e6592f08",
   "metadata": {},
   "outputs": [],
   "source": [
    "update_df[overlap_disagree_cols[1]].notna().any()"
   ]
  },
  {
   "cell_type": "code",
   "execution_count": null,
   "id": "da63f51c",
   "metadata": {},
   "outputs": [],
   "source": [
    "update_df[overlap_disagree_cols].notna().any().any()"
   ]
  },
  {
   "cell_type": "code",
   "execution_count": null,
   "id": "bef6bfcb",
   "metadata": {},
   "outputs": [],
   "source": [
    "disagree_col = overlap_disagree_cols[1]"
   ]
  },
  {
   "cell_type": "code",
   "execution_count": null,
   "id": "a82e654c",
   "metadata": {},
   "outputs": [],
   "source": [
    "update_df[disagree_col].notna().any()"
   ]
  },
  {
   "cell_type": "code",
   "execution_count": null,
   "id": "11fb0167",
   "metadata": {},
   "outputs": [],
   "source": [
    "update_df[update_df[disagree_col].notna()]"
   ]
  },
  {
   "cell_type": "code",
   "execution_count": null,
   "id": "b35f0cc2",
   "metadata": {},
   "outputs": [],
   "source": [
    "update_df[update_df[disagree_col].notna()][unq_idfr_cols].drop_duplicates().values.tolist()"
   ]
  },
  {
   "cell_type": "code",
   "execution_count": null,
   "id": "ef7ac7f5",
   "metadata": {},
   "outputs": [],
   "source": []
  },
  {
   "cell_type": "code",
   "execution_count": null,
   "id": "314e4499",
   "metadata": {},
   "outputs": [],
   "source": []
  },
  {
   "cell_type": "code",
   "execution_count": null,
   "id": "d2acf038",
   "metadata": {},
   "outputs": [],
   "source": [
    "audit_1.best_ests_df_w_keep_info['ovrlp_disagree_typeA'].notna().sum()"
   ]
  },
  {
   "cell_type": "code",
   "execution_count": null,
   "id": "bc1ef760",
   "metadata": {},
   "outputs": [],
   "source": [
    "audit_1.best_ests_df_w_keep_info['ovrlp_disagree_typeB'].notna().sum()"
   ]
  },
  {
   "cell_type": "code",
   "execution_count": null,
   "id": "b13a64a4",
   "metadata": {},
   "outputs": [],
   "source": [
    "audit_1.best_ests_df_w_keep_info[\n",
    "    (audit_1.best_ests_df_w_keep_info['ovrlp_disagree_typeA'].notna()) | \n",
    "    (audit_1.best_ests_df_w_keep_info['ovrlp_disagree_typeB'].notna())\n",
    "]"
   ]
  },
  {
   "cell_type": "code",
   "execution_count": null,
   "id": "2d40b8cf",
   "metadata": {},
   "outputs": [],
   "source": []
  },
  {
   "cell_type": "code",
   "execution_count": null,
   "id": "ddde134d",
   "metadata": {},
   "outputs": [],
   "source": []
  },
  {
   "cell_type": "code",
   "execution_count": null,
   "id": "cdc79488",
   "metadata": {},
   "outputs": [],
   "source": [
    "be_df_i = audit_1.best_ests_df_w_keep_info.copy()\n",
    "outg_rec_nb_i = audit_1.outg_rec_nb\n",
    "ovrlp_pfx = 'mXqy_'\n",
    "overlap_DOVS_col = 'overlap_DOVS'"
   ]
  },
  {
   "cell_type": "code",
   "execution_count": null,
   "id": "912f497d",
   "metadata": {},
   "outputs": [],
   "source": [
    "regex_pattern  = r'{}.*'.format(ovrlp_pfx)\n",
    "ovrlp_pct_cols = Utilities_df.find_cols_with_regex(df=be_df_i, regex_pattern=regex_pattern, ignore_case=False)\n",
    "#-------------------------\n",
    "outg_rec_nbs = [x[len(ovrlp_pfx):] for x in ovrlp_pct_cols]\n",
    "if outg_rec_nb_i not in outg_rec_nbs:\n",
    "    print(f'{outg_rec_nb_i} not in {outg_rec_nbs}!!!!!')\n",
    "    assert(0)"
   ]
  },
  {
   "cell_type": "code",
   "execution_count": null,
   "id": "bd751021",
   "metadata": {},
   "outputs": [],
   "source": [
    "for idx_ij, row_ij in be_df_i.iterrows():\n",
    "    print(idx_ij)\n",
    "    DOVSAudit.assert_overlap_DOVS_col_agreement_helper(\n",
    "        be_df_i_j=row_ij,\n",
    "        outg_rec_nb_i=outg_rec_nb_i, \n",
    "        ovrlp_pfx=ovrlp_pfx, \n",
    "        ovrlp_pct_cols=ovrlp_pct_cols, \n",
    "        overlap_DOVS_col=overlap_DOVS_col\n",
    "    )"
   ]
  },
  {
   "cell_type": "code",
   "execution_count": null,
   "id": "f4b1297e",
   "metadata": {},
   "outputs": [],
   "source": [
    "be_df_i_j[nonzero_cols]"
   ]
  },
  {
   "cell_type": "code",
   "execution_count": null,
   "id": "07486d79",
   "metadata": {},
   "outputs": [],
   "source": [
    "be_df_i_j[zero_cols].loc[be_df_i_j[zero_cols]>0].index.tolist()"
   ]
  },
  {
   "cell_type": "code",
   "execution_count": null,
   "id": "43a22772",
   "metadata": {},
   "outputs": [],
   "source": []
  },
  {
   "cell_type": "code",
   "execution_count": null,
   "id": "acb15576",
   "metadata": {},
   "outputs": [],
   "source": [
    "(be_df_i_j[zero_cols]==0)"
   ]
  },
  {
   "cell_type": "code",
   "execution_count": null,
   "id": "9eaf6dd8",
   "metadata": {},
   "outputs": [],
   "source": [
    "srs = pd.Series([0, 1, 0, 1])"
   ]
  },
  {
   "cell_type": "code",
   "execution_count": null,
   "id": "36493e31",
   "metadata": {},
   "outputs": [],
   "source": [
    "srs==0"
   ]
  },
  {
   "cell_type": "code",
   "execution_count": null,
   "id": "68901e45",
   "metadata": {},
   "outputs": [],
   "source": []
  },
  {
   "cell_type": "code",
   "execution_count": null,
   "id": "5bf7a88e",
   "metadata": {},
   "outputs": [],
   "source": []
  },
  {
   "cell_type": "code",
   "execution_count": null,
   "id": "64de04cb",
   "metadata": {},
   "outputs": [],
   "source": [
    "audit_1.best_ests_df_w_keep_info.iloc[7]"
   ]
  },
  {
   "cell_type": "code",
   "execution_count": null,
   "id": "19e67683",
   "metadata": {},
   "outputs": [],
   "source": [
    "be_df_i_j = audit_1.best_ests_df_w_keep_info.iloc[7].copy()"
   ]
  },
  {
   "cell_type": "code",
   "execution_count": null,
   "id": "82865d52",
   "metadata": {},
   "outputs": [],
   "source": [
    "assert(isinstance(be_df_i_j, pd.Series))\n",
    "#-------------------------\n",
    "ovrlp_DOVS = be_df_i_j[overlap_DOVS_col]\n",
    "#-------------------------\n",
    "nonzero_cols = [f'{ovrlp_pfx}{x}' for x in ovrlp_DOVS]\n",
    "zero_cols = [x for x in ovrlp_pct_cols if x not in nonzero_cols+[f'{ovrlp_pfx}{outg_rec_nb_i}']]"
   ]
  },
  {
   "cell_type": "code",
   "execution_count": null,
   "id": "49734cd4",
   "metadata": {},
   "outputs": [],
   "source": [
    "nonzero_cols"
   ]
  },
  {
   "cell_type": "code",
   "execution_count": null,
   "id": "2d73f9b0",
   "metadata": {},
   "outputs": [],
   "source": [
    "zero_cols"
   ]
  },
  {
   "cell_type": "code",
   "execution_count": null,
   "id": "99d48413",
   "metadata": {},
   "outputs": [],
   "source": [
    "outg_rec_nb_i"
   ]
  },
  {
   "cell_type": "code",
   "execution_count": null,
   "id": "af1d944e",
   "metadata": {},
   "outputs": [],
   "source": []
  },
  {
   "cell_type": "code",
   "execution_count": null,
   "id": "2444d2f7",
   "metadata": {},
   "outputs": [],
   "source": [
    "search_time_half_window=pd.Timedelta('24 hours')\n",
    "#-------------------------\n",
    "audit_2 = DOVSAudit(\n",
    "#     outg_rec_nb='13464904'\n",
    "    outg_rec_nb='13582332'\n",
    ")\n",
    "#-------------------------\n",
    "audit_2.load_dovs(\n",
    "    dovs_df           = None, \n",
    "    dovs_df_info_dict = None\n",
    ")\n",
    "#-------------------------\n",
    "audit_2.build_mp_df(\n",
    "    drop_mp_dups_fuzziness=pd.Timedelta('1 hour')\n",
    ")\n",
    "#-------------------------\n",
    "audit_2.run_ami_and_ede_daq(\n",
    "    search_time_half_window=search_time_half_window\n",
    ")\n",
    "#-------------------------\n",
    "audit_2.build_best_ests_df()\n",
    "#-------------------------\n"
   ]
  },
  {
   "cell_type": "code",
   "execution_count": null,
   "id": "b600aa8a",
   "metadata": {},
   "outputs": [],
   "source": [
    "audit_2.dovs_outg_t_beg_end"
   ]
  },
  {
   "cell_type": "code",
   "execution_count": null,
   "id": "a37d1e0c",
   "metadata": {},
   "outputs": [],
   "source": [
    "audit_1.best_ests_df_w_keep_info.iloc[7]"
   ]
  },
  {
   "cell_type": "code",
   "execution_count": null,
   "id": "5b05e0ed",
   "metadata": {},
   "outputs": [],
   "source": [
    "audit_1.best_ests_df_w_keep_info.iloc[:10]"
   ]
  },
  {
   "cell_type": "code",
   "execution_count": null,
   "id": "88de5237",
   "metadata": {},
   "outputs": [],
   "source": [
    "set(audit_1.best_ests_df_w_keep_info['overlap_DOVS'].sum())"
   ]
  },
  {
   "cell_type": "code",
   "execution_count": null,
   "id": "2b6917bb",
   "metadata": {},
   "outputs": [],
   "source": [
    "offenders = DOVSAudit.remove_prefix(inpt=offenders, prefix = ovrlp_pfx)"
   ]
  },
  {
   "cell_type": "code",
   "execution_count": null,
   "id": "7ad17cd5",
   "metadata": {},
   "outputs": [],
   "source": [
    "audit_2.dovs_df_i.iloc[0]['premise_nbs']"
   ]
  },
  {
   "cell_type": "code",
   "execution_count": null,
   "id": "2ac0ba17",
   "metadata": {},
   "outputs": [],
   "source": [
    "audit_2.ci_cmi_dovs"
   ]
  },
  {
   "cell_type": "code",
   "execution_count": null,
   "id": "ada1f49f",
   "metadata": {},
   "outputs": [],
   "source": [
    "audit_1.outg_rec_nb"
   ]
  },
  {
   "cell_type": "code",
   "execution_count": null,
   "id": "249ead9e",
   "metadata": {},
   "outputs": [],
   "source": []
  },
  {
   "cell_type": "code",
   "execution_count": null,
   "id": "f85743cf",
   "metadata": {},
   "outputs": [],
   "source": []
  },
  {
   "cell_type": "code",
   "execution_count": null,
   "id": "676a3a2f",
   "metadata": {},
   "outputs": [],
   "source": []
  },
  {
   "cell_type": "code",
   "execution_count": null,
   "id": "a0f28465",
   "metadata": {},
   "outputs": [],
   "source": [
    "# Should flag any events with entries satisfying the following:\n",
    "audit_1.best_ests_df_w_keep_info[\n",
    "    (audit_1.best_ests_df_w_keep_info['resolved']==True) & \n",
    "    (audit_1.best_ests_df_w_keep_info['resolved_details']!='Certain')\n",
    "]"
   ]
  },
  {
   "cell_type": "code",
   "execution_count": null,
   "id": "83669c8e",
   "metadata": {},
   "outputs": [],
   "source": [
    "Utilities.find_idxs_in_list_with_regex(lst=['qe\\/_13463901'], regex_pattern=r'qe\\/_.*')"
   ]
  },
  {
   "cell_type": "code",
   "execution_count": null,
   "id": "844b1a06",
   "metadata": {},
   "outputs": [],
   "source": []
  },
  {
   "cell_type": "code",
   "execution_count": null,
   "id": "f1bd2377",
   "metadata": {},
   "outputs": [],
   "source": [
    "FUCK"
   ]
  },
  {
   "cell_type": "code",
   "execution_count": null,
   "id": "f7af718c",
   "metadata": {},
   "outputs": [],
   "source": []
  },
  {
   "cell_type": "code",
   "execution_count": null,
   "id": "86a2b1cb",
   "metadata": {},
   "outputs": [],
   "source": []
  },
  {
   "cell_type": "code",
   "execution_count": null,
   "id": "79841454",
   "metadata": {},
   "outputs": [],
   "source": []
  },
  {
   "cell_type": "code",
   "execution_count": null,
   "id": "a4dea014",
   "metadata": {},
   "outputs": [],
   "source": []
  },
  {
   "cell_type": "code",
   "execution_count": null,
   "id": "ad4ff416",
   "metadata": {},
   "outputs": [],
   "source": []
  },
  {
   "cell_type": "code",
   "execution_count": null,
   "id": "e6636405",
   "metadata": {},
   "outputs": [],
   "source": []
  },
  {
   "cell_type": "code",
   "execution_count": null,
   "id": "26417826",
   "metadata": {},
   "outputs": [],
   "source": []
  },
  {
   "cell_type": "code",
   "execution_count": null,
   "id": "13c074ef",
   "metadata": {},
   "outputs": [],
   "source": [
    "# search_time_half_window=pd.Timedelta('24 hours')\n",
    "# #-------------------------\n",
    "# audit_2 = DOVSAudit(\n",
    "#     outg_rec_nb='13464322'\n",
    "# )\n",
    "# #-------------------------\n",
    "# audit_2.load_dovs(\n",
    "#     dovs_df           = None, \n",
    "#     dovs_df_info_dict = None\n",
    "# )\n",
    "# #-------------------------\n",
    "# audit_2.build_mp_df(\n",
    "#     drop_mp_dups_fuzziness=pd.Timedelta('1 hour')\n",
    "# )\n",
    "# #-------------------------\n",
    "# audit_2.run_ami_and_ede_daq(\n",
    "#     search_time_half_window=search_time_half_window\n",
    "# )\n",
    "# #-------------------------\n",
    "# audit_2.build_best_ests_df()\n",
    "# #-------------------------\n",
    "# audit_2.identify_overlaps(overlaps_dovs_sql_fcn=DOVSOutages_SQL.build_sql_outage)\n",
    "# #-------------------------\n",
    "# resolve_overlapping_audits_NEW(audit_a=audit_2)"
   ]
  },
  {
   "cell_type": "code",
   "execution_count": null,
   "id": "2b3c57c8",
   "metadata": {},
   "outputs": [],
   "source": [
    "search_time_half_window=pd.Timedelta('24 hours')\n",
    "#-------------------------\n",
    "audit_3 = DOVSAudit(\n",
    "    outg_rec_nb='13464549'\n",
    ")\n",
    "#-------------------------\n",
    "audit_3.load_dovs(\n",
    "    dovs_df           = None, \n",
    "    dovs_df_info_dict = None\n",
    ")\n",
    "#-------------------------\n",
    "audit_3.build_mp_df(\n",
    "    drop_mp_dups_fuzziness=pd.Timedelta('1 hour')\n",
    ")\n",
    "#-------------------------\n",
    "audit_3.run_ami_and_ede_daq(\n",
    "    search_time_half_window=search_time_half_window\n",
    ")\n",
    "#-------------------------\n",
    "audit_3.build_best_ests_df()\n",
    "#-------------------------\n",
    "audit_3.identify_overlaps(overlaps_dovs_sql_fcn=DOVSOutages_SQL.build_sql_outage)\n",
    "#-------------------------\n",
    "resolve_overlapping_audits_NEW(audit_a=audit_3)"
   ]
  },
  {
   "cell_type": "code",
   "execution_count": null,
   "id": "57fd2223",
   "metadata": {},
   "outputs": [],
   "source": [
    "search_time_half_window=pd.Timedelta('24 hours')\n",
    "#-------------------------\n",
    "audit_4 = DOVSAudit(\n",
    "    outg_rec_nb='13465188'\n",
    ")\n",
    "#-------------------------\n",
    "audit_4.load_dovs(\n",
    "    dovs_df           = None, \n",
    "    dovs_df_info_dict = None\n",
    ")\n",
    "#-------------------------\n",
    "audit_4.build_mp_df(\n",
    "    drop_mp_dups_fuzziness=pd.Timedelta('1 hour')\n",
    ")\n",
    "#-------------------------\n",
    "audit_4.run_ami_and_ede_daq(\n",
    "    search_time_half_window=search_time_half_window\n",
    ")\n",
    "#-------------------------\n",
    "audit_4.build_best_ests_df()\n",
    "#-------------------------\n",
    "audit_4.identify_overlaps(overlaps_dovs_sql_fcn=DOVSOutages_SQL.build_sql_outage)\n",
    "#-------------------------\n",
    "resolve_overlapping_audits_NEW(audit_a=audit_4)"
   ]
  },
  {
   "cell_type": "code",
   "execution_count": null,
   "id": "f41f68cf",
   "metadata": {},
   "outputs": [],
   "source": []
  },
  {
   "cell_type": "code",
   "execution_count": null,
   "id": "be568c35",
   "metadata": {},
   "outputs": [],
   "source": []
  },
  {
   "cell_type": "code",
   "execution_count": null,
   "id": "74106b30",
   "metadata": {},
   "outputs": [],
   "source": []
  },
  {
   "cell_type": "code",
   "execution_count": null,
   "id": "a951cd25",
   "metadata": {},
   "outputs": [],
   "source": []
  },
  {
   "cell_type": "code",
   "execution_count": null,
   "id": "923c5883",
   "metadata": {},
   "outputs": [],
   "source": [
    "fig, ax = Plot_General.default_subplots(fig_num=0)\n",
    "fig,ax = AMINonVee.plot_usage(\n",
    "    fig=fig, \n",
    "    ax=ax, \n",
    "    data=ami_df_i[\n",
    "        (ami_df_i['starttimeperiod_local']>pd.to_datetime('2023-07-03 12:00:00')) & \n",
    "        (ami_df_i['starttimeperiod_local']<pd.to_datetime('2023-07-04 14:00:00'))\n",
    "    ], \n",
    "    x='starttimeperiod_local', \n",
    "    y='value', \n",
    "    hue='aep_premise_nb'\n",
    ")\n",
    "ax.legend().set_visible(False)\n",
    "#-----\n",
    "ax.axvline(pd.to_datetime('2023-07-03 15:34:00'), color='lightblue', ls='--')\n",
    "ax.axvline(pd.to_datetime('2023-07-03 16:09:00'), color='lightblue', ls='--')\n",
    "#-----\n",
    "ax.axvline(pd.to_datetime('2023-07-03 16:09:00'), color='blue', ls='--')\n",
    "ax.axvline(pd.to_datetime('2023-07-03 19:07:00'), color='blue', ls='--')\n",
    "#-----\n",
    "ax.axvline(pd.to_datetime('2023-07-03 19:50:00'), color='green', ls='--')\n",
    "ax.axvline(pd.to_datetime('2023-07-03 21:11:00'), color='green', ls='--')\n",
    "#-----\n",
    "ax.axvline(pd.to_datetime('2023-07-04 04:04:00'), color='red', ls='--')\n",
    "ax.axvline(pd.to_datetime('2023-07-04 07:00:00'), color='red', ls='--')\n",
    "#-----\n",
    "ax.axvline(pd.to_datetime('2023-07-04 09:07:00'), color='orange', ls='--')\n",
    "ax.axvline(pd.to_datetime('2023-07-04 11:30:00'), color='orange', ls='--')"
   ]
  },
  {
   "cell_type": "code",
   "execution_count": null,
   "id": "86d28ae1",
   "metadata": {},
   "outputs": [],
   "source": []
  },
  {
   "cell_type": "code",
   "execution_count": null,
   "id": "7423d06d",
   "metadata": {},
   "outputs": [],
   "source": []
  },
  {
   "cell_type": "code",
   "execution_count": null,
   "id": "d682f28d",
   "metadata": {},
   "outputs": [],
   "source": [
    "audit_1b, fig, ax = demo_func(\n",
    "    outg_rec_nb='13464904', \n",
    "    search_time_half_window=pd.Timedelta('24 hours')\n",
    ")"
   ]
  },
  {
   "cell_type": "code",
   "execution_count": null,
   "id": "3004bf0d",
   "metadata": {},
   "outputs": [],
   "source": []
  },
  {
   "cell_type": "code",
   "execution_count": null,
   "id": "a2d56eb7",
   "metadata": {},
   "outputs": [],
   "source": [
    "audit_3b, fig, ax = demo_func(\n",
    "    outg_rec_nb='13464549', \n",
    "    search_time_half_window=pd.Timedelta('24 hours')\n",
    ")"
   ]
  },
  {
   "cell_type": "code",
   "execution_count": null,
   "id": "89769ee4",
   "metadata": {},
   "outputs": [],
   "source": [
    "audit_4b, fig, ax = demo_func(\n",
    "    outg_rec_nb='13465188', \n",
    "    search_time_half_window=pd.Timedelta('24 hours')\n",
    ")"
   ]
  },
  {
   "cell_type": "code",
   "execution_count": null,
   "id": "32fb5e65",
   "metadata": {},
   "outputs": [],
   "source": []
  },
  {
   "cell_type": "code",
   "execution_count": null,
   "id": "3b54d1d6",
   "metadata": {},
   "outputs": [],
   "source": []
  },
  {
   "cell_type": "code",
   "execution_count": null,
   "id": "541cd41e",
   "metadata": {},
   "outputs": [],
   "source": []
  },
  {
   "cell_type": "code",
   "execution_count": null,
   "id": "88bf1744",
   "metadata": {},
   "outputs": [],
   "source": []
  },
  {
   "cell_type": "code",
   "execution_count": null,
   "id": "b0055e9f",
   "metadata": {},
   "outputs": [],
   "source": []
  },
  {
   "cell_type": "code",
   "execution_count": null,
   "id": "57825e6d",
   "metadata": {},
   "outputs": [],
   "source": []
  },
  {
   "cell_type": "code",
   "execution_count": null,
   "id": "813e3e59",
   "metadata": {},
   "outputs": [],
   "source": []
  },
  {
   "cell_type": "code",
   "execution_count": null,
   "id": "2fc0015c",
   "metadata": {},
   "outputs": [],
   "source": []
  },
  {
   "cell_type": "code",
   "execution_count": null,
   "id": "cc5644cb",
   "metadata": {},
   "outputs": [],
   "source": [
    "# RULES:\n",
    "#   - If a sub-outage only overlaps with one DOVS event, it is decided\n",
    "#   - If a sub-outage does not overlap with any of the DOVS events, it remains with audit_a\n",
    "#   - If a sub-outage does not overlap with audit_a, but does with others, remove from audit_i"
   ]
  },
  {
   "cell_type": "code",
   "execution_count": null,
   "id": "3feebfd4",
   "metadata": {},
   "outputs": [],
   "source": [
    "# PN_i\n",
    "unq_idfr_cols = ['PN', 'i_outg']\n",
    "PN_col='PN'\n",
    "t_min_col='winner_min'\n",
    "t_max_col='winner_max'\n",
    "keep_col='keep'\n",
    "open_beg_col='open_beg'\n",
    "open_end_col='open_end'\n",
    "overlap_dovs_col = 'overlap_DOVS'\n",
    "\n",
    "outg_rec_nb_col_dovs='OUTG_REC_NB'\n",
    "dt_off_ts_full_col_dovs='DT_OFF_TS_FULL'\n",
    "dt_on_ts_col_dovs='DT_ON_TS'"
   ]
  },
  {
   "cell_type": "code",
   "execution_count": null,
   "id": "31320e1b",
   "metadata": {},
   "outputs": [],
   "source": [
    "be_df_a"
   ]
  },
  {
   "cell_type": "code",
   "execution_count": null,
   "id": "3eb26d76",
   "metadata": {},
   "outputs": [],
   "source": []
  },
  {
   "cell_type": "code",
   "execution_count": null,
   "id": "1f4dc45d",
   "metadata": {},
   "outputs": [],
   "source": [
    "list(set(be_df_a['overlap_DOVS'].sum()))"
   ]
  },
  {
   "cell_type": "code",
   "execution_count": null,
   "id": "ea046d6c",
   "metadata": {},
   "outputs": [],
   "source": [
    "list(set(be_df_a['overlap_times'].sum()))"
   ]
  },
  {
   "cell_type": "code",
   "execution_count": null,
   "id": "9d711f98",
   "metadata": {},
   "outputs": [],
   "source": [
    "dovs = DOVSOutages(\n",
    "    df_construct_type=DFConstructType.kRunSqlQuery, \n",
    "    contstruct_df_args=None, \n",
    "    init_df_in_constructor=True,\n",
    "    build_sql_function=DOVSOutages_SQL.build_sql_outage, \n",
    "    build_sql_function_kwargs=dict(\n",
    "        premise_nbs=PN_i, \n",
    "        outg_rec_nbs=list(set(be_df_a['overlap_DOVS'].sum()))+[audit_a.outg_rec_nb], \n",
    "        include_premise=True\n",
    "    ), \n",
    "    build_consolidated=False\n",
    ")\n",
    "dovs_df = dovs.df.copy()"
   ]
  },
  {
   "cell_type": "code",
   "execution_count": null,
   "id": "1db037a8",
   "metadata": {},
   "outputs": [],
   "source": [
    "dovs_df"
   ]
  },
  {
   "cell_type": "code",
   "execution_count": null,
   "id": "41e7d561",
   "metadata": {},
   "outputs": [],
   "source": [
    "be_df_a"
   ]
  },
  {
   "cell_type": "code",
   "execution_count": null,
   "id": "ac2dbb4d",
   "metadata": {},
   "outputs": [],
   "source": [
    "audit_a.best_ests_df_w_keep_info"
   ]
  },
  {
   "cell_type": "code",
   "execution_count": null,
   "id": "fc98326a",
   "metadata": {},
   "outputs": [],
   "source": [
    "# PN_i\n",
    "unq_idfr_cols = ['PN', 'i_outg']\n",
    "PN_col='PN'\n",
    "t_min_col='winner_min'\n",
    "t_max_col='winner_max'\n",
    "keep_col='keep'\n",
    "open_beg_col='open_beg'\n",
    "open_end_col='open_end'\n",
    "overlap_dovs_col = 'overlap_DOVS'\n",
    "\n",
    "outg_rec_nb_col_dovs='OUTG_REC_NB'\n",
    "dt_off_ts_full_col_dovs='DT_OFF_TS_FULL'\n",
    "dt_on_ts_col_dovs='DT_ON_TS'"
   ]
  },
  {
   "cell_type": "code",
   "execution_count": null,
   "id": "820d882a",
   "metadata": {},
   "outputs": [],
   "source": []
  },
  {
   "cell_type": "code",
   "execution_count": null,
   "id": "968c6a16",
   "metadata": {},
   "outputs": [],
   "source": [
    "update_df = DOVSAudit.set_initial_to_adjust_df(\n",
    "    be_df       = audit_a.best_ests_df_w_keep_info.copy(), \n",
    "    be_df_cols  = None, \n",
    "    addtnl_cols = None\n",
    ")\n",
    "#----------------------------------------------------------------------------------------------------\n",
    "outg_rec_nbs = list(set(update_df[overlap_dovs_col].sum()))+[audit_a.outg_rec_nb]\n",
    "#-------------------------\n",
    "if(\n",
    "    dovs_df is None or \n",
    "    set(outg_rec_nbs).difference(set(dovs_df[outg_rec_nb_col_dovs].unique().tolist())) != set()\n",
    "):\n",
    "    dovs = DOVSOutages(\n",
    "        df_construct_type=DFConstructType.kRunSqlQuery, \n",
    "        contstruct_df_args=None, \n",
    "        init_df_in_constructor=True,\n",
    "        build_sql_function=DOVSOutages_SQL.build_sql_outage, \n",
    "        build_sql_function_kwargs=dict(\n",
    "            premise_nbs=PN_i, \n",
    "            outg_rec_nbs=outg_rec_nbs, \n",
    "            include_premise=True\n",
    "        ), \n",
    "        build_consolidated=False\n",
    "    )\n",
    "    dovs_df = dovs.df.copy()\n",
    "#-------------------------\n",
    "# If dovs_df supplied, don't want to make changes outside of this function, so copy\n",
    "dovs_df = dovs_df.copy()\n",
    "assert(set(outg_rec_nbs).difference(set(dovs_df[outg_rec_nb_col_dovs].unique().tolist()))==set())\n",
    "#-----\n",
    "dovs_df = dovs_df[dovs_df[outg_rec_nb_col_dovs].isin(outg_rec_nbs)]\n",
    "dovs_df = dovs_df[[outg_rec_nb_col_dovs, dt_off_ts_full_col_dovs, dt_on_ts_col_dovs]].drop_duplicates()\n",
    "#-----\n",
    "# There should only be one entry in dovs_df for each outg_rec_nb\n",
    "assert(dovs_df[outg_rec_nb_col_dovs].nunique()==dovs_df.shape[0])\n",
    "#----------------------------------------------------------------------------------------------------\n",
    "# Build new columns, one for each outg_rec_nb, housing the percent overlap of the found interval for each row\n",
    "#   and the possibly overlapping DOVS events\n",
    "#-----\n",
    "ovrlp_pfx = Utilities.generate_random_string(str_len=4)+'_'\n",
    "assert(not col.startswith(ovrlp_pfx) for col in update_df.columns.tolist())\n",
    "#-----\n",
    "for idx_i, dovs_i in dovs_df.iterrows():\n",
    "    outg_rec_nb_i = dovs_i[outg_rec_nb_col_dovs]\n",
    "    update_df[f'{ovrlp_pfx}{outg_rec_nb_i}'] = update_df.apply(\n",
    "        lambda x: DOVSAudit.get_overlap_interval_len(\n",
    "            intrvl_1 = [x[t_min_col], x[t_max_col]], \n",
    "            intrvl_2 = [dovs_i[dt_off_ts_full_col_dovs], dovs_i[dt_on_ts_col_dovs]], \n",
    "            norm_by=2\n",
    "        ), \n",
    "        axis=1\n",
    "    )\n",
    "#-------------------------\n",
    "ovrlp_pct_cols = [x for x in update_df.columns.tolist() if x.startswith(ovrlp_pfx)]\n",
    "assert(len(ovrlp_pct_cols)==len(outg_rec_nbs))\n",
    "\n",
    "#----------------------------------------------------------------------------------------------------\n",
    "# RULES:\n",
    "#   - If a sub-outage only overlaps with one DOVS event, it is decided\n",
    "#   - If a sub-outage does not overlap with any of the DOVS events, it remains with audit_a\n",
    "#   - If a sub-outage does not overlap with audit_a, but does with others, remove from audit_i\n",
    "#-------------------------\n",
    "# There might be some clever, pythonic, way to achieve this (e.g., can definitely identify via calls\n",
    "#   like (update_df[ovrlp_pct_cols]>0).sum(axis=1) and (update_df[ovrlp_pct_cols]==0).sum(axis=1)).\n",
    "# But, the operations are light and simple, so brute-force is easier and fine in this case\n",
    "#-------------------------\n",
    "# Need unique indices, so I can safely assign using .loc\n",
    "# If one did not want to do the .reset_index call below, one could iterate over rows using \n",
    "#   for i_row in range(update_df.shape[0]) in the for loop below\n",
    "if update_df.index.nunique()<update_df.shape[0]:\n",
    "    update_df = update_df.reset_index(drop=True)\n",
    "#-----\n",
    "for idx_i, row_i in update_df.iterrows():\n",
    "    gt0_srs = row_i[ovrlp_pct_cols]>0\n",
    "    eq0_srs = row_i[ovrlp_pct_cols]==0\n",
    "    #-----\n",
    "    # If a sub-outage only overlaps with one DOVS event, it is decided\n",
    "    if gt0_srs.sum()==1:\n",
    "        assert(len(row_i[overlap_dovs_col])<=1)\n",
    "        parent_dovs = gt0_srs[gt0_srs==True].index\n",
    "        assert(len(parent_dovs)==1)\n",
    "        parent_dovs = remove_prefix(\n",
    "            inpt   = parent_dovs[0], \n",
    "            prefix = ovrlp_pfx\n",
    "        )\n",
    "        #-------------------------\n",
    "        update_df.loc[idx_i, 'resolved']         = True\n",
    "        update_df.loc[idx_i, 'resolved_details'] = 'Certain'\n",
    "        if parent_dovs == audit_a.outg_rec_nb:\n",
    "            update_df.loc[idx_i, 'adjustment']   = None\n",
    "        else:\n",
    "            update_df.loc[idx_i, 'adjustment']   = 'remove'\n",
    "    # If a sub-outage does not overlap with any of the DOVS events, it remains with audit_a\n",
    "    elif eq0_srs.all():\n",
    "        assert(len(row_i[overlap_dovs_col])==0)\n",
    "        update_df.loc[idx_i, 'resolved']         = True\n",
    "        update_df.loc[idx_i, 'resolved_details'] = 'Certain'\n",
    "        update_df.loc[idx_i, 'adjustment']       = None\n",
    "    # Sub-outage overlaps with multipl DOVS events......\n",
    "    else:\n",
    "        assert(gt0_srs.sum()>1)\n",
    "        assert(\n",
    "            len(row_i[overlap_dovs_col])==gt0_srs.sum() or \n",
    "            len(row_i[overlap_dovs_col])==gt0_srs.sum()-1\n",
    "        )\n",
    "        #-------------------------\n",
    "        ovrlp_outg_rec_nbs = remove_prefix(\n",
    "            inpt   = gt0_srs[gt0_srs==True].index.tolist(), \n",
    "            prefix = ovrlp_pfx\n",
    "        )\n",
    "        #-------------------------\n",
    "        # ovrlp_outg_rec_nbs should contain all entries from row_i[overlap_dovs_col] and possibly audit_a.outg_rec_nb\n",
    "        assert(set(row_i[overlap_dovs_col]).difference(set(ovrlp_outg_rec_nbs))==set())\n",
    "        #-------------------------\n",
    "        # If audit_a.outg_rec_nb does not overlap with the sub-outage, no further analysis is needed,\n",
    "        #   this sub-outage simply needs to be removed from audit_i\n",
    "        if audit_a.outg_rec_nb not in ovrlp_outg_rec_nbs:\n",
    "            update_df.loc[idx_i, 'resolved']         = True\n",
    "            update_df.loc[idx_i, 'resolved_details'] = 'Certain'\n",
    "            update_df.loc[idx_i, 'adjustment']       = 'remove'\n",
    "        # If audit_a.outg_rec_nb does overlap sub-outage (with others), split using\n",
    "        #   split_outage_interval_across_multiple_overlapping_dovs\n",
    "        else:\n",
    "            outg_intrvl = [row_i[t_min_col], row_i[t_max_col]]\n",
    "            ovrlp_outg_rec_nbs = remove_prefix(\n",
    "                inpt   = gt0_srs[gt0_srs==True].index.tolist(), \n",
    "                prefix = ovrlp_pfx\n",
    "            )\n",
    "            split_df = split_outage_interval_across_multiple_overlapping_dovs(\n",
    "                outg_intrvl = outg_intrvl, \n",
    "                outg_rec_nbs = ovrlp_outg_rec_nbs, \n",
    "                dovs_df=None, \n",
    "                outg_rec_nb_col='OUTG_REC_NB', \n",
    "                dt_off_ts_full_col='DT_OFF_TS_FULL', \n",
    "                dt_on_ts_col='DT_ON_TS'\n",
    "            )\n",
    "            #-------------------------\n",
    "            assert(audit_a.outg_rec_nb in split_df['OUTG_REC_NB'].unique().tolist())\n",
    "            adjstmnt_i = split_df[split_df['OUTG_REC_NB']==audit_a.outg_rec_nb]\n",
    "            assert(adjstmnt_i.shape[0]==1)\n",
    "            #-----\n",
    "            update_df.loc[idx_i, 'resolved']         = True\n",
    "            update_df.loc[idx_i, 'resolved_details'] = 'Uncertain'\n",
    "            update_df.loc[idx_i, 'adjustment']       = 'adjust'\n",
    "            #-----\n",
    "            update_df.loc[idx_i, t_min_col] = adjstmnt_i.iloc[0]['intrvl_min']\n",
    "            update_df.loc[idx_i, t_max_col] = adjstmnt_i.iloc[0]['intrvl_max']\n",
    "#-------------------------\n",
    "update_df = update_df.drop(columns=ovrlp_pct_cols)"
   ]
  },
  {
   "cell_type": "code",
   "execution_count": null,
   "id": "4805c498",
   "metadata": {},
   "outputs": [],
   "source": [
    "update_df"
   ]
  },
  {
   "cell_type": "code",
   "execution_count": null,
   "id": "e08741d6",
   "metadata": {},
   "outputs": [],
   "source": [
    "update_df[update_df['keep']==True]"
   ]
  },
  {
   "cell_type": "code",
   "execution_count": null,
   "id": "71b3846d",
   "metadata": {},
   "outputs": [],
   "source": [
    "update_df[update_df['keep']!=True]"
   ]
  },
  {
   "cell_type": "code",
   "execution_count": null,
   "id": "db237075",
   "metadata": {},
   "outputs": [],
   "source": [
    "update_df[update_df['adjustment']!='remove']"
   ]
  },
  {
   "cell_type": "code",
   "execution_count": null,
   "id": "bc34fe44",
   "metadata": {},
   "outputs": [],
   "source": []
  },
  {
   "cell_type": "code",
   "execution_count": null,
   "id": "dc8724fb",
   "metadata": {},
   "outputs": [],
   "source": []
  },
  {
   "cell_type": "code",
   "execution_count": null,
   "id": "6cf8edd9",
   "metadata": {},
   "outputs": [],
   "source": [
    "be_df_cols = unq_idfr_cols + list(set([t_min_col, t_max_col, open_beg_col, open_end_col, overlap_dovs_col]).difference(set(unq_idfr_cols)))\n",
    "assert(set(be_df_cols).difference(set(be_df_a.columns.tolist()))==set())\n",
    "return_cols = be_df_cols + ['adjustment', 'resolved', 'resolved_details']\n",
    "#-------------------------\n",
    "update_df = DOVSAudit.set_initial_to_adjust_df(\n",
    "    be_df       = be_df_a.copy(), \n",
    "    be_df_cols  = be_df_cols, \n",
    "    addtnl_cols = None\n",
    ")\n",
    "#----------------------------------------------------------------------------------------------------\n",
    "outg_rec_nbs = list(set(update_df[overlap_dovs_col].sum()))+[audit_a.outg_rec_nb]\n",
    "#-------------------------\n",
    "if(\n",
    "    dovs_df is None or \n",
    "    set(outg_rec_nbs).difference(set(dovs_df[outg_rec_nb_col_dovs].unique().tolist())) != set()\n",
    "):\n",
    "    dovs = DOVSOutages(\n",
    "        df_construct_type=DFConstructType.kRunSqlQuery, \n",
    "        contstruct_df_args=None, \n",
    "        init_df_in_constructor=True,\n",
    "        build_sql_function=DOVSOutages_SQL.build_sql_outage, \n",
    "        build_sql_function_kwargs=dict(\n",
    "            premise_nbs=PN_i, \n",
    "            outg_rec_nbs=outg_rec_nbs, \n",
    "            include_premise=True\n",
    "        ), \n",
    "        build_consolidated=False\n",
    "    )\n",
    "    dovs_df = dovs.df.copy()\n",
    "#-------------------------\n",
    "# If dovs_df supplied, don't want to make changes outside of this function, so copy\n",
    "dovs_df = dovs_df.copy()\n",
    "assert(set(outg_rec_nbs).difference(set(dovs_df[outg_rec_nb_col_dovs].unique().tolist()))==set())\n",
    "#-----\n",
    "dovs_df = dovs_df[dovs_df[outg_rec_nb_col_dovs].isin(outg_rec_nbs)]\n",
    "dovs_df = dovs_df[[outg_rec_nb_col_dovs, dt_off_ts_full_col_dovs, dt_on_ts_col_dovs]].drop_duplicates()\n",
    "#-----\n",
    "# There should only be one entry in dovs_df for each outg_rec_nb\n",
    "assert(dovs_df[outg_rec_nb_col_dovs].nunique()==dovs_df.shape[0])\n",
    "#----------------------------------------------------------------------------------------------------\n",
    "# Build new columns, one for each outg_rec_nb, housing the percent overlap of the found interval for each row\n",
    "#   and the possibly overlapping DOVS events\n",
    "#-----\n",
    "ovrlp_pfx = Utilities.generate_random_string(str_len=4)+'_'\n",
    "assert(not col.startswith(ovrlp_pfx) for col in update_df.columns.tolist())\n",
    "#-----\n",
    "for idx_i, dovs_i in dovs_df.iterrows():\n",
    "    outg_rec_nb_i = dovs_i[outg_rec_nb_col_dovs]\n",
    "    update_df[f'{ovrlp_pfx}{outg_rec_nb_i}'] = update_df.apply(\n",
    "        lambda x: DOVSAudit.get_overlap_interval_len(\n",
    "            intrvl_1 = [x[t_min_col], x[t_max_col]], \n",
    "            intrvl_2 = [dovs_i[dt_off_ts_full_col_dovs], dovs_i[dt_on_ts_col_dovs]], \n",
    "            norm_by=2\n",
    "        ), \n",
    "        axis=1\n",
    "    )\n",
    "#-------------------------\n",
    "ovrlp_pct_cols = [x for x in update_df.columns.tolist() if x.startswith(ovrlp_pfx)]\n",
    "assert(len(ovrlp_pct_cols)==len(outg_rec_nbs))\n",
    "\n",
    "#----------------------------------------------------------------------------------------------------\n",
    "# RULES:\n",
    "#   - If a sub-outage only overlaps with one DOVS event, it is decided\n",
    "#   - If a sub-outage does not overlap with any of the DOVS events, it remains with audit_a\n",
    "#   - If a sub-outage does not overlap with audit_a, but does with others, remove from audit_i\n",
    "#-------------------------\n",
    "# There might be some clever, pythonic, way to achieve this (e.g., can definitely identify via calls\n",
    "#   like (update_df[ovrlp_pct_cols]>0).sum(axis=1) and (update_df[ovrlp_pct_cols]==0).sum(axis=1)).\n",
    "# But, the operations are light and simple, so brute-force is easier and fine in this case\n",
    "#-------------------------\n",
    "# Need unique indices, so I can safely assign using .loc\n",
    "# If one did not want to do the .reset_index call below, one could iterate over rows using \n",
    "#   for i_row in range(update_df.shape[0]) in the for loop below\n",
    "if update_df.index.nunique()<update_df.shape[0]:\n",
    "    update_df = update_df.reset_index(drop=True)\n",
    "#-----\n",
    "for idx_i, row_i in update_df.iterrows():\n",
    "    gt0_srs = row_i[ovrlp_pct_cols]>0\n",
    "    eq0_srs = row_i[ovrlp_pct_cols]==0\n",
    "    #-----\n",
    "    # If a sub-outage only overlaps with one DOVS event, it is decided\n",
    "    if gt0_srs.sum()==1:\n",
    "        assert(len(row_i[overlap_dovs_col])<=1)\n",
    "        parent_dovs = gt0_srs[gt0_srs==True].index\n",
    "        assert(len(parent_dovs)==1)\n",
    "        parent_dovs = remove_prefix(\n",
    "            inpt   = parent_dovs[0], \n",
    "            prefix = ovrlp_pfx\n",
    "        )\n",
    "        #-------------------------\n",
    "        update_df.loc[idx_i, 'resolved']         = True\n",
    "        update_df.loc[idx_i, 'resolved_details'] = 'Certain'\n",
    "        if parent_dovs == audit_a.outg_rec_nb:\n",
    "            update_df.loc[idx_i, 'adjustment']   = None\n",
    "        else:\n",
    "            update_df.loc[idx_i, 'adjustment']   = 'remove'\n",
    "    # If a sub-outage does not overlap with any of the DOVS events, it remains with audit_a\n",
    "    elif eq0_srs.all():\n",
    "        assert(len(row_i[overlap_dovs_col])==0)\n",
    "        update_df.loc[idx_i, 'resolved']         = True\n",
    "        update_df.loc[idx_i, 'resolved_details'] = 'Certain'\n",
    "        update_df.loc[idx_i, 'adjustment']       = None\n",
    "    # Sub-outage overlaps with multipl DOVS events......\n",
    "    else:\n",
    "        assert(gt0_srs.sum()>1)\n",
    "        assert(\n",
    "            len(row_i[overlap_dovs_col])==gt0_srs.sum() or \n",
    "            len(row_i[overlap_dovs_col])==gt0_srs.sum()-1\n",
    "        )\n",
    "        #-------------------------\n",
    "        ovrlp_outg_rec_nbs = remove_prefix(\n",
    "            inpt   = gt0_srs[gt0_srs==True].index.tolist(), \n",
    "            prefix = ovrlp_pfx\n",
    "        )\n",
    "        #-------------------------\n",
    "        # ovrlp_outg_rec_nbs should contain all entries from row_i[overlap_dovs_col] and possibly audit_a.outg_rec_nb\n",
    "        assert(set(row_i[overlap_dovs_col]).difference(set(ovrlp_outg_rec_nbs))==set())\n",
    "        #-------------------------\n",
    "        # If audit_a.outg_rec_nb does not overlap with the sub-outage, no further analysis is needed,\n",
    "        #   this sub-outage simply needs to be removed from audit_i\n",
    "        if audit_a.outg_rec_nb not in ovrlp_outg_rec_nbs:\n",
    "            update_df.loc[idx_i, 'resolved']         = True\n",
    "            update_df.loc[idx_i, 'resolved_details'] = 'Certain'\n",
    "            update_df.loc[idx_i, 'adjustment']       = 'remove'\n",
    "        # If audit_a.outg_rec_nb does overlap sub-outage (with others), split using\n",
    "        #   split_outage_interval_across_multiple_overlapping_dovs\n",
    "        else:\n",
    "            outg_intrvl = [row_i[t_min_col], row_i[t_max_col]]\n",
    "            ovrlp_outg_rec_nbs = remove_prefix(\n",
    "                inpt   = gt0_srs[gt0_srs==True].index.tolist(), \n",
    "                prefix = ovrlp_pfx\n",
    "            )\n",
    "            split_df = split_outage_interval_across_multiple_overlapping_dovs(\n",
    "                outg_intrvl = outg_intrvl, \n",
    "                outg_rec_nbs = ovrlp_outg_rec_nbs, \n",
    "                dovs_df=None, \n",
    "                outg_rec_nb_col='OUTG_REC_NB', \n",
    "                dt_off_ts_full_col='DT_OFF_TS_FULL', \n",
    "                dt_on_ts_col='DT_ON_TS'\n",
    "            )\n",
    "            #-------------------------\n",
    "            assert(audit_a.outg_rec_nb in split_df['OUTG_REC_NB'].unique().tolist())\n",
    "            adjstmnt_i = split_df[split_df['OUTG_REC_NB']==audit_a.outg_rec_nb]\n",
    "            assert(adjstmnt_i.shape[0]==1)\n",
    "            #-----\n",
    "            update_df.loc[idx_i, 'resolved']         = True\n",
    "            update_df.loc[idx_i, 'resolved_details'] = 'Uncertain'\n",
    "            update_df.loc[idx_i, 'adjustment']       = 'adjust'\n",
    "            #-----\n",
    "            update_df.loc[idx_i, t_min_col] = adjstmnt_i.iloc[0]['intrvl_min']\n",
    "            update_df.loc[idx_i, t_max_col] = adjstmnt_i.iloc[0]['intrvl_max']\n",
    "#-------------------------\n",
    "update_df = update_df.drop(columns=ovrlp_pct_cols)"
   ]
  },
  {
   "cell_type": "code",
   "execution_count": null,
   "id": "2162c37a",
   "metadata": {},
   "outputs": [],
   "source": [
    "row_i = update_df.iloc[0]"
   ]
  },
  {
   "cell_type": "code",
   "execution_count": null,
   "id": "a7946906",
   "metadata": {},
   "outputs": [],
   "source": [
    "len(row_i[overlap_dovs_col])"
   ]
  },
  {
   "cell_type": "code",
   "execution_count": null,
   "id": "33625477",
   "metadata": {},
   "outputs": [],
   "source": []
  },
  {
   "cell_type": "code",
   "execution_count": null,
   "id": "0af7a77d",
   "metadata": {},
   "outputs": [],
   "source": []
  },
  {
   "cell_type": "code",
   "execution_count": null,
   "id": "1bb8b17b",
   "metadata": {},
   "outputs": [],
   "source": []
  },
  {
   "cell_type": "code",
   "execution_count": null,
   "id": "5c73895f",
   "metadata": {},
   "outputs": [],
   "source": []
  },
  {
   "cell_type": "code",
   "execution_count": null,
   "id": "07381e76",
   "metadata": {},
   "outputs": [],
   "source": []
  },
  {
   "cell_type": "code",
   "execution_count": null,
   "id": "f2e9de45",
   "metadata": {},
   "outputs": [],
   "source": []
  },
  {
   "cell_type": "code",
   "execution_count": null,
   "id": "b4ab68b4",
   "metadata": {},
   "outputs": [],
   "source": []
  },
  {
   "cell_type": "code",
   "execution_count": null,
   "id": "3153abfb",
   "metadata": {},
   "outputs": [],
   "source": []
  },
  {
   "cell_type": "code",
   "execution_count": null,
   "id": "4d955d30",
   "metadata": {},
   "outputs": [],
   "source": []
  },
  {
   "cell_type": "code",
   "execution_count": null,
   "id": "75d06c5b",
   "metadata": {},
   "outputs": [],
   "source": []
  },
  {
   "cell_type": "code",
   "execution_count": null,
   "id": "d40061f9",
   "metadata": {},
   "outputs": [],
   "source": []
  },
  {
   "cell_type": "code",
   "execution_count": null,
   "id": "d9b3b7be",
   "metadata": {},
   "outputs": [],
   "source": []
  },
  {
   "cell_type": "code",
   "execution_count": null,
   "id": "bf30f14b",
   "metadata": {},
   "outputs": [],
   "source": []
  },
  {
   "cell_type": "code",
   "execution_count": null,
   "id": "fa5db244",
   "metadata": {},
   "outputs": [],
   "source": []
  },
  {
   "cell_type": "code",
   "execution_count": null,
   "id": "97892016",
   "metadata": {},
   "outputs": [],
   "source": []
  },
  {
   "cell_type": "code",
   "execution_count": null,
   "id": "7db55d00",
   "metadata": {},
   "outputs": [],
   "source": []
  },
  {
   "cell_type": "code",
   "execution_count": null,
   "id": "a2262d30",
   "metadata": {},
   "outputs": [],
   "source": []
  },
  {
   "cell_type": "code",
   "execution_count": null,
   "id": "69865228",
   "metadata": {},
   "outputs": [],
   "source": []
  },
  {
   "cell_type": "code",
   "execution_count": null,
   "id": "013760a8",
   "metadata": {},
   "outputs": [],
   "source": []
  },
  {
   "cell_type": "code",
   "execution_count": null,
   "id": "aa33c207",
   "metadata": {},
   "outputs": [],
   "source": []
  },
  {
   "cell_type": "code",
   "execution_count": null,
   "id": "fb96e886",
   "metadata": {},
   "outputs": [],
   "source": []
  },
  {
   "cell_type": "code",
   "execution_count": null,
   "id": "e24f257c",
   "metadata": {},
   "outputs": [],
   "source": []
  },
  {
   "cell_type": "code",
   "execution_count": null,
   "id": "f1c3668f",
   "metadata": {},
   "outputs": [],
   "source": []
  },
  {
   "cell_type": "code",
   "execution_count": null,
   "id": "9f155a32",
   "metadata": {},
   "outputs": [],
   "source": []
  },
  {
   "cell_type": "code",
   "execution_count": null,
   "id": "1e1a29f2",
   "metadata": {},
   "outputs": [],
   "source": []
  },
  {
   "cell_type": "code",
   "execution_count": null,
   "id": "fef790dc",
   "metadata": {},
   "outputs": [],
   "source": [
    "# IMPORTANT: Since resolved is initiated to np.nan, one cannot simply take \n",
    "#              audit_a1.best_ests_df_w_keep_info['resolved'].sum(), but must instead do the following\n",
    "(audit_a1.best_ests_df_w_keep_info['resolved']==True).sum()"
   ]
  },
  {
   "cell_type": "code",
   "execution_count": null,
   "id": "c027e2c7",
   "metadata": {},
   "outputs": [],
   "source": []
  },
  {
   "cell_type": "code",
   "execution_count": null,
   "id": "7f29af36",
   "metadata": {},
   "outputs": [],
   "source": []
  },
  {
   "cell_type": "code",
   "execution_count": null,
   "id": "0cf17197",
   "metadata": {},
   "outputs": [],
   "source": []
  },
  {
   "cell_type": "code",
   "execution_count": null,
   "id": "3b2ceb79",
   "metadata": {},
   "outputs": [],
   "source": []
  },
  {
   "cell_type": "code",
   "execution_count": null,
   "id": "a7678ba9",
   "metadata": {},
   "outputs": [],
   "source": [
    "dev_PNs = audit_i.best_ests_df['PN'].unique().tolist()\n",
    "\n",
    "dovs_dev = DOVSOutages(\n",
    "    df_construct_type=DFConstructType.kRunSqlQuery, \n",
    "    contstruct_df_args=None, \n",
    "    init_df_in_constructor=True,\n",
    "    build_sql_function=DOVSOutages_SQL.build_sql_std_outage, \n",
    "    build_sql_function_kwargs=dict(\n",
    "        premise_nbs=dev_PNs, \n",
    "        field_to_split='premise_nbs', \n",
    "        include_premise=True\n",
    "    ), \n",
    "    build_consolidated=False\n",
    ")\n",
    "dovs_df_dev = dovs_dev.df.copy()"
   ]
  },
  {
   "cell_type": "code",
   "execution_count": null,
   "id": "1d84873e",
   "metadata": {},
   "outputs": [],
   "source": [
    "natsorted(dovs_df_dev['DT_OFF_TS_FULL'].unique().tolist())"
   ]
  },
  {
   "cell_type": "code",
   "execution_count": null,
   "id": "bf87a595",
   "metadata": {},
   "outputs": [],
   "source": [
    "audit_i.dovs_outg_t_beg_end"
   ]
  },
  {
   "cell_type": "code",
   "execution_count": null,
   "id": "c36b71c9",
   "metadata": {},
   "outputs": [],
   "source": [
    "print(dovs_dev.get_sql_statement())"
   ]
  },
  {
   "cell_type": "code",
   "execution_count": null,
   "id": "09c7490f",
   "metadata": {},
   "outputs": [],
   "source": []
  },
  {
   "cell_type": "code",
   "execution_count": null,
   "id": "5f327c7d",
   "metadata": {},
   "outputs": [],
   "source": [
    "dovs_dev = DOVSOutages(\n",
    "    df_construct_type=DFConstructType.kRunSqlQuery, \n",
    "    contstruct_df_args=None, \n",
    "    init_df_in_constructor=True,\n",
    "    build_sql_function=DOVSOutages_SQL.build_sql_std_outage, \n",
    "    build_sql_function_kwargs=dict(\n",
    "        premise_nbs=['964325483'], \n",
    "        field_to_split='premise_nbs', \n",
    "        include_premise=True\n",
    "    ), \n",
    "    build_consolidated=False\n",
    ")\n",
    "dovs_df_dev = dovs_dev.df.copy()"
   ]
  },
  {
   "cell_type": "code",
   "execution_count": null,
   "id": "82e5180d",
   "metadata": {},
   "outputs": [],
   "source": [
    "natsorted(dovs_df_dev['DT_OFF_TS_FULL'].unique().tolist())"
   ]
  },
  {
   "cell_type": "code",
   "execution_count": null,
   "id": "00c07d0f",
   "metadata": {},
   "outputs": [],
   "source": [
    "dovs_df_dev.sort_values(by=['DT_OFF_TS']).tail(10)"
   ]
  },
  {
   "cell_type": "code",
   "execution_count": null,
   "id": "90c694d2",
   "metadata": {},
   "outputs": [],
   "source": [
    "audit_i.outg_rec_nb"
   ]
  },
  {
   "cell_type": "code",
   "execution_count": null,
   "id": "86c33f03",
   "metadata": {},
   "outputs": [],
   "source": []
  },
  {
   "cell_type": "code",
   "execution_count": null,
   "id": "554daa57",
   "metadata": {},
   "outputs": [],
   "source": []
  },
  {
   "cell_type": "code",
   "execution_count": null,
   "id": "0951be17",
   "metadata": {},
   "outputs": [],
   "source": []
  },
  {
   "cell_type": "code",
   "execution_count": null,
   "id": "0c043baf",
   "metadata": {},
   "outputs": [],
   "source": [
    "def remove_overlap_from_interval_w_split(\n",
    "    interval, \n",
    "    overlap, \n",
    "    split_interval=False\n",
    "):\n",
    "    r\"\"\"\n",
    "    Not really used anywhere.\n",
    "    This is how remove_overlap_from_interval was originally written, but I reduced the functionality to\n",
    "      simplify things.\n",
    "    So, this exists in case I desire the functionality later.\n",
    "    \n",
    "    Given an input interval and possible overlap interval, remove overlap from the interval.\n",
    "    Both interval and overlap should be lists/tuples of length 2 whose elements represent the beginning and\n",
    "      ending of the interval.\n",
    "    \n",
    "    By default, this will not split the input interval.\n",
    "        If the overlap does split the interval, the portion of interval occurring prior to the overlap will be returned.\n",
    "        The intent of this function is to remove any DOVS events overlapping with the algorithm outage times.\n",
    "        Therefore, in such a split situation, we would not want anything after the first overlap.\n",
    "    --------------------------------------------------\n",
    "    There are basically 4 distinct situations\n",
    "      1. overlap completely encompasses interval \n",
    "           ==> returned interval should be empty\n",
    "      2. interval completely encompasses overlap\n",
    "           - if split_interval==True: \n",
    "                 return the two sub-intervals on either side of overlap\n",
    "           - if split_interval==False: \n",
    "                 return the first sub-interval which occurs prior to overlap\n",
    "      3. overlap begins BEFORE interval begins and ends BEFORE interval ends\n",
    "           ==> return portion of interval occurring after overlap ends\n",
    "      4. overlap begins AFTER interval begins and ends AFTER interval ends\n",
    "           ==> return portion of interval occurring before overlap begins\n",
    "    \"\"\"\n",
    "    #--------------------------------------------------\n",
    "    assert(Utilities.is_object_one_of_types(interval, [list, tuple]))\n",
    "    assert(Utilities.is_object_one_of_types(overlap, [list, tuple]))\n",
    "    #-----\n",
    "    if len(interval)==0:\n",
    "        return interval\n",
    "    #-----\n",
    "    assert(len(interval)==2)\n",
    "    assert(len(overlap)==2)\n",
    "    #-----\n",
    "    assert(interval[1] > interval[0])\n",
    "    assert(overlap[1]  > overlap[0])\n",
    "    #-------------------------\n",
    "    # If the two do not overlap, simply return interval\n",
    "    if not pd.Interval(interval[0], interval[1]).overlaps(pd.Interval(overlap[0], overlap[1])):\n",
    "        return interval\n",
    "    #--------------------------------------------------\n",
    "    # 4 distinct situations described in function documentation\n",
    "    #-------------------------\n",
    "    # 1. overlap completely encompasses interval \n",
    "    if (overlap[0] <= interval[0]) and (overlap[1] >= interval[1]):\n",
    "        return []\n",
    "    #-------------------------\n",
    "    # 2. interval completely encompasses overlap\n",
    "    if (interval[0] <= overlap[0]) and (interval[1] >= overlap[1]):\n",
    "        intrvl_1 = [interval[0], overlap[0]]\n",
    "        intrvl_2 = [overlap[1],  interval[1]]\n",
    "        if split_interval:\n",
    "            return intrvl_1, intrvl_2\n",
    "        else:\n",
    "            return intrvl_1\n",
    "        \n",
    "    #-------------------------\n",
    "    # 3. overlap begins BEFORE interval begins and ends BEFORE interval ends\n",
    "    #     ==> return portion of interval occurring after overlap ends\n",
    "    if overlap[0] < interval[0]:\n",
    "        assert(overlap[1] < interval[1])\n",
    "        return [overlap[1], interval[1]]\n",
    "    \n",
    "    #-------------------------\n",
    "    # 4. overlap begins AFTER interval begins and ends AFTER interval ends\n",
    "    #     ==> return portion of interval occurring before overlap begins\n",
    "    if overlap[0] > interval[0]:\n",
    "        assert(overlap[1] > interval[1])\n",
    "        return [interval[0], overlap[0]]\n",
    "    \n",
    "    #-------------------------\n",
    "    # SHOULD NEVER REACH THIS POINT!\n",
    "    print('In remove_overlap_from_interval: None of 4 distinct situations caught current!\\nCRASH IMMINENT!')\n",
    "    print(f'interval = {interval}')\n",
    "    print(f'overlap  = {overlap}')\n",
    "    assert(0)"
   ]
  },
  {
   "cell_type": "code",
   "execution_count": null,
   "id": "3ecb2a95",
   "metadata": {},
   "outputs": [],
   "source": [
    "def remove_overlap_from_interval(\n",
    "    interval, \n",
    "    overlap, \n",
    "    return_removed=False\n",
    "):\n",
    "    r\"\"\"\n",
    "    Given an input interval and possible overlap interval, remove overlap from the interval.\n",
    "    Both interval and overlap should be lists/tuples of length 2 whose elements represent the beginning and\n",
    "      ending of the interval.\n",
    "    \n",
    "    This will NOT split the input interval.\n",
    "        If the overlap does split the interval, the portion of interval occurring prior to the overlap will be returned.\n",
    "        The intent of this function is to remove any DOVS events overlapping with the algorithm outage times.\n",
    "        Therefore, in such a split situation, we would not want anything after the first overlap.\n",
    "    --------------------------------------------------\n",
    "    There are basically 4 distinct situations\n",
    "      1. overlap completely encompasses interval \n",
    "           ==> returned interval should be empty\n",
    "      2. interval completely encompasses overlap\n",
    "           ==> return the first sub-interval which occurs prior to overlap\n",
    "      3. overlap begins BEFORE interval begins and ends BEFORE interval ends\n",
    "           ==> return portion of interval occurring after overlap ends\n",
    "      4. overlap begins AFTER interval begins and ends AFTER interval ends\n",
    "           ==> return portion of interval occurring before overlap begins\n",
    "    \"\"\"\n",
    "    #--------------------------------------------------\n",
    "    assert(Utilities.is_object_one_of_types(interval, [list, tuple]))\n",
    "    assert(Utilities.is_object_one_of_types(overlap, [list, tuple]))\n",
    "    #-----\n",
    "    if len(interval)==0:\n",
    "        if return_removed:\n",
    "            return interval, []\n",
    "        return interval\n",
    "    #-----\n",
    "    assert(len(interval)==2)\n",
    "    assert(len(overlap)==2)\n",
    "    #-----\n",
    "    assert(interval[1] > interval[0])\n",
    "    assert(overlap[1]  > overlap[0])\n",
    "    #-------------------------\n",
    "    # If the two do not overlap, simply return interval\n",
    "    if not pd.Interval(interval[0], interval[1]).overlaps(pd.Interval(overlap[0], overlap[1])):\n",
    "        rtrn_intrvl = []\n",
    "        rmvd_intrvl = []\n",
    "        if return_removed:\n",
    "            return rtrn_intrvl, rmvd_intrvl\n",
    "        return rtrn_intrvl\n",
    "    #--------------------------------------------------\n",
    "    # 4 distinct situations described in function documentation\n",
    "    #-------------------------\n",
    "    # 1. overlap completely encompasses interval \n",
    "    if (overlap[0] <= interval[0]) and (overlap[1] >= interval[1]):\n",
    "        rtrn_intrvl = []\n",
    "        rmvd_intrvl = [overlap[0], overlap[1]]\n",
    "        if return_removed:\n",
    "            return rtrn_intrvl, rmvd_intrvl\n",
    "        return rtrn_intrvl\n",
    "    #-------------------------\n",
    "    # 2. interval completely encompasses overlap\n",
    "    if (interval[0] <= overlap[0]) and (interval[1] >= overlap[1]):\n",
    "        rtrn_intrvl = [interval[0], overlap[0]]\n",
    "        rmvd_intrvl = [overlap[0], interval[1]]\n",
    "        if return_removed:\n",
    "            return rtrn_intrvl, rmvd_intrvl\n",
    "        return rtrn_intrvl\n",
    "        \n",
    "    #-------------------------\n",
    "    # 3. overlap begins BEFORE interval begins and ends BEFORE interval ends\n",
    "    #     ==> return portion of interval occurring after overlap ends\n",
    "    if overlap[0] < interval[0]:\n",
    "        assert(overlap[1] < interval[1])\n",
    "        rtrn_intrvl = [overlap[1], interval[1]]\n",
    "        rmvd_intrvl = [overlap[0], overlap[1]]\n",
    "        if return_removed:\n",
    "            return rtrn_intrvl, rmvd_intrvl\n",
    "        return rtrn_intrvl\n",
    "    \n",
    "    #-------------------------\n",
    "    # 4. overlap begins AFTER interval begins and ends AFTER interval ends\n",
    "    #     ==> return portion of interval occurring before overlap begins\n",
    "    if overlap[0] > interval[0]:\n",
    "        assert(overlap[1] > interval[1])\n",
    "        rtrn_intrvl = [interval[0], overlap[0]]\n",
    "        rmvd_intrvl = [overlap[0], overlap[1]]\n",
    "        if return_removed:\n",
    "            return rtrn_intrvl, rmvd_intrvl\n",
    "        return rtrn_intrvl\n",
    "    \n",
    "    #-------------------------\n",
    "    # SHOULD NEVER REACH THIS POINT!\n",
    "    print('In remove_overlap_from_interval: None of 4 distinct situations caught current!\\nCRASH IMMINENT!')\n",
    "    print(f'interval = {interval}')\n",
    "    print(f'overlap  = {overlap}')\n",
    "    assert(0)"
   ]
  },
  {
   "cell_type": "code",
   "execution_count": null,
   "id": "b9ccab05",
   "metadata": {},
   "outputs": [],
   "source": [
    "def remove_overlaps_from_interval(\n",
    "    interval, \n",
    "    overlaps, \n",
    "    return_removed=False\n",
    "):\n",
    "    r\"\"\"\n",
    "    Remove multiple possible overlaps from interval\n",
    "    \"\"\"\n",
    "    #-------------------------\n",
    "    assert(isinstance(overlaps, list))\n",
    "    assert(Utilities.are_all_list_elements_one_of_types(lst=overlaps, types=[list, tuple]))\n",
    "    assert(Utilities.are_list_elements_lengths_homogeneous(lst=overlaps, length=2))\n",
    "    #-------------------------\n",
    "    return_int = copy.deepcopy(interval)\n",
    "    removed_intrvls = []\n",
    "    for overlap_i in overlaps:\n",
    "        if len(return_int)==0:\n",
    "            break\n",
    "        return_int, rmvd_intrvl_i = remove_overlap_from_interval(\n",
    "            interval       = return_int, \n",
    "            overlap        = overlap_i, \n",
    "            return_removed = True\n",
    "        )\n",
    "        removed_intrvls.append(rmvd_intrvl_i)\n",
    "    #-------------------------\n",
    "    if return_removed:\n",
    "        return return_int, removed_intrvls\n",
    "    return return_int"
   ]
  },
  {
   "cell_type": "code",
   "execution_count": null,
   "id": "e1818aa5",
   "metadata": {},
   "outputs": [],
   "source": [
    "best_ests_df_w_keep_info = audit_i.best_ests_df_w_keep_info.copy()"
   ]
  },
  {
   "cell_type": "code",
   "execution_count": null,
   "id": "5b0767e4",
   "metadata": {},
   "outputs": [],
   "source": [
    "best_ests_df_w_keep_info"
   ]
  },
  {
   "cell_type": "code",
   "execution_count": null,
   "id": "a7ebc169",
   "metadata": {},
   "outputs": [],
   "source": [
    "# winner_min    = best_ests_df_w_keep_info[best_ests_df_w_keep_info['keep']==False].iloc[0]['winner_min']\n",
    "# winner_max    = best_ests_df_w_keep_info[best_ests_df_w_keep_info['keep']==False].iloc[0]['winner_max']\n",
    "# overlap_times = best_ests_df_w_keep_info[best_ests_df_w_keep_info['keep']==False].iloc[0]['overlap_times']\n",
    "\n",
    "winner_min    = best_ests_df_w_keep_info.iloc[3]['winner_min']\n",
    "winner_max    = best_ests_df_w_keep_info.iloc[3]['winner_max']\n",
    "overlap_times = best_ests_df_w_keep_info.iloc[3]['overlap_times']\n",
    "\n",
    "print(winner_min)\n",
    "print(winner_max)\n",
    "print(overlap_times)"
   ]
  },
  {
   "cell_type": "code",
   "execution_count": null,
   "id": "01891f58",
   "metadata": {},
   "outputs": [],
   "source": [
    "# remove_overlap_from_interval(\n",
    "#     interval = [winner_min, winner_max], \n",
    "#     overlap = overlap_times[0], \n",
    "#     return_removed=False\n",
    "# )"
   ]
  },
  {
   "cell_type": "code",
   "execution_count": null,
   "id": "7f69bc01",
   "metadata": {},
   "outputs": [],
   "source": [
    "# remove_overlap_from_interval(\n",
    "#     interval = [winner_min, winner_max], \n",
    "#     overlap = overlap_times[0], \n",
    "#     return_removed=True\n",
    "# )"
   ]
  },
  {
   "cell_type": "code",
   "execution_count": null,
   "id": "16975886",
   "metadata": {},
   "outputs": [],
   "source": [
    "# r1,r2 = remove_overlaps_from_interval(\n",
    "#     interval = [winner_min, winner_max], \n",
    "#     overlaps = overlap_times, \n",
    "#     return_removed=True\n",
    "# )\n",
    "# print(r1)\n",
    "# print(r2)"
   ]
  },
  {
   "cell_type": "code",
   "execution_count": null,
   "id": "cc862ad1",
   "metadata": {},
   "outputs": [],
   "source": []
  },
  {
   "cell_type": "code",
   "execution_count": null,
   "id": "42dbabed",
   "metadata": {},
   "outputs": [],
   "source": [
    "ovrlp_audit_j.best_ests_df_w_keep_info"
   ]
  },
  {
   "cell_type": "code",
   "execution_count": null,
   "id": "781b03cc",
   "metadata": {},
   "outputs": [],
   "source": [
    "# Easiest situation:\n",
    "#   outg_rec_nb_a finds      two sub-outages, with sub_a_1 marked keep=True  and sub_a_2 marked keep=False\n",
    "#   outg_rec_nb_b finds same two sub-outages, with sub_a_1 marked keep=False and sub_a_2 marked keep=True"
   ]
  },
  {
   "cell_type": "code",
   "execution_count": null,
   "id": "1db17e43",
   "metadata": {},
   "outputs": [],
   "source": [
    "# Can't get around doing this PN-by-PN"
   ]
  },
  {
   "cell_type": "code",
   "execution_count": null,
   "id": "8510d3a0",
   "metadata": {},
   "outputs": [],
   "source": [
    "best_ests_df_w_keep_info = audit_i.best_ests_df_w_keep_info.copy()"
   ]
  },
  {
   "cell_type": "code",
   "execution_count": null,
   "id": "6cd42e2e",
   "metadata": {},
   "outputs": [],
   "source": []
  },
  {
   "cell_type": "code",
   "execution_count": null,
   "id": "f9a6ac15",
   "metadata": {},
   "outputs": [],
   "source": [
    "def remove_overlaps_for_PN_i(\n",
    "    best_ests_df_i, \n",
    "    ovrlp_be_df, \n",
    "    t_min_col_idx, \n",
    "    t_max_col_idx, \n",
    "    rmvd_times_col_idx, \n",
    "    PN_col='PN', \n",
    "    keep_col='keep'\n",
    "):\n",
    "    r\"\"\"\n",
    "    HELPER FUNCTION! Not designed to be used on its own\n",
    "        \n",
    "    In reality, best_ests_df_i should be best_ests_df_w_keep_info_i, but I didn't feel like carrying such a heavy\n",
    "      name around the entire function\n",
    "    \"\"\"\n",
    "    #-------------------------\n",
    "    assert(best_ests_df_i[PN_col].nunique()==1)\n",
    "    best_ests_df_i = best_ests_df_i.copy()\n",
    "    #-------------------------\n",
    "    PN_i = best_ests_df_i[PN_col].unique().tolist()[0]\n",
    "    ovrlp_be_df_i = ovrlp_be_df[ovrlp_be_df[PN_col]==PN_i]\n",
    "    if ovrlp_be_df_i.shape[0]==0:\n",
    "        return best_ests_df_i\n",
    "    #-------------------------\n",
    "    t_min_col = best_ests_df_i.columns.tolist()[t_min_col_idx]\n",
    "    t_max_col = best_ests_df_i.columns.tolist()[t_max_col_idx]\n",
    "    #-------------------------\n",
    "    # Annoying, but ovrlp_intervals_i needs to be a list of 2-d lists holding timestamp objects.\n",
    "    #   Calling .values.tolist() converts the timestamps to ints, which is the annoying part.\n",
    "    #   Therefore, I have to use pd.to_datetime() to convert back\n",
    "    ovrlp_intervals_i = ovrlp_be_df_i[[t_min_col, t_max_col]].values\n",
    "    ovrlp_intervals_i = [[pd.to_datetime(intrvl[0]), pd.to_datetime(intrvl[1])] for intrvl in ovrlp_intervals_i.tolist()]\n",
    "    # Can't get around doing this row-by-row\n",
    "    for idx_j in range(best_ests_df_i.shape[0]):\n",
    "        #-------------------------\n",
    "        if best_ests_df_i.iloc[idx_j][keep_col]==True:\n",
    "            continue\n",
    "        #-------------------------\n",
    "        t_min_j = best_ests_df_i.iloc[idx_j][t_min_col]\n",
    "        t_max_j = best_ests_df_i.iloc[idx_j][t_max_col]\n",
    "        #-----\n",
    "        interval_j, removed_j = remove_overlaps_from_interval(\n",
    "            interval = [t_min_j, t_max_j], \n",
    "            overlaps = ovrlp_intervals_i, \n",
    "            return_removed=True\n",
    "        )\n",
    "        #-----\n",
    "        if len(interval_j)==0:\n",
    "            best_ests_df_i.iloc[idx_j, t_min_col_idx] = None\n",
    "            best_ests_df_i.iloc[idx_j, t_max_col_idx] = None\n",
    "        else:\n",
    "            best_ests_df_i.iloc[idx_j, t_min_col_idx] = interval_j[0]\n",
    "            best_ests_df_i.iloc[idx_j, t_max_col_idx] = interval_j[1]\n",
    "        #-----\n",
    "        # NOTE: Using iat instead of iloc.\n",
    "        #       Using iloc gives \"ValueError: Must have equal len keys and value when setting with an ndarray\"\n",
    "        #         because pandas thinks I am interacting with multiple rows\n",
    "        #       Using iat resolves the confusion by letting pandas know I am dealing with a single element\n",
    "        best_ests_df_i.iat[idx_j, rmvd_times_col_idx] = removed_j\n",
    "    #-------------------------\n",
    "    return best_ests_df_i"
   ]
  },
  {
   "cell_type": "code",
   "execution_count": null,
   "id": "cfb73333",
   "metadata": {},
   "outputs": [],
   "source": []
  },
  {
   "cell_type": "code",
   "execution_count": null,
   "id": "c56bdf71",
   "metadata": {},
   "outputs": [],
   "source": []
  },
  {
   "cell_type": "code",
   "execution_count": null,
   "id": "54256dc6",
   "metadata": {},
   "outputs": [],
   "source": [
    "# def remove_overlaps_from_best_ests(\n",
    "#     best_ests_df, \n",
    "#     ovrlp_be_df, \n",
    "#     PN_col='PN', \n",
    "#     t_min_col='winner_min', \n",
    "#     t_max_col='winner_max', \n",
    "#     keep_col='keep'\n",
    "# ):\n",
    "#     r\"\"\"\n",
    "#     In reality, best_ests_df should be best_ests_df_w_keep_info, but I didn't feel like carrying such a heavy\n",
    "#       name around the entire function\n",
    "#     \"\"\"\n",
    "#     #-------------------------"
   ]
  },
  {
   "cell_type": "code",
   "execution_count": null,
   "id": "660e3359",
   "metadata": {},
   "outputs": [],
   "source": [
    "best_ests_df = best_ests_df_w_keep_info.copy()\n",
    "ovrlp_be_df = ovrlp_audit_j.best_ests_df_w_keep_info.copy()\n",
    "PN_col='PN'\n",
    "t_min_col='winner_min'\n",
    "t_max_col='winner_max'\n",
    "keep_col='keep'"
   ]
  },
  {
   "cell_type": "code",
   "execution_count": null,
   "id": "ece48ac0",
   "metadata": {},
   "outputs": [],
   "source": [
    "#--------------------------------------------------\n",
    "t_min_OG_col = t_min_col+'_OG'\n",
    "if t_min_OG_col in best_ests_df.columns.tolist():\n",
    "    t_min_OG_col = t_min_OG_col+'_'+Utilities.generate_random_string(str_len=4)\n",
    "#-----\n",
    "t_max_OG_col = t_max_col+'_OG'\n",
    "if t_max_OG_col in best_ests_df.columns.tolist():\n",
    "    t_max_OG_col = t_max_OG_col+'_'+Utilities.generate_random_string(str_len=4)\n",
    "#-----\n",
    "removed_times_col = 'removed_times'\n",
    "if removed_times_col in best_ests_df.columns.tolist():\n",
    "    removed_times_col = removed_times_col+'_'+Utilities.generate_random_string(str_len=4)\n",
    "#-----\n",
    "assert(t_min_OG_col not in best_ests_df.columns.tolist())\n",
    "assert(t_max_OG_col not in best_ests_df.columns.tolist())\n",
    "assert(removed_times_col not in best_ests_df.columns.tolist())\n",
    "#-------------------------\n",
    "best_ests_df[t_min_OG_col]      = best_ests_df[t_min_col]\n",
    "best_ests_df[t_max_OG_col]      = best_ests_df[t_max_col]\n",
    "best_ests_df[removed_times_col] = [[] for _ in range(best_ests_df.shape[0])]\n",
    "#--------------------------------------------------\n",
    "t_min_col_idx = Utilities_df.find_idxs_in_highest_order_of_columns(\n",
    "    df = best_ests_df, \n",
    "    col = 'winner_min', \n",
    "    exact_match=True, \n",
    "    assert_single=True\n",
    ")\n",
    "t_max_col_idx = Utilities_df.find_idxs_in_highest_order_of_columns(\n",
    "    df = best_ests_df, \n",
    "    col = 'winner_max', \n",
    "    exact_match=True, \n",
    "    assert_single=True\n",
    ")\n",
    "rmvd_times_col_idx = Utilities_df.find_idxs_in_highest_order_of_columns(\n",
    "    df = best_ests_df, \n",
    "    col = 'removed_times', \n",
    "    exact_match=True, \n",
    "    assert_single=True\n",
    ")\n",
    "#--------------------------------------------------\n",
    "return_df = best_ests_df.groupby(PN_col, as_index=False, group_keys=False).apply(\n",
    "    lambda x: remove_overlaps_for_PN_i(\n",
    "        best_ests_df_i     = x, \n",
    "        ovrlp_be_df        = ovrlp_be_df, \n",
    "        t_min_col_idx      = t_min_col_idx, \n",
    "        t_max_col_idx      = t_max_col_idx, \n",
    "        rmvd_times_col_idx = rmvd_times_col_idx, \n",
    "        PN_col             = PN_col, \n",
    "        keep_col           = keep_col\n",
    "    )\n",
    ")\n",
    "#!!!!!!!!!! May want ot save status of return_df right now to some class member in case need to examine later\n",
    "#--------------------------------------------------\n",
    "# First, call dropna with how='all'\n",
    "#   This should handle all cases, but I would like to be notified if a sub-outage has a value for t_min_col\n",
    "#     but not for t_max_col (or vice-versa)\n",
    "return_df = return_df.dropna(subset=[t_min_col, t_max_col], how='all')\n",
    "# NOTE: If one wanted to identify the rows for which one member is NA, one could use\n",
    "#         return_df[[t_min_col, t_max_col]].isna().sum(axis=1)>0\n",
    "assert(return_df[[t_min_col, t_max_col]].isna().sum().sum()==0)\n",
    "#--------------------------------------------------\n",
    "return_df = DOVSAudit.set_i_outg_in_best_ests_df(\n",
    "    best_ests_df = return_df, \n",
    "    groupby_cols = [PN_col], \n",
    "    sort_cols    = [t_min_col, t_min_col], \n",
    "    i_outg_col   = 'i_outg'\n",
    ")"
   ]
  },
  {
   "cell_type": "code",
   "execution_count": null,
   "id": "30022199",
   "metadata": {},
   "outputs": [],
   "source": []
  },
  {
   "cell_type": "code",
   "execution_count": null,
   "id": "07b794b1",
   "metadata": {},
   "outputs": [],
   "source": []
  },
  {
   "cell_type": "code",
   "execution_count": null,
   "id": "7b92f0a9",
   "metadata": {},
   "outputs": [],
   "source": [
    "# First, call dropna with how='all'\n",
    "#   This should handle all cases, but I would like to be notified if a sub-outage has a value for t_min_col\n",
    "#     but not for t_max_col (or vice-versa)\n",
    "return_df = return_df.dropna(subset=[t_min_col, t_max_col], how='all')\n",
    "# NOTE: If one wanted to identify the rows for which one member is NA, one could use\n",
    "#         return_df[[t_min_col, t_max_col]].isna().sum(axis=1)>0\n",
    "assert(return_df[[t_min_col, t_max_col]].isna().sum().sum()==0)"
   ]
  },
  {
   "cell_type": "code",
   "execution_count": null,
   "id": "52d8805c",
   "metadata": {},
   "outputs": [],
   "source": [
    "return_df = DOVSAudit.set_i_outg_in_best_ests_df(\n",
    "    best_ests_df = return_df, \n",
    "    groupby_cols = [PN_col], \n",
    "    sort_cols    = [t_min_col, t_min_col], \n",
    "    i_outg_col   = 'i_outg'\n",
    ")"
   ]
  },
  {
   "cell_type": "code",
   "execution_count": null,
   "id": "3582b924",
   "metadata": {},
   "outputs": [],
   "source": [
    "return_df"
   ]
  },
  {
   "cell_type": "code",
   "execution_count": null,
   "id": "d05e214b",
   "metadata": {},
   "outputs": [],
   "source": [
    "best_ests_df"
   ]
  },
  {
   "cell_type": "code",
   "execution_count": null,
   "id": "4ab44c06",
   "metadata": {},
   "outputs": [],
   "source": []
  },
  {
   "cell_type": "code",
   "execution_count": null,
   "id": "2580ccb3",
   "metadata": {},
   "outputs": [],
   "source": []
  },
  {
   "cell_type": "code",
   "execution_count": null,
   "id": "c0d3c756",
   "metadata": {},
   "outputs": [],
   "source": []
  },
  {
   "cell_type": "code",
   "execution_count": null,
   "id": "ad48dade",
   "metadata": {},
   "outputs": [],
   "source": [
    "# def is_PN_suboutg_split_across_DOVS()"
   ]
  },
  {
   "cell_type": "code",
   "execution_count": null,
   "id": "a4e5af3b",
   "metadata": {},
   "outputs": [],
   "source": [
    "audit_i.best_ests_df_w_keep_info"
   ]
  },
  {
   "cell_type": "code",
   "execution_count": null,
   "id": "6fd469bd",
   "metadata": {
    "scrolled": true
   },
   "outputs": [],
   "source": [
    "ovrlp_audit_j.best_ests_df_w_keep_info"
   ]
  },
  {
   "cell_type": "code",
   "execution_count": null,
   "id": "9d89d9a2",
   "metadata": {},
   "outputs": [],
   "source": [
    "ovrlp_audit_j.dovs_df_i.iloc[0]['premise_nbs']"
   ]
  },
  {
   "cell_type": "code",
   "execution_count": null,
   "id": "044679eb",
   "metadata": {},
   "outputs": [],
   "source": [
    "PN_j = '040587963'\n",
    "be_df_j = audit_i.best_ests_df_w_keep_info[audit_i.best_ests_df_w_keep_info[PN_col]==PN_i]\n",
    "ovrlp_be_df_j = ovrlp_audit_j.best_ests_df_w_keep_info[ovrlp_audit_j.best_ests_df_w_keep_info[PN_col]==PN_i]"
   ]
  },
  {
   "cell_type": "code",
   "execution_count": null,
   "id": "1fdeaf9f",
   "metadata": {},
   "outputs": [],
   "source": [
    "be_df_i"
   ]
  },
  {
   "cell_type": "code",
   "execution_count": null,
   "id": "be1d161c",
   "metadata": {},
   "outputs": [],
   "source": [
    "ovrlp_be_df_j"
   ]
  },
  {
   "cell_type": "code",
   "execution_count": null,
   "id": "94d71e0b",
   "metadata": {},
   "outputs": [],
   "source": []
  },
  {
   "cell_type": "code",
   "execution_count": null,
   "id": "28864114",
   "metadata": {},
   "outputs": [],
   "source": [
    "be_df_j[['winner_min', 'winner_max', 'keep']].value_counts().index.tolist()"
   ]
  },
  {
   "cell_type": "code",
   "execution_count": null,
   "id": "cf38faa1",
   "metadata": {},
   "outputs": [],
   "source": [
    "be_df_j.groupby(['winner_min', 'winner_max', 'keep']).groups.keys()"
   ]
  },
  {
   "cell_type": "code",
   "execution_count": null,
   "id": "c1c02838",
   "metadata": {},
   "outputs": [],
   "source": []
  },
  {
   "cell_type": "code",
   "execution_count": null,
   "id": "82a57df8",
   "metadata": {},
   "outputs": [],
   "source": [
    "gps       = be_df_j[['winner_min', 'winner_max', 'keep']].value_counts().index.tolist()\n",
    "ovrlp_gps = ovrlp_be_df_j[['winner_min', 'winner_max', 'keep']].value_counts().index.tolist()"
   ]
  },
  {
   "cell_type": "code",
   "execution_count": null,
   "id": "2a4804ae",
   "metadata": {},
   "outputs": [],
   "source": [
    "set(gps).symmetric_difference(ovrlp_gps)"
   ]
  },
  {
   "cell_type": "code",
   "execution_count": null,
   "id": "fbf95ccf",
   "metadata": {},
   "outputs": [],
   "source": [
    "if set(gps).symmetric_difference(ovrlp_gps)==set():\n",
    "    # I want to be notified when there are multiple sub-outages\n",
    "    # Currently coded for single\n",
    "    assert(len(gps)==len(ovrlp_gps)==1)"
   ]
  },
  {
   "cell_type": "code",
   "execution_count": null,
   "id": "18add917",
   "metadata": {},
   "outputs": [],
   "source": [
    "# Look at AMI data and see if power ever lost between two "
   ]
  },
  {
   "cell_type": "code",
   "execution_count": null,
   "id": "3a4346b0",
   "metadata": {},
   "outputs": [],
   "source": [
    "tmp_df = audit_i.ami_df_i[audit_i.ami_df_i['aep_premise_nb']==PN_j].copy()\n",
    "tmp_df = tmp_df[\n",
    "    (tmp_df['starttimeperiod_local'] >= be_df_i['winner_min'].min()) & \n",
    "    (tmp_df['endtimeperiod_local']   <= be_df_i['winner_max'].max())\n",
    "].copy()"
   ]
  },
  {
   "cell_type": "code",
   "execution_count": null,
   "id": "3f936208",
   "metadata": {},
   "outputs": [],
   "source": [
    "(tmp_df['value']!=0).any()"
   ]
  },
  {
   "cell_type": "code",
   "execution_count": null,
   "id": "bcb9a725",
   "metadata": {},
   "outputs": [],
   "source": []
  },
  {
   "cell_type": "code",
   "execution_count": null,
   "id": "4a2ed791",
   "metadata": {},
   "outputs": [],
   "source": []
  },
  {
   "cell_type": "code",
   "execution_count": null,
   "id": "9ef9ead4",
   "metadata": {},
   "outputs": [],
   "source": []
  },
  {
   "cell_type": "code",
   "execution_count": null,
   "id": "5bf6195c",
   "metadata": {},
   "outputs": [],
   "source": []
  },
  {
   "cell_type": "code",
   "execution_count": null,
   "id": "ce8cc4d1",
   "metadata": {},
   "outputs": [],
   "source": []
  },
  {
   "cell_type": "code",
   "execution_count": null,
   "id": "befe445b",
   "metadata": {},
   "outputs": [],
   "source": []
  },
  {
   "cell_type": "code",
   "execution_count": null,
   "id": "6cd323b3",
   "metadata": {},
   "outputs": [],
   "source": []
  },
  {
   "cell_type": "code",
   "execution_count": null,
   "id": "81e2c9c5",
   "metadata": {},
   "outputs": [],
   "source": []
  },
  {
   "cell_type": "code",
   "execution_count": null,
   "id": "c5ac537e",
   "metadata": {},
   "outputs": [],
   "source": []
  },
  {
   "cell_type": "code",
   "execution_count": null,
   "id": "76cdf6c3",
   "metadata": {},
   "outputs": [],
   "source": [
    "%run ./check_DOVS_METHODS.ipynb"
   ]
  },
  {
   "cell_type": "code",
   "execution_count": null,
   "id": "36fe2da5",
   "metadata": {},
   "outputs": [],
   "source": [
    "# outg_rec_nb = '13551139'\n",
    "# outg_rec_nb = '13530407'\n",
    "outg_rec_nb = '13591325'"
   ]
  },
  {
   "cell_type": "code",
   "execution_count": null,
   "id": "76ee1536",
   "metadata": {},
   "outputs": [],
   "source": [
    "search_time_half_window=pd.Timedelta('24 hours')\n",
    "#-------------------------\n",
    "audit_i = DOVSAudit(\n",
    "    outg_rec_nb=outg_rec_nb\n",
    ")\n",
    "#-------------------------\n",
    "audit_i.load_dovs(\n",
    "    dovs_df           = None, \n",
    "    dovs_df_info_dict = None\n",
    ")\n",
    "#-------------------------\n",
    "audit_i.build_mp_df(\n",
    "    drop_mp_dups_fuzziness=pd.Timedelta('1 hour')\n",
    ")\n",
    "#-------------------------\n",
    "audit_i.run_ami_and_ede_daq(\n",
    "    search_time_half_window=search_time_half_window\n",
    ")"
   ]
  },
  {
   "cell_type": "code",
   "execution_count": null,
   "id": "ebb26484",
   "metadata": {},
   "outputs": [],
   "source": []
  },
  {
   "cell_type": "code",
   "execution_count": null,
   "id": "a350f4d9",
   "metadata": {},
   "outputs": [],
   "source": [
    "audit_i.build_best_ests_df()\n",
    "audit_i.best_ests_df"
   ]
  },
  {
   "cell_type": "code",
   "execution_count": null,
   "id": "7741453f",
   "metadata": {},
   "outputs": [],
   "source": []
  },
  {
   "cell_type": "code",
   "execution_count": null,
   "id": "ef2c6691",
   "metadata": {},
   "outputs": [],
   "source": [
    "audit_i.identify_overlaps(overlaps_dovs_sql_fcn=DOVSOutages_SQL.build_sql_outage)"
   ]
  },
  {
   "cell_type": "code",
   "execution_count": null,
   "id": "39cbb377",
   "metadata": {},
   "outputs": [],
   "source": [
    "audit_i.best_ests_df_w_keep_info"
   ]
  },
  {
   "cell_type": "code",
   "execution_count": null,
   "id": "39262fca",
   "metadata": {},
   "outputs": [],
   "source": [
    "fig_num=0"
   ]
  },
  {
   "cell_type": "code",
   "execution_count": null,
   "id": "c214c43b",
   "metadata": {},
   "outputs": [],
   "source": []
  },
  {
   "cell_type": "code",
   "execution_count": null,
   "id": "721fffcf",
   "metadata": {},
   "outputs": [],
   "source": [
    "best_ests_df = audit_i.best_ests_df.copy()\n",
    "ami_df_i = audit_i.ami_df_i.copy()\n",
    "#-----\n",
    "dovs_outg_t_beg_end = audit_i.dovs_outg_t_beg_end\n",
    "dovs_outg_t_beg = dovs_outg_t_beg_end[0]\n",
    "dovs_outg_t_end = dovs_outg_t_beg_end[1]\n",
    "#-----\n",
    "outage_nb  = audit_i.outage_nb\n",
    "n_PNs_dovs = audit_i.n_PNs_dovs\n",
    "ci_dovs    = audit_i.ci_cmi_dovs[0]\n",
    "cmi_dovs   = audit_i.ci_cmi_dovs[1]\n",
    "ci_ami     = best_ests_df['PN'].nunique() \n",
    "cmi_ami    = (best_ests_df['winner_max']-best_ests_df['winner_min']).sum().total_seconds()/60\n",
    "threshold=95\n",
    "#-------------------------\n",
    "outg_SNs = best_ests_df['PN'].unique().tolist()\n",
    "ami_df_i_out      = ami_df_i[ami_df_i['aep_premise_nb'].isin(outg_SNs)]\n",
    "ami_df_i_not_out  = ami_df_i[~ami_df_i['aep_premise_nb'].isin(outg_SNs)]\n",
    "#-------------------------\n",
    "means_df, best_ests_df_w_db_lbl = DOVSAudit.get_mean_times_w_dbscan(\n",
    "    best_ests_df, \n",
    "    eps_min=5, \n",
    "    min_samples=2, \n",
    "    ests_to_include_in_clustering=['winner_min', 'winner_max'],\n",
    "    ests_to_include_in_output=[\n",
    "        'winner_min', 'winner_max', \n",
    "        'conservative_min', 'conservative_max', \n",
    "        'zero_times_min', 'zero_times_max'\n",
    "    ], \n",
    "    return_labelled_best_ests_df=True\n",
    ")\n",
    "#-------------------------\n",
    "n_PNs_w_power_srs = DOVSAudit.build_n_PNs_w_power_srs(\n",
    "    best_ests_df, \n",
    "    ami_df_i, \n",
    "    return_pct=True, \n",
    "    PN_col='PN', \n",
    "    t_min_col='winner_min', \n",
    "    t_max_col='winner_max', \n",
    "    i_outg_col='i_outg', \n",
    "    PN_col_ami_df='aep_premise_nb'\n",
    ")"
   ]
  },
  {
   "cell_type": "code",
   "execution_count": null,
   "id": "887cf80c",
   "metadata": {},
   "outputs": [],
   "source": [
    "fig, axs = plot_all_out_not_NEW(\n",
    "    fig_num              = fig_num, \n",
    "    ami_df_i             = ami_df_i, \n",
    "    ami_df_i_out         = ami_df_i_out, \n",
    "    ami_df_i_not_out     = ami_df_i_not_out, \n",
    "    dovs_outg_t_beg      = dovs_outg_t_beg, \n",
    "    dovs_outg_t_end      = dovs_outg_t_end, \n",
    "    cnsrvtv_out_t_beg    = best_ests_df['conservative_min'].min(), \n",
    "    cnsrvtv_out_t_end    = best_ests_df['conservative_max'].max(), \n",
    "    means_df             = means_df, \n",
    "    outg_rec_nb          = outg_rec_nb, \n",
    "    outage_nb            = outage_nb, \n",
    "    n_PNs_dovs           = n_PNs_dovs, \n",
    "    ci_dovs              = ci_dovs, \n",
    "    cmi_dovs             = cmi_dovs, \n",
    "    ci_ami               = ci_ami, \n",
    "    cmi_ami              = cmi_ami, \n",
    "    name                 = 'AMI', \n",
    "    results_2_dict       = None, \n",
    "    expand_time          = pd.Timedelta('1 hour'), \n",
    "    mean_keys_to_include = ['winner', 'conservative', 'zero_times'], \n",
    "    removed_due_to_overlap_col='removed_due_to_overlap', \n",
    "    default_subplots_args=dict(n_x=2, n_y=2, row_major=True), \n",
    "    leg_i_plot=1, \n",
    "    leg_kwargs=dict(ncols=1, fontsize=15, bbox_to_anchor=(1, 1.2)), \n",
    "    ci_info_fontsize=16, \n",
    "    left_text_x=0.915\n",
    "    \n",
    ")\n",
    "\n",
    "fig,axs[3] = DOVSAudit.static_plot_n_PNs_w_power_srs(\n",
    "    n_PNs_w_power_srs, \n",
    "    simp_freq='1T', \n",
    "    threshold=threshold, \n",
    "    fig_num=fig_num, \n",
    "    fig_ax=(fig, axs[3]), \n",
    "    threshold_color='magenta'\n",
    ")\n",
    "\n",
    "fig_num += 1"
   ]
  },
  {
   "cell_type": "code",
   "execution_count": null,
   "id": "74adb1c4",
   "metadata": {},
   "outputs": [],
   "source": [
    "expand_time=pd.Timedelta('1 hour')\n",
    "cnsrvtv_out_t_beg    = best_ests_df['conservative_min'].min()\n",
    "cnsrvtv_out_t_end    = best_ests_df['conservative_max'].max()\n",
    "#-------------------------\n",
    "fig, axs = Plot_General.default_subplots(fig_num=fig_num, n_x=1, n_y=2, sharex=True)\n",
    "Plot_General.adjust_subplots_args(fig, dict(hspace=0.30))\n",
    "#-------------------------\n",
    "palette = Plot_General.get_standard_colors_dict(\n",
    "    keys=ami_df_i['serialnumber'].unique().tolist(), \n",
    "    palette='colorblind'\n",
    ")\n",
    "#-------------------------\n",
    "shared_plot_kwargs = dict(\n",
    "    x                          = 'starttimeperiod_local', \n",
    "    y                          = 'value', \n",
    "    hue                        = 'serialnumber', \n",
    "    out_t_beg                  = dovs_outg_t_beg, \n",
    "    out_t_end                  = dovs_outg_t_end, \n",
    "    expand_time                = expand_time, \n",
    "    plot_time_beg_end          = [cnsrvtv_out_t_beg, cnsrvtv_out_t_end], \n",
    "    only_connect_continuous    = False, \n",
    "    data_freq                  = None,     \n",
    "    data_label                 = '', \n",
    "    ax_args                    = None, \n",
    "    xlabel_args                = None, \n",
    "    ylabel_args                = None, \n",
    "    df_mean                    = None, \n",
    "    df_mean_col                = None, \n",
    "    mean_args                  = None, \n",
    "    draw_outage_limits         = True, \n",
    "    draw_outage_limits_kwargs  = dict(alpha=1.0, linewidth=5.0, ymax=0.1), \n",
    "    include_outage_limits_text = dict(\n",
    "        out_t_beg_text  = 'DOVS Beg.', \n",
    "        out_t_beg_ypos  = (0.12, 'ax_coord'), \n",
    "        out_t_beg_va    = 'bottom', \n",
    "        out_t_beg_ha    = 'center', \n",
    "        out_t_beg_color = 'red', \n",
    "        #-----\n",
    "        out_t_end_text  = 'DOVS End', \n",
    "        out_t_end_ypos  = (0.12, 'ax_coord'), \n",
    "        out_t_end_va    = 'bottom', \n",
    "        out_t_end_ha    = 'center', \n",
    "        out_t_end_color = 'green', \n",
    "    ), \n",
    "    draw_without_hue_also      = False, \n",
    "    seg_line_freq              = None, \n",
    "    palette                    = palette\n",
    ")\n",
    "#-----\n",
    "i_subplot=0\n",
    "fig, axs[i_subplot] = AMINonVee.plot_usage_around_outage(\n",
    "    fig=fig, \n",
    "    ax=axs[i_subplot], \n",
    "    data=ami_df_i, \n",
    "    title_args=dict(label=f\"#SNs = {ami_df_i['serialnumber'].nunique()}\", fontdict=dict(fontsize=24)), \n",
    "    **shared_plot_kwargs\n",
    ")\n",
    "#-----\n",
    "add_all_best_ests_to_axis(\n",
    "    axs[i_subplot], \n",
    "    means_df, \n",
    "    line_kwargs_by_est_key=dict(\n",
    "        conservative=dict(alpha=0.25, linewidth=5.0, ymax=0.6), \n",
    "        zero_times=dict(alpha=0.25, linewidth=5.0, ymax=0.4) \n",
    "    ), \n",
    "    keys_to_include=['winner', 'conservative', 'zero_times']\n",
    ")\n",
    "#-----\n",
    "axs[i_subplot].legend().set_visible(False)\n",
    "Plot_General.set_general_plotting_args(\n",
    "    ax=axs[i_subplot], \n",
    "    tick_args =[\n",
    "        dict(axis='x', labelrotation=0, labelsize=14.0, direction='out'), \n",
    "        dict(axis='y', labelrotation=0, labelsize=14.0, direction='out')\n",
    "    ], \n",
    "    xlabel_args=dict(xlabel='15T Interval Start Time', fontsize=16), \n",
    "    ylabel_args=dict(ylabel='Voltage (V)', fontsize=16)\n",
    ")\n",
    "#-------------------------\n",
    "i_subplot=1\n",
    "fig,axs[i_subplot] = DOVSAudit.static_plot_n_PNs_w_power_srs(\n",
    "    n_PNs_w_power_srs, \n",
    "    simp_freq='1T', \n",
    "    threshold=threshold, \n",
    "    fig_num=fig_num, \n",
    "    fig_ax=(fig, axs[i_subplot]), \n",
    "    threshold_color='magenta'\n",
    ")\n",
    "#-----\n",
    "Plot_General.set_general_plotting_args(\n",
    "    ax=axs[i_subplot], \n",
    "    tick_args =[\n",
    "        dict(axis='x', labelrotation=0, labelsize=14.0, direction='out'), \n",
    "        dict(axis='y', labelrotation=0, labelsize=14.0, direction='out')\n",
    "    ], \n",
    "    xlabel_args=dict(xlabel='15T Interval Start Time', fontsize=16), \n",
    "    ylabel_args=dict(ylabel='%PNs with Power', fontsize=16)\n",
    ")\n",
    "#-------------------------\n",
    "fig_num += 1\n",
    "\n",
    "#-------------------------\n",
    "Plot_General.save_fig(\n",
    "    fig=fig, \n",
    "    save_dir=r'C:\\Users\\s346557\\Documents\\Presentations\\ForPeggy_Nov2023', \n",
    "    save_name='Figs_ab_2.png'\n",
    ")"
   ]
  },
  {
   "cell_type": "code",
   "execution_count": null,
   "id": "1fe91bea",
   "metadata": {},
   "outputs": [],
   "source": [
    "expand_time=pd.Timedelta('1 hour')\n",
    "cnsrvtv_out_t_beg    = best_ests_df['conservative_min'].min()\n",
    "cnsrvtv_out_t_end    = best_ests_df['conservative_max'].max()\n",
    "#-------------------------\n",
    "fig, axs = Plot_General.default_subplots(fig_num=fig_num, n_x=1, n_y=1, sharex=True)\n",
    "axs=[axs]\n",
    "Plot_General.adjust_subplots_args(fig, dict(hspace=0.30))\n",
    "#-------------------------\n",
    "palette = Plot_General.get_standard_colors_dict(\n",
    "    keys=ami_df_i['serialnumber'].unique().tolist(), \n",
    "    palette='colorblind'\n",
    ")\n",
    "#-------------------------\n",
    "shared_plot_kwargs = dict(\n",
    "    x                          = 'starttimeperiod_local', \n",
    "    y                          = 'value', \n",
    "    hue                        = 'serialnumber', \n",
    "    out_t_beg                  = dovs_outg_t_beg, \n",
    "    out_t_end                  = dovs_outg_t_end, \n",
    "    expand_time                = expand_time, \n",
    "    plot_time_beg_end          = [cnsrvtv_out_t_beg, cnsrvtv_out_t_end], \n",
    "    only_connect_continuous    = False, \n",
    "    data_freq                  = None,     \n",
    "    data_label                 = '', \n",
    "    ax_args                    = None, \n",
    "    xlabel_args                = None, \n",
    "    ylabel_args                = None, \n",
    "    df_mean                    = None, \n",
    "    df_mean_col                = None, \n",
    "    mean_args                  = None, \n",
    "    draw_outage_limits         = True, \n",
    "    draw_outage_limits_kwargs  = dict(alpha=1.0, linewidth=5.0, ymax=0.1), \n",
    "    include_outage_limits_text = dict(\n",
    "        out_t_beg_text  = 'DOVS Beg.', \n",
    "        out_t_beg_ypos  = (0.12, 'ax_coord'), \n",
    "        out_t_beg_va    = 'bottom', \n",
    "        out_t_beg_ha    = 'center', \n",
    "        out_t_beg_color = 'red', \n",
    "        #-----\n",
    "        out_t_end_text  = 'DOVS End', \n",
    "        out_t_end_ypos  = (0.12, 'ax_coord'), \n",
    "        out_t_end_va    = 'bottom', \n",
    "        out_t_end_ha    = 'center', \n",
    "        out_t_end_color = 'green', \n",
    "    ), \n",
    "    draw_without_hue_also      = False, \n",
    "    seg_line_freq              = None, \n",
    "    palette                    = palette\n",
    ")\n",
    "#-----\n",
    "i_subplot=0\n",
    "fig, axs[i_subplot] = AMINonVee.plot_usage_around_outage(\n",
    "    fig=fig, \n",
    "    ax=axs[i_subplot], \n",
    "    data=ami_df_i, \n",
    "    title_args=dict(label=f\"#SNs = {ami_df_i['serialnumber'].nunique()}\", fontdict=dict(fontsize=24)), \n",
    "    **shared_plot_kwargs\n",
    ")\n",
    "#-----\n",
    "add_all_best_ests_to_axis(\n",
    "    axs[i_subplot], \n",
    "    means_df, \n",
    "    line_kwargs_by_est_key=dict(\n",
    "        conservative=dict(alpha=0.25, linewidth=5.0, ymax=0.6), \n",
    "        zero_times=dict(alpha=0.25, linewidth=5.0, ymax=0.4) \n",
    "    ), \n",
    "    keys_to_include=['winner', 'conservative', 'zero_times']\n",
    ")\n",
    "#-----\n",
    "axs[i_subplot].legend().set_visible(False)\n",
    "Plot_General.set_general_plotting_args(\n",
    "    ax=axs[i_subplot], \n",
    "    tick_args =[\n",
    "        dict(axis='x', labelrotation=0, labelsize=14.0, direction='out'), \n",
    "        dict(axis='y', labelrotation=0, labelsize=14.0, direction='out')\n",
    "    ], \n",
    "    xlabel_args=dict(xlabel='15T Interval Start Time', fontsize=16), \n",
    "    ylabel_args=dict(ylabel='Voltage (V)', fontsize=16)\n",
    ")\n",
    "#-------------------------\n",
    "fig_num += 1\n",
    "\n",
    "#-------------------------\n",
    "Plot_General.save_fig(\n",
    "    fig=fig, \n",
    "    save_dir=r'C:\\Users\\s346557\\Documents\\Presentations\\ForPeggy_Nov2023', \n",
    "    save_name='Fig_a_2.png'\n",
    ")"
   ]
  },
  {
   "cell_type": "code",
   "execution_count": null,
   "id": "6283a71d",
   "metadata": {},
   "outputs": [],
   "source": [
    "means_df"
   ]
  },
  {
   "cell_type": "code",
   "execution_count": null,
   "id": "f214bd12",
   "metadata": {},
   "outputs": [],
   "source": [
    "dovs_outg_t_beg"
   ]
  },
  {
   "cell_type": "code",
   "execution_count": null,
   "id": "cc0a2179",
   "metadata": {},
   "outputs": [],
   "source": [
    "dovs_outg_t_end"
   ]
  },
  {
   "cell_type": "code",
   "execution_count": null,
   "id": "6b5cf884",
   "metadata": {},
   "outputs": [],
   "source": [
    "pd.to_datetime('2023-09-11 14:08:00')-(pd.Timedelta('13T')+pd.Timedelta('27s'))"
   ]
  },
  {
   "cell_type": "code",
   "execution_count": null,
   "id": "108ebe45",
   "metadata": {},
   "outputs": [],
   "source": []
  },
  {
   "cell_type": "code",
   "execution_count": null,
   "id": "0837453b",
   "metadata": {},
   "outputs": [],
   "source": []
  },
  {
   "cell_type": "code",
   "execution_count": null,
   "id": "5c9f6529",
   "metadata": {},
   "outputs": [],
   "source": [
    "# outg_rec_nb = '13294714'\n",
    "outg_rec_nb = '13464904'"
   ]
  },
  {
   "cell_type": "code",
   "execution_count": null,
   "id": "8e26c500",
   "metadata": {},
   "outputs": [],
   "source": [
    "search_time_half_window=pd.Timedelta('24 hours')\n",
    "#-------------------------\n",
    "audit_i = DOVSAudit(\n",
    "    outg_rec_nb=outg_rec_nb\n",
    ")\n",
    "#-------------------------\n",
    "audit_i.load_dovs(\n",
    "    dovs_df           = None, \n",
    "    dovs_df_info_dict = None\n",
    ")\n",
    "#-------------------------\n",
    "audit_i.build_mp_df(\n",
    "    drop_mp_dups_fuzziness=pd.Timedelta('1 hour')\n",
    ")\n",
    "#-------------------------\n",
    "audit_i.run_ami_and_ede_daq(\n",
    "    search_time_half_window=search_time_half_window\n",
    ")"
   ]
  },
  {
   "cell_type": "code",
   "execution_count": null,
   "id": "2c1d3419",
   "metadata": {},
   "outputs": [],
   "source": [
    "audit_i.build_best_ests_df()\n",
    "audit_i.best_ests_df"
   ]
  },
  {
   "cell_type": "code",
   "execution_count": null,
   "id": "fa31309a",
   "metadata": {},
   "outputs": [],
   "source": []
  },
  {
   "cell_type": "code",
   "execution_count": null,
   "id": "3dd3f859",
   "metadata": {},
   "outputs": [],
   "source": []
  },
  {
   "cell_type": "code",
   "execution_count": null,
   "id": "7e4acce6",
   "metadata": {},
   "outputs": [],
   "source": [
    "audit_i.identify_overlaps(overlaps_dovs_sql_fcn=DOVSOutages_SQL.build_sql_outage)"
   ]
  },
  {
   "cell_type": "code",
   "execution_count": null,
   "id": "65302bc5",
   "metadata": {},
   "outputs": [],
   "source": [
    "audit_i.resolve_overlapping_audits()"
   ]
  },
  {
   "cell_type": "code",
   "execution_count": null,
   "id": "113f5669",
   "metadata": {},
   "outputs": [],
   "source": [
    "best_ests_df = audit_i.best_ests_df.copy()"
   ]
  },
  {
   "cell_type": "code",
   "execution_count": null,
   "id": "ff9b811f",
   "metadata": {},
   "outputs": [],
   "source": [
    "best_ests_df"
   ]
  },
  {
   "cell_type": "code",
   "execution_count": null,
   "id": "23ae9dd2",
   "metadata": {},
   "outputs": [],
   "source": [
    "likeness_thresh = pd.Timedelta('1 minutes')\n",
    "SN_col = 'SN'\n",
    "PN_col = 'PN'\n",
    "i_outg_col = 'i_outg'     "
   ]
  },
  {
   "cell_type": "code",
   "execution_count": null,
   "id": "4680a5fa",
   "metadata": {},
   "outputs": [],
   "source": [
    "minmax_cols = [x for x in best_ests_df.columns.tolist() if x not in [SN_col, PN_col, i_outg_col]]\n",
    "min_cols = [x for x in best_ests_df.columns.tolist() if x.endswith('_min')]\n",
    "max_cols = [x for x in best_ests_df.columns.tolist() if x.endswith('_max')]"
   ]
  },
  {
   "cell_type": "code",
   "execution_count": null,
   "id": "497d19f9",
   "metadata": {},
   "outputs": [],
   "source": [
    "minmax_cols"
   ]
  },
  {
   "cell_type": "code",
   "execution_count": null,
   "id": "a6821442",
   "metadata": {},
   "outputs": [],
   "source": []
  },
  {
   "cell_type": "code",
   "execution_count": null,
   "id": "b9643d17",
   "metadata": {},
   "outputs": [],
   "source": [
    "%run ./check_DOVS_METHODS.ipynb\n",
    "fig_num=0"
   ]
  },
  {
   "cell_type": "code",
   "execution_count": null,
   "id": "73cbacf5",
   "metadata": {},
   "outputs": [],
   "source": [
    "best_ests_df = audit_i.best_ests_df.copy()\n",
    "ami_df_i = audit_i.ami_df_i.copy()\n",
    "#-----\n",
    "dovs_outg_t_beg_end = audit_i.dovs_outg_t_beg_end\n",
    "dovs_outg_t_beg = dovs_outg_t_beg_end[0]\n",
    "dovs_outg_t_end = dovs_outg_t_beg_end[1]\n",
    "#-----\n",
    "outage_nb  = audit_i.outage_nb\n",
    "n_PNs_dovs = audit_i.n_PNs_dovs\n",
    "ci_dovs    = audit_i.ci_cmi_dovs[0]\n",
    "cmi_dovs   = audit_i.ci_cmi_dovs[1]\n",
    "ci_ami     = best_ests_df['PN'].nunique() \n",
    "cmi_ami    = (best_ests_df['winner_max']-best_ests_df['winner_min']).sum().total_seconds()/60\n",
    "threshold=95\n",
    "#-------------------------\n",
    "outg_SNs = best_ests_df['PN'].unique().tolist()\n",
    "ami_df_i_out      = ami_df_i[ami_df_i['aep_premise_nb'].isin(outg_SNs)]\n",
    "ami_df_i_not_out  = ami_df_i[~ami_df_i['aep_premise_nb'].isin(outg_SNs)]\n",
    "#-------------------------\n",
    "means_df, best_ests_df_w_db_lbl = DOVSAudit.get_mean_times_w_dbscan(\n",
    "    best_ests_df, \n",
    "    eps_min=5, \n",
    "    min_samples=2, \n",
    "    ests_to_include_in_clustering=['winner_min', 'winner_max'],\n",
    "    ests_to_include_in_output=[\n",
    "        'winner_min', 'winner_max', \n",
    "        'conservative_min', 'conservative_max', \n",
    "        'zero_times_min', 'zero_times_max'\n",
    "    ], \n",
    "    return_labelled_best_ests_df=True\n",
    ")\n",
    "#-------------------------\n",
    "n_PNs_w_power_srs = DOVSAudit.build_n_PNs_w_power_srs(\n",
    "    best_ests_df, \n",
    "    ami_df_i, \n",
    "    return_pct=True, \n",
    "    PN_col='PN', \n",
    "    t_min_col='winner_min', \n",
    "    t_max_col='winner_max', \n",
    "    i_outg_col='i_outg', \n",
    "    PN_col_ami_df='aep_premise_nb'\n",
    ")"
   ]
  },
  {
   "cell_type": "code",
   "execution_count": null,
   "id": "7f018e22",
   "metadata": {},
   "outputs": [],
   "source": [
    "fig, axs = plot_all_out_not_NEW(\n",
    "    fig_num              = fig_num, \n",
    "    ami_df_i             = ami_df_i, \n",
    "    ami_df_i_out         = ami_df_i_out, \n",
    "    ami_df_i_not_out     = ami_df_i_not_out, \n",
    "    dovs_outg_t_beg      = dovs_outg_t_beg, \n",
    "    dovs_outg_t_end      = dovs_outg_t_end, \n",
    "    cnsrvtv_out_t_beg    = best_ests_df['conservative_min'].min(), \n",
    "    cnsrvtv_out_t_end    = best_ests_df['conservative_max'].max(), \n",
    "    means_df             = means_df, \n",
    "    outg_rec_nb          = outg_rec_nb, \n",
    "    outage_nb            = outage_nb, \n",
    "    n_PNs_dovs           = n_PNs_dovs, \n",
    "    ci_dovs              = ci_dovs, \n",
    "    cmi_dovs             = cmi_dovs, \n",
    "    ci_ami               = ci_ami, \n",
    "    cmi_ami              = cmi_ami, \n",
    "    name                 = 'AMI', \n",
    "    results_2_dict       = None, \n",
    "    expand_time          = pd.Timedelta('1 hour'), \n",
    "    mean_keys_to_include = ['winner', 'conservative', 'zero_times'], \n",
    "    removed_due_to_overlap_col=None, \n",
    "    default_subplots_args=dict(n_x=2, n_y=2, row_major=True), \n",
    "    leg_i_plot=1, \n",
    "    leg_kwargs=dict(ncols=1, fontsize=15, bbox_to_anchor=(1, 1.2)), \n",
    "    ci_info_fontsize=16, \n",
    "    left_text_x=0.915\n",
    "    \n",
    ")\n",
    "\n",
    "fig,axs[3] = DOVSAudit.static_plot_n_PNs_w_power_srs(\n",
    "    n_PNs_w_power_srs, \n",
    "    simp_freq='1T', \n",
    "    threshold=threshold, \n",
    "    fig_num=fig_num, \n",
    "    fig_ax=(fig, axs[3]), \n",
    "    threshold_color='magenta'\n",
    ")\n",
    "\n",
    "fig_num += 1"
   ]
  },
  {
   "cell_type": "code",
   "execution_count": null,
   "id": "0791fc04",
   "metadata": {},
   "outputs": [],
   "source": []
  },
  {
   "cell_type": "code",
   "execution_count": null,
   "id": "faca9d62",
   "metadata": {},
   "outputs": [],
   "source": []
  },
  {
   "cell_type": "code",
   "execution_count": null,
   "id": "bb7c2c08",
   "metadata": {
    "scrolled": true
   },
   "outputs": [],
   "source": [
    "search_time_half_window=pd.Timedelta('24 hours')\n",
    "#-------------------------\n",
    "audit_1 = DOVSAudit(\n",
    "    outg_rec_nb='13686882'\n",
    ")\n",
    "#-------------------------\n",
    "audit_1.load_dovs(\n",
    "    dovs_df           = None, \n",
    "    dovs_df_info_dict = None\n",
    ")\n",
    "#-------------------------\n",
    "audit_1.build_mp_df(\n",
    "    drop_mp_dups_fuzziness=pd.Timedelta('1 hour')\n",
    ")\n",
    "#-------------------------\n",
    "audit_1.run_ami_and_ede_daq(\n",
    "    search_time_half_window=search_time_half_window\n",
    ")\n",
    "#-------------------------\n",
    "audit_1.build_best_ests_df()\n",
    "#-------------------------\n"
   ]
  },
  {
   "cell_type": "code",
   "execution_count": null,
   "id": "fb25a483",
   "metadata": {},
   "outputs": [],
   "source": [
    "fig, ax = Plot_General.default_subplots()\n",
    "AMINonVee.plot_usage_around_outage(\n",
    "    fig=fig,\n",
    "    ax=ax,\n",
    "    data=audit_1.ami_df_i,\n",
    "    x='starttimeperiod_local',\n",
    "    y='value',\n",
    "    hue='serialnumber',\n",
    "    out_t_beg=audit_1.dovs_outg_t_beg_end[0],\n",
    "    out_t_end=audit_1.dovs_outg_t_beg_end[1],\n",
    "    expand_time=pd.Timedelta('1h'),\n",
    ")\n",
    "ax.legend().set_visible(False)"
   ]
  },
  {
   "cell_type": "code",
   "execution_count": null,
   "id": "81054c59",
   "metadata": {},
   "outputs": [],
   "source": [
    "audit_1.identify_overlaps(overlaps_dovs_sql_fcn=DOVSOutages_SQL.build_sql_outage)"
   ]
  },
  {
   "cell_type": "code",
   "execution_count": null,
   "id": "733e11fa",
   "metadata": {},
   "outputs": [],
   "source": [
    "audit_1.resolve_overlapping_audits()"
   ]
  },
  {
   "cell_type": "code",
   "execution_count": null,
   "id": "765a270a",
   "metadata": {},
   "outputs": [],
   "source": [
    "audit_i=copy.deepcopy(audit_1)"
   ]
  },
  {
   "cell_type": "code",
   "execution_count": null,
   "id": "77b715ee",
   "metadata": {},
   "outputs": [],
   "source": [
    "best_ests_df = audit_i.best_ests_df.copy()\n",
    "ami_df_i = audit_i.ami_df_i.copy()\n",
    "#-----\n",
    "dovs_outg_t_beg_end = audit_i.dovs_outg_t_beg_end\n",
    "dovs_outg_t_beg = dovs_outg_t_beg_end[0]\n",
    "dovs_outg_t_end = dovs_outg_t_beg_end[1]\n",
    "#-----\n",
    "outage_nb  = audit_i.outage_nb\n",
    "n_PNs_dovs = audit_i.n_PNs_dovs\n",
    "ci_dovs    = audit_i.ci_cmi_dovs[0]\n",
    "cmi_dovs   = audit_i.ci_cmi_dovs[1]\n",
    "ci_ami     = best_ests_df['PN'].nunique() \n",
    "cmi_ami    = (best_ests_df['winner_max']-best_ests_df['winner_min']).sum().total_seconds()/60\n",
    "threshold=95\n",
    "#-------------------------\n",
    "outg_SNs = best_ests_df['PN'].unique().tolist()\n",
    "ami_df_i_out      = ami_df_i[ami_df_i['aep_premise_nb'].isin(outg_SNs)]\n",
    "ami_df_i_not_out  = ami_df_i[~ami_df_i['aep_premise_nb'].isin(outg_SNs)]\n",
    "#-------------------------\n",
    "means_df, best_ests_df_w_db_lbl = DOVSAudit.get_mean_times_w_dbscan(\n",
    "    best_ests_df, \n",
    "    eps_min=5, \n",
    "    min_samples=2, \n",
    "    ests_to_include_in_clustering=['winner_min', 'winner_max'],\n",
    "    ests_to_include_in_output=[\n",
    "        'winner_min', 'winner_max', \n",
    "        'conservative_min', 'conservative_max', \n",
    "        'zero_times_min', 'zero_times_max'\n",
    "    ], \n",
    "    return_labelled_best_ests_df=True\n",
    ")\n",
    "#-------------------------\n",
    "n_PNs_w_power_srs = DOVSAudit.build_n_PNs_w_power_srs(\n",
    "    best_ests_df, \n",
    "    ami_df_i, \n",
    "    return_pct=True, \n",
    "    PN_col='PN', \n",
    "    t_min_col='winner_min', \n",
    "    t_max_col='winner_max', \n",
    "    i_outg_col='i_outg', \n",
    "    PN_col_ami_df='aep_premise_nb'\n",
    ")"
   ]
  },
  {
   "cell_type": "code",
   "execution_count": null,
   "id": "de2631cd",
   "metadata": {},
   "outputs": [],
   "source": [
    "%run ./check_DOVS_METHODS.ipynb"
   ]
  },
  {
   "cell_type": "code",
   "execution_count": null,
   "id": "70e4569c",
   "metadata": {},
   "outputs": [],
   "source": [
    "fig_num=0\n",
    "fig, axs = plot_all_out_not_NEW(\n",
    "    fig_num              = fig_num, \n",
    "    ami_df_i             = ami_df_i, \n",
    "    ami_df_i_out         = ami_df_i_out, \n",
    "    ami_df_i_not_out     = ami_df_i_not_out, \n",
    "    dovs_outg_t_beg      = dovs_outg_t_beg, \n",
    "    dovs_outg_t_end      = dovs_outg_t_end, \n",
    "    cnsrvtv_out_t_beg    = best_ests_df['conservative_min'].min(), \n",
    "    cnsrvtv_out_t_end    = best_ests_df['conservative_max'].max(), \n",
    "    means_df             = means_df, \n",
    "    outg_rec_nb          = audit_i.outg_rec_nb, \n",
    "    outage_nb            = audit_i.outage_nb, \n",
    "    n_PNs_dovs           = audit_i.n_PNs_dovs, \n",
    "    ci_dovs              = audit_i.ci_cmi_dovs[0], \n",
    "    cmi_dovs             = audit_i.ci_cmi_dovs[0], \n",
    "    ci_ami               = audit_i.ci, \n",
    "    cmi_ami              = audit_i.cmi, \n",
    "    name                 = 'AMI', \n",
    "    results_2_dict       = None, \n",
    "    expand_time          = pd.Timedelta('1 hour'), \n",
    "    mean_keys_to_include = ['winner', 'conservative', 'zero_times'], \n",
    "    removed_due_to_overlap_col=None, \n",
    "    default_subplots_args=dict(n_x=2, n_y=2, row_major=True, sharex=True), \n",
    "    leg_i_plot=1, \n",
    "    leg_kwargs=dict(ncols=1, fontsize=15, bbox_to_anchor=(1, 1.2)), \n",
    "    ci_info_fontsize=16, \n",
    "    left_text_x=0.915\n",
    "    \n",
    ")\n",
    "\n",
    "fig,axs[3] = DOVSAudit.static_plot_n_PNs_w_power_srs(\n",
    "    n_PNs_w_power_srs, \n",
    "    simp_freq='1T', \n",
    "    threshold=threshold, \n",
    "    fig_num=fig_num, \n",
    "    fig_ax=(fig, axs[3]), \n",
    "    threshold_color='magenta'\n",
    ")\n",
    "\n",
    "for ax_i in axs:\n",
    "    ax_i.xaxis.set_tick_params(labelbottom=True)\n",
    "\n",
    "# Plot_General.save_fig(\n",
    "#     fig=fig, \n",
    "#     save_dir=r'C:\\Users\\s346557\\Documents\\Presentations\\DOVS_check\\_DemoFigs\\Overlap_suboutgs', \n",
    "#     save_name='Overlap_suboutgs_CORRECT.png', \n",
    "#     bbox_inches='tight'\n",
    "# )\n",
    "\n",
    "fig_num += 1"
   ]
  },
  {
   "cell_type": "code",
   "execution_count": null,
   "id": "366231df",
   "metadata": {},
   "outputs": [],
   "source": []
  },
  {
   "cell_type": "code",
   "execution_count": null,
   "id": "e87f7c76",
   "metadata": {},
   "outputs": [],
   "source": [
    "fig_num=0\n",
    "best_ests_df_i = best_ests_df[best_ests_df['PN']=='023368334']\n",
    "fig, axs = plot_all_out_not_NEW(\n",
    "    fig_num              = fig_num, \n",
    "    ami_df_i             = ami_df_i[ami_df_i['aep_premise_nb']=='023368334'], \n",
    "    ami_df_i_out         = ami_df_i_out[ami_df_i_out['aep_premise_nb']=='023368334'], \n",
    "    ami_df_i_not_out     = ami_df_i_not_out[ami_df_i_not_out['aep_premise_nb']=='023368334'], \n",
    "    dovs_outg_t_beg      = dovs_outg_t_beg, \n",
    "    dovs_outg_t_end      = dovs_outg_t_end, \n",
    "    cnsrvtv_out_t_beg    = best_ests_df['conservative_min'].min(), \n",
    "    cnsrvtv_out_t_end    = best_ests_df['conservative_max'].max(), \n",
    "    means_df             = best_ests_df_i, \n",
    "    outg_rec_nb          = audit_i.outg_rec_nb, \n",
    "    outage_nb            = audit_i.outage_nb, \n",
    "    n_PNs_dovs           = audit_i.n_PNs_dovs, \n",
    "    ci_dovs              = audit_i.ci_cmi_dovs[0], \n",
    "    cmi_dovs             = audit_i.ci_cmi_dovs[0], \n",
    "    ci_ami               = audit_i.ci, \n",
    "    cmi_ami              = audit_i.cmi, \n",
    "    name                 = 'AMI', \n",
    "    results_2_dict       = None, \n",
    "    expand_time          = pd.Timedelta('1 hour'), \n",
    "    mean_keys_to_include = ['winner', 'conservative', 'zero_times'], \n",
    "    removed_due_to_overlap_col=None, \n",
    "    default_subplots_args=dict(n_x=2, n_y=2, row_major=True, sharex=True), \n",
    "    leg_i_plot=1, \n",
    "    leg_kwargs=dict(ncols=1, fontsize=15, bbox_to_anchor=(1, 1.2)), \n",
    "    ci_info_fontsize=16, \n",
    "    left_text_x=0.915\n",
    "    \n",
    ")\n",
    "axs[1].set_title(f\"CMI = {np.round((best_ests_df_i['winner_max']-best_ests_df_i['winner_min']).sum().total_seconds()/60, 2)}\", fontdict=dict(fontsize=24))\n",
    "\n",
    "fig,axs[3] = DOVSAudit.static_plot_n_PNs_w_power_srs(\n",
    "    n_PNs_w_power_srs, \n",
    "    simp_freq='1T', \n",
    "    threshold=threshold, \n",
    "    fig_num=fig_num, \n",
    "    fig_ax=(fig, axs[3]), \n",
    "    threshold_color='magenta'\n",
    ")\n",
    "\n",
    "for ax_i in axs:\n",
    "    ax_i.xaxis.set_tick_params(labelbottom=True)\n",
    "\n",
    "# Plot_General.save_fig(\n",
    "#     fig=fig, \n",
    "#     save_dir=r'C:\\Users\\s346557\\Documents\\Presentations\\DOVS_check\\_DemoFigs\\Overlap_suboutgs', \n",
    "#     save_name='Overlap_suboutgs_CORRECT_i.png', \n",
    "#     bbox_inches='tight'\n",
    "# )\n",
    "\n",
    "fig_num += 1"
   ]
  },
  {
   "cell_type": "code",
   "execution_count": null,
   "id": "4c14d89c",
   "metadata": {},
   "outputs": [],
   "source": [
    "best_ests_df"
   ]
  },
  {
   "cell_type": "code",
   "execution_count": null,
   "id": "738cc776",
   "metadata": {},
   "outputs": [],
   "source": [
    "best_ests_df_i"
   ]
  },
  {
   "cell_type": "code",
   "execution_count": null,
   "id": "c8a23d68",
   "metadata": {},
   "outputs": [],
   "source": []
  },
  {
   "cell_type": "code",
   "execution_count": null,
   "id": "35fd4d33",
   "metadata": {},
   "outputs": [],
   "source": [
    "fig_num=0 \n",
    "best_ests_df_i2 = best_ests_df[best_ests_df['PN']=='020115172']\n",
    "fig, axs = plot_all_out_not_NEW(\n",
    "    fig_num              = fig_num, \n",
    "    ami_df_i             = ami_df_i[ami_df_i['aep_premise_nb']=='020115172'], \n",
    "    ami_df_i_out         = ami_df_i_out[ami_df_i_out['aep_premise_nb']=='020115172'], \n",
    "    ami_df_i_not_out     = ami_df_i_not_out[ami_df_i_not_out['aep_premise_nb']=='020115172'], \n",
    "    dovs_outg_t_beg      = dovs_outg_t_beg, \n",
    "    dovs_outg_t_end      = dovs_outg_t_end, \n",
    "    cnsrvtv_out_t_beg    = best_ests_df['conservative_min'].min(), \n",
    "    cnsrvtv_out_t_end    = best_ests_df['conservative_max'].max(), \n",
    "    means_df             = best_ests_df_i2, \n",
    "    outg_rec_nb          = audit_i.outg_rec_nb, \n",
    "    outage_nb            = audit_i.outage_nb, \n",
    "    n_PNs_dovs           = audit_i.n_PNs_dovs, \n",
    "    ci_dovs              = audit_i.ci_cmi_dovs[0], \n",
    "    cmi_dovs             = audit_i.ci_cmi_dovs[0], \n",
    "    ci_ami               = audit_i.ci, \n",
    "    cmi_ami              = audit_i.cmi, \n",
    "    name                 = 'AMI', \n",
    "    results_2_dict       = None, \n",
    "    expand_time          = pd.Timedelta('1 hour'), \n",
    "    mean_keys_to_include = ['winner', 'conservative', 'zero_times'], \n",
    "    removed_due_to_overlap_col=None, \n",
    "    default_subplots_args=dict(n_x=2, n_y=2, row_major=True, sharex=True), \n",
    "    leg_i_plot=1, \n",
    "    leg_kwargs=dict(ncols=1, fontsize=15, bbox_to_anchor=(1, 1.2)), \n",
    "    ci_info_fontsize=16, \n",
    "    left_text_x=0.915\n",
    "    \n",
    ")\n",
    "axs[1].set_title(f\"CMI = {np.round((best_ests_df_i2['winner_max']-best_ests_df_i2['winner_min']).sum().total_seconds()/60, 2)}\", fontdict=dict(fontsize=24))\n",
    "\n",
    "fig,axs[3] = DOVSAudit.static_plot_n_PNs_w_power_srs(\n",
    "    n_PNs_w_power_srs, \n",
    "    simp_freq='1T', \n",
    "    threshold=threshold, \n",
    "    fig_num=fig_num, \n",
    "    fig_ax=(fig, axs[3]), \n",
    "    threshold_color='magenta'\n",
    ")\n",
    "\n",
    "for ax_i in axs:\n",
    "    ax_i.xaxis.set_tick_params(labelbottom=True)\n",
    "\n",
    "# Plot_General.save_fig(\n",
    "#     fig=fig, \n",
    "#     save_dir=r'C:\\Users\\s346557\\Documents\\Presentations\\DOVS_check\\_DemoFigs\\Overlap_suboutgs', \n",
    "#     save_name='Overlap_suboutgs_CORRECT_i2.png', \n",
    "#     bbox_inches='tight'\n",
    "# )\n",
    "\n",
    "fig_num += 1"
   ]
  },
  {
   "cell_type": "code",
   "execution_count": null,
   "id": "eb569f43",
   "metadata": {},
   "outputs": [],
   "source": [
    "best_ests_df_i2"
   ]
  },
  {
   "cell_type": "code",
   "execution_count": null,
   "id": "841d89a0",
   "metadata": {},
   "outputs": [],
   "source": []
  },
  {
   "cell_type": "code",
   "execution_count": null,
   "id": "a6fbf802-dfd7-485c-a727-b2d294edd137",
   "metadata": {},
   "outputs": [],
   "source": []
  },
  {
   "cell_type": "code",
   "execution_count": null,
   "id": "66f343c8-d16e-4582-b537-950110c506da",
   "metadata": {},
   "outputs": [],
   "source": []
  },
  {
   "cell_type": "code",
   "execution_count": null,
   "id": "c3dda8fe-aeb1-4bbf-aa7e-9603db8462c5",
   "metadata": {},
   "outputs": [],
   "source": [
    "audit_i.mp_df_i"
   ]
  },
  {
   "cell_type": "code",
   "execution_count": null,
   "id": "c3d4f427-b426-40af-a46e-84abb6759ecd",
   "metadata": {},
   "outputs": [],
   "source": []
  },
  {
   "cell_type": "code",
   "execution_count": null,
   "id": "f1b1ebd9-903e-40df-89f8-2ce7b79d8c08",
   "metadata": {},
   "outputs": [],
   "source": [
    "outages_mp_df = pd.read_pickle(r'C:\\Users\\s346557\\Documents\\LocalData\\dovs_check\\20240825_20240826\\oh\\outages_mp_df.pkl')"
   ]
  },
  {
   "cell_type": "code",
   "execution_count": null,
   "id": "df6c5200-18e6-461b-be1f-8ee196915702",
   "metadata": {},
   "outputs": [],
   "source": [
    "outages_mp_df[outages_mp_df['OUTG_REC_NB']==14103246].sort_values(by=['mfr_devc_ser_nbr'], ignore_index=True).equals(\n",
    "audit_i.mp_df_i.sort_values(by=['mfr_devc_ser_nbr'], ignore_index=True)\n",
    ")"
   ]
  },
  {
   "cell_type": "code",
   "execution_count": null,
   "id": "f7e3738e-96d2-4d98-972d-ec38455b1bab",
   "metadata": {},
   "outputs": [],
   "source": [
    "df1 = outages_mp_df[outages_mp_df['OUTG_REC_NB']==14103246].sort_values(by=['mfr_devc_ser_nbr'], ignore_index=True)\n",
    "df2 = audit_i.mp_df_i.sort_values(by=['mfr_devc_ser_nbr'], ignore_index=True)"
   ]
  },
  {
   "cell_type": "code",
   "execution_count": null,
   "id": "99b488ba-22ae-41d8-9c20-26ab07e10c7e",
   "metadata": {},
   "outputs": [],
   "source": [
    "df1,df2 = Utilities_df.make_df_col_dtypes_equal(\n",
    "    df_1 = df1, \n",
    "    col_1 = df1.columns.tolist(), \n",
    "    df_2 = df2, \n",
    "    col_2 = df1.columns.tolist(), \n",
    "    allow_reverse_set = True,\n",
    "    assert_success = True,\n",
    "    inplace = False,    \n",
    ")"
   ]
  },
  {
   "cell_type": "code",
   "execution_count": null,
   "id": "fb6e77c7-00fe-4500-bc12-e996a52f6e08",
   "metadata": {},
   "outputs": [],
   "source": [
    "df1.equals(df2)"
   ]
  },
  {
   "cell_type": "code",
   "execution_count": null,
   "id": "bdcb40b3-987a-4419-8bc1-343a04529cbf",
   "metadata": {},
   "outputs": [],
   "source": [
    "dffs = Utilities_df.get_dfs_diff(df1, df2)\n",
    "dffs"
   ]
  },
  {
   "cell_type": "code",
   "execution_count": null,
   "id": "133e97d9-1b38-4c63-b32f-1e9fdf914a23",
   "metadata": {},
   "outputs": [],
   "source": []
  },
  {
   "cell_type": "code",
   "execution_count": null,
   "id": "30c79094-d3bb-4513-a65e-43565ddc7b99",
   "metadata": {},
   "outputs": [],
   "source": []
  },
  {
   "cell_type": "code",
   "execution_count": null,
   "id": "b470e0ea-06e6-4328-bbec-a73679130b45",
   "metadata": {},
   "outputs": [],
   "source": []
  },
  {
   "cell_type": "code",
   "execution_count": null,
   "id": "5de29bc5-f7e7-456f-b26d-1b1f581f36e2",
   "metadata": {},
   "outputs": [],
   "source": []
  },
  {
   "cell_type": "code",
   "execution_count": null,
   "id": "6837fb32-5f38-45b3-903b-14b98af24e56",
   "metadata": {},
   "outputs": [],
   "source": []
  }
 ],
 "metadata": {
  "kernelspec": {
   "display_name": "Python 3 (ipykernel)",
   "language": "python",
   "name": "python3"
  },
  "language_info": {
   "codemirror_mode": {
    "name": "ipython",
    "version": 3
   },
   "file_extension": ".py",
   "mimetype": "text/x-python",
   "name": "python",
   "nbconvert_exporter": "python",
   "pygments_lexer": "ipython3",
   "version": "3.11.7"
  }
 },
 "nbformat": 4,
 "nbformat_minor": 5
}
