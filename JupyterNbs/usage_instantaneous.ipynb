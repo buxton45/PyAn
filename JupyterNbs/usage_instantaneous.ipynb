{
 "cells": [
  {
   "cell_type": "code",
   "execution_count": 1,
   "id": "9b9a7216",
   "metadata": {},
   "outputs": [],
   "source": [
    "import sys, os\n",
    "import re\n",
    "\n",
    "import pandas as pd\n",
    "import numpy as np\n",
    "from pandas.api.types import is_numeric_dtype\n",
    "from scipy import stats\n",
    "import datetime\n",
    "\n",
    "import pyodbc\n",
    "#---------------------------------------------------------------------\n",
    "sys.path.insert(0, os.path.realpath('..'))\n",
    "import Utilities_config\n",
    "#---------------------------------------------------------------------\n",
    "import matplotlib.pyplot as plt\n",
    "import seaborn as sns\n",
    "from matplotlib.backends.backend_pdf import PdfPages\n",
    "import matplotlib.patches as mpatches\n",
    "from matplotlib.lines import Line2D\n",
    "import matplotlib.ticker as ticker\n",
    "#---------------------------------------------------------------------\n",
    "sys.path.insert(0, Utilities_config.get_utilities_dir())\n",
    "import Utilities\n",
    "import Utilities_df\n",
    "import Plot_Box_sns\n",
    "import GrubbsTest"
   ]
  },
  {
   "cell_type": "code",
   "execution_count": null,
   "id": "87939cfc",
   "metadata": {},
   "outputs": [],
   "source": []
  },
  {
   "cell_type": "code",
   "execution_count": 2,
   "id": "f357dc36",
   "metadata": {},
   "outputs": [],
   "source": [
    "my_meter_premise_info = pd.read_csv(r'C:\\Users\\s346557\\Documents\\my_meter_premise_info.csv')\n",
    "my_meter_premise_info = Utilities_df.remove_prepend_from_columns_in_df(my_meter_premise_info)\n",
    "my_meter_premise_info_dict = my_meter_premise_info.squeeze().to_dict()"
   ]
  },
  {
   "cell_type": "code",
   "execution_count": null,
   "id": "5bd835d3",
   "metadata": {},
   "outputs": [],
   "source": []
  },
  {
   "cell_type": "code",
   "execution_count": 3,
   "id": "2dc20243",
   "metadata": {},
   "outputs": [],
   "source": [
    "conn_aws = Utilities.get_athena_prod_aws_connection()"
   ]
  },
  {
   "cell_type": "code",
   "execution_count": 4,
   "id": "3421acba",
   "metadata": {},
   "outputs": [],
   "source": [
    "cols_of_interest_usage_inst = [\n",
    "    'read_type',\n",
    "    'serialnumber',\n",
    "    'aep_premise_nb',\n",
    "    'timezoneoffset',\n",
    "    'aep_readtime',\n",
    "    'aep_readtime_utc',\n",
    "    'measurement_type',\n",
    "    'measurement_value',\n",
    "    'longitude',\n",
    "    'latitude',\n",
    "    'aep_opco',\n",
    "    'aep_read_dt'\n",
    "]"
   ]
  },
  {
   "cell_type": "code",
   "execution_count": 5,
   "id": "51caef81",
   "metadata": {},
   "outputs": [],
   "source": [
    "date_range = ['2021-10-12', '2021-11-13']"
   ]
  },
  {
   "cell_type": "code",
   "execution_count": 6,
   "id": "2b853977",
   "metadata": {},
   "outputs": [],
   "source": [
    "sql_usg_inst = (\n",
    "\"\"\"\n",
    "SELECT {}\n",
    "FROM usage_instantaneous.inst_msr_consume\n",
    "WHERE aep_opco = 'oh' \n",
    "AND aep_read_dt BETWEEN '{}' AND '{}'\n",
    "AND aep_premise_nb = '{}'\n",
    "AND serialnumber = '{}'\n",
    "\"\"\"\n",
    ").format(','.join(cols_of_interest_usage_inst), \n",
    "         date_range[0], \n",
    "         date_range[1], \n",
    "         my_meter_premise_info_dict['prem_nb'], \n",
    "         my_meter_premise_info_dict['mfr_devc_ser_nbr'])"
   ]
  },
  {
   "cell_type": "code",
   "execution_count": 7,
   "id": "26b7b244",
   "metadata": {},
   "outputs": [
    {
     "name": "stdout",
     "output_type": "stream",
     "text": [
      "\n",
      "SELECT read_type,serialnumber,aep_premise_nb,timezoneoffset,aep_readtime,aep_readtime_utc,measurement_type,measurement_value,longitude,latitude,aep_opco,aep_read_dt\n",
      "FROM usage_instantaneous.inst_msr_consume\n",
      "WHERE aep_opco = 'oh' \n",
      "AND aep_read_dt BETWEEN '2021-10-12' AND '2021-11-13'\n",
      "AND aep_premise_nb = '104752350'\n",
      "AND serialnumber = '879838382'\n",
      "\n"
     ]
    }
   ],
   "source": [
    "print(sql_usg_inst)"
   ]
  },
  {
   "cell_type": "code",
   "execution_count": null,
   "id": "fce82a93",
   "metadata": {},
   "outputs": [],
   "source": []
  },
  {
   "cell_type": "code",
   "execution_count": 8,
   "id": "c98dc51d",
   "metadata": {},
   "outputs": [],
   "source": [
    "df_usg_inst_OG = pd.read_sql(sql_usg_inst, conn_aws)\n",
    "df_usg_inst_OG = Utilities_df.remove_table_aliases(df_usg_inst_OG)"
   ]
  },
  {
   "cell_type": "code",
   "execution_count": 9,
   "id": "40288724",
   "metadata": {},
   "outputs": [
    {
     "data": {
      "text/html": [
       "<div>\n",
       "<style scoped>\n",
       "    .dataframe tbody tr th:only-of-type {\n",
       "        vertical-align: middle;\n",
       "    }\n",
       "\n",
       "    .dataframe tbody tr th {\n",
       "        vertical-align: top;\n",
       "    }\n",
       "\n",
       "    .dataframe thead th {\n",
       "        text-align: right;\n",
       "    }\n",
       "</style>\n",
       "<table border=\"1\" class=\"dataframe\">\n",
       "  <thead>\n",
       "    <tr style=\"text-align: right;\">\n",
       "      <th></th>\n",
       "      <th>read_type</th>\n",
       "      <th>serialnumber</th>\n",
       "      <th>aep_premise_nb</th>\n",
       "      <th>timezoneoffset</th>\n",
       "      <th>aep_readtime</th>\n",
       "      <th>aep_readtime_utc</th>\n",
       "      <th>measurement_type</th>\n",
       "      <th>measurement_value</th>\n",
       "      <th>longitude</th>\n",
       "      <th>latitude</th>\n",
       "      <th>aep_opco</th>\n",
       "      <th>aep_read_dt</th>\n",
       "    </tr>\n",
       "  </thead>\n",
       "  <tbody>\n",
       "    <tr>\n",
       "      <th>0</th>\n",
       "      <td>mt113_st28_pm_temp_powerquality</td>\n",
       "      <td>879838382</td>\n",
       "      <td>104752350</td>\n",
       "      <td>-04:00</td>\n",
       "      <td>2021-10-28 09:35:17</td>\n",
       "      <td>1635413717</td>\n",
       "      <td>temperature_f</td>\n",
       "      <td>80.6</td>\n",
       "      <td>-83.01265100</td>\n",
       "      <td>40.06124300</td>\n",
       "      <td>oh</td>\n",
       "      <td>2021-10-28</td>\n",
       "    </tr>\n",
       "    <tr>\n",
       "      <th>1</th>\n",
       "      <td>mt113_st28_am_temp_powerquality</td>\n",
       "      <td>879838382</td>\n",
       "      <td>104752350</td>\n",
       "      <td>-04:00</td>\n",
       "      <td>2021-10-28 13:48:26</td>\n",
       "      <td>1635428906</td>\n",
       "      <td>instantaneous_ia</td>\n",
       "      <td>2.91</td>\n",
       "      <td>-83.01265100</td>\n",
       "      <td>40.06124300</td>\n",
       "      <td>oh</td>\n",
       "      <td>2021-10-28</td>\n",
       "    </tr>\n",
       "    <tr>\n",
       "      <th>2</th>\n",
       "      <td>mt113_st28_pm_temp_powerquality</td>\n",
       "      <td>879838382</td>\n",
       "      <td>104752350</td>\n",
       "      <td>-04:00</td>\n",
       "      <td>2021-10-28 05:43:09</td>\n",
       "      <td>1635399789</td>\n",
       "      <td>temperature_f</td>\n",
       "      <td>80.6</td>\n",
       "      <td>-83.01265100</td>\n",
       "      <td>40.06124300</td>\n",
       "      <td>oh</td>\n",
       "      <td>2021-10-28</td>\n",
       "    </tr>\n",
       "    <tr>\n",
       "      <th>3</th>\n",
       "      <td>mt113_st28_pm_temp_powerquality</td>\n",
       "      <td>879838382</td>\n",
       "      <td>104752350</td>\n",
       "      <td>-04:00</td>\n",
       "      <td>2021-10-28 05:43:09</td>\n",
       "      <td>1635399789</td>\n",
       "      <td>instantaneous_ia</td>\n",
       "      <td>0.76</td>\n",
       "      <td>-83.01265100</td>\n",
       "      <td>40.06124300</td>\n",
       "      <td>oh</td>\n",
       "      <td>2021-10-28</td>\n",
       "    </tr>\n",
       "    <tr>\n",
       "      <th>4</th>\n",
       "      <td>mt113_st28_pm_temp_powerquality</td>\n",
       "      <td>879838382</td>\n",
       "      <td>104752350</td>\n",
       "      <td>-04:00</td>\n",
       "      <td>2021-10-28 05:43:09</td>\n",
       "      <td>1635399789</td>\n",
       "      <td>voltage_phase_a</td>\n",
       "      <td>240.9</td>\n",
       "      <td>-83.01265100</td>\n",
       "      <td>40.06124300</td>\n",
       "      <td>oh</td>\n",
       "      <td>2021-10-28</td>\n",
       "    </tr>\n",
       "  </tbody>\n",
       "</table>\n",
       "</div>"
      ],
      "text/plain": [
       "                         read_type serialnumber aep_premise_nb timezoneoffset  \\\n",
       "0  mt113_st28_pm_temp_powerquality    879838382      104752350         -04:00   \n",
       "1  mt113_st28_am_temp_powerquality    879838382      104752350         -04:00   \n",
       "2  mt113_st28_pm_temp_powerquality    879838382      104752350         -04:00   \n",
       "3  mt113_st28_pm_temp_powerquality    879838382      104752350         -04:00   \n",
       "4  mt113_st28_pm_temp_powerquality    879838382      104752350         -04:00   \n",
       "\n",
       "          aep_readtime  aep_readtime_utc  measurement_type measurement_value  \\\n",
       "0  2021-10-28 09:35:17        1635413717     temperature_f              80.6   \n",
       "1  2021-10-28 13:48:26        1635428906  instantaneous_ia              2.91   \n",
       "2  2021-10-28 05:43:09        1635399789     temperature_f              80.6   \n",
       "3  2021-10-28 05:43:09        1635399789  instantaneous_ia              0.76   \n",
       "4  2021-10-28 05:43:09        1635399789   voltage_phase_a             240.9   \n",
       "\n",
       "      longitude     latitude aep_opco aep_read_dt  \n",
       "0  -83.01265100  40.06124300       oh  2021-10-28  \n",
       "1  -83.01265100  40.06124300       oh  2021-10-28  \n",
       "2  -83.01265100  40.06124300       oh  2021-10-28  \n",
       "3  -83.01265100  40.06124300       oh  2021-10-28  \n",
       "4  -83.01265100  40.06124300       oh  2021-10-28  "
      ]
     },
     "execution_count": 9,
     "metadata": {},
     "output_type": "execute_result"
    }
   ],
   "source": [
    "df_usg_inst_OG.head()"
   ]
  },
  {
   "cell_type": "markdown",
   "id": "fcf95eb7",
   "metadata": {},
   "source": [
    "# -----"
   ]
  },
  {
   "cell_type": "code",
   "execution_count": 10,
   "id": "66da10cc",
   "metadata": {},
   "outputs": [],
   "source": [
    "df_usg_inst = df_usg_inst_OG.copy()"
   ]
  },
  {
   "cell_type": "code",
   "execution_count": 11,
   "id": "e9839ba2",
   "metadata": {
    "scrolled": true
   },
   "outputs": [
    {
     "name": "stdout",
     "output_type": "stream",
     "text": [
      "df_usg_inst.shape = (1017, 12)\n",
      "\n",
      "df_usg_inst['measurement_type'].unique()\n",
      " -------------------------\n",
      " ['temperature_f' 'instantaneous_ia' 'voltage_phase_a'\n",
      " 'power_factor_phase_a' 'instantaneous_kw' 'capacitor_voltage'\n",
      " 'rom_error_status' 'device_firmware_version_support_status'\n",
      " 'demand_overload_status' 'unprogrammed_status' 'loss_of_program_status'\n",
      " 'low_battery_status' 'capacitor_fault_bit' 'capacitor_fault_status'\n",
      " 'dsp_error_status' 'nvram_error_status' 'reverse_energy_flow_status'\n",
      " 'ram_error_status' 'system_error_status' 'leading_kvarh_status'\n",
      " 'under_voltage_status' 'clock_error_status' 'meter_inversion_status']\n"
     ]
    }
   ],
   "source": [
    "print(f'df_usg_inst.shape = {df_usg_inst.shape}')\n",
    "print(\"\\ndf_usg_inst['measurement_type'].unique()\\n\", '-'*25+'\\n', df_usg_inst['measurement_type'].unique())"
   ]
  },
  {
   "cell_type": "code",
   "execution_count": null,
   "id": "fdda27d8",
   "metadata": {},
   "outputs": [],
   "source": [
    "df_usg_inst['aep_readtime'] = pd.to_datetime(df_usg_inst['aep_readtime'])\n",
    "df_usg_inst = Utilities_df.convert_col_types(\n",
    "    df=df_usg_inst, \n",
    "    cols_and_types_dict={'measurement_value':float}, \n",
    "    to_numeric_errors='coerce', \n",
    "    inplace=True\n",
    ")"
   ]
  },
  {
   "cell_type": "code",
   "execution_count": null,
   "id": "b313b365",
   "metadata": {},
   "outputs": [],
   "source": [
    "sort_by = ['aep_readtime', 'measurement_type']\n",
    "df_usg_inst = df_usg_inst.sort_values(by=sort_by, ignore_index=True)"
   ]
  },
  {
   "cell_type": "code",
   "execution_count": null,
   "id": "36238bba",
   "metadata": {},
   "outputs": [],
   "source": [
    "for idx,gp_df in df_usg_inst.groupby('aep_read_dt'):\n",
    "    print(gp_df['aep_readtime'].nunique())"
   ]
  },
  {
   "cell_type": "code",
   "execution_count": null,
   "id": "4c1ad366",
   "metadata": {},
   "outputs": [],
   "source": []
  },
  {
   "cell_type": "code",
   "execution_count": null,
   "id": "bc9cd0cc",
   "metadata": {},
   "outputs": [],
   "source": []
  },
  {
   "cell_type": "code",
   "execution_count": null,
   "id": "86437f56",
   "metadata": {},
   "outputs": [],
   "source": []
  },
  {
   "cell_type": "code",
   "execution_count": null,
   "id": "6e9109b2",
   "metadata": {},
   "outputs": [],
   "source": []
  },
  {
   "cell_type": "code",
   "execution_count": null,
   "id": "a10e48d1",
   "metadata": {},
   "outputs": [],
   "source": []
  },
  {
   "cell_type": "markdown",
   "id": "fa553ec9",
   "metadata": {},
   "source": [
    "### Why are there entries which are EXACTLY the same except for read time (read_time, aep_readtime, aep_readtime_utc)"
   ]
  },
  {
   "cell_type": "code",
   "execution_count": null,
   "id": "1dc11bdc",
   "metadata": {},
   "outputs": [],
   "source": [
    "df_usg_inst.iloc[1]==df_usg_inst.iloc[6]"
   ]
  },
  {
   "cell_type": "code",
   "execution_count": null,
   "id": "3ea19633",
   "metadata": {},
   "outputs": [],
   "source": [
    "df_usg_inst[(df_usg_inst['aep_read_dt']=='2021-10-12') & (df_usg_inst['measurement_type']=='instantaneous_kw')]"
   ]
  },
  {
   "cell_type": "code",
   "execution_count": null,
   "id": "1399d545",
   "metadata": {},
   "outputs": [],
   "source": [
    "my_df_usg_inst = df_usg_inst.copy()"
   ]
  },
  {
   "cell_type": "code",
   "execution_count": null,
   "id": "524aca91",
   "metadata": {},
   "outputs": [],
   "source": []
  },
  {
   "cell_type": "code",
   "execution_count": null,
   "id": "42627209",
   "metadata": {},
   "outputs": [],
   "source": [
    "my_df_usg_inst_dupl = my_df_usg_inst[my_df_usg_inst.duplicated(subset=[x for x in my_df_usg_inst.columns \n",
    "                                                                       if x not in ['aep_readtime', 'aep_readtime_utc']], keep=False)]\n",
    "my_df_usg_inst_dupl_gpd = my_df_usg_inst_dupl.groupby([x for x in my_df_usg_inst.columns \n",
    "                                                       if x not in ['aep_readtime', 'aep_readtime_utc']])"
   ]
  },
  {
   "cell_type": "code",
   "execution_count": null,
   "id": "e4dbfa11",
   "metadata": {},
   "outputs": [],
   "source": [
    "get_group_idx=0\n",
    "my_df_usg_inst_dupl_gpd.get_group(list(my_df_usg_inst_dupl_gpd.groups.keys())[get_group_idx])"
   ]
  },
  {
   "cell_type": "code",
   "execution_count": null,
   "id": "657ff2de",
   "metadata": {},
   "outputs": [],
   "source": [
    "my_df_usg_inst.shape"
   ]
  },
  {
   "cell_type": "code",
   "execution_count": null,
   "id": "fe0ee17e",
   "metadata": {},
   "outputs": [],
   "source": [
    "my_df_usg_inst.drop_duplicates(subset=[x for x in my_df_usg_inst.columns \n",
    "                                       if x not in ['aep_readtime', 'aep_readtime_utc']]).shape"
   ]
  },
  {
   "cell_type": "code",
   "execution_count": null,
   "id": "a3996e98",
   "metadata": {},
   "outputs": [],
   "source": []
  },
  {
   "cell_type": "markdown",
   "id": "7dd56ee6",
   "metadata": {},
   "source": [
    "# Setup df_usage_inst"
   ]
  },
  {
   "cell_type": "code",
   "execution_count": null,
   "id": "9570322e",
   "metadata": {},
   "outputs": [],
   "source": [
    "conn = Utilities.get_athena_prod_aws_connection()"
   ]
  },
  {
   "cell_type": "code",
   "execution_count": null,
   "id": "91b751f4",
   "metadata": {},
   "outputs": [],
   "source": [
    "#date_range = ['2020-10-12', '2020-10-13']\n",
    "date_range = ['2020-10-12', '2020-11-12']\n",
    "\n",
    "# Randomly selected\n",
    "premise_nbs = [\n",
    "    '072163781',\n",
    "    '100166573',\n",
    "    '101258511',\n",
    "    '105347161',\n",
    "    '109612790',\n",
    "    '075671313',\n",
    "    '106737082',\n",
    "    '102970840',\n",
    "    '103596600',\n",
    "    '107782860'\n",
    "]\n",
    "\n",
    "state_abbr_txs = ['OH']\n",
    "\n",
    "cols_of_interest_usage_inst = [\n",
    "    'read_type',\n",
    "    'serialnumber',\n",
    "    'aep_premise_nb',\n",
    "    'timezoneoffset',\n",
    "    'aep_readtime',\n",
    "    'aep_readtime_utc',\n",
    "    'measurement_type',\n",
    "    'measurement_value',\n",
    "    'longitude',\n",
    "    'latitude',\n",
    "    'aep_opco',\n",
    "    'aep_read_dt'\n",
    "]\n",
    "\n",
    "sql_usage_inst = (\n",
    "\"\"\"\n",
    "SELECT {}\n",
    "FROM usage_instantaneous.inst_msr_consume\n",
    "WHERE aep_opco = 'oh' \n",
    "AND aep_state IN ({})\n",
    "AND aep_premise_nb IN ({})\n",
    "AND aep_read_dt BETWEEN '{}' AND '{}'\n",
    "\"\"\"\n",
    ").format(','.join(cols_of_interest_usage_inst), \n",
    "         ','.join([\"'{}'\".format(x) for x in state_abbr_txs]), \n",
    "         ','.join([\"'{}'\".format(x) for x in premise_nbs]), \n",
    "         date_range[0], \n",
    "         date_range[1])\n",
    "\n",
    "# sql_usage_inst = (\n",
    "# \"\"\"\n",
    "# SELECT {}\n",
    "# FROM usage_instantaneous.inst_msr_consume\n",
    "# WHERE aep_opco = 'oh' \n",
    "# AND aep_state IN ({})\n",
    "# AND aep_read_dt BETWEEN '{}' AND '{}'\n",
    "# LIMIT 100000\n",
    "# \"\"\"\n",
    "# ).format(','.join(cols_of_interest_usage_inst), \n",
    "#          ','.join([\"'{}'\".format(x) for x in state_abbr_txs]), \n",
    "#          date_range[0], \n",
    "#          date_range[1])"
   ]
  },
  {
   "cell_type": "code",
   "execution_count": null,
   "id": "538134c8",
   "metadata": {},
   "outputs": [],
   "source": []
  },
  {
   "cell_type": "code",
   "execution_count": null,
   "id": "dfeefe13",
   "metadata": {},
   "outputs": [],
   "source": [
    "print(sql_usage_inst)"
   ]
  },
  {
   "cell_type": "code",
   "execution_count": null,
   "id": "578e10bd",
   "metadata": {},
   "outputs": [],
   "source": [
    "df_usage_inst_OG = pd.read_sql(sql_usage_inst, conn)\n",
    "df_usage_inst_OG = Utilities_df.remove_table_aliases(df_usage_inst_OG)"
   ]
  },
  {
   "cell_type": "code",
   "execution_count": null,
   "id": "e89c09db",
   "metadata": {},
   "outputs": [],
   "source": []
  },
  {
   "cell_type": "code",
   "execution_count": null,
   "id": "0f79581e",
   "metadata": {},
   "outputs": [],
   "source": [
    "df_usage_inst = df_usage_inst_OG.copy()"
   ]
  },
  {
   "cell_type": "code",
   "execution_count": null,
   "id": "9ca66612",
   "metadata": {},
   "outputs": [],
   "source": [
    "print(f'df_usage_inst.shape = {df_usage_inst.shape}')"
   ]
  },
  {
   "cell_type": "code",
   "execution_count": null,
   "id": "cc57a4a4",
   "metadata": {},
   "outputs": [],
   "source": [
    "df_usage_inst = Utilities_df.convert_col_types(\n",
    "    df=df_usage_inst, \n",
    "    cols_and_types_dict={'measurement_value':float}, \n",
    "    to_numeric_errors='coerce', \n",
    "    inplace=True\n",
    ")"
   ]
  },
  {
   "cell_type": "code",
   "execution_count": null,
   "id": "1fa40357",
   "metadata": {},
   "outputs": [],
   "source": [
    "df_usage_inst"
   ]
  },
  {
   "cell_type": "code",
   "execution_count": null,
   "id": "b8409801",
   "metadata": {},
   "outputs": [],
   "source": [
    "df_usage_inst.dtypes"
   ]
  },
  {
   "cell_type": "code",
   "execution_count": null,
   "id": "976e1aba",
   "metadata": {},
   "outputs": [],
   "source": [
    "df_usage_inst.drop_duplicates(subset=[x for x in df_usage_inst.columns \n",
    "                                      if x not in ['aep_readtime', 'aep_readtime_utc']]).shape"
   ]
  },
  {
   "cell_type": "code",
   "execution_count": null,
   "id": "80a8b664",
   "metadata": {},
   "outputs": [],
   "source": []
  },
  {
   "cell_type": "code",
   "execution_count": null,
   "id": "8e710c55",
   "metadata": {},
   "outputs": [],
   "source": []
  },
  {
   "cell_type": "code",
   "execution_count": null,
   "id": "a4a49e1f",
   "metadata": {},
   "outputs": [],
   "source": [
    "print(df_usage_inst.columns)\n",
    "df_usage_inst.head(10)"
   ]
  },
  {
   "cell_type": "code",
   "execution_count": null,
   "id": "7fd24ec3",
   "metadata": {},
   "outputs": [],
   "source": []
  },
  {
   "cell_type": "code",
   "execution_count": null,
   "id": "30494bdf",
   "metadata": {},
   "outputs": [],
   "source": [
    "df_usage_inst['read_type'].unique()"
   ]
  },
  {
   "cell_type": "code",
   "execution_count": null,
   "id": "6ea1397b",
   "metadata": {},
   "outputs": [],
   "source": [
    "len(df_usage_inst['serialnumber'].unique())"
   ]
  },
  {
   "cell_type": "code",
   "execution_count": null,
   "id": "1c6cca87",
   "metadata": {},
   "outputs": [],
   "source": [
    "df_usage_inst.groupby(['serialnumber', 'aep_read_dt']).ngroups"
   ]
  },
  {
   "cell_type": "code",
   "execution_count": null,
   "id": "0d96a063",
   "metadata": {},
   "outputs": [],
   "source": []
  },
  {
   "cell_type": "code",
   "execution_count": null,
   "id": "9319f59d",
   "metadata": {},
   "outputs": [],
   "source": [
    "for idx, gp_df in df_usage_inst.groupby(['serialnumber', 'aep_read_dt']):\n",
    "    print(gp_df['aep_readtime'].nunique())"
   ]
  },
  {
   "cell_type": "code",
   "execution_count": null,
   "id": "d11a73ed",
   "metadata": {},
   "outputs": [],
   "source": []
  },
  {
   "cell_type": "code",
   "execution_count": null,
   "id": "d697337b",
   "metadata": {},
   "outputs": [],
   "source": []
  },
  {
   "cell_type": "code",
   "execution_count": null,
   "id": "44ba5fe2",
   "metadata": {},
   "outputs": [],
   "source": []
  },
  {
   "cell_type": "code",
   "execution_count": null,
   "id": "eb9f2dd9",
   "metadata": {},
   "outputs": [],
   "source": []
  },
  {
   "cell_type": "code",
   "execution_count": null,
   "id": "4b03f84b",
   "metadata": {},
   "outputs": [],
   "source": []
  },
  {
   "cell_type": "code",
   "execution_count": null,
   "id": "fdc63ac4",
   "metadata": {},
   "outputs": [],
   "source": [
    "df_usage_inst['read_type'].unique()"
   ]
  },
  {
   "cell_type": "code",
   "execution_count": null,
   "id": "a8285fed",
   "metadata": {},
   "outputs": [],
   "source": [
    "df_usage_inst['measurement_type'].unique()"
   ]
  },
  {
   "cell_type": "code",
   "execution_count": null,
   "id": "216554b1",
   "metadata": {},
   "outputs": [],
   "source": [
    "df_usage_inst.groupby('measurement_type')['measurement_value'].mean()"
   ]
  },
  {
   "cell_type": "code",
   "execution_count": null,
   "id": "044eb20e",
   "metadata": {},
   "outputs": [],
   "source": [
    "fig_num = 0"
   ]
  },
  {
   "cell_type": "code",
   "execution_count": null,
   "id": "92e4d5cb",
   "metadata": {},
   "outputs": [],
   "source": [
    "# tmp_df = df_usage_inst[df_usage_inst['measurement_type']=='power_factor_phase_a']\n",
    "# fig, ax = plt.subplots(1, 1, num=fig_num, figsize=[11, 8.5])\n",
    "# #fig.suptitle('Transformer Voltages By Date', fontsize=25, fontweight='bold')\n",
    "# sns.stripplot(ax=ax, x='serialnumber', y='measurement_value', data=tmp_df, jitter=False)\n",
    "# ax.tick_params(axis='x', labelrotation=90, labelsize=7.0, direction='in');\n",
    "# fig_num +=1\n"
   ]
  },
  {
   "cell_type": "code",
   "execution_count": null,
   "id": "d1b67d0e",
   "metadata": {
    "scrolled": true
   },
   "outputs": [],
   "source": [
    "# measurement_types = df_usage_inst['measurement_type'].unique().tolist()\n",
    "# for measurement_type in measurement_types:\n",
    "#     tmp_df = df_usage_inst[df_usage_inst['measurement_type']==measurement_type]\n",
    "#     fig, ax = plt.subplots(1, 1, num=fig_num, figsize=[11, 8.5])\n",
    "#     fig.suptitle(f'Measurement Type = {measurement_type}', fontsize=25, fontweight='bold')\n",
    "#     sns.stripplot(ax=ax, x='serialnumber', y='measurement_value', data=tmp_df, jitter=False)\n",
    "#     ax.tick_params(axis='x', labelrotation=90, labelsize=7.0, direction='in');\n",
    "#     fig_num +=1"
   ]
  },
  {
   "cell_type": "code",
   "execution_count": null,
   "id": "e75d226a",
   "metadata": {
    "scrolled": true
   },
   "outputs": [],
   "source": [
    "# measurement_types = df_usage_inst['measurement_type'].unique().tolist()\n",
    "# for measurement_type in measurement_types:\n",
    "#     tmp_df = df_usage_inst[df_usage_inst['measurement_type']==measurement_type]\n",
    "#     fig, ax = plt.subplots(1, 1, num=fig_num, figsize=[11, 8.5])\n",
    "#     fig.suptitle(f'Measurement Type = {measurement_type}', fontsize=25, fontweight='bold')\n",
    "#     sns.boxplot(ax=ax, x='read_type', y='measurement_value', data=tmp_df)\n",
    "#     ax.tick_params(axis='x', labelrotation=90, labelsize=7.0, direction='in');\n",
    "#     fig_num +=1"
   ]
  },
  {
   "cell_type": "code",
   "execution_count": null,
   "id": "d4038b7a",
   "metadata": {},
   "outputs": [],
   "source": []
  },
  {
   "cell_type": "code",
   "execution_count": null,
   "id": "4fd059ca",
   "metadata": {},
   "outputs": [],
   "source": []
  },
  {
   "cell_type": "code",
   "execution_count": null,
   "id": "e135777d",
   "metadata": {},
   "outputs": [],
   "source": []
  },
  {
   "cell_type": "code",
   "execution_count": null,
   "id": "327aabf3",
   "metadata": {},
   "outputs": [],
   "source": []
  },
  {
   "cell_type": "code",
   "execution_count": null,
   "id": "b87a226d",
   "metadata": {},
   "outputs": [],
   "source": [
    "state_abbr_txs = ['OH']\n",
    "\n",
    "# limit = 10000\n",
    "# date_range = ['2020-10-12', '2020-10-13']\n",
    "\n",
    "limit = 1000\n",
    "date_range = ['2020-01-01', '2022-01-01']\n",
    "\n",
    "cols_of_interest_usage_inst = [\n",
    "    'read_type',\n",
    "    'serialnumber',\n",
    "    'aep_premise_nb',\n",
    "    'timezoneoffset',\n",
    "    'aep_readtime',\n",
    "    'aep_readtime_utc',\n",
    "    'measurement_type',\n",
    "    'measurement_value',\n",
    "    'longitude',\n",
    "    'latitude',\n",
    "    'aep_opco',\n",
    "    'aep_read_dt'\n",
    "]\n",
    "\n",
    "\n",
    "sql_gen = (\n",
    "\"\"\"\n",
    "SELECT {0}\n",
    "FROM usage_instantaneous.inst_msr_consume\n",
    "WHERE aep_opco = 'oh' \n",
    "AND aep_read_dt BETWEEN '{1}' AND '{2}'\n",
    "AND read_type = {3}\n",
    "LIMIT {4}\n",
    "\"\"\"\n",
    ").format('{}', \n",
    "         date_range[0], date_range[1], \n",
    "         '{}', \n",
    "         limit)\n",
    "\n",
    "sql_1 = sql_gen.format(','.join(cols_of_interest_usage_inst), \"'mt110_voltage_event'\")\n",
    "sql_2 = sql_gen.format(','.join(cols_of_interest_usage_inst), \"'mt113_st28_am_temp_powerquality'\")\n",
    "sql_3 = sql_gen.format(','.join(cols_of_interest_usage_inst), \"'mt115_load_control_status'\")\n",
    "sql_4 = sql_gen.format(','.join(cols_of_interest_usage_inst), \"'mt117_capacitor_voltage'\")\n",
    "sql_5 = sql_gen.format(','.join(cols_of_interest_usage_inst), \"'mt72_kv2c'\")\n",
    "sql_6 = sql_gen.format(','.join(cols_of_interest_usage_inst), \"'mt113_st28_pm_temp_powerquality'\")\n",
    "sql_7 = sql_gen.format(','.join(cols_of_interest_usage_inst), \"'st03_fatal_errors'\")"
   ]
  },
  {
   "cell_type": "code",
   "execution_count": null,
   "id": "8e3e397d",
   "metadata": {},
   "outputs": [],
   "source": []
  },
  {
   "cell_type": "code",
   "execution_count": null,
   "id": "540aa1af",
   "metadata": {},
   "outputs": [],
   "source": []
  },
  {
   "cell_type": "code",
   "execution_count": null,
   "id": "4e8323d1",
   "metadata": {},
   "outputs": [],
   "source": []
  },
  {
   "cell_type": "code",
   "execution_count": null,
   "id": "8549eded",
   "metadata": {},
   "outputs": [],
   "source": [
    "df_1 = pd.read_sql(sql_1, conn)\n",
    "df_2 = pd.read_sql(sql_2, conn)\n",
    "df_3 = pd.read_sql(sql_3, conn)\n",
    "df_4 = pd.read_sql(sql_4, conn)\n",
    "df_5 = pd.read_sql(sql_5, conn)\n",
    "df_6 = pd.read_sql(sql_6, conn)\n",
    "df_7 = pd.read_sql(sql_7, conn)"
   ]
  },
  {
   "cell_type": "code",
   "execution_count": null,
   "id": "7a4ba66c",
   "metadata": {},
   "outputs": [],
   "source": [
    "df_usage_inst_2_OG = pd.concat([df_1, df_2, df_3, df_4, df_5, df_6, df_7])"
   ]
  },
  {
   "cell_type": "code",
   "execution_count": null,
   "id": "093e808b",
   "metadata": {},
   "outputs": [],
   "source": []
  },
  {
   "cell_type": "code",
   "execution_count": null,
   "id": "3d789054",
   "metadata": {},
   "outputs": [],
   "source": []
  },
  {
   "cell_type": "code",
   "execution_count": null,
   "id": "d9c82d8f",
   "metadata": {},
   "outputs": [],
   "source": [
    "df_usage_inst_2 = df_usage_inst_2_OG.copy()"
   ]
  },
  {
   "cell_type": "code",
   "execution_count": null,
   "id": "298b834c",
   "metadata": {},
   "outputs": [],
   "source": [
    "df_usage_inst_2 = Utilities_df.remove_table_aliases(df_usage_inst_2)\n",
    "\n",
    "df_usage_inst_2 = df_usage_inst_2[df_usage_inst_2['measurement_value'].notna()] # Don't want rows with null measurement values, I guess...\n",
    "df_usage_inst_2 = df_usage_inst_2[df_usage_inst_2['measurement_value']!=' '] # Don't want rows with measurement values = ' ', I guess...\n",
    "df_usage_inst_2 = df_usage_inst_2[df_usage_inst_2['measurement_value']!='FAULT']"
   ]
  },
  {
   "cell_type": "code",
   "execution_count": null,
   "id": "00e01055",
   "metadata": {},
   "outputs": [],
   "source": [
    "df_usage_inst_2 = Utilities_df.convert_col_types(\n",
    "    df=df_usage_inst_2, \n",
    "    cols_and_types_dict={'measurement_value':float}, \n",
    "    to_numeric_errors='coerce', \n",
    "    inplace=True\n",
    ")"
   ]
  },
  {
   "cell_type": "code",
   "execution_count": null,
   "id": "47e0ea7a",
   "metadata": {},
   "outputs": [],
   "source": []
  },
  {
   "cell_type": "code",
   "execution_count": null,
   "id": "32a6db34",
   "metadata": {},
   "outputs": [],
   "source": []
  },
  {
   "cell_type": "code",
   "execution_count": null,
   "id": "0f548bba",
   "metadata": {
    "scrolled": true
   },
   "outputs": [],
   "source": [
    "# measurement_types = df_usage_inst_2['measurement_type'].unique().tolist()\n",
    "# for measurement_type in measurement_types:\n",
    "#     tmp_df = df_usage_inst_2[df_usage_inst_2['measurement_type']==measurement_type]\n",
    "#     fig, ax = plt.subplots(1, 1, num=fig_num, figsize=[11, 8.5])\n",
    "#     fig.suptitle(f'Measurement Type = {measurement_type}', fontsize=25, fontweight='bold')\n",
    "#     sns.boxplot(ax=ax, x='read_type', y='measurement_value', data=tmp_df)\n",
    "#     ax.tick_params(axis='x', labelrotation=90, labelsize=7.0, direction='in');\n",
    "#     fig_num +=1"
   ]
  },
  {
   "cell_type": "code",
   "execution_count": null,
   "id": "3a187114",
   "metadata": {},
   "outputs": [],
   "source": [
    "df_usage_inst_2"
   ]
  },
  {
   "cell_type": "code",
   "execution_count": null,
   "id": "3d433e22",
   "metadata": {},
   "outputs": [],
   "source": [
    "measurement_types = sorted(df_usage_inst_2['measurement_type'].unique().tolist())\n",
    "read_types = df_usage_inst_2['read_type'].unique().tolist()\n",
    "for read_type in read_types:\n",
    "    tmp_df = df_usage_inst_2[df_usage_inst_2['read_type']==read_type]\n",
    "    fig, ax = plt.subplots(1, 1, num=fig_num, figsize=[11, 8.5])\n",
    "    fig.suptitle(f'Read Type = {read_type}', fontsize=25, fontweight='bold')\n",
    "    sns.boxplot(ax=ax, x='measurement_type', y='measurement_value', data=tmp_df)\n",
    "    ax.tick_params(axis='x', labelrotation=90, labelsize=7.0, direction='in');\n",
    "    fig_num +=1"
   ]
  },
  {
   "cell_type": "code",
   "execution_count": null,
   "id": "5b91d27d",
   "metadata": {},
   "outputs": [],
   "source": []
  },
  {
   "cell_type": "code",
   "execution_count": null,
   "id": "8df2b43b",
   "metadata": {},
   "outputs": [],
   "source": []
  },
  {
   "cell_type": "code",
   "execution_count": null,
   "id": "b5150e12",
   "metadata": {},
   "outputs": [],
   "source": [
    "# measurement_types for LaTeX document\n",
    "#-------------------------\n",
    "# Simple, single columned\n",
    "# for msr_type in measurement_types:\n",
    "#     print(f'  {msr_type} \\\\\\\\ \\hline')\n",
    "#-------------------------\n",
    "# Two columns\n",
    "left_start = 0\n",
    "if len(measurement_types)%2==0:\n",
    "    right_start = int(np.floor(len(measurement_types)/2))\n",
    "else:\n",
    "    right_start = int(np.floor(len(measurement_types)/2)+1)\n",
    "#-----\n",
    "left_entries = measurement_types[left_start:right_start]\n",
    "right_entries = measurement_types[right_start:]\n",
    "#-----\n",
    "if len(measurement_types)%2!=0:\n",
    "    assert(len(left_entries)==len(right_entries)+1)\n",
    "    right_entries.append('')\n",
    "assert(len(left_entries)==len(right_entries))\n",
    "#-----\n",
    "for i_row in range(len(left_entries)):\n",
    "    print(f\"  {left_entries[i_row]} & \\n  {right_entries[i_row]} \\\\\\\\ \\hline \")"
   ]
  },
  {
   "cell_type": "code",
   "execution_count": null,
   "id": "009e549b",
   "metadata": {},
   "outputs": [],
   "source": []
  },
  {
   "cell_type": "code",
   "execution_count": null,
   "id": "de0f766b",
   "metadata": {},
   "outputs": [],
   "source": []
  },
  {
   "cell_type": "code",
   "execution_count": null,
   "id": "1f1603b2",
   "metadata": {},
   "outputs": [],
   "source": []
  },
  {
   "cell_type": "code",
   "execution_count": null,
   "id": "4aa8352c",
   "metadata": {},
   "outputs": [],
   "source": []
  },
  {
   "cell_type": "code",
   "execution_count": null,
   "id": "d899c679",
   "metadata": {},
   "outputs": [],
   "source": [
    "measurement_types_in_each_read_type = {}\n",
    "for name, group in df_usage_inst_2.groupby('read_type'):\n",
    "    print('-'*25+'\\n'+f'{name}'+'\\n'+'-'*25)\n",
    "    unique_measurement_types = group['measurement_type'].unique().tolist()\n",
    "    print('Unique measurement types:')\n",
    "    print(*sorted(unique_measurement_types), sep='\\n')\n",
    "    print()\n",
    "    assert(name not in measurement_types_in_each_read_type)\n",
    "    measurement_types_in_each_read_type[name] = unique_measurement_types"
   ]
  },
  {
   "cell_type": "code",
   "execution_count": null,
   "id": "ce78e9f2",
   "metadata": {},
   "outputs": [],
   "source": [
    "measurement_types_in_each_read_type"
   ]
  },
  {
   "cell_type": "code",
   "execution_count": null,
   "id": "4d53b334",
   "metadata": {},
   "outputs": [],
   "source": [
    "df_usage_inst_2.head()"
   ]
  },
  {
   "cell_type": "code",
   "execution_count": null,
   "id": "1c5c30ce",
   "metadata": {},
   "outputs": [],
   "source": [
    "unq_msr_types_by_sn = []\n",
    "unq_read_types_by_sn = []\n",
    "for idx, gp in df_usage_inst_2.groupby('serialnumber'):\n",
    "    msr_types_i = gp['measurement_type'].unique().tolist()\n",
    "    read_types_i = gp['read_type'].unique().tolist()\n",
    "    if msr_types_i not in unq_msr_types_by_sn:\n",
    "        unq_msr_types_by_sn.append(msr_types_i)\n",
    "    if read_types_i not in unq_read_types_by_sn:\n",
    "        unq_read_types_by_sn.append(read_types_i)"
   ]
  },
  {
   "cell_type": "code",
   "execution_count": null,
   "id": "6ad607a3",
   "metadata": {},
   "outputs": [],
   "source": [
    "len(unq_msr_types_by_sn)"
   ]
  },
  {
   "cell_type": "code",
   "execution_count": null,
   "id": "6ac72276",
   "metadata": {},
   "outputs": [],
   "source": [
    "len(unq_read_types_by_sn)"
   ]
  },
  {
   "cell_type": "code",
   "execution_count": null,
   "id": "13a443e5",
   "metadata": {},
   "outputs": [],
   "source": [
    "unq_read_types_by_sn"
   ]
  },
  {
   "cell_type": "code",
   "execution_count": null,
   "id": "23545cbf",
   "metadata": {},
   "outputs": [],
   "source": [
    "unq_msr_types_by_sn"
   ]
  },
  {
   "cell_type": "code",
   "execution_count": null,
   "id": "2984d60e",
   "metadata": {},
   "outputs": [],
   "source": [
    "df_usage_inst_2.shape"
   ]
  },
  {
   "cell_type": "code",
   "execution_count": null,
   "id": "8726baa6",
   "metadata": {},
   "outputs": [],
   "source": [
    "df_usage_inst_2.drop_duplicates(subset=[x for x in df_usage_inst_2.columns \n",
    "                                      if x not in ['aep_readtime', 'aep_readtime_utc']]).shape"
   ]
  },
  {
   "cell_type": "code",
   "execution_count": null,
   "id": "03f1e90d",
   "metadata": {},
   "outputs": [],
   "source": [
    "possible_read_type_groupings=[]\n",
    "for idx,gp_df in df_usage_inst_2.groupby('serialnumber'):\n",
    "    if gp_df['read_type'].unique().tolist() not in possible_read_type_groupings:\n",
    "        possible_read_type_groupings.append(gp_df['read_type'].unique().tolist())\n",
    "#     if gp_df['read_type'].nunique()>1:\n",
    "#         print(f'serialnunber = {idx}')\n",
    "#         print(gp_df['read_type'].unique())\n",
    "#         print()"
   ]
  },
  {
   "cell_type": "code",
   "execution_count": null,
   "id": "ec25e137",
   "metadata": {},
   "outputs": [],
   "source": [
    "possible_read_type_groupings"
   ]
  },
  {
   "cell_type": "code",
   "execution_count": null,
   "id": "4cb4cc2a",
   "metadata": {},
   "outputs": [],
   "source": [
    "sorted(df_usage_inst_2['read_type'].unique().tolist())"
   ]
  },
  {
   "cell_type": "code",
   "execution_count": null,
   "id": "5bfe187d",
   "metadata": {},
   "outputs": [],
   "source": [
    "# mt110_voltage_event by self or with mt72_kv2c\n",
    "# mt72_kv2c by self or with mt110_voltage_event\n",
    "\n",
    "# mt113_st28_am_temp_powerquality by self or with mt113_st28_pm_temp_powerquality or mt115_load_control_status\n",
    "# mt113_st28_pm_temp_powerquality by self or with mt113_st28_am_temp_powerquality or mt115_load_control_status\n",
    "# mt115_load_control_status by self or with mt113_st28_am_temp_powerquality or mt113_st28_pm_temp_powerquality"
   ]
  },
  {
   "cell_type": "code",
   "execution_count": null,
   "id": "6560504c",
   "metadata": {},
   "outputs": [],
   "source": []
  },
  {
   "cell_type": "code",
   "execution_count": null,
   "id": "7be78086",
   "metadata": {},
   "outputs": [],
   "source": [
    "# my_df_usg_inst['read_type'].unique()"
   ]
  },
  {
   "cell_type": "code",
   "execution_count": null,
   "id": "1ec66ea1",
   "metadata": {},
   "outputs": [],
   "source": []
  },
  {
   "cell_type": "code",
   "execution_count": null,
   "id": "686c819a",
   "metadata": {},
   "outputs": [],
   "source": []
  }
 ],
 "metadata": {
  "kernelspec": {
   "display_name": "Python 3 (ipykernel)",
   "language": "python",
   "name": "python3"
  },
  "language_info": {
   "codemirror_mode": {
    "name": "ipython",
    "version": 3
   },
   "file_extension": ".py",
   "mimetype": "text/x-python",
   "name": "python",
   "nbconvert_exporter": "python",
   "pygments_lexer": "ipython3",
   "version": "3.11.7"
  }
 },
 "nbformat": 4,
 "nbformat_minor": 5
}
