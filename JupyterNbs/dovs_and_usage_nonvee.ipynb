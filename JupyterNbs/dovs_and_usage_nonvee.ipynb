{
 "cells": [
  {
   "cell_type": "code",
   "execution_count": 1,
   "id": "b5755605",
   "metadata": {},
   "outputs": [],
   "source": [
    "from importlib import reload\n",
    "#reload(Utilities)\n",
    "#reload(clm)\n",
    "\n",
    "import sys, os\n",
    "import re\n",
    "\n",
    "import pandas as pd\n",
    "import numpy as np\n",
    "from pandas.api.types import is_numeric_dtype, is_datetime64_dtype, is_timedelta64_dtype\n",
    "from scipy import stats\n",
    "import datetime\n",
    "import time\n",
    "from natsort import natsorted, ns\n",
    "from packaging import version\n",
    "\n",
    "import itertools\n",
    "\n",
    "import pyodbc\n",
    "#---------------------------------------------------------------------\n",
    "sys.path.insert(0, os.path.realpath('..'))\n",
    "import Utilities_config\n",
    "#-----\n",
    "import CommonLearningMethods as clm\n",
    "#-----\n",
    "from MeterPremise import MeterPremise\n",
    "#-----\n",
    "from AMI_SQL import AMI_SQL\n",
    "from AMINonVee_SQL import AMINonVee_SQL\n",
    "from AMIEndEvents_SQL import AMIEndEvents_SQL\n",
    "from AMIUsgInst_SQL import AMIUsgInst_SQL\n",
    "from DOVSOutages_SQL import DOVSOutages_SQL\n",
    "#-----\n",
    "from GenAn import GenAn\n",
    "from AMINonVee import AMINonVee\n",
    "from AMIEndEvents import AMIEndEvents\n",
    "from AMIUsgInst import AMIUsgInst\n",
    "from DOVSOutages import DOVSOutages\n",
    "#---------------------------------------------------------------------\n",
    "import matplotlib as mpl\n",
    "import matplotlib.pyplot as plt\n",
    "import seaborn as sns\n",
    "from matplotlib.backends.backend_pdf import PdfPages\n",
    "import matplotlib.patches as mpatches\n",
    "from matplotlib.lines import Line2D\n",
    "import matplotlib.ticker as ticker\n",
    "from matplotlib import dates\n",
    "#---------------------------------------------------------------------\n",
    "sys.path.insert(0, Utilities_config.get_sql_aids_dir())\n",
    "import Utilities_sql\n",
    "import TableInfos\n",
    "from TableInfos import TableInfo\n",
    "from SQLElement import SQLElement\n",
    "from SQLElementsCollection import SQLElementsCollection\n",
    "from SQLSelect import SQLSelectElement, SQLSelect\n",
    "from SQLFrom import SQLFrom\n",
    "from SQLWhere import SQLWhereElement, SQLWhere\n",
    "from SQLJoin import SQLJoin, SQLJoinCollection\n",
    "from SQLGroupBy import SQLGroupByElement, SQLGroupBy\n",
    "from SQLHaving import SQLHaving\n",
    "from SQLOrderBy import SQLOrderByElement, SQLOrderBy\n",
    "from SQLQuery import SQLQuery\n",
    "from SQLQueryGeneric import SQLQueryGeneric\n",
    "#---------------------------------------------------------------------\n",
    "sys.path.insert(0, Utilities_config.get_utilities_dir())\n",
    "import Utilities\n",
    "import Utilities_df\n",
    "from Utilities_df import DFConstructType\n",
    "import Utilities_dt\n",
    "import Plot_General\n",
    "import Plot_Box_sns\n",
    "import GrubbsTest"
   ]
  },
  {
   "cell_type": "code",
   "execution_count": 2,
   "id": "1a0dd5fa",
   "metadata": {},
   "outputs": [],
   "source": [
    "def build_sn_legend_handles(sn_keys, palette_dict, linestyles_dict, linewidths_dict=None):\n",
    "    return_handles = []\n",
    "    for sn in sn_keys:\n",
    "        color = palette_dict[sn]\n",
    "        linestyle = linestyles_dict[sn]\n",
    "        linewidth = linewidths_dict[sn] if linewidths_dict else 1\n",
    "        line2d = Line2D([0], [0], label=sn, marker=None, \n",
    "                        color=color, linewidth=linewidth)\n",
    "        return_handles.append(line2d)\n",
    "    return return_handles"
   ]
  },
  {
   "cell_type": "code",
   "execution_count": null,
   "id": "4c01d327",
   "metadata": {},
   "outputs": [],
   "source": []
  },
  {
   "cell_type": "code",
   "execution_count": 3,
   "id": "107873a8",
   "metadata": {},
   "outputs": [],
   "source": [
    "conn_outages = Utilities.get_utldb01p_oracle_connection()\n",
    "conn_aws = Utilities.get_athena_prod_aws_connection()"
   ]
  },
  {
   "cell_type": "code",
   "execution_count": 4,
   "id": "e1ff57e4",
   "metadata": {},
   "outputs": [],
   "source": [
    "fig_num = 0"
   ]
  },
  {
   "cell_type": "code",
   "execution_count": null,
   "id": "c38f97ac",
   "metadata": {},
   "outputs": [],
   "source": []
  },
  {
   "cell_type": "markdown",
   "id": "9c543b5a",
   "metadata": {},
   "source": [
    "# ---------------------------------------------------------------\n",
    "# OUTAGES\n",
    "# ---------------------------------------------------------------"
   ]
  },
  {
   "cell_type": "markdown",
   "id": "9b2615d2",
   "metadata": {},
   "source": [
    "# NOTE\n",
    "11946344 is scheduled output.  So, there are apparently no corresponding end events!"
   ]
  },
  {
   "cell_type": "code",
   "execution_count": 5,
   "id": "b33ae70a",
   "metadata": {},
   "outputs": [
    {
     "name": "stdout",
     "output_type": "stream",
     "text": [
      "SELECT\n",
      "\tDOV.CI_NB,\n",
      "\tDOV.CMI_NB,\n",
      "\tDOV.OUTG_REC_NB,\n",
      "\tDOV.OUTAGE_NB,\n",
      "\tDOV.DT_ON_TS,\n",
      "\tDOV.DT_OFF_TS,\n",
      "\tDOV.DT_ON_TS - DOV.STEP_DRTN_NB/(60*24) AS DT_OFF_TS_FULL,\n",
      "\tDOV.STEP_DRTN_NB,\n",
      "\tEXTRACT(YEAR FROM DOV.DT_OFF_TS) AS START_YEAR,\n",
      "\tDOV.OPERATING_UNIT_ID,\n",
      "\tDOV.STATE_ABBR_TX,\n",
      "\tDOV.MJR_CAUSE_CD,\n",
      "\tDOV.MNR_CAUSE_CD,\n",
      "\tDOV.LOCATION_ID,\n",
      "\tDOV.GIS_CRCT_NB,\n",
      "\tDOV1.OPRTG_UNT_NM,\n",
      "\tDOV3.DVC_TYP_NM,\n",
      "\tDOV3.SHORT_NM AS SHORT_NM_CLR_DEV,\n",
      "\tDOV4.EQUIP_TYP_NM,\n",
      "\tDOV4.SHORT_NM AS SHORT_NM_EQP_TYP,\n",
      "\tDOV5.MJR_CAUSE_NM,\n",
      "\tDOV5.MNR_CAUSE_NM,\n",
      "\tPRIM.OFF_TM,\n",
      "\tPRIM.REST_TM,\n",
      "\tPRIM.PREMISE_NB\n",
      "FROM DOVSADM.DOVS_OUTAGE_FACT DOV\n",
      "\tLEFT OUTER JOIN DOVSADM.DOVS_MASTER_GEO_DIM DOV1 ON DOV.OPERATING_UNIT_ID=DOV1.OPRTG_UNT_ID AND DOV.STATE_ABBR_TX=DOV1.STATE_ID AND DOV.OPCO_NBR=DOV1.OPCO_ID AND DOV.DISTRICT_NB=DOV1.DISTRICT_ID AND DOV.SRVC_CNTR_NB=DOV1.AREA_ID AND DOV.GIS_CRCT_NB=DOV1.GIS_CIRCUIT_ID\n",
      "\tLEFT OUTER JOIN DOVSADM.DOVS_OUTAGE_ATTRIBUTES_DIM DOV2 ON DOV.OUTG_REC_NB=DOV2.OUTG_REC_NB\n",
      "\tLEFT OUTER JOIN DOVSADM.DOVS_CLEARING_DEVICE_DIM DOV3 ON DOV.DEVICE_CD=DOV3.DEVICE_CD\n",
      "\tLEFT OUTER JOIN DOVSADM.DOVS_EQUIPMENT_TYPES_DIM DOV4 ON DOV.EQUIPMENT_CD=DOV4.EQUIPMENT_CD\n",
      "\tLEFT OUTER JOIN DOVSADM.DOVS_OUTAGE_CAUSE_TYPES_DIM DOV5 ON DOV.MJR_CAUSE_CD=DOV5.MJR_CAUSE_CD AND DOV.MNR_CAUSE_CD=DOV5.MNR_CAUSE_CD\n",
      "\tLEFT OUTER JOIN DOVSADM.DOVS_PREMISE_DIM PRIM ON DOV.OUTG_REC_NB=PRIM.OUTG_REC_NB\n",
      "WHERE DOV.OUTG_REC_NB IN ('12069393','12051783','12069529','12076764','12058007')\n",
      "AND   DOV.MJR_CAUSE_CD <> 'NI'\n",
      "AND   DOV.DEVICE_CD <> 85\n",
      "AND   DOV2.INTRPTN_TYP_CD = 'S'\n",
      "AND   DOV2.CURR_REC_STAT_CD = 'A'\n"
     ]
    }
   ],
   "source": [
    "# NOTE\n",
    "# 11946344 is scheduled output.  So, there are apparently no corresponding end events!\n",
    "\n",
    "# #dates_of_outages = ['2020-10-12']\n",
    "# outg_rec_nbs = ['11947217', '11946640', '11946344']\n",
    "\n",
    "# #dates_of_outages = ['2020-10-12', '2017-09-16']\n",
    "# outg_rec_nbs = ['11947217', '11946640', '11946344', '10143524']\n",
    "\n",
    "# #dates_of_outages = ['2020-10-12', '2017-09-16']\n",
    "# outg_rec_nbs = ['11947217', '11946640', '10143524']\n",
    "\n",
    "# #dates_of_outages = ['2020-07-01']\n",
    "# outg_rec_nbs = ['11770899']\n",
    "\n",
    "# #dates_of_outages = ['2020-10-12', '2017-09-16', '2020-07-01']\n",
    "#outg_rec_nbs = ['11947217', '11946640', '10143524', '11770899']\n",
    "\n",
    "# outg_rec_nbs = ['11947217', '11946640', '10143524', '11770899', '11751094', '11738944', \n",
    "#                 '11496239', '11818003', '11833199', '11851647', '12022118']\n",
    "\n",
    "outg_rec_nbs = ['12069393', '12051783', '12069529', '12076764', '12058007']\n",
    "#--------------------------------------------------\n",
    "sql_outage = DOVSOutages_SQL.build_sql_std_outage(outg_rec_nbs=outg_rec_nbs)\n",
    "sql_outage.print()"
   ]
  },
  {
   "cell_type": "code",
   "execution_count": 6,
   "id": "00fab246",
   "metadata": {},
   "outputs": [],
   "source": [
    "dovs_outgs = DOVSOutages(df_construct_type=DFConstructType.kRunSqlQuery, \n",
    "                         build_sql_function_kwargs=dict(\n",
    "                             outg_rec_nbs=outg_rec_nbs\n",
    "                         ), \n",
    "                         init_df_in_constructor=True)\n",
    "\n",
    "#search_time_window = 60*12 #minutes\n",
    "search_time_window = 60*72 #minutes\n",
    "search_time_window = datetime.timedelta(minutes=search_time_window)\n",
    "dovs_outgs.set_search_time(\n",
    "    search_time_window,     \n",
    "    power_out_col='DT_OFF_TS_FULL', power_on_col='DT_ON_TS', \n",
    "    t_search_min_col='t_search_min', t_search_max_col='t_search_max'\n",
    ")\n",
    "\n",
    "df_outage = dovs_outgs.get_df()"
   ]
  },
  {
   "cell_type": "code",
   "execution_count": 7,
   "id": "57cb249d",
   "metadata": {},
   "outputs": [
    {
     "data": {
      "text/plain": [
       "(95, 28)"
      ]
     },
     "execution_count": 7,
     "metadata": {},
     "output_type": "execute_result"
    }
   ],
   "source": [
    "df_outage.shape"
   ]
  },
  {
   "cell_type": "code",
   "execution_count": null,
   "id": "b5775f89",
   "metadata": {},
   "outputs": [],
   "source": []
  },
  {
   "cell_type": "markdown",
   "id": "0b50ca69",
   "metadata": {},
   "source": [
    "# ---------------------------------------------------------------\n",
    "# USAGE NONVEE\n",
    "# ---------------------------------------------------------------"
   ]
  },
  {
   "cell_type": "code",
   "execution_count": 8,
   "id": "223298de",
   "metadata": {},
   "outputs": [],
   "source": [
    "cols_of_interest_usage = TableInfos.AMINonVee_TI.std_columns_of_interest\n",
    "cols_of_interest_met_prem = TableInfos.MeterPremise_TI.std_columns_of_interest"
   ]
  },
  {
   "cell_type": "markdown",
   "id": "300b9d8a",
   "metadata": {},
   "source": [
    "### BEGIN compare usg_split_to_CTEs = True False"
   ]
  },
  {
   "cell_type": "code",
   "execution_count": 9,
   "id": "0e7c286d",
   "metadata": {},
   "outputs": [],
   "source": [
    "# FUCK\n",
    "import AMI_SQL\n",
    "reload(AMI_SQL)\n",
    "from AMI_SQL import AMI_SQL\n",
    "\n",
    "import AMINonVee_SQL\n",
    "reload(AMINonVee_SQL)\n",
    "from AMINonVee_SQL import AMINonVee_SQL\n",
    "\n",
    "import GenAn\n",
    "reload(GenAn)\n",
    "from GenAn import GenAn\n"
   ]
  },
  {
   "cell_type": "code",
   "execution_count": 10,
   "id": "7d30c3a2",
   "metadata": {},
   "outputs": [
    {
     "name": "stdout",
     "output_type": "stream",
     "text": [
      "**************************************************\n",
      "Time match OG: 192.4985728263855\n",
      "**************************************************\n",
      "len(df_usage_match_OG['serialnumber'].unique())     = 57\n",
      "df_usage_match_OG.shape = (89076, 31)\n"
     ]
    }
   ],
   "source": [
    "start=time.time()\n",
    "usg_match_OG = AMINonVee(\n",
    "    df_construct_type=DFConstructType.kRunSqlQuery, \n",
    "    build_sql_function=AMINonVee_SQL.build_sql_usg_for_outages, \n",
    "    build_sql_function_kwargs=dict(\n",
    "        cols_of_interest=cols_of_interest_usage, \n",
    "        df_outage=df_outage, \n",
    "        split_to_CTEs=False, \n",
    "        build_sql_function_kwargs=dict(\n",
    "            opco='oh', \n",
    "            aep_derived_uoms_and_idntfrs=['KWH']\n",
    "        ), \n",
    "        join_mp_args=dict(join_with_CTE=True, \n",
    "                          build_mp_kwargs=dict(cols_of_interest=cols_of_interest_met_prem))\n",
    "    ), \n",
    "    init_df_in_constructor=True\n",
    ")\n",
    "print('*'*50)\n",
    "print(f'Time match OG: {time.time()-start}')\n",
    "print('*'*50)\n",
    "df_usage_match_OG = usg_match_OG.get_df().copy()\n",
    "print(f\"len(df_usage_match_OG['serialnumber'].unique())     = {len(df_usage_match_OG['serialnumber'].unique())}\")\n",
    "print(f'df_usage_match_OG.shape = {df_usage_match_OG.shape}')"
   ]
  },
  {
   "cell_type": "code",
   "execution_count": null,
   "id": "99984a73",
   "metadata": {},
   "outputs": [],
   "source": []
  },
  {
   "cell_type": "code",
   "execution_count": 11,
   "id": "66c478bd",
   "metadata": {},
   "outputs": [
    {
     "name": "stdout",
     "output_type": "stream",
     "text": [
      "**************************************************\n",
      "Time: 74.44975137710571\n",
      "**************************************************\n",
      "len(df_usage['serialnumber'].unique())     = 57\n",
      "df_usage.shape = (89076, 32)\n"
     ]
    }
   ],
   "source": [
    "start=time.time()\n",
    "usg = AMINonVee(\n",
    "    df_construct_type=DFConstructType.kRunSqlQuery, \n",
    "    build_sql_function=AMINonVee_SQL.build_sql_usg_for_outages, \n",
    "    build_sql_function_kwargs=dict(\n",
    "        cols_of_interest=cols_of_interest_usage, \n",
    "        df_outage=df_outage, \n",
    "        split_to_CTEs=True, \n",
    "        build_sql_function_kwargs=dict(\n",
    "            opco='oh', \n",
    "            aep_derived_uoms_and_idntfrs=['KWH']\n",
    "        ), \n",
    "        join_mp_args=dict(join_with_CTE=True, \n",
    "                          build_mp_kwargs=dict(cols_of_interest=cols_of_interest_met_prem))\n",
    "    ), \n",
    "    init_df_in_constructor=True\n",
    ")\n",
    "print('*'*50)\n",
    "print(f'Time: {time.time()-start}')\n",
    "print('*'*50)\n",
    "df_usage = usg.get_df().copy()\n",
    "print(f\"len(df_usage['serialnumber'].unique())     = {len(df_usage['serialnumber'].unique())}\")\n",
    "print(f'df_usage.shape = {df_usage.shape}')"
   ]
  },
  {
   "cell_type": "code",
   "execution_count": 12,
   "id": "cfeb2065",
   "metadata": {},
   "outputs": [
    {
     "data": {
      "text/plain": [
       "True"
      ]
     },
     "execution_count": 12,
     "metadata": {},
     "output_type": "execute_result"
    }
   ],
   "source": [
    "usg.df_equals(usg_match_OG)"
   ]
  },
  {
   "cell_type": "code",
   "execution_count": 13,
   "id": "e0535c36",
   "metadata": {},
   "outputs": [
    {
     "name": "stdout",
     "output_type": "stream",
     "text": [
      "True\n"
     ]
    }
   ],
   "source": [
    "sort_by = ['aep_endtime_utc', 'serialnumber', 'aep_srvc_qlty_idntfr']\n",
    "df_usage          = df_usage.sort_values(by=sort_by, ignore_index=True)\n",
    "df_usage_match_OG = df_usage_match_OG.sort_values(by=sort_by, ignore_index=True)\n",
    "print(df_usage[df_usage_match_OG.columns].equals(df_usage_match_OG))"
   ]
  },
  {
   "cell_type": "markdown",
   "id": "81b06fa6",
   "metadata": {},
   "source": [
    "### END compare usg_split_to_CTEs = True False"
   ]
  },
  {
   "cell_type": "code",
   "execution_count": null,
   "id": "3e8d1962",
   "metadata": {},
   "outputs": [],
   "source": []
  },
  {
   "cell_type": "code",
   "execution_count": 14,
   "id": "2ca658b7",
   "metadata": {},
   "outputs": [
    {
     "name": "stdout",
     "output_type": "stream",
     "text": [
      "**************************************************\n",
      "Time match OG: 93.99643039703369\n",
      "**************************************************\n",
      "len(df_usage['serialnumber'].unique())     = 57\n",
      "df_usage.shape = (182804, 32)\n"
     ]
    }
   ],
   "source": [
    "start=time.time()\n",
    "usg = AMINonVee(\n",
    "    df_construct_type=DFConstructType.kRunSqlQuery, \n",
    "    build_sql_function=AMINonVee_SQL.build_sql_usg_for_outages, \n",
    "    build_sql_function_kwargs=dict(\n",
    "        cols_of_interest=cols_of_interest_usage, \n",
    "        df_outage=df_outage, \n",
    "        split_to_CTEs=True, \n",
    "        build_sql_function_kwargs=dict(\n",
    "            opco='oh', \n",
    "            aep_derived_uoms_and_idntfrs=None\n",
    "        ), \n",
    "        join_mp_args=dict(join_with_CTE=True, \n",
    "                          build_mp_kwargs=dict(cols_of_interest=cols_of_interest_met_prem))\n",
    "    ), \n",
    "    init_df_in_constructor=True\n",
    ")\n",
    "print('*'*50)\n",
    "print(f'Time match OG: {time.time()-start}')\n",
    "print('*'*50)\n",
    "df_usage = usg.get_df().copy()\n",
    "print(f\"len(df_usage['serialnumber'].unique())     = {len(df_usage['serialnumber'].unique())}\")\n",
    "print(f'df_usage.shape = {df_usage.shape}')"
   ]
  },
  {
   "cell_type": "code",
   "execution_count": null,
   "id": "d51e2cb1",
   "metadata": {},
   "outputs": [],
   "source": []
  },
  {
   "cell_type": "code",
   "execution_count": 17,
   "id": "c0a5c668",
   "metadata": {},
   "outputs": [],
   "source": [
    "df_usage = usg.get_df().copy()\n",
    "df_usage['outg_rec_nb'] = df_usage['OUTG_REC_NB_GPD_FOR_SQL'].astype(int)\n",
    "df_usage = AMINonVee.perform_std_initiation_and_cleaning(df_usage)\n",
    "#df_usage = df_usage[df_usage['aep_derived_uom']=='KWH']"
   ]
  },
  {
   "cell_type": "code",
   "execution_count": 18,
   "id": "2ab2f7d2",
   "metadata": {},
   "outputs": [
    {
     "name": "stdout",
     "output_type": "stream",
     "text": [
      "Before combine_kwh_delivered_and_received_values: (182804, 36)\n",
      "After combine_kwh_delivered_and_received_values:  (138266, 36)\n"
     ]
    }
   ],
   "source": [
    "print(f'Before combine_kwh_delivered_and_received_values: {df_usage.shape}')\n",
    "df_usage = AMINonVee.combine_kwh_delivered_and_received_values(df_usage)\n",
    "print(f'After combine_kwh_delivered_and_received_values:  {df_usage.shape}')"
   ]
  },
  {
   "cell_type": "code",
   "execution_count": 19,
   "id": "daf69e2b",
   "metadata": {},
   "outputs": [
    {
     "name": "stdout",
     "output_type": "stream",
     "text": [
      "Number of events matched with multiple outages: 0\n",
      "BEFORE EXPLODE: n_rows = 44538\n",
      "AFTER EXPLODE: n_rows = 44538\n",
      "delta = 0\n",
      "n_events_with_mult_matches = 0\n"
     ]
    }
   ],
   "source": [
    "df_usage = df_usage[df_usage['aep_derived_uom']=='KWH'].copy()\n",
    "start = time.time()\n",
    "df_usage, n_events_with_mult_matches = clm.match_events_in_df_to_outages(df_usage, df_outage, \n",
    "                                                                              return_n_events_with_mult_matches=True, \n",
    "                                                                              events_cols = {'premise_nb':'aep_premise_nb', \n",
    "                                                                                             'event_time':'starttimeperiod_utc'})\n",
    "cols_to_return_from_df_outage = ['DT_OFF_TS_FULL', 'DT_ON_TS', 'STEP_DRTN_NB', 'search_time_window', 'LOCATION_ID', 'GIS_CRCT_NB']\n",
    "placement_cols =                ['DT_OFF_TS_FULL', 'DT_ON_TS', 'STEP_DRTN_NB', 'search_time_window', 'LOCATION_ID', 'GIS_CRCT_NB']\n",
    "df_usage = clm.set_all_outages_info_in_events_df(df_usage, df_outage, \n",
    "                                                     cols_to_return_from_df_outage=cols_to_return_from_df_outage, \n",
    "                                                     placement_cols=placement_cols)\n",
    "time_new = time.time() - start\n",
    "print(f'n_events_with_mult_matches = {n_events_with_mult_matches}')"
   ]
  },
  {
   "cell_type": "code",
   "execution_count": null,
   "id": "0a3e7c46",
   "metadata": {},
   "outputs": [],
   "source": [
    "df_usage['outg_rec_nb']==df_usage['OUTG_REC_NB']"
   ]
  },
  {
   "cell_type": "code",
   "execution_count": null,
   "id": "e9647afb",
   "metadata": {},
   "outputs": [],
   "source": [
    "df_usage[['outg_rec_nb', 'OUTG_REC_NB']]"
   ]
  },
  {
   "cell_type": "code",
   "execution_count": null,
   "id": "0c2145b9",
   "metadata": {},
   "outputs": [],
   "source": []
  },
  {
   "cell_type": "code",
   "execution_count": null,
   "id": "6d4d3b42",
   "metadata": {},
   "outputs": [],
   "source": []
  },
  {
   "cell_type": "code",
   "execution_count": null,
   "id": "4ab1602c",
   "metadata": {},
   "outputs": [],
   "source": []
  },
  {
   "cell_type": "code",
   "execution_count": null,
   "id": "1c7ab543",
   "metadata": {},
   "outputs": [],
   "source": [
    "df_usage[df_usage['outg_rec_nb']!=df_usage['OUTG_REC_NB']].shape"
   ]
  },
  {
   "cell_type": "code",
   "execution_count": null,
   "id": "ca020e2c",
   "metadata": {},
   "outputs": [],
   "source": [
    "# Need to be a little careful with n_events_with_mult_matches below, as values were exploded in match_events_in_df_to_outages\n",
    "# Therefore, naively taking df_end_dev_event_cpy[df_end_dev_event_cpy['n_outages_found'] > 1].shape[0] would overcount.\n",
    "#   e.g., if every event with 'n_outages_found'>1 found two outages, the value returned by the naive method mentioned\n",
    "#         above would be twice the actual value\n",
    "# Not sure what solution is for this case!\n",
    "#n_events_with_mult_matches = df_usage[df_usage['n_outages_found'] > 1].shape[0]\n",
    "n_events_with_no_matches = df_usage[df_usage['n_outages_found'] < 1].shape[0]\n",
    "#print(f'n_events_with_mult_matches = {n_events_with_mult_matches}')\n",
    "print(f'n_events_with_no_matches = {n_events_with_no_matches}')"
   ]
  },
  {
   "cell_type": "code",
   "execution_count": null,
   "id": "c8afa41a",
   "metadata": {},
   "outputs": [],
   "source": [
    "#df_usage[df_usage['n_outages_found'] < 1]"
   ]
  },
  {
   "cell_type": "code",
   "execution_count": null,
   "id": "0d1161c2",
   "metadata": {},
   "outputs": [],
   "source": [
    "#df_outage[df_outage['PREMISE_NB']=='107220620']"
   ]
  },
  {
   "cell_type": "code",
   "execution_count": null,
   "id": "3465cd6e",
   "metadata": {},
   "outputs": [],
   "source": []
  },
  {
   "cell_type": "code",
   "execution_count": null,
   "id": "05cb0e25",
   "metadata": {},
   "outputs": [],
   "source": [
    "def build_usage_plots_around_time_of_outage(fig_num, df_usage, outg_rec_nb, orientation='portrait'):\n",
    "    assert(orientation=='landscape' or orientation=='portrait')\n",
    "    #-----\n",
    "    assert(outg_rec_nb in df_usage['OUTG_REC_NB'].unique())\n",
    "    df_usage_outg_i = df_usage[df_usage['OUTG_REC_NB']==outg_rec_nb]\n",
    "\n",
    "    assert(len(df_usage_outg_i['DT_OFF_TS_FULL'].unique())==1)\n",
    "    assert(len(df_usage_outg_i['DT_ON_TS'].unique())==1)\n",
    "    out_beg = df_usage_outg_i.iloc[0]['DT_OFF_TS_FULL']\n",
    "    out_end = df_usage_outg_i.iloc[0]['DT_ON_TS']\n",
    "    #----------------------------------------------\n",
    "    sns_unq = df_usage_outg_i['serialnumber'].unique().tolist()\n",
    "    palette_dict = sns.color_palette('colorblind', len(sns_unq))\n",
    "    palette_dict = {sns_unq[i]:palette_dict[i] for i in range(len(sns_unq))}\n",
    "\n",
    "    linestyles_dict = Plot_General.get_standard_linestyles(len(sns_unq), exclude_loose=True)\n",
    "    linestyles_dict = {sns_unq[i]:linestyles_dict[i][1] for i in range(len(sns_unq))}\n",
    "    #----------------------------------------------\n",
    "    cent_delt = '30 minutes'\n",
    "    tmp_df_cent_pm_delt = df_usage_outg_i[(df_usage_outg_i['starttimeperiod_utc'] >= df_usage_outg_i['DT_OFF_TS_FULL']-pd.Timedelta(cent_delt)) & \n",
    "                                 (df_usage_outg_i['starttimeperiod_utc'] <= df_usage_outg_i['DT_ON_TS']+pd.Timedelta(cent_delt))]\n",
    "\n",
    "    tmp_df_bef_w_cent = df_usage_outg_i[(df_usage_outg_i['starttimeperiod_utc'] < df_usage_outg_i['DT_OFF_TS_FULL'] + 0.5*pd.to_timedelta(df_usage_outg_i['DT_ON_TS']-df_usage_outg_i['DT_OFF_TS_FULL'])) & \n",
    "                                  (df_usage_outg_i['starttimeperiod_utc'] >= df_usage_outg_i['DT_OFF_TS_FULL'] - df_usage_outg_i['search_time_window'])]\n",
    "\n",
    "    tmp_df_bef = df_usage_outg_i[(df_usage_outg_i['starttimeperiod_utc'] < df_usage_outg_i['DT_OFF_TS_FULL']) & \n",
    "                                 (df_usage_outg_i['starttimeperiod_utc'] >= df_usage_outg_i['DT_OFF_TS_FULL'] - df_usage_outg_i['search_time_window'])]\n",
    "\n",
    "    tmp_df_aft_w_cent = df_usage_outg_i[(df_usage_outg_i['starttimeperiod_utc'] < df_usage_outg_i['DT_ON_TS'] + df_usage_outg_i['search_time_window']) & \n",
    "                                 (df_usage_outg_i['starttimeperiod_utc'] >= df_usage_outg_i['DT_ON_TS'] - 0.5*pd.to_timedelta(df_usage_outg_i['DT_ON_TS']-df_usage_outg_i['DT_OFF_TS_FULL']))]\n",
    "\n",
    "    tmp_df_aft = df_usage_outg_i[(df_usage_outg_i['starttimeperiod_utc'] < df_usage_outg_i['DT_ON_TS'] + df_usage_outg_i['search_time_window']) & \n",
    "                                 (df_usage_outg_i['starttimeperiod_utc'] >= df_usage_outg_i['DT_ON_TS'])]\n",
    "    #---------------------------------------------------------------------------------------------------------\n",
    "    minmax_bef = [tmp_df_bef['value'].min(), tmp_df_bef['value'].max()]\n",
    "    minmax_aft = [tmp_df_aft['value'].min(), tmp_df_aft['value'].max()]\n",
    "    minmax = [min(minmax_bef[0], minmax_aft[0]), max(minmax_bef[1], minmax_aft[1])]\n",
    "    #---------------------------------------------------------------------------------------------------------\n",
    "    dfs_dicts = [{'df':df_usage_outg_i,     'title':'Full Range',                         'draw_out_beg':True,  'draw_out_end':True, 'minmax':None}, \n",
    "                 {'df':tmp_df_cent_pm_delt, 'title':r'Center $\\pm$ {}'.format(cent_delt), 'draw_out_beg':True,  'draw_out_end':True, 'minmax':None}, \n",
    "                 {'df':tmp_df_bef_w_cent,   'title':'Before with Center',                 'draw_out_beg':True,  'draw_out_end':False, 'minmax':None}, \n",
    "                 {'df':tmp_df_bef,          'title':'Before',                             'draw_out_beg':True,  'draw_out_end':False, 'minmax':minmax}, \n",
    "                 {'df':tmp_df_aft_w_cent,   'title':'After with Center',                  'draw_out_beg':False, 'draw_out_end':True, 'minmax':None}, \n",
    "                 {'df':tmp_df_aft,          'title':'After',                              'draw_out_beg':False, 'draw_out_end':True, 'minmax':minmax}]\n",
    "    #---------------------------------------------------------------------------------------------------------\n",
    "    if orientation=='landscape':\n",
    "        plots_nx = 3\n",
    "        plots_ny = 2\n",
    "        top = mpl.rcParams[\"figure.subplot.top\"]\n",
    "        bottom = mpl.rcParams[\"figure.subplot.bottom\"]\n",
    "        left = 0.05\n",
    "        right = 0.90\n",
    "        fig, axs = plt.subplots(plots_ny, plots_nx, num=fig_num, figsize=[11*plots_nx, 8.5*plots_ny])\n",
    "    else:\n",
    "        plots_nx = 2\n",
    "        plots_ny = 3\n",
    "        top = 0.925\n",
    "        bottom = 0.075\n",
    "        left = 0.075 \n",
    "        right = 0.90\n",
    "        fig, axs = plt.subplots(plots_ny, plots_nx, num=fig_num, figsize=[11*plots_nx, 8.5*plots_ny])\n",
    "    assert(len(dfs_dicts)==plots_ny*plots_nx)\n",
    "\n",
    "    plt.subplots_adjust(wspace=0.2, hspace=0.3, left=left, right=right, top=top, bottom=bottom)\n",
    "    #--------------------------------------------------------------\n",
    "    for i, df_dict in enumerate(dfs_dicts):\n",
    "        df = df_dict['df']\n",
    "        title = df_dict['title'] \n",
    "        draw_out_beg = df_dict['draw_out_beg'] \n",
    "        draw_out_end = df_dict['draw_out_end'] \n",
    "        minmax = df_dict['minmax'] \n",
    "        #---------------\n",
    "        i_y, i_x = divmod(i, plots_nx)\n",
    "        ax = axs[i_y, i_x]\n",
    "        #---------------\n",
    "        sns.lineplot(ax=ax, x='starttimeperiod_utc', y='value', hue='serialnumber', data=df, \n",
    "                     palette=palette_dict, style='serialnumber', dashes=linestyles_dict, legend=False)\n",
    "        if draw_out_beg:\n",
    "            ax.axvline(x=out_beg, color='red')\n",
    "        if draw_out_end:\n",
    "            ax.axvline(x=out_end, color='lawngreen')\n",
    "        ax.set_title(title, fontsize=30)\n",
    "        if minmax is not None:\n",
    "            ax.set_ylim(minmax)\n",
    "    #--------------------------------------------------------------\n",
    "    if len(df_usage_outg_i['serialnumber'].unique()) < 50:\n",
    "        leg_handles = build_sn_legend_handles(df_usage_outg_i['serialnumber'].unique(), palette_dict, linestyles_dict)\n",
    "        fig.legend(title='serialnumber', handles=leg_handles, fontsize=20, title_fontsize=30, \n",
    "                   bbox_to_anchor=(1.01*right, top), loc='upper left')\n",
    "    fig.supxlabel('starttimeperiod_utc', fontsize=50, \n",
    "                  x=0.9, ha='right', \n",
    "                  y=0.0, va='bottom')\n",
    "    fig.supylabel('value', fontsize=50, \n",
    "                  x=0.0, ha='left',\n",
    "                  y=0.9, va='top')\n",
    "    fig.suptitle(f'Outage Record Number: {round(outg_rec_nb)}', fontsize=50, \n",
    "                 x=0.5*(left+right), ha='center')\n",
    "\n",
    "    for ax in axs.flatten():\n",
    "        ax.tick_params(axis='x', labelrotation=45, labelsize=15.0, direction='out');\n",
    "        ax.tick_params(axis='y', labelrotation=0, labelsize=15.0, direction='out');\n",
    "        ax.xaxis.label.set_size(0)\n",
    "        ax.yaxis.label.set_size(0)\n",
    "\n",
    "    return fig, axs\n"
   ]
  },
  {
   "cell_type": "code",
   "execution_count": null,
   "id": "599a01fe",
   "metadata": {},
   "outputs": [],
   "source": []
  },
  {
   "cell_type": "code",
   "execution_count": null,
   "id": "af30838e",
   "metadata": {},
   "outputs": [],
   "source": []
  },
  {
   "cell_type": "code",
   "execution_count": null,
   "id": "a416e8da",
   "metadata": {},
   "outputs": [],
   "source": []
  },
  {
   "cell_type": "code",
   "execution_count": null,
   "id": "b76ac4c1",
   "metadata": {},
   "outputs": [],
   "source": []
  },
  {
   "cell_type": "code",
   "execution_count": null,
   "id": "0dec464c",
   "metadata": {},
   "outputs": [],
   "source": []
  },
  {
   "cell_type": "code",
   "execution_count": null,
   "id": "3af53b56",
   "metadata": {},
   "outputs": [],
   "source": [
    "def estimate_outage_times_for_single_meter_sn(df_single_sn, \n",
    "                                              time_col='starttimeperiod_utc', value_col='value'):\n",
    "    #TODO probably delete me since I am so specialized\n",
    "    # Use estimate_outage_times instead\n",
    "    df_single_sn = df_single_sn.copy()\n",
    "\n",
    "    df_single_sn = df_single_sn.reset_index()  # resets indices and creates 'index' column with original indices\n",
    "    df_single_sn = df_single_sn.sort_values(by=time_col, ignore_index=True)\n",
    "    found_zeros_df = df_single_sn[df_single_sn[value_col] <= 0]\n",
    "    #------------------\n",
    "    ids_in_groups = []\n",
    "    for k, g in itertools.groupby(enumerate(found_zeros_df[value_col].index), lambda ix : ix[0] - ix[1]):\n",
    "        ids_in_groups.append([x[1] for x in list(g)])\n",
    "    \n",
    "    outage_times = [pd.to_datetime(found_zeros_df.loc[group, time_col].unique()).tolist() for group in ids_in_groups]\n",
    "    return outage_times\n",
    "\n",
    "\n",
    "# def consecutive(data, stepsize=pd.Timedelta('15 minutes')):\n",
    "#     return np.split(data, np.where(np.diff(data) != stepsize)[0]+1)\n",
    "\n",
    "def consecutive(\n",
    "    data, \n",
    "    stepsize=pd.Timedelta('15 minutes')\n",
    "):\n",
    "    return Utilities.get_fuzzy_overlap(data, stepsize)\n",
    "\n",
    "def estimate_outage_times(df, require_all_sns_zero_for_outage=True, \n",
    "                          time_col='starttimeperiod_utc', value_col='value', sn_col='serialnumber'):\n",
    "    # Intended for use with single OUTG_REC_NB\n",
    "    # BUT is designed to find multipe groups of zero readings\n",
    "    df = df.copy()\n",
    "    all_sns = df[sn_col].unique().tolist()\n",
    "    df = df.reset_index() # resets indices and creates 'index' column with original indices\n",
    "    df = df.sort_values(by=time_col, ignore_index=True)\n",
    "        \n",
    "    found_zeros_df = df[df[value_col] <= 0]\n",
    "    if not require_all_sns_zero_for_outage:\n",
    "        outage_times = pd.to_datetime(found_zeros_df[time_col].unique()).tolist()\n",
    "    else:\n",
    "        outage_times = []\n",
    "        for time, tmp_df in found_zeros_df.groupby(time_col):\n",
    "            sns = tmp_df[sn_col].unique().tolist()\n",
    "            if set(sns)==set(all_sns):\n",
    "                outage_times.append(time)\n",
    "    return consecutive(outage_times)"
   ]
  },
  {
   "cell_type": "code",
   "execution_count": null,
   "id": "fc53d601",
   "metadata": {},
   "outputs": [],
   "source": [
    "# tmp_df = df_usage[df_usage['OUTG_REC_NB']==11947217].copy()\n",
    "# tmp_df2 = df_usage[df_usage['OUTG_REC_NB']==11947217].copy()\n",
    "\n",
    "# tmp_sns = tmp_df2['serialnumber'].unique().tolist()\n",
    "\n",
    "# tmp_df2.loc[(tmp_df2['starttimeperiod'] >pd.to_datetime('2020-10-12T09:00:00.000000000')) & \n",
    "#             (tmp_df2['starttimeperiod']<=pd.to_datetime('2020-10-12T11:00:00.000000000')), 'value'] = 0.0\n",
    "\n",
    "# tmp_df2.loc[(tmp_df2['starttimeperiod']>pd.to_datetime('2020-10-12T09:00:00.000000000')) & \n",
    "#             (tmp_df2['starttimeperiod']<=pd.to_datetime('2020-10-12T12:00:00.000000000')) & \n",
    "#             (tmp_df2['serialnumber'].isin(tmp_sns[:5])), 'value'] = 0.0\n",
    "\n",
    "# tmp_df2_cpy = tmp_df2.copy()\n",
    "\n",
    "\n",
    "# fig, axs = build_usage_plots_around_time_of_outage(fig_num, tmp_df2, 11947217, orientation='portrait')\n",
    "# fig_num += 1\n",
    "\n",
    "\n",
    "# all_outage_times = estimate_outage_times(tmp_df2)\n",
    "# all_outage_times2 = estimate_outage_times(tmp_df2, require_all_sns_zero_for_outage=False)\n",
    "# all_outage_times_naive = estimate_outage_times_for_single_meter_sn(tmp_df2)\n",
    "# print(all_outage_times)\n",
    "# print(all_outage_times2)\n",
    "# print(all_outage_times_naive)"
   ]
  },
  {
   "cell_type": "code",
   "execution_count": null,
   "id": "74737e7f",
   "metadata": {},
   "outputs": [],
   "source": []
  },
  {
   "cell_type": "code",
   "execution_count": null,
   "id": "807bbb67",
   "metadata": {},
   "outputs": [],
   "source": [
    "df_usage.columns"
   ]
  },
  {
   "cell_type": "code",
   "execution_count": null,
   "id": "57f44116",
   "metadata": {},
   "outputs": [],
   "source": []
  },
  {
   "cell_type": "code",
   "execution_count": null,
   "id": "681fcc19",
   "metadata": {},
   "outputs": [],
   "source": [
    "temp_df = df_usage[df_usage['trsf_pole_nb']==df_usage['LOCATION_ID']].copy()\n",
    "fig, axs = build_usage_plots_around_time_of_outage(fig_num, temp_df, temp_df['OUTG_REC_NB'].unique().tolist()[0], orientation='portrait')\n",
    "fig_num += 1"
   ]
  },
  {
   "cell_type": "code",
   "execution_count": null,
   "id": "f9809a23",
   "metadata": {},
   "outputs": [],
   "source": []
  },
  {
   "cell_type": "code",
   "execution_count": null,
   "id": "c03ba8c1",
   "metadata": {},
   "outputs": [],
   "source": []
  },
  {
   "cell_type": "code",
   "execution_count": null,
   "id": "2b4d88ed",
   "metadata": {},
   "outputs": [],
   "source": [
    "fig, axs = build_usage_plots_around_time_of_outage(fig_num, df_usage, df_usage['OUTG_REC_NB'].unique().tolist()[0], orientation='portrait')\n",
    "fig_num += 1"
   ]
  },
  {
   "cell_type": "code",
   "execution_count": null,
   "id": "c1a61f0d",
   "metadata": {},
   "outputs": [],
   "source": [
    "df_usage['OUTG_REC_NB'].unique()"
   ]
  },
  {
   "cell_type": "code",
   "execution_count": null,
   "id": "d319acad",
   "metadata": {},
   "outputs": [],
   "source": []
  },
  {
   "cell_type": "code",
   "execution_count": null,
   "id": "c12df12c",
   "metadata": {},
   "outputs": [],
   "source": [
    "len(df_usage['serialnumber'].unique())"
   ]
  },
  {
   "cell_type": "code",
   "execution_count": null,
   "id": "9153ebb2",
   "metadata": {},
   "outputs": [],
   "source": [
    "for outg_rec_nb in df_usage['OUTG_REC_NB'].unique().tolist():\n",
    "    if pd.isnull(outg_rec_nb):\n",
    "        continue\n",
    "    fig, axs = build_usage_plots_around_time_of_outage(fig_num, df_usage, outg_rec_nb)\n",
    "    fig_num += 1"
   ]
  },
  {
   "cell_type": "code",
   "execution_count": null,
   "id": "397b9acc",
   "metadata": {},
   "outputs": [],
   "source": [
    "len(df_usage['serialnumber'].unique())"
   ]
  },
  {
   "cell_type": "code",
   "execution_count": null,
   "id": "10e39aff",
   "metadata": {},
   "outputs": [],
   "source": [
    "df_usage['value'].mean()"
   ]
  },
  {
   "cell_type": "code",
   "execution_count": null,
   "id": "8e92e095",
   "metadata": {},
   "outputs": [],
   "source": [
    "df_usage['value'].std()"
   ]
  },
  {
   "cell_type": "code",
   "execution_count": null,
   "id": "ab856f51",
   "metadata": {},
   "outputs": [],
   "source": [
    "pd.to_datetime('2020-10-12T09:00:00.000000000')+pd.to_timedelta('4h')"
   ]
  },
  {
   "cell_type": "code",
   "execution_count": null,
   "id": "319ebf9d",
   "metadata": {},
   "outputs": [],
   "source": [
    "df_usage[['starttimeperiod', 'starttimeperiod_utc']]"
   ]
  },
  {
   "cell_type": "code",
   "execution_count": null,
   "id": "4a086624",
   "metadata": {},
   "outputs": [],
   "source": [
    "# df_usage.loc[(df_usage['starttimeperiod'] >pd.to_datetime('2020-10-12T09:00:00.000000000')) & \n",
    "#                  (df_usage['starttimeperiod']<=pd.to_datetime('2020-10-12T14:00:00.000000000')), 'value'].mean()\n",
    "\n",
    "df_usage.loc[(df_usage['starttimeperiod_utc'] >pd.to_datetime('2020-10-12T09:00:00.000000000')+pd.to_timedelta('4h')) & \n",
    "                 (df_usage['starttimeperiod_utc']<=pd.to_datetime('2020-10-12T14:00:00.000000000')+pd.to_timedelta('4h')), 'value'].mean()"
   ]
  },
  {
   "cell_type": "code",
   "execution_count": null,
   "id": "95a5aa7c",
   "metadata": {},
   "outputs": [],
   "source": [
    "# df_usage.loc[(df_usage['starttimeperiod'] >pd.to_datetime('2020-10-12T09:00:00.000000000')) & \n",
    "#                  (df_usage['starttimeperiod']<=pd.to_datetime('2020-10-12T14:00:00.000000000')), 'value'].std() \n",
    "\n",
    "df_usage.loc[(df_usage['starttimeperiod_utc'] >pd.to_datetime('2020-10-12T09:00:00.000000000')+pd.to_timedelta('4h')) & \n",
    "                 (df_usage['starttimeperiod_utc']<=pd.to_datetime('2020-10-12T14:00:00.000000000')+pd.to_timedelta('4h')), 'value'].std() "
   ]
  },
  {
   "cell_type": "code",
   "execution_count": null,
   "id": "bfedd94b",
   "metadata": {},
   "outputs": [],
   "source": []
  },
  {
   "cell_type": "code",
   "execution_count": null,
   "id": "d33df8b2",
   "metadata": {},
   "outputs": [],
   "source": [
    "# df_usage.loc[(df_usage['starttimeperiod'] >pd.to_datetime('2020-10-12T22:00:00.000000000')) & \n",
    "#                  (df_usage['starttimeperiod']<=pd.to_datetime('2020-10-13T08:00:00.000000000')), 'value'].mean()\n",
    "\n",
    "df_usage.loc[(df_usage['starttimeperiod_utc'] >pd.to_datetime('2020-10-12T22:00:00.000000000')+pd.to_timedelta('4h')) & \n",
    "                 (df_usage['starttimeperiod_utc']<=pd.to_datetime('2020-10-13T08:00:00.000000000')+pd.to_timedelta('4h')), 'value'].mean()"
   ]
  },
  {
   "cell_type": "code",
   "execution_count": null,
   "id": "8499f7f4",
   "metadata": {},
   "outputs": [],
   "source": [
    "# df_usage.loc[(df_usage['starttimeperiod'] >pd.to_datetime('2020-10-12T22:00:00.000000000')) & \n",
    "#                  (df_usage['starttimeperiod']<=pd.to_datetime('2020-10-13T08:00:00.000000000')), 'value'].std()\n",
    "\n",
    "df_usage.loc[(df_usage['starttimeperiod_utc'] >pd.to_datetime('2020-10-12T22:00:00.000000000')+pd.to_timedelta('4h')) & \n",
    "                 (df_usage['starttimeperiod_utc']<=pd.to_datetime('2020-10-13T08:00:00.000000000')+pd.to_timedelta('4h')), 'value'].std()"
   ]
  },
  {
   "cell_type": "code",
   "execution_count": null,
   "id": "901ca148",
   "metadata": {},
   "outputs": [],
   "source": []
  },
  {
   "cell_type": "code",
   "execution_count": null,
   "id": "0d0f620e",
   "metadata": {},
   "outputs": [],
   "source": [
    "df_usage[df_usage['value']>0]['value'].mean()"
   ]
  },
  {
   "cell_type": "code",
   "execution_count": null,
   "id": "b69208d4",
   "metadata": {},
   "outputs": [],
   "source": [
    "df_usage[df_usage['value']>0]['value'].std()"
   ]
  },
  {
   "cell_type": "code",
   "execution_count": null,
   "id": "78ebca23",
   "metadata": {},
   "outputs": [],
   "source": []
  },
  {
   "cell_type": "code",
   "execution_count": null,
   "id": "5be462cc",
   "metadata": {},
   "outputs": [],
   "source": [
    "# fig, ax = plt.subplots(1, 1, num=fig_num, figsize=[11, 8.5])\n",
    "# sns.lineplot(ax=ax, x='starttimeperiod_utc', y='value', hue='serialnumber', \n",
    "#              data=df_usage[(df_usage['starttimeperiod']>=pd.to_datetime('2020-10-12T22:00:00.000000000')) & \n",
    "#                                (df_usage['value']>140)], \n",
    "#              legend=False)\n",
    "# fig_num += 1"
   ]
  },
  {
   "cell_type": "code",
   "execution_count": null,
   "id": "61886f77",
   "metadata": {},
   "outputs": [],
   "source": [
    "# fig, ax = plt.subplots(1, 1, num=fig_num, figsize=[11, 8.5])\n",
    "# sns.lineplot(ax=ax, x='starttimeperiod_utc', y='value', hue='serialnumber', \n",
    "#              data=df_usage[(df_usage['starttimeperiod']<=pd.to_datetime('2020-10-12T16:00:00.000000000')) & \n",
    "#                                (df_usage['value']>140)], \n",
    "#              legend=False)\n",
    "# fig_num += 1"
   ]
  },
  {
   "cell_type": "code",
   "execution_count": null,
   "id": "4dae738d",
   "metadata": {},
   "outputs": [],
   "source": []
  },
  {
   "cell_type": "code",
   "execution_count": null,
   "id": "b955c885",
   "metadata": {},
   "outputs": [],
   "source": []
  },
  {
   "cell_type": "code",
   "execution_count": null,
   "id": "a0d57f65",
   "metadata": {},
   "outputs": [],
   "source": [
    "df_usage.sort_values(by=['serialnumber', 'starttimeperiod_utc'])"
   ]
  },
  {
   "cell_type": "code",
   "execution_count": null,
   "id": "6b8d2807",
   "metadata": {},
   "outputs": [],
   "source": [
    "df_usage.groupby('serialnumber').describe().T"
   ]
  },
  {
   "cell_type": "code",
   "execution_count": null,
   "id": "6fba8448",
   "metadata": {},
   "outputs": [],
   "source": [
    "df_usage.groupby('serialnumber').describe()"
   ]
  },
  {
   "cell_type": "code",
   "execution_count": null,
   "id": "9e71bd30",
   "metadata": {},
   "outputs": [],
   "source": [
    "df_usage['starttimeperiod_utc'].nunique()"
   ]
  },
  {
   "cell_type": "code",
   "execution_count": null,
   "id": "59cc5d2b",
   "metadata": {},
   "outputs": [],
   "source": [
    "df_usage.set_index(['OUTG_REC_NB', 'serialnumber', 'starttimeperiod_utc']).sort_index()"
   ]
  },
  {
   "cell_type": "code",
   "execution_count": null,
   "id": "c8c40edf",
   "metadata": {},
   "outputs": [],
   "source": [
    "df_usage.set_index(['OUTG_REC_NB', 'starttimeperiod_utc', 'serialnumber']).sort_index()"
   ]
  },
  {
   "cell_type": "code",
   "execution_count": null,
   "id": "0721a75d",
   "metadata": {},
   "outputs": [],
   "source": [
    "df_usage_mi = df_usage.set_index(['OUTG_REC_NB', 'serialnumber', 'starttimeperiod_utc']).sort_index().copy()"
   ]
  },
  {
   "cell_type": "code",
   "execution_count": null,
   "id": "86b8d659",
   "metadata": {},
   "outputs": [],
   "source": [
    "df_usage_mi"
   ]
  },
  {
   "cell_type": "code",
   "execution_count": null,
   "id": "773d2300",
   "metadata": {},
   "outputs": [],
   "source": [
    "# df_usage_mi.loc[(10143524.0, slice(None), '2017-09-16 06:15:00'), 'aep_premise_nb']"
   ]
  },
  {
   "cell_type": "code",
   "execution_count": null,
   "id": "05f80fd4",
   "metadata": {},
   "outputs": [],
   "source": [
    "avg_df = df_usage_mi.groupby(['OUTG_REC_NB', 'starttimeperiod_utc'])['value'].mean()"
   ]
  },
  {
   "cell_type": "code",
   "execution_count": null,
   "id": "5c9f5721",
   "metadata": {},
   "outputs": [],
   "source": [
    "# avg_df.loc[10143524.0].plot()"
   ]
  },
  {
   "cell_type": "code",
   "execution_count": null,
   "id": "fc632802",
   "metadata": {},
   "outputs": [],
   "source": [
    "df_outage[df_outage['OUTG_REC_NB']==11947217]"
   ]
  },
  {
   "cell_type": "code",
   "execution_count": null,
   "id": "4482ff3a",
   "metadata": {},
   "outputs": [],
   "source": [
    "df_usage[df_usage['OUTG_REC_NB']==11947217]"
   ]
  },
  {
   "cell_type": "code",
   "execution_count": null,
   "id": "3514f1cd",
   "metadata": {},
   "outputs": [],
   "source": [
    "sorted(df_usage[df_usage['OUTG_REC_NB']==11947217]['starttimeperiod_utc'].unique())"
   ]
  },
  {
   "cell_type": "code",
   "execution_count": null,
   "id": "f8f41f75",
   "metadata": {},
   "outputs": [],
   "source": []
  },
  {
   "cell_type": "code",
   "execution_count": null,
   "id": "577170b2",
   "metadata": {},
   "outputs": [],
   "source": []
  },
  {
   "cell_type": "code",
   "execution_count": null,
   "id": "e8446d61",
   "metadata": {},
   "outputs": [],
   "source": []
  },
  {
   "cell_type": "code",
   "execution_count": null,
   "id": "7bc26db6",
   "metadata": {},
   "outputs": [],
   "source": []
  },
  {
   "cell_type": "code",
   "execution_count": null,
   "id": "20217fe5",
   "metadata": {},
   "outputs": [],
   "source": []
  },
  {
   "cell_type": "code",
   "execution_count": null,
   "id": "5bf7107c",
   "metadata": {},
   "outputs": [],
   "source": []
  },
  {
   "cell_type": "code",
   "execution_count": null,
   "id": "3d7801b8",
   "metadata": {},
   "outputs": [],
   "source": []
  }
 ],
 "metadata": {
  "kernelspec": {
   "display_name": "Python 3 (ipykernel)",
   "language": "python",
   "name": "python3"
  },
  "language_info": {
   "codemirror_mode": {
    "name": "ipython",
    "version": 3
   },
   "file_extension": ".py",
   "mimetype": "text/x-python",
   "name": "python",
   "nbconvert_exporter": "python",
   "pygments_lexer": "ipython3",
   "version": "3.11.7"
  }
 },
 "nbformat": 4,
 "nbformat_minor": 5
}
