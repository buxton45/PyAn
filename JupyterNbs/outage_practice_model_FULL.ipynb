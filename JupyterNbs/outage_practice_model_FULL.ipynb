{
 "cells": [
  {
   "cell_type": "code",
   "execution_count": null,
   "id": "772f6a30",
   "metadata": {},
   "outputs": [],
   "source": [
    "from importlib import reload\n",
    "#reload(Utilities)\n",
    "#reload(clm)\n",
    "\n",
    "import sys, os\n",
    "import re\n",
    "\n",
    "import pandas as pd\n",
    "import numpy as np\n",
    "from pandas.api.types import is_numeric_dtype\n",
    "from pandas.api.types import is_timedelta64_dtype\n",
    "from scipy import stats\n",
    "import datetime\n",
    "import time\n",
    "from natsort import natsorted, ns\n",
    "from packaging import version_\n",
    "import itertools\n",
    "from dateutil.parser import parse\n",
    "from operator import itemgetter\n",
    "\n",
    "from pmdarima import auto_arima\n",
    "import statsmodels.api as sm\n",
    "from statsmodels.tsa.stattools import acovf, acf, pacf, pacf_yw, pacf_ols\n",
    "from pandas.plotting import lag_plot\n",
    "from statsmodels.graphics.tsaplots import plot_acf, plot_pacf\n",
    "from statsmodels.graphics.tsaplots import month_plot, quarter_plot, seasonal_plot\n",
    "from statsmodels.tsa.arima_model import ARMA, ARIMA, ARMAResults, ARIMAResults\n",
    "from statsmodels.tsa.statespace.sarimax import SARIMAX\n",
    "\n",
    "from arch import arch_model\n",
    "\n",
    "from scipy.stats.mstats import trim\n",
    "\n",
    "#---------------------------------------------------------------------\n",
    "import pyodbc\n",
    "#---------------------------------------------------------------------\n",
    "import matplotlib as mpl\n",
    "import matplotlib.pyplot as plt\n",
    "import seaborn as sns\n",
    "from matplotlib.backends.backend_pdf import PdfPages\n",
    "import matplotlib.patches as mpatches\n",
    "from matplotlib.lines import Line2D\n",
    "import matplotlib.ticker as ticker\n",
    "from matplotlib import dates\n",
    "# import constants for the days of the week\n",
    "from matplotlib.dates import MO, TU, WE, TH, FR, SA, SU\n",
    "#---------------------------------------------------------------------\n",
    "sys.path.insert(0, os.path.realpath('..'))\n",
    "import Utilities_config\n",
    "#-----\n",
    "import CommonLearningMethods as clm\n",
    "#-----\n",
    "from AMINonVee import AMINonVee\n",
    "#---------------------------------------------------------------------\n",
    "sys.path.insert(0, Utilities_config.get_utilities_dir())\n",
    "import Utilities\n",
    "import Utilities_df\n",
    "import Utilities_dt\n",
    "import Plot_Box_sns\n",
    "import GrubbsTest\n",
    "import DickeyFullerTest as dft"
   ]
  },
  {
   "cell_type": "code",
   "execution_count": null,
   "id": "98065514",
   "metadata": {},
   "outputs": [],
   "source": [
    "import warnings\n",
    "warnings.filterwarnings('ignore')"
   ]
  },
  {
   "cell_type": "markdown",
   "id": "9bf061bd",
   "metadata": {},
   "source": [
    "# -----------------------------------------------------------------------------------------\n",
    "# -----------------------------------------------------------------------------------------"
   ]
  },
  {
   "cell_type": "code",
   "execution_count": null,
   "id": "24fd7a87",
   "metadata": {},
   "outputs": [],
   "source": [
    "def find_missing_time_idxs(df, freq):\n",
    "    if df.index.freq is not None:\n",
    "        assert(freq==df.index.freq)\n",
    "    expected = pd.date_range(start=df.index[0], end=df.index[-1], freq=freq)\n",
    "    observed = df.index\n",
    "    missing = set(expected)-set(observed)\n",
    "    return missing\n",
    "\n",
    "def find_non_quarter_hour_entries(time_list):\n",
    "    time_list = pd.to_datetime(time_list)\n",
    "    found_abnormal=[]\n",
    "    for i,time in enumerate(time_list):\n",
    "        if time.minute % 15 != 0:\n",
    "            found_abnormal.append((i,time))\n",
    "        elif time.second != 0:\n",
    "            found_abnormal.append((i,time))\n",
    "        else:\n",
    "            continue\n",
    "    return found_abnormal\n",
    "\n",
    "# TODO !!!!!!!!!!!!!!!!!!!!!!!!!!!!!!!!!!!!!!!!!!!!!!!!!!!\n",
    "# def find_unexpected_period_lengths(df, start_col, end_col):"
   ]
  },
  {
   "cell_type": "code",
   "execution_count": null,
   "id": "8ca07bf5",
   "metadata": {},
   "outputs": [],
   "source": []
  },
  {
   "cell_type": "markdown",
   "id": "16304aaa",
   "metadata": {},
   "source": [
    "# -----------------------------------------------------------------------------------------\n",
    "# -----------------------------------------------------------------------------------------"
   ]
  },
  {
   "cell_type": "code",
   "execution_count": null,
   "id": "f84f1093",
   "metadata": {},
   "outputs": [],
   "source": [
    "# read_df = pd.read_csv(os.path.join(Utilities.get_local_data_dir(), r'sample_outages\\outg_rec_nb_11751094\\outg_rec_nb_11751094_2019_q4.csv'))\n",
    "# read_df = read_df[read_df['serialnumber']==880687439]\n",
    "# read_df = read_df[(read_df['aep_derived_uom']=='KWH') & (read_df['aep_srvc_qlty_idntfr']=='TOTAL')]\n",
    "# read_df = read_df[['starttimeperiod', 'endtimeperiod','aep_endtime_utc', 'timezoneoffset']]\n",
    "# read_df = read_df.sort_values(by='aep_endtime_utc', ignore_index=True)\n",
    "# read_df"
   ]
  },
  {
   "cell_type": "code",
   "execution_count": null,
   "id": "ba5a0e5f",
   "metadata": {},
   "outputs": [],
   "source": []
  },
  {
   "cell_type": "code",
   "execution_count": null,
   "id": "5bf89f0e",
   "metadata": {},
   "outputs": [],
   "source": []
  },
  {
   "cell_type": "markdown",
   "id": "b4eeda15",
   "metadata": {},
   "source": [
    "# -----------------------------------------------------------------------------------------\n",
    "# -----------------------------------------------------------------------------------------"
   ]
  },
  {
   "cell_type": "code",
   "execution_count": null,
   "id": "7cf6a330",
   "metadata": {},
   "outputs": [],
   "source": []
  },
  {
   "cell_type": "code",
   "execution_count": null,
   "id": "6a761d42",
   "metadata": {},
   "outputs": [],
   "source": [
    "# TODO Investigate why annual kwh is not constant!"
   ]
  },
  {
   "cell_type": "code",
   "execution_count": null,
   "id": "129210bd",
   "metadata": {},
   "outputs": [],
   "source": [
    "fig_num = 0"
   ]
  },
  {
   "cell_type": "code",
   "execution_count": null,
   "id": "1e715ec4",
   "metadata": {},
   "outputs": [],
   "source": [
    "cols_of_interest = [\n",
    "    'serialnumber',\n",
    "    'prem_nb', \n",
    "    'srvc_pole_nb', \n",
    "    'trsf_pole_nb',\n",
    "    'annual_kwh',\n",
    "    'station_nb',\n",
    "    'xfmr_nb', \n",
    "    'starttimeperiod', \n",
    "    'endtimeperiod', \n",
    "    'aep_endtime_utc', \n",
    "    'timezoneoffset', \n",
    "    'aep_derived_uom',\n",
    "    'aep_srvc_qlty_idntfr', \n",
    "    'value', \n",
    "    'aep_usage_dt'\n",
    "]\n",
    "\n",
    "cols_of_interest_cir = [\n",
    "    'starttimeperiod', \n",
    "    'endtimeperiod', \n",
    "    'aep_endtime_utc', \n",
    "    'timezoneoffset',\n",
    "    'aep_derived_uom', \n",
    "    'aep_srvc_qlty_idntfr', \n",
    "    'aep_usage_dt', \n",
    "    'value_sum',\n",
    "    'counts', \n",
    "    'value_mean'\n",
    "]"
   ]
  },
  {
   "cell_type": "code",
   "execution_count": null,
   "id": "fdeee089",
   "metadata": {},
   "outputs": [],
   "source": [
    "df_outage_dir = os.path.join(Utilities.get_local_data_dir(), r'sample_outages\\outg_rec_nb_11751094')\n",
    "#df_outage_dir = os.path.join(Utilities.get_local_data_dir(), r'sample_outages_full\\outg_rec_nb_11751094')\n",
    "df_circuit_dir = os.path.join(Utilities.get_local_data_dir(), r'sample_circuits\\outg_rec_nb_11751094')\n",
    "#df_circuit_dir = os.path.join(Utilities.get_local_data_dir(), r'sample_circuits\\Batch2_LessCounts\\outg_rec_nb_11751094')\n",
    "\n",
    "out_t_beg_loc = pd.to_datetime('2020-06-21 10:52:00')\n",
    "out_t_end_loc = pd.to_datetime('2020-06-21 12:50:00')\n",
    "no_outage_center_loc = pd.to_datetime('2020-08-15')"
   ]
  },
  {
   "cell_type": "code",
   "execution_count": null,
   "id": "079d047f",
   "metadata": {},
   "outputs": [],
   "source": [
    "#TODO WEIRD stuff going on for beginning few months of voltage!\n",
    "# df_outage_dir = os.path.join(Utilities.get_local_data_dir(), r'sample_outages\\outg_rec_nb_11770899')\n",
    "# out_t_beg_loc = pd.to_datetime('2020-07-01 14:18:00')\n",
    "# out_t_end_loc = pd.to_datetime('2020-07-01 18:50:00')\n",
    "# no_outage_center_loc = pd.to_datetime('2021-04-01')"
   ]
  },
  {
   "cell_type": "code",
   "execution_count": null,
   "id": "6de407e8",
   "metadata": {},
   "outputs": [],
   "source": [
    "freqs=['H', '4H', 'D', 'MS']\n",
    "time_col_for_agg='endtimeperiod_utc'\n",
    "other_grouper_cols=['serialnumber']\n",
    "build_agg_dfs=True\n",
    "other_cols_to_keep = ['prem_nb', 'srvc_pole_nb', 'trsf_pole_nb', 'station_nb', \n",
    "                      'xfmr_nb', 'aep_derived_uom', 'aep_srvc_qlty_idntfr']\n",
    "other_cols_to_keep_agg = ['aep_derived_uom', 'aep_srvc_qlty_idntfr']\n",
    "agg_cols=['value', 'annual_kwh']\n",
    "agg_types=['mean']\n",
    "mix_agg_functions=False\n",
    "\n",
    "# Should not be any overlap between other_cols_to_keep and agg_cols\n",
    "assert(len(set(other_cols_to_keep).intersection(set(agg_cols)))==0)\n",
    "assert(len(set(other_cols_to_keep_agg).intersection(set(agg_cols)))==0)"
   ]
  },
  {
   "cell_type": "code",
   "execution_count": null,
   "id": "30a7669d",
   "metadata": {},
   "outputs": [],
   "source": [
    "df_key = 'df'\n",
    "df_agg_key = 'df_agg'"
   ]
  },
  {
   "cell_type": "markdown",
   "id": "06b82b04",
   "metadata": {},
   "source": [
    "# Load Outage data"
   ]
  },
  {
   "cell_type": "code",
   "execution_count": null,
   "id": "d68ba209",
   "metadata": {},
   "outputs": [],
   "source": [
    "kwh_vlt_dfs_dict = AMINonVee.assemble_kwh_vlt_dfs_from_saved_csvs(file_dir=df_outage_dir, glob_pattern=r'outg_rec_nb_*.csv', \n",
    "                                                        cols_of_interest=cols_of_interest, \n",
    "                                                        verbose=True)\n",
    "df_kwh_15T = kwh_vlt_dfs_dict['kwh']\n",
    "df_vlt_15T = kwh_vlt_dfs_dict['vlt']\n",
    "# #-------------------------------------------------------------------------------------------------\n",
    "dfs_kwh_dict = AMINonVee.build_time_resampled_dfs(df_kwh_15T, base_freq='15T', freqs=freqs, \n",
    "                                 other_grouper_cols=other_grouper_cols, other_cols_to_keep=other_cols_to_keep, \n",
    "                                 build_agg_dfs=build_agg_dfs, time_col_for_agg=time_col_for_agg, \n",
    "                                 agg_cols=agg_cols, agg_types=agg_types, \n",
    "                                 other_cols_to_keep_agg=other_cols_to_keep_agg, mix_agg_functions=mix_agg_functions, \n",
    "                                 df_key=df_key, df_agg_key=df_agg_key)\n",
    "#-----\n",
    "assert(df_kwh_15T.equals(dfs_kwh_dict['15T'][df_key]))\n",
    "#-------------------------------------------------------------------------------------------------\n",
    "dfs_vlt_dict = AMINonVee.build_time_resampled_dfs(df_vlt_15T, base_freq='15T', freqs=freqs, \n",
    "                                 other_grouper_cols=other_grouper_cols, other_cols_to_keep=other_cols_to_keep, \n",
    "                                 build_agg_dfs=build_agg_dfs, time_col_for_agg=time_col_for_agg, \n",
    "                                 agg_cols=agg_cols, agg_types=agg_types, \n",
    "                                 other_cols_to_keep_agg=other_cols_to_keep_agg, mix_agg_functions=mix_agg_functions, \n",
    "                                 df_key=df_key, df_agg_key=df_agg_key)\n",
    "#-----\n",
    "assert(df_vlt_15T.equals(dfs_vlt_dict['15T'][df_key]))\n",
    "#-------------------------------------------------------------------------------------------------"
   ]
  },
  {
   "cell_type": "code",
   "execution_count": null,
   "id": "ee96c2a5",
   "metadata": {},
   "outputs": [],
   "source": [
    "# dfs_kwh_dict['H']['df_agg']"
   ]
  },
  {
   "cell_type": "code",
   "execution_count": null,
   "id": "40ae8d36",
   "metadata": {},
   "outputs": [],
   "source": []
  },
  {
   "cell_type": "markdown",
   "id": "8bd37744",
   "metadata": {},
   "source": [
    "# Load Circuit data"
   ]
  },
  {
   "cell_type": "code",
   "execution_count": null,
   "id": "7ed88ac5",
   "metadata": {},
   "outputs": [],
   "source": [
    "#TODO!!!!!!!!!!!!!!!!!!\n",
    "#TODO!!!!!!!!!!!!!!!!!!\n",
    "#TODO!!!!!!!!!!!!!!!!!!\n",
    "# There seems to be inconsistency in the database\n",
    "# For some, each has a 'RECEIVED' and 'DELIVERED'\n",
    "# For others, each has a 'RECEIVED' and 'TOTAL'\n",
    "# I have not found a case yet with all three ('RECEIVED', 'DELIVERED', and 'TOTAL')\n",
    "# It seems that the 'RECEIVED' counts is typically correct\n",
    "# However, may want to simply take the max of n_TOTAL+n_DELIVERED and n_RECEIVED\n",
    "\n",
    "kwh_vlt_dfs_cir_dict = AMINonVee.assemble_kwh_vlt_dfs_from_saved_csvs(file_dir=df_circuit_dir, glob_pattern=r'outg_rec_nb_*q[0-9].csv', \n",
    "                                                            value_cols=['value_sum', 'counts', 'value_mean'], \n",
    "                                                            cols_of_interest=cols_of_interest_cir, \n",
    "                                                            combine_kwh_delivered_and_received=False, \n",
    "                                                            merge_and_groupby_cols=['aep_endtime_utc'], \n",
    "                                                            verbose=True)\n",
    "df_cir_kwh_15T = kwh_vlt_dfs_cir_dict['kwh']\n",
    "df_cir_vlt_15T = kwh_vlt_dfs_cir_dict['vlt']\n",
    "\n",
    "##TODO Currently, counts includes Null values as well.  The code below changes it back\n",
    "df_cir_kwh_15T = df_cir_kwh_15T[df_cir_kwh_15T['value_sum'].notna()]\n",
    "df_cir_kwh_15T.loc[df_cir_kwh_15T['value_sum']!=0,'counts']=round(df_cir_kwh_15T[df_cir_kwh_15T['value_sum']!=0]['value_sum']/df_cir_kwh_15T[df_cir_kwh_15T['value_sum']!=0]['value_mean'])\n",
    "df_cir_kwh_15T['counts'] = df_cir_kwh_15T['counts'].astype(int)\n",
    "\n",
    "df_cir_vlt_15T = df_cir_vlt_15T[df_cir_vlt_15T['value_sum'].notna()]\n",
    "df_cir_vlt_15T.loc[df_cir_vlt_15T['value_sum']!=0,'counts']=round(df_cir_vlt_15T[df_cir_vlt_15T['value_sum']!=0]['value_sum']/df_cir_vlt_15T[df_cir_vlt_15T['value_sum']!=0]['value_mean'])\n",
    "df_cir_vlt_15T['counts'] = df_cir_vlt_15T['counts'].astype(int)\n",
    "\n",
    "#-------------------------------------------------------------------------------------------------\n",
    "rename_agg_cols_cir={'value_sum':'value_sum_cir', 'counts':'counts_cir', 'value_mean':'value_mean_cir'}\n",
    "df_cir_kwh_15T = df_cir_kwh_15T.rename(columns=rename_agg_cols_cir)\n",
    "df_cir_vlt_15T = df_cir_vlt_15T.rename(columns=rename_agg_cols_cir)\n",
    "agg_cols_cir=list(rename_agg_cols_cir.values())\n",
    "\n",
    "#TODO!!!!!!!!!!!!!!!!!!\n",
    "#TODO!!!!!!!!!!!!!!!!!!\n",
    "#TODO!!!!!!!!!!!!!!!!!!\n",
    "# Need to handle how delivered, received, total will be combined before re-indexing!\n",
    "# For now, let's simply use 'TOTAL' from kwh\n",
    "df_cir_kwh_15T_FULL = df_cir_kwh_15T.copy()\n",
    "#df_cir_kwh_15T = df_cir_kwh_15T[df_cir_kwh_15T['aep_srvc_qlty_idntfr']=='TOTAL'].copy()\n",
    "\n",
    "# TODO!!!!!!!!!!!!!!!!!!!!!\n",
    "# How to handle different aep_srvc_qlty_idntfr for vlt?\n",
    "# ['INSTVA1', 'INSTVC1', 'INSTVB1', 'AVG']\n",
    "# For now, 'AVG' from vlt\n",
    "df_cir_vlt_15T_FULL = df_cir_vlt_15T.copy()\n",
    "df_cir_vlt_15T = df_cir_vlt_15T[df_cir_vlt_15T['aep_srvc_qlty_idntfr']=='AVG'].copy()"
   ]
  },
  {
   "cell_type": "markdown",
   "id": "c2656d1d",
   "metadata": {},
   "source": [
    "## Trying to combine total, received, and delivered for circuit data"
   ]
  },
  {
   "cell_type": "code",
   "execution_count": null,
   "id": "aec2578e",
   "metadata": {},
   "outputs": [],
   "source": [
    "def build_circuit_non_vals(df, non_val_cols, \n",
    "                           aep_srvc_qlty_idntfr_col='aep_srvc_qlty_idntfr', \n",
    "                           aep_srvc_qlty_idntfr_vals={'rec':'RECEIVED', 'del':'DELIVERED', 'tot':'TOTAL'}):\n",
    "    # Typically, df_rec, df_del, and df_tot will not all contain to entire set of\n",
    "    # dates.  To simplify the merge, first grab the total set of non_vals_df.\n",
    "    # This is achieved using the combine_first method, which will keep the first non-null\n",
    "    # element between the two datasets.\n",
    "    # Then, merges can be done using just the value_cols and time_idx.\n",
    "    # The non_vals_df will be combined with the vals_df in the end\n",
    "    #------------------------\n",
    "    df_rec = df[df[aep_srvc_qlty_idntfr_col]==aep_srvc_qlty_idntfr_vals['rec']]\n",
    "    df_del = df[df[aep_srvc_qlty_idntfr_col]==aep_srvc_qlty_idntfr_vals['del']]\n",
    "    df_tot = df[df[aep_srvc_qlty_idntfr_col]==aep_srvc_qlty_idntfr_vals['tot']]\n",
    "    #------------------------\n",
    "    non_vals_df = df_del[non_val_cols].combine_first(df_rec[non_val_cols])\n",
    "    non_vals_df = non_vals_df.combine_first(df_tot[non_val_cols])\n",
    "    assert(non_vals_df.isna().sum().sum()==0) #TODO should this assert remain?\n",
    "    return non_vals_df"
   ]
  },
  {
   "cell_type": "code",
   "execution_count": null,
   "id": "9f9574f8",
   "metadata": {},
   "outputs": [],
   "source": [
    "def get_circuit_total_vals_for_time_idx(gp1):\n",
    "    # gp1 should be a DataFrame from a grouped call on time index\n",
    "    assert(gp1.index.nunique()==1)\n",
    "    \n",
    "    # Should only be 'RECEIVED', 'DELIVERED', and 'TOTAL' as possible\n",
    "    # values for aep_srvc_qlty_idntfr below\n",
    "    aep_srvc_qlty_idntfrs = gp1['aep_srvc_qlty_idntfr'].tolist()\n",
    "    assert(len(aep_srvc_qlty_idntfrs)<=3)\n",
    "    \n",
    "    if 'RECEIVED' in aep_srvc_qlty_idntfrs:\n",
    "        received = gp1[gp1['aep_srvc_qlty_idntfr']=='RECEIVED']\n",
    "        assert(received.shape[0]==1)\n",
    "        received = received.iloc[0][['value_sum_cir', 'counts_cir']].to_dict()\n",
    "    else:\n",
    "        received = {'value_sum_cir':0, 'counts_cir':0}\n",
    "    #-----\n",
    "    if 'DELIVERED' in aep_srvc_qlty_idntfrs:\n",
    "        delivered = gp1[gp1['aep_srvc_qlty_idntfr']=='DELIVERED']\n",
    "        assert(delivered.shape[0]==1)\n",
    "        delivered = delivered.iloc[0][['value_sum_cir', 'counts_cir']].to_dict()\n",
    "    else:\n",
    "        delivered = {'value_sum_cir':0, 'counts_cir':0}\n",
    "    #-----\n",
    "    if 'TOTAL' in aep_srvc_qlty_idntfrs:\n",
    "        total = gp1[gp1['aep_srvc_qlty_idntfr']=='TOTAL']\n",
    "        assert(total.shape[0]==1)\n",
    "        total = total.iloc[0][['value_sum_cir', 'counts_cir']].to_dict()\n",
    "    else:\n",
    "        total = {'value_sum_cir':0, 'counts_cir':0}\n",
    "    #----------------------------------------------\n",
    "    net_sum = total['value_sum_cir']+delivered['value_sum_cir']-received['value_sum_cir']\n",
    "    net_counts = max(received['counts_cir'], total['counts_cir']+delivered['counts_cir'])\n",
    "    net_mean = net_sum/net_counts\n",
    "    \n",
    "    return {'value_sum_cir':net_sum, \n",
    "            'counts_cir':net_counts, \n",
    "            'value_mean_cir':net_mean}"
   ]
  },
  {
   "cell_type": "code",
   "execution_count": null,
   "id": "2ef63547",
   "metadata": {},
   "outputs": [],
   "source": [
    "def get_ciruit_total_vals_method1(df, non_val_cols, \n",
    "                                  aep_srvc_qlty_idntfr_col='aep_srvc_qlty_idntfr', \n",
    "                                  aep_srvc_qlty_idntfr_vals={'rec':'RECEIVED', 'del':'DELIVERED', 'tot':'TOTAL'}):\n",
    "    results_series = df.groupby(level=0).apply(get_circuit_total_vals_for_time_idx)\n",
    "    results_df = pd.DataFrame.from_dict(results_series.to_dict(), orient='index')\n",
    "\n",
    "    non_vals_df = build_circuit_non_vals(df, non_val_cols, \n",
    "                                         aep_srvc_qlty_idntfr_col=aep_srvc_qlty_idntfr_col, \n",
    "                                         aep_srvc_qlty_idntfr_vals=aep_srvc_qlty_idntfr_vals)\n",
    "    assert(non_vals_df.shape[0]==results_df.shape[0])\n",
    "    results_df = results_df.merge(non_vals_df, how='inner', left_index=True, right_index=True)\n",
    "    results_df[aep_srvc_qlty_idntfr_col] = 'TOTAL'\n",
    "    return results_df"
   ]
  },
  {
   "cell_type": "code",
   "execution_count": null,
   "id": "e5959e7f",
   "metadata": {},
   "outputs": [],
   "source": [
    "def get_ciruit_total_vals_method2(df, non_val_cols, \n",
    "                                  value_cols_dict = {'value_sum_cir_col':'value_sum_cir', \n",
    "                                                     'counts_cir_col':'counts_cir', \n",
    "                                                     'value_mean_cir_col':'value_mean_cir'}, \n",
    "                                  remove_intermediate_cols=True, \n",
    "                                  aep_srvc_qlty_idntfr_col='aep_srvc_qlty_idntfr', \n",
    "                                  aep_srvc_qlty_idntfr_vals={'rec':'RECEIVED', 'del':'DELIVERED', 'tot':'TOTAL'}, \n",
    "                                  maintain_original_col_order=True):\n",
    "    # TODO How to enforce assert(len(aep_srvc_qlty_idntfrs)<=3)\n",
    "    #---------------------------------------------------\n",
    "    expected_keys = ['counts_cir_col', 'value_mean_cir_col', 'value_sum_cir_col']\n",
    "    assert(len(set(value_cols_dict.keys()).intersection(set(expected_keys)))==3)    \n",
    "    value_cols = list(value_cols_dict.values())\n",
    "    #---------------------------------------------------\n",
    "    df_rec = df[df[aep_srvc_qlty_idntfr_col]==aep_srvc_qlty_idntfr_vals['rec']]\n",
    "    df_del = df[df[aep_srvc_qlty_idntfr_col]==aep_srvc_qlty_idntfr_vals['del']]\n",
    "    df_tot = df[df[aep_srvc_qlty_idntfr_col]==aep_srvc_qlty_idntfr_vals['tot']]\n",
    "    #---------------------------------------------------    \n",
    "    # This essentially enforces assert(len(aep_srvc_qlty_idntfrs)<=3)\n",
    "    assert(df_rec.shape[0]==df_rec.index.nunique())\n",
    "    assert(df_del.shape[0]==df_del.index.nunique())\n",
    "    assert(df_tot.shape[0]==df_tot.index.nunique())\n",
    "    #---------------------------------------------------\n",
    "    return_df = df_del[value_cols].merge(df_rec[value_cols], \n",
    "                                         left_index=True, right_index=True, \n",
    "                                         how='outer', suffixes=('_del', '_rec')) \n",
    "    # Note: Suffix argument will do nothing here, as df_tot contains value_cols, whereas\n",
    "    #       return_df currently contains [f'x_{del}' for x in value_cols] and [f'x_{rec}' for x in value_cols]\n",
    "    #       Therefore, there are no overlapping column names.  As such, we must rename using .rename\n",
    "    return_df = return_df.merge(df_tot[value_cols], left_index=True, right_index=True, how='outer')\n",
    "    return_df = return_df.rename(columns = {x:f'{x}_tot' for x in value_cols})\n",
    "    # I used an outer merge so there will always been an entry for delivered, received, and total in return_df\n",
    "    # However, if one of these did not exist in the original, the outer merge will leave a NaN value in the cell\n",
    "    # Therefore, I call return_df.fillna(0) to replace any of these NaNs with 0\n",
    "    return_df = return_df.fillna(0)\n",
    "    #---------------------------------------------------\n",
    "    value_sum_cir_col = value_cols_dict['value_sum_cir_col']\n",
    "    counts_cir_col = value_cols_dict['counts_cir_col']\n",
    "    value_mean_cir_col = value_cols_dict['value_mean_cir_col']\n",
    "    #---------------------------------------------------\n",
    "    # Made a list of newly created columns, which will be need if remove_intermediate_cols==True\n",
    "    new_col_tags = ['_del', '_rec', '_tot']\n",
    "    new_cols = [value_col+tag for value_col in value_cols for tag in new_col_tags]\n",
    "    new_cols.append(f\"{counts_cir_col}_del_plus_tot\")\n",
    "    #---------------------------------------------------\n",
    "    return_df[f\"{counts_cir_col}_del_plus_tot\"] = (return_df[f\"{counts_cir_col}_del\"] +\n",
    "                                                   return_df[f\"{counts_cir_col}_tot\"])\n",
    "    return_df[counts_cir_col] = return_df[[f\"{counts_cir_col}_rec\", \n",
    "                                           f\"{counts_cir_col}_del_plus_tot\"]].max(axis=1)\n",
    "    return_df[value_sum_cir_col] = (return_df[f\"{value_sum_cir_col}_tot\"] +\n",
    "                                    return_df[f\"{value_sum_cir_col}_del\"] -\n",
    "                                    return_df[f\"{value_sum_cir_col}_rec\"])\n",
    "    return_df[value_mean_cir_col] = return_df[value_sum_cir_col]/return_df[value_cols_dict['counts_cir_col']]\n",
    "    return_df[counts_cir_col]=return_df[counts_cir_col].astype('int64')\n",
    "    #---------------------------------------------------\n",
    "    if remove_intermediate_cols:\n",
    "        return_df = return_df.drop(columns=new_cols)\n",
    "    #---------------------------------------------------\n",
    "    non_vals_df = build_circuit_non_vals(df, non_val_cols, \n",
    "                                         aep_srvc_qlty_idntfr_col=aep_srvc_qlty_idntfr_col, \n",
    "                                         aep_srvc_qlty_idntfr_vals=aep_srvc_qlty_idntfr_vals)\n",
    "    assert(non_vals_df.shape[0]==return_df.shape[0])\n",
    "    return_df = return_df.merge(non_vals_df, how='inner', left_index=True, right_index=True)\n",
    "    return_df[aep_srvc_qlty_idntfr_col] = 'TOTAL'\n",
    "    if maintain_original_col_order:\n",
    "        cols_from_og = [x for x in df.columns if x in return_df.columns]\n",
    "        return_df = Utilities_df.move_cols_to_front(return_df, cols_from_og)\n",
    "    return return_df"
   ]
  },
  {
   "cell_type": "code",
   "execution_count": null,
   "id": "41e93975",
   "metadata": {},
   "outputs": [],
   "source": [
    "non_val_cols = ['starttimeperiod', 'endtimeperiod', 'aep_endtime_utc', 'timezoneoffset',\n",
    "                'aep_derived_uom', 'aep_usage_dt', 'aep_endtime_utc_from_timestamp', \n",
    "                'starttimeperiod_utc', 'endtimeperiod_utc']\n",
    "value_cols_dict = {'value_sum_cir_col':'value_sum_cir', \n",
    "                   'counts_cir_col':'counts_cir', \n",
    "                   'value_mean_cir_col':'value_mean_cir'}"
   ]
  },
  {
   "cell_type": "code",
   "execution_count": null,
   "id": "46c25d6e",
   "metadata": {},
   "outputs": [],
   "source": [
    "# dfs_cir_kwh_dict['H']['df']"
   ]
  },
  {
   "cell_type": "markdown",
   "id": "ac7bd594",
   "metadata": {},
   "source": [
    "### Test small sample of data"
   ]
  },
  {
   "cell_type": "code",
   "execution_count": null,
   "id": "6258fd5a",
   "metadata": {},
   "outputs": [],
   "source": [
    "test_df = df_cir_kwh_15T_FULL.loc[:'2018-05-28 21:30:00'].copy() # First ~1000 entries\n",
    "#---------------------------------------------\n",
    "n_rep = 10\n",
    "\n",
    "start = time.time()\n",
    "for i in range(n_rep):\n",
    "    results_method1 = get_ciruit_total_vals_method1(test_df, non_val_cols)\n",
    "time_1 = time.time() - start\n",
    "\n",
    "start = time.time()\n",
    "for i in range(n_rep):\n",
    "    results_method2 = get_ciruit_total_vals_method2(test_df, non_val_cols, \n",
    "                                                    value_cols_dict=value_cols_dict, remove_intermediate_cols=True)\n",
    "time_2 = time.time() - start\n",
    "\n",
    "print(f'n_rep = {n_rep}')\n",
    "print(f'Avg time_1 = {time_1/n_rep}')\n",
    "print(f'Avg time_2 = {time_2/n_rep}')\n",
    "\n",
    "assert(len(results_method1.columns)==len(results_method2.columns))\n",
    "assert(len(set(results_method2.columns).intersection(set(results_method1.columns)))==len(results_method2.columns))\n",
    "# Made column ordering same\n",
    "print(f'results_method2==results_method1: {results_method2[results_method1.columns].equals(results_method1)}')\n",
    "# results_method2[results_method1.columns].equals(results_method1)"
   ]
  },
  {
   "cell_type": "markdown",
   "id": "cfcd8323",
   "metadata": {},
   "source": [
    "### Test full dataset"
   ]
  },
  {
   "cell_type": "code",
   "execution_count": null,
   "id": "e14731cf",
   "metadata": {},
   "outputs": [],
   "source": [
    "test_df_full = df_cir_kwh_15T_FULL.copy()\n",
    "#-------------------------------------------------------\n",
    "# This takes some time to run, maybe 10 minutes?  I can't remember\n",
    "# Certainly much longer than method 2\n",
    "are_you_sure = False\n",
    "if are_you_sure:\n",
    "    start = time.time()\n",
    "    results_method1_full = get_ciruit_total_vals_method1(test_df_full, non_val_cols)\n",
    "    time_1 = time.time() - start\n",
    "    print(f'time_1 = {time_1}')\n",
    "#-------------------------------------------------------\n",
    "start = time.time()\n",
    "results_method2_full = get_ciruit_total_vals_method2(test_df_full, non_val_cols, \n",
    "                                                     value_cols_dict=value_cols_dict, remove_intermediate_cols=True)\n",
    "time_2 = time.time() - start\n",
    "print(f'time_2 = {time_2}')\n",
    "#-------------------------------------------------------\n",
    "if are_you_sure:\n",
    "    assert(len(results_method1_full.columns)==len(results_method2_full.columns))\n",
    "    assert(len(set(results_method2_full.columns).intersection(set(results_method1_full.columns)))==len(results_method2_full.columns))\n",
    "    # Made column ordering same\n",
    "    results_method2_full[results_method1_full.columns].equals(results_method1_full)"
   ]
  },
  {
   "cell_type": "markdown",
   "id": "986ad7a6",
   "metadata": {},
   "source": [
    "### Use combine method on full dataset and then resample/aggregate"
   ]
  },
  {
   "cell_type": "code",
   "execution_count": null,
   "id": "0cd070c9",
   "metadata": {},
   "outputs": [],
   "source": [
    "non_val_cols = ['starttimeperiod', 'endtimeperiod', 'aep_endtime_utc', 'timezoneoffset',\n",
    "                'aep_derived_uom', 'aep_usage_dt', 'aep_endtime_utc_from_timestamp', \n",
    "                'starttimeperiod_utc', 'endtimeperiod_utc']\n",
    "value_cols_dict = {'value_sum_cir_col':'value_sum_cir', \n",
    "                   'counts_cir_col':'counts_cir', \n",
    "                   'value_mean_cir_col':'value_mean_cir'}"
   ]
  },
  {
   "cell_type": "code",
   "execution_count": null,
   "id": "0f434722",
   "metadata": {},
   "outputs": [],
   "source": [
    "dfs_kwh_dict['H']['df']"
   ]
  },
  {
   "cell_type": "code",
   "execution_count": null,
   "id": "12571ef0",
   "metadata": {},
   "outputs": [],
   "source": []
  },
  {
   "cell_type": "code",
   "execution_count": null,
   "id": "3c442cce",
   "metadata": {},
   "outputs": [],
   "source": []
  },
  {
   "cell_type": "code",
   "execution_count": null,
   "id": "19aa99c5",
   "metadata": {},
   "outputs": [],
   "source": []
  },
  {
   "cell_type": "code",
   "execution_count": null,
   "id": "6efc8351",
   "metadata": {},
   "outputs": [],
   "source": [
    "df_cir_kwh_15T = get_ciruit_total_vals_method2(df_cir_kwh_15T, non_val_cols, \n",
    "                                               value_cols_dict=value_cols_dict, remove_intermediate_cols=True)\n",
    "#-------------------------------------------------------------------------------------------------\n",
    "# TODO!!!!!!!!!!!!!!!!!\n",
    "# Also, would expect e.g. dfs_cir_kwh_dict['H'][df_key]==dfs_cir_kwh_dict['H'][df_agg_key]\n",
    "# However, this is close but not exactly true\n",
    "# It appears there are some times with duplicate entries\n",
    "# Compare the size of df_cir_kwh_15T[df_cir_kwh_15T['aep_srvc_qlty_idntfr']=='TOTAL']\n",
    "# to the number of unique indices\n",
    "#\n",
    "#\n",
    "\n",
    "dfs_cir_kwh_dict = AMINonVee.build_time_resampled_dfs(df_cir_kwh_15T, freqs=freqs, other_grouper_cols=[], \n",
    "                                     build_agg_dfs=build_agg_dfs, time_col_for_agg=time_col_for_agg, \n",
    "                                     agg_cols=agg_cols_cir, agg_types=['mean', 'sum'], \n",
    "                                     df_key=df_key, df_agg_key=df_agg_key)\n",
    "#-----\n",
    "assert(df_cir_kwh_15T.equals(dfs_cir_kwh_dict['15T'][df_key]))\n",
    "#-------------------------------------------------------------------------------------------------\n",
    "dfs_cir_vlt_dict = AMINonVee.build_time_resampled_dfs(df_cir_vlt_15T, freqs=freqs, other_grouper_cols=[], \n",
    "                                     build_agg_dfs=build_agg_dfs, time_col_for_agg=time_col_for_agg, agg_cols=agg_cols_cir, \n",
    "                                     df_key=df_key, df_agg_key=df_agg_key)\n",
    "#-----\n",
    "assert(df_cir_vlt_15T.equals(dfs_cir_vlt_dict['15T'][df_key]))\n",
    "#-------------------------------------------------------------------------------------------------"
   ]
  },
  {
   "cell_type": "code",
   "execution_count": null,
   "id": "e073889f",
   "metadata": {},
   "outputs": [],
   "source": [
    "print('Checking endtimeperiod_utc against aep_endtime_utc_from_timestamp')\n",
    "print('df_kwh_15T:     ', all(df_kwh_15T['endtimeperiod_utc']==df_kwh_15T['aep_endtime_utc_from_timestamp']))\n",
    "print('df_vlt_15T:     ', all(df_vlt_15T['endtimeperiod_utc']==df_vlt_15T['aep_endtime_utc_from_timestamp']))\n",
    "#-----\n",
    "print('df_cir_kwh_15T: ', all(df_cir_kwh_15T['endtimeperiod_utc']==df_cir_kwh_15T['aep_endtime_utc_from_timestamp']))\n",
    "print('df_cir_vlt_15T: ', all(df_cir_vlt_15T['endtimeperiod_utc']==df_cir_vlt_15T['aep_endtime_utc_from_timestamp']))"
   ]
  },
  {
   "cell_type": "code",
   "execution_count": null,
   "id": "8106acbb",
   "metadata": {},
   "outputs": [],
   "source": [
    "# df_kwh_15T.head()"
   ]
  },
  {
   "cell_type": "code",
   "execution_count": null,
   "id": "01929d70",
   "metadata": {},
   "outputs": [],
   "source": [
    "tmpppp = dfs_cir_kwh_dict['H']['df'].copy()\n",
    "all(tmpppp['mean_TRS value_sum_cir']/tmpppp['mean_TRS counts_cir']==tmpppp['mean_TRS value_mean_cir'])"
   ]
  },
  {
   "cell_type": "code",
   "execution_count": null,
   "id": "efc4bfd0",
   "metadata": {},
   "outputs": [],
   "source": [
    "tmpppp[tmpppp['mean_TRS value_sum_cir']/tmpppp['mean_TRS counts_cir']!=tmpppp['mean_TRS value_mean_cir']]"
   ]
  },
  {
   "cell_type": "markdown",
   "id": "0cab94be",
   "metadata": {},
   "source": [
    "# Convert out_t_beg_loc and out_t_end_loc to UTC"
   ]
  },
  {
   "cell_type": "code",
   "execution_count": null,
   "id": "15d6a9fd",
   "metadata": {},
   "outputs": [],
   "source": [
    "unique_tz_offsets = pd.to_timedelta(df_kwh_15T['timezoneoffset'].unique()).tolist()\n",
    "# Should be complete hour\n",
    "assert(all(x.total_seconds()%3600==0 for x in unique_tz_offsets))\n",
    "unique_tz_offsets = [round(x.total_seconds()/3600) for x in unique_tz_offsets]\n",
    "found_tz = Utilities_dt.determine_us_timezone(unique_tz_offsets, assert_found=True)\n",
    "#--------------------\n",
    "out_t_beg = pd.to_datetime(out_t_beg_loc).tz_localize(found_tz).tz_convert(None)\n",
    "out_t_end = pd.to_datetime(out_t_end_loc).tz_localize(found_tz).tz_convert(None)\n",
    "no_outage_center = pd.to_datetime(no_outage_center_loc).tz_localize(found_tz).tz_convert(None)"
   ]
  },
  {
   "cell_type": "code",
   "execution_count": null,
   "id": "182e4b59",
   "metadata": {},
   "outputs": [],
   "source": [
    "for idx, gp in df_cir_kwh_15T_FULL.groupby(level=0):\n",
    "    value_counts = gp['aep_srvc_qlty_idntfr'].value_counts()\n",
    "    if len(value_counts)<2:\n",
    "        print(idx)"
   ]
  },
  {
   "cell_type": "code",
   "execution_count": null,
   "id": "42a90288",
   "metadata": {},
   "outputs": [],
   "source": []
  },
  {
   "cell_type": "code",
   "execution_count": null,
   "id": "2686f5af",
   "metadata": {},
   "outputs": [],
   "source": []
  },
  {
   "cell_type": "code",
   "execution_count": null,
   "id": "2c674752",
   "metadata": {},
   "outputs": [],
   "source": []
  },
  {
   "cell_type": "code",
   "execution_count": null,
   "id": "39388ec0",
   "metadata": {},
   "outputs": [],
   "source": []
  },
  {
   "cell_type": "code",
   "execution_count": null,
   "id": "60e6eae3",
   "metadata": {},
   "outputs": [],
   "source": []
  },
  {
   "cell_type": "code",
   "execution_count": null,
   "id": "2b904be9",
   "metadata": {},
   "outputs": [],
   "source": [
    "for idx, gp in df_kwh_15T[df_kwh_15T['serialnumber']==880693914].groupby(level=0):\n",
    "    if len(gp)>1:\n",
    "        print(idx)"
   ]
  },
  {
   "cell_type": "code",
   "execution_count": null,
   "id": "4740bb32",
   "metadata": {},
   "outputs": [],
   "source": []
  },
  {
   "cell_type": "code",
   "execution_count": null,
   "id": "613aab5e",
   "metadata": {},
   "outputs": [],
   "source": [
    "df_cir_kwh_15T_FULL.groupby('starttimeperiod').get_group('2018-05-25T07:15:00-04:00')"
   ]
  },
  {
   "cell_type": "code",
   "execution_count": null,
   "id": "12b9d1e8",
   "metadata": {},
   "outputs": [],
   "source": [
    "run=False\n",
    "if run:\n",
    "    total=0\n",
    "    #for idx,grp in df_cir_kwh_15T_FULL.groupby('starttimeperiod'):\n",
    "    for idx,grp in df_cir_kwh_15T_FULL.groupby(level=0):\n",
    "        if grp.shape[0]!=2 and grp.shape[0]!=3:\n",
    "            print(idx, grp.shape[0], '\\n')\n",
    "            #print(grp.shape[0])\n",
    "        total += grp.shape[0]\n",
    "    print(total)"
   ]
  },
  {
   "cell_type": "code",
   "execution_count": null,
   "id": "cf22ba53",
   "metadata": {},
   "outputs": [],
   "source": []
  },
  {
   "cell_type": "code",
   "execution_count": null,
   "id": "ff37d261",
   "metadata": {},
   "outputs": [],
   "source": [
    "missing = find_missing_time_idxs(df_kwh_15T, '15T')"
   ]
  },
  {
   "cell_type": "code",
   "execution_count": null,
   "id": "a87e6e64",
   "metadata": {},
   "outputs": [],
   "source": [
    "missing"
   ]
  },
  {
   "cell_type": "code",
   "execution_count": null,
   "id": "fee85205",
   "metadata": {},
   "outputs": [],
   "source": []
  },
  {
   "cell_type": "code",
   "execution_count": null,
   "id": "dfdecf30",
   "metadata": {},
   "outputs": [],
   "source": [
    "test_df"
   ]
  },
  {
   "cell_type": "code",
   "execution_count": null,
   "id": "2631be43",
   "metadata": {},
   "outputs": [],
   "source": [
    "test_df.groupby(['time_idx'])"
   ]
  },
  {
   "cell_type": "code",
   "execution_count": null,
   "id": "5f80bb85",
   "metadata": {},
   "outputs": [],
   "source": []
  },
  {
   "cell_type": "code",
   "execution_count": null,
   "id": "5475189f",
   "metadata": {},
   "outputs": [],
   "source": []
  },
  {
   "cell_type": "code",
   "execution_count": null,
   "id": "388b3caf",
   "metadata": {},
   "outputs": [],
   "source": []
  },
  {
   "cell_type": "code",
   "execution_count": null,
   "id": "411f01c6",
   "metadata": {},
   "outputs": [],
   "source": [
    "df_cir_kwh_15T_FULL[df_cir_kwh_15T_FULL['starttimeperiod'].isin(['2019-11-03T01:30:00-05:00', \n",
    "                                                                 '2019-11-03T01:45:00-05:00', \n",
    "                                                                 '2019-11-03T02:00:00-05:00'])]"
   ]
  },
  {
   "cell_type": "code",
   "execution_count": null,
   "id": "49ba7875",
   "metadata": {},
   "outputs": [],
   "source": [
    "df_cir_kwh_15T_FULL[df_cir_kwh_15T_FULL['starttimeperiod']=='2020-11-01T01:45:00-05:00']"
   ]
  },
  {
   "cell_type": "code",
   "execution_count": null,
   "id": "06c4d1cc",
   "metadata": {},
   "outputs": [],
   "source": [
    "df_cir_kwh_15T_FULL['endtimeperiod_utc']"
   ]
  },
  {
   "cell_type": "code",
   "execution_count": null,
   "id": "50c48176",
   "metadata": {},
   "outputs": [],
   "source": []
  },
  {
   "cell_type": "code",
   "execution_count": null,
   "id": "9c69a204",
   "metadata": {},
   "outputs": [],
   "source": []
  },
  {
   "cell_type": "markdown",
   "id": "44d11826",
   "metadata": {},
   "source": [
    "### Figure out DST"
   ]
  },
  {
   "cell_type": "code",
   "execution_count": null,
   "id": "b919f142",
   "metadata": {},
   "outputs": [],
   "source": [
    "cols_to_move = ['starttimeperiod', 'endtimeperiod', \n",
    "                'starttimeperiod_utc', 'endtimeperiod_utc', \n",
    "                'aep_endtime_utc_from_timestamp', 'aep_endtime_utc']\n",
    "df_kwh_15T = Utilities_df.move_cols_to_front(df_kwh_15T, cols_to_move)"
   ]
  },
  {
   "cell_type": "code",
   "execution_count": null,
   "id": "19a6e019",
   "metadata": {},
   "outputs": [],
   "source": [
    "tmp_df = df_kwh_15T[df_kwh_15T['serialnumber']==880687439].copy()"
   ]
  },
  {
   "cell_type": "code",
   "execution_count": null,
   "id": "c83a29e6",
   "metadata": {},
   "outputs": [],
   "source": []
  },
  {
   "cell_type": "code",
   "execution_count": null,
   "id": "bc8ae2ac",
   "metadata": {},
   "outputs": [],
   "source": [
    "tmp_df[tmp_df['endtimeperiod_utc']!=tmp_df['aep_endtime_utc_from_timestamp']]"
   ]
  },
  {
   "cell_type": "code",
   "execution_count": null,
   "id": "edfbddb5",
   "metadata": {},
   "outputs": [],
   "source": [
    "df_kwh_15T[df_kwh_15T['endtimeperiod_utc']!=df_kwh_15T['aep_endtime_utc_from_timestamp']]"
   ]
  },
  {
   "cell_type": "code",
   "execution_count": null,
   "id": "5aaf9d21",
   "metadata": {},
   "outputs": [],
   "source": [
    "tmp_df[tmp_df['starttimeperiod_utc']=='2020-03-08 01:45:00']"
   ]
  },
  {
   "cell_type": "code",
   "execution_count": null,
   "id": "47206ea9",
   "metadata": {},
   "outputs": [],
   "source": [
    "tmp_df[tmp_df['starttimeperiod_utc']=='2018-11-04 01:45:00']"
   ]
  },
  {
   "cell_type": "code",
   "execution_count": null,
   "id": "407ef07b",
   "metadata": {},
   "outputs": [],
   "source": [
    "tmp_df[(tmp_df['starttimeperiod_utc']>='2018-11-04 00:45:00') & (tmp_df['starttimeperiod_utc']<='2018-11-04 02:15:00')]"
   ]
  },
  {
   "cell_type": "code",
   "execution_count": null,
   "id": "b3c00a15",
   "metadata": {},
   "outputs": [],
   "source": []
  },
  {
   "cell_type": "code",
   "execution_count": null,
   "id": "05f27e2e",
   "metadata": {},
   "outputs": [],
   "source": [
    "tmp_df[tmp_df['starttimeperiod_utc']>tmp_df['endtimeperiod_utc']]"
   ]
  },
  {
   "cell_type": "code",
   "execution_count": null,
   "id": "3d95e094",
   "metadata": {},
   "outputs": [],
   "source": [
    "tmp_df[(tmp_df['starttimeperiod_utc']>='2019-11-03 00:30:00') & (tmp_df['starttimeperiod_utc']<='2019-11-03 02:15:00')]"
   ]
  },
  {
   "cell_type": "code",
   "execution_count": null,
   "id": "ed29013e",
   "metadata": {},
   "outputs": [],
   "source": [
    "# Need to do the same thing for endtimeperiod_utc and starttimeperiod_utc\n",
    "# and probably for endtimeperiod and starttimeperiod\n",
    "wrong_start_end_df = tmp_df[tmp_df['endtimeperiod_utc']-tmp_df['starttimeperiod_utc']!=pd.to_timedelta('15T')]"
   ]
  },
  {
   "cell_type": "code",
   "execution_count": null,
   "id": "f187aed1",
   "metadata": {},
   "outputs": [],
   "source": [
    "wrong_start_end_df"
   ]
  },
  {
   "cell_type": "code",
   "execution_count": null,
   "id": "395ed13a",
   "metadata": {},
   "outputs": [],
   "source": []
  },
  {
   "cell_type": "code",
   "execution_count": null,
   "id": "06862270",
   "metadata": {},
   "outputs": [],
   "source": [
    "wrong_start_end_df.iloc[0]"
   ]
  },
  {
   "cell_type": "code",
   "execution_count": null,
   "id": "47f2c44e",
   "metadata": {},
   "outputs": [],
   "source": [
    "pd.to_datetime('2019-11-03T01:45:00-04:00').tz_convert(None)"
   ]
  },
  {
   "cell_type": "code",
   "execution_count": null,
   "id": "c433f5ea",
   "metadata": {},
   "outputs": [],
   "source": [
    "pd.to_datetime('2019-11-03T00:45:00-04:00').tz_convert(None)"
   ]
  },
  {
   "cell_type": "code",
   "execution_count": null,
   "id": "835156f7",
   "metadata": {},
   "outputs": [],
   "source": [
    "pd.to_datetime('2019-11-03T01:45:00-03:00').tz_convert(None)"
   ]
  },
  {
   "cell_type": "code",
   "execution_count": null,
   "id": "f3224808",
   "metadata": {},
   "outputs": [],
   "source": []
  },
  {
   "cell_type": "code",
   "execution_count": null,
   "id": "356cba54",
   "metadata": {},
   "outputs": [],
   "source": []
  },
  {
   "cell_type": "code",
   "execution_count": null,
   "id": "98836210",
   "metadata": {},
   "outputs": [],
   "source": []
  },
  {
   "cell_type": "code",
   "execution_count": null,
   "id": "ec453336",
   "metadata": {},
   "outputs": [],
   "source": []
  },
  {
   "cell_type": "code",
   "execution_count": null,
   "id": "2e865fc2",
   "metadata": {},
   "outputs": [],
   "source": []
  },
  {
   "cell_type": "code",
   "execution_count": null,
   "id": "d1235f3c",
   "metadata": {},
   "outputs": [],
   "source": []
  },
  {
   "cell_type": "code",
   "execution_count": null,
   "id": "095314df",
   "metadata": {},
   "outputs": [],
   "source": [
    "def try_to_find_correct_starttimeperiod(starttimeperiod, endtimeperiod, freq='15T'):\n",
    "    # end-start = observed\n",
    "    # ==> end - start - observed + desired = desired\n",
    "    # ==> end - (start + (observed-desired)) = desired\n",
    "    # ==> start --> start + (observed-desired)\n",
    "    starttimeperiod_utc = pd.to_datetime(starttimeperiod).tz_convert(None)\n",
    "    endtimeperiod_utc = pd.to_datetime(endtimeperiod).tz_convert(None)\n",
    "    time_delta_observed = endtimeperiod_utc-starttimeperiod_utc\n",
    "    time_delta_desired = pd.to_timedelta(freq)\n",
    "    start_time_change_needed = time_delta_observed-time_delta_desired\n",
    "    #--------------------------------------------\n",
    "    starttimeperiod_strp = datetime.datetime.strptime(starttimeperiod, '%Y-%m-%dT%H:%M:%S%z')\n",
    "    endtimeperiod_strp = datetime.datetime.strptime(endtimeperiod, '%Y-%m-%dT%H:%M:%S%z')\n",
    "    start_tz_offset_in_sec = starttimeperiod_strp.tzinfo.utcoffset(datetime.datetime.utcnow()).total_seconds()\n",
    "    end_tz_offset_in_sec = endtimeperiod_strp.tzinfo.utcoffset(datetime.datetime.utcnow()).total_seconds()\n",
    "\n",
    "    # There do exist timezone shifts of 30min, or ever 45 min I believe\n",
    "    # But I shouldn't see any such tzs in my data\n",
    "    assert(start_tz_offset_in_sec%3600==0)\n",
    "    assert(end_tz_offset_in_sec%3600==0)\n",
    "\n",
    "    start_tz_offset_hours = int(start_tz_offset_in_sec/3600)\n",
    "    end_tz_offset_hours = int(end_tz_offset_in_sec/3600)\n",
    "    #--------------------------------------------\n",
    "    # In the United States:\n",
    "    #   Spring DST occurs in March\n",
    "    #   Fall DST occurs in November\n",
    "    is_spring = endtimeperiod_utc.date().month==3\n",
    "    is_fall = endtimeperiod_utc.date().month==11\n",
    "    assert(is_spring+is_fall==1)    \n",
    "\n",
    "    # Can either subtract hour from time, add hour to tz shift, or both I suppose\n",
    "    # However, there is a restriction:\n",
    "    #     The only time the timezone of starttimeperiod differs from endtimeperiod is at the DST transition\n",
    "    #       In spring, it is allowed for starttimeperiod.tz < endtimeperiod.tz by 1 (i.e. endtimeperiod.tz-starttimeperiod.tz==1)\n",
    "    #       In fall, it is allowed for starttimeperiod.tz > endtimeperiod.tz by 1 (i.e. starttimeperiod.tz-endtimeperiod.tz==1)\n",
    "    starttimeperiod_utc_new = starttimeperiod_utc+start_time_change_needed\n",
    "    start_tz_offset_new = pd.to_timedelta(start_tz_offset_hours, 'H')-start_time_change_needed\n",
    "\n",
    "    is_shifted_tz_allowed = False\n",
    "    if is_fall and start_tz_offset_new-pd.to_timedelta(end_tz_offset_hours, 'H')==pd.to_timedelta('1H'):\n",
    "        is_shifted_tz_allowed=True\n",
    "    if is_spring and pd.to_timedelta(end_tz_offset_hours, 'H')-start_tz_offset_new==pd.to_timedelta('1H'):\n",
    "        is_shifted_tz_allowed=True\n",
    "\n",
    "    outcomes = []\n",
    "    psb_1_time = starttimeperiod_utc_new\n",
    "    psb_1_shift = pd.to_timedelta(start_tz_offset_hours, 'H')\n",
    "    psb_1_full = psb_1_time.tz_localize('UTC').tz_convert(datetime.timezone(psb_1_shift))\n",
    "    result_1 = pd.to_datetime(endtimeperiod).tz_localize(None)-psb_1_full.tz_localize(None)==time_delta_desired\n",
    "    outcomes.append((result_1, psb_1_full))\n",
    "\n",
    "    if is_shifted_tz_allowed:\n",
    "        psb_2_time = starttimeperiod_utc\n",
    "        psb_2_shift = start_tz_offset_new\n",
    "        psb_2_full = psb_2_time.tz_localize('UTC').tz_convert(datetime.timezone(psb_2_shift))\n",
    "        result_2 = pd.to_datetime(endtimeperiod).tz_localize(None)-psb_2_full.tz_localize(None)==time_delta_desired\n",
    "        outcomes.append((result_2, psb_2_full))\n",
    "\n",
    "\n",
    "        psb_3_time = starttimeperiod_utc_new\n",
    "        psb_3_shift = start_tz_offset_new\n",
    "        psb_3_full = psb_3_time.tz_localize('UTC').tz_convert(datetime.timezone(psb_3_shift))\n",
    "        result_3 = pd.to_datetime(endtimeperiod).tz_localize(None)-psb_3_full.tz_localize(None)==time_delta_desired\n",
    "        outcomes.append((result_3, psb_3_full))\n",
    "\n",
    "\n",
    "    suitable = [x for x in outcomes if x[0]]\n",
    "    # There should really only be one correct combination\n",
    "    assert(len(suitable)==1)\n",
    "    suitable=suitable[0][1]\n",
    "\n",
    "    # Unfortunately psb_1_full.strftime('%Y-%m-%dT%H:%M:%S%z') would give e.g. '2019-11-03T00:45:00-0400'\n",
    "    #   And there doesn't appear to be an option to output tz as -04:00 instead of -0400\n",
    "    # print(psb_1_full) gives, e.g. '2019-11-03 00:45:00-04:00'\n",
    "    #   The substitution below adds the T between date and time\n",
    "    starttimeperiod_correct = re.sub(r'(\\d{4}-\\d{2}-\\d{2}) (\\d{2}:\\d{2}:\\d{2})([+-]\\d{2}:\\d{2})', r'\\1T\\2\\3', str(suitable))\n",
    "    return starttimeperiod_correct"
   ]
  },
  {
   "cell_type": "code",
   "execution_count": null,
   "id": "26b85327",
   "metadata": {},
   "outputs": [],
   "source": []
  },
  {
   "cell_type": "code",
   "execution_count": null,
   "id": "9e49ea2d",
   "metadata": {},
   "outputs": [],
   "source": []
  },
  {
   "cell_type": "code",
   "execution_count": null,
   "id": "5fb8ff48",
   "metadata": {},
   "outputs": [],
   "source": []
  },
  {
   "cell_type": "code",
   "execution_count": null,
   "id": "b8dbd6a1",
   "metadata": {},
   "outputs": [],
   "source": []
  },
  {
   "cell_type": "code",
   "execution_count": null,
   "id": "babe2799",
   "metadata": {},
   "outputs": [],
   "source": [
    "print(tmp_df.loc['2019-11-03 01:45:00'][['starttimeperiod', 'endtimeperiod', 'aep_endtime_utc_from_timestamp']])"
   ]
  },
  {
   "cell_type": "code",
   "execution_count": null,
   "id": "d9a7495a",
   "metadata": {},
   "outputs": [],
   "source": [
    "tmp_df[tmp_df['starttimeperiod_utc']>tmp_df['endtimeperiod_utc']]"
   ]
  },
  {
   "cell_type": "code",
   "execution_count": null,
   "id": "ac4be22e",
   "metadata": {},
   "outputs": [],
   "source": [
    "tmp_df[tmp_df['starttimeperiod']=='2019-11-03T00:30:00-04:00']"
   ]
  },
  {
   "cell_type": "code",
   "execution_count": null,
   "id": "0c545f02",
   "metadata": {},
   "outputs": [],
   "source": [
    "tmp_df.loc['2019-11-03 00:00:00':'2019-11-03 12:00:00']"
   ]
  },
  {
   "cell_type": "code",
   "execution_count": null,
   "id": "0b6c351a",
   "metadata": {},
   "outputs": [],
   "source": []
  },
  {
   "cell_type": "code",
   "execution_count": null,
   "id": "55eb8091",
   "metadata": {},
   "outputs": [],
   "source": [
    "tmp_df.loc['2019-11-03 00:00:00':'2019-11-03 12:00:00'].sort_values(by='starttimeperiod_utc')"
   ]
  },
  {
   "cell_type": "code",
   "execution_count": null,
   "id": "e6a022fb",
   "metadata": {},
   "outputs": [],
   "source": [
    "read_df = pd.read_csv(os.path.join(Utilities.get_local_data_dir(), r'sample_outages\\outg_rec_nb_11751094\\outg_rec_nb_11751094_2019_q4.csv'))\n",
    "read_df = read_df[read_df['serialnumber']==880687439]\n",
    "read_df = read_df[(read_df['aep_derived_uom']=='KWH') & (read_df['aep_srvc_qlty_idntfr']=='TOTAL')]\n",
    "read_df = read_df[['starttimeperiod', 'endtimeperiod','aep_endtime_utc', 'timezoneoffset']]\n",
    "read_df = read_df.sort_values(by='aep_endtime_utc', ignore_index=True)\n",
    "read_df"
   ]
  },
  {
   "cell_type": "code",
   "execution_count": null,
   "id": "d10d4ecf",
   "metadata": {},
   "outputs": [],
   "source": [
    "read_df"
   ]
  },
  {
   "cell_type": "code",
   "execution_count": null,
   "id": "b8a038f8",
   "metadata": {},
   "outputs": [],
   "source": []
  },
  {
   "cell_type": "code",
   "execution_count": null,
   "id": "58e855f3",
   "metadata": {},
   "outputs": [],
   "source": [
    "read_df[read_df['starttimeperiod']=='2019-11-03T01:00:00-04:00']"
   ]
  },
  {
   "cell_type": "code",
   "execution_count": null,
   "id": "9c0934fe",
   "metadata": {},
   "outputs": [],
   "source": [
    "read_df[read_df['starttimeperiod']=='2019-11-03T03:00:00-05:00']"
   ]
  },
  {
   "cell_type": "code",
   "execution_count": null,
   "id": "efc124e7",
   "metadata": {},
   "outputs": [],
   "source": [
    "read_df.iloc[3164:3184]"
   ]
  },
  {
   "cell_type": "code",
   "execution_count": null,
   "id": "986f0341",
   "metadata": {},
   "outputs": [],
   "source": []
  },
  {
   "cell_type": "code",
   "execution_count": null,
   "id": "09bad97c",
   "metadata": {},
   "outputs": [],
   "source": [
    "#'2021-03-14T01:45:00-04:00'"
   ]
  },
  {
   "cell_type": "code",
   "execution_count": null,
   "id": "d803f11b",
   "metadata": {},
   "outputs": [],
   "source": [
    "read_df = pd.read_csv(os.path.join(Utilities.get_local_data_dir(), r'sample_outages\\outg_rec_nb_11751094\\outg_rec_nb_11751094_2021_q1.csv'))\n",
    "read_df = read_df[read_df['serialnumber']==880687439]\n",
    "read_df = read_df[(read_df['aep_derived_uom']=='KWH') & (read_df['aep_srvc_qlty_idntfr']=='TOTAL')]\n",
    "read_df = read_df[['starttimeperiod', 'endtimeperiod','aep_endtime_utc', 'timezoneoffset']]\n",
    "read_df = read_df.sort_values(by='aep_endtime_utc', ignore_index=True)\n",
    "read_df = convert_timestamp_to_utc_in_df(read_df, 'aep_endtime_utc')"
   ]
  },
  {
   "cell_type": "code",
   "execution_count": null,
   "id": "ef8cf40f",
   "metadata": {},
   "outputs": [],
   "source": [
    "read_df[read_df['starttimeperiod']=='2021-03-14T01:45:00-04:00']"
   ]
  },
  {
   "cell_type": "code",
   "execution_count": null,
   "id": "433a3955",
   "metadata": {},
   "outputs": [],
   "source": [
    "read_df.iloc[6900:6920]"
   ]
  },
  {
   "cell_type": "code",
   "execution_count": null,
   "id": "2b0d42c3",
   "metadata": {},
   "outputs": [],
   "source": [
    "starttimeperiod = '2021-03-14T01:45:00-04:00' # Should really be '2021-03-14T02:45:00-04:00'?\n",
    "endtimeperiod = '2021-03-14T03:00:00-04:00'\n",
    "\n",
    "try_to_find_correct_starttimeperiod(starttimeperiod, endtimeperiod, freq='15T')"
   ]
  },
  {
   "cell_type": "code",
   "execution_count": null,
   "id": "6255e703",
   "metadata": {},
   "outputs": [],
   "source": []
  },
  {
   "cell_type": "code",
   "execution_count": null,
   "id": "03a604c9",
   "metadata": {},
   "outputs": [],
   "source": []
  },
  {
   "cell_type": "code",
   "execution_count": null,
   "id": "fa78cc16",
   "metadata": {
    "scrolled": true
   },
   "outputs": [],
   "source": [
    "tmp_df.loc['2019-11-03 04:00:00':'2019-11-03 12:00:00']"
   ]
  },
  {
   "cell_type": "code",
   "execution_count": null,
   "id": "d4a7fe34",
   "metadata": {},
   "outputs": [],
   "source": [
    "tmp_df[tmp_df['starttimeperiod_utc']>tmp_df['endtimeperiod_utc']]"
   ]
  },
  {
   "cell_type": "code",
   "execution_count": null,
   "id": "764bde6f",
   "metadata": {
    "scrolled": true
   },
   "outputs": [],
   "source": [
    "tmp_df.loc['2019-11-03 05:15:00':'2019-11-03 12:00:00'].sort_values(by='starttimeperiod_utc')"
   ]
  },
  {
   "cell_type": "code",
   "execution_count": null,
   "id": "d670716d",
   "metadata": {},
   "outputs": [],
   "source": []
  },
  {
   "cell_type": "code",
   "execution_count": null,
   "id": "1e03da1c",
   "metadata": {},
   "outputs": [],
   "source": []
  },
  {
   "cell_type": "code",
   "execution_count": null,
   "id": "7e9c241d",
   "metadata": {},
   "outputs": [],
   "source": []
  },
  {
   "cell_type": "code",
   "execution_count": null,
   "id": "b2618153",
   "metadata": {},
   "outputs": [],
   "source": []
  },
  {
   "cell_type": "code",
   "execution_count": null,
   "id": "4eca3533",
   "metadata": {},
   "outputs": [],
   "source": [
    "tmp_df_2=tmp_df.set_index('aep_endtime_utc_from_timestamp', drop=False).sort_index().copy()\n",
    "tmp_df_2.index.name = 'time_idx'"
   ]
  },
  {
   "cell_type": "code",
   "execution_count": null,
   "id": "b62ee880",
   "metadata": {},
   "outputs": [],
   "source": [
    "tmp_df_2['diff'] = tmp_df_2['aep_endtime_utc_from_timestamp'].diff()"
   ]
  },
  {
   "cell_type": "code",
   "execution_count": null,
   "id": "da4a9ffd",
   "metadata": {},
   "outputs": [],
   "source": [
    "all(tmp_df_2.iloc[1:]['diff']==pd.to_timedelta('15T'))"
   ]
  },
  {
   "cell_type": "code",
   "execution_count": null,
   "id": "41b0d868",
   "metadata": {},
   "outputs": [],
   "source": [
    "no_bueno = [(i,x) for i,x in enumerate(tmp_df_2['diff']) if x!=pd.to_timedelta('15T')]"
   ]
  },
  {
   "cell_type": "code",
   "execution_count": null,
   "id": "aa531169",
   "metadata": {},
   "outputs": [],
   "source": [
    "no_bueno"
   ]
  },
  {
   "cell_type": "code",
   "execution_count": null,
   "id": "f9b1acbc",
   "metadata": {
    "scrolled": true
   },
   "outputs": [],
   "source": [
    "tmp_df_2.iloc[53630:53632]"
   ]
  },
  {
   "cell_type": "code",
   "execution_count": null,
   "id": "73b7e22e",
   "metadata": {},
   "outputs": [],
   "source": []
  },
  {
   "cell_type": "code",
   "execution_count": null,
   "id": "3a40145c",
   "metadata": {},
   "outputs": [],
   "source": []
  },
  {
   "cell_type": "markdown",
   "id": "5ad7f219",
   "metadata": {},
   "source": [
    "### Figure out what to do with SQL GROUP BY by working with df_kwh_15T"
   ]
  },
  {
   "cell_type": "code",
   "execution_count": null,
   "id": "8e7ebef5",
   "metadata": {},
   "outputs": [],
   "source": [
    "find_non_quarter_hour_entries(df_cir_kwh_15T_FULL.index)"
   ]
  },
  {
   "cell_type": "code",
   "execution_count": null,
   "id": "73d076b4",
   "metadata": {},
   "outputs": [],
   "source": [
    "df_cir_kwh_15T_FULL.iloc[40374]"
   ]
  },
  {
   "cell_type": "code",
   "execution_count": null,
   "id": "40aa9dcc",
   "metadata": {},
   "outputs": [],
   "source": [
    "df_cir_kwh_15T_FULL[df_cir_kwh_15T_FULL['starttimeperiod_utc']=='2018-11-04 01:45:00']"
   ]
  },
  {
   "cell_type": "code",
   "execution_count": null,
   "id": "44871a0d",
   "metadata": {},
   "outputs": [],
   "source": []
  },
  {
   "cell_type": "code",
   "execution_count": null,
   "id": "cdb987dc",
   "metadata": {},
   "outputs": [],
   "source": [
    "#TODO !!!!!!!!!!!!!!!!!!!!!!!!!!!!!!\n",
    "# DAYLIGHT SAVINGS!\n",
    "# (apparently not) Solved: change to using utc time, which isn't affected by dst\n",
    "df_cir_kwh_15T_FULL[df_cir_kwh_15T_FULL['starttimeperiod_utc']>df_cir_kwh_15T_FULL['endtimeperiod_utc']]"
   ]
  },
  {
   "cell_type": "code",
   "execution_count": null,
   "id": "7599122b",
   "metadata": {},
   "outputs": [],
   "source": [
    "df_cir_kwh_15T_FULL['value_mean_cir'].plot(figsize=(20,10))"
   ]
  },
  {
   "cell_type": "code",
   "execution_count": null,
   "id": "ba66a151",
   "metadata": {},
   "outputs": [],
   "source": [
    "df_cir_kwh_15T_FULL['value_sum_cir'].plot(figsize=(20,10))"
   ]
  },
  {
   "cell_type": "code",
   "execution_count": null,
   "id": "54dcc6a7",
   "metadata": {},
   "outputs": [],
   "source": []
  },
  {
   "cell_type": "code",
   "execution_count": null,
   "id": "4ca9bc38",
   "metadata": {},
   "outputs": [],
   "source": [
    "# df_cir_kwh_15T_FULL"
   ]
  },
  {
   "cell_type": "code",
   "execution_count": null,
   "id": "f53742cc",
   "metadata": {},
   "outputs": [],
   "source": [
    "expand_time = datetime.timedelta(days=3)\n",
    "ax=df_cir_kwh_15T_FULL[out_t_beg-expand_time:out_t_end+expand_time]['value_mean_cir'].plot(figsize=(20,10))\n",
    "ax.axvline(out_t_beg, color='red')\n",
    "ax.axvline(out_t_end, color='lawngreen')"
   ]
  },
  {
   "cell_type": "code",
   "execution_count": null,
   "id": "e004f057",
   "metadata": {},
   "outputs": [],
   "source": [
    "expand_time = datetime.timedelta(days=3)\n",
    "ax=df_cir_kwh_15T[out_t_beg-expand_time:out_t_end+expand_time]['value_mean_cir'].plot(figsize=(20,10))\n",
    "ax.axvline(out_t_beg, color='red')\n",
    "ax.axvline(out_t_end, color='lawngreen')"
   ]
  },
  {
   "cell_type": "code",
   "execution_count": null,
   "id": "7c9eec2e",
   "metadata": {},
   "outputs": [],
   "source": [
    "expand_time = datetime.timedelta(days=3)\n",
    "ax=df_cir_kwh_15T_FULL[df_cir_kwh_15T_FULL['aep_srvc_qlty_idntfr']=='TOTAL'][out_t_beg-expand_time:out_t_end+expand_time]['value_mean_cir'].plot(figsize=(20,10))\n",
    "ax.axvline(out_t_beg, color='red')\n",
    "ax.axvline(out_t_end, color='lawngreen')"
   ]
  },
  {
   "cell_type": "code",
   "execution_count": null,
   "id": "bed4689a",
   "metadata": {},
   "outputs": [],
   "source": [
    "expand_time = datetime.timedelta(days=3)\n",
    "ax=df_cir_kwh_15T_FULL[df_cir_kwh_15T_FULL['aep_srvc_qlty_idntfr']=='DELIVERED'][out_t_beg-expand_time:out_t_end+expand_time]['value_mean_cir'].plot(figsize=(20,10))\n",
    "ax.axvline(out_t_beg, color='red')\n",
    "ax.axvline(out_t_end, color='lawngreen')"
   ]
  },
  {
   "cell_type": "code",
   "execution_count": null,
   "id": "ab28bf15",
   "metadata": {},
   "outputs": [],
   "source": [
    "expand_time = datetime.timedelta(days=3)\n",
    "ax=df_cir_kwh_15T_FULL[df_cir_kwh_15T_FULL['aep_srvc_qlty_idntfr']=='RECEIVED'][out_t_beg-expand_time:out_t_end+expand_time]['value_mean_cir'].plot(figsize=(20,10))\n",
    "ax.axvline(out_t_beg, color='red')\n",
    "ax.axvline(out_t_end, color='lawngreen')"
   ]
  },
  {
   "cell_type": "code",
   "execution_count": null,
   "id": "30215a13",
   "metadata": {},
   "outputs": [],
   "source": []
  },
  {
   "cell_type": "code",
   "execution_count": null,
   "id": "21cb0186",
   "metadata": {},
   "outputs": [],
   "source": [
    "expand_time = datetime.timedelta(days=3)\n",
    "ax=df_cir_kwh_15T_FULL[df_cir_kwh_15T_FULL['aep_srvc_qlty_idntfr']=='TOTAL'][out_t_beg-expand_time:out_t_end+expand_time]['value_mean_cir'].plot(figsize=(20,10), label='TOTAL', color='red')\n",
    "ax=df_cir_kwh_15T_FULL[df_cir_kwh_15T_FULL['aep_srvc_qlty_idntfr']=='DELIVERED'][out_t_beg-expand_time:out_t_end+expand_time]['value_mean_cir'].plot(label='DELIVERED')\n",
    "ax=df_cir_kwh_15T[out_t_beg-expand_time:out_t_end+expand_time]['value_mean_cir'].plot(label='AVG/NET', color='purple')\n",
    "ax.axvline(out_t_beg, color='red')\n",
    "ax.axvline(out_t_end, color='lawngreen')\n",
    "ax.legend()"
   ]
  },
  {
   "cell_type": "code",
   "execution_count": null,
   "id": "bc887064",
   "metadata": {},
   "outputs": [],
   "source": []
  },
  {
   "cell_type": "code",
   "execution_count": null,
   "id": "62362656",
   "metadata": {},
   "outputs": [],
   "source": [
    "expand_time = datetime.timedelta(days=3)\n",
    "fig, ax0 = plt.subplots(1, 1, num=fig_num, figsize=[14, 6])\n",
    "plt.subplots_adjust(hspace=0.3)\n",
    "\n",
    "fig,ax0 = AMINonVee.plot_usage_around_outage(fig, ax0, data=df_cir_kwh_15T, \n",
    "                                  x='starttimeperiod_utc', y='value_mean_cir', hue=None, \n",
    "                                  out_t_beg=out_t_beg, out_t_end=out_t_end, expand_time=expand_time, \n",
    "                                  title_args=dict(label=f'Hourly Average Consumption (kWh) [expand time = {expand_time}]', fontsize=25), \n",
    "                                  draw_outage_limits=True, \n",
    "                                  ylabel_args = dict(ylabel='kWh', fontsize=20, x=0.0, y=0.8, ha='left', va='bottom'), \n",
    "                                  xlabel_args = dict(xlabel='', fontsize=0, x=0.9, y=0.0, ha='right', va='top'), \n",
    "                                   seg_line_freq='D')"
   ]
  },
  {
   "cell_type": "code",
   "execution_count": null,
   "id": "aad7c843",
   "metadata": {},
   "outputs": [],
   "source": [
    "# ax1.figure.legend(bbox_to_anchor=(1,1), loc='upper left')"
   ]
  },
  {
   "cell_type": "code",
   "execution_count": null,
   "id": "bceefbcb",
   "metadata": {},
   "outputs": [],
   "source": [
    "dfs_kwh_dict['H']['df']"
   ]
  },
  {
   "cell_type": "markdown",
   "id": "bbaa2e51",
   "metadata": {},
   "source": [
    "# Correlations"
   ]
  },
  {
   "cell_type": "code",
   "execution_count": null,
   "id": "7f0cf5da",
   "metadata": {},
   "outputs": [],
   "source": [
    "def get_correlation_coeff(df_1, col_1, df_2, col_2):    \n",
    "    common_idxs_kwh = set(df_1.index).intersection(set(df_2.index))\n",
    "    df_1_to_corr = df_1.loc[common_idxs_kwh]\n",
    "    df_2_to_corr = df_2.loc[common_idxs_kwh]\n",
    "    #-----\n",
    "    corr = df_1_to_corr[col_1].corr(df_2_to_corr[col_2])\n",
    "    return corr"
   ]
  },
  {
   "cell_type": "code",
   "execution_count": null,
   "id": "37329e26",
   "metadata": {},
   "outputs": [],
   "source": [
    "# Correlation method 1\n",
    "kwh_corr = get_correlation_coeff(dfs_kwh_dict['MS'][df_agg_key], 'mean_TRS mean_mtrs value', \n",
    "                                 dfs_cir_kwh_dict['MS'][df_key], 'mean_TRS value_mean_cir')\n",
    "vlt_corr = get_correlation_coeff(dfs_vlt_dict['MS'][df_agg_key], 'mean_TRS mean_mtrs value', \n",
    "                                 dfs_cir_vlt_dict['MS'][df_key], 'mean_TRS value_mean_cir')\n",
    "print(f'kwh_corr = {kwh_corr}')\n",
    "print(f'vlt_corr = {vlt_corr}')"
   ]
  },
  {
   "cell_type": "code",
   "execution_count": null,
   "id": "5571f4df",
   "metadata": {},
   "outputs": [],
   "source": [
    "common_idxs_kwh = set(dfs_kwh_dict['D'][df_agg_key].index).intersection(set(dfs_cir_kwh_dict['D'][df_key].index))\n",
    "df_kwh_D_mean_to_corr = dfs_kwh_dict['D'][df_agg_key].loc[common_idxs_kwh]\n",
    "df_cir_kwh_D_to_corr = dfs_cir_kwh_dict['D'][df_key].loc[common_idxs_kwh]"
   ]
  },
  {
   "cell_type": "code",
   "execution_count": null,
   "id": "559fa115",
   "metadata": {},
   "outputs": [],
   "source": [
    "common_idxs_vlt = set(dfs_vlt_dict['D'][df_agg_key].index).intersection(set(dfs_cir_vlt_dict['D'][df_key].index))\n",
    "df_vlt_D_mean_to_corr = dfs_vlt_dict['D'][df_agg_key].loc[common_idxs_vlt]\n",
    "df_cir_vlt_D_to_corr = dfs_cir_vlt_dict['D'][df_key].loc[common_idxs_vlt]"
   ]
  },
  {
   "cell_type": "code",
   "execution_count": null,
   "id": "f8cf29ff",
   "metadata": {},
   "outputs": [],
   "source": []
  },
  {
   "cell_type": "code",
   "execution_count": null,
   "id": "cab635ba",
   "metadata": {},
   "outputs": [],
   "source": [
    "# Correlation method 1\n",
    "kwh_corr = get_correlation_coeff(df_kwh_D_mean_to_corr, 'mean_TRS mean_mtrs value', \n",
    "                                 df_cir_kwh_D_to_corr, 'mean_TRS value_mean_cir')\n",
    "vlt_corr = get_correlation_coeff(df_vlt_D_mean_to_corr, 'mean_TRS mean_mtrs value', \n",
    "                                 df_cir_vlt_D_to_corr, 'mean_TRS value_mean_cir')\n",
    "print(f'kwh_corr = {kwh_corr}')\n",
    "print(f'vlt_corr = {vlt_corr}')"
   ]
  },
  {
   "cell_type": "code",
   "execution_count": null,
   "id": "1420d6a2",
   "metadata": {},
   "outputs": [],
   "source": [
    "# Correlation method 2: kwh\n",
    "# NOTE: For this method, inputs cannot contain NaNs!\n",
    "not_nans_bool_out = df_kwh_D_mean_to_corr['mean_TRS mean_mtrs value'].notna()\n",
    "not_nans_bool_cir = df_cir_kwh_D_to_corr['mean_TRS value_mean_cir'].notna()\n",
    "not_nans_bool = not_nans_bool_out & not_nans_bool_cir\n",
    "\n",
    "Y = df_kwh_D_mean_to_corr.loc[not_nans_bool]['mean_TRS mean_mtrs value']\n",
    "Z = df_cir_kwh_D_to_corr.loc[not_nans_bool]['mean_TRS value_mean_cir']\n",
    "stats.pearsonr(Y,Z)"
   ]
  },
  {
   "cell_type": "code",
   "execution_count": null,
   "id": "da64731a",
   "metadata": {},
   "outputs": [],
   "source": [
    "# Correlation method 2: vlt\n",
    "# NOTE: For this method, inputs cannot contain NaNs!\n",
    "not_nans_bool_out = df_vlt_D_mean_to_corr['mean_TRS mean_mtrs value'].notna()\n",
    "not_nans_bool_cir = df_cir_vlt_D_to_corr['mean_TRS value_mean_cir'].notna()\n",
    "not_nans_bool = not_nans_bool_out & not_nans_bool_cir\n",
    "\n",
    "Y = df_vlt_D_mean_to_corr.loc[not_nans_bool]['mean_TRS mean_mtrs value']\n",
    "Z = df_cir_vlt_D_to_corr.loc[not_nans_bool]['mean_TRS value_mean_cir']\n",
    "stats.pearsonr(Y,Z)"
   ]
  },
  {
   "cell_type": "code",
   "execution_count": null,
   "id": "2c4b5551",
   "metadata": {},
   "outputs": [],
   "source": []
  },
  {
   "cell_type": "code",
   "execution_count": null,
   "id": "87ae41ea",
   "metadata": {},
   "outputs": [],
   "source": [
    "# df_kwh_15T.loc['2020-06-23 18:30:00'].mean()"
   ]
  },
  {
   "cell_type": "code",
   "execution_count": null,
   "id": "91dc961a",
   "metadata": {},
   "outputs": [],
   "source": [
    "# df_kwh_15T_mean.loc['2020-06-23 18:30:00']"
   ]
  },
  {
   "cell_type": "code",
   "execution_count": null,
   "id": "275635d7",
   "metadata": {},
   "outputs": [],
   "source": [
    "df_kwh_15T"
   ]
  },
  {
   "cell_type": "code",
   "execution_count": null,
   "id": "5a617986",
   "metadata": {},
   "outputs": [],
   "source": [
    "dfs_kwh_dict['15T'][df_agg_key]"
   ]
  },
  {
   "cell_type": "code",
   "execution_count": null,
   "id": "da89ad54",
   "metadata": {},
   "outputs": [],
   "source": [
    "expand_time = datetime.timedelta(days=3)\n",
    "fig, (ax0,ax1) = plt.subplots(2, 1, num=fig_num, figsize=[14, 12])\n",
    "plt.subplots_adjust(hspace=0.3)\n",
    "\n",
    "fig,ax0 = AMINonVee.plot_usage_around_outage(fig, ax0, data=dfs_kwh_dict['15T'][df_agg_key], \n",
    "                                  x='endtimeperiod_utc', y='mean_mtrs value', hue=None, \n",
    "                                  out_t_beg=out_t_beg, out_t_end=out_t_end, expand_time=expand_time, data_label='Outage Mean', \n",
    "                                  title_args=dict(label=f'15T Average Consumption (kWh)', fontsize=25), \n",
    "                                  draw_outage_limits=True, \n",
    "                                  ylabel_args = dict(ylabel='kWh', fontsize=20, x=0.0, y=0.8, ha='left', va='bottom'), \n",
    "                                  xlabel_args = dict(xlabel='', fontsize=0, x=0.9, y=0.0, ha='right', va='top'), \n",
    "                                   seg_line_freq='D')\n",
    "\n",
    "fig,ax0 = AMINonVee.plot_usage_around_outage(fig, ax0, data=df_cir_kwh_15T, \n",
    "                                  x='endtimeperiod_utc', y='value_mean_cir', hue=None, \n",
    "                                  out_t_beg=out_t_beg, out_t_end=out_t_end, expand_time=expand_time, data_label='Circuit Mean')\n",
    "\n",
    "kwh_corr = get_correlation_coeff(dfs_kwh_dict['15T'][df_agg_key], 'mean_mtrs value', \n",
    "                                 df_cir_kwh_15T, 'value_mean_cir')\n",
    "plt.text(1.01, 1.01, f'Corr = {kwh_corr}', transform=ax0.transAxes, fontsize=15)\n",
    "\n",
    "\n",
    "fig,ax1 = AMINonVee.plot_usage_around_outage(fig, ax1, data=dfs_vlt_dict['15T'][df_agg_key], \n",
    "                                  x='endtimeperiod_utc', y='mean_mtrs value', hue=None, \n",
    "                                  out_t_beg=out_t_beg, out_t_end=out_t_end, expand_time=expand_time, data_label='Outage Mean', \n",
    "                                  title_args=dict(label=f'15T Average Voltage (V)', fontsize=25), \n",
    "                                  draw_outage_limits=True, \n",
    "                                  ylabel_args = dict(ylabel='Voltage (V)', fontsize=20, x=0.0, y=0.8, ha='left', va='bottom'), \n",
    "                                  xlabel_args = dict(xlabel='Usage Start Time', fontsize=20, x=0.9, y=0.0, ha='right', va='top'), \n",
    "                                   seg_line_freq='D')\n",
    "ax1.set_ylim([225,250])\n",
    "\n",
    "fig,ax1 = AMINonVee.plot_usage_around_outage(fig, ax1, data=df_cir_vlt_15T, \n",
    "                                  x='endtimeperiod_utc', y='value_mean_cir', hue=None, \n",
    "                                  out_t_beg=out_t_beg, out_t_end=out_t_end, expand_time=expand_time, data_label='Circuit Mean')\n",
    "\n",
    "vlt_corr = get_correlation_coeff(dfs_vlt_dict['15T'][df_agg_key], 'mean_mtrs value', \n",
    "                                 df_cir_vlt_15T, 'value_mean_cir')\n",
    "plt.text(1.01, 1.01, f'Corr = {vlt_corr}', transform=ax1.transAxes, fontsize=15)\n",
    "\n",
    "fig_num +=1"
   ]
  },
  {
   "cell_type": "code",
   "execution_count": null,
   "id": "aa53e117",
   "metadata": {},
   "outputs": [],
   "source": [
    "expand_time = datetime.timedelta(days=3)\n",
    "fig, (ax0,ax1) = plt.subplots(2, 1, num=fig_num, figsize=[14, 12])\n",
    "plt.subplots_adjust(hspace=0.3)\n",
    "\n",
    "fig,ax0 = AMINonVee.plot_usage_around_outage(fig, ax0, data=dfs_kwh_dict['H'][df_agg_key], \n",
    "                                  x='endtimeperiod_utc', y='mean_TRS mean_mtrs value', hue=None, \n",
    "                                  out_t_beg=out_t_beg, out_t_end=out_t_end, expand_time=expand_time, data_label='Outage Mean', \n",
    "                                  title_args=dict(label=f'Hourly Average Consumption (kWh)', fontsize=25), \n",
    "                                  draw_outage_limits=True, \n",
    "                                  ylabel_args = dict(ylabel='kWh', fontsize=20, x=0.0, y=0.8, ha='left', va='bottom'), \n",
    "                                  xlabel_args = dict(xlabel='', fontsize=0, x=0.9, y=0.0, ha='right', va='top'), \n",
    "                                   seg_line_freq='D')\n",
    "\n",
    "fig,ax0 = AMINonVee.plot_usage_around_outage(fig, ax0, data=dfs_cir_kwh_dict['H'][df_key], \n",
    "                                  x='date', y='mean_TRS value_mean_cir', hue=None, \n",
    "                                  out_t_beg=out_t_beg, out_t_end=out_t_end, expand_time=expand_time, data_label='Circuit Mean')\n",
    "\n",
    "kwh_corr = get_correlation_coeff(dfs_kwh_dict['H'][df_agg_key], 'mean_TRS mean_mtrs value', \n",
    "                                 dfs_cir_kwh_dict['H'][df_key], 'mean_TRS value_mean_cir')\n",
    "plt.text(1.01, 1.01, f'Corr = {kwh_corr}', transform=ax0.transAxes, fontsize=15)\n",
    "\n",
    "fig,ax1 = AMINonVee.plot_usage_around_outage(fig, ax1, data=dfs_vlt_dict['H'][df_agg_key], \n",
    "                                  x='endtimeperiod_utc', y='mean_TRS mean_mtrs value', hue=None, \n",
    "                                  out_t_beg=out_t_beg, out_t_end=out_t_end, expand_time=expand_time, data_label='Outage Mean', \n",
    "                                  title_args=dict(label=f'Hourly Average Voltage (V)', fontsize=25), \n",
    "                                  draw_outage_limits=True, \n",
    "                                  ylabel_args = dict(ylabel='Voltage (V)', fontsize=20, x=0.0, y=0.8, ha='left', va='bottom'), \n",
    "                                  xlabel_args = dict(xlabel='Usage Start Time', fontsize=20, x=0.9, y=0.0, ha='right', va='top'), \n",
    "                                   seg_line_freq='D')\n",
    "ax1.set_ylim([225,250])\n",
    "\n",
    "fig,ax1 = AMINonVee.plot_usage_around_outage(fig, ax1, data=dfs_cir_vlt_dict['H'][df_key], \n",
    "                                  x='date', y='mean_TRS value_mean_cir', hue=None, \n",
    "                                  out_t_beg=out_t_beg, out_t_end=out_t_end, expand_time=expand_time, data_label='Circuit Mean')\n",
    "\n",
    "vlt_corr = get_correlation_coeff(dfs_vlt_dict['H'][df_agg_key], 'mean_TRS mean_mtrs value', \n",
    "                                 dfs_cir_vlt_dict['H'][df_key], 'mean_TRS value_mean_cir')\n",
    "plt.text(1.01, 1.01, f'Corr = {vlt_corr}', transform=ax1.transAxes, fontsize=15)\n",
    "\n",
    "fig_num +=1"
   ]
  },
  {
   "cell_type": "code",
   "execution_count": null,
   "id": "52901c7f",
   "metadata": {},
   "outputs": [],
   "source": [
    "expand_time = datetime.timedelta(days=31)\n",
    "fig, (ax0,ax1) = plt.subplots(2, 1, num=fig_num, figsize=[14, 12])\n",
    "plt.subplots_adjust(hspace=0.3)\n",
    "\n",
    "fig,ax0 = AMINonVee.plot_usage_around_outage(fig, ax0, data=dfs_kwh_dict['D'][df_agg_key], \n",
    "                                  x='endtimeperiod_utc', y='mean_TRS mean_mtrs value', hue=None, \n",
    "                                  out_t_beg=out_t_beg, out_t_end=out_t_end, expand_time=expand_time, data_label='Outage Mean', \n",
    "                                  title_args=dict(label=f'Daily Average Consumption (kWh)', fontsize=25), \n",
    "                                  draw_outage_limits=True, \n",
    "                                  ylabel_args = dict(ylabel='kWh', fontsize=20, x=0.0, y=0.8, ha='left', va='bottom'), \n",
    "                                  xlabel_args = dict(xlabel='', fontsize=0, x=0.9, y=0.0, ha='right', va='top'), \n",
    "                                   seg_line_freq='7D')\n",
    "\n",
    "fig,ax0 = AMINonVee.plot_usage_around_outage(fig, ax0, data=dfs_cir_kwh_dict['D'][df_key], \n",
    "                                  x='date', y='mean_TRS value_mean_cir', hue=None, \n",
    "                                  out_t_beg=out_t_beg, out_t_end=out_t_end, expand_time=expand_time, data_label='Circuit Mean')\n",
    "\n",
    "kwh_corr = get_correlation_coeff(dfs_kwh_dict['D'][df_agg_key], 'mean_TRS mean_mtrs value', \n",
    "                                 dfs_cir_kwh_dict['D'][df_key], 'mean_TRS value_mean_cir')\n",
    "plt.text(1.01, 1.01, f'Corr = {kwh_corr}', transform=ax0.transAxes, fontsize=15)\n",
    "\n",
    "fig,ax1 = AMINonVee.plot_usage_around_outage(fig, ax1, data=dfs_vlt_dict['D'][df_agg_key], \n",
    "                                  x='endtimeperiod_utc', y='mean_TRS mean_mtrs value', hue=None, \n",
    "                                  out_t_beg=out_t_beg, out_t_end=out_t_end, expand_time=expand_time, data_label='Outage Mean', \n",
    "                                  title_args=dict(label=f'Daily Average Voltage (V)', fontsize=25), \n",
    "                                  draw_outage_limits=True, \n",
    "                                  ylabel_args = dict(ylabel='Voltage (V)', fontsize=20, x=0.0, y=0.8, ha='left', va='bottom'), \n",
    "                                  xlabel_args = dict(xlabel='Usage Start Time', fontsize=20, x=0.9, y=0.0, ha='right', va='top'), \n",
    "                                   seg_line_freq='7D')\n",
    "ax1.set_ylim([225,250])\n",
    "\n",
    "fig,ax1 = AMINonVee.plot_usage_around_outage(fig, ax1, data=dfs_cir_vlt_dict['D'][df_key], \n",
    "                                  x='date', y='mean_TRS value_mean_cir', hue=None, \n",
    "                                  out_t_beg=out_t_beg, out_t_end=out_t_end, expand_time=expand_time, data_label='Circuit Mean')\n",
    "\n",
    "vlt_corr = get_correlation_coeff(dfs_vlt_dict['D'][df_agg_key], 'mean_TRS mean_mtrs value', \n",
    "                                 dfs_cir_vlt_dict['D'][df_key], 'mean_TRS value_mean_cir')\n",
    "plt.text(1.01, 1.01, f'Corr = {vlt_corr}', transform=ax1.transAxes, fontsize=15)\n",
    "\n",
    "fig_num +=1"
   ]
  },
  {
   "cell_type": "markdown",
   "id": "e797eed0",
   "metadata": {},
   "source": [
    "# Divide outage by circuit"
   ]
  },
  {
   "cell_type": "code",
   "execution_count": null,
   "id": "745ff6c1",
   "metadata": {},
   "outputs": [],
   "source": [
    "tmp_kwh_df = dfs_kwh_dict['D'][df_agg_key].copy()\n",
    "tmp_kwh_df['value div. by cir.'] = tmp_kwh_df['mean_TRS mean_mtrs value']/dfs_cir_kwh_dict['D'][df_key]['mean_TRS value_mean_cir']\n",
    "\n",
    "tmp_vlt_df = dfs_vlt_dict['D'][df_agg_key].copy()\n",
    "tmp_vlt_df['value div. by cir.'] = tmp_vlt_df['mean_TRS mean_mtrs value']/dfs_cir_vlt_dict['D'][df_key]['mean_TRS value_mean_cir']"
   ]
  },
  {
   "cell_type": "code",
   "execution_count": null,
   "id": "0b72e102",
   "metadata": {},
   "outputs": [],
   "source": [
    "expand_time = datetime.timedelta(days=31)\n",
    "fig, (ax0,ax1) = plt.subplots(2, 1, num=fig_num, figsize=[14, 12])\n",
    "plt.subplots_adjust(hspace=0.3)\n",
    "\n",
    "fig,ax0 = AMINonVee.plot_usage_around_outage(fig, ax0, data=tmp_kwh_df, \n",
    "                                  x='endtimeperiod_utc', y='value div. by cir.', hue=None, \n",
    "                                  out_t_beg=out_t_beg, out_t_end=out_t_end, expand_time=expand_time, data_label='Outage Mean', \n",
    "                                  title_args=dict(label=f'Daily Average Consumption (kWh)', fontsize=25), \n",
    "                                  draw_outage_limits=True, \n",
    "                                  ylabel_args = dict(ylabel='kWh', fontsize=20, x=0.0, y=0.8, ha='left', va='bottom'), \n",
    "                                  xlabel_args = dict(xlabel='', fontsize=0, x=0.9, y=0.0, ha='right', va='top'), \n",
    "                                   seg_line_freq='7D')\n",
    "\n",
    "fig,ax1 = AMINonVee.plot_usage_around_outage(fig, ax1, data=tmp_vlt_df, \n",
    "                                  x='endtimeperiod_utc', y='value div. by cir.', hue=None, \n",
    "                                  out_t_beg=out_t_beg, out_t_end=out_t_end, expand_time=expand_time, data_label='Outage Mean', \n",
    "                                  title_args=dict(label=f'Daily Average Voltage (V)', fontsize=25), \n",
    "                                  draw_outage_limits=True, \n",
    "                                  ylabel_args = dict(ylabel='Voltage (V)', fontsize=20, x=0.0, y=0.8, ha='left', va='bottom'), \n",
    "                                  xlabel_args = dict(xlabel='Usage Start Time', fontsize=20, x=0.9, y=0.0, ha='right', va='top'), \n",
    "                                   seg_line_freq='7D')\n",
    "\n",
    "fig_num +=1"
   ]
  },
  {
   "cell_type": "code",
   "execution_count": null,
   "id": "c9595c2c",
   "metadata": {},
   "outputs": [],
   "source": []
  },
  {
   "cell_type": "code",
   "execution_count": null,
   "id": "d4276345",
   "metadata": {},
   "outputs": [],
   "source": []
  },
  {
   "cell_type": "code",
   "execution_count": null,
   "id": "51c3b502",
   "metadata": {},
   "outputs": [],
   "source": [
    "expand_time = datetime.timedelta(days=12*31)\n",
    "fig, (ax0,ax1) = plt.subplots(2, 1, num=fig_num, figsize=[14, 12])\n",
    "plt.subplots_adjust(hspace=0.3)\n",
    "\n",
    "fig,ax0 = AMINonVee.plot_usage_around_outage(fig, ax0, data=dfs_kwh_dict['MS'][df_agg_key], \n",
    "                                  x='endtimeperiod_utc', y='mean_TRS mean_mtrs value', hue=None, \n",
    "                                  out_t_beg=out_t_beg, out_t_end=out_t_end, expand_time=expand_time, \n",
    "                                  title_args=dict(label=f'Monthly Average Consumption (kWh)', fontsize=25), \n",
    "                                  draw_outage_limits=True, \n",
    "                                  ylabel_args = dict(ylabel='kWh', fontsize=20, x=0.0, y=0.8, ha='left', va='bottom'), \n",
    "                                  xlabel_args = dict(xlabel='', fontsize=0, x=0.9, y=0.0, ha='right', va='top'), \n",
    "                                   seg_line_freq='31D')\n",
    "\n",
    "fig,ax0 = AMINonVee.plot_usage_around_outage(fig, ax0, data=dfs_cir_kwh_dict['MS'][df_key], \n",
    "                                  x='date', y='mean_TRS value_mean_cir', hue=None, \n",
    "                                  out_t_beg=out_t_beg, out_t_end=out_t_end, expand_time=expand_time)\n",
    "\n",
    "kwh_corr = get_correlation_coeff(dfs_kwh_dict['MS'][df_agg_key], 'mean_TRS mean_mtrs value', \n",
    "                                 dfs_cir_kwh_dict['MS'][df_key], 'mean_TRS value_mean_cir')\n",
    "plt.text(1.01, 1.01, f'Corr = {kwh_corr}', transform=ax0.transAxes, fontsize=15)\n",
    "\n",
    "fig,ax1 = AMINonVee.plot_usage_around_outage(fig, ax1, data=dfs_vlt_dict['MS'][df_agg_key], \n",
    "                                  x='endtimeperiod_utc', y='mean_TRS mean_mtrs value', hue=None, \n",
    "                                  out_t_beg=out_t_beg, out_t_end=out_t_end, expand_time=expand_time, \n",
    "                                  title_args=dict(label=f'Monthly Average Voltage (V)', fontsize=25), \n",
    "                                  draw_outage_limits=True, \n",
    "                                  ylabel_args = dict(ylabel='Voltage (V)', fontsize=20, x=0.0, y=0.8, ha='left', va='bottom'), \n",
    "                                  xlabel_args = dict(xlabel='Usage Start Time', fontsize=20, x=0.9, y=0.0, ha='right', va='top'), \n",
    "                                   seg_line_freq='31D')\n",
    "ax1.set_ylim([225,250])\n",
    "vlt_corr = get_correlation_coeff(dfs_vlt_dict['MS'][df_agg_key], 'mean_TRS mean_mtrs value', \n",
    "                                 dfs_cir_vlt_dict['MS'][df_key], 'mean_TRS value_mean_cir')\n",
    "plt.text(1.01, 1.01, f'Corr = {vlt_corr}', transform=ax1.transAxes, fontsize=15)\n",
    "\n",
    "fig,ax1 = AMINonVee.plot_usage_around_outage(fig, ax1, data=dfs_cir_vlt_dict['MS'][df_key], \n",
    "                                  x='date', y='mean_TRS value_mean_cir', hue=None, \n",
    "                                  out_t_beg=out_t_beg, out_t_end=out_t_end, expand_time=expand_time)\n",
    "\n",
    "fig_num +=1"
   ]
  },
  {
   "cell_type": "code",
   "execution_count": null,
   "id": "764361f8",
   "metadata": {},
   "outputs": [],
   "source": [
    "# dfs_cir_kwh_dict['D'][df_key].index==dfs_kwh_dict['D'][df_agg_key].index"
   ]
  },
  {
   "cell_type": "code",
   "execution_count": null,
   "id": "af9cfe1f",
   "metadata": {},
   "outputs": [],
   "source": []
  },
  {
   "cell_type": "code",
   "execution_count": null,
   "id": "53c2e1f2",
   "metadata": {},
   "outputs": [],
   "source": []
  },
  {
   "cell_type": "markdown",
   "id": "c9ca9c0e",
   "metadata": {},
   "source": [
    "## Plots around outage"
   ]
  },
  {
   "cell_type": "code",
   "execution_count": null,
   "id": "cf314c62",
   "metadata": {},
   "outputs": [],
   "source": [
    "expand_time = datetime.timedelta(days=3)\n",
    "fig, (ax0,ax1) = plt.subplots(2, 1, num=fig_num, figsize=[14, 12])\n",
    "plt.subplots_adjust(hspace=0.3)\n",
    "\n",
    "fig,ax0 = AMINonVee.plot_usage_around_outage(fig, ax0, data=dfs_kwh_dict['H'][df_agg_key], \n",
    "                                  x='endtimeperiod_utc', y='mean_TRS mean_mtrs value', hue=None, \n",
    "                                  out_t_beg=out_t_beg, out_t_end=out_t_end, expand_time=expand_time, \n",
    "                                  title_args=dict(label=f'Hourly Average Consumption (kWh) [expand time = {expand_time}]', fontsize=25), \n",
    "                                  draw_outage_limits=True, \n",
    "                                  ylabel_args = dict(ylabel='kWh', fontsize=20, x=0.0, y=0.8, ha='left', va='bottom'), \n",
    "                                  xlabel_args = dict(xlabel='', fontsize=0, x=0.9, y=0.0, ha='right', va='top'), \n",
    "                                   seg_line_freq='D')\n",
    "\n",
    "fig,ax1 = AMINonVee.plot_usage_around_outage(fig, ax1, data=dfs_vlt_dict['H'][df_agg_key], \n",
    "                                  x='endtimeperiod_utc', y='mean_TRS mean_mtrs value', hue=None, \n",
    "                                  out_t_beg=out_t_beg, out_t_end=out_t_end, expand_time=expand_time, \n",
    "                                  title_args=dict(label=f'Hourly Average Voltage (V) [expand time = {expand_time}]', fontsize=25), \n",
    "                                  draw_outage_limits=True, \n",
    "                                  ylabel_args = dict(ylabel='Voltage (V)', fontsize=20, x=0.0, y=0.8, ha='left', va='bottom'), \n",
    "                                  xlabel_args = dict(xlabel='Usage Start Time', fontsize=20, x=0.9, y=0.0, ha='right', va='top'), \n",
    "                                   seg_line_freq='D')\n",
    "ax1.set_ylim([225,250])\n",
    "fig_num +=1"
   ]
  },
  {
   "cell_type": "code",
   "execution_count": null,
   "id": "7488f3b0",
   "metadata": {},
   "outputs": [],
   "source": []
  },
  {
   "cell_type": "code",
   "execution_count": null,
   "id": "ae4624cd",
   "metadata": {},
   "outputs": [],
   "source": []
  },
  {
   "cell_type": "code",
   "execution_count": null,
   "id": "90efbc5e",
   "metadata": {},
   "outputs": [],
   "source": [
    "value_col = 'mean_TRS mean_mtrs value'\n",
    "\n",
    "expand_time = datetime.timedelta(days=3)\n",
    "fig, ax1 = plt.subplots(1, 1, num=fig_num, figsize=[14, 12])\n",
    "dfs_kwh_dict['H'][df_agg_key][out_t_beg-expand_time:out_t_end+expand_time].plot(x='endtimeperiod_utc', y=value_col, ax=ax1, color='blue', label='Power', legend=False)\n",
    "# kwh_mean = dfs_kwh_dict['H'][df_agg_key][out_t_beg-expand_time:out_t_end+expand_time]['value'].mean()\n",
    "# kwh_std = dfs_kwh_dict['H'][df_agg_key][out_t_beg-expand_time:out_t_end+expand_time]['value'].std()\n",
    "# ax1.set_ylim([0,kwh_mean+2*kwh_std])\n",
    "\n",
    "ax2 = ax1.twinx()\n",
    "dfs_vlt_dict['H'][df_agg_key][out_t_beg-expand_time:out_t_end+expand_time].plot(x='endtimeperiod_utc', y=value_col, ax=ax2, color='red', label='Voltage', legend=False)\n",
    "vlt_mean = dfs_vlt_dict['H'][df_agg_key][out_t_beg-expand_time:out_t_end+expand_time][value_col].mean()\n",
    "vlt_std = dfs_vlt_dict['H'][df_agg_key][out_t_beg-expand_time:out_t_end+expand_time][value_col].std()\n",
    "ax2.set_ylim([vlt_mean-vlt_std,vlt_mean+vlt_std])\n",
    "ax1.figure.legend(bbox_to_anchor=(1,1), loc='upper left')\n"
   ]
  },
  {
   "cell_type": "code",
   "execution_count": null,
   "id": "d86ce8ac",
   "metadata": {},
   "outputs": [],
   "source": [
    "save_figs=False\n",
    "expand_time = datetime.timedelta(days=3)\n",
    "fig, (ax0,ax1) = plt.subplots(2, 1, num=fig_num, figsize=[14, 12])\n",
    "subplots_adjust_args = {'left':0.075, 'right':0.975, \n",
    "                        'bottom':0.075, 'top':0.95, \n",
    "                        'wspace':0.2, 'hspace':0.35}\n",
    "plt.subplots_adjust(**subplots_adjust_args)\n",
    "\n",
    "fig,ax0 = AMINonVee.plot_usage_around_outage(fig, ax0, data=dfs_kwh_dict['H'][df_key], \n",
    "                                  x='date', y='mean_TRS value', hue='serialnumber', \n",
    "                                  out_t_beg=out_t_beg, out_t_end=out_t_end, expand_time=expand_time, \n",
    "                                  title_args=dict(label=f'Hourly Consumption (kWh) [expand time = {expand_time}]', fontsize=25), \n",
    "                                  df_mean=dfs_kwh_dict['H'][df_agg_key], df_mean_col='mean_TRS mean_mtrs value', mean_args=None, \n",
    "                                  draw_outage_limits=True, \n",
    "                                  ylabel_args = dict(ylabel='kWh', fontsize=20, x=0.0, y=0.8, ha='left', va='bottom'), \n",
    "                                  xlabel_args = dict(xlabel='', fontsize=0, x=0.9, y=0.0, ha='right', va='top'), \n",
    "                                  draw_without_hue_also=True, seg_line_freq='D')\n",
    "\n",
    "fig,ax1 = AMINonVee.plot_usage_around_outage(fig, ax1, data=dfs_vlt_dict['H'][df_key], \n",
    "                                  x='date', y='mean_TRS value', hue='serialnumber', \n",
    "                                  out_t_beg=out_t_beg, out_t_end=out_t_end, expand_time=expand_time, \n",
    "                                  title_args=dict(label=f'Hourly Voltage (V) [expand time = {expand_time}]', fontsize=25), \n",
    "                                  df_mean=dfs_vlt_dict['H'][df_agg_key], df_mean_col='mean_TRS mean_mtrs value', mean_args=None, \n",
    "                                  draw_outage_limits=True, \n",
    "                                  ylabel_args = dict(ylabel='Voltage (V)', fontsize=20, x=0.0, y=0.8, ha='left', va='bottom'), \n",
    "                                  xlabel_args = dict(xlabel='Usage Start Time', fontsize=20, x=0.9, y=0.0, ha='right', va='top'), \n",
    "                                  draw_without_hue_also=True, seg_line_freq='D')\n",
    "ax1.set_ylim([225,250])\n",
    "#----------------------------------------\n",
    "if save_figs:\n",
    "    save_dir = r'C:\\Users\\s346557\\Documents\\Presentations\\GroupMeetings\\20220120\\Figures\\SampleUsage'\n",
    "    save_name = 'hourly_consumption_and_voltage.png'\n",
    "    fig.savefig(os.path.join(save_dir, save_name))\n",
    "#----------------------------------------    \n",
    "fig_num +=1"
   ]
  },
  {
   "cell_type": "code",
   "execution_count": null,
   "id": "5dffd702",
   "metadata": {},
   "outputs": [],
   "source": []
  },
  {
   "cell_type": "code",
   "execution_count": null,
   "id": "ed8b8b16",
   "metadata": {},
   "outputs": [],
   "source": []
  },
  {
   "cell_type": "markdown",
   "id": "cd0a908c",
   "metadata": {},
   "source": [
    "## Plots around no-outage center"
   ]
  },
  {
   "cell_type": "code",
   "execution_count": null,
   "id": "507f83df",
   "metadata": {},
   "outputs": [],
   "source": []
  },
  {
   "cell_type": "code",
   "execution_count": null,
   "id": "5c1bc713",
   "metadata": {},
   "outputs": [],
   "source": [
    "expand_time = datetime.timedelta(days=3)\n",
    "fig, (ax0,ax1) = plt.subplots(2, 1, num=fig_num, figsize=[14, 12])\n",
    "plt.subplots_adjust(hspace=0.3)\n",
    "\n",
    "fig,ax0 = AMINonVee.plot_usage_around_outage(fig, ax0, data=dfs_kwh_dict['H'][df_agg_key], \n",
    "                                  x='endtimeperiod_utc', y='mean_TRS mean_mtrs value', hue=None, \n",
    "                                  out_t_beg=no_outage_center, out_t_end=no_outage_center, expand_time=expand_time, \n",
    "                                  title_args=dict(label=f'Hourly Average Consumption (kWh) [expand time = {expand_time}]', fontsize=25), \n",
    "                                  draw_outage_limits=False, \n",
    "                                  ylabel_args = dict(ylabel='kWh', fontsize=20, x=0.0, y=0.8, ha='left', va='bottom'), \n",
    "                                  xlabel_args = dict(xlabel='', fontsize=0, x=0.9, y=0.0, ha='right', va='top'))\n",
    "\n",
    "fig,ax1 = AMINonVee.plot_usage_around_outage(fig, ax1, data=dfs_vlt_dict['H'][df_agg_key], \n",
    "                                  x='endtimeperiod_utc', y='mean_TRS mean_mtrs value', hue=None, \n",
    "                                  out_t_beg=no_outage_center, out_t_end=no_outage_center, expand_time=expand_time, \n",
    "                                  title_args=dict(label=f'Hourly Average Voltage (V) [expand time = {expand_time}]', fontsize=25), \n",
    "                                  draw_outage_limits=False, \n",
    "                                  ylabel_args = dict(ylabel='Voltage (V)', fontsize=20, x=0.0, y=0.8, ha='left', va='bottom'), \n",
    "                                  xlabel_args = dict(xlabel='Usage Start Time', fontsize=20, x=0.9, y=0.0, ha='right', va='top'))\n",
    "fig_num +=1"
   ]
  },
  {
   "cell_type": "code",
   "execution_count": null,
   "id": "68bc6e66",
   "metadata": {},
   "outputs": [],
   "source": []
  },
  {
   "cell_type": "markdown",
   "id": "806c8b4c",
   "metadata": {},
   "source": [
    "# -------------------------------------------------------------------\n",
    "# MODELING AND PREDICTING/FORECASTING\n",
    "# -------------------------------------------------------------------"
   ]
  },
  {
   "cell_type": "code",
   "execution_count": null,
   "id": "a66a99d8",
   "metadata": {},
   "outputs": [],
   "source": []
  },
  {
   "cell_type": "code",
   "execution_count": null,
   "id": "cb31442e",
   "metadata": {},
   "outputs": [],
   "source": [
    "expand_time = datetime.timedelta(days=21)\n",
    "value_col = 'mean_TRS mean_mtrs value'"
   ]
  },
  {
   "cell_type": "code",
   "execution_count": null,
   "id": "7014fbe1",
   "metadata": {},
   "outputs": [],
   "source": [
    "df_kwh_H_mean_cpy = dfs_kwh_dict['H'][df_agg_key].copy()\n",
    "df_kwh_H_mean_cpy['returns'] = df_kwh_H_mean_cpy[value_col].pct_change(1)*100\n",
    "df_kwh_H_mean_cpy['sq_returns'] = df_kwh_H_mean_cpy['returns'].mul(df_kwh_H_mean_cpy['returns'])\n",
    "#-----\n",
    "df_kwh_no_outage = df_kwh_H_mean_cpy.loc[no_outage_center-expand_time:no_outage_center+expand_time][[value_col, 'returns', 'sq_returns']].copy()\n",
    "df_kwh_outage = df_kwh_H_mean_cpy.loc[out_t_beg-expand_time:out_t_end+expand_time][[value_col, 'returns', 'sq_returns']].copy()"
   ]
  },
  {
   "cell_type": "code",
   "execution_count": null,
   "id": "32bb49cd",
   "metadata": {},
   "outputs": [],
   "source": [
    "df_vlt_H_mean_cpy = dfs_vlt_dict['H'][df_agg_key].copy()\n",
    "df_vlt_H_mean_cpy['returns'] = df_vlt_H_mean_cpy[value_col].pct_change(1)*100\n",
    "df_vlt_H_mean_cpy['sq_returns'] = df_vlt_H_mean_cpy['returns'].mul(df_vlt_H_mean_cpy['returns'])\n",
    "#-----\n",
    "df_vlt_no_outage = df_vlt_H_mean_cpy.loc[no_outage_center-expand_time:no_outage_center+expand_time][[value_col, 'returns', 'sq_returns']].copy()\n",
    "df_vlt_outage = df_vlt_H_mean_cpy.loc[out_t_beg-expand_time:out_t_end+expand_time][[value_col, 'returns', 'sq_returns']].copy()"
   ]
  },
  {
   "cell_type": "code",
   "execution_count": null,
   "id": "700d1d2e",
   "metadata": {},
   "outputs": [],
   "source": []
  },
  {
   "cell_type": "code",
   "execution_count": null,
   "id": "e8063c70",
   "metadata": {},
   "outputs": [],
   "source": []
  },
  {
   "cell_type": "code",
   "execution_count": null,
   "id": "7596bfc8",
   "metadata": {},
   "outputs": [],
   "source": []
  },
  {
   "cell_type": "code",
   "execution_count": null,
   "id": "cc90d2e7",
   "metadata": {},
   "outputs": [],
   "source": []
  },
  {
   "cell_type": "code",
   "execution_count": null,
   "id": "60d2bffb",
   "metadata": {},
   "outputs": [],
   "source": [
    "df_kwh_no_outage[value_col].plot(figsize=(12,5))"
   ]
  },
  {
   "cell_type": "code",
   "execution_count": null,
   "id": "18fe72f8",
   "metadata": {},
   "outputs": [],
   "source": [
    "df_vlt_no_outage[value_col].plot(figsize=(12,5))"
   ]
  },
  {
   "cell_type": "code",
   "execution_count": null,
   "id": "401aa133",
   "metadata": {},
   "outputs": [],
   "source": [
    "df_kwh_no_outage['sq_returns'].plot(figsize=(12,5))"
   ]
  },
  {
   "cell_type": "code",
   "execution_count": null,
   "id": "fbe437b8",
   "metadata": {},
   "outputs": [],
   "source": [
    "df_vlt_no_outage['sq_returns'].plot(figsize=(12,5))"
   ]
  },
  {
   "cell_type": "code",
   "execution_count": null,
   "id": "567bd742",
   "metadata": {},
   "outputs": [],
   "source": []
  },
  {
   "cell_type": "code",
   "execution_count": null,
   "id": "2c1e95ea",
   "metadata": {},
   "outputs": [],
   "source": [
    "dft.adf_test(df_kwh_no_outage[value_col])"
   ]
  },
  {
   "cell_type": "code",
   "execution_count": null,
   "id": "88b9f72d",
   "metadata": {},
   "outputs": [],
   "source": [
    "dft.adf_test(df_vlt_no_outage[value_col])"
   ]
  },
  {
   "cell_type": "code",
   "execution_count": null,
   "id": "fe985f53",
   "metadata": {},
   "outputs": [],
   "source": [
    "run_auto_arima = False\n",
    "if run_auto_arima:\n",
    "    model_kwh_auto = auto_arima(df_kwh_no_outage[value_col], seasonal=True, m=24)\n",
    "    print(model_kwh_auto.summary())\n",
    "    pred_kwh = model_kwh_auto.predict(n_periods=48)\n",
    "    dft.adf_test(pd.DataFrame(model_kwh_auto.resid()))\n",
    "    plot_acf(pd.DataFrame(model_kwh_auto.resid()));\n",
    "    plot_pacf(pd.DataFrame(model_kwh_auto.resid()));\n",
    "    \n",
    "    model_vlt_auto = auto_arima(df_vlt_no_outage[value_col], seasonal=True, m=24)\n",
    "    print(model_vlt_auto.summary())\n",
    "    pred_vlt = model_vlt_auto.predict(n_periods=48)"
   ]
  },
  {
   "cell_type": "code",
   "execution_count": null,
   "id": "7f4ef1e9",
   "metadata": {},
   "outputs": [],
   "source": []
  },
  {
   "cell_type": "code",
   "execution_count": null,
   "id": "594a6e56",
   "metadata": {},
   "outputs": [],
   "source": []
  },
  {
   "cell_type": "code",
   "execution_count": null,
   "id": "65d6a9ae",
   "metadata": {},
   "outputs": [],
   "source": []
  },
  {
   "cell_type": "code",
   "execution_count": null,
   "id": "9d0f0c41",
   "metadata": {},
   "outputs": [],
   "source": []
  },
  {
   "cell_type": "code",
   "execution_count": null,
   "id": "b4f3bf7f",
   "metadata": {},
   "outputs": [],
   "source": []
  },
  {
   "cell_type": "code",
   "execution_count": null,
   "id": "a725bb4e",
   "metadata": {},
   "outputs": [],
   "source": []
  },
  {
   "cell_type": "code",
   "execution_count": null,
   "id": "d8dc03aa",
   "metadata": {},
   "outputs": [],
   "source": []
  },
  {
   "cell_type": "code",
   "execution_count": null,
   "id": "3c2e6a52",
   "metadata": {},
   "outputs": [],
   "source": []
  },
  {
   "cell_type": "code",
   "execution_count": null,
   "id": "93e85d92",
   "metadata": {},
   "outputs": [],
   "source": []
  },
  {
   "cell_type": "code",
   "execution_count": null,
   "id": "0641c204",
   "metadata": {},
   "outputs": [],
   "source": []
  },
  {
   "cell_type": "code",
   "execution_count": null,
   "id": "d1488a1d",
   "metadata": {},
   "outputs": [],
   "source": []
  },
  {
   "cell_type": "code",
   "execution_count": null,
   "id": "78e155ba",
   "metadata": {},
   "outputs": [],
   "source": []
  },
  {
   "cell_type": "code",
   "execution_count": null,
   "id": "4856786d",
   "metadata": {},
   "outputs": [],
   "source": [
    "df_kwh_no_outage['returns'].plot(figsize=(12,6))"
   ]
  },
  {
   "cell_type": "code",
   "execution_count": null,
   "id": "fd14b779",
   "metadata": {},
   "outputs": [],
   "source": [
    "df_vlt_no_outage['returns'].plot(figsize=(12,6))"
   ]
  },
  {
   "cell_type": "code",
   "execution_count": null,
   "id": "11f01272",
   "metadata": {},
   "outputs": [],
   "source": [
    "plot_pacf(df_kwh_no_outage['returns']);"
   ]
  },
  {
   "cell_type": "code",
   "execution_count": null,
   "id": "771f2a36",
   "metadata": {},
   "outputs": [],
   "source": [
    "plot_pacf(df_kwh_no_outage['sq_returns']);"
   ]
  },
  {
   "cell_type": "code",
   "execution_count": null,
   "id": "6b38df4e",
   "metadata": {},
   "outputs": [],
   "source": [
    "plot_pacf(df_vlt_no_outage['returns']);"
   ]
  },
  {
   "cell_type": "code",
   "execution_count": null,
   "id": "bb4e4922",
   "metadata": {},
   "outputs": [],
   "source": [
    "plot_pacf(df_vlt_no_outage['sq_returns']);"
   ]
  },
  {
   "cell_type": "code",
   "execution_count": null,
   "id": "bf0d9bca",
   "metadata": {},
   "outputs": [],
   "source": [
    "split_pct = 0.80\n",
    "split_date = df_vlt_no_outage.index[round(split_pct*len(df_vlt_no_outage))]"
   ]
  },
  {
   "cell_type": "code",
   "execution_count": null,
   "id": "28c8d0f4",
   "metadata": {},
   "outputs": [],
   "source": [
    "model_arch_1 = arch_model(df_vlt_no_outage['returns'], mean='Constant', vol='ARCH', p=1)\n",
    "results_arch_1 = model_arch_1.fit(last_obs = split_date)\n",
    "results_arch_1.summary()"
   ]
  },
  {
   "cell_type": "code",
   "execution_count": null,
   "id": "cb0b5598",
   "metadata": {},
   "outputs": [],
   "source": [
    "pred_arch_1 = results_arch_1.forecast(horizon=1, align='target')"
   ]
  },
  {
   "cell_type": "code",
   "execution_count": null,
   "id": "59d40858",
   "metadata": {},
   "outputs": [],
   "source": [
    "pred_arch_1.residual_variance[split_date:].plot(figsize=(12,5), color='red', zorder=2)\n",
    "df_vlt_no_outage[split_date:]['returns'].abs().plot(color='blue', zorder=1)"
   ]
  },
  {
   "cell_type": "code",
   "execution_count": null,
   "id": "06585329",
   "metadata": {},
   "outputs": [],
   "source": []
  },
  {
   "cell_type": "code",
   "execution_count": null,
   "id": "98bdc740",
   "metadata": {},
   "outputs": [],
   "source": []
  },
  {
   "cell_type": "code",
   "execution_count": null,
   "id": "b022822f",
   "metadata": {},
   "outputs": [],
   "source": [
    "model_garch_1_1 = arch_model(df_vlt_no_outage['returns'], mean='Constant', vol='GARCH', p=1, q=1)\n",
    "results_garch_1_1 = model_garch_1_1.fit(last_obs = split_date)\n",
    "results_garch_1_1.summary()"
   ]
  },
  {
   "cell_type": "code",
   "execution_count": null,
   "id": "2723cd14",
   "metadata": {},
   "outputs": [],
   "source": []
  },
  {
   "cell_type": "code",
   "execution_count": null,
   "id": "936011b8",
   "metadata": {},
   "outputs": [],
   "source": []
  },
  {
   "cell_type": "code",
   "execution_count": null,
   "id": "769241bb",
   "metadata": {},
   "outputs": [],
   "source": []
  },
  {
   "cell_type": "code",
   "execution_count": null,
   "id": "bc562649",
   "metadata": {},
   "outputs": [],
   "source": []
  },
  {
   "cell_type": "code",
   "execution_count": null,
   "id": "65e29ac3",
   "metadata": {},
   "outputs": [],
   "source": []
  },
  {
   "cell_type": "code",
   "execution_count": null,
   "id": "84b49148",
   "metadata": {},
   "outputs": [],
   "source": [
    "dfs_kwh_dict['15T'][df_agg_key]"
   ]
  },
  {
   "cell_type": "code",
   "execution_count": null,
   "id": "0325cb37",
   "metadata": {},
   "outputs": [],
   "source": [
    "value_col = 'mean_mtrs value'\n",
    "df_kwh_15T_mean_cpy = dfs_kwh_dict['15T'][df_agg_key].copy()\n",
    "df_kwh_15T_mean_cpy['returns'] = df_kwh_15T_mean_cpy[value_col].pct_change(1)*100\n",
    "df_kwh_15T_mean_cpy['sq_returns'] = df_kwh_15T_mean_cpy['returns'].mul(df_kwh_15T_mean_cpy['returns'])\n",
    "#-----\n",
    "df_kwh_15T_mean_no_outage = df_kwh_15T_mean_cpy.loc[no_outage_center-expand_time:no_outage_center+expand_time][[value_col, 'returns', 'sq_returns']].copy()\n",
    "df_kwh_15T_mean_outage = df_kwh_15T_mean_cpy.loc[out_t_beg-expand_time:out_t_end+expand_time][[value_col, 'returns', 'sq_returns']].copy()"
   ]
  },
  {
   "cell_type": "code",
   "execution_count": null,
   "id": "bbe16a85",
   "metadata": {},
   "outputs": [],
   "source": [
    "df_kwh_15T_cpy = df_kwh_15T.copy()\n",
    "df_kwh_15T_cpy['returns'] = None\n",
    "df_kwh_15T_cpy['returns'] = df_kwh_15T_cpy.groupby('serialnumber')['value'].pct_change(1)*100\n",
    "df_kwh_15T_cpy['sq_returns'] = df_kwh_15T_cpy['returns'].mul(df_kwh_15T_cpy['returns'])\n",
    "#-----\n",
    "df_kwh_15T_no_outage = df_kwh_15T_cpy.loc[no_outage_center-expand_time:no_outage_center+expand_time].copy()\n",
    "df_kwh_15T_outage = df_kwh_15T_cpy.loc[out_t_beg-expand_time:out_t_end+expand_time].copy()"
   ]
  },
  {
   "cell_type": "code",
   "execution_count": null,
   "id": "f5dc93e5",
   "metadata": {},
   "outputs": [],
   "source": []
  },
  {
   "cell_type": "code",
   "execution_count": null,
   "id": "810b9336",
   "metadata": {},
   "outputs": [],
   "source": []
  },
  {
   "cell_type": "code",
   "execution_count": null,
   "id": "4a2b8a3a",
   "metadata": {},
   "outputs": [],
   "source": []
  },
  {
   "cell_type": "code",
   "execution_count": null,
   "id": "f66621eb",
   "metadata": {},
   "outputs": [],
   "source": [
    "df_kwh_15T_mean_no_outage['sq_returns'].plot(figsize=(20,5))\n",
    "plt.title(\"15T Mean Volatility - No Outage\", size = 24)"
   ]
  },
  {
   "cell_type": "code",
   "execution_count": null,
   "id": "877984f9",
   "metadata": {},
   "outputs": [],
   "source": []
  },
  {
   "cell_type": "code",
   "execution_count": null,
   "id": "0a5f2e9a",
   "metadata": {},
   "outputs": [],
   "source": [
    "out_t_beg"
   ]
  },
  {
   "cell_type": "code",
   "execution_count": null,
   "id": "39c23b19",
   "metadata": {},
   "outputs": [],
   "source": [
    "df_kwh_15T_mean_outage['2020-06-15 00:00:00':'2020-06-21 14:52:00']['sq_returns'].plot(figsize=(20,5))\n",
    "plt.title(\"15T Mean Volatility - Outage (BEFORE)\", size = 24)"
   ]
  },
  {
   "cell_type": "code",
   "execution_count": null,
   "id": "0f210c3b",
   "metadata": {},
   "outputs": [],
   "source": [
    "df_kwh_15T_mean_outage[:out_t_beg]['sq_returns'].plot(figsize=(20,5))\n",
    "plt.title(\"15T Mean Volatility - Outage (BEFORE)\", size = 24)"
   ]
  },
  {
   "cell_type": "code",
   "execution_count": null,
   "id": "a864a02c",
   "metadata": {},
   "outputs": [],
   "source": [
    "df_kwh_15T_mean_outage['2020-06-21 16:52:00':'2020-06-28 00:00:00']['sq_returns'].plot(figsize=(20,5))\n",
    "plt.title(\"15T Mean Volatility - Outage (AFTER)\", size = 24)"
   ]
  },
  {
   "cell_type": "code",
   "execution_count": null,
   "id": "1df034c3",
   "metadata": {},
   "outputs": [],
   "source": [
    "out_t_end"
   ]
  },
  {
   "cell_type": "code",
   "execution_count": null,
   "id": "88a96f49",
   "metadata": {},
   "outputs": [],
   "source": [
    "ax=df_kwh_15T_mean_outage[out_t_end:]['sq_returns'].plot(figsize=(20,5))\n",
    "plt.title(\"15T Mean Volatility - Outage (AFTER)\", size = 24)\n",
    "#ax.set_ylim([0, 70000])\n",
    "ax.set_ylim([0, 7500])"
   ]
  },
  {
   "cell_type": "code",
   "execution_count": null,
   "id": "ad5de714",
   "metadata": {},
   "outputs": [],
   "source": [
    "df_kwh_15T_mean_outage['sq_returns'].mean()"
   ]
  },
  {
   "cell_type": "code",
   "execution_count": null,
   "id": "ca9ff6ea",
   "metadata": {},
   "outputs": [],
   "source": [
    "ax=df_kwh_15T_mean_outage['2020-06-15 00:00:00':'2020-06-28 00:00:00']['sq_returns'].plot(figsize=(20,5))\n",
    "plt.title(\"15T Mean Volatility - Outage\", size = 24)\n",
    "#ax.set_ylim([0, 70000])\n",
    "ax.set_ylim([0, 7500])\n",
    "ax.axvline(out_t_beg, color='red')\n",
    "ax.axvline(out_t_end, color='lawngreen')"
   ]
  },
  {
   "cell_type": "code",
   "execution_count": null,
   "id": "79ce276d",
   "metadata": {},
   "outputs": [],
   "source": [
    "fig, ax0 = plt.subplots(1, 1, num=fig_num, figsize=[20, 5])\n",
    "plt.subplots_adjust(hspace=0.3)\n",
    "fig,ax0 = AMINonVee.plot_usage_around_outage(fig, ax0, data=df_kwh_15T_no_outage, \n",
    "                                  x='endtimeperiod_utc', y='sq_returns', hue='serialnumber', \n",
    "                                  out_t_beg=no_outage_center, out_t_end=no_outage_center, expand_time=expand_time, \n",
    "                                  title_args=dict(label=f'15T Volatility - No Outage [expand time = {expand_time}]', fontsize=25), \n",
    "                                  draw_outage_limits=False, \n",
    "                                  xlabel_args = dict(xlabel='', fontsize=0, x=0.9, y=0.0, ha='right', va='top'), \n",
    "                                  draw_without_hue_also=False)"
   ]
  },
  {
   "cell_type": "code",
   "execution_count": null,
   "id": "76a456e6",
   "metadata": {},
   "outputs": [],
   "source": [
    "fig, ax0 = plt.subplots(1, 1, num=fig_num, figsize=[20, 5])\n",
    "plt.subplots_adjust(hspace=0.3)\n",
    "fig,ax0 = AMINonVee.plot_usage_around_outage(fig, ax0, data=df_kwh_15T_outage, \n",
    "                                  x='endtimeperiod_utc', y='sq_returns', hue='serialnumber', \n",
    "                                  out_t_beg=pd.to_datetime('2020-06-15 00:00:00'), out_t_end=pd.to_datetime('2020-06-21 14:52:00'), expand_time=datetime.timedelta(days=0), \n",
    "                                  title_args=dict(label=f'15T Volatility - Outage (BEFORE)', fontsize=25), \n",
    "                                  draw_outage_limits=False, \n",
    "                                  xlabel_args = dict(xlabel='', fontsize=0, x=0.9, y=0.0, ha='right', va='top'), \n",
    "                                  draw_without_hue_also=False)"
   ]
  },
  {
   "cell_type": "code",
   "execution_count": null,
   "id": "d789bcda",
   "metadata": {},
   "outputs": [],
   "source": [
    "fig, ax0 = plt.subplots(1, 1, num=fig_num, figsize=[20, 5])\n",
    "plt.subplots_adjust(hspace=0.3)\n",
    "fig,ax0 = AMINonVee.plot_usage_around_outage(fig, ax0, data=df_kwh_15T_outage, \n",
    "                                  x='endtimeperiod_utc', y='sq_returns', hue='serialnumber', \n",
    "                                  out_t_beg=pd.to_datetime('2020-06-21 16:52:00'), out_t_end=pd.to_datetime('2020-06-25 00:00:00'), expand_time=datetime.timedelta(days=0), \n",
    "                                  title_args=dict(label=f'15T Volatility - Outage (AFTER)', fontsize=25), \n",
    "                                  draw_outage_limits=False, \n",
    "                                  xlabel_args = dict(xlabel='', fontsize=0, x=0.9, y=0.0, ha='right', va='top'), \n",
    "                                  draw_without_hue_also=False)"
   ]
  },
  {
   "cell_type": "code",
   "execution_count": null,
   "id": "ef6b440d",
   "metadata": {},
   "outputs": [],
   "source": [
    "fig, ax0 = plt.subplots(1, 1, num=fig_num, figsize=[20, 5])\n",
    "plt.subplots_adjust(hspace=0.3)\n",
    "fig,ax0 = AMINonVee.plot_usage_around_outage(fig, ax0, data=df_kwh_15T_outage, \n",
    "                                  x='endtimeperiod_utc', y='sq_returns', hue='serialnumber', \n",
    "                                  out_t_beg=pd.to_datetime('2020-06-15 00:00:00'), out_t_end=pd.to_datetime('2020-06-25 00:00:00'), expand_time=datetime.timedelta(days=0), \n",
    "                                  title_args=dict(label=f'15T Volatility - Outage', fontsize=25), \n",
    "                                  draw_outage_limits=False, \n",
    "                                  xlabel_args = dict(xlabel='', fontsize=0, x=0.9, y=0.0, ha='right', va='top'), \n",
    "                                  draw_without_hue_also=False)\n",
    "ax0.set_ylim([0, 1.2e7])\n",
    "ax0.axvline(out_t_beg, color='red')\n",
    "ax0.axvline(out_t_end, color='lawngreen')"
   ]
  },
  {
   "cell_type": "code",
   "execution_count": null,
   "id": "a2ef6a14",
   "metadata": {},
   "outputs": [],
   "source": [
    "fig, ax0 = plt.subplots(1, 1, num=fig_num, figsize=[20, 5])\n",
    "plt.subplots_adjust(hspace=0.3)\n",
    "fig,ax0 = AMINonVee.plot_usage_around_outage(fig, ax0, data=df_kwh_15T_outage[df_kwh_15T_outage['sq_returns']>0], \n",
    "                                  x='endtimeperiod_utc', y='sq_returns', hue='serialnumber', \n",
    "                                  out_t_beg=pd.to_datetime('2020-06-15 00:00:00'), out_t_end=pd.to_datetime('2020-06-25 00:00:00'), expand_time=datetime.timedelta(days=0), \n",
    "                                  title_args=dict(label=f'15T Volatility - Outage', fontsize=25), \n",
    "                                  draw_outage_limits=False, \n",
    "                                  xlabel_args = dict(xlabel='', fontsize=0, x=0.9, y=0.0, ha='right', va='top'), \n",
    "                                  draw_without_hue_also=False)\n",
    "ax0.set_ylim([0, 1.2e7])\n",
    "ax0.axvline(out_t_beg, color='red')\n",
    "ax0.axvline(out_t_end, color='lawngreen')\n",
    "ax0.set_ylim(0.1, 1.2e7)\n",
    "ax0.set_yscale('log')"
   ]
  },
  {
   "cell_type": "code",
   "execution_count": null,
   "id": "b2eae9fe",
   "metadata": {},
   "outputs": [],
   "source": [
    "#tmp_df_kwh_H_outage = df_kwh_15T_outage.resample('H').agg({'sq_returns':'mean'})\n",
    "tmp_df_kwh_H_outage = df_kwh_15T_outage.groupby([pd.Grouper(freq='H')] + ['serialnumber']).agg({'sq_returns':'mean'})"
   ]
  },
  {
   "cell_type": "code",
   "execution_count": null,
   "id": "8351664d",
   "metadata": {},
   "outputs": [],
   "source": [
    "fig, ax0 = plt.subplots(1, 1, num=fig_num, figsize=[20, 5])\n",
    "plt.subplots_adjust(hspace=0.3)\n",
    "fig,ax0 = AMINonVee.plot_usage_around_outage(fig, ax0, data=tmp_df_kwh_H_outage[tmp_df_kwh_H_outage['sq_returns']>0], \n",
    "                                  x='time_idx', y='sq_returns', hue='serialnumber', \n",
    "                                  out_t_beg=pd.to_datetime('2020-06-15 00:00:00'), out_t_end=pd.to_datetime('2020-06-25 00:00:00'), expand_time=datetime.timedelta(days=0), \n",
    "                                  title_args=dict(label=f'Hourly Volatility - Outage', fontsize=25), \n",
    "                                  draw_outage_limits=False, \n",
    "                                  xlabel_args = dict(xlabel='', fontsize=0, x=0.9, y=0.0, ha='right', va='top'), \n",
    "                                  draw_without_hue_also=False)\n",
    "ax0.set_ylim([0, 1.2e7])\n",
    "ax0.axvline(out_t_beg, color='red')\n",
    "ax0.axvline(out_t_end, color='lawngreen')\n",
    "ax0.set_ylim(0.1, 1.2e7)\n",
    "ax0.set_yscale('log')"
   ]
  },
  {
   "cell_type": "code",
   "execution_count": null,
   "id": "ae35db5a",
   "metadata": {},
   "outputs": [],
   "source": [
    "fig, ax0 = plt.subplots(1, 1, num=fig_num, figsize=[20, 5])\n",
    "plt.subplots_adjust(hspace=0.3)\n",
    "fig,ax0 = AMINonVee.plot_usage_around_outage(fig, ax0, data=tmp_df_kwh_H_outage, \n",
    "                                  x='time_idx', y='sq_returns', hue='serialnumber', \n",
    "                                  out_t_beg=pd.to_datetime('2020-06-15 00:00:00'), out_t_end=pd.to_datetime('2020-06-25 00:00:00'), expand_time=datetime.timedelta(days=0), \n",
    "                                  title_args=dict(label=f'Hourly Volatility - Outage', fontsize=25), \n",
    "                                  draw_outage_limits=False, \n",
    "                                  xlabel_args = dict(xlabel='', fontsize=0, x=0.9, y=0.0, ha='right', va='top'), \n",
    "                                  draw_without_hue_also=False)\n",
    "ax0.set_ylim([0, 1.2e7])\n",
    "ax0.axvline(out_t_beg, color='red')\n",
    "ax0.axvline(out_t_end, color='lawngreen')"
   ]
  },
  {
   "cell_type": "code",
   "execution_count": null,
   "id": "5daf3139",
   "metadata": {},
   "outputs": [],
   "source": []
  },
  {
   "cell_type": "code",
   "execution_count": null,
   "id": "2b7f86cf",
   "metadata": {},
   "outputs": [],
   "source": [
    "save_figs=False\n",
    "tmp_df_kwh_H_outage = df_kwh_15T_outage.groupby([pd.Grouper(freq='H')] + ['serialnumber']).agg({'sq_returns':'mean'})\n",
    "\n",
    "fig, (ax0, ax1, ax2) = plt.subplots(3, 1, num=fig_num, figsize=[14, 18])\n",
    "subplots_adjust_args = {'left':0.075, 'right':0.975, \n",
    "                        'bottom':0.075, 'top':0.95, \n",
    "                        'wspace':0.2, 'hspace':0.35}\n",
    "plt.subplots_adjust(**subplots_adjust_args)\n",
    "\n",
    "fig,ax0 = AMINonVee.plot_usage_around_outage(fig, ax0, data=df_kwh_15T_outage, \n",
    "                                  x='endtimeperiod_utc', y='sq_returns', hue='serialnumber', \n",
    "                                  out_t_beg=pd.to_datetime('2020-06-15 00:00:00'), out_t_end=pd.to_datetime('2020-06-25 00:00:00'), expand_time=datetime.timedelta(days=0), \n",
    "                                  title_args=dict(label=f'15T Volatility - Outage', fontsize=25), \n",
    "                                  draw_outage_limits=False, \n",
    "                                  xlabel_args = dict(xlabel='Datetime', fontsize=20, x=0.9, y=0.0, ha='right', va='top'), \n",
    "                                   ylabel_args = dict(ylabel=f'$\\Delta^{2}$', fontsize=20, x=0.0, y=0.8, ha='left', va='bottom'),\n",
    "                                  draw_without_hue_also=False)\n",
    "ax0.set_ylim([0, 1.2e7])\n",
    "ax0.axvline(out_t_beg, color='red')\n",
    "ax0.axvline(out_t_end, color='lawngreen')\n",
    "#------------------------------------------\n",
    "fig,ax1 = AMINonVee.plot_usage_around_outage(fig, ax1, data=tmp_df_kwh_H_outage, \n",
    "                                  x='time_idx', y='sq_returns', hue='serialnumber', \n",
    "                                  out_t_beg=pd.to_datetime('2020-06-15 00:00:00'), out_t_end=pd.to_datetime('2020-06-25 00:00:00'), expand_time=datetime.timedelta(days=0), \n",
    "                                  title_args=dict(label=f'Hourly Volatility - Outage', fontsize=25), \n",
    "                                  draw_outage_limits=False, \n",
    "                                  xlabel_args = dict(xlabel='Datetime', fontsize=20, x=0.9, y=0.0, ha='right', va='top'), \n",
    "                                   ylabel_args = dict(ylabel=f'$\\Delta^{2}$', fontsize=20, x=0.0, y=0.8, ha='left', va='bottom'),\n",
    "                                  draw_without_hue_also=False)\n",
    "ax1.set_ylim([0, 1.2e7])\n",
    "ax1.axvline(out_t_beg, color='red')\n",
    "ax1.axvline(out_t_end, color='lawngreen')\n",
    "#------------------------------------------\n",
    "fig,ax2 = AMINonVee.plot_usage_around_outage(fig, ax2, data=tmp_df_kwh_H_outage[tmp_df_kwh_H_outage['sq_returns']>0], \n",
    "                                  x='time_idx', y='sq_returns', hue='serialnumber', \n",
    "                                  out_t_beg=pd.to_datetime('2020-06-15 00:00:00'), out_t_end=pd.to_datetime('2020-06-25 00:00:00'), expand_time=datetime.timedelta(days=0), \n",
    "                                  title_args=dict(label=f'Hourly Volatility - Outage', fontsize=25), \n",
    "                                  draw_outage_limits=False, \n",
    "                                  xlabel_args = dict(xlabel='Datetime', fontsize=20, x=0.9, y=0.0, ha='right', va='top'), \n",
    "                                   ylabel_args = dict(ylabel=f'$\\Delta^{2}$', fontsize=20, x=0.0, y=0.8, ha='left', va='bottom'),\n",
    "                                  draw_without_hue_also=False)\n",
    "ax2.set_ylim([0, 1.2e7])\n",
    "ax2.axvline(out_t_beg, color='red')\n",
    "ax2.axvline(out_t_end, color='lawngreen')\n",
    "ax2.set_ylim(0.1, 1.2e7)\n",
    "ax2.set_yscale('log')\n",
    "#----------------------------------------\n",
    "if save_figs:\n",
    "    save_dir = r'C:\\Users\\s346557\\Documents\\Presentations\\GroupMeetings\\20220120\\Figures\\SampleUsage'\n",
    "    save_name = 'volatility.png'\n",
    "    fig.savefig(os.path.join(save_dir, save_name))\n",
    "#----------------------------------------    "
   ]
  },
  {
   "cell_type": "code",
   "execution_count": null,
   "id": "39aef0fa",
   "metadata": {},
   "outputs": [],
   "source": []
  },
  {
   "cell_type": "code",
   "execution_count": null,
   "id": "98b08296",
   "metadata": {},
   "outputs": [],
   "source": []
  },
  {
   "cell_type": "code",
   "execution_count": null,
   "id": "4b8d2561",
   "metadata": {},
   "outputs": [],
   "source": []
  },
  {
   "cell_type": "code",
   "execution_count": null,
   "id": "a0b40886",
   "metadata": {},
   "outputs": [],
   "source": []
  },
  {
   "cell_type": "code",
   "execution_count": null,
   "id": "18ce4b98",
   "metadata": {},
   "outputs": [],
   "source": [
    "df_kwh_15T_mean_outage['endtimeperiod_utc'] = df_kwh_15T_mean_outage.index\n",
    "fig, (ax0, ax1) = plt.subplots(2, 1, num=fig_num, figsize=[20, 10], sharex=True)\n",
    "plt.subplots_adjust(hspace=0.3)\n",
    "# df_kwh_15T_mean_outage['2020-06-15 00:00:00':'2020-06-28 00:00:00']['sq_returns'].plot(figsize=(20,5), ax=ax0)\n",
    "sns.lineplot(ax=ax0, data=df_kwh_15T_mean_outage['2020-06-23 16:00:00':'2020-06-23 20:00:00'], \n",
    "             x='endtimeperiod_utc', y='sq_returns', \n",
    "             palette='colorblind')\n",
    "ax0.set_title(\"15T Mean Volatility - Outage\", size = 24)\n",
    "#ax0.set_ylim([0, 70000])\n",
    "# ax0.axvline(out_t_beg, color='red')\n",
    "# ax0.axvline(out_t_end, color='lawngreen')\n",
    "\n",
    "sns.lineplot(ax=ax1, data=df_kwh_15T_outage['2020-06-23 16:00:00':'2020-06-23 20:00:00'], \n",
    "             x='endtimeperiod_utc', y='sq_returns', hue='serialnumber', \n",
    "             palette='colorblind')\n",
    "\n",
    "# fig,ax1 = AMINonVee.plot_usage_around_outage(fig, ax1, data=df_kwh_15T_outage, \n",
    "#                                   x='endtimeperiod_utc', y='sq_returns', hue='serialnumber', \n",
    "#                                   out_t_beg=pd.to_datetime('2020-06-15 00:00:00'), out_t_end=pd.to_datetime('2020-06-28 00:00:00'), expand_time=datetime.timedelta(days=0), \n",
    "#                                   title_args=dict(label=f'15T Volatility - Outage', fontsize=25), \n",
    "#                                   draw_outage_limits=False, \n",
    "#                                   xlabel_args = dict(xlabel='', fontsize=0, x=0.9, y=0.0, ha='right', va='top'), \n",
    "#                                   draw_without_hue_also=False)\n",
    "ax1.set_ylim([0, 1.2e7])\n",
    "# ax1.axvline(out_t_beg, color='red')\n",
    "# ax1.axvline(out_t_end, color='lawngreen')"
   ]
  },
  {
   "cell_type": "code",
   "execution_count": null,
   "id": "aa3271dd",
   "metadata": {},
   "outputs": [],
   "source": [
    "# df_kwh_15T_outage.loc['2020-06-23 18:30:00']['sq_returns'].mean()"
   ]
  },
  {
   "cell_type": "code",
   "execution_count": null,
   "id": "ae5df5f4",
   "metadata": {},
   "outputs": [],
   "source": [
    "# df_kwh_15T_mean_outage.loc['2020-06-23 18:30:00']"
   ]
  },
  {
   "cell_type": "code",
   "execution_count": null,
   "id": "4ec84387",
   "metadata": {},
   "outputs": [],
   "source": [
    "df_kwh_15T_mean_no_outage['returns'].plot(figsize=(20,5))\n",
    "plt.title(\"15T Mean Deltas - No Outage\", size = 24)"
   ]
  },
  {
   "cell_type": "code",
   "execution_count": null,
   "id": "5c7177cd",
   "metadata": {},
   "outputs": [],
   "source": [
    "df_kwh_15T_mean_outage['2020-06-15 00:00:00':'2020-06-21 14:52:00']['returns'].plot(figsize=(20,5))\n",
    "plt.title(\"15T Mean Deltas - Outage (BEFORE)\", size = 24)"
   ]
  },
  {
   "cell_type": "code",
   "execution_count": null,
   "id": "2c50b59f",
   "metadata": {},
   "outputs": [],
   "source": [
    "df_kwh_15T_mean_outage['2020-06-21 16:52:00':'2020-06-28 00:00:00']['returns'].plot(figsize=(20,5))\n",
    "plt.title(\"15T Mean Deltas - Outage (AFTER)\", size = 24)"
   ]
  },
  {
   "cell_type": "code",
   "execution_count": null,
   "id": "d1397838",
   "metadata": {},
   "outputs": [],
   "source": [
    "fig, ax0 = plt.subplots(1, 1, num=fig_num, figsize=[20, 5])\n",
    "plt.subplots_adjust(hspace=0.3)\n",
    "fig,ax0 = AMINonVee.plot_usage_around_outage(fig, ax0, data=df_kwh_15T_no_outage, \n",
    "                                  x='endtimeperiod_utc', y='returns', hue='serialnumber', \n",
    "                                  out_t_beg=no_outage_center, out_t_end=no_outage_center, expand_time=expand_time, \n",
    "                                  title_args=dict(label=f'15T Deltas - No Outage [expand time = {expand_time}]', fontsize=25), \n",
    "                                  draw_outage_limits=False, \n",
    "                                  xlabel_args = dict(xlabel='', fontsize=0, x=0.9, y=0.0, ha='right', va='top'), \n",
    "                                  draw_without_hue_also=False)"
   ]
  },
  {
   "cell_type": "code",
   "execution_count": null,
   "id": "46e9634b",
   "metadata": {},
   "outputs": [],
   "source": [
    "fig, ax0 = plt.subplots(1, 1, num=fig_num, figsize=[20, 5])\n",
    "plt.subplots_adjust(hspace=0.3)\n",
    "fig,ax0 = AMINonVee.plot_usage_around_outage(fig, ax0, data=df_kwh_15T_outage, \n",
    "                                  x='endtimeperiod_utc', y='returns', hue='serialnumber', \n",
    "                                  out_t_beg=pd.to_datetime('2020-06-15 00:00:00'), out_t_end=pd.to_datetime('2020-06-21 14:52:00'), expand_time=datetime.timedelta(days=0), \n",
    "                                  title_args=dict(label=f'15T Deltas - Outage (BEFORE)', fontsize=25), \n",
    "                                  draw_outage_limits=False, \n",
    "                                  xlabel_args = dict(xlabel='', fontsize=0, x=0.9, y=0.0, ha='right', va='top'), \n",
    "                                  draw_without_hue_also=False)"
   ]
  },
  {
   "cell_type": "code",
   "execution_count": null,
   "id": "5f901503",
   "metadata": {},
   "outputs": [],
   "source": [
    "fig, ax0 = plt.subplots(1, 1, num=fig_num, figsize=[20, 5])\n",
    "plt.subplots_adjust(hspace=0.3)\n",
    "fig,ax0 = AMINonVee.plot_usage_around_outage(fig, ax0, data=df_kwh_15T_outage, \n",
    "                                  x='endtimeperiod_utc', y='returns', hue='serialnumber', \n",
    "                                  out_t_beg=pd.to_datetime('2020-06-21 16:52:00'), out_t_end=pd.to_datetime('2020-06-25 00:00:00'), expand_time=datetime.timedelta(days=0), \n",
    "                                  title_args=dict(label=f'15T Deltas - Outage (AFTER)', fontsize=25), \n",
    "                                  draw_outage_limits=False, \n",
    "                                  xlabel_args = dict(xlabel='', fontsize=0, x=0.9, y=0.0, ha='right', va='top'), \n",
    "                                  draw_without_hue_also=False)"
   ]
  },
  {
   "cell_type": "code",
   "execution_count": null,
   "id": "a123bbe0",
   "metadata": {},
   "outputs": [],
   "source": [
    "fig, ax0 = plt.subplots(1, 1, num=fig_num, figsize=[20, 5])\n",
    "plt.subplots_adjust(hspace=0.3)\n",
    "fig,ax0 = AMINonVee.plot_usage_around_outage(fig, ax0, data=df_kwh_15T_outage, \n",
    "                                  x='endtimeperiod_utc', y='returns', hue='serialnumber', \n",
    "                                  out_t_beg=pd.to_datetime('2020-06-15 00:00:00'), out_t_end=pd.to_datetime('2020-06-28 00:00:00'), expand_time=datetime.timedelta(days=0), \n",
    "                                  title_args=dict(label=f'15T Deltas - Outage', fontsize=25), \n",
    "                                  draw_outage_limits=False, \n",
    "                                  xlabel_args = dict(xlabel='', fontsize=0, x=0.9, y=0.0, ha='right', va='top'), \n",
    "                                  draw_without_hue_also=False)\n",
    "ax0.set_ylim([-200, 7000])\n",
    "ax0.axvline(out_t_beg, color='red')\n",
    "ax0.axvline(out_t_end, color='lawngreen')"
   ]
  },
  {
   "cell_type": "code",
   "execution_count": null,
   "id": "f6f76595",
   "metadata": {},
   "outputs": [],
   "source": [
    "fig, ax0 = plt.subplots(1, 1, num=fig_num, figsize=[20, 5])\n",
    "plt.subplots_adjust(hspace=0.3)\n",
    "fig,ax0 = AMINonVee.plot_usage_around_outage(fig, ax0, data=df_kwh_15T_outage, \n",
    "                                  x='endtimeperiod_utc', y='value', hue='serialnumber', \n",
    "                                  out_t_beg=pd.to_datetime('2020-06-15 00:00:00'), out_t_end=pd.to_datetime('2020-06-28 00:00:00'), expand_time=datetime.timedelta(days=0), \n",
    "                                  title_args=dict(label=f'15T Usage - Outage', fontsize=25), \n",
    "                                  draw_outage_limits=False, \n",
    "                                  xlabel_args = dict(xlabel='', fontsize=0, x=0.9, y=0.0, ha='right', va='top'), \n",
    "                                  draw_without_hue_also=False, seg_line_freq='D')\n",
    "#ax0.set_ylim([-200, 7000])\n",
    "ax0.axvline(out_t_beg, color='red')\n",
    "ax0.axvline(out_t_end, color='lawngreen')"
   ]
  },
  {
   "cell_type": "code",
   "execution_count": null,
   "id": "36f77459",
   "metadata": {},
   "outputs": [],
   "source": []
  },
  {
   "cell_type": "code",
   "execution_count": null,
   "id": "cdbaec08",
   "metadata": {},
   "outputs": [],
   "source": [
    "fig, ax0 = plt.subplots(1, 1, num=fig_num, figsize=[20, 5])\n",
    "plt.subplots_adjust(hspace=0.3)\n",
    "fig,ax0 = AMINonVee.plot_usage_around_outage(fig, ax0, data=df_kwh_15T_mean_outage, \n",
    "                                  x='endtimeperiod_utc', y='mean_mtrs value', hue=None, \n",
    "                                  out_t_beg=pd.to_datetime('2020-06-15 00:00:00'), out_t_end=pd.to_datetime('2020-06-28 00:00:00'), expand_time=datetime.timedelta(days=0), \n",
    "                                  title_args=dict(label=f'15T Usage - Outage', fontsize=25), \n",
    "                                  draw_outage_limits=False, \n",
    "                                  xlabel_args = dict(xlabel='', fontsize=0, x=0.9, y=0.0, ha='right', va='top'), \n",
    "                                  draw_without_hue_also=False, seg_line_freq='D')\n",
    "#ax0.set_ylim([-200, 7000])\n",
    "ax0.axvline(out_t_beg, color='red')\n",
    "ax0.axvline(out_t_end, color='lawngreen')"
   ]
  },
  {
   "cell_type": "code",
   "execution_count": null,
   "id": "1b9a92de",
   "metadata": {},
   "outputs": [],
   "source": [
    "fig, ax0 = plt.subplots(1, 1, num=fig_num, figsize=[20, 5])\n",
    "plt.subplots_adjust(hspace=0.3)\n",
    "fig,ax0 = AMINonVee.plot_usage_around_outage(fig, ax0, data=df_kwh_15T_mean_outage, \n",
    "                                  x='endtimeperiod_utc', y='mean_mtrs value', hue=None, \n",
    "                                  out_t_beg=pd.to_datetime('2020-06-19 00:00:00'), out_t_end=pd.to_datetime('2020-06-24 00:00:00'), expand_time=datetime.timedelta(days=0), \n",
    "                                  title_args=dict(label=f'15T Usage - Outage', fontsize=25), \n",
    "                                  draw_outage_limits=False, \n",
    "                                  xlabel_args = dict(xlabel='', fontsize=0, x=0.9, y=0.0, ha='right', va='top'), \n",
    "                                  draw_without_hue_also=False, seg_line_freq='D')\n",
    "#ax0.set_ylim([-200, 7000])\n",
    "ax0.axvline(out_t_beg, color='red')\n",
    "ax0.axvline(out_t_end, color='lawngreen')"
   ]
  },
  {
   "cell_type": "code",
   "execution_count": null,
   "id": "4bd4c3f8",
   "metadata": {},
   "outputs": [],
   "source": []
  },
  {
   "cell_type": "code",
   "execution_count": null,
   "id": "65946bc9",
   "metadata": {},
   "outputs": [],
   "source": [
    "fig, ax0 = plt.subplots(1, 1, num=fig_num, figsize=[20, 5])\n",
    "plt.subplots_adjust(hspace=0.3)\n",
    "fig,ax0 = AMINonVee.plot_usage_around_outage(fig, ax0, data=df_kwh_15T_outage, \n",
    "                                  x='endtimeperiod_utc', y='value', hue='serialnumber', \n",
    "                                  out_t_beg=pd.to_datetime('2020-06-19 00:00:00'), out_t_end=pd.to_datetime('2020-06-24 00:00:00'), expand_time=datetime.timedelta(days=0), \n",
    "                                  title_args=dict(label=f'15T Usage - Outage', fontsize=25), \n",
    "                                  draw_outage_limits=False, \n",
    "                                  xlabel_args = dict(xlabel='', fontsize=0, x=0.9, y=0.0, ha='right', va='top'), \n",
    "                                  draw_without_hue_also=False, seg_line_freq='D')\n",
    "#ax0.set_ylim([-200, 7000])\n",
    "ax0.axvline(out_t_beg, color='red')\n",
    "ax0.axvline(out_t_end, color='lawngreen')"
   ]
  },
  {
   "cell_type": "code",
   "execution_count": null,
   "id": "c39ffe08",
   "metadata": {},
   "outputs": [],
   "source": []
  },
  {
   "cell_type": "code",
   "execution_count": null,
   "id": "c0fdd6bf",
   "metadata": {},
   "outputs": [],
   "source": []
  },
  {
   "cell_type": "code",
   "execution_count": null,
   "id": "ed272cd0",
   "metadata": {},
   "outputs": [],
   "source": []
  },
  {
   "cell_type": "code",
   "execution_count": null,
   "id": "71d62707",
   "metadata": {},
   "outputs": [],
   "source": []
  },
  {
   "cell_type": "code",
   "execution_count": null,
   "id": "494fd8ce",
   "metadata": {},
   "outputs": [],
   "source": []
  },
  {
   "cell_type": "code",
   "execution_count": null,
   "id": "eca333b3",
   "metadata": {},
   "outputs": [],
   "source": []
  },
  {
   "cell_type": "code",
   "execution_count": null,
   "id": "bc9f6d03",
   "metadata": {},
   "outputs": [],
   "source": [
    "value_col = 'mean_TRS mean_mtrs value'\n",
    "df_kwh_H_mean_cpy = dfs_kwh_dict['H'][df_agg_key].copy()\n",
    "df_kwh_H_mean_cpy['returns'] = df_kwh_H_mean_cpy[value_col].pct_change(1)*100\n",
    "df_kwh_H_mean_cpy['sq_returns'] = df_kwh_H_mean_cpy['returns'].mul(df_kwh_H_mean_cpy['returns'])\n",
    "#-----\n",
    "df_kwh_H_mean_no_outage = df_kwh_H_mean_cpy.loc[no_outage_center-expand_time:no_outage_center+expand_time][[value_col, 'returns', 'sq_returns']].copy()\n",
    "df_kwh_H_mean_outage = df_kwh_H_mean_cpy.loc[out_t_beg-expand_time:out_t_end+expand_time][[value_col, 'returns', 'sq_returns']].copy()"
   ]
  },
  {
   "cell_type": "code",
   "execution_count": null,
   "id": "eba1c29e",
   "metadata": {},
   "outputs": [],
   "source": []
  },
  {
   "cell_type": "code",
   "execution_count": null,
   "id": "6a7be0e3",
   "metadata": {},
   "outputs": [],
   "source": [
    "df_kwh_H_mean_outage[value_col].plot(figsize=(20,10))\n",
    "df_kwh_H_mean_outage[value_col].rolling(24, center=True).mean().plot()\n",
    "df_kwh_H_mean_outage[value_col].rolling(24*7, center=True).mean().plot()"
   ]
  },
  {
   "cell_type": "code",
   "execution_count": null,
   "id": "dc701b3c",
   "metadata": {},
   "outputs": [],
   "source": [
    "df_kwh_H_mean_no_outage[value_col].plot(figsize=(20,10))\n",
    "df_kwh_H_mean_no_outage[value_col].rolling(24, center=True).mean().plot()\n",
    "df_kwh_H_mean_no_outage[value_col].rolling(24*7, center=True).mean().plot()"
   ]
  },
  {
   "cell_type": "code",
   "execution_count": null,
   "id": "f743aeca",
   "metadata": {},
   "outputs": [],
   "source": []
  },
  {
   "cell_type": "code",
   "execution_count": null,
   "id": "08774867",
   "metadata": {},
   "outputs": [],
   "source": [
    "train = df_kwh_H_mean_outage[:'2020-06-21 00:00:00'][[value_col]]\n",
    "test = df_kwh_H_mean_outage['2020-06-21 00:00:00':][[value_col]]\n",
    "\n",
    "# train = df_kwh_H_mean_outage[:'2020-07-05 00:00:00'][['value']]\n",
    "# test = df_kwh_H_mean_outage['2020-07-05 00:00:00':][['value']]\n",
    "\n",
    "# model_auto = auto_arima(train['value'], seasonal=True, m=24)\n",
    "# print(model_auto.summary())\n",
    "\n",
    "model = SARIMAX(train[value_col], order=(2, 0, 0), seasonal_order=(1, 0, [1], 24))\n",
    "results = model.fit()\n",
    "print(results.summary())\n",
    "\n",
    "predictions = results.predict(len(train), len(df_kwh_H_mean_outage), typ='levels')\n",
    "all_pred = results.get_prediction(df_kwh_H_mean_outage.index[0], df_kwh_H_mean_outage.index[-1])\n",
    "\n",
    "seg_min = df_kwh_H_mean_outage.index[0].round('D')\n",
    "seg_max = pd.to_datetime(df_kwh_H_mean_outage.index[-1]).round('D')\n",
    "all_segs_D = pd.date_range(seg_min, seg_max, freq='D')\n",
    "all_segs_W = pd.date_range(seg_min, seg_max, freq='W')\n",
    "\n",
    "fig, (ax1, ax2, ax3) = plt.subplots(3,1, figsize=(20,30))\n",
    "#--------------------\n",
    "df_kwh_H_mean_outage[value_col].plot(figsize=(20,10), ax=ax1)\n",
    "predictions.plot(ax=ax1)\n",
    "ax1.axvline(df_kwh_H_mean_outage.index[len(train)], color='purple')\n",
    "ax1.axvline(out_t_beg, color='red')\n",
    "ax1.axvline(out_t_end, color='lawngreen')\n",
    "for seg in all_segs_D:\n",
    "    ax1.axvline(seg, color='black', linestyle='--', linewidth=0.5);\n",
    "for seg in all_segs_W:\n",
    "    ax1.axvline(seg, color='black', linestyle='--', linewidth=2.0);\n",
    "#--------------------\n",
    "df_kwh_H_mean_outage[value_col].plot(figsize=(20,10), ax=ax2)\n",
    "all_pred.predicted_mean.plot(ax=ax2)\n",
    "ax2.axvline(out_t_beg, color='red')\n",
    "ax2.axvline(out_t_end, color='lawngreen')\n",
    "for seg in all_segs_D:\n",
    "    ax2.axvline(seg, color='black', linestyle='--', linewidth=0.5);\n",
    "for seg in all_segs_W:\n",
    "    ax2.axvline(seg, color='black', linestyle='--', linewidth=2.0);\n",
    "#--------------------\n",
    "df_kwh_H_mean_outage[value_col].plot(figsize=(20,10), ax=ax3)\n",
    "results.fittedvalues.plot(ax=ax3)\n",
    "ax3.axvline(out_t_beg, color='red')\n",
    "ax3.axvline(out_t_end, color='lawngreen')\n",
    "for seg in all_segs_D:\n",
    "    ax3.axvline(seg, color='black', linestyle='--', linewidth=0.5);\n",
    "for seg in all_segs_W:\n",
    "    ax3.axvline(seg, color='black', linestyle='--', linewidth=2.0);"
   ]
  },
  {
   "cell_type": "code",
   "execution_count": null,
   "id": "a90f37b7",
   "metadata": {},
   "outputs": [],
   "source": []
  },
  {
   "cell_type": "code",
   "execution_count": null,
   "id": "688c0667",
   "metadata": {},
   "outputs": [],
   "source": []
  },
  {
   "cell_type": "code",
   "execution_count": null,
   "id": "6c3a9228",
   "metadata": {},
   "outputs": [],
   "source": []
  },
  {
   "cell_type": "code",
   "execution_count": null,
   "id": "46a418ef",
   "metadata": {},
   "outputs": [],
   "source": []
  },
  {
   "cell_type": "code",
   "execution_count": null,
   "id": "8901a3a4",
   "metadata": {},
   "outputs": [],
   "source": [
    "train = df_kwh_H_mean_no_outage[:'2020-08-23 04:00:00'][[value_col]]\n",
    "test = df_kwh_H_mean_no_outage['2020-08-23 04:00:00':][[value_col]]\n",
    "\n",
    "# model_auto = auto_arima(train[value_col], seasonal=True, m=24)\n",
    "# print(model_auto.summary())\n",
    "\n",
    "model = SARIMAX(train[value_col], order=(2, 0, 0), seasonal_order=(1, 0, [1], 24))\n",
    "results = model.fit()\n",
    "print(results.summary())\n",
    "\n",
    "predictions = results.predict(len(train), len(df_kwh_H_mean_no_outage), typ='levels')\n",
    "all_pred = results.get_prediction(df_kwh_H_mean_no_outage.index[0], df_kwh_H_mean_no_outage.index[-1])\n",
    "\n",
    "seg_min = df_kwh_H_mean_no_outage.index[0].round('D')\n",
    "seg_max = pd.to_datetime(df_kwh_H_mean_no_outage.index[-1]).round('D')\n",
    "all_segs_D = pd.date_range(seg_min, seg_max, freq='D')\n",
    "all_segs_W = pd.date_range(seg_min, seg_max, freq='W')\n",
    "\n",
    "fig, (ax1, ax2, ax3) = plt.subplots(3,1, figsize=(20,30))\n",
    "#--------------------\n",
    "df_kwh_H_mean_no_outage[value_col].plot(figsize=(20,10), ax=ax1)\n",
    "predictions.plot(ax=ax1)\n",
    "ax1.axvline(df_kwh_H_mean_no_outage.index[len(train)], color='purple')\n",
    "for seg in all_segs_D:\n",
    "    ax1.axvline(seg, color='black', linestyle='--', linewidth=0.5);\n",
    "for seg in all_segs_W:\n",
    "    ax1.axvline(seg, color='black', linestyle='--', linewidth=2.0);\n",
    "#--------------------\n",
    "df_kwh_H_mean_no_outage[value_col].plot(figsize=(20,10), ax=ax2)\n",
    "all_pred.predicted_mean.plot(ax=ax2)\n",
    "for seg in all_segs_D:\n",
    "    ax2.axvline(seg, color='black', linestyle='--', linewidth=0.5);\n",
    "for seg in all_segs_W:\n",
    "    ax2.axvline(seg, color='black', linestyle='--', linewidth=2.0);\n",
    "#--------------------\n",
    "df_kwh_H_mean_no_outage[value_col].plot(figsize=(20,10), ax=ax3)\n",
    "results.fittedvalues.plot(ax=ax3)\n",
    "for seg in all_segs_D:\n",
    "    ax3.axvline(seg, color='black', linestyle='--', linewidth=0.5);\n",
    "for seg in all_segs_W:\n",
    "    ax3.axvline(seg, color='black', linestyle='--', linewidth=2.0);"
   ]
  },
  {
   "cell_type": "code",
   "execution_count": null,
   "id": "77da713d",
   "metadata": {},
   "outputs": [],
   "source": []
  },
  {
   "cell_type": "code",
   "execution_count": null,
   "id": "040c9b89",
   "metadata": {},
   "outputs": [],
   "source": []
  },
  {
   "cell_type": "code",
   "execution_count": null,
   "id": "5c1fc4be",
   "metadata": {},
   "outputs": [],
   "source": [
    "save_figs=False\n",
    "train = df_kwh_H_mean_outage[:'2020-06-21 00:00:00'][[value_col]]\n",
    "test = df_kwh_H_mean_outage['2020-06-21 00:00:00':][[value_col]]\n",
    "\n",
    "# train = df_kwh_H_mean_outage[:'2020-07-05 00:00:00'][['value']]\n",
    "# test = df_kwh_H_mean_outage['2020-07-05 00:00:00':][['value']]\n",
    "\n",
    "# model_auto = auto_arima(train['value'], seasonal=True, m=24)\n",
    "# print(model_auto.summary())\n",
    "\n",
    "model = SARIMAX(train[value_col], order=(2, 0, 0), seasonal_order=(1, 0, [1], 24))\n",
    "results = model.fit()\n",
    "print(results.summary())\n",
    "\n",
    "predictions = results.predict(len(train), len(df_kwh_H_mean_outage), typ='levels')\n",
    "all_pred = results.get_prediction(df_kwh_H_mean_outage.index[0], df_kwh_H_mean_outage.index[-1])\n",
    "\n",
    "seg_min = df_kwh_H_mean_outage.index[0].round('D')\n",
    "seg_max = pd.to_datetime(df_kwh_H_mean_outage.index[-1]).round('D')\n",
    "all_segs_D = pd.date_range(seg_min, seg_max, freq='D')\n",
    "all_segs_W = pd.date_range(seg_min, seg_max, freq='W')\n",
    "\n",
    "fig, ax1 = plt.subplots(1,1, figsize=(14,6))\n",
    "subplots_adjust_args = {'left':0.075, 'right':0.975, \n",
    "                        'bottom':0.25, 'top':0.925, \n",
    "                        'wspace':0.2, 'hspace':0.35}\n",
    "plt.subplots_adjust(**subplots_adjust_args)\n",
    "#--------------------\n",
    "df_kwh_H_mean_outage[value_col].plot(ax=ax1, label='Data', color='goldenrod')\n",
    "predictions.plot(ax=ax1, label='Predictions (SARIMAX)', color='C0')\n",
    "ax1.axvline(df_kwh_H_mean_outage.index[len(train)], color='purple')\n",
    "# ax1.axvline(out_t_beg, color='red')\n",
    "# ax1.axvline(out_t_end, color='lawngreen')\n",
    "for seg in all_segs_D:\n",
    "    ax1.axvline(seg, color='black', linestyle='--', linewidth=0.5);\n",
    "for seg in all_segs_W:\n",
    "    ax1.axvline(seg, color='black', linestyle='--', linewidth=2.0);\n",
    "    \n",
    "ax1.legend(fontsize=20)\n",
    "ax1.set_title(label=f'Hourly Average Consumption (kWh)', fontsize=25)\n",
    "ax1.set_xlabel(xlabel='Datetime', fontsize=30, x=0.9, y=0.0, ha='right', va='top')\n",
    "ax1.set_ylabel(ylabel='kWh', fontsize=30, x=0.0, y=0.8, ha='left', va='bottom')\n",
    "ax1.tick_params(axis='x', labelrotation=45, labelsize=20)\n",
    "ax1.tick_params(axis='x', which='minor', labelsize=20)\n",
    "ax1.tick_params(axis='y', labelsize=20)\n",
    "\n",
    "#----------------------------------------\n",
    "if save_figs:\n",
    "    save_dir = r'C:\\Users\\s346557\\Documents\\Presentations\\GroupMeetings\\20220120\\Figures\\SampleUsage'\n",
    "    save_name = 'SARIMAX_bad.png'\n",
    "    fig.savefig(os.path.join(save_dir, save_name))\n",
    "#---------------------------------------- "
   ]
  },
  {
   "cell_type": "code",
   "execution_count": null,
   "id": "1cb5cb92",
   "metadata": {},
   "outputs": [],
   "source": []
  },
  {
   "cell_type": "code",
   "execution_count": null,
   "id": "d889c727",
   "metadata": {},
   "outputs": [],
   "source": [
    "save_figs=False\n",
    "train = df_kwh_H_mean_no_outage[:'2020-08-23 04:00:00'][[value_col]]\n",
    "test = df_kwh_H_mean_no_outage['2020-08-23 04:00:00':][[value_col]]\n",
    "\n",
    "# model_auto = auto_arima(train[value_col], seasonal=True, m=24)\n",
    "# print(model_auto.summary())\n",
    "\n",
    "model = SARIMAX(train[value_col], order=(2, 0, 0), seasonal_order=(1, 0, [1], 24))\n",
    "results = model.fit()\n",
    "print(results.summary())\n",
    "\n",
    "predictions = results.predict(len(train), len(df_kwh_H_mean_no_outage), typ='levels')\n",
    "all_pred = results.get_prediction(df_kwh_H_mean_no_outage.index[0], df_kwh_H_mean_no_outage.index[-1])\n",
    "\n",
    "seg_min = df_kwh_H_mean_no_outage.index[0].round('D')\n",
    "seg_max = pd.to_datetime(df_kwh_H_mean_no_outage.index[-1]).round('D')\n",
    "all_segs_D = pd.date_range(seg_min, seg_max, freq='D')\n",
    "all_segs_W = pd.date_range(seg_min, seg_max, freq='W')\n",
    "\n",
    "fig, ax1 = plt.subplots(1,1, figsize=(14,6))\n",
    "subplots_adjust_args = {'left':0.075, 'right':0.975, \n",
    "                        'bottom':0.25, 'top':0.925, \n",
    "                        'wspace':0.2, 'hspace':0.35}\n",
    "plt.subplots_adjust(**subplots_adjust_args)\n",
    "#--------------------\n",
    "df_kwh_H_mean_no_outage[value_col].plot(ax=ax1, label='Data', color='goldenrod')\n",
    "predictions.plot(ax=ax1, label='Predictions (SARIMAX)', color='C0')\n",
    "ax1.axvline(df_kwh_H_mean_no_outage.index[len(train)], color='purple')\n",
    "\n",
    "for seg in all_segs_D:\n",
    "    ax1.axvline(seg, color='black', linestyle='--', linewidth=0.5);\n",
    "for seg in all_segs_W:\n",
    "    ax1.axvline(seg, color='black', linestyle='--', linewidth=2.0);\n",
    "\n",
    "ax1.legend(fontsize=20)\n",
    "ax1.set_title(label=f'Hourly Average Consumption (kWh)', fontsize=25)\n",
    "ax1.set_xlabel(xlabel='Datetime', fontsize=30, x=0.9, y=0.0, ha='right', va='top')\n",
    "ax1.set_ylabel(ylabel='kWh', fontsize=30, x=0.0, y=0.8, ha='left', va='bottom')\n",
    "ax1.tick_params(axis='x', labelrotation=45, labelsize=20)\n",
    "ax1.tick_params(axis='x', which='minor', labelsize=20)\n",
    "ax1.tick_params(axis='y', labelsize=20)\n",
    "#----------------------------------------\n",
    "if save_figs:\n",
    "    save_dir = r'C:\\Users\\s346557\\Documents\\Presentations\\GroupMeetings\\20220120\\Figures\\SampleUsage'\n",
    "    save_name = 'SARIMAX_good.png'\n",
    "    fig.savefig(os.path.join(save_dir, save_name))\n",
    "#---------------------------------------- "
   ]
  },
  {
   "cell_type": "code",
   "execution_count": null,
   "id": "36a3dc7b",
   "metadata": {},
   "outputs": [],
   "source": []
  },
  {
   "cell_type": "code",
   "execution_count": null,
   "id": "897fd3d3",
   "metadata": {},
   "outputs": [],
   "source": []
  },
  {
   "cell_type": "code",
   "execution_count": null,
   "id": "fad1f3e4",
   "metadata": {},
   "outputs": [],
   "source": []
  },
  {
   "cell_type": "code",
   "execution_count": null,
   "id": "ec44c2dc",
   "metadata": {},
   "outputs": [],
   "source": []
  },
  {
   "cell_type": "code",
   "execution_count": null,
   "id": "205d61ad",
   "metadata": {},
   "outputs": [],
   "source": []
  },
  {
   "cell_type": "code",
   "execution_count": null,
   "id": "af1a50b5",
   "metadata": {},
   "outputs": [],
   "source": [
    "from alibi_detect.od import SpectralResidual\n",
    "from alibi_detect.datasets import fetch_kdd"
   ]
  },
  {
   "cell_type": "code",
   "execution_count": null,
   "id": "ff1abbf2",
   "metadata": {},
   "outputs": [],
   "source": [
    "intrusions = fetch_kdd()"
   ]
  },
  {
   "cell_type": "code",
   "execution_count": null,
   "id": "f97a8d59",
   "metadata": {},
   "outputs": [],
   "source": [
    "pd.Series(intrusions['data'][:, 0]).plot()"
   ]
  },
  {
   "cell_type": "code",
   "execution_count": null,
   "id": "aeecbd1f",
   "metadata": {},
   "outputs": [],
   "source": []
  },
  {
   "cell_type": "code",
   "execution_count": null,
   "id": "cd5a8a00",
   "metadata": {},
   "outputs": [],
   "source": [
    "od = SpectralResidual(\n",
    "    threshold=1.,\n",
    "    window_amp=20,\n",
    "    window_local=20,\n",
    "    n_est_points=10,\n",
    "    n_grad_points=5\n",
    ")"
   ]
  },
  {
   "cell_type": "code",
   "execution_count": null,
   "id": "c049f175",
   "metadata": {},
   "outputs": [],
   "source": []
  },
  {
   "cell_type": "code",
   "execution_count": null,
   "id": "2aad3afc",
   "metadata": {},
   "outputs": [],
   "source": [
    "scores = od.score(intrusions['data'][:, 0])"
   ]
  },
  {
   "cell_type": "code",
   "execution_count": null,
   "id": "de46cec9",
   "metadata": {},
   "outputs": [],
   "source": [
    "scores"
   ]
  },
  {
   "cell_type": "code",
   "execution_count": null,
   "id": "06c831f9",
   "metadata": {},
   "outputs": [],
   "source": [
    "# ax = df_kwh_H_mean_outage['value'].plot(figsize=(20,10))\n",
    "# ax2 = ax.twinx()\n",
    "# ax = pd.Series(scores, name='scores').plot(ax=ax2, color='red')\n",
    "\n",
    "ax = pd.Series(intrusions['data'][:, 0], name='data').plot(legend=False, figsize=(20,10))\n",
    "ax2 = ax.twinx()\n",
    "ax = pd.Series(scores, name='scores').plot(ax=ax2, color='red', legend=False)\n",
    "ax.figure.legend(bbox_to_anchor=(1,1), loc='upper left')"
   ]
  },
  {
   "cell_type": "code",
   "execution_count": null,
   "id": "9099d8f3",
   "metadata": {},
   "outputs": [],
   "source": []
  },
  {
   "cell_type": "code",
   "execution_count": null,
   "id": "c0d898f3",
   "metadata": {},
   "outputs": [],
   "source": []
  },
  {
   "cell_type": "code",
   "execution_count": null,
   "id": "6a074362",
   "metadata": {},
   "outputs": [],
   "source": []
  },
  {
   "cell_type": "code",
   "execution_count": null,
   "id": "151155ce",
   "metadata": {},
   "outputs": [],
   "source": [
    "import matplotlib.pyplot as plt\n",
    "import numpy as np\n",
    "import os\n",
    "import pandas as pd\n",
    "import tensorflow as tf\n",
    "\n",
    "from alibi_detect.od import OutlierProphet\n",
    "from alibi_detect.utils.fetching import fetch_detector\n",
    "from alibi_detect.utils.saving import save_detector, load_detector"
   ]
  },
  {
   "cell_type": "code",
   "execution_count": null,
   "id": "85174ad4",
   "metadata": {},
   "outputs": [],
   "source": [
    "n_prophet = 910\n",
    "# d = {'ds': df['Date Time'][:n_prophet], 'y': df['T (degC)'][:n_prophet]}"
   ]
  },
  {
   "cell_type": "code",
   "execution_count": null,
   "id": "2298d2ec",
   "metadata": {},
   "outputs": [],
   "source": [
    "df_kwh_H_mean_outage.iloc[:n_prophet][value_col]"
   ]
  },
  {
   "cell_type": "code",
   "execution_count": null,
   "id": "796ee92b",
   "metadata": {},
   "outputs": [],
   "source": [
    "df_T = df_kwh_H_mean_outage.iloc[:n_prophet][value_col].copy()\n",
    "df_T = df_T.reset_index()\n",
    "df_T = df_T.rename(columns={'time_idx':'ds', value_col:'y'})\n",
    "df_T.plot(x='ds', y='y', figsize=(20,10), color='goldenrod')\n",
    "\n",
    "od = OutlierProphet(threshold=0.99)\n",
    "od.fit(df_T)"
   ]
  },
  {
   "cell_type": "code",
   "execution_count": null,
   "id": "2d25d69f",
   "metadata": {},
   "outputs": [],
   "source": [
    "df_T_test = df_kwh_H_mean_outage.iloc[n_prophet:][value_col].copy()\n",
    "df_T_test = df_T_test.reset_index()\n",
    "df_T_test = df_T_test.rename(columns={'time_idx':'ds', value_col:'y'})\n",
    "\n",
    "od_preds = od.predict(\n",
    "    df_T_test,\n",
    "    return_instance_score=True,\n",
    "    return_forecast=True\n",
    ")\n",
    "print(od_preds['data'].keys())\n",
    "od_preds['data']['forecast'].plot(x='ds', y='yhat', figsize=(20,5));"
   ]
  },
  {
   "cell_type": "code",
   "execution_count": null,
   "id": "0028e2d5",
   "metadata": {},
   "outputs": [],
   "source": []
  },
  {
   "cell_type": "code",
   "execution_count": null,
   "id": "7ad6f98d",
   "metadata": {},
   "outputs": [],
   "source": []
  },
  {
   "cell_type": "code",
   "execution_count": null,
   "id": "33621bae",
   "metadata": {},
   "outputs": [],
   "source": []
  },
  {
   "cell_type": "code",
   "execution_count": null,
   "id": "ef86cba7",
   "metadata": {},
   "outputs": [],
   "source": []
  },
  {
   "cell_type": "code",
   "execution_count": null,
   "id": "a4f6a9ab",
   "metadata": {},
   "outputs": [],
   "source": []
  },
  {
   "cell_type": "code",
   "execution_count": null,
   "id": "da73d700",
   "metadata": {},
   "outputs": [],
   "source": [
    "n_to_pred = 100\n",
    "future = od.model.make_future_dataframe(periods=n_to_pred, freq='H', include_history=True)\n",
    "forecast = od.model.predict(future)\n",
    "fig = od.model.plot(forecast)\n",
    "# fig = od.model.plot_components(forecast)"
   ]
  },
  {
   "cell_type": "code",
   "execution_count": null,
   "id": "3cc758da",
   "metadata": {},
   "outputs": [],
   "source": [
    "save_figs = False\n",
    "fig = od.model.plot_components(forecast)\n",
    "#----------------------------------------\n",
    "if save_figs:\n",
    "    save_dir = r'C:\\Users\\s346557\\Documents\\Presentations\\GroupMeetings\\20220120\\Figures\\SampleUsage'\n",
    "    save_name = 'fb_prophet_2.png'\n",
    "    fig.savefig(os.path.join(save_dir, save_name))\n",
    "#---------------------------------------- "
   ]
  },
  {
   "cell_type": "code",
   "execution_count": null,
   "id": "b6be4f12",
   "metadata": {},
   "outputs": [],
   "source": []
  },
  {
   "cell_type": "code",
   "execution_count": null,
   "id": "e672c439",
   "metadata": {},
   "outputs": [],
   "source": [
    "save_figs = False\n",
    "\n",
    "fig, ax = plt.subplots(1, 1, num=fig_num, figsize=[14, 6])\n",
    "subplots_adjust_args = {'left':0.075, 'right':0.975, \n",
    "                        'bottom':0.15, 'top':0.95, \n",
    "                        'wspace':0.2, 'hspace':0.35}\n",
    "plt.subplots_adjust(**subplots_adjust_args)\n",
    "\n",
    "forecast_to_plot = forecast.iloc[:len(df_T)]\n",
    "forecast_to_plot['y'] = df_T['y']\n",
    "forecast_to_plot.plot(ax=ax, x='ds', y=['y', 'yhat'], figsize=(20,10), color=['goldenrod', 'C0'], label=['Data', 'Fit (OutlierProphet)'])\n",
    "ax.fill_between(forecast_to_plot['ds'].values, \n",
    "                forecast_to_plot['yhat_lower'], \n",
    "                forecast_to_plot['yhat_upper'], alpha=0.2)\n",
    "ax.legend(fontsize=20)\n",
    "ax.set_title(label=f'Hourly Average Consumption (kWh)', fontsize=25)\n",
    "ax.set_xlabel(xlabel='Datetime', fontsize=30, x=0.9, y=0.0, ha='right', va='top')\n",
    "ax.set_ylabel(ylabel='kWh', fontsize=30, x=0.0, y=0.8, ha='left', va='bottom')\n",
    "ax.tick_params(axis='x', labelrotation=45, labelsize=20)\n",
    "ax.tick_params(axis='x', which='minor', labelsize=20)\n",
    "ax.tick_params(axis='y', labelsize=20)\n",
    "#----------------------------------------\n",
    "if save_figs:\n",
    "    save_dir = r'C:\\Users\\s346557\\Documents\\Presentations\\GroupMeetings\\20220120\\Figures\\SampleUsage'\n",
    "    save_name = 'fb_prophet_1.png'\n",
    "    fig.savefig(os.path.join(save_dir, save_name))\n",
    "#---------------------------------------- "
   ]
  },
  {
   "cell_type": "code",
   "execution_count": null,
   "id": "83a72b77",
   "metadata": {},
   "outputs": [],
   "source": []
  },
  {
   "cell_type": "code",
   "execution_count": null,
   "id": "18176ad3",
   "metadata": {},
   "outputs": [],
   "source": []
  },
  {
   "cell_type": "code",
   "execution_count": null,
   "id": "00fb40d9",
   "metadata": {},
   "outputs": [],
   "source": [
    "ax=od_preds['data']['forecast'].plot(x='ds', y=['yhat'], figsize=(20,10))\n",
    "df_T_test.plot(x='ds', y='y', ax=ax)\n",
    "plt.fill_between(od_preds['data']['forecast']['ds'].values, \n",
    "                 od_preds['data']['forecast']['yhat_lower'], \n",
    "                 od_preds['data']['forecast']['yhat_upper'], alpha=0.2)"
   ]
  },
  {
   "cell_type": "code",
   "execution_count": null,
   "id": "99fa5665",
   "metadata": {},
   "outputs": [],
   "source": []
  },
  {
   "cell_type": "code",
   "execution_count": null,
   "id": "87f13eb3",
   "metadata": {},
   "outputs": [],
   "source": []
  },
  {
   "cell_type": "code",
   "execution_count": null,
   "id": "680f0e22",
   "metadata": {},
   "outputs": [],
   "source": []
  },
  {
   "cell_type": "code",
   "execution_count": null,
   "id": "39ed54b9",
   "metadata": {},
   "outputs": [],
   "source": [
    "ax=od_preds['data']['forecast'].plot(x='ds', y=['score'], figsize=(20,10))\n",
    "ax.axhline(y=0, label='threshold', color='red')"
   ]
  },
  {
   "cell_type": "code",
   "execution_count": null,
   "id": "ea786f73",
   "metadata": {},
   "outputs": [],
   "source": [
    "df_kwh_H_mean_outage.iloc[n_prophet:][df_kwh_H_mean_outage.iloc[n_prophet:][value_col].isna()]"
   ]
  },
  {
   "cell_type": "code",
   "execution_count": null,
   "id": "5dde2d20",
   "metadata": {},
   "outputs": [],
   "source": []
  },
  {
   "cell_type": "code",
   "execution_count": null,
   "id": "c22e4553",
   "metadata": {},
   "outputs": [],
   "source": []
  },
  {
   "cell_type": "code",
   "execution_count": null,
   "id": "33dea5df",
   "metadata": {},
   "outputs": [],
   "source": [
    "# col_of_interest='value'\n",
    "# threshold=.9\n",
    "\n",
    "col_of_interest='returns'\n",
    "threshold=.99\n",
    "\n",
    "# col_of_interest='sq_returns'\n",
    "# threshold=.9"
   ]
  },
  {
   "cell_type": "code",
   "execution_count": null,
   "id": "f1123f8d",
   "metadata": {},
   "outputs": [],
   "source": [
    "exclude_fit_min = out_t_end.floor(freq='D')-datetime.timedelta(days=3)\n",
    "exclude_fit_max = out_t_end.ceil(freq='D')+datetime.timedelta(days=3)\n",
    "df_kwh_H_mean_outage['2020-06-20 00:00:00':'2020-06-23 00:00:00'][col_of_interest].plot()"
   ]
  },
  {
   "cell_type": "code",
   "execution_count": null,
   "id": "d56f8db8",
   "metadata": {},
   "outputs": [],
   "source": []
  },
  {
   "cell_type": "code",
   "execution_count": null,
   "id": "94cc2ee3",
   "metadata": {},
   "outputs": [],
   "source": [
    "df_train = df_kwh_H_mean_outage[[col_of_interest]].copy()\n",
    "df_train[exclude_fit_min:exclude_fit_max] = np.nan\n",
    "df_train = df_train.reset_index()\n",
    "df_train = df_train.rename(columns={'time_idx':'ds', col_of_interest:'y'})\n",
    "df_train.loc[df_train['y'].isin([np.inf, -np.inf]), 'y'] = np.nan\n",
    "df_train.plot(x='ds', y='y', figsize=(20,10))"
   ]
  },
  {
   "cell_type": "code",
   "execution_count": null,
   "id": "6a5c84e1",
   "metadata": {},
   "outputs": [],
   "source": [
    "df_test = df_kwh_H_mean_outage[exclude_fit_min:exclude_fit_max][col_of_interest].copy()\n",
    "df_test = df_test.reset_index()\n",
    "df_test = df_test.rename(columns={'time_idx':'ds', col_of_interest:'y'})\n",
    "df_test.loc[df_test['y'].isin([np.inf, -np.inf]), 'y'] = np.nan\n",
    "df_test.plot(x='ds', y='y', figsize=(20,10))"
   ]
  },
  {
   "cell_type": "code",
   "execution_count": null,
   "id": "6054166b",
   "metadata": {},
   "outputs": [],
   "source": [
    "df_full = df_kwh_H_mean_outage[col_of_interest].copy()\n",
    "df_full = df_full.reset_index()\n",
    "df_full = df_full.rename(columns={'time_idx':'ds', col_of_interest:'y'})\n",
    "df_full.loc[df_full['y'].isin([np.inf, -np.inf]), 'y'] = np.nan\n",
    "df_full.plot(x='ds', y='y', figsize=(20,10))"
   ]
  },
  {
   "cell_type": "code",
   "execution_count": null,
   "id": "12deec15",
   "metadata": {},
   "outputs": [],
   "source": []
  },
  {
   "cell_type": "code",
   "execution_count": null,
   "id": "5a56e975",
   "metadata": {},
   "outputs": [],
   "source": [
    "od2 = OutlierProphet(threshold=threshold)\n",
    "od2.fit(df_train)"
   ]
  },
  {
   "cell_type": "code",
   "execution_count": null,
   "id": "0dd917dc",
   "metadata": {},
   "outputs": [],
   "source": [
    "od2_preds = od2.predict(\n",
    "    df_test,\n",
    "    return_instance_score=True,\n",
    "    return_forecast=True\n",
    ")\n",
    "ax=od2_preds['data']['forecast'].plot(x='ds', y=['yhat'], figsize=(20,10))\n",
    "df_test.plot(x='ds', y='y', ax=ax)\n",
    "df_test[od2_preds['data']['is_outlier']['is_outlier']==1].plot.scatter(x='ds', y='y', ax=ax, color='red', label='Outliers')\n",
    "plt.fill_between(od2_preds['data']['forecast']['ds'].values, \n",
    "                 od2_preds['data']['forecast']['yhat_lower'], \n",
    "                 od2_preds['data']['forecast']['yhat_upper'], alpha=0.2)\n",
    "ax.axvline(out_t_beg, color='red')\n",
    "ax.axvline(out_t_end, color='lawngreen')"
   ]
  },
  {
   "cell_type": "code",
   "execution_count": null,
   "id": "def9fb37",
   "metadata": {},
   "outputs": [],
   "source": []
  },
  {
   "cell_type": "code",
   "execution_count": null,
   "id": "8d627452",
   "metadata": {},
   "outputs": [],
   "source": []
  },
  {
   "cell_type": "code",
   "execution_count": null,
   "id": "875c75f8",
   "metadata": {},
   "outputs": [],
   "source": [
    "od2_preds = od2.predict(\n",
    "    df_full,\n",
    "    return_instance_score=True,\n",
    "    return_forecast=True\n",
    ")\n",
    "ax=od2_preds['data']['forecast'].plot(x='ds', y=['yhat'], figsize=(20,10))\n",
    "df_full.plot(x='ds', y='y', ax=ax)\n",
    "df_full[od2_preds['data']['is_outlier']['is_outlier']==1].plot.scatter(x='ds', y='y', ax=ax, color='red', label='Outliers')\n",
    "plt.fill_between(od2_preds['data']['forecast']['ds'].values, \n",
    "                 od2_preds['data']['forecast']['yhat_lower'], \n",
    "                 od2_preds['data']['forecast']['yhat_upper'], alpha=0.2)\n",
    "ax.axvline(out_t_beg, color='red')\n",
    "ax.axvline(out_t_end, color='lawngreen')"
   ]
  },
  {
   "cell_type": "code",
   "execution_count": null,
   "id": "542ccef8",
   "metadata": {},
   "outputs": [],
   "source": []
  },
  {
   "cell_type": "code",
   "execution_count": null,
   "id": "07b15703",
   "metadata": {},
   "outputs": [],
   "source": []
  },
  {
   "cell_type": "code",
   "execution_count": null,
   "id": "18918fa5",
   "metadata": {},
   "outputs": [],
   "source": []
  },
  {
   "cell_type": "code",
   "execution_count": null,
   "id": "7dbee4f6",
   "metadata": {},
   "outputs": [],
   "source": []
  },
  {
   "cell_type": "code",
   "execution_count": null,
   "id": "2ded3ece",
   "metadata": {},
   "outputs": [],
   "source": [
    "import stumpy\n",
    "from matplotlib.patches import Rectangle"
   ]
  },
  {
   "cell_type": "code",
   "execution_count": null,
   "id": "9c026764",
   "metadata": {},
   "outputs": [],
   "source": []
  },
  {
   "cell_type": "code",
   "execution_count": null,
   "id": "34470cfa",
   "metadata": {},
   "outputs": [],
   "source": [
    "m=24\n",
    "col_of_interest=value_col\n",
    "mp = stumpy.stump(df_kwh_H_mean_outage[col_of_interest], m)"
   ]
  },
  {
   "cell_type": "code",
   "execution_count": null,
   "id": "a9893636",
   "metadata": {},
   "outputs": [],
   "source": [
    "motif_idx = np.argsort(mp[:, 0])[0]\n",
    "print(f\"The motif is located at index {motif_idx}\")"
   ]
  },
  {
   "cell_type": "code",
   "execution_count": null,
   "id": "5cd3b90d",
   "metadata": {},
   "outputs": [],
   "source": [
    "nearest_neighbor_idx = mp[motif_idx, 1]\n",
    "print(f\"The nearest neighbor is located at index {nearest_neighbor_idx}\")"
   ]
  },
  {
   "cell_type": "code",
   "execution_count": null,
   "id": "080e7312",
   "metadata": {},
   "outputs": [],
   "source": []
  },
  {
   "cell_type": "code",
   "execution_count": null,
   "id": "7d2a1f24",
   "metadata": {},
   "outputs": [],
   "source": []
  },
  {
   "cell_type": "code",
   "execution_count": null,
   "id": "449d69ca",
   "metadata": {},
   "outputs": [],
   "source": [
    "fig, axs = plt.subplots(2, sharex=True, gridspec_kw={'hspace': 0}, figsize=(20,10))\n",
    "plt.suptitle('Motif (Pattern) Discovery', fontsize='30')\n",
    "\n",
    "axs[0].plot(df_kwh_H_mean_outage[col_of_interest].values)\n",
    "axs[0].set_ylabel('kWh Mean', fontsize='20')\n",
    "rect = Rectangle((motif_idx, 0), m, \n",
    "                 df_kwh_H_mean_outage[~df_kwh_H_mean_outage[col_of_interest].isin([np.inf, -np.inf])][col_of_interest].max(), \n",
    "                 facecolor='lightgrey')\n",
    "axs[0].add_patch(rect)\n",
    "rect = Rectangle((nearest_neighbor_idx, 0), m, \n",
    "                 df_kwh_H_mean_outage[~df_kwh_H_mean_outage[col_of_interest].isin([np.inf, -np.inf])][col_of_interest].max(), \n",
    "                 facecolor='lightgrey')\n",
    "axs[0].add_patch(rect)\n",
    "axs[1].set_xlabel('Time', fontsize ='20')\n",
    "axs[1].set_ylabel('Matrix Profile', fontsize='20')\n",
    "axs[1].axvline(x=motif_idx, linestyle=\"dashed\")\n",
    "axs[1].axvline(x=nearest_neighbor_idx, linestyle=\"dashed\")\n",
    "axs[1].plot(mp[:, 0])\n"
   ]
  },
  {
   "cell_type": "code",
   "execution_count": null,
   "id": "270d2ab7",
   "metadata": {},
   "outputs": [],
   "source": []
  },
  {
   "cell_type": "code",
   "execution_count": null,
   "id": "0c52e7b3",
   "metadata": {},
   "outputs": [],
   "source": [
    "discord_idx = np.argsort(mp[:, 0])[-1]\n",
    "print(f\"The discord is located at index {discord_idx}\")"
   ]
  },
  {
   "cell_type": "code",
   "execution_count": null,
   "id": "c906c339",
   "metadata": {},
   "outputs": [],
   "source": [
    "nearest_neighbor_distance = mp[discord_idx, 0]\n",
    "print(f\"The nearest neighbor subsequence to this discord is {nearest_neighbor_distance} units away\")"
   ]
  },
  {
   "cell_type": "code",
   "execution_count": null,
   "id": "418820f9",
   "metadata": {},
   "outputs": [],
   "source": []
  },
  {
   "cell_type": "code",
   "execution_count": null,
   "id": "71c92f11",
   "metadata": {},
   "outputs": [],
   "source": []
  },
  {
   "cell_type": "code",
   "execution_count": null,
   "id": "741191bc",
   "metadata": {},
   "outputs": [],
   "source": [
    "from statsmodels.tsa.holtwinters import ExponentialSmoothing"
   ]
  },
  {
   "cell_type": "code",
   "execution_count": null,
   "id": "50c3d71f",
   "metadata": {},
   "outputs": [],
   "source": [
    "df_kwh_H_mean_outage[value_col].plot(figsize=(20,10))"
   ]
  },
  {
   "cell_type": "code",
   "execution_count": null,
   "id": "e98b427f",
   "metadata": {},
   "outputs": [],
   "source": [
    "df_kwh_H_mean_no_outage_cpy = df_kwh_H_mean_no_outage.copy()\n",
    "df_kwh_H_mean_no_outage_cpy['ExpSmooth'] = ExponentialSmoothing(df_kwh_H_mean_no_outage_cpy[value_col], trend='add', seasonal='add', seasonal_periods=24).fit().fittedvalues"
   ]
  },
  {
   "cell_type": "code",
   "execution_count": null,
   "id": "79d09e3a",
   "metadata": {},
   "outputs": [],
   "source": [
    "df_kwh_H_mean_no_outage_cpy.plot(y=[value_col, 'ExpSmooth'], figsize=(20,10))"
   ]
  },
  {
   "cell_type": "code",
   "execution_count": null,
   "id": "0f9b840c",
   "metadata": {},
   "outputs": [],
   "source": []
  },
  {
   "cell_type": "markdown",
   "id": "970ac099",
   "metadata": {},
   "source": [
    "# fbprophet testing\n",
    "from https://machinelearningmastery.com/time-series-forecasting-with-prophet-in-python/"
   ]
  },
  {
   "cell_type": "code",
   "execution_count": null,
   "id": "4c63ca3e",
   "metadata": {},
   "outputs": [],
   "source": [
    "# check prophet version\n",
    "import fbprophet\n",
    "# print version number\n",
    "print('Prophet %s' % fbprophet.__version__)"
   ]
  },
  {
   "cell_type": "code",
   "execution_count": null,
   "id": "b7bf34de",
   "metadata": {},
   "outputs": [],
   "source": [
    "# load the car sales dataset\n",
    "from pandas import read_csv\n",
    "# load data\n",
    "path = 'https://raw.githubusercontent.com/jbrownlee/Datasets/master/monthly-car-sales.csv'\n",
    "df = read_csv(path, header=0)\n",
    "# summarize shape\n",
    "print(df.shape)\n",
    "# show first few rows\n",
    "print(df.head())"
   ]
  },
  {
   "cell_type": "code",
   "execution_count": null,
   "id": "c73332a5",
   "metadata": {},
   "outputs": [],
   "source": [
    "# load and plot the car sales dataset\n",
    "from pandas import read_csv\n",
    "from matplotlib import pyplot\n",
    "# load data\n",
    "path = 'https://raw.githubusercontent.com/jbrownlee/Datasets/master/monthly-car-sales.csv'\n",
    "df = read_csv(path, header=0)\n",
    "# plot the time series\n",
    "df.plot()\n",
    "pyplot.show()"
   ]
  },
  {
   "cell_type": "code",
   "execution_count": null,
   "id": "1c89eefe",
   "metadata": {},
   "outputs": [],
   "source": [
    "# prepare expected column names\n",
    "df.columns = ['ds', 'y']\n",
    "df['ds']= pd.to_datetime(df['ds'])"
   ]
  },
  {
   "cell_type": "code",
   "execution_count": null,
   "id": "919734ad",
   "metadata": {},
   "outputs": [],
   "source": [
    "# fit prophet model on the car sales dataset\n",
    "from pandas import read_csv\n",
    "from pandas import to_datetime\n",
    "from fbprophet import Prophet\n",
    "# load data\n",
    "path = 'https://raw.githubusercontent.com/jbrownlee/Datasets/master/monthly-car-sales.csv'\n",
    "df = read_csv(path, header=0)\n",
    "# prepare expected column names\n",
    "df.columns = ['ds', 'y']\n",
    "df['ds']= to_datetime(df['ds'])\n",
    "# define the model\n",
    "model = Prophet()\n",
    "# fit the model\n",
    "model.fit(df)"
   ]
  },
  {
   "cell_type": "code",
   "execution_count": null,
   "id": "56b08310",
   "metadata": {},
   "outputs": [],
   "source": [
    "# define the period for which we want a prediction\n",
    "future = list()\n",
    "for i in range(1, 13):\n",
    "    date = '1968-%02d' % i\n",
    "    future.append([date])\n",
    "future = pd.DataFrame(future)\n",
    "future.columns = ['ds']\n",
    "future['ds']= to_datetime(future['ds'])"
   ]
  },
  {
   "cell_type": "code",
   "execution_count": null,
   "id": "d950e965",
   "metadata": {},
   "outputs": [],
   "source": [
    "# summarize the forecast\n",
    "print(forecast[['ds', 'yhat', 'yhat_lower', 'yhat_upper']].head())"
   ]
  },
  {
   "cell_type": "code",
   "execution_count": null,
   "id": "0f067185",
   "metadata": {},
   "outputs": [],
   "source": [
    "print(forecast[['ds', 'yhat', 'yhat_lower', 'yhat_upper']].head())\n",
    "# plot forecast\n",
    "model.plot(forecast);"
   ]
  },
  {
   "cell_type": "code",
   "execution_count": null,
   "id": "7a0747f4",
   "metadata": {},
   "outputs": [],
   "source": [
    "# define the period for which we want a prediction\n",
    "future = list()\n",
    "for i in range(1, 13):\n",
    "    date = '1969-%02d' % i\n",
    "    future.append([date])\n",
    "future = pd.DataFrame(future)\n",
    "future.columns = ['ds']\n",
    "future['ds']= to_datetime(future['ds'])"
   ]
  },
  {
   "cell_type": "code",
   "execution_count": null,
   "id": "b04b302c",
   "metadata": {},
   "outputs": [],
   "source": [
    "# use the model to make a forecast\n",
    "forecast = model.predict(future)\n",
    "# summarize the forecast\n",
    "print(forecast[['ds', 'yhat', 'yhat_lower', 'yhat_upper']].head())\n",
    "# plot forecast\n",
    "model.plot(forecast)\n",
    "pyplot.show()"
   ]
  },
  {
   "cell_type": "code",
   "execution_count": null,
   "id": "14c00237",
   "metadata": {},
   "outputs": [],
   "source": []
  },
  {
   "cell_type": "code",
   "execution_count": null,
   "id": "29197ab8",
   "metadata": {},
   "outputs": [],
   "source": [
    "# create test dataset, remove last 12 months\n",
    "train = df.drop(df.index[-12:])\n",
    "print(train.tail())"
   ]
  },
  {
   "cell_type": "code",
   "execution_count": null,
   "id": "63df8d1a",
   "metadata": {},
   "outputs": [],
   "source": [
    "from sklearn.metrics import mean_absolute_error\n",
    "# calculate MAE between expected and predicted values for december\n",
    "y_true = df['y'][-12:].values\n",
    "y_pred = forecast['yhat'].values\n",
    "mae = mean_absolute_error(y_true, y_pred)\n",
    "print('MAE: %.3f' % mae)"
   ]
  },
  {
   "cell_type": "code",
   "execution_count": null,
   "id": "bae83f44",
   "metadata": {},
   "outputs": [],
   "source": [
    "# plot expected vs actual\n",
    "pyplot.plot(y_true, label='Actual')\n",
    "pyplot.plot(y_pred, label='Predicted')\n",
    "pyplot.legend()\n",
    "pyplot.show()"
   ]
  },
  {
   "cell_type": "code",
   "execution_count": null,
   "id": "14963ef7",
   "metadata": {},
   "outputs": [],
   "source": []
  },
  {
   "cell_type": "code",
   "execution_count": null,
   "id": "05233ad1",
   "metadata": {},
   "outputs": [],
   "source": []
  },
  {
   "cell_type": "code",
   "execution_count": null,
   "id": "f03fab79",
   "metadata": {},
   "outputs": [],
   "source": []
  },
  {
   "cell_type": "code",
   "execution_count": null,
   "id": "f0e9a1f5",
   "metadata": {},
   "outputs": [],
   "source": []
  },
  {
   "cell_type": "code",
   "execution_count": null,
   "id": "d90c0964",
   "metadata": {},
   "outputs": [],
   "source": [
    "df_T['y'].plot(figsize=(12,5))"
   ]
  },
  {
   "cell_type": "code",
   "execution_count": null,
   "id": "1922ce8e",
   "metadata": {},
   "outputs": [],
   "source": [
    "my_model = Prophet()\n",
    "my_model.fit(df_T)"
   ]
  },
  {
   "cell_type": "code",
   "execution_count": null,
   "id": "db72be07",
   "metadata": {},
   "outputs": [],
   "source": [
    "df_T"
   ]
  },
  {
   "cell_type": "code",
   "execution_count": null,
   "id": "c3886adc",
   "metadata": {},
   "outputs": [],
   "source": [
    "df_T_last_week = df_T.iloc[-7*24:].copy()\n",
    "df_T_last_week.drop(columns=['y'], inplace=True)"
   ]
  },
  {
   "cell_type": "code",
   "execution_count": null,
   "id": "6cff4ec6",
   "metadata": {},
   "outputs": [],
   "source": [
    "df_T_last_week"
   ]
  },
  {
   "cell_type": "code",
   "execution_count": null,
   "id": "aabb02e5",
   "metadata": {},
   "outputs": [],
   "source": [
    "my_forecast_last_week = my_model.predict(df_T_last_week)"
   ]
  },
  {
   "cell_type": "code",
   "execution_count": null,
   "id": "971e0c0b",
   "metadata": {},
   "outputs": [],
   "source": [
    "print(my_forecast_last_week[['ds', 'yhat', 'yhat_lower', 'yhat_upper']].head())"
   ]
  },
  {
   "cell_type": "code",
   "execution_count": null,
   "id": "673e03fa",
   "metadata": {},
   "outputs": [],
   "source": [
    "my_model.plot(my_forecast_last_week);"
   ]
  },
  {
   "cell_type": "code",
   "execution_count": null,
   "id": "946e27de",
   "metadata": {},
   "outputs": [],
   "source": [
    "df_T.iloc[-7*24:].reset_index()['y'].plot()\n",
    "my_forecast_last_week['yhat'].plot()"
   ]
  },
  {
   "cell_type": "code",
   "execution_count": null,
   "id": "644dfebd",
   "metadata": {},
   "outputs": [],
   "source": []
  },
  {
   "cell_type": "code",
   "execution_count": null,
   "id": "b4fa8096",
   "metadata": {},
   "outputs": [],
   "source": []
  },
  {
   "cell_type": "code",
   "execution_count": null,
   "id": "457e0e60",
   "metadata": {},
   "outputs": [],
   "source": [
    "df_kwh_H_mean_outage[~df_kwh_H_mean_outage['returns'].isin([np.nan, np.inf, -np.inf])].describe()"
   ]
  },
  {
   "cell_type": "code",
   "execution_count": null,
   "id": "88031e6d",
   "metadata": {},
   "outputs": [],
   "source": [
    "trim(df_kwh_H_mean_outage[~df_kwh_H_mean_outage['returns'].isin([np.nan, np.inf, -np.inf])], (0.0, 0.0025), relative=True).max()"
   ]
  },
  {
   "cell_type": "code",
   "execution_count": null,
   "id": "bf525a77",
   "metadata": {},
   "outputs": [],
   "source": [
    "df_kwh_H_mean_outage[~df_kwh_H_mean_outage['returns'].isin([np.nan, np.inf, -np.inf])]['returns'].hist()"
   ]
  },
  {
   "cell_type": "code",
   "execution_count": null,
   "id": "3fde6593",
   "metadata": {},
   "outputs": [],
   "source": [
    "df_kwh_H_mean_outage[~df_kwh_H_mean_outage['returns'].isin([np.nan, np.inf, -np.inf])][value_col].max()"
   ]
  },
  {
   "cell_type": "code",
   "execution_count": null,
   "id": "4f694f61",
   "metadata": {},
   "outputs": [],
   "source": [
    "from scipy.stats.mstats import trim"
   ]
  },
  {
   "cell_type": "code",
   "execution_count": null,
   "id": "31e4e257",
   "metadata": {},
   "outputs": [],
   "source": [
    "tmp = trim(df_kwh_15T_outage['returns'], (0.02, 0.02), relative=True)"
   ]
  },
  {
   "cell_type": "code",
   "execution_count": null,
   "id": "a5e8f245",
   "metadata": {},
   "outputs": [],
   "source": [
    "tmp.max()"
   ]
  },
  {
   "cell_type": "code",
   "execution_count": null,
   "id": "8e528a62",
   "metadata": {},
   "outputs": [],
   "source": [
    "tmp_df = df_kwh_15T_outage.copy()\n",
    "tmp_df = tmp_df[tmp_df['returns'].notna()]\n",
    "tmp_df = tmp_df[~tmp_df['returns'].isin([np.nan, np.inf, -np.inf])]\n",
    "for _ in range(1):\n",
    "    tmp_df, info = GrubbsTest.identify_outliers_in_metric_column(tmp_df, 'returns', include_output_info=True, inplace=False)"
   ]
  },
  {
   "cell_type": "code",
   "execution_count": null,
   "id": "e28f4a63",
   "metadata": {},
   "outputs": [],
   "source": [
    "tmp_df['returns'].max()"
   ]
  },
  {
   "cell_type": "code",
   "execution_count": null,
   "id": "7d91000a",
   "metadata": {},
   "outputs": [],
   "source": []
  },
  {
   "cell_type": "code",
   "execution_count": null,
   "id": "8151a42e",
   "metadata": {},
   "outputs": [],
   "source": []
  },
  {
   "cell_type": "code",
   "execution_count": null,
   "id": "ab669c58",
   "metadata": {},
   "outputs": [],
   "source": []
  },
  {
   "cell_type": "code",
   "execution_count": null,
   "id": "667019b6",
   "metadata": {},
   "outputs": [],
   "source": []
  },
  {
   "cell_type": "code",
   "execution_count": null,
   "id": "830280c4",
   "metadata": {},
   "outputs": [],
   "source": []
  },
  {
   "cell_type": "code",
   "execution_count": null,
   "id": "53a00033",
   "metadata": {},
   "outputs": [],
   "source": []
  },
  {
   "cell_type": "code",
   "execution_count": null,
   "id": "c771ed2d",
   "metadata": {},
   "outputs": [],
   "source": []
  },
  {
   "cell_type": "code",
   "execution_count": null,
   "id": "17aef773",
   "metadata": {},
   "outputs": [],
   "source": []
  },
  {
   "cell_type": "code",
   "execution_count": null,
   "id": "bd1381fb",
   "metadata": {},
   "outputs": [],
   "source": [
    "df_kwh_15T_mean_outage_cpy = df_kwh_15T_mean_outage.copy()\n",
    "df_kwh_15T_mean_outage_cpy.loc[df_kwh_15T_mean_outage_cpy['sq_returns'].isin([np.inf, -np.inf]), 'sq_returns'] = np.nan\n",
    "tmp_lst = sorted(df_kwh_15T_mean_outage_cpy['sq_returns'].values, reverse=True)\n",
    "\n",
    "n_within_order_of_mag = 10\n",
    "limit_found = False\n",
    "i=0\n",
    "while i<len(tmp_lst) and not limit_found:\n",
    "    limit = tmp_lst[i]\n",
    "    ratio = tmp_lst[i]/tmp_lst[i+n_within_order_of_mag]\n",
    "    if ratio < 10:\n",
    "        limit_found = True\n",
    "    i+=1\n",
    "    \n",
    "print(limit)"
   ]
  },
  {
   "cell_type": "code",
   "execution_count": null,
   "id": "a7ba4c33",
   "metadata": {},
   "outputs": [],
   "source": [
    "limit"
   ]
  },
  {
   "cell_type": "code",
   "execution_count": null,
   "id": "2d30f56e",
   "metadata": {},
   "outputs": [],
   "source": [
    "i"
   ]
  },
  {
   "cell_type": "code",
   "execution_count": null,
   "id": "cc01d525",
   "metadata": {},
   "outputs": [],
   "source": [
    "tmp_lst[5+10]"
   ]
  },
  {
   "cell_type": "code",
   "execution_count": null,
   "id": "55e2ca82",
   "metadata": {},
   "outputs": [],
   "source": [
    "tmp_lst[1]/tmp_lst[1+10]"
   ]
  },
  {
   "cell_type": "code",
   "execution_count": null,
   "id": "cd8adccd",
   "metadata": {},
   "outputs": [],
   "source": [
    "ax=df_kwh_15T_mean_outage_cpy['sq_returns'].plot(figsize=(20,5))\n",
    "ax.set_ylim([0,70000])"
   ]
  },
  {
   "cell_type": "code",
   "execution_count": null,
   "id": "eed17eb0",
   "metadata": {},
   "outputs": [],
   "source": [
    "ax=df_kwh_15T_mean_outage['sq_returns'].plot(figsize=(20,5))\n",
    "plt.title(\"15T Mean Volatility - Outage (AFTER)\", size = 24)\n",
    "ax.set_ylim([0, limit])"
   ]
  },
  {
   "cell_type": "code",
   "execution_count": null,
   "id": "26c7e7fc",
   "metadata": {},
   "outputs": [],
   "source": []
  },
  {
   "cell_type": "code",
   "execution_count": null,
   "id": "a670c87e",
   "metadata": {},
   "outputs": [],
   "source": []
  },
  {
   "cell_type": "code",
   "execution_count": null,
   "id": "8b94d5d6",
   "metadata": {},
   "outputs": [],
   "source": [
    "dfs_vlt_dict['H'][df_key]"
   ]
  },
  {
   "cell_type": "code",
   "execution_count": null,
   "id": "e1aba981",
   "metadata": {},
   "outputs": [],
   "source": [
    "expand_time = datetime.timedelta(days=10)\n",
    "dfs_vlt_dict['H'][df_agg_key][out_t_beg-expand_time:out_t_end+expand_time].plot(x='endtimeperiod_utc', y=value_col, figsize=(20,5))"
   ]
  },
  {
   "cell_type": "code",
   "execution_count": null,
   "id": "9d2c6686",
   "metadata": {},
   "outputs": [],
   "source": [
    "df_vlt_H_mean_cpy = dfs_vlt_dict['H'][df_agg_key].copy()\n",
    "#df_vlt_H_mean_cpy.loc[df_vlt_H_mean_cpy['value'].isin([np.inf, -np.inf]), 'value'] = np.nan\n",
    "df_vlt_H_mean_cpy=df_vlt_H_mean_cpy.loc[~df_vlt_H_mean_cpy[value_col].isin([np.nan, np.inf, -np.inf])]\n",
    "tmp_lst = sorted(df_vlt_H_mean_cpy[value_col].values, reverse=False)\n",
    "tmp_lst=np.unique(tmp_lst)\n",
    "\n",
    "n_within_order_of_mag = 10\n",
    "limit_found = False\n",
    "i=0\n",
    "while i<len(tmp_lst)-n_within_order_of_mag and not limit_found:\n",
    "    limit = tmp_lst[i]\n",
    "    ratio = tmp_lst[i]/tmp_lst[i+n_within_order_of_mag]\n",
    "    print(ratio)\n",
    "    if ratio > 0.1:\n",
    "        limit_found = True\n",
    "    i+=1\n",
    "    \n",
    "print(limit)"
   ]
  },
  {
   "cell_type": "code",
   "execution_count": null,
   "id": "80c04803",
   "metadata": {},
   "outputs": [],
   "source": [
    "limit_found"
   ]
  },
  {
   "cell_type": "code",
   "execution_count": null,
   "id": "fa05f109",
   "metadata": {},
   "outputs": [],
   "source": [
    "tmp_lst[1]"
   ]
  },
  {
   "cell_type": "code",
   "execution_count": null,
   "id": "551910f5",
   "metadata": {},
   "outputs": [],
   "source": [
    "tmp_lst[2:]"
   ]
  },
  {
   "cell_type": "code",
   "execution_count": null,
   "id": "ef5b0edc",
   "metadata": {},
   "outputs": [],
   "source": []
  },
  {
   "cell_type": "code",
   "execution_count": null,
   "id": "8fdacb17",
   "metadata": {},
   "outputs": [],
   "source": [
    "limit"
   ]
  },
  {
   "cell_type": "code",
   "execution_count": null,
   "id": "5702c413",
   "metadata": {},
   "outputs": [],
   "source": [
    "len(tmp_lst)"
   ]
  },
  {
   "cell_type": "code",
   "execution_count": null,
   "id": "2e569ed4",
   "metadata": {},
   "outputs": [],
   "source": [
    "# tmp_lst[27805]"
   ]
  },
  {
   "cell_type": "code",
   "execution_count": null,
   "id": "997c561d",
   "metadata": {},
   "outputs": [],
   "source": [
    "len(tmp_lst)"
   ]
  },
  {
   "cell_type": "code",
   "execution_count": null,
   "id": "bd3ba4cc",
   "metadata": {},
   "outputs": [],
   "source": [
    "tmp_lst[19388:]"
   ]
  },
  {
   "cell_type": "code",
   "execution_count": null,
   "id": "ee270f88",
   "metadata": {},
   "outputs": [],
   "source": [
    "df_vlt_H_mean_cpy = dfs_vlt_dict['H'][df_agg_key].copy()\n",
    "#df_vlt_H_mean_cpy.loc[df_vlt_H_mean_cpy['value'].isin([np.inf, -np.inf]), 'value'] = np.nan\n",
    "df_vlt_H_mean_cpy=df_vlt_H_mean_cpy.loc[~df_vlt_H_mean_cpy[value_col].isin([np.nan, np.inf, -np.inf])]"
   ]
  },
  {
   "cell_type": "code",
   "execution_count": null,
   "id": "870248e7",
   "metadata": {},
   "outputs": [],
   "source": [
    "df_vlt_H_mean_cpy.shape"
   ]
  },
  {
   "cell_type": "code",
   "execution_count": null,
   "id": "5d9ad508",
   "metadata": {},
   "outputs": [],
   "source": [
    "dfs_vlt_dict['H'][df_agg_key].shape"
   ]
  },
  {
   "cell_type": "code",
   "execution_count": null,
   "id": "6b9473be",
   "metadata": {},
   "outputs": [],
   "source": [
    "tmp_lst = sorted(df_vlt_H_mean_cpy[value_col].values, reverse=False)"
   ]
  },
  {
   "cell_type": "code",
   "execution_count": null,
   "id": "f6a6a1aa",
   "metadata": {},
   "outputs": [],
   "source": [
    "tmp_lst"
   ]
  },
  {
   "cell_type": "code",
   "execution_count": null,
   "id": "9702945b",
   "metadata": {},
   "outputs": [],
   "source": [
    "len(np.unique(tmp_lst))"
   ]
  },
  {
   "cell_type": "code",
   "execution_count": null,
   "id": "bb327ba0",
   "metadata": {},
   "outputs": [],
   "source": []
  },
  {
   "cell_type": "code",
   "execution_count": null,
   "id": "7289057f",
   "metadata": {},
   "outputs": [],
   "source": [
    "df_vlt_H_mean_cpy.groupby(value_col).ngroups"
   ]
  },
  {
   "cell_type": "code",
   "execution_count": null,
   "id": "5320e82c",
   "metadata": {},
   "outputs": [],
   "source": [
    "df_vlt_H_mean_cpy.shape"
   ]
  },
  {
   "cell_type": "code",
   "execution_count": null,
   "id": "70c3e02c",
   "metadata": {},
   "outputs": [],
   "source": []
  },
  {
   "cell_type": "code",
   "execution_count": null,
   "id": "cd9db404",
   "metadata": {},
   "outputs": [],
   "source": [
    "fuckn_df = df_kwh_15T[df_kwh_15T['serialnumber']==880693914].copy()\n",
    "fuckn_df.head()"
   ]
  },
  {
   "cell_type": "code",
   "execution_count": null,
   "id": "e9800eab",
   "metadata": {},
   "outputs": [],
   "source": [
    "fuckn_df['annual_kwh'].unique()"
   ]
  },
  {
   "cell_type": "code",
   "execution_count": null,
   "id": "a5ac2dcb",
   "metadata": {},
   "outputs": [],
   "source": [
    "fuckn_df['value'].sum()"
   ]
  },
  {
   "cell_type": "code",
   "execution_count": null,
   "id": "608d6531",
   "metadata": {},
   "outputs": [],
   "source": [
    "fuckn_df['2020-01-01 00:00:00':'2020-12-31 23:59:59']['value'].sum()"
   ]
  },
  {
   "cell_type": "code",
   "execution_count": null,
   "id": "59a3f35b",
   "metadata": {},
   "outputs": [],
   "source": [
    "fuckn_df['2020-01-01 00:00:00':'2020-12-31 23:59:59']['value'].max()"
   ]
  },
  {
   "cell_type": "code",
   "execution_count": null,
   "id": "08a4b914",
   "metadata": {},
   "outputs": [],
   "source": []
  },
  {
   "cell_type": "code",
   "execution_count": null,
   "id": "e503d069",
   "metadata": {},
   "outputs": [],
   "source": []
  },
  {
   "cell_type": "code",
   "execution_count": null,
   "id": "86de1000",
   "metadata": {},
   "outputs": [],
   "source": []
  },
  {
   "cell_type": "code",
   "execution_count": null,
   "id": "b14ed802",
   "metadata": {},
   "outputs": [],
   "source": []
  },
  {
   "cell_type": "code",
   "execution_count": null,
   "id": "6c20f0d3",
   "metadata": {},
   "outputs": [],
   "source": []
  },
  {
   "cell_type": "code",
   "execution_count": null,
   "id": "3e52beda",
   "metadata": {},
   "outputs": [],
   "source": []
  },
  {
   "cell_type": "code",
   "execution_count": null,
   "id": "9528d14e",
   "metadata": {},
   "outputs": [],
   "source": []
  },
  {
   "cell_type": "code",
   "execution_count": null,
   "id": "5bb32445",
   "metadata": {},
   "outputs": [],
   "source": []
  },
  {
   "cell_type": "code",
   "execution_count": null,
   "id": "41010fb9",
   "metadata": {},
   "outputs": [],
   "source": []
  },
  {
   "cell_type": "code",
   "execution_count": null,
   "id": "1168f490",
   "metadata": {},
   "outputs": [],
   "source": []
  },
  {
   "cell_type": "code",
   "execution_count": null,
   "id": "bd7ac689",
   "metadata": {},
   "outputs": [],
   "source": [
    "df_kwh_15T['prem_nb'].unique()"
   ]
  },
  {
   "cell_type": "code",
   "execution_count": null,
   "id": "bd730eb8",
   "metadata": {},
   "outputs": [],
   "source": [
    "df_kwh_15T['aep_derived_uom'].nunique()"
   ]
  },
  {
   "cell_type": "code",
   "execution_count": null,
   "id": "93ece188",
   "metadata": {},
   "outputs": [],
   "source": [
    "#prem_nb = 105148681\n",
    "prem_nb = 108248681"
   ]
  },
  {
   "cell_type": "code",
   "execution_count": null,
   "id": "f4330e1c",
   "metadata": {},
   "outputs": [],
   "source": [
    "ax=df_kwh_15T[df_kwh_15T['prem_nb']==prem_nb]['value'].rolling(window=35040).sum().plot()\n",
    "assert(df_kwh_15T[df_kwh_15T['prem_nb']==prem_nb]['annual_kwh'].nunique()==1)\n",
    "ax.axhline(y=df_kwh_15T[df_kwh_15T['prem_nb']==prem_nb].iloc[0]['annual_kwh'], \n",
    "           label='Quoted Annual kWh', color='red')\n"
   ]
  },
  {
   "cell_type": "code",
   "execution_count": null,
   "id": "331a21aa",
   "metadata": {},
   "outputs": [],
   "source": [
    "df_kwh_15T[df_kwh_15T['prem_nb']==prem_nb]['annual_kwh'].value_counts()"
   ]
  },
  {
   "cell_type": "code",
   "execution_count": null,
   "id": "f6194c9f",
   "metadata": {},
   "outputs": [],
   "source": [
    "df_kwh_15T[df_kwh_15T['prem_nb']==prem_nb]['2020-01-01 00:00:00':'2020-12-31 23:59:59']['value'].sum()"
   ]
  },
  {
   "cell_type": "code",
   "execution_count": null,
   "id": "59720c53",
   "metadata": {},
   "outputs": [],
   "source": [
    "df_kwh_15T[df_kwh_15T['prem_nb']==prem_nb].iloc[0]['annual_kwh']"
   ]
  },
  {
   "cell_type": "code",
   "execution_count": null,
   "id": "43797d4d",
   "metadata": {},
   "outputs": [],
   "source": [
    "df_kwh_15T['prem_nb'].nunique()"
   ]
  },
  {
   "cell_type": "code",
   "execution_count": null,
   "id": "6a9afa85",
   "metadata": {},
   "outputs": [],
   "source": [
    "def save_fig(fig, save_dir, save_name):\n",
    "    if not os.path.exists(save_dir):\n",
    "        os.makedirs(save_dir)\n",
    "    save_path = os.path.join(save_dir, save_name)\n",
    "    fig.savefig(save_path)"
   ]
  },
  {
   "cell_type": "code",
   "execution_count": null,
   "id": "a1c1c549",
   "metadata": {},
   "outputs": [],
   "source": [
    "save = False\n",
    "fig, axs = plt.subplots(2, 3, num=fig_num, figsize=[28, 18])\n",
    "plt.subplots_adjust(left=0.075, right=0.975, \n",
    "                    top=0.95, bottom=0.75, \n",
    "                    hspace=0.5)\n",
    "axs = axs.flatten()\n",
    "for i,prem_nb in enumerate(df_kwh_15T['prem_nb'].unique()):\n",
    "    df_kwh_15T[df_kwh_15T['prem_nb']==prem_nb]['value'].rolling(window=35040).sum().plot(ax=axs[i], label='12 month rolling average')\n",
    "    assert(df_kwh_15T[df_kwh_15T['prem_nb']==prem_nb]['annual_kwh'].nunique()==1)\n",
    "    axs[i].axhline(y=df_kwh_15T[df_kwh_15T['prem_nb']==prem_nb].iloc[0]['annual_kwh'], \n",
    "               label='Quoted Annual kWh', color='red')\n",
    "    axs[i].legend(fontsize=12)\n",
    "    axs[i].set_title(label=f'Premise #{prem_nb}', fontsize=25)\n",
    "    axs[i].set_xlabel(xlabel='Datetime', fontsize=20, x=0.9, y=0.0, ha='right', va='top')\n",
    "    axs[i].tick_params(axis='x', labelrotation=45, labelsize=15)\n",
    "    axs[i].tick_params(axis='y', labelsize=15)\n",
    "if save:\n",
    "    save_dir = r'C:\\Users\\s346557\\Documents\\Presentations\\GroupMeetings\\20220120\\Figures\\annual_kwh'\n",
    "    save_name = 'how_is_annual_kwh_calc.png'\n",
    "    save_fig(fig, save_dir, save_name)\n",
    "fig_num += 1"
   ]
  },
  {
   "cell_type": "code",
   "execution_count": null,
   "id": "fafc9d51",
   "metadata": {},
   "outputs": [],
   "source": []
  },
  {
   "cell_type": "code",
   "execution_count": null,
   "id": "bf742a3a",
   "metadata": {},
   "outputs": [],
   "source": []
  },
  {
   "cell_type": "code",
   "execution_count": null,
   "id": "45826d14",
   "metadata": {},
   "outputs": [],
   "source": [
    "df_kwh_15T"
   ]
  },
  {
   "cell_type": "code",
   "execution_count": null,
   "id": "219e9f9a",
   "metadata": {},
   "outputs": [],
   "source": []
  },
  {
   "cell_type": "code",
   "execution_count": null,
   "id": "65127267",
   "metadata": {},
   "outputs": [],
   "source": []
  }
 ],
 "metadata": {
  "kernelspec": {
   "display_name": "Python 3 (ipykernel)",
   "language": "python",
   "name": "python3"
  },
  "language_info": {
   "codemirror_mode": {
    "name": "ipython",
    "version": 3
   },
   "file_extension": ".py",
   "mimetype": "text/x-python",
   "name": "python",
   "nbconvert_exporter": "python",
   "pygments_lexer": "ipython3",
   "version": "3.11.7"
  }
 },
 "nbformat": 4,
 "nbformat_minor": 5
}
