{
 "cells": [
  {
   "cell_type": "code",
   "execution_count": 1,
   "id": "9b9a7216",
   "metadata": {},
   "outputs": [],
   "source": [
    "import sys, os\n",
    "import re\n",
    "\n",
    "import pandas as pd\n",
    "import numpy as np\n",
    "from pandas.api.types import is_numeric_dtype\n",
    "from scipy import stats\n",
    "import datetime\n",
    "\n",
    "import pyodbc\n",
    "#---------------------------------------------------------------------\n",
    "sys.path.insert(0, os.path.realpath('..'))\n",
    "import Utilities_config\n",
    "#-----\n",
    "import CommonLearningMethods as clm\n",
    "#---------------------------------------------------------------------\n",
    "import matplotlib.pyplot as plt\n",
    "import seaborn as sns\n",
    "from matplotlib.backends.backend_pdf import PdfPages\n",
    "import matplotlib.patches as mpatches\n",
    "from matplotlib.lines import Line2D\n",
    "import matplotlib.ticker as ticker\n",
    "#---------------------------------------------------------------------\n",
    "sys.path.insert(0, Utilities_config.get_utilities_dir())\n",
    "import Utilities\n",
    "import Utilities_df\n",
    "import Plot_Box_sns\n",
    "import GrubbsTest"
   ]
  },
  {
   "cell_type": "code",
   "execution_count": null,
   "id": "87939cfc",
   "metadata": {},
   "outputs": [],
   "source": []
  },
  {
   "cell_type": "markdown",
   "id": "22af3866",
   "metadata": {},
   "source": [
    "# NOTES\n",
    "\n",
    "instantaneous is old format\n",
    "<br> Horizontal format with one row for each meter(?)\n",
    "\n",
    "usage_instantaneous is new format\n",
    "<br> Tall format with multiple rows for each meter\n",
    "\n",
    "For each, the database to use is inst_msr_consume (I believe)\n",
    "\n",
    "\n",
    "Also, look into meter_events.end_device_event"
   ]
  },
  {
   "cell_type": "code",
   "execution_count": 2,
   "id": "f357dc36",
   "metadata": {},
   "outputs": [],
   "source": [
    "my_meter_premise_info = pd.read_csv(r'C:\\Users\\s346557\\Documents\\my_meter_premise_info.csv')\n",
    "my_meter_premise_info = clm.remove_prepend_from_columns_in_df(my_meter_premise_info)\n",
    "my_meter_premise_info_dict = my_meter_premise_info.squeeze().to_dict()"
   ]
  },
  {
   "cell_type": "code",
   "execution_count": null,
   "id": "5bd835d3",
   "metadata": {},
   "outputs": [],
   "source": []
  },
  {
   "cell_type": "markdown",
   "id": "36b78ed4",
   "metadata": {},
   "source": [
    "# Comparing instantaneous vs usage_instantaneous"
   ]
  },
  {
   "cell_type": "code",
   "execution_count": 3,
   "id": "2dc20243",
   "metadata": {},
   "outputs": [],
   "source": [
    "conn_aws = Utilities.get_athena_prod_aws_connection()"
   ]
  },
  {
   "cell_type": "code",
   "execution_count": 4,
   "id": "3421acba",
   "metadata": {},
   "outputs": [],
   "source": [
    "# cols_of_interest_usage_inst = [\n",
    "#     'read_type',\n",
    "#     'serialnumber',\n",
    "#     'aep_premise_nb',\n",
    "#     'timezoneoffset',\n",
    "#     'aep_readtime',\n",
    "#     'aep_readtime_utc',\n",
    "#     'measurement_type',\n",
    "#     'measurement_value',\n",
    "#     'longitude',\n",
    "#     'latitude',\n",
    "#     'aep_opco',\n",
    "#     'aep_read_dt'\n",
    "# ]\n",
    "\n",
    "# cols_of_interest_inst = [\n",
    "#     'meter_id', \n",
    "#     'read_time', \n",
    "#     'read_date', \n",
    "#     'msr_value', \n",
    "#     'msr_type'\n",
    "# ]\n",
    "\n",
    "cols_of_interest_usage_inst = [\n",
    "    '*'\n",
    "]\n",
    "\n",
    "cols_of_interest_inst = [\n",
    "    '*'\n",
    "]"
   ]
  },
  {
   "cell_type": "code",
   "execution_count": 5,
   "id": "51caef81",
   "metadata": {},
   "outputs": [],
   "source": [
    "date_range = ['2021-10-12', '2021-11-13']"
   ]
  },
  {
   "cell_type": "code",
   "execution_count": 6,
   "id": "2b853977",
   "metadata": {},
   "outputs": [],
   "source": [
    "sql_usg_inst = (\n",
    "\"\"\"\n",
    "SELECT {}\n",
    "FROM usage_instantaneous.inst_msr_consume\n",
    "WHERE aep_opco = 'oh' \n",
    "AND aep_read_dt BETWEEN '{}' AND '{}'\n",
    "AND aep_premise_nb = '{}'\n",
    "AND serialnumber = '{}'\n",
    "\"\"\"\n",
    ").format(','.join(cols_of_interest_usage_inst), \n",
    "         date_range[0], \n",
    "         date_range[1], \n",
    "         my_meter_premise_info_dict['prem_nb'], \n",
    "         my_meter_premise_info_dict['mfr_devc_ser_nbr'])"
   ]
  },
  {
   "cell_type": "code",
   "execution_count": 7,
   "id": "26b7b244",
   "metadata": {},
   "outputs": [
    {
     "name": "stdout",
     "output_type": "stream",
     "text": [
      "\n",
      "SELECT *\n",
      "FROM usage_instantaneous.inst_msr_consume\n",
      "WHERE aep_opco = 'oh' \n",
      "AND aep_read_dt BETWEEN '2021-10-12' AND '2021-11-13'\n",
      "AND aep_premise_nb = '104752350'\n",
      "AND serialnumber = '879838382'\n",
      "\n"
     ]
    }
   ],
   "source": [
    "print(sql_usg_inst)"
   ]
  },
  {
   "cell_type": "code",
   "execution_count": null,
   "id": "fce82a93",
   "metadata": {},
   "outputs": [],
   "source": []
  },
  {
   "cell_type": "code",
   "execution_count": 8,
   "id": "42f8b42a",
   "metadata": {},
   "outputs": [],
   "source": [
    "sql_inst = (\n",
    "\"\"\"\n",
    "SELECT {}\n",
    "FROM instantaneous.inst_msr_consume\n",
    "WHERE opco_cd = 'oh' \n",
    "AND read_date BETWEEN '{}' AND '{}'\n",
    "AND prem_nb = '{}'\n",
    "AND meter_id = '{}'\n",
    "\"\"\"\n",
    ").format(','.join(cols_of_interest_inst), \n",
    "         date_range[0], \n",
    "         date_range[1],  \n",
    "         my_meter_premise_info_dict['prem_nb'], \n",
    "         my_meter_premise_info_dict['mfr_devc_ser_nbr'])"
   ]
  },
  {
   "cell_type": "code",
   "execution_count": 9,
   "id": "ad1e8ec5",
   "metadata": {},
   "outputs": [
    {
     "name": "stdout",
     "output_type": "stream",
     "text": [
      "\n",
      "SELECT *\n",
      "FROM instantaneous.inst_msr_consume\n",
      "WHERE opco_cd = 'oh' \n",
      "AND read_date BETWEEN '2021-10-12' AND '2021-11-13'\n",
      "AND prem_nb = '104752350'\n",
      "AND meter_id = '879838382'\n",
      "\n"
     ]
    }
   ],
   "source": [
    "print(sql_inst)"
   ]
  },
  {
   "cell_type": "code",
   "execution_count": 10,
   "id": "267798c6",
   "metadata": {},
   "outputs": [
    {
     "name": "stdout",
     "output_type": "stream",
     "text": [
      "df_usg_inst\n",
      "----------\n",
      "\n",
      "SELECT *\n",
      "FROM usage_instantaneous.inst_msr_consume\n",
      "WHERE aep_opco = 'oh' \n",
      "AND aep_read_dt BETWEEN '2021-10-12' AND '2021-11-13'\n",
      "AND aep_premise_nb = '104752350'\n",
      "AND serialnumber = '879838382'\n",
      "\n",
      "**************************************************\n",
      "df_inst\n",
      "----------\n",
      "\n",
      "SELECT *\n",
      "FROM instantaneous.inst_msr_consume\n",
      "WHERE opco_cd = 'oh' \n",
      "AND read_date BETWEEN '2021-10-12' AND '2021-11-13'\n",
      "AND prem_nb = '104752350'\n",
      "AND meter_id = '879838382'\n",
      "\n"
     ]
    }
   ],
   "source": [
    "print('df_usg_inst')\n",
    "print('-'*10)\n",
    "print(sql_usg_inst)\n",
    "print('*'*50)\n",
    "print('df_inst')\n",
    "print('-'*10)\n",
    "print(sql_inst)"
   ]
  },
  {
   "cell_type": "code",
   "execution_count": null,
   "id": "c98dc51d",
   "metadata": {},
   "outputs": [],
   "source": [
    "df_usg_inst_OG = pd.read_sql(sql_usg_inst, conn_aws)\n",
    "df_usg_inst_OG = clm.remove_table_aliases(df_usg_inst_OG)"
   ]
  },
  {
   "cell_type": "code",
   "execution_count": null,
   "id": "28bf7a3c",
   "metadata": {},
   "outputs": [],
   "source": [
    "df_inst_OG = pd.read_sql(sql_inst, conn_aws)\n",
    "df_inst_OG = clm.remove_table_aliases(df_inst_OG)"
   ]
  },
  {
   "cell_type": "code",
   "execution_count": null,
   "id": "40288724",
   "metadata": {},
   "outputs": [],
   "source": [
    "df_usg_inst_OG.head()"
   ]
  },
  {
   "cell_type": "code",
   "execution_count": null,
   "id": "7b6b63ae",
   "metadata": {},
   "outputs": [],
   "source": [
    "df_inst_OG.head()"
   ]
  },
  {
   "cell_type": "markdown",
   "id": "fcf95eb7",
   "metadata": {},
   "source": [
    "# -----"
   ]
  },
  {
   "cell_type": "code",
   "execution_count": null,
   "id": "66da10cc",
   "metadata": {},
   "outputs": [],
   "source": [
    "df_usg_inst = df_usg_inst_OG.copy()\n",
    "df_inst = df_inst_OG.copy()"
   ]
  },
  {
   "cell_type": "code",
   "execution_count": null,
   "id": "d4197532",
   "metadata": {},
   "outputs": [],
   "source": []
  },
  {
   "cell_type": "code",
   "execution_count": null,
   "id": "e9839ba2",
   "metadata": {
    "scrolled": true
   },
   "outputs": [],
   "source": [
    "print(f'df_usg_inst.shape = {df_usg_inst.shape}')\n",
    "print(f'df_inst.shape     = {df_inst.shape}')\n",
    "print('\\n'+'*'*50)\n",
    "# df_usg_inst has many more measurement types than df_inst\n",
    "print(\"\\ndf_usg_inst['measurement_type'].unique()\\n\", '-'*25+'\\n', df_usg_inst['measurement_type'].unique())\n",
    "\n",
    "print(\"\\ndf_inst['msr_type'].unique()\\n\", '-'*25+'\\n', df_inst['msr_type'].unique())"
   ]
  },
  {
   "cell_type": "code",
   "execution_count": null,
   "id": "94bcafb0",
   "metadata": {},
   "outputs": [],
   "source": [
    "cols_to_comp = ['serialnumber', 'aep_readtime', 'measurement_value', 'measurement_type']\n",
    "msr_type_translation = {\n",
    "    'InstAMPsCalc':'instantaneous_ia', \n",
    "    'InstkW':'instantaneous_kw', \n",
    "    'PowerFactorMeter':'power_factor_phase_a',\n",
    "    'TempF':'temperature_f', \n",
    "    'VoltageA':'voltage_phase_a'\n",
    "}\n",
    "#--------------------------------------------\n",
    "# Build aep_readtime in df_inst by combining the read_date and read_time fields\n",
    "df_inst['aep_readtime'] = pd.to_datetime(df_inst['read_date']+' '+df_inst['read_time'])\n",
    "#-----\n",
    "# Rename columns in df_inst to match those in df_usg_inst\n",
    "df_inst = df_inst.rename(columns={'meter_id':'serialnumber', \n",
    "                                  'msr_value':'measurement_value', \n",
    "                                  'msr_type':'measurement_type'})\n",
    "# Change the msr_type values in df_inst to match those in df_usg_inst\n",
    "for inst_msr_type, usg_inst_msr_type in msr_type_translation.items():\n",
    "    df_inst.loc[df_inst['measurement_type']==inst_msr_type, 'measurement_type']=usg_inst_msr_type\n",
    "#-----\n",
    "df_inst = Utilities_df.convert_col_types(\n",
    "    df=df_inst, \n",
    "    cols_and_types_dict={'measurement_value':float}, \n",
    "    to_numeric_errors='coerce', \n",
    "    inplace=True\n",
    ")\n",
    "#-----\n",
    "df_inst = Utilities_df.move_cols_to_front(df_inst, cols_to_comp) "
   ]
  },
  {
   "cell_type": "code",
   "execution_count": null,
   "id": "fdda27d8",
   "metadata": {},
   "outputs": [],
   "source": [
    "# Select only the measurement types contained in df_inst\n",
    "# The following line is what takes the number of entries in df_usg_inst from \n",
    "# 1017 to 990\n",
    "df_usg_inst=df_usg_inst[df_usg_inst['measurement_type'].isin(msr_type_translation.values())]\n",
    "print(f'df_usg_inst.shape = {df_usg_inst.shape}')\n",
    "print(f'df_inst.shape     = {df_inst.shape}')\n",
    "#-----\n",
    "df_usg_inst['aep_readtime'] = pd.to_datetime(df_usg_inst['aep_readtime'])\n",
    "df_usg_inst = Utilities_df.convert_col_types(\n",
    "    df=df_usg_inst, \n",
    "    cols_and_types_dict={'measurement_value':float}, \n",
    "    to_numeric_errors='coerce', \n",
    "    inplace=True\n",
    ")\n",
    "df_usg_inst = Utilities_df.move_cols_to_front(df_usg_inst, cols_to_comp)"
   ]
  },
  {
   "cell_type": "code",
   "execution_count": null,
   "id": "7d03a2a3",
   "metadata": {},
   "outputs": [],
   "source": [
    "# What is load_ts, and why does it cause so many duplicate values?\n",
    "#   i.e., instead of a single row, there are multiple rows which are exactly\n",
    "#     the same except for load_ts\n",
    "df_inst_dupl = df_inst[df_inst.duplicated(subset=[x for x in df_inst.columns if x!='load_ts'], keep=False)]\n",
    "print(f\"df_inst_dupl.shape = {df_inst_dupl.shape}\")\n",
    "print(f\"df_inst_dupl['load_ts'].nunique() = {df_inst_dupl['load_ts'].nunique()}\")\n",
    "\n",
    "df_inst_dupl_gpd = df_inst_dupl.groupby([x for x in df_inst.columns if x!='load_ts'])"
   ]
  },
  {
   "cell_type": "code",
   "execution_count": null,
   "id": "7bee19ad",
   "metadata": {},
   "outputs": [],
   "source": [
    "get_group_idx = 0 \n",
    "df_inst_dupl_gpd.get_group(list(df_inst_dupl_gpd.groups.keys())[get_group_idx])"
   ]
  },
  {
   "cell_type": "code",
   "execution_count": null,
   "id": "6f8ce692",
   "metadata": {},
   "outputs": [],
   "source": [
    "get_group_idx = 1\n",
    "df_inst_dupl_gpd.get_group(list(df_inst_dupl_gpd.groups.keys())[get_group_idx])"
   ]
  },
  {
   "cell_type": "code",
   "execution_count": null,
   "id": "572adb97",
   "metadata": {},
   "outputs": [],
   "source": [
    "# Remove duplicate entries which are exactly the same except for the load_ts field\n",
    "# This takes the size of df_inst form 3770 to 990\n",
    "df_inst = df_inst.drop_duplicates(subset=[x for x in df_inst.columns if x!='load_ts'])\n",
    "df_inst = Utilities_df.move_cols_to_front(df_inst, cols_to_comp)\n",
    "\n",
    "print(f'df_usg_inst.shape = {df_usg_inst.shape}')\n",
    "print(f'df_inst.shape     = {df_inst.shape}')"
   ]
  },
  {
   "cell_type": "code",
   "execution_count": null,
   "id": "b313b365",
   "metadata": {},
   "outputs": [],
   "source": [
    "sort_by = ['aep_readtime', 'measurement_type']\n",
    "df_usg_inst = df_usg_inst.sort_values(by=sort_by, ignore_index=True)\n",
    "df_inst = df_inst.sort_values(by=sort_by, ignore_index=True)"
   ]
  },
  {
   "cell_type": "code",
   "execution_count": null,
   "id": "02777d1e",
   "metadata": {},
   "outputs": [],
   "source": [
    "# Now, after both being reduced and comparing the shared columns,\n",
    "# df_usg_inst equals df_inst.\n",
    "# ALTHOUGH, they do not match EXACTLY, but are different by e.g. rounding\n",
    "print(f'df_usg_inst.equals(df_inst): {df_usg_inst.equals(df_inst)}')"
   ]
  },
  {
   "cell_type": "code",
   "execution_count": null,
   "id": "208fea4a",
   "metadata": {},
   "outputs": [],
   "source": [
    "diffs = Utilities_df.get_dfs_diff(df_usg_inst[cols_to_comp], df_inst[cols_to_comp])\n",
    "diffs"
   ]
  },
  {
   "cell_type": "code",
   "execution_count": null,
   "id": "0cab1f3c",
   "metadata": {},
   "outputs": [],
   "source": [
    "diffs = Utilities_df.get_dfs_diff_approx_ok(df_usg_inst, df_inst, \n",
    "                                            cols_to_compare=cols_to_comp, \n",
    "                                            return_df_only=True)\n",
    "diffs"
   ]
  },
  {
   "cell_type": "code",
   "execution_count": null,
   "id": "b78bdfcc",
   "metadata": {},
   "outputs": [],
   "source": []
  },
  {
   "cell_type": "code",
   "execution_count": null,
   "id": "253f4e14",
   "metadata": {},
   "outputs": [],
   "source": []
  },
  {
   "cell_type": "code",
   "execution_count": null,
   "id": "31d9de49",
   "metadata": {},
   "outputs": [],
   "source": []
  }
 ],
 "metadata": {
  "kernelspec": {
   "display_name": "Python 3 (ipykernel)",
   "language": "python",
   "name": "python3"
  },
  "language_info": {
   "codemirror_mode": {
    "name": "ipython",
    "version": 3
   },
   "file_extension": ".py",
   "mimetype": "text/x-python",
   "name": "python",
   "nbconvert_exporter": "python",
   "pygments_lexer": "ipython3",
   "version": "3.9.7"
  }
 },
 "nbformat": 4,
 "nbformat_minor": 5
}
