{
 "cells": [
  {
   "cell_type": "code",
   "execution_count": null,
   "id": "b5755605",
   "metadata": {},
   "outputs": [],
   "source": [
    "from importlib import reload\n",
    "#reload(Utilities)\n",
    "# NOTE: To reload a class imported as, e.g., \n",
    "# from module import class\n",
    "# One must call:\n",
    "#   1. import module\n",
    "#   2. reload module\n",
    "#   3. from module import class\n",
    "\n",
    "import sys, os\n",
    "import re\n",
    "from pathlib import Path\n",
    "import json\n",
    "import pickle\n",
    "\n",
    "import pandas as pd\n",
    "import numpy as np\n",
    "from pandas.api.types import is_numeric_dtype, is_datetime64_dtype, is_timedelta64_dtype\n",
    "from scipy import stats\n",
    "import datetime\n",
    "import time\n",
    "from natsort import natsorted, ns, natsort_keygen\n",
    "from packaging import version\n",
    "import copy\n",
    "\n",
    "import itertools\n",
    "\n",
    "import pyodbc\n",
    "#---------------------------------------------------------------------\n",
    "import matplotlib as mpl\n",
    "import matplotlib.pyplot as plt\n",
    "import seaborn as sns\n",
    "from matplotlib.backends.backend_pdf import PdfPages\n",
    "import matplotlib.patches as mpatches\n",
    "from matplotlib.lines import Line2D\n",
    "import matplotlib.ticker as ticker\n",
    "from matplotlib import dates\n",
    "import matplotlib.colors as mcolors\n",
    "import matplotlib.cm as cm #e.g. for cmap=cm.jet\n",
    "#---------------------------------------------------------------------\n",
    "sys.path.insert(0, os.path.realpath('..'))\n",
    "import Utilities_config\n",
    "#-----\n",
    "from MeterPremise import MeterPremise\n",
    "#-----\n",
    "from AMI_SQL import AMI_SQL\n",
    "from AMINonVee_SQL import AMINonVee_SQL\n",
    "from AMIEndEvents_SQL import AMIEndEvents_SQL\n",
    "from AMIUsgInst_SQL import AMIUsgInst_SQL\n",
    "from DOVSOutages_SQL import DOVSOutages_SQL\n",
    "#-----\n",
    "from GenAn import GenAn\n",
    "from AMINonVee import AMINonVee\n",
    "from AMIEndEvents import AMIEndEvents\n",
    "from MECPODf import MECPODf\n",
    "from MECPOAn import MECPOAn\n",
    "from AMIUsgInst import AMIUsgInst\n",
    "from DOVSOutages import DOVSOutages\n",
    "from OutageDAQ import OutageDataInfo as ODI\n",
    "from OutageMdlrPrep import OutageMdlrPrep\n",
    "#---------------------------------------------------------------------\n",
    "sys.path.insert(0, Utilities_config.get_sql_aids_dir())\n",
    "import Utilities_sql\n",
    "import TableInfos\n",
    "from TableInfos import TableInfo\n",
    "from SQLElement import SQLElement\n",
    "from SQLElementsCollection import SQLElementsCollection\n",
    "from SQLSelect import SQLSelectElement, SQLSelect\n",
    "from SQLFrom import SQLFrom\n",
    "from SQLWhere import SQLWhereElement, SQLWhere\n",
    "from SQLJoin import SQLJoin, SQLJoinCollection\n",
    "from SQLGroupBy import SQLGroupByElement, SQLGroupBy\n",
    "from SQLHaving import SQLHaving\n",
    "from SQLOrderBy import SQLOrderByElement, SQLOrderBy\n",
    "from SQLQuery import SQLQuery\n",
    "from SQLQueryGeneric import SQLQueryGeneric\n",
    "#---------------------------------------------------------------------\n",
    "#sys.path.insert(0, os.path.join(os.path.realpath('..'), 'Utilities'))\n",
    "sys.path.insert(0, Utilities_config.get_utilities_dir())\n",
    "import Utilities\n",
    "import Utilities_df\n",
    "from Utilities_df import DFConstructType\n",
    "import Utilities_dt\n",
    "import Plot_General\n",
    "import Plot_Box_sns\n",
    "import Plot_Hist\n",
    "import Plot_Bar\n",
    "import GrubbsTest\n",
    "import DataFrameSubsetSlicer\n",
    "from DataFrameSubsetSlicer import DataFrameSubsetSlicer as DFSlicer"
   ]
  },
  {
   "cell_type": "code",
   "execution_count": null,
   "id": "66d8ba61",
   "metadata": {},
   "outputs": [],
   "source": [
    "from sklearn.preprocessing import OrdinalEncoder"
   ]
  },
  {
   "cell_type": "code",
   "execution_count": null,
   "id": "decb80e2",
   "metadata": {},
   "outputs": [],
   "source": []
  },
  {
   "cell_type": "code",
   "execution_count": null,
   "id": "448dec56",
   "metadata": {},
   "outputs": [],
   "source": [
    "# #-------------------------\n",
    "# run_date = '20240906' # Date of data acquisition\n",
    "# #-------------------------\n",
    "# date_0   = '2023-04-01' # Lower limit for end events\n",
    "# date_1   = '2024-08-31' # Upper limit for end events\n",
    "\n",
    "#-------------------------\n",
    "run_date = '20250514' # Date of data acquisition\n",
    "#-------------------------\n",
    "date_0   = '2024-07-01' # Lower limit for end events\n",
    "date_1   = '2024-09-30' # Upper limit for end events\n",
    "#-------------------------\n",
    "dataset  = 'outg'\n",
    "# dataset  = 'otbl'\n",
    "# dataset  = 'prbl'\n",
    "#-------------------------"
   ]
  },
  {
   "cell_type": "code",
   "execution_count": null,
   "id": "52cee1ee",
   "metadata": {},
   "outputs": [],
   "source": [
    "ODI.assert_dataset(dataset)\n",
    "#-------------------------\n",
    "date_pd_subdir = f\"{date_0.replace('-','')}_{date_1.replace('-','')}\"\n",
    "data_base_dir  = os.path.join(\n",
    "    Utilities.get_local_data_dir(), \n",
    "    r'dovs_and_end_events_data', \n",
    "    run_date, \n",
    "    date_pd_subdir, \n",
    "    ODI.get_subdir(dataset)\n",
    ")\n",
    "#-------------------------\n",
    "assert(os.path.isdir(data_base_dir))\n",
    "#-------------------------\n",
    "# files_dir    = os.path.join(data_base_dir, 'EndEvents')\n",
    "files_dir    = os.path.join(data_base_dir, 'end_events_method', 'EndEvents')\n",
    "naming_tag   = ODI.get_naming_tag(dataset)\n",
    "is_no_outage = ODI.get_is_no_outage(dataset)\n",
    "#-------------------------\n",
    "assert(os.path.isdir(files_dir))\n",
    "#-------------------------\n",
    "print(f'data_base_dir = {data_base_dir}')\n",
    "print(f'files_dir     = {files_dir}')\n",
    "print(f'naming_tag    = {naming_tag}')\n",
    "print(f'is_no_outage  = {is_no_outage}')"
   ]
  },
  {
   "cell_type": "code",
   "execution_count": null,
   "id": "a5890e1a-91a2-42ff-935b-b25bc5af61fc",
   "metadata": {},
   "outputs": [],
   "source": []
  },
  {
   "cell_type": "code",
   "execution_count": null,
   "id": "66b383c4",
   "metadata": {},
   "outputs": [],
   "source": [
    "# Currently, expecting grp_by_col to be 'outg_rec_nb', 'trsf_pole_nb', or ['outg_rec_nb', 'trsf_pole_nb']\n",
    "#   Actually, 'outg_rec_nb' will probably not be run again, instead will likely always be ['outg_rec_nb', 'trsf_pole_nb']"
   ]
  },
  {
   "cell_type": "code",
   "execution_count": null,
   "id": "99706616",
   "metadata": {},
   "outputs": [],
   "source": [
    "batch_size                    = 1000\n",
    "grp_by_col                    = ['outg_rec_nb', 'trsf_pole_nb']\n",
    "outg_rec_nb_col               = 'outg_rec_nb'\n",
    "#-------------------------\n",
    "file_path_glob                = r'end_events_[0-9]*.csv'\n",
    "file_path_regex               = None\n",
    "\n",
    "assert_all_cols_equal         = False #Seems new EndEvents have curr_acct_cls_cd as well...\n",
    "include_normalize_by_nSNs     = True\n",
    "inclue_zero_counts            = True\n",
    "return_multiindex_outg_reason = False\n",
    "return_normalized_separately  = False\n",
    "\n",
    "# 0-31, 1-6, 6-11, 11-16, 16-21, 21-26, 26-31\n",
    "days_min_outg_td_window       = 0\n",
    "days_max_outg_td_window       = 31\n",
    "\n",
    "xfmr_equip_typ_nms_of_interest = ['TRANSFORMER, OH', 'TRANSFORMER, UG']\n",
    "\n",
    "if include_normalize_by_nSNs and not return_normalized_separately:\n",
    "    normalize_by_nSNs_included = True\n",
    "else:\n",
    "    normalize_by_nSNs_included = False\n",
    "\n",
    "#--------------------------------------------------\n",
    "if naming_tag is None:\n",
    "    naming_tag=''\n",
    "    \n",
    "# only set up for outg_rec_nb or trsf_pole_nb currently\n",
    "assert(\n",
    "    grp_by_col=='outg_rec_nb' or \n",
    "    grp_by_col==['outg_rec_nb', 'trsf_pole_nb'] or \n",
    "    grp_by_col=='trsf_pole_nb' or \n",
    "    grp_by_col==['trsf_pole_nb', 'no_outg_rec_nb']\n",
    ")\n",
    "\n",
    "# Not possible for have outg_rec_nb for no outage case!\n",
    "if is_no_outage:\n",
    "    assert(grp_by_col!='outg_rec_nb' and grp_by_col!=('outg_rec_nb', 'trsf_pole_nb'))"
   ]
  },
  {
   "cell_type": "code",
   "execution_count": null,
   "id": "8f7b55e7",
   "metadata": {},
   "outputs": [],
   "source": []
  },
  {
   "cell_type": "code",
   "execution_count": null,
   "id": "2c4772fd",
   "metadata": {},
   "outputs": [],
   "source": [
    "save_dfs_to_pkl = True\n",
    "read_dfs_from_pkl = False\n",
    "assert(save_dfs_to_pkl+read_dfs_from_pkl <=1) # Should never both read and write!\n",
    "\n",
    "save_subdir_pkls = 'rcpo_dfs'\n",
    "if   grp_by_col == ['outg_rec_nb', 'trsf_pole_nb']:\n",
    "    save_subdir_pkls += '_GRP_BY_OUTG_AND_XFMR'\n",
    "elif grp_by_col == 'trsf_pole_nb':\n",
    "    save_subdir_pkls += '_GRP_BY_XFMR'\n",
    "elif grp_by_col == 'outg_rec_nb':\n",
    "    save_subdir_pkls += '_GRP_BY_OUTG'\n",
    "elif grp_by_col == ['trsf_pole_nb', 'no_outg_rec_nb']:\n",
    "    save_subdir_pkls += '_GRP_BY_NO_OUTG_AND_XFMR'\n",
    "else:\n",
    "    assert(0)\n",
    "#-----\n",
    "save_dir_base_pkls = os.path.join(data_base_dir, 'end_events_method', save_subdir_pkls)\n",
    "save_dir_pkls      = os.path.join(save_dir_base_pkls, f'outg_td_window_{days_min_outg_td_window}_to_{days_max_outg_td_window}_days')\n",
    "#-----\n",
    "if save_dfs_to_pkl and not os.path.exists(save_dir_pkls):\n",
    "    os.makedirs(save_dir_pkls)"
   ]
  },
  {
   "cell_type": "markdown",
   "id": "bed7daa9-78ed-44f4-8df1-d6d4f21ad015",
   "metadata": {},
   "source": [
    "# !!!!!!!!!!!!!!!!!!!!!!!!!!!!!!!!!!!!!!!!!!!!!!!!!!!!!!!!!!!!!!!!!!!!!!!!"
   ]
  },
  {
   "cell_type": "code",
   "execution_count": null,
   "id": "eacf9505",
   "metadata": {},
   "outputs": [],
   "source": [
    "# TODO NEED TO BE AUTOMATED\n",
    "outg_rec_nb_idx_lvl      = 0\n",
    "trsf_pole_nbs_idx_lvl    = 1\n",
    "\n",
    "trsf_pole_nbs_loc        = ('index', 'trsf_pole_nb')\n",
    "rcpo_df_to_time_infos_on = [('index', 'outg_rec_nb')]\n",
    "time_infos_to_rcpo_df_on = ['index']\n",
    "\n",
    "rcpo_df_to_PNs_on        = [('index', 'trsf_pole_nb')]\n",
    "PNs_to_rcpo_df_on        = ['index']\n",
    "how                      = 'left'"
   ]
  },
  {
   "cell_type": "markdown",
   "id": "8110a907-979f-43fb-9e6f-15aadadbe988",
   "metadata": {},
   "source": [
    "# !!!!!!!!!!!!!!!!!!!!!!!!!!!!!!!!!!!!!!!!!!!!!!!!!!!!!!!!!!!!!!!!!!!!!!!!"
   ]
  },
  {
   "cell_type": "code",
   "execution_count": null,
   "id": "6b8bf892-d4b2-4935-8954-e10746764de5",
   "metadata": {},
   "outputs": [],
   "source": [
    "mp_df      = None\n",
    "mp_df_cols = None"
   ]
  },
  {
   "cell_type": "code",
   "execution_count": null,
   "id": "bdf3941b",
   "metadata": {},
   "outputs": [],
   "source": [
    "# if is_no_outage:\n",
    "#     mp_df      = None\n",
    "#     mp_df_cols = None\n",
    "# else:\n",
    "#     # mp_df_path = os.path.join(dovs_and_end_events_data_dir, r'df_mp_dupls_dropped.csv')\n",
    "#     # mp_df = pd.read_csv(mp_df_path, dtype=str)\n",
    "#     mp_df_path  = os.path.join(data_base_dir, r'df_mp_outg_full.pkl')\n",
    "#     mp_df       = pd.read_pickle(mp_df_path)\n",
    "#     merge_on_mp = ['mfr_devc_ser_nbr', 'prem_nb', 'OUTG_REC_NB']\n",
    "#     mp_df_cols = dict(\n",
    "#         serial_number_col = 'mfr_devc_ser_nbr', \n",
    "#         prem_nb_col       = 'prem_nb', \n",
    "#         trsf_pole_nb_col  = 'trsf_pole_nb', \n",
    "#         outg_rec_nb_col   = 'OUTG_REC_NB'\n",
    "#     )\n",
    "#     # Below ensures there is only one entry per 'meter' (meter here is defined by a unique grouping of merge_on_mp)\n",
    "#     if any(mp_df.groupby(merge_on_mp).size()>1):\n",
    "#         print('Resolving uniqueness violators')\n",
    "#         mp_df = Utilities_df.resolve_uniqueness_violators(\n",
    "#             df                      = mp_df, \n",
    "#             groupby_cols            = merge_on_mp, \n",
    "#             gpby_dropna             = False,\n",
    "#             run_nan_groups_separate = True\n",
    "#         )\n",
    "#     assert(not any(mp_df.groupby(merge_on_mp).size()>1))"
   ]
  },
  {
   "cell_type": "code",
   "execution_count": null,
   "id": "f943bbec",
   "metadata": {
    "scrolled": true
   },
   "outputs": [],
   "source": [
    "if not read_dfs_from_pkl:\n",
    "    start = time.time()\n",
    "    rcpo_df_OG, ede_typeid_to_reason_df_OG = OutageMdlrPrep.build_rcpx_df_from_EndEvents_in_csvs(    \n",
    "        files_dir                      = files_dir, \n",
    "        mp_df                          = mp_df, \n",
    "        file_path_glob                 = file_path_glob, \n",
    "        file_path_regex                = file_path_regex, \n",
    "        min_outg_td_window             = datetime.timedelta(days=days_min_outg_td_window),\n",
    "        max_outg_td_window             = datetime.timedelta(days=days_max_outg_td_window),\n",
    "        build_ede_typeid_to_reason_df  = True, \n",
    "        batch_size                     = batch_size, \n",
    "        cols_and_types_to_convert_dict = None, \n",
    "        to_numeric_errors              = 'coerce', \n",
    "        assert_all_cols_equal          = assert_all_cols_equal, \n",
    "        include_normalize_by_nSNs      = include_normalize_by_nSNs, \n",
    "        inclue_zero_counts             = inclue_zero_counts, \n",
    "        return_multiindex_outg_reason  = return_multiindex_outg_reason, \n",
    "        return_normalized_separately   = return_normalized_separately, \n",
    "        verbose                        = True, \n",
    "        n_update                       = 1, \n",
    "        grp_by_cols                    = grp_by_col, \n",
    "        outg_rec_nb_col                = outg_rec_nb_col, \n",
    "        trsf_pole_nb_col               = 'trsf_pole_nb', \n",
    "        addtnl_dropna_subset_cols      = None, \n",
    "        is_no_outage                   = is_no_outage, \n",
    "        prem_nb_col                    = 'aep_premise_nb', \n",
    "        serial_number_col              = 'serialnumber', \n",
    "        include_prem_nbs               = True, \n",
    "        set_faulty_mp_vals_to_nan      = False,\n",
    "        correct_faulty_mp_vals         = False, \n",
    "        trust_sql_grouping             = True, \n",
    "        drop_gpd_for_sql_appendix      = True, \n",
    "        mp_df_cols                     = mp_df_cols, \n",
    "        make_all_columns_lowercase     = True\n",
    "    )\n",
    "    print(time.time()-start)\n",
    "    #-------------------------\n",
    "    if save_dfs_to_pkl:\n",
    "        rcpo_df_OG.to_pickle(os.path.join(save_dir_pkls, f'rcpo{naming_tag}_df_OG.pkl'))\n",
    "        ede_typeid_to_reason_df_OG.to_pickle(os.path.join(save_dir_pkls, f'ede_typeid_to_reason{naming_tag}_df_OG.pkl'))        \n",
    "else:\n",
    "    rcpo_df_OG = pd.read_pickle(os.path.join(save_dir_pkls, f'rcpo{naming_tag}_df_OG.pkl'))\n",
    "    ede_typeid_to_reason_df_OG = pd.read_pickle(os.path.join(save_dir_pkls, f'ede_typeid_to_reason{naming_tag}_df_OG.pkl'))    "
   ]
  },
  {
   "cell_type": "code",
   "execution_count": null,
   "id": "758c433a",
   "metadata": {},
   "outputs": [],
   "source": [
    "# #TODO DELETE ME!!!!!!!!!\n",
    "# rcpo_df_OG = pd.read_pickle(os.path.join(save_dir_pkls, f'rcpo{naming_tag}_df_OG.pkl'))\n",
    "# ede_typeid_to_reason_df_OG = pd.read_pickle(os.path.join(save_dir_pkls, f'ede_typeid_to_reason{naming_tag}_df_OG.pkl'))"
   ]
  },
  {
   "cell_type": "code",
   "execution_count": null,
   "id": "16453752",
   "metadata": {},
   "outputs": [],
   "source": [
    "reason_to_ede_typeid_df = AMIEndEvents.invert_ede_typeid_to_reason_df(ede_typeid_to_reason_df_OG)\n",
    "rcpo_df = rcpo_df_OG.copy()"
   ]
  },
  {
   "cell_type": "code",
   "execution_count": null,
   "id": "174af09e",
   "metadata": {},
   "outputs": [],
   "source": []
  },
  {
   "cell_type": "code",
   "execution_count": null,
   "id": "cbc20db4",
   "metadata": {},
   "outputs": [],
   "source": [
    "#-------------------------\n",
    "# NOTE: Need mp_df_curr and mp_df_hist separate for functionality, so one cannot simply use mp_df loaded earlier.\n",
    "# NOTE: drop_approx_duplicates=False below. These will be dropped later\n",
    "#-----\n",
    "if grp_by_col=='outg_rec_nb':\n",
    "    mp_df_curr_hist = DOVSOutages.build_mp_df_curr_hist_for_outgs(outg_rec_nbs=rcpo_df.index.get_level_values(outg_rec_nb_idx_lvl).tolist())\n",
    "else:\n",
    "    mp_df_curr_hist = MeterPremise.build_mp_df_curr_hist_for_xfmrs(rcpo_df.index.get_level_values(trsf_pole_nbs_idx_lvl).tolist(), drop_approx_duplicates=False)\n",
    "\n",
    "#-------------------------\n",
    "if is_no_outage:\n",
    "    # Build no_outg_time_infos_df, which has prem_nbs indices and t_min, t_max (and possible summary_path) columns\n",
    "    # This is where the time information for each premise number comes from\n",
    "    paths = Utilities.find_all_paths(base_dir=files_dir, glob_pattern=file_path_glob)\n",
    "\n",
    "    no_outg_time_infos_df = MECPOAn.get_bsln_time_interval_infos_df_from_summary_files(\n",
    "        summary_paths           = [AMIEndEvents.find_summary_file_from_csv(x) for x in paths], \n",
    "        output_prem_nbs_col     = 'prem_nbs', \n",
    "        output_t_min_col        = 't_min', \n",
    "        output_t_max_col        = 't_max', \n",
    "        make_addtnl_groupby_idx = True, \n",
    "        include_summary_paths   = True, \n",
    "        date_only               = False, \n",
    "        date_col                = 'aep_event_dt'\n",
    "    )"
   ]
  },
  {
   "cell_type": "code",
   "execution_count": null,
   "id": "b7ed4ca9",
   "metadata": {},
   "outputs": [],
   "source": []
  },
  {
   "cell_type": "code",
   "execution_count": null,
   "id": "e2babb93",
   "metadata": {},
   "outputs": [],
   "source": [
    "df_mp_install_time_col = 'inst_ts'\n",
    "df_mp_removal_time_col = 'rmvl_ts'\n",
    "\n",
    "# Make sure all dates are datetime objects, not e.g., strings\n",
    "if(\n",
    "    not is_datetime64_dtype(mp_df_curr_hist['mp_df_curr'][df_mp_install_time_col]) or \n",
    "    not is_datetime64_dtype(mp_df_curr_hist['mp_df_curr'][df_mp_removal_time_col])\n",
    "):\n",
    "    # If one isn't, chances are both are not (and no harm in converting both either way)\n",
    "    mp_df_curr_hist['mp_df_curr'] = Utilities_df.convert_col_types(\n",
    "        df                  = mp_df_curr_hist['mp_df_curr'], \n",
    "        cols_and_types_dict = {\n",
    "            df_mp_install_time_col : datetime.datetime, \n",
    "            df_mp_removal_time_col : datetime.datetime\n",
    "        }\n",
    "    )\n",
    "    \n",
    "if(\n",
    "    not is_datetime64_dtype(mp_df_curr_hist['mp_df_hist'][df_mp_install_time_col]) or \n",
    "    not is_datetime64_dtype(mp_df_curr_hist['mp_df_hist'][df_mp_removal_time_col])\n",
    "):\n",
    "    # If one isn't, chances are both are not (and no harm in converting both either way)\n",
    "    mp_df_curr_hist['mp_df_hist'] = Utilities_df.convert_col_types(\n",
    "        df                  = mp_df_curr_hist['mp_df_hist'], \n",
    "        cols_and_types_dict = {\n",
    "            df_mp_install_time_col : datetime.datetime, \n",
    "            df_mp_removal_time_col : datetime.datetime\n",
    "        }\n",
    "    )"
   ]
  },
  {
   "cell_type": "code",
   "execution_count": null,
   "id": "cbb84cc0-182d-4143-9cf6-fde096abe0ba",
   "metadata": {},
   "outputs": [],
   "source": []
  },
  {
   "cell_type": "code",
   "execution_count": null,
   "id": "c3cd739d",
   "metadata": {},
   "outputs": [],
   "source": [
    "if not is_no_outage:\n",
    "    rcpo_df = DOVSOutages.append_outg_info_to_df(\n",
    "        df               = rcpo_df, \n",
    "        outg_rec_nb_idfr = 'index', \n",
    "    )\n",
    "    assert(rcpo_df.columns.nlevels==2)\n",
    "    outg_cols_lvl_0_val = 'outg_dummy_lvl_0'\n",
    "    assert(outg_cols_lvl_0_val in rcpo_df.columns.get_level_values(0))"
   ]
  },
  {
   "cell_type": "code",
   "execution_count": null,
   "id": "03b04056",
   "metadata": {},
   "outputs": [],
   "source": [
    "#-------------------------\n",
    "# I don't think I want to do the removal on current, only hist!\n",
    "# This is because current is used for get_SNs_andor_PNs_for_xfmrs\n",
    "# e.g., I was missing some PNs because maybe a new meter was installed after rcpo_df['DT_OFF_TS_FULL'].max()\n",
    "#   So, in all likelihood that was an appropriate meter entry in historical, but this was excluded because\n",
    "#   there wasn't an entry in current that passed the cuts below\n",
    "#-----\n",
    "mp_df_curr_hist['mp_df_hist'] = mp_df_curr_hist['mp_df_hist'][(\n",
    "    ((mp_df_curr_hist['mp_df_hist']['rmvl_ts']>rcpo_df[(outg_cols_lvl_0_val, 'DT_OFF_TS_FULL')].min()) | (mp_df_curr_hist['mp_df_hist']['rmvl_ts'].isna())) & \n",
    "    (mp_df_curr_hist['mp_df_hist']['inst_ts']<=rcpo_df[(outg_cols_lvl_0_val, 'DT_OFF_TS_FULL')].max())\n",
    ")]"
   ]
  },
  {
   "cell_type": "code",
   "execution_count": null,
   "id": "e8fee42f",
   "metadata": {},
   "outputs": [],
   "source": []
  },
  {
   "cell_type": "code",
   "execution_count": null,
   "id": "e38cedc0",
   "metadata": {},
   "outputs": [],
   "source": [
    "df_mp_serial_number_col='mfr_devc_ser_nbr'\n",
    "df_mp_prem_nb_col='prem_nb'\n",
    "df_mp_install_time_col='inst_ts' \n",
    "df_mp_removal_time_col='rmvl_ts' \n",
    "df_mp_trsf_pole_nb_col='trsf_pole_nb'\n",
    "#-------------------------\n",
    "dflt_args_drop_approx_mp_duplicates = MeterPremise.get_dflt_args_drop_approx_mp_duplicates(\n",
    "    df_mp_serial_number_col=df_mp_serial_number_col, \n",
    "    df_mp_prem_nb_col=df_mp_prem_nb_col, \n",
    "    df_mp_install_time_col=df_mp_install_time_col, \n",
    "    df_mp_removal_time_col=df_mp_removal_time_col, \n",
    "    df_mp_trsf_pole_nb_col=df_mp_trsf_pole_nb_col\n",
    ")\n",
    "drop_approx_duplicates_args = Utilities.supplement_dict_with_default_values(\n",
    "    to_supplmnt_dict=None, \n",
    "    default_values_dict=dflt_args_drop_approx_mp_duplicates, \n",
    "    extend_any_lists=False, \n",
    "    inplace=True\n",
    ")\n",
    "#-----\n",
    "mp_df_curr_hist['mp_df_hist'] = MeterPremise.drop_approx_mp_duplicates(\n",
    "    mp_df=mp_df_curr_hist['mp_df_hist'], \n",
    "    **drop_approx_duplicates_args\n",
    ")\n",
    "#-----\n",
    "mp_df_curr_hist['mp_df_curr'] = MeterPremise.drop_approx_mp_duplicates(\n",
    "    mp_df=mp_df_curr_hist['mp_df_curr'], \n",
    "    **drop_approx_duplicates_args\n",
    ")"
   ]
  },
  {
   "cell_type": "code",
   "execution_count": null,
   "id": "beb01046",
   "metadata": {},
   "outputs": [],
   "source": [
    "if save_dfs_to_pkl:\n",
    "    mp_df_curr_hist['mp_df_hist'].to_pickle(os.path.join(save_dir_pkls, f'mp{naming_tag}_df_hist.pkl'))\n",
    "    mp_df_curr_hist['mp_df_curr'].to_pickle(os.path.join(save_dir_pkls, f'mp{naming_tag}_df_curr.pkl'))"
   ]
  },
  {
   "cell_type": "code",
   "execution_count": null,
   "id": "f7891eea",
   "metadata": {},
   "outputs": [],
   "source": [
    "# mp_df_curr_hist = {}\n",
    "# mp_df_curr_hist['mp_df_hist'] = pd.read_pickle(os.path.join(save_dir_pkls, f'mp{naming_tag}_df_hist.pkl'))\n",
    "# mp_df_curr_hist['mp_df_curr'] = pd.read_pickle(os.path.join(save_dir_pkls, f'mp{naming_tag}_df_curr.pkl'))"
   ]
  },
  {
   "cell_type": "code",
   "execution_count": null,
   "id": "966faeef-a783-4dbc-873a-05b208cf036e",
   "metadata": {},
   "outputs": [],
   "source": []
  },
  {
   "cell_type": "code",
   "execution_count": null,
   "id": "c0c4d8d1-b8d9-421e-bbf7-ab2e60d486fd",
   "metadata": {},
   "outputs": [],
   "source": [
    "time_infos_df = OutageMdlrPrep.get_outg_time_infos_df(\n",
    "    rcpo_df=rcpo_df, \n",
    "    outg_rec_nb_idx_lvl=outg_rec_nb_idx_lvl, \n",
    "    times_relative_to_off_ts_only=True, \n",
    "    td_for_left=None, \n",
    "    td_for_right=None\n",
    ")\n",
    "\n",
    "og_cols = rcpo_df_OG.columns\n",
    "outg_info_cols = list(set(rcpo_df.columns).difference(set(og_cols)))\n",
    "rcpo_df = rcpo_df.drop(columns=outg_info_cols)"
   ]
  },
  {
   "cell_type": "code",
   "execution_count": null,
   "id": "f8660852-258d-4744-9453-402d9c1ce853",
   "metadata": {},
   "outputs": [],
   "source": []
  },
  {
   "cell_type": "code",
   "execution_count": null,
   "id": "0edd9272",
   "metadata": {},
   "outputs": [],
   "source": [
    "if grp_by_col=='outg_rec_nb':\n",
    "    assert(not is_no_outage)\n",
    "    if not read_dfs_from_pkl:\n",
    "        start=time.time()\n",
    "        #-------------------------\n",
    "        rcpo_df_raw  = MECPODf.project_level_0_columns_from_rcpo_wide(\n",
    "            rcpo_df_wide = rcpo_df, \n",
    "            level_0_val  = 'counts', \n",
    "            droplevel    = True\n",
    "        )\n",
    "        #-----\n",
    "        rcpo_df_raw = MECPODf.add_outage_active_SNs_to_rcpo_df(\n",
    "            rcpo_df                    = rcpo_df_raw, \n",
    "            set_outage_nSNs            = True, \n",
    "            include_outage_premise_nbs = True, \n",
    "            df_mp_curr                 = mp_df_curr_hist['mp_df_curr'], \n",
    "            df_mp_hist                 = mp_df_curr_hist['mp_df_hist']\n",
    "        )\n",
    "        #-----\n",
    "        rcpo_df_raw = MECPODf.add_active_prim_SNs_to_rcpo_df(\n",
    "            rcpo_df                             = rcpo_df_raw, \n",
    "            direct_SNs_in_outgs_df              = None, \n",
    "            outg_rec_nb_col                     = 'index', \n",
    "            prim_SNs_col                        = 'direct_serial_numbers', \n",
    "            set_prim_nSNs                       = True, \n",
    "            sort_SNs                            = True, \n",
    "            build_direct_SNs_in_outgs_df_kwargs = {}, \n",
    "            mp_df_curr                          = mp_df_curr_hist['mp_df_curr'], \n",
    "            mp_df_hist                          = mp_df_curr_hist['mp_df_hist']\n",
    "        )\n",
    "        #-------------------------\n",
    "        rcpo_df_norm = MECPODf.project_level_0_columns_from_rcpo_wide(\n",
    "            rcpo_df_wide = rcpo_df, \n",
    "            level_0_val  = 'counts_norm', \n",
    "            droplevel    = True\n",
    "        )\n",
    "        rcpo_df_norm_by_outg_nSNs = MECPODf.build_rcpo_df_norm_by_outg_active_nSNs(\n",
    "            rcpo_df_raw, \n",
    "            df_mp_curr = mp_df_curr_hist['mp_df_curr'], \n",
    "            df_mp_hist = mp_df_curr_hist['mp_df_hist']\n",
    "        )\n",
    "        rcpo_df_norm_by_prim_nSNs = MECPODf.build_rcpo_df_norm_by_prim_active_nSNs(\n",
    "            rcpo_df_raw                         = rcpo_df_raw, \n",
    "            direct_SNs_in_outgs_df              = None, \n",
    "            outg_rec_nb_col                     = 'index', \n",
    "            prim_nSNs_col                       = '_prim_nSNs', \n",
    "            prim_SNs_col                        = '_prim_SNs', \n",
    "            other_SNs_col_tags_to_ignore        = ['_SNs', '_nSNs', '_prem_nbs', '_nprem_nbs'], \n",
    "            drop_prim_nSNs_eq_0                 = True, \n",
    "            new_level_0_val                     = 'counts_norm_by_prim_nSNs', \n",
    "            remove_SNs_cols                     = False, \n",
    "            build_direct_SNs_in_outgs_df_kwargs = dict(equip_typ_nms_of_interest=xfmr_equip_typ_nms_of_interest), \n",
    "            df_mp_curr                          = mp_df_curr_hist['mp_df_curr'], \n",
    "            df_mp_hist                          = mp_df_curr_hist['mp_df_hist']\n",
    "        )\n",
    "        #-------------------------\n",
    "        icpo_df_raw = MECPODf.convert_rcpo_to_icpo_df(\n",
    "            rcpo_df                 = rcpo_df_raw, \n",
    "            reason_to_ede_typeid_df = reason_to_ede_typeid_df, \n",
    "            is_norm                 = False\n",
    "        )\n",
    "\n",
    "        icpo_df_norm = MECPODf.convert_rcpo_to_icpo_df(\n",
    "            rcpo_df                 = rcpo_df_norm, \n",
    "            reason_to_ede_typeid_df = reason_to_ede_typeid_df, \n",
    "            is_norm                 = True, \n",
    "            counts_col              = '_nSNs'\n",
    "        )\n",
    "\n",
    "        icpo_df_norm_by_outg_nSNs = MECPODf.convert_rcpo_to_icpo_df(\n",
    "            rcpo_df                 = rcpo_df_norm_by_outg_nSNs, \n",
    "            reason_to_ede_typeid_df = reason_to_ede_typeid_df, \n",
    "            is_norm                 = True, \n",
    "            counts_col              = '_outg_nSNs'\n",
    "        )\n",
    "\n",
    "        icpo_df_norm_by_prim_nSNs = MECPODf.convert_rcpo_to_icpo_df(\n",
    "            rcpo_df                 = rcpo_df_norm_by_prim_nSNs, \n",
    "            reason_to_ede_typeid_df = reason_to_ede_typeid_df, \n",
    "            is_norm                 = True, \n",
    "            counts_col              = '_prim_nSNs'\n",
    "        )\n",
    "        #-------------------------\n",
    "        print(time.time()-start)\n",
    "        #-------------------------\n",
    "        if save_dfs_to_pkl:\n",
    "            #-------------------------\n",
    "            rcpo_df_raw.to_pickle(              os.path.join(save_dir_pkls, f'rcpo{naming_tag}_df_raw.pkl'))\n",
    "            rcpo_df_norm.to_pickle(             os.path.join(save_dir_pkls, f'rcpo{naming_tag}_df_norm.pkl'))\n",
    "            rcpo_df_norm_by_outg_nSNs.to_pickle(os.path.join(save_dir_pkls, f'rcpo{naming_tag}_df_norm_by_outg_nSNs.pkl'))\n",
    "            rcpo_df_norm_by_prim_nSNs.to_pickle(os.path.join(save_dir_pkls, f'rcpo{naming_tag}_df_norm_by_prim_nSNs.pkl'))\n",
    "            #-----\n",
    "            icpo_df_raw.to_pickle(              os.path.join(save_dir_pkls, f'icpo{naming_tag}_df_raw.pkl'))\n",
    "            icpo_df_norm.to_pickle(             os.path.join(save_dir_pkls, f'icpo{naming_tag}_df_norm.pkl'))\n",
    "            icpo_df_norm_by_outg_nSNs.to_pickle(os.path.join(save_dir_pkls, f'icpo{naming_tag}_df_norm_by_outg_nSNs.pkl'))\n",
    "            icpo_df_norm_by_prim_nSNs.to_pickle(os.path.join(save_dir_pkls, f'icpo{naming_tag}_df_norm_by_prim_nSNs.pkl'))\n",
    "            #-------------------------\n",
    "    else:\n",
    "        rcpo_df_raw               = pd.read_pickle(os.path.join(save_dir_pkls, f'rcpo{naming_tag}_df_raw.pkl'))\n",
    "        rcpo_df_norm              = pd.read_pickle(os.path.join(save_dir_pkls, f'rcpo{naming_tag}_df_norm.pkl'))\n",
    "        rcpo_df_norm_by_outg_nSNs = pd.read_pickle(os.path.join(save_dir_pkls, f'rcpo{naming_tag}_df_norm_by_outg_nSNs.pkl'))\n",
    "        rcpo_df_norm_by_prim_nSNs = pd.read_pickle(os.path.join(save_dir_pkls, f'rcpo{naming_tag}_df_norm_by_prim_nSNs.pkl'))\n",
    "        #-----\n",
    "        icpo_df_raw               = pd.read_pickle(os.path.join(save_dir_pkls, f'icpo{naming_tag}_df_raw.pkl'))\n",
    "        icpo_df_norm              = pd.read_pickle(os.path.join(save_dir_pkls, f'icpo{naming_tag}_df_norm.pkl'))\n",
    "        icpo_df_norm_by_outg_nSNs = pd.read_pickle(os.path.join(save_dir_pkls, f'icpo{naming_tag}_df_norm_by_outg_nSNs.pkl'))\n",
    "        icpo_df_norm_by_prim_nSNs = pd.read_pickle(os.path.join(save_dir_pkls, f'icpo{naming_tag}_df_norm_by_prim_nSNs.pkl'))"
   ]
  },
  {
   "cell_type": "code",
   "execution_count": null,
   "id": "30bf83db",
   "metadata": {},
   "outputs": [],
   "source": [
    "#TODO!!!!!\n",
    "# if grp_by_col=='trsf_pole_nb':\n",
    "if not read_dfs_from_pkl:\n",
    "    start=time.time()\n",
    "    #-------------------------\n",
    "    rcpo_df_raw  = MECPODf.project_level_0_columns_from_rcpo_wide(\n",
    "        rcpo_df_wide = rcpo_df, \n",
    "        level_0_val  = 'counts', \n",
    "        droplevel    = True\n",
    "    )\n",
    "    #-----\n",
    "    rcpo_df_raw = OutageMdlrPrep.add_xfmr_active_SNs_to_rcpo_df(\n",
    "        rcpo_df                                = rcpo_df_raw, \n",
    "        trsf_pole_nbs_loc                      = trsf_pole_nbs_loc, \n",
    "        set_xfmr_nSNs                          = True, \n",
    "        include_active_xfmr_PNs                = True, \n",
    "        df_mp_curr                             = mp_df_curr_hist['mp_df_curr'],\n",
    "        df_mp_hist                             = mp_df_curr_hist['mp_df_hist'], \n",
    "        time_infos_df                          = time_infos_df, \n",
    "        rcpo_df_to_time_infos_on               = rcpo_df_to_time_infos_on, \n",
    "        time_infos_to_rcpo_df_on               = time_infos_to_rcpo_df_on, \n",
    "        how                                    = how, \n",
    "        rcpo_df_to_PNs_on                      = rcpo_df_to_PNs_on, \n",
    "        PNs_to_rcpo_df_on                      = PNs_to_rcpo_df_on, \n",
    "        addtnl_get_active_SNs_for_xfmrs_kwargs = dict(\n",
    "            assert_all_trsf_pole_nbs_found=False\n",
    "        ), \n",
    "        xfmr_SNs_col                           = '_xfmr_SNs', \n",
    "        xfmr_nSNs_col                          = '_xfmr_nSNs', \n",
    "        xfmr_PNs_col                           = '_xfmr_PNs', \n",
    "        xfmr_nPNs_col                          = '_xfmr_nPNs',  \n",
    "    )\n",
    "    #-------------------------\n",
    "    rcpo_df_norm = MECPODf.project_level_0_columns_from_rcpo_wide(\n",
    "        rcpo_df_wide = rcpo_df, \n",
    "        level_0_val  = 'counts_norm', \n",
    "        droplevel    = True\n",
    "    )\n",
    "    #-----\n",
    "    assert('_xfmr_nSNs' in rcpo_df_raw.columns)\n",
    "    assert('_xfmr_SNs' in rcpo_df_raw.columns)\n",
    "    rcpo_df_norm_by_xfmr_nSNs = OutageMdlrPrep.build_rcpo_df_norm_by_xfmr_active_nSNs(\n",
    "        rcpo_df_raw                            = rcpo_df_raw, \n",
    "        trsf_pole_nbs_loc                      = trsf_pole_nbs_loc, \n",
    "        xfmr_nSNs_col                          = '_xfmr_nSNs', \n",
    "        xfmr_SNs_col                           = '_xfmr_SNs', \n",
    "        other_SNs_col_tags_to_ignore           = ['_SNs', '_nSNs', '_prem_nbs', '_nprem_nbs', '_xfmr_PNs', '_xfmr_nPNs'], \n",
    "        drop_xfmr_nSNs_eq_0                    = True, \n",
    "        new_level_0_val                        = 'counts_norm_by_xfmr_nSNs', \n",
    "        remove_SNs_cols                        = False, \n",
    "        df_mp_curr                             = mp_df_curr_hist['mp_df_curr'],\n",
    "        df_mp_hist                             = mp_df_curr_hist['mp_df_hist'], \n",
    "        time_infos_df                          = time_infos_df,\n",
    "        rcpo_df_to_time_infos_on               = rcpo_df_to_time_infos_on, \n",
    "        time_infos_to_rcpo_df_on               = time_infos_to_rcpo_df_on, \n",
    "        how                                    = how, \n",
    "        rcpo_df_to_PNs_on                      = rcpo_df_to_PNs_on, \n",
    "        PNs_to_rcpo_df_on                      = PNs_to_rcpo_df_on, \n",
    "        addtnl_get_active_SNs_for_xfmrs_kwargs = dict(\n",
    "            assert_all_trsf_pole_nbs_found=False\n",
    "        ), \n",
    "    )\n",
    "    #-------------------------\n",
    "    icpo_df_raw = MECPODf.convert_rcpo_to_icpo_df(\n",
    "        rcpo_df                 = rcpo_df_raw, \n",
    "        reason_to_ede_typeid_df = reason_to_ede_typeid_df, \n",
    "        is_norm                 = False\n",
    "    )\n",
    "\n",
    "    icpo_df_norm = MECPODf.convert_rcpo_to_icpo_df(\n",
    "        rcpo_df                 = rcpo_df_norm, \n",
    "        reason_to_ede_typeid_df = reason_to_ede_typeid_df, \n",
    "        is_norm                 = True, \n",
    "        counts_col              = '_nSNs'\n",
    "    )\n",
    "\n",
    "    icpo_df_norm_by_xfmr_nSNs = MECPODf.convert_rcpo_to_icpo_df(\n",
    "        rcpo_df                 = rcpo_df_norm_by_xfmr_nSNs, \n",
    "        reason_to_ede_typeid_df = reason_to_ede_typeid_df, \n",
    "        is_norm                 = True, \n",
    "        counts_col              = '_xfmr_nSNs'\n",
    "    )\n",
    "    #-------------------------\n",
    "    print(time.time()-start)\n",
    "    #-------------------------\n",
    "    if save_dfs_to_pkl:\n",
    "        #-------------------------\n",
    "        rcpo_df_raw.to_pickle(              os.path.join(save_dir_pkls, f'rcpo{naming_tag}_df_raw.pkl'))\n",
    "        rcpo_df_norm.to_pickle(             os.path.join(save_dir_pkls, f'rcpo{naming_tag}_df_norm.pkl'))\n",
    "        rcpo_df_norm_by_xfmr_nSNs.to_pickle(os.path.join(save_dir_pkls, f'rcpo{naming_tag}_df_norm_by_xfmr_nSNs.pkl'))\n",
    "        #-----\n",
    "        icpo_df_raw.to_pickle(              os.path.join(save_dir_pkls, f'icpo{naming_tag}_df_raw.pkl'))\n",
    "        icpo_df_norm.to_pickle(             os.path.join(save_dir_pkls, f'icpo{naming_tag}_df_norm.pkl'))\n",
    "        icpo_df_norm_by_xfmr_nSNs.to_pickle(os.path.join(save_dir_pkls, f'icpo{naming_tag}_df_norm_by_xfmr_nSNs.pkl'))\n",
    "else:\n",
    "    rcpo_df_raw               = pd.read_pickle(os.path.join(save_dir_pkls, f'rcpo{naming_tag}_df_raw.pkl'))\n",
    "    rcpo_df_norm              = pd.read_pickle(os.path.join(save_dir_pkls, f'rcpo{naming_tag}_df_norm.pkl'))\n",
    "    rcpo_df_norm_by_xfmr_nSNs = pd.read_pickle(os.path.join(save_dir_pkls, f'rcpo{naming_tag}_df_norm_by_xfmr_nSNs.pkl'))\n",
    "    #-----\n",
    "    icpo_df_raw               = pd.read_pickle(os.path.join(save_dir_pkls, f'icpo{naming_tag}_df_raw.pkl'))\n",
    "    icpo_df_norm              = pd.read_pickle(os.path.join(save_dir_pkls, f'icpo{naming_tag}_df_norm.pkl'))\n",
    "    icpo_df_norm_by_xfmr_nSNs = pd.read_pickle(os.path.join(save_dir_pkls, f'icpo{naming_tag}_df_norm_by_xfmr_nSNs.pkl'))"
   ]
  },
  {
   "cell_type": "code",
   "execution_count": null,
   "id": "0421d650",
   "metadata": {},
   "outputs": [],
   "source": [
    "assert(0)"
   ]
  },
  {
   "cell_type": "code",
   "execution_count": null,
   "id": "58226efa",
   "metadata": {},
   "outputs": [],
   "source": [
    "save_dfs_to_pkl"
   ]
  },
  {
   "cell_type": "code",
   "execution_count": null,
   "id": "cd6a5bae",
   "metadata": {},
   "outputs": [],
   "source": [
    "save_dir_pkls"
   ]
  },
  {
   "cell_type": "code",
   "execution_count": null,
   "id": "73b6d9a5",
   "metadata": {},
   "outputs": [],
   "source": []
  },
  {
   "cell_type": "code",
   "execution_count": null,
   "id": "1da8e987",
   "metadata": {},
   "outputs": [],
   "source": []
  },
  {
   "cell_type": "code",
   "execution_count": null,
   "id": "1f9de27a",
   "metadata": {},
   "outputs": [],
   "source": []
  },
  {
   "cell_type": "code",
   "execution_count": null,
   "id": "ee264034",
   "metadata": {},
   "outputs": [],
   "source": []
  },
  {
   "cell_type": "code",
   "execution_count": null,
   "id": "61e6869f",
   "metadata": {},
   "outputs": [],
   "source": []
  },
  {
   "cell_type": "code",
   "execution_count": null,
   "id": "c8787b6b",
   "metadata": {},
   "outputs": [],
   "source": []
  },
  {
   "cell_type": "code",
   "execution_count": null,
   "id": "80aa3ee6",
   "metadata": {},
   "outputs": [],
   "source": [
    "rcpo_df_raw  = MECPODf.project_level_0_columns_from_rcpo_wide(rcpo_df, 'counts', droplevel=True)\n",
    "rcpo_df_raw"
   ]
  },
  {
   "cell_type": "code",
   "execution_count": null,
   "id": "7887959a",
   "metadata": {},
   "outputs": [],
   "source": [
    "rcpo_df_raw  = MECPODf.project_level_0_columns_from_rcpo_wide(rcpo_df, 'counts', droplevel=True)\n",
    "rcpo_df_raw[rcpo_df_raw.index.get_level_values(1)=='1871406714001']"
   ]
  },
  {
   "cell_type": "code",
   "execution_count": null,
   "id": "77767787",
   "metadata": {},
   "outputs": [],
   "source": [
    "addtnl_get_active_SNs_for_xfmrs_kwargs=dict(assert_all_trsf_pole_nbs_found=False)\n",
    "get_active_SNs_for_xfmrs_kwargs = dict(\n",
    "    rcpo_df=rcpo_df_raw[rcpo_df_raw.index.get_level_values(1)=='1871406714001'], \n",
    "    trsf_pole_nbs_loc=trsf_pole_nbs_loc, \n",
    "    df_mp_curr=mp_df_curr_hist['mp_df_curr'],\n",
    "    df_mp_hist=mp_df_curr_hist['mp_df_hist'],  \n",
    "    time_infos_df=time_infos_df, \n",
    "    rcpo_df_to_time_infos_on=rcpo_df_to_time_infos_on, \n",
    "    time_infos_to_rcpo_df_on=time_infos_to_rcpo_df_on, \n",
    "    how=how, \n",
    "    rcpo_df_to_PNs_on=rcpo_df_to_PNs_on, \n",
    "    PNs_to_rcpo_df_on=PNs_to_rcpo_df_on, \n",
    "    return_prem_nbs_col='_xfmr_PNs', \n",
    "    return_SNs_col='_xfmr_SNs'\n",
    ")\n",
    "if addtnl_get_active_SNs_for_xfmrs_kwargs is not None:\n",
    "    get_active_SNs_for_xfmrs_kwargs = {**get_active_SNs_for_xfmrs_kwargs, \n",
    "                                       **addtnl_get_active_SNs_for_xfmrs_kwargs}\n",
    "active_SNs_df = get_active_SNs_for_xfmrs_in_rcpo_df(**get_active_SNs_for_xfmrs_kwargs)\n",
    "assert(isinstance(active_SNs_df, pd.DataFrame))"
   ]
  },
  {
   "cell_type": "code",
   "execution_count": null,
   "id": "7995a141",
   "metadata": {},
   "outputs": [],
   "source": []
  },
  {
   "cell_type": "code",
   "execution_count": null,
   "id": "b81e5a01",
   "metadata": {},
   "outputs": [],
   "source": [
    "addtnl_get_active_SNs_for_xfmrs_kwargs=dict(assert_all_trsf_pole_nbs_found=False)\n",
    "get_active_SNs_for_xfmrs_kwargs = dict(\n",
    "    rcpo_df=rcpo_df_raw, \n",
    "    trsf_pole_nbs_loc=trsf_pole_nbs_loc, \n",
    "    df_mp_curr=mp_df_curr_hist['mp_df_curr'],\n",
    "    df_mp_hist=mp_df_curr_hist['mp_df_hist'],  \n",
    "    time_infos_df=time_infos_df, \n",
    "    rcpo_df_to_time_infos_on=rcpo_df_to_time_infos_on, \n",
    "    time_infos_to_rcpo_df_on=time_infos_to_rcpo_df_on, \n",
    "    how=how, \n",
    "    rcpo_df_to_PNs_on=rcpo_df_to_PNs_on, \n",
    "    PNs_to_rcpo_df_on=PNs_to_rcpo_df_on, \n",
    "    return_prem_nbs_col='_xfmr_PNs', \n",
    "    return_SNs_col='_xfmr_SNs'\n",
    ")\n",
    "if addtnl_get_active_SNs_for_xfmrs_kwargs is not None:\n",
    "    get_active_SNs_for_xfmrs_kwargs = {**get_active_SNs_for_xfmrs_kwargs, \n",
    "                                       **addtnl_get_active_SNs_for_xfmrs_kwargs}\n",
    "active_SNs_df = get_active_SNs_for_xfmrs_in_rcpo_df(**get_active_SNs_for_xfmrs_kwargs)\n",
    "assert(isinstance(active_SNs_df, pd.DataFrame))"
   ]
  },
  {
   "cell_type": "code",
   "execution_count": null,
   "id": "7b3d2cc7",
   "metadata": {},
   "outputs": [],
   "source": []
  },
  {
   "cell_type": "code",
   "execution_count": null,
   "id": "f9d3f095",
   "metadata": {},
   "outputs": [],
   "source": []
  },
  {
   "cell_type": "code",
   "execution_count": null,
   "id": "ad0fb145",
   "metadata": {},
   "outputs": [],
   "source": [
    "rcpo_df_raw  = MECPODf.project_level_0_columns_from_rcpo_wide(rcpo_df_OG.copy(), 'counts', droplevel=True)"
   ]
  },
  {
   "cell_type": "code",
   "execution_count": null,
   "id": "4c783f3d",
   "metadata": {},
   "outputs": [],
   "source": [
    "rcpo_df=rcpo_df_raw.copy()\n",
    "trsf_pole_nbs_loc=trsf_pole_nbs_loc\n",
    "df_mp_curr=mp_df_curr_hist['mp_df_curr']\n",
    "df_mp_hist=mp_df_curr_hist['mp_df_hist']\n",
    "time_infos_df=time_infos_df\n",
    "rcpo_df_to_time_infos_on=rcpo_df_to_time_infos_on\n",
    "time_infos_to_rcpo_df_on=time_infos_to_rcpo_df_on\n",
    "how=how\n",
    "rcpo_df_to_PNs_on=rcpo_df_to_PNs_on\n",
    "PNs_to_rcpo_df_on=PNs_to_rcpo_df_on\n",
    "\n",
    "addtnl_mp_df_curr_cols=None\n",
    "addtnl_mp_df_hist_cols=None\n",
    "\n",
    "return_prem_nbs_col='_xfmr_PNs'\n",
    "return_SNs_col='_xfmr_SNs'\n",
    "\n",
    "assert_all_trsf_pole_nbs_found=False\n",
    "df_mp_serial_number_col='mfr_devc_ser_nbr'\n",
    "df_mp_prem_nb_col='prem_nb'\n",
    "df_mp_install_time_col='inst_ts'\n",
    "df_mp_removal_time_col='rmvl_ts'\n",
    "df_mp_trsf_pole_nb_col='trsf_pole_nb'\n",
    "t_min_col='t_min'\n",
    "t_max_col='t_max'"
   ]
  },
  {
   "cell_type": "code",
   "execution_count": null,
   "id": "5cc33c24",
   "metadata": {},
   "outputs": [],
   "source": [
    "#--------------------------------------------------\n",
    "assert(t_min_col in time_infos_df.columns and \n",
    "       t_max_col in time_infos_df.columns)\n",
    "time_infos_df = time_infos_df[[t_min_col, t_max_col]]\n",
    "#-----\n",
    "# Remove any duplicates from time_infos_df\n",
    "tmp_col = Utilities.generate_random_string()\n",
    "time_infos_df[tmp_col] = time_infos_df.index\n",
    "time_infos_df = time_infos_df.drop_duplicates()\n",
    "time_infos_df = time_infos_df.drop(columns=[tmp_col])\n",
    "#--------------------------------------------------\n",
    "# trsf_pole_nbs_loc can be a string or tuple/list\n",
    "# First, find trsf_pole_nbs and trsf_pole_nbs_idx_lvl\n",
    "assert(Utilities.is_object_one_of_types(trsf_pole_nbs_loc, [str, list, tuple]))\n",
    "if isinstance(trsf_pole_nbs_loc, str):\n",
    "    assert(trsf_pole_nbs_loc.startswith('index'))\n",
    "    if trsf_pole_nbs_loc=='index':\n",
    "        trsf_pole_nbs_idx_lvl = 0\n",
    "    else:\n",
    "        trsf_pole_nbs_idx_lvl = re.findall('index_(\\d*)', trsf_pole_nbs_loc)\n",
    "        assert(len(trsf_pole_nbs_idx_lvl)==1)\n",
    "        trsf_pole_nbs_idx_lvl=trsf_pole_nbs_idx_lvl[0]\n",
    "        trsf_pole_nbs_idx_lvl=int(trsf_pole_nbs_idx_lvl)\n",
    "else:\n",
    "    assert(len(trsf_pole_nbs_loc)==2)\n",
    "    assert(trsf_pole_nbs_loc[0]=='index')\n",
    "    assert(trsf_pole_nbs_loc[1] in rcpo_df.index.names)\n",
    "    trsf_pole_nbs_idx_lvl = rcpo_df.index.names.index(trsf_pole_nbs_loc[1])\n",
    "    #---------------\n",
    "    assert(trsf_pole_nbs_idx_lvl < rcpo_df.index.nlevels)\n",
    "    trsf_pole_nbs = rcpo_df.index.get_level_values(trsf_pole_nbs_idx_lvl).tolist()\n",
    "#--------------------------------------------------\n",
    "#-------------------------\n",
    "necessary_mp_cols = [df_mp_serial_number_col, df_mp_prem_nb_col, df_mp_install_time_col, df_mp_removal_time_col]"
   ]
  },
  {
   "cell_type": "code",
   "execution_count": null,
   "id": "31ff52f0",
   "metadata": {},
   "outputs": [],
   "source": [
    "#-------------------------\n",
    "# At a bare minimum, df_mp_curr and df_mp_hist must both have the following columns:\n",
    "#   necessary_mp_cols = ['mfr_devc_ser_nbr', 'prem_nb', 'inst_ts', 'rmvl_ts']\n",
    "assert(all([x in df_mp_curr.columns for x in necessary_mp_cols+[df_mp_trsf_pole_nb_col]]))\n",
    "assert(all([x in df_mp_hist.columns for x in necessary_mp_cols]))\n",
    "#-------------------------\n",
    "# PNs_for_xfmrs is a DF with trsf_pole_nbs indices and elements which are lists of PNs for each xfmr\n",
    "PNs_for_xfmrs = MeterPremise.get_SNs_andor_PNs_for_xfmrs(\n",
    "    trsf_pole_nbs=trsf_pole_nbs, \n",
    "    include_SNs=False,\n",
    "    include_PNs=True,\n",
    "    trsf_pole_nb_col=df_mp_trsf_pole_nb_col, \n",
    "    serial_number_col=df_mp_serial_number_col, \n",
    "    prem_nb_col=df_mp_prem_nb_col, \n",
    "    return_SNs_col=None, #Not grabbing SNs\n",
    "    return_PNs_col=return_prem_nbs_col, \n",
    "    assert_all_trsf_pole_nbs_found=assert_all_trsf_pole_nbs_found, \n",
    "    mp_df=None, #!!!!!!!!!!!!!!!!!!!!!!!!!!!!!!!!!!!!!!!!!!\n",
    "    return_mp_df_also=False\n",
    ")"
   ]
  },
  {
   "cell_type": "code",
   "execution_count": null,
   "id": "c13a51d6",
   "metadata": {},
   "outputs": [],
   "source": []
  },
  {
   "cell_type": "markdown",
   "id": "3dc53e86",
   "metadata": {},
   "source": [
    "# OG"
   ]
  },
  {
   "cell_type": "code",
   "execution_count": null,
   "id": "290e9f45",
   "metadata": {},
   "outputs": [],
   "source": [
    "'41840850B40133' in trsf_pole_nbs"
   ]
  },
  {
   "cell_type": "code",
   "execution_count": null,
   "id": "b6a82639",
   "metadata": {},
   "outputs": [],
   "source": [
    "PNs_for_xfmrs.loc['41840850B40133']"
   ]
  },
  {
   "cell_type": "code",
   "execution_count": null,
   "id": "385b2d9c",
   "metadata": {},
   "outputs": [],
   "source": [
    "rcpo_df=rcpo_df_raw.copy()"
   ]
  },
  {
   "cell_type": "code",
   "execution_count": null,
   "id": "04cd93f2",
   "metadata": {},
   "outputs": [],
   "source": [
    "#-------------------------\n",
    "# Join together rcpo_df, time_infos_df and PNs_for_xfmrs\n",
    "rcpo_df = merge_rcpo_and_df(\n",
    "    rcpo_df=rcpo_df, \n",
    "    df_2=time_infos_df, \n",
    "    rcpo_df_on=rcpo_df_to_time_infos_on,\n",
    "    df_2_on=time_infos_to_rcpo_df_on, \n",
    "    how=how\n",
    ")\n",
    "#-----\n",
    "rcpo_df = merge_rcpo_and_df(\n",
    "    rcpo_df=rcpo_df, \n",
    "    df_2=PNs_for_xfmrs, \n",
    "    rcpo_df_on=rcpo_df_to_PNs_on,\n",
    "    df_2_on=PNs_to_rcpo_df_on, \n",
    "    how=how\n",
    ")"
   ]
  },
  {
   "cell_type": "code",
   "execution_count": null,
   "id": "0a88e62b",
   "metadata": {},
   "outputs": [],
   "source": [
    "# idx_i = ('12070597', '1860360762758')\n",
    "# idx_i = ('12048233', '1839488704233')\n",
    "# idx_i = ('12334688', '41840850B40133')\n",
    "idx_i = ('12061939', '41830829A30166')\n",
    "row_i = rcpo_df.loc[idx_i]"
   ]
  },
  {
   "cell_type": "code",
   "execution_count": null,
   "id": "911492aa",
   "metadata": {},
   "outputs": [],
   "source": [
    "# row_i"
   ]
  },
  {
   "cell_type": "code",
   "execution_count": null,
   "id": "91b4ccc3",
   "metadata": {},
   "outputs": [],
   "source": [
    "rcpo_idx_names = list(rcpo_df.index.names)\n",
    "assert(not any([x is None for x in rcpo_idx_names]))"
   ]
  },
  {
   "cell_type": "code",
   "execution_count": null,
   "id": "7f722602",
   "metadata": {},
   "outputs": [],
   "source": [
    "# active_SNs_df_i will have indices equal to premise numbers and value equal to lists\n",
    "#   of active SNs for each PN\n",
    "# Purpose of making idx_names_w_vals a list of tuples, instead of a dict, is to ensure the correct order is maintained\n",
    "#   Dicts usually return the correct order, but this is not guaranteed\n",
    "if len(rcpo_idx_names)==1:\n",
    "    assert(rcpo_df.index.nlevels==1)\n",
    "    idx_names_w_vals = [(rcpo_idx_names[0], idx_i)]\n",
    "else:\n",
    "    idx_names_w_vals = [((rcpo_idx_names[i] if i!=trsf_pole_nbs_idx_lvl else df_mp_trsf_pole_nb_col), idx_i[i]) \n",
    "                        for i in range(len(idx_i))]\n",
    "PNs_i=row_i[return_prem_nbs_col]\n",
    "dt_0_i=row_i[t_min_col]\n",
    "dt_1_i=row_i[t_max_col]\n",
    "#-----\n",
    "# See NOTEs above regarding t_min/t_max being empty\n",
    "# In such a case, it is simply impossibe (with the summary files currently generated) to access\n",
    "#   the date over which the data would have been run, if any events existed.\n",
    "#   In future versions, this information will be included in the summary files!\n",
    "# I don't want to completely exclude these (by e.g., setting dt_0_i=pd.Timestamp.min and \n",
    "#   dt_1_i=pd.Timestamp.max), so I will simply include the meters which are active TODAY.\n",
    "# This obviously is not correct, but this occurrence is rare (only happening when every single meter\n",
    "#   on a transformer had no events during the time period) and this crude approximation will be fine.\n",
    "if Utilities.is_object_one_of_types(dt_0_i, [list, np.ndarray]):\n",
    "    assert(len(dt_0_i)==0)\n",
    "    # I believe if this happens for one it should happen for both...\n",
    "    assert(Utilities.is_object_one_of_types(dt_1_i, [list, np.ndarray]) and len(dt_1_i)==0)\n",
    "    dt_0_i=pd.Timestamp.today()\n",
    "if Utilities.is_object_one_of_types(dt_1_i, [list, np.ndarray]):\n",
    "    assert(len(dt_1_i)==0)\n",
    "    # I believe if this happens for one it should happen for both...\n",
    "    # But, dt_0_i changed already above, so must check row_i[t_min_col] instead!\n",
    "    assert(Utilities.is_object_one_of_types(row_i[t_min_col], [list, np.ndarray]) and len(row_i[t_min_col])==0)\n",
    "    dt_1_i=pd.Timestamp.today()\n",
    "if((not isinstance(PNs_i, list) and pd.isna(PNs_i)) or \n",
    "   len(PNs_i)==0):\n",
    "    active_SNs_df_i = pd.DataFrame()\n",
    "else:\n",
    "    active_SNs_df_i = MeterPremise.get_active_SNs_for_PNs_at_datetime_interval(\n",
    "        PNs=PNs_i,\n",
    "        df_mp_curr=df_mp_curr, \n",
    "        df_mp_hist=df_mp_hist, \n",
    "        dt_0=dt_0_i,\n",
    "        dt_1=dt_1_i,\n",
    "        output_index=None,\n",
    "        output_groupby=[df_mp_prem_nb_col], \n",
    "        include_prems_wo_active_SNs_when_groupby=True, \n",
    "        assert_all_PNs_found=False\n",
    "    )\n",
    "    active_SNs_df_i=active_SNs_df_i.reset_index()\n",
    "if active_SNs_df_i.shape[0]==0:\n",
    "    active_SNs_df_i[df_mp_prem_nb_col] = np.nan\n",
    "    active_SNs_df_i[df_mp_serial_number_col] = [[]] \n",
    "    for name,val in idx_names_w_vals:\n",
    "        active_SNs_df_i[name] = val\n",
    "    active_SNs_df_i = active_SNs_df_i.set_index([x[0] for x in idx_names_w_vals])\n",
    "else:\n",
    "    for name,val in idx_names_w_vals:\n",
    "        active_SNs_df_i[name] = val\n",
    "    active_SNs_df_i = active_SNs_df_i.explode(df_mp_serial_number_col)\n",
    "    active_SNs_df_i = Utilities_df.consolidate_df(\n",
    "        df=active_SNs_df_i, \n",
    "        groupby_cols=[x[0] for x in idx_names_w_vals], \n",
    "        cols_shared_by_group=None, \n",
    "        cols_to_collect_in_lists=[df_mp_serial_number_col, df_mp_prem_nb_col], \n",
    "        include_groupby_cols_in_output_cols=False, \n",
    "        allow_duplicates_in_lists=False, \n",
    "        recover_uniqueness_violators=True, \n",
    "        rename_cols=None, \n",
    "        verbose=False\n",
    "    )"
   ]
  },
  {
   "cell_type": "code",
   "execution_count": null,
   "id": "c17346a7",
   "metadata": {},
   "outputs": [],
   "source": [
    "active_SNs_df_i"
   ]
  },
  {
   "cell_type": "code",
   "execution_count": null,
   "id": "4d8a67ca",
   "metadata": {},
   "outputs": [],
   "source": [
    "active_SNs_df_i.iloc[0]['mfr_devc_ser_nbr']"
   ]
  },
  {
   "cell_type": "code",
   "execution_count": null,
   "id": "ef3366f5",
   "metadata": {},
   "outputs": [],
   "source": [
    "active_SNs_df_i.iloc[0]['prem_nb']"
   ]
  },
  {
   "cell_type": "code",
   "execution_count": null,
   "id": "6fd70ba1",
   "metadata": {},
   "outputs": [],
   "source": [
    "PNs_for_xfmrs.loc['41830829A30166']['_xfmr_PNs']"
   ]
  },
  {
   "cell_type": "markdown",
   "id": "cfc6f1ac",
   "metadata": {},
   "source": [
    "# NEW"
   ]
  },
  {
   "cell_type": "code",
   "execution_count": null,
   "id": "3b70ef8c",
   "metadata": {},
   "outputs": [],
   "source": [
    "rcpo_df=rcpo_df_raw.copy()\n",
    "rcpo_idxs_to_mp_df={0:'OUTG_REC_NB', 1:'trsf_pole_nb'}"
   ]
  },
  {
   "cell_type": "code",
   "execution_count": null,
   "id": "b262e1df",
   "metadata": {},
   "outputs": [],
   "source": [
    "#-------------------------\n",
    "# Join together rcpo_df, time_infos_df and PNs_for_xfmrs\n",
    "rcpo_df = merge_rcpo_and_df(\n",
    "    rcpo_df=rcpo_df, \n",
    "    df_2=time_infos_df, \n",
    "    rcpo_df_on=rcpo_df_to_time_infos_on,\n",
    "    df_2_on=time_infos_to_rcpo_df_on, \n",
    "    how=how\n",
    ")"
   ]
  },
  {
   "cell_type": "code",
   "execution_count": null,
   "id": "8fe0c151",
   "metadata": {},
   "outputs": [],
   "source": [
    "rcpo_idx_names = list(rcpo_df.index.names)\n",
    "assert(not any([x is None for x in rcpo_idx_names]))"
   ]
  },
  {
   "cell_type": "code",
   "execution_count": null,
   "id": "36e39d56",
   "metadata": {},
   "outputs": [],
   "source": [
    "# idx_i = ('12070597', '1860360762758')\n",
    "# idx_i = ('12048233', '1839488704233')\n",
    "# idx_i = ('12334688', '41840850B40133')\n",
    "idx_i = ('12061939', '41830829A30166')\n",
    "row_i = rcpo_df.loc[idx_i]"
   ]
  },
  {
   "cell_type": "code",
   "execution_count": null,
   "id": "78c8ebce",
   "metadata": {},
   "outputs": [],
   "source": [
    "dt_0_i=row_i[t_min_col]\n",
    "dt_1_i=row_i[t_max_col]"
   ]
  },
  {
   "cell_type": "code",
   "execution_count": null,
   "id": "450c4ed5",
   "metadata": {},
   "outputs": [],
   "source": [
    "# Make sure df_mp_install_time_col and df_mp_removal_time_col are datetime objects, not e.g., strings\n",
    "if(not is_datetime64_dtype(mp_df[df_mp_install_time_col]) or \n",
    "   not is_datetime64_dtype(mp_df[df_mp_removal_time_col])):\n",
    "    # If one isn't, chances are both are not (and no harm in converting both either way)\n",
    "    mp_df = Utilities_df.convert_col_types(\n",
    "        df=mp_df, \n",
    "        cols_and_types_dict={\n",
    "            df_mp_install_time_col:datetime.datetime, \n",
    "            df_mp_removal_time_col:datetime.datetime\n",
    "        }\n",
    "    )"
   ]
  },
  {
   "cell_type": "code",
   "execution_count": null,
   "id": "68b0890a",
   "metadata": {},
   "outputs": [],
   "source": [
    "mp_df_slicer = DFSlicer()\n",
    "if len(rcpo_idx_names)==1:\n",
    "    assert(rcpo_df.index.nlevels==1)\n",
    "    idx_names_w_vals = [(rcpo_idx_names[0], idx_i)]\n",
    "    mp_df_slicer.add_single_slicer(dict(column=rcpo_idxs_to_mp_df[0], value=idx_i))\n",
    "else:\n",
    "    idx_names_w_vals = [((rcpo_idx_names[i] if i!=trsf_pole_nbs_idx_lvl else df_mp_trsf_pole_nb_col), idx_i[i]) \n",
    "                        for i in range(len(idx_i))]\n",
    "    assert(len(rcpo_idx_names)==len(idx_i))\n",
    "    for i_idx in range(len(rcpo_idx_names)):\n",
    "        mp_df_slicer.add_single_slicer(dict(column=rcpo_idxs_to_mp_df[i_idx], value=idx_i[i_idx]))"
   ]
  },
  {
   "cell_type": "code",
   "execution_count": null,
   "id": "20b33239",
   "metadata": {},
   "outputs": [],
   "source": [
    "print(mp_df_slicer.single_slicers[0].column)\n",
    "print(mp_df_slicer.single_slicers[0].value)"
   ]
  },
  {
   "cell_type": "code",
   "execution_count": null,
   "id": "6e6baaf6",
   "metadata": {},
   "outputs": [],
   "source": [
    "print(mp_df_slicer.single_slicers[1].column)\n",
    "print(mp_df_slicer.single_slicers[1].value)"
   ]
  },
  {
   "cell_type": "code",
   "execution_count": null,
   "id": "558ecc01",
   "metadata": {},
   "outputs": [],
   "source": [
    "mp_df_i = mp_df_slicer.perform_slicing(mp_df)\n",
    "mp_df_i"
   ]
  },
  {
   "cell_type": "code",
   "execution_count": null,
   "id": "781b0992",
   "metadata": {},
   "outputs": [],
   "source": [
    "print(mp_df[mp_df['trsf_pole_nb']=='41830829A30166'].shape)\n",
    "mp_df[mp_df['trsf_pole_nb']=='41830829A30166']"
   ]
  },
  {
   "cell_type": "code",
   "execution_count": null,
   "id": "39e012ec",
   "metadata": {},
   "outputs": [],
   "source": [
    "dovs_outgs"
   ]
  },
  {
   "cell_type": "code",
   "execution_count": null,
   "id": "0b2e2148",
   "metadata": {},
   "outputs": [],
   "source": [
    "dovs_outgs = DOVSOutages(                 \n",
    "    df_construct_type=DFConstructType.kRunSqlQuery, \n",
    "    contstruct_df_args=None, \n",
    "    init_df_in_constructor=True, \n",
    "    build_sql_function=DOVSOutages_SQL.build_sql_std_outage, \n",
    "    build_sql_function_kwargs=dict(\n",
    "        outg_rec_nbs=['12061939', '12415998'], \n",
    "        include_premise=True\n",
    "    )\n",
    ")"
   ]
  },
  {
   "cell_type": "code",
   "execution_count": null,
   "id": "8978f297",
   "metadata": {},
   "outputs": [],
   "source": [
    "dovs_outgs.df[dovs_outgs.df['OUTG_REC_NB']=='12061939']['PREMISE_NB'].unique().tolist()"
   ]
  },
  {
   "cell_type": "code",
   "execution_count": null,
   "id": "346e56d0",
   "metadata": {},
   "outputs": [],
   "source": [
    "dovs_outgs.df[dovs_outgs.df['OUTG_REC_NB']=='12415998']['PREMISE_NB'].unique().tolist()"
   ]
  },
  {
   "cell_type": "code",
   "execution_count": null,
   "id": "a58c18dd",
   "metadata": {},
   "outputs": [],
   "source": []
  },
  {
   "cell_type": "code",
   "execution_count": null,
   "id": "fba923e3",
   "metadata": {},
   "outputs": [],
   "source": [
    "mp_df[mp_df['trsf_pole_nb']=='41830829A30166']['OUTG_REC_NB'].value_counts()"
   ]
  },
  {
   "cell_type": "code",
   "execution_count": null,
   "id": "444abe38",
   "metadata": {},
   "outputs": [],
   "source": [
    "mp_df_i = mp_df_i[(mp_df_i[df_mp_install_time_col] <= dt_0_i) & \n",
    "                  (mp_df_i[df_mp_removal_time_col].fillna(pd.Timestamp.max) > dt_1_i)]\n",
    "mp_df_i"
   ]
  },
  {
   "cell_type": "code",
   "execution_count": null,
   "id": "d878cee1",
   "metadata": {},
   "outputs": [],
   "source": []
  },
  {
   "cell_type": "code",
   "execution_count": null,
   "id": "c37f8813",
   "metadata": {},
   "outputs": [],
   "source": [
    "print(len(set(mp_df_i['mfr_devc_ser_nbr'].tolist()).symmetric_difference(set(active_SNs_df_i.iloc[0]['mfr_devc_ser_nbr']))))\n",
    "print(len(set(mp_df_i['prem_nb'].tolist()).symmetric_difference(set(active_SNs_df_i.iloc[0]['prem_nb']))))"
   ]
  },
  {
   "cell_type": "code",
   "execution_count": null,
   "id": "59d5603d",
   "metadata": {},
   "outputs": [],
   "source": [
    "SNs_i = mp_df_i[df_mp_serial_number_col].unique().tolist()\n",
    "PNs_i = mp_df_i[df_mp_prem_nb_col].unique().tolist()"
   ]
  },
  {
   "cell_type": "code",
   "execution_count": null,
   "id": "604fbda1",
   "metadata": {},
   "outputs": [],
   "source": [
    "SNs_i"
   ]
  },
  {
   "cell_type": "code",
   "execution_count": null,
   "id": "e24c6dc6",
   "metadata": {},
   "outputs": [],
   "source": [
    "PNs_i"
   ]
  },
  {
   "cell_type": "code",
   "execution_count": null,
   "id": "a5a2bac9",
   "metadata": {},
   "outputs": [],
   "source": [
    "mp_df[mp_df['mfr_devc_ser_nbr']=='883040556']"
   ]
  },
  {
   "cell_type": "code",
   "execution_count": null,
   "id": "6761782f",
   "metadata": {},
   "outputs": [],
   "source": [
    "mp_df_curr_hist_BUILT = MeterPremise.build_mp_df_curr_hist_for_xfmrs(rcpo_df_OG.index.get_level_values(trsf_pole_nbs_idx_lvl).tolist())"
   ]
  },
  {
   "cell_type": "code",
   "execution_count": null,
   "id": "cb845bb1",
   "metadata": {},
   "outputs": [],
   "source": [
    "mp_df_curr_hist_BUILT['mp_df_curr'][mp_df_curr_hist_BUILT['mp_df_curr']['mfr_devc_ser_nbr']=='883040556']"
   ]
  },
  {
   "cell_type": "code",
   "execution_count": null,
   "id": "da4782d7",
   "metadata": {},
   "outputs": [],
   "source": [
    "mp_df_curr_hist_BUILT['mp_df_hist'][mp_df_curr_hist_BUILT['mp_df_hist']['mfr_devc_ser_nbr']=='883040556']"
   ]
  },
  {
   "cell_type": "code",
   "execution_count": null,
   "id": "bceb66dd",
   "metadata": {},
   "outputs": [],
   "source": []
  },
  {
   "cell_type": "code",
   "execution_count": null,
   "id": "f8a351fc",
   "metadata": {},
   "outputs": [],
   "source": []
  },
  {
   "cell_type": "code",
   "execution_count": null,
   "id": "41014245",
   "metadata": {},
   "outputs": [],
   "source": [
    "pd.MultiIndex(idx_i, names=rcpo_idx_names)"
   ]
  },
  {
   "cell_type": "code",
   "execution_count": null,
   "id": "ce9c1457",
   "metadata": {},
   "outputs": [],
   "source": [
    "list(idx_i)"
   ]
  },
  {
   "cell_type": "code",
   "execution_count": null,
   "id": "63e706ca",
   "metadata": {},
   "outputs": [],
   "source": []
  },
  {
   "cell_type": "code",
   "execution_count": null,
   "id": "454a740e",
   "metadata": {},
   "outputs": [],
   "source": [
    "pd.MultiIndex.from_tuples([idx_i])"
   ]
  },
  {
   "cell_type": "code",
   "execution_count": null,
   "id": "0a898852",
   "metadata": {},
   "outputs": [],
   "source": [
    "pd.DataFrame(index=pd.MultiIndex.from_tuples([idx_i]), columns=['Fuck'])"
   ]
  },
  {
   "cell_type": "code",
   "execution_count": null,
   "id": "7a13e9d3",
   "metadata": {},
   "outputs": [],
   "source": [
    "rcpo_idx_names"
   ]
  },
  {
   "cell_type": "code",
   "execution_count": null,
   "id": "fd3aa182",
   "metadata": {},
   "outputs": [],
   "source": [
    "idx_names_w_vals"
   ]
  },
  {
   "cell_type": "code",
   "execution_count": null,
   "id": "c8a7ad29",
   "metadata": {},
   "outputs": [],
   "source": [
    "if len(rcpo_idx_names)==1:\n",
    "    assert(rcpo_df.index.nlevels==1)\n",
    "    idx_names_w_vals = [(rcpo_idx_names[0], idx_i)]\n",
    "else:\n",
    "    idx_names_w_vals = [((rcpo_idx_names[i] if i!=trsf_pole_nbs_idx_lvl else df_mp_trsf_pole_nb_col), idx_i[i]) \n",
    "                        for i in range(len(idx_i))]\n",
    "PNs_i=row_i[return_prem_nbs_col]\n",
    "dt_0_i=row_i[t_min_col]\n",
    "dt_1_i=row_i[t_max_col]\n",
    "#-----\n",
    "# See NOTEs above regarding t_min/t_max being empty\n",
    "# In such a case, it is simply impossibe (with the summary files currently generated) to access\n",
    "#   the date over which the data would have been run, if any events existed.\n",
    "#   In future versions, this information will be included in the summary files!\n",
    "# I don't want to completely exclude these (by e.g., setting dt_0_i=pd.Timestamp.min and \n",
    "#   dt_1_i=pd.Timestamp.max), so I will simply include the meters which are active TODAY.\n",
    "# This obviously is not correct, but this occurrence is rare (only happening when every single meter\n",
    "#   on a transformer had no events during the time period) and this crude approximation will be fine.\n",
    "if Utilities.is_object_one_of_types(dt_0_i, [list, np.ndarray]):\n",
    "    assert(len(dt_0_i)==0)\n",
    "    # I believe if this happens for one it should happen for both...\n",
    "    assert(Utilities.is_object_one_of_types(dt_1_i, [list, np.ndarray]) and len(dt_1_i)==0)\n",
    "    dt_0_i=pd.Timestamp.today()\n",
    "if Utilities.is_object_one_of_types(dt_1_i, [list, np.ndarray]):\n",
    "    assert(len(dt_1_i)==0)\n",
    "    # I believe if this happens for one it should happen for both...\n",
    "    # But, dt_0_i changed already above, so must check row_i[t_min_col] instead!\n",
    "    assert(Utilities.is_object_one_of_types(row_i[t_min_col], [list, np.ndarray]) and len(row_i[t_min_col])==0)\n",
    "    dt_1_i=pd.Timestamp.today()"
   ]
  },
  {
   "cell_type": "code",
   "execution_count": null,
   "id": "d536cc45",
   "metadata": {},
   "outputs": [],
   "source": [
    "if((not isinstance(PNs_i, list) and pd.isna(PNs_i)) or \n",
    "   len(PNs_i)==0):\n",
    "    active_SNs_df_i = pd.DataFrame()\n",
    "else:\n",
    "    active_SNs_df_i = MeterPremise.get_active_SNs_for_PNs_at_datetime_interval(\n",
    "        PNs=PNs_i,\n",
    "        df_mp_curr=df_mp_curr, \n",
    "        df_mp_hist=df_mp_hist, \n",
    "        dt_0=dt_0_i,\n",
    "        dt_1=dt_1_i,\n",
    "        output_index=None,\n",
    "        output_groupby=[df_mp_prem_nb_col], \n",
    "        include_prems_wo_active_SNs_when_groupby=True, \n",
    "        assert_all_PNs_found=False, \n",
    "        drop_approx_duplicates=True, \n",
    "#         drop_approx_duplicates_args=dict(addtnl_groupby_cols=['OUTG_REC_NB'])\n",
    "    )\n",
    "    active_SNs_df_i=active_SNs_df_i.reset_index()"
   ]
  },
  {
   "cell_type": "code",
   "execution_count": null,
   "id": "160be764",
   "metadata": {},
   "outputs": [],
   "source": [
    "active_SNs_df_i"
   ]
  },
  {
   "cell_type": "code",
   "execution_count": null,
   "id": "dcffa812",
   "metadata": {},
   "outputs": [],
   "source": [
    "rcpo_df.index"
   ]
  },
  {
   "cell_type": "code",
   "execution_count": null,
   "id": "7ed69043",
   "metadata": {},
   "outputs": [],
   "source": [
    "type(pd.DataFrame(index=rcpo_df.index, columns=['FUCK', 'BALLS']).loc[('12048233', '1839488704233')])"
   ]
  },
  {
   "cell_type": "code",
   "execution_count": null,
   "id": "abc8658d",
   "metadata": {},
   "outputs": [],
   "source": [
    "# Replaces get_active_SNs_for_xfmrs_OLD, but should probably build get_active_SNs_for_xfmrs\n",
    "#  which accepts a list of trsf_pole_nbs instead of rcpo_df, which this function can use\n",
    "def get_active_SNs_for_xfmrs_in_rcpo_df_NEW(\n",
    "    rcpo_df, \n",
    "    trsf_pole_nbs_loc, \n",
    "    df_mp, \n",
    "    time_infos_df, \n",
    "    rcpo_idxs_to_df_mp={0:'OUTG_REC_NB', 1:'trsf_pole_nb'}, \n",
    "    rcpo_df_to_time_infos_on = [('index', 'outg_rec_nb')], \n",
    "    time_infos_to_rcpo_df_on = ['index'], \n",
    "    how='left', \n",
    "    return_SNs_col='SNs', \n",
    "    return_prem_nbs_col='prem_nbs', \n",
    "    assert_all_trsf_pole_nbs_found=True, \n",
    "    df_mp_serial_number_col='mfr_devc_ser_nbr', \n",
    "    df_mp_prem_nb_col='prem_nb', \n",
    "    df_mp_install_time_col='inst_ts', \n",
    "    df_mp_removal_time_col='rmvl_ts', \n",
    "    df_mp_trsf_pole_nb_col='trsf_pole_nb', \n",
    "    t_min_col='t_min', \n",
    "    t_max_col='t_max'\n",
    "):\n",
    "    r\"\"\"\n",
    "    Difficulty is that default.meter_premise_hist does not have trsf_pole_nb field.\n",
    "    Therefore, one must use default.meter_premise to find the premise numbers for xfrms in trsf_pole_nbs,\n",
    "      then use those PNs to select the correct entries from default.meter_premise_hist.\n",
    "    The trsf_pole_nbs should be contained in rcpo_df, and will be found using the trsf_pole_nbs_loc\n",
    "      parameter described below.\n",
    "      \n",
    "    trsf_pole_nbs_loc:\n",
    "        Directs where the transformer pole numbers are located\n",
    "        This should identify an index (w/ level)\n",
    "        Set equal to 'index' for normal DFs, or when trsf_pole_nbs are in level 0 of index.\n",
    "        For a DF with MultiIndex index, there are two options:\n",
    "            i.  Set equal to f'index_{idx_level}' for a DF with MutliIndex index, where idx_level\n",
    "                is an int identifying the level in which the trsf_pole_nbs reside\n",
    "            ii. Set equal to the tuple ('index', trsf_pole_nbs_idx_name), where trsf_pole_nbs_idx_name is\n",
    "            the name of the index level in which the trsf_pole_nbs reside.\n",
    "      \n",
    "    \"\"\"\n",
    "    #--------------------------------------------------\n",
    "    # Make sure df_mp_install_time_col and df_mp_removal_time_col are datetime objects, not e.g., strings\n",
    "    if(not is_datetime64_dtype(df_mp[df_mp_install_time_col]) or \n",
    "       not is_datetime64_dtype(df_mp[df_mp_removal_time_col])):\n",
    "        # If one isn't, chances are both are not (and no harm in converting both either way)\n",
    "        df_mp = Utilities_df.convert_col_types(\n",
    "            df=df_mp, \n",
    "            cols_and_types_dict={\n",
    "                df_mp_install_time_col:datetime.datetime, \n",
    "                df_mp_removal_time_col:datetime.datetime\n",
    "            }\n",
    "        )\n",
    "    #--------------------------------------------------\n",
    "    assert(t_min_col in time_infos_df.columns and \n",
    "           t_max_col in time_infos_df.columns)\n",
    "    time_infos_df = time_infos_df[[t_min_col, t_max_col]]\n",
    "    #-----\n",
    "    # Remove any duplicates from time_infos_df\n",
    "    tmp_col = Utilities.generate_random_string()\n",
    "    time_infos_df[tmp_col] = time_infos_df.index\n",
    "    time_infos_df = time_infos_df.drop_duplicates()\n",
    "    time_infos_df = time_infos_df.drop(columns=[tmp_col])\n",
    "    #--------------------------------------------------\n",
    "    # trsf_pole_nbs_loc can be a string or tuple/list\n",
    "    # First, find trsf_pole_nbs and trsf_pole_nbs_idx_lvl\n",
    "    assert(Utilities.is_object_one_of_types(trsf_pole_nbs_loc, [str, list, tuple]))\n",
    "    if isinstance(trsf_pole_nbs_loc, str):\n",
    "        assert(trsf_pole_nbs_loc.startswith('index'))\n",
    "        if trsf_pole_nbs_loc=='index':\n",
    "            trsf_pole_nbs_idx_lvl = 0\n",
    "        else:\n",
    "            trsf_pole_nbs_idx_lvl = re.findall('index_(\\d*)', trsf_pole_nbs_loc)\n",
    "            assert(len(trsf_pole_nbs_idx_lvl)==1)\n",
    "            trsf_pole_nbs_idx_lvl=trsf_pole_nbs_idx_lvl[0]\n",
    "            trsf_pole_nbs_idx_lvl=int(trsf_pole_nbs_idx_lvl)\n",
    "    else:\n",
    "        assert(len(trsf_pole_nbs_loc)==2)\n",
    "        assert(trsf_pole_nbs_loc[0]=='index')\n",
    "        assert(trsf_pole_nbs_loc[1] in rcpo_df.index.names)\n",
    "        trsf_pole_nbs_idx_lvl = rcpo_df.index.names.index(trsf_pole_nbs_loc[1])\n",
    "        #---------------\n",
    "        assert(trsf_pole_nbs_idx_lvl < rcpo_df.index.nlevels)\n",
    "    #--------------------------------------------------\n",
    "    #-------------------------\n",
    "    necessary_mp_cols = [df_mp_serial_number_col, df_mp_prem_nb_col, df_mp_install_time_col, df_mp_removal_time_col]\n",
    "    #-------------------------\n",
    "    # At a bare minimum, df_mp must have the following columns:\n",
    "    #   necessary_mp_cols = ['mfr_devc_ser_nbr', 'prem_nb', 'inst_ts', 'rmvl_ts']\n",
    "    assert(all([x in df_mp.columns for x in necessary_mp_cols+[df_mp_trsf_pole_nb_col]]))\n",
    "    #-------------------------\n",
    "    # Join together rcpo_df, time_infos_df and PNs_for_xfmrs\n",
    "    rcpo_df = merge_rcpo_and_df(\n",
    "        rcpo_df=rcpo_df, \n",
    "        df_2=time_infos_df, \n",
    "        rcpo_df_on=rcpo_df_to_time_infos_on,\n",
    "        df_2_on=time_infos_to_rcpo_df_on, \n",
    "        how=how\n",
    "    )\n",
    "    #--------------------------------------------------\n",
    "    # Only reason for making dict is to ensure trsf_pole_nbs are not repeated \n",
    "    active_SNs_in_xfmrs_dfs_dict = {}\n",
    "    active_SNs_df = pd.DataFrame(index=rcpo_df.index, columns=[return_SNs_col, return_prem_nbs_col])\n",
    "\n",
    "    rcpo_idx_names = list(rcpo_df.index.names)\n",
    "    assert(not any([x is None for x in rcpo_idx_names]))\n",
    "    for idx_i, row_i in rcpo_df.iterrows():    \n",
    "        dt_0_i=row_i[t_min_col]\n",
    "        dt_1_i=row_i[t_max_col]\n",
    "        #-----\n",
    "        # See NOTEs above regarding t_min/t_max being empty\n",
    "        # In such a case, it is simply impossibe (with the summary files currently generated) to access\n",
    "        #   the date over which the data would have been run, if any events existed.\n",
    "        #   In future versions, this information will be included in the summary files!\n",
    "        # I don't want to completely exclude these (by e.g., setting dt_0_i=pd.Timestamp.min and \n",
    "        #   dt_1_i=pd.Timestamp.max), so I will simply include the meters which are active TODAY.\n",
    "        # This obviously is not correct, but this occurrence is rare (only happening when every single meter\n",
    "        #   on a transformer had no events during the time period) and this crude approximation will be fine.\n",
    "        if Utilities.is_object_one_of_types(dt_0_i, [list, np.ndarray]):\n",
    "            assert(len(dt_0_i)==0)\n",
    "            # I believe if this happens for one it should happen for both...\n",
    "            assert(Utilities.is_object_one_of_types(dt_1_i, [list, np.ndarray]) and len(dt_1_i)==0)\n",
    "            dt_0_i=pd.Timestamp.today()\n",
    "        if Utilities.is_object_one_of_types(dt_1_i, [list, np.ndarray]):\n",
    "            assert(len(dt_1_i)==0)\n",
    "            # I believe if this happens for one it should happen for both...\n",
    "            # But, dt_0_i changed already above, so must check row_i[t_min_col] instead!\n",
    "            assert(Utilities.is_object_one_of_types(row_i[t_min_col], [list, np.ndarray]) and len(row_i[t_min_col])==0)\n",
    "            dt_1_i=pd.Timestamp.today()            \n",
    "        #-------------------------\n",
    "        df_mp_slicer = DFSlicer()\n",
    "        if len(rcpo_idx_names)==1:\n",
    "            assert(rcpo_df.index.nlevels==1)\n",
    "            idx_names_w_vals = [(rcpo_idx_names[0], idx_i)]\n",
    "            df_mp_slicer.add_single_slicer(dict(column=rcpo_idxs_to_df_mp[0], value=idx_i))\n",
    "        else:\n",
    "            idx_names_w_vals = [((rcpo_idx_names[i] if i!=trsf_pole_nbs_idx_lvl else df_mp_trsf_pole_nb_col), idx_i[i]) \n",
    "                                for i in range(len(idx_i))]\n",
    "            assert(len(rcpo_idx_names)==len(idx_i))\n",
    "            for i_idx in range(len(rcpo_idx_names)):\n",
    "                df_mp_slicer.add_single_slicer(dict(column=rcpo_idxs_to_df_mp[i_idx], value=idx_i[i_idx]))\n",
    "        #-----        \n",
    "        df_mp_i = df_mp_slicer.perform_slicing(df_mp)\n",
    "        df_mp_i = df_mp_i[(df_mp_i[df_mp_install_time_col] <= dt_0_i) & \n",
    "                          (df_mp_i[df_mp_removal_time_col].fillna(pd.Timestamp.max) > dt_1_i)]                        \n",
    "        #-------------------------\n",
    "        SNs_i = df_mp_i[df_mp_serial_number_col].unique().tolist()\n",
    "        PNs_i = df_mp_i[df_mp_prem_nb_col].unique().tolist()        \n",
    "        #-------------------------\n",
    "        # Make sure not already an entry in active_SNs_df for idx_i\n",
    "        assert(active_SNs_df.loc[idx_i].isna().sum()==active_SNs_df.shape[1] and \n",
    "               isinstance(active_SNs_df.loc[idx_i], pd.Series))\n",
    "        active_SNs_df.loc[idx_i, return_SNs_col] = SNs_i\n",
    "        active_SNs_df.loc[idx_i, return_prem_nbs_col] = PNs_i\n",
    "    #-------------------------\n",
    "    # Change [nan] entries to []\n",
    "    #-----\n",
    "    # First, if any entries equal NaN, change to []\n",
    "    active_SNs_df.loc[active_SNs_df[return_SNs_col].isna(), return_SNs_col] = active_SNs_df.loc[active_SNs_df[return_SNs_col].isna(), return_SNs_col].apply(lambda x: [])\n",
    "    # Now, change any entries equal to [] or [NaN] to []\n",
    "    found_nans_srs = active_SNs_df[return_SNs_col].apply(lambda x: len([ix for ix in x if not pd.isna(ix)]))==0\n",
    "    if found_nans_srs.sum()>0:\n",
    "        active_SNs_df.loc[found_nans_srs, return_SNs_col] = active_SNs_df.loc[found_nans_srs, return_SNs_col].apply(lambda x: [])\n",
    "    #-----\n",
    "    # First, if any entries equal NaN, change to []\n",
    "    active_SNs_df.loc[active_SNs_df[return_prem_nbs_col].isna(), return_prem_nbs_col] = active_SNs_df.loc[active_SNs_df[return_prem_nbs_col].isna(), return_prem_nbs_col].apply(lambda x: [])\n",
    "    # Now, change any entries equal to [] or [NaN] to []\n",
    "    found_nans_srs = active_SNs_df[return_prem_nbs_col].apply(lambda x: len([ix for ix in x if not pd.isna(ix)]))==0\n",
    "    if found_nans_srs.sum()>0:\n",
    "        active_SNs_df.loc[found_nans_srs, return_prem_nbs_col] = active_SNs_df.loc[found_nans_srs, return_prem_nbs_col].apply(lambda x: [])\n",
    "    #-------------------------\n",
    "    return active_SNs_df"
   ]
  },
  {
   "cell_type": "code",
   "execution_count": null,
   "id": "0e0d1caa",
   "metadata": {},
   "outputs": [],
   "source": [
    "rcpo_df_raw  = MECPODf.project_level_0_columns_from_rcpo_wide(rcpo_df_OG.copy(), 'counts', droplevel=True)\n",
    "\n",
    "\n",
    "mp_df_curr_hist = {}\n",
    "mp_df_curr_hist['mp_df_curr'] = mp_df[mp_df['trsf_pole_nb'].notna()].copy()\n",
    "mp_df_curr_hist['mp_df_hist'] = mp_df[mp_df['trsf_pole_nb'].isna()].copy()\n",
    "\n",
    "if mp_df_curr_hist['mp_df_curr'].shape[0]==0:\n",
    "    mp_df_curr_hist['mp_df_curr'] = mp_df_curr_hist['mp_df_curr']\n",
    "    \n",
    "if mp_df_curr_hist['mp_df_hist'].shape[0]==0:\n",
    "    mp_df_curr_hist['mp_df_hist'] = mp_df_curr_hist['mp_df_hist']\n",
    "    \n",
    "assert(mp_df_curr_hist['mp_df_curr'].shape[0]+mp_df_curr_hist['mp_df_hist'].shape[0]==mp_df.shape[0])"
   ]
  },
  {
   "cell_type": "code",
   "execution_count": null,
   "id": "0ff3e5cd",
   "metadata": {},
   "outputs": [],
   "source": [
    "start=time.time()\n",
    "addtnl_get_active_SNs_for_xfmrs_kwargs=dict(assert_all_trsf_pole_nbs_found=False)\n",
    "get_active_SNs_for_xfmrs_kwargs = dict(\n",
    "    rcpo_df=rcpo_df_raw, \n",
    "    trsf_pole_nbs_loc=trsf_pole_nbs_loc, \n",
    "    df_mp_curr=mp_df_curr_hist['mp_df_curr'],\n",
    "    df_mp_hist=mp_df_curr_hist['mp_df_hist'],  \n",
    "    time_infos_df=time_infos_df, \n",
    "    rcpo_df_to_time_infos_on=rcpo_df_to_time_infos_on, \n",
    "    time_infos_to_rcpo_df_on=time_infos_to_rcpo_df_on, \n",
    "    how=how, \n",
    "    rcpo_df_to_PNs_on=rcpo_df_to_PNs_on, \n",
    "    PNs_to_rcpo_df_on=PNs_to_rcpo_df_on, \n",
    "    return_prem_nbs_col='_xfmr_PNs', \n",
    "    return_SNs_col='_xfmr_SNs'\n",
    ")\n",
    "if addtnl_get_active_SNs_for_xfmrs_kwargs is not None:\n",
    "    get_active_SNs_for_xfmrs_kwargs = {**get_active_SNs_for_xfmrs_kwargs, \n",
    "                                       **addtnl_get_active_SNs_for_xfmrs_kwargs}\n",
    "active_SNs_df = get_active_SNs_for_xfmrs_in_rcpo_df(**get_active_SNs_for_xfmrs_kwargs)\n",
    "assert(isinstance(active_SNs_df, pd.DataFrame))\n",
    "print(time.time()-start)"
   ]
  },
  {
   "cell_type": "code",
   "execution_count": null,
   "id": "c95d5c68",
   "metadata": {},
   "outputs": [],
   "source": [
    "start=time.time()\n",
    "addtnl_get_active_SNs_for_xfmrs_kwargs=dict(assert_all_trsf_pole_nbs_found=False)\n",
    "get_active_SNs_for_xfmrs_kwargs = dict(\n",
    "    rcpo_df=rcpo_df_raw, \n",
    "    trsf_pole_nbs_loc=trsf_pole_nbs_loc, \n",
    "    df_mp=mp_df,\n",
    "    time_infos_df=time_infos_df, \n",
    "    rcpo_df_to_time_infos_on=rcpo_df_to_time_infos_on, \n",
    "    time_infos_to_rcpo_df_on=time_infos_to_rcpo_df_on, \n",
    "    how=how, \n",
    "#     rcpo_df_to_PNs_on=rcpo_df_to_PNs_on, \n",
    "#     PNs_to_rcpo_df_on=PNs_to_rcpo_df_on, \n",
    "    return_prem_nbs_col='_xfmr_PNs', \n",
    "    return_SNs_col='_xfmr_SNs'\n",
    ")\n",
    "if addtnl_get_active_SNs_for_xfmrs_kwargs is not None:\n",
    "    get_active_SNs_for_xfmrs_kwargs = {**get_active_SNs_for_xfmrs_kwargs, \n",
    "                                       **addtnl_get_active_SNs_for_xfmrs_kwargs}\n",
    "active_SNs_df_NEW = get_active_SNs_for_xfmrs_in_rcpo_df_NEW(**get_active_SNs_for_xfmrs_kwargs)\n",
    "assert(isinstance(active_SNs_df_NEW, pd.DataFrame))\n",
    "print(time.time()-start)"
   ]
  },
  {
   "cell_type": "code",
   "execution_count": null,
   "id": "b4029892",
   "metadata": {},
   "outputs": [],
   "source": [
    "active_SNs_df"
   ]
  },
  {
   "cell_type": "code",
   "execution_count": null,
   "id": "207f0b57",
   "metadata": {},
   "outputs": [],
   "source": [
    "active_SNs_df_NEW"
   ]
  },
  {
   "cell_type": "code",
   "execution_count": null,
   "id": "a5b357f6",
   "metadata": {},
   "outputs": [],
   "source": [
    "active_SNs_df.equals(active_SNs_df_NEW)"
   ]
  },
  {
   "cell_type": "code",
   "execution_count": null,
   "id": "5039f552",
   "metadata": {},
   "outputs": [],
   "source": [
    "active_SNs_df['_xfmr_SNs']=active_SNs_df['_xfmr_SNs'].apply(sorted)\n",
    "active_SNs_df['_xfmr_PNs']=active_SNs_df['_xfmr_PNs'].apply(sorted)\n",
    "\n",
    "active_SNs_df_NEW['_xfmr_SNs']=active_SNs_df_NEW['_xfmr_SNs'].apply(sorted)\n",
    "active_SNs_df_NEW['_xfmr_PNs']=active_SNs_df_NEW['_xfmr_PNs'].apply(sorted)"
   ]
  },
  {
   "cell_type": "code",
   "execution_count": null,
   "id": "26a4d361",
   "metadata": {},
   "outputs": [],
   "source": [
    "active_SNs_df.equals(active_SNs_df_NEW)"
   ]
  },
  {
   "cell_type": "code",
   "execution_count": null,
   "id": "011b8832",
   "metadata": {},
   "outputs": [],
   "source": [
    "active_SNs_df=active_SNs_df.sort_index()\n",
    "active_SNs_df_NEW=active_SNs_df_NEW.sort_index()"
   ]
  },
  {
   "cell_type": "code",
   "execution_count": null,
   "id": "0b5ded1f",
   "metadata": {},
   "outputs": [],
   "source": [
    "active_SNs_df.equals(active_SNs_df_NEW)"
   ]
  },
  {
   "cell_type": "code",
   "execution_count": null,
   "id": "96a89f24",
   "metadata": {},
   "outputs": [],
   "source": [
    "# Utilities_df.get_dfs_diff(active_SNs_df, active_SNs_df_NEW)"
   ]
  },
  {
   "cell_type": "code",
   "execution_count": null,
   "id": "0589d84c",
   "metadata": {},
   "outputs": [],
   "source": [
    "active_SNs_df"
   ]
  },
  {
   "cell_type": "code",
   "execution_count": null,
   "id": "05ff556a",
   "metadata": {},
   "outputs": [],
   "source": [
    "active_SNs_df_NEW"
   ]
  },
  {
   "cell_type": "code",
   "execution_count": null,
   "id": "3ccaf8d8",
   "metadata": {},
   "outputs": [],
   "source": [
    "all(active_SNs_df.index==active_SNs_df_NEW.index)"
   ]
  },
  {
   "cell_type": "code",
   "execution_count": null,
   "id": "9785d76c",
   "metadata": {},
   "outputs": [],
   "source": [
    "for idx in active_SNs_df.index:\n",
    "    print(idx)\n",
    "    print(active_SNs_df.loc[idx]['_xfmr_SNs']==active_SNs_df_NEW.loc[idx]['_xfmr_SNs'])\n",
    "    print(active_SNs_df.loc[idx]['_xfmr_SNs'])\n",
    "    print(active_SNs_df_NEW.loc[idx]['_xfmr_SNs'])\n",
    "    print()\n",
    "    assert(active_SNs_df.loc[idx]['_xfmr_SNs']==active_SNs_df_NEW.loc[idx]['_xfmr_SNs'])"
   ]
  },
  {
   "cell_type": "code",
   "execution_count": null,
   "id": "b196d2ff",
   "metadata": {},
   "outputs": [],
   "source": [
    "mp_df[mp_df['mfr_devc_ser_nbr'].isin(['881479764', '883040489', '883040491', '883040492', '883040505', '883040506', '883040507', '883040508', '883040553', '883040554', '883040555', '883040556'])]"
   ]
  },
  {
   "cell_type": "code",
   "execution_count": null,
   "id": "c8d45846",
   "metadata": {},
   "outputs": [],
   "source": []
  },
  {
   "cell_type": "code",
   "execution_count": null,
   "id": "01c837c5",
   "metadata": {},
   "outputs": [],
   "source": []
  },
  {
   "cell_type": "code",
   "execution_count": null,
   "id": "3ad3c001",
   "metadata": {},
   "outputs": [],
   "source": []
  },
  {
   "cell_type": "code",
   "execution_count": null,
   "id": "cfb1ce8c",
   "metadata": {},
   "outputs": [],
   "source": []
  },
  {
   "cell_type": "code",
   "execution_count": null,
   "id": "1c542ef9",
   "metadata": {},
   "outputs": [],
   "source": []
  },
  {
   "cell_type": "code",
   "execution_count": null,
   "id": "56f8e84b",
   "metadata": {},
   "outputs": [],
   "source": []
  },
  {
   "cell_type": "code",
   "execution_count": null,
   "id": "cd87e0a4",
   "metadata": {},
   "outputs": [],
   "source": []
  },
  {
   "cell_type": "code",
   "execution_count": null,
   "id": "bb1a15c8",
   "metadata": {},
   "outputs": [],
   "source": []
  },
  {
   "cell_type": "code",
   "execution_count": null,
   "id": "1cdef6b5",
   "metadata": {},
   "outputs": [],
   "source": []
  },
  {
   "cell_type": "code",
   "execution_count": null,
   "id": "143a9d9c",
   "metadata": {},
   "outputs": [],
   "source": []
  },
  {
   "cell_type": "code",
   "execution_count": null,
   "id": "582f4975",
   "metadata": {},
   "outputs": [],
   "source": []
  },
  {
   "cell_type": "code",
   "execution_count": null,
   "id": "2d8d8193",
   "metadata": {},
   "outputs": [],
   "source": []
  },
  {
   "cell_type": "code",
   "execution_count": null,
   "id": "bcad515b",
   "metadata": {},
   "outputs": [],
   "source": []
  },
  {
   "cell_type": "code",
   "execution_count": null,
   "id": "161d8849",
   "metadata": {},
   "outputs": [],
   "source": []
  },
  {
   "cell_type": "code",
   "execution_count": null,
   "id": "64686a78",
   "metadata": {},
   "outputs": [],
   "source": []
  },
  {
   "cell_type": "code",
   "execution_count": null,
   "id": "f9ca1f26",
   "metadata": {},
   "outputs": [],
   "source": []
  },
  {
   "cell_type": "code",
   "execution_count": null,
   "id": "feb9f8f5",
   "metadata": {},
   "outputs": [],
   "source": []
  },
  {
   "cell_type": "code",
   "execution_count": null,
   "id": "98c88c9d",
   "metadata": {},
   "outputs": [],
   "source": []
  },
  {
   "cell_type": "code",
   "execution_count": null,
   "id": "a736b9ee",
   "metadata": {},
   "outputs": [],
   "source": []
  }
 ],
 "metadata": {
  "kernelspec": {
   "display_name": "Python 3 (ipykernel)",
   "language": "python",
   "name": "python3"
  },
  "language_info": {
   "codemirror_mode": {
    "name": "ipython",
    "version": 3
   },
   "file_extension": ".py",
   "mimetype": "text/x-python",
   "name": "python",
   "nbconvert_exporter": "python",
   "pygments_lexer": "ipython3",
   "version": "3.11.7"
  }
 },
 "nbformat": 4,
 "nbformat_minor": 5
}
