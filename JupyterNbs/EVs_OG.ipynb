{
 "cells": [
  {
   "cell_type": "code",
   "execution_count": null,
   "id": "444718d9",
   "metadata": {},
   "outputs": [],
   "source": [
    "from importlib import reload\n",
    "#reload(Utilities)\n",
    "#reload(clm)\n",
    "\n",
    "import sys, os\n",
    "import re\n",
    "\n",
    "import pandas as pd\n",
    "import numpy as np\n",
    "from pandas.api.types import is_numeric_dtype, is_datetime64_dtype, is_timedelta64_dtype\n",
    "from scipy import stats\n",
    "import datetime\n",
    "import time\n",
    "from natsort import natsorted, ns\n",
    "from packaging import version\n",
    "\n",
    "import itertools\n",
    "\n",
    "import pyodbc\n",
    "#---------------------------------------------------------------------\n",
    "sys.path.insert(0, os.path.realpath('..'))\n",
    "import Utilities_config\n",
    "#-----\n",
    "import CommonLearningMethods as clm\n",
    "#-----\n",
    "from MeterPremise import MeterPremise\n",
    "#-----\n",
    "from AMI_SQL import AMI_SQL\n",
    "from AMINonVee_SQL import AMINonVee_SQL\n",
    "from AMIEndEvents_SQL import AMIEndEvents_SQL\n",
    "from AMIUsgInst_SQL import AMIUsgInst_SQL\n",
    "from DOVSOutages_SQL import DOVSOutages_SQL\n",
    "#-----\n",
    "from GenAn import GenAn\n",
    "from AMINonVee import AMINonVee\n",
    "from AMIEndEvents import AMIEndEvents\n",
    "from AMIUsgInst import AMIUsgInst\n",
    "from DOVSOutages import DOVSOutages\n",
    "#---------------------------------------------------------------------\n",
    "import matplotlib as mpl\n",
    "import matplotlib.pyplot as plt\n",
    "import seaborn as sns\n",
    "from matplotlib.backends.backend_pdf import PdfPages\n",
    "import matplotlib.patches as mpatches\n",
    "from matplotlib.lines import Line2D\n",
    "import matplotlib.ticker as ticker\n",
    "from matplotlib import dates\n",
    "#---------------------------------------------------------------------\n",
    "sys.path.insert(0, Utilities_config.get_sql_aids_dir())\n",
    "import Utilities_sql\n",
    "import TableInfos\n",
    "from TableInfos import TableInfo\n",
    "from SQLElement import SQLElement\n",
    "from SQLElementsCollection import SQLElementsCollection\n",
    "from SQLSelect import SQLSelectElement, SQLSelect\n",
    "from SQLFrom import SQLFrom\n",
    "from SQLWhere import SQLWhereElement, SQLWhere\n",
    "from SQLJoin import SQLJoin, SQLJoinCollection\n",
    "from SQLGroupBy import SQLGroupByElement, SQLGroupBy\n",
    "from SQLHaving import SQLHaving\n",
    "from SQLOrderBy import SQLOrderByElement, SQLOrderBy\n",
    "from SQLQuery import SQLQuery\n",
    "from SQLQueryGeneric import SQLQueryGeneric\n",
    "#---------------------------------------------------------------------\n",
    "sys.path.insert(0, Utilities_config.get_utilities_dir())\n",
    "import Utilities\n",
    "import Utilities_df\n",
    "import Utilities_dt\n",
    "from Utilities_df import DFConstructType\n",
    "import Plot_General\n",
    "import Plot_Box_sns\n",
    "import GrubbsTest"
   ]
  },
  {
   "cell_type": "code",
   "execution_count": null,
   "id": "d639d4f8",
   "metadata": {},
   "outputs": [],
   "source": []
  },
  {
   "cell_type": "code",
   "execution_count": null,
   "id": "6ace5674",
   "metadata": {},
   "outputs": [],
   "source": [
    "# Meter premise srvc_addr_2_nm field\n",
    "srvc_addr_2_nms_EVs = [\n",
    "    '306 E BEECHWOLD BLVD', # 2 Teslas, I believe\n",
    "    '248 E BEAUMONT RD',    # Chevy Volt\n",
    "    '4935 OLENTANGY BLVD',  # Tesla\n",
    "    '60 W JEFFREY PL',      # Not sure, appears to be charge station\n",
    "    '135 HOWARD AVE'        # Chevy Volt (Mike)\n",
    "]"
   ]
  },
  {
   "cell_type": "code",
   "execution_count": null,
   "id": "a96b7159",
   "metadata": {},
   "outputs": [],
   "source": [
    "srvc_addr_2_nms_neighbors = [\n",
    "    '312 E BEECHWOLD BLVD', \n",
    "    '318 E BEECHWOLD BLVD', \n",
    "    \n",
    "    '242 E BEAUMONT RD', \n",
    "    '256 E BEAUMONT RD', \n",
    "    \n",
    "    '4925 OLENTANGY BLVD', \n",
    "    '4895 OLENTANGY BLVD', \n",
    "    \n",
    "    '66 W JEFFREY PL', \n",
    "    '44 W JEFFREY PL', \n",
    "    \n",
    "    '115 HOWARD AVE', \n",
    "    '121 HOWARD AVE'\n",
    "]"
   ]
  },
  {
   "cell_type": "code",
   "execution_count": null,
   "id": "5e06f177",
   "metadata": {},
   "outputs": [],
   "source": [
    "mp = MeterPremise(\n",
    "    df_construct_type=DFConstructType.kRunSqlQuery, \n",
    "    build_sql_function_kwargs= dict(\n",
    "        cols_of_interest = TableInfos.MeterPremise_TI.std_columns_of_interest + ['srvc_addr_2_nm', 'serv_city_ad'], \n",
    "        srvc_addr_2_nms = srvc_addr_2_nms_EVs+srvc_addr_2_nms_neighbors, \n",
    "        state='OH'\n",
    "    ), \n",
    ")"
   ]
  },
  {
   "cell_type": "code",
   "execution_count": null,
   "id": "75b28948",
   "metadata": {},
   "outputs": [],
   "source": []
  },
  {
   "cell_type": "code",
   "execution_count": null,
   "id": "01273cb6",
   "metadata": {},
   "outputs": [],
   "source": [
    "mp_df = mp.df.copy()"
   ]
  },
  {
   "cell_type": "code",
   "execution_count": null,
   "id": "f2f1ac3e",
   "metadata": {},
   "outputs": [],
   "source": [
    "mp_df"
   ]
  },
  {
   "cell_type": "code",
   "execution_count": null,
   "id": "8be6fa11",
   "metadata": {},
   "outputs": [],
   "source": []
  },
  {
   "cell_type": "code",
   "execution_count": null,
   "id": "591ea885",
   "metadata": {},
   "outputs": [],
   "source": []
  },
  {
   "cell_type": "code",
   "execution_count": null,
   "id": "db491263",
   "metadata": {},
   "outputs": [],
   "source": [
    "date_0 = '2023-01-01'\n",
    "date_1 = '2023-02-28'"
   ]
  },
  {
   "cell_type": "code",
   "execution_count": null,
   "id": "6b0d520a",
   "metadata": {},
   "outputs": [],
   "source": [
    "ami = AMINonVee(\n",
    "    df_construct_type=DFConstructType.kRunSqlQuery, \n",
    "    build_sql_function_kwargs= dict(\n",
    "        cols_of_interest = TableInfos.AMINonVee_TI.std_columns_of_interest, \n",
    "        serial_numbers = mp_df['mfr_devc_ser_nbr'].tolist(), \n",
    "        date_range = [date_0, date_1], \n",
    "        state='OH'\n",
    "    ), \n",
    "    init_df_in_constructor=True\n",
    ")"
   ]
  },
  {
   "cell_type": "code",
   "execution_count": null,
   "id": "f579496c",
   "metadata": {},
   "outputs": [],
   "source": [
    "ami_df = ami.df.copy()\n",
    "ami_df = ami_df[ami_df['aep_srvc_qlty_idntfr']=='TOTAL']"
   ]
  },
  {
   "cell_type": "code",
   "execution_count": null,
   "id": "64f36c94",
   "metadata": {},
   "outputs": [],
   "source": [
    "ami_df"
   ]
  },
  {
   "cell_type": "code",
   "execution_count": null,
   "id": "8fae374b",
   "metadata": {},
   "outputs": [],
   "source": [
    "ami_df = AMINonVee.perform_std_initiation_and_cleaning(ami_df)"
   ]
  },
  {
   "cell_type": "code",
   "execution_count": null,
   "id": "1a2de200",
   "metadata": {},
   "outputs": [],
   "source": [
    "ami_df.dtypes"
   ]
  },
  {
   "cell_type": "code",
   "execution_count": null,
   "id": "6a186e76",
   "metadata": {},
   "outputs": [],
   "source": [
    "ami_df_resamples = AMINonVee.build_time_resampled_dfs(ami_df, base_freq='15T', freqs=['H', '2H', '12H', 'D', 'W'])"
   ]
  },
  {
   "cell_type": "code",
   "execution_count": null,
   "id": "f244d0dc",
   "metadata": {},
   "outputs": [],
   "source": [
    "ami_df_resamples['2H'].keys()"
   ]
  },
  {
   "cell_type": "code",
   "execution_count": null,
   "id": "b25f572e",
   "metadata": {},
   "outputs": [],
   "source": []
  },
  {
   "cell_type": "code",
   "execution_count": null,
   "id": "c2882335",
   "metadata": {},
   "outputs": [],
   "source": []
  },
  {
   "cell_type": "code",
   "execution_count": null,
   "id": "fb0be888",
   "metadata": {},
   "outputs": [],
   "source": []
  },
  {
   "cell_type": "code",
   "execution_count": null,
   "id": "8d7450ed",
   "metadata": {},
   "outputs": [],
   "source": [
    "ami_df[['starttimeperiod', 'starttimeperiod_utc']]"
   ]
  },
  {
   "cell_type": "code",
   "execution_count": null,
   "id": "ba0b1b3c",
   "metadata": {},
   "outputs": [],
   "source": [
    "# fig, ax = Plot_General.default_subplots()\n",
    "# sns.lineplot(ax=ax, x='starttimeperiod', y='value', hue='serialnumber', data=ami_df)"
   ]
  },
  {
   "cell_type": "code",
   "execution_count": null,
   "id": "ec483a96",
   "metadata": {},
   "outputs": [],
   "source": []
  },
  {
   "cell_type": "code",
   "execution_count": null,
   "id": "397c322d",
   "metadata": {},
   "outputs": [],
   "source": [
    "tmp_df = ami_df[\n",
    "    (ami_df['serialnumber']=='876122177') &\n",
    "    (ami_df['starttimeperiod_utc']>pd.to_datetime('2023-02-01')) &\n",
    "    (ami_df['starttimeperiod_utc']<pd.to_datetime('2023-02-07')) &\n",
    "    (ami_df['aep_srvc_qlty_idntfr']=='TOTAL')\n",
    "]"
   ]
  },
  {
   "cell_type": "code",
   "execution_count": null,
   "id": "1cde5381",
   "metadata": {},
   "outputs": [],
   "source": [
    "fig, ax = Plot_General.default_subplots()\n",
    "sns.lineplot(ax=ax, x='starttimeperiod_utc', y='value', data=tmp_df)"
   ]
  },
  {
   "cell_type": "code",
   "execution_count": null,
   "id": "0591d1c6",
   "metadata": {},
   "outputs": [],
   "source": []
  },
  {
   "cell_type": "code",
   "execution_count": null,
   "id": "82b98d98",
   "metadata": {},
   "outputs": [],
   "source": [
    "tmp_df = ami_df[\n",
    "    (ami_df['starttimeperiod_utc']>pd.to_datetime('2023-02-01')) &\n",
    "    (ami_df['starttimeperiod_utc']<pd.to_datetime('2023-02-07')) &\n",
    "    (ami_df['aep_srvc_qlty_idntfr']=='TOTAL')\n",
    "]"
   ]
  },
  {
   "cell_type": "code",
   "execution_count": null,
   "id": "9ddd518b",
   "metadata": {},
   "outputs": [],
   "source": [
    "fig, ax = Plot_General.default_subplots()\n",
    "sns.lineplot(ax=ax, x='starttimeperiod_utc', y='value', hue='serialnumber', data=tmp_df.reset_index())"
   ]
  },
  {
   "cell_type": "code",
   "execution_count": null,
   "id": "d0cd638f",
   "metadata": {},
   "outputs": [],
   "source": []
  },
  {
   "cell_type": "code",
   "execution_count": null,
   "id": "7ff91fb1",
   "metadata": {},
   "outputs": [],
   "source": []
  },
  {
   "cell_type": "code",
   "execution_count": null,
   "id": "affc4847",
   "metadata": {},
   "outputs": [],
   "source": []
  },
  {
   "cell_type": "code",
   "execution_count": null,
   "id": "a5dba9ef",
   "metadata": {},
   "outputs": [],
   "source": [
    "EVs_SNs = mp_df[mp_df['srvc_addr_2_nm'].isin(srvc_addr_2_nms_EVs)]['mfr_devc_ser_nbr'].unique().tolist()\n",
    "neighbors_SNs = mp_df[mp_df['srvc_addr_2_nm'].isin(srvc_addr_2_nms_neighbors)]['mfr_devc_ser_nbr'].unique().tolist()"
   ]
  },
  {
   "cell_type": "code",
   "execution_count": null,
   "id": "80d8e40c",
   "metadata": {},
   "outputs": [],
   "source": [
    "fig, ax = Plot_General.default_subplots()\n",
    "sns.lineplot(ax=ax, x='starttimeperiod_utc', y='value', hue='serialnumber', data=tmp_df[tmp_df['serialnumber'].isin(EVs_SNs)].reset_index())"
   ]
  },
  {
   "cell_type": "code",
   "execution_count": null,
   "id": "aeebeb44",
   "metadata": {},
   "outputs": [],
   "source": [
    "fig, ax = Plot_General.default_subplots()\n",
    "sns.lineplot(ax=ax, x='starttimeperiod_utc', y='value', hue='serialnumber', data=tmp_df[tmp_df['serialnumber'].isin(neighbors_SNs)].reset_index())"
   ]
  },
  {
   "cell_type": "code",
   "execution_count": null,
   "id": "ac437c0a",
   "metadata": {},
   "outputs": [],
   "source": []
  },
  {
   "cell_type": "code",
   "execution_count": null,
   "id": "d19e6ed2",
   "metadata": {},
   "outputs": [],
   "source": [
    "tmp_df = ami_df_resamples['12H']['df'].copy()\n",
    "# tmp_df = tmp_df[\n",
    "#     (tmp_df['date']>pd.to_datetime('2023-03-01')) &\n",
    "#     (tmp_df['date']<pd.to_datetime('2023-03-07')) \n",
    "# ]"
   ]
  },
  {
   "cell_type": "code",
   "execution_count": null,
   "id": "4049beef",
   "metadata": {},
   "outputs": [],
   "source": [
    "tmp_df"
   ]
  },
  {
   "cell_type": "code",
   "execution_count": null,
   "id": "0467915c",
   "metadata": {},
   "outputs": [],
   "source": [
    "fig, ax = Plot_General.default_subplots()\n",
    "sns.lineplot(ax=ax, x='date', y='mean_TRS value', hue='serialnumber', data=tmp_df.reset_index())"
   ]
  },
  {
   "cell_type": "code",
   "execution_count": null,
   "id": "9d81b671",
   "metadata": {},
   "outputs": [],
   "source": [
    "fig, ax = Plot_General.default_subplots()\n",
    "sns.lineplot(ax=ax, x='date', y='mean_TRS value', hue='serialnumber', data=tmp_df[tmp_df['serialnumber'].isin(EVs_SNs)].reset_index())"
   ]
  },
  {
   "cell_type": "code",
   "execution_count": null,
   "id": "fbdea6c5",
   "metadata": {},
   "outputs": [],
   "source": [
    "fig, ax = Plot_General.default_subplots()\n",
    "sns.lineplot(ax=ax, x='date', y='mean_TRS value', hue='serialnumber', data=tmp_df[tmp_df['serialnumber'].isin(neighbors_SNs)].reset_index())"
   ]
  },
  {
   "cell_type": "code",
   "execution_count": null,
   "id": "257acb64",
   "metadata": {},
   "outputs": [],
   "source": [
    "list(mp_df.groupby(['mfr_devc_ser_nbr', 'srvc_addr_2_nm']).groups.keys())"
   ]
  },
  {
   "cell_type": "code",
   "execution_count": null,
   "id": "01f750a0",
   "metadata": {},
   "outputs": [],
   "source": []
  },
  {
   "cell_type": "code",
   "execution_count": null,
   "id": "a4a87c29",
   "metadata": {},
   "outputs": [],
   "source": []
  },
  {
   "cell_type": "code",
   "execution_count": null,
   "id": "29264bae",
   "metadata": {},
   "outputs": [],
   "source": [
    "878578506"
   ]
  },
  {
   "cell_type": "code",
   "execution_count": null,
   "id": "29800b41",
   "metadata": {},
   "outputs": [],
   "source": [
    "tmp_df['serialnumber']=='878578506'"
   ]
  },
  {
   "cell_type": "code",
   "execution_count": null,
   "id": "5805e5c7",
   "metadata": {},
   "outputs": [],
   "source": [
    "tmp_df = ami_df_resamples['2H']['df'].copy()\n",
    "tmp_df = tmp_df[\n",
    "#     (tmp_df['date']>pd.to_datetime('2023-01-02')) &\n",
    "#     (tmp_df['date']<pd.to_datetime('2023-01-04')) & \n",
    "    (tmp_df['serialnumber']=='878578506')\n",
    "]"
   ]
  },
  {
   "cell_type": "code",
   "execution_count": null,
   "id": "5625273d",
   "metadata": {},
   "outputs": [],
   "source": [
    "tmp_df"
   ]
  },
  {
   "cell_type": "code",
   "execution_count": null,
   "id": "7152b0d6",
   "metadata": {},
   "outputs": [],
   "source": [
    "fig, ax = Plot_General.default_subplots()\n",
    "sns.lineplot(ax=ax, x='date', y='mean_TRS value', hue='serialnumber', data=tmp_df)\n",
    "ax.grid(True, which='both')"
   ]
  },
  {
   "cell_type": "code",
   "execution_count": null,
   "id": "37a43327",
   "metadata": {},
   "outputs": [],
   "source": [
    "tmp_df=tmp_df.sort_index()"
   ]
  },
  {
   "cell_type": "code",
   "execution_count": null,
   "id": "8543c9d2",
   "metadata": {},
   "outputs": [],
   "source": [
    "tmp_df['mean_TRS value'].tolist()"
   ]
  },
  {
   "cell_type": "markdown",
   "id": "351597f9",
   "metadata": {},
   "source": [
    "# SEE WEBPAGES\n",
    "https://stackoverflow.com/questions/22583391/peak-signal-detection-in-realtime-timeseries-data\n",
    "https://stackoverflow.com/questions/22583391/peak-signal-detection-in-realtime-timeseries-data/43512887#43512887\n",
    "https://stackoverflow.com/questions/22583391/peak-signal-detection-in-realtime-timeseries-data/56451135#56451135"
   ]
  },
  {
   "cell_type": "code",
   "execution_count": null,
   "id": "36655af3",
   "metadata": {},
   "outputs": [],
   "source": [
    "# class real_time_peak_detection():\n",
    "#     def __init__(self, array, lag, threshold, influence):\n",
    "#         self.y = list(array)\n",
    "#         self.length = len(self.y)\n",
    "#         self.lag = lag\n",
    "#         self.threshold = threshold\n",
    "#         self.influence = influence\n",
    "#         self.signals = [0] * len(self.y)\n",
    "#         self.filteredY = np.array(self.y).tolist()\n",
    "#         self.avgFilter = [0] * len(self.y)\n",
    "#         self.stdFilter = [0] * len(self.y)\n",
    "#         self.avgFilter[self.lag - 1] = np.mean(self.y[0:self.lag]).tolist()\n",
    "#         self.stdFilter[self.lag - 1] = np.std(self.y[0:self.lag]).tolist()\n",
    "\n",
    "#     def thresholding_algo(self, new_value):\n",
    "#         self.y.append(new_value)\n",
    "#         i = len(self.y) - 1\n",
    "#         self.length = len(self.y)\n",
    "#         if i < self.lag:\n",
    "#             return 0\n",
    "#         elif i == self.lag:\n",
    "#             self.signals = [0] * len(self.y)\n",
    "#             self.filteredY = np.array(self.y).tolist()\n",
    "#             self.avgFilter = [0] * len(self.y)\n",
    "#             self.stdFilter = [0] * len(self.y)\n",
    "#             self.avgFilter[self.lag] = np.mean(self.y[0:self.lag]).tolist()\n",
    "#             self.stdFilter[self.lag] = np.std(self.y[0:self.lag]).tolist()\n",
    "#             return 0\n",
    "\n",
    "#         self.signals += [0]\n",
    "#         self.filteredY += [0]\n",
    "#         self.avgFilter += [0]\n",
    "#         self.stdFilter += [0]\n",
    "\n",
    "#         if abs(self.y[i] - self.avgFilter[i - 1]) > (self.threshold * self.stdFilter[i - 1]):\n",
    "\n",
    "#             if self.y[i] > self.avgFilter[i - 1]:\n",
    "#                 self.signals[i] = 1\n",
    "#             else:\n",
    "#                 self.signals[i] = -1\n",
    "\n",
    "#             self.filteredY[i] = self.influence * self.y[i] + \\\n",
    "#                 (1 - self.influence) * self.filteredY[i - 1]\n",
    "#             self.avgFilter[i] = np.mean(self.filteredY[(i - self.lag):i])\n",
    "#             self.stdFilter[i] = np.std(self.filteredY[(i - self.lag):i])\n",
    "#         else:\n",
    "#             self.signals[i] = 0\n",
    "#             self.filteredY[i] = self.y[i]\n",
    "#             self.avgFilter[i] = np.mean(self.filteredY[(i - self.lag):i])\n",
    "#             self.stdFilter[i] = np.std(self.filteredY[(i - self.lag):i])\n",
    "\n",
    "#         return self.signals[i]\n",
    "\n",
    "\n",
    "def thresholding_algo(y, lag, threshold, influence):\n",
    "    signals = np.zeros(len(y))\n",
    "    filteredY = np.array(y)\n",
    "    avgFilter = [0]*len(y)\n",
    "    stdFilter = [0]*len(y)\n",
    "    avgFilter[lag - 1] = np.mean(y[0:lag])\n",
    "    stdFilter[lag - 1] = np.std(y[0:lag])\n",
    "    for i in range(lag, len(y)):\n",
    "        if abs(y[i] - avgFilter[i-1]) > threshold * stdFilter [i-1]:\n",
    "            if y[i] > avgFilter[i-1]:\n",
    "                signals[i] = 1\n",
    "            else:\n",
    "                signals[i] = -1\n",
    "\n",
    "            filteredY[i] = influence * y[i] + (1 - influence) * filteredY[i-1]\n",
    "            avgFilter[i] = np.mean(filteredY[(i-lag+1):i+1])\n",
    "            stdFilter[i] = np.std(filteredY[(i-lag+1):i+1])\n",
    "        else:\n",
    "            signals[i] = 0\n",
    "            filteredY[i] = y[i]\n",
    "            avgFilter[i] = np.mean(filteredY[(i-lag+1):i+1])\n",
    "            stdFilter[i] = np.std(filteredY[(i-lag+1):i+1])\n",
    "\n",
    "    return dict(signals = np.asarray(signals),\n",
    "                avgFilter = np.asarray(avgFilter),\n",
    "                stdFilter = np.asarray(stdFilter))"
   ]
  },
  {
   "cell_type": "code",
   "execution_count": null,
   "id": "ef93c067",
   "metadata": {},
   "outputs": [],
   "source": []
  },
  {
   "cell_type": "code",
   "execution_count": null,
   "id": "abfba4f2",
   "metadata": {},
   "outputs": [],
   "source": []
  },
  {
   "cell_type": "code",
   "execution_count": null,
   "id": "874d0295",
   "metadata": {},
   "outputs": [],
   "source": [
    "rtpd = thresholding_algo(\n",
    "    y=tmp_df['mean_TRS value'].tolist(), \n",
    "    lag=24,\n",
    "    threshold=10, \n",
    "    influence=0.5\n",
    ")\n",
    "tmp_df['signals'] = rtpd['signals']"
   ]
  },
  {
   "cell_type": "code",
   "execution_count": null,
   "id": "ec034d5b",
   "metadata": {},
   "outputs": [],
   "source": [
    "fig, ax = Plot_General.default_subplots()\n",
    "sns.lineplot(ax=ax, x='date', y='mean_TRS value', hue='serialnumber', data=tmp_df)\n",
    "sns.scatterplot(ax=ax, x='date', y='signals', hue='serialnumber', data=tmp_df, palette='hls')\n",
    "ax.grid(True, which='both')"
   ]
  },
  {
   "cell_type": "code",
   "execution_count": null,
   "id": "5e33a8c1",
   "metadata": {},
   "outputs": [],
   "source": []
  },
  {
   "cell_type": "code",
   "execution_count": null,
   "id": "f1d52695",
   "metadata": {},
   "outputs": [],
   "source": []
  },
  {
   "cell_type": "code",
   "execution_count": null,
   "id": "eb96b08e",
   "metadata": {},
   "outputs": [],
   "source": [
    "tmp_df = ami_df_resamples['2H']['df'].copy()\n",
    "tmp_df = tmp_df[\n",
    "    (tmp_df['serialnumber']=='878578505')\n",
    "]"
   ]
  },
  {
   "cell_type": "code",
   "execution_count": null,
   "id": "0ae7b221",
   "metadata": {},
   "outputs": [],
   "source": [
    "fig, ax = Plot_General.default_subplots()\n",
    "sns.lineplot(ax=ax, x='date', y='mean_TRS value', hue='serialnumber', data=tmp_df)\n",
    "ax.grid(True, which='both')"
   ]
  },
  {
   "cell_type": "code",
   "execution_count": null,
   "id": "d38606c8",
   "metadata": {},
   "outputs": [],
   "source": [
    "rtpd = thresholding_algo(\n",
    "    y=tmp_df['mean_TRS value'].tolist(), \n",
    "    lag=24,\n",
    "    threshold=7.5, \n",
    "    influence=0.5\n",
    ")\n",
    "tmp_df['signals'] = rtpd['signals']"
   ]
  },
  {
   "cell_type": "code",
   "execution_count": null,
   "id": "67b75c50",
   "metadata": {},
   "outputs": [],
   "source": [
    "fig, ax = Plot_General.default_subplots()\n",
    "sns.lineplot(ax=ax, x='date', y='mean_TRS value', hue='serialnumber', data=tmp_df)\n",
    "sns.scatterplot(ax=ax, x='date', y='signals', hue='serialnumber', data=tmp_df, palette='hls')\n",
    "ax.grid(True, which='both')"
   ]
  },
  {
   "cell_type": "code",
   "execution_count": null,
   "id": "f54368a3",
   "metadata": {},
   "outputs": [],
   "source": []
  },
  {
   "cell_type": "code",
   "execution_count": null,
   "id": "93164c86",
   "metadata": {},
   "outputs": [],
   "source": []
  },
  {
   "cell_type": "code",
   "execution_count": null,
   "id": "ee9290f9",
   "metadata": {},
   "outputs": [],
   "source": []
  },
  {
   "cell_type": "code",
   "execution_count": null,
   "id": "c35db666",
   "metadata": {},
   "outputs": [],
   "source": [
    "tmp_df = ami_df_resamples['2H']['df'].copy()\n",
    "tmp_df = tmp_df[\n",
    "    (tmp_df['serialnumber']=='755060041')\n",
    "]"
   ]
  },
  {
   "cell_type": "code",
   "execution_count": null,
   "id": "a004427e",
   "metadata": {},
   "outputs": [],
   "source": [
    "fig, ax = Plot_General.default_subplots()\n",
    "sns.lineplot(ax=ax, x='date', y='mean_TRS value', hue='serialnumber', data=tmp_df)\n",
    "ax.grid(True, which='both')"
   ]
  },
  {
   "cell_type": "code",
   "execution_count": null,
   "id": "b0d8bf55",
   "metadata": {},
   "outputs": [],
   "source": [
    "rtpd = thresholding_algo(\n",
    "    y=tmp_df['mean_TRS value'].tolist(), \n",
    "    lag=24,\n",
    "    threshold=5, \n",
    "    influence=0.5\n",
    ")\n",
    "tmp_df['signals'] = rtpd['signals']"
   ]
  },
  {
   "cell_type": "code",
   "execution_count": null,
   "id": "b8cf9462",
   "metadata": {},
   "outputs": [],
   "source": [
    "fig, ax = Plot_General.default_subplots()\n",
    "sns.lineplot(ax=ax, x='date', y='mean_TRS value', hue='serialnumber', data=tmp_df)\n",
    "sns.scatterplot(ax=ax, x='date', y='signals', hue='serialnumber', data=tmp_df, palette='hls')\n",
    "ax.grid(True, which='both')\n",
    "Plot_General.set_general_plotting_args(ax=ax, title_args=dict(label='879866273'))"
   ]
  },
  {
   "cell_type": "code",
   "execution_count": null,
   "id": "ba0a4542",
   "metadata": {},
   "outputs": [],
   "source": []
  },
  {
   "cell_type": "code",
   "execution_count": null,
   "id": "220397aa",
   "metadata": {},
   "outputs": [],
   "source": []
  },
  {
   "cell_type": "code",
   "execution_count": null,
   "id": "82d61fe3",
   "metadata": {},
   "outputs": [],
   "source": [
    "fig_num=0\n",
    "for SN_i in EVs_SNs:\n",
    "    tmp_df = ami_df_resamples['2H']['df'].copy()\n",
    "    tmp_df = tmp_df[\n",
    "        (tmp_df['serialnumber']==SN_i)\n",
    "    ]\n",
    "    #-----\n",
    "    rtpd = thresholding_algo(\n",
    "        y=tmp_df['mean_TRS value'].tolist(), \n",
    "        lag=24,\n",
    "        threshold=7.5, \n",
    "        influence=0.5\n",
    "    )\n",
    "    tmp_df['signals'] = rtpd['signals']\n",
    "    #-----\n",
    "    fig, ax = Plot_General.default_subplots(fig_num=fig_num)\n",
    "    sns.lineplot(ax=ax, x='date', y='mean_TRS value', hue='serialnumber', data=tmp_df)\n",
    "    sns.scatterplot(ax=ax, x='date', y='signals', hue='serialnumber', data=tmp_df, palette='hls')\n",
    "    ax.grid(True, which='both')\n",
    "    Plot_General.set_general_plotting_args(ax=ax, title_args=dict(label=SN_i))\n",
    "    fig_num += 1"
   ]
  },
  {
   "cell_type": "code",
   "execution_count": null,
   "id": "fcad4137",
   "metadata": {},
   "outputs": [],
   "source": []
  },
  {
   "cell_type": "code",
   "execution_count": null,
   "id": "c6230ca8",
   "metadata": {},
   "outputs": [],
   "source": []
  },
  {
   "cell_type": "code",
   "execution_count": null,
   "id": "c1aff177",
   "metadata": {},
   "outputs": [],
   "source": []
  }
 ],
 "metadata": {
  "kernelspec": {
   "display_name": "Python 3 (ipykernel)",
   "language": "python",
   "name": "python3"
  },
  "language_info": {
   "codemirror_mode": {
    "name": "ipython",
    "version": 3
   },
   "file_extension": ".py",
   "mimetype": "text/x-python",
   "name": "python",
   "nbconvert_exporter": "python",
   "pygments_lexer": "ipython3",
   "version": "3.9.18"
  }
 },
 "nbformat": 4,
 "nbformat_minor": 5
}
