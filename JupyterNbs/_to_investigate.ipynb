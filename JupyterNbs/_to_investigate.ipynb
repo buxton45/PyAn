{
 "cells": [
  {
   "cell_type": "code",
   "execution_count": null,
   "id": "9931c968",
   "metadata": {},
   "outputs": [],
   "source": [
    "%run DOVSOutages.ipynb\n",
    "%run AMINonVee.ipynb\n",
    "%run AMINonVeeSQL.ipynb\n",
    "%run AMINonVeeCircuitSQL.ipynb\n",
    "%run MeterPremise.ipynb"
   ]
  },
  {
   "cell_type": "code",
   "execution_count": null,
   "id": "e04b5fb9",
   "metadata": {},
   "outputs": [],
   "source": [
    "from importlib import reload\n",
    "#reload(Utilities)\n",
    "#reload(clm)\n",
    "\n",
    "import sys, os\n",
    "import re\n",
    "\n",
    "import pandas as pd\n",
    "import numpy as np\n",
    "from pandas.api.types import is_numeric_dtype\n",
    "from scipy import stats\n",
    "import datetime\n",
    "import time\n",
    "from natsort import natsorted, ns\n",
    "from packaging import version\n",
    "\n",
    "import itertools\n",
    "import copy\n",
    "import pyodbc\n",
    "#---------------------------------------------------------------------\n",
    "sys.path.insert(0, os.path.realpath('..'))\n",
    "import Utilities_config\n",
    "#-----\n",
    "import CommonLearningMethods as clm\n",
    "#---------------------------------------------------------------------\n",
    "import matplotlib as mpl\n",
    "import matplotlib.pyplot as plt\n",
    "import seaborn as sns\n",
    "from matplotlib.backends.backend_pdf import PdfPages\n",
    "import matplotlib.patches as mpatches\n",
    "from matplotlib.lines import Line2D\n",
    "import matplotlib.ticker as ticker\n",
    "from matplotlib import dates\n",
    "#---------------------------------------------------------------------\n",
    "sys.path.insert(0, Utilities_config.get_sql_aids_dir())\n",
    "import Utilities_sql\n",
    "from SQLElement import SQLElement\n",
    "from SQLElementsCollection import SQLElementsCollection\n",
    "from SQLSelect import SQLSelectElement, SQLSelect\n",
    "from SQLFrom import SQLFrom\n",
    "from SQLWhere import SQLWhereElement, SQLWhere\n",
    "from SQLJoin import SQLJoin, SQLJoinCollection\n",
    "from SQLGroupBy import SQLGroupByElement, SQLGroupBy\n",
    "from SQLHaving import SQLHaving\n",
    "from SQLOrderBy import SQLOrderByElement, SQLOrderBy\n",
    "from SQLQuery import SQLQuery\n",
    "from SQLQueryGeneric import SQLQueryGeneric\n",
    "#---------------------------------------------------------------------\n",
    "sys.path.insert(0, Utilities_config.get_utilities_dir())\n",
    "import Utilities\n",
    "import Utilities_df\n",
    "import Plot_Box_sns\n",
    "import GrubbsTest"
   ]
  },
  {
   "cell_type": "code",
   "execution_count": null,
   "id": "87a32b59",
   "metadata": {},
   "outputs": [],
   "source": []
  },
  {
   "cell_type": "markdown",
   "id": "8223488c",
   "metadata": {},
   "source": [
    "# Investigate differences when calculate_ket_kwh = True vs False in build_sql_outage_others_on_circuit\n",
    "\n",
    "- Expect some columns to be equal between e.g., [stop_after_agg_1=True,  groupby_xfmr_in_agg_1=False] and [stop_after_agg_1=False,  groupby_xfmr_in_agg_1=True]\n",
    "- I was seeing some differences specifically for the case of aep_derived_uom='UNK\"\n",
    "- Differences found to be due to my use of UNION instead of UNION ALL.  I was using UNION, which removes duplicates.  However, for the case where stop_after_agg_1=True, no union occurs, therefore no duplicate removal!\n",
    "- The UNION is more correct.  However, I need to implement more general methods for duplicate removal."
   ]
  },
  {
   "cell_type": "code",
   "execution_count": null,
   "id": "014768de",
   "metadata": {},
   "outputs": [],
   "source": []
  },
  {
   "cell_type": "code",
   "execution_count": null,
   "id": "cf49d3da",
   "metadata": {},
   "outputs": [],
   "source": [
    "conn_aws = Utilities.get_athena_prod_aws_connection()"
   ]
  },
  {
   "cell_type": "code",
   "execution_count": null,
   "id": "cfc18edb",
   "metadata": {},
   "outputs": [],
   "source": [
    "cols_of_interest_usage_agg = ['starttimeperiod', 'endtimeperiod', 'aep_endtime_utc', 'timezoneoffset', \n",
    "                              'aep_derived_uom', 'aep_srvc_qlty_idntfr', 'value', 'aep_usage_dt']\n",
    "\n",
    "serial_numbers = [884390632, 880682782, 880320285, 880076534, 880320207, 889926007, 884390655, 880076535]\n",
    "date_range = ['2021-01-01', '2021-01-02']\n",
    "field_descs=cols_of_interest_usage_agg\n",
    "agg_cols_and_types = {'U.value':['sum', 'sq_sum', 'mean', 'std', 'count']}\n",
    "groupby_cols = ['starttimeperiod', 'endtimeperiod', 'aep_endtime_utc', 'timezoneoffset', \n",
    "                'aep_derived_uom', 'aep_srvc_qlty_idntfr', 'aep_usage_dt']\n",
    "try_to_split_col_strs = True\n",
    "\n",
    "sort_cols = ['aep_endtime_utc', 'aep_derived_uom', 'aep_srvc_qlty_idntfr']"
   ]
  },
  {
   "cell_type": "code",
   "execution_count": null,
   "id": "14f058e9",
   "metadata": {},
   "outputs": [],
   "source": [
    "sql_stmnt_agg_1 = AMINonVeeCircuitSQL.build_sql_outage_others_on_circuit(\n",
    "    conn_aws, \n",
    "    serial_numbers, date_range, \n",
    "    field_descs, agg_cols_and_types, groupby_cols, \n",
    "    aep_derived_uoms_and_idntfrs=None, \n",
    "    calculate_net_kwh=False, addtnl_build_net_kwh_kwargs=None, \n",
    "    stop_after_agg_1=True,  groupby_xfmr_in_agg_1=False, \n",
    "    addtnl_build_agg_1_sql_kwargs=dict(try_to_split_col_strs=try_to_split_col_strs),\n",
    "    include_counts_including_null=True, \n",
    "    verbose=False\n",
    ")"
   ]
  },
  {
   "cell_type": "code",
   "execution_count": null,
   "id": "8aaf5358",
   "metadata": {},
   "outputs": [],
   "source": [
    "sql_stmnt_agg_1 = AMINonVeeCircuitSQL.build_sql_outage_others_on_circuit(\n",
    "    conn_aws, \n",
    "    serial_numbers, date_range, \n",
    "    field_descs, agg_cols_and_types, groupby_cols, \n",
    "    aep_derived_uoms_and_idntfrs=None, \n",
    "    calculate_net_kwh=False, addtnl_build_net_kwh_kwargs=None, \n",
    "    stop_after_agg_1=True,  groupby_xfmr_in_agg_1=False, \n",
    "    addtnl_build_agg_1_sql_kwargs=dict(try_to_split_col_strs=try_to_split_col_strs),\n",
    "    include_counts_including_null=True, \n",
    "    verbose=False\n",
    ")"
   ]
  },
  {
   "cell_type": "code",
   "execution_count": null,
   "id": "e646a061",
   "metadata": {},
   "outputs": [],
   "source": [
    "sql_stmnt_agg_1_net_kwh = AMINonVeeCircuitSQL.build_sql_outage_others_on_circuit(\n",
    "    conn_aws, \n",
    "    serial_numbers, date_range, \n",
    "    field_descs, agg_cols_and_types, groupby_cols, \n",
    "    aep_derived_uoms_and_idntfrs=None, \n",
    "    calculate_net_kwh=True, addtnl_build_net_kwh_kwargs=None, \n",
    "    stop_after_agg_1=True,  groupby_xfmr_in_agg_1=False, \n",
    "    addtnl_build_agg_1_sql_kwargs=dict(try_to_split_col_strs=try_to_split_col_strs),\n",
    "    include_counts_including_null=True, \n",
    "    verbose=False\n",
    ")"
   ]
  },
  {
   "cell_type": "code",
   "execution_count": null,
   "id": "55ce153e",
   "metadata": {},
   "outputs": [],
   "source": [
    "sql_stmnt_agg_1_gpby_xfmr = AMINonVeeCircuitSQL.build_sql_outage_others_on_circuit(\n",
    "    conn_aws, \n",
    "    serial_numbers, date_range, \n",
    "    field_descs, agg_cols_and_types, groupby_cols, \n",
    "    aep_derived_uoms_and_idntfrs=None, \n",
    "    calculate_net_kwh=False, addtnl_build_net_kwh_kwargs=None, \n",
    "    stop_after_agg_1=True,  groupby_xfmr_in_agg_1=True, \n",
    "    addtnl_build_agg_1_sql_kwargs=dict(try_to_split_col_strs=try_to_split_col_strs), \n",
    "    include_counts_including_null=True, \n",
    "    verbose=False\n",
    ")"
   ]
  },
  {
   "cell_type": "code",
   "execution_count": null,
   "id": "c04c5bc0",
   "metadata": {},
   "outputs": [],
   "source": [
    "sql_stmnt_full = AMINonVeeCircuitSQL.build_sql_outage_others_on_circuit(\n",
    "    conn_aws, \n",
    "    serial_numbers, date_range, \n",
    "    field_descs, agg_cols_and_types, groupby_cols, \n",
    "    aep_derived_uoms_and_idntfrs=None, \n",
    "    calculate_net_kwh=False, addtnl_build_net_kwh_kwargs=None, \n",
    "    stop_after_agg_1=False,  groupby_xfmr_in_agg_1=True, \n",
    "    addtnl_build_agg_1_sql_kwargs=dict(try_to_split_col_strs=try_to_split_col_strs), \n",
    "    include_counts_including_null=True, \n",
    "    verbose=False\n",
    ")"
   ]
  },
  {
   "cell_type": "code",
   "execution_count": null,
   "id": "e753306c",
   "metadata": {},
   "outputs": [],
   "source": [
    "sql_stmnt_full_net_kwh = AMINonVeeCircuitSQL.build_sql_outage_others_on_circuit(\n",
    "    conn_aws, \n",
    "    serial_numbers, date_range, \n",
    "    field_descs, agg_cols_and_types, groupby_cols, \n",
    "    aep_derived_uoms_and_idntfrs=None, \n",
    "    calculate_net_kwh=True, addtnl_build_net_kwh_kwargs=None, \n",
    "    stop_after_agg_1=False,  groupby_xfmr_in_agg_1=True, \n",
    "    addtnl_build_agg_1_sql_kwargs=dict(try_to_split_col_strs=try_to_split_col_strs), \n",
    "    include_counts_including_null=True, \n",
    "    verbose=False\n",
    ")"
   ]
  },
  {
   "cell_type": "code",
   "execution_count": null,
   "id": "31e1e65f",
   "metadata": {},
   "outputs": [],
   "source": []
  },
  {
   "cell_type": "code",
   "execution_count": null,
   "id": "5e0b179b",
   "metadata": {},
   "outputs": [],
   "source": [
    "df_agg_1 = pd.read_sql(sql_stmnt_agg_1, conn_aws)\n",
    "df_agg_1 = clm.remove_table_aliases(df_agg_1)"
   ]
  },
  {
   "cell_type": "code",
   "execution_count": null,
   "id": "096fa7ac",
   "metadata": {},
   "outputs": [],
   "source": [
    "df_agg_1_net_kwh = pd.read_sql(sql_stmnt_agg_1_net_kwh, conn_aws)\n",
    "df_agg_1_net_kwh = clm.remove_table_aliases(df_agg_1_net_kwh)"
   ]
  },
  {
   "cell_type": "code",
   "execution_count": null,
   "id": "6621d7bb",
   "metadata": {},
   "outputs": [],
   "source": [
    "df_agg_1_gpby_xfmr = pd.read_sql(sql_stmnt_agg_1_gpby_xfmr, conn_aws)\n",
    "df_agg_1_gpby_xfmr = clm.remove_table_aliases(df_agg_1_gpby_xfmr)"
   ]
  },
  {
   "cell_type": "code",
   "execution_count": null,
   "id": "2e02290e",
   "metadata": {},
   "outputs": [],
   "source": [
    "df_full = pd.read_sql(sql_stmnt_full, conn_aws)\n",
    "df_full = clm.remove_table_aliases(df_full)"
   ]
  },
  {
   "cell_type": "code",
   "execution_count": null,
   "id": "2f9f3ff6",
   "metadata": {},
   "outputs": [],
   "source": [
    "df_full_net_kwh = pd.read_sql(sql_stmnt_full_net_kwh, conn_aws)\n",
    "df_full_net_kwh = clm.remove_table_aliases(df_full_net_kwh)"
   ]
  },
  {
   "cell_type": "code",
   "execution_count": null,
   "id": "f565d9aa",
   "metadata": {},
   "outputs": [],
   "source": []
  },
  {
   "cell_type": "code",
   "execution_count": null,
   "id": "e72587cd",
   "metadata": {},
   "outputs": [],
   "source": [
    "usg_sql = \"\"\"\n",
    "WITH MP AS (\n",
    "\tSELECT\n",
    "\t\tmfr_devc_ser_nbr,\n",
    "\t\ttrsf_pole_nb\n",
    "\tFROM default.meter_premise\n",
    "\tWHERE ((circuit_nb = '06' AND circuit_nm = 'F-8906' AND station_nb = '0089' AND station_nm = 'SHANNON') OR trsf_pole_nb IN ('1893161692563','1893355692345','1893751692088','1893772692757','1893899692721','1893951691949','1894151692642','1894214691507','1894621689717','1894659692098','1894664692742','1894678692290','1894768691393','1894943690495','1895049690979','1895178691337','1895190688028','1895221691730','1895235691963','1895246688635','1895255692207','1895272691100','1895277692451','1895297692694','1895370693033','1895419689332','1895538690860','1895591688085','1895653691427','1895669689010','1895673688667','1895705692098','1895765692797','1895787693054','1895802691061','1895967692502','1895973688498','1896012692779','1896047688699','1896061691034','1896071691608','1896142689907','1896309691590','1896315692166','1896334691869','1896447691298','1896518692741','1896666693007','1896729691561','1896762692722','1896787690973','1896900691263','1896951692709','1897157690938','1897169691673','1897408691211','1897446691568','1897490692052','1897699691192','1897720691449','1897741691677','1897865690874','1898038691760','1898058691998','1898320691619','1898348691146','1898361692107','1898448692512','1898542690818','1898602691388','1898660692325','1898754690937','1898929691480','1898946692563','1898957691780','1898973692077','1899011693413','1899106690894','1899182691250','1899186691373','1899251692330','1899262692739','1899306686450','1899330690530','1899371693192','1899546687512','1899603693174','1899614693453','1899649692288','1899871692788','1899904694088','1900092693415','1900189693043','1900446693384','1900478693062','1900535686424','1900618686345','1900748686223','1900748694060','1900817693669','1900894686082','1902544684474','1902790683950','1903623679856','1903780683051','1904182681045','1904650682157','1905083680959','1905578681621','1905640682612','1905661682903','1905687683306','1905736683825','1905757684156','1905864684957','1905982685611','1893219692283','1893264692222','1893536692216','1894149691809','1894280692399','1894403692776','1894449691795','1894481692273','1894560691535','1894742692493','1894906690009','1894969691261','1895207688217','1895226688429','1895304688796','1895333688974','1895360690468','1895581688258','1895635688596','1895638690270','1895648689269','1895663691073','1895680691825','1895722692307','1895755692661','1895767688084','1895864690116','1895886691337','1895899688297','1896050692190','1896074689159','1896105691885','1896194693045','1896209691318','1896220692485','1896263692761','1896274689106','1896306691018','1896429693028','1896437689065','1896452689696','1896539691575','1896556692151','1896563691854','1896594692451','1896682691279','1896700692441','1896755691839','1896806691269','1896893692988','1896896691832','1896918692102','1896933692339','1896967689336','1897146691437','1897178691797','1897186691908','1897227692256','1897279690927','1897317692840','1897328692949','1897466691810','1897624690894','1897762691919','1897796692230','1897854692791','1898025691521','1898058692601','1898077692251','1898120691163','1898340691865','1898434690828','1898619691638','1898629691745','1898649691985','1898906691247','1898955692686','1898963692341','1898975692923','1898990693157','1899245691812','1899246692505','1899276692972','1899367693469','1899471686652','1899526692602','1899566692886','1899637687248','1899833693161','1900175686768','1900213687659','1900318693697','1900512684131','1900539693369','1900609693369','1900833684107','1901141684086','1901816683611','1901933681296','1902975679875','1903015683914','1903015684150','1903140683755','1903272683613','1903445683433','1903718680905','1904750680226','1904973685590','1905424683819','1905632682406','1905741684371','1905774683523','1905785684538','1905800685208','1905835685763','1905912686911','1905954684979','1905956685108','1906067685050'))\n",
    "),  \n",
    "U AS (\n",
    "\tSELECT\n",
    "\t\tserialnumber,\n",
    "\t\tstarttimeperiod,\n",
    "\t\tendtimeperiod,\n",
    "\t\taep_endtime_utc,\n",
    "\t\ttimezoneoffset,\n",
    "\t\taep_derived_uom,\n",
    "\t\taep_srvc_qlty_idntfr,\n",
    "\t\tvalue,\n",
    "\t\taep_usage_dt\n",
    "\tFROM usage_nonvee.reading_ivl_nonvee USG_i\n",
    "\t\tINNER JOIN MP ON USG_i.serialnumber=MP.mfr_devc_ser_nbr\n",
    "\tWHERE aep_usage_dt BETWEEN '2021-01-01' AND '2021-01-02'\n",
    ") \n",
    "SELECT * FROM U\n",
    "\"\"\""
   ]
  },
  {
   "cell_type": "code",
   "execution_count": null,
   "id": "3355be09",
   "metadata": {},
   "outputs": [],
   "source": []
  },
  {
   "cell_type": "code",
   "execution_count": null,
   "id": "0fe49bd3",
   "metadata": {},
   "outputs": [],
   "source": [
    "usg_sql_2 = \"\"\"\n",
    "WITH MP AS (\n",
    "\tSELECT\n",
    "\t\tmfr_devc_ser_nbr,\n",
    "\t\ttrsf_pole_nb\n",
    "\tFROM default.meter_premise\n",
    "\tWHERE ((circuit_nb = '06' AND circuit_nm = 'F-8906' AND station_nb = '0089' AND station_nm = 'SHANNON') OR trsf_pole_nb IN ('1893161692563','1893355692345','1893751692088','1893772692757','1893899692721','1893951691949','1894151692642','1894214691507','1894621689717','1894659692098','1894664692742','1894678692290','1894768691393','1894943690495','1895049690979','1895178691337','1895190688028','1895221691730','1895235691963','1895246688635','1895255692207','1895272691100','1895277692451','1895297692694','1895370693033','1895419689332','1895538690860','1895591688085','1895653691427','1895669689010','1895673688667','1895705692098','1895765692797','1895787693054','1895802691061','1895967692502','1895973688498','1896012692779','1896047688699','1896061691034','1896071691608','1896142689907','1896309691590','1896315692166','1896334691869','1896447691298','1896518692741','1896666693007','1896729691561','1896762692722','1896787690973','1896900691263','1896951692709','1897157690938','1897169691673','1897408691211','1897446691568','1897490692052','1897699691192','1897720691449','1897741691677','1897865690874','1898038691760','1898058691998','1898320691619','1898348691146','1898361692107','1898448692512','1898542690818','1898602691388','1898660692325','1898754690937','1898929691480','1898946692563','1898957691780','1898973692077','1899011693413','1899106690894','1899182691250','1899186691373','1899251692330','1899262692739','1899306686450','1899330690530','1899371693192','1899546687512','1899603693174','1899614693453','1899649692288','1899871692788','1899904694088','1900092693415','1900189693043','1900446693384','1900478693062','1900535686424','1900618686345','1900748686223','1900748694060','1900817693669','1900894686082','1902544684474','1902790683950','1903623679856','1903780683051','1904182681045','1904650682157','1905083680959','1905578681621','1905640682612','1905661682903','1905687683306','1905736683825','1905757684156','1905864684957','1905982685611','1893219692283','1893264692222','1893536692216','1894149691809','1894280692399','1894403692776','1894449691795','1894481692273','1894560691535','1894742692493','1894906690009','1894969691261','1895207688217','1895226688429','1895304688796','1895333688974','1895360690468','1895581688258','1895635688596','1895638690270','1895648689269','1895663691073','1895680691825','1895722692307','1895755692661','1895767688084','1895864690116','1895886691337','1895899688297','1896050692190','1896074689159','1896105691885','1896194693045','1896209691318','1896220692485','1896263692761','1896274689106','1896306691018','1896429693028','1896437689065','1896452689696','1896539691575','1896556692151','1896563691854','1896594692451','1896682691279','1896700692441','1896755691839','1896806691269','1896893692988','1896896691832','1896918692102','1896933692339','1896967689336','1897146691437','1897178691797','1897186691908','1897227692256','1897279690927','1897317692840','1897328692949','1897466691810','1897624690894','1897762691919','1897796692230','1897854692791','1898025691521','1898058692601','1898077692251','1898120691163','1898340691865','1898434690828','1898619691638','1898629691745','1898649691985','1898906691247','1898955692686','1898963692341','1898975692923','1898990693157','1899245691812','1899246692505','1899276692972','1899367693469','1899471686652','1899526692602','1899566692886','1899637687248','1899833693161','1900175686768','1900213687659','1900318693697','1900512684131','1900539693369','1900609693369','1900833684107','1901141684086','1901816683611','1901933681296','1902975679875','1903015683914','1903015684150','1903140683755','1903272683613','1903445683433','1903718680905','1904750680226','1904973685590','1905424683819','1905632682406','1905741684371','1905774683523','1905785684538','1905800685208','1905835685763','1905912686911','1905954684979','1905956685108','1906067685050'))\n",
    "),  \n",
    "KWH_USG_DELREC_W_SIGNED_VAL AS (\n",
    "\tSELECT\n",
    "\t\tserialnumber,\n",
    "\t\tstarttimeperiod,\n",
    "\t\tendtimeperiod,\n",
    "\t\taep_endtime_utc,\n",
    "\t\ttimezoneoffset,\n",
    "\t\taep_derived_uom,\n",
    "\t\taep_srvc_qlty_idntfr,\n",
    "\t\tvalue,\n",
    "\t\taep_usage_dt,\n",
    "\t\tIF(aep_srvc_qlty_idntfr='RECEIVED', -1*value, value) AS signed_value\n",
    "\tFROM usage_nonvee.reading_ivl_nonvee USG_i\n",
    "\t\tINNER JOIN MP ON USG_i.serialnumber=MP.mfr_devc_ser_nbr\n",
    "\tWHERE aep_usage_dt BETWEEN '2021-01-01' AND '2021-01-02'\n",
    "\tAND   ((aep_derived_uom = 'KWH' AND aep_srvc_qlty_idntfr = 'RECEIVED') OR (aep_derived_uom = 'KWH' AND aep_srvc_qlty_idntfr = 'DELIVERED'))\n",
    "), \n",
    "\n",
    "KWH_USG_DELREC_NET AS (\n",
    "\tSELECT\n",
    "\t\tserialnumber,\n",
    "\t\tstarttimeperiod,\n",
    "\t\tendtimeperiod,\n",
    "\t\taep_endtime_utc,\n",
    "\t\ttimezoneoffset,\n",
    "\t\taep_derived_uom,\n",
    "\t\t'DEL_MINUS_REC' AS aep_srvc_qlty_idntfr,\n",
    "\t\tSUM(signed_value) AS value,\n",
    "\t\taep_usage_dt\n",
    "\tFROM KWH_USG_DELREC_W_SIGNED_VAL\n",
    "\tGROUP BY\n",
    "\t\tserialnumber,\n",
    "\t\tstarttimeperiod,\n",
    "\t\tendtimeperiod,\n",
    "\t\taep_endtime_utc,\n",
    "\t\ttimezoneoffset,\n",
    "\t\taep_derived_uom,\n",
    "\t\taep_usage_dt\n",
    "\tHAVING COUNT(signed_value) = 2\n",
    "), \n",
    "\n",
    "KWH_USG_TOTAL_VAL AS (\n",
    "\tSELECT\n",
    "\t\tserialnumber,\n",
    "\t\tstarttimeperiod,\n",
    "\t\tendtimeperiod,\n",
    "\t\taep_endtime_utc,\n",
    "\t\ttimezoneoffset,\n",
    "\t\taep_derived_uom,\n",
    "\t\taep_srvc_qlty_idntfr,\n",
    "\t\tvalue,\n",
    "\t\taep_usage_dt\n",
    "\tFROM usage_nonvee.reading_ivl_nonvee USG_i\n",
    "\t\tINNER JOIN MP ON USG_i.serialnumber=MP.mfr_devc_ser_nbr\n",
    "\tWHERE aep_usage_dt BETWEEN '2021-01-01' AND '2021-01-02'\n",
    "\tAND   ((aep_derived_uom = 'KWH' AND aep_srvc_qlty_idntfr = 'TOTAL'))\n",
    "), \n",
    "\n",
    "KWH_USG_DELREC_NET_UNION_TOTAL_0 AS (\n",
    "\t(\n",
    "\tSELECT\n",
    "\t\tserialnumber,\n",
    "\t\tstarttimeperiod,\n",
    "\t\tendtimeperiod,\n",
    "\t\taep_endtime_utc,\n",
    "\t\ttimezoneoffset,\n",
    "\t\taep_derived_uom,\n",
    "\t\taep_srvc_qlty_idntfr,\n",
    "\t\tvalue,\n",
    "\t\taep_usage_dt\n",
    "\tFROM KWH_USG_DELREC_NET\n",
    "\t)\n",
    "\tUNION\n",
    "\t(\n",
    "\tSELECT\n",
    "\t\tserialnumber,\n",
    "\t\tstarttimeperiod,\n",
    "\t\tendtimeperiod,\n",
    "\t\taep_endtime_utc,\n",
    "\t\ttimezoneoffset,\n",
    "\t\taep_derived_uom,\n",
    "\t\taep_srvc_qlty_idntfr,\n",
    "\t\tvalue,\n",
    "\t\taep_usage_dt\n",
    "\tFROM KWH_USG_TOTAL_VAL\n",
    "\t)\n",
    "), \n",
    "\n",
    "KWH_USG_DELREC_NET_UNION_TOTAL AS (\n",
    "\tSELECT\n",
    "\t\tserialnumber,\n",
    "\t\tstarttimeperiod,\n",
    "\t\tendtimeperiod,\n",
    "\t\taep_endtime_utc,\n",
    "\t\ttimezoneoffset,\n",
    "\t\taep_derived_uom,\n",
    "\t\t'CALCULATED_NET' AS aep_srvc_qlty_idntfr,\n",
    "\t\tSUM(value) AS value,\n",
    "\t\taep_usage_dt\n",
    "\tFROM KWH_USG_DELREC_NET_UNION_TOTAL_0\n",
    "\tGROUP BY\n",
    "\t\tserialnumber,\n",
    "\t\tstarttimeperiod,\n",
    "\t\tendtimeperiod,\n",
    "\t\taep_endtime_utc,\n",
    "\t\ttimezoneoffset,\n",
    "\t\taep_derived_uom,\n",
    "\t\taep_usage_dt\n",
    "\tHAVING COUNT(value) = 1\n",
    "), \n",
    "\n",
    "U AS (\n",
    "\t(\n",
    "\tSELECT\n",
    "\t\t*\n",
    "\tFROM KWH_USG_DELREC_NET_UNION_TOTAL\n",
    "\t)\n",
    "\tUNION\n",
    "\t(\n",
    "\tSELECT\n",
    "\t\tserialnumber,\n",
    "\t\tstarttimeperiod,\n",
    "\t\tendtimeperiod,\n",
    "\t\taep_endtime_utc,\n",
    "\t\ttimezoneoffset,\n",
    "\t\taep_derived_uom,\n",
    "\t\taep_srvc_qlty_idntfr,\n",
    "\t\tvalue,\n",
    "\t\taep_usage_dt\n",
    "\tFROM usage_nonvee.reading_ivl_nonvee USG_i\n",
    "\t\tINNER JOIN MP ON USG_i.serialnumber=MP.mfr_devc_ser_nbr\n",
    "\tWHERE aep_usage_dt BETWEEN '2021-01-01' AND '2021-01-02'\n",
    "\tAND   aep_derived_uom <> 'KWH'\n",
    "\t)\n",
    ") \n",
    "SELECT * FROM U\n",
    "\"\"\""
   ]
  },
  {
   "cell_type": "code",
   "execution_count": null,
   "id": "102208a6",
   "metadata": {},
   "outputs": [],
   "source": [
    "usg_df = pd.read_sql(usg_sql, conn_aws)\n",
    "usg_df = clm.remove_prepend_from_columns_in_df(usg_df)"
   ]
  },
  {
   "cell_type": "code",
   "execution_count": null,
   "id": "1698a1c3",
   "metadata": {},
   "outputs": [],
   "source": [
    "usg_df_2 = pd.read_sql(usg_sql_2, conn_aws)\n",
    "usg_df_2 = clm.remove_prepend_from_columns_in_df(usg_df_2)"
   ]
  },
  {
   "cell_type": "code",
   "execution_count": null,
   "id": "f2ef4ec0",
   "metadata": {},
   "outputs": [],
   "source": []
  },
  {
   "cell_type": "code",
   "execution_count": null,
   "id": "f79825dc",
   "metadata": {},
   "outputs": [],
   "source": [
    "approx_dfs = Utilities_df.get_dfs_diff_approx_ok(df_agg_1[df_agg_1['aep_derived_uom']!='KWH'], \n",
    "                                                 df_agg_1_net_kwh[df_agg_1_net_kwh['aep_derived_uom']!='KWH'], \n",
    "                                                 sort_by=sort_cols, \n",
    "                                                 return_df_only=True)"
   ]
  },
  {
   "cell_type": "code",
   "execution_count": null,
   "id": "9264a5be",
   "metadata": {},
   "outputs": [],
   "source": [
    "approx_dfs"
   ]
  },
  {
   "cell_type": "code",
   "execution_count": null,
   "id": "1ea8a9e4",
   "metadata": {},
   "outputs": [],
   "source": [
    "usg_df[(usg_df['aep_endtime_utc']=='1609478100') & (usg_df['aep_derived_uom']=='UNK')]"
   ]
  },
  {
   "cell_type": "code",
   "execution_count": null,
   "id": "6904d383",
   "metadata": {},
   "outputs": [],
   "source": [
    "usg_df_2[(usg_df_2['aep_endtime_utc']=='1609478100') & (usg_df_2['aep_derived_uom']=='UNK')]"
   ]
  },
  {
   "cell_type": "code",
   "execution_count": null,
   "id": "36725768",
   "metadata": {},
   "outputs": [],
   "source": [
    "usg_df[(usg_df['aep_endtime_utc']=='1609478100') & (usg_df['aep_derived_uom']=='UNK')].iloc[0]==usg_df[(usg_df['aep_endtime_utc']=='1609478100') & (usg_df['aep_derived_uom']=='UNK')].iloc[1]"
   ]
  },
  {
   "cell_type": "code",
   "execution_count": null,
   "id": "2cbbde7c",
   "metadata": {},
   "outputs": [],
   "source": [
    "df_agg_1[df_agg_1['aep_derived_uom']!='KWH'].sort_values(by=sort_cols, ignore_index=True).iloc[approx_dfs.index.get_level_values(0).unique().tolist()]"
   ]
  },
  {
   "cell_type": "code",
   "execution_count": null,
   "id": "3927d227",
   "metadata": {},
   "outputs": [],
   "source": [
    "df_agg_1_net_kwh[df_agg_1_net_kwh['aep_derived_uom']!='KWH'].sort_values(by=sort_cols, ignore_index=True).iloc[approx_dfs.index.get_level_values(0).unique().tolist()]"
   ]
  },
  {
   "cell_type": "code",
   "execution_count": null,
   "id": "6baad367",
   "metadata": {},
   "outputs": [],
   "source": []
  },
  {
   "cell_type": "code",
   "execution_count": null,
   "id": "60cebe0e",
   "metadata": {},
   "outputs": [],
   "source": [
    "# df_agg_1.shape[0] should equal df_full.shape[0]\n",
    "# df_full_net_kwh.shape[0] should equal df_full.shape[0] minus 2/3 the number of\n",
    "#   entries with 'aep_derived_uom'=='KWH', as 'RECIEVED', 'DELIVERED', and 'TOTAL' have been\n",
    "#   compressed into CALCULATED_NET"
   ]
  },
  {
   "cell_type": "code",
   "execution_count": null,
   "id": "735ee11e",
   "metadata": {},
   "outputs": [],
   "source": [
    "print(df_agg_1.shape[0]==df_full.shape[0])\n",
    "print(df_full_net_kwh.shape[0]== df_full.shape[0] - (2/3)*df_full[df_full['aep_derived_uom']=='KWH'].shape[0])"
   ]
  },
  {
   "cell_type": "code",
   "execution_count": null,
   "id": "8b6b7864",
   "metadata": {},
   "outputs": [],
   "source": [
    "print(df_agg_1.shape)\n",
    "print(df_agg_1_gpby_xfmr.shape)\n",
    "print(df_full.shape)\n",
    "print(df_full_net_kwh.shape)"
   ]
  },
  {
   "cell_type": "code",
   "execution_count": null,
   "id": "a27488fd",
   "metadata": {},
   "outputs": [],
   "source": [
    "sort_cols = ['aep_endtime_utc', 'aep_derived_uom', 'aep_srvc_qlty_idntfr']"
   ]
  },
  {
   "cell_type": "code",
   "execution_count": null,
   "id": "05bcdf0b",
   "metadata": {},
   "outputs": [],
   "source": [
    "df_full[df_full['aep_derived_uom']!='KWH'].sort_values(by=sort_cols, ignore_index=True).equals(df_full_net_kwh[df_full_net_kwh['aep_derived_uom']!='KWH'].sort_values(by=sort_cols, ignore_index=True))"
   ]
  },
  {
   "cell_type": "code",
   "execution_count": null,
   "id": "92876c31",
   "metadata": {},
   "outputs": [],
   "source": [
    "approx_dfs = Utilities_df.get_dfs_diff_approx_ok(df_full[df_full['aep_derived_uom']!='KWH'], \n",
    "                                                 df_full_net_kwh[df_full_net_kwh['aep_derived_uom']!='KWH'], \n",
    "                                                 sort_by=sort_cols, \n",
    "                                                 return_df_only=True)"
   ]
  },
  {
   "cell_type": "code",
   "execution_count": null,
   "id": "4824546d",
   "metadata": {},
   "outputs": [],
   "source": [
    "approx_dfs"
   ]
  },
  {
   "cell_type": "code",
   "execution_count": null,
   "id": "6e34cb5a",
   "metadata": {},
   "outputs": [],
   "source": [
    "# approx_dfs.index.get_level_values(0).unique().tolist()"
   ]
  },
  {
   "cell_type": "code",
   "execution_count": null,
   "id": "572596f3",
   "metadata": {},
   "outputs": [],
   "source": [
    "df_full[df_full['aep_derived_uom']!='KWH'].sort_values(by=sort_cols, ignore_index=True).iloc[approx_dfs.index.get_level_values(0).unique().tolist()]"
   ]
  },
  {
   "cell_type": "code",
   "execution_count": null,
   "id": "53d0eef4",
   "metadata": {},
   "outputs": [],
   "source": [
    "df_full_net_kwh[df_full_net_kwh['aep_derived_uom']!='KWH'].sort_values(by=sort_cols, ignore_index=True).iloc[approx_dfs.index.get_level_values(0).unique().tolist()]"
   ]
  },
  {
   "cell_type": "code",
   "execution_count": null,
   "id": "e502b8c9",
   "metadata": {},
   "outputs": [],
   "source": []
  },
  {
   "cell_type": "code",
   "execution_count": null,
   "id": "bfde6b1a",
   "metadata": {},
   "outputs": [],
   "source": []
  },
  {
   "cell_type": "code",
   "execution_count": null,
   "id": "03c24d8d",
   "metadata": {},
   "outputs": [],
   "source": [
    "df_full[df_full['aep_derived_uom']!='KWH'].sort_values(by=sort_cols, ignore_index=True).head()"
   ]
  },
  {
   "cell_type": "code",
   "execution_count": null,
   "id": "00fe89fc",
   "metadata": {},
   "outputs": [],
   "source": [
    "df_full_net_kwh[df_full_net_kwh['aep_derived_uom']!='KWH'].sort_values(by=sort_cols, ignore_index=True).head()"
   ]
  },
  {
   "cell_type": "code",
   "execution_count": null,
   "id": "904c75d8",
   "metadata": {},
   "outputs": [],
   "source": []
  },
  {
   "cell_type": "code",
   "execution_count": null,
   "id": "7a48a563",
   "metadata": {},
   "outputs": [],
   "source": [
    "df_agg_1.sort_values(by=['aep_endtime_utc', 'aep_derived_uom', 'aep_srvc_qlty_idntfr']).head()"
   ]
  },
  {
   "cell_type": "code",
   "execution_count": null,
   "id": "9535ea87",
   "metadata": {},
   "outputs": [],
   "source": [
    "df_full.sort_values(by=['aep_endtime_utc', 'aep_derived_uom', 'aep_srvc_qlty_idntfr']).head()"
   ]
  },
  {
   "cell_type": "code",
   "execution_count": null,
   "id": "aac13e7a",
   "metadata": {},
   "outputs": [],
   "source": []
  },
  {
   "cell_type": "code",
   "execution_count": null,
   "id": "f027e1a3",
   "metadata": {},
   "outputs": [],
   "source": []
  },
  {
   "cell_type": "code",
   "execution_count": null,
   "id": "81860931",
   "metadata": {},
   "outputs": [],
   "source": [
    "df_full[(df_full['aep_derived_uom']=='KWH') & \n",
    "        ((df_full['aep_srvc_qlty_idntfr']=='RECEIVED') | (df_full['aep_srvc_qlty_idntfr']=='DELIVERED'))]"
   ]
  },
  {
   "cell_type": "code",
   "execution_count": null,
   "id": "4adc51e0",
   "metadata": {},
   "outputs": [],
   "source": [
    "df_full[(df_full['aep_derived_uom']=='KWH') & \n",
    "        (df_full['aep_srvc_qlty_idntfr']=='TOTAL')]"
   ]
  },
  {
   "cell_type": "code",
   "execution_count": null,
   "id": "8d85d51d",
   "metadata": {},
   "outputs": [],
   "source": [
    "df_full_net_kwh[df_full_net_kwh['aep_derived_uom']=='KWH'].shape"
   ]
  },
  {
   "cell_type": "code",
   "execution_count": null,
   "id": "1e7372bb",
   "metadata": {},
   "outputs": [],
   "source": [
    "df_full[df_full['aep_derived_uom']=='KWH'].shape"
   ]
  },
  {
   "cell_type": "code",
   "execution_count": null,
   "id": "d8ffec5c",
   "metadata": {},
   "outputs": [],
   "source": []
  },
  {
   "cell_type": "code",
   "execution_count": null,
   "id": "19484c39",
   "metadata": {},
   "outputs": [],
   "source": []
  },
  {
   "cell_type": "code",
   "execution_count": null,
   "id": "aa8f77e4",
   "metadata": {},
   "outputs": [],
   "source": []
  },
  {
   "cell_type": "markdown",
   "id": "1c646b76",
   "metadata": {},
   "source": [
    "# Investigate weird SNs where KWH TOTAL = KWH RECEIVED\n",
    "- Began as verification that combining KWH via SQL gave same results as using AMINonVee.combine_kwh_delivered_and_received_values\n",
    "- However, observed this strange behavior"
   ]
  },
  {
   "cell_type": "code",
   "execution_count": null,
   "id": "69ce60e6",
   "metadata": {},
   "outputs": [],
   "source": [
    "cols_of_interest_usage = ['serialnumber', 'starttimeperiod', 'endtimeperiod', 'aep_endtime_utc', 'timezoneoffset',\n",
    "                          'aep_derived_uom', 'aep_srvc_qlty_idntfr', 'value', 'aep_usage_dt']\n",
    "\n",
    "cols_of_interest_usage_agg = ['starttimeperiod', 'endtimeperiod', 'aep_endtime_utc', 'timezoneoffset', \n",
    "                              'aep_derived_uom', 'aep_srvc_qlty_idntfr', 'value', 'aep_usage_dt']\n",
    "\n",
    "cols_of_interest_met_prem = ['mfr_devc_ser_nbr', 'prem_nb', 'srvc_pole_nb', \n",
    "                             'trsf_pole_nb', 'annual_kwh', 'station_nb', 'xfmr_nb']\n",
    "\n",
    "date_range = ['2021-01-01', '2021-01-02']\n",
    "field_descs=cols_of_interest_usage_agg\n",
    "agg_cols_and_types = {'U.value':['sum', 'sq_sum', 'mean', 'std', 'count']}\n",
    "groupby_cols = ['starttimeperiod', 'endtimeperiod', 'aep_endtime_utc', 'timezoneoffset', \n",
    "                'aep_derived_uom', 'aep_srvc_qlty_idntfr', 'aep_usage_dt']\n",
    "try_to_split_col_strs = True\n",
    "\n",
    "tmp_sns = [638995834, 640314914, 640348584, 640348584, 645786659, 681348416, 683596072, 750388945, \n",
    " 761934246, 876277766, 876682976, 876683003, 876683004, 879832166, 880064346, 880071670, \n",
    " 880081025, 880157481, 880181013, 880184364]"
   ]
  },
  {
   "cell_type": "code",
   "execution_count": null,
   "id": "faac55c6",
   "metadata": {},
   "outputs": [],
   "source": [
    "usg_norm_select = SQLSelect(cols_of_interest_usage)\n",
    "#-----\n",
    "usg_norm_where = SQLWhere([dict(field_desc='aep_opco', comparison_operator='=', value='oh', needs_quotes=True), \n",
    "                           dict(field_desc='aep_derived_uom', comparison_operator='=', value='KWH', needs_quotes=True), \n",
    "                           dict(field_desc='aep_usage_dt', comparison_operator='BETWEEN', \n",
    "                                value=[f'{date_range[0]}',f'{date_range[1]}'], needs_quotes=True), \n",
    "                           dict(field_desc='serialnumber', comparison_operator='IN', \n",
    "                                value=f'({Utilities_sql.join_list_w_quotes(tmp_sns)})', needs_quotes=False)\n",
    "                          ], idxs=None, run_check=True)\n",
    "#-----\n",
    "usg_norm = SQLQuery(sql_select = usg_norm_select, \n",
    "                                sql_from = SQLFrom('usage_nonvee', 'reading_ivl_nonvee'), \n",
    "                                sql_where = usg_norm_where\n",
    "                               )\n",
    "# print(usg_norm.get_sql_statement())\n",
    "#------------------------------\n",
    "usg_norm_df = pd.read_sql(usg_norm.get_sql_statement(), conn_aws)\n",
    "usg_norm_df = clm.remove_table_aliases(usg_norm_df)"
   ]
  },
  {
   "cell_type": "code",
   "execution_count": null,
   "id": "33815d6d",
   "metadata": {},
   "outputs": [],
   "source": [
    "usg_kwh_net_or_total_sql_stmnt = AMINonVeeSQL.build_net_kwh_usage_sql_statement(cols_of_interest_usage, \n",
    "                                                                   date_range=date_range, \n",
    "                                                                   serial_numbers=tmp_sns, \n",
    "                                                                   additional_derived_uoms=None, \n",
    "                                                                   run_careful=True, \n",
    "                                                                   value_col='value', \n",
    "                                                                   aep_srvc_qlty_idntfr_col='aep_srvc_qlty_idntfr', \n",
    "                                                                   serialnumber_col='serialnumber', \n",
    "                                                                   return_statement=True, \n",
    "                                                                   final_table_alias='U', \n",
    "                                                                   insert_n_tabs_to_each_line=1, \n",
    "                                                                   prepend_with_to_stmnt=True)\n",
    "# print(usg_kwh_net_or_total_sql_stmnt)\n",
    "#-------------------------------\n",
    "usg_kwh_net_df = pd.read_sql(usg_kwh_net_or_total_sql_stmnt + \"\\nSELECT * FROM U\", conn_aws)\n",
    "usg_kwh_net_df = clm.remove_table_aliases(usg_kwh_net_df)"
   ]
  },
  {
   "cell_type": "code",
   "execution_count": null,
   "id": "88ea4937",
   "metadata": {},
   "outputs": [],
   "source": []
  },
  {
   "cell_type": "code",
   "execution_count": null,
   "id": "3dee2a0b",
   "metadata": {},
   "outputs": [],
   "source": [
    "usg_norm_df_combined = AMINonVee.combine_kwh_delivered_and_received_values(usg_norm_df)\n",
    "cols_to_comp = [x for x in usg_kwh_net_df if x!='aep_srvc_qlty_idntfr']\n",
    "sort_by = ['aep_endtime_utc', 'serialnumber']\n",
    "usg_norm_df_combined[cols_to_comp].sort_values(by=sort_by, ignore_index=True).equals(usg_kwh_net_df[cols_to_comp].sort_values(by=sort_by, ignore_index=True))"
   ]
  },
  {
   "cell_type": "code",
   "execution_count": null,
   "id": "dd6cfab4",
   "metadata": {},
   "outputs": [],
   "source": [
    "usg_norm_df['aep_srvc_qlty_idntfr'].unique()"
   ]
  },
  {
   "cell_type": "code",
   "execution_count": null,
   "id": "ab7dfea3",
   "metadata": {},
   "outputs": [],
   "source": [
    "# usg_norm_df_combined.shape should equal usg_kwh_net_df.shape\n",
    "# usg_norm_df.shape[0] should be 2x the others, as in the others\n",
    "#   DELIVERED/RECIEVED or TOTAL/RECEIVED have been combined into CALCULATED_NET(or TOTAL)"
   ]
  },
  {
   "cell_type": "code",
   "execution_count": null,
   "id": "89d1c10f",
   "metadata": {},
   "outputs": [],
   "source": [
    "print(f'usg_norm_df.shape          = {usg_norm_df.shape}')\n",
    "print(f'usg_norm_df_combined.shape = {usg_norm_df_combined.shape}')\n",
    "print(f'usg_kwh_net_df.shape       = {usg_kwh_net_df.shape}')"
   ]
  },
  {
   "cell_type": "code",
   "execution_count": null,
   "id": "5a266261",
   "metadata": {},
   "outputs": [],
   "source": [
    "usg_norm_df.sort_values(by=['aep_endtime_utc', 'serialnumber', 'aep_srvc_qlty_idntfr']).head()"
   ]
  },
  {
   "cell_type": "code",
   "execution_count": null,
   "id": "a3f6fdac",
   "metadata": {},
   "outputs": [],
   "source": [
    "usg_kwh_net_df.sort_values(by=['aep_endtime_utc', 'serialnumber', 'aep_srvc_qlty_idntfr']).head()"
   ]
  },
  {
   "cell_type": "code",
   "execution_count": null,
   "id": "cea262c8",
   "metadata": {},
   "outputs": [],
   "source": []
  },
  {
   "cell_type": "code",
   "execution_count": null,
   "id": "c59d07a8",
   "metadata": {},
   "outputs": [],
   "source": [
    "# TODO WHY do multiple entries have TOTAL=RECEIVED????? (when using tmp_sns)\n",
    "usg_norm_df[usg_norm_df['aep_endtime_utc']=='1609478100'].sort_values(by='serialnumber')"
   ]
  },
  {
   "cell_type": "code",
   "execution_count": null,
   "id": "a9e0950b",
   "metadata": {},
   "outputs": [],
   "source": []
  },
  {
   "cell_type": "code",
   "execution_count": null,
   "id": "13656fc6",
   "metadata": {},
   "outputs": [],
   "source": []
  },
  {
   "cell_type": "code",
   "execution_count": null,
   "id": "d3bc7e7c",
   "metadata": {},
   "outputs": [],
   "source": []
  },
  {
   "cell_type": "markdown",
   "id": "b0d41008",
   "metadata": {},
   "source": [
    "# Looking into weirdness\n",
    "- This pre-dates the SQLAids package, and AEP was switching to AWS during the time these data were acquired.  Therefore, probably don't worry too much about this weirdness."
   ]
  },
  {
   "cell_type": "code",
   "execution_count": null,
   "id": "f66e6b9b",
   "metadata": {},
   "outputs": [],
   "source": [
    "df_old = pd.read_csv(os.path.join(Utilities.get_local_data_dir(), r'sample_circuits\\OldMethod\\outg_rec_nb_11751094\\outg_rec_nb_11751094_2020_q1.csv'))\n",
    "df_new = pd.read_csv(os.path.join(Utilities.get_local_data_dir(), r'sample_circuits\\NewMethod\\outg_rec_nb_11751094\\outg_rec_nb_11751094_2020_q1.csv'))\n",
    "df_xfr = pd.read_csv(os.path.join(Utilities.get_local_data_dir(), r'sample_circuits\\NewMethod\\GroupByXfmr\\outg_rec_nb_11751094\\outg_rec_nb_11751094_2020_q1.csv'))\n",
    "df_batch1 = pd.read_csv(os.path.join(Utilities.get_local_data_dir(), r'sample_circuits\\Batch1_MoreCounts\\outg_rec_nb_11751094\\outg_rec_nb_11751094_2020_q1.csv'))\n",
    "df_batch2 = pd.read_csv(os.path.join(Utilities.get_local_data_dir(), r'sample_circuits\\Batch2_LessCounts\\outg_rec_nb_11751094\\outg_rec_nb_11751094_2020_q1.csv'))"
   ]
  },
  {
   "cell_type": "code",
   "execution_count": null,
   "id": "40a74045",
   "metadata": {},
   "outputs": [],
   "source": [
    "df_old = clm.remove_table_aliases(df_old)\n",
    "df_new = clm.remove_table_aliases(df_new)\n",
    "df_xfr = clm.remove_table_aliases(df_xfr)\n",
    "df_batch1 = clm.remove_table_aliases(df_batch1)\n",
    "df_batch2 = clm.remove_table_aliases(df_batch2)"
   ]
  },
  {
   "cell_type": "code",
   "execution_count": null,
   "id": "d71eab8a",
   "metadata": {},
   "outputs": [],
   "source": [
    "print(f'df_old.shape    = {df_old.shape}')\n",
    "print(f'df_new.shape    = {df_new.shape}')\n",
    "print(f'df_xfr.shape    = {df_xfr.shape}')\n",
    "print(f'df_batch1.shape = {df_batch1.shape}')\n",
    "print(f'df_batch2.shape = {df_batch2.shape}')"
   ]
  },
  {
   "cell_type": "markdown",
   "id": "d9b32136",
   "metadata": {},
   "source": [
    "### Take circuit w/ transformer (df_xfr) to circuit (df_new)"
   ]
  },
  {
   "cell_type": "code",
   "execution_count": null,
   "id": "136d43c9",
   "metadata": {},
   "outputs": [],
   "source": [
    "gpby_cols = [\n",
    "    'starttimeperiod',\n",
    "    'endtimeperiod',\n",
    "    'aep_endtime_utc',\n",
    "    'timezoneoffset',\n",
    "    'aep_derived_uom',\n",
    "    'aep_srvc_qlty_idntfr',\n",
    "    'aep_usage_dt'\n",
    "]\n",
    "sort_cols = ['aep_endtime_utc', 'aep_derived_uom', 'aep_srvc_qlty_idntfr'] #Sort for comparison"
   ]
  },
  {
   "cell_type": "code",
   "execution_count": null,
   "id": "ba3ad0f8",
   "metadata": {},
   "outputs": [],
   "source": []
  },
  {
   "cell_type": "code",
   "execution_count": null,
   "id": "056c10b4",
   "metadata": {},
   "outputs": [],
   "source": [
    "df_xfr_gpd = df_xfr.groupby(gpby_cols).agg({'value_sum':'sum', \n",
    "                                            'value_sq_sum':'sum', \n",
    "                                            'counts':'sum', \n",
    "                                            'counts_including_null':'sum'})\n",
    "df_xfr_gpd=df_xfr_gpd.reset_index()\n",
    "df_xfr_gpd['value_mean'] = df_xfr_gpd['value_sum']/df_xfr_gpd['counts']\n",
    "df_xfr_gpd['value_std'] = np.sqrt((df_xfr_gpd['value_sq_sum'] - df_xfr_gpd['value_sum']*df_xfr_gpd['value_sum']/df_xfr_gpd['counts'])/(df_xfr_gpd['counts']-1))"
   ]
  },
  {
   "cell_type": "code",
   "execution_count": null,
   "id": "251f72a6",
   "metadata": {},
   "outputs": [],
   "source": [
    "df_xfr_gpd = df_xfr_gpd[df_new.columns]\n",
    "df_xfr_gpd = df_xfr_gpd.sort_values(by=sort_cols, ignore_index=True)\n",
    "df_new = df_new.sort_values(by=sort_cols, ignore_index=True)"
   ]
  },
  {
   "cell_type": "code",
   "execution_count": null,
   "id": "3b6daf03",
   "metadata": {},
   "outputs": [],
   "source": [
    "print(df_xfr_gpd.equals(df_new))\n",
    "diffs = Utilities_df.get_dfs_diff_approx_ok(df_xfr_gpd, df_new)\n",
    "print(diffs)"
   ]
  },
  {
   "cell_type": "code",
   "execution_count": null,
   "id": "f7b24871",
   "metadata": {},
   "outputs": [],
   "source": []
  },
  {
   "cell_type": "markdown",
   "id": "307e2bdb",
   "metadata": {},
   "source": [
    "# Why are batch1 and batch2 so much larger than current runs?"
   ]
  },
  {
   "cell_type": "code",
   "execution_count": null,
   "id": "5d80e0c3",
   "metadata": {},
   "outputs": [],
   "source": [
    "sort_cols = ['aep_endtime_utc', 'aep_derived_uom', 'aep_srvc_qlty_idntfr'] #Sort for comparison\n",
    "df_new = df_new.sort_values(by=sort_cols, ignore_index=True)\n",
    "df_batch1 = df_batch1.sort_values(by=sort_cols, ignore_index=True)\n",
    "df_batch2 = df_batch2.sort_values(by=sort_cols, ignore_index=True)"
   ]
  },
  {
   "cell_type": "code",
   "execution_count": null,
   "id": "416fed02",
   "metadata": {},
   "outputs": [],
   "source": [
    "df_batch1.head()"
   ]
  },
  {
   "cell_type": "code",
   "execution_count": null,
   "id": "aa81b7ad",
   "metadata": {},
   "outputs": [],
   "source": [
    "df_new.head()"
   ]
  },
  {
   "cell_type": "code",
   "execution_count": null,
   "id": "420896e7",
   "metadata": {},
   "outputs": [],
   "source": [
    "df_batch2.head()"
   ]
  },
  {
   "cell_type": "code",
   "execution_count": null,
   "id": "3e7bd29a",
   "metadata": {},
   "outputs": [],
   "source": []
  },
  {
   "cell_type": "code",
   "execution_count": null,
   "id": "210ed48d",
   "metadata": {},
   "outputs": [],
   "source": []
  },
  {
   "cell_type": "code",
   "execution_count": null,
   "id": "8c254eaa",
   "metadata": {},
   "outputs": [],
   "source": []
  }
 ],
 "metadata": {
  "kernelspec": {
   "display_name": "Python 3 (ipykernel)",
   "language": "python",
   "name": "python3"
  },
  "language_info": {
   "codemirror_mode": {
    "name": "ipython",
    "version": 3
   },
   "file_extension": ".py",
   "mimetype": "text/x-python",
   "name": "python",
   "nbconvert_exporter": "python",
   "pygments_lexer": "ipython3",
   "version": "3.11.7"
  }
 },
 "nbformat": 4,
 "nbformat_minor": 5
}
