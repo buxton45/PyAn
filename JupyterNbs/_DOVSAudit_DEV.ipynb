{
 "cells": [
  {
   "cell_type": "code",
   "execution_count": null,
   "id": "3672ef77",
   "metadata": {},
   "outputs": [],
   "source": [
    "from importlib import reload\n",
    "#reload(Utilities)\n",
    "#reload(clm)\n",
    "\n",
    "import sys, os\n",
    "import re\n",
    "import pickle\n",
    "\n",
    "import pandas as pd\n",
    "import numpy as np\n",
    "from pandas.api.types import is_numeric_dtype, is_datetime64_dtype, is_timedelta64_dtype\n",
    "from scipy import stats\n",
    "import datetime\n",
    "import time\n",
    "from natsort import natsorted, ns, natsort_keygen\n",
    "from packaging import version\n",
    "\n",
    "import copy\n",
    "import itertools\n",
    "import adjustText\n",
    "\n",
    "import pyodbc\n",
    "#---------------------------------------------------------------------\n",
    "sys.path.insert(0, os.path.realpath('..'))\n",
    "import Utilities_config\n",
    "#-----\n",
    "import CommonLearningMethods as clm\n",
    "#-----\n",
    "from MeterPremise import MeterPremise\n",
    "#-----\n",
    "from AMI_SQL import AMI_SQL\n",
    "from AMINonVee_SQL import AMINonVee_SQL\n",
    "from AMIEndEvents_SQL import AMIEndEvents_SQL\n",
    "from AMIUsgInst_SQL import AMIUsgInst_SQL\n",
    "from DOVSOutages_SQL import DOVSOutages_SQL\n",
    "#-----\n",
    "from GenAn import GenAn\n",
    "from AMINonVee import AMINonVee\n",
    "from AMIEndEvents import AMIEndEvents\n",
    "from AMIUsgInst import AMIUsgInst\n",
    "from DOVSOutages import DOVSOutages\n",
    "#-----\n",
    "from DOVSAudit import DOVSAudit\n",
    "#---------------------------------------------------------------------\n",
    "import matplotlib as mpl\n",
    "import matplotlib.pyplot as plt\n",
    "import seaborn as sns\n",
    "from matplotlib.backends.backend_pdf import PdfPages\n",
    "import matplotlib.patches as mpatches\n",
    "from matplotlib.lines import Line2D\n",
    "import matplotlib.ticker as ticker\n",
    "from matplotlib import dates\n",
    "#---------------------------------------------------------------------\n",
    "sys.path.insert(0, Utilities_config.get_sql_aids_dir())\n",
    "import Utilities_sql\n",
    "import TableInfos\n",
    "from TableInfos import TableInfo\n",
    "from SQLElement import SQLElement\n",
    "from SQLElementsCollection import SQLElementsCollection\n",
    "from SQLSelect import SQLSelectElement, SQLSelect\n",
    "from SQLFrom import SQLFrom\n",
    "from SQLWhere import SQLWhereElement, SQLWhere\n",
    "from SQLJoin import SQLJoin, SQLJoinCollection\n",
    "from SQLGroupBy import SQLGroupByElement, SQLGroupBy\n",
    "from SQLHaving import SQLHaving\n",
    "from SQLOrderBy import SQLOrderByElement, SQLOrderBy\n",
    "from SQLQuery import SQLQuery\n",
    "from SQLQueryGeneric import SQLQueryGeneric\n",
    "#---------------------------------------------------------------------\n",
    "sys.path.insert(0, Utilities_config.get_utilities_dir())\n",
    "import Utilities\n",
    "import Utilities_df\n",
    "import Utilities_dt\n",
    "from Utilities_df import DFConstructType\n",
    "import Plot_General\n",
    "import Plot_Box_sns\n",
    "import Plot_Hist\n",
    "import GrubbsTest\n",
    "import DataFrameSubsetSlicer\n",
    "from DataFrameSubsetSlicer import DataFrameSubsetSlicer as DFSlicer\n",
    "from DataFrameSubsetSlicer import DataFrameSubsetSingleSlicer as DFSingleSlicer"
   ]
  },
  {
   "cell_type": "code",
   "execution_count": null,
   "id": "d0eac3c5-d309-42c5-903a-97e5a5810155",
   "metadata": {},
   "outputs": [],
   "source": []
  },
  {
   "cell_type": "code",
   "execution_count": null,
   "id": "0388b4f0",
   "metadata": {},
   "outputs": [],
   "source": [
    "# outg_rec_nb = '13551139'\n",
    "# outg_rec_nb = '13579980'\n",
    "# outg_rec_nb = '13464549'\n",
    "# outg_rec_nb = '13464904'\n",
    "outg_rec_nb = '13759308'\n",
    "# outg_rec_nb = '13749860'\n",
    "\n",
    "outg_rec_nb = '13766571'"
   ]
  },
  {
   "cell_type": "code",
   "execution_count": null,
   "id": "c577c648",
   "metadata": {},
   "outputs": [],
   "source": [
    "# audit_i = DOVSAudit(\n",
    "#     outg_rec_nb=outg_rec_nb\n",
    "# )\n",
    "# #-------------------------\n",
    "# audit_i.load_dovs(\n",
    "#     dovs_df           = None, \n",
    "#     dovs_df_info_dict = None\n",
    "# )\n",
    "# #-------------------------\n",
    "# audit_i.load_ami_from_csvs(\n",
    "#     paths                          = outg_rec_nb_to_files_dict[outg_rec_nb], \n",
    "#     slicers                        = None, \n",
    "#     ami_df_info_dict               = None, \n",
    "#     run_std_init                   = True, \n",
    "#     cols_and_types_to_convert_dict = None, \n",
    "#     to_numeric_errors              = 'coerce', \n",
    "#     drop_na_rows_when_exception    = True, \n",
    "#     drop_unnamed0_col              = True, \n",
    "#     pd_read_csv_kwargs             = None, \n",
    "#     make_all_columns_lowercase     = False, \n",
    "#     assert_all_cols_equal          = True, \n",
    "#     min_fsize_MB                   = None\n",
    "# )\n",
    "# #-------------------------\n",
    "# if outg_rec_nb in outg_rec_nb_to_files_ede_dict.keys():\n",
    "#     audit_i.load_ede_from_csvs(\n",
    "#         paths                          = outg_rec_nb_to_files_ede_dict[outg_rec_nb], \n",
    "#         slicers                        = None, \n",
    "#         ede_df_info_dict               = None, \n",
    "#         run_std_init                   = True, \n",
    "#         cols_and_types_to_convert_dict = None, \n",
    "#         to_numeric_errors              = 'coerce', \n",
    "#         drop_na_rows_when_exception    = True, \n",
    "#         drop_unnamed0_col              = True, \n",
    "#         pd_read_csv_kwargs             = None, \n",
    "#         make_all_columns_lowercase     = False, \n",
    "#         assert_all_cols_equal          = True, \n",
    "#         min_fsize_MB                   = None\n",
    "#     )\n",
    "# #-------------------------"
   ]
  },
  {
   "cell_type": "code",
   "execution_count": null,
   "id": "9e6ba3be",
   "metadata": {},
   "outputs": [],
   "source": []
  },
  {
   "cell_type": "code",
   "execution_count": null,
   "id": "bdeb34e7",
   "metadata": {
    "scrolled": true
   },
   "outputs": [],
   "source": [
    "search_time_half_window=pd.Timedelta('24 hours')\n",
    "#-------------------------\n",
    "audit_i = DOVSAudit(\n",
    "    outg_rec_nb=outg_rec_nb\n",
    ")\n",
    "#-------------------------\n",
    "audit_i.load_dovs(\n",
    "    dovs_df           = None, \n",
    "    dovs_df_info_dict = None\n",
    ")\n",
    "#-------------------------\n",
    "audit_i.build_mp_df(\n",
    "    drop_mp_dups_fuzziness=pd.Timedelta('1 hour')\n",
    ")\n",
    "#-------------------------\n",
    "audit_i.run_ami_and_ede_daq(\n",
    "    search_time_half_window=search_time_half_window\n",
    ")"
   ]
  },
  {
   "cell_type": "code",
   "execution_count": null,
   "id": "f2d3599d",
   "metadata": {},
   "outputs": [],
   "source": [
    "# audit_i.calculate_by_PN=False"
   ]
  },
  {
   "cell_type": "code",
   "execution_count": null,
   "id": "75c8154a",
   "metadata": {
    "scrolled": true
   },
   "outputs": [],
   "source": [
    "audit_i.build_best_ests_df()\n",
    "audit_i.best_ests_df"
   ]
  },
  {
   "cell_type": "markdown",
   "id": "327cd0ca-1d74-44f5-908b-3001cf7b45aa",
   "metadata": {},
   "source": [
    "# TMP DEV 0"
   ]
  },
  {
   "cell_type": "code",
   "execution_count": null,
   "id": "fff75927",
   "metadata": {},
   "outputs": [],
   "source": [
    "audit_i.best_ests_df[audit_i.best_ests_df['SN'].isin(\n",
    "    audit_i.ami_df_i[audit_i.ami_df_i['trsf_pole_nb']=='38810897C00120']['serialnumber'].unique()\n",
    ")]"
   ]
  },
  {
   "cell_type": "code",
   "execution_count": null,
   "id": "cd444684",
   "metadata": {},
   "outputs": [],
   "source": [
    "audit_i.ami_df_i[audit_i.ami_df_i['trsf_pole_nb']=='38810897C00120']['serialnumber'].unique()"
   ]
  },
  {
   "cell_type": "code",
   "execution_count": null,
   "id": "e7ad5498",
   "metadata": {},
   "outputs": [],
   "source": [
    "natsorted(audit_i.ami_df_i['trsf_pole_nb'].unique().tolist())"
   ]
  },
  {
   "cell_type": "code",
   "execution_count": null,
   "id": "fbeec8af",
   "metadata": {},
   "outputs": [],
   "source": []
  },
  {
   "cell_type": "code",
   "execution_count": null,
   "id": "2044398f",
   "metadata": {},
   "outputs": [],
   "source": [
    "ami_nonvee = AMINonVee(\n",
    "    df_construct_type=DFConstructType.kRunSqlQuery, \n",
    "    contstruct_df_args = None, \n",
    "    build_sql_function=AMINonVee_SQL.build_sql_usg, \n",
    "    build_sql_function_kwargs=dict(\n",
    "        premise_nbs = ['020168331'],\n",
    "        date_range = ['2024-01-25', '2024-01-29'], \n",
    "        aep_derived_uoms_and_idntfrs = [['KWH', 'DELIVERED']]\n",
    "    ), \n",
    "    init_df_in_constructor=True, \n",
    "    save_args=False\n",
    ")\n",
    "\n",
    "fig, ax = Plot_General.default_subplots()\n",
    "AMINonVee.plot_usage(\n",
    "    fig = fig, \n",
    "    ax  = ax, \n",
    "    data = ami_nonvee.df, \n",
    "    x = 'starttimeperiod', \n",
    "    y = 'value', \n",
    "    hue='serialnumber'\n",
    ")"
   ]
  },
  {
   "cell_type": "code",
   "execution_count": null,
   "id": "2f9e5f27",
   "metadata": {},
   "outputs": [],
   "source": [
    "ami_nonvee = AMINonVee(\n",
    "    df_construct_type=DFConstructType.kRunSqlQuery, \n",
    "    contstruct_df_args = None, \n",
    "    build_sql_function=AMINonVee_SQL.build_sql_usg, \n",
    "    build_sql_function_kwargs=dict(\n",
    "        premise_nbs = ['020168331'],\n",
    "        date_range = ['2024-01-25', '2024-01-29'], \n",
    "        aep_derived_uoms_and_idntfrs = [['KWH', 'RECEIVED']]\n",
    "    ), \n",
    "    init_df_in_constructor=True, \n",
    "    save_args=False\n",
    ")\n",
    "\n",
    "fig, ax = Plot_General.default_subplots()\n",
    "AMINonVee.plot_usage(\n",
    "    fig = fig, \n",
    "    ax  = ax, \n",
    "    data = ami_nonvee.df, \n",
    "    x = 'starttimeperiod', \n",
    "    y = 'value', \n",
    "    hue='serialnumber'\n",
    ")"
   ]
  },
  {
   "cell_type": "code",
   "execution_count": null,
   "id": "c83df762",
   "metadata": {},
   "outputs": [],
   "source": [
    "ami_nonvee = AMINonVee(\n",
    "    df_construct_type=DFConstructType.kRunSqlQuery, \n",
    "    contstruct_df_args = None, \n",
    "    build_sql_function=AMINonVee_SQL.build_sql_usg, \n",
    "    build_sql_function_kwargs=dict(\n",
    "        premise_nbs = ['020168331'],\n",
    "        date_range = ['2024-01-28', '2024-01-29'], \n",
    "        aep_derived_uoms_and_idntfrs = ['VOLT']\n",
    "    ), \n",
    "    init_df_in_constructor=True, \n",
    "    save_args=False\n",
    ")\n",
    "\n",
    "fig, ax = Plot_General.default_subplots()\n",
    "AMINonVee.plot_usage(\n",
    "    fig = fig, \n",
    "    ax  = ax, \n",
    "    data = ami_nonvee.df, \n",
    "    x = 'starttimeperiod', \n",
    "    y = 'value', \n",
    "    hue='serialnumber'\n",
    ")"
   ]
  },
  {
   "cell_type": "code",
   "execution_count": null,
   "id": "0310473a",
   "metadata": {},
   "outputs": [],
   "source": []
  },
  {
   "cell_type": "code",
   "execution_count": null,
   "id": "01e81886",
   "metadata": {},
   "outputs": [],
   "source": []
  },
  {
   "cell_type": "code",
   "execution_count": null,
   "id": "54052d7d",
   "metadata": {},
   "outputs": [],
   "source": []
  },
  {
   "cell_type": "code",
   "execution_count": null,
   "id": "aa7db3e3",
   "metadata": {},
   "outputs": [],
   "source": []
  },
  {
   "cell_type": "code",
   "execution_count": null,
   "id": "3d245915",
   "metadata": {},
   "outputs": [],
   "source": []
  },
  {
   "cell_type": "markdown",
   "id": "4c92d9fc",
   "metadata": {},
   "source": [
    "# TMP DEV"
   ]
  },
  {
   "cell_type": "code",
   "execution_count": null,
   "id": "0e6a14c8",
   "metadata": {},
   "outputs": [],
   "source": [
    "audit_i.identify_overlaps(overlaps_dovs_sql_fcn=DOVSOutages_SQL.build_sql_outage)"
   ]
  },
  {
   "cell_type": "code",
   "execution_count": null,
   "id": "65529deb",
   "metadata": {},
   "outputs": [],
   "source": []
  },
  {
   "cell_type": "code",
   "execution_count": null,
   "id": "eea2366a",
   "metadata": {},
   "outputs": [],
   "source": [
    "audit_i.best_ests_df"
   ]
  },
  {
   "cell_type": "code",
   "execution_count": null,
   "id": "6f7efc6f",
   "metadata": {},
   "outputs": [],
   "source": [
    "best_ests_df_w_mult = DOVSAudit.combine_PNs_in_best_ests_df(\n",
    "    best_ests_df    = audit_i.best_ests_df, \n",
    "    likeness_thresh = audit_i.combine_by_PN_likeness_thresh, \n",
    "    SN_col          = 'SN', \n",
    "    PN_col          = 'PN', \n",
    "    i_outg_col      = 'i_outg'     \n",
    ")"
   ]
  },
  {
   "cell_type": "code",
   "execution_count": null,
   "id": "5f61a7bf",
   "metadata": {},
   "outputs": [],
   "source": [
    "best_ests_df_w_mult"
   ]
  },
  {
   "cell_type": "code",
   "execution_count": null,
   "id": "3e1d718d",
   "metadata": {},
   "outputs": [],
   "source": [
    "SN_col          = 'SN'\n",
    "PN_col          = 'PN'\n",
    "i_outg_col      = 'i_outg'   "
   ]
  },
  {
   "cell_type": "code",
   "execution_count": null,
   "id": "736cfd83",
   "metadata": {},
   "outputs": [],
   "source": [
    "assert(\n",
    "    (best_ests_df_w_mult\n",
    "     .groupby([PN_col, i_outg_col])[SN_col].apply(list)\n",
    "     .groupby([PN_col]).apply(list)\n",
    "     .apply(lambda x: Utilities.are_all_lists_eq(x))\n",
    "    ).all()\n",
    ")"
   ]
  },
  {
   "cell_type": "code",
   "execution_count": null,
   "id": "913807f1",
   "metadata": {},
   "outputs": [],
   "source": [
    "(best_ests_df_w_mult\n",
    " .groupby([PN_col, i_outg_col])[SN_col].apply(list)\n",
    " .groupby([PN_col]).apply(list)\n",
    " .apply(lambda x: Utilities.are_all_lists_eq(x))\n",
    ")"
   ]
  },
  {
   "cell_type": "code",
   "execution_count": null,
   "id": "3f2aee01",
   "metadata": {},
   "outputs": [],
   "source": [
    "def get_energy_provided_df(\n",
    "    idfr_val, \n",
    "    idfr_field       = 'premise_nb', \n",
    "    date_pd          = None, \n",
    "    value_min        = 0.003, \n",
    "    cols_of_interest = None\n",
    "):\n",
    "    r\"\"\"\n",
    "    Returns a pd.DataFrame object containing the KWH (=aep_derived_uom) RECEIVED (=aep_srvc_qlty_idntfr) for the premise(s)/serial number(s)\n",
    "      for the time period date_pd (if not date_pd input, the past 30 days are used)\n",
    "      \n",
    "    idfr_val/idfr_field:\n",
    "        idfr_val:\n",
    "            The premise(s) or serial number(s) for which to acquire data.\n",
    "            This can be a string (single PN/SN) or a list (multiple PNs/SNs)\n",
    "        idfr_field:\n",
    "            Must be one of the following: \n",
    "                'premise_nb', 'premise_nbs', 'serial_number', 'serial_numbers'\n",
    "            This is NOT the field name in usage_nonvee.reading_ivl_nonvee, but instead the kwarg to be input\n",
    "              into AMI_SQL.build_sql_ami (so the name idfr_field is a bit misleading)\n",
    "              \n",
    "        date_pd:\n",
    "            Date period.\n",
    "            Should be a list/tuple of length 2 or None\n",
    "            If None, the past 30 days are used\n",
    "            \n",
    "        value_min:\n",
    "            Minimum value to return (it seems error might be +- 0.002, so the default value of 0.003 is to remove\n",
    "              any false non-zeros)\n",
    "    \"\"\"\n",
    "    #-------------------------\n",
    "    # For the purposes of this function, restrict idfr_field to\n",
    "    #   : serial_number(s) or premise_nb(s)\n",
    "    assert(idfr_field in ['serial_number', 'serial_numbers', 'premise_nb', 'premise_nbs'])\n",
    "    #-------------------------\n",
    "    if date_pd is None:\n",
    "        date_pd = [\n",
    "            pd.Timestamp('today').date()-pd.Timedelta('30D'), \n",
    "            pd.Timestamp('today').date()\n",
    "        ]\n",
    "    assert(Utilities.is_object_one_of_types(date_pd, [list, tuple]))\n",
    "    assert(len(date_pd)==2)    \n",
    "    #-------------------------\n",
    "    build_sql_function_kwargs=dict(\n",
    "        cols_of_interest             = cols_of_interest, \n",
    "        aep_derived_uoms_and_idntfrs = [['KWH', 'RECEIVED']], \n",
    "        date_range                   = date_pd, \n",
    "        value_min                    = value_min, \n",
    "        join_mp_args                 = False\n",
    "    )\n",
    "    build_sql_function_kwargs[idfr_field] = idfr_val\n",
    "    #-------------------------\n",
    "    ami = AMINonVee(\n",
    "        df_construct_type         = DFConstructType.kRunSqlQuery, \n",
    "        build_sql_function        = AMINonVee_SQL.build_sql_usg, \n",
    "        build_sql_function_kwargs = build_sql_function_kwargs, \n",
    "        init_df_in_constructor    = True\n",
    "    )\n",
    "    ami_df = ami.df.copy()\n",
    "    return ami_df"
   ]
  },
  {
   "cell_type": "code",
   "execution_count": null,
   "id": "ffff6ffb",
   "metadata": {},
   "outputs": [],
   "source": [
    "def get_agg_energy_provided_df(\n",
    "    idfr_val, \n",
    "    idfr_field       = 'premise_nb', \n",
    "    date_pd          = None, \n",
    "    value_min        = 0.003, \n",
    "    agg_fcns         = ['sum'], \n",
    "    grp_by_SN_and_PN = False\n",
    "):\n",
    "    r\"\"\"\n",
    "    Returns a pd.DataFrame object containing the aggregate KWH (=aep_derived_uom) RECEIVED (=aep_srvc_qlty_idntfr) for the premise(s)/serial number(s)\n",
    "      for the time period date_pd (if not date_pd input, the past 30 days are used).\n",
    "    Groups the data by PN/SN (depending on idfr_field) and applies the aggregate functions in agg_fcns (default = ['sum']).\n",
    "    The counts (including null) is always included.\n",
    "      \n",
    "    idfr_val/idfr_field:\n",
    "        idfr_val:\n",
    "            The premise(s) or serial number(s) for which to acquire data.\n",
    "            This can be a string (single PN/SN) or a list (multiple PNs/SNs)\n",
    "        idfr_field:\n",
    "            Must be one of the following: \n",
    "                'premise_nb', 'premise_nbs', 'serial_number', 'serial_numbers'\n",
    "            This is NOT the field name in usage_nonvee.reading_ivl_nonvee, but instead the kwarg to be input\n",
    "              into AMI_SQL.build_sql_ami (so the name idfr_field is a bit misleading)\n",
    "              \n",
    "        date_pd:\n",
    "            Date period.\n",
    "            Should be a list/tuple of length 2 or None\n",
    "            If None, the past 30 days are used\n",
    "            \n",
    "        value_min:\n",
    "            Minimum value to return (it seems error might be +- 0.002, so the default value of 0.003 is to remove\n",
    "              any false non-zeros)\n",
    "    \"\"\"\n",
    "    #-------------------------\n",
    "    # For the purposes of this function, restrict idfr_field to\n",
    "    #   : serial_number(s) or premise_nb(s)\n",
    "    assert(idfr_field in ['serial_number', 'serial_numbers', 'premise_nb', 'premise_nbs'])\n",
    "    #-------------------------\n",
    "    # Check that agg_fcns are all acceptable\n",
    "    assert(set(agg_fcns).difference(set(['sum', 'sq_sum', 'mean', 'std', 'count']))==set())    \n",
    "    #-------------------------\n",
    "    if date_pd is None:\n",
    "        date_pd = [\n",
    "            pd.Timestamp('today').date()-pd.Timedelta('30D'), \n",
    "            pd.Timestamp('today').date()\n",
    "        ]\n",
    "    assert(Utilities.is_object_one_of_types(date_pd, [list, tuple]))\n",
    "    assert(len(date_pd)==2)    \n",
    "    #-------------------------\n",
    "    idfr_col = None\n",
    "    if idfr_field in ['serial_number', 'serial_numbers']:\n",
    "        idfr_col = 'serialnumber'\n",
    "    elif idfr_field in ['premise_nb', 'premise_nbs']:\n",
    "        idfr_col = 'aep_premise_nb'\n",
    "    else:\n",
    "        assert(0)\n",
    "    #-----\n",
    "    value_col = 'value'\n",
    "    #-----\n",
    "    build_sql_function_kwargs=dict(\n",
    "        cols_of_interest             = [idfr_col], \n",
    "        aep_derived_uoms_and_idntfrs = [['KWH', 'RECEIVED']], \n",
    "        date_range                   = date_pd, \n",
    "        value_min                    = value_min, \n",
    "        join_mp_args                 = False, \n",
    "        agg_cols_and_types           = {value_col:agg_fcns}, \n",
    "        groupby_cols                 = [idfr_col]\n",
    "    )\n",
    "    build_sql_function_kwargs[idfr_field] = idfr_val\n",
    "    #-----\n",
    "    if grp_by_SN_and_PN:\n",
    "        build_sql_function_kwargs['cols_of_interest'] = ['serialnumber', 'aep_premise_nb']\n",
    "        build_sql_function_kwargs['groupby_cols']     = ['serialnumber', 'aep_premise_nb']\n",
    "    #-------------------------\n",
    "    ami = AMINonVee(\n",
    "        df_construct_type         = DFConstructType.kRunSqlQuery, \n",
    "        build_sql_function        = AMINonVee_SQL.build_sql_usg, \n",
    "        build_sql_function_kwargs = build_sql_function_kwargs, \n",
    "        init_df_in_constructor    = True\n",
    "    )\n",
    "    ami_df = ami.df.copy()\n",
    "    return ami_df"
   ]
  },
  {
   "cell_type": "code",
   "execution_count": null,
   "id": "c739e7c2",
   "metadata": {},
   "outputs": [],
   "source": [
    "def is_an_energy_provider(\n",
    "    idfr_val, \n",
    "    idfr_field       = 'premise_nb', \n",
    "    date_pd          = None, \n",
    "    value_min        = 0.003, \n",
    "):\n",
    "    r\"\"\"\n",
    "    Only used for a single PN/SN.\n",
    "    If multiple are desired, one can use AMINonVee.get_agg_energy_provided_df\n",
    "    Returns whether or not premise(s)/serial number(s) have provided AEP energy over the date period date_pd.\n",
    "    Only entries with value_min are considered non-zero values.\n",
    "    After applying such a cut, if the aggregate of 'value' over date_pd is non-zero, True is returned for the \n",
    "      premise(s)/serial number(s)\n",
    "    \n",
    "    idfr_val/idfr_field:\n",
    "        idfr_val:\n",
    "            The premise(s) or serial number(s) for which to acquire data.\n",
    "            This can be a string (single PN/SN) or a list (multiple PNs/SNs)\n",
    "        idfr_field:\n",
    "            Must be one of the following: \n",
    "                'premise_nb', 'premise_nbs', 'serial_number', 'serial_numbers'\n",
    "            This is NOT the field name in usage_nonvee.reading_ivl_nonvee, but instead the kwarg to be input\n",
    "              into AMI_SQL.build_sql_ami (so the name idfr_field is a bit misleading)\n",
    "              \n",
    "        date_pd:\n",
    "            Date period.\n",
    "            Should be a list/tuple of length 2 or None\n",
    "            If None, the past 30 days are used\n",
    "            \n",
    "        value_min:\n",
    "            Minimum value to return (it seems error might be +- 0.002, so the default value of 0.003 is to remove\n",
    "              any false non-zeros)\n",
    "    \"\"\"\n",
    "    #-------------------------\n",
    "    assert(isinstance(idfr_val, str))\n",
    "    #-------------------------\n",
    "    # For the purposes of this function, restrict idfr_field to\n",
    "    #   : serial_number(s) or premise_nb(s)\n",
    "    assert(idfr_field in ['serial_number', 'serial_numbers', 'premise_nb', 'premise_nbs'])\n",
    "    #-------------------------\n",
    "    idfr_col = None\n",
    "    if idfr_field in ['serial_number', 'serial_numbers']:\n",
    "        idfr_col = 'serialnumber'\n",
    "    elif idfr_field in ['premise_nb', 'premise_nbs']:\n",
    "        idfr_col = 'aep_premise_nb'\n",
    "    else:\n",
    "        assert(0)\n",
    "    #-----\n",
    "    value_col = 'value'\n",
    "    #-------------------------\n",
    "    agg_df = get_agg_energy_provided_df(\n",
    "        idfr_val         = idfr_val, \n",
    "        idfr_field       = idfr_field, \n",
    "        date_pd          = date_pd, \n",
    "        value_min        = value_min, \n",
    "        agg_fcns         = ['sum'], \n",
    "        grp_by_SN_and_PN = False\n",
    "    )\n",
    "    #-------------------------\n",
    "    if agg_df.shape[0] > 0:\n",
    "        sum_value_col = 'sum_'+value_col\n",
    "        assert((agg_df[sum_value_col]>0).all())\n",
    "        return True\n",
    "    else:\n",
    "        return False"
   ]
  },
  {
   "cell_type": "code",
   "execution_count": null,
   "id": "b3107aa3",
   "metadata": {},
   "outputs": [],
   "source": []
  },
  {
   "cell_type": "code",
   "execution_count": null,
   "id": "4a63324e",
   "metadata": {},
   "outputs": [],
   "source": [
    "(best_ests_df_w_mult\n",
    " .groupby([PN_col, i_outg_col])[SN_col].apply(list)\n",
    " .groupby([PN_col]).apply(list)\n",
    " .apply(lambda x: Utilities.are_all_lists_eq(x))\n",
    ")"
   ]
  },
  {
   "cell_type": "code",
   "execution_count": null,
   "id": "01941ad0",
   "metadata": {},
   "outputs": [],
   "source": [
    "is_an_energy_provider(\n",
    "    idfr_val         = '789820769', \n",
    "    idfr_field       = 'serial_number', \n",
    "    date_pd          = None, \n",
    "    value_min        = 0.003\n",
    ")"
   ]
  },
  {
   "cell_type": "code",
   "execution_count": null,
   "id": "83d12452",
   "metadata": {},
   "outputs": [],
   "source": [
    "is_an_energy_provider(\n",
    "    idfr_val         = '995678718', \n",
    "    idfr_field       = 'serial_number', \n",
    "    date_pd          = None, \n",
    "    value_min        = 0.003\n",
    ")"
   ]
  },
  {
   "cell_type": "code",
   "execution_count": null,
   "id": "f127e7b7",
   "metadata": {},
   "outputs": [],
   "source": [
    "best_ests_df_w_mult"
   ]
  },
  {
   "cell_type": "code",
   "execution_count": null,
   "id": "34f10b40",
   "metadata": {},
   "outputs": [],
   "source": [
    "best_ests_df    = audit_i.best_ests_df.copy()\n",
    "likeness_thresh = audit_i.combine_by_PN_likeness_thresh\n",
    "SN_col = 'SN'\n",
    "PN_col = 'PN'\n",
    "i_outg_col = 'i_outg'\n",
    "open_beg_col = 'open_beg'\n",
    "open_end_col = 'open_end'\n",
    "\n",
    "\n",
    "#-------------------------\n",
    "# Make sure SN_col, PN_col, and i_outg_col all in best_ests_df\n",
    "req_cols = [SN_col, PN_col, i_outg_col, open_beg_col, open_end_col]\n",
    "assert(len(set(req_cols).difference(best_ests_df.columns.tolist()))==0)\n",
    "\n",
    "# Determine which cols are mins and which are maxs\n",
    "# NOTE: The method used for finding minmax_cols together with the assertion below assures that \n",
    "#       best_ests_df contains only SN_col, PN_col, i_outg_col and min/max cols\n",
    "minmax_cols = [x for x in best_ests_df.columns.tolist() if x not in req_cols]\n",
    "min_cols = [x for x in best_ests_df.columns.tolist() if x.endswith('_min')]\n",
    "max_cols = [x for x in best_ests_df.columns.tolist() if x.endswith('_max')]\n",
    "assert(len(set(minmax_cols).symmetric_difference(set(min_cols+max_cols)))==0)\n",
    "assert(len(min_cols)==len(max_cols))\n",
    "\n",
    "# Maintain the original order of columns in best_ests_df in the returned df\n",
    "return_col_order = [x for x in best_ests_df.columns.tolist() if x in min_cols+max_cols]\n",
    "return_col_order.extend([open_beg_col, open_end_col])\n",
    "#-------------------------\n",
    "# All columns in minmax_cols must be datetime type\n",
    "# Below ensures all min/max columns are datetime\n",
    "for col_i in min_cols+max_cols:\n",
    "    dtype_i = best_ests_df[col_i].dtype\n",
    "    if not (dtype_i is datetime.datetime or is_datetime64_dtype(dtype_i)):\n",
    "        best_ests_df = Utilities_df.convert_col_type_w_pd_to_datetime(\n",
    "            df=best_ests_df, \n",
    "            column=col_i, \n",
    "            inplace=True\n",
    "        )\n",
    "\n",
    "#-------------------------\n",
    "# Really, the reduction operations below only need to be performed on PNs with more than one SN\n",
    "# To save resources and time, split apart those needing reduced and those not\n",
    "SNs_per_PN = best_ests_df[[SN_col, PN_col]].drop_duplicates()[PN_col].value_counts()\n",
    "PNs_w_mult_SNs = SNs_per_PN[SNs_per_PN>1].index.tolist()\n",
    "\n",
    "# If there are no PNs with multiple SNs, return best_ests_df (without SN_col, as the purpose of this\n",
    "#   is to eliminate SN_col by grouping by premise)\n",
    "# if len(PNs_w_mult_SNs)==0:\n",
    "#     return best_ests_df.drop(columns=[SN_col]).sort_values(by=[PN_col, i_outg_col], ignore_index=True)\n",
    "\n",
    "best_ests_df_w_mult  = best_ests_df[best_ests_df[PN_col].isin(PNs_w_mult_SNs)]\n",
    "best_ests_df_wo_mult = best_ests_df[~best_ests_df[PN_col].isin(PNs_w_mult_SNs)]\n",
    "assert(best_ests_df_w_mult.shape[0]+best_ests_df_wo_mult.shape[0]==best_ests_df.shape[0])"
   ]
  },
  {
   "cell_type": "code",
   "execution_count": null,
   "id": "c1cdced5",
   "metadata": {},
   "outputs": [],
   "source": [
    "#-------------------------\n",
    "#return best_ests_df_w_mult\n",
    "# Ensure that, when multiple sub-outages exist for a premise (i.e., when i_outg=0, 1, ...), \n",
    "#   all sub-outages share the same set of meters.\n",
    "# See function documentation above for explanation of operations\n",
    "assert(\n",
    "    (best_ests_df_w_mult\n",
    "     .groupby([PN_col, i_outg_col])[SN_col].apply(list)\n",
    "     .groupby([PN_col]).apply(list)\n",
    "     .apply(lambda x: Utilities.are_all_lists_eq(x))\n",
    "    ).all()\n",
    ")"
   ]
  },
  {
   "cell_type": "code",
   "execution_count": null,
   "id": "6bb11a1a",
   "metadata": {},
   "outputs": [],
   "source": [
    "best_ests_df_w_mult"
   ]
  },
  {
   "cell_type": "code",
   "execution_count": null,
   "id": "d0c3b5e0",
   "metadata": {},
   "outputs": [],
   "source": [
    "best_ests_df_w_mult.groupby([PN_col, i_outg_col])[SN_col].apply(list)"
   ]
  },
  {
   "cell_type": "code",
   "execution_count": null,
   "id": "ef27d4b2",
   "metadata": {},
   "outputs": [],
   "source": [
    "best_ests_df_w_mult.groupby([PN_col, i_outg_col])[SN_col].apply(list).groupby([PN_col]).apply(list)"
   ]
  },
  {
   "cell_type": "code",
   "execution_count": null,
   "id": "d9870b66",
   "metadata": {},
   "outputs": [],
   "source": []
  },
  {
   "cell_type": "code",
   "execution_count": null,
   "id": "226ab2bd",
   "metadata": {},
   "outputs": [],
   "source": []
  },
  {
   "cell_type": "code",
   "execution_count": null,
   "id": "30d4c813",
   "metadata": {},
   "outputs": [],
   "source": [
    "# If doesn't pass, then at least one meter (i.e., SN) did not lose power with the others\n",
    "# This could happen if SN has its own power storage ability (e.g., solar panels with battery)\n",
    "# In such a case, ignore the SN(s) EXCEPT if they have outage periods that do not overlap with\n",
    "#   those found by the others (i.e., except when they have something new/interesting to offer)"
   ]
  },
  {
   "cell_type": "code",
   "execution_count": null,
   "id": "0e96b836",
   "metadata": {},
   "outputs": [],
   "source": [
    "    (best_ests_df_w_mult\n",
    "     .groupby([PN_col, i_outg_col])[SN_col].apply(list)\n",
    "     .groupby([PN_col]).apply(list)\n",
    "     .apply(lambda x: Utilities.are_all_lists_eq(x))\n",
    "    )"
   ]
  },
  {
   "cell_type": "code",
   "execution_count": null,
   "id": "c7f7dec2",
   "metadata": {},
   "outputs": [],
   "source": [
    "if not(\n",
    "    (best_ests_df_w_mult\n",
    "     .groupby([PN_col, i_outg_col])[SN_col].apply(list)\n",
    "     .groupby([PN_col]).apply(list)\n",
    "     .apply(lambda x: Utilities.are_all_lists_eq(x))\n",
    "    ).all()\n",
    "):\n",
    "    print('Why the face?')"
   ]
  },
  {
   "cell_type": "code",
   "execution_count": null,
   "id": "c361ef73",
   "metadata": {},
   "outputs": [],
   "source": [
    "best_ests_df_w_mult[min_cols].min().min()"
   ]
  },
  {
   "cell_type": "code",
   "execution_count": null,
   "id": "fb225280",
   "metadata": {},
   "outputs": [],
   "source": [
    "if pd.notna(best_ests_df_w_mult[min_cols].min().min()):\n",
    "    date_pd = [\n",
    "        best_ests_df_w_mult[min_cols].min().min()-pd.Timedelta('30D'), \n",
    "        best_ests_df_w_mult[min_cols].min().min()\n",
    "    ]\n",
    "else:\n",
    "    date_pd = None"
   ]
  },
  {
   "cell_type": "code",
   "execution_count": null,
   "id": "ef0197fa",
   "metadata": {},
   "outputs": [],
   "source": [
    "agg_df = get_agg_energy_provided_df(\n",
    "    idfr_val         = best_ests_df_w_mult[PN_col].unique().tolist(), \n",
    "    idfr_field       = 'premise_nbs', \n",
    "    date_pd          = date_pd, \n",
    "    value_min        = 0.003, \n",
    "    agg_fcns         = ['sum'], \n",
    "    grp_by_SN_and_PN = True\n",
    ")"
   ]
  },
  {
   "cell_type": "code",
   "execution_count": null,
   "id": "ded41a09",
   "metadata": {},
   "outputs": [],
   "source": [
    "agg_df_2 = get_agg_energy_provided_df(\n",
    "    idfr_val         = best_ests_df_w_mult[SN_col].unique().tolist(), \n",
    "    idfr_field       = 'serial_numbers', \n",
    "    date_pd          = date_pd, \n",
    "    value_min        = 0.003, \n",
    "    agg_fcns         = ['sum'], \n",
    "    grp_by_SN_and_PN = True\n",
    ")"
   ]
  },
  {
   "cell_type": "code",
   "execution_count": null,
   "id": "cbb34cab",
   "metadata": {},
   "outputs": [],
   "source": [
    "agg_df"
   ]
  },
  {
   "cell_type": "code",
   "execution_count": null,
   "id": "263d61d4",
   "metadata": {},
   "outputs": [],
   "source": [
    "agg_df_2"
   ]
  },
  {
   "cell_type": "code",
   "execution_count": null,
   "id": "832ce5ce",
   "metadata": {},
   "outputs": [],
   "source": [
    "agg_df"
   ]
  },
  {
   "cell_type": "code",
   "execution_count": null,
   "id": "0828e091",
   "metadata": {},
   "outputs": [],
   "source": [
    "best_ests_df_w_mult"
   ]
  },
  {
   "cell_type": "code",
   "execution_count": null,
   "id": "97de31b2",
   "metadata": {},
   "outputs": [],
   "source": [
    "agg_df"
   ]
  },
  {
   "cell_type": "code",
   "execution_count": null,
   "id": "4869d730",
   "metadata": {},
   "outputs": [],
   "source": [
    "min_sum_value = 0\n",
    "provider_SNs = agg_df[agg_df['sum_value']>min_sum_value]['serialnumber'].unique().tolist()\n",
    "provider_SNs"
   ]
  },
  {
   "cell_type": "code",
   "execution_count": null,
   "id": "c5cde1ea",
   "metadata": {},
   "outputs": [],
   "source": [
    "best_ests_df_w_mult[best_ests_df_w_mult[SN_col].isin(provider_SNs)]"
   ]
  },
  {
   "cell_type": "code",
   "execution_count": null,
   "id": "2ef1bf45",
   "metadata": {},
   "outputs": [],
   "source": []
  },
  {
   "cell_type": "code",
   "execution_count": null,
   "id": "2245baa1",
   "metadata": {},
   "outputs": [],
   "source": []
  },
  {
   "cell_type": "code",
   "execution_count": null,
   "id": "41ea7cda",
   "metadata": {},
   "outputs": [],
   "source": [
    "df1 = get_energy_provided_df(\n",
    "#     idfr_val         = '020168331', \n",
    "#     idfr_field       = 'premise_nb', \n",
    "#     idfr_val         = '995678718', \n",
    "#     idfr_val         = '789820769', \n",
    "    idfr_val         = ['995678718', '789820769'], \n",
    "    idfr_field       = 'serial_number', \n",
    "    date_pd          = None, \n",
    "    value_min        = 0.003, \n",
    "    cols_of_interest = None\n",
    ")"
   ]
  },
  {
   "cell_type": "code",
   "execution_count": null,
   "id": "864f4a6a",
   "metadata": {},
   "outputs": [],
   "source": [
    "df2 = get_agg_energy_provided_df(\n",
    "#     idfr_val         = '020168331', \n",
    "#     idfr_field       = 'premise_nb', \n",
    "#     idfr_val         = '995678718', \n",
    "    idfr_val         = '789820769', \n",
    "#     idfr_val         = ['995678718', '789820769'], \n",
    "    idfr_field       = 'serial_number', \n",
    "    date_pd          = None, \n",
    "    value_min        = 0.003, \n",
    "    agg_fcns         = ['sum']\n",
    ")"
   ]
  },
  {
   "cell_type": "code",
   "execution_count": null,
   "id": "7263a3e3",
   "metadata": {},
   "outputs": [],
   "source": []
  },
  {
   "cell_type": "code",
   "execution_count": null,
   "id": "445c6280",
   "metadata": {},
   "outputs": [],
   "source": []
  },
  {
   "cell_type": "code",
   "execution_count": null,
   "id": "d8d656f7",
   "metadata": {},
   "outputs": [],
   "source": []
  },
  {
   "cell_type": "code",
   "execution_count": null,
   "id": "c7e930e4",
   "metadata": {},
   "outputs": [],
   "source": [
    "df1"
   ]
  },
  {
   "cell_type": "code",
   "execution_count": null,
   "id": "ec7fed0e",
   "metadata": {},
   "outputs": [],
   "source": [
    "(df2['sum_value']>0).all()"
   ]
  },
  {
   "cell_type": "code",
   "execution_count": null,
   "id": "2ca68206",
   "metadata": {},
   "outputs": [],
   "source": [
    "df2.loc[df2['sum_value']>0, 'sum_value']"
   ]
  },
  {
   "cell_type": "code",
   "execution_count": null,
   "id": "0af85a00",
   "metadata": {},
   "outputs": [],
   "source": []
  },
  {
   "cell_type": "code",
   "execution_count": null,
   "id": "17d471b4",
   "metadata": {},
   "outputs": [],
   "source": []
  },
  {
   "cell_type": "code",
   "execution_count": null,
   "id": "4a2e2885",
   "metadata": {},
   "outputs": [],
   "source": []
  },
  {
   "cell_type": "code",
   "execution_count": null,
   "id": "2b78f1bd",
   "metadata": {},
   "outputs": [],
   "source": [
    "idfr_val = '020168331'\n",
    "idfr_field = 'premise_nb' #NOT REALLY A FIELD, BUT A KWARG FOR build_sql_ami\n",
    "date_pd = None\n",
    "value_min = 0.003"
   ]
  },
  {
   "cell_type": "code",
   "execution_count": null,
   "id": "5d3c8993",
   "metadata": {},
   "outputs": [],
   "source": [
    "if date_pd is None:\n",
    "    date_pd = [\n",
    "        pd.Timestamp('today').date()-pd.Timedelta('30D'), \n",
    "        pd.Timestamp('today').date()\n",
    "    ]\n",
    "assert(Utilities.is_object_one_of_types(date_pd, [list, tuple]))\n",
    "assert(len(date_pd)==2)"
   ]
  },
  {
   "cell_type": "code",
   "execution_count": null,
   "id": "7cafc1c9",
   "metadata": {},
   "outputs": [],
   "source": [
    "# For the purposes of this function, restrict idfr_field to\n",
    "#   : serial_number(s) or premise_nb(s)\n",
    "assert(idfr_field in ['serial_number', 'serial_numbers', 'premise_nb', 'premise_nbs'])\n",
    "build_sql_function_kwargs=dict(\n",
    "    cols_of_interest             = None, \n",
    "    aep_derived_uoms_and_idntfrs = [['KWH', 'RECEIVED']], \n",
    "    date_range                   = date_pd, \n",
    "    value_min                    = value_min, \n",
    "    join_mp_args                 = False\n",
    ")\n",
    "build_sql_function_kwargs[idfr_field] = idfr_val"
   ]
  },
  {
   "cell_type": "code",
   "execution_count": null,
   "id": "ff5b8df8",
   "metadata": {},
   "outputs": [],
   "source": [
    "build_sql_function_kwargs"
   ]
  },
  {
   "cell_type": "code",
   "execution_count": null,
   "id": "0160dddd",
   "metadata": {},
   "outputs": [],
   "source": [
    "# For the purposes of this function, restrict idfr_field to\n",
    "#   : serial_number(s) or premise_nb(s)\n",
    "assert(idfr_field in ['serial_number', 'serial_numbers', 'premise_nb', 'premise_nbs'])\n",
    "build_sql_function_kwargs=dict(\n",
    "    cols_of_interest             = ['aep_premise_nb'], \n",
    "    aep_derived_uoms_and_idntfrs = [['KWH', 'RECEIVED']], \n",
    "    date_range                   = date_pd, \n",
    "    value_min                    = value_min, \n",
    "    join_mp_args                 = False, \n",
    "    agg_cols_and_types           = {'value':['sum']}, \n",
    "    groupby_cols                 = ['aep_premise_nb']\n",
    ")\n",
    "build_sql_function_kwargs[idfr_field] = idfr_val"
   ]
  },
  {
   "cell_type": "code",
   "execution_count": null,
   "id": "034a2bd8",
   "metadata": {
    "scrolled": true
   },
   "outputs": [],
   "source": [
    "build_sql_function_kwargs"
   ]
  },
  {
   "cell_type": "code",
   "execution_count": null,
   "id": "8ce02131",
   "metadata": {},
   "outputs": [],
   "source": []
  },
  {
   "cell_type": "code",
   "execution_count": null,
   "id": "dd5bffa2",
   "metadata": {},
   "outputs": [],
   "source": [
    "ami = AMINonVee(\n",
    "    df_construct_type         = DFConstructType.kRunSqlQuery, \n",
    "    build_sql_function        = AMINonVee_SQL.build_sql_usg, \n",
    "    build_sql_function_kwargs = build_sql_function_kwargs, \n",
    "    init_df_in_constructor    = True\n",
    ")"
   ]
  },
  {
   "cell_type": "code",
   "execution_count": null,
   "id": "6ae9fe59",
   "metadata": {},
   "outputs": [],
   "source": [
    "print(ami.get_sql_statement())"
   ]
  },
  {
   "cell_type": "code",
   "execution_count": null,
   "id": "575c84a7",
   "metadata": {},
   "outputs": [],
   "source": [
    "ami.df"
   ]
  },
  {
   "cell_type": "code",
   "execution_count": null,
   "id": "be72f139",
   "metadata": {},
   "outputs": [],
   "source": []
  },
  {
   "cell_type": "code",
   "execution_count": null,
   "id": "179e762f",
   "metadata": {},
   "outputs": [],
   "source": []
  },
  {
   "cell_type": "code",
   "execution_count": null,
   "id": "f7fccf1f",
   "metadata": {},
   "outputs": [],
   "source": []
  },
  {
   "cell_type": "markdown",
   "id": "56f033bb",
   "metadata": {},
   "source": [
    "# TMP DEV END"
   ]
  },
  {
   "cell_type": "code",
   "execution_count": null,
   "id": "024315b8",
   "metadata": {},
   "outputs": [],
   "source": [
    "audit_i.identify_overlaps(overlaps_dovs_sql_fcn=DOVSOutages_SQL.build_sql_outage)"
   ]
  },
  {
   "cell_type": "code",
   "execution_count": null,
   "id": "9f711506",
   "metadata": {},
   "outputs": [],
   "source": [
    "audit_i.best_ests_df_w_keep_info"
   ]
  },
  {
   "cell_type": "code",
   "execution_count": null,
   "id": "4a478d31",
   "metadata": {
    "scrolled": true
   },
   "outputs": [],
   "source": [
    "audit_i.best_ests_df"
   ]
  },
  {
   "cell_type": "code",
   "execution_count": null,
   "id": "5f9eb66e",
   "metadata": {},
   "outputs": [],
   "source": [
    "audit_i.resolve_overlapping_audits()"
   ]
  },
  {
   "cell_type": "code",
   "execution_count": null,
   "id": "b4d80eb4",
   "metadata": {},
   "outputs": [],
   "source": [
    "audit_i.best_ests_df.shape"
   ]
  },
  {
   "cell_type": "code",
   "execution_count": null,
   "id": "6db4cae8",
   "metadata": {},
   "outputs": [],
   "source": [
    "audit_i.best_ests_df_w_keep_info.shape"
   ]
  },
  {
   "cell_type": "code",
   "execution_count": null,
   "id": "4138c123",
   "metadata": {},
   "outputs": [],
   "source": [
    "audit_i.best_ests_df"
   ]
  },
  {
   "cell_type": "code",
   "execution_count": null,
   "id": "fcc9977e",
   "metadata": {},
   "outputs": [],
   "source": [
    "means_df, best_ests_df_w_db_lbl = DOVSAudit.get_mean_times_w_dbscan(\n",
    "    best_ests_df                  = audit_i.best_ests_df, \n",
    "    eps_min                       = 5, \n",
    "    min_samples                   = 2, \n",
    "    ests_to_include_in_clustering = ['winner_min', 'winner_max'],\n",
    "    ests_to_include_in_output     = [\n",
    "        'winner_min', 'winner_max', \n",
    "        'conservative_min', 'conservative_max', \n",
    "        'zero_times_min', 'zero_times_max'\n",
    "    ], \n",
    "    return_labelled_best_ests_df  = True\n",
    ")"
   ]
  },
  {
   "cell_type": "code",
   "execution_count": null,
   "id": "53514f9f",
   "metadata": {},
   "outputs": [],
   "source": [
    "means_df"
   ]
  },
  {
   "cell_type": "code",
   "execution_count": null,
   "id": "cb525cef",
   "metadata": {},
   "outputs": [],
   "source": [
    "calculate_by_PN=True\n",
    "detailed_summary_df_i = DOVSAudit.build_detailed_summary_df(\n",
    "    means_df              = means_df, \n",
    "    best_ests_df_w_db_lbl = best_ests_df_w_db_lbl,\n",
    "    CI_tot                = audit_i.ci, \n",
    "    CMI_tot               = audit_i.cmi, \n",
    "    n_PNs_ami             = audit_i.ami_df_i['aep_premise_nb'].nunique(),\n",
    "    outg_rec_nb           = audit_i.outg_rec_nb, \n",
    "    dovs_df_i             = audit_i.dovs_df_i, \n",
    "    warnings_flag         = audit_i.warnings_flag, \n",
    "    db_label_col          = 'db_label', \n",
    "    winner_min_col        = 'winner_min', \n",
    "    winner_max_col        = 'winner_max', \n",
    "    PN_col                = 'PN' if calculate_by_PN else 'SN', \n",
    "    i_outg_col            = 'i_outg'\n",
    ")"
   ]
  },
  {
   "cell_type": "code",
   "execution_count": null,
   "id": "5de60a4e",
   "metadata": {},
   "outputs": [],
   "source": [
    "detailed_summary_df_i"
   ]
  },
  {
   "cell_type": "code",
   "execution_count": null,
   "id": "1fe566da",
   "metadata": {},
   "outputs": [],
   "source": [
    "audit_i.outg_rec_nb"
   ]
  },
  {
   "cell_type": "code",
   "execution_count": null,
   "id": "5347b303",
   "metadata": {},
   "outputs": [],
   "source": [
    "audit_i.dovs_outg_t_beg_end"
   ]
  },
  {
   "cell_type": "code",
   "execution_count": null,
   "id": "cf992e01",
   "metadata": {},
   "outputs": [],
   "source": []
  },
  {
   "cell_type": "markdown",
   "id": "019f8e12",
   "metadata": {},
   "source": [
    "# IF ANY has keep==False, then further analysis is needed\n",
    "Probably want to output/notify user"
   ]
  },
  {
   "cell_type": "code",
   "execution_count": null,
   "id": "f64e5843",
   "metadata": {},
   "outputs": [],
   "source": [
    "(audit_i.best_ests_df_w_keep_info['keep']==False).sum()"
   ]
  },
  {
   "cell_type": "code",
   "execution_count": null,
   "id": "7c776b96",
   "metadata": {},
   "outputs": [],
   "source": [
    "overlap_outg_rec_nbs = list(set(audit_i.best_ests_df_w_keep_info['overlap_DOVS'].sum()))\n",
    "overlap_outg_rec_nbs"
   ]
  },
  {
   "cell_type": "code",
   "execution_count": null,
   "id": "d9436c42",
   "metadata": {},
   "outputs": [],
   "source": [
    "audit_i.outg_rec_nb"
   ]
  },
  {
   "cell_type": "markdown",
   "id": "7852c11c",
   "metadata": {},
   "source": [
    "# Option to either:\n",
    "1. Build ovrlp_audit_a using ami_df_i from audit_i\n",
    "    - less safe method, but checks can be put in place to switch to method 2 if criteria not met\n",
    "    - should run quicker\n",
    "    - currently, ovrlp_audit_a below\n",
    "\n",
    "2. Build ovrlp_audit_a from scratch\n",
    "    - safer method\n",
    "    - almost certainly takes longer\n",
    "    - - currently, ovrlp_audit_a2 below\n",
    "    \n",
    "For 13551139, both options give same result!"
   ]
  },
  {
   "cell_type": "code",
   "execution_count": null,
   "id": "8b5ba4ac",
   "metadata": {},
   "outputs": [],
   "source": []
  },
  {
   "cell_type": "code",
   "execution_count": null,
   "id": "74100120",
   "metadata": {},
   "outputs": [],
   "source": [
    "# OPTION 1 (as described above)\n",
    "#-------------------------\n",
    "j=0\n",
    "#-------------------------\n",
    "ovrlp_audit_a = DOVSAudit(\n",
    "    outg_rec_nb=overlap_outg_rec_nbs[j]\n",
    ")\n",
    "#-------------------------\n",
    "ovrlp_audit_a.load_dovs(\n",
    "    dovs_df           = None, \n",
    "    dovs_df_info_dict = None\n",
    ")\n",
    "#-------------------------\n",
    "PNs_a = ovrlp_audit_a.PNs_dovs\n",
    "#-----\n",
    "ami_df_a = audit_i.ami_df_i.drop(columns=['removed_due_to_overlap']).copy()\n",
    "ami_df_a = ami_df_a[ami_df_a[audit_i.ami_df_info_dict['PN_col']].isin(PNs_a)]\n",
    "#-----\n",
    "ede_df_a = audit_i.ede_df_i.copy()\n",
    "ede_df_a = ede_df_a[ede_df_a[audit_i.ede_df_info_dict['PN_col']].isin(PNs_a)]\n",
    "#-------------------------\n",
    "ovrlp_audit_a.load_ami_from_df(\n",
    "    ami_df_i         = ami_df_a, \n",
    "    ami_df_info_dict = audit_i.ami_df_info_dict, \n",
    "    run_std_init     = False, \n",
    "    slicers          = None\n",
    ")\n",
    "#-----\n",
    "ovrlp_audit_a.load_dovs(\n",
    "    dovs_df           = None, \n",
    "    dovs_df_info_dict = None\n",
    ")\n",
    "#-----\n",
    "ovrlp_audit_a.load_ede_from_df(\n",
    "    ede_df_i         = ede_df_a, \n",
    "    ede_df_info_dict = audit_i.ede_df_info_dict, \n",
    "    run_std_init     = False\n",
    ")\n",
    "#-------------------------\n",
    "ovrlp_audit_a.build_best_ests_df()\n",
    "#-------------------------\n",
    "ovrlp_audit_a.identify_overlaps(\n",
    "    overlaps_dovs_sql_fcn=DOVSOutages_SQL.build_sql_outage\n",
    ")"
   ]
  },
  {
   "cell_type": "code",
   "execution_count": null,
   "id": "dac80417",
   "metadata": {
    "scrolled": true
   },
   "outputs": [],
   "source": [
    "ovrlp_audit_a.best_ests_df_w_keep_info"
   ]
  },
  {
   "cell_type": "code",
   "execution_count": null,
   "id": "885e8bb5",
   "metadata": {},
   "outputs": [],
   "source": []
  },
  {
   "cell_type": "code",
   "execution_count": null,
   "id": "1d5d3e33",
   "metadata": {},
   "outputs": [],
   "source": [
    "# OPTION 2 (as described above)\n",
    "#-------------------------\n",
    "search_time_half_window=pd.Timedelta('24 hours')\n",
    "#-------------------------\n",
    "j=0\n",
    "#-------------------------\n",
    "ovrlp_audit_a2 = DOVSAudit(\n",
    "    outg_rec_nb=overlap_outg_rec_nbs[j]\n",
    ")\n",
    "#-------------------------\n",
    "ovrlp_audit_a2.load_dovs(\n",
    "    dovs_df           = None, \n",
    "    dovs_df_info_dict = None\n",
    ")\n",
    "#-------------------------\n",
    "ovrlp_audit_a2.build_mp_df(\n",
    "    drop_mp_dups_fuzziness=pd.Timedelta('1 hour')\n",
    ")\n",
    "#-------------------------\n",
    "ovrlp_audit_a2.run_ami_and_ede_daq(\n",
    "    search_time_half_window=search_time_half_window\n",
    ")\n",
    "#-------------------------\n",
    "ovrlp_audit_a2.build_best_ests_df()\n",
    "#-------------------------\n",
    "ovrlp_audit_a2.identify_overlaps(\n",
    "    overlaps_dovs_sql_fcn=DOVSOutages_SQL.build_sql_outage\n",
    ")"
   ]
  },
  {
   "cell_type": "code",
   "execution_count": null,
   "id": "161a27a3",
   "metadata": {},
   "outputs": [],
   "source": [
    "ovrlp_audit_a2.best_ests_df"
   ]
  },
  {
   "cell_type": "code",
   "execution_count": null,
   "id": "d33a3483",
   "metadata": {},
   "outputs": [],
   "source": [
    "ovrlp_audit_a2.best_ests_df_w_keep_info"
   ]
  },
  {
   "cell_type": "code",
   "execution_count": null,
   "id": "c7a3b508",
   "metadata": {},
   "outputs": [],
   "source": [
    "print(ovrlp_audit_a.best_ests_df_w_keep_info.equals(ovrlp_audit_a2.best_ests_df_w_keep_info))\n",
    "print(ovrlp_audit_a.best_ests_df.equals(ovrlp_audit_a2.best_ests_df))"
   ]
  },
  {
   "cell_type": "code",
   "execution_count": null,
   "id": "48bd1785",
   "metadata": {},
   "outputs": [],
   "source": []
  },
  {
   "cell_type": "code",
   "execution_count": null,
   "id": "745fe014",
   "metadata": {},
   "outputs": [],
   "source": [
    "# Columns whose values can be used to uniquely identify an entry in best_ests_df_w_keep_info\n",
    "unq_idfr_cols = ['PN', 'i_outg']"
   ]
  },
  {
   "cell_type": "code",
   "execution_count": null,
   "id": "fa74e3df",
   "metadata": {},
   "outputs": [],
   "source": [
    "(audit_i.best_ests_df_w_keep_info['keep']==False).sum()"
   ]
  },
  {
   "cell_type": "code",
   "execution_count": null,
   "id": "14e1bdcf",
   "metadata": {},
   "outputs": [],
   "source": [
    "be_df_wki_i       = audit_i.best_ests_df_w_keep_info.copy()\n",
    "ovrlp_be_df_wki_a = ovrlp_audit_a.best_ests_df_w_keep_info.copy()\n",
    "# #-------------------------\n",
    "# # Sanity check: Make sure audit_i.outg_rec_nb found somewhere in ovrlp_be_df_wki_a\n",
    "# assert((ovrlp_be_df_wki_a['overlap_DOVS'].apply(lambda x: audit_i.outg_rec_nb in x)).any())\n",
    "# #-----\n",
    "# # Only interested in entires in ovrlp_be_df_wki_a which overlap with audit_i.outg_rec_nb\n",
    "# ovrlp_be_df_wki_a=ovrlp_be_df_wki_a[\n",
    "#     ovrlp_be_df_wki_a['overlap_DOVS'].apply(lambda x: audit_i.outg_rec_nb in x)\n",
    "# ]\n",
    "# #-------------------------\n",
    "# # Sanity check: Make sure ovrlp_audit_a.outg_rec_nb found somewhere in be_df_wki_i\n",
    "# assert((be_df_wki_i['overlap_DOVS'].apply(lambda x: ovrlp_audit_a.outg_rec_nb in x)).any())\n",
    "# #-----\n",
    "# # Only interested in entires in be_df_wki_i which overlap with ovrlp_audit_a.outg_rec_nb\n",
    "# be_df_wki_i=be_df_wki_i[\n",
    "#     be_df_wki_i['overlap_DOVS'].apply(lambda x: ovrlp_audit_a.outg_rec_nb in x)\n",
    "# ]"
   ]
  },
  {
   "cell_type": "code",
   "execution_count": null,
   "id": "d000b9c2",
   "metadata": {},
   "outputs": [],
   "source": []
  },
  {
   "cell_type": "markdown",
   "id": "a933f54b",
   "metadata": {},
   "source": [
    "# Resolve overlaps"
   ]
  },
  {
   "cell_type": "code",
   "execution_count": null,
   "id": "fce9c761",
   "metadata": {},
   "outputs": [],
   "source": [
    "audit_a = copy.deepcopy(audit_i)\n",
    "audit_b = copy.deepcopy(ovrlp_audit_a)\n",
    "unq_idfr_cols = ['PN', 'i_outg']\n",
    "PN_col='PN'\n",
    "t_min_col='winner_min'\n",
    "t_max_col='winner_max'\n",
    "keep_col='keep'\n",
    "overlap_DOVS_col='overlap_DOVS'\n",
    "open_beg_col = 'open_beg'\n",
    "open_end_col = 'open_end'"
   ]
  },
  {
   "cell_type": "code",
   "execution_count": null,
   "id": "db9b863b",
   "metadata": {},
   "outputs": [],
   "source": [
    "audit_a1 = copy.deepcopy(audit_i)\n",
    "audit_a2 = copy.deepcopy(audit_i)\n",
    "audit_a3 = copy.deepcopy(audit_i)\n",
    "audit_a4 = copy.deepcopy(audit_i)\n",
    "\n",
    "audit_b1 = copy.deepcopy(ovrlp_audit_a)\n",
    "audit_b2 = copy.deepcopy(ovrlp_audit_a)\n",
    "audit_b3 = copy.deepcopy(ovrlp_audit_a)\n",
    "audit_b4 = copy.deepcopy(ovrlp_audit_a)"
   ]
  },
  {
   "cell_type": "code",
   "execution_count": null,
   "id": "269a8b8f",
   "metadata": {},
   "outputs": [],
   "source": [
    "audit_a1.best_ests_df[audit_a1.best_ests_df['PN']=='960256588']"
   ]
  },
  {
   "cell_type": "code",
   "execution_count": null,
   "id": "ba6e3018",
   "metadata": {},
   "outputs": [],
   "source": [
    "audit_a1.best_ests_df_w_keep_info[audit_a1.best_ests_df_w_keep_info['PN']=='960256588']"
   ]
  },
  {
   "cell_type": "code",
   "execution_count": null,
   "id": "79615694",
   "metadata": {},
   "outputs": [],
   "source": []
  },
  {
   "cell_type": "code",
   "execution_count": null,
   "id": "5cae7f03",
   "metadata": {},
   "outputs": [],
   "source": [
    "PNs_to_resolve_A = audit_a.best_ests_df_w_keep_info[audit_a.best_ests_df_w_keep_info['keep']==False]['PN'].unique().tolist()\n",
    "# PNs_to_resolve_B = audit_a.best_ests_df_w_keep_info['PN'].unique().tolist()\n",
    "PNs_to_resolve_B = None"
   ]
  },
  {
   "cell_type": "code",
   "execution_count": null,
   "id": "b5113033",
   "metadata": {},
   "outputs": [],
   "source": [
    "adjustment_dicts_1 = DOVSAudit.resolve_overlapping_audits(\n",
    "    audit_a          = audit_a1, \n",
    "    audit_b          = audit_b1, \n",
    "    PNs_to_resolve   = PNs_to_resolve_A, \n",
    "    unq_idfr_cols    = unq_idfr_cols, \n",
    "    PN_col           = PN_col, \n",
    "    t_min_col        = t_min_col, \n",
    "    t_max_col        = t_max_col, \n",
    "    keep_col         = keep_col, \n",
    "    overlap_DOVS_col = overlap_DOVS_col, \n",
    "    open_beg_col     = open_beg_col, \n",
    "    open_end_col     = open_end_col\n",
    ")"
   ]
  },
  {
   "cell_type": "code",
   "execution_count": null,
   "id": "fb0f1328",
   "metadata": {},
   "outputs": [],
   "source": [
    "adjustment_dicts_2 = DOVSAudit.resolve_overlapping_audits_v2(\n",
    "    audit_a          = audit_a2, \n",
    "    audit_b          = audit_b2, \n",
    "    PNs_to_resolve   = PNs_to_resolve_A, \n",
    "    unq_idfr_cols    = unq_idfr_cols, \n",
    "    PN_col           = PN_col, \n",
    "    t_min_col        = t_min_col, \n",
    "    t_max_col        = t_max_col, \n",
    "    keep_col         = keep_col, \n",
    "    overlap_DOVS_col = overlap_DOVS_col, \n",
    "    open_beg_col     = open_beg_col, \n",
    "    open_end_col     = open_end_col\n",
    ")"
   ]
  },
  {
   "cell_type": "code",
   "execution_count": null,
   "id": "5582b552",
   "metadata": {},
   "outputs": [],
   "source": [
    "adjustment_dicts_3 = DOVSAudit.resolve_overlapping_audits(\n",
    "    audit_a          = audit_a3, \n",
    "    audit_b          = audit_b3, \n",
    "    PNs_to_resolve   = PNs_to_resolve_B, \n",
    "    unq_idfr_cols    = unq_idfr_cols, \n",
    "    PN_col           = PN_col, \n",
    "    t_min_col        = t_min_col, \n",
    "    t_max_col        = t_max_col, \n",
    "    keep_col         = keep_col, \n",
    "    overlap_DOVS_col = overlap_DOVS_col, \n",
    "    open_beg_col     = open_beg_col, \n",
    "    open_end_col     = open_end_col\n",
    ")"
   ]
  },
  {
   "cell_type": "code",
   "execution_count": null,
   "id": "216dc371",
   "metadata": {},
   "outputs": [],
   "source": [
    "adjustment_dicts_4 = DOVSAudit.resolve_overlapping_audits_v2(\n",
    "    audit_a          = audit_a4, \n",
    "    audit_b          = audit_b4, \n",
    "    PNs_to_resolve   = PNs_to_resolve_B, \n",
    "    unq_idfr_cols    = unq_idfr_cols, \n",
    "    PN_col           = PN_col, \n",
    "    t_min_col        = t_min_col, \n",
    "    t_max_col        = t_max_col, \n",
    "    keep_col         = keep_col, \n",
    "    overlap_DOVS_col = overlap_DOVS_col, \n",
    "    open_beg_col     = open_beg_col, \n",
    "    open_end_col     = open_end_col\n",
    ")"
   ]
  },
  {
   "cell_type": "code",
   "execution_count": null,
   "id": "9af75fd5",
   "metadata": {},
   "outputs": [],
   "source": [
    "# Expect True\n",
    "print(audit_a1.best_ests_df_w_keep_info.equals(audit_a2.best_ests_df_w_keep_info))\n",
    "print(audit_a1.best_ests_df_w_keep_info.equals(audit_a3.best_ests_df_w_keep_info))\n",
    "print(audit_a1.best_ests_df_w_keep_info.equals(audit_a4.best_ests_df_w_keep_info))\n",
    "\n",
    "print(audit_b1.best_ests_df_w_keep_info.equals(audit_b2.best_ests_df_w_keep_info))\n",
    "print(audit_b1.best_ests_df_w_keep_info.equals(audit_b3.best_ests_df_w_keep_info))\n",
    "print(audit_b1.best_ests_df_w_keep_info.equals(audit_b4.best_ests_df_w_keep_info))"
   ]
  },
  {
   "cell_type": "code",
   "execution_count": null,
   "id": "c96b164c",
   "metadata": {},
   "outputs": [],
   "source": [
    "audit_i.best_ests_df_w_keep_info[audit_i.best_ests_df_w_keep_info['keep']==True]"
   ]
  },
  {
   "cell_type": "code",
   "execution_count": null,
   "id": "392af6ef",
   "metadata": {},
   "outputs": [],
   "source": []
  },
  {
   "cell_type": "code",
   "execution_count": null,
   "id": "302d09ad",
   "metadata": {},
   "outputs": [],
   "source": []
  },
  {
   "cell_type": "code",
   "execution_count": null,
   "id": "c9ff0208",
   "metadata": {},
   "outputs": [],
   "source": [
    "audit_a1.best_ests_df_w_keep_info"
   ]
  },
  {
   "cell_type": "code",
   "execution_count": null,
   "id": "7897bf2c",
   "metadata": {},
   "outputs": [],
   "source": [
    "audit_a1.best_ests_df"
   ]
  },
  {
   "cell_type": "code",
   "execution_count": null,
   "id": "9310fe8a",
   "metadata": {},
   "outputs": [],
   "source": [
    "audit_a1.best_ests_df = audit_a1.best_ests_df_w_keep_info[audit_a1.best_ests_df_w_keep_info['keep']==True].drop(columns=['overlap_DOVS', 'overlap_times', 'keep'])"
   ]
  },
  {
   "cell_type": "code",
   "execution_count": null,
   "id": "c9fd6eb4",
   "metadata": {},
   "outputs": [],
   "source": []
  },
  {
   "cell_type": "code",
   "execution_count": null,
   "id": "5df9b52b",
   "metadata": {},
   "outputs": [],
   "source": [
    "audit_a1.best_ests_df_w_keep_info"
   ]
  },
  {
   "cell_type": "code",
   "execution_count": null,
   "id": "50777888",
   "metadata": {},
   "outputs": [],
   "source": [
    "audit_a1.best_ests_df_w_keep_info[audit_a1.best_ests_df_w_keep_info['resolved']==True]"
   ]
  },
  {
   "cell_type": "code",
   "execution_count": null,
   "id": "8b135fb5",
   "metadata": {},
   "outputs": [],
   "source": [
    "audit_a1.best_ests_df_w_keep_info[audit_a1.best_ests_df_w_keep_info['resolved_details']!='']"
   ]
  },
  {
   "cell_type": "code",
   "execution_count": null,
   "id": "d37873e9",
   "metadata": {},
   "outputs": [],
   "source": []
  },
  {
   "cell_type": "code",
   "execution_count": null,
   "id": "2955bbc5",
   "metadata": {},
   "outputs": [],
   "source": [
    "audit_a1.best_ests_df_w_keep_info[audit_a1.best_ests_df_w_keep_info['PN']=='960256588']"
   ]
  },
  {
   "cell_type": "code",
   "execution_count": null,
   "id": "96fbe3c7",
   "metadata": {},
   "outputs": [],
   "source": [
    "adjustment_dicts_1['960256588']"
   ]
  },
  {
   "cell_type": "code",
   "execution_count": null,
   "id": "9935a7b2",
   "metadata": {},
   "outputs": [],
   "source": [
    "adjustment_dicts_1['960256588']['to_adjust_a']"
   ]
  },
  {
   "cell_type": "code",
   "execution_count": null,
   "id": "f5e86138",
   "metadata": {},
   "outputs": [],
   "source": [
    "adjustment_dicts_1['960256588']['to_adjust_b']"
   ]
  },
  {
   "cell_type": "code",
   "execution_count": null,
   "id": "58fec195",
   "metadata": {},
   "outputs": [],
   "source": [
    "audit_a1.best_ests_df_w_keep_info['resolved_details'].value_counts()"
   ]
  },
  {
   "cell_type": "code",
   "execution_count": null,
   "id": "4fe702a3",
   "metadata": {},
   "outputs": [],
   "source": [
    "audit_a1.best_ests_df_w_keep_info[\n",
    "    (audit_a1.best_ests_df_w_keep_info['keep']==True) |\n",
    "    (audit_a1.best_ests_df_w_keep_info['resolved']==True)\n",
    "]"
   ]
  },
  {
   "cell_type": "code",
   "execution_count": null,
   "id": "32600381",
   "metadata": {},
   "outputs": [],
   "source": [
    "audit_a1.best_ests_df_w_keep_info[\n",
    "    (audit_a1.best_ests_df_w_keep_info['keep']==True)\n",
    "]"
   ]
  },
  {
   "cell_type": "code",
   "execution_count": null,
   "id": "ff054b66",
   "metadata": {},
   "outputs": [],
   "source": []
  },
  {
   "cell_type": "code",
   "execution_count": null,
   "id": "6b9956b0",
   "metadata": {},
   "outputs": [],
   "source": [
    "FUCK"
   ]
  },
  {
   "cell_type": "code",
   "execution_count": null,
   "id": "956e930e",
   "metadata": {},
   "outputs": [],
   "source": [
    "# audit_a1.best_ests_df = audit_a1.best_ests_df_w_keep_info[\n",
    "#     (audit_a1.best_ests_df_w_keep_info['keep']==True) |\n",
    "#     (audit_a1.best_ests_df_w_keep_info['resolved']==True)\n",
    "# ].drop(columns=['overlap_DOVS', 'overlap_times', 'keep'])\n",
    "\n",
    "# audit_a1.best_ests_df = audit_a1.best_ests_df_w_keep_info[\n",
    "#     (audit_a1.best_ests_df_w_keep_info['keep']==True)\n",
    "# ].drop(columns=['overlap_DOVS', 'overlap_times', 'keep'])\n",
    "\n",
    "audit_a1.best_ests_df = audit_a1.best_ests_df_w_keep_info[\n",
    "    (audit_a1.best_ests_df_w_keep_info['keep']==True) |\n",
    "    (audit_a1.best_ests_df_w_keep_info['resolved_details']=='Unresolved by current methods')\n",
    "].drop(columns=['overlap_DOVS', 'overlap_times', 'keep'])"
   ]
  },
  {
   "cell_type": "code",
   "execution_count": null,
   "id": "35bc035c",
   "metadata": {},
   "outputs": [],
   "source": [
    "%run ./check_DOVS_METHODS.ipynb"
   ]
  },
  {
   "cell_type": "code",
   "execution_count": null,
   "id": "7cfb0b2a",
   "metadata": {},
   "outputs": [],
   "source": [
    "best_ests_df = audit_i.best_ests_df.copy()\n",
    "ami_df_i = audit_i.ami_df_i.copy()\n",
    "#-----\n",
    "dovs_outg_t_beg_end = audit_i.dovs_outg_t_beg_end\n",
    "dovs_outg_t_beg = dovs_outg_t_beg_end[0]\n",
    "dovs_outg_t_end = dovs_outg_t_beg_end[1]\n",
    "#-----\n",
    "outage_nb  = audit_i.outage_nb\n",
    "n_PNs_dovs = audit_i.n_PNs_dovs\n",
    "ci_dovs    = audit_i.ci_cmi_dovs[0]\n",
    "cmi_dovs   = audit_i.ci_cmi_dovs[1]\n",
    "ci_ami     = best_ests_df['PN'].nunique() \n",
    "cmi_ami    = (best_ests_df['winner_max']-best_ests_df['winner_min']).sum().total_seconds()/60\n",
    "threshold=95\n",
    "#-------------------------\n",
    "outg_SNs = best_ests_df['PN'].unique().tolist()\n",
    "ami_df_i_out      = ami_df_i[ami_df_i['aep_premise_nb'].isin(outg_SNs)]\n",
    "ami_df_i_not_out  = ami_df_i[~ami_df_i['aep_premise_nb'].isin(outg_SNs)]\n",
    "#-------------------------\n",
    "means_df, best_ests_df_w_db_lbl = DOVSAudit.get_mean_times_w_dbscan(\n",
    "    best_ests_df, \n",
    "    eps_min=5, \n",
    "    min_samples=2, \n",
    "    ests_to_include_in_clustering=['winner_min', 'winner_max'],\n",
    "    ests_to_include_in_output=[\n",
    "        'winner_min', 'winner_max', \n",
    "        'conservative_min', 'conservative_max', \n",
    "        'zero_times_min', 'zero_times_max'\n",
    "    ], \n",
    "    return_labelled_best_ests_df=True\n",
    ")\n",
    "#-------------------------\n",
    "n_PNs_w_power_srs = DOVSAudit.build_n_PNs_w_power_srs(\n",
    "    best_ests_df, \n",
    "    ami_df_i, \n",
    "    return_pct=True, \n",
    "    PN_col='PN', \n",
    "    t_min_col='winner_min', \n",
    "    t_max_col='winner_max', \n",
    "    i_outg_col='i_outg', \n",
    "    PN_col_ami_df='aep_premise_nb'\n",
    ")"
   ]
  },
  {
   "cell_type": "code",
   "execution_count": null,
   "id": "096b8fc7",
   "metadata": {},
   "outputs": [],
   "source": [
    "fig_num=0\n",
    "fig, axs = plot_all_out_not_NEW(\n",
    "    fig_num              = fig_num, \n",
    "    ami_df_i             = ami_df_i, \n",
    "    ami_df_i_out         = ami_df_i_out, \n",
    "    ami_df_i_not_out     = ami_df_i_not_out, \n",
    "    dovs_outg_t_beg      = dovs_outg_t_beg, \n",
    "    dovs_outg_t_end      = dovs_outg_t_end, \n",
    "    cnsrvtv_out_t_beg    = best_ests_df['conservative_min'].min(), \n",
    "    cnsrvtv_out_t_end    = best_ests_df['conservative_max'].max(), \n",
    "    means_df             = means_df, \n",
    "    outg_rec_nb          = outg_rec_nb, \n",
    "    outage_nb            = outage_nb, \n",
    "    n_PNs_dovs           = n_PNs_dovs, \n",
    "    ci_dovs              = ci_dovs, \n",
    "    cmi_dovs             = cmi_dovs, \n",
    "    ci_ami               = ci_ami, \n",
    "    cmi_ami              = cmi_ami, \n",
    "    name                 = 'AMI', \n",
    "    results_2_dict       = None, \n",
    "    expand_time          = pd.Timedelta('1 hour'), \n",
    "    mean_keys_to_include = ['winner', 'conservative', 'zero_times'], \n",
    "    removed_due_to_overlap_col=None, \n",
    "    default_subplots_args=dict(n_x=2, n_y=2, row_major=True, sharex=True), \n",
    "    leg_i_plot=1, \n",
    "    leg_kwargs=dict(ncols=1, fontsize=15, bbox_to_anchor=(1, 1.2)), \n",
    "    ci_info_fontsize=16, \n",
    "    left_text_x=0.915\n",
    "    \n",
    ")\n",
    "\n",
    "fig,axs[3] = DOVSAudit.static_plot_n_PNs_w_power_srs(\n",
    "    n_PNs_w_power_srs, \n",
    "    simp_freq='1T', \n",
    "    threshold=threshold, \n",
    "    fig_num=fig_num, \n",
    "    fig_ax=(fig, axs[3]), \n",
    "    threshold_color='magenta'\n",
    ")\n",
    "\n",
    "fig_num += 1"
   ]
  },
  {
   "cell_type": "code",
   "execution_count": null,
   "id": "ceb6e677",
   "metadata": {},
   "outputs": [],
   "source": []
  },
  {
   "cell_type": "code",
   "execution_count": null,
   "id": "8125e765",
   "metadata": {},
   "outputs": [],
   "source": [
    "best_ests_df = audit_b.best_ests_df_w_keep_info.copy()\n",
    "ami_df_i = audit_b.ami_df_i.copy()\n",
    "#-----\n",
    "dovs_outg_t_beg_end = audit_b.dovs_outg_t_beg_end\n",
    "dovs_outg_t_beg = dovs_outg_t_beg_end[0]\n",
    "dovs_outg_t_end = dovs_outg_t_beg_end[1]\n",
    "#-----\n",
    "outage_nb  = audit_b.outage_nb\n",
    "n_PNs_dovs = audit_b.n_PNs_dovs\n",
    "ci_dovs    = audit_b.ci_cmi_dovs[0]\n",
    "cmi_dovs   = audit_b.ci_cmi_dovs[1]\n",
    "ci_ami     = best_ests_df['PN'].nunique() \n",
    "cmi_ami    = (best_ests_df['winner_max']-best_ests_df['winner_min']).sum().total_seconds()/60\n",
    "threshold=95\n",
    "#-------------------------\n",
    "outg_SNs = best_ests_df['PN'].unique().tolist()\n",
    "ami_df_i_out      = ami_df_i[ami_df_i['aep_premise_nb'].isin(outg_SNs)]\n",
    "ami_df_i_not_out  = ami_df_i[~ami_df_i['aep_premise_nb'].isin(outg_SNs)]\n",
    "#-------------------------\n",
    "means_df, best_ests_df_w_db_lbl = DOVSAudit.get_mean_times_w_dbscan(\n",
    "    best_ests_df, \n",
    "    eps_min=5, \n",
    "    min_samples=2, \n",
    "    ests_to_include_in_clustering=['winner_min', 'winner_max'],\n",
    "    ests_to_include_in_output=[\n",
    "        'winner_min', 'winner_max', \n",
    "        'conservative_min', 'conservative_max', \n",
    "        'zero_times_min', 'zero_times_max'\n",
    "    ], \n",
    "    return_labelled_best_ests_df=True\n",
    ")\n",
    "#-------------------------\n",
    "n_PNs_w_power_srs = DOVSAudit.build_n_PNs_w_power_srs(\n",
    "    best_ests_df, \n",
    "    ami_df_i, \n",
    "    return_pct=True, \n",
    "    PN_col='PN', \n",
    "    t_min_col='winner_min', \n",
    "    t_max_col='winner_max', \n",
    "    i_outg_col='i_outg', \n",
    "    PN_col_ami_df='aep_premise_nb'\n",
    ")"
   ]
  },
  {
   "cell_type": "code",
   "execution_count": null,
   "id": "b316f356",
   "metadata": {},
   "outputs": [],
   "source": [
    "fig_num=0\n",
    "fig, axs = plot_all_out_not_NEW(\n",
    "    fig_num              = fig_num, \n",
    "    ami_df_i             = ami_df_i, \n",
    "    ami_df_i_out         = ami_df_i_out, \n",
    "    ami_df_i_not_out     = ami_df_i_not_out, \n",
    "    dovs_outg_t_beg      = dovs_outg_t_beg, \n",
    "    dovs_outg_t_end      = dovs_outg_t_end, \n",
    "    cnsrvtv_out_t_beg    = best_ests_df['conservative_min'].min(), \n",
    "    cnsrvtv_out_t_end    = best_ests_df['conservative_max'].max(), \n",
    "    means_df             = means_df, \n",
    "    outg_rec_nb          = outg_rec_nb, \n",
    "    outage_nb            = outage_nb, \n",
    "    n_PNs_dovs           = n_PNs_dovs, \n",
    "    ci_dovs              = ci_dovs, \n",
    "    cmi_dovs             = cmi_dovs, \n",
    "    ci_ami               = ci_ami, \n",
    "    cmi_ami              = cmi_ami, \n",
    "    name                 = 'AMI', \n",
    "    results_2_dict       = None, \n",
    "    expand_time          = pd.Timedelta('1 hour'), \n",
    "    mean_keys_to_include = ['winner', 'conservative', 'zero_times'], \n",
    "    removed_due_to_overlap_col=None, \n",
    "    default_subplots_args=dict(n_x=2, n_y=2, row_major=True, sharex=True), \n",
    "    leg_i_plot=1, \n",
    "    leg_kwargs=dict(ncols=1, fontsize=15, bbox_to_anchor=(1, 1.2)), \n",
    "    ci_info_fontsize=16, \n",
    "    left_text_x=0.915\n",
    "    \n",
    ")\n",
    "\n",
    "fig,axs[3] = DOVSAudit.static_plot_n_PNs_w_power_srs(\n",
    "    n_PNs_w_power_srs, \n",
    "    simp_freq='1T', \n",
    "    threshold=threshold, \n",
    "    fig_num=fig_num, \n",
    "    fig_ax=(fig, axs[3]), \n",
    "    threshold_color='magenta'\n",
    ")\n",
    "\n",
    "fig_num += 1"
   ]
  },
  {
   "cell_type": "code",
   "execution_count": null,
   "id": "7be70da0",
   "metadata": {},
   "outputs": [],
   "source": [
    "adjustment_dicts_1['960256588']"
   ]
  },
  {
   "cell_type": "code",
   "execution_count": null,
   "id": "3ab8e5e3",
   "metadata": {},
   "outputs": [],
   "source": [
    "adjustment_dicts_1['960256588']['to_adjust_a']"
   ]
  },
  {
   "cell_type": "code",
   "execution_count": null,
   "id": "68e3db4c",
   "metadata": {},
   "outputs": [],
   "source": [
    "adjustment_dicts_1['960256588']['to_adjust_b']"
   ]
  },
  {
   "cell_type": "code",
   "execution_count": null,
   "id": "16d31c42",
   "metadata": {},
   "outputs": [],
   "source": []
  },
  {
   "cell_type": "code",
   "execution_count": null,
   "id": "a4847eb6",
   "metadata": {},
   "outputs": [],
   "source": [
    "fig, ax = Plot_General.default_subplots(fig_num=0)\n",
    "fig,ax = AMINonVee.plot_usage(\n",
    "    fig=fig, \n",
    "    ax=ax, \n",
    "    data=ami_df_i, \n",
    "    x='starttimeperiod_local', \n",
    "    y='value', \n",
    "    hue='aep_premise_nb'\n",
    ")\n",
    "ax.legend().set_visible(False)\n",
    "#-----\n",
    "ax.axvline(pd.to_datetime('2023-07-03 15:34:00'), color='lightblue', ls='--')\n",
    "ax.axvline(pd.to_datetime('2023-07-03 16:09:00'), color='lightblue', ls='--')\n",
    "#-----\n",
    "ax.axvline(pd.to_datetime('2023-07-03 16:09:00'), color='blue', ls='--')\n",
    "ax.axvline(pd.to_datetime('2023-07-03 19:07:00'), color='blue', ls='--')\n",
    "#-----\n",
    "ax.axvline(pd.to_datetime('2023-07-03 19:50:00'), color='green', ls='--')\n",
    "ax.axvline(pd.to_datetime('2023-07-03 21:11:00'), color='green', ls='--')\n",
    "#-----\n",
    "ax.axvline(pd.to_datetime('2023-07-04 04:04:00'), color='red', ls='--')\n",
    "ax.axvline(pd.to_datetime('2023-07-04 07:00:00'), color='red', ls='--')\n",
    "#-----\n",
    "ax.axvline(pd.to_datetime('2023-07-04 09:07:00'), color='orange', ls='--')\n",
    "ax.axvline(pd.to_datetime('2023-07-04 11:30:00'), color='orange', ls='--')"
   ]
  },
  {
   "cell_type": "code",
   "execution_count": null,
   "id": "e7fdf775",
   "metadata": {},
   "outputs": [],
   "source": []
  },
  {
   "cell_type": "code",
   "execution_count": null,
   "id": "2b636385",
   "metadata": {},
   "outputs": [],
   "source": []
  },
  {
   "cell_type": "code",
   "execution_count": null,
   "id": "92b033c9",
   "metadata": {},
   "outputs": [],
   "source": []
  },
  {
   "cell_type": "code",
   "execution_count": null,
   "id": "ca6ff3fe",
   "metadata": {},
   "outputs": [],
   "source": [
    "fig, ax = Plot_General.default_subplots(fig_num=0)\n",
    "fig,ax = AMINonVee.plot_usage(\n",
    "    fig=fig, \n",
    "    ax=ax, \n",
    "    data=ami_df_i[ami_df_i['aep_premise_nb']=='960376596'], \n",
    "    x='starttimeperiod_local', \n",
    "    y='value', \n",
    "    hue='aep_premise_nb'\n",
    ")\n",
    "ax.legend().set_visible(False)\n",
    "#-----\n",
    "ax.axvline(pd.to_datetime('2023-07-03 15:34:00'), color='lightblue', ls='--')\n",
    "ax.axvline(pd.to_datetime('2023-07-03 16:09:00'), color='lightblue', ls='--')\n",
    "#-----\n",
    "ax.axvline(pd.to_datetime('2023-07-03 16:09:00'), color='blue', ls='--')\n",
    "ax.axvline(pd.to_datetime('2023-07-03 19:07:00'), color='blue', ls='--')\n",
    "#-----\n",
    "ax.axvline(pd.to_datetime('2023-07-03 19:50:00'), color='green', ls='--')\n",
    "ax.axvline(pd.to_datetime('2023-07-03 21:11:00'), color='green', ls='--')\n",
    "#-----\n",
    "ax.axvline(pd.to_datetime('2023-07-04 04:04:00'), color='red', ls='--')\n",
    "ax.axvline(pd.to_datetime('2023-07-04 07:00:00'), color='red', ls='--')\n",
    "#-----\n",
    "ax.axvline(pd.to_datetime('2023-07-04 09:07:00'), color='orange', ls='--')\n",
    "ax.axvline(pd.to_datetime('2023-07-04 11:30:00'), color='orange', ls='--')"
   ]
  },
  {
   "cell_type": "code",
   "execution_count": null,
   "id": "70bb031c",
   "metadata": {},
   "outputs": [],
   "source": [
    "fig, ax = Plot_General.default_subplots(fig_num=0)\n",
    "fig,ax = AMINonVee.plot_usage(\n",
    "    fig=fig, \n",
    "    ax=ax, \n",
    "    data=ami_df_i[ami_df_i['aep_premise_nb']=='960256588'], \n",
    "    x='starttimeperiod_local', \n",
    "    y='value', \n",
    "    hue='aep_premise_nb'\n",
    ")\n",
    "ax.legend().set_visible(False)\n",
    "#-----\n",
    "ax.axvline(pd.to_datetime('2023-07-03 15:34:00'), color='lightblue', ls='--')\n",
    "ax.axvline(pd.to_datetime('2023-07-03 16:09:00'), color='lightblue', ls='--')\n",
    "#-----\n",
    "ax.axvline(pd.to_datetime('2023-07-03 16:09:00'), color='blue', ls='--')\n",
    "ax.axvline(pd.to_datetime('2023-07-03 19:07:00'), color='blue', ls='--')\n",
    "#-----\n",
    "ax.axvline(pd.to_datetime('2023-07-03 19:50:00'), color='green', ls='--')\n",
    "ax.axvline(pd.to_datetime('2023-07-03 21:11:00'), color='green', ls='--')\n",
    "#-----\n",
    "ax.axvline(pd.to_datetime('2023-07-04 04:04:00'), color='red', ls='--')\n",
    "ax.axvline(pd.to_datetime('2023-07-04 07:00:00'), color='red', ls='--')\n",
    "#-----\n",
    "ax.axvline(pd.to_datetime('2023-07-04 09:07:00'), color='orange', ls='--')\n",
    "ax.axvline(pd.to_datetime('2023-07-04 11:30:00'), color='orange', ls='--')"
   ]
  },
  {
   "cell_type": "code",
   "execution_count": null,
   "id": "41256ad5",
   "metadata": {},
   "outputs": [],
   "source": []
  },
  {
   "cell_type": "code",
   "execution_count": null,
   "id": "7dd4dc58",
   "metadata": {},
   "outputs": [],
   "source": [
    "audit_a = copy.deepcopy(audit_i)\n",
    "audit_b = copy.deepcopy(ovrlp_audit_a)\n",
    "PN_i = '960376596'\n",
    "\n",
    "implement_resolutions=False\n",
    "unq_idfr_cols = ['PN', 'i_outg']\n",
    "PN_col='PN'\n",
    "t_min_col='winner_min'\n",
    "t_max_col='winner_max'\n",
    "keep_col='keep'\n",
    "overlap_DOVS_col='overlap_DOVS'\n",
    "open_beg_col='open_beg'\n",
    "open_end_col='open_end'"
   ]
  },
  {
   "cell_type": "code",
   "execution_count": null,
   "id": "19634cd1",
   "metadata": {},
   "outputs": [],
   "source": [
    "# Make sure best_ests_df_w_keep_info exists for each\n",
    "#  Below will fail if object is None or empty DF\n",
    "assert(audit_a.best_ests_df_w_keep_info.shape[0]>0)\n",
    "assert(audit_b.best_ests_df_w_keep_info.shape[0]>0)\n",
    "#-------------------------\n",
    "be_df_cols = unq_idfr_cols + list(set([t_min_col, t_max_col, open_beg_col, open_end_col]).difference(set(unq_idfr_cols)))\n",
    "assert(set(be_df_cols).difference(set(audit_a.best_ests_df_w_keep_info.columns.tolist()))==set())\n",
    "assert(set(be_df_cols).difference(set(audit_b.best_ests_df_w_keep_info.columns.tolist()))==set())\n",
    "#-----\n",
    "return_cols = be_df_cols + ['adjustment', 'resolved', 'resolved_details']\n",
    "#----------------------------------------------------------------------------------------------------\n",
    "outg_rec_nb_a         = audit_a.outg_rec_nb\n",
    "dovs_outg_t_beg_end_a = audit_a.dovs_outg_t_beg_end\n",
    "#-----\n",
    "outg_rec_nb_b         = audit_b.outg_rec_nb\n",
    "dovs_outg_t_beg_end_b = audit_b.dovs_outg_t_beg_end\n",
    "#--------------------------------------------------        \n",
    "# Grab the best_ests_df_w_keep_info object from each audit\n",
    "be_df_a = audit_a.best_ests_df_w_keep_info[audit_a.best_ests_df_w_keep_info[PN_col]==PN_i].copy()\n",
    "be_df_b = audit_b.best_ests_df_w_keep_info[audit_b.best_ests_df_w_keep_info[PN_col]==PN_i].copy()\n",
    "#--------------------------------------------------\n",
    "resolved_i = False\n",
    "resolved_i_details = ''\n",
    "#-----\n",
    "to_adjust_a = DOVSAudit.set_initial_to_adjust_df(\n",
    "    be_df       = be_df_a, \n",
    "    be_df_cols  = be_df_cols, \n",
    "    addtnl_cols = [keep_col]\n",
    ")\n",
    "to_adjust_b = DOVSAudit.set_initial_to_adjust_df(\n",
    "    be_df       = be_df_b, \n",
    "    be_df_cols  = be_df_cols, \n",
    "    addtnl_cols = [keep_col]\n",
    ")\n"
   ]
  },
  {
   "cell_type": "code",
   "execution_count": null,
   "id": "b1ecb536",
   "metadata": {},
   "outputs": [],
   "source": [
    "fig, ax = Plot_General.default_subplots(fig_num=0)\n",
    "fig,ax = AMINonVee.plot_usage(\n",
    "    fig=fig, \n",
    "    ax=ax, \n",
    "    data=ami_df_i[ami_df_i['aep_premise_nb']=='960376596'], \n",
    "    x='starttimeperiod_local', \n",
    "    y='value', \n",
    "    hue='aep_premise_nb'\n",
    ")\n",
    "ax.legend().set_visible(False)\n",
    "#-----\n",
    "ax.axvline(pd.to_datetime('2023-07-03 15:34:00'), color='lightblue', ls='--')\n",
    "ax.axvline(pd.to_datetime('2023-07-03 16:09:00'), color='lightblue', ls='--')\n",
    "#-----\n",
    "ax.axvline(pd.to_datetime('2023-07-03 16:09:00'), color='blue', ls='--')\n",
    "ax.axvline(pd.to_datetime('2023-07-03 19:07:00'), color='blue', ls='--')\n",
    "#-----\n",
    "ax.axvline(pd.to_datetime('2023-07-03 19:50:00'), color='green', ls='--')\n",
    "ax.axvline(pd.to_datetime('2023-07-03 21:11:00'), color='green', ls='--')\n",
    "#-----\n",
    "ax.axvline(pd.to_datetime('2023-07-04 04:04:00'), color='red', ls='--')\n",
    "ax.axvline(pd.to_datetime('2023-07-04 07:00:00'), color='red', ls='--')\n",
    "#-----\n",
    "ax.axvline(pd.to_datetime('2023-07-04 09:07:00'), color='orange', ls='--')\n",
    "ax.axvline(pd.to_datetime('2023-07-04 11:30:00'), color='orange', ls='--')"
   ]
  },
  {
   "cell_type": "code",
   "execution_count": null,
   "id": "0d93ba2a",
   "metadata": {},
   "outputs": [],
   "source": []
  },
  {
   "cell_type": "code",
   "execution_count": null,
   "id": "ad05d569",
   "metadata": {},
   "outputs": [],
   "source": []
  },
  {
   "cell_type": "code",
   "execution_count": null,
   "id": "c06e7b9a",
   "metadata": {},
   "outputs": [],
   "source": []
  },
  {
   "cell_type": "code",
   "execution_count": null,
   "id": "5644d18c",
   "metadata": {},
   "outputs": [],
   "source": []
  },
  {
   "cell_type": "code",
   "execution_count": null,
   "id": "875af293",
   "metadata": {},
   "outputs": [],
   "source": [
    "audit_1."
   ]
  },
  {
   "cell_type": "code",
   "execution_count": null,
   "id": "67029325",
   "metadata": {},
   "outputs": [],
   "source": [
    "audit_1.ci_cmi_dovs"
   ]
  },
  {
   "cell_type": "code",
   "execution_count": null,
   "id": "ed32e324",
   "metadata": {},
   "outputs": [],
   "source": [
    "FUCK"
   ]
  },
  {
   "cell_type": "code",
   "execution_count": null,
   "id": "9d7feb51",
   "metadata": {
    "scrolled": true
   },
   "outputs": [],
   "source": [
    "search_time_half_window=pd.Timedelta('24 hours')\n",
    "#-------------------------\n",
    "audit_1 = DOVSAudit(\n",
    "#     outg_rec_nb='13464904'\n",
    "    \n",
    "#     outg_rec_nb='13582178'\n",
    "    outg_rec_nb='13582332'\n",
    "    \n",
    "#     outg_rec_nb='13615597'\n",
    "#     outg_rec_nb='13686253'\n",
    "#     outg_rec_nb='13686882'\n",
    "#     outg_rec_nb='13691684'\n",
    "#     outg_rec_nb='13683659'\n",
    "#     outg_rec_nb='13699234'\n",
    "    \n",
    "#     outg_rec_nb='13602414'\n",
    "#     outg_rec_nb='13602659'\n",
    "    \n",
    "#     outg_rec_nb='13575999'\n",
    "#     outg_rec_nb='13576413'\n",
    "    \n",
    "#     outg_rec_nb='13551139'\n",
    "#     outg_rec_nb='13551140'\n",
    "    \n",
    "#     outg_rec_nb='13581052'\n",
    "#     outg_rec_nb='13581346'\n",
    "    \n",
    "#     outg_rec_nb='13593009'\n",
    "#     outg_rec_nb='13593297'\n",
    "    \n",
    "#     outg_rec_nb='13615597'\n",
    "#     outg_rec_nb='13615810'\n",
    ")\n",
    "#-------------------------\n",
    "audit_1.load_dovs(\n",
    "    dovs_df           = None, \n",
    "    dovs_df_info_dict = None\n",
    ")\n",
    "#-------------------------\n",
    "audit_1.build_mp_df(\n",
    "    drop_mp_dups_fuzziness=pd.Timedelta('1 hour')\n",
    ")\n",
    "#-------------------------\n",
    "audit_1.run_ami_and_ede_daq(\n",
    "    search_time_half_window=search_time_half_window\n",
    ")\n",
    "#-------------------------\n",
    "audit_1.build_best_ests_df()\n",
    "#-------------------------\n"
   ]
  },
  {
   "cell_type": "code",
   "execution_count": null,
   "id": "81517716",
   "metadata": {},
   "outputs": [],
   "source": [
    "audit_1.calculate_by_PN"
   ]
  },
  {
   "cell_type": "code",
   "execution_count": null,
   "id": "1f8aff7c",
   "metadata": {},
   "outputs": [],
   "source": [
    "audit_1.best_ests_df"
   ]
  },
  {
   "cell_type": "code",
   "execution_count": null,
   "id": "855fd369",
   "metadata": {},
   "outputs": [],
   "source": [
    "audit_1.best_ests_df[audit_1.best_ests_df['PN']=='023368334']"
   ]
  },
  {
   "cell_type": "code",
   "execution_count": null,
   "id": "8214dfa4",
   "metadata": {},
   "outputs": [],
   "source": [
    "fig, ax = Plot_General.default_subplots()\n",
    "AMINonVee.plot_usage_around_outage(\n",
    "    fig=fig,\n",
    "    ax=ax,\n",
    "    data=audit_1.ami_df_i,\n",
    "    x='starttimeperiod_local',\n",
    "    y='value',\n",
    "    hue='serialnumber',\n",
    "    out_t_beg=audit_1.dovs_outg_t_beg_end[0],\n",
    "    out_t_end=audit_1.dovs_outg_t_beg_end[1],\n",
    "    expand_time=pd.Timedelta('1h'),\n",
    ")\n",
    "ax.legend().set_visible(False)"
   ]
  },
  {
   "cell_type": "code",
   "execution_count": null,
   "id": "d32a77fc",
   "metadata": {},
   "outputs": [],
   "source": [
    "fig, ax = Plot_General.default_subplots()\n",
    "AMINonVee.plot_usage_around_outage(\n",
    "    fig=fig,\n",
    "    ax=ax,\n",
    "    data=audit_1.ami_df_i,\n",
    "    x='starttimeperiod_local',\n",
    "    y='value',\n",
    "    hue='serialnumber',\n",
    "    out_t_beg=audit_1.dovs_outg_t_beg_end[0],\n",
    "    out_t_end=audit_1.dovs_outg_t_beg_end[1],\n",
    "    expand_time=pd.Timedelta('1h'),\n",
    ")\n",
    "ax.legend().set_visible(False)\n",
    "#-----\n",
    "ax = AMINonVee.draw_outage_limits_on_ax(\n",
    "    ax                         = ax, \n",
    "    out_t_beg                  = audit_1.dovs_outg_t_beg_end[0], \n",
    "    out_t_end                  = audit_1.dovs_outg_t_beg_end[1], \n",
    "    plot_t_beg                 = None, \n",
    "    plot_t_end                 = None, \n",
    "    draw_outage_limits_kwargs  = dict(alpha=1.0, linewidth=5.0, ymin=0.95), \n",
    "    include_outage_limits_text = dict(\n",
    "        out_t_beg_text = 'OUTG_REC_NB_i', \n",
    "        out_t_beg_ypos=(1.0-0.06, 'ax_coord'), \n",
    "        out_t_beg_va='top', \n",
    "        out_t_beg_ha='center', \n",
    "        out_t_beg_color='red', \n",
    "        #-----\n",
    "        out_t_end_text = 'OUTG_REC_NB_i', \n",
    "        out_t_end_ypos=(1.0-0.06, 'ax_coord'), \n",
    "        out_t_end_va='top', \n",
    "        out_t_end_ha='center', \n",
    "        out_t_end_color='green', \n",
    "    ), \n",
    "    out_t_beg_line_color       = 'red', \n",
    "    out_t_end_line_color       = 'green',\n",
    "    text_only                  = False\n",
    ")"
   ]
  },
  {
   "cell_type": "code",
   "execution_count": null,
   "id": "c7dd0966",
   "metadata": {},
   "outputs": [],
   "source": []
  },
  {
   "cell_type": "code",
   "execution_count": null,
   "id": "f2bd8c75",
   "metadata": {},
   "outputs": [],
   "source": []
  },
  {
   "cell_type": "code",
   "execution_count": null,
   "id": "102c35fa",
   "metadata": {},
   "outputs": [],
   "source": [
    "audit_1.identify_overlaps(overlaps_dovs_sql_fcn=DOVSOutages_SQL.build_sql_outage)"
   ]
  },
  {
   "cell_type": "code",
   "execution_count": null,
   "id": "33a4e5c4",
   "metadata": {},
   "outputs": [],
   "source": [
    "audit_1.resolve_overlapping_audits()"
   ]
  },
  {
   "cell_type": "code",
   "execution_count": null,
   "id": "682d979a",
   "metadata": {},
   "outputs": [],
   "source": [
    "audit_1.best_ests_df_w_keep_info"
   ]
  },
  {
   "cell_type": "code",
   "execution_count": null,
   "id": "d48fd9db",
   "metadata": {},
   "outputs": [],
   "source": []
  },
  {
   "cell_type": "code",
   "execution_count": null,
   "id": "456a7e7e",
   "metadata": {},
   "outputs": [],
   "source": [
    "audit_i=copy.deepcopy(audit_1)"
   ]
  },
  {
   "cell_type": "code",
   "execution_count": null,
   "id": "5203898a",
   "metadata": {},
   "outputs": [],
   "source": [
    "best_ests_df = audit_i.best_ests_df.copy()\n",
    "ami_df_i = audit_i.ami_df_i.copy()\n",
    "#-----\n",
    "dovs_outg_t_beg_end = audit_i.dovs_outg_t_beg_end\n",
    "dovs_outg_t_beg = dovs_outg_t_beg_end[0]\n",
    "dovs_outg_t_end = dovs_outg_t_beg_end[1]\n",
    "#-----\n",
    "outage_nb  = audit_i.outage_nb\n",
    "n_PNs_dovs = audit_i.n_PNs_dovs\n",
    "ci_dovs    = audit_i.ci_cmi_dovs[0]\n",
    "cmi_dovs   = audit_i.ci_cmi_dovs[1]\n",
    "ci_ami     = best_ests_df['PN'].nunique() \n",
    "cmi_ami    = (best_ests_df['winner_max']-best_ests_df['winner_min']).sum().total_seconds()/60\n",
    "threshold=95\n",
    "#-------------------------\n",
    "outg_SNs = best_ests_df['PN'].unique().tolist()\n",
    "ami_df_i_out      = ami_df_i[ami_df_i['aep_premise_nb'].isin(outg_SNs)]\n",
    "ami_df_i_not_out  = ami_df_i[~ami_df_i['aep_premise_nb'].isin(outg_SNs)]\n",
    "#-------------------------\n",
    "means_df, best_ests_df_w_db_lbl = DOVSAudit.get_mean_times_w_dbscan(\n",
    "    best_ests_df, \n",
    "    eps_min=5, \n",
    "    min_samples=2, \n",
    "    ests_to_include_in_clustering=['winner_min', 'winner_max'],\n",
    "    ests_to_include_in_output=[\n",
    "        'winner_min', 'winner_max', \n",
    "        'conservative_min', 'conservative_max', \n",
    "        'zero_times_min', 'zero_times_max'\n",
    "    ], \n",
    "    return_labelled_best_ests_df=True\n",
    ")\n",
    "#-------------------------\n",
    "n_PNs_w_power_srs = DOVSAudit.build_n_PNs_w_power_srs(\n",
    "    best_ests_df, \n",
    "    ami_df_i, \n",
    "    return_pct=True, \n",
    "    PN_col='PN', \n",
    "    t_min_col='winner_min', \n",
    "    t_max_col='winner_max', \n",
    "    i_outg_col='i_outg', \n",
    "    PN_col_ami_df='aep_premise_nb'\n",
    ")"
   ]
  },
  {
   "cell_type": "code",
   "execution_count": null,
   "id": "9d06c8c4",
   "metadata": {},
   "outputs": [],
   "source": [
    "%run ./check_DOVS_METHODS.ipynb"
   ]
  },
  {
   "cell_type": "code",
   "execution_count": null,
   "id": "d3ac9bd9",
   "metadata": {},
   "outputs": [],
   "source": [
    "list(set(audit_i.best_ests_df_w_keep_info['overlap_DOVS'].sum()))"
   ]
  },
  {
   "cell_type": "code",
   "execution_count": null,
   "id": "6d4089e4",
   "metadata": {},
   "outputs": [],
   "source": [
    "ovrlp_dovs = DOVSOutages(\n",
    "    df_construct_type=DFConstructType.kRunSqlQuery, \n",
    "    contstruct_df_args=None, \n",
    "    init_df_in_constructor=True,\n",
    "    build_sql_function=DOVSOutages_SQL.build_sql_outage, \n",
    "    build_sql_function_kwargs=dict(\n",
    "        outg_rec_nbs=list(set(audit_i.best_ests_df_w_keep_info['overlap_DOVS'].sum())), \n",
    "        include_premise=True\n",
    "    ), \n",
    "    build_consolidated=True\n",
    ")\n",
    "other_dovs_events_df = ovrlp_dovs.df.reset_index().copy()"
   ]
  },
  {
   "cell_type": "code",
   "execution_count": null,
   "id": "8e9a569d",
   "metadata": {},
   "outputs": [],
   "source": [
    "audit_i.best_ests_df_w_keep_info"
   ]
  },
  {
   "cell_type": "code",
   "execution_count": null,
   "id": "f71eb93c",
   "metadata": {},
   "outputs": [],
   "source": [
    "fig_num=0\n",
    "fig, axs = plot_all_out_not_NEW(\n",
    "    fig_num              = fig_num, \n",
    "    ami_df_i             = ami_df_i, \n",
    "    ami_df_i_out         = ami_df_i_out, \n",
    "    ami_df_i_not_out     = ami_df_i_not_out, \n",
    "    dovs_outg_t_beg      = dovs_outg_t_beg, \n",
    "    dovs_outg_t_end      = dovs_outg_t_end, \n",
    "    cnsrvtv_out_t_beg    = best_ests_df['conservative_min'].min(), \n",
    "    cnsrvtv_out_t_end    = best_ests_df['conservative_max'].max(), \n",
    "    means_df             = means_df, \n",
    "    outg_rec_nb          = audit_i.outg_rec_nb, \n",
    "    outage_nb            = audit_i.outage_nb, \n",
    "    n_PNs_dovs           = audit_i.n_PNs_dovs, \n",
    "    ci_dovs              = audit_i.ci_cmi_dovs[0], \n",
    "    cmi_dovs             = audit_i.ci_cmi_dovs[0], \n",
    "    ci_ami               = audit_i.ci, \n",
    "    cmi_ami              = audit_i.cmi, \n",
    "    name                 = 'AMI', \n",
    "    results_2_dict       = None, \n",
    "    expand_time          = pd.Timedelta('1 hour'), \n",
    "    mean_keys_to_include = ['winner', 'conservative', 'zero_times'], \n",
    "    removed_due_to_overlap_col=None, \n",
    "    default_subplots_args=dict(n_x=2, n_y=2, row_major=True, sharex=True), \n",
    "    other_dovs_events_df = other_dovs_events_df, \n",
    "    leg_i_plot=1, \n",
    "    leg_kwargs=dict(ncols=1, fontsize=15, bbox_to_anchor=(1, 1.2)), \n",
    "    ci_info_fontsize=16, \n",
    "    left_text_x=0.915\n",
    "    \n",
    ")\n",
    "\n",
    "fig,axs[3] = DOVSAudit.static_plot_n_PNs_w_power_srs(\n",
    "    n_PNs_w_power_srs, \n",
    "    simp_freq='1T', \n",
    "    threshold=threshold, \n",
    "    fig_num=fig_num, \n",
    "    fig_ax=(fig, axs[3]), \n",
    "    threshold_color='magenta'\n",
    ")\n",
    "\n",
    "for ax_i in axs:\n",
    "    ax_i.xaxis.set_tick_params(labelbottom=True)\n",
    "\n",
    "fig_num += 1"
   ]
  },
  {
   "cell_type": "code",
   "execution_count": null,
   "id": "8ea6f62a",
   "metadata": {},
   "outputs": [],
   "source": []
  },
  {
   "cell_type": "code",
   "execution_count": null,
   "id": "b688470a",
   "metadata": {},
   "outputs": [],
   "source": [
    "means_df"
   ]
  },
  {
   "cell_type": "code",
   "execution_count": null,
   "id": "3ea6b6ce",
   "metadata": {},
   "outputs": [],
   "source": [
    "best_ests_df_w_db_lbl"
   ]
  },
  {
   "cell_type": "code",
   "execution_count": null,
   "id": "b0d42f89",
   "metadata": {},
   "outputs": [],
   "source": [
    "ests_to_include_in_output=[\n",
    "            'winner_min', 'winner_max', \n",
    "            'conservative_min', 'conservative_max', \n",
    "            'zero_times_min', 'zero_times_max'\n",
    "        ]"
   ]
  },
  {
   "cell_type": "code",
   "execution_count": null,
   "id": "069e78f7",
   "metadata": {},
   "outputs": [],
   "source": [
    "best_ests_df_w_db_lbl.groupby(['db_label'], as_index=True)[ests_to_include_in_output].mean()"
   ]
  },
  {
   "cell_type": "code",
   "execution_count": null,
   "id": "f109d79a",
   "metadata": {},
   "outputs": [],
   "source": [
    "best_ests_df_w_db_lbl.groupby(['db_label'], as_index=True).size()"
   ]
  },
  {
   "cell_type": "code",
   "execution_count": null,
   "id": "b19e0c1c",
   "metadata": {},
   "outputs": [],
   "source": [
    "best_ests_df_w_db_lbl.groupby(['db_label'], as_index=True).count()"
   ]
  },
  {
   "cell_type": "code",
   "execution_count": null,
   "id": "6df00c63",
   "metadata": {},
   "outputs": [],
   "source": [
    "counts_srs = best_ests_df_w_db_lbl.groupby(['db_label'], as_index=True).size()"
   ]
  },
  {
   "cell_type": "code",
   "execution_count": null,
   "id": "7fb4f981",
   "metadata": {},
   "outputs": [],
   "source": [
    "counts_srs.name = 'counts'"
   ]
  },
  {
   "cell_type": "code",
   "execution_count": null,
   "id": "8f454ab3",
   "metadata": {},
   "outputs": [],
   "source": [
    "means_df = pd.merge(\n",
    "    means_df, \n",
    "    counts_srs, \n",
    "    left_index=True, \n",
    "    right_index=True, \n",
    "    how='left'\n",
    ")"
   ]
  },
  {
   "cell_type": "code",
   "execution_count": null,
   "id": "85c433fa",
   "metadata": {},
   "outputs": [],
   "source": []
  },
  {
   "cell_type": "code",
   "execution_count": null,
   "id": "10c97551",
   "metadata": {},
   "outputs": [],
   "source": [
    "n_PNs_w_power_srs"
   ]
  },
  {
   "cell_type": "code",
   "execution_count": null,
   "id": "30918085",
   "metadata": {},
   "outputs": [],
   "source": [
    "audit_1.best_ests_df_w_keep_info"
   ]
  },
  {
   "cell_type": "code",
   "execution_count": null,
   "id": "79218309",
   "metadata": {},
   "outputs": [],
   "source": [
    "# def draw_outage_limits_on_ax(\n",
    "#     ax, \n",
    "#     out_t_beg, \n",
    "#     out_t_end, \n",
    "#     plot_t_beg=None, \n",
    "#     plot_t_end=None, \n",
    "#     draw_outage_limits_kwargs=None, \n",
    "#     include_outage_limits_text=False, \n",
    "#     out_t_beg_line_color='red', \n",
    "#     out_t_end_line_color='green', \n",
    "# ):\n",
    "#     r\"\"\"\n",
    "#     plot_t_beg/plot_t_end:\n",
    "#         If supplied, out_t_beg and out_t_end will only be drawn if within plot_t_beg/plot_t_end interval\n",
    "#     \"\"\"\n",
    "#     #----------------------------------------------------------------------------------------------------\n",
    "#     if draw_outage_limits_kwargs is None:\n",
    "#         draw_outage_limits_kwargs = {}    \n",
    "#     #--------------------------------------------------\n",
    "#     if plot_t_beg is None:\n",
    "#         plot_t_beg = pd.Timestamp.min\n",
    "#     if plot_t_end is None:\n",
    "#         plot_t_end = pd.Timestamp.max\n",
    "#     #--------------------------------------------------\n",
    "#     # Draw the lines\n",
    "#     if out_t_beg>=plot_t_beg and out_t_beg<=plot_t_end:\n",
    "#         ax.axvline(out_t_beg, color=out_t_beg_line_color, **draw_outage_limits_kwargs)\n",
    "#     if out_t_end>=plot_t_beg and out_t_end<=plot_t_end:\n",
    "#         ax.axvline(out_t_end, color=out_t_end_line_color, **draw_outage_limits_kwargs)\n",
    "#     #----------------------------------------------------------------------------------------------------\n",
    "#     dflt_include_outage_limits_text_dict = dict(\n",
    "#         include_out_t_beg_text = True, \n",
    "#         out_t_beg_text         = 'Outage Begin', \n",
    "#         out_t_beg_ypos         = ax.get_ylim()[0], \n",
    "#         out_t_beg_rot          = 90, \n",
    "#         out_t_beg_va           = 'bottom', \n",
    "#         out_t_beg_ha           = 'right', \n",
    "#         out_t_beg_color        = 'black', \n",
    "#         #----------\n",
    "#         include_out_t_end_text = True, \n",
    "#         out_t_end_text         = 'Outage End', \n",
    "#         out_t_end_ypos         = ax.get_ylim()[0], \n",
    "#         out_t_end_rot          = 90, \n",
    "#         out_t_end_va           = 'bottom', \n",
    "#         out_t_end_ha           = 'left', \n",
    "#         out_t_end_color        = 'black', \n",
    "#     )\n",
    "#     #-------------------------\n",
    "#     if include_outage_limits_text:\n",
    "#         if isinstance(include_outage_limits_text, dict):\n",
    "#             include_outage_limits_text = Utilities.supplement_dict_with_default_values(\n",
    "#                 to_supplmnt_dict    = include_outage_limits_text,\n",
    "#                 default_values_dict = dflt_include_outage_limits_text_dict,\n",
    "#                 extend_any_lists    = False,\n",
    "#                 inplace             = False,\n",
    "#             )\n",
    "#         else:\n",
    "#             include_outage_limits_text = dflt_include_outage_limits_text_dict\n",
    "#         #-------------------------\n",
    "#         include_out_t_beg_text = include_outage_limits_text['include_out_t_beg_text']\n",
    "#         out_t_beg_text  = include_outage_limits_text['out_t_beg_text']\n",
    "#         out_t_beg_ypos  = include_outage_limits_text['out_t_beg_ypos']\n",
    "#         out_t_beg_rot   = include_outage_limits_text['out_t_beg_rot']\n",
    "#         out_t_beg_va    = include_outage_limits_text['out_t_beg_va']\n",
    "#         out_t_beg_ha    = include_outage_limits_text['out_t_beg_ha']\n",
    "#         out_t_beg_color = include_outage_limits_text['out_t_beg_color']\n",
    "#         #----------\n",
    "#         include_out_t_end_text = include_outage_limits_text['include_out_t_end_text']\n",
    "#         out_t_end_text  = include_outage_limits_text['out_t_end_text']\n",
    "#         out_t_end_ypos  = include_outage_limits_text['out_t_end_ypos']\n",
    "#         out_t_end_rot   = include_outage_limits_text['out_t_end_rot']\n",
    "#         out_t_end_va    = include_outage_limits_text['out_t_end_va']\n",
    "#         out_t_end_ha    = include_outage_limits_text['out_t_end_ha']\n",
    "#         out_t_end_color = include_outage_limits_text['out_t_end_color']\n",
    "#         #-------------------------\n",
    "#         # If out_t_beg/out_t_end outside of plot_t_beg/plot_t_end, do not include the text, regardless\n",
    "#         #   of the values of include_out_t_beg_text/include_out_t_end_text\n",
    "#         if out_t_beg<plot_t_beg or out_t_beg>plot_t_end:\n",
    "#             include_out_t_beg_text=False\n",
    "#         if out_t_end<plot_t_beg or out_t_end>plot_t_end:\n",
    "#             include_out_t_end_text=False\n",
    "#         #-------------------------\n",
    "#         if Utilities.is_object_one_of_types(out_t_beg_ypos, [list, tuple]) and len(out_t_beg_ypos)==2:\n",
    "#             assert(out_t_beg_ypos[1] in ['eval_at_rt', 'ax_coord'])\n",
    "#             if out_t_beg_ypos[1]=='eval_at_rt':\n",
    "#                 out_t_beg_ypos = eval(out_t_beg_ypos[0])\n",
    "#             else:\n",
    "#                 out_t_beg_ypos = ax.transLimits.inverted().transform((0,out_t_beg_ypos[0]))[1]\n",
    "#         #-----\n",
    "#         if Utilities.is_object_one_of_types(out_t_end_ypos, [list, tuple]) and len(out_t_end_ypos)==2:\n",
    "#             assert(out_t_end_ypos[1] in ['eval_at_rt', 'ax_coord'])\n",
    "#             if out_t_end_ypos[1]=='eval_at_rt':\n",
    "#                 out_t_end_ypos = eval(out_t_end_ypos[0])\n",
    "#             else:\n",
    "#                 out_t_end_ypos = ax.transLimits.inverted().transform((0,out_t_end_ypos[0]))[1]            \n",
    "#         #-------------------------\n",
    "#         if include_out_t_beg_text:\n",
    "#             ax.text(\n",
    "#                 x                   = out_t_beg, \n",
    "#                 y                   = out_t_beg_ypos, \n",
    "#                 s                   = out_t_beg_text, \n",
    "#                 rotation            = out_t_beg_rot, \n",
    "#                 verticalalignment   = out_t_beg_va, \n",
    "#                 horizontalalignment = out_t_beg_ha, \n",
    "#                 color               = out_t_beg_color\n",
    "#             )\n",
    "#         if include_out_t_end_text:\n",
    "#             ax.text(\n",
    "#                 x                   = out_t_end, \n",
    "#                 y                   = out_t_end_ypos, \n",
    "#                 s                   = out_t_end_text, \n",
    "#                 rotation            = out_t_end_rot, \n",
    "#                 verticalalignment   = out_t_end_va, \n",
    "#                 horizontalalignment = out_t_end_ha, \n",
    "#                 color               = out_t_end_color\n",
    "#             )\n",
    "#     #-------------------------\n",
    "#     return ax"
   ]
  },
  {
   "cell_type": "code",
   "execution_count": null,
   "id": "bff717cf",
   "metadata": {},
   "outputs": [],
   "source": [
    "Utilities.supplement_dict_with_default_values?"
   ]
  },
  {
   "cell_type": "code",
   "execution_count": null,
   "id": "f8c9b6a3",
   "metadata": {},
   "outputs": [],
   "source": [
    "ax = axs[3]"
   ]
  },
  {
   "cell_type": "code",
   "execution_count": null,
   "id": "38bce092",
   "metadata": {},
   "outputs": [],
   "source": [
    "ax.get_xlim()"
   ]
  },
  {
   "cell_type": "code",
   "execution_count": null,
   "id": "dfb076d2",
   "metadata": {},
   "outputs": [],
   "source": [
    "pd.Timestamp.min"
   ]
  },
  {
   "cell_type": "code",
   "execution_count": null,
   "id": "0d5bffbd",
   "metadata": {},
   "outputs": [],
   "source": []
  },
  {
   "cell_type": "code",
   "execution_count": null,
   "id": "db5c2458",
   "metadata": {},
   "outputs": [],
   "source": [
    "fig_num=0\n",
    "fig, axs = plot_all_out_not_NEW(\n",
    "    fig_num              = fig_num, \n",
    "    ami_df_i             = ami_df_i, \n",
    "    ami_df_i_out         = ami_df_i_out, \n",
    "    ami_df_i_not_out     = ami_df_i_not_out, \n",
    "    dovs_outg_t_beg      = dovs_outg_t_beg, \n",
    "    dovs_outg_t_end      = dovs_outg_t_end, \n",
    "    cnsrvtv_out_t_beg    = best_ests_df['conservative_min'].min(), \n",
    "    cnsrvtv_out_t_end    = best_ests_df['conservative_max'].max(), \n",
    "    means_df             = means_df, \n",
    "    outg_rec_nb          = audit_i.outg_rec_nb, \n",
    "    outage_nb            = audit_i.outage_nb, \n",
    "    n_PNs_dovs           = audit_i.n_PNs_dovs, \n",
    "    ci_dovs              = audit_i.ci_cmi_dovs[0], \n",
    "    cmi_dovs             = audit_i.ci_cmi_dovs[0], \n",
    "    ci_ami               = audit_i.ci, \n",
    "    cmi_ami              = audit_i.cmi, \n",
    "    name                 = 'AMI', \n",
    "    results_2_dict       = None, \n",
    "    expand_time          = pd.Timedelta('1 hour'), \n",
    "    mean_keys_to_include = ['winner', 'conservative', 'zero_times'], \n",
    "    removed_due_to_overlap_col=None, \n",
    "    default_subplots_args=dict(n_x=2, n_y=2, row_major=True, sharex=True), \n",
    "    leg_i_plot=1, \n",
    "    leg_kwargs=dict(ncols=1, fontsize=15, bbox_to_anchor=(1, 1.2)), \n",
    "    ci_info_fontsize=16, \n",
    "    left_text_x=0.915\n",
    "    \n",
    ")\n",
    "\n",
    "# fig,axs[3] = DOVSAudit.static_plot_n_PNs_w_power_srs(\n",
    "#     n_PNs_w_power_srs, \n",
    "#     simp_freq='1T', \n",
    "#     threshold=threshold, \n",
    "#     fig_num=fig_num, \n",
    "#     fig_ax=(fig, axs[3]), \n",
    "#     threshold_color='magenta'\n",
    "# )\n",
    "\n",
    "for ax_i in axs:\n",
    "    ax_i.xaxis.set_tick_params(labelbottom=True)\n",
    "\n",
    "fig_num += 1"
   ]
  },
  {
   "cell_type": "code",
   "execution_count": null,
   "id": "620ca021",
   "metadata": {},
   "outputs": [],
   "source": []
  },
  {
   "cell_type": "code",
   "execution_count": null,
   "id": "810341de",
   "metadata": {},
   "outputs": [],
   "source": [
    "    fig_num              = fig_num\n",
    "    ami_df_i             = ami_df_i\n",
    "    ami_df_i_out         = ami_df_i_out\n",
    "    ami_df_i_not_out     = ami_df_i_not_out\n",
    "    dovs_outg_t_beg      = dovs_outg_t_beg\n",
    "    dovs_outg_t_end      = dovs_outg_t_end\n",
    "    cnsrvtv_out_t_beg    = best_ests_df['conservative_min'].min()\n",
    "    cnsrvtv_out_t_end    = best_ests_df['conservative_max'].max()\n",
    "    means_df             = None\n",
    "    outg_rec_nb          = audit_i.outg_rec_nb\n",
    "    outage_nb            = audit_i.outage_nb\n",
    "    n_PNs_dovs           = audit_i.n_PNs_dovs\n",
    "    ci_dovs              = audit_i.ci_cmi_dovs[0]\n",
    "    cmi_dovs             = audit_i.ci_cmi_dovs[0]\n",
    "    ci_ami               = audit_i.ci\n",
    "    cmi_ami              = audit_i.cmi\n",
    "    name                 = 'AMI'\n",
    "    results_2_dict       = None\n",
    "    expand_time          = pd.Timedelta('1 hour')\n",
    "    mean_keys_to_include = ['winner', 'conservative', 'zero_times']\n",
    "    removed_due_to_overlap_col=None\n",
    "    default_subplots_args=dict(n_x=2, n_y=2, row_major=True, sharex=True) \n",
    "    leg_i_plot=1\n",
    "    leg_kwargs=dict(ncols=1, fontsize=15, bbox_to_anchor=(1, 1.2))\n",
    "    ci_info_fontsize=16\n",
    "    left_text_x=0.915"
   ]
  },
  {
   "cell_type": "code",
   "execution_count": null,
   "id": "ce6395f1",
   "metadata": {},
   "outputs": [],
   "source": [
    "only_connect_continuous=True\n",
    "data_freq=pd.Timedelta('15T')"
   ]
  },
  {
   "cell_type": "code",
   "execution_count": null,
   "id": "a2981b59",
   "metadata": {},
   "outputs": [],
   "source": [
    "if removed_due_to_overlap_col is not None:\n",
    "    assert(removed_due_to_overlap_col in ami_df_i.columns.tolist())\n",
    "    assert(removed_due_to_overlap_col in ami_df_i_out.columns.tolist())\n",
    "    assert(removed_due_to_overlap_col in ami_df_i_not_out.columns.tolist())\n",
    "#-------------------------\n",
    "dflt_default_subplots_args = dict(\n",
    "    n_x=1,\n",
    "    n_y=3,\n",
    "    fig_num=fig_num,\n",
    "    sharex=False,\n",
    "    sharey=False,\n",
    "    unit_figsize_width=14,\n",
    "    unit_figsize_height=6, \n",
    "    return_flattened_axes=True,\n",
    "    row_major=True\n",
    ")\n",
    "if default_subplots_args is None:\n",
    "    default_subplots_args = dflt_default_subplots_args\n",
    "else:\n",
    "    assert(isinstance(default_subplots_args, dict))\n",
    "    default_subplots_args = Utilities.supplement_dict_with_default_values(\n",
    "        to_supplmnt_dict=default_subplots_args, \n",
    "        default_values_dict=dflt_default_subplots_args, \n",
    "        extend_any_lists=False, \n",
    "        inplace=False\n",
    "    )\n",
    "fig, axs = Plot_General.default_subplots(**default_subplots_args)\n",
    "Plot_General.adjust_subplots_args(fig, dict(hspace=0.30))\n",
    "\n",
    "palette = Plot_General.get_standard_colors_dict(\n",
    "    keys=ami_df_i['serialnumber'].unique().tolist(), \n",
    "    palette='colorblind'\n",
    ")\n",
    "\n",
    "#-------------------------\n",
    "# The subplots share many common arguments.  \n",
    "# Let's collect them all first to avoid repeating code\n",
    "shared_plot_kwargs = dict(\n",
    "    x                          = 'starttimeperiod_local', \n",
    "    y                          = 'value', \n",
    "    hue                        = 'serialnumber', \n",
    "    out_t_beg                  = dovs_outg_t_beg, \n",
    "    out_t_end                  = dovs_outg_t_end, \n",
    "    expand_time                = expand_time, \n",
    "    plot_time_beg_end          = [cnsrvtv_out_t_beg, cnsrvtv_out_t_end], \n",
    "    only_connect_continuous    = only_connect_continuous, \n",
    "    data_freq                  = data_freq,     \n",
    "    data_label                 = '', \n",
    "    ax_args                    = None, \n",
    "    xlabel_args                = None, \n",
    "    ylabel_args                = None, \n",
    "    df_mean                    = None, \n",
    "    df_mean_col                = None, \n",
    "    mean_args                  = None, \n",
    "    draw_outage_limits         = True, \n",
    "    draw_outage_limits_kwargs  = dict(alpha=1.0, linewidth=5.0, ymax=0.1), \n",
    "    include_outage_limits_text = dict(\n",
    "        out_t_beg_text  = 'DOVS Beg.', \n",
    "        out_t_beg_ypos  = (0.12, 'ax_coord'), \n",
    "        out_t_beg_va    = 'bottom', \n",
    "        out_t_beg_ha    = 'center', \n",
    "        out_t_beg_color = 'red', \n",
    "        #-----\n",
    "        out_t_end_text  = 'DOVS End', \n",
    "        out_t_end_ypos  = (0.12, 'ax_coord'), \n",
    "        out_t_end_va    = 'bottom', \n",
    "        out_t_end_ha    = 'center', \n",
    "        out_t_end_color = 'green', \n",
    "    ), \n",
    "    draw_without_hue_also      = False, \n",
    "    seg_line_freq              = None, \n",
    "    palette                    = palette\n",
    ")\n",
    "\n",
    "\n",
    "i_subplot=0\n",
    "# fig, axs[i_subplot] = AMINonVee.plot_usage_around_outage(\n",
    "#     fig=fig, \n",
    "#     ax=axs[i_subplot], \n",
    "#     data=ami_df_i, \n",
    "#     title_args=dict(label=f\"All (#SNs = {ami_df_i['serialnumber'].nunique()})\", fontdict=dict(fontsize=24)), \n",
    "#     **shared_plot_kwargs\n",
    "# )\n",
    "\n",
    "\n",
    "# AMINonVee.plot_usage(\n",
    "#     fig=fig, \n",
    "#     ax=axs[i_subplot], \n",
    "#     data=ami_df_i, \n",
    "#     x='starttimeperiod_local', \n",
    "#     y='value', \n",
    "#     hue='serialnumber'\n",
    "# )\n",
    "\n",
    "# AMINonVee.plot_usage_around_outage(\n",
    "#     fig=fig, \n",
    "#     ax=axs[i_subplot], \n",
    "#     data=ami_df_i, \n",
    "#     x='starttimeperiod_local', \n",
    "#     y='value', \n",
    "#     hue='serialnumber', \n",
    "#     out_t_beg                  = dovs_outg_t_beg, \n",
    "#     out_t_end                  = dovs_outg_t_end, \n",
    "#     expand_time                = expand_time, \n",
    "# )\n",
    "\n",
    "# AMINonVee.plot_usage_around_outage(\n",
    "#     fig=fig, \n",
    "#     ax=axs[i_subplot], \n",
    "#     data=ami_df_i, \n",
    "#     x='starttimeperiod_local', \n",
    "#     y='value', \n",
    "#     hue='serialnumber', \n",
    "#     out_t_beg                  = dovs_outg_t_beg, \n",
    "#     out_t_end                  = dovs_outg_t_end, \n",
    "#     expand_time                = expand_time, \n",
    "# )\n",
    "\n",
    "\n",
    "fig, axs[i_subplot] = AMINonVee.plot_usage_around_outage(\n",
    "    fig=fig, \n",
    "    ax=axs[i_subplot], \n",
    "    data=ami_df_i, \n",
    "    title_args=dict(label=f\"All (#SNs = {ami_df_i['serialnumber'].nunique()})\", fontdict=dict(fontsize=24)), \n",
    "    **shared_plot_kwargs\n",
    ")"
   ]
  },
  {
   "cell_type": "code",
   "execution_count": null,
   "id": "a5fc71af",
   "metadata": {},
   "outputs": [],
   "source": [
    "cnsrvtv_out_t_beg"
   ]
  },
  {
   "cell_type": "code",
   "execution_count": null,
   "id": "69370261",
   "metadata": {},
   "outputs": [],
   "source": [
    "cnsrvtv_out_t_end"
   ]
  },
  {
   "cell_type": "code",
   "execution_count": null,
   "id": "decdd638",
   "metadata": {},
   "outputs": [],
   "source": []
  },
  {
   "cell_type": "code",
   "execution_count": null,
   "id": "deb890a4",
   "metadata": {},
   "outputs": [],
   "source": []
  },
  {
   "cell_type": "code",
   "execution_count": null,
   "id": "7dfa6f8f",
   "metadata": {},
   "outputs": [],
   "source": [
    "ami_df_i"
   ]
  },
  {
   "cell_type": "code",
   "execution_count": null,
   "id": "ccff183a",
   "metadata": {},
   "outputs": [],
   "source": []
  },
  {
   "cell_type": "code",
   "execution_count": null,
   "id": "5b129530",
   "metadata": {},
   "outputs": [],
   "source": []
  },
  {
   "cell_type": "code",
   "execution_count": null,
   "id": "6d80aab6",
   "metadata": {},
   "outputs": [],
   "source": [
    "fig,ax = Plot_General.default_subplots()\n",
    "AMINonVee.plot_usage(\n",
    "    fig=fig, \n",
    "    ax=ax, \n",
    "    data=ami_df_i, \n",
    "    x='starttimeperiod_local', \n",
    "    y='value', \n",
    "    hue='serialnumber'\n",
    ")"
   ]
  },
  {
   "cell_type": "code",
   "execution_count": null,
   "id": "6520d7d6",
   "metadata": {},
   "outputs": [],
   "source": [
    "ami_df_i"
   ]
  },
  {
   "cell_type": "code",
   "execution_count": null,
   "id": "47f85556",
   "metadata": {},
   "outputs": [],
   "source": []
  },
  {
   "cell_type": "code",
   "execution_count": null,
   "id": "3816eee5",
   "metadata": {},
   "outputs": [],
   "source": []
  },
  {
   "cell_type": "code",
   "execution_count": null,
   "id": "d57cc228",
   "metadata": {},
   "outputs": [],
   "source": []
  },
  {
   "cell_type": "code",
   "execution_count": null,
   "id": "0bb2b54c",
   "metadata": {},
   "outputs": [],
   "source": [
    "audit_i=copy.deepcopy(audit_1)"
   ]
  },
  {
   "cell_type": "code",
   "execution_count": null,
   "id": "b0c27ce8",
   "metadata": {},
   "outputs": [],
   "source": [
    "ami_df_i = audit_i.ami_df_i.copy()\n",
    "# In ami_df_i, mark any entries which were essentially removed via the identify_dovs_overlaps_from_best_ests\n",
    "#   and removal procedure above\n",
    "ami_df_i = DOVSAudit.set_removed_due_to_overlap_in_ami_df_i(\n",
    "    ami_df_i                   = ami_df_i, \n",
    "    best_ests_df               = audit_i.best_ests_df_w_keep_info.copy(), \n",
    "    PN_col                     = 'aep_premise_nb', \n",
    "    time_idfr                  = 'starttimeperiod_local', \n",
    "    PN_col_be                  = 'PN', \n",
    "    keep_col_be                = 'keep', \n",
    "    overlap_times_col_be       = 'overlap_times', \n",
    "    removed_due_to_overlap_col = 'removed_due_to_overlap'\n",
    ")"
   ]
  },
  {
   "cell_type": "code",
   "execution_count": null,
   "id": "f5219161",
   "metadata": {},
   "outputs": [],
   "source": [
    "best_ests_df = audit_i.best_ests_df_w_keep_info.copy()\n",
    "ami_df_i = audit_i.ami_df_i.copy()\n",
    "PN_col='aep_premise_nb'\n",
    "time_idfr='starttimeperiod_local'\n",
    "PN_col_be='PN'\n",
    "t_min_col_be='winner_min'\n",
    "t_max_col_be='winner_max'\n",
    "keep_col_be='keep'\n",
    "overlap_times_col_be='overlap_times'\n",
    "removed_due_to_overlap_col='removed_due_to_overlap'\n",
    "expand_removed_times=True"
   ]
  },
  {
   "cell_type": "code",
   "execution_count": null,
   "id": "eeed2d5e",
   "metadata": {},
   "outputs": [],
   "source": [
    "assert(set([PN_col_be, keep_col_be, overlap_times_col_be]).difference(set(best_ests_df.columns.tolist()))==set())\n",
    "removed_srs = best_ests_df[best_ests_df[keep_col_be]==False].copy()\n",
    "removed_srs = removed_srs.groupby(PN_col_be)[overlap_times_col_be].sum()"
   ]
  },
  {
   "cell_type": "code",
   "execution_count": null,
   "id": "10baa914",
   "metadata": {},
   "outputs": [],
   "source": [
    "removed_srs"
   ]
  },
  {
   "cell_type": "code",
   "execution_count": null,
   "id": "42a000d9",
   "metadata": {},
   "outputs": [],
   "source": [
    "best_ests_df[best_ests_df['PN']=='070171942']"
   ]
  },
  {
   "cell_type": "code",
   "execution_count": null,
   "id": "bd5446e9",
   "metadata": {},
   "outputs": [],
   "source": [
    "best_ests_df.iloc[:10]"
   ]
  },
  {
   "cell_type": "code",
   "execution_count": null,
   "id": "884e6a8e",
   "metadata": {},
   "outputs": [],
   "source": []
  },
  {
   "cell_type": "code",
   "execution_count": null,
   "id": "1463e0c1",
   "metadata": {},
   "outputs": [],
   "source": []
  },
  {
   "cell_type": "code",
   "execution_count": null,
   "id": "8d1b539e",
   "metadata": {},
   "outputs": [],
   "source": [
    "audit_1.best_ests_df_w_keep_info['ovrlp_disagree_typeA'].notna().any()"
   ]
  },
  {
   "cell_type": "code",
   "execution_count": null,
   "id": "a7b7cbe3",
   "metadata": {},
   "outputs": [],
   "source": [
    "update_df = audit_1.best_ests_df_w_keep_info.copy()\n",
    "overlap_disagree_cols=['ovrlp_disagree_typeA', 'ovrlp_disagree_typeB']\n",
    "unq_idfr_cols = ['PN', 'i_outg']"
   ]
  },
  {
   "cell_type": "code",
   "execution_count": null,
   "id": "e6592f08",
   "metadata": {},
   "outputs": [],
   "source": [
    "update_df[overlap_disagree_cols[1]].notna().any()"
   ]
  },
  {
   "cell_type": "code",
   "execution_count": null,
   "id": "da63f51c",
   "metadata": {},
   "outputs": [],
   "source": [
    "update_df[overlap_disagree_cols].notna().any().any()"
   ]
  },
  {
   "cell_type": "code",
   "execution_count": null,
   "id": "bef6bfcb",
   "metadata": {},
   "outputs": [],
   "source": [
    "disagree_col = overlap_disagree_cols[1]"
   ]
  },
  {
   "cell_type": "code",
   "execution_count": null,
   "id": "a82e654c",
   "metadata": {},
   "outputs": [],
   "source": [
    "update_df[disagree_col].notna().any()"
   ]
  },
  {
   "cell_type": "code",
   "execution_count": null,
   "id": "11fb0167",
   "metadata": {},
   "outputs": [],
   "source": [
    "update_df[update_df[disagree_col].notna()]"
   ]
  },
  {
   "cell_type": "code",
   "execution_count": null,
   "id": "b35f0cc2",
   "metadata": {},
   "outputs": [],
   "source": [
    "update_df[update_df[disagree_col].notna()][unq_idfr_cols].drop_duplicates().values.tolist()"
   ]
  },
  {
   "cell_type": "code",
   "execution_count": null,
   "id": "ef7ac7f5",
   "metadata": {},
   "outputs": [],
   "source": []
  },
  {
   "cell_type": "code",
   "execution_count": null,
   "id": "314e4499",
   "metadata": {},
   "outputs": [],
   "source": []
  },
  {
   "cell_type": "code",
   "execution_count": null,
   "id": "d2acf038",
   "metadata": {},
   "outputs": [],
   "source": [
    "audit_1.best_ests_df_w_keep_info['ovrlp_disagree_typeA'].notna().sum()"
   ]
  },
  {
   "cell_type": "code",
   "execution_count": null,
   "id": "bc1ef760",
   "metadata": {},
   "outputs": [],
   "source": [
    "audit_1.best_ests_df_w_keep_info['ovrlp_disagree_typeB'].notna().sum()"
   ]
  },
  {
   "cell_type": "code",
   "execution_count": null,
   "id": "b13a64a4",
   "metadata": {},
   "outputs": [],
   "source": [
    "audit_1.best_ests_df_w_keep_info[\n",
    "    (audit_1.best_ests_df_w_keep_info['ovrlp_disagree_typeA'].notna()) | \n",
    "    (audit_1.best_ests_df_w_keep_info['ovrlp_disagree_typeB'].notna())\n",
    "]"
   ]
  },
  {
   "cell_type": "code",
   "execution_count": null,
   "id": "2d40b8cf",
   "metadata": {},
   "outputs": [],
   "source": []
  },
  {
   "cell_type": "code",
   "execution_count": null,
   "id": "ddde134d",
   "metadata": {},
   "outputs": [],
   "source": []
  },
  {
   "cell_type": "code",
   "execution_count": null,
   "id": "cdc79488",
   "metadata": {},
   "outputs": [],
   "source": [
    "be_df_i = audit_1.best_ests_df_w_keep_info.copy()\n",
    "outg_rec_nb_i = audit_1.outg_rec_nb\n",
    "ovrlp_pfx = 'mXqy_'\n",
    "overlap_DOVS_col = 'overlap_DOVS'"
   ]
  },
  {
   "cell_type": "code",
   "execution_count": null,
   "id": "912f497d",
   "metadata": {},
   "outputs": [],
   "source": [
    "regex_pattern  = r'{}.*'.format(ovrlp_pfx)\n",
    "ovrlp_pct_cols = Utilities_df.find_cols_with_regex(df=be_df_i, regex_pattern=regex_pattern, ignore_case=False)\n",
    "#-------------------------\n",
    "outg_rec_nbs = [x[len(ovrlp_pfx):] for x in ovrlp_pct_cols]\n",
    "if outg_rec_nb_i not in outg_rec_nbs:\n",
    "    print(f'{outg_rec_nb_i} not in {outg_rec_nbs}!!!!!')\n",
    "    assert(0)"
   ]
  },
  {
   "cell_type": "code",
   "execution_count": null,
   "id": "bd751021",
   "metadata": {},
   "outputs": [],
   "source": [
    "for idx_ij, row_ij in be_df_i.iterrows():\n",
    "    print(idx_ij)\n",
    "    DOVSAudit.assert_overlap_DOVS_col_agreement_helper(\n",
    "        be_df_i_j=row_ij,\n",
    "        outg_rec_nb_i=outg_rec_nb_i, \n",
    "        ovrlp_pfx=ovrlp_pfx, \n",
    "        ovrlp_pct_cols=ovrlp_pct_cols, \n",
    "        overlap_DOVS_col=overlap_DOVS_col\n",
    "    )"
   ]
  },
  {
   "cell_type": "code",
   "execution_count": null,
   "id": "f4b1297e",
   "metadata": {},
   "outputs": [],
   "source": [
    "be_df_i_j[nonzero_cols]"
   ]
  },
  {
   "cell_type": "code",
   "execution_count": null,
   "id": "07486d79",
   "metadata": {},
   "outputs": [],
   "source": [
    "be_df_i_j[zero_cols].loc[be_df_i_j[zero_cols]>0].index.tolist()"
   ]
  },
  {
   "cell_type": "code",
   "execution_count": null,
   "id": "43a22772",
   "metadata": {},
   "outputs": [],
   "source": []
  },
  {
   "cell_type": "code",
   "execution_count": null,
   "id": "acb15576",
   "metadata": {},
   "outputs": [],
   "source": [
    "(be_df_i_j[zero_cols]==0)"
   ]
  },
  {
   "cell_type": "code",
   "execution_count": null,
   "id": "9eaf6dd8",
   "metadata": {},
   "outputs": [],
   "source": [
    "srs = pd.Series([0, 1, 0, 1])"
   ]
  },
  {
   "cell_type": "code",
   "execution_count": null,
   "id": "36493e31",
   "metadata": {},
   "outputs": [],
   "source": [
    "srs==0"
   ]
  },
  {
   "cell_type": "code",
   "execution_count": null,
   "id": "68901e45",
   "metadata": {},
   "outputs": [],
   "source": []
  },
  {
   "cell_type": "code",
   "execution_count": null,
   "id": "5bf7a88e",
   "metadata": {},
   "outputs": [],
   "source": []
  },
  {
   "cell_type": "code",
   "execution_count": null,
   "id": "64de04cb",
   "metadata": {},
   "outputs": [],
   "source": [
    "audit_1.best_ests_df_w_keep_info.iloc[7]"
   ]
  },
  {
   "cell_type": "code",
   "execution_count": null,
   "id": "19e67683",
   "metadata": {},
   "outputs": [],
   "source": [
    "be_df_i_j = audit_1.best_ests_df_w_keep_info.iloc[7].copy()"
   ]
  },
  {
   "cell_type": "code",
   "execution_count": null,
   "id": "82865d52",
   "metadata": {},
   "outputs": [],
   "source": [
    "assert(isinstance(be_df_i_j, pd.Series))\n",
    "#-------------------------\n",
    "ovrlp_DOVS = be_df_i_j[overlap_DOVS_col]\n",
    "#-------------------------\n",
    "nonzero_cols = [f'{ovrlp_pfx}{x}' for x in ovrlp_DOVS]\n",
    "zero_cols = [x for x in ovrlp_pct_cols if x not in nonzero_cols+[f'{ovrlp_pfx}{outg_rec_nb_i}']]"
   ]
  },
  {
   "cell_type": "code",
   "execution_count": null,
   "id": "49734cd4",
   "metadata": {},
   "outputs": [],
   "source": [
    "nonzero_cols"
   ]
  },
  {
   "cell_type": "code",
   "execution_count": null,
   "id": "2d73f9b0",
   "metadata": {},
   "outputs": [],
   "source": [
    "zero_cols"
   ]
  },
  {
   "cell_type": "code",
   "execution_count": null,
   "id": "99d48413",
   "metadata": {},
   "outputs": [],
   "source": [
    "outg_rec_nb_i"
   ]
  },
  {
   "cell_type": "code",
   "execution_count": null,
   "id": "af1d944e",
   "metadata": {},
   "outputs": [],
   "source": []
  },
  {
   "cell_type": "code",
   "execution_count": null,
   "id": "2444d2f7",
   "metadata": {},
   "outputs": [],
   "source": [
    "search_time_half_window=pd.Timedelta('24 hours')\n",
    "#-------------------------\n",
    "audit_2 = DOVSAudit(\n",
    "#     outg_rec_nb='13464904'\n",
    "    outg_rec_nb='13582332'\n",
    ")\n",
    "#-------------------------\n",
    "audit_2.load_dovs(\n",
    "    dovs_df           = None, \n",
    "    dovs_df_info_dict = None\n",
    ")\n",
    "#-------------------------\n",
    "audit_2.build_mp_df(\n",
    "    drop_mp_dups_fuzziness=pd.Timedelta('1 hour')\n",
    ")\n",
    "#-------------------------\n",
    "audit_2.run_ami_and_ede_daq(\n",
    "    search_time_half_window=search_time_half_window\n",
    ")\n",
    "#-------------------------\n",
    "audit_2.build_best_ests_df()\n",
    "#-------------------------\n"
   ]
  },
  {
   "cell_type": "code",
   "execution_count": null,
   "id": "b600aa8a",
   "metadata": {},
   "outputs": [],
   "source": [
    "audit_2.dovs_outg_t_beg_end"
   ]
  },
  {
   "cell_type": "code",
   "execution_count": null,
   "id": "a37d1e0c",
   "metadata": {},
   "outputs": [],
   "source": [
    "audit_1.best_ests_df_w_keep_info.iloc[7]"
   ]
  },
  {
   "cell_type": "code",
   "execution_count": null,
   "id": "5b05e0ed",
   "metadata": {},
   "outputs": [],
   "source": [
    "audit_1.best_ests_df_w_keep_info.iloc[:10]"
   ]
  },
  {
   "cell_type": "code",
   "execution_count": null,
   "id": "88de5237",
   "metadata": {},
   "outputs": [],
   "source": [
    "set(audit_1.best_ests_df_w_keep_info['overlap_DOVS'].sum())"
   ]
  },
  {
   "cell_type": "code",
   "execution_count": null,
   "id": "2b6917bb",
   "metadata": {},
   "outputs": [],
   "source": [
    "offenders = DOVSAudit.remove_prefix(inpt=offenders, prefix = ovrlp_pfx)"
   ]
  },
  {
   "cell_type": "code",
   "execution_count": null,
   "id": "7ad17cd5",
   "metadata": {},
   "outputs": [],
   "source": [
    "audit_2.dovs_df_i.iloc[0]['premise_nbs']"
   ]
  },
  {
   "cell_type": "code",
   "execution_count": null,
   "id": "2ac0ba17",
   "metadata": {},
   "outputs": [],
   "source": [
    "audit_2.ci_cmi_dovs"
   ]
  },
  {
   "cell_type": "code",
   "execution_count": null,
   "id": "ada1f49f",
   "metadata": {},
   "outputs": [],
   "source": [
    "audit_1.outg_rec_nb"
   ]
  },
  {
   "cell_type": "code",
   "execution_count": null,
   "id": "249ead9e",
   "metadata": {},
   "outputs": [],
   "source": []
  },
  {
   "cell_type": "code",
   "execution_count": null,
   "id": "f85743cf",
   "metadata": {},
   "outputs": [],
   "source": []
  },
  {
   "cell_type": "code",
   "execution_count": null,
   "id": "676a3a2f",
   "metadata": {},
   "outputs": [],
   "source": []
  },
  {
   "cell_type": "code",
   "execution_count": null,
   "id": "a0f28465",
   "metadata": {},
   "outputs": [],
   "source": [
    "# Should flag any events with entries satisfying the following:\n",
    "audit_1.best_ests_df_w_keep_info[\n",
    "    (audit_1.best_ests_df_w_keep_info['resolved']==True) & \n",
    "    (audit_1.best_ests_df_w_keep_info['resolved_details']!='Certain')\n",
    "]"
   ]
  },
  {
   "cell_type": "code",
   "execution_count": null,
   "id": "83669c8e",
   "metadata": {},
   "outputs": [],
   "source": [
    "Utilities.find_idxs_in_list_with_regex(lst=['qe\\/_13463901'], regex_pattern=r'qe\\/_.*')"
   ]
  },
  {
   "cell_type": "code",
   "execution_count": null,
   "id": "844b1a06",
   "metadata": {},
   "outputs": [],
   "source": []
  },
  {
   "cell_type": "code",
   "execution_count": null,
   "id": "f1bd2377",
   "metadata": {},
   "outputs": [],
   "source": [
    "FUCK"
   ]
  },
  {
   "cell_type": "code",
   "execution_count": null,
   "id": "f7af718c",
   "metadata": {},
   "outputs": [],
   "source": []
  },
  {
   "cell_type": "code",
   "execution_count": null,
   "id": "86a2b1cb",
   "metadata": {},
   "outputs": [],
   "source": []
  },
  {
   "cell_type": "code",
   "execution_count": null,
   "id": "79841454",
   "metadata": {},
   "outputs": [],
   "source": []
  },
  {
   "cell_type": "code",
   "execution_count": null,
   "id": "a4dea014",
   "metadata": {},
   "outputs": [],
   "source": []
  },
  {
   "cell_type": "code",
   "execution_count": null,
   "id": "ad4ff416",
   "metadata": {},
   "outputs": [],
   "source": []
  },
  {
   "cell_type": "code",
   "execution_count": null,
   "id": "e6636405",
   "metadata": {},
   "outputs": [],
   "source": []
  },
  {
   "cell_type": "code",
   "execution_count": null,
   "id": "26417826",
   "metadata": {},
   "outputs": [],
   "source": []
  },
  {
   "cell_type": "code",
   "execution_count": null,
   "id": "13c074ef",
   "metadata": {},
   "outputs": [],
   "source": [
    "# search_time_half_window=pd.Timedelta('24 hours')\n",
    "# #-------------------------\n",
    "# audit_2 = DOVSAudit(\n",
    "#     outg_rec_nb='13464322'\n",
    "# )\n",
    "# #-------------------------\n",
    "# audit_2.load_dovs(\n",
    "#     dovs_df           = None, \n",
    "#     dovs_df_info_dict = None\n",
    "# )\n",
    "# #-------------------------\n",
    "# audit_2.build_mp_df(\n",
    "#     drop_mp_dups_fuzziness=pd.Timedelta('1 hour')\n",
    "# )\n",
    "# #-------------------------\n",
    "# audit_2.run_ami_and_ede_daq(\n",
    "#     search_time_half_window=search_time_half_window\n",
    "# )\n",
    "# #-------------------------\n",
    "# audit_2.build_best_ests_df()\n",
    "# #-------------------------\n",
    "# audit_2.identify_overlaps(overlaps_dovs_sql_fcn=DOVSOutages_SQL.build_sql_outage)\n",
    "# #-------------------------\n",
    "# resolve_overlapping_audits_NEW(audit_a=audit_2)"
   ]
  },
  {
   "cell_type": "code",
   "execution_count": null,
   "id": "2b3c57c8",
   "metadata": {},
   "outputs": [],
   "source": [
    "search_time_half_window=pd.Timedelta('24 hours')\n",
    "#-------------------------\n",
    "audit_3 = DOVSAudit(\n",
    "    outg_rec_nb='13464549'\n",
    ")\n",
    "#-------------------------\n",
    "audit_3.load_dovs(\n",
    "    dovs_df           = None, \n",
    "    dovs_df_info_dict = None\n",
    ")\n",
    "#-------------------------\n",
    "audit_3.build_mp_df(\n",
    "    drop_mp_dups_fuzziness=pd.Timedelta('1 hour')\n",
    ")\n",
    "#-------------------------\n",
    "audit_3.run_ami_and_ede_daq(\n",
    "    search_time_half_window=search_time_half_window\n",
    ")\n",
    "#-------------------------\n",
    "audit_3.build_best_ests_df()\n",
    "#-------------------------\n",
    "audit_3.identify_overlaps(overlaps_dovs_sql_fcn=DOVSOutages_SQL.build_sql_outage)\n",
    "#-------------------------\n",
    "resolve_overlapping_audits_NEW(audit_a=audit_3)"
   ]
  },
  {
   "cell_type": "code",
   "execution_count": null,
   "id": "57fd2223",
   "metadata": {},
   "outputs": [],
   "source": [
    "search_time_half_window=pd.Timedelta('24 hours')\n",
    "#-------------------------\n",
    "audit_4 = DOVSAudit(\n",
    "    outg_rec_nb='13465188'\n",
    ")\n",
    "#-------------------------\n",
    "audit_4.load_dovs(\n",
    "    dovs_df           = None, \n",
    "    dovs_df_info_dict = None\n",
    ")\n",
    "#-------------------------\n",
    "audit_4.build_mp_df(\n",
    "    drop_mp_dups_fuzziness=pd.Timedelta('1 hour')\n",
    ")\n",
    "#-------------------------\n",
    "audit_4.run_ami_and_ede_daq(\n",
    "    search_time_half_window=search_time_half_window\n",
    ")\n",
    "#-------------------------\n",
    "audit_4.build_best_ests_df()\n",
    "#-------------------------\n",
    "audit_4.identify_overlaps(overlaps_dovs_sql_fcn=DOVSOutages_SQL.build_sql_outage)\n",
    "#-------------------------\n",
    "resolve_overlapping_audits_NEW(audit_a=audit_4)"
   ]
  },
  {
   "cell_type": "code",
   "execution_count": null,
   "id": "f41f68cf",
   "metadata": {},
   "outputs": [],
   "source": []
  },
  {
   "cell_type": "code",
   "execution_count": null,
   "id": "be568c35",
   "metadata": {},
   "outputs": [],
   "source": []
  },
  {
   "cell_type": "code",
   "execution_count": null,
   "id": "74106b30",
   "metadata": {},
   "outputs": [],
   "source": []
  },
  {
   "cell_type": "code",
   "execution_count": null,
   "id": "a951cd25",
   "metadata": {},
   "outputs": [],
   "source": []
  },
  {
   "cell_type": "code",
   "execution_count": null,
   "id": "923c5883",
   "metadata": {},
   "outputs": [],
   "source": [
    "fig, ax = Plot_General.default_subplots(fig_num=0)\n",
    "fig,ax = AMINonVee.plot_usage(\n",
    "    fig=fig, \n",
    "    ax=ax, \n",
    "    data=ami_df_i[\n",
    "        (ami_df_i['starttimeperiod_local']>pd.to_datetime('2023-07-03 12:00:00')) & \n",
    "        (ami_df_i['starttimeperiod_local']<pd.to_datetime('2023-07-04 14:00:00'))\n",
    "    ], \n",
    "    x='starttimeperiod_local', \n",
    "    y='value', \n",
    "    hue='aep_premise_nb'\n",
    ")\n",
    "ax.legend().set_visible(False)\n",
    "#-----\n",
    "ax.axvline(pd.to_datetime('2023-07-03 15:34:00'), color='lightblue', ls='--')\n",
    "ax.axvline(pd.to_datetime('2023-07-03 16:09:00'), color='lightblue', ls='--')\n",
    "#-----\n",
    "ax.axvline(pd.to_datetime('2023-07-03 16:09:00'), color='blue', ls='--')\n",
    "ax.axvline(pd.to_datetime('2023-07-03 19:07:00'), color='blue', ls='--')\n",
    "#-----\n",
    "ax.axvline(pd.to_datetime('2023-07-03 19:50:00'), color='green', ls='--')\n",
    "ax.axvline(pd.to_datetime('2023-07-03 21:11:00'), color='green', ls='--')\n",
    "#-----\n",
    "ax.axvline(pd.to_datetime('2023-07-04 04:04:00'), color='red', ls='--')\n",
    "ax.axvline(pd.to_datetime('2023-07-04 07:00:00'), color='red', ls='--')\n",
    "#-----\n",
    "ax.axvline(pd.to_datetime('2023-07-04 09:07:00'), color='orange', ls='--')\n",
    "ax.axvline(pd.to_datetime('2023-07-04 11:30:00'), color='orange', ls='--')"
   ]
  },
  {
   "cell_type": "code",
   "execution_count": null,
   "id": "86d28ae1",
   "metadata": {},
   "outputs": [],
   "source": []
  },
  {
   "cell_type": "code",
   "execution_count": null,
   "id": "7423d06d",
   "metadata": {},
   "outputs": [],
   "source": []
  },
  {
   "cell_type": "code",
   "execution_count": null,
   "id": "d682f28d",
   "metadata": {},
   "outputs": [],
   "source": [
    "audit_1b, fig, ax = demo_func(\n",
    "    outg_rec_nb='13464904', \n",
    "    search_time_half_window=pd.Timedelta('24 hours')\n",
    ")"
   ]
  },
  {
   "cell_type": "code",
   "execution_count": null,
   "id": "3004bf0d",
   "metadata": {},
   "outputs": [],
   "source": []
  },
  {
   "cell_type": "code",
   "execution_count": null,
   "id": "a2d56eb7",
   "metadata": {},
   "outputs": [],
   "source": [
    "audit_3b, fig, ax = demo_func(\n",
    "    outg_rec_nb='13464549', \n",
    "    search_time_half_window=pd.Timedelta('24 hours')\n",
    ")"
   ]
  },
  {
   "cell_type": "code",
   "execution_count": null,
   "id": "89769ee4",
   "metadata": {},
   "outputs": [],
   "source": [
    "audit_4b, fig, ax = demo_func(\n",
    "    outg_rec_nb='13465188', \n",
    "    search_time_half_window=pd.Timedelta('24 hours')\n",
    ")"
   ]
  },
  {
   "cell_type": "code",
   "execution_count": null,
   "id": "32fb5e65",
   "metadata": {},
   "outputs": [],
   "source": []
  },
  {
   "cell_type": "code",
   "execution_count": null,
   "id": "3b54d1d6",
   "metadata": {},
   "outputs": [],
   "source": []
  },
  {
   "cell_type": "code",
   "execution_count": null,
   "id": "541cd41e",
   "metadata": {},
   "outputs": [],
   "source": []
  },
  {
   "cell_type": "code",
   "execution_count": null,
   "id": "88bf1744",
   "metadata": {},
   "outputs": [],
   "source": []
  },
  {
   "cell_type": "code",
   "execution_count": null,
   "id": "b0055e9f",
   "metadata": {},
   "outputs": [],
   "source": []
  },
  {
   "cell_type": "code",
   "execution_count": null,
   "id": "57825e6d",
   "metadata": {},
   "outputs": [],
   "source": []
  },
  {
   "cell_type": "code",
   "execution_count": null,
   "id": "813e3e59",
   "metadata": {},
   "outputs": [],
   "source": []
  },
  {
   "cell_type": "code",
   "execution_count": null,
   "id": "2fc0015c",
   "metadata": {},
   "outputs": [],
   "source": []
  },
  {
   "cell_type": "code",
   "execution_count": null,
   "id": "cc5644cb",
   "metadata": {},
   "outputs": [],
   "source": [
    "# RULES:\n",
    "#   - If a sub-outage only overlaps with one DOVS event, it is decided\n",
    "#   - If a sub-outage does not overlap with any of the DOVS events, it remains with audit_a\n",
    "#   - If a sub-outage does not overlap with audit_a, but does with others, remove from audit_i"
   ]
  },
  {
   "cell_type": "code",
   "execution_count": null,
   "id": "3feebfd4",
   "metadata": {},
   "outputs": [],
   "source": [
    "# PN_i\n",
    "unq_idfr_cols = ['PN', 'i_outg']\n",
    "PN_col='PN'\n",
    "t_min_col='winner_min'\n",
    "t_max_col='winner_max'\n",
    "keep_col='keep'\n",
    "open_beg_col='open_beg'\n",
    "open_end_col='open_end'\n",
    "overlap_dovs_col = 'overlap_DOVS'\n",
    "\n",
    "outg_rec_nb_col_dovs='OUTG_REC_NB'\n",
    "dt_off_ts_full_col_dovs='DT_OFF_TS_FULL'\n",
    "dt_on_ts_col_dovs='DT_ON_TS'"
   ]
  },
  {
   "cell_type": "code",
   "execution_count": null,
   "id": "31320e1b",
   "metadata": {},
   "outputs": [],
   "source": [
    "be_df_a"
   ]
  },
  {
   "cell_type": "code",
   "execution_count": null,
   "id": "3eb26d76",
   "metadata": {},
   "outputs": [],
   "source": []
  },
  {
   "cell_type": "code",
   "execution_count": null,
   "id": "1f4dc45d",
   "metadata": {},
   "outputs": [],
   "source": [
    "list(set(be_df_a['overlap_DOVS'].sum()))"
   ]
  },
  {
   "cell_type": "code",
   "execution_count": null,
   "id": "ea046d6c",
   "metadata": {},
   "outputs": [],
   "source": [
    "list(set(be_df_a['overlap_times'].sum()))"
   ]
  },
  {
   "cell_type": "code",
   "execution_count": null,
   "id": "9d711f98",
   "metadata": {},
   "outputs": [],
   "source": [
    "dovs = DOVSOutages(\n",
    "    df_construct_type=DFConstructType.kRunSqlQuery, \n",
    "    contstruct_df_args=None, \n",
    "    init_df_in_constructor=True,\n",
    "    build_sql_function=DOVSOutages_SQL.build_sql_outage, \n",
    "    build_sql_function_kwargs=dict(\n",
    "        premise_nbs=PN_i, \n",
    "        outg_rec_nbs=list(set(be_df_a['overlap_DOVS'].sum()))+[audit_a.outg_rec_nb], \n",
    "        include_premise=True\n",
    "    ), \n",
    "    build_consolidated=False\n",
    ")\n",
    "dovs_df = dovs.df.copy()"
   ]
  },
  {
   "cell_type": "code",
   "execution_count": null,
   "id": "1db037a8",
   "metadata": {},
   "outputs": [],
   "source": [
    "dovs_df"
   ]
  },
  {
   "cell_type": "code",
   "execution_count": null,
   "id": "41e7d561",
   "metadata": {},
   "outputs": [],
   "source": [
    "be_df_a"
   ]
  },
  {
   "cell_type": "code",
   "execution_count": null,
   "id": "ac2dbb4d",
   "metadata": {},
   "outputs": [],
   "source": [
    "audit_a.best_ests_df_w_keep_info"
   ]
  },
  {
   "cell_type": "code",
   "execution_count": null,
   "id": "fc98326a",
   "metadata": {},
   "outputs": [],
   "source": [
    "# PN_i\n",
    "unq_idfr_cols = ['PN', 'i_outg']\n",
    "PN_col='PN'\n",
    "t_min_col='winner_min'\n",
    "t_max_col='winner_max'\n",
    "keep_col='keep'\n",
    "open_beg_col='open_beg'\n",
    "open_end_col='open_end'\n",
    "overlap_dovs_col = 'overlap_DOVS'\n",
    "\n",
    "outg_rec_nb_col_dovs='OUTG_REC_NB'\n",
    "dt_off_ts_full_col_dovs='DT_OFF_TS_FULL'\n",
    "dt_on_ts_col_dovs='DT_ON_TS'"
   ]
  },
  {
   "cell_type": "code",
   "execution_count": null,
   "id": "820d882a",
   "metadata": {},
   "outputs": [],
   "source": []
  },
  {
   "cell_type": "code",
   "execution_count": null,
   "id": "968c6a16",
   "metadata": {},
   "outputs": [],
   "source": [
    "update_df = DOVSAudit.set_initial_to_adjust_df(\n",
    "    be_df       = audit_a.best_ests_df_w_keep_info.copy(), \n",
    "    be_df_cols  = None, \n",
    "    addtnl_cols = None\n",
    ")\n",
    "#----------------------------------------------------------------------------------------------------\n",
    "outg_rec_nbs = list(set(update_df[overlap_dovs_col].sum()))+[audit_a.outg_rec_nb]\n",
    "#-------------------------\n",
    "if(\n",
    "    dovs_df is None or \n",
    "    set(outg_rec_nbs).difference(set(dovs_df[outg_rec_nb_col_dovs].unique().tolist())) != set()\n",
    "):\n",
    "    dovs = DOVSOutages(\n",
    "        df_construct_type=DFConstructType.kRunSqlQuery, \n",
    "        contstruct_df_args=None, \n",
    "        init_df_in_constructor=True,\n",
    "        build_sql_function=DOVSOutages_SQL.build_sql_outage, \n",
    "        build_sql_function_kwargs=dict(\n",
    "            premise_nbs=PN_i, \n",
    "            outg_rec_nbs=outg_rec_nbs, \n",
    "            include_premise=True\n",
    "        ), \n",
    "        build_consolidated=False\n",
    "    )\n",
    "    dovs_df = dovs.df.copy()\n",
    "#-------------------------\n",
    "# If dovs_df supplied, don't want to make changes outside of this function, so copy\n",
    "dovs_df = dovs_df.copy()\n",
    "assert(set(outg_rec_nbs).difference(set(dovs_df[outg_rec_nb_col_dovs].unique().tolist()))==set())\n",
    "#-----\n",
    "dovs_df = dovs_df[dovs_df[outg_rec_nb_col_dovs].isin(outg_rec_nbs)]\n",
    "dovs_df = dovs_df[[outg_rec_nb_col_dovs, dt_off_ts_full_col_dovs, dt_on_ts_col_dovs]].drop_duplicates()\n",
    "#-----\n",
    "# There should only be one entry in dovs_df for each outg_rec_nb\n",
    "assert(dovs_df[outg_rec_nb_col_dovs].nunique()==dovs_df.shape[0])\n",
    "#----------------------------------------------------------------------------------------------------\n",
    "# Build new columns, one for each outg_rec_nb, housing the percent overlap of the found interval for each row\n",
    "#   and the possibly overlapping DOVS events\n",
    "#-----\n",
    "ovrlp_pfx = Utilities.generate_random_string(str_len=4)+'_'\n",
    "assert(not col.startswith(ovrlp_pfx) for col in update_df.columns.tolist())\n",
    "#-----\n",
    "for idx_i, dovs_i in dovs_df.iterrows():\n",
    "    outg_rec_nb_i = dovs_i[outg_rec_nb_col_dovs]\n",
    "    update_df[f'{ovrlp_pfx}{outg_rec_nb_i}'] = update_df.apply(\n",
    "        lambda x: DOVSAudit.get_overlap_interval_len(\n",
    "            intrvl_1 = [x[t_min_col], x[t_max_col]], \n",
    "            intrvl_2 = [dovs_i[dt_off_ts_full_col_dovs], dovs_i[dt_on_ts_col_dovs]], \n",
    "            norm_by=2\n",
    "        ), \n",
    "        axis=1\n",
    "    )\n",
    "#-------------------------\n",
    "ovrlp_pct_cols = [x for x in update_df.columns.tolist() if x.startswith(ovrlp_pfx)]\n",
    "assert(len(ovrlp_pct_cols)==len(outg_rec_nbs))\n",
    "\n",
    "#----------------------------------------------------------------------------------------------------\n",
    "# RULES:\n",
    "#   - If a sub-outage only overlaps with one DOVS event, it is decided\n",
    "#   - If a sub-outage does not overlap with any of the DOVS events, it remains with audit_a\n",
    "#   - If a sub-outage does not overlap with audit_a, but does with others, remove from audit_i\n",
    "#-------------------------\n",
    "# There might be some clever, pythonic, way to achieve this (e.g., can definitely identify via calls\n",
    "#   like (update_df[ovrlp_pct_cols]>0).sum(axis=1) and (update_df[ovrlp_pct_cols]==0).sum(axis=1)).\n",
    "# But, the operations are light and simple, so brute-force is easier and fine in this case\n",
    "#-------------------------\n",
    "# Need unique indices, so I can safely assign using .loc\n",
    "# If one did not want to do the .reset_index call below, one could iterate over rows using \n",
    "#   for i_row in range(update_df.shape[0]) in the for loop below\n",
    "if update_df.index.nunique()<update_df.shape[0]:\n",
    "    update_df = update_df.reset_index(drop=True)\n",
    "#-----\n",
    "for idx_i, row_i in update_df.iterrows():\n",
    "    gt0_srs = row_i[ovrlp_pct_cols]>0\n",
    "    eq0_srs = row_i[ovrlp_pct_cols]==0\n",
    "    #-----\n",
    "    # If a sub-outage only overlaps with one DOVS event, it is decided\n",
    "    if gt0_srs.sum()==1:\n",
    "        assert(len(row_i[overlap_dovs_col])<=1)\n",
    "        parent_dovs = gt0_srs[gt0_srs==True].index\n",
    "        assert(len(parent_dovs)==1)\n",
    "        parent_dovs = remove_prefix(\n",
    "            inpt   = parent_dovs[0], \n",
    "            prefix = ovrlp_pfx\n",
    "        )\n",
    "        #-------------------------\n",
    "        update_df.loc[idx_i, 'resolved']         = True\n",
    "        update_df.loc[idx_i, 'resolved_details'] = 'Certain'\n",
    "        if parent_dovs == audit_a.outg_rec_nb:\n",
    "            update_df.loc[idx_i, 'adjustment']   = None\n",
    "        else:\n",
    "            update_df.loc[idx_i, 'adjustment']   = 'remove'\n",
    "    # If a sub-outage does not overlap with any of the DOVS events, it remains with audit_a\n",
    "    elif eq0_srs.all():\n",
    "        assert(len(row_i[overlap_dovs_col])==0)\n",
    "        update_df.loc[idx_i, 'resolved']         = True\n",
    "        update_df.loc[idx_i, 'resolved_details'] = 'Certain'\n",
    "        update_df.loc[idx_i, 'adjustment']       = None\n",
    "    # Sub-outage overlaps with multipl DOVS events......\n",
    "    else:\n",
    "        assert(gt0_srs.sum()>1)\n",
    "        assert(\n",
    "            len(row_i[overlap_dovs_col])==gt0_srs.sum() or \n",
    "            len(row_i[overlap_dovs_col])==gt0_srs.sum()-1\n",
    "        )\n",
    "        #-------------------------\n",
    "        ovrlp_outg_rec_nbs = remove_prefix(\n",
    "            inpt   = gt0_srs[gt0_srs==True].index.tolist(), \n",
    "            prefix = ovrlp_pfx\n",
    "        )\n",
    "        #-------------------------\n",
    "        # ovrlp_outg_rec_nbs should contain all entries from row_i[overlap_dovs_col] and possibly audit_a.outg_rec_nb\n",
    "        assert(set(row_i[overlap_dovs_col]).difference(set(ovrlp_outg_rec_nbs))==set())\n",
    "        #-------------------------\n",
    "        # If audit_a.outg_rec_nb does not overlap with the sub-outage, no further analysis is needed,\n",
    "        #   this sub-outage simply needs to be removed from audit_i\n",
    "        if audit_a.outg_rec_nb not in ovrlp_outg_rec_nbs:\n",
    "            update_df.loc[idx_i, 'resolved']         = True\n",
    "            update_df.loc[idx_i, 'resolved_details'] = 'Certain'\n",
    "            update_df.loc[idx_i, 'adjustment']       = 'remove'\n",
    "        # If audit_a.outg_rec_nb does overlap sub-outage (with others), split using\n",
    "        #   split_outage_interval_across_multiple_overlapping_dovs\n",
    "        else:\n",
    "            outg_intrvl = [row_i[t_min_col], row_i[t_max_col]]\n",
    "            ovrlp_outg_rec_nbs = remove_prefix(\n",
    "                inpt   = gt0_srs[gt0_srs==True].index.tolist(), \n",
    "                prefix = ovrlp_pfx\n",
    "            )\n",
    "            split_df = split_outage_interval_across_multiple_overlapping_dovs(\n",
    "                outg_intrvl = outg_intrvl, \n",
    "                outg_rec_nbs = ovrlp_outg_rec_nbs, \n",
    "                dovs_df=None, \n",
    "                outg_rec_nb_col='OUTG_REC_NB', \n",
    "                dt_off_ts_full_col='DT_OFF_TS_FULL', \n",
    "                dt_on_ts_col='DT_ON_TS'\n",
    "            )\n",
    "            #-------------------------\n",
    "            assert(audit_a.outg_rec_nb in split_df['OUTG_REC_NB'].unique().tolist())\n",
    "            adjstmnt_i = split_df[split_df['OUTG_REC_NB']==audit_a.outg_rec_nb]\n",
    "            assert(adjstmnt_i.shape[0]==1)\n",
    "            #-----\n",
    "            update_df.loc[idx_i, 'resolved']         = True\n",
    "            update_df.loc[idx_i, 'resolved_details'] = 'Uncertain'\n",
    "            update_df.loc[idx_i, 'adjustment']       = 'adjust'\n",
    "            #-----\n",
    "            update_df.loc[idx_i, t_min_col] = adjstmnt_i.iloc[0]['intrvl_min']\n",
    "            update_df.loc[idx_i, t_max_col] = adjstmnt_i.iloc[0]['intrvl_max']\n",
    "#-------------------------\n",
    "update_df = update_df.drop(columns=ovrlp_pct_cols)"
   ]
  },
  {
   "cell_type": "code",
   "execution_count": null,
   "id": "4805c498",
   "metadata": {},
   "outputs": [],
   "source": [
    "update_df"
   ]
  },
  {
   "cell_type": "code",
   "execution_count": null,
   "id": "e08741d6",
   "metadata": {},
   "outputs": [],
   "source": [
    "update_df[update_df['keep']==True]"
   ]
  },
  {
   "cell_type": "code",
   "execution_count": null,
   "id": "71b3846d",
   "metadata": {},
   "outputs": [],
   "source": [
    "update_df[update_df['keep']!=True]"
   ]
  },
  {
   "cell_type": "code",
   "execution_count": null,
   "id": "db237075",
   "metadata": {},
   "outputs": [],
   "source": [
    "update_df[update_df['adjustment']!='remove']"
   ]
  },
  {
   "cell_type": "code",
   "execution_count": null,
   "id": "bc34fe44",
   "metadata": {},
   "outputs": [],
   "source": []
  },
  {
   "cell_type": "code",
   "execution_count": null,
   "id": "dc8724fb",
   "metadata": {},
   "outputs": [],
   "source": []
  },
  {
   "cell_type": "code",
   "execution_count": null,
   "id": "6cf8edd9",
   "metadata": {},
   "outputs": [],
   "source": [
    "be_df_cols = unq_idfr_cols + list(set([t_min_col, t_max_col, open_beg_col, open_end_col, overlap_dovs_col]).difference(set(unq_idfr_cols)))\n",
    "assert(set(be_df_cols).difference(set(be_df_a.columns.tolist()))==set())\n",
    "return_cols = be_df_cols + ['adjustment', 'resolved', 'resolved_details']\n",
    "#-------------------------\n",
    "update_df = DOVSAudit.set_initial_to_adjust_df(\n",
    "    be_df       = be_df_a.copy(), \n",
    "    be_df_cols  = be_df_cols, \n",
    "    addtnl_cols = None\n",
    ")\n",
    "#----------------------------------------------------------------------------------------------------\n",
    "outg_rec_nbs = list(set(update_df[overlap_dovs_col].sum()))+[audit_a.outg_rec_nb]\n",
    "#-------------------------\n",
    "if(\n",
    "    dovs_df is None or \n",
    "    set(outg_rec_nbs).difference(set(dovs_df[outg_rec_nb_col_dovs].unique().tolist())) != set()\n",
    "):\n",
    "    dovs = DOVSOutages(\n",
    "        df_construct_type=DFConstructType.kRunSqlQuery, \n",
    "        contstruct_df_args=None, \n",
    "        init_df_in_constructor=True,\n",
    "        build_sql_function=DOVSOutages_SQL.build_sql_outage, \n",
    "        build_sql_function_kwargs=dict(\n",
    "            premise_nbs=PN_i, \n",
    "            outg_rec_nbs=outg_rec_nbs, \n",
    "            include_premise=True\n",
    "        ), \n",
    "        build_consolidated=False\n",
    "    )\n",
    "    dovs_df = dovs.df.copy()\n",
    "#-------------------------\n",
    "# If dovs_df supplied, don't want to make changes outside of this function, so copy\n",
    "dovs_df = dovs_df.copy()\n",
    "assert(set(outg_rec_nbs).difference(set(dovs_df[outg_rec_nb_col_dovs].unique().tolist()))==set())\n",
    "#-----\n",
    "dovs_df = dovs_df[dovs_df[outg_rec_nb_col_dovs].isin(outg_rec_nbs)]\n",
    "dovs_df = dovs_df[[outg_rec_nb_col_dovs, dt_off_ts_full_col_dovs, dt_on_ts_col_dovs]].drop_duplicates()\n",
    "#-----\n",
    "# There should only be one entry in dovs_df for each outg_rec_nb\n",
    "assert(dovs_df[outg_rec_nb_col_dovs].nunique()==dovs_df.shape[0])\n",
    "#----------------------------------------------------------------------------------------------------\n",
    "# Build new columns, one for each outg_rec_nb, housing the percent overlap of the found interval for each row\n",
    "#   and the possibly overlapping DOVS events\n",
    "#-----\n",
    "ovrlp_pfx = Utilities.generate_random_string(str_len=4)+'_'\n",
    "assert(not col.startswith(ovrlp_pfx) for col in update_df.columns.tolist())\n",
    "#-----\n",
    "for idx_i, dovs_i in dovs_df.iterrows():\n",
    "    outg_rec_nb_i = dovs_i[outg_rec_nb_col_dovs]\n",
    "    update_df[f'{ovrlp_pfx}{outg_rec_nb_i}'] = update_df.apply(\n",
    "        lambda x: DOVSAudit.get_overlap_interval_len(\n",
    "            intrvl_1 = [x[t_min_col], x[t_max_col]], \n",
    "            intrvl_2 = [dovs_i[dt_off_ts_full_col_dovs], dovs_i[dt_on_ts_col_dovs]], \n",
    "            norm_by=2\n",
    "        ), \n",
    "        axis=1\n",
    "    )\n",
    "#-------------------------\n",
    "ovrlp_pct_cols = [x for x in update_df.columns.tolist() if x.startswith(ovrlp_pfx)]\n",
    "assert(len(ovrlp_pct_cols)==len(outg_rec_nbs))\n",
    "\n",
    "#----------------------------------------------------------------------------------------------------\n",
    "# RULES:\n",
    "#   - If a sub-outage only overlaps with one DOVS event, it is decided\n",
    "#   - If a sub-outage does not overlap with any of the DOVS events, it remains with audit_a\n",
    "#   - If a sub-outage does not overlap with audit_a, but does with others, remove from audit_i\n",
    "#-------------------------\n",
    "# There might be some clever, pythonic, way to achieve this (e.g., can definitely identify via calls\n",
    "#   like (update_df[ovrlp_pct_cols]>0).sum(axis=1) and (update_df[ovrlp_pct_cols]==0).sum(axis=1)).\n",
    "# But, the operations are light and simple, so brute-force is easier and fine in this case\n",
    "#-------------------------\n",
    "# Need unique indices, so I can safely assign using .loc\n",
    "# If one did not want to do the .reset_index call below, one could iterate over rows using \n",
    "#   for i_row in range(update_df.shape[0]) in the for loop below\n",
    "if update_df.index.nunique()<update_df.shape[0]:\n",
    "    update_df = update_df.reset_index(drop=True)\n",
    "#-----\n",
    "for idx_i, row_i in update_df.iterrows():\n",
    "    gt0_srs = row_i[ovrlp_pct_cols]>0\n",
    "    eq0_srs = row_i[ovrlp_pct_cols]==0\n",
    "    #-----\n",
    "    # If a sub-outage only overlaps with one DOVS event, it is decided\n",
    "    if gt0_srs.sum()==1:\n",
    "        assert(len(row_i[overlap_dovs_col])<=1)\n",
    "        parent_dovs = gt0_srs[gt0_srs==True].index\n",
    "        assert(len(parent_dovs)==1)\n",
    "        parent_dovs = remove_prefix(\n",
    "            inpt   = parent_dovs[0], \n",
    "            prefix = ovrlp_pfx\n",
    "        )\n",
    "        #-------------------------\n",
    "        update_df.loc[idx_i, 'resolved']         = True\n",
    "        update_df.loc[idx_i, 'resolved_details'] = 'Certain'\n",
    "        if parent_dovs == audit_a.outg_rec_nb:\n",
    "            update_df.loc[idx_i, 'adjustment']   = None\n",
    "        else:\n",
    "            update_df.loc[idx_i, 'adjustment']   = 'remove'\n",
    "    # If a sub-outage does not overlap with any of the DOVS events, it remains with audit_a\n",
    "    elif eq0_srs.all():\n",
    "        assert(len(row_i[overlap_dovs_col])==0)\n",
    "        update_df.loc[idx_i, 'resolved']         = True\n",
    "        update_df.loc[idx_i, 'resolved_details'] = 'Certain'\n",
    "        update_df.loc[idx_i, 'adjustment']       = None\n",
    "    # Sub-outage overlaps with multipl DOVS events......\n",
    "    else:\n",
    "        assert(gt0_srs.sum()>1)\n",
    "        assert(\n",
    "            len(row_i[overlap_dovs_col])==gt0_srs.sum() or \n",
    "            len(row_i[overlap_dovs_col])==gt0_srs.sum()-1\n",
    "        )\n",
    "        #-------------------------\n",
    "        ovrlp_outg_rec_nbs = remove_prefix(\n",
    "            inpt   = gt0_srs[gt0_srs==True].index.tolist(), \n",
    "            prefix = ovrlp_pfx\n",
    "        )\n",
    "        #-------------------------\n",
    "        # ovrlp_outg_rec_nbs should contain all entries from row_i[overlap_dovs_col] and possibly audit_a.outg_rec_nb\n",
    "        assert(set(row_i[overlap_dovs_col]).difference(set(ovrlp_outg_rec_nbs))==set())\n",
    "        #-------------------------\n",
    "        # If audit_a.outg_rec_nb does not overlap with the sub-outage, no further analysis is needed,\n",
    "        #   this sub-outage simply needs to be removed from audit_i\n",
    "        if audit_a.outg_rec_nb not in ovrlp_outg_rec_nbs:\n",
    "            update_df.loc[idx_i, 'resolved']         = True\n",
    "            update_df.loc[idx_i, 'resolved_details'] = 'Certain'\n",
    "            update_df.loc[idx_i, 'adjustment']       = 'remove'\n",
    "        # If audit_a.outg_rec_nb does overlap sub-outage (with others), split using\n",
    "        #   split_outage_interval_across_multiple_overlapping_dovs\n",
    "        else:\n",
    "            outg_intrvl = [row_i[t_min_col], row_i[t_max_col]]\n",
    "            ovrlp_outg_rec_nbs = remove_prefix(\n",
    "                inpt   = gt0_srs[gt0_srs==True].index.tolist(), \n",
    "                prefix = ovrlp_pfx\n",
    "            )\n",
    "            split_df = split_outage_interval_across_multiple_overlapping_dovs(\n",
    "                outg_intrvl = outg_intrvl, \n",
    "                outg_rec_nbs = ovrlp_outg_rec_nbs, \n",
    "                dovs_df=None, \n",
    "                outg_rec_nb_col='OUTG_REC_NB', \n",
    "                dt_off_ts_full_col='DT_OFF_TS_FULL', \n",
    "                dt_on_ts_col='DT_ON_TS'\n",
    "            )\n",
    "            #-------------------------\n",
    "            assert(audit_a.outg_rec_nb in split_df['OUTG_REC_NB'].unique().tolist())\n",
    "            adjstmnt_i = split_df[split_df['OUTG_REC_NB']==audit_a.outg_rec_nb]\n",
    "            assert(adjstmnt_i.shape[0]==1)\n",
    "            #-----\n",
    "            update_df.loc[idx_i, 'resolved']         = True\n",
    "            update_df.loc[idx_i, 'resolved_details'] = 'Uncertain'\n",
    "            update_df.loc[idx_i, 'adjustment']       = 'adjust'\n",
    "            #-----\n",
    "            update_df.loc[idx_i, t_min_col] = adjstmnt_i.iloc[0]['intrvl_min']\n",
    "            update_df.loc[idx_i, t_max_col] = adjstmnt_i.iloc[0]['intrvl_max']\n",
    "#-------------------------\n",
    "update_df = update_df.drop(columns=ovrlp_pct_cols)"
   ]
  },
  {
   "cell_type": "code",
   "execution_count": null,
   "id": "2162c37a",
   "metadata": {},
   "outputs": [],
   "source": [
    "row_i = update_df.iloc[0]"
   ]
  },
  {
   "cell_type": "code",
   "execution_count": null,
   "id": "a7946906",
   "metadata": {},
   "outputs": [],
   "source": [
    "len(row_i[overlap_dovs_col])"
   ]
  },
  {
   "cell_type": "code",
   "execution_count": null,
   "id": "33625477",
   "metadata": {},
   "outputs": [],
   "source": []
  },
  {
   "cell_type": "code",
   "execution_count": null,
   "id": "0af7a77d",
   "metadata": {},
   "outputs": [],
   "source": []
  },
  {
   "cell_type": "code",
   "execution_count": null,
   "id": "1bb8b17b",
   "metadata": {},
   "outputs": [],
   "source": []
  },
  {
   "cell_type": "code",
   "execution_count": null,
   "id": "5c73895f",
   "metadata": {},
   "outputs": [],
   "source": []
  },
  {
   "cell_type": "code",
   "execution_count": null,
   "id": "07381e76",
   "metadata": {},
   "outputs": [],
   "source": []
  },
  {
   "cell_type": "code",
   "execution_count": null,
   "id": "f2e9de45",
   "metadata": {},
   "outputs": [],
   "source": []
  },
  {
   "cell_type": "code",
   "execution_count": null,
   "id": "b4ab68b4",
   "metadata": {},
   "outputs": [],
   "source": []
  },
  {
   "cell_type": "code",
   "execution_count": null,
   "id": "3153abfb",
   "metadata": {},
   "outputs": [],
   "source": []
  },
  {
   "cell_type": "code",
   "execution_count": null,
   "id": "4d955d30",
   "metadata": {},
   "outputs": [],
   "source": []
  },
  {
   "cell_type": "code",
   "execution_count": null,
   "id": "75d06c5b",
   "metadata": {},
   "outputs": [],
   "source": []
  },
  {
   "cell_type": "code",
   "execution_count": null,
   "id": "d40061f9",
   "metadata": {},
   "outputs": [],
   "source": []
  },
  {
   "cell_type": "code",
   "execution_count": null,
   "id": "d9b3b7be",
   "metadata": {},
   "outputs": [],
   "source": []
  },
  {
   "cell_type": "code",
   "execution_count": null,
   "id": "bf30f14b",
   "metadata": {},
   "outputs": [],
   "source": []
  },
  {
   "cell_type": "code",
   "execution_count": null,
   "id": "fa5db244",
   "metadata": {},
   "outputs": [],
   "source": []
  },
  {
   "cell_type": "code",
   "execution_count": null,
   "id": "97892016",
   "metadata": {},
   "outputs": [],
   "source": []
  },
  {
   "cell_type": "code",
   "execution_count": null,
   "id": "7db55d00",
   "metadata": {},
   "outputs": [],
   "source": []
  },
  {
   "cell_type": "code",
   "execution_count": null,
   "id": "a2262d30",
   "metadata": {},
   "outputs": [],
   "source": []
  },
  {
   "cell_type": "code",
   "execution_count": null,
   "id": "69865228",
   "metadata": {},
   "outputs": [],
   "source": []
  },
  {
   "cell_type": "code",
   "execution_count": null,
   "id": "013760a8",
   "metadata": {},
   "outputs": [],
   "source": []
  },
  {
   "cell_type": "code",
   "execution_count": null,
   "id": "aa33c207",
   "metadata": {},
   "outputs": [],
   "source": []
  },
  {
   "cell_type": "code",
   "execution_count": null,
   "id": "fb96e886",
   "metadata": {},
   "outputs": [],
   "source": []
  },
  {
   "cell_type": "code",
   "execution_count": null,
   "id": "e24f257c",
   "metadata": {},
   "outputs": [],
   "source": []
  },
  {
   "cell_type": "code",
   "execution_count": null,
   "id": "f1c3668f",
   "metadata": {},
   "outputs": [],
   "source": []
  },
  {
   "cell_type": "code",
   "execution_count": null,
   "id": "9f155a32",
   "metadata": {},
   "outputs": [],
   "source": []
  },
  {
   "cell_type": "code",
   "execution_count": null,
   "id": "1e1a29f2",
   "metadata": {},
   "outputs": [],
   "source": []
  },
  {
   "cell_type": "code",
   "execution_count": null,
   "id": "fef790dc",
   "metadata": {},
   "outputs": [],
   "source": [
    "# IMPORTANT: Since resolved is initiated to np.nan, one cannot simply take \n",
    "#              audit_a1.best_ests_df_w_keep_info['resolved'].sum(), but must instead do the following\n",
    "(audit_a1.best_ests_df_w_keep_info['resolved']==True).sum()"
   ]
  },
  {
   "cell_type": "code",
   "execution_count": null,
   "id": "c027e2c7",
   "metadata": {},
   "outputs": [],
   "source": []
  },
  {
   "cell_type": "code",
   "execution_count": null,
   "id": "7f29af36",
   "metadata": {},
   "outputs": [],
   "source": []
  },
  {
   "cell_type": "code",
   "execution_count": null,
   "id": "0cf17197",
   "metadata": {},
   "outputs": [],
   "source": []
  },
  {
   "cell_type": "code",
   "execution_count": null,
   "id": "3b2ceb79",
   "metadata": {},
   "outputs": [],
   "source": []
  },
  {
   "cell_type": "code",
   "execution_count": null,
   "id": "a7678ba9",
   "metadata": {},
   "outputs": [],
   "source": [
    "dev_PNs = audit_i.best_ests_df['PN'].unique().tolist()\n",
    "\n",
    "dovs_dev = DOVSOutages(\n",
    "    df_construct_type=DFConstructType.kRunSqlQuery, \n",
    "    contstruct_df_args=None, \n",
    "    init_df_in_constructor=True,\n",
    "    build_sql_function=DOVSOutages_SQL.build_sql_std_outage, \n",
    "    build_sql_function_kwargs=dict(\n",
    "        premise_nbs=dev_PNs, \n",
    "        field_to_split='premise_nbs', \n",
    "        include_premise=True\n",
    "    ), \n",
    "    build_consolidated=False\n",
    ")\n",
    "dovs_df_dev = dovs_dev.df.copy()"
   ]
  },
  {
   "cell_type": "code",
   "execution_count": null,
   "id": "1d84873e",
   "metadata": {},
   "outputs": [],
   "source": [
    "natsorted(dovs_df_dev['DT_OFF_TS_FULL'].unique().tolist())"
   ]
  },
  {
   "cell_type": "code",
   "execution_count": null,
   "id": "bf87a595",
   "metadata": {},
   "outputs": [],
   "source": [
    "audit_i.dovs_outg_t_beg_end"
   ]
  },
  {
   "cell_type": "code",
   "execution_count": null,
   "id": "c36b71c9",
   "metadata": {},
   "outputs": [],
   "source": [
    "print(dovs_dev.get_sql_statement())"
   ]
  },
  {
   "cell_type": "code",
   "execution_count": null,
   "id": "09c7490f",
   "metadata": {},
   "outputs": [],
   "source": []
  },
  {
   "cell_type": "code",
   "execution_count": null,
   "id": "5f327c7d",
   "metadata": {},
   "outputs": [],
   "source": [
    "dovs_dev = DOVSOutages(\n",
    "    df_construct_type=DFConstructType.kRunSqlQuery, \n",
    "    contstruct_df_args=None, \n",
    "    init_df_in_constructor=True,\n",
    "    build_sql_function=DOVSOutages_SQL.build_sql_std_outage, \n",
    "    build_sql_function_kwargs=dict(\n",
    "        premise_nbs=['964325483'], \n",
    "        field_to_split='premise_nbs', \n",
    "        include_premise=True\n",
    "    ), \n",
    "    build_consolidated=False\n",
    ")\n",
    "dovs_df_dev = dovs_dev.df.copy()"
   ]
  },
  {
   "cell_type": "code",
   "execution_count": null,
   "id": "82e5180d",
   "metadata": {},
   "outputs": [],
   "source": [
    "natsorted(dovs_df_dev['DT_OFF_TS_FULL'].unique().tolist())"
   ]
  },
  {
   "cell_type": "code",
   "execution_count": null,
   "id": "00c07d0f",
   "metadata": {},
   "outputs": [],
   "source": [
    "dovs_df_dev.sort_values(by=['DT_OFF_TS']).tail(10)"
   ]
  },
  {
   "cell_type": "code",
   "execution_count": null,
   "id": "90c694d2",
   "metadata": {},
   "outputs": [],
   "source": [
    "audit_i.outg_rec_nb"
   ]
  },
  {
   "cell_type": "code",
   "execution_count": null,
   "id": "86c33f03",
   "metadata": {},
   "outputs": [],
   "source": []
  },
  {
   "cell_type": "code",
   "execution_count": null,
   "id": "554daa57",
   "metadata": {},
   "outputs": [],
   "source": []
  },
  {
   "cell_type": "code",
   "execution_count": null,
   "id": "0951be17",
   "metadata": {},
   "outputs": [],
   "source": []
  },
  {
   "cell_type": "code",
   "execution_count": null,
   "id": "0c043baf",
   "metadata": {},
   "outputs": [],
   "source": [
    "def remove_overlap_from_interval_w_split(\n",
    "    interval, \n",
    "    overlap, \n",
    "    split_interval=False\n",
    "):\n",
    "    r\"\"\"\n",
    "    Not really used anywhere.\n",
    "    This is how remove_overlap_from_interval was originally written, but I reduced the functionality to\n",
    "      simplify things.\n",
    "    So, this exists in case I desire the functionality later.\n",
    "    \n",
    "    Given an input interval and possible overlap interval, remove overlap from the interval.\n",
    "    Both interval and overlap should be lists/tuples of length 2 whose elements represent the beginning and\n",
    "      ending of the interval.\n",
    "    \n",
    "    By default, this will not split the input interval.\n",
    "        If the overlap does split the interval, the portion of interval occurring prior to the overlap will be returned.\n",
    "        The intent of this function is to remove any DOVS events overlapping with the algorithm outage times.\n",
    "        Therefore, in such a split situation, we would not want anything after the first overlap.\n",
    "    --------------------------------------------------\n",
    "    There are basically 4 distinct situations\n",
    "      1. overlap completely encompasses interval \n",
    "           ==> returned interval should be empty\n",
    "      2. interval completely encompasses overlap\n",
    "           - if split_interval==True: \n",
    "                 return the two sub-intervals on either side of overlap\n",
    "           - if split_interval==False: \n",
    "                 return the first sub-interval which occurs prior to overlap\n",
    "      3. overlap begins BEFORE interval begins and ends BEFORE interval ends\n",
    "           ==> return portion of interval occurring after overlap ends\n",
    "      4. overlap begins AFTER interval begins and ends AFTER interval ends\n",
    "           ==> return portion of interval occurring before overlap begins\n",
    "    \"\"\"\n",
    "    #--------------------------------------------------\n",
    "    assert(Utilities.is_object_one_of_types(interval, [list, tuple]))\n",
    "    assert(Utilities.is_object_one_of_types(overlap, [list, tuple]))\n",
    "    #-----\n",
    "    if len(interval)==0:\n",
    "        return interval\n",
    "    #-----\n",
    "    assert(len(interval)==2)\n",
    "    assert(len(overlap)==2)\n",
    "    #-----\n",
    "    assert(interval[1] > interval[0])\n",
    "    assert(overlap[1]  > overlap[0])\n",
    "    #-------------------------\n",
    "    # If the two do not overlap, simply return interval\n",
    "    if not pd.Interval(interval[0], interval[1]).overlaps(pd.Interval(overlap[0], overlap[1])):\n",
    "        return interval\n",
    "    #--------------------------------------------------\n",
    "    # 4 distinct situations described in function documentation\n",
    "    #-------------------------\n",
    "    # 1. overlap completely encompasses interval \n",
    "    if (overlap[0] <= interval[0]) and (overlap[1] >= interval[1]):\n",
    "        return []\n",
    "    #-------------------------\n",
    "    # 2. interval completely encompasses overlap\n",
    "    if (interval[0] <= overlap[0]) and (interval[1] >= overlap[1]):\n",
    "        intrvl_1 = [interval[0], overlap[0]]\n",
    "        intrvl_2 = [overlap[1],  interval[1]]\n",
    "        if split_interval:\n",
    "            return intrvl_1, intrvl_2\n",
    "        else:\n",
    "            return intrvl_1\n",
    "        \n",
    "    #-------------------------\n",
    "    # 3. overlap begins BEFORE interval begins and ends BEFORE interval ends\n",
    "    #     ==> return portion of interval occurring after overlap ends\n",
    "    if overlap[0] < interval[0]:\n",
    "        assert(overlap[1] < interval[1])\n",
    "        return [overlap[1], interval[1]]\n",
    "    \n",
    "    #-------------------------\n",
    "    # 4. overlap begins AFTER interval begins and ends AFTER interval ends\n",
    "    #     ==> return portion of interval occurring before overlap begins\n",
    "    if overlap[0] > interval[0]:\n",
    "        assert(overlap[1] > interval[1])\n",
    "        return [interval[0], overlap[0]]\n",
    "    \n",
    "    #-------------------------\n",
    "    # SHOULD NEVER REACH THIS POINT!\n",
    "    print('In remove_overlap_from_interval: None of 4 distinct situations caught current!\\nCRASH IMMINENT!')\n",
    "    print(f'interval = {interval}')\n",
    "    print(f'overlap  = {overlap}')\n",
    "    assert(0)"
   ]
  },
  {
   "cell_type": "code",
   "execution_count": null,
   "id": "3ecb2a95",
   "metadata": {},
   "outputs": [],
   "source": [
    "def remove_overlap_from_interval(\n",
    "    interval, \n",
    "    overlap, \n",
    "    return_removed=False\n",
    "):\n",
    "    r\"\"\"\n",
    "    Given an input interval and possible overlap interval, remove overlap from the interval.\n",
    "    Both interval and overlap should be lists/tuples of length 2 whose elements represent the beginning and\n",
    "      ending of the interval.\n",
    "    \n",
    "    This will NOT split the input interval.\n",
    "        If the overlap does split the interval, the portion of interval occurring prior to the overlap will be returned.\n",
    "        The intent of this function is to remove any DOVS events overlapping with the algorithm outage times.\n",
    "        Therefore, in such a split situation, we would not want anything after the first overlap.\n",
    "    --------------------------------------------------\n",
    "    There are basically 4 distinct situations\n",
    "      1. overlap completely encompasses interval \n",
    "           ==> returned interval should be empty\n",
    "      2. interval completely encompasses overlap\n",
    "           ==> return the first sub-interval which occurs prior to overlap\n",
    "      3. overlap begins BEFORE interval begins and ends BEFORE interval ends\n",
    "           ==> return portion of interval occurring after overlap ends\n",
    "      4. overlap begins AFTER interval begins and ends AFTER interval ends\n",
    "           ==> return portion of interval occurring before overlap begins\n",
    "    \"\"\"\n",
    "    #--------------------------------------------------\n",
    "    assert(Utilities.is_object_one_of_types(interval, [list, tuple]))\n",
    "    assert(Utilities.is_object_one_of_types(overlap, [list, tuple]))\n",
    "    #-----\n",
    "    if len(interval)==0:\n",
    "        if return_removed:\n",
    "            return interval, []\n",
    "        return interval\n",
    "    #-----\n",
    "    assert(len(interval)==2)\n",
    "    assert(len(overlap)==2)\n",
    "    #-----\n",
    "    assert(interval[1] > interval[0])\n",
    "    assert(overlap[1]  > overlap[0])\n",
    "    #-------------------------\n",
    "    # If the two do not overlap, simply return interval\n",
    "    if not pd.Interval(interval[0], interval[1]).overlaps(pd.Interval(overlap[0], overlap[1])):\n",
    "        rtrn_intrvl = []\n",
    "        rmvd_intrvl = []\n",
    "        if return_removed:\n",
    "            return rtrn_intrvl, rmvd_intrvl\n",
    "        return rtrn_intrvl\n",
    "    #--------------------------------------------------\n",
    "    # 4 distinct situations described in function documentation\n",
    "    #-------------------------\n",
    "    # 1. overlap completely encompasses interval \n",
    "    if (overlap[0] <= interval[0]) and (overlap[1] >= interval[1]):\n",
    "        rtrn_intrvl = []\n",
    "        rmvd_intrvl = [overlap[0], overlap[1]]\n",
    "        if return_removed:\n",
    "            return rtrn_intrvl, rmvd_intrvl\n",
    "        return rtrn_intrvl\n",
    "    #-------------------------\n",
    "    # 2. interval completely encompasses overlap\n",
    "    if (interval[0] <= overlap[0]) and (interval[1] >= overlap[1]):\n",
    "        rtrn_intrvl = [interval[0], overlap[0]]\n",
    "        rmvd_intrvl = [overlap[0], interval[1]]\n",
    "        if return_removed:\n",
    "            return rtrn_intrvl, rmvd_intrvl\n",
    "        return rtrn_intrvl\n",
    "        \n",
    "    #-------------------------\n",
    "    # 3. overlap begins BEFORE interval begins and ends BEFORE interval ends\n",
    "    #     ==> return portion of interval occurring after overlap ends\n",
    "    if overlap[0] < interval[0]:\n",
    "        assert(overlap[1] < interval[1])\n",
    "        rtrn_intrvl = [overlap[1], interval[1]]\n",
    "        rmvd_intrvl = [overlap[0], overlap[1]]\n",
    "        if return_removed:\n",
    "            return rtrn_intrvl, rmvd_intrvl\n",
    "        return rtrn_intrvl\n",
    "    \n",
    "    #-------------------------\n",
    "    # 4. overlap begins AFTER interval begins and ends AFTER interval ends\n",
    "    #     ==> return portion of interval occurring before overlap begins\n",
    "    if overlap[0] > interval[0]:\n",
    "        assert(overlap[1] > interval[1])\n",
    "        rtrn_intrvl = [interval[0], overlap[0]]\n",
    "        rmvd_intrvl = [overlap[0], overlap[1]]\n",
    "        if return_removed:\n",
    "            return rtrn_intrvl, rmvd_intrvl\n",
    "        return rtrn_intrvl\n",
    "    \n",
    "    #-------------------------\n",
    "    # SHOULD NEVER REACH THIS POINT!\n",
    "    print('In remove_overlap_from_interval: None of 4 distinct situations caught current!\\nCRASH IMMINENT!')\n",
    "    print(f'interval = {interval}')\n",
    "    print(f'overlap  = {overlap}')\n",
    "    assert(0)"
   ]
  },
  {
   "cell_type": "code",
   "execution_count": null,
   "id": "b9ccab05",
   "metadata": {},
   "outputs": [],
   "source": [
    "def remove_overlaps_from_interval(\n",
    "    interval, \n",
    "    overlaps, \n",
    "    return_removed=False\n",
    "):\n",
    "    r\"\"\"\n",
    "    Remove multiple possible overlaps from interval\n",
    "    \"\"\"\n",
    "    #-------------------------\n",
    "    assert(isinstance(overlaps, list))\n",
    "    assert(Utilities.are_all_list_elements_one_of_types(lst=overlaps, types=[list, tuple]))\n",
    "    assert(Utilities.are_list_elements_lengths_homogeneous(lst=overlaps, length=2))\n",
    "    #-------------------------\n",
    "    return_int = copy.deepcopy(interval)\n",
    "    removed_intrvls = []\n",
    "    for overlap_i in overlaps:\n",
    "        if len(return_int)==0:\n",
    "            break\n",
    "        return_int, rmvd_intrvl_i = remove_overlap_from_interval(\n",
    "            interval       = return_int, \n",
    "            overlap        = overlap_i, \n",
    "            return_removed = True\n",
    "        )\n",
    "        removed_intrvls.append(rmvd_intrvl_i)\n",
    "    #-------------------------\n",
    "    if return_removed:\n",
    "        return return_int, removed_intrvls\n",
    "    return return_int"
   ]
  },
  {
   "cell_type": "code",
   "execution_count": null,
   "id": "e1818aa5",
   "metadata": {},
   "outputs": [],
   "source": [
    "best_ests_df_w_keep_info = audit_i.best_ests_df_w_keep_info.copy()"
   ]
  },
  {
   "cell_type": "code",
   "execution_count": null,
   "id": "5b0767e4",
   "metadata": {},
   "outputs": [],
   "source": [
    "best_ests_df_w_keep_info"
   ]
  },
  {
   "cell_type": "code",
   "execution_count": null,
   "id": "a7ebc169",
   "metadata": {},
   "outputs": [],
   "source": [
    "# winner_min    = best_ests_df_w_keep_info[best_ests_df_w_keep_info['keep']==False].iloc[0]['winner_min']\n",
    "# winner_max    = best_ests_df_w_keep_info[best_ests_df_w_keep_info['keep']==False].iloc[0]['winner_max']\n",
    "# overlap_times = best_ests_df_w_keep_info[best_ests_df_w_keep_info['keep']==False].iloc[0]['overlap_times']\n",
    "\n",
    "winner_min    = best_ests_df_w_keep_info.iloc[3]['winner_min']\n",
    "winner_max    = best_ests_df_w_keep_info.iloc[3]['winner_max']\n",
    "overlap_times = best_ests_df_w_keep_info.iloc[3]['overlap_times']\n",
    "\n",
    "print(winner_min)\n",
    "print(winner_max)\n",
    "print(overlap_times)"
   ]
  },
  {
   "cell_type": "code",
   "execution_count": null,
   "id": "01891f58",
   "metadata": {},
   "outputs": [],
   "source": [
    "# remove_overlap_from_interval(\n",
    "#     interval = [winner_min, winner_max], \n",
    "#     overlap = overlap_times[0], \n",
    "#     return_removed=False\n",
    "# )"
   ]
  },
  {
   "cell_type": "code",
   "execution_count": null,
   "id": "7f69bc01",
   "metadata": {},
   "outputs": [],
   "source": [
    "# remove_overlap_from_interval(\n",
    "#     interval = [winner_min, winner_max], \n",
    "#     overlap = overlap_times[0], \n",
    "#     return_removed=True\n",
    "# )"
   ]
  },
  {
   "cell_type": "code",
   "execution_count": null,
   "id": "16975886",
   "metadata": {},
   "outputs": [],
   "source": [
    "# r1,r2 = remove_overlaps_from_interval(\n",
    "#     interval = [winner_min, winner_max], \n",
    "#     overlaps = overlap_times, \n",
    "#     return_removed=True\n",
    "# )\n",
    "# print(r1)\n",
    "# print(r2)"
   ]
  },
  {
   "cell_type": "code",
   "execution_count": null,
   "id": "cc862ad1",
   "metadata": {},
   "outputs": [],
   "source": []
  },
  {
   "cell_type": "code",
   "execution_count": null,
   "id": "42dbabed",
   "metadata": {},
   "outputs": [],
   "source": [
    "ovrlp_audit_j.best_ests_df_w_keep_info"
   ]
  },
  {
   "cell_type": "code",
   "execution_count": null,
   "id": "781b03cc",
   "metadata": {},
   "outputs": [],
   "source": [
    "# Easiest situation:\n",
    "#   outg_rec_nb_a finds      two sub-outages, with sub_a_1 marked keep=True  and sub_a_2 marked keep=False\n",
    "#   outg_rec_nb_b finds same two sub-outages, with sub_a_1 marked keep=False and sub_a_2 marked keep=True"
   ]
  },
  {
   "cell_type": "code",
   "execution_count": null,
   "id": "1db17e43",
   "metadata": {},
   "outputs": [],
   "source": [
    "# Can't get around doing this PN-by-PN"
   ]
  },
  {
   "cell_type": "code",
   "execution_count": null,
   "id": "8510d3a0",
   "metadata": {},
   "outputs": [],
   "source": [
    "best_ests_df_w_keep_info = audit_i.best_ests_df_w_keep_info.copy()"
   ]
  },
  {
   "cell_type": "code",
   "execution_count": null,
   "id": "6cd42e2e",
   "metadata": {},
   "outputs": [],
   "source": []
  },
  {
   "cell_type": "code",
   "execution_count": null,
   "id": "f9a6ac15",
   "metadata": {},
   "outputs": [],
   "source": [
    "def remove_overlaps_for_PN_i(\n",
    "    best_ests_df_i, \n",
    "    ovrlp_be_df, \n",
    "    t_min_col_idx, \n",
    "    t_max_col_idx, \n",
    "    rmvd_times_col_idx, \n",
    "    PN_col='PN', \n",
    "    keep_col='keep'\n",
    "):\n",
    "    r\"\"\"\n",
    "    HELPER FUNCTION! Not designed to be used on its own\n",
    "        \n",
    "    In reality, best_ests_df_i should be best_ests_df_w_keep_info_i, but I didn't feel like carrying such a heavy\n",
    "      name around the entire function\n",
    "    \"\"\"\n",
    "    #-------------------------\n",
    "    assert(best_ests_df_i[PN_col].nunique()==1)\n",
    "    best_ests_df_i = best_ests_df_i.copy()\n",
    "    #-------------------------\n",
    "    PN_i = best_ests_df_i[PN_col].unique().tolist()[0]\n",
    "    ovrlp_be_df_i = ovrlp_be_df[ovrlp_be_df[PN_col]==PN_i]\n",
    "    if ovrlp_be_df_i.shape[0]==0:\n",
    "        return best_ests_df_i\n",
    "    #-------------------------\n",
    "    t_min_col = best_ests_df_i.columns.tolist()[t_min_col_idx]\n",
    "    t_max_col = best_ests_df_i.columns.tolist()[t_max_col_idx]\n",
    "    #-------------------------\n",
    "    # Annoying, but ovrlp_intervals_i needs to be a list of 2-d lists holding timestamp objects.\n",
    "    #   Calling .values.tolist() converts the timestamps to ints, which is the annoying part.\n",
    "    #   Therefore, I have to use pd.to_datetime() to convert back\n",
    "    ovrlp_intervals_i = ovrlp_be_df_i[[t_min_col, t_max_col]].values\n",
    "    ovrlp_intervals_i = [[pd.to_datetime(intrvl[0]), pd.to_datetime(intrvl[1])] for intrvl in ovrlp_intervals_i.tolist()]\n",
    "    # Can't get around doing this row-by-row\n",
    "    for idx_j in range(best_ests_df_i.shape[0]):\n",
    "        #-------------------------\n",
    "        if best_ests_df_i.iloc[idx_j][keep_col]==True:\n",
    "            continue\n",
    "        #-------------------------\n",
    "        t_min_j = best_ests_df_i.iloc[idx_j][t_min_col]\n",
    "        t_max_j = best_ests_df_i.iloc[idx_j][t_max_col]\n",
    "        #-----\n",
    "        interval_j, removed_j = remove_overlaps_from_interval(\n",
    "            interval = [t_min_j, t_max_j], \n",
    "            overlaps = ovrlp_intervals_i, \n",
    "            return_removed=True\n",
    "        )\n",
    "        #-----\n",
    "        if len(interval_j)==0:\n",
    "            best_ests_df_i.iloc[idx_j, t_min_col_idx] = None\n",
    "            best_ests_df_i.iloc[idx_j, t_max_col_idx] = None\n",
    "        else:\n",
    "            best_ests_df_i.iloc[idx_j, t_min_col_idx] = interval_j[0]\n",
    "            best_ests_df_i.iloc[idx_j, t_max_col_idx] = interval_j[1]\n",
    "        #-----\n",
    "        # NOTE: Using iat instead of iloc.\n",
    "        #       Using iloc gives \"ValueError: Must have equal len keys and value when setting with an ndarray\"\n",
    "        #         because pandas thinks I am interacting with multiple rows\n",
    "        #       Using iat resolves the confusion by letting pandas know I am dealing with a single element\n",
    "        best_ests_df_i.iat[idx_j, rmvd_times_col_idx] = removed_j\n",
    "    #-------------------------\n",
    "    return best_ests_df_i"
   ]
  },
  {
   "cell_type": "code",
   "execution_count": null,
   "id": "cfb73333",
   "metadata": {},
   "outputs": [],
   "source": []
  },
  {
   "cell_type": "code",
   "execution_count": null,
   "id": "c56bdf71",
   "metadata": {},
   "outputs": [],
   "source": []
  },
  {
   "cell_type": "code",
   "execution_count": null,
   "id": "54256dc6",
   "metadata": {},
   "outputs": [],
   "source": [
    "# def remove_overlaps_from_best_ests(\n",
    "#     best_ests_df, \n",
    "#     ovrlp_be_df, \n",
    "#     PN_col='PN', \n",
    "#     t_min_col='winner_min', \n",
    "#     t_max_col='winner_max', \n",
    "#     keep_col='keep'\n",
    "# ):\n",
    "#     r\"\"\"\n",
    "#     In reality, best_ests_df should be best_ests_df_w_keep_info, but I didn't feel like carrying such a heavy\n",
    "#       name around the entire function\n",
    "#     \"\"\"\n",
    "#     #-------------------------"
   ]
  },
  {
   "cell_type": "markdown",
   "id": "500d6b6f",
   "metadata": {},
   "source": [
    "# TODO\n",
    " - Need to develop method for creating ovrlp_be_df from multiple ovrlp_audit_j\n",
    " - See note: !!!!!!!!!! May want ot save status of return_df right now to some class member in case need to examine later\n",
    " - CI_NB/CMI_NB > 0 as default"
   ]
  },
  {
   "cell_type": "code",
   "execution_count": null,
   "id": "660e3359",
   "metadata": {},
   "outputs": [],
   "source": [
    "best_ests_df = best_ests_df_w_keep_info.copy()\n",
    "ovrlp_be_df = ovrlp_audit_j.best_ests_df_w_keep_info.copy()\n",
    "PN_col='PN'\n",
    "t_min_col='winner_min'\n",
    "t_max_col='winner_max'\n",
    "keep_col='keep'"
   ]
  },
  {
   "cell_type": "code",
   "execution_count": null,
   "id": "ece48ac0",
   "metadata": {},
   "outputs": [],
   "source": [
    "#--------------------------------------------------\n",
    "t_min_OG_col = t_min_col+'_OG'\n",
    "if t_min_OG_col in best_ests_df.columns.tolist():\n",
    "    t_min_OG_col = t_min_OG_col+'_'+Utilities.generate_random_string(str_len=4)\n",
    "#-----\n",
    "t_max_OG_col = t_max_col+'_OG'\n",
    "if t_max_OG_col in best_ests_df.columns.tolist():\n",
    "    t_max_OG_col = t_max_OG_col+'_'+Utilities.generate_random_string(str_len=4)\n",
    "#-----\n",
    "removed_times_col = 'removed_times'\n",
    "if removed_times_col in best_ests_df.columns.tolist():\n",
    "    removed_times_col = removed_times_col+'_'+Utilities.generate_random_string(str_len=4)\n",
    "#-----\n",
    "assert(t_min_OG_col not in best_ests_df.columns.tolist())\n",
    "assert(t_max_OG_col not in best_ests_df.columns.tolist())\n",
    "assert(removed_times_col not in best_ests_df.columns.tolist())\n",
    "#-------------------------\n",
    "best_ests_df[t_min_OG_col]      = best_ests_df[t_min_col]\n",
    "best_ests_df[t_max_OG_col]      = best_ests_df[t_max_col]\n",
    "best_ests_df[removed_times_col] = [[] for _ in range(best_ests_df.shape[0])]\n",
    "#--------------------------------------------------\n",
    "t_min_col_idx = Utilities_df.find_idxs_in_highest_order_of_columns(\n",
    "    df = best_ests_df, \n",
    "    col = 'winner_min', \n",
    "    exact_match=True, \n",
    "    assert_single=True\n",
    ")\n",
    "t_max_col_idx = Utilities_df.find_idxs_in_highest_order_of_columns(\n",
    "    df = best_ests_df, \n",
    "    col = 'winner_max', \n",
    "    exact_match=True, \n",
    "    assert_single=True\n",
    ")\n",
    "rmvd_times_col_idx = Utilities_df.find_idxs_in_highest_order_of_columns(\n",
    "    df = best_ests_df, \n",
    "    col = 'removed_times', \n",
    "    exact_match=True, \n",
    "    assert_single=True\n",
    ")\n",
    "#--------------------------------------------------\n",
    "return_df = best_ests_df.groupby(PN_col, as_index=False, group_keys=False).apply(\n",
    "    lambda x: remove_overlaps_for_PN_i(\n",
    "        best_ests_df_i     = x, \n",
    "        ovrlp_be_df        = ovrlp_be_df, \n",
    "        t_min_col_idx      = t_min_col_idx, \n",
    "        t_max_col_idx      = t_max_col_idx, \n",
    "        rmvd_times_col_idx = rmvd_times_col_idx, \n",
    "        PN_col             = PN_col, \n",
    "        keep_col           = keep_col\n",
    "    )\n",
    ")\n",
    "#!!!!!!!!!! May want ot save status of return_df right now to some class member in case need to examine later\n",
    "#--------------------------------------------------\n",
    "# First, call dropna with how='all'\n",
    "#   This should handle all cases, but I would like to be notified if a sub-outage has a value for t_min_col\n",
    "#     but not for t_max_col (or vice-versa)\n",
    "return_df = return_df.dropna(subset=[t_min_col, t_max_col], how='all')\n",
    "# NOTE: If one wanted to identify the rows for which one member is NA, one could use\n",
    "#         return_df[[t_min_col, t_max_col]].isna().sum(axis=1)>0\n",
    "assert(return_df[[t_min_col, t_max_col]].isna().sum().sum()==0)\n",
    "#--------------------------------------------------\n",
    "return_df = DOVSAudit.set_i_outg_in_best_ests_df(\n",
    "    best_ests_df = return_df, \n",
    "    groupby_cols = [PN_col], \n",
    "    sort_cols    = [t_min_col, t_min_col], \n",
    "    i_outg_col   = 'i_outg'\n",
    ")"
   ]
  },
  {
   "cell_type": "code",
   "execution_count": null,
   "id": "30022199",
   "metadata": {},
   "outputs": [],
   "source": []
  },
  {
   "cell_type": "code",
   "execution_count": null,
   "id": "07b794b1",
   "metadata": {},
   "outputs": [],
   "source": []
  },
  {
   "cell_type": "code",
   "execution_count": null,
   "id": "7b92f0a9",
   "metadata": {},
   "outputs": [],
   "source": [
    "# First, call dropna with how='all'\n",
    "#   This should handle all cases, but I would like to be notified if a sub-outage has a value for t_min_col\n",
    "#     but not for t_max_col (or vice-versa)\n",
    "return_df = return_df.dropna(subset=[t_min_col, t_max_col], how='all')\n",
    "# NOTE: If one wanted to identify the rows for which one member is NA, one could use\n",
    "#         return_df[[t_min_col, t_max_col]].isna().sum(axis=1)>0\n",
    "assert(return_df[[t_min_col, t_max_col]].isna().sum().sum()==0)"
   ]
  },
  {
   "cell_type": "code",
   "execution_count": null,
   "id": "52d8805c",
   "metadata": {},
   "outputs": [],
   "source": [
    "return_df = DOVSAudit.set_i_outg_in_best_ests_df(\n",
    "    best_ests_df = return_df, \n",
    "    groupby_cols = [PN_col], \n",
    "    sort_cols    = [t_min_col, t_min_col], \n",
    "    i_outg_col   = 'i_outg'\n",
    ")"
   ]
  },
  {
   "cell_type": "code",
   "execution_count": null,
   "id": "3582b924",
   "metadata": {},
   "outputs": [],
   "source": [
    "return_df"
   ]
  },
  {
   "cell_type": "code",
   "execution_count": null,
   "id": "d05e214b",
   "metadata": {},
   "outputs": [],
   "source": [
    "best_ests_df"
   ]
  },
  {
   "cell_type": "code",
   "execution_count": null,
   "id": "4ab44c06",
   "metadata": {},
   "outputs": [],
   "source": []
  },
  {
   "cell_type": "code",
   "execution_count": null,
   "id": "2580ccb3",
   "metadata": {},
   "outputs": [],
   "source": []
  },
  {
   "cell_type": "code",
   "execution_count": null,
   "id": "c0d3c756",
   "metadata": {},
   "outputs": [],
   "source": []
  },
  {
   "cell_type": "code",
   "execution_count": null,
   "id": "ad48dade",
   "metadata": {},
   "outputs": [],
   "source": [
    "# def is_PN_suboutg_split_across_DOVS()"
   ]
  },
  {
   "cell_type": "code",
   "execution_count": null,
   "id": "a4e5af3b",
   "metadata": {},
   "outputs": [],
   "source": [
    "audit_i.best_ests_df_w_keep_info"
   ]
  },
  {
   "cell_type": "code",
   "execution_count": null,
   "id": "6fd469bd",
   "metadata": {
    "scrolled": true
   },
   "outputs": [],
   "source": [
    "ovrlp_audit_j.best_ests_df_w_keep_info"
   ]
  },
  {
   "cell_type": "code",
   "execution_count": null,
   "id": "9d89d9a2",
   "metadata": {},
   "outputs": [],
   "source": [
    "ovrlp_audit_j.dovs_df_i.iloc[0]['premise_nbs']"
   ]
  },
  {
   "cell_type": "code",
   "execution_count": null,
   "id": "044679eb",
   "metadata": {},
   "outputs": [],
   "source": [
    "PN_j = '040587963'\n",
    "be_df_j = audit_i.best_ests_df_w_keep_info[audit_i.best_ests_df_w_keep_info[PN_col]==PN_i]\n",
    "ovrlp_be_df_j = ovrlp_audit_j.best_ests_df_w_keep_info[ovrlp_audit_j.best_ests_df_w_keep_info[PN_col]==PN_i]"
   ]
  },
  {
   "cell_type": "code",
   "execution_count": null,
   "id": "1fdeaf9f",
   "metadata": {},
   "outputs": [],
   "source": [
    "be_df_i"
   ]
  },
  {
   "cell_type": "code",
   "execution_count": null,
   "id": "be1d161c",
   "metadata": {},
   "outputs": [],
   "source": [
    "ovrlp_be_df_j"
   ]
  },
  {
   "cell_type": "code",
   "execution_count": null,
   "id": "94d71e0b",
   "metadata": {},
   "outputs": [],
   "source": []
  },
  {
   "cell_type": "code",
   "execution_count": null,
   "id": "28864114",
   "metadata": {},
   "outputs": [],
   "source": [
    "be_df_j[['winner_min', 'winner_max', 'keep']].value_counts().index.tolist()"
   ]
  },
  {
   "cell_type": "code",
   "execution_count": null,
   "id": "cf38faa1",
   "metadata": {},
   "outputs": [],
   "source": [
    "be_df_j.groupby(['winner_min', 'winner_max', 'keep']).groups.keys()"
   ]
  },
  {
   "cell_type": "code",
   "execution_count": null,
   "id": "c1c02838",
   "metadata": {},
   "outputs": [],
   "source": []
  },
  {
   "cell_type": "code",
   "execution_count": null,
   "id": "82a57df8",
   "metadata": {},
   "outputs": [],
   "source": [
    "gps       = be_df_j[['winner_min', 'winner_max', 'keep']].value_counts().index.tolist()\n",
    "ovrlp_gps = ovrlp_be_df_j[['winner_min', 'winner_max', 'keep']].value_counts().index.tolist()"
   ]
  },
  {
   "cell_type": "code",
   "execution_count": null,
   "id": "2a4804ae",
   "metadata": {},
   "outputs": [],
   "source": [
    "set(gps).symmetric_difference(ovrlp_gps)"
   ]
  },
  {
   "cell_type": "code",
   "execution_count": null,
   "id": "fbf95ccf",
   "metadata": {},
   "outputs": [],
   "source": [
    "if set(gps).symmetric_difference(ovrlp_gps)==set():\n",
    "    # I want to be notified when there are multiple sub-outages\n",
    "    # Currently coded for single\n",
    "    assert(len(gps)==len(ovrlp_gps)==1)"
   ]
  },
  {
   "cell_type": "code",
   "execution_count": null,
   "id": "18add917",
   "metadata": {},
   "outputs": [],
   "source": [
    "# Look at AMI data and see if power ever lost between two "
   ]
  },
  {
   "cell_type": "code",
   "execution_count": null,
   "id": "3a4346b0",
   "metadata": {},
   "outputs": [],
   "source": [
    "tmp_df = audit_i.ami_df_i[audit_i.ami_df_i['aep_premise_nb']==PN_j].copy()\n",
    "tmp_df = tmp_df[\n",
    "    (tmp_df['starttimeperiod_local'] >= be_df_i['winner_min'].min()) & \n",
    "    (tmp_df['endtimeperiod_local']   <= be_df_i['winner_max'].max())\n",
    "].copy()"
   ]
  },
  {
   "cell_type": "code",
   "execution_count": null,
   "id": "3f936208",
   "metadata": {},
   "outputs": [],
   "source": [
    "(tmp_df['value']!=0).any()"
   ]
  },
  {
   "cell_type": "code",
   "execution_count": null,
   "id": "bcb9a725",
   "metadata": {},
   "outputs": [],
   "source": []
  },
  {
   "cell_type": "code",
   "execution_count": null,
   "id": "4a2ed791",
   "metadata": {},
   "outputs": [],
   "source": []
  },
  {
   "cell_type": "code",
   "execution_count": null,
   "id": "9ef9ead4",
   "metadata": {},
   "outputs": [],
   "source": []
  },
  {
   "cell_type": "code",
   "execution_count": null,
   "id": "5bf6195c",
   "metadata": {},
   "outputs": [],
   "source": []
  },
  {
   "cell_type": "code",
   "execution_count": null,
   "id": "ce8cc4d1",
   "metadata": {},
   "outputs": [],
   "source": []
  },
  {
   "cell_type": "code",
   "execution_count": null,
   "id": "befe445b",
   "metadata": {},
   "outputs": [],
   "source": []
  },
  {
   "cell_type": "code",
   "execution_count": null,
   "id": "6cd323b3",
   "metadata": {},
   "outputs": [],
   "source": []
  },
  {
   "cell_type": "code",
   "execution_count": null,
   "id": "81e2c9c5",
   "metadata": {},
   "outputs": [],
   "source": []
  },
  {
   "cell_type": "code",
   "execution_count": null,
   "id": "c5ac537e",
   "metadata": {},
   "outputs": [],
   "source": []
  },
  {
   "cell_type": "markdown",
   "id": "bb663489",
   "metadata": {},
   "source": [
    "# FOR Peggy slide"
   ]
  },
  {
   "cell_type": "code",
   "execution_count": null,
   "id": "76cdf6c3",
   "metadata": {},
   "outputs": [],
   "source": [
    "%run ./check_DOVS_METHODS.ipynb"
   ]
  },
  {
   "cell_type": "code",
   "execution_count": null,
   "id": "36fe2da5",
   "metadata": {},
   "outputs": [],
   "source": [
    "# outg_rec_nb = '13551139'\n",
    "# outg_rec_nb = '13530407'\n",
    "outg_rec_nb = '13591325'"
   ]
  },
  {
   "cell_type": "code",
   "execution_count": null,
   "id": "76ee1536",
   "metadata": {},
   "outputs": [],
   "source": [
    "search_time_half_window=pd.Timedelta('24 hours')\n",
    "#-------------------------\n",
    "audit_i = DOVSAudit(\n",
    "    outg_rec_nb=outg_rec_nb\n",
    ")\n",
    "#-------------------------\n",
    "audit_i.load_dovs(\n",
    "    dovs_df           = None, \n",
    "    dovs_df_info_dict = None\n",
    ")\n",
    "#-------------------------\n",
    "audit_i.build_mp_df(\n",
    "    drop_mp_dups_fuzziness=pd.Timedelta('1 hour')\n",
    ")\n",
    "#-------------------------\n",
    "audit_i.run_ami_and_ede_daq(\n",
    "    search_time_half_window=search_time_half_window\n",
    ")"
   ]
  },
  {
   "cell_type": "code",
   "execution_count": null,
   "id": "ebb26484",
   "metadata": {},
   "outputs": [],
   "source": []
  },
  {
   "cell_type": "code",
   "execution_count": null,
   "id": "a350f4d9",
   "metadata": {},
   "outputs": [],
   "source": [
    "audit_i.build_best_ests_df()\n",
    "audit_i.best_ests_df"
   ]
  },
  {
   "cell_type": "code",
   "execution_count": null,
   "id": "7741453f",
   "metadata": {},
   "outputs": [],
   "source": []
  },
  {
   "cell_type": "code",
   "execution_count": null,
   "id": "ef2c6691",
   "metadata": {},
   "outputs": [],
   "source": [
    "audit_i.identify_overlaps(overlaps_dovs_sql_fcn=DOVSOutages_SQL.build_sql_outage)"
   ]
  },
  {
   "cell_type": "code",
   "execution_count": null,
   "id": "39cbb377",
   "metadata": {},
   "outputs": [],
   "source": [
    "audit_i.best_ests_df_w_keep_info"
   ]
  },
  {
   "cell_type": "code",
   "execution_count": null,
   "id": "39262fca",
   "metadata": {},
   "outputs": [],
   "source": [
    "fig_num=0"
   ]
  },
  {
   "cell_type": "code",
   "execution_count": null,
   "id": "c214c43b",
   "metadata": {},
   "outputs": [],
   "source": []
  },
  {
   "cell_type": "code",
   "execution_count": null,
   "id": "721fffcf",
   "metadata": {},
   "outputs": [],
   "source": [
    "best_ests_df = audit_i.best_ests_df.copy()\n",
    "ami_df_i = audit_i.ami_df_i.copy()\n",
    "#-----\n",
    "dovs_outg_t_beg_end = audit_i.dovs_outg_t_beg_end\n",
    "dovs_outg_t_beg = dovs_outg_t_beg_end[0]\n",
    "dovs_outg_t_end = dovs_outg_t_beg_end[1]\n",
    "#-----\n",
    "outage_nb  = audit_i.outage_nb\n",
    "n_PNs_dovs = audit_i.n_PNs_dovs\n",
    "ci_dovs    = audit_i.ci_cmi_dovs[0]\n",
    "cmi_dovs   = audit_i.ci_cmi_dovs[1]\n",
    "ci_ami     = best_ests_df['PN'].nunique() \n",
    "cmi_ami    = (best_ests_df['winner_max']-best_ests_df['winner_min']).sum().total_seconds()/60\n",
    "threshold=95\n",
    "#-------------------------\n",
    "outg_SNs = best_ests_df['PN'].unique().tolist()\n",
    "ami_df_i_out      = ami_df_i[ami_df_i['aep_premise_nb'].isin(outg_SNs)]\n",
    "ami_df_i_not_out  = ami_df_i[~ami_df_i['aep_premise_nb'].isin(outg_SNs)]\n",
    "#-------------------------\n",
    "means_df, best_ests_df_w_db_lbl = DOVSAudit.get_mean_times_w_dbscan(\n",
    "    best_ests_df, \n",
    "    eps_min=5, \n",
    "    min_samples=2, \n",
    "    ests_to_include_in_clustering=['winner_min', 'winner_max'],\n",
    "    ests_to_include_in_output=[\n",
    "        'winner_min', 'winner_max', \n",
    "        'conservative_min', 'conservative_max', \n",
    "        'zero_times_min', 'zero_times_max'\n",
    "    ], \n",
    "    return_labelled_best_ests_df=True\n",
    ")\n",
    "#-------------------------\n",
    "n_PNs_w_power_srs = DOVSAudit.build_n_PNs_w_power_srs(\n",
    "    best_ests_df, \n",
    "    ami_df_i, \n",
    "    return_pct=True, \n",
    "    PN_col='PN', \n",
    "    t_min_col='winner_min', \n",
    "    t_max_col='winner_max', \n",
    "    i_outg_col='i_outg', \n",
    "    PN_col_ami_df='aep_premise_nb'\n",
    ")"
   ]
  },
  {
   "cell_type": "code",
   "execution_count": null,
   "id": "887cf80c",
   "metadata": {},
   "outputs": [],
   "source": [
    "fig, axs = plot_all_out_not_NEW(\n",
    "    fig_num              = fig_num, \n",
    "    ami_df_i             = ami_df_i, \n",
    "    ami_df_i_out         = ami_df_i_out, \n",
    "    ami_df_i_not_out     = ami_df_i_not_out, \n",
    "    dovs_outg_t_beg      = dovs_outg_t_beg, \n",
    "    dovs_outg_t_end      = dovs_outg_t_end, \n",
    "    cnsrvtv_out_t_beg    = best_ests_df['conservative_min'].min(), \n",
    "    cnsrvtv_out_t_end    = best_ests_df['conservative_max'].max(), \n",
    "    means_df             = means_df, \n",
    "    outg_rec_nb          = outg_rec_nb, \n",
    "    outage_nb            = outage_nb, \n",
    "    n_PNs_dovs           = n_PNs_dovs, \n",
    "    ci_dovs              = ci_dovs, \n",
    "    cmi_dovs             = cmi_dovs, \n",
    "    ci_ami               = ci_ami, \n",
    "    cmi_ami              = cmi_ami, \n",
    "    name                 = 'AMI', \n",
    "    results_2_dict       = None, \n",
    "    expand_time          = pd.Timedelta('1 hour'), \n",
    "    mean_keys_to_include = ['winner', 'conservative', 'zero_times'], \n",
    "    removed_due_to_overlap_col='removed_due_to_overlap', \n",
    "    default_subplots_args=dict(n_x=2, n_y=2, row_major=True), \n",
    "    leg_i_plot=1, \n",
    "    leg_kwargs=dict(ncols=1, fontsize=15, bbox_to_anchor=(1, 1.2)), \n",
    "    ci_info_fontsize=16, \n",
    "    left_text_x=0.915\n",
    "    \n",
    ")\n",
    "\n",
    "fig,axs[3] = DOVSAudit.static_plot_n_PNs_w_power_srs(\n",
    "    n_PNs_w_power_srs, \n",
    "    simp_freq='1T', \n",
    "    threshold=threshold, \n",
    "    fig_num=fig_num, \n",
    "    fig_ax=(fig, axs[3]), \n",
    "    threshold_color='magenta'\n",
    ")\n",
    "\n",
    "fig_num += 1"
   ]
  },
  {
   "cell_type": "code",
   "execution_count": null,
   "id": "74adb1c4",
   "metadata": {},
   "outputs": [],
   "source": [
    "expand_time=pd.Timedelta('1 hour')\n",
    "cnsrvtv_out_t_beg    = best_ests_df['conservative_min'].min()\n",
    "cnsrvtv_out_t_end    = best_ests_df['conservative_max'].max()\n",
    "#-------------------------\n",
    "fig, axs = Plot_General.default_subplots(fig_num=fig_num, n_x=1, n_y=2, sharex=True)\n",
    "Plot_General.adjust_subplots_args(fig, dict(hspace=0.30))\n",
    "#-------------------------\n",
    "palette = Plot_General.get_standard_colors_dict(\n",
    "    keys=ami_df_i['serialnumber'].unique().tolist(), \n",
    "    palette='colorblind'\n",
    ")\n",
    "#-------------------------\n",
    "shared_plot_kwargs = dict(\n",
    "    x                          = 'starttimeperiod_local', \n",
    "    y                          = 'value', \n",
    "    hue                        = 'serialnumber', \n",
    "    out_t_beg                  = dovs_outg_t_beg, \n",
    "    out_t_end                  = dovs_outg_t_end, \n",
    "    expand_time                = expand_time, \n",
    "    plot_time_beg_end          = [cnsrvtv_out_t_beg, cnsrvtv_out_t_end], \n",
    "    only_connect_continuous    = False, \n",
    "    data_freq                  = None,     \n",
    "    data_label                 = '', \n",
    "    ax_args                    = None, \n",
    "    xlabel_args                = None, \n",
    "    ylabel_args                = None, \n",
    "    df_mean                    = None, \n",
    "    df_mean_col                = None, \n",
    "    mean_args                  = None, \n",
    "    draw_outage_limits         = True, \n",
    "    draw_outage_limits_kwargs  = dict(alpha=1.0, linewidth=5.0, ymax=0.1), \n",
    "    include_outage_limits_text = dict(\n",
    "        out_t_beg_text  = 'DOVS Beg.', \n",
    "        out_t_beg_ypos  = (0.12, 'ax_coord'), \n",
    "        out_t_beg_va    = 'bottom', \n",
    "        out_t_beg_ha    = 'center', \n",
    "        out_t_beg_color = 'red', \n",
    "        #-----\n",
    "        out_t_end_text  = 'DOVS End', \n",
    "        out_t_end_ypos  = (0.12, 'ax_coord'), \n",
    "        out_t_end_va    = 'bottom', \n",
    "        out_t_end_ha    = 'center', \n",
    "        out_t_end_color = 'green', \n",
    "    ), \n",
    "    draw_without_hue_also      = False, \n",
    "    seg_line_freq              = None, \n",
    "    palette                    = palette\n",
    ")\n",
    "#-----\n",
    "i_subplot=0\n",
    "fig, axs[i_subplot] = AMINonVee.plot_usage_around_outage(\n",
    "    fig=fig, \n",
    "    ax=axs[i_subplot], \n",
    "    data=ami_df_i, \n",
    "    title_args=dict(label=f\"#SNs = {ami_df_i['serialnumber'].nunique()}\", fontdict=dict(fontsize=24)), \n",
    "    **shared_plot_kwargs\n",
    ")\n",
    "#-----\n",
    "add_all_best_ests_to_axis(\n",
    "    axs[i_subplot], \n",
    "    means_df, \n",
    "    line_kwargs_by_est_key=dict(\n",
    "        conservative=dict(alpha=0.25, linewidth=5.0, ymax=0.6), \n",
    "        zero_times=dict(alpha=0.25, linewidth=5.0, ymax=0.4) \n",
    "    ), \n",
    "    keys_to_include=['winner', 'conservative', 'zero_times']\n",
    ")\n",
    "#-----\n",
    "axs[i_subplot].legend().set_visible(False)\n",
    "Plot_General.set_general_plotting_args(\n",
    "    ax=axs[i_subplot], \n",
    "    tick_args =[\n",
    "        dict(axis='x', labelrotation=0, labelsize=14.0, direction='out'), \n",
    "        dict(axis='y', labelrotation=0, labelsize=14.0, direction='out')\n",
    "    ], \n",
    "    xlabel_args=dict(xlabel='15T Interval Start Time', fontsize=16), \n",
    "    ylabel_args=dict(ylabel='Voltage (V)', fontsize=16)\n",
    ")\n",
    "#-------------------------\n",
    "i_subplot=1\n",
    "fig,axs[i_subplot] = DOVSAudit.static_plot_n_PNs_w_power_srs(\n",
    "    n_PNs_w_power_srs, \n",
    "    simp_freq='1T', \n",
    "    threshold=threshold, \n",
    "    fig_num=fig_num, \n",
    "    fig_ax=(fig, axs[i_subplot]), \n",
    "    threshold_color='magenta'\n",
    ")\n",
    "#-----\n",
    "Plot_General.set_general_plotting_args(\n",
    "    ax=axs[i_subplot], \n",
    "    tick_args =[\n",
    "        dict(axis='x', labelrotation=0, labelsize=14.0, direction='out'), \n",
    "        dict(axis='y', labelrotation=0, labelsize=14.0, direction='out')\n",
    "    ], \n",
    "    xlabel_args=dict(xlabel='15T Interval Start Time', fontsize=16), \n",
    "    ylabel_args=dict(ylabel='%PNs with Power', fontsize=16)\n",
    ")\n",
    "#-------------------------\n",
    "fig_num += 1\n",
    "\n",
    "#-------------------------\n",
    "Plot_General.save_fig(\n",
    "    fig=fig, \n",
    "    save_dir=r'C:\\Users\\s346557\\Documents\\Presentations\\ForPeggy_Nov2023', \n",
    "    save_name='Figs_ab_2.png'\n",
    ")"
   ]
  },
  {
   "cell_type": "code",
   "execution_count": null,
   "id": "1fe91bea",
   "metadata": {},
   "outputs": [],
   "source": [
    "expand_time=pd.Timedelta('1 hour')\n",
    "cnsrvtv_out_t_beg    = best_ests_df['conservative_min'].min()\n",
    "cnsrvtv_out_t_end    = best_ests_df['conservative_max'].max()\n",
    "#-------------------------\n",
    "fig, axs = Plot_General.default_subplots(fig_num=fig_num, n_x=1, n_y=1, sharex=True)\n",
    "axs=[axs]\n",
    "Plot_General.adjust_subplots_args(fig, dict(hspace=0.30))\n",
    "#-------------------------\n",
    "palette = Plot_General.get_standard_colors_dict(\n",
    "    keys=ami_df_i['serialnumber'].unique().tolist(), \n",
    "    palette='colorblind'\n",
    ")\n",
    "#-------------------------\n",
    "shared_plot_kwargs = dict(\n",
    "    x                          = 'starttimeperiod_local', \n",
    "    y                          = 'value', \n",
    "    hue                        = 'serialnumber', \n",
    "    out_t_beg                  = dovs_outg_t_beg, \n",
    "    out_t_end                  = dovs_outg_t_end, \n",
    "    expand_time                = expand_time, \n",
    "    plot_time_beg_end          = [cnsrvtv_out_t_beg, cnsrvtv_out_t_end], \n",
    "    only_connect_continuous    = False, \n",
    "    data_freq                  = None,     \n",
    "    data_label                 = '', \n",
    "    ax_args                    = None, \n",
    "    xlabel_args                = None, \n",
    "    ylabel_args                = None, \n",
    "    df_mean                    = None, \n",
    "    df_mean_col                = None, \n",
    "    mean_args                  = None, \n",
    "    draw_outage_limits         = True, \n",
    "    draw_outage_limits_kwargs  = dict(alpha=1.0, linewidth=5.0, ymax=0.1), \n",
    "    include_outage_limits_text = dict(\n",
    "        out_t_beg_text  = 'DOVS Beg.', \n",
    "        out_t_beg_ypos  = (0.12, 'ax_coord'), \n",
    "        out_t_beg_va    = 'bottom', \n",
    "        out_t_beg_ha    = 'center', \n",
    "        out_t_beg_color = 'red', \n",
    "        #-----\n",
    "        out_t_end_text  = 'DOVS End', \n",
    "        out_t_end_ypos  = (0.12, 'ax_coord'), \n",
    "        out_t_end_va    = 'bottom', \n",
    "        out_t_end_ha    = 'center', \n",
    "        out_t_end_color = 'green', \n",
    "    ), \n",
    "    draw_without_hue_also      = False, \n",
    "    seg_line_freq              = None, \n",
    "    palette                    = palette\n",
    ")\n",
    "#-----\n",
    "i_subplot=0\n",
    "fig, axs[i_subplot] = AMINonVee.plot_usage_around_outage(\n",
    "    fig=fig, \n",
    "    ax=axs[i_subplot], \n",
    "    data=ami_df_i, \n",
    "    title_args=dict(label=f\"#SNs = {ami_df_i['serialnumber'].nunique()}\", fontdict=dict(fontsize=24)), \n",
    "    **shared_plot_kwargs\n",
    ")\n",
    "#-----\n",
    "add_all_best_ests_to_axis(\n",
    "    axs[i_subplot], \n",
    "    means_df, \n",
    "    line_kwargs_by_est_key=dict(\n",
    "        conservative=dict(alpha=0.25, linewidth=5.0, ymax=0.6), \n",
    "        zero_times=dict(alpha=0.25, linewidth=5.0, ymax=0.4) \n",
    "    ), \n",
    "    keys_to_include=['winner', 'conservative', 'zero_times']\n",
    ")\n",
    "#-----\n",
    "axs[i_subplot].legend().set_visible(False)\n",
    "Plot_General.set_general_plotting_args(\n",
    "    ax=axs[i_subplot], \n",
    "    tick_args =[\n",
    "        dict(axis='x', labelrotation=0, labelsize=14.0, direction='out'), \n",
    "        dict(axis='y', labelrotation=0, labelsize=14.0, direction='out')\n",
    "    ], \n",
    "    xlabel_args=dict(xlabel='15T Interval Start Time', fontsize=16), \n",
    "    ylabel_args=dict(ylabel='Voltage (V)', fontsize=16)\n",
    ")\n",
    "#-------------------------\n",
    "fig_num += 1\n",
    "\n",
    "#-------------------------\n",
    "Plot_General.save_fig(\n",
    "    fig=fig, \n",
    "    save_dir=r'C:\\Users\\s346557\\Documents\\Presentations\\ForPeggy_Nov2023', \n",
    "    save_name='Fig_a_2.png'\n",
    ")"
   ]
  },
  {
   "cell_type": "code",
   "execution_count": null,
   "id": "6283a71d",
   "metadata": {},
   "outputs": [],
   "source": [
    "means_df"
   ]
  },
  {
   "cell_type": "code",
   "execution_count": null,
   "id": "f214bd12",
   "metadata": {},
   "outputs": [],
   "source": [
    "dovs_outg_t_beg"
   ]
  },
  {
   "cell_type": "code",
   "execution_count": null,
   "id": "cc0a2179",
   "metadata": {},
   "outputs": [],
   "source": [
    "dovs_outg_t_end"
   ]
  },
  {
   "cell_type": "code",
   "execution_count": null,
   "id": "6b5cf884",
   "metadata": {},
   "outputs": [],
   "source": [
    "pd.to_datetime('2023-09-11 14:08:00')-(pd.Timedelta('13T')+pd.Timedelta('27s'))"
   ]
  },
  {
   "cell_type": "code",
   "execution_count": null,
   "id": "108ebe45",
   "metadata": {},
   "outputs": [],
   "source": []
  },
  {
   "cell_type": "markdown",
   "id": "361f1ed0",
   "metadata": {},
   "source": [
    "# DEV"
   ]
  },
  {
   "cell_type": "code",
   "execution_count": null,
   "id": "0837453b",
   "metadata": {},
   "outputs": [],
   "source": []
  },
  {
   "cell_type": "code",
   "execution_count": null,
   "id": "5c9f6529",
   "metadata": {},
   "outputs": [],
   "source": [
    "# outg_rec_nb = '13294714'\n",
    "outg_rec_nb = '13464904'"
   ]
  },
  {
   "cell_type": "code",
   "execution_count": null,
   "id": "8e26c500",
   "metadata": {},
   "outputs": [],
   "source": [
    "search_time_half_window=pd.Timedelta('24 hours')\n",
    "#-------------------------\n",
    "audit_i = DOVSAudit(\n",
    "    outg_rec_nb=outg_rec_nb\n",
    ")\n",
    "#-------------------------\n",
    "audit_i.load_dovs(\n",
    "    dovs_df           = None, \n",
    "    dovs_df_info_dict = None\n",
    ")\n",
    "#-------------------------\n",
    "audit_i.build_mp_df(\n",
    "    drop_mp_dups_fuzziness=pd.Timedelta('1 hour')\n",
    ")\n",
    "#-------------------------\n",
    "audit_i.run_ami_and_ede_daq(\n",
    "    search_time_half_window=search_time_half_window\n",
    ")"
   ]
  },
  {
   "cell_type": "code",
   "execution_count": null,
   "id": "2c1d3419",
   "metadata": {},
   "outputs": [],
   "source": [
    "audit_i.build_best_ests_df()\n",
    "audit_i.best_ests_df"
   ]
  },
  {
   "cell_type": "code",
   "execution_count": null,
   "id": "fa31309a",
   "metadata": {},
   "outputs": [],
   "source": []
  },
  {
   "cell_type": "code",
   "execution_count": null,
   "id": "3dd3f859",
   "metadata": {},
   "outputs": [],
   "source": []
  },
  {
   "cell_type": "code",
   "execution_count": null,
   "id": "7e4acce6",
   "metadata": {},
   "outputs": [],
   "source": [
    "audit_i.identify_overlaps(overlaps_dovs_sql_fcn=DOVSOutages_SQL.build_sql_outage)"
   ]
  },
  {
   "cell_type": "code",
   "execution_count": null,
   "id": "65302bc5",
   "metadata": {},
   "outputs": [],
   "source": [
    "audit_i.resolve_overlapping_audits()"
   ]
  },
  {
   "cell_type": "code",
   "execution_count": null,
   "id": "113f5669",
   "metadata": {},
   "outputs": [],
   "source": [
    "best_ests_df = audit_i.best_ests_df.copy()"
   ]
  },
  {
   "cell_type": "code",
   "execution_count": null,
   "id": "ff9b811f",
   "metadata": {},
   "outputs": [],
   "source": [
    "best_ests_df"
   ]
  },
  {
   "cell_type": "code",
   "execution_count": null,
   "id": "23ae9dd2",
   "metadata": {},
   "outputs": [],
   "source": [
    "likeness_thresh = pd.Timedelta('1 minutes')\n",
    "SN_col = 'SN'\n",
    "PN_col = 'PN'\n",
    "i_outg_col = 'i_outg'     "
   ]
  },
  {
   "cell_type": "code",
   "execution_count": null,
   "id": "4680a5fa",
   "metadata": {},
   "outputs": [],
   "source": [
    "minmax_cols = [x for x in best_ests_df.columns.tolist() if x not in [SN_col, PN_col, i_outg_col]]\n",
    "min_cols = [x for x in best_ests_df.columns.tolist() if x.endswith('_min')]\n",
    "max_cols = [x for x in best_ests_df.columns.tolist() if x.endswith('_max')]"
   ]
  },
  {
   "cell_type": "code",
   "execution_count": null,
   "id": "497d19f9",
   "metadata": {},
   "outputs": [],
   "source": [
    "minmax_cols"
   ]
  },
  {
   "cell_type": "code",
   "execution_count": null,
   "id": "a6821442",
   "metadata": {},
   "outputs": [],
   "source": []
  },
  {
   "cell_type": "code",
   "execution_count": null,
   "id": "b9643d17",
   "metadata": {},
   "outputs": [],
   "source": [
    "%run ./check_DOVS_METHODS.ipynb\n",
    "fig_num=0"
   ]
  },
  {
   "cell_type": "code",
   "execution_count": null,
   "id": "73cbacf5",
   "metadata": {},
   "outputs": [],
   "source": [
    "best_ests_df = audit_i.best_ests_df.copy()\n",
    "ami_df_i = audit_i.ami_df_i.copy()\n",
    "#-----\n",
    "dovs_outg_t_beg_end = audit_i.dovs_outg_t_beg_end\n",
    "dovs_outg_t_beg = dovs_outg_t_beg_end[0]\n",
    "dovs_outg_t_end = dovs_outg_t_beg_end[1]\n",
    "#-----\n",
    "outage_nb  = audit_i.outage_nb\n",
    "n_PNs_dovs = audit_i.n_PNs_dovs\n",
    "ci_dovs    = audit_i.ci_cmi_dovs[0]\n",
    "cmi_dovs   = audit_i.ci_cmi_dovs[1]\n",
    "ci_ami     = best_ests_df['PN'].nunique() \n",
    "cmi_ami    = (best_ests_df['winner_max']-best_ests_df['winner_min']).sum().total_seconds()/60\n",
    "threshold=95\n",
    "#-------------------------\n",
    "outg_SNs = best_ests_df['PN'].unique().tolist()\n",
    "ami_df_i_out      = ami_df_i[ami_df_i['aep_premise_nb'].isin(outg_SNs)]\n",
    "ami_df_i_not_out  = ami_df_i[~ami_df_i['aep_premise_nb'].isin(outg_SNs)]\n",
    "#-------------------------\n",
    "means_df, best_ests_df_w_db_lbl = DOVSAudit.get_mean_times_w_dbscan(\n",
    "    best_ests_df, \n",
    "    eps_min=5, \n",
    "    min_samples=2, \n",
    "    ests_to_include_in_clustering=['winner_min', 'winner_max'],\n",
    "    ests_to_include_in_output=[\n",
    "        'winner_min', 'winner_max', \n",
    "        'conservative_min', 'conservative_max', \n",
    "        'zero_times_min', 'zero_times_max'\n",
    "    ], \n",
    "    return_labelled_best_ests_df=True\n",
    ")\n",
    "#-------------------------\n",
    "n_PNs_w_power_srs = DOVSAudit.build_n_PNs_w_power_srs(\n",
    "    best_ests_df, \n",
    "    ami_df_i, \n",
    "    return_pct=True, \n",
    "    PN_col='PN', \n",
    "    t_min_col='winner_min', \n",
    "    t_max_col='winner_max', \n",
    "    i_outg_col='i_outg', \n",
    "    PN_col_ami_df='aep_premise_nb'\n",
    ")"
   ]
  },
  {
   "cell_type": "code",
   "execution_count": null,
   "id": "7f018e22",
   "metadata": {},
   "outputs": [],
   "source": [
    "fig, axs = plot_all_out_not_NEW(\n",
    "    fig_num              = fig_num, \n",
    "    ami_df_i             = ami_df_i, \n",
    "    ami_df_i_out         = ami_df_i_out, \n",
    "    ami_df_i_not_out     = ami_df_i_not_out, \n",
    "    dovs_outg_t_beg      = dovs_outg_t_beg, \n",
    "    dovs_outg_t_end      = dovs_outg_t_end, \n",
    "    cnsrvtv_out_t_beg    = best_ests_df['conservative_min'].min(), \n",
    "    cnsrvtv_out_t_end    = best_ests_df['conservative_max'].max(), \n",
    "    means_df             = means_df, \n",
    "    outg_rec_nb          = outg_rec_nb, \n",
    "    outage_nb            = outage_nb, \n",
    "    n_PNs_dovs           = n_PNs_dovs, \n",
    "    ci_dovs              = ci_dovs, \n",
    "    cmi_dovs             = cmi_dovs, \n",
    "    ci_ami               = ci_ami, \n",
    "    cmi_ami              = cmi_ami, \n",
    "    name                 = 'AMI', \n",
    "    results_2_dict       = None, \n",
    "    expand_time          = pd.Timedelta('1 hour'), \n",
    "    mean_keys_to_include = ['winner', 'conservative', 'zero_times'], \n",
    "    removed_due_to_overlap_col=None, \n",
    "    default_subplots_args=dict(n_x=2, n_y=2, row_major=True), \n",
    "    leg_i_plot=1, \n",
    "    leg_kwargs=dict(ncols=1, fontsize=15, bbox_to_anchor=(1, 1.2)), \n",
    "    ci_info_fontsize=16, \n",
    "    left_text_x=0.915\n",
    "    \n",
    ")\n",
    "\n",
    "fig,axs[3] = DOVSAudit.static_plot_n_PNs_w_power_srs(\n",
    "    n_PNs_w_power_srs, \n",
    "    simp_freq='1T', \n",
    "    threshold=threshold, \n",
    "    fig_num=fig_num, \n",
    "    fig_ax=(fig, axs[3]), \n",
    "    threshold_color='magenta'\n",
    ")\n",
    "\n",
    "fig_num += 1"
   ]
  },
  {
   "cell_type": "code",
   "execution_count": null,
   "id": "0791fc04",
   "metadata": {},
   "outputs": [],
   "source": []
  },
  {
   "cell_type": "code",
   "execution_count": null,
   "id": "faca9d62",
   "metadata": {},
   "outputs": [],
   "source": []
  },
  {
   "cell_type": "markdown",
   "id": "fcfd1d94",
   "metadata": {},
   "source": [
    "# Sample plot: Overlapping sub-outages"
   ]
  },
  {
   "cell_type": "code",
   "execution_count": null,
   "id": "bb7c2c08",
   "metadata": {
    "scrolled": true
   },
   "outputs": [],
   "source": [
    "search_time_half_window=pd.Timedelta('24 hours')\n",
    "#-------------------------\n",
    "audit_1 = DOVSAudit(\n",
    "    outg_rec_nb='13686882'\n",
    ")\n",
    "#-------------------------\n",
    "audit_1.load_dovs(\n",
    "    dovs_df           = None, \n",
    "    dovs_df_info_dict = None\n",
    ")\n",
    "#-------------------------\n",
    "audit_1.build_mp_df(\n",
    "    drop_mp_dups_fuzziness=pd.Timedelta('1 hour')\n",
    ")\n",
    "#-------------------------\n",
    "audit_1.run_ami_and_ede_daq(\n",
    "    search_time_half_window=search_time_half_window\n",
    ")\n",
    "#-------------------------\n",
    "audit_1.build_best_ests_df()\n",
    "#-------------------------\n"
   ]
  },
  {
   "cell_type": "code",
   "execution_count": null,
   "id": "fb25a483",
   "metadata": {},
   "outputs": [],
   "source": [
    "fig, ax = Plot_General.default_subplots()\n",
    "AMINonVee.plot_usage_around_outage(\n",
    "    fig=fig,\n",
    "    ax=ax,\n",
    "    data=audit_1.ami_df_i,\n",
    "    x='starttimeperiod_local',\n",
    "    y='value',\n",
    "    hue='serialnumber',\n",
    "    out_t_beg=audit_1.dovs_outg_t_beg_end[0],\n",
    "    out_t_end=audit_1.dovs_outg_t_beg_end[1],\n",
    "    expand_time=pd.Timedelta('1h'),\n",
    ")\n",
    "ax.legend().set_visible(False)"
   ]
  },
  {
   "cell_type": "code",
   "execution_count": null,
   "id": "81054c59",
   "metadata": {},
   "outputs": [],
   "source": [
    "audit_1.identify_overlaps(overlaps_dovs_sql_fcn=DOVSOutages_SQL.build_sql_outage)"
   ]
  },
  {
   "cell_type": "code",
   "execution_count": null,
   "id": "733e11fa",
   "metadata": {},
   "outputs": [],
   "source": [
    "audit_1.resolve_overlapping_audits()"
   ]
  },
  {
   "cell_type": "code",
   "execution_count": null,
   "id": "765a270a",
   "metadata": {},
   "outputs": [],
   "source": [
    "audit_i=copy.deepcopy(audit_1)"
   ]
  },
  {
   "cell_type": "code",
   "execution_count": null,
   "id": "77b715ee",
   "metadata": {},
   "outputs": [],
   "source": [
    "best_ests_df = audit_i.best_ests_df.copy()\n",
    "ami_df_i = audit_i.ami_df_i.copy()\n",
    "#-----\n",
    "dovs_outg_t_beg_end = audit_i.dovs_outg_t_beg_end\n",
    "dovs_outg_t_beg = dovs_outg_t_beg_end[0]\n",
    "dovs_outg_t_end = dovs_outg_t_beg_end[1]\n",
    "#-----\n",
    "outage_nb  = audit_i.outage_nb\n",
    "n_PNs_dovs = audit_i.n_PNs_dovs\n",
    "ci_dovs    = audit_i.ci_cmi_dovs[0]\n",
    "cmi_dovs   = audit_i.ci_cmi_dovs[1]\n",
    "ci_ami     = best_ests_df['PN'].nunique() \n",
    "cmi_ami    = (best_ests_df['winner_max']-best_ests_df['winner_min']).sum().total_seconds()/60\n",
    "threshold=95\n",
    "#-------------------------\n",
    "outg_SNs = best_ests_df['PN'].unique().tolist()\n",
    "ami_df_i_out      = ami_df_i[ami_df_i['aep_premise_nb'].isin(outg_SNs)]\n",
    "ami_df_i_not_out  = ami_df_i[~ami_df_i['aep_premise_nb'].isin(outg_SNs)]\n",
    "#-------------------------\n",
    "means_df, best_ests_df_w_db_lbl = DOVSAudit.get_mean_times_w_dbscan(\n",
    "    best_ests_df, \n",
    "    eps_min=5, \n",
    "    min_samples=2, \n",
    "    ests_to_include_in_clustering=['winner_min', 'winner_max'],\n",
    "    ests_to_include_in_output=[\n",
    "        'winner_min', 'winner_max', \n",
    "        'conservative_min', 'conservative_max', \n",
    "        'zero_times_min', 'zero_times_max'\n",
    "    ], \n",
    "    return_labelled_best_ests_df=True\n",
    ")\n",
    "#-------------------------\n",
    "n_PNs_w_power_srs = DOVSAudit.build_n_PNs_w_power_srs(\n",
    "    best_ests_df, \n",
    "    ami_df_i, \n",
    "    return_pct=True, \n",
    "    PN_col='PN', \n",
    "    t_min_col='winner_min', \n",
    "    t_max_col='winner_max', \n",
    "    i_outg_col='i_outg', \n",
    "    PN_col_ami_df='aep_premise_nb'\n",
    ")"
   ]
  },
  {
   "cell_type": "code",
   "execution_count": null,
   "id": "de2631cd",
   "metadata": {},
   "outputs": [],
   "source": [
    "%run ./check_DOVS_METHODS.ipynb"
   ]
  },
  {
   "cell_type": "code",
   "execution_count": null,
   "id": "70e4569c",
   "metadata": {},
   "outputs": [],
   "source": [
    "fig_num=0\n",
    "fig, axs = plot_all_out_not_NEW(\n",
    "    fig_num              = fig_num, \n",
    "    ami_df_i             = ami_df_i, \n",
    "    ami_df_i_out         = ami_df_i_out, \n",
    "    ami_df_i_not_out     = ami_df_i_not_out, \n",
    "    dovs_outg_t_beg      = dovs_outg_t_beg, \n",
    "    dovs_outg_t_end      = dovs_outg_t_end, \n",
    "    cnsrvtv_out_t_beg    = best_ests_df['conservative_min'].min(), \n",
    "    cnsrvtv_out_t_end    = best_ests_df['conservative_max'].max(), \n",
    "    means_df             = means_df, \n",
    "    outg_rec_nb          = audit_i.outg_rec_nb, \n",
    "    outage_nb            = audit_i.outage_nb, \n",
    "    n_PNs_dovs           = audit_i.n_PNs_dovs, \n",
    "    ci_dovs              = audit_i.ci_cmi_dovs[0], \n",
    "    cmi_dovs             = audit_i.ci_cmi_dovs[0], \n",
    "    ci_ami               = audit_i.ci, \n",
    "    cmi_ami              = audit_i.cmi, \n",
    "    name                 = 'AMI', \n",
    "    results_2_dict       = None, \n",
    "    expand_time          = pd.Timedelta('1 hour'), \n",
    "    mean_keys_to_include = ['winner', 'conservative', 'zero_times'], \n",
    "    removed_due_to_overlap_col=None, \n",
    "    default_subplots_args=dict(n_x=2, n_y=2, row_major=True, sharex=True), \n",
    "    leg_i_plot=1, \n",
    "    leg_kwargs=dict(ncols=1, fontsize=15, bbox_to_anchor=(1, 1.2)), \n",
    "    ci_info_fontsize=16, \n",
    "    left_text_x=0.915\n",
    "    \n",
    ")\n",
    "\n",
    "fig,axs[3] = DOVSAudit.static_plot_n_PNs_w_power_srs(\n",
    "    n_PNs_w_power_srs, \n",
    "    simp_freq='1T', \n",
    "    threshold=threshold, \n",
    "    fig_num=fig_num, \n",
    "    fig_ax=(fig, axs[3]), \n",
    "    threshold_color='magenta'\n",
    ")\n",
    "\n",
    "for ax_i in axs:\n",
    "    ax_i.xaxis.set_tick_params(labelbottom=True)\n",
    "\n",
    "# Plot_General.save_fig(\n",
    "#     fig=fig, \n",
    "#     save_dir=r'C:\\Users\\s346557\\Documents\\Presentations\\DOVS_check\\_DemoFigs\\Overlap_suboutgs', \n",
    "#     save_name='Overlap_suboutgs_CORRECT.png', \n",
    "#     bbox_inches='tight'\n",
    "# )\n",
    "\n",
    "fig_num += 1"
   ]
  },
  {
   "cell_type": "code",
   "execution_count": null,
   "id": "366231df",
   "metadata": {},
   "outputs": [],
   "source": []
  },
  {
   "cell_type": "code",
   "execution_count": null,
   "id": "e87f7c76",
   "metadata": {},
   "outputs": [],
   "source": [
    "fig_num=0\n",
    "best_ests_df_i = best_ests_df[best_ests_df['PN']=='023368334']\n",
    "fig, axs = plot_all_out_not_NEW(\n",
    "    fig_num              = fig_num, \n",
    "    ami_df_i             = ami_df_i[ami_df_i['aep_premise_nb']=='023368334'], \n",
    "    ami_df_i_out         = ami_df_i_out[ami_df_i_out['aep_premise_nb']=='023368334'], \n",
    "    ami_df_i_not_out     = ami_df_i_not_out[ami_df_i_not_out['aep_premise_nb']=='023368334'], \n",
    "    dovs_outg_t_beg      = dovs_outg_t_beg, \n",
    "    dovs_outg_t_end      = dovs_outg_t_end, \n",
    "    cnsrvtv_out_t_beg    = best_ests_df['conservative_min'].min(), \n",
    "    cnsrvtv_out_t_end    = best_ests_df['conservative_max'].max(), \n",
    "    means_df             = best_ests_df_i, \n",
    "    outg_rec_nb          = audit_i.outg_rec_nb, \n",
    "    outage_nb            = audit_i.outage_nb, \n",
    "    n_PNs_dovs           = audit_i.n_PNs_dovs, \n",
    "    ci_dovs              = audit_i.ci_cmi_dovs[0], \n",
    "    cmi_dovs             = audit_i.ci_cmi_dovs[0], \n",
    "    ci_ami               = audit_i.ci, \n",
    "    cmi_ami              = audit_i.cmi, \n",
    "    name                 = 'AMI', \n",
    "    results_2_dict       = None, \n",
    "    expand_time          = pd.Timedelta('1 hour'), \n",
    "    mean_keys_to_include = ['winner', 'conservative', 'zero_times'], \n",
    "    removed_due_to_overlap_col=None, \n",
    "    default_subplots_args=dict(n_x=2, n_y=2, row_major=True, sharex=True), \n",
    "    leg_i_plot=1, \n",
    "    leg_kwargs=dict(ncols=1, fontsize=15, bbox_to_anchor=(1, 1.2)), \n",
    "    ci_info_fontsize=16, \n",
    "    left_text_x=0.915\n",
    "    \n",
    ")\n",
    "axs[1].set_title(f\"CMI = {np.round((best_ests_df_i['winner_max']-best_ests_df_i['winner_min']).sum().total_seconds()/60, 2)}\", fontdict=dict(fontsize=24))\n",
    "\n",
    "fig,axs[3] = DOVSAudit.static_plot_n_PNs_w_power_srs(\n",
    "    n_PNs_w_power_srs, \n",
    "    simp_freq='1T', \n",
    "    threshold=threshold, \n",
    "    fig_num=fig_num, \n",
    "    fig_ax=(fig, axs[3]), \n",
    "    threshold_color='magenta'\n",
    ")\n",
    "\n",
    "for ax_i in axs:\n",
    "    ax_i.xaxis.set_tick_params(labelbottom=True)\n",
    "\n",
    "# Plot_General.save_fig(\n",
    "#     fig=fig, \n",
    "#     save_dir=r'C:\\Users\\s346557\\Documents\\Presentations\\DOVS_check\\_DemoFigs\\Overlap_suboutgs', \n",
    "#     save_name='Overlap_suboutgs_CORRECT_i.png', \n",
    "#     bbox_inches='tight'\n",
    "# )\n",
    "\n",
    "fig_num += 1"
   ]
  },
  {
   "cell_type": "code",
   "execution_count": null,
   "id": "4c14d89c",
   "metadata": {},
   "outputs": [],
   "source": [
    "best_ests_df"
   ]
  },
  {
   "cell_type": "code",
   "execution_count": null,
   "id": "738cc776",
   "metadata": {},
   "outputs": [],
   "source": [
    "best_ests_df_i"
   ]
  },
  {
   "cell_type": "code",
   "execution_count": null,
   "id": "c8a23d68",
   "metadata": {},
   "outputs": [],
   "source": []
  },
  {
   "cell_type": "code",
   "execution_count": null,
   "id": "35fd4d33",
   "metadata": {},
   "outputs": [],
   "source": [
    "fig_num=0 \n",
    "best_ests_df_i2 = best_ests_df[best_ests_df['PN']=='020115172']\n",
    "fig, axs = plot_all_out_not_NEW(\n",
    "    fig_num              = fig_num, \n",
    "    ami_df_i             = ami_df_i[ami_df_i['aep_premise_nb']=='020115172'], \n",
    "    ami_df_i_out         = ami_df_i_out[ami_df_i_out['aep_premise_nb']=='020115172'], \n",
    "    ami_df_i_not_out     = ami_df_i_not_out[ami_df_i_not_out['aep_premise_nb']=='020115172'], \n",
    "    dovs_outg_t_beg      = dovs_outg_t_beg, \n",
    "    dovs_outg_t_end      = dovs_outg_t_end, \n",
    "    cnsrvtv_out_t_beg    = best_ests_df['conservative_min'].min(), \n",
    "    cnsrvtv_out_t_end    = best_ests_df['conservative_max'].max(), \n",
    "    means_df             = best_ests_df_i2, \n",
    "    outg_rec_nb          = audit_i.outg_rec_nb, \n",
    "    outage_nb            = audit_i.outage_nb, \n",
    "    n_PNs_dovs           = audit_i.n_PNs_dovs, \n",
    "    ci_dovs              = audit_i.ci_cmi_dovs[0], \n",
    "    cmi_dovs             = audit_i.ci_cmi_dovs[0], \n",
    "    ci_ami               = audit_i.ci, \n",
    "    cmi_ami              = audit_i.cmi, \n",
    "    name                 = 'AMI', \n",
    "    results_2_dict       = None, \n",
    "    expand_time          = pd.Timedelta('1 hour'), \n",
    "    mean_keys_to_include = ['winner', 'conservative', 'zero_times'], \n",
    "    removed_due_to_overlap_col=None, \n",
    "    default_subplots_args=dict(n_x=2, n_y=2, row_major=True, sharex=True), \n",
    "    leg_i_plot=1, \n",
    "    leg_kwargs=dict(ncols=1, fontsize=15, bbox_to_anchor=(1, 1.2)), \n",
    "    ci_info_fontsize=16, \n",
    "    left_text_x=0.915\n",
    "    \n",
    ")\n",
    "axs[1].set_title(f\"CMI = {np.round((best_ests_df_i2['winner_max']-best_ests_df_i2['winner_min']).sum().total_seconds()/60, 2)}\", fontdict=dict(fontsize=24))\n",
    "\n",
    "fig,axs[3] = DOVSAudit.static_plot_n_PNs_w_power_srs(\n",
    "    n_PNs_w_power_srs, \n",
    "    simp_freq='1T', \n",
    "    threshold=threshold, \n",
    "    fig_num=fig_num, \n",
    "    fig_ax=(fig, axs[3]), \n",
    "    threshold_color='magenta'\n",
    ")\n",
    "\n",
    "for ax_i in axs:\n",
    "    ax_i.xaxis.set_tick_params(labelbottom=True)\n",
    "\n",
    "# Plot_General.save_fig(\n",
    "#     fig=fig, \n",
    "#     save_dir=r'C:\\Users\\s346557\\Documents\\Presentations\\DOVS_check\\_DemoFigs\\Overlap_suboutgs', \n",
    "#     save_name='Overlap_suboutgs_CORRECT_i2.png', \n",
    "#     bbox_inches='tight'\n",
    "# )\n",
    "\n",
    "fig_num += 1"
   ]
  },
  {
   "cell_type": "code",
   "execution_count": null,
   "id": "eb569f43",
   "metadata": {},
   "outputs": [],
   "source": [
    "best_ests_df_i2"
   ]
  },
  {
   "cell_type": "code",
   "execution_count": null,
   "id": "841d89a0",
   "metadata": {},
   "outputs": [],
   "source": []
  },
  {
   "cell_type": "code",
   "execution_count": null,
   "id": "a6fbf802-dfd7-485c-a727-b2d294edd137",
   "metadata": {},
   "outputs": [],
   "source": []
  }
 ],
 "metadata": {
  "kernelspec": {
   "display_name": "Python 3 (ipykernel)",
   "language": "python",
   "name": "python3"
  },
  "language_info": {
   "codemirror_mode": {
    "name": "ipython",
    "version": 3
   },
   "file_extension": ".py",
   "mimetype": "text/x-python",
   "name": "python",
   "nbconvert_exporter": "python",
   "pygments_lexer": "ipython3",
   "version": "3.11.7"
  }
 },
 "nbformat": 4,
 "nbformat_minor": 5
}
