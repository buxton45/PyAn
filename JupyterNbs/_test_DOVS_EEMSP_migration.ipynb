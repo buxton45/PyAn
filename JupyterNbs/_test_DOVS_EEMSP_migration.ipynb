{
 "cells": [
  {
   "cell_type": "code",
   "execution_count": null,
   "id": "fb520489",
   "metadata": {},
   "outputs": [],
   "source": [
    "%run ./model_end_events_for_outages_METHODS.ipynb"
   ]
  },
  {
   "cell_type": "code",
   "execution_count": null,
   "id": "b5755605",
   "metadata": {},
   "outputs": [],
   "source": [
    "from importlib import reload\n",
    "#reload(Utilities)\n",
    "#reload(clm)\n",
    "# NOTE: To reload a class imported as, e.g., \n",
    "# from module import class\n",
    "# One must call:\n",
    "#   1. import module\n",
    "#   2. reload module\n",
    "#   3. from module import class\n",
    "\n",
    "import sys, os\n",
    "import re\n",
    "import string\n",
    "from pathlib import Path\n",
    "import json\n",
    "import pickle\n",
    "\n",
    "import pandas as pd\n",
    "import numpy as np\n",
    "from pandas.api.types import is_numeric_dtype, is_datetime64_dtype, is_timedelta64_dtype\n",
    "from scipy import stats\n",
    "import datetime\n",
    "import time\n",
    "from natsort import natsorted, ns, natsort_keygen\n",
    "from packaging import version\n",
    "import copy\n",
    "from functools import reduce\n",
    "\n",
    "import itertools\n",
    "\n",
    "import pyodbc\n",
    "#---------------------------------------------------------------------\n",
    "import matplotlib as mpl\n",
    "import matplotlib.pyplot as plt\n",
    "import seaborn as sns\n",
    "from matplotlib.backends.backend_pdf import PdfPages\n",
    "import matplotlib.patches as mpatches\n",
    "from matplotlib.lines import Line2D\n",
    "import matplotlib.ticker as ticker\n",
    "from matplotlib import dates\n",
    "import matplotlib.colors as mcolors\n",
    "import matplotlib.cm as cm #e.g. for cmap=cm.jet\n",
    "#---------------------------------------------------------------------\n",
    "sys.path.insert(0, os.path.realpath('..'))\n",
    "import Utilities_config\n",
    "#-----\n",
    "import CommonLearningMethods as clm\n",
    "#-----\n",
    "from MeterPremise import MeterPremise\n",
    "from EEMSP import EEMSP\n",
    "#-----\n",
    "from AMI_SQL import AMI_SQL\n",
    "from AMINonVee_SQL import AMINonVee_SQL\n",
    "from AMIEndEvents_SQL import AMIEndEvents_SQL\n",
    "from AMIUsgInst_SQL import AMIUsgInst_SQL\n",
    "from DOVSOutages_SQL import DOVSOutages_SQL\n",
    "#-----\n",
    "from GenAn import GenAn\n",
    "from AMINonVee import AMINonVee\n",
    "from AMIEndEvents import AMIEndEvents\n",
    "from AMIEDE_DEV import AMIEDE_DEV\n",
    "from MECPODf import MECPODf\n",
    "from MECPOAn import MECPOAn\n",
    "from MECPOCollection import MECPOCollection\n",
    "from AMIUsgInst import AMIUsgInst\n",
    "from DOVSOutages import DOVSOutages\n",
    "#---------------------------------------------------------------------\n",
    "sys.path.insert(0, Utilities_config.get_sql_aids_dir())\n",
    "import Utilities_sql\n",
    "import TableInfos\n",
    "from TableInfos import TableInfo\n",
    "from SQLElement import SQLElement\n",
    "from SQLElementsCollection import SQLElementsCollection\n",
    "from SQLSelect import SQLSelectElement, SQLSelect\n",
    "from SQLFrom import SQLFrom\n",
    "from SQLWhere import SQLWhereElement, SQLWhere\n",
    "from SQLJoin import SQLJoin, SQLJoinCollection\n",
    "from SQLGroupBy import SQLGroupByElement, SQLGroupBy\n",
    "from SQLHaving import SQLHaving\n",
    "from SQLOrderBy import SQLOrderByElement, SQLOrderBy\n",
    "from SQLQuery import SQLQuery\n",
    "from SQLQueryGeneric import SQLQueryGeneric\n",
    "#---------------------------------------------------------------------\n",
    "#sys.path.insert(0, os.path.join(os.path.realpath('..'), 'Utilities'))\n",
    "sys.path.insert(0, Utilities_config.get_utilities_dir())\n",
    "import Utilities\n",
    "import Utilities_df\n",
    "from Utilities_df import DFConstructType\n",
    "import Utilities_dt\n",
    "import Plot_General\n",
    "import Plot_Box_sns\n",
    "import Plot_Hist\n",
    "import Plot_Bar\n",
    "import GrubbsTest\n",
    "import DataFrameSubsetSlicer\n",
    "from DataFrameSubsetSlicer import DataFrameSubsetSlicer as DFSlicer\n",
    "from CustomJSON import CustomEncoder, CustomWriter"
   ]
  },
  {
   "cell_type": "code",
   "execution_count": null,
   "id": "66d8ba61",
   "metadata": {},
   "outputs": [],
   "source": [
    "from sklearn.preprocessing import OrdinalEncoder"
   ]
  },
  {
   "cell_type": "code",
   "execution_count": null,
   "id": "68f7b1f1",
   "metadata": {},
   "outputs": [],
   "source": [
    "from sklearn.base import BaseEstimator\n",
    "from sklearn.preprocessing import StandardScaler\n",
    "from sklearn.model_selection import train_test_split, GroupShuffleSplit, GridSearchCV, RandomizedSearchCV, cross_val_score, cross_val_predict\n",
    "from sklearn import metrics\n",
    "from sklearn.metrics import confusion_matrix, ConfusionMatrixDisplay, accuracy_score, precision_score, recall_score, f1_score, precision_recall_curve, roc_curve\n",
    "\n",
    "from sklearn.linear_model import LogisticRegression, SGDClassifier\n",
    "from sklearn.ensemble import RandomForestClassifier\n",
    "from sklearn.decomposition import PCA\n",
    "from sklearn import preprocessing\n",
    "\n",
    "import tensorflow as tf\n",
    "from tensorflow import keras\n",
    "\n",
    "import scipy\n",
    "\n",
    "from sklearn.ensemble import AdaBoostClassifier\n",
    "from sklearn.tree import DecisionTreeClassifier"
   ]
  },
  {
   "cell_type": "markdown",
   "id": "33459065",
   "metadata": {},
   "source": [
    "# ---------------------------------------------------------------------------------------------------"
   ]
  },
  {
   "cell_type": "code",
   "execution_count": null,
   "id": "d471c01e",
   "metadata": {},
   "outputs": [],
   "source": [
    "fig_num=0\n",
    "\n",
    "# save_dir_model_base = r'C:\\Users\\s346557\\Documents\\LocalData\\dovs_and_end_events_data\\20230615\\Models_00_05'\n",
    "save_dir_model_base = r'C:\\Users\\s346557\\Documents\\LocalData\\dovs_and_end_events_data\\20230615\\Models'\n",
    "\n",
    "merged_df_full=pd.read_pickle(os.path.join(save_dir_model_base, 'merged_df_full.pkl'))"
   ]
  },
  {
   "cell_type": "code",
   "execution_count": null,
   "id": "3f81e311",
   "metadata": {},
   "outputs": [],
   "source": []
  },
  {
   "cell_type": "markdown",
   "id": "a3b7fac1",
   "metadata": {},
   "source": [
    "# =========================================================\n",
    "# ========================================================="
   ]
  },
  {
   "cell_type": "markdown",
   "id": "885c5e72",
   "metadata": {},
   "source": [
    "# EEMSP"
   ]
  },
  {
   "cell_type": "code",
   "execution_count": null,
   "id": "0494532a",
   "metadata": {},
   "outputs": [],
   "source": [
    "merged_df_full = merged_df_full[:10000]"
   ]
  },
  {
   "cell_type": "code",
   "execution_count": null,
   "id": "76036f55",
   "metadata": {},
   "outputs": [],
   "source": [
    "trsf_pole_nbs = list(set(\n",
    "    merged_df_full.index.get_level_values(1).unique().tolist()\n",
    "))\n",
    "#-------------------------\n",
    "conn_eemsp = Utilities.get_eemsp_oracle_connection()\n",
    "df_eemsp_OG = build_df_eemsp(conn_eemsp, trsf_pole_nbs, batch_size=1000, verbose=True, n_update=10)\n",
    "#-------------------------\n",
    "df_eemsp_OG = Utilities_df.make_all_column_names_lowercase(df_eemsp_OG)"
   ]
  },
  {
   "cell_type": "code",
   "execution_count": null,
   "id": "7c37c711",
   "metadata": {},
   "outputs": [],
   "source": []
  },
  {
   "cell_type": "code",
   "execution_count": null,
   "id": "395232d3",
   "metadata": {},
   "outputs": [],
   "source": [
    "# conn_dev = Utilities.get_athena_dev_aws_connection()\n",
    "conn_dev = Utilities.get_athena_prod_aws_connection()\n",
    "#-----\n",
    "sql_NEW = \"\"\"\n",
    "SELECT * \n",
    "FROM meter_events.eems_transformer_nameplate\n",
    "WHERE location_nb IN ({})\n",
    "\"\"\".format(Utilities_sql.join_list(trsf_pole_nbs, quotes_needed=True))\n",
    "#-----\n",
    "df_eemsp_NEW = pd.read_sql_query(sql_NEW, conn_dev)\n",
    "df_eemsp_NEW = df_eemsp_NEW[df_eemsp_OG.columns]\n",
    "#-----\n",
    "df_eemsp_NEW['install_dt'] = pd.to_datetime(df_eemsp_NEW['install_dt'])\n",
    "df_eemsp_NEW['removal_dt'] = pd.to_datetime(df_eemsp_NEW['removal_dt'])"
   ]
  },
  {
   "cell_type": "code",
   "execution_count": null,
   "id": "7ee143c7",
   "metadata": {},
   "outputs": [],
   "source": [
    "gp_by = ['eqseq_id', 'equip_id', 'serial_nb', 'transaction_id', 'install_dt']\n",
    "df_eemsp_OG =  df_eemsp_OG.sort_values(by=gp_by, ignore_index=True)\n",
    "df_eemsp_NEW = df_eemsp_NEW.sort_values(by=gp_by, ignore_index=True)"
   ]
  },
  {
   "cell_type": "code",
   "execution_count": null,
   "id": "dc94a975",
   "metadata": {},
   "outputs": [],
   "source": [
    "df_eemsp_NEW.groupby(gp_by).ngroups"
   ]
  },
  {
   "cell_type": "code",
   "execution_count": null,
   "id": "3ba9cb1f",
   "metadata": {},
   "outputs": [],
   "source": [
    "df_eemsp_OG.groupby(gp_by).ngroups"
   ]
  },
  {
   "cell_type": "code",
   "execution_count": null,
   "id": "9c7946cd",
   "metadata": {},
   "outputs": [],
   "source": [
    "len(set(list(df_eemsp_OG.groupby(gp_by).groups.keys())).difference(\n",
    "    set(list(df_eemsp_NEW.groupby(gp_by).groups.keys()))\n",
    "))"
   ]
  },
  {
   "cell_type": "code",
   "execution_count": null,
   "id": "654141e3",
   "metadata": {},
   "outputs": [],
   "source": [
    "len(set(list(df_eemsp_NEW.groupby(gp_by).groups.keys())).difference(\n",
    "    set(list(df_eemsp_OG.groupby(gp_by).groups.keys()))\n",
    "))"
   ]
  },
  {
   "cell_type": "code",
   "execution_count": null,
   "id": "eb81f2b6",
   "metadata": {},
   "outputs": [],
   "source": [
    "gps_not_in_NEW = list(set(list(df_eemsp_OG.groupby(gp_by).groups.keys())).difference(\n",
    "    set(list(df_eemsp_NEW.groupby(gp_by).groups.keys()))\n",
    "))\n",
    "gps_overlap = list(set(list(df_eemsp_OG.groupby(gp_by).groups.keys())).intersection(\n",
    "    set(list(df_eemsp_NEW.groupby(gp_by).groups.keys()))\n",
    "))\n",
    "#-----\n",
    "df_eemsp_OG_gpd  = df_eemsp_OG.groupby(gp_by)\n",
    "df_eemsp_NEW_gpd = df_eemsp_NEW.groupby(gp_by)"
   ]
  },
  {
   "cell_type": "code",
   "execution_count": null,
   "id": "8f54cd97",
   "metadata": {},
   "outputs": [],
   "source": []
  },
  {
   "cell_type": "code",
   "execution_count": null,
   "id": "91475b32",
   "metadata": {},
   "outputs": [],
   "source": [
    "if len(gps_not_in_NEW)>0:\n",
    "    df_not_in_NEW = pd.concat([df_eemsp_OG_gpd.get_group(x) for x in gps_not_in_NEW])\n",
    "else:\n",
    "    df_not_in_NEW = None\n",
    "df_eemsp_OG_overlap  = pd.concat([df_eemsp_OG_gpd.get_group(x) for x in gps_overlap])\n",
    "df_eemsp_NEW_overlap = pd.concat([df_eemsp_NEW_gpd.get_group(x) for x in gps_overlap])"
   ]
  },
  {
   "cell_type": "code",
   "execution_count": null,
   "id": "c8397845",
   "metadata": {},
   "outputs": [],
   "source": [
    "df_eemsp_OG_overlap.equals(df_eemsp_NEW_overlap)"
   ]
  },
  {
   "cell_type": "code",
   "execution_count": null,
   "id": "d0feda29",
   "metadata": {},
   "outputs": [],
   "source": [
    "df_eemsp_OG_overlap  = df_eemsp_OG_overlap.sort_values(by=gp_by, ignore_index=True)\n",
    "df_eemsp_NEW_overlap = df_eemsp_NEW_overlap.sort_values(by=gp_by, ignore_index=True)"
   ]
  },
  {
   "cell_type": "code",
   "execution_count": null,
   "id": "66162b77",
   "metadata": {},
   "outputs": [],
   "source": [
    "df_eemsp_OG_overlap.equals(df_eemsp_NEW_overlap)"
   ]
  },
  {
   "cell_type": "code",
   "execution_count": null,
   "id": "b17aa87d",
   "metadata": {},
   "outputs": [],
   "source": [
    "diffs = Utilities_df.get_dfs_diff(df_eemsp_OG_overlap, df_eemsp_NEW_overlap)"
   ]
  },
  {
   "cell_type": "code",
   "execution_count": null,
   "id": "3a21ce2b",
   "metadata": {},
   "outputs": [],
   "source": [
    "len(diffs)"
   ]
  },
  {
   "cell_type": "code",
   "execution_count": null,
   "id": "811e138b",
   "metadata": {},
   "outputs": [],
   "source": [
    "diffs"
   ]
  },
  {
   "cell_type": "code",
   "execution_count": null,
   "id": "758dd98a",
   "metadata": {},
   "outputs": [],
   "source": []
  },
  {
   "cell_type": "code",
   "execution_count": null,
   "id": "2e569805",
   "metadata": {},
   "outputs": [],
   "source": []
  },
  {
   "cell_type": "code",
   "execution_count": null,
   "id": "65183b5f",
   "metadata": {},
   "outputs": [],
   "source": []
  },
  {
   "cell_type": "code",
   "execution_count": null,
   "id": "1bd8ace6",
   "metadata": {},
   "outputs": [],
   "source": []
  },
  {
   "cell_type": "markdown",
   "id": "db29ce32",
   "metadata": {},
   "source": [
    "# =========================================================\n",
    "# ========================================================="
   ]
  },
  {
   "cell_type": "markdown",
   "id": "52d9b499",
   "metadata": {},
   "source": [
    "# DOVS"
   ]
  },
  {
   "cell_type": "code",
   "execution_count": null,
   "id": "27c8a716",
   "metadata": {},
   "outputs": [],
   "source": []
  },
  {
   "cell_type": "code",
   "execution_count": null,
   "id": "1e7d03cb",
   "metadata": {},
   "outputs": [],
   "source": []
  },
  {
   "cell_type": "code",
   "execution_count": null,
   "id": "16fb4e49",
   "metadata": {},
   "outputs": [],
   "source": [
    "# outg_rec_nbs = merged_df_full.index.get_level_values(0).unique().tolist()\n",
    "# conn_dovs = Utilities.get_utldb01p_oracle_connection()\n",
    "# sql_OG = DOVSOutages_SQL.build_sql_std_outage(outg_rec_nbs=outg_rec_nbs)\n",
    "# df_DOVS_OG = pd.read_sql_query(sql_OG.get_sql_statement(), conn_dovs)\n",
    "# #-----\n",
    "# df_DOVS_OG = Utilities_df.make_all_column_names_lowercase(df_DOVS_OG)"
   ]
  },
  {
   "cell_type": "code",
   "execution_count": null,
   "id": "90244669",
   "metadata": {},
   "outputs": [],
   "source": [
    "gp_by = ['outg_rec_nb', 'location_id', 'premise_nb', 'amed_fl']"
   ]
  },
  {
   "cell_type": "code",
   "execution_count": null,
   "id": "d121656a",
   "metadata": {},
   "outputs": [],
   "source": [
    "outg_rec_nbs = merged_df_full.index.get_level_values(0).unique().tolist()\n",
    "conn_dovs = Utilities.get_utldb01p_oracle_connection()\n",
    "sql_OG = \"\"\"\n",
    "SELECT *\n",
    "FROM DOVSADM.DOVS_OUTAGE_FACT DOV\n",
    "    LEFT OUTER JOIN DOVSADM.DOVS_MASTER_GEO_DIM DOV1 ON DOV.OPERATING_UNIT_ID=DOV1.OPRTG_UNT_ID AND DOV.STATE_ABBR_TX=DOV1.STATE_ID AND DOV.OPCO_NBR=DOV1.OPCO_ID AND DOV.DISTRICT_NB=DOV1.DISTRICT_ID AND DOV.SRVC_CNTR_NB=DOV1.AREA_ID AND DOV.GIS_CRCT_NB=DOV1.GIS_CIRCUIT_ID\n",
    "    LEFT OUTER JOIN DOVSADM.DOVS_OUTAGE_ATTRIBUTES_DIM DOV2 ON DOV.OUTG_REC_NB=DOV2.OUTG_REC_NB\n",
    "    LEFT OUTER JOIN DOVSADM.DOVS_CLEARING_DEVICE_DIM DOV3 ON DOV.DEVICE_CD=DOV3.DEVICE_CD\n",
    "    LEFT OUTER JOIN DOVSADM.DOVS_EQUIPMENT_TYPES_DIM DOV4 ON DOV.EQUIPMENT_CD=DOV4.EQUIPMENT_CD\n",
    "    LEFT OUTER JOIN DOVSADM.DOVS_OUTAGE_CAUSE_TYPES_DIM DOV5 ON DOV.MJR_CAUSE_CD=DOV5.MJR_CAUSE_CD AND DOV.MNR_CAUSE_CD=DOV5.MNR_CAUSE_CD\n",
    "    LEFT OUTER JOIN DOVSADM.DOVS_PREMISE_DIM PRIM ON DOV.OUTG_REC_NB=PRIM.OUTG_REC_NB\n",
    "WHERE DOV.OUTG_REC_NB IN ({})\n",
    "AND   DOV.MJR_CAUSE_CD <> 'NI'\n",
    "AND   DOV.DEVICE_CD <> 85\n",
    "AND   DOV2.INTRPTN_TYP_CD = 'S'\n",
    "AND   DOV2.CURR_REC_STAT_CD = 'A'\n",
    "\"\"\".format(Utilities_sql.join_list(outg_rec_nbs, quotes_needed=False))\n",
    "df_DOVS_OG = pd.read_sql_query(sql_OG, conn_dovs)\n",
    "#-----\n",
    "df_DOVS_OG = Utilities_df.make_all_column_names_lowercase(df_DOVS_OG)"
   ]
  },
  {
   "cell_type": "code",
   "execution_count": null,
   "id": "ceeb2a25",
   "metadata": {},
   "outputs": [],
   "source": [
    "df_DOVS_OG"
   ]
  },
  {
   "cell_type": "code",
   "execution_count": null,
   "id": "39eea237",
   "metadata": {},
   "outputs": [],
   "source": [
    "degen_cols = df_DOVS_OG.columns.value_counts()[df_DOVS_OG.columns.value_counts()>1].index.tolist()\n",
    "degen_cols"
   ]
  },
  {
   "cell_type": "code",
   "execution_count": null,
   "id": "621f48a9",
   "metadata": {
    "scrolled": true
   },
   "outputs": [],
   "source": [
    "truly_degen_cols = []\n",
    "for col in degen_cols:\n",
    "    if not all(df_DOVS_OG[col].nunique(axis=1)<=1):\n",
    "        truly_degen_cols.append(col)"
   ]
  },
  {
   "cell_type": "code",
   "execution_count": null,
   "id": "48dbf765",
   "metadata": {},
   "outputs": [],
   "source": [
    "truly_degen_cols"
   ]
  },
  {
   "cell_type": "code",
   "execution_count": null,
   "id": "90692b32",
   "metadata": {},
   "outputs": [],
   "source": [
    "# Get rid of degen cols for now by keeping first\n",
    "df_DOVS_OG=df_DOVS_OG.groupby(df_DOVS_OG.columns, axis=1).first()"
   ]
  },
  {
   "cell_type": "code",
   "execution_count": null,
   "id": "ca316240",
   "metadata": {},
   "outputs": [],
   "source": []
  },
  {
   "cell_type": "code",
   "execution_count": null,
   "id": "7678f7a2",
   "metadata": {},
   "outputs": [],
   "source": [
    "# NOTE: Apparently outg_rec_nb is type BIGINT in new DOVS table\n",
    "# conn_dev = Utilities.get_athena_dev_aws_connection()\n",
    "conn_dev = Utilities.get_athena_prod_aws_connection()\n",
    "#-----\n",
    "sql_NEW = \"\"\"\n",
    "SELECT * \n",
    "FROM meter_events.dovs_outage_fact_premise\n",
    "WHERE outg_rec_nb IN ({})\n",
    "AND   mjr_cause_cd <> 'NI'\n",
    "AND   device_cd <> 85\n",
    "AND   intrptn_typ_cd = 'S'\n",
    "AND   curr_rec_stat_cd = 'A'\n",
    "\"\"\".format(Utilities_sql.join_list(outg_rec_nbs, quotes_needed=False))\n",
    "#-----\n",
    "df_DOVS_NEW = pd.read_sql_query(sql_NEW, conn_dev)\n"
   ]
  },
  {
   "cell_type": "code",
   "execution_count": null,
   "id": "0e64a531",
   "metadata": {},
   "outputs": [],
   "source": []
  },
  {
   "cell_type": "code",
   "execution_count": null,
   "id": "8e0f4ff7",
   "metadata": {},
   "outputs": [],
   "source": [
    "set(df_DOVS_NEW.columns).intersection(truly_degen_cols)"
   ]
  },
  {
   "cell_type": "code",
   "execution_count": null,
   "id": "601d98fe",
   "metadata": {},
   "outputs": [],
   "source": []
  },
  {
   "cell_type": "code",
   "execution_count": null,
   "id": "9c27bb64",
   "metadata": {},
   "outputs": [],
   "source": [
    "df_DOVS_NEW = df_DOVS_NEW[list(set(df_DOVS_NEW.columns).intersection(set(df_DOVS_OG.columns)))]\n",
    "df_DOVS_OG  = df_DOVS_OG[list(set(df_DOVS_NEW.columns).intersection(set(df_DOVS_OG.columns)))]"
   ]
  },
  {
   "cell_type": "code",
   "execution_count": null,
   "id": "4c389c18",
   "metadata": {},
   "outputs": [],
   "source": [
    "df_DOVS_NEW = df_DOVS_NEW.sort_values(by=gp_by, ignore_index=True)\n",
    "df_DOVS_OG  = df_DOVS_OG.sort_values(by=gp_by, ignore_index=True)"
   ]
  },
  {
   "cell_type": "code",
   "execution_count": null,
   "id": "70b7bd0b",
   "metadata": {},
   "outputs": [],
   "source": []
  },
  {
   "cell_type": "code",
   "execution_count": null,
   "id": "52c7db10",
   "metadata": {},
   "outputs": [],
   "source": [
    "df_DOVS_OG.equals(df_DOVS_NEW)"
   ]
  },
  {
   "cell_type": "code",
   "execution_count": null,
   "id": "ba574621",
   "metadata": {},
   "outputs": [],
   "source": [
    "diffs = Utilities_df.get_dfs_diff(df_DOVS_OG, df_DOVS_NEW)\n",
    "diffs"
   ]
  },
  {
   "cell_type": "code",
   "execution_count": null,
   "id": "8bbb50fe",
   "metadata": {},
   "outputs": [],
   "source": [
    "diffs = Utilities_df.get_dfs_diff_approx_ok(df_DOVS_OG, df_DOVS_NEW)\n",
    "diffs['diffs_df']"
   ]
  },
  {
   "cell_type": "code",
   "execution_count": null,
   "id": "0d22c303",
   "metadata": {},
   "outputs": [],
   "source": []
  },
  {
   "cell_type": "code",
   "execution_count": null,
   "id": "db407533",
   "metadata": {},
   "outputs": [],
   "source": []
  },
  {
   "cell_type": "code",
   "execution_count": null,
   "id": "188a1b2c",
   "metadata": {},
   "outputs": [],
   "source": [
    "all_na_cols = df_DOVS_NEW.isna().sum()[df_DOVS_NEW.isna().sum()==df_DOVS_NEW.shape[0]].index.tolist()"
   ]
  },
  {
   "cell_type": "code",
   "execution_count": null,
   "id": "e1de9a68",
   "metadata": {},
   "outputs": [],
   "source": [
    "df_DOVS_OG  = df_DOVS_OG.drop(columns=all_na_cols)\n",
    "df_DOVS_NEW = df_DOVS_NEW.drop(columns=all_na_cols)"
   ]
  },
  {
   "cell_type": "code",
   "execution_count": null,
   "id": "2e6289ac",
   "metadata": {},
   "outputs": [],
   "source": [
    "df_DOVS_OG.equals(df_DOVS_NEW)"
   ]
  },
  {
   "cell_type": "code",
   "execution_count": null,
   "id": "c20512cf",
   "metadata": {},
   "outputs": [],
   "source": [
    "diffs = Utilities_df.get_dfs_diff(df_DOVS_OG, df_DOVS_NEW)\n",
    "diffs"
   ]
  },
  {
   "cell_type": "code",
   "execution_count": null,
   "id": "4c5d87ab",
   "metadata": {},
   "outputs": [],
   "source": [
    "diffs = Utilities_df.get_dfs_diff_approx_ok(df_DOVS_OG, df_DOVS_NEW)\n",
    "diffs['diffs_df']"
   ]
  },
  {
   "cell_type": "code",
   "execution_count": null,
   "id": "0a9c05c7",
   "metadata": {},
   "outputs": [],
   "source": []
  },
  {
   "cell_type": "code",
   "execution_count": null,
   "id": "b024b2ec",
   "metadata": {},
   "outputs": [],
   "source": []
  },
  {
   "cell_type": "code",
   "execution_count": null,
   "id": "9132de9f",
   "metadata": {},
   "outputs": [],
   "source": []
  },
  {
   "cell_type": "code",
   "execution_count": null,
   "id": "7cc294d3",
   "metadata": {},
   "outputs": [],
   "source": []
  }
 ],
 "metadata": {
  "kernelspec": {
   "display_name": "Python 3 (ipykernel)",
   "language": "python",
   "name": "python3"
  },
  "language_info": {
   "codemirror_mode": {
    "name": "ipython",
    "version": 3
   },
   "file_extension": ".py",
   "mimetype": "text/x-python",
   "name": "python",
   "nbconvert_exporter": "python",
   "pygments_lexer": "ipython3",
   "version": "3.9.7"
  }
 },
 "nbformat": 4,
 "nbformat_minor": 5
}
