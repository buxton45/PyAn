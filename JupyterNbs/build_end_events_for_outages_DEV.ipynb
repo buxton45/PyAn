{
 "cells": [
  {
   "cell_type": "code",
   "execution_count": 1,
   "id": "ef4c6072",
   "metadata": {},
   "outputs": [],
   "source": [
    "from importlib import reload\n",
    "#reload(Utilities)\n",
    "#reload(clm)\n",
    "# NOTE: To reload a class imported as, e.g., \n",
    "# from module import class\n",
    "# One must call:\n",
    "#   1. import module\n",
    "#   2. reload module\n",
    "#   3. from module import class\n",
    "\n",
    "import sys, os\n",
    "import re\n",
    "\n",
    "import pandas as pd\n",
    "import numpy as np\n",
    "from pandas.api.types import is_numeric_dtype\n",
    "from scipy import stats\n",
    "import datetime\n",
    "import time\n",
    "from natsort import natsorted, ns\n",
    "from packaging import version\n",
    "\n",
    "import itertools\n",
    "\n",
    "import pyodbc\n",
    "#---------------------------------------------------------------------\n",
    "import matplotlib as mpl\n",
    "import matplotlib.pyplot as plt\n",
    "import seaborn as sns\n",
    "from matplotlib.backends.backend_pdf import PdfPages\n",
    "import matplotlib.patches as mpatches\n",
    "from matplotlib.lines import Line2D\n",
    "import matplotlib.ticker as ticker\n",
    "from matplotlib import dates\n",
    "#---------------------------------------------------------------------\n",
    "sys.path.insert(0, os.path.realpath('..'))\n",
    "import Utilities_config\n",
    "#-----\n",
    "import CommonLearningMethods as clm\n",
    "#-----\n",
    "from MeterPremise import MeterPremise\n",
    "#-----\n",
    "from AMI_SQL import AMI_SQL\n",
    "from AMINonVee_SQL import AMINonVee_SQL\n",
    "from AMIEndEvents_SQL import AMIEndEvents_SQL\n",
    "from AMIUsgInst_SQL import AMIUsgInst_SQL\n",
    "from DOVSOutages_SQL import DOVSOutages_SQL\n",
    "#-----\n",
    "from GenAn import GenAn\n",
    "from AMINonVee import AMINonVee\n",
    "from AMIEndEvents import AMIEndEvents\n",
    "from AMIUsgInst import AMIUsgInst\n",
    "from DOVSOutages import DOVSOutages\n",
    "#---------------------------------------------------------------------\n",
    "sys.path.insert(0, Utilities_config.get_sql_aids_dir())\n",
    "import Utilities_sql\n",
    "import TableInfos\n",
    "from TableInfos import TableInfo\n",
    "from SQLElement import SQLElement\n",
    "from SQLElementsCollection import SQLElementsCollection\n",
    "from SQLSelect import SQLSelectElement, SQLSelect\n",
    "from SQLFrom import SQLFrom\n",
    "from SQLWhere import SQLWhereElement, SQLWhere\n",
    "from SQLJoin import SQLJoin, SQLJoinCollection\n",
    "from SQLGroupBy import SQLGroupByElement, SQLGroupBy\n",
    "from SQLHaving import SQLHaving\n",
    "from SQLOrderBy import SQLOrderByElement, SQLOrderBy\n",
    "from SQLQuery import SQLQuery\n",
    "from SQLQueryGeneric import SQLQueryGeneric\n",
    "#---------------------------------------------------------------------\n",
    "#sys.path.insert(0, os.path.join(os.path.realpath('..'), 'Utilities'))\n",
    "sys.path.insert(0, Utilities_config.get_utilities_dir())\n",
    "import Utilities\n",
    "import Utilities_df\n",
    "from Utilities_df import DFConstructType\n",
    "import Utilities_dt\n",
    "import Plot_Box_sns\n",
    "import GrubbsTest"
   ]
  },
  {
   "cell_type": "code",
   "execution_count": null,
   "id": "c57bc776",
   "metadata": {},
   "outputs": [],
   "source": []
  },
  {
   "cell_type": "markdown",
   "id": "08d57880",
   "metadata": {},
   "source": [
    "# -----------------------------------------------------------------------------------------------\n",
    "# !!!!!!!!!!!!!!!!!!!!!!!!!!!!!!!!!!!!!!!!!!!!!!!!!!!!!!!!!!!!!!!!!!!!!!!!!!!!!!!!!!!!!!!!!!!!!!!\n",
    "# -----------------------------------------------------------------------------------------------"
   ]
  },
  {
   "cell_type": "code",
   "execution_count": null,
   "id": "421f56e9",
   "metadata": {},
   "outputs": [],
   "source": [
    "save_dfs_to_csv = False\n",
    "read_dfs_from_csv = True\n",
    "save_dir_base_csvs = os.path.join(Utilities.get_local_data_dir(), r'dovs_and_end_events_data')\n",
    "\n",
    "assert(save_dfs_to_csv+read_dfs_from_csv <=1) # Should never both read and write!"
   ]
  },
  {
   "cell_type": "code",
   "execution_count": null,
   "id": "6efc4df1",
   "metadata": {},
   "outputs": [],
   "source": [
    "fig_num = 0"
   ]
  },
  {
   "cell_type": "code",
   "execution_count": null,
   "id": "fc39e7ca",
   "metadata": {},
   "outputs": [],
   "source": [
    "if not read_dfs_from_csv:\n",
    "    conn_outages = Utilities.get_utldb01p_oracle_connection()\n",
    "    conn_aws = Utilities.get_athena_prod_aws_connection()"
   ]
  },
  {
   "cell_type": "code",
   "execution_count": null,
   "id": "665cad18",
   "metadata": {},
   "outputs": [],
   "source": [
    "date_0 = '2021-01-01'\n",
    "date_1 = '2021-12-31'\n",
    "\n",
    "# date_0 = '2022-01-01'\n",
    "# date_1 = '2022-05-31'"
   ]
  },
  {
   "cell_type": "code",
   "execution_count": null,
   "id": "938eec12",
   "metadata": {},
   "outputs": [],
   "source": [
    "save_subdir_csvs = f\"{date_0.replace('-','')}_{date_1.replace('-','')}\"\n",
    "save_dir_csvs = os.path.join(save_dir_base_csvs, save_subdir_csvs)\n",
    "if not os.path.exists(save_dir_csvs):\n",
    "    os.makedirs(save_dir_csvs)"
   ]
  },
  {
   "cell_type": "markdown",
   "id": "c7782202",
   "metadata": {},
   "source": [
    "# -----------------------------------------------------------------------------------------------\n",
    "# -----------------------------------------------------------------------------------------------"
   ]
  },
  {
   "cell_type": "markdown",
   "id": "44608cbe",
   "metadata": {},
   "source": [
    "# Build no outage collection and df_mp_all\n",
    "where df_mp_all is a DataFrame containing all meter premise data (from OH)"
   ]
  },
  {
   "cell_type": "code",
   "execution_count": null,
   "id": "0470f49f",
   "metadata": {},
   "outputs": [],
   "source": [
    "cols_of_interest_met_prem = [\n",
    "    'mfr_devc_ser_nbr',\n",
    "    'state_cd', \n",
    "    'prem_nb',\n",
    "    'trsf_pole_nb',\n",
    "    'annual_kwh',\n",
    "    'annual_max_dmnd', \n",
    "    'mtr_stat_cd',\n",
    "    'mtr_stat_cd_desc', \n",
    "    'devc_stat_cd', \n",
    "    'devc_stat_cd_desc'\n",
    "]"
   ]
  },
  {
   "cell_type": "code",
   "execution_count": null,
   "id": "d916334c",
   "metadata": {},
   "outputs": [],
   "source": []
  },
  {
   "cell_type": "markdown",
   "id": "96d03ca2",
   "metadata": {},
   "source": [
    "### When df_outage_location_ids is large\n",
    "i.e., when the date range used to find outages is large\n",
    "<br> It is actually faster to grab ALL meters from default.meter_premise and then filter using pandas\n",
    "<br> as opposed to using NOT IN and filtering with SQL"
   ]
  },
  {
   "cell_type": "code",
   "execution_count": null,
   "id": "681b7c41",
   "metadata": {},
   "outputs": [],
   "source": [
    "sql_mp_all = MeterPremise.build_sql_meter_premise(cols_of_interest_met_prem, states=['OH']).get_sql_statement()\n",
    "print(sql_mp_all)"
   ]
  },
  {
   "cell_type": "code",
   "execution_count": null,
   "id": "2120960f",
   "metadata": {},
   "outputs": [],
   "source": [
    "if read_dfs_from_csv:\n",
    "    df_mp_all_OG = pd.read_csv(os.path.join(save_dir_csvs, 'df_mp_all_OG.csv'), dtype=str)\n",
    "else:\n",
    "    df_mp_all_OG = pd.read_sql(sql_mp_all, conn_aws) \n",
    "df_mp_all_OG = clm.remove_prepend_from_columns_in_df(df_mp_all_OG)\n",
    "print(df_mp_all_OG.shape)\n",
    "df_mp_all = df_mp_all_OG.copy()"
   ]
  },
  {
   "cell_type": "markdown",
   "id": "697ad41a",
   "metadata": {},
   "source": [
    "# ---------------------------------------------------------------\n",
    "# OUTAGES\n",
    "# ---------------------------------------------------------------"
   ]
  },
  {
   "cell_type": "code",
   "execution_count": null,
   "id": "f6fecfb2",
   "metadata": {},
   "outputs": [],
   "source": [
    "sql_outage_full = DOVSOutages_SQL.build_sql_std_outage(\n",
    "    mjr_mnr_cause=None, \n",
    "    include_premise=True, \n",
    "    date_range=[date_0, date_1], \n",
    "    states='OH'\n",
    ").get_sql_statement()\n",
    "print(sql_outage_full)"
   ]
  },
  {
   "cell_type": "code",
   "execution_count": null,
   "id": "1a2e9b55",
   "metadata": {},
   "outputs": [],
   "source": [
    "if read_dfs_from_csv:\n",
    "    df_outage_OG = pd.read_csv(os.path.join(save_dir_csvs, 'df_outage_OG.csv'), dtype=str)\n",
    "    csv_cols_and_types_to_convert_dict = {'CI_NB':np.int32, 'CMI_NB':np.float64, 'OUTG_REC_NB':[np.float64, np.int32]}\n",
    "    df_outage_OG = Utilities_df.convert_col_types(df_outage_OG, csv_cols_and_types_to_convert_dict)\n",
    "else:\n",
    "    df_outage_OG = pd.read_sql_query(sql_outage_full, conn_outages, dtype={'CI_NB':np.int32, \n",
    "                                                                           'CMI_NB':np.float64, \n",
    "                                                                           'OUTG_REC_NB':np.int32})"
   ]
  },
  {
   "cell_type": "markdown",
   "id": "9ce4f40f",
   "metadata": {},
   "source": [
    "# Save CSVs if save_dfs_to_csv = True"
   ]
  },
  {
   "cell_type": "code",
   "execution_count": null,
   "id": "57f4678d",
   "metadata": {},
   "outputs": [],
   "source": [
    "if save_dfs_to_csv:\n",
    "    df_mp_all_OG.to_csv(os.path.join(save_dir_csvs, 'df_mp_all_OG.csv'), index=False)\n",
    "    df_outage_OG.to_csv(os.path.join(save_dir_csvs, 'df_outage_OG.csv'), index=False)"
   ]
  },
  {
   "cell_type": "code",
   "execution_count": null,
   "id": "b8137a42",
   "metadata": {},
   "outputs": [],
   "source": [
    "df_outage_OG.shape"
   ]
  },
  {
   "cell_type": "code",
   "execution_count": null,
   "id": "b0a14e9d",
   "metadata": {},
   "outputs": [],
   "source": []
  },
  {
   "cell_type": "markdown",
   "id": "6cdb2976",
   "metadata": {},
   "source": [
    "# Merge df_outage with df_mp_all and build subsets (e.g., df_outage_prim, df_outage_dl_eqf, etc.) "
   ]
  },
  {
   "cell_type": "code",
   "execution_count": null,
   "id": "4542275e",
   "metadata": {},
   "outputs": [],
   "source": [
    "print(df_mp_all.shape)"
   ]
  },
  {
   "cell_type": "code",
   "execution_count": null,
   "id": "7f54e1f7",
   "metadata": {},
   "outputs": [],
   "source": [
    "#TODO why are prem_nb in df_mp_all all integers?  Whereas PREMISE_NB in df_outage\n",
    "# are strings, and can be purely numerical, a alphanumeric, or all letters\n",
    "if read_dfs_from_csv:\n",
    "    df_mp_all['prem_nb'] = df_mp_all['prem_nb'].astype(str)"
   ]
  },
  {
   "cell_type": "code",
   "execution_count": null,
   "id": "3d17158e",
   "metadata": {},
   "outputs": [],
   "source": [
    "print(df_outage_OG.shape)\n",
    "print(df_mp_all.shape)"
   ]
  },
  {
   "cell_type": "markdown",
   "id": "7a94800d",
   "metadata": {},
   "source": [
    "# BEGIN NEW DEV"
   ]
  },
  {
   "cell_type": "code",
   "execution_count": null,
   "id": "eda4f512",
   "metadata": {},
   "outputs": [],
   "source": [
    "\"\"\"\n",
    "In MeterPremise, can I create a function which will build mp_df_hist given mp_df_curr?\n",
    "In DOVSOutages I need to build new build_mp_for_outg (and update its use throughout)\n",
    "    APPARENTLY I already have this, build_active_MP_for_outages or one of other similar functions\n",
    "    \n",
    "I need to basically replace everything in DOVSOutages which uses build_mp_for_outg\n",
    "\"\"\""
   ]
  },
  {
   "cell_type": "code",
   "execution_count": null,
   "id": "ee35f859",
   "metadata": {},
   "outputs": [],
   "source": [
    "df_outage_slim = DOVSOutages.read_df_outage_slim_from_csv(os.path.join(save_dir_csvs, 'df_outage_slim.csv'))"
   ]
  },
  {
   "cell_type": "code",
   "execution_count": null,
   "id": "a76aa648",
   "metadata": {},
   "outputs": [],
   "source": [
    "df_outage_slim.head()"
   ]
  },
  {
   "cell_type": "code",
   "execution_count": null,
   "id": "5fdea7b8",
   "metadata": {},
   "outputs": [],
   "source": [
    "df_outage = df_outage_OG.copy()"
   ]
  },
  {
   "cell_type": "code",
   "execution_count": null,
   "id": "fa28d765",
   "metadata": {},
   "outputs": [],
   "source": [
    "df_outage"
   ]
  },
  {
   "cell_type": "code",
   "execution_count": null,
   "id": "b36c3753",
   "metadata": {},
   "outputs": [],
   "source": [
    "reload(Utilities_df)\n",
    "\n",
    "import MeterPremise\n",
    "reload(MeterPremise)\n",
    "from MeterPremise import MeterPremise"
   ]
  },
  {
   "cell_type": "code",
   "execution_count": null,
   "id": "0f97f6a3",
   "metadata": {},
   "outputs": [],
   "source": [
    "def build_active_MP_for_outages_df(\n",
    "    df_outage, \n",
    "    prem_nb_col, \n",
    "    df_mp_curr=None, \n",
    "    df_mp_hist=None, \n",
    "    assert_all_PNs_found=True, \n",
    "    drop_inst_rmvl_cols=False, \n",
    "    outg_rec_nb_col='OUTG_REC_NB',  #TODO!!!!!!!!!!!!!!!!!!!!!!! what if index?!\n",
    "    is_slim=False, \n",
    "    dt_on_ts_col='DT_ON_TS', \n",
    "    df_off_ts_full_col='DT_OFF_TS_FULL', \n",
    "    consolidate_PNs_batch_size=1000, \n",
    "    df_mp_serial_number_col='mfr_devc_ser_nbr', \n",
    "    df_mp_prem_nb_col='prem_nb', \n",
    "    df_mp_install_time_col='inst_ts', \n",
    "    df_mp_removal_time_col='rmvl_ts', \n",
    "    df_mp_trsf_pole_nb_col='trsf_pole_nb'\n",
    "):\n",
    "    r\"\"\"\n",
    "    Similar to build_active_MP_for_outages\n",
    "    \"\"\"\n",
    "    #-------------------------\n",
    "    assert(prem_nb_col in df_outage.columns and \n",
    "           dt_on_ts_col in df_outage.columns and \n",
    "           df_off_ts_full_col in df_outage.columns)\n",
    "    #-------------------------\n",
    "    if not is_slim:\n",
    "        PNs = df_outage[prem_nb_col].unique().tolist()\n",
    "    else:\n",
    "        PNs = Utilities_df.consolidate_column_of_lists(\n",
    "            df=df_outage, \n",
    "            col=prem_nb_col, \n",
    "            sort=True,\n",
    "            include_None=False,\n",
    "            batch_size=consolidate_PNs_batch_size, \n",
    "            verbose=False\n",
    "        )\n",
    "    #-----\n",
    "    PNs = [x for x in PNs if pd.notna(x)]\n",
    "    #-------------------------\n",
    "    # For now, drop approx duplicates with assert_single_overlap=False\n",
    "    # Towards end of function, a warning will be output if multiple overlap occurs\n",
    "    mp_df_curr_hist_dict = MeterPremise.build_mp_df_curr_hist_for_PNs(\n",
    "        PNs=PNs, \n",
    "        mp_df_curr=df_mp_curr,\n",
    "        mp_df_hist=df_mp_hist, \n",
    "        join_curr_hist=False, \n",
    "        addtnl_mp_df_curr_cols=None, \n",
    "        addtnl_mp_df_hist_cols=None, \n",
    "        assert_all_PNs_found=assert_all_PNs_found, \n",
    "        assume_one_xfmr_per_PN=True, \n",
    "        drop_approx_duplicates=True, \n",
    "        drop_approx_duplicates_args=dict(\n",
    "            fuzziness=pd.Timedelta('1 hour'), \n",
    "            assert_single_overlap=False, \n",
    "            addtnl_groupby_cols=None, \n",
    "            gpby_dropna=False\n",
    "        ), \n",
    "        df_mp_serial_number_col=df_mp_serial_number_col, \n",
    "        df_mp_prem_nb_col=df_mp_prem_nb_col, \n",
    "        df_mp_install_time_col=df_mp_install_time_col, \n",
    "        df_mp_removal_time_col=df_mp_removal_time_col, \n",
    "        df_mp_trsf_pole_nb_col=df_mp_trsf_pole_nb_col       \n",
    "    )\n",
    "    df_mp_curr = mp_df_curr_hist_dict['mp_df_curr']\n",
    "    df_mp_hist = mp_df_curr_hist_dict['mp_df_hist']\n",
    "    #-------------------------\n",
    "    # Only reason for making dict is to ensure outg_rec_nbs are not repeated \n",
    "    active_SNs_in_outgs_dfs_dict = {}\n",
    "\n",
    "    if not is_slim:\n",
    "        for outg_rec_nb_i, df_i in df_outage.groupby(outg_rec_nb_col):\n",
    "            print(outg_rec_nb_i)\n",
    "            # Don't want to include outg_rec_nb_i=-2147483648\n",
    "            if int(outg_rec_nb_i) < 0:\n",
    "                continue\n",
    "            # There should only be a single unique dt_on_ts and dt_off_ts_full for each outage\n",
    "            if(df_i[dt_on_ts_col].nunique()!=1 or \n",
    "               df_i[df_off_ts_full_col].nunique()!=1):\n",
    "                print(f'outg_rec_nb_i = {outg_rec_nb_i}')\n",
    "                print(f'df_i[dt_on_ts_col].nunique()       = {df_i[dt_on_ts_col].nunique()}')\n",
    "                print(f'df_i[df_off_ts_full_col].nunique() = {df_i[df_off_ts_full_col].nunique()}')\n",
    "                print('CRASH IMMINENT!')\n",
    "                assert(0)\n",
    "            # Grab power out/on time and PNs from df_i\n",
    "            dt_on_ts_i       = df_i[dt_on_ts_col].unique()[0]\n",
    "            df_off_ts_full_i = df_i[df_off_ts_full_col].unique()[0]\n",
    "            PNs_i            = df_i[prem_nb_col].unique().tolist()\n",
    "\n",
    "            # Just as was done above for PNs, NaN values must be removed from PNs_i\n",
    "            #   The main purpose here is to remove instances where PNs_i = [nan]\n",
    "            #   NOTE: For case of slim df, the NaNs should already be removed\n",
    "            # After removal, if len(PNs_i)==0, contine\n",
    "            PNs_i = [x for x in PNs_i if pd.notna(x)]\n",
    "            if len(PNs_i)==0:\n",
    "                continue\n",
    "            \n",
    "            # Build active_SNs_df_i and add it to active_SNs_in_outgs_dfs_dict\n",
    "            # NOTE: assume_one_xfmr_per_PN=True above in MeterPremise.build_mp_df_curr_hist_for_PNs,\n",
    "            #       so does not need to be set again (i.e., assume_one_xfmr_per_PN=False below)\n",
    "            active_SNs_df_i = MeterPremise.get_active_SNs_for_PNs_at_datetime_interval(\n",
    "                PNs=PNs_i,\n",
    "                df_mp_curr=df_mp_curr, \n",
    "                df_mp_hist=df_mp_hist, \n",
    "                dt_0=df_off_ts_full_i,\n",
    "                dt_1=dt_on_ts_i,\n",
    "                assume_one_xfmr_per_PN=False, \n",
    "                output_index=None,\n",
    "                output_groupby=None, \n",
    "                assert_all_PNs_found=False\n",
    "            )\n",
    "            active_SNs_df_i[outg_rec_nb_col] = outg_rec_nb_i\n",
    "            assert(outg_rec_nb_i not in active_SNs_in_outgs_dfs_dict)\n",
    "            active_SNs_in_outgs_dfs_dict[outg_rec_nb_i] = active_SNs_df_i\n",
    "    else:\n",
    "        for outg_rec_nb_i, row_i in df_outage.iterrows():\n",
    "            # NOTE: assume_one_xfmr_per_PN=True above in MeterPremise.build_mp_df_curr_hist_for_PNs,\n",
    "            #       so does not need to be set again (i.e., assume_one_xfmr_per_PN=False below)\n",
    "            active_SNs_df_i = MeterPremise.get_active_SNs_for_PNs_at_datetime_interval(\n",
    "                PNs=row_i[prem_nb_col],\n",
    "                df_mp_curr=df_mp_curr, \n",
    "                df_mp_hist=df_mp_hist, \n",
    "                dt_0=row_i[df_off_ts_full_col],\n",
    "                dt_1=row_i[dt_on_ts_col],\n",
    "                assume_one_xfmr_per_PN=False, \n",
    "                output_index=None,\n",
    "                output_groupby=None, \n",
    "                assert_all_PNs_found=False\n",
    "            )\n",
    "            active_SNs_df_i[outg_rec_nb_col] = outg_rec_nb_i\n",
    "            assert(outg_rec_nb_i not in active_SNs_in_outgs_dfs_dict)\n",
    "            active_SNs_in_outgs_dfs_dict[outg_rec_nb_i] = active_SNs_df_i\n",
    "    #-------------------------\n",
    "    active_SNs_df = pd.concat(list(active_SNs_in_outgs_dfs_dict.values()))\n",
    "    #-------------------------\n",
    "    if drop_inst_rmvl_cols:\n",
    "        active_SNs_df = active_SNs_df.drop(columns=[df_mp_install_time_col, df_mp_removal_time_col])\n",
    "    #-------------------------\n",
    "    # At this point, for each outage there should be exactly one entry per meter (meter being a unique combination of premise number, \n",
    "    #   serial number, and transformer number)\n",
    "    if any(active_SNs_df.groupby([df_mp_serial_number_col, df_mp_prem_nb_col, df_mp_trsf_pole_nb_col, outg_rec_nb_col]).size()>1):\n",
    "        print('!!!!!WARNING!!!!!\\nIn build_active_MP_for_outages_df: appear to be multiple entries for a meter in an outage!')\n",
    "    #-----\n",
    "    # Actually, a given meter (unique premise and serial number) should not have multiple transformer poles.  Therefore, the any check\n",
    "    #   can stricter by excluding df_mp_trsf_pole_nb_col\n",
    "    if any(active_SNs_df.groupby([df_mp_serial_number_col, df_mp_prem_nb_col, outg_rec_nb_col]).size()>1):\n",
    "        print('!!!!!WARNING!!!!!\\nIn build_active_MP_for_outages_df: appear to be multiple transformers tied to a single meter!')\n",
    "    #-------------------------\n",
    "    return active_SNs_df"
   ]
  },
  {
   "cell_type": "code",
   "execution_count": null,
   "id": "21eee283",
   "metadata": {},
   "outputs": [],
   "source": [
    "# MP_sub = build_active_MP_for_outages_df(\n",
    "#     df_outage=df_outage[df_outage['OUTG_REC_NB']==12335129].copy(), \n",
    "#     prem_nb_col='PREMISE_NB', \n",
    "#     is_slim=False, \n",
    "#     assert_all_PNs_found=False\n",
    "# )\n",
    "\n",
    "MP_sub = build_active_MP_for_outages_df(\n",
    "    df_outage=df_outage[df_outage['OUTG_REC_NB'].isin(df_outage['OUTG_REC_NB'].unique().tolist()[:100])].copy(), \n",
    "    prem_nb_col='PREMISE_NB', \n",
    "    is_slim=False, \n",
    "    assert_all_PNs_found=False\n",
    ")"
   ]
  },
  {
   "cell_type": "code",
   "execution_count": null,
   "id": "691473a5",
   "metadata": {},
   "outputs": [],
   "source": [
    "MP_sub.head()"
   ]
  },
  {
   "cell_type": "code",
   "execution_count": null,
   "id": "91717691",
   "metadata": {},
   "outputs": [],
   "source": [
    "MP_sub.groupby(['mfr_devc_ser_nbr', 'prem_nb', 'trsf_pole_nb', 'OUTG_REC_NB']).size()"
   ]
  },
  {
   "cell_type": "code",
   "execution_count": null,
   "id": "b67d4962",
   "metadata": {},
   "outputs": [],
   "source": [
    "MP_sub.groupby(['mfr_devc_ser_nbr', 'prem_nb', 'OUTG_REC_NB']).size()"
   ]
  },
  {
   "cell_type": "code",
   "execution_count": null,
   "id": "d2808ea1",
   "metadata": {},
   "outputs": [],
   "source": [
    "df_mp_serial_number_col='mfr_devc_ser_nbr'\n",
    "df_mp_prem_nb_col='prem_nb'\n",
    "df_mp_install_time_col='inst_ts'\n",
    "df_mp_removal_time_col='rmvl_ts'\n",
    "df_mp_trsf_pole_nb_col='trsf_pole_nb'\n",
    "outg_rec_nb_col='OUTG_REC_NB'"
   ]
  },
  {
   "cell_type": "code",
   "execution_count": null,
   "id": "4cb1434d",
   "metadata": {},
   "outputs": [],
   "source": []
  },
  {
   "cell_type": "code",
   "execution_count": null,
   "id": "ce2fa64b",
   "metadata": {},
   "outputs": [],
   "source": []
  },
  {
   "cell_type": "code",
   "execution_count": null,
   "id": "312c300a",
   "metadata": {},
   "outputs": [],
   "source": []
  },
  {
   "cell_type": "code",
   "execution_count": null,
   "id": "4a8e2b40",
   "metadata": {},
   "outputs": [],
   "source": [
    "# prem_nb_col='PREMISE_NB'\n",
    "# df_mp_curr=None \n",
    "# df_mp_hist=None\n",
    "# drop_inst_rmvl_cols=False\n",
    "# outg_rec_nb_col='OUTG_REC_NB' #TODO!!!!!!!!!!!!!!!!!!!!!!! what if index?!\n",
    "# is_slim=False\n",
    "# dt_on_ts_col='DT_ON_TS'\n",
    "# df_off_ts_full_col='DT_OFF_TS_FULL'\n",
    "# consolidate_PNs_batch_size=1000\n",
    "# df_mp_serial_number_col='mfr_devc_ser_nbr'\n",
    "# df_mp_prem_nb_col='prem_nb'\n",
    "# df_mp_install_time_col='inst_ts'\n",
    "# df_mp_removal_time_col='rmvl_ts'\n",
    "# df_mp_trsf_pole_nb_col='trsf_pole_nb'"
   ]
  },
  {
   "cell_type": "code",
   "execution_count": null,
   "id": "85c5533e",
   "metadata": {},
   "outputs": [],
   "source": [
    "FUCK"
   ]
  },
  {
   "cell_type": "code",
   "execution_count": null,
   "id": "2f347281",
   "metadata": {},
   "outputs": [],
   "source": [
    "prem_nb_col='PREMISE_NB'\n",
    "is_slim=False\n",
    "assert_all_PNs_found=False\n",
    "\n",
    "df_mp_curr=None\n",
    "df_mp_hist=None\n",
    "\n",
    "drop_inst_rmvl_cols=False \n",
    "outg_rec_nb_col='OUTG_REC_NB'\n",
    "dt_on_ts_col='DT_ON_TS'\n",
    "df_off_ts_full_col='DT_OFF_TS_FULL'\n",
    "consolidate_PNs_batch_size=1000\n",
    "df_mp_serial_number_col='mfr_devc_ser_nbr'\n",
    "df_mp_prem_nb_col='prem_nb'\n",
    "df_mp_install_time_col='inst_ts'\n",
    "df_mp_removal_time_col='rmvl_ts'\n",
    "df_mp_trsf_pole_nb_col='trsf_pole_nb'"
   ]
  },
  {
   "cell_type": "code",
   "execution_count": null,
   "id": "bdf21d47",
   "metadata": {},
   "outputs": [],
   "source": [
    "#-------------------------\n",
    "assert(prem_nb_col in df_outage.columns and \n",
    "       dt_on_ts_col in df_outage.columns and \n",
    "       df_off_ts_full_col in df_outage.columns)\n",
    "#-------------------------\n",
    "if not is_slim:\n",
    "    PNs = df_outage[prem_nb_col].unique().tolist()\n",
    "else:\n",
    "    PNs = Utilities_df.consolidate_column_of_lists(\n",
    "        df=df_outage, \n",
    "        col=prem_nb_col, \n",
    "        sort=True,\n",
    "        include_None=False,\n",
    "        batch_size=consolidate_PNs_batch_size, \n",
    "        verbose=False\n",
    "    )\n",
    "#-----\n",
    "PNs = [x for x in PNs if pd.notna(x)]\n",
    "#-------------------------\n",
    "# For now, drop approx duplicates with assert_single_overlap=False\n",
    "# Towards end of function, a warning will be output if multiple overlap occurs\n",
    "mp_df_curr_hist_dict = MeterPremise.build_mp_df_curr_hist_for_PNs(\n",
    "    PNs=PNs, \n",
    "    mp_df_curr=df_mp_curr,\n",
    "    mp_df_hist=df_mp_hist, \n",
    "    join_curr_hist=False, \n",
    "    addtnl_mp_df_curr_cols=None, \n",
    "    addtnl_mp_df_hist_cols=None, \n",
    "    assert_all_PNs_found=assert_all_PNs_found, \n",
    "    assume_one_xfmr_per_PN=False, \n",
    "    drop_approx_duplicates=False, \n",
    "    drop_approx_duplicates_args=dict(\n",
    "        fuzziness=pd.Timedelta('1 hour'), \n",
    "        assert_single_overlap=False, \n",
    "        addtnl_groupby_cols=None, \n",
    "        gpby_dropna=False\n",
    "    ), \n",
    "    df_mp_serial_number_col=df_mp_serial_number_col, \n",
    "    df_mp_prem_nb_col=df_mp_prem_nb_col, \n",
    "    df_mp_install_time_col=df_mp_install_time_col, \n",
    "    df_mp_removal_time_col=df_mp_removal_time_col, \n",
    "    df_mp_trsf_pole_nb_col=df_mp_trsf_pole_nb_col       \n",
    ")\n",
    "df_mp_curr_OG = mp_df_curr_hist_dict['mp_df_curr'].copy()\n",
    "df_mp_hist_OG = mp_df_curr_hist_dict['mp_df_hist'].copy()"
   ]
  },
  {
   "cell_type": "markdown",
   "id": "81687846",
   "metadata": {},
   "source": [
    "# !!!!!!!!!!!!!!!!!!!!!!!!!!!!!!!!! TODO\n",
    "Note: above assume_one_xfmr_per_PN==drop_approx_duplicates==False\n",
    "I suspect one of these is causing the issue, so run end of build_mp_df_curr_hist_for_PNs by hand"
   ]
  },
  {
   "cell_type": "code",
   "execution_count": null,
   "id": "154acefa",
   "metadata": {},
   "outputs": [],
   "source": [
    "mp_df_curr = df_mp_curr_OG.copy()\n",
    "mp_df_hist = df_mp_hist_OG.copy()"
   ]
  },
  {
   "cell_type": "code",
   "execution_count": null,
   "id": "ba8aec5c",
   "metadata": {},
   "outputs": [],
   "source": [
    "mp_df_hist_trsf_filled = MeterPremise.fill_trsf_pole_nbs_in_mp_df_hist_from_curr(\n",
    "    mp_df_hist=mp_df_hist, \n",
    "    mp_df_curr=mp_df_curr, \n",
    "    prem_nb_col=df_mp_prem_nb_col, \n",
    "    trsf_pole_nb_col=df_mp_trsf_pole_nb_col, \n",
    "    how_to_handle_ambiguities='first'\n",
    ")"
   ]
  },
  {
   "cell_type": "code",
   "execution_count": null,
   "id": "eeee4253",
   "metadata": {},
   "outputs": [],
   "source": [
    "print(mp_df_hist_trsf_filled['trsf_pole_nb'].isna().sum())\n",
    "print(mp_df_hist_trsf_filled.shape)"
   ]
  },
  {
   "cell_type": "code",
   "execution_count": null,
   "id": "0483b25d",
   "metadata": {},
   "outputs": [],
   "source": [
    "dflt_args_drop_approx_mp_duplicates = MeterPremise.get_dflt_args_drop_approx_mp_duplicates(\n",
    "    df_mp_serial_number_col=df_mp_serial_number_col, \n",
    "    df_mp_prem_nb_col=df_mp_prem_nb_col, \n",
    "    df_mp_install_time_col=df_mp_install_time_col, \n",
    "    df_mp_removal_time_col=df_mp_removal_time_col, \n",
    "    df_mp_trsf_pole_nb_col=df_mp_trsf_pole_nb_col\n",
    ")\n",
    "drop_approx_duplicates_args = Utilities.supplement_dict_with_default_values(\n",
    "    to_supplmnt_dict=None, \n",
    "    default_values_dict=dflt_args_drop_approx_mp_duplicates, \n",
    "    extend_any_lists=False, \n",
    "    inplace=True\n",
    ")"
   ]
  },
  {
   "cell_type": "code",
   "execution_count": null,
   "id": "c966ece3",
   "metadata": {},
   "outputs": [],
   "source": [
    "start=time.time()\n",
    "mp_df_hist_FINAL = MeterPremise.drop_approx_mp_duplicates(\n",
    "    mp_df=mp_df_hist_trsf_filled, \n",
    "    **drop_approx_duplicates_args\n",
    ")\n",
    "print(time.time()-start)"
   ]
  },
  {
   "cell_type": "code",
   "execution_count": null,
   "id": "f3c10d36",
   "metadata": {},
   "outputs": [],
   "source": [
    "start=time.time()\n",
    "mp_df_curr_FINAL = MeterPremise.drop_approx_mp_duplicates(\n",
    "    mp_df=mp_df_curr, \n",
    "    **drop_approx_duplicates_args\n",
    ")\n",
    "print(time.time()-start)"
   ]
  },
  {
   "cell_type": "code",
   "execution_count": null,
   "id": "039fff20",
   "metadata": {},
   "outputs": [],
   "source": []
  },
  {
   "cell_type": "code",
   "execution_count": null,
   "id": "b6fe5be1",
   "metadata": {},
   "outputs": [],
   "source": [
    "df_outage[df_outage['OUTG_REC_NB']==12046950]"
   ]
  },
  {
   "cell_type": "code",
   "execution_count": null,
   "id": "ab207cf0",
   "metadata": {},
   "outputs": [],
   "source": [
    "mp_df_curr_FINAL[mp_df_curr_FINAL['prem_nb'].isin(df_outage[df_outage['OUTG_REC_NB']==12046950]['PREMISE_NB'].unique().tolist())]"
   ]
  },
  {
   "cell_type": "code",
   "execution_count": null,
   "id": "50bef8fa",
   "metadata": {},
   "outputs": [],
   "source": [
    "mp_df_hist_FINAL[mp_df_hist_FINAL['prem_nb'].isin(df_outage[df_outage['OUTG_REC_NB']==12046950]['PREMISE_NB'].unique().tolist())]"
   ]
  },
  {
   "cell_type": "code",
   "execution_count": null,
   "id": "99e70a49",
   "metadata": {},
   "outputs": [],
   "source": [
    "mp_df_hist_FINAL[mp_df_hist_FINAL['prem_nb'].isin(df_outage[df_outage['OUTG_REC_NB']==12046950]['PREMISE_NB'].unique().tolist())].sort_values(\n",
    "    by=['inst_ts', 'rmvl_ts']\n",
    ")"
   ]
  },
  {
   "cell_type": "code",
   "execution_count": null,
   "id": "9c4e30ab",
   "metadata": {},
   "outputs": [],
   "source": [
    "# outg_rec_nb_i=12046950\n",
    "outg_rec_nb_i=12061321\n",
    "df_i = df_outage[df_outage['OUTG_REC_NB']==outg_rec_nb_i]\n",
    "\n",
    "# There should only be a single unique dt_on_ts and dt_off_ts_full for each outage\n",
    "if(df_i[dt_on_ts_col].nunique()!=1 or \n",
    "   df_i[df_off_ts_full_col].nunique()!=1):\n",
    "    print(f'outg_rec_nb_i = {outg_rec_nb_i}')\n",
    "    print(f'df_i[dt_on_ts_col].nunique()       = {df_i[dt_on_ts_col].nunique()}')\n",
    "    print(f'df_i[df_off_ts_full_col].nunique() = {df_i[df_off_ts_full_col].nunique()}')\n",
    "    print('CRASH IMMINENT!')\n",
    "    assert(0)\n",
    "# Grab power out/on time and PNs from df_i\n",
    "dt_on_ts_i       = df_i[dt_on_ts_col].unique()[0]\n",
    "df_off_ts_full_i = df_i[df_off_ts_full_col].unique()[0]\n",
    "PNs_i            = df_i[prem_nb_col].unique().tolist()\n",
    "\n",
    "# Just as was done above for PNs, NaN values must be removed from PNs_i\n",
    "#   The main purpose here is to remove instances where PNs_i = [nan]\n",
    "#   NOTE: For case of slim df, the NaNs should already be removed\n",
    "# After removal, if len(PNs_i)==0, contine\n",
    "PNs_i = [x for x in PNs_i if pd.notna(x)]"
   ]
  },
  {
   "cell_type": "code",
   "execution_count": null,
   "id": "3b58c928",
   "metadata": {},
   "outputs": [],
   "source": [
    "import MeterPremise\n",
    "reload(MeterPremise)\n",
    "from MeterPremise import MeterPremise"
   ]
  },
  {
   "cell_type": "code",
   "execution_count": null,
   "id": "ca275e3c",
   "metadata": {},
   "outputs": [],
   "source": [
    "hmm = MeterPremise.get_historic_SNs_for_PNs(\n",
    "    PNs=PNs_i,\n",
    "    df_mp_curr=None, \n",
    "    df_mp_hist=None, \n",
    "    output_index=None,\n",
    "    output_groupby=None, \n",
    "    assert_all_PNs_found=False\n",
    ")"
   ]
  },
  {
   "cell_type": "code",
   "execution_count": null,
   "id": "6ec1a65a",
   "metadata": {},
   "outputs": [],
   "source": [
    "hmm"
   ]
  },
  {
   "cell_type": "code",
   "execution_count": null,
   "id": "ed07ec65",
   "metadata": {},
   "outputs": [],
   "source": [
    "# Build active_SNs_df_i and add it to active_SNs_in_outgs_dfs_dict\n",
    "# NOTE: assume_one_xfmr_per_PN=True above in MeterPremise.build_mp_df_curr_hist_for_PNs,\n",
    "#       so does not need to be set again (i.e., assume_one_xfmr_per_PN=False below)\n",
    "active_SNs_df_i = MeterPremise.get_active_SNs_for_PNs_at_datetime_interval(\n",
    "    PNs=PNs_i,\n",
    "    df_mp_curr=mp_df_curr_FINAL, \n",
    "    df_mp_hist=mp_df_hist_FINAL, \n",
    "    dt_0=df_off_ts_full_i,\n",
    "    dt_1=dt_on_ts_i,\n",
    "    assume_one_xfmr_per_PN=False, \n",
    "    output_index=None,\n",
    "    output_groupby=None, \n",
    "    assert_all_PNs_found=False\n",
    ")"
   ]
  },
  {
   "cell_type": "code",
   "execution_count": null,
   "id": "6d79a01d",
   "metadata": {},
   "outputs": [],
   "source": []
  },
  {
   "cell_type": "code",
   "execution_count": null,
   "id": "e85a1349",
   "metadata": {},
   "outputs": [],
   "source": [
    "df_outage"
   ]
  },
  {
   "cell_type": "code",
   "execution_count": null,
   "id": "c3fd25f3",
   "metadata": {},
   "outputs": [],
   "source": [
    "reload(Utilities_df)\n",
    "\n",
    "import MeterPremise\n",
    "reload(MeterPremise)\n",
    "from MeterPremise import MeterPremise"
   ]
  },
  {
   "cell_type": "code",
   "execution_count": null,
   "id": "8fbd98b6",
   "metadata": {},
   "outputs": [],
   "source": [
    "df_outage = df_outage_OG.copy()"
   ]
  },
  {
   "cell_type": "code",
   "execution_count": null,
   "id": "9cf6bc57",
   "metadata": {},
   "outputs": [],
   "source": [
    "MP_1_OG = build_active_MP_for_outages_df(\n",
    "    df_outage=df_outage, \n",
    "    prem_nb_col='PREMISE_NB', \n",
    "    is_slim=False, \n",
    "    assert_all_PNs_found=False\n",
    ")"
   ]
  },
  {
   "cell_type": "code",
   "execution_count": null,
   "id": "725e20ed",
   "metadata": {},
   "outputs": [],
   "source": [
    "MP_1_OG = build_active_MP_for_outages_df(\n",
    "    df_outage=df_outage, \n",
    "    prem_nb_col='PREMISE_NB', \n",
    "    is_slim=False, \n",
    "    assert_all_PNs_found=False\n",
    ")"
   ]
  },
  {
   "cell_type": "code",
   "execution_count": null,
   "id": "e761e131",
   "metadata": {},
   "outputs": [],
   "source": [
    "MP_1_OG = build_active_MP_for_outages_df(\n",
    "    df_outage=df_outage, \n",
    "    prem_nb_col='PREMISE_NB', \n",
    "    is_slim=False, \n",
    "    assert_all_PNs_found=False\n",
    ")"
   ]
  },
  {
   "cell_type": "code",
   "execution_count": null,
   "id": "88aef337",
   "metadata": {},
   "outputs": [],
   "source": []
  },
  {
   "cell_type": "code",
   "execution_count": null,
   "id": "5fd37b1a",
   "metadata": {},
   "outputs": [],
   "source": [
    "reload(Utilities_df)\n",
    "\n",
    "import MeterPremise\n",
    "reload(MeterPremise)\n",
    "from MeterPremise import MeterPremise"
   ]
  },
  {
   "cell_type": "code",
   "execution_count": null,
   "id": "573215c2",
   "metadata": {},
   "outputs": [],
   "source": [
    "MP_1_TMP = build_active_MP_for_outages_df(\n",
    "    df_outage=df_outage[df_outage['OUTG_REC_NB'].isin(df_outage['OUTG_REC_NB'].unique().tolist()[:100])], \n",
    "    prem_nb_col='PREMISE_NB', \n",
    "    is_slim=False, \n",
    "    assert_all_PNs_found=False\n",
    ")"
   ]
  },
  {
   "cell_type": "code",
   "execution_count": null,
   "id": "fe06b185",
   "metadata": {},
   "outputs": [],
   "source": [
    "MP_1_TMP.nunique()"
   ]
  },
  {
   "cell_type": "code",
   "execution_count": null,
   "id": "9d369fc3",
   "metadata": {},
   "outputs": [],
   "source": [
    "MP_1_TMP.shape"
   ]
  },
  {
   "cell_type": "code",
   "execution_count": null,
   "id": "1cebf525",
   "metadata": {},
   "outputs": [],
   "source": [
    "def fuckfunc(x, flag_col):\n",
    "    x[flag_col]=False\n",
    "    return x"
   ]
  },
  {
   "cell_type": "code",
   "execution_count": null,
   "id": "c9bcaa62",
   "metadata": {},
   "outputs": [],
   "source": [
    "tmp_col='tmp_col'\n",
    "MP_1_TMP[tmp_col]=np.nan\n",
    "MP_1_TMP=MP_1_TMP.groupby('trsf_pole_nb').apply(lambda x: fuckfunc(x, flag_col=tmp_col))"
   ]
  },
  {
   "cell_type": "code",
   "execution_count": null,
   "id": "c0fcc2d8",
   "metadata": {},
   "outputs": [],
   "source": [
    "return_df_w_dups  = MP_1_TMP[MP_1_TMP[tmp_col]].copy()"
   ]
  },
  {
   "cell_type": "code",
   "execution_count": null,
   "id": "dec604ba",
   "metadata": {},
   "outputs": [],
   "source": [
    "return_df_w_dups"
   ]
  },
  {
   "cell_type": "code",
   "execution_count": null,
   "id": "63673aba",
   "metadata": {},
   "outputs": [],
   "source": []
  },
  {
   "cell_type": "code",
   "execution_count": null,
   "id": "8325a134",
   "metadata": {},
   "outputs": [],
   "source": [
    "MP_1_OG"
   ]
  },
  {
   "cell_type": "code",
   "execution_count": null,
   "id": "6c00a189",
   "metadata": {},
   "outputs": [],
   "source": []
  },
  {
   "cell_type": "code",
   "execution_count": null,
   "id": "ff97f5ac",
   "metadata": {},
   "outputs": [],
   "source": []
  },
  {
   "cell_type": "code",
   "execution_count": null,
   "id": "ad62bf0f",
   "metadata": {},
   "outputs": [],
   "source": [
    "MP_2_OG = build_active_MP_for_outages_df(\n",
    "    df_outage=df_outage_slim, \n",
    "    prem_nb_col='PREMISE_NBS', \n",
    "    is_slim=True, \n",
    "    assert_all_PNs_found=False\n",
    ")"
   ]
  },
  {
   "cell_type": "code",
   "execution_count": null,
   "id": "881b9023",
   "metadata": {},
   "outputs": [],
   "source": [
    "MP_1_OG.head()"
   ]
  },
  {
   "cell_type": "code",
   "execution_count": null,
   "id": "8d99e8db",
   "metadata": {},
   "outputs": [],
   "source": [
    "MP_2_OG.head()"
   ]
  },
  {
   "cell_type": "code",
   "execution_count": null,
   "id": "928577ef",
   "metadata": {},
   "outputs": [],
   "source": []
  },
  {
   "cell_type": "code",
   "execution_count": null,
   "id": "412000fd",
   "metadata": {},
   "outputs": [],
   "source": [
    "MP_1 = MP_1_OG.copy()\n",
    "MP_2 = MP_2_OG.copy()"
   ]
  },
  {
   "cell_type": "code",
   "execution_count": null,
   "id": "6f426986",
   "metadata": {},
   "outputs": [],
   "source": []
  },
  {
   "cell_type": "code",
   "execution_count": null,
   "id": "069b535b",
   "metadata": {},
   "outputs": [],
   "source": [
    "MP_1 = MP_1.sort_values(by=['OUTG_REC_NB', 'prem_nb', 'mfr_devc_ser_nbr'], ignore_index=True)\n",
    "MP_2 = MP_2.sort_values(by=['OUTG_REC_NB', 'prem_nb', 'mfr_devc_ser_nbr'], ignore_index=True)"
   ]
  },
  {
   "cell_type": "code",
   "execution_count": null,
   "id": "53480786",
   "metadata": {},
   "outputs": [],
   "source": [
    "print(MP_1.shape)\n",
    "print(MP_2.shape)"
   ]
  },
  {
   "cell_type": "code",
   "execution_count": null,
   "id": "59ee9ba8",
   "metadata": {},
   "outputs": [],
   "source": [
    "MP_1.equals(MP_2)"
   ]
  },
  {
   "cell_type": "code",
   "execution_count": null,
   "id": "1e087372",
   "metadata": {},
   "outputs": [],
   "source": [
    "MP_1.shape"
   ]
  },
  {
   "cell_type": "code",
   "execution_count": null,
   "id": "75fd1253",
   "metadata": {},
   "outputs": [],
   "source": []
  },
  {
   "cell_type": "code",
   "execution_count": null,
   "id": "375d92d4",
   "metadata": {},
   "outputs": [],
   "source": [
    "df_mp_serial_number_col='mfr_devc_ser_nbr'\n",
    "df_mp_prem_nb_col='prem_nb'\n",
    "df_mp_install_time_col='inst_ts'\n",
    "df_mp_removal_time_col='rmvl_ts'\n",
    "df_mp_trsf_pole_nb_col='trsf_pole_nb'\n",
    "\n",
    "necessary_mp_cols = [df_mp_serial_number_col, df_mp_prem_nb_col, df_mp_install_time_col, df_mp_removal_time_col]"
   ]
  },
  {
   "cell_type": "code",
   "execution_count": null,
   "id": "c3211336",
   "metadata": {},
   "outputs": [],
   "source": [
    "MP_1.groupby(['mfr_devc_ser_nbr', 'prem_nb', 'OUTG_REC_NB']).size().sort_values()"
   ]
  },
  {
   "cell_type": "code",
   "execution_count": null,
   "id": "97a510cc",
   "metadata": {},
   "outputs": [],
   "source": [
    "MP_1"
   ]
  },
  {
   "cell_type": "code",
   "execution_count": null,
   "id": "bee7672c",
   "metadata": {},
   "outputs": [],
   "source": []
  },
  {
   "cell_type": "code",
   "execution_count": null,
   "id": "88756086",
   "metadata": {},
   "outputs": [],
   "source": []
  },
  {
   "cell_type": "code",
   "execution_count": null,
   "id": "b81e4791",
   "metadata": {},
   "outputs": [],
   "source": []
  },
  {
   "cell_type": "code",
   "execution_count": null,
   "id": "19a529d2",
   "metadata": {},
   "outputs": [],
   "source": []
  },
  {
   "cell_type": "code",
   "execution_count": null,
   "id": "1636d62d",
   "metadata": {},
   "outputs": [],
   "source": [
    "reload(Utilities_df)\n",
    "\n",
    "import MeterPremise\n",
    "reload(MeterPremise)\n",
    "from MeterPremise import MeterPremise"
   ]
  },
  {
   "cell_type": "code",
   "execution_count": null,
   "id": "3945cad5",
   "metadata": {},
   "outputs": [],
   "source": [
    "MP_1.groupby(['mfr_devc_ser_nbr', 'prem_nb', 'trsf_pole_nb', 'OUTG_REC_NB']).size().sort_values()"
   ]
  },
  {
   "cell_type": "code",
   "execution_count": null,
   "id": "d2d4d9af",
   "metadata": {},
   "outputs": [],
   "source": [
    "MP_1 = MeterPremise.drop_approx_mp_duplicates(\n",
    "    mp_df = MP_1, \n",
    "    fuzziness=pd.Timedelta('1 hour'), \n",
    "    assert_single_overlap=True, \n",
    "    addtnl_groupby_cols=['OUTG_REC_NB'], \n",
    "    gpby_dropna=False\n",
    ")"
   ]
  },
  {
   "cell_type": "code",
   "execution_count": null,
   "id": "7d093ef6",
   "metadata": {},
   "outputs": [],
   "source": [
    "MP_1.groupby(['mfr_devc_ser_nbr', 'prem_nb', 'trsf_pole_nb', 'OUTG_REC_NB']).size().sort_values()"
   ]
  },
  {
   "cell_type": "code",
   "execution_count": null,
   "id": "219ca221",
   "metadata": {},
   "outputs": [],
   "source": [
    "MP_1.shape"
   ]
  },
  {
   "cell_type": "code",
   "execution_count": null,
   "id": "bc6d0ae0",
   "metadata": {},
   "outputs": [],
   "source": [
    "any(MP_1.groupby(['mfr_devc_ser_nbr', 'prem_nb', 'trsf_pole_nb', 'OUTG_REC_NB']).size().sort_values()>1)"
   ]
  },
  {
   "cell_type": "code",
   "execution_count": null,
   "id": "c2bcf68f",
   "metadata": {},
   "outputs": [],
   "source": [
    "df_mp_all"
   ]
  },
  {
   "cell_type": "code",
   "execution_count": null,
   "id": "d6098214",
   "metadata": {},
   "outputs": [],
   "source": [
    "MP_1"
   ]
  },
  {
   "cell_type": "code",
   "execution_count": null,
   "id": "865f8888",
   "metadata": {},
   "outputs": [],
   "source": [
    "MP_2"
   ]
  },
  {
   "cell_type": "code",
   "execution_count": null,
   "id": "5e47bf55",
   "metadata": {},
   "outputs": [],
   "source": [
    "df_outage_OG.head()"
   ]
  },
  {
   "cell_type": "code",
   "execution_count": null,
   "id": "719b3677",
   "metadata": {},
   "outputs": [],
   "source": [
    "df_outage_1 = df_outage_OG.copy()\n",
    "df_outage_1 = DOVSOutages.merge_df_outage_with_mp(\n",
    "    df_outage=df_outage_1, \n",
    "    df_mp=df_mp_all, \n",
    "    merge_on_outg='PREMISE_NB', \n",
    "    merge_on_mp='prem_nb', \n",
    "    cols_to_include_mp=cols_of_interest_met_prem, \n",
    "    drop_cols = None, \n",
    "    rename_cols=None, \n",
    "    inplace=True\n",
    ")"
   ]
  },
  {
   "cell_type": "code",
   "execution_count": null,
   "id": "abfd2b64",
   "metadata": {},
   "outputs": [],
   "source": [
    "import DOVSOutages\n",
    "reload(DOVSOutages)\n",
    "from DOVSOutages import DOVSOutages"
   ]
  },
  {
   "cell_type": "code",
   "execution_count": null,
   "id": "6d6a53f2",
   "metadata": {},
   "outputs": [],
   "source": [
    "df_outage_2 = df_outage_OG.copy()\n",
    "df_outage_2 = DOVSOutages.merge_df_outage_with_mp(\n",
    "    df_outage=df_outage_2, \n",
    "    df_mp=MP_1, \n",
    "#     merge_on_outg='PREMISE_NB', \n",
    "#     merge_on_mp='prem_nb', \n",
    "    merge_on_outg=['PREMISE_NB', 'OUTG_REC_NB'], \n",
    "    merge_on_mp=['prem_nb', 'OUTG_REC_NB'], \n",
    "#     merge_on_outg='OUTG_REC_NB', \n",
    "#     merge_on_mp='OUTG_REC_NB', \n",
    "    cols_to_include_mp=None, \n",
    "    drop_cols = None, \n",
    "    rename_cols=None, \n",
    "    inplace=True\n",
    ")"
   ]
  },
  {
   "cell_type": "code",
   "execution_count": null,
   "id": "304a34e8",
   "metadata": {},
   "outputs": [],
   "source": [
    "print(df_outage_1.shape)\n",
    "print(df_outage_2.shape)"
   ]
  },
  {
   "cell_type": "code",
   "execution_count": null,
   "id": "da110720",
   "metadata": {},
   "outputs": [],
   "source": [
    "df_outage_1.head()"
   ]
  },
  {
   "cell_type": "code",
   "execution_count": null,
   "id": "ff4d504a",
   "metadata": {},
   "outputs": [],
   "source": [
    "df_outage_2.head()"
   ]
  },
  {
   "cell_type": "code",
   "execution_count": null,
   "id": "e84a7e58",
   "metadata": {},
   "outputs": [],
   "source": [
    "overlap_cols = set(df_outage_1.columns).intersection(set(df_outage_2.columns))\n",
    "overlap_cols"
   ]
  },
  {
   "cell_type": "code",
   "execution_count": null,
   "id": "385eed5d",
   "metadata": {},
   "outputs": [],
   "source": [
    "df_outage_1 = df_outage_1[overlap_cols]\n",
    "df_outage_2 = df_outage_2[overlap_cols]"
   ]
  },
  {
   "cell_type": "code",
   "execution_count": null,
   "id": "d09fcb98",
   "metadata": {},
   "outputs": [],
   "source": [
    "df_outage_1 = df_outage_1.sort_values(by=['OUTG_REC_NB', 'PREMISE_NB', 'mfr_devc_ser_nbr', 'prem_nb'], ignore_index=True)\n",
    "df_outage_2 = df_outage_2.sort_values(by=['OUTG_REC_NB', 'PREMISE_NB', 'mfr_devc_ser_nbr', 'prem_nb'], ignore_index=True)"
   ]
  },
  {
   "cell_type": "code",
   "execution_count": null,
   "id": "1701b385",
   "metadata": {},
   "outputs": [],
   "source": [
    "df_outage_1.equals(df_outage_2)"
   ]
  },
  {
   "cell_type": "code",
   "execution_count": null,
   "id": "54988ee6",
   "metadata": {},
   "outputs": [],
   "source": [
    "df_outage_1=df_outage_1.set_index(['OUTG_REC_NB', 'PREMISE_NB', 'mfr_devc_ser_nbr', 'prem_nb'])\n",
    "df_outage_2=df_outage_2.set_index(['OUTG_REC_NB', 'PREMISE_NB', 'mfr_devc_ser_nbr', 'prem_nb'])"
   ]
  },
  {
   "cell_type": "code",
   "execution_count": null,
   "id": "008967af",
   "metadata": {},
   "outputs": [],
   "source": [
    "print(df_outage_1.shape)\n",
    "print(df_outage_2.shape)"
   ]
  },
  {
   "cell_type": "code",
   "execution_count": null,
   "id": "156975eb",
   "metadata": {},
   "outputs": [],
   "source": [
    "df_outage_1.index.nunique()"
   ]
  },
  {
   "cell_type": "code",
   "execution_count": null,
   "id": "966d270d",
   "metadata": {},
   "outputs": [],
   "source": [
    "df_outage_1.index.value_counts()"
   ]
  },
  {
   "cell_type": "code",
   "execution_count": null,
   "id": "8403b2f9",
   "metadata": {},
   "outputs": [],
   "source": [
    "overlap_idxs = set(df_outage_1.index).intersection(set(df_outage_2.index))"
   ]
  },
  {
   "cell_type": "code",
   "execution_count": null,
   "id": "a77741c5",
   "metadata": {},
   "outputs": [],
   "source": [
    "len(overlap_idxs)"
   ]
  },
  {
   "cell_type": "code",
   "execution_count": null,
   "id": "628ae7fb",
   "metadata": {},
   "outputs": [],
   "source": [
    "df_outage_1=df_outage_1.loc[overlap_idxs]\n",
    "df_outage_2=df_outage_2.loc[overlap_idxs]"
   ]
  },
  {
   "cell_type": "code",
   "execution_count": null,
   "id": "08da0d91",
   "metadata": {},
   "outputs": [],
   "source": [
    "df_outage_1.equals(df_outage_2)"
   ]
  },
  {
   "cell_type": "code",
   "execution_count": null,
   "id": "e9beadf7",
   "metadata": {},
   "outputs": [],
   "source": [
    "print(df_outage_1.shape)\n",
    "print(df_outage_2.shape)"
   ]
  },
  {
   "cell_type": "code",
   "execution_count": null,
   "id": "8e9deeec",
   "metadata": {},
   "outputs": [],
   "source": [
    "df_outage_1=df_outage_1.drop((-2147483648, np.nan, np.nan, np.nan))\n",
    "df_outage_2=df_outage_2.drop((-2147483648, np.nan, np.nan, np.nan))"
   ]
  },
  {
   "cell_type": "code",
   "execution_count": null,
   "id": "3c24137a",
   "metadata": {},
   "outputs": [],
   "source": [
    "print(df_outage_1.shape)\n",
    "print(df_outage_2.shape)"
   ]
  },
  {
   "cell_type": "code",
   "execution_count": null,
   "id": "651a84c8",
   "metadata": {},
   "outputs": [],
   "source": [
    "df_outage_1.index.value_counts()"
   ]
  },
  {
   "cell_type": "code",
   "execution_count": null,
   "id": "c92942b0",
   "metadata": {},
   "outputs": [],
   "source": [
    "df_outage_2.index.value_counts()"
   ]
  },
  {
   "cell_type": "code",
   "execution_count": null,
   "id": "0e877b68",
   "metadata": {},
   "outputs": [],
   "source": [
    "# fucker = df_outage_2.loc[(12333707, '076914321', '776156666', '076914321')]\n",
    "fucker = df_outage_2.loc[(12335129, '079279512', '882993723', '079279512')]"
   ]
  },
  {
   "cell_type": "code",
   "execution_count": null,
   "id": "b27c7182",
   "metadata": {},
   "outputs": [],
   "source": [
    "fucker"
   ]
  },
  {
   "cell_type": "code",
   "execution_count": null,
   "id": "f46bd55d",
   "metadata": {},
   "outputs": [],
   "source": [
    "MP_1[(MP_1['mfr_devc_ser_nbr']=='882993723') & (MP_1['prem_nb']=='079279512') & (MP_1['OUTG_REC_NB']==12335129)]"
   ]
  },
  {
   "cell_type": "code",
   "execution_count": null,
   "id": "e4da3d4b",
   "metadata": {},
   "outputs": [],
   "source": []
  },
  {
   "cell_type": "code",
   "execution_count": null,
   "id": "1f305911",
   "metadata": {},
   "outputs": [],
   "source": [
    "fucker.iloc[0].equals(fucker.iloc[1])"
   ]
  },
  {
   "cell_type": "code",
   "execution_count": null,
   "id": "386127f7",
   "metadata": {},
   "outputs": [],
   "source": [
    "fucker.iloc[0]==fucker.iloc[1]"
   ]
  },
  {
   "cell_type": "code",
   "execution_count": null,
   "id": "27476116",
   "metadata": {},
   "outputs": [],
   "source": []
  },
  {
   "cell_type": "code",
   "execution_count": null,
   "id": "535462dc",
   "metadata": {},
   "outputs": [],
   "source": [
    "MP_sub = build_active_MP_for_outages_df(\n",
    "    df_outage=df_outage[df_outage['OUTG_REC_NB']==12335129].copy(), \n",
    "    prem_nb_col='PREMISE_NB', \n",
    "    is_slim=False, \n",
    "    assert_all_PNs_found=False\n",
    ")"
   ]
  },
  {
   "cell_type": "code",
   "execution_count": null,
   "id": "b4b1eb77",
   "metadata": {},
   "outputs": [],
   "source": [
    "MP_sub[(MP_sub['mfr_devc_ser_nbr']=='882993723') & (MP_sub['prem_nb']=='079279512') & (MP_sub['OUTG_REC_NB']==12335129)]"
   ]
  },
  {
   "cell_type": "code",
   "execution_count": null,
   "id": "059b9be7",
   "metadata": {},
   "outputs": [],
   "source": [
    "MP_sub[(MP_sub['mfr_devc_ser_nbr']=='882993723') & (MP_sub['prem_nb']=='079279512') & (MP_sub['OUTG_REC_NB']==12335129)]"
   ]
  },
  {
   "cell_type": "code",
   "execution_count": null,
   "id": "a9dcb093",
   "metadata": {},
   "outputs": [],
   "source": []
  },
  {
   "cell_type": "code",
   "execution_count": null,
   "id": "f12ced73",
   "metadata": {},
   "outputs": [],
   "source": []
  },
  {
   "cell_type": "code",
   "execution_count": null,
   "id": "037031ff",
   "metadata": {},
   "outputs": [],
   "source": [
    "df_outage_OG[(df_outage_OG['OUTG_REC_NB']==12333707) & (df_outage_OG['PREMISE_NB']=='076914321')]"
   ]
  },
  {
   "cell_type": "code",
   "execution_count": null,
   "id": "52ba21e3",
   "metadata": {},
   "outputs": [],
   "source": [
    "fucker2 = MP_2[(MP_2['mfr_devc_ser_nbr']=='776156666') & (MP_2['prem_nb']=='076914321') & (MP_2['OUTG_REC_NB']==12333707)]"
   ]
  },
  {
   "cell_type": "code",
   "execution_count": null,
   "id": "dad5c145",
   "metadata": {},
   "outputs": [],
   "source": [
    "fucker2"
   ]
  },
  {
   "cell_type": "code",
   "execution_count": null,
   "id": "e955cd50",
   "metadata": {},
   "outputs": [],
   "source": [
    "fucker2.iloc[0].equals(fucker2.iloc[1])"
   ]
  },
  {
   "cell_type": "code",
   "execution_count": null,
   "id": "152645dc",
   "metadata": {},
   "outputs": [],
   "source": [
    "fucker2.iloc[0]==fucker2.iloc[1]"
   ]
  },
  {
   "cell_type": "code",
   "execution_count": null,
   "id": "c1dc0be3",
   "metadata": {},
   "outputs": [],
   "source": []
  },
  {
   "cell_type": "code",
   "execution_count": null,
   "id": "79b4b6b6",
   "metadata": {},
   "outputs": [],
   "source": [
    "MP_2.groupby(['mfr_devc_ser_nbr', 'prem_nb', 'trsf_pole_nb', 'OUTG_REC_NB']).groups"
   ]
  },
  {
   "cell_type": "code",
   "execution_count": null,
   "id": "74624e92",
   "metadata": {},
   "outputs": [],
   "source": [
    "MP_2.set_index(['mfr_devc_ser_nbr', 'prem_nb', 'trsf_pole_nb', 'OUTG_REC_NB']).index"
   ]
  },
  {
   "cell_type": "code",
   "execution_count": null,
   "id": "2a89fd17",
   "metadata": {},
   "outputs": [],
   "source": [
    "MP_2.set_index(['mfr_devc_ser_nbr', 'prem_nb', 'trsf_pole_nb', 'OUTG_REC_NB']).index.value_counts()"
   ]
  },
  {
   "cell_type": "code",
   "execution_count": null,
   "id": "9b1f8c03",
   "metadata": {},
   "outputs": [],
   "source": []
  },
  {
   "cell_type": "code",
   "execution_count": null,
   "id": "6ee698b3",
   "metadata": {},
   "outputs": [],
   "source": [
    "diffs = Utilities_df.get_dfs_diff(df_outage_1, df_outage_2)"
   ]
  },
  {
   "cell_type": "code",
   "execution_count": null,
   "id": "2b07c599",
   "metadata": {},
   "outputs": [],
   "source": [
    "import MeterPremise\n",
    "reload(MeterPremise)\n",
    "from MeterPremise import MeterPremise"
   ]
  },
  {
   "cell_type": "code",
   "execution_count": null,
   "id": "9d871f63",
   "metadata": {},
   "outputs": [],
   "source": [
    "MP_2b = build_active_MP_for_outages_df(\n",
    "    df_outage=df_outage_slim.loc[[12333707]], \n",
    "    prem_nb_col='PREMISE_NBS', \n",
    "    is_slim=True, \n",
    "    assert_all_PNs_found=False\n",
    ")"
   ]
  },
  {
   "cell_type": "code",
   "execution_count": null,
   "id": "93b3c34e",
   "metadata": {},
   "outputs": [],
   "source": [
    "MP_2b"
   ]
  },
  {
   "cell_type": "code",
   "execution_count": null,
   "id": "a59b1368",
   "metadata": {},
   "outputs": [],
   "source": [
    "MP_2b[(MP_2b['mfr_devc_ser_nbr']=='776156666') & (MP_2b['prem_nb']=='076914321') & (MP_2b['OUTG_REC_NB']==12333707)]"
   ]
  },
  {
   "cell_type": "code",
   "execution_count": null,
   "id": "dda55504",
   "metadata": {},
   "outputs": [],
   "source": []
  },
  {
   "cell_type": "code",
   "execution_count": null,
   "id": "e5e965e3",
   "metadata": {},
   "outputs": [],
   "source": []
  },
  {
   "cell_type": "code",
   "execution_count": null,
   "id": "b328ee18",
   "metadata": {},
   "outputs": [],
   "source": [
    "dev_df_outage = df_outage_slim.loc[[12333707]].copy()\n",
    "prem_nb_col = 'PREMISE_NBS'\n",
    "\n",
    "df_mp_curr=None\n",
    "df_mp_hist=None\n",
    "assert_all_PNs_found=True\n",
    "drop_inst_rmvl_cols=False\n",
    "outg_rec_nb_col='OUTG_REC_NB'\n",
    "is_slim=False\n",
    "dt_on_ts_col='DT_ON_TS'\n",
    "df_off_ts_full_col='DT_OFF_TS_FULL'\n",
    "consolidate_PNs_batch_size=1000\n",
    "df_mp_serial_number_col='mfr_devc_ser_nbr'\n",
    "df_mp_prem_nb_col='prem_nb'\n",
    "df_mp_install_time_col='inst_ts'\n",
    "df_mp_removal_time_col='rmvl_ts'\n",
    "df_mp_trsf_pole_nb_col='trsf_pole_nb'"
   ]
  },
  {
   "cell_type": "code",
   "execution_count": null,
   "id": "2e4dcc96",
   "metadata": {},
   "outputs": [],
   "source": []
  },
  {
   "cell_type": "code",
   "execution_count": null,
   "id": "f9541cbd",
   "metadata": {},
   "outputs": [],
   "source": [
    "PNs = Utilities_df.consolidate_column_of_lists(\n",
    "    df=dev_df_outage, \n",
    "    col=prem_nb_col, \n",
    "    sort=True,\n",
    "    include_None=False,\n",
    "    batch_size=consolidate_PNs_batch_size, \n",
    "    verbose=False\n",
    ")\n",
    "PNs = [x for x in PNs if pd.notna(x)]\n",
    "#-------------------------\n",
    "mp_df_curr_hist_dict = MeterPremise.build_mp_df_curr_hist_for_PNs(\n",
    "    PNs=PNs, \n",
    "    mp_df_curr=None,\n",
    "    mp_df_hist=None, \n",
    "    join_curr_hist=False, \n",
    "    addtnl_mp_df_curr_cols=None, \n",
    "    addtnl_mp_df_hist_cols=None, \n",
    "    assert_all_PNs_found=assert_all_PNs_found, \n",
    "    assume_one_xfmr_per_PN=True, \n",
    "    combine_rmvl_ts_nat_entries=True\n",
    ")\n",
    "df_mp_curr = mp_df_curr_hist_dict['mp_df_curr']\n",
    "df_mp_hist = mp_df_curr_hist_dict['mp_df_hist']"
   ]
  },
  {
   "cell_type": "code",
   "execution_count": null,
   "id": "a2e785fa",
   "metadata": {},
   "outputs": [],
   "source": [
    "mp_df_curr_hist_dict"
   ]
  },
  {
   "cell_type": "code",
   "execution_count": null,
   "id": "9f649447",
   "metadata": {},
   "outputs": [],
   "source": [
    "mp_df_curr_hist = MeterPremise.build_mp_df_curr_hist_for_PNs(\n",
    "    PNs=PNs, \n",
    "    mp_df_curr=mp_df_curr_hist_dict['mp_df_curr'],\n",
    "    mp_df_hist=mp_df_curr_hist_dict['mp_df_hist'], \n",
    "    join_curr_hist=True\n",
    ")"
   ]
  },
  {
   "cell_type": "code",
   "execution_count": null,
   "id": "04c2148e",
   "metadata": {},
   "outputs": [],
   "source": [
    "mp_df_curr_hist[(mp_df_curr_hist['mfr_devc_ser_nbr']=='776156666') & (mp_df_curr_hist['prem_nb']=='076914321')]"
   ]
  },
  {
   "cell_type": "code",
   "execution_count": null,
   "id": "e898f00e",
   "metadata": {},
   "outputs": [],
   "source": [
    "df_mp_curr[(df_mp_curr['mfr_devc_ser_nbr']=='776156666') & (df_mp_curr['prem_nb']=='076914321')]"
   ]
  },
  {
   "cell_type": "code",
   "execution_count": null,
   "id": "99a05f9a",
   "metadata": {},
   "outputs": [],
   "source": [
    "df_mp_hist[(df_mp_hist['mfr_devc_ser_nbr']=='776156666') & (df_mp_hist['prem_nb']=='076914321')]"
   ]
  },
  {
   "cell_type": "code",
   "execution_count": null,
   "id": "b9aa4c2d",
   "metadata": {},
   "outputs": [],
   "source": [
    "mp_df_curr_hist[(mp_df_curr_hist['mfr_devc_ser_nbr']=='776156666') & (mp_df_curr_hist['prem_nb']=='076914321')].sort_values(by=['inst_ts', 'rmvl_ts'])"
   ]
  },
  {
   "cell_type": "code",
   "execution_count": null,
   "id": "c2e45f25",
   "metadata": {},
   "outputs": [],
   "source": [
    "fkr = mp_df_curr_hist[(mp_df_curr_hist['mfr_devc_ser_nbr']=='776156666') & (mp_df_curr_hist['prem_nb']=='076914321')].sort_values(by=['inst_ts', 'rmvl_ts'])\n",
    "fkr.iloc[2]==fkr.iloc[3]"
   ]
  },
  {
   "cell_type": "code",
   "execution_count": null,
   "id": "e1fb320e",
   "metadata": {},
   "outputs": [],
   "source": []
  },
  {
   "cell_type": "code",
   "execution_count": null,
   "id": "7c6ba028",
   "metadata": {},
   "outputs": [],
   "source": [
    "# Only reason for making dict is to ensure outg_rec_nbs are not repeated \n",
    "active_SNs_in_outgs_dfs_dict = {}\n",
    "for outg_rec_nb_i, row_i in dev_df_outage.iterrows():\n",
    "    # NOTE: assume_one_xfmr_per_PN=True above in MeterPremise.build_mp_df_curr_hist_for_PNs,\n",
    "    #       so does not need to be set again (i.e., assume_one_xfmr_per_PN=False below)\n",
    "    active_SNs_df_i = MeterPremise.get_active_SNs_for_PNs_at_datetime_interval(\n",
    "        PNs=row_i[prem_nb_col],\n",
    "        df_mp_curr=df_mp_curr, \n",
    "        df_mp_hist=df_mp_hist, \n",
    "        dt_0=row_i[df_off_ts_full_col],\n",
    "        dt_1=row_i[dt_on_ts_col],\n",
    "        assume_one_xfmr_per_PN=False, \n",
    "        output_index=None,\n",
    "        output_groupby=None, \n",
    "        assert_all_PNs_found=False\n",
    "    )\n",
    "    active_SNs_df_i[outg_rec_nb_col] = outg_rec_nb_i\n",
    "    assert(outg_rec_nb_i not in active_SNs_in_outgs_dfs_dict)\n",
    "    active_SNs_in_outgs_dfs_dict[outg_rec_nb_i] = active_SNs_df_i"
   ]
  },
  {
   "cell_type": "code",
   "execution_count": null,
   "id": "b7971844",
   "metadata": {},
   "outputs": [],
   "source": [
    "active_SNs_df_i"
   ]
  },
  {
   "cell_type": "code",
   "execution_count": null,
   "id": "023fe729",
   "metadata": {},
   "outputs": [],
   "source": [
    "active_SNs_df_i[(active_SNs_df_i['mfr_devc_ser_nbr']=='776156666') & (active_SNs_df_i['prem_nb']=='076914321') & (active_SNs_df_i['OUTG_REC_NB']==12333707)]"
   ]
  },
  {
   "cell_type": "code",
   "execution_count": null,
   "id": "b533796c",
   "metadata": {},
   "outputs": [],
   "source": []
  },
  {
   "cell_type": "code",
   "execution_count": null,
   "id": "af54f9f0",
   "metadata": {},
   "outputs": [],
   "source": []
  },
  {
   "cell_type": "code",
   "execution_count": null,
   "id": "56eb2f25",
   "metadata": {},
   "outputs": [],
   "source": []
  },
  {
   "cell_type": "code",
   "execution_count": null,
   "id": "7001f897",
   "metadata": {},
   "outputs": [],
   "source": []
  },
  {
   "cell_type": "markdown",
   "id": "157ec4fc",
   "metadata": {},
   "source": [
    "# DEV MeterPremise.drop_approx_mp_duplicates"
   ]
  },
  {
   "cell_type": "code",
   "execution_count": null,
   "id": "69f3739f",
   "metadata": {},
   "outputs": [],
   "source": []
  },
  {
   "cell_type": "code",
   "execution_count": null,
   "id": "8956dbe8",
   "metadata": {},
   "outputs": [],
   "source": [
    "PNs = Utilities_df.consolidate_column_of_lists(\n",
    "    df=dev_df_outage, \n",
    "    col=prem_nb_col, \n",
    "    sort=True,\n",
    "    include_None=False,\n",
    "    batch_size=consolidate_PNs_batch_size, \n",
    "    verbose=False\n",
    ")\n",
    "PNs = [x for x in PNs if pd.notna(x)]\n",
    "#-------------------------\n",
    "mp_df_curr_hist_dict = MeterPremise.build_mp_df_curr_hist_for_PNs(\n",
    "    PNs=PNs, \n",
    "    mp_df_curr=None,\n",
    "    mp_df_hist=None, \n",
    "    join_curr_hist=False, \n",
    "    addtnl_mp_df_curr_cols=None, \n",
    "    addtnl_mp_df_hist_cols=None, \n",
    "    assert_all_PNs_found=assert_all_PNs_found, \n",
    "    assume_one_xfmr_per_PN=True, \n",
    "    combine_rmvl_ts_nat_entries=False\n",
    ")\n",
    "df_mp_curr = mp_df_curr_hist_dict['mp_df_curr']\n",
    "df_mp_hist = mp_df_curr_hist_dict['mp_df_hist']"
   ]
  },
  {
   "cell_type": "code",
   "execution_count": null,
   "id": "0d850e05",
   "metadata": {},
   "outputs": [],
   "source": [
    "mp_df_curr_hist = MeterPremise.build_mp_df_curr_hist_for_PNs(\n",
    "    PNs=PNs, \n",
    "    mp_df_curr=mp_df_curr_hist_dict['mp_df_curr'],\n",
    "    mp_df_hist=mp_df_curr_hist_dict['mp_df_hist'], \n",
    "    join_curr_hist=True, \n",
    "    combine_rmvl_ts_nat_entries=False\n",
    ")"
   ]
  },
  {
   "cell_type": "code",
   "execution_count": null,
   "id": "54e18580",
   "metadata": {},
   "outputs": [],
   "source": [
    "mp_df_curr_hist.shape"
   ]
  },
  {
   "cell_type": "code",
   "execution_count": null,
   "id": "954ded52",
   "metadata": {},
   "outputs": [],
   "source": [
    "mp_df_curr_hist = MeterPremise.combine_rmvl_ts_nat_entries(mp_df_curr_hist)"
   ]
  },
  {
   "cell_type": "code",
   "execution_count": null,
   "id": "9eabbb58",
   "metadata": {},
   "outputs": [],
   "source": [
    "mp_df_curr_hist.shape"
   ]
  },
  {
   "cell_type": "code",
   "execution_count": null,
   "id": "0e15b8f5",
   "metadata": {},
   "outputs": [],
   "source": [
    "mp_df_curr_hist.groupby(['mfr_devc_ser_nbr', 'prem_nb']).size().sort_values(ascending=False)"
   ]
  },
  {
   "cell_type": "code",
   "execution_count": null,
   "id": "7a67e27d",
   "metadata": {},
   "outputs": [],
   "source": [
    "mp_df_curr_hist[(mp_df_curr_hist['mfr_devc_ser_nbr']=='776156666') & (mp_df_curr_hist['prem_nb']=='076914321')]"
   ]
  },
  {
   "cell_type": "code",
   "execution_count": null,
   "id": "0617d6b2",
   "metadata": {},
   "outputs": [],
   "source": [
    "mp_df_curr_hist.shape"
   ]
  },
  {
   "cell_type": "code",
   "execution_count": null,
   "id": "c2bafa1c",
   "metadata": {},
   "outputs": [],
   "source": [
    "mp_df_curr_hist = MeterPremise.drop_approx_mp_duplicates(\n",
    "    mp_df=mp_df_curr_hist, \n",
    "    fuzziness=pd.Timedelta('1 hour'), \n",
    "    gpby_dropna=False    \n",
    ")"
   ]
  },
  {
   "cell_type": "code",
   "execution_count": null,
   "id": "8edb127f",
   "metadata": {},
   "outputs": [],
   "source": [
    "mp_df_curr_hist.shape"
   ]
  },
  {
   "cell_type": "code",
   "execution_count": null,
   "id": "c9528a34",
   "metadata": {},
   "outputs": [],
   "source": [
    "mp_df_curr_hist.shape"
   ]
  },
  {
   "cell_type": "code",
   "execution_count": null,
   "id": "ffaae04d",
   "metadata": {},
   "outputs": [],
   "source": [
    "mp_df_curr_hist[(mp_df_curr_hist['mfr_devc_ser_nbr']=='776156666') & (mp_df_curr_hist['prem_nb']=='076914321')]"
   ]
  },
  {
   "cell_type": "code",
   "execution_count": null,
   "id": "a8660d77",
   "metadata": {},
   "outputs": [],
   "source": []
  },
  {
   "cell_type": "code",
   "execution_count": null,
   "id": "a3296c69",
   "metadata": {},
   "outputs": [],
   "source": [
    "v1.shape"
   ]
  },
  {
   "cell_type": "code",
   "execution_count": null,
   "id": "379502ae",
   "metadata": {},
   "outputs": [],
   "source": []
  },
  {
   "cell_type": "code",
   "execution_count": null,
   "id": "8d7a3528",
   "metadata": {},
   "outputs": [],
   "source": []
  },
  {
   "cell_type": "code",
   "execution_count": null,
   "id": "af4a962a",
   "metadata": {},
   "outputs": [],
   "source": []
  },
  {
   "cell_type": "markdown",
   "id": "cb7af875",
   "metadata": {},
   "source": [
    "# END NEW DEV"
   ]
  },
  {
   "cell_type": "code",
   "execution_count": null,
   "id": "2490b8bd",
   "metadata": {},
   "outputs": [],
   "source": [
    "dev_mp_df"
   ]
  },
  {
   "cell_type": "code",
   "execution_count": null,
   "id": "d62211f7",
   "metadata": {},
   "outputs": [],
   "source": [
    "assert(all(dev_mp_df[ovrlp_intrvl_0_col]<dev_mp_df[ovrlp_intrvl_1_col]))"
   ]
  },
  {
   "cell_type": "code",
   "execution_count": null,
   "id": "e4e49406",
   "metadata": {},
   "outputs": [],
   "source": [
    "dev_mp_df = dev_mp_df.sort_values(by=[ovrlp_intrvl_0_col, ovrlp_intrvl_1_col])"
   ]
  },
  {
   "cell_type": "code",
   "execution_count": null,
   "id": "6ef12aea",
   "metadata": {},
   "outputs": [],
   "source": [
    "overlaps = []\n",
    "current_beg, current_end = dev_mp_df.iloc[0][[ovrlp_intrvl_0_col, ovrlp_intrvl_1_col]]\n",
    "overlaps.append(\n",
    "    dict(min_val=current_beg, max_val=current_end, idxs=[dev_mp_df.index[0]])\n",
    ")"
   ]
  },
  {
   "cell_type": "code",
   "execution_count": null,
   "id": "0db4aa5e",
   "metadata": {},
   "outputs": [],
   "source": [
    "for i, (idx, row) in enumerate(dev_mp_df.iterrows()):\n",
    "    if i==0:\n",
    "        continue\n",
    "    #---------------\n",
    "    beg = row[ovrlp_intrvl_0_col]\n",
    "    end = row[ovrlp_intrvl_1_col]\n",
    "    if beg > current_end+fuzziness:\n",
    "        # beg after current end (with fuzziness buffer), so new interval needed\n",
    "        overlaps.append(dict(min_val=beg, max_val=end, idxs=[idx]))\n",
    "        current_beg, current_end = beg, end\n",
    "    else:\n",
    "        # beg <= current_end+fuzziness, so overlap\n",
    "        # The beg of overlaps[-1] remains the same, but the end of overlaps[-1] should be changed to\n",
    "        #   the max of current_end and end.\n",
    "        # Also, idx needs to be added to the overlap\n",
    "        current_end = max(current_end, end)\n",
    "        overlaps[-1]['max_val'] = current_end\n",
    "        overlaps[-1]['idxs'].append(idx)"
   ]
  },
  {
   "cell_type": "code",
   "execution_count": null,
   "id": "f43396d6",
   "metadata": {},
   "outputs": [],
   "source": [
    "assert(dev_mp_df_i.shape[0]==1)"
   ]
  },
  {
   "cell_type": "code",
   "execution_count": null,
   "id": "28c7e6e4",
   "metadata": {},
   "outputs": [],
   "source": [
    "dev_mp_df_i"
   ]
  },
  {
   "cell_type": "code",
   "execution_count": null,
   "id": "5c8b910c",
   "metadata": {},
   "outputs": [],
   "source": []
  },
  {
   "cell_type": "code",
   "execution_count": null,
   "id": "73e78874",
   "metadata": {},
   "outputs": [],
   "source": [
    "ovrlp_intrvl_0_col_idx = Utilities_df.find_idxs_in_highest_order_of_columns(dev_mp_df_i, ovrlp_intrvl_0_col)\n",
    "assert(len(ovrlp_intrvl_0_col_idx)==1)\n",
    "ovrlp_intrvl_0_col_idx=ovrlp_intrvl_0_col_idx[0]"
   ]
  },
  {
   "cell_type": "code",
   "execution_count": null,
   "id": "53fff258",
   "metadata": {},
   "outputs": [],
   "source": [
    "ovrlp_intrvl_1_col_idx = Utilities_df.find_idxs_in_highest_order_of_columns(dev_mp_df_i, ovrlp_intrvl_1_col)\n",
    "assert(len(ovrlp_intrvl_1_col_idx)==1)\n",
    "ovrlp_intrvl_1_col_idx=ovrlp_intrvl_1_col_idx[0]"
   ]
  },
  {
   "cell_type": "code",
   "execution_count": null,
   "id": "0e9f182a",
   "metadata": {},
   "outputs": [],
   "source": [
    "dev_mp_df_i.iloc[0, ovrlp_intrvl_0_col_idx] = overlap_dict_i['min_val']\n",
    "dev_mp_df_i.iloc[0, ovrlp_intrvl_1_col_idx] = overlap_dict_i['max_val']"
   ]
  },
  {
   "cell_type": "code",
   "execution_count": null,
   "id": "b6e0bd0d",
   "metadata": {},
   "outputs": [],
   "source": []
  },
  {
   "cell_type": "code",
   "execution_count": null,
   "id": "16a3a899",
   "metadata": {},
   "outputs": [],
   "source": [
    "dev_mp_df_i=dev_mp_df_i.reset_index()"
   ]
  },
  {
   "cell_type": "code",
   "execution_count": null,
   "id": "68e14b34",
   "metadata": {},
   "outputs": [],
   "source": [
    "dev_mp_df_i"
   ]
  },
  {
   "cell_type": "code",
   "execution_count": null,
   "id": "adc43f7f",
   "metadata": {},
   "outputs": [],
   "source": [
    "df_outage = df_outage_OG.copy()\n",
    "df_outage = DOVSOutages.merge_df_outage_with_mp(\n",
    "    df_outage=df_outage, \n",
    "    df_mp=df_mp_all, \n",
    "    merge_on_outg='PREMISE_NB', \n",
    "    merge_on_mp='prem_nb', \n",
    "    cols_to_include_mp=cols_of_interest_met_prem, \n",
    "    drop_cols = None, \n",
    "    rename_cols=None, \n",
    "    inplace=True\n",
    ")\n",
    "df_outage = Utilities_df.convert_col_types(\n",
    "    df=df_outage, \n",
    "    cols_and_types_dict={'annual_kwh':float, 'annual_max_dmnd':float}, \n",
    "    to_numeric_errors='coerce', \n",
    "    inplace=True\n",
    ")\n",
    "\n",
    "\n",
    "# Below, 'prim' stands for primary, and means the meters are connected directly to a transformer pole causing an outage\n",
    "df_outage_prim = df_outage[df_outage['LOCATION_ID']==df_outage['trsf_pole_nb']].copy()\n",
    "\n",
    "# Below, 'prim_strict' stands for primary strict, and means the  meters are connected directly \n",
    "# to a transformer pole causing an outage, AND the equipment type causing the outage is a transformer\n",
    "# (exact EQUIP_TYP_NMs given in xfmr_equip_typ_nms_of_interest)\n",
    "xfmr_equip_typ_nms_of_interest = ['TRANSFORMER, OH', 'TRANSFORMER, UG']\n",
    "df_outage_prim_strict = df_outage[(df_outage['LOCATION_ID']==df_outage['trsf_pole_nb']) & \n",
    "                                  (df_outage['EQUIP_TYP_NM'].isin(xfmr_equip_typ_nms_of_interest))].copy()"
   ]
  },
  {
   "cell_type": "code",
   "execution_count": null,
   "id": "db8911ec",
   "metadata": {},
   "outputs": [],
   "source": [
    "necessary_mp_cols = ['mfr_devc_ser_nbr', 'prem_nb', 'inst_ts', 'rmvl_ts']"
   ]
  },
  {
   "cell_type": "code",
   "execution_count": null,
   "id": "108003d8",
   "metadata": {},
   "outputs": [],
   "source": [
    "cols_to_list = [x for x in dev_mp_df.columns if x not in necessary_mp_cols]"
   ]
  },
  {
   "cell_type": "code",
   "execution_count": null,
   "id": "80ff56c3",
   "metadata": {},
   "outputs": [],
   "source": [
    "df_outage.head()"
   ]
  },
  {
   "cell_type": "code",
   "execution_count": null,
   "id": "d11f3063",
   "metadata": {},
   "outputs": [],
   "source": [
    "ovrlp_intrvl_1_col_idx"
   ]
  },
  {
   "cell_type": "code",
   "execution_count": null,
   "id": "b37c4994",
   "metadata": {},
   "outputs": [],
   "source": [
    "dev_mp_df"
   ]
  },
  {
   "cell_type": "code",
   "execution_count": null,
   "id": "2bd801f5",
   "metadata": {},
   "outputs": [],
   "source": [
    "dev_mp_df_i"
   ]
  },
  {
   "cell_type": "code",
   "execution_count": null,
   "id": "f7ced41f",
   "metadata": {},
   "outputs": [],
   "source": []
  },
  {
   "cell_type": "code",
   "execution_count": null,
   "id": "727ce38d",
   "metadata": {},
   "outputs": [],
   "source": [
    "df_outage_prim_strict['mfr_devc_ser_nbr'].nunique()"
   ]
  },
  {
   "cell_type": "code",
   "execution_count": null,
   "id": "65214eba",
   "metadata": {},
   "outputs": [],
   "source": [
    "# # THIS GIVES SAME RESULT AS MERGE ABOVE, IF I DONT WANT TO EXPLICITLY BUILD MP DFs\n",
    "# df_outage_2 = df_outage_OG.copy()\n",
    "# start=time.time()\n",
    "# df_outage_2 = DOVSOutages.build_mp_df_and_merge_with_df_outage(\n",
    "#     df_outage=df_outage_2, \n",
    "#     cols_of_interest_met_prem=cols_of_interest_met_prem, \n",
    "#     build_mp_df_args = dict(\n",
    "#         premise_nb_col='PREMISE_NB', \n",
    "#         df_construct_type=DFConstructType.kRunSqlQuery, \n",
    "#         build_sql_function=MeterPremise.build_sql_meter_premise, \n",
    "#         addtnl_build_sql_function_kwargs=dict(\n",
    "#             state_cds=['OH']\n",
    "#         )\n",
    "#     ), \n",
    "#     cols_to_include_mp=cols_of_interest_met_prem, \n",
    "#     drop_cols=None\n",
    "# )\n",
    "# print(f'time = {time.time()-start}')"
   ]
  },
  {
   "cell_type": "code",
   "execution_count": null,
   "id": "441c5807",
   "metadata": {},
   "outputs": [],
   "source": []
  },
  {
   "cell_type": "code",
   "execution_count": null,
   "id": "1f129fb9",
   "metadata": {},
   "outputs": [],
   "source": []
  },
  {
   "cell_type": "markdown",
   "id": "35bfbcd0",
   "metadata": {},
   "source": [
    "# -----------------------------------------------------------------------------------------------\n",
    "# !!!!!!!!!!!!!!!!!!!!!!!!!!!!!!!!!!!!!!!!!!!!!!!!!!!!!!!!!!!!!!!!!!!!!!!!!!!!!!!!!!!!!!!!!!!!!!!\n",
    "# -----------------------------------------------------------------------------------------------"
   ]
  },
  {
   "cell_type": "code",
   "execution_count": null,
   "id": "8cb3e574",
   "metadata": {},
   "outputs": [],
   "source": []
  },
  {
   "cell_type": "code",
   "execution_count": null,
   "id": "b3ea61e5",
   "metadata": {},
   "outputs": [],
   "source": [
    "df_outage_slim             = DOVSOutages.consolidate_df_outage(df_outage)\n",
    "df_outage_prim_slim        = DOVSOutages.consolidate_df_outage(df_outage_prim)\n",
    "df_outage_prim_strict_slim = DOVSOutages.consolidate_df_outage(df_outage_prim_strict)"
   ]
  },
  {
   "cell_type": "code",
   "execution_count": null,
   "id": "99d37acc",
   "metadata": {},
   "outputs": [],
   "source": [
    "print(df_outage_slim.shape)\n",
    "df_outage_slim.columns"
   ]
  },
  {
   "cell_type": "markdown",
   "id": "53145cf6",
   "metadata": {},
   "source": [
    "# Save CSVs if save_dfs_to_csv = True"
   ]
  },
  {
   "cell_type": "code",
   "execution_count": null,
   "id": "2766bacf",
   "metadata": {},
   "outputs": [],
   "source": [
    "if save_dfs_to_csv:\n",
    "    df_outage.to_csv(os.path.join(save_dir_csvs, 'df_outage.csv'), index=False)\n",
    "    df_outage_prim.to_csv(os.path.join(save_dir_csvs, 'df_outage_prim.csv'), index=False)\n",
    "    df_outage_prim_strict.to_csv(os.path.join(save_dir_csvs, 'df_outage_prim_strict.csv'), index=False)\n",
    "    #-----\n",
    "    df_outage_slim.to_csv(os.path.join(save_dir_csvs, 'df_outage_slim.csv'), index=False)\n",
    "    df_outage_prim_slim.to_csv(os.path.join(save_dir_csvs, 'df_outage_prim_slim.csv'), index=False)\n",
    "    df_outage_prim_strict_slim.to_csv(os.path.join(save_dir_csvs, 'df_outage_prim_strict_slim.csv'), index=False)"
   ]
  },
  {
   "cell_type": "code",
   "execution_count": null,
   "id": "154d121e",
   "metadata": {},
   "outputs": [],
   "source": [
    "# FUCK"
   ]
  },
  {
   "cell_type": "code",
   "execution_count": null,
   "id": "2ad45d07",
   "metadata": {},
   "outputs": [],
   "source": [
    "df_outage_slim = DOVSOutages.read_df_outage_slim_from_csv(os.path.join(save_dir_csvs, 'df_outage_slim.csv'))\n",
    "#df_outage_slim = DOVSOutages.read_df_outage_slim_from_csv(os.path.join(save_dir_csvs, 'df_outage_prim_strict_slim.csv'))"
   ]
  },
  {
   "cell_type": "code",
   "execution_count": null,
   "id": "2dff6036",
   "metadata": {},
   "outputs": [],
   "source": [
    "# print(df_outage_slim[(df_outage_slim['MJR_CAUSE_CD']=='DL') & (df_outage_slim['MNR_CAUSE_CD']=='OL')].shape)\n",
    "# print(df_outage_slim[(df_outage_slim['MJR_CAUSE_CD']=='DL') & (df_outage_slim['MNR_CAUSE_CD']=='EQF') ].shape)\n",
    "# print(df_outage_slim[\n",
    "#     (df_outage_slim['MJR_CAUSE_CD']=='DL') & \n",
    "#     (df_outage_slim['MNR_CAUSE_CD']=='EQF') & \n",
    "#     (df_outage_slim['EQUIP_TYP_NM'].isin(['TRANSFORMER, OH', 'TRANSFORMER, UG']))\n",
    "# ].shape)\n",
    "# print(df_outage_slim[\n",
    "#     ((df_outage_slim['MJR_CAUSE_CD']=='DL') & (df_outage_slim['MNR_CAUSE_CD']=='OL')) | \n",
    "#     ((df_outage_slim['MJR_CAUSE_CD']=='DL') & \n",
    "#      (df_outage_slim['MNR_CAUSE_CD']=='EQF') & \n",
    "#      (df_outage_slim['EQUIP_TYP_NM'].isin(['TRANSFORMER, OH', 'TRANSFORMER, UG'])))\n",
    "# ].shape)\n",
    "\n",
    "# df_outage_slim = df_outage_slim[\n",
    "#     ((df_outage_slim['MJR_CAUSE_CD']=='DL') & (df_outage_slim['MNR_CAUSE_CD']=='OL')) | \n",
    "#     ((df_outage_slim['MJR_CAUSE_CD']=='DL') & \n",
    "#      (df_outage_slim['MNR_CAUSE_CD']=='EQF') & \n",
    "#      (df_outage_slim['EQUIP_TYP_NM'].isin(['TRANSFORMER, OH', 'TRANSFORMER, UG'])))\n",
    "# ].copy()"
   ]
  },
  {
   "cell_type": "code",
   "execution_count": null,
   "id": "889ac9a1",
   "metadata": {},
   "outputs": [],
   "source": [
    "print(f'df_outage_slim.shape = {df_outage_slim.shape}')"
   ]
  },
  {
   "cell_type": "markdown",
   "id": "2a1523fa",
   "metadata": {},
   "source": [
    "# -----------------------------------------------------------------------------------------------\n",
    "# !!!!!!!!!!!!!!!!!!!!!!!!!!!!!!!!!!!!!!!!!!!!!!!!!!!!!!!!!!!!!!!!!!!!!!!!!!!!!!!!!!!!!!!!!!!!!!!\n",
    "# -----------------------------------------------------------------------------------------------"
   ]
  },
  {
   "cell_type": "code",
   "execution_count": null,
   "id": "677894c8",
   "metadata": {},
   "outputs": [],
   "source": [
    "search_time_half_window = datetime.timedelta(days=31)\n",
    "#-------------------------\n",
    "cols_of_interest_end_dev_event = TableInfos.AMIEndEvents_TI.std_columns_of_interest\n",
    "#-----\n",
    "cols_of_interest_met_prem      = TableInfos.MeterPremise_TI.std_columns_of_interest\n",
    "#-------------------------\n",
    "usg_split_to_CTEs=True\n",
    "match_events_in_df_to_outages=False\n",
    "combine_kwh_delivered_and_received=True\n",
    "#-------------------------\n",
    "if not usg_split_to_CTEs:\n",
    "    match_events_in_df_to_outages = True\n",
    "#-------------------------"
   ]
  },
  {
   "cell_type": "code",
   "execution_count": null,
   "id": "f1ab47bd",
   "metadata": {},
   "outputs": [],
   "source": [
    "df_outage_slim = DOVSOutages.set_search_time_in_outage_df(\n",
    "    df_outage=df_outage_slim, \n",
    "    search_time_half_window=search_time_half_window\n",
    ")"
   ]
  },
  {
   "cell_type": "code",
   "execution_count": null,
   "id": "98f26fb4",
   "metadata": {},
   "outputs": [],
   "source": [
    "df_outage_slim.columns"
   ]
  },
  {
   "cell_type": "code",
   "execution_count": null,
   "id": "eb7ea9df",
   "metadata": {},
   "outputs": [],
   "source": [
    "print(df_outage_slim['OUTG_REC_NB'].nunique())\n",
    "print(len(DOVSOutages.get_prem_nbs_from_consolidated_df_outage(df_outage_slim)))"
   ]
  },
  {
   "cell_type": "code",
   "execution_count": null,
   "id": "307db551",
   "metadata": {},
   "outputs": [],
   "source": [
    "# outg_rec_nbs = df_outage['OUTG_REC_NB'].unique().tolist()\n",
    "# df_outage_i = df_outage[df_outage['OUTG_REC_NB'].isin(outg_rec_nbs[:3])]"
   ]
  },
  {
   "cell_type": "code",
   "execution_count": null,
   "id": "7bda0513",
   "metadata": {},
   "outputs": [],
   "source": [
    "# df_construct_type=DFConstructType.kRunSqlQuery\n",
    "# contstruct_df_args_end_events=None\n",
    "# end_events_sql_function_kwargs = dict(\n",
    "#     cols_of_interest=cols_of_interest_end_dev_event, \n",
    "#     df_outage=df_outage, \n",
    "#     split_to_CTEs=usg_split_to_CTEs, \n",
    "#     join_mp_args=dict(\n",
    "#         join_with_CTE=True, \n",
    "#         build_mp_kwargs=dict(cols_of_interest=cols_of_interest_met_prem), \n",
    "#         join_type='LEFT'\n",
    "#     ), \n",
    "# )\n",
    "# addtnl_end_events_sql_function_kwargs = dict(\n",
    "#     build_sql_function_kwargs=dict(opco='oh')\n",
    "# )\n",
    "# end_events_sql_function_kwargs = {**end_events_sql_function_kwargs, \n",
    "#                                   **addtnl_end_events_sql_function_kwargs}\n",
    "# start=time.time()\n",
    "# end_events = AMIEndEvents(\n",
    "#     df_construct_type=df_construct_type, \n",
    "#     contstruct_df_args = contstruct_df_args_end_events, \n",
    "#     build_sql_function=AMIEndEvents_SQL.build_sql_end_events_for_outages, \n",
    "#     build_sql_function_kwargs=end_events_sql_function_kwargs, \n",
    "#     init_df_in_constructor=True\n",
    "# )\n",
    "# end_events_build_time = time.time()-start"
   ]
  },
  {
   "cell_type": "code",
   "execution_count": null,
   "id": "146abb25",
   "metadata": {},
   "outputs": [],
   "source": []
  },
  {
   "cell_type": "code",
   "execution_count": null,
   "id": "60d40c28",
   "metadata": {},
   "outputs": [],
   "source": [
    "save_args = dict(save_to_file=True, \n",
    "                 save_dir = r'C:\\Users\\s346557\\Documents\\LocalData\\dovs_and_end_events_data\\EndEvents_FUCK', \n",
    "                 save_name=r'end_events.csv', \n",
    "                 index=True)\n",
    "\n",
    "# save_args = dict(save_to_file=True, \n",
    "#                  save_dir = r'C:\\Users\\s346557\\Documents\\LocalData\\dovs_and_end_events_data\\EndEvents_prim_strict', \n",
    "#                  save_name=r'end_events.csv', \n",
    "#                  index=True)\n",
    "batch_size=10\n",
    "verbose=True\n",
    "n_update=1"
   ]
  },
  {
   "cell_type": "code",
   "execution_count": null,
   "id": "18d85fe0",
   "metadata": {},
   "outputs": [],
   "source": [
    "del df_outage_OG\n",
    "del df_outage\n",
    "del df_outage_prim\n",
    "del df_outage_prim_strict"
   ]
  },
  {
   "cell_type": "code",
   "execution_count": null,
   "id": "4cf874cd",
   "metadata": {},
   "outputs": [],
   "source": [
    "df_construct_type=DFConstructType.kRunSqlQuery\n",
    "contstruct_df_args_end_events=None\n",
    "end_events_sql_function_kwargs = dict(\n",
    "    cols_of_interest=cols_of_interest_end_dev_event, \n",
    "    df_outage=df_outage_slim, \n",
    "    split_to_CTEs=usg_split_to_CTEs, \n",
    "    join_mp_args=dict(\n",
    "        join_with_CTE=True, \n",
    "        build_mp_kwargs=dict(cols_of_interest=cols_of_interest_met_prem), \n",
    "        join_type='LEFT'\n",
    "    ), \n",
    "    df_args = dict(mapping_to_ami={'PREMISE_NBS':'premise_nbs'}, \n",
    "                   is_df_consolidated=True), \n",
    "    field_to_split='df_outage', \n",
    "    field_to_split_location_in_kwargs=['df_outage'], \n",
    "    sort_coll_to_split=True,\n",
    "    batch_size=batch_size, verbose=verbose, n_update=n_update\n",
    ")\n",
    "addtnl_end_events_sql_function_kwargs = dict(\n",
    "    build_sql_function_kwargs=dict(opco='oh')\n",
    ")\n",
    "end_events_sql_function_kwargs = {**end_events_sql_function_kwargs, \n",
    "                                  **addtnl_end_events_sql_function_kwargs}"
   ]
  },
  {
   "cell_type": "code",
   "execution_count": null,
   "id": "fac0121a",
   "metadata": {},
   "outputs": [],
   "source": [
    "start=time.time()\n",
    "end_events = AMIEndEvents(\n",
    "    df_construct_type=df_construct_type, \n",
    "    contstruct_df_args = contstruct_df_args_end_events, \n",
    "    build_sql_function=AMIEndEvents_SQL.build_sql_end_events_for_outages, \n",
    "    build_sql_function_kwargs=end_events_sql_function_kwargs, \n",
    "    init_df_in_constructor=True, \n",
    "    save_args=save_args\n",
    ")\n",
    "end_events_build_time = time.time()-start"
   ]
  },
  {
   "cell_type": "code",
   "execution_count": null,
   "id": "975425a1",
   "metadata": {},
   "outputs": [],
   "source": []
  },
  {
   "cell_type": "code",
   "execution_count": null,
   "id": "bb0af5f0",
   "metadata": {},
   "outputs": [],
   "source": [
    "df_outage_slim"
   ]
  },
  {
   "cell_type": "code",
   "execution_count": null,
   "id": "68bf92e1",
   "metadata": {},
   "outputs": [],
   "source": []
  },
  {
   "cell_type": "code",
   "execution_count": null,
   "id": "2dceab6c",
   "metadata": {},
   "outputs": [],
   "source": []
  },
  {
   "cell_type": "code",
   "execution_count": null,
   "id": "a8640891",
   "metadata": {},
   "outputs": [],
   "source": []
  },
  {
   "cell_type": "code",
   "execution_count": null,
   "id": "9489c003",
   "metadata": {},
   "outputs": [],
   "source": []
  },
  {
   "cell_type": "code",
   "execution_count": null,
   "id": "ea07ba2a",
   "metadata": {},
   "outputs": [],
   "source": []
  },
  {
   "cell_type": "code",
   "execution_count": 2,
   "id": "d8f24fab",
   "metadata": {},
   "outputs": [],
   "source": [
    "df1 = pd.read_pickle(r'C:\\Users\\s346557\\Documents\\LocalData\\dovs_and_end_events_data\\20230301\\20230101_20231231\\Outgs_Full\\df_outage.pkl')\n",
    "df1_slim = pd.read_pickle(r'C:\\Users\\s346557\\Documents\\LocalData\\dovs_and_end_events_data\\20230301\\20230101_20231231\\Outgs_Full\\df_outage_slim.pkl')"
   ]
  },
  {
   "cell_type": "code",
   "execution_count": 10,
   "id": "09a505ed",
   "metadata": {},
   "outputs": [
    {
     "name": "stdout",
     "output_type": "stream",
     "text": [
      "groups_violating_uniqueness = []\n"
     ]
    }
   ],
   "source": [
    "df_slim2 = DOVSOutages.consolidate_df_outage(\n",
    "    df1[df1['OUTG_REC_NB'].isin(df1['OUTG_REC_NB'].unique().tolist()[:10])], \n",
    "    addtnl_grpby_cols=['trsf_pole_nb'], \n",
    "    set_outg_rec_nb_as_index=False\n",
    ")"
   ]
  },
  {
   "cell_type": "code",
   "execution_count": 8,
   "id": "6f7d6c79",
   "metadata": {},
   "outputs": [
    {
     "data": {
      "text/html": [
       "<div>\n",
       "<style scoped>\n",
       "    .dataframe tbody tr th:only-of-type {\n",
       "        vertical-align: middle;\n",
       "    }\n",
       "\n",
       "    .dataframe tbody tr th {\n",
       "        vertical-align: top;\n",
       "    }\n",
       "\n",
       "    .dataframe thead th {\n",
       "        text-align: right;\n",
       "    }\n",
       "</style>\n",
       "<table border=\"1\" class=\"dataframe\">\n",
       "  <thead>\n",
       "    <tr style=\"text-align: right;\">\n",
       "      <th></th>\n",
       "      <th>OUTG_REC_NB</th>\n",
       "      <th>CI_NB</th>\n",
       "      <th>CMI_NB</th>\n",
       "      <th>OUTAGE_NB</th>\n",
       "      <th>DT_ON_TS</th>\n",
       "      <th>DT_OFF_TS</th>\n",
       "      <th>DT_OFF_TS_FULL</th>\n",
       "      <th>STEP_DRTN_NB</th>\n",
       "      <th>START_YEAR</th>\n",
       "      <th>OPERATING_UNIT_ID</th>\n",
       "      <th>...</th>\n",
       "      <th>EQUIP_TYP_NM</th>\n",
       "      <th>SHORT_NM_EQP_TYP</th>\n",
       "      <th>MJR_CAUSE_NM</th>\n",
       "      <th>MNR_CAUSE_NM</th>\n",
       "      <th>mfr_devc_ser_nbr</th>\n",
       "      <th>prem_nb</th>\n",
       "      <th>inst_ts</th>\n",
       "      <th>rmvl_ts</th>\n",
       "      <th>trsf_pole_nb</th>\n",
       "      <th>PREMISE_NBS</th>\n",
       "    </tr>\n",
       "    <tr>\n",
       "      <th>idx</th>\n",
       "      <th></th>\n",
       "      <th></th>\n",
       "      <th></th>\n",
       "      <th></th>\n",
       "      <th></th>\n",
       "      <th></th>\n",
       "      <th></th>\n",
       "      <th></th>\n",
       "      <th></th>\n",
       "      <th></th>\n",
       "      <th></th>\n",
       "      <th></th>\n",
       "      <th></th>\n",
       "      <th></th>\n",
       "      <th></th>\n",
       "      <th></th>\n",
       "      <th></th>\n",
       "      <th></th>\n",
       "      <th></th>\n",
       "      <th></th>\n",
       "      <th></th>\n",
       "    </tr>\n",
       "  </thead>\n",
       "  <tbody>\n",
       "    <tr>\n",
       "      <th>13149401</th>\n",
       "      <td>13149401</td>\n",
       "      <td>6</td>\n",
       "      <td>462.0</td>\n",
       "      <td>3345801</td>\n",
       "      <td>2023-01-01 02:10:00</td>\n",
       "      <td>2023-01-01</td>\n",
       "      <td>2023-01-01 00:53:00</td>\n",
       "      <td>77.0</td>\n",
       "      <td>2023.0</td>\n",
       "      <td>3</td>\n",
       "      <td>...</td>\n",
       "      <td>NONE</td>\n",
       "      <td>NONE</td>\n",
       "      <td>DISTRIBUTION LINE</td>\n",
       "      <td>UNKNOWN (NON WEATHER)</td>\n",
       "      <td>659433671</td>\n",
       "      <td>109479311</td>\n",
       "      <td>2014-01-13 12:00:20</td>\n",
       "      <td>NaT</td>\n",
       "      <td>1671753343672</td>\n",
       "      <td>[109479311, 102679311, 103279311, 107969311]</td>\n",
       "    </tr>\n",
       "    <tr>\n",
       "      <th>13149414</th>\n",
       "      <td>13149414</td>\n",
       "      <td>161</td>\n",
       "      <td>27531.0</td>\n",
       "      <td>3345831</td>\n",
       "      <td>2023-01-01 04:13:00</td>\n",
       "      <td>2023-01-01</td>\n",
       "      <td>2023-01-01 01:22:00</td>\n",
       "      <td>171.0</td>\n",
       "      <td>2023.0</td>\n",
       "      <td>3</td>\n",
       "      <td>...</td>\n",
       "      <td>CONDUCTOR OVERHEAD</td>\n",
       "      <td>OH COND</td>\n",
       "      <td>DISTRIBUTION LINE</td>\n",
       "      <td>VANDALISM</td>\n",
       "      <td>645780102</td>\n",
       "      <td>100171140</td>\n",
       "      <td>2010-12-06 12:00:20</td>\n",
       "      <td>2023-02-15 12:00:00</td>\n",
       "      <td>1879927725778</td>\n",
       "      <td>[100171140, 100012140, 100059040, 100080140, 1...</td>\n",
       "    </tr>\n",
       "    <tr>\n",
       "      <th>13149439</th>\n",
       "      <td>13149439</td>\n",
       "      <td>1</td>\n",
       "      <td>116.0</td>\n",
       "      <td>3345941</td>\n",
       "      <td>2023-01-01 06:30:00</td>\n",
       "      <td>2023-01-01</td>\n",
       "      <td>2023-01-01 04:34:00</td>\n",
       "      <td>116.0</td>\n",
       "      <td>2023.0</td>\n",
       "      <td>3</td>\n",
       "      <td>...</td>\n",
       "      <td>CONDUCTOR OVERHEAD</td>\n",
       "      <td>OH COND</td>\n",
       "      <td>DISTRIBUTION LINE</td>\n",
       "      <td>EQUIPMENT FAILURE</td>\n",
       "      <td>655793273</td>\n",
       "      <td>077483840</td>\n",
       "      <td>2012-10-08 12:00:20</td>\n",
       "      <td>NaT</td>\n",
       "      <td>41840653000079</td>\n",
       "      <td>[077483840]</td>\n",
       "    </tr>\n",
       "    <tr>\n",
       "      <th>13149452</th>\n",
       "      <td>13149452</td>\n",
       "      <td>1</td>\n",
       "      <td>121.0</td>\n",
       "      <td>3345971</td>\n",
       "      <td>2023-01-01 07:50:00</td>\n",
       "      <td>2023-01-01</td>\n",
       "      <td>2023-01-01 05:49:00</td>\n",
       "      <td>121.0</td>\n",
       "      <td>2023.0</td>\n",
       "      <td>3</td>\n",
       "      <td>...</td>\n",
       "      <td>CUTOUT</td>\n",
       "      <td>CUTOUT</td>\n",
       "      <td>DISTRIBUTION LINE</td>\n",
       "      <td>ANIMAL - NON BIRD</td>\n",
       "      <td>659229323</td>\n",
       "      <td>103790890</td>\n",
       "      <td>2013-12-05 12:00:20</td>\n",
       "      <td>NaT</td>\n",
       "      <td>1652961379999</td>\n",
       "      <td>[103790890]</td>\n",
       "    </tr>\n",
       "    <tr>\n",
       "      <th>13149458</th>\n",
       "      <td>13149458</td>\n",
       "      <td>19</td>\n",
       "      <td>836.0</td>\n",
       "      <td>3346021</td>\n",
       "      <td>2023-01-01 08:39:00</td>\n",
       "      <td>2023-01-01</td>\n",
       "      <td>2023-01-01 07:55:00</td>\n",
       "      <td>44.0</td>\n",
       "      <td>2023.0</td>\n",
       "      <td>3</td>\n",
       "      <td>...</td>\n",
       "      <td>NONE</td>\n",
       "      <td>NONE</td>\n",
       "      <td>DISTRIBUTION LINE</td>\n",
       "      <td>ANIMAL - NON BIRD</td>\n",
       "      <td>883461236</td>\n",
       "      <td>073113201</td>\n",
       "      <td>2019-09-17 12:00:20</td>\n",
       "      <td>NaT</td>\n",
       "      <td>41810698B10078</td>\n",
       "      <td>[073113201, 070013201, 070317201, 072143201, 0...</td>\n",
       "    </tr>\n",
       "    <tr>\n",
       "      <th>...</th>\n",
       "      <td>...</td>\n",
       "      <td>...</td>\n",
       "      <td>...</td>\n",
       "      <td>...</td>\n",
       "      <td>...</td>\n",
       "      <td>...</td>\n",
       "      <td>...</td>\n",
       "      <td>...</td>\n",
       "      <td>...</td>\n",
       "      <td>...</td>\n",
       "      <td>...</td>\n",
       "      <td>...</td>\n",
       "      <td>...</td>\n",
       "      <td>...</td>\n",
       "      <td>...</td>\n",
       "      <td>...</td>\n",
       "      <td>...</td>\n",
       "      <td>...</td>\n",
       "      <td>...</td>\n",
       "      <td>...</td>\n",
       "      <td>...</td>\n",
       "    </tr>\n",
       "    <tr>\n",
       "      <th>13285733</th>\n",
       "      <td>13285733</td>\n",
       "      <td>1</td>\n",
       "      <td>1137.0</td>\n",
       "      <td>3897371</td>\n",
       "      <td>2023-04-04 09:37:00</td>\n",
       "      <td>2023-04-03</td>\n",
       "      <td>2023-04-03 14:40:00</td>\n",
       "      <td>1137.0</td>\n",
       "      <td>2023.0</td>\n",
       "      <td>3</td>\n",
       "      <td>...</td>\n",
       "      <td>NONE</td>\n",
       "      <td>NONE</td>\n",
       "      <td>DISTRIBUTION LINE</td>\n",
       "      <td>TREE OUT OF ROW</td>\n",
       "      <td>692404312</td>\n",
       "      <td>101740132</td>\n",
       "      <td>2022-02-15 12:00:20</td>\n",
       "      <td>NaT</td>\n",
       "      <td>1877670749950</td>\n",
       "      <td>[101740132]</td>\n",
       "    </tr>\n",
       "    <tr>\n",
       "      <th>13285948</th>\n",
       "      <td>13285948</td>\n",
       "      <td>10</td>\n",
       "      <td>11190.0</td>\n",
       "      <td>3900221</td>\n",
       "      <td>2023-04-04 11:03:00</td>\n",
       "      <td>2023-04-03</td>\n",
       "      <td>2023-04-03 16:24:00</td>\n",
       "      <td>1119.0</td>\n",
       "      <td>2023.0</td>\n",
       "      <td>3</td>\n",
       "      <td>...</td>\n",
       "      <td>NONE</td>\n",
       "      <td>NONE</td>\n",
       "      <td>DISTRIBUTION LINE</td>\n",
       "      <td>TREE INSIDE ROW</td>\n",
       "      <td>880176801</td>\n",
       "      <td>102378573</td>\n",
       "      <td>2018-10-08 12:00:20</td>\n",
       "      <td>NaT</td>\n",
       "      <td>1909221708340</td>\n",
       "      <td>[102378573, 100491833, 100868573, 101778573, 1...</td>\n",
       "    </tr>\n",
       "    <tr>\n",
       "      <th>13286663</th>\n",
       "      <td>13286663</td>\n",
       "      <td>7</td>\n",
       "      <td>7938.0</td>\n",
       "      <td>3899991</td>\n",
       "      <td>2023-04-04 14:20:00</td>\n",
       "      <td>2023-04-03</td>\n",
       "      <td>2023-04-03 19:26:00</td>\n",
       "      <td>1134.0</td>\n",
       "      <td>2023.0</td>\n",
       "      <td>3</td>\n",
       "      <td>...</td>\n",
       "      <td>CONDUCTOR OVERHEAD</td>\n",
       "      <td>OH COND</td>\n",
       "      <td>DISTRIBUTION LINE</td>\n",
       "      <td>TREE OUT OF ROW</td>\n",
       "      <td>884699384</td>\n",
       "      <td>074931545</td>\n",
       "      <td>2019-06-17 12:00:20</td>\n",
       "      <td>NaT</td>\n",
       "      <td>41810868A30030</td>\n",
       "      <td>[074931545, 070241545, 072431545, 073341545, 0...</td>\n",
       "    </tr>\n",
       "    <tr>\n",
       "      <th>22907760</th>\n",
       "      <td>22907760</td>\n",
       "      <td>92</td>\n",
       "      <td>45540.0</td>\n",
       "      <td>3677701</td>\n",
       "      <td>2023-03-25 21:00:00</td>\n",
       "      <td>2023-03-25</td>\n",
       "      <td>2023-03-25 12:45:00</td>\n",
       "      <td>495.0</td>\n",
       "      <td>2023.0</td>\n",
       "      <td>3</td>\n",
       "      <td>...</td>\n",
       "      <td>CONDUCTOR OVERHEAD</td>\n",
       "      <td>OH COND</td>\n",
       "      <td>DISTRIBUTION LINE</td>\n",
       "      <td>TREE OUT OF ROW</td>\n",
       "      <td>190703791</td>\n",
       "      <td>100074225</td>\n",
       "      <td>2014-02-03 12:00:20</td>\n",
       "      <td>NaT</td>\n",
       "      <td>1857601475997</td>\n",
       "      <td>[100074225, 100090491, 100114428, 100150491, 1...</td>\n",
       "    </tr>\n",
       "    <tr>\n",
       "      <th>22907793</th>\n",
       "      <td>22907793</td>\n",
       "      <td>2</td>\n",
       "      <td>790.0</td>\n",
       "      <td>3676881</td>\n",
       "      <td>2023-03-25 19:00:00</td>\n",
       "      <td>2023-03-25</td>\n",
       "      <td>2023-03-25 12:25:00</td>\n",
       "      <td>395.0</td>\n",
       "      <td>2023.0</td>\n",
       "      <td>3</td>\n",
       "      <td>...</td>\n",
       "      <td>CONDUCTOR OVERHEAD</td>\n",
       "      <td>OH COND</td>\n",
       "      <td>DISTRIBUTION LINE</td>\n",
       "      <td>EQUIPMENT FAILURE</td>\n",
       "      <td>555461143</td>\n",
       "      <td>076639906</td>\n",
       "      <td>2012-09-27 12:00:20</td>\n",
       "      <td>NaT</td>\n",
       "      <td>41840920A40021</td>\n",
       "      <td>[076639906, 078181618]</td>\n",
       "    </tr>\n",
       "  </tbody>\n",
       "</table>\n",
       "<p>11090 rows × 28 columns</p>\n",
       "</div>"
      ],
      "text/plain": [
       "          OUTG_REC_NB  CI_NB   CMI_NB OUTAGE_NB            DT_ON_TS  \\\n",
       "idx                                                                   \n",
       "13149401     13149401      6    462.0   3345801 2023-01-01 02:10:00   \n",
       "13149414     13149414    161  27531.0   3345831 2023-01-01 04:13:00   \n",
       "13149439     13149439      1    116.0   3345941 2023-01-01 06:30:00   \n",
       "13149452     13149452      1    121.0   3345971 2023-01-01 07:50:00   \n",
       "13149458     13149458     19    836.0   3346021 2023-01-01 08:39:00   \n",
       "...               ...    ...      ...       ...                 ...   \n",
       "13285733     13285733      1   1137.0   3897371 2023-04-04 09:37:00   \n",
       "13285948     13285948     10  11190.0   3900221 2023-04-04 11:03:00   \n",
       "13286663     13286663      7   7938.0   3899991 2023-04-04 14:20:00   \n",
       "22907760     22907760     92  45540.0   3677701 2023-03-25 21:00:00   \n",
       "22907793     22907793      2    790.0   3676881 2023-03-25 19:00:00   \n",
       "\n",
       "          DT_OFF_TS      DT_OFF_TS_FULL  STEP_DRTN_NB  START_YEAR  \\\n",
       "idx                                                                 \n",
       "13149401 2023-01-01 2023-01-01 00:53:00          77.0      2023.0   \n",
       "13149414 2023-01-01 2023-01-01 01:22:00         171.0      2023.0   \n",
       "13149439 2023-01-01 2023-01-01 04:34:00         116.0      2023.0   \n",
       "13149452 2023-01-01 2023-01-01 05:49:00         121.0      2023.0   \n",
       "13149458 2023-01-01 2023-01-01 07:55:00          44.0      2023.0   \n",
       "...             ...                 ...           ...         ...   \n",
       "13285733 2023-04-03 2023-04-03 14:40:00        1137.0      2023.0   \n",
       "13285948 2023-04-03 2023-04-03 16:24:00        1119.0      2023.0   \n",
       "13286663 2023-04-03 2023-04-03 19:26:00        1134.0      2023.0   \n",
       "22907760 2023-03-25 2023-03-25 12:45:00         495.0      2023.0   \n",
       "22907793 2023-03-25 2023-03-25 12:25:00         395.0      2023.0   \n",
       "\n",
       "         OPERATING_UNIT_ID  ...        EQUIP_TYP_NM SHORT_NM_EQP_TYP  \\\n",
       "idx                         ...                                        \n",
       "13149401                 3  ...                NONE             NONE   \n",
       "13149414                 3  ...  CONDUCTOR OVERHEAD          OH COND   \n",
       "13149439                 3  ...  CONDUCTOR OVERHEAD          OH COND   \n",
       "13149452                 3  ...              CUTOUT           CUTOUT   \n",
       "13149458                 3  ...                NONE             NONE   \n",
       "...                    ...  ...                 ...              ...   \n",
       "13285733                 3  ...                NONE             NONE   \n",
       "13285948                 3  ...                NONE             NONE   \n",
       "13286663                 3  ...  CONDUCTOR OVERHEAD          OH COND   \n",
       "22907760                 3  ...  CONDUCTOR OVERHEAD          OH COND   \n",
       "22907793                 3  ...  CONDUCTOR OVERHEAD          OH COND   \n",
       "\n",
       "               MJR_CAUSE_NM           MNR_CAUSE_NM mfr_devc_ser_nbr  \\\n",
       "idx                                                                   \n",
       "13149401  DISTRIBUTION LINE  UNKNOWN (NON WEATHER)        659433671   \n",
       "13149414  DISTRIBUTION LINE              VANDALISM        645780102   \n",
       "13149439  DISTRIBUTION LINE      EQUIPMENT FAILURE        655793273   \n",
       "13149452  DISTRIBUTION LINE      ANIMAL - NON BIRD        659229323   \n",
       "13149458  DISTRIBUTION LINE      ANIMAL - NON BIRD        883461236   \n",
       "...                     ...                    ...              ...   \n",
       "13285733  DISTRIBUTION LINE        TREE OUT OF ROW        692404312   \n",
       "13285948  DISTRIBUTION LINE        TREE INSIDE ROW        880176801   \n",
       "13286663  DISTRIBUTION LINE        TREE OUT OF ROW        884699384   \n",
       "22907760  DISTRIBUTION LINE        TREE OUT OF ROW        190703791   \n",
       "22907793  DISTRIBUTION LINE      EQUIPMENT FAILURE        555461143   \n",
       "\n",
       "            prem_nb             inst_ts             rmvl_ts    trsf_pole_nb  \\\n",
       "idx                                                                           \n",
       "13149401  109479311 2014-01-13 12:00:20                 NaT   1671753343672   \n",
       "13149414  100171140 2010-12-06 12:00:20 2023-02-15 12:00:00   1879927725778   \n",
       "13149439  077483840 2012-10-08 12:00:20                 NaT  41840653000079   \n",
       "13149452  103790890 2013-12-05 12:00:20                 NaT   1652961379999   \n",
       "13149458  073113201 2019-09-17 12:00:20                 NaT  41810698B10078   \n",
       "...             ...                 ...                 ...             ...   \n",
       "13285733  101740132 2022-02-15 12:00:20                 NaT   1877670749950   \n",
       "13285948  102378573 2018-10-08 12:00:20                 NaT   1909221708340   \n",
       "13286663  074931545 2019-06-17 12:00:20                 NaT  41810868A30030   \n",
       "22907760  100074225 2014-02-03 12:00:20                 NaT   1857601475997   \n",
       "22907793  076639906 2012-09-27 12:00:20                 NaT  41840920A40021   \n",
       "\n",
       "                                                PREMISE_NBS  \n",
       "idx                                                          \n",
       "13149401       [109479311, 102679311, 103279311, 107969311]  \n",
       "13149414  [100171140, 100012140, 100059040, 100080140, 1...  \n",
       "13149439                                        [077483840]  \n",
       "13149452                                        [103790890]  \n",
       "13149458  [073113201, 070013201, 070317201, 072143201, 0...  \n",
       "...                                                     ...  \n",
       "13285733                                        [101740132]  \n",
       "13285948  [102378573, 100491833, 100868573, 101778573, 1...  \n",
       "13286663  [074931545, 070241545, 072431545, 073341545, 0...  \n",
       "22907760  [100074225, 100090491, 100114428, 100150491, 1...  \n",
       "22907793                             [076639906, 078181618]  \n",
       "\n",
       "[11090 rows x 28 columns]"
      ]
     },
     "execution_count": 8,
     "metadata": {},
     "output_type": "execute_result"
    }
   ],
   "source": [
    "df1_slim"
   ]
  },
  {
   "cell_type": "code",
   "execution_count": 9,
   "id": "066fa855",
   "metadata": {},
   "outputs": [
    {
     "data": {
      "text/html": [
       "<div>\n",
       "<style scoped>\n",
       "    .dataframe tbody tr th:only-of-type {\n",
       "        vertical-align: middle;\n",
       "    }\n",
       "\n",
       "    .dataframe tbody tr th {\n",
       "        vertical-align: top;\n",
       "    }\n",
       "\n",
       "    .dataframe thead th {\n",
       "        text-align: right;\n",
       "    }\n",
       "</style>\n",
       "<table border=\"1\" class=\"dataframe\">\n",
       "  <thead>\n",
       "    <tr style=\"text-align: right;\">\n",
       "      <th></th>\n",
       "      <th>OUTG_REC_NB</th>\n",
       "      <th>trsf_pole_nb</th>\n",
       "      <th>GIS_CRCT_NB</th>\n",
       "      <th>MJR_CAUSE_CD</th>\n",
       "      <th>OPERATING_UNIT_ID</th>\n",
       "      <th>DT_OFF_TS_FULL</th>\n",
       "      <th>CMI_NB</th>\n",
       "      <th>OPRTG_UNT_NM</th>\n",
       "      <th>MJR_CAUSE_NM</th>\n",
       "      <th>OUTAGE_NB</th>\n",
       "      <th>...</th>\n",
       "      <th>SHORT_NM_EQP_TYP</th>\n",
       "      <th>START_YEAR</th>\n",
       "      <th>SHORT_NM_CLR_DEV</th>\n",
       "      <th>STATE_ABBR_TX</th>\n",
       "      <th>CI_NB</th>\n",
       "      <th>PREMISE_NBS</th>\n",
       "      <th>mfr_devc_ser_nbr</th>\n",
       "      <th>prem_nb</th>\n",
       "      <th>inst_ts</th>\n",
       "      <th>rmvl_ts</th>\n",
       "    </tr>\n",
       "    <tr>\n",
       "      <th>idx</th>\n",
       "      <th></th>\n",
       "      <th></th>\n",
       "      <th></th>\n",
       "      <th></th>\n",
       "      <th></th>\n",
       "      <th></th>\n",
       "      <th></th>\n",
       "      <th></th>\n",
       "      <th></th>\n",
       "      <th></th>\n",
       "      <th></th>\n",
       "      <th></th>\n",
       "      <th></th>\n",
       "      <th></th>\n",
       "      <th></th>\n",
       "      <th></th>\n",
       "      <th></th>\n",
       "      <th></th>\n",
       "      <th></th>\n",
       "      <th></th>\n",
       "      <th></th>\n",
       "    </tr>\n",
       "  </thead>\n",
       "  <tbody>\n",
       "    <tr>\n",
       "      <th>13171421</th>\n",
       "      <td>13171421</td>\n",
       "      <td>2100358533316</td>\n",
       "      <td>0011202</td>\n",
       "      <td>DL</td>\n",
       "      <td>3</td>\n",
       "      <td>2023-01-20 09:32:00</td>\n",
       "      <td>7946.0</td>\n",
       "      <td>AEP-Ohio</td>\n",
       "      <td>DISTRIBUTION LINE</td>\n",
       "      <td>3419191</td>\n",
       "      <td>...</td>\n",
       "      <td>INSULATOR</td>\n",
       "      <td>2023.0</td>\n",
       "      <td>RECLOSER</td>\n",
       "      <td>OH</td>\n",
       "      <td>137</td>\n",
       "      <td>[104445576, 105198720]</td>\n",
       "      <td>[538440290, 659525774]</td>\n",
       "      <td>[104445576, 105198720]</td>\n",
       "      <td>[2018-09-19 12:00:20, 2014-04-10 12:00:20]</td>\n",
       "      <td>[]</td>\n",
       "    </tr>\n",
       "    <tr>\n",
       "      <th>13171421</th>\n",
       "      <td>13171421</td>\n",
       "      <td>2100626533669</td>\n",
       "      <td>0011202</td>\n",
       "      <td>DL</td>\n",
       "      <td>3</td>\n",
       "      <td>2023-01-20 09:32:00</td>\n",
       "      <td>7946.0</td>\n",
       "      <td>AEP-Ohio</td>\n",
       "      <td>DISTRIBUTION LINE</td>\n",
       "      <td>3419191</td>\n",
       "      <td>...</td>\n",
       "      <td>INSULATOR</td>\n",
       "      <td>2023.0</td>\n",
       "      <td>RECLOSER</td>\n",
       "      <td>OH</td>\n",
       "      <td>137</td>\n",
       "      <td>[104581230]</td>\n",
       "      <td>[659692280]</td>\n",
       "      <td>[104581230]</td>\n",
       "      <td>[2014-04-10 12:00:20]</td>\n",
       "      <td>[]</td>\n",
       "    </tr>\n",
       "    <tr>\n",
       "      <th>13171421</th>\n",
       "      <td>13171421</td>\n",
       "      <td>2100894534278</td>\n",
       "      <td>0011202</td>\n",
       "      <td>DL</td>\n",
       "      <td>3</td>\n",
       "      <td>2023-01-20 09:32:00</td>\n",
       "      <td>7946.0</td>\n",
       "      <td>AEP-Ohio</td>\n",
       "      <td>DISTRIBUTION LINE</td>\n",
       "      <td>3419191</td>\n",
       "      <td>...</td>\n",
       "      <td>INSULATOR</td>\n",
       "      <td>2023.0</td>\n",
       "      <td>RECLOSER</td>\n",
       "      <td>OH</td>\n",
       "      <td>137</td>\n",
       "      <td>[109575059]</td>\n",
       "      <td>[659685882]</td>\n",
       "      <td>[109575059]</td>\n",
       "      <td>[2014-04-14 12:00:20]</td>\n",
       "      <td>[]</td>\n",
       "    </tr>\n",
       "    <tr>\n",
       "      <th>13171421</th>\n",
       "      <td>13171421</td>\n",
       "      <td>2101179534635</td>\n",
       "      <td>0011202</td>\n",
       "      <td>DL</td>\n",
       "      <td>3</td>\n",
       "      <td>2023-01-20 09:32:00</td>\n",
       "      <td>7946.0</td>\n",
       "      <td>AEP-Ohio</td>\n",
       "      <td>DISTRIBUTION LINE</td>\n",
       "      <td>3419191</td>\n",
       "      <td>...</td>\n",
       "      <td>INSULATOR</td>\n",
       "      <td>2023.0</td>\n",
       "      <td>RECLOSER</td>\n",
       "      <td>OH</td>\n",
       "      <td>137</td>\n",
       "      <td>[108809753]</td>\n",
       "      <td>[190692806]</td>\n",
       "      <td>[108809753]</td>\n",
       "      <td>[2019-09-09 12:00:20]</td>\n",
       "      <td>[]</td>\n",
       "    </tr>\n",
       "    <tr>\n",
       "      <th>13171421</th>\n",
       "      <td>13171421</td>\n",
       "      <td>2101560534463</td>\n",
       "      <td>0011202</td>\n",
       "      <td>DL</td>\n",
       "      <td>3</td>\n",
       "      <td>2023-01-20 09:32:00</td>\n",
       "      <td>7946.0</td>\n",
       "      <td>AEP-Ohio</td>\n",
       "      <td>DISTRIBUTION LINE</td>\n",
       "      <td>3419191</td>\n",
       "      <td>...</td>\n",
       "      <td>INSULATOR</td>\n",
       "      <td>2023.0</td>\n",
       "      <td>RECLOSER</td>\n",
       "      <td>OH</td>\n",
       "      <td>137</td>\n",
       "      <td>[070514950]</td>\n",
       "      <td>[662025306]</td>\n",
       "      <td>[070514950]</td>\n",
       "      <td>[2021-02-12 12:00:20]</td>\n",
       "      <td>[]</td>\n",
       "    </tr>\n",
       "    <tr>\n",
       "      <th>...</th>\n",
       "      <td>...</td>\n",
       "      <td>...</td>\n",
       "      <td>...</td>\n",
       "      <td>...</td>\n",
       "      <td>...</td>\n",
       "      <td>...</td>\n",
       "      <td>...</td>\n",
       "      <td>...</td>\n",
       "      <td>...</td>\n",
       "      <td>...</td>\n",
       "      <td>...</td>\n",
       "      <td>...</td>\n",
       "      <td>...</td>\n",
       "      <td>...</td>\n",
       "      <td>...</td>\n",
       "      <td>...</td>\n",
       "      <td>...</td>\n",
       "      <td>...</td>\n",
       "      <td>...</td>\n",
       "      <td>...</td>\n",
       "      <td>...</td>\n",
       "    </tr>\n",
       "    <tr>\n",
       "      <th>13245016</th>\n",
       "      <td>13245016</td>\n",
       "      <td>1849446775962</td>\n",
       "      <td>0009801</td>\n",
       "      <td>DL</td>\n",
       "      <td>3</td>\n",
       "      <td>2023-03-16 16:05:00</td>\n",
       "      <td>3938.0</td>\n",
       "      <td>AEP-Ohio</td>\n",
       "      <td>DISTRIBUTION LINE</td>\n",
       "      <td>3640911</td>\n",
       "      <td>...</td>\n",
       "      <td>OH COND</td>\n",
       "      <td>2023.0</td>\n",
       "      <td>LINE FUSE</td>\n",
       "      <td>OH</td>\n",
       "      <td>22</td>\n",
       "      <td>[100186562]</td>\n",
       "      <td>[879867725]</td>\n",
       "      <td>[100186562]</td>\n",
       "      <td>[2018-05-16 12:00:20]</td>\n",
       "      <td>[]</td>\n",
       "    </tr>\n",
       "    <tr>\n",
       "      <th>13245016</th>\n",
       "      <td>13245016</td>\n",
       "      <td>1849683775954</td>\n",
       "      <td>0009801</td>\n",
       "      <td>DL</td>\n",
       "      <td>3</td>\n",
       "      <td>2023-03-16 16:05:00</td>\n",
       "      <td>3938.0</td>\n",
       "      <td>AEP-Ohio</td>\n",
       "      <td>DISTRIBUTION LINE</td>\n",
       "      <td>3640911</td>\n",
       "      <td>...</td>\n",
       "      <td>OH COND</td>\n",
       "      <td>2023.0</td>\n",
       "      <td>LINE FUSE</td>\n",
       "      <td>OH</td>\n",
       "      <td>22</td>\n",
       "      <td>[107976562, 108190662]</td>\n",
       "      <td>[676535287, 879867724]</td>\n",
       "      <td>[108190662, 107976562]</td>\n",
       "      <td>[2018-05-16 12:00:20, 2018-06-02 12:00:20]</td>\n",
       "      <td>[]</td>\n",
       "    </tr>\n",
       "    <tr>\n",
       "      <th>13245017</th>\n",
       "      <td>13245017</td>\n",
       "      <td>1869979737253</td>\n",
       "      <td>0002914</td>\n",
       "      <td>DL</td>\n",
       "      <td>3</td>\n",
       "      <td>2023-03-16 17:30:00</td>\n",
       "      <td>300.0</td>\n",
       "      <td>AEP-Ohio</td>\n",
       "      <td>DISTRIBUTION LINE</td>\n",
       "      <td>3640651</td>\n",
       "      <td>...</td>\n",
       "      <td>POLE</td>\n",
       "      <td>2023.0</td>\n",
       "      <td>XFMR FUSE</td>\n",
       "      <td>OH</td>\n",
       "      <td>2</td>\n",
       "      <td>[104487138]</td>\n",
       "      <td>[436405058]</td>\n",
       "      <td>[104487138]</td>\n",
       "      <td>[2016-05-13 12:00:20]</td>\n",
       "      <td>[]</td>\n",
       "    </tr>\n",
       "    <tr>\n",
       "      <th>13245017</th>\n",
       "      <td>13245017</td>\n",
       "      <td>1870450737309</td>\n",
       "      <td>0002914</td>\n",
       "      <td>DL</td>\n",
       "      <td>3</td>\n",
       "      <td>2023-03-16 17:30:00</td>\n",
       "      <td>300.0</td>\n",
       "      <td>AEP-Ohio</td>\n",
       "      <td>DISTRIBUTION LINE</td>\n",
       "      <td>3640651</td>\n",
       "      <td>...</td>\n",
       "      <td>POLE</td>\n",
       "      <td>2023.0</td>\n",
       "      <td>XFMR FUSE</td>\n",
       "      <td>OH</td>\n",
       "      <td>2</td>\n",
       "      <td>[100240092, 101830092, 103030092, 103340092, 1...</td>\n",
       "      <td>[640302265, 640292085, 761933589, 683580542, 6...</td>\n",
       "      <td>[103340092, 101830092, 104930092, 103030092, 1...</td>\n",
       "      <td>[2022-06-02 12:00:20, 2010-03-04 12:00:20, 201...</td>\n",
       "      <td>[]</td>\n",
       "    </tr>\n",
       "    <tr>\n",
       "      <th>13245037</th>\n",
       "      <td>13245037</td>\n",
       "      <td>1835002739133</td>\n",
       "      <td>0002605</td>\n",
       "      <td>DL</td>\n",
       "      <td>3</td>\n",
       "      <td>2023-03-16 18:34:00</td>\n",
       "      <td>928.0</td>\n",
       "      <td>AEP-Ohio</td>\n",
       "      <td>DISTRIBUTION LINE</td>\n",
       "      <td>3641671</td>\n",
       "      <td>...</td>\n",
       "      <td>CONN/CLAMP</td>\n",
       "      <td>2023.0</td>\n",
       "      <td>SEC OPEN</td>\n",
       "      <td>OH</td>\n",
       "      <td>8</td>\n",
       "      <td>[100057433, 102557433, 102713833, 104223833, 1...</td>\n",
       "      <td>[879867431, 879869867, 879868605, 879868606, 8...</td>\n",
       "      <td>[100057433, 102713833, 108913833, 107323833, 1...</td>\n",
       "      <td>[2018-05-18 12:00:20, 2018-05-19 12:00:20]</td>\n",
       "      <td>[]</td>\n",
       "    </tr>\n",
       "  </tbody>\n",
       "</table>\n",
       "<p>133 rows × 28 columns</p>\n",
       "</div>"
      ],
      "text/plain": [
       "          OUTG_REC_NB   trsf_pole_nb GIS_CRCT_NB MJR_CAUSE_CD  \\\n",
       "idx                                                             \n",
       "13171421     13171421  2100358533316     0011202           DL   \n",
       "13171421     13171421  2100626533669     0011202           DL   \n",
       "13171421     13171421  2100894534278     0011202           DL   \n",
       "13171421     13171421  2101179534635     0011202           DL   \n",
       "13171421     13171421  2101560534463     0011202           DL   \n",
       "...               ...            ...         ...          ...   \n",
       "13245016     13245016  1849446775962     0009801           DL   \n",
       "13245016     13245016  1849683775954     0009801           DL   \n",
       "13245017     13245017  1869979737253     0002914           DL   \n",
       "13245017     13245017  1870450737309     0002914           DL   \n",
       "13245037     13245037  1835002739133     0002605           DL   \n",
       "\n",
       "         OPERATING_UNIT_ID      DT_OFF_TS_FULL  CMI_NB OPRTG_UNT_NM  \\\n",
       "idx                                                                   \n",
       "13171421                 3 2023-01-20 09:32:00  7946.0     AEP-Ohio   \n",
       "13171421                 3 2023-01-20 09:32:00  7946.0     AEP-Ohio   \n",
       "13171421                 3 2023-01-20 09:32:00  7946.0     AEP-Ohio   \n",
       "13171421                 3 2023-01-20 09:32:00  7946.0     AEP-Ohio   \n",
       "13171421                 3 2023-01-20 09:32:00  7946.0     AEP-Ohio   \n",
       "...                    ...                 ...     ...          ...   \n",
       "13245016                 3 2023-03-16 16:05:00  3938.0     AEP-Ohio   \n",
       "13245016                 3 2023-03-16 16:05:00  3938.0     AEP-Ohio   \n",
       "13245017                 3 2023-03-16 17:30:00   300.0     AEP-Ohio   \n",
       "13245017                 3 2023-03-16 17:30:00   300.0     AEP-Ohio   \n",
       "13245037                 3 2023-03-16 18:34:00   928.0     AEP-Ohio   \n",
       "\n",
       "               MJR_CAUSE_NM OUTAGE_NB  ... SHORT_NM_EQP_TYP START_YEAR  \\\n",
       "idx                                    ...                               \n",
       "13171421  DISTRIBUTION LINE   3419191  ...        INSULATOR     2023.0   \n",
       "13171421  DISTRIBUTION LINE   3419191  ...        INSULATOR     2023.0   \n",
       "13171421  DISTRIBUTION LINE   3419191  ...        INSULATOR     2023.0   \n",
       "13171421  DISTRIBUTION LINE   3419191  ...        INSULATOR     2023.0   \n",
       "13171421  DISTRIBUTION LINE   3419191  ...        INSULATOR     2023.0   \n",
       "...                     ...       ...  ...              ...        ...   \n",
       "13245016  DISTRIBUTION LINE   3640911  ...          OH COND     2023.0   \n",
       "13245016  DISTRIBUTION LINE   3640911  ...          OH COND     2023.0   \n",
       "13245017  DISTRIBUTION LINE   3640651  ...             POLE     2023.0   \n",
       "13245017  DISTRIBUTION LINE   3640651  ...             POLE     2023.0   \n",
       "13245037  DISTRIBUTION LINE   3641671  ...       CONN/CLAMP     2023.0   \n",
       "\n",
       "         SHORT_NM_CLR_DEV STATE_ABBR_TX CI_NB  \\\n",
       "idx                                             \n",
       "13171421         RECLOSER            OH   137   \n",
       "13171421         RECLOSER            OH   137   \n",
       "13171421         RECLOSER            OH   137   \n",
       "13171421         RECLOSER            OH   137   \n",
       "13171421         RECLOSER            OH   137   \n",
       "...                   ...           ...   ...   \n",
       "13245016        LINE FUSE            OH    22   \n",
       "13245016        LINE FUSE            OH    22   \n",
       "13245017        XFMR FUSE            OH     2   \n",
       "13245017        XFMR FUSE            OH     2   \n",
       "13245037         SEC OPEN            OH     8   \n",
       "\n",
       "                                                PREMISE_NBS  \\\n",
       "idx                                                           \n",
       "13171421                             [104445576, 105198720]   \n",
       "13171421                                        [104581230]   \n",
       "13171421                                        [109575059]   \n",
       "13171421                                        [108809753]   \n",
       "13171421                                        [070514950]   \n",
       "...                                                     ...   \n",
       "13245016                                        [100186562]   \n",
       "13245016                             [107976562, 108190662]   \n",
       "13245017                                        [104487138]   \n",
       "13245017  [100240092, 101830092, 103030092, 103340092, 1...   \n",
       "13245037  [100057433, 102557433, 102713833, 104223833, 1...   \n",
       "\n",
       "                                           mfr_devc_ser_nbr  \\\n",
       "idx                                                           \n",
       "13171421                             [538440290, 659525774]   \n",
       "13171421                                        [659692280]   \n",
       "13171421                                        [659685882]   \n",
       "13171421                                        [190692806]   \n",
       "13171421                                        [662025306]   \n",
       "...                                                     ...   \n",
       "13245016                                        [879867725]   \n",
       "13245016                             [676535287, 879867724]   \n",
       "13245017                                        [436405058]   \n",
       "13245017  [640302265, 640292085, 761933589, 683580542, 6...   \n",
       "13245037  [879867431, 879869867, 879868605, 879868606, 8...   \n",
       "\n",
       "                                                    prem_nb  \\\n",
       "idx                                                           \n",
       "13171421                             [104445576, 105198720]   \n",
       "13171421                                        [104581230]   \n",
       "13171421                                        [109575059]   \n",
       "13171421                                        [108809753]   \n",
       "13171421                                        [070514950]   \n",
       "...                                                     ...   \n",
       "13245016                                        [100186562]   \n",
       "13245016                             [108190662, 107976562]   \n",
       "13245017                                        [104487138]   \n",
       "13245017  [103340092, 101830092, 104930092, 103030092, 1...   \n",
       "13245037  [100057433, 102713833, 108913833, 107323833, 1...   \n",
       "\n",
       "                                                    inst_ts  rmvl_ts  \n",
       "idx                                                                   \n",
       "13171421         [2018-09-19 12:00:20, 2014-04-10 12:00:20]       []  \n",
       "13171421                              [2014-04-10 12:00:20]       []  \n",
       "13171421                              [2014-04-14 12:00:20]       []  \n",
       "13171421                              [2019-09-09 12:00:20]       []  \n",
       "13171421                              [2021-02-12 12:00:20]       []  \n",
       "...                                                     ...      ...  \n",
       "13245016                              [2018-05-16 12:00:20]       []  \n",
       "13245016         [2018-05-16 12:00:20, 2018-06-02 12:00:20]       []  \n",
       "13245017                              [2016-05-13 12:00:20]       []  \n",
       "13245017  [2022-06-02 12:00:20, 2010-03-04 12:00:20, 201...       []  \n",
       "13245037         [2018-05-18 12:00:20, 2018-05-19 12:00:20]       []  \n",
       "\n",
       "[133 rows x 28 columns]"
      ]
     },
     "execution_count": 9,
     "metadata": {},
     "output_type": "execute_result"
    }
   ],
   "source": [
    "df_slim2"
   ]
  },
  {
   "cell_type": "code",
   "execution_count": null,
   "id": "a0b4a565",
   "metadata": {},
   "outputs": [],
   "source": []
  }
 ],
 "metadata": {
  "kernelspec": {
   "display_name": "Python 3 (ipykernel)",
   "language": "python",
   "name": "python3"
  },
  "language_info": {
   "codemirror_mode": {
    "name": "ipython",
    "version": 3
   },
   "file_extension": ".py",
   "mimetype": "text/x-python",
   "name": "python",
   "nbconvert_exporter": "python",
   "pygments_lexer": "ipython3",
   "version": "3.9.18"
  }
 },
 "nbformat": 4,
 "nbformat_minor": 5
}
