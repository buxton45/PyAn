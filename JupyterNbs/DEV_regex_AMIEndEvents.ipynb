{
 "cells": [
  {
   "cell_type": "code",
   "execution_count": 1,
   "id": "c5161966",
   "metadata": {},
   "outputs": [],
   "source": [
    "from importlib import reload\n",
    "#reload(Utilities)\n",
    "#reload(clm)\n",
    "# NOTE: To reload a class imported as, e.g., \n",
    "# from module import class\n",
    "# One must call:\n",
    "#   1. import module\n",
    "#   2. reload module\n",
    "#   3. from module import class\n",
    "\n",
    "import sys, os\n",
    "import re\n",
    "from pathlib import Path\n",
    "import json\n",
    "import pickle\n",
    "\n",
    "import pandas as pd\n",
    "import numpy as np\n",
    "from pandas.api.types import is_numeric_dtype, is_datetime64_dtype, is_timedelta64_dtype\n",
    "from scipy import stats\n",
    "import datetime\n",
    "import time\n",
    "from natsort import natsorted, ns, natsort_keygen\n",
    "from packaging import version\n",
    "import copy\n",
    "\n",
    "import itertools\n",
    "\n",
    "import pyodbc\n",
    "#---------------------------------------------------------------------\n",
    "import matplotlib as mpl\n",
    "import matplotlib.pyplot as plt\n",
    "import seaborn as sns\n",
    "from matplotlib.backends.backend_pdf import PdfPages\n",
    "import matplotlib.patches as mpatches\n",
    "from matplotlib.lines import Line2D\n",
    "import matplotlib.ticker as ticker\n",
    "from matplotlib import dates\n",
    "import matplotlib.colors as mcolors\n",
    "import matplotlib.cm as cm #e.g. for cmap=cm.jet\n",
    "#---------------------------------------------------------------------\n",
    "sys.path.insert(0, os.path.realpath('..'))\n",
    "import Utilities_config\n",
    "#-----\n",
    "import CommonLearningMethods as clm\n",
    "#-----\n",
    "from MeterPremise import MeterPremise\n",
    "#-----\n",
    "from AMI_SQL import AMI_SQL\n",
    "from AMINonVee_SQL import AMINonVee_SQL\n",
    "from AMIEndEvents_SQL import AMIEndEvents_SQL\n",
    "from AMIUsgInst_SQL import AMIUsgInst_SQL\n",
    "from DOVSOutages_SQL import DOVSOutages_SQL\n",
    "#-----\n",
    "from GenAn import GenAn\n",
    "from AMINonVee import AMINonVee\n",
    "from AMIEndEvents import AMIEndEvents\n",
    "from MECPODf import MECPODf\n",
    "from MECPOAn import MECPOAn\n",
    "from AMIUsgInst import AMIUsgInst\n",
    "from DOVSOutages import DOVSOutages\n",
    "#---------------------------------------------------------------------\n",
    "sys.path.insert(0, Utilities_config.get_sql_aids_dir())\n",
    "import Utilities_sql\n",
    "import TableInfos\n",
    "from TableInfos import TableInfo\n",
    "from SQLElement import SQLElement\n",
    "from SQLElementsCollection import SQLElementsCollection\n",
    "from SQLSelect import SQLSelectElement, SQLSelect\n",
    "from SQLFrom import SQLFrom\n",
    "from SQLWhere import SQLWhereElement, SQLWhere\n",
    "from SQLJoin import SQLJoin, SQLJoinCollection\n",
    "from SQLGroupBy import SQLGroupByElement, SQLGroupBy\n",
    "from SQLHaving import SQLHaving\n",
    "from SQLOrderBy import SQLOrderByElement, SQLOrderBy\n",
    "from SQLQuery import SQLQuery\n",
    "from SQLQueryGeneric import SQLQueryGeneric\n",
    "#---------------------------------------------------------------------\n",
    "#sys.path.insert(0, os.path.join(os.path.realpath('..'), 'Utilities'))\n",
    "sys.path.insert(0, Utilities_config.get_utilities_dir())\n",
    "import Utilities\n",
    "import Utilities_df\n",
    "from Utilities_df import DFConstructType\n",
    "import Utilities_dt\n",
    "import Plot_General\n",
    "import Plot_Box_sns\n",
    "import Plot_Hist\n",
    "import Plot_Bar\n",
    "import GrubbsTest\n",
    "import DataFrameSubsetSlicer\n",
    "from DataFrameSubsetSlicer import DataFrameSubsetSlicer as DFSlicer"
   ]
  },
  {
   "cell_type": "code",
   "execution_count": null,
   "id": "53cc295c",
   "metadata": {},
   "outputs": [],
   "source": []
  },
  {
   "cell_type": "code",
   "execution_count": 2,
   "id": "7add0d7f",
   "metadata": {},
   "outputs": [],
   "source": [
    "def build_sample_dfs(\n",
    "    distinct_ids,\n",
    "    save_dir, \n",
    "    years = [2020, 2021, 2022, 2023], \n",
    "    limit_per_month=10000, \n",
    "    conn_db=Utilities.get_athena_prod_aws_connection()\n",
    "):\n",
    "    r\"\"\"\n",
    "    \"\"\"\n",
    "    #-------------------------\n",
    "    general_sql = r\"\"\"\n",
    "    SELECT\n",
    "        EDE.issuertracking_id,\n",
    "        EDE.serialnumber,\n",
    "        EDE.enddeviceeventtypeid,\n",
    "        EDE.valuesinterval,\n",
    "        EDE.aep_premise_nb,\n",
    "        EDE.reason,\n",
    "        EDE.event_type,\n",
    "        EDE.aep_opco,\n",
    "        EDE.aep_event_dt\n",
    "    FROM meter_events.end_device_event EDE\n",
    "    WHERE EDE.aep_event_dt BETWEEN '{dt_0}' AND '{dt_1}'\n",
    "    AND   EDE.enddeviceeventtypeid = '{ede_typeid}'\n",
    "    LIMIT {limit}\n",
    "    \"\"\"\n",
    "    #-------------------------\n",
    "    if not os.path.exists(save_dir):\n",
    "        os.makedirs(save_dir)\n",
    "    #-------------------------\n",
    "    for i,distinct_id in enumerate(distinct_ids):\n",
    "        print(f\"distinct_id = {distinct_id} ({i+1}/{len(distinct_ids)})\")\n",
    "        dfs_for_id = []\n",
    "        save_name_for_id = 'df_'+distinct_id.replace('.', '_')+'.pkl'\n",
    "        #-----\n",
    "        for year in years:\n",
    "            # No harm in assuming all months have 31 days\n",
    "            for month in range(1,13):\n",
    "                dt_0 = \"{year}-{month:02d}-01\".format(year=year, month=month)\n",
    "                dt_1 = \"{year}-{month:02d}-31\".format(year=year, month=month)\n",
    "                sql_i = general_sql.format(\n",
    "                    dt_0=dt_0, \n",
    "                    dt_1=dt_1, \n",
    "                    ede_typeid=distinct_id, \n",
    "                    limit=limit_per_month\n",
    "                )\n",
    "                df_i = pd.read_sql_query(sql_i, conn_db)\n",
    "                dfs_for_id.append(df_i)\n",
    "        assert(len(dfs_for_id) == 12*len(years))\n",
    "        df_for_id = pd.concat(dfs_for_id)\n",
    "        df_for_id.to_pickle((os.path.join(save_dir, save_name_for_id)))"
   ]
  },
  {
   "cell_type": "code",
   "execution_count": null,
   "id": "5c40bcd0",
   "metadata": {},
   "outputs": [],
   "source": []
  },
  {
   "cell_type": "code",
   "execution_count": null,
   "id": "85d1f6f2",
   "metadata": {},
   "outputs": [],
   "source": []
  },
  {
   "cell_type": "code",
   "execution_count": 3,
   "id": "db47c429",
   "metadata": {},
   "outputs": [],
   "source": [
    "save_dir_base = r'C:\\Users\\s346557\\Documents\\LocalData\\dovs_and_end_events_data\\regex'\n",
    "build_samples = False"
   ]
  },
  {
   "cell_type": "code",
   "execution_count": 4,
   "id": "96bd974d",
   "metadata": {},
   "outputs": [],
   "source": [
    "# distinct_ids = AMIEndEvents.get_end_event_distinct_fields(\n",
    "#     '2020-01-01', \n",
    "#     '2023-03-21', \n",
    "#     fields=['enddeviceeventtypeid']\n",
    "# )\n",
    "# distinct_ids.to_pickle(os.path.join(save_dir_base, 'distinct_ids.pkl'))\n",
    "#-----\n",
    "distinct_ids = pd.read_pickle(os.path.join(save_dir_base, 'distinct_ids.pkl'))\n",
    "#-----\n",
    "distinct_ids = natsorted(distinct_ids['enddeviceeventtypeid'].tolist())"
   ]
  },
  {
   "cell_type": "code",
   "execution_count": 5,
   "id": "b7e2d7d9",
   "metadata": {},
   "outputs": [
    {
     "data": {
      "text/plain": [
       "[None,\n",
       " '3.2.0.28',\n",
       " '3.2.0.85',\n",
       " '3.2.22.28',\n",
       " '3.2.22.150',\n",
       " '3.7.19.242',\n",
       " '3.7.19.243',\n",
       " '3.7.22.4',\n",
       " '3.7.22.19',\n",
       " '3.8.0.215',\n",
       " '3.9.83.159',\n",
       " '3.11.63.161',\n",
       " '3.12.0.257',\n",
       " '3.12.17.257',\n",
       " '3.12.48.28',\n",
       " '3.12.48.219',\n",
       " '3.12.93.28',\n",
       " '3.12.93.219',\n",
       " '3.12.136.38',\n",
       " '3.12.136.85',\n",
       " '3.18.1.199',\n",
       " '3.18.1.220',\n",
       " '3.18.72.28',\n",
       " '3.18.72.79',\n",
       " '3.18.72.85',\n",
       " '3.18.85.28',\n",
       " '3.18.85.79',\n",
       " '3.18.85.85',\n",
       " '3.18.92.28',\n",
       " '3.18.92.79',\n",
       " '3.18.92.85',\n",
       " '3.21.1.79',\n",
       " '3.21.1.173',\n",
       " '3.21.3.28',\n",
       " '3.21.3.79',\n",
       " '3.21.17.28',\n",
       " '3.21.18.79',\n",
       " '3.21.38.223',\n",
       " '3.21.38.248',\n",
       " '3.21.43.223',\n",
       " '3.21.43.248',\n",
       " '3.21.67.28',\n",
       " '3.21.67.79',\n",
       " '3.21.82.28',\n",
       " '3.21.82.79',\n",
       " '3.22.12.243',\n",
       " '3.22.19.242',\n",
       " '3.23.17.139',\n",
       " '3.23.136.47',\n",
       " '3.23.136.85',\n",
       " '3.25.17.3',\n",
       " '3.26.0.47',\n",
       " '3.26.0.216',\n",
       " '3.26.17.185',\n",
       " '3.26.17.216',\n",
       " '3.26.38.37',\n",
       " '3.26.38.47',\n",
       " '3.26.38.73',\n",
       " '3.26.38.93',\n",
       " '3.26.38.150',\n",
       " '3.26.136.47',\n",
       " '3.26.136.66',\n",
       " '3.26.136.216',\n",
       " '3.31.1.143',\n",
       " '3.33.1.219',\n",
       " '3.33.1.257',\n",
       " '3.35.0.28',\n",
       " '3.35.0.40',\n",
       " '3.36.0.79',\n",
       " '3.36.1.29',\n",
       " '3.36.114.73',\n",
       " '3.36.114.159',\n",
       " '3.36.136.73',\n",
       " '3.36.136.79',\n",
       " '3.38.1.139']"
      ]
     },
     "execution_count": 5,
     "metadata": {},
     "output_type": "execute_result"
    }
   ],
   "source": [
    "distinct_ids"
   ]
  },
  {
   "cell_type": "code",
   "execution_count": null,
   "id": "1d140c18",
   "metadata": {},
   "outputs": [],
   "source": []
  },
  {
   "cell_type": "code",
   "execution_count": null,
   "id": "690528d2",
   "metadata": {},
   "outputs": [],
   "source": []
  },
  {
   "cell_type": "code",
   "execution_count": 6,
   "id": "4d4f6cd3",
   "metadata": {},
   "outputs": [],
   "source": [
    "if build_samples:\n",
    "    build_sample_dfs(\n",
    "        distinct_ids=distinct_ids,\n",
    "        save_dir=os.path.join(save_dir_base, 'sample_dfs'), \n",
    "        years = [2020, 2021, 2022, 2023], \n",
    "        limit_per_month=10000, \n",
    "        conn_db=Utilities.get_athena_prod_aws_connection()\n",
    "    )"
   ]
  },
  {
   "cell_type": "code",
   "execution_count": null,
   "id": "098fc1a6",
   "metadata": {},
   "outputs": [],
   "source": []
  },
  {
   "cell_type": "code",
   "execution_count": null,
   "id": "d826d39f",
   "metadata": {},
   "outputs": [],
   "source": []
  },
  {
   "cell_type": "code",
   "execution_count": 7,
   "id": "31ea31aa",
   "metadata": {},
   "outputs": [],
   "source": [
    "sample_df_paths = Utilities.find_all_paths(\n",
    "    base_dir=os.path.join(save_dir_base, 'sample_dfs'), \n",
    "    glob_pattern=r'df_*.pkl'\n",
    ")\n",
    "#-----\n",
    "ids_with_paths_dict = {}\n",
    "for path_i in sample_df_paths:\n",
    "    name_i = Path(path_i).name\n",
    "    name_i = re.sub(r'df_(.*).pkl', r'\\1', name_i)\n",
    "    name_i = name_i.replace('_', '.')\n",
    "    assert(name_i not in ids_with_paths_dict.keys())\n",
    "    ids_with_paths_dict[name_i] = path_i"
   ]
  },
  {
   "cell_type": "code",
   "execution_count": 8,
   "id": "79030164",
   "metadata": {},
   "outputs": [],
   "source": [
    "# natsorted(ids_with_paths_dict.keys())"
   ]
  },
  {
   "cell_type": "markdown",
   "id": "9ef08e32",
   "metadata": {},
   "source": [
    "# ---------------------------------------------------------------------------------------------------"
   ]
  },
  {
   "cell_type": "code",
   "execution_count": 9,
   "id": "d26dc3df",
   "metadata": {},
   "outputs": [],
   "source": [
    "dict_documented = {}"
   ]
  },
  {
   "cell_type": "markdown",
   "id": "00b03390",
   "metadata": {},
   "source": [
    "# ---------------------------------------------------------------------------------------------------"
   ]
  },
  {
   "cell_type": "markdown",
   "id": "4f32c699",
   "metadata": {},
   "source": [
    "# '3.2.0.28'"
   ]
  },
  {
   "cell_type": "code",
   "execution_count": null,
   "id": "9fbf8687",
   "metadata": {},
   "outputs": [],
   "source": [
    "df_3_2_0_28 = pd.read_pickle(ids_with_paths_dict['3.2.0.28'])\n",
    "#-----\n",
    "print(f\"shape[0] = {df_3_2_0_28.shape[0]}\")\n",
    "print(f\"# Unique reasons = {df_3_2_0_28['reason'].nunique()}\")\n",
    "print(df_3_2_0_28['reason'].unique())"
   ]
  },
  {
   "cell_type": "code",
   "execution_count": null,
   "id": "1e9b7005",
   "metadata": {},
   "outputs": [],
   "source": []
  },
  {
   "cell_type": "code",
   "execution_count": null,
   "id": "23e0856a",
   "metadata": {},
   "outputs": [],
   "source": []
  },
  {
   "cell_type": "code",
   "execution_count": null,
   "id": "a020218b",
   "metadata": {},
   "outputs": [],
   "source": [
    "dict_3_2_0_28 = {\n",
    "        # Examples\n",
    "        # 'Power Loss cleared for meter 00:13:50:05:ff:0d:dd:17'\n",
    "        '3.2.0.28':    [\n",
    "            #-----\n",
    "            (r'(Power Loss cleared)(?:(?:\\s*(?:for|on)?\\s*(?:meter)?)?\\s+(?:[0-9a-zA-Z]+)(?:\\:[0-9a-zA-Z]+)+\\.?).*', r'\\1')\n",
    "#             #-----\n",
    "#             # COULD ALSO DO\n",
    "#             (r'((?:\\s*occurred\\s*)?(?:\\s*(?:for|on)?\\s*(?:meter)?)?\\s+(?:[0-9a-zA-Z]+)(?:\\:[0-9a-zA-Z]+)+[\\s*\\.]*)', '')\n",
    "            #-----\n",
    "        ]\n",
    "}"
   ]
  },
  {
   "cell_type": "code",
   "execution_count": null,
   "id": "e68a1e01",
   "metadata": {},
   "outputs": [],
   "source": []
  },
  {
   "cell_type": "code",
   "execution_count": null,
   "id": "02ce50ac",
   "metadata": {},
   "outputs": [],
   "source": [
    "curated_reasons = []\n",
    "for reason_i in df_3_2_0_28['reason'].unique().tolist():\n",
    "    curated_reason_i = AMIEndEvents.reduce_end_event_reason(\n",
    "        reason=reason_i, \n",
    "        patterns=dict_3_2_0_28['3.2.0.28']\n",
    "    )\n",
    "    curated_reasons.append(curated_reason_i)\n",
    "curated_reasons = list(set(curated_reasons))\n",
    "print(*curated_reasons, sep='\\n')"
   ]
  },
  {
   "cell_type": "code",
   "execution_count": null,
   "id": "cb48d4ec",
   "metadata": {},
   "outputs": [],
   "source": [
    "assert(len(set(dict_3_2_0_28.keys()).intersection(set(dict_documented.keys())))==0)\n",
    "dict_documented = {**dict_documented, **dict_3_2_0_28}"
   ]
  },
  {
   "cell_type": "code",
   "execution_count": null,
   "id": "185a307f",
   "metadata": {},
   "outputs": [],
   "source": []
  },
  {
   "cell_type": "code",
   "execution_count": null,
   "id": "a65a5877",
   "metadata": {},
   "outputs": [],
   "source": []
  },
  {
   "cell_type": "markdown",
   "id": "e7935c4a",
   "metadata": {},
   "source": [
    "# '3.2.0.85'"
   ]
  },
  {
   "cell_type": "code",
   "execution_count": null,
   "id": "0e5ff67b",
   "metadata": {},
   "outputs": [],
   "source": [
    "df_3_2_0_85 = pd.read_pickle(ids_with_paths_dict['3.2.0.85'])\n",
    "#-----\n",
    "print(f\"shape[0] = {df_3_2_0_85.shape[0]}\")\n",
    "print(f\"# Unique reasons = {df_3_2_0_85['reason'].nunique()}\")\n",
    "print(df_3_2_0_85['reason'].unique())"
   ]
  },
  {
   "cell_type": "code",
   "execution_count": null,
   "id": "7653ea5f",
   "metadata": {},
   "outputs": [],
   "source": [
    "dict_3_2_0_85 = {\n",
    "        # Examples\n",
    "        # 'Power loss detected on meter 00:13:50:05:ff:0d:dd:17'\n",
    "        '3.2.0.85':    [\n",
    "            #-----\n",
    "            (r'(Power loss detected)(?:(?:\\s*(?:for|on)?\\s*(?:meter)?)?\\s+(?:[0-9a-zA-Z]+)(?:\\:[0-9a-zA-Z]+)+\\.?).*', r'\\1')\n",
    "            #-----\n",
    "#             # COULD ALSO DO\n",
    "#             (r'((?:\\s*occurred\\s*)?(?:\\s*(?:for|on)?\\s*(?:meter)?)?\\s+(?:[0-9a-zA-Z]+)(?:\\:[0-9a-zA-Z]+)+[\\s*\\.]*)', '')\n",
    "            #-----\n",
    "        ]\n",
    "}"
   ]
  },
  {
   "cell_type": "code",
   "execution_count": null,
   "id": "99121c2c",
   "metadata": {},
   "outputs": [],
   "source": [
    "curated_reasons = []\n",
    "for reason_i in df_3_2_0_85['reason'].unique().tolist():\n",
    "    curated_reason_i = AMIEndEvents.reduce_end_event_reason(\n",
    "        reason=reason_i, \n",
    "        patterns=dict_3_2_0_85['3.2.0.85']\n",
    "    )\n",
    "    curated_reasons.append(curated_reason_i)\n",
    "curated_reasons = list(set(curated_reasons))\n",
    "print(*curated_reasons, sep='\\n')"
   ]
  },
  {
   "cell_type": "code",
   "execution_count": null,
   "id": "02240022",
   "metadata": {},
   "outputs": [],
   "source": [
    "assert(len(set(dict_3_2_0_85.keys()).intersection(set(dict_documented.keys())))==0)\n",
    "dict_documented = {**dict_documented, **dict_3_2_0_85}"
   ]
  },
  {
   "cell_type": "code",
   "execution_count": null,
   "id": "9db11f4d",
   "metadata": {},
   "outputs": [],
   "source": []
  },
  {
   "cell_type": "markdown",
   "id": "5f4fe1a8",
   "metadata": {},
   "source": [
    "# '3.2.22.28'"
   ]
  },
  {
   "cell_type": "code",
   "execution_count": null,
   "id": "c96527f6",
   "metadata": {},
   "outputs": [],
   "source": [
    "df_3_2_22_28 = pd.read_pickle(ids_with_paths_dict['3.2.22.28'])\n",
    "#-----\n",
    "print(f\"shape[0] = {df_3_2_22_28.shape[0]}\")\n",
    "print(f\"# Unique reasons = {df_3_2_22_28['reason'].nunique()}\")\n",
    "print(df_3_2_22_28['reason'].unique())"
   ]
  },
  {
   "cell_type": "code",
   "execution_count": null,
   "id": "69042d6d",
   "metadata": {},
   "outputs": [],
   "source": [
    "dict_3_2_22_28 = {\n",
    "        # Examples\n",
    "        # 'Low Battery cleared for meter 00:13:50:02:00:0a:9e:1e.'\n",
    "        '3.2.22.28':    [\n",
    "            #-----\n",
    "            (r'(Low Battery cleared)(?:(?:\\s*(?:for|on)?\\s*(?:meter)?)?\\s+(?:[0-9a-zA-Z]+)(?:\\:[0-9a-zA-Z]+)+\\.?).*', r'\\1')\n",
    "            #-----\n",
    "#             # COULD ALSO DO\n",
    "#             (r'((?:\\s*occurred\\s*)?(?:\\s*(?:for|on)?\\s*(?:meter)?)?\\s+(?:[0-9a-zA-Z]+)(?:\\:[0-9a-zA-Z]+)+[\\s*\\.]*)', '')\n",
    "            #-----\n",
    "        ]\n",
    "}"
   ]
  },
  {
   "cell_type": "code",
   "execution_count": null,
   "id": "5974f707",
   "metadata": {},
   "outputs": [],
   "source": [
    "curated_reasons = []\n",
    "for reason_i in df_3_2_22_28['reason'].unique().tolist():\n",
    "    curated_reason_i = AMIEndEvents.reduce_end_event_reason(\n",
    "        reason=reason_i, \n",
    "        patterns=dict_3_2_22_28['3.2.22.28']\n",
    "    )\n",
    "    curated_reasons.append(curated_reason_i)\n",
    "curated_reasons = list(set(curated_reasons))\n",
    "print(*curated_reasons, sep='\\n')"
   ]
  },
  {
   "cell_type": "code",
   "execution_count": null,
   "id": "0419dffa",
   "metadata": {},
   "outputs": [],
   "source": [
    "assert(len(set(dict_3_2_22_28.keys()).intersection(set(dict_documented.keys())))==0)\n",
    "dict_documented = {**dict_documented, **dict_3_2_22_28}"
   ]
  },
  {
   "cell_type": "code",
   "execution_count": null,
   "id": "b73c56b8",
   "metadata": {},
   "outputs": [],
   "source": []
  },
  {
   "cell_type": "markdown",
   "id": "2b47d3bd",
   "metadata": {},
   "source": [
    "# '3.2.22.150'"
   ]
  },
  {
   "cell_type": "code",
   "execution_count": 47,
   "id": "78e7e62d",
   "metadata": {},
   "outputs": [
    {
     "name": "stdout",
     "output_type": "stream",
     "text": [
      "shape[0] = 92\n",
      "# Unique reasons = 48\n",
      "['Low Battery (C1219 Table 3) occurred for meter 00:13:50:02:00:0a:9e:1e.'\n",
      " 'Low Battery (C1219 Table 3) occurred for meter 00:13:50:05:ff:02:72:01.'\n",
      " 'Low Battery (C1219 Table 3) occurred for meter 00:13:50:02:00:0a:a2:c6.'\n",
      " 'Low Battery (C1219 Table 3) occurred for meter 00:13:50:05:ff:06:67:48.'\n",
      " 'Low Battery (C1219 Table 3) occurred for meter 00:13:50:05:ff:1b:6d:70.'\n",
      " 'Low Battery (C1219 Table 3) occurred for meter 00:13:50:02:00:0a:a8:e3.'\n",
      " 'Low Battery (C1219 Table 3) occurred for meter 00:13:50:02:00:0a:a8:a6.'\n",
      " 'Low Battery (C1219 Table 3) occurred for meter 00:13:50:01:01:5a:59:20.'\n",
      " 'Low Battery (C1219 Table 3) occurred for meter 00:13:50:01:01:60:ed:1e.'\n",
      " 'Low Battery (C1219 Table 3) occurred for meter 00:13:50:05:ff:1f:f9:bf.'\n",
      " 'Low Battery (C1219 Table 3) occurred for meter 00:13:50:05:ff:1e:61:86.'\n",
      " 'Low Battery (C1219 Table 3) occurred for meter 00:13:50:02:00:0a:bd:72.'\n",
      " 'Low Battery (C1219 Table 3) occurred for meter 00:13:50:02:00:0b:36:e4.'\n",
      " 'Low Battery (C1219 Table 3) occurred for meter 00:13:50:01:01:60:f0:f1.'\n",
      " 'Low Battery (C1219 Table 3) occurred for meter 00:13:50:ff:fe:03:4f:11.'\n",
      " 'Low Battery (C1219 Table 3) occurred for meter 00:13:50:05:ff:0b:98:cb.'\n",
      " 'Low Battery (C1219 Table 3) occurred for meter 00:13:50:01:01:5a:58:3f.'\n",
      " 'Low Battery (C1219 Table 3) occurred for meter 00:13:50:05:ff:2e:2b:b2.'\n",
      " 'Low Battery (C1219 Table 3) occurred for meter 00:13:50:05:ff:0e:ff:e6.'\n",
      " 'Low Battery (C1219 Table 3) occurred for meter 00:13:50:05:ff:1f:fd:1f.'\n",
      " 'Low Battery (C1219 Table 3) occurred for meter 00:13:50:01:01:7a:fd:18.'\n",
      " 'Low Battery (C1219 Table 3) occurred for meter 00:13:50:01:01:60:ef:0e.'\n",
      " 'Low Battery (C1219 Table 3) occurred for meter 00:13:50:05:ff:1f:fc:66.'\n",
      " 'Low Battery (C1219 Table 3) occurred for meter 00:13:50:01:01:38:20:88.'\n",
      " 'Low Battery (C1219 Table 3) occurred for meter 00:13:50:02:00:0b:26:3f.'\n",
      " 'Low Battery (C1219 Table 3) occurred for meter 00:13:50:01:01:7a:f9:68.'\n",
      " 'Low Battery (C1219 Table 3) occurred for meter 00:13:50:01:01:7a:fe:34.'\n",
      " 'Low Battery (C1219 Table 3) occurred for meter 00:13:50:05:ff:0b:98:7c.'\n",
      " 'Low Battery (C1219 Table 3) occurred for meter 00:13:50:01:01:7a:fc:6f.'\n",
      " 'Low Battery (C1219 Table 3) occurred for meter 00:13:50:02:00:0a:a4:d5.'\n",
      " 'Low Battery (C1219 Table 3) occurred for meter 00:13:50:05:ff:0d:dd:17.'\n",
      " 'Low Battery (C1219 Table 3) occurred for meter 00:13:50:03:ff:06:26:57.'\n",
      " 'Low Battery (C1219 Table 3) occurred for meter 00:13:50:01:01:78:fd:7d.'\n",
      " 'Low Battery (C1219 Table 3) occurred for meter 00:13:50:03:ff:02:27:4d.'\n",
      " 'Low Battery (C1219 Table 3) occurred for meter 00:13:50:03:ff:02:26:ec.'\n",
      " 'Low Battery (C1219 Table 3) occurred for meter 00:13:50:05:ff:39:21:e3.'\n",
      " 'Low Battery (C1219 Table 3) occurred for meter 00:13:50:ff:fe:03:4f:bc.'\n",
      " 'Low Battery (C1219 Table 3) occurred for meter 00:13:50:01:01:78:fd:f1.'\n",
      " 'Low Battery (C1219 Table 3) occurred for meter 00:13:50:01:01:7a:fe:2a.'\n",
      " 'Low Battery (C1219 Table 3) occurred for meter 00:13:50:02:00:0b:3b:82.'\n",
      " 'Low Battery (C1219 Table 3) occurred for meter 00:13:50:ff:fe:03:4e:d9.'\n",
      " 'Low Battery (C1219 Table 3) occurred for meter 00:13:50:ff:fe:03:4d:10.'\n",
      " 'Low Battery (C1219 Table 3) occurred for meter 00:13:50:05:ff:36:7c:f8.'\n",
      " 'Low Battery (C1219 Table 3) occurred for meter 00:13:50:01:01:60:ef:0a.'\n",
      " 'Low Battery (C1219 Table 3) occurred for meter 00:13:50:ff:fe:03:4f:23.'\n",
      " 'Low Battery (C1219 Table 3) occurred for meter 00:13:50:05:ff:2b:47:c4.'\n",
      " 'Low Battery (C1219 Table 3) occurred for meter 00:13:50:02:00:0a:9a:dd.'\n",
      " 'Low Battery (C1219 Table 3) occurred for meter 00:13:50:05:ff:38:2f:3b.']\n"
     ]
    }
   ],
   "source": [
    "df_3_2_22_150 = pd.read_pickle(ids_with_paths_dict['3.2.22.150'])\n",
    "#-----\n",
    "print(f\"shape[0] = {df_3_2_22_150.shape[0]}\")\n",
    "print(f\"# Unique reasons = {df_3_2_22_150['reason'].nunique()}\")\n",
    "print(df_3_2_22_150['reason'].unique())"
   ]
  },
  {
   "cell_type": "code",
   "execution_count": 51,
   "id": "482dca3b",
   "metadata": {},
   "outputs": [],
   "source": [
    "dict_3_2_22_150 = {\n",
    "        # Examples\n",
    "        # 'Low Battery (C1219 Table 3) occurred for meter 00:13:50:02:00:0a:9e:1e.'\n",
    "        '3.2.22.150':    [\n",
    "            #-----\n",
    "#             (r'(Low Battery\\s*(?:\\(.*\\))?)\\s*(?:(?:\\s*occurred\\s*)?(?:\\s*(?:for|on)?\\s*(?:meter)?)?\\s+(?:[0-9a-zA-Z]+)(?:\\:[0-9a-zA-Z]+)+\\.?)', r'\\1')\n",
    "            #-----\n",
    "#             # COULD ALSO DO\n",
    "            (r'((?:\\s*occurred\\s*)?(?:\\s*(?:for|on)?\\s*(?:meter)?)?\\s+(?:[0-9a-zA-Z]+)(?:\\:[0-9a-zA-Z]+)+[\\s*\\.]*)', '')\n",
    "            #-----\n",
    "        ]\n",
    "}"
   ]
  },
  {
   "cell_type": "code",
   "execution_count": null,
   "id": "9ea9c3af",
   "metadata": {},
   "outputs": [],
   "source": []
  },
  {
   "cell_type": "code",
   "execution_count": 52,
   "id": "87181917",
   "metadata": {},
   "outputs": [
    {
     "name": "stdout",
     "output_type": "stream",
     "text": [
      "Low Battery (C1219 Table 3)\n"
     ]
    }
   ],
   "source": [
    "curated_reasons = []\n",
    "for reason_i in df_3_2_22_150['reason'].unique().tolist():\n",
    "    curated_reason_i = AMIEndEvents.reduce_end_event_reason(\n",
    "        reason=reason_i, \n",
    "        patterns=dict_3_2_22_150['3.2.22.150']\n",
    "    )\n",
    "    curated_reasons.append(curated_reason_i)\n",
    "curated_reasons = list(set(curated_reasons))\n",
    "print(*curated_reasons, sep='\\n')"
   ]
  },
  {
   "cell_type": "code",
   "execution_count": 53,
   "id": "c46c3cb4",
   "metadata": {},
   "outputs": [
    {
     "data": {
      "text/plain": [
       "['Low Battery (C1219 Table 3)']"
      ]
     },
     "execution_count": 53,
     "metadata": {},
     "output_type": "execute_result"
    }
   ],
   "source": [
    "natsorted(curated_reasons)"
   ]
  },
  {
   "cell_type": "code",
   "execution_count": null,
   "id": "f2c1b152",
   "metadata": {},
   "outputs": [],
   "source": []
  },
  {
   "cell_type": "code",
   "execution_count": null,
   "id": "4733847c",
   "metadata": {},
   "outputs": [],
   "source": [
    "assert(len(set(dict_3_2_22_150.keys()).intersection(set(dict_documented.keys())))==0)\n",
    "dict_documented = {**dict_documented, **dict_3_2_22_150}"
   ]
  },
  {
   "cell_type": "code",
   "execution_count": null,
   "id": "891f8957",
   "metadata": {},
   "outputs": [],
   "source": []
  },
  {
   "cell_type": "code",
   "execution_count": null,
   "id": "2e5694b3",
   "metadata": {},
   "outputs": [],
   "source": []
  },
  {
   "cell_type": "markdown",
   "id": "03cacd01",
   "metadata": {},
   "source": [
    "# '3.7.19.242'"
   ]
  },
  {
   "cell_type": "code",
   "execution_count": null,
   "id": "ba8e732c",
   "metadata": {},
   "outputs": [],
   "source": [
    "df_3_7_19_242 = pd.read_pickle(ids_with_paths_dict['3.7.19.242'])\n",
    "#-----\n",
    "print(f\"shape[0] = {df_3_7_19_242.shape[0]}\")\n",
    "print(f\"# Unique reasons = {df_3_7_19_242['reason'].nunique()}\")\n",
    "print(df_3_7_19_242['reason'].unique())"
   ]
  },
  {
   "cell_type": "code",
   "execution_count": null,
   "id": "d7c05c3d",
   "metadata": {},
   "outputs": [],
   "source": [
    "dict_3_7_19_242 = {\n",
    "        # Examples\n",
    "        # 'Test Mode Started occurred for meter 00:13:50:05:ff:1d:2d:4a.'\n",
    "        # 'Meter event Test Mode Started  Time event occurred on meter = 01/20/2020 12:56:50  Sequence number = 56  User id = 1  Event argument = 00-00'\n",
    "        # SEEMS RARE, BUT HAVE SEEN:\n",
    "        # 'Meter is currently in test mode.'\n",
    "        '3.7.19.242':    [\n",
    "            #-----\n",
    "            (r'(Test Mode Started)(?:(?:\\s*occurred\\s*)?(?:\\s*(?:for|on)?\\s*(?:meter)?)?\\s+(?:[0-9a-zA-Z]+)(?:\\:[0-9a-zA-Z]+)+\\.?)', r'\\1'), \n",
    "            #-----\n",
    "            (r'(Meter event Test Mode Started)\\s*Time event occurred on meter = .* Sequence number = .* User id = .*  Event argument = .*', r'\\1'), \n",
    "            #-----\n",
    "            (r'(Meter event Test Mode Started).*', 'Test Mode Started'), \n",
    "            #-----\n",
    "            (r'(Meter is currently in test mode)[\\s\\.]*', r'\\1')\n",
    "            #-----\n",
    "        ]\n",
    "}"
   ]
  },
  {
   "cell_type": "code",
   "execution_count": null,
   "id": "77cbf552",
   "metadata": {},
   "outputs": [],
   "source": [
    "curated_reasons = []\n",
    "for reason_i in df_3_7_19_242['reason'].unique().tolist():\n",
    "    curated_reason_i = AMIEndEvents.reduce_end_event_reason(\n",
    "        reason=reason_i, \n",
    "        patterns=dict_3_7_19_242['3.7.19.242']\n",
    "    )\n",
    "    curated_reasons.append(curated_reason_i)\n",
    "curated_reasons = list(set(curated_reasons))\n",
    "print(*curated_reasons, sep='\\n')"
   ]
  },
  {
   "cell_type": "code",
   "execution_count": null,
   "id": "408e81ce",
   "metadata": {},
   "outputs": [],
   "source": [
    "assert(len(set(dict_3_7_19_242.keys()).intersection(set(dict_documented.keys())))==0)\n",
    "dict_documented = {**dict_documented, **dict_3_7_19_242}"
   ]
  },
  {
   "cell_type": "code",
   "execution_count": null,
   "id": "375fe428",
   "metadata": {},
   "outputs": [],
   "source": []
  },
  {
   "cell_type": "code",
   "execution_count": null,
   "id": "89f38c72",
   "metadata": {},
   "outputs": [],
   "source": []
  },
  {
   "cell_type": "markdown",
   "id": "f00f9892",
   "metadata": {},
   "source": [
    "# '3.7.19.243'"
   ]
  },
  {
   "cell_type": "code",
   "execution_count": null,
   "id": "c31f98a8",
   "metadata": {},
   "outputs": [],
   "source": [
    "df_3_7_19_243 = pd.read_pickle(ids_with_paths_dict['3.7.19.243'])\n",
    "#-----\n",
    "print(f\"shape[0] = {df_3_7_19_243.shape[0]}\")\n",
    "print(f\"# Unique reasons = {df_3_7_19_243['reason'].nunique()}\")\n",
    "print(df_3_7_19_243['reason'].unique())"
   ]
  },
  {
   "cell_type": "code",
   "execution_count": null,
   "id": "fcd46dd4",
   "metadata": {},
   "outputs": [],
   "source": [
    "dict_3_7_19_243 = {\n",
    "        # Examples\n",
    "        # 'Test Mode Stopped occurred for meter 00:13:50:03:ff:06:20:96.'\n",
    "        # 'Meter event Test Mode Stopped  Time event occurred on meter = 01/02/2020 08:25:04  Sequence number = 573  User id = 1  Event argument = 00-00'\n",
    "        '3.7.19.243':    [\n",
    "            #-----\n",
    "            (r'(Test Mode Stopped)(?:(?:\\s*occurred\\s*)?(?:\\s*(?:for|on)?\\s*(?:meter)?)?\\s+(?:[0-9a-zA-Z]+)(?:\\:[0-9a-zA-Z]+)+\\.?)', r'\\1'), \n",
    "            #-----\n",
    "            (r'(Meter event Test Mode Stopped)\\s*Time event occurred on meter = .* Sequence number = .* User id = .*  Event argument = .*', r'\\1'), \n",
    "            #-----\n",
    "            (r'(Meter event Test Mode Stopped).*', 'Test Mode Stopped')\n",
    "            #-----\n",
    "        ]\n",
    "}"
   ]
  },
  {
   "cell_type": "code",
   "execution_count": null,
   "id": "3df2d820",
   "metadata": {},
   "outputs": [],
   "source": [
    "curated_reasons = []\n",
    "for reason_i in df_3_7_19_243['reason'].unique().tolist():\n",
    "    curated_reason_i = AMIEndEvents.reduce_end_event_reason(\n",
    "        reason=reason_i, \n",
    "        patterns=dict_3_7_19_243['3.7.19.243']\n",
    "    )\n",
    "    curated_reasons.append(curated_reason_i)\n",
    "curated_reasons = list(set(curated_reasons))\n",
    "print(*curated_reasons, sep='\\n')"
   ]
  },
  {
   "cell_type": "code",
   "execution_count": null,
   "id": "1ebd2421",
   "metadata": {},
   "outputs": [],
   "source": [
    "assert(len(set(dict_3_7_19_243.keys()).intersection(set(dict_documented.keys())))==0)\n",
    "dict_documented = {**dict_documented, **dict_3_7_19_243}"
   ]
  },
  {
   "cell_type": "code",
   "execution_count": null,
   "id": "b08471fb",
   "metadata": {},
   "outputs": [],
   "source": []
  },
  {
   "cell_type": "code",
   "execution_count": null,
   "id": "e6a4f2c0",
   "metadata": {},
   "outputs": [],
   "source": []
  },
  {
   "cell_type": "code",
   "execution_count": null,
   "id": "2cfc7ca8",
   "metadata": {},
   "outputs": [],
   "source": []
  },
  {
   "cell_type": "markdown",
   "id": "d886d2d1",
   "metadata": {},
   "source": [
    "# '3.7.22.4'"
   ]
  },
  {
   "cell_type": "code",
   "execution_count": null,
   "id": "61750d5a",
   "metadata": {},
   "outputs": [],
   "source": [
    "df_3_7_22_4 = pd.read_pickle(ids_with_paths_dict['3.7.22.4'])\n",
    "#-----\n",
    "print(f\"shape[0] = {df_3_7_22_4.shape[0]}\")\n",
    "print(f\"# Unique reasons = {df_3_7_22_4['reason'].nunique()}\")\n",
    "print(df_3_7_22_4['reason'].unique())"
   ]
  },
  {
   "cell_type": "code",
   "execution_count": null,
   "id": "69c58372",
   "metadata": {},
   "outputs": [],
   "source": [
    "dict_3_7_22_4 = {\n",
    "        # Examples\n",
    "        # 'NIC operating on backup battery: 00:13:50:ff:fe:70:96:ac, Reboot Count: 6, NIC timestamp: 2021-01-14T10:17:54.000-05:00, Received timestamp: 2021-01-14T10:17:55.728-05:00'\n",
    "        '3.7.22.4':    [\n",
    "            #-----\n",
    "            (r'(NIC operating on backup battery)\\:(\\s+(?:[0-9a-zA-Z]+)(?:\\:[0-9a-zA-Z]+)+\\.?), Reboot Count: .*, NIC timestamp: .*, Received timestamp: .*', r'\\1'), \n",
    "            #-----\n",
    "        ]\n",
    "}"
   ]
  },
  {
   "cell_type": "code",
   "execution_count": null,
   "id": "6372b848",
   "metadata": {},
   "outputs": [],
   "source": [
    "curated_reasons = []\n",
    "for reason_i in df_3_7_22_4['reason'].unique().tolist():\n",
    "    curated_reason_i = AMIEndEvents.reduce_end_event_reason(\n",
    "        reason=reason_i, \n",
    "        patterns=dict_3_7_22_4['3.7.22.4']\n",
    "    )\n",
    "    curated_reasons.append(curated_reason_i)\n",
    "curated_reasons = list(set(curated_reasons))\n",
    "print(*curated_reasons, sep='\\n')"
   ]
  },
  {
   "cell_type": "code",
   "execution_count": null,
   "id": "3cfbde04",
   "metadata": {},
   "outputs": [],
   "source": [
    "assert(len(set(dict_3_7_22_4.keys()).intersection(set(dict_documented.keys())))==0)\n",
    "dict_documented = {**dict_documented, **dict_3_7_22_4}"
   ]
  },
  {
   "cell_type": "code",
   "execution_count": null,
   "id": "1ff5d219",
   "metadata": {},
   "outputs": [],
   "source": []
  },
  {
   "cell_type": "code",
   "execution_count": null,
   "id": "a7235c22",
   "metadata": {},
   "outputs": [],
   "source": []
  },
  {
   "cell_type": "code",
   "execution_count": null,
   "id": "c6d0004e",
   "metadata": {},
   "outputs": [],
   "source": []
  },
  {
   "cell_type": "markdown",
   "id": "475a514d",
   "metadata": {},
   "source": [
    "# '3.7.22.19'"
   ]
  },
  {
   "cell_type": "code",
   "execution_count": null,
   "id": "97eab862",
   "metadata": {},
   "outputs": [],
   "source": [
    "df_3_7_22_19 = pd.read_pickle(ids_with_paths_dict['3.7.22.19'])\n",
    "#-----\n",
    "print(f\"shape[0] = {df_3_7_22_19.shape[0]}\")\n",
    "print(f\"# Unique reasons = {df_3_7_22_19['reason'].nunique()}\")\n",
    "print(df_3_7_22_19['reason'].unique())"
   ]
  },
  {
   "cell_type": "code",
   "execution_count": null,
   "id": "ae4bd74b",
   "metadata": {},
   "outputs": [],
   "source": [
    "dict_3_7_22_19 = {\n",
    "        # Examples:\n",
    "        # All seem to be: 'NIC backup battery inactive'\n",
    "        # So, don't need to run any regex, but should still so no flags raised\n",
    "        '3.7.22.19':    [\n",
    "            #-----\n",
    "            (r'(NIC backup battery inactive).*', r'\\1')\n",
    "            #-----\n",
    "        ]\n",
    "}"
   ]
  },
  {
   "cell_type": "code",
   "execution_count": null,
   "id": "5e2f79eb",
   "metadata": {},
   "outputs": [],
   "source": [
    "curated_reasons = []\n",
    "for reason_i in df_3_7_22_19['reason'].unique().tolist():\n",
    "    curated_reason_i = AMIEndEvents.reduce_end_event_reason(\n",
    "        reason=reason_i, \n",
    "        patterns=dict_3_7_22_19['3.7.22.19']\n",
    "    )\n",
    "    curated_reasons.append(curated_reason_i)\n",
    "curated_reasons = list(set(curated_reasons))\n",
    "print(*curated_reasons, sep='\\n')"
   ]
  },
  {
   "cell_type": "code",
   "execution_count": null,
   "id": "c36cac1c",
   "metadata": {},
   "outputs": [],
   "source": [
    "assert(len(set(dict_3_7_22_19.keys()).intersection(set(dict_documented.keys())))==0)\n",
    "dict_documented = {**dict_documented, **dict_3_7_22_19}"
   ]
  },
  {
   "cell_type": "code",
   "execution_count": null,
   "id": "5ef78157",
   "metadata": {},
   "outputs": [],
   "source": []
  },
  {
   "cell_type": "code",
   "execution_count": null,
   "id": "569be453",
   "metadata": {},
   "outputs": [],
   "source": []
  },
  {
   "cell_type": "code",
   "execution_count": null,
   "id": "1d61ff02",
   "metadata": {},
   "outputs": [],
   "source": []
  },
  {
   "cell_type": "markdown",
   "id": "ff4bd360",
   "metadata": {},
   "source": [
    "# '3.8.0.215'"
   ]
  },
  {
   "cell_type": "code",
   "execution_count": null,
   "id": "2a79a357",
   "metadata": {},
   "outputs": [],
   "source": [
    "df_3_8_0_215 = pd.read_pickle(ids_with_paths_dict['3.8.0.215'])\n",
    "#-----\n",
    "print(f\"shape[0] = {df_3_8_0_215.shape[0]}\")\n",
    "print(f\"# Unique reasons = {df_3_8_0_215['reason'].nunique()}\")\n",
    "print(df_3_8_0_215['reason'].unique())"
   ]
  },
  {
   "cell_type": "code",
   "execution_count": null,
   "id": "b3c98baa",
   "metadata": {},
   "outputs": [],
   "source": [
    "dict_3_8_0_215 = {\n",
    "        # Examples\n",
    "        # 'Demand Reset occurred for meter 00:13:50:05:ff:18:b3:c1.'\n",
    "        '3.8.0.215':    [\n",
    "            #-----\n",
    "            (r'(Demand Reset)(?:(?:\\s*occurred\\s*)?(?:\\s*(?:for|on)?\\s*(?:meter)?)?\\s+(?:[0-9a-zA-Z]+)(?:\\:[0-9a-zA-Z]+)+\\.?)', r'\\1') \n",
    "            #-----\n",
    "#             # COULD ALSO DO\n",
    "#             (r'((?:\\s*occurred\\s*)?(?:\\s*(?:for|on)?\\s*(?:meter)?)?\\s+(?:[0-9a-zA-Z]+)(?:\\:[0-9a-zA-Z]+)+[\\s*\\.]*)', '')\n",
    "            #-----\n",
    "        ]\n",
    "}"
   ]
  },
  {
   "cell_type": "code",
   "execution_count": null,
   "id": "ead28a8a",
   "metadata": {},
   "outputs": [],
   "source": [
    "curated_reasons = []\n",
    "for reason_i in df_3_8_0_215['reason'].unique().tolist():\n",
    "    curated_reason_i = AMIEndEvents.reduce_end_event_reason(\n",
    "        reason=reason_i, \n",
    "        patterns=dict_3_8_0_215['3.8.0.215']\n",
    "    )\n",
    "    curated_reasons.append(curated_reason_i)\n",
    "curated_reasons = list(set(curated_reasons))\n",
    "print(*curated_reasons, sep='\\n')"
   ]
  },
  {
   "cell_type": "code",
   "execution_count": null,
   "id": "75806952",
   "metadata": {},
   "outputs": [],
   "source": [
    "assert(len(set(dict_3_8_0_215.keys()).intersection(set(dict_documented.keys())))==0)\n",
    "dict_documented = {**dict_documented, **dict_3_8_0_215}"
   ]
  },
  {
   "cell_type": "code",
   "execution_count": null,
   "id": "bae19121",
   "metadata": {},
   "outputs": [],
   "source": []
  },
  {
   "cell_type": "code",
   "execution_count": null,
   "id": "897c61ba",
   "metadata": {},
   "outputs": [],
   "source": []
  },
  {
   "cell_type": "code",
   "execution_count": null,
   "id": "6e319b52",
   "metadata": {},
   "outputs": [],
   "source": []
  },
  {
   "cell_type": "markdown",
   "id": "95aff784",
   "metadata": {},
   "source": [
    "# '3.9.83.159'"
   ]
  },
  {
   "cell_type": "code",
   "execution_count": null,
   "id": "74949fee",
   "metadata": {},
   "outputs": [],
   "source": [
    "df_3_9_83_159 = pd.read_pickle(ids_with_paths_dict['3.9.83.159'])\n",
    "#-----\n",
    "print(f\"shape[0] = {df_3_9_83_159.shape[0]}\")\n",
    "print(f\"# Unique reasons = {df_3_9_83_159['reason'].nunique()}\")\n",
    "print(df_3_9_83_159['reason'].unique())"
   ]
  },
  {
   "cell_type": "code",
   "execution_count": null,
   "id": "32f00207",
   "metadata": {},
   "outputs": [],
   "source": [
    "dict_3_9_83_159 = {\n",
    "        # Examples\n",
    "        # 'Meter Program Seal mismatch for Device [Device ID, MAC Id] = [1ND785727916NMD06, 00:13:50:05:ff:1d:16:96] - program seal = 0bda0569c8e6ad375375eaa177034d3f61a80478 vs. UIQ program seal = e2dbe1ccbeef1f2df38adffeeafdb86fbd8fb006 at 2021-01-08T06:16:49.116-05:00.'\n",
    "        '3.9.83.159':    [\n",
    "            #-----\n",
    "            (r'(Meter Program Seal mismatch for Device)\\s*\\[Device ID, MAC Id\\]\\s*=\\s*.*', r'\\1')\n",
    "            #-----\n",
    "        ]\n",
    "}"
   ]
  },
  {
   "cell_type": "code",
   "execution_count": null,
   "id": "8ec96ed5",
   "metadata": {},
   "outputs": [],
   "source": [
    "curated_reasons = []\n",
    "for reason_i in df_3_9_83_159['reason'].unique().tolist():\n",
    "    curated_reason_i = AMIEndEvents.reduce_end_event_reason(\n",
    "        reason=reason_i, \n",
    "        patterns=dict_3_9_83_159['3.9.83.159']\n",
    "    )\n",
    "    curated_reasons.append(curated_reason_i)\n",
    "curated_reasons = list(set(curated_reasons))\n",
    "print(*curated_reasons, sep='\\n')"
   ]
  },
  {
   "cell_type": "code",
   "execution_count": null,
   "id": "b3f6edf0",
   "metadata": {},
   "outputs": [],
   "source": [
    "assert(len(set(dict_3_9_83_159.keys()).intersection(set(dict_documented.keys())))==0)\n",
    "dict_documented = {**dict_documented, **dict_3_9_83_159}"
   ]
  },
  {
   "cell_type": "code",
   "execution_count": null,
   "id": "2d9687d3",
   "metadata": {},
   "outputs": [],
   "source": []
  },
  {
   "cell_type": "code",
   "execution_count": null,
   "id": "3953e041",
   "metadata": {},
   "outputs": [],
   "source": []
  },
  {
   "cell_type": "markdown",
   "id": "ff5068a6",
   "metadata": {},
   "source": [
    "# '3.11.63.161'"
   ]
  },
  {
   "cell_type": "code",
   "execution_count": 10,
   "id": "8c182485",
   "metadata": {},
   "outputs": [
    {
     "name": "stdout",
     "output_type": "stream",
     "text": [
      "shape[0] = 72980\n",
      "# Unique reasons = 62937\n",
      "['Requested operation JOB_OP_TYPE_ARB_METER_COMMAND could not be applied to the given device type and firmware version. Device: 00:13:50:05:ff:2d:e0:5f, DeviceType: DID_SUBTYPE_I210CRD_HAN, Firmware Version: 3.12.5c'\n",
      " 'Requested operation JOB_OP_TYPE_ARB_METER_COMMAND could not be applied to the given device type and firmware version. Device: 00:13:50:05:ff:2d:e3:b7, DeviceType: DID_SUBTYPE_I210CRD_HAN, Firmware Version: 3.12.5c'\n",
      " 'Requested operation JOB_OP_TYPE_ARB_METER_COMMAND could not be applied to the given device type and firmware version. Device: 00:13:50:05:ff:2e:28:ab, DeviceType: DID_SUBTYPE_I210CRD_HAN, Firmware Version: 3.12.5c'\n",
      " ...\n",
      " 'Requested operation JOB_OP_NEW_DATA_READ could not be applied to the given device type and firmware version. Device: 00:13:50:05:ff:3e:15:38, DeviceType: DID_SUBTYPE_I210CRD_HAN, Firmware Version: 3.12.5c'\n",
      " 'Requested operation JOB_OP_PROVISION_GET_STATUS could not be applied to the given device type and firmware version. Device: 00:13:50:05:ff:22:97:a6, DeviceType: DID_SUBTYPE_I210C_HAN, Firmware Version: 3.12.3c'\n",
      " 'Requested operation JOB_OP_NEW_DATA_READ could not be applied to the given device type and firmware version. Device: 00:13:50:05:ff:3d:fd:6b, DeviceType: DID_SUBTYPE_I210CRD_HAN, Firmware Version: 3.12.5c']\n"
     ]
    }
   ],
   "source": [
    "df_3_11_63_161 = pd.read_pickle(ids_with_paths_dict['3.11.63.161'])\n",
    "#-----\n",
    "print(f\"shape[0] = {df_3_11_63_161.shape[0]}\")\n",
    "print(f\"# Unique reasons = {df_3_11_63_161['reason'].nunique()}\")\n",
    "print(df_3_11_63_161['reason'].unique())"
   ]
  },
  {
   "cell_type": "code",
   "execution_count": 14,
   "id": "97c2510c",
   "metadata": {},
   "outputs": [],
   "source": [
    "dict_3_11_63_161 = {\n",
    "        # Examples:\n",
    "        # 'Requested operation JOB_OP_TYPE_ARB_METER_COMMAND could not be applied to the given device type and firmware version. Device: 00:13:50:05:ff:2d:ff:34, DeviceType: DID_SUBTYPE_I210CRD_HAN, Firmware Version: 3.12.5c'\n",
    "        '3.11.63.161':  [\n",
    "            #-----\n",
    "            # Below, Device sometimes blank, sometime MAC-esque\n",
    "            (r'(Requested operation)\\s*(.*?)\\s*(could not be applied) to the given device type and firmware version.\\s*Device\\:?(?:\\s+(?:[0-9a-zA-Z]+)(?:\\:[0-9a-zA-Z]+)+)?,\\s*DeviceType\\:?.*,\\s*Firmware Version\\:?.*', r'\\1 \\3: \\2')\n",
    "            #-----\n",
    "        ]\n",
    "}\n"
   ]
  },
  {
   "cell_type": "code",
   "execution_count": 15,
   "id": "2948acfd",
   "metadata": {},
   "outputs": [
    {
     "name": "stdout",
     "output_type": "stream",
     "text": [
      "Requested operation could not be applied: JOB_OP_PROVISION_DISCONNECT\n",
      "Requested operation could not be applied: JOB_OP_NIC_NEW_DATA_READ\n",
      "Requested operation could not be applied: JOB_OP_PROVISION_GET_STATUS\n",
      "Requested operation could not be applied: JOB_OP_TYPE_DEV_PROG_READ\n",
      "Requested operation could not be applied: JOB_OP_NEW_DATA_READ\n",
      "Requested operation could not be applied: JOB_OP_REGISTER_CURR_READ\n",
      "Requested operation could not be applied: JOB_OP_REGISTER_SELF_READ\n",
      "Requested operation could not be applied: JOB_OP_PROVISION_CONNECT\n",
      "Requested operation could not be applied: JOB_OP_LP_READ\n",
      "Requested operation could not be applied: JOB_OP_TYPE_ARB_METER_COMMAND\n",
      "Requested operation could not be applied: JOB_OP_TYPE_DEMAND_RESET\n"
     ]
    }
   ],
   "source": [
    "curated_reasons = []\n",
    "for reason_i in df_3_11_63_161['reason'].unique().tolist():\n",
    "    curated_reason_i = AMIEndEvents.reduce_end_event_reason(\n",
    "        reason=reason_i, \n",
    "        patterns=dict_3_11_63_161['3.11.63.161']\n",
    "    )\n",
    "    curated_reasons.append(curated_reason_i)\n",
    "curated_reasons = list(set(curated_reasons))\n",
    "print(*curated_reasons, sep='\\n')"
   ]
  },
  {
   "cell_type": "code",
   "execution_count": null,
   "id": "ca093c15",
   "metadata": {},
   "outputs": [],
   "source": [
    "assert(len(set(dict_3_11_63_161.keys()).intersection(set(dict_documented.keys())))==0)\n",
    "dict_documented = {**dict_documented, **dict_3_11_63_161}"
   ]
  },
  {
   "cell_type": "code",
   "execution_count": null,
   "id": "95ea98bd",
   "metadata": {},
   "outputs": [],
   "source": []
  },
  {
   "cell_type": "code",
   "execution_count": null,
   "id": "d808379a",
   "metadata": {},
   "outputs": [],
   "source": []
  },
  {
   "cell_type": "code",
   "execution_count": null,
   "id": "c1b5af1e",
   "metadata": {},
   "outputs": [],
   "source": []
  },
  {
   "cell_type": "markdown",
   "id": "f5294c84",
   "metadata": {},
   "source": [
    "# '3.12.0.257'"
   ]
  },
  {
   "cell_type": "code",
   "execution_count": null,
   "id": "bc9eb55f",
   "metadata": {},
   "outputs": [],
   "source": [
    "df_3_12_0_257 = pd.read_pickle(ids_with_paths_dict['3.12.0.257'])\n",
    "#-----\n",
    "print(f\"shape[0] = {df_3_12_0_257.shape[0]}\")\n",
    "print(f\"# Unique reasons = {df_3_12_0_257['reason'].nunique()}\")\n",
    "print(df_3_12_0_257['reason'].unique())"
   ]
  },
  {
   "cell_type": "code",
   "execution_count": null,
   "id": "a320c5eb",
   "metadata": {},
   "outputs": [],
   "source": [
    "dict_3_12_0_257 = {\n",
    "        # Examples\n",
    "        # 'Meter event Tamper Attempt Suspected  Time event occurred on meter = 01/10/2020 10:03:37  Sequence number = 1189  User id = 0  Event argument = 00-00'\n",
    "        # 'Meter detected a Tamper Attempt.'\n",
    "        # 'Tamper attempt detected.'\n",
    "        '3.12.0.257':   [\n",
    "            #-----\n",
    "            (r'(Meter event Tamper Attempt Suspected)\\s*Time event occurred on meter = .* Sequence number = .* User id = .*  Event argument = .*', r'\\1'), \n",
    "            #-----\n",
    "            (r'(Meter event Tamper Attempt Suspected).*', r'\\1'), #Fail proof, in case time, sequence, etc., not found \n",
    "            #-----\n",
    "            (r'(Meter detected a Tamper Attempt|Tamper attempt detected).*', 'Meter detected a Tamper Attempt'), \n",
    "            #-----\n",
    "        ]\n",
    "}"
   ]
  },
  {
   "cell_type": "code",
   "execution_count": null,
   "id": "384196ad",
   "metadata": {},
   "outputs": [],
   "source": [
    "curated_reasons = []\n",
    "for reason_i in df_3_12_0_257['reason'].unique().tolist():\n",
    "    curated_reason_i = AMIEndEvents.reduce_end_event_reason(\n",
    "        reason=reason_i, \n",
    "        patterns=dict_3_12_0_257['3.12.0.257']\n",
    "    )\n",
    "    curated_reasons.append(curated_reason_i)\n",
    "curated_reasons = list(set(curated_reasons))\n",
    "print(*curated_reasons, sep='\\n')"
   ]
  },
  {
   "cell_type": "code",
   "execution_count": null,
   "id": "593f0aaf",
   "metadata": {},
   "outputs": [],
   "source": [
    "assert(len(set(dict_3_12_0_257.keys()).intersection(set(dict_documented.keys())))==0)\n",
    "dict_documented = {**dict_documented, **dict_3_12_0_257}"
   ]
  },
  {
   "cell_type": "code",
   "execution_count": null,
   "id": "f4c97494",
   "metadata": {},
   "outputs": [],
   "source": []
  },
  {
   "cell_type": "code",
   "execution_count": null,
   "id": "283509f2",
   "metadata": {},
   "outputs": [],
   "source": []
  },
  {
   "cell_type": "code",
   "execution_count": null,
   "id": "39c2e1ae",
   "metadata": {},
   "outputs": [],
   "source": []
  },
  {
   "cell_type": "markdown",
   "id": "30445098",
   "metadata": {},
   "source": [
    "# '3.12.17.257'"
   ]
  },
  {
   "cell_type": "code",
   "execution_count": null,
   "id": "7cf1191b",
   "metadata": {},
   "outputs": [],
   "source": [
    "df_3_12_17_257 = pd.read_pickle(ids_with_paths_dict['3.12.17.257'])\n",
    "#-----\n",
    "print(f\"shape[0] = {df_3_12_17_257.shape[0]}\")\n",
    "print(f\"# Unique reasons = {df_3_12_17_257['reason'].nunique()}\")\n",
    "print(df_3_12_17_257['reason'].unique())"
   ]
  },
  {
   "cell_type": "code",
   "execution_count": null,
   "id": "10bd0377",
   "metadata": {},
   "outputs": [],
   "source": [
    "dict_3_12_17_257 = {\n",
    "        # Examples:\n",
    "        # 'Tamper (Meter Inversion) detected on meter 00:13:50:05:ff:27:3f:a0.'\n",
    "        '3.12.17.257':  [\n",
    "            #-----\n",
    "            (r'(Tamper\\s*(?:\\(.*\\))?\\s*detected)(?:(?:\\s*(?:for|on)?\\s*(?:meter)?)?\\s+(?:[0-9a-zA-Z]+)(?:\\:[0-9a-zA-Z]+)+\\.?)', r'\\1')\n",
    "            #-----\n",
    "#             # COULD ALSO DO\n",
    "#             (r'((?:\\s*occurred\\s*)?(?:\\s*(?:for|on)?\\s*(?:meter)?)?\\s+(?:[0-9a-zA-Z]+)(?:\\:[0-9a-zA-Z]+)+)\\.?', '') \n",
    "            #-----\n",
    "        ]\n",
    "}"
   ]
  },
  {
   "cell_type": "code",
   "execution_count": null,
   "id": "5bbf9087",
   "metadata": {},
   "outputs": [],
   "source": [
    "curated_reasons = []\n",
    "for reason_i in df_3_12_17_257['reason'].unique().tolist():\n",
    "    curated_reason_i = AMIEndEvents.reduce_end_event_reason(\n",
    "        reason=reason_i, \n",
    "        patterns=dict_3_12_17_257['3.12.17.257']\n",
    "    )\n",
    "    curated_reasons.append(curated_reason_i)\n",
    "curated_reasons = list(set(curated_reasons))\n",
    "print(*curated_reasons, sep='\\n')"
   ]
  },
  {
   "cell_type": "code",
   "execution_count": null,
   "id": "8423bd33",
   "metadata": {},
   "outputs": [],
   "source": [
    "assert(len(set(dict_3_12_17_257.keys()).intersection(set(dict_documented.keys())))==0)\n",
    "dict_documented = {**dict_documented, **dict_3_12_17_257}"
   ]
  },
  {
   "cell_type": "code",
   "execution_count": null,
   "id": "131d764a",
   "metadata": {},
   "outputs": [],
   "source": []
  },
  {
   "cell_type": "code",
   "execution_count": null,
   "id": "165ac569",
   "metadata": {},
   "outputs": [],
   "source": []
  },
  {
   "cell_type": "code",
   "execution_count": null,
   "id": "1c4cc243",
   "metadata": {},
   "outputs": [],
   "source": []
  },
  {
   "cell_type": "markdown",
   "id": "bdb39680",
   "metadata": {},
   "source": [
    "# '3.12.48.28'"
   ]
  },
  {
   "cell_type": "code",
   "execution_count": null,
   "id": "0d726104",
   "metadata": {},
   "outputs": [],
   "source": [
    "df_3_12_48_28 = pd.read_pickle(ids_with_paths_dict['3.12.48.28'])\n",
    "#-----\n",
    "print(f\"shape[0] = {df_3_12_48_28.shape[0]}\")\n",
    "print(f\"# Unique reasons = {df_3_12_48_28['reason'].nunique()}\")\n",
    "print(df_3_12_48_28['reason'].unique())"
   ]
  },
  {
   "cell_type": "code",
   "execution_count": null,
   "id": "1997149d",
   "metadata": {},
   "outputs": [],
   "source": [
    "dict_3_12_48_28 = {\n",
    "        # Examples:\n",
    "        # 'Diag1 Condition cleared for meter 00:13:50:05:ff:04:55:a1.'\n",
    "        # SEEMS RARE, BUT HAVE SEEN:\n",
    "        # Reverse energy cleared for meter 00:13:50:05:ff:0d:dd:17.\n",
    "        '3.12.48.28':    [\n",
    "            #-----\n",
    "            (r'((?:Diag1 Condition|Reverse energy) cleared)(?:(?:\\s*occurred\\s*)?(?:\\s*(?:for|on)?\\s*(?:meter)?)?\\s+(?:[0-9a-zA-Z]+)(?:\\:[0-9a-zA-Z]+)+\\.?)', r'\\1')\n",
    "            #-----\n",
    "#             # COULD ALSO DO\n",
    "#             (r'((?:\\s*occurred\\s*)?(?:\\s*(?:for|on)?\\s*(?:meter)?)?\\s+(?:[0-9a-zA-Z]+)(?:\\:[0-9a-zA-Z]+)+[\\s*\\.]*)', '')\n",
    "            #-----\n",
    "        ]\n",
    "}"
   ]
  },
  {
   "cell_type": "code",
   "execution_count": null,
   "id": "4c1321da",
   "metadata": {},
   "outputs": [],
   "source": [
    "curated_reasons = []\n",
    "for reason_i in df_3_12_48_28['reason'].unique().tolist():\n",
    "    curated_reason_i = AMIEndEvents.reduce_end_event_reason(\n",
    "        reason=reason_i, \n",
    "        patterns=dict_3_12_48_28['3.12.48.28']\n",
    "    )\n",
    "    curated_reasons.append(curated_reason_i)\n",
    "curated_reasons = list(set(curated_reasons))\n",
    "print(*curated_reasons, sep='\\n')"
   ]
  },
  {
   "cell_type": "code",
   "execution_count": null,
   "id": "760ecd25",
   "metadata": {},
   "outputs": [],
   "source": [
    "assert(len(set(dict_3_12_48_28.keys()).intersection(set(dict_documented.keys())))==0)\n",
    "dict_documented = {**dict_documented, **dict_3_12_48_28}"
   ]
  },
  {
   "cell_type": "code",
   "execution_count": null,
   "id": "17cba20c",
   "metadata": {},
   "outputs": [],
   "source": []
  },
  {
   "cell_type": "code",
   "execution_count": null,
   "id": "65e1b31f",
   "metadata": {},
   "outputs": [],
   "source": []
  },
  {
   "cell_type": "code",
   "execution_count": null,
   "id": "6e230275",
   "metadata": {},
   "outputs": [],
   "source": []
  },
  {
   "cell_type": "markdown",
   "id": "92a0ce0f",
   "metadata": {},
   "source": [
    "# '3.12.48.219'"
   ]
  },
  {
   "cell_type": "code",
   "execution_count": 17,
   "id": "fbd209f8",
   "metadata": {
    "scrolled": true
   },
   "outputs": [
    {
     "name": "stdout",
     "output_type": "stream",
     "text": [
      "shape[0] = 2459882\n",
      "# Unique reasons = 27622\n",
      "['KV2c meter event Polarity, Cross Phase, Reverse Energy Flow Diagnostic flags:Phase C Voltage'\n",
      " 'KV2c meter event Polarity, Cross Phase, Reverse Energy Flow Diagnostic flags:Phase A Current'\n",
      " 'KV2c meter event Polarity, Cross Phase, Reverse Energy Flow Diagnostic flags:Phase B Voltage, Phase C Voltage'\n",
      " ...\n",
      " 'Diag1: Polarity, Cross Phase, Reverse Energy Flow occurred for meter 00:13:50:05:ff:2c:f6:ef. Angle out of tolerance [Voltage - Phase  C].'\n",
      " 'Diag1: Polarity, Cross Phase, Reverse Energy Flow occurred for meter 00:13:50:05:ff:24:a6:88. Angle out of tolerance [Voltage - Phase  C].'\n",
      " 'Diag1: Polarity, Cross Phase, Reverse Energy Flow occurred for meter 00:13:50:05:ff:34:8d:e9. Angle out of tolerance [Voltage - Phase  B][Current - Phase  B].']\n"
     ]
    }
   ],
   "source": [
    "df_3_12_48_219 = pd.read_pickle(ids_with_paths_dict['3.12.48.219'])\n",
    "#-----\n",
    "print(f\"shape[0] = {df_3_12_48_219.shape[0]}\")\n",
    "print(f\"# Unique reasons = {df_3_12_48_219['reason'].nunique()}\")\n",
    "print(df_3_12_48_219['reason'].unique())"
   ]
  },
  {
   "cell_type": "code",
   "execution_count": 30,
   "id": "c6bd6108",
   "metadata": {},
   "outputs": [],
   "source": [
    "dict_3_12_48_219 = {\n",
    "        #-------------------------\n",
    "        # Examples:\n",
    "        # 'Diag1: Polarity, Cross Phase, Reverse Energy Flow occurred for meter 00:13:50:03:00:34:b7:e9. Angle out of tolerance [Voltage - Phase  B].'\n",
    "        # 'KV2c meter event Polarity, Cross Phase, Reverse Energy Flow Diagnostic flags:Phase A Current'\n",
    "        # 'Service disconnect operation occurred with status: Close operation started'\n",
    "        # 'Reverse energy (C1219 Table 3) occurred for meter 00:13:50:05:ff:0d:dd:17.'\n",
    "        '3.12.48.219':  [\n",
    "            #-----\n",
    "            (r'(Diag1: Polarity, Cross Phase, Reverse Energy Flow)(?:(?:\\s*occurred\\s*)?(?:\\s*(?:for|on)?\\s*(?:meter)?)?\\s+(?:[0-9a-zA-Z]+)(?:\\:[0-9a-zA-Z]+)+\\.?)\\s*(Angle out of tolerance) \\[.*\\]', r'\\1: \\2'), \n",
    "            #-----\n",
    "            (r'(KV2c meter event Polarity, Cross Phase, Reverse Energy Flow) Diagnostic flags:.*', r'\\1'), \n",
    "            #-----\n",
    "            (r'(Service disconnect operation occurred with status:) (Open|Close) operation (started|succeeded)\\s*', r'\\1 \\2 \\3'), \n",
    "            #-----\n",
    "            (r'((?:Diag1 Condition|Reverse energy)\\s*(?:\\(.*\\))?)\\s*(?:(?:\\s*occurred\\s*)?(?:\\s*(?:for|on)?\\s*(?:meter)?)?\\s+(?:[0-9a-zA-Z]+)(?:\\:[0-9a-zA-Z]+)+\\.?)', r'\\1'), \n",
    "            #-----\n",
    "        ]\n",
    "}"
   ]
  },
  {
   "cell_type": "code",
   "execution_count": 31,
   "id": "0caf1c1e",
   "metadata": {},
   "outputs": [
    {
     "name": "stdout",
     "output_type": "stream",
     "text": [
      "Diag1: Polarity, Cross Phase, Reverse Energy Flow: Angle out of tolerance.\n",
      "Service disconnect operation occurred with status: Close started\n",
      "Service disconnect operation occurred with status: Open started\n",
      "Service disconnect operation occurred with status: Close succeeded\n",
      "Service disconnect operation occurred with status: Open succeeded\n",
      "Reverse energy (C1219 Table 3)\n",
      "KV2c meter event Polarity, Cross Phase, Reverse Energy Flow\n"
     ]
    }
   ],
   "source": [
    "curated_reasons = []\n",
    "for reason_i in df_3_12_48_219['reason'].unique().tolist():\n",
    "    curated_reason_i = AMIEndEvents.reduce_end_event_reason(\n",
    "        reason=reason_i, \n",
    "        patterns=dict_3_12_48_219['3.12.48.219']\n",
    "    )\n",
    "    curated_reasons.append(curated_reason_i)\n",
    "curated_reasons = list(set(curated_reasons))\n",
    "print(*curated_reasons, sep='\\n')"
   ]
  },
  {
   "cell_type": "code",
   "execution_count": 29,
   "id": "33706e1f",
   "metadata": {},
   "outputs": [
    {
     "data": {
      "text/plain": [
       "['Diag1: Polarity, Cross Phase, Reverse Energy Flow: Angle out of tolerance.',\n",
       " 'KV2c meter event Polarity, Cross Phase, Reverse Energy Flow',\n",
       " 'Reverse energy (C1219 Table 3) ',\n",
       " 'Service disconnect operation occurred with status: Close started',\n",
       " 'Service disconnect operation occurred with status: Close started ',\n",
       " 'Service disconnect operation occurred with status: Close succeeded ',\n",
       " 'Service disconnect operation occurred with status: Open started ',\n",
       " 'Service disconnect operation occurred with status: Open succeeded']"
      ]
     },
     "execution_count": 29,
     "metadata": {},
     "output_type": "execute_result"
    }
   ],
   "source": [
    "natsorted(curated_reasons)"
   ]
  },
  {
   "cell_type": "code",
   "execution_count": null,
   "id": "17350f2b",
   "metadata": {},
   "outputs": [],
   "source": [
    "assert(len(set(dict_3_12_48_219.keys()).intersection(set(dict_documented.keys())))==0)\n",
    "dict_documented = {**dict_documented, **dict_3_12_48_219}"
   ]
  },
  {
   "cell_type": "code",
   "execution_count": null,
   "id": "6958e3f0",
   "metadata": {},
   "outputs": [],
   "source": []
  },
  {
   "cell_type": "code",
   "execution_count": null,
   "id": "ee20e599",
   "metadata": {},
   "outputs": [],
   "source": []
  },
  {
   "cell_type": "code",
   "execution_count": null,
   "id": "2b30b0ad",
   "metadata": {},
   "outputs": [],
   "source": []
  },
  {
   "cell_type": "markdown",
   "id": "45a7d2e6",
   "metadata": {},
   "source": [
    "# '3.12.93.28'"
   ]
  },
  {
   "cell_type": "code",
   "execution_count": null,
   "id": "ea836a71",
   "metadata": {},
   "outputs": [],
   "source": [
    "df_3_12_93_28 = pd.read_pickle(ids_with_paths_dict['3.12.93.28'])\n",
    "#-----\n",
    "print(f\"shape[0] = {df_3_12_93_28.shape[0]}\")\n",
    "print(f\"# Unique reasons = {df_3_12_93_28['reason'].nunique()}\")\n",
    "print(df_3_12_93_28['reason'].unique())"
   ]
  },
  {
   "cell_type": "code",
   "execution_count": null,
   "id": "71e5baf2",
   "metadata": {},
   "outputs": [],
   "source": [
    "dict_3_12_93_28 = {\n",
    "        # Examples\n",
    "        # 'Cleared: Meter00:13:50:05:ff:07:88:4b, cleared tamper detection (C1219 Table 3)'\n",
    "        '3.12.93.28': [\n",
    "            #-----\n",
    "            (r'(Cleared: Meter)(?:\\s*(?:[0-9a-zA-Z]+)(?:\\:[0-9a-zA-Z]+)+\\.?), (cleared tamper detection.*)', r'\\1 \\2'), \n",
    "            #-----\n",
    "        ]\n",
    "}"
   ]
  },
  {
   "cell_type": "code",
   "execution_count": null,
   "id": "44a78236",
   "metadata": {},
   "outputs": [],
   "source": [
    "curated_reasons = []\n",
    "for reason_i in df_3_12_93_28['reason'].unique().tolist():\n",
    "    curated_reason_i = AMIEndEvents.reduce_end_event_reason(\n",
    "        reason=reason_i, \n",
    "        patterns=dict_3_12_93_28['3.12.93.28']\n",
    "    )\n",
    "    curated_reasons.append(curated_reason_i)\n",
    "curated_reasons = list(set(curated_reasons))\n",
    "print(*curated_reasons, sep='\\n')"
   ]
  },
  {
   "cell_type": "code",
   "execution_count": null,
   "id": "b286eeb1",
   "metadata": {},
   "outputs": [],
   "source": [
    "assert(len(set(dict_3_12_93_28.keys()).intersection(set(dict_documented.keys())))==0)\n",
    "dict_documented = {**dict_documented, **dict_3_12_93_28}"
   ]
  },
  {
   "cell_type": "code",
   "execution_count": null,
   "id": "747f7ca7",
   "metadata": {},
   "outputs": [],
   "source": []
  },
  {
   "cell_type": "code",
   "execution_count": null,
   "id": "9f4f2111",
   "metadata": {},
   "outputs": [],
   "source": []
  },
  {
   "cell_type": "code",
   "execution_count": null,
   "id": "5554afca",
   "metadata": {},
   "outputs": [],
   "source": []
  },
  {
   "cell_type": "markdown",
   "id": "2938f15c",
   "metadata": {},
   "source": [
    "# '3.12.93.219'"
   ]
  },
  {
   "cell_type": "code",
   "execution_count": 54,
   "id": "a9a621c1",
   "metadata": {},
   "outputs": [
    {
     "name": "stdout",
     "output_type": "stream",
     "text": [
      "shape[0] = 3900000\n",
      "# Unique reasons = 426463\n",
      "['Meter event Reverse Rotation Detected  Time event occurred on meter = 01/31/2020 15:58:24  Sequence number = 16908  User id = 0  Event argument = 00-00'\n",
      " 'Meter detected a Reverse Rotation.'\n",
      " 'Meter event Reverse Rotation Detected  Time event occurred on meter = 01/31/2020 12:55:31  Sequence number = 36052  User id = 0  Event argument = 00-00'\n",
      " ...\n",
      " 'Meter event Reverse Rotation Detected  Time event occurred on meter = 03/09/2023 09:23:03  Sequence number = 1965  User id = 0  Event argument = 00-00 '\n",
      " 'Meter event Reverse Rotation Detected  Time event occurred on meter = 03/09/2023 09:24:39  Sequence number = 3636  User id = 0  Event argument = 00-00 '\n",
      " 'Meter event Reverse Rotation Detected  Time event occurred on meter = 03/09/2023 10:06:33  Sequence number = 596  User id = 0  Event argument = 00-00 ']\n"
     ]
    }
   ],
   "source": [
    "df_3_12_93_219 = pd.read_pickle(ids_with_paths_dict['3.12.93.219'])\n",
    "#-----\n",
    "print(f\"shape[0] = {df_3_12_93_219.shape[0]}\")\n",
    "print(f\"# Unique reasons = {df_3_12_93_219['reason'].nunique()}\")\n",
    "print(df_3_12_93_219['reason'].unique())"
   ]
  },
  {
   "cell_type": "code",
   "execution_count": 58,
   "id": "96fb962f",
   "metadata": {},
   "outputs": [],
   "source": [
    "dict_3_12_93_219 = {\n",
    "        # Examples:\n",
    "        # 'Meter event Reverse Rotation Detected  Time event occurred on meter = 01/28/2020 15:31:34  Sequence number = 854  User id = 0  Event argument = 00-00'\n",
    "        # 'Meter detected a Reverse Rotation.'\n",
    "        # 'Meter 00:13:50:05:ff:0b:ae:84, detected tampering (C1219 Table 3)'\n",
    "        # SEEMS RARE, BUT HAVE SEEN:\n",
    "        # Meter event Demand Reset Occurred  Time event occurred on meter = 10/25/2020 10:07:33  Sequence number = 1256  User id = 1  Event argument = 00-00\n",
    "        '3.12.93.219':    [\n",
    "            #-----\n",
    "            (r'(Meter)(?:\\s+(?:[0-9a-zA-Z]+)(?:\\:[0-9a-zA-Z]+)+[\\.,]?)\\s*(detected tampering\\s*(?:\\(.*\\))?)\\s*', r'\\1 \\2'), \n",
    "            #-----\n",
    "            (r'(Meter event (?:Reverse Rotation Detected|Demand Reset Occurred))\\s*Time event occurred on meter\\s*=.*\\s*Sequence number\\s*=.*\\s*User id\\s*=.*\\s*Event argument\\s*=.*', r'\\1'),\n",
    "            #-----\n",
    "            (r'(Meter event Reverse Rotation Detected).*', r'\\1'), #Fail proof, in case time, sequence, etc., not found \n",
    "            #-----\n",
    "            (r'(Meter detected a Reverse Rotation).*', 'Meter event Reverse Rotation Detected'), \n",
    "            #-----\n",
    "        ]\n",
    "}"
   ]
  },
  {
   "cell_type": "code",
   "execution_count": 59,
   "id": "dbf84be6",
   "metadata": {
    "scrolled": true
   },
   "outputs": [
    {
     "name": "stdout",
     "output_type": "stream",
     "text": [
      "Meter detected tampering (C1219 Table 3)\n",
      "Meter event Reverse Rotation Detected\n",
      "Meter event Demand Reset Occurred\n"
     ]
    }
   ],
   "source": [
    "curated_reasons = []\n",
    "for reason_i in df_3_12_93_219['reason'].unique().tolist():\n",
    "    curated_reason_i = AMIEndEvents.reduce_end_event_reason(\n",
    "        reason=reason_i, \n",
    "        patterns=dict_3_12_93_219['3.12.93.219']\n",
    "    )\n",
    "    curated_reasons.append(curated_reason_i)\n",
    "curated_reasons = list(set(curated_reasons))\n",
    "print(*curated_reasons, sep='\\n')"
   ]
  },
  {
   "cell_type": "code",
   "execution_count": 57,
   "id": "86523bd7",
   "metadata": {},
   "outputs": [
    {
     "data": {
      "text/plain": [
       "['Meter detected tampering (C1219 Table 3)',\n",
       " 'Meter event Demand Reset Occurred',\n",
       " 'Meter event Reverse Rotation Detected']"
      ]
     },
     "execution_count": 57,
     "metadata": {},
     "output_type": "execute_result"
    }
   ],
   "source": [
    "natsorted(curated_reasons)"
   ]
  },
  {
   "cell_type": "code",
   "execution_count": 60,
   "id": "8500920c",
   "metadata": {},
   "outputs": [
    {
     "data": {
      "text/plain": [
       "['Meter detected tampering (C1219 Table 3)',\n",
       " 'Meter event Demand Reset Occurred',\n",
       " 'Meter event Reverse Rotation Detected']"
      ]
     },
     "execution_count": 60,
     "metadata": {},
     "output_type": "execute_result"
    }
   ],
   "source": [
    "natsorted(curated_reasons)"
   ]
  },
  {
   "cell_type": "code",
   "execution_count": null,
   "id": "eaf6dc55",
   "metadata": {},
   "outputs": [],
   "source": [
    "assert(len(set(dict_3_12_93_219.keys()).intersection(set(dict_documented.keys())))==0)\n",
    "dict_documented = {**dict_documented, **dict_3_12_93_219}"
   ]
  },
  {
   "cell_type": "code",
   "execution_count": null,
   "id": "2cfe8487",
   "metadata": {},
   "outputs": [],
   "source": []
  },
  {
   "cell_type": "code",
   "execution_count": null,
   "id": "178f84ce",
   "metadata": {},
   "outputs": [],
   "source": []
  },
  {
   "cell_type": "code",
   "execution_count": null,
   "id": "122dfccf",
   "metadata": {},
   "outputs": [],
   "source": []
  },
  {
   "cell_type": "markdown",
   "id": "00d04cc9",
   "metadata": {},
   "source": [
    "# '3.12.136.38'"
   ]
  },
  {
   "cell_type": "code",
   "execution_count": null,
   "id": "b36a17b9",
   "metadata": {},
   "outputs": [],
   "source": [
    "df_3_12_136_38 = pd.read_pickle(ids_with_paths_dict['3.12.136.38'])\n",
    "#-----\n",
    "print(f\"shape[0] = {df_3_12_136_38.shape[0]}\")\n",
    "print(f\"# Unique reasons = {df_3_12_136_38['reason'].nunique()}\")\n",
    "print(df_3_12_136_38['reason'].unique())"
   ]
  },
  {
   "cell_type": "code",
   "execution_count": null,
   "id": "76ff05d3",
   "metadata": {},
   "outputs": [],
   "source": [
    "dict_3_12_136_38 = {\n",
    "        # Examples:\n",
    "        # 'A NET_MGMT command was sent from fdc9:ccbe:52c0:cbc0:250:56ff:feb5:91c7 with a key that has insufficient privileges to execute it. ID: 53 READ SUBID: 65535 ASSOC_ID: 8448'\n",
    "        # 'A NET_MGMT command was sent from fdc9:ccbe:52c0:cbc0:a6ba:99ff:fe12:1b0e with a key that has insufficient privileges to execute it. ID: 207 WRITE SUBID: 65535 ASSOC_ID: 768'\n",
    "        '3.12.136.38':  [\n",
    "            #-----\n",
    "            # BELOW, ID seemed meter-specific (or, at least, not general), as READ/WRITE SUBID and ASSOC_ID seem to only take on a few different values\n",
    "            # Therefore, group 3, for ID, is not included in output\n",
    "            (r'A?\\s+?(.*command was sent) from(?:\\s+(?:[0-9a-zA-Z]+)(?:\\:[0-9a-zA-Z]+)+)\\s*(with a key that has insufficient privileges) to execute it.*(ID:\\s*[0-9]+)\\s*((?:READ|WRITE)\\s*SUBID:\\s*[0-9]+)\\s*(ASSOC_ID:\\s*[0-9]+).*', r'\\1 \\2: \\4 \\5'), \n",
    "            #-----\n",
    "        ]\n",
    "}\n"
   ]
  },
  {
   "cell_type": "code",
   "execution_count": null,
   "id": "0474234c",
   "metadata": {},
   "outputs": [],
   "source": [
    "curated_reasons = []\n",
    "for reason_i in df_3_12_136_38['reason'].unique().tolist():\n",
    "    curated_reason_i = AMIEndEvents.reduce_end_event_reason(\n",
    "        reason=reason_i, \n",
    "        patterns=dict_3_12_136_38['3.12.136.38']\n",
    "    )\n",
    "    curated_reasons.append(curated_reason_i)\n",
    "curated_reasons = list(set(curated_reasons))\n",
    "print(*curated_reasons, sep='\\n')"
   ]
  },
  {
   "cell_type": "code",
   "execution_count": null,
   "id": "6ff2b69f",
   "metadata": {},
   "outputs": [],
   "source": [
    "assert(len(set(dict_3_12_136_38.keys()).intersection(set(dict_documented.keys())))==0)\n",
    "dict_documented = {**dict_documented, **dict_3_12_136_38}"
   ]
  },
  {
   "cell_type": "code",
   "execution_count": null,
   "id": "238f98a1",
   "metadata": {},
   "outputs": [],
   "source": []
  },
  {
   "cell_type": "code",
   "execution_count": null,
   "id": "2144e00e",
   "metadata": {},
   "outputs": [],
   "source": []
  },
  {
   "cell_type": "markdown",
   "id": "1cc1e5d3",
   "metadata": {},
   "source": [
    "# '3.12.136.85'"
   ]
  },
  {
   "cell_type": "code",
   "execution_count": null,
   "id": "c9e83c5a",
   "metadata": {},
   "outputs": [],
   "source": [
    "df_3_12_136_85 = pd.read_pickle(ids_with_paths_dict['3.12.136.85'])\n",
    "#-----\n",
    "print(f\"shape[0] = {df_3_12_136_85.shape[0]}\")\n",
    "print(f\"# Unique reasons = {df_3_12_136_85['reason'].nunique()}\")\n",
    "print(df_3_12_136_85['reason'].unique())"
   ]
  },
  {
   "cell_type": "code",
   "execution_count": null,
   "id": "c909ede8",
   "metadata": {},
   "outputs": [],
   "source": [
    "dict_3_12_136_85 = {\n",
    "        # Examples:\n",
    "        # 'NET_MGMT command failed consecutively for 1 times for fd37:ec90:20c2:5c58:250:56ff:feb5:1010. WRITE'\n",
    "        # 'Secure association operation failed consecutively for 1 times for fdc9:ccbe:52c0:d3a0:250:56ff:feb5:ec3c. 16270'\n",
    "        # 'failed consecutively for 1 times for 0:0:0:0:0:0:0:0.'\n",
    "        # 'N/A failed consecutively for 1 times for 0:0:0:0:0:0:0:0. N/A'\n",
    "        '3.12.136.85':  [\n",
    "            #-----\n",
    "            (r'(.*) failed consecutively for [0-9]+ times?(?:(?:\\s*(?:for|on)?\\s*(?:meter)?)?\\s+(?:[0-9a-zA-Z]+)(?:\\:[0-9a-zA-Z]+)+\\.?).*', r'\\1 failed consecutively for 1 or more times'), \n",
    "            #-----\n",
    "            (r'^failed consecutively for [0-9]+ times? for 0:0:0:0:0:0:0:0.$', 'N/A failed consecutively for 1 or more times'), \n",
    "            #-----\n",
    "        ]\n",
    "}"
   ]
  },
  {
   "cell_type": "code",
   "execution_count": null,
   "id": "46d2898b",
   "metadata": {},
   "outputs": [],
   "source": [
    "curated_reasons = []\n",
    "for reason_i in df_3_12_136_85['reason'].unique().tolist():\n",
    "    curated_reason_i = AMIEndEvents.reduce_end_event_reason(\n",
    "        reason=reason_i, \n",
    "        patterns=dict_3_12_136_85['3.12.136.85']\n",
    "    )\n",
    "    curated_reasons.append(curated_reason_i)\n",
    "curated_reasons = list(set(curated_reasons))\n",
    "print(*curated_reasons, sep='\\n')"
   ]
  },
  {
   "cell_type": "code",
   "execution_count": null,
   "id": "2446af68",
   "metadata": {},
   "outputs": [],
   "source": [
    "assert(len(set(dict_3_12_136_85.keys()).intersection(set(dict_documented.keys())))==0)\n",
    "dict_documented = {**dict_documented, **dict_3_12_136_85}"
   ]
  },
  {
   "cell_type": "code",
   "execution_count": null,
   "id": "acd8aad1",
   "metadata": {},
   "outputs": [],
   "source": []
  },
  {
   "cell_type": "code",
   "execution_count": null,
   "id": "385bf75c",
   "metadata": {},
   "outputs": [],
   "source": []
  },
  {
   "cell_type": "code",
   "execution_count": null,
   "id": "7ff84ba1",
   "metadata": {},
   "outputs": [],
   "source": []
  },
  {
   "cell_type": "markdown",
   "id": "2d47be1a",
   "metadata": {},
   "source": [
    "# '3.18.1.199'"
   ]
  },
  {
   "cell_type": "code",
   "execution_count": null,
   "id": "11bca688",
   "metadata": {},
   "outputs": [],
   "source": [
    "df_3_18_1_199 = pd.read_pickle(ids_with_paths_dict['3.18.1.199'])\n",
    "#-----\n",
    "print(f\"shape[0] = {df_3_18_1_199.shape[0]}\")\n",
    "print(f\"# Unique reasons = {df_3_18_1_199['reason'].nunique()}\")\n",
    "print(df_3_18_1_199['reason'].unique())"
   ]
  },
  {
   "cell_type": "code",
   "execution_count": null,
   "id": "a5f38fc5",
   "metadata": {},
   "outputs": [],
   "source": [
    "dict_3_18_1_199 = {\n",
    "        # Examples:\n",
    "        # 'Meter detected a RAM failure.'\n",
    "        # So, don't need to run any regex, but should still so no flags raised\n",
    "        '3.18.1.199':    [\n",
    "            #-----\n",
    "            (r'(Meter detected a RAM failure).*', r'\\1')\n",
    "            #-----\n",
    "        ]\n",
    "}"
   ]
  },
  {
   "cell_type": "code",
   "execution_count": null,
   "id": "f188c02a",
   "metadata": {},
   "outputs": [],
   "source": [
    "curated_reasons = []\n",
    "for reason_i in df_3_18_1_199['reason'].unique().tolist():\n",
    "    curated_reason_i = AMIEndEvents.reduce_end_event_reason(\n",
    "        reason=reason_i, \n",
    "        patterns=dict_3_18_1_199['3.18.1.199']\n",
    "    )\n",
    "    curated_reasons.append(curated_reason_i)\n",
    "curated_reasons = list(set(curated_reasons))\n",
    "print(*curated_reasons, sep='\\n')"
   ]
  },
  {
   "cell_type": "code",
   "execution_count": null,
   "id": "3ce28e19",
   "metadata": {},
   "outputs": [],
   "source": [
    "assert(len(set(dict_3_18_1_199.keys()).intersection(set(dict_documented.keys())))==0)\n",
    "dict_documented = {**dict_documented, **dict_3_18_1_199}"
   ]
  },
  {
   "cell_type": "code",
   "execution_count": null,
   "id": "3fb7d83d",
   "metadata": {},
   "outputs": [],
   "source": []
  },
  {
   "cell_type": "code",
   "execution_count": null,
   "id": "16eeafff",
   "metadata": {},
   "outputs": [],
   "source": []
  },
  {
   "cell_type": "code",
   "execution_count": null,
   "id": "7bc56b02",
   "metadata": {},
   "outputs": [],
   "source": []
  },
  {
   "cell_type": "markdown",
   "id": "cb361756",
   "metadata": {},
   "source": [
    "# '3.18.1.220'"
   ]
  },
  {
   "cell_type": "code",
   "execution_count": null,
   "id": "81dd3361",
   "metadata": {},
   "outputs": [],
   "source": [
    "df_3_18_1_220 = pd.read_pickle(ids_with_paths_dict['3.18.1.220'])\n",
    "#-----\n",
    "print(f\"shape[0] = {df_3_18_1_220.shape[0]}\")\n",
    "print(f\"# Unique reasons = {df_3_18_1_220['reason'].nunique()}\")\n",
    "print(df_3_18_1_220['reason'].unique())"
   ]
  },
  {
   "cell_type": "code",
   "execution_count": null,
   "id": "6a63169e",
   "metadata": {},
   "outputs": [],
   "source": [
    "dict_3_18_1_220 = {\n",
    "        # Examples:\n",
    "        # All seem to be: 'Meter detected a ROM failure.'\n",
    "        # So, don't need to run any regex, but should still so no flags raised\n",
    "        '3.18.1.220':    [\n",
    "            #-----\n",
    "            (r'(Meter detected a ROM failure).*', r'\\1')\n",
    "            #-----\n",
    "        ]\n",
    "}"
   ]
  },
  {
   "cell_type": "code",
   "execution_count": null,
   "id": "7972a0be",
   "metadata": {},
   "outputs": [],
   "source": [
    "curated_reasons = []\n",
    "for reason_i in df_3_18_1_220['reason'].unique().tolist():\n",
    "    curated_reason_i = AMIEndEvents.reduce_end_event_reason(\n",
    "        reason=reason_i, \n",
    "        patterns=dict_3_18_1_220['3.18.1.220']\n",
    "    )\n",
    "    curated_reasons.append(curated_reason_i)\n",
    "curated_reasons = list(set(curated_reasons))\n",
    "print(*curated_reasons, sep='\\n')"
   ]
  },
  {
   "cell_type": "code",
   "execution_count": null,
   "id": "4b652d84",
   "metadata": {},
   "outputs": [],
   "source": [
    "assert(len(set(dict_3_18_1_220.keys()).intersection(set(dict_documented.keys())))==0)\n",
    "dict_documented = {**dict_documented, **dict_3_18_1_220}"
   ]
  },
  {
   "cell_type": "code",
   "execution_count": null,
   "id": "3e168086",
   "metadata": {},
   "outputs": [],
   "source": []
  },
  {
   "cell_type": "code",
   "execution_count": null,
   "id": "9192e595",
   "metadata": {},
   "outputs": [],
   "source": []
  },
  {
   "cell_type": "code",
   "execution_count": null,
   "id": "60a2fc30",
   "metadata": {},
   "outputs": [],
   "source": []
  },
  {
   "cell_type": "markdown",
   "id": "86631e3d",
   "metadata": {},
   "source": [
    "# '3.18.72.28'"
   ]
  },
  {
   "cell_type": "code",
   "execution_count": null,
   "id": "3246ff6b",
   "metadata": {},
   "outputs": [],
   "source": [
    "df_3_18_72_28 = pd.read_pickle(ids_with_paths_dict['3.18.72.28'])\n",
    "#-----\n",
    "print(f\"shape[0] = {df_3_18_72_28.shape[0]}\")\n",
    "print(f\"# Unique reasons = {df_3_18_72_28['reason'].nunique()}\")\n",
    "print(df_3_18_72_28['reason'].unique())"
   ]
  },
  {
   "cell_type": "code",
   "execution_count": null,
   "id": "d228959a",
   "metadata": {},
   "outputs": [],
   "source": [
    "dict_3_18_72_28 = {\n",
    "        # Examples:\n",
    "        # 'NVRAM Error cleared for meter 00:13:50:05:ff:0d:7e:64.'\n",
    "        '3.18.72.28':   [\n",
    "            #-----\n",
    "            (r'(NVRAM Error cleared)(?:(?:\\s*(?:for|on)?\\s*(?:meter)?)?\\s+(?:[0-9a-zA-Z]+)(?:\\:[0-9a-zA-Z]+)+\\.?)', r'\\1')\n",
    "            #-----\n",
    "#             # COULD ALSO DO\n",
    "#             (r'((?:\\s*occurred\\s*)?(?:\\s*(?:for|on)?\\s*(?:meter)?)?\\s+(?:[0-9a-zA-Z]+)(?:\\:[0-9a-zA-Z]+)+[\\s*\\.]*)', '')\n",
    "            #-----\n",
    "        ]\n",
    "}"
   ]
  },
  {
   "cell_type": "code",
   "execution_count": null,
   "id": "575ecbb0",
   "metadata": {},
   "outputs": [],
   "source": [
    "curated_reasons = []\n",
    "for reason_i in df_3_18_72_28['reason'].unique().tolist():\n",
    "    curated_reason_i = AMIEndEvents.reduce_end_event_reason(\n",
    "        reason=reason_i, \n",
    "        patterns=dict_3_18_72_28['3.18.72.28']\n",
    "    )\n",
    "    curated_reasons.append(curated_reason_i)\n",
    "curated_reasons = list(set(curated_reasons))\n",
    "print(*curated_reasons, sep='\\n')"
   ]
  },
  {
   "cell_type": "code",
   "execution_count": null,
   "id": "d29aad71",
   "metadata": {},
   "outputs": [],
   "source": [
    "assert(len(set(dict_3_18_72_28.keys()).intersection(set(dict_documented.keys())))==0)\n",
    "dict_documented = {**dict_documented, **dict_3_18_72_28}"
   ]
  },
  {
   "cell_type": "code",
   "execution_count": null,
   "id": "7f44c93b",
   "metadata": {},
   "outputs": [],
   "source": []
  },
  {
   "cell_type": "code",
   "execution_count": null,
   "id": "d4b53225",
   "metadata": {},
   "outputs": [],
   "source": []
  },
  {
   "cell_type": "code",
   "execution_count": null,
   "id": "708cfadc",
   "metadata": {},
   "outputs": [],
   "source": []
  },
  {
   "cell_type": "markdown",
   "id": "3445b2dc",
   "metadata": {},
   "source": [
    "# '3.18.72.79'"
   ]
  },
  {
   "cell_type": "code",
   "execution_count": 61,
   "id": "fd6a3fd7",
   "metadata": {
    "scrolled": true
   },
   "outputs": [
    {
     "name": "stdout",
     "output_type": "stream",
     "text": [
      "shape[0] = 6143\n",
      "# Unique reasons = 3524\n",
      "['NVRAM Error (C1219 Table 3) occurred for meter 00:13:50:05:ff:11:10:cc.'\n",
      " 'NVRAM Error (C1219 Table 3) occurred for meter 00:13:50:05:ff:10:fd:3b.'\n",
      " 'NVRAM Error (C1219 Table 3) occurred for meter 00:13:50:05:ff:1d:77:d9.'\n",
      " ...\n",
      " 'NVRAM Error (C1219 Table 3) occurred for meter 00:13:50:05:ff:04:8d:47.'\n",
      " 'NVRAM Error (C1219 Table 3) occurred for meter 00:13:50:05:ff:04:8d:64.'\n",
      " 'NVRAM Error (C1219 Table 3) occurred for meter 00:13:50:05:ff:00:46:a7.']\n"
     ]
    }
   ],
   "source": [
    "df_3_18_72_79 = pd.read_pickle(ids_with_paths_dict['3.18.72.79'])\n",
    "#-----\n",
    "print(f\"shape[0] = {df_3_18_72_79.shape[0]}\")\n",
    "print(f\"# Unique reasons = {df_3_18_72_79['reason'].nunique()}\")\n",
    "print(df_3_18_72_79['reason'].unique())"
   ]
  },
  {
   "cell_type": "code",
   "execution_count": 66,
   "id": "8d70bfe7",
   "metadata": {},
   "outputs": [],
   "source": [
    "dict_3_18_72_79 = {\n",
    "        # Examples:\n",
    "        # 'NVRAM Error (C1219 Table 3) occurred for meter 00:13:50:05:ff:20:91:6c.'\n",
    "        '3.18.72.79':   [\n",
    "            #-----\n",
    "            (r'(NVRAM Error\\s*(?:\\(.*\\))?)\\s*(?:(?:\\s*occurred\\s*)?(?:\\s*(?:for|on)?\\s*(?:meter)?)?\\s+(?:[0-9a-zA-Z]+)(?:\\:[0-9a-zA-Z]+)+\\.?)', r'\\1'), \n",
    "            #-----\n",
    "        ]\n",
    "}"
   ]
  },
  {
   "cell_type": "code",
   "execution_count": 67,
   "id": "ccb5c8b6",
   "metadata": {},
   "outputs": [
    {
     "name": "stdout",
     "output_type": "stream",
     "text": [
      "NVRAM Error (C1219 Table 3)\n",
      "NVRAM Error (C1219 Table 3: Er000200)\n"
     ]
    }
   ],
   "source": [
    "curated_reasons = []\n",
    "for reason_i in df_3_18_72_79['reason'].unique().tolist():\n",
    "    curated_reason_i = AMIEndEvents.reduce_end_event_reason(\n",
    "        reason=reason_i, \n",
    "        patterns=dict_3_18_72_79['3.18.72.79']\n",
    "    )\n",
    "    curated_reasons.append(curated_reason_i)\n",
    "curated_reasons = list(set(curated_reasons))\n",
    "print(*curated_reasons, sep='\\n')"
   ]
  },
  {
   "cell_type": "code",
   "execution_count": 64,
   "id": "86ae0b2e",
   "metadata": {},
   "outputs": [
    {
     "data": {
      "text/plain": [
       "['NVRAM Error (C1219 Table 3) ', 'NVRAM Error (C1219 Table 3: Er000200) ']"
      ]
     },
     "execution_count": 64,
     "metadata": {},
     "output_type": "execute_result"
    }
   ],
   "source": [
    "natsorted(curated_reasons)"
   ]
  },
  {
   "cell_type": "code",
   "execution_count": 68,
   "id": "9a43b59c",
   "metadata": {},
   "outputs": [
    {
     "data": {
      "text/plain": [
       "['NVRAM Error (C1219 Table 3)', 'NVRAM Error (C1219 Table 3: Er000200)']"
      ]
     },
     "execution_count": 68,
     "metadata": {},
     "output_type": "execute_result"
    }
   ],
   "source": [
    "natsorted(curated_reasons)"
   ]
  },
  {
   "cell_type": "code",
   "execution_count": null,
   "id": "e64726bf",
   "metadata": {},
   "outputs": [],
   "source": [
    "assert(len(set(dict_3_18_72_79.keys()).intersection(set(dict_documented.keys())))==0)\n",
    "dict_documented = {**dict_documented, **dict_3_18_72_79}"
   ]
  },
  {
   "cell_type": "code",
   "execution_count": null,
   "id": "6dcf87f9",
   "metadata": {},
   "outputs": [],
   "source": []
  },
  {
   "cell_type": "code",
   "execution_count": null,
   "id": "d2b0727c",
   "metadata": {},
   "outputs": [],
   "source": []
  },
  {
   "cell_type": "code",
   "execution_count": null,
   "id": "84131654",
   "metadata": {},
   "outputs": [],
   "source": []
  },
  {
   "cell_type": "markdown",
   "id": "acdd7ff8",
   "metadata": {},
   "source": [
    "# '3.18.72.85'"
   ]
  },
  {
   "cell_type": "code",
   "execution_count": 24,
   "id": "c89abcf8",
   "metadata": {},
   "outputs": [
    {
     "name": "stdout",
     "output_type": "stream",
     "text": [
      "shape[0] = 1815480\n",
      "# Unique reasons = 1638510\n",
      "['Meter event Nonvolatile Memory Failure Detected  Time event occurred on meter = 01/16/2020 15:00:11  Sequence number = 1339  User id = 0  Event argument = 00-00'\n",
      " 'Meter detected a nonvolatile memory failure.'\n",
      " 'Meter event Nonvolatile Memory Failure Detected  Time event occurred on meter = 01/16/2020 15:52:15  Sequence number = 33574  User id = 0  Event argument = 00-00'\n",
      " ...\n",
      " 'Meter event Nonvolatile Memory Failure Detected  Time event occurred on meter = 07/03/2023 18:37:09  Sequence number = 31521  User id = 0  Event argument = 00-00'\n",
      " 'Meter event Nonvolatile Memory Failure Detected  Time event occurred on meter = 9/19/2023 4:21:16 PM  Sequence number = 16663  User id = 0  Event argument = 00-00'\n",
      " 'Meter event Nonvolatile Memory Failure Detected  Time event occurred on meter = 12/11/2023 01:17:41  Sequence number = 17951  User id = 44624  Event argument = FF-00']\n"
     ]
    }
   ],
   "source": [
    "df_3_18_72_85 = pd.read_pickle(ids_with_paths_dict['3.18.72.85'])\n",
    "#-----\n",
    "print(f\"shape[0] = {df_3_18_72_85.shape[0]}\")\n",
    "print(f\"# Unique reasons = {df_3_18_72_85['reason'].nunique()}\")\n",
    "print(df_3_18_72_85['reason'].unique())"
   ]
  },
  {
   "cell_type": "code",
   "execution_count": 28,
   "id": "85cf1bae",
   "metadata": {},
   "outputs": [],
   "source": [
    "dict_3_18_72_85 = {\n",
    "        # Examples:\n",
    "        # 'Meter event Nonvolatile Memory Failure Detected  Time event occurred on meter = 01/21/2020 09:45:01  Sequence number = 3335  User id = 0  Event argument = 00-00'\n",
    "        # 'null'????????????\n",
    "        # SEEMS RARE, BUT HAVE SEEN:\n",
    "        # 'Meter event Demand Reset Occurred  Time event occurred on meter = 01/29/2023  Sequence number = 711  User id = 1  Event argument = 00-00 '\n",
    "        # 'Meter event Reset List Pointers  Time event occurred on meter = 09/07/2021  Sequence number = 227  User id = 0  Event argument = 03-00'\n",
    "        # 'KV2c meter event Received kWh Caution Diagnostic flags:Phase A Voltage'\n",
    "        # 'Universal event Unsupported Event(41) with priority Alarm. '\n",
    "        '3.18.72.85':   [\n",
    "            #-----\n",
    "#             (r'(Meter event (?:Nonvolatile Memory Failure Detected|Demand Reset Occurred|Reset List Pointers))\\s*Time event occurred on meter\\s*=.*\\s*Sequence number\\s*=.*\\s*User id\\s*=.*\\s*Event argument\\s*=.*', r'\\1'),\n",
    "            (r'(Meter event.*?)\\s*Time event occurred on meter\\s*=.*\\s*Sequence number\\s*=.*\\s*User id\\s*=.*\\s*Event argument\\s*=.*', r'\\1'), \n",
    "            #-----\n",
    "            # FAILSAFE in case Sequence number etc. not found above\n",
    "            # NOTE: Cannot do (Meter event.*).*, as that will reduce everything altered above donw to simply 'Meter event'\n",
    "            #       Also, if any additional info (e.g, Sequence number) is to be extracted using above, this must be removed\n",
    "            (r'(Meter event (?:Nonvolatile Memory Failure Detected|Demand Reset Occurred|Reset List Pointers)).*', r'\\1'),\n",
    "            #-----\n",
    "            (r'(Meter detected a nonvolatile memory failure).*', 'Meter event Nonvolatile Memory Failure Detected'), \n",
    "            #-----\n",
    "            (r'(KV2c meter event .*?)\\s*(Diagnostic flags)\\s*\\:\\s*(.*?)\\s*$', r'\\1 (\\2 = \\3)'),\n",
    "            #-----\n",
    "            (r'(Universal event Unsupported Event\\s*(?:\\(.*\\))?\\s*with priority Alarm)[\\s*\\.]*', r'\\1'), \n",
    "            #-----\n",
    "            ('null', 'Reason is null, ID=3.18.72.85')\n",
    "            #-----\n",
    "        ]\n",
    "}"
   ]
  },
  {
   "cell_type": "code",
   "execution_count": 29,
   "id": "8a38a982",
   "metadata": {},
   "outputs": [
    {
     "name": "stdout",
     "output_type": "stream",
     "text": [
      "KV2c meter event Received kWh Caution (Diagnostic flags = Phase A Voltage)\n",
      "Meter event Demand Reset Occurred\n",
      "Meter event Nonvolatile Memory Failure Detected\n",
      "Meter event Reset List Pointers\n",
      "Reason is null, ID=3.18.72.85\n",
      "Universal event Unsupported Event(41) with priority Alarm\n"
     ]
    }
   ],
   "source": [
    "curated_reasons = []\n",
    "for reason_i in df_3_18_72_85['reason'].unique().tolist():\n",
    "    curated_reason_i = AMIEndEvents.reduce_end_event_reason(\n",
    "        reason=reason_i, \n",
    "        patterns=dict_3_18_72_85['3.18.72.85']\n",
    "    )\n",
    "#     if curated_reason_i=='Meter event ':\n",
    "#         print(reason_i)\n",
    "    curated_reasons.append(curated_reason_i)\n",
    "curated_reasons = list(set(curated_reasons))\n",
    "print(*sorted(curated_reasons), sep='\\n')"
   ]
  },
  {
   "cell_type": "code",
   "execution_count": 27,
   "id": "d1d8c39a",
   "metadata": {},
   "outputs": [
    {
     "data": {
      "text/plain": [
       "['KV2c meter event Received kWh Caution  (Diagnostic flags = Phase A Voltage)',\n",
       " 'Meter event Demand Reset Occurred',\n",
       " 'Meter event Nonvolatile Memory Failure Detected',\n",
       " 'Meter event Reset List Pointers',\n",
       " 'Reason is null, ID=3.18.72.85',\n",
       " 'Universal event Unsupported Event(41) with priority Alarm']"
      ]
     },
     "execution_count": 27,
     "metadata": {},
     "output_type": "execute_result"
    }
   ],
   "source": [
    "natsorted(curated_reasons)"
   ]
  },
  {
   "cell_type": "code",
   "execution_count": 30,
   "id": "e8588c8f",
   "metadata": {},
   "outputs": [
    {
     "data": {
      "text/plain": [
       "['KV2c meter event Received kWh Caution (Diagnostic flags = Phase A Voltage)',\n",
       " 'Meter event Demand Reset Occurred',\n",
       " 'Meter event Nonvolatile Memory Failure Detected',\n",
       " 'Meter event Reset List Pointers',\n",
       " 'Reason is null, ID=3.18.72.85',\n",
       " 'Universal event Unsupported Event(41) with priority Alarm']"
      ]
     },
     "execution_count": 30,
     "metadata": {},
     "output_type": "execute_result"
    }
   ],
   "source": [
    "natsorted(curated_reasons)"
   ]
  },
  {
   "cell_type": "code",
   "execution_count": null,
   "id": "d829caff",
   "metadata": {},
   "outputs": [],
   "source": [
    "assert(len(set(dict_3_18_72_85.keys()).intersection(set(dict_documented.keys())))==0)\n",
    "dict_documented = {**dict_documented, **dict_3_18_72_85}"
   ]
  },
  {
   "cell_type": "code",
   "execution_count": null,
   "id": "fec6e673",
   "metadata": {},
   "outputs": [],
   "source": [
    "test_str = 'Meter event Nonvolatile Memory Failure Detected  Time event occurred on meter = 07/03/2023 18:37:09  Sequence number = 31521  User id = 0  Event argument = 00-00'\n",
    "pattern = r'(Meter event .*?)\\s*Time event occurred on meter\\s*=.*\\s*Sequence number\\s*=.*\\s*User id\\s*=.*\\s*Event argument\\s*=.*'\n",
    "repl = r'\\1'\n",
    "\n",
    "re.sub(pattern, repl, test_str)"
   ]
  },
  {
   "cell_type": "code",
   "execution_count": null,
   "id": "b8edff9d",
   "metadata": {},
   "outputs": [],
   "source": []
  },
  {
   "cell_type": "code",
   "execution_count": null,
   "id": "c0a2a6f9",
   "metadata": {},
   "outputs": [],
   "source": []
  },
  {
   "cell_type": "markdown",
   "id": "4b7869bf",
   "metadata": {},
   "source": [
    "# '3.18.85.28'"
   ]
  },
  {
   "cell_type": "code",
   "execution_count": null,
   "id": "924b8917",
   "metadata": {},
   "outputs": [],
   "source": [
    "df_3_18_85_28 = pd.read_pickle(ids_with_paths_dict['3.18.85.28'])\n",
    "#-----\n",
    "print(f\"shape[0] = {df_3_18_85_28.shape[0]}\")\n",
    "print(f\"# Unique reasons = {df_3_18_85_28['reason'].nunique()}\")\n",
    "print(df_3_18_85_28['reason'].unique())"
   ]
  },
  {
   "cell_type": "code",
   "execution_count": null,
   "id": "88c4f65d",
   "metadata": {},
   "outputs": [],
   "source": [
    "dict_3_18_85_28 = {\n",
    "        # Examples:\n",
    "        # 'RAM Error cleared for meter 00:13:50:05:ff:0d:dd:17.'\n",
    "        '3.18.85.28':    [\n",
    "            #-----\n",
    "            (r'(RAM Error cleared)(?:(?:\\s*(?:for|on)?\\s*(?:meter)?)?\\s+(?:[0-9a-zA-Z]+)(?:\\:[0-9a-zA-Z]+)+\\.?)', r'\\1')\n",
    "            #-----\n",
    "#             # COULD ALSO DO\n",
    "#             (r'((?:\\s*occurred\\s*)?(?:\\s*(?:for|on)?\\s*(?:meter)?)?\\s+(?:[0-9a-zA-Z]+)(?:\\:[0-9a-zA-Z]+)+[\\s*\\.]*)', '')\n",
    "            #-----\n",
    "        ]\n",
    "}"
   ]
  },
  {
   "cell_type": "code",
   "execution_count": null,
   "id": "5f03664b",
   "metadata": {},
   "outputs": [],
   "source": [
    "curated_reasons = []\n",
    "for reason_i in df_3_18_85_28['reason'].unique().tolist():\n",
    "    curated_reason_i = AMIEndEvents.reduce_end_event_reason(\n",
    "        reason=reason_i, \n",
    "        patterns=dict_3_18_85_28['3.18.85.28']\n",
    "    )\n",
    "    curated_reasons.append(curated_reason_i)\n",
    "curated_reasons = list(set(curated_reasons))\n",
    "print(*curated_reasons, sep='\\n')"
   ]
  },
  {
   "cell_type": "code",
   "execution_count": null,
   "id": "3b1b96db",
   "metadata": {},
   "outputs": [],
   "source": [
    "assert(len(set(dict_3_18_85_28.keys()).intersection(set(dict_documented.keys())))==0)\n",
    "dict_documented = {**dict_documented, **dict_3_18_85_28}"
   ]
  },
  {
   "cell_type": "code",
   "execution_count": null,
   "id": "6f2f5838",
   "metadata": {},
   "outputs": [],
   "source": []
  },
  {
   "cell_type": "code",
   "execution_count": null,
   "id": "3ec94769",
   "metadata": {},
   "outputs": [],
   "source": []
  },
  {
   "cell_type": "code",
   "execution_count": null,
   "id": "a3d02dd5",
   "metadata": {},
   "outputs": [],
   "source": []
  },
  {
   "cell_type": "markdown",
   "id": "0a49d510",
   "metadata": {},
   "source": [
    "# '3.18.85.79'"
   ]
  },
  {
   "cell_type": "code",
   "execution_count": 69,
   "id": "9af69264",
   "metadata": {},
   "outputs": [
    {
     "name": "stdout",
     "output_type": "stream",
     "text": [
      "shape[0] = 1\n",
      "# Unique reasons = 1\n",
      "['RAM Error (C1219 Table 3) occurred for meter 00:13:50:05:ff:0d:dd:17.']\n"
     ]
    }
   ],
   "source": [
    "df_3_18_85_79 = pd.read_pickle(ids_with_paths_dict['3.18.85.79'])\n",
    "#-----\n",
    "print(f\"shape[0] = {df_3_18_85_79.shape[0]}\")\n",
    "print(f\"# Unique reasons = {df_3_18_85_79['reason'].nunique()}\")\n",
    "print(df_3_18_85_79['reason'].unique())"
   ]
  },
  {
   "cell_type": "code",
   "execution_count": 76,
   "id": "04f8a729",
   "metadata": {},
   "outputs": [],
   "source": [
    "dict_3_18_85_79 = {\n",
    "        # Examples\n",
    "        # 'RAM Error (C1219 Table 3) occurred for meter 00:13:50:05:ff:0d:dd:17.'\n",
    "        '3.18.85.79':   [\n",
    "            #-----\n",
    "#             (r'(RAM Error\\s*(?:\\(.*\\))?)\\s*(?:(?:\\s*occurred\\s*)?(?:\\s*(?:for|on)?\\s*(?:meter)?)?\\s+(?:[0-9a-zA-Z]+)(?:\\:[0-9a-zA-Z]+)+\\.?)', r'\\1')\n",
    "            #-----\n",
    "#             # COULD ALSO DO\n",
    "            (r'((?:\\s*occurred\\s*)?(?:\\s*(?:for|on)?\\s*(?:meter)?)?\\s+(?:[0-9a-zA-Z]+)(?:\\:[0-9a-zA-Z]+)+[\\s*\\.]*)', '')\n",
    "            #-----\n",
    "        ]\n",
    "}"
   ]
  },
  {
   "cell_type": "code",
   "execution_count": 77,
   "id": "36511fc9",
   "metadata": {},
   "outputs": [
    {
     "name": "stdout",
     "output_type": "stream",
     "text": [
      "RAM Error (C1219 Table 3)\n"
     ]
    }
   ],
   "source": [
    "curated_reasons = []\n",
    "for reason_i in df_3_18_85_79['reason'].unique().tolist():\n",
    "    curated_reason_i = AMIEndEvents.reduce_end_event_reason(\n",
    "        reason=reason_i, \n",
    "        patterns=dict_3_18_85_79['3.18.85.79']\n",
    "    )\n",
    "    curated_reasons.append(curated_reason_i)\n",
    "curated_reasons = list(set(curated_reasons))\n",
    "print(*curated_reasons, sep='\\n')"
   ]
  },
  {
   "cell_type": "code",
   "execution_count": 72,
   "id": "9c0bf8e3",
   "metadata": {},
   "outputs": [
    {
     "data": {
      "text/plain": [
       "['RAM Error (C1219 Table 3) ']"
      ]
     },
     "execution_count": 72,
     "metadata": {},
     "output_type": "execute_result"
    }
   ],
   "source": [
    "natsorted(curated_reasons)"
   ]
  },
  {
   "cell_type": "code",
   "execution_count": 78,
   "id": "a06582e3",
   "metadata": {},
   "outputs": [
    {
     "data": {
      "text/plain": [
       "['RAM Error (C1219 Table 3)']"
      ]
     },
     "execution_count": 78,
     "metadata": {},
     "output_type": "execute_result"
    }
   ],
   "source": [
    "natsorted(curated_reasons)"
   ]
  },
  {
   "cell_type": "code",
   "execution_count": null,
   "id": "69a03620",
   "metadata": {},
   "outputs": [],
   "source": [
    "assert(len(set(dict_3_18_85_79.keys()).intersection(set(dict_documented.keys())))==0)\n",
    "dict_documented = {**dict_documented, **dict_3_18_85_79}"
   ]
  },
  {
   "cell_type": "code",
   "execution_count": null,
   "id": "6715cef0",
   "metadata": {},
   "outputs": [],
   "source": []
  },
  {
   "cell_type": "code",
   "execution_count": null,
   "id": "20c718cb",
   "metadata": {},
   "outputs": [],
   "source": []
  },
  {
   "cell_type": "code",
   "execution_count": null,
   "id": "22c12938",
   "metadata": {},
   "outputs": [],
   "source": []
  },
  {
   "cell_type": "markdown",
   "id": "86072924",
   "metadata": {},
   "source": [
    "# '3.18.85.85'"
   ]
  },
  {
   "cell_type": "code",
   "execution_count": null,
   "id": "f7b09da0",
   "metadata": {},
   "outputs": [],
   "source": [
    "df_3_18_85_85 = pd.read_pickle(ids_with_paths_dict['3.18.85.85'])\n",
    "#-----\n",
    "print(f\"shape[0] = {df_3_18_85_85.shape[0]}\")\n",
    "print(f\"# Unique reasons = {df_3_18_85_85['reason'].nunique()}\")\n",
    "print(df_3_18_85_85['reason'].unique())"
   ]
  },
  {
   "cell_type": "code",
   "execution_count": null,
   "id": "34bacf54",
   "metadata": {},
   "outputs": [],
   "source": [
    "dict_3_18_85_85 = {\n",
    "        # Examples\n",
    "        # 'Meter detected a RAM failure.'\n",
    "        # 'Meter event Ram Failure Detected  Time event occurred on meter = 7/27/2021 12:45:53 PM  Sequence number = 89  User id = 34891  Event argument = 7D-75'\n",
    "        '3.18.85.85':   [\n",
    "            #-----\n",
    "            (r'(Meter event Ram Failure Detected)\\s*Time event occurred on meter\\s*=.*\\s*Sequence number=.*\\s*User id\\s*=.*\\s*Event argument\\s*=.*', r'\\1'), \n",
    "            #-----\n",
    "            (r'(Meter event Ram Failure Detected).*', r'\\1'),\n",
    "            #-----\n",
    "            (r'(Meter detected a RAM failure).*', 'Meter event Ram Failure Detected'), \n",
    "            #-----\n",
    "        ]\n",
    "}"
   ]
  },
  {
   "cell_type": "code",
   "execution_count": null,
   "id": "4399409f",
   "metadata": {},
   "outputs": [],
   "source": [
    "curated_reasons = []\n",
    "for reason_i in df_3_18_85_85['reason'].unique().tolist():\n",
    "    curated_reason_i = AMIEndEvents.reduce_end_event_reason(\n",
    "        reason=reason_i, \n",
    "        patterns=dict_3_18_85_85['3.18.85.85']\n",
    "    )\n",
    "    curated_reasons.append(curated_reason_i)\n",
    "curated_reasons = list(set(curated_reasons))\n",
    "print(*curated_reasons, sep='\\n')"
   ]
  },
  {
   "cell_type": "code",
   "execution_count": null,
   "id": "0a5ae4e2",
   "metadata": {},
   "outputs": [],
   "source": [
    "assert(len(set(dict_3_18_85_85.keys()).intersection(set(dict_documented.keys())))==0)\n",
    "dict_documented = {**dict_documented, **dict_3_18_85_85}"
   ]
  },
  {
   "cell_type": "code",
   "execution_count": null,
   "id": "e76a0223",
   "metadata": {},
   "outputs": [],
   "source": []
  },
  {
   "cell_type": "code",
   "execution_count": null,
   "id": "12cb9e8a",
   "metadata": {},
   "outputs": [],
   "source": []
  },
  {
   "cell_type": "code",
   "execution_count": null,
   "id": "d385d848",
   "metadata": {},
   "outputs": [],
   "source": []
  },
  {
   "cell_type": "markdown",
   "id": "02911d0b",
   "metadata": {},
   "source": [
    "# '3.18.92.28'"
   ]
  },
  {
   "cell_type": "code",
   "execution_count": null,
   "id": "42893841",
   "metadata": {},
   "outputs": [],
   "source": [
    "df_3_18_92_28 = pd.read_pickle(ids_with_paths_dict['3.18.92.28'])\n",
    "#-----\n",
    "print(f\"shape[0] = {df_3_18_92_28.shape[0]}\")\n",
    "print(f\"# Unique reasons = {df_3_18_92_28['reason'].nunique()}\")\n",
    "print(df_3_18_92_28['reason'].unique())"
   ]
  },
  {
   "cell_type": "code",
   "execution_count": null,
   "id": "73348b84",
   "metadata": {},
   "outputs": [],
   "source": [
    "dict_3_18_92_28 = {\n",
    "        # Examples\n",
    "        # 'ROM Error (C1219 Table 3) occurred for meter 00:13:50:05:ff:1f:ba:d0.'\n",
    "        '3.18.92.28':   [\n",
    "            #-----\n",
    "            (r'(ROM Error cleared)(?:(?:\\s*(?:for|on)?\\s*(?:meter)?)?\\s+(?:[0-9a-zA-Z]+)(?:\\:[0-9a-zA-Z]+)+\\.?)', r'\\1')\n",
    "            #-----\n",
    "#             # COULD ALSO DO\n",
    "#             (r'((?:\\s*occurred\\s*)?(?:\\s*(?:for|on)?\\s*(?:meter)?)?\\s+(?:[0-9a-zA-Z]+)(?:\\:[0-9a-zA-Z]+)+[\\s*\\.]*)', '')\n",
    "            #-----\n",
    "        ]\n",
    "}\n"
   ]
  },
  {
   "cell_type": "code",
   "execution_count": null,
   "id": "5ebbedd9",
   "metadata": {},
   "outputs": [],
   "source": [
    "curated_reasons = []\n",
    "for reason_i in df_3_18_92_28['reason'].unique().tolist():\n",
    "    curated_reason_i = AMIEndEvents.reduce_end_event_reason(\n",
    "        reason=reason_i, \n",
    "        patterns=dict_3_18_92_28['3.18.92.28']\n",
    "    )\n",
    "    curated_reasons.append(curated_reason_i)\n",
    "curated_reasons = list(set(curated_reasons))\n",
    "print(*curated_reasons, sep='\\n')"
   ]
  },
  {
   "cell_type": "code",
   "execution_count": null,
   "id": "d146febf",
   "metadata": {},
   "outputs": [],
   "source": [
    "assert(len(set(dict_3_18_92_28.keys()).intersection(set(dict_documented.keys())))==0)\n",
    "dict_documented = {**dict_documented, **dict_3_18_92_28}"
   ]
  },
  {
   "cell_type": "code",
   "execution_count": null,
   "id": "fb0cdaac",
   "metadata": {},
   "outputs": [],
   "source": []
  },
  {
   "cell_type": "code",
   "execution_count": null,
   "id": "e8bcab81",
   "metadata": {},
   "outputs": [],
   "source": []
  },
  {
   "cell_type": "code",
   "execution_count": null,
   "id": "94c1450f",
   "metadata": {},
   "outputs": [],
   "source": []
  },
  {
   "cell_type": "markdown",
   "id": "b3e3c153",
   "metadata": {},
   "source": [
    "# '3.18.92.79'"
   ]
  },
  {
   "cell_type": "code",
   "execution_count": 79,
   "id": "b9b172de",
   "metadata": {},
   "outputs": [
    {
     "name": "stdout",
     "output_type": "stream",
     "text": [
      "shape[0] = 29\n",
      "# Unique reasons = 26\n",
      "['ROM Error (C1219 Table 3) occurred for meter 00:13:50:05:ff:1f:ba:d0.'\n",
      " 'ROM Error (C1219 Table 3) occurred for meter 00:13:50:05:ff:1b:35:ed.'\n",
      " 'ROM Error (C1219 Table 3) occurred for meter 00:13:50:05:ff:0f:6e:8e.'\n",
      " 'ROM Error (C1219 Table 3) occurred for meter 00:13:50:05:ff:1b:3e:4e.'\n",
      " 'ROM Error (C1219 Table 3) occurred for meter 00:13:50:05:ff:1b:6e:54.'\n",
      " 'ROM Error (C1219 Table 3) occurred for meter 00:13:50:05:ff:04:1a:66.'\n",
      " 'ROM Error (C1219 Table 3) occurred for meter 00:13:50:05:ff:1b:27:df.'\n",
      " 'ROM Error (C1219 Table 3) occurred for meter 00:13:50:05:ff:0f:6e:d0.'\n",
      " 'ROM Error (C1219 Table 3) occurred for meter 00:13:50:05:ff:13:c1:55.'\n",
      " 'ROM Error (C1219 Table 3) occurred for meter 00:13:50:05:ff:0f:0e:34.'\n",
      " 'ROM Error (C1219 Table 3) occurred for meter 00:13:50:05:ff:1b:3c:9a.'\n",
      " 'ROM Error (C1219 Table 3) occurred for meter 00:13:50:05:ff:1f:c7:11.'\n",
      " 'ROM Error (C1219 Table 3) occurred for meter 00:13:50:05:ff:1f:c2:93.'\n",
      " 'ROM Error (C1219 Table 3) occurred for meter 00:13:50:05:ff:23:a7:5b.'\n",
      " 'ROM Error (C1219 Table 3) occurred for meter 00:13:50:05:ff:0d:dd:17.'\n",
      " 'ROM Error (C1219 Table 3) occurred for meter 00:13:50:05:ff:1b:1c:b1.'\n",
      " 'ROM Error (C1219 Table 3) occurred for meter 00:13:50:05:ff:2c:f6:f9.'\n",
      " 'ROM Error (C1219 Table 3) occurred for meter 00:13:50:03:ff:06:78:77.'\n",
      " 'ROM Error (C1219 Table 3) occurred for meter 00:13:50:05:ff:11:7c:3e.'\n",
      " 'ROM Error (C1219 Table 3) occurred for meter 00:13:50:03:ff:06:d4:c7.'\n",
      " 'ROM Error (C1219 Table 3) occurred for meter 00:13:50:03:ff:06:0d:f6.'\n",
      " 'ROM Error (C1219 Table 3) occurred for meter 00:13:50:03:ff:02:2e:95.'\n",
      " 'ROM Error (C1219 Table 3) occurred for meter 00:13:50:05:ff:02:82:8c.'\n",
      " 'ROM Error (C1219 Table 3) occurred for meter 00:13:50:05:ff:02:7f:04.'\n",
      " 'ROM Error (C1219 Table 3) occurred for meter 00:13:50:05:ff:02:68:cb.'\n",
      " 'ROM Error (C1219 Table 3) occurred for meter 00:13:50:05:ff:01:f1:95.']\n"
     ]
    }
   ],
   "source": [
    "df_3_18_92_79 = pd.read_pickle(ids_with_paths_dict['3.18.92.79'])\n",
    "#-----\n",
    "print(f\"shape[0] = {df_3_18_92_79.shape[0]}\")\n",
    "print(f\"# Unique reasons = {df_3_18_92_79['reason'].nunique()}\")\n",
    "print(df_3_18_92_79['reason'].unique())"
   ]
  },
  {
   "cell_type": "code",
   "execution_count": 86,
   "id": "84b4020f",
   "metadata": {},
   "outputs": [],
   "source": [
    "dict_3_18_92_79 = {\n",
    "        # Examples\n",
    "        # 'ROM Error (C1219 Table 3) occurred for meter 00:13:50:05:ff:1f:ba:d0.'\n",
    "        '3.18.92.79':   [\n",
    "            #-----\n",
    "#             (r'(ROM Error\\s*(?:\\(.*\\))?)\\s*(?:(?:\\s*occurred\\s*)?(?:\\s*(?:for|on)?\\s*(?:meter)?)?\\s+(?:[0-9a-zA-Z]+)(?:\\:[0-9a-zA-Z]+)+\\.?)', r'\\1')\n",
    "            #-----\n",
    "#             # COULD ALSO DO\n",
    "            (r'((?:\\s*occurred\\s*)?(?:\\s*(?:for|on)?\\s*(?:meter)?)?\\s+(?:[0-9a-zA-Z]+)(?:\\:[0-9a-zA-Z]+)+[\\s*\\.]*)', '')\n",
    "            #-----\n",
    "        ]\n",
    "}"
   ]
  },
  {
   "cell_type": "code",
   "execution_count": 87,
   "id": "258c82c2",
   "metadata": {},
   "outputs": [
    {
     "name": "stdout",
     "output_type": "stream",
     "text": [
      "ROM Error (C1219 Table 3)\n"
     ]
    }
   ],
   "source": [
    "curated_reasons = []\n",
    "for reason_i in df_3_18_92_79['reason'].unique().tolist():\n",
    "    curated_reason_i = AMIEndEvents.reduce_end_event_reason(\n",
    "        reason=reason_i, \n",
    "        patterns=dict_3_18_92_79['3.18.92.79']\n",
    "    )\n",
    "    curated_reasons.append(curated_reason_i)\n",
    "curated_reasons = list(set(curated_reasons))\n",
    "print(*curated_reasons, sep='\\n')"
   ]
  },
  {
   "cell_type": "code",
   "execution_count": 82,
   "id": "5a32bde4",
   "metadata": {},
   "outputs": [
    {
     "data": {
      "text/plain": [
       "['ROM Error (C1219 Table 3) ']"
      ]
     },
     "execution_count": 82,
     "metadata": {},
     "output_type": "execute_result"
    }
   ],
   "source": [
    "natsorted(curated_reasons)"
   ]
  },
  {
   "cell_type": "code",
   "execution_count": 88,
   "id": "497f429f",
   "metadata": {},
   "outputs": [
    {
     "data": {
      "text/plain": [
       "['ROM Error (C1219 Table 3)']"
      ]
     },
     "execution_count": 88,
     "metadata": {},
     "output_type": "execute_result"
    }
   ],
   "source": [
    "natsorted(curated_reasons)"
   ]
  },
  {
   "cell_type": "code",
   "execution_count": null,
   "id": "197d122c",
   "metadata": {},
   "outputs": [],
   "source": [
    "assert(len(set(dict_3_18_92_79.keys()).intersection(set(dict_documented.keys())))==0)\n",
    "dict_documented = {**dict_documented, **dict_3_18_92_79}"
   ]
  },
  {
   "cell_type": "code",
   "execution_count": null,
   "id": "2c54e5a1",
   "metadata": {},
   "outputs": [],
   "source": []
  },
  {
   "cell_type": "code",
   "execution_count": null,
   "id": "2fd25a3c",
   "metadata": {},
   "outputs": [],
   "source": []
  },
  {
   "cell_type": "code",
   "execution_count": null,
   "id": "744f1ece",
   "metadata": {},
   "outputs": [],
   "source": []
  },
  {
   "cell_type": "markdown",
   "id": "213307d0",
   "metadata": {},
   "source": [
    "# '3.18.92.85'"
   ]
  },
  {
   "cell_type": "code",
   "execution_count": null,
   "id": "dd989fb1",
   "metadata": {},
   "outputs": [],
   "source": [
    "df_3_18_92_85 = pd.read_pickle(ids_with_paths_dict['3.18.92.85'])\n",
    "#-----\n",
    "print(f\"shape[0] = {df_3_18_92_85.shape[0]}\")\n",
    "print(f\"# Unique reasons = {df_3_18_92_85['reason'].nunique()}\")\n",
    "print(df_3_18_92_85['reason'].unique())"
   ]
  },
  {
   "cell_type": "code",
   "execution_count": null,
   "id": "ea683b14",
   "metadata": {},
   "outputs": [],
   "source": [
    "dict_3_18_92_85 = {\n",
    "        #-------------------------\n",
    "        # Examples\n",
    "        # 'Meter event Rom Failure Detected  Time event occurred on meter = 03/16/2020 07:00:51  Sequence number = 1983  User id = 1024  Event argument = 00-00'\n",
    "        # 'Meter detected a ROM failure.'\n",
    "        # 'ROM failure detected.'\n",
    "        '3.18.92.85':    [\n",
    "            #-----\n",
    "            (r'(Meter event Rom Failure Detected)\\s*Time event occurred on meter\\s*=.*\\s*Sequence number\\s*=.*\\s*User id\\s*=.*\\s*Event argument\\s*=.*', r'\\1'), \n",
    "            #-----\n",
    "            (r'(Meter event Rom Failure Detected).*', r'\\1'),\n",
    "            #-----\n",
    "            (r'^(?:Meter detected a ROM failure|ROM failure detected).*$', 'Meter event Rom Failure Detected'), \n",
    "            #-----\n",
    "        ]\n",
    "}"
   ]
  },
  {
   "cell_type": "code",
   "execution_count": null,
   "id": "790c00aa",
   "metadata": {},
   "outputs": [],
   "source": [
    "curated_reasons = []\n",
    "for reason_i in df_3_18_92_85['reason'].unique().tolist():\n",
    "    curated_reason_i = AMIEndEvents.reduce_end_event_reason(\n",
    "        reason=reason_i, \n",
    "        patterns=dict_3_18_92_85['3.18.92.85']\n",
    "    )\n",
    "    curated_reasons.append(curated_reason_i)\n",
    "curated_reasons = list(set(curated_reasons))\n",
    "print(*curated_reasons, sep='\\n')"
   ]
  },
  {
   "cell_type": "code",
   "execution_count": null,
   "id": "f754f93c",
   "metadata": {},
   "outputs": [],
   "source": [
    "assert(len(set(dict_3_18_92_85.keys()).intersection(set(dict_documented.keys())))==0)\n",
    "dict_documented = {**dict_documented, **dict_3_18_92_85}"
   ]
  },
  {
   "cell_type": "code",
   "execution_count": null,
   "id": "1f4f92e3",
   "metadata": {},
   "outputs": [],
   "source": []
  },
  {
   "cell_type": "code",
   "execution_count": null,
   "id": "419a8093",
   "metadata": {},
   "outputs": [],
   "source": []
  },
  {
   "cell_type": "code",
   "execution_count": null,
   "id": "475440cf",
   "metadata": {},
   "outputs": [],
   "source": []
  },
  {
   "cell_type": "markdown",
   "id": "160cf63d",
   "metadata": {},
   "source": [
    "# '3.21.1.79'"
   ]
  },
  {
   "cell_type": "code",
   "execution_count": null,
   "id": "0eb33e72",
   "metadata": {},
   "outputs": [],
   "source": [
    "df_3_21_1_79 = pd.read_pickle(ids_with_paths_dict['3.21.1.79'])\n",
    "#-----\n",
    "print(f\"shape[0] = {df_3_21_1_79.shape[0]}\")\n",
    "print(f\"# Unique reasons = {df_3_21_1_79['reason'].nunique()}\")\n",
    "print(df_3_21_1_79['reason'].unique())"
   ]
  },
  {
   "cell_type": "code",
   "execution_count": null,
   "id": "9396876e",
   "metadata": {},
   "outputs": [],
   "source": [
    "dict_3_21_1_79 = {\n",
    "        # Examples\n",
    "        # 'Meter event Measurement Error Detected  Time event occurred on meter = 08/26/2021 08:27:25  Sequence number = 307  User id = 0  Event argument = 00-00 '\n",
    "        '3.21.1.79':    [\n",
    "            #-----\n",
    "            (r'(Meter event Measurement Error Detected)\\s*Time event occurred on meter\\s*=.*\\s*Sequence number\\s*=.*\\s*User id\\s*=.*\\s*Event argument\\s*=.*', r'\\1'), \n",
    "            #-----\n",
    "            (r'(Meter event Measurement Error Detected).*', r'\\1'), #Fail proof, in case time, sequence, etc., not found \n",
    "            #-----\n",
    "            (r'(Meter detected a measurement error).*', 'Meter event Measurement Error Detected')\n",
    "            #-----\n",
    "        ]\n",
    "}"
   ]
  },
  {
   "cell_type": "code",
   "execution_count": null,
   "id": "b982c954",
   "metadata": {},
   "outputs": [],
   "source": [
    "curated_reasons = []\n",
    "for reason_i in df_3_21_1_79['reason'].unique().tolist():\n",
    "    curated_reason_i = AMIEndEvents.reduce_end_event_reason(\n",
    "        reason=reason_i, \n",
    "        patterns=dict_3_21_1_79['3.21.1.79']\n",
    "    )\n",
    "    curated_reasons.append(curated_reason_i)\n",
    "curated_reasons = list(set(curated_reasons))\n",
    "print(*curated_reasons, sep='\\n')"
   ]
  },
  {
   "cell_type": "code",
   "execution_count": null,
   "id": "ffd579fe",
   "metadata": {},
   "outputs": [],
   "source": [
    "assert(len(set(dict_3_21_1_79.keys()).intersection(set(dict_documented.keys())))==0)\n",
    "dict_documented = {**dict_documented, **dict_3_21_1_79}"
   ]
  },
  {
   "cell_type": "code",
   "execution_count": null,
   "id": "29d744ba",
   "metadata": {},
   "outputs": [],
   "source": []
  },
  {
   "cell_type": "code",
   "execution_count": null,
   "id": "71826555",
   "metadata": {},
   "outputs": [],
   "source": []
  },
  {
   "cell_type": "code",
   "execution_count": null,
   "id": "2adf1e9e",
   "metadata": {},
   "outputs": [],
   "source": []
  },
  {
   "cell_type": "markdown",
   "id": "80af04de",
   "metadata": {},
   "source": [
    "# '3.21.1.173'"
   ]
  },
  {
   "cell_type": "code",
   "execution_count": null,
   "id": "ae3a925b",
   "metadata": {},
   "outputs": [],
   "source": [
    "df_3_21_1_173 = pd.read_pickle(ids_with_paths_dict['3.21.1.173'])\n",
    "#-----\n",
    "print(f\"shape[0] = {df_3_21_1_173.shape[0]}\")\n",
    "print(f\"# Unique reasons = {df_3_21_1_173['reason'].nunique()}\")\n",
    "print(df_3_21_1_173['reason'].unique())"
   ]
  },
  {
   "cell_type": "code",
   "execution_count": null,
   "id": "2130f2cf",
   "metadata": {},
   "outputs": [],
   "source": [
    "dict_3_21_1_173 = {\n",
    "        # Examples\n",
    "        # 'Meter event Nonvolatile Memory Failure Detected  Time event occurred on meter = 08/30/2021 04:00:11  Sequence number = 3256  User id = 0  Event argument = 00-00 '\n",
    "        '3.21.1.173':    [\n",
    "            #-----\n",
    "            (r'(Meter event Nonvolatile Memory Failure Detected)\\s*Time event occurred on meter\\s*=.*\\s*Sequence number\\s*=.*\\s*User id\\s*=.*\\s*Event argument\\s*=.*', r'\\1'), \n",
    "            #-----\n",
    "            (r'(Meter event Nonvolatile Memory Failure Detected).*', r'\\1'),\n",
    "            #-----\n",
    "            (r'(Meter detected a nonvolatile memory failure).*', 'Meter event Nonvolatile Memory Failure Detected'), \n",
    "            #-----\n",
    "        ]\n",
    "}"
   ]
  },
  {
   "cell_type": "code",
   "execution_count": null,
   "id": "d5633388",
   "metadata": {},
   "outputs": [],
   "source": [
    "curated_reasons = []\n",
    "for reason_i in df_3_21_1_173['reason'].unique().tolist():\n",
    "    curated_reason_i = AMIEndEvents.reduce_end_event_reason(\n",
    "        reason=reason_i, \n",
    "        patterns=dict_3_21_1_173['3.21.1.173']\n",
    "    )\n",
    "    curated_reasons.append(curated_reason_i)\n",
    "curated_reasons = list(set(curated_reasons))\n",
    "print(*curated_reasons, sep='\\n')"
   ]
  },
  {
   "cell_type": "code",
   "execution_count": null,
   "id": "c678360b",
   "metadata": {},
   "outputs": [],
   "source": [
    "assert(len(set(dict_3_21_1_173.keys()).intersection(set(dict_documented.keys())))==0)\n",
    "dict_documented = {**dict_documented, **dict_3_21_1_173}"
   ]
  },
  {
   "cell_type": "code",
   "execution_count": null,
   "id": "9a05bdb1",
   "metadata": {},
   "outputs": [],
   "source": []
  },
  {
   "cell_type": "code",
   "execution_count": null,
   "id": "7a90ce14",
   "metadata": {},
   "outputs": [],
   "source": []
  },
  {
   "cell_type": "code",
   "execution_count": null,
   "id": "daf45c37",
   "metadata": {},
   "outputs": [],
   "source": []
  },
  {
   "cell_type": "markdown",
   "id": "f7d95042",
   "metadata": {},
   "source": [
    "# '3.21.3.28'"
   ]
  },
  {
   "cell_type": "code",
   "execution_count": null,
   "id": "dbffc398",
   "metadata": {},
   "outputs": [],
   "source": [
    "df_3_21_3_28 = pd.read_pickle(ids_with_paths_dict['3.21.3.28'])\n",
    "#-----\n",
    "print(f\"shape[0] = {df_3_21_3_28.shape[0]}\")\n",
    "print(f\"# Unique reasons = {df_3_21_3_28['reason'].nunique()}\")\n",
    "print(df_3_21_3_28['reason'].unique())"
   ]
  },
  {
   "cell_type": "code",
   "execution_count": null,
   "id": "e76a7215",
   "metadata": {},
   "outputs": [],
   "source": [
    "dict_3_21_3_28 = {\n",
    "        # Examples\n",
    "        # 'System Error cleared for meter 00:13:50:05:ff:11:2d:23.'\n",
    "        '3.21.3.28':    [\n",
    "            #-----\n",
    "            (r'(System Error cleared)(?:(?:\\s*(?:for|on)?\\s*(?:meter)?)?\\s+(?:[0-9a-zA-Z]+)(?:\\:[0-9a-zA-Z]+)+\\.?)', r'\\1')\n",
    "            #-----\n",
    "#             # COULD ALSO DO\n",
    "#             (r'((?:\\s*occurred\\s*)?(?:\\s*(?:for|on)?\\s*(?:meter)?)?\\s+(?:[0-9a-zA-Z]+)(?:\\:[0-9a-zA-Z]+)+[\\s*\\.]*)', '')\n",
    "            #-----\n",
    "        ]\n",
    "}"
   ]
  },
  {
   "cell_type": "code",
   "execution_count": null,
   "id": "8d011574",
   "metadata": {},
   "outputs": [],
   "source": [
    "curated_reasons = []\n",
    "for reason_i in df_3_21_3_28['reason'].unique().tolist():\n",
    "    curated_reason_i = AMIEndEvents.reduce_end_event_reason(\n",
    "        reason=reason_i, \n",
    "        patterns=dict_3_21_3_28['3.21.3.28']\n",
    "    )\n",
    "    curated_reasons.append(curated_reason_i)\n",
    "curated_reasons = list(set(curated_reasons))\n",
    "print(*curated_reasons, sep='\\n')"
   ]
  },
  {
   "cell_type": "code",
   "execution_count": null,
   "id": "3120711f",
   "metadata": {},
   "outputs": [],
   "source": [
    "assert(len(set(dict_3_21_3_28.keys()).intersection(set(dict_documented.keys())))==0)\n",
    "dict_documented = {**dict_documented, **dict_3_21_3_28}"
   ]
  },
  {
   "cell_type": "code",
   "execution_count": null,
   "id": "4e3cca46",
   "metadata": {},
   "outputs": [],
   "source": []
  },
  {
   "cell_type": "code",
   "execution_count": null,
   "id": "30825435",
   "metadata": {},
   "outputs": [],
   "source": []
  },
  {
   "cell_type": "code",
   "execution_count": null,
   "id": "186e5235",
   "metadata": {},
   "outputs": [],
   "source": []
  },
  {
   "cell_type": "markdown",
   "id": "7d3ea482",
   "metadata": {},
   "source": [
    "# '3.21.3.79'"
   ]
  },
  {
   "cell_type": "code",
   "execution_count": 89,
   "id": "dea5a41c",
   "metadata": {},
   "outputs": [
    {
     "name": "stdout",
     "output_type": "stream",
     "text": [
      "shape[0] = 209\n",
      "# Unique reasons = 204\n",
      "['System Error (C1219 Table 3: Er000020) occurred for meter 00:13:50:05:ff:0f:17:ba.'\n",
      " 'System Error (C1219 Table 3: Er000020) occurred for meter 00:13:50:05:ff:07:6a:3f.'\n",
      " 'System Error (C1219 Table 3: Er000020) occurred for meter 00:13:50:05:ff:14:cb:05.'\n",
      " 'System Error (C1219 Table 3: Er000020) occurred for meter 00:13:50:05:ff:11:7f:dd.'\n",
      " 'System Error (C1219 Table 3: Er000020) occurred for meter 00:13:50:05:ff:11:8e:70.'\n",
      " 'System Error (C1219 Table 3: Er000020) occurred for meter 00:13:50:05:ff:14:cb:09.'\n",
      " 'System Error (C1219 Table 3: Er000020) occurred for meter 00:13:50:05:ff:25:b0:3d.'\n",
      " 'System Error (C1219 Table 3: Er000020) occurred for meter 00:13:50:05:ff:0f:0d:e1.'\n",
      " 'System Error (C1219 Table 3: Er000020) occurred for meter 00:13:50:05:ff:14:d2:a6.'\n",
      " 'System Error (C1219 Table 3: Er000020) occurred for meter 00:13:50:05:ff:0f:0d:e3.'\n",
      " 'System Error (C1219 Table 3: Er000020) occurred for meter 00:13:50:05:ff:0f:03:18.'\n",
      " 'System Error (C1219 Table 3: Er000020) occurred for meter 00:13:50:05:ff:24:b8:2f.'\n",
      " 'System Error (C1219 Table 3: Er000020) occurred for meter 00:13:50:05:ff:25:7f:9a.'\n",
      " 'System Error (C1219 Table 3: Er000020) occurred for meter 00:13:50:08:ff:00:05:f1.'\n",
      " 'System Error (C1219 Table 3: Er000020) occurred for meter 00:13:50:05:ff:05:0a:58.'\n",
      " 'System Error (C1219 Table 3: Er000020) occurred for meter 00:13:50:05:ff:1e:d8:5b.'\n",
      " 'System Error (C1219 Table 3: Er000020) occurred for meter 00:13:50:05:ff:1e:05:7d.'\n",
      " 'System Error (C1219 Table 3: Er000020) occurred for meter 00:13:50:01:01:03:93:4c.'\n",
      " 'System Error (C1219 Table 3: Er000020) occurred for meter 00:13:50:05:ff:1c:f7:b4.'\n",
      " 'System Error (C1219 Table 3: Er000020) occurred for meter 00:13:50:05:ff:08:dd:fc.'\n",
      " 'System Error (C1219 Table 3: Er000020) occurred for meter 00:13:50:05:ff:1d:38:ba.'\n",
      " 'System Error (C1219 Table 3: Er000020) occurred for meter 00:13:50:05:ff:00:2f:09.'\n",
      " 'System Error (C1219 Table 3: Er000020) occurred for meter 00:13:50:05:ff:00:4d:39.'\n",
      " 'System Error (C1219 Table 3: Er000020) occurred for meter 00:13:50:05:ff:07:16:57.'\n",
      " 'System Error (C1219 Table 3: Er000020) occurred for meter 00:13:50:05:ff:01:2d:dc.'\n",
      " 'System Error (C1219 Table 3: Er000020) occurred for meter 00:13:50:05:ff:0a:3c:a6.'\n",
      " 'System Error (C1219 Table 3: Er000020) occurred for meter 00:13:50:05:ff:07:61:af.'\n",
      " 'System Error (C1219 Table 3: Er000020) occurred for meter 00:13:50:05:ff:13:f0:74.'\n",
      " 'System Error (C1219 Table 3: Er000020) occurred for meter 00:13:50:05:ff:05:24:ae.'\n",
      " 'System Error (C1219 Table 3: Er000020) occurred for meter 00:13:50:05:ff:06:f7:f3.'\n",
      " 'System Error (C1219 Table 3: Er000020) occurred for meter 00:13:50:05:ff:0b:62:0a.'\n",
      " 'System Error (C1219 Table 3: Er000020) occurred for meter 00:13:50:03:ff:03:52:f3.'\n",
      " 'System Error (C1219 Table 3: Er000020) occurred for meter 00:13:50:05:ff:12:dc:fd.'\n",
      " 'System Error (C1219 Table 3: Er000020) occurred for meter 00:13:50:01:00:a7:91:e9.'\n",
      " 'System Error (C1219 Table 3: Er000020) occurred for meter 00:13:50:05:ff:15:43:79.'\n",
      " 'System Error (C1219 Table 3: Er000020) occurred for meter 00:13:50:05:ff:0d:fa:f6.'\n",
      " 'System Error (C1219 Table 3: Er000020) occurred for meter 00:13:50:05:ff:21:9a:91.'\n",
      " 'System Error (C1219 Table 3: Er000020) occurred for meter 00:13:50:05:ff:19:bb:fb.'\n",
      " 'System Error (C1219 Table 3: Er000020) occurred for meter 00:13:50:05:ff:1b:9d:1c.'\n",
      " 'System Error (C1219 Table 3: Er000020) occurred for meter 00:13:50:05:ff:0f:6e:8e.'\n",
      " 'System Error (C1219 Table 3: Er000020) occurred for meter 00:13:50:05:ff:0a:3d:78.'\n",
      " 'System Error (C1219 Table 3: Er000020) occurred for meter 00:13:50:05:ff:00:2e:85.'\n",
      " 'System Error (C1219 Table 3: Er000020) occurred for meter 00:13:50:05:ff:1b:3e:4e.'\n",
      " 'System Error (C1219 Table 3: Er000020) occurred for meter 00:13:50:05:ff:1b:6e:54.'\n",
      " 'System Error (C1219 Table 3: Er000020) occurred for meter 00:13:50:05:ff:04:1a:66.'\n",
      " 'System Error (C1219 Table 3: Er000020) occurred for meter 00:13:50:05:ff:09:1c:1d.'\n",
      " 'System Error (C1219 Table 3: Er000020) occurred for meter 00:13:50:05:ff:13:32:e2.'\n",
      " 'System Error (C1219 Table 3: Er000020) occurred for meter 00:13:50:05:ff:0f:2d:8c.'\n",
      " 'System Error (C1219 Table 3: Er000020) occurred for meter 00:13:50:05:ff:14:c8:8b.'\n",
      " 'System Error (C1219 Table 3: Er000020) occurred for meter 00:13:50:05:ff:08:c1:fb.'\n",
      " 'System Error (C1219 Table 3: Er000020) occurred for meter 00:13:50:05:ff:0f:d5:bc.'\n",
      " 'System Error (C1219 Table 3: Er000020) occurred for meter 00:13:50:05:ff:1b:4c:65.'\n",
      " 'System Error (C1219 Table 3: Er000020) occurred for meter 00:13:50:05:ff:20:1c:59.'\n",
      " 'System Error (C1219 Table 3: Er000020) occurred for meter 00:13:50:05:ff:01:43:c5.'\n",
      " 'System Error (C1219 Table 3: Er000020) occurred for meter 00:13:50:05:ff:1b:27:df.'\n",
      " 'System Error (C1219 Table 3: Er000020) occurred for meter 00:13:50:03:ff:01:e3:38.'\n",
      " 'System Error (C1219 Table 3: Er000020) occurred for meter 00:13:50:05:ff:11:40:99.'\n",
      " 'System Error (C1219 Table 3: Er000020) occurred for meter 00:13:50:05:ff:0d:c8:e3.'\n",
      " 'System Error (C1219 Table 3: Er000020) occurred for meter 00:13:50:05:ff:17:10:44.'\n",
      " 'System Error (C1219 Table 3: Er000020) occurred for meter 00:13:50:05:ff:18:ba:33.'\n",
      " 'System Error (C1219 Table 3: Er000020) occurred for meter 00:13:50:05:ff:20:47:43.'\n",
      " 'System Error (C1219 Table 3: Er000020) occurred for meter 00:13:50:05:ff:00:0b:23.'\n",
      " 'System Error (C1219 Table 3: Er000020) occurred for meter 00:13:50:05:ff:17:10:ff.'\n",
      " 'System Error (C1219 Table 3: Er000020) occurred for meter 00:13:50:03:ff:04:ab:24.'\n",
      " 'System Error (C1219 Table 3: Er000020) occurred for meter 00:13:50:05:ff:0d:f0:dd.'\n",
      " 'System Error (C1219 Table 3: Er000020) occurred for meter 00:13:50:05:ff:05:8b:6a.'\n",
      " 'System Error (C1219 Table 3: Er000020) occurred for meter 00:13:50:03:ff:04:68:2e.'\n",
      " 'System Error (C1219 Table 3: Er000020) occurred for meter 00:13:50:05:ff:21:92:9c.'\n",
      " 'System Error (C1219 Table 3: Er000020) occurred for meter 00:13:50:05:ff:0b:4d:17.'\n",
      " 'System Error (C1219 Table 3: Er000020) occurred for meter 00:13:50:05:ff:0d:b4:ba.'\n",
      " 'System Error (C1219 Table 3: Er000020) occurred for meter 00:13:50:03:ff:04:c9:bf.'\n",
      " 'System Error (C1219 Table 3: Er000020) occurred for meter 00:13:50:05:ff:06:24:29.'\n",
      " 'System Error (C1219 Table 3: Er000020) occurred for meter 00:13:50:05:ff:1c:39:86.'\n",
      " 'System Error (C1219 Table 3: Er000020) occurred for meter 00:13:50:05:ff:22:63:4a.'\n",
      " 'System Error (C1219 Table 3: Er000020) occurred for meter 00:13:50:05:ff:04:be:4c.'\n",
      " 'System Error (C1219 Table 3: Er000020) occurred for meter 00:13:50:05:ff:0f:8e:0d.'\n",
      " 'System Error (C1219 Table 3: Er000020) occurred for meter 00:13:50:03:ff:04:a4:0d.'\n",
      " 'System Error (C1219 Table 3: Er000020) occurred for meter 00:13:50:05:ff:2e:17:7e.'\n",
      " 'System Error (C1219 Table 3: Er000020) occurred for meter 00:13:50:03:ff:03:6d:27.'\n",
      " 'System Error (C1219 Table 3: Er000020) occurred for meter 00:13:50:05:ff:13:c1:55.'\n",
      " 'System Error (C1219 Table 3: Er000020) occurred for meter 00:13:50:05:ff:1f:c7:11.'\n",
      " 'System Error (C1219 Table 3: Er000020) occurred for meter 00:13:50:05:ff:0f:0e:34.'\n",
      " 'System Error (C1219 Table 3: Er000020) occurred for meter 00:13:50:05:ff:1b:3c:9a.'\n",
      " 'System Error (C1219 Table 3: Er000020) occurred for meter 00:13:50:05:ff:20:1b:2d.'\n",
      " 'System Error (C1219 Table 3: Er000020) occurred for meter 00:13:50:05:ff:0d:4b:56.'\n",
      " 'System Error (C1219 Table 3: Er000020) occurred for meter 00:13:50:05:ff:24:1a:d2.'\n",
      " 'System Error (C1219 Table 3: Er000020) occurred for meter 00:13:50:05:ff:0d:18:bc.'\n",
      " 'System Error (C1219 Table 3: Er000020) occurred for meter 00:13:50:05:ff:09:00:ba.'\n",
      " 'System Error (C1219 Table 3: Er000020) occurred for meter 00:13:50:05:ff:27:53:ac.'\n",
      " 'System Error (C1219 Table 3: Er000020) occurred for meter 00:13:50:05:ff:19:7b:2f.'\n",
      " 'System Error (C1219 Table 3: Er000020) occurred for meter 00:13:50:05:ff:01:3e:9f.'\n",
      " 'System Error (C1219 Table 3: Er000020) occurred for meter 00:13:50:05:ff:14:9c:d0.'\n",
      " 'System Error (C1219 Table 3: Er000020) occurred for meter 00:13:50:05:ff:23:a7:5b.'\n",
      " 'System Error (C1219 Table 3: Er000020) occurred for meter 00:13:50:05:ff:33:65:5e.'\n",
      " 'System Error (C1219 Table 3: Er000020) occurred for meter 00:13:50:05:ff:18:59:bd.'\n",
      " 'System Error (C1219 Table 3: Er000020) occurred for meter 00:13:50:05:ff:1c:14:ff.'\n",
      " 'System Error (C1219 Table 3: Er000020) occurred for meter 00:13:50:05:ff:27:e0:a1.'\n",
      " 'System Error (C1219 Table 3: Er000020) occurred for meter 00:13:50:05:ff:04:ef:43.'\n",
      " 'System Error (C1219 Table 3: Er000020) occurred for meter 00:13:50:05:ff:00:0d:ee.'\n",
      " 'System Error (C1219 Table 3: Er000020) occurred for meter 00:13:50:01:00:f8:8c:cd.'\n",
      " 'System Error (C1219 Table 3: Er000020) occurred for meter 00:13:50:05:ff:10:44:c8.'\n",
      " 'System Error (C1219 Table 3: Er000020) occurred for meter 00:13:50:01:00:a7:b6:65.'\n",
      " 'System Error (C1219 Table 3: Er000020) occurred for meter 00:13:50:05:ff:0d:dd:17.'\n",
      " 'System Error (C1219 Table 3: Er000020) occurred for meter 00:13:50:05:ff:1c:c2:ba.'\n",
      " 'System Error (C1219 Table 3: Er000020) occurred for meter 00:13:50:05:ff:01:0e:97.'\n",
      " 'System Error (C1219 Table 3: Er000020) occurred for meter 00:13:50:05:ff:28:2d:38.'\n",
      " 'System Error (C1219 Table 3: Er000020) occurred for meter 00:13:50:05:ff:2c:f9:98.'\n",
      " 'System Error (C1219 Table 3: Er000020) occurred for meter 00:13:50:05:ff:35:e6:70.'\n",
      " 'System Error (C1219 Table 3: Er000020) occurred for meter 00:13:50:05:ff:24:68:ef.'\n",
      " 'System Error (C1219 Table 3: Er000020) occurred for meter 00:13:50:05:ff:00:83:45.'\n",
      " 'System Error (C1219 Table 3: Er000020) occurred for meter 00:13:50:05:ff:0a:5f:35.'\n",
      " 'System Error (C1219 Table 3: Er000020) occurred for meter 00:13:50:05:ff:0a:60:35.'\n",
      " 'System Error (C1219 Table 3: Er000020) occurred for meter 00:13:50:05:ff:0a:5c:95.'\n",
      " 'System Error (C1219 Table 3: Er000020) occurred for meter 00:13:50:05:ff:0a:5f:88.'\n",
      " 'System Error (C1219 Table 3: Er000020) occurred for meter 00:13:50:05:ff:04:8c:83.'\n",
      " 'System Error (C1219 Table 3: Er000020) occurred for meter 00:13:50:05:ff:09:1e:bd.'\n",
      " 'System Error (C1219 Table 3: Er000020) occurred for meter 00:13:50:03:ff:01:fe:d1.'\n",
      " 'System Error (C1219 Table 3: Er000020) occurred for meter 00:13:50:05:ff:0d:9f:92.'\n",
      " 'System Error (C1219 Table 3: Er000020) occurred for meter 00:13:50:05:ff:0f:85:03.'\n",
      " 'System Error (C1219 Table 3: Er000020) occurred for meter 00:13:50:05:ff:24:09:ae.'\n",
      " 'System Error (C1219 Table 3: Er000020) occurred for meter 00:13:50:05:ff:2e:1d:c9.'\n",
      " 'System Error (C1219 Table 3: Er000020) occurred for meter 00:13:50:03:ff:03:2f:ee.'\n",
      " 'System Error (C1219 Table 3: Er000020) occurred for meter 00:13:50:05:ff:22:d0:e8.'\n",
      " 'System Error (C1219 Table 3: Er000020) occurred for meter 00:13:50:05:ff:2c:fd:a3.'\n",
      " 'System Error (C1219 Table 3: Er000020) occurred for meter 00:13:50:05:ff:21:09:ec.'\n",
      " 'System Error (C1219 Table 3: Er000020) occurred for meter 00:13:50:05:ff:2e:5b:93.'\n",
      " 'System Error (C1219 Table 3: Er000020) occurred for meter 00:13:50:05:ff:38:e8:a0.'\n",
      " 'System Error (C1219 Table 3: Er000020) occurred for meter 00:13:50:05:ff:32:40:69.'\n",
      " 'System Error (C1219 Table 3: Er000020) occurred for meter 00:13:50:05:ff:0a:66:80.'\n",
      " 'System Error (C1219 Table 3: Er000020) occurred for meter 00:13:50:05:ff:27:a3:8a.'\n",
      " 'System Error (C1219 Table 3: Er000020) occurred for meter 00:13:50:05:ff:22:ca:b3.'\n",
      " 'System Error (C1219 Table 3: Er000020) occurred for meter 00:13:50:03:00:4e:de:4c.'\n",
      " 'System Error (C1219 Table 3: Er000020) occurred for meter 00:13:50:05:ff:08:7e:64.'\n",
      " 'System Error (C1219 Table 3: Er000020) occurred for meter 00:13:50:05:ff:20:28:a1.'\n",
      " 'System Error (C1219 Table 3: Er000020) occurred for meter 00:13:50:01:00:f7:67:57.'\n",
      " 'System Error (C1219 Table 3: Er000020) occurred for meter 00:13:50:05:ff:16:18:12.'\n",
      " 'System Error (C1219 Table 3: Er000020) occurred for meter 00:13:50:05:ff:09:68:7f.'\n",
      " 'System Error (C1219 Table 3: Er000020) occurred for meter 00:13:50:05:ff:0a:8b:fe.'\n",
      " 'System Error (C1219 Table 3: Er000020) occurred for meter 00:13:50:05:ff:2c:f6:f9.'\n",
      " 'System Error (C1219 Table 3: Er000020) occurred for meter 00:13:50:05:ff:18:e1:3e.'\n",
      " 'System Error (C1219 Table 3: Er000020) occurred for meter 00:13:50:05:ff:22:4c:fa.'\n",
      " 'System Error (C1219 Table 3: Er000020) occurred for meter 00:13:50:05:ff:32:40:9c.'\n",
      " 'System Error (C1219 Table 3: Er000020) occurred for meter 00:13:50:03:ff:06:78:77.'\n",
      " 'System Error (C1219 Table 3: Er000020) occurred for meter 00:13:50:05:ff:08:ef:e3.'\n",
      " 'System Error (C1219 Table 3: Er000020) occurred for meter 00:13:50:03:00:4f:04:05.'\n",
      " 'System Error (C1219 Table 3: Er000020) occurred for meter 00:13:50:05:ff:11:7c:3e.'\n",
      " 'System Error (C1219 Table 3: Er000020) occurred for meter 00:13:50:03:ff:03:55:5e.'\n",
      " 'System Error (C1219 Table 3: Er000020) occurred for meter 00:13:50:03:ff:06:d4:c7.'\n",
      " 'System Error (C1219 Table 3: Er000020) occurred for meter 00:13:50:05:ff:2b:7e:d7.'\n",
      " 'System Error (C1219 Table 3: Er000020) occurred for meter 00:13:50:03:ff:06:0d:f6.'\n",
      " 'System Error (C1219 Table 3: Er000020) occurred for meter 00:13:50:05:ff:17:7b:e3.'\n",
      " 'System Error (C1219 Table 3: Er000020) occurred for meter 00:13:50:05:ff:27:cd:84.'\n",
      " 'System Error (C1219 Table 3: Er000020) occurred for meter 00:13:50:05:ff:18:ff:e0.'\n",
      " 'System Error (C1219 Table 3: Er000020) occurred for meter 00:13:50:05:ff:22:78:17.'\n",
      " 'System Error (C1219 Table 3: Er000020) occurred for meter 00:13:50:05:ff:05:97:75.'\n",
      " 'System Error (C1219 Table 3: Er000020) occurred for meter 00:13:50:05:ff:02:82:8c.'\n",
      " 'System Error (C1219 Table 3: Er000020) occurred for meter 00:13:50:05:ff:12:7f:2e.'\n",
      " 'System Error (C1219 Table 3: Er000020) occurred for meter 00:13:50:05:ff:1f:53:02.'\n",
      " 'System Error (C1219 Table 3: Er000020) occurred for meter 00:13:50:05:ff:0a:02:a4.'\n",
      " 'System Error (C1219 Table 3: Er000020) occurred for meter 00:13:50:05:ff:0a:6a:6c.'\n",
      " 'System Error (C1219 Table 3: Er000020) occurred for meter 00:13:50:05:ff:20:bd:f2.'\n",
      " 'System Error (C1219 Table 3: Er000020) occurred for meter 00:13:50:05:ff:21:1a:30.'\n",
      " 'System Error (C1219 Table 3: Er000020) occurred for meter 00:13:50:05:ff:15:f5:e1.'\n",
      " 'System Error (C1219 Table 3: Er000020) occurred for meter 00:13:50:05:ff:24:1f:f5.'\n",
      " 'System Error (C1219 Table 3: Er000020) occurred for meter 00:13:50:05:ff:02:7f:04.'\n",
      " 'System Error (C1219 Table 3: Er000020) occurred for meter 00:13:50:05:ff:36:ca:6b.'\n",
      " 'System Error (C1219 Table 3: Er000020) occurred for meter 00:13:50:05:ff:3c:ba:6f.'\n",
      " 'System Error (C1219 Table 3: Er000020) occurred for meter 00:13:50:02:00:9c:01:90.'\n",
      " 'System Error (C1219 Table 3: Er000020) occurred for meter 00:13:50:05:ff:34:8a:8f.'\n",
      " 'System Error (C1219 Table 3: Er000020) occurred for meter 00:13:50:05:ff:2c:f0:3a.'\n",
      " 'System Error (C1219 Table 3: Er000020) occurred for meter 00:13:50:05:ff:24:c8:f8.'\n",
      " 'System Error (C1219 Table 3: Er000020) occurred for meter 00:13:50:05:ff:44:c7:d6.'\n",
      " 'System Error (C1219 Table 3: Er000020) occurred for meter 00:13:50:05:ff:27:ea:c2.'\n",
      " 'System Error (C1219 Table 3: Er000020) occurred for meter 00:13:50:05:ff:23:42:61.'\n",
      " 'System Error (C1219 Table 3: Er000020) occurred for meter 00:13:50:05:ff:13:3d:b5.'\n",
      " 'System Error (C1219 Table 3: Er000020) occurred for meter 00:13:50:05:ff:20:c5:28.'\n",
      " 'System Error (C1219 Table 3: Er000020) occurred for meter 00:13:50:05:ff:3d:ca:d1.'\n",
      " 'System Error (C1219 Table 3: Er000020) occurred for meter 00:13:50:05:ff:00:e8:91.'\n",
      " 'System Error (C1219 Table 3: Er000020) occurred for meter 00:13:50:05:ff:0a:5e:ff.'\n",
      " 'System Error (C1219 Table 3: Er000020) occurred for meter 00:13:50:05:ff:02:68:cb.'\n",
      " 'System Error (C1219 Table 3: Er000020) occurred for meter 00:13:50:05:ff:37:b0:62.'\n",
      " 'System Error (C1219 Table 3: Er000020) occurred for meter 00:13:50:05:ff:16:35:ab.'\n",
      " 'System Error (C1219 Table 3: Er000020) occurred for meter 00:13:50:05:ff:2b:b1:db.'\n",
      " 'System Error (C1219 Table 3: Er000020) occurred for meter 00:13:50:05:ff:0e:79:fe.'\n",
      " 'System Error (C1219 Table 3: Er000020) occurred for meter 00:13:50:05:ff:0e:62:93.'\n",
      " 'System Error (C1219 Table 3: Er000020) occurred for meter 00:13:50:05:ff:15:de:36.'\n",
      " 'System Error (C1219 Table 3: Er000020) occurred for meter 00:13:50:05:ff:16:f3:be.'\n",
      " 'System Error (C1219 Table 3: Er000020) occurred for meter 00:13:50:05:ff:24:6d:44.'\n",
      " 'System Error (C1219 Table 3: Er000020) occurred for meter 00:13:50:05:ff:24:66:db.'\n",
      " 'System Error (C1219 Table 3: Er000020) occurred for meter 00:13:50:05:ff:0e:51:ab.'\n",
      " 'System Error (C1219 Table 3: Er000020) occurred for meter 00:13:50:01:00:f3:9a:fe.'\n",
      " 'System Error (C1219 Table 3: Er000020) occurred for meter 00:13:50:03:ff:03:27:fa.'\n",
      " 'System Error (C1219 Table 3: Er000020) occurred for meter 00:13:50:05:ff:3c:e4:6e.'\n",
      " 'System Error (C1219 Table 3: Er000020) occurred for meter 00:13:50:05:ff:2b:47:c4.'\n",
      " 'System Error (C1219 Table 3: Er000020) occurred for meter 00:13:50:05:ff:2b:4f:e7.'\n",
      " 'System Error (C1219 Table 3: Er000020) occurred for meter 00:13:50:05:ff:45:9f:31.'\n",
      " 'System Error (C1219 Table 3: Er000020) occurred for meter 00:13:50:05:ff:3c:c0:1b.'\n",
      " 'System Error (C1219 Table 3: Er000020) occurred for meter 00:13:50:05:ff:24:4d:48.'\n",
      " 'System Error (C1219 Table 3: Er000020) occurred for meter 00:13:50:05:ff:02:72:39.'\n",
      " 'System Error (C1219 Table 3: Er000020) occurred for meter 00:13:50:01:00:0d:a5:78.'\n",
      " 'System Error (C1219 Table 3: Er000020) occurred for meter 00:13:50:05:ff:11:2c:5f.'\n",
      " 'System Error (C1219 Table 3: Er000020) occurred for meter 00:13:50:05:ff:38:2f:3b.'\n",
      " 'System Error (C1219 Table 3: Er000020) occurred for meter 00:13:50:05:ff:05:41:e4.'\n",
      " 'System Error (C1219 Table 3: Er000020) occurred for meter 00:13:50:03:00:4e:ee:ad.']\n"
     ]
    }
   ],
   "source": [
    "df_3_21_3_79 = pd.read_pickle(ids_with_paths_dict['3.21.3.79'])\n",
    "#-----\n",
    "print(f\"shape[0] = {df_3_21_3_79.shape[0]}\")\n",
    "print(f\"# Unique reasons = {df_3_21_3_79['reason'].nunique()}\")\n",
    "print(df_3_21_3_79['reason'].unique())"
   ]
  },
  {
   "cell_type": "code",
   "execution_count": 96,
   "id": "b6872722",
   "metadata": {},
   "outputs": [],
   "source": [
    "dict_3_21_3_79 = {\n",
    "        # Examples\n",
    "        # 'System Error (C1219 Table 3: Er000020) occurred for meter 00:13:50:05:ff:0f:17:ba.'\n",
    "        '3.21.3.79':    [\n",
    "            #-----\n",
    "#             (r'(System Error\\s*(?:\\(.*\\))?)\\s*(?:(?:\\s*occurred\\s*)?(?:\\s*(?:for|on)?\\s*(?:meter)?)?\\s+(?:[0-9a-zA-Z]+)(?:\\:[0-9a-zA-Z]+)+\\.?)', r'\\1')\n",
    "#             # COULD ALSO DO\n",
    "            (r'((?:\\s*occurred\\s*)?(?:\\s*(?:for|on)?\\s*(?:meter)?)?\\s+(?:[0-9a-zA-Z]+)(?:\\:[0-9a-zA-Z]+)+[\\s*\\.]*)', '')\n",
    "            #-----\n",
    "        ]\n",
    "}"
   ]
  },
  {
   "cell_type": "code",
   "execution_count": 97,
   "id": "8b41da93",
   "metadata": {},
   "outputs": [
    {
     "name": "stdout",
     "output_type": "stream",
     "text": [
      "System Error (C1219 Table 3: Er000020)\n"
     ]
    }
   ],
   "source": [
    "curated_reasons = []\n",
    "for reason_i in df_3_21_3_79['reason'].unique().tolist():\n",
    "    curated_reason_i = AMIEndEvents.reduce_end_event_reason(\n",
    "        reason=reason_i, \n",
    "        patterns=dict_3_21_3_79['3.21.3.79']\n",
    "    )\n",
    "    curated_reasons.append(curated_reason_i)\n",
    "curated_reasons = list(set(curated_reasons))\n",
    "print(*curated_reasons, sep='\\n')"
   ]
  },
  {
   "cell_type": "code",
   "execution_count": 92,
   "id": "230d1fb5",
   "metadata": {},
   "outputs": [
    {
     "data": {
      "text/plain": [
       "['System Error (C1219 Table 3: Er000020) ']"
      ]
     },
     "execution_count": 92,
     "metadata": {},
     "output_type": "execute_result"
    }
   ],
   "source": [
    "natsorted(curated_reasons)"
   ]
  },
  {
   "cell_type": "code",
   "execution_count": 98,
   "id": "3232ac5e",
   "metadata": {},
   "outputs": [
    {
     "data": {
      "text/plain": [
       "['System Error (C1219 Table 3: Er000020)']"
      ]
     },
     "execution_count": 98,
     "metadata": {},
     "output_type": "execute_result"
    }
   ],
   "source": [
    "natsorted(curated_reasons)"
   ]
  },
  {
   "cell_type": "code",
   "execution_count": null,
   "id": "20795779",
   "metadata": {},
   "outputs": [],
   "source": [
    "assert(len(set(dict_3_21_3_79.keys()).intersection(set(dict_documented.keys())))==0)\n",
    "dict_documented = {**dict_documented, **dict_3_21_3_79}"
   ]
  },
  {
   "cell_type": "code",
   "execution_count": null,
   "id": "a5d08e44",
   "metadata": {},
   "outputs": [],
   "source": []
  },
  {
   "cell_type": "code",
   "execution_count": null,
   "id": "abb9591a",
   "metadata": {},
   "outputs": [],
   "source": []
  },
  {
   "cell_type": "code",
   "execution_count": null,
   "id": "fd49f47a",
   "metadata": {},
   "outputs": [],
   "source": []
  },
  {
   "cell_type": "markdown",
   "id": "6387b806",
   "metadata": {},
   "source": [
    "# '3.21.17.28'"
   ]
  },
  {
   "cell_type": "code",
   "execution_count": null,
   "id": "e7358cc2",
   "metadata": {},
   "outputs": [],
   "source": [
    "df_3_21_17_28 = pd.read_pickle(ids_with_paths_dict['3.21.17.28'])\n",
    "#-----\n",
    "print(f\"shape[0] = {df_3_21_17_28.shape[0]}\")\n",
    "print(f\"# Unique reasons = {df_3_21_17_28['reason'].nunique()}\")\n",
    "print(df_3_21_17_28['reason'].unique())"
   ]
  },
  {
   "cell_type": "code",
   "execution_count": null,
   "id": "16fc9e3e",
   "metadata": {},
   "outputs": [],
   "source": [
    "dict_3_21_17_28 = {\n",
    "        # Examples\n",
    "        # 'Meter detected a self check error.'\n",
    "        '3.21.17.28':    [\n",
    "            #-----\n",
    "            (r'(Meter detected a self check error).', r'\\1'), \n",
    "            #-----\n",
    "        ]\n",
    "}"
   ]
  },
  {
   "cell_type": "code",
   "execution_count": null,
   "id": "989447cc",
   "metadata": {},
   "outputs": [],
   "source": [
    "curated_reasons = []\n",
    "for reason_i in df_3_21_17_28['reason'].unique().tolist():\n",
    "    curated_reason_i = AMIEndEvents.reduce_end_event_reason(\n",
    "        reason=reason_i, \n",
    "        patterns=dict_3_21_17_28['3.21.17.28']\n",
    "    )\n",
    "    curated_reasons.append(curated_reason_i)\n",
    "curated_reasons = list(set(curated_reasons))\n",
    "print(*curated_reasons, sep='\\n')"
   ]
  },
  {
   "cell_type": "code",
   "execution_count": null,
   "id": "6e631a56",
   "metadata": {},
   "outputs": [],
   "source": [
    "assert(len(set(dict_3_21_17_28.keys()).intersection(set(dict_documented.keys())))==0)\n",
    "dict_documented = {**dict_documented, **dict_3_21_17_28}"
   ]
  },
  {
   "cell_type": "code",
   "execution_count": null,
   "id": "3e29dc7b",
   "metadata": {},
   "outputs": [],
   "source": []
  },
  {
   "cell_type": "code",
   "execution_count": null,
   "id": "799bc85e",
   "metadata": {},
   "outputs": [],
   "source": []
  },
  {
   "cell_type": "code",
   "execution_count": null,
   "id": "e598ab4d",
   "metadata": {},
   "outputs": [],
   "source": []
  },
  {
   "cell_type": "markdown",
   "id": "fc4ad74a",
   "metadata": {},
   "source": [
    "# '3.21.18.79'"
   ]
  },
  {
   "cell_type": "code",
   "execution_count": null,
   "id": "5dbca783",
   "metadata": {},
   "outputs": [],
   "source": [
    "df_3_21_18_79 = pd.read_pickle(ids_with_paths_dict['3.21.18.79'])\n",
    "#-----\n",
    "print(f\"shape[0] = {df_3_21_18_79.shape[0]}\")\n",
    "print(f\"# Unique reasons = {df_3_21_18_79['reason'].nunique()}\")\n",
    "print(df_3_21_18_79['reason'].unique())"
   ]
  },
  {
   "cell_type": "code",
   "execution_count": null,
   "id": "79516f8e",
   "metadata": {},
   "outputs": [],
   "source": [
    "dict_3_21_18_79 = {\n",
    "        # Examples\n",
    "        # 'Meter detected a self check error.'\n",
    "        '3.21.18.79':    [\n",
    "            #-----\n",
    "            (r'(Meter detected a self check error).*', r'\\1'), \n",
    "            #-----\n",
    "        ]\n",
    "}"
   ]
  },
  {
   "cell_type": "code",
   "execution_count": null,
   "id": "76efce86",
   "metadata": {},
   "outputs": [],
   "source": [
    "curated_reasons = []\n",
    "for reason_i in df_3_21_18_79['reason'].unique().tolist():\n",
    "    curated_reason_i = AMIEndEvents.reduce_end_event_reason(\n",
    "        reason=reason_i, \n",
    "        patterns=dict_3_21_18_79['3.21.18.79']\n",
    "    )\n",
    "    curated_reasons.append(curated_reason_i)\n",
    "curated_reasons = list(set(curated_reasons))\n",
    "print(*curated_reasons, sep='\\n')"
   ]
  },
  {
   "cell_type": "code",
   "execution_count": null,
   "id": "6ef670e4",
   "metadata": {},
   "outputs": [],
   "source": [
    "assert(len(set(dict_3_21_18_79.keys()).intersection(set(dict_documented.keys())))==0)\n",
    "dict_documented = {**dict_documented, **dict_3_21_18_79}"
   ]
  },
  {
   "cell_type": "code",
   "execution_count": null,
   "id": "c73f731d",
   "metadata": {},
   "outputs": [],
   "source": []
  },
  {
   "cell_type": "code",
   "execution_count": null,
   "id": "a8a66379",
   "metadata": {},
   "outputs": [],
   "source": []
  },
  {
   "cell_type": "code",
   "execution_count": null,
   "id": "1c0a4919",
   "metadata": {},
   "outputs": [],
   "source": []
  },
  {
   "cell_type": "markdown",
   "id": "ce051e4a",
   "metadata": {},
   "source": [
    "# '3.21.38.223'"
   ]
  },
  {
   "cell_type": "code",
   "execution_count": null,
   "id": "c3623215",
   "metadata": {},
   "outputs": [],
   "source": [
    "df_3_21_38_223 = pd.read_pickle(ids_with_paths_dict['3.21.38.223'])\n",
    "#-----\n",
    "print(f\"shape[0] = {df_3_21_38_223.shape[0]}\")\n",
    "print(f\"# Unique reasons = {df_3_21_38_223['reason'].nunique()}\")\n",
    "print(df_3_21_38_223['reason'].unique())"
   ]
  },
  {
   "cell_type": "code",
   "execution_count": null,
   "id": "f403ccda",
   "metadata": {},
   "outputs": [],
   "source": [
    "dict_3_21_38_223 = {\n",
    "        # Examples\n",
    "        # 'Detected end of voltage sag on meter 00:13:50:05:ff:32:66:22 on one or several phases. Duration: 21 cycles (less than a second), Min RMS Voltage: Phase A 118.1 V, Phase B 95.4 V, Phase C 120.3 V, RMS Current (at min voltage): Phase A 1.0 A, Phase B 0.2 A, Phase C 1.2 A'\n",
    "        '3.21.38.223':  [\n",
    "            #-----\n",
    "            (r'(Detected end of voltage sag)(?:(?:\\s*(?:for|on)?\\s*(?:meter)?)?\\s+(?:[0-9a-zA-Z]+)(?:\\:[0-9a-zA-Z]+)+\\.?).*Duration:.*, Min RMS Voltage: Phase A .*, Phase B .*, Phase C .*, RMS Current \\(at min voltage\\): Phase A .*, Phase B .*, Phase C .*', r'\\1'), \n",
    "            #-----\n",
    "            # Failsafe\n",
    "            (r'(Detected end of voltage sag)(?:(?:\\s*(?:for|on)?\\s*(?:meter)?)?\\s+(?:[0-9a-zA-Z]+)(?:\\:[0-9a-zA-Z]+)+\\.?).*', r'\\1'), \n",
    "            #-----\n",
    "        ]\n",
    "}"
   ]
  },
  {
   "cell_type": "code",
   "execution_count": null,
   "id": "3d0b70b1",
   "metadata": {},
   "outputs": [],
   "source": [
    "curated_reasons = []\n",
    "for reason_i in df_3_21_38_223['reason'].unique().tolist():\n",
    "    curated_reason_i = AMIEndEvents.reduce_end_event_reason(\n",
    "        reason=reason_i, \n",
    "        patterns=dict_3_21_38_223['3.21.38.223']\n",
    "    )\n",
    "    curated_reasons.append(curated_reason_i)\n",
    "curated_reasons = list(set(curated_reasons))\n",
    "print(*curated_reasons, sep='\\n')"
   ]
  },
  {
   "cell_type": "code",
   "execution_count": null,
   "id": "f0cae9ad",
   "metadata": {},
   "outputs": [],
   "source": [
    "assert(len(set(dict_3_21_38_223.keys()).intersection(set(dict_documented.keys())))==0)\n",
    "dict_documented = {**dict_documented, **dict_3_21_38_223}"
   ]
  },
  {
   "cell_type": "code",
   "execution_count": null,
   "id": "ae1e7370",
   "metadata": {},
   "outputs": [],
   "source": []
  },
  {
   "cell_type": "code",
   "execution_count": null,
   "id": "371ff36b",
   "metadata": {},
   "outputs": [],
   "source": []
  },
  {
   "cell_type": "markdown",
   "id": "5a8e5abf",
   "metadata": {},
   "source": [
    "# '3.21.38.248'"
   ]
  },
  {
   "cell_type": "code",
   "execution_count": null,
   "id": "62a84542",
   "metadata": {},
   "outputs": [],
   "source": [
    "df_3_21_38_248 = pd.read_pickle(ids_with_paths_dict['3.21.38.248'])\n",
    "#-----\n",
    "print(f\"shape[0] = {df_3_21_38_248.shape[0]}\")\n",
    "print(f\"# Unique reasons = {df_3_21_38_248['reason'].nunique()}\")\n",
    "print(df_3_21_38_248['reason'].unique())"
   ]
  },
  {
   "cell_type": "code",
   "execution_count": null,
   "id": "4188be89",
   "metadata": {},
   "outputs": [],
   "source": [
    "dict_3_21_38_248 = {\n",
    "        # Examples\n",
    "        # 'Detected end of voltage swell on meter 00:13:50:05:ff:1b:49:b0 on one or several phases. Duration: 5 cycles (less than a second), Max RMS Voltage: Phase A 111.2 V, Phase B 133.2 V, Phase C 216.1 V, RMS Current (at max voltage): Phase A 2.8 A, Phase B 1.3 A, Phase C 0.8 A'\n",
    "        '3.21.38.248':  [\n",
    "            #-----\n",
    "            (r'(Detected end of voltage swell)(?:(?:\\s*(?:for|on)?\\s*(?:meter)?)?\\s+(?:[0-9a-zA-Z]+)(?:\\:[0-9a-zA-Z]+)+\\.?).*Duration: .*, Min RMS Voltage: .*, RMS Current \\(at min voltage\\): .*', r'\\1'), \n",
    "            #-----\n",
    "            # Failsafe\n",
    "            (r'(Detected end of voltage swell)(?:(?:\\s*(?:for|on)?\\s*(?:meter)?)?\\s+(?:[0-9a-zA-Z]+)(?:\\:[0-9a-zA-Z]+)+\\.?).*', r'\\1')  \n",
    "            #-----\n",
    "        ]\n",
    "}"
   ]
  },
  {
   "cell_type": "code",
   "execution_count": null,
   "id": "57c8e98e",
   "metadata": {},
   "outputs": [],
   "source": [
    "curated_reasons = []\n",
    "for reason_i in df_3_21_38_248['reason'].unique().tolist():\n",
    "    curated_reason_i = AMIEndEvents.reduce_end_event_reason(\n",
    "        reason=reason_i, \n",
    "        patterns=dict_3_21_38_248['3.21.38.248']\n",
    "    )\n",
    "    curated_reasons.append(curated_reason_i)\n",
    "curated_reasons = list(set(curated_reasons))\n",
    "print(*curated_reasons, sep='\\n')"
   ]
  },
  {
   "cell_type": "code",
   "execution_count": null,
   "id": "79f72c6b",
   "metadata": {},
   "outputs": [],
   "source": [
    "assert(len(set(dict_3_21_38_248.keys()).intersection(set(dict_documented.keys())))==0)\n",
    "dict_documented = {**dict_documented, **dict_3_21_38_248}"
   ]
  },
  {
   "cell_type": "code",
   "execution_count": null,
   "id": "9a600130",
   "metadata": {},
   "outputs": [],
   "source": []
  },
  {
   "cell_type": "markdown",
   "id": "cfc78b45",
   "metadata": {},
   "source": [
    "# '3.21.43.223'"
   ]
  },
  {
   "cell_type": "code",
   "execution_count": null,
   "id": "33bf2be1",
   "metadata": {},
   "outputs": [],
   "source": [
    "df_3_21_43_223 = pd.read_pickle(ids_with_paths_dict['3.21.43.223'])\n",
    "#-----\n",
    "print(f\"shape[0] = {df_3_21_43_223.shape[0]}\")\n",
    "print(f\"# Unique reasons = {df_3_21_43_223['reason'].nunique()}\")\n",
    "print(df_3_21_43_223['reason'].unique())"
   ]
  },
  {
   "cell_type": "code",
   "execution_count": null,
   "id": "4bc9c222",
   "metadata": {},
   "outputs": [],
   "source": []
  },
  {
   "cell_type": "code",
   "execution_count": null,
   "id": "8da17967",
   "metadata": {},
   "outputs": [],
   "source": [
    "dict_3_21_43_223 = {\n",
    "        # Examples\n",
    "        # 'Detected end of voltage sag on meter 00:13:50:03:ff:01:a6:36. Duration: 2 seconds, Min RMS Voltage: Phase A 227.9 V, RMS Current (at min voltage): Phase A 0.0 A'\n",
    "        '3.21.43.223':  [\n",
    "            #-----\n",
    "            (r'(Detected end of voltage sag)(?:(?:\\s*(?:for|on)?\\s*(?:meter)?)?\\s+(?:[0-9a-zA-Z]+)(?:\\:[0-9a-zA-Z]+)+\\.?).*Duration: .*, Min RMS Voltage: .*, RMS Current \\(at min voltage\\): .*', r'\\1'), \n",
    "            #-----\n",
    "            (r'(Detected end of voltage sag)(?:(?:\\s*(?:for|on)?\\s*(?:meter)?)?\\s+(?:[0-9a-zA-Z]+)(?:\\:[0-9a-zA-Z]+)+\\.?).*', r'\\1'), # failsafe  \n",
    "            #-----\n",
    "        ]\n",
    "}"
   ]
  },
  {
   "cell_type": "code",
   "execution_count": null,
   "id": "f330a108",
   "metadata": {},
   "outputs": [],
   "source": [
    "curated_reasons = []\n",
    "for reason_i in df_3_21_43_223['reason'].unique().tolist():\n",
    "    curated_reason_i = AMIEndEvents.reduce_end_event_reason(\n",
    "        reason=reason_i, \n",
    "        patterns=dict_3_21_43_223['3.21.43.223']\n",
    "    )\n",
    "    curated_reasons.append(curated_reason_i)\n",
    "curated_reasons = list(set(curated_reasons))\n",
    "print(*curated_reasons, sep='\\n')"
   ]
  },
  {
   "cell_type": "code",
   "execution_count": null,
   "id": "2249ff29",
   "metadata": {},
   "outputs": [],
   "source": [
    "assert(len(set(dict_3_21_43_223.keys()).intersection(set(dict_documented.keys())))==0)\n",
    "dict_documented = {**dict_documented, **dict_3_21_43_223}"
   ]
  },
  {
   "cell_type": "code",
   "execution_count": null,
   "id": "3ed8f054",
   "metadata": {},
   "outputs": [],
   "source": []
  },
  {
   "cell_type": "markdown",
   "id": "97a76fdc",
   "metadata": {},
   "source": [
    "# '3.21.43.248'"
   ]
  },
  {
   "cell_type": "code",
   "execution_count": null,
   "id": "703a2a38",
   "metadata": {},
   "outputs": [],
   "source": [
    "df_3_21_43_248 = pd.read_pickle(ids_with_paths_dict['3.21.43.248'])\n",
    "#-----\n",
    "print(f\"shape[0] = {df_3_21_43_248.shape[0]}\")\n",
    "print(f\"# Unique reasons = {df_3_21_43_248['reason'].nunique()}\")\n",
    "print(df_3_21_43_248['reason'].unique())"
   ]
  },
  {
   "cell_type": "code",
   "execution_count": null,
   "id": "af780116",
   "metadata": {},
   "outputs": [],
   "source": [
    "dict_3_21_43_248 = {\n",
    "        # Examples\n",
    "        # 'Detected end of voltage swell on meter 00:13:50:05:ff:2d:2c:25. Duration: 195 seconds, Max RMS Voltage: Phase A 265.7 V, RMS Current (at max voltage): Phase A 0.0 A'\n",
    "        '3.21.43.248':  [\n",
    "            #-----\n",
    "            (r'(Detected end of voltage swell)(?:(?:\\s*(?:for|on)?\\s*(?:meter)?)?\\s+(?:[0-9a-zA-Z]+)(?:\\:[0-9a-zA-Z]+)+\\.?).*Duration: .*, Min RMS Voltage: .*, RMS Current \\(at min voltage\\): .*', r'\\1'), \n",
    "            #-----\n",
    "            (r'(Detected end of voltage swell)(?:(?:\\s*(?:for|on)?\\s*(?:meter)?)?\\s+(?:[0-9a-zA-Z]+)(?:\\:[0-9a-zA-Z]+)+\\.?).*', r'\\1'), # failsafe  \n",
    "            #-----\n",
    "        ]\n",
    "}"
   ]
  },
  {
   "cell_type": "code",
   "execution_count": null,
   "id": "9c7ae1d1",
   "metadata": {},
   "outputs": [],
   "source": [
    "curated_reasons = []\n",
    "for reason_i in df_3_21_43_248['reason'].unique().tolist():\n",
    "    curated_reason_i = AMIEndEvents.reduce_end_event_reason(\n",
    "        reason=reason_i, \n",
    "        patterns=dict_3_21_43_248['3.21.43.248']\n",
    "    )\n",
    "    curated_reasons.append(curated_reason_i)\n",
    "curated_reasons = list(set(curated_reasons))\n",
    "print(*curated_reasons, sep='\\n')"
   ]
  },
  {
   "cell_type": "code",
   "execution_count": null,
   "id": "2400e98f",
   "metadata": {},
   "outputs": [],
   "source": [
    "assert(len(set(dict_3_21_43_248.keys()).intersection(set(dict_documented.keys())))==0)\n",
    "dict_documented = {**dict_documented, **dict_3_21_43_248}"
   ]
  },
  {
   "cell_type": "code",
   "execution_count": null,
   "id": "33344e6f",
   "metadata": {},
   "outputs": [],
   "source": []
  },
  {
   "cell_type": "markdown",
   "id": "8ed6d5b6",
   "metadata": {},
   "source": [
    "# '3.21.67.28'"
   ]
  },
  {
   "cell_type": "code",
   "execution_count": null,
   "id": "c311309e",
   "metadata": {},
   "outputs": [],
   "source": [
    "df_3_21_67_28 = pd.read_pickle(ids_with_paths_dict['3.21.67.28'])\n",
    "#-----\n",
    "print(f\"shape[0] = {df_3_21_67_28.shape[0]}\")\n",
    "print(f\"# Unique reasons = {df_3_21_67_28['reason'].nunique()}\")\n",
    "print(df_3_21_67_28['reason'].unique())"
   ]
  },
  {
   "cell_type": "code",
   "execution_count": null,
   "id": "7c7aa3c5",
   "metadata": {},
   "outputs": [],
   "source": [
    "dict_3_21_67_28 = {\n",
    "        # Examples\n",
    "        # 'Measurement Error cleared for meter 00:13:50:05:ff:07:c0:55.'\n",
    "        '3.21.67.28':    [\n",
    "            #-----\n",
    "            (r'(Measurement Error.*cleared)(?:(?:\\s*(?:for|on)?\\s*(?:meter)?)?\\s+(?:[0-9a-zA-Z]+)(?:\\:[0-9a-zA-Z]+)+\\.?)', r'\\1')\n",
    "            #-----\n",
    "            # COULD ALSO DO\n",
    "            (r'((?:\\s*occurred\\s*)?(?:\\s*(?:for|on)?\\s*(?:meter)?)?\\s+(?:[0-9a-zA-Z]+)(?:\\:[0-9a-zA-Z]+)+[\\s*\\.]*)', '')\n",
    "            #-----\n",
    "        ]\n",
    "}"
   ]
  },
  {
   "cell_type": "code",
   "execution_count": null,
   "id": "8726ee63",
   "metadata": {},
   "outputs": [],
   "source": [
    "curated_reasons = []\n",
    "for reason_i in df_3_21_67_28['reason'].unique().tolist():\n",
    "    curated_reason_i = AMIEndEvents.reduce_end_event_reason(\n",
    "        reason=reason_i, \n",
    "        patterns=dict_3_21_67_28['3.21.67.28']\n",
    "    )\n",
    "    curated_reasons.append(curated_reason_i)\n",
    "curated_reasons = list(set(curated_reasons))\n",
    "print(*curated_reasons, sep='\\n')"
   ]
  },
  {
   "cell_type": "code",
   "execution_count": null,
   "id": "12b02155",
   "metadata": {},
   "outputs": [],
   "source": [
    "assert(len(set(dict_3_21_67_28.keys()).intersection(set(dict_documented.keys())))==0)\n",
    "dict_documented = {**dict_documented, **dict_3_21_67_28}"
   ]
  },
  {
   "cell_type": "code",
   "execution_count": null,
   "id": "f55a501f",
   "metadata": {},
   "outputs": [],
   "source": []
  },
  {
   "cell_type": "markdown",
   "id": "5ae529d3",
   "metadata": {},
   "source": [
    "# '3.21.67.79'"
   ]
  },
  {
   "cell_type": "code",
   "execution_count": 99,
   "id": "f581fc7e",
   "metadata": {},
   "outputs": [
    {
     "name": "stdout",
     "output_type": "stream",
     "text": [
      "shape[0] = 45365\n",
      "# Unique reasons = 24035\n",
      "['Meter event Measurement Error Detected  Time event occurred on meter = 01/01/2020 05:02:43  Sequence number = 241  User id = 0  Event argument = 00-00'\n",
      " 'Meter event Measurement Error Detected  Time event occurred on meter = 01/01/2020 20:51:18  Sequence number = 1878  User id = 0  Event argument = 00-00'\n",
      " 'Meter event Measurement Error Detected  Time event occurred on meter = 01/01/2020 07:56:50  Sequence number = 242  User id = 0  Event argument = 00-00'\n",
      " ...\n",
      " 'Meter event Measurement Error Detected  Time event occurred on meter = 03/14/2023 02:00:56  Sequence number = 3953  User id = 0  Event argument = 00-00 '\n",
      " 'Meter event Measurement Error Detected  Time event occurred on meter = 03/14/2023 03:27:02  Sequence number = 3954  User id = 0  Event argument = 00-00 '\n",
      " 'Meter event Measurement Error Detected  Time event occurred on meter = 9/12/2023 6:06:57 AM  Sequence number = 89  User id = 34891  Event argument = 7D-75']\n"
     ]
    }
   ],
   "source": [
    "df_3_21_67_79 = pd.read_pickle(ids_with_paths_dict['3.21.67.79'])\n",
    "#-----\n",
    "print(f\"shape[0] = {df_3_21_67_79.shape[0]}\")\n",
    "print(f\"# Unique reasons = {df_3_21_67_79['reason'].nunique()}\")\n",
    "print(df_3_21_67_79['reason'].unique())"
   ]
  },
  {
   "cell_type": "code",
   "execution_count": 103,
   "id": "5320d8f4",
   "metadata": {},
   "outputs": [],
   "source": [
    "dict_3_21_67_79 = {\n",
    "        # Examples\n",
    "        # 'Meter event Measurement Error Detected  Time event occurred on meter = 01/26/2020 19:47:00  Sequence number = 284  User id = 0  Event argument = 00-00'\n",
    "        # 'Measurement Error (C1219 Table 3) occurred for meter 00:13:50:03:ff:06:d6:d5.'\n",
    "        '3.21.67.79':    [\n",
    "            #-----\n",
    "            (r'(Measurement Error\\s*(?:\\(.*\\))?)\\s*(?:(?:\\s*occurred\\s*)?(?:\\s*(?:for|on)?\\s*(?:meter)?)?\\s+(?:[0-9a-zA-Z]+)(?:\\:[0-9a-zA-Z]+)+\\.?)', r'\\1'), \n",
    "            #-----\n",
    "            (r'(Meter event Measurement Error Detected)\\s*Time event occurred on meter\\s*=.*\\s*Sequence number\\s*=.*\\s*User id\\s*=.*\\s*Event argument\\s*=.*', r'\\1'), \n",
    "            #-----\n",
    "            (r'(Meter event Measurement Error Detected).*', r'\\1'),\n",
    "            #-----\n",
    "            (r'(Meter detected a measurement error).*', 'Meter event Measurement Error Detected')\n",
    "            #-----\n",
    "        ]\n",
    "}"
   ]
  },
  {
   "cell_type": "code",
   "execution_count": 104,
   "id": "ec3b53c8",
   "metadata": {},
   "outputs": [
    {
     "name": "stdout",
     "output_type": "stream",
     "text": [
      "Measurement Error (C1219 Table 3: Er100000)\n",
      "Measurement Error (C1219 Table 3)\n",
      "Meter event Measurement Error Detected\n"
     ]
    }
   ],
   "source": [
    "curated_reasons = []\n",
    "for reason_i in df_3_21_67_79['reason'].unique().tolist():\n",
    "    curated_reason_i = AMIEndEvents.reduce_end_event_reason(\n",
    "        reason=reason_i, \n",
    "        patterns=dict_3_21_67_79['3.21.67.79']\n",
    "    )\n",
    "    curated_reasons.append(curated_reason_i)\n",
    "curated_reasons = list(set(curated_reasons))\n",
    "print(*curated_reasons, sep='\\n')"
   ]
  },
  {
   "cell_type": "code",
   "execution_count": 102,
   "id": "6d86a9ac",
   "metadata": {},
   "outputs": [
    {
     "data": {
      "text/plain": [
       "['Measurement Error (C1219 Table 3) ',\n",
       " 'Measurement Error (C1219 Table 3: Er100000) ',\n",
       " 'Meter event Measurement Error Detected']"
      ]
     },
     "execution_count": 102,
     "metadata": {},
     "output_type": "execute_result"
    }
   ],
   "source": [
    "natsorted(curated_reasons)"
   ]
  },
  {
   "cell_type": "code",
   "execution_count": 105,
   "id": "5b1c860f",
   "metadata": {},
   "outputs": [
    {
     "data": {
      "text/plain": [
       "['Measurement Error (C1219 Table 3)',\n",
       " 'Measurement Error (C1219 Table 3: Er100000)',\n",
       " 'Meter event Measurement Error Detected']"
      ]
     },
     "execution_count": 105,
     "metadata": {},
     "output_type": "execute_result"
    }
   ],
   "source": [
    "natsorted(curated_reasons)"
   ]
  },
  {
   "cell_type": "code",
   "execution_count": null,
   "id": "b01c415d",
   "metadata": {},
   "outputs": [],
   "source": [
    "assert(len(set(dict_3_21_67_79.keys()).intersection(set(dict_documented.keys())))==0)\n",
    "dict_documented = {**dict_documented, **dict_3_21_67_79}"
   ]
  },
  {
   "cell_type": "code",
   "execution_count": null,
   "id": "2ebd6a2c",
   "metadata": {},
   "outputs": [],
   "source": []
  },
  {
   "cell_type": "markdown",
   "id": "25332342",
   "metadata": {},
   "source": [
    "# '3.21.82.28'"
   ]
  },
  {
   "cell_type": "code",
   "execution_count": null,
   "id": "d8a64474",
   "metadata": {},
   "outputs": [],
   "source": [
    "df_3_21_82_28 = pd.read_pickle(ids_with_paths_dict['3.21.82.28'])\n",
    "#-----\n",
    "print(f\"shape[0] = {df_3_21_82_28.shape[0]}\")\n",
    "print(f\"# Unique reasons = {df_3_21_82_28['reason'].nunique()}\")\n",
    "print(df_3_21_82_28['reason'].unique())"
   ]
  },
  {
   "cell_type": "code",
   "execution_count": null,
   "id": "e4bcdf6a",
   "metadata": {},
   "outputs": [],
   "source": [
    "dict_3_21_82_28 = {\n",
    "        # Examples\n",
    "        # 'DSP Error cleared for meter 00:13:50:05:ff:0b:87:fc.'\n",
    "        '3.21.82.28':    [\n",
    "            #-----\n",
    "            (r'(DSP Error cleared)(?:(?:\\s*(?:for|on)?\\s*(?:meter)?)?\\s+(?:[0-9a-zA-Z]+)(?:\\:[0-9a-zA-Z]+)+\\.?)', r'\\1')\n",
    "            #-----\n",
    "#             # COULD ALSO DO\n",
    "#             (r'((?:\\s*occurred\\s*)?(?:\\s*(?:for|on)?\\s*(?:meter)?)?\\s+(?:[0-9a-zA-Z]+)(?:\\:[0-9a-zA-Z]+)+[\\s*\\.]*)', '')\n",
    "            #-----\n",
    "        ]\n",
    "}"
   ]
  },
  {
   "cell_type": "code",
   "execution_count": null,
   "id": "1b151117",
   "metadata": {},
   "outputs": [],
   "source": [
    "curated_reasons = []\n",
    "for reason_i in df_3_21_82_28['reason'].unique().tolist():\n",
    "    curated_reason_i = AMIEndEvents.reduce_end_event_reason(\n",
    "        reason=reason_i, \n",
    "        patterns=dict_3_21_82_28['3.21.82.28']\n",
    "    )\n",
    "    curated_reasons.append(curated_reason_i)\n",
    "curated_reasons = list(set(curated_reasons))\n",
    "print(*curated_reasons, sep='\\n')"
   ]
  },
  {
   "cell_type": "code",
   "execution_count": null,
   "id": "590946b8",
   "metadata": {},
   "outputs": [],
   "source": [
    "assert(len(set(dict_3_21_82_28.keys()).intersection(set(dict_documented.keys())))==0)\n",
    "dict_documented = {**dict_documented, **dict_3_21_82_28}"
   ]
  },
  {
   "cell_type": "code",
   "execution_count": null,
   "id": "098ed75d",
   "metadata": {},
   "outputs": [],
   "source": []
  },
  {
   "cell_type": "markdown",
   "id": "d1bbaf90",
   "metadata": {},
   "source": [
    "# '3.21.82.79'"
   ]
  },
  {
   "cell_type": "code",
   "execution_count": 106,
   "id": "c19f34f2",
   "metadata": {},
   "outputs": [
    {
     "name": "stdout",
     "output_type": "stream",
     "text": [
      "shape[0] = 83\n",
      "# Unique reasons = 32\n",
      "['DSP Error (C1219 Table 3: Er200000) occurred for meter 00:13:50:05:ff:15:af:91.'\n",
      " 'DSP Error (C1219 Table 3: Er200000) occurred for meter 00:13:50:05:ff:0b:87:fc.'\n",
      " 'DSP Error (C1219 Table 3: Er200000) occurred for meter 00:13:50:05:ff:1b:35:ed.'\n",
      " 'DSP Error (C1219 Table 3: Er200000) occurred for meter 00:13:50:02:00:03:69:e3.'\n",
      " 'DSP Error (C1219 Table 3: Er200000) occurred for meter 00:13:50:05:ff:04:1a:66.'\n",
      " 'DSP Error (C1219 Table 3: Er200000) occurred for meter 00:13:50:05:ff:13:c0:a6.'\n",
      " 'DSP Error (C1219 Table 3: Er200000) occurred for meter 00:13:50:05:ff:07:ba:b9.'\n",
      " 'DSP Error (C1219 Table 3: Er200000) occurred for meter 00:13:50:05:ff:13:bb:db.'\n",
      " 'DSP Error (C1219 Table 3: Er200000) occurred for meter 00:13:50:05:ff:0f:0c:b6.'\n",
      " 'DSP Error (C1219 Table 3: Er200000) occurred for meter 00:13:50:03:ff:02:1f:cb.'\n",
      " 'DSP Error (C1219 Table 3: Er200000) occurred for meter 00:13:50:03:ff:06:78:70.'\n",
      " 'DSP Error (C1219 Table 3: Er200000) occurred for meter 00:13:50:05:ff:1f:c7:11.'\n",
      " 'DSP Error (C1219 Table 3: Er200000) occurred for meter 00:13:50:05:ff:0f:0e:34.'\n",
      " 'DSP Error (C1219 Table 3: Er200000) occurred for meter 00:13:50:03:ff:02:2b:d0.'\n",
      " 'DSP Error (C1219 Table 3: Er200000) occurred for meter 00:13:50:03:ff:02:26:bb.'\n",
      " 'DSP Error (C1219 Table 3: Er200000) occurred for meter 00:13:50:05:ff:02:91:97.'\n",
      " 'DSP Error (C1219 Table 3: Er200000) occurred for meter 00:13:50:05:ff:23:a7:ab.'\n",
      " 'DSP Error (C1219 Table 3: Er200000) occurred for meter 00:13:50:03:ff:02:2b:f9.'\n",
      " 'DSP Error (C1219 Table 3: Er200000) occurred for meter 00:13:50:03:ff:06:23:75.'\n",
      " 'DSP Error (C1219 Table 3: Er200000) occurred for meter 00:13:50:03:ff:06:0d:f6.'\n",
      " 'DSP Error (C1219 Table 3: Er200000) occurred for meter 00:13:50:05:ff:02:89:eb.'\n",
      " 'DSP Error (C1219 Table 3: Er200000) occurred for meter 00:13:50:03:ff:02:2e:95.'\n",
      " 'DSP Error (C1219 Table 3: Er200000) occurred for meter 00:13:50:03:ff:06:24:2b.'\n",
      " 'DSP Error (C1219 Table 3: Er200000) occurred for meter 00:13:50:05:ff:06:64:d4.'\n",
      " 'DSP Error (C1219 Table 3: Er200000) occurred for meter 00:13:50:05:ff:0f:10:87.'\n",
      " 'DSP Error (C1219 Table 3: Er200000) occurred for meter 00:13:50:05:ff:11:7d:2f.'\n",
      " 'DSP Error (C1219 Table 3: Er200000) occurred for meter 00:13:50:05:ff:02:7f:04.'\n",
      " 'DSP Error (C1219 Table 3: Er200000) occurred for meter 00:13:50:05:ff:1e:63:80.'\n",
      " 'DSP Error (C1219 Table 3: Er200000) occurred for meter 00:13:50:05:ff:26:32:45.'\n",
      " 'DSP Error (C1219 Table 3: Er200000) occurred for meter 00:13:50:05:ff:02:68:cb.'\n",
      " 'DSP Error (C1219 Table 3: Er200000) occurred for meter 00:13:50:03:ff:02:28:44.'\n",
      " 'DSP Error (C1219 Table 3: Er200000) occurred for meter 00:13:50:05:ff:2c:f3:e2.']\n"
     ]
    }
   ],
   "source": [
    "df_3_21_82_79 = pd.read_pickle(ids_with_paths_dict['3.21.82.79'])\n",
    "#-----\n",
    "print(f\"shape[0] = {df_3_21_82_79.shape[0]}\")\n",
    "print(f\"# Unique reasons = {df_3_21_82_79['reason'].nunique()}\")\n",
    "print(df_3_21_82_79['reason'].unique())"
   ]
  },
  {
   "cell_type": "code",
   "execution_count": 113,
   "id": "0c635adb",
   "metadata": {},
   "outputs": [],
   "source": [
    "dict_3_21_82_79 = {\n",
    "        # Examples\n",
    "        # 'DSP Error (C1219 Table 3: Er200000) occurred for meter 00:13:50:05:ff:2c:f3:e2.'\n",
    "        '3.21.82.79':    [\n",
    "            #-----\n",
    "#             (r'(DSP Error\\s*(?:\\(.*\\))?)\\s*(?:(?:\\s*occurred\\s*)?(?:\\s*(?:for|on)?\\s*(?:meter)?)?\\s+(?:[0-9a-zA-Z]+)(?:\\:[0-9a-zA-Z]+)+\\.?)', r'\\1') \n",
    "            #-----\n",
    "#             # COULD ALSO DO\n",
    "            (r'((?:\\s*occurred\\s*)?(?:\\s*(?:for|on)?\\s*(?:meter)?)?\\s+(?:[0-9a-zA-Z]+)(?:\\:[0-9a-zA-Z]+)+[\\s*\\.]*)', '')\n",
    "            #-----\n",
    "        ]\n",
    "}"
   ]
  },
  {
   "cell_type": "code",
   "execution_count": 114,
   "id": "c3b7575a",
   "metadata": {},
   "outputs": [
    {
     "name": "stdout",
     "output_type": "stream",
     "text": [
      "DSP Error (C1219 Table 3: Er200000)\n"
     ]
    }
   ],
   "source": [
    "curated_reasons = []\n",
    "for reason_i in df_3_21_82_79['reason'].unique().tolist():\n",
    "    curated_reason_i = AMIEndEvents.reduce_end_event_reason(\n",
    "        reason=reason_i, \n",
    "        patterns=dict_3_21_82_79['3.21.82.79']\n",
    "    )\n",
    "    curated_reasons.append(curated_reason_i)\n",
    "curated_reasons = list(set(curated_reasons))\n",
    "print(*curated_reasons, sep='\\n')"
   ]
  },
  {
   "cell_type": "code",
   "execution_count": 109,
   "id": "55b11588",
   "metadata": {},
   "outputs": [
    {
     "data": {
      "text/plain": [
       "['DSP Error (C1219 Table 3: Er200000) ']"
      ]
     },
     "execution_count": 109,
     "metadata": {},
     "output_type": "execute_result"
    }
   ],
   "source": [
    "natsorted(curated_reasons)"
   ]
  },
  {
   "cell_type": "code",
   "execution_count": 115,
   "id": "f726dd3c",
   "metadata": {},
   "outputs": [
    {
     "data": {
      "text/plain": [
       "['DSP Error (C1219 Table 3: Er200000)']"
      ]
     },
     "execution_count": 115,
     "metadata": {},
     "output_type": "execute_result"
    }
   ],
   "source": [
    "natsorted(curated_reasons)"
   ]
  },
  {
   "cell_type": "code",
   "execution_count": null,
   "id": "00ea0019",
   "metadata": {},
   "outputs": [],
   "source": [
    "assert(len(set(dict_3_21_82_79.keys()).intersection(set(dict_documented.keys())))==0)\n",
    "dict_documented = {**dict_documented, **dict_3_21_82_79}"
   ]
  },
  {
   "cell_type": "code",
   "execution_count": null,
   "id": "e00f4b50",
   "metadata": {},
   "outputs": [],
   "source": []
  },
  {
   "cell_type": "code",
   "execution_count": null,
   "id": "dd6f0462",
   "metadata": {},
   "outputs": [],
   "source": []
  },
  {
   "cell_type": "code",
   "execution_count": null,
   "id": "fb74590f",
   "metadata": {},
   "outputs": [],
   "source": []
  },
  {
   "cell_type": "markdown",
   "id": "ab003f3d",
   "metadata": {},
   "source": [
    "# '3.22.12.243'"
   ]
  },
  {
   "cell_type": "code",
   "execution_count": null,
   "id": "7d716f16",
   "metadata": {},
   "outputs": [],
   "source": [
    "df_3_22_12_243 = pd.read_pickle(ids_with_paths_dict['3.22.12.243'])\n",
    "#-----\n",
    "print(f\"shape[0] = {df_3_22_12_243.shape[0]}\")\n",
    "print(f\"# Unique reasons = {df_3_22_12_243['reason'].nunique()}\")\n",
    "print(df_3_22_12_243['reason'].unique())"
   ]
  },
  {
   "cell_type": "code",
   "execution_count": null,
   "id": "3a9e585a",
   "metadata": {},
   "outputs": [],
   "source": [
    "dict_3_22_12_243 = {\n",
    "        # Examples\n",
    "        # 'Meter event Test Mode Stopped  Time event occurred on meter = 08/27/2021 10:04:04  Sequence number = 23834  User id = 1  Event argument = 00-00 '\n",
    "        '3.22.12.243':   [\n",
    "            #-----\n",
    "            (r'(Meter event Test Mode Stopped)\\s*Time event occurred on meter\\s*=.*\\s*Sequence number\\s*=.*\\s*User id\\s*=.*\\s*Event argument\\s*=.*', r'\\1'), \n",
    "            #-----\n",
    "            (r'(Meter event Test Mode Stopped).*', r'\\1'), #Fail proof, in case time, sequence, etc., not found \n",
    "            #-----\n",
    "        ]\n",
    "}"
   ]
  },
  {
   "cell_type": "code",
   "execution_count": null,
   "id": "127dc17d",
   "metadata": {},
   "outputs": [],
   "source": [
    "curated_reasons = []\n",
    "for reason_i in df_3_22_12_243['reason'].unique().tolist():\n",
    "    curated_reason_i = AMIEndEvents.reduce_end_event_reason(\n",
    "        reason=reason_i, \n",
    "        patterns=dict_3_22_12_243['3.22.12.243']\n",
    "    )\n",
    "    curated_reasons.append(curated_reason_i)\n",
    "curated_reasons = list(set(curated_reasons))\n",
    "print(*curated_reasons, sep='\\n')"
   ]
  },
  {
   "cell_type": "code",
   "execution_count": null,
   "id": "a4cb8a0e",
   "metadata": {},
   "outputs": [],
   "source": [
    "assert(len(set(dict_3_22_12_243.keys()).intersection(set(dict_documented.keys())))==0)\n",
    "dict_documented = {**dict_documented, **dict_3_22_12_243}"
   ]
  },
  {
   "cell_type": "code",
   "execution_count": null,
   "id": "b6e1fe76",
   "metadata": {},
   "outputs": [],
   "source": []
  },
  {
   "cell_type": "markdown",
   "id": "ddd362fd",
   "metadata": {},
   "source": [
    "# '3.22.19.242'"
   ]
  },
  {
   "cell_type": "code",
   "execution_count": null,
   "id": "22ebf373",
   "metadata": {},
   "outputs": [],
   "source": [
    "df_3_22_19_242 = pd.read_pickle(ids_with_paths_dict['3.22.19.242'])\n",
    "#-----\n",
    "print(f\"shape[0] = {df_3_22_19_242.shape[0]}\")\n",
    "print(f\"# Unique reasons = {df_3_22_19_242['reason'].nunique()}\")\n",
    "print(df_3_22_19_242['reason'].unique())"
   ]
  },
  {
   "cell_type": "code",
   "execution_count": null,
   "id": "1f3bd24f",
   "metadata": {},
   "outputs": [],
   "source": [
    "dict_3_22_19_242 = {\n",
    "        # Examples\n",
    "        # 'Meter event Test Mode Started  Time event occurred on meter = 08/27/2021 07:48:19  Sequence number = 765  User id = 1  Event argument = 00-00 '\n",
    "        '3.22.19.242':   [\n",
    "            #-----\n",
    "            (r'(Meter event Test Mode Started)\\s*Time event occurred on meter\\s*=.*\\s*Sequence number\\s*=.*\\s*User id\\s*=.*\\s*Event argument\\s*=.*', r'\\1'), \n",
    "            #-----\n",
    "            (r'(Meter event Test Mode Started).*', r'\\1'), #Fail proof, in case time, sequence, etc., not found \n",
    "            #-----\n",
    "        ]\n",
    "}"
   ]
  },
  {
   "cell_type": "code",
   "execution_count": null,
   "id": "070a326d",
   "metadata": {},
   "outputs": [],
   "source": [
    "curated_reasons = []\n",
    "for reason_i in df_3_22_19_242['reason'].unique().tolist():\n",
    "    curated_reason_i = AMIEndEvents.reduce_end_event_reason(\n",
    "        reason=reason_i, \n",
    "        patterns=dict_3_22_19_242['3.22.19.242']\n",
    "    )\n",
    "    curated_reasons.append(curated_reason_i)\n",
    "curated_reasons = list(set(curated_reasons))\n",
    "print(*curated_reasons, sep='\\n')"
   ]
  },
  {
   "cell_type": "code",
   "execution_count": null,
   "id": "2543b352",
   "metadata": {},
   "outputs": [],
   "source": [
    "assert(len(set(dict_3_22_19_242.keys()).intersection(set(dict_documented.keys())))==0)\n",
    "dict_documented = {**dict_documented, **dict_3_22_19_242}"
   ]
  },
  {
   "cell_type": "code",
   "execution_count": null,
   "id": "52cf9255",
   "metadata": {},
   "outputs": [],
   "source": []
  },
  {
   "cell_type": "code",
   "execution_count": null,
   "id": "02210a23",
   "metadata": {},
   "outputs": [],
   "source": []
  },
  {
   "cell_type": "code",
   "execution_count": null,
   "id": "2d543239",
   "metadata": {},
   "outputs": [],
   "source": []
  },
  {
   "cell_type": "code",
   "execution_count": null,
   "id": "4e08f2cf",
   "metadata": {},
   "outputs": [],
   "source": []
  },
  {
   "cell_type": "markdown",
   "id": "49fb70b9",
   "metadata": {},
   "source": [
    "# '3.23.17.139'"
   ]
  },
  {
   "cell_type": "code",
   "execution_count": null,
   "id": "b0f53572",
   "metadata": {},
   "outputs": [],
   "source": [
    "df_3_23_17_139 = pd.read_pickle(ids_with_paths_dict['3.23.17.139'])\n",
    "#-----\n",
    "print(f\"shape[0] = {df_3_23_17_139.shape[0]}\")\n",
    "print(f\"# Unique reasons = {df_3_23_17_139['reason'].nunique()}\")\n",
    "print(df_3_23_17_139['reason'].unique())"
   ]
  },
  {
   "cell_type": "code",
   "execution_count": null,
   "id": "a899beca",
   "metadata": {},
   "outputs": [],
   "source": [
    "dict_3_23_17_139 = {\n",
    "        # Examples\n",
    "        # 'Device 00:13:50:05:ff:2e:17:7e has been determined to have exceeded the max allowable trap threshold, 20, within a certain time limit, 3600 seconds.'\n",
    "        '3.23.17.139':   [\n",
    "            #-----\n",
    "            (r'(Device)(?:\\s+(?:[0-9a-zA-Z]+)(?:\\:[0-9a-zA-Z]+)+).*(exceeded the max allowable trap threshold).*', r'\\1 \\2'), \n",
    "            #-----\n",
    "        ]\n",
    "}"
   ]
  },
  {
   "cell_type": "code",
   "execution_count": null,
   "id": "72a2e246",
   "metadata": {},
   "outputs": [],
   "source": [
    "curated_reasons = []\n",
    "for reason_i in df_3_23_17_139['reason'].unique().tolist():\n",
    "    curated_reason_i = AMIEndEvents.reduce_end_event_reason(\n",
    "        reason=reason_i, \n",
    "        patterns=dict_3_23_17_139['3.23.17.139']\n",
    "    )\n",
    "#     if curated_reason_i != 'Primary Power Up occurred for meter':\n",
    "#         print(curated_reason_i)\n",
    "    curated_reasons.append(curated_reason_i)\n",
    "curated_reasons = list(set(curated_reasons))\n",
    "print(*curated_reasons, sep='\\n')"
   ]
  },
  {
   "cell_type": "code",
   "execution_count": null,
   "id": "9f7d1d9d",
   "metadata": {},
   "outputs": [],
   "source": [
    "assert(len(set(dict_3_23_17_139.keys()).intersection(set(dict_documented.keys())))==0)\n",
    "dict_documented = {**dict_documented, **dict_3_23_17_139}"
   ]
  },
  {
   "cell_type": "code",
   "execution_count": null,
   "id": "c79b221f",
   "metadata": {},
   "outputs": [],
   "source": []
  },
  {
   "cell_type": "code",
   "execution_count": null,
   "id": "ae2a5146",
   "metadata": {},
   "outputs": [],
   "source": []
  },
  {
   "cell_type": "code",
   "execution_count": null,
   "id": "84869728",
   "metadata": {},
   "outputs": [],
   "source": []
  },
  {
   "cell_type": "code",
   "execution_count": null,
   "id": "4d9c9d2b",
   "metadata": {},
   "outputs": [],
   "source": []
  },
  {
   "cell_type": "markdown",
   "id": "3a3cbb97",
   "metadata": {},
   "source": [
    "# '3.23.136.47'"
   ]
  },
  {
   "cell_type": "code",
   "execution_count": null,
   "id": "57da65fa",
   "metadata": {},
   "outputs": [],
   "source": [
    "df_3_23_136_47 = pd.read_pickle(ids_with_paths_dict['3.23.136.47'])\n",
    "#-----\n",
    "print(f\"shape[0] = {df_3_23_136_47.shape[0]}\")\n",
    "print(f\"# Unique reasons = {df_3_23_136_47['reason'].nunique()}\")\n",
    "print(df_3_23_136_47['reason'].unique())"
   ]
  },
  {
   "cell_type": "markdown",
   "id": "d1c26cdb",
   "metadata": {},
   "source": [
    "# !!!!!!!!!!!!!!!!!!!!!!!!!!!!!!!!!!!!!!!!!!!!!!!!!!!!!!!!!!!!!"
   ]
  },
  {
   "cell_type": "code",
   "execution_count": null,
   "id": "8fa251bd",
   "metadata": {},
   "outputs": [],
   "source": [
    "dict_3_23_136_47 = {\n",
    "        # Examples\n",
    "        # 'Access Point 00:13:50:08:ff:00:06:8e has lost connectivity with FHSS 900 MHz band.'\n",
    "        '3.23.136.47':  [\n",
    "            #-----\n",
    "            (r'(Access Point)(?:\\s+(?:[0-9a-zA-Z]+)(?:\\:[0-9a-zA-Z]+)+)\\s*(has lost connectivity with FHSS 900 MHz band.)', r'\\1 \\2') \n",
    "            #-----\n",
    "        ]\n",
    "}\n",
    "\n",
    "# # COULD ALSO DO (and in this case, should probably do)\n",
    "# # NOTE: Here, the MAC-esque code occurs in middle of string, not the end as is common elsewhere.\n",
    "# #       This is why the pattern here excludes [\\s*\\.]* at the end\n",
    "# dict_3_23_136_47 = {\n",
    "#         '3.23.136.47':  [\n",
    "#             #-----\n",
    "#             (r'((?:\\s*occurred\\s*)?(?:\\s*(?:for|on)?\\s*(?:meter)?)?\\s+(?:[0-9a-zA-Z]+)(?:\\:[0-9a-zA-Z]+)+\\.?)', '')\n",
    "#             #-----\n",
    "#         ]\n",
    "# }"
   ]
  },
  {
   "cell_type": "code",
   "execution_count": null,
   "id": "27d5b125",
   "metadata": {},
   "outputs": [],
   "source": [
    "curated_reasons = []\n",
    "for reason_i in df_3_23_136_47['reason'].unique().tolist():\n",
    "    curated_reason_i = AMIEndEvents.reduce_end_event_reason(\n",
    "        reason=reason_i, \n",
    "        patterns=dict_3_23_136_47['3.23.136.47']\n",
    "    )\n",
    "#     if curated_reason_i != 'Primary Power Up occurred for meter':\n",
    "#         print(curated_reason_i)\n",
    "    curated_reasons.append(curated_reason_i)\n",
    "curated_reasons = list(set(curated_reasons))\n",
    "print(*curated_reasons, sep='\\n')"
   ]
  },
  {
   "cell_type": "code",
   "execution_count": null,
   "id": "cc03c94c",
   "metadata": {},
   "outputs": [],
   "source": [
    "assert(len(set(dict_3_23_136_47.keys()).intersection(set(dict_documented.keys())))==0)\n",
    "dict_documented = {**dict_documented, **dict_3_23_136_47}"
   ]
  },
  {
   "cell_type": "code",
   "execution_count": null,
   "id": "83114584",
   "metadata": {},
   "outputs": [],
   "source": []
  },
  {
   "cell_type": "markdown",
   "id": "068defe8",
   "metadata": {},
   "source": [
    "# '3.23.136.85'"
   ]
  },
  {
   "cell_type": "code",
   "execution_count": null,
   "id": "cd521663",
   "metadata": {},
   "outputs": [],
   "source": [
    "df_3_23_136_85 = pd.read_pickle(ids_with_paths_dict['3.23.136.85'])\n",
    "#-----\n",
    "print(f\"shape[0] = {df_3_23_136_85.shape[0]}\")\n",
    "print(f\"# Unique reasons = {df_3_23_136_85['reason'].nunique()}\")\n",
    "print(df_3_23_136_85['reason'].unique())"
   ]
  },
  {
   "cell_type": "code",
   "execution_count": null,
   "id": "d2cd0e0c",
   "metadata": {},
   "outputs": [],
   "source": [
    "dict_3_23_136_85 = {\n",
    "        # Examples\n",
    "        # Device: 00:13:50:05:ff:20:f5:ef Time: 2021-01-20T06:03:47.000-05:00 Failed Device: 00:13:50:05:ff:20:f5:ef Reason: Security public key mismatch Reboot Counter: 44 Refresh Counter: 0 Seconds since last reboot 6872803\n",
    "        # 'NIC Link Layer Handshake Failed: Device: 00:13:50:05:ff:19:4e:6b, Rejected neighbor Mac ID: 00:13:50:05:ff:18:a3:52, Rejection Cause: invalid eblob signature'\n",
    "        '3.23.136.85':  [\n",
    "            #-----\n",
    "            # Below, Device and Failed Device sometimes blank, sometime MAC-esque\n",
    "            (r'Device\\:?(?:\\s+(?:[0-9a-zA-Z]+)(?:\\:[0-9a-zA-Z]+)+)? Time: .* Failed Device\\:?(?:\\s+(?:[0-9a-zA-Z]+)(?:\\:[0-9a-zA-Z]+)+)? (Reason: .*) Reboot Counter: .* Refresh Counter: .*', r'Device Failed: \\1'), \n",
    "            #-----\n",
    "            (r'(NIC Link Layer Handshake Failed): Device:(?:\\s+(?:[0-9a-zA-Z]+)(?:\\:[0-9a-zA-Z]+)+), Rejected neighbor Mac ID:(?:\\s+(?:[0-9a-zA-Z]+)(?:\\:[0-9a-zA-Z]+)+), (Rejection Cause: .*)', r'\\1: \\2')\n",
    "            #-----\n",
    "        ]\n",
    "}"
   ]
  },
  {
   "cell_type": "code",
   "execution_count": null,
   "id": "9a12db1a",
   "metadata": {},
   "outputs": [],
   "source": [
    "curated_reasons = []\n",
    "for reason_i in df_3_23_136_85['reason'].unique().tolist():\n",
    "    curated_reason_i = AMIEndEvents.reduce_end_event_reason(\n",
    "        reason=reason_i, \n",
    "        patterns=dict_3_23_136_85['3.23.136.85']\n",
    "    )\n",
    "#     if curated_reason_i != 'Primary Power Up occurred for meter':\n",
    "#         print(curated_reason_i)\n",
    "    curated_reasons.append(curated_reason_i)\n",
    "curated_reasons = list(set(curated_reasons))\n",
    "print(*curated_reasons, sep='\\n')"
   ]
  },
  {
   "cell_type": "code",
   "execution_count": null,
   "id": "120c02e5",
   "metadata": {},
   "outputs": [],
   "source": [
    "assert(len(set(dict_3_23_136_85.keys()).intersection(set(dict_documented.keys())))==0)\n",
    "dict_documented = {**dict_documented, **dict_3_23_136_85}"
   ]
  },
  {
   "cell_type": "code",
   "execution_count": null,
   "id": "232c01f5",
   "metadata": {},
   "outputs": [],
   "source": []
  },
  {
   "cell_type": "markdown",
   "id": "3e63543b",
   "metadata": {},
   "source": [
    "# '3.25.17.3'"
   ]
  },
  {
   "cell_type": "code",
   "execution_count": null,
   "id": "10fbc56b",
   "metadata": {},
   "outputs": [],
   "source": [
    "df_3_25_17_3 = pd.read_pickle(ids_with_paths_dict['3.25.17.3'])\n",
    "#-----\n",
    "print(f\"shape[0] = {df_3_25_17_3.shape[0]}\")\n",
    "print(f\"# Unique reasons = {df_3_25_17_3['reason'].nunique()}\")\n",
    "print(df_3_25_17_3['reason'].unique())"
   ]
  },
  {
   "cell_type": "code",
   "execution_count": null,
   "id": "3d322b0f",
   "metadata": {},
   "outputs": [],
   "source": [
    "dict_3_25_17_3 = {\n",
    "        # Examples\n",
    "        # 'Meter generated an energy polarity gyrbox call in event.'\n",
    "        '3.25.17.3':   [\n",
    "            #-----\n",
    "            (r'(Meter generated an energy polarity gyrbox call in event).*', r'\\1'), \n",
    "            #-----\n",
    "        ]\n",
    "}"
   ]
  },
  {
   "cell_type": "code",
   "execution_count": null,
   "id": "1ac97e2d",
   "metadata": {},
   "outputs": [],
   "source": [
    "curated_reasons = []\n",
    "for reason_i in df_3_25_17_3['reason'].unique().tolist():\n",
    "    curated_reason_i = AMIEndEvents.reduce_end_event_reason(\n",
    "        reason=reason_i, \n",
    "        patterns=dict_3_25_17_3['3.25.17.3']\n",
    "    )\n",
    "    curated_reasons.append(curated_reason_i)\n",
    "curated_reasons = list(set(curated_reasons))\n",
    "print(*curated_reasons, sep='\\n')"
   ]
  },
  {
   "cell_type": "code",
   "execution_count": null,
   "id": "5041386c",
   "metadata": {},
   "outputs": [],
   "source": [
    "assert(len(set(dict_3_25_17_3.keys()).intersection(set(dict_documented.keys())))==0)\n",
    "dict_documented = {**dict_documented, **dict_3_25_17_3}"
   ]
  },
  {
   "cell_type": "code",
   "execution_count": null,
   "id": "825b6ba8",
   "metadata": {},
   "outputs": [],
   "source": []
  },
  {
   "cell_type": "code",
   "execution_count": null,
   "id": "18edcac1",
   "metadata": {},
   "outputs": [],
   "source": []
  },
  {
   "cell_type": "code",
   "execution_count": null,
   "id": "27982752",
   "metadata": {},
   "outputs": [],
   "source": []
  },
  {
   "cell_type": "code",
   "execution_count": null,
   "id": "77f76b4e",
   "metadata": {},
   "outputs": [],
   "source": []
  },
  {
   "cell_type": "markdown",
   "id": "38276ad4",
   "metadata": {},
   "source": [
    "# '3.26.0.47'"
   ]
  },
  {
   "cell_type": "code",
   "execution_count": null,
   "id": "9fd0e714",
   "metadata": {},
   "outputs": [],
   "source": [
    "df_3_26_0_47 = pd.read_pickle(ids_with_paths_dict['3.26.0.47'])\n",
    "#-----\n",
    "print(f\"shape[0] = {df_3_26_0_47.shape[0]}\")\n",
    "print(f\"# Unique reasons = {df_3_26_0_47['reason'].nunique()}\")\n",
    "print(df_3_26_0_47['reason'].unique())"
   ]
  },
  {
   "cell_type": "code",
   "execution_count": null,
   "id": "cc971318",
   "metadata": {},
   "outputs": [],
   "source": [
    "dict_3_26_0_47 = {\n",
    "        # Examples\n",
    "        # 'Primary Power Down occurred for meter 00:13:50:05:ff:16:5f:61.'\n",
    "        # 'Meter had a power outage. Unsafe power fail count = 32714'\n",
    "        # 'Meter event Primary Power Down  Time event occurred on meter = 08/05/2021 16:59:27  Sequence number = 691  User id = 0  Event argument = 00-00'\n",
    "        '3.26.0.47': [\n",
    "            #-----\n",
    "            (r'(Primary Power Down)(?:(?:\\s*occurred\\s*)?(?:\\s*(?:for|on)?\\s*(?:meter)?)?\\s+(?:[0-9a-zA-Z]+)(?:\\:[0-9a-zA-Z]+)+\\.?)', r'\\1'), \n",
    "            #-----\n",
    "            (r'(Meter had a power outage)\\.?\\s*(Unsafe power fail)\\s*count\\s*=\\s*[0-9]+', r'\\1 (\\2)'), \n",
    "            #-----\n",
    "            (r'^(Meter had a power outage).*$', r'\\1'), #Fail proof, in case Unsafe power fail, count, etc., not found \n",
    "            #-----\n",
    "            (r'(Meter event Primary Power Down)\\s*Time event occurred on meter\\s*=.*\\s*Sequence number\\s*=.*\\s*User id\\s*=.*\\s*Event argument\\s*=.*', r'\\1'), \n",
    "            #-----\n",
    "            (r'(Meter event Primary Power Down).*', r'\\1'), #Fail proof, in case time, sequence, etc., not found \n",
    "        ]\n",
    "}"
   ]
  },
  {
   "cell_type": "code",
   "execution_count": null,
   "id": "421add8e",
   "metadata": {},
   "outputs": [],
   "source": [
    "curated_reasons = []\n",
    "for reason_i in df_3_26_0_47['reason'].unique().tolist():\n",
    "    curated_reason_i = AMIEndEvents.reduce_end_event_reason(\n",
    "        reason=reason_i, \n",
    "        patterns=dict_3_26_0_47['3.26.0.47']\n",
    "    )\n",
    "    curated_reasons.append(curated_reason_i)\n",
    "curated_reasons = list(set(curated_reasons))\n",
    "print(*curated_reasons, sep='\\n')"
   ]
  },
  {
   "cell_type": "code",
   "execution_count": null,
   "id": "ff94c031",
   "metadata": {},
   "outputs": [],
   "source": [
    "assert(len(set(dict_3_26_0_47.keys()).intersection(set(dict_documented.keys())))==0)\n",
    "dict_documented = {**dict_documented, **dict_3_26_0_47}"
   ]
  },
  {
   "cell_type": "code",
   "execution_count": null,
   "id": "855661af",
   "metadata": {},
   "outputs": [],
   "source": []
  },
  {
   "cell_type": "code",
   "execution_count": null,
   "id": "26b75031",
   "metadata": {},
   "outputs": [],
   "source": []
  },
  {
   "cell_type": "code",
   "execution_count": null,
   "id": "2965df4b",
   "metadata": {},
   "outputs": [],
   "source": []
  },
  {
   "cell_type": "code",
   "execution_count": null,
   "id": "702cf78f",
   "metadata": {},
   "outputs": [],
   "source": []
  },
  {
   "cell_type": "markdown",
   "id": "b798074d",
   "metadata": {},
   "source": [
    "# '3.26.0.216'"
   ]
  },
  {
   "cell_type": "code",
   "execution_count": null,
   "id": "711a33cd",
   "metadata": {},
   "outputs": [],
   "source": [
    "df_3_26_0_216 = pd.read_pickle(ids_with_paths_dict['3.26.0.216'])\n",
    "#-----\n",
    "print(f\"shape[0] = {df_3_26_0_216.shape[0]}\")\n",
    "print(f\"# Unique reasons = {df_3_26_0_216['reason'].nunique()}\")\n",
    "print(df_3_26_0_216['reason'].unique())"
   ]
  },
  {
   "cell_type": "code",
   "execution_count": null,
   "id": "3a9fef9d",
   "metadata": {},
   "outputs": [],
   "source": [
    "dict_3_26_0_216 = {\n",
    "        # Examples\n",
    "        # 'Primary Power Up occurred for meter 00:13:50:05:ff:22:2a:0c.'\n",
    "        # 'Meter event Primary Power Up Time event occurred on meter = 08/14/2020 Sequence number = 343 User id = 0 Event argument = 00-00'\n",
    "        '3.26.0.216':   [\n",
    "            #-----\n",
    "            (r'(Primary Power Up)(?:(?:\\s*occurred\\s*)?(?:\\s*(?:for|on)?\\s*(?:meter)?)?\\s+(?:[0-9a-zA-Z]+)(?:\\:[0-9a-zA-Z]+)+\\.?)', r'\\1'), \n",
    "            #-----\n",
    "            (r'Meter event (Primary Power Up)\\s*Time event occurred on meter\\s*=.*\\s*Sequence number\\s*=.*\\s*User id\\s*=.*\\s*Event argument\\s*=.*', r'\\1'), \n",
    "            #-----\n",
    "            (r'Meter event (Primary Power Up).*', r'\\1'),  #Fail proof, in case time, sequence, etc., not found \n",
    "            #-----\n",
    "        ]\n",
    "}"
   ]
  },
  {
   "cell_type": "code",
   "execution_count": null,
   "id": "ea8d0ffe",
   "metadata": {},
   "outputs": [],
   "source": [
    "curated_reasons = []\n",
    "for reason_i in df_3_26_0_216['reason'].unique().tolist():\n",
    "    curated_reason_i = AMIEndEvents.reduce_end_event_reason(\n",
    "        reason=reason_i, \n",
    "        patterns=dict_3_26_0_216['3.26.0.216']\n",
    "    )\n",
    "#     if curated_reason_i != 'Primary Power Up occurred for meter':\n",
    "#         print(curated_reason_i)\n",
    "    curated_reasons.append(curated_reason_i)\n",
    "curated_reasons = list(set(curated_reasons))\n",
    "print(*curated_reasons, sep='\\n')"
   ]
  },
  {
   "cell_type": "code",
   "execution_count": null,
   "id": "4bd00a67",
   "metadata": {},
   "outputs": [],
   "source": [
    "assert(len(set(dict_3_26_0_216.keys()).intersection(set(dict_documented.keys())))==0)\n",
    "dict_documented = {**dict_documented, **dict_3_26_0_216}"
   ]
  },
  {
   "cell_type": "code",
   "execution_count": null,
   "id": "ee0a3ed9",
   "metadata": {},
   "outputs": [],
   "source": []
  },
  {
   "cell_type": "code",
   "execution_count": null,
   "id": "3a3c92a2",
   "metadata": {},
   "outputs": [],
   "source": []
  },
  {
   "cell_type": "code",
   "execution_count": null,
   "id": "ea59f538",
   "metadata": {},
   "outputs": [],
   "source": []
  },
  {
   "cell_type": "code",
   "execution_count": null,
   "id": "6dd0c204",
   "metadata": {},
   "outputs": [],
   "source": []
  },
  {
   "cell_type": "markdown",
   "id": "1958e5fb",
   "metadata": {},
   "source": [
    "# '3.26.17.185'"
   ]
  },
  {
   "cell_type": "code",
   "execution_count": null,
   "id": "7970e3e3",
   "metadata": {},
   "outputs": [],
   "source": [
    "df_3_26_17_185 = pd.read_pickle(ids_with_paths_dict['3.26.17.185'])\n",
    "#-----\n",
    "print(f\"shape[0] = {df_3_26_17_185.shape[0]}\")\n",
    "print(f\"# Unique reasons = {df_3_26_17_185['reason'].nunique()}\")\n",
    "print(df_3_26_17_185['reason'].unique())"
   ]
  },
  {
   "cell_type": "code",
   "execution_count": null,
   "id": "7f579419",
   "metadata": {},
   "outputs": [],
   "source": [
    "dict_3_26_17_185 = {\n",
    "        # Examples\n",
    "        # 'Meter had a power outage. Unsafe power fail count = 13050'\n",
    "        # Meter event Primary Power Down  Time event occurred on meter = 08/31/2021 20:07:18  Sequence number = 103  User id = 0  Event argument = 00-00 \n",
    "        '3.26.17.185':  [\n",
    "            #-----\n",
    "            (r'(Meter had a power outage).\\s*(Unsafe power fail) count = [0-9]+', r'\\1 (\\2)'), \n",
    "            #-----\n",
    "            (r'(Meter event Primary Power Down)\\s*Time event occurred on meter\\s*=.*\\s*Sequence number\\s*=.*\\s*User id\\s*=.*\\s*Event argument\\s*=.*', r'\\1'), \n",
    "            #-----\n",
    "            (r'(Meter event Primary Power Down).*', r'\\1'), #Fail proof, in case time, sequence, etc., not found \n",
    "            #-----\n",
    "        ]\n",
    "}"
   ]
  },
  {
   "cell_type": "code",
   "execution_count": null,
   "id": "115e1058",
   "metadata": {},
   "outputs": [],
   "source": [
    "curated_reasons = []\n",
    "for reason_i in df_3_26_17_185['reason'].unique().tolist():\n",
    "    curated_reason_i = AMIEndEvents.reduce_end_event_reason(\n",
    "        reason=reason_i, \n",
    "        patterns=dict_3_26_17_185['3.26.17.185']\n",
    "    )\n",
    "    curated_reasons.append(curated_reason_i)\n",
    "curated_reasons = list(set(curated_reasons))\n",
    "print(*curated_reasons, sep='\\n')"
   ]
  },
  {
   "cell_type": "code",
   "execution_count": null,
   "id": "221fe7f6",
   "metadata": {},
   "outputs": [],
   "source": [
    "assert(len(set(dict_3_26_17_185.keys()).intersection(set(dict_documented.keys())))==0)\n",
    "dict_documented = {**dict_documented, **dict_3_26_17_185}"
   ]
  },
  {
   "cell_type": "code",
   "execution_count": null,
   "id": "06a4b620",
   "metadata": {},
   "outputs": [],
   "source": []
  },
  {
   "cell_type": "markdown",
   "id": "2abc2252",
   "metadata": {},
   "source": [
    "# '3.26.17.216'"
   ]
  },
  {
   "cell_type": "code",
   "execution_count": null,
   "id": "45664b7f",
   "metadata": {},
   "outputs": [],
   "source": [
    "df_3_26_17_216 = pd.read_pickle(ids_with_paths_dict['3.26.17.216'])\n",
    "#-----\n",
    "print(f\"shape[0] = {df_3_26_17_216.shape[0]}\")\n",
    "print(f\"# Unique reasons = {df_3_26_17_216['reason'].nunique()}\")\n",
    "print(df_3_26_17_216['reason'].unique())"
   ]
  },
  {
   "cell_type": "code",
   "execution_count": null,
   "id": "2c84613d",
   "metadata": {},
   "outputs": [],
   "source": [
    "dict_3_26_17_216 = {\n",
    "        # Examples\n",
    "        # 'Meter event Primary Power Up  Time event occurred on meter = 08/31/2021 20:07:44  Sequence number = 104  User id = 0  Event argument = 00-00 '\n",
    "        '3.26.17.216':  [\n",
    "            #-----\n",
    "            (r'Meter event (Primary Power Up)\\s*Time event occurred on meter\\s*=.*\\s*Sequence number\\s*=.*\\s*User id\\s*=.*\\s*Event argument\\s*=.*', r'\\1'), \n",
    "            #-----\n",
    "            (r'Meter event (Primary Power Up).*', r'\\1'), #Fail proof, in case time, sequence, etc., not found \n",
    "            #-----\n",
    "        ]\n",
    "}"
   ]
  },
  {
   "cell_type": "code",
   "execution_count": null,
   "id": "074d53d2",
   "metadata": {},
   "outputs": [],
   "source": [
    "curated_reasons = []\n",
    "for reason_i in df_3_26_17_216['reason'].unique().tolist():\n",
    "    curated_reason_i = AMIEndEvents.reduce_end_event_reason(\n",
    "        reason=reason_i, \n",
    "        patterns=dict_3_26_17_216['3.26.17.216']\n",
    "    )\n",
    "    curated_reasons.append(curated_reason_i)\n",
    "curated_reasons = list(set(curated_reasons))\n",
    "print(*curated_reasons, sep='\\n')"
   ]
  },
  {
   "cell_type": "code",
   "execution_count": null,
   "id": "daabce5f",
   "metadata": {},
   "outputs": [],
   "source": [
    "assert(len(set(dict_3_26_17_216.keys()).intersection(set(dict_documented.keys())))==0)\n",
    "dict_documented = {**dict_documented, **dict_3_26_17_216}"
   ]
  },
  {
   "cell_type": "code",
   "execution_count": null,
   "id": "b8f87e12",
   "metadata": {},
   "outputs": [],
   "source": []
  },
  {
   "cell_type": "code",
   "execution_count": null,
   "id": "63bb5613",
   "metadata": {},
   "outputs": [],
   "source": []
  },
  {
   "cell_type": "code",
   "execution_count": null,
   "id": "e2b97ee3",
   "metadata": {},
   "outputs": [],
   "source": []
  },
  {
   "cell_type": "markdown",
   "id": "458cb7d1",
   "metadata": {},
   "source": [
    "# !!!!!!!!!!!!!!!!!!!!!!!!!!!!!!!!!!!!!!!!!!!!!!!!!!!!!!!!!!!!!!!!"
   ]
  },
  {
   "cell_type": "markdown",
   "id": "b2cc5668",
   "metadata": {},
   "source": [
    "# '3.26.38.37'"
   ]
  },
  {
   "cell_type": "code",
   "execution_count": null,
   "id": "1dfbb790",
   "metadata": {},
   "outputs": [],
   "source": [
    "df_3_26_38_37 = pd.read_pickle(ids_with_paths_dict['3.26.38.37'])\n",
    "#-----\n",
    "print(f\"shape[0] = {df_3_26_38_37.shape[0]}\")\n",
    "print(f\"# Unique reasons = {df_3_26_38_37['reason'].nunique()}\")\n",
    "print(df_3_26_38_37['reason'].unique())"
   ]
  },
  {
   "cell_type": "code",
   "execution_count": null,
   "id": "19667ee9",
   "metadata": {},
   "outputs": [],
   "source": [
    "dict_3_26_38_37_OG = {\n",
    "        # Examples\n",
    "        # 'Under Voltage cleared (CA000400) for meter 00:13:50:05:ff:0b:88:ec.'\n",
    "        # 'Under Voltage (CA000400) cleared for meter 00:13:50:05:ff:15:e8:3b.'\n",
    "        # 'Under Voltage (Diagnostic 6) cleared for meter 00:13:50:05:ff:3f:87:07N/A.'\n",
    "        '3.26.38.37':   [\n",
    "            #-----\n",
    "            # NOTE: Due to annoying N/A at end of some MAC-esque IDs, I have to specify length of numerical entries\n",
    "            #       as [0-9a-zA-Z]{1,2}, instead of the more general [0-9a-zA-Z]+ found elsewhere!\n",
    "            (r'\\s+(?:[0-9a-zA-Z]{1,2})(?:\\:[0-9a-zA-Z]{1,2})+(?:N/A)?\\.?', ''), \n",
    "            #-----\n",
    "            (\n",
    "                (\n",
    "                    r'(Under Voltage)\\s*'      \n",
    "                    r'(\\([0-9a-zA-Z\\s]*\\))\\s*'\\\n",
    "                    r'([0-9a-zA-Z]*)?\\s?'\\\n",
    "                    r'(for meter\\:?\\s*)'\\\n",
    "                    r'(?:(?:[0-9a-zA-Z]{1,2})(?:\\:[0-9a-zA-Z]{1,2})+)?[\\s:,.]*'\\\n",
    "                    r'(?:Phase\\s{1,2}[ABC](?:(?:\\s*and\\s*[ABC])|(?:,\\s*[ABC])*))?\\s*'\\\n",
    "                    r'(Voltage out of tolerance)?'\n",
    "                ), \n",
    "                r'\\1 \\2 \\3 \\4 \\5'\n",
    "            ), \n",
    "            #-----\n",
    "            (\n",
    "                (\n",
    "                    r'(Under Voltage)\\s*'\n",
    "                    r'([0-9a-zA-Z]*)?\\s*'\\\n",
    "                    r'(\\([0-9a-zA-Z\\s]*\\))\\s*'\\\n",
    "                    r'(for meter\\:?\\s*)'\\\n",
    "                    r'(?:(?:[0-9a-zA-Z]{1,2})(?:\\:[0-9a-zA-Z]{1,2})+)?[\\s:,.]*'\\\n",
    "                    r'(?:Phase\\s{1,2}[ABC](?:(?:\\s*and\\s*[ABC])|(?:,\\s*[ABC])*))?\\s*'\\\n",
    "                    r'(Voltage out of tolerance)?'\n",
    "                ), \n",
    "                r'\\1 \\3 \\2 \\4 \\5'\n",
    "            ), \n",
    "            #-----\n",
    "            ('meterN/A', 'meter'), \n",
    "            #-----\n",
    "            (r'N/A', ''), \n",
    "            #-----\n",
    "            (r'[!\"#$%&\\'(*+,-./:;<=>?@[\\\\^_`{|~\\s]*$', ''), \n",
    "            #-----\n",
    "            (r'\\s{2,}', ' '), \n",
    "            #-----\n",
    "            (r'\\s*(.*)', r'\\1')\n",
    "            #-----\n",
    "        ]\n",
    "}"
   ]
  },
  {
   "cell_type": "code",
   "execution_count": null,
   "id": "ec654f48",
   "metadata": {},
   "outputs": [],
   "source": [
    "dict_3_26_38_37 = {\n",
    "        # Examples\n",
    "        # 'Under Voltage cleared (CA000400) for meter 00:13:50:05:ff:0b:88:ec.'\n",
    "        # 'Under Voltage (CA000400) cleared for meter 00:13:50:05:ff:15:e8:3b.'\n",
    "        # 'Under Voltage (Diagnostic 6) cleared for meter 00:13:50:05:ff:3f:87:07N/A.'\n",
    "        '3.26.38.37':   [\n",
    "            #-----\n",
    "            # NOTE: Due to annoying N/A at end of some MAC-esque IDs, I have to specify length of numerical entries\n",
    "            #       as [0-9a-zA-Z]{1,2}, instead of the more general [0-9a-zA-Z]+ found elsewhere!\n",
    "            (r'(Under Voltage|Low Potential|Diag6 Condition)\\s*(\\scleared)?\\s*(\\s\\(.*\\))?\\s*(\\scleared)?\\s*(?:(?:\\s*(?:for|on)?\\s*(?:meter)?)?\\s+(?:[0-9a-zA-Z]{1,2})(?:\\:[0-9a-zA-Z]{1,2})+(?:N/A)?\\.?)', r'\\1\\3\\2\\4')\n",
    "            #-----\n",
    "        ]\n",
    "}"
   ]
  },
  {
   "cell_type": "code",
   "execution_count": null,
   "id": "a6f341e1",
   "metadata": {},
   "outputs": [],
   "source": [
    "curated_reasons = []\n",
    "for reason_i in df_3_26_38_37['reason'].unique().tolist():\n",
    "    curated_reason_i = AMIEndEvents.reduce_end_event_reason(\n",
    "        reason=reason_i, \n",
    "        patterns=dict_3_26_38_37['3.26.38.37']\n",
    "    )\n",
    "    curated_reasons.append(curated_reason_i)\n",
    "curated_reasons = list(set(curated_reasons))\n",
    "print(*curated_reasons, sep='\\n')"
   ]
  },
  {
   "cell_type": "code",
   "execution_count": null,
   "id": "16f3c236",
   "metadata": {},
   "outputs": [],
   "source": [
    "assert(len(set(dict_3_26_38_37.keys()).intersection(set(dict_documented.keys())))==0)\n",
    "dict_documented = {**dict_documented, **dict_3_26_38_37}"
   ]
  },
  {
   "cell_type": "code",
   "execution_count": null,
   "id": "3ea124ea",
   "metadata": {},
   "outputs": [],
   "source": []
  },
  {
   "cell_type": "code",
   "execution_count": null,
   "id": "5be52e20",
   "metadata": {},
   "outputs": [],
   "source": [
    "test_str = 'Under Voltage cleared (CA000400) for meter 00:13:50:05:ff:0b:88:ec.'\n",
    "pattern = r'(Under Voltage|Low Potential|Diag6 Condition)\\s*(\\scleared)?\\s*(\\s\\(.*\\))?\\s*(\\scleared)?\\s*(?:(?:\\s*(?:for|on)?\\s*(?:meter)?)?\\s+(?:[0-9a-zA-Z]+)(?:\\:[0-9a-zA-Z]+)+\\.?)'\n",
    "# repl = r'1:\\1 2:\\2 3:\\3 4:\\4'\n",
    "# repl = r'1:\\1 3:\\3 2:\\2 4:\\4'\n",
    "repl = r'\\1\\3\\2\\4'\n",
    "\n",
    "re.sub(pattern, repl, test_str)"
   ]
  },
  {
   "cell_type": "code",
   "execution_count": null,
   "id": "4172a940",
   "metadata": {},
   "outputs": [],
   "source": [
    "test_str = 'Under Voltage (CA000400) cleared for meter 00:13:50:05:ff:0c:79:88.'\n",
    "pattern = r'(Under Voltage|Low Potential|Diag6 Condition)\\s*(\\scleared)?\\s*(\\s\\(.*\\))?\\s*(\\scleared)?\\s*(?:(?:\\s*(?:for|on)?\\s*(?:meter)?)?\\s+(?:[0-9a-zA-Z]+)(?:\\:[0-9a-zA-Z]+)+\\.?)'\n",
    "# repl = r'1:\\1 2:\\2 3:\\3 4:\\4'\n",
    "# repl = r'1:\\1 3:\\3 2:\\2 4:\\4'\n",
    "\n",
    "repl = r'\\1\\3\\2\\4'\n",
    "re.sub(pattern, repl, test_str)"
   ]
  },
  {
   "cell_type": "code",
   "execution_count": null,
   "id": "7966cd58",
   "metadata": {},
   "outputs": [],
   "source": [
    "test_str = 'Low Potential cleared for meter 00:13:50:05:ff:1b:3a:81.'\n",
    "pattern = r'(Under Voltage|Low Potential|Diag6 Condition)\\s*(\\scleared)?\\s*(\\s\\(.*\\))?\\s*(\\scleared)?\\s*(?:(?:\\s*(?:for|on)?\\s*(?:meter)?)?\\s+(?:[0-9a-zA-Z]+)(?:\\:[0-9a-zA-Z]+)+\\.?)'\n",
    "# repl = r'1:\\1 2:\\2 3:\\3 4:\\4'\n",
    "# repl = r'1:\\1~3:\\3~2:\\2~4:\\4'\n",
    "repl = r'\\1\\3\\2\\4'\n",
    "\n",
    "re.sub(pattern, repl, test_str)"
   ]
  },
  {
   "cell_type": "code",
   "execution_count": null,
   "id": "2d0270c8",
   "metadata": {},
   "outputs": [],
   "source": [
    "test_str = 'Low Potential cleared for meter 00:13:50:05:ff:1b:3a:81.'\n",
    "pattern = r'(Under Voltage|Low Potential|Diag6 Condition)\\s*(\\scleared)?\\s*(\\s\\(.*\\))?\\s*(\\scleared)?\\s*(?:(?:\\s*(?:for|on)?\\s*(?:meter)?)?\\s+(?:[0-9a-zA-Z]+)(?:\\:[0-9a-zA-Z]+)+\\.?)'\n",
    "# repl = r'1:\\1 2:\\2 3:\\3 4:\\4'\n",
    "# repl = r'1:\\1~3:\\3~2:\\2~4:\\4'\n",
    "# repl = r'\\1 \\3\\2\\4'\n",
    "repl = r'\\1\\3\\2\\4'\n",
    "\n",
    "re.sub(pattern, repl, test_str)"
   ]
  },
  {
   "cell_type": "code",
   "execution_count": null,
   "id": "4711e962",
   "metadata": {},
   "outputs": [],
   "source": []
  },
  {
   "cell_type": "code",
   "execution_count": null,
   "id": "e056edb3",
   "metadata": {},
   "outputs": [],
   "source": []
  },
  {
   "cell_type": "markdown",
   "id": "0ddf7ad2",
   "metadata": {},
   "source": [
    "# '3.26.38.47'"
   ]
  },
  {
   "cell_type": "code",
   "execution_count": 116,
   "id": "35404f4c",
   "metadata": {},
   "outputs": [
    {
     "name": "stdout",
     "output_type": "stream",
     "text": [
      "shape[0] = 1055446\n",
      "# Unique reasons = 106912\n",
      "['Low Potential (C1219 Table 3) occurred for meter 00:13:50:05:ff:1b:67:3b.'\n",
      " 'Low Potential (C1219 Table 3) occurred for meter 00:13:50:05:ff:15:e8:3b.'\n",
      " 'Low Potential (C1219 Table 3) occurred for meter 00:13:50:05:ff:26:2d:3f.'\n",
      " ...\n",
      " 'Low Potential (C1219 Table 3) occurred for meter 00:13:50:03:ff:02:32:93.'\n",
      " 'Low Potential (C1219 Table 3) occurred for meter 00:13:50:03:ff:03:0b:91.'\n",
      " 'Low Potential (C1219 Table 3) occurred for meter 00:13:50:05:ff:2c:e5:72.']\n"
     ]
    }
   ],
   "source": [
    "df_3_26_38_47 = pd.read_pickle(ids_with_paths_dict['3.26.38.47'])\n",
    "#-----\n",
    "print(f\"shape[0] = {df_3_26_38_47.shape[0]}\")\n",
    "print(f\"# Unique reasons = {df_3_26_38_47['reason'].nunique()}\")\n",
    "print(df_3_26_38_47['reason'].unique())"
   ]
  },
  {
   "cell_type": "code",
   "execution_count": null,
   "id": "9034dae4",
   "metadata": {},
   "outputs": [],
   "source": []
  },
  {
   "cell_type": "code",
   "execution_count": 123,
   "id": "1038a7c9",
   "metadata": {},
   "outputs": [],
   "source": [
    "dict_3_26_38_47 = {\n",
    "        # Examples\n",
    "        # 'Low Potential (C1219 Table 3) occurred for meter 00:13:50:05:ff:1b:67:3b.'\n",
    "        '3.26.38.47': [\n",
    "            #-----\n",
    "#             (r'(Low Potential\\s*(?:\\(.*\\))?)\\s*(?:(?:\\s*occurred\\s*)?(?:\\s*(?:for|on)?\\s*(?:meter)?)?\\s+(?:[0-9a-zA-Z]+)(?:\\:[0-9a-zA-Z]+)+\\.?)', r'\\1') \n",
    "            #-----\n",
    "#             # COULD ALSO DO\n",
    "            (r'((?:\\s*occurred\\s*)?(?:\\s*(?:for|on)?\\s*(?:meter)?)?\\s+(?:[0-9a-zA-Z]+)(?:\\:[0-9a-zA-Z]+)+[\\s*\\.]*)', '')\n",
    "            #-----\n",
    "        ]\n",
    "}"
   ]
  },
  {
   "cell_type": "code",
   "execution_count": 124,
   "id": "4066ff73",
   "metadata": {},
   "outputs": [
    {
     "name": "stdout",
     "output_type": "stream",
     "text": [
      "Low Potential (C1219 Table 3)\n"
     ]
    }
   ],
   "source": [
    "curated_reasons = []\n",
    "for reason_i in df_3_26_38_47['reason'].unique().tolist():\n",
    "    curated_reason_i = AMIEndEvents.reduce_end_event_reason(\n",
    "        reason=reason_i, \n",
    "        patterns=dict_3_26_38_47['3.26.38.47']\n",
    "    )\n",
    "    curated_reasons.append(curated_reason_i)\n",
    "curated_reasons = list(set(curated_reasons))\n",
    "print(*curated_reasons, sep='\\n')"
   ]
  },
  {
   "cell_type": "code",
   "execution_count": 119,
   "id": "95d424ce",
   "metadata": {},
   "outputs": [
    {
     "data": {
      "text/plain": [
       "['Low Potential (C1219 Table 3) ']"
      ]
     },
     "execution_count": 119,
     "metadata": {},
     "output_type": "execute_result"
    }
   ],
   "source": [
    "natsorted(curated_reasons)"
   ]
  },
  {
   "cell_type": "code",
   "execution_count": 125,
   "id": "25c3b6be",
   "metadata": {},
   "outputs": [
    {
     "data": {
      "text/plain": [
       "['Low Potential (C1219 Table 3)']"
      ]
     },
     "execution_count": 125,
     "metadata": {},
     "output_type": "execute_result"
    }
   ],
   "source": [
    "natsorted(curated_reasons)"
   ]
  },
  {
   "cell_type": "code",
   "execution_count": null,
   "id": "c0cd9f58",
   "metadata": {},
   "outputs": [],
   "source": [
    "assert(len(set(dict_3_26_38_47.keys()).intersection(set(dict_documented.keys())))==0)\n",
    "dict_documented = {**dict_documented, **dict_3_26_38_47}"
   ]
  },
  {
   "cell_type": "code",
   "execution_count": null,
   "id": "c6485940",
   "metadata": {},
   "outputs": [],
   "source": []
  },
  {
   "cell_type": "code",
   "execution_count": null,
   "id": "fbe1d07d",
   "metadata": {},
   "outputs": [],
   "source": []
  },
  {
   "cell_type": "markdown",
   "id": "42a73ae0",
   "metadata": {},
   "source": [
    "# '3.26.38.73'"
   ]
  },
  {
   "cell_type": "code",
   "execution_count": null,
   "id": "62e8557f",
   "metadata": {},
   "outputs": [],
   "source": [
    "df_3_26_38_73 = pd.read_pickle(ids_with_paths_dict['3.26.38.73'])\n",
    "#-----\n",
    "print(f\"shape[0] = {df_3_26_38_73.shape[0]}\")\n",
    "print(f\"# Unique reasons = {df_3_26_38_73['reason'].nunique()}\")\n",
    "print(df_3_26_38_73['reason'].unique())"
   ]
  },
  {
   "cell_type": "code",
   "execution_count": null,
   "id": "06943382",
   "metadata": {},
   "outputs": [],
   "source": [
    "dict_3_26_38_73 = {\n",
    "        # Examples\n",
    "        # 'Diag7 Condition cleared for meter 00:13:50:03:00:4d:41:fa.'\n",
    "        # 'Over Voltage (Diagnostic 7) cleared for meter 00:13:50:05:ff:37:87:3dN/A.'\n",
    "        '3.26.38.73':   [\n",
    "            #-----\n",
    "            # NOTE: Due to annoying N/A at end of some MAC-esque IDs, I have to specify length of numerical entries\n",
    "            #       as [0-9a-zA-Z]{1,2}, instead of the more general [0-9a-zA-Z]+ found elsewhere!\n",
    "            # NOTE: Also, the use of non-greedy (.*?) at beginning.\n",
    "            #       If (.*) were used instead, results would be, e.g.\n",
    "            #          'Over Voltage (Diagnostic 7) cleared for meter' instead of 'Over Voltage (Diagnostic 7) cleared'\n",
    "            (r'(.*?)(?:(?:\\s*(?:for|on)?\\s*(?:meter)?)?\\s+(?:[0-9a-zA-Z]{1,2})(?:\\:[0-9a-zA-Z]{1,2})+(?:N/A)?\\.?)', r'\\1')\n",
    "            #-----\n",
    "            #-----\n",
    "#             # COULD ALSO DO\n",
    "#             # NOTE: Due to annoying N/A at end of some MAC-esque IDs, I have to specify length of numerical entries\n",
    "#             #       as [0-9a-zA-Z]{1,2}, instead of the more general [0-9a-zA-Z]+ found elsewhere!\n",
    "#             (r'((?:\\s*occurred\\s*)?(?:\\s*(?:for|on)?\\s*(?:meter)?)?\\s+(?:[0-9a-zA-Z]{1,2})(?:\\:[0-9a-zA-Z]{1,2})+(?:N/A)?\\.?)', '')\n",
    "        ]\n",
    "}"
   ]
  },
  {
   "cell_type": "code",
   "execution_count": null,
   "id": "5ec50c7a",
   "metadata": {},
   "outputs": [],
   "source": [
    "curated_reasons = []\n",
    "for reason_i in df_3_26_38_73['reason'].unique().tolist():\n",
    "    curated_reason_i = AMIEndEvents.reduce_end_event_reason(\n",
    "        reason=reason_i, \n",
    "        patterns=dict_3_26_38_73['3.26.38.73']\n",
    "    )\n",
    "    curated_reasons.append(curated_reason_i)\n",
    "curated_reasons = list(set(curated_reasons))\n",
    "print(*curated_reasons, sep='\\n')"
   ]
  },
  {
   "cell_type": "code",
   "execution_count": null,
   "id": "774b2566",
   "metadata": {},
   "outputs": [],
   "source": [
    "assert(len(set(dict_3_26_38_73.keys()).intersection(set(dict_documented.keys())))==0)\n",
    "dict_documented = {**dict_documented, **dict_3_26_38_73}"
   ]
  },
  {
   "cell_type": "code",
   "execution_count": null,
   "id": "406d437c",
   "metadata": {},
   "outputs": [],
   "source": []
  },
  {
   "cell_type": "markdown",
   "id": "0b6c2970",
   "metadata": {},
   "source": [
    "# '3.26.38.93'"
   ]
  },
  {
   "cell_type": "code",
   "execution_count": 40,
   "id": "7407539a",
   "metadata": {},
   "outputs": [
    {
     "name": "stdout",
     "output_type": "stream",
     "text": [
      "shape[0] = 3861627\n",
      "# Unique reasons = 189382\n",
      "['KV2c meter event Over Voltage Diagnostic flags:Phase A Voltage'\n",
      " 'Diag7: Over Voltage, Element A occurred for meter 00:13:50:ff:fe:03:4e:12.'\n",
      " 'Diag7: Over Voltage, Element A occurred for meter 00:13:50:05:ff:04:35:4a.'\n",
      " ...\n",
      " 'Over Voltage (Diagnostic 7) occurred for meter 00:13:50:05:ff:1e:e7:b5: Phase A.'\n",
      " 'Over Voltage (Diagnostic 7) occurred for meter 00:13:50:05:ff:1b:c3:31: Phase A.'\n",
      " 'Over Voltage (Diagnostic 7) occurred for meter 00:13:50:05:ff:23:94:7d: Phase A.']\n"
     ]
    }
   ],
   "source": [
    "df_3_26_38_93 = pd.read_pickle(ids_with_paths_dict['3.26.38.93'])\n",
    "#-----\n",
    "print(f\"shape[0] = {df_3_26_38_93.shape[0]}\")\n",
    "print(f\"# Unique reasons = {df_3_26_38_93['reason'].nunique()}\")\n",
    "print(df_3_26_38_93['reason'].unique())"
   ]
  },
  {
   "cell_type": "markdown",
   "id": "628436b4",
   "metadata": {},
   "source": [
    "# !!!!!!!!!!!!!!!!!!!!!!!!!!!!!!!!!!!!!!!!!!!!!!!!!!!!!!!!!!!!!!!!"
   ]
  },
  {
   "cell_type": "code",
   "execution_count": 44,
   "id": "e963796e",
   "metadata": {},
   "outputs": [],
   "source": [
    "dict_3_26_38_93 = {\n",
    "        # Examples\n",
    "        # 'Diag7: Over Voltage, Element A occurred for meter 03.34.0.400:13:50:02:00:0a:d7:98.'\n",
    "        # 'Over Voltage (Diagnostic 7) occurred for meter 00:13:50:05:ff:41:8a:8f: Phase A.'\n",
    "        # SEEMS RARE, BUT HAVE SEEN:\n",
    "        # 'KV2c meter event Over Voltage Diagnostic flags:Phase A Voltage'\n",
    "        # 'KV2c meter event Under Voltage Caution Diagnostic flags:Phase B Voltage'\n",
    "        # 'KV2c meter event Received kWh Caution Diagnostic flags:Phase A Voltage '\n",
    "        # 'KV2c meter event Received kWh Caution Cleared '\n",
    "        '3.26.38.93':   [\n",
    "            #-----\n",
    "            (r'(KV2c meter event (?:(?:Over|Under) Voltage)|(?:Voltage Out of Tolerance)|(?:(?:Received|Delivered) kWh))(?:\\s*Caution)?\\s*(Diagnostic flags)\\s*\\:\\s*(.*?)\\s*$', r'\\1 (\\2 = \\3)'), \n",
    "            #-----\n",
    "            (r'(KV2c meter event (?:(?:Over|Under) Voltage)|(?:Voltage Out of Tolerance)|(?:(?:Received|Delivered) kWh))(?:\\s*Caution)?\\s*Cleared\\s*$', r'\\1 Cleared'), \n",
    "            #-----\n",
    "            (r'(.*Over Voltage.*?)(?:(?:\\s*occurred\\s*)?(?:\\s*(?:for|on)?\\s*(?:meter)?)?\\s+(?:[0-9a-zA-Z]+)(?:\\:[0-9a-zA-Z]+)+\\.?)(.*?)\\s*$', r'\\1\\2') \n",
    "            #-----\n",
    "        ]\n",
    "}\n",
    "\n",
    "# # COULD ALSO PROBABLY DO SOMETHING SIMILAR TO\n",
    "# dict_3_26_38_93 = {\n",
    "#         '3.26.38.93':   [\n",
    "#             #-----\n",
    "#             # NOTE: .* at end, not found in most of others (although, maybe it should be?)\n",
    "#             (r'((?:\\s*occurred\\s*)?(?:\\s*(?:for|on)?\\s*(?:meter)?)?\\s+(?:[0-9a-zA-Z]+)(?:\\:[0-9a-zA-Z]+)+\\.?).*', '')\n",
    "#             #-----\n",
    "#         ]\n",
    "# }"
   ]
  },
  {
   "cell_type": "code",
   "execution_count": 45,
   "id": "970c184b",
   "metadata": {},
   "outputs": [
    {
     "name": "stdout",
     "output_type": "stream",
     "text": [
      "KV2c meter event Over Voltage (Diagnostic flags = Phase A Voltage)\n",
      "KV2c meter event Received kWh Cleared\n",
      "KV2c meter event Received kWh (Diagnostic flags = Phase A Voltage)\n",
      "KV2c meter event Under Voltage (Diagnostic flags = Phase B Voltage)\n",
      "KV2c meter event Voltage Out of Tolerance (Diagnostic flags = Phase A Voltage)\n",
      "Diag7: Over Voltage, Element A\n",
      "Over Voltage (Diagnostic 7): Phase A.\n"
     ]
    }
   ],
   "source": [
    "curated_reasons = []\n",
    "for reason_i in df_3_26_38_93['reason'].unique().tolist():\n",
    "    curated_reason_i = AMIEndEvents.reduce_end_event_reason(\n",
    "        reason=reason_i, \n",
    "        patterns=dict_3_26_38_93['3.26.38.93']\n",
    "    )\n",
    "    curated_reasons.append(curated_reason_i)\n",
    "curated_reasons = list(set(curated_reasons))\n",
    "print(*curated_reasons, sep='\\n')"
   ]
  },
  {
   "cell_type": "code",
   "execution_count": 43,
   "id": "16a70fae",
   "metadata": {},
   "outputs": [
    {
     "data": {
      "text/plain": [
       "['Diag7: Over Voltage, Element A ',\n",
       " 'KV2c meter event Over Voltage (Diagnostic flags = Phase A Voltage)',\n",
       " 'KV2c meter event Received kWh (Diagnostic flags = Phase A Voltage)',\n",
       " 'KV2c meter event Received kWh Cleared',\n",
       " 'KV2c meter event Under Voltage (Diagnostic flags = Phase B Voltage)',\n",
       " 'KV2c meter event Voltage Out of Tolerance (Diagnostic flags = Phase A Voltage)',\n",
       " 'Over Voltage (Diagnostic 7) : Phase A.']"
      ]
     },
     "execution_count": 43,
     "metadata": {},
     "output_type": "execute_result"
    }
   ],
   "source": [
    "natsorted(curated_reasons)"
   ]
  },
  {
   "cell_type": "code",
   "execution_count": 46,
   "id": "5530d0a9",
   "metadata": {},
   "outputs": [
    {
     "data": {
      "text/plain": [
       "['Diag7: Over Voltage, Element A',\n",
       " 'KV2c meter event Over Voltage (Diagnostic flags = Phase A Voltage)',\n",
       " 'KV2c meter event Received kWh (Diagnostic flags = Phase A Voltage)',\n",
       " 'KV2c meter event Received kWh Cleared',\n",
       " 'KV2c meter event Under Voltage (Diagnostic flags = Phase B Voltage)',\n",
       " 'KV2c meter event Voltage Out of Tolerance (Diagnostic flags = Phase A Voltage)',\n",
       " 'Over Voltage (Diagnostic 7): Phase A.']"
      ]
     },
     "execution_count": 46,
     "metadata": {},
     "output_type": "execute_result"
    }
   ],
   "source": [
    "natsorted(curated_reasons)"
   ]
  },
  {
   "cell_type": "code",
   "execution_count": null,
   "id": "28b40ded",
   "metadata": {},
   "outputs": [],
   "source": [
    "assert(len(set(dict_3_26_38_93.keys()).intersection(set(dict_documented.keys())))==0)\n",
    "dict_documented = {**dict_documented, **dict_3_26_38_93}"
   ]
  },
  {
   "cell_type": "code",
   "execution_count": null,
   "id": "ad71aa87",
   "metadata": {},
   "outputs": [],
   "source": []
  },
  {
   "cell_type": "code",
   "execution_count": null,
   "id": "148c3c1f",
   "metadata": {},
   "outputs": [],
   "source": []
  },
  {
   "cell_type": "markdown",
   "id": "aae50344",
   "metadata": {},
   "source": [
    "# !!!!!!!!!!!!!!!!!!!!!!!!!!!!!!!!!!!!!!!!!!!!!!!!!!!!!!!!!!!!!!!!!!!!!!!"
   ]
  },
  {
   "cell_type": "markdown",
   "id": "37291f1e",
   "metadata": {},
   "source": [
    "# '3.26.38.150'"
   ]
  },
  {
   "cell_type": "code",
   "execution_count": 10,
   "id": "20b1bcd2",
   "metadata": {},
   "outputs": [
    {
     "name": "stdout",
     "output_type": "stream",
     "text": [
      "shape[0] = 390000\n",
      "# Unique reasons = 20949\n",
      "['Under Voltage (CA000400) for meter 00:13:50:05:ff:0b:88:ec. Phase  C Voltage out of tolerance.'\n",
      " 'Under Voltage (CA000400) for meter 00:13:50:05:ff:0b:88:ec. Phase  A Voltage out of tolerance.'\n",
      " 'Under Voltage (CA000400) occurred for meter 00:13:50:05:ff:0d:10:85: Phase A.'\n",
      " ...\n",
      " 'Under Voltage (CA000400) occurred for meter 00:13:50:05:ff:1e:e6:d6: Phase A.'\n",
      " 'Under Voltage (CA000400) occurred for meter 00:13:50:05:ff:1f:3b:3d: Phase C.'\n",
      " 'Under Voltage (CA000400) for meter 00:13:50:05:ff:49:11:14. Phase  A Voltage out of tolerance.']\n"
     ]
    }
   ],
   "source": [
    "df_3_26_38_150 = pd.read_pickle(ids_with_paths_dict['3.26.38.150'])\n",
    "#-----\n",
    "print(f\"shape[0] = {df_3_26_38_150.shape[0]}\")\n",
    "print(f\"# Unique reasons = {df_3_26_38_150['reason'].nunique()}\")\n",
    "print(df_3_26_38_150['reason'].unique())"
   ]
  },
  {
   "cell_type": "code",
   "execution_count": 11,
   "id": "187ab386",
   "metadata": {},
   "outputs": [],
   "source": [
    "dict_3_26_38_150_OG = {\n",
    "        # Examples\n",
    "        # 'Under Voltage (CA000400) for meter 00:13:50:05:ff:0b:88:ec. Phase  C Voltage out of tolerance.'\n",
    "        # 'Under Voltage (CA000400) occurred for meter 00:13:50:05:ff:15:e8:3b: Phase A.'\n",
    "        '3.26.38.150':  [\n",
    "            #-----\n",
    "            (r'\\s+(?:[0-9a-zA-Z]{1,2})(?:\\:[0-9a-zA-Z]{1,2})+(?:N/A)?\\.?', ''), \n",
    "            #-----\n",
    "            (\n",
    "                (\n",
    "                    r'(Under Voltage)\\s*'      \n",
    "                    r'(\\([0-9a-zA-Z\\s]*\\))\\s*'\\\n",
    "                    r'([0-9a-zA-Z]*)?\\s?'\\\n",
    "                    r'(for meter\\:?\\s*)'\\\n",
    "                    r'(?:(?:[0-9a-zA-Z]{1,2})(?:\\:[0-9a-zA-Z]{1,2})+)?[\\s:,.]*'\\\n",
    "                    r'(?:Phase\\s{1,2}[ABC](?:(?:\\s*and\\s*[ABC])|(?:,\\s*[ABC])*))?\\s*'\\\n",
    "                    r'(Voltage out of tolerance)?'\n",
    "                ), \n",
    "                r'\\1 \\2 \\3 \\4 \\5'\n",
    "            ), \n",
    "            #-----\n",
    "            (\n",
    "                (\n",
    "                    r'(Under Voltage)\\s*'\n",
    "                    r'([0-9a-zA-Z]*)?\\s*'\\\n",
    "                    r'(\\([0-9a-zA-Z\\s]*\\))\\s*'\\\n",
    "                    r'(for meter\\:?\\s*)'\\\n",
    "                    r'(?:(?:[0-9a-zA-Z]{1,2})(?:\\:[0-9a-zA-Z]{1,2})+)?[\\s:,.]*'\\\n",
    "                    r'(?:Phase\\s{1,2}[ABC](?:(?:\\s*and\\s*[ABC])|(?:,\\s*[ABC])*))?\\s*'\\\n",
    "                    r'(Voltage out of tolerance)?'\n",
    "                ), \n",
    "                r'\\1 \\3 \\2 \\4 \\5'\n",
    "            ), \n",
    "            #-----\n",
    "            (r'[!\"#$%&\\'(*+,-./:;<=>?@[\\\\^_`{|~\\s]*$', ''), \n",
    "            #-----\n",
    "            (r'\\s{2,}', ' '), \n",
    "            #-----\n",
    "            (r'\\s*(.*)', r'\\1')\n",
    "            #-----\n",
    "        ]\n",
    "}"
   ]
  },
  {
   "cell_type": "code",
   "execution_count": 21,
   "id": "9b26a4b8",
   "metadata": {},
   "outputs": [],
   "source": [
    "dict_3_26_38_150 = {\n",
    "        # Examples\n",
    "        # 'Under Voltage (CA000400) for meter 00:13:50:05:ff:0b:88:ec. Phase  C Voltage out of tolerance.'\n",
    "        # 'Under Voltage (CA000400) occurred for meter 00:13:50:05:ff:15:e8:3b: Phase A.'\n",
    "        # 'KV2c meter event Under Voltage Diagnostic flags:Phase A Voltage'\n",
    "        # 'Diag6: Under Voltage, Element A occurred for meter 00:13:50:05:ff:0b:88:ec.'\n",
    "        '3.26.38.150':   [\n",
    "            #-----\n",
    "            # NOTE: Due to annoying N/A at end of some MAC-esque IDs, I have to specify length of numerical entries\n",
    "            #       as [0-9a-zA-Z]{1,2}, instead of the more general [0-9a-zA-Z]+ found elsewhere!\n",
    "            # NOTE: Also, the use of non-greedy (.*?) at beginning.\n",
    "            #       If (.*) were used instead, results would be, e.g.\n",
    "            #          'Diag6: Under Voltage, Element A occurred for meter'\n",
    "            #       instead of \n",
    "            #          'Diag6: Under Voltage, Element A'\n",
    "            (r'(Under Voltage\\s*(?:\\(.*\\))?)\\s*(?:(?:\\s*occurred\\s*)?(?:\\s*(?:for|on)?\\s*(?:meter)?)?\\s+(?:[0-9a-zA-Z]+)(?:\\:[0-9a-zA-Z]+)+[\\.\\:]?)(\\s?.*?)', r'\\1\\2'), \n",
    "            #-----\n",
    "            (r'(Diag6.*?)(?:(?:\\s*occurred\\s*)?(?:\\s*(?:for|on)?\\s*(?:meter)?)?\\s+(?:[0-9a-zA-Z]+)(?:\\:[0-9a-zA-Z]+)+[\\.\\:]?)(\\s?.*?)', r'\\1\\2'), \n",
    "            #-----\n",
    "            (r'(KV2c meter event .*?)\\s*(Diagnostic flags)\\s*\\:\\s*(.*?)\\s*$', r'\\1 (\\2 = \\3)')\n",
    "            #-----\n",
    "        ]\n",
    "}"
   ]
  },
  {
   "cell_type": "code",
   "execution_count": 22,
   "id": "7c0c5098",
   "metadata": {},
   "outputs": [
    {
     "name": "stdout",
     "output_type": "stream",
     "text": [
      "Diag6: Under Voltage, Element A\n",
      "KV2c meter event Under Voltage (Diagnostic flags = Phase A Voltage)\n",
      "Under Voltage (CA000400) Phase  A Voltage out of tolerance.\n",
      "Under Voltage (CA000400) Phase  A, B Voltage out of tolerance.\n",
      "Under Voltage (CA000400) Phase  A, B, C Voltage out of tolerance.\n",
      "Under Voltage (CA000400) Phase  A, C Voltage out of tolerance.\n",
      "Under Voltage (CA000400) Phase  B Voltage out of tolerance.\n",
      "Under Voltage (CA000400) Phase  B, C Voltage out of tolerance.\n",
      "Under Voltage (CA000400) Phase  C Voltage out of tolerance.\n",
      "Under Voltage (CA000400) Phase A and C.\n",
      "Under Voltage (CA000400) Phase A.\n",
      "Under Voltage (CA000400) Phase C.\n",
      "Under Voltage (Diagnostic 6) Phase A.\n"
     ]
    }
   ],
   "source": [
    "curated_reasons = []\n",
    "for reason_i in df_3_26_38_150['reason'].unique().tolist():\n",
    "    curated_reason_i = AMIEndEvents.reduce_end_event_reason(\n",
    "        reason=reason_i, \n",
    "        patterns=dict_3_26_38_150['3.26.38.150']\n",
    "    )\n",
    "    curated_reasons.append(curated_reason_i)\n",
    "curated_reasons = list(set(curated_reasons))\n",
    "print(*natsorted(curated_reasons), sep='\\n')"
   ]
  },
  {
   "cell_type": "code",
   "execution_count": 14,
   "id": "2a35e2a0",
   "metadata": {},
   "outputs": [
    {
     "data": {
      "text/plain": [
       "['Diag6: Under Voltage, Element A',\n",
       " 'KV2c meter event Under Voltage  (Diagnostic flags = Phase A Voltage)',\n",
       " 'Under Voltage (CA000400) Phase  A Voltage out of tolerance.',\n",
       " 'Under Voltage (CA000400) Phase  A, B Voltage out of tolerance.',\n",
       " 'Under Voltage (CA000400) Phase  A, B, C Voltage out of tolerance.',\n",
       " 'Under Voltage (CA000400) Phase  A, C Voltage out of tolerance.',\n",
       " 'Under Voltage (CA000400) Phase  B Voltage out of tolerance.',\n",
       " 'Under Voltage (CA000400) Phase  B, C Voltage out of tolerance.',\n",
       " 'Under Voltage (CA000400) Phase  C Voltage out of tolerance.',\n",
       " 'Under Voltage (CA000400) Phase A and C.',\n",
       " 'Under Voltage (CA000400) Phase A.',\n",
       " 'Under Voltage (CA000400) Phase C.',\n",
       " 'Under Voltage (Diagnostic 6) Phase A.']"
      ]
     },
     "execution_count": 14,
     "metadata": {},
     "output_type": "execute_result"
    }
   ],
   "source": [
    "natsorted(curated_reasons)"
   ]
  },
  {
   "cell_type": "code",
   "execution_count": 23,
   "id": "847f07f0",
   "metadata": {},
   "outputs": [
    {
     "data": {
      "text/plain": [
       "['Diag6: Under Voltage, Element A',\n",
       " 'KV2c meter event Under Voltage (Diagnostic flags = Phase A Voltage)',\n",
       " 'Under Voltage (CA000400) Phase  A Voltage out of tolerance.',\n",
       " 'Under Voltage (CA000400) Phase  A, B Voltage out of tolerance.',\n",
       " 'Under Voltage (CA000400) Phase  A, B, C Voltage out of tolerance.',\n",
       " 'Under Voltage (CA000400) Phase  A, C Voltage out of tolerance.',\n",
       " 'Under Voltage (CA000400) Phase  B Voltage out of tolerance.',\n",
       " 'Under Voltage (CA000400) Phase  B, C Voltage out of tolerance.',\n",
       " 'Under Voltage (CA000400) Phase  C Voltage out of tolerance.',\n",
       " 'Under Voltage (CA000400) Phase A and C.',\n",
       " 'Under Voltage (CA000400) Phase A.',\n",
       " 'Under Voltage (CA000400) Phase C.',\n",
       " 'Under Voltage (Diagnostic 6) Phase A.']"
      ]
     },
     "execution_count": 23,
     "metadata": {},
     "output_type": "execute_result"
    }
   ],
   "source": [
    "natsorted(curated_reasons)"
   ]
  },
  {
   "cell_type": "code",
   "execution_count": null,
   "id": "502418d2",
   "metadata": {},
   "outputs": [],
   "source": [
    "assert(len(set(dict_3_26_38_150.keys()).intersection(set(dict_documented.keys())))==0)\n",
    "dict_documented = {**dict_documented, **dict_3_26_38_150}"
   ]
  },
  {
   "cell_type": "code",
   "execution_count": null,
   "id": "f82a3c61",
   "metadata": {},
   "outputs": [],
   "source": []
  },
  {
   "cell_type": "markdown",
   "id": "ef45e331",
   "metadata": {},
   "source": [
    "# '3.26.136.47'"
   ]
  },
  {
   "cell_type": "code",
   "execution_count": null,
   "id": "7599e9b8",
   "metadata": {},
   "outputs": [],
   "source": [
    "df_3_26_136_47 = pd.read_pickle(ids_with_paths_dict['3.26.136.47'])\n",
    "#-----\n",
    "print(f\"shape[0] = {df_3_26_136_47.shape[0]}\")\n",
    "print(f\"# Unique reasons = {df_3_26_136_47['reason'].nunique()}\")\n",
    "print(df_3_26_136_47['reason'].unique())"
   ]
  },
  {
   "cell_type": "code",
   "execution_count": null,
   "id": "a660642c",
   "metadata": {},
   "outputs": [],
   "source": [
    "dict_3_26_136_47 = {\n",
    "        # Examples\n",
    "        # 'Last Gasp - NIC power lost for device: 00:13:50:05:ff:0b:83:e4, Reboot Count: 12264, NIC timestamp: 2020-01-19T22:21:02.000-05:00, Received timestamp: 2020-01-19T22:21:04.353-05:00, Fail Reason: [0x49] LG_ZERO_X_DETECTOR ,LG_DIRECT_NOTIFICATION'\n",
    "        '3.26.136.47':  [\n",
    "            #-----\n",
    "            (r'(Last Gasp - NIC power lost for device):(?:\\s+(?:[0-9a-zA-Z]+)(?:\\:[0-9a-zA-Z]+)+).*(Fail Reason: .*)$', r'\\1, \\2')\n",
    "            #-----\n",
    "        ]\n",
    "}"
   ]
  },
  {
   "cell_type": "code",
   "execution_count": null,
   "id": "7a35f413",
   "metadata": {},
   "outputs": [],
   "source": [
    "curated_reasons = []\n",
    "for reason_i in df_3_26_136_47['reason'].unique().tolist():\n",
    "    curated_reason_i = AMIEndEvents.reduce_end_event_reason(\n",
    "        reason=reason_i, \n",
    "        patterns=dict_3_26_136_47['3.26.136.47']\n",
    "    )\n",
    "    curated_reasons.append(curated_reason_i)\n",
    "curated_reasons = list(set(curated_reasons))\n",
    "print(*curated_reasons, sep='\\n')"
   ]
  },
  {
   "cell_type": "code",
   "execution_count": null,
   "id": "806c7e77",
   "metadata": {},
   "outputs": [],
   "source": [
    "assert(len(set(dict_3_26_136_47.keys()).intersection(set(dict_documented.keys())))==0)\n",
    "dict_documented = {**dict_documented, **dict_3_26_136_47}"
   ]
  },
  {
   "cell_type": "code",
   "execution_count": null,
   "id": "1e7fdb38",
   "metadata": {},
   "outputs": [],
   "source": []
  },
  {
   "cell_type": "markdown",
   "id": "86ddf01c",
   "metadata": {},
   "source": [
    "# '3.26.136.66'"
   ]
  },
  {
   "cell_type": "code",
   "execution_count": null,
   "id": "5dc25874",
   "metadata": {},
   "outputs": [],
   "source": [
    "df_3_26_136_66 = pd.read_pickle(ids_with_paths_dict['3.26.136.66'])\n",
    "#-----\n",
    "print(f\"shape[0] = {df_3_26_136_66.shape[0]}\")\n",
    "print(f\"# Unique reasons = {df_3_26_136_66['reason'].nunique()}\")\n",
    "print(df_3_26_136_66['reason'].unique())"
   ]
  },
  {
   "cell_type": "code",
   "execution_count": null,
   "id": "d2b64cc6",
   "metadata": {},
   "outputs": [],
   "source": [
    "dict_3_26_136_66 = {\n",
    "        # Examples\n",
    "        # 'Device 00:13:50:05:ff:0b:8a:18, Last Gasp State: EL_EVENT_POWER_FAIL_DETECT_LG_DISABLED, Detector State: EL_EVENT_POWER_FAIL_DETECT_NIC_ZX_DISABLED, Reboot Count: 108'\n",
    "        '3.26.136.66':  [\n",
    "            #-----\n",
    "            (r'Device(?:\\s+(?:[0-9a-zA-Z]+)(?:\\:[0-9a-zA-Z]+)+), (Last Gasp State: .*), (Detector State: .*), Reboot Count: \\d*', r'\\1, \\2'), \n",
    "            #-----\n",
    "        ]\n",
    "}"
   ]
  },
  {
   "cell_type": "code",
   "execution_count": null,
   "id": "0a472cd5",
   "metadata": {},
   "outputs": [],
   "source": [
    "curated_reasons = []\n",
    "for reason_i in df_3_26_136_66['reason'].unique().tolist():\n",
    "    curated_reason_i = AMIEndEvents.reduce_end_event_reason(\n",
    "        reason=reason_i, \n",
    "        patterns=dict_3_26_136_66['3.26.136.66']\n",
    "    )\n",
    "    curated_reasons.append(curated_reason_i)\n",
    "curated_reasons = list(set(curated_reasons))\n",
    "print(*curated_reasons, sep='\\n')"
   ]
  },
  {
   "cell_type": "code",
   "execution_count": null,
   "id": "818f216b",
   "metadata": {},
   "outputs": [],
   "source": [
    "assert(len(set(dict_3_26_136_66.keys()).intersection(set(dict_documented.keys())))==0)\n",
    "dict_documented = {**dict_documented, **dict_3_26_136_66}"
   ]
  },
  {
   "cell_type": "code",
   "execution_count": null,
   "id": "916c8a6a",
   "metadata": {},
   "outputs": [],
   "source": []
  },
  {
   "cell_type": "code",
   "execution_count": null,
   "id": "42d3c2fd",
   "metadata": {},
   "outputs": [],
   "source": []
  },
  {
   "cell_type": "code",
   "execution_count": null,
   "id": "9fbe965c",
   "metadata": {},
   "outputs": [],
   "source": []
  },
  {
   "cell_type": "code",
   "execution_count": null,
   "id": "e171e0fd",
   "metadata": {},
   "outputs": [],
   "source": []
  },
  {
   "cell_type": "markdown",
   "id": "cdbe82c2",
   "metadata": {},
   "source": [
    "# '3.26.136.216'"
   ]
  },
  {
   "cell_type": "code",
   "execution_count": null,
   "id": "868b5732",
   "metadata": {},
   "outputs": [],
   "source": [
    "df_3_26_136_216 = pd.read_pickle(ids_with_paths_dict['3.26.136.216'])\n",
    "#-----\n",
    "print(f\"shape[0] = {df_3_26_136_216.shape[0]}\")\n",
    "print(f\"# Unique reasons = {df_3_26_136_216['reason'].nunique()}\")\n",
    "print(df_3_26_136_216['reason'].unique())"
   ]
  },
  {
   "cell_type": "code",
   "execution_count": null,
   "id": "5108f073",
   "metadata": {},
   "outputs": [],
   "source": [
    "dict_3_26_136_216 = {\n",
    "        # Examples\n",
    "        # 'NIC Power Restore Trap Received from device: 00:13:50:05:ff:0c:7e:93, Reboot Count: 61, NIC timestamp: 2020-01-27T09:19:56.000-05:00, Received Timestamp: 2020-01-27T09:19:57.204-05:00, Power Restoration Timestamp: 2020-01-27T09:19:42.000-05:00, State: 4,p'\n",
    "        '3.26.136.216': [\n",
    "            #-----\n",
    "            (r'(NIC Power Restore Trap Received from device):(?:\\s+(?:[0-9a-zA-Z]+)(?:\\:[0-9a-zA-Z]+)+).*', r'\\1'), \n",
    "            #-----\n",
    "        ]\n",
    "}"
   ]
  },
  {
   "cell_type": "code",
   "execution_count": null,
   "id": "ddfa9311",
   "metadata": {},
   "outputs": [],
   "source": [
    "curated_reasons = []\n",
    "for reason_i in df_3_26_136_216['reason'].unique().tolist():\n",
    "    curated_reason_i = AMIEndEvents.reduce_end_event_reason(\n",
    "        reason=reason_i, \n",
    "        patterns=dict_3_26_136_216['3.26.136.216']\n",
    "    )\n",
    "    curated_reasons.append(curated_reason_i)\n",
    "curated_reasons = list(set(curated_reasons))\n",
    "print(*curated_reasons, sep='\\n')"
   ]
  },
  {
   "cell_type": "code",
   "execution_count": null,
   "id": "25c1552c",
   "metadata": {},
   "outputs": [],
   "source": [
    "assert(len(set(dict_3_26_136_216.keys()).intersection(set(dict_documented.keys())))==0)\n",
    "dict_documented = {**dict_documented, **dict_3_26_136_216}"
   ]
  },
  {
   "cell_type": "code",
   "execution_count": null,
   "id": "58c4aa19",
   "metadata": {},
   "outputs": [],
   "source": []
  },
  {
   "cell_type": "markdown",
   "id": "c9b87dfc",
   "metadata": {},
   "source": [
    "# '3.31.1.143'"
   ]
  },
  {
   "cell_type": "code",
   "execution_count": null,
   "id": "4d662749",
   "metadata": {},
   "outputs": [],
   "source": [
    "df_3_31_1_143 = pd.read_pickle(ids_with_paths_dict['3.31.1.143'])\n",
    "#-----\n",
    "print(f\"shape[0] = {df_3_31_1_143.shape[0]}\")\n",
    "print(f\"# Unique reasons = {df_3_31_1_143['reason'].nunique()}\")\n",
    "print(df_3_31_1_143['reason'].unique())"
   ]
  },
  {
   "cell_type": "code",
   "execution_count": null,
   "id": "5a5f85e2",
   "metadata": {},
   "outputs": [],
   "source": [
    "dict_3_31_1_143 = {\n",
    "        # Examples\n",
    "        # 'Meter assumed to be disconnected has reported Load side voltage indicating a potential case of tamper.'\n",
    "        '3.31.1.143':   [\n",
    "            #-----\n",
    "            (r'(Meter assumed to be disconnected has reported Load side voltage indicating a potential case of tamper).*', r'\\1'), \n",
    "            #-----\n",
    "        ]\n",
    "}"
   ]
  },
  {
   "cell_type": "code",
   "execution_count": null,
   "id": "bab35c65",
   "metadata": {},
   "outputs": [],
   "source": [
    "curated_reasons = []\n",
    "for reason_i in df_3_31_1_143['reason'].unique().tolist():\n",
    "    curated_reason_i = AMIEndEvents.reduce_end_event_reason(\n",
    "        reason=reason_i, \n",
    "        patterns=dict_3_31_1_143['3.31.1.143']\n",
    "    )\n",
    "    curated_reasons.append(curated_reason_i)\n",
    "curated_reasons = list(set(curated_reasons))\n",
    "print(*curated_reasons, sep='\\n')"
   ]
  },
  {
   "cell_type": "code",
   "execution_count": null,
   "id": "23627123",
   "metadata": {},
   "outputs": [],
   "source": [
    "assert(len(set(dict_3_31_1_143.keys()).intersection(set(dict_documented.keys())))==0)\n",
    "dict_documented = {**dict_documented, **dict_3_31_1_143}"
   ]
  },
  {
   "cell_type": "code",
   "execution_count": null,
   "id": "3c1af101",
   "metadata": {},
   "outputs": [],
   "source": []
  },
  {
   "cell_type": "markdown",
   "id": "2bf3dc6b",
   "metadata": {},
   "source": [
    "# '3.33.1.219'"
   ]
  },
  {
   "cell_type": "code",
   "execution_count": null,
   "id": "7bebd42a",
   "metadata": {},
   "outputs": [],
   "source": [
    "df_3_33_1_219 = pd.read_pickle(ids_with_paths_dict['3.33.1.219'])\n",
    "#-----\n",
    "print(f\"shape[0] = {df_3_33_1_219.shape[0]}\")\n",
    "print(f\"# Unique reasons = {df_3_33_1_219['reason'].nunique()}\")\n",
    "print(df_3_33_1_219['reason'].unique())"
   ]
  },
  {
   "cell_type": "code",
   "execution_count": null,
   "id": "f4dc7a19",
   "metadata": {},
   "outputs": [],
   "source": [
    "dict_3_33_1_219 = {\n",
    "        # Examples\n",
    "        # 'Meter event Reverse Rotation Detected  Time event occurred on meter = 08/30/2021 04:25:38  Sequence number = 13124  User id = 0  Event argument = 00-00 '\n",
    "        '3.33.1.219':   [\n",
    "            #-----\n",
    "            (r'(Meter event Reverse Rotation Detected)\\s*Time event occurred on meter\\s*=.*\\s*Sequence number\\s*=.*\\s*User id\\s*=.*\\s*Event argument\\s*=.*', r'\\1'), \n",
    "            #-----\n",
    "            (r'(Meter event Reverse Rotation Detected).*', r'\\1'), #Fail proof, in case time, sequence, etc., not found \n",
    "            #-----\n",
    "            (r'(Meter detected a Reverse Rotation).*', 'Meter event Reverse Rotation Detected'), \n",
    "            #-----\n",
    "        ]\n",
    "}"
   ]
  },
  {
   "cell_type": "code",
   "execution_count": null,
   "id": "ab9b315f",
   "metadata": {},
   "outputs": [],
   "source": [
    "curated_reasons = []\n",
    "for reason_i in df_3_33_1_219['reason'].unique().tolist():\n",
    "    curated_reason_i = AMIEndEvents.reduce_end_event_reason(\n",
    "        reason=reason_i, \n",
    "        patterns=dict_3_33_1_219['3.33.1.219']\n",
    "    )\n",
    "    curated_reasons.append(curated_reason_i)\n",
    "curated_reasons = list(set(curated_reasons))\n",
    "print(*curated_reasons, sep='\\n')"
   ]
  },
  {
   "cell_type": "code",
   "execution_count": null,
   "id": "a992b1fe",
   "metadata": {},
   "outputs": [],
   "source": [
    "assert(len(set(dict_3_33_1_219.keys()).intersection(set(dict_documented.keys())))==0)\n",
    "dict_documented = {**dict_documented, **dict_3_33_1_219}"
   ]
  },
  {
   "cell_type": "code",
   "execution_count": null,
   "id": "935fd59c",
   "metadata": {},
   "outputs": [],
   "source": []
  },
  {
   "cell_type": "markdown",
   "id": "55ec1b22",
   "metadata": {},
   "source": [
    "# '3.33.1.257'"
   ]
  },
  {
   "cell_type": "code",
   "execution_count": null,
   "id": "0bbe4a8f",
   "metadata": {},
   "outputs": [],
   "source": [
    "df_3_33_1_257 = pd.read_pickle(ids_with_paths_dict['3.33.1.257'])\n",
    "#-----\n",
    "print(f\"shape[0] = {df_3_33_1_257.shape[0]}\")\n",
    "print(f\"# Unique reasons = {df_3_33_1_257['reason'].nunique()}\")\n",
    "print(df_3_33_1_257['reason'].unique())"
   ]
  },
  {
   "cell_type": "code",
   "execution_count": null,
   "id": "2d60cf00",
   "metadata": {},
   "outputs": [],
   "source": [
    "dict_3_33_1_257 = {\n",
    "        # Examples\n",
    "        # 'Meter detected a Tamper Attempt.'\n",
    "        # 'Meter event Tamper Attempt Suspected  Time event occurred on meter = 08/28/2021 08:45:05  Sequence number = 72  User id = 0  Event argument = 00-00 '\n",
    "        '3.33.1.257':   [\n",
    "            #-----\n",
    "            (r'(Meter event Tamper Attempt Suspected)\\s*Time event occurred on meter\\s*=.*\\s*Sequence number\\s*=.*\\s*User id\\s*=.*\\s*Event argument\\s*=.*', r'\\1'), \n",
    "            #-----\n",
    "            (r'(Meter event Tamper Attempt Suspected).*', r'\\1'), #Fail proof, in case time, sequence, etc., not found \n",
    "            #-----\n",
    "            (r'(Meter detected a Tamper Attempt).*', 'Meter event Tamper Attempt Suspected'), \n",
    "            #-----\n",
    "        ]\n",
    "}"
   ]
  },
  {
   "cell_type": "code",
   "execution_count": null,
   "id": "612e857b",
   "metadata": {},
   "outputs": [],
   "source": [
    "curated_reasons = []\n",
    "for reason_i in df_3_33_1_257['reason'].unique().tolist():\n",
    "    curated_reason_i = AMIEndEvents.reduce_end_event_reason(\n",
    "        reason=reason_i, \n",
    "        patterns=dict_3_33_1_257['3.33.1.257']\n",
    "    )\n",
    "    curated_reasons.append(curated_reason_i)\n",
    "curated_reasons = list(set(curated_reasons))\n",
    "print(*curated_reasons, sep='\\n')"
   ]
  },
  {
   "cell_type": "code",
   "execution_count": null,
   "id": "06699357",
   "metadata": {},
   "outputs": [],
   "source": [
    "assert(len(set(dict_3_33_1_257.keys()).intersection(set(dict_documented.keys())))==0)\n",
    "dict_documented = {**dict_documented, **dict_3_33_1_257}"
   ]
  },
  {
   "cell_type": "code",
   "execution_count": null,
   "id": "9f538674",
   "metadata": {},
   "outputs": [],
   "source": []
  },
  {
   "cell_type": "markdown",
   "id": "9c9cf17c",
   "metadata": {},
   "source": [
    "# '3.35.0.28'"
   ]
  },
  {
   "cell_type": "code",
   "execution_count": null,
   "id": "cd0ec364",
   "metadata": {},
   "outputs": [],
   "source": [
    "df_3_35_0_28 = pd.read_pickle(ids_with_paths_dict['3.35.0.28'])\n",
    "#-----\n",
    "print(f\"shape[0] = {df_3_35_0_28.shape[0]}\")\n",
    "print(f\"# Unique reasons = {df_3_35_0_28['reason'].nunique()}\")\n",
    "print(df_3_35_0_28['reason'].unique())"
   ]
  },
  {
   "cell_type": "code",
   "execution_count": null,
   "id": "472c321e",
   "metadata": {},
   "outputs": [],
   "source": [
    "dict_3_35_0_28 = {\n",
    "        # Examples\n",
    "        # 'Cleared: Meter 00:13:50:05:ff:11:69:bb detected a high temperature condition. (C1219 Table 3)'\n",
    "        '3.35.0.28': [\n",
    "            #-----\n",
    "            (r'(Cleared: Meter)(?:\\s+(?:[0-9a-zA-Z]+)(?:\\:[0-9a-zA-Z]+)+)\\s*(detected a high temperature condition)\\.\\s*(.*)', r'\\1 \\2 \\3') \n",
    "            #-----\n",
    "            #-----\n",
    "            # COULD ALSO DO\n",
    "            # NOTE: Here, the MAC-esque code occurs in middle of string, not the end as is common elsewhere.\n",
    "            #       This is why the pattern here excludes [\\s*\\.]* at the end\n",
    "            (r'((?:\\s*occurred\\s*)?(?:\\s*(?:for|on)?\\s*(?:meter)?)?\\s+(?:[0-9a-zA-Z]+)(?:\\:[0-9a-zA-Z]+)+\\.?)', '')\n",
    "        ]\n",
    "}"
   ]
  },
  {
   "cell_type": "code",
   "execution_count": null,
   "id": "e61feca6",
   "metadata": {},
   "outputs": [],
   "source": [
    "curated_reasons = []\n",
    "for reason_i in df_3_35_0_28['reason'].unique().tolist():\n",
    "    curated_reason_i = AMIEndEvents.reduce_end_event_reason(\n",
    "        reason=reason_i, \n",
    "        patterns=dict_3_35_0_28['3.35.0.28']\n",
    "    )\n",
    "    curated_reasons.append(curated_reason_i)\n",
    "curated_reasons = list(set(curated_reasons))\n",
    "print(*curated_reasons, sep='\\n')"
   ]
  },
  {
   "cell_type": "code",
   "execution_count": null,
   "id": "b57176b8",
   "metadata": {},
   "outputs": [],
   "source": [
    "assert(len(set(dict_3_35_0_28.keys()).intersection(set(dict_documented.keys())))==0)\n",
    "dict_documented = {**dict_documented, **dict_3_35_0_28}"
   ]
  },
  {
   "cell_type": "code",
   "execution_count": null,
   "id": "86992abc",
   "metadata": {},
   "outputs": [],
   "source": []
  },
  {
   "cell_type": "markdown",
   "id": "a15a3185",
   "metadata": {},
   "source": [
    "# '3.35.0.40'"
   ]
  },
  {
   "cell_type": "code",
   "execution_count": null,
   "id": "3a38b821",
   "metadata": {},
   "outputs": [],
   "source": [
    "df_3_35_0_40 = pd.read_pickle(ids_with_paths_dict['3.35.0.40'])\n",
    "#-----\n",
    "print(f\"shape[0] = {df_3_35_0_40.shape[0]}\")\n",
    "print(f\"# Unique reasons = {df_3_35_0_40['reason'].nunique()}\")\n",
    "print(df_3_35_0_40['reason'].unique())"
   ]
  },
  {
   "cell_type": "code",
   "execution_count": null,
   "id": "ca7b95a1",
   "metadata": {},
   "outputs": [],
   "source": [
    "dict_3_35_0_40 = {\n",
    "        #-------------------------\n",
    "        # Examples\n",
    "        # 'Meter 00:13:50:05:ff:11:69:bb detected a high temperature condition. (C1219 Table 3)'\n",
    "        # 'Meter's temperature threshold exceeded.'\n",
    "        # 'Meter event AX Temp Threshold Exceeded  Time event occurred on meter = 02/19/2021 13:33:50  Sequence number = 5115  User id = 0  Event argument = 00-00 '\n",
    "        # 'Meter event S4TemperatureThreshold  Time event occurred on meter = 05/25/2023 17:12:50  Sequence number = 45  User id = 0  Event argument = 00-00-00-00-00-00 '\n",
    "        '3.35.0.40': [\n",
    "            #-----\n",
    "            (r'(Meter)(?:\\s+(?:[0-9a-zA-Z]+)(?:\\:[0-9a-zA-Z]+)+)\\s*(detected a high temperature condition)\\.\\s*(.*)', r'\\1 \\2 \\3'), \n",
    "            #-----\n",
    "            (r\"(Meter's temperature threshold exceeded).\", r'\\1'), \n",
    "            #-----\n",
    "            (r'(Meter event .*?)\\s*Time event occurred on meter\\s*=.*\\s*Sequence number\\s*=.*\\s*User id\\s*=.*\\s*Event argument\\s*=.*', r'\\1'), \n",
    "            #-----\n",
    "            (r'(Meter event (?:AX Temp Threshold Exceeded|S4TemperatureThreshold)).*', r'\\1'),\n",
    "        ]\n",
    "}"
   ]
  },
  {
   "cell_type": "code",
   "execution_count": null,
   "id": "89c629af",
   "metadata": {},
   "outputs": [],
   "source": [
    "curated_reasons = []\n",
    "for reason_i in df_3_35_0_40['reason'].unique().tolist():\n",
    "    curated_reason_i = AMIEndEvents.reduce_end_event_reason(\n",
    "        reason=reason_i, \n",
    "        patterns=dict_3_35_0_40['3.35.0.40']\n",
    "    )\n",
    "    curated_reasons.append(curated_reason_i)\n",
    "curated_reasons = list(set(curated_reasons))\n",
    "print(*curated_reasons, sep='\\n')"
   ]
  },
  {
   "cell_type": "code",
   "execution_count": null,
   "id": "735a949d",
   "metadata": {},
   "outputs": [],
   "source": [
    "assert(len(set(dict_3_35_0_40.keys()).intersection(set(dict_documented.keys())))==0)\n",
    "dict_documented = {**dict_documented, **dict_3_35_0_40}"
   ]
  },
  {
   "cell_type": "code",
   "execution_count": null,
   "id": "b550d9ce",
   "metadata": {},
   "outputs": [],
   "source": []
  },
  {
   "cell_type": "markdown",
   "id": "167814a9",
   "metadata": {},
   "source": [
    "# '3.36.0.79'"
   ]
  },
  {
   "cell_type": "code",
   "execution_count": null,
   "id": "36671273",
   "metadata": {},
   "outputs": [],
   "source": [
    "df_3_36_0_79 = pd.read_pickle(ids_with_paths_dict['3.36.0.79'])\n",
    "#-----\n",
    "print(f\"shape[0] = {df_3_36_0_79.shape[0]}\")\n",
    "print(f\"# Unique reasons = {df_3_36_0_79['reason'].nunique()}\")\n",
    "print(df_3_36_0_79['reason'].unique())"
   ]
  },
  {
   "cell_type": "code",
   "execution_count": null,
   "id": "355c4184",
   "metadata": {},
   "outputs": [],
   "source": [
    "dict_3_36_0_79 = {\n",
    "        # Examples\n",
    "        # 'Meter detected a clock error.'\n",
    "        # 'Meter event Clock Error Detected  Time event occurred on meter = 04/18/2020 10:00:10  Sequence number = 332  User id = 0  Event argument = 00-00'\n",
    "        '3.36.0.79': [\n",
    "            #-----\n",
    "            (r'(Meter event Clock Error Detected)\\s*Time event occurred on meter\\s*=.*\\s*Sequence number\\s*=.*\\s*User id\\s*=.*\\s*Event argument\\s*=.*', r'\\1'), \n",
    "            #-----\n",
    "            (r'(Meter event Clock Error Detected).*', r'\\1'),\n",
    "            #-----\n",
    "            (r'(Meter detected a clock error).*', 'Meter event Clock Error Detected'), \n",
    "            #-----\n",
    "        ]\n",
    "}"
   ]
  },
  {
   "cell_type": "code",
   "execution_count": null,
   "id": "db2fdbba",
   "metadata": {},
   "outputs": [],
   "source": [
    "curated_reasons = []\n",
    "for reason_i in df_3_36_0_79['reason'].unique().tolist():\n",
    "    curated_reason_i = AMIEndEvents.reduce_end_event_reason(\n",
    "        reason=reason_i, \n",
    "        patterns=dict_3_36_0_79['3.36.0.79']\n",
    "    )\n",
    "    curated_reasons.append(curated_reason_i)\n",
    "curated_reasons = list(set(curated_reasons))\n",
    "print(*curated_reasons, sep='\\n')"
   ]
  },
  {
   "cell_type": "code",
   "execution_count": null,
   "id": "5465e438",
   "metadata": {},
   "outputs": [],
   "source": [
    "assert(len(set(dict_3_36_0_79.keys()).intersection(set(dict_documented.keys())))==0)\n",
    "dict_documented = {**dict_documented, **dict_3_36_0_79}"
   ]
  },
  {
   "cell_type": "code",
   "execution_count": null,
   "id": "cdf92e3d",
   "metadata": {},
   "outputs": [],
   "source": []
  },
  {
   "cell_type": "markdown",
   "id": "d4466163",
   "metadata": {},
   "source": [
    "# '3.36.1.29'"
   ]
  },
  {
   "cell_type": "code",
   "execution_count": null,
   "id": "d5a7f3df",
   "metadata": {},
   "outputs": [],
   "source": [
    "df_3_36_1_29 = pd.read_pickle(ids_with_paths_dict['3.36.1.29'])\n",
    "#-----\n",
    "print(f\"shape[0] = {df_3_36_1_29.shape[0]}\")\n",
    "print(f\"# Unique reasons = {df_3_36_1_29['reason'].nunique()}\")\n",
    "print(df_3_36_1_29['reason'].unique())"
   ]
  },
  {
   "cell_type": "code",
   "execution_count": null,
   "id": "ec946ce4",
   "metadata": {},
   "outputs": [],
   "source": [
    "dict_3_36_1_29 = {\n",
    "        # Examples\n",
    "        # 'Meter detected a clock error.'\n",
    "        '3.36.1.29': [\n",
    "            #-----\n",
    "            ('(Meter detected a clock error).', r'\\1'), \n",
    "            #-----\n",
    "        ]\n",
    "}"
   ]
  },
  {
   "cell_type": "code",
   "execution_count": null,
   "id": "26db2f45",
   "metadata": {},
   "outputs": [],
   "source": [
    "curated_reasons = []\n",
    "for reason_i in df_3_36_1_29['reason'].unique().tolist():\n",
    "    curated_reason_i = AMIEndEvents.reduce_end_event_reason(\n",
    "        reason=reason_i, \n",
    "        patterns=dict_3_36_1_29['3.36.1.29']\n",
    "    )\n",
    "    curated_reasons.append(curated_reason_i)\n",
    "curated_reasons = list(set(curated_reasons))\n",
    "print(*curated_reasons, sep='\\n')"
   ]
  },
  {
   "cell_type": "code",
   "execution_count": null,
   "id": "02de3f9c",
   "metadata": {},
   "outputs": [],
   "source": [
    "assert(len(set(dict_3_36_1_29.keys()).intersection(set(dict_documented.keys())))==0)\n",
    "dict_documented = {**dict_documented, **dict_3_36_1_29}"
   ]
  },
  {
   "cell_type": "code",
   "execution_count": null,
   "id": "1a0b3b80",
   "metadata": {},
   "outputs": [],
   "source": []
  },
  {
   "cell_type": "code",
   "execution_count": null,
   "id": "5c9cc60a",
   "metadata": {},
   "outputs": [],
   "source": []
  },
  {
   "cell_type": "code",
   "execution_count": null,
   "id": "af2c09a6",
   "metadata": {},
   "outputs": [],
   "source": []
  },
  {
   "cell_type": "code",
   "execution_count": null,
   "id": "251fc00c",
   "metadata": {},
   "outputs": [],
   "source": []
  },
  {
   "cell_type": "markdown",
   "id": "8dc53c0a",
   "metadata": {},
   "source": [
    "# '3.36.114.73'"
   ]
  },
  {
   "cell_type": "code",
   "execution_count": null,
   "id": "3d66f3d5",
   "metadata": {},
   "outputs": [],
   "source": [
    "df_3_36_114_73 = pd.read_pickle(ids_with_paths_dict['3.36.114.73'])\n",
    "#-----\n",
    "print(f\"shape[0] = {df_3_36_114_73.shape[0]}\")\n",
    "print(f\"# Unique reasons = {df_3_36_114_73['reason'].nunique()}\")\n",
    "print(df_3_36_114_73['reason'].unique())"
   ]
  },
  {
   "cell_type": "code",
   "execution_count": null,
   "id": "46e34618",
   "metadata": {},
   "outputs": [],
   "source": [
    "dict_3_36_114_73 = {\n",
    "        # Examples\n",
    "        # 'Meter 00:13:50:05:ff:2e:13:de, detected loss of time (C1219 Table 3)'\n",
    "        '3.36.114.73':  [\n",
    "            #-----\n",
    "            (r'(Meter)(?:\\s+(?:[0-9a-zA-Z]+)(?:\\:[0-9a-zA-Z]+)+),\\s*(detected loss of time .*)', r'\\1 \\2'), \n",
    "            #-----\n",
    "        ]\n",
    "}"
   ]
  },
  {
   "cell_type": "code",
   "execution_count": null,
   "id": "42c1e731",
   "metadata": {},
   "outputs": [],
   "source": [
    "curated_reasons = []\n",
    "for reason_i in df_3_36_114_73['reason'].unique().tolist():\n",
    "    curated_reason_i = AMIEndEvents.reduce_end_event_reason(\n",
    "        reason=reason_i, \n",
    "        patterns=dict_3_36_114_73['3.36.114.73']\n",
    "    )\n",
    "    curated_reasons.append(curated_reason_i)\n",
    "curated_reasons = list(set(curated_reasons))\n",
    "print(*curated_reasons, sep='\\n')"
   ]
  },
  {
   "cell_type": "code",
   "execution_count": null,
   "id": "6387fd5d",
   "metadata": {},
   "outputs": [],
   "source": [
    "assert(len(set(dict_3_36_114_73.keys()).intersection(set(dict_documented.keys())))==0)\n",
    "dict_documented = {**dict_documented, **dict_3_36_114_73}"
   ]
  },
  {
   "cell_type": "code",
   "execution_count": null,
   "id": "83649b94",
   "metadata": {},
   "outputs": [],
   "source": []
  },
  {
   "cell_type": "code",
   "execution_count": null,
   "id": "d01a57a8",
   "metadata": {},
   "outputs": [],
   "source": []
  },
  {
   "cell_type": "code",
   "execution_count": null,
   "id": "9cc5a450",
   "metadata": {},
   "outputs": [],
   "source": []
  },
  {
   "cell_type": "code",
   "execution_count": null,
   "id": "a1e752e0",
   "metadata": {},
   "outputs": [],
   "source": []
  },
  {
   "cell_type": "markdown",
   "id": "c19c5391",
   "metadata": {},
   "source": [
    "# '3.36.114.159'"
   ]
  },
  {
   "cell_type": "code",
   "execution_count": null,
   "id": "eb3bac05",
   "metadata": {},
   "outputs": [],
   "source": [
    "df_3_36_114_159 = pd.read_pickle(ids_with_paths_dict['3.36.114.159'])\n",
    "#-----\n",
    "print(f\"shape[0] = {df_3_36_114_159.shape[0]}\")\n",
    "print(f\"# Unique reasons = {df_3_36_114_159['reason'].nunique()}\")\n",
    "print(df_3_36_114_159['reason'].unique())"
   ]
  },
  {
   "cell_type": "code",
   "execution_count": null,
   "id": "96297f2f",
   "metadata": {},
   "outputs": [],
   "source": [
    "dict_3_36_114_159 = {\n",
    "        # Examples\n",
    "        # 'Ignoring Interval Read data for device 00:13:50:05:ff:1e:fa:a4 as it has time in the future 2069-05-02 18:51:00.0'\n",
    "        '3.36.114.159': [\n",
    "            #-----\n",
    "            (r'(Ignoring (?:Interval|Register) Read data for device)(?:\\s+(?:[0-9a-zA-Z]+)(?:\\:[0-9a-zA-Z]+)+)\\s*(as it has time in the future).*', r'\\1 \\2'), \n",
    "            #-----\n",
    "        ]\n",
    "}"
   ]
  },
  {
   "cell_type": "code",
   "execution_count": null,
   "id": "638a6f57",
   "metadata": {},
   "outputs": [],
   "source": [
    "curated_reasons = []\n",
    "for reason_i in df_3_36_114_159['reason'].unique().tolist():\n",
    "    curated_reason_i = AMIEndEvents.reduce_end_event_reason(\n",
    "        reason=reason_i, \n",
    "        patterns=dict_3_36_114_159['3.36.114.159']\n",
    "    )\n",
    "    curated_reasons.append(curated_reason_i)\n",
    "curated_reasons = list(set(curated_reasons))\n",
    "print(*curated_reasons, sep='\\n')"
   ]
  },
  {
   "cell_type": "code",
   "execution_count": null,
   "id": "0e71a686",
   "metadata": {},
   "outputs": [],
   "source": [
    "assert(len(set(dict_3_36_114_159.keys()).intersection(set(dict_documented.keys())))==0)\n",
    "dict_documented = {**dict_documented, **dict_3_36_114_159}"
   ]
  },
  {
   "cell_type": "code",
   "execution_count": null,
   "id": "54e34fef",
   "metadata": {},
   "outputs": [],
   "source": []
  },
  {
   "cell_type": "markdown",
   "id": "728eaf3a",
   "metadata": {},
   "source": [
    "# '3.36.136.73'"
   ]
  },
  {
   "cell_type": "code",
   "execution_count": null,
   "id": "14ef0df0",
   "metadata": {},
   "outputs": [],
   "source": [
    "df_3_36_136_73 = pd.read_pickle(ids_with_paths_dict['3.36.136.73'])\n",
    "#-----\n",
    "print(f\"shape[0] = {df_3_36_136_73.shape[0]}\")\n",
    "print(f\"# Unique reasons = {df_3_36_136_73['reason'].nunique()}\")\n",
    "print(df_3_36_136_73['reason'].unique())"
   ]
  },
  {
   "cell_type": "code",
   "execution_count": null,
   "id": "564acd5f",
   "metadata": {},
   "outputs": [],
   "source": [
    "dict_3_36_136_73 = {\n",
    "        # Examples\n",
    "        # 'Meter 00:13:50:05:ff:14:c9:61 needs explicit time sync. Drift: 14391 s, Encountered Problems:  TS_ERR_LP_BX, TS_ERR_BIG_DRIFT [0x44], Meter_Time: 06:33:41'\n",
    "        '3.36.136.73':  [\n",
    "            #-----\n",
    "            (r'(Meter)(?:\\s+(?:[0-9a-zA-Z]+)(?:\\:[0-9a-zA-Z]+)+)\\s*(needs explicit time sync.) Drift: -?\\d* s, (Encountered Problems:\\s*.*), Meter_Time.*', r'\\1 \\2 \\3'), \n",
    "            #-----\n",
    "        ]\n",
    "}"
   ]
  },
  {
   "cell_type": "code",
   "execution_count": null,
   "id": "6f53308f",
   "metadata": {},
   "outputs": [],
   "source": [
    "curated_reasons = []\n",
    "for reason_i in df_3_36_136_73['reason'].unique().tolist():\n",
    "    curated_reason_i = AMIEndEvents.reduce_end_event_reason(\n",
    "        reason=reason_i, \n",
    "        patterns=dict_3_36_136_73['3.36.136.73']\n",
    "    )\n",
    "    curated_reasons.append(curated_reason_i)\n",
    "curated_reasons = list(set(curated_reasons))\n",
    "print(*sorted(curated_reasons), sep='\\n')"
   ]
  },
  {
   "cell_type": "code",
   "execution_count": null,
   "id": "7feed911",
   "metadata": {},
   "outputs": [],
   "source": [
    "assert(len(set(dict_3_36_136_73.keys()).intersection(set(dict_documented.keys())))==0)\n",
    "dict_documented = {**dict_documented, **dict_3_36_136_73}"
   ]
  },
  {
   "cell_type": "code",
   "execution_count": null,
   "id": "92b2210c",
   "metadata": {},
   "outputs": [],
   "source": []
  },
  {
   "cell_type": "markdown",
   "id": "1c6b9f99",
   "metadata": {},
   "source": [
    "# '3.36.136.79'"
   ]
  },
  {
   "cell_type": "code",
   "execution_count": null,
   "id": "5e3d47aa",
   "metadata": {},
   "outputs": [],
   "source": [
    "df_3_36_136_79 = pd.read_pickle(ids_with_paths_dict['3.36.136.79'])\n",
    "#-----\n",
    "print(f\"shape[0] = {df_3_36_136_79.shape[0]}\")\n",
    "print(f\"# Unique reasons = {df_3_36_136_79['reason'].nunique()}\")\n",
    "print(df_3_36_136_79['reason'].unique())"
   ]
  },
  {
   "cell_type": "code",
   "execution_count": null,
   "id": "a21e7631",
   "metadata": {},
   "outputs": [],
   "source": [
    "dict_3_36_136_79 = {\n",
    "        # Examples\n",
    "        # 'Error occurred when attempting to synch meter time with NIC time for device 00:13:50:05:ff:29:e1:20'\n",
    "        # So, standard beg/end patterns should suffice\n",
    "        '3.36.136.79':    [\n",
    "            #-----\n",
    "            (r'(Error occurred when attempting to synch meter time with NIC time for device)(?:\\s+(?:[0-9a-zA-Z]+)(?:\\:[0-9a-zA-Z]+)+)', r'\\1')\n",
    "            #-----\n",
    "#             #-----\n",
    "#             # COULD ALSO DO\n",
    "#             (r'((?:\\s*occurred\\s*)?(?:\\s*(?:for|on)?\\s*(?:meter)?)?\\s+(?:[0-9a-zA-Z]+)(?:\\:[0-9a-zA-Z]+)+[\\s*\\.]*)', '')\n",
    "        ]\n",
    "}"
   ]
  },
  {
   "cell_type": "code",
   "execution_count": null,
   "id": "62252e2a",
   "metadata": {},
   "outputs": [],
   "source": [
    "curated_reasons = []\n",
    "for reason_i in df_3_36_136_79['reason'].unique().tolist():\n",
    "    curated_reason_i = AMIEndEvents.reduce_end_event_reason(\n",
    "        reason=reason_i, \n",
    "        patterns=dict_3_36_136_79['3.36.136.79']\n",
    "    )\n",
    "    curated_reasons.append(curated_reason_i)\n",
    "curated_reasons = list(set(curated_reasons))\n",
    "print(*curated_reasons, sep='\\n')"
   ]
  },
  {
   "cell_type": "code",
   "execution_count": null,
   "id": "6a7126e8",
   "metadata": {},
   "outputs": [],
   "source": [
    "assert(len(set(dict_3_36_136_79.keys()).intersection(set(dict_documented.keys())))==0)\n",
    "dict_documented = {**dict_documented, **dict_3_36_136_79}"
   ]
  },
  {
   "cell_type": "code",
   "execution_count": null,
   "id": "cccedde1",
   "metadata": {},
   "outputs": [],
   "source": []
  },
  {
   "cell_type": "markdown",
   "id": "f4ce69d4",
   "metadata": {},
   "source": [
    "# '3.38.1.139'"
   ]
  },
  {
   "cell_type": "code",
   "execution_count": null,
   "id": "1b8f220d",
   "metadata": {},
   "outputs": [],
   "source": [
    "df_3_38_1_139 = pd.read_pickle(ids_with_paths_dict['3.38.1.139'])\n",
    "#-----\n",
    "print(f\"shape[0] = {df_3_38_1_139.shape[0]}\")\n",
    "print(f\"# Unique reasons = {df_3_38_1_139['reason'].nunique()}\")\n",
    "print(df_3_38_1_139['reason'].unique())"
   ]
  },
  {
   "cell_type": "code",
   "execution_count": null,
   "id": "e78394d4",
   "metadata": {},
   "outputs": [],
   "source": [
    "dict_3_38_1_139 = {\n",
    "        # Examples\n",
    "        # 'KV2c meter event Polarity, Cross Phase, Reverse Energy Flow Diagnostic flags:Phase B Voltage '\n",
    "        # 'KV2c meter event Polarity, Cross Phase, Reverse Energy Flow Diagnostic flags:Phase B Voltage, Phase C Voltage '\n",
    "        '3.38.1.139':    [\n",
    "            #-----\n",
    "            (r'(KV2c meter event Polarity, Cross Phase, Reverse Energy Flow) Diagnostic flags:.*', r'\\1'), \n",
    "            #-----\n",
    "        ]\n",
    "}"
   ]
  },
  {
   "cell_type": "code",
   "execution_count": null,
   "id": "c5cd06ec",
   "metadata": {},
   "outputs": [],
   "source": [
    "curated_reasons = []\n",
    "for reason_i in df_3_38_1_139['reason'].unique().tolist():\n",
    "    curated_reason_i = AMIEndEvents.reduce_end_event_reason(\n",
    "        reason=reason_i, \n",
    "        patterns=dict_3_38_1_139['3.38.1.139']\n",
    "    )\n",
    "    curated_reasons.append(curated_reason_i)\n",
    "curated_reasons = list(set(curated_reasons))\n",
    "print(*curated_reasons, sep='\\n')"
   ]
  },
  {
   "cell_type": "code",
   "execution_count": null,
   "id": "11f59008",
   "metadata": {},
   "outputs": [],
   "source": [
    "assert(len(set(dict_3_38_1_139.keys()).intersection(set(dict_documented.keys())))==0)\n",
    "dict_documented = {**dict_documented, **dict_3_38_1_139}"
   ]
  },
  {
   "cell_type": "code",
   "execution_count": null,
   "id": "2b9495b0",
   "metadata": {},
   "outputs": [],
   "source": []
  },
  {
   "cell_type": "code",
   "execution_count": null,
   "id": "c74e8987",
   "metadata": {},
   "outputs": [],
   "source": []
  },
  {
   "cell_type": "code",
   "execution_count": null,
   "id": "a2de0866",
   "metadata": {},
   "outputs": [],
   "source": [
    "natsorted(ids_with_paths_dict.keys())"
   ]
  },
  {
   "cell_type": "code",
   "execution_count": null,
   "id": "6f27a898",
   "metadata": {},
   "outputs": [],
   "source": [
    "regexs_to_document = [x for x in ids_with_paths_dict.keys() if x not in dict_documented.keys()]\n",
    "natsorted(regexs_to_document)"
   ]
  },
  {
   "cell_type": "code",
   "execution_count": null,
   "id": "ee6dd149",
   "metadata": {},
   "outputs": [],
   "source": []
  },
  {
   "cell_type": "code",
   "execution_count": null,
   "id": "db4a8387",
   "metadata": {},
   "outputs": [],
   "source": []
  }
 ],
 "metadata": {
  "kernelspec": {
   "display_name": "Python 3 (ipykernel)",
   "language": "python",
   "name": "python3"
  },
  "language_info": {
   "codemirror_mode": {
    "name": "ipython",
    "version": 3
   },
   "file_extension": ".py",
   "mimetype": "text/x-python",
   "name": "python",
   "nbconvert_exporter": "python",
   "pygments_lexer": "ipython3",
   "version": "3.11.7"
  }
 },
 "nbformat": 4,
 "nbformat_minor": 5
}
