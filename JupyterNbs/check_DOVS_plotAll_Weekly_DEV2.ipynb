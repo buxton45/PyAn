{
 "cells": [
  {
   "cell_type": "code",
   "execution_count": null,
   "id": "7fab2200",
   "metadata": {},
   "outputs": [],
   "source": [
    "%run ./check_DOVS_METHODS.ipynb"
   ]
  },
  {
   "cell_type": "code",
   "execution_count": null,
   "id": "f1d9dc36",
   "metadata": {},
   "outputs": [],
   "source": [
    "from importlib import reload\n",
    "import sys, os\n",
    "import re\n",
    "from pathlib import Path\n",
    "import pickle\n",
    "\n",
    "import pandas as pd\n",
    "import numpy as np\n",
    "from pandas.api.types import is_numeric_dtype, is_datetime64_dtype, is_timedelta64_dtype\n",
    "from scipy import stats\n",
    "import datetime\n",
    "import time\n",
    "from natsort import natsorted, ns, natsort_keygen\n",
    "from packaging import version\n",
    "\n",
    "import copy\n",
    "import itertools\n",
    "import adjustText\n",
    "\n",
    "import pyodbc\n",
    "#---------------------------------------------------------------------\n",
    "sys.path.insert(0, os.path.realpath('..'))\n",
    "import Utilities_config\n",
    "#-----\n",
    "import CommonLearningMethods as clm\n",
    "#-----\n",
    "from MeterPremise import MeterPremise\n",
    "#-----\n",
    "from AMI_SQL import AMI_SQL\n",
    "from AMINonVee_SQL import AMINonVee_SQL\n",
    "from AMIEndEvents_SQL import AMIEndEvents_SQL\n",
    "from AMIUsgInst_SQL import AMIUsgInst_SQL\n",
    "from DOVSOutages_SQL import DOVSOutages_SQL\n",
    "#-----\n",
    "from GenAn import GenAn\n",
    "from AMINonVee import AMINonVee\n",
    "from AMIEndEvents import AMIEndEvents\n",
    "from AMIUsgInst import AMIUsgInst\n",
    "from DOVSOutages import DOVSOutages\n",
    "from DOVSAudit import DOVSAudit\n",
    "#---------------------------------------------------------------------\n",
    "sys.path.insert(0, Utilities_config.get_sql_aids_dir())\n",
    "import Utilities_sql\n",
    "import TableInfos\n",
    "from TableInfos import TableInfo\n",
    "from SQLElement import SQLElement\n",
    "from SQLElementsCollection import SQLElementsCollection\n",
    "from SQLSelect import SQLSelectElement, SQLSelect\n",
    "from SQLFrom import SQLFrom\n",
    "from SQLWhere import SQLWhereElement, SQLWhere\n",
    "from SQLJoin import SQLJoin, SQLJoinCollection\n",
    "from SQLGroupBy import SQLGroupByElement, SQLGroupBy\n",
    "from SQLHaving import SQLHaving\n",
    "from SQLOrderBy import SQLOrderByElement, SQLOrderBy\n",
    "from SQLQuery import SQLQuery\n",
    "from SQLQueryGeneric import SQLQueryGeneric\n",
    "#---------------------------------------------------------------------\n",
    "sys.path.insert(0, Utilities_config.get_utilities_dir())\n",
    "import Utilities\n",
    "import Utilities_df\n",
    "from Utilities_df import DFConstructType\n",
    "import Utilities_dt\n",
    "import PDFMerger\n",
    "import Plot_General\n",
    "import Plot_Box_sns\n",
    "import Plot_Hist\n",
    "import GrubbsTest\n",
    "import DataFrameSubsetSlicer\n",
    "from DataFrameSubsetSlicer import DataFrameSubsetSlicer as DFSlicer\n",
    "from DataFrameSubsetSlicer import DataFrameSubsetSingleSlicer as DFSingleSlicer\n",
    "#---------------------------------------------------------------------\n",
    "import matplotlib as mpl\n",
    "import matplotlib.pyplot as plt\n",
    "import seaborn as sns\n",
    "from matplotlib.backends.backend_pdf import PdfPages\n",
    "import matplotlib.patches as mpatches\n",
    "from matplotlib.lines import Line2D\n",
    "import matplotlib.ticker as ticker\n",
    "from matplotlib import dates\n",
    "import matplotlib.colors as mcolors\n",
    "import matplotlib.cm as cm #e.g. for cmap=cm.jet"
   ]
  },
  {
   "cell_type": "markdown",
   "id": "eb65d6fd",
   "metadata": {},
   "source": [
    "# Analyze collected data"
   ]
  },
  {
   "cell_type": "markdown",
   "id": "2074daca",
   "metadata": {},
   "source": [
    "## AMI NonVee"
   ]
  },
  {
   "cell_type": "code",
   "execution_count": null,
   "id": "703fd082-590a-4209-a646-11907ee2d217",
   "metadata": {},
   "outputs": [],
   "source": [
    "import warnings\n",
    "warnings.filterwarnings(\"ignore\", \"use_inf_as_na\")"
   ]
  },
  {
   "cell_type": "code",
   "execution_count": null,
   "id": "6fdc72f9",
   "metadata": {},
   "outputs": [],
   "source": [
    "date_0 = '2024-11-17'\n",
    "date_1 = '2024-11-23'\n",
    "#-------------------------\n",
    "save_dir_base = r'C:\\Users\\s346557\\Documents\\LocalData\\dovs_check'\n",
    "save_subdir = f\"{date_0.replace('-','')}_{date_1.replace('-','')}\"\n",
    "#-----\n",
    "base_dir     = os.path.join(save_dir_base, save_subdir, 'AllOPCOs')\n",
    "save_dir     = os.path.join(base_dir, r'Results')\n",
    "#-----\n",
    "assert(os.path.exists(save_dir))\n",
    "#-----\n",
    "dovs_audits_subdir = 'dovs_audits'\n",
    "assert(os.path.isdir(os.path.join(save_dir, dovs_audits_subdir)))"
   ]
  },
  {
   "cell_type": "code",
   "execution_count": null,
   "id": "e16f8e0b-de92-47b8-bebf-83861448248d",
   "metadata": {},
   "outputs": [],
   "source": [
    "save_dir"
   ]
  },
  {
   "cell_type": "code",
   "execution_count": null,
   "id": "f290eb80-f220-4cad-89ea-49f495df4024",
   "metadata": {},
   "outputs": [],
   "source": [
    "#--------------------------------------------------\n",
    "include_suboutg_endpt_plots=False\n",
    "#-------------------------\n",
    "n_PNs_w_power_threshold = 95"
   ]
  },
  {
   "cell_type": "code",
   "execution_count": null,
   "id": "7bf007e2-30ae-424d-8e38-933d2d63d332",
   "metadata": {},
   "outputs": [],
   "source": [
    "#-------------------------\n",
    "#-----\n",
    "paths = Utilities.find_all_paths(\n",
    "    base_dir      = os.path.join(save_dir, dovs_audits_subdir), \n",
    "    glob_pattern  = r'*.pkl', \n",
    "    regex_pattern = None\n",
    ")\n",
    "paths=natsorted(paths)"
   ]
  },
  {
   "cell_type": "code",
   "execution_count": null,
   "id": "09f6c21a-1a96-4aa4-a842-75910734c889",
   "metadata": {},
   "outputs": [],
   "source": [
    "len(paths)"
   ]
  },
  {
   "cell_type": "code",
   "execution_count": null,
   "id": "fa9e6f26-df75-4e93-bd8a-5ca1e95016bb",
   "metadata": {},
   "outputs": [],
   "source": [
    "# In some cases, keeping all of the PdfPages objects open becomes taxing in terms of memory\n",
    "# Therefore, I will save all of the PDFs as separate documents, closing each at the end of each iteration\n",
    "#   and collecting all in their respective single files at the end.\n",
    "# The following paths are for the final, single files\n",
    "#--------------------------------------------------\n",
    "res_tmp_subdir = 'TMP_Results'\n",
    "res_pdf_path   = os.path.join(save_dir, r'Results.pdf')\n",
    "#-------------------------\n",
    "res_dovs_beg_tmp_subdir = 'TMP_Results_dovs_beg'\n",
    "res_dovs_beg_pdf_path   = Utilities.append_to_path(\n",
    "    res_pdf_path, \n",
    "    '_dovs_beg', \n",
    "    ext_to_find='.pdf', \n",
    "    append_to_end_if_ext_no_found=False\n",
    ")\n",
    "#-------------------------\n",
    "res_w_endpts_tmp_subdir = 'TMP_Results_w_suboutg_endpt'\n",
    "res_w_endpts_pdf_path   = Utilities.append_to_path(\n",
    "    res_pdf_path, \n",
    "    '_w_suboutg_endpt_plots', \n",
    "    ext_to_find='.pdf', \n",
    "    append_to_end_if_ext_no_found=False\n",
    ")\n",
    "#--------------------------------------------------\n",
    "tmp_subdirs = [\n",
    "    res_tmp_subdir, \n",
    "    res_dovs_beg_tmp_subdir, \n",
    "    res_w_endpts_tmp_subdir\n",
    "]\n",
    "#-----\n",
    "# tmp_subdir_paths = Utilities.make_tmp_save_dir(\n",
    "#     base_dir_path = save_dir,\n",
    "#     tmp_dir_name  = tmp_subdirs, \n",
    "#     return_path   = True\n",
    "# )"
   ]
  },
  {
   "cell_type": "code",
   "execution_count": null,
   "id": "98cdbd02-2edb-4773-a037-e8b7183780de",
   "metadata": {},
   "outputs": [],
   "source": [
    "# Find any pre-existing results\n",
    "prex_pdf_paths = Utilities.find_all_paths(\n",
    "    base_dir      = os.path.join(save_dir, 'TMP_Results'), \n",
    "    glob_pattern  = r'*.pdf', \n",
    "    regex_pattern = None\n",
    ")\n",
    "prex_pdf_paths = natsorted(prex_pdf_paths)\n",
    "prex_pdfs      = [Path(x).stem for x in prex_pdf_paths]"
   ]
  },
  {
   "cell_type": "code",
   "execution_count": null,
   "id": "2abcd603-8010-46f6-9ab9-bc93dac563c2",
   "metadata": {},
   "outputs": [],
   "source": []
  },
  {
   "cell_type": "code",
   "execution_count": null,
   "id": "f48d73bc",
   "metadata": {
    "scrolled": true
   },
   "outputs": [],
   "source": [
    "#--------------------------------------------------\n",
    "outgs_pass = []\n",
    "outgs_fail = []\n",
    "#-------------------------\n",
    "fig_num                           = 0\n",
    "all_detailed_summary_dfs          = []\n",
    "all_detailed_summary_dfs_dovs_beg = []\n",
    "ci_cmi_summary_dfs                = []\n",
    "warnings_text                     = ''\n",
    "\n",
    "#--------------------------------------------------\n",
    "\n",
    "#----------------------------------------------------------------------------------------------------\n",
    "# Now, iterate through all paths\n",
    "for i_path, path_i in enumerate(paths):\n",
    "    if Path(path_i).stem in prex_pdfs:\n",
    "        continue\n",
    "    print(f'\\n\\ti_path: {i_path}/{len(paths)}')\n",
    "    #--------------------------------------------------\n",
    "    try:\n",
    "        audit_i = DOVSAudit(outg_rec_nb = path_i)\n",
    "        print(f'\\toutg_rec_nb = {audit_i.outg_rec_nb}')\n",
    "        #--------------------------------------------------\n",
    "        if not audit_i.can_analyze:\n",
    "            outgs_fail.append((audit_i.outg_rec_nb, \"not can_analyze (likely overlapping DOVS)\"))\n",
    "            continue\n",
    "        # #--------------------------------------------------\n",
    "        # detailed_summary_df_i = audit_i.get_detailed_summary_df(\n",
    "        #     dovs_beg        = False, \n",
    "        #     delta_t_off_cut = pd.Timedelta('5min'), \n",
    "        #     delta_t_on_cut  = pd.Timedelta('5min'), \n",
    "        #     delta_ci_cut    = 3, \n",
    "        #     delta_cmi_cut   = None, \n",
    "        #     n_PNs_w_power_threshold = n_PNs_w_power_threshold, \n",
    "        # )\n",
    "        # if detailed_summary_df_i.shape[0]>0:\n",
    "        #     all_detailed_summary_dfs.append(detailed_summary_df_i)\n",
    "        # #-----\n",
    "        # detailed_summary_df_dovs_beg_i = audit_i.get_detailed_summary_df(\n",
    "        #     dovs_beg        = True, \n",
    "        #     delta_t_off_cut = pd.Timedelta('5min'), \n",
    "        #     delta_t_on_cut  = pd.Timedelta('5min'), \n",
    "        #     delta_ci_cut    = 3, \n",
    "        #     delta_cmi_cut   = None, \n",
    "        #     n_PNs_w_power_threshold = n_PNs_w_power_threshold, \n",
    "        # )\n",
    "        # if detailed_summary_df_dovs_beg_i.shape[0]>0:\n",
    "        #     all_detailed_summary_dfs_dovs_beg.append(detailed_summary_df_dovs_beg_i)\n",
    "        # #-----\n",
    "        # warnings_text += audit_i.generate_warnings_text()\n",
    "        # #-------------------------\n",
    "        # ci_cmi_summary_dfs.append(\n",
    "        #     pd.DataFrame(\n",
    "        #         dict(\n",
    "        #             outg_rec_nb      = audit_i.outg_rec_nb, \n",
    "        #             ci_dovs          = audit_i.ci_dovs,   \n",
    "        #             ci_ami           = audit_i.ci, \n",
    "        #             ci_ami_dovs_beg  = audit_i.ci_dovs_beg, \n",
    "        #             cmi_dovs         = audit_i.cmi_dovs, \n",
    "        #             cmi_ami          = audit_i.cmi, \n",
    "        #             cmi_ami_dovs_beg = audit_i.cmi_dovs_beg\n",
    "        #         ), \n",
    "        #         index=[len(ci_cmi_summary_dfs)]\n",
    "        #     )\n",
    "        # )\n",
    "        #----------------------------------------------------------------------------------------------------\n",
    "        # ######################### PLOTTING #########################\n",
    "        #----------------------------------------------------------------------------------------------------\n",
    "        fig, axs = audit_i.plot_results(\n",
    "            include_dovs_beg_text      = True, \n",
    "            name                       = 'AMI', \n",
    "            expand_time                = pd.Timedelta('1 hour'), \n",
    "            n_PNs_w_power_threshold    = n_PNs_w_power_threshold, \n",
    "            fig_num                    = fig_num\n",
    "        )    \n",
    "        Plot_General.save_fig(\n",
    "            fig         = fig, \n",
    "            save_dir    = os.path.join(save_dir, res_tmp_subdir), \n",
    "            save_name   = f\"{audit_i.outg_rec_nb}.pdf\", \n",
    "            bbox_inches = 'tight'\n",
    "        )\n",
    "        if include_suboutg_endpt_plots:\n",
    "            Plot_General.save_fig(\n",
    "                fig         = fig, \n",
    "                save_dir    = os.path.join(save_dir, res_w_endpts_tmp_subdir), \n",
    "                save_name   = f\"{audit_i.outg_rec_nb}_0.pdf\", \n",
    "                bbox_inches = 'tight'\n",
    "            )\n",
    "        fig.clear()\n",
    "        plt.close(fig)\n",
    "        fig_num += 1\n",
    "        \n",
    "        #----------------------------------------------------------------------------------------------------\n",
    "        if audit_i.best_ests_means_df_dovs_beg is not None:\n",
    "            fig, axs = audit_i.plot_results_dovs_beg(\n",
    "                include_full_alg_text      = True, \n",
    "                name                       = 'AMI w/ DOVS t_beg', \n",
    "                expand_time                = pd.Timedelta('1 hour'), \n",
    "                n_PNs_w_power_threshold    = n_PNs_w_power_threshold, \n",
    "                fig_num                    = fig_num\n",
    "            )    \n",
    "            Plot_General.save_fig(\n",
    "                fig         = fig, \n",
    "                save_dir    = os.path.join(save_dir, res_dovs_beg_tmp_subdir), \n",
    "                save_name   = f\"{audit_i.outg_rec_nb}.pdf\", \n",
    "                bbox_inches = 'tight'\n",
    "            )\n",
    "            fig.clear()\n",
    "            plt.close(fig)\n",
    "            fig_num += 1\n",
    "        \n",
    "        #----------------------------------------------------------------------------------------------------\n",
    "        if include_suboutg_endpt_plots:\n",
    "            fig_axs = audit_i.plot_zoomed_endpts(\n",
    "                expand_time = pd.Timedelta('15 minutes'), \n",
    "                fig_num     = fig_num\n",
    "            )\n",
    "            if fig_axs is not None:\n",
    "                fig = fig_axs[0]\n",
    "                axs = fig_axs[1]\n",
    "                #-------------------------\n",
    "                Plot_General.save_fig(\n",
    "                    fig         = fig, \n",
    "                    save_dir    = os.path.join(save_dir, res_w_endpts_tmp_subdir), \n",
    "                    save_name   = f\"{audit_i.outg_rec_nb}_1.pdf\", \n",
    "                    bbox_inches = 'tight'\n",
    "                ) \n",
    "                fig.clear()\n",
    "                plt.close(fig)\n",
    "                fig_num += 1\n",
    "    \n",
    "        #----------------------------------------------------------------------------------------------------\n",
    "        outgs_pass.append(audit_i.outg_rec_nb)\n",
    "\n",
    "    except:\n",
    "        outgs_fail.append((audit_i.outg_rec_nb, \"Unknown\"))\n",
    "        \n",
    "#----------------------------------------------------------------------------------------------------\n",
    "# detailed_summary_df          = Utilities_df.concat_dfs(\n",
    "#     dfs                  = all_detailed_summary_dfs, \n",
    "#     axis                 = 0, \n",
    "#     make_col_types_equal = False\n",
    "# )\n",
    "# detailed_summary_df_dovs_beg = Utilities_df.concat_dfs(\n",
    "#     dfs                  = all_detailed_summary_dfs_dovs_beg, \n",
    "#     axis                 = 0, \n",
    "#     make_col_types_equal = False\n",
    "# )\n",
    "# #-------------------------\n",
    "# detailed_summary_df = DOVSAudit.sort_detailed_summary_df(\n",
    "#     detailed_summary_df = detailed_summary_df, \n",
    "#     how                 = 'abs_delta_ci_cmi', \n",
    "# )\n",
    "# #-----\n",
    "# detailed_summary_df_dovs_beg = DOVSAudit.sort_detailed_summary_df(\n",
    "#     detailed_summary_df = detailed_summary_df_dovs_beg, \n",
    "#     how                 = 'abs_delta_ci_cmi', \n",
    "# )\n",
    "# #-------------------------\n",
    "# ci_cmi_summary_df            = Utilities_df.concat_dfs(\n",
    "#     dfs                  = ci_cmi_summary_dfs, \n",
    "#     axis                 = 0, \n",
    "#     make_col_types_equal = False\n",
    "# )"
   ]
  },
  {
   "cell_type": "code",
   "execution_count": null,
   "id": "c4e5ca9a-4331-4dd3-a79d-253c2049f01f",
   "metadata": {},
   "outputs": [],
   "source": [
    "PDFMerger.merge_all_pdfs_in_dir(\n",
    "    dir_to_merge = os.path.join(save_dir, res_tmp_subdir), \n",
    "    output_path  = res_pdf_path, \n",
    ")\n",
    "#-----\n",
    "PDFMerger.merge_all_pdfs_in_dir(\n",
    "    dir_to_merge = os.path.join(save_dir, res_dovs_beg_tmp_subdir), \n",
    "    output_path  = res_dovs_beg_pdf_path, \n",
    ")\n",
    "#-----\n",
    "PDFMerger.merge_all_pdfs_in_dir(\n",
    "    dir_to_merge = os.path.join(save_dir, res_w_endpts_tmp_subdir), \n",
    "    output_path  = res_w_endpts_pdf_path, \n",
    ")\n",
    "#-------------------------\n",
    "# Utilities.del_tmp_save_dir(\n",
    "#     base_dir_path = save_dir,\n",
    "#     tmp_dir_name  = tmp_subdirs\n",
    "# )"
   ]
  },
  {
   "cell_type": "code",
   "execution_count": null,
   "id": "eb63d8c2-d992-4b0f-a0b5-efdcad59c389",
   "metadata": {},
   "outputs": [],
   "source": []
  },
  {
   "cell_type": "code",
   "execution_count": null,
   "id": "3ee4314f",
   "metadata": {},
   "outputs": [],
   "source": [
    "# ci_cmi_summary_df['ci_dovs']         = ci_cmi_summary_df['ci_dovs'].astype(float)\n",
    "# ci_cmi_summary_df['ci_ami']          = ci_cmi_summary_df['ci_ami'].astype(float)\n",
    "# ci_cmi_summary_df['ci_ami_dovs_beg'] = ci_cmi_summary_df['ci_ami_dovs_beg'].astype(float)\n",
    "# #-----\n",
    "# ci_cmi_summary_df['delta_ci_dovs_ami']  = ci_cmi_summary_df['ci_dovs']-ci_cmi_summary_df['ci_ami']\n",
    "# ci_cmi_summary_df['delta_cmi_dovs_ami'] = ci_cmi_summary_df['cmi_dovs']-ci_cmi_summary_df['cmi_ami']\n",
    "# #-----\n",
    "# ci_cmi_summary_df['delta_ci_dovs_ami_dovs_beg']  = ci_cmi_summary_df['ci_dovs']-ci_cmi_summary_df['ci_ami_dovs_beg']\n",
    "# ci_cmi_summary_df['delta_cmi_dovs_ami_dovs_beg'] = ci_cmi_summary_df['cmi_dovs']-ci_cmi_summary_df['cmi_ami_dovs_beg']\n",
    "# #-----\n",
    "# # For plotting purposes, make a outg_rec_in column which is simply 0 to delta_df.shape[0]-1\n",
    "# ci_cmi_summary_df['outg_rec_int'] = range(ci_cmi_summary_df.shape[0])\n",
    "# #-----"
   ]
  },
  {
   "cell_type": "code",
   "execution_count": null,
   "id": "a4eab42c",
   "metadata": {},
   "outputs": [],
   "source": [
    "# detailed_summary_df.to_pickle(os.path.join(save_dir, r'detailed_summary.pkl'))\n",
    "# detailed_summary_df_dovs_beg.to_pickle(os.path.join(save_dir, r'detailed_summary_dovs_beg.pkl'))\n",
    "# ci_cmi_summary_df.to_pickle(os.path.join(save_dir, r'ci_cmi_summary.pkl'))\n",
    "# #-----\n",
    "# detailed_summary_df.to_csv(os.path.join(save_dir, r'detailed_summary.csv'))\n",
    "# detailed_summary_df_dovs_beg.to_csv(os.path.join(save_dir, r'detailed_summary_dovs_beg.csv'))\n",
    "# ci_cmi_summary_df.to_csv(os.path.join(save_dir, r'ci_cmi_summary.csv'))\n",
    "# #-----\n",
    "# # For Mico and Amanda\n",
    "# detailed_summary_df_dovs_beg.to_csv(os.path.join(save_dir, f'detailed_summary_dovs_beg_{save_subdir}.csv'))\n",
    "# #-----\n",
    "# with open(os.path.join(save_dir, r'warnings.txt'), 'w') as f:\n",
    "#     f.write(warnings_text)"
   ]
  },
  {
   "cell_type": "code",
   "execution_count": null,
   "id": "b9c23948-22ac-45ff-b352-0e6e26cf0661",
   "metadata": {
    "tags": []
   },
   "outputs": [],
   "source": [
    "print(f\"#OUTG_REC_NBs = {len(paths)}\")\n",
    "print(f\"\\tpass: {len(outgs_pass)}\")\n",
    "print(f\"\\tfail: {len(outgs_fail)}\")"
   ]
  },
  {
   "cell_type": "code",
   "execution_count": null,
   "id": "9c16a6a1-0bbe-4744-967d-c0fdbc22f15b",
   "metadata": {},
   "outputs": [],
   "source": [
    "outgs_fail"
   ]
  },
  {
   "cell_type": "code",
   "execution_count": null,
   "id": "c111c868",
   "metadata": {},
   "outputs": [],
   "source": [
    "assert(0)"
   ]
  },
  {
   "cell_type": "markdown",
   "id": "5c57ce29",
   "metadata": {},
   "source": [
    "# ==========================================================="
   ]
  },
  {
   "cell_type": "code",
   "execution_count": null,
   "id": "34a1efb3-1363-4a6c-8127-9ce4197f7009",
   "metadata": {},
   "outputs": [],
   "source": []
  },
  {
   "cell_type": "code",
   "execution_count": null,
   "id": "51ff5eaf-3b57-4ec2-bc45-d95ea6bcc4a5",
   "metadata": {},
   "outputs": [],
   "source": []
  },
  {
   "cell_type": "code",
   "execution_count": null,
   "id": "cf475256-3bed-480b-a33f-6ff41dfbf477",
   "metadata": {},
   "outputs": [],
   "source": [
    "# df_1 = pd.read_pickle(r'C:\\Users\\s346557\\Documents\\LocalData\\dovs_check\\20240811_20240817\\AllOPCOs\\ResultsDEV5\\detailed_summary.pkl')\n",
    "# df_2 = pd.read_pickle(r'C:\\Users\\s346557\\Documents\\LocalData\\dovs_check\\20240811_20240817\\AllOPCOs\\Results5\\detailed_summary.pkl')\n",
    "\n",
    "df_1 = pd.read_pickle(r'C:\\Users\\s346557\\Documents\\LocalData\\dovs_check\\20240811_20240817\\AllOPCOs\\Results_ToTest\\detailed_summary.pkl')\n",
    "df_2 = pd.read_pickle(r'C:\\Users\\s346557\\Documents\\LocalData\\dovs_check\\20240811_20240817\\AllOPCOs\\from_EngLaptop\\ResultsDEV_ToTest\\detailed_summary.pkl')"
   ]
  },
  {
   "cell_type": "code",
   "execution_count": null,
   "id": "2b00d2a3-51df-4429-a571-fbc36dc91604",
   "metadata": {},
   "outputs": [],
   "source": [
    "print(df_1.shape)\n",
    "print(df_2.shape)"
   ]
  },
  {
   "cell_type": "code",
   "execution_count": null,
   "id": "41ae6985-636e-4e65-a2ca-38a0e72ad407",
   "metadata": {},
   "outputs": [],
   "source": [
    "df_1.equals(df_2)"
   ]
  },
  {
   "cell_type": "code",
   "execution_count": null,
   "id": "c736f0f6-0f9d-488b-be99-6d19fa44945c",
   "metadata": {},
   "outputs": [],
   "source": [
    "dffs = Utilities_df.get_dfs_diff(df_1.reset_index(), df_2.reset_index())\n",
    "dffs"
   ]
  },
  {
   "cell_type": "code",
   "execution_count": null,
   "id": "1d786ade-639b-4192-8d50-dfe1f60239a7",
   "metadata": {},
   "outputs": [],
   "source": [
    "print(dffs.index.get_level_values(1).nunique())\n",
    "print(dffs['df1_values'].nunique())\n",
    "print(dffs['df2_values'].nunique())"
   ]
  },
  {
   "cell_type": "code",
   "execution_count": null,
   "id": "205c7f57-d19c-45c3-8cba-7b6e02fc6268",
   "metadata": {},
   "outputs": [],
   "source": []
  },
  {
   "cell_type": "code",
   "execution_count": null,
   "id": "c8adf320-f7aa-4c23-9fc3-2b1e18360741",
   "metadata": {},
   "outputs": [],
   "source": [
    "len(set(df_1.index).symmetric_difference(set(df_2.index)))"
   ]
  },
  {
   "cell_type": "code",
   "execution_count": null,
   "id": "846f5bea-216c-4df0-8c3c-5add84dfe106",
   "metadata": {},
   "outputs": [],
   "source": [
    "[x[1] for x in set(df_1.index).symmetric_difference(set(df_2.index))]"
   ]
  },
  {
   "cell_type": "code",
   "execution_count": null,
   "id": "14099305-a68c-456a-b5c5-4c84a8bc2c83",
   "metadata": {},
   "outputs": [],
   "source": []
  },
  {
   "cell_type": "code",
   "execution_count": null,
   "id": "2a1aa88d-0184-4a49-b4ec-41e7963e5a42",
   "metadata": {},
   "outputs": [],
   "source": []
  },
  {
   "cell_type": "code",
   "execution_count": null,
   "id": "87109a9b-274f-4bee-98aa-33d632396f3b",
   "metadata": {},
   "outputs": [],
   "source": [
    "len(set(df_1.index).difference(set(df_2.index)))"
   ]
  },
  {
   "cell_type": "code",
   "execution_count": null,
   "id": "d4dccca7-e268-493c-b0bc-e8801fbb0b26",
   "metadata": {},
   "outputs": [],
   "source": [
    "len(set(df_2.index).difference(set(df_1.index)))"
   ]
  },
  {
   "cell_type": "code",
   "execution_count": null,
   "id": "58d0a1b8-d3a0-42c4-b222-09c2cab440dd",
   "metadata": {},
   "outputs": [],
   "source": [
    "set(df_2.index).difference(set(df_1.index))"
   ]
  },
  {
   "cell_type": "code",
   "execution_count": null,
   "id": "ae448bf0-d794-4a25-9000-c7e204890cb1",
   "metadata": {},
   "outputs": [],
   "source": [
    "[x[1] for x in set(df_2.index).difference(set(df_1.index))]"
   ]
  },
  {
   "cell_type": "code",
   "execution_count": null,
   "id": "367bc67b-016c-491e-8f94-586bd932acff",
   "metadata": {},
   "outputs": [],
   "source": [
    "set(df_1.index).difference(set(df_2.index))"
   ]
  },
  {
   "cell_type": "code",
   "execution_count": null,
   "id": "39ebff49-c761-4487-953a-b6ed0d73a9e4",
   "metadata": {},
   "outputs": [],
   "source": [
    "[x[1] for x in set(df_1.index).difference(set(df_2.index))]"
   ]
  },
  {
   "cell_type": "code",
   "execution_count": null,
   "id": "2686d7b2-a204-41b6-bbfd-dccf7fb65745",
   "metadata": {},
   "outputs": [],
   "source": [
    "df_1.loc['2376841']"
   ]
  },
  {
   "cell_type": "code",
   "execution_count": null,
   "id": "a786a3bb-4bdb-4b95-a5ce-a8ea62cc55ac",
   "metadata": {},
   "outputs": [],
   "source": [
    "df_2"
   ]
  },
  {
   "cell_type": "code",
   "execution_count": null,
   "id": "f98c806a-7b04-4ba1-bf37-20c28f6fef6a",
   "metadata": {},
   "outputs": [],
   "source": []
  },
  {
   "cell_type": "code",
   "execution_count": null,
   "id": "7c5f6122-03e2-45a3-9de5-47d8c912a9a2",
   "metadata": {},
   "outputs": [],
   "source": [
    "df_2.loc[list(set(df_1.index).symmetric_difference(set(df_2.index)))]"
   ]
  },
  {
   "cell_type": "code",
   "execution_count": null,
   "id": "db798a2b-064f-43ca-ab3d-adc9737cfd58",
   "metadata": {},
   "outputs": [],
   "source": [
    "list(set(df_1.index).intersection(set(df_2.index)))"
   ]
  },
  {
   "cell_type": "code",
   "execution_count": null,
   "id": "ddfa5f3a-163a-47e5-ab56-c08ac29fcac7",
   "metadata": {},
   "outputs": [],
   "source": [
    "df_1.loc[list(set(df_1.index).intersection(set(df_2.index)))].equals(df_2.loc[list(set(df_1.index).intersection(set(df_2.index)))])"
   ]
  },
  {
   "cell_type": "code",
   "execution_count": null,
   "id": "3207d1f7-e06c-4343-a380-bb7a095cac0f",
   "metadata": {},
   "outputs": [],
   "source": [
    "df_1b = df_1.loc[list(set(df_1.index).intersection(set(df_2.index)))].reset_index().copy()\n",
    "df_2b = df_2.loc[list(set(df_1.index).intersection(set(df_2.index)))].reset_index().copy()"
   ]
  },
  {
   "cell_type": "code",
   "execution_count": null,
   "id": "63a31cc3-74f4-4945-b251-9a256b95b3d0",
   "metadata": {},
   "outputs": [],
   "source": [
    "dffs = Utilities_df.get_dfs_diff(df_1b, df_2b)\n",
    "dffs"
   ]
  },
  {
   "cell_type": "code",
   "execution_count": null,
   "id": "dab304c6-f224-461a-aa84-b06d2b5c5f84",
   "metadata": {},
   "outputs": [],
   "source": [
    "dffs.loc[0].iloc[0]['df1_values']"
   ]
  },
  {
   "cell_type": "code",
   "execution_count": null,
   "id": "19b9cdd8-f4fe-4560-b27d-6cfbad2b2a21",
   "metadata": {},
   "outputs": [],
   "source": [
    "dffs.loc[0].iloc[0]['df2_values']"
   ]
  },
  {
   "cell_type": "code",
   "execution_count": null,
   "id": "8fa50397-a3d3-47f8-8c42-8050f686d85b",
   "metadata": {},
   "outputs": [],
   "source": [
    "dffs.loc[0]['df1_values']==dffs.loc[0]['df2_values']"
   ]
  },
  {
   "cell_type": "code",
   "execution_count": null,
   "id": "53f3e487-8a74-46c1-b80b-8845ab060be4",
   "metadata": {},
   "outputs": [],
   "source": [
    "dffs.index.get_level_values(1).unique()"
   ]
  },
  {
   "cell_type": "code",
   "execution_count": null,
   "id": "a5f73424-0483-48bd-b20c-a9c407c432ab",
   "metadata": {},
   "outputs": [],
   "source": [
    "df_1b"
   ]
  },
  {
   "cell_type": "code",
   "execution_count": null,
   "id": "ce891369-d16f-4a48-828a-1302e2bd2ae0",
   "metadata": {},
   "outputs": [],
   "source": []
  },
  {
   "cell_type": "code",
   "execution_count": null,
   "id": "dda9695f-e52d-4b38-a040-4bee052e4896",
   "metadata": {},
   "outputs": [],
   "source": []
  }
 ],
 "metadata": {
  "kernelspec": {
   "display_name": "Python 3 (ipykernel)",
   "language": "python",
   "name": "python3"
  },
  "language_info": {
   "codemirror_mode": {
    "name": "ipython",
    "version": 3
   },
   "file_extension": ".py",
   "mimetype": "text/x-python",
   "name": "python",
   "nbconvert_exporter": "python",
   "pygments_lexer": "ipython3",
   "version": "3.11.7"
  }
 },
 "nbformat": 4,
 "nbformat_minor": 5
}
