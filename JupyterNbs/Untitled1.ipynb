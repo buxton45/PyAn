{
 "cells": [
  {
   "cell_type": "code",
   "execution_count": null,
   "id": "ac407b37",
   "metadata": {},
   "outputs": [],
   "source": [
    "from importlib import reload\n",
    "#reload(Utilities)\n",
    "#reload(clm)\n",
    "# NOTE: To reload a class imported as, e.g., \n",
    "# from module import class\n",
    "# One must call:\n",
    "#   1. import module\n",
    "#   2. reload module\n",
    "#   3. from module import class\n",
    "\n",
    "import sys, os\n",
    "import re\n",
    "from pathlib import Path\n",
    "import json\n",
    "import pickle\n",
    "\n",
    "import pandas as pd\n",
    "import numpy as np\n",
    "from pandas.api.types import is_numeric_dtype, is_datetime64_dtype, is_timedelta64_dtype\n",
    "from scipy import stats\n",
    "import datetime\n",
    "import time\n",
    "from natsort import natsorted, ns, natsort_keygen\n",
    "from packaging import version\n",
    "import copy\n",
    "\n",
    "import itertools\n",
    "\n",
    "import pyodbc\n",
    "#---------------------------------------------------------------------\n",
    "import matplotlib as mpl\n",
    "import matplotlib.pyplot as plt\n",
    "import seaborn as sns\n",
    "from matplotlib.backends.backend_pdf import PdfPages\n",
    "import matplotlib.patches as mpatches\n",
    "from matplotlib.lines import Line2D\n",
    "import matplotlib.ticker as ticker\n",
    "from matplotlib import dates\n",
    "import matplotlib.colors as mcolors\n",
    "import matplotlib.cm as cm #e.g. for cmap=cm.jet\n",
    "#---------------------------------------------------------------------\n",
    "sys.path.insert(0, os.path.realpath('..'))\n",
    "import Utilities_config\n",
    "#-----\n",
    "import CommonLearningMethods as clm\n",
    "#-----\n",
    "from MeterPremise import MeterPremise\n",
    "#-----\n",
    "from AMI_SQL import AMI_SQL\n",
    "from AMINonVee_SQL import AMINonVee_SQL\n",
    "from AMIEndEvents_SQL import AMIEndEvents_SQL\n",
    "from AMIUsgInst_SQL import AMIUsgInst_SQL\n",
    "from DOVSOutages_SQL import DOVSOutages_SQL\n",
    "#-----\n",
    "from GenAn import GenAn\n",
    "from AMINonVee import AMINonVee\n",
    "from AMIEndEvents import AMIEndEvents\n",
    "from AMIEDE_DEV import AMIEDE_DEV\n",
    "from MECPODf import MECPODf\n",
    "from MECPOAn import MECPOAn\n",
    "from MECPOCollection import MECPOCollection\n",
    "from AMIUsgInst import AMIUsgInst\n",
    "from DOVSOutages import DOVSOutages\n",
    "#---------------------------------------------------------------------\n",
    "sys.path.insert(0, Utilities_config.get_sql_aids_dir())\n",
    "import Utilities_sql\n",
    "import TableInfos\n",
    "from TableInfos import TableInfo\n",
    "from SQLElement import SQLElement\n",
    "from SQLElementsCollection import SQLElementsCollection\n",
    "from SQLSelect import SQLSelectElement, SQLSelect\n",
    "from SQLFrom import SQLFrom\n",
    "from SQLWhere import SQLWhereElement, SQLWhere\n",
    "from SQLJoin import SQLJoin, SQLJoinCollection\n",
    "from SQLGroupBy import SQLGroupByElement, SQLGroupBy\n",
    "from SQLHaving import SQLHaving\n",
    "from SQLOrderBy import SQLOrderByElement, SQLOrderBy\n",
    "from SQLQuery import SQLQuery\n",
    "from SQLQueryGeneric import SQLQueryGeneric\n",
    "#---------------------------------------------------------------------\n",
    "#sys.path.insert(0, os.path.join(os.path.realpath('..'), 'Utilities'))\n",
    "sys.path.insert(0, Utilities_config.get_utilities_dir())\n",
    "import Utilities\n",
    "import Utilities_df\n",
    "from Utilities_df import DFConstructType\n",
    "import Utilities_dt\n",
    "import Plot_General\n",
    "import Plot_Box_sns\n",
    "import Plot_Hist\n",
    "import Plot_Bar\n",
    "import GrubbsTest\n",
    "import DataFrameSubsetSlicer\n",
    "from DataFrameSubsetSlicer import DataFrameSubsetSlicer as DFSlicer"
   ]
  },
  {
   "cell_type": "code",
   "execution_count": null,
   "id": "1ba27118",
   "metadata": {},
   "outputs": [],
   "source": [
    "import haversine as hs"
   ]
  },
  {
   "cell_type": "code",
   "execution_count": null,
   "id": "14a377b4",
   "metadata": {},
   "outputs": [],
   "source": [
    "run_testing_data=False\n",
    "fig_num=0\n",
    "\n",
    "dovs_and_end_events_data_dir = r'C:\\Users\\s346557\\Documents\\LocalData\\dovs_and_end_events_data'\n",
    "if run_testing_data:\n",
    "    dovs_and_end_events_data_dir = os.path.join(dovs_and_end_events_data_dir, r'TESTING_DATASETS')\n",
    "\n",
    "files_dir_outg             = os.path.join(dovs_and_end_events_data_dir, r'EndEvents')\n",
    "files_dir_outg_prim_strict = os.path.join(dovs_and_end_events_data_dir, r'EndEvents_prim_strict')\n",
    "files_dir_no_outg = os.path.join(dovs_and_end_events_data_dir, r'EndEvents_NoOutg')\n",
    "\n",
    "file_path_glob = r'end_events_[0-9]*.csv'\n",
    "file_path_regex = None\n",
    "\n",
    "\n",
    "assert_all_cols_equal=True\n",
    "include_normalize_by_nSNs=True\n",
    "inclue_zero_counts=True\n",
    "return_multiindex_outg_reason=False\n",
    "return_normalized_separately=False"
   ]
  },
  {
   "cell_type": "code",
   "execution_count": null,
   "id": "c42022bd",
   "metadata": {},
   "outputs": [],
   "source": [
    "paths_no_outg = Utilities.find_all_paths(\n",
    "    base_dir=files_dir_no_outg, \n",
    "    glob_pattern=file_path_glob, \n",
    "    regex_pattern=file_path_regex\n",
    ")"
   ]
  },
  {
   "cell_type": "code",
   "execution_count": null,
   "id": "d9c87391",
   "metadata": {},
   "outputs": [],
   "source": []
  },
  {
   "cell_type": "code",
   "execution_count": null,
   "id": "da311657",
   "metadata": {},
   "outputs": [],
   "source": [
    "paths_no_outg = Utilities.find_all_paths(\n",
    "    base_dir=files_dir_no_outg, \n",
    "    glob_pattern=file_path_glob, \n",
    "    regex_pattern=file_path_regex\n",
    ")\n",
    "\n",
    "strange_files_no_outg=[]\n",
    "for i in range(len(paths_no_outg)):\n",
    "    if i%100==0:\n",
    "        print(f'Update: {i}/{len(paths_no_outg)}')\n",
    "    path_i=paths_no_outg[i]\n",
    "    end_events_df = GenAn.read_df_from_csv(\n",
    "        read_path=path_i,\n",
    "        cols_and_types_to_convert_dict=None,\n",
    "        to_numeric_errors='coerce',\n",
    "        drop_na_rows_when_exception=True,\n",
    "    )\n",
    "    tmp_df=end_events_df.dropna(subset=['prem_nb'])\n",
    "    tmp_df=tmp_df[tmp_df['prem_nb'] != tmp_df['aep_premise_nb']][['prem_nb', 'aep_premise_nb']]\n",
    "    if len(tmp_df)>0:\n",
    "        print('\\n!!!!!!!!!!!!!!!!!!!!!!!!!!!!!!!!!!!!!!!!!!!!!!!!!!!!!!!!!!')\n",
    "        print(\"end_events_df['prem_nb'] != end_events_df['aep_premise_nb']\")\n",
    "        print(path_i)\n",
    "        print('\\n')\n",
    "        strange_files_no_outg.append(path_i)\n",
    "        \n",
    "print(len(strange_files_no_outg))\n",
    "print(len(paths_no_outg))"
   ]
  },
  {
   "cell_type": "code",
   "execution_count": null,
   "id": "7d2fb94a",
   "metadata": {},
   "outputs": [],
   "source": [
    "paths_outg = Utilities.find_all_paths(\n",
    "    base_dir=files_dir_outg, \n",
    "    glob_pattern=file_path_glob, \n",
    "    regex_pattern=file_path_regex\n",
    ")\n",
    "\n",
    "strange_files_outg=[]\n",
    "for i in range(len(paths_outg)):\n",
    "    if i%100==0:\n",
    "        print(f'Update: {i}/{len(paths_outg)}')\n",
    "    path_i=paths_outg[i]\n",
    "    end_events_df = GenAn.read_df_from_csv(\n",
    "        read_path=path_i,\n",
    "        cols_and_types_to_convert_dict=None,\n",
    "        to_numeric_errors='coerce',\n",
    "        drop_na_rows_when_exception=True,\n",
    "    )\n",
    "    tmp_df=end_events_df.dropna(subset=['prem_nb'])\n",
    "    tmp_df=tmp_df[tmp_df['prem_nb'] != tmp_df['aep_premise_nb']][['prem_nb', 'aep_premise_nb']]\n",
    "    if len(tmp_df)>0:\n",
    "        print('\\n!!!!!!!!!!!!!!!!!!!!!!!!!!!!!!!!!!!!!!!!!!!!!!!!!!!!!!!!!!')\n",
    "        print(\"end_events_df['prem_nb'] != end_events_df['aep_premise_nb']\")\n",
    "        print(path_i)\n",
    "        print('\\n')\n",
    "        strange_files_outg.append(path_i)\n",
    "        \n",
    "print(len(strange_files_outg))\n",
    "print(len(paths_outg))"
   ]
  },
  {
   "cell_type": "code",
   "execution_count": null,
   "id": "9c666b5f",
   "metadata": {},
   "outputs": [],
   "source": [
    "paths_outg_prim_strict = Utilities.find_all_paths(\n",
    "    base_dir=files_dir_outg_prim_strict, \n",
    "    glob_pattern=file_path_glob, \n",
    "    regex_pattern=file_path_regex\n",
    ")\n",
    "\n",
    "strange_files_outg_prim_strict=[]\n",
    "for i in range(len(paths_outg_prim_strict)):\n",
    "    if i%100==0:\n",
    "        print(f'Update: {i}/{len(paths_outg_prim_strict)}')\n",
    "    path_i=paths_outg_prim_strict[i]\n",
    "    end_events_df = GenAn.read_df_from_csv(\n",
    "        read_path=path_i,\n",
    "        cols_and_types_to_convert_dict=None,\n",
    "        to_numeric_errors='coerce',\n",
    "        drop_na_rows_when_exception=True,\n",
    "    )\n",
    "    tmp_df=end_events_df.dropna(subset=['prem_nb'])\n",
    "    tmp_df=tmp_df[tmp_df['prem_nb'] != tmp_df['aep_premise_nb']]\n",
    "    if len(tmp_df)>0:\n",
    "        print('\\n!!!!!!!!!!!!!!!!!!!!!!!!!!!!!!!!!!!!!!!!!!!!!!!!!!!!!!!!!!')\n",
    "        print(\"end_events_df['prem_nb'] != end_events_df['aep_premise_nb']\")\n",
    "        print(path_i)\n",
    "        print(tmp_df['OUTG_REC_NB_GPD_FOR_SQL'].unique().tolist())\n",
    "        print('\\n')\n",
    "        strange_files_outg_prim_strict.append(path_i)\n",
    "        \n",
    "print(len(strange_files_outg_prim_strict))\n",
    "print(len(paths_outg_prim_strict))"
   ]
  },
  {
   "cell_type": "code",
   "execution_count": null,
   "id": "736fe98a",
   "metadata": {},
   "outputs": [],
   "source": [
    "end_events_df"
   ]
  },
  {
   "cell_type": "code",
   "execution_count": null,
   "id": "eb41386e",
   "metadata": {},
   "outputs": [],
   "source": []
  },
  {
   "cell_type": "code",
   "execution_count": null,
   "id": "b6d84e01",
   "metadata": {},
   "outputs": [],
   "source": [
    "end_events_df = GenAn.read_df_from_csv(\n",
    "    read_path=r'C:\\Users\\s346557\\Documents\\LocalData\\dovs_and_end_events_data\\EndEvents_prim_strict\\end_events_1312.csv',\n",
    "    cols_and_types_to_convert_dict=None,\n",
    "    to_numeric_errors='coerce',\n",
    "    drop_na_rows_when_exception=True,\n",
    ")"
   ]
  },
  {
   "cell_type": "code",
   "execution_count": null,
   "id": "23c68428",
   "metadata": {},
   "outputs": [],
   "source": [
    "end_events_df = end_events_df[end_events_df['prem_nb'] != end_events_df['aep_premise_nb']].dropna(subset=['prem_nb'])[[\n",
    "    'issuertracking_id', 'serialnumber', 'mfr_devc_ser_nbr', 'aep_premise_nb', 'prem_nb', 'trsf_pole_nb', 'trsf_pole_nb', 'OUTG_REC_NB_GPD_FOR_SQL'\n",
    "]]"
   ]
  },
  {
   "cell_type": "code",
   "execution_count": null,
   "id": "977e8981",
   "metadata": {},
   "outputs": [],
   "source": [
    "end_events_df.nunique()"
   ]
  },
  {
   "cell_type": "code",
   "execution_count": null,
   "id": "fb792e35",
   "metadata": {},
   "outputs": [],
   "source": [
    "all(end_events_df[['serialnumber', 'mfr_devc_ser_nbr', 'aep_premise_nb', 'prem_nb', 'trsf_pole_nb', 'trsf_pole_nb']].nunique()==1)"
   ]
  },
  {
   "cell_type": "code",
   "execution_count": null,
   "id": "2d86ad00",
   "metadata": {},
   "outputs": [],
   "source": []
  },
  {
   "cell_type": "code",
   "execution_count": null,
   "id": "b3d51581",
   "metadata": {},
   "outputs": [],
   "source": []
  },
  {
   "cell_type": "code",
   "execution_count": null,
   "id": "b032b914",
   "metadata": {},
   "outputs": [],
   "source": [
    "aep_premise_nb = '070298492'\n",
    "prem_nb = '074097774'\n",
    "issuertracking_id = '10-758595530'\n",
    "outg_rec_nb = '10982839'\n",
    "\n",
    "# aep_premise_nb = '074396991'\n",
    "# prem_nb = '076024316'\n",
    "# issuertracking_id = '4-1306732826'\n",
    "# outg_rec_nb = '11755697'"
   ]
  },
  {
   "cell_type": "code",
   "execution_count": null,
   "id": "fb3e65b5",
   "metadata": {},
   "outputs": [],
   "source": []
  },
  {
   "cell_type": "code",
   "execution_count": null,
   "id": "766d6a16",
   "metadata": {},
   "outputs": [],
   "source": [
    "dovs_outg = DOVSOutages(\n",
    "    df_construct_type=DFConstructType.kRunSqlQuery, \n",
    "    build_sql_function=DOVSOutages_SQL.build_sql_outage, \n",
    "    build_sql_function_kwargs=dict(\n",
    "        outg_rec_nbs=[outg_rec_nb], \n",
    "        cols_of_interest=['OUTG_REC_NB'], \n",
    "        include_DOVS_PREMISE_DIM=True, \n",
    "        select_cols_DOVS_PREMISE_DIM=['PREMISE_NB', 'LATITUDE_NB', 'LONGITUDE_NB']\n",
    "    ), \n",
    "    init_df_in_constructor=True\n",
    ")\n",
    "dovs_lat_long=None\n",
    "if dovs_outg.df.shape[0]>0:\n",
    "    dovs_lat_long = dovs_outg.df[['LATITUDE_NB', 'LONGITUDE_NB']].astype(float).mean().tolist()\n",
    "#--------------------------------------------------\n",
    "ede = AMIEndEvents(\n",
    "    df_construct_type=DFConstructType.kRunSqlQuery, \n",
    "    build_sql_function_kwargs=dict(\n",
    "        cols_of_interest=['issuertracking_id', 'serialnumber', 'aep_premise_nb', 'latitude', 'longitude'], \n",
    "        issuertracking_ids=[issuertracking_id]\n",
    "    ), \n",
    "    init_df_in_constructor=True\n",
    ")\n",
    "ede_lat_long=None\n",
    "if ede.df.shape[0]>0:\n",
    "    assert(ede.df.shape[0]==1)\n",
    "    if (ede.df.iloc[0]['latitude'] is not None and \n",
    "        ede.df.iloc[0]['longitude'] is not None):\n",
    "        ede_lat_long = ede.df.iloc[0][['latitude', 'longitude']].astype(float).tolist()\n",
    "#--------------------------------------------------\n",
    "mp_aep_premise_nb = MeterPremise(\n",
    "    df_construct_type=DFConstructType.kRunSqlQuery, \n",
    "    build_sql_function_kwargs=dict(\n",
    "        cols_of_interest=['mfr_devc_ser_nbr', 'prem_nb', 'latitude', 'longitude'], \n",
    "        premise_nb=aep_premise_nb\n",
    "    ), \n",
    "    init_df_in_constructor=True\n",
    ")\n",
    "aep_premise_nb_lat_long=None\n",
    "if mp_aep_premise_nb.df.shape[0]>0:\n",
    "    aep_premise_nb_lat_long = mp_aep_premise_nb.df.iloc[0][['latitude', 'longitude']].astype(float).tolist()\n",
    "#--------------------------------------------------\n",
    "mp_prem_nb = MeterPremise(\n",
    "    df_construct_type=DFConstructType.kRunSqlQuery, \n",
    "    build_sql_function_kwargs=dict(\n",
    "        cols_of_interest=['mfr_devc_ser_nbr', 'prem_nb', 'latitude', 'longitude'], \n",
    "        premise_nb=prem_nb\n",
    "    ), \n",
    "    init_df_in_constructor=True\n",
    ")\n",
    "prem_nb_lat_long=None\n",
    "if mp_prem_nb.df.shape[0]>0:\n",
    "    prem_nb_lat_long = mp_prem_nb.df.iloc[0][['latitude', 'longitude']].astype(float).tolist()\n",
    "#----------------------------------------------------------------------------------------------------\n",
    "if dovs_lat_long is not None and ede_lat_long is not None:\n",
    "    dist_dovs_ede = hs.haversine(\n",
    "        dovs_lat_long, \n",
    "        ede_lat_long\n",
    "    )    \n",
    "#--------------------------------------------------\n",
    "if aep_premise_nb_lat_long is not None and prem_nb_lat_long is not None:\n",
    "    dist_aep_premise_nb_prem_nb = hs.haversine(\n",
    "        aep_premise_nb_lat_long,\n",
    "        prem_nb_lat_long\n",
    "    )\n",
    "#--------------------------------------------------\n",
    "if dovs_lat_long is not None and aep_premise_nb_lat_long is not None:\n",
    "    dist_dovs_aep_premise_nb = hs.haversine(\n",
    "        dovs_lat_long, \n",
    "        aep_premise_nb_lat_long\n",
    "    )\n",
    "    aep_premise_nb_to_dovs.append(dist_dovs_aep_premise_nb)\n",
    "#--------------------------------------------------\n",
    "if dovs_lat_long is not None and prem_nb_lat_long is not None:\n",
    "    dist_dovs_prem_nb = hs.haversine(\n",
    "        dovs_lat_long, \n",
    "        prem_nb_lat_long\n",
    "    )\n",
    "    prem_nb_to_dovs.append(dist_dovs_prem_nb)\n",
    "#--------------------------------------------------"
   ]
  },
  {
   "cell_type": "code",
   "execution_count": null,
   "id": "f3172f88",
   "metadata": {},
   "outputs": [],
   "source": []
  },
  {
   "cell_type": "code",
   "execution_count": null,
   "id": "5937c810",
   "metadata": {},
   "outputs": [],
   "source": [
    "import MeterPremise\n",
    "reload(MeterPremise)\n",
    "from MeterPremise import MeterPremise"
   ]
  },
  {
   "cell_type": "code",
   "execution_count": null,
   "id": "d2db031d",
   "metadata": {},
   "outputs": [],
   "source": [
    "strange_df = GenAn.read_df_from_csv_batch(\n",
    "    paths=strange_files_outg_prim_strict\n",
    ")\n",
    "print(strange_df.shape)\n",
    "strange_df = strange_df[strange_df['prem_nb'] != strange_df['aep_premise_nb']].dropna(subset=['prem_nb'])\n",
    "# strange_df = strange_df[[\n",
    "#     'issuertracking_id', 'serialnumber', 'mfr_devc_ser_nbr', 'aep_premise_nb', 'prem_nb', 'trsf_pole_nb', 'trsf_pole_nb', 'OUTG_REC_NB_GPD_FOR_SQL'\n",
    "# ]]\n",
    "print(strange_df.shape)"
   ]
  },
  {
   "cell_type": "code",
   "execution_count": null,
   "id": "74c5a59e",
   "metadata": {},
   "outputs": [],
   "source": [
    "all_aep_premise_nbs = strange_df['aep_premise_nb'].unique().tolist()\n",
    "all_prem_nbs = strange_df['prem_nb'].unique().tolist()\n",
    "all_outg_rec_nbs = strange_df['OUTG_REC_NB_GPD_FOR_SQL'].unique().tolist()\n",
    "all_issuertracking_ids = strange_df['issuertracking_id'].unique().tolist()"
   ]
  },
  {
   "cell_type": "code",
   "execution_count": null,
   "id": "6a106d99",
   "metadata": {},
   "outputs": [],
   "source": [
    "dovs_outg = DOVSOutages(\n",
    "    df_construct_type=DFConstructType.kRunSqlQuery, \n",
    "    build_sql_function=DOVSOutages_SQL.build_sql_outage, \n",
    "    build_sql_function_kwargs=dict(\n",
    "        outg_rec_nbs=all_outg_rec_nbs, \n",
    "        cols_of_interest=['OUTG_REC_NB'], \n",
    "        include_DOVS_PREMISE_DIM=True, \n",
    "        select_cols_DOVS_PREMISE_DIM=['PREMISE_NB', 'LATITUDE_NB', 'LONGITUDE_NB']\n",
    "    ), \n",
    "    init_df_in_constructor=True\n",
    ")"
   ]
  },
  {
   "cell_type": "code",
   "execution_count": null,
   "id": "4224052c",
   "metadata": {},
   "outputs": [],
   "source": [
    "\n",
    "\n",
    "strange_df=Utilities_dt.strip_tz_info_and_convert_to_dt(\n",
    "    df=strange_df, \n",
    "    time_col='valuesinterval', \n",
    "    placement_col='valuesinterval_local', \n",
    "    run_quick=True, \n",
    "    n_strip=6, \n",
    "    inplace=False\n",
    ")\n",
    "\n",
    "# df_time_col = 'valuesinterval_local'\n",
    "\n",
    "\n",
    "# df_mp_curr=None \n",
    "# df_mp_hist=None\n",
    "# df_and_mp_merge_pairs = [['serialnumber', 'mfr_devc_ser_nbr'], ['aep_premise_nb', 'prem_nb']] #TODO!!!!!!!!!!!!!!!!!!!!!!!!!!!!!!!!!!!!!!!!!\n",
    "# keep_overlap = 'right' #SHOULD BE LEFT, RIGHT, OR BOTH (dflt right to keep correct MP)\n",
    "\n",
    "# assume_one_xfmr_per_PN=True\n",
    "# output_index=None\n",
    "# output_groupby=None\n",
    "# include_prems_wo_active_SNs_when_groupby=True\n",
    "# assert_all_PNs_found=True\n",
    "# df_prem_nb_col='aep_premise_nb'\n",
    "# df_mp_serial_number_col='mfr_devc_ser_nbr'\n",
    "# df_mp_prem_nb_col='prem_nb'\n",
    "# df_mp_install_time_col='inst_ts'\n",
    "# df_mp_removal_time_col='rmvl_ts'\n",
    "# df_mp_trsf_pole_nb_col='trsf_pole_nb'"
   ]
  },
  {
   "cell_type": "code",
   "execution_count": null,
   "id": "e3226401",
   "metadata": {},
   "outputs": [],
   "source": [
    "strange_df = MeterPremise.merge_df_with_active_mp(\n",
    "    df=strange_df, \n",
    "    df_time_col_0='valuesinterval_local', \n",
    "    df_and_mp_merge_pairs=[\n",
    "        ['serialnumber', 'mfr_devc_ser_nbr'], \n",
    "        ['aep_premise_nb', 'prem_nb']\n",
    "    ], \n",
    "    keep_overlap = 'both', \n",
    "    drop_inst_rmvl_cols_after_merge=True, \n",
    "    addtnl_mp_df_curr_cols=['latitude', 'longitude'], \n",
    "    addtnl_mp_df_hist_cols=['latitude', 'longitude'], \n",
    "    df_prem_nb_col='aep_premise_nb', \n",
    ")\n",
    "strange_df=strange_df.rename(columns={x:x[:-2] for x in strange_df.columns if x.endswith('_x')})\n",
    "strange_df=strange_df.rename(columns={x:x[:-2]+'_aeppn' for x in strange_df.columns if x.endswith('_y')})"
   ]
  },
  {
   "cell_type": "code",
   "execution_count": null,
   "id": "bd1889c8",
   "metadata": {},
   "outputs": [],
   "source": []
  },
  {
   "cell_type": "code",
   "execution_count": null,
   "id": "b04a449e",
   "metadata": {},
   "outputs": [],
   "source": [
    "# # IF DONE WITH prem_nb, the resultant DF is empty due to time restriction\n",
    "# # Meaning none of the listed meters actually exist at the time of the event!\n",
    "# strange_df = MeterPremise.merge_df_with_active_mp(\n",
    "#     df=strange_df, \n",
    "#     df_time_col_0='valuesinterval_local', \n",
    "#     df_and_mp_merge_pairs=[\n",
    "#         ['mfr_devc_ser_nbr', 'mfr_devc_ser_nbr'], \n",
    "#         ['prem_nb', 'prem_nb']\n",
    "#     ], \n",
    "#     keep_overlap = 'both', \n",
    "#     drop_inst_rmvl_cols_after_merge=True, \n",
    "#     addtnl_mp_df_curr_cols=['latitude', 'longitude'], \n",
    "#     addtnl_mp_df_hist_cols=['latitude', 'longitude'], \n",
    "#     df_prem_nb_col='prem_nb', \n",
    "# )\n",
    "# strange_df=strange_df.rename(columns={x:x[:-2] for x in strange_df.columns if x.endswith('_x')})\n",
    "# strange_df=strange_df.rename(columns={x:x[:-2]+'_pn' for x in strange_df.columns if x.endswith('_y')})"
   ]
  },
  {
   "cell_type": "code",
   "execution_count": null,
   "id": "638f52a4",
   "metadata": {},
   "outputs": [],
   "source": [
    "strange_df"
   ]
  },
  {
   "cell_type": "code",
   "execution_count": null,
   "id": "fa95cb36",
   "metadata": {},
   "outputs": [],
   "source": [
    "strange_df[[\n",
    "    'issuertracking_id', 'serialnumber', 'mfr_devc_ser_nbr', 'aep_premise_nb', 'prem_nb', 'trsf_pole_nb', 'trsf_pole_nb', 'OUTG_REC_NB_GPD_FOR_SQL'\n",
    "]].head()"
   ]
  },
  {
   "cell_type": "code",
   "execution_count": null,
   "id": "42194793",
   "metadata": {},
   "outputs": [],
   "source": []
  },
  {
   "cell_type": "code",
   "execution_count": null,
   "id": "6e816f54",
   "metadata": {},
   "outputs": [],
   "source": [
    "mp_prem_nb = MeterPremise(\n",
    "    df_construct_type=DFConstructType.kRunSqlQuery, \n",
    "    build_sql_function_kwargs=dict(\n",
    "        cols_of_interest=['mfr_devc_ser_nbr', 'prem_nb', 'latitude', 'longitude'], \n",
    "        premise_nb=all_prem_nbs\n",
    "    ), \n",
    "    init_df_in_constructor=True\n",
    ")"
   ]
  },
  {
   "cell_type": "code",
   "execution_count": null,
   "id": "68cd7dfd",
   "metadata": {},
   "outputs": [],
   "source": [
    "mp_aep_premise_nb = MeterPremise(\n",
    "    df_construct_type=DFConstructType.kRunSqlQuery, \n",
    "    build_sql_function_kwargs=dict(\n",
    "        cols_of_interest=['mfr_devc_ser_nbr', 'prem_nb', 'latitude', 'longitude'], \n",
    "        premise_nb=all_aep_premise_nbs\n",
    "    ), \n",
    "    init_df_in_constructor=True\n",
    ")"
   ]
  },
  {
   "cell_type": "code",
   "execution_count": null,
   "id": "022211d9",
   "metadata": {},
   "outputs": [],
   "source": [
    "ede = AMIEndEvents(\n",
    "    df_construct_type=DFConstructType.kRunSqlQuery, \n",
    "    build_sql_function_kwargs=dict(\n",
    "        cols_of_interest=['issuertracking_id', 'serialnumber', 'aep_premise_nb', 'latitude', 'longitude'], \n",
    "        issuertracking_ids=all_issuertracking_ids\n",
    "    ), \n",
    "    init_df_in_constructor=True\n",
    ")"
   ]
  },
  {
   "cell_type": "code",
   "execution_count": null,
   "id": "7985f17a",
   "metadata": {},
   "outputs": [],
   "source": []
  },
  {
   "cell_type": "code",
   "execution_count": null,
   "id": "105ed902",
   "metadata": {},
   "outputs": [],
   "source": [
    "strange_df.head()"
   ]
  },
  {
   "cell_type": "code",
   "execution_count": null,
   "id": "3b1cc77d",
   "metadata": {},
   "outputs": [],
   "source": [
    "dovs_outg_df                = dovs_outg.df.copy()\n",
    "mp_aep_premise_nb_df        = mp_aep_premise_nb.df.copy()\n",
    "mp_prem_nb_df               = mp_prem_nb.df.copy()\n",
    "ede_df                      = ede.df.copy()\n",
    "\n",
    "mp_aep_premise_nb_df = mp_aep_premise_nb_df.rename(columns={'latitude':'latitude_aep_premise_nb', 'longitude':'longitude_aep_premise_nb'})\n",
    "mp_prem_nb_df = mp_prem_nb_df.rename(columns={'latitude':'latitude_prem_nb', 'longitude':'longitude_prem_nb'})\n",
    "\n",
    "assert(mp_aep_premise_nb_df.shape[0]==mp_aep_premise_nb_df['prem_nb'].nunique())\n",
    "assert(mp_prem_nb_df.shape[0]==mp_prem_nb_df['prem_nb'].nunique())"
   ]
  },
  {
   "cell_type": "code",
   "execution_count": null,
   "id": "33ff670f",
   "metadata": {},
   "outputs": [],
   "source": [
    "strange_df = pd.merge(\n",
    "    strange_df, \n",
    "    mp_aep_premise_nb_df, \n",
    "    left_on=['aep_premise_nb'], \n",
    "    right_on=['prem_nb'], \n",
    "    how='left'\n",
    ")\n",
    "strange_df=strange_df.drop(columns=['prem_nb_y', 'mfr_devc_ser_nbr_y'])\n",
    "strange_df=strange_df.rename(columns={'prem_nb_x':'prem_nb', 'mfr_devc_ser_nbr_x':'mfr_devc_ser_nbr'})"
   ]
  },
  {
   "cell_type": "code",
   "execution_count": null,
   "id": "5c506278",
   "metadata": {},
   "outputs": [],
   "source": [
    "strange_df = pd.merge(\n",
    "    strange_df, \n",
    "    mp_prem_nb_df, \n",
    "    left_on=['prem_nb'], \n",
    "    right_on=['prem_nb'], \n",
    "    how='left'\n",
    ")\n",
    "strange_df=strange_df.drop(columns=['mfr_devc_ser_nbr_y'])\n",
    "strange_df=strange_df.rename(columns={'mfr_devc_ser_nbr_x':'mfr_devc_ser_nbr'})"
   ]
  },
  {
   "cell_type": "code",
   "execution_count": null,
   "id": "64c387ae",
   "metadata": {},
   "outputs": [],
   "source": [
    "strange_df = pd.merge(\n",
    "    strange_df, \n",
    "    ede_df.rename(columns={'latitude':'latitude_ede', 'longitude':'longitude_ede'}).drop(columns=['aep_premise_nb']), \n",
    "    left_on=['issuertracking_id'], \n",
    "    right_on=['issuertracking_id'], \n",
    "    how='left'\n",
    ")\n",
    "strange_df=strange_df.drop(columns=['serialnumber_y'])\n",
    "strange_df=strange_df.rename(columns={'serialnumber_x':'serialnumber'})"
   ]
  },
  {
   "cell_type": "code",
   "execution_count": null,
   "id": "27628681",
   "metadata": {},
   "outputs": [],
   "source": [
    "strange_df.shape"
   ]
  },
  {
   "cell_type": "code",
   "execution_count": null,
   "id": "556f7ba3",
   "metadata": {},
   "outputs": [],
   "source": [
    "strange_df = Utilities_df.change_empty_entries_in_col_and_convert_to_type(strange_df, 'latitude_aep_premise_nb')\n",
    "strange_df = Utilities_df.change_empty_entries_in_col_and_convert_to_type(strange_df, 'longitude_aep_premise_nb')\n",
    "\n",
    "strange_df = Utilities_df.change_empty_entries_in_col_and_convert_to_type(strange_df, 'latitude_aeppn')\n",
    "strange_df = Utilities_df.change_empty_entries_in_col_and_convert_to_type(strange_df, 'longitude_aeppn')\n",
    "\n",
    "strange_df = Utilities_df.change_empty_entries_in_col_and_convert_to_type(strange_df, 'latitude_prem_nb')\n",
    "strange_df = Utilities_df.change_empty_entries_in_col_and_convert_to_type(strange_df, 'longitude_prem_nb')\n",
    "\n",
    "strange_df = Utilities_df.change_empty_entries_in_col_and_convert_to_type(strange_df, 'latitude_ede')\n",
    "strange_df = Utilities_df.change_empty_entries_in_col_and_convert_to_type(strange_df, 'longitude_ede')"
   ]
  },
  {
   "cell_type": "code",
   "execution_count": null,
   "id": "98325c36",
   "metadata": {},
   "outputs": [],
   "source": [
    "strange_df['diff_aep_premise_nb_prem_nb'] = strange_df.apply(\n",
    "    lambda x:hs.haversine(\n",
    "        x[['latitude_aep_premise_nb', 'longitude_aep_premise_nb']], \n",
    "        x[['latitude_prem_nb', 'longitude_prem_nb']]\n",
    "    ), \n",
    "    axis=1\n",
    ")"
   ]
  },
  {
   "cell_type": "code",
   "execution_count": null,
   "id": "ac6aba1d",
   "metadata": {},
   "outputs": [],
   "source": [
    "strange_df['diff_aeppn_prem_nb'] = strange_df.apply(\n",
    "    lambda x:hs.haversine(\n",
    "        x[['latitude_aeppn', 'longitude_aeppn']], \n",
    "        x[['latitude_prem_nb', 'longitude_prem_nb']]\n",
    "    ), \n",
    "    axis=1\n",
    ")"
   ]
  },
  {
   "cell_type": "code",
   "execution_count": null,
   "id": "27eb828e",
   "metadata": {},
   "outputs": [],
   "source": [
    "strange_df['diff_ede_aeppn'] = strange_df.apply(\n",
    "    lambda x:hs.haversine(\n",
    "        x[['latitude_ede', 'longitude_ede']], \n",
    "        x[['latitude_aeppn', 'longitude_aeppn']]\n",
    "    ), \n",
    "    axis=1\n",
    ")"
   ]
  },
  {
   "cell_type": "code",
   "execution_count": null,
   "id": "49c71233",
   "metadata": {},
   "outputs": [],
   "source": [
    "strange_df['diff_ede_prem_nb'] = strange_df.apply(\n",
    "    lambda x:hs.haversine(\n",
    "        x[['latitude_ede', 'longitude_ede']], \n",
    "        x[['latitude_prem_nb', 'longitude_prem_nb']]\n",
    "    ), \n",
    "    axis=1\n",
    ")"
   ]
  },
  {
   "cell_type": "code",
   "execution_count": null,
   "id": "6ef15e57",
   "metadata": {},
   "outputs": [],
   "source": [
    "dovs_outg_mean_df = dovs_outg_df.groupby('OUTG_REC_NB')[['LATITUDE_NB', 'LONGITUDE_NB']].mean()"
   ]
  },
  {
   "cell_type": "code",
   "execution_count": null,
   "id": "11320fcf",
   "metadata": {},
   "outputs": [],
   "source": [
    "# strange_df.groupby('OUTG_REC_NB_GPD_FOR_SQL').apply(\n",
    "#     lambda x:hs.haversine(\n",
    "#         x[['latitude_aep_premise_nb', 'longitude_aep_premise_nb']], \n",
    "#         dovs_outg_mean_df.loc[x.name][['LATITUDE_NB', 'LONGITUDE_NB']]\n",
    "#     )\n",
    "# )"
   ]
  },
  {
   "cell_type": "code",
   "execution_count": null,
   "id": "117e0a6f",
   "metadata": {},
   "outputs": [],
   "source": [
    "strange_df[['diff_aeppn_prem_nb', 'diff_ede_aeppn', 'diff_ede_prem_nb']]"
   ]
  },
  {
   "cell_type": "code",
   "execution_count": null,
   "id": "8c50ba19",
   "metadata": {},
   "outputs": [],
   "source": [
    "strange_df['diff_dovs_aep_premise_nb'] = np.nan\n",
    "for idx_i, row_i in strange_df.iterrows():\n",
    "    diff = hs.haversine(\n",
    "        row_i[['latitude_aep_premise_nb', 'longitude_aep_premise_nb']], \n",
    "        dovs_outg_mean_df.loc[row_i['OUTG_REC_NB_GPD_FOR_SQL']][['LATITUDE_NB', 'LONGITUDE_NB']]\n",
    "    )\n",
    "    strange_df.loc[idx_i, 'diff_dovs_aep_premise_nb'] = diff"
   ]
  },
  {
   "cell_type": "code",
   "execution_count": null,
   "id": "d19006eb",
   "metadata": {},
   "outputs": [],
   "source": [
    "strange_df['diff_dovs_aeppn'] = np.nan\n",
    "for idx_i, row_i in strange_df.iterrows():\n",
    "    diff = hs.haversine(\n",
    "        row_i[['latitude_aeppn', 'longitude_aeppn']], \n",
    "        dovs_outg_mean_df.loc[row_i['OUTG_REC_NB_GPD_FOR_SQL']][['LATITUDE_NB', 'LONGITUDE_NB']]\n",
    "    )\n",
    "    strange_df.loc[idx_i, 'diff_dovs_aeppn'] = diff"
   ]
  },
  {
   "cell_type": "code",
   "execution_count": null,
   "id": "206139fc",
   "metadata": {},
   "outputs": [],
   "source": [
    "strange_df['diff_dovs_prem_nb'] = np.nan\n",
    "for idx_i, row_i in strange_df.iterrows():\n",
    "    diff = hs.haversine(\n",
    "        row_i[['latitude_prem_nb', 'longitude_prem_nb']], \n",
    "        dovs_outg_mean_df.loc[row_i['OUTG_REC_NB_GPD_FOR_SQL']][['LATITUDE_NB', 'LONGITUDE_NB']]\n",
    "    )\n",
    "    strange_df.loc[idx_i, 'diff_dovs_prem_nb'] = diff"
   ]
  },
  {
   "cell_type": "code",
   "execution_count": null,
   "id": "97bab3c6",
   "metadata": {},
   "outputs": [],
   "source": [
    "strange_df['diff_dovs_ede'] = np.nan\n",
    "for idx_i, row_i in strange_df.iterrows():\n",
    "    diff = hs.haversine(\n",
    "        row_i[['latitude_ede', 'longitude_ede']], \n",
    "        dovs_outg_mean_df.loc[row_i['OUTG_REC_NB_GPD_FOR_SQL']][['LATITUDE_NB', 'LONGITUDE_NB']]\n",
    "    )\n",
    "    strange_df.loc[idx_i, 'diff_dovs_ede'] = diff"
   ]
  },
  {
   "cell_type": "code",
   "execution_count": null,
   "id": "e08115a5",
   "metadata": {},
   "outputs": [],
   "source": [
    "strange_df.columns"
   ]
  },
  {
   "cell_type": "code",
   "execution_count": null,
   "id": "bdadc0ca",
   "metadata": {},
   "outputs": [],
   "source": [
    "diff_cols = [\n",
    "    'diff_aeppn_prem_nb','diff_ede_aeppn', 'diff_ede_prem_nb',\n",
    "    'diff_dovs_aeppn', 'diff_dovs_aep_premise_nb', 'diff_dovs_prem_nb', 'diff_dovs_ede'\n",
    "]"
   ]
  },
  {
   "cell_type": "code",
   "execution_count": null,
   "id": "bea7a0d9",
   "metadata": {},
   "outputs": [],
   "source": [
    "strange_df[diff_cols].describe()"
   ]
  },
  {
   "cell_type": "code",
   "execution_count": null,
   "id": "b1cbc858",
   "metadata": {},
   "outputs": [],
   "source": [
    "strange_df"
   ]
  },
  {
   "cell_type": "code",
   "execution_count": null,
   "id": "e5833f44",
   "metadata": {},
   "outputs": [],
   "source": []
  },
  {
   "cell_type": "code",
   "execution_count": null,
   "id": "59bc1cc8",
   "metadata": {},
   "outputs": [],
   "source": []
  },
  {
   "cell_type": "code",
   "execution_count": null,
   "id": "d14236ca",
   "metadata": {},
   "outputs": [],
   "source": []
  },
  {
   "cell_type": "code",
   "execution_count": null,
   "id": "5d566de8",
   "metadata": {},
   "outputs": [],
   "source": []
  },
  {
   "cell_type": "code",
   "execution_count": null,
   "id": "1bc4bab9",
   "metadata": {},
   "outputs": [],
   "source": [
    "run_testing_data=False\n",
    "fig_num=0\n",
    "\n",
    "dovs_and_end_events_data_dir = r'C:\\Users\\s346557\\Documents\\LocalData\\dovs_and_end_events_data'\n",
    "if run_testing_data:\n",
    "    dovs_and_end_events_data_dir = os.path.join(dovs_and_end_events_data_dir, r'TESTING_DATASETS')\n",
    "\n",
    "files_dir_outg             = os.path.join(dovs_and_end_events_data_dir, r'EndEvents')\n",
    "files_dir_outg_prim_strict = os.path.join(dovs_and_end_events_data_dir, r'EndEvents_prim_strict')\n",
    "files_dir_no_outg = os.path.join(dovs_and_end_events_data_dir, r'EndEvents_NoOutg')\n",
    "\n",
    "file_path_glob = r'end_events_[0-9]*.csv'\n",
    "file_path_regex = None\n",
    "\n",
    "assert_all_cols_equal=True\n",
    "include_normalize_by_nSNs=True\n",
    "inclue_zero_counts=True\n",
    "return_multiindex_outg_reason=False\n",
    "return_normalized_separately=False\n",
    "\n",
    "\n",
    "if include_normalize_by_nSNs and not return_normalized_separately:\n",
    "    normalize_by_nSNs_included=True\n",
    "else:\n",
    "    normalize_by_nSNs_included=False\n",
    "    \n",
    "xfmr_equip_typ_nms_of_interest = ['TRANSFORMER, OH', 'TRANSFORMER, UG']\n",
    "\n",
    "# save_dir_base_pkls = os.path.join(Utilities.get_local_data_dir(), r'dovs_and_end_events_data', 'rcpo_dfs', 'BEFORE_BACKFILL')\n",
    "# save_dir_base_pkls = os.path.join(Utilities.get_local_data_dir(), r'dovs_and_end_events_data', 'rcpo_dfs_NEW')\n",
    "save_dir_base_pkls = os.path.join(Utilities.get_local_data_dir(), r'dovs_and_end_events_data', 'rcpo_dfs_GRP_BY_OUTG_AND_XFMR')\n",
    "\n",
    "normalize_by_time_interval=True"
   ]
  },
  {
   "cell_type": "code",
   "execution_count": null,
   "id": "d4ec6770",
   "metadata": {},
   "outputs": [],
   "source": [
    "mecpo_coll_full = MECPOCollection(\n",
    "    mecpo_coll=None, \n",
    "    coll_label = 'Outages (All Xfmrs)', \n",
    "    barplot_kwargs_shared = dict(facecolor='red'), \n",
    "    read_and_load_all_pickles=True, \n",
    "    pkls_base_dir=save_dir_base_pkls,\n",
    "    days_min_max_outg_td_windows=[\n",
    "        [1,5], [6,10], [11,15], [16,20], [21,25], [26,30]\n",
    "    ], \n",
    "    pkls_sub_dirs=None,\n",
    "    naming_tag=None,\n",
    "    normalize_by_time_interval=normalize_by_time_interval, \n",
    "    are_no_outg=False    \n",
    ")"
   ]
  },
  {
   "cell_type": "code",
   "execution_count": null,
   "id": "0d34a461",
   "metadata": {},
   "outputs": [],
   "source": [
    "mecpo_coll_full.mecpo_an_keys"
   ]
  },
  {
   "cell_type": "code",
   "execution_count": null,
   "id": "fff2246f",
   "metadata": {},
   "outputs": [],
   "source": [
    "mecpo_coll_full.cpo_df_names"
   ]
  },
  {
   "cell_type": "code",
   "execution_count": null,
   "id": "96153fc5",
   "metadata": {},
   "outputs": [],
   "source": [
    "mecpo_coll_full.get_cpo_df('outg_td_window_6_to_10_days', 'rcpo_df_norm_by_xfmr_nSNs')"
   ]
  },
  {
   "cell_type": "code",
   "execution_count": null,
   "id": "d57c62a0",
   "metadata": {},
   "outputs": [],
   "source": [
    "mecpo_coll_full.get_cpo_df('outg_td_window_6_to_10_days', 'rcpo_df_norm_by_outg_nSNs')"
   ]
  },
  {
   "cell_type": "code",
   "execution_count": null,
   "id": "234b3ef2",
   "metadata": {},
   "outputs": [],
   "source": []
  },
  {
   "cell_type": "code",
   "execution_count": null,
   "id": "05ba8e0b",
   "metadata": {},
   "outputs": [],
   "source": [
    "# #-------------------------\n",
    "# mecpo_coll_full = MECPOCollection(\n",
    "#     mecpo_coll=None, \n",
    "#     coll_label = 'Outages (All Xfmrs)', \n",
    "#     barplot_kwargs_shared = dict(facecolor='red'), \n",
    "#     read_and_load_all_pickles=True, \n",
    "#     pkls_base_dir=save_dir_base_pkls,\n",
    "#     days_min_max_outg_td_windows=[\n",
    "#         [1,5], [6,10], [11,15], [16,20], [21,25], [26,30]\n",
    "#     ], \n",
    "#     pkls_sub_dirs=None,\n",
    "#     naming_tag=None,\n",
    "#     normalize_by_time_interval=normalize_by_time_interval, \n",
    "#     are_no_outg=False    \n",
    "# )\n",
    "# #-------------------------\n",
    "# mecpo_coll_drct = MECPOCollection(\n",
    "#     mecpo_coll=None, \n",
    "#     coll_label = 'Outages (Xfmr tied to Outg. Location ID)', \n",
    "#     barplot_kwargs_shared = dict(facecolor='green'), \n",
    "#     read_and_load_all_pickles=True, \n",
    "#     pkls_base_dir=save_dir_base_pkls,\n",
    "#     days_min_max_outg_td_windows=[\n",
    "#         [1,5], [6,10], [11,15], [16,20], [21,25], [26,30]\n",
    "#     ], \n",
    "#     pkls_sub_dirs=None,\n",
    "#     naming_tag='_prim_strict',\n",
    "#     normalize_by_time_interval=normalize_by_time_interval, \n",
    "#     are_no_outg=False    \n",
    "# )\n",
    "# #-------------------------\n",
    "# mecpo_coll_no_outg = MECPOCollection(\n",
    "#     mecpo_coll=None, \n",
    "#     coll_label = 'No Outages', \n",
    "#     barplot_kwargs_shared = dict(facecolor='orange'), \n",
    "#     read_and_load_all_pickles=True, \n",
    "#     pkls_base_dir=save_dir_base_pkls,\n",
    "#     days_min_max_outg_td_windows=[\n",
    "#         [1,5], [6,10], [11,15], [16,20], [21,25], [26,30]\n",
    "#     ], \n",
    "#     pkls_sub_dirs=None,\n",
    "#     naming_tag='_no_outg',\n",
    "#     normalize_by_time_interval=normalize_by_time_interval, \n",
    "#     are_no_outg=True    \n",
    "# )\n",
    "# #--------------------------------------------------\n",
    "# old_to_new_keys_dict = {\n",
    "#     'outg_td_window_1_to_5_days'  :'01-05 Days',\n",
    "#     'outg_td_window_6_to_10_days' :'06-10 Days',\n",
    "#     'outg_td_window_11_to_15_days':'11-15 Days',\n",
    "#     'outg_td_window_16_to_20_days':'16-20 Days',\n",
    "#     'outg_td_window_21_to_25_days':'21-25 Days',\n",
    "#     'outg_td_window_26_to_30_days':'26-30 Days'\n",
    "# }\n",
    "# mecpo_coll_full.change_mecpo_an_keys(old_to_new_keys_dict)\n",
    "# mecpo_coll_drct.change_mecpo_an_keys(old_to_new_keys_dict)\n",
    "# mecpo_coll_no_outg.change_mecpo_an_keys(old_to_new_keys_dict)\n",
    "# #--------------------------------------------------\n",
    "# mecpo_an_keys = list(old_to_new_keys_dict.values())"
   ]
  },
  {
   "cell_type": "code",
   "execution_count": null,
   "id": "c98cf2bf",
   "metadata": {},
   "outputs": [],
   "source": []
  },
  {
   "cell_type": "code",
   "execution_count": null,
   "id": "95289913",
   "metadata": {},
   "outputs": [],
   "source": []
  },
  {
   "cell_type": "code",
   "execution_count": null,
   "id": "8400fba4",
   "metadata": {},
   "outputs": [],
   "source": [
    "we.shape"
   ]
  },
  {
   "cell_type": "code",
   "execution_count": null,
   "id": "3254936f",
   "metadata": {},
   "outputs": [],
   "source": [
    "we = pd.read_csv(r'C:\\Users\\s346557\\Documents\\LocalData\\dovs_and_end_events_data\\20210101_20211231\\df_outage_OG.csv')"
   ]
  },
  {
   "cell_type": "code",
   "execution_count": null,
   "id": "1c983ee3",
   "metadata": {},
   "outputs": [],
   "source": [
    "we['OUTG_REC_NB'].nunique()"
   ]
  },
  {
   "cell_type": "code",
   "execution_count": null,
   "id": "bd80ebea",
   "metadata": {},
   "outputs": [],
   "source": []
  },
  {
   "cell_type": "code",
   "execution_count": null,
   "id": "366ab28e",
   "metadata": {},
   "outputs": [],
   "source": []
  },
  {
   "cell_type": "code",
   "execution_count": null,
   "id": "c69d17df",
   "metadata": {},
   "outputs": [],
   "source": []
  },
  {
   "cell_type": "code",
   "execution_count": null,
   "id": "c34d8202",
   "metadata": {},
   "outputs": [],
   "source": []
  },
  {
   "cell_type": "code",
   "execution_count": null,
   "id": "df27c266",
   "metadata": {},
   "outputs": [],
   "source": []
  }
 ],
 "metadata": {
  "kernelspec": {
   "display_name": "Python 3 (ipykernel)",
   "language": "python",
   "name": "python3"
  },
  "language_info": {
   "codemirror_mode": {
    "name": "ipython",
    "version": 3
   },
   "file_extension": ".py",
   "mimetype": "text/x-python",
   "name": "python",
   "nbconvert_exporter": "python",
   "pygments_lexer": "ipython3",
   "version": "3.9.7"
  }
 },
 "nbformat": 4,
 "nbformat_minor": 5
}
